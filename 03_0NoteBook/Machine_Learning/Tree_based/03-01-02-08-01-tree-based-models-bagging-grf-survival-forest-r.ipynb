{
  "nbformat": 4,
  "nbformat_minor": 0,
  "metadata": {
    "colab": {
      "provenance": [],
      "toc_visible": true,
      "authorship_tag": "ABX9TyPIN7T/kL3pQw1MLkwVbnel",
      "include_colab_link": true
    },
    "kernelspec": {
      "name": "python3",
      "display_name": "Python 3"
    },
    "language_info": {
      "name": "python"
    }
  },
  "cells": [
    {
      "cell_type": "markdown",
      "metadata": {
        "id": "view-in-github",
        "colab_type": "text"
      },
      "source": [
        "<a href=\"https://colab.research.google.com/github/zia207/r-colab/blob/main/03_0NoteBook/Machine_Learning/Tree_based/03-01-02-08-01-tree-based-models-bagging-grf-survival-forest-r.ipynb\" target=\"_parent\"><img src=\"https://colab.research.google.com/assets/colab-badge.svg\" alt=\"Open In Colab\"/></a>"
      ]
    },
    {
      "cell_type": "markdown",
      "source": [
        "![alt text](http://drive.google.com/uc?export=view&id=1bLQ3nhDbZrCCqy_WCxxckOne2lgVvn3l)"
      ],
      "metadata": {
        "id": "zYZbTX0qQrZb"
      }
    },
    {
      "cell_type": "markdown",
      "source": [
        "# 2.8.1 Survival Forest\n",
        "\n",
        "A **Survival Forest** in the `{grf}` package in R is a specialized random forest model designed for analyzing right-censored survival data, estimating conditional survival functions, and supporting causal inference with survival outcomes. It extends the generalized random forest framework to handle survival analysis tasks, such as estimating the probability of survival past a given time point conditional on covariates, $(t, x) = P(T > t | X = x)$. Below, I’ll explain the Survival Forest in `{grf}`, compare it to Random Survival Forests in the `{randomForestSRC}` and `{DynForest}` packages, and highlight key differences in their design, functionality, and use cases."
      ],
      "metadata": {
        "id": "RGBfrL2GQoII"
      }
    },
    {
      "cell_type": "markdown",
      "source": [
        "## Overview\n",
        "\n",
        "The `survival_forest()` function in the `{grf}` package trains a forest for right-censored survival data, focusing on estimating the **conditional survival function** $S(t, x)$, which represents the probability that the survival time $T$ exceeds time $t$ given covariates $X = x$. It is part of the Generalized Random Forests (GRF) framework, which emphasizes flexible, non-parametric estimation and inference, including support for causal survival analysis.\n",
        "\n",
        "\n"
      ],
      "metadata": {
        "id": "S77MsgmqIYD0"
      }
    },
    {
      "cell_type": "markdown",
      "source": [
        "### Key Features\n",
        "\n",
        "-   `Honest Estimation`: Reduces bias by separating data for splits and leaf estimates.[ ](https://rdrr.io/cran/grf/man/grf-package.html)\n",
        "-   `Causal Survival Analysis`: Supports estimating heterogeneous treatment effects for survival outcomes using `causal_survival_forest()`.[ ](https://grf-labs.github.io/grf/)\n",
        "-   `Missing Data`: Handles missing covariates via imputation methods.\n",
        "-   `Statistical Inference`: Provides confidence intervals for survival function estimates and treatment effects.[ ](https://rdrr.io/cran/grf/man/grf-package.html)\n",
        "-   `Non-Parametric`: Makes no distributional assumptions, suitable for complex survival data.\n"
      ],
      "metadata": {
        "id": "VwEoykvwI2dS"
      }
    },
    {
      "cell_type": "markdown",
      "source": [
        "### How It Works\n",
        "\n",
        "1.  Input Data:\n",
        "\n",
        "  -   A feature matrix $X$ (covariates).\n",
        "  -   A vector of observed times $Y$ (minimum of survival time and censoring time).\n",
        "  -   A vector of censoring indicators $D$ (1 if the event is observed, 0 if censored).\n",
        "  -   Parameters like `num.trees`, `honesty`, and `min.node.size`.\n",
        "\n",
        "2.  Tree Construction\n",
        "\n",
        "  -   Trees are grown using bootstrap samples and random feature selection, as in standard random forests.\n",
        "  -   Splits are chosen to maximize heterogeneity in the survival function, using a criterion tailored for survival data (e.g., log-rank or related statistics).\n",
        "  -   If `honesty = TRUE`, data is split into two subsets: one for building the tree structure and another for estimating survival functions in the leaves.\n",
        "\n",
        "3.  Prediction\n",
        "\n",
        "   -   For a new data point $x$, the forest estimates $S(t, x)$ by averaging survival function estimates across trees, based on the Kaplan-Meier estimator or similar methods within each leaf.\n",
        "\n",
        "4.  Output\n",
        "\n",
        "  -   Conditional survival function estimates for specified time points.\n",
        "  -   Supports causal survival analysis (e.g., via `causal_survival_forest()` for heterogeneous treatment effects with censored data).\n",
        "  -   Provides confidence intervals and variable importance measures."
      ],
      "metadata": {
        "id": "HVyDC3TvQkyB"
      }
    },
    {
      "cell_type": "markdown",
      "source": [
        "### Use Case\n",
        "\n",
        "-   Estimating conditional survival probabilities (e.g., patient survival given clinical features).\n",
        "-   Causal inference with survival outcomes (e.g., treatment effects in clinical trials with censoring).\n"
      ],
      "metadata": {
        "id": "iQ-vcH8iUBDa"
      }
    },
    {
      "cell_type": "markdown",
      "source": [
        "### Comparison of Survival Forest (`{grf}`), Random Survival Forest (`{randomForestSRC}`), and Dynamic Random Forest (`{DynForest}`)\n",
        "\n",
        "| **Aspect** | **Survival Forest (`{grf}`)** | **Random Survival Forest (`{randomForestSRC}`)** | **Dynamic Random Forest (`{DynForest}`)** |\n",
        "|-----------------|-----------------|---------------------|------------------|\n",
        "| `Primary Focus` | Estimating conditional survival functions and causal effects. | General survival analysis with rich diagnostics. | Survival analysis with time-dependent covariates. |\n",
        "| `Input Data` | Static covariates, right-censored survival data (`Y`, `D`). | Static covariates, `Surv(time, status)`. | Time-dependent covariates, longitudinal data. |\n",
        "| `Splitting Criterion` | Heterogeneity in survival function (e.g., log-rank-based). | Log-rank, log-rank score, or random splitting. | Log-rank adapted for time-dependent covariates. |\n",
        "| `Honest Estimation` | Supported (reduces bias). | Not explicitly supported. | Not explicitly supported. |\n",
        "| `Causal Inference` | Strong support via `causal_survival_forest()`. | Limited (requires post-processing). | Not a primary focus. |\n",
        "| `Time-Dependent Covariates` | Not supported. | Not supported. | Supported (core feature). |\n",
        "| `Prediction Output` | Conditional survival function $S(t, x)$, treatment effects. | Survival curves, hazard functions, VIMP. | Dynamic survival curves, hazard functions. |\n",
        "| `Statistical Inference` | Confidence intervals for survival and treatment effects. | Brier scores, VIMP, minimal depth. | Limited inference tools. |\n",
        "| `Computational Efficiency` | Moderate (C++ backend, honest splitting). | High (OpenMP parallel processing). | Moderate (depends on longitudinal data complexity). |\n",
        "| `*Diagnostics/Visualization` | Variable importance, limited plotting. | Rich diagnostics, integrates with `ggRandomForests`. | Limited, focused on dynamic effects. |\n",
        "| `Use Case` | Causal survival analysis, conditional survival estimation. | General survival analysis, variable selection. | Longitudinal survival data, dynamic predictions. |"
      ],
      "metadata": {
        "id": "U5oIGPgmy5GK"
      }
    },
    {
      "cell_type": "markdown",
      "source": [
        "## Setup R in Python Runtype"
      ],
      "metadata": {
        "id": "Bn4w4oqMCagF"
      }
    },
    {
      "cell_type": "markdown",
      "source": [
        "### Install {rpy2}\n",
        "\n",
        "{rpy2} is a Python package that provides an interface to the R programming language, allowing Python users to run R code, call R functions, and manipulate R objects directly from Python. It enables seamless integration between Python and R, leveraging R's statistical and graphical capabilities while using Python's flexibility. The package supports passing data between the two languages and is widely used for statistical analysis, data visualization, and machine learning tasks that benefit from R's specialized libraries."
      ],
      "metadata": {
        "id": "yerTCtKKCmik"
      }
    },
    {
      "cell_type": "code",
      "source": [
        "!pip uninstall rpy2 -y\n",
        "!pip install rpy2==3.5.1\n",
        "%load_ext rpy2.ipython"
      ],
      "metadata": {
        "colab": {
          "base_uri": "https://localhost:8080/"
        },
        "id": "OqeCyNf0Crlc",
        "outputId": "ef47eb9a-0389-4f8a-bafe-9e5d6076a9ff"
      },
      "execution_count": 1,
      "outputs": [
        {
          "output_type": "stream",
          "name": "stdout",
          "text": [
            "Found existing installation: rpy2 3.5.17\n",
            "Uninstalling rpy2-3.5.17:\n",
            "  Successfully uninstalled rpy2-3.5.17\n",
            "Collecting rpy2==3.5.1\n",
            "  Downloading rpy2-3.5.1.tar.gz (201 kB)\n",
            "\u001b[2K     \u001b[90m━━━━━━━━━━━━━━━━━━━━━━━━━━━━━━━━━━━━━━━\u001b[0m \u001b[32m201.7/201.7 kB\u001b[0m \u001b[31m3.4 MB/s\u001b[0m eta \u001b[36m0:00:00\u001b[0m\n",
            "\u001b[?25h  Preparing metadata (setup.py) ... \u001b[?25l\u001b[?25hdone\n",
            "Requirement already satisfied: cffi>=1.10.0 in /usr/local/lib/python3.11/dist-packages (from rpy2==3.5.1) (1.17.1)\n",
            "Requirement already satisfied: jinja2 in /usr/local/lib/python3.11/dist-packages (from rpy2==3.5.1) (3.1.6)\n",
            "Requirement already satisfied: pytz in /usr/local/lib/python3.11/dist-packages (from rpy2==3.5.1) (2025.2)\n",
            "Requirement already satisfied: tzlocal in /usr/local/lib/python3.11/dist-packages (from rpy2==3.5.1) (5.3.1)\n",
            "Requirement already satisfied: pycparser in /usr/local/lib/python3.11/dist-packages (from cffi>=1.10.0->rpy2==3.5.1) (2.22)\n",
            "Requirement already satisfied: MarkupSafe>=2.0 in /usr/local/lib/python3.11/dist-packages (from jinja2->rpy2==3.5.1) (3.0.2)\n",
            "Building wheels for collected packages: rpy2\n",
            "  Building wheel for rpy2 (setup.py) ... \u001b[?25l\u001b[?25hdone\n",
            "  Created wheel for rpy2: filename=rpy2-3.5.1-cp311-cp311-linux_x86_64.whl size=314972 sha256=1bc1dbf558968b10621a407d4b48a8d0e491fd72acb2bea2601aefef340e64d2\n",
            "  Stored in directory: /root/.cache/pip/wheels/e9/55/d1/47be85a5f3f1e1f4d1e91cb5e3a4dcb40dd72147f184c5a5ef\n",
            "Successfully built rpy2\n",
            "Installing collected packages: rpy2\n",
            "Successfully installed rpy2-3.5.1\n"
          ]
        }
      ]
    },
    {
      "cell_type": "markdown",
      "source": [
        "### Mount Google Drive"
      ],
      "metadata": {
        "id": "vOzGUgYCCyqg"
      }
    },
    {
      "cell_type": "code",
      "source": [
        "from google.colab import drive\n",
        "drive.mount('/content/drive')"
      ],
      "metadata": {
        "colab": {
          "base_uri": "https://localhost:8080/"
        },
        "id": "_lngQQKKC2lc",
        "outputId": "970a7085-d630-4962-cb8e-016ccf231db0"
      },
      "execution_count": 2,
      "outputs": [
        {
          "output_type": "stream",
          "name": "stdout",
          "text": [
            "Mounted at /content/drive\n"
          ]
        }
      ]
    },
    {
      "cell_type": "markdown",
      "source": [
        "\n",
        "## Survival Forest with {grf} Package in R\n",
        "\n",
        "This section demonstrates how to implement a Survival Forest using the `{grf}` package in R, focusing on the `lung` dataset from the `{survival}` package. The goal is to estimate conditional survival functions and evaluate model performance.\n",
        "\n",
        "\n",
        "\n",
        "\n"
      ],
      "metadata": {
        "id": "bh7jEhGCLDZA"
      }
    },
    {
      "cell_type": "markdown",
      "source": [
        "### Load and Check Required Libraries"
      ],
      "metadata": {
        "id": "RlLmnBj77AMx"
      }
    },
    {
      "cell_type": "code",
      "source": [
        "%%R\n",
        "packages <- c('tidyverse',\n",
        "              'plyr',\n",
        "              'grf',\n",
        "              'survival',\n",
        "              'mlbench',\n",
        "              'Metrics')"
      ],
      "metadata": {
        "id": "9rXvjfapLYED"
      },
      "execution_count": 4,
      "outputs": []
    },
    {
      "cell_type": "markdown",
      "source": [
        "### Install Missing Packages"
      ],
      "metadata": {
        "id": "MDwlBWYYLc1e"
      }
    },
    {
      "cell_type": "code",
      "source": [
        "%%R\n",
        "# Install missing packages\n",
        "new.packages <- packages[!(packages %in% installed.packages(lib='drive/My Drive/R/')[,\"Package\"])]\n",
        "if(length(new.packages)) install.packages(new.packages, lib='drive/My Drive/R/')"
      ],
      "metadata": {
        "id": "PWzWe7xULb2L"
      },
      "execution_count": null,
      "outputs": []
    },
    {
      "cell_type": "markdown",
      "source": [
        "### Verify Installation"
      ],
      "metadata": {
        "id": "HM3Bl4-PLfFF"
      }
    },
    {
      "cell_type": "code",
      "source": [
        "%%R\n",
        "# set library path\n",
        ".libPaths('drive/My Drive/R')\n",
        "# Verify installation\n",
        "cat(\"Installed packages:\\n\")\n",
        "print(sapply(packages, requireNamespace, quietly = TRUE))"
      ],
      "metadata": {
        "colab": {
          "base_uri": "https://localhost:8080/"
        },
        "id": "pHr9zUJvLfNl",
        "outputId": "dacce3b5-eb16-4de8-c601-2ff505f4455e"
      },
      "execution_count": 6,
      "outputs": [
        {
          "output_type": "stream",
          "name": "stdout",
          "text": [
            "Installed packages:\n",
            "tidyverse      plyr       grf  survival   mlbench   Metrics \n",
            "     TRUE      TRUE      TRUE      TRUE      TRUE      TRUE \n"
          ]
        }
      ]
    },
    {
      "cell_type": "markdown",
      "source": [
        "### Load R Packages"
      ],
      "metadata": {
        "id": "2cPLFz1GLlRD"
      }
    },
    {
      "cell_type": "code",
      "source": [
        "%%R\n",
        "# set library path\n",
        ".libPaths('drive/My Drive/R')\n",
        "# Load packages with suppressed messages\n",
        "invisible(lapply(packages, function(pkg) {\n",
        "  suppressPackageStartupMessages(library(pkg, character.only = TRUE))\n",
        "}))\n"
      ],
      "metadata": {
        "id": "jIlm0D69x_70"
      },
      "execution_count": 7,
      "outputs": []
    },
    {
      "cell_type": "markdown",
      "source": [
        "### Check Loaded Packages"
      ],
      "metadata": {
        "id": "AH4vKW2yL1OF"
      }
    },
    {
      "cell_type": "code",
      "source": [
        "%%R\n",
        "# Check loaded packages\n",
        "cat(\"Successfully loaded packages:\\n\")\n",
        "print(search()[grepl(\"package:\", search())])# Check loaded packageswer)"
      ],
      "metadata": {
        "colab": {
          "base_uri": "https://localhost:8080/"
        },
        "id": "Du3QbdUeL1Yw",
        "outputId": "e726e37a-ab6e-4399-bd60-535969664692"
      },
      "execution_count": 8,
      "outputs": [
        {
          "output_type": "stream",
          "name": "stdout",
          "text": [
            "Successfully loaded packages:\n",
            " [1] \"package:Metrics\"   \"package:mlbench\"   \"package:survival\" \n",
            " [4] \"package:grf\"       \"package:plyr\"      \"package:lubridate\"\n",
            " [7] \"package:forcats\"   \"package:stringr\"   \"package:dplyr\"    \n",
            "[10] \"package:purrr\"     \"package:readr\"     \"package:tidyr\"    \n",
            "[13] \"package:tibble\"    \"package:ggplot2\"   \"package:tidyverse\"\n",
            "[16] \"package:tools\"     \"package:stats\"     \"package:graphics\" \n",
            "[19] \"package:grDevices\" \"package:utils\"     \"package:datasets\" \n",
            "[22] \"package:methods\"   \"package:base\"     \n"
          ]
        }
      ]
    },
    {
      "cell_type": "markdown",
      "source": [
        "### Load and Explore the Lung Dataset\n",
        "\n",
        "The `lung` dataset contains survival data for 228 patients with advanced lung cancer."
      ],
      "metadata": {
        "id": "IPobetr0zFC5"
      }
    },
    {
      "cell_type": "code",
      "source": [
        "%%R\n",
        "# Load the lung dataset\n",
        "data(lung, package = \"survival\")\n",
        "# Check for NAs in key variables\n",
        "cat(\"NAs in time:\", sum(is.na(lung$time)), \"\\n\")\n",
        "cat(\"NAs in status:\", sum(is.na(lung$status)), \"\\n\")"
      ],
      "metadata": {
        "colab": {
          "base_uri": "https://localhost:8080/"
        },
        "id": "RmfGVScmzF8P",
        "outputId": "1841beb2-0746-4f9c-be60-5256f4679777"
      },
      "execution_count": 10,
      "outputs": [
        {
          "output_type": "stream",
          "name": "stdout",
          "text": [
            "NAs in time: 0 \n",
            "NAs in status: 0 \n"
          ]
        }
      ]
    },
    {
      "cell_type": "markdown",
      "source": [
        "### Prepare the Data"
      ],
      "metadata": {
        "id": "ThhlXPmzzK7v"
      }
    },
    {
      "cell_type": "code",
      "source": [
        "%%R\n",
        "# Clean and recode variables\n",
        "# Choose covariates and remove rows with missing values in any relevant variable\n",
        "covar_names <- c(\"age\", \"ph.ecog\", \"ph.karno\", \"pat.karno\", \"meal.cal\", \"wt.loss\")\n",
        "lung2 <- lung[complete.cases(lung[, c(\"time\", \"status\", \"sex\", covar_names)]), ]\n",
        "cat(\"Rows after removing NAs:\", nrow(lung2), \"\\n\")\n",
        "\n",
        "# Prepare variables for grf\n",
        "Y <- lung2$time\n",
        "D <- ifelse(lung2$status == 2, 1, 0)   # 1=event(death), 0=censored\n",
        "W <- ifelse(lung2$sex == 2, 1, 0)      # 1=female, 0=male (treatment: female)\n",
        "X <- as.matrix(lung2[, covar_names])\n",
        "\n",
        "# Check distribution of events and event times\n",
        "cat(\"Number of events (D=1):\\n\")\n",
        "print(table(D))\n",
        "cat(\"Summary of event times where event observed:\\n\")\n",
        "print(summary(Y[D == 1]))\n",
        "hist(Y[D == 1], main=\"Histogram of Event Times (Deaths)\", xlab=\"Survival Time (days)\")\n",
        "\n",
        "# Find a valid horizon (latest time with at least one event)\n",
        "event_times <- sort(unique(Y[D == 1]))\n",
        "for (ht in event_times) {\n",
        "  n_events <- sum(D == 1 & Y <= ht)\n",
        "  if (n_events > 0) {\n",
        "    last_valid_ht <- ht\n",
        "  }\n",
        "}\n",
        "cat(\"Using horizon =\", last_valid_ht, \"\\n\")"
      ],
      "metadata": {
        "colab": {
          "base_uri": "https://localhost:8080/",
          "height": 653
        },
        "id": "jbX9jRGczLuL",
        "outputId": "4dc1fb8a-0eb1-4fd0-8ff5-8e4c6a89e762"
      },
      "execution_count": 11,
      "outputs": [
        {
          "output_type": "stream",
          "name": "stdout",
          "text": [
            "Rows after removing NAs: 168 \n",
            "Number of events (D=1):\n",
            "D\n",
            "  0   1 \n",
            " 47 121 \n",
            "Summary of event times where event observed:\n",
            "   Min. 1st Qu.  Median    Mean 3rd Qu.    Max. \n",
            "    5.0   147.0   246.0   289.1   426.0   814.0 \n",
            "Using horizon = 814 \n"
          ]
        },
        {
          "output_type": "display_data",
          "data": {
            "image/png": "[encoded data removed]"
          },
          "metadata": {}
        }
      ]
    },
    {
      "cell_type": "markdown",
      "source": [
        "### Split Data into Training and Test Sets"
      ],
      "metadata": {
        "id": "RMe3nasHz9g-"
      }
    },
    {
      "cell_type": "code",
      "source": [
        "%%R\n",
        "# Split data into training (80%) and test (20%) sets\n",
        "train_prop <- 0.8\n",
        "n <- nrow(lung2)\n",
        "# train data\n",
        "train_idx <- sample(1:n, size = round(train_prop * n))\n",
        "X_train <- X[train_idx, , drop = FALSE]\n",
        "Y_train <- Y[train_idx]\n",
        "W_train <- W[train_idx]\n",
        "D_train <- D[train_idx]\n",
        "# test data\n",
        "X_test <- X[-train_idx, , drop = FALSE]\n",
        "Y_test <- Y[-train_idx]\n",
        "W_test <- W[-train_idx]\n",
        "D_test <- D[-train_idx]\n",
        "\n",
        "cat(\"Training set size:\", nrow(X_train), \"\\n\")\n",
        "cat(\"Test set size:\", nrow(X_test), \"\\n\")\n",
        "cat(\"Column names of X_train:\", colnames(X_train), \"\\n\")"
      ],
      "metadata": {
        "colab": {
          "base_uri": "https://localhost:8080/"
        },
        "id": "JifkRNMPz-RR",
        "outputId": "fb1f1b9a-6588-491d-8602-cd4ab0319447"
      },
      "execution_count": 12,
      "outputs": [
        {
          "output_type": "stream",
          "name": "stdout",
          "text": [
            "Training set size: 134 \n",
            "Test set size: 34 \n",
            "Column names of X_train: age ph.ecog ph.karno pat.karno meal.cal wt.loss \n"
          ]
        }
      ]
    },
    {
      "cell_type": "markdown",
      "source": [
        "### Train the Survival Forest\n",
        "\n",
        "Survival forest in the `{grf}` package is trained using the `survival_forest()` function, which estimates the conditional survival function based on the training data."
      ],
      "metadata": {
        "id": "iCuXY1W30Kf2"
      }
    },
    {
      "cell_type": "code",
      "source": [
        "%%R\n",
        "# Train the survival forest\n",
        "s_forest <- survival_forest(\n",
        "  X = X_train,\n",
        "  Y = Y_train,\n",
        "  D = D_train,\n",
        "  num.trees = 1000,\n",
        "  sample.fraction = 0.5,\n",
        "  mtry = min(ceiling(sqrt(ncol(X_train)) + 20), ncol(X_train)),\n",
        "  min.node.size = 15,\n",
        "  honesty = TRUE,\n",
        "  honesty.fraction = 0.5,\n",
        "  prediction.type = \"Kaplan-Meier\",\n",
        "  compute.oob.predictions = TRUE,\n",
        "  seed = 123\n",
        ")\n",
        "print(s_forest)"
      ],
      "metadata": {
        "colab": {
          "base_uri": "https://localhost:8080/"
        },
        "id": "K8_YZmzb0LTO",
        "outputId": "35b12c6d-d833-477c-9c14-535da057b170"
      },
      "execution_count": 13,
      "outputs": [
        {
          "output_type": "stream",
          "name": "stdout",
          "text": [
            "GRF forest object of type survival_forest \n",
            "Number of trees: 1000 \n",
            "Number of training samples: 134 \n",
            "Variable importance: \n",
            "    1     2     3     4     5     6 \n",
            "0.304 0.070 0.110 0.190 0.188 0.138 \n"
          ]
        }
      ]
    },
    {
      "cell_type": "markdown",
      "source": [
        "### Evaluate the Survival Forest"
      ],
      "metadata": {
        "id": "2KI7kD5R0Qa9"
      }
    },
    {
      "cell_type": "code",
      "source": [
        "%%R\n",
        "# Predict on test set\n",
        "s_pred_test <- predict(s_forest, X_test, prediction.type = \"Kaplan-Meier\")\n",
        "\n",
        "# Evaluate the model using out-of-bag (OOB) concordance\n",
        "s_pred_oob <- predict(s_forest)  # OOB predictions\n",
        "chf_score <- rowSums(-log(s_pred_oob$predictions))  # Mortality score\n",
        "if (require(\"survival\", quietly = TRUE)) {\n",
        "  oob_concordance <- concordance(Surv(Y_train, D_train) ~ chf_score, reverse = TRUE)\n",
        "  cat(\"OOB Concordance:\", oob_concordance$concordance, \"\\n\")\n",
        "}"
      ],
      "metadata": {
        "colab": {
          "base_uri": "https://localhost:8080/"
        },
        "id": "JipnL_6X0RJl",
        "outputId": "bf33d06f-b983-4980-848d-663283cee916"
      },
      "execution_count": 14,
      "outputs": [
        {
          "output_type": "stream",
          "name": "stdout",
          "text": [
            "OOB Concordance: 0.5476608 \n"
          ]
        }
      ]
    },
    {
      "cell_type": "markdown",
      "source": [
        "### Visualize Survival Curves"
      ],
      "metadata": {
        "id": "pXppijnA0WiH"
      }
    },
    {
      "cell_type": "code",
      "source": [
        "%%R\n",
        "# Visualize survival curves for a few test samples\n",
        "plot(NA, NA,\n",
        "     xlab = \"Time (days)\",\n",
        "     ylab = \"Survival Probability\",\n",
        "     xlim = range(s_pred_test$failure.times),\n",
        "     ylim = c(0, 1),\n",
        "     main = \"Survival Curves for Test Set Samples\")\n",
        "for (i in 1:min(3, nrow(X_test))) {\n",
        "  lines(s_pred_test$failure.times, s_pred_test$predictions[i, ], col = i, lwd = 2)\n",
        "}\n",
        "legend(\"topright\", legend = paste(\"Sample\", 1:min(3, nrow(X_test))), col = 1:min(3, nrow(X_test)), lwd = 2)\n"
      ],
      "metadata": {
        "colab": {
          "base_uri": "https://localhost:8080/",
          "height": 497
        },
        "id": "CGpOFOm80XQe",
        "outputId": "bafe5e8c-1106-4d41-d572-b3e7f9fd5ec3"
      },
      "execution_count": 15,
      "outputs": [
        {
          "output_type": "display_data",
          "data": {
            "image/png": "[encoded data removed]"
          },
          "metadata": {}
        }
      ]
    },
    {
      "cell_type": "markdown",
      "source": [
        "### Compute Median Survival Time"
      ],
      "metadata": {
        "id": "k3sB7ApD0e7K"
      }
    },
    {
      "cell_type": "code",
      "source": [
        "%%R\n",
        "# Compute median survival time for test set predictions\n",
        "median_survival <- apply(s_pred_test$predictions, 1, function(s) {\n",
        "  times <- s_pred_test$failure.times\n",
        "  times[which(s <= 0.5)[1]]  # First time where survival probability <= 0.5\n",
        "})\n",
        "cat(\"Median survival times for test set (first 5 samples):\\n\", head(median_survival, 5), \"\\n\")"
      ],
      "metadata": {
        "colab": {
          "base_uri": "https://localhost:8080/"
        },
        "id": "nThsYP_a0fqX",
        "outputId": "55555abb-05fb-40a2-a4e6-8e2a98548088"
      },
      "execution_count": 16,
      "outputs": [
        {
          "output_type": "stream",
          "name": "stdout",
          "text": [
            "Median survival times for test set (first 5 samples):\n",
            " 284 285 329 267 345 \n"
          ]
        }
      ]
    },
    {
      "cell_type": "markdown",
      "source": [
        "## Summary and Conclusion\n",
        "\n",
        "Survial forest in {grf} package is a powerful tool for analyzing right-censored survival data, estimating conditional survival functions, and supporting causal inference. It extends the generalized random forest framework to handle survival analysis tasks, such as estimating the probability of survival past a given time point conditional on covariates. The model is particularly useful in medical research, clinical trials, and other fields where survival outcomes are of interest."
      ],
      "metadata": {
        "id": "_j759RVMQMut"
      }
    },
    {
      "cell_type": "markdown",
      "source": [
        "\n",
        "## References\n",
        "\n",
        "1.  Cui, Yifan, Michael R. Kosorok, Erik Sverdrup, Stefan Wager, and Ruoqing Zhu. \"Estimating Heterogeneous Treatment Effects with Right-Censored Data via Causal Survival Forests.\" Journal of the Royal Statistical Society: Series B, 85(2), 2023.\n",
        "\n",
        "2.  Ishwaran, Hemant, Udaya B. Kogalur, Eugene H. Blackstone, and Michael S. Lauer. \"Random survival forests.\" The Annals of Applied Statistics 2.3 (2008): 841-860.\n",
        "\n",
        "3.  [Survival forest](hhttps://grf-labs.github.io/grf/reference/survival_forest.html#arguments)\n"
      ],
      "metadata": {
        "id": "SaZTnZx3QPGI"
      }
    }
  ]
}