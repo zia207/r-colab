{
  "nbformat": 4,
  "nbformat_minor": 0,
  "metadata": {
    "colab": {
      "provenance": [],
      "authorship_tag": "ABX9TyMXMQXg3jT/ddXc90r1XEDM",
      "include_colab_link": true
    },
    "kernelspec": {
      "name": "python3",
      "display_name": "Python 3"
    },
    "language_info": {
      "name": "python"
    }
  },
  "cells": [
    {
      "cell_type": "markdown",
      "metadata": {
        "id": "view-in-github",
        "colab_type": "text"
      },
      "source": [
        "<a href=\"https://colab.research.google.com/github/zia207/r-colab/blob/main/NoteBook/R%20for%20Beginners/01-01-03-r-googlecolab.ipynb\" target=\"_parent\"><img src=\"https://colab.research.google.com/assets/colab-badge.svg\" alt=\"Open In Colab\"/></a>"
      ]
    },
    {
      "cell_type": "markdown",
      "source": [
        "![alt text](http://drive.google.com/uc?export=view&id=1bLQ3nhDbZrCCqy_WCxxckOne2lgVvn3l)"
      ],
      "metadata": {
        "id": "zJnnlYpvUbKb"
      }
    },
    {
      "cell_type": "markdown",
      "source": [
        "# Run R-Code in Google Colab\n",
        "\n",
        "\n",
        "[Google Colab](https://colab.research.google.com/) is a cloud-based platform provided by Google for running and executing Python code. It is built on Jupyter Notebook and offers a free, convenient, and collaborative environment for data analysis, machine learning, and general-purpose Python programming. Colab allows you to create and share Jupyter notebooks that include code, text, images, and visualizations.\n",
        "\n",
        "---\n",
        "\n"
      ],
      "metadata": {
        "id": "PcjEths5UWKA"
      }
    },
    {
      "cell_type": "markdown",
      "source": [
        "Key features of Google Colab include:\n",
        "\n",
        "1.  **Free GPU and TPU Support:** Colab provides free access to a limited amount of GPU (Graphics Processing Unit) and TPU (Tensor Processing Unit) resources, which can significantly accelerate deep learning computations.\n",
        "\n",
        "2.  **Collaborative Editing:** Multiple users can collaborate in real-time on the same Colab notebook, making it useful for team projects or sharing knowledge.\n",
        "\n",
        "3.  **Google Drive Integration:** You can easily save and load files to and from your Google Drive, enabling seamless data storage and retrieval.\n",
        "\n",
        "4.  **Rich Text and Media Support:** Colab notebooks support rich media integration, allowing you to include images, videos, and other multimedia elements in your notebooks.\n",
        "\n",
        "5.  **Pre-installed Libraries:** Many popular Python libraries for data analysis, machine learning, and deep learning (e.g., NumPy, Pandas, TensorFlow, PyTorch) come pre-installed on Colab, reducing setup time.\n",
        "\n",
        "6.  **Easy Sharing:** Colab notebooks can be easily shared with others by generating a shareable link. It's a convenient way to showcase your work or collaborate with"
      ],
      "metadata": {
        "id": "Izkb0BArUno7"
      }
    },
    {
      "cell_type": "markdown",
      "source": [
        "To get started with Google Colab, visit the official website at [**https://colab.research.google.com/**](https://colab.research.google.com/). You can create a new notebook or open an existing one from your Google Drive. The notebooks run on virtual machines hosted by Google, and once you close the browser, the virtual machine and its contents are discarded. Still, your notebook will be automatically saved to your Google Drive.\n",
        "\n",
        "Remember that the available resources, such as GPU and TPU quotas, may be limited to free users. Also, the specific features and limitations of Google Colab may evolve, so it's always a good idea to check the official website or documentation for the latest information."
      ],
      "metadata": {
        "id": "k1D3LX1JUt0C"
      }
    },
    {
      "cell_type": "markdown",
      "source": [
        "## R Runtime\n",
        "\n",
        "Although Google Colab is primarily designed for Python, it also supports R. You can run R code in a Colab notebook by creating an R runtime environment. Here's how you can set it up:\n",
        "\n",
        "1.  Open Google Colab in your web browser at https://colab.research.google.com/.\n",
        "\n",
        "2.  Click on the `File` menu and select `New notebook` to create a new notebook.\n",
        "\n",
        "3.  In the toolbar, click on the `Runtime` menu and select `Change runtime type.`\n",
        "\n",
        "4.  In the dialog box that appears, select `R` from the `Runtime type` dropdown.\n",
        "\n",
        "5.  Click on the `Save` button to apply the changes.\n",
        "\n",
        "Once you have set up the R runtime environment, you can start writing and executing R code in the notebook cells. To run a code cell, press Shift+Enter or click the \"Play\" button next to the cell.\n",
        "\n",
        "You can install R packages in Colab by using the **install.packages()** function."
      ],
      "metadata": {
        "id": "SdFyziBiU1N5"
      }
    },
    {
      "cell_type": "code",
      "source": [
        "install.packages('tidiverse')"
      ],
      "metadata": {
        "id": "qBMAHz29U6jM"
      },
      "execution_count": null,
      "outputs": []
    },
    {
      "cell_type": "markdown",
      "source": [
        "## Python Runtime\n",
        "\n",
        "\n",
        "\n",
        "1.  Open Google Colab in your web browser at https://colab.research.google.com/.\n",
        "\n",
        "2.  Click on the `File` menu and select `New notebook` to create a new notebook.\n",
        "\n",
        "3.  In the toolbar, click on the `Runtime` menu and select `Change runtime type.`\n",
        "\n",
        "4.  In the dialog box that appears, select `Python 3` from the `Runtime type` dropdown.\n",
        "\n",
        "5.  Click on the `Save` button to apply the changes.\n",
        "\n",
        "6.  Easy way to run R in Colab with Python runtime using **rpy2** python package which helps in using R in Python environments. We have to install this package using the `pip` command in code chunk::"
      ],
      "metadata": {
        "id": "A9bGI3mLVdfg"
      }
    },
    {
      "cell_type": "code",
      "source": [
        "!pip uninstall rpy2 -y\n",
        "!pip install rpy2==3.5.1\n",
        "%load_ext rpy2.ipython"
      ],
      "metadata": {
        "colab": {
          "base_uri": "https://localhost:8080/"
        },
        "id": "h-WyGSUZVuxF",
        "outputId": "d5b7dd40-49ca-455b-9f9f-8b597da7ce42"
      },
      "execution_count": 1,
      "outputs": [
        {
          "output_type": "stream",
          "name": "stdout",
          "text": [
            "Found existing installation: rpy2 3.4.2\n",
            "Uninstalling rpy2-3.4.2:\n",
            "  Successfully uninstalled rpy2-3.4.2\n",
            "Collecting rpy2==3.5.1\n",
            "  Downloading rpy2-3.5.1.tar.gz (201 kB)\n",
            "\u001b[2K     \u001b[90m━━━━━━━━━━━━━━━━━━━━━━━━━━━━━━━━━━━━━━━━\u001b[0m \u001b[32m201.7/201.7 kB\u001b[0m \u001b[31m5.2 MB/s\u001b[0m eta \u001b[36m0:00:00\u001b[0m\n",
            "\u001b[?25h  Preparing metadata (setup.py) ... \u001b[?25l\u001b[?25hdone\n",
            "Requirement already satisfied: cffi>=1.10.0 in /usr/local/lib/python3.10/dist-packages (from rpy2==3.5.1) (1.17.1)\n",
            "Requirement already satisfied: jinja2 in /usr/local/lib/python3.10/dist-packages (from rpy2==3.5.1) (3.1.4)\n",
            "Requirement already satisfied: pytz in /usr/local/lib/python3.10/dist-packages (from rpy2==3.5.1) (2024.2)\n",
            "Requirement already satisfied: tzlocal in /usr/local/lib/python3.10/dist-packages (from rpy2==3.5.1) (5.2)\n",
            "Requirement already satisfied: pycparser in /usr/local/lib/python3.10/dist-packages (from cffi>=1.10.0->rpy2==3.5.1) (2.22)\n",
            "Requirement already satisfied: MarkupSafe>=2.0 in /usr/local/lib/python3.10/dist-packages (from jinja2->rpy2==3.5.1) (3.0.2)\n",
            "Building wheels for collected packages: rpy2\n",
            "  Building wheel for rpy2 (setup.py) ... \u001b[?25l\u001b[?25hdone\n",
            "  Created wheel for rpy2: filename=rpy2-3.5.1-cp310-cp310-linux_x86_64.whl size=314951 sha256=96dadeb2c0a0afde74f4a9932dc6e6f1b867cca8dced2a31fe1c4b99812d9f39\n",
            "  Stored in directory: /root/.cache/pip/wheels/73/a6/ff/4e75dd1ce1cfa2b9a670cbccf6a1e41c553199e9b25f05d953\n",
            "Successfully built rpy2\n",
            "Installing collected packages: rpy2\n",
            "Successfully installed rpy2-3.5.1\n"
          ]
        }
      ]
    },
    {
      "cell_type": "markdown",
      "source": [
        "7.  Since R in Google Lab run in Ubuntu OS, we have to install several `Ubuntu` packages to install several R packages"
      ],
      "metadata": {
        "id": "CbOZU0QYWEOw"
      }
    },
    {
      "cell_type": "code",
      "source": [
        "!sudo apt-get install \\\n",
        "libssl-dev \\\n",
        "libcurl4-openssl-dev \\\n",
        "unixodbc-dev \\\n",
        "libxml2-dev \\\n",
        "libmariadb-dev \\\n",
        "libfontconfig1-dev \\\n",
        "libharfbuzz-dev \\\n",
        "libfribidi-dev \\\n",
        "libfreetype6-dev \\\n",
        "libpng-dev \\\n",
        "libtiff5-dev \\\n",
        "libjpeg-dev \\\n",
        "libcairo2-dev \\\n",
        "libgmp-dev \\\n",
        "libmpfr-dev \\\n",
        "liblapack-dev \\\n",
        "libcairo2-dev \\\n",
        "libzmq3-dev \\\n",
        "libharfbuzz-dev \\\n",
        "libpng-dev \\\n",
        "build-essential \\\n",
        "libcairo2-dev \\\n",
        "libmpfr-dev \\\n",
        "cmake \\\n",
        "gfortran"
      ],
      "metadata": {
        "id": "1sjDLwOUVypZ"
      },
      "execution_count": null,
      "outputs": []
    },
    {
      "cell_type": "code",
      "source": [
        "!sudo apt-get install ghostscript\n",
        "!sudo add-apt-repository ppa:dns/gnu\n",
        "!sudo apt-get update\n",
        "!sudo apt install libgsl-dev"
      ],
      "metadata": {
        "id": "XQYEKLtKV1yS"
      },
      "execution_count": null,
      "outputs": []
    },
    {
      "cell_type": "markdown",
      "source": [
        "8.  Mount Google: Use following command and follow on-screen instruction"
      ],
      "metadata": {
        "id": "fqq69BWxV-nV"
      }
    },
    {
      "cell_type": "code",
      "source": [
        "from google.colab import drive\n",
        "drive.mount('/content/drive')"
      ],
      "metadata": {
        "colab": {
          "base_uri": "https://localhost:8080/"
        },
        "id": "ILCpDDBhWSIQ",
        "outputId": "d30cc701-b330-480e-8b18-9ac7efeaba9d"
      },
      "execution_count": 2,
      "outputs": [
        {
          "output_type": "stream",
          "name": "stdout",
          "text": [
            "Mounted at /content/drive\n"
          ]
        }
      ]
    },
    {
      "cell_type": "markdown",
      "source": [
        "9.  Install R Packages in Google Drive\n",
        "\n",
        "Before installation of R packages, we have create a folder (name R) in your Google Drive, from you load all packages. During installation you to define this location (`lib='drive/My Drive/R/'`) locally for R-packages. For example:"
      ],
      "metadata": {
        "id": "r_isgWuHWZAu"
      }
    },
    {
      "cell_type": "code",
      "source": [
        "%%R\n",
        "install.packages(c('tidyverse', 'data.table'), lib='drive/My Drive/R/', repos='http://cran.rstudio.com/')"
      ],
      "metadata": {
        "id": "l78e4MgtYQKN"
      },
      "execution_count": null,
      "outputs": []
    },
    {
      "cell_type": "markdown",
      "source": [
        "10. Load R Package from Google Drive. Use following command to load R-packages"
      ],
      "metadata": {
        "id": "KUS-Yc_YYZx1"
      }
    },
    {
      "cell_type": "code",
      "source": [
        "%%R\n",
        "# Set lib path\n",
        ".libPaths('drive/My Drive/R')\n",
        "# load packages\n",
        "library (tidyverse)\n",
        "library (data.table)"
      ],
      "metadata": {
        "colab": {
          "base_uri": "https://localhost:8080/"
        },
        "id": "8-cHuxVKWSJl",
        "outputId": "5ae3355d-c82d-4ea6-cc4d-a5461332e6b6"
      },
      "execution_count": 3,
      "outputs": [
        {
          "output_type": "stream",
          "name": "stdout",
          "text": [
            "── Attaching core tidyverse packages ──────────────────────── tidyverse 2.0.0 ──\n",
            "✔ dplyr     1.1.4     ✔ readr     2.1.5\n",
            "✔ forcats   1.0.0     ✔ stringr   1.5.1\n",
            "✔ ggplot2   3.5.1     ✔ tibble    3.2.1\n",
            "✔ lubridate 1.9.3     ✔ tidyr     1.3.1\n",
            "✔ purrr     1.0.2     \n",
            "── Conflicts ────────────────────────────────────────── tidyverse_conflicts() ──\n",
            "✖ dplyr::filter() masks stats::filter()\n",
            "✖ dplyr::lag()    masks stats::lag()\n",
            "ℹ Use the conflicted package (<http://conflicted.r-lib.org/>) to force all conflicts to become errors\n"
          ]
        },
        {
          "output_type": "stream",
          "name": "stderr",
          "text": [
            "WARNING:rpy2.rinterface_lib.callbacks:R[write to console]: data.table 1.16.2 using 1 threads (see ?getDTthreads).  \n",
            "WARNING:rpy2.rinterface_lib.callbacks:R[write to console]: Latest news: r-datatable.com\n",
            "\n",
            "WARNING:rpy2.rinterface_lib.callbacks:R[write to console]: \n",
            "Attaching package: ‘data.table’\n",
            "\n",
            "\n",
            "WARNING:rpy2.rinterface_lib.callbacks:R[write to console]: The following objects are masked from ‘package:lubridate’:\n",
            "\n",
            "    hour, isoweek, mday, minute, month, quarter, second, wday, week,\n",
            "    yday, year\n",
            "\n",
            "\n",
            "WARNING:rpy2.rinterface_lib.callbacks:R[write to console]: The following objects are masked from ‘package:dplyr’:\n",
            "\n",
            "    between, first, last\n",
            "\n",
            "\n",
            "WARNING:rpy2.rinterface_lib.callbacks:R[write to console]: The following object is masked from ‘package:purrr’:\n",
            "\n",
            "    transpose\n",
            "\n",
            "\n"
          ]
        }
      ]
    },
    {
      "cell_type": "markdown",
      "source": [
        "11. Use following commands, if to check and Installed Required R packages"
      ],
      "metadata": {
        "id": "DIH__TXdYgN5"
      }
    },
    {
      "cell_type": "code",
      "source": [
        "%%R\n",
        "pkg<- c( 'tidyverse','data.table')\n",
        "new.packages <- pkg[!(pkg %in% installed.packages(lib='drive/My Drive/R/')[,\"Package\"])]\n",
        "if(length(new.packages)) install.packages(new.packages, lib='drive/My Drive/R/')"
      ],
      "metadata": {
        "id": "LNyFlmAsYhGK"
      },
      "execution_count": null,
      "outputs": []
    },
    {
      "cell_type": "markdown",
      "source": [
        "12. Running R Code"
      ],
      "metadata": {
        "id": "Y-zt_PbfYy5w"
      }
    },
    {
      "cell_type": "code",
      "source": [
        "%%R\n",
        "# Basic R code\n",
        "x <- c(1, 2, 3, 4, 5)\n",
        "mean_x <- mean(x)\n",
        "mean_x"
      ],
      "metadata": {
        "colab": {
          "base_uri": "https://localhost:8080/"
        },
        "id": "wTA_tINtXxoS",
        "outputId": "9a9e613f-d895-4bc1-a5ea-abc07046dce4"
      },
      "execution_count": 4,
      "outputs": [
        {
          "output_type": "stream",
          "name": "stdout",
          "text": [
            "[1] 3\n"
          ]
        }
      ]
    }
  ]
}