{
  "cells": [
    {
      "cell_type": "markdown",
      "metadata": {
        "id": "view-in-github",
        "colab_type": "text"
      },
      "source": [
        "<a href=\"https://colab.research.google.com/github/zia207/r-colab/blob/main/NoteBook/R%20for%20Beginners/introduction_to_r.ipynb\" target=\"_parent\"><img src=\"https://colab.research.google.com/assets/colab-badge.svg\" alt=\"Open In Colab\"/></a>"
      ]
    },
    {
      "cell_type": "markdown",
      "source": [
        "![alt text](http://drive.google.com/uc?export=view&id=1bLQ3nhDbZrCCqy_WCxxckOne2lgVvn3l)"
      ],
      "metadata": {
        "id": "XeQ6tneJieLd"
      }
    },
    {
      "cell_type": "markdown",
      "metadata": {
        "id": "MGoP0AbXEAUx"
      },
      "source": [
        "# **Introduction to using R**\n",
        "\n"
      ]
    },
    {
      "cell_type": "markdown",
      "metadata": {
        "id": "kroLnhoOPPoV"
      },
      "source": [
        "R is an object-oriented programming language like [Python](https://www.python.org/), [Julia](https://julialang.org/), and [JavaScript](https://www.javascript.com/). Like these programming languages, R has a specific syntax or function, which is essential to understand if you want to use its features to accomplish thousands of things with R. However, one of the most challenging parts of learning R is finding your way around. In section of tutorial you will learn some basic of R such as syntax of R programming, assignment statements, r-data types, control statements and simple r-function."
      ]
    },
    {
      "cell_type": "markdown",
      "metadata": {
        "id": "CdQJ-mgsEU9J"
      },
      "source": [
        "# Run R-Code in Google colab\n",
        "\n",
        "[Google Colab](https://colab.research.google.com/) is a cloud-based platform provided by Google for running and executing Python code. It is built on Jupyter Notebook and offers a free, convenient, and collaborative environment for data analysis, machine learning, and general-purpose Python programming. Colab allows you to create and share Jupyter notebooks that include code, text, images, and visualizations.\n",
        "\n",
        "Key features of Google Colab include:\n",
        "\n",
        "1.  **Free GPU and TPU Support:** Colab provides free access to a limited amount of GPU (Graphics Processing Unit) and TPU (Tensor Processing Unit) resources, which can significantly accelerate deep learning computations.\n",
        "\n",
        "2.  **Collaborative Editing:** Multiple users can collaborate in real-time on the same Colab notebook, making it useful for team projects or sharing knowledge.\n",
        "\n",
        "3.  **Google Drive Integration:** You can easily save and load files to and from your Google Drive, enabling seamless data storage and retrieval.\n",
        "\n",
        "4.  **Rich Text and Media Support:** Colab notebooks support rich media integration, allowing you to include images, videos, and other multimedia elements in your notebooks.\n",
        "\n",
        "5.  **Pre-installed Libraries:** Many popular Python libraries for data analysis, machine learning, and deep learning (e.g., NumPy, Pandas, TensorFlow, PyTorch) come pre-installed on Colab, reducing setup time.\n",
        "\n",
        "6.  **Easy Sharing:** Colab notebooks can be easily shared with others by generating a shareable link. It's a convenient way to showcase your work or collaborate with others.\n",
        "\n",
        "To get started with Google Colab, visit the official website at [**https://colab.research.google.com/**](https://colab.research.google.com/). You can create a new notebook or open an existing one from your Google Drive. The notebooks run on virtual machines hosted by Google, and once you close the browser, the virtual machine and its contents are discarded. Still, your notebook will be automatically saved to your Google Drive.\n",
        "\n",
        "Remember that the available resources, such as GPU and TPU quotas, may be limited to free users. Also, the specific features and limitations of Google Colab may evolve, so it's always a good idea to check the official website or documentation for the latest information.\n",
        "\n",
        "Although Google Colab is primarily designed for Python, it also supports R. You can run R code in a Colab notebook by creating an R runtime environment. Here's how you can set it up:\n",
        "\n",
        "1.  Open Google Colab in your web browser at https://colab.research.google.com/.\n",
        "\n",
        "2.  Click on the \"File\" menu and select \"New notebook\" to create a new notebook.\n",
        "\n",
        "3.  In the toolbar, click on the \"Runtime\" menu and select \"Change runtime type.\"\n",
        "\n",
        "4.  In the dialog box that appears, select \"R\" from the \"Runtime type\" dropdown.\n",
        "\n",
        "5.  Click on the \"Save\" button to apply the changes.\n",
        "\n",
        "Once you have set up the R runtime environment, you can start writing and executing R code in the notebook cells. To run a code cell, press Shift+Enter or click the \"Play\" button next to the cell.\n",
        "\n",
        "You can install R packages in Colab by using the **install.packages()** function.\n",
        "\n",
        "## Install rpy2\n",
        "\n",
        "Easy way to run R in Colab with Python runtime using **rpy2** python package. We have to install this package using the pip command:"
      ]
    },
    {
      "cell_type": "code",
      "execution_count": null,
      "metadata": {
        "colab": {
          "background_save": true,
          "base_uri": "https://localhost:8080/"
        },
        "id": "qOD7NpajDy5k",
        "outputId": "969850c9-e7f3-4420-954b-727c3603b57c"
      },
      "outputs": [
        {
          "name": "stdout",
          "output_type": "stream",
          "text": [
            "Found existing installation: rpy2 3.4.2\n",
            "Uninstalling rpy2-3.4.2:\n",
            "  Successfully uninstalled rpy2-3.4.2\n",
            "Collecting rpy2==3.5.1\n",
            "  Downloading rpy2-3.5.1.tar.gz (201 kB)\n",
            "\u001b[2K     \u001b[90m━━━━━━━━━━━━━━━━━━━━━━━━━━━━━━━━━━━━━━━━\u001b[0m \u001b[32m201.7/201.7 kB\u001b[0m \u001b[31m4.5 MB/s\u001b[0m eta \u001b[36m0:00:00\u001b[0m\n",
            "\u001b[?25h  Preparing metadata (setup.py) ... \u001b[?25l\u001b[?25hdone\n",
            "Requirement already satisfied: cffi>=1.10.0 in /usr/local/lib/python3.10/dist-packages (from rpy2==3.5.1) (1.16.0)\n",
            "Requirement already satisfied: jinja2 in /usr/local/lib/python3.10/dist-packages (from rpy2==3.5.1) (3.1.2)\n",
            "Requirement already satisfied: pytz in /usr/local/lib/python3.10/dist-packages (from rpy2==3.5.1) (2023.3.post1)\n",
            "Requirement already satisfied: tzlocal in /usr/local/lib/python3.10/dist-packages (from rpy2==3.5.1) (5.2)\n",
            "Requirement already satisfied: pycparser in /usr/local/lib/python3.10/dist-packages (from cffi>=1.10.0->rpy2==3.5.1) (2.21)\n",
            "Requirement already satisfied: MarkupSafe>=2.0 in /usr/local/lib/python3.10/dist-packages (from jinja2->rpy2==3.5.1) (2.1.3)\n",
            "Building wheels for collected packages: rpy2\n",
            "  Building wheel for rpy2 (setup.py) ... \u001b[?25l\u001b[?25hdone\n",
            "  Created wheel for rpy2: filename=rpy2-3.5.1-cp310-cp310-linux_x86_64.whl size=314929 sha256=f78aa43edf798642349a8299866884e4e45b6dab248d13e5652a1b058bf57916\n",
            "  Stored in directory: /root/.cache/pip/wheels/73/a6/ff/4e75dd1ce1cfa2b9a670cbccf6a1e41c553199e9b25f05d953\n",
            "Successfully built rpy2\n",
            "Installing collected packages: rpy2\n",
            "Successfully installed rpy2-3.5.1\n"
          ]
        }
      ],
      "source": [
        "!pip uninstall rpy2 -y\n",
        "! pip install rpy2==3.5.1\n",
        "%load_ext rpy2.ipython"
      ]
    },
    {
      "cell_type": "markdown",
      "metadata": {
        "id": "qmEDD0ccEurf"
      },
      "source": [
        "##  Mount Google Drive\n",
        "\n",
        "Then you must create a folder in Goole drive named \"R\" to install all packages permanently. Before installing R-package in Python runtime. You have to mount Google Drive and follow on-screen instruction:"
      ]
    },
    {
      "cell_type": "code",
      "execution_count": null,
      "metadata": {
        "colab": {
          "base_uri": "https://localhost:8080/"
        },
        "id": "lClKZUW1Eu_G",
        "outputId": "7b94a700-86cc-4fbb-b08c-5478a2c0ed37"
      },
      "outputs": [
        {
          "name": "stdout",
          "output_type": "stream",
          "text": [
            "Mounted at /content/drive\n"
          ]
        }
      ],
      "source": [
        "from google.colab import drive\n",
        "drive.mount('/content/drive')"
      ]
    },
    {
      "cell_type": "markdown",
      "metadata": {
        "id": "oTvvrCXfF5AC"
      },
      "source": [
        "### Install Packagess"
      ]
    },
    {
      "cell_type": "code",
      "execution_count": null,
      "metadata": {
        "id": "GJR8KYeHF5In"
      },
      "outputs": [],
      "source": [
        "%%R\n",
        "install.packages(c('tidyverse', 'Metrics'), lib='drive/My Drive/R/', repos='http://cran.rstudio.com/')\n"
      ]
    },
    {
      "cell_type": "markdown",
      "metadata": {
        "id": "mOk85Ol6GQfH"
      },
      "source": [
        "### R as a Calculator\n",
        "\n",
        "We can use R as a calculators, at the prompt, we enter the expression that we want evaluated and when we hit enter, it will compute the result for us . For Example:\n",
        "\n",
        "For addition:"
      ]
    },
    {
      "cell_type": "code",
      "execution_count": null,
      "metadata": {
        "colab": {
          "base_uri": "https://localhost:8080/"
        },
        "id": "2IoSWbKBGSlO",
        "outputId": "183db951-79ba-4826-bed9-16c2f0858166"
      },
      "outputs": [
        {
          "name": "stdout",
          "output_type": "stream",
          "text": [
            "[1] 4\n"
          ]
        }
      ],
      "source": [
        "%%R\n",
        "2+2"
      ]
    },
    {
      "cell_type": "markdown",
      "metadata": {
        "id": "hFT294hAGXLk"
      },
      "source": [
        "For Substraction"
      ]
    },
    {
      "cell_type": "code",
      "execution_count": null,
      "metadata": {
        "colab": {
          "base_uri": "https://localhost:8080/"
        },
        "id": "LqdUWLzWGXU5",
        "outputId": "29dad674-6119-4795-a3b0-2d3ebcf24183"
      },
      "outputs": [
        {
          "name": "stdout",
          "output_type": "stream",
          "text": [
            "[1] 2\n"
          ]
        }
      ],
      "source": [
        "%%R\n",
        "4-2"
      ]
    },
    {
      "cell_type": "markdown",
      "metadata": {
        "id": "IrmMavWXGoM_"
      },
      "source": [
        "### Syntax of R program\n",
        "\n",
        "**Variables**, **Comments**, and **Keywords** are the three main components in R- programming. Variables are used to store the data, Comments are used to improve code readability, and Keywords are reserved words that hold a specific meaning to the compiler.\n",
        "\n",
        "### Built-in-Functions\n",
        "\n",
        "There are so many built-in mathematical functions are available in base-R. Some are shown in below table:\n",
        "\n"
      ]
    },
    {
      "cell_type": "markdown",
      "source": [
        "![alt text](http://drive.google.com/uc?export=view&id=1oRN5CxPGI2_M20b6O_esJXCSKAV3-4lq)\n",
        "\n"
      ],
      "metadata": {
        "id": "guHbkDEuYhak"
      }
    },
    {
      "cell_type": "markdown",
      "source": [
        "There are so many built-in mathematical functions are available in base-R, such as:"
      ],
      "metadata": {
        "id": "hhnnobIcYdqv"
      }
    },
    {
      "cell_type": "code",
      "execution_count": null,
      "metadata": {
        "colab": {
          "base_uri": "https://localhost:8080/"
        },
        "id": "gXfSYaGPGpbl",
        "outputId": "824e24fe-5452-423a-e1ea-3f5c03ec68c1"
      },
      "outputs": [
        {
          "name": "stdout",
          "output_type": "stream",
          "text": [
            "[1] 0.30103\n"
          ]
        }
      ],
      "source": [
        "%%R\n",
        "log10(2)"
      ]
    },
    {
      "cell_type": "code",
      "execution_count": null,
      "metadata": {
        "colab": {
          "base_uri": "https://localhost:8080/"
        },
        "id": "6Lm8_XGaG8Il",
        "outputId": "f5335657-0687-459d-9ca4-8830d67026a4"
      },
      "outputs": [
        {
          "name": "stdout",
          "output_type": "stream",
          "text": [
            "[1] 2.718282\n"
          ]
        }
      ],
      "source": [
        "%%R\n",
        "exp(1)"
      ]
    },
    {
      "cell_type": "code",
      "execution_count": null,
      "metadata": {
        "colab": {
          "base_uri": "https://localhost:8080/"
        },
        "id": "dKU4UEAtHTHd",
        "outputId": "29b2edbe-6793-4aa3-8224-2ee742d4d3b2"
      },
      "outputs": [
        {
          "name": "stdout",
          "output_type": "stream",
          "text": [
            "[1] 3.141593\n"
          ]
        }
      ],
      "source": [
        "%%R\n",
        "pi"
      ]
    },
    {
      "cell_type": "markdown",
      "metadata": {
        "id": "IpC6TqCmHeSt"
      },
      "source": [
        "### Number with Exponents\n",
        "\n",
        "We can use very big numbers or very small numbers in R using the following scheme:"
      ]
    },
    {
      "cell_type": "code",
      "execution_count": null,
      "metadata": {
        "colab": {
          "base_uri": "https://localhost:8080/"
        },
        "id": "EPtcDw5-HheR",
        "outputId": "b878b6e8-f560-43fb-9d50-3f0bf132c0d0"
      },
      "outputs": [
        {
          "name": "stdout",
          "output_type": "stream",
          "text": [
            "[1] 1200\n"
          ]
        }
      ],
      "source": [
        "%%R\n",
        "1.2e3 # means 1200 because the e3 means ‘move the decimal point 3 places to the right\n"
      ]
    },
    {
      "cell_type": "code",
      "execution_count": null,
      "metadata": {
        "colab": {
          "base_uri": "https://localhost:8080/"
        },
        "id": "FiOhVa6SHmaD",
        "outputId": "5ad2fcc3-2ce6-44f5-f82f-5974b316763f"
      },
      "outputs": [
        {
          "name": "stdout",
          "output_type": "stream",
          "text": [
            "[1] 0.012\n"
          ]
        }
      ],
      "source": [
        "%%R\n",
        "1.2e-2 # means 0.012 because the e-2 means ‘move the decimal point 2 places to the left’"
      ]
    },
    {
      "cell_type": "markdown",
      "metadata": {
        "id": "qbRXmINzHq9P"
      },
      "source": [
        "### Modulo and Integer Quotients\n",
        "\n",
        "Suppose we want to know the integer part of a division: say, how many 13s are there in 119:"
      ]
    },
    {
      "cell_type": "code",
      "execution_count": null,
      "metadata": {
        "colab": {
          "base_uri": "https://localhost:8080/"
        },
        "id": "4F8nd5WMHtnP",
        "outputId": "7e9fe454-b107-4ff5-e780-19e7214dd644"
      },
      "outputs": [
        {
          "name": "stdout",
          "output_type": "stream",
          "text": [
            "[1] 9\n"
          ]
        }
      ],
      "source": [
        "%%R\n",
        "119 %/% 13"
      ]
    },
    {
      "cell_type": "markdown",
      "metadata": {
        "id": "Z9La4ncXH2ru"
      },
      "source": [
        "Suppose we wanted to know the remainder (what is left over when 119 is divided by 13: in maths this is known as modulo"
      ]
    },
    {
      "cell_type": "code",
      "execution_count": null,
      "metadata": {
        "colab": {
          "base_uri": "https://localhost:8080/"
        },
        "id": "v6Esjw21H20O",
        "outputId": "6a99e7d5-914e-4d39-91e1-8e605752a66a"
      },
      "outputs": [
        {
          "name": "stdout",
          "output_type": "stream",
          "text": [
            "[1] 2\n"
          ]
        }
      ],
      "source": [
        "%%R\n",
        "119 %% 13"
      ]
    },
    {
      "cell_type": "markdown",
      "metadata": {
        "id": "QG9Q7iLiIEyt"
      },
      "source": [
        "### Rounding\n",
        "\n",
        "Several types of rounding (rounding up, rounding down, rounding to the nearest integer) can be done easily with R.\n",
        "\n",
        "The 'greatest integer less than' function is **floor()**"
      ]
    },
    {
      "cell_type": "code",
      "execution_count": null,
      "metadata": {
        "colab": {
          "base_uri": "https://localhost:8080/"
        },
        "id": "32jr_Fo4IGNp",
        "outputId": "d9ad5984-e259-4b6a-88fa-1441b082dc9a"
      },
      "outputs": [
        {
          "name": "stdout",
          "output_type": "stream",
          "text": [
            "[1] 5\n"
          ]
        }
      ],
      "source": [
        "%%R\n",
        "floor(5.7)"
      ]
    },
    {
      "cell_type": "markdown",
      "metadata": {
        "id": "24AiKFMuIJ27"
      },
      "source": [
        "The 'next integer' function is **ceiling**()"
      ]
    },
    {
      "cell_type": "code",
      "execution_count": null,
      "metadata": {
        "colab": {
          "base_uri": "https://localhost:8080/"
        },
        "id": "cmi2KfCXIPBm",
        "outputId": "6597c2a8-9427-4fef-e76a-2a37238323d4"
      },
      "outputs": [
        {
          "name": "stdout",
          "output_type": "stream",
          "text": [
            "[1] 6\n"
          ]
        }
      ],
      "source": [
        "%%R\n",
        "ceiling(5.7)"
      ]
    },
    {
      "cell_type": "markdown",
      "metadata": {
        "id": "Yq812wZ_IlyP"
      },
      "source": [
        "### Assignment Statements or assigning values to variables:\n",
        "\n",
        "Just like in algebra, we often want to store a computation under some variable name. The result is assigned to a variable with the symbols = or <- which is formed by the \"less than\" symbol followed immediately by a hyphen."
      ]
    },
    {
      "cell_type": "code",
      "execution_count": null,
      "metadata": {
        "id": "Oex2gDMJImpJ"
      },
      "outputs": [],
      "source": [
        "%%R\n",
        "x<-10; # or\n",
        "y = 12"
      ]
    },
    {
      "cell_type": "markdown",
      "metadata": {
        "id": "H7t_dsH-It2K"
      },
      "source": [
        "When you want to know what is in a variable simply ask by typing the variable name."
      ]
    },
    {
      "cell_type": "code",
      "execution_count": null,
      "metadata": {
        "colab": {
          "base_uri": "https://localhost:8080/"
        },
        "id": "m8bPtB-TIuhX",
        "outputId": "e65d330b-8d01-44d6-da46-bd457d50d5f6"
      },
      "outputs": [
        {
          "name": "stdout",
          "output_type": "stream",
          "text": [
            "[1] 12\n"
          ]
        }
      ],
      "source": [
        "%%R\n",
        "y"
      ]
    },
    {
      "cell_type": "markdown",
      "metadata": {
        "id": "VHzd4Y89IyZw"
      },
      "source": [
        "We can store a computation of two variable names and do some calculation and the result is assigned to a new variable"
      ]
    },
    {
      "cell_type": "code",
      "execution_count": null,
      "metadata": {
        "colab": {
          "base_uri": "https://localhost:8080/"
        },
        "id": "hKb5WM14IzDD",
        "outputId": "28e04fd4-33a0-4283-a0d3-cb3111a9b08b"
      },
      "outputs": [
        {
          "name": "stdout",
          "output_type": "stream",
          "text": [
            "[1] 5\n"
          ]
        }
      ],
      "source": [
        "%%R\n",
        "a=2;\n",
        "b=3;\n",
        "c=a+b;\n",
        "c"
      ]
    },
    {
      "cell_type": "markdown",
      "metadata": {
        "id": "hlqshTu0I4mP"
      },
      "source": [
        "### Variable Names\n",
        "\n",
        "-   Do not begin a variable name with a period or a number. Variable names are case (upper/lower) sensitive.\n",
        "\n",
        "-   Variable names in R are case-sensitive so x is not the same as X.\n",
        "\n",
        "-   Variable names should not begin with numbers (e.g. 1x) or symbols (e.g. %x).\n",
        "\n",
        "-   Variable names should not contain blank spaces: use grain.yield\n",
        "\n",
        " * + - */%% ^ arithmetic\n",
        "\n",
        " * > >= < <= == != relational\n",
        "\n",
        " * ! &  logical\n",
        "\n",
        " * ~ model formulae\n",
        "\n",
        " * <- -> assignment\n",
        "\n",
        " * $ list indexing"
      ]
    },
    {
      "cell_type": "markdown",
      "metadata": {
        "id": "XawF2SfTJS4r"
      },
      "source": [
        "## Basic Data Types\n",
        "\n",
        "R has a wide variety of data types including scalars, vectors (numerical, character, logical), matrices, data frames, and lists.You can check the type of a variable using the class() function. For example:"
      ]
    },
    {
      "cell_type": "code",
      "execution_count": null,
      "metadata": {
        "colab": {
          "base_uri": "https://localhost:8080/"
        },
        "id": "Mn8V7V8ZI5_D",
        "outputId": "07765191-8f40-4327-9613-d9e9d002471d"
      },
      "outputs": [
        {
          "name": "stdout",
          "output_type": "stream",
          "text": [
            "[1] \"numeric\"\n"
          ]
        }
      ],
      "source": [
        "%%R\n",
        "x <- 5\n",
        "class(x) # numeric"
      ]
    },
    {
      "cell_type": "code",
      "execution_count": null,
      "metadata": {
        "colab": {
          "base_uri": "https://localhost:8080/"
        },
        "id": "KP_7CxhoJlwg",
        "outputId": "bdd0d9a3-be5d-44a3-aa83-ce02e7c2692d"
      },
      "outputs": [
        {
          "name": "stdout",
          "output_type": "stream",
          "text": [
            "[1] \"character\"\n"
          ]
        }
      ],
      "source": [
        "%%R\n",
        "y <- \"hello\"\n",
        "class(y) # character"
      ]
    },
    {
      "cell_type": "code",
      "execution_count": null,
      "metadata": {
        "colab": {
          "base_uri": "https://localhost:8080/"
        },
        "id": "7TuwoskfJl3c",
        "outputId": "9cc608cd-e26d-42e5-af8d-65947964602d"
      },
      "outputs": [
        {
          "name": "stdout",
          "output_type": "stream",
          "text": [
            "[1] \"logical\"\n"
          ]
        }
      ],
      "source": [
        "%%R\n",
        "z <- TRUE\n",
        "class(z) # logical"
      ]
    },
    {
      "cell_type": "markdown",
      "metadata": {
        "id": "-7TxwOw-Jzay"
      },
      "source": [
        "### Vectors\n",
        "\n",
        "A vector is a basic data structure in R that can hold multiple values of the same data type.\n",
        "\n",
        "A scalar data structure is the most basic data type that holds only a **single atomic value** at a time. Using scalars, more complex data types can be constructed. The most commonly used scalar types in R:\n",
        "\n",
        "-   Numeric\n",
        "\n",
        "-   Character or strings\n",
        "\n",
        "-   Integer\n",
        "\n",
        "-   Logical\n",
        "\n",
        "-   Complex\n",
        "\n",
        "**Numeric** is the default type used in R"
      ]
    },
    {
      "cell_type": "code",
      "execution_count": null,
      "metadata": {
        "colab": {
          "base_uri": "https://localhost:8080/"
        },
        "id": "U3Qwre7TJ0XH",
        "outputId": "30da51f1-45f2-46d6-aba1-ec5bbc828da7"
      },
      "outputs": [
        {
          "name": "stdout",
          "output_type": "stream",
          "text": [
            "[1] 1.2\n"
          ]
        }
      ],
      "source": [
        "%%R\n",
        "x=1.2\n",
        "x\n",
        "class(x); x"
      ]
    },
    {
      "cell_type": "markdown",
      "metadata": {
        "id": "Yqcf4MJ0KBLi"
      },
      "source": [
        "**Character** objects are **strings**. They could be any sequence of characters including alphabets, numbers, punctuation marks, etc. enclosed in quotes."
      ]
    },
    {
      "cell_type": "code",
      "execution_count": null,
      "metadata": {
        "colab": {
          "base_uri": "https://localhost:8080/"
        },
        "id": "uqvlPpv2KB8r",
        "outputId": "43da2c63-42ca-46c5-df7f-db0ec7baa0bf"
      },
      "outputs": [
        {
          "name": "stdout",
          "output_type": "stream",
          "text": [
            "[1] \"Chemistry , University at Buffalo\"\n"
          ]
        }
      ],
      "source": [
        "%%R\n",
        "Department = 'Chemistry'\n",
        "School= \"University at Buffalo\"\n",
        "paste(Department,\",\", School)"
      ]
    },
    {
      "cell_type": "markdown",
      "metadata": {
        "id": "P3X1I7t9KLwx"
      },
      "source": [
        "**Logical** values are **boolean** values of **TRUE** or **FALSE**. Note that R needs logical values of TRUE or FALSE to be in upper case. If you use mixed case or lowercase, you'll get an error or unpredictable results."
      ]
    },
    {
      "cell_type": "code",
      "execution_count": null,
      "metadata": {
        "colab": {
          "base_uri": "https://localhost:8080/"
        },
        "id": "SHCuLNoBKNLf",
        "outputId": "ccf31451-d013-42ff-dade-f9751cc98a00"
      },
      "outputs": [
        {
          "name": "stdout",
          "output_type": "stream",
          "text": [
            "[1] \"logical\"\n"
          ]
        }
      ],
      "source": [
        "%%R\n",
        "u = TRUE;\n",
        "v = FALSE\n",
        "class(u)\n",
        "class(v)"
      ]
    },
    {
      "cell_type": "markdown",
      "metadata": {
        "id": "vli9LinOKTN_"
      },
      "source": [
        "A list of numbers or charterers together to form a **Multiple Elements Vector**. Values can be assigned to vectors in many different ways. We can create a vector of number from 1 to 10, using the concatenation function **c**"
      ]
    },
    {
      "cell_type": "code",
      "execution_count": null,
      "metadata": {
        "colab": {
          "base_uri": "https://localhost:8080/"
        },
        "id": "Q2U6or74KUGl",
        "outputId": "f3a99ca7-cc82-43d9-b677-f585bbe96c34"
      },
      "outputs": [
        {
          "name": "stdout",
          "output_type": "stream",
          "text": [
            "[1]  1.0  2.0  5.3  6.0  7.0  8.0  9.0 10.0\n"
          ]
        }
      ],
      "source": [
        "%%R\n",
        "a <- c(1,2,5.3,6,7,8,9,10)\n",
        "a"
      ]
    },
    {
      "cell_type": "code",
      "execution_count": null,
      "metadata": {
        "colab": {
          "base_uri": "https://localhost:8080/"
        },
        "id": "XJ-eB56qKaRp",
        "outputId": "3529f0a5-c76f-40df-ed1b-0ca4790fb34e"
      },
      "outputs": [
        {
          "name": "stdout",
          "output_type": "stream",
          "text": [
            "[1] \"apple\" \"5\"     \"TRUE\" \n"
          ]
        }
      ],
      "source": [
        "%%R\n",
        "s <- c('apple',5,TRUE)\n",
        "print(s)"
      ]
    },
    {
      "cell_type": "markdown",
      "metadata": {
        "id": "5EM3vLv-KYyT"
      },
      "source": [
        "It can be generated by the sequence of integer values 1 to 10 using : (colon), the sequence-generating operator,"
      ]
    },
    {
      "cell_type": "code",
      "execution_count": null,
      "metadata": {
        "colab": {
          "base_uri": "https://localhost:8080/"
        },
        "id": "zwY63pJVKlNZ",
        "outputId": "2cd29d56-140a-4b3c-c3e7-e3d0f4c3c573"
      },
      "outputs": [
        {
          "name": "stdout",
          "output_type": "stream",
          "text": [
            " [1]  1  2  3  4  5  6  7  8  9 10\n"
          ]
        }
      ],
      "source": [
        "%%R\n",
        "a<-1:10\n",
        "a"
      ]
    },
    {
      "cell_type": "markdown",
      "metadata": {
        "id": "xQBfR8-cKqk7"
      },
      "source": [
        "We can also create a vector using Using sequence (Seq.) operator."
      ]
    },
    {
      "cell_type": "code",
      "execution_count": null,
      "metadata": {
        "colab": {
          "base_uri": "https://localhost:8080/"
        },
        "id": "5zSj5CxcKsXs",
        "outputId": "c124ea36-87bf-4a66-fa44-53ad6a5c3d71"
      },
      "outputs": [
        {
          "name": "stdout",
          "output_type": "stream",
          "text": [
            " [1] 5.0 5.4 5.8 6.2 6.6 7.0 7.4 7.8 8.2 8.6 9.0\n"
          ]
        }
      ],
      "source": [
        "%%R\n",
        "# Create vector with elements from 5 to 9 incrementing by 0.4.\n",
        "b = seq(5, 9, by = 0.4)\n",
        "b"
      ]
    },
    {
      "cell_type": "markdown",
      "metadata": {
        "id": "rd0ZK1xZLDcZ"
      },
      "source": [
        "R has ability to evaluate functions over entire vectors, so no need to write , for loops and subscripts.\n",
        "\n",
        "Important vector functions are listed in below Table:"
      ]
    },
    {
      "cell_type": "markdown",
      "source": [
        "![alt text](http://drive.google.com/uc?export=view&id=1oMYF06GDPQQSvvi2g52OvPodjOgMpibW)\n",
        "\n"
      ],
      "metadata": {
        "id": "nDHzeg-AZYgK"
      }
    },
    {
      "cell_type": "markdown",
      "source": [
        "Once we have a vector of numbers we can apply certain built-in functions to them to get useful summaries. For example:"
      ],
      "metadata": {
        "id": "8iMcx2MhZSFD"
      }
    },
    {
      "cell_type": "code",
      "execution_count": null,
      "metadata": {
        "colab": {
          "base_uri": "https://localhost:8080/"
        },
        "id": "P5NCUyyRLKmC",
        "outputId": "c2c2a5bd-89bc-4446-e122-0e3a1c0d64fe"
      },
      "outputs": [
        {
          "name": "stdout",
          "output_type": "stream",
          "text": [
            "[1] 5.5\n"
          ]
        }
      ],
      "source": [
        "%%R\n",
        "\n",
        "sum(a)        # sums the values in the vector\n",
        "\n",
        "length(a)     # number of the values in the vector\n",
        "\n",
        "mean (a)      # the average of the values in the vector\n",
        "\n",
        "var (a)        # the sample variance of the values\n",
        "\n",
        "sd(a)         # the standard of deviations of the values\n",
        "\n",
        "max(a)        # the largest value in the vector\n",
        "\n",
        "min(a)        # the smallest number in the vector\n",
        "\n",
        "median(a)     # the sample median"
      ]
    },
    {
      "cell_type": "markdown",
      "metadata": {
        "id": "sgO44ruRLVSt"
      },
      "source": [
        "**Summary()** function will calculate summary statistics of a vector"
      ]
    },
    {
      "cell_type": "code",
      "execution_count": null,
      "metadata": {
        "colab": {
          "base_uri": "https://localhost:8080/"
        },
        "id": "NAZIwGXaLWL8",
        "outputId": "94b54c0b-2c04-48be-998c-6874e7579376"
      },
      "outputs": [
        {
          "name": "stdout",
          "output_type": "stream",
          "text": [
            "   Min. 1st Qu.  Median    Mean 3rd Qu.    Max. \n",
            "   1.00    3.25    5.50    5.50    7.75   10.00 \n"
          ]
        }
      ],
      "source": [
        "%%R\n",
        "summary(a)"
      ]
    },
    {
      "cell_type": "markdown",
      "metadata": {
        "id": "D0hVG-5XLeFb"
      },
      "source": [
        "Two vectors of same length can be added, subtracted, multiplied or divided giving the result as a vector output."
      ]
    },
    {
      "cell_type": "code",
      "execution_count": null,
      "metadata": {
        "id": "TbtYQ3c_Le4V"
      },
      "outputs": [],
      "source": [
        "%%R\n",
        "v1 <- c(3,8,4,5,0,11)\n",
        "v2 <- c(4,11,0,8,1,2)"
      ]
    },
    {
      "cell_type": "code",
      "execution_count": null,
      "metadata": {
        "colab": {
          "base_uri": "https://localhost:8080/"
        },
        "id": "hcMGRVOrLqqs",
        "outputId": "7773f866-31ad-46d6-d71e-81eb22aa9947"
      },
      "outputs": [
        {
          "name": "stdout",
          "output_type": "stream",
          "text": [
            "[1]  7 19  4 13  1 13\n"
          ]
        }
      ],
      "source": [
        "%%R\n",
        "# Vector addition.\n",
        "add.result <- v1+v2\n",
        "print(add.result)"
      ]
    },
    {
      "cell_type": "code",
      "execution_count": null,
      "metadata": {
        "colab": {
          "base_uri": "https://localhost:8080/"
        },
        "id": "41PElA9RLuop",
        "outputId": "da117937-0adb-4963-d995-d8d887d85c45"
      },
      "outputs": [
        {
          "name": "stdout",
          "output_type": "stream",
          "text": [
            "[1] -1 -3  4 -3 -1  9\n"
          ]
        }
      ],
      "source": [
        "%%R\n",
        "# Vector subtraction.\n",
        "sub.result <- v1-v2\n",
        "print(sub.result)"
      ]
    },
    {
      "cell_type": "code",
      "execution_count": null,
      "metadata": {
        "colab": {
          "base_uri": "https://localhost:8080/"
        },
        "id": "cORspoZWL0oG",
        "outputId": "bbc51c6a-cbc8-4e7c-cc87-e66f7cc40679"
      },
      "outputs": [
        {
          "name": "stdout",
          "output_type": "stream",
          "text": [
            "[1] 12 88  0 40  0 22\n"
          ]
        }
      ],
      "source": [
        "%%R\n",
        "# Vector multiplication.\n",
        "multi.result <- v1*v2\n",
        "print(multi.result)"
      ]
    },
    {
      "cell_type": "markdown",
      "metadata": {
        "id": "QR-T6X2HL8bZ"
      },
      "source": [
        "### Matrix\n",
        "\n",
        "Matrices is a two-dimensional rectangular layout of number in rows and columns. All columns in a matrix must have the same mode (numeric, character, etc.) and the same length.\n",
        "\n",
        "All columns in a matrix must have the same mode (numeric, character, etc.) and the same length. There are several ways of making a matrix. Suppose you were interested in the matrix of 2 x 3. You could form the two rows (vectors) and then bind (**rbind**) them together to form the matrix:"
      ]
    },
    {
      "cell_type": "code",
      "execution_count": null,
      "metadata": {
        "colab": {
          "base_uri": "https://localhost:8080/"
        },
        "id": "d7rkw8fnL9j7",
        "outputId": "c5c44bb2-a361-4638-b7bf-04d028c4a36d"
      },
      "outputs": [
        {
          "name": "stdout",
          "output_type": "stream",
          "text": [
            "   [,1] [,2] [,3]\n",
            "r1    6    2   10\n",
            "r2    1    3   -2\n"
          ]
        }
      ],
      "source": [
        "%%R\n",
        "r1=c(6,2,10)     # row 1\n",
        "r2=c(1,3,-2)     # row 2\n",
        "X=rbind(r1,r2)   # binds the vectors into rows a matrix\n",
        "X\n"
      ]
    },
    {
      "cell_type": "markdown",
      "metadata": {
        "id": "K61czjkIMIzU"
      },
      "source": [
        "We can bind them (**cbind**) the same vectors into columns of a matrix"
      ]
    },
    {
      "cell_type": "code",
      "execution_count": null,
      "metadata": {
        "colab": {
          "base_uri": "https://localhost:8080/"
        },
        "id": "Ytay9rsmMJpZ",
        "outputId": "b93cc836-6f61-4624-e73c-d49f2224b7b4"
      },
      "outputs": [
        {
          "name": "stdout",
          "output_type": "stream",
          "text": [
            "     r1 r2\n",
            "[1,]  6  1\n",
            "[2,]  2  3\n",
            "[3,] 10 -2\n"
          ]
        }
      ],
      "source": [
        "%%R\n",
        "Y=cbind(r1,r2)\n",
        "Y"
      ]
    },
    {
      "cell_type": "markdown",
      "metadata": {
        "id": "499BkHCCMS_P"
      },
      "source": [
        "A Matrix can be created using the **matrix()** function from the given set of values. The basic function of a matrix is:\n",
        "\n",
        "> matrix(data, nrow, ncol, byrow, dimnames)\n",
        "\n",
        "The values are:\n",
        "\n",
        "-   **data** is the input vector which becomes the data elements of the matrix.\n",
        "\n",
        "-   **nrow** is the number of rows to be created.\n",
        "\n",
        "-   **ncol** is the number of columns to be created.\n",
        "\n",
        "-   **byrow** is a logical clue. If TRUE then the input vector elements are arranged by row.\n",
        "\n",
        "-   **dimname** is the names assigned to the rows and columns."
      ]
    },
    {
      "cell_type": "code",
      "execution_count": null,
      "metadata": {
        "colab": {
          "base_uri": "https://localhost:8080/"
        },
        "id": "zd7UhpTZMU3h",
        "outputId": "34cb89c4-628c-4bd9-a24f-6b5927b39dba"
      },
      "outputs": [
        {
          "name": "stdout",
          "output_type": "stream",
          "text": [
            "     [,1] [,2] [,3]\n",
            "[1,]    1    2    3\n",
            "[2,]    4    5    6\n",
            "[3,]    7    8    9\n",
            "[4,]    1    2    3\n"
          ]
        }
      ],
      "source": [
        "%%R\n",
        "X<- matrix(1:9, nrow = 4, ncol = 3, byrow=T) # row matrix\n",
        "X"
      ]
    },
    {
      "cell_type": "code",
      "execution_count": null,
      "metadata": {
        "colab": {
          "base_uri": "https://localhost:8080/"
        },
        "id": "olZVTM1rM6UZ",
        "outputId": "1a559e85-9c3f-41df-e160-3500fb6b5606"
      },
      "outputs": [
        {
          "name": "stdout",
          "output_type": "stream",
          "text": [
            "$dim\n",
            "[1] 4 3\n",
            "\n"
          ]
        }
      ],
      "source": [
        "%%R\n",
        "attributes(X)"
      ]
    },
    {
      "cell_type": "markdown",
      "metadata": {
        "id": "zxnv1Z36M_wo"
      },
      "source": [
        "The class and attributes of X indicate that it is a matrix of four rows and three columns (these are its dim attributes)\n",
        "\n",
        "We can create matrix with row and column names:\n",
        "\n",
        "\n"
      ]
    },
    {
      "cell_type": "code",
      "execution_count": null,
      "metadata": {
        "colab": {
          "base_uri": "https://localhost:8080/"
        },
        "id": "RUvJ3JRJNJzw",
        "outputId": "92de8eeb-86f2-4b6e-eb31-fb3381fb2d62"
      },
      "outputs": [
        {
          "name": "stdout",
          "output_type": "stream",
          "text": [
            "   C1 C2 C3 C4\n",
            "R1  1 26 24 68\n",
            "R2 35 68 73 18\n",
            "R3  2 56  4  5\n",
            "R4 34 21 24 20\n"
          ]
        }
      ],
      "source": [
        "%%R\n",
        "# create a vector\n",
        "cells=c(1,26,24,68,35,68,73,18,2,56,4,5,34,21,24,20)  # create a vector\n",
        "# names of column rows\n",
        "cnames = c(\"C1\",\"C2\",\"C3\",\"C4\")\n",
        "# names of two rows\n",
        "rnames = c(\"R1\",\"R2\",\"R3\",\"R4\")\n",
        "# matrix\n",
        "Z= matrix(cells,nrow=4, ncol=4, byrow=TRUE,dimnames=list(rnames,cnames))\n",
        "Z"
      ]
    },
    {
      "cell_type": "markdown",
      "metadata": {
        "id": "EBEpCrcHNPlj"
      },
      "source": [
        "Or, we can easily naming the rows and columns of matrices. Suppose we want to labels rows with Trial names, like Trial.1, Trial.2 etc.:"
      ]
    },
    {
      "cell_type": "code",
      "execution_count": null,
      "metadata": {
        "colab": {
          "base_uri": "https://localhost:8080/"
        },
        "id": "vz70cUJlNQUg",
        "outputId": "e979c05a-5514-44b3-f69e-1cf8966cdb69"
      },
      "outputs": [
        {
          "name": "stdout",
          "output_type": "stream",
          "text": [
            "        [,1] [,2] [,3]\n",
            "Trial.1    1    2    3\n",
            "Trial.2    4    5    6\n",
            "Trial.3    7    8    9\n",
            "Trial.4    1    2    3\n"
          ]
        }
      ],
      "source": [
        "%%R\n",
        "rownames(X)<-rownames(X, do.NULL=FALSE, prefix=\"Trial.\")\n",
        "X"
      ]
    },
    {
      "cell_type": "markdown",
      "metadata": {
        "id": "F4jjSTDnNW_3"
      },
      "source": [
        "For column names, we will create a vector of different names for the three most commonly used drugs used in the trial, and use this to specify the colnames(X):"
      ]
    },
    {
      "cell_type": "code",
      "execution_count": null,
      "metadata": {
        "colab": {
          "base_uri": "https://localhost:8080/"
        },
        "id": "cv-q3sdONXvB",
        "outputId": "0a9f1a99-bd16-4852-cab8-f29d1f2c9528"
      },
      "outputs": [
        {
          "name": "stdout",
          "output_type": "stream",
          "text": [
            "        Aspirin Acetaminophen Ibuprofen\n",
            "Trial.1       1             2         3\n",
            "Trial.2       4             5         6\n",
            "Trial.3       7             8         9\n",
            "Trial.4       1             2         3\n"
          ]
        }
      ],
      "source": [
        "%%R\n",
        "drug.names<-c(\"Aspirin\", \"Acetaminophen\", \"Ibuprofen\")\n",
        "colnames(X)<-drug.names\n",
        "X"
      ]
    },
    {
      "cell_type": "markdown",
      "metadata": {
        "id": "RsJ1bH7qNflA"
      },
      "source": [
        "We can access elements of a matrix using the square bracket \\[ \\] indexing method. Elements can be accessed as var\\[row, column\\]. Here rows and columns are vectors."
      ]
    },
    {
      "cell_type": "code",
      "execution_count": null,
      "metadata": {
        "colab": {
          "base_uri": "https://localhost:8080/"
        },
        "id": "9WDqVc8mNme7",
        "outputId": "f758b25e-1c9f-424f-b914-384af5de7e9c"
      },
      "outputs": [
        {
          "name": "stdout",
          "output_type": "stream",
          "text": [
            "Trial.1 Trial.2 Trial.3 Trial.4 \n",
            "      2       5       8       2 \n"
          ]
        }
      ],
      "source": [
        "%%R\n",
        "X[,2]  # 2nd column of a matrix"
      ]
    },
    {
      "cell_type": "code",
      "execution_count": null,
      "metadata": {
        "colab": {
          "base_uri": "https://localhost:8080/"
        },
        "id": "E9F94FYiNpBa",
        "outputId": "917120da-0fdb-460a-8a32-460f09a56824"
      },
      "outputs": [
        {
          "name": "stdout",
          "output_type": "stream",
          "text": [
            "      Aspirin Acetaminophen     Ibuprofen \n",
            "            7             8             9 \n"
          ]
        }
      ],
      "source": [
        "%%R\n",
        "X[3,]  # 3rd row of a matrix"
      ]
    },
    {
      "cell_type": "code",
      "execution_count": null,
      "metadata": {
        "colab": {
          "base_uri": "https://localhost:8080/"
        },
        "id": "rAHpMLyUNsoW",
        "outputId": "964b6fe4-832c-4570-d92a-06db2441d606"
      },
      "outputs": [
        {
          "name": "stdout",
          "output_type": "stream",
          "text": [
            "        Acetaminophen Ibuprofen\n",
            "Trial.1             2         3\n",
            "Trial.2             5         6\n",
            "Trial.3             8         9\n",
            "Trial.4             2         3\n"
          ]
        }
      ],
      "source": [
        "%%R\n",
        "X[,2:3] # 2nd and 3rd column"
      ]
    },
    {
      "cell_type": "code",
      "execution_count": null,
      "metadata": {
        "colab": {
          "base_uri": "https://localhost:8080/"
        },
        "id": "xeKkNBVPNwan",
        "outputId": "5c42bb4a-e636-48d8-ad46-f5d115ff977f"
      },
      "outputs": [
        {
          "name": "stdout",
          "output_type": "stream",
          "text": [
            "        Aspirin Acetaminophen\n",
            "Trial.2       4             5\n",
            "Trial.3       7             8\n",
            "Trial.4       1             2\n"
          ]
        }
      ],
      "source": [
        "%%R\n",
        "X[2:4,1:2]     # rows 2,3,4 of columns 1 and 2"
      ]
    },
    {
      "cell_type": "markdown",
      "metadata": {
        "id": "4HyWD5LIN0-V"
      },
      "source": [
        "We can use **summary()** function to get row and column wise summary statistics of a matrix"
      ]
    },
    {
      "cell_type": "code",
      "execution_count": null,
      "metadata": {
        "colab": {
          "base_uri": "https://localhost:8080/"
        },
        "id": "BdHtwYg-N1LU",
        "outputId": "51002a05-067b-4949-add0-08f32548e217"
      },
      "outputs": [
        {
          "name": "stdout",
          "output_type": "stream",
          "text": [
            "    Aspirin     Acetaminophen    Ibuprofen   \n",
            " Min.   :1.00   Min.   :2.00   Min.   :3.00  \n",
            " 1st Qu.:1.00   1st Qu.:2.00   1st Qu.:3.00  \n",
            " Median :2.50   Median :3.50   Median :4.50  \n",
            " Mean   :3.25   Mean   :4.25   Mean   :5.25  \n",
            " 3rd Qu.:4.75   3rd Qu.:5.75   3rd Qu.:6.75  \n",
            " Max.   :7.00   Max.   :8.00   Max.   :9.00  \n"
          ]
        }
      ],
      "source": [
        "%%R\n",
        "summary(X)"
      ]
    },
    {
      "cell_type": "code",
      "execution_count": null,
      "metadata": {
        "colab": {
          "base_uri": "https://localhost:8080/"
        },
        "id": "TiDqDUADN-tt",
        "outputId": "aea259c3-ee87-44ee-8126-cd79fb6fa707"
      },
      "outputs": [
        {
          "name": "stdout",
          "output_type": "stream",
          "text": [
            "   Min. 1st Qu.  Median    Mean 3rd Qu.    Max. \n",
            "   1.00    1.00    2.50    3.25    4.75    7.00 \n"
          ]
        }
      ],
      "source": [
        "%%R\n",
        "# summary statistics and mean of the column 1 of matrix\n",
        "summary(X[,1])"
      ]
    },
    {
      "cell_type": "markdown",
      "metadata": {
        "id": "NTbZdFEdODvD"
      },
      "source": [
        "Calculated over all the rows and the mean & variance of the bottom row (Trial.4)"
      ]
    },
    {
      "cell_type": "code",
      "execution_count": null,
      "metadata": {
        "colab": {
          "base_uri": "https://localhost:8080/"
        },
        "id": "91t1Nr0sOHPG",
        "outputId": "1f7b77ae-ffd0-4d92-b253-f7f95b322598"
      },
      "outputs": [
        {
          "name": "stdout",
          "output_type": "stream",
          "text": [
            "[1] 1\n"
          ]
        }
      ],
      "source": [
        "%%R\n",
        "mean(X[4,])\n",
        "var(X[4,])"
      ]
    },
    {
      "cell_type": "markdown",
      "metadata": {
        "id": "blSm1hasOQGS"
      },
      "source": [
        "There are some special functions for calculating summary statistics on matrices"
      ]
    },
    {
      "cell_type": "code",
      "execution_count": null,
      "metadata": {
        "colab": {
          "base_uri": "https://localhost:8080/"
        },
        "id": "uGY3NPYDOQuz",
        "outputId": "767fb383-04bb-4389-b45f-961830a66270"
      },
      "outputs": [
        {
          "name": "stdout",
          "output_type": "stream",
          "text": [
            "Trial.1 Trial.2 Trial.3 Trial.4 \n",
            "      2       5       8       2 \n"
          ]
        }
      ],
      "source": [
        "%%R\n",
        "rowMeans(X)"
      ]
    },
    {
      "cell_type": "code",
      "execution_count": null,
      "metadata": {
        "colab": {
          "base_uri": "https://localhost:8080/"
        },
        "id": "RpwEnnn8OXRM",
        "outputId": "afd38853-7990-4d6c-87cf-69f7f2848ae3"
      },
      "outputs": [
        {
          "name": "stdout",
          "output_type": "stream",
          "text": [
            "      Aspirin Acetaminophen     Ibuprofen \n",
            "         3.25          4.25          5.25 \n"
          ]
        }
      ],
      "source": [
        "%%R\n",
        "colMeans(X)"
      ]
    },
    {
      "cell_type": "markdown",
      "metadata": {
        "id": "pbBr3dhBOdRf"
      },
      "source": [
        "### Factors\n",
        "\n",
        "Factors are data structures that are implemented to categorize the data or represent categorical data and store it on multiple levels.\n",
        "\n",
        "In R, **factor()** function create or convert string-vectors to factors:"
      ]
    },
    {
      "cell_type": "code",
      "execution_count": null,
      "metadata": {
        "colab": {
          "base_uri": "https://localhost:8080/"
        },
        "id": "VKQJboMrOeR3",
        "outputId": "c4055e16-5e46-45c5-f020-c6c65a2d988d"
      },
      "outputs": [
        {
          "name": "stdout",
          "output_type": "stream",
          "text": [
            "[1] TRUE\n"
          ]
        }
      ],
      "source": [
        "%%R\n",
        "# string vectors\n",
        "gender <- c(rep(\"male\",20), rep(\"female\", 30))\n",
        "# define factors\n",
        "gender <- factor(gender) # # 1=female, 2=male internally (alphabetically)\n",
        "# checking the factors\n",
        "print(is.factor(gender))\n"
      ]
    },
    {
      "cell_type": "code",
      "execution_count": null,
      "metadata": {
        "colab": {
          "base_uri": "https://localhost:8080/"
        },
        "id": "LMw_gw3wOuNT",
        "outputId": "a032af62-e0fb-42c3-afc2-3938802305cd"
      },
      "outputs": [
        {
          "name": "stdout",
          "output_type": "stream",
          "text": [
            "female   male \n",
            "    30     20 \n"
          ]
        }
      ],
      "source": [
        "%%R\n",
        "summary(gender)"
      ]
    },
    {
      "cell_type": "markdown",
      "metadata": {
        "id": "yZ9eYGcqO0qJ"
      },
      "source": [
        "### Lists\n",
        "\n",
        "List is a one-detrimental data element which consist of several objects in a order. The object in a list may be mixed data types or different data types.The list can be a list of vectors, a list of matrices, a list of characters and a list of functions, and so on.\n",
        "\n",
        "list in R is created with the use of **list()** function."
      ]
    },
    {
      "cell_type": "code",
      "execution_count": null,
      "metadata": {
        "colab": {
          "base_uri": "https://localhost:8080/"
        },
        "id": "YCwhSV8FO1th",
        "outputId": "dbeb6e19-803a-4a04-cd2e-a52ecd645a5f"
      },
      "outputs": [
        {
          "name": "stdout",
          "output_type": "stream",
          "text": [
            "[[1]]\n",
            "[[1]]$Location\n",
            "[1] \"NY\"\n",
            "\n",
            "[[1]]$Year\n",
            "[1] 2021\n",
            "\n",
            "[[1]]$LabExp\n",
            "        Aspirin Acetaminophen Ibuprofen\n",
            "Trial.1       1             2         3\n",
            "Trial.2       4             5         6\n",
            "Trial.3       7             8         9\n",
            "Trial.4       1             2         3\n",
            "\n",
            "\n"
          ]
        }
      ],
      "source": [
        "%%R\n",
        "my.list <- list(Location=\"NY\",\n",
        "                Year = 2021,\n",
        "                LabExp=X) # Lab experimental data\n",
        "\n",
        "\n",
        "list(my.list)"
      ]
    },
    {
      "cell_type": "markdown",
      "metadata": {
        "id": "HXjopSWxO7oh"
      },
      "source": [
        "Components of a list can be accessed in similar fashion like matrix or data frame:\n",
        "\n"
      ]
    },
    {
      "cell_type": "code",
      "execution_count": null,
      "metadata": {
        "colab": {
          "base_uri": "https://localhost:8080/"
        },
        "id": "ku-_FN33PBGN",
        "outputId": "21b6460e-2df0-4adf-d031-96085e63d9c8"
      },
      "outputs": [
        {
          "name": "stdout",
          "output_type": "stream",
          "text": [
            "$LabExp\n",
            "        Aspirin Acetaminophen Ibuprofen\n",
            "Trial.1       1             2         3\n",
            "Trial.2       4             5         6\n",
            "Trial.3       7             8         9\n",
            "Trial.4       1             2         3\n",
            "\n"
          ]
        }
      ],
      "source": [
        "%%R\n",
        "my.list[\"LabExp\"]"
      ]
    },
    {
      "cell_type": "markdown",
      "metadata": {
        "id": "p6v73Y5-PFxW"
      },
      "source": [
        "### Data Frames\n",
        "\n",
        "In R, tabular data are stored as Data Frame which is made up of three principal components, the data, rows, and columns. It is more general than a matrix, in that different columns can have different modes (numeric, character, factor, etc.).\n",
        "\n",
        "To create a data frame in R use **data.frame()** command and then pass each of the vectors you have created as arguments to the function"
      ]
    },
    {
      "cell_type": "code",
      "execution_count": null,
      "metadata": {
        "colab": {
          "base_uri": "https://localhost:8080/"
        },
        "id": "wr4R5GgaPGgy",
        "outputId": "abe1dcd4-9a1b-41b0-e3c1-67ef0edf1b3f"
      },
      "outputs": [
        {
          "name": "stdout",
          "output_type": "stream",
          "text": [
            "  ID Landcover Settlement  pH  SOC\n",
            "1  1 Grassland      FALSE 6.6 1.20\n",
            "2  2    Forest      FALSE 4.5 3.40\n",
            "3  3    Arable      FALSE 6.8 1.10\n",
            "4  4     Urban       TRUE 7.5 0.12\n"
          ]
        }
      ],
      "source": [
        "%%R\n",
        "ID = c(1,2,3,4)    # create a vector of ID coloumn\n",
        "Landcover = c(\"Grassland\",\"Forest\", \"Arable\", \"Urban\") # create a text vector\n",
        "Settlement  = c (FALSE, FALSE, FALSE, TRUE) # creates a logical vector\n",
        "pH   = c(6.6,4.5, 6.8, 7.5)   # create a numerical vector\n",
        "SOC  = c (1.2, 3.4, 1.1, 0.12) # create a numerical vector\n",
        "my.df=data.frame(ID,Landcover,Settlement, pH, SOC) # create a data frame\n",
        "\n",
        "my.df"
      ]
    },
    {
      "cell_type": "markdown",
      "metadata": {
        "id": "-EtHw6D4Pk1X"
      },
      "source": [
        "we can see the detail of structure using **str()** function"
      ]
    },
    {
      "cell_type": "code",
      "execution_count": null,
      "metadata": {
        "colab": {
          "base_uri": "https://localhost:8080/"
        },
        "id": "cUYvixjrPloR",
        "outputId": "1e8efae5-53a6-42ed-8062-5d1393bad862"
      },
      "outputs": [
        {
          "name": "stdout",
          "output_type": "stream",
          "text": [
            "'data.frame':\t4 obs. of  5 variables:\n",
            " $ ID        : num  1 2 3 4\n",
            " $ Landcover : chr  \"Grassland\" \"Forest\" \"Arable\" \"Urban\"\n",
            " $ Settlement: logi  FALSE FALSE FALSE TRUE\n",
            " $ pH        : num  6.6 4.5 6.8 7.5\n",
            " $ SOC       : num  1.2 3.4 1.1 0.12\n"
          ]
        }
      ],
      "source": [
        "%%R\n",
        "str(my.df)"
      ]
    },
    {
      "cell_type": "code",
      "execution_count": null,
      "metadata": {
        "colab": {
          "base_uri": "https://localhost:8080/"
        },
        "id": "mVKkPv_fPtIb",
        "outputId": "57d857ad-dbe6-4d9c-de24-8bb02994db64"
      },
      "outputs": [
        {
          "name": "stdout",
          "output_type": "stream",
          "text": [
            "  ID Landcover Settlement  pH  SOC\n",
            "1  1 Grassland      FALSE 6.6 1.20\n",
            "2  2    Forest      FALSE 4.5 3.40\n",
            "3  3    Arable      FALSE 6.8 1.10\n",
            "4  4     Urban       TRUE 7.5 0.12\n"
          ]
        }
      ],
      "source": [
        "%%R\n",
        "head(my.df)"
      ]
    },
    {
      "cell_type": "code",
      "execution_count": null,
      "metadata": {
        "colab": {
          "base_uri": "https://localhost:8080/"
        },
        "id": "BBsKbjbPPxcl",
        "outputId": "65f77f33-195c-4947-b4be-6ce4eb747ddc"
      },
      "outputs": [
        {
          "name": "stdout",
          "output_type": "stream",
          "text": [
            "   Min. 1st Qu.  Median    Mean 3rd Qu.    Max. \n",
            "  4.500   6.075   6.700   6.350   6.975   7.500 \n"
          ]
        }
      ],
      "source": [
        "%%R\n",
        "summary(my.df$pH)"
      ]
    },
    {
      "cell_type": "code",
      "execution_count": null,
      "metadata": {
        "colab": {
          "base_uri": "https://localhost:8080/"
        },
        "id": "SZamzFMuP2XV",
        "outputId": "e8ca615d-17ec-4319-b32f-8552742b424e"
      },
      "outputs": [
        {
          "name": "stdout",
          "output_type": "stream",
          "text": [
            "       pH             SOC       \n",
            " Min.   :4.500   Min.   :0.120  \n",
            " 1st Qu.:6.075   1st Qu.:0.855  \n",
            " Median :6.700   Median :1.150  \n",
            " Mean   :6.350   Mean   :1.455  \n",
            " 3rd Qu.:6.975   3rd Qu.:1.750  \n",
            " Max.   :7.500   Max.   :3.400  \n"
          ]
        }
      ],
      "source": [
        "%%R\n",
        "summary(my.df[,4:5])"
      ]
    },
    {
      "cell_type": "code",
      "execution_count": null,
      "metadata": {
        "colab": {
          "base_uri": "https://localhost:8080/"
        },
        "id": "_Z8fJC89P-J8",
        "outputId": "35d64966-9717-4e76-920e-f7aa16d37aeb"
      },
      "outputs": [
        {
          "name": "stdout",
          "output_type": "stream",
          "text": [
            "  Landcover\n",
            "1 Grassland\n",
            "2    Forest\n",
            "3    Arable\n",
            "4     Urban\n"
          ]
        }
      ],
      "source": [
        "%%R\n",
        "my.df[\"Landcover\"]"
      ]
    },
    {
      "cell_type": "markdown",
      "metadata": {
        "id": "zsOPz8hXQDRB"
      },
      "source": [
        "## Control Statements\n",
        "\n",
        "Control statements are programming language constructs that allow the programmer to control the flow of execution of a program. They are used to alter the order in which statements are executed, and to make decisions based on conditions.\n",
        "\n",
        "The eight major types of control statements are follows:\n",
        "\n",
        "-   `if`: statement for conditional programming\n",
        "-   `if..else`: statement for conditional programming\n",
        "-   `for`: loop to iterate over a fixed number of iterations\n",
        "-   `while`: loop to iterate until a logical statement returns FALSE\n",
        "-   `repeat`: loop to execute until told to break\n",
        "-   `break/next`:break/next arguments to exit and skip interations in a loop\n",
        "\n",
        "### if Statement\n",
        "\n",
        "If the expression is true, the statement gets executed. But if the expression is FALSE, nothing happens."
      ]
    },
    {
      "cell_type": "code",
      "execution_count": null,
      "metadata": {
        "colab": {
          "base_uri": "https://localhost:8080/"
        },
        "id": "_E2yqIO9QESy",
        "outputId": "54dad5e3-0bff-44df-e5c5-e910e1e72b1a"
      },
      "outputs": [
        {
          "name": "stdout",
          "output_type": "stream",
          "text": [
            "[1] \"12 is greater than 10\"\n"
          ]
        }
      ],
      "source": [
        "%%R\n",
        "x <- 12\n",
        "# condition\n",
        "if(x > 10){\n",
        "print(paste(x, \"is greater than 10\"))\n",
        "}"
      ]
    },
    {
      "cell_type": "markdown",
      "metadata": {
        "id": "0B2yzxPmQKt9"
      },
      "source": [
        "### if-else Condition\n",
        "\n",
        "It is similar to **if** condition but when the test expression in **if** condition fails, then statements in **else** condition are executed."
      ]
    },
    {
      "cell_type": "code",
      "execution_count": null,
      "metadata": {
        "colab": {
          "base_uri": "https://localhost:8080/"
        },
        "id": "7npfOvAWQLdi",
        "outputId": "59f43e92-8877-4980-980e-5a082698b49b"
      },
      "outputs": [
        {
          "name": "stdout",
          "output_type": "stream",
          "text": [
            "[1] \"x contains negative numbers\"\n"
          ]
        }
      ],
      "source": [
        "%%R\n",
        "x <- c(3, 3, -2, 1)\n",
        "\n",
        "if(any(x < 0)){\n",
        "        print(\"x contains negative numbers\")\n",
        "} else{\n",
        "        print(\"x contains all positive numbers\")\n",
        "}"
      ]
    },
    {
      "cell_type": "code",
      "execution_count": null,
      "metadata": {
        "colab": {
          "base_uri": "https://localhost:8080/"
        },
        "id": "_VYBjbWpQSGb",
        "outputId": "142ad452-4aed-4a9a-a7b5-c0432ad53c91"
      },
      "outputs": [
        {
          "name": "stdout",
          "output_type": "stream",
          "text": [
            "[1] \"x contains all positive numbers\"\n"
          ]
        }
      ],
      "source": [
        "%%R\n",
        "x <- c(3, 3, 3, 1)\n",
        "\n",
        "if(any(x < 0)){\n",
        "        print(\"x contains negative numbers\")\n",
        "} else{\n",
        "        print(\"x contains all positive numbers\")\n",
        "}"
      ]
    },
    {
      "cell_type": "markdown",
      "metadata": {
        "id": "wDYaNsl-QXbd"
      },
      "source": [
        "### For loop\n",
        "\n",
        "The for loop is used to execute repetitive code statements for a particular number of time. It is useful to iterate over the elements of a list, dataframe, vector, matrix, or any other object."
      ]
    },
    {
      "cell_type": "code",
      "execution_count": null,
      "metadata": {
        "colab": {
          "base_uri": "https://localhost:8080/"
        },
        "id": "MD36GfccQYXs",
        "outputId": "50d7bc72-d030-485e-d4fa-2f9307a8d584"
      },
      "outputs": [
        {
          "name": "stdout",
          "output_type": "stream",
          "text": [
            "[1] \"The number is 10\"\n",
            "[1] \"The number is 11\"\n",
            "[1] \"The number is 12\"\n",
            "[1] \"The number is 13\"\n",
            "[1] \"The number is 14\"\n",
            "[1] \"The number is 15\"\n"
          ]
        }
      ],
      "source": [
        "%%R\n",
        "for (i in 10:15){\n",
        "        output <- paste(\"The number is\", i)\n",
        "        print(output)\n",
        "}"
      ]
    },
    {
      "cell_type": "code",
      "execution_count": null,
      "metadata": {
        "colab": {
          "base_uri": "https://localhost:8080/"
        },
        "id": "2y4V2eDHQgpv",
        "outputId": "94c88a5e-4712-48cb-9f99-4c0f87c7385c"
      },
      "outputs": [
        {
          "name": "stdout",
          "output_type": "stream",
          "text": [
            "[1] -8\n",
            "[1] 3\n",
            "[1] 12\n",
            "[1] 15\n"
          ]
        }
      ],
      "source": [
        "%%R\n",
        "# for loop with vector\n",
        "x <- c(-8, 3, 12, 15)\n",
        "for (i in x)\n",
        "{\n",
        "    print(i)\n",
        "}"
      ]
    },
    {
      "cell_type": "markdown",
      "metadata": {
        "id": "fd67F6p9QkhM"
      },
      "source": [
        "### while loop\n",
        "\n",
        "While loop executes the same code again and again until a stop condition is met"
      ]
    },
    {
      "cell_type": "code",
      "execution_count": null,
      "metadata": {
        "colab": {
          "base_uri": "https://localhost:8080/"
        },
        "id": "64z_uQs6QlR6",
        "outputId": "5536df3a-95c4-4100-b5d2-51676bb347e0"
      },
      "outputs": [
        {
          "name": "stdout",
          "output_type": "stream",
          "text": [
            "[1] 1\n",
            "[1] 2\n",
            "[1] 3\n",
            "[1] 4\n"
          ]
        }
      ],
      "source": [
        "%%R\n",
        "result <- 1\n",
        "i <- 1\n",
        "# test expression\n",
        "while (i < 5) {\n",
        "    print(result)\n",
        "# update expression\n",
        "   i = i + 1\n",
        "   result = result + 1\n",
        "}"
      ]
    },
    {
      "cell_type": "markdown",
      "metadata": {
        "id": "H8N_jjefQtYG"
      },
      "source": [
        "Following example show the **while** statement with **break**\n",
        "\n"
      ]
    },
    {
      "cell_type": "code",
      "execution_count": null,
      "metadata": {
        "colab": {
          "base_uri": "https://localhost:8080/"
        },
        "id": "EsrHnd8QQylk",
        "outputId": "5545f69e-4af9-42d0-89f4-4cead5a42903"
      },
      "outputs": [
        {
          "name": "stdout",
          "output_type": "stream",
          "text": [
            "[1] 1\n",
            "[1] 2\n"
          ]
        }
      ],
      "source": [
        "%%R\n",
        "result <- 1\n",
        "i <- 1\n",
        "# test expression\n",
        "while (i < 5) {\n",
        "    print(result)\n",
        "# add break after 2 element\n",
        "  if (i==2){\n",
        "    break\n",
        "  }\n",
        "# update expression\n",
        "   i = i + 1\n",
        "   result = result + 1\n",
        "}"
      ]
    },
    {
      "cell_type": "markdown",
      "metadata": {
        "id": "0y-M_aTPQ26E"
      },
      "source": [
        "## Writing R Functions\n",
        "\n",
        "Writing custom functions is an important part of programming in R.\n",
        "\n",
        "To create a new R function we need to think about 4 major things:\n",
        "\n",
        "-   the **name** of the function\n",
        "\n",
        "-   the **arguments** (inputs) the function will take\n",
        "\n",
        "-   the **code** the function will run\n",
        "\n",
        "-   the **output** the function will **return** for the user\n",
        "\n",
        "To create a function, use the **function(**) keyword:"
      ]
    },
    {
      "cell_type": "code",
      "execution_count": null,
      "metadata": {
        "colab": {
          "base_uri": "https://localhost:8080/"
        },
        "id": "KaGhMOgqQ6GN",
        "outputId": "690cccf7-7e0f-4877-934b-a32e6f797c24"
      },
      "outputs": [
        {
          "name": "stdout",
          "output_type": "stream",
          "text": [
            "[1] \"Hello World!\"\n"
          ]
        }
      ],
      "source": [
        "%%R\n",
        "# create a function with the name my_function\n",
        "my_function <- function() {\n",
        "  print(\"Hello World!\")\n",
        "}\n",
        "# call the function\n",
        "my_function()"
      ]
    },
    {
      "cell_type": "markdown",
      "metadata": {
        "id": "e0d6L6MPQ-vT"
      },
      "source": [
        "Arguments are specified after the function name, inside the parentheses. The following example has a function (full_name) with one arguments (last_name). When the function is called, we pass along a first name, which is used inside the function to print the full name:"
      ]
    },
    {
      "cell_type": "code",
      "execution_count": null,
      "metadata": {
        "colab": {
          "base_uri": "https://localhost:8080/"
        },
        "id": "uWJ80TWHQ_YX",
        "outputId": "94f824bb-1737-4f41-c318-9a98a3bbfb32"
      },
      "outputs": [
        {
          "name": "stdout",
          "output_type": "stream",
          "text": [
            "[1] \"Zia Ahmed\"\n"
          ]
        }
      ],
      "source": [
        "%%R\n",
        "fulll_name <- function(last_name) {\n",
        "  paste(\"Zia\",  last_name)\n",
        "}\n",
        "fulll_name(\"Ahmed\")"
      ]
    },
    {
      "cell_type": "markdown",
      "metadata": {
        "id": "ruYfqnbPRFEl"
      },
      "source": [
        "To return the results of a function, use the **return(**) function:"
      ]
    },
    {
      "cell_type": "code",
      "execution_count": null,
      "metadata": {
        "colab": {
          "base_uri": "https://localhost:8080/"
        },
        "id": "ZfuIhDS0RGLn",
        "outputId": "281e4019-f24c-4e10-a5f2-b81a53f6e603"
      },
      "outputs": [
        {
          "name": "stdout",
          "output_type": "stream",
          "text": [
            "[1] 3\n",
            "[1] 4\n"
          ]
        }
      ],
      "source": [
        "%%R\n",
        "addition <- function(x) {\n",
        "  return (1 + x)\n",
        "}\n",
        "print(addition(2))\n",
        "print(addition(3))"
      ]
    },
    {
      "cell_type": "markdown",
      "metadata": {
        "id": "FQcx0yiGRM3T"
      },
      "source": [
        "We can create a simple equation with two arguments (x, y):"
      ]
    },
    {
      "cell_type": "code",
      "execution_count": null,
      "metadata": {
        "colab": {
          "base_uri": "https://localhost:8080/"
        },
        "id": "00cqJNWHRNwb",
        "outputId": "b8a3af72-b68b-440b-ea0c-1b81727aad91"
      },
      "outputs": [
        {
          "name": "stdout",
          "output_type": "stream",
          "text": [
            "[1] 4\n"
          ]
        }
      ],
      "source": [
        "%%R\n",
        "equation <- function(x, y) {\n",
        "  a <- x + y\n",
        "  return(a)\n",
        "}\n",
        "equation(2,2)\n"
      ]
    },
    {
      "cell_type": "markdown",
      "metadata": {
        "id": "AjJqmaw-RTGJ"
      },
      "source": [
        "We can Call a function within another function:"
      ]
    },
    {
      "cell_type": "code",
      "execution_count": null,
      "metadata": {
        "colab": {
          "base_uri": "https://localhost:8080/"
        },
        "id": "f3d4Lyd1RZou",
        "outputId": "e8568a27-0492-4d06-bf86-dbd64500318e"
      },
      "outputs": [
        {
          "name": "stdout",
          "output_type": "stream",
          "text": [
            "[1] 12\n"
          ]
        }
      ],
      "source": [
        "%%R\n",
        "equation(equation(2,4), equation(3,3))\n",
        "\n",
        "\n"
      ]
    },
    {
      "cell_type": "markdown",
      "metadata": {
        "id": "tY_jBPNpRl_i"
      },
      "source": [
        "We can also write a function within a function:"
      ]
    },
    {
      "cell_type": "code",
      "execution_count": null,
      "metadata": {
        "colab": {
          "base_uri": "https://localhost:8080/"
        },
        "id": "GFUDQ18aRm6q",
        "outputId": "a152beb1-4e7b-4642-8a8b-9566a7aa014e"
      },
      "outputs": [
        {
          "name": "stdout",
          "output_type": "stream",
          "text": [
            "[1] 0.04115226\n"
          ]
        }
      ],
      "source": [
        "%%R\n",
        "x <- 10\n",
        "y<- function() {\n",
        "        r <- 2\n",
        "        n <- 5\n",
        "        z <- function() {\n",
        "                (1+r)^n\n",
        "        }\n",
        "        x/z()\n",
        "}\n",
        "y()"
      ]
    },
    {
      "cell_type": "markdown",
      "metadata": {
        "id": "nMC2KAmvRuZV"
      },
      "source": [
        "Returning Multiple Outputs from a Function:"
      ]
    },
    {
      "cell_type": "code",
      "execution_count": null,
      "metadata": {
        "colab": {
          "base_uri": "https://localhost:8080/"
        },
        "id": "jqeNs_ElRvEP",
        "outputId": "e09cdc5f-49be-4460-93ab-56a1164c5b2c"
      },
      "outputs": [
        {
          "name": "stdout",
          "output_type": "stream",
          "text": [
            "[1] 4.0 5.0 6.0 0.5\n"
          ]
        }
      ],
      "source": [
        "%%R\n",
        "results_all <- function(x, y) {\n",
        "        results1 <- 2*x + y\n",
        "        results2 <- x + 2*y\n",
        "        results3 <- 2*x + 2*y\n",
        "        results4 <- x/y\n",
        "        c(results1, results2, results3, results4)\n",
        "}\n",
        "results_all(1, 2)"
      ]
    },
    {
      "cell_type": "markdown",
      "metadata": {
        "id": "1_IqTbsPR0nY"
      },
      "source": [
        "Following function shows an example to convert temperature from Celsius (C) to Fahrenheit (F):"
      ]
    },
    {
      "cell_type": "code",
      "execution_count": null,
      "metadata": {
        "id": "bjLCfPNMR3Vr"
      },
      "outputs": [],
      "source": [
        "%%R\n",
        "C_to_F = function(C) {\n",
        " f = (9/5) * C + 32; # formula\n",
        " return(f); # return to\n",
        "}\n"
      ]
    },
    {
      "cell_type": "code",
      "execution_count": null,
      "metadata": {
        "colab": {
          "base_uri": "https://localhost:8080/"
        },
        "id": "E1_Hgt1eR8ZA",
        "outputId": "42d62327-d419-4a60-90f6-c9e4da0a2cb3"
      },
      "outputs": [
        {
          "name": "stdout",
          "output_type": "stream",
          "text": [
            "[1] 50\n"
          ]
        }
      ],
      "source": [
        "%%R\n",
        "C_to_F(10)"
      ]
    },
    {
      "cell_type": "code",
      "execution_count": null,
      "metadata": {
        "colab": {
          "base_uri": "https://localhost:8080/"
        },
        "id": "e8AuiqKnSDzS",
        "outputId": "992ecb20-0b05-4a36-9d96-48e61b5d8cee"
      },
      "outputs": [
        {
          "name": "stdout",
          "output_type": "stream",
          "text": [
            "[1] 39.2 41.0 42.8 44.6 46.4 48.2 50.0\n"
          ]
        }
      ],
      "source": [
        "%%R\n",
        "C= c(4:10)\n",
        "C_to_F(C)"
      ]
    },
    {
      "cell_type": "markdown",
      "metadata": {
        "id": "6Eo__DvcSNpN"
      },
      "source": [
        "## Apply Family\n",
        "\n",
        "The apply family consists of vectorized functions which minimize our need to explicitly create loops. These family is an inbuilt R package, so no need to install any packages for the execution.\n",
        "\n",
        "-   **apply(**) for matrices and data frames\n",
        "\n",
        "-   **lapply()** for lists...output as list\n",
        "\n",
        "-   **sapply(**) for lists...output simplified\n",
        "\n",
        "-   **tapply()** for vectors\n",
        "\n",
        "-   **mapply()** for multi-variant"
      ]
    },
    {
      "cell_type": "markdown",
      "metadata": {
        "id": "gBB5O2yUSOUl"
      },
      "source": [
        "### apply\n",
        "\n",
        "apply() returns a vector or array or list of values obtained by applying a function to margins of an array or matrix or dataframe. Using `apply()` is not faster than using a loop function, but it is highly compact and can be written in one line.\n",
        "\n",
        "> apply(x,MARGIN, FUN,...)\n",
        "\n",
        "Where:\n",
        "\n",
        "-   **x** is the matrix, dataframe or array\n",
        "\n",
        "-   **MARGIN** is a vector giving the subscripts which the function will be applied over. E.g., for a matrix 1 indicates rows, 2 indicates columns, c(1, 2) indicates rows and columns.\n",
        "\n",
        "-   **FUN** is the function to be applied\n",
        "\n",
        "-   **...** is for any other arguments to be passed to the function"
      ]
    },
    {
      "cell_type": "code",
      "execution_count": null,
      "metadata": {
        "id": "n9uKuccVSREF"
      },
      "outputs": [],
      "source": [
        "%%R\n",
        "# Crate a dataframe\n",
        "df <- cbind(x1 = 1:8, x2 = 2:9, x3=3:10)\n",
        "# add row names\n",
        "dimnames(df)[[1]] <- letters[1:8]"
      ]
    },
    {
      "cell_type": "code",
      "execution_count": null,
      "metadata": {
        "colab": {
          "base_uri": "https://localhost:8080/"
        },
        "id": "zL-hRpLRSWSe",
        "outputId": "4842b3f3-1f79-42c9-cd68-cb51eadbd2fb"
      },
      "outputs": [
        {
          "name": "stdout",
          "output_type": "stream",
          "text": [
            " x1  x2  x3 \n",
            "4.5 5.5 6.5 \n"
          ]
        }
      ],
      "source": [
        "%%R\n",
        "# calculate column mean\n",
        "apply(df, 2, mean, trim = 0.2)"
      ]
    },
    {
      "cell_type": "code",
      "execution_count": null,
      "metadata": {
        "colab": {
          "base_uri": "https://localhost:8080/"
        },
        "id": "plU8DASDSeSQ",
        "outputId": "2b9abae1-fe10-4ae2-a382-fad43b38744d"
      },
      "outputs": [
        {
          "name": "stdout",
          "output_type": "stream",
          "text": [
            "a b c d e f g h \n",
            "2 3 4 5 6 7 8 9 \n"
          ]
        }
      ],
      "source": [
        "%%R\n",
        "# calculate row mean\n",
        "apply(df, 1, mean, trim = .2)"
      ]
    },
    {
      "cell_type": "markdown",
      "metadata": {
        "id": "DevQ3vgASps4"
      },
      "source": [
        "### lapply\n",
        "\n",
        "lapply() returns a list of the same length as X (list), each element of which is the result of applying FUN to the corresponding element of X. It loops over a list, iterating over each element in that list and then applies a function to each element of the list and finally returns a list (l stand for list).\n",
        "\n",
        "> lapply(x, FUN, ...)\n",
        "\n",
        "Where:\n",
        "\n",
        "-   **x** is the list\n",
        "\n",
        "-   **FUN** is the function to be applied\n",
        "\n",
        "-   **...** is for any other arguments to be passed to the function"
      ]
    },
    {
      "cell_type": "code",
      "execution_count": null,
      "metadata": {
        "colab": {
          "base_uri": "https://localhost:8080/"
        },
        "id": "1zyzfGzJSqr_",
        "outputId": "53e3fbef-b581-49b7-c80a-5c858cd71f76"
      },
      "outputs": [
        {
          "name": "stdout",
          "output_type": "stream",
          "text": [
            "$A\n",
            "     [,1] [,2] [,3]\n",
            "[1,]    1    4    7\n",
            "[2,]    2    5    8\n",
            "[3,]    3    6    9\n",
            "\n",
            "$B\n",
            "[1] 1 2 3 4 5\n",
            "\n",
            "$C\n",
            "[1] 8 5\n",
            "\n",
            "$logic\n",
            "[1]  TRUE FALSE FALSE  TRUE  TRUE\n",
            "\n"
          ]
        }
      ],
      "source": [
        "%%R\n",
        "# Create a list\n",
        "mylist<-list(A=matrix(1:9,nrow=3),B=1:5,C=c(8,5),  logic = c(TRUE,FALSE,FALSE,TRUE, TRUE))\n",
        "mylist"
      ]
    },
    {
      "cell_type": "code",
      "execution_count": null,
      "metadata": {
        "colab": {
          "base_uri": "https://localhost:8080/"
        },
        "id": "uGdCFVVvSvBM",
        "outputId": "85909eac-073c-450c-9661-3971199a93b6"
      },
      "outputs": [
        {
          "name": "stdout",
          "output_type": "stream",
          "text": [
            "$A\n",
            "[1] 5\n",
            "\n",
            "$B\n",
            "[1] 3\n",
            "\n",
            "$C\n",
            "[1] 6.5\n",
            "\n",
            "$logic\n",
            "[1] 0.6\n",
            "\n"
          ]
        }
      ],
      "source": [
        "%%R\n",
        "lapply(mylist, mean)"
      ]
    },
    {
      "cell_type": "markdown",
      "metadata": {
        "id": "l6WnG8uuS4HT"
      },
      "source": [
        "You can see how the results are saved as a list form. We can easily unlist the results:"
      ]
    },
    {
      "cell_type": "code",
      "execution_count": null,
      "metadata": {
        "colab": {
          "base_uri": "https://localhost:8080/"
        },
        "id": "mAGD7FfkSo_A",
        "outputId": "57e03301-7bf9-4d30-ea62-cc8b32e65dcb"
      },
      "outputs": [
        {
          "name": "stdout",
          "output_type": "stream",
          "text": [
            "    A     B     C logic \n",
            "  5.0   3.0   6.5   0.6 \n"
          ]
        }
      ],
      "source": [
        "%%R\n",
        "unlist(lapply(mylist,mean))"
      ]
    },
    {
      "cell_type": "markdown",
      "metadata": {
        "id": "hjgXvm0TS_7m"
      },
      "source": [
        "### sapply\n",
        "\n",
        "sapply() is a wrapper of lapply() to simplify the result to vector or matrix."
      ]
    },
    {
      "cell_type": "code",
      "execution_count": null,
      "metadata": {
        "colab": {
          "base_uri": "https://localhost:8080/"
        },
        "id": "qTkum9siTCAa",
        "outputId": "c6b1b2d0-82ff-483f-b16d-63e3ded18aee"
      },
      "outputs": [
        {
          "name": "stdout",
          "output_type": "stream",
          "text": [
            "    A     B     C logic \n",
            "  5.0   3.0   6.5   0.6 \n"
          ]
        }
      ],
      "source": [
        "%%R\n",
        "sapply(mylist, mean)"
      ]
    },
    {
      "cell_type": "markdown",
      "metadata": {
        "id": "Z-VDwfAOTJg3"
      },
      "source": [
        "### tapply\n",
        "\n",
        "tapply() is used to apply a function over subsets of a vector when a dataset can be broken up into groups (via categorical variables - aka factors).\n",
        "\n",
        "We can use tapply() to calculate mean values of pH an SOC for land cover"
      ]
    },
    {
      "cell_type": "code",
      "execution_count": null,
      "metadata": {
        "colab": {
          "base_uri": "https://localhost:8080/"
        },
        "id": "rKALG9gWTGvI",
        "outputId": "e517d7ab-9e28-4cc6-85fa-78e736736e58"
      },
      "outputs": [
        {
          "name": "stdout",
          "output_type": "stream",
          "text": [
            "           pH  SOC\n",
            "Arable    6.8 1.10\n",
            "Forest    4.5 3.40\n",
            "Grassland 6.6 1.20\n",
            "Urban     7.5 0.12\n"
          ]
        }
      ],
      "source": [
        "%%R\n",
        "apply(my.df[4:5], 2, function(x) tapply(x, my.df$Landcover, mean))"
      ]
    },
    {
      "cell_type": "markdown",
      "metadata": {
        "id": "k2n2ujSATc1h"
      },
      "source": [
        "### mapply\n",
        "\n",
        "mapply() is a multivariate version of sapply(). mapply() applies FUN to the first elements of each ... argument, the second elements, the third elements, and so on."
      ]
    },
    {
      "cell_type": "code",
      "execution_count": null,
      "metadata": {
        "colab": {
          "base_uri": "https://localhost:8080/"
        },
        "id": "AR99qJojTgk-",
        "outputId": "afd890f2-5cb7-4a61-b0db-02860771e446"
      },
      "outputs": [
        {
          "name": "stdout",
          "output_type": "stream",
          "text": [
            "[[1]]\n",
            "[1] 2 2 2 2\n",
            "\n",
            "[[2]]\n",
            "[1] 3 3 3\n",
            "\n",
            "[[3]]\n",
            "[1] 4 4\n",
            "\n"
          ]
        }
      ],
      "source": [
        "%%R\n",
        "list( rep(2, 4), rep(3, 3), rep(4, 2))"
      ]
    },
    {
      "cell_type": "markdown",
      "metadata": {
        "id": "XD5zFkw0TlJ8"
      },
      "source": [
        "You can see that the same function (rep) is being called repeatedly where the first argument (number vector) varies from 2 to 4, and the second argument (rep) varies from 4 to 2. Instead, you can use mapply()"
      ]
    },
    {
      "cell_type": "code",
      "execution_count": null,
      "metadata": {
        "colab": {
          "base_uri": "https://localhost:8080/"
        },
        "id": "f8PY1F1eTlRl",
        "outputId": "7365bcdf-6bca-4820-e329-8f43462bf9d0"
      },
      "outputs": [
        {
          "name": "stdout",
          "output_type": "stream",
          "text": [
            "[[1]]\n",
            "[1] 2 2 2 2\n",
            "\n",
            "[[2]]\n",
            "[1] 3 3 3\n",
            "\n",
            "[[3]]\n",
            "[1] 4 4\n",
            "\n"
          ]
        }
      ],
      "source": [
        "%%R\n",
        "mapply(rep, 2:4, 4:2)"
      ]
    },
    {
      "cell_type": "markdown",
      "source": [
        "## Summary Conclusion\n",
        "\n",
        "This tutorial comprehensively introduces the fundamental aspects of utilizing the R programming language for data analysis. The tutorial commences with exploring the basics of R, including its syntax, while also acquainting readers with critical concepts such as variables, data types, and functions. The tutorial further delves into the wide variety of data types that are available in R, ranging from numeric and character vectors to matrices and data frames. A thorough understanding of manipulating and managing different data structures is essential for practical data analysis and visualization. The tutorial emphasizes the importance of functions in R, as they are the building blocks for creating reusable and efficient code. It covers how to define functions, pass arguments, and interpret their outputs, enabling the creation of modular and scalable R code. The tutorial explores the application of functions within the apply family, including functions like apply (), apply (), and apply(), which are helpful for efficient data processing. These functions provide potent tools for applying operations across vectors, matrices, or data frames, streamlining complex operations, and enhancing code readability.\n",
        "\n",
        "As readers embark on their journey with R, they are encouraged to expand their knowledge by exploring more advanced topics such as data visualization, statistical modeling, and machine learning. R's versatility makes it a powerful tool for various data science domains. It is important to note that practice is vital to mastering R. Readers are advised to apply the concepts learned in this tutorial to real-world datasets, experiment with different functions, and explore the vast R ecosystem for specialized packages and tools. With a solid foundation in R basics, readers will be well-equipped to continue exploring and leveraging the full potential of R in their data analysis endeavors."
      ],
      "metadata": {
        "id": "DeqsW7MwFnrq"
      }
    },
    {
      "cell_type": "markdown",
      "metadata": {
        "id": "0Ovc25MJTsD8"
      },
      "source": [
        "## References\n",
        "1.  [An Introduction to R - The Comprehensive R Archive](Networkhttps://cran.r-project.org/doc/manuals/r-release/R-intro.pdf)\n",
        "\n",
        "2.  [R Introduction - W3Schools](https://www.w3schools.com/r/r_intro.asp)\n",
        "\n",
        "3.  [An Introduction to R](https://intro2r.com)"
      ]
    }
  ],
  "metadata": {
    "colab": {
      "toc_visible": true,
      "provenance": [],
      "authorship_tag": "ABX9TyMX6lZCWn4Q7vVpfaxs4eCo",
      "include_colab_link": true
    },
    "kernelspec": {
      "display_name": "Python 3",
      "name": "python3"
    },
    "language_info": {
      "name": "python"
    }
  },
  "nbformat": 4,
  "nbformat_minor": 0
}