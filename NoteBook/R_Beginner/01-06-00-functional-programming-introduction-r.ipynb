{
  "cells": [
    {
      "cell_type": "markdown",
      "metadata": {
        "id": "view-in-github",
        "colab_type": "text"
      },
      "source": [
        "<a href=\"https://colab.research.google.com/github/zia207/r-colab/blob/main/NoteBook/R_Beginner/01-06-00-functional-programming-introduction-r.ipynb\" target=\"_parent\"><img src=\"https://colab.research.google.com/assets/colab-badge.svg\" alt=\"Open In Colab\"/></a>"
      ]
    },
    {
      "cell_type": "markdown",
      "metadata": {
        "id": "-6MG0i6qBTj_"
      },
      "source": [
        "![alt text](http://drive.google.com/uc?export=view&id=1bLQ3nhDbZrCCqy_WCxxckOne2lgVvn3l)"
      ]
    },
    {
      "cell_type": "markdown",
      "metadata": {
        "id": "Ffru6MgLBJLY"
      },
      "source": [
        "# 6. Functional Programming\n",
        "\n",
        "Functional programming is a programming paradigm that treats computation as the evaluation of mathematical functions and avoids changing state and mutable data. In R, functional programming is a powerful tool that allows you to write cleaner, more efficient, and more maintainable code.\n",
        "\n",
        "Functional programming (FP) is a programming paradigm that treats computation as the evaluation of mathematical functions and avoids changing state or mutable data. It emphasizes writing code using pure functions, immutability, and declarative rather than imperative approaches. Below, I’ll break down the core concepts of functional programming and explain how it works, keeping the explanation clear and comprehensive."
      ]
    },
    {
      "cell_type": "markdown",
      "source": [
        "## Core Concepts of Functional Programming\n",
        "\n",
        "1.  **Pure Functions**:\n",
        "    -   A pure function is a function that, given the same input, always produces the same output and has no side effects (e.g., it doesn’t modify external state, like variables outside its scope, or perform I/O operations).\n",
        "    -   Example: A function that calculates the square of a number, like `square(5) => 25`, is pure because it always returns the same result for the same input and doesn’t affect anything else.\n",
        "    -   Impure example: A function that reads from a file or modifies a global variable is not pure because its output or behavior depends on external state.\n",
        "2.  **Immutability**:\n",
        "    -   In FP, data is immutable, meaning it cannot be changed once created. Instead of modifying data, you create new data structures with updated values.\n",
        "    -   Example: In JavaScript, instead of mutating an array with `push`, you might use `concat` to return a new array: `[1, 2].concat([3]) => [1, 2, 3]`, leaving the original array unchanged.\n",
        "    -   This avoids bugs caused by unexpected changes to shared data.\n",
        "3.  **First-Class and Higher-Order Functions**:\n",
        "    -   Functions in FP are treated as first-class citizens, meaning they can be assigned to variables, passed as arguments, or returned from other functions.\n",
        "    -   Higher-order functions are functions that take other functions as arguments or return them. Example: The `map` function in JavaScript, which applies a function to each element of an array: `[1, 2, 3].map(x => x * 2) => [2, 4, 6]`.\n",
        "4.  **Declarative Over Imperative**:\n",
        "    -   FP favors a declarative style, where you describe *what* the program should do, not *how* to do it step-by-step (imperative).\n",
        "    -   Example: To sum an array, FP uses `reduce` (declarative: `[1, 2, 3].reduce((a, b) => a + b, 0)`) instead of a loop that explicitly iterates and updates a sum variable (imperative).\n",
        "5.  **Avoiding Side Effects**:\n",
        "    -   Side effects are changes to the program’s state or interactions with the outside world (e.g., modifying global variables, writing to a database, or logging to the console). FP minimizes side effects to make code predictable and easier to reason about.\n",
        "    -   Example: Instead of printing results inside a function, return the result and let the caller handle output.\n",
        "6.  **Function Composition**:\n",
        "    -   FP encourages combining simple, pure functions to build complex logic, much like composing mathematical functions (e.g., `f(g(x))`).\n",
        "    -   Example: If you have a function `double(x)` and `addOne(x)`, you can compose them to create a new function: `compose(double, addOne)(5) => double(addOne(5)) => double(6) => 12`.\n",
        "7.  **Referential Transparency**:\n",
        "    -   An expression is referentially transparent if it can be replaced with its value without changing the program’s behavior. Pure functions are referentially transparent.\n",
        "    -   Example: If `square(4)` always returns `16`, you can replace `square(4)` with `16` anywhere in the code without affecting the outcome."
      ],
      "metadata": {
        "id": "4q7-ef03w5gy"
      }
    },
    {
      "cell_type": "markdown",
      "source": [
        "## Key Principles in Practice\n",
        "\n",
        "-   **Recursion Over Loops**: FP often uses recursion instead of loops for iteration, as loops often rely on mutable state. For example, to process a list, you might use a recursive function that processes the head and tail of the list.\n",
        "-   **Lazy Evaluation**: Some FP languages (like Haskell) delay evaluating expressions until their results are needed, improving performance by avoiding unnecessary computations.\n",
        "-   **Monads and Functors**: Advanced FP concepts like monads and functors provide ways to handle side effects (e.g., I/O, errors) in a controlled, functional way while keeping code pure."
      ],
      "metadata": {
        "id": "3HeQONAGw_fm"
      }
    },
    {
      "cell_type": "markdown",
      "source": [
        "## Benefits of Functional Programming\n",
        "\n",
        "1.  **Predictability**: Pure functions and immutability make code easier to reason about, as there are no unexpected changes to state.\n",
        "2.  **Modularity**: Small, reusable functions and function composition lead to modular, maintainable code.\n",
        "3.  **Testability**: Pure functions are easy to test because they don’t depend on external state—just inputs and outputs.\n",
        "4.  **Concurrency**: Immutability eliminates issues like race conditions in concurrent or parallel programming, as data cannot be modified by multiple threads.\n",
        "5.  **Debugging**: Fewer side effects mean fewer sources of bugs, and referential transparency makes it easier to understand code behavior."
      ],
      "metadata": {
        "id": "UWasKDA4xC0w"
      }
    },
    {
      "cell_type": "markdown",
      "source": [
        "## Challenges of Functional Programming\n",
        "\n",
        "1.  **Learning Curve**: FP concepts like recursion, monads, or higher-order functions can be difficult for developers used to imperative programming.\n",
        "2.  **Performance**: Immutability can lead to creating many copies of data, which may impact performance in some cases (though optimizations like persistent data structures help).\n",
        "3.  **Real-World Side Effects**: Since programs often need side effects (e.g., I/O, user input), FP requires careful management of these effects using techniques like monads, which can be complex."
      ],
      "metadata": {
        "id": "UZEeZjL9xHQm"
      }
    },
    {
      "cell_type": "markdown",
      "source": [
        "## Setup R in Python Runtype - Install {rpy2}\n",
        "\n",
        "{rpy2} is a Python package that provides an interface to the R programming language, allowing Python users to run R code, call R functions, and manipulate R objects directly from Python. It enables seamless integration between Python and R, leveraging R's statistical and graphical capabilities while using Python's flexibility. The package supports passing data between the two languages and is widely used for statistical analysis, data visualization, and machine learning tasks that benefit from R's specialized libraries."
      ],
      "metadata": {
        "id": "TFZqX84wx0g4"
      }
    },
    {
      "cell_type": "markdown",
      "source": [],
      "metadata": {
        "id": "1atgrP3h1v6J"
      }
    },
    {
      "cell_type": "code",
      "source": [
        "!pip uninstall rpy2 -y\n",
        "! pip install rpy2==3.5.1\n",
        "%load_ext rpy2.ipython"
      ],
      "metadata": {
        "colab": {
          "base_uri": "https://localhost:8080/"
        },
        "id": "9ZK8j8wNx5qA",
        "outputId": "651fe5ab-e4bc-426d-a601-9ac00e02760f"
      },
      "execution_count": 1,
      "outputs": [
        {
          "output_type": "stream",
          "name": "stdout",
          "text": [
            "Found existing installation: rpy2 3.5.17\n",
            "Uninstalling rpy2-3.5.17:\n",
            "  Successfully uninstalled rpy2-3.5.17\n",
            "Collecting rpy2==3.5.1\n",
            "  Downloading rpy2-3.5.1.tar.gz (201 kB)\n",
            "\u001b[2K     \u001b[90m━━━━━━━━━━━━━━━━━━━━━━━━━━━━━━━━━━━━━━━\u001b[0m \u001b[32m201.7/201.7 kB\u001b[0m \u001b[31m4.0 MB/s\u001b[0m eta \u001b[36m0:00:00\u001b[0m\n",
            "\u001b[?25h  Preparing metadata (setup.py) ... \u001b[?25l\u001b[?25hdone\n",
            "Requirement already satisfied: cffi>=1.10.0 in /usr/local/lib/python3.12/dist-packages (from rpy2==3.5.1) (1.17.1)\n",
            "Requirement already satisfied: jinja2 in /usr/local/lib/python3.12/dist-packages (from rpy2==3.5.1) (3.1.6)\n",
            "Requirement already satisfied: pytz in /usr/local/lib/python3.12/dist-packages (from rpy2==3.5.1) (2025.2)\n",
            "Requirement already satisfied: tzlocal in /usr/local/lib/python3.12/dist-packages (from rpy2==3.5.1) (5.3.1)\n",
            "Requirement already satisfied: pycparser in /usr/local/lib/python3.12/dist-packages (from cffi>=1.10.0->rpy2==3.5.1) (2.22)\n",
            "Requirement already satisfied: MarkupSafe>=2.0 in /usr/local/lib/python3.12/dist-packages (from jinja2->rpy2==3.5.1) (3.0.2)\n",
            "Building wheels for collected packages: rpy2\n",
            "  Building wheel for rpy2 (setup.py) ... \u001b[?25l\u001b[?25hdone\n",
            "  Created wheel for rpy2: filename=rpy2-3.5.1-cp312-cp312-linux_x86_64.whl size=316565 sha256=3a688c2c24a21da000ba0d6d07e405534fb1d5d0d357851e9e44f1a348a52477\n",
            "  Stored in directory: /root/.cache/pip/wheels/00/26/d5/d5e8c0b039915e785be870270e4a9263e5058168a03513d8cc\n",
            "Successfully built rpy2\n",
            "Installing collected packages: rpy2\n",
            "Successfully installed rpy2-3.5.1\n"
          ]
        }
      ]
    },
    {
      "cell_type": "markdown",
      "source": [
        "##  Mount Google Drive\n",
        "\n",
        "Then you must create a folder in Goole drive named \"R\" to install all packages permanently. Before installing R-package in Python runtime. You have to mount Google Drive and follow on-screen instruction"
      ],
      "metadata": {
        "id": "ubONQoOHx_ZE"
      }
    },
    {
      "cell_type": "code",
      "source": [
        "from google.colab import drive\n",
        "drive.mount('/content/drive')"
      ],
      "metadata": {
        "colab": {
          "base_uri": "https://localhost:8080/"
        },
        "id": "DmK_ZekIyAMe",
        "outputId": "fb7b070d-a5ff-43ab-e4f9-b973cc273a1d"
      },
      "execution_count": 2,
      "outputs": [
        {
          "output_type": "stream",
          "name": "stdout",
          "text": [
            "Mounted at /content/drive\n"
          ]
        }
      ]
    },
    {
      "cell_type": "markdown",
      "source": [
        "## Functional Programming Languages\n",
        "\n",
        "-   **Purely Functional**: Haskell, Elm, PureScript.\n",
        "\n",
        "-   **Multi-Paradigm with FP Support**: JavaScript, Python, R, Scala, Clojure, OCaml, F#."
      ],
      "metadata": {
        "id": "FCDX9gqhxJpK"
      }
    },
    {
      "cell_type": "markdown",
      "source": [
        "-   Example in R:"
      ],
      "metadata": {
        "id": "pioi6Z9TyJSr"
      }
    },
    {
      "cell_type": "code",
      "source": [
        "%%R\n",
        "square <- function(x) {\n",
        "  x * x\n",
        "}\n",
        "square(4) # Returns 16, always for input 4, no side effects"
      ],
      "metadata": {
        "colab": {
          "base_uri": "https://localhost:8080/"
        },
        "id": "ZM0Fkmh6yTKA",
        "outputId": "95f965d4-8616-4a3f-9cfc-9bd64ae5d16e"
      },
      "execution_count": 3,
      "outputs": [
        {
          "output_type": "stream",
          "name": "stdout",
          "text": [
            "[1] 16\n"
          ]
        }
      ]
    },
    {
      "cell_type": "markdown",
      "source": [
        "    This avoids mutating the original array and uses pure functions (`filter` and `map`)."
      ],
      "metadata": {
        "id": "--jEoDX7yp1D"
      }
    },
    {
      "cell_type": "markdown",
      "source": [
        "## Example in a Real-World Context\n",
        "\n",
        "Suppose you’re building a program to process a list of user names and return them in uppercase, sorted alphabetically. In R:"
      ],
      "metadata": {
        "id": "_rPv99R1yu7I"
      }
    },
    {
      "cell_type": "code",
      "source": [
        "%%R\n",
        "users <- c(\"alice\", \"bob\", \"charlie\")\n",
        "process_users <- function(users) {\n",
        "  sort(sapply(users, toupper))\n",
        "}\n",
        "print(process_users(users)) # Output: [1] \"ALICE\"   \"BOB\""
      ],
      "metadata": {
        "colab": {
          "base_uri": "https://localhost:8080/"
        },
        "id": "u7dt030uyvqN",
        "outputId": "0e525354-f1a1-4e9d-b4d0-d0799e5e9fed"
      },
      "execution_count": 4,
      "outputs": [
        {
          "output_type": "stream",
          "name": "stdout",
          "text": [
            "    alice       bob   charlie \n",
            "  \"ALICE\"     \"BOB\" \"CHARLIE\" \n"
          ]
        }
      ]
    },
    {
      "cell_type": "markdown",
      "source": [
        "This code is declarative, uses pure functions, and avoids mutating the original `users` array."
      ],
      "metadata": {
        "id": "B7S1PsIuy1cw"
      }
    },
    {
      "cell_type": "markdown",
      "source": [
        "## Why Use Functional Programming?\n",
        "\n",
        "FP shines in scenarios requiring reliability, concurrency, or complex data transformations. It’s widely used in domains like: - **Web Development**: Libraries like React encourage FP principles (e.g., immutability, pure components). - **Data Processing**: Tools like Apache Spark use FP concepts for distributed data transformations. - **Financial Systems**: Where predictability and correctness are critical."
      ],
      "metadata": {
        "id": "jGIkFoouy3_R"
      }
    },
    {
      "cell_type": "markdown",
      "source": [
        "## Comparison to Other Paradigms\n",
        "\n",
        "-   **Imperative Programming**: Focuses on *how* to achieve a result with explicit steps (e.g., loops, mutable variables). FP focuses on *what* the result should be.\n",
        "-   **Object-Oriented Programming (OOP)**: Centers on objects and state encapsulation. FP avoids state and emphasizes functions. Many modern applications combine FP and OOP (e.g., Scala, JavaScript)."
      ],
      "metadata": {
        "id": "Ms3qmuRsy53h"
      }
    },
    {
      "cell_type": "markdown",
      "source": [
        "## Functional Programming in R\n",
        "\n",
        "Functional programming (FP) in R involves leveraging the language’s features to write code that emphasizes pure functions, immutability, first-class functions, and declarative programming. While R is not a purely functional language like Haskell, it supports functional programming through its treatment of functions as first-class objects and libraries like purrr (part of the tidyverse). Below, I’ll explain how to perform functional programming in R, covering key concepts, techniques, and examples, while keeping the explanation practical and concise."
      ],
      "metadata": {
        "id": "1gLKS1XEy8PA"
      }
    },
    {
      "cell_type": "markdown",
      "source": [
        "### Key Functional Programming Concepts in R\n",
        "\n",
        "1.  `Pure Functions`: Functions that always produce the same output for the same input and have no side effects (e.g., no modification of global variables).\n",
        "2.  `Immutability`: Avoiding changes to data; instead, creating new objects with transformations.\n",
        "3.  `First-Class and Higher-Order Functions`: Functions can be assigned to variables, passed as arguments, or returned from other functions.\n",
        "4.  `Declarative Style`: Using functions like map, filter, or reduce to describe transformations rather than imperative loops.\n",
        "5.  `Avoiding Side Effects`: Minimizing operations like printing or modifying external state within functions."
      ],
      "metadata": {
        "id": "uQ1qdkgsy9Tq"
      }
    },
    {
      "cell_type": "markdown",
      "source": [
        "### Tools and Libraries for FP in R\n",
        "\n",
        "`Base R`: Provides functional programming constructs like `lapply`, `sapply`, `apply`, `Reduce`, and `anonymous` functions. `purrr`: A tidyverse package that offers a consistent, powerful set of FP tools like map, filter, reduce, and more. `magrittr`: Provides the pipe operator (%\\>%) for chaining functions in a readable, declarative way. `dplyr`: While primarily for data manipulation, it aligns with FP by encouraging immutable transformations."
      ],
      "metadata": {
        "id": "d6TGwlKEzTFC"
      }
    },
    {
      "cell_type": "markdown",
      "source": [
        "## Summary and Conclusion\n",
        "\n",
        "Functional programming is a powerful paradigm that promotes writing clean, predictable, and modular code by using pure functions, immutability, and declarative techniques. While it has a learning curve and isn’t suited for every problem, its benefits in testability, concurrency, and maintainability make it a valuable approach in modern software development. Languages like Haskell and libraries in JavaScript/Python make it accessible, and its principles can be applied even in non-functional languages to improve code quality."
      ],
      "metadata": {
        "id": "ifyoLD2TzTtv"
      }
    },
    {
      "cell_type": "markdown",
      "source": [
        "## Resources\n",
        "\n",
        "1.  **Wickham, H., & Grolemund, G. (2023). R for Data Science (2nd ed.)**\\\n",
        "    Practical guide to FP with `purrr` for data science.\\\n",
        "    <https://r4ds.hadley.nz/iteration.html>\n",
        "\n",
        "2.   **Wickham, H. (2019). Advanced R (2nd ed.)**\\\n",
        "    In-depth coverage of FP concepts like closures and higher-order functions.\\\n",
        "    <https://adv-r.hadley.nz/functional-programming.html>\n",
        "\n",
        "3.  **purrr Package Documentation**\\\n",
        "    Official guide for `purrr` with `map`, `filter`, and `reduce` examples.\\\n",
        "    <https://purrr.tidyverse.org/>\n",
        "\n",
        "4.  **Grolemund, G. (2017). Functional Programming with purrr**\\\n",
        "    RStudio talk on using `purrr` for FP in data analysis.\\\n",
        "    Search: \"Garrett Grolemund purrr RStudio\"\n",
        "\n",
        "5.  **Bryan, J. (2019). Happy Git and GitHub for the useR**\\\n",
        "    FP examples for reproducible data workflows with `purrr`.\\\n",
        "    <https://happygitwithr.com/>"
      ],
      "metadata": {
        "id": "wFVpWQF-zcbQ"
      }
    }
  ],
  "metadata": {
    "colab": {
      "provenance": [],
      "toc_visible": true,
      "include_colab_link": true
    },
    "kernelspec": {
      "display_name": "Python 3",
      "name": "python3"
    },
    "language_info": {
      "name": "python"
    }
  },
  "nbformat": 4,
  "nbformat_minor": 0
}