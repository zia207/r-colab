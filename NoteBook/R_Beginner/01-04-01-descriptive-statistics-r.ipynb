{
  "cells": [
    {
      "cell_type": "markdown",
      "metadata": {
        "id": "view-in-github",
        "colab_type": "text"
      },
      "source": [
        "<a href=\"https://colab.research.google.com/github/zia207/r-colab/blob/main/NoteBook/R_Beginner/01-04-01-descriptive-statistics-r.ipynb\" target=\"_parent\"><img src=\"https://colab.research.google.com/assets/colab-badge.svg\" alt=\"Open In Colab\"/></a>"
      ]
    },
    {
      "cell_type": "markdown",
      "source": [
        "![alt text](http://drive.google.com/uc?export=view&id=1bLQ3nhDbZrCCqy_WCxxckOne2lgVvn3l)"
      ],
      "metadata": {
        "id": "8aaUTNQbVD7I"
      }
    },
    {
      "cell_type": "markdown",
      "metadata": {
        "id": "MGoP0AbXEAUx"
      },
      "source": [
        "#  Descriptive Statistics With R\n",
        "\n",
        "This tutorial is designed to provide a comprehensive introduction to **descriptive statistics** using the R programming language. It covers essential concepts, techniques, and practical applications, making it suitable for beginners and those looking to refresh their skills. By the end of this tutorial, you will have a solid understanding of descriptive statistics and the ability to apply these concepts using R."
      ]
    },
    {
      "cell_type": "markdown",
      "source": [
        "## Introduction"
      ],
      "metadata": {
        "id": "_g0f676AVEeA"
      }
    },
    {
      "cell_type": "markdown",
      "metadata": {
        "id": "kroLnhoOPPoV"
      },
      "source": [
        "**Descriptive Statistics** is a field that assists in describing and summarizing data. It encompasses `mean`, `median`, `mode`, `range`, `variance`, and `standard deviation` metrics. These measures provide researchers with a clear idea of the `central tendency` and dispersion of the data, thereby serving as a concise summary of the data. Calculating and analyzing the mean, median, mode, range, variance, and standard deviation metrics are fundamental concepts in descriptive statistics. These measures help researchers make informed decisions and draw meaningful conclusions by better understanding the data's central tendency and dispersion. Descriptive statistics can also identify patterns, trends, and outliers that might be difficult to identify otherwise by providing a concise data summary.\n",
        "\n",
        "This tutorial has been designed to provide basic knowledge about descriptive statistics and how to perform them in R."
      ]
    },
    {
      "cell_type": "markdown",
      "metadata": {
        "id": "CdQJ-mgsEU9J"
      },
      "source": [
        "## Install rpy2\n",
        "\n",
        "Easy way to run R in Colab with Python runtime using **rpy2** python package. We have to install this package using the 'pip' command:"
      ]
    },
    {
      "cell_type": "code",
      "execution_count": 1,
      "metadata": {
        "id": "qOD7NpajDy5k",
        "colab": {
          "base_uri": "https://localhost:8080/"
        },
        "outputId": "0aa087bc-42dc-4d56-8c4b-5d6051b1741f"
      },
      "outputs": [
        {
          "output_type": "stream",
          "name": "stdout",
          "text": [
            "Found existing installation: rpy2 3.5.17\n",
            "Uninstalling rpy2-3.5.17:\n",
            "  Successfully uninstalled rpy2-3.5.17\n",
            "Collecting rpy2==3.5.1\n",
            "  Downloading rpy2-3.5.1.tar.gz (201 kB)\n",
            "\u001b[2K     \u001b[90m━━━━━━━━━━━━━━━━━━━━━━━━━━━━━━━━━━━━━━━\u001b[0m \u001b[32m201.7/201.7 kB\u001b[0m \u001b[31m3.5 MB/s\u001b[0m eta \u001b[36m0:00:00\u001b[0m\n",
            "\u001b[?25h  Preparing metadata (setup.py) ... \u001b[?25l\u001b[?25hdone\n",
            "Requirement already satisfied: cffi>=1.10.0 in /usr/local/lib/python3.11/dist-packages (from rpy2==3.5.1) (1.17.1)\n",
            "Requirement already satisfied: jinja2 in /usr/local/lib/python3.11/dist-packages (from rpy2==3.5.1) (3.1.6)\n",
            "Requirement already satisfied: pytz in /usr/local/lib/python3.11/dist-packages (from rpy2==3.5.1) (2025.2)\n",
            "Requirement already satisfied: tzlocal in /usr/local/lib/python3.11/dist-packages (from rpy2==3.5.1) (5.3.1)\n",
            "Requirement already satisfied: pycparser in /usr/local/lib/python3.11/dist-packages (from cffi>=1.10.0->rpy2==3.5.1) (2.22)\n",
            "Requirement already satisfied: MarkupSafe>=2.0 in /usr/local/lib/python3.11/dist-packages (from jinja2->rpy2==3.5.1) (3.0.2)\n",
            "Building wheels for collected packages: rpy2\n",
            "  Building wheel for rpy2 (setup.py) ... \u001b[?25l\u001b[?25hdone\n",
            "  Created wheel for rpy2: filename=rpy2-3.5.1-cp311-cp311-linux_x86_64.whl size=314981 sha256=4af7d46791e0d669dfae7f5a73726791d19f124907d3cb3a62f30484f2d3ecbb\n",
            "  Stored in directory: /root/.cache/pip/wheels/e9/55/d1/47be85a5f3f1e1f4d1e91cb5e3a4dcb40dd72147f184c5a5ef\n",
            "Successfully built rpy2\n",
            "Installing collected packages: rpy2\n",
            "Successfully installed rpy2-3.5.1\n"
          ]
        }
      ],
      "source": [
        "!pip uninstall rpy2 -y\n",
        "! pip install rpy2==3.5.1\n",
        "%load_ext rpy2.ipython"
      ]
    },
    {
      "cell_type": "markdown",
      "metadata": {
        "id": "qmEDD0ccEurf"
      },
      "source": [
        "##  Mount Google Drive\n",
        "\n",
        "Then you must create a folder in Goole drive named \"R\" to install all packages permanently. Before installing R-package in Python runtime. You have to mount Google Drive and follow on-screen instruction:"
      ]
    },
    {
      "cell_type": "code",
      "execution_count": null,
      "metadata": {
        "id": "lClKZUW1Eu_G",
        "colab": {
          "base_uri": "https://localhost:8080/"
        },
        "outputId": "c2c38235-0f2b-420c-d570-e76dac7f40c7"
      },
      "outputs": [
        {
          "output_type": "stream",
          "name": "stdout",
          "text": [
            "Mounted at /content/drive\n"
          ]
        }
      ],
      "source": [
        "from google.colab import drive\n",
        "drive.mount('/content/drive')"
      ]
    },
    {
      "cell_type": "markdown",
      "source": [
        "## Data\n",
        "\n",
        "\n",
        "All data set use in this exercise can be downloaded from my [Dropbox](https://www.dropbox.com/scl/fo/fohioij7h503duitpl040/h?rlkey=3voumajiklwhgqw75fe8kby3o&dl=0) or from my [Github](https://github.com/zia207/r-colab/tree/main/Data/R_Beginners) accounts.\n",
        "\n",
        "We will use `read.csv()` function  to import data.\n",
        "\n"
      ],
      "metadata": {
        "id": "pcn48RSJ2Xnk"
      }
    },
    {
      "cell_type": "code",
      "source": [
        "%%R\n",
        "df<-read.csv(\"https://github.com/zia207/r-colab/raw/main/Data/R_Beginners/rice_arsenic_data.csv\", header=TRUE)\n",
        "head(df)"
      ],
      "metadata": {
        "colab": {
          "base_uri": "https://localhost:8080/"
        },
        "id": "NKhJzcrC0lGY",
        "outputId": "18947abc-b376-44fa-f8ed-e65543655545"
      },
      "execution_count": null,
      "outputs": [
        {
          "output_type": "stream",
          "name": "stdout",
          "text": [
            "  ID TREAT_ID  TREAT  VAR        PH        TN        PN      ster      DTM\n",
            "1  1        1 Low As BR01 119.74870 16.701608 15.509622  1.121060 116.6888\n",
            "2  2        1 Low As BR01  98.69824 27.946359 26.738585 11.272871 119.4231\n",
            "3  3        1 Low As BR01 133.87754  6.416868  2.846243 15.267027 121.3140\n",
            "4  4        1 Low As BR01 123.00719 20.932223 16.971565  4.953537 120.9241\n",
            "5  5        1 Low As BR01  89.49716 25.957307 21.515372  3.814338 115.3630\n",
            "6  6        1 Low As BR01  96.75960 26.157779 21.662071 15.783027 120.6012\n",
            "        GY       SW       GAs     STAs\n",
            "1 43.91485 24.44901 0.8626439 15.23764\n",
            "2 47.81307 30.65842 0.8442584 13.36959\n",
            "3 21.87595 25.88831 1.1382471 16.65208\n",
            "4 48.43976 54.92401 1.0445282 20.77017\n",
            "5 44.40447 57.38066 0.6864139 13.67052\n",
            "6 32.03458 48.69373 0.9225152 14.07802\n"
          ]
        }
      ]
    },
    {
      "cell_type": "markdown",
      "metadata": {
        "id": "mOk85Ol6GQfH"
      },
      "source": [
        "## Central tendency\n",
        "\n",
        "**Central tendency** is a statistical measure that assists in describing the center point of a set of data values. This concept is used to identify a single value that is considered most representative of the entire distribution. By determining the central tendency, we can gain insights into the typical or common values in a dataset. **Mean**, **median**, and **mode** are the three most commonly used measures of central tendency.\n"
      ]
    },
    {
      "cell_type": "markdown",
      "source": [
        "### Mean\n",
        "\n",
        "The average or `mean` is a statistical measure that is used to determine the **central tendency** of a set of data. It is obtained by adding up all the quantities or values ($X$)  in the set and then dividing the total by the number of values in the set ($n$).\n",
        "\n",
        " $$ \\bar{X} = \\frac{\\sum_{i=1}^{n}X_i}{n}\\ $$\n",
        "\n",
        "For example, let's say you have a set of numbers like 2, 4, 6, 8, and 10. To find the average, you would add all the numbers together (2 + 4 + 6 + 8 + 10 = 30) and then divide the sum by the number of values in the set, which in this case is 5. The resulting average is 6.\n",
        "\n",
        "The mean is a useful measure because it provides a single value that can represent the entire data set. It is commonly used in various fields such as mathematics, science, economics, and social sciences to analyze and interpret data.\n",
        "\n",
        "Overall mean yield can be calculated by `mean()` function:\n",
        "\n"
      ],
      "metadata": {
        "id": "bq9U2wHv7ZRr"
      }
    },
    {
      "cell_type": "code",
      "execution_count": null,
      "metadata": {
        "id": "gXfSYaGPGpbl",
        "colab": {
          "base_uri": "https://localhost:8080/"
        },
        "outputId": "82e6e5cf-fa47-4503-d4b7-c3808dce5e87"
      },
      "outputs": [
        {
          "output_type": "stream",
          "name": "stdout",
          "text": [
            "[1] 28.66472\n"
          ]
        }
      ],
      "source": [
        "%%R\n",
        "mean(df$GY)"
      ]
    },
    {
      "cell_type": "markdown",
      "source": [
        "We can use `aggregate()` function to calculate mean yield by soil groups (TREAT):"
      ],
      "metadata": {
        "id": "C9EAA-bSz2nF"
      }
    },
    {
      "cell_type": "code",
      "source": [
        "%%R\n",
        "aggregate(df$GY, list(df$TREAT), FUN=mean)"
      ],
      "metadata": {
        "colab": {
          "base_uri": "https://localhost:8080/"
        },
        "id": "CBXiV8FK9zHJ",
        "outputId": "111005d3-37fa-4b1c-ff50-eabd9c9f72b1"
      },
      "execution_count": null,
      "outputs": [
        {
          "output_type": "stream",
          "name": "stdout",
          "text": [
            "   Group.1        x\n",
            "1 High As  18.87141\n",
            "2   Low As 38.45802\n"
          ]
        }
      ]
    },
    {
      "cell_type": "markdown",
      "source": [
        "### Median\n",
        "\n",
        "In statistics, the `median` is a measure of central tendency that is used to determine the middle value in a set of data when the values are arranged either in ascending or descending order. It is a valuable statistical tool that helps to describe the center of a data set, particularly when there are extreme values that could potentially skew the mean. When there is an odd number of values in a data set, the median is simply the middle number. In contrast, when there is an even number of values, the median is calculated by taking the average of the two middle numbers. This method ensures that the median is representative of the central tendency of the data set, regardless of its size or distribution.\n",
        "\n",
        "   - for an odd number of observations:\n",
        "   \n",
        "   $$ \\text{Median} = X_{\\left(\\frac{n+1}{2}\\right)} $$\n",
        "   \n",
        "   - for an even number of observations:\n",
        "   \n",
        "   $$  \\text{Median} = \\frac{X_{\\left(\\frac{n}{2}\\right)} + X_{\\left(\\frac{n}{2}+1\\right)}}{2} $$\n",
        "\n",
        "Overall, the `median` provides a clear and concise way to analyze and interpret data sets, especially those with outliers or extreme values that could affect other measures of central tendency. Its importance cannot be overstated, and it is a fundamental concept that every student of statistics should be familiar with.\n",
        "\n",
        "Median yield can be calculated by `median()` function:"
      ],
      "metadata": {
        "id": "1jX5VaKM0MMV"
      }
    },
    {
      "cell_type": "code",
      "execution_count": null,
      "metadata": {
        "colab": {
          "base_uri": "https://localhost:8080/"
        },
        "id": "6Lm8_XGaG8Il",
        "outputId": "9411ef8a-8e5b-4807-86a9-ff740f05d7b8"
      },
      "outputs": [
        {
          "output_type": "stream",
          "name": "stdout",
          "text": [
            "[1] 25.31435\n"
          ]
        }
      ],
      "source": [
        "%%R\n",
        "median(df$GY)"
      ]
    },
    {
      "cell_type": "markdown",
      "source": [
        "### Mode\n",
        "\n",
        "In statistics, `mode` is a measure that represents the most frequently occurring value in a given data set. It is a central tendency measure that is distinct from both mean and median. While mean represents the average value, and median represents the middle value, mode represents the value that occurs most often in a data set. It is particularly useful when analyzing categorical data, or when identifying the most common occurrence within a set of values. A data set can have one mode, or more than one mode if there are multiple values that occur with equal frequency (known as bimodal, trimodal, etc.). On the other hand, if no value repeats, then the data set has no mode at all. The mode is a valuable statistical tool that helps to identify the most typical and frequent occurrence within a given data set."
      ],
      "metadata": {
        "id": "SqJQoPMbC4sA"
      }
    },
    {
      "cell_type": "code",
      "execution_count": null,
      "metadata": {
        "id": "dKU4UEAtHTHd"
      },
      "outputs": [],
      "source": [
        "%%R\n",
        "# Function to calculate mode\n",
        "getMode <- function(x) {\n",
        "  unique_x <- unique(x)\n",
        "  unique_x_counts <- tabulate(match(x, unique_x))\n",
        "  modes <- unique_x[unique_x_counts == max(unique_x_counts)]\n",
        "  return(modes)\n",
        "}"
      ]
    },
    {
      "cell_type": "code",
      "source": [
        "%%R\n",
        "getMode(df$GAs)"
      ],
      "metadata": {
        "id": "Ek1xNjf87aDv"
      },
      "execution_count": null,
      "outputs": []
    },
    {
      "cell_type": "markdown",
      "source": [
        "## Range\n",
        "\n",
        "Measuring the range in statistics is a simple yet useful approach to understanding the dispersion of a dataset. The range refers to the difference between the highest and lowest values in a given dataset, providing insights into the variability or spread of the data. To calculate the range, you need to subtract the smallest value from the largest value in the dataset. This measure can give you a quick idea of how widely the numbers in the dataset are spread apart.\n",
        "\n",
        "For instance, let's consider a set of numbers like 3, 7, 12, 15, and 20. In this case, the highest value is 20, and the lowest is 3. So, the range would be 20 - 3 = 17. This means that the range of this dataset is 17, which implies that the numbers are relatively far apart.\n",
        "\n",
        "However, it's worth noting that the range doesn't provide information about how the values are distributed within that range. For this reason, other measures such as standard deviation or interquartile range might be used to determine the distribution of values within the range. These measures can provide a more comprehensive understanding of the dataset's characteristics, allowing you to draw more accurate conclusions about the data."
      ],
      "metadata": {
        "id": "LoHVxqxLz9UZ"
      }
    },
    {
      "cell_type": "code",
      "source": [
        "%%R\n",
        "# Calculate range using `range()` function\n",
        "result_range <- diff(range(df$GY))\n",
        "result_range"
      ],
      "metadata": {
        "colab": {
          "base_uri": "https://localhost:8080/"
        },
        "id": "zh615aRi0Ev4",
        "outputId": "abdc03a2-0759-4f32-9a28-e5395196d92a"
      },
      "execution_count": null,
      "outputs": [
        {
          "output_type": "stream",
          "name": "stdout",
          "text": [
            "[1] 60.58729\n"
          ]
        }
      ]
    },
    {
      "cell_type": "code",
      "source": [
        "%%R\n",
        "# Calculate range by subtracting maximum and minimum values\n",
        "result_range <- max(df$GY) - min(df$GY)\n",
        "result_range"
      ],
      "metadata": {
        "colab": {
          "base_uri": "https://localhost:8080/"
        },
        "id": "rm-K2qg6bUdH",
        "outputId": "c51e9f0a-702e-41e3-ee41-cb3de3d1ba08"
      },
      "execution_count": null,
      "outputs": [
        {
          "output_type": "stream",
          "name": "stdout",
          "text": [
            "[1] 60.58729\n"
          ]
        }
      ]
    },
    {
      "cell_type": "markdown",
      "source": [
        "## Variance\n",
        "\n",
        "Variance is a statistical concept that is used to measure the degree of variability among the values in a given dataset. In simpler terms, it provides a measure of how far the actual values in a dataset are from the average value of the dataset. A high variance indicates that the values are widely spread out from the mean, while a low variance indicates that the values are closely clustered around the mean. Variance is a crucial metric in data analysis as it enables us to understand the distribution of the data and make informed decisions based on the insights obtained.\n",
        "\n",
        "To calculate the variance:\n",
        "\n",
        "1.  Find the mean of the data set.\n",
        "\n",
        "2.  Subtract the mean from each data point to find the difference.\n",
        "\n",
        "3.  Square each difference.\n",
        "\n",
        "4.  Find the mean of those squared differences.\n",
        "\n",
        " **Variance ($\\sigma^2$) or ($s^2$):**\n",
        "   - Population Variance:\n",
        "     $$ \\sigma^2 = \\frac{\\sum_{i=1}^{n}(X_i - \\mu)^2}{n} $$\n",
        "   - Sample Variance:\n",
        "     $$ s^2 = \\frac{\\sum_{i=1}^{n}(X_i - \\bar{X})^2}{n-1} $$\n",
        "\n",
        "     * For population variance ($\\sigma^2$), ($X_i$) represents individual data points, is the population mean ($\\mu$), and ($n$) is the number of data points.\n",
        "     \n",
        "     * For sample variance ($s^2$),  ($X_i$) represents individual data points, ($\\bar{X}$) is the sample mean, and \\(n\\) is the number of data points.\n",
        "\n"
      ],
      "metadata": {
        "id": "l1vfNT2E3YY9"
      }
    },
    {
      "cell_type": "markdown",
      "source": [
        "\n",
        "\n",
        "\n",
        "\n",
        "In R, you can calculate the variance of a dataset using the `var()` function"
      ],
      "metadata": {
        "id": "02nE9iYjbg4R"
      }
    },
    {
      "cell_type": "code",
      "source": [
        "%%R\n",
        "var(df$GY)"
      ],
      "metadata": {
        "id": "1e7cYHTK5LO9",
        "colab": {
          "base_uri": "https://localhost:8080/"
        },
        "outputId": "e11f216e-dae4-4fd5-86ec-834076978710"
      },
      "execution_count": null,
      "outputs": [
        {
          "output_type": "stream",
          "name": "stdout",
          "text": [
            "[1] 180.5147\n"
          ]
        }
      ]
    },
    {
      "cell_type": "markdown",
      "source": [
        "## Standard Deviation\n",
        "\n",
        "The standard deviation is a statistical measure that provides information about the amount of variation or dispersion present in a set of values. It is a metric that quantifies the degree to which the values in a dataset are spread out around the mean. A higher standard deviation indicates that the values are more widely distributed, while a lower standard deviation indicates that the values are clustered more closely around the mean. Standard deviation is an important tool in data analysis because it helps to identify outliers and understand the shape of the distribution of values in a dataset.\n",
        "\n",
        "To calculate the standard deviation:\n",
        "\n",
        "1.  Find the mean of the data set.\n",
        "\n",
        "2.  For each data point, find the difference between it and the mean.\n",
        "\n",
        "3.  Square each of these differences.\n",
        "\n",
        "4.  Find the mean of the squared differences.\n",
        "\n",
        "5.  Take the square root of this mean."
      ],
      "metadata": {
        "id": "iHCT14aE5nmP"
      }
    },
    {
      "cell_type": "markdown",
      "source": [
        "**Standard Deviation ($\\sigma$) or ($s$):**\n",
        "   - Population Standard Deviation:\n",
        "     $$ \\sigma = \\sqrt{\\sigma^2} $$\n",
        "   - Sample Standard Deviation:\n",
        "     $$ s = \\sqrt{s^2} $$\n",
        "\n",
        "   - Explanation:\n",
        "     - For population standard deviation ($\\sigma$), it is the square root of the population variance.\n",
        "     - For sample standard deviation ($s$), it is the square root of the sample variance.\n",
        "\n",
        "\n",
        "\n",
        "In R, you can calculate the standard deviation of a dataset using the `sd()` function\n",
        "\n"
      ],
      "metadata": {
        "id": "Ms2YqXXQcGI1"
      }
    },
    {
      "cell_type": "code",
      "source": [
        "%%R\n",
        "sd(df$GY)"
      ],
      "metadata": {
        "colab": {
          "base_uri": "https://localhost:8080/"
        },
        "id": "RjFh0Wg-5nZg",
        "outputId": "a2d45aa7-0660-49a2-d895-5612b8e150bb"
      },
      "execution_count": null,
      "outputs": [
        {
          "output_type": "stream",
          "name": "stdout",
          "text": [
            "[1] 13.43558\n"
          ]
        }
      ]
    },
    {
      "cell_type": "markdown",
      "source": [
        "## Quantile\n",
        "\n",
        "**Quantiles** are statistical measures used to divide a given dataset into equal portions. They are mainly used to analyze data by dividing it into smaller segments based on their relative position in the entire dataset. For instance, the median is a type of quantile that represents the 50th percentile value, which splits the data into two equal halves. Similarly, other common quantiles include 'quartiles', which are used to divide data into four equal parts, and 'deciles', which divide data into ten equal parts. These measures enable analysts to better understand the distribution of data and identify patterns and trends that may not be apparent when looking at the data as a whole."
      ],
      "metadata": {
        "id": "tSo8Vwdd6A-w"
      }
    },
    {
      "cell_type": "code",
      "source": [
        "%%R\n",
        "# Finding specific quantiles\n",
        "q_25 <- quantile(df$GY, 0.25)  # 25th percentile (first quartile)\n",
        "q_50 <- quantile(df$GY, 0.50)   # 50th percentile (median)\n",
        "q_75 <- quantile(df$GY, 0.75)  # 75th percentile (third quartile)\n",
        "\n",
        "\n",
        "q_25\n",
        "q_50\n",
        "q_75"
      ],
      "metadata": {
        "id": "mOuTgYNI6Ugi",
        "colab": {
          "base_uri": "https://localhost:8080/"
        },
        "outputId": "60109f8f-6201-4c92-c3fb-5f0289d1e7c4"
      },
      "execution_count": null,
      "outputs": [
        {
          "output_type": "stream",
          "name": "stdout",
          "text": [
            "     75% \n",
            "39.95412 \n"
          ]
        }
      ]
    },
    {
      "cell_type": "code",
      "source": [
        "%%R\n",
        "# quartiles\n",
        "quantile(df$GY)"
      ],
      "metadata": {
        "id": "hFXtvic563B2",
        "colab": {
          "base_uri": "https://localhost:8080/"
        },
        "outputId": "5c20c4f3-50e4-42dd-dee8-6ec281886282"
      },
      "execution_count": null,
      "outputs": [
        {
          "output_type": "stream",
          "name": "stdout",
          "text": [
            "       0%       25%       50%       75%      100% \n",
            " 4.749097 18.720147 25.314346 39.954118 65.336384 \n"
          ]
        }
      ]
    },
    {
      "cell_type": "code",
      "source": [
        "%%R\n",
        "# deciles\n",
        "quantile(df$GY, prob=seq(0, 1, by=0.1))"
      ],
      "metadata": {
        "id": "Jy6k8tga7bwk",
        "colab": {
          "base_uri": "https://localhost:8080/"
        },
        "outputId": "71ac77f1-026e-4892-edb4-a23ae46d5990"
      },
      "execution_count": null,
      "outputs": [
        {
          "output_type": "stream",
          "name": "stdout",
          "text": [
            "       0%       10%       20%       30%       40%       50%       60%       70% \n",
            " 4.749097 13.766805 16.922771 19.706930 21.885601 25.314346 29.763025 35.715022 \n",
            "      80%       90%      100% \n",
            "43.021497 47.105559 65.336384 \n"
          ]
        }
      ]
    },
    {
      "cell_type": "markdown",
      "source": [
        "## Interquartile range (IQR)\n",
        "\n",
        "The Interquartile Range (IQR) is a statistical tool used to measure the degree of variation within a dataset. It is calculated by finding the difference between the upper quartile (Q3) and the lower quartile (Q1). Quartiles are values that divide a dataset into quarters, with Q1 representing the 25th percentile and Q3 representing the 75th percentile. The IQR is often used in conjunction with the median to provide a more complete understanding of the spread of data. It is a robust measure of spread because it is not affected by extreme values, or outliers, in the dataset."
      ],
      "metadata": {
        "id": "nVTWlTVo8LPh"
      }
    },
    {
      "cell_type": "code",
      "source": [
        "%%R\n",
        "# Calculating quartiles\n",
        "Q1 <- quantile(df$GY, 0.25)  # First quartile (25th percentile)\n",
        "Q3 <- quantile(df$GY, 0.75)  # Third quartile (75th percentile)\n",
        "\n",
        "# Calculating IQR\n",
        "IQR_value <- Q3 - Q1\n",
        "\n",
        "IQR_value"
      ],
      "metadata": {
        "id": "ZQUf2PPe8MNr",
        "colab": {
          "base_uri": "https://localhost:8080/"
        },
        "outputId": "3fd8964f-5821-4662-ea6a-e5aba2fa7fe1"
      },
      "execution_count": null,
      "outputs": [
        {
          "output_type": "stream",
          "name": "stdout",
          "text": [
            "     75% \n",
            "21.23397 \n"
          ]
        }
      ]
    },
    {
      "cell_type": "markdown",
      "source": [
        "## Summary and Conclusion\n",
        "This tutorial guides descriptive statistics using R. We explain the basic concepts of central tendency, variability, and distribution and how to calculate key descriptive statistics using R functions. Descriptive statistics are essential for making data-driven decisions, identifying trends, and communicating insights to a broader audience. We suggest looking into more advanced techniques, such as multivariate descriptive statistics and specialized R packages. Remember, descriptive statistics can help you tell meaningful stories with your data. With a solid understanding of descriptive statistics in R, you can make informed decisions based on a deeper understanding of your data.\n"
      ],
      "metadata": {
        "id": "W3AVicq7wWPW"
      }
    },
    {
      "cell_type": "markdown",
      "metadata": {
        "id": "0Ovc25MJTsD8"
      },
      "source": [
        "## References\n",
        "\n",
        "Here are some excellent resources for learning basic statistics with R:\n",
        "\n",
        "1. `Descriptive Statistics with R` by Andrea B. Hollingsworth & David W. Gerbing: A concise guide focused purely on descriptive statistics, including tables, graphs, and summary metrics. Includes R code for real datasets.\n",
        "\n",
        "2. `Data Visualization and Descriptive Statistics with R` by Alboukadel Kassambara: Part of the Practical Guide series by the creator of ggpubr. Focuses on visualizing and summarizing data with ggplot2 and base R.\n",
        "\n",
        "3. `R in Action` by Robert I. Kabacoff: Chapter 6 covers descriptive statistics, including measures of central tendency, dispersion, and visualization techniques (e.g., bar charts, histograms).\n",
        "\n",
        "4.  [Introduction to basic statistics with R](https://ucdavisdatalab.github.io/basic_stats_r_1/#introduction)\n",
        "\n",
        "5.  [Introduction to statistics with R](https://rafalab.dfci.harvard.edu/dsbook/introduction-to-statistics-with-r.html)\n"
      ]
    }
  ],
  "metadata": {
    "colab": {
      "provenance": [],
      "toc_visible": true,
      "authorship_tag": "ABX9TyOPuyv3pLkxTFqz2j7idxFd",
      "include_colab_link": true
    },
    "kernelspec": {
      "display_name": "Python 3",
      "name": "python3"
    },
    "language_info": {
      "name": "python"
    }
  },
  "nbformat": 4,
  "nbformat_minor": 0
}