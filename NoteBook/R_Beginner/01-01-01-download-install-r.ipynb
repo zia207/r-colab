{
  "nbformat": 4,
  "nbformat_minor": 0,
  "metadata": {
    "colab": {
      "provenance": [],
      "toc_visible": true,
      "authorship_tag": "ABX9TyPWf6Htad0DSNltH9jZ6M3m",
      "include_colab_link": true
    },
    "kernelspec": {
      "name": "python3",
      "display_name": "Python 3"
    },
    "language_info": {
      "name": "python"
    }
  },
  "cells": [
    {
      "cell_type": "markdown",
      "metadata": {
        "id": "view-in-github",
        "colab_type": "text"
      },
      "source": [
        "<a href=\"https://colab.research.google.com/github/zia207/r-colab/blob/main/NoteBook/R_Beginner/01-01-01-download-install-r.ipynb\" target=\"_parent\"><img src=\"https://colab.research.google.com/assets/colab-badge.svg\" alt=\"Open In Colab\"/></a>"
      ]
    },
    {
      "cell_type": "markdown",
      "source": [
        "![alt text](http://drive.google.com/uc?export=view&id=1bLQ3nhDbZrCCqy_WCxxckOne2lgVvn3l)"
      ],
      "metadata": {
        "id": "7wLRwpqWbpnZ"
      }
    },
    {
      "cell_type": "markdown",
      "source": [
        "# Download and Installation of R, RTools, and R-Studio\n",
        "\n"
      ],
      "metadata": {
        "id": "8DryUHf-cBSm"
      }
    },
    {
      "cell_type": "markdown",
      "source": [
        "This tutorial will teach you how to begin programming with `R` using `RStudio`. We'll install R, and RStudio, a popular development environment for R. We'll also learn how to install `R-package`* and some key RStudio features to start programming in R on our own."
      ],
      "metadata": {
        "id": "smYXm6nom8NQ"
      }
    },
    {
      "cell_type": "markdown",
      "source": [
        "## Download R\n",
        "\n",
        "You can download the latest version of R from the Comprehensive R Archive Network (CRAN) website (https://cran.r-project.org/). Follow the instructions to install it on your computer. The version of R to download depends on our operating system. We can also install [Microsoft R Open](https://mran.microsoft.com/download), the enhanced distribution of R from Microsoft. It includes additional capabilities for improved performance and reproducibility and support for Windows and Linux-based platforms.\n",
        "\n",
        "1.  Click [this link](https://www.r-project.org//) to download the latest stable version of R\n",
        "2.  Select a CRAN location (a mirror site) close to you\n",
        "3.  Click on the \"Download R for Windows\"\n",
        "4.  Click on the \"install R for the first time\" link at the top corner of the page\n",
        "5.  Click \"Download R for Windows\" and it will download to local download folder\n"
      ],
      "metadata": {
        "id": "hcOhsk1lcG5w"
      }
    },
    {
      "cell_type": "code",
      "source": [
        "from IPython.display import HTML\n",
        "\n",
        "HTML('<iframe width=\"560\" height=\"315\" src=\"https://www.youtube.com/embed/XIi0rfm0zIg \" frameborder=\"0\" allow=\"accelerometer; autoplay; encrypted-media; gyroscope; picture-in-picture\" allowfullscreen></iframe>')"
      ],
      "metadata": {
        "colab": {
          "base_uri": "https://localhost:8080/",
          "height": 371
        },
        "id": "nodn7zfLndxY",
        "outputId": "2ea58d75-7faf-402e-ed95-d46984e99274"
      },
      "execution_count": 1,
      "outputs": [
        {
          "output_type": "stream",
          "name": "stderr",
          "text": [
            "/usr/local/lib/python3.11/dist-packages/IPython/core/display.py:724: UserWarning: Consider using IPython.display.IFrame instead\n",
            "  warnings.warn(\"Consider using IPython.display.IFrame instead\")\n"
          ]
        },
        {
          "output_type": "execute_result",
          "data": {
            "text/plain": [
              "<IPython.core.display.HTML object>"
            ],
            "text/html": [
              "<iframe width=\"560\" height=\"315\" src=\"https://www.youtube.com/embed/XIi0rfm0zIg \" frameborder=\"0\" allow=\"accelerometer; autoplay; encrypted-media; gyroscope; picture-in-picture\" allowfullscreen></iframe>"
            ]
          },
          "metadata": {},
          "execution_count": 1
        }
      ]
    },
    {
      "cell_type": "markdown",
      "source": [
        "## Install R\n",
        "\n",
        "Installation instruction of R in Windows and MAC could be found [here](https://courses.edx.org/courses/UTAustinX/UT.7.01x/3T2014/56c5437b88fa43cf828bff5371c6a924/). Detail Installation steps of Microsoft R Open in different operating systems can be found [here](https://mran.microsoft.com/documents/rro/installation).\n",
        "\n",
        "### Windows\n",
        "\n",
        "1.  Open Windows Explorer\n",
        "2.  Navigate to the directory where the downloaded R.4.2.#-win.exe (the latest version) file is exit.\n",
        "3.  Double-click this **exe** file and follow the instruction as shown in the video below:"
      ],
      "metadata": {
        "id": "c03KilWccKjd"
      }
    },
    {
      "cell_type": "code",
      "source": [
        "from IPython.display import HTML\n",
        "HTML('<iframe width=\"560\" height=\"315\" src=\"https://www.youtube.com/embed/jXq0OFt_tmo\" frameborder=\"0\" allow=\"accelerometer; autoplay; encrypted-media; gyroscope; picture-in-picture\" allowfullscreen></iframe>')"
      ],
      "metadata": {
        "colab": {
          "base_uri": "https://localhost:8080/",
          "height": 336
        },
        "id": "eYi3YKgxnz3g",
        "outputId": "a8560be0-c11e-44a9-a3e9-1f371f833c99"
      },
      "execution_count": 2,
      "outputs": [
        {
          "output_type": "execute_result",
          "data": {
            "text/plain": [
              "<IPython.core.display.HTML object>"
            ],
            "text/html": [
              "<iframe width=\"560\" height=\"315\" src=\"https://www.youtube.com/embed/jXq0OFt_tmo\" frameborder=\"0\" allow=\"accelerometer; autoplay; encrypted-media; gyroscope; picture-in-picture\" allowfullscreen></iframe>"
            ]
          },
          "metadata": {},
          "execution_count": 2
        }
      ]
    },
    {
      "cell_type": "markdown",
      "source": [
        "### Mac OSX\n",
        "\n",
        "Installing R on Mac OS is similar to Windows. The easiest way is to install it through CRAN by going to the CRAN downloads page and following description as as shown [here](https://itslinuxfoss.com/install-r-ubuntu-22-04/). In brief, download the **.pkg** and open the .pkg file and follow the standard instructions for installing applications on MAC OS X.\n"
      ],
      "metadata": {
        "id": "Zk-lWntscNIY"
      }
    },
    {
      "cell_type": "markdown",
      "source": [
        "### Ubuntu\n",
        "\n",
        "**Step 1**: Update and Upgrade the Ubuntu 24.04\n",
        "\n",
        "To update and upgrade packages on Ubuntu 24.04, firstly, open up the terminal by pressing \"CTRL+ALT+T\" and execute the following command:\n",
        "\n",
        "``` terminal\n",
        "sudo apt update -qq\n",
        "sudo apt upgrade -q\n",
        "```\n",
        "\n",
        "**Step 2**: Add dependencies\n",
        "\n",
        "Install the software-properties-common and dirmngr helper packages for managing CRAN repositories and certificates:\n",
        "\n",
        "``` terminal\n",
        "sudo apt install software-properties-common dirmngr -y\n",
        "```\n",
        "\n",
        "**Step 3**: Download and add the signing key for the CRAN repository\n",
        "\n",
        "``` terminal\n",
        "wget -qO- https://cloud.r-project.org/bin/linux/ubuntu/marutter_pubkey.asc \\| sudo tee -a /etc/apt/trusted.gpg.d/cran_ubuntu_key.asc\n",
        "```\n",
        "\n",
        "**Step 4**: The CRAN repository key fingerprint is E298A3A825C0D65DFD57CBB651716619E084DAB9. Verify the downloaded key using the following command:\n",
        "\n",
        "``` terminal\n",
        "gpg --show-keys /etc/apt/trusted.gpg.d/cran_ubuntu_key.asc\n",
        "```\n",
        "\n",
        "**Step 5**: Add CRAN repository\n",
        "\n",
        "After importing the GPG key, you need to add the CRAN repository that is highly recommended for R installation:\n",
        "\n",
        "``` terminal\n",
        "sudo add-apt-repository \"deb https://cloud.r-project.org/bin/linux/ubuntu \\$(lsb_release -cs)-cran40/\"\n",
        "sudo apt update\n",
        "```\n",
        "\n",
        "**Step 6**: Install R through CRAN repository Now, your Ubuntu 24.04 system is ready to install the R language from the CRAN repository. To do so, type the following command:\n",
        "\n",
        "``` terminal\n",
        "sudo apt install r-base r-base-dev -y\n",
        "```\n",
        "\n",
        "**Step 7**: Install several Ubuntu Packages\n",
        "\n",
        "``` terminal\n",
        "sudo apt-get install libcurl4-openssl-dev libssl-dev libxml2-dev liblapack-dev\n",
        "sudo apt-get install gfortran\n",
        "sudo apt install cmake\n",
        "sudo apt install libcairo2-dev\n",
        "sudo apt install libgmp-dev\n",
        "sudo apt-get install libmpfr-dev\n",
        "sudo apt-get install libgsl-dev\n",
        "\n",
        "sudo add-apt-repository ppa:dns/gnu sudo apt-get update sudo apt install libgsl-dev\n",
        "\n",
        "sudo apt install libssl-dev libcurl4-openssl-dev unixodbc-dev libxml2-dev libmariadb-dev libfontconfig1-dev sudo apt install libharfbuzz-dev libfribidi-dev libfreetype6-dev libpng-dev libtiff5-dev sudo apt install libjpeg-dev libcairo2-dev libgmp-dev libmpfr-dev libsqlite3-dev\n",
        "\n",
        "sudo apt install libglpk-dev libxml2-dev pak::pak(\"igraph/rigraph\")\n",
        "```\n",
        "\n",
        "**Step 7**: Check R -version\n",
        "\n",
        "``` terminal\n",
        "R --version\n",
        "```"
      ],
      "metadata": {
        "id": "OFrfGm7mcdgb"
      }
    },
    {
      "cell_type": "markdown",
      "source": [
        "### Open R-Base\n",
        "\n",
        "After R installation in Windows, double click on the desktop icon or open the program from START to run R. R will be open as a **Console** window.\n",
        "\n",
        "\n",
        "![alt text](http://drive.google.com/uc?export=view&id=1o9hoggS-Kp5NSJNY7Dava2aA1sPobcDs)"
      ],
      "metadata": {
        "id": "x3lFd6ZmcjTV"
      }
    },
    {
      "cell_type": "markdown",
      "source": [
        "## RTools\n",
        "\n",
        "[Rtools](https://cran.r-project.org/bin/windows/Rtools/rtools42/rtools.html) is a collection of software tools that are used to build packages for the R programming language on Windows operating system. It includes various programs and libraries, such as make, gcc, g++, and others, that are needed to compile and build R packages that contain compiled code. Without Rtools, it is not possible to build such packages on Windows.\n",
        "\n",
        "Rtools is not needed if you only use R for data analysis and use packages that only contain interpreted code. However, if you need to use a package that contains compiled code, you will need to install Rtools in order to use that package.\n",
        "\n",
        "The version of may be installed from the Rtools [installer](https://cran.r-project.org/bin/windows/Rtools/rtools42/files/rtools42-5355-5357.exe). It is recommended to use the defaults, including the default installation location of C:\\rtools42.\n",
        "\n",
        "When using R installed by the installer, no further setup is necessary after installing Rtools to build R packages from source. When using the default installation location, R and Rtools42 may be installed in any order and Rtools42 may be installed when R is already running.\n",
        "\n"
      ],
      "metadata": {
        "id": "C2IJCGMWcnQM"
      }
    },
    {
      "cell_type": "markdown",
      "source": [
        "## Integrated Development Environment for R\n",
        "\n",
        "R can be run in the command line and graphical user interfaces in [integrated development environment (IDE)](https://en.wikipedia.org/wiki/Integrated_development_environment). Below are the best programming IDE for R:\n",
        "\n",
        "1.  [RStudio](https://www.rstudio.com/)\n",
        "2.  [R Tools for Visual Studio](https://docs.microsoft.com/en-us/visualstudio/rtvs/installing-r-tools-for-visual-studio?view=vs-2017)\n",
        "3.  [Rattle](https://rattle.togaware.com/)\n",
        "4.  [ESS](https://www.dunebook.com/best-r-programming-ide/)\n",
        "5.  [Tinn-R](https://tinn-r.software.informer.com/)\n",
        "6.  [R AnalyticalFlow](https://r.analyticflow.com/en/)\n",
        "7.  [Radiant](https://radiant-rstats.github.io/docs/install.html)\n",
        "8.  [RBox](https://atom.io/packages/rbox)\n",
        "9.  [Code](https://code.visualstudio.com/)\n"
      ],
      "metadata": {
        "id": "2ovrLvEUcqOC"
      }
    },
    {
      "cell_type": "markdown",
      "source": [
        "## Download and Installation RStudio\n",
        "\n",
        "[RStudio](https://posit.co) is one of the best [integrated development environment (IDE)](https://en.wikipedia.org/wiki/Integrated_development_environment) for R that includes a [console](https://support.rstudio.com/hc/en-us/articles/200404846-Working-in-the-Console), a [terminal](https://support.rstudio.com/hc/en-us/articles/115010737148-Using-the-RStudio-Terminal-in-the-RStudio-IDE) syntax-highlighting editor that supports direct code execution, as well as tools for plotting, history, debugging and workspace management. RStudio Desktop and RStudio Server for Windows, Mac, and Linux are open sources.\n",
        "\n",
        "RStudio is now Posit. First, you have to download the latest version of RStudio according to your operating system from [here](https://posit.co/download/rstudio-desktop/#download)."
      ],
      "metadata": {
        "id": "D6_V2FqIcwNS"
      }
    },
    {
      "cell_type": "code",
      "source": [
        "from IPython.display import HTML\n",
        "HTML('<iframe width=\"560\" height=\"315\" src=\"https://www.youtube.com/embed/dxkkrc0X36k\" frameborder=\"0\" allow=\"accelerometer; autoplay; encrypted-media; gyroscope; picture-in-picture\" allowfullscreen></iframe>')"
      ],
      "metadata": {
        "colab": {
          "base_uri": "https://localhost:8080/",
          "height": 336
        },
        "id": "qdm-zCF8pOy_",
        "outputId": "e4b1cf85-326d-4dc4-fedb-49547ac85f0c"
      },
      "execution_count": 3,
      "outputs": [
        {
          "output_type": "execute_result",
          "data": {
            "text/plain": [
              "<IPython.core.display.HTML object>"
            ],
            "text/html": [
              "<iframe width=\"560\" height=\"315\" src=\"https://www.youtube.com/embed/dxkkrc0X36k\" frameborder=\"0\" allow=\"accelerometer; autoplay; encrypted-media; gyroscope; picture-in-picture\" allowfullscreen></iframe>"
            ]
          },
          "metadata": {},
          "execution_count": 3
        }
      ]
    },
    {
      "cell_type": "markdown",
      "source": [
        "For windows user, and just run the installation file and it normally detects your latest installed R version automatically. If you want to do some extra configuration, you need follow some steps which can be found [here](http://www.dummies.com/programming/r/how-to-install-and-configure-rstudio/)\n",
        "\n",
        "For installation instruction of R and RStudio in Mac OS could be found [here](https://web.stanford.edu/~kjytay/courses/stats32-aut2018/Session%201/Installation%20for%20Mac.html).\n",
        "\n",
        "Installing R Studio on Ubuntu could be found [here](https://www.geeksforgeeks.org/how-to-install-r-studio-on-windows-and-linux/)\n",
        "\n",
        "We may open RStudio just double click Rstudio icon on your Desktop or on the task bar. The RStudio interface has four main panels:\n",
        "\n",
        "-   Console: where you can type commands and see output.\n",
        "\n",
        "-   Script editor: where you can type out commands and save to file.\n",
        "\n",
        "-   Environment/History: environment shows all active objects and history keeps track of all commands run in console.\n",
        "\n",
        "-   Files/Plots/Packages/Help etc.\n",
        "\n",
        "    -   Files: shows files in the working directory.\n",
        "\n",
        "    -   Plots: shows plots created in R.\n",
        "\n",
        "    -   Packages: shows all installed packages and allows you to load them.\n",
        "\n",
        "    -   Help: provides help on functions and packages.\n",
        "\n",
        "    -   Viewer: shows web content, such as R Markdown documents.\n",
        "\n",
        "![alt text](http://drive.google.com/uc?export=view&id=1Nf6TFXFTEHVxQ8cIInGMduZZw_8qUvrm)"
      ],
      "metadata": {
        "id": "7YGn9O8Ec0Gy"
      }
    },
    {
      "cell_type": "markdown",
      "source": [
        "## R Packages or Libraries\n",
        "\n",
        "R Packages are collections of R functions, data, and compiled code in a well-defined format. The directory where packages are stored is called the **library**. We can install any R 'package' or multiple package directly from the console, using r-script and GUI (Tools \\> Install Packages) through internet.\n",
        "\n",
        "Use **install.packages()** function in your console or in a script:\n",
        "\n",
        "``` r\n",
        "install.packages(\"raster\", dependencies = TRUE)\n",
        "```\n",
        "\n",
        "For multiple packages:\n",
        "\n",
        "``` r\n",
        "install.packages(c(\"raster\",\"gstat\"), dependencies = TRUE)\n",
        "```\n",
        "\n",
        "If we want see content of any library, just use **help()** function or package specific:\n",
        "\n",
        "``` r\n",
        "library(help=spatial)\n",
        "```"
      ],
      "metadata": {
        "id": "wCus_2U_c04e"
      }
    },
    {
      "cell_type": "markdown",
      "source": [
        "## R Markdown\n",
        "\n",
        "R Markdown is an extension of the Markdown language that allows us to embed R code and its output within your documents. With R Markdown, we can create dynamic documents that integrate R code, results, and visualization with narrative text, all in a single document. R Markdown files have the extension \".Rmd\" and can be rendered into various output formats such as HTML, PDF, Word, and more.\n",
        "\n",
        "R Markdown documents contain three main components: 1. The YAML header specifies the document's metadata, such as the title, author, and output format.\n",
        "\n",
        "2.  The text body, contains the narrative text written in Markdown syntax.\n",
        "\n",
        "3.  Code chunks are blocks of R code that can be executed and rendered within the document.\n",
        "\n",
        "R Markdown is a powerful tool for creating reproducible research documents, reports, presentations, and websites. It allows the integration of code, results, and visualization into a single document that others can easily share and reproduce.\n",
        "\n",
        "A brief overview could be found [here](https://rmarkdown.rstudio.com/lesson-1.html):\n",
        "\n",
        "For a brief tutorial, please visit [here](https://rmarkdown.rstudio.com/lesson-2.html).\n"
      ],
      "metadata": {
        "id": "TR5leruoc6tf"
      }
    },
    {
      "cell_type": "markdown",
      "source": [
        "## Quarto\n",
        "\n",
        "Like, R Markdown, [Quarto](https://quarto.org/) is an open-source scientific and technical publishing system built on [Pandoc](https://pandoc.org/), a universal document converter. It creates dynamic content with [Python](https://quarto.org/docs/computations/python.html), [R](https://quarto.org/docs/computations/r.html), [Julia](https://quarto.org/docs/computations/julia.html), and [Observable](https://quarto.org/docs/computations/ojs.html)for publishing high-quality articles, reports, presentations, websites, blogs, and books in HTML, PDF, MS Word, ePub, and more.\n",
        "\n",
        "Like R Markdown, Quarto uses *Knitr* to execute R code. So it can render most existing **Rmd** files without modification. The difference between R Markdown and Quarto is related to output formats. Quarto includes many more built-in output formats (and more options for customizing each format). Quarto also has native features for particular project types like Websites, Books, and Blogs (rather than relying on external packages).\n",
        "\n",
        "To run Quarto on RStudio, you must install it in your system. You can download it from [here](https://quarto.org/docs/get-started/) according to your operating system. After installation, you need to install the **quarto** package to render documents from the R console.\n",
        "\n",
        "``` r\n",
        "install.packages(\"quarto\")\n",
        "quarto::quarto_render(\"hello.qmd\")\n",
        "```\n",
        "\n",
        "[Andy Field](https://www.youtube.com/@ProfAndyField) have series of YouTube video tutorials related to Quarto. Link of these are in below:\n",
        "\n",
        "[Quarto part 1](https://youtu.be/31Q9ZTZOHIM)\n",
        "\n",
        "[Quarto part 2](https://youtu.be/QlYgnf_qCNo)\n",
        "\n",
        "[Quarto part 3](https://youtu.be/Au7MqvBCi5Y)\n",
        "\n",
        "[Quarto part 4](https://youtu.be/Auo1hjyeCl4)\n",
        "\n",
        "[Quarto part 5](https://youtu.be/wVf-k1azNE0)\n"
      ],
      "metadata": {
        "id": "_Ye5lCfMdArW"
      }
    },
    {
      "cell_type": "markdown",
      "source": [
        "## Summary and Conclusion\n",
        "\n",
        "This tutorial aims to help individuals who want to start their journey into data science. It provides a comprehensive guide to download and install R, R Studio, and R Tools, which are essential tools for statistical computing and data analysis. To make it easier to understand, the tutorial has been organized logically, with the most important information mentioned first. Sentences have been kept short and only include necessary information to ensure an easy flow of the text.\n",
        "\n",
        "To summarize, this tutorial helps users download and install R, R Studio, and R Tools, providing a well-configured R environment ready to tackle data science projects. It emphasizes the importance of exploring the rich R ecosystem and engaging with the vibrant R community."
      ],
      "metadata": {
        "id": "o_NN62UCjlMD"
      }
    }
  ]
}