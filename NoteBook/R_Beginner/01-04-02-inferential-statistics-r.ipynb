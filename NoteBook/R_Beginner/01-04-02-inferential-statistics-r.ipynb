{
  "cells": [
    {
      "cell_type": "markdown",
      "metadata": {
        "id": "view-in-github",
        "colab_type": "text"
      },
      "source": [
        "<a href=\"https://colab.research.google.com/github/zia207/r-colab/blob/main/NoteBook/R_Beginner/01-04-02-inferential-statistics-r.ipynb\" target=\"_parent\"><img src=\"https://colab.research.google.com/assets/colab-badge.svg\" alt=\"Open In Colab\"/></a>"
      ]
    },
    {
      "cell_type": "markdown",
      "source": [
        "![alt text](http://drive.google.com/uc?export=view&id=1bLQ3nhDbZrCCqy_WCxxckOne2lgVvn3l)"
      ],
      "metadata": {
        "id": "fY1t3h3_UD3v"
      }
    },
    {
      "cell_type": "markdown",
      "metadata": {
        "id": "MGoP0AbXEAUx"
      },
      "source": [
        "# Inferential Statistics with R\n",
        "\n",
        "This section of the tutorial focuses on **Inferential Statistics** using R. Inferential statistics is a branch of statistics that allows us to make conclusions about a population based on a sample of data. It involves estimating population parameters, testing hypotheses, and making predictions. This section will cover key concepts in inferential statistics, including point estimation, interval estimation, data distribution and hypothesis testing.  We will also explore how to implement these concepts using R programming language."
      ]
    },
    {
      "cell_type": "markdown",
      "source": [
        "## Introduction"
      ],
      "metadata": {
        "id": "2VB7J0bdUFRg"
      }
    },
    {
      "cell_type": "markdown",
      "metadata": {
        "id": "kroLnhoOPPoV"
      },
      "source": [
        "**Inferential statistics** is a crucial branch of statistics that deals with utilizing a sample of data to draw conclusions or make predictions about a larger population. It involves using various statistical methods and techniques to analyze the data and infer results beyond the observed data.\n",
        "\n",
        "The main goal of inferential statistics is to estimate unknown parameters of a population, such as its mean or variance, based on the information gathered from a sample. By doing so, it helps researchers make informed decisions and draw reliable conclusions about the larger population, even with limited data. In summary, inferential statistics plays a significant role in the field of research by providing a framework for statistical inference and prediction.\n",
        "\n",
        "## Key Concepts in Inferential Statistics\n",
        "\n",
        "Inferential statistics is the branch of statistics that deals with making inferences about a population based on data from a sample. This involves several key concepts used to estimate and test hypotheses about population parameters.\n",
        "\n",
        "1.  **Population and Sample**: A population is the entire group of individuals, objects, or events being studied. A sample is a subset of the population used to represent the whole. Choosing a sample representative of the population is important to ensure accurate inferences.\n",
        "\n",
        "2.  **Estimation**: Estimation is using sample data to estimate population parameters. There are two types of estimation. Point Estimation involves using sample data to estimate a single value (such as the mean or proportion) for the population. - Interval Estimation: This involves estimating a range within which the population parameter lies. This is typically done using confidence intervals, which provide a range of values with a certain confidence level.\n",
        "\n",
        "3.  **Sampling Distributions**: Sampling distributions are the probability distributions of sample statistics (such as the mean or proportion) calculated from repeated random samples drawn from the population. The most important sampling distribution is the sampling distribution of the sample mean, used to make inferences about the population mean.\n",
        "\n",
        "4.  **Hypothesis Testing**: Hypothesis testing uses sample data to test hypotheses about population parameters. The key concepts in hypothesis testing are:\n",
        "\n",
        "-   ***Null Hypothesis (H0)***: This is a statement that there is no effect or no difference between groups.\n",
        "\n",
        "-   ***Alternative Hypothesis (Ha)***: This statement contradicts the null hypothesis.\n",
        "\n",
        "-   ***Significance Level (α)***: This is the threshold used to assess the strength of evidence against the null hypothesis.\n",
        "\n",
        "-   ***p-value***: This is the probability of observing the data given that the null hypothesis is true.\n",
        "\n",
        "-   ***Types of Errors***: There are two types of errors in hypothesis testing: Type I (rejecting a true null hypothesis) and Type II (failing to reject a false null hypothesis).\n",
        "\n",
        "5.  **Regression and Correlation**: Regression and correlation are statistical methods used to analyze the relationships between variables in a population. Regression is used to predict one variable's value based on the values of other variables. In contrast, correlation measures the strength and direction of the relationship between two variables.\n",
        "\n",
        "6.  **Analysis of Variance (ANOVA)** is a statistical method to compare means among three or more groups. It tests hypotheses related to mean differences of multiple groups for a given variable. One-Way ANOVA is used when comparing means of a single dependent variable across three or more independent categorical groups. It helps researchers identify significant differences in mean values of the dependent variable across different categories of the independent variable. The results guide further research or interventions aimed at improving outcomes for those groups.\n"
      ]
    },
    {
      "cell_type": "markdown",
      "source": [
        "Understanding inferential statistics is critical in decision-making processes in various fields, such as healthcare, social sciences, and business. This tutorial provides a comprehensive understanding of the some essential concepts in inferential statistics, making it an indispensable tool for anyone interested in this field."
      ],
      "metadata": {
        "id": "SltiVa-3x_db"
      }
    },
    {
      "cell_type": "markdown",
      "metadata": {
        "id": "CdQJ-mgsEU9J"
      },
      "source": [
        "## Install rpy2\n",
        "\n",
        "Easy way to run R in Colab with Python runtime using **rpy2** python package. We have to install this package using the `pip` command:"
      ]
    },
    {
      "cell_type": "code",
      "execution_count": null,
      "metadata": {
        "id": "qOD7NpajDy5k"
      },
      "outputs": [],
      "source": [
        "!pip uninstall rpy2 -y\n",
        "! pip install rpy2==3.5.1\n",
        "%load_ext rpy2.ipython"
      ]
    },
    {
      "cell_type": "markdown",
      "metadata": {
        "id": "qmEDD0ccEurf"
      },
      "source": [
        "##  Mount Google Drive\n",
        "\n",
        "Then you must create a folder in Goole drive named \"R\" to install all packages permanently. Before installing R-package in Python runtime. You have to mount Google Drive and follow on-screen instruction:"
      ]
    },
    {
      "cell_type": "code",
      "execution_count": null,
      "metadata": {
        "id": "lClKZUW1Eu_G",
        "colab": {
          "base_uri": "https://localhost:8080/"
        },
        "outputId": "58724502-80bf-48a2-ff83-41e3fc6a9c63"
      },
      "outputs": [
        {
          "output_type": "stream",
          "name": "stdout",
          "text": [
            "Mounted at /content/drive\n"
          ]
        }
      ],
      "source": [
        "from google.colab import drive\n",
        "drive.mount('/content/drive')"
      ]
    },
    {
      "cell_type": "markdown",
      "source": [
        "## Data\n",
        "\n",
        "\n",
        "All data set use in this exercise can be downloaded from my [Dropbox](https://www.dropbox.com/scl/fo/fohioij7h503duitpl040/h?rlkey=3voumajiklwhgqw75fe8kby3o&dl=0) or from my [Github](https://github.com/zia207/r-colab/tree/main/Data/R_Beginners) accounts.\n",
        "\n"
      ],
      "metadata": {
        "id": "pcn48RSJ2Xnk"
      }
    },
    {
      "cell_type": "code",
      "source": [
        "%%R\n",
        "mf<-read.csv(\"https://github.com/zia207/r-colab/raw/main/Data/R_Beginners/rice_arsenic_data.csv\",\n",
        "                  header= TRUE)\n",
        "head(mf)"
      ],
      "metadata": {
        "colab": {
          "base_uri": "https://localhost:8080/"
        },
        "id": "NKhJzcrC0lGY",
        "outputId": "ed9bc27e-0cd1-4e41-ef7e-1565b828cb6e"
      },
      "execution_count": null,
      "outputs": [
        {
          "output_type": "stream",
          "name": "stdout",
          "text": [
            "  ID TREAT_ID  TREAT  VAR        PH        TN        PN      ster      DTM\n",
            "1  1        1 Low As BR01 119.74870 16.701608 15.509622  1.121060 116.6888\n",
            "2  2        1 Low As BR01  98.69824 27.946359 26.738585 11.272871 119.4231\n",
            "3  3        1 Low As BR01 133.87754  6.416868  2.846243 15.267027 121.3140\n",
            "4  4        1 Low As BR01 123.00719 20.932223 16.971565  4.953537 120.9241\n",
            "5  5        1 Low As BR01  89.49716 25.957307 21.515372  3.814338 115.3630\n",
            "6  6        1 Low As BR01  96.75960 26.157779 21.662071 15.783027 120.6012\n",
            "        GY       SW       GAs     STAs\n",
            "1 43.91485 24.44901 0.8626439 15.23764\n",
            "2 47.81307 30.65842 0.8442584 13.36959\n",
            "3 21.87595 25.88831 1.1382471 16.65208\n",
            "4 48.43976 54.92401 1.0445282 20.77017\n",
            "5 44.40447 57.38066 0.6864139 13.67052\n",
            "6 32.03458 48.69373 0.9225152 14.07802\n"
          ]
        }
      ]
    },
    {
      "cell_type": "markdown",
      "metadata": {
        "id": "mOk85Ol6GQfH"
      },
      "source": [
        "## Population and Samples\n",
        "\n",
        "When conducting research or gathering data, it's important to understand the concepts of **population** and **sample**. The population refers to the entire group or collection of items or individuals that you're interested in studying or collecting data from. For example, if you want to know the heights of all individuals in a country, the entire set of heights of every person in that country would constitute the population.\n",
        "\n",
        "A **population parameter** is a characteristic of the entire population, such as the mean, standard deviation, proportion, or other measurable attribute. These parameters can be difficult or impossible to determine for the entire population, which is why researchers often rely on samples.\n",
        "\n",
        "A sample is a subset or smaller group selected from the population. It's usually not feasible to measure or collect data from every individual in a population, so researchers will select a smaller group to represent the population. For example, if you want to estimate the average height of individuals in a country, you might take a sample of 500 individuals and measure their heights. This smaller group represents the sample.\n",
        "\n",
        "A **sample statistic** is a characteristic or measure computed from the sample that is used to estimate or infer the population parameter. For example, if you measure the heights of 500 individuals in a country, you can calculate the average height of the sample, which is a sample statistic. This statistic can be used to estimate the population parameter, such as the average height of all individuals in the country.\n",
        "\n"
      ]
    },
    {
      "cell_type": "markdown",
      "source": [
        "## Estimation\n",
        "\n",
        "**Estimation** is a statistical technique that uses sample data to make inferences about population parameters. The ultimate goal of estimation is to get as close as possible to the true value of the parameter for the entire population based on information obtained from a representative subset of that population.\n",
        "\n",
        "There are two main types of estimation: **point estimation** and **interval estimation**. Point estimation involves using sample data to estimate a single numerical value for the population parameter, such as the mean or proportion. This approach assumes that the sample is representative of the population and that the parameter being estimated is fixed and known. Interval estimation, on the other hand, involves estimating a range of values within which the population parameter is likely to exist. This is typically done using confidence intervals, which provide a range of values with a certain confidence level. In other words, if the same sample were taken multiple times, the confidence interval would contain the true population parameter in a certain percentage of cases.\n",
        "\n",
        "Interval estimation is generally considered more informative than point estimation, as it provides a range of values rather than a single-point estimate. However, it also requires more data and assumptions about the population distribution being studied. Ultimately, the choice between point estimation and interval estimation depends on the specific research question, the available data, and the precision required for the analysis.\n",
        "\n"
      ],
      "metadata": {
        "id": "bq9U2wHv7ZRr"
      }
    },
    {
      "cell_type": "markdown",
      "source": [
        "### Point Estimation"
      ],
      "metadata": {
        "id": "NZCNlb75inu-"
      }
    },
    {
      "cell_type": "code",
      "execution_count": null,
      "metadata": {
        "id": "gXfSYaGPGpbl",
        "colab": {
          "base_uri": "https://localhost:8080/"
        },
        "outputId": "4712ffa4-afc1-422e-8a7c-6a1fd52c1c4e"
      },
      "outputs": [
        {
          "output_type": "stream",
          "name": "stdout",
          "text": [
            "[1] 1.36003\n"
          ]
        }
      ],
      "source": [
        "%%R\n",
        "#  Estimating the Population Mean\n",
        "# Calculating the sample mean (point estimate for the population mean)\n",
        "sample_mean <- mean(mf$GAs)\n",
        "sample_mean"
      ]
    },
    {
      "cell_type": "code",
      "source": [
        "%%R\n",
        "# Calculating the sample proportion (point estimate for the population proportion)\n",
        "data<-mf$TREAT\n",
        "sample_proportion <- sum(data == \"Low As\") / length(data)\n",
        "sample_proportion"
      ],
      "metadata": {
        "colab": {
          "base_uri": "https://localhost:8080/"
        },
        "id": "fFOKam9niuon",
        "outputId": "3d903e6e-fd6e-4798-e6a1-cfcc07ad4b0b"
      },
      "execution_count": null,
      "outputs": [
        {
          "output_type": "stream",
          "name": "stdout",
          "text": [
            "[1] 0.5\n"
          ]
        }
      ]
    },
    {
      "cell_type": "markdown",
      "source": [
        "### Interval Estimation\n",
        "\n",
        "In statistical analysis, interval estimation is a technique used to estimate the value of an unknown population parameter with a degree of certainty. This technique involves calculating a range, or interval, of values within which the true value of the parameter is likely to fall, based on a sample of data. This interval provides researchers with a measure of the uncertainty around the point estimate of the population parameter, and enables them to make inferences about the population with a known level of confidence."
      ],
      "metadata": {
        "id": "M-Q9xWCLit23"
      }
    },
    {
      "cell_type": "code",
      "source": [
        "%%R\n",
        "# Confidence Interval for Population Mean\n",
        "data <- mf$GAs\n",
        "\n",
        "# Calculating the sample mean and standard deviation\n",
        "sample_mean <- mean(data)\n",
        "sample_std_dev <- sd(data)\n",
        "\n",
        "# Calculating the confidence interval for the population mean (assuming normal distribution)\n",
        "confidence_level <- 0.95  # Adjust as needed\n",
        "alpha <- 1 - confidence_level\n",
        "n <- length(data)\n",
        "\n",
        "# Calculating margin of error\n",
        "margin_of_error <- qt(1 - alpha / 2, n - 1) * (sample_std_dev / sqrt(n))\n",
        "\n",
        "# Calculating lower and upper bounds of the confidence interval\n",
        "lower_bound <- sample_mean - margin_of_error\n",
        "upper_bound <- sample_mean + margin_of_error\n",
        "\n",
        "# Outputting the confidence interval\n",
        "print(paste(\"Confidence Interval for Population Mean (95%):\",\n",
        "            round(lower_bound, 2), \"to\", round(upper_bound, 2)))"
      ],
      "metadata": {
        "colab": {
          "base_uri": "https://localhost:8080/"
        },
        "id": "CBXiV8FK9zHJ",
        "outputId": "a0abbc46-46b5-42f3-8d15-e12412e53fc0"
      },
      "execution_count": null,
      "outputs": [
        {
          "output_type": "stream",
          "name": "stdout",
          "text": [
            "[1] \"Confidence Interval for Population Mean (95%): 1.28 to 1.44\"\n"
          ]
        }
      ]
    },
    {
      "cell_type": "markdown",
      "source": [
        "To compute an interval, we use the sample mean, sample standard deviation, and the t-distribution. This accounts for any uncertainty. If you adjust the confidence_level variable, you can change the confidence level for the interval estimation. Understanding interval estimation is important as it helps you quantify the uncertainty around point estimates. It also provides a range of values where the true population parameter is likely to fall."
      ],
      "metadata": {
        "id": "kHcm6AgHi8bK"
      }
    },
    {
      "cell_type": "markdown",
      "source": [
        "## Sample Distribution\n",
        "\n",
        "The **sampling distribution** is a statistical concept that refers to the probability distribution of a statistic, such as the mean, variance, or proportion, obtained from multiple random samples taken from the same population. It helps illustrate how sample statistics might vary if multiple samples were drawn from the same population. This distribution is a theoretical representation of all possible sample statistics obtained from repeated sampling from the same population. Understanding the sampling distribution is critical in statistical inference, as it helps determine the probability of obtaining a particular sample statistic and, consequently, the likelihood of making accurate inferences about the population"
      ],
      "metadata": {
        "id": "1jX5VaKM0MMV"
      }
    },
    {
      "cell_type": "code",
      "execution_count": null,
      "metadata": {
        "id": "6Lm8_XGaG8Il"
      },
      "outputs": [],
      "source": [
        "%%R\n",
        "set.seed(42)  # Setting seed for reproducibility\n",
        "# Number of samples to draw\n",
        "num_samples <- 1000\n",
        "sample_size <- 30  # Size of each sample\n",
        "\n",
        "# Creating an empty vector to store sample means\n",
        "sample_means <- numeric(num_samples)\n",
        "\n",
        "# Generating multiple samples and calculating sample means\n",
        "for (i in 1:num_samples) {\n",
        "  sample <- sample(df$GAs, sample_size)\n",
        "  sample_means[i] <- mean(sample)\n",
        "}"
      ]
    },
    {
      "cell_type": "markdown",
      "source": [
        "We use hist() function to create a histogram of means:"
      ],
      "metadata": {
        "id": "d35_rXRfjFxp"
      }
    },
    {
      "cell_type": "code",
      "source": [
        "%%R -w 450 -h 400 -u px\n",
        "hist(sample_means, breaks = 30, col = \"skyblue\", main = \"Sampling Distribution of the Mean\")\n",
        "abline(v=mean(df$As), col=\"red\")\n"
      ],
      "metadata": {
        "id": "hwrCDAJZjF45",
        "colab": {
          "base_uri": "https://localhost:8080/",
          "height": 417
        },
        "outputId": "df6a402f-55fd-4d73-edc2-5336aef75ff4"
      },
      "execution_count": null,
      "outputs": [
        {
          "output_type": "display_data",
          "data": {
            "image/png": "[encoded data removed]"
          },
          "metadata": {}
        }
      ]
    },
    {
      "cell_type": "markdown",
      "source": [
        "In the above example, we draw 1000 samples of size 30 from this population. For each of these samples, we calculate their means. Finally, we plot a histogram of these sample means, which shows the approximate normal distribution. This means that as the sample size increases, the sample means tend to approach a normal distribution, regardless of the shape of the population distribution. The **Central Limit Theorem** is a fundamental statistical concept that allows us to make inferences about a population based on a sample. Red line on plot show the population mean.\n",
        "\n",
        "The **Central Limit Theorem** is a statistical concept that explains how the distribution of sample means tends to be normally distributed, regardless of the underlying population distribution, as the sample size increases. In simpler terms, if we were to take several random samples from a population, the average of each sample would create a normal distribution, even if the original population is not normally distributed. This theorem is widely used in statistical analysis and is essential in making inferences about the population based on the sample data.."
      ],
      "metadata": {
        "id": "SqJQoPMbC4sA"
      }
    },
    {
      "cell_type": "markdown",
      "source": [
        "## **Data Distribution**\n",
        "\n",
        "In statistics, data distribution is a fundamental concept that describes how data points are distributed or spread out over a range of values. It is an important aspect of statistical analysis as it helps to understand the underlying characteristics of a data set. A thorough understanding of data distribution allows researchers to select appropriate statistical tests, detect outliers, identify patterns and trends, and make informed decisions.\n",
        "\n",
        "Data distribution can be represented graphically using various methods such as histograms, density plots, and qq-plots or probability plots. Histograms are graphical representations that display the distribution of numerical data. They plot the frequency of data points within different intervals or \"bins\" along the x-axis. Density plots are similar to histograms, but they use a smooth curve instead of using bars to represent the frequency of data points. Qq-plots or probability plots are graphical methods used to assess whether a given data set follows a particular distribution. These plots compare the distribution of the data set to a theoretical distribution, such as the normal distribution."
      ],
      "metadata": {
        "id": "LCrTDUSKYC8_"
      }
    },
    {
      "cell_type": "markdown",
      "source": [
        "There are several types of data distributions, including:\n",
        "\n",
        "### **Normal Distribution**\n",
        "\n",
        "Normal distribution is also known as **Gaussian** distribution, it is a bell-shaped curve that is symmetric around the mean. It is used to model data that is distributed evenly around the mean, with a few data points on the tails of the distribution.\n",
        "\n",
        "The probability density function (pdf), (a statistical function that describes the likelihood of a continuous random variable taking on a particular value) of the normal distribution is given by the following formula:\n",
        "\n",
        "$$ f(x \\mid \\mu, \\sigma) = \\frac{1}{\\sigma \\sqrt{2\\pi}} \\, e^{-\\frac{1}{2}\\left(\\frac{x - \\mu}{\\sigma}\\right)^2} $$\n",
        "\n",
        "Where: - $x$ is the variable for which the probability density is calculated. - $\\mu$ is the mean of the distribution. - $\\sigma$ is the standard deviation of the distribution. - $\\pi$ is the mathematical constant pi (approximately 3.14159). - $e$ is the mathematical constant Euler's number (approximately 2.71828).\n",
        "\n",
        "This formula describes the bell-shaped curve of the normal distribution. The parameters $\\mu$ and $\\sigma$ determine the location and spread of the distribution, respectively.\n",
        "\n",
        "When $mu = 0$ and $sigma = 1$, the normal distribution is referred to as the standard normal distribution. In this case, the formula simplifies to:\n",
        "\n",
        "$$ f(x) = \\frac{1}{\\sqrt{2\\pi}} \\, e^{-\\frac{1}{2}x^2} $$\n",
        "\n",
        "This standard normal distribution has a mean of 0 and a standard deviation of 1. The probability density function represents the likelihood of observing a particular value $x$ in the distribution.\n",
        "\n",
        "R has four in built functions to generate normal distribution. They are described below.\n",
        "\n",
        "-   dnorm(x, mean, sd) - vector of quantiles\n",
        "\n",
        "-   pnorm(q, mean, sd) - vector of quantiles\n",
        "\n",
        "-   qnorm(p, mean, sd) - vector of probabilities\n",
        "\n",
        "-   rnorm(n, mean = 0, sd = 1) - number of observations. If length(n) \\> 1, the length is taken to be the number required"
      ],
      "metadata": {
        "id": "2MnpNLfs5UJW"
      }
    },
    {
      "cell_type": "code",
      "source": [
        "%%R -w 400  -h 400 -u px\n",
        "x = seq(-15, 15, by=0.5)\n",
        "\n",
        "y = dnorm(x, mean(x), sd(x))\n",
        "\n",
        "# Plot the graph.\n",
        "plot(x, y, main= \"Normal distribution\")"
      ],
      "metadata": {
        "colab": {
          "base_uri": "https://localhost:8080/",
          "height": 417
        },
        "id": "935NyNNYO2pN",
        "outputId": "60cf5407-427a-4341-b420-8defc0a9c8ca"
      },
      "execution_count": null,
      "outputs": [
        {
          "output_type": "display_data",
          "data": {
            "image/png": "[encoded data removed]"
          },
          "metadata": {}
        }
      ]
    },
    {
      "cell_type": "markdown",
      "source": [
        "**Skewed distribution**: A skewed distribution is one in which the data points are not evenly distributed around the mean. There are two types skewed distributions: positively skewed (skewed to the right) and negatively skewed (skewed to the left). In a positively skewed distribution, the tail of the distribution is longer on the right side, while in a negatively skewed distribution, the tail is longer on the left side."
      ],
      "metadata": {
        "id": "QxcAcJgmPL_M"
      }
    },
    {
      "cell_type": "code",
      "source": [
        "%%R -w 600  -h 400 -u px\n",
        "par(mfrow = c(1, 2))\n",
        "set.seed(5)\n",
        "#left or negatively skewness\n",
        "x = rbeta(100000,100,1)*10\n",
        "hist(x,\n",
        "     main=\"Negatively Skewed\")\n",
        "\n",
        "#right skewness or positively\n",
        "hist(rbeta(100000,1,100)*10,\n",
        "     main='Positively Skewed')"
      ],
      "metadata": {
        "colab": {
          "base_uri": "https://localhost:8080/",
          "height": 417
        },
        "id": "F4v4_tOq5545",
        "outputId": "116cdcdd-45df-4514-d007-d8c9ebb3a91d"
      },
      "execution_count": null,
      "outputs": [
        {
          "output_type": "display_data",
          "data": {
            "image/png": "[encoded data removed]"
          },
          "metadata": {}
        }
      ]
    },
    {
      "cell_type": "markdown",
      "source": [
        "A **Uniform distribution** on is one in which all the data points are equally likely to occur. This type of distribution is often used in simulations and random number generation."
      ],
      "metadata": {
        "id": "FWX9PhEuRy9q"
      }
    },
    {
      "cell_type": "code",
      "source": [
        "%%R -w 400  -h 400 -u px\n",
        "# Generating Uniformly distributed data\n",
        "set.seed(123)  # Setting seed for reproducibility\n",
        "\n",
        "# Generating Uniform distributed data within a specified interval\n",
        "uniform_data <- runif(1000, min = 0, max = 10)  # Change min and max values as needed\n",
        "\n",
        "# Plotting the Uniform distribution\n",
        "hist(uniform_data,\n",
        "     breaks = 30,\n",
        "     col = \"lightgreen\",\n",
        "     main = \"Uniform Distribution\", xlab = \"Values\")"
      ],
      "metadata": {
        "colab": {
          "base_uri": "https://localhost:8080/",
          "height": 417
        },
        "id": "NZj-VPQURzfz",
        "outputId": "e0607cd9-a1b8-48c2-8e8f-21024f3ae426"
      },
      "execution_count": null,
      "outputs": [
        {
          "output_type": "display_data",
          "data": {
            "image/png": "[encoded data removed]"
          },
          "metadata": {}
        }
      ]
    },
    {
      "cell_type": "markdown",
      "metadata": {
        "id": "FnFjzl14ZSFv"
      },
      "source": [
        "###  **Bimodal Distribution**\n",
        "\n",
        "A bimodal distribution has two distinct peaks or modes. This means that the data can be divided into two distinct groups with different characteristics or patterns. For example, a data set of test scores may have one peak for students who scored well and another for students who scored poorly. This type of distribution can occur when two different populations are merged or when a single population exhibits two different patterns. Bimodal distributions are essential to understanding statistics because they can affect data interpretation and statistical models' accuracy.\n",
        "\n",
        "The common way to create a bimodal distribution is by combining two unimodal distributions. Let's consider a simple example where we create a bimodal distribution by summing two normal distributions:\n",
        "\n",
        "If $X_1 \\sim \\mathcal{N}(\\mu_1, \\sigma_1^2)$ and $(X_2 \\sim \\mathcal{N}(\\mu_2, \\sigma_2^2)$ are two independent normal distributions, then their sum $Y = X_1 + X_2$ would result in a distribution that is bimodal. The parameters $\\mu_1, \\sigma_1, \\mu_2, \\sigma_2$ determine the location and spread of each individual normal distribution, and the sum introduces the bimodal characteristic.\n",
        "\n",
        "The probability density function (PDF) of the bimodal distribution is obtained by convolving the PDFs of the individual distributions. For normal distributions, the convolution of two normal distributions is another normal distribution. Therefore, the PDF of the sum of two normal distributions is itself a normal distribution, and the sum creates the bimodal appearance.\n",
        "\n",
        "The PDF for the sum of two normal distributions would involve terms related to $\\mu_1, \\sigma_1, \\mu_2, \\sigma_2$, and their interplay would determine the location and separation of the modes."
      ]
    },
    {
      "cell_type": "code",
      "execution_count": null,
      "metadata": {
        "colab": {
          "base_uri": "https://localhost:8080/",
          "height": 417
        },
        "outputId": "0f4a0846-1a36-404d-fda1-40e9f0df0659",
        "id": "hBsrWn5yZSFv"
      },
      "outputs": [
        {
          "output_type": "display_data",
          "data": {
            "image/png": "[encoded data removed]"
          },
          "metadata": {}
        }
      ],
      "source": [
        "%%R -w 500  -h 400 -u px\n",
        "# Generating a bimodal distribution by combining two normal distributions\n",
        "set.seed(123)  # Setting seed for reproducibility\n",
        "\n",
        "# Generating data from two normal distributions\n",
        "data1 <- rnorm(500, mean = 10, sd = 2)  # First normal distribution\n",
        "data2 <- rnorm(500, mean = 20, sd = 3)  # Second normal distribution\n",
        "\n",
        "# Combining the data from both distributions\n",
        "bimodal_data <- c(data1, data2)\n",
        "\n",
        "# Plotting the bimodal distribution\n",
        "hist(bimodal_data,\n",
        "     breaks = 30,\n",
        "     col = \"skyblue\",\n",
        "     main = \"Bimodal Distribution\",\n",
        "     xlab = \"Values\")"
      ]
    },
    {
      "cell_type": "markdown",
      "source": [
        "###  **Log-Normal Distribution**\n",
        "\n",
        "The log-normal distribution is used when the logarithm of a variable follows a normal distribution. In other words, if the natural logarithm of a variable (e.g., stock prices, asset returns, etc.) is normally distributed, then the variable follows a log-normal distribution. This distribution is frequently used in finance and economics to model stock prices, asset returns, and income phenomena. The log-normal distribution is characterized by its skewed shape, with a long right tail and a short-left tail. Despite its asymmetry, the log-normal distribution has valuable properties, such as being closed under multiplication, making it a useful tool for modeling certain data types.\n",
        "\n",
        "The probability density function (PDF) of the log-normal distribution describes the distribution of a random variable whose natural logarithm is normally distributed. If $X$ is a log-normally distributed random variable, its PDF is given by:\n",
        "\n",
        "$$ f(x \\mid \\mu, \\sigma) = \\frac{1}{x\\sigma\\sqrt{2\\pi}} \\exp\\left(-\\frac{(\\ln(x) - \\mu)^2}{2\\sigma^2}\\right) $$\n",
        "\n",
        "Where:\n",
        "- $x > 0$ is the variable for which the probability density is calculated.\n",
        "- $\\mu$ is the mean of the natural logarithm of the distribution.\n",
        "- $\\sigma$ is the standard deviation of the natural logarithm of the distribution.\n",
        "- $\\pi$ is the mathematical constant pi (approximately 3.14159).\n",
        "- $\\ln(x)$ is the natural logarithm of $x$.\n",
        "\n",
        "In the formula, $\\mu$ and $\\sigma$ are parameters that determine the location and spread of the distribution, respectively."
      ],
      "metadata": {
        "id": "aVKbOwceUgks"
      }
    },
    {
      "cell_type": "code",
      "source": [
        "%%R -w 400  -h 400 -u px\n",
        "# Generating log-normal distributed data\n",
        "set.seed(123)  # Setting seed for reproducibility\n",
        "\n",
        "# Generating log-normal distributed data with specified meanlog and sdlog\n",
        "log_normal_data <- rlnorm(1000, meanlog = 0, sdlog = 1)\n",
        "\n",
        "# Plotting the log-normal distribution\n",
        "hist(log_normal_data, breaks = 30,\n",
        "     col = \"lightgreen\",\n",
        "     main = \"Log-Normal Distribution\", xlab = \"Values\")"
      ],
      "metadata": {
        "colab": {
          "base_uri": "https://localhost:8080/",
          "height": 417
        },
        "outputId": "bfb317ba-efa5-456a-b8a0-9f55452d610c",
        "id": "LWI99MESZSFw"
      },
      "execution_count": null,
      "outputs": [
        {
          "output_type": "display_data",
          "data": {
            "image/png": "[encoded data removed]"
          },
          "metadata": {}
        }
      ]
    },
    {
      "cell_type": "markdown",
      "source": [
        "### **Exponential Distribution**\n",
        "\n",
        "In probability theory and statistics, the exponential distribution is a continuous probability distribution widely used to represent the time between two events occurring in a Poisson process. The Poisson process is a stochastic process that models the number of events occurring in a fixed time interval, given that the events occur independently and at a constant rate ($\\lambda$). The exponential distribution is used to model the time between two such events, assuming that the events occur independently and at a constant rate. It is a fundamental distribution in the field of reliability engineering and is used to model the failure times of devices that fail at a constant rate. It also has applications in queuing theory, where it is used to model the time between the arrivals of customers to a service facility.\n",
        "\n",
        "The exponential distribution is defined for $x \\geq 0$ and is given by:\n",
        "\n",
        "$$ f(x \\mid \\lambda) = \\lambda e^{-\\lambda x} $$\n",
        "\n",
        "Where:\n",
        "- $x$ is the variable for which the probability density is calculated.\n",
        "- $\\lambda$ is the rate parameter, representing the average number of events per unit of time.\n",
        "\n",
        "The cumulative distribution function (CDF) of the exponential distribution is given by:\n",
        "\n",
        "$$ F(x \\mid \\lambda) = 1 - e^{-\\lambda x} $$\n",
        "\n",
        "Where:\n",
        "- $F(x \\mid \\lambda)$ is the probability that the random variable is less than or equal to $x$."
      ],
      "metadata": {
        "id": "MWSu7hQLZSFw"
      }
    },
    {
      "cell_type": "code",
      "source": [
        "%%R -w 400  -h 400 -u px\n",
        "# Generating exponentially distributed data\n",
        "set.seed(123)  # Setting seed for reproducibility\n",
        "\n",
        "# Generating exponential distributed data with a specified rate parameter (lambda)\n",
        "exponential_data <- rexp(1000, rate = 0.2)  # Change the rate parameter as needed\n",
        "\n",
        "# Plotting the exponential distribution\n",
        "hist(exponential_data,\n",
        "     breaks = 30, col = \"lightblue\",\n",
        "     main = \"Exponential Distribution\",\n",
        "     xlab = \"Values\")"
      ],
      "metadata": {
        "colab": {
          "base_uri": "https://localhost:8080/",
          "height": 417
        },
        "outputId": "c3bd7e31-54a9-46e5-eac9-143812ced9b6",
        "id": "AkGEuIWBZSFw"
      },
      "execution_count": null,
      "outputs": [
        {
          "output_type": "display_data",
          "data": {
            "image/png": "[encoded data removed]"
          },
          "metadata": {}
        }
      ]
    },
    {
      "cell_type": "markdown",
      "source": [
        "\n",
        "###  **Poisson Distribution**\n",
        "\n",
        "The concept of modeling the frequency of events in a fixed time or space interval involves estimating the number of events that are likely to occur based on a known average rate of occurrence. This technique is commonly used to predict the number of events that are likely to happen within a specific time or space frame. By using a statistical approach, it's possible to approximate the probability of an event occurring and to make informed decisions based on that probability. This technique is particularly useful in fields such as finance, insurance, and science, where the ability to predict the likelihood of future events is essential for making effective decisions.\n",
        "\n",
        "The probability mass function (PMF) of the Poisson distribution describes the probability of a given number of events occurring in a fixed interval of time or space, given a known average rate of occurrence ($\\lambda$). The Poisson distribution is often used to model rare events or events that occur independently of each other.\n",
        "\n",
        "The PMF of the Poisson distribution is given by:\n",
        "\n",
        "$$ P(X = k \\mid \\lambda) = \\frac{e^{-\\lambda} \\cdot \\lambda^k}{k!} $$\n",
        "\n",
        "Where:\n",
        "- $X$ is the random variable representing the number of events.\n",
        "- $k$ is a non-negative integer (0, 1, 2, ...) representing the number of events.\n",
        "- $\\lambda$ is the average rate of events occurring in the given interval.\n",
        "- $e$ is the mathematical constant Euler's number, approximately 2.71828.\n",
        "\n",
        "The expression $\\frac{e^{-\\lambda} \\cdot \\lambda^k}{k!}$ represents the probability of observing exactly $k$ events in the specified interval.\n",
        "\n",
        "The expected value (mean) and variance of a Poisson-distributed random variable are both equal to $\\lambda$.\n",
        "\n"
      ],
      "metadata": {
        "id": "nMe5JHknZSFx"
      }
    },
    {
      "cell_type": "code",
      "execution_count": null,
      "metadata": {
        "colab": {
          "base_uri": "https://localhost:8080/",
          "height": 417
        },
        "outputId": "4e4aa521-cdb6-4ebf-fb38-bcc0f23fed16",
        "id": "tbEAwuK1ZSFx"
      },
      "outputs": [
        {
          "output_type": "display_data",
          "data": {
            "image/png": "[encoded data removed]"
          },
          "metadata": {}
        }
      ],
      "source": [
        "%%R -w 400 -h 400 -u px\n",
        "# Generating Poisson-distributed data\n",
        "set.seed(123)  # Setting seed for reproducibility\n",
        "\n",
        "# Generating Poisson distributed data with a specified lambda (mean rate)\n",
        "poisson_data <- rpois(1000, lambda = 3)  # Change the lambda parameter as needed\n",
        "\n",
        "# Plotting the Poisson distribution\n",
        "hist(poisson_data,\n",
        "     breaks = 30,\n",
        "     col = \"lightgreen\",\n",
        "     main = \"Poisson Distribution\",\n",
        "     xlab = \"Values\")"
      ]
    },
    {
      "cell_type": "markdown",
      "source": [
        "###  **Gamma and Weibull Distributions**\n",
        "\n",
        "The Gamma and  Weibull distribution is a continuous probability distribution commonly used in engineering, physics, and other fields to model variables that take on positive values. It is a generalization of the exponential distribution and is often used when the rate of change is not constant over time. Weibull distribution can exhibit a broader range of shapes, from exponential-like to normal-like, whereas Gamma tends to be more skewed and often shows a different set of shapes. Both distributions have different parameterizations; the Weibull has a shape and scale parameter, while the Gamma has shape and scale parameters but in a different configuration. Weibull is commonly used in reliability engineering for modeling time to failure or survival analysis. At the same time, Gamma is more diverse, being applied in various fields for modeling different types of skewed data, such as income distribution or wait times.\n",
        "\n"
      ],
      "metadata": {
        "id": "s4I71Lv1ZSFx"
      }
    },
    {
      "cell_type": "markdown",
      "source": [
        "**Gamma Distribution**:\n",
        "\n",
        "The probability density function (PDF) of the gamma distribution is defined as follows:\n",
        "\n",
        "$$ f(x \\mid \\alpha, \\beta) = \\frac{\\beta^\\alpha x^{\\alpha - 1} e^{-\\beta x}}{\\Gamma(\\alpha)} $$\n",
        "\n",
        "Where:\n",
        "\n",
        " - $x$ is the variable for which the probability density is calculated.\n",
        "\n",
        "\\- $\\alpha$ is the shape parameter.\n",
        "\n",
        "\\- $\\beta$ is the rate parameter.\n",
        "\n",
        "\\- $\\Gamma(\\alpha)$ is the gamma function.\n",
        "\n",
        "The gamma distribution is a generalization of the exponential distribution. When $\\alpha = 1$, it reduces to the exponential distribution."
      ],
      "metadata": {
        "id": "HNK66cD6tilb"
      }
    },
    {
      "cell_type": "code",
      "source": [
        "%%R -w 750 -h 400 -u px\n",
        "par(mfrow = c(1, 2))\n",
        "# Create a sequence of x values\n",
        "x_gamma <- seq(0, 10, length.out = 100)\n",
        "\n",
        "# Calculate PDF values\n",
        "pdf_gamma <- dgamma(x_gamma, shape = 2, rate = 1) # Example parameters: shape = 2, rate = 1\n",
        "\n",
        "# Plot the PDF\n",
        "plot(x_gamma, pdf_gamma, type = \"l\", xlab = \"X\", ylab = \"Density\", main = \"Gamma PDF\")\n",
        "\n",
        "# Calculate CDF values\n",
        "cdf_gamma <- pgamma(x_gamma, shape = 2, rate = 1) # Example parameters: shape = 2, rate = 1\n",
        "\n",
        "# Plot the CDF\n",
        "plot(x_gamma, cdf_gamma, type = \"l\", xlab = \"X\", ylab = \"Cumulative Probability\", main = \"Gamma CDF\")"
      ],
      "metadata": {
        "colab": {
          "base_uri": "https://localhost:8080/",
          "height": 356
        },
        "id": "WeeK_dqhBc1T",
        "outputId": "0938bfa1-2eb4-45f6-c9af-c7a5fade0587"
      },
      "execution_count": null,
      "outputs": [
        {
          "output_type": "display_data",
          "data": {
            "image/png": "[encoded data removed]"
          },
          "metadata": {}
        }
      ]
    },
    {
      "cell_type": "markdown",
      "source": [
        "**Weibull Distribution**\n",
        "\n",
        "The probability density function (PDF) of the Weibull distribution is defined as follows:\n",
        "\n",
        "$$ f(x \\mid \\lambda, k) = \\frac{k}{\\lambda} \\left(\\frac{x}{\\lambda}\\right)^{k-1} e^{-(x/\\lambda)^k} $$\n",
        "\n",
        "Where:\n",
        "\n",
        "\\- $x$ is the variable for which the probability density is calculated.\n",
        "\n",
        "\\- $\\lambda$ is the scale parameter.\n",
        "\n",
        "\\- $k$ is the shape parameter.\n",
        "\n",
        "The Weibull distribution can take on various shapes depending on the value of the shape parameter $k$. When $k > 1$, it is right-skewed (increasing hazard rate), when $k < 1$, it is left-skewed (decreasing hazard rate), and when $k = 1$, it reduces to the exponential distribution."
      ],
      "metadata": {
        "id": "4qezw_CStnmG"
      }
    },
    {
      "cell_type": "code",
      "source": [
        "%%R -w 750 -h 400 -u px\n",
        "par(mfrow = c(1, 2))\n",
        "# Create a sequence of x values\n",
        "x_weibull <- seq(0, 10, length.out = 100)\n",
        "\n",
        "# Calculate PDF values\n",
        "pdf_weibull <- dweibull(x_weibull, shape = 2, scale = 1) # Example parameters: shape = 2, scale = 1\n",
        "\n",
        "# Plot the PDF\n",
        "plot(x_weibull, pdf_weibull, type = \"l\", xlab = \"X\", ylab = \"Density\", main = \"Weibull PDF\")\n",
        "\n",
        "# Calculate CDF values\n",
        "cdf_weibull <- pweibull(x_weibull, shape = 2, scale = 1) # Example parameters: shape = 2, scale = 1\n",
        "\n",
        "# Plot the CDF\n",
        "plot(x_weibull, cdf_weibull, type = \"l\", xlab = \"X\", ylab = \"Cumulative Probability\", main = \"Weibull CDF\")"
      ],
      "metadata": {
        "colab": {
          "base_uri": "https://localhost:8080/",
          "height": 356
        },
        "id": "j6LcSJkfytdz",
        "outputId": "d70ff2ca-d43e-43ca-8469-29750a98dfba"
      },
      "execution_count": null,
      "outputs": [
        {
          "output_type": "display_data",
          "data": {
            "image/png": "[encoded data removed]"
          },
          "metadata": {}
        }
      ]
    },
    {
      "cell_type": "markdown",
      "source": [
        "In both the gamma and Weibull distributions, the parameters $\\alpha, \\beta, \\lambda$, and $k$ determine the characteristics of the distribution, including its shape, scale, and location. Adjusting these parameters allows for flexibility in modeling different types of data.\n",
        "\n",
        "\n"
      ],
      "metadata": {
        "id": "-ILvzVsPZSFy"
      }
    },
    {
      "cell_type": "markdown",
      "source": [
        "***Note***:\n",
        "\n",
        "The **Probability Density Function (PDF)** and Cumulative Distribution Function (CDF) are fundamental concepts in probability theory and statistics, both describing different aspects of a probability distribution.\n",
        "\n",
        "**Probability Density Function (PDF)**\n",
        "\n",
        "- **Definition:** The PDF represents the probability that a continuous random variable takes on a particular value or falls within a certain range of values.\n",
        "\n",
        "- **Function:** For a continuous random variable $X$, the PDF $F(x)$ gives the probability density at a specific value $x$. It's non-negative and integrates over the entire range to 1.Mathematically, for a continuous random variable $X$, the probability that $X$ falls in the interval $[a, b]$ is given by the integral of the PDF over that interval:\n",
        "\n",
        "$$ P(a \\leq X \\leq b) = \\int_{a}^{b} f(x) \\,dx $$\n",
        "\n",
        "- **Interpretation:** The PDF at a specific point doesn't directly provide a probability but rather describes the relative likelihood of the variable taking that value.\n",
        "\n",
        "- **Use:** It's used to visualize the shape and characteristics of a continuous probability distribution.\n",
        "\n",
        "**Cumulative Distribution Function (CDF)**\n",
        "\n",
        "- **Definition:** The CDF gives the probability that a random variable $X$ is less than or equal to a certain value $x$.\n",
        "\n",
        "- **Function:** For a random variable $X$ , the CDF $f(x)$ at a point $x$ is the probability that $X$ takes a value less than or equal to $x$. Mathematically, the CDF is expressed as:\n",
        "\n",
        "$$ F(x) = \\int_{-\\infty}^{x} f(t) \\,dt $$\n",
        "   \n",
        "The derivative of the CDF with respect to $x$ gives the PDF: $f(x) = \\frac{d}{dx}F(x)$.\n",
        "\n",
        "- **Properties:** It always starts at 0 and approaches 1 as \\(x\\) increases. It's non-decreasing, right-continuous, and defines the entire distribution.\n",
        "\n",
        "- **Use:** It's useful for determining probabilities of events within a certain range or understanding the overall behavior of a random variable.\n",
        "\n",
        "***Differences***:\n",
        "\n",
        "- **Nature:** PDF gives the density of probabilities at specific values, while CDF gives cumulative probabilities up to a particular value.\n",
        "\n",
        "- **Interpretation:** PDF does not directly give probabilities but describes relative likelihoods, while CDF directly provides probabilities.\n",
        "\n",
        "- **Integration:** The CDF is obtained by integrating the PDF, and it's the accumulation of probabilities up to a certain point.\n",
        "\n",
        "- **Ranges:** PDF works with individual values or ranges, whereas CDF works with cumulative probabilities up to a given value.\n",
        "\n",
        "***Relationship***:\n",
        "\n",
        "The relationship between the PDF and CDF is integral:\n",
        "\n",
        "- The PDF is the derivative of the CDF. Integrating the PDF over a range gives the probability associated with that range, which corresponds to the change in the CDF over that range.\n",
        "\n",
        "Both PDF and CDF are crucial in understanding and working with probability distributions, with each providing unique insights into the behavior and characteristics of random variables."
      ],
      "metadata": {
        "id": "i2Bzkw15xkp7"
      }
    },
    {
      "cell_type": "markdown",
      "source": [
        "### **Chi-Square Distribution ($\\chi^2$)**\n",
        "\n",
        "The Chi-Square distribution ($\\chi^2$) is a continuous probability distribution that is commonly used in statistics and probability theory. It is particularly useful in the context of hypothesis testing and confidence intervals. The distribution is derived by summing the squares of independent standard normal random variables. This is known as a sum of squares, which is a common measurement used in statistical analysis. The $\\chi^2$ has a number of important properties that make it a useful tool. For one, it is always positive, which means it can be used to model non-negative random variables. It also has an infinite number of degrees of freedom, which makes it a flexible distribution that can be used in a wide range of applications.\n",
        "\n",
        "The probability density function (PDF) of the $\\chi^2$ is defined as follows:\n",
        "\n",
        "$$ f(x \\mid k) = \\frac{x^{(k/2 - 1)} e^{-x/2}}{2^{k/2} \\Gamma(k/2)} $$\n",
        "\n",
        "Where:\n",
        "- $x$ is the variable for which the probability density is calculated.\n",
        "- $k$ is the degrees of freedom parameter.\n",
        "- $\\Gamma(k/2)$ is the gamma function evaluated at $k/2$.\n",
        "\n",
        "The $\\chi^2$ is a continuous probability distribution that arises in the context of statistical inference, particularly in hypothesis testing and confidence interval construction. The degrees of freedom parameter, $k$, determines the shape of the distribution.\n",
        "\n",
        "Key points:\n",
        "- The  $\\chi^2$ is the distribution of the sum of the squares of $k$ independent standard normal random variables.\n",
        "- When $k = 1$, the  $\\chi^2$ is equivalent to the exponential distribution.\n",
        "- The expected value (mean) of the  $\\chi^2$ is $k$, and its variance is $2k$.\n",
        "\n",
        "\n",
        "The $\\chi^2$ plays an important role in many statistical tests, including the Chi-Square test for goodness of fit, the Chi-Square test for independence, and the Chi-Square test for homogeneity. These tests are commonly used to determine whether a set of data is consistent with a particular hypothesis or whether there is a significant difference between two or more groups. Overall, the $\\chi^2$ is a powerful tool for analyzing data and making predictions. Its properties and applications make it a valuable resource for statisticians and researchers across a wide range of fields."
      ],
      "metadata": {
        "id": "pGT_zFz1Stop"
      }
    },
    {
      "cell_type": "code",
      "source": [
        "%%R -w 400 -h 400 -u px\n",
        "# Generating Chi-Square distributed data\n",
        "set.seed(123)  # Setting seed for reproducibility\n",
        "\n",
        "# Generating Chi-Square distributed data with specified degrees of freedom\n",
        "df <- 5  # Change degrees of freedom as needed\n",
        "chi_square_data <- rchisq(1000, df)\n",
        "\n",
        "# Plotting the Chi-Square distribution\n",
        "hist(chi_square_data,\n",
        "     breaks = 30,\n",
        "     col = \"lightpink\",\n",
        "     main = \"Chi-Square Distribution\",\n",
        "     xlab = \"Values\")"
      ],
      "metadata": {
        "colab": {
          "base_uri": "https://localhost:8080/",
          "height": 417
        },
        "id": "CrD4Aj1aSufo",
        "outputId": "234d4ffd-3a70-4a10-bf6e-08392d679224"
      },
      "execution_count": null,
      "outputs": [
        {
          "output_type": "display_data",
          "data": {
            "image/png": "[encoded data removed]"
          },
          "metadata": {}
        }
      ]
    },
    {
      "cell_type": "markdown",
      "source": [
        "### **Beta Distribution**\n",
        "\n",
        "The Beta distribution is a probability distribution that is commonly used to model random variables that have values constrained to a fixed interval between 0 and 1. The distribution function takes two parameters, alpha and beta, which are shape parameters that determine the shape of the distribution.\n",
        "\n",
        "The probability density function (PDF) of the beta distribution is defined as follows:\n",
        "\n",
        "$$ f(x \\mid \\alpha, \\beta) = \\frac{x^{\\alpha-1} (1-x)^{\\beta-1}}{B(\\alpha, \\beta)} $$\n",
        "\n",
        "Where:\n",
        "- $x$ is the variable for which the probability density is calculated, and $0 \\leq x \\leq 1$.\n",
        "- $\\alpha$ and $\\beta$ are shape parameters, and $\\alpha, \\beta > 0$.\n",
        "- $B(\\alpha, \\beta)$ is the beta function, given by $B(\\alpha, \\beta) = \\frac{\\Gamma(\\alpha) \\Gamma(\\beta)}{\\Gamma(\\alpha + \\beta)}$, where $\\Gamma$ is the gamma function, an extension of the factorial function to complex numbers and real numbers (except negative integers where it is undefined).\n",
        "\n",
        "The beta distribution is defined on the interval $[0, 1]$, making it suitable for modeling random variables that represent proportions or probabilities. The shape parameters $\\alpha$ and $\\beta$ control the shape of the distribution.\n",
        "\n",
        "Key points:\n",
        "- When $\\alpha = \\beta = 1$, the beta distribution is the uniform distribution on $[0, 1]$.\n",
        "- As $\\alpha$ and $\\beta$ increase, the distribution becomes more peaked around the mean.\n",
        "- The expected value (mean) of the beta distribution is $\\frac{\\alpha}{\\alpha + \\beta}$, and its variance is given by $\\frac{\\alpha \\beta}{(\\alpha + \\beta)^2 (\\alpha + \\beta + 1)}$.\n",
        "\n",
        "The Beta distribution is widely used in Bayesian statistics because it provides a way to model the uncertainty of a probability distribution. It is also used in machine learning for tasks such as modeling proportions and predicting outcomes based on probabilities. One of the key advantages of the Beta distribution is its flexibility. It can be used to model a wide range of shapes and can be customized to fit specific data sets. This makes it a versatile tool for data analysis and modeling. Furthermore, the Beta distribution has several important properties that make it a useful tool in statistical analysis. For instance, it is a conjugate prior for the binomial and Bernoulli distributions, which means that it can be used to update the prior belief about the probability of a binary outcome when new data become available.\n",
        "\n",
        "Overall, the Beta distribution is an essential tool for anyone working with data that is constrained to lie within a fixed range, such as probabilities, proportions, or percentages. Its versatility, flexibility, and important statistical properties make it a powerful tool for data analysis and modeling."
      ],
      "metadata": {
        "id": "eWpT7fTDUDZs"
      }
    },
    {
      "cell_type": "code",
      "source": [
        "%%R -w 400 -h 400 -u px\n",
        "# Generating Beta-distributed data\n",
        "set.seed(123)  # Setting seed for reproducibility\n",
        "\n",
        "# Generating Beta distributed data with specified shape parameters (alpha and beta)\n",
        "alpha <- 2  # Change alpha parameter as needed\n",
        "beta <- 3   # Change beta parameter as needed\n",
        "beta_data <- rbeta(1000, shape1 = alpha, shape2 = beta)\n",
        "\n",
        "# Plotting the Beta distribution\n",
        "hist(beta_data,\n",
        "     breaks = 30,\n",
        "     col = \"lightblue\",\n",
        "     main = \"Beta Distribution\",\n",
        "     xlab = \"Values\")"
      ],
      "metadata": {
        "colab": {
          "base_uri": "https://localhost:8080/",
          "height": 417
        },
        "id": "pH-plr1dUDkY",
        "outputId": "df33f0e2-7ff4-4b5a-ee43-4a60d450e3cd"
      },
      "execution_count": null,
      "outputs": [
        {
          "output_type": "display_data",
          "data": {
            "image/png": "[encoded data removed]"
          },
          "metadata": {}
        }
      ]
    },
    {
      "cell_type": "markdown",
      "source": [
        "### **t-distribution**\n",
        "\n",
        "The t-distribution, also known as Student's t-distribution, is a probability distribution that is symmetric and bell-shaped, much like the normal distribution. However, it has heavier tails compared to the normal distribution, allowing for more variability in data.\n",
        "\n",
        "The probability density function (PDF) of the t-distribution is given by:\n",
        "\n",
        "$$ f(t \\mid \\nu) = \\frac{\\Gamma\\left(\\frac{\\nu + 1}{2}\\right)}{\\sqrt{\\nu \\pi} \\cdot \\Gamma\\left(\\frac{\\nu}{2}\\right)} \\left(1 + \\frac{t^2}{\\nu}\\right)^{-\\frac{\\nu + 1}{2}} $$\n",
        "\n",
        "Where:\n",
        "- $t$ is the variable for which the probability density is calculated.\n",
        "- $\\nu$ is the degrees of freedom parameter.\n",
        "- $\\Gamma$ is the gamma function.\n",
        "\n",
        "The t-distribution is used in hypothesis testing when the population standard deviation is unknown, and sample sizes are small. It is similar in shape to the standard normal distribution but has heavier tails. As the degrees of freedom $\\nu$ increase, the t-distribution approaches the standard normal distribution.\n",
        "\n",
        "Key points:\n",
        "- When $\\nu = 1$, the t-distribution is equivalent to the Cauchy distribution, which has undefined mean and variance.\n",
        "- The mean of the t-distribution is 0, and its variance is $\\frac{\\nu}{\\nu - 2}$  for $\\nu > 2$.\n",
        "- The t-distribution is symmetric around 0.\n",
        "\n",
        "\n",
        "The t-distribution arises from the standardization of normally distributed data when the population standard deviation is unknown and estimated from the sample. It's frequently used in hypothesis testing, confidence interval estimation, and modeling when dealing with small sample sizes or situations where population variance is not known."
      ],
      "metadata": {
        "id": "O7f2cXzEUO8j"
      }
    },
    {
      "cell_type": "code",
      "source": [
        "%%R -w 400 -h 400 -u px\n",
        "# Generating random numbers from a t-distribution with 10 degrees of freedom\n",
        "set.seed(123)  # Setting seed for reproducibility\n",
        "t_distribution_data <- rt(1000, df = 10)\n",
        "\n",
        "# Calculating the probability density at x = 1.5 for t-distribution with 10 degrees of freedom\n",
        "density_at_x <- dt(1.5, df = 10)\n",
        "\n",
        "# Calculating the cumulative probability up to x = 1.5 for t-distribution with 10 degrees of freedom\n",
        "cumulative_prob <- pt(1.5, df = 10)\n",
        "\n",
        "# Calculating the quantile for a probability of 0.95 in t-distribution with 10 degrees of freedom\n",
        "quantile_value <- qt(0.95, df = 10)\n",
        "\n",
        "# Plotting a histogram of t-distributed data\n",
        "hist(t_distribution_data,\n",
        "     breaks = 30,\n",
        "     col = \"lightblue\",\n",
        "     main = \"Histogram of t-Distributed Data\")"
      ],
      "metadata": {
        "colab": {
          "base_uri": "https://localhost:8080/",
          "height": 417
        },
        "id": "2EqQ_nraUPJ3",
        "outputId": "b6e5421e-b0bd-42e0-a979-4cf40f9cf953"
      },
      "execution_count": null,
      "outputs": [
        {
          "output_type": "display_data",
          "data": {
            "image/png": "[encoded data removed]"
          },
          "metadata": {}
        }
      ]
    },
    {
      "cell_type": "markdown",
      "source": [
        "### **F-distribution**\n",
        "\n",
        "The F-distribution, also known as Fisher-Snedecor distribution, is a continuous probability distribution that arises in statistical analysis, particularly in the context of analysis of variance (ANOVA) and regression analysis. It's used to compare variances or test the equality of means of multiple groups.\n",
        "\n",
        "The probability density function (PDF) of the F-distribution is given by the formula:\n",
        "\n",
        "$$ f(x; d_1, d_2) = \\frac{{d_1^{\\frac{{d_1}}{2}} \\cdot d_2^{\\frac{{d_2}}{2}} \\cdot x^{\\frac{{d_1}}{2} - 1}}}{{(d_1 \\cdot x + d_2)^{\\frac{{d_1 + d_2}}{2}} \\cdot B\\left(\\frac{{d_1}}{2}, \\frac{{d_2}}{2}\\right)}} $$\n",
        "\n",
        "Where:\n",
        "- $x$ is a non-negative real number.\n",
        "- $d_1$ and $d_2$ are the degrees of freedom parameters.\n",
        "- $B$ represents the beta function, a mathematical function that generalizes the concept of factorials to real numbers\n",
        "\n",
        "The beta function, denoted as $B(p, q)$, is defined as:\n",
        "\n",
        "$$ B(p, q) = \\int_0^1 t^{p-1} (1-t)^{q-1} \\,dt $$\n",
        "\n",
        "The F-distribution arises in statistical hypothesis testing, particularly in analysis of variance (ANOVA) and regression analysis. The F-statistic, which follows an F-distribution, is used to compare variances or test the equality of means of multiple groups.\n",
        "\n",
        "In the context of the F-distribution, the degrees of freedom $d_1$ and $d_2$ correspond to the degrees of freedom associated with the numerator and denominator of the F-statistic, respectively.\n",
        "\n",
        "It's worth noting that there are different parametrizations of the F-distribution, and the formula may be expressed in slightly different ways depending on the conventions used. The key components involve the degrees of freedom and the beta function."
      ],
      "metadata": {
        "id": "HUrAuaZ2Uoc8"
      }
    },
    {
      "cell_type": "code",
      "source": [
        "%%R -w 400 -h 400 -u px\n",
        "# Define a range of x values\n",
        "x_values <- seq(0.1, 5, by = 0.1)  # Define your range accordingly\n",
        "\n",
        "# Calculate the probability density function (pdf) of the F-distribution for given degrees of freedom df1 and df2\n",
        "pdf_values <- df(x_values, df1 = 5, df2 = 10)  # Change df1 and df2 as needed\n",
        "\n",
        "# Plot the F-distribution\n",
        "plot(x_values,\n",
        "     pdf_values,\n",
        "     type = \"l\",\n",
        "     col = \"blue\",\n",
        "     lwd = 2,\n",
        "     main = \"F-Distribution\",\n",
        "     xlab = \"x\",\n",
        "     ylab = \"Density\")"
      ],
      "metadata": {
        "colab": {
          "base_uri": "https://localhost:8080/",
          "height": 417
        },
        "id": "XXrYFrnhUopb",
        "outputId": "bf90f2fd-6780-4623-8711-43ff2880dae5"
      },
      "execution_count": null,
      "outputs": [
        {
          "output_type": "display_data",
          "data": {
            "image/png": "[encoded data removed]"
          },
          "metadata": {}
        }
      ]
    },
    {
      "cell_type": "markdown",
      "source": [
        "## Hypothesis Testing\n",
        "\n",
        "Hypothesis testing is a widely used statistical approach that enables researchers to conclude a population parameter based on the sample data. It is a technique used to evaluate the validity of a hypothesis by examining the evidence presented through the data. It involves setting up two competing hypotheses: a **null hypothesis** and an **alternative hypothesis**. The null hypothesis is generally considered the default hypothesis, stating that there is no significant difference between the sample and the population. The alternative hypothesis, on the other hand, is the hypothesis that is tested against the null hypothesis and is generally the researcher's primary hypothesis. After setting up the hypotheses, the researcher collects data to determine which hypothesis is more likely to be true. The process involves analyzing the evidence presented by the data to either accept or reject the null hypothesis. Hypothesis testing is a powerful tool that allows researchers to make informed decisions based on statistical evidence.\n",
        "\n",
        "**Key Steps in Hypothesis Testing:**\n",
        "\n",
        "1.  **Formulating Hypotheses:**\n",
        "\n",
        "    -   **Null Hypothesis (H0):** Represents the status quo or no effect.\n",
        "\n",
        "    -   **Alternative Hypothesis (Ha):** Contradicts the null hypothesis, suggesting an effect or difference.\n",
        "\n",
        "2.  **Choosing a Significance Level (α):**\n",
        "\n",
        "    -   The significance level is the threshold for rejecting the null hypothesis.\n",
        "\n",
        "    -   Commonly used values are 0.05 or 0.01.\n",
        "\n",
        "3.  **Collecting and Analyzing Data:**\n",
        "\n",
        "    -   Use sample data to compute a test statistic that helps determine the likelihood of observing the data under the null hypothesis.\n",
        "\n",
        "4.  **Making a Decision:**\n",
        "\n",
        "    -   Compare the test statistic to a critical value (from a statistical distribution) or calculate a p-value.\n",
        "\n",
        "    -   If the test statistic falls into the rejection region (extreme values), reject the null hypothesis. Otherwise, fail to reject it.\n",
        "\n",
        "5.  **Drawing Conclusion:**\n",
        "\n",
        "    -   Based on the analysis, decide whether there is enough evidence to support the alternative hypothesis or if there's insufficient evidence to reject the null hypothesis."
      ],
      "metadata": {
        "id": "XugoFtb7jy5c"
      }
    },
    {
      "cell_type": "markdown",
      "source": [
        "## T-test\n",
        "\n",
        "A **t-test** is a statistical hypothesis test that compares the means of two groups or samples to determine if they are significantly different from each other. A commonly used parametric test assumes the data follows a normal distribution. There are two types of t-tests: **One-sample t-test** and **Two-sample t-test**. The one-samples t-test is used to determine if a sample mean is significantly different from a known population mean. While A two-sample t-test is a statistical test used to determine if two sets of data are significantly different from each other.\n",
        "\n",
        "1. **One-Sample T-Test:**\n",
        "\n",
        "$$ t = \\frac{\\bar{X} - \\mu_0}{\\frac{s}{\\sqrt{n}}} $$\n",
        "   \n",
        "- $t$ is the t-statistic.\n",
        "- $\\bar{X}$ is the sample mean.\n",
        "- $\\mu_0$ is the hypothesized population mean.\n",
        "- $s$ is the sample standard deviation.\n",
        "- $n$ is the number of observations in the sample.\n",
        "\n",
        "2. **Two-Sample T-Test (Independent Samples):**\n",
        "   - Formula:\n",
        "$$ t = \\frac{\\bar{X}_1 - \\bar{X}_2}{\\sqrt{\\frac{s_1^2}{n_1} + \\frac{s_2^2}{n_2}}} $$\n",
        "\n",
        "- $t$ is the t-statistic.\n",
        "- $\\bar{X}_1$ and $\\bar{X}_2$ are the means of the two independent samples.\n",
        "- $s_1$ and $s_2$ are the standard deviations of the two independent samples.\n",
        "- $n_1$ and  $n_2$ are the sizes of the two independent samples.\n",
        "\n",
        "In these formulas, $\\bar{X}$ represents the sample mean, $\\mu_0$ is the hypothesized population mean, $s$ is the sample standard deviation, and $n$ is the number of observations in the sample. The `t-statistic` is then compared to a critical value from the **t-distribution** to assess statistical significance.\n",
        "\n",
        "The `t-test()` calculates the t-value and then compares it to a critical value from the t-distribution to determine if the difference between the means is statistically significant. If the t-value is greater than the critical value, then we conclude that there is a significant difference between the means of the two groups or samples."
      ],
      "metadata": {
        "id": "kiLSZvYZ2Re_"
      }
    },
    {
      "cell_type": "code",
      "execution_count": null,
      "metadata": {
        "id": "dKU4UEAtHTHd",
        "colab": {
          "base_uri": "https://localhost:8080/"
        },
        "outputId": "4c4382fa-3570-4556-c4b1-cfb6260e6c25"
      },
      "outputs": [
        {
          "output_type": "stream",
          "name": "stdout",
          "text": [
            "\n",
            "\tOne Sample t-test\n",
            "\n",
            "data:  sample_data\n",
            "t = -0.033051, df = 49, p-value = 0.9738\n",
            "alternative hypothesis: true mean is not equal to 1.36003\n",
            "95 percent confidence interval:\n",
            " 1.214169 1.501171\n",
            "sample estimates:\n",
            "mean of x \n",
            "  1.35767 \n",
            "\n"
          ]
        }
      ],
      "source": [
        "%%R\n",
        "# One-sample t-test\n",
        "set.seed(42)  # Setting seed for reproducibility\n",
        "# sample\n",
        "sample_data <- sample(mf$GAs, 50)\n",
        "sample_mean<-mean(sample)\n",
        "sample_mean\n",
        "# population\n",
        "population_mean<-mean(mf$GAs)\n",
        "population_mean\n",
        "# One-sample t-test (testing if the sample_mean is significantly different population_mean)\n",
        "t_test_result <- t.test(sample_data, mu = population_mean)\n",
        "print(t_test_result)"
      ]
    },
    {
      "cell_type": "markdown",
      "source": [
        "In this example, a one-sample t-test is performed in R to determine if the mean of the sample is significantly different from true mean. The `t.test()` function computes the test statistic, the p-value, and provides information to decide whether to reject the null hypothesis.Since the p-value is greater than the level of significance (α) = 0.05, we may to accept the null hypothesis and means sample and population are not significantly different.\n",
        "\n",
        "A nice and easy way to report results in R is with the `report()` function from the **report** package. The primary goal of package **report** is to bridge the gap between R's output and the formatted results contained in your manuscript. It automatically produces reports of models and data frames according to best practices guidelines, ensuring standardization and quality in results reporting."
      ],
      "metadata": {
        "id": "PA_POhKSj_ZT"
      }
    },
    {
      "cell_type": "markdown",
      "source": [
        "![alt text](http://drive.google.com/uc?export=view&id=1s33_XUj_ZJ-UUrcMNAmHspfJKUXQ4zqs)\n",
        "\n"
      ],
      "metadata": {
        "id": "Jg-EpM99kAWd"
      }
    },
    {
      "cell_type": "code",
      "source": [
        "%%R\n",
        "install.packages(\"report\", lib='drive/My Drive/R/')"
      ],
      "metadata": {
        "id": "d7aVcx1wkxXf"
      },
      "execution_count": null,
      "outputs": []
    },
    {
      "cell_type": "code",
      "source": [
        "%%R\n",
        ".libPaths('drive/My Drive/R')\n",
        "library(report)"
      ],
      "metadata": {
        "id": "uBiwbThVlOE_"
      },
      "execution_count": null,
      "outputs": []
    },
    {
      "cell_type": "code",
      "source": [
        "%%R\n",
        "report(t_test_result)"
      ],
      "metadata": {
        "colab": {
          "base_uri": "https://localhost:8080/"
        },
        "id": "RimFV-HylSYe",
        "outputId": "770f199d-5d1a-4dcb-bb2b-d2bad84106a5"
      },
      "execution_count": null,
      "outputs": [
        {
          "output_type": "stream",
          "name": "stdout",
          "text": [
            "Effect sizes were labelled following Cohen's (1988) recommendations.\n",
            "\n",
            "The One Sample t-test testing the difference between sample_data (mean = 1.36)\n",
            "and mu = 1.36002985712143 suggests that the effect is negative, statistically\n",
            "not significant, and very small (difference = -2.36e-03, 95% CI [1.21, 1.50],\n",
            "t(49) = -0.03, p = 0.974; Cohen's d = -4.67e-03, 95% CI [-0.28, 0.27])\n"
          ]
        }
      ]
    },
    {
      "cell_type": "markdown",
      "source": [
        "## Chi-square test\n",
        "\n",
        "The chi-square test is a statistical test used to determine if there is a significant association between two categorical variables. It is based on the comparison of observed and expected frequencies in a contingency table which shows the frequencies of the joint occurrences of the categories of the two variables.\n",
        "\n",
        "The expected frequency for a cell is calculated as\n",
        "\n",
        "$$ \\frac{{\\text{Row Total} \\times \\text{Column Total}}}{{\\text{Grand Total}}} $$.\n",
        "\n",
        "Calculate the chi-square ($\\chi^2$) statistic using the formula:\n",
        "$$ \\chi^2 = \\sum \\frac{{(O_{ij} - E_{ij})^2}}{{E_{ij}}} $$\n",
        "   - Where:\n",
        "     - $O_{ij}$ is the observed frequency in cell ($i, j$).\n",
        "     - $E_{ij}$ is the expected frequency in cell ($i, j$).\n",
        "\n",
        "The chi-square test is commonly used in various fields, including biology, social sciences, and business, to assess the independence of categorical variables. The test is applicable when the variables are categorical and the observations are independent. If the chi-square test indicates a significant association, additional analysis may be needed to understand the nature of the relationship."
      ],
      "metadata": {
        "id": "qEXuwM4NaUiO"
      }
    },
    {
      "cell_type": "markdown",
      "source": [
        "In R, the chi-square test can be conducted using the `chisq.test()` function. Here's a basic example illustrating how to perform a chi-square test in R:"
      ],
      "metadata": {
        "id": "7TVUUrC7fe_8"
      }
    },
    {
      "cell_type": "code",
      "source": [
        "%%R\n",
        "# Create a contingency table (example data)\n",
        "df <- matrix(c(40, 10, 11, 25), nrow = 2, byrow = TRUE)\n",
        "rownames(df) <- c(\"VAR_A\", \"VAR_B\")\n",
        "colnames(df) <- c(\"TREAT_`\", \"TREAT_2\")\n",
        "# Display the observed data (contingency table)\n",
        "print(\"df:\")\n",
        "print(df)\n",
        "\n",
        "# Perform the chi-square test\n",
        "chi_square_result <- chisq.test(df)\n",
        "\n",
        "# Display the results\n",
        "print(\"\\nChi-Square Test Result:\")\n",
        "print(chi_square_result)"
      ],
      "metadata": {
        "colab": {
          "base_uri": "https://localhost:8080/"
        },
        "id": "u5GnQt0zekue",
        "outputId": "bbddd3f4-909b-4305-d644-5a8a3c183fa1"
      },
      "execution_count": null,
      "outputs": [
        {
          "output_type": "stream",
          "name": "stdout",
          "text": [
            "[1] \"mf:\"\n",
            "      TREAT_` TREAT_2\n",
            "VAR_A      40      10\n",
            "VAR_B      11      25\n",
            "[1] \"\\nChi-Square Test Result:\"\n",
            "\n",
            "\tPearson's Chi-squared test with Yates' continuity correction\n",
            "\n",
            "data:  mf\n",
            "X-squared = 19.202, df = 1, p-value = 1.176e-05\n",
            "\n"
          ]
        }
      ]
    },
    {
      "cell_type": "markdown",
      "source": [
        "## F-Test\n",
        "\n",
        "The F-test is a statistical test used to compare the variances of two or more groups. The test is based on the F-statistic, which is the ratio of the variances. The F-test is commonly used in analysis of variance (ANOVA) and regression analysis. Here are the key components and steps of the F-test:\n",
        "\n",
        "$$ F = \\frac{\\text{Variance Between Groups}}{\\text{Variance Within Groups}} $$\n",
        "\n",
        "Degrees of Freedom:\n",
        "   - $df_{\\text{between}} = k - 1$ (where $k$ is the number of groups).\n",
        "   - $df_{\\text{within}} = N - k$ (where $N$ is the total number of observations).\n",
        "\n",
        "\n",
        "The F-test is used to assess whether the variances among groups are significantly different. If the test indicates a significant difference, it may suggest the need for further investigation into which specific groups have different variances."
      ],
      "metadata": {
        "id": "w6dt7L4RhKD_"
      }
    },
    {
      "cell_type": "markdown",
      "source": [
        "\n",
        "In R, you can perform an F-test for comparing variances using the `var.test()` function."
      ],
      "metadata": {
        "id": "wBzNyLbskGCk"
      }
    },
    {
      "cell_type": "code",
      "source": [
        "%%R\n",
        "var.test(GY~TREAT, data=mf)"
      ],
      "metadata": {
        "colab": {
          "base_uri": "https://localhost:8080/"
        },
        "id": "TsePAPCfkLbm",
        "outputId": "da143906-0beb-466c-93d6-aa54daec3bed"
      },
      "execution_count": null,
      "outputs": [
        {
          "output_type": "stream",
          "name": "stdout",
          "text": [
            "\n",
            "\tF test to compare two variances\n",
            "\n",
            "data:  GY by TREAT\n",
            "F = 0.1677, num df = 69, denom df = 69, p-value = 3.12e-12\n",
            "alternative hypothesis: true ratio of variances is not equal to 1\n",
            "95 percent confidence interval:\n",
            " 0.1042069 0.2698937\n",
            "sample estimates:\n",
            "ratio of variances \n",
            "         0.1677045 \n",
            "\n"
          ]
        }
      ]
    },
    {
      "cell_type": "markdown",
      "source": [
        "## Summary and Conclusion\n",
        "\n",
        "This tutorial aims to equip users with the necessary tools to draw insightful conclusions and make accurate inference  based on sample data. It covers a range of fundamental concepts, including the distinction between populations and samples and the critical role of statistical inference in decision-making. Additionally, it delves into essential topics such as hypothesis testing and t-tests, commonly used statistical techniques for testing hypotheses and comparing means between two groups.\n",
        "\n",
        "The tutorial provides clear explanations and practical examples for each concept covered, making it easy for users to understand and apply what they learn. It also includes step-by-step instructions on how to use R to perform various inferential statistics analyses, such as calculating confidence intervals, conducting hypothesis tests, and performing t-tests. Detail **correlation** and **regression** analyses and **ANOVA** has discussed later.\n",
        "\n",
        "Whether you're a beginner or an advanced user seeking to improve your inferential statistics skills, this tutorial is an invaluable resource that can help you achieve your goals. By the end of the tutorial, you will have a solid understanding of inferential statistics and how to use R to draw meaningful conclusions and make accurate predictions based on sample data.\n"
      ],
      "metadata": {
        "id": "A6SNwifNLkbY"
      }
    },
    {
      "cell_type": "markdown",
      "metadata": {
        "id": "0Ovc25MJTsD8"
      },
      "source": [
        "## References\n",
        "\n",
        "1.  [Basic Inferential Statistics using R](https://ladal.edu.au/basicstatz.html)\n",
        "\n",
        "2.  [Chapter 15 Statistical inference](https://rafalab.dfci.harvard.edu/dsbook/inference.html)\n",
        "\n",
        "3.  [Chapter 4 Statistical Inference](https://bookdown.org/mrenna/statbook/statistical-inference.html)\n",
        "\n",
        "4.  [Introduction to basic statistics with R](https://ucdavisdatalab.github.io/basic_stats_r_1/#introduction)\n",
        "\n",
        "5.  [Introduction to statistics with R](https://rafalab.dfci.harvard.edu/dsbook/introduction-to-statistics-with-r.html)"
      ]
    }
  ],
  "metadata": {
    "colab": {
      "provenance": [],
      "toc_visible": true,
      "authorship_tag": "ABX9TyMe16kg54tiZN/84Ih0j3op",
      "include_colab_link": true
    },
    "kernelspec": {
      "display_name": "Python 3",
      "name": "python3"
    },
    "language_info": {
      "name": "python"
    }
  },
  "nbformat": 4,
  "nbformat_minor": 0
}