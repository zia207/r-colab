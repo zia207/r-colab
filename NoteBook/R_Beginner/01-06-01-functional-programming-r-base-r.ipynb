{
  "cells": [
    {
      "cell_type": "markdown",
      "metadata": {
        "id": "view-in-github",
        "colab_type": "text"
      },
      "source": [
        "<a href=\"https://colab.research.google.com/github/zia207/r-colab/blob/main/NoteBook/R_Beginner/01-06-01-functional-programming-r-base-r.ipynb\" target=\"_parent\"><img src=\"https://colab.research.google.com/assets/colab-badge.svg\" alt=\"Open In Colab\"/></a>"
      ]
    },
    {
      "cell_type": "markdown",
      "metadata": {
        "id": "wVRqpyMmVqHu"
      },
      "source": [
        "![alt text](http://drive.google.com/uc?export=view&id=1bLQ3nhDbZrCCqy_WCxxckOne2lgVvn3l)"
      ]
    },
    {
      "cell_type": "markdown",
      "metadata": {
        "id": "MGoP0AbXEAUx"
      },
      "source": [
        "# 6.1  Functional Programming with R-Base - Pure and Apply Functions\n",
        "\n",
        "This tutorial introduces functional programming (FP) in R using only base R, focusing on **pure functions** and the **apply family** of functions (`lapply`, `sapply`, `apply`, etc.). Functional programming emphasizes pure functions, immutability, and declarative coding, avoiding side effects and mutable state. By the end, you'll understand how to write FP-style code in base R with practical examples.\n",
        "\n",
        "\n"
      ]
    },
    {
      "cell_type": "markdown",
      "metadata": {
        "id": "EVT_X1XWVqVL"
      },
      "source": [
        "## What is Functional Programming?\n",
        "\n",
        "Functional programming is a paradigm that:\n",
        "\n",
        "-   Treats computation as evaluating mathematical functions.\n",
        "\n",
        "-   Uses **pure functions** (same input always gives same output, no side effects).\n",
        "\n",
        "-   Avoids mutable state (changing variables).\n",
        "\n",
        "-   Leverages higher-order functions (functions that take or return functions).\n",
        "\n",
        "In R, base functions like `lapply` and `sapply` support FP by enabling declarative iteration over data."
      ]
    },
    {
      "cell_type": "markdown",
      "source": [
        "## Setup R in Python Runtype - Install {rpy2}\n",
        "\n",
        "{rpy2} is a Python package that provides an interface to the R programming language, allowing Python users to run R code, call R functions, and manipulate R objects directly from Python. It enables seamless integration between Python and R, leveraging R's statistical and graphical capabilities while using Python's flexibility. The package supports passing data between the two languages and is widely used for statistical analysis, data visualization, and machine learning tasks that benefit from R's specialized libraries."
      ],
      "metadata": {
        "id": "L9gomhYcxlTR"
      }
    },
    {
      "cell_type": "code",
      "execution_count": 1,
      "metadata": {
        "colab": {
          "base_uri": "https://localhost:8080/"
        },
        "id": "qOD7NpajDy5k",
        "outputId": "ab7677c8-8f47-404b-cb79-9c119d8bfba2"
      },
      "outputs": [
        {
          "output_type": "stream",
          "name": "stdout",
          "text": [
            "Found existing installation: rpy2 3.5.17\n",
            "Uninstalling rpy2-3.5.17:\n",
            "  Successfully uninstalled rpy2-3.5.17\n",
            "Collecting rpy2==3.5.1\n",
            "  Downloading rpy2-3.5.1.tar.gz (201 kB)\n",
            "\u001b[2K     \u001b[90m━━━━━━━━━━━━━━━━━━━━━━━━━━━━━━━━━━━━━━━\u001b[0m \u001b[32m201.7/201.7 kB\u001b[0m \u001b[31m7.1 MB/s\u001b[0m eta \u001b[36m0:00:00\u001b[0m\n",
            "\u001b[?25h  Preparing metadata (setup.py) ... \u001b[?25l\u001b[?25hdone\n",
            "Requirement already satisfied: cffi>=1.10.0 in /usr/local/lib/python3.12/dist-packages (from rpy2==3.5.1) (1.17.1)\n",
            "Requirement already satisfied: jinja2 in /usr/local/lib/python3.12/dist-packages (from rpy2==3.5.1) (3.1.6)\n",
            "Requirement already satisfied: pytz in /usr/local/lib/python3.12/dist-packages (from rpy2==3.5.1) (2025.2)\n",
            "Requirement already satisfied: tzlocal in /usr/local/lib/python3.12/dist-packages (from rpy2==3.5.1) (5.3.1)\n",
            "Requirement already satisfied: pycparser in /usr/local/lib/python3.12/dist-packages (from cffi>=1.10.0->rpy2==3.5.1) (2.22)\n",
            "Requirement already satisfied: MarkupSafe>=2.0 in /usr/local/lib/python3.12/dist-packages (from jinja2->rpy2==3.5.1) (3.0.2)\n",
            "Building wheels for collected packages: rpy2\n",
            "  Building wheel for rpy2 (setup.py) ... \u001b[?25l\u001b[?25hdone\n",
            "  Created wheel for rpy2: filename=rpy2-3.5.1-cp312-cp312-linux_x86_64.whl size=316564 sha256=4cbeeb2d952c6c0f56cff0c9080259bed69568ff83ea8305ec63e587f659483c\n",
            "  Stored in directory: /root/.cache/pip/wheels/00/26/d5/d5e8c0b039915e785be870270e4a9263e5058168a03513d8cc\n",
            "Successfully built rpy2\n",
            "Installing collected packages: rpy2\n",
            "Successfully installed rpy2-3.5.1\n"
          ]
        }
      ],
      "source": [
        "!pip uninstall rpy2 -y\n",
        "! pip install rpy2==3.5.1\n",
        "%load_ext rpy2.ipython"
      ]
    },
    {
      "cell_type": "markdown",
      "metadata": {
        "id": "qmEDD0ccEurf"
      },
      "source": [
        "##  Mount Google Drive\n",
        "\n",
        "Then you must create a folder in Goole drive named \"R\" to install all packages permanently. Before installing R-package in Python runtime. You have to mount Google Drive and follow on-screen instruction:"
      ]
    },
    {
      "cell_type": "code",
      "execution_count": 3,
      "metadata": {
        "colab": {
          "base_uri": "https://localhost:8080/"
        },
        "id": "lClKZUW1Eu_G",
        "outputId": "24bc43a4-ea86-4568-e08a-e50f1db8c28f"
      },
      "outputs": [
        {
          "output_type": "stream",
          "name": "stdout",
          "text": [
            "Drive already mounted at /content/drive; to attempt to forcibly remount, call drive.mount(\"/content/drive\", force_remount=True).\n"
          ]
        }
      ],
      "source": [
        "from google.colab import drive\n",
        "drive.mount('/content/drive')"
      ]
    },
    {
      "cell_type": "markdown",
      "source": [
        "## Pure Functions in R\n",
        "\n",
        "A **pure function**:\n",
        "\n",
        "-   Always produces the same output for the same input.\n",
        "\n",
        "-   Has no side effects (e.g., no modifying global variables, no I/O operations)."
      ],
      "metadata": {
        "id": "AbBlQ3li2TZd"
      }
    },
    {
      "cell_type": "code",
      "source": [
        "%%R\n",
        "# Pure function: Squares a number\n",
        "square <- function(x) {\n",
        "  x * x\n",
        "}\n",
        "square(4) # Returns 16, always for input 4"
      ],
      "metadata": {
        "colab": {
          "base_uri": "https://localhost:8080/"
        },
        "id": "KSEDbsMw3JP9",
        "outputId": "a831ff72-ad59-4289-bb8a-615276ef5d88"
      },
      "execution_count": 4,
      "outputs": [
        {
          "output_type": "stream",
          "name": "stdout",
          "text": [
            "[1] 16\n"
          ]
        }
      ]
    },
    {
      "cell_type": "markdown",
      "source": [
        "## Impure Function (Avoid in FP)"
      ],
      "metadata": {
        "id": "2Y7goURP3Xcf"
      }
    },
    {
      "cell_type": "code",
      "source": [
        "%%R\n",
        "# Impure: Modifies global variable\n",
        "counter <- 0\n",
        "impure_add <- function(x) {\n",
        "  counter <<- counter + 1\n",
        "  x + counter\n",
        "}\n",
        "impure_add(5) # Output depends on counter, not just input"
      ],
      "metadata": {
        "colab": {
          "base_uri": "https://localhost:8080/"
        },
        "id": "MP1UrZPt3YPs",
        "outputId": "c1bc7b32-787b-47f6-ae83-f1a6cdd38e7d"
      },
      "execution_count": 5,
      "outputs": [
        {
          "output_type": "stream",
          "name": "stdout",
          "text": [
            "[1] 6\n"
          ]
        }
      ]
    },
    {
      "cell_type": "markdown",
      "source": [
        "**Tip**: Ensure functions rely only on their arguments and return results without altering external state."
      ],
      "metadata": {
        "id": "zu7Zqayh3epy"
      }
    },
    {
      "cell_type": "markdown",
      "source": [
        "## The Apply Family for Functional Programming\n",
        "\n",
        "Base R’s apply functions are key to FP, allowing you to apply a function to elements of a data structure declaratively, avoiding loops and mutable state.\n"
      ],
      "metadata": {
        "id": "f51AofVz3fqn"
      }
    },
    {
      "cell_type": "markdown",
      "source": [
        "### Key Apply Functions\n",
        "\n",
        "The apply family consists of vectorized functions which minimize our need to explicitly create loops. These family is an inbuilt R package, so no need to install any packages for the execution.\n",
        "\n",
        "-   `apply()` for matrices and data frames\n",
        "\n",
        "-   `lapply()` for lists...output as list\n",
        "\n",
        "-   `sapply()` for lists...output simplified\n",
        "\n",
        "-   `tapply()` for vectors\n",
        "\n",
        "-   `mapply()` for multi-variant"
      ],
      "metadata": {
        "id": "K__kR88X3iPT"
      }
    },
    {
      "cell_type": "markdown",
      "source": [
        "### apply\n",
        "\n",
        "`apply()` returns a vector or array or list of values obtained by applying a function to margins of an array or matrix or dataframe. Using `apply()` is not faster than using a loop function, but it is highly compact and can be written in one line.\n",
        "\n",
        "> apply(x,MARGIN, FUN,...)\n",
        "\n",
        "Where:\n",
        "\n",
        "-   **x** is the matrix, dataframe or array\n",
        "\n",
        "-   **MARGIN** is a vector giving the subscripts which the function will be applied over. E.g., for a matrix 1 indicates rows, 2 indicates columns, c(1, 2) indicates rows and columns.\n",
        "\n",
        "-   **FUN** is the function to be applied\n",
        "\n",
        "-   **...** is for any other arguments to be passed to the function"
      ],
      "metadata": {
        "id": "tpdSrLZi3nPd"
      }
    },
    {
      "cell_type": "code",
      "source": [
        "%%R\n",
        "# Crate a dataframe\n",
        "df <- cbind(x1 = 1:8, x2 = 2:9, x3=3:10)\n",
        "# add row names\n",
        "dimnames(df)[[1]] <- letters[1:8]"
      ],
      "metadata": {
        "id": "L0W1erLZ3rLd"
      },
      "execution_count": 6,
      "outputs": []
    },
    {
      "cell_type": "markdown",
      "source": [
        "Let's calculate column mean:"
      ],
      "metadata": {
        "id": "Vvf40tEi3pSB"
      }
    },
    {
      "cell_type": "code",
      "source": [
        "%%R\n",
        "apply(df, 2, mean, trim = 0.2)"
      ],
      "metadata": {
        "colab": {
          "base_uri": "https://localhost:8080/"
        },
        "id": "1MUykh903v3S",
        "outputId": "8cd1e097-90fd-4b6c-9a55-eb0f2041fec0"
      },
      "execution_count": 7,
      "outputs": [
        {
          "output_type": "stream",
          "name": "stdout",
          "text": [
            " x1  x2  x3 \n",
            "4.5 5.5 6.5 \n"
          ]
        }
      ]
    },
    {
      "cell_type": "markdown",
      "source": [
        "Row mean:"
      ],
      "metadata": {
        "id": "fN2m1ONQ31FM"
      }
    },
    {
      "cell_type": "code",
      "source": [
        "%%R\n",
        "apply(df, 1, mean, trim = .2)"
      ],
      "metadata": {
        "id": "jXbLBQsr319H"
      },
      "execution_count": null,
      "outputs": []
    },
    {
      "cell_type": "markdown",
      "source": [
        "Get column quantile:"
      ],
      "metadata": {
        "id": "nRGvbYyl361-"
      }
    },
    {
      "cell_type": "code",
      "source": [
        "%%R\n",
        "apply(df, 2, quantile, probs = c(0.10, 0.25, 0.50, 0.75, 0.90))"
      ],
      "metadata": {
        "colab": {
          "base_uri": "https://localhost:8080/"
        },
        "id": "K4eOWDa135ww",
        "outputId": "d4d0a86e-9e82-44fa-c3e5-fa3431e75464"
      },
      "execution_count": 8,
      "outputs": [
        {
          "output_type": "stream",
          "name": "stdout",
          "text": [
            "      x1   x2   x3\n",
            "10% 1.70 2.70 3.70\n",
            "25% 2.75 3.75 4.75\n",
            "50% 4.50 5.50 6.50\n",
            "75% 6.25 7.25 8.25\n",
            "90% 7.30 8.30 9.30\n"
          ]
        }
      ]
    },
    {
      "cell_type": "markdown",
      "source": [
        "### lapply\n",
        "\n",
        "`lapply()` returns a list of the same length as X (list), each element of which is the result of applying FUN to the corresponding element of X. It loops over a list, iterating over each element in that list and then applies a function to each element of the list and finally returns a list (l stand for list).\n",
        "\n",
        "> lapply(x, FUN, ...)\n",
        "\n",
        "Where:\n",
        "\n",
        "-   **x** is the list\n",
        "\n",
        "-   **FUN** is the function to be applied\n",
        "\n",
        "-   **...** is for any other arguments to be passed to the function"
      ],
      "metadata": {
        "id": "GwnQR2oS4BSO"
      }
    },
    {
      "cell_type": "code",
      "source": [
        "%%R\n",
        "# Create a list\n",
        "mylist<-list(A=matrix(1:9,nrow=3),B=1:5,C=c(8,5),  logic = c(TRUE,FALSE,FALSE,TRUE, TRUE))\n",
        "mylist"
      ],
      "metadata": {
        "colab": {
          "base_uri": "https://localhost:8080/"
        },
        "id": "z3TZfC7534X8",
        "outputId": "f8ecbb95-1df5-407e-cbe0-dcbc64f72191"
      },
      "execution_count": 9,
      "outputs": [
        {
          "output_type": "stream",
          "name": "stdout",
          "text": [
            "$A\n",
            "     [,1] [,2] [,3]\n",
            "[1,]    1    4    7\n",
            "[2,]    2    5    8\n",
            "[3,]    3    6    9\n",
            "\n",
            "$B\n",
            "[1] 1 2 3 4 5\n",
            "\n",
            "$C\n",
            "[1] 8 5\n",
            "\n",
            "$logic\n",
            "[1]  TRUE FALSE FALSE  TRUE  TRUE\n",
            "\n"
          ]
        }
      ]
    },
    {
      "cell_type": "code",
      "source": [
        "%%R\n",
        "lapply(mylist, mean)"
      ],
      "metadata": {
        "colab": {
          "base_uri": "https://localhost:8080/"
        },
        "id": "QqKaWOBJ4K4u",
        "outputId": "79e30f71-6c86-4112-8701-a680487af8d4"
      },
      "execution_count": 10,
      "outputs": [
        {
          "output_type": "stream",
          "name": "stdout",
          "text": [
            "$A\n",
            "[1] 5\n",
            "\n",
            "$B\n",
            "[1] 3\n",
            "\n",
            "$C\n",
            "[1] 6.5\n",
            "\n",
            "$logic\n",
            "[1] 0.6\n",
            "\n"
          ]
        }
      ]
    },
    {
      "cell_type": "markdown",
      "source": [
        "You can see how the results are saved as a list form. We can easily unlist the results:"
      ],
      "metadata": {
        "id": "NcPKik7p4O6Q"
      }
    },
    {
      "cell_type": "code",
      "source": [
        "%%R\n",
        "unlist(lapply(mylist,mean))"
      ],
      "metadata": {
        "colab": {
          "base_uri": "https://localhost:8080/"
        },
        "id": "BrGBiiHk4Pv4",
        "outputId": "e6876154-e88c-4145-f08e-394e6f38f27d"
      },
      "execution_count": 11,
      "outputs": [
        {
          "output_type": "stream",
          "name": "stdout",
          "text": [
            "    A     B     C logic \n",
            "  5.0   3.0   6.5   0.6 \n"
          ]
        }
      ]
    },
    {
      "cell_type": "markdown",
      "source": [
        "### sapply\n",
        "\n",
        "`sapply()` is a wrapper of lapply() to simplify the result to vector or matrix."
      ],
      "metadata": {
        "id": "PvKM8nkF4UCG"
      }
    },
    {
      "cell_type": "code",
      "source": [
        "%%R\n",
        "sapply(mylist, mean)"
      ],
      "metadata": {
        "colab": {
          "base_uri": "https://localhost:8080/"
        },
        "id": "42v69lLM4XBF",
        "outputId": "b43ab903-2e0e-4c77-b9fc-910ab85900c9"
      },
      "execution_count": 12,
      "outputs": [
        {
          "output_type": "stream",
          "name": "stdout",
          "text": [
            "    A     B     C logic \n",
            "  5.0   3.0   6.5   0.6 \n"
          ]
        }
      ]
    },
    {
      "cell_type": "markdown",
      "source": [
        "### tapply\n",
        "\n",
        "`tapply()` is used to apply a function over subsets of a vector when a dataset can be broken up into groups (via categorical variables - aka factors)"
      ],
      "metadata": {
        "id": "Xvm0iuj14dVz"
      }
    },
    {
      "cell_type": "code",
      "source": [
        "%%R\n",
        "my.df <- data.frame(\n",
        "  Landcover = rep(c(\"Forest\", \"Grassland\", \"Wetland\"), each = 4),\n",
        "  Site = rep(1:4, times = 3),\n",
        "  pH = c(5.5, 6.0, 5.8, 6.2, 7.0, 6.8, 7.2, 7.1, 6.5, 6.7, 6.9, 7.0),\n",
        "  SOC = c(3.2, 3.5, 3.1, 3.3, 2.5, 2.7, 2.6, 2.8, 4.0, 4.1, 4.2, 4.3)\n",
        ")"
      ],
      "metadata": {
        "id": "ZpltV1l24hJd"
      },
      "execution_count": 13,
      "outputs": []
    },
    {
      "cell_type": "markdown",
      "source": [
        "We can use `tapply()` to calculate mean values of pH an SOC for land cover"
      ],
      "metadata": {
        "id": "PtIeH3jX4klD"
      }
    },
    {
      "cell_type": "code",
      "source": [
        "%%R\n",
        "apply(my.df[3:4], 2, function(x) tapply(x, my.df$Landcover, mean))"
      ],
      "metadata": {
        "colab": {
          "base_uri": "https://localhost:8080/"
        },
        "id": "y3iy-iVk4mZw",
        "outputId": "51540ea2-aff3-4710-ed9a-28488ad62ebe"
      },
      "execution_count": 14,
      "outputs": [
        {
          "output_type": "stream",
          "name": "stdout",
          "text": [
            "             pH   SOC\n",
            "Forest    5.875 3.275\n",
            "Grassland 7.025 2.650\n",
            "Wetland   6.775 4.150\n"
          ]
        }
      ]
    },
    {
      "cell_type": "markdown",
      "source": [
        "### mapply\n",
        "\n",
        "`mapply()` is a multivariate version of `sapply()`. `mapply()` applies FUN to the first elements of each ... argument, the second elements, the third elements, and so on."
      ],
      "metadata": {
        "id": "VsZE4iaA4uh-"
      }
    },
    {
      "cell_type": "code",
      "source": [
        "%%R\n",
        "list( rep(2, 4), rep(3, 3), rep(4, 2))"
      ],
      "metadata": {
        "colab": {
          "base_uri": "https://localhost:8080/"
        },
        "id": "UyZIaz_S4vSa",
        "outputId": "e510b33c-1c03-48d1-81be-7ce6903bb011"
      },
      "execution_count": 15,
      "outputs": [
        {
          "output_type": "stream",
          "name": "stdout",
          "text": [
            "[[1]]\n",
            "[1] 2 2 2 2\n",
            "\n",
            "[[2]]\n",
            "[1] 3 3 3\n",
            "\n",
            "[[3]]\n",
            "[1] 4 4\n",
            "\n"
          ]
        }
      ]
    },
    {
      "cell_type": "markdown",
      "source": [
        "You can see that the same function (rep) is being called repeatedly where the first argument (number vector) varies from 2 to 4, and the second argument (rep) varies from 4 to 2. Instead, you can use `mapply()`"
      ],
      "metadata": {
        "id": "WSkmX7q54ze8"
      }
    },
    {
      "cell_type": "code",
      "source": [
        "%%R\n",
        "mapply(rep, 2:4, 4:2)"
      ],
      "metadata": {
        "colab": {
          "base_uri": "https://localhost:8080/"
        },
        "id": "gJxuL9VY42WJ",
        "outputId": "a19138cb-90e5-4be0-889d-ca8f1a1ed685"
      },
      "execution_count": 16,
      "outputs": [
        {
          "output_type": "stream",
          "name": "stdout",
          "text": [
            "[[1]]\n",
            "[1] 2 2 2 2\n",
            "\n",
            "[[2]]\n",
            "[1] 3 3 3\n",
            "\n",
            "[[3]]\n",
            "[1] 4 4\n",
            "\n"
          ]
        }
      ]
    },
    {
      "cell_type": "markdown",
      "source": [
        "## Writing Pure Functions with Apply\n",
        "\n",
        "To align with FP, ensure the functions you pass to apply functions are pure. Here’s a practical example:"
      ],
      "metadata": {
        "id": "2mJ2MTnv45uZ"
      }
    },
    {
      "cell_type": "markdown",
      "source": [
        "Process a Vector of Names:\n",
        "\n",
        "Convert names to uppercase and sort them (like the JavaScript example from earlier)."
      ],
      "metadata": {
        "id": "EuP4IN7W48Ux"
      }
    },
    {
      "cell_type": "code",
      "source": [
        "%%R\n",
        "users <- c(\"alice\", \"bob\", \"charlie\")\n",
        "process_users <- function(users) {\n",
        "  sort(sapply(users, toupper))\n",
        "}\n",
        "process_users(users) # Returns c(\"ALICE\", \"BOB\", \"CHARLIE\")"
      ],
      "metadata": {
        "colab": {
          "base_uri": "https://localhost:8080/"
        },
        "id": "ZJOogJCZ49I1",
        "outputId": "a908233f-02c5-4aab-9fbf-82ec5715c259"
      },
      "execution_count": 17,
      "outputs": [
        {
          "output_type": "stream",
          "name": "stdout",
          "text": [
            "    alice       bob   charlie \n",
            "  \"ALICE\"     \"BOB\" \"CHARLIE\" \n"
          ]
        }
      ]
    },
    {
      "cell_type": "markdown",
      "source": [
        "-   `sapply(users, toupper)` applies the pure `toupper` function to each name.\n",
        "\n",
        "-   `sort()` is pure, producing a new sorted vector without modifying the input."
      ],
      "metadata": {
        "id": "lqJaBEo45DdJ"
      }
    },
    {
      "cell_type": "markdown",
      "source": [
        "### Avoiding Side Effect\n",
        "\n",
        "Avoid functions that print, modify global state, or perform I/O inside apply calls. Example:"
      ],
      "metadata": {
        "id": "o9IWuq9g5I1i"
      }
    },
    {
      "cell_type": "markdown",
      "source": [
        "### Bad: Side Effect in Function"
      ],
      "metadata": {
        "id": "JGtbScqO5Jnc"
      }
    },
    {
      "cell_type": "code",
      "source": [
        "%%R\n",
        "bad_function <- function(x) {\n",
        "  print(paste(\"Processing:\", x)) # Side effect\n",
        "  toupper(x)\n",
        "}\n",
        "sapply(users, bad_function) # Prints to console, not FP-friendly"
      ],
      "metadata": {
        "colab": {
          "base_uri": "https://localhost:8080/"
        },
        "id": "euI-huD45aTN",
        "outputId": "037e8a95-47ff-4e63-d21f-60a7c320183f"
      },
      "execution_count": 18,
      "outputs": [
        {
          "output_type": "stream",
          "name": "stdout",
          "text": [
            "[1] \"Processing: alice\"\n",
            "[1] \"Processing: bob\"\n",
            "[1] \"Processing: charlie\"\n",
            "    alice       bob   charlie \n",
            "  \"ALICE\"     \"BOB\" \"CHARLIE\" \n"
          ]
        }
      ]
    },
    {
      "cell_type": "markdown",
      "source": [
        "### Good: Pure Function"
      ],
      "metadata": {
        "id": "3yVWO1H-5e1n"
      }
    },
    {
      "cell_type": "code",
      "source": [
        "%%R\n",
        "good_function <- function(x) {\n",
        "  toupper(x)\n",
        "}\n",
        "result <- sapply(users, good_function)\n",
        "print(result) # Side effect handled outside"
      ],
      "metadata": {
        "colab": {
          "base_uri": "https://localhost:8080/"
        },
        "id": "TrehH_y45g_I",
        "outputId": "958dded1-07fb-4f27-a0d0-1b71426fd88a"
      },
      "execution_count": 19,
      "outputs": [
        {
          "output_type": "stream",
          "name": "stdout",
          "text": [
            "    alice       bob   charlie \n",
            "  \"ALICE\"     \"BOB\" \"CHARLIE\" \n"
          ]
        }
      ]
    },
    {
      "cell_type": "markdown",
      "source": [
        "## Immutability in Base R\n",
        "\n",
        "R doesn’t enforce immutability, but you can practice it by avoiding in-place modifications. Instead of changing a vector, create a new one:"
      ],
      "metadata": {
        "id": "5qNssThs5lto"
      }
    },
    {
      "cell_type": "code",
      "source": [
        "%%R\n",
        "numbers <- c(1, 2, 3)\n",
        "doubled <- sapply(numbers, function(x) x * 2) # New vector: c(2, 4, 6)\n",
        "# Original 'numbers' unchanged"
      ],
      "metadata": {
        "id": "3uCCqFQ858ZA"
      },
      "execution_count": 20,
      "outputs": []
    },
    {
      "cell_type": "markdown",
      "source": [
        "## Function Composition\n",
        "\n",
        "Combine pure functions to build complex logic. Base R doesn’t have a composition operator, but you can nest functions:"
      ],
      "metadata": {
        "id": "teWKBkkR6A1W"
      }
    },
    {
      "cell_type": "code",
      "source": [
        "%%R\n",
        "add_one <- function(x) x + 1\n",
        "double <- function(x) x * 2\n",
        "composed <- function(x) add_one(double(x))\n",
        "composed(5) # Returns 11 (double(5) = 10, add_one(10) = 11)"
      ],
      "metadata": {
        "colab": {
          "base_uri": "https://localhost:8080/"
        },
        "id": "sxZNpLQk6BdI",
        "outputId": "62a4d87f-ad6d-4b03-a273-94e0871a448c"
      },
      "execution_count": 22,
      "outputs": [
        {
          "output_type": "stream",
          "name": "stdout",
          "text": [
            "[1] 11\n"
          ]
        }
      ]
    },
    {
      "cell_type": "markdown",
      "source": [
        "## Real-World Example: Data Frame Processing\n",
        "\n",
        "Process a data frame to filter rows and transform values using FP principles in base R."
      ],
      "metadata": {
        "id": "ZGAGyFWf6G4u"
      }
    },
    {
      "cell_type": "code",
      "source": [
        "%%R\n",
        "# Create a data frame\n",
        "data <- data.frame(\n",
        "  name = c(\"Alice\", \"Bob\", \"Charlie\"),\n",
        "  age = c(25, 30, 35)\n",
        ")\n",
        "\n",
        "# Function to filter ages > 25 and uppercase names\n",
        "process_data <- function(df) {\n",
        "  # Filter rows (like dplyr::filter)\n",
        "  filtered <- df[df$age > 25, ]\n",
        "  # Uppercase names\n",
        "  filtered$name <- sapply(filtered$name, toupper)\n",
        "  filtered\n",
        "}\n",
        "process_data(data) # Returns data frame with Bob and Charlie, names in uppercase"
      ],
      "metadata": {
        "colab": {
          "base_uri": "https://localhost:8080/"
        },
        "id": "LZi_7jpe6KNb",
        "outputId": "e238b81e-f606-4371-a290-497f4f7d9162"
      },
      "execution_count": 23,
      "outputs": [
        {
          "output_type": "stream",
          "name": "stdout",
          "text": [
            "     name age\n",
            "2     BOB  30\n",
            "3 CHARLIE  35\n"
          ]
        }
      ]
    },
    {
      "cell_type": "markdown",
      "source": [
        " Uses `sapply` for transformation and subsetting for filtering, both avoiding mutation of the original `data`."
      ],
      "metadata": {
        "id": "lk-aKmDY6Mz5"
      }
    },
    {
      "cell_type": "markdown",
      "source": [
        "##  Recursion in Base R\n",
        "\n",
        "FP favors recursion over loops. Example: Calculate factorial recursively:"
      ],
      "metadata": {
        "id": "hC4Jfbes6Rj1"
      }
    },
    {
      "cell_type": "code",
      "source": [
        "%%R\n",
        "factorial <- function(n) {\n",
        "  if (n <= 1) return(1)\n",
        "  n * factorial(n - 1)\n",
        "}\n",
        "factorial(5) # Returns 120"
      ],
      "metadata": {
        "colab": {
          "base_uri": "https://localhost:8080/"
        },
        "id": "VjhNfFhm6T49",
        "outputId": "96d2c230-ce34-4c71-a471-2bf8dd5f22f9"
      },
      "execution_count": 24,
      "outputs": [
        {
          "output_type": "stream",
          "name": "stdout",
          "text": [
            "[1] 120\n"
          ]
        }
      ]
    },
    {
      "cell_type": "markdown",
      "source": [
        "**Note**: R lacks tail recursion optimization, so use `lapply`/`sapply` for large datasets to avoid stack overflow."
      ],
      "metadata": {
        "id": "pvIC3WtF6WiE"
      }
    },
    {
      "cell_type": "markdown",
      "source": [
        "## Tips for FP in Base R\n",
        "\n",
        "- **Keep Functions Pure**: Ensure functions passed to `lapply`/`sapply` depend only on inputs.\n",
        "\n",
        "- **Use Anonymous Functions**: Pass `function(x) ...` to apply functions for one-off transformations.\n",
        "\n",
        "    ```         \n",
        "    sapply(numbers, function(x) x + 1) # Returns c(2, 3, 4)\n",
        "    ```\n",
        "\n",
        "-  **Simplify with `sapply`**: Use `sapply` when you want a vector output instead of a list from `lapply`.\n",
        "\n",
        "-  **Combine Functions**: Nest apply calls for complex transformations, e.g., `sapply(lapply(...), ...)`.\n"
      ],
      "metadata": {
        "id": "JcMK8_Kj6XRh"
      }
    },
    {
      "cell_type": "markdown",
      "source": [
        "## Limitations\n",
        "\n",
        "-   **Performance**: Creating new objects for immutability can be memory-intensive.\n",
        "\n",
        "-   **Verbosity**: Base R’s FP tools are less concise than `purrr`’s.\n",
        "\n",
        "-   **Side Effects**: Real-world tasks (e.g., plotting) require side effects; isolate them outside pure functions."
      ],
      "metadata": {
        "id": "YfeXjGOH6bPC"
      }
    },
    {
      "cell_type": "markdown",
      "metadata": {
        "id": "c71LJpbPZFQI"
      },
      "source": [
        "\n",
        "##  Summary and Conclusion\n",
        "\n",
        "Functional programming in base R leverages pure functions and the apply family (`lapply`, `sapply`, `apply`) to write declarative, predictable code. By avoiding side effects, practicing immutability, and using higher-order functions, you can create modular and testable programs. Start with small transformations (e.g., mapping over vectors) and scale to data frame processing for robust FP workflows.\n",
        "\n",
        "These functions provide potent tools for applying operations across vectors, matrices, or data frames, streamlining complex operations, and enhancing code readability."
      ]
    },
    {
      "cell_type": "markdown",
      "metadata": {
        "id": "0Ovc25MJTsD8"
      },
      "source": [
        "## Resources\n",
        "\n",
        "-   **Advanced R by Hadley Wickham**: <https://adv-r.hadley.nz/functional-programming.html>\n",
        "\n",
        "-   **R Documentation**: Search `?lapply` or `?sapply` in R for official details."
      ]
    }
  ],
  "metadata": {
    "colab": {
      "provenance": [],
      "toc_visible": true,
      "include_colab_link": true
    },
    "kernelspec": {
      "display_name": "Python 3",
      "name": "python3"
    },
    "language_info": {
      "name": "python"
    }
  },
  "nbformat": 4,
  "nbformat_minor": 0
}