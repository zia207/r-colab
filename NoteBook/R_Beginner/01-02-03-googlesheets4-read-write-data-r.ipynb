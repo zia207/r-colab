{
  "cells": [
    {
      "cell_type": "markdown",
      "metadata": {
        "colab_type": "text",
        "id": "view-in-github"
      },
      "source": [
        "<a href=\"https://colab.research.google.com/github/zia207/r-colab/blob/main/NoteBook/R_Beginner/01-02-03-googlesheets4-read-write-data-r.ipynb\" target=\"_parent\"><img src=\"https://colab.research.google.com/assets/colab-badge.svg\" alt=\"Open In Colab\"/></a>"
      ]
    },
    {
      "cell_type": "markdown",
      "metadata": {
        "id": "dJ4hbA1BsuYi"
      },
      "source": [
        "![alt text](http://drive.google.com/uc?export=view&id=1bLQ3nhDbZrCCqy_WCxxckOne2lgVvn3l)"
      ]
    },
    {
      "cell_type": "markdown",
      "metadata": {
        "id": "MGoP0AbXEAUx"
      },
      "source": [
        "#  Data Read/Write with {googlesheets4}\n",
        "\n"
      ]
    },
    {
      "cell_type": "markdown",
      "metadata": {
        "id": "kroLnhoOPPoV"
      },
      "source": [
        "\n",
        "\n",
        "The [googlesheets4](https://googlesheets4.tidyverse.org/index.html) is a package designed to facilitate the integration of [Google Sheets](https://docs.google.com/spreadsheets/) with the R programming language. This package provides an R interface to Google Sheets via the [Sheets API v4](https://developers.google.com/sheets/api/), which allows users to programmatically access, manipulate, and interact with Google Sheets data from R."
      ]
    },
    {
      "cell_type": "markdown",
      "metadata": {
        "id": "4zaBS1wiPuYn"
      },
      "source": [
        "![alt text](http://drive.google.com/uc?export=view&id=1uIbmPSzpoM9ZT2ZKsOH3kwmZSYOetk-l)\n",
        "\n"
      ]
    },
    {
      "cell_type": "markdown",
      "metadata": {
        "id": "CdQJ-mgsEU9J"
      },
      "source": [
        "## Install rpy2\n",
        "\n",
        "Easy way to run R in Colab with Python runtime using **rpy2** python package. We have to install this package using the pip command:"
      ]
    },
    {
      "cell_type": "code",
      "execution_count": null,
      "metadata": {
        "id": "qOD7NpajDy5k"
      },
      "outputs": [],
      "source": [
        "!pip uninstall rpy2 -y\n",
        "! pip install rpy2==3.5.1\n",
        "%load_ext rpy2.ipython"
      ]
    },
    {
      "cell_type": "markdown",
      "metadata": {
        "id": "qmEDD0ccEurf"
      },
      "source": [
        "##  Mount Google Drive\n",
        "\n",
        "Then you must create a folder in Goole drive named \"R\" to install all packages permanently. Before installing R-package in Python runtime. You have to mount Google Drive and follow on-screen instruction:\n",
        "4/0AeaYSHANovlfzQ6mHgiCo_ofx2_BSg08Dr4UcNcjZ7NqawwSuHnP9zNl7Tngozpn9xZZYw"
      ]
    },
    {
      "cell_type": "code",
      "execution_count": null,
      "metadata": {
        "colab": {
          "base_uri": "https://localhost:8080/"
        },
        "id": "lClKZUW1Eu_G",
        "outputId": "34005061-b9b1-4717-eca3-41afdca2e94c"
      },
      "outputs": [
        {
          "name": "stdout",
          "output_type": "stream",
          "text": [
            "Drive already mounted at /content/drive; to attempt to forcibly remount, call drive.mount(\"/content/drive\", force_remount=True).\n"
          ]
        }
      ],
      "source": [
        "from google.colab import drive\n",
        "drive.mount('/content/drive')"
      ]
    },
    {
      "cell_type": "markdown",
      "metadata": {
        "id": "BSAv-kcUTTo7"
      },
      "source": [
        "## Check and Install googlesheets4 Packages"
      ]
    },
    {
      "cell_type": "code",
      "execution_count": null,
      "metadata": {
        "id": "Nan0amGMyBv5"
      },
      "outputs": [],
      "source": [
        "%%R\n",
        "packages <- c(\n",
        "          'googlesheets4',\n",
        "          'googledrive',\n",
        "          'tidyverse'\n",
        ")"
      ]
    },
    {
      "cell_type": "code",
      "execution_count": null,
      "metadata": {
        "id": "X7QnAMbmD-DZ"
      },
      "outputs": [],
      "source": [
        "%%R\n",
        "# Install missing packages\n",
        "new.packages <- packages[!(packages %in% installed.packages(lib='drive/My Drive/R/')[,\"Package\"])]\n",
        "if(length(new.packages)) install.packages(new.packages, lib='drive/My Drive/R/')\n",
        "\n",
        "# Verify installation\n",
        "cat(\"Installed packages:\\n\")\n",
        "print(sapply(packages, requireNamespace, quietly = TRUE))"
      ]
    },
    {
      "cell_type": "markdown",
      "metadata": {
        "id": "1ldcblnJYfks"
      },
      "source": [
        "## Load Libaray"
      ]
    },
    {
      "cell_type": "code",
      "execution_count": null,
      "metadata": {
        "id": "nCnpYUs9YftD"
      },
      "outputs": [],
      "source": [
        "%%R\n",
        "# set library path\n",
        ".libPaths('drive/My Drive/R')\n",
        "# Load packages with suppressed messages\n",
        "invisible(lapply(packages, function(pkg) {\n",
        "  suppressPackageStartupMessages(library(pkg, character.only = TRUE))\n",
        "}))"
      ]
    },
    {
      "cell_type": "code",
      "execution_count": null,
      "metadata": {
        "id": "eaT7zamaEFsL"
      },
      "outputs": [],
      "source": [
        "%%R\n",
        "# Check loaded packages\n",
        "cat(\"Successfully loaded packages:\\n\")\n",
        "print(search()[grepl(\"package:\", search())])"
      ]
    },
    {
      "cell_type": "markdown",
      "metadata": {
        "id": "DYG_sdDVILUU"
      },
      "source": [
        "## Authenticate with Google Sheets\n",
        "\n",
        "By default, `googlesheets4` will help you interact with Sheets, provided you are authenticated as a Google user. However, if you don't intend to write Sheets or read private Sheets, you can use `gs4_deauth()` to indicate no need for a token. For more information, refer to the article 'Google Sheets4 Auth'. Please note that we have logged into Google as a specific user in a hidden chunk for this overview.\n",
        "\n"
      ]
    },
    {
      "cell_type": "code",
      "execution_count": null,
      "metadata": {
        "colab": {
          "base_uri": "https://localhost:8080/"
        },
        "id": "BQiIgK4-IJrs",
        "outputId": "156e7f46-f6ac-4d9f-8349-7f418c49c7e7"
      },
      "outputs": [
        {
          "name": "stdout",
          "output_type": "stream",
          "text": [
            "Enter a number between 1 and 2, or enter 0 to exit.\n"
          ]
        }
      ],
      "source": [
        "%%R\n",
        "gs4_auth()"
      ]
    },
    {
      "cell_type": "markdown",
      "metadata": {
        "id": "nUE1FFwnQy0H"
      },
      "source": [
        "## Data\n",
        "\n",
        "All data set use in this exercise can be downloaded from my [Dropbox](https://www.dropbox.com/scl/fo/fohioij7h503duitpl040/h?rlkey=3voumajiklwhgqw75fe8kby3o&dl=0) or from my [Github](https://github.com/zia207/r-colab/tree/main/Data/R_Beginners) accounts.\n",
        "\n",
        "### Reading a Google sheet file\n",
        "\n",
        "`read_sheet()` is the main “read” function and should evoke `readr::read_csv()` and `readxl::read_excel()`. It is designed to “just work”, for most purposes, most of the time. It can read straight from a Sheets browser URL.\n",
        "\n",
        "> `14E1oFFSiQ19Qpij-oa4vuDqwGWU80LLaYmSJSPZNfFM` is the ID of `test_data.gsheet` in my GoogleDrive\n",
        "\n",
        "You can load data directly from my **GoogleDrive** data folder using following code with  ID:"
      ]
    },
    {
      "cell_type": "markdown",
      "metadata": {
        "id": "QGMv7X8v74LC"
      },
      "source": [
        "\n",
        "\n",
        "Before start, you need to specify the working or destination directory in where you will save the data."
      ]
    },
    {
      "cell_type": "code",
      "execution_count": null,
      "metadata": {
        "colab": {
          "base_uri": "https://localhost:8080/"
        },
        "id": "gXfSYaGPGpbl",
        "outputId": "5258347e-9df2-4038-988c-15445b99c7f3"
      },
      "outputs": [
        {
          "name": "stdout",
          "output_type": "stream",
          "text": [
            "✔ Reading from \"test_data\".\n",
            "✔ Range 'df.csv'.\n",
            "Rows: 42\n",
            "Columns: 13\n",
            "$ ID    <dbl> 1, 2, 3, 4, 5, 6, 7, 8, 9, 10, 11, 12, 13, 14, 15, 16, 17, 18, 1…\n",
            "$ treat <chr> \"Low As\", \"Low As\", \"Low As\", \"Low As\", \"Low As\", \"Low As\", \"Low…\n",
            "$ var   <chr> \"BR01\", \"BR01\", \"BR01\", \"BR06\", \"BR06\", \"BR06\", \"BR28\", \"BR28\", …\n",
            "$ rep   <dbl> 1, 2, 3, 1, 2, 3, 1, 2, 3, 1, 2, 3, 1, 2, 3, 1, 2, 3, 1, 2, 3, 1…\n",
            "$ PH    <dbl> 84.0, 111.7, 102.3, 118.0, 115.3, 111.0, 114.3, 124.0, 120.3, 13…\n",
            "$ TN    <dbl> 28.3, 34.0, 27.7, 23.3, 16.7, 19.0, 21.7, 25.3, 23.0, 19.7, 21.0…\n",
            "$ PN    <dbl> 27.7, 30.0, 24.0, 19.7, 12.3, 15.3, 19.3, 21.0, 19.0, 14.7, 16.3…\n",
            "$ GW    <dbl> 35.7, 58.1, 44.6, 46.4, 19.9, 35.9, 56.2, 49.2, 48.6, 36.6, 39.9…\n",
            "$ ster  <dbl> 20.5, 14.8, 5.8, 20.3, 32.3, 14.9, 6.1, 9.2, 4.2, 12.1, 11.5, 8.…\n",
            "$ DTM   <dbl> 126.0, 119.0, 119.7, 119.0, 120.0, 116.3, 123.7, 114.3, 113.3, 1…\n",
            "$ SW    <dbl> 28.4, 36.7, 32.9, 40.0, 28.2, 42.3, 35.4, 60.6, 69.8, 57.3, 53.0…\n",
            "$ GAs   <dbl> 0.762, 0.722, 0.858, 1.053, 1.130, 1.011, 0.965, 0.969, 0.893, 1…\n",
            "$ STAs  <dbl> 14.60, 10.77, 12.69, 18.23, 13.72, 15.97, 14.49, 16.02, 15.25, 2…\n"
          ]
        }
      ],
      "source": [
        "%%R\n",
        "df.sheet <- read_sheet(\"https://docs.google.com/spreadsheets/d/14E1oFFSiQ19Qpij-oa4vuDqwGWU80LLaYmSJSPZNfFM/edit?usp=sharing\") |>\n",
        "  glimpse()\n"
      ]
    },
    {
      "cell_type": "markdown",
      "metadata": {
        "id": "SqJQoPMbC4sA"
      },
      "source": [
        "## Writing Sheets\n",
        "\n",
        "The writing functions are the most recent additions and may still see some refinements re: user interface and which function does what. We’re very interested to hear how these functions feel in terms of ergonomics.\n",
        "\n",
        "`sheet_write()` writes a data frame into a Sheet. The only required argument is the data."
      ]
    },
    {
      "cell_type": "code",
      "execution_count": null,
      "metadata": {
        "id": "SjmB7SiCWAxm"
      },
      "outputs": [],
      "source": [
        "%%R\n",
        "sheet<-sheet_write(df.sheet)"
      ]
    },
    {
      "cell_type": "markdown",
      "metadata": {
        "id": "tYzA6V3QYoc3"
      },
      "source": [
        "When you create a new Sheet using `sheet_write()` function, you might have noticed that it comes with a randomly generated name. If you find this inconvenient, you can opt for using `gs4_create()` instead. This function provides you with more control over various aspects of the new Sheet, such as its name, formatting, and other settings. With `gs4_create()`, you can customize your Sheet to better suit your needs and preferences."
      ]
    },
    {
      "cell_type": "code",
      "execution_count": null,
      "metadata": {
        "id": "sXt48T2JYrP7"
      },
      "outputs": [],
      "source": [
        "%%R\n",
        "gs.sheet <- gs4_create(\"MySheet\", sheets = df.sheet)\n",
        "gs4_get(gs.sheet)"
      ]
    },
    {
      "cell_type": "markdown",
      "metadata": {
        "id": "DNeQCvxVYwO2"
      },
      "source": [
        "Remember to replace **MySheet** with the name of your actual Google Sheet. Also, ensure that your Google Sheet has been shared appropriately if you're accessing it from a different account."
      ]
    },
    {
      "cell_type": "markdown",
      "metadata": {
        "id": "qAFMeBzsIcc5"
      },
      "source": [
        "## Summary and Conclusion\n",
        "\n",
        "This tutorial provides simple examples to help you get started with the **googlesheets4** package for exporting and importing data. The package offers many more features for working with **Google Sheets**, including reading, writing, and managing permissions. For more advanced usage, please refer to the package documentation."
      ]
    },
    {
      "cell_type": "markdown",
      "metadata": {
        "id": "0Ovc25MJTsD8"
      },
      "source": [
        "## Resources\n",
        "\n",
        "1. [Get started with googlesheets4](https://googlesheets4.tidyverse.org/articles/googlesheets4.html)"
      ]
    }
  ],
  "metadata": {
    "colab": {
      "authorship_tag": "ABX9TyNVqKrYA7K8qo2vlmzWBicQ",
      "include_colab_link": true,
      "provenance": []
    },
    "kernelspec": {
      "display_name": "Python 3",
      "name": "python3"
    },
    "language_info": {
      "name": "python"
    }
  },
  "nbformat": 4,
  "nbformat_minor": 0
}
