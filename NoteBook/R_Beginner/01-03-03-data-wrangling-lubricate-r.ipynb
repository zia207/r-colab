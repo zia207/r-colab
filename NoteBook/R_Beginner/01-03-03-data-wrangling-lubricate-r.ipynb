{
  "cells": [
    {
      "cell_type": "markdown",
      "metadata": {
        "colab_type": "text",
        "id": "view-in-github"
      },
      "source": [
        "<a href=\"https://colab.research.google.com/github/zia207/r-colab/blob/main/NoteBook/R_Beginner/01-03-04-data-wrangling-lubricate-r.ipynb\" target=\"_parent\"><img src=\"https://colab.research.google.com/assets/colab-badge.svg\" alt=\"Open In Colab\"/></a>"
      ]
    },
    {
      "cell_type": "markdown",
      "metadata": {
        "id": "haqvoGB9aZjA"
      },
      "source": [
        "![alt text](http://drive.google.com/uc?export=view&id=1bLQ3nhDbZrCCqy_WCxxckOne2lgVvn3l)"
      ]
    },
    {
      "cell_type": "markdown",
      "metadata": {
        "id": "MGoP0AbXEAUx"
      },
      "source": [
        "# Data Wrangling with {lubricate}\n",
        "\n"
      ]
    },
    {
      "cell_type": "markdown",
      "metadata": {
        "id": "zKjF3a5iR7mB"
      },
      "source": [
        "The dates and time data are often messy and inconsistent, making it challenging to analyze. The {lubridate} package provides a set of functions that make it easy to work with dates and times in R. It allows you to parse dates from various formats, extract components like year, month, day, hour, minute, and second, and perform calculations with dates and times. The package also provides functions for handling time zones and daylight saving time. It’s part of the tidyverse and provides functions to parse, extract, manipulate, and format dates/times. It is part of the {tidyverse}, designed to simplify parsing, manipulating, and wrangling dates/times in R. The package is particularly useful for data wrangling tasks, such as cleaning and transforming date/time data, extracting components (like year, month, day), and performing calculations with dates/times. It also provides functions for handling time zones and daylight saving time."
      ]
    },
    {
      "cell_type": "markdown",
      "metadata": {
        "id": "eYldLaYxSowm"
      },
      "source": [
        "![alt text](http://drive.google.com/uc?export=view&id=1sHkaR2OpE-1vdPUPvNj_8zy4IruVzRJj)\n",
        "\n"
      ]
    },
    {
      "cell_type": "markdown",
      "metadata": {
        "id": "lB8NkvuWSYAD"
      },
      "source": [
        "## {lubridate} Function Reference\n",
        "\n",
        "The {lubridate} package provides a variety of functions for working with dates and times. Here are some of the most commonly used functions, categorized by their purpose:\n",
        "\n",
        "| Category | Functions |\n",
        "|----------------------|--------------------------------------------------|\n",
        "| Parsing | `ymd()`, `mdy()`, `dmy()`, `parse_date_time()` |\n",
        "| Extract Parts | `year()`, `month()`, `day()`, `hour()`, `minute()`, `second()` |\n",
        "| Manipulation | `make_date()`, `make_datetime()`, `floor_date()`, `ceiling_date()` |\n",
        "| Timezones | `with_tz()`, `force_tz()` |\n",
        "\n"
      ]
    },
    {
      "cell_type": "markdown",
      "metadata": {
        "id": "CdQJ-mgsEU9J"
      },
      "source": [
        "## Setup R in Python Runtype - Install {rpy2}\n",
        "\n",
        "{rpy2} is a Python package that provides an interface to the R programming language, allowing Python users to run R code, call R functions, and manipulate R objects directly from Python. It enables seamless integration between Python and R, leveraging R's statistical and graphical capabilities while using Python's flexibility. The package supports passing data between the two languages and is widely used for statistical analysis, data visualization, and machine learning tasks that benefit from R's specialized libraries."
      ]
    },
    {
      "cell_type": "code",
      "execution_count": 1,
      "metadata": {
        "colab": {
          "base_uri": "https://localhost:8080/"
        },
        "id": "qOD7NpajDy5k",
        "outputId": "d5139df1-d27f-4928-faee-350fa59ccfd1"
      },
      "outputs": [
        {
          "name": "stdout",
          "output_type": "stream",
          "text": [
            "Found existing installation: rpy2 3.5.17\n",
            "Uninstalling rpy2-3.5.17:\n",
            "  Successfully uninstalled rpy2-3.5.17\n",
            "Collecting rpy2==3.5.1\n",
            "  Downloading rpy2-3.5.1.tar.gz (201 kB)\n",
            "\u001b[2K     \u001b[90m━━━━━━━━━━━━━━━━━━━━━━━━━━━━━━━━━━━━━━━\u001b[0m \u001b[32m201.7/201.7 kB\u001b[0m \u001b[31m3.9 MB/s\u001b[0m eta \u001b[36m0:00:00\u001b[0m\n",
            "\u001b[?25h  Preparing metadata (setup.py) ... \u001b[?25l\u001b[?25hdone\n",
            "Requirement already satisfied: cffi>=1.10.0 in /usr/local/lib/python3.11/dist-packages (from rpy2==3.5.1) (1.17.1)\n",
            "Requirement already satisfied: jinja2 in /usr/local/lib/python3.11/dist-packages (from rpy2==3.5.1) (3.1.6)\n",
            "Requirement already satisfied: pytz in /usr/local/lib/python3.11/dist-packages (from rpy2==3.5.1) (2025.2)\n",
            "Requirement already satisfied: tzlocal in /usr/local/lib/python3.11/dist-packages (from rpy2==3.5.1) (5.3.1)\n",
            "Requirement already satisfied: pycparser in /usr/local/lib/python3.11/dist-packages (from cffi>=1.10.0->rpy2==3.5.1) (2.22)\n",
            "Requirement already satisfied: MarkupSafe>=2.0 in /usr/local/lib/python3.11/dist-packages (from jinja2->rpy2==3.5.1) (3.0.2)\n",
            "Building wheels for collected packages: rpy2\n",
            "  Building wheel for rpy2 (setup.py) ... \u001b[?25l\u001b[?25hdone\n",
            "  Created wheel for rpy2: filename=rpy2-3.5.1-cp311-cp311-linux_x86_64.whl size=314976 sha256=136fb7228deaae2cca9619c32adc71f692787ca6ba858058b4e8baeeeb30a91e\n",
            "  Stored in directory: /root/.cache/pip/wheels/e9/55/d1/47be85a5f3f1e1f4d1e91cb5e3a4dcb40dd72147f184c5a5ef\n",
            "Successfully built rpy2\n",
            "Installing collected packages: rpy2\n",
            "Successfully installed rpy2-3.5.1\n"
          ]
        }
      ],
      "source": [
        "!pip uninstall rpy2 -y\n",
        "! pip install rpy2==3.5.1\n",
        "%load_ext rpy2.ipython"
      ]
    },
    {
      "cell_type": "markdown",
      "metadata": {
        "id": "qmEDD0ccEurf"
      },
      "source": [
        "##  Mount Google Drive\n",
        "\n",
        "Then you must create a folder in Goole drive named \"R\" to install all packages permanently. Before installing R-package in Python runtime. You have to mount Google Drive and follow on-screen instruction:"
      ]
    },
    {
      "cell_type": "code",
      "execution_count": 2,
      "metadata": {
        "colab": {
          "base_uri": "https://localhost:8080/"
        },
        "id": "lClKZUW1Eu_G",
        "outputId": "2719db58-8d2c-4769-bd67-dc0939e9f8b0"
      },
      "outputs": [
        {
          "name": "stdout",
          "output_type": "stream",
          "text": [
            "Mounted at /content/drive\n"
          ]
        }
      ],
      "source": [
        "from google.colab import drive\n",
        "drive.mount('/content/drive')"
      ]
    },
    {
      "cell_type": "markdown",
      "metadata": {
        "id": "O8mTSRI-GknP"
      },
      "source": [
        "## Check and Install Required R Packages"
      ]
    },
    {
      "cell_type": "code",
      "execution_count": 3,
      "metadata": {
        "id": "JbN1rkO7Gh2j"
      },
      "outputs": [],
      "source": [
        "%%R\n",
        "packages <- c(\n",
        "             'tidyverse'\n",
        ")"
      ]
    },
    {
      "cell_type": "code",
      "execution_count": null,
      "metadata": {
        "id": "6m10lNUu-Ams"
      },
      "outputs": [],
      "source": [
        "%%R\n",
        "# Install missing packages\n",
        "new.packages <- packages[!(packages %in% installed.packages(lib='drive/My Drive/R/')[,\"Package\"])]\n",
        "if(length(new.packages)) install.packages(new.packages, lib='drive/My Drive/R/')\n",
        "\n",
        "# Verify installation\n",
        "cat(\"Installed packages:\\n\")\n",
        "print(sapply(packages, requireNamespace, quietly = TRUE))"
      ]
    },
    {
      "cell_type": "markdown",
      "metadata": {
        "id": "DjDmVyITGsDh"
      },
      "source": [
        "## Load Packages"
      ]
    },
    {
      "cell_type": "code",
      "execution_count": 4,
      "metadata": {
        "id": "9Pn9zXgyGsMM"
      },
      "outputs": [],
      "source": [
        "%%R\n",
        "# set library path\n",
        ".libPaths('drive/My Drive/R')\n",
        "# Load packages with suppressed messages\n",
        "invisible(lapply(packages, function(pkg) {\n",
        "  suppressPackageStartupMessages(library(pkg, character.only = TRUE))\n",
        "}))"
      ]
    },
    {
      "cell_type": "code",
      "execution_count": 5,
      "metadata": {
        "colab": {
          "base_uri": "https://localhost:8080/"
        },
        "id": "mlYAtbQO-FCB",
        "outputId": "d40b71fa-e8b7-4029-8e41-b6d4a74c02b7"
      },
      "outputs": [
        {
          "name": "stdout",
          "output_type": "stream",
          "text": [
            "Successfully loaded packages:\n",
            " [1] \"package:lubridate\" \"package:forcats\"   \"package:stringr\"  \n",
            " [4] \"package:dplyr\"     \"package:purrr\"     \"package:readr\"    \n",
            " [7] \"package:tidyr\"     \"package:tibble\"    \"package:ggplot2\"  \n",
            "[10] \"package:tidyverse\" \"package:tools\"     \"package:stats\"    \n",
            "[13] \"package:graphics\"  \"package:grDevices\" \"package:utils\"    \n",
            "[16] \"package:datasets\"  \"package:methods\"   \"package:base\"     \n"
          ]
        }
      ],
      "source": [
        "%%R\n",
        "# Check loaded packages\n",
        "cat(\"Successfully loaded packages:\\n\")\n",
        "print(search()[grepl(\"package:\", search())])"
      ]
    },
    {
      "cell_type": "markdown",
      "metadata": {
        "id": "gKxrhBBQSlhM"
      },
      "source": [
        "## Data\n",
        "\n",
        "Let’s simulate a small dataset with messy date formats."
      ]
    },
    {
      "cell_type": "code",
      "execution_count": 6,
      "metadata": {
        "colab": {
          "base_uri": "https://localhost:8080/"
        },
        "id": "1Fgvq_51EhQ8",
        "outputId": "9250f378-0e57-4465-d76d-a353aa2436e1"
      },
      "outputs": [
        {
          "name": "stdout",
          "output_type": "stream",
          "text": [
            "# A tibble: 10 × 4\n",
            "      id name  raw_date       timestamp          \n",
            "   <int> <chr> <chr>          <dttm>             \n",
            " 1     1 Carol 10/04/2025     2025-04-10 16:00:00\n",
            " 2     2 Carol 10/04/2025     2025-04-10 10:00:00\n",
            " 3     3 Carol 2025-04-10     2025-04-10 15:00:00\n",
            " 4     4 Bob   10/04/2025     2025-04-10 17:00:00\n",
            " 5     5 Carol April 10, 2025 2025-04-10 14:00:00\n",
            " 6     6 Bob   2025-04-10     2025-04-10 17:00:00\n",
            " 7     7 Bob   April 10, 2025 2025-04-10 16:00:00\n",
            " 8     8 Bob   April 10, 2025 2025-04-10 10:00:00\n",
            " 9     9 Carol 2025-04-10     2025-04-10 11:00:00\n",
            "10    10 Alice 2025-04-10     2025-04-10 08:00:00\n"
          ]
        }
      ],
      "source": [
        "%%R\n",
        "set.seed(123)\n",
        "df <- tibble(\n",
        "  id = 1:10,\n",
        "  name = sample(c(\"Alice\", \"Bob\", \"Carol\"), 10, replace = TRUE),\n",
        "  raw_date = sample(c(\"2025-04-10\", \"10/04/2025\", \"April 10, 2025\"), 10, replace = TRUE),\n",
        "  timestamp = sample(seq(\n",
        "    as.POSIXct(\"2025-04-10 08:00\"),\n",
        "    as.POSIXct(\"2025-04-10 18:00\"),\n",
        "    by = \"1 hour\"\n",
        "  ), 10, replace = TRUE)\n",
        ")\n",
        "\n",
        "print(df)"
      ]
    },
    {
      "cell_type": "markdown",
      "metadata": {
        "id": "ABFWg_NSHmSk"
      },
      "source": [
        "## Parse Dates and Times\n",
        "\n",
        "We’ll clean the inconsistent `raw_date` column and extract useful features."
      ]
    },
    {
      "cell_type": "code",
      "execution_count": 7,
      "metadata": {
        "colab": {
          "base_uri": "https://localhost:8080/"
        },
        "id": "cZc1Ew_LEpsx",
        "outputId": "40f1681f-d20f-4fa4-d673-9935ae5c3279"
      },
      "outputs": [
        {
          "name": "stdout",
          "output_type": "stream",
          "text": [
            "Rows: 10\n",
            "Columns: 11\n",
            "$ id          <int> 1, 2, 3, 4, 5, 6, 7, 8, 9, 10\n",
            "$ name        <chr> \"Carol\", \"Carol\", \"Carol\", \"Bob\", \"Carol\", \"Bob\", \"Bob\", \"…\n",
            "$ raw_date    <chr> \"10/04/2025\", \"10/04/2025\", \"2025-04-10\", \"10/04/2025\", \"A…\n",
            "$ timestamp   <dttm> 2025-04-10 16:00:00, 2025-04-10 10:00:00, 2025-04-10 15:00…\n",
            "$ parsed_date <dttm> 2025-04-10, 2025-04-10, 2025-04-10, 2025-04-10, 2025-04-1…\n",
            "$ year        <dbl> 2025, 2025, 2025, 2025, 2025, 2025, 2025, 2025, 2025, 2025\n",
            "$ month       <ord> Apr, Apr, Apr, Apr, Apr, Apr, Apr, Apr, Apr, Apr\n",
            "$ day         <int> 10, 10, 10, 10, 10, 10, 10, 10, 10, 10\n",
            "$ weekday     <ord> Thu, Thu, Thu, Thu, Thu, Thu, Thu, Thu, Thu, Thu\n",
            "$ hour        <int> 16, 10, 15, 17, 14, 17, 16, 10, 11, 8\n",
            "$ minute      <int> 0, 0, 0, 0, 0, 0, 0, 0, 0, 0\n"
          ]
        }
      ],
      "source": [
        "%%R\n",
        "df_clean <- df %>%\n",
        "  mutate(\n",
        "    parsed_date = lubridate::parse_date_time(raw_date, orders = c(\"ymd\", \"dmy\", \"B d, Y\")),\n",
        "    year = lubridate::year(parsed_date),\n",
        "    month = lubridate::month(parsed_date, label = TRUE),\n",
        "    day = lubridate::day(parsed_date),\n",
        "    weekday = lubridate::wday(parsed_date, label = TRUE),\n",
        "    hour = lubridate::hour(timestamp),\n",
        "    minute = lubridate::minute(timestamp)\n",
        "  )\n",
        "\n",
        "glimpse(df_clean)"
      ]
    },
    {
      "cell_type": "markdown",
      "metadata": {
        "id": "X0j5DLDoE3rY"
      },
      "source": [
        "## Common Wrangling Tasks with `lubridate`"
      ]
    },
    {
      "cell_type": "markdown",
      "metadata": {
        "id": "1eaz8sxJHtgl"
      },
      "source": [
        "### Reformat Dates"
      ]
    },
    {
      "cell_type": "code",
      "execution_count": 8,
      "metadata": {
        "colab": {
          "base_uri": "https://localhost:8080/"
        },
        "id": "hptoAbw4E713",
        "outputId": "fce1d622-8d56-4cc3-ebf9-d1acb6a29aa1"
      },
      "outputs": [
        {
          "name": "stdout",
          "output_type": "stream",
          "text": [
            "# A tibble: 6 × 12\n",
            "     id name  raw_date timestamp           parsed_date          year month   day\n",
            "  <int> <chr> <chr>    <dttm>              <dttm>              <dbl> <ord> <int>\n",
            "1     1 Carol 10/04/2… 2025-04-10 16:00:00 2025-04-10 00:00:00  2025 Apr      10\n",
            "2     2 Carol 10/04/2… 2025-04-10 10:00:00 2025-04-10 00:00:00  2025 Apr      10\n",
            "3     3 Carol 2025-04… 2025-04-10 15:00:00 2025-04-10 00:00:00  2025 Apr      10\n",
            "4     4 Bob   10/04/2… 2025-04-10 17:00:00 2025-04-10 00:00:00  2025 Apr      10\n",
            "5     5 Carol April 1… 2025-04-10 14:00:00 2025-04-10 00:00:00  2025 Apr      10\n",
            "6     6 Bob   2025-04… 2025-04-10 17:00:00 2025-04-10 00:00:00  2025 Apr      10\n",
            "# ℹ 4 more variables: weekday <ord>, hour <int>, minute <int>,\n",
            "#   date_reformatted <chr>\n"
          ]
        }
      ],
      "source": [
        "%%R\n",
        "df_clean <- df_clean %>%\n",
        "  mutate(date_reformatted = format(parsed_date, \"%d-%b-%Y\"))\n",
        "head(df_clean)"
      ]
    },
    {
      "cell_type": "markdown",
      "metadata": {
        "id": "-3vN2jwsIB6c"
      },
      "source": [
        "### Filter Data for Specific Times"
      ]
    },
    {
      "cell_type": "code",
      "execution_count": 9,
      "metadata": {
        "colab": {
          "base_uri": "https://localhost:8080/"
        },
        "id": "akNpwlKrFBf1",
        "outputId": "a4c65769-c35c-4db7-ccb7-3fd31b60f33a"
      },
      "outputs": [
        {
          "name": "stdout",
          "output_type": "stream",
          "text": [
            "# A tibble: 6 × 12\n",
            "     id name  raw_date timestamp           parsed_date          year month   day\n",
            "  <int> <chr> <chr>    <dttm>              <dttm>              <dbl> <ord> <int>\n",
            "1     1 Carol 10/04/2… 2025-04-10 16:00:00 2025-04-10 00:00:00  2025 Apr      10\n",
            "2     3 Carol 2025-04… 2025-04-10 15:00:00 2025-04-10 00:00:00  2025 Apr      10\n",
            "3     4 Bob   10/04/2… 2025-04-10 17:00:00 2025-04-10 00:00:00  2025 Apr      10\n",
            "4     5 Carol April 1… 2025-04-10 14:00:00 2025-04-10 00:00:00  2025 Apr      10\n",
            "5     6 Bob   2025-04… 2025-04-10 17:00:00 2025-04-10 00:00:00  2025 Apr      10\n",
            "6     7 Bob   April 1… 2025-04-10 16:00:00 2025-04-10 00:00:00  2025 Apr      10\n",
            "# ℹ 4 more variables: weekday <ord>, hour <int>, minute <int>,\n",
            "#   date_reformatted <chr>\n"
          ]
        }
      ],
      "source": [
        "%%R\n",
        "# Filter rows where timestamp is after 12 PM\n",
        "df_clean %>% filter(hour > 12)"
      ]
    },
    {
      "cell_type": "markdown",
      "metadata": {
        "id": "pJ_sy7hlFHpR"
      },
      "source": [
        "### Grouping by Weekday"
      ]
    },
    {
      "cell_type": "code",
      "execution_count": 10,
      "metadata": {
        "colab": {
          "base_uri": "https://localhost:8080/"
        },
        "id": "iEvd12abFJmZ",
        "outputId": "6cb46b6e-11f1-4aab-bc36-bc012445ecd0"
      },
      "outputs": [
        {
          "name": "stdout",
          "output_type": "stream",
          "text": [
            "# A tibble: 1 × 2\n",
            "  weekday entries\n",
            "  <ord>     <int>\n",
            "1 Thu          10\n"
          ]
        }
      ],
      "source": [
        "%%R\n",
        "df_clean %>%\n",
        "  group_by(weekday) %>%\n",
        "  summarise(entries = n())"
      ]
    },
    {
      "cell_type": "markdown",
      "metadata": {
        "id": "j1Uj_joCIPc-"
      },
      "source": [
        "### Construct New Datetime from Parts"
      ]
    },
    {
      "cell_type": "code",
      "execution_count": 11,
      "metadata": {
        "colab": {
          "base_uri": "https://localhost:8080/"
        },
        "id": "BMz4JFVPFZlN",
        "outputId": "4046766e-653d-4da0-e083-588372d8a979"
      },
      "outputs": [
        {
          "name": "stdout",
          "output_type": "stream",
          "text": [
            " [1] \"2025-04-10 16:00:00 UTC\" \"2025-04-10 10:00:00 UTC\"\n",
            " [3] \"2025-04-10 15:00:00 UTC\" \"2025-04-10 17:00:00 UTC\"\n",
            " [5] \"2025-04-10 14:00:00 UTC\" \"2025-04-10 17:00:00 UTC\"\n",
            " [7] \"2025-04-10 16:00:00 UTC\" \"2025-04-10 10:00:00 UTC\"\n",
            " [9] \"2025-04-10 11:00:00 UTC\" \"2025-04-10 08:00:00 UTC\"\n"
          ]
        }
      ],
      "source": [
        "%%R\n",
        "df_clean <- df_clean %>%\n",
        "  mutate(full_datetime = make_datetime(year, month(parsed_date), day, hour = hour, min = minute))\n",
        "\n",
        "print(df_clean$full_datetime)"
      ]
    },
    {
      "cell_type": "markdown",
      "metadata": {
        "id": "pcn48RSJ2Xnk"
      },
      "source": [
        "### Change Timezones\n",
        "\n"
      ]
    },
    {
      "cell_type": "code",
      "execution_count": 12,
      "metadata": {
        "id": "NKhJzcrC0lGY"
      },
      "outputs": [],
      "source": [
        "%%R\n",
        "df_clean <- df_clean %>%\n",
        "  mutate(\n",
        "    full_datetime_utc = with_tz(full_datetime, tzone = \"UTC\"),\n",
        "    full_datetime_tokyo = with_tz(full_datetime, tzone = \"Asia/Tokyo\")\n",
        "  )\n"
      ]
    },
    {
      "cell_type": "markdown",
      "metadata": {
        "id": "8c8IQylfWnMj"
      },
      "source": [
        "## Summary and Conlusions\n",
        "\n",
        "In this tutorial, we covered the basics of using the {lubridate} package for date and time manipulation in R. We learned how to parse inconsistent date formats, extract components like year, month, and weekday, filter and group data by date and time, construct new datetime values, and handle timezones. By the end of this tutorial, you should be able to:\n",
        "\n",
        "-   Parse inconsistent date formats\n",
        "-   Extract year, month, weekday, hour, minute, etc.\n",
        "-   Filter/group by date and time\n",
        "-   Construct and manipulate datetime values\n",
        "-   Handle timezones and rounding\n"
      ]
    },
    {
      "cell_type": "markdown",
      "metadata": {
        "id": "0Ovc25MJTsD8"
      },
      "source": [
        "## Resources\n",
        "\n",
        "-   [lubridate documentation](https://lubridate.tidyverse.org/)"
      ]
    }
  ],
  "metadata": {
    "colab": {
      "authorship_tag": "ABX9TyMIuFy95ZDn+LX+edTpjTG1",
      "include_colab_link": true,
      "provenance": [],
      "toc_visible": true
    },
    "kernelspec": {
      "display_name": "Python 3",
      "name": "python3"
    },
    "language_info": {
      "name": "python"
    }
  },
  "nbformat": 4,
  "nbformat_minor": 0
}
