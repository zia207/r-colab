{
  "cells": [
    {
      "cell_type": "markdown",
      "metadata": {
        "id": "view-in-github",
        "colab_type": "text"
      },
      "source": [
        "<a href=\"https://colab.research.google.com/github/zia207/r-colab/blob/main/NoteBook/R_Beginner/01-04-06-anova-r.ipynb\" target=\"_parent\"><img src=\"https://colab.research.google.com/assets/colab-badge.svg\" alt=\"Open In Colab\"/></a>"
      ]
    },
    {
      "cell_type": "markdown",
      "metadata": {
        "id": "MGoP0AbXEAUx"
      },
      "source": [
        "![alt text](http://drive.google.com/uc?export=view&id=1bLQ3nhDbZrCCqy_WCxxckOne2lgVvn3l)\n",
        "\n"
      ]
    },
    {
      "cell_type": "markdown",
      "source": [
        "# Analysis of Variance (ANOVA) with R\n",
        "\n",
        "ANOVA is widely used in various fields, including agriculture, biology, psychology, and social sciences, to analyze experimental data and draw conclusions about the effects of different treatments or factors on a response variable. Here  you will learn how to perform ANOVA in R.\n"
      ],
      "metadata": {
        "id": "Hqdl7ImjUvhr"
      }
    },
    {
      "cell_type": "markdown",
      "source": [
        "## Introduction"
      ],
      "metadata": {
        "id": "9CF93myGOZSC"
      }
    },
    {
      "cell_type": "markdown",
      "metadata": {
        "id": "kroLnhoOPPoV"
      },
      "source": [
        "Analysis of Variance (ANOVA) is a statistical technique used to compare the means of three or more groups, enabling us to determine whether there are significant differences between them. This method is widely used in research to help us understand whether the differences we observe among group means are due to genuine differences in the populations or simply random sampling variation.\n",
        "\n",
        "ANOVA works by breaking down the total variance observed in the data into different components: the variance between group means and the variance within each group. It then examines whether the between-group variance is significantly larger than the within-group variance. If it is, this indicates that there are real differences among the groups.\n",
        "\n",
        "There are various types of ANOVA, including one-way ANOVA, which compares the means of three or more groups on a single independent variable, and two-way ANOVA, which examines the influence of two independent variables. More complex designs, such as factorial ANOVA, can be used for multiple factors.\n",
        "\n",
        "During ANOVA, an F-statistic is generated, which compares the ratio of the between-group variance to the within-group variance. If the calculated F-value exceeds a critical value based on the chosen significance level, usually 0.05, it suggests that there is a statistically significant difference between at least two group means.\n",
        "\n",
        "Post-hoc tests, such as Tukey's HSD or Bonferroni correction, are often used after ANOVA to pinpoint which specific groups differ from each other if the overall ANOVA result is significant. It's important to note that ANOVA makes certain assumptions, such as the data following a normal distribution and the groups having equal variances. Violations of these assumptions may affect the reliability of the ANOVA results.\n",
        "\n",
        "Overall, ANOVA is a powerful tool for comparing means across multiple groups simultaneously. It's commonly used in various fields, such as psychology, biology, economics, and more to analyze experimental or observational data. By comparing group means, ANOVA helps us to understand the differences between groups and identify significant patterns in the data."
      ]
    },
    {
      "cell_type": "markdown",
      "source": [
        "ANOVA tests whether the means of **three or more groups** are statistically different. It decomposes the total variability into:\n",
        "\n",
        "1.  **Between-Group Variability (SSB)**: Differences due to group means.\n",
        "\n",
        "2.  **Within-Group Variability (SSW)**: Differences due to individual observations within groups.\n",
        "\n",
        "3.  **Sum of Squares Between (SSB)**:\n",
        "\n",
        "$$  SSB = \\sum_{i=1}^k n_i (\\bar{x}_i - \\bar{x}_{\\text{grand}})^2 $$\n",
        "\n",
        "where $n_i$ = sample size of group $i$, $\\bar{x}_i$ = mean of group $i$, $\\bar{x}_{\\text{grand}}$ = grand mean.\n",
        "\n",
        "2.  **Sum of Squares Within (SSW)**:\n",
        "\n",
        "$$SSW = \\sum_{i=1}^k \\sum_{j=1}^{n_i} (x_{ij} - \\bar{x}_i)^2$$\n",
        "\n",
        "3.  **Degrees of Freedom**:\n",
        "\n",
        "  -   Between groups: $df_{\\text{between}} = k - 1$\n",
        "  -   Within groups: $df_{\\text{within}} = N - k$\n",
        "\n",
        "4.  **Mean Squares**:\n",
        "\n",
        "  -   $MS_{\\text{between}} = SSB / df_{\\text{between}}$\n",
        "  -   $MS_{\\text{within}} = SSW / df_{\\text{within}}$\n",
        "\n",
        "5.  **F-Statistic**:\n",
        "\n",
        "$$F = \\frac{MS_{\\text{between}}}{MS_{\\text{within}}}$$"
      ],
      "metadata": {
        "id": "-CO1gqnj_z2M"
      }
    },
    {
      "cell_type": "markdown",
      "source": [
        "## Assumptions\n",
        "\n",
        "When conducting a research study with multiple groups, it is important to consider several factors to ensure accurate and reliable results. The first consideration is the **independence of the observations**. Each subject should belong to only one group, and there should be no relationship between the observations in each group. This means that having repeated measures for the same participants is not allowed, as this could introduce bias into the results.\n",
        "\n",
        "The second consideration is the **presence of any significant outliers** in any design cell. Outliers are observations that fall far outside the expected range of values and can significantly impact the results of the study. Identifying and removing any outliers before analyzing the data is important to ensure accurate results.\n",
        "\n",
        "The third consideration is **normality**. The data for each design cell should be approximately normally distributed, meaning that the data should follow a bell-shaped curve when plotted on a graph. Non-normal data can be transformed to meet this assumption, but this should be done carefully and with consideration of the impact on the results.\n",
        "\n",
        "Finally, it is important to ensure **homogeneity of variances**. This means that the variance of the outcome variable should be equal in every design cell. If the variances are not equal, the study results could be affected, and it may be necessary to use alternative statistical methods to analyze the data.\n"
      ],
      "metadata": {
        "id": "M8x3pUYIOGEa"
      }
    },
    {
      "cell_type": "markdown",
      "metadata": {
        "id": "CdQJ-mgsEU9J"
      },
      "source": [
        "## Install rpy2\n",
        "\n",
        "Easy way to run R in Colab with Python runtime using **rpy2** python package. We have to install this package using the `pip` command:"
      ]
    },
    {
      "cell_type": "code",
      "execution_count": 1,
      "metadata": {
        "id": "qOD7NpajDy5k",
        "colab": {
          "base_uri": "https://localhost:8080/"
        },
        "outputId": "3abb396c-ba8d-4efa-a951-dc7c63722a31"
      },
      "outputs": [
        {
          "output_type": "stream",
          "name": "stdout",
          "text": [
            "Found existing installation: rpy2 3.5.17\n",
            "Uninstalling rpy2-3.5.17:\n",
            "  Successfully uninstalled rpy2-3.5.17\n",
            "Collecting rpy2==3.5.1\n",
            "  Downloading rpy2-3.5.1.tar.gz (201 kB)\n",
            "\u001b[2K     \u001b[90m━━━━━━━━━━━━━━━━━━━━━━━━━━━━━━━━━━━━━━\u001b[0m \u001b[32m201.7/201.7 kB\u001b[0m \u001b[31m10.0 MB/s\u001b[0m eta \u001b[36m0:00:00\u001b[0m\n",
            "\u001b[?25h  Preparing metadata (setup.py) ... \u001b[?25l\u001b[?25hdone\n",
            "Requirement already satisfied: cffi>=1.10.0 in /usr/local/lib/python3.11/dist-packages (from rpy2==3.5.1) (1.17.1)\n",
            "Requirement already satisfied: jinja2 in /usr/local/lib/python3.11/dist-packages (from rpy2==3.5.1) (3.1.6)\n",
            "Requirement already satisfied: pytz in /usr/local/lib/python3.11/dist-packages (from rpy2==3.5.1) (2025.2)\n",
            "Requirement already satisfied: tzlocal in /usr/local/lib/python3.11/dist-packages (from rpy2==3.5.1) (5.3.1)\n",
            "Requirement already satisfied: pycparser in /usr/local/lib/python3.11/dist-packages (from cffi>=1.10.0->rpy2==3.5.1) (2.22)\n",
            "Requirement already satisfied: MarkupSafe>=2.0 in /usr/local/lib/python3.11/dist-packages (from jinja2->rpy2==3.5.1) (3.0.2)\n",
            "Building wheels for collected packages: rpy2\n",
            "  Building wheel for rpy2 (setup.py) ... \u001b[?25l\u001b[?25hdone\n",
            "  Created wheel for rpy2: filename=rpy2-3.5.1-cp311-cp311-linux_x86_64.whl size=314976 sha256=9778d5ddbabd22e9bf7a660f434dba3895e9fe6f22b19851950f1af98dfd3ed3\n",
            "  Stored in directory: /root/.cache/pip/wheels/e9/55/d1/47be85a5f3f1e1f4d1e91cb5e3a4dcb40dd72147f184c5a5ef\n",
            "Successfully built rpy2\n",
            "Installing collected packages: rpy2\n",
            "Successfully installed rpy2-3.5.1\n"
          ]
        }
      ],
      "source": [
        "!pip uninstall rpy2 -y\n",
        "! pip install rpy2==3.5.1\n",
        "%load_ext rpy2.ipython"
      ]
    },
    {
      "cell_type": "markdown",
      "metadata": {
        "id": "qmEDD0ccEurf"
      },
      "source": [
        "##  Mount Google Drive\n",
        "\n",
        "Then you must create a folder in Goole drive named \"R\" to install all packages permanently. Before installing R-package in Python runtime. You have to mount Google Drive and follow on-screen instruction:"
      ]
    },
    {
      "cell_type": "code",
      "execution_count": 2,
      "metadata": {
        "id": "lClKZUW1Eu_G",
        "colab": {
          "base_uri": "https://localhost:8080/"
        },
        "outputId": "237d2562-7ec2-4520-c97a-32043628afec"
      },
      "outputs": [
        {
          "output_type": "stream",
          "name": "stdout",
          "text": [
            "Mounted at /content/drive\n"
          ]
        }
      ],
      "source": [
        "from google.colab import drive\n",
        "drive.mount('/content/drive')"
      ]
    },
    {
      "cell_type": "markdown",
      "source": [
        "## ANOVA from scratch\n",
        "\n"
      ],
      "metadata": {
        "id": "bzplFO_2_5kq"
      }
    },
    {
      "cell_type": "markdown",
      "source": [
        "### Generate Synthetic Data"
      ],
      "metadata": {
        "id": "_C_XwWF1_8sf"
      }
    },
    {
      "cell_type": "code",
      "source": [
        "%%R\n",
        "# Set seed for reproducibility\n",
        "set.seed(123)\n",
        "\n",
        "# Create synthetic data with 3 groups\n",
        "group1 <- rnorm(10, mean = 5, sd = 1.5)  # Group 1: mean = 5\n",
        "group2 <- rnorm(10, mean = 6, sd = 1.5)  # Group 2: mean = 6\n",
        "group3 <- rnorm(10, mean = 7, sd = 1.5)  # Group 3: mean = 7\n",
        "\n",
        "# Combine into a data frame\n",
        "data <- data.frame(\n",
        "  weight = c(group1, group2, group3),\n",
        "  group = factor(rep(c(\"Group1\", \"Group2\", \"Group3\"), each = 10))\n",
        ")\n",
        "\n",
        "# View the first few rows\n",
        "head(data)"
      ],
      "metadata": {
        "colab": {
          "base_uri": "https://localhost:8080/"
        },
        "id": "91qEuxuLACQS",
        "outputId": "213072db-0367-400a-baef-bbc670cf7ff1"
      },
      "execution_count": 3,
      "outputs": [
        {
          "output_type": "stream",
          "name": "stdout",
          "text": [
            "    weight  group\n",
            "1 4.159287 Group1\n",
            "2 4.654734 Group1\n",
            "3 7.338062 Group1\n",
            "4 5.105763 Group1\n",
            "5 5.193932 Group1\n",
            "6 7.572597 Group1\n"
          ]
        }
      ]
    },
    {
      "cell_type": "markdown",
      "source": [
        "### Perform Manual ANOVA"
      ],
      "metadata": {
        "id": "U40iSZb9AFPr"
      }
    },
    {
      "cell_type": "code",
      "source": [
        "%%R\n",
        "# Extract response and split by group\n",
        "response <- data$weight\n",
        "groups <- split(response, data$group)\n",
        "\n",
        "# Compute grand mean and group statistics\n",
        "grand_mean <- mean(response)\n",
        "k <- length(groups)          # Number of groups (3)\n",
        "n_total <- length(response)  # Total sample size (30)\n",
        "\n",
        "# Calculate SSB (Between-Group Sum of Squares)\n",
        "group_means <- sapply(groups, mean)  # Group means: Group1, Group2, Group3\n",
        "group_n <- sapply(groups, length)    # Sample sizes per group (all 10)\n",
        "ssb <- sum(group_n * (group_means - grand_mean)^2)\n",
        "\n",
        "# Calculate SSW (Within-Group Sum of Squares)\n",
        "ssw <- sum(sapply(groups, function(x) sum((x - mean(x))^2)))\n",
        "\n",
        "# Degrees of Freedom\n",
        "df_between <- k - 1   # 3 - 1 = 2\n",
        "df_within <- n_total - k  # 30 - 3 = 27\n",
        "\n",
        "# Mean Squares\n",
        "ms_between <- ssb / df_between\n",
        "ms_within <- ssw / df_within\n",
        "\n",
        "# F-Statistic and P-Value\n",
        "f_value <- ms_between / ms_within\n",
        "p_value <- pf(f_value, df_between, df_within, lower.tail = FALSE)\n",
        "\n",
        "# Assemble ANOVA Table\n",
        "anova_table <- data.frame(\n",
        "  Source = c(\"Between Groups\", \"Within Groups\"),\n",
        "  SS = c(ssb, ssw),\n",
        "  df = c(df_between, df_within),\n",
        "  MS = c(ms_between, ms_within),\n",
        "  F = c(f_value, NA),\n",
        "  p.value = c(p_value, NA)\n",
        ")\n",
        "\n",
        "print(anova_table)"
      ],
      "metadata": {
        "colab": {
          "base_uri": "https://localhost:8080/"
        },
        "id": "HZHLg8gaAGFX",
        "outputId": "3c3a4554-0333-4723-eae2-c88d22747347"
      },
      "execution_count": 4,
      "outputs": [
        {
          "output_type": "stream",
          "name": "stdout",
          "text": [
            "          Source       SS df      MS        F   p.value\n",
            "1 Between Groups 10.03490  2 5.01745 2.344297 0.1151386\n",
            "2  Within Groups 57.78755 27 2.14028       NA        NA\n"
          ]
        }
      ]
    },
    {
      "cell_type": "markdown",
      "source": [
        "###  Validation with Built-in `aov()`"
      ],
      "metadata": {
        "id": "dyyMDBzkAL-0"
      }
    },
    {
      "cell_type": "code",
      "source": [
        "%%R\n",
        "# Validate using R's built-in ANOVA\n",
        "summary(aov(weight ~ group, data = data))"
      ],
      "metadata": {
        "colab": {
          "base_uri": "https://localhost:8080/"
        },
        "id": "XtmSbJz3AOaw",
        "outputId": "5ab43af1-f6bb-4710-be22-c5d12bb4c033"
      },
      "execution_count": 5,
      "outputs": [
        {
          "output_type": "stream",
          "name": "stdout",
          "text": [
            "            Df Sum Sq Mean Sq F value Pr(>F)\n",
            "group        2  10.03   5.017   2.344  0.115\n",
            "Residuals   27  57.79   2.140               \n"
          ]
        }
      ]
    },
    {
      "cell_type": "markdown",
      "source": [
        "## ANOVA with R"
      ],
      "metadata": {
        "id": "jTtjXwrqARR8"
      }
    },
    {
      "cell_type": "markdown",
      "source": [
        "## Required R Packages\n",
        "\n",
        "In these exercise we will use following R-Packages:\n",
        "\n",
        "[tydyverse](https://www.tidyverse.org/): The tidyverse is a collection of R packages designed for data science.\n",
        "\n",
        "[ggstatsplot](https://indrajeetpatil.github.io/ggstatsplot/): ggplot2 based lots with statistical details\n",
        "\n",
        "[GGally](https://ggobi.github.io/ggally/): GGally extends ggplot2 by adding several functions to reduce the complexity of combining geoms with transformed data.\n",
        "\n",
        "[ggExtra](https://cran.r-project.org/web/packages/ggExtra/vignettes/ggExtra.html):Add marginal histograms to ggplot2\n",
        "\n",
        "[ggside](https://cran.r-project.org/web/packages/ggside/vignettes/ggside_basic_usage.html): The package ggside was designed to enable users to add metadata to their ggplots with ease.\n",
        "\n",
        "[patchwork](https://patchwork.data-imaginist.com/):The goal of patchwork is to make it ridiculously simple to combine separate ggplots into the same graphic.\n",
        "\n",
        "[gridExtra](https://cran.r-project.org/web/packages/gridExtra/vignettes/arrangeGrob.html):The grid package provides low-level functions to create graphical objects (grobs), and position them on a page in specific viewports.\n",
        "\n",
        "[rstatix](https://rpkgs.datanovia.com/rstatix/): Provides a simple and intuitive pipe-friendly framework, coherent with the 'tidyverse' design philosophy, for performing basic statistical tests, including t-test, Wilcoxon test, ANOVA, Kruskal-Wallis and correlation analyses.\n",
        "\n"
      ],
      "metadata": {
        "id": "O8mTSRI-GknP"
      }
    },
    {
      "cell_type": "markdown",
      "source": [
        "### Check and Install Required Packages"
      ],
      "metadata": {
        "id": "eu4HP8ByAXUI"
      }
    },
    {
      "cell_type": "code",
      "source": [
        "%%R\n",
        "packages <-  c('tidyverse',\n",
        "         'rstatix',\n",
        "         'ggstatsplot',\n",
        "         'GGally',\n",
        "         'ggExtra',\n",
        "         'ggside',\n",
        "         'patchwork',\n",
        "         'gridExtra',\n",
        "         'report',\n",
        "         'patchwork'\n",
        "         )"
      ],
      "metadata": {
        "id": "JbN1rkO7Gh2j"
      },
      "execution_count": 6,
      "outputs": []
    },
    {
      "cell_type": "code",
      "source": [
        "# Install missing packages\n",
        "new.packages <- packages[!(packages %in% installed.packages(lib='drive/My Drive/R/')[,\"Package\"])]\n",
        "if(length(new.packages)) install.packages(new.packages, lib='drive/My Drive/R/')\n",
        "\n",
        "# Verify installation\n",
        "cat(\"Installed packages:\\n\")\n",
        "print(sapply(packages, requireNamespace, quietly = TRUE))"
      ],
      "metadata": {
        "id": "0e3xAPBTAafA"
      },
      "execution_count": null,
      "outputs": []
    },
    {
      "cell_type": "markdown",
      "source": [
        "### Load Packages"
      ],
      "metadata": {
        "id": "DjDmVyITGsDh"
      }
    },
    {
      "cell_type": "code",
      "source": [
        "%%R\n",
        "# set library path\n",
        ".libPaths('drive/My Drive/R')\n",
        "# Load packages with suppressed messages\n",
        "invisible(lapply(packages, function(pkg) {\n",
        "  suppressPackageStartupMessages(library(pkg, character.only = TRUE))\n",
        "}))\n"
      ],
      "metadata": {
        "id": "9Pn9zXgyGsMM"
      },
      "execution_count": 8,
      "outputs": []
    },
    {
      "cell_type": "code",
      "source": [
        "%%R\n",
        "# Check loaded packages\n",
        "cat(\"Successfully loaded packages:\\n\")\n",
        "print(search()[grepl(\"package:\", search())])"
      ],
      "metadata": {
        "colab": {
          "base_uri": "https://localhost:8080/"
        },
        "id": "paBQeOH9Btzp",
        "outputId": "af10ec60-0e57-458e-f5a0-5645e6c21a80"
      },
      "execution_count": 9,
      "outputs": [
        {
          "output_type": "stream",
          "name": "stdout",
          "text": [
            "Successfully loaded packages:\n",
            " [1] \"package:report\"      \"package:gridExtra\"   \"package:patchwork\"  \n",
            " [4] \"package:ggside\"      \"package:ggExtra\"     \"package:GGally\"     \n",
            " [7] \"package:ggstatsplot\" \"package:rstatix\"     \"package:lubridate\"  \n",
            "[10] \"package:forcats\"     \"package:stringr\"     \"package:dplyr\"      \n",
            "[13] \"package:purrr\"       \"package:readr\"       \"package:tidyr\"      \n",
            "[16] \"package:tibble\"      \"package:ggplot2\"     \"package:tidyverse\"  \n",
            "[19] \"package:tools\"       \"package:stats\"       \"package:graphics\"   \n",
            "[22] \"package:grDevices\"   \"package:utils\"       \"package:datasets\"   \n",
            "[25] \"package:methods\"     \"package:base\"       \n"
          ]
        }
      ]
    },
    {
      "cell_type": "markdown",
      "source": [
        "## Data\n",
        "\n",
        "In this exercise, we will create a data frame randomly with four treatments, six varieties, and four replications (Total 96 observation).\n"
      ],
      "metadata": {
        "id": "pcn48RSJ2Xnk"
      }
    },
    {
      "cell_type": "code",
      "source": [
        "%%R\n",
        "#| warning: false\n",
        "#| error: false\n",
        "\n",
        "# Set the number of observations, treatments, replications, and varieties\n",
        "n <- 1\n",
        "treatments <- 4\n",
        "replications <- 4\n",
        "varieties <- 6\n",
        "# Create an empty data frame with columns for treatment, replication, variety, and observation\n",
        "exp.df <- data.frame(\n",
        "  Treatment = character(),\n",
        "  Replication = integer(),\n",
        "  Variety = character(),\n",
        "  Yield = numeric(),\n",
        "  stringsAsFactors = FALSE\n",
        ")\n",
        "# Generate random data for each treatment, replication, and variety combination\n",
        "for (t in 1:treatments) {\n",
        "  for (r in 1:replications) {\n",
        "    for (v in 1:varieties) {\n",
        "      # Generate n random observations for the current combination of treatment, replication, and variety\n",
        "      obs <- rnorm(n, mean = 3*t + 0.95*r + 0.90*v, sd = 0.25)\n",
        "\n",
        "      # Add the observations to the data frame\n",
        "      set.seeds= 1256\n",
        "      exp.df <- rbind(exp.df, data.frame(\n",
        "        Treatment = paste0(\"T\", t),\n",
        "        Replication = r,\n",
        "        Variety = paste0(\"V\", v),\n",
        "        Yield = obs\n",
        "      ))\n",
        "    }\n",
        "  }\n",
        "}\n",
        "\n",
        "# Print the first 10 rows of the data frame\n",
        "glimpse(exp.df)"
      ],
      "metadata": {
        "colab": {
          "base_uri": "https://localhost:8080/"
        },
        "id": "NKhJzcrC0lGY",
        "outputId": "7f77a241-e6d1-4039-e3a6-057ec0f98c35"
      },
      "execution_count": null,
      "outputs": [
        {
          "output_type": "stream",
          "name": "stdout",
          "text": [
            "Rows: 96\n",
            "Columns: 4\n",
            "$ Treatment   <chr> \"T1\", \"T1\", \"T1\", \"T1\", \"T1\", \"T1\", \"T1\", \"T1\", \"T1\", \"T1\"…\n",
            "$ Replication <int> 1, 1, 1, 1, 1, 1, 2, 2, 2, 2, 2, 2, 3, 3, 3, 3, 3, 3, 4, 4…\n",
            "$ Variety     <chr> \"V1\", \"V2\", \"V3\", \"V4\", \"V5\", \"V6\", \"V1\", \"V2\", \"V3\", \"V4\"…\n",
            "$ Yield       <dbl> 4.925422, 5.834368, 6.349863, 7.955016, 8.624773, 9.455805…\n"
          ]
        }
      ]
    },
    {
      "cell_type": "markdown",
      "source": [
        "## One-way analysis of variance (ANOVA)\n",
        "\n",
        "The one-way analysis of variance (ANOVA) is used to determine whether there are any statistically significant differences between the means of two or more independent (unrelated) groups. The one-way analysis of variance (ANOVA) is a statistical test used to determine whether there are any statistically significant differences between the means of three or more independent groups.\n",
        "\n",
        "The formula for the one-way ANOVA F-statistic is as follows:\n",
        "\n",
        "$$ F = \\frac{MSB}{MSW} $$\n",
        "\n",
        "-   Where:\n",
        "    -   $F$ is the F-statistic.\n",
        "    -   $MSB$ is the Mean Square Between (variability between group means).\n",
        "    -   $MSW$ is the Mean Square Within (variability within each group).\n",
        "\n",
        "**Mean Square Between (MSB):**\n",
        "\n",
        "$$ MSB = \\frac{\\sum_{i=1}^{k} n_i(\\bar{X}_i - \\bar{X})^2}{k-1} $$\n",
        "\n",
        "-   Where:\n",
        "    -   $k$ is the number of groups.\n",
        "    -   $n_i$ is the number of observations in group $i$.\n",
        "    -   $\\bar{X}_i$ is the mean of group $i$.\n",
        "    -   $\\bar{X}$ is the overall mean.\n",
        "\n",
        "**Mean Square Within (MSW):**\n",
        "\n",
        "$$ MSW = \\frac{\\sum_{i=1}^{k} \\sum_{j=1}^{n_i} (X_{ij} - \\bar{X}_i)^2}{N-k} $$\n",
        "\n",
        "-   Where:\n",
        "    -   $N$ is the total number of observations across all groups.\n",
        "    -   $X_{ij}$ is the $j^{th}$ observation in group $i$.\n",
        "    -   $\\bar{X}_i$ is the mean of group $i$.\n",
        "\n",
        "In these formulas, $\\bar{X}_i$ represents the mean of each group, $n_i$ is the number of observations in each group, and $k$ is the number of groups. The F-statistic is used to assess whether the variability between group means $MSB$ is significantly larger than the variability within each group $MSW$, indicating whether there are significant differences between at least two group means.\n",
        "\n",
        "The output of an ANOVA test includes an `F-statistic`, which is a measure of the difference between the groups, and a `p-value`, which indicates the probability of obtaining the observed difference by chance. If the `p-value` is less than a chosen significance level (typically 0.05), then the null hypothesis, which states that there is no significant difference between the means of the groups, can be rejected.\n"
      ],
      "metadata": {
        "id": "8FyowqdjJ2Xt"
      }
    },
    {
      "cell_type": "markdown",
      "source": [
        "ANOVA in R can be performed using the built-in `aov()` function. This function takes a formula as an argument, where the dependent variable is on the left side of the tilde (\\~), and the independent variables are on the right side, separated by +. We will use dataset we have created before to see the main effect of treatment on yield."
      ],
      "metadata": {
        "id": "BRGROR4XfQvc"
      }
    },
    {
      "cell_type": "code",
      "source": [
        "%%R\n",
        "anova.one=aov (Yield ~Treatment, data = exp.df) # analysis variance\n",
        "anova (anova.one)"
      ],
      "metadata": {
        "colab": {
          "base_uri": "https://localhost:8080/"
        },
        "id": "3KVqfgEwJ1xU",
        "outputId": "f006f131-ea35-4ea0-f44f-ec5602bf1839"
      },
      "execution_count": null,
      "outputs": [
        {
          "output_type": "stream",
          "name": "stdout",
          "text": [
            "Analysis of Variance Table\n",
            "\n",
            "Response: Yield\n",
            "          Df  Sum Sq Mean Sq F value    Pr(>F)    \n",
            "Treatment  3 1073.68  357.89  98.446 < 2.2e-16 ***\n",
            "Residuals 92  334.46    3.64                      \n",
            "---\n",
            "Signif. codes:  0 ‘***’ 0.001 ‘**’ 0.01 ‘*’ 0.05 ‘.’ 0.1 ‘ ’ 1\n"
          ]
        }
      ]
    },
    {
      "cell_type": "markdown",
      "source": [
        "A nice and easy way to report results of an ANOVA in R is with the `report()` function from the **report** package"
      ],
      "metadata": {
        "id": "ppUxxvFUfaPg"
      }
    },
    {
      "cell_type": "code",
      "source": [
        "%%R\n",
        "report(anova.one)"
      ],
      "metadata": {
        "colab": {
          "base_uri": "https://localhost:8080/"
        },
        "id": "cO0cX1vOfbI_",
        "outputId": "02d827d8-ec9f-4c46-8508-c8abe954bbca"
      },
      "execution_count": null,
      "outputs": [
        {
          "output_type": "stream",
          "name": "stdout",
          "text": [
            "The ANOVA (formula: Yield ~ Treatment) suggests that:\n",
            "\n",
            "  - The main effect of Treatment is statistically significant and large (F(3, 92)\n",
            "= 98.45, p < .001; Eta2 = 0.76, 95% CI [0.69, 1.00])\n",
            "\n",
            "Effect sizes were labelled following Field's (2013) recommendations.\n"
          ]
        }
      ]
    },
    {
      "cell_type": "markdown",
      "source": [
        "## Two-way ANOVA\n",
        "\n",
        "Two-way ANOVA (analysis of variance) or factorial ANOVA is a statistical method used to analyze the effects of two categorical independent variables, or factors, or continuous dependent variables. It tests for the main effects of each factor and their interaction effect.\n",
        "\n",
        "In a two-way ANOVA, we consider the effects of two categorical independent variables on a continuous dependent variable. The general formula for the observed value $Y_{ijk}$ in a two-way ANOVA is as follows:\n",
        "\n",
        "$$ Y_{ijk} = \\mu + \\alpha_i + \\beta_j + (\\alpha \\beta)_{ij} + \\epsilon_{ijk} $$\n",
        "\n",
        "Where: - $Y_{ijk}$ is the observed value for the $i^{th}$ level of the first independent variable, the $j^{th}$ level of the second independent variable, and the $k^{th}$ observation. - $\\mu$ is the overall mean. - $\\alpha_i$ represents the effect of the $i^{th}$ level of the first independent variable. - $\\beta_j$ represents the effect of the $j^{th}$ level of the second independent variable. - $(\\alpha \\beta)_{ij}$ is the interaction effect between the $i^{th}$ level of the first independent variable and the $j^{th}$ level of the second independent variable. - $\\epsilon_{ijk}$ is the random error term.\n",
        "\n",
        "Now, let's expand the terms for each effect:\n",
        "\n",
        "1.  **Overall Mean (**$\\mu$):\n",
        "\n",
        "$$ \\mu = \\frac{\\sum_{i=1}^{a} \\sum_{j=1}^{b} \\sum_{k=1}^{n} Y_{ijk}}{a \\cdot b \\cdot n} $$ Where: - $a$ is the number of levels in the first independent variable. - $b$ is the number of levels in the second independent variable. - $n$ is the number of observations in each cell.\n",
        "\n",
        "2.  **Main Effects:**\n",
        "    -   **Main Effect of the First Independent Variable (**$\\alpha_i$): $$ \\alpha_i = \\frac{\\sum_{j=1}^{b} \\sum_{k=1}^{n} Y_{ijk}}{b \\cdot n} - \\mu $$\n",
        "\n",
        "    -   **Main Effect of the Second Independent Variable (**$\\beta_j$): $$ \\beta_j = \\frac{\\sum_{i=1}^{a} \\sum_{k=1}^{n} Y_{ijk}}{a \\cdot n} - \\mu $$\n",
        "3.  **Interaction Effect (**$\\alpha \\beta)_{ij}$):\n",
        "\n",
        "$$ (\\alpha \\beta)_{ij} = \\frac{\\sum_{k=1}^{n} Y_{ijk}}{n} - \\left(\\mu + \\alpha_i + \\beta_j\\right) $$\n",
        "\n",
        "\n",
        "4.  **Error Term (**$\\epsilon_{ijk}$): $$ \\epsilon_{ijk} = Y_{ijk} - \\left(\\mu + \\alpha_i + \\beta_j + (\\alpha \\beta)_{ij}\\right) $$\n",
        "\n",
        "In these formulas, $Y_{ijk}$ represents the observed values, $\\mu$ is the overall mean, $\\alpha_i$ and $\\beta_j$ are the main effects, $(\\alpha \\beta)_{ij}$) is the interaction effect, and $\\epsilon_{ijk}$ is the random error term. These effects help explain the variability in the observed values due to the independent variables and their interaction. The goal of two-way ANOVA is to test the significance of these effects."
      ],
      "metadata": {
        "id": "TUVQPkZtLMb-"
      }
    },
    {
      "cell_type": "markdown",
      "source": [
        "Here is an example code for a two-way ANOVA with one dependent variable (Yield), and two independent variables (Treatment and Variety) with interaction effect:"
      ],
      "metadata": {
        "id": "PoK9d5N0EIlS"
      }
    },
    {
      "cell_type": "code",
      "source": [
        "%%R\n",
        "anova.two =aov (Yield ~Treatment + Variety+ Treatment:Variety, data = exp.df)\n",
        "anova (anova.two)"
      ],
      "metadata": {
        "colab": {
          "base_uri": "https://localhost:8080/"
        },
        "id": "jTCTOQuHJ0TK",
        "outputId": "0c64079d-36c7-4177-c77a-83a0c27c43f6"
      },
      "execution_count": null,
      "outputs": [
        {
          "output_type": "stream",
          "name": "stdout",
          "text": [
            "Analysis of Variance Table\n",
            "\n",
            "Response: Yield\n",
            "                  Df  Sum Sq Mean Sq  F value Pr(>F)    \n",
            "Treatment          3 1073.68  357.89 239.1254 <2e-16 ***\n",
            "Variety            5  226.19   45.24  30.2254 <2e-16 ***\n",
            "Treatment:Variety 15    0.51    0.03   0.0227      1    \n",
            "Residuals         72  107.76    1.50                    \n",
            "---\n",
            "Signif. codes:  0 ‘***’ 0.001 ‘**’ 0.01 ‘*’ 0.05 ‘.’ 0.1 ‘ ’ 1\n"
          ]
        }
      ]
    },
    {
      "cell_type": "markdown",
      "source": [
        "From the ANOVA table we can conclude that both Treatment and Variety statistically significant."
      ],
      "metadata": {
        "id": "6lniYQBJhq6w"
      }
    },
    {
      "cell_type": "code",
      "source": [
        "%%R\n",
        "report(anova.two)"
      ],
      "metadata": {
        "colab": {
          "base_uri": "https://localhost:8080/"
        },
        "id": "_lMkhutwhslk",
        "outputId": "0fb7627b-0237-44eb-bf61-11d79e55f65f"
      },
      "execution_count": null,
      "outputs": [
        {
          "output_type": "stream",
          "name": "stdout",
          "text": [
            "The ANOVA (formula: Yield ~ Treatment + Variety + Treatment:Variety) suggests\n",
            "that:\n",
            "\n",
            "  - The main effect of Treatment is statistically significant and large (F(3, 72)\n",
            "= 239.13, p < .001; Eta2 (partial) = 0.91, 95% CI [0.88, 1.00])\n",
            "  - The main effect of Variety is statistically significant and large (F(5, 72) =\n",
            "30.23, p < .001; Eta2 (partial) = 0.68, 95% CI [0.57, 1.00])\n",
            "  - The interaction between Treatment and Variety is statistically not\n",
            "significant and very small (F(15, 72) = 0.02, p > .999; Eta2 (partial) =\n",
            "4.72e-03, 95% CI [0.00, 1.00])\n",
            "\n",
            "Effect sizes were labelled following Field's (2013) recommendations.\n"
          ]
        }
      ]
    },
    {
      "cell_type": "markdown",
      "source": [
        "\n",
        "## Multiple Comparisons\n",
        "\n",
        "After performing an ANOVA, if the overall F-test is significant, we may want to determine which groups differ significantly from each other in terms of the dependent variable. This can be done using post-hoc tests or multiple comparison tests.\n",
        "\n",
        "When conducting a study with three or more groups and analyzing the data using ANOVA or a similar statistical test, you may encounter a significant difference among the group means. However, this result does not provide information about which specific pairs of group means differ significantly from each other. To identify these differences, you can use multiple comparison procedures.\n",
        "\n",
        "Multiple comparisons refer to a set of statistical techniques that allow you to conduct pairwise comparisons between the means of different groups in a study. These comparisons are performed after a significant result in ANOVA or a similar test and help you identify which specific groups have significantly different means.\n",
        "\n",
        "There are several ways to perform multiple comparisons, including **pairwise t-tests**, **Tukey's HSD test**, **Scheffe's test** and **Bonferroni correction**. Each procedure has its strengths and weaknesses, and the choice of which one to use depends on various factors, such as the number of groups being compared and the desired level of statistical significance.\n",
        "\n",
        "Using multiple comparison procedures is crucial in statistical analysis as it helps you avoid making false conclusions by controlling the overall risk of making a **Type I error**. By identifying which specific pairs of group means are significantly different from each other, you can gain a more comprehensive understanding of your data, which can inform future research and decision-making.\n"
      ],
      "metadata": {
        "id": "zyHdJ__JzT72"
      }
    },
    {
      "cell_type": "markdown",
      "source": [
        "### Tukey's Honestly Significant Difference (HSD) test\n",
        "\n",
        "Tukey's Honestly Significant Difference (HSD) test is a powerful statistical method that is commonly used in experimental research to compare multiple groups and determine if their means significantly differ from each other. One of the major advantages of the HSD test is that it controls the familywise error rate, which means it helps to reduce the likelihood of making a type I error (false positive) when comparing groups. This is achieved by providing a confidence interval that helps to identify which pairs of group means differ significantly from each other, while maintaining an appropriate level of statistical significance. Overall, Tukey's HSD test is a reliable tool that can help researchers make accurate and informed decisions when analyzing experimental data.\n",
        "\n",
        "In R, the `TukeyHSD()` function can be used to perform **Tukey's HSD test**, which returns a table of pairwise comparisons between the groups, along with the adjusted p-values:"
      ],
      "metadata": {
        "id": "QVRnRgh3h149"
      }
    },
    {
      "cell_type": "code",
      "source": [
        "%%R\n",
        "# one-way anova\n",
        "tukey.one <- TukeyHSD(anova.one)\n",
        "tukey.one"
      ],
      "metadata": {
        "colab": {
          "base_uri": "https://localhost:8080/"
        },
        "id": "kN21Zp61zVmx",
        "outputId": "9d9dc5b5-6b08-452f-a732-662be2f50cda"
      },
      "execution_count": null,
      "outputs": [
        {
          "output_type": "stream",
          "name": "stdout",
          "text": [
            "  Tukey multiple comparisons of means\n",
            "    95% family-wise confidence level\n",
            "\n",
            "Fit: aov(formula = Yield ~ Treatment, data = exp.df)\n",
            "\n",
            "$Treatment\n",
            "          diff      lwr       upr   p adj\n",
            "T2-T1 3.063630 1.623413  4.503846 1.5e-06\n",
            "T3-T1 6.006345 4.566128  7.446561 0.0e+00\n",
            "T4-T1 8.989481 7.549265 10.429697 0.0e+00\n",
            "T3-T2 2.942715 1.502499  4.382932 3.8e-06\n",
            "T4-T2 5.925851 4.485635  7.366068 0.0e+00\n",
            "T4-T3 2.983136 1.542920  4.423353 2.8e-06\n",
            "\n"
          ]
        }
      ]
    },
    {
      "cell_type": "markdown",
      "source": [
        "The table shows the differences between the groups and the 95% confidence intervals for each difference. If the confidence interval does not include zero, the difference between the groups is significant at the specified level.\n"
      ],
      "metadata": {
        "id": "8OuQ7mZ7E2OP"
      }
    },
    {
      "cell_type": "code",
      "source": [
        "%%R\n",
        "# two-way ANOVA\n",
        "tukey.two <- TukeyHSD(anova.two)\n",
        "head(tukey.two$`Treatment:Variety`, 20)\n"
      ],
      "metadata": {
        "colab": {
          "base_uri": "https://localhost:8080/"
        },
        "id": "pK9Hjeb0zLcH",
        "outputId": "5cf8dbac-aab2-4807-d0d2-5b5035a3ebf2"
      },
      "execution_count": null,
      "outputs": [
        {
          "output_type": "stream",
          "name": "stdout",
          "text": [
            "                 diff        lwr       upr        p adj\n",
            "T2:V1-T1:V1  3.013852 -0.2575293  6.285234 1.109686e-01\n",
            "T3:V1-T1:V1  5.986678  2.7152963  9.258060 4.104345e-07\n",
            "T4:V1-T1:V1  8.975455  5.7040737 12.246837 0.000000e+00\n",
            "T1:V2-T1:V1  0.991701 -2.2796807  4.263083 9.999629e-01\n",
            "T2:V2-T1:V1  4.108640  0.8372584  7.380022 2.200279e-03\n",
            "T3:V2-T1:V1  6.870753  3.5993711 10.142134 5.228930e-09\n",
            "T4:V2-T1:V1  9.950296  6.6789146 13.221678 0.000000e+00\n",
            "T1:V3-T1:V1  1.945957 -1.3254248  5.217339 8.312449e-01\n",
            "T2:V3-T1:V1  4.943624  1.6722419  8.215005 5.758941e-05\n",
            "T3:V3-T1:V1  7.872391  4.6010088 11.143772 0.000000e+00\n",
            "T4:V3-T1:V1 10.903898  7.6325168 14.175280 0.000000e+00\n",
            "T1:V4-T1:V1  2.568285 -0.7030968  5.839667 3.415321e-01\n",
            "T2:V4-T1:V1  5.899541  2.6281592  9.170923 6.266847e-07\n",
            "T3:V4-T1:V1  8.886162  5.6147806 12.157544 0.000000e+00\n",
            "T4:V4-T1:V1 11.823740  8.5523586 15.095122 0.000000e+00\n",
            "T1:V5-T1:V1  3.673013  0.4016314  6.944395 1.218768e-02\n",
            "T2:V5-T1:V1  6.535766  3.2643846  9.807148 2.774338e-08\n",
            "T3:V5-T1:V1  9.644078  6.3726959 12.915459 0.000000e+00\n",
            "T4:V5-T1:V1 12.431978  9.1605960 15.703359 0.000000e+00\n",
            "T1:V6-T1:V1  4.540013  1.2686313  7.811395 3.515913e-04\n"
          ]
        }
      ]
    },
    {
      "cell_type": "markdown",
      "source": [
        "Instead of printing the TukeyHSD results in a table, we’ll do it in a graph"
      ],
      "metadata": {
        "id": "3mGilzmrXPO9"
      }
    },
    {
      "cell_type": "code",
      "source": [
        "%%R -w 400 -h 400 -u px\n",
        "# with plot() function\n",
        "plot(tukey.one)\n"
      ],
      "metadata": {
        "colab": {
          "base_uri": "https://localhost:8080/",
          "height": 417
        },
        "id": "4OOhwWP40Loc",
        "outputId": "a243641a-6699-44af-8657-0a563b6d9354"
      },
      "execution_count": null,
      "outputs": [
        {
          "output_type": "display_data",
          "data": {
            "image/png": "[encoded data removed]"
          },
          "metadata": {}
        }
      ]
    },
    {
      "cell_type": "markdown",
      "source": [
        "### Pairewise t-test\n",
        "\n",
        "The `pairwise.t.test()` function can be used to perform Bonferroni correction or other multiple comparison tests. For example, to perform pairwise comparisons using Bonferroni correction, we can use:"
      ],
      "metadata": {
        "id": "nfFxl4_t0Tzc"
      }
    },
    {
      "cell_type": "code",
      "source": [
        "%%R -w 500 -h 400 -u px\n",
        "\n",
        "pairwise.t.test(exp.df$Yield, exp.df$Treatment,\n",
        "                 p.adjust.method = \"bonferroni\",\n",
        "                 paired=FALSE)"
      ],
      "metadata": {
        "colab": {
          "base_uri": "https://localhost:8080/"
        },
        "id": "yvEB5Hfj0UcJ",
        "outputId": "09f96e57-58e0-4469-a36f-9315b3e368a1"
      },
      "execution_count": null,
      "outputs": [
        {
          "output_type": "stream",
          "name": "stdout",
          "text": [
            "\n",
            "\tPairwise comparisons using t tests with pooled SD \n",
            "\n",
            "data:  exp.df$Yield and exp.df$Treatment \n",
            "\n",
            "   T1      T2      T3     \n",
            "T2 1.5e-06 -       -      \n",
            "T3 < 2e-16 3.9e-06 -      \n",
            "T4 < 2e-16 < 2e-16 2.9e-06\n",
            "\n",
            "P value adjustment method: bonferroni \n"
          ]
        }
      ]
    },
    {
      "cell_type": "markdown",
      "source": [
        "### Box/Violin plots for between-subjects comparisons\n",
        "\n",
        "We can create a nice looking plots with results of ANOVA and post-hoc tests on the same plot (directly on the boxplots). We will use `gbetweenstats()` function of **ggstatsplot** package:"
      ],
      "metadata": {
        "id": "O1hHSzbp0dns"
      }
    },
    {
      "cell_type": "code",
      "source": [
        "%%R -w 700 -h 500 -u px\n",
        "\n",
        "p1<-ggstatsplot::ggbetweenstats(\n",
        "  data = exp.df,\n",
        "  x = Treatment,\n",
        "  y = Yield,\n",
        "  ylab = \"Yield (t/ha)\",\n",
        "  type = \"parametric\", # ANOVA or Kruskal-Wallis\n",
        "  var.equal = TRUE, # ANOVA or Welch ANOVA\n",
        "  plot.type = \"box\",\n",
        "  pairwise.comparisons = TRUE,\n",
        "  pairwise.display = \"significant\",\n",
        "  centrality.plotting = FALSE,\n",
        "  bf.message = FALSE\n",
        ")+\n",
        "# add plot title\n",
        "ggtitle(\"Mian Effect of Treatment\") +\n",
        "   theme(\n",
        "    # center the plot title\n",
        "    plot.title = element_text(hjust = 0.5),\n",
        "    axis.line = element_line(colour = \"gray\"),\n",
        "    # axis title font size\n",
        "    axis.title.x = element_text(size = 14),\n",
        "    # X and  axis font size\n",
        "    axis.text.y=element_text(size=12,vjust = 0.5, hjust=0.5),\n",
        "    axis.text.x = element_text(size=12))\n",
        "print(p1)\n"
      ],
      "metadata": {
        "colab": {
          "base_uri": "https://localhost:8080/",
          "height": 517
        },
        "id": "Ee_erSje0ek_",
        "outputId": "2d390796-5b19-4b2a-a077-ceedcd59dc0e"
      },
      "execution_count": null,
      "outputs": [
        {
          "output_type": "display_data",
          "data": {
            "image/png": "[encoded data removed]"
          },
          "metadata": {}
        }
      ]
    },
    {
      "cell_type": "code",
      "source": [
        "%%R -w 700 -h 500 -u px\n",
        "\n",
        "p2<-ggbetweenstats(\n",
        "  data = exp.df,\n",
        "  x = Variety,\n",
        "  y = Yield,\n",
        "  ylab = \"Yield (t/ha)\",\n",
        "  type = \"parametric\", # ANOVA or Kruskal-Wallis\n",
        "  var.equal = TRUE, # ANOVA or Welch ANOVA\n",
        "  plot.type = \"box\",\n",
        "  pairwise.comparisons = TRUE,\n",
        "  pairwise.display = \"significant\",\n",
        "  centrality.plotting = FALSE,\n",
        "  bf.message = FALSE\n",
        ")+\n",
        "# add plot title\n",
        "ggtitle(\"Mian Effect of Variety\") +\n",
        "   theme(\n",
        "    # center the plot title\n",
        "    plot.title = element_text(hjust = 0.5),\n",
        "    axis.line = element_line(colour = \"gray\"),\n",
        "    # axis title font size\n",
        "    axis.title.x = element_text(size = 14),\n",
        "    # X and  axis font size\n",
        "    axis.text.y=element_text(size=12,vjust = 0.5, hjust=0.5),\n",
        "    axis.text.x = element_text(size=12))\n",
        "print(p2)"
      ],
      "metadata": {
        "colab": {
          "base_uri": "https://localhost:8080/",
          "height": 517
        },
        "id": "SmHHCq-Ejaig",
        "outputId": "048b23d0-a0b6-4a96-86c9-32d2bb0e5b37"
      },
      "execution_count": null,
      "outputs": [
        {
          "output_type": "display_data",
          "data": {
            "image/png": "[encoded data removed]"
          },
          "metadata": {}
        }
      ]
    },
    {
      "cell_type": "markdown",
      "source": [
        "We plot these plots side by side using **patchwork** package:"
      ],
      "metadata": {
        "id": "H_HZp_lYjj0A"
      }
    },
    {
      "cell_type": "code",
      "source": [
        "%%R -w 1000 -h 500 -u px\n",
        "\n",
        "p1+p2"
      ],
      "metadata": {
        "colab": {
          "base_uri": "https://localhost:8080/",
          "height": 517
        },
        "id": "8W_9Kzqojkal",
        "outputId": "1097476d-6fa5-463e-ba16-34727ac16ebb"
      },
      "execution_count": null,
      "outputs": [
        {
          "output_type": "display_data",
          "data": {
            "image/png": "[encoded data removed]"
          },
          "metadata": {}
        }
      ]
    },
    {
      "cell_type": "markdown",
      "source": [
        "## **ANOVA with rstatix**\n",
        "\n",
        "`anova_test()` function in  **rstatix**' package is an easy to use wrapper around `Anova()` and `aov()`. It makes ANOVA computation handy in R and It's highly flexible: can support model and formula as input. Variables can be also specified as character vector using the arguments `dv`, `wid`, `betwee`n, `within`, `covariate`.\n",
        "\n"
      ],
      "metadata": {
        "id": "By6yVPdnN8qn"
      }
    },
    {
      "cell_type": "markdown",
      "source": [
        "### One-way ANOVA test"
      ],
      "metadata": {
        "id": "r-QXm6deOAY1"
      }
    },
    {
      "cell_type": "code",
      "source": [
        "%%R\n",
        "exp.df |> anova_test (Yield ~Treatment)"
      ],
      "metadata": {
        "colab": {
          "base_uri": "https://localhost:8080/"
        },
        "id": "9zBlwDp5OM3Q",
        "outputId": "ce82b9bf-a933-449d-d4f3-5e78b00456bb"
      },
      "execution_count": null,
      "outputs": [
        {
          "output_type": "stream",
          "name": "stdout",
          "text": [
            "ANOVA Table (type II tests)\n",
            "\n",
            "     Effect DFn DFd      F        p p<.05   ges\n",
            "1 Treatment   3  92 90.821 2.11e-27     * 0.748\n"
          ]
        }
      ]
    },
    {
      "cell_type": "markdown",
      "source": [
        "### Two-way ANOVA test"
      ],
      "metadata": {
        "id": "rUD0XxiBORMr"
      }
    },
    {
      "cell_type": "code",
      "source": [
        "%%R\n",
        "exp.df |> anova_test (Yield ~Treatment*Variety)"
      ],
      "metadata": {
        "colab": {
          "base_uri": "https://localhost:8080/"
        },
        "id": "npHQzkXKOWjC",
        "outputId": "bb25d05b-f52c-461b-d203-d16cf0c87b81"
      },
      "execution_count": null,
      "outputs": [
        {
          "output_type": "stream",
          "name": "stdout",
          "text": [
            "ANOVA Table (type II tests)\n",
            "\n",
            "             Effect DFn DFd       F        p p<.05   ges\n",
            "1         Treatment   3  72 211.737 1.24e-35     * 0.898\n",
            "2           Variety   5  72  28.424 8.62e-16     * 0.664\n",
            "3 Treatment:Variety  15  72   0.025 1.00e+00       0.005\n"
          ]
        }
      ]
    },
    {
      "cell_type": "markdown",
      "source": [
        "###  Two-way repeated measures ANOVA"
      ],
      "metadata": {
        "id": "5oDBJLC9Ochm"
      }
    },
    {
      "cell_type": "code",
      "source": [
        "%%R\n",
        "exp.df |> anova_test (Yield ~Treatment*Variety + Error(Replication/Treatment*Variety))"
      ],
      "metadata": {
        "colab": {
          "base_uri": "https://localhost:8080/"
        },
        "id": "Uz_lWOnoOdOq",
        "outputId": "e337ef5a-5935-4829-ef89-be59a3e7cbc2"
      },
      "execution_count": null,
      "outputs": [
        {
          "output_type": "stream",
          "name": "stdout",
          "text": [
            "ANOVA Table (type III tests)\n",
            "\n",
            "$ANOVA\n",
            "             Effect DFn DFd         F        p p<.05   ges\n",
            "1         Treatment   3   9 20388.294 1.47e-17     * 0.898\n",
            "2           Variety   5  15   889.890 5.43e-18     * 0.664\n",
            "3 Treatment:Variety  15  45     0.716 7.55e-01       0.005\n",
            "\n",
            "$`Mauchly's Test for Sphericity`\n",
            "     Effect     W     p p<.05\n",
            "1 Treatment 0.361 0.909      \n",
            "\n",
            "$`Sphericity Corrections`\n",
            "     Effect   GGe     DF[GG]    p[GG] p[GG]<.05   HFe      DF[HF]    p[HF]\n",
            "1 Treatment 0.709 2.13, 6.38 6.65e-13         * 2.486 7.46, 22.37 1.47e-17\n",
            "  p[HF]<.05\n",
            "1         *\n",
            "\n"
          ]
        }
      ]
    },
    {
      "cell_type": "markdown",
      "source": [
        "###  Extract ANOVA table and apply correction"
      ],
      "metadata": {
        "id": "qfYt9bJqOipG"
      }
    },
    {
      "cell_type": "code",
      "source": [
        "%%R\n",
        "res.anova<-exp.df |> anova_test (Yield ~Treatment*Variety + Error(Replication/Treatment*Variety))\n",
        "get_anova_table(res.anova, correction = \"GG\")"
      ],
      "metadata": {
        "colab": {
          "base_uri": "https://localhost:8080/"
        },
        "id": "i_OJ5pMwOjlO",
        "outputId": "ebb12386-a0a0-438d-e013-c8afb8b7e3ce"
      },
      "execution_count": null,
      "outputs": [
        {
          "output_type": "stream",
          "name": "stdout",
          "text": [
            "ANOVA Table (type III tests)\n",
            "\n",
            "             Effect   DFn   DFd         F        p p<.05   ges\n",
            "1         Treatment  2.13  6.38 20388.294 6.65e-13     * 0.898\n",
            "2           Variety  5.00 15.00   889.890 5.43e-18     * 0.664\n",
            "3 Treatment:Variety 15.00 45.00     0.716 7.55e-01       0.005\n"
          ]
        }
      ]
    },
    {
      "cell_type": "markdown",
      "source": [
        "## Summary and Conclusion\n",
        "\n",
        "This tutorial explains how to conduct ANOVA analysis in R. ANOVA is a technique used to compare means across groups, popular in fields like business, psychology, medicine, and engineering. It helps identify differences between groups, which can inform decision-making and further research.\n",
        "\n",
        "Remember the assumptions underlying ANOVA, including normality, homogeneity of variances, and independence. Conduct appropriate post hoc tests to determine which groups differ significantly. Consider the effect size when interpreting ANOVA results, and avoid making causal inferences. Mastering ANOVA analysis in R can help you better understand your data and make more informed decisions.\n",
        "\n"
      ],
      "metadata": {
        "id": "c71LJpbPZFQI"
      }
    },
    {
      "cell_type": "markdown",
      "metadata": {
        "id": "0Ovc25MJTsD8"
      },
      "source": [
        "## References\n",
        "\n",
        "1. [ANOVA in R](https://statsandr.com/blog/anova-in-r/)\n",
        "\n",
        "2. [ANOVA Test in R Programming](https://www.geeksforgeeks.org/anova-test-in-r-programming/)\n",
        "\n",
        "3. [ANOVA in R | A Complete Step-by-Step Guide with Examples](https://www.scribbr.com/statistics/anova-in-r/)\n",
        "\n",
        "4. [ANOVA rstatix](https://rpkgs.datanovia.com/rstatix/reference/anova_test.html)"
      ]
    }
  ],
  "metadata": {
    "colab": {
      "provenance": [],
      "toc_visible": true,
      "authorship_tag": "ABX9TyP87ryblymqPndwHCxVB800",
      "include_colab_link": true
    },
    "kernelspec": {
      "display_name": "Python 3",
      "name": "python3"
    },
    "language_info": {
      "name": "python"
    }
  },
  "nbformat": 4,
  "nbformat_minor": 0
}