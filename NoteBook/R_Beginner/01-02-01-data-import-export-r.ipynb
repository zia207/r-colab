{
  "cells": [
    {
      "cell_type": "markdown",
      "metadata": {
        "colab_type": "text",
        "id": "view-in-github"
      },
      "source": [
        "<a href=\"https://colab.research.google.com/github/zia207/r-colab/blob/main/NoteBook/R_Beginner/01-02-01-data-import-export-r.ipynb\" target=\"_parent\"><img src=\"https://colab.research.google.com/assets/colab-badge.svg\" alt=\"Open In Colab\"/></a>"
      ]
    },
    {
      "cell_type": "markdown",
      "metadata": {
        "id": "wQUvPaqOr3EZ"
      },
      "source": [
        "![alt text](http://drive.google.com/uc?export=view&id=1bLQ3nhDbZrCCqy_WCxxckOne2lgVvn3l)"
      ]
    },
    {
      "cell_type": "markdown",
      "metadata": {
        "id": "MGoP0AbXEAUx"
      },
      "source": [
        "# Data Import/Export to/from R\n",
        "\n"
      ]
    },
    {
      "cell_type": "markdown",
      "metadata": {
        "id": "kroLnhoOPPoV"
      },
      "source": [
        "One of the most important steps in data analysis is importing data into R and exporting from R. This process can be done using various functions depending on the format of the data, such as CSV, Excel, or SQL. In this context, it is essential to learn some of the most common ways to read and write data with R. By importing data into R, users can perform a wide range of data analysis, from simple data visualization to complex machine learning algorithms. Therefore, mastering data importation and exporting is a fundamental skill for any data scientist or analyst."
      ]
    },
    {
      "cell_type": "markdown",
      "metadata": {
        "id": "CdQJ-mgsEU9J"
      },
      "source": [
        "## Install rpy2\n",
        "\n",
        "Easy way to run R in Colab with Python runtime using **rpy2** python package. We have to install this package using the pip command:"
      ]
    },
    {
      "cell_type": "code",
      "execution_count": null,
      "metadata": {
        "colab": {
          "base_uri": "https://localhost:8080/"
        },
        "id": "qOD7NpajDy5k",
        "outputId": "e7f07367-95cc-4b77-aab0-f8c14105af09"
      },
      "outputs": [
        {
          "name": "stdout",
          "output_type": "stream",
          "text": [
            "Found existing installation: rpy2 3.5.17\n",
            "Uninstalling rpy2-3.5.17:\n",
            "  Successfully uninstalled rpy2-3.5.17\n",
            "Collecting rpy2==3.5.1\n",
            "  Downloading rpy2-3.5.1.tar.gz (201 kB)\n",
            "\u001b[2K     \u001b[90m━━━━━━━━━━━━━━━━━━━━━━━━━━━━━━━━━━━━━━\u001b[0m \u001b[32m201.7/201.7 kB\u001b[0m \u001b[31m11.2 MB/s\u001b[0m eta \u001b[36m0:00:00\u001b[0m\n",
            "\u001b[?25h  Preparing metadata (setup.py) ... \u001b[?25l\u001b[?25hdone\n",
            "Requirement already satisfied: cffi>=1.10.0 in /usr/local/lib/python3.11/dist-packages (from rpy2==3.5.1) (1.17.1)\n",
            "Requirement already satisfied: jinja2 in /usr/local/lib/python3.11/dist-packages (from rpy2==3.5.1) (3.1.6)\n",
            "Requirement already satisfied: pytz in /usr/local/lib/python3.11/dist-packages (from rpy2==3.5.1) (2025.2)\n",
            "Requirement already satisfied: tzlocal in /usr/local/lib/python3.11/dist-packages (from rpy2==3.5.1) (5.3.1)\n",
            "Requirement already satisfied: pycparser in /usr/local/lib/python3.11/dist-packages (from cffi>=1.10.0->rpy2==3.5.1) (2.22)\n",
            "Requirement already satisfied: MarkupSafe>=2.0 in /usr/local/lib/python3.11/dist-packages (from jinja2->rpy2==3.5.1) (3.0.2)\n",
            "Building wheels for collected packages: rpy2\n",
            "  Building wheel for rpy2 (setup.py) ... \u001b[?25l\u001b[?25hdone\n",
            "  Created wheel for rpy2: filename=rpy2-3.5.1-cp311-cp311-linux_x86_64.whl size=314978 sha256=5a50b239f286ea4760d39df914dfde92c7f52df506e9eaa0a51ac6a297695122\n",
            "  Stored in directory: /root/.cache/pip/wheels/e9/55/d1/47be85a5f3f1e1f4d1e91cb5e3a4dcb40dd72147f184c5a5ef\n",
            "Successfully built rpy2\n",
            "Installing collected packages: rpy2\n",
            "Successfully installed rpy2-3.5.1\n"
          ]
        }
      ],
      "source": [
        "!pip uninstall rpy2 -y\n",
        "! pip install rpy2==3.5.1\n",
        "%load_ext rpy2.ipython"
      ]
    },
    {
      "cell_type": "markdown",
      "metadata": {
        "id": "qmEDD0ccEurf"
      },
      "source": [
        "##  Mount Google Drive\n",
        "\n",
        "Then you must create a folder in Goole drive named \"R\" to install all packages permanently. Before installing R-package in Python runtime. You have to mount Google Drive and follow on-screen instruction:"
      ]
    },
    {
      "cell_type": "code",
      "execution_count": null,
      "metadata": {
        "colab": {
          "base_uri": "https://localhost:8080/"
        },
        "id": "lClKZUW1Eu_G",
        "outputId": "e3f95b9e-8997-466e-b593-5a9714cad938"
      },
      "outputs": [
        {
          "name": "stdout",
          "output_type": "stream",
          "text": [
            "Mounted at /content/drive\n"
          ]
        }
      ],
      "source": [
        "from google.colab import drive\n",
        "drive.mount('/content/drive')"
      ]
    },
    {
      "cell_type": "markdown",
      "metadata": {
        "id": "xR1npw3bG67D"
      },
      "source": [
        "## Check and Install Required R Packages"
      ]
    },
    {
      "cell_type": "markdown",
      "metadata": {
        "id": "oTvvrCXfF5AC"
      },
      "source": [
        "In this exercise, we will use the following R-packages:\n",
        "\n",
        "1.   [readxl](https://readxl.tidyverse.org/): to read MS **Excel** file.  usually comes with [tidyverse](https://www.tidyverse.org/)\n",
        "2. [writexl](https://docs.ropensci.org/writexl/):Portable, light-weight data frame to xlsx exporter based on libxlsxwriter. No Java or Excel required.\n",
        "3.  [rjson](https://github.com/alexcb/rjson): to read **.json** file\n",
        "4.  [foreign](https://cran.r-project.org/web/packages/foreign/index.html): to read data stored by **Minitab**, **S**, **SAS**, **SPSS**, **Stata**, **Systat**, **dBase**, and so forth.\n",
        "5.  [haven](https://haven.tidyverse.org/): read and write data from different statistical packages. It usually comes with [tidyverse](https://www.tidyverse.org/)\n"
      ]
    },
    {
      "cell_type": "markdown",
      "metadata": {
        "id": "YQ_RrKRFG_Ig"
      },
      "source": [
        "### Install Required R Packages"
      ]
    },
    {
      "cell_type": "code",
      "execution_count": null,
      "metadata": {
        "id": "SbXNk7KdGhg3"
      },
      "outputs": [],
      "source": [
        "%%R\n",
        "packages <- c(\n",
        "          'readxl',\n",
        "          'writexl',\n",
        "          'rjson',\n",
        "          'foreign',\n",
        "          'haven'\n",
        ")"
      ]
    },
    {
      "cell_type": "markdown",
      "metadata": {
        "id": "p3ZF1HWhGkAn"
      },
      "source": [
        "### Install Missing Packages"
      ]
    },
    {
      "cell_type": "code",
      "execution_count": null,
      "metadata": {
        "colab": {
          "base_uri": "https://localhost:8080/"
        },
        "collapsed": true,
        "id": "w97Imv81GkLw",
        "outputId": "b3510270-60bd-4ee8-901e-a626de594234"
      },
      "outputs": [
        {
          "name": "stderr",
          "output_type": "stream",
          "text": [
            "WARNING:rpy2.rinterface_lib.callbacks:R[write to console]: trying URL 'https://cran.rstudio.com/src/contrib/readxl_1.4.5.tar.gz'\n",
            "\n",
            "WARNING:rpy2.rinterface_lib.callbacks:R[write to console]: Content type 'application/x-gzip'\n",
            "WARNING:rpy2.rinterface_lib.callbacks:R[write to console]:  length 1636512 bytes (1.6 MB)\n",
            "\n",
            "WARNING:rpy2.rinterface_lib.callbacks:R[write to console]: =\n",
            "WARNING:rpy2.rinterface_lib.callbacks:R[write to console]: =\n",
            "WARNING:rpy2.rinterface_lib.callbacks:R[write to console]: =\n",
            "WARNING:rpy2.rinterface_lib.callbacks:R[write to console]: =\n",
            "WARNING:rpy2.rinterface_lib.callbacks:R[write to console]: =\n",
            "WARNING:rpy2.rinterface_lib.callbacks:R[write to console]: =\n",
            "WARNING:rpy2.rinterface_lib.callbacks:R[write to console]: =\n",
            "WARNING:rpy2.rinterface_lib.callbacks:R[write to console]: =\n",
            "WARNING:rpy2.rinterface_lib.callbacks:R[write to console]: =\n",
            "WARNING:rpy2.rinterface_lib.callbacks:R[write to console]: =\n",
            "WARNING:rpy2.rinterface_lib.callbacks:R[write to console]: =\n",
            "WARNING:rpy2.rinterface_lib.callbacks:R[write to console]: =\n",
            "WARNING:rpy2.rinterface_lib.callbacks:R[write to console]: =\n",
            "WARNING:rpy2.rinterface_lib.callbacks:R[write to console]: =\n",
            "WARNING:rpy2.rinterface_lib.callbacks:R[write to console]: =\n",
            "WARNING:rpy2.rinterface_lib.callbacks:R[write to console]: =\n",
            "WARNING:rpy2.rinterface_lib.callbacks:R[write to console]: =\n",
            "WARNING:rpy2.rinterface_lib.callbacks:R[write to console]: =\n",
            "WARNING:rpy2.rinterface_lib.callbacks:R[write to console]: =\n",
            "WARNING:rpy2.rinterface_lib.callbacks:R[write to console]: =\n",
            "WARNING:rpy2.rinterface_lib.callbacks:R[write to console]: =\n",
            "WARNING:rpy2.rinterface_lib.callbacks:R[write to console]: =\n",
            "WARNING:rpy2.rinterface_lib.callbacks:R[write to console]: =\n",
            "WARNING:rpy2.rinterface_lib.callbacks:R[write to console]: =\n",
            "WARNING:rpy2.rinterface_lib.callbacks:R[write to console]: =\n",
            "WARNING:rpy2.rinterface_lib.callbacks:R[write to console]: =\n",
            "WARNING:rpy2.rinterface_lib.callbacks:R[write to console]: =\n",
            "WARNING:rpy2.rinterface_lib.callbacks:R[write to console]: =\n",
            "WARNING:rpy2.rinterface_lib.callbacks:R[write to console]: =\n",
            "WARNING:rpy2.rinterface_lib.callbacks:R[write to console]: =\n",
            "WARNING:rpy2.rinterface_lib.callbacks:R[write to console]: =\n",
            "WARNING:rpy2.rinterface_lib.callbacks:R[write to console]: =\n",
            "WARNING:rpy2.rinterface_lib.callbacks:R[write to console]: =\n",
            "WARNING:rpy2.rinterface_lib.callbacks:R[write to console]: =\n",
            "WARNING:rpy2.rinterface_lib.callbacks:R[write to console]: =\n",
            "WARNING:rpy2.rinterface_lib.callbacks:R[write to console]: =\n",
            "WARNING:rpy2.rinterface_lib.callbacks:R[write to console]: =\n",
            "WARNING:rpy2.rinterface_lib.callbacks:R[write to console]: =\n",
            "WARNING:rpy2.rinterface_lib.callbacks:R[write to console]: =\n",
            "WARNING:rpy2.rinterface_lib.callbacks:R[write to console]: =\n",
            "WARNING:rpy2.rinterface_lib.callbacks:R[write to console]: =\n",
            "WARNING:rpy2.rinterface_lib.callbacks:R[write to console]: =\n",
            "WARNING:rpy2.rinterface_lib.callbacks:R[write to console]: =\n",
            "WARNING:rpy2.rinterface_lib.callbacks:R[write to console]: =\n",
            "WARNING:rpy2.rinterface_lib.callbacks:R[write to console]: =\n",
            "WARNING:rpy2.rinterface_lib.callbacks:R[write to console]: =\n",
            "WARNING:rpy2.rinterface_lib.callbacks:R[write to console]: =\n",
            "WARNING:rpy2.rinterface_lib.callbacks:R[write to console]: =\n",
            "WARNING:rpy2.rinterface_lib.callbacks:R[write to console]: =\n",
            "WARNING:rpy2.rinterface_lib.callbacks:R[write to console]: =\n",
            "WARNING:rpy2.rinterface_lib.callbacks:R[write to console]: \n",
            "\n",
            "WARNING:rpy2.rinterface_lib.callbacks:R[write to console]: downloaded 1.6 MB\n",
            "\n",
            "\n",
            "WARNING:rpy2.rinterface_lib.callbacks:R[write to console]: trying URL 'https://cran.rstudio.com/src/contrib/writexl_1.5.4.tar.gz'\n",
            "\n",
            "WARNING:rpy2.rinterface_lib.callbacks:R[write to console]: Content type 'application/x-gzip'\n",
            "WARNING:rpy2.rinterface_lib.callbacks:R[write to console]:  length 278312 bytes (271 KB)\n",
            "\n",
            "WARNING:rpy2.rinterface_lib.callbacks:R[write to console]: =\n",
            "WARNING:rpy2.rinterface_lib.callbacks:R[write to console]: =\n",
            "WARNING:rpy2.rinterface_lib.callbacks:R[write to console]: =\n",
            "WARNING:rpy2.rinterface_lib.callbacks:R[write to console]: =\n",
            "WARNING:rpy2.rinterface_lib.callbacks:R[write to console]: =\n",
            "WARNING:rpy2.rinterface_lib.callbacks:R[write to console]: =\n",
            "WARNING:rpy2.rinterface_lib.callbacks:R[write to console]: =\n",
            "WARNING:rpy2.rinterface_lib.callbacks:R[write to console]: =\n",
            "WARNING:rpy2.rinterface_lib.callbacks:R[write to console]: =\n",
            "WARNING:rpy2.rinterface_lib.callbacks:R[write to console]: =\n",
            "WARNING:rpy2.rinterface_lib.callbacks:R[write to console]: =\n",
            "WARNING:rpy2.rinterface_lib.callbacks:R[write to console]: =\n",
            "WARNING:rpy2.rinterface_lib.callbacks:R[write to console]: =\n",
            "WARNING:rpy2.rinterface_lib.callbacks:R[write to console]: =\n",
            "WARNING:rpy2.rinterface_lib.callbacks:R[write to console]: =\n",
            "WARNING:rpy2.rinterface_lib.callbacks:R[write to console]: =\n",
            "WARNING:rpy2.rinterface_lib.callbacks:R[write to console]: =\n",
            "WARNING:rpy2.rinterface_lib.callbacks:R[write to console]: =\n",
            "WARNING:rpy2.rinterface_lib.callbacks:R[write to console]: =\n",
            "WARNING:rpy2.rinterface_lib.callbacks:R[write to console]: =\n",
            "WARNING:rpy2.rinterface_lib.callbacks:R[write to console]: =\n",
            "WARNING:rpy2.rinterface_lib.callbacks:R[write to console]: =\n",
            "WARNING:rpy2.rinterface_lib.callbacks:R[write to console]: =\n",
            "WARNING:rpy2.rinterface_lib.callbacks:R[write to console]: =\n",
            "WARNING:rpy2.rinterface_lib.callbacks:R[write to console]: =\n",
            "WARNING:rpy2.rinterface_lib.callbacks:R[write to console]: =\n",
            "WARNING:rpy2.rinterface_lib.callbacks:R[write to console]: =\n",
            "WARNING:rpy2.rinterface_lib.callbacks:R[write to console]: =\n",
            "WARNING:rpy2.rinterface_lib.callbacks:R[write to console]: =\n",
            "WARNING:rpy2.rinterface_lib.callbacks:R[write to console]: =\n",
            "WARNING:rpy2.rinterface_lib.callbacks:R[write to console]: =\n",
            "WARNING:rpy2.rinterface_lib.callbacks:R[write to console]: =\n",
            "WARNING:rpy2.rinterface_lib.callbacks:R[write to console]: =\n",
            "WARNING:rpy2.rinterface_lib.callbacks:R[write to console]: =\n",
            "WARNING:rpy2.rinterface_lib.callbacks:R[write to console]: =\n",
            "WARNING:rpy2.rinterface_lib.callbacks:R[write to console]: =\n",
            "WARNING:rpy2.rinterface_lib.callbacks:R[write to console]: =\n",
            "WARNING:rpy2.rinterface_lib.callbacks:R[write to console]: =\n",
            "WARNING:rpy2.rinterface_lib.callbacks:R[write to console]: =\n",
            "WARNING:rpy2.rinterface_lib.callbacks:R[write to console]: =\n",
            "WARNING:rpy2.rinterface_lib.callbacks:R[write to console]: =\n",
            "WARNING:rpy2.rinterface_lib.callbacks:R[write to console]: =\n",
            "WARNING:rpy2.rinterface_lib.callbacks:R[write to console]: =\n",
            "WARNING:rpy2.rinterface_lib.callbacks:R[write to console]: =\n",
            "WARNING:rpy2.rinterface_lib.callbacks:R[write to console]: =\n",
            "WARNING:rpy2.rinterface_lib.callbacks:R[write to console]: =\n",
            "WARNING:rpy2.rinterface_lib.callbacks:R[write to console]: =\n",
            "WARNING:rpy2.rinterface_lib.callbacks:R[write to console]: =\n",
            "WARNING:rpy2.rinterface_lib.callbacks:R[write to console]: =\n",
            "WARNING:rpy2.rinterface_lib.callbacks:R[write to console]: =\n",
            "WARNING:rpy2.rinterface_lib.callbacks:R[write to console]: \n",
            "\n",
            "WARNING:rpy2.rinterface_lib.callbacks:R[write to console]: downloaded 271 KB\n",
            "\n",
            "\n",
            "WARNING:rpy2.rinterface_lib.callbacks:R[write to console]: trying URL 'https://cran.rstudio.com/src/contrib/rjson_0.2.23.tar.gz'\n",
            "\n",
            "WARNING:rpy2.rinterface_lib.callbacks:R[write to console]: Content type 'application/x-gzip'\n",
            "WARNING:rpy2.rinterface_lib.callbacks:R[write to console]:  length 79159 bytes (77 KB)\n",
            "\n",
            "WARNING:rpy2.rinterface_lib.callbacks:R[write to console]: =\n",
            "WARNING:rpy2.rinterface_lib.callbacks:R[write to console]: =\n",
            "WARNING:rpy2.rinterface_lib.callbacks:R[write to console]: =\n",
            "WARNING:rpy2.rinterface_lib.callbacks:R[write to console]: =\n",
            "WARNING:rpy2.rinterface_lib.callbacks:R[write to console]: =\n",
            "WARNING:rpy2.rinterface_lib.callbacks:R[write to console]: =\n",
            "WARNING:rpy2.rinterface_lib.callbacks:R[write to console]: =\n",
            "WARNING:rpy2.rinterface_lib.callbacks:R[write to console]: =\n",
            "WARNING:rpy2.rinterface_lib.callbacks:R[write to console]: =\n",
            "WARNING:rpy2.rinterface_lib.callbacks:R[write to console]: =\n",
            "WARNING:rpy2.rinterface_lib.callbacks:R[write to console]: =\n",
            "WARNING:rpy2.rinterface_lib.callbacks:R[write to console]: =\n",
            "WARNING:rpy2.rinterface_lib.callbacks:R[write to console]: =\n",
            "WARNING:rpy2.rinterface_lib.callbacks:R[write to console]: =\n",
            "WARNING:rpy2.rinterface_lib.callbacks:R[write to console]: =\n",
            "WARNING:rpy2.rinterface_lib.callbacks:R[write to console]: =\n",
            "WARNING:rpy2.rinterface_lib.callbacks:R[write to console]: =\n",
            "WARNING:rpy2.rinterface_lib.callbacks:R[write to console]: =\n",
            "WARNING:rpy2.rinterface_lib.callbacks:R[write to console]: =\n",
            "WARNING:rpy2.rinterface_lib.callbacks:R[write to console]: =\n",
            "WARNING:rpy2.rinterface_lib.callbacks:R[write to console]: =\n",
            "WARNING:rpy2.rinterface_lib.callbacks:R[write to console]: =\n",
            "WARNING:rpy2.rinterface_lib.callbacks:R[write to console]: =\n",
            "WARNING:rpy2.rinterface_lib.callbacks:R[write to console]: =\n",
            "WARNING:rpy2.rinterface_lib.callbacks:R[write to console]: =\n",
            "WARNING:rpy2.rinterface_lib.callbacks:R[write to console]: =\n",
            "WARNING:rpy2.rinterface_lib.callbacks:R[write to console]: =\n",
            "WARNING:rpy2.rinterface_lib.callbacks:R[write to console]: =\n",
            "WARNING:rpy2.rinterface_lib.callbacks:R[write to console]: =\n",
            "WARNING:rpy2.rinterface_lib.callbacks:R[write to console]: =\n",
            "WARNING:rpy2.rinterface_lib.callbacks:R[write to console]: =\n",
            "WARNING:rpy2.rinterface_lib.callbacks:R[write to console]: =\n",
            "WARNING:rpy2.rinterface_lib.callbacks:R[write to console]: =\n",
            "WARNING:rpy2.rinterface_lib.callbacks:R[write to console]: =\n",
            "WARNING:rpy2.rinterface_lib.callbacks:R[write to console]: =\n",
            "WARNING:rpy2.rinterface_lib.callbacks:R[write to console]: =\n",
            "WARNING:rpy2.rinterface_lib.callbacks:R[write to console]: =\n",
            "WARNING:rpy2.rinterface_lib.callbacks:R[write to console]: =\n",
            "WARNING:rpy2.rinterface_lib.callbacks:R[write to console]: =\n",
            "WARNING:rpy2.rinterface_lib.callbacks:R[write to console]: =\n",
            "WARNING:rpy2.rinterface_lib.callbacks:R[write to console]: =\n",
            "WARNING:rpy2.rinterface_lib.callbacks:R[write to console]: =\n",
            "WARNING:rpy2.rinterface_lib.callbacks:R[write to console]: =\n",
            "WARNING:rpy2.rinterface_lib.callbacks:R[write to console]: =\n",
            "WARNING:rpy2.rinterface_lib.callbacks:R[write to console]: =\n",
            "WARNING:rpy2.rinterface_lib.callbacks:R[write to console]: =\n",
            "WARNING:rpy2.rinterface_lib.callbacks:R[write to console]: =\n",
            "WARNING:rpy2.rinterface_lib.callbacks:R[write to console]: =\n",
            "WARNING:rpy2.rinterface_lib.callbacks:R[write to console]: =\n",
            "WARNING:rpy2.rinterface_lib.callbacks:R[write to console]: =\n",
            "WARNING:rpy2.rinterface_lib.callbacks:R[write to console]: \n",
            "\n",
            "WARNING:rpy2.rinterface_lib.callbacks:R[write to console]: downloaded 77 KB\n",
            "\n",
            "\n",
            "WARNING:rpy2.rinterface_lib.callbacks:R[write to console]: trying URL 'https://cran.rstudio.com/src/contrib/foreign_0.8-90.tar.gz'\n",
            "\n",
            "WARNING:rpy2.rinterface_lib.callbacks:R[write to console]: Content type 'application/x-gzip'\n",
            "WARNING:rpy2.rinterface_lib.callbacks:R[write to console]:  length 365447 bytes (356 KB)\n",
            "\n",
            "WARNING:rpy2.rinterface_lib.callbacks:R[write to console]: =\n",
            "WARNING:rpy2.rinterface_lib.callbacks:R[write to console]: =\n",
            "WARNING:rpy2.rinterface_lib.callbacks:R[write to console]: =\n",
            "WARNING:rpy2.rinterface_lib.callbacks:R[write to console]: =\n",
            "WARNING:rpy2.rinterface_lib.callbacks:R[write to console]: =\n",
            "WARNING:rpy2.rinterface_lib.callbacks:R[write to console]: =\n",
            "WARNING:rpy2.rinterface_lib.callbacks:R[write to console]: =\n",
            "WARNING:rpy2.rinterface_lib.callbacks:R[write to console]: =\n",
            "WARNING:rpy2.rinterface_lib.callbacks:R[write to console]: =\n",
            "WARNING:rpy2.rinterface_lib.callbacks:R[write to console]: =\n",
            "WARNING:rpy2.rinterface_lib.callbacks:R[write to console]: =\n",
            "WARNING:rpy2.rinterface_lib.callbacks:R[write to console]: =\n",
            "WARNING:rpy2.rinterface_lib.callbacks:R[write to console]: =\n",
            "WARNING:rpy2.rinterface_lib.callbacks:R[write to console]: =\n",
            "WARNING:rpy2.rinterface_lib.callbacks:R[write to console]: =\n",
            "WARNING:rpy2.rinterface_lib.callbacks:R[write to console]: =\n",
            "WARNING:rpy2.rinterface_lib.callbacks:R[write to console]: =\n",
            "WARNING:rpy2.rinterface_lib.callbacks:R[write to console]: =\n",
            "WARNING:rpy2.rinterface_lib.callbacks:R[write to console]: =\n",
            "WARNING:rpy2.rinterface_lib.callbacks:R[write to console]: =\n",
            "WARNING:rpy2.rinterface_lib.callbacks:R[write to console]: =\n",
            "WARNING:rpy2.rinterface_lib.callbacks:R[write to console]: =\n",
            "WARNING:rpy2.rinterface_lib.callbacks:R[write to console]: =\n",
            "WARNING:rpy2.rinterface_lib.callbacks:R[write to console]: =\n",
            "WARNING:rpy2.rinterface_lib.callbacks:R[write to console]: =\n",
            "WARNING:rpy2.rinterface_lib.callbacks:R[write to console]: =\n",
            "WARNING:rpy2.rinterface_lib.callbacks:R[write to console]: =\n",
            "WARNING:rpy2.rinterface_lib.callbacks:R[write to console]: =\n",
            "WARNING:rpy2.rinterface_lib.callbacks:R[write to console]: =\n",
            "WARNING:rpy2.rinterface_lib.callbacks:R[write to console]: =\n",
            "WARNING:rpy2.rinterface_lib.callbacks:R[write to console]: =\n",
            "WARNING:rpy2.rinterface_lib.callbacks:R[write to console]: =\n",
            "WARNING:rpy2.rinterface_lib.callbacks:R[write to console]: =\n",
            "WARNING:rpy2.rinterface_lib.callbacks:R[write to console]: =\n",
            "WARNING:rpy2.rinterface_lib.callbacks:R[write to console]: =\n",
            "WARNING:rpy2.rinterface_lib.callbacks:R[write to console]: =\n",
            "WARNING:rpy2.rinterface_lib.callbacks:R[write to console]: =\n",
            "WARNING:rpy2.rinterface_lib.callbacks:R[write to console]: =\n",
            "WARNING:rpy2.rinterface_lib.callbacks:R[write to console]: =\n",
            "WARNING:rpy2.rinterface_lib.callbacks:R[write to console]: =\n",
            "WARNING:rpy2.rinterface_lib.callbacks:R[write to console]: =\n",
            "WARNING:rpy2.rinterface_lib.callbacks:R[write to console]: =\n",
            "WARNING:rpy2.rinterface_lib.callbacks:R[write to console]: =\n",
            "WARNING:rpy2.rinterface_lib.callbacks:R[write to console]: =\n",
            "WARNING:rpy2.rinterface_lib.callbacks:R[write to console]: =\n",
            "WARNING:rpy2.rinterface_lib.callbacks:R[write to console]: =\n",
            "WARNING:rpy2.rinterface_lib.callbacks:R[write to console]: =\n",
            "WARNING:rpy2.rinterface_lib.callbacks:R[write to console]: =\n",
            "WARNING:rpy2.rinterface_lib.callbacks:R[write to console]: =\n",
            "WARNING:rpy2.rinterface_lib.callbacks:R[write to console]: =\n",
            "WARNING:rpy2.rinterface_lib.callbacks:R[write to console]: \n",
            "\n",
            "WARNING:rpy2.rinterface_lib.callbacks:R[write to console]: downloaded 356 KB\n",
            "\n",
            "\n",
            "WARNING:rpy2.rinterface_lib.callbacks:R[write to console]: trying URL 'https://cran.rstudio.com/src/contrib/haven_2.5.4.tar.gz'\n",
            "\n",
            "WARNING:rpy2.rinterface_lib.callbacks:R[write to console]: Content type 'application/x-gzip'\n",
            "WARNING:rpy2.rinterface_lib.callbacks:R[write to console]:  length 313332 bytes (305 KB)\n",
            "\n",
            "WARNING:rpy2.rinterface_lib.callbacks:R[write to console]: =\n",
            "WARNING:rpy2.rinterface_lib.callbacks:R[write to console]: =\n",
            "WARNING:rpy2.rinterface_lib.callbacks:R[write to console]: =\n",
            "WARNING:rpy2.rinterface_lib.callbacks:R[write to console]: =\n",
            "WARNING:rpy2.rinterface_lib.callbacks:R[write to console]: =\n",
            "WARNING:rpy2.rinterface_lib.callbacks:R[write to console]: =\n",
            "WARNING:rpy2.rinterface_lib.callbacks:R[write to console]: =\n",
            "WARNING:rpy2.rinterface_lib.callbacks:R[write to console]: =\n",
            "WARNING:rpy2.rinterface_lib.callbacks:R[write to console]: =\n",
            "WARNING:rpy2.rinterface_lib.callbacks:R[write to console]: =\n",
            "WARNING:rpy2.rinterface_lib.callbacks:R[write to console]: =\n",
            "WARNING:rpy2.rinterface_lib.callbacks:R[write to console]: =\n",
            "WARNING:rpy2.rinterface_lib.callbacks:R[write to console]: =\n",
            "WARNING:rpy2.rinterface_lib.callbacks:R[write to console]: =\n",
            "WARNING:rpy2.rinterface_lib.callbacks:R[write to console]: =\n",
            "WARNING:rpy2.rinterface_lib.callbacks:R[write to console]: =\n",
            "WARNING:rpy2.rinterface_lib.callbacks:R[write to console]: =\n",
            "WARNING:rpy2.rinterface_lib.callbacks:R[write to console]: =\n",
            "WARNING:rpy2.rinterface_lib.callbacks:R[write to console]: =\n",
            "WARNING:rpy2.rinterface_lib.callbacks:R[write to console]: =\n",
            "WARNING:rpy2.rinterface_lib.callbacks:R[write to console]: =\n",
            "WARNING:rpy2.rinterface_lib.callbacks:R[write to console]: =\n",
            "WARNING:rpy2.rinterface_lib.callbacks:R[write to console]: =\n",
            "WARNING:rpy2.rinterface_lib.callbacks:R[write to console]: =\n",
            "WARNING:rpy2.rinterface_lib.callbacks:R[write to console]: =\n",
            "WARNING:rpy2.rinterface_lib.callbacks:R[write to console]: =\n",
            "WARNING:rpy2.rinterface_lib.callbacks:R[write to console]: =\n",
            "WARNING:rpy2.rinterface_lib.callbacks:R[write to console]: =\n",
            "WARNING:rpy2.rinterface_lib.callbacks:R[write to console]: =\n",
            "WARNING:rpy2.rinterface_lib.callbacks:R[write to console]: =\n",
            "WARNING:rpy2.rinterface_lib.callbacks:R[write to console]: =\n",
            "WARNING:rpy2.rinterface_lib.callbacks:R[write to console]: =\n",
            "WARNING:rpy2.rinterface_lib.callbacks:R[write to console]: =\n",
            "WARNING:rpy2.rinterface_lib.callbacks:R[write to console]: =\n",
            "WARNING:rpy2.rinterface_lib.callbacks:R[write to console]: =\n",
            "WARNING:rpy2.rinterface_lib.callbacks:R[write to console]: =\n",
            "WARNING:rpy2.rinterface_lib.callbacks:R[write to console]: =\n",
            "WARNING:rpy2.rinterface_lib.callbacks:R[write to console]: =\n",
            "WARNING:rpy2.rinterface_lib.callbacks:R[write to console]: =\n",
            "WARNING:rpy2.rinterface_lib.callbacks:R[write to console]: =\n",
            "WARNING:rpy2.rinterface_lib.callbacks:R[write to console]: =\n",
            "WARNING:rpy2.rinterface_lib.callbacks:R[write to console]: =\n",
            "WARNING:rpy2.rinterface_lib.callbacks:R[write to console]: =\n",
            "WARNING:rpy2.rinterface_lib.callbacks:R[write to console]: =\n",
            "WARNING:rpy2.rinterface_lib.callbacks:R[write to console]: =\n",
            "WARNING:rpy2.rinterface_lib.callbacks:R[write to console]: =\n",
            "WARNING:rpy2.rinterface_lib.callbacks:R[write to console]: =\n",
            "WARNING:rpy2.rinterface_lib.callbacks:R[write to console]: =\n",
            "WARNING:rpy2.rinterface_lib.callbacks:R[write to console]: =\n",
            "WARNING:rpy2.rinterface_lib.callbacks:R[write to console]: =\n",
            "WARNING:rpy2.rinterface_lib.callbacks:R[write to console]: \n",
            "\n",
            "WARNING:rpy2.rinterface_lib.callbacks:R[write to console]: downloaded 305 KB\n",
            "\n",
            "\n",
            "WARNING:rpy2.rinterface_lib.callbacks:R[write to console]: \n",
            "\n",
            "WARNING:rpy2.rinterface_lib.callbacks:R[write to console]: \n",
            "WARNING:rpy2.rinterface_lib.callbacks:R[write to console]: The downloaded source packages are in\n",
            "\t‘/tmp/RtmpE6MXsx/downloaded_packages’\n",
            "WARNING:rpy2.rinterface_lib.callbacks:R[write to console]: \n",
            "WARNING:rpy2.rinterface_lib.callbacks:R[write to console]: \n",
            "\n"
          ]
        }
      ],
      "source": [
        "%%R\n",
        "# Install missing packages\n",
        "new.packages <- packages[!(packages %in% installed.packages(lib='drive/My Drive/R/')[,\"Package\"])]\n",
        "if(length(new.packages)) install.packages(new.packages, lib='drive/My Drive/R/')"
      ]
    },
    {
      "cell_type": "code",
      "execution_count": null,
      "metadata": {
        "colab": {
          "base_uri": "https://localhost:8080/"
        },
        "id": "GS48B74GGr4M",
        "outputId": "8d1da4c6-5e8c-4016-bb57-35bea81bd8c6"
      },
      "outputs": [
        {
          "name": "stdout",
          "output_type": "stream",
          "text": [
            "Installed packages:\n",
            " readxl writexl   rjson foreign   haven \n",
            "   TRUE    TRUE    TRUE    TRUE    TRUE \n"
          ]
        }
      ],
      "source": [
        "%%R\n",
        "# set library path\n",
        ".libPaths('drive/My Drive/R')\n",
        "# Verify installation\n",
        "cat(\"Installed packages:\\n\")\n",
        "print(sapply(packages, requireNamespace, quietly = TRUE))"
      ]
    },
    {
      "cell_type": "markdown",
      "metadata": {
        "id": "1ldcblnJYfks"
      },
      "source": [
        "### Load R-packages"
      ]
    },
    {
      "cell_type": "code",
      "execution_count": null,
      "metadata": {
        "colab": {
          "base_uri": "https://localhost:8080/"
        },
        "id": "nCnpYUs9YftD",
        "outputId": "91d25a7f-348e-4ecc-92e2-fa30835a7e3c"
      },
      "outputs": [
        {
          "name": "stdout",
          "output_type": "stream",
          "text": [
            "Successfully loaded packages:\n",
            " [1] \"package:haven\"     \"package:foreign\"   \"package:rjson\"    \n",
            " [4] \"package:writexl\"   \"package:readxl\"    \"package:tools\"    \n",
            " [7] \"package:stats\"     \"package:graphics\"  \"package:grDevices\"\n",
            "[10] \"package:utils\"     \"package:datasets\"  \"package:methods\"  \n",
            "[13] \"package:base\"     \n"
          ]
        }
      ],
      "source": [
        "%%R\n",
        "# set library path\n",
        ".libPaths('drive/My Drive/R')\n",
        "# Load packages with suppressed messages\n",
        "invisible(lapply(packages, function(pkg) {\n",
        "  suppressPackageStartupMessages(library(pkg, character.only = TRUE))\n",
        "}))\n",
        "# Check loaded packages\n",
        "cat(\"Successfully loaded packages:\\n\")\n",
        "print(search()[grepl(\"package:\", search())])# Check loaded packages\n"
      ]
    },
    {
      "cell_type": "markdown",
      "metadata": {
        "id": "pcn48RSJ2Xnk"
      },
      "source": [
        "## Data\n",
        "\n",
        "\n",
        "All data set use in this exercise can be downloaded from my [Dropbox](https://www.dropbox.com/scl/fo/fohioij7h503duitpl040/h?rlkey=3voumajiklwhgqw75fe8kby3o&dl=0) or from my [Github](https://github.com/zia207/r-colab/tree/main/Data/R_Beginners) accounts.\n",
        "\n",
        "It would be best if you created a working directory in R to read and write files locally. The following example shows how to create the working directory in R.\n",
        "\n",
        "Before creating a working directory, you may check the directory of your current R session; the function `getwd()` will print the current working directory path as a string.\n",
        "\n",
        "If you want to change the working directory in R you just need to call the `setwd()` function, specifying as argument the path of the new working directory folder.\n",
        "\n",
        "> setwd(\"F:\\\\R-Project\")\n",
        "\n",
        "> setwd(\"F:/R-Project\")\n",
        "\n",
        "Remember that you must use the forward slash `/` or double backslash `\\\\ in R! The Windows format of single backslash will not work.\n",
        "\n",
        "The files under in a directory can check using `dir()` function\n",
        "\n",
        "> dir()"
      ]
    },
    {
      "cell_type": "markdown",
      "metadata": {
        "id": "3LSEQBaCIFaj"
      },
      "source": [
        "## Data Import Into R"
      ]
    },
    {
      "cell_type": "markdown",
      "metadata": {
        "id": "73FZhfBqKnjL"
      },
      "source": [
        "### Read Text File (.txt)\n",
        "\n",
        "A `text file` is a type of computer file that contains only `plain text` — which means it includes letters, numbers, symbols, and spaces that can be read by humans and processed by computers. It doesn't include any special formatting like bold, italics, or images—just raw text.\n",
        "\n",
        "Key points about text files:\n",
        "\n",
        "- `File extension`: Usually ends in `.txt`\n",
        "- `Editable with`: Any text editor (like Notepad, TextEdit`, VS Code, etc.)\n",
        "- `Encoding`: Often uses encodings like `ASCII` or `UTF-8\n",
        "- `Uses`:\n",
        "  - Storing notes or data\n",
        "  - Writing code (before saving with a specific programming extension)\n",
        "  - Configuration files for software (like `.ini`, `.conf`, etc.)\n",
        "\n",
        "Text files are often used for data storage and transfer because they are simple and widely supported. They can be easily created, edited, and read by both humans and machines. The easiest form of data to import into R is a simple text file. The primary function to import from a text file is `read.table()`.\n",
        "\n",
        "```         \n",
        "read.table(file, header = FALSE, sep = \"\", quote =\"\"'\",.....)\n",
        "```\n"
      ]
    },
    {
      "cell_type": "code",
      "execution_count": null,
      "metadata": {
        "colab": {
          "base_uri": "https://localhost:8080/"
        },
        "id": "cGP9AwkxMyuE",
        "outputId": "38075eda-9ad1-4826-ecef-54033202b947"
      },
      "outputs": [
        {
          "name": "stdout",
          "output_type": "stream",
          "text": [
            "   ID treat  var rep    PH   TN   PN   GW ster   DTM   SW   GAs  STAs\n",
            "1 Low    As BR01   1  84.0 28.3 27.7 35.7 20.5 126.0 28.4 0.762 14.60\n",
            "2 Low    As BR01   2 111.7 34.0 30.0 58.1 14.8 119.0 36.7 0.722 10.77\n",
            "3 Low    As BR01   3 102.3 27.7 24.0 44.6  5.8 119.7 32.9 0.858 12.69\n",
            "4 Low    As BR06   1 118.0 23.3 19.7 46.4 20.3 119.0 40.0 1.053 18.23\n",
            "5 Low    As BR06   2 115.3 16.7 12.3 19.9 32.3 120.0 28.2 1.130 13.72\n",
            "6 Low    As BR06   3 111.0 19.0 15.3 35.9 14.9 116.3 42.3 1.011 15.97\n"
          ]
        }
      ],
      "source": [
        "%%R\n",
        "dataFolder<- \"/content/drive/MyDrive/R_Website/R_Bigenner/Data/\"\n",
        "df.txt<-read.table(paste0(dataFolder,\"test_data.txt\"), header= TRUE)\n"
      ]
    },
    {
      "cell_type": "markdown",
      "metadata": {
        "id": "MA4UspEtMQwp"
      },
      "source": [
        "Or you can directly load data directly from my Github data folder using following code:"
      ]
    },
    {
      "cell_type": "code",
      "execution_count": null,
      "metadata": {
        "colab": {
          "base_uri": "https://localhost:8080/"
        },
        "id": "IAi_ZC3BMTy3",
        "outputId": "6f39d022-9c15-44b5-e320-959bda0a6cb7"
      },
      "outputs": [
        {
          "name": "stdout",
          "output_type": "stream",
          "text": [
            "   ID treat  var rep    PH   TN   PN   GW ster   DTM   SW   GAs  STAs\n",
            "1 Low    As BR01   1  84.0 28.3 27.7 35.7 20.5 126.0 28.4 0.762 14.60\n",
            "2 Low    As BR01   2 111.7 34.0 30.0 58.1 14.8 119.0 36.7 0.722 10.77\n",
            "3 Low    As BR01   3 102.3 27.7 24.0 44.6  5.8 119.7 32.9 0.858 12.69\n",
            "4 Low    As BR06   1 118.0 23.3 19.7 46.4 20.3 119.0 40.0 1.053 18.23\n",
            "5 Low    As BR06   2 115.3 16.7 12.3 19.9 32.3 120.0 28.2 1.130 13.72\n",
            "6 Low    As BR06   3 111.0 19.0 15.3 35.9 14.9 116.3 42.3 1.011 15.97\n"
          ]
        }
      ],
      "source": [
        "%%R\n",
        "df.txt<-read.table(\"https://github.com/zia207/r-colab/raw/main/Data/R_Beginners/test_data.txt\",\n",
        "                    header= TRUE)\n",
        "head(df.txt)"
      ]
    },
    {
      "cell_type": "markdown",
      "metadata": {
        "id": "TW7Vkp_4Mgu8"
      },
      "source": [
        "However, `scan()` function could be used to scan and read data. It is usually used to read data into vector or list or from file in R Language.\n",
        "\n",
        "```\n",
        "scan(file = \"\", what = double(), nmax = -1, n = -1, sep =\"\",..)\n",
        "```"
      ]
    },
    {
      "cell_type": "code",
      "execution_count": null,
      "metadata": {
        "colab": {
          "base_uri": "https://localhost:8080/"
        },
        "id": "0SZRdCaYNOQP",
        "outputId": "7b9bc92c-8a3c-4c70-b317-6f8dd015bb77"
      },
      "outputs": [
        {
          "name": "stderr",
          "output_type": "stream",
          "text": [
            "WARNING:rpy2.rinterface_lib.callbacks:R[write to console]: Read 201 records\n",
            "\n"
          ]
        }
      ],
      "source": [
        "%%R\n",
        "#df.scan<-scan(paste0(dataFolder,\"test_data.txt\"),  what = list(\"\", \"\", \"\"))\n",
        "df.scan<-scan(\"https://github.com/zia207/r-colab/raw/main/Data/R_Beginners/test_data.txt\",\n",
        "                    what = list(\"\", \"\", \"\"))"
      ]
    },
    {
      "cell_type": "markdown",
      "metadata": {
        "id": "vGoap-QtNVrd"
      },
      "source": [
        "### Comma-Separated File (.csv)\n",
        "\n",
        "A comma delimited or comma-separated file (CSV) is one where each value in the file is separated by a `comma`, although other characters can be used. Reading data from a CSV file is made easy by the `read.csv()`, an extension of `read.table()`. It facilitates the direct import of data from CSV files.\n",
        "\n",
        "```\n",
        "read.csv(file, header = TRUE, sep = \",\", quote = \"\"\",...)\n",
        "```\n"
      ]
    },
    {
      "cell_type": "code",
      "execution_count": null,
      "metadata": {
        "id": "cW5nX0KJN3hN"
      },
      "outputs": [],
      "source": [
        "%%R\n",
        "df.csv<-read.csv(paste0(dataFolder,\"test_data.csv\"), header= TRUE)"
      ]
    },
    {
      "cell_type": "markdown",
      "metadata": {
        "id": "VksHFQQHN8QW"
      },
      "source": [
        "Or you can load data directly from my Github data folder using following code:"
      ]
    },
    {
      "cell_type": "code",
      "execution_count": null,
      "metadata": {
        "id": "Av5Q1yL6N_Cb"
      },
      "outputs": [],
      "source": [
        "%%R\n",
        "df.csv<-read.csv(\"https://github.com/zia207/r-colab/raw/main/Data/R_Beginners/test_data.csv\",\n",
        "                  header= TRUE)"
      ]
    },
    {
      "cell_type": "markdown",
      "metadata": {
        "id": "pNN43GhpOFOq"
      },
      "source": [
        "### Excel Files (.xlsx)\n",
        "\n",
        "If you want to get data from Excel into R, one of the easiest ways to do it is to export the Excel file to a CSV file and then import it using the above method. But if you don't want to do that, you can use the {readxl} package. It's easy to use since it has no extra dependencies, so that you can install it on any operating system.\n",
        "\n",
        "{readxl} package supports both the legacy `.xls` format and the modern xml-based `.xlsx` format. The libxls C library is used to support `.xls`, which abstracts away many of the complexities of the underlying binary format. To parse `.xlsx`, we use the RapidXML C++ library.\n",
        "\n",
        "To install the package, you can use the following command:\n",
        "\n",
        "```\n",
        "install.packages(readxl\")\n",
        "```\n",
        "\n",
        "`read_excel()` reads both `xls` and `xlsx` files and detects the format from the extension."
      ]
    },
    {
      "cell_type": "code",
      "execution_count": null,
      "metadata": {
        "colab": {
          "base_uri": "https://localhost:8080/"
        },
        "id": "HjKgLnOMOcO1",
        "outputId": "8b0d6198-282d-4676-e28b-fcaaef8796b9"
      },
      "outputs": [
        {
          "name": "stdout",
          "output_type": "stream",
          "text": [
            "# A tibble: 6 × 13\n",
            "     ID treat  var     rep    PH    TN    PN    GW  ster   DTM    SW   GAs  STAs\n",
            "  <dbl> <chr>  <chr> <dbl> <dbl> <dbl> <dbl> <dbl> <dbl> <dbl> <dbl> <dbl> <dbl>\n",
            "1     1 Low As BR01      1   84   28.3  27.7  35.7  20.5  126   28.4 0.762  14.6\n",
            "2     2 Low As BR01      2  112.  34    30    58.1  14.8  119   36.7 0.722  10.8\n",
            "3     3 Low As BR01      3  102.  27.7  24    44.6   5.8  120.  32.9 0.858  12.7\n",
            "4     4 Low As BR06      1  118   23.3  19.7  46.4  20.3  119   40   1.05   18.2\n",
            "5     5 Low As BR06      2  115.  16.7  12.3  19.9  32.3  120   28.2 1.13   13.7\n",
            "6     6 Low As BR06      3  111   19    15.3  35.9  14.9  116.  42.3 1.01   16.0\n"
          ]
        }
      ],
      "source": [
        "%%R\n",
        "# Import Sheet 1, from a excel file\n",
        "df.xl <-readxl::read_excel(paste0(dataFolder,\"test_data.xlsx\"), 1)\n",
        "head(df.xl)"
      ]
    },
    {
      "cell_type": "markdown",
      "metadata": {
        "id": "iGKPzaMVVpsj"
      },
      "source": [
        "### JSON Files (.json)\n",
        "\n",
        "JSON is an open standard file and lightweight data-interchange format that stands for *J*ava*S*cript *O*bject *N*otation. The JSON file is a text file that is language independent, self-describing, and easy to understand.\n",
        "\n",
        "The JSON file is read by R as a **list** using the function `fromJSON()` of  {rjson} package.\n",
        "\n",
        "```\n",
        "install.packages(\"rjson\")\n",
        "fromJSON(json_str, file, method = \"C\", unexpected.escape = \"error\", sim..)\n",
        "```"
      ]
    },
    {
      "cell_type": "code",
      "execution_count": null,
      "metadata": {
        "id": "TbcspqnaVrR2"
      },
      "outputs": [],
      "source": [
        "%%R\n",
        "# read .json file\n",
        "df.json <- rjson::fromJSON(file= paste0(dataFolder, \"test_data.json\"),  simplify=TRUE)\n",
        "#print(df.json)"
      ]
    },
    {
      "cell_type": "markdown",
      "metadata": {
        "id": "dzasa1esVwvS"
      },
      "source": [
        "We can convert a JESON file to a regilar data frame:"
      ]
    },
    {
      "cell_type": "code",
      "execution_count": null,
      "metadata": {
        "colab": {
          "base_uri": "https://localhost:8080/"
        },
        "id": "A7G52NBCVxfF",
        "outputId": "621c6e8c-d7c3-404c-b2fd-19b015cc3b4e"
      },
      "outputs": [
        {
          "name": "stdout",
          "output_type": "stream",
          "text": [
            "  ID  treat  var rep    PH   TN   PN   GW ster   DTM   SW   GAs  STAs\n",
            "1  1 Low As BR01   1  84.0 28.3 27.7 35.7 20.5 126.0 28.4 0.762 14.60\n",
            "2  2 Low As BR01   2 111.7 34.0 30.0 58.1 14.8 119.0 36.7 0.722 10.77\n",
            "3  3 Low As BR01   3 102.3 27.7 24.0 44.6  5.8 119.7 32.9 0.858 12.69\n",
            "4  4 Low As BR06   1 118.0 23.3 19.7 46.4 20.3 119.0 40.0 1.053 18.23\n",
            "5  5 Low As BR06   2 115.3 16.7 12.3 19.9 32.3 120.0 28.2 1.130 13.72\n",
            "6  6 Low As BR06   3 111.0 19.0 15.3 35.9 14.9 116.3 42.3 1.011 15.97\n"
          ]
        }
      ],
      "source": [
        "%%R\n",
        "df.json <- as.data.frame(df.json)\n",
        "head(df.json)"
      ]
    },
    {
      "cell_type": "markdown",
      "metadata": {
        "id": "dJxuJcbIW_Ai"
      },
      "source": [
        "### Import Data from Other Statistical Software\n",
        "\n",
        "{foreign} packages is mostly used to read data stored by `Minitab`, `SAS`, `SPSS`, `Stata`, `Systat`, `dBase`, and so forth.\n",
        "\n",
        "```\n",
        "install.packages(\"foreign\")\n",
        "```\n",
        "\n",
        "{Haven} enables R to read and write various data formats used by other statistical packages by wrapping with [ReadStat](https://github.com/WizardMac/ReadStat) C library. written b Haven is part of the tidyverse. Current it support `SAS`, `SPSS` and `Stata` files\n",
        "\n",
        "```\n",
        "install.packages(\"haven\")\n",
        "```\n"
      ]
    },
    {
      "cell_type": "markdown",
      "metadata": {
        "id": "xAtXdObfXA62"
      },
      "source": [
        "#### STATA File (.dta)"
      ]
    },
    {
      "cell_type": "markdown",
      "metadata": {
        "id": "Z0SAyks-XFpz"
      },
      "source": [
        "##### Foreign - read.dta()\n",
        "\n",
        "`read.dta()` function from {foreign} package can reads a file in Stata version 5-12 binary format (`.dta`) into a data frame."
      ]
    },
    {
      "cell_type": "code",
      "execution_count": null,
      "metadata": {
        "id": "1jNI6cTCXJ33"
      },
      "outputs": [],
      "source": [
        "%%R\n",
        "# read .dta file\n",
        "df.dta_01 <- foreign::read.dta(paste0(dataFolder,\"test_data.dta\"))"
      ]
    },
    {
      "cell_type": "markdown",
      "metadata": {
        "id": "Hz4vU8PlXN_6"
      },
      "source": [
        "##### Haven - read_dta()\n",
        "`read_dta()` function from {haven} package can read a file in Stata version 5-12 binary format (`.dta`) into a data frame."
      ]
    },
    {
      "cell_type": "code",
      "execution_count": null,
      "metadata": {
        "id": "a6CnHaJ4XTed"
      },
      "outputs": [],
      "source": [
        "%%R\n",
        "# read .dta file\n",
        "df.dta_02 <- haven::read_dta(paste0(dataFolder,\"test_data.dta\"))"
      ]
    },
    {
      "cell_type": "markdown",
      "metadata": {
        "id": "OgzsiFWGXoPj"
      },
      "source": [
        "#### SPSS File (.sav)"
      ]
    },
    {
      "cell_type": "markdown",
      "metadata": {
        "id": "R6O66fr6Xqcr"
      },
      "source": [
        "##### Foreign - read.spss()"
      ]
    },
    {
      "cell_type": "code",
      "execution_count": null,
      "metadata": {
        "id": "wpZfrp_AXvDY"
      },
      "outputs": [],
      "source": [
        "%%R\n",
        "# read .sav file\n",
        "df.sav_01 <- foreign::read.spss(paste0(dataFolder,\"test_data.sav\"))"
      ]
    },
    {
      "cell_type": "markdown",
      "metadata": {
        "id": "1GlFLiFRXymF"
      },
      "source": [
        "##### Haven - read_sav()"
      ]
    },
    {
      "cell_type": "code",
      "execution_count": null,
      "metadata": {
        "id": "SVg2aZ22Xx7D"
      },
      "outputs": [],
      "source": [
        "%%R\n",
        "# read .sav file\n",
        "df.sav_02 <- haven::read_sav(paste0(dataFolder,\"test_data.sav\"))"
      ]
    },
    {
      "cell_type": "markdown",
      "metadata": {
        "id": "x9ghxpnKX8WU"
      },
      "source": [
        "#### SAS File (.sas7bdat)\n",
        "\n",
        "`read_sas()` function from haven package can read sas (.sas7bdat) file easily."
      ]
    },
    {
      "cell_type": "markdown",
      "metadata": {
        "id": "IrmMavWXGoM_"
      },
      "source": [
        "## Write as CSV Files\n",
        "\n",
        "First of all, let create a data frame that we will going to export as a text/CSV file.\n",
        "\n"
      ]
    },
    {
      "cell_type": "code",
      "execution_count": null,
      "metadata": {
        "colab": {
          "base_uri": "https://localhost:8080/"
        },
        "id": "8RKMtTHI6l3u",
        "outputId": "b7b1c956-f00c-4823-a2cf-f5f087eae89e"
      },
      "outputs": [
        {
          "name": "stdout",
          "output_type": "stream",
          "text": [
            "  Variety Yield\n",
            "1     BR1   5.2\n",
            "2     BR3   6.0\n",
            "3    BR16   6.6\n",
            "4    BR17   5.6\n",
            "5    BR18   4.7\n",
            "6    BR19   5.2\n"
          ]
        }
      ],
      "source": [
        "%%R\n",
        "Variety =c(\"BR1\",\"BR3\", \"BR16\", \"BR17\", \"BR18\", \"BR19\",\"BR26\",\n",
        "\t      \"BR27\",\"BR28\",\"BR29\",\"BR35\",\"BR36\") # create a text vector\n",
        "Yield = c(5.2,6.0,6.6,5.6,4.7,5.2,5.7,\n",
        "\t            5.9,5.3,6.8,6.2,5.8) # create numerical vector\n",
        "rice.data= data.frame(Variety, Yield)\n",
        "head(rice.data)"
      ]
    },
    {
      "cell_type": "markdown",
      "metadata": {
        "id": "QGMv7X8v74LC"
      },
      "source": [
        "The popular R base functions for writing data are `write.table()`, `write.csv()`, `write.csv2()` and `write.delim()` functions.\n",
        "\n",
        "Before start, you need to specify the working or destination directory in where you will save the data."
      ]
    },
    {
      "cell_type": "code",
      "execution_count": null,
      "metadata": {
        "id": "gXfSYaGPGpbl"
      },
      "outputs": [],
      "source": [
        "%%R\n",
        "dataFolder<- \"/content/drive/MyDrive/R_Website/R_Bigenner/Data/\"\n",
        "write.csv(rice.data, paste0(dataFolder, \"rice_data.csv\"), row.names = F) # no row names\n"
      ]
    },
    {
      "cell_type": "markdown",
      "metadata": {
        "id": "SqJQoPMbC4sA"
      },
      "source": [
        "## Write as Excel File\n",
        "\n",
        "Exporting data from R to Excel can be achieved with several packages. The most known package to export data frames or tables as Excel is **writexl**, that provides the ``write_xlsx()` functions."
      ]
    },
    {
      "cell_type": "code",
      "execution_count": null,
      "metadata": {
        "id": "dKU4UEAtHTHd"
      },
      "outputs": [],
      "source": [
        "%%R\n",
        "dataFolder<- \"/content/drive/MyDrive/R_Website/R_Bigenner/Data/\"\n",
        "# write as xlsx file\n",
        "writexl::write_xlsx(rice.data, paste0(dataFolder, \"rice_data.xlsx\"))"
      ]
    },
    {
      "cell_type": "markdown",
      "metadata": {
        "id": "LoHVxqxLz9UZ"
      },
      "source": [
        "## Write as JSON Objects\n",
        "\n",
        "To write JSON Object to file, the `toJSON()` function from the **rjson** library can be used to prepare a JSON object and then use the `write()` function for writing the JSON object to a local file."
      ]
    },
    {
      "cell_type": "code",
      "execution_count": null,
      "metadata": {
        "id": "zh615aRi0Ev4"
      },
      "outputs": [],
      "source": [
        "%%R\n",
        "dataFolder<-\"/content/drive/MyDrive/R_Website/R_Bigenner/Data/\"\n",
        "# create a JSON object\n",
        "jsonData <-rjson::toJSON(rice.data)\n",
        "# write JSON objects\n",
        "write(jsonData, file= paste0(dataFolder,\"rice_data.json\"))"
      ]
    },
    {
      "cell_type": "markdown",
      "metadata": {
        "id": "l1vfNT2E3YY9"
      },
      "source": [
        "## R Data File\n",
        "\n",
        "If you want to share the data from R as Objects and share those with your colleagues through different systems so that they can use it right away into their R-workspace. These objects are of two types **.rda/.RData** which can be used to store some or all objects, functions from R global environment.\n",
        "\n",
        "The `save()` function allows us to save multiple objects into our global environment:."
      ]
    },
    {
      "cell_type": "code",
      "execution_count": null,
      "metadata": {
        "id": "1e7cYHTK5LO9"
      },
      "outputs": [],
      "source": [
        "%%R\n",
        "dataFolder<-\"/content/drive/MyDrive/R_Website/R_Bigenner/Data/\"\n",
        "save(rice.data, Variety, Yield,  file= paste0(dataFolder,\"rice_data.RData\"))"
      ]
    },
    {
      "cell_type": "markdown",
      "metadata": {
        "id": "iHCT14aE5nmP"
      },
      "source": [
        "If you specify `save.image(file = \"R_objects.RData\")` Export all objects (the workspace image).\n",
        "\n",
        "To save only one object it is more recommended saving it as RDS with the `saveRDS()` function:"
      ]
    },
    {
      "cell_type": "code",
      "execution_count": null,
      "metadata": {
        "id": "RjFh0Wg-5nZg"
      },
      "outputs": [],
      "source": [
        "%%R\n",
        "saveRDS(rice.data,  file= paste0(dataFolder,\"rice_data.rds\"))"
      ]
    },
    {
      "cell_type": "markdown",
      "metadata": {
        "id": "v6J0ZHqV-hRi"
      },
      "source": [
        "If you specify `compress = TRUE` as argument of the above functions the file will be compressed by default as gzip."
      ]
    },
    {
      "cell_type": "markdown",
      "metadata": {
        "id": "tSo8Vwdd6A-w"
      },
      "source": [
        "## Export to Other Statistcal Software\n"
      ]
    },
    {
      "cell_type": "markdown",
      "metadata": {
        "id": "QZbz3R8n6QI5"
      },
      "source": [
        "### Write STATA File (.dta)\n",
        "\n",
        "If you want export data from R to STATA, you will need to use the `write.dta()` function of the **foreign** package. This package provides functions for r"
      ]
    },
    {
      "cell_type": "code",
      "execution_count": null,
      "metadata": {
        "id": "mOuTgYNI6Ugi"
      },
      "outputs": [],
      "source": [
        "%%R\n",
        "dataFolder<-\"/content/drive/MyDrive/R_Website/R_Bigenner/Data/\"\n",
        "foreign::write.dta(rice.data, file= paste0(dataFolder,\"rice_data.dta\"))"
      ]
    },
    {
      "cell_type": "markdown",
      "metadata": {
        "id": "pfzxWJ246wwf"
      },
      "source": [
        "### SPSS File\n",
        "\n",
        "Haven enables R to read and write various data formats used by other statistical packages by wrapping with [ReadStat](https://github.com/WizardMac/ReadStat) C library. written b Haven is part of the tidyverse. Current it support **SAS**, **SPSS** and **Stata** files\n",
        "\n",
        "The `write_sav()` function of **haven** package can be used to export R-object to SPSS"
      ]
    },
    {
      "cell_type": "markdown",
      "metadata": {
        "id": "nwEGyfAQ2zsu"
      },
      "source": []
    },
    {
      "cell_type": "code",
      "execution_count": null,
      "metadata": {
        "id": "hFXtvic563B2"
      },
      "outputs": [],
      "source": [
        "%%R\n",
        "dataFolder<-\"/content/drive/MyDrive/R_Website/R_Bigenner/Data/\"\n",
        "# write .sav file\n",
        "haven::write_sav(rice.data, \"/content/drive/MyDrive/R_Website/R_Bigenner/Data/rice_data.sav\")"
      ]
    },
    {
      "cell_type": "markdown",
      "metadata": {
        "id": "mMaUFPt87U-G"
      },
      "source": [
        "### Write as a SAS File (.sas7bdat)\n",
        "\n",
        "The `write_sas()` function of **haven** package can be used to export R-object to SAS (.sas7bdat)."
      ]
    },
    {
      "cell_type": "code",
      "execution_count": null,
      "metadata": {
        "id": "Jy6k8tga7bwk"
      },
      "outputs": [],
      "source": [
        "%%R\n",
        "haven::write_sas(rice.data, \"/content/drive/MyDrive/R_Website/R_Bigenner/Data/rice_data.sas7bdat\")"
      ]
    },
    {
      "cell_type": "markdown",
      "metadata": {
        "id": "axPydBgf2xdd"
      },
      "source": [
        "## Summary\n",
        "\n",
        "This comprehensive tutorial provides an in-depth guide on exporting data from R, emphasizing the critical role of effective data dissemination in the data analysis workflow. The tutorial covers various methods to export data to different formats and other statistical software, including CSV, Excel, SAS, SPSS, and Stata. Understanding these techniques is pivotal for sharing your findings and insights with others or integrating your results into different applications. In addition to the methods for exporting data, the tutorial also covers essential considerations during the export process. For instance, it highlights the importance of handling factors like row and column names, specifying delimiters, and addressing potential challenges that may arise. By paying attention to these details, you can ensure that the exported data maintains its integrity and is readily usable by others. The tutorial also emphasizes that the ability to export data efficiently is not just about generating output but also about facilitating collaboration and communication. Whether you're sharing results with colleagues, collaborating on research, or integrating data into external systems, the skills learned in this tutorial empower you to present your findings in a clear and accessible manner. As your data analysis journey progresses, the tutorial encourages you to explore advanced export techniques, such as connecting to databases for direct exports or automating data export processes. Expanding your knowledge in this area will enhance your capabilities and streamline your workflow, allowing you to spend more time analyzing data and less time on data management tasks. Ultimately, the tutorial stresses that effective data export is crucial to transforming your analysis into actionable insights. To achieve this, it recommends practicing these export techniques on diverse datasets, adapting them to your specific needs, and embracing the opportunities to communicate your findings effectively. With these skills, you'll be well-equipped to share your data-driven discoveries with the world, making a meaningful impact in your field."
      ]
    },
    {
      "cell_type": "markdown",
      "metadata": {
        "id": "0Ovc25MJTsD8"
      },
      "source": [
        "## Resources\n",
        "\n",
        "1.  [How do I read data into R?](https://www.datafiles.samhsa.gov/get-help/format-specific-issues/how-do-i-read-data-r)\n",
        "\n",
        "2.  [R Coder](https://r-coder.com/export-data-r/)\n",
        "\n",
        "3.  [Introduction to bioinformatics](https://uclouvain-cbio.github.io/WSBIM1207/sec-bioinfo.html)\n",
        "\n",
        "4.  [Many Ways of Reading Data Into R --- 1](https://medium.com/analytics-vidhya/many-ways-of-reading-data-into-r-1-52b02825cb27)"
      ]
    }
  ],
  "metadata": {
    "colab": {
      "authorship_tag": "ABX9TyMTCq718ZK31BcqZWMK7R2R",
      "include_colab_link": true,
      "provenance": []
    },
    "kernelspec": {
      "display_name": "Python 3",
      "name": "python3"
    },
    "language_info": {
      "name": "python"
    }
  },
  "nbformat": 4,
  "nbformat_minor": 0
}
