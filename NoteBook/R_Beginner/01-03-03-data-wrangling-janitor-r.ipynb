{
  "cells": [
    {
      "cell_type": "markdown",
      "metadata": {
        "id": "view-in-github",
        "colab_type": "text"
      },
      "source": [
        "<a href=\"https://colab.research.google.com/github/zia207/r-colab/blob/main/NoteBook/R_Beginner/01-03-03-data-wrangling-janitor-r.ipynb\" target=\"_parent\"><img src=\"https://colab.research.google.com/assets/colab-badge.svg\" alt=\"Open In Colab\"/></a>"
      ]
    },
    {
      "cell_type": "markdown",
      "source": [
        "![alt text](http://drive.google.com/uc?export=view&id=1bLQ3nhDbZrCCqy_WCxxckOne2lgVvn3l)"
      ],
      "metadata": {
        "id": "haqvoGB9aZjA"
      }
    },
    {
      "cell_type": "markdown",
      "metadata": {
        "id": "MGoP0AbXEAUx"
      },
      "source": [
        "# Data Wrangling with {janitor}\n",
        "\n"
      ]
    },
    {
      "cell_type": "markdown",
      "source": [
        "The [janitor]( [janitor](https://github.com/sfirke/janitor)) package in the R programming language is a popular and powerful tool for data cleaning and manipulation. It offers a variety of functions that help to clean up messy data sets quickly and easily and turn them into a more organized format. The package includes functions that remove duplicate data, handle missing values, and format column names. Additionally, it provides features to handle whitespace, convert data types, and generate summary statistics for data sets. Overall, the janitor package is an essential resource for anyone working with data in R, as it can significantly save time and effort in data cleaning and preparation. The janitor package is designed to be user-friendly and is optimized for those who are new to R. It includes simple functions for examining and cleaning up messy data, and the package can help advanced R users to perform these tasks more quickly and efficiently. The main functions of the janitor package include formatting data frame column names, creating and formatting frequency tables of one, two, or three variables, and providing other tools for cleaning and examining data frames."
      ],
      "metadata": {
        "id": "zKjF3a5iR7mB"
      }
    },
    {
      "cell_type": "markdown",
      "source": [
        "![alt text](http://drive.google.com/uc?export=view&id=1sHkaR2OpE-1vdPUPvNj_8zy4IruVzRJj)\n",
        "\n"
      ],
      "metadata": {
        "id": "eYldLaYxSowm"
      }
    },
    {
      "cell_type": "markdown",
      "source": [
        "### Some common functionalists\n",
        "\n",
        "Here are some common functionalists provided by the **`janitor`** package:\n",
        "\n",
        "**Cleaning Functions:**\n",
        "\n",
        "1.  `clean_names()`: Renames columns by converting them to snake_case or lower_case and removing special characters.\n",
        "\n",
        "2.  `remove_empty()`: Removes rows and columns that are entirely empty.\n",
        "\n",
        "3.  `remove_constant()`: Removes columns that have constant values throughout.\n",
        "\n",
        "**Data Frame Manipulation:**\n",
        "\n",
        "1.  `get_dupes()`: Finds duplicate rows in a data frame.\n",
        "\n",
        "2.  `tabyl()`: Generates frequency tables (similar to `table()` but returns a data frame).\n",
        "\n",
        "3.  `adorn_totals()`: Adds total rows or columns to a data frame.\n",
        "\n",
        "**Column Operations:**\n",
        "\n",
        "1.  `add_columns()`: Adds new columns to a data frame.\n",
        "\n",
        "2.  `recode_factor()`: Modifies levels of a factor variable.\n",
        "\n",
        "**Missing Values Handling:**\n",
        "\n",
        "1.  `remove_missing()`: Removes rows or columns containing missing values.\n",
        "\n",
        "2.  `replace_na()`: Replaces missing values with specified values.\n",
        "\n",
        "#### **Factor Variables:**\n",
        "\n",
        "1.  `factorize()`: Converts columns to factor variables.\n",
        "\n",
        "**Other Useful Functions:**\n",
        "\n",
        "1.  `row_to_names()`: Converts a row to column names.\n",
        "\n",
        "2.  `crossing()`: Creates all combinations of rows from multiple data frames.\n",
        "\n",
        "Using these functions, you can perform various data cleaning and transformation tasks\n",
        "\n"
      ],
      "metadata": {
        "id": "lB8NkvuWSYAD"
      }
    },
    {
      "cell_type": "markdown",
      "metadata": {
        "id": "CdQJ-mgsEU9J"
      },
      "source": [
        "## Install rpy2\n",
        "\n",
        "Easy way to run R in Colab with Python runtime using **rpy2** python package. We have to install this package using the pip command:"
      ]
    },
    {
      "cell_type": "code",
      "execution_count": null,
      "metadata": {
        "id": "qOD7NpajDy5k"
      },
      "outputs": [],
      "source": [
        "!pip uninstall rpy2 -y\n",
        "! pip install rpy2==3.5.1\n",
        "%load_ext rpy2.ipython"
      ]
    },
    {
      "cell_type": "markdown",
      "metadata": {
        "id": "qmEDD0ccEurf"
      },
      "source": [
        "##  Mount Google Drive\n",
        "\n",
        "Then you must create a folder in Goole drive named \"R\" to install all packages permanently. Before installing R-package in Python runtime. You have to mount Google Drive and follow on-screen instruction:"
      ]
    },
    {
      "cell_type": "code",
      "execution_count": null,
      "metadata": {
        "id": "lClKZUW1Eu_G",
        "colab": {
          "base_uri": "https://localhost:8080/"
        },
        "outputId": "e3619723-5ab0-42ac-d65a-210434cb9254"
      },
      "outputs": [
        {
          "output_type": "stream",
          "name": "stdout",
          "text": [
            "Mounted at /content/drive\n"
          ]
        }
      ],
      "source": [
        "from google.colab import drive\n",
        "drive.mount('/content/drive')"
      ]
    },
    {
      "cell_type": "markdown",
      "source": [
        "## Check and Install Required R Packages"
      ],
      "metadata": {
        "id": "O8mTSRI-GknP"
      }
    },
    {
      "cell_type": "code",
      "source": [
        "%%R\n",
        "packages <- c(\n",
        "          'tidyverse',\n",
        "          'janitor'\n",
        ")"
      ],
      "metadata": {
        "id": "JbN1rkO7Gh2j"
      },
      "execution_count": null,
      "outputs": []
    },
    {
      "cell_type": "code",
      "source": [
        "%%R\n",
        "# Install missing packages\n",
        "new.packages <- packages[!(packages %in% installed.packages(lib='drive/My Drive/R/')[,\"Package\"])]\n",
        "if(length(new.packages)) install.packages(new.packages, lib='drive/My Drive/R/')\n",
        "\n",
        "# Verify installation\n",
        "cat(\"Installed packages:\\n\")\n",
        "print(sapply(packages, requireNamespace, quietly = TRUE))"
      ],
      "metadata": {
        "id": "6m10lNUu-Ams"
      },
      "execution_count": null,
      "outputs": []
    },
    {
      "cell_type": "markdown",
      "source": [
        "## Load Packages"
      ],
      "metadata": {
        "id": "DjDmVyITGsDh"
      }
    },
    {
      "cell_type": "code",
      "source": [
        "%%R\n",
        "# set library path\n",
        ".libPaths('drive/My Drive/R')\n",
        "# Load packages with suppressed messages\n",
        "invisible(lapply(packages, function(pkg) {\n",
        "  suppressPackageStartupMessages(library(pkg, character.only = TRUE))\n",
        "}))"
      ],
      "metadata": {
        "id": "9Pn9zXgyGsMM"
      },
      "execution_count": null,
      "outputs": []
    },
    {
      "cell_type": "code",
      "source": [
        "%%R\n",
        "# Check loaded packages\n",
        "cat(\"Successfully loaded packages:\\n\")\n",
        "print(search()[grepl(\"package:\", search())])"
      ],
      "metadata": {
        "id": "mlYAtbQO-FCB"
      },
      "execution_count": null,
      "outputs": []
    },
    {
      "cell_type": "markdown",
      "source": [
        "## Some Important functions\n",
        "\n",
        "We will create some \"bad\" data and clean them with janitor. We will apply following functions:\n",
        "\n",
        "-   `clean_names()`\n",
        "\n",
        "-   `remove_empty()`\n",
        "\n",
        "-   `trim_ws()`\n",
        "\n",
        "-   `get_dupes()`\n",
        "\n",
        "-   `remove_constant()`\n"
      ],
      "metadata": {
        "id": "gKxrhBBQSlhM"
      }
    },
    {
      "cell_type": "markdown",
      "source": [
        "### clean_names()\n",
        "\n",
        "The `clean_names()` function is used to clean column names in a data frame. It converts the column names to lowercase and replaces all spaces and special characters with underscores."
      ],
      "metadata": {
        "id": "1fXOYcliyzen"
      }
    },
    {
      "cell_type": "code",
      "source": [
        "%%R\n",
        "# Create a data frame with messy column names\n",
        "df <- data.frame(\"Column One\" = 1:5,\n",
        "                 \"Column Two!!\" = 6:10,\n",
        "                 \"Column Three $\" = 11:15,\n",
        "                 \"%Column four\" = 11:15)\n",
        "head(df)"
      ],
      "metadata": {
        "colab": {
          "base_uri": "https://localhost:8080/"
        },
        "id": "1Fgvq_51EhQ8",
        "outputId": "2270864c-2443-461f-cd58-3e25e6790924"
      },
      "execution_count": null,
      "outputs": [
        {
          "output_type": "stream",
          "name": "stdout",
          "text": [
            "  Column.One Column.Two.. Column.Three.. X.Column.four\n",
            "1          1            6             11            11\n",
            "2          2            7             12            12\n",
            "3          3            8             13            13\n",
            "4          4            9             14            14\n",
            "5          5           10             15            15\n"
          ]
        }
      ]
    },
    {
      "cell_type": "code",
      "source": [
        "%%R\n",
        "df  |>\n",
        "  janitor::clean_names() |>\n",
        "  glimpse()"
      ],
      "metadata": {
        "colab": {
          "base_uri": "https://localhost:8080/"
        },
        "id": "cZc1Ew_LEpsx",
        "outputId": "60890b78-e679-46e1-c8ab-11a91474cf06"
      },
      "execution_count": null,
      "outputs": [
        {
          "output_type": "stream",
          "name": "stdout",
          "text": [
            "Rows: 5\n",
            "Columns: 4\n",
            "$ column_one    <int> 1, 2, 3, 4, 5\n",
            "$ column_two    <int> 6, 7, 8, 9, 10\n",
            "$ column_three  <int> 11, 12, 13, 14, 15\n",
            "$ x_column_four <int> 11, 12, 13, 14, 15\n"
          ]
        }
      ]
    },
    {
      "cell_type": "markdown",
      "source": [
        "### remove_empty()\n",
        "\n",
        "The `remove_empty()` function is used to remove rows or columns that contain only missing or empty values."
      ],
      "metadata": {
        "id": "X0j5DLDoE3rY"
      }
    },
    {
      "cell_type": "code",
      "source": [
        "%%R\n",
        "df <-  data.frame(x = c(1,NA,4),\n",
        "                    y = c(NA,NA,3),\n",
        "                    z = c(NA, NA, NA))\n",
        "\n",
        "head(df)"
      ],
      "metadata": {
        "colab": {
          "base_uri": "https://localhost:8080/"
        },
        "id": "hptoAbw4E713",
        "outputId": "36cf7ba8-ce79-48b0-f287-61ea12e569ec"
      },
      "execution_count": null,
      "outputs": [
        {
          "output_type": "stream",
          "name": "stdout",
          "text": [
            "   x  y  z\n",
            "1  1 NA NA\n",
            "2 NA NA NA\n",
            "3  4  3 NA\n"
          ]
        }
      ]
    },
    {
      "cell_type": "code",
      "source": [
        "%%R\n",
        "df %>%\n",
        "  janitor::remove_empty(c(\"rows\",\"cols\")) |>\n",
        "  glimpse()"
      ],
      "metadata": {
        "colab": {
          "base_uri": "https://localhost:8080/"
        },
        "id": "akNpwlKrFBf1",
        "outputId": "ac25e70e-d29e-40e9-b39b-5a4586682457"
      },
      "execution_count": null,
      "outputs": [
        {
          "output_type": "stream",
          "name": "stdout",
          "text": [
            "Rows: 2\n",
            "Columns: 2\n",
            "$ x <dbl> 1, 4\n",
            "$ y <dbl> NA, 3\n"
          ]
        }
      ]
    },
    {
      "cell_type": "markdown",
      "source": [
        "### get_dupes()\n",
        "\n",
        "The `get_dupes()` function is used to find duplicate rows in a data frame."
      ],
      "metadata": {
        "id": "pJ_sy7hlFHpR"
      }
    },
    {
      "cell_type": "code",
      "source": [
        "%%R\n",
        "# Create a dataframe with duplicates rows\n",
        "df <- data.frame(\"Column One\" = c(1, 2, 3, 1), \"Column Two\" = c(\"A\", \"B\", \"C\", \"A\"))\n",
        "head(df)"
      ],
      "metadata": {
        "colab": {
          "base_uri": "https://localhost:8080/"
        },
        "id": "iEvd12abFJmZ",
        "outputId": "acb679be-0499-4fd0-f595-70fcfc7c6b26"
      },
      "execution_count": null,
      "outputs": [
        {
          "output_type": "stream",
          "name": "stdout",
          "text": [
            "  Column.One Column.Two\n",
            "1          1          A\n",
            "2          2          B\n",
            "3          3          C\n",
            "4          1          A\n"
          ]
        }
      ]
    },
    {
      "cell_type": "code",
      "source": [
        "%%R\n",
        "get_dupes(df)"
      ],
      "metadata": {
        "colab": {
          "base_uri": "https://localhost:8080/"
        },
        "id": "BMz4JFVPFZlN",
        "outputId": "f35e3424-b9ec-4ce3-b300-cb839d5f4408"
      },
      "execution_count": null,
      "outputs": [
        {
          "output_type": "stream",
          "name": "stderr",
          "text": [
            "WARNING:rpy2.rinterface_lib.callbacks:R[write to console]: No variable names specified - using all columns.\n",
            "\n",
            "\n"
          ]
        },
        {
          "output_type": "stream",
          "name": "stdout",
          "text": [
            "  Column.One Column.Two dupe_count\n",
            "1          1          A          2\n",
            "2          1          A          2\n"
          ]
        }
      ]
    },
    {
      "cell_type": "markdown",
      "source": [
        "## Cleaning a Messy Data\n",
        "Now, we will clean up messy data using some functions of janitor packages. We will use Lung Cancer Mortality data from the USA.\n",
        "All data set used in this exercise can be downloaded from my [Dropbox](https://www.dropbox.com/scl/fo/fohioij7h503duitpl040/h?rlkey=3voumajiklwhgqw75fe8kby3o&dl=0) or from my [Github](https://github.com/zia207/r-colab/tree/main/Data/R_Beginners) accounts.\n",
        "\n"
      ],
      "metadata": {
        "id": "pcn48RSJ2Xnk"
      }
    },
    {
      "cell_type": "markdown",
      "source": [
        "We will use `read_csv()` function of **readr** package to import data from github as a **tidy** data."
      ],
      "metadata": {
        "id": "WuwRh_91IxVJ"
      }
    },
    {
      "cell_type": "code",
      "source": [
        "%%R\n",
        "mf = read_csv(\"https://github.com/zia207/r-colab/raw/main/Data/R_Beginners/USA_LBC_Data_raw.csv\")\n"
      ],
      "metadata": {
        "id": "NKhJzcrC0lGY"
      },
      "execution_count": null,
      "outputs": []
    },
    {
      "cell_type": "code",
      "source": [
        "%%R\n",
        "glimpse(mf)"
      ],
      "metadata": {
        "colab": {
          "base_uri": "https://localhost:8080/"
        },
        "id": "yg813S5tGNC3",
        "outputId": "4c008db2-c79d-4b73-dba9-c95f10ceae3d"
      },
      "execution_count": null,
      "outputs": [
        {
          "output_type": "stream",
          "name": "stdout",
          "text": [
            "Rows: 3,118\n",
            "Columns: 26\n",
            "$ `Lung Cancer Moratlity Rates and Risk in USA, Data Provider: Zia Ahmed` <chr> …\n",
            "$ ...2                                                                    <chr> …\n",
            "$ ...3                                                                    <chr> …\n",
            "$ ...4                                                                    <chr> …\n",
            "$ ...5                                                                    <chr> …\n",
            "$ ...6                                                                    <chr> …\n",
            "$ ...7                                                                    <chr> …\n",
            "$ ...8                                                                    <chr> …\n",
            "$ ...9                                                                    <chr> …\n",
            "$ ...10                                                                   <chr> …\n",
            "$ ...11                                                                   <chr> …\n",
            "$ ...12                                                                   <chr> …\n",
            "$ ...13                                                                   <chr> …\n",
            "$ ...14                                                                   <chr> …\n",
            "$ ...15                                                                   <chr> …\n",
            "$ ...16                                                                   <chr> …\n",
            "$ ...17                                                                   <chr> …\n",
            "$ ...18                                                                   <chr> …\n",
            "$ ...19                                                                   <chr> …\n",
            "$ ...20                                                                   <chr> …\n",
            "$ ...21                                                                   <chr> …\n",
            "$ ...22                                                                   <chr> …\n",
            "$ ...23                                                                   <chr> …\n",
            "$ ...24                                                                   <chr> …\n",
            "$ ...25                                                                   <chr> …\n",
            "$ ...26                                                                   <chr> …\n"
          ]
        }
      ]
    },
    {
      "cell_type": "markdown",
      "source": [
        "You may have received data files that contain some text at the top of the spreadsheet before the actual data begins. In this data-frame, the column headings briefly describe the data. However, we want the first row to be the column heading. To achieve this, we will use the `row_to_names()` function. This function requires the following arguments: the data source, the row number from which the column names should come, whether that row should be deleted from the data, and whether the rows above it should be deleted from the data."
      ],
      "metadata": {
        "id": "8FyowqdjJ2Xt"
      }
    },
    {
      "cell_type": "code",
      "source": [
        "%%R\n",
        "mf.01 = mf |>\n",
        "  janitor::row_to_names(1, remove_row = TRUE, remove_rows_above = TRUE)  |>\n",
        "  glimpse()"
      ],
      "metadata": {
        "colab": {
          "base_uri": "https://localhost:8080/"
        },
        "id": "Z0l93hxdG6b_",
        "outputId": "61f3a098-e8e7-49f6-b990-c29da91f39fb"
      },
      "execution_count": null,
      "outputs": [
        {
          "output_type": "stream",
          "name": "stdout",
          "text": [
            "Rows: 3,117\n",
            "Columns: 26\n",
            "$ REGION_ID            <chr> \"3\", \"3\", \"3\", \"3\", NA, NA, \"3\", \"3\", \"3\", \"3\", \"…\n",
            "$ STATE                <chr> \"Alabama\", \"Alabama\", \"Alabama\", \"Alabama\", NA, N…\n",
            "$ County               <chr> \"Baldwin County\", \"Butler County\", \"Butler County…\n",
            "$ `Empty Column 1`     <chr> NA, NA, NA, NA, NA, NA, NA, NA, NA, NA, NA, NA, N…\n",
            "$ X                    <chr> \"789777.5039\", \"877731.5725\", \"877731.5725\", \"984…\n",
            "$ Y                    <chr> \"884557.0795\", \"1007285.71\", \"1007285.71\", \"11486…\n",
            "$ Fips                 <chr> \"1003\", \"1013\", \"1013\", \"1017\", NA, NA, \"1023\", \"…\n",
            "$ `Empty_Column 2`     <chr> NA, NA, NA, NA, NA, NA, NA, NA, NA, NA, NA, NA, N…\n",
            "$ `LCB Mortality Rate` <chr> \"48.1\", \"38.3\", \"38.3\", \"49.6\", NA, NA, \"31.8\", \"…\n",
            "$ Smoking              <chr> \"20.8\", \"26\", \"26\", \"25.1\", NA, NA, \"21.8\", \"22.6…\n",
            "$ `PM  25`             <chr> \"7.89\", \"8.46\", \"8.46\", \"8.87\", NA, NA, \"8.58\", \"…\n",
            "$ NO2                  <chr> \"0.7939\", \"0.6344\", \"0.6344\", \"0.8442\", NA, NA, \"…\n",
            "$ SO2                  <chr> \"0.035343\", \"0.0135\", \"0.0135\", \"0.048177\", NA, N…\n",
            "$ Ozone                <chr> \"39.79\", \"38.31\", \"38.31\", \"40.1\", NA, NA, \"37.07…\n",
            "$ `Pop 65`             <chr> \"19.5\", \"19\", \"19\", \"18.9\", NA, NA, \"22.1\", \"19\",…\n",
            "$ `Pop Black`          <chr> \"9.24\", \"43.94\", \"43.94\", \"39.24\", NA, NA, \"41.94…\n",
            "$ `Pop Hipanic`        <chr> \"4.54\", \"1.26\", \"1.26\", \"2.14\", NA, NA, \"0.86\", \"…\n",
            "$ `Pop White`          <chr> \"83.06\", \"52.64\", \"52.64\", \"56.42\", NA, NA, \"56.2…\n",
            "$ Education            <chr> \"66\", \"38\", \"38\", \"47\", NA, NA, \"55\", \"39\", \"60\",…\n",
            "$ `Poverty %`          <chr> \"13.14\", \"26.14\", \"26.14\", \"21.52\", NA, NA, \"23.0…\n",
            "$ `Income Equality`    <chr> \"4.5\", \"5.1\", \"5.1\", \"4.7\", NA, NA, \"5.8\", \"8.2\",…\n",
            "$ Uninsured            <chr> \"13.34\", \"12.74\", \"12.74\", \"13.34\", NA, NA, \"12.8…\n",
            "$ DEM                  <chr> \"36.78\", \"111.70\", \"111.70\", \"227.03\", NA, NA, \"6…\n",
            "$ `Radon Zone Class`   <chr> \"Zone-3\", \"Zone-3\", \"Zone-3\", \"Zone-3\", NA, NA, \"…\n",
            "$ `Urban Rural`        <chr> \"Medium/small metro\", \"Nonmetro\", \"Nonmetro\", \"No…\n",
            "$ `Coal Production`    <chr> \"No\", \"No\", \"No\", \"No\", NA, NA, \"No\", \"No\", \"No\",…\n"
          ]
        }
      ]
    },
    {
      "cell_type": "markdown",
      "source": [
        "Still data has some empty columns and and empty rows, we are going to remove these empty columns and rows using `remove_empty()` function:\n",
        "\n",
        "\n"
      ],
      "metadata": {
        "id": "TUVQPkZtLMb-"
      }
    },
    {
      "cell_type": "code",
      "source": [
        "%%R\n",
        "mf.02 = mf.01 |>\n",
        "  janitor::remove_empty()  |>\n",
        "  glimpse()\n"
      ],
      "metadata": {
        "colab": {
          "base_uri": "https://localhost:8080/"
        },
        "id": "MQ7YEMR2J2wO",
        "outputId": "e85d4648-83db-4b11-81b4-81e135db36db"
      },
      "execution_count": null,
      "outputs": [
        {
          "output_type": "stream",
          "name": "stderr",
          "text": [
            "WARNING:rpy2.rinterface_lib.callbacks:R[write to console]: value for \"which\" not specified, defaulting to c(\"rows\", \"cols\")\n",
            "\n"
          ]
        },
        {
          "output_type": "stream",
          "name": "stdout",
          "text": [
            "Rows: 3,110\n",
            "Columns: 24\n",
            "$ REGION_ID            <chr> \"3\", \"3\", \"3\", \"3\", \"3\", \"3\", \"3\", \"3\", \"3\", \"3\",…\n",
            "$ STATE                <chr> \"Alabama\", \"Alabama\", \"Alabama\", \"Alabama\", \"Alab…\n",
            "$ County               <chr> \"Baldwin County\", \"Butler County\", \"Butler County…\n",
            "$ X                    <chr> \"789777.5039\", \"877731.5725\", \"877731.5725\", \"984…\n",
            "$ Y                    <chr> \"884557.0795\", \"1007285.71\", \"1007285.71\", \"11486…\n",
            "$ Fips                 <chr> \"1003\", \"1013\", \"1013\", \"1017\", \"1023\", \"1025\", \"…\n",
            "$ `LCB Mortality Rate` <chr> \"48.1\", \"38.3\", \"38.3\", \"49.6\", \"31.8\", \"42\", \"53…\n",
            "$ Smoking              <chr> \"20.8\", \"26\", \"26\", \"25.1\", \"21.8\", \"22.6\", \"21.2…\n",
            "$ `PM  25`             <chr> \"7.89\", \"8.46\", \"8.46\", \"8.87\", \"8.58\", \"8.42\", \"…\n",
            "$ NO2                  <chr> \"0.7939\", \"0.6344\", \"0.6344\", \"0.8442\", \"0.5934\",…\n",
            "$ SO2                  <chr> \"0.035343\", \"0.0135\", \"0.0135\", \"0.048177\", \"0.02…\n",
            "$ Ozone                <chr> \"39.79\", \"38.31\", \"38.31\", \"40.1\", \"37.07\", \"37.6…\n",
            "$ `Pop 65`             <chr> \"19.5\", \"19\", \"19\", \"18.9\", \"22.1\", \"19\", \"16.3\",…\n",
            "$ `Pop Black`          <chr> \"9.24\", \"43.94\", \"43.94\", \"39.24\", \"41.94\", \"43.9…\n",
            "$ `Pop Hipanic`        <chr> \"4.54\", \"1.26\", \"1.26\", \"2.14\", \"0.86\", \"1.34\", \"…\n",
            "$ `Pop White`          <chr> \"83.06\", \"52.64\", \"52.64\", \"56.42\", \"56.28\", \"52.…\n",
            "$ Education            <chr> \"66\", \"38\", \"38\", \"47\", \"55\", \"39\", \"60\", \"35\", \"…\n",
            "$ `Poverty %`          <chr> \"13.14\", \"26.14\", \"26.14\", \"21.52\", \"23.06\", \"24.…\n",
            "$ `Income Equality`    <chr> \"4.5\", \"5.1\", \"5.1\", \"4.7\", \"5.8\", \"8.2\", \"4.8\", …\n",
            "$ Uninsured            <chr> \"13.34\", \"12.74\", \"12.74\", \"13.34\", \"12.86\", \"13.…\n",
            "$ DEM                  <chr> \"36.78\", \"111.70\", \"111.70\", \"227.03\", \"68.24\", \"…\n",
            "$ `Radon Zone Class`   <chr> \"Zone-3\", \"Zone-3\", \"Zone-3\", \"Zone-3\", \"Zone-3\",…\n",
            "$ `Urban Rural`        <chr> \"Medium/small metro\", \"Nonmetro\", \"Nonmetro\", \"No…\n",
            "$ `Coal Production`    <chr> \"No\", \"No\", \"No\", \"No\", \"No\", \"No\", \"No\", \"No\", \"…\n"
          ]
        }
      ]
    },
    {
      "cell_type": "markdown",
      "source": [
        "Now, we are going fix column headings using `clean_names()`. It converts the column names to lowercase and replaces all spaces and special characters with underscores."
      ],
      "metadata": {
        "id": "RgrM-XgrHQ6u"
      }
    },
    {
      "cell_type": "code",
      "source": [
        "%%R\n",
        "mf.03 = mf.02  |>\n",
        "  janitor::clean_names()  |>\n",
        "  glimpse()"
      ],
      "metadata": {
        "colab": {
          "base_uri": "https://localhost:8080/"
        },
        "id": "vKa9GOAGOHcQ",
        "outputId": "6c70b383-fffb-4c35-f05b-8a101d53ddc6"
      },
      "execution_count": null,
      "outputs": [
        {
          "output_type": "stream",
          "name": "stdout",
          "text": [
            "Rows: 3,110\n",
            "Columns: 24\n",
            "$ region_id          <chr> \"3\", \"3\", \"3\", \"3\", \"3\", \"3\", \"3\", \"3\", \"3\", \"3\", \"…\n",
            "$ state              <chr> \"Alabama\", \"Alabama\", \"Alabama\", \"Alabama\", \"Alabam…\n",
            "$ county             <chr> \"Baldwin County\", \"Butler County\", \"Butler County\",…\n",
            "$ x                  <chr> \"789777.5039\", \"877731.5725\", \"877731.5725\", \"98421…\n",
            "$ y                  <chr> \"884557.0795\", \"1007285.71\", \"1007285.71\", \"1148648…\n",
            "$ fips               <chr> \"1003\", \"1013\", \"1013\", \"1017\", \"1023\", \"1025\", \"10…\n",
            "$ lcb_mortality_rate <chr> \"48.1\", \"38.3\", \"38.3\", \"49.6\", \"31.8\", \"42\", \"53.7…\n",
            "$ smoking            <chr> \"20.8\", \"26\", \"26\", \"25.1\", \"21.8\", \"22.6\", \"21.2\",…\n",
            "$ pm_25              <chr> \"7.89\", \"8.46\", \"8.46\", \"8.87\", \"8.58\", \"8.42\", \"8.…\n",
            "$ no2                <chr> \"0.7939\", \"0.6344\", \"0.6344\", \"0.8442\", \"0.5934\", \"…\n",
            "$ so2                <chr> \"0.035343\", \"0.0135\", \"0.0135\", \"0.048177\", \"0.0239…\n",
            "$ ozone              <chr> \"39.79\", \"38.31\", \"38.31\", \"40.1\", \"37.07\", \"37.68\"…\n",
            "$ pop_65             <chr> \"19.5\", \"19\", \"19\", \"18.9\", \"22.1\", \"19\", \"16.3\", \"…\n",
            "$ pop_black          <chr> \"9.24\", \"43.94\", \"43.94\", \"39.24\", \"41.94\", \"43.96\"…\n",
            "$ pop_hipanic        <chr> \"4.54\", \"1.26\", \"1.26\", \"2.14\", \"0.86\", \"1.34\", \"6.…\n",
            "$ pop_white          <chr> \"83.06\", \"52.64\", \"52.64\", \"56.42\", \"56.28\", \"52.98…\n",
            "$ education          <chr> \"66\", \"38\", \"38\", \"47\", \"55\", \"39\", \"60\", \"35\", \"53…\n",
            "$ poverty_percent    <chr> \"13.14\", \"26.14\", \"26.14\", \"21.52\", \"23.06\", \"24.6\"…\n",
            "$ income_equality    <chr> \"4.5\", \"5.1\", \"5.1\", \"4.7\", \"5.8\", \"8.2\", \"4.8\", \"4…\n",
            "$ uninsured          <chr> \"13.34\", \"12.74\", \"12.74\", \"13.34\", \"12.86\", \"13.28…\n",
            "$ dem                <chr> \"36.78\", \"111.70\", \"111.70\", \"227.03\", \"68.24\", \"69…\n",
            "$ radon_zone_class   <chr> \"Zone-3\", \"Zone-3\", \"Zone-3\", \"Zone-3\", \"Zone-3\", \"…\n",
            "$ urban_rural        <chr> \"Medium/small metro\", \"Nonmetro\", \"Nonmetro\", \"Nonm…\n",
            "$ coal_production    <chr> \"No\", \"No\", \"No\", \"No\", \"No\", \"No\", \"No\", \"No\", \"No…\n"
          ]
        }
      ]
    },
    {
      "cell_type": "markdown",
      "source": [
        "All data are exported in R as `chr`. We are going to convert column from 4 to 21 `as.numeric` and 22 to 23 `as.factor`. We will use `dplyr::mutate_at()` function:"
      ],
      "metadata": {
        "id": "y-G3MprPO1o3"
      }
    },
    {
      "cell_type": "code",
      "source": [
        "%%R\n",
        "mf.04= mf.03  |>\n",
        "     dplyr::mutate_at(4:21, as.numeric)  |>\n",
        "     dplyr::mutate_at(22:24, as.factor)  |>\n",
        "     glimpse()"
      ],
      "metadata": {
        "colab": {
          "base_uri": "https://localhost:8080/"
        },
        "id": "935NyNNYO2pN",
        "outputId": "af9f8bfe-1bee-4190-d919-0db7957f91bb"
      },
      "execution_count": null,
      "outputs": [
        {
          "output_type": "stream",
          "name": "stdout",
          "text": [
            "Rows: 3,110\n",
            "Columns: 24\n",
            "$ region_id          <chr> \"3\", \"3\", \"3\", \"3\", \"3\", \"3\", \"3\", \"3\", \"3\", \"3\", \"…\n",
            "$ state              <chr> \"Alabama\", \"Alabama\", \"Alabama\", \"Alabama\", \"Alabam…\n",
            "$ county             <chr> \"Baldwin County\", \"Butler County\", \"Butler County\",…\n",
            "$ x                  <dbl> 789777.5, 877731.6, 877731.6, 984214.7, 726606.5, 7…\n",
            "$ y                  <dbl> 884557.1, 1007285.7, 1007285.7, 1148648.7, 1023615.…\n",
            "$ fips               <dbl> 1003, 1013, 1013, 1017, 1023, 1025, 1031, 1035, 103…\n",
            "$ lcb_mortality_rate <dbl> 48.1, 38.3, 38.3, 49.6, 31.8, 42.0, 53.7, 46.9, 65.…\n",
            "$ smoking            <dbl> 20.8, 26.0, 26.0, 25.1, 21.8, 22.6, 21.2, 24.9, 25.…\n",
            "$ pm_25              <dbl> 7.89, 8.46, 8.46, 8.87, 8.58, 8.42, 8.42, 8.23, 8.2…\n",
            "$ no2                <dbl> 0.7939, 0.6344, 0.6344, 0.8442, 0.5934, 0.6432, 0.5…\n",
            "$ so2                <dbl> 0.035343, 0.013500, 0.013500, 0.048177, 0.023989, 0…\n",
            "$ ozone              <dbl> 39.79, 38.31, 38.31, 40.10, 37.07, 37.68, 38.46, 37…\n",
            "$ pop_65             <dbl> 19.5, 19.0, 19.0, 18.9, 22.1, 19.0, 16.3, 21.6, 20.…\n",
            "$ pop_black          <dbl> 9.24, 43.94, 43.94, 39.24, 41.94, 43.96, 17.26, 45.…\n",
            "$ pop_hipanic        <dbl> 4.54, 1.26, 1.26, 2.14, 0.86, 1.34, 6.76, 1.84, 1.6…\n",
            "$ pop_white          <dbl> 83.06, 52.64, 52.64, 56.42, 56.28, 52.98, 70.90, 50…\n",
            "$ education          <dbl> 66, 38, 38, 47, 55, 39, 60, 35, 53, 44, 58, 38, 38,…\n",
            "$ poverty_percent    <dbl> 13.14, 26.14, 26.14, 21.52, 23.06, 24.60, 16.20, 29…\n",
            "$ income_equality    <dbl> 4.5, 5.1, 5.1, 4.7, 5.8, 8.2, 4.8, 4.9, 4.6, 5.8, 5…\n",
            "$ uninsured          <dbl> 13.34, 12.74, 12.74, 13.34, 12.86, 13.28, 13.16, 15…\n",
            "$ dem                <dbl> 36.78, 111.70, 111.70, 227.03, 68.24, 69.29, 99.32,…\n",
            "$ radon_zone_class   <fct> Zone-3, Zone-3, Zone-3, Zone-3, Zone-3, Zone-3, Zon…\n",
            "$ urban_rural        <fct> Medium/small metro, Nonmetro, Nonmetro, Nonmetro, N…\n",
            "$ coal_production    <fct> No, No, No, No, No, No, No, No, No, No, No, No, No,…\n"
          ]
        }
      ]
    },
    {
      "cell_type": "markdown",
      "source": [
        "Now will check the duplicates record in the this dat with `get_dupes()` function:"
      ],
      "metadata": {
        "id": "QxcAcJgmPL_M"
      }
    },
    {
      "cell_type": "code",
      "source": [
        "%%R\n",
        "mf.04 |> janitor::get_dupes(fips)"
      ],
      "metadata": {
        "colab": {
          "base_uri": "https://localhost:8080/"
        },
        "id": "NZj-VPQURzfz",
        "outputId": "c368cf7a-9e0f-473d-b092-87d44d0c4ef3"
      },
      "execution_count": null,
      "outputs": [
        {
          "output_type": "stream",
          "name": "stdout",
          "text": [
            "# A tibble: 6 × 25\n",
            "   fips dupe_count region_id state    county         x      y lcb_mortality_rate\n",
            "  <dbl>      <int> <chr>     <chr>    <chr>      <dbl>  <dbl>              <dbl>\n",
            "1  1013          2 3         Alabama  Butler C… 8.78e5 1.01e6               38.3\n",
            "2  1013          2 3         Alabama  Butler C… 8.78e5 1.01e6               38.3\n",
            "3  1053          2 3         Alabama  Escambia… 8.39e5 9.34e5               58.3\n",
            "4  1053          2 3         Alabama  Escambia… 8.39e5 9.34e5               58.3\n",
            "5  5011          2 3         Arkansas Bradley … 3.54e5 1.16e6               69.9\n",
            "6  5011          2 3         Arkansas Bradley … 3.54e5 1.16e6               69.9\n",
            "# ℹ 17 more variables: smoking <dbl>, pm_25 <dbl>, no2 <dbl>, so2 <dbl>,\n",
            "#   ozone <dbl>, pop_65 <dbl>, pop_black <dbl>, pop_hipanic <dbl>,\n",
            "#   pop_white <dbl>, education <dbl>, poverty_percent <dbl>,\n",
            "#   income_equality <dbl>, uninsured <dbl>, dem <dbl>, radon_zone_class <fct>,\n",
            "#   urban_rural <fct>, coal_production <fct>\n"
          ]
        }
      ]
    },
    {
      "cell_type": "markdown",
      "metadata": {
        "id": "mOk85Ol6GQfH"
      },
      "source": [
        "As shown above, the data frame is filtered down to those rows with duplicate values in the Fips column. For removing these duplicate rows, we have to use `dplyr::distinct(.keep_all = TRUE)`\n",
        "\n",
        "Now will check the duplicates record in the this data:\n",
        "\n"
      ]
    },
    {
      "cell_type": "code",
      "execution_count": null,
      "metadata": {
        "id": "gXfSYaGPGpbl",
        "colab": {
          "base_uri": "https://localhost:8080/"
        },
        "outputId": "40283205-599f-4637-bd4a-edb864aeadf7"
      },
      "outputs": [
        {
          "output_type": "stream",
          "name": "stderr",
          "text": [
            "WARNING:rpy2.rinterface_lib.callbacks:R[write to console]: No duplicate combinations found of: fips\n",
            "\n"
          ]
        },
        {
          "output_type": "stream",
          "name": "stdout",
          "text": [
            "Rows: 0\n",
            "Columns: 25\n",
            "$ fips               <dbl> \n",
            "$ dupe_count         <int> \n",
            "$ region_id          <chr> \n",
            "$ state              <chr> \n",
            "$ county             <chr> \n",
            "$ x                  <dbl> \n",
            "$ y                  <dbl> \n",
            "$ lcb_mortality_rate <dbl> \n",
            "$ smoking            <dbl> \n",
            "$ pm_25              <dbl> \n",
            "$ no2                <dbl> \n",
            "$ so2                <dbl> \n",
            "$ ozone              <dbl> \n",
            "$ pop_65             <dbl> \n",
            "$ pop_black          <dbl> \n",
            "$ pop_hipanic        <dbl> \n",
            "$ pop_white          <dbl> \n",
            "$ education          <dbl> \n",
            "$ poverty_percent    <dbl> \n",
            "$ income_equality    <dbl> \n",
            "$ uninsured          <dbl> \n",
            "$ dem                <dbl> \n",
            "$ radon_zone_class   <fct> \n",
            "$ urban_rural        <fct> \n",
            "$ coal_production    <fct> \n"
          ]
        }
      ],
      "source": [
        "%%R\n",
        "mf.05= mf.04 |>\n",
        "     dplyr::distinct(fips,.keep_all = TRUE) |>\n",
        "     janitor::get_dupes(fips) |>\n",
        "     glimpse()"
      ]
    },
    {
      "cell_type": "markdown",
      "source": [
        "Now we run all above function with Pipe ( `|>` ):"
      ],
      "metadata": {
        "id": "aVKbOwceUgks"
      }
    },
    {
      "cell_type": "code",
      "source": [
        "%%R\n",
        "mf_clean = mf |>\n",
        "  janitor::row_to_names(1, remove_row = TRUE, remove_rows_above = TRUE)  |>\n",
        "  janitor::remove_empty()  |>\n",
        "  janitor::clean_names()  |>\n",
        "  dplyr::mutate_at(4:21, as.numeric)  |>\n",
        "  dplyr::mutate_at(22:24, as.factor)  |>\n",
        "  dplyr::distinct(fips,.keep_all = TRUE)  |>\n",
        "     glimpse()"
      ],
      "metadata": {
        "colab": {
          "base_uri": "https://localhost:8080/"
        },
        "id": "fFOKam9niuon",
        "outputId": "c07feef1-f2ce-4620-f7db-3c52b1921379"
      },
      "execution_count": null,
      "outputs": [
        {
          "output_type": "stream",
          "name": "stderr",
          "text": [
            "WARNING:rpy2.rinterface_lib.callbacks:R[write to console]: value for \"which\" not specified, defaulting to c(\"rows\", \"cols\")\n",
            "\n"
          ]
        },
        {
          "output_type": "stream",
          "name": "stdout",
          "text": [
            "Rows: 3,107\n",
            "Columns: 24\n",
            "$ region_id          <chr> \"3\", \"3\", \"3\", \"3\", \"3\", \"3\", \"3\", \"3\", \"3\", \"3\", \"…\n",
            "$ state              <chr> \"Alabama\", \"Alabama\", \"Alabama\", \"Alabama\", \"Alabam…\n",
            "$ county             <chr> \"Baldwin County\", \"Butler County\", \"Chambers County…\n",
            "$ x                  <dbl> 789777.5, 877731.6, 984214.7, 726606.5, 770408.9, 9…\n",
            "$ y                  <dbl> 884557.1, 1007285.7, 1148648.7, 1023615.8, 988910.5…\n",
            "$ fips               <dbl> 1003, 1013, 1017, 1023, 1025, 1031, 1035, 1039, 104…\n",
            "$ lcb_mortality_rate <dbl> 48.1, 38.3, 49.6, 31.8, 42.0, 53.7, 46.9, 65.5, 57.…\n",
            "$ smoking            <dbl> 20.8, 26.0, 25.1, 21.8, 22.6, 21.2, 24.9, 25.9, 22.…\n",
            "$ pm_25              <dbl> 7.89, 8.46, 8.87, 8.58, 8.42, 8.42, 8.23, 8.24, 8.4…\n",
            "$ no2                <dbl> 0.7939, 0.6344, 0.8442, 0.5934, 0.6432, 0.5698, 0.5…\n",
            "$ so2                <dbl> 0.035343, 0.013500, 0.048177, 0.023989, 0.033700, 0…\n",
            "$ ozone              <dbl> 39.79, 38.31, 40.10, 37.07, 37.68, 38.46, 37.92, 38…\n",
            "$ pop_65             <dbl> 19.5, 19.0, 18.9, 22.1, 19.0, 16.3, 21.6, 20.5, 18.…\n",
            "$ pop_black          <dbl> 9.24, 43.94, 39.24, 41.94, 43.96, 17.26, 45.94, 12.…\n",
            "$ pop_hipanic        <dbl> 4.54, 1.26, 2.14, 0.86, 1.34, 6.76, 1.84, 1.62, 1.8…\n",
            "$ pop_white          <dbl> 83.06, 52.64, 56.42, 56.28, 52.98, 70.90, 50.56, 83…\n",
            "$ education          <dbl> 66, 38, 47, 55, 39, 60, 35, 53, 44, 58, 38, 45, 58,…\n",
            "$ poverty_percent    <dbl> 13.14, 26.14, 21.52, 23.06, 24.60, 16.20, 29.76, 20…\n",
            "$ income_equality    <dbl> 4.5, 5.1, 4.7, 5.8, 8.2, 4.8, 4.9, 4.6, 5.8, 5.2, 5…\n",
            "$ uninsured          <dbl> 13.34, 12.74, 13.34, 12.86, 13.28, 13.16, 15.16, 13…\n",
            "$ dem                <dbl> 36.78, 111.70, 227.03, 68.24, 69.29, 99.32, 96.03, …\n",
            "$ radon_zone_class   <fct> Zone-3, Zone-3, Zone-3, Zone-3, Zone-3, Zone-3, Zon…\n",
            "$ urban_rural        <fct> Medium/small metro, Nonmetro, Nonmetro, Nonmetro, N…\n",
            "$ coal_production    <fct> No, No, No, No, No, No, No, No, No, No, No, No, No,…\n"
          ]
        }
      ]
    },
    {
      "cell_type": "markdown",
      "source": [
        "## Summary and Conclusion\n",
        "\n",
        "This guide explains cleaning up datasets using the R package **janitor**.  It emphasizes the importance of data cleanliness and offers an easy-to-use approach to data wrangling. The janitor package provides functions that simplify everyday data-cleaning tasks. It can handle missing data and convert data types, making it a valuable tool for preparing datasets for analysis. Remember, data cleaning is essential, and the janitor simplifies this task. With the skills gained in this guide, you can efficiently clean and tidy datasets for more meaningful analyses.\n"
      ],
      "metadata": {
        "id": "8c8IQylfWnMj"
      }
    },
    {
      "cell_type": "markdown",
      "metadata": {
        "id": "0Ovc25MJTsD8"
      },
      "source": [
        "## References\n",
        "\n",
        "1.  [Overview of janitor functions](https://cran.r-project.org/web/packages/janitor/vignettes/janitor.html)\n",
        "\n",
        "2.  [Cleaning and Exploring Data with the \"janitor\" Package](https://towardsdatascience.com/cleaning-and-exploring-data-with-the-janitor-package-ee4a3edf085e)"
      ]
    }
  ],
  "metadata": {
    "colab": {
      "provenance": [],
      "toc_visible": true,
      "authorship_tag": "ABX9TyPyYKnFveJ18QlwBWFh6LMD",
      "include_colab_link": true
    },
    "kernelspec": {
      "display_name": "Python 3",
      "name": "python3"
    },
    "language_info": {
      "name": "python"
    }
  },
  "nbformat": 4,
  "nbformat_minor": 0
}