{
  "nbformat": 4,
  "nbformat_minor": 0,
  "metadata": {
    "colab": {
      "provenance": [],
      "toc_visible": true,
      "authorship_tag": "ABX9TyNOs6nauf8pRFyR2o4DA04c",
      "include_colab_link": true
    },
    "kernelspec": {
      "name": "python3",
      "display_name": "Python 3"
    },
    "language_info": {
      "name": "python"
    }
  },
  "cells": [
    {
      "cell_type": "markdown",
      "metadata": {
        "id": "view-in-github",
        "colab_type": "text"
      },
      "source": [
        "<a href=\"https://colab.research.google.com/github/zia207/r-colab/blob/main/NoteBook/R_Beginner/01-05-00-data-exploration-visualization-introduction-r.ipynb\" target=\"_parent\"><img src=\"https://colab.research.google.com/assets/colab-badge.svg\" alt=\"Open In Colab\"/></a>"
      ]
    },
    {
      "cell_type": "markdown",
      "source": [
        "![alt text](http://drive.google.com/uc?export=view&id=1bLQ3nhDbZrCCqy_WCxxckOne2lgVvn3l)"
      ],
      "metadata": {
        "id": "-6MG0i6qBTj_"
      }
    },
    {
      "cell_type": "markdown",
      "source": [
        "# Introduction to Data Exploration and Visualization in R\n",
        "\n",
        "Data exploration and visualization, also known as `Exploratory Data Analysis (EDA)`,is a critical component of the data analysis process. They serve several purposes, such as assessing data quality, identifying missing values, outliers, and inconsistencies, summarizing data characteristics, creating new features, and discovering patterns and trends. Visualizations help to communicate complex information and insights to stakeholders, identify patterns and anomalies, and validate models. EDA provide a foundation for making informed decisions, refine hypotheses, detect and correct errors, and tell compelling stories backed by data. In essence, data exploration and visualization are fundamental steps in extracting meaningful insights from data, driving better decision-making, and uncovering hidden patterns that can be pivotal in various fields, from business analytics to scientific research."
      ],
      "metadata": {
        "id": "Ffru6MgLBJLY"
      }
    },
    {
      "cell_type": "markdown",
      "source": [
        "This section of tutorial will cover the following topics:\n",
        "\n",
        "1. [Basic Data Exploration and Visualization](https://github.com/zia207/r-colab/blob/main/NoteBook/R_Beginner/01-05-01-data-exploration-basic-r.ipynb)\n",
        "\n",
        "2. [Data Exploration with dlookr](https://github.com/zia207/r-colab/blob/main/NoteBook/R_Beginner/01-05-02-eda-dlookr-r.ipynb)\n",
        "\n",
        "3. [Data Exploration with DataExplorer](https://github.com/zia207/r-colab/blob/main/NoteBook/R_Beginner/01-05-03-eda-dataExplorer-r.ipynb)\n",
        "\n",
        "4. [Data Exploration with skimr](https://github.com/zia207/r-colab/blob/main/NoteBook/R_Beginner/01-05-03-eda-skimr-r.ipynb)\n",
        "\n",
        "5. [Data Exploration with SmartEDA](https://github.com/zia207/r-colab/blob/main/NoteBook/R_Beginner/01-05-03-eda-SmartEDA-r.ipynb)"
      ],
      "metadata": {
        "id": "F4OIcV5RCA73"
      }
    },
    {
      "cell_type": "markdown",
      "source": [
        "## Steps for Exploratory Data Analysis (EDA)\n",
        "\n",
        "Here are below basic steps for EDA:\n",
        "\n",
        "-   Import data: The first step in data exploration is to import your data into R. You can import data from various sources such as Excel, CSV, or databases.\n",
        "\n",
        "-   Check the structure of data: Use the str() function to check the structure of your data. This function will give you information about the dimensions of your data and the types of variables in your data.\n",
        "\n",
        "-   Check data distribution and visualize the data distribution using histograms, density plot and qqplots. Perform normality test to determine whether a given data sample is derived from a normally distributed population.\n",
        "\n",
        "-   Check for missing values: Use the is.na() function to check for missing values in your data. If you have missing values, you can use the na.omit() function to remove the missing values from your data.\n",
        "\n",
        "-   Summarize or descriptive statisics of the data: Start by summarizing the main characteristics of the data, such as the mean, median, standard deviation, and range of each variable.\n",
        "\n",
        "-   box plot to identify outliers, which are observations significantly different from the rest of the data.\n",
        "\n",
        "-   Perform statistical tests: Use the t.test() function to perform statistical tests on your data. You can use this function to test whether the means of two groups are significantly different.\n",
        "\n",
        "-   Explore and visualize the relationships between two variables using scatter plot and correlation analysis.\n",
        "\n",
        "-   Look for patterns and trends: Search for patterns and trends in the data that can help you to generate new hypotheses or insights. You can use clustering and principal component analysis (PCA) techniques in R.\n",
        "\n",
        "Overall, EDA is an important first step in any data analysis project, as it helps you to understand the data and generate hypotheses that can guide further analysis. R provides many powerful tools for EDA, making it a popular language for data scientists and analysts."
      ],
      "metadata": {
        "id": "gQo7MmGmCB2Y"
      }
    },
    {
      "cell_type": "markdown",
      "source": [
        "## R packages for Exploratory Data Analysis (EDA)\n",
        "\n",
        "R provides a rich ecosystem of packages for Exploratory Data Analysis (EDA). Below is a curated list of essential packages categorized by their primary functions, along with brief descriptions of their capabilities.\n"
      ],
      "metadata": {
        "id": "qBaxXLpHCGVC"
      }
    },
    {
      "cell_type": "markdown",
      "source": [
        "### 1. Data Manipulation & Cleaning\n",
        "\n",
        "- **tidyverse** (includes `dplyr`, `tidyr`, `purrr`, `readr`, etc.):  \n",
        "  Core suite for data wrangling, filtering, reshaping, and IO operations.\n",
        "- **data.table**:  \n",
        "  Fast data manipulation for large datasets using a concise syntax.\n",
        "- **lubridate**:  \n",
        "  Simplifies handling and parsing dates/times in time-series data.\n",
        "- **naniar**/**visdat**:  \n",
        "  Visualize and explore missing data patterns."
      ],
      "metadata": {
        "id": "eXim46igCIei"
      }
    },
    {
      "cell_type": "markdown",
      "source": [
        "### Visualization\n",
        "\n",
        "- **dlookr**:  \n",
        "  Visualize data distributions, missing values, and correlations.\n",
        "- **ggplot2**:  \n",
        "  Flexible grammar-of-graphics for static plots (e.g., histograms, scatterplots).\n",
        "- **GGally** (`ggpairs`):  \n",
        "  Extends `ggplot2` for correlation matrices, pair plots, and network graphs.\n",
        "- **plotly**:  \n",
        "  Creates interactive plots (e.g., 3D scatterplots, hover tooltips).\n",
        "- **esquisse**:  \n",
        "  Drag-and-drop GUI to generate `ggplot2` code.\n",
        "- **corrplot**:  \n",
        "  Visualize correlation matrices with color-coded heatmaps.\n",
        "- **factoextra**:  \n",
        "  Visualize dimensionality reduction results (PCA, clustering).\n"
      ],
      "metadata": {
        "id": "u6nD3qAgCJM4"
      }
    },
    {
      "cell_type": "markdown",
      "source": [
        "### Summary Statistics & Profiling\n",
        "\n",
        "- **dlookr**:  \n",
        "  Generate summary statistics and visualizations for data profiling.\n",
        "- **skimr**:  \n",
        "  Compact and visually appealing data summaries (e.g., missing values, distributions).\n",
        "- **summarytools**:  \n",
        "  Detailed summaries (e.g., `dfSummary()`) with HTML/markdown output.\n",
        "- **Hmisc**:  \n",
        "  Advanced summary statistics, correlation analysis, and data description.\n",
        "- **psych**:  \n",
        "  Descriptive statistics, factor analysis, and reliability tests.\n",
        "- **arsenal**:  \n",
        "  Compare groups with customizable tables (e.g., `tableby()`)."
      ],
      "metadata": {
        "id": "NKqQgB_VCLui"
      }
    },
    {
      "cell_type": "markdown",
      "source": [
        "### Automated EDA Reports\n",
        "\n",
        "- **dlookr**:  \n",
        "  Auto-generate EDA reports (distributions, correlations, missingness).\n",
        "- **DataExplorer**:  \n",
        "  Auto-generate EDA reports (distributions, correlations, missingness).\n",
        "- **SmartEDA**:  \n",
        "  Create interactive HTML summaries with visualizations and stats.\n",
        "- **funModeling**:  \n",
        "  Quick profiling (e.g., `df_status()`, `freq()`, `correlation_table()`)."
      ],
      "metadata": {
        "id": "PUo3dh8PCOAw"
      }
    },
    {
      "cell_type": "markdown",
      "source": [
        "### Correlation & Association Analysis\n",
        "\n",
        "- **corrplot**:  \n",
        "  Visualize correlation matrices with color-coded heatmaps.\n",
        "- **corrr**:  \n",
        "  Tidy-friendly tools for exploring correlations (e.g., `correlate()`).\n",
        "- **Hmisc**:  \n",
        "  Includes `rcorr()` for matrix-based correlation p-values.\n",
        "- **rstatix**:  \n",
        "  Tidy tools for statistical tests (e.g., t-tests, ANOVA) and correlation analysis."
      ],
      "metadata": {
        "id": "31sf2DeWCQe0"
      }
    },
    {
      "cell_type": "markdown",
      "source": [
        "### Dimensionality Reduction & Clustering\n",
        "\n",
        "- **PCAtools**:  \n",
        "  PCA visualization and interpretation tools.\n",
        "- **factoextra**:  \n",
        "  Visualize PCA, clustering, and other multivariate analyses.\n",
        "- **FactoMineR**:  \n",
        "  PCA, MCA, and other multivariate methods (paired with `factoextra` for visuals).\n",
        "- **recipes** (from `tidymodels`):  \n",
        "  Preprocessing and feature engineering pipelines."
      ],
      "metadata": {
        "id": "S40UlXZ6CWWe"
      }
    },
    {
      "cell_type": "markdown",
      "source": [
        "### Handling Missing Data\n",
        "\n",
        "- **mice**:  \n",
        "  Multiple imputation for missing values.\n",
        "- **Amelia**:  \n",
        "  Time-series-aware imputation."
      ],
      "metadata": {
        "id": "5RQqaTzLCZBp"
      }
    },
    {
      "cell_type": "markdown",
      "source": [
        "### Interactive Exploration\n",
        "\n",
        "- **DT**:  \n",
        "  Interactive HTML tables for filtering and sorting data.\n",
        "- **reactable**:  \n",
        "  Modern interactive tables with customizable features."
      ],
      "metadata": {
        "id": "mYbYlDV4CfCe"
      }
    },
    {
      "cell_type": "markdown",
      "source": [
        "## Recommended Books for EDA in R"
      ],
      "metadata": {
        "id": "wp3gK6f-Cm4o"
      }
    },
    {
      "cell_type": "markdown",
      "source": [
        "### 1. [R for Data Science](https://r4ds.hadley.nz/) by Hadley Wickham & Garrett Grolemund  \n",
        "\n",
        "🔹 **Best for:** Beginners  \n",
        "🔹 **Covers:** Tidyverse tools, data wrangling, visualization, and EDA  \n",
        "🔹 **Why it’s great:** Clear explanations, hands-on examples, and fully available online for free.  \n"
      ],
      "metadata": {
        "id": "UOjDNWspCoMR"
      }
    },
    {
      "cell_type": "markdown",
      "source": [
        "### 2. Exploratory Data Analysis with R by Roger D. Peng  \n",
        "\n",
        "🔹 **Best for:** Practical EDA with core R and base graphics  \n",
        "🔹 **Covers:** Distributions, plotting systems, statistical summaries  \n",
        "🔹 **Why it’s great:** Straightforward and hands-on, part of Johns Hopkins' Data Science series  \n",
        "🔗 [Link to book](https://bookdown.org/rdpeng/exdata/) (free)"
      ],
      "metadata": {
        "id": "jx8f54oMCsi3"
      }
    },
    {
      "cell_type": "markdown",
      "source": [
        "### 3. Data Visualization with ggplot2 (2nd ed.) – by Hadley Wickham  \n",
        "\n",
        "🔹 **Best for:** Visual EDA with `ggplot2`  \n",
        "🔹 **Covers:** Grammar of graphics, themes, layers, customization  \n",
        "🔹 **Why it’s great:** From the creator of `ggplot2`; ideal if you love visual analysis  \n",
        "🔗 [Available in the R for Data Science book site](https://ggplot2-book.org/)"
      ],
      "metadata": {
        "id": "we9av3yzCw6a"
      }
    },
    {
      "cell_type": "markdown",
      "source": [
        "### 4. Practical Data Science with R by Nina Zumel & John Mount  \n",
        "\n",
        "🔹 **Best for:** Applied data science with EDA focus  \n",
        "🔹 **Covers:** EDA, modeling prep, data cleaning  \n",
        "🔹 **Why it’s great:** Covers real-world scenarios; beginner to intermediate level"
      ],
      "metadata": {
        "id": "wGkkhNFSC2iv"
      }
    },
    {
      "cell_type": "markdown",
      "source": [
        "### 5. Hands-On Programming with R** by Garrett Grolemund  \n",
        "🔹 **Best for:** Beginners with coding interest  \n",
        "🔹 **Covers:** Data structures, loops, functions, and basic EDA  \n",
        "🔹 **Why it’s great:** Friendly tone, great intro to R with practical data tasks"
      ],
      "metadata": {
        "id": "myYXGfQEC4_5"
      }
    },
    {
      "cell_type": "markdown",
      "source": [
        "\n",
        "### 6. Modern Data Science with R by Baumer, Kaplan, Horton\n",
        "\n",
        "🔹 **Best for:** Students and self-learners  \n",
        "🔹 **Covers:** Full data science cycle including EDA, modeling, and communication  \n",
        "🔹 **Why it’s great:** Case-study based with a strong EDA component"
      ],
      "metadata": {
        "id": "bbs1MBopC9X5"
      }
    }
  ]
}