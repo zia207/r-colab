{
  "cells": [
    {
      "cell_type": "markdown",
      "metadata": {
        "colab_type": "text",
        "id": "view-in-github"
      },
      "source": [
        "<a href=\"https://colab.research.google.com/github/zia207/r-colab/blob/main/NoteBook/R_Beginner/01-05-04-eda-skimr-r.ipynb\" target=\"_parent\"><img src=\"https://colab.research.google.com/assets/colab-badge.svg\" alt=\"Open In Colab\"/></a>"
      ]
    },
    {
      "cell_type": "markdown",
      "metadata": {
        "id": "Ma-sN9nGhDcH"
      },
      "source": [
        "![alt text](http://drive.google.com/uc?export=view&id=1bLQ3nhDbZrCCqy_WCxxckOne2lgVvn3l)"
      ]
    },
    {
      "cell_type": "markdown",
      "metadata": {
        "id": "VSAm3OquhnET"
      },
      "source": [
        "\n",
        "# Data Exploration with {skimr} \n",
        "\n",
        "This tutorial will guide you through the process of using the {skimr} package for exploratory data analysis (EDA) in R. The {skimr} package is a powerful tool that provides a comprehensive overview of your dataset, allowing you to quickly understand its structure and characteristics. It generates summary statistics and visualizations, making it easier to identify patterns, trends, and potential issues in your data.\n"
      ]
    },
    {
      "cell_type": "markdown",
      "metadata": {
        "id": "pn-5Lmemhuzj"
      },
      "source": [
        "### Introduction\n",
        "\n",
        "{skimr} provides a frictionless approach to summary statistics that conforms to the principle of least surprise. It displays summary statistics that the user can skim quickly to understand their data. It handles different data types and returns a skim_df object that can be included in a pipeline or displayed nicely for the human reader.\n",
        "\n",
        "![alt text](http://drive.google.com/uc?export=view&id=13ckjEndrNrruPGuHtC4MPdbUOyWCEfJk)\n",
        "\n"
      ]
    },
    {
      "cell_type": "markdown",
      "metadata": {
        "id": "2n1bjL3BBU-6"
      },
      "source": [
        "## Install rpy2\n",
        "Easy way to run R in Colab with Python runtime using rpy2 python package. We have to install this package using the `pip` command:"
      ]
    },
    {
      "cell_type": "code",
      "execution_count": 3,
      "metadata": {
        "colab": {
          "base_uri": "https://localhost:8080/"
        },
        "id": "WSbgK9TdfxjO",
        "outputId": "e57daa25-ac80-421f-dda5-13b6a98da582"
      },
      "outputs": [
        {
          "name": "stdout",
          "output_type": "stream",
          "text": [
            "Found existing installation: rpy2 3.5.1\n",
            "Uninstalling rpy2-3.5.1:\n",
            "  Successfully uninstalled rpy2-3.5.1\n",
            "Collecting rpy2==3.5.1\n",
            "  Using cached rpy2-3.5.1-cp311-cp311-linux_x86_64.whl\n",
            "Requirement already satisfied: cffi>=1.10.0 in /usr/local/lib/python3.11/dist-packages (from rpy2==3.5.1) (1.17.1)\n",
            "Requirement already satisfied: jinja2 in /usr/local/lib/python3.11/dist-packages (from rpy2==3.5.1) (3.1.6)\n",
            "Requirement already satisfied: pytz in /usr/local/lib/python3.11/dist-packages (from rpy2==3.5.1) (2025.2)\n",
            "Requirement already satisfied: tzlocal in /usr/local/lib/python3.11/dist-packages (from rpy2==3.5.1) (5.3.1)\n",
            "Requirement already satisfied: pycparser in /usr/local/lib/python3.11/dist-packages (from cffi>=1.10.0->rpy2==3.5.1) (2.22)\n",
            "Requirement already satisfied: MarkupSafe>=2.0 in /usr/local/lib/python3.11/dist-packages (from jinja2->rpy2==3.5.1) (3.0.2)\n",
            "Installing collected packages: rpy2\n",
            "Successfully installed rpy2-3.5.1\n"
          ]
        }
      ],
      "source": [
        "!pip uninstall rpy2 -y\n",
        "! pip install rpy2==3.5.1\n",
        "%load_ext rpy2.ipython"
      ]
    },
    {
      "cell_type": "markdown",
      "metadata": {
        "id": "2FEvGgAZBYP1"
      },
      "source": [
        "##  Mount Google Drive\n",
        "\n",
        "Then you must create a folder in Goole drive named \"R\" to install all packages permanently. Before installing R-package in Python runtime. You have to mount Google Drive and follow on-screen instruction:"
      ]
    },
    {
      "cell_type": "code",
      "execution_count": 1,
      "metadata": {
        "colab": {
          "base_uri": "https://localhost:8080/"
        },
        "id": "a4YzaOqMBYYW",
        "outputId": "bb349b37-fac5-4cce-8f67-8a85588056ce"
      },
      "outputs": [
        {
          "name": "stdout",
          "output_type": "stream",
          "text": [
            "Drive already mounted at /content/drive; to attempt to forcibly remount, call drive.mount(\"/content/drive\", force_remount=True).\n"
          ]
        }
      ],
      "source": [
        "from google.colab import drive\n",
        "drive.mount('/content/drive')"
      ]
    },
    {
      "cell_type": "markdown",
      "metadata": {
        "id": "RS2DcqsZB_dD"
      },
      "source": [
        "## Check and Install Required R Packages"
      ]
    },
    {
      "cell_type": "code",
      "execution_count": 4,
      "metadata": {
        "id": "SWPaYxygB-Zs"
      },
      "outputs": [],
      "source": [
        "%%R\n",
        "packages <- c('tidyverse',\n",
        "         'skimr'\n",
        "         )"
      ]
    },
    {
      "cell_type": "code",
      "execution_count": 5,
      "metadata": {
        "id": "6lwv0xbYB3va"
      },
      "outputs": [],
      "source": [
        "%%R\n",
        "# Install missing packages\n",
        "new.packages <- packages[!(packages %in% installed.packages(lib='drive/My Drive/R/')[,\"Package\"])]\n",
        "if(length(new.packages)) install.packages(new.packages, lib='drive/My Drive/R/')"
      ]
    },
    {
      "cell_type": "code",
      "execution_count": 6,
      "metadata": {
        "colab": {
          "base_uri": "https://localhost:8080/"
        },
        "id": "SAL4sCBr-Syb",
        "outputId": "41a56d39-7baf-45aa-9b5d-d1217663fefb"
      },
      "outputs": [
        {
          "name": "stdout",
          "output_type": "stream",
          "text": [
            "Installed packages:\n",
            "tidyverse     skimr \n",
            "     TRUE     FALSE \n"
          ]
        }
      ],
      "source": [
        "%%R\n",
        "# Verify installation\n",
        "cat(\"Installed packages:\\n\")\n",
        "print(sapply(packages, requireNamespace, quietly = TRUE))"
      ]
    },
    {
      "cell_type": "markdown",
      "metadata": {
        "id": "ZQgIbBQlCSoX"
      },
      "source": [
        "## Load Packages"
      ]
    },
    {
      "cell_type": "code",
      "execution_count": 7,
      "metadata": {
        "id": "vHtTac_wCTQv"
      },
      "outputs": [],
      "source": [
        "%%R\n",
        "# set library path\n",
        ".libPaths('drive/My Drive/R')\n",
        "# Load packages with suppressed messages\n",
        "invisible(lapply(packages, function(pkg) {\n",
        "  suppressPackageStartupMessages(library(pkg, character.only = TRUE))\n",
        "}))\n"
      ]
    },
    {
      "cell_type": "code",
      "execution_count": 8,
      "metadata": {
        "colab": {
          "base_uri": "https://localhost:8080/"
        },
        "id": "csS9PE8R-ZHr",
        "outputId": "126f9bd5-093b-4d28-b7d7-099d3e8e19b8"
      },
      "outputs": [
        {
          "name": "stdout",
          "output_type": "stream",
          "text": [
            "Successfully loaded packages:\n",
            " [1] \"package:skimr\"     \"package:lubridate\" \"package:forcats\"  \n",
            " [4] \"package:stringr\"   \"package:dplyr\"     \"package:purrr\"    \n",
            " [7] \"package:readr\"     \"package:tidyr\"     \"package:tibble\"   \n",
            "[10] \"package:ggplot2\"   \"package:tidyverse\" \"package:tools\"    \n",
            "[13] \"package:stats\"     \"package:graphics\"  \"package:grDevices\"\n",
            "[16] \"package:utils\"     \"package:datasets\"  \"package:methods\"  \n",
            "[19] \"package:base\"     \n"
          ]
        }
      ],
      "source": [
        "%%R\n",
        "# Check loaded packages\n",
        "cat(\"Successfully loaded packages:\\n\")\n",
        "print(search()[grepl(\"package:\", search())])"
      ]
    },
    {
      "cell_type": "markdown",
      "metadata": {
        "id": "GtPjrX2ejC9d"
      },
      "source": [
        "## Data"
      ]
    },
    {
      "cell_type": "markdown",
      "metadata": {
        "id": "pjZojruuCYSs"
      },
      "source": [
        "\n",
        "The data set use in this exercise can be downloaded from my [Dropbox](https://www.dropbox.com/scl/fo/fohioij7h503duitpl040/h?rlkey=3voumajiklwhgqw75fe8kby3o&dl=0) or from my [Github](https://github.com/zia207/r-colab/tree/main/Data/R_Beginners) account.\n",
        "\n",
        "We will use `read_csv()` function of **readr** package to import data as a **tidy** data."
      ]
    },
    {
      "cell_type": "code",
      "execution_count": 9,
      "metadata": {
        "colab": {
          "base_uri": "https://localhost:8080/"
        },
        "id": "y7YA3ZwCCZZr",
        "outputId": "93c38fea-64d4-40e4-a4db-f70ed12667fd"
      },
      "outputs": [
        {
          "name": "stdout",
          "output_type": "stream",
          "text": [
            "Rows: 471 Columns: 19\n",
            "── Column specification ────────────────────────────────────────────────────────\n",
            "Delimiter: \",\"\n",
            "chr  (4): STATE, COUNTY, NLCD, FRG\n",
            "dbl (15): ID, FIPS, STATE_ID, Longitude, Latitude, SOC, DEM, Aspect, Slope, ...\n",
            "\n",
            "ℹ Use `spec()` to retrieve the full column specification for this data.\n",
            "ℹ Specify the column types or set `show_col_types = FALSE` to quiet this message.\n"
          ]
        }
      ],
      "source": [
        "%%R\n",
        "mf<-read_csv(\"https://github.com/zia207/r-colab/raw/main/Data/R_Beginners/gp_soil_data_na.csv\")"
      ]
    },
    {
      "cell_type": "markdown",
      "metadata": {
        "id": "DNZg6dvICqRG"
      },
      "source": [
        "## Getting Started with `skimr()`\n",
        "\n",
        "The `skim` function is the main function provided by the `skimr` package. It generates a summary of the dataset, including key statistics for each variable.\n",
        "\n",
        "You’ll get output grouped by data type (numeric, factor, etc.), showing:\n",
        "\n",
        "- Count of missing values\n",
        "\n",
        "- Mean, sd, min, max, and percentiles\n",
        "\n",
        "- Histograms (in console!)\n",
        "\n",
        "- Unique counts (for factors)\n"
      ]
    },
    {
      "cell_type": "code",
      "execution_count": 10,
      "metadata": {
        "colab": {
          "base_uri": "https://localhost:8080/"
        },
        "id": "zL4AdLo6GtQl",
        "outputId": "0da3a6d1-5e07-4cc3-af01-dd689274c891"
      },
      "outputs": [
        {
          "name": "stdout",
          "output_type": "stream",
          "text": [
            "── Data Summary ────────────────────────\n",
            "                           Values                      \n",
            "Name                       dplyr::select(mf, NLCD, S...\n",
            "Number of rows             471                         \n",
            "Number of columns          6                           \n",
            "_______________________                                \n",
            "Column type frequency:                                 \n",
            "  character                1                           \n",
            "  numeric                  5                           \n",
            "________________________                               \n",
            "Group variables            None                        \n",
            "\n",
            "── Variable type: character ────────────────────────────────────────────────────\n",
            "  skim_variable n_missing complete_rate min max empty n_unique whitespace\n",
            "1 NLCD                  0             1   6  18     0        4          0\n",
            "\n",
            "── Variable type: numeric ──────────────────────────────────────────────────────\n",
            "  skim_variable n_missing complete_rate     mean      sd      p0      p25\n",
            "1 SOC                   4         0.992    6.35    5.05    0.408    2.77 \n",
            "2 DEM                   0         1     1631.    768.    259.    1175.   \n",
            "3 MAP                   0         1      499.    207.    194.     353.   \n",
            "4 MAT                   0         1        8.89    4.10   -0.591    5.88 \n",
            "5 NDVI                  0         1        0.435   0.162   0.142    0.305\n",
            "       p50      p75     p100 hist \n",
            "1    4.97     8.71    30.5   ▇▃▁▁▁\n",
            "2 1593.    2234.    3618.    ▅▇▇▅▁\n",
            "3  433.     590.    1128.    ▆▇▂▂▁\n",
            "4    9.17    12.4     16.9   ▃▅▇▇▅\n",
            "5    0.416    0.556    0.797 ▆▇▆▅▃\n"
          ]
        }
      ],
      "source": [
        " %%R\n",
        " mf |>  dplyr::select(NLCD, SOC, DEM, MAP, MAT, NDVI) |>\n",
        "  skimr::skim()"
      ]
    },
    {
      "cell_type": "markdown",
      "metadata": {
        "id": "Ce_eDwpYDyC8"
      },
      "source": [
        "### Skim only numeric columns"
      ]
    },
    {
      "cell_type": "code",
      "execution_count": 11,
      "metadata": {
        "colab": {
          "base_uri": "https://localhost:8080/"
        },
        "id": "kNacloj9-qbb",
        "outputId": "3d64cde7-1542-42df-849f-729bc0567928"
      },
      "outputs": [
        {
          "name": "stdout",
          "output_type": "stream",
          "text": [
            "── Data Summary ────────────────────────\n",
            "                           Values                      \n",
            "Name                       df[, sapply(df, is.numeri...\n",
            "Number of rows             471                         \n",
            "Number of columns          5                           \n",
            "_______________________                                \n",
            "Column type frequency:                                 \n",
            "  numeric                  5                           \n",
            "________________________                               \n",
            "Group variables            None                        \n",
            "\n",
            "── Variable type: numeric ──────────────────────────────────────────────────────\n",
            "  skim_variable n_missing complete_rate     mean      sd      p0      p25\n",
            "1 SOC                   4         0.992    6.35    5.05    0.408    2.77 \n",
            "2 DEM                   0         1     1631.    768.    259.    1175.   \n",
            "3 MAP                   0         1      499.    207.    194.     353.   \n",
            "4 MAT                   0         1        8.89    4.10   -0.591    5.88 \n",
            "5 NDVI                  0         1        0.435   0.162   0.142    0.305\n",
            "       p50      p75     p100 hist \n",
            "1    4.97     8.71    30.5   ▇▃▁▁▁\n",
            "2 1593.    2234.    3618.    ▅▇▇▅▁\n",
            "3  433.     590.    1128.    ▆▇▂▂▁\n",
            "4    9.17    12.4     16.9   ▃▅▇▇▅\n",
            "5    0.416    0.556    0.797 ▆▇▆▅▃\n"
          ]
        }
      ],
      "source": [
        "%%R\n",
        "df <- mf |>  dplyr::select(NLCD, SOC, DEM, MAP, MAT, NDVI)\n",
        "skim(df[, sapply(df, is.numeric)])"
      ]
    },
    {
      "cell_type": "markdown",
      "metadata": {
        "id": "qfTs4lgGD6_H"
      },
      "source": [
        "### Skim individual variables or subsets"
      ]
    },
    {
      "cell_type": "code",
      "execution_count": 12,
      "metadata": {
        "colab": {
          "base_uri": "https://localhost:8080/"
        },
        "id": "sXylCliiCnKk",
        "outputId": "6d21a4ac-0720-469b-d2e7-10d6600497ae"
      },
      "outputs": [
        {
          "name": "stdout",
          "output_type": "stream",
          "text": [
            "── Data Summary ────────────────────────\n",
            "                           Values\n",
            "Name                       df$SOC\n",
            "Number of rows             471   \n",
            "Number of columns          1     \n",
            "_______________________          \n",
            "Column type frequency:           \n",
            "  numeric                  1     \n",
            "________________________         \n",
            "Group variables            None  \n",
            "\n",
            "── Variable type: numeric ──────────────────────────────────────────────────────\n",
            "  skim_variable n_missing complete_rate mean   sd    p0  p25  p50  p75 p100\n",
            "1 data                  4         0.992 6.35 5.05 0.408 2.77 4.97 8.71 30.5\n",
            "  hist \n",
            "1 ▇▃▁▁▁\n"
          ]
        }
      ],
      "source": [
        "%%R\n",
        "skim(df$SOC)"
      ]
    },
    {
      "cell_type": "markdown",
      "metadata": {
        "id": "t3Y1G9IvG1C5"
      },
      "source": [
        "### Grouped Data Summaries"
      ]
    },
    {
      "cell_type": "code",
      "execution_count": 14,
      "metadata": {
        "colab": {
          "base_uri": "https://localhost:8080/"
        },
        "id": "g4LUflPVG0Yg",
        "outputId": "8073a3bf-6beb-4e3c-8a32-7ec893aec815"
      },
      "outputs": [
        {
          "name": "stdout",
          "output_type": "stream",
          "text": [
            "── Data Summary ────────────────────────\n",
            "                           Values            \n",
            "Name                       group_by(df, NLCD)\n",
            "Number of rows             471               \n",
            "Number of columns          6                 \n",
            "_______________________                      \n",
            "Column type frequency:                       \n",
            "  numeric                  5                 \n",
            "________________________                     \n",
            "Group variables            NLCD              \n",
            "\n",
            "── Variable type: numeric ──────────────────────────────────────────────────────\n",
            "   skim_variable NLCD               n_missing complete_rate     mean      sd\n",
            " 1 SOC           Forest                     0         1       10.4     6.80 \n",
            " 2 SOC           Herbaceous                 1         0.993    5.48    3.93 \n",
            " 3 SOC           Planted/Cultivated         0         1        6.70    3.60 \n",
            " 4 SOC           Shrubland                  3         0.977    4.13    3.74 \n",
            " 5 DEM           Forest                     0         1     2567.    336.   \n",
            " 6 DEM           Herbaceous                 0         1     1363.    589.   \n",
            " 7 DEM           Planted/Cultivated         0         1      804.    489.   \n",
            " 8 DEM           Shrubland                  0         1     1890.    433.   \n",
            " 9 MAP           Forest                     0         1      593.    157.   \n",
            "10 MAP           Herbaceous                 0         1      473.    189.   \n",
            "11 MAP           Planted/Cultivated         0         1      647.    233.   \n",
            "12 MAP           Shrubland                  0         1      354.    109.   \n",
            "13 MAT           Forest                     0         1        4.72    3.04 \n",
            "14 MAT           Herbaceous                 0         1       10.1     2.86 \n",
            "15 MAT           Planted/Cultivated         0         1       11.8     2.06 \n",
            "16 MAT           Shrubland                  0         1        8.28    4.57 \n",
            "17 NDVI          Forest                     0         1        0.571   0.116\n",
            "18 NDVI          Herbaceous                 0         1        0.400   0.131\n",
            "19 NDVI          Planted/Cultivated         0         1        0.533   0.121\n",
            "20 NDVI          Shrubland                  0         1        0.307   0.130\n",
            "         p0      p25      p50      p75     p100 hist \n",
            " 1    1.33     4.93     8.97    15.3     30.5   ▇▅▃▂▁\n",
            " 2    0.408    2.62     4.61     6.97    18.8   ▇▆▂▁▁\n",
            " 3    0.462    4.00     6.23     9.42    16.3   ▅▇▆▃▁\n",
            " 4    0.446    1.35     3.00     5.66    19.1   ▇▂▁▁▁\n",
            " 5 1623.    2327.    2535.    2769.    3471.    ▁▆▇▃▂\n",
            " 6  278.    1203.    1355.    1628.    3618.    ▃▇▃▁▁\n",
            " 7  259.     405.     733.    1039.    2324.    ▇▅▃▁▁\n",
            " 8 1014.    1558.    1961.    2183.    2724.    ▃▆▆▇▃\n",
            " 9  331.     469.     563.     685.    1121.    ▅▇▃▂▁\n",
            "10  205.     365.     414.     470.    1128.    ▇▇▁▂▁\n",
            "11  194.     465.     588.     828.    1127.    ▂▇▃▅▂\n",
            "12  202.     289.     338.     391.    1109.    ▇▃▁▁▁\n",
            "13   -0.342    2.23     4.63     6.89    14.8   ▇▇▇▂▁\n",
            "14   -0.591    7.69    10.1     12.3     15.5   ▁▁▇▇▆\n",
            "15    1.45    11.1     12.4     12.9     14.6   ▁▁▁▅▇\n",
            "16    0.383    4.71     6.98    12.5     16.9   ▅▇▅▂▆\n",
            "17    0.283    0.533    0.576    0.649    0.781 ▃▁▇▇▅\n",
            "18    0.165    0.312    0.377    0.438    0.734 ▃▇▅▂▂\n",
            "19    0.325    0.450    0.513    0.587    0.797 ▅▇▆▂▃\n",
            "20    0.142    0.210    0.269    0.379    0.694 ▇▅▂▂▁\n"
          ]
        }
      ],
      "source": [
        "%%R\n",
        "# Group by NLCD and summarize\n",
        "df |>\n",
        "  group_by(NLCD) |>\n",
        "  skimr::skim()"
      ]
    },
    {
      "cell_type": "markdown",
      "metadata": {
        "id": "v0dhUi96HZ9r"
      },
      "source": [
        "### Customizing Skim Output\n",
        "\n",
        "`skim_with()` allows you to customize the summary statistics displayed by `skim()`. You can specify which functions to use for numeric, factor, and character data types.\n"
      ]
    },
    {
      "cell_type": "code",
      "execution_count": 15,
      "metadata": {
        "colab": {
          "base_uri": "https://localhost:8080/"
        },
        "id": "5-0m5gbkHehC",
        "outputId": "46b61ac0-fb00-4e58-d3d4-84e2dde42839"
      },
      "outputs": [
        {
          "name": "stdout",
          "output_type": "stream",
          "text": [
            "── Data Summary ────────────────────────\n",
            "                           Values\n",
            "Name                       df    \n",
            "Number of rows             471   \n",
            "Number of columns          6     \n",
            "_______________________          \n",
            "Column type frequency:           \n",
            "  character                1     \n",
            "  numeric                  5     \n",
            "________________________         \n",
            "Group variables            None  \n",
            "\n",
            "── Variable type: character ────────────────────────────────────────────────────\n",
            "  skim_variable n_missing complete_rate min max empty n_unique whitespace\n",
            "1 NLCD                  0             1   6  18     0        4          0\n",
            "\n",
            "── Variable type: numeric ──────────────────────────────────────────────────────\n",
            "  skim_variable n_missing complete_rate   median     mad\n",
            "1 SOC                   4         0.992   NA      NA    \n",
            "2 DEM                   0         1     1593.    875.   \n",
            "3 MAP                   0         1      433.    152.   \n",
            "4 MAT                   0         1        9.17    4.88 \n",
            "5 NDVI                  0         1        0.416   0.194\n"
          ]
        }
      ],
      "source": [
        "%%R\n",
        "\n",
        "my_skim <- skim_with(numeric = sfl(median, mad), append = FALSE)\n",
        "my_skim(df)"
      ]
    },
    {
      "cell_type": "markdown",
      "metadata": {
        "id": "TFy_VgvMHqhn"
      },
      "source": [
        "###  Handling Different Data Types"
      ]
    },
    {
      "cell_type": "code",
      "execution_count": 16,
      "metadata": {
        "colab": {
          "base_uri": "https://localhost:8080/"
        },
        "id": "77V6w_tkHsJE",
        "outputId": "16fe664f-6276-426a-8b6b-a8b1f43da5a3"
      },
      "outputs": [
        {
          "name": "stdout",
          "output_type": "stream",
          "text": [
            "── Data Summary ────────────────────────\n",
            "                           Values\n",
            "Name                       data  \n",
            "Number of rows             6     \n",
            "Number of columns          2     \n",
            "_______________________          \n",
            "Column type frequency:           \n",
            "  Date                     1     \n",
            "  numeric                  1     \n",
            "________________________         \n",
            "Group variables            None  \n",
            "\n",
            "── Variable type: Date ─────────────────────────────────────────────────────────\n",
            "  skim_variable n_missing complete_rate min        max        median    \n",
            "1 date                  0             1 2023-01-01 2023-06-01 2023-03-16\n",
            "  n_unique\n",
            "1        6\n",
            "\n",
            "── Variable type: numeric ──────────────────────────────────────────────────────\n",
            "  skim_variable n_missing complete_rate   mean   sd    p0    p25     p50   p75\n",
            "1 value                 0             1 -0.460 1.19 -2.80 -0.415 -0.0328 0.207\n",
            "   p100 hist \n",
            "1 0.358 ▂▁▁▂▇\n"
          ]
        }
      ],
      "source": [
        "%%R -w 450 -h 400 -u px\n",
        "\n",
        "library(lubridate)\n",
        "\n",
        "# Create a date column\n",
        "data <- tibble(\n",
        "  date = seq(as.Date(\"2023-01-01\"), by = \"month\", length.out = 6),\n",
        "  value = rnorm(6)\n",
        ")\n",
        "\n",
        "# Skim dates\n",
        "skim(data)"
      ]
    },
    {
      "cell_type": "markdown",
      "metadata": {
        "id": "lDdbgmhZa9ZH"
      },
      "source": [
        "## Summary and Conclusion\n",
        "\n",
        "This tutorial guides  you through the process of using the {skimr} package for exploratory data analysis (EDA) in R. The {skimr} package is a powerful tool that provides a comprehensive overview of your dataset, allowing you to quickly understand its structure and characteristics. It generates summary statistics and visualizations, making it easier to identify patterns, trends, and potential issues in your data. The end of this tutorial, you should be able to use the {skimr} package to perform EDA on your own datasets and gain valuable insights into their characteristics."
      ]
    },
    {
      "cell_type": "markdown",
      "metadata": {
        "id": "0rbow40IYbVI"
      },
      "source": [
        "## Resources\n",
        "\n",
        "1.  [skimr](https://docs.ropensci.org/skimr/index.html)\n",
        "\n",
        "2.  [Introduction to skimr](https://github.com/ropensci/skimr)"
      ]
    }
  ],
  "metadata": {
    "colab": {
      "authorship_tag": "ABX9TyPq2tKmiD4oXZBKxx+CR2M6",
      "include_colab_link": true,
      "provenance": [],
      "toc_visible": true
    },
    "kernelspec": {
      "display_name": "Python 3",
      "name": "python3"
    },
    "language_info": {
      "name": "python"
    }
  },
  "nbformat": 4,
  "nbformat_minor": 0
}
