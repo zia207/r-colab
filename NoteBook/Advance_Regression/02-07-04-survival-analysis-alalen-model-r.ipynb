{
  "nbformat": 4,
  "nbformat_minor": 0,
  "metadata": {
    "colab": {
      "provenance": [],
      "toc_visible": true,
      "authorship_tag": "ABX9TyMCX+9xCUUXsIUycFGpwWdP",
      "include_colab_link": true
    },
    "kernelspec": {
      "name": "python3",
      "display_name": "Python 3"
    },
    "language_info": {
      "name": "python"
    }
  },
  "cells": [
    {
      "cell_type": "markdown",
      "metadata": {
        "id": "view-in-github",
        "colab_type": "text"
      },
      "source": [
        "<a href=\"https://colab.research.google.com/github/zia207/r-colab/blob/main/NoteBook/Advance_Regression/02-07-04-survival-analysis-alalen-model-r.ipynb\" target=\"_parent\"><img src=\"https://colab.research.google.com/assets/colab-badge.svg\" alt=\"Open In Colab\"/></a>"
      ]
    },
    {
      "cell_type": "markdown",
      "source": [
        "![alt text](http://drive.google.com/uc?export=view&id=1bLQ3nhDbZrCCqy_WCxxckOne2lgVvn3l)"
      ],
      "metadata": {
        "id": "PYplqK-VsB8E"
      }
    },
    {
      "cell_type": "markdown",
      "source": [
        "# 5. Aalen's Additive Regression Model\n",
        "\n",
        "This section provides an overview of the **Aalen's Additive regression model** in survival analysis, including its key concepts, applications, and how to fit the model manually in R. We will also demonstrate how to fit the Aalen model using the `aareg()` function from the {survival} package and the `aalen()` function from the {timereg} package in R."
      ],
      "metadata": {
        "id": "k_8T6NOosR51"
      }
    },
    {
      "cell_type": "markdown",
      "source": [
        "## Overview\n",
        "\n",
        "The **Aalen's Additive regression model**, also known as the **Aalen’s additive hazards model**, is a statistical technique used in survival analysis. Unlike the more commonly used Cox Proportional Hazards model, which assumes a multiplicative relationship between the covariates and the hazard function, the Aalen model assumes an **additive** relationship between the covariaAalen Model in R\n",
        "This tutorial is mostly used two R packages {survival} and {ggsurvfit}. Additionally we will use {ggfortify} which offers fortify and autoplot functions to allow automatic ggplot2 to visualize Kaplan-Meier plots.\n",
        "\n",
        "tes and the hazard function. This model is particularly useful when the proportional hazards assumption of the Cox model does not hold, meaning that the effects of covariates on survival are not constant over time.\n",
        "\n",
        "***Key Concepts of the Aalen Model***:\n",
        "\n",
        "1.  **Additive Hazards**:\n",
        "    -   In the Aalen model, the hazard at time $t$ is expressed as the sum of contributions from the covariates. The contribution of each covariate to the hazard function can change over time, making the model more flexible than the Cox model.\n",
        "    -   The hazard function $h(t)$is expressed as an additive function of the covariates.\n",
        "2.  **Time-Varying Coefficients**:\n",
        "    -   The Aalen model allows for **time-varying effects** of the covariates, meaning that the effect of each covariate on the hazard can change over time. This is an important feature that differentiates it from other survival models like the Cox model, which assumes constant covariate effects.\n",
        "3.  **No Proportional Hazards Assumption**:\n",
        "    -   The model does not rely on the proportional hazards assumption, making it more appropriate for situations where the covariates' effects vary over time.\n",
        "4.  **Interpretation**:\n",
        "    -   The coefficients in the Aalen model represent the **incremental effects** of the covariates on the hazard function at each time point. These coefficients are not hazard ratios, as in the Cox model, but are rather additive effects.\n",
        "\n",
        "\n",
        "\n",
        "The Aalen additive hazards model can be written as:\n",
        "\n",
        "$$ h(t|X) = h_0(t) + \\beta_1(t) X_1 + \\beta_2(t) X_2 + \\dots + \\beta_p(t) X_p $$\n",
        "\n",
        "Where:\n",
        "\n",
        "-   $h(t|X)$ is the hazard at time $t$ for an individual with covariates $X_1, X_2, \\dots, X_p$.\n",
        "-   $h_0(t)$ is the baseline hazard function at time $t$.\n",
        "-   $\\beta_1(t), \\beta_2(t), \\dots, \\beta_p(t)$ are the **time-varying** coefficients for each covariate $X_1, X_2, \\dots, X_p$, indicating how the effect of each covariate on the hazard changes over time.\n",
        "\n",
        "***Key Differences Between the Aalen Model and Cox Model***:\n",
        "\n",
        "1.  **Additive vs. Multiplicative**:\n",
        "    -   **Aalen model**: Assumes an **additive** effect of covariates on the hazard function.\n",
        "    -   **Cox model**: Assumes a **multiplicative** effect of covariates on the hazard function.\n",
        "2.  **Time-Varying Coefficients**:\n",
        "    -   **Aalen model**: Allows for time-varying effects of covariates (i.e., the effect of a covariate can change over time).\n",
        "    -   **Cox model**: Assumes the effects of covariates (hazard ratios) are **constant over time**.\n",
        "3.  **Proportional Hazards Assumption**:\n",
        "    -   **Aalen model**: Does **not** require the proportional hazards assumption.\n",
        "    -   **Cox model**: Requires the proportional hazards assumption (the effect of covariates on the hazard is proportional over time).\n",
        "4.  **Interpretation**:\n",
        "    -   **Aalen model**: Coefficients represent **additive** contributions to the hazard rate, which vary over time.\n",
        "    -   **Cox model**: Coefficients represent **multiplicative** hazard ratios, which are assumed to be constant over time.\n",
        "\n",
        "***Applications of the Aalen Model***:\n",
        "\n",
        "1.  **Time-Varying Effects**:\n",
        "    -   The Aalen model is particularly useful when the effects of covariates are expected to change over time. For example, in medical research, the effect of a treatment may change as patients progress through different stages of their disease.\n",
        "2.  **Exploratory Analysis**:\n",
        "    -   It is often used for exploratory analysis to check whether the proportional hazards assumption holds. If the covariate effects appear to be time-varying in the Aalen model, it suggests that the Cox model may not be appropriate.\n",
        "3.  **Flexible Survival Modeling**:\n",
        "    -   The model provides more flexibility than the Cox model, especially when the effects of covariates are not constant over time.\n",
        "\n",
        "***Advantages of the Aalen Model***:\n",
        "\n",
        "1.  **Flexibility**:\n",
        "    -   The model allows for **time-varying covariate effects**, making it useful when the proportional hazards assumption does not hold.\n",
        "2.  **Exploratory Tool**:\n",
        "    -   It can be used to explore time-varying effects of covariates and identify whether a simpler Cox model is appropriate.\n",
        "3.  **No Proportional Hazards Assumption**:\n",
        "    -   It does not require the proportional hazards assumption, making it more robust in certain settings.\n",
        "\n",
        "***Limitations***:\n",
        "\n",
        "1.  **Interpretability**:\n",
        "    -   The coefficients are harder to interpret compared to hazard ratios in the Cox model, especially because they are time-varying and represent additive effects.\n",
        "2.  **Less Popular**:\n",
        "    -   The Aalen model is less commonly used than the Cox model, which means there is less software support and fewer resources available for interpreting results.\n",
        "3.  **Less Efficient**:\n",
        "    -   If the true underlying model is multiplicative (as assumed by the Cox model), the Aalen model may be less efficient in estimating the effects of covariates.\n",
        "\n",
        "\n",
        "\n",
        "\n",
        "\n"
      ],
      "metadata": {
        "id": "rYkF3LgwHflQ"
      }
    },
    {
      "cell_type": "markdown",
      "source": [
        "## Install rpy2"
      ],
      "metadata": {
        "id": "9n6LEpyGsycn"
      }
    },
    {
      "cell_type": "code",
      "source": [
        "!pip uninstall rpy2 -y\n",
        "!pip install rpy2==3.5.1\n",
        "%load_ext rpy2.ipython"
      ],
      "metadata": {
        "colab": {
          "base_uri": "https://localhost:8080/"
        },
        "id": "Sn1uQzxIs01n",
        "outputId": "98ce91a4-ea71-40e7-c88e-2677674d3c6c"
      },
      "execution_count": 1,
      "outputs": [
        {
          "output_type": "stream",
          "name": "stdout",
          "text": [
            "Found existing installation: rpy2 3.5.17\n",
            "Uninstalling rpy2-3.5.17:\n",
            "  Successfully uninstalled rpy2-3.5.17\n",
            "Collecting rpy2==3.5.1\n",
            "  Downloading rpy2-3.5.1.tar.gz (201 kB)\n",
            "\u001b[2K     \u001b[90m━━━━━━━━━━━━━━━━━━━━━━━━━━━━━━━━━━━━━━━━\u001b[0m \u001b[32m201.7/201.7 kB\u001b[0m \u001b[31m10.4 MB/s\u001b[0m eta \u001b[36m0:00:00\u001b[0m\n",
            "\u001b[?25h  Preparing metadata (setup.py) ... \u001b[?25l\u001b[?25hdone\n",
            "Requirement already satisfied: cffi>=1.10.0 in /usr/local/lib/python3.11/dist-packages (from rpy2==3.5.1) (1.17.1)\n",
            "Requirement already satisfied: jinja2 in /usr/local/lib/python3.11/dist-packages (from rpy2==3.5.1) (3.1.5)\n",
            "Requirement already satisfied: pytz in /usr/local/lib/python3.11/dist-packages (from rpy2==3.5.1) (2025.1)\n",
            "Requirement already satisfied: tzlocal in /usr/local/lib/python3.11/dist-packages (from rpy2==3.5.1) (5.3)\n",
            "Requirement already satisfied: pycparser in /usr/local/lib/python3.11/dist-packages (from cffi>=1.10.0->rpy2==3.5.1) (2.22)\n",
            "Requirement already satisfied: MarkupSafe>=2.0 in /usr/local/lib/python3.11/dist-packages (from jinja2->rpy2==3.5.1) (3.0.2)\n",
            "Building wheels for collected packages: rpy2\n",
            "  Building wheel for rpy2 (setup.py) ... \u001b[?25l\u001b[?25hdone\n",
            "  Created wheel for rpy2: filename=rpy2-3.5.1-cp311-cp311-linux_x86_64.whl size=314978 sha256=dee341585bbbfc6a6c1a0af998a3f153d75addba1a58ff87f1b7ba96bb4d35dd\n",
            "  Stored in directory: /root/.cache/pip/wheels/e9/55/d1/47be85a5f3f1e1f4d1e91cb5e3a4dcb40dd72147f184c5a5ef\n",
            "Successfully built rpy2\n",
            "Installing collected packages: rpy2\n",
            "Successfully installed rpy2-3.5.1\n"
          ]
        }
      ]
    },
    {
      "cell_type": "markdown",
      "source": [
        "## Mount Google Drive"
      ],
      "metadata": {
        "id": "QC6sIX7Fs4dC"
      }
    },
    {
      "cell_type": "code",
      "source": [
        "from google.colab import drive\n",
        "drive.mount('/content/drive')"
      ],
      "metadata": {
        "colab": {
          "base_uri": "https://localhost:8080/"
        },
        "id": "FyS01C5Ss403",
        "outputId": "5c6af245-54fe-4854-ca4a-2b7b34cc2a1d"
      },
      "execution_count": 2,
      "outputs": [
        {
          "output_type": "stream",
          "name": "stdout",
          "text": [
            "Mounted at /content/drive\n"
          ]
        }
      ]
    },
    {
      "cell_type": "markdown",
      "source": [
        "## Install Required R Packages\n",
        "\n"
      ],
      "metadata": {
        "id": "MBPB39h9tCoZ"
      }
    },
    {
      "cell_type": "code",
      "source": [
        "%%R\n",
        "packages <-c(\n",
        "\t\t 'tidyverse',\n",
        "\t\t 'report',\n",
        "\t\t 'performance',\n",
        "\t\t 'gtsummary',\n",
        "\t\t 'MASS',\n",
        "\t\t 'epiDisplay',\n",
        "\t\t 'survival',\n",
        "\t\t 'survminer',\n",
        "\t\t 'ggsurvfit',\n",
        "\t\t 'tidycmprsk',\n",
        "\t\t 'ggfortify',\n",
        "\t\t 'timereg',\n",
        "\t\t 'cmprsk',\n",
        "\t\t 'condsurv',\n",
        "\t\t 'riskRegression'\n",
        "\t\t )"
      ],
      "metadata": {
        "id": "6gNs99XwtCvv"
      },
      "execution_count": 3,
      "outputs": []
    },
    {
      "cell_type": "code",
      "source": [
        "%%R\n",
        "# Install missing packages\n",
        "new.packages <- packages[!(packages %in% installed.packages(lib='drive/My Drive/R/')[,\"Package\"])]\n",
        "if(length(new.packages)) install.packages(new.packages, lib='drive/My Drive/R/')"
      ],
      "metadata": {
        "id": "W_i3qhShtTXQ"
      },
      "execution_count": null,
      "outputs": []
    },
    {
      "cell_type": "code",
      "source": [
        "%%R\n",
        "# set library path\n",
        ".libPaths('drive/My Drive/R')\n",
        "# Verify installation\n",
        "cat(\"Installed packages:\\n\")\n",
        "print(sapply(packages, requireNamespace, quietly = TRUE))"
      ],
      "metadata": {
        "colab": {
          "base_uri": "https://localhost:8080/"
        },
        "id": "zT4SkCPqTraH",
        "outputId": "c3a33361-fb0f-43c2-c981-a557d4ddfdcf"
      },
      "execution_count": 4,
      "outputs": [
        {
          "output_type": "stream",
          "name": "stdout",
          "text": [
            "Installed packages:\n"
          ]
        },
        {
          "output_type": "stream",
          "name": "stderr",
          "text": [
            "WARNING:rpy2.rinterface_lib.callbacks:R[write to console]: Registered S3 method overwritten by 'tidycmprsk':\n",
            "  method                    from     \n",
            "  global_pvalue_fun.tidycrr gtsummary\n",
            "\n",
            "WARNING:rpy2.rinterface_lib.callbacks:R[write to console]: Registered S3 method overwritten by 'rms':\n",
            "  method       from      \n",
            "  print.lrtest epiDisplay\n",
            "\n"
          ]
        },
        {
          "output_type": "stream",
          "name": "stdout",
          "text": [
            "     tidyverse         report    performance      gtsummary           MASS \n",
            "          TRUE           TRUE           TRUE           TRUE           TRUE \n",
            "    epiDisplay       survival      survminer      ggsurvfit     tidycmprsk \n",
            "          TRUE           TRUE           TRUE           TRUE           TRUE \n",
            "     ggfortify        timereg         cmprsk       condsurv riskRegression \n",
            "          TRUE           TRUE           TRUE           TRUE           TRUE \n"
          ]
        }
      ]
    },
    {
      "cell_type": "markdown",
      "source": [
        "### Load Packages"
      ],
      "metadata": {
        "id": "bHMhwim5TwWl"
      }
    },
    {
      "cell_type": "code",
      "source": [
        "%%R\n",
        "# set library path\n",
        ".libPaths('drive/My Drive/R')\n",
        "# Load packages with suppressed messages\n",
        "invisible(lapply(packages, function(pkg) {\n",
        "  suppressPackageStartupMessages(library(pkg, character.only = TRUE))\n",
        "}))\n",
        "# Check loaded packages\n",
        "cat(\"Successfully loaded packages:\\n\")\n",
        "print(search()[grepl(\"package:\", search())])# Check loaded packages\n"
      ],
      "metadata": {
        "colab": {
          "base_uri": "https://localhost:8080/"
        },
        "id": "fSOrTSZ8TvY9",
        "outputId": "fe31c794-e577-4bfb-ea3a-3e6eb10e597b"
      },
      "execution_count": 5,
      "outputs": [
        {
          "output_type": "stream",
          "name": "stdout",
          "text": [
            "Successfully loaded packages:\n",
            " [1] \"package:riskRegression\" \"package:condsurv\"       \"package:cmprsk\"        \n",
            " [4] \"package:timereg\"        \"package:ggfortify\"      \"package:tidycmprsk\"    \n",
            " [7] \"package:ggsurvfit\"      \"package:survminer\"      \"package:ggpubr\"        \n",
            "[10] \"package:epiDisplay\"     \"package:nnet\"           \"package:survival\"      \n",
            "[13] \"package:foreign\"        \"package:MASS\"           \"package:gtsummary\"     \n",
            "[16] \"package:performance\"    \"package:report\"         \"package:lubridate\"     \n",
            "[19] \"package:forcats\"        \"package:stringr\"        \"package:dplyr\"         \n",
            "[22] \"package:purrr\"          \"package:readr\"          \"package:tidyr\"         \n",
            "[25] \"package:tibble\"         \"package:ggplot2\"        \"package:tidyverse\"     \n",
            "[28] \"package:tools\"          \"package:stats\"          \"package:graphics\"      \n",
            "[31] \"package:grDevices\"      \"package:utils\"          \"package:datasets\"      \n",
            "[34] \"package:methods\"        \"package:base\"          \n"
          ]
        }
      ]
    },
    {
      "cell_type": "markdown",
      "source": [
        "## Fit a Aalen Model\n",
        "\n",
        "Let's now go through the **manual calculation** of Aalen's Additive Hazard Model using the **simulated veteran dataset**.  We'll calculate the necessary steps for fitting the model without relying on any pre-built R package functions.\n",
        "\n",
        "We will:\n",
        "\n",
        "1. Simulate the veteran-like dataset.\n",
        "2. Estimate the time-varying coefficients.\n",
        "3. Calculate the cumulative coefficients.\n",
        "4. Compute the cumulative hazard.\n",
        "5. Plot the cumulative coefficients."
      ],
      "metadata": {
        "id": "uFDb5bE9ZMFK"
      }
    },
    {
      "cell_type": "markdown",
      "source": [
        "### Creat a dataset"
      ],
      "metadata": {
        "id": "jwDLxn107PiL"
      }
    },
    {
      "cell_type": "code",
      "source": [
        "%%R\n",
        "set.seed(123)\n",
        "\n",
        "# Number of patients\n",
        "n <- 100\n",
        "\n",
        "# Simulated dataset similar to 'veteran'\n",
        "simulated_veteran <- data.frame(\n",
        "  time = rexp(n, rate = 0.1),  # Survival times from an exponential distribution\n",
        "  status = sample(0:1, n, replace = TRUE, prob = c(0.4, 0.6)),  # Event (1) or censoring (0)\n",
        "  trt = sample(1:2, n, replace = TRUE),  # Treatment group (1 = standard, 2 = test)\n",
        "  age = rnorm(n, mean = 60, sd = 10),  # Age (mean = 60)\n",
        "  celltype = sample(1:4, n, replace = TRUE),  # Cell type (categorical: 1 = squamous, etc.)\n",
        "  karno = rnorm(n, mean = 70, sd = 10),  # Karnofsky score\n",
        "  diagtime = rnorm(n, mean = 5, sd = 2),  # Time since diagnosis in months\n",
        "  prior = sample(0:10, n, replace = TRUE)  # Number of prior therapies\n",
        ")\n",
        "\n",
        "head(simulated_veteran)"
      ],
      "metadata": {
        "colab": {
          "base_uri": "https://localhost:8080/"
        },
        "id": "VWyarwRVZYAL",
        "outputId": "4b1597c2-fa0b-45b6-b768-88c2b1d97893"
      },
      "execution_count": null,
      "outputs": [
        {
          "output_type": "stream",
          "name": "stdout",
          "text": [
            "        time status trt      age celltype    karno  diagtime prior\n",
            "1  8.4345726      0   1 71.09920        4 56.35963 6.4254067     7\n",
            "2  5.7661027      0   2 60.84737        1 67.99219 7.1695502     0\n",
            "3 13.2905487      0   1 67.54054        1 78.65779 0.5500246     1\n",
            "4  0.3157736      0   2 55.00708        4 68.98117 7.4713869    10\n",
            "5  0.5621098      1   1 62.14445        3 76.24187 2.5179110     4\n",
            "6  3.1650122      1   1 56.75314        4 79.59005 5.9095385     4\n"
          ]
        }
      ]
    },
    {
      "cell_type": "markdown",
      "source": [
        "This generates 100 observations with the following columns:\n",
        "- `time`: Survival or censoring time.\n",
        "- `status`: Event indicator (1 = event occurred, 0 = censored).\n",
        "- `trt`: Treatment group (1 or 2).\n",
        "- `age`, `karno`, `diagtime`, and `prior`: Covariates for analysis."
      ],
      "metadata": {
        "id": "490FgHDcZcrh"
      }
    },
    {
      "cell_type": "markdown",
      "source": [
        "###  Estimate Time-Varying Coefficients\n",
        "\n",
        "At each event time, we estimate the time-varying coefficients \\( \\beta_j(t) \\) using least squares regression. The formula for the coefficient estimates is:\n",
        "\n",
        "$$ \\beta(t) = \\left( X(t)^T X(t) \\right)^{-1} X(t)^T d(t) $$\n",
        "\n",
        "Here's the code to estimate the coefficients manually at each event time:"
      ],
      "metadata": {
        "id": "mc0CdblOZfeh"
      }
    },
    {
      "cell_type": "code",
      "source": [
        "%%R\n",
        "# Load MASS package\n",
        "library(MASS)\n",
        "\n",
        "estimate_aalen_coefficients <- function(time, status, X) {\n",
        "  unique_times <- sort(unique(time[status == 1]))  # Only event times\n",
        "  betas <- matrix(0, nrow = length(unique_times), ncol = ncol(X))  # To store coefficients\n",
        "\n",
        "  for (i in seq_along(unique_times)) {\n",
        "    t <- unique_times[i]\n",
        "\n",
        "    # Risk set at time t (those who haven't had the event yet)\n",
        "    risk_set <- which(time >= t)\n",
        "\n",
        "    if (length(risk_set) > 1) {\n",
        "      X_risk <- X[risk_set, , drop = FALSE]\n",
        "      y_risk <- status[risk_set]\n",
        "\n",
        "      # Use Moore-Penrose generalized inverse\n",
        "      betas[i, ] <- ginv(t(X_risk) %*% X_risk) %*% t(X_risk) %*% y_risk\n",
        "    }\n",
        "  }\n",
        "\n",
        "  return(list(betas = betas, unique_times = unique_times))\n",
        "}\n",
        "\n",
        "# Prepare the design matrix X (excluding the time and status columns)\n",
        "X <- as.matrix(simulated_veteran[, c(\"trt\", \"age\", \"karno\", \"diagtime\", \"prior\")])\n",
        "\n",
        "# Try running it again with generalized inverse\n",
        "aalen_results <- estimate_aalen_coefficients(simulated_veteran$time, simulated_veteran$status, X)\n",
        "\n",
        "# Extract the results\n",
        "betas <- aalen_results$betas\n",
        "unique_times <- aalen_results$unique_times\n",
        "\n",
        "# Convert to a data frame for easier plotting\n",
        "betas_df <- as.data.frame(betas)\n",
        "betas_df$time <- unique_times\n",
        "\n",
        "# Print the estimated time-varying coefficients\n",
        "head(betas_df)"
      ],
      "metadata": {
        "colab": {
          "base_uri": "https://localhost:8080/"
        },
        "id": "74__ZSVqZoHM",
        "outputId": "630e4ca1-4c33-4dcf-ddd1-76059793cd62"
      },
      "execution_count": null,
      "outputs": [
        {
          "output_type": "stream",
          "name": "stdout",
          "text": [
            "          V1          V2          V3          V4         V5      time\n",
            "1 0.05873544 0.006259231 0.003374983 -0.02853867 0.01010860 0.2915345\n",
            "2 0.06448842 0.005070569 0.003717400 -0.02450852 0.01455075 0.3176774\n",
            "3 0.05570305 0.005388397 0.003540725 -0.02264181 0.01307701 0.4208829\n",
            "4 0.04973973 0.005907833 0.003585505 -0.02391420 0.00942069 0.5621098\n",
            "5 0.05503656 0.005802184 0.003284665 -0.02139353 0.01007015 0.6737589\n",
            "6 0.04506262 0.005664981 0.003475025 -0.01908471 0.01108399 0.9863089\n"
          ]
        }
      ]
    },
    {
      "cell_type": "markdown",
      "source": [
        "###  Calculate Cumulative Coefficients\n",
        "\n",
        "After obtaining the time-varying coefficients at each event time, we calculate the cumulative coefficients by summing them over time:\n",
        "\n",
        "$$ \\hat{\\beta_j}(t) = \\sum_{t_i \\leq t} \\hat{\\beta_j}(t_i) $$"
      ],
      "metadata": {
        "id": "Q_Bvv838ZxRU"
      }
    },
    {
      "cell_type": "code",
      "source": [
        "%%R\n",
        "# Calculate cumulative coefficients\n",
        "cumulative_betas <- apply(betas, 2, cumsum)\n",
        "\n",
        "# Convert to a data frame for easier plotting\n",
        "cumulative_betas_df <- as.data.frame(cumulative_betas)\n",
        "cumulative_betas_df$time <- unique_times\n",
        "\n",
        "# Print the cumulative coefficients\n",
        "head(cumulative_betas_df)"
      ],
      "metadata": {
        "colab": {
          "base_uri": "https://localhost:8080/"
        },
        "id": "-uFaqwGlZx8w",
        "outputId": "93891340-e709-4abf-946f-d17a22c32559"
      },
      "execution_count": null,
      "outputs": [
        {
          "output_type": "stream",
          "name": "stdout",
          "text": [
            "          V1          V2          V3          V4         V5      time\n",
            "1 0.05873544 0.006259231 0.003374983 -0.02853867 0.01010860 0.2915345\n",
            "2 0.12322386 0.011329800 0.007092383 -0.05304719 0.02465934 0.3176774\n",
            "3 0.17892691 0.016718197 0.010633109 -0.07568900 0.03773635 0.4208829\n",
            "4 0.22866664 0.022626031 0.014218614 -0.09960320 0.04715704 0.5621098\n",
            "5 0.28370320 0.028428214 0.017503279 -0.12099673 0.05722719 0.6737589\n",
            "6 0.32876583 0.034093196 0.020978304 -0.14008144 0.06831118 0.9863089\n"
          ]
        }
      ]
    },
    {
      "cell_type": "markdown",
      "source": [
        "### Compute the Cumulative Hazard\n",
        "\n",
        "The cumulative hazard is the integral (sum) of the hazard function over time, where the hazard function at any time is the sum of the covariates weighted by their time-varying coefficients:\n",
        "\n",
        "$$ \\Lambda(t \\mid X) = \\sum_{t_i \\leq t} h(t_i \\mid X) $$"
      ],
      "metadata": {
        "id": "pWGFD-32Z25h"
      }
    },
    {
      "cell_type": "markdown",
      "source": [
        "For simplicity, we'll assume that we only calculate this for the baseline hazard.\n",
        "\n",
        "### Plot Cumulative Coefficients\n",
        "\n",
        "Finally, we plot the cumulative coefficients for each covariate to see how their effects change over time."
      ],
      "metadata": {
        "id": "PvqVgXhzZ5zJ"
      }
    },
    {
      "cell_type": "code",
      "source": [
        "%%R -w 500 -h 400 -u px\n",
        "# Plot cumulative coefficients for each covariate\n",
        "plot(cumulative_betas_df$time, cumulative_betas_df$V1, type = \"l\", col = \"blue\",\n",
        "     xlab = \"Time\", ylab = \"Cumulative Coefficient\", lwd = 2, main = \"Cumulative Coefficients of Aalen's Additive Model\")\n",
        "lines(cumulative_betas_df$time, cumulative_betas_df$V2, col = \"red\", lwd = 2)\n",
        "lines(cumulative_betas_df$time, cumulative_betas_df$V3, col = \"green\", lwd = 2)\n",
        "lines(cumulative_betas_df$time, cumulative_betas_df$V4, col = \"purple\", lwd = 2)\n",
        "lines(cumulative_betas_df$time, cumulative_betas_df$V5, col = \"orange\", lwd = 2)\n",
        "\n",
        "# Add a legend\n",
        "legend(\"topright\", legend = c(\"Treatment\", \"Age\", \"Karnofsky\", \"Diagnosis Time\", \"Prior Therapies\"),\n",
        "       col = c(\"blue\", \"red\", \"green\", \"purple\", \"orange\"), lwd = 2)"
      ],
      "metadata": {
        "colab": {
          "base_uri": "https://localhost:8080/",
          "height": 417
        },
        "id": "qCfrFQaAZ7vp",
        "outputId": "e39574f9-9445-4edc-acad-45c785479e2b"
      },
      "execution_count": null,
      "outputs": [
        {
          "output_type": "display_data",
          "data": {
            "image/png": "[encoded data removed]"
          },
          "metadata": {}
        }
      ]
    },
    {
      "cell_type": "markdown",
      "source": [
        "## Aalen Model with  R\n",
        "\n",
        "This tutorial is mostly used two R packages [{survival}](https://cran.r-project.org/web/packages/survival/index.html), and [{timereg}](https://cran.r-project.org/web/packages/timereg/index.html/).\n"
      ],
      "metadata": {
        "id": "J037bsDUVEjw"
      }
    },
    {
      "cell_type": "code",
      "source": [
        "%%R\n",
        "# set library path\n",
        ".libPaths('drive/My Drive/R')\n",
        "library(tidyverse)\n",
        "library(gtsummary)\n",
        "library(report)\n",
        "library(performance)\n",
        "library(MASS)\n",
        "library(epiDisplay)\n",
        "library(survival)\n",
        "library(survminer)\n",
        "library(ggsurvfit)\n",
        "library(tidycmprsk)\n",
        "library(condsurv)\n",
        "library(ggfortify)\n",
        "library(timereg)\n",
        "library(cmprsk)\n",
        "library(riskRegression)\n"
      ],
      "metadata": {
        "id": "qjPGGF1DJZPl",
        "collapsed": true
      },
      "execution_count": null,
      "outputs": []
    },
    {
      "cell_type": "markdown",
      "source": [
        "### Load R packages"
      ],
      "metadata": {
        "id": "80gcu8ChJZCU"
      }
    },
    {
      "cell_type": "markdown",
      "source": [
        "### Data\n",
        "\n",
        "In this example, we will perform a **Aalen additive hazards model** using the `veteran` dataset from the {survival} package."
      ],
      "metadata": {
        "id": "XFVf02jQU5Cj"
      }
    },
    {
      "cell_type": "code",
      "source": [
        "%%R\n",
        "data(veteran)\n",
        "glimpse(veteran)"
      ],
      "metadata": {
        "colab": {
          "base_uri": "https://localhost:8080/"
        },
        "id": "Pcp4WjrXL6bT",
        "outputId": "133fa4cb-e183-43b9-c2f4-437008dd59bf"
      },
      "execution_count": null,
      "outputs": [
        {
          "output_type": "stream",
          "name": "stdout",
          "text": [
            "Rows: 137\n",
            "Columns: 8\n",
            "$ trt      <dbl> 1, 1, 1, 1, 1, 1, 1, 1, 1, 1, 1, 1, 1, 1, 1, 1, 1, 1, 1, 1, 1…\n",
            "$ celltype <fct> squamous, squamous, squamous, squamous, squamous, squamous, s…\n",
            "$ time     <dbl> 72, 411, 228, 126, 118, 10, 82, 110, 314, 100, 42, 8, 144, 25…\n",
            "$ status   <dbl> 1, 1, 1, 1, 1, 1, 1, 1, 1, 0, 1, 1, 1, 0, 1, 1, 1, 1, 1, 1, 0…\n",
            "$ karno    <dbl> 60, 70, 60, 60, 70, 20, 40, 80, 50, 70, 60, 40, 30, 80, 70, 6…\n",
            "$ diagtime <dbl> 7, 5, 3, 9, 11, 5, 10, 29, 18, 6, 4, 58, 4, 9, 11, 3, 9, 2, 4…\n",
            "$ age      <dbl> 69, 64, 38, 63, 65, 49, 69, 68, 43, 70, 81, 63, 63, 52, 48, 6…\n",
            "$ prior    <dbl> 0, 10, 0, 10, 10, 0, 10, 0, 0, 0, 0, 10, 0, 10, 10, 0, 0, 0, …\n"
          ]
        }
      ]
    },
    {
      "cell_type": "markdown",
      "source": [
        "The dataset contains information such as:\n",
        "\n",
        "-   `time`: Survival time in days.\n",
        "\n",
        "-   `status`: Censoring indicator (1 = death, 0 = censored).\n",
        "\n",
        "-   `trt`: Treatment group (1 = standard treatment, 2 = test treatment).\n",
        "\n",
        "-   `age`: Age of the patient.\n",
        "\n",
        "-   `celltype`: Cell type of lung cancer.\n",
        "\n",
        "-   `karno`: Karnofsky performance score (higher is better).\n",
        "\n",
        "-   `diagtime`: Time since diagnosis in months.\n",
        "\n",
        "-   `prior`: Number of prior treatments."
      ],
      "metadata": {
        "id": "3FkPJMUIMJqz"
      }
    },
    {
      "cell_type": "markdown",
      "source": [
        "### Fit a Aalen Model using {survival} package\n",
        "\n",
        "`aareg()` function of {survival} package using the survival time (`time`), censoring indicator (`status)`, and several covariates such as `age`, `trt`, `celltype,` and `karno`,\n",
        "\n"
      ],
      "metadata": {
        "id": "ZDndu28eMgto"
      }
    },
    {
      "cell_type": "code",
      "source": [
        "%%R -h 550 -w 500 -u px\n",
        "fit.aamodel <-aareg(Surv(time, status) ~  age + trt + celltype + karno ,\n",
        "                 data = veteran)\n",
        "summary(fit.aamodel)"
      ],
      "metadata": {
        "colab": {
          "base_uri": "https://localhost:8080/"
        },
        "id": "-tc4EFJqNEw5",
        "outputId": "db5cef7b-1682-4909-f919-abf7ab8c9d28"
      },
      "execution_count": null,
      "outputs": [
        {
          "output_type": "stream",
          "name": "stdout",
          "text": [
            "                      slope      coef se(coef)      z        p\n",
            "Intercept          0.067600  3.74e-02 1.06e-02  3.540 4.00e-04\n",
            "age               -0.000249 -6.86e-05 1.28e-04 -0.537 5.91e-01\n",
            "trt                0.006840  2.54e-03 2.62e-03  0.971 3.32e-01\n",
            "celltypesmallcell  0.015100  6.64e-03 3.40e-03  1.950 5.07e-02\n",
            "celltypeadeno      0.023500  1.04e-02 4.18e-03  2.490 1.27e-02\n",
            "celltypelarge     -0.000918  3.87e-04 2.85e-03  0.136 8.92e-01\n",
            "karno             -0.001250 -4.54e-04 8.81e-05 -5.160 2.52e-07\n",
            "\n",
            "Chisq=40.27 on 6 df, p=4.02e-07; test weights=aalen\n"
          ]
        }
      ]
    },
    {
      "cell_type": "markdown",
      "source": [
        "The summary of the model shows the time-varying estimates for each covariate (e.g., age, treatment, cell type, and Karnofsky score).\n",
        "\n",
        "-   If the estimates for a covariate remain roughly constant over time, it suggests that its effect on the hazard is constant.\n",
        "\n",
        "-   If the estimates for a covariate change over time, it indicates that the covariate has a time-varying effect on survival."
      ],
      "metadata": {
        "id": "ocKqsEX-0uO1"
      }
    },
    {
      "cell_type": "markdown",
      "source": [
        "We can visualize how the cumulative regression coefficients (i.e., the effect of each covariate) change over time by plotting the model."
      ],
      "metadata": {
        "id": "tDhWslkqVdLJ"
      }
    },
    {
      "cell_type": "code",
      "source": [
        "%%R -h 750 -w 1000 -u px\n",
        "autoplot(fit.aamodel)\n"
      ],
      "metadata": {
        "colab": {
          "base_uri": "https://localhost:8080/",
          "height": 767
        },
        "id": "GZxvXet3OcWE",
        "outputId": "d000bc01-c7bd-4dab-ab0e-0a09b720ec33"
      },
      "execution_count": null,
      "outputs": [
        {
          "output_type": "display_data",
          "data": {
            "image/png": "[encoded data removed]"
          },
          "metadata": {}
        }
      ]
    },
    {
      "cell_type": "markdown",
      "source": [
        "The plot shows how the cumulative effect of each covariate on the hazard function changes over time. This allows us to see whether the covariate effects are constant or time-varying.\n",
        "\n",
        "-   **Age**: If the cumulative coefficient for `age` increases over time, it suggests that older patients have a progressively higher risk of death as time goes on.\n",
        "\n",
        "-   **Treatment (trt)**: The plot for `trt` will show how the effect of the treatment group changes over time. If the test treatment has a decreasing or flat cumulative coefficient, it suggests a positive effect on survival.\n",
        "\n",
        "-   **Karnofsky score (karno)**: If the cumulative coefficient for `karno` decreases, it suggests that patients with a higher Karnofsky score (better performance status) have a reduced risk of death.\n",
        "\n"
      ],
      "metadata": {
        "id": "g9NsshTf1TaD"
      }
    },
    {
      "cell_type": "markdown",
      "source": [
        "### Fit a Aalen Model using {timereg} package\n",
        "\n",
        "`aalen()` function of {timereg} package fits both the additive hazards model of **Aalen and the semi-parametric additive hazards model** of McKeague and Sasieni. Estimates are un-weighted. Time dependent variables and counting process data (multiple events per subject) are possible.\n",
        "\n",
        "`max.time`: end of observation period where estimates are computed. Estimates thus computed from \\[start.time, max.time\\]. Default is max of data.\n",
        "\n",
        "`n.sim`: number of simulations in resampling."
      ],
      "metadata": {
        "id": "v2scHUiFVu3Q"
      }
    },
    {
      "cell_type": "code",
      "source": [
        "%%R\n",
        "# Fit the Aalen additive hazards model\n",
        "fit.aalenreg <- aalen(Surv(time, status) ~ age + trt + celltype + karno,\n",
        "                      data = veteran,\n",
        "                      max.time=30, #\n",
        "                      n.sim=1000)\n",
        "\n",
        "# Print the summary of the model\n",
        "summary(fit.aalenreg)"
      ],
      "metadata": {
        "colab": {
          "base_uri": "https://localhost:8080/"
        },
        "id": "IVlPP-58Vz_s",
        "outputId": "9448b935-4c0f-42f9-f076-ff8e8e138150"
      },
      "execution_count": null,
      "outputs": [
        {
          "output_type": "stream",
          "name": "stdout",
          "text": [
            "Additive Aalen Model \n",
            "\n",
            "Test for nonparametric terms \n",
            "\n",
            "Test for non-significant effects \n",
            "                  Supremum-test of significance p-value H_0: B(t)=0\n",
            "(Intercept)                                4.42               0.001\n",
            "age                                        2.26               0.167\n",
            "trt                                        1.76               0.450\n",
            "celltypesmallcell                          1.66               0.441\n",
            "celltypeadeno                              1.60               0.470\n",
            "celltypelarge                              2.22               0.146\n",
            "karno                                      5.31               0.000\n",
            "\n",
            "Test for time invariant effects \n",
            "                        Kolmogorov-Smirnov test p-value H_0:constant effect\n",
            "(Intercept)                             0.50300                       0.199\n",
            "age                                     0.00423                       0.411\n",
            "trt                                     0.11400                       0.157\n",
            "celltypesmallcell                       0.21800                       0.025\n",
            "celltypeadeno                           0.07560                       0.804\n",
            "celltypelarge                           0.12500                       0.068\n",
            "karno                                   0.00269                       0.589\n",
            "                          Cramer von Mises test p-value H_0:constant effect\n",
            "(Intercept)                            1.13e+00                       0.389\n",
            "age                                    1.28e-04                       0.365\n",
            "trt                                    1.05e-01                       0.129\n",
            "celltypesmallcell                      5.25e-01                       0.009\n",
            "celltypeadeno                          3.62e-02                       0.781\n",
            "celltypelarge                          1.15e-01                       0.059\n",
            "karno                                  8.05e-05                       0.294\n",
            "\n",
            "   \n",
            "   \n",
            "  Call: \n",
            "aalen(formula = Surv(time, status) ~ age + trt + celltype + karno, \n",
            "    data = veteran, max.time = 30, n.sim = 1000)\n",
            "\n"
          ]
        }
      ]
    },
    {
      "cell_type": "markdown",
      "source": [
        "To visualize how the effect of each covariate changes over time, you can plot the cumulative regression coefficients."
      ],
      "metadata": {
        "id": "Df4xo6TUV3ie"
      }
    },
    {
      "cell_type": "code",
      "source": [
        "%%R -h 650 -w 1000 -u px\n",
        "par(mfrow=c(2,4))\n",
        "plot(fit.aalenreg, main=\"Aalen Model\")\n"
      ],
      "metadata": {
        "colab": {
          "base_uri": "https://localhost:8080/",
          "height": 667
        },
        "id": "Y3J9ROKEV4TC",
        "outputId": "877f22c4-f92f-468e-c839-90e7abfe027c"
      },
      "execution_count": null,
      "outputs": [
        {
          "output_type": "display_data",
          "data": {
            "image/png": "[encoded data removed]"
          },
          "metadata": {}
        }
      ]
    },
    {
      "cell_type": "markdown",
      "source": [
        "### Interpretation of the Results\n",
        "\n",
        "-   **Karnofsky Score (`karno`)**: A negative time-varying coefficient indicates that better performance status (higher Karnofsky score) is associated with a lower hazard of death. The cumulative coefficient shows how this effect accumulates over time.\n",
        "\n",
        "-   **Treatment (`trt`)**: A positive or negative time-varying coefficient for the treatment group indicates whether the test treatment increases or decreases the hazard of death compared to the standard treatment.\n",
        "\n",
        "-   **Time-Varying Effects**: If the coefficients for certain covariates change over time, it means their effects on survival are not constant, which might suggest that the effect of these covariates varies depending on how long a patient has survived.\n",
        "\n",
        "## Summary and Conclusions\n",
        "\n",
        "The **Aalen additive hazards model** is a flexible tool in survival analysis, allowing for **time-varying effects** of covariates on the hazard function. It provides an alternative to the Cox model, particularly when the assumption of proportional hazards does not hold. While the model’s interpretability may be more complex than the Cox model, it is a valuable tool for exploring time-dependent relationships in survival data.\n"
      ],
      "metadata": {
        "id": "GF0_aEr8WC--"
      }
    },
    {
      "cell_type": "markdown",
      "source": [
        "## Summary and Conclusion:\n",
        "\n",
        "In this example, we used **Landmark analysis** to evaluate the effect of **Karnofsky performance score** and **treatment** on survival after 90 days. This method is helpful when dealing with time-dependent covariates and intermediate events, allowing you to assess how these factors influence survival beyond a certain time point. By focusing on patients still at risk at the landmark time, the analysis can provide more accurate insights into the post-landmark survival.\n"
      ],
      "metadata": {
        "id": "p1VtRgcYP-WP"
      }
    },
    {
      "cell_type": "markdown",
      "source": [
        "## References\n",
        "\n",
        "## References\n",
        "\n",
        "1.  Aalen, O.O. (1989). A linear regression model for the analysis of life times. Statistics in Medicine, 8:907-925.\n",
        "2.  Aalen, O.O (1993). Further results on the non-parametric linear model in survival analysis. Statistics in Medicine. 12:1569-1588.\n",
        "3.  [Survival Analysis with R](https://rviews.rstudio.com/2017/09/25/survival-analysis-with-r/)\n"
      ],
      "metadata": {
        "id": "evpa9c53QAHh"
      }
    }
  ]
}