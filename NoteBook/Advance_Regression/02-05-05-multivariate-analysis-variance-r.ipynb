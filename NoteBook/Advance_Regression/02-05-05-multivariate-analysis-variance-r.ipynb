{
  "cells": [
    {
      "cell_type": "markdown",
      "metadata": {
        "id": "view-in-github",
        "colab_type": "text"
      },
      "source": [
        "<a href=\"https://colab.research.google.com/github/zia207/r-colab/blob/main/NoteBook/Advance_Regression/02-05-05-multivariate-analysis-variance-r.ipynb\" target=\"_parent\"><img src=\"https://colab.research.google.com/assets/colab-badge.svg\" alt=\"Open In Colab\"/></a>"
      ]
    },
    {
      "cell_type": "markdown",
      "metadata": {
        "id": "KsBkpmP_qjLM"
      },
      "source": [
        "![alt text](http://drive.google.com/uc?export=view&id=1bLQ3nhDbZrCCqy_WCxxckOne2lgVvn3l)"
      ]
    },
    {
      "cell_type": "markdown",
      "metadata": {
        "id": "Dzp9ZseROTcY"
      },
      "source": [
        "# 4. Multivariate Analysis of Variance (MANOVA)\n",
        "\n",
        "This tutorial covers the concept of **Multivariate Analysis of Variance (MANOVA)**, a statistical technique used to analyze the differences among groups on multiple dependent variables simultaneously. MANOVA is an extension of Analysis of Variance (ANOVA) to situations where there are multiple dependent variables. It is particularly useful when the dependent variables are correlated and when researchers want to test whether the mean vectors of the dependent variables are equal across groups defined by one or more independent variables.\n",
        "\n",
        "\n",
        "\n"
      ]
    },
    {
      "cell_type": "markdown",
      "metadata": {
        "id": "6DjM_eceq9Wv"
      },
      "source": [
        "\n",
        "## Overview\n",
        "\n",
        "Multivariate Analysis of Variance (MANOVA) is a statistical method that extends Analysis of Variance (ANOVA) to situations where there are multiple dependent variables. It tests whether the mean vectors of the dependent variables are equal across groups defined by one or more independent variables. MANOVA is particularly useful when the dependent variables are correlated. MANOVA allows researchers to determine whether there are significant differences among groups on multiple dependent variables simultaneously. This can be useful when studying complex phenomena where multiple variables may be involved in explaining the outcome of interest.\n",
        "\n",
        "MANOVA analyzes the differences among groups in an independent variable by considering multiple dependent variables. This reduces the type I error which can be inflated by performing separate univariate ANOVA for each dependent variable. MANOVA also controls for inter-correlations among the multiple dependent variables in the dataset. As compared to univariate ANOVA, MANOVA uses more information from the dependent variables i.e., MANOVA may find differences between groups based on combined information from the multiple dependent variables.\n",
        "\n",
        "MANOVA is based on the general linear model (GLM) framework and involves estimating a set of linear equations that relate the dependent variables to the independent variables. The technique produces a set of output statistics, including F-values and p-values, that indicate whether there are significant differences among groups on the dependent variables. In contrast to ANOVA, where we compare individual group means, MANOVA compares the vectors containing the group mean of each dependent variable. MANOVA uses omnibus Wilk's Lambda, Pillai's Trace (most robust to departures from assumptions), Roy's Largest Root, or Hotelling-Lawley's test, which are later converted to F statistics for assessing the significance of the group differences. Pillai's Trace has the highest statistical power. MANOVA maximizes the discrimination in between-groups than within-groups based on best linear combinations of the multiple response variables.\n",
        "\n",
        "\n",
        "\n"
      ]
    },
    {
      "cell_type": "markdown",
      "source": [
        "### Key Concepts\n",
        "\n",
        "-   **Dependent Variables (**$Y_1, Y_2, \\ldots, Y_p$): These are the multiple outcome variables being analyzed.\n",
        "-   **Dependent Variables ($Y_1, Y_2, \\ldots, Y_p$): These are the multiple outcome variables being analyzed.\n",
        "-   **Independent Variable(s):** These define the groups or categories being compared.\n",
        "-   **Hypothesis Testing:** MANOVA tests the null hypothesis ($H_0$) that the mean vectors of the dependent variables are the same across groups."
      ],
      "metadata": {
        "id": "55horQMn_SUB"
      }
    },
    {
      "cell_type": "markdown",
      "source": [
        "### Mathematical Formulation\n",
        "\n",
        "Suppose there are $k$ groups, $p$ dependent variables, and $n_i$ observations in the $i$-th group ($n = \\sum_{i=1}^k n_i$).\n",
        "\n",
        "**1. Mean Vector**\n",
        "\n",
        "For the $i$-th group, the sample mean vector of the dependent variables is:\n",
        "\n",
        "$$ \\bar{\\mathbf{Y}}_i = \\frac{1}{n_i} \\sum_{j=1}^{n_i} \\mathbf{Y}_{ij} $$ where $\\mathbf{Y}_{ij} = [Y_{ij1}, Y_{ij2}, \\ldots, Y_{ijp}]^\\top$ is the vector of dependent variable values for the $j$-th observation in the $i$-th group.\n",
        "\n",
        "The overall mean vector is:\n",
        "\n",
        "$$ \\bar{\\mathbf{Y}} = \\frac{1}{n} \\sum_{i=1}^k \\sum_{j=1}^{n_i} \\mathbf{Y}_{ij} $$ **2. Hypotheses**\n",
        "\n",
        "-   **Null Hypothesis (**$H_0$): The mean vectors are equal across groups:\n",
        "\n",
        "    $$ H_0: \\bar{\\mathbf{Y}}_1 = \\bar{\\mathbf{Y}}_2 = \\cdots = \\bar{\\mathbf{Y}}_k $$\n",
        "\n",
        "-   **Alternative Hypothesis (**$H_A$): At least one group mean vector differs.\n",
        "\n",
        "**3. Partitioning Variance**\n",
        "\n",
        "MANOVA partitions the total variation into:\n",
        "\n",
        "-   **Within-Group Variation (**$\\mathbf{W}$): Variation within each group.\n",
        "\n",
        "$$ \\mathbf{W} = \\sum_{i=1}^k \\sum_{j=1}^{n_i} (\\mathbf{Y}_{ij} - \\bar{\\mathbf{Y}}_i)(\\mathbf{Y}_{ij} - \\bar{\\mathbf{Y}}_i)^\\top $$\n",
        "\n",
        "-   **Between-Group Variation (**$\\mathbf{B}$): Variation between group means.\n",
        "\n",
        "$$  \\mathbf{B} = \\sum_{i=1}^k n_i (\\bar{\\mathbf{Y}}_i - \\bar{\\mathbf{Y}})(\\bar{\\mathbf{Y}}_i - \\bar{\\mathbf{Y}})^\\top $$\n",
        "\n",
        "The total variation is:\n",
        "\n",
        "$$ \\mathbf{T} = \\mathbf{W} + \\mathbf{B} $$\n",
        "\n",
        "**4. Test Statistic**\n",
        "\n",
        "Several test statistics are used in MANOVA, including:\n",
        "\n",
        "1.  **Wilks' Lambda** ($\\Lambda$):\n",
        "\n",
        "$$ \\Lambda = \\frac{\\det(\\mathbf{W})}{\\det(\\mathbf{W} + \\mathbf{B})} $$\n",
        "Smaller values of $\\Lambda$ indicate stronger evidence against $H_0$.\n",
        "\n",
        "2.  **Pillai's Trace**:\n",
        "\n",
        "$$ V = \\text{trace}[(\\mathbf{B})(\\mathbf{W} + \\mathbf{B})^{-1}] $$\n",
        "\n",
        " Larger values indicate stronger evidence against $H_0$.\n",
        "\n",
        "**Hotelling-Lawley Trace** and **Roy's Largest Root** are other options."
      ],
      "metadata": {
        "id": "N3DH7OFx_ZKL"
      }
    },
    {
      "cell_type": "markdown",
      "source": [
        "### Interpretation\n",
        "\n",
        "If the null hypothesis is rejected, it means that the groups differ significantly in terms of their mean vectors. Follow-up analyses, such as discriminant analysis or individual ANOVAs, are often performed to explore the specific differences."
      ],
      "metadata": {
        "id": "LjW4fUTMAJ2d"
      }
    },
    {
      "cell_type": "markdown",
      "source": [
        "### Assumption of MANOVA\n",
        "\n",
        "The assumptions of Multivariate Analysis of Variance (MANOVA) are critical to ensure the validity of the results. Here are the key assumptions:\n",
        "\n",
        "**1. Multivariate Normality**\n",
        "\n",
        "- **What it means:** Each group of the independent variable should follow a multivariate normal distribution for the dependent variables.\n",
        "- **Implications:** The joint distribution of the dependent variables within each group is normally distributed. Univariate normality for each dependent variable is necessary but not sufficient.\n",
        "- **Testing:** This can be assessed using tests like Mardia’s test or graphical methods such as Q-Q plots for multivariate data.\n",
        "\n",
        "**2. Homogeneity of Covariance Matrices**\n",
        "\n",
        "- **What it means:** The covariance matrices of the dependent variables should be equal across all groups.\n",
        "- **Why it's important:** Unequal covariance matrices may affect the test statistics (e.g., Wilks' Lambda) used in MANOVA.\n",
        "- **Testing:** Box's M test is commonly used to check this assumption. However, it is sensitive to deviations from multivariate normality.\n",
        "- **Remedy if violated:** Use a more robust MANOVA test, such as Pillai's Trace, which is less sensitive to violations of this assumption.\n",
        "\n",
        "**3. Independence of Observations**\n",
        "\n",
        "- **What it means:** The observations within and between groups must be independent of each other.\n",
        "- **Why it's important:** Non-independence (e.g., repeated measures data) can lead to incorrect results and requires specialized methods (e.g., repeated-measures MANOVA).\n",
        "- **How to ensure:** Ensure proper random sampling and experimental design.\n",
        "\n",
        " **4. Absence of Multicollinearity**\n",
        "\n",
        "- **What it means:** The dependent variables should not be highly correlated with each other (multicollinearity).\n",
        "- **Why it's important:** High correlations between dependent variables can inflate test statistics and make the analysis unstable.\n",
        "- **How to check:** Examine the correlation matrix of the dependent variables. Correlations above 0.9 may indicate multicollinearity.\n",
        "\n",
        "**5. Balanced Sample Sizes (Optional but Recommended)**\n",
        "\n",
        "- **What it means:** The number of observations should be approximately equal across groups.\n",
        "- **Why it's important:** Unequal sample sizes can affect the robustness of test statistics, especially if homogeneity of covariance is violated.\n",
        "- **Remedy if violated:** Use Type III sums of squares or robust methods.\n",
        "\n",
        " **6. Linearity**\n",
        "\n",
        "- **What it means:** The relationships between the dependent variables and the independent variable(s) should be linear.\n",
        "- **Why it's important:** Nonlinear relationships can distort the results of MANOVA.\n",
        "- **How to check:** Scatterplot matrices or other graphical methods can be used.\n",
        "\n",
        " **7. Outliers**\n",
        "\n",
        "- **What it means:** MANOVA is sensitive to multivariate outliers, which can skew results.\n",
        "- **How to check:** Use Mahalanobis distance to identify multivariate outliers.\n",
        "- **Remedy if violated:** Consider removing or transforming outliers, but ensure this is justified.\n",
        "\n",
        "\n",
        "**Summary of Assumptions and Their Importance:**\n",
        "\n",
        "| **Assumption**                 | **Why It Matters**                                         | **Common Tests**                    |\n",
        "|--------------------------------|-----------------------------------------------------------|--------------------------------------|\n",
        "| Multivariate Normality         | Ensures valid p-values for hypothesis testing.            | Mardia’s Test, Q-Q plots             |\n",
        "| Homogeneity of Covariance      | Affects robustness of test statistics.                   | Box’s M test                         |\n",
        "| Independence                   | Avoids misleading conclusions.                           | Proper experimental design           |\n",
        "| Absence of Multicollinearity   | Prevents inflated statistics and instability.            | Correlation matrix, Variance Inflation Factor (VIF) |\n",
        "| Balanced Sample Sizes          | Ensures robustness of tests and reduces bias.            | Descriptive statistics               |\n",
        "| Linearity                      | Keeps analysis appropriate for MANOVA methods.           | Scatterplots                         |\n",
        "| Outliers                       | Prevents distortion of results.                          | Mahalanobis distance, leverage plots |\n",
        "\n",
        "Violations of these assumptions may require alternative methods, transformations, or **robust versions of MANOVA** to ensure accurate results."
      ],
      "metadata": {
        "id": "ZEYxJAXaAOfB"
      }
    },
    {
      "cell_type": "markdown",
      "source": [
        "## Install rpy2"
      ],
      "metadata": {
        "id": "G6Qp0TKw_6Xd"
      }
    },
    {
      "cell_type": "code",
      "execution_count": 1,
      "metadata": {
        "id": "CiM6y-Mw8AJp",
        "colab": {
          "base_uri": "https://localhost:8080/"
        },
        "outputId": "8167cd5d-8e4b-4e8c-bfcd-39e00c6cde08",
        "collapsed": true
      },
      "outputs": [
        {
          "output_type": "stream",
          "name": "stdout",
          "text": [
            "Found existing installation: rpy2 3.4.2\n",
            "Uninstalling rpy2-3.4.2:\n",
            "  Successfully uninstalled rpy2-3.4.2\n",
            "Collecting rpy2==3.5.1\n",
            "  Downloading rpy2-3.5.1.tar.gz (201 kB)\n",
            "\u001b[2K     \u001b[90m━━━━━━━━━━━━━━━━━━━━━━━━━━━━━━━━━━━━━━━━\u001b[0m \u001b[32m201.7/201.7 kB\u001b[0m \u001b[31m6.0 MB/s\u001b[0m eta \u001b[36m0:00:00\u001b[0m\n",
            "\u001b[?25h  Preparing metadata (setup.py) ... \u001b[?25l\u001b[?25hdone\n",
            "Requirement already satisfied: cffi>=1.10.0 in /usr/local/lib/python3.11/dist-packages (from rpy2==3.5.1) (1.17.1)\n",
            "Requirement already satisfied: jinja2 in /usr/local/lib/python3.11/dist-packages (from rpy2==3.5.1) (3.1.5)\n",
            "Requirement already satisfied: pytz in /usr/local/lib/python3.11/dist-packages (from rpy2==3.5.1) (2025.1)\n",
            "Requirement already satisfied: tzlocal in /usr/local/lib/python3.11/dist-packages (from rpy2==3.5.1) (5.3)\n",
            "Requirement already satisfied: pycparser in /usr/local/lib/python3.11/dist-packages (from cffi>=1.10.0->rpy2==3.5.1) (2.22)\n",
            "Requirement already satisfied: MarkupSafe>=2.0 in /usr/local/lib/python3.11/dist-packages (from jinja2->rpy2==3.5.1) (3.0.2)\n",
            "Building wheels for collected packages: rpy2\n",
            "  Building wheel for rpy2 (setup.py) ... \u001b[?25l\u001b[?25hdone\n",
            "  Created wheel for rpy2: filename=rpy2-3.5.1-cp311-cp311-linux_x86_64.whl size=314975 sha256=bfb69f1ba4cf5ff8ec497acda0040357f55f67387bb448a0d54a629bc475ab61\n",
            "  Stored in directory: /root/.cache/pip/wheels/e9/55/d1/47be85a5f3f1e1f4d1e91cb5e3a4dcb40dd72147f184c5a5ef\n",
            "Successfully built rpy2\n",
            "Installing collected packages: rpy2\n",
            "Successfully installed rpy2-3.5.1\n"
          ]
        }
      ],
      "source": [
        "!pip uninstall rpy2 -y\n",
        "!pip install rpy2==3.5.1\n",
        "%load_ext rpy2.ipython"
      ]
    },
    {
      "cell_type": "markdown",
      "metadata": {
        "id": "O1zeuaCowiBt"
      },
      "source": [
        "## Mount Google Drive"
      ]
    },
    {
      "cell_type": "code",
      "execution_count": 2,
      "metadata": {
        "colab": {
          "base_uri": "https://localhost:8080/"
        },
        "id": "9J-4ie4bwiJ1",
        "outputId": "b10f277c-418f-406d-a7cb-08bf32773c80"
      },
      "outputs": [
        {
          "output_type": "stream",
          "name": "stdout",
          "text": [
            "Mounted at /content/drive\n"
          ]
        }
      ],
      "source": [
        "from google.colab import drive\n",
        "drive.mount('/content/drive')"
      ]
    },
    {
      "cell_type": "markdown",
      "source": [
        "## Multivariate Analysis of Variance (MANOVA) from Scratch\n",
        "\n",
        "To perform a Multivariate Analysis of Variance (MANOVA) from scratch in R without using any packages, you would compute the necessary matrices and test statistics manually. Below is a step-by-step guide:"
      ],
      "metadata": {
        "id": "IAQQ8p17adRz"
      }
    },
    {
      "cell_type": "markdown",
      "source": [
        "### Data Preparation\n",
        "\n",
        "Suppose we have the following dataset:"
      ],
      "metadata": {
        "id": "CgNkvBY7akYD"
      }
    },
    {
      "cell_type": "code",
      "source": [
        "%%R\n",
        "# Example data\n",
        "group <- rep(c(\"A\", \"B\", \"C\"), each = 5)\n",
        "y1 <- c(3, 2, 4, 3, 5, 7, 6, 8, 6, 7, 9, 10, 8, 10, 9)\n",
        "y2 <- c(1, 3, 2, 4, 3, 8, 7, 6, 7, 8, 6, 5, 7, 6, 5)\n",
        "data <- data.frame(group, y1, y2)\n",
        "head(data)\n"
      ],
      "metadata": {
        "id": "qqF1bTMuapYU",
        "colab": {
          "base_uri": "https://localhost:8080/"
        },
        "outputId": "f32ed67b-1c41-4d29-fb6f-8d03f6d7bed8"
      },
      "execution_count": null,
      "outputs": [
        {
          "output_type": "stream",
          "name": "stdout",
          "text": [
            "  group y1 y2\n",
            "1     A  3  1\n",
            "2     A  2  3\n",
            "3     A  4  2\n",
            "4     A  3  4\n",
            "5     A  5  3\n",
            "6     B  7  8\n"
          ]
        }
      ]
    },
    {
      "cell_type": "markdown",
      "source": [
        "###  Compute Group Means and Overall Mean\n",
        "\n",
        "Compute the overall mean vector and group means:\n",
        "\n"
      ],
      "metadata": {
        "id": "zhbSFBNObPwM"
      }
    },
    {
      "cell_type": "code",
      "source": [
        "%%R\n",
        "# Overall mean vector\n",
        "overall_mean <- colMeans(data[, 2:3])\n",
        "\n",
        "# Group means\n",
        "group_means <- aggregate(. ~ group, data = data, FUN = mean)\n",
        "group_means <- group_means[, -1]  # Remove group column\n"
      ],
      "metadata": {
        "id": "xwUlCyj_bQgg"
      },
      "execution_count": null,
      "outputs": []
    },
    {
      "cell_type": "markdown",
      "source": [
        "\n",
        "### Compute $\\mathbf{H}$ and $\\mathbf{E}$\n",
        "\n",
        "The between-group sum of squares and within-group sum of squares matrices are computed as follows:\n",
        "\n",
        "\n"
      ],
      "metadata": {
        "id": "ue1RKEBVbZi2"
      }
    },
    {
      "cell_type": "code",
      "source": [
        "%%R\n",
        "# Initialize matrices\n",
        "H <- matrix(0, ncol = 2, nrow = 2)\n",
        "E <- matrix(0, ncol = 2, nrow = 2)\n",
        "\n",
        "# Compute H (between-group)\n",
        "n_groups <- table(data$group)\n",
        "for (i in 1:nrow(group_means)) {\n",
        "  diff <- as.matrix(group_means[i, ] - overall_mean)\n",
        "  H <- H + n_groups[i] * (t(diff) %*% diff)\n",
        "}\n",
        "\n",
        "for (i in unique(data$group)) {\n",
        "  group_data <- data[data$group == i, 2:3]  # Data for group i\n",
        "  group_mean <- as.numeric(group_means[which(unique(data$group) == i), ])  # Group mean\n",
        "  diff <- as.matrix(group_data - matrix(group_mean, nrow = nrow(group_data), ncol = ncol(group_data), byrow = TRUE))\n",
        "  E <- E + t(diff) %*% diff\n",
        "}"
      ],
      "metadata": {
        "id": "U5RcJ3XUbcxU"
      },
      "execution_count": null,
      "outputs": []
    },
    {
      "cell_type": "markdown",
      "source": [
        "### Compute Wilks' Lambda\n",
        "\n",
        "Compute Wilks' Lambda, which is a measure of the proportion of variance in the dependent variables that is not explained by the independent variable:"
      ],
      "metadata": {
        "id": "3l1FAYp2bmWr"
      }
    },
    {
      "cell_type": "code",
      "source": [
        "%%R\n",
        "# Compute Wilks' Lambda\n",
        "lambda <- det(E) / det(H + E)\n",
        "lambda"
      ],
      "metadata": {
        "colab": {
          "base_uri": "https://localhost:8080/"
        },
        "id": "EbViCSolbnTi",
        "outputId": "3c1a39b6-a32a-400c-aa3e-beda34e87651"
      },
      "execution_count": null,
      "outputs": [
        {
          "output_type": "stream",
          "name": "stdout",
          "text": [
            "[1] 0.02723586\n"
          ]
        }
      ]
    },
    {
      "cell_type": "markdown",
      "source": [
        "### Approximate F-statistic\n",
        "\n",
        "Compute the F-statistic to test the significance of the group differences:"
      ],
      "metadata": {
        "id": "bYcrt7XOb1vM"
      }
    },
    {
      "cell_type": "code",
      "source": [
        "%%R\n",
        "# Dimensions\n",
        "p <- ncol(data[, 2:3])  # Number of dependent variables\n",
        "k <- length(unique(data$group))  # Number of groups\n",
        "n <- nrow(data)  # Total sample size\n",
        "\n",
        "# F-approximation\n",
        "df1 <- p * (k - 1)\n",
        "df2 <- n - k - p + 1\n",
        "f_stat <- ((1 - lambda^(1 / p)) / lambda^(1 / p)) * (df2 / df1)\n",
        "f_stat"
      ],
      "metadata": {
        "id": "Lo7fGgjobtf5",
        "colab": {
          "base_uri": "https://localhost:8080/"
        },
        "outputId": "633c394c-7747-48d9-fc71-fc975ab0daa6"
      },
      "execution_count": null,
      "outputs": [
        {
          "output_type": "stream",
          "name": "stdout",
          "text": [
            "[1] 13.91334\n"
          ]
        }
      ]
    },
    {
      "cell_type": "markdown",
      "source": [
        "###: Determine Significance\n",
        "\n",
        "Determine the significance of the F-statistic using the F-distribution:\n"
      ],
      "metadata": {
        "id": "6nlhbn3Ab8fM"
      }
    },
    {
      "cell_type": "code",
      "source": [
        "%%R\n",
        "# P-value\n",
        "p_value <- pf(f_stat, df1, df2, lower.tail = FALSE)\n",
        "p_value\n"
      ],
      "metadata": {
        "id": "75aqcPLHb9QS",
        "colab": {
          "base_uri": "https://localhost:8080/"
        },
        "outputId": "3d41ab58-fcc9-4376-d437-dca82b731a76"
      },
      "execution_count": null,
      "outputs": [
        {
          "output_type": "stream",
          "name": "stdout",
          "text": [
            "[1] 0.0002781186\n"
          ]
        }
      ]
    },
    {
      "cell_type": "markdown",
      "source": [
        "### Results Interpretation\n",
        "\n",
        "- $\\Lambda$: Smaller values indicate group differences.\n",
        "- $F$-statistic: Compare to critical value.\n",
        "- $p$-value: If ($p < \\alpha$) (e.g.,  $0.05$), reject $H_0$ and conclude significant differences among groups."
      ],
      "metadata": {
        "id": "RieFSbkO5pKU"
      }
    },
    {
      "cell_type": "markdown",
      "source": [
        "## Multivariate Analysis of Variance (MANOVA) in R\n",
        "\n",
        "Here is a list of R packages commonly used for Multivariate Analysis of Variance (MANOVA), along with a brief description of their purpose and functionality:\n",
        "\n",
        " **1. `stats`**\n",
        "\n",
        "- **Description**: The base R package for statistical analysis.\n",
        "- **Function**: `manova()`\n",
        "- **Purpose**: Performs MANOVA and provides standard summary statistics for test statistics like Wilks' Lambda, Pillai's Trace, and Hotelling-Lawley Trace.\n",
        "- **Usage**:\n",
        "  ```r\n",
        "  fit <- manova(cbind(y1, y2) ~ group, data = data)\n",
        "  summary(fit, test = \"Wilks\")\n",
        "  ```\n",
        "\n",
        "**2. `car` (Companion to Applied Regression)**\n",
        "\n",
        "- **Description**: Provides tools for regression diagnostics and hypothesis testing.\n",
        "- **Function**: `Manova()`\n",
        "- **Purpose**: Enhances `manova()` from `stats` and integrates better diagnostic tools.\n",
        "- **Usage**:\n",
        "  ```r\n",
        "  fit <- lm(cbind(y1, y2) ~ group, data = data)\n",
        "  Manova(fit, test.statistic = \"Wilks\")\n",
        "  ```\n",
        "\n",
        "**3. `heplots`**\n",
        "- **Description**: Specializes in hypothesis-error (HE) plots for multivariate linear models.\n",
        "- **Function**: `heplot()` and `Anova()`\n",
        "- **Purpose**: Performs MANOVA and visualizes the relationships between hypotheses and errors using HE plots.\n",
        "- **Usage**:\n",
        "  ```r\n",
        "  fit <- lm(cbind(y1, y2) ~ group, data = data)\n",
        "  Anova(fit)\n",
        "  heplot(fit)\n",
        "  ```\n",
        "\n",
        "**4. `MASS`**\n",
        "- **Description**: Functions and datasets to support Modern Applied Statistics with S.\n",
        "- **Function**: `manova()`\n",
        "- **Purpose**: Extends statistical techniques, including MANOVA, with support for custom tests.\n",
        "- **Usage**:\n",
        "  ```r\n",
        "  fit <- manova(cbind(y1, y2) ~ group, data = data)\n",
        "  summary(fit, test = \"Pillai\")\n",
        "  ```\n",
        "\n",
        "**5. `MANOVA.RM`**\n",
        "\n",
        "- **Description**: Provides functions for Robust MANOVA\n",
        "- **Function**: `MANOVA.wide()`\n",
        "- **Purpose**: Performs MANOVA and provides robust estimates of the group differences.\n",
        "- **Usage**:\n",
        "  ```r\n",
        "  fit <- MANOVA.wide(cbind(y1, y2) ~ group, data = data)\n",
        "  summary(fit)\n",
        "  ```"
      ],
      "metadata": {
        "id": "Fbwhi5iLbrxO"
      }
    },
    {
      "cell_type": "markdown",
      "metadata": {
        "id": "yXu-XY0mw1A8"
      },
      "source": [
        "### Install Required R Packages\n",
        "\n",
        "Following R packages are required to run this notebook. If any of these packages are not installed, you can install them using the code below:"
      ]
    },
    {
      "cell_type": "code",
      "source": [
        "%%R\n",
        "packages <- c('tidyverse',\n",
        "              'plyr',\n",
        "              #'flextable',\n",
        "              'patchwork',\n",
        "              'rstatix',\n",
        "              'effectsize',\n",
        "              'GGally',\n",
        "              'MASS',\n",
        "              'MANOVA.RM',\n",
        "              'car',\n",
        "              'heplots',\n",
        "              'jmv'\n",
        "\t\t )"
      ],
      "metadata": {
        "id": "WjkBhqamybsz"
      },
      "execution_count": 3,
      "outputs": []
    },
    {
      "cell_type": "code",
      "source": [
        "%%R\n",
        "# Install missing packages\n",
        "new.packages <- packages[!(packages %in% installed.packages(lib='drive/My Drive/R/')[,\"Package\"])]\n",
        "if(length(new.packages)) install.packages(new.packages, lib='drive/My Drive/R/')"
      ],
      "metadata": {
        "id": "NAt5OxQizfv8"
      },
      "execution_count": null,
      "outputs": []
    },
    {
      "cell_type": "code",
      "source": [
        "%%R\n",
        "# set library path\n",
        ".libPaths('drive/My Drive/R')\n",
        "# Verify installation\n",
        "cat(\"Installed packages:\\n\")\n",
        "print(sapply(packages, requireNamespace, quietly = TRUE))"
      ],
      "metadata": {
        "colab": {
          "base_uri": "https://localhost:8080/"
        },
        "id": "0Ffcblw3zguR",
        "outputId": "f67c3469-fa12-4874-9327-d8b7f1323988"
      },
      "execution_count": 4,
      "outputs": [
        {
          "output_type": "stream",
          "name": "stdout",
          "text": [
            "Installed packages:\n"
          ]
        },
        {
          "output_type": "stream",
          "name": "stderr",
          "text": [
            "WARNING:rpy2.rinterface_lib.callbacks:R[write to console]: Registered S3 method overwritten by 'GGally':\n",
            "  method from   \n",
            "  +.gg   ggplot2\n",
            "\n"
          ]
        },
        {
          "output_type": "stream",
          "name": "stdout",
          "text": [
            " tidyverse       plyr  patchwork    rstatix effectsize     GGally       MASS \n",
            "      TRUE       TRUE       TRUE       TRUE       TRUE       TRUE       TRUE \n",
            " MANOVA.RM        car    heplots        jmv \n",
            "      TRUE       TRUE       TRUE       TRUE \n"
          ]
        }
      ]
    },
    {
      "cell_type": "markdown",
      "source": [
        "### Load R Packages"
      ],
      "metadata": {
        "id": "wwsY8U1RbsiG"
      }
    },
    {
      "cell_type": "code",
      "execution_count": 5,
      "metadata": {
        "collapsed": true,
        "id": "232jNAHBykUL",
        "colab": {
          "base_uri": "https://localhost:8080/"
        },
        "outputId": "7617fa8d-f45c-44cd-988f-de522d4bb262"
      },
      "outputs": [
        {
          "output_type": "stream",
          "name": "stdout",
          "text": [
            "Successfully loaded packages:\n",
            " [1] \"package:jmv\"        \"package:heplots\"    \"package:broom\"     \n",
            " [4] \"package:car\"        \"package:carData\"    \"package:MANOVA.RM\" \n",
            " [7] \"package:MASS\"       \"package:GGally\"     \"package:effectsize\"\n",
            "[10] \"package:rstatix\"    \"package:patchwork\"  \"package:plyr\"      \n",
            "[13] \"package:lubridate\"  \"package:forcats\"    \"package:stringr\"   \n",
            "[16] \"package:dplyr\"      \"package:purrr\"      \"package:readr\"     \n",
            "[19] \"package:tidyr\"      \"package:tibble\"     \"package:ggplot2\"   \n",
            "[22] \"package:tidyverse\"  \"package:tools\"      \"package:stats\"     \n",
            "[25] \"package:graphics\"   \"package:grDevices\"  \"package:utils\"     \n",
            "[28] \"package:datasets\"   \"package:methods\"    \"package:base\"      \n"
          ]
        }
      ],
      "source": [
        "%%R\n",
        "# set library path\n",
        ".libPaths('drive/My Drive/R')\n",
        "# Load packages with suppressed messages\n",
        "invisible(lapply(packages, function(pkg) {\n",
        "  suppressPackageStartupMessages(library(pkg, character.only = TRUE))\n",
        "}))\n",
        "# Check loaded packages\n",
        "cat(\"Successfully loaded packages:\\n\")\n",
        "print(search()[grepl(\"package:\", search())])# Check loaded packages"
      ]
    },
    {
      "cell_type": "markdown",
      "metadata": {
        "id": "WViZ3IdLrzNs"
      },
      "source": [
        "### Data\n",
        "\n",
        "In this exercise we will use following data set.\n",
        "\n",
        "[gp_soil_data.csv](https://www.dropbox.com/s/9ikm5yct36oflei/gp_soil_data.csv?dl=0)\n",
        "\n",
        "\n",
        "\n",
        "We will use `read_csv()` function of {readr} package to import data as a **tidy** data from my github repository. The `glimpse()` function from {dplyr} package can be used to get a quick overview of the data"
      ]
    },
    {
      "cell_type": "code",
      "execution_count": null,
      "metadata": {
        "colab": {
          "base_uri": "https://localhost:8080/"
        },
        "id": "CFpt_H01OPsa",
        "outputId": "1fd5e7d7-3bad-4688-b3ec-70e520b990f4"
      },
      "outputs": [
        {
          "output_type": "stream",
          "name": "stdout",
          "text": [
            "Rows: 467 Columns: 19\n",
            "── Column specification ────────────────────────────────────────────────────────\n",
            "Delimiter: \",\"\n",
            "chr  (4): STATE, COUNTY, NLCD, FRG\n",
            "dbl (15): ID, FIPS, STATE_ID, Longitude, Latitude, SOC, DEM, Aspect, Slope, ...\n",
            "\n",
            "ℹ Use `spec()` to retrieve the full column specification for this data.\n",
            "ℹ Specify the column types or set `show_col_types = FALSE` to quiet this message.\n",
            "Rows: 467\n",
            "Columns: 19\n",
            "$ ID        <dbl> 1, 2, 3, 4, 5, 6, 7, 8, 9, 10, 11, 12, 13, 14, 15, 16, 17, 1…\n",
            "$ FIPS      <dbl> 56041, 56023, 56039, 56039, 56029, 56039, 56039, 56039, 5603…\n",
            "$ STATE_ID  <dbl> 56, 56, 56, 56, 56, 56, 56, 56, 56, 56, 56, 56, 56, 56, 56, …\n",
            "$ STATE     <chr> \"Wyoming\", \"Wyoming\", \"Wyoming\", \"Wyoming\", \"Wyoming\", \"Wyom…\n",
            "$ COUNTY    <chr> \"Uinta County\", \"Lincoln County\", \"Teton County\", \"Teton Cou…\n",
            "$ Longitude <dbl> -111.0119, -110.9830, -110.8065, -110.7344, -110.7308, -110.…\n",
            "$ Latitude  <dbl> 41.05630, 42.88350, 44.53497, 44.43289, 44.80635, 44.09124, …\n",
            "$ SOC       <dbl> 15.763, 15.883, 18.142, 10.745, 10.479, 16.987, 24.954, 6.28…\n",
            "$ DEM       <dbl> 2229.079, 1889.400, 2423.048, 2484.283, 2396.195, 2360.573, …\n",
            "$ Aspect    <dbl> 159.1877, 156.8786, 168.6124, 198.3536, 201.3215, 208.9732, …\n",
            "$ Slope     <dbl> 5.6716146, 8.9138117, 4.7748051, 7.1218114, 7.9498644, 9.663…\n",
            "$ TPI       <dbl> -0.08572358, 4.55913162, 2.60588670, 5.14693117, 3.75570583,…\n",
            "$ KFactor   <dbl> 0.31999999, 0.26121211, 0.21619999, 0.18166667, 0.12551020, …\n",
            "$ MAP       <dbl> 468.3245, 536.3522, 859.5509, 869.4724, 802.9743, 1121.2744,…\n",
            "$ MAT       <dbl> 4.5951686, 3.8599243, 0.8855000, 0.4707811, 0.7588266, 1.358…\n",
            "$ NDVI      <dbl> 0.4139390, 0.6939532, 0.5466033, 0.6191013, 0.5844722, 0.602…\n",
            "$ SiltClay  <dbl> 64.84270, 72.00455, 57.18700, 54.99166, 51.22857, 45.02000, …\n",
            "$ NLCD      <chr> \"Shrubland\", \"Shrubland\", \"Forest\", \"Forest\", \"Forest\", \"For…\n",
            "$ FRG       <chr> \"Fire Regime Group IV\", \"Fire Regime Group IV\", \"Fire Regime…\n"
          ]
        }
      ],
      "source": [
        "%%R\n",
        "# Load data\n",
        "mf<-readr::read_csv(\"https://github.com/zia207/r-colab/raw/main/Data/Regression_analysis/gp_soil_data.csv\")\n",
        "glimpse(mf)"
      ]
    },
    {
      "cell_type": "markdown",
      "metadata": {
        "id": "i3NV_wzZzyd7"
      },
      "source": [
        "### Summary Statistics\n",
        "\n",
        "Get summary statistics based on each dependent variable:"
      ]
    },
    {
      "cell_type": "code",
      "execution_count": null,
      "metadata": {
        "id": "C4Q559D8z6vd",
        "colab": {
          "base_uri": "https://localhost:8080/"
        },
        "outputId": "76dd98a9-834d-4eef-c58b-bb758c349032"
      },
      "outputs": [
        {
          "output_type": "stream",
          "name": "stdout",
          "text": [
            "                NLCD   Mean Median   Min    Max    SD\n",
            "1             Forest 10.431  8.974 1.333 30.473 6.802\n",
            "2         Herbaceous  5.477  4.609 0.408 18.814 3.925\n",
            "3 Planted/Cultivated  6.697  6.230 0.462 16.336 3.598\n",
            "4          Shrubland  4.131  2.996 0.446 19.099 3.745\n"
          ]
        }
      ],
      "source": [
        "%%R\n",
        "# Get summary statistics of SOC\n",
        "summarise_soc<-plyr::ddply(mf,~NLCD, summarise,\n",
        "                Mean= round(mean(SOC), 3),\n",
        "                Median=round (median(SOC), 3),\n",
        "                Min= round (min(SOC),3),\n",
        "                Max= round (max(SOC),3),\n",
        "                SD= round(sd(SOC), 3))\n",
        "summarise_soc"
      ]
    },
    {
      "cell_type": "code",
      "source": [
        "%%R\n",
        "# Get summary statistics opf NDVI\n",
        "summarise_ndvi<-plyr::ddply(mf,~NLCD, summarise,\n",
        "                Mean= round(mean(NDVI), 3),\n",
        "                Median=round (median(NDVI), 3),\n",
        "                Min= round (min(NDVI),3),\n",
        "                Max= round (max(NDVI),3),\n",
        "                SD= round(sd(NDVI), 3))\n",
        "summarise_ndvi"
      ],
      "metadata": {
        "colab": {
          "base_uri": "https://localhost:8080/"
        },
        "id": "irHfdOaEUrcy",
        "outputId": "52a558c0-9d60-42d0-87a6-fba54777aec7"
      },
      "execution_count": null,
      "outputs": [
        {
          "output_type": "stream",
          "name": "stdout",
          "text": [
            "                NLCD  Mean Median   Min   Max    SD\n",
            "1             Forest 0.571  0.576 0.283 0.781 0.116\n",
            "2         Herbaceous 0.400  0.377 0.165 0.734 0.131\n",
            "3 Planted/Cultivated 0.533  0.513 0.325 0.797 0.121\n",
            "4          Shrubland 0.308  0.272 0.142 0.694 0.130\n"
          ]
        }
      ]
    },
    {
      "cell_type": "markdown",
      "metadata": {
        "id": "Udd_zNxe0CZV"
      },
      "source": [
        "### Visualize the data\n",
        "\n"
      ]
    },
    {
      "cell_type": "code",
      "source": [
        "%%R -w 800 -h 450 -u px\n",
        "\n",
        "# SOC\n",
        "p1 <- ggplot(mf, aes(x = NLCD, y = SOC, fill = NLCD)) +\n",
        "  geom_boxplot(outlier.shape = NA) +\n",
        "  theme(legend.position=\"none\")+\n",
        "  ggtitle(\"SOC vs NLCD\")\n",
        "\n",
        "# NDVI\n",
        "p2 <- ggplot(mf, aes(x = NLCD, y = NDVI, fill = NLCD)) +\n",
        "  geom_boxplot(outlier.shape = NA) +\n",
        "  theme(legend.position=\"none\") +\n",
        "  ggtitle(\"NDVI vs NLCD\")\n",
        "library(patchwork)\n",
        "p1+p2"
      ],
      "metadata": {
        "colab": {
          "base_uri": "https://localhost:8080/",
          "height": 623
        },
        "id": "XL-5k3zdU0LO",
        "outputId": "96d60bb4-6f37-4b1c-f5dc-ab92d02b2fe7"
      },
      "execution_count": null,
      "outputs": [
        {
          "output_type": "stream",
          "name": "stderr",
          "text": [
            "WARNING:rpy2.rinterface_lib.callbacks:R[write to console]: \n",
            "Attaching package: ‘patchwork’\n",
            "\n",
            "\n",
            "WARNING:rpy2.rinterface_lib.callbacks:R[write to console]: The following object is masked from ‘package:MASS’:\n",
            "\n",
            "    area\n",
            "\n",
            "\n"
          ]
        },
        {
          "output_type": "display_data",
          "data": {
            "image/png": "[encoded data removed]"
          },
          "metadata": {}
        }
      ]
    },
    {
      "cell_type": "markdown",
      "source": [
        "### Check Assumptions of MANOVA\n",
        "\n",
        "Before performing MANOVA, it is essential to check the assumptions of the analysis. The key assumptions of MANOVA include:"
      ],
      "metadata": {
        "id": "MmOpIv7HYf7S"
      }
    },
    {
      "cell_type": "markdown",
      "source": [
        "#### Check  Normality Assumption\n",
        "\n",
        "The Shapiro-Wilk test is used to test the normality of the dependent variables within each group. The R function `shapiro_test()` in the {rstatix} package can be used to perform the Shapiro-Wilk test for normality."
      ],
      "metadata": {
        "id": "1pqE2gJpVcm6"
      }
    },
    {
      "cell_type": "code",
      "execution_count": null,
      "metadata": {
        "colab": {
          "base_uri": "https://localhost:8080/"
        },
        "id": "-c5oHdvp0Cma",
        "outputId": "210c14bc-1d80-44e8-f09b-b7ded89297d6"
      },
      "outputs": [
        {
          "output_type": "stream",
          "name": "stdout",
          "text": [
            "# A tibble: 8 × 4\n",
            "  NLCD               variable statistic        p\n",
            "  <chr>              <chr>        <dbl>    <dbl>\n",
            "1 Forest             NDVI         0.948 9.51e- 4\n",
            "2 Herbaceous         NDVI         0.909 4.42e- 8\n",
            "3 Planted/Cultivated NDVI         0.943 3.78e- 4\n",
            "4 Shrubland          NDVI         0.885 1.86e- 8\n",
            "5 Forest             SOC          0.926 5.87e- 5\n",
            "6 Herbaceous         SOC          0.889 3.42e- 9\n",
            "7 Planted/Cultivated SOC          0.969 2.29e- 2\n",
            "8 Shrubland          SOC          0.821 3.81e-11\n"
          ]
        }
      ],
      "source": [
        "%%R\n",
        "mf %>%\n",
        "  group_by(NLCD) %>%\n",
        "  rstatix::shapiro_test(SOC, NDVI) %>%\n",
        "  arrange(variable)"
      ]
    },
    {
      "cell_type": "markdown",
      "source": [
        "Multivariate normality. The R function `mshapiro_test()` in the  {rstatix} packag] can be used to perform the Shapiro-Wilk test for multivariate normality."
      ],
      "metadata": {
        "id": "gMFn5kJrVhXR"
      }
    },
    {
      "cell_type": "code",
      "source": [
        "%%R\n",
        "mf   |>\n",
        "  dplyr::select(SOC, NDVI) |>\n",
        "  rstatix::mshapiro_test()"
      ],
      "metadata": {
        "colab": {
          "base_uri": "https://localhost:8080/"
        },
        "id": "txbE_xZgVlSA",
        "outputId": "abfd703b-1ee1-4ad0-949f-bbeda644007f"
      },
      "execution_count": null,
      "outputs": [
        {
          "output_type": "stream",
          "name": "stdout",
          "text": [
            "# A tibble: 1 × 2\n",
            "  statistic  p.value\n",
            "      <dbl>    <dbl>\n",
            "1     0.856 2.77e-20\n"
          ]
        }
      ]
    },
    {
      "cell_type": "markdown",
      "metadata": {
        "id": "iagEUBtD1pNf"
      },
      "source": [
        "The Shapiro-Wilk test for normality shows significant results ($p < 0.05$) for both soil organic carbon (SOC) and the normalized difference vegetation index (NDVI), indicating that the data are not normally distributed. When the normality assumptions are unmet, you may consider transforming the outcome variables before running a MANOVA. It is also possible to conduct the MANOVA regardless, as it is generally robust to deviations from normality. However, remember that MANOVA is particularly robust when the sample size is large.\n"
      ]
    },
    {
      "cell_type": "markdown",
      "source": [
        "#### Identify multicollinearity\n",
        "\n",
        "Compute pairwise Pearson correlation coefficients between the outcome variable. In the following R code, we’ll use the function `cor_test()`  in {rstatix package}.\n"
      ],
      "metadata": {
        "id": "RC6EpMPuTzZx"
      }
    },
    {
      "cell_type": "code",
      "execution_count": null,
      "metadata": {
        "colab": {
          "base_uri": "https://localhost:8080/"
        },
        "id": "JANYSDcf2NfV",
        "outputId": "15ff4738-7d4e-443d-b719-98e3fbaca683"
      },
      "outputs": [
        {
          "output_type": "stream",
          "name": "stdout",
          "text": [
            "# A tibble: 1 × 8\n",
            "  var1  var2    cor statistic        p conf.low conf.high method \n",
            "  <chr> <chr> <dbl>     <dbl>    <dbl>    <dbl>     <dbl> <chr>  \n",
            "1 SOC   NDVI   0.59      15.6 1.35e-44    0.524     0.644 Pearson\n"
          ]
        }
      ],
      "source": [
        "%%R\n",
        "mf |>  rstatix::cor_test(SOC, NDVI)"
      ]
    },
    {
      "cell_type": "markdown",
      "metadata": {
        "id": "WWLOzlOe2YPv"
      },
      "source": [
        "The correlation between SOC and NDVI is 0.59, which is moderate. There is no multicollinearity between the dependent variables. In the situation, where you have multicollinearity (r >0.9), you could consider removing one of the outcome variables that is highly correlated.\n"
      ]
    },
    {
      "cell_type": "markdown",
      "source": [
        "#### Check the Homogeneity of Covariances Assumption\n",
        "\n",
        "This can be evaluated using the Box’s M-test implemented in the rstatix package. The Box’s M-test is used to test the homogeneity of covariance matrices across groups. The null hypothesis is that the covariance matrices are equal across groups.\n"
      ],
      "metadata": {
        "id": "6IvxFY0F2w8H"
      }
    },
    {
      "cell_type": "code",
      "execution_count": null,
      "metadata": {
        "id": "RpMxXBXY2ZVA",
        "colab": {
          "base_uri": "https://localhost:8080/"
        },
        "outputId": "b61f86bc-24aa-4b9c-975c-36703c12263d"
      },
      "outputs": [
        {
          "output_type": "stream",
          "name": "stdout",
          "text": [
            "# A tibble: 1 × 4\n",
            "  statistic  p.value parameter method                                           \n",
            "      <dbl>    <dbl>     <dbl> <chr>                                            \n",
            "1      97.3 5.61e-17         9 Box's M-test for Homogeneity of Covariance Matri…\n"
          ]
        }
      ],
      "source": [
        "%%R\n",
        "rstatix::box_m(mf[, c(\"SOC\", \"NDVI\")], mf$NLCD)"
      ]
    },
    {
      "cell_type": "markdown",
      "source": [
        "The test results are statistically significant (p < 0.001), indicating that the assumption of homogeneity of variance-covariance matrices has been violated. If your design is balanced, meaning the groups have similar sizes, you generally do not need to be overly concerned about this violation, and you can proceed with your analysis. However, an unbalanced design can lead to issues. Possible solutions include: 1) transforming the dependent variables, or 2) continuing the analysis using `Pillai’s` multivariate statistic instead of `Wilks` statistic.\n"
      ],
      "metadata": {
        "id": "YTW-tFkFY8sw"
      }
    },
    {
      "cell_type": "markdown",
      "source": [
        "#### Check the Homogneity of Variance Assumption\n",
        "\n",
        "For each of the outcome variables, the one-way MANOVA assumes that there are equal variances between groups. This can be checked using the Levene’s test of equality of variances. Key R function: `levene_test()` of {rstatix package}."
      ],
      "metadata": {
        "id": "1ljKVZdNY_T7"
      }
    },
    {
      "cell_type": "code",
      "execution_count": null,
      "metadata": {
        "id": "lcZ2Bqk23yWO",
        "colab": {
          "base_uri": "https://localhost:8080/"
        },
        "outputId": "3584dae8-4edb-4bf0-f399-55d4cc68a832"
      },
      "outputs": [
        {
          "output_type": "stream",
          "name": "stdout",
          "text": [
            "# A tibble: 2 × 5\n",
            "  variable   df1   df2 statistic        p\n",
            "  <chr>    <int> <int>     <dbl>    <dbl>\n",
            "1 NDVI         3   463     0.367 7.77e- 1\n",
            "2 SOC          3   463    20.9   9.72e-13\n"
          ]
        }
      ],
      "source": [
        "%%R\n",
        "mf |>\n",
        "  gather(key = \"variable\", value = \"value\", SOC, NDVI) |>\n",
        "  group_by(variable) %>%\n",
        "  rstatix::levene_test(value ~ NLCD)"
      ]
    },
    {
      "cell_type": "markdown",
      "source": [
        "The Levene’s test is significant (p < 0.05), indicating a lack of homogeneity of variances, which means this assumption has been violated. If you do not have homogeneity of variances, you can try transforming the dependent variable to address the unequal variances. Alternatively, you can proceed with your analysis, but you should accept a lower statistical significance (alpha level) level for your MANOVA results. Additionally, any follow-up univariate ANOVAs will need to be corrected for this violation, meaning you will need to use different post-hoc tests."
      ],
      "metadata": {
        "id": "pVvI5cphZHDl"
      }
    },
    {
      "cell_type": "markdown",
      "source": [
        "#### Check Linearity Assumption\n",
        "\n",
        "The linearity assumption can be checked by visualizing the relationship between the dependent variables and the independent variable. A scatterplot matrix can be used to visualize the relationships between the dependent variables and the independent variable. This can be checked visually by creating a scatter plot matrix using the R function `ggpairs()` of {GGally} package. In our example, we have only one pair:\n"
      ],
      "metadata": {
        "id": "veY9QeBn7KDi"
      }
    },
    {
      "cell_type": "code",
      "source": [
        "%%R\n",
        "# Create a scatterplot matrix by group\n",
        "results <- mf |>\n",
        "  dplyr::select(SOC,  NDVI, NLCD) |>\n",
        "  group_by(NLCD) |>\n",
        "  rstatix::doo(~ggpairs(.) + theme_bw(), result = \"plots\")\n",
        "results"
      ],
      "metadata": {
        "colab": {
          "base_uri": "https://localhost:8080/"
        },
        "id": "DqKPaqU0TKXC",
        "outputId": "ef8557da-e224-446f-9981-87b897b99e13"
      },
      "execution_count": null,
      "outputs": [
        {
          "output_type": "stream",
          "name": "stdout",
          "text": [
            "# A tibble: 4 × 2\n",
            "  NLCD               plots \n",
            "  <chr>              <list>\n",
            "1 Forest             <gg>  \n",
            "2 Herbaceous         <gg>  \n",
            "3 Planted/Cultivated <gg>  \n",
            "4 Shrubland          <gg>  \n"
          ]
        }
      ]
    },
    {
      "cell_type": "code",
      "execution_count": null,
      "metadata": {
        "colab": {
          "base_uri": "https://localhost:8080/",
          "height": 1000
        },
        "id": "vfKARaxg36w8",
        "outputId": "133d5277-c572-48d3-d674-101233fa45f1"
      },
      "outputs": [
        {
          "output_type": "stream",
          "name": "stdout",
          "text": [
            "[[1]]\n",
            "\n",
            "[[2]]\n",
            "\n",
            "[[3]]\n",
            "\n",
            "[[4]]\n",
            "\n"
          ]
        },
        {
          "output_type": "display_data",
          "data": {
            "image/png": "[encoded data removed]"
          },
          "metadata": {}
        },
        {
          "output_type": "display_data",
          "data": {
            "image/png": "[encoded data removed]"
          },
          "metadata": {}
        },
        {
          "output_type": "display_data",
          "data": {
            "image/png": "[encoded data removed]"
          },
          "metadata": {}
        },
        {
          "output_type": "display_data",
          "data": {
            "image/png": "[encoded data removed]"
          },
          "metadata": {}
        }
      ],
      "source": [
        "%%R -w 600 -h 500 -u px\n",
        "#| warning: false\n",
        "#| fig.width: 6\n",
        "#| fig.height: 5\n",
        "results$plots"
      ]
    },
    {
      "cell_type": "markdown",
      "metadata": {
        "id": "31QEa6pU4s6-"
      },
      "source": [
        "There was a linear relationship between SOC and NDVI in each NLCD as assessed by scatter plot.\n",
        "\n"
      ]
    },
    {
      "cell_type": "markdown",
      "source": [
        "#### Detect Multivariate Outliers\n",
        "\n",
        "In MANOVA setting, the `Mahalanobis distance` is generally used to detect multivariate outliers. The distance tells us how far an observation is from the center of the cloud, taking into account the shape (covariance) of the cloud as well. The function `mahalanobis_distance()` in {rstatix} package can be easily used to compute the Mahalanobis distance and to flag multivariate outliers. Read more in the documentation of the function."
      ],
      "metadata": {
        "id": "Sf4tW9ttZcYl"
      }
    },
    {
      "cell_type": "code",
      "execution_count": null,
      "metadata": {
        "colab": {
          "base_uri": "https://localhost:8080/"
        },
        "id": "LZqXSrwM4ut8",
        "outputId": "edc740fb-a2ab-49ae-9989-3023e1de84b7"
      },
      "outputs": [
        {
          "output_type": "stream",
          "name": "stdout",
          "text": [
            "     SOC      NDVI mahal.dist is.outlier\n",
            "1 24.954 0.5225611     17.673       TRUE\n",
            "2 30.473 0.7378099     24.227       TRUE\n",
            "3 19.099 0.3134793     14.077       TRUE\n",
            "4 27.984 0.6462815     20.667       TRUE\n",
            "5 23.058 0.5030677     14.559       TRUE\n"
          ]
        }
      ],
      "source": [
        "%%R\n",
        "mf |>\n",
        "dplyr::select(SOC,  NDVI, NLCD) |>\n",
        "dplyr::group_by(NLCD) |>\n",
        "rstatix:: mahalanobis_distance() |>\n",
        "filter(is.outlier == TRUE) |>\n",
        "  as.data.frame()"
      ]
    },
    {
      "cell_type": "markdown",
      "source": [
        "There were  five multivariate outliers in the data, as assessed by Mahalanobis distance (p > 0.001). We will include the outlier in the analysis however,  result will be substantially affected. This can be evaluated by comparing the result of the MANOVA with and without the outlier."
      ],
      "metadata": {
        "id": "nqz0Z5JuZnL7"
      }
    },
    {
      "cell_type": "markdown",
      "source": [
        "#### Check sample size assumption\n",
        "\n",
        "The sample size assumption is not a strict assumption of MANOVA, but it is important to have a sufficient sample size to ensure the validity of the results. A common rule of thumb is to have at least 20 observations per group. In our example, we have 930 observations in total, with 6 groups, which meets the sample size requirement."
      ],
      "metadata": {
        "id": "hpriofdHZpTQ"
      }
    },
    {
      "cell_type": "code",
      "source": [
        "%%R\n",
        "# n in each group should be greater than number of outcome variables (SOC, NDVI)\n",
        "mf |>\n",
        "  dplyr::group_by(NLCD) |>\n",
        "  dplyr::summarise(N = n())"
      ],
      "metadata": {
        "colab": {
          "base_uri": "https://localhost:8080/"
        },
        "id": "_6tw9hPMZshK",
        "outputId": "84ad9717-40aa-4906-ef16-13656efbda9d"
      },
      "execution_count": null,
      "outputs": [
        {
          "output_type": "stream",
          "name": "stdout",
          "text": [
            "# A tibble: 4 × 2\n",
            "  NLCD                   N\n",
            "  <chr>              <int>\n",
            "1 Forest                93\n",
            "2 Herbaceous           150\n",
            "3 Planted/Cultivated    97\n",
            "4 Shrubland            127\n"
          ]
        }
      ]
    },
    {
      "cell_type": "markdown",
      "source": [
        "The sample size assumption is met, as each group has more than 2 outcome variables (SOC, NDVI)."
      ],
      "metadata": {
        "id": "t1fWiTEFZwx7"
      }
    },
    {
      "cell_type": "markdown",
      "source": [
        "### Perform one-way MANOVA\n",
        "\n",
        "In R, the `manova()` function of {stats} package is used to perform a Multivariate Analysis of Variance (MANOVA). The syntax for the manova function is as follows:"
      ],
      "metadata": {
        "id": "AFzW65NmZy-l"
      }
    },
    {
      "cell_type": "code",
      "source": [
        "%%R\n",
        "dep_vars <- cbind(mf$SOC, mf$NDVI)\n",
        "fit <- manova(dep_vars ~ NLCD, data = mf)"
      ],
      "metadata": {
        "id": "pByXZUcYZ68J"
      },
      "execution_count": null,
      "outputs": []
    },
    {
      "cell_type": "markdown",
      "source": [
        "The output of `manova()` function is useful for testing whether there are significant differences between groups on multiple dependent variables. It is also useful for investigating the direction and magnitude of the effects."
      ],
      "metadata": {
        "id": "p9DI3JMDaDXe"
      }
    },
    {
      "cell_type": "code",
      "source": [
        "%%R\n",
        "summary(fit)"
      ],
      "metadata": {
        "colab": {
          "base_uri": "https://localhost:8080/"
        },
        "id": "GBSgD85waEvr",
        "outputId": "70d5e2df-ec13-4507-8026-8c837f0ba2ea"
      },
      "execution_count": null,
      "outputs": [
        {
          "output_type": "stream",
          "name": "stdout",
          "text": [
            "           Df  Pillai approx F num Df den Df    Pr(>F)    \n",
            "NLCD        3 0.45615   45.599      6    926 < 2.2e-16 ***\n",
            "Residuals 463                                             \n",
            "---\n",
            "Signif. codes:  0 ‘***’ 0.001 ‘**’ 0.01 ‘*’ 0.05 ‘.’ 0.1 ‘ ’ 1\n"
          ]
        }
      ]
    },
    {
      "cell_type": "markdown",
      "source": [
        "The Pillai's Trace test statistics is statistically significant $[Pillai's Trace = 0.4561, F(6, 926) = 45.599, p < 0.001]$ and indicates that NLCD have a statistically significant association with both combined SOC and NDVI."
      ],
      "metadata": {
        "id": "yY87rMtwaKiD"
      }
    },
    {
      "cell_type": "code",
      "source": [
        "%%R\n",
        "# get effect size\n",
        "library(effectsize)\n",
        "effectsize::eta_squared(fit)"
      ],
      "metadata": {
        "colab": {
          "base_uri": "https://localhost:8080/"
        },
        "id": "JVAmhlHCaPY3",
        "outputId": "d5900bea-fdf7-4c02-fec9-1781ac015f89"
      },
      "execution_count": null,
      "outputs": [
        {
          "output_type": "stream",
          "name": "stdout",
          "text": [
            "# Effect Size for ANOVA (Type I)\n",
            "\n",
            "Parameter | Eta2 (partial) |       95% CI\n",
            "-----------------------------------------\n",
            "NLCD      |           0.23 | [0.19, 1.00]\n",
            "\n",
            "- One-sided CIs: upper bound fixed at [1.00]."
          ]
        }
      ]
    },
    {
      "cell_type": "markdown",
      "source": [
        "The measure of effect size (Partial Eta Squared; ηp2) is 0.23 and suggests that there is a moderte effect of NLCD on both SOC and NDVI.\n",
        "\n",
        "Using `report()` function from {report} package to get a detailed report of MANOVA:"
      ],
      "metadata": {
        "id": "2sZnfTEraUee"
      }
    },
    {
      "cell_type": "code",
      "source": [
        "%%R\n",
        "report::report(fit)"
      ],
      "metadata": {
        "colab": {
          "base_uri": "https://localhost:8080/"
        },
        "id": "IGEH3O7qaWth",
        "outputId": "bbedb064-b3ee-4076-9bf3-3e35978d30ae"
      },
      "execution_count": null,
      "outputs": [
        {
          "output_type": "stream",
          "name": "stdout",
          "text": [
            "The ANOVA (formula: dep_vars ~ NLCD) suggests that:\n",
            "\n",
            "  - The main effect of NLCD is statistically significant and large (F(3, 463) =\n",
            "45.60, p < .001; Eta2 (partial) = 0.23, 95% CI [0.19, 1.00])\n",
            "\n",
            "Effect sizes were labelled following Field's (2013) recommendations.\n"
          ]
        }
      ]
    },
    {
      "cell_type": "markdown",
      "source": [
        "### Post-hoc test of MANOVA\n",
        "\n",
        "The MANOVA results suggest that there are statistically significant (p < 0.001) differences between NLCD, but it does not tell which NLCD are different from each other. To know which NLCD are significantly different, the post-hoc test needs to carry out.\n",
        "\n",
        "To test the between-group differences, the univariate ANOVA can be done on each dependent variable, but this will be not appropriate and lose information that can be obtained from multiple variables together.\n",
        "\n",
        "`Linear discriminant analysis (LDA)` is useful to show the differences between each group. LDA will discriminate the groups using information from both the dependent variables\n",
        "\n",
        "\n",
        "`Discriminant analysis` is a statistical method used to determine whether a set of variables can be used to classify observations into predefined groups. The goal of discriminant analysis is to build a predictive model that uses a set of predictor variables to classify new observations into one of several predefined groups. This can be used to understand the differences between groups, to identify the most important variables in predicting group membership, and to develop a classification rule that can be used to classify new observations.\n",
        "\n",
        "There are two types of discriminant analysis: linear discriminant analysis (LDA) and quadratic discriminant analysis (QDA)\n",
        "\n",
        "Discriminant analysis is commonly used for classification problems in which the classes are well-defined and the data are normally distributed. It can be used for both binary classification (i.e., separating two groups) and multi-class classification (i.e., separating more than two groups). It can also be used for feature selection, to identify the most important variables in predicting group membership.\n",
        "\n",
        "\n",
        "`lda()` function of {MASS} package to do Linear Discriminant Analysis of group variables:"
      ],
      "metadata": {
        "id": "FiLP0251afKn"
      }
    },
    {
      "cell_type": "code",
      "source": [
        "%%R\n",
        "post_hoc <- lda(mf$NLCD ~ dep_vars, CV=F)\n",
        "post_hoc"
      ],
      "metadata": {
        "colab": {
          "base_uri": "https://localhost:8080/"
        },
        "id": "lmOluSryayCe",
        "outputId": "5a3a5255-c640-4040-87c4-41d04b002416"
      },
      "execution_count": null,
      "outputs": [
        {
          "output_type": "stream",
          "name": "stdout",
          "text": [
            "Call:\n",
            "lda(mf$NLCD ~ dep_vars, CV = F)\n",
            "\n",
            "Prior probabilities of groups:\n",
            "            Forest         Herbaceous Planted/Cultivated          Shrubland \n",
            "         0.1991435          0.3211991          0.2077088          0.2719486 \n",
            "\n",
            "Group means:\n",
            "                   dep_vars1 dep_vars2\n",
            "Forest             10.430882 0.5705648\n",
            "Herbaceous          5.476967 0.4003461\n",
            "Planted/Cultivated  6.696722 0.5332255\n",
            "Shrubland           4.130764 0.3083878\n",
            "\n",
            "Coefficients of linear discriminants:\n",
            "                  LD1       LD2\n",
            "dep_vars1 -0.01809082 -0.250882\n",
            "dep_vars2 -7.60110166  4.955480\n",
            "\n",
            "Proportion of trace:\n",
            "   LD1    LD2 \n",
            "0.9167 0.0833 \n"
          ]
        }
      ]
    },
    {
      "cell_type": "markdown",
      "source": [
        "We can plot LD1 and LD2 to visualize discrimination of two predicted lda values:"
      ],
      "metadata": {
        "id": "w0x9D_ppa2OQ"
      }
    },
    {
      "cell_type": "code",
      "source": [
        "%%R -w 500 -h 400 -u px\n",
        "# create dataframe\n",
        "plot_lda <- data.frame(mf[, \"NLCD\"], lda = predict(post_hoc)$x)\n",
        "# plot\n",
        "ggplot(plot_lda) +\n",
        "    geom_point(aes(x = lda.LD1, y = lda.LD2, colour =NLCD), size = 4)"
      ],
      "metadata": {
        "colab": {
          "base_uri": "https://localhost:8080/",
          "height": 417
        },
        "id": "8lRyCIJSa3cC",
        "outputId": "c339b60d-13de-4fca-b295-5a6b19a2a7cf"
      },
      "execution_count": null,
      "outputs": [
        {
          "output_type": "display_data",
          "data": {
            "image/png": "[encoded data removed]"
          },
          "metadata": {}
        }
      ]
    },
    {
      "cell_type": "markdown",
      "source": [
        "The LDA scatter plot discriminates against NLCDs based on the two dependent variables. The Forest and Shurbland has a significant difference (well separated) as compared to Herbaceous and Planted/Cultivated land."
      ],
      "metadata": {
        "id": "jS7ktkhDbD4l"
      }
    },
    {
      "cell_type": "markdown",
      "source": [
        "### Robust MANOVA\n",
        "\n",
        "When the assumptions of MANOVA are violated, robust versions of MANOVA can be used to provide valid results. We see that the assumptions of MANOVA are violated in our example, so we will use a robust MANOVA approach.  In R, there are several approaches to robust MANOVA, including methods that account for non-normality, unequal covariance matrices, or other assumption violations. Below is an example of robust MANOVA using the {MANOVA.RM}  package."
      ],
      "metadata": {
        "id": "o9x-av_MbGkM"
      }
    },
    {
      "cell_type": "markdown",
      "source": [
        "#### When to Use Robust MANOVA\n",
        "\n",
        "Robust MANOVA methods are recommended when:\n",
        "\n",
        "* Multivariate normality is violated.\n",
        "\n",
        "* Covariance matrices are not homogeneous.\n",
        "\n",
        "* Outliers are present.\n",
        "\n",
        "* Sample sizes are unequal across groups."
      ],
      "metadata": {
        "id": "O4nFzRg-bIkh"
      }
    },
    {
      "cell_type": "markdown",
      "source": [
        "#### Fit Robust MANOVA\n",
        "\n",
        "The `MANOVA.wide()` function is used for data provided in wide format, i.e., with one row per unit.  The formula now consists of the matrix of outcome variables (bound together via `cbind()`) on the left hand side of the ~ operator and the factors of interest on the right. The `resampling` argument specifies the type of resampling to be used: The resampling method to be used: one of `paramBS` (parametric bootstrap approach) and `WildBS` (wild bootstrap approach with Rademacher weights). The `alpha` argument specifies the significance level. The `iter` argument specifies the number of iterations for the bootstrap resampling method."
      ],
      "metadata": {
        "id": "Y2JlOLAlbMMw"
      }
    },
    {
      "cell_type": "code",
      "source": [
        "%%R\n",
        "fit.robust<-  MANOVA.wide(cbind(SOC, NDVI) ~ NLCD, data = mf, resampling = \"paramBS\",\n",
        "                    alpha = 0.05, iter = 10)\n",
        "summary(fit.robust)"
      ],
      "metadata": {
        "colab": {
          "base_uri": "https://localhost:8080/"
        },
        "id": "ai60mNqhbHV1",
        "outputId": "c9c0cc6e-20fa-4b79-c113-d72cc8c7c4eb"
      },
      "execution_count": null,
      "outputs": [
        {
          "output_type": "stream",
          "name": "stdout",
          "text": [
            "Call: \n",
            "cbind(SOC, NDVI) ~ NLCD\n",
            "\n",
            "Descriptive:\n",
            "                NLCD   n    SOC  NDVI\n",
            "1             Forest  93 10.431 0.571\n",
            "2         Herbaceous 150  5.477 0.400\n",
            "3 Planted/Cultivated  97  6.697 0.533\n",
            "4          Shrubland 127  4.131 0.308\n",
            "\n",
            "Wald-Type Statistic (WTS):\n",
            "     Test statistic df  p-value \n",
            "NLCD \"330.552\"      \"6\" \"<0.001\"\n",
            "\n",
            "modified ANOVA-Type Statistic (MATS):\n",
            "     Test statistic\n",
            "NLCD        392.921\n",
            "\n",
            "p-values resampling:\n",
            "     paramBS (WTS) paramBS (MATS)\n",
            "NLCD \"<0.001\"      \"<0.001\"      \n"
          ]
        }
      ]
    },
    {
      "cell_type": "markdown",
      "source": [
        "The robust MANOVA results show that the NLCD has a significant effect on both SOC and NDVI, even when the assumptions of MANOVA are violated. The robust MANOVA approach provides valid results even when the data do not meet the assumptions of the analysis."
      ],
      "metadata": {
        "id": "OeoCOpQ-bUt7"
      }
    },
    {
      "cell_type": "markdown",
      "source": [
        "#### Confidence Regions\n",
        "\n",
        "Confidence regions can be calculated using the `conf.reg()` function. Note that confidence regions can only be plotted in designs with 2 dimensions. The `conf.reg()` function takes as arguments:\n",
        "\n",
        "- object: A MANOVA object calculated via `MANOVA()` or `MANOVA.wide().`\n",
        "- nullhypo: In designs involving more than one factor, it is necessary to specify the null hypothesis, i.e., the contrast of interest."
      ],
      "metadata": {
        "id": "Y5k38TmFbXXj"
      }
    },
    {
      "cell_type": "code",
      "source": [
        "%%R\n",
        "cr <- conf.reg(fit.robust)\n",
        "cr"
      ],
      "metadata": {
        "colab": {
          "base_uri": "https://localhost:8080/"
        },
        "id": "H0vLRLQkbZ0J",
        "outputId": "404b5462-b3c9-4f22-ff54-ddfc0f8e67ab"
      },
      "execution_count": null,
      "outputs": [
        {
          "output_type": "stream",
          "name": "stdout",
          "text": [
            "Center: \n",
            "      [,1]\n",
            "[1,] 7.494\n",
            "[2,] 0.236\n",
            "\n",
            "Scale:\n",
            "[1] 3.75646066 0.07033873\n",
            "\n",
            "Eigenvectors:\n",
            "     [,1] [,2]\n",
            "[1,]   -1    0\n",
            "[2,]    0   -1\n"
          ]
        }
      ]
    },
    {
      "cell_type": "markdown",
      "source": [
        "`plot()` function can be used to visualize the confidence regions:"
      ],
      "metadata": {
        "id": "3deAuuywbfHd"
      }
    },
    {
      "cell_type": "code",
      "source": [
        "%%R -w 500 -h 400 -u px\n",
        "plot(cr, col = 2, lty = 2, xlab = \"Difference in SOC\", ylab =\"Difference in NDVI\")"
      ],
      "metadata": {
        "colab": {
          "base_uri": "https://localhost:8080/",
          "height": 417
        },
        "id": "y5K0w4VQbf3P",
        "outputId": "c47f9a43-5147-4ca3-e8e4-b47e1f33fac4"
      },
      "execution_count": null,
      "outputs": [
        {
          "output_type": "display_data",
          "data": {
            "image/png": "[encoded data removed]"
          },
          "metadata": {}
        }
      ]
    },
    {
      "cell_type": "markdown",
      "source": [
        "The output includes the essential parameters for defining the ellipsoid: the center, the eigenvectors that determine the axes of the ellipsoid, and the scaling factors for these eigenvectors. The scaling factors are derived from the eigenvalues, the bootstrap quantile, and the total sample size.\n"
      ],
      "metadata": {
        "id": "EwJfa1A9brlL"
      }
    },
    {
      "cell_type": "markdown",
      "source": [
        "#### Post-hoc comparisons\n",
        "\n",
        "We can perform post-hoc pairwise comparisons using Tukey contrasts to determine which groups differ significantly from each other. The `simCI()` function is used to calculate the confidence intervals for the pairwise comparisons. The `contrast` argument specifies the type of contrast to be used (e.g., pairwise). The `type` argument specifies the type of contrast to be used (e.g., Tukey)."
      ],
      "metadata": {
        "id": "gE2WAAdlbt5Q"
      }
    },
    {
      "cell_type": "code",
      "source": [
        "%%R\n",
        "# pairwise comparison using Tukey contrasts\n",
        "simCI(fit.robust, contrast = \"pairwise\", type = \"Tukey\")"
      ],
      "metadata": {
        "colab": {
          "base_uri": "https://localhost:8080/"
        },
        "id": "HCwHIMDobwzn",
        "outputId": "a86c248a-f6cb-4577-e440-6ecc1fcb35bb"
      },
      "execution_count": null,
      "outputs": [
        {
          "output_type": "stream",
          "name": "stdout",
          "text": [
            "\n",
            " #------ Call -----# \n",
            " \n",
            " - Contrast:  Tukey \n",
            " - Confidence level: 95 % \n",
            "\n",
            " #------Multivariate post-hoc comparisons: p-values -----# \n",
            " \n",
            "                         contrast p.value\n",
            "1             Herbaceous - Forest     0.0\n",
            "2     Planted/Cultivated - Forest     0.0\n",
            "3              Shrubland - Forest     0.0\n",
            "4 Planted/Cultivated - Herbaceous     0.4\n",
            "5          Shrubland - Herbaceous     0.2\n",
            "6  Shrubland - Planted/Cultivated     0.0\n",
            "\n",
            " #-----------Confidence intervals for summary effects-------------# \n",
            " \n",
            "                                Estimate      Lower      Upper\n",
            "Herbaceous - Forest               -5.125 -8.2301451 -2.0198549\n",
            "Planted/Cultivated - Forest       -3.772 -6.9558096 -0.5881904\n",
            "Shrubland - Forest                -6.563 -9.6880813 -3.4379187\n",
            "Planted/Cultivated - Herbaceous    1.353 -0.5955306  3.3015306\n",
            "Shrubland - Herbaceous            -1.438 -3.2890162  0.4130162\n",
            "Shrubland - Planted/Cultivated    -2.791 -4.7711461 -0.8108539\n"
          ]
        }
      ]
    },
    {
      "cell_type": "markdown",
      "source": [
        "### Factorial MANOVA\n",
        "\n",
        "Factorial Multivariate Analysis of Variance (Factorial MANOVA) extends MANOVA to analyze the effects of two or more `categorical independent variables (factors)` on multiple dependent variables simultaneously. It also evaluates interactions between factors. Factorial MANOVA is useful when researchers want to examine the combined effects of multiple factors on a set of dependent variables.\n",
        "\n",
        "Key Features of Factorial MANOVA include:\n",
        "\n",
        "1. **Multiple Independent Variables (Factors):**\n",
        "   - Factorial MANOVA examines the effects of multiple factors (e.g., gender and treatment group) on the dependent variables.\n",
        "2. **Interactions:**\n",
        "   - It assesses whether the effect of one factor depends on the levels of another factor.\n",
        "3. **Multiple Dependent Variables:**\n",
        "   - It tests for differences in mean vectors across groups defined by the combinations of factor levels.\n",
        "\n",
        "\n",
        "Suppose:\n",
        "\n",
        "- There are $p$ dependent variables ($Y_1, Y_2, \\dots, Y_p$).\n",
        "- There are two independent variables (factors) $A$ and $B$:\n",
        "  - $A$ has $a$ levels.\n",
        "  - $B$ has $b$ levels.\n",
        "  \n",
        "- The observations are denoted by $\\mathbf{Y}_{ijk}$, where $i$ refers to the level of $A$, $j$ refers to the level of $(B, and $k$ indexes observations within each combination of $A$ and $B$.\n",
        "\n",
        "For each combination of $A$ and $B$, the mean vector is:\n",
        "\n",
        "$$ \\bar{\\mathbf{Y}}_{ij} = \\frac{1}{n_{ij}} \\sum_{k=1}^{n_{ij}} \\mathbf{Y}_{ijk} $$\n",
        "\n",
        "where $n_{ij}$ is the number of observations in the $i$-th level of $A$ and the $j$-th level of $B$.\n"
      ],
      "metadata": {
        "id": "ug2X9GMTb4rk"
      }
    },
    {
      "cell_type": "markdown",
      "source": [
        "#### Fit Factorial ANOVA\n",
        "\n",
        "First we will fit a Factorial ANOVA model with  two factors, `FRG` and `NLCD` and their interaction. The `lm()` function is used to fit the model, and `-1` removes the intercept effect"
      ],
      "metadata": {
        "id": "ok2aXDoNb_ME"
      }
    },
    {
      "cell_type": "code",
      "source": [
        "%%R\n",
        "# Fit a ANOVA model with interaction\n",
        "fit.fact.anova <-lm(cbind(SOC, NDVI) ~ FRG + NLCD + FRG*NLCD-1, data =mf)\n",
        "# Summary of results\n",
        "summary(fit.fact.anova)"
      ],
      "metadata": {
        "colab": {
          "base_uri": "https://localhost:8080/"
        },
        "id": "tuvgAeOtcFNH",
        "outputId": "28b28b95-8f74-423a-91d8-e8b240e53fae"
      },
      "execution_count": null,
      "outputs": [
        {
          "output_type": "stream",
          "name": "stdout",
          "text": [
            "Response SOC :\n",
            "\n",
            "Call:\n",
            "lm(formula = SOC ~ FRG + NLCD + FRG * NLCD - 1, data = mf)\n",
            "\n",
            "Residuals:\n",
            "    Min      1Q  Median      3Q     Max \n",
            "-8.9130 -2.8293 -0.9727  2.1691 20.2000 \n",
            "\n",
            "Coefficients: (2 not defined because of singularities)\n",
            "                                                Estimate Std. Error t value\n",
            "FRGFire Regime Group I                            5.2534     1.2789   4.108\n",
            "FRGFire Regime Group II                           5.6658     2.6868   2.109\n",
            "FRGFire Regime Group III                         10.2730     0.5767  17.812\n",
            "FRGFire Regime Group IV                          13.3175     1.2789  10.414\n",
            "FRGFire Regime Group V                           14.1115     1.4009  10.073\n",
            "FRGIndeterminate FRG                              3.4143     3.6172   0.944\n",
            "NLCDHerbaceous                                    2.6186     3.3835   0.774\n",
            "NLCDPlanted/Cultivated                            2.0026     4.6110   0.434\n",
            "NLCDShrubland                                    -2.6607     2.5577  -1.040\n",
            "FRGFire Regime Group II:NLCDHerbaceous           -2.7584     3.9425  -0.700\n",
            "FRGFire Regime Group III:NLCDHerbaceous          -7.5687     3.7365  -2.026\n",
            "FRGFire Regime Group IV:NLCDHerbaceous          -14.7966     4.7851  -3.092\n",
            "FRGFire Regime Group V:NLCDHerbaceous            -8.1846     4.8191  -1.698\n",
            "FRGIndeterminate FRG:NLCDHerbaceous              -4.2519     5.5744  -0.763\n",
            "FRGFire Regime Group II:NLCDPlanted/Cultivated   -0.9068     5.0430  -0.180\n",
            "FRGFire Regime Group III:NLCDPlanted/Cultivated  -5.0496     5.6042  -0.901\n",
            "FRGFire Regime Group IV:NLCDPlanted/Cultivated  -12.5601     6.5209  -1.926\n",
            "FRGFire Regime Group V:NLCDPlanted/Cultivated   -12.4944     5.4558  -2.290\n",
            "FRGIndeterminate FRG:NLCDPlanted/Cultivated       4.1971     6.3943   0.656\n",
            "FRGFire Regime Group II:NLCDShrubland                 NA         NA      NA\n",
            "FRGFire Regime Group III:NLCDShrubland           -2.8626     2.7439  -1.043\n",
            "FRGFire Regime Group IV:NLCDShrubland            -5.9615     2.9182  -2.043\n",
            "FRGFire Regime Group V:NLCDShrubland             -8.1158     3.8790  -2.092\n",
            "FRGIndeterminate FRG:NLCDShrubland                    NA         NA      NA\n",
            "                                                Pr(>|t|)    \n",
            "FRGFire Regime Group I                          4.75e-05 ***\n",
            "FRGFire Regime Group II                          0.03552 *  \n",
            "FRGFire Regime Group III                         < 2e-16 ***\n",
            "FRGFire Regime Group IV                          < 2e-16 ***\n",
            "FRGFire Regime Group V                           < 2e-16 ***\n",
            "FRGIndeterminate FRG                             0.34572    \n",
            "NLCDHerbaceous                                   0.43939    \n",
            "NLCDPlanted/Cultivated                           0.66428    \n",
            "NLCDShrubland                                    0.29879    \n",
            "FRGFire Regime Group II:NLCDHerbaceous           0.48451    \n",
            "FRGFire Regime Group III:NLCDHerbaceous          0.04340 *  \n",
            "FRGFire Regime Group IV:NLCDHerbaceous           0.00211 ** \n",
            "FRGFire Regime Group V:NLCDHerbaceous            0.09014 .  \n",
            "FRGIndeterminate FRG:NLCDHerbaceous              0.44601    \n",
            "FRGFire Regime Group II:NLCDPlanted/Cultivated   0.85739    \n",
            "FRGFire Regime Group III:NLCDPlanted/Cultivated  0.36806    \n",
            "FRGFire Regime Group IV:NLCDPlanted/Cultivated   0.05473 .  \n",
            "FRGFire Regime Group V:NLCDPlanted/Cultivated    0.02248 *  \n",
            "FRGIndeterminate FRG:NLCDPlanted/Cultivated      0.51192    \n",
            "FRGFire Regime Group II:NLCDShrubland                 NA    \n",
            "FRGFire Regime Group III:NLCDShrubland           0.29738    \n",
            "FRGFire Regime Group IV:NLCDShrubland            0.04165 *  \n",
            "FRGFire Regime Group V:NLCDShrubland             0.03698 *  \n",
            "FRGIndeterminate FRG:NLCDShrubland                    NA    \n",
            "---\n",
            "Signif. codes:  0 ‘***’ 0.001 ‘**’ 0.01 ‘*’ 0.05 ‘.’ 0.1 ‘ ’ 1\n",
            "\n",
            "Residual standard error: 4.43 on 445 degrees of freedom\n",
            "Multiple R-squared:  0.7155,\tAdjusted R-squared:  0.7014 \n",
            "F-statistic: 50.87 on 22 and 445 DF,  p-value: < 2.2e-16\n",
            "\n",
            "\n",
            "Response NDVI :\n",
            "\n",
            "Call:\n",
            "lm(formula = NDVI ~ FRG + NLCD + FRG * NLCD - 1, data = mf)\n",
            "\n",
            "Residuals:\n",
            "     Min       1Q   Median       3Q      Max \n",
            "-0.30164 -0.08623 -0.02120  0.05673  0.36365 \n",
            "\n",
            "Coefficients: (2 not defined because of singularities)\n",
            "                                                Estimate Std. Error t value\n",
            "FRGFire Regime Group I                           0.43886    0.03473  12.638\n",
            "FRGFire Regime Group II                          0.39297    0.07296   5.386\n",
            "FRGFire Regime Group III                         0.58753    0.01566  37.515\n",
            "FRGFire Regime Group IV                          0.60858    0.03473  17.525\n",
            "FRGFire Regime Group V                           0.58288    0.03804  15.322\n",
            "FRGIndeterminate FRG                             0.30531    0.09822   3.108\n",
            "NLCDHerbaceous                                   0.28693    0.09188   3.123\n",
            "NLCDPlanted/Cultivated                           0.25545    0.12521   2.040\n",
            "NLCDShrubland                                   -0.12408    0.06945  -1.786\n",
            "FRGFire Regime Group II:NLCDHerbaceous          -0.27441    0.10706  -2.563\n",
            "FRGFire Regime Group III:NLCDHerbaceous         -0.51752    0.10146  -5.101\n",
            "FRGFire Regime Group IV:NLCDHerbaceous          -0.67175    0.12994  -5.170\n",
            "FRGFire Regime Group V:NLCDHerbaceous           -0.54056    0.13086  -4.131\n",
            "FRGIndeterminate FRG:NLCDHerbaceous             -0.41597    0.15137  -2.748\n",
            "FRGFire Regime Group II:NLCDPlanted/Cultivated  -0.12199    0.13694  -0.891\n",
            "FRGFire Regime Group III:NLCDPlanted/Cultivated -0.25002    0.15218  -1.643\n",
            "FRGFire Regime Group IV:NLCDPlanted/Cultivated  -0.45680    0.17707  -2.580\n",
            "FRGFire Regime Group V:NLCDPlanted/Cultivated   -0.28934    0.14815  -1.953\n",
            "FRGIndeterminate FRG:NLCDPlanted/Cultivated      0.17068    0.17363   0.983\n",
            "FRGFire Regime Group II:NLCDShrubland                 NA         NA      NA\n",
            "FRGFire Regime Group III:NLCDShrubland          -0.14484    0.07451  -1.944\n",
            "FRGFire Regime Group IV:NLCDShrubland           -0.15421    0.07924  -1.946\n",
            "FRGFire Regime Group V:NLCDShrubland            -0.17602    0.10533  -1.671\n",
            "FRGIndeterminate FRG:NLCDShrubland                    NA         NA      NA\n",
            "                                                Pr(>|t|)    \n",
            "FRGFire Regime Group I                           < 2e-16 ***\n",
            "FRGFire Regime Group II                         1.17e-07 ***\n",
            "FRGFire Regime Group III                         < 2e-16 ***\n",
            "FRGFire Regime Group IV                          < 2e-16 ***\n",
            "FRGFire Regime Group V                           < 2e-16 ***\n",
            "FRGIndeterminate FRG                             0.00200 ** \n",
            "NLCDHerbaceous                                   0.00191 ** \n",
            "NLCDPlanted/Cultivated                           0.04192 *  \n",
            "NLCDShrubland                                    0.07471 .  \n",
            "FRGFire Regime Group II:NLCDHerbaceous           0.01070 *  \n",
            "FRGFire Regime Group III:NLCDHerbaceous         5.02e-07 ***\n",
            "FRGFire Regime Group IV:NLCDHerbaceous          3.55e-07 ***\n",
            "FRGFire Regime Group V:NLCDHerbaceous           4.32e-05 ***\n",
            "FRGIndeterminate FRG:NLCDHerbaceous              0.00624 ** \n",
            "FRGFire Regime Group II:NLCDPlanted/Cultivated   0.37349    \n",
            "FRGFire Regime Group III:NLCDPlanted/Cultivated  0.10110    \n",
            "FRGFire Regime Group IV:NLCDPlanted/Cultivated   0.01021 *  \n",
            "FRGFire Regime Group V:NLCDPlanted/Cultivated    0.05144 .  \n",
            "FRGIndeterminate FRG:NLCDPlanted/Cultivated      0.32616    \n",
            "FRGFire Regime Group II:NLCDShrubland                 NA    \n",
            "FRGFire Regime Group III:NLCDShrubland           0.05254 .  \n",
            "FRGFire Regime Group IV:NLCDShrubland            0.05228 .  \n",
            "FRGFire Regime Group V:NLCDShrubland             0.09539 .  \n",
            "FRGIndeterminate FRG:NLCDShrubland                    NA    \n",
            "---\n",
            "Signif. codes:  0 ‘***’ 0.001 ‘**’ 0.01 ‘*’ 0.05 ‘.’ 0.1 ‘ ’ 1\n",
            "\n",
            "Residual standard error: 0.1203 on 445 degrees of freedom\n",
            "Multiple R-squared:  0.9364,\tAdjusted R-squared:  0.9333 \n",
            "F-statistic:   298 on 22 and 445 DF,  p-value: < 2.2e-16\n",
            "\n",
            "\n"
          ]
        }
      ]
    },
    {
      "cell_type": "markdown",
      "source": [
        "#### Fit Factorial  MANOVA\n",
        "\n",
        "\n",
        "The `manova()` function is used to perform a Factorial MANOVA in R. The syntax for the manova function is as follows:"
      ],
      "metadata": {
        "id": "ph4my2YXcC5J"
      }
    },
    {
      "cell_type": "code",
      "source": [
        "%%R\n",
        "fit.fact.manova <-manova(cbind(SOC, NDVI) ~ FRG + NLCD + FRG*NLCD-1, data =mf)\n",
        "# Summary of results\n",
        "summary(fit.fact.manova)"
      ],
      "metadata": {
        "colab": {
          "base_uri": "https://localhost:8080/"
        },
        "id": "W7Pv6yQTcLjo",
        "outputId": "fe917e40-fef6-4d09-81b1-f6e5f98e25fc"
      },
      "execution_count": null,
      "outputs": [
        {
          "output_type": "stream",
          "name": "stdout",
          "text": [
            "           Df  Pillai approx F num Df den Df  Pr(>F)    \n",
            "FRG         6 0.98978   72.666     12    890 < 2e-16 ***\n",
            "NLCD        3 0.44076   41.931      6    890 < 2e-16 ***\n",
            "FRG:NLCD   13 0.13974    2.571     26    890 3.1e-05 ***\n",
            "Residuals 445                                           \n",
            "---\n",
            "Signif. codes:  0 ‘***’ 0.001 ‘**’ 0.01 ‘*’ 0.05 ‘.’ 0.1 ‘ ’ 1\n"
          ]
        }
      ]
    },
    {
      "cell_type": "markdown",
      "source": [
        "The results of the Factorial MANOVA show that the main effects of FRG and NLCD are significant, as well as the interaction between FRG and NLCD. This indicates that both FRG and NLCD have a significant effect on SOC and NDVI, and that the effect of FRG on SOC and NDVI depends on the level of NLCD."
      ],
      "metadata": {
        "id": "Em11vSUTcQSp"
      }
    },
    {
      "cell_type": "code",
      "source": [
        "%%R\n",
        "report::report(fit.fact.manova)"
      ],
      "metadata": {
        "colab": {
          "base_uri": "https://localhost:8080/"
        },
        "id": "UScjaOjwcXXx",
        "outputId": "de20068c-004a-4f03-91a4-3852d22c69cf"
      },
      "execution_count": null,
      "outputs": [
        {
          "output_type": "stream",
          "name": "stdout",
          "text": [
            "The ANOVA (formula: cbind(SOC, NDVI) ~ FRG + NLCD + FRG * NLCD - 1) suggests\n",
            "that:\n",
            "\n",
            "  - The main effect of FRG is statistically significant and large (F(6, 445) =\n",
            "72.67, p < .001; Eta2 (partial) = 0.49, 95% CI [0.46, 1.00])\n",
            "  - The main effect of NLCD is statistically significant and large (F(3, 445) =\n",
            "41.93, p < .001; Eta2 (partial) = 0.22, 95% CI [0.18, 1.00])\n",
            "  - The interaction between FRG and NLCD is statistically significant and medium\n",
            "(F(13, 445) = 2.57, p < .001; Eta2 (partial) = 0.07, 95% CI [0.02, 1.00])\n",
            "\n",
            "Effect sizes were labelled following Field's (2013) recommendations.\n"
          ]
        }
      ]
    },
    {
      "cell_type": "markdown",
      "source": [
        "### Multivariate Analysis of Covariance (MANCOVA)\n",
        "\n",
        "Multivariate Analysis of Covariance (MANCOVA) is an extension of MANOVA that includes one or more continuous covariates in the analysis. MANCOVA is used to test for group differences on multiple dependent variables while controlling for the effects of one or more `continuous covariates`. The covariates are included as additional predictors in the model to account for their influence on the dependent variables.\n",
        "\n",
        "The `mancova()` function of {jmv} is used to perform a MANCOVA in R for exploring the relationship between multiple dependent variables, and one or more categorical and/or continuous explanatory variables.\n",
        "\n",
        "Here below is an example where we use MANCOVA to test the effects of NLCD and FRG on SOC and NDVI while controlling for the effects of MAP and MAT as covariates."
      ],
      "metadata": {
        "id": "7w3MwBidcdFS"
      }
    },
    {
      "cell_type": "code",
      "source": [
        "%%R\n",
        "fit.mancova <-jmv::mancova(data = mf,\n",
        "    deps = vars(SOC, NDVI),\n",
        "    factors = vars(NLCD,FRG),\n",
        "    covs = vars(MAP, MAT),\n",
        "    boxM = TRUE,\n",
        "    multivar = list(\"pillai\", \"wilks\"))\n",
        "# Print the result without any extra arguments\n",
        "print(fit.mancova)"
      ],
      "metadata": {
        "colab": {
          "base_uri": "https://localhost:8080/"
        },
        "id": "ljKh8kRLceB9",
        "outputId": "bd483e7f-aa7d-409a-db53-26e387ae0cf3"
      },
      "execution_count": null,
      "outputs": [
        {
          "output_type": "stream",
          "name": "stdout",
          "text": [
            "\n",
            " MANCOVA\n",
            "\n",
            " Multivariate Tests                                                                     \n",
            " ────────────────────────────────────────────────────────────────────────────────────── \n",
            "                                 value         F             df1    df2    p            \n",
            " ────────────────────────────────────────────────────────────────────────────────────── \n",
            "   NLCD        Pillai's Trace    0.76247799     90.982287      6    886    < .0000001   \n",
            "               Wilks' Lambda      0.2804653    130.869457      6    884    < .0000001   \n",
            "                                                                                        \n",
            "   FRG         Pillai's Trace    0.09170042      4.257538     10    886     0.0000082   \n",
            "               Wilks' Lambda      0.9095108      4.293296     10    884     0.0000072   \n",
            "                                                                                        \n",
            "   NLCD:FRG    Pillai's Trace    0.14957347      2.754502     26    886     0.0000071   \n",
            "               Wilks' Lambda      0.8518922      2.837198     26    884     0.0000036   \n",
            "                                                                                        \n",
            "   MAP         Pillai's Trace    0.67001534    448.728104      2    442    < .0000001   \n",
            "               Wilks' Lambda      0.3299847    448.728104      2    442    < .0000001   \n",
            "                                                                                        \n",
            "   MAT         Pillai's Trace    0.24208298     70.588651      2    442    < .0000001   \n",
            "               Wilks' Lambda      0.7579170     70.588651      2    442    < .0000001   \n",
            " ────────────────────────────────────────────────────────────────────────────────────── \n",
            "\n",
            "\n",
            " Univariate Tests                                                                                            \n",
            " ─────────────────────────────────────────────────────────────────────────────────────────────────────────── \n",
            "                Dependent Variable    Sum of Squares    df     Mean Square       F              p            \n",
            " ─────────────────────────────────────────────────────────────────────────────────────────────────────────── \n",
            "   NLCD         SOC                     2300.2493377      3     766.749779229     51.1478639    < .0000001   \n",
            "                NDVI                       4.8594674      3       1.619822453    331.2498741    < .0000001   \n",
            "   FRG          SOC                      341.9780517      5      68.395610346      4.5624915     0.0004552   \n",
            "                NDVI                       0.1213852      5       0.024277038      4.9645970     0.0001958   \n",
            "   NLCD:FRG     SOC                       73.0094698     13       5.616113059      0.3746362     0.9772542   \n",
            "                NDVI                       0.3468075     13       0.026677502      5.4554862    < .0000001   \n",
            "   MAP          SOC                     1737.0904335      1    1737.090433541    115.8767404    < .0000001   \n",
            "                NDVI                       4.1823672      1       4.182367204    855.2842366    < .0000001   \n",
            "   MAT          SOC                      769.2951318      1     769.295131785     51.3176577    < .0000001   \n",
            "                NDVI                       0.5313044      1       0.531304401    108.6504978    < .0000001   \n",
            "   Residuals    SOC                     6640.9450181    443      14.990846542                                \n",
            "                NDVI                       2.1662841    443       0.004890032                                \n",
            " ─────────────────────────────────────────────────────────────────────────────────────────────────────────── \n",
            "\n",
            "\n",
            " ASSUMPTION CHECKS\n",
            "\n",
            " Box's Homogeneity of Covariance Matrices Test \n",
            " ───────────────────────────────────────────── \n",
            "   χ²     df    p             \n",
            " ───────────────────────────────────────────── \n",
            "     ᵃ    63              ᵃ   \n",
            " ───────────────────────────────────────────── \n",
            "   ᵃ Too few observations to calculate\n",
            "   statistic. Each (sub)group must have at\n",
            "   least as many observations as there are\n",
            "   dependent variables.\n",
            "\n"
          ]
        }
      ]
    },
    {
      "cell_type": "markdown",
      "metadata": {
        "id": "mIRMjL69VPVu"
      },
      "source": [
        "\n",
        "## Summary and Conclusion\n",
        "\n",
        "In this tutorial, we learned about Multivariate Analysis of Variance (MANOVA) and how to perform MANOVA in R. MANOVA is a powerful statistical technique that allows researchers to test for differences among groups on multiple dependent variables simultaneously. It is particularly useful when the dependent variables are correlated and when researchers want to control for inter-correlations among the dependent variables. MANOVA provides a more comprehensive analysis of group differences than univariate ANOVA and can help researchers understand the complex relationships among multiple variables. We also discussed the assumptions of MANOVA and how to check these assumptions using R. When the assumptions of MANOVA are violated, robust MANOVA methods can be used to provide valid results. We also learned about Factorial MANOVA, which extends MANOVA to analyze the effects of multiple independent variables and their interactions on multiple dependent variables. Factorial MANOVA is useful for studying the combined effects of multiple factors on a set of dependent variables. Overall, MANOVA is a versatile and powerful technique that can be used to analyze complex data sets and test hypotheses about group differences in multiple dependent variables.\n",
        "\n",
        "\n"
      ]
    },
    {
      "cell_type": "markdown",
      "metadata": {
        "id": "rUHrNY9J9lMg"
      },
      "source": [
        "## References\n",
        "\n",
        "## References\n",
        "\n",
        "1. [MANOVA Test in R: Multivariate Analysis of Variance](https://www.sthda.com/english/wiki/manova-test-in-r-multivariate-analysis-of-variance)\n",
        "\n",
        "2.  [MANOVA (Multivariate Analysis of Variance) using R](https://www.r-bloggers.com/2021/11/manovamultivariate-analysis-of-variance-using-r/)\n",
        "\n",
        "3. [ANOVA/MANOVA](https://kevintshoemaker.github.io/NRES-746/MANOVA.html)  \n",
        "\n",
        "4. [Robust MNOVA](https://cran.r-project.org/web/packages/MANOVA.RM/vignettes/Introduction_to_MANOVA.RM.html)\n",
        "\n",
        "\n"
      ]
    }
  ],
  "metadata": {
    "colab": {
      "provenance": [],
      "toc_visible": true,
      "authorship_tag": "ABX9TyMT6Gu31MZut3qLmdQts+ch",
      "include_colab_link": true
    },
    "kernelspec": {
      "display_name": "Python 3",
      "name": "python3"
    },
    "language_info": {
      "name": "python"
    }
  },
  "nbformat": 4,
  "nbformat_minor": 0
}