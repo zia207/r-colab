{
  "nbformat": 4,
  "nbformat_minor": 0,
  "metadata": {
    "colab": {
      "provenance": [],
      "toc_visible": true,
      "authorship_tag": "ABX9TyM1LAgzJNgV7VxGzlDBgNvN",
      "include_colab_link": true
    },
    "kernelspec": {
      "name": "python3",
      "display_name": "Python 3"
    },
    "language_info": {
      "name": "python"
    }
  },
  "cells": [
    {
      "cell_type": "markdown",
      "metadata": {
        "id": "view-in-github",
        "colab_type": "text"
      },
      "source": [
        "<a href=\"https://colab.research.google.com/github/zia207/r-colab/blob/main/NoteBook/Advance_Regression/02-02-04-regularized-glm-poisson-r.ipynb\" target=\"_parent\"><img src=\"https://colab.research.google.com/assets/colab-badge.svg\" alt=\"Open In Colab\"/></a>"
      ]
    },
    {
      "cell_type": "markdown",
      "source": [
        "![alt text](http://drive.google.com/uc?export=view&id=1bLQ3nhDbZrCCqy_WCxxckOne2lgVvn3l)"
      ],
      "metadata": {
        "id": "IKDXiI3LclHD"
      }
    },
    {
      "cell_type": "markdown",
      "source": [
        "# 4. Regularized Poisson Regression Model\n",
        "\n",
        "Regularized Poisson regression is a statistical modeling technique used to predict count data while addressing overfitting through regularization. Count data often follows a Poisson distribution, but standard Poisson regression can need help with high-dimensional data or highly correlated predictors, leading to unstable estimates. Techniques like **ridge**, **lasso**, and **elastic net** add penalty terms to improve interpretability and accuracy. This tutorial introduces how to implement regularized Poisson regression in R.  We will first fit the model from scratch to understand the theory and then use the {glmnet} package to apply ridge, lasso, and elastic net Poisson regression. This approach provides theoretical insights and practical skills for applying regularized Poisson regression in various contexts, from academic research to industry applications."
      ],
      "metadata": {
        "id": "DxLKBjKT0vVQ"
      }
    },
    {
      "cell_type": "markdown",
      "source": [
        "## Overview\n",
        "\n",
        "The **Regularized Poisson Regression Model** is a variant of Poisson regression used to model count data, where the goal is to estimate the relationship between a set of predictors and a count outcome (e.g., number of events). The regularization and the offset are additional components that refine the model and improve its performance, especially when dealing with complex or noisy data.\n",
        "\n",
        "The componets Regularized Poisson Regression Model with offset:\n",
        "\n",
        "1. **Poisson Regression**:\n",
        "\n",
        "   - Poisson regression is a type of generalized linear model (GLM) where the outcome variable follows a Poisson distribution. It's commonly used for modeling count data (e.g., the number of occurrences of an event).\n",
        "   - The Poisson distribution has the probability mass function:\n",
        "\n",
        "  $$  P(Y = y) = \\frac{\\lambda^y e^{-\\lambda}}{y!}, \\quad y = 0, 1, 2, \\dots $$\n",
        "   \n",
        "     where $\\lambda$ is the expected count (rate parameter), and $Y$ is the random variable representing the count.\n",
        "\n",
        "   - The Poisson regression model assumes that:\n",
        "     \n",
        "     $$ \\log(\\lambda) = \\mathbf{X} \\beta $$\n",
        "     \n",
        "     where $\\lambda$ is the expected count, $\\mathbf{X}$ is the matrix of predictor variables, and $\\beta$ is the vector of coefficients to be estimated.\n",
        "\n",
        "2. **Offset**:\n",
        "\n",
        "The offset allows you to adjust for known exposure levels (such as time, area, or population size) that affect the count outcome but are not part of the predictors you want to estimate.\n",
        "\n",
        "   - An **offset** is a known component in the model that is included in the linear predictor, but its coefficient is fixed (usually set to 1). This is often used when the scale of the response variable is affected by some external factor.\n",
        "   - In a Poisson regression with an offset, the model becomes:\n",
        "     \n",
        "     $$ \\log(\\lambda) = \\mathbf{X} \\beta + \\text{offset} $$\n",
        "     \n",
        "     where the offset can be any known value or variable that is not estimated during the regression but is important for predicting the count outcome (e.g., the total time at risk, population size, or exposure rate).\n",
        "\n",
        "3. **Regularization**:\n",
        "\n",
        "Regularization helps avoid overfitting, especially in cases where there are many predictors or the model is complex, leading to more stable and interpretable coefficients.\n",
        "\n",
        "   - **Regularization** refers to adding a penalty term to the loss function in order to prevent overfitting and improve the generalization of the model. For Poisson regression, regularization is typically done using either **L1** (Lasso) or **L2** (Ridge) regularization:\n",
        "\n",
        "     - **L1 regularization** encourages sparsity in the model by penalizing the absolute values of the coefficients.\n",
        "\n",
        "     - **L2 regularization** penalizes the squared values of the coefficients, shrinking them toward zero but generally not leading to exact zeros.\n",
        "   \n",
        "   The regularized Poisson regression model with an offset can be written as:\n",
        "   \n",
        "   $$  \\min_{\\beta} \\left( \\sum_{i=1}^n \\left( y_i \\log(\\lambda_i) - \\lambda_i \\right) + \\text{Penalty}(\\beta) \\right) $$\n",
        "   \n",
        "   where $y_i$ is the observed count for the $i$-th observation, and $\\lambda_i$ is the expected count, which depends on the predictors and the offset. The penalty term could represent either L1 or L2 regularization.\n",
        "\n",
        "\n"
      ],
      "metadata": {
        "id": "2NDraYUqU-LN"
      }
    },
    {
      "cell_type": "markdown",
      "source": [
        "## Install rpy2"
      ],
      "metadata": {
        "id": "zBLf9UoP395A"
      }
    },
    {
      "cell_type": "code",
      "source": [
        "!pip uninstall rpy2 -y\n",
        "!pip install rpy2==3.5.1\n",
        "%load_ext rpy2.ipython"
      ],
      "metadata": {
        "id": "JxLbaGHx4CIm",
        "colab": {
          "base_uri": "https://localhost:8080/"
        },
        "outputId": "29e720d3-8ba8-4726-e03d-c4eae196ecfd"
      },
      "execution_count": 1,
      "outputs": [
        {
          "output_type": "stream",
          "name": "stdout",
          "text": [
            "Found existing installation: rpy2 3.4.2\n",
            "Uninstalling rpy2-3.4.2:\n",
            "  Successfully uninstalled rpy2-3.4.2\n",
            "Collecting rpy2==3.5.1\n",
            "  Downloading rpy2-3.5.1.tar.gz (201 kB)\n",
            "\u001b[2K     \u001b[90m━━━━━━━━━━━━━━━━━━━━━━━━━━━━━━━━━━━━━━━━\u001b[0m \u001b[32m201.7/201.7 kB\u001b[0m \u001b[31m4.3 MB/s\u001b[0m eta \u001b[36m0:00:00\u001b[0m\n",
            "\u001b[?25h  Preparing metadata (setup.py) ... \u001b[?25l\u001b[?25hdone\n",
            "Requirement already satisfied: cffi>=1.10.0 in /usr/local/lib/python3.11/dist-packages (from rpy2==3.5.1) (1.17.1)\n",
            "Requirement already satisfied: jinja2 in /usr/local/lib/python3.11/dist-packages (from rpy2==3.5.1) (3.1.5)\n",
            "Requirement already satisfied: pytz in /usr/local/lib/python3.11/dist-packages (from rpy2==3.5.1) (2025.1)\n",
            "Requirement already satisfied: tzlocal in /usr/local/lib/python3.11/dist-packages (from rpy2==3.5.1) (5.2)\n",
            "Requirement already satisfied: pycparser in /usr/local/lib/python3.11/dist-packages (from cffi>=1.10.0->rpy2==3.5.1) (2.22)\n",
            "Requirement already satisfied: MarkupSafe>=2.0 in /usr/local/lib/python3.11/dist-packages (from jinja2->rpy2==3.5.1) (3.0.2)\n",
            "Building wheels for collected packages: rpy2\n",
            "  Building wheel for rpy2 (setup.py) ... \u001b[?25l\u001b[?25hdone\n",
            "  Created wheel for rpy2: filename=rpy2-3.5.1-cp311-cp311-linux_x86_64.whl size=314966 sha256=df6d9c77197cf20d390ee394c450504c682e90c4882d0f5a32a5f1aa9f991d07\n",
            "  Stored in directory: /root/.cache/pip/wheels/e9/55/d1/47be85a5f3f1e1f4d1e91cb5e3a4dcb40dd72147f184c5a5ef\n",
            "Successfully built rpy2\n",
            "Installing collected packages: rpy2\n",
            "Successfully installed rpy2-3.5.1\n"
          ]
        }
      ]
    },
    {
      "cell_type": "markdown",
      "source": [
        "## Mount Google Drive"
      ],
      "metadata": {
        "id": "Tn1GZ62e4FNk"
      }
    },
    {
      "cell_type": "code",
      "source": [
        "from google.colab import drive\n",
        "drive.mount('/content/drive')"
      ],
      "metadata": {
        "colab": {
          "base_uri": "https://localhost:8080/"
        },
        "id": "pAs8x4Kf4I19",
        "outputId": "72ac2c22-3d4f-48b6-9bb8-b5a541a5e71c"
      },
      "execution_count": 2,
      "outputs": [
        {
          "output_type": "stream",
          "name": "stdout",
          "text": [
            "Mounted at /content/drive\n"
          ]
        }
      ]
    },
    {
      "cell_type": "markdown",
      "source": [
        "## Regularized Poisson Model from Scratch\n",
        "\n",
        "Let's go through the process of fitting a Poisson model with an offset and four predictors manually in R. Here’s the breakdown:"
      ],
      "metadata": {
        "id": "MGg8wl1N4akt"
      }
    },
    {
      "cell_type": "markdown",
      "source": [
        "### Create a Data\n",
        "\n",
        "For this example, we’ll simulate some count data, including four predictors and an offset variable.\n"
      ],
      "metadata": {
        "id": "4OEJbirH2pDL"
      }
    },
    {
      "cell_type": "code",
      "source": [
        "%%R\n",
        "# Simulate Data\n",
        "set.seed(123)\n",
        "n <- 200  # Number of observations\n",
        "p <- 5    # Number of predictors\n",
        "\n",
        "# Simulate predictors\n",
        "X <- matrix(rnorm(n * p), nrow = n, ncol = p)\n",
        "colnames(X) <- paste0(\"X\", 1:p)\n",
        "\n",
        "# True coefficients\n",
        "beta <- c(0.5, -0.3, 0, 0.8, 0)\n",
        "\n",
        "# Simulate offset and Poisson outcome\n",
        "offset <- log(runif(n, 1, 10))  # Offset variable\n",
        "lambda <- exp(X %*% beta + offset)  # Poisson mean\n",
        "Y <- rpois(n, lambda)  # Poisson-distributed response\n",
        "\n",
        "# Combine data into a single dataframe\n",
        "data <- data.frame(Y, offset, X)\n",
        "head(data)\n"
      ],
      "metadata": {
        "colab": {
          "base_uri": "https://localhost:8080/"
        },
        "id": "aQIOzUqM2jlv",
        "outputId": "2dd0cf34-b56f-4fff-e806-d1706a38ba86"
      },
      "execution_count": null,
      "outputs": [
        {
          "output_type": "stream",
          "name": "stdout",
          "text": [
            "   Y    offset          X1         X2          X3          X4         X5\n",
            "1  4 0.8907948 -0.56047565  2.1988103 -0.07355602  1.07401226  0.3562833\n",
            "2  2 0.8331885 -0.23017749  1.3124130 -1.16865142 -0.02734697 -0.6580102\n",
            "3  7 0.8512715  1.55870831 -0.2651451 -0.63474826 -0.03333034  0.8552022\n",
            "4  0 1.7280932  0.07050839  0.5431941 -0.02884155 -1.51606762  1.1529362\n",
            "5  9 1.6929415  0.12928774 -0.4143399  0.67069597  0.79038534  0.2762746\n",
            "6 17 1.8790199  1.71506499 -0.4762469 -1.65054654 -0.21073418  0.1441047\n"
          ]
        }
      ]
    },
    {
      "cell_type": "markdown",
      "source": [
        "### Regularized Poisson Regression Function"
      ],
      "metadata": {
        "id": "Hb893ZOn2ypw"
      }
    },
    {
      "cell_type": "code",
      "source": [
        "%%R\n",
        "# Regularized Poisson Regression Function\n",
        "regularized_poisson <- function(X, Y, offset, alpha, lambda, max_iter = 1000, tol = 1e-6) {\n",
        "  n <- nrow(X)\n",
        "  p <- ncol(X)\n",
        "  beta <- rep(0, p)  # Initialize coefficients\n",
        "  for (iter in 1:max_iter) {\n",
        "    # Linear predictor\n",
        "    eta <- X %*% beta + offset\n",
        "    mu <- exp(eta)  # Predicted Poisson mean\n",
        "\n",
        "    # Gradient of the log-likelihood\n",
        "    grad <- t(X) %*% (Y - mu) / n\n",
        "\n",
        "    # Add regularization gradient\n",
        "    grad <- grad - lambda * (alpha * sign(beta) + 2 * (1 - alpha) * beta)\n",
        "\n",
        "    # Update coefficients\n",
        "    beta_new <- beta + 0.01 * grad  # Learning rate = 0.01\n",
        "\n",
        "    # Check for convergence\n",
        "    if (sum(abs(beta_new - beta)) < tol) {\n",
        "      break\n",
        "    }\n",
        "    beta <- beta_new\n",
        "  }\n",
        "  return(beta)\n",
        "}"
      ],
      "metadata": {
        "id": "gqDir6Mb23YN"
      },
      "execution_count": null,
      "outputs": []
    },
    {
      "cell_type": "markdown",
      "source": [
        "### Cross-Validation Function"
      ],
      "metadata": {
        "id": "C0QBsw_l2uJp"
      }
    },
    {
      "cell_type": "code",
      "source": [
        "%%R\n",
        "# Cross-Validation Function\n",
        "cross_validate <- function(X, Y, offset, alpha_values, lambda_values, folds = 5) {\n",
        "  n <- nrow(X)\n",
        "  fold_indices <- sample(rep(1:folds, length.out = n))\n",
        "\n",
        "  results <- expand.grid(alpha = alpha_values, lambda = lambda_values, RMSE = NA)\n",
        "\n",
        "  for (i in 1:nrow(results)) {\n",
        "    alpha <- results$alpha[i]\n",
        "    lambda <- results$lambda[i]\n",
        "\n",
        "    rmse_fold <- numeric(folds)\n",
        "\n",
        "    for (fold in 1:folds) {\n",
        "      train_idx <- which(fold_indices != fold)\n",
        "      test_idx <- which(fold_indices == fold)\n",
        "\n",
        "      X_train <- X[train_idx, ]\n",
        "      Y_train <- Y[train_idx]\n",
        "      offset_train <- offset[train_idx]\n",
        "\n",
        "      X_test <- X[test_idx, ]\n",
        "      Y_test <- Y[test_idx]\n",
        "      offset_test <- offset[test_idx]\n",
        "\n",
        "      # Fit model\n",
        "      beta <- regularized_poisson(X_train, Y_train, offset_train, alpha, lambda)\n",
        "\n",
        "      # Predict on test set\n",
        "      eta_test <- X_test %*% beta + offset_test\n",
        "      mu_test <- exp(eta_test)\n",
        "\n",
        "      # Calculate RMSE\n",
        "      rmse_fold[fold] <- sqrt(mean((Y_test - mu_test)^2))\n",
        "    }\n",
        "\n",
        "    results$RMSE[i] <- mean(rmse_fold)\n",
        "  }\n",
        "\n",
        "  return(results)\n",
        "}"
      ],
      "metadata": {
        "id": "UXkhJ9-BJMW9"
      },
      "execution_count": null,
      "outputs": []
    },
    {
      "cell_type": "markdown",
      "source": [
        "## Cross-Validation for best parameters"
      ],
      "metadata": {
        "id": "UMxghaOJJS9E"
      }
    },
    {
      "cell_type": "code",
      "source": [
        "%%R\n",
        "# Define alpha and lambda values\n",
        "alpha_values <- c(0, 0.5, 1)  # Ridge (0), Elastic Net (0.5), Lasso (1)\n",
        "lambda_values <- seq(0.01, 1, length.out = 10)\n",
        "\n",
        "# Cross-validate to find the best parameters\n",
        "cv_results <- cross_validate(X, Y, offset, alpha_values, lambda_values)\n",
        "\n",
        "# Best parameters for each model\n",
        "ridge_params <- cv_results[cv_results$alpha == 0, ][which.min(cv_results$RMSE), ]\n",
        "lasso_params <- cv_results[cv_results$alpha == 1, ][which.min(cv_results$RMSE), ]\n",
        "elastic_net_params <- cv_results[cv_results$alpha == 0.5, ][which.min(cv_results$RMSE), ]"
      ],
      "metadata": {
        "id": "3IYwjkRkJTIH"
      },
      "execution_count": null,
      "outputs": []
    },
    {
      "cell_type": "markdown",
      "source": [
        "### Fit ridge, lasso, and elastic net models\n"
      ],
      "metadata": {
        "id": "JMFL0ebV6nPt"
      }
    },
    {
      "cell_type": "code",
      "source": [
        "%%R\n",
        "# Fit final models\n",
        "ridge_model <- regularized_poisson(X, Y, offset, ridge_params$alpha, ridge_params$lambda)\n",
        "lasso_model <- regularized_poisson(X, Y, offset, lasso_params$alpha, lasso_params$lambda)\n",
        "elastic_net_model <- regularized_poisson(X, Y, offset, elastic_net_params$alpha, elastic_net_params$lambda)"
      ],
      "metadata": {
        "id": "_mCkuM_zaN0P"
      },
      "execution_count": null,
      "outputs": []
    },
    {
      "cell_type": "markdown",
      "source": [
        "### Evaluate Model Performance"
      ],
      "metadata": {
        "id": "uA7_RHDAfMXU"
      }
    },
    {
      "cell_type": "code",
      "source": [
        "%%\n",
        "# Evaluate Model Performance\n",
        "evaluate_model <- function(beta, X, Y, offset) {\n",
        "  eta <- X %*% beta + offset\n",
        "  mu <- exp(eta)\n",
        "  RMSE <- sqrt(mean((Y - mu)^2))\n",
        "  MAE <- mean(abs(Y - mu))\n",
        "  return(list(RMSE = RMSE, MAE = MAE))\n",
        "}\n",
        "\n",
        "ridge_perf <- evaluate_model(ridge_model, X, Y, offset)\n",
        "lasso_perf <- evaluate_model(lasso_model, X, Y, offset)\n",
        "elastic_net_perf <- evaluate_model(elastic_net_model, X, Y, offset)\n",
        "\n",
        "# Print Results\n",
        "cat(\"Performance Metrics:\\n\")\n",
        "print(list(\n",
        "  Ridge = ridge_perf,\n",
        "  Lasso = lasso_perf,\n",
        "  ElasticNet = elastic_net_perf\n",
        "))\n"
      ],
      "metadata": {
        "colab": {
          "base_uri": "https://localhost:8080/"
        },
        "id": "iVb16TVcfNPp",
        "outputId": "cb2fb5a4-c758-4b8c-a8d6-5041f5dfe1a0"
      },
      "execution_count": null,
      "outputs": [
        {
          "output_type": "stream",
          "name": "stderr",
          "text": [
            "UsageError: Cell magic `%%` not found.\n"
          ]
        }
      ]
    },
    {
      "cell_type": "markdown",
      "source": [
        "## Regularized Poisson Model in R\n",
        "\n",
        " We will use the `glmnet()` function from the {glmnet} package to fit a regularized Poisson regression model with an offset and four predictors. The regularization helps prevent overfitting and improves the model's generalization performance.\n"
      ],
      "metadata": {
        "id": "DP2PojQrJ64G"
      }
    },
    {
      "cell_type": "markdown",
      "source": [
        "### Install Required R Packages"
      ],
      "metadata": {
        "id": "21nWmKfu6EYb"
      }
    },
    {
      "cell_type": "code",
      "source": [
        "%%R\n",
        "packages <- c('tidyverse',\n",
        "     'plyr',\n",
        "\t\t 'rstatix',\n",
        "\t\t 'ggeffects',\n",
        "\t\t 'patchwork',\n",
        "\t\t 'Metrics',\n",
        "\t\t 'glmnet',\n",
        "\t\t 'ggpmisc'\n",
        "\n",
        "\t  \t)"
      ],
      "metadata": {
        "id": "Kcg8rT-b6EhB"
      },
      "execution_count": 3,
      "outputs": []
    },
    {
      "cell_type": "code",
      "source": [
        "%%R\n",
        "# Install missing packages\n",
        "new.packages <- packages[!(packages %in% installed.packages(lib='drive/My Drive/R/')[,\"Package\"])]\n",
        "if(length(new.packages)) install.packages(new.packages, lib='drive/My Drive/R/')"
      ],
      "metadata": {
        "id": "Ijudfn8-MVu0"
      },
      "execution_count": null,
      "outputs": []
    },
    {
      "cell_type": "code",
      "source": [
        "%%R\n",
        "# set library path\n",
        ".libPaths('drive/My Drive/R')\n",
        "# Verify installation\n",
        "cat(\"Installed packages:\\n\")\n",
        "print(sapply(packages, requireNamespace, quietly = TRUE))"
      ],
      "metadata": {
        "colab": {
          "base_uri": "https://localhost:8080/"
        },
        "id": "bjC4mtMqMWOu",
        "outputId": "1ae164f4-b919-43b8-d8cf-dc7e8ac43605"
      },
      "execution_count": 5,
      "outputs": [
        {
          "output_type": "stream",
          "name": "stdout",
          "text": [
            "Installed packages:\n"
          ]
        },
        {
          "output_type": "stream",
          "name": "stderr",
          "text": [
            "WARNING:rpy2.rinterface_lib.callbacks:R[write to console]: Registered S3 methods overwritten by 'ggpp':\n",
            "  method                  from   \n",
            "  heightDetails.titleGrob ggplot2\n",
            "  widthDetails.titleGrob  ggplot2\n",
            "\n"
          ]
        },
        {
          "output_type": "stream",
          "name": "stdout",
          "text": [
            "tidyverse      plyr   rstatix ggeffects patchwork   Metrics    glmnet   ggpmisc \n",
            "     TRUE      TRUE      TRUE      TRUE      TRUE      TRUE      TRUE      TRUE \n"
          ]
        }
      ]
    },
    {
      "cell_type": "markdown",
      "source": [
        "### Load R Packages\n"
      ],
      "metadata": {
        "id": "yEMNYbOCJ-vt"
      }
    },
    {
      "cell_type": "code",
      "source": [
        "%%R\n",
        "# set library path\n",
        ".libPaths('drive/My Drive/R')\n",
        "# Load packages with suppressed messages\n",
        "invisible(lapply(packages, function(pkg) {\n",
        "  suppressPackageStartupMessages(library(pkg, character.only = TRUE))\n",
        "}))\n",
        "# Check loaded packages\n",
        "cat(\"Successfully loaded packages:\\n\")\n",
        "print(search()[grepl(\"package:\", search())])# Check loaded packageswer)"
      ],
      "metadata": {
        "id": "iNo6x4B7KFPa",
        "colab": {
          "base_uri": "https://localhost:8080/"
        },
        "outputId": "471e7292-dbe1-4cba-bc1f-bbab95040541"
      },
      "execution_count": 6,
      "outputs": [
        {
          "output_type": "stream",
          "name": "stdout",
          "text": [
            "Successfully loaded packages:\n",
            " [1] \"package:ggpmisc\"   \"package:ggpp\"      \"package:glmnet\"   \n",
            " [4] \"package:Matrix\"    \"package:Metrics\"   \"package:patchwork\"\n",
            " [7] \"package:ggeffects\" \"package:rstatix\"   \"package:plyr\"     \n",
            "[10] \"package:lubridate\" \"package:forcats\"   \"package:stringr\"  \n",
            "[13] \"package:dplyr\"     \"package:purrr\"     \"package:readr\"    \n",
            "[16] \"package:tidyr\"     \"package:tibble\"    \"package:ggplot2\"  \n",
            "[19] \"package:tidyverse\" \"package:tools\"     \"package:stats\"    \n",
            "[22] \"package:graphics\"  \"package:grDevices\" \"package:utils\"    \n",
            "[25] \"package:datasets\"  \"package:methods\"   \"package:base\"     \n"
          ]
        }
      ]
    },
    {
      "cell_type": "markdown",
      "source": [
        "### Data\n",
        "\n",
        "The County-level age-adjusted number and rate of diabetes patients, prevalence of obesity, physical inactivity and [Food environment index](https://www.ers.usda.gov/data-products/food-environment-atlas.aspx) for the year 2016-2020 were obtained from United States [Diabetes Surveillance System (USDSS)](https://gis.cdc.gov/grasp/diabetes/diabetesatlas-surveillance.html).\n",
        "\n",
        "![alt text](http://drive.google.com/uc?export=view&id=1pNL0FF71fPQqfSffEMjHuIdGdiZdYVDs)\n",
        "\n",
        "Full data set is available for download from my [Dropbox](https://www.dropbox.com/scl/fi/ynrinqzj58f3x5mvc96as/county_data_2016_2020.csv?rlkey=zpy7qxrh6r4l01ct4hjxgcnds&dl=0) or from my [Github](https://github.com/zia207/r-colab/tree/main/Data/Regression_analysis) accounts.\n",
        "\n",
        "\n",
        "\n",
        "Dataset contains five years average (2016-2020) of following variables :\n",
        "\n",
        "1.  `Diabetes_count` -  Diabetes number per county ([Diabetes Surveillance System (USDSS))](https://gis.cdc.gov/grasp/diabetes/diabetesatlas-surveillance.html)\n",
        "\n",
        "2.  `Diabetes_per` - Diabetes number per county [(Diabetes Surveillance System (USDSS))](https://gis.cdc.gov/grasp/diabetes/diabetesatlas-surveillance.html)\n",
        "\n",
        "3. `Urban_Rural` - Urban Rural County (USDA)\n",
        "\n",
        "4. `PPO_total` - Total population per  county (US Census)\n",
        "\n",
        "5. `Obesity` - % obesity per county [(Behavioral Risk Factor Surveillance System)](https://www.cdc.gov/brfss/)  \n",
        "\n",
        "6. `Physical_Inactivity`: % adult access to exercise opportunities ([County Health Ranking](https://www.countyhealthrankings.org/health-data/methodology-and-sources/data-documentation))\n",
        "\n",
        "7. `SVI` - Level of social vulnerability in the county relative to other counties in the nation or within the state.ocial vulnerability refers to the potential negative effects on communities caused by external stresses on human health. The CDC/ATSDR Social vulnerability Index (SVI) ranks all US counties on 15 social factors, including poverty, lack of vehicle access, and crowded housing, and groups them into four related themes. ( [CDC/ATSDR Social Vulnerability Index (SVI)](https://www.atsdr.cdc.gov/placeandhealth/svi/interactive_map.html))\n",
        "\n",
        "8. `Food_Env_Index`: Measure of access to healthy food. The Food Environment Index ranges from a scale of 0 (worst) to 10 (best) and equally weights two indicators: 1) Limited access to healthy foods based on distance an individual lives from a grocery store or supermarket, locations for healthy food purchases in most communities; and 2) Food insecurity defined as the inability to access healthy food because of cost barriers.[County Health Ranking](https://www.countyhealthrankings.org/health-data/methodology-and-sources/data-documentation)"
      ],
      "metadata": {
        "id": "Gx5dxlOmLRaJ"
      }
    },
    {
      "cell_type": "markdown",
      "source": [
        "We will use `read_csv()` function of {readr} package to import data as a `tidy` data.\n"
      ],
      "metadata": {
        "id": "_RiIc01BRhCc"
      }
    },
    {
      "cell_type": "code",
      "source": [
        "%%R\n",
        "# load data\n",
        "mf<-read_csv(\"https://github.com/zia207/r-colab/raw/main/Data/Regression_analysis/county_data_2016_2020.csv\")\n",
        "# select variables\n",
        "df<-mf |>\n",
        "  dplyr::select(Diabetes_per,\n",
        "                POP_Total,\n",
        "                Obesity,\n",
        "                Physical_Inactivity,\n",
        "                Access_Excercise,\n",
        "                Food_Env_Index,\n",
        "                SVI,\n",
        "                Urban_Rural\n",
        "                ) |>\n",
        "  glimpse()\n",
        "# data processing\n",
        "df$Diabetes_per<-as.integer(df$Diabetes_per)\n",
        "df$Urban_Rural<-as.factor(df$Urban_Rural)"
      ],
      "metadata": {
        "colab": {
          "base_uri": "https://localhost:8080/"
        },
        "id": "qZcDWGTkRkG7",
        "outputId": "0e85ac90-6e84-4abc-c943-0b38d7ae3bfa"
      },
      "execution_count": null,
      "outputs": [
        {
          "output_type": "stream",
          "name": "stdout",
          "text": [
            "Rows: 3107 Columns: 15\n",
            "── Column specification ────────────────────────────────────────────────────────\n",
            "Delimiter: \",\"\n",
            "chr  (3): State, County, Urban_Rural\n",
            "dbl (12): FIPS, X, Y, POP_Total, Diabetes_count, Diabetes_per, Obesity, Acce...\n",
            "\n",
            "ℹ Use `spec()` to retrieve the full column specification for this data.\n",
            "ℹ Specify the column types or set `show_col_types = FALSE` to quiet this message.\n",
            "Rows: 3,107\n",
            "Columns: 8\n",
            "$ Diabetes_per        <dbl> 9.24, 8.48, 11.72, 10.08, 10.26, 9.06, 11.80, 13.2…\n",
            "$ POP_Total           <dbl> 55707.0, 218346.8, 25078.2, 22448.2, 57852.4, 1017…\n",
            "$ Obesity             <dbl> 29.22, 28.94, 29.34, 29.44, 30.10, 19.86, 30.38, 3…\n",
            "$ Physical_Inactivity <dbl> 26.42, 22.86, 23.72, 25.38, 24.76, 18.58, 28.66, 2…\n",
            "$ Access_Excercise    <dbl> 70.8, 72.2, 49.8, 30.6, 24.6, 19.6, 48.0, 51.4, 62…\n",
            "$ Food_Env_Index      <dbl> 6.9, 7.7, 5.5, 7.6, 8.1, 4.3, 6.5, 6.3, 6.4, 7.7, …\n",
            "$ SVI                 <dbl> 0.5130, 0.3103, 0.9927, 0.8078, 0.5137, 0.8310, 0.…\n",
            "$ Urban_Rural         <chr> \"Urban\", \"Urban\", \"Rural\", \"Urban\", \"Urban\", \"Rura…\n"
          ]
        }
      ]
    },
    {
      "cell_type": "markdown",
      "source": [
        "#### Split Data\n",
        "\n",
        "We will use the `ddply()` function of the {plyr}  package to split soil carbon datainto homogeneous subgroups using **stratified random sampling**. This method involves dividing the population into strata and taking random samples from each stratum to ensure that each subgroup is proportionally represented in the sample. The goal is to obtain a representative sample of the population by adequately representing each stratum."
      ],
      "metadata": {
        "id": "s11HTce1VN9V"
      }
    },
    {
      "cell_type": "code",
      "source": [
        "%%R\n",
        "seeds = 11076\n",
        "tr_prop = 0.70\n",
        "\n",
        "df$log_POP_Total<-log(df$POP_Total)\n",
        "# training data (70% data)\n",
        "train= ddply(df,.(Urban_Rural),\n",
        "                 function(., seed) { set.seed(seed); .[sample(1:nrow(.), trunc(nrow(.) * tr_prop)), ] }, seed = 101)\n",
        "test = ddply(df, .(Urban_Rural),\n",
        "            function(., seed) { set.seed(seed); .[-sample(1:nrow(.), trunc(nrow(.) * tr_prop)), ] }, seed = 101)"
      ],
      "metadata": {
        "id": "ie38z9tHVOqK"
      },
      "execution_count": null,
      "outputs": []
    },
    {
      "cell_type": "markdown",
      "source": [
        "#### Create x and y\n",
        "\n",
        "You need to create two objects:\n",
        "\n",
        "-   `y` for storing the outcome variable\n",
        "-   `x` for holding the predictor variables. This should be created using the function model.matrix() allowing to automatically transform any qualitative variables (if any) into dummy variables, which is important because `glmnet()` can only take numerical, quantitative inputs. After creating the model matrix, we remove the intercept component at index = 1."
      ],
      "metadata": {
        "id": "Qcn5LUw1fyGG"
      }
    },
    {
      "cell_type": "code",
      "source": [
        "%%R\n",
        "df.train<-train[,-8]\n",
        "# Predictor variables\n",
        "x.train <- model.matrix(Diabetes_per ~., df.train)[,-1]\n",
        "# Outcome variable\n",
        "y.train <-df.train$Diabetes_per\n",
        "# offset\n",
        "m_offset <- df.train$log_POP_Total"
      ],
      "metadata": {
        "id": "-rnAkl1hf1mH"
      },
      "execution_count": null,
      "outputs": []
    },
    {
      "cell_type": "markdown",
      "source": [
        "### Ridge Regression"
      ],
      "metadata": {
        "id": "q26DO33oVdhm"
      }
    },
    {
      "cell_type": "markdown",
      "source": [
        "#### Cross-validation for the best lambda\n",
        "\n",
        "Now we can apply `cv.glmnet()` function for cross-validation to choose the best lambda (regularization parameter). For example, suppose we designate $α$=0 for ridge regression and specify `nlambda` as 200. This implies that the model fit will be calculated solely for 200 $λ$ values.\n",
        "\n",
        "We specify `family = poisson\"` to indicate that we want to fit a Poisson regression model. Here we model the diabetes rate per county, The `offset` variable, here is log population per county need to be defined in model. This offset variable adjusts for the differing number of diabetes patients in different population levels per county."
      ],
      "metadata": {
        "id": "QEuWzOJ2gA3j"
      }
    },
    {
      "cell_type": "code",
      "source": [
        "%%R\n",
        "# cross validation\n",
        "ridge.cv <- cv.glmnet(x= x.train,\n",
        "                       y= y.train,\n",
        "                       type.measure=\"deviance\",\n",
        "                       nfold = 5,\n",
        "                       alpha=0,\n",
        "                       offset = m_offset,\n",
        "                       family = \"poisson\",\n",
        "                       nlambda=200,  standardize = TRUE)"
      ],
      "metadata": {
        "id": "4-7BeRHlVeOO"
      },
      "execution_count": null,
      "outputs": []
    },
    {
      "cell_type": "markdown",
      "source": [
        "Printing the resulting object gives some basic information on the cross-validation performed:"
      ],
      "metadata": {
        "id": "B-fgPp6zVjvc"
      }
    },
    {
      "cell_type": "code",
      "source": [
        "%%R\n",
        "print(ridge.cv)"
      ],
      "metadata": {
        "colab": {
          "base_uri": "https://localhost:8080/"
        },
        "id": "9NjONJgyVoS3",
        "outputId": "47d12252-7adf-424d-ce0d-72ae418a7f76"
      },
      "execution_count": null,
      "outputs": [
        {
          "output_type": "stream",
          "name": "stdout",
          "text": [
            "\n",
            "Call:  cv.glmnet(x = x.train, y = y.train, offset = m_offset, type.measure = \"deviance\",      nfolds = 5, alpha = 0, family = \"poisson\", nlambda = 200,      standardize = TRUE) \n",
            "\n",
            "Measure: Poisson Deviance \n",
            "\n",
            "    Lambda Index Measure     SE Nonzero\n",
            "min  2.716   200   1.319 0.1207       7\n",
            "1se  3.120   197   1.434 0.1280       7\n"
          ]
        }
      ]
    },
    {
      "cell_type": "markdown",
      "source": [
        "We can plot `ridge.cv` object to see how each tested lambda value performed:"
      ],
      "metadata": {
        "id": "V6Ker-GvgNJF"
      }
    },
    {
      "cell_type": "code",
      "source": [
        "%%R -w 500 -h 400 -u px\n",
        "plot(ridge.cv)"
      ],
      "metadata": {
        "colab": {
          "base_uri": "https://localhost:8080/",
          "height": 417
        },
        "id": "8TkfOTYHVyyZ",
        "outputId": "a287281a-f548-428b-d31a-987d08f2ac7a"
      },
      "execution_count": null,
      "outputs": [
        {
          "output_type": "display_data",
          "data": {
            "image/png": "[encoded data removed]"
          },
          "metadata": {}
        }
      ]
    },
    {
      "cell_type": "markdown",
      "source": [
        "The plot shows the cross-validation error based on the logarithm of lambda. The dashed vertical line on the left indicates that the optimal logarithm of lambda is around -2, which minimizes the prediction error. This lambda value will provide the most accurate model. The exact value of lambda can be viewed as follow:"
      ],
      "metadata": {
        "id": "YDWH-nBNXLXV"
      }
    },
    {
      "cell_type": "code",
      "source": [
        "%%R\n",
        "ridge.cv$lambda.min"
      ],
      "metadata": {
        "colab": {
          "base_uri": "https://localhost:8080/"
        },
        "id": "Tc6adI3XXN-z",
        "outputId": "e0568a57-643b-49be-e239-1024743b200e"
      },
      "execution_count": null,
      "outputs": [
        {
          "output_type": "stream",
          "name": "stdout",
          "text": [
            "[1] 2.715607\n"
          ]
        }
      ]
    },
    {
      "cell_type": "markdown",
      "source": [
        "Generally, the purpose of regularization is to balance accuracy and simplicity. This means, a model with the smallest number of predictors that also gives a good accuracy. To this end, the function `cv.glmnet()` finds also the value of lambda that gives the simplest model but also lies within one standard error of the optimal value of lambda. This value is called `lambda.1se`."
      ],
      "metadata": {
        "id": "Vt86aCCQXTxe"
      }
    },
    {
      "cell_type": "markdown",
      "source": [
        "\n",
        "#### Fit ridge regression\n",
        "\n",
        "Now Fit the final model with the best \"lambda\":\n"
      ],
      "metadata": {
        "id": "2XaOlJ6lgj7D"
      }
    },
    {
      "cell_type": "code",
      "source": [
        "%%R\n",
        "# fit ridge regression\n",
        "ridge.fit <-  glmnet(x= x.train,\n",
        "                       y= y.train,\n",
        "                       alpha=0,\n",
        "                       lambda = ridge.cv$lambda.1se,\n",
        "                       ffset = m_offset,\n",
        "                       family = \"poisson\",\n",
        "                       nlambda=200,  standardize = TRUE)"
      ],
      "metadata": {
        "id": "AugCEyg2XWzn"
      },
      "execution_count": null,
      "outputs": []
    },
    {
      "cell_type": "code",
      "source": [
        "%%R\n",
        "# Display regression coefficients\n",
        "coef(ridge.fit, s=1 )"
      ],
      "metadata": {
        "colab": {
          "base_uri": "https://localhost:8080/"
        },
        "id": "ONKoor9IXdt7",
        "outputId": "7e0d7122-6ed5-45b2-989a-ace401f99657"
      },
      "execution_count": null,
      "outputs": [
        {
          "output_type": "stream",
          "name": "stdout",
          "text": [
            "8 x 1 sparse Matrix of class \"dgCMatrix\"\n",
            "                               s1\n",
            "(Intercept)          1.429487e+00\n",
            "POP_Total           -1.546541e-10\n",
            "Obesity              1.121033e-02\n",
            "Physical_Inactivity  1.479587e-02\n",
            "Access_Excercise    -5.632992e-04\n",
            "Food_Env_Index      -2.155336e-02\n",
            "SVI                  1.221946e-01\n",
            "log_POP_Total        1.578883e-02\n"
          ]
        }
      ]
    },
    {
      "cell_type": "markdown",
      "source": [
        "#### Prediction at test data\n",
        "\n",
        "The `predict()` function will be used to predict the number of diabetes patients the test counties. This will help to validate the accuracy of the these regression model."
      ],
      "metadata": {
        "id": "FfqOkgfMXkKg"
      }
    },
    {
      "cell_type": "code",
      "source": [
        "%%R\n",
        "df.test<-train[,-8]\n",
        "# Make predictions on the test data\n",
        "x.test <- model.matrix(Diabetes_per ~., df.train)[,-1]\n",
        "# Outcome variable\n",
        "y.test <-df.test$Diabetes_per\n",
        "\n",
        "ridge.Diabetes<-ridge.fit  |>\n",
        "  predict(x.test, type=\"response\")  |>  as.vector()\n",
        "ridge.pred<-as.data.frame(cbind(\"Obs_Diabetes\" = y.test, \"Pred_Diabetes \"=ridge.Diabetes))\n",
        "ridge.pred$Obs_Diabetes<-as.numeric(ridge.pred$Obs_Diabetes)\n",
        "ridge.pred$Pred_Diabetes<-as.numeric(ridge.pred$Pred_Diabetes)\n",
        "glimpse(ridge.pred)"
      ],
      "metadata": {
        "colab": {
          "base_uri": "https://localhost:8080/"
        },
        "id": "mXjmOj6_Xk_7",
        "outputId": "f3017065-7169-4d76-e508-ab9c6d55cf0e"
      },
      "execution_count": null,
      "outputs": [
        {
          "output_type": "stream",
          "name": "stdout",
          "text": [
            "Rows: 2,173\n",
            "Columns: 3\n",
            "$ Obs_Diabetes     <dbl> 8, 6, 8, 12, 9, 7, 7, 6, 8, 7, 8, 7, 8, 6, 8, 6, 7, 1…\n",
            "$ `Pred_Diabetes ` <dbl> 7.042856, 6.080356, 7.513611, 10.893532, 8.333742, 6.…\n",
            "$ Pred_Diabetes    <dbl> 7.042856, 6.080356, 7.513611, 10.893532, 8.333742, 6.…\n"
          ]
        }
      ]
    },
    {
      "cell_type": "markdown",
      "source": [
        "#### Model performance metrics"
      ],
      "metadata": {
        "id": "7rqWdL_ag7xB"
      }
    },
    {
      "cell_type": "code",
      "source": [
        "%%R\n",
        "calculate_metrics <- function(observed, predicted) {\n",
        "  # Ensure inputs are numeric vectors\n",
        "  observed <- as.numeric(observed)\n",
        "  predicted <- as.numeric(predicted)\n",
        "\n",
        "  # Compute metrics\n",
        "  mse <- mean((observed - predicted)^2)\n",
        "  rmse <- sqrt(mse)\n",
        "  mae <- mean(abs(observed - predicted))\n",
        "  medae <- median(abs(observed - predicted))\n",
        "  r2 <- 1 - sum((observed - predicted)^2) / sum((observed - mean(observed))^2)\n",
        "\n",
        "  # Return results as a named list\n",
        "  metrics <- list(\n",
        "    RMSE = rmse,\n",
        "    MAE = mae,\n",
        "    MSE = mse,\n",
        "    MedAE = medae,\n",
        "    R2 = r2\n",
        "  )\n",
        "  return(metrics)\n",
        "}"
      ],
      "metadata": {
        "id": "Kq0jmatNX4nj"
      },
      "execution_count": null,
      "outputs": []
    },
    {
      "cell_type": "code",
      "source": [
        "%%R\n",
        "calculate_metrics(ridge.pred$Obs_Diabetes, ridge.pred$Pred_Diabetes)"
      ],
      "metadata": {
        "colab": {
          "base_uri": "https://localhost:8080/"
        },
        "id": "lMXJOotqYDmQ",
        "outputId": "a0524e72-d272-4f16-aacf-17d3a6c03de0"
      },
      "execution_count": null,
      "outputs": [
        {
          "output_type": "stream",
          "name": "stdout",
          "text": [
            "$RMSE\n",
            "[1] 0.870645\n",
            "\n",
            "$MAE\n",
            "[1] 0.680785\n",
            "\n",
            "$MSE\n",
            "[1] 0.7580227\n",
            "\n",
            "$MedAE\n",
            "[1] 0.5511891\n",
            "\n",
            "$R2\n",
            "[1] 0.7097025\n",
            "\n"
          ]
        }
      ]
    },
    {
      "cell_type": "markdown",
      "source": [
        "#### 1:1 Plot of Predicted vs Observed values\n",
        "\n",
        "We can plot observed and predicted values with fitted regression line with ggplot2"
      ],
      "metadata": {
        "id": "vzt_qAO5YId-"
      }
    },
    {
      "cell_type": "code",
      "source": [
        "%%R -h 400 -w 500 -u px\n",
        "formula<-y~x\n",
        "# Lasso regression\n",
        "p1=ggplot(ridge.pred, aes(Obs_Diabetes, Pred_Diabetes)) +\n",
        "  geom_point() +\n",
        "  geom_smooth(method = \"lm\")+\n",
        "  stat_poly_eq(use_label(c(\"eq\", \"adj.R2\")), formula = formula) +\n",
        "  ggtitle(\"Ridge Poisson Regression \") +\n",
        "  xlab(\"Observed\") + ylab(\"Predicted\") +\n",
        "  scale_x_continuous(limits=c(0,18), breaks=seq(0, 18, 2))+\n",
        "  scale_y_continuous(limits=c(0,18), breaks=seq(0, 18, 2)) +\n",
        "  theme(\n",
        "    panel.background = element_rect(fill = \"grey95\",colour = \"gray75\",size = 0.5, linetype = \"solid\"),\n",
        "    axis.line = element_line(colour = \"grey\"),\n",
        "    plot.title = element_text(size = 14, hjust = 0.5),\n",
        "    axis.title.x = element_text(size = 14),\n",
        "    axis.title.y = element_text(size = 14),\n",
        "    axis.text.x=element_text(size=13, colour=\"black\"),\n",
        "    axis.text.y=element_text(size=13,angle = 90,vjust = 0.5, hjust=0.5, colour='black'))\n",
        "print(p1)"
      ],
      "metadata": {
        "colab": {
          "base_uri": "https://localhost:8080/",
          "height": 434
        },
        "id": "MSkl4DkeYQYN",
        "outputId": "ed2bac61-d5f0-493b-d621-4541fd62e901"
      },
      "execution_count": null,
      "outputs": [
        {
          "output_type": "stream",
          "name": "stdout",
          "text": [
            "`geom_smooth()` using formula = 'y ~ x'\n"
          ]
        },
        {
          "output_type": "display_data",
          "data": {
            "image/png": "[encoded data removed]"
          },
          "metadata": {}
        }
      ]
    },
    {
      "cell_type": "markdown",
      "source": [
        "### Lasso Regression\n"
      ],
      "metadata": {
        "id": "Rg2VpacDYk2R"
      }
    },
    {
      "cell_type": "markdown",
      "source": [
        "#### Cross-validation for the best lambda\n",
        "\n",
        "Now we can apply `cv.glmnet()` function for cross-validation to choose the best lambda (regularization parameter). For example, suppose we designate $α$=1 for lasso regression and specify `nlambda` as 200. This implies that the model fit will be calculated solely for 200 $λ$ values.\n",
        "\n",
        "We specify `family = poisson\"` to indicate that we want to fit a Poisson regression model. Here we model the diabetes rate per county, The `offset` variable, here is log population per county need to be defined in model. This offset variable adjusts for the differing number of diabetes patients in different population levels per county."
      ],
      "metadata": {
        "id": "ybS88oichxLt"
      }
    },
    {
      "cell_type": "code",
      "source": [
        "%%R\n",
        "# cross validation\n",
        "lasso.cv <- cv.glmnet(x= x.train,\n",
        "                       y= y.train,\n",
        "                       type.measure=\"deviance\",\n",
        "                       nfold = 5,\n",
        "                       alpha=1,\n",
        "                       offset = m_offset,\n",
        "                       family = \"poisson\",\n",
        "                       nlambda=200, standardize = TRUE)"
      ],
      "metadata": {
        "id": "p2To91ceYnwP"
      },
      "execution_count": null,
      "outputs": []
    },
    {
      "cell_type": "markdown",
      "source": [
        "Printing the resulting object gives some basic information on the cross-validation performed:"
      ],
      "metadata": {
        "id": "i7r5tqTRYuZ_"
      }
    },
    {
      "cell_type": "code",
      "source": [
        "%%R\n",
        "print(lasso.cv)"
      ],
      "metadata": {
        "colab": {
          "base_uri": "https://localhost:8080/"
        },
        "id": "ER1hbXwXYvK6",
        "outputId": "795b54e7-9e9f-4661-b313-75403fd0fa36"
      },
      "execution_count": null,
      "outputs": [
        {
          "output_type": "stream",
          "name": "stdout",
          "text": [
            "\n",
            "Call:  cv.glmnet(x = x.train, y = y.train, offset = m_offset, type.measure = \"deviance\",      nfolds = 5, alpha = 1, family = \"poisson\", nlambda = 200,      standardize = TRUE) \n",
            "\n",
            "Measure: Poisson Deviance \n",
            "\n",
            "     Lambda Index Measure       SE Nonzero\n",
            "min 0.08738   125 0.08975 0.004334       7\n",
            "1se 0.12081   118 0.09365 0.004859       7\n"
          ]
        }
      ]
    },
    {
      "cell_type": "markdown",
      "source": [
        "We can plot `lasso.cv` object to see how each tested lambda value performed:"
      ],
      "metadata": {
        "id": "u86r0j7QZAUK"
      }
    },
    {
      "cell_type": "code",
      "source": [
        "%%R -h 400 -w 500 -u px\n",
        "plot(lasso.cv)"
      ],
      "metadata": {
        "colab": {
          "base_uri": "https://localhost:8080/",
          "height": 417
        },
        "id": "47GglusiZHbU",
        "outputId": "e6d283b5-89b1-42a9-ea81-b30cb2ade9bb"
      },
      "execution_count": null,
      "outputs": [
        {
          "output_type": "display_data",
          "data": {
            "image/png": "[encoded data removed]"
          },
          "metadata": {}
        }
      ]
    },
    {
      "cell_type": "code",
      "source": [
        "%%R\n",
        "lasso.cv$lambda.min"
      ],
      "metadata": {
        "colab": {
          "base_uri": "https://localhost:8080/"
        },
        "id": "qZeO0GHBiKW2",
        "outputId": "ce04b382-20cf-495a-e040-3f0e76d752a1"
      },
      "execution_count": null,
      "outputs": [
        {
          "output_type": "stream",
          "name": "stdout",
          "text": [
            "[1] 0.0873785\n"
          ]
        }
      ]
    },
    {
      "cell_type": "markdown",
      "source": [
        "Generally, the purpose of regularization is to balance accuracy and simplicity. This means, a model with the smallest number of predictors that also gives a good accuracy. To this end, the function `cv.glmnet()` finds also the value of lambda that gives the simplest model but also lies within one standard error of the optimal value of lambda. This value is called `lasso.1se`."
      ],
      "metadata": {
        "id": "EX4j8g8lZQsh"
      }
    },
    {
      "cell_type": "markdown",
      "source": [
        "#### Fit lasso regression\n",
        "\n",
        "Now Fit the final model with the best \"lambda\":"
      ],
      "metadata": {
        "id": "x9gO63FniTCm"
      }
    },
    {
      "cell_type": "code",
      "source": [
        "%%R\n",
        "# fit ridge regression\n",
        "lasso.fit <-  glmnet(x= x.train,\n",
        "                       y= y.train,\n",
        "                       alpha=1,\n",
        "                       lambda = lasso.cv$lambda.1se,\n",
        "                       ffset = m_offset,\n",
        "                       family = \"poisson\",\n",
        "                       nlambda=200,\n",
        "                       standardize = TRUE)\n"
      ],
      "metadata": {
        "id": "qvhkoIjEZRbZ"
      },
      "execution_count": null,
      "outputs": []
    },
    {
      "cell_type": "code",
      "source": [
        "%%R\n",
        "# Display regression coefficients\n",
        "coef(lasso.fit, s=1 )"
      ],
      "metadata": {
        "colab": {
          "base_uri": "https://localhost:8080/"
        },
        "id": "HgV6PAfpiaIo",
        "outputId": "c396973f-a940-4a4c-cdd8-62596d7348fb"
      },
      "execution_count": null,
      "outputs": [
        {
          "output_type": "stream",
          "name": "stdout",
          "text": [
            "8 x 1 sparse Matrix of class \"dgCMatrix\"\n",
            "                              s1\n",
            "(Intercept)          1.357472719\n",
            "POP_Total            .          \n",
            "Obesity              0.010708288\n",
            "Physical_Inactivity  0.018882369\n",
            "Access_Excercise     .          \n",
            "Food_Env_Index      -0.007848856\n",
            "SVI                  0.143520688\n",
            "log_POP_Total        0.001482070\n"
          ]
        }
      ]
    },
    {
      "cell_type": "markdown",
      "source": [
        "#### Prediction at test data\n",
        "\n",
        "The `predict()` function will be used to predict the number of diabetes patients the test counties. This will help to validate the accuracy of the these regression model."
      ],
      "metadata": {
        "id": "3rOBJlrIilFl"
      }
    },
    {
      "cell_type": "code",
      "source": [
        "%%R\n",
        "df.test<-train[,-8]\n",
        "# Make predictions on the test data\n",
        "x.test <- model.matrix(Diabetes_per ~., df.train)[,-1]\n",
        "# Outcome variable\n",
        "y.test <-df.test$Diabetes_per\n",
        "\n",
        "lasso.Diabetes<-lasso.fit  |>\n",
        "  predict(x.test, type=\"response\")  |>  as.vector()\n",
        "\n",
        "lasso.pred<-as.data.frame(cbind(\"Obs_Diabetes\" = y.test, \"Pred_Diabetes \"=lasso.Diabetes))\n",
        "lasso.pred$Obs_Diabetes<-as.numeric(lasso.pred$Obs_Diabetes)\n",
        "lasso.pred$Pred_Diabetes<-as.numeric(lasso.pred$Pred_Diabetes)\n",
        "glimpse(ridge.pred)"
      ],
      "metadata": {
        "colab": {
          "base_uri": "https://localhost:8080/"
        },
        "id": "X7TjM8htinjU",
        "outputId": "2ea5eabe-e326-4cc6-d2ee-c124c7f5dbfa"
      },
      "execution_count": null,
      "outputs": [
        {
          "output_type": "stream",
          "name": "stdout",
          "text": [
            "Rows: 2,173\n",
            "Columns: 3\n",
            "$ Obs_Diabetes     <dbl> 8, 6, 8, 12, 9, 7, 7, 6, 8, 7, 8, 7, 8, 6, 8, 6, 7, 1…\n",
            "$ `Pred_Diabetes ` <dbl> 7.042856, 6.080356, 7.513611, 10.893532, 8.333742, 6.…\n",
            "$ Pred_Diabetes    <dbl> 7.042856, 6.080356, 7.513611, 10.893532, 8.333742, 6.…\n"
          ]
        }
      ]
    },
    {
      "cell_type": "code",
      "source": [
        "%%R\n",
        "# Model performance metrics\n",
        "calculate_metrics(lasso.pred$Obs_Diabetes, lasso.pred$Pred_Diabetes)"
      ],
      "metadata": {
        "colab": {
          "base_uri": "https://localhost:8080/"
        },
        "id": "U9jT4ANCirqB",
        "outputId": "ad42ae17-514d-435e-f91e-819d33d034cf"
      },
      "execution_count": null,
      "outputs": [
        {
          "output_type": "stream",
          "name": "stdout",
          "text": [
            "$RMSE\n",
            "[1] 0.8801197\n",
            "\n",
            "$MAE\n",
            "[1] 0.687431\n",
            "\n",
            "$MSE\n",
            "[1] 0.7746107\n",
            "\n",
            "$MedAE\n",
            "[1] 0.5542317\n",
            "\n",
            "$R2\n",
            "[1] 0.7033498\n",
            "\n"
          ]
        }
      ]
    },
    {
      "cell_type": "markdown",
      "source": [
        "\n",
        "#### 1:1 Plot of Predicted vs Observed values\n",
        "\n",
        "We can plot observed and predicted values with fitted regression line with ggplot2"
      ],
      "metadata": {
        "id": "TzQLnPJKivdQ"
      }
    },
    {
      "cell_type": "code",
      "source": [
        "%%R -w 500 -h 400 -u px\n",
        "formula<-y~x\n",
        "# Lasso regression\n",
        "p2=ggplot(lasso.pred, aes(Obs_Diabetes, Pred_Diabetes)) +\n",
        "  geom_point() +\n",
        "  geom_smooth(method = \"lm\")+\n",
        "  stat_poly_eq(use_label(c(\"eq\", \"adj.R2\")), formula = formula) +\n",
        "  ggtitle(\"Lasso Poisson Regression \") +\n",
        "  xlab(\"Observed\") + ylab(\"Predicted\") +\n",
        "  scale_x_continuous(limits=c(0,18), breaks=seq(0, 18, 2))+\n",
        "  scale_y_continuous(limits=c(0,18), breaks=seq(0, 18, 2)) +\n",
        "  theme(\n",
        "    panel.background = element_rect(fill = \"grey95\",colour = \"gray75\",size = 0.5, linetype = \"solid\"),\n",
        "    axis.line = element_line(colour = \"grey\"),\n",
        "    plot.title = element_text(size = 14, hjust = 0.5),\n",
        "    axis.title.x = element_text(size = 14),\n",
        "    axis.title.y = element_text(size = 14),\n",
        "    axis.text.x=element_text(size=13, colour=\"black\"),\n",
        "    axis.text.y=element_text(size=13,angle = 90,vjust = 0.5, hjust=0.5, colour='black'))\n",
        "print(p2)"
      ],
      "metadata": {
        "colab": {
          "base_uri": "https://localhost:8080/",
          "height": 434
        },
        "id": "lDw_2U_EiwM7",
        "outputId": "d92074d6-8fc1-4c93-bf95-174981e58b40"
      },
      "execution_count": null,
      "outputs": [
        {
          "output_type": "stream",
          "name": "stdout",
          "text": [
            "`geom_smooth()` using formula = 'y ~ x'\n"
          ]
        },
        {
          "output_type": "display_data",
          "data": {
            "image/png": "[encoded data removed]"
          },
          "metadata": {}
        }
      ]
    },
    {
      "cell_type": "markdown",
      "source": [
        "### Elastic Net Regression\n",
        "\n",
        "Elastic Net regression is a combination of L1 (LASSO) and L2 (Ridge) regularization. It provides a balance between feature selection and coefficient shrinkage. The {glmnet} package in R provides efficient functions for fitting Elastic Net regression models."
      ],
      "metadata": {
        "id": "BbGnNLlti4P-"
      }
    },
    {
      "cell_type": "markdown",
      "source": [
        "#### Cross Validation of the best Elastic Net regression\n",
        "\n",
        "We can set up our model very similarly to our ridge function. We simply need to change the `alpha`argument to a value between 0 and 1 and do K-fold cross-validation:"
      ],
      "metadata": {
        "id": "FDPuwajIi_s1"
      }
    },
    {
      "cell_type": "code",
      "source": [
        "%%R\n",
        "# Define alpha values for Lasso, Ridge, and Elastic Net\n",
        "alpha_values <- seq(0, 1, by = 0.1)\n",
        "\n",
        "# Lambda will be generated automatically, but you can also define it manually:\n",
        "lambda_values <- 10^seq(-4, 1, length.out = 100) # Logarithmic scale\n",
        "\n",
        "# Cross-validation\n",
        "results <- list()\n",
        "for (alpha in alpha_values) {\n",
        "  cv_model <- cv.glmnet(\n",
        "    x = x.train,\n",
        "    y = y.train,\n",
        "    alpha = alpha,\n",
        "    lambda = lambda_values,\n",
        "    nfolds = 5, # 5-fold cross-validation\n",
        "    standardize = TRUE, # Standardizes the predictors by default\n",
        "    offset = m_offset,\n",
        "    family = \"poisson\"\n",
        "  )\n",
        "\n",
        "  # Store results\n",
        "  results[[paste(\"alpha=\", alpha)]] <- list(\n",
        "    alpha = alpha,\n",
        "    best_lambda = cv_model$lambda.min,\n",
        "    cv_model = cv_model\n",
        "  )\n",
        "}\n",
        "\n",
        "best_result <- NULL\n",
        "min_mse <- Inf\n",
        "\n",
        "for (res in results) {\n",
        "  mse <- min(res$cv_model$cvm) # Mean squared error\n",
        "  if (mse < min_mse) {\n",
        "    min_mse <- mse\n",
        "    best_result <- res\n",
        "  }\n",
        "}\n",
        "\n",
        "# Best model\n",
        "cat(\"Best alpha:\", best_result$alpha, \"\\n\")\n",
        "cat(\"Best lambda:\", best_result$best_lambda, \"\\n\")"
      ],
      "metadata": {
        "colab": {
          "base_uri": "https://localhost:8080/"
        },
        "id": "VDOwfbtAjAea",
        "outputId": "9146797e-d89e-4a11-c193-7a8763b9a923"
      },
      "execution_count": null,
      "outputs": [
        {
          "output_type": "stream",
          "name": "stdout",
          "text": [
            "Best alpha: 0.6 \n",
            "Best lambda: 1e-04 \n"
          ]
        }
      ]
    },
    {
      "cell_type": "markdown",
      "source": [
        "#### Fit Elastic Net regression"
      ],
      "metadata": {
        "id": "uD0tuTgJjGx9"
      }
    },
    {
      "cell_type": "code",
      "source": [
        "%%R\n",
        "enet.fit  <- glmnet(\n",
        "  x = x.train,\n",
        "  y = y.train,\n",
        "  alpha = best_result$alpha,\n",
        "  lambda = best_result$best_lambda,\n",
        "  standardize = TRUE,\n",
        "  family = \"poisson\",\n",
        ")"
      ],
      "metadata": {
        "id": "UFKbY4sgjHkT"
      },
      "execution_count": null,
      "outputs": []
    },
    {
      "cell_type": "markdown",
      "source": [
        "#### Prediction at Test Data\n",
        "\n",
        "Now, we will test this model on our test dataset by calculating the model-predicted values for the test dataset"
      ],
      "metadata": {
        "id": "vGJVwiIojNFe"
      }
    },
    {
      "cell_type": "code",
      "source": [
        "%%R\n",
        "df.test<-train[,-8]\n",
        "# Make predictions on the test data\n",
        "x.test <- model.matrix(Diabetes_per ~., df.train)[,-1]\n",
        "# Outcome variable\n",
        "y.test <-df.test$Diabetes_per\n",
        "\n",
        "enet.Diabetes<-enet.fit   |>\n",
        "  predict(x.test,  type=\"response\")  |>  as.vector()\n",
        "\n",
        "enet.pred<-as.data.frame(cbind(\"Obs_Diabetes\" = y.test, \"Pred_Diabetes \"=enet.Diabetes))\n",
        "enet.pred$Obs_Diabetes<-as.numeric(enet.pred$Obs_Diabetes)\n",
        "enet.pred$Pred_Diabetes<-as.numeric(enet.pred$Pred_Diabetes)\n",
        "glimpse(enet.pred)"
      ],
      "metadata": {
        "colab": {
          "base_uri": "https://localhost:8080/"
        },
        "id": "EdsYn8i8jPIq",
        "outputId": "fc1096b5-0a3b-4257-d973-988acff9d23f"
      },
      "execution_count": null,
      "outputs": [
        {
          "output_type": "stream",
          "name": "stdout",
          "text": [
            "Rows: 2,173\n",
            "Columns: 3\n",
            "$ Obs_Diabetes     <dbl> 8, 6, 8, 12, 9, 7, 7, 6, 8, 7, 8, 7, 8, 6, 8, 6, 7, 1…\n",
            "$ `Pred_Diabetes ` <dbl> 6.782780, 5.763534, 7.354667, 11.531311, 8.274558, 6.…\n",
            "$ Pred_Diabetes    <dbl> 6.782780, 5.763534, 7.354667, 11.531311, 8.274558, 6.…\n"
          ]
        }
      ]
    },
    {
      "cell_type": "code",
      "source": [
        "%%R\n",
        "calculate_metrics(enet.pred$Obs_Diabetes, enet.pred$Pred_Diabetes)"
      ],
      "metadata": {
        "colab": {
          "base_uri": "https://localhost:8080/"
        },
        "id": "HQrro1fajSwx",
        "outputId": "a116648c-eb96-42ac-ce30-925e98f1ab70"
      },
      "execution_count": null,
      "outputs": [
        {
          "output_type": "stream",
          "name": "stdout",
          "text": [
            "$RMSE\n",
            "[1] 0.8381801\n",
            "\n",
            "$MAE\n",
            "[1] 0.6603934\n",
            "\n",
            "$MSE\n",
            "[1] 0.7025458\n",
            "\n",
            "$MedAE\n",
            "[1] 0.5479883\n",
            "\n",
            "$R2\n",
            "[1] 0.7309483\n",
            "\n"
          ]
        }
      ]
    },
    {
      "cell_type": "markdown",
      "source": [
        "#### 1:1 Plot of Predicted vs Observed values\n",
        "\n",
        "We can plot observed and predicted values with fitted regression line with ggplot2"
      ],
      "metadata": {
        "id": "btO6TXDujXA6"
      }
    },
    {
      "cell_type": "code",
      "source": [
        "%%R -w 500 -h 450 -u px\n",
        "formula<-y~x\n",
        "# Esatic Net regression\n",
        "p3=ggplot(enet.pred, aes(Obs_Diabetes, Pred_Diabetes)) +\n",
        "  geom_point() +\n",
        "  geom_smooth(method = \"lm\")+\n",
        "  stat_poly_eq(use_label(c(\"eq\", \"adj.R2\")), formula = formula) +\n",
        "  ggtitle(\"Elastic Poisson Regression \") +\n",
        "  xlab(\"Observed\") + ylab(\"Predicted\") +\n",
        "  scale_x_continuous(limits=c(0,18), breaks=seq(0, 18, 2))+\n",
        "  scale_y_continuous(limits=c(0,18), breaks=seq(0, 18, 2)) +\n",
        "  theme(\n",
        "    panel.background = element_rect(fill = \"grey95\",colour = \"gray75\",size = 0.5, linetype = \"solid\"),\n",
        "    axis.line = element_line(colour = \"grey\"),\n",
        "    plot.title = element_text(size = 14, hjust = 0.5),\n",
        "    axis.title.x = element_text(size = 14),\n",
        "    axis.title.y = element_text(size = 14),\n",
        "    axis.text.x=element_text(size=13, colour=\"black\"),\n",
        "    axis.text.y=element_text(size=13,angle = 90,vjust = 0.5, hjust=0.5, colour='black'))\n",
        "print(p3)"
      ],
      "metadata": {
        "colab": {
          "base_uri": "https://localhost:8080/",
          "height": 484
        },
        "id": "39v3OBgCjXrQ",
        "outputId": "72b612c2-323b-4559-ee82-a43fa257a082"
      },
      "execution_count": null,
      "outputs": [
        {
          "output_type": "stream",
          "name": "stdout",
          "text": [
            "`geom_smooth()` using formula = 'y ~ x'\n"
          ]
        },
        {
          "output_type": "display_data",
          "data": {
            "image/png": "[encoded data removed]"
          },
          "metadata": {}
        }
      ]
    },
    {
      "cell_type": "markdown",
      "source": [
        "\n",
        "## Summary and Conclusion\n",
        "\n",
        "In this tutorial, we explored the concept of Regularized Poisson Regression and its application for modeling count data in R. The main objectives were to understand the theoretical foundations of regularization and implement it using a manual approach and the {glmnet} package. By mastering the theoretical and practical aspects of regularized Poisson regression, you will be well-equipped to apply these techniques effectively across various contexts, from research to industry. Whether you are focused on predictive modeling, feature selection, or addressing overfitting, regularization offers robust solutions for analyzing count data."
      ],
      "metadata": {
        "id": "sAtdXv5EZaA9"
      }
    },
    {
      "cell_type": "markdown",
      "source": [
        "## References\n",
        "\n",
        "1.  [Poisson frequency models in glmnet](https://actuary.rbind.io/post/glmnet-frequency/)\n"
      ],
      "metadata": {
        "id": "szrH6MUkZcr9"
      }
    }
  ]
}