{
  "cells": [
    {
      "cell_type": "markdown",
      "metadata": {
        "id": "view-in-github",
        "colab_type": "text"
      },
      "source": [
        "<a href=\"https://colab.research.google.com/github/zia207/r-colab/blob/main/NoteBook/Advance_Regression/02-06-06-multivariate-statistics-partial-least-squares-r.ipynb\" target=\"_parent\"><img src=\"https://colab.research.google.com/assets/colab-badge.svg\" alt=\"Open In Colab\"/></a>"
      ]
    },
    {
      "cell_type": "markdown",
      "metadata": {
        "id": "KsBkpmP_qjLM"
      },
      "source": [
        "![alt text](http://drive.google.com/uc?export=view&id=1bLQ3nhDbZrCCqy_WCxxckOne2lgVvn3l)"
      ]
    },
    {
      "cell_type": "markdown",
      "metadata": {
        "id": "Dzp9ZseROTcY"
      },
      "source": [
        "# 6. Partial Least Squares (PLS) Regression\n",
        "\n",
        "This section we will discuss Partial Least Squares (PLS) regression, a powerful technique for modeling relationships between predictors and responses in high-dimensional datasets. We will explore the key features, mathematical framework, and applications of PLS regression, along with a step-by-step guide to implementing PLS from scratch in R. Let's dive in!\n"
      ]
    },
    {
      "cell_type": "markdown",
      "source": [
        "## Overview\n",
        "\n",
        "Partial Least Squares (PLS) regression is a statistical method used for modeling relationships between a set of independent variables (predictors) and dependent variables (responses). It is particularly useful when the predictors are highly collinear, or when there are more predictors than observations.\n",
        "\n",
        "PLS regression combines features of principal component analysis (PCA) and multiple regression. Here's a breakdown:"
      ],
      "metadata": {
        "id": "IGBHj-NmZwoB"
      }
    },
    {
      "cell_type": "markdown",
      "source": [
        "### Key Features\n",
        "\n",
        "1. **Dimensionality Reduction**: PLS identifies a smaller number of latent variables (or components) that are linear combinations of the original predictors. These latent variables capture the maximum covariance between the predictors and the responses.\n",
        "   \n",
        "2. **Handles Multicollinearity**: By using these latent variables, PLS avoids issues that arise from multicollinearity in the predictors, which can complicate traditional regression methods.\n",
        "\n",
        "3. **Simultaneous Decomposition**: PLS decomposes both the predictors and responses simultaneously, ensuring that the components explain as much variance as possible in both.\n",
        "\n",
        "4. **Predictive Power**: PLS focuses on maximizing the predictive relationship between predictors and responses, making it suitable for situations where prediction accuracy is the primary goal."
      ],
      "metadata": {
        "id": "M5R6GzLeZ2Ju"
      }
    },
    {
      "cell_type": "markdown",
      "source": [
        "### How PLS Regression Works\n",
        "\n",
        "1. **Centering and Scaling**: The data is preprocessed to ensure all variables have zero mean and unit variance.\n",
        "2. **Latent Variable Extraction**:\n",
        "   - PLS constructs latent variables (components) as linear combinations of predictors that maximize the covariance with the responses.\n",
        "3. **Regression**:\n",
        "   - Once the latent variables are extracted, a standard linear regression is performed using these components to predict the response variable(s)."
      ],
      "metadata": {
        "id": "5ZlI-CBtZ87H"
      }
    },
    {
      "cell_type": "markdown",
      "source": [
        "### Mathematical Farmework\n",
        "\n",
        "The mathematical framework behind Partial Least Squares (PLS) regression involves decomposing the predictors and responses into latent components to model the relationship between them effectively. Here's a step-by-step breakdown of the math:\n",
        "\n",
        "\n",
        "- Let $\\mathbf{X} \\in \\mathbb{R}^{n \\times p}$: Matrix of predictors (independent variables), where $n$ is the number of samples and $p$ is the number of predictors.\n",
        "- Let $\\mathbf{Y} \\in \\mathbb{R}^{n \\times q}$: Matrix of responses (dependent variables), where $q$ is the number of response variables.\n",
        "- The goal is to find latent components that explain the relationship between $\\mathbf{X}\\) and \\(\\mathbf{Y}$.\n",
        "\n",
        "\n",
        "PLS finds a set of **latent variables (or components)** by decomposing $\\mathbf{X}$ and $\\mathbf{Y}$ into:\n",
        "\n",
        "$$ \\mathbf{X} = \\mathbf{T} \\mathbf{P}^\\top + \\mathbf{E} $$\n",
        "\n",
        "$$ \\mathbf{Y} = \\mathbf{U} \\mathbf{Q}^\\top + \\mathbf{F} $$\n",
        "\n",
        "where:\n",
        "\n",
        "- $\\mathbf{T} \\in \\mathbb{R}^{n \\times h}$: Scores matrix (latent variables for $\\mathbf{X}$).\n",
        "- $\\mathbf{U} \\in \\mathbb{R}^{n \\times h}$: Scores matrix (latent variables for $\\mathbf{Y}$).\n",
        "- $\\mathbf{P} \\in \\mathbb{R}^{p \\times h}$: Loadings matrix for $\\mathbf{X}$.\n",
        "- $\\mathbf{Q} \\in \\mathbb{R}^{q \\times h}$: Loadings matrix for $\\mathbf{Y}$.\n",
        "- $\\mathbf{E}$ and $\\mathbf{F}$: Residual matrices for $\\mathbf{X}$ and $\\mathbf{Y}$, respectively.\n",
        "- $h$: Number of components.\n",
        "\n",
        "\n",
        "The primary objective of PLS is to find latent components such that the covariance between the scores $\\mathbf{T}$ and $\\mathbf{U}$ is maximized:\n",
        "\n",
        "$$ \\text{maximize } \\text{Cov}(\\mathbf{T}, \\mathbf{U}) \\quad \\text{subject to constraints} $$\n",
        "\n",
        "This ensures that the components extracted capture the shared variance between $\\mathbf{X}$ and $\\mathbf{Y}$.\n",
        "\n",
        "PLS is an iterative process. At each step:\n",
        "1. **Find weight vectors**:\n",
        "   - Compute weight vectors \\(\\mathbf{w}_X\\) and \\(\\mathbf{w}_Y\\) such that:\n",
        "     \n",
        "     $$ \\mathbf{w}_X = \\text{argmax}_{\\mathbf{w}_X} \\, \\text{Cov}(\\mathbf{X}\\mathbf{w}_X, \\mathbf{Y}\\mathbf{w}_Y) $$\n",
        "   \n",
        "   - Normalize $\\mathbf{w}_X$ and $\\mathbf{w}_Y$.\n",
        "\n",
        "2. **Compute scores**:\n",
        "   - $\\mathbf{t} = \\mathbf{X} \\mathbf{w}_X$, the score vector for $\\mathbf{X}$.\n",
        "   - $\\mathbf{u} = \\mathbf{Y} \\mathbf{w}_Y$, the score vector for $\\mathbf{Y}$.\n",
        "\n",
        "3. **Regress $\\mathbf{X}$ and $\\mathbf{Y}$ onto the scores**:\n",
        "   - Compute $\\mathbf{p}$ and $\\mathbf{q}$ (loadings):\n",
        "     \n",
        "     $$ \\mathbf{p} = \\mathbf{X}^\\top \\mathbf{t}, \\quad \\mathbf{q} = \\mathbf{Y}^\\top \\mathbf{u} $$\n",
        "4. **Deflate \\(\\mathbf{X}\\) and \\(\\mathbf{Y}\\)**:\n",
        "   - Remove the contribution of the current component:\n",
        "     \n",
        "     $$  \\mathbf{X} \\leftarrow \\mathbf{X} - \\mathbf{t} \\mathbf{p}^\\top, \\quad \\mathbf{Y} \\leftarrow \\mathbf{Y} - \\mathbf{t} \\mathbf{q}^\\top $$\n",
        "\n",
        "5. **Repeat**:\n",
        "\n",
        "   - Continue until the desired number of components $h$ is extracted or until the residuals are sufficiently small.\n",
        "\n",
        "\n",
        "After extracting the latent components, the PLS regression model is built using the relationship:\n",
        "\n",
        "$$ \\mathbf{Y} = \\mathbf{X} \\mathbf{B} + \\mathbf{F} $$\n",
        "\n",
        "where $\\mathbf{B}$ is the regression coefficient matrix given by:\n",
        "\n",
        "$$ \\mathbf{B} = \\mathbf{W} (\\mathbf{P}^\\top \\mathbf{W})^{-1} \\mathbf{Q}^\\top $$\n",
        "\n",
        "with $\\mathbf{W}$ being the matrix of weight vectors for $\\mathbf{X}$.\n"
      ],
      "metadata": {
        "id": "vGwFEN-IaA5_"
      }
    },
    {
      "cell_type": "markdown",
      "source": [
        "### Applications\n",
        "\n",
        "- **Chemometrics**: Analyzing chemical data (e.g., spectroscopy).\n",
        "- **Genomics**: Linking gene expression data to phenotypic outcomes.\n",
        "- **Econometrics**: Modeling complex economic systems.\n",
        "- **Machine Learning**: When feature selection or dimensionality reduction is needed."
      ],
      "metadata": {
        "id": "bziEYOW2aFXI"
      }
    },
    {
      "cell_type": "markdown",
      "source": [
        "### Advantages\n",
        "\n",
        "- Effective for datasets with more variables than observations.\n",
        "- Reduces the impact of multicollinearity.\n",
        "- Simultaneously models predictors and responses."
      ],
      "metadata": {
        "id": "deQnSQ3Vayia"
      }
    },
    {
      "cell_type": "markdown",
      "source": [
        "### Limitations\n",
        "\n",
        "- Interpretation of components can be challenging.\n",
        "- May overfit if too many components are chosen.\n",
        "- Sensitive to preprocessing (e.g., scaling)."
      ],
      "metadata": {
        "id": "kPnZtrL9IR_B"
      }
    },
    {
      "cell_type": "markdown",
      "source": [
        "## Install rpy2"
      ],
      "metadata": {
        "id": "G6Qp0TKw_6Xd"
      }
    },
    {
      "cell_type": "code",
      "source": [
        "!pip uninstall rpy2 -y\n",
        "!pip install rpy2==3.5.1\n",
        "%load_ext rpy2.ipython"
      ],
      "metadata": {
        "colab": {
          "base_uri": "https://localhost:8080/"
        },
        "id": "Ns6FKhEeq4_-",
        "outputId": "b77440ad-3886-4b71-bb05-2a750304afd7"
      },
      "execution_count": null,
      "outputs": [
        {
          "output_type": "stream",
          "name": "stdout",
          "text": [
            "Found existing installation: rpy2 3.4.2\n",
            "Uninstalling rpy2-3.4.2:\n",
            "  Successfully uninstalled rpy2-3.4.2\n",
            "Collecting rpy2==3.5.1\n",
            "  Downloading rpy2-3.5.1.tar.gz (201 kB)\n",
            "\u001b[2K     \u001b[90m━━━━━━━━━━━━━━━━━━━━━━━━━━━━━━━━━━━━━━━━\u001b[0m \u001b[32m201.7/201.7 kB\u001b[0m \u001b[31m5.8 MB/s\u001b[0m eta \u001b[36m0:00:00\u001b[0m\n",
            "\u001b[?25h  Preparing metadata (setup.py) ... \u001b[?25l\u001b[?25hdone\n",
            "Requirement already satisfied: cffi>=1.10.0 in /usr/local/lib/python3.11/dist-packages (from rpy2==3.5.1) (1.17.1)\n",
            "Requirement already satisfied: jinja2 in /usr/local/lib/python3.11/dist-packages (from rpy2==3.5.1) (3.1.5)\n",
            "Requirement already satisfied: pytz in /usr/local/lib/python3.11/dist-packages (from rpy2==3.5.1) (2025.1)\n",
            "Requirement already satisfied: tzlocal in /usr/local/lib/python3.11/dist-packages (from rpy2==3.5.1) (5.3)\n",
            "Requirement already satisfied: pycparser in /usr/local/lib/python3.11/dist-packages (from cffi>=1.10.0->rpy2==3.5.1) (2.22)\n",
            "Requirement already satisfied: MarkupSafe>=2.0 in /usr/local/lib/python3.11/dist-packages (from jinja2->rpy2==3.5.1) (3.0.2)\n",
            "Building wheels for collected packages: rpy2\n",
            "  Building wheel for rpy2 (setup.py) ... \u001b[?25l\u001b[?25hdone\n",
            "  Created wheel for rpy2: filename=rpy2-3.5.1-cp311-cp311-linux_x86_64.whl size=314975 sha256=625e09f974ca78167b004e12156586ae4ca528bc674d8769129f82efab7f1141\n",
            "  Stored in directory: /root/.cache/pip/wheels/e9/55/d1/47be85a5f3f1e1f4d1e91cb5e3a4dcb40dd72147f184c5a5ef\n",
            "Successfully built rpy2\n",
            "Installing collected packages: rpy2\n",
            "Successfully installed rpy2-3.5.1\n"
          ]
        }
      ]
    },
    {
      "cell_type": "markdown",
      "metadata": {
        "id": "O1zeuaCowiBt"
      },
      "source": [
        "## Mount Google Drive"
      ]
    },
    {
      "cell_type": "code",
      "source": [
        "from google.colab import drive\n",
        "drive.mount('/content/drive')"
      ],
      "metadata": {
        "colab": {
          "base_uri": "https://localhost:8080/"
        },
        "id": "evOsmYcnrDgD",
        "outputId": "3b661216-123a-4a70-f3e2-ef7b319f0257"
      },
      "execution_count": null,
      "outputs": [
        {
          "output_type": "stream",
          "name": "stdout",
          "text": [
            "Mounted at /content/drive\n"
          ]
        }
      ]
    },
    {
      "cell_type": "markdown",
      "source": [
        "## Partial Least Squares (PLS) Regression from Scratch\n",
        "\n",
        "Building a Partial Least Squares (PLS) model from scratch in R without relying on pre-existing packages can be a complex task. However, I can guide you through creating a basic implementation to predict soil carbon percentage using synthetic spectroscopic data within the specified wavelength range (300-2500 nm).\n",
        "\n",
        "Here’s a breakdown of the process:\n",
        "\n",
        "1. **Generate Synthetic Data**: Create synthetic spectroscopic data $X$ and response variable $Y$.\n",
        "2. **PLS Model Implementation**: Write a custom PLS function to fit a PLS regression model.\n",
        "3. **Model Training and Validation**:\n",
        "    - Use cross-validation to optimize the number of components.\n",
        "    - Split the data into a 70% training set and 30% test set for hold-out validation.\n"
      ],
      "metadata": {
        "id": "zGiyGm2fa_Y5"
      }
    },
    {
      "cell_type": "markdown",
      "source": [
        "###  Generate data\n",
        "\n",
        "First we will generate synthetic data for 100 samples and 2201 wavelengths (300-2500 nm in 1 nm intervals). We will create a strong correlation structure between the predictors (X) and the response variable (Y) to demonstrate the effectiveness of PLS regression."
      ],
      "metadata": {
        "id": "JfhRRlw-bH1E"
      }
    },
    {
      "cell_type": "code",
      "source": [
        "%%R\n",
        "# Set seed for reproducibility\n",
        "set.seed(123)\n",
        "\n",
        "# Generate synthetic data for 200 samples and 2201 wavelengths (300-2500 nm in 1 nm intervals)\n",
        "n_samples <- 100\n",
        "wavelengths <- 250:2500\n",
        "n_features <- length(wavelengths)\n",
        "\n",
        "# Generate synthetic spectral data (X) with a strong correlation structure\n",
        "X <- matrix(rnorm(n_samples * n_features), nrow = n_samples, ncol = n_features)\n",
        "\n",
        "# Define a true relationship between X and Y\n",
        "# Use a few specific wavelengths to create Y with a high correlation to X\n",
        "true_coefficients <- runif(50, min = 0.5, max = 1.5)  # Random coefficients for a subset of wavelengths\n",
        "selected_columns <- seq(1, n_features, length.out = 50)\n",
        "Y <- X[, selected_columns] %*% true_coefficients + rnorm(n_samples, sd = 0.1)  # Small noise added"
      ],
      "metadata": {
        "id": "CrkNaiLJbKTU"
      },
      "execution_count": null,
      "outputs": []
    },
    {
      "cell_type": "markdown",
      "source": [
        "### Implement PLS Regression\n",
        "\n",
        "We will now implement the PLS regression algorithm using the NIPALS (Non-linear Iterative Partial Least Squares) algorithm. This algorithm iteratively extracts latent components that maximize the covariance between the predictors and responses. We will define functions for PLS regression, cross-validation to find the optimal number of components, and model evaluation on a test set."
      ],
      "metadata": {
        "id": "-ZOmMPlHxJQb"
      }
    },
    {
      "cell_type": "code",
      "source": [
        "%%R\n",
        "# Function to perform PLS using NIPALS algorithm (same as before)\n",
        "pls_nipals <- function(X, Y, n_components) {\n",
        "  n <- nrow(X)\n",
        "  p <- ncol(X)\n",
        "\n",
        "  # Center X and Y\n",
        "  X <- scale(X, center = TRUE, scale = FALSE)\n",
        "  Y <- scale(Y, center = TRUE, scale = FALSE)\n",
        "\n",
        "  T <- matrix(0, n, n_components)  # Scores for X\n",
        "  U <- matrix(0, n, n_components)  # Scores for Y\n",
        "  P <- matrix(0, p, n_components)  # Loadings for X\n",
        "  Q <- numeric(n_components)       # Loadings for Y\n",
        "  W <- matrix(0, p, n_components)  # Weights for X\n",
        "\n",
        "  for (h in 1:n_components) {\n",
        "    # Initialize with a random column of Y\n",
        "    u <- Y[, 1]\n",
        "\n",
        "    for (iter in 1:100) {\n",
        "      # Calculate weights for X\n",
        "      w <- crossprod(X, u) / sum(u^2)\n",
        "      w <- w / sqrt(sum(w^2))  # Normalize weight vector\n",
        "\n",
        "      # Calculate the scores for X\n",
        "      t <- X %*% w\n",
        "\n",
        "      # Calculate the loading for Y\n",
        "      q <- crossprod(Y, t) / sum(t^2)\n",
        "\n",
        "      # Calculate the scores for Y\n",
        "      u <- Y %*% q / sum(q^2)\n",
        "\n",
        "      # Check for convergence\n",
        "      if (sum(abs(u - Y %*% q)) < 1e-6) break\n",
        "    }\n",
        "\n",
        "    # Store the results\n",
        "    T[, h] <- t\n",
        "    U[, h] <- u\n",
        "    P[, h] <- crossprod(X, t) / sum(t^2)\n",
        "    Q[h] <- q\n",
        "    W[, h] <- w\n",
        "\n",
        "    # Deflate X and Y\n",
        "    X <- X - t %*% t(P[, h])       # Deflate X\n",
        "    Y <- Y - tcrossprod(t, q)      # Corrected deflation of Y\n",
        "  }\n",
        "\n",
        "  list(T = T, P = P, Q = Q, W = W)\n",
        "}"
      ],
      "metadata": {
        "id": "2oI1eT7DbQCG"
      },
      "execution_count": null,
      "outputs": []
    },
    {
      "cell_type": "markdown",
      "source": [
        "### Cross-Validation and Model Evaluation\n",
        "\n",
        "We will now perform cross-validation to find the optimal number of components for the PLS model."
      ],
      "metadata": {
        "id": "WT4tbQiKbbF_"
      }
    },
    {
      "cell_type": "code",
      "source": [
        "%%R\n",
        "# Cross-validation function to find optimal number of components (same as before)\n",
        "cross_validate_pls <- function(X, Y, max_components = 10, k = 5) {\n",
        "  n <- nrow(X)\n",
        "  indices <- sample(1:n)\n",
        "  folds <- split(indices, cut(seq_along(indices), k, labels = FALSE))\n",
        "  mse <- numeric(max_components)\n",
        "\n",
        "  for (h in 1:max_components) {\n",
        "    fold_errors <- numeric(k)\n",
        "    for (j in 1:k) {\n",
        "      test_indices <- folds[[j]]\n",
        "      train_indices <- setdiff(1:n, test_indices)\n",
        "\n",
        "      X_train <- X[train_indices, ]\n",
        "      Y_train <- Y[train_indices]\n",
        "      X_test <- X[test_indices, ]\n",
        "      Y_test <- Y[test_indices]\n",
        "\n",
        "      # Fit PLS model with h components\n",
        "      pls_model <- pls_nipals(X_train, Y_train, h)\n",
        "\n",
        "      # Predict on test set\n",
        "      T_test <- scale(X_test, center = TRUE, scale = FALSE) %*% pls_model$W[, 1:h]\n",
        "      Y_pred <- T_test %*% pls_model$Q[1:h]\n",
        "\n",
        "      # Calculate MSE for the fold\n",
        "      fold_errors[j] <- mean((Y_test - Y_pred)^2)\n",
        "    }\n",
        "    mse[h] <- mean(fold_errors)\n",
        "  }\n",
        "\n",
        "  # Return the number of components with minimum MSE\n",
        "  list(optimal_components = which.min(mse), mse = mse)\n",
        "}\n",
        "\n",
        "# Run cross-validation to find the optimal number of components\n",
        "cv_results <- cross_validate_pls(X, Y, max_components = 10)\n",
        "optimal_components <- cv_results$optimal_components\n",
        "print(paste(\"Optimal number of components:\", optimal_components))"
      ],
      "metadata": {
        "colab": {
          "base_uri": "https://localhost:8080/"
        },
        "id": "fNnUFuBaxboi",
        "outputId": "0a3ac88d-c6a5-4d14-ae83-8fa1a15726cc"
      },
      "execution_count": null,
      "outputs": [
        {
          "output_type": "stream",
          "name": "stdout",
          "text": [
            "[1] \"Optimal number of components: 1\"\n"
          ]
        }
      ]
    },
    {
      "cell_type": "markdown",
      "source": [
        "### Model Training and Evaluation\n",
        "\n",
        "Finally, we will split the data into training and testing sets, train the PLS model with the optimal number of components, and evaluate its performance on the test set."
      ],
      "metadata": {
        "id": "1WjBtoSQxg5T"
      }
    },
    {
      "cell_type": "code",
      "source": [
        "%%R\n",
        "## Split data into 70% training and 30% testing\n",
        "set.seed(123)\n",
        "train_indices <- sample(1:n_samples, size = 0.7 * n_samples)\n",
        "test_indices <- setdiff(1:n_samples, train_indices)\n",
        "\n",
        "X_train <- X[train_indices, ]\n",
        "Y_train <- Y[train_indices]\n",
        "X_test <- X[test_indices, ]\n",
        "Y_test <- Y[test_indices]\n",
        "\n",
        "# Train PLS model with optimal components on training data\n",
        "pls_model <- pls_nipals(X_train, Y_train, optimal_components)"
      ],
      "metadata": {
        "id": "cJ3HO6Wxxi05"
      },
      "execution_count": null,
      "outputs": []
    },
    {
      "cell_type": "code",
      "source": [
        "%%R\n",
        "# Predict on test set\n",
        "T_test <- scale(X_test, center = TRUE, scale = FALSE) %*% pls_model$W[, 1:optimal_components]\n",
        "Y_pred <- T_test %*% pls_model$Q[1:optimal_components]\n",
        "\n",
        "# Calculate Mean Squared Error on test set\n",
        "test_mse <- mean((Y_test - Y_pred)^2)\n",
        "print(paste(\"Test MSE:\", test_mse))"
      ],
      "metadata": {
        "colab": {
          "base_uri": "https://localhost:8080/"
        },
        "id": "4hooK6LyxxxU",
        "outputId": "bb1c43aa-59c8-4948-8554-0e7bc75f6980"
      },
      "execution_count": null,
      "outputs": [
        {
          "output_type": "stream",
          "name": "stdout",
          "text": [
            "[1] \"Test MSE: 42.925786099064\"\n"
          ]
        }
      ]
    },
    {
      "cell_type": "code",
      "source": [
        "%%R -w 600 -h 500 -u px\n",
        "# Plot 1:1 plot of Predicted vs Actual Values\n",
        "plot(Y_test, Y_pred, xlab = \"Actual Soil Carbon (%)\", ylab = \"Predicted Soil Carbon (%)\",\n",
        "     main = \"1:1 Plot of Actual vs Predicted Soil Carbon\", xlim = range(Y_test), ylim = range(Y_pred))"
      ],
      "metadata": {
        "colab": {
          "base_uri": "https://localhost:8080/",
          "height": 517
        },
        "id": "nMv93RbLyDkG",
        "outputId": "3f0c2e53-0e75-4280-f088-ad1d6127ead2"
      },
      "execution_count": null,
      "outputs": [
        {
          "output_type": "display_data",
          "data": {
            "image/png": "[encoded data removed]"
          },
          "metadata": {}
        }
      ]
    },
    {
      "cell_type": "markdown",
      "source": [
        "## Partial Least Squares (PLS) Regression  in R\n",
        "\n",
        "In **R**, several packages support Partial Least Squares (PLS) regression, each offering unique features and capabilities. Here’s a list of commonly used packages for PLS regression and their main functionalities:\n",
        "\n",
        "1.  **`pls`**\n",
        "\n",
        "    -   **Description**: A comprehensive package for Partial Least Squares regression and Principal Component Regression (PCR).\n",
        "\n",
        "    -   **Key Functions**:\n",
        "\n",
        "        -   `plsr()`: For PLS regression.\n",
        "        -   `pcr()`: For Principal Component Regression.\n",
        "        -   `validationplot()`: Visualization of cross-validation results.\n",
        "        -   `predict()`: For predictions.\n",
        "\n",
        "    -   **Features**:\n",
        "\n",
        "        -   Supports different types of validation (e.g., cross-validation, test sets).\n",
        "        -   Handles single and multiple response variables.\n",
        "\n",
        "    -   **Installation**:\n",
        "\n",
        "        ``` r\n",
        "        install.packages(\"pls\")\n",
        "        ```\n",
        "\n",
        "    -   **Documentation**: [CRAN - pls](https://cran.r-project.org/web/packages/pls/)\n",
        "\n",
        "2.  **`plsRglm`**\n",
        "\n",
        "    -   **Description**: Implements PLS regression for generalized linear models (GLMs).\n",
        "\n",
        "    -   **Key Functions**:\n",
        "\n",
        "        -   `plsRglm()`: Fits PLS regression models for GLMs.\n",
        "\n",
        "    -   **Features**:\n",
        "\n",
        "        -   Handles non-Gaussian response distributions (e.g., logistic regression, Poisson regression).\n",
        "        -   Useful for datasets with complex distributions.\n",
        "\n",
        "    -   **Installation**:\n",
        "\n",
        "        ``` r\n",
        "        install.packages(\"plsRglm\")\n",
        "        ```\n",
        "\n",
        "    -   **Documentation**: [CRAN - plsRglm](https://cran.r-project.org/web/packages/plsRglm/)\n",
        "\n",
        "3.  **`chemometrics`**\n",
        "\n",
        "    -   **Description**: Designed for chemometric data analysis, with PLS and related methods.\n",
        "\n",
        "    -   **Key Functions**:\n",
        "\n",
        "        -   `pls1_nipals()`: Implements the NIPALS algorithm for PLS1.\n",
        "        -   `pls2_nipals()`: Implements the NIPALS algorithm for PLS2.\n",
        "\n",
        "    -   **Features**:\n",
        "\n",
        "        -   Focused on chemical data analysis.\n",
        "        -   Implements basic PLS regression and visualization tools.\n",
        "\n",
        "    -   **Installation**:\n",
        "\n",
        "        ``` r\n",
        "        install.packages(\"chemometrics\")\n",
        "        ```\n",
        "\n",
        "    -   **Documentation**: [CRAN - chemometrics](https://cran.r-project.org/web/packages/chemometrics/)\n",
        "\n",
        "4.  **`plsVarSel`**\n",
        "\n",
        "    -   **Description**: A package focusing on variable selection in PLS regression.\n",
        "\n",
        "    -   **Key Functions**:\n",
        "\n",
        "        -   `vip()`: Variable Importance in Projection scores.\n",
        "\n",
        "    -   **Features**:\n",
        "\n",
        "        -   Implements feature selection techniques for PLS.\n",
        "        -   Helps identify the most relevant predictors.\n",
        "\n",
        "    -   **Installation**:\n",
        "\n",
        "        ``` r\n",
        "        install.packages(\"plsVarSel\")\n",
        "        ```\n",
        "\n",
        "    -   **Documentation**: [CRAN - plsVarSel](https://cran.r-project.org/web/packages/plsVarSel/)\n",
        "\n",
        "  5. 5. **mdatools**\n",
        "\n",
        "    -   **Description**: A package for multivariate data analysis, including PLS regression.\n",
        "\n",
        "    -   **Key Functions**:\n",
        "\n",
        "        -   `pls()`: Fits a PLS regression model.\n",
        "        -   `plsVarSel()`: Variable selection in PLS.\n",
        "\n",
        "    -   **Features**:\n",
        "\n",
        "        -   Supports PLS regression and variable selection.\n",
        "        -   Useful for multivariate data analysis.\n",
        "\n",
        "    -   **Installation**:\n",
        "\n",
        "        ``` r\n",
        "        install.packages(\"mdatools\")\n",
        "        ```\n",
        "\n",
        "    -   **Documentation**: [CRAN - mdatools](https://cran.r-project.org/web/packages/mdatools/)\n",
        "\n",
        "**Comparison of Packages**\n",
        "\n",
        "| **Package** | **PLS Method** | **Advanced Methods** | **Visualization** | **Applications** |\n",
        "|---------------|---------------|---------------|---------------|---------------|\n",
        "| `pls` | Standard PLS | Cross-validation | Yes | General purpose |\n",
        "| `plsRglm` | PLS for GLMs | Non-Gaussian responses | Limited | Generalized linear models |\n",
        "| `chemometrics` | Basic PLS | NIPALS algorithm | Yes | Chemometrics |\n",
        "| `mdatools` | Basic PCR and PLS | NIPALS algorithm | Yes | Chemometrics |\n",
        "\n",
        "Choose the package based on your data type, modeling needs, and required visualizations or extensions."
      ],
      "metadata": {
        "id": "MRHgZdurbr9V"
      }
    },
    {
      "cell_type": "markdown",
      "source": [
        "### Install Required R Packages\n",
        "\n",
        "Following R packages are required to run this notebook. If any of these packages are not installed, you can install them using the code below:"
      ],
      "metadata": {
        "id": "cEAqInLvrLjF"
      }
    },
    {
      "cell_type": "code",
      "source": [
        "%%R\n",
        " packages <- c('tidyverse',\n",
        "              'plyr',\n",
        "              'patchwork',\n",
        "              'pls',\n",
        "              'plsRglm')"
      ],
      "metadata": {
        "id": "bR9fG6KDvJ6q"
      },
      "execution_count": null,
      "outputs": []
    },
    {
      "cell_type": "code",
      "source": [
        "%%R\n",
        "# Install missing packages\n",
        "new.packages <- packages[!(packages %in% installed.packages(lib='drive/My Drive/R/')[,\"Package\"])]\n",
        "if(length(new.packages)) install.packages(new.packages, lib='drive/My Drive/R/')"
      ],
      "metadata": {
        "id": "zO1Qyw0o6YHF"
      },
      "execution_count": null,
      "outputs": []
    },
    {
      "cell_type": "code",
      "source": [
        "%%R\n",
        "# set library path\n",
        ".libPaths('drive/My Drive/R')\n",
        "# Verify installation\n",
        "cat(\"Installed packages:\\n\")\n",
        "print(sapply(packages, requireNamespace, quietly = TRUE))"
      ],
      "metadata": {
        "colab": {
          "base_uri": "https://localhost:8080/"
        },
        "id": "qu7JrP4I6c3h",
        "outputId": "b780f26a-9594-4a45-d9d8-5faed4b1280b"
      },
      "execution_count": null,
      "outputs": [
        {
          "output_type": "stream",
          "name": "stdout",
          "text": [
            "Installed packages:\n",
            "tidyverse      plyr patchwork       pls   plsRglm \n",
            "     TRUE      TRUE      TRUE      TRUE      TRUE \n"
          ]
        }
      ]
    },
    {
      "cell_type": "markdown",
      "source": [
        "### Load R Packages"
      ],
      "metadata": {
        "id": "N04_Dho0q2sb"
      }
    },
    {
      "cell_type": "code",
      "source": [
        "%%R\n",
        "# set library path\n",
        ".libPaths('drive/My Drive/R')\n",
        "# Load packages with suppressed messages\n",
        "invisible(lapply(packages, function(pkg) {\n",
        "  suppressPackageStartupMessages(library(pkg, character.only = TRUE))\n",
        "}))\n",
        "# Check loaded packages\n",
        "cat(\"Successfully loaded packages:\\n\")\n",
        "print(search()[grepl(\"package:\", search())])# Check loaded packages"
      ],
      "metadata": {
        "id": "25GLHnLyOLeK",
        "colab": {
          "base_uri": "https://localhost:8080/"
        },
        "outputId": "720be0d6-4891-4268-c49a-ec47ebf01a73"
      },
      "execution_count": null,
      "outputs": [
        {
          "output_type": "stream",
          "name": "stdout",
          "text": [
            "Successfully loaded packages:\n",
            " [1] \"package:plsRglm\"   \"package:pls\"       \"package:patchwork\"\n",
            " [4] \"package:plyr\"      \"package:lubridate\" \"package:forcats\"  \n",
            " [7] \"package:stringr\"   \"package:dplyr\"     \"package:purrr\"    \n",
            "[10] \"package:readr\"     \"package:tidyr\"     \"package:tibble\"   \n",
            "[13] \"package:ggplot2\"   \"package:tidyverse\" \"package:tools\"    \n",
            "[16] \"package:stats\"     \"package:graphics\"  \"package:grDevices\"\n",
            "[19] \"package:utils\"     \"package:datasets\"  \"package:methods\"  \n",
            "[22] \"package:base\"     \n"
          ]
        }
      ]
    },
    {
      "cell_type": "markdown",
      "source": [
        "### PLR Regression with `pls` Package\n",
        "\n",
        "The `pls` package in R provides a comprehensive set of functions for Partial Least Squares (PLS) regression and Principal Component Regression (PCR). It offers a range of features for fitting PLS models, performing cross-validation, and visualizing results. Let's explore how to use the `pls` package to fit a PLS regression model to predict soil carbon percentage from spectroscopic data."
      ],
      "metadata": {
        "id": "rkn078MBPETU"
      }
    },
    {
      "cell_type": "markdown",
      "source": [
        "#### Data\n",
        "\n",
        "We will use the `gasoline` dataset from the `pls` package, which contains  NIR spectra and octane numbers of 60 gasoline samples. The NIR spectra were measured using diffuse reflectance as log(1/R) from 900 nm to 1700 nm in 2 nm intervals, giving 401 wavelengths."
      ],
      "metadata": {
        "id": "Z9JnVwdetQJU"
      }
    },
    {
      "cell_type": "code",
      "source": [
        "%%R\n",
        "# Load data\n",
        "data('gasoline', lib = 'pls')\n",
        "names(gasoline)"
      ],
      "metadata": {
        "colab": {
          "base_uri": "https://localhost:8080/"
        },
        "id": "hWqv4NFdtZ4j",
        "outputId": "ec56e01b-13c3-4904-a4a6-bbb03379b2ed"
      },
      "execution_count": null,
      "outputs": [
        {
          "output_type": "stream",
          "name": "stdout",
          "text": [
            "[1] \"octane\" \"NIR\"   \n"
          ]
        }
      ]
    },
    {
      "cell_type": "markdown",
      "source": [
        "\n",
        "#### Matplot of Spectral Data\n",
        "\n",
        "Matplot of the NIR spectral data for the gasoline samples. The NIR spectral data consists of 60 samples and 401 variables (wavelengths) in the range of 900-1700 nm."
      ],
      "metadata": {
        "id": "MRoQr0SbtzGe"
      }
    },
    {
      "cell_type": "code",
      "source": [
        "%%R -w 600 -h 450 -u px\n",
        "matplot(t(gasoline$NIR), type = \"l\", lty = 1, ylab = \"log(1/R)\", xaxt = \"n\")\n",
        "ind <- pretty(seq(from = 900, to = 1700, by = 2))\n",
        "ind <- ind[ind >= 900 & ind <= 1700]\n",
        "ind <- (ind - 898) / 2\n",
        "axis(1, ind, colnames(gasoline$NIR)[ind])"
      ],
      "metadata": {
        "colab": {
          "base_uri": "https://localhost:8080/",
          "height": 467
        },
        "id": "ultiwFd7B42w",
        "outputId": "c8639c83-cb5c-45ab-85fc-076f88441a0c"
      },
      "execution_count": null,
      "outputs": [
        {
          "output_type": "display_data",
          "data": {
            "image/png": "[encoded data removed]"
          },
          "metadata": {}
        }
      ]
    },
    {
      "cell_type": "markdown",
      "source": [
        "#### Split data\n",
        "\n",
        "Now we will split the data into a training set (50 samples) and a test set (10 samples) for model calibration and validation, respectively."
      ],
      "metadata": {
        "id": "f2bPdR8et9FE"
      }
    },
    {
      "cell_type": "code",
      "source": [
        "%%R -w 700 -h 450 -u px\n",
        "#set the seed\n",
        "set.seed(19101991)\n",
        "train <- gasoline[1:50,]\n",
        "test <- gasoline[51:60,]\n",
        "# plot the value of the Total Carbon content for both calibration and validation\n",
        "par(mfrow=c(1,2))\n",
        "# calibration\n",
        "hist(train$octane,\n",
        "      main = \"Training Data\",\n",
        "      xlab = \"Octane number\")\n",
        "# validation\n",
        "hist(test$octane,\n",
        "      main = \"Test Data\",\n",
        "      xlab = \"Octane number\")"
      ],
      "metadata": {
        "colab": {
          "base_uri": "https://localhost:8080/",
          "height": 467
        },
        "id": "qyJb6_q2t_dL",
        "outputId": "34a3826d-5b7e-4b81-d328-f8a37922d9b2"
      },
      "execution_count": null,
      "outputs": [
        {
          "output_type": "display_data",
          "data": {
            "image/png": "[encoded data removed]"
          },
          "metadata": {}
        }
      ]
    },
    {
      "cell_type": "markdown",
      "source": [
        "#### Fit PLS Model\n",
        "\n",
        "Let's fit a PLS regression model to predict the octane number from the NIR spectral data. We will use the `plsr()` function from the `pls` package to fit the model. The number of components is set to the maximum number of components in the PLS model. Cross-validation is performed to optimize the number of components.\n",
        "\n",
        "\n"
      ],
      "metadata": {
        "id": "8TofV7iEuKt5"
      }
    },
    {
      "cell_type": "code",
      "source": [
        "%%R\n",
        "# maximum number of components in the PLS model\n",
        "maxc <- 10\n",
        "# generate a PLS model based on calibration data\n",
        "pls_01<- pls::plsr(octane ~ NIR,\n",
        "                      data = train,\n",
        "                      ncomp = maxc,\n",
        "                      validation = \"CV\")"
      ],
      "metadata": {
        "id": "gTbUkZU4vyPx"
      },
      "execution_count": null,
      "outputs": []
    },
    {
      "cell_type": "code",
      "source": [
        "%%R\n",
        "summary(pls_01)"
      ],
      "metadata": {
        "colab": {
          "base_uri": "https://localhost:8080/"
        },
        "id": "uLjYYIlav4MG",
        "outputId": "eb8348db-d17c-4ebf-fb6e-3962213f781b"
      },
      "execution_count": null,
      "outputs": [
        {
          "output_type": "stream",
          "name": "stdout",
          "text": [
            "Data: \tX dimension: 50 401 \n",
            "\tY dimension: 50 1\n",
            "Fit method: kernelpls\n",
            "Number of components considered: 10\n",
            "\n",
            "VALIDATION: RMSEP\n",
            "Cross-validated using 10 random segments.\n",
            "       (Intercept)  1 comps  2 comps  3 comps  4 comps  5 comps  6 comps\n",
            "CV           1.545    1.321   0.3023   0.2537   0.2544   0.2385   0.2305\n",
            "adjCV        1.545    1.320   0.2953   0.2519   0.2542   0.2333   0.2265\n",
            "       7 comps  8 comps  9 comps  10 comps\n",
            "CV      0.2286   0.2356   0.2500    0.2639\n",
            "adjCV   0.2247   0.2312   0.2438    0.2558\n",
            "\n",
            "TRAINING: % variance explained\n",
            "        1 comps  2 comps  3 comps  4 comps  5 comps  6 comps  7 comps  8 comps\n",
            "X         78.17    85.58    93.41    96.06    96.94    97.89    98.38    98.85\n",
            "octane    29.39    96.85    97.89    98.26    98.86    98.96    99.09    99.16\n",
            "        9 comps  10 comps\n",
            "X         99.02     99.19\n",
            "octane    99.28     99.39\n"
          ]
        }
      ]
    },
    {
      "cell_type": "markdown",
      "source": [
        "\n",
        "The validation results here are Root Mean Squared Error of Prediction (`RMSEP`). There are two cross-validation estimates: CV is the ordinary `CV` estimate, and `adjCV` is a bias-corrected CV estimate"
      ],
      "metadata": {
        "id": "sMmSHeUlchme"
      }
    },
    {
      "cell_type": "markdown",
      "source": [
        "#### Cross-Validation Plot (RMSEP vs. Components)\n"
      ],
      "metadata": {
        "id": "PeouWzLkv84u"
      }
    },
    {
      "cell_type": "code",
      "source": [
        "%%R -w 500 -h 450 -u px\n",
        "plot(RMSEP(pls_01), legendpos = \"topright\")"
      ],
      "metadata": {
        "colab": {
          "base_uri": "https://localhost:8080/",
          "height": 467
        },
        "id": "8qP-HBlPwCmi",
        "outputId": "1bb0b1c8-134a-4b23-8ebb-fa60e32aec7f"
      },
      "execution_count": null,
      "outputs": [
        {
          "output_type": "display_data",
          "data": {
            "image/png": "[encoded data removed]"
          },
          "metadata": {}
        }
      ]
    },
    {
      "cell_type": "markdown",
      "source": [
        "Above plot shows the root mean square error of the prediction (RMSEP, black line) and bias-adjusted RMSEP (red dashed line) obtained by cross-validation against the number of components used in the PLSR model. a 10-fold cross-validation on the calibration data shows that 5 components seem to produce a minimal RMSEP."
      ],
      "metadata": {
        "id": "GieJ-u2eZL0q"
      }
    },
    {
      "cell_type": "markdown",
      "source": [
        "#### Plot Cross-validated Predictions\n",
        "\n",
        "It is also possible to plot directly the predicted and observed values of the soil properties. The predictions are made using the fitted PLS component  using `nc` principal components:"
      ],
      "metadata": {
        "id": "y-c7sxSYZPeH"
      }
    },
    {
      "cell_type": "code",
      "source": [
        "%%R -w 500 -h 450 -u px\n",
        "nc <- 4\n",
        "# plot of cross-validated predictions\n",
        "plot(pls_01,\n",
        "    ncomp = nc,\n",
        "    main = \" \",\n",
        "    xlim = c(80, 95),\n",
        "    ylim = c(80, 95),\n",
        "    xlab = \"Observed\",\n",
        "    ylab = \"Predicted\")\n",
        "abline(0, 1, col = \"red\")"
      ],
      "metadata": {
        "colab": {
          "base_uri": "https://localhost:8080/",
          "height": 467
        },
        "id": "3bfCxbgbwDYO",
        "outputId": "5618f89c-de57-4796-fa3f-462834272638"
      },
      "execution_count": null,
      "outputs": [
        {
          "output_type": "display_data",
          "data": {
            "image/png": "[encoded data removed]"
          },
          "metadata": {}
        }
      ]
    },
    {
      "cell_type": "markdown",
      "source": [
        "#### Plot Loadings\n",
        "\n",
        "The loadings of the PLS model represent the weights of the spectral variables in the prediction of the soil properties. The loadings can be visualized to identify the important spectral regions that contribute to the prediction. Here, we plot the first three loadings of the PLS model."
      ],
      "metadata": {
        "id": "QCNbI7kbZUtQ"
      }
    },
    {
      "cell_type": "code",
      "source": [
        "%%R -w 500 -h 450 -u px\n",
        "# the three first loadings\n",
        "plot(pls_01,\n",
        "      \"loadings\",\n",
        "      comps = 1:2,\n",
        "      legendpos = \"topleft\",\n",
        "     labels = \"numbers\", xlab = \"nm\")\n",
        "abline(h = 0)"
      ],
      "metadata": {
        "colab": {
          "base_uri": "https://localhost:8080/",
          "height": 467
        },
        "id": "K8raiDM-wDmS",
        "outputId": "a4d39fe5-fc96-4cd3-e59c-a1533c2ec647"
      },
      "execution_count": null,
      "outputs": [
        {
          "output_type": "display_data",
          "data": {
            "image/png": "[encoded data removed]"
          },
          "metadata": {}
        }
      ]
    },
    {
      "cell_type": "markdown",
      "source": [
        "\n",
        "#### Plot Scores\n",
        "\n",
        "The scores of the PLS model represent the latent variables that capture the covariance between the spectral variables and the soil properties. The scores can be visualized to identify patterns in the data and assess the relationship between the predictors and responses. Here, we plot the scores of the PLS model."
      ],
      "metadata": {
        "id": "2Mt7hBVmw9ea"
      }
    },
    {
      "cell_type": "code",
      "source": [
        "%%R -w 600 -h 650 -u px\n",
        "# the three first scores\n",
        "plot(pls_01,\n",
        "      \"scores\",\n",
        "      comps = 1:3,\n",
        "      xlab = \"Index of the wavelength\",\n",
        "      ylab = \"Scores\")"
      ],
      "metadata": {
        "colab": {
          "base_uri": "https://localhost:8080/",
          "height": 667
        },
        "id": "gos7nOq8yRIb",
        "outputId": "fa0c6a06-ffee-4570-f2f0-78a934f2dad4"
      },
      "execution_count": null,
      "outputs": [
        {
          "output_type": "display_data",
          "data": {
            "image/png": "[encoded data removed]"
          },
          "metadata": {}
        }
      ]
    },
    {
      "cell_type": "markdown",
      "source": [
        "#### Plot Coefficients\n",
        "\n",
        "The coefficients of the PLS model represent the regression coefficients that relate the spectral variables to the soil properties. The coefficients can be visualized to identify the important spectral regions that contribute to the prediction. Here, we plot the coefficients of the PLS model."
      ],
      "metadata": {
        "id": "ktjho35DyVpN"
      }
    },
    {
      "cell_type": "code",
      "source": [
        "%%R -w 500 -h 450 -u px\n",
        "plot(pls_01, plottype = \"coef\",\n",
        "     ncomp=1:3, legendpos = \"bottomleft\",\n",
        "    labels = \"numbers\", xlab = \"nm\")"
      ],
      "metadata": {
        "colab": {
          "base_uri": "https://localhost:8080/",
          "height": 467
        },
        "id": "GauU-lfByWQv",
        "outputId": "73f2d956-520c-424a-e895-1da64418339f"
      },
      "execution_count": null,
      "outputs": [
        {
          "output_type": "display_data",
          "data": {
            "image/png": "[encoded data removed]"
          },
          "metadata": {}
        }
      ]
    },
    {
      "cell_type": "markdown",
      "source": [
        "#### Correlation loadings plot\n",
        "\n",
        "The correlation loadings plot shows the correlation between the predictors (X) and the responses (Y) for each component in the PLS model. It provides insights into the relationship between the predictors and responses and helps identify important spectral regions that contribute to the prediction."
      ],
      "metadata": {
        "id": "BW8ArFK0ykb4"
      }
    },
    {
      "cell_type": "code",
      "source": [
        "%%R -w 500 -h 450 -u px\n",
        "plot(pls_01, plottype = \"correlation\")"
      ],
      "metadata": {
        "colab": {
          "base_uri": "https://localhost:8080/",
          "height": 467
        },
        "id": "dQYA0ZMIylOa",
        "outputId": "bcc1c2f0-e68a-44bf-c62b-82a1ab982f2b"
      },
      "execution_count": null,
      "outputs": [
        {
          "output_type": "display_data",
          "data": {
            "image/png": "[encoded data removed]"
          },
          "metadata": {}
        }
      ]
    },
    {
      "cell_type": "markdown",
      "source": [
        "#### Evaluate PLS Model"
      ],
      "metadata": {
        "id": "xPQXWUPJy7De"
      }
    },
    {
      "cell_type": "code",
      "source": [
        "%%R\n",
        "# predict on the calibration or training dataset\n",
        "pred.train <- predict(pls_01, ncomp = nc, newdata = train)\n",
        "pred.train.df<-as.data.frame(cbind(Obs=train$octane, Pred= pred.train))"
      ],
      "metadata": {
        "id": "JuWh_u0Ny_1P"
      },
      "execution_count": null,
      "outputs": []
    },
    {
      "cell_type": "code",
      "source": [
        "%%R\n",
        "# predict on the test dataset\n",
        "pred.test <- predict(pls_01, ncomp = nc, newdata = test)\n",
        "pred.test.df<-as.data.frame(cbind(Obs=test$octane, Pred= pred.test))"
      ],
      "metadata": {
        "id": "Bt4FtBCWzIOZ"
      },
      "execution_count": null,
      "outputs": []
    },
    {
      "cell_type": "code",
      "source": [
        "%%R\n",
        "RMSEP(pls_01, newdata = test, ncomp = 1:5)"
      ],
      "metadata": {
        "colab": {
          "base_uri": "https://localhost:8080/"
        },
        "id": "tRSWsBWzzPwh",
        "outputId": "222b80d5-f41b-411e-d712-2999fe33580f"
      },
      "execution_count": null,
      "outputs": [
        {
          "output_type": "stream",
          "name": "stdout",
          "text": [
            "(Intercept)      1 comps      2 comps      3 comps      4 comps      5 comps  \n",
            "     1.5369       1.1696       0.2445       0.2341       0.3287       0.2780  \n"
          ]
        }
      ]
    },
    {
      "cell_type": "code",
      "source": [
        "%%R -w 700 -h 400 -u px\n",
        "library(ggpmisc)\n",
        "formula<-y~x\n",
        "\n",
        "p1 = ggplot(pred.train.df, aes(Obs,Pred)) +\n",
        "  geom_point() +\n",
        "  geom_smooth(method = \"lm\")+\n",
        "  stat_poly_eq(use_label(c(\"eq\", \"adj.R2\")), formula = formula) +\n",
        "  ggtitle(\"Training \") +\n",
        "  xlab(\"Observed\") + ylab(\"Predicted\") +\n",
        "  scale_x_continuous(limits=c(80,95), breaks=seq(80, 95, 5))+\n",
        "  scale_y_continuous(limits=c(80,95), breaks=seq(80, 95, 5)) +\n",
        "  # Flip the bars\n",
        "  theme(\n",
        "    panel.background = element_rect(fill = \"grey95\",colour = \"gray75\",size = 0.5, linetype = \"solid\"),\n",
        "    axis.line = element_line(colour = \"grey\"),\n",
        "    plot.title = element_text(size = 14, hjust = 0.5),\n",
        "    axis.title.x = element_text(size = 14),\n",
        "    axis.title.y = element_text(size = 14),\n",
        "    axis.text.x=element_text(size=13, colour=\"black\"),\n",
        "    axis.text.y=element_text(size=13,angle = 90,vjust = 0.5, hjust=0.5, colour='black'))\n",
        "\n",
        "p2 =ggplot(pred.test.df, aes(Obs,Pred)) +\n",
        "  geom_point() +\n",
        "  geom_smooth(method = \"lm\")+\n",
        "  stat_poly_eq(use_label(c(\"eq\", \"adj.R2\")), formula = formula) +\n",
        "  ggtitle(\"Validation \") +\n",
        "  xlab(\"Observed\") + ylab(\"Predicted\") +\n",
        "  scale_x_continuous(limits=c(80,95), breaks=seq(80, 95, 5))+\n",
        "  scale_y_continuous(limits=c(80,95), breaks=seq(80, 95, 5)) +\n",
        "  # Flip the bars\n",
        "  theme(\n",
        "    panel.background = element_rect(fill = \"grey95\",colour = \"gray75\",size = 0.5, linetype = \"solid\"),\n",
        "    axis.line = element_line(colour = \"grey\"),\n",
        "    plot.title = element_text(size = 14, hjust = 0.5),\n",
        "    axis.title.x = element_text(size = 14),\n",
        "    axis.title.y = element_text(size = 14),\n",
        "    axis.text.x=element_text(size=13, colour=\"black\"),\n",
        "    axis.text.y=element_text(size=13,angle = 90,vjust = 0.5, hjust=0.5, colour='black'))\n",
        "\n",
        "library(patchwork)\n",
        "p1+ p2"
      ],
      "metadata": {
        "colab": {
          "base_uri": "https://localhost:8080/",
          "height": 816
        },
        "id": "fl0dA6yNzTXp",
        "outputId": "8a161d95-2f94-4511-ed3b-7f86cd194d14"
      },
      "execution_count": null,
      "outputs": [
        {
          "output_type": "stream",
          "name": "stderr",
          "text": [
            "WARNING:rpy2.rinterface_lib.callbacks:R[write to console]: Loading required package: ggpp\n",
            "\n",
            "WARNING:rpy2.rinterface_lib.callbacks:R[write to console]: Registered S3 methods overwritten by 'ggpp':\n",
            "  method                  from   \n",
            "  heightDetails.titleGrob ggplot2\n",
            "  widthDetails.titleGrob  ggplot2\n",
            "\n",
            "WARNING:rpy2.rinterface_lib.callbacks:R[write to console]: \n",
            "Attaching package: ‘ggpp’\n",
            "\n",
            "\n",
            "WARNING:rpy2.rinterface_lib.callbacks:R[write to console]: The following objects are masked from ‘package:ggpubr’:\n",
            "\n",
            "    as_npc, as_npcx, as_npcy\n",
            "\n",
            "\n",
            "WARNING:rpy2.rinterface_lib.callbacks:R[write to console]: The following object is masked from ‘package:ggplot2’:\n",
            "\n",
            "    annotate\n",
            "\n",
            "\n"
          ]
        },
        {
          "output_type": "stream",
          "name": "stdout",
          "text": [
            "`geom_smooth()` using formula = 'y ~ x'\n",
            "`geom_smooth()` using formula = 'y ~ x'\n"
          ]
        },
        {
          "output_type": "display_data",
          "data": {
            "image/png": "[encoded data removed]"
          },
          "metadata": {}
        }
      ]
    },
    {
      "cell_type": "markdown",
      "source": [
        "#### PLS with Preprocessing Multiplicative Scatter Correction (MSC)\n",
        "\n",
        "Multiplicative Scatter (or Signal) Correction (MSC) is a preprocessing technique used to correct for multiplicative effects in spectroscopic data. It is particularly useful for removing baseline drift and scattering effects in spectral data. MSC is based on the assumption that the spectral data can be modeled as the product of a pure spectrum and a multiplicative effect. By dividing each spectrum by its estimated pure spectrum, the multiplicative effects can be removed, leading to a more accurate representation of the spectral data."
      ],
      "metadata": {
        "id": "cQQLw4tUet6c"
      }
    },
    {
      "cell_type": "code",
      "source": [
        "%%R\n",
        "# maximum number of components in the PLS model\n",
        "maxc <- 10\n",
        "# generate a PLS model based on calibration data\n",
        "pls_02<- pls::plsr(octane ~ msc(NIR),\n",
        "                      data = train,\n",
        "                      ncomp = maxc,\n",
        "                      validation = \"CV\")\n",
        "summary(pls_02)"
      ],
      "metadata": {
        "colab": {
          "base_uri": "https://localhost:8080/"
        },
        "id": "BNLfQbrqfXfY",
        "outputId": "53054053-9915-4361-bd89-cfc05ef4e544"
      },
      "execution_count": null,
      "outputs": [
        {
          "output_type": "stream",
          "name": "stdout",
          "text": [
            "Data: \tX dimension: 50 401 \n",
            "\tY dimension: 50 1\n",
            "Fit method: kernelpls\n",
            "Number of components considered: 10\n",
            "\n",
            "VALIDATION: RMSEP\n",
            "Cross-validated using 10 random segments.\n",
            "       (Intercept)  1 comps  2 comps  3 comps  4 comps  5 comps  6 comps\n",
            "CV           1.545    1.307   0.2795   0.2533   0.2552   0.2423   0.2562\n",
            "adjCV        1.545    1.308   0.2779   0.2527   0.2500   0.2385   0.2499\n",
            "       7 comps  8 comps  9 comps  10 comps\n",
            "CV      0.2536   0.2649   0.2751    0.2856\n",
            "adjCV   0.2477   0.2577   0.2661    0.2751\n",
            "\n",
            "TRAINING: % variance explained\n",
            "        1 comps  2 comps  3 comps  4 comps  5 comps  6 comps  7 comps  8 comps\n",
            "X         82.09    92.56    95.73    96.53    97.78    98.19    98.56    98.78\n",
            "octane    33.06    97.06    97.92    98.71    98.87    99.06    99.15    99.29\n",
            "        9 comps  10 comps\n",
            "X         98.98     99.11\n",
            "octane    99.42     99.52\n"
          ]
        }
      ]
    },
    {
      "cell_type": "markdown",
      "source": [
        "#### Optimum Number of components with cross-validation\n",
        "\n",
        "Choosing the optimal number of components in a PLS model is crucial for achieving the best predictive performance. Cross-validation can be used to determine the number of components that minimize the prediction error. Here, we perform 10-fold cross-validation to find the optimal number of components for the PLS model.\n",
        "\n",
        "`selectNcomp()` function from the {pls} package can be used to select the optimal number of components based on cross-validation results. The function performs k-fold cross-validation to estimate the prediction error for different numbers of components and selects the number of components that minimize the prediction error.\n",
        "\n",
        "The approach `onesigma` simply returns the first model where the optimal CV is within one standard error of the absolute optimum"
      ],
      "metadata": {
        "id": "upC75MdVzWs3"
      }
    },
    {
      "cell_type": "code",
      "source": [
        "%%R -w 500 -h 400 -u px\n",
        "selectNcomp(pls_02, \"onesigma\", plot = TRUE, ylim = c(0, 3))"
      ],
      "metadata": {
        "colab": {
          "base_uri": "https://localhost:8080/",
          "height": 434
        },
        "id": "qoSXeuUOzaLE",
        "outputId": "fbbfd113-362e-400a-bcf9-f43ba473ec0d"
      },
      "execution_count": null,
      "outputs": [
        {
          "output_type": "stream",
          "name": "stdout",
          "text": [
            "[1] 2\n"
          ]
        },
        {
          "output_type": "display_data",
          "data": {
            "image/png": "[encoded data removed]"
          },
          "metadata": {}
        }
      ]
    },
    {
      "cell_type": "markdown",
      "source": [
        "The `randomization` test approach checks whether the squared prediction errors of models with fewer components are significantly larger than in the reference model"
      ],
      "metadata": {
        "id": "YmTzh9DyakyD"
      }
    },
    {
      "cell_type": "code",
      "source": [
        "%%R -w 500 -h 400 -u px\n",
        "selectNcomp(pls_02, \"randomization\", plot = TRUE, ylim = c(0, 3))"
      ],
      "metadata": {
        "colab": {
          "base_uri": "https://localhost:8080/",
          "height": 434
        },
        "id": "FdPNxpxaapTn",
        "outputId": "e828f0aa-65e3-444b-848f-e7fd8d5071b6"
      },
      "execution_count": null,
      "outputs": [
        {
          "output_type": "stream",
          "name": "stdout",
          "text": [
            "[1] 2\n"
          ]
        },
        {
          "output_type": "display_data",
          "data": {
            "image/png": "[encoded data removed]"
          },
          "metadata": {}
        }
      ]
    },
    {
      "cell_type": "markdown",
      "source": [
        "### Partial Least Squares Regression with `pls::mvr()`\n",
        "\n",
        "\n",
        "Alternatively, we can use the `pls::mvr()` function to perform `partial least squares regression (PLSR)`, `canonical powered partial least squares (CPPLS)` or `principal component regression (PCR)`, with a formula interface. Cross-validation can be used. Prediction, model extraction, plot, print and summary methods exist. `method = \"oscorespls\"` is used for PLSR model with the orthogonal scores algorithm (aka the NIPALS algorithm)., `method = \"cppls\"` for CPPLS and `method = \"simpls\"` for PLSR model with the SIMPLS algorithm. SIMPLS is much faster than the NIPALS algorithm, especially when the number of X variables increases, but gives slightly different results in the case of multivariate Y."
      ],
      "metadata": {
        "id": "3lELltfJflqK"
      }
    },
    {
      "cell_type": "markdown",
      "source": [
        "\n",
        "#### PLS with the Orthogonal Scores Algorithm (NIPALS)\n",
        "\n",
        "The Nonlinear Iterative Partial Least Squares (NIPALS) algorithm is one of the most commonly used methods to compute solutions for Partial Least Squares (PLS) regression. PLS is a dimensionality reduction technique that projects high-dimensional data into a lower-dimensional space by maximizing the covariance between predictor ($𝑋$) and response ($𝑌$) variables."
      ],
      "metadata": {
        "id": "1d8FmDxjgKYW"
      }
    },
    {
      "cell_type": "code",
      "source": [
        "%%R\n",
        "# maximum number of components in the PLS model\n",
        "maxc <- 10\n",
        "# generate a PLS model based on calibration data\n",
        "pls_03 <- pls::mvr(octane ~ NIR,\n",
        "                      data = train,\n",
        "                      method = \"oscorespls\",\n",
        "                      ncomp = maxc,\n",
        "                      validation = \"CV\")\n",
        "summary(pls_03)"
      ],
      "metadata": {
        "colab": {
          "base_uri": "https://localhost:8080/"
        },
        "id": "KREcavXRfqaK",
        "outputId": "ae7dd416-80eb-4527-805a-2312be3dcce4"
      },
      "execution_count": null,
      "outputs": [
        {
          "output_type": "stream",
          "name": "stdout",
          "text": [
            "Data: \tX dimension: 50 401 \n",
            "\tY dimension: 50 1\n",
            "Fit method: oscorespls\n",
            "Number of components considered: 10\n",
            "\n",
            "VALIDATION: RMSEP\n",
            "Cross-validated using 10 random segments.\n",
            "       (Intercept)  1 comps  2 comps  3 comps  4 comps  5 comps  6 comps\n",
            "CV           1.545    1.348   0.3008   0.2573   0.2558   0.2450   0.2268\n",
            "adjCV        1.545    1.345   0.2949   0.2549   0.2569   0.2397   0.2232\n",
            "       7 comps  8 comps  9 comps  10 comps\n",
            "CV      0.2272   0.2243   0.2491    0.2609\n",
            "adjCV   0.2231   0.2203   0.2421    0.2528\n",
            "\n",
            "TRAINING: % variance explained\n",
            "        1 comps  2 comps  3 comps  4 comps  5 comps  6 comps  7 comps  8 comps\n",
            "X         78.17    85.58    93.41    96.06    96.94    97.89    98.38    98.85\n",
            "octane    29.39    96.85    97.89    98.26    98.86    98.96    99.09    99.16\n",
            "        9 comps  10 comps\n",
            "X         99.02     99.19\n",
            "octane    99.28     99.39\n"
          ]
        }
      ]
    },
    {
      "cell_type": "markdown",
      "source": [
        "#### Canonical Powered Partial Least Squares (CPPLS)\n",
        "\n",
        "Canonical Powered Partial Least Squares (CPPLS) is a multivariate statistical method that combines the features of Canonical Correlation Analysis (CCA) and Partial Least Squares (PLS) to model relationships between two sets of variables while emphasizing their shared canonical structure. This method is particularly useful in analyzing high-dimensional data where the number of variables exceeds the number of observations, such as in genomics, chemometrics, or systems biology."
      ],
      "metadata": {
        "id": "gVJJSUMEgSE2"
      }
    },
    {
      "cell_type": "code",
      "source": [
        "%%R\n",
        "# maximum number of components in the PLS model\n",
        "maxc <- 10\n",
        "# generate a PLS model based on calibration data\n",
        "pls_ccpls <- pls::mvr(octane ~ NIR,\n",
        "                      data = train,\n",
        "                      method = \"cppls\",\n",
        "                      ncomp = maxc,\n",
        "                      validation = \"CV\")\n",
        "summary(pls_ccpls)"
      ],
      "metadata": {
        "colab": {
          "base_uri": "https://localhost:8080/"
        },
        "id": "gqwNvLZnfzGi",
        "outputId": "c9656900-0532-40fe-a32e-49ec82018548"
      },
      "execution_count": null,
      "outputs": [
        {
          "output_type": "stream",
          "name": "stdout",
          "text": [
            "Data: \tX dimension: 50 401 \n",
            "\tY dimension: 50 1\n",
            "Fit method: cppls\n",
            "Number of components considered: 10\n",
            "\n",
            "VALIDATION: RMSEP\n",
            "Cross-validated using 10 random segments.\n",
            "       (Intercept)  1 comps  2 comps  3 comps  4 comps  5 comps  6 comps\n",
            "CV           1.545    1.317   0.2970   0.2572   0.2557   0.2454   0.2280\n",
            "adjCV        1.545    1.315   0.2853   0.2559   0.2562   0.2400   0.2248\n",
            "       7 comps  8 comps  9 comps  10 comps\n",
            "CV      0.2350   0.2301   0.2549    0.2701\n",
            "adjCV   0.2308   0.2263   0.2477    0.2614\n",
            "\n",
            "TRAINING: % variance explained\n",
            "        1 comps  2 comps  3 comps  4 comps  5 comps  6 comps  7 comps  8 comps\n",
            "X         78.17    85.58    93.41    96.06    96.94    97.89    98.38    98.85\n",
            "octane    29.39    96.85    97.89    98.26    98.86    98.96    99.09    99.16\n",
            "        9 comps  10 comps\n",
            "X         99.02     99.19\n",
            "octane    99.28     99.39\n"
          ]
        }
      ]
    },
    {
      "cell_type": "markdown",
      "source": [
        "#### PLSR model with the SIMPLS algorithm\n",
        "\n",
        "The SIMPLS algorithm is a streamlined and computationally efficient approach for performing Partial Least Squares Regression (PLSR). Unlike the NIPALS algorithm, SIMPLS avoids iterative calculations for scores and directly computes the components in a simplified and mathematically elegant way. This makes SIMPLS particularly useful for large datasets."
      ],
      "metadata": {
        "id": "ycnY5DUvgYZi"
      }
    },
    {
      "cell_type": "code",
      "source": [
        "%%R\n",
        "# maximum number of components in the PLS model\n",
        "maxc <- 10\n",
        "# generate a PLS model based on calibration data\n",
        "pls_simple <- pls::mvr(octane ~ NIR,\n",
        "                      data = train,\n",
        "                      method = \"simpls\",\n",
        "                      ncomp = maxc,\n",
        "                      validation = \"CV\")\n",
        "summary(pls_simple)"
      ],
      "metadata": {
        "colab": {
          "base_uri": "https://localhost:8080/"
        },
        "id": "GAzFKHSnfuJu",
        "outputId": "335b6513-1d37-49a9-8e01-85ee39f2247f"
      },
      "execution_count": null,
      "outputs": [
        {
          "output_type": "stream",
          "name": "stdout",
          "text": [
            "Data: \tX dimension: 50 401 \n",
            "\tY dimension: 50 1\n",
            "Fit method: simpls\n",
            "Number of components considered: 10\n",
            "\n",
            "VALIDATION: RMSEP\n",
            "Cross-validated using 10 random segments.\n",
            "       (Intercept)  1 comps  2 comps  3 comps  4 comps  5 comps  6 comps\n",
            "CV           1.545    1.354   0.2936   0.2490   0.2431   0.2389   0.2292\n",
            "adjCV        1.545    1.352   0.2866   0.2473   0.2425   0.2331   0.2250\n",
            "       7 comps  8 comps  9 comps  10 comps\n",
            "CV      0.2321   0.2337   0.2436    0.2639\n",
            "adjCV   0.2273   0.2293   0.2374    0.2561\n",
            "\n",
            "TRAINING: % variance explained\n",
            "        1 comps  2 comps  3 comps  4 comps  5 comps  6 comps  7 comps  8 comps\n",
            "X         78.17    85.58    93.41    96.06    96.94    97.89    98.38    98.85\n",
            "octane    29.39    96.85    97.89    98.26    98.86    98.96    99.09    99.16\n",
            "        9 comps  10 comps\n",
            "X         99.02     99.19\n",
            "octane    99.28     99.39\n"
          ]
        }
      ]
    },
    {
      "cell_type": "markdown",
      "source": [
        "### Partial Least Squares Regression with `plsRglm` Package\n",
        "\n",
        "The {plsRglm} package in R provides functions for fitting Partial Least Squares (PLS) regression models for Generalized Linear Models (GLMs). This package extends the traditional PLS regression to handle non-Gaussian response distributions, such as logistic regression, Poisson regression, and other GLMs. The `plsRglm()` function is used to fit PLS regression models for GLMs, allowing for flexible modeling of complex relationships between predictors and responses."
      ],
      "metadata": {
        "id": "PPu5gutOXdE8"
      }
    },
    {
      "cell_type": "markdown",
      "source": [
        "#### PLS Regression\n",
        "\n",
        "We will use the `Cornell` dataset from the {plsRglm} package, which contains a  mixture experiment on X1, X2, X3, X4, X5, X6 and X7 to analyse octane degree (Y) in gazoline."
      ],
      "metadata": {
        "id": "1nc7D4wIXgSV"
      }
    },
    {
      "cell_type": "code",
      "source": [
        "%%R\n",
        "data(Cornell)\n",
        "str(Cornell)"
      ],
      "metadata": {
        "colab": {
          "base_uri": "https://localhost:8080/"
        },
        "id": "Uqa_xmh8Xp1N",
        "outputId": "9348c1b8-53df-4d06-b321-286ef91736d7"
      },
      "execution_count": null,
      "outputs": [
        {
          "output_type": "stream",
          "name": "stdout",
          "text": [
            "'data.frame':\t12 obs. of  8 variables:\n",
            " $ X1: num  0 0 0 0 0 0 0.17 0.17 0.17 0.17 ...\n",
            " $ X2: num  0.23 0.1 0 0.49 0 0.62 0.27 0.19 0.21 0.15 ...\n",
            " $ X3: num  0 0 0 0 0 0 0.1 0.1 0.1 0.1 ...\n",
            " $ X4: num  0 0 0.1 0 0.62 0 0.38 0.38 0.38 0.38 ...\n",
            " $ X5: num  0 0.12 0.12 0.12 0.12 0 0 0.02 0 0.02 ...\n",
            " $ X6: num  0.74 0.74 0.74 0.37 0.18 0.37 0 0.06 0.06 0.1 ...\n",
            " $ X7: num  0.03 0.04 0.04 0.02 0.08 0.01 0.08 0.08 0.08 0.08 ...\n",
            " $ Y : num  98.7 97.8 96.6 92 86.6 91.2 81.9 83.1 82.4 83.2 ...\n"
          ]
        }
      ]
    },
    {
      "cell_type": "markdown",
      "source": [
        "##### PLS with K-fold Cross-Validation\n",
        "\n",
        "We will use `cv.plsR()` function from the {plsRglm} package to perform Partial Least Squares (PLS) regression with k-fold cross-validation.  "
      ],
      "metadata": {
        "id": "2gk9hZLsXksP"
      }
    },
    {
      "cell_type": "code",
      "source": [
        "%%R\n",
        "cv.pls.01<-cv.plsR(Y~.,data=Cornell,\n",
        "                   nt=6,\n",
        "                   K=6,\n",
        "                   verbose = FALSE)"
      ],
      "metadata": {
        "id": "HHU1miPFYj8n"
      },
      "execution_count": null,
      "outputs": []
    },
    {
      "cell_type": "markdown",
      "source": [
        "`cvtable()` of {plsRglm} provides a table summary summary of cross validated `PLSR` and `PLSGLR` models"
      ],
      "metadata": {
        "id": "NU7aovwdY4bC"
      }
    },
    {
      "cell_type": "code",
      "source": [
        "%%R\n",
        "res.cv.pls.01<-cvtable(summary(cv.pls.01))\n",
        "res.cv.pls.01"
      ],
      "metadata": {
        "colab": {
          "base_uri": "https://localhost:8080/"
        },
        "id": "vax16iVYY3GP",
        "outputId": "c6195af4-f1d4-4c16-900b-cc863adc3de8"
      },
      "execution_count": null,
      "outputs": [
        {
          "output_type": "stream",
          "name": "stdout",
          "text": [
            "____************************************************____\n",
            "____Component____ 1 ____\n",
            "____Component____ 2 ____\n",
            "____Component____ 3 ____\n",
            "____Component____ 4 ____\n",
            "____Component____ 5 ____\n",
            "____Component____ 6 ____\n",
            "____Predicting X without NA neither in X nor in Y____\n",
            "****________________________________________________****\n",
            "\n",
            "\n",
            "NK: 1\n",
            "\n",
            "CV Q2 criterion:\n",
            "0 1 \n",
            "0 1 \n",
            "\n",
            "CV Press criterion:\n",
            "1 2 3 4 \n",
            "0 0 0 1 \n",
            "$CVQ2\n",
            "\n",
            "0 1 \n",
            "0 1 \n",
            "\n",
            "$CVPress\n",
            "\n",
            "1 2 3 4 \n",
            "0 0 0 1 \n",
            "\n",
            "attr(,\"class\")\n",
            "[1] \"table.summary.cv.plsRmodel\"\n"
          ]
        }
      ]
    },
    {
      "cell_type": "code",
      "source": [
        "%%R -w 500 -h 400 -u px\n",
        "plot(res.cv.pls.01)"
      ],
      "metadata": {
        "colab": {
          "base_uri": "https://localhost:8080/",
          "height": 417
        },
        "id": "vC6PO_paZIPe",
        "outputId": "a610cfeb-25aa-48f1-c984-31f65595afee"
      },
      "execution_count": null,
      "outputs": [
        {
          "output_type": "display_data",
          "data": {
            "image/png": "[encoded data removed]"
          },
          "metadata": {}
        }
      ]
    },
    {
      "cell_type": "markdown",
      "source": [
        "##### Fit PLS with Leave-One-Out Cross-Validation\n",
        "\n",
        "We use the `plsR()` function from the {plsRglm} package to implement PLS Regression models with leave one out cross validation for complete or incomplete datasets. `typeVC` can be set to `standard` or `adaptative` for leave one out cross validation. Uf data contains missing values, use `typeVC = missingdata`.  `pvals.expli` is set to TRUE,  p-values be reported to tune model selection"
      ],
      "metadata": {
        "id": "wQlQLYoJZQ41"
      }
    },
    {
      "cell_type": "code",
      "source": [
        "%%R\n",
        "pls.01<-plsR(Y~.,\n",
        "             data=Cornell,\n",
        "             nt=6,\n",
        "             typeVC=\"standard\",\n",
        "             pvals.expli=TRUE,\n",
        "             verbose=FALSE)"
      ],
      "metadata": {
        "id": "sNVwQDnCZRtN"
      },
      "execution_count": null,
      "outputs": []
    },
    {
      "cell_type": "code",
      "source": [
        "%%R\n",
        "colSums(pls.01$pvalstep)"
      ],
      "metadata": {
        "colab": {
          "base_uri": "https://localhost:8080/"
        },
        "id": "bmDBV7roZYTI",
        "outputId": "84bd5f14-37ab-4e0b-bfda-e3e7e226d326"
      },
      "execution_count": null,
      "outputs": [
        {
          "output_type": "stream",
          "name": "stdout",
          "text": [
            "[1] 0 0 3 0 0 0\n"
          ]
        }
      ]
    },
    {
      "cell_type": "markdown",
      "source": [
        "Table of Information Criteria can be obtained using `$InfCrit`"
      ],
      "metadata": {
        "id": "gjPSPQ_oZfpx"
      }
    },
    {
      "cell_type": "code",
      "source": [
        "%%R\n",
        "pls.01$InfCrit"
      ],
      "metadata": {
        "colab": {
          "base_uri": "https://localhost:8080/"
        },
        "id": "E6t3-rBsZc_D",
        "outputId": "7ca8b156-2dd4-4f22-afca-985015456ff5"
      },
      "execution_count": null,
      "outputs": [
        {
          "output_type": "stream",
          "name": "stdout",
          "text": [
            "               AIC   Q2cum_Y LimQ2_Y        Q2_Y   PRESS_Y      RSS_Y      R2_Y\n",
            "Nb_Comp_0 82.01205        NA      NA          NA        NA 467.796667        NA\n",
            "Nb_Comp_1 53.15173 0.8966556  0.0975  0.89665563 48.344150  35.742486 0.9235940\n",
            "Nb_Comp_2 41.08283 0.9175426  0.0975  0.20210989 28.518576  11.066606 0.9763431\n",
            "Nb_Comp_3 32.06411 0.9399676  0.0975  0.27195907  8.056942   4.418081 0.9905556\n",
            "Nb_Comp_4 33.76477 0.9197009  0.0975 -0.33759604  5.909608   4.309235 0.9907882\n",
            "Nb_Comp_5 33.34373 0.9281373  0.0975  0.10506161  3.856500   3.521924 0.9924713\n",
            "Nb_Comp_6 35.25533 0.9232562  0.0975 -0.06792167  3.761138   3.496074 0.9925265\n",
            "          R2_residY  RSS_residY PRESS_residY   Q2_residY  LimQ2 Q2cum_residY\n",
            "Nb_Comp_0        NA 11.00000000           NA          NA     NA           NA\n",
            "Nb_Comp_1 0.9235940  0.84046633   1.13678803  0.89665563 0.0975    0.8966556\n",
            "Nb_Comp_2 0.9763431  0.26022559   0.67059977  0.20210989 0.0975    0.9175426\n",
            "Nb_Comp_3 0.9905556  0.10388893   0.18945488  0.27195907 0.0975    0.9399676\n",
            "Nb_Comp_4 0.9907882  0.10132947   0.13896142 -0.33759604 0.0975    0.9197009\n",
            "Nb_Comp_5 0.9924713  0.08281624   0.09068364  0.10506161 0.0975    0.9281373\n",
            "Nb_Comp_6 0.9925265  0.08220840   0.08844125 -0.06792167 0.0975    0.9232562\n",
            "             AIC.std  DoF.dof sigmahat.dof    AIC.dof    BIC.dof GMDL.dof\n",
            "Nb_Comp_0  37.010388 1.000000    6.5212706 46.0708838 47.7893514 27.59461\n",
            "Nb_Comp_1   8.150064 2.740749    1.8665281  4.5699686  4.9558156 21.34020\n",
            "Nb_Comp_2  -3.918831 5.085967    1.1825195  2.1075461  2.3949331 27.40202\n",
            "Nb_Comp_3 -12.937550 5.121086    0.7488308  0.8467795  0.9628191 24.40842\n",
            "Nb_Comp_4 -11.236891 5.103312    0.7387162  0.8232505  0.9357846 24.23105\n",
            "Nb_Comp_5 -11.657929 6.006316    0.7096382  0.7976101  0.9198348 28.21184\n",
            "Nb_Comp_6  -9.746328 7.000000    0.7633342  0.9711318  1.1359496 33.18347\n",
            "          DoF.naive sigmahat.naive  AIC.naive  BIC.naive GMDL.naive\n",
            "Nb_Comp_0         1      6.5212706 46.0708838 47.7893514   27.59461\n",
            "Nb_Comp_1         2      1.8905683  4.1699567  4.4588195   18.37545\n",
            "Nb_Comp_2         3      1.1088836  1.5370286  1.6860917   17.71117\n",
            "Nb_Comp_3         4      0.7431421  0.7363469  0.8256118   19.01033\n",
            "Nb_Comp_4         5      0.7846050  0.8721072  0.9964867   24.16510\n",
            "Nb_Comp_5         6      0.7661509  0.8804809  1.0227979   28.64206\n",
            "Nb_Comp_6         7      0.8361907  1.1070902  1.3048716   33.63927\n"
          ]
        }
      ]
    },
    {
      "cell_type": "markdown",
      "source": [
        "The evaluation of significant predictors associated with each component indicates that building only three components is optimal. This finding contrasts with the results from the AIC criteria, which recommend including five components, and the BIC, which also suggests five components. Moreover, the cross-validated Q² cumulative criterion supports the decision to retain three components during leave-one-out cross-validation. However, it suggests that only one component should be preserved when using six-fold cross-validation. This analysis underscores the importance of carefully considering various criteria to identify the most effective model structure."
      ],
      "metadata": {
        "id": "OV64430QZnod"
      }
    },
    {
      "cell_type": "markdown",
      "source": [
        "To further refine our model, the six-fold cross-validation was conducted 100 times, with groups of samples randomly created for each iteration. The optimal number of components was determined based on the minimum cross-validated prediction error."
      ],
      "metadata": {
        "id": "iCWo_js7ZoW0"
      }
    },
    {
      "cell_type": "code",
      "source": [
        "%%R\n",
        "set.seed(123)\n",
        "cv.pls.02<-cv.plsR(Y~.,\n",
        "                   data=Cornell,\n",
        "                   nt=6,K=6,\n",
        "                   NK=100,\n",
        "                   random=TRUE,\n",
        "                   verbose=FALSE)"
      ],
      "metadata": {
        "id": "j9j7O0rGZq8O"
      },
      "execution_count": null,
      "outputs": []
    },
    {
      "cell_type": "code",
      "source": [
        "%%R\n",
        "res.cv.pls.02=cvtable(summary(cv.pls.02))"
      ],
      "metadata": {
        "colab": {
          "base_uri": "https://localhost:8080/"
        },
        "id": "q8d00hPBap7X",
        "outputId": "46bf2cd8-a389-4396-a450-c756691b1492"
      },
      "execution_count": null,
      "outputs": [
        {
          "output_type": "stream",
          "name": "stdout",
          "text": [
            "____************************************************____\n",
            "____Component____ 1 ____\n",
            "____Component____ 2 ____\n",
            "____Component____ 3 ____\n",
            "____Component____ 4 ____\n",
            "____Component____ 5 ____\n",
            "____Component____ 6 ____\n",
            "____Predicting X without NA neither in X nor in Y____\n",
            "****________________________________________________****\n",
            "\n",
            "\n",
            "NK: 1,  2,  3,  4,  5,  6,  7,  8,  9,  10\n",
            "NK: 11,  12,  13,  14,  15,  16,  17,  18,  19,  20\n",
            "NK: 21,  22,  23,  24,  25,  26,  27,  28,  29,  30\n",
            "NK: 31,  32,  33,  34,  35,  36,  37,  38,  39,  40\n",
            "NK: 41,  42,  43,  44,  45,  46,  47,  48,  49,  50\n",
            "NK: 51,  52,  53,  54,  55,  56,  57,  58,  59,  60\n",
            "NK: 61,  62,  63,  64,  65,  66,  67,  68,  69,  70\n",
            "NK: 71,  72,  73,  74,  75,  76,  77,  78,  79,  80\n",
            "NK: 81,  82,  83,  84,  85,  86,  87,  88,  89,  90\n",
            "NK: 91,  92,  93,  94,  95,  96,  97,  98,  99,  100\n",
            "\n",
            "CV Q2 criterion:\n",
            " 0  1  2 \n",
            " 0 87 13 \n",
            "\n",
            "CV Press criterion:\n",
            " 1  2  3  4  5 \n",
            " 0  0 44 45 11 \n"
          ]
        }
      ]
    },
    {
      "cell_type": "code",
      "source": [
        "%%R -w 500 -h 400 -u px\n",
        "plot(res.cv.pls.02)"
      ],
      "metadata": {
        "colab": {
          "base_uri": "https://localhost:8080/",
          "height": 417
        },
        "id": "2FFkvl2hav3q",
        "outputId": "8faa144d-bc4b-4af6-8be8-2a6b4b5d66d5"
      },
      "execution_count": null,
      "outputs": [
        {
          "output_type": "display_data",
          "data": {
            "image/png": "[encoded data removed]"
          },
          "metadata": {}
        }
      ]
    },
    {
      "cell_type": "markdown",
      "source": [
        "The results, based on the use of the $Q^2$ criterion, (Fig. 1) confirm those of the first 6-fold CV cross validation: we decide to retain 1 components which explain 87% of the variance. The $Q^2$ criterion is a measure of the predictive ability of the model. It is calculated as the proportion of the variance of the response variable that is predicted by the model. A high $Q^2$ value indicates a good predictive performance of the model."
      ],
      "metadata": {
        "id": "oZqaWvBpa3Om"
      }
    },
    {
      "cell_type": "markdown",
      "source": [
        "We will refit the model with the 1 components:"
      ],
      "metadata": {
        "id": "8qF3Ugc9a55R"
      }
    },
    {
      "cell_type": "code",
      "source": [
        "%%R\n",
        "pls.02<-plsR(Y~.,\n",
        "             data=Cornell,\n",
        "             nt=1,\n",
        "             p.vals.expli=TRUE,\n",
        "             verbose=FALSE)"
      ],
      "metadata": {
        "id": "478ByFCIa7D1"
      },
      "execution_count": null,
      "outputs": []
    },
    {
      "cell_type": "code",
      "source": [
        "%%R\n",
        "pls.02$InfCrit"
      ],
      "metadata": {
        "colab": {
          "base_uri": "https://localhost:8080/"
        },
        "id": "nY1gTodXbAS7",
        "outputId": "f8df86b4-4495-4b02-c06a-094c7f6b7441"
      },
      "execution_count": null,
      "outputs": [
        {
          "output_type": "stream",
          "name": "stdout",
          "text": [
            "               AIC     RSS_Y     R2_Y R2_residY RSS_residY   AIC.std  DoF.dof\n",
            "Nb_Comp_0 82.01205 467.79667       NA        NA 11.0000000 37.010388 1.000000\n",
            "Nb_Comp_1 53.15173  35.74249 0.923594  0.923594  0.8404663  8.150064 2.740749\n",
            "          sigmahat.dof   AIC.dof   BIC.dof GMDL.dof DoF.naive sigmahat.naive\n",
            "Nb_Comp_0     6.521271 46.070884 47.789351 27.59461         1       6.521271\n",
            "Nb_Comp_1     1.866528  4.569969  4.955816 21.34020         2       1.890568\n",
            "          AIC.naive BIC.naive GMDL.naive\n",
            "Nb_Comp_0 46.070884  47.78935   27.59461\n",
            "Nb_Comp_1  4.169957   4.45882   18.37545\n"
          ]
        }
      ]
    },
    {
      "cell_type": "code",
      "source": [
        "%%R\n",
        "pls.02$Coeffs"
      ],
      "metadata": {
        "colab": {
          "base_uri": "https://localhost:8080/"
        },
        "id": "ClwpUKCcbCZj",
        "outputId": "ca5eadfc-1d47-4fd0-ce62-2a302b6df954"
      },
      "execution_count": null,
      "outputs": [
        {
          "output_type": "stream",
          "name": "stdout",
          "text": [
            "                 [,1]\n",
            "Intercept  92.4321920\n",
            "X1        -14.8845522\n",
            "X2         -0.5942086\n",
            "X3        -25.5423703\n",
            "X4         -5.1075228\n",
            "X5         14.1877035\n",
            "X6          5.5177190\n",
            "X7        -44.9000310\n"
          ]
        }
      ]
    },
    {
      "cell_type": "markdown",
      "source": [
        "Modified weights (to be used with original matrix of predictor variables) can be obtained using `$wwetoile`"
      ],
      "metadata": {
        "id": "HgLSrCAZbJTp"
      }
    },
    {
      "cell_type": "code",
      "source": [
        "%%R\n",
        "pls.02$wwetoile"
      ],
      "metadata": {
        "colab": {
          "base_uri": "https://localhost:8080/"
        },
        "id": "9l_2VkqibKeU",
        "outputId": "946b71ce-b22a-4f16-f394-b6b3d3a15dda"
      },
      "execution_count": null,
      "outputs": [
        {
          "output_type": "stream",
          "name": "stdout",
          "text": [
            "   Coord_Comp_1\n",
            "X1  -0.43699629\n",
            "X2  -0.03696135\n",
            "X3  -0.43734182\n",
            "X4  -0.36884361\n",
            "X5   0.25772058\n",
            "X6   0.51412193\n",
            "X7  -0.38679886\n"
          ]
        }
      ]
    },
    {
      "cell_type": "markdown",
      "source": [
        "We can also use automatic selection of the number of components using `sparse=TRUE` argument. The optimal number of components is determined based on the minimum cross-validated prediction error. `sparseStop = FALSE` argument is used to determine  should component extraction stop when no significant predictors are found."
      ],
      "metadata": {
        "id": "VrzKY13dbWvu"
      }
    },
    {
      "cell_type": "code",
      "source": [
        "%%R\n",
        "pls.03<- plsR(Y~.\n",
        "              ,data=Cornell,\n",
        "              nt = 6,\n",
        "              sparse=TRUE,\n",
        "              sparseStop=FALSE,\n",
        "              verbose=FALSE)\n",
        "pls.03"
      ],
      "metadata": {
        "colab": {
          "base_uri": "https://localhost:8080/"
        },
        "id": "EKxju_s-bXgK",
        "outputId": "0178cf1b-3457-472c-d840-7db82edb763f"
      },
      "execution_count": null,
      "outputs": [
        {
          "output_type": "stream",
          "name": "stdout",
          "text": [
            "Number of required components:\n",
            "[1] 6\n",
            "Number of successfully computed components:\n",
            "[1] 1\n",
            "Coefficients:\n",
            "                 [,1]\n",
            "Intercept  92.4321920\n",
            "X1        -14.8845522\n",
            "X2         -0.5942086\n",
            "X3        -25.5423703\n",
            "X4         -5.1075228\n",
            "X5         14.1877035\n",
            "X6          5.5177190\n",
            "X7        -44.9000310\n",
            "Information criteria and Fit statistics:\n",
            "               AIC     RSS_Y     R2_Y R2_residY RSS_residY   AIC.std  DoF.dof\n",
            "Nb_Comp_0 82.01205 467.79667       NA        NA 11.0000000 37.010388 1.000000\n",
            "Nb_Comp_1 53.15173  35.74249 0.923594  0.923594  0.8404663  8.150064 2.740749\n",
            "          sigmahat.dof   AIC.dof   BIC.dof GMDL.dof DoF.naive sigmahat.naive\n",
            "Nb_Comp_0     6.521271 46.070884 47.789351 27.59461         1       6.521271\n",
            "Nb_Comp_1     1.866528  4.569969  4.955816 21.34020         2       1.890568\n",
            "          AIC.naive BIC.naive GMDL.naive\n",
            "Nb_Comp_0 46.070884  47.78935   27.59461\n",
            "Nb_Comp_1  4.169957   4.45882   18.37545\n"
          ]
        }
      ]
    },
    {
      "cell_type": "markdown",
      "source": [
        "#### PLS GLM Regression\n",
        "\n",
        "The {plsRglm} package supports Partial Least Squares (PLS) GLM regression.  `cv.plsRglm` function  fits a PLS regression model for Generalized Linear Models (GLMs) and performs k-fold cross-validation to evaluate the model's predictive performance. the `modele` argument is set to `pls-glm-family` to fit a PLS regression model for GLMs. The family argument specifies the distribution of the response variable (e.g., `gaussian()` for Gaussian distribution, `binomial()` for binomial distribution). The K argument specifies the number of folds for cross-validation. The verbose argument is set to FALSE to suppress output messages."
      ],
      "metadata": {
        "id": "8m21KiaRbdeh"
      }
    },
    {
      "cell_type": "code",
      "source": [
        "%%R\n",
        "cv.pls.03<- cv.plsRglm(Y~.,\n",
        "                   data=Cornell,\n",
        "                   nt=3,\n",
        "                   modele=\"pls-glm-family\",\n",
        "                   family=gaussian(),\n",
        "                   K=12,\n",
        "                   verbose=FALSE)"
      ],
      "metadata": {
        "id": "IgfPXRRKbeNu"
      },
      "execution_count": null,
      "outputs": []
    },
    {
      "cell_type": "code",
      "source": [
        "%%R\n",
        "res.cv.pls.03=cvtable(summary(cv.pls.03))"
      ],
      "metadata": {
        "colab": {
          "base_uri": "https://localhost:8080/"
        },
        "id": "X-ZCnZILch-H",
        "outputId": "a8383e38-a8fc-400d-df00-c433ef00f0e7"
      },
      "execution_count": null,
      "outputs": [
        {
          "output_type": "stream",
          "name": "stdout",
          "text": [
            "____************************************************____\n",
            "\n",
            "Family: gaussian \n",
            "Link function: identity \n",
            "\n",
            "____Component____ 1 ____\n",
            "____Component____ 2 ____\n",
            "____Component____ 3 ____\n",
            "____Predicting X without NA neither in X or Y____\n",
            "****________________________________________________****\n",
            "\n",
            "\n",
            "NK: 1\n",
            "\n",
            "CV Q2Chi2 criterion:\n",
            "0 1 2 \n",
            "0 0 1 \n",
            "\n",
            "CV PreChi2 criterion:\n",
            "1 2 3 \n",
            "0 0 1 \n"
          ]
        }
      ]
    },
    {
      "cell_type": "code",
      "source": [
        "%%R -w 500 -h 400 -u px\n",
        "plot(res.cv.pls.03)"
      ],
      "metadata": {
        "colab": {
          "base_uri": "https://localhost:8080/",
          "height": 417
        },
        "id": "6vNz-HCScnup",
        "outputId": "1ba0ca62-08e4-417b-b3f7-4b50566c2c04"
      },
      "execution_count": null,
      "outputs": [
        {
          "output_type": "display_data",
          "data": {
            "image/png": "[encoded data removed]"
          },
          "metadata": {}
        }
      ]
    },
    {
      "cell_type": "markdown",
      "source": [
        "Now we fit the PLS GLM model using `plsRglm()` function with the 1  component based on cross-validation results."
      ],
      "metadata": {
        "id": "SaUiqczLctu6"
      }
    },
    {
      "cell_type": "code",
      "source": [
        "%%R\n",
        "pls.04<- plsRglm(Y~.,\n",
        "                   data=Cornell,\n",
        "                   nt=1,\n",
        "                   modele=\"pls-glm-family\",\n",
        "                   family=gaussian(),\n",
        "                   K=12,\n",
        "                   verbose=FALSE)\n",
        "pls.04"
      ],
      "metadata": {
        "colab": {
          "base_uri": "https://localhost:8080/"
        },
        "id": "spxj9riPcskY",
        "outputId": "8d0e1342-7215-485c-80db-343bd265a6c0"
      },
      "execution_count": null,
      "outputs": [
        {
          "output_type": "stream",
          "name": "stdout",
          "text": [
            "Number of required components:\n",
            "[1] 1\n",
            "Number of successfully computed components:\n",
            "[1] 1\n",
            "Coefficients:\n",
            "                 [,1]\n",
            "Intercept  92.4321920\n",
            "X1        -14.8845522\n",
            "X2         -0.5942086\n",
            "X3        -25.5423703\n",
            "X4         -5.1075228\n",
            "X5         14.1877035\n",
            "X6          5.5177190\n",
            "X7        -44.9000310\n",
            "Information criteria and Fit statistics:\n",
            "               AIC      BIC Chi2_Pearson_Y     RSS_Y     R2_Y R2_residY\n",
            "Nb_Comp_0 82.01205 82.98186      467.79667 467.79667       NA        NA\n",
            "Nb_Comp_1 53.15173 54.60645       35.74249  35.74249 0.923594  0.923594\n",
            "          RSS_residY\n",
            "Nb_Comp_0  467.79667\n",
            "Nb_Comp_1   35.74249\n",
            "Model with all the required components:\n",
            "\n",
            "Call:  glm(formula = YwotNA ~ ., family = structure(list(family = \"gaussian\", \n",
            "    link = \"identity\", linkfun = function (mu) \n",
            "    mu, linkinv = function (eta) \n",
            "    eta, variance = function (mu) \n",
            "    rep.int(1, length(mu)), dev.resids = function (y, mu, wt) \n",
            "    wt * ((y - mu)^2), aic = function (y, n, mu, wt, dev) \n",
            "    {\n",
            "        nobs <- length(y)\n",
            "        nobs * (log(dev/nobs * 2 * pi) + 1) + 2 - sum(log(wt))\n",
            "    }, mu.eta = function (eta) \n",
            "    rep.int(1, length(eta)), initialize = expression({\n",
            "        n <- rep.int(1, nobs)\n",
            "        if (is.null(etastart) && is.null(start) && is.null(mustart) && \n",
            "            ((family$link == \"inverse\" && any(y == 0)) || (family$link == \n",
            "                \"log\" && any(y <= 0)))) \n",
            "            stop(\"cannot find valid starting values: please specify some\")\n",
            "        mustart <- y\n",
            "    }), validmu = function (mu) \n",
            "    TRUE, valideta = function (eta) \n",
            "    TRUE, dispersion = NA_real_), class = \"family\"), data = structure(list(\n",
            "    YwotNA = c(98.7, 97.8, 96.6, 92, 86.6, 91.2, 81.9, 83.1, \n",
            "    82.4, 83.2, 81.4, 88.1), tt = c(2.05131893263912, 2.47466081751057, \n",
            "    2.33108430468934, 2.03715456734619, -0.0681071432357965, \n",
            "    1.61381268247474, -2.20425338468756, -1.99354688440691, -2.08759464246063, \n",
            "    -1.91577438958896, -2.07628407808216, -0.162470782197947)), class = \"data.frame\", row.names = c(\"1\", \n",
            "\"2\", \"3\", \"4\", \"5\", \"6\", \"7\", \"8\", \"9\", \"10\", \"11\", \"12\")), na.action = function (object, \n",
            "    ...) \n",
            "UseMethod(\"na.exclude\"), model = TRUE, method = \"glm.fit\")\n",
            "\n",
            "Coefficients:\n",
            "(Intercept)           tt  \n",
            "     88.583        3.143  \n",
            "\n",
            "Degrees of Freedom: 11 Total (i.e. Null);  10 Residual\n",
            "Null Deviance:\t    467.8 \n",
            "Residual Deviance: 35.74 \tAIC: 53.15\n"
          ]
        }
      ]
    },
    {
      "cell_type": "markdown",
      "source": [
        "\n",
        "#### PLS Binary Logistic Regression\n",
        "\n",
        "The {plsRglm} package also supports Partial Least Squares (PLS) regression for binary logistic regression models. This is useful when the response variable is binary (e.g., 0 or 1) and the predictors are continuous or categorical variables.\n",
        "\n",
        "We will use `azel` dataset from the {plsRglm} package, which contains information on patients with colon adenocarcinoma. The dataset has 104 observations on 33 binary qualitative explanatory variables and one response variable `y` representing the cancer stage according to the Astler-Coller classification. A microsatellite is a non-coding DNA sequence."
      ],
      "metadata": {
        "id": "UvTbkIvKc4Px"
      }
    },
    {
      "cell_type": "code",
      "source": [
        "%%R\n",
        "data(aze_compl)\n",
        "str(aze_compl)"
      ],
      "metadata": {
        "colab": {
          "base_uri": "https://localhost:8080/"
        },
        "id": "Oo-0i0Eoc7uW",
        "outputId": "19e4bd03-681e-4778-969d-bfa952fd74f2"
      },
      "execution_count": null,
      "outputs": [
        {
          "output_type": "stream",
          "name": "stdout",
          "text": [
            "'data.frame':\t104 obs. of  34 variables:\n",
            " $ y      : int  0 0 0 0 0 0 0 0 0 0 ...\n",
            " $ D2S138 : int  0 0 1 1 0 0 0 0 1 0 ...\n",
            " $ D18S61 : int  1 0 0 0 0 0 1 1 1 1 ...\n",
            " $ D16S422: int  1 1 0 0 1 0 0 1 1 0 ...\n",
            " $ D17S794: int  1 1 1 1 1 0 1 0 0 1 ...\n",
            " $ D6S264 : int  0 1 0 0 1 0 1 1 0 0 ...\n",
            " $ D14S65 : int  1 1 1 1 0 1 1 1 0 0 ...\n",
            " $ D18S53 : int  1 0 1 1 0 0 1 1 1 0 ...\n",
            " $ D17S790: int  0 1 0 0 1 0 1 0 0 1 ...\n",
            " $ D1S225 : int  0 1 0 0 0 0 1 0 1 0 ...\n",
            " $ D3S1282: int  0 0 1 0 0 0 1 1 0 0 ...\n",
            " $ D9S179 : int  1 1 1 0 0 0 0 0 1 1 ...\n",
            " $ D5S430 : int  1 1 0 1 1 0 1 0 1 0 ...\n",
            " $ D8S283 : int  1 1 0 1 0 0 0 1 1 0 ...\n",
            " $ D11S916: int  0 0 0 0 0 0 0 0 1 1 ...\n",
            " $ D2S159 : int  1 0 0 0 0 0 0 0 1 0 ...\n",
            " $ D16S408: int  1 1 0 1 0 0 1 1 1 0 ...\n",
            " $ D5S346 : int  0 1 0 1 0 0 0 1 1 0 ...\n",
            " $ D10S191: int  0 0 0 0 0 0 0 1 1 0 ...\n",
            " $ D13S173: int  1 1 1 1 1 0 0 1 0 1 ...\n",
            " $ D6S275 : int  0 1 1 0 0 1 1 0 1 1 ...\n",
            " $ D15S127: int  1 0 0 0 0 1 1 0 1 0 ...\n",
            " $ D1S305 : int  0 0 0 0 0 0 1 0 1 0 ...\n",
            " $ D4S394 : int  0 0 1 0 1 0 1 0 1 1 ...\n",
            " $ D20S107: int  1 1 1 1 0 0 1 1 1 1 ...\n",
            " $ D1S197 : int  0 0 1 0 0 1 1 1 1 0 ...\n",
            " $ D1S207 : int  0 0 0 0 0 0 1 0 1 0 ...\n",
            " $ D10S192: int  1 1 1 1 0 0 1 0 1 1 ...\n",
            " $ D3S1283: int  0 0 1 1 0 0 1 1 1 0 ...\n",
            " $ D4S414 : int  0 1 0 0 0 0 1 0 1 1 ...\n",
            " $ D8S264 : int  0 1 0 0 0 0 0 1 1 0 ...\n",
            " $ D22S928: int  0 1 0 0 0 0 0 1 1 0 ...\n",
            " $ TP53   : int  1 1 0 0 1 0 1 1 1 1 ...\n",
            " $ D9S171 : int  0 1 0 1 1 0 0 1 1 1 ...\n"
          ]
        }
      ]
    },
    {
      "cell_type": "markdown",
      "source": [
        "##### PLS Logistic Model\n",
        "\n",
        "We will use `cv.plsRglm` function from the {plsRglm} package to PLS logistic model with k-fold cross-validation. This function fits a PLS regression model for Generalized Linear Models (GLMs) and performs k-fold cross-validation to evaluate the model's predictive performance. The optimal number of components is selected based on the minimum cross-validated prediction error."
      ],
      "metadata": {
        "id": "lBpfVDFfdCfI"
      }
    },
    {
      "cell_type": "code",
      "source": [
        "%%R\n",
        "cv.pls.logitic<- cv.plsRglm(y~.,data=aze_compl,\n",
        "                            nt=10,\n",
        "                            modele=\"pls-glm-logistic\",\n",
        "                            K=8,\n",
        "                            NK=100,\n",
        "                            keepcoeffs=TRUE,\n",
        "                            verbose=FALSE)"
      ],
      "metadata": {
        "id": "i3jdZTOZdDkB"
      },
      "execution_count": null,
      "outputs": []
    },
    {
      "cell_type": "code",
      "source": [
        "%%R\n",
        "res.cv.pls.logitic<-cvtable(summary(cv.pls.logitic, MClassed=TRUE))\n",
        "res.cv.pls.logitic"
      ],
      "metadata": {
        "colab": {
          "base_uri": "https://localhost:8080/"
        },
        "id": "E-5Il9m0goho",
        "outputId": "0606abf6-a0fa-4f58-c595-d4628eb8d8dc"
      },
      "execution_count": null,
      "outputs": [
        {
          "output_type": "stream",
          "name": "stdout",
          "text": [
            "____************************************************____\n",
            "\n",
            "Family: binomial \n",
            "Link function: logit \n",
            "\n",
            "____Component____ 1 ____\n",
            "____Component____ 2 ____\n",
            "____Component____ 3 ____\n",
            "____Component____ 4 ____\n",
            "____Component____ 5 ____\n",
            "____Component____ 6 ____\n",
            "____Component____ 7 ____\n",
            "____Component____ 8 ____\n",
            "____Component____ 9 ____\n",
            "____Component____ 10 ____\n",
            "____Predicting X without NA neither in X or Y____\n",
            "****________________________________________________****\n",
            "\n",
            "\n",
            "NK: 1,  2,  3,  4,  5,  6,  7,  8,  9,  10\n",
            "NK: 11,  12,  13,  14,  15,  16,  17,  18,  19,  20\n",
            "NK: 21,  22,  23,  24,  25,  26,  27,  28,  29,  30\n",
            "NK: 31,  32,  33,  34,  35,  36,  37,  38,  39,  40\n",
            "NK: 41,  42,  43,  44,  45,  46,  47,  48,  49,  50\n",
            "NK: 51,  52,  53,  54,  55,  56,  57,  58,  59,  60\n",
            "NK: 61,  62,  63,  64,  65,  66,  67,  68,  69,  70\n",
            "NK: 71,  72,  73,  74,  75,  76,  77,  78,  79,  80\n",
            "NK: 81,  82,  83,  84,  85,  86,  87,  88,  89,  90\n",
            "NK: 91,  92,  93,  94,  95,  96,  97,  98,  99,  100\n",
            "\n",
            "CV MissClassed criterion:\n",
            " 1  2  3  4  5  6  7  8  9 10 \n",
            "38  8 35  2  1  4  6  4  0  2 \n",
            "\n",
            "CV Q2Chi2 criterion:\n",
            "  0 \n",
            "100 \n",
            "\n",
            "CV PreChi2 criterion:\n",
            "  1 \n",
            "100 \n",
            "$CVMC\n",
            "\n",
            " 1  2  3  4  5  6  7  8  9 10 \n",
            "38  8 35  2  1  4  6  4  0  2 \n",
            "\n",
            "$CVQ2Chi2\n",
            "\n",
            "  0 \n",
            "100 \n",
            "\n",
            "$CVPreChi2\n",
            "\n",
            "  1 \n",
            "100 \n",
            "\n",
            "attr(,\"class\")\n",
            "[1] \"table.summary.cv.plsRglmmodel\"\n"
          ]
        }
      ]
    },
    {
      "cell_type": "markdown",
      "source": [
        "We will fit the model with  options `sparse` and `sparseStop` allows  automatic selection of the number of components"
      ],
      "metadata": {
        "id": "562WBULoguA4"
      }
    },
    {
      "cell_type": "code",
      "source": [
        "%%R\n",
        "pls.logitic<- plsRglm(y~.,data=aze_compl,\n",
        "                         nt = 10,\n",
        "                         modele = \"pls-glm-logistic\",\n",
        "                         sparse=TRUE,\n",
        "                         sparseStop=FALSE,\n",
        "                         Verbose=FALSE)"
      ],
      "metadata": {
        "colab": {
          "base_uri": "https://localhost:8080/"
        },
        "id": "BFg9r-XEgu3a",
        "outputId": "70d38c0b-2348-498e-9473-340a9ba9a279"
      },
      "execution_count": null,
      "outputs": [
        {
          "output_type": "stream",
          "name": "stdout",
          "text": [
            "____************************************************____\n",
            "\n",
            "Family: binomial \n",
            "Link function: logit \n",
            "\n",
            "____Component____ 1 ____\n",
            "____Component____ 2 ____\n",
            "No more significant predictors (<0.05) found\n",
            "Warning only 2 components were thus extracted\n",
            "____Predicting X without NA neither in X or Y____\n",
            "****________________________________________________****\n",
            "\n"
          ]
        }
      ]
    },
    {
      "cell_type": "code",
      "source": [
        "%%R\n",
        "pls.logitic$Coeffs"
      ],
      "metadata": {
        "colab": {
          "base_uri": "https://localhost:8080/"
        },
        "id": "agQ8lmz-g0_9",
        "outputId": "70568123-a763-4ba7-f8f9-e5e6c096fa21"
      },
      "execution_count": null,
      "outputs": [
        {
          "output_type": "stream",
          "name": "stdout",
          "text": [
            "                 [,1]\n",
            "Intercept  0.66673651\n",
            "D2S138    -0.16796545\n",
            "D18S61     0.46735449\n",
            "D16S422   -0.16778289\n",
            "D17S794    0.20339823\n",
            "D6S264    -0.18230804\n",
            "D14S65    -0.16385957\n",
            "D18S53    -0.01692114\n",
            "D17S790   -0.28081191\n",
            "D1S225    -0.13400471\n",
            "D3S1282   -0.40437244\n",
            "D9S179    -0.07752464\n",
            "D5S430    -0.25202840\n",
            "D8S283     0.19376982\n",
            "D11S916    1.67029903\n",
            "D2S159    -0.03694535\n",
            "D16S408   -0.04063618\n",
            "D5S346     1.19262106\n",
            "D10S191   -0.29584487\n",
            "D13S173    0.27436428\n",
            "D6S275    -0.53388897\n",
            "D15S127    0.08810873\n",
            "D1S305     0.07577672\n",
            "D4S394    -0.36089261\n",
            "D20S107   -0.28711182\n",
            "D1S197    -0.42386989\n",
            "D1S207     0.05339395\n",
            "D10S192    0.07032459\n",
            "D3S1283   -0.54510436\n",
            "D4S414    -0.36977999\n",
            "D8S264     0.28385236\n",
            "D22S928   -0.08634543\n",
            "TP53      -0.83781656\n",
            "D9S171    -0.28883592\n"
          ]
        }
      ]
    },
    {
      "cell_type": "code",
      "source": [
        "%%R\n",
        "pls.logitic$InfCrit"
      ],
      "metadata": {
        "colab": {
          "base_uri": "https://localhost:8080/"
        },
        "id": "s1-qXFkqg7R6",
        "outputId": "87e169b6-a077-4543-d515-098ffa3264f4"
      },
      "execution_count": null,
      "outputs": [
        {
          "output_type": "stream",
          "name": "stdout",
          "text": [
            "               AIC      BIC Missclassed Chi2_Pearson_Y    RSS_Y       R2_Y\n",
            "Nb_Comp_0 145.8283 148.4727          49       104.0000 25.91346         NA\n",
            "Nb_Comp_1 138.4127 143.7015          37       104.2119 23.61317 0.08876823\n",
            "Nb_Comp_2 121.6725 129.6057          30       103.5838 19.55167 0.24550140\n",
            "          R2_residY RSS_residY\n",
            "Nb_Comp_0        NA   25.91346\n",
            "Nb_Comp_1 -2.309104   85.75035\n",
            "Nb_Comp_2 -5.773453  175.52362\n"
          ]
        }
      ]
    },
    {
      "cell_type": "markdown",
      "source": [
        "##### PLS Probit Model\n",
        "\n",
        "PLS probit model can be fit using `cv.plsRglm` function from the {plsRglm} package. The family argument specifies the distribution of the response variable (e.g., `binomial(link=\"probit\")` for probit regression). The K argument specifies the number of folds for cross-validation. The NK argument specifies the number of iterations for the randomization test. The keepcoeffs argument is set to TRUE to retain the coefficients of the model. The verbose argument is set to FALSE to suppress output messages."
      ],
      "metadata": {
        "id": "pKcDpsFcg_h6"
      }
    },
    {
      "cell_type": "code",
      "source": [
        "%%R\n",
        "cv.pls.probit<- cv.plsRglm(y~.,data=aze_compl,\n",
        "                            nt=10,\n",
        "                            modele=\"pls-glm-family\",\n",
        "                            family=binomial(link=probit),\n",
        "                            K=8,\n",
        "                            NK=100,\n",
        "                            keepcoeffs=TRUE,\n",
        "                            verbose=FALSE)"
      ],
      "metadata": {
        "id": "Y254UjMuhEeE"
      },
      "execution_count": null,
      "outputs": []
    },
    {
      "cell_type": "code",
      "source": [
        "%%R\n",
        "res.cv.pls.probit<-cvtable(summary(cv.pls.probit, MClassed=TRUE))\n",
        "res.cv.pls.probit"
      ],
      "metadata": {
        "colab": {
          "base_uri": "https://localhost:8080/"
        },
        "id": "syeuqfO3hIpd",
        "outputId": "4a1114ee-7a8d-4f70-aaca-e136e316e847"
      },
      "execution_count": null,
      "outputs": [
        {
          "output_type": "stream",
          "name": "stdout",
          "text": [
            "____************************************************____\n",
            "\n",
            "Family: binomial \n",
            "Link function: probit \n",
            "\n",
            "____Component____ 1 ____\n",
            "____Component____ 2 ____\n",
            "____Component____ 3 ____\n",
            "____Component____ 4 ____\n",
            "____Component____ 5 ____\n",
            "____Component____ 6 ____\n",
            "____Component____ 7 ____\n",
            "____Component____ 8 ____\n",
            "____Component____ 9 ____\n",
            "____Component____ 10 ____\n",
            "____Predicting X without NA neither in X or Y____\n",
            "****________________________________________________****\n",
            "\n",
            "\n",
            "NK: 1,  2,  3,  4,  5,  6,  7,  8,  9,  10\n",
            "NK: 11,  12,  13,  14,  15,  16,  17,  18,  19,  20\n",
            "NK: 21,  22,  23,  24,  25,  26,  27,  28,  29,  30\n",
            "NK: 31,  32,  33,  34,  35,  36,  37,  38,  39,  40\n",
            "NK: 41,  42,  43,  44,  45,  46,  47,  48,  49,  50\n",
            "NK: 51,  52,  53,  54,  55,  56,  57,  58,  59,  60\n",
            "NK: 61,  62,  63,  64,  65,  66,  67,  68,  69,  70\n",
            "NK: 71,  72,  73,  74,  75,  76,  77,  78,  79,  80\n",
            "NK: 81,  82,  83,  84,  85,  86,  87,  88,  89,  90\n",
            "NK: 91,  92,  93,  94,  95,  96,  97,  98,  99,  100\n",
            "\n",
            "CV MissClassed criterion:\n",
            " 1  2  3  4  5  6  7  8  9 10 \n",
            "30  9 39  5  2  5  6  1  0  3 \n",
            "\n",
            "CV Q2Chi2 criterion:\n",
            "  0 \n",
            "100 \n",
            "\n",
            "CV PreChi2 criterion:\n",
            "  1 \n",
            "100 \n",
            "$CVMC\n",
            "\n",
            " 1  2  3  4  5  6  7  8  9 10 \n",
            "30  9 39  5  2  5  6  1  0  3 \n",
            "\n",
            "$CVQ2Chi2\n",
            "\n",
            "  0 \n",
            "100 \n",
            "\n",
            "$CVPreChi2\n",
            "\n",
            "  1 \n",
            "100 \n",
            "\n",
            "attr(,\"class\")\n",
            "[1] \"table.summary.cv.plsRglmmodel\"\n"
          ]
        }
      ]
    },
    {
      "cell_type": "markdown",
      "source": [
        "We will fit the model with  options `sparse` and `sparseStop` allows  automatic selection of the number of components"
      ],
      "metadata": {
        "id": "CjY8ZaR0hM3h"
      }
    },
    {
      "cell_type": "code",
      "source": [
        "%%R\n",
        "pls.probit<- plsRglm(y~.,data=aze_compl,\n",
        "                         nt = 10,\n",
        "                        modele=\"pls-glm-family\",\n",
        "                        family=binomial(link=probit),\n",
        "                         sparse=TRUE,\n",
        "                         sparseStop=FALSE,\n",
        "                         Verbose=FALSE)"
      ],
      "metadata": {
        "colab": {
          "base_uri": "https://localhost:8080/"
        },
        "id": "S8Mb-dWOhNjm",
        "outputId": "c49990b1-ac44-4c83-ec3e-e264e75dcf9e"
      },
      "execution_count": null,
      "outputs": [
        {
          "output_type": "stream",
          "name": "stdout",
          "text": [
            "____************************************************____\n",
            "\n",
            "Family: binomial \n",
            "Link function: probit \n",
            "\n",
            "____Component____ 1 ____\n",
            "____Component____ 2 ____\n",
            "No more significant predictors (<0.05) found\n",
            "Warning only 2 components were thus extracted\n",
            "____Predicting X without NA neither in X or Y____\n",
            "****________________________________________________****\n",
            "\n"
          ]
        }
      ]
    },
    {
      "cell_type": "code",
      "source": [
        "%%R\n",
        "pls.probit$InfCrit"
      ],
      "metadata": {
        "colab": {
          "base_uri": "https://localhost:8080/"
        },
        "id": "7JUmTobhhXj3",
        "outputId": "3cc746ee-f7d3-4ce2-9e2d-956a509d678d"
      },
      "execution_count": null,
      "outputs": [
        {
          "output_type": "stream",
          "name": "stdout",
          "text": [
            "               AIC      BIC Missclassed Chi2_Pearson_Y    RSS_Y       R2_Y\n",
            "Nb_Comp_0 145.8283 148.4727          49       104.0000 25.91346         NA\n",
            "Nb_Comp_1 138.4337 143.7224          37       104.1757 23.61811 0.08857757\n",
            "Nb_Comp_2 121.6612 129.5944          31       102.5255 19.60828 0.24331678\n",
            "          R2_residY RSS_residY\n",
            "Nb_Comp_0        NA   25.91346\n",
            "Nb_Comp_1 -1.363062   61.23511\n",
            "Nb_Comp_2 -2.129611   81.09906\n"
          ]
        }
      ]
    },
    {
      "cell_type": "markdown",
      "source": [
        "#### PLS Ordinal Logistic Regression\n",
        "\n",
        "The {plsRglm} package also supports Partial Least Squares (PLS) regression for ordinal logistic regression models. This is useful when the response variable is ordinal (e.g., 1, 2, 3) and the predictors are continuous or categorical variables.\n",
        "\n",
        "We will use `bordeaux` dataset from the {plsRglm} package, which contains information on the quality of Bordeaux wines (Quality) and four potentially predictive variables (Temperature, Sunshine, Heat and Rain)."
      ],
      "metadata": {
        "id": "Us0Q75nwhcaX"
      }
    },
    {
      "cell_type": "code",
      "source": [
        "%%R\n",
        "data(bordeaux)\n",
        "str(bordeaux)"
      ],
      "metadata": {
        "colab": {
          "base_uri": "https://localhost:8080/"
        },
        "id": "00TP64j5hh6G",
        "outputId": "976978d7-e8d7-46fc-b489-9834ffdab7b2"
      },
      "execution_count": null,
      "outputs": [
        {
          "output_type": "stream",
          "name": "stdout",
          "text": [
            "'data.frame':\t34 obs. of  5 variables:\n",
            " $ Temperature: int  3064 3000 3155 3085 3245 3267 3080 2974 3038 3318 ...\n",
            " $ Sunshine   : int  1201 1053 1133 970 1258 1386 966 1189 1103 1310 ...\n",
            " $ Heat       : int  10 11 19 4 36 35 13 12 14 29 ...\n",
            " $ Rain       : int  361 338 393 467 294 225 417 488 677 427 ...\n",
            " $ Quality    : Ord.factor w/ 3 levels \"1\"<\"2\"<\"3\": 2 3 2 3 1 1 3 3 3 2 ...\n"
          ]
        }
      ]
    },
    {
      "cell_type": "markdown",
      "source": [
        "For ordinal logistic regression, the response variable must be converted to an ordered factor using the `factor()` function with the `ordered = TRUE` argument. This ensures that the levels of the factor are ordered according to their natural order (e.g., low < medium < high)."
      ],
      "metadata": {
        "id": "FFjCdQk-hlJn"
      }
    },
    {
      "cell_type": "code",
      "source": [
        "%%R\n",
        "bordeaux$Quality<-factor(bordeaux$Quality,ordered=TRUE)"
      ],
      "metadata": {
        "id": "3ialAcWShl1Y"
      },
      "execution_count": null,
      "outputs": []
    },
    {
      "cell_type": "code",
      "source": [
        "%%R\n",
        "pls.ordinal<- plsRglm(Quality~.,data=bordeaux,\n",
        "                         nt = 10,\n",
        "                        modele=\"pls-glm-polr\",\n",
        "                        sparse=TRUE,\n",
        "                         sparseStop=FALSE,\n",
        "                         Verbose=FALSE)\n",
        "pls.ordinal"
      ],
      "metadata": {
        "colab": {
          "base_uri": "https://localhost:8080/"
        },
        "id": "yRXCErnPhrGZ",
        "outputId": "abc0a431-9d70-4791-b4c1-bdf0aa3ac2c7"
      },
      "execution_count": null,
      "outputs": [
        {
          "output_type": "stream",
          "name": "stdout",
          "text": [
            "____************************************************____\n",
            "\n",
            "Model: pls-glm-polr \n",
            "Method: logistic \n",
            "\n",
            "____Component____ 1 ____\n",
            "No more significant predictors (<0.05) found\n",
            "Warning only 1 components were thus extracted\n",
            "____Predicting X without NA neither in X or Y____\n",
            "****________________________________________________****\n",
            "\n",
            "Number of required components:\n",
            "[1] 10\n",
            "Number of successfully computed components:\n",
            "[1] 1\n",
            "Coefficients:\n",
            "                     [,1]\n",
            "1|2         -51.666241946\n",
            "2|3         -47.102095313\n",
            "Temperature   0.010837904\n",
            "Sunshine      0.013401580\n",
            "Heat          0.108779837\n",
            "Rain         -0.009953149\n",
            "Information criteria and Fit statistics:\n",
            "               AIC      BIC Missclassed Chi2_Pearson_Y\n",
            "Nb_Comp_0 78.64736 81.70009          22      62.333333\n",
            "Nb_Comp_1 36.50286 41.08194           6       9.356521\n"
          ]
        }
      ]
    },
    {
      "cell_type": "markdown",
      "source": [
        "#### PLS Poisson Regression\n",
        "\n",
        "The {plsRglm} package also supports Partial Least Squares (PLS) regression for Poisson regression models. This is useful when the response variable is a count variable (e.g., number of events) and the predictors are continuous or categorical variables.\n",
        "\n",
        "The 'rock` data set from the {pls} package contains information on the chemical composition of 48 rock samples. The dataset includes 3 variables representing the properties of the rock (response variable)."
      ],
      "metadata": {
        "id": "ERfVjrQZh7ck"
      }
    },
    {
      "cell_type": "code",
      "source": [
        "%%R\n",
        "data(rock)\n",
        "str(rock)"
      ],
      "metadata": {
        "colab": {
          "base_uri": "https://localhost:8080/"
        },
        "id": "jyhfBjlgh_28",
        "outputId": "67c03fb8-b383-40dd-c56b-487e8be74b0c"
      },
      "execution_count": null,
      "outputs": [
        {
          "output_type": "stream",
          "name": "stdout",
          "text": [
            "'data.frame':\t48 obs. of  4 variables:\n",
            " $ area : int  4990 7002 7558 7352 7943 7979 9333 8209 8393 6425 ...\n",
            " $ peri : num  2792 3893 3931 3869 3949 ...\n",
            " $ shape: num  0.0903 0.1486 0.1833 0.1171 0.1224 ...\n",
            " $ perm : num  6.3 6.3 6.3 6.3 17.1 17.1 17.1 17.1 119 119 ...\n"
          ]
        }
      ]
    },
    {
      "cell_type": "code",
      "source": [
        "%%R\n",
        "pls.poisson<- plsRglm(area~.,data=rock,\n",
        "                         nt = 6,\n",
        "                        modele=\"pls-glm-family\",\n",
        "                        family=\"poisson\",\n",
        "                        sparse=TRUE,\n",
        "                        sparseStop=FALSE,\n",
        "                        Verbose=FALSE)\n"
      ],
      "metadata": {
        "colab": {
          "base_uri": "https://localhost:8080/"
        },
        "id": "cxB7gKWxiCKA",
        "outputId": "4a3390cb-c6e8-416f-cdc1-b39e5751ea25"
      },
      "execution_count": null,
      "outputs": [
        {
          "output_type": "stream",
          "name": "stdout",
          "text": [
            "____************************************************____\n",
            "\n",
            "Family: poisson \n",
            "Link function: log \n",
            "\n",
            "____Component____ 1 ____\n",
            "____Component____ 2 ____\n",
            "____Component____ 3 ____\n",
            "Warning : 1 2 3 < 10^{-12}\n",
            "Warning only 3 components could thus be extracted\n",
            "____Predicting X without NA neither in X or Y____\n",
            "****________________________________________________****\n",
            "\n"
          ]
        }
      ]
    },
    {
      "cell_type": "code",
      "source": [
        "%%R\n",
        "pls.poisson$InfCrit"
      ],
      "metadata": {
        "colab": {
          "base_uri": "https://localhost:8080/"
        },
        "id": "mTfgsBzsiHjY",
        "outputId": "45dc2c93-e0d7-4ff2-a0b8-dac6c88181d9"
      },
      "execution_count": null,
      "outputs": [
        {
          "output_type": "stream",
          "name": "stdout",
          "text": [
            "               AIC      BIC Chi2_Pearson_Y     RSS_Y      R2_Y R2_residY\n",
            "Nb_Comp_0 54058.40 54060.28       47100.15 338543101        NA        NA\n",
            "Nb_Comp_1 30974.39 30978.13       28213.06 173018641 0.4889317 -7.306895\n",
            "Nb_Comp_2 16195.55 16201.16       15193.69  79812992 0.7642457 -7.306851\n",
            "Nb_Comp_3 15863.13 15870.61       14805.29  80131766 0.7633041 -7.306850\n",
            "          RSS_residY\n",
            "Nb_Comp_0  338543101\n",
            "Nb_Comp_1 2812241917\n",
            "Nb_Comp_2 2812227119\n",
            "Nb_Comp_3 2812226783\n"
          ]
        }
      ]
    },
    {
      "cell_type": "markdown",
      "metadata": {
        "id": "mIRMjL69VPVu"
      },
      "source": [
        "## Summary and Conclusion\n",
        "\n",
        "This tutorial provides an overview of Partial Least Squares (PLS) regression in R using the `pls` and `plsRglm` packages. PLS regression is a powerful multivariate statistical technique that can handle high-dimensional data and complex relationships between predictors and responses. The `pls` package offers a comprehensive set of functions for fitting PLS models, performing cross-validation, and visualizing results. The `plsRglm` package extends PLS regression to handle Generalized Linear Models (GLMs) with non-Gaussian response distributions. It provides functions for fitting PLS regression models for GLMs, including logistic regression, Ordinal, Poisson regression, and other GLMs. The tutorial demonstrates how to fit PLS regression models, perform cross-validation, and evaluate model performance using these packages. The examples cover a range of applications, including predicting octane numbers from NIR spectral data, analyzing chemical composition data, and modeling cancer stage in patients with colon adenocarcinoma. By using the `pls` and `plsRglm` packages, researchers can leverage the power of PLS regression to analyze complex datasets and build predictive models for a wide range of applications.\n",
        "\n",
        "\n",
        "\n",
        "\n",
        "\n"
      ]
    },
    {
      "cell_type": "markdown",
      "metadata": {
        "id": "rUHrNY9J9lMg"
      },
      "source": [
        "## References\n",
        "\n",
        "1. [Introduction to the pls Package](https://cran.r-project.org/web/packages/pls/vignettes/pls-manual.pdf)\n",
        "\n",
        "2.  [Partial Least Squares in R (Step-by-Step)](https://www.statology.org/partial-least-squares-in-r/)\n",
        "\n",
        "3.  [Multivariate Regression](https://brilliant.org/wiki/multivariate-regression/)\n",
        "\n",
        "4.  [plsRglm](https://fbertran.github.io/plsRglm/)\n",
        "\n",
        "5. [Getting started with mdatools for R](https://mdatools.com/docs/mdatools-tutorial.pdf)\n",
        "\n"
      ]
    }
  ],
  "metadata": {
    "colab": {
      "provenance": [],
      "toc_visible": true,
      "authorship_tag": "ABX9TyPfOLyJtlrHveVaOKtIo/VN",
      "include_colab_link": true
    },
    "kernelspec": {
      "display_name": "Python 3",
      "name": "python3"
    },
    "language_info": {
      "name": "python"
    }
  },
  "nbformat": 4,
  "nbformat_minor": 0
}