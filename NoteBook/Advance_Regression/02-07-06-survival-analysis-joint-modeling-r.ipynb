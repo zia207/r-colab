{
  "nbformat": 4,
  "nbformat_minor": 0,
  "metadata": {
    "colab": {
      "provenance": [],
      "toc_visible": true,
      "authorship_tag": "ABX9TyPLXJ1xpTZ3XIQnrqjy7cUu",
      "include_colab_link": true
    },
    "kernelspec": {
      "name": "python3",
      "display_name": "Python 3"
    },
    "language_info": {
      "name": "python"
    }
  },
  "cells": [
    {
      "cell_type": "markdown",
      "metadata": {
        "id": "view-in-github",
        "colab_type": "text"
      },
      "source": [
        "<a href=\"https://colab.research.google.com/github/zia207/r-colab/blob/main/NoteBook/Advance_Regression/02-07-06-survival-analysis-joint-modeling-r.ipynb\" target=\"_parent\"><img src=\"https://colab.research.google.com/assets/colab-badge.svg\" alt=\"Open In Colab\"/></a>"
      ]
    },
    {
      "cell_type": "markdown",
      "source": [
        "![alt text](http://drive.google.com/uc?export=view&id=1bLQ3nhDbZrCCqy_WCxxckOne2lgVvn3l)"
      ],
      "metadata": {
        "id": "PYplqK-VsB8E"
      }
    },
    {
      "cell_type": "markdown",
      "source": [
        "# 6. Joint Modeling of Longitudinal and Time-to-Event Data\n",
        "\n",
        "Joint models offer a powerful framework for analyzing complex clinical datasets and generating accurate predictions for longitudinal and survival outcomes. By integrating longitudinal and time-to-event data, joint models provide a holistic view of disease progression and patient outcomes, enabling researchers to make informed decisions and improve patient care. In this chapter, we introduce the concept of joint modeling, discuss its advantages, and demonstrate how to fit joint models in R using the {JM}, {JMbayes2} and {joineR} packages. We provide examples of joint models for longitudinal and time-to-event data, including model fitting, prediction, and interpretation. By the end of this chapter, you will have a solid understanding of joint modeling and be able to apply it to your own research projects.\n"
      ],
      "metadata": {
        "id": "k_8T6NOosR51"
      }
    },
    {
      "cell_type": "markdown",
      "source": [
        "## Overview\n",
        "\n",
        "## Overview\n",
        "\n",
        "***Longitudinal and Time-to-Event data***\n",
        "\n",
        "**Longitudinal** and **Time-to-Event** data are commonly encountered in studies involving repeated measurements and event tracking over Time. Understanding these data types is essential for developing statistical models, particularly joint models.\n",
        "\n",
        "**Longitudinal data** consist of repeated observations of the same variable(s) over Time for each individual or unit of observation. These data capture the trajectory or progression of a response variable within subjects over Time. The most common examples of longitudinal data are tracking patients' blood pressure every month for a year, and monitoring students' test scores over several semesters.\n",
        "\n",
        "Key features of longitudinal data: - Repeated Measurements: Data are collected at multiple time points for each subject. - Time-Dependent Trends: The focus is often on how the response variable changes over Time. - Correlated Observations: Measurements within the same individual are typically correlated.\n",
        "\n",
        "**Time-to-event data (also known as survival data)** involves measuring the Time until an event of interest occurs. The event could be anything, such as death, disease onset, system failure, or recovery. Time from cancer diagnosis to death and until a machine breaks down are examples of Time-to-event data.\n",
        "\n",
        "Key features of Time-to-event data:\n",
        "\n",
        "-   Event of Interest: The focus is on the occurrence of a specific event.\n",
        "-   Censoring: Some subjects may not experience the event during the study period, and their time-to-event is only partially known (e.g., right-censoring when the study ends before the event occurs).\n",
        "-   Non-Normality: Time-to-event data are often skewed and require specialized modeling techniques like Kaplan-Meier estimation or Cox proportional hazards models.\n",
        "\n",
        "**Combining Longitudinal and Time-to-Event Data**\n",
        "\n",
        "In many studies, longitudinal and time-to-event data are collected together. For example:\n",
        "\n",
        "-   Clinical Trials: Repeated measures of a biomarker (e.g., cholesterol levels) and the Time until a heart attack.\n",
        "\n",
        "-   Chronic Disease Studies: Disease progression (e.g., lung function decline) and survival time.\n",
        "\n",
        "***Joint Modeling of Longitudinal and Time-to-Event Data****\n",
        "\n",
        "**Joint Modeling of Longitudinal and Time-to-Event Data** is a statistical approach designed to simultaneously analyze longitudinal (repeated measures) and time-to-event (survival) data, especially when these two types of data are correlated. The methodology links the two processes, enabling a more accurate understanding of their relationship and better predictions of outcomes.\n",
        "\n",
        "***Why Use Joint Models?***\n",
        "\n",
        "1.  **Dependency Between Data Types**:\n",
        "    -   Longitudinal markers (e.g., biomarkers, repeated measurements) often influence or are associated with survival outcomes. Ignoring this dependency can lead to biased results.\n",
        "    -   For example, in a cancer study, a biomarker like PSA (prostate-specific antigen) measured over time can be predictive of time to disease progression or death.\n",
        "2.  **Separate Models are Insufficient**:\n",
        "    -   **Longitudinal models** (e.g., linear mixed models) focus only on repeated measurements and ignore survival times.\n",
        "    -   **Survival models** (e.g., Cox proportional hazards) treat longitudinal measures as static covariates, losing information about their dynamic nature.\n",
        "3.  **Prediction**:\n",
        "    -   Joint models allow dynamic predictions of survival probabilities based on the evolving trajectory of the longitudinal marker.\n",
        "\n",
        "***Structure of Joint Models***\n",
        "\n",
        "A joint model consists of two submodels that are linked by a shared structure:\n",
        "\n",
        "**1. Longitudinal Submodel**\n",
        "\n",
        "-   Models the repeated measurements of the longitudinal outcome over time.\n",
        "-   Example: A **linear mixed-effects model (LMM)**:\n",
        "\n",
        "$$  y_i(t) = X_i(t)\\beta + Z_i(t)b_i + \\epsilon_i(t), $$ where:\n",
        "\n",
        "-   $y_i(t)$: Longitudinal outcome for subject $i$ at time $t$.\n",
        "-   $X_i(t)$: Fixed-effects covariates with coefficients $\\beta$.\n",
        "-   $Z_i(t)b_i$: Random effects capturing individual-specific deviations.\n",
        "-   $\\epsilon_i(t)$: Measurement error.\n",
        "\n",
        "**2. Survival Submodel**\n",
        "\n",
        "-   Models the time-to-event data, incorporating information from the longitudinal submodel.\n",
        "-   Example: A **proportional hazards model**:\n",
        "\n",
        "$$ h_i(t) = h_0(t) \\exp\\{W_i\\gamma + \\alpha m_i(t)\\} $$\n",
        "\n",
        "where:\n",
        "\n",
        "-   $h_i(t)$: Hazard function for subject $i$ at time $t$.\n",
        "-   $h_0(t)$: Baseline hazard.\n",
        "-   $W_i\\gamma$: Covariate effects on survival.\n",
        "-   $m_i(t)$: Longitudinal marker at time $t$.\n",
        "-   $\\alpha$: Association parameter linking longitudinal and survival submodels.\n",
        "\n",
        "**3. Association Structure**\n",
        "\n",
        "-   Defines how the longitudinal marker influences the survival process. Common forms include:\n",
        "\n",
        "    -   **Current Value**: Survival depends on the marker's value at time $t$.\n",
        "    -   **Slope**: Survival depends on the rate of change of the marker.\n",
        "    -   **Cumulative Effect**: Survival depends on the marker’s trajectory over time (e.g., area under the curve).\n",
        "\n",
        "***Advantages of Joint Models***\n",
        "\n",
        "1.  **Bias Reduction**:\n",
        "    -   Accounts for the measurement error in longitudinal data when used as a predictor in survival models.\n",
        "2.  **Improved Efficiency**:\n",
        "    -   Utilizes all available data simultaneously, leading to more precise estimates.\n",
        "3.  **Dynamic Prediction**:\n",
        "    -   Enables real-time updating of survival probabilities based on the latest longitudinal information.\n",
        "\n",
        "***Applications***\n",
        "\n",
        "1.  **Medicine**:\n",
        "    -   Monitoring disease biomarkers (e.g., tumor size, glucose levels) and predicting survival outcomes.\n",
        "2.  **Drug Development**:\n",
        "    -   Understanding the relationship between pharmacokinetics/pharmacodynamics and patient outcomes.\n",
        "3.  **Engineering**:\n",
        "    -   Modeling degradation of machinery (longitudinal) and time to failure (event data).\n",
        "\n",
        "***Example***\n",
        "\n",
        "Consider a study where patients’ kidney function (measured by glomerular filtration rate, GFR) is monitored over time, and the time to kidney failure is recorded.\n",
        "\n",
        "1.  **Longitudinal Submodel**:\n",
        "\n",
        "    -   Captures the decline in GFR over time, accounting for patient-specific variability.\n",
        "\n",
        "2.  **Survival Submodel**:\n",
        "\n",
        "    -   Models the hazard of kidney failure, influenced by the current GFR levels.\n",
        "\n",
        "3.  **Joint Model**:\n",
        "\n",
        "    -   Links the two submodels, providing insights into how declining GFR predicts the risk of kidney failure.\n",
        "\n"
      ],
      "metadata": {
        "id": "rYkF3LgwHflQ"
      }
    },
    {
      "cell_type": "markdown",
      "source": [
        "## Install rpy2"
      ],
      "metadata": {
        "id": "9n6LEpyGsycn"
      }
    },
    {
      "cell_type": "code",
      "source": [
        "!pip uninstall rpy2 -y\n",
        "!pip install rpy2==3.5.1\n",
        "%load_ext rpy2.ipython"
      ],
      "metadata": {
        "colab": {
          "base_uri": "https://localhost:8080/"
        },
        "id": "Sn1uQzxIs01n",
        "outputId": "b9e48ed3-d0ec-473c-fb44-4f50b8dac10a"
      },
      "execution_count": 1,
      "outputs": [
        {
          "output_type": "stream",
          "name": "stdout",
          "text": [
            "Found existing installation: rpy2 3.5.17\n",
            "Uninstalling rpy2-3.5.17:\n",
            "  Successfully uninstalled rpy2-3.5.17\n",
            "Collecting rpy2==3.5.1\n",
            "  Downloading rpy2-3.5.1.tar.gz (201 kB)\n",
            "\u001b[2K     \u001b[90m━━━━━━━━━━━━━━━━━━━━━━━━━━━━━━━━━━━━━━━━\u001b[0m \u001b[32m201.7/201.7 kB\u001b[0m \u001b[31m3.8 MB/s\u001b[0m eta \u001b[36m0:00:00\u001b[0m\n",
            "\u001b[?25h  Preparing metadata (setup.py) ... \u001b[?25l\u001b[?25hdone\n",
            "Requirement already satisfied: cffi>=1.10.0 in /usr/local/lib/python3.11/dist-packages (from rpy2==3.5.1) (1.17.1)\n",
            "Requirement already satisfied: jinja2 in /usr/local/lib/python3.11/dist-packages (from rpy2==3.5.1) (3.1.5)\n",
            "Requirement already satisfied: pytz in /usr/local/lib/python3.11/dist-packages (from rpy2==3.5.1) (2025.1)\n",
            "Requirement already satisfied: tzlocal in /usr/local/lib/python3.11/dist-packages (from rpy2==3.5.1) (5.3)\n",
            "Requirement already satisfied: pycparser in /usr/local/lib/python3.11/dist-packages (from cffi>=1.10.0->rpy2==3.5.1) (2.22)\n",
            "Requirement already satisfied: MarkupSafe>=2.0 in /usr/local/lib/python3.11/dist-packages (from jinja2->rpy2==3.5.1) (3.0.2)\n",
            "Building wheels for collected packages: rpy2\n",
            "  Building wheel for rpy2 (setup.py) ... \u001b[?25l\u001b[?25hdone\n",
            "  Created wheel for rpy2: filename=rpy2-3.5.1-cp311-cp311-linux_x86_64.whl size=314975 sha256=3ff40ba62784a3548d9a39531e0ffc6a82556a0670f9f148b956c1901a9f36a9\n",
            "  Stored in directory: /root/.cache/pip/wheels/e9/55/d1/47be85a5f3f1e1f4d1e91cb5e3a4dcb40dd72147f184c5a5ef\n",
            "Successfully built rpy2\n",
            "Installing collected packages: rpy2\n",
            "Successfully installed rpy2-3.5.1\n"
          ]
        }
      ]
    },
    {
      "cell_type": "markdown",
      "source": [
        "## Mount Google Drive"
      ],
      "metadata": {
        "id": "QC6sIX7Fs4dC"
      }
    },
    {
      "cell_type": "code",
      "source": [
        "from google.colab import drive\n",
        "drive.mount('/content/drive')"
      ],
      "metadata": {
        "colab": {
          "base_uri": "https://localhost:8080/"
        },
        "id": "FyS01C5Ss403",
        "outputId": "62a483a0-72bc-48af-b592-9fbd757e3681"
      },
      "execution_count": 2,
      "outputs": [
        {
          "output_type": "stream",
          "name": "stdout",
          "text": [
            "Mounted at /content/drive\n"
          ]
        }
      ]
    },
    {
      "cell_type": "markdown",
      "source": [
        "## Joint Modeling of Longitudinal and Time-to-Event Data in R\n",
        "\n",
        "Joint modeling of longitudinal and time-to-event data in R can be efficiently performed using several packages like {JM}, {JMbayes2}, {joineR}, and {joineRML}. These packages provide tools for estimating parameters and making predictions for both submodels simultaneously. Below, we outline the process and examples using {JM} and {JMbayes}, two widely used packages.\n"
      ],
      "metadata": {
        "id": "oWvzV0hEOPlQ"
      }
    },
    {
      "cell_type": "markdown",
      "source": [
        "### Install Required R Packages"
      ],
      "metadata": {
        "id": "lpgHdHAbWq17"
      }
    },
    {
      "cell_type": "code",
      "source": [
        "%%R\n",
        "packages <-c(\n",
        "\t\t 'tidyverse',\n",
        "\t\t 'survival',\n",
        "\t\t 'survminer',\n",
        "\t\t 'ggsurvfit',\n",
        "\t\t 'tidycmprsk',\n",
        "\t\t 'ggfortify',\n",
        "\t\t 'timereg',\n",
        "\t\t 'cmprsk',\n",
        "\t\t 'condsurv',\n",
        "\t\t 'riskRegression',\n",
        "\t\t 'prodlim',\n",
        "\t\t 'lava',\n",
        "\t\t 'mstate',\n",
        "\t\t 'regplot',\n",
        "\t\t 'cmprskcoxmsm',\n",
        "\t\t 'GLMMadaptive',\n",
        "\t\t 'JM',\n",
        "\t\t 'nlme',\n",
        "\t\t 'lattice',\n",
        "\t\t 'joineR',\n",
        "\t\t 'joineRML'\n",
        "\n",
        "\t\t )"
      ],
      "metadata": {
        "id": "coBSOMhzWv5m"
      },
      "execution_count": 7,
      "outputs": []
    },
    {
      "cell_type": "code",
      "source": [
        "%%R\n",
        "# Install missing packages\n",
        "new.packages <- packages[!(packages %in% installed.packages(lib='drive/My Drive/R/')[,\"Package\"])]\n",
        "if(length(new.packages)) install.packages(new.packages, lib='drive/My Drive/R/')"
      ],
      "metadata": {
        "id": "FefIEmIHW4J0"
      },
      "execution_count": null,
      "outputs": []
    },
    {
      "cell_type": "code",
      "source": [
        "%%R\n",
        "# set library path\n",
        ".libPaths('drive/My Drive/R')\n",
        "# Verify installation\n",
        "cat(\"Installed packages:\\n\")\n",
        "print(sapply(packages, requireNamespace, quietly = TRUE))"
      ],
      "metadata": {
        "colab": {
          "base_uri": "https://localhost:8080/"
        },
        "id": "R8gXyz-uW4V1",
        "outputId": "9cddbc54-8c82-4c13-ae25-628f3223354c"
      },
      "execution_count": 70,
      "outputs": [
        {
          "output_type": "stream",
          "name": "stdout",
          "text": [
            "Installed packages:\n",
            "     tidyverse       survival      survminer      ggsurvfit     tidycmprsk \n",
            "          TRUE           TRUE           TRUE           TRUE           TRUE \n",
            "     ggfortify        timereg         cmprsk       condsurv riskRegression \n",
            "          TRUE           TRUE           TRUE           TRUE           TRUE \n",
            "       prodlim           lava         mstate        regplot   cmprskcoxmsm \n",
            "          TRUE           TRUE           TRUE           TRUE           TRUE \n",
            "  GLMMadaptive             JM       JMbayes2           nlme        lattice \n",
            "          TRUE           TRUE           TRUE           TRUE           TRUE \n",
            "        joineR       joineRML \n",
            "          TRUE           TRUE \n"
          ]
        }
      ]
    },
    {
      "cell_type": "markdown",
      "source": [
        "### Load Packages"
      ],
      "metadata": {
        "id": "gEwQk2xCW-yT"
      }
    },
    {
      "cell_type": "code",
      "source": [
        "%%R\n",
        "# set library path\n",
        ".libPaths('drive/My Drive/R')\n",
        "# Load packages with suppressed messages\n",
        "invisible(lapply(packages, function(pkg) {\n",
        "  suppressPackageStartupMessages(library(pkg, character.only = TRUE))\n",
        "}))\n",
        "# Check loaded packages\n",
        "cat(\"Successfully loaded packages:\\n\")\n",
        "print(search()[grepl(\"package:\", search())])# Check loaded packages"
      ],
      "metadata": {
        "colab": {
          "base_uri": "https://localhost:8080/"
        },
        "id": "OC_ghM4PW-5t",
        "outputId": "36a647d1-1a84-4dd7-d7d8-45b51ccce285"
      },
      "execution_count": 75,
      "outputs": [
        {
          "output_type": "stream",
          "name": "stdout",
          "text": [
            "Successfully loaded packages:\n",
            " [1] \"package:joineRML\"       \"package:joineR\"         \"package:lattice\"       \n",
            " [4] \"package:JMbayes2\"       \"package:JM\"             \"package:splines\"       \n",
            " [7] \"package:nlme\"           \"package:MASS\"           \"package:GLMMadaptive\"  \n",
            "[10] \"package:cmprskcoxmsm\"   \"package:regplot\"        \"package:mstate\"        \n",
            "[13] \"package:lava\"           \"package:prodlim\"        \"package:riskRegression\"\n",
            "[16] \"package:condsurv\"       \"package:cmprsk\"         \"package:timereg\"       \n",
            "[19] \"package:ggfortify\"      \"package:tidycmprsk\"     \"package:ggsurvfit\"     \n",
            "[22] \"package:survminer\"      \"package:ggpubr\"         \"package:survival\"      \n",
            "[25] \"package:lubridate\"      \"package:forcats\"        \"package:stringr\"       \n",
            "[28] \"package:dplyr\"          \"package:purrr\"          \"package:readr\"         \n",
            "[31] \"package:tidyr\"          \"package:tibble\"         \"package:ggplot2\"       \n",
            "[34] \"package:tidyverse\"      \"package:tools\"          \"package:stats\"         \n",
            "[37] \"package:graphics\"       \"package:grDevices\"      \"package:utils\"         \n",
            "[40] \"package:datasets\"       \"package:methods\"        \"package:base\"          \n"
          ]
        }
      ]
    },
    {
      "cell_type": "markdown",
      "source": [
        "## The {JM} Package\n",
        "\n",
        "The {JM} package is a comprehensive tool for fitting joint models of longitudinal and time-to-event data in R. It provides functions for estimating the parameters of the longitudinal and survival submodels, as well as the association structure linking the two. The package also offers tools for making predictions and assessing the model's performance. Below, we demonstrate how to use the {JM} package to fit joint models to longitudinal and time-to-event data.\n",
        "\n",
        "The joint model consists of two submodels: a linear mixed model for the longitudinal CD4 cell counts and a Cox proportional hazards model for the survival outcomes. The two submodels are linked by a shared parameter that captures the association between the longitudinal and survival processes.\n",
        "\n",
        "\n"
      ],
      "metadata": {
        "id": "J037bsDUVEjw"
      }
    },
    {
      "cell_type": "markdown",
      "source": [
        "#### Data\n",
        "\n",
        "We'll use the `aids` dataset from the {JM} package to demonstrate how to perform joint modeling of longitudinal and time-to-event data in R. A randomized clinical trial in which both longitudinal and survival data were collected to compare the efficacy and safety of two antiretroviral drugs in treating patients who had failed or were intolerant of zidovudine (`AZT`) therapy. The dataset contains information on patients' CD4 cell counts (`CD4`) and survival status (`death`) over time, along with other covariates. The goal is to model the relationship between `CD4` cell counts and survival outcomes.\n",
        "\n",
        "The dataset used is the same that the one seen with the mixed model, `aids`. The survival information can be found in `aids.id`.\n",
        "\n",
        "A data frame with 1408 observations on the following 9 variables.\n",
        "\n",
        "`patiet`: patients identifier; in total there are 467 patients.\n",
        "\n",
        "`Time`: the time to death or censoring.\n",
        "\n",
        "`death`: a numeric vector with 0 denoting censoring and 1 death.\n",
        "\n",
        "`CD4`: the CD4 cells count.\n",
        "\n",
        "`obstime`: the time points at which the CD4 cells count was recorded.\n",
        "\n",
        "`drug`: a factor with levels ddC denoting zalcitabine and ddI denoting didanosine.\n",
        "\n",
        "`gender`: a factor with levels female and male.\n",
        "\n",
        "`prevOI`: a factor with levels AIDS denoting previous opportunistic infection (AIDS diagnosis) at study entry, and noAIDS denoting no previous infection.\n",
        "\n",
        "`AZT`: a factor with levels intolerance and failure denoting AZT intolerance and AZT failure, respectively."
      ],
      "metadata": {
        "id": "x6IR0L4lWj4e"
      }
    },
    {
      "cell_type": "code",
      "source": [
        "%%R\n",
        "data(\"aids\", package = \"JM\")\n",
        "glimpse(aids)"
      ],
      "metadata": {
        "colab": {
          "base_uri": "https://localhost:8080/"
        },
        "id": "Pcp4WjrXL6bT",
        "outputId": "358c1de5-6850-4054-d0a4-defad418eb15"
      },
      "execution_count": 10,
      "outputs": [
        {
          "output_type": "stream",
          "name": "stdout",
          "text": [
            "Rows: 1,405\n",
            "Columns: 12\n",
            "$ patient <fct> 1, 1, 1, 2, 2, 2, 2, 3, 3, 3, 4, 4, 4, 4, 5, 5, 5, 5, 6, 7, 7,…\n",
            "$ Time    <dbl> 16.97, 16.97, 16.97, 19.00, 19.00, 19.00, 19.00, 18.53, 18.53,…\n",
            "$ death   <int> 0, 0, 0, 0, 0, 0, 0, 1, 1, 1, 0, 0, 0, 0, 0, 0, 0, 0, 1, 0, 0,…\n",
            "$ CD4     <dbl> 10.677078, 8.426150, 9.433981, 6.324555, 8.124038, 4.582576, 5…\n",
            "$ obstime <int> 0, 6, 12, 0, 6, 12, 18, 0, 2, 6, 0, 2, 6, 12, 0, 2, 6, 12, 0, …\n",
            "$ drug    <fct> ddC, ddC, ddC, ddI, ddI, ddI, ddI, ddI, ddI, ddI, ddC, ddC, dd…\n",
            "$ gender  <fct> male, male, male, male, male, male, male, female, female, fema…\n",
            "$ prevOI  <fct> AIDS, AIDS, AIDS, noAIDS, noAIDS, noAIDS, noAIDS, AIDS, AIDS, …\n",
            "$ AZT     <fct> intolerance, intolerance, intolerance, intolerance, intoleranc…\n",
            "$ start   <int> 0, 6, 12, 0, 6, 12, 18, 0, 2, 6, 0, 2, 6, 12, 0, 2, 6, 12, 0, …\n",
            "$ stop    <dbl> 6.00, 12.00, 16.97, 6.00, 12.00, 18.00, 19.00, 2.00, 6.00, 18.…\n",
            "$ event   <dbl> 0, 0, 0, 0, 0, 0, 0, 0, 0, 1, 0, 0, 0, 0, 0, 0, 0, 0, 1, 0, 0,…\n"
          ]
        }
      ]
    },
    {
      "cell_type": "code",
      "source": [
        "%%R\n",
        "data(\"aids.id\", package = \"JM\")\n",
        "glimpse(aids.id)"
      ],
      "metadata": {
        "id": "-tc4EFJqNEw5",
        "colab": {
          "base_uri": "https://localhost:8080/"
        },
        "outputId": "cbef9d09-6d7c-41ab-d8b4-199f7403afb9"
      },
      "execution_count": 11,
      "outputs": [
        {
          "output_type": "stream",
          "name": "stdout",
          "text": [
            "Rows: 467\n",
            "Columns: 12\n",
            "$ patient <fct> 1, 2, 3, 4, 5, 6, 7, 8, 9, 10, 11, 12, 13, 14, 15, 16, 17, 18,…\n",
            "$ Time    <dbl> 16.97, 19.00, 18.53, 12.70, 15.13, 1.90, 14.33, 9.57, 11.57, 1…\n",
            "$ death   <int> 0, 0, 1, 0, 0, 1, 0, 1, 1, 0, 1, 0, 1, 1, 0, 1, 0, 0, 1, 0, 1,…\n",
            "$ CD4     <dbl> 10.677078, 6.324555, 3.464102, 3.872983, 7.280110, 4.582576, 6…\n",
            "$ obstime <int> 0, 0, 0, 0, 0, 0, 0, 0, 0, 0, 0, 0, 0, 0, 0, 0, 0, 0, 0, 0, 0,…\n",
            "$ drug    <fct> ddC, ddI, ddI, ddC, ddI, ddC, ddC, ddI, ddC, ddI, ddC, ddI, dd…\n",
            "$ gender  <fct> male, male, female, male, male, female, male, female, male, ma…\n",
            "$ prevOI  <fct> AIDS, noAIDS, AIDS, AIDS, AIDS, AIDS, AIDS, noAIDS, AIDS, AIDS…\n",
            "$ AZT     <fct> intolerance, intolerance, intolerance, failure, failure, failu…\n",
            "$ start   <int> 0, 0, 0, 0, 0, 0, 0, 0, 0, 0, 0, 0, 0, 0, 0, 0, 0, 0, 0, 0, 0,…\n",
            "$ stop    <dbl> 6.00, 6.00, 2.00, 2.00, 2.00, 1.90, 2.00, 2.00, 2.00, 2.00, 2.…\n",
            "$ event   <dbl> 0, 0, 0, 0, 0, 1, 0, 0, 0, 0, 1, 0, 0, 0, 0, 0, 0, 0, 1, 0, 0,…\n"
          ]
        }
      ]
    },
    {
      "cell_type": "code",
      "source": [
        "%%R -h 500 -w 600 -u px\n",
        "hist(aids$CD4)\n"
      ],
      "metadata": {
        "colab": {
          "base_uri": "https://localhost:8080/",
          "height": 517
        },
        "id": "GZxvXet3OcWE",
        "outputId": "a14a85bd-9187-4b16-f07d-477c496aaef3"
      },
      "execution_count": 14,
      "outputs": [
        {
          "output_type": "display_data",
          "data": {
            "image/png": "[encoded data removed]"
          },
          "metadata": {}
        }
      ]
    },
    {
      "cell_type": "markdown",
      "source": [
        "The CD4 cell exhibits right skewed shapes of distribution, and therefore, for the remainder of this analysis we will work with the square root of the CD4 cell values"
      ],
      "metadata": {
        "id": "L3vD70gyW7iV"
      }
    },
    {
      "cell_type": "code",
      "source": [
        "%%R -h 500 -w 600 -u px\n",
        "hist(sqrt(aids$CD4))"
      ],
      "metadata": {
        "colab": {
          "base_uri": "https://localhost:8080/",
          "height": 517
        },
        "id": "IVlPP-58Vz_s",
        "outputId": "8cf4fcfb-f417-4cc0-e7e5-46bb0607b530"
      },
      "execution_count": 13,
      "outputs": [
        {
          "output_type": "display_data",
          "data": {
            "image/png": "[encoded data removed]"
          },
          "metadata": {}
        }
      ]
    },
    {
      "cell_type": "code",
      "source": [
        "%%R -h 600 -w 800 -u px\n",
        "lattice::xyplot(sqrt(CD4) ~ obstime | patient, group = patient,\n",
        "       data = aids[aids$patient %in% c(1:10),],\n",
        "       xlab = \"Months\", ylab = expression(sqrt(\"CD4\")), col = 1, type = \"b\")\n"
      ],
      "metadata": {
        "colab": {
          "base_uri": "https://localhost:8080/",
          "height": 617
        },
        "id": "Y3J9ROKEV4TC",
        "outputId": "4fcd10b2-034d-49da-8490-af5bafe39d2c"
      },
      "execution_count": 15,
      "outputs": [
        {
          "output_type": "display_data",
          "data": {
            "image/png": "[encoded data removed]"
          },
          "metadata": {}
        }
      ]
    },
    {
      "cell_type": "markdown",
      "source": [
        "\n",
        "#### Fit a Longitudinal Model (`lmeObject`)\n",
        "\n",
        "First, we fit a linear mixed model for the longitudinal CD4 cell counts using the `lme()` function from the {nlme} package. This model captures the trajectory of CD4 cell counts over time, accounting for patient-specific variability."
      ],
      "metadata": {
        "id": "amfmxn35YTCk"
      }
    },
    {
      "cell_type": "code",
      "source": [
        "%%R\n",
        "# linear mixed model fit (random intercepts)\n",
        "lmeFit_01 <- lme(sqrt(CD4) ~ obstime : drug, random = ~ 1 | patient, data = aids)\n",
        "summary(lmeFit_01)\n"
      ],
      "metadata": {
        "id": "svdPio57ZfLo",
        "colab": {
          "base_uri": "https://localhost:8080/"
        },
        "outputId": "30c9dc46-7195-4df8-a0de-b1b0267b32c9"
      },
      "execution_count": 16,
      "outputs": [
        {
          "output_type": "stream",
          "name": "stdout",
          "text": [
            "Linear mixed-effects model fit by REML\n",
            "  Data: aids \n",
            "       AIC      BIC    logLik\n",
            "  2730.729 2756.957 -1360.364\n",
            "\n",
            "Random effects:\n",
            " Formula: ~1 | patient\n",
            "        (Intercept)  Residual\n",
            "StdDev:   0.8719493 0.4106749\n",
            "\n",
            "Fixed effects:  sqrt(CD4) ~ obstime:drug \n",
            "                     Value  Std.Error  DF  t-value p-value\n",
            "(Intercept)      2.5087153 0.04306984 936 58.24761       0\n",
            "obstime:drugddC -0.0338783 0.00352643 936 -9.60697       0\n",
            "obstime:drugddI -0.0282970 0.00360358 936 -7.85247       0\n",
            " Correlation: \n",
            "                (Intr) obst:C\n",
            "obstime:drugddC -0.153       \n",
            "obstime:drugddI -0.145  0.022\n",
            "\n",
            "Standardized Within-Group Residuals:\n",
            "        Min          Q1         Med          Q3         Max \n",
            "-5.09514877 -0.46243667  0.01324625  0.48993786  5.17139372 \n",
            "\n",
            "Number of Observations: 1405\n",
            "Number of Groups: 467 \n"
          ]
        }
      ]
    },
    {
      "cell_type": "markdown",
      "source": [
        "#### Fit a Survival Model (`survObject`)\n",
        "\n",
        "Next, we fit a Cox proportional hazards model for the survival outcomes using the `coxph()` function from the `survival` package. This model estimates the hazard of death based on the CD4 cell counts and other covariates.\n",
        "\n",
        "The survival submodel include: treatment effect (as a time-independent covariate) and the `true` underlying effect of CD4 cell count as estimated from the longitudinal model (as time-dependent). The baseline risk function is assumed piecewise constant.\n"
      ],
      "metadata": {
        "id": "GF0_aEr8WC--"
      }
    },
    {
      "cell_type": "code",
      "source": [
        "%%R\n",
        "# Fit the survival model\n",
        "survFit <- coxph(Surv(Time, death) ~ drug, data = aids.id, x = TRUE)\n",
        "summary(survFit)"
      ],
      "metadata": {
        "colab": {
          "base_uri": "https://localhost:8080/"
        },
        "id": "WYAu-tjYmWDr",
        "outputId": "209db3a5-5494-4cd6-bd78-b26f3eb54f45"
      },
      "execution_count": 17,
      "outputs": [
        {
          "output_type": "stream",
          "name": "stdout",
          "text": [
            "Call:\n",
            "coxph(formula = Surv(Time, death) ~ drug, data = aids.id, x = TRUE)\n",
            "\n",
            "  n= 467, number of events= 188 \n",
            "\n",
            "          coef exp(coef) se(coef)     z Pr(>|z|)\n",
            "drugddI 0.2102    1.2339   0.1462 1.437    0.151\n",
            "\n",
            "        exp(coef) exp(-coef) lower .95 upper .95\n",
            "drugddI     1.234     0.8104    0.9264     1.643\n",
            "\n",
            "Concordance= 0.531  (se = 0.019 )\n",
            "Likelihood ratio test= 2.07  on 1 df,   p=0.2\n",
            "Wald test            = 2.07  on 1 df,   p=0.2\n",
            "Score (logrank) test = 2.07  on 1 df,   p=0.1\n",
            "\n"
          ]
        }
      ]
    },
    {
      "cell_type": "markdown",
      "source": [
        "#### Fit the Joint Model\n",
        "\n",
        "The `jointModel()` function is used to fit the joint model, specifying the longitudinal and survival submodels, as well as the time variable (`obstime`) linking the two.\n",
        "\n",
        "This `jointModel()` function fits shared parameter models for the joint modelling of normal longitudinal responses and time-to-event data under a maximum likelihood approach. Various options for the survival model are available.\n",
        "\n",
        "```         \n",
        "jointModel(lmeObject, survObject, timeVar,\n",
        "  parameterization = c(\"value\", \"slope\", \"both\"),\n",
        "  method = c(\"weibull-PH-aGH\", \"weibull-PH-GH\", \"weibull-AFT-aGH\",\n",
        "    \"weibull-AFT-GH\", \"piecewise-PH-aGH\", \"piecewise-PH-GH\",\n",
        "    \"Cox-PH-aGH\", \"Cox-PH-GH\", \"spline-PH-aGH\", \"spline-PH-GH\",\n",
        "    \"ch-Laplace\"),\n",
        "  interFact = NULL, derivForm = NULL, lag = 0, scaleWB = NULL,\n",
        "  CompRisk = FALSE, init = NULL, control = list(), ...)\n",
        "```\n",
        "\n",
        "`method` a character string specifying the type of joint model to fit. Various methods are available for the survival model:\n",
        "\n",
        "`weibull-AFT-GH`: a time-dependent Weibull model under the accelerated failure time formulation is assumed. `weibull-PH-GH`: a time-dependent relative risk model is postulated with a Weibull baseline risk function. `piecewise-PH-GH`: a time-dependent relative risk model is postulated with a piecewise constant baseline risk function. `spline-PH-GH`: a time-dependent relative risk model is assumed in which the log baseline risk function is approximated using B-splines. `ch-Laplace`: an additive model on the log cumulative hazard scale is assumed (see Rizopoulos et al., 2009 for more info). `Cox-PH-GH` a time-dependent relative risk model is assumed where the baseline risk function is left unspecified (Wulfsohn and Tsiatis, 1997\n",
        "\n",
        "Finally, we fit the joint model that links the longitudinal and survival submodels using the `jointModel()` function from the `JM` package. This model provides insights into how the CD4 cell counts influence the risk of death over time.\n",
        "\n",
        "We will use `method` as `piecewise-PH-GH` to fit a time-dependent relative risk model with a piecewise constant baseline risk function."
      ],
      "metadata": {
        "id": "mc91PySnYr-v"
      }
    },
    {
      "cell_type": "code",
      "source": [
        "%%R\n",
        "# Fit the joint model with random intercepts\n",
        "JMfit_01 <- jointModel(lmeFit_01, survFit, timeVar = \"obstime\", method = \"piecewise-PH-GH\")"
      ],
      "metadata": {
        "id": "UhCYPZTdYvfT"
      },
      "execution_count": 18,
      "outputs": []
    },
    {
      "cell_type": "markdown",
      "source": [
        "`summary()` retrieves the summary of the joint model summary, variance components, and the association parameter, coefficients of longitudinal and time-to-event processs:"
      ],
      "metadata": {
        "id": "XdnwkOAAY0Hg"
      }
    },
    {
      "cell_type": "code",
      "source": [
        "%%R\n",
        "summary(JMfit_01)"
      ],
      "metadata": {
        "id": "9RVj9IlGY2yK",
        "colab": {
          "base_uri": "https://localhost:8080/"
        },
        "outputId": "228c42db-d3e1-4fca-c6fd-ee92e42e5b04"
      },
      "execution_count": 19,
      "outputs": [
        {
          "output_type": "stream",
          "name": "stdout",
          "text": [
            "\n",
            "Call:\n",
            "jointModel(lmeObject = lmeFit_01, survObject = survFit, timeVar = \"obstime\", \n",
            "    method = \"piecewise-PH-GH\")\n",
            "\n",
            "Data Descriptives:\n",
            "Longitudinal Process\t\tEvent Process\n",
            "Number of Observations: 1405\tNumber of Events: 188 (40.3%)\n",
            "Number of Groups: 467\n",
            "\n",
            "Joint Model Summary:\n",
            "Longitudinal Process: Linear mixed-effects model\n",
            "Event Process: Relative risk model with piecewise-constant\n",
            "\t\tbaseline risk function\n",
            "Parameterization: Time-dependent \n",
            "\n",
            "   log.Lik      AIC      BIC\n",
            " -2135.224 4298.447 4356.496\n",
            "\n",
            "Variance Components:\n",
            "               StdDev\n",
            "(Intercept) 0.8797564\n",
            "Residual    0.4251247\n",
            "\n",
            "Coefficients:\n",
            "Longitudinal Process\n",
            "                  Value Std.Err z-value p-value\n",
            "(Intercept)      2.4987  0.0457 54.6228 <0.0001\n",
            "obstime:drugddC -0.0361  0.0037 -9.8114 <0.0001\n",
            "obstime:drugddI -0.0314  0.0037 -8.4558 <0.0001\n",
            "\n",
            "Event Process\n",
            "            Value Std.Err z-value p-value\n",
            "drugddI    0.3466  0.1527  2.2697  0.0232\n",
            "Assoct    -1.0945  0.1192 -9.1841 <0.0001\n",
            "log(xi.1) -1.6430  0.2543 -6.4603        \n",
            "log(xi.2) -1.2659  0.2517 -5.0283        \n",
            "log(xi.3) -0.9151  0.2991 -3.0597        \n",
            "log(xi.4) -1.4505  0.3839 -3.7782        \n",
            "log(xi.5) -1.3336  0.3597 -3.7072        \n",
            "log(xi.6) -1.3264  0.4310 -3.0774        \n",
            "log(xi.7) -1.3026  0.5386 -2.4186        \n",
            "\n",
            "Integration:\n",
            "method: Gauss-Hermite\n",
            "quadrature points: 15 \n",
            "\n",
            "Optimization:\n",
            "Convergence: 0 \n",
            "\n"
          ]
        }
      ]
    },
    {
      "cell_type": "markdown",
      "source": [
        "Now will fit the with random intercepts + random slopes"
      ],
      "metadata": {
        "id": "PVdu0CUyY7r9"
      }
    },
    {
      "cell_type": "code",
      "source": [
        "%%R\n",
        "lmeFit_02 <- lme(sqrt(CD4) ~ obstime : drug, random = ~ obstime | patient, data = aids)"
      ],
      "metadata": {
        "id": "OKdqR_6yZD6X"
      },
      "execution_count": 20,
      "outputs": []
    },
    {
      "cell_type": "code",
      "source": [
        "%%R\n",
        "# Fit the joint model with intercepts + random slopes\n",
        "JMfit_02 <- jointModel(lmeFit_02, survFit, timeVar = \"obstime\", method = \"piecewise-PH-GH\")"
      ],
      "metadata": {
        "id": "yb3jNo47ZJbn"
      },
      "execution_count": 21,
      "outputs": []
    },
    {
      "cell_type": "markdown",
      "source": [
        "#### Model Comparison\n",
        "\n",
        "`anova()` function can be used to compare the two models:"
      ],
      "metadata": {
        "id": "5jtUqGjSnDT6"
      }
    },
    {
      "cell_type": "code",
      "source": [
        "%%R\n",
        "anova(JMfit_01, JMfit_02)"
      ],
      "metadata": {
        "colab": {
          "base_uri": "https://localhost:8080/"
        },
        "id": "zjXOoFY7Z8Bl",
        "outputId": "61a31d65-d677-48f1-f97e-121a01d6b190"
      },
      "execution_count": 22,
      "outputs": [
        {
          "output_type": "stream",
          "name": "stdout",
          "text": [
            "\n",
            "             AIC     BIC  log.Lik   LRT df p.value\n",
            "JMfit_01 4298.45 4356.50 -2135.22                 \n",
            "JMfit_02 4247.29 4313.64 -2107.65 55.15  2 <0.0001\n",
            "\n"
          ]
        }
      ]
    },
    {
      "cell_type": "markdown",
      "source": [
        "Longitudinal submodels with random intercepts and random slopes are compared using the `anova()` function. The results show that the model with random intercepts and slopes is significantly better than the model with random intercepts only."
      ],
      "metadata": {
        "id": "aWRbuvMsZ_DL"
      }
    },
    {
      "cell_type": "markdown",
      "source": [
        "\n",
        "#### Plotting Marginal Survival Curves"
      ],
      "metadata": {
        "id": "rGMWtip0nOw6"
      }
    },
    {
      "cell_type": "code",
      "source": [
        "%%R -h 500 -w 600 -u px\n",
        "plot(JMfit_02, 3, add.KM = TRUE, col = 2, lwd = 2,\n",
        "     main = \"Piecewise-constant Baseline Risk Function\",\n",
        "     ylab = \"Survival Probability\")"
      ],
      "metadata": {
        "colab": {
          "base_uri": "https://localhost:8080/",
          "height": 517
        },
        "id": "YALkRNiWarqi",
        "outputId": "2bea93e6-d3bf-47b3-d514-6194daf9952e"
      },
      "execution_count": 23,
      "outputs": [
        {
          "output_type": "display_data",
          "data": {
            "image/png": "[encoded data removed]"
          },
          "metadata": {}
        }
      ]
    },
    {
      "cell_type": "markdown",
      "source": [
        " `survfit()` function of {survial} pcakage creates survival curves from either a formula (e.g. the Kaplan-Meier), a previously fitted Cox model, or a previously fitted accelerated failure time model."
      ],
      "metadata": {
        "id": "qfHApJisnYFR"
      }
    },
    {
      "cell_type": "code",
      "source": [
        "%%R -h 500 -w 600 -u px\n",
        "res.surv <- residuals(JMfit_02, process = \"Event\", type = \"Cox\")\n",
        "sfit <- survfit(Surv(res.surv,JMfit_02$y$d) ~ 1)\n",
        "plot(sfit, mark.time = FALSE, conf.int = TRUE, lty = 1:2,\n",
        "    xlab = \"Cox-Snell Residuals\", ylab = \"Survival Probability\",\n",
        "    main = \"Piecewise-constant Baseline Risk Function\")\n",
        "curve(pexp(x, lower.tail = FALSE), from = min(res.surv), to = max(res.surv),\n",
        "    add = TRUE, col = \"red\", lwd = 2)\n",
        "legend(\"topright\", c(\"Survival function of unit Exponential\",\n",
        "    \"Survival function of Cox-Snell Residuals\"), lty = 1, lwd = 2, col = 2:1, bty = \"n\")\n"
      ],
      "metadata": {
        "colab": {
          "base_uri": "https://localhost:8080/",
          "height": 517
        },
        "id": "z3IKGzYba36U",
        "outputId": "f07bbfd8-4f85-46ad-9ed8-ac74c4b77e4e"
      },
      "execution_count": 24,
      "outputs": [
        {
          "output_type": "display_data",
          "data": {
            "image/png": "[encoded data removed]"
          },
          "metadata": {}
        }
      ]
    },
    {
      "cell_type": "markdown",
      "source": [
        "`Cox-Snell residuals` are a diagnostic tool used in survival analysis to assess the fit of a survival model, such as a Cox proportional hazards model or parametric survival models. They transform survival data into residuals that should ideally follow a standard exponential distribution with a mean of 1, under the assumption that the model is correctly specified."
      ],
      "metadata": {
        "id": "dl4h_o7wnigW"
      }
    },
    {
      "cell_type": "markdown",
      "source": [
        "#### Hazard Ratio\n",
        "\n",
        "The `cinfint()` function calculates the hazard ratio for the treatment effect in the survival model. This ratio quantifies the relative risk of death between the two treatment groups."
      ],
      "metadata": {
        "id": "XcLY6Warnk_Z"
      }
    },
    {
      "cell_type": "code",
      "source": [
        "%%R\n",
        "exp(confint(JMfit_02, parm = \"Event\"))"
      ],
      "metadata": {
        "colab": {
          "base_uri": "https://localhost:8080/"
        },
        "id": "NMtuSsBdbAfF",
        "outputId": "269e697c-05d6-4358-f79a-f2b56a7f3d89"
      },
      "execution_count": 25,
      "outputs": [
        {
          "output_type": "stream",
          "name": "stdout",
          "text": [
            "            2.5 %      est.    97.5 %\n",
            "drugddI 1.0510576 1.4206752 1.9202736\n",
            "Assoct  0.2637343 0.3323346 0.4187786\n"
          ]
        }
      ]
    },
    {
      "cell_type": "markdown",
      "source": [
        "we also compare with the time-dependent Cox model"
      ],
      "metadata": {
        "id": "xvK6ufbSnud1"
      }
    },
    {
      "cell_type": "code",
      "source": [
        "%%R\n",
        "exp(confint(survFit))"
      ],
      "metadata": {
        "colab": {
          "base_uri": "https://localhost:8080/"
        },
        "id": "UKzv_AdGbJzs",
        "outputId": "74d258c9-6776-4799-bcfa-1e002a5e9b39"
      },
      "execution_count": 26,
      "outputs": [
        {
          "output_type": "stream",
          "name": "stdout",
          "text": [
            "            2.5 %   97.5 %\n",
            "drugddI 0.9264493 1.643414\n"
          ]
        }
      ]
    },
    {
      "cell_type": "markdown",
      "source": [
        "#### Expected survival probabilities\n",
        "\n",
        "`survfitJM()` function calculates the expected survival probabilities for each patient at specific time points based on the joint model.\n",
        "\n",
        "Here we compute the expected survival probabilities for two patients (5, 141) in the data set who has not died by the time of loss to follow-up. The function assumes that the patient has survived up to the last time point $t$ in newdata for which a CD4 measurement was recorded, and will produce survival probabilities for a set of predefined $u > t$ values"
      ],
      "metadata": {
        "id": "iuqaqu5dbUSJ"
      }
    },
    {
      "cell_type": "code",
      "source": [
        "%%R\n",
        "set.seed(300716) # it uses Monte Carlo samples\n",
        "pred <- survfitJM(JMfit_02, newdata = aids[aids$patient %in% c(\"5\", \"141\"), ],\n",
        "          idVar = \"patient\")  # last.time = \"Time\""
      ],
      "metadata": {
        "id": "VvMZGjmPbGuQ"
      },
      "execution_count": 27,
      "outputs": []
    },
    {
      "cell_type": "code",
      "source": [
        "%%R -h 400 -w 800 -u px\n",
        "par(mfrow=c(1,2))\n",
        "plot(pred, which = \"5\", conf.int = TRUE)\n",
        "plot(pred, which = \"141\", conf.int = TRUE,\n",
        "     fun = function (x) -log(x), ylab = \"Cumulative Risk\")"
      ],
      "metadata": {
        "colab": {
          "base_uri": "https://localhost:8080/",
          "height": 417
        },
        "id": "wiXlZmjhn8pM",
        "outputId": "52a52a66-a46f-4aaf-8c13-5060cc434f03"
      },
      "execution_count": 29,
      "outputs": [
        {
          "output_type": "display_data",
          "data": {
            "image/png": "[encoded data removed]"
          },
          "metadata": {}
        }
      ]
    },
    {
      "cell_type": "markdown",
      "source": [
        "#### Prediction"
      ],
      "metadata": {
        "id": "wmtoBWShbw_q"
      }
    },
    {
      "cell_type": "code",
      "source": [
        "%%R -h 400 -w 800 -u px\n",
        "DF <- with(aids, expand.grid(drug = levels(drug),\n",
        "    obstime = seq(min(obstime), max(obstime), len = 100)))\n",
        "Ps <- predict(JMfit_02, DF, interval = \"confidence\", return = TRUE)\n",
        "require(lattice)\n",
        "xyplot(pred + low + upp ~ obstime | drug, data = Ps,\n",
        "    type = \"l\", col = c(2,1,1), lty = c(1,2,2), lwd = 2,\n",
        "    ylab = \"Average log serum Bilirubin\")"
      ],
      "metadata": {
        "colab": {
          "base_uri": "https://localhost:8080/",
          "height": 417
        },
        "id": "Hdp1eq3-oPm1",
        "outputId": "f7a0762a-bc15-450d-8902-c012f90b0f20"
      },
      "execution_count": 31,
      "outputs": [
        {
          "output_type": "display_data",
          "data": {
            "image/png": "[encoded data removed]"
          },
          "metadata": {}
        }
      ]
    },
    {
      "cell_type": "markdown",
      "source": [
        "## The {joineR} package\n",
        "\n",
        "The {joineR} package is designed to facilitate the analysis of data from longitudinal studies, which involve collecting multiple measurements over time from the same subjects. Each subject’s data consists of a series of repeated measurements as well as a potentially censored time-to-event outcome, such as the time until a particular event occurs. To model the repeated measurements, the package utilizes a linear model that incorporates random effects, allowing for the analysis of individual variations over time. Additionally, a correlated error structure can be included to account for any dependencies among the measurements. For the time-to-event outcomes, the modeling framework employs a Cox proportional hazards model augmented with log-Gaussian frailty. This approach enables the analysis of the effects of covariates on the timing of events while accounting for unobserved heterogeneity among subjects. A key feature of this framework is the ability to capture stochastic dependence between the two components of the model. Specifically, it allows the Gaussian random effects from the linear model—representing subject-specific variations—to be correlated with the frailty term in the Cox proportional hazards model. This correlation can provide deeper insights into the relationships between the repeated measurements and the timing of events, leading to more comprehensive and nuanced interpretations of the"
      ],
      "metadata": {
        "id": "rTfgSHPW39Us"
      }
    },
    {
      "cell_type": "markdown",
      "source": [
        "### Data\n",
        "\n",
        "The `mental` data-set relates to a study in which 150 patients suffering from chronic mental illness were randomised amongst three different drug treatments: placebo and two active drugs. A questionnaire instrument was used to assess each patient’s mental state at weeks 0, 1, 2, 4, 6 and 8 post-randomization. The data can be loaded with the command:"
      ],
      "metadata": {
        "id": "yT8oTmX24DFH"
      }
    },
    {
      "cell_type": "code",
      "source": [
        "%%R\n",
        "data(\"mental\")"
      ],
      "metadata": {
        "id": "qNAe7Wy04KW0"
      },
      "execution_count": 76,
      "outputs": []
    },
    {
      "cell_type": "markdown",
      "source": [
        "A total of 150 subjects were enrolled in the study, but only 68 of them completed all measurements at weeks 0, 1, 2, 4, 6, and 8. The remaining participants left the study early for various reasons, some of which were believed to be related to their mental state. As a result, the dropout rate may provide informative insights. The data from the first five subjects can be accessed as usual."
      ],
      "metadata": {
        "id": "ZVg7UcmZ4hfK"
      }
    },
    {
      "cell_type": "code",
      "source": [
        "%%R\n",
        "mental[1:5, ]"
      ],
      "metadata": {
        "colab": {
          "base_uri": "https://localhost:8080/"
        },
        "id": "6rFuSQPk4kA4",
        "outputId": "19b327b5-9c76-46c0-d99b-a52d734d80ad"
      },
      "execution_count": 77,
      "outputs": [
        {
          "output_type": "stream",
          "name": "stdout",
          "text": [
            "  id Y.t0 Y.t1 Y.t2 Y.t4 Y.t6 Y.t8 treat n.obs surv.time cens.ind\n",
            "1  1   55   NA   NA   NA   NA   NA     2     1     0.704        0\n",
            "2  2   44   NA   NA   NA   NA   NA     1     1     0.740        0\n",
            "3  3   65   67   NA   NA   NA   NA     2     2     1.121        1\n",
            "4  4   64   56   NA   NA   NA   NA     2     2     1.224        1\n",
            "5  5   47   48   NA   NA   NA   NA     2     2     1.303        0\n"
          ]
        }
      ]
    },
    {
      "cell_type": "markdown",
      "source": [
        "The data is stored in a balanced format, consisting of 150 rows (one for each subject) and 11 columns. These columns include a subject identifier, the measured values from the questionnaire taken at each of the six scheduled follow-up times, the treatment allocation, the count of non-missing measured values, an imputed dropout time, and a censoring indicator. The censoring indicator is coded as 1 for subjects who dropped out for reasons believed to be related to their mental health state and as 0 for all others. It's important to note the distinction made between potentially informative dropout and censoring, with the latter being regarded as uninformative. Thus, the command:"
      ],
      "metadata": {
        "id": "djOlePxz4o5P"
      }
    },
    {
      "cell_type": "code",
      "source": [
        "%%R\n",
        "table(mental$cens[is.na(mental$Y.t8)])"
      ],
      "metadata": {
        "colab": {
          "base_uri": "https://localhost:8080/"
        },
        "id": "K0mRmAF74rEL",
        "outputId": "c1b69712-8b80-4190-a8a2-27173dba09b0"
      },
      "execution_count": 78,
      "outputs": [
        {
          "output_type": "stream",
          "name": "stdout",
          "text": [
            "\n",
            " 0  1 \n",
            "21 61 \n"
          ]
        }
      ]
    },
    {
      "cell_type": "markdown",
      "source": [
        "shows that 21 of the 82 dropouts did so for reasons unrelated to their mental health."
      ],
      "metadata": {
        "id": "Fcm6RtGr4urJ"
      }
    },
    {
      "cell_type": "code",
      "source": [
        "%%R\n",
        "mental.unbalanced <- to.unbalanced(mental, id.col = 1,\n",
        "                                   times = c(0, 1, 2, 4, 6, 8),\n",
        "                                   Y.col = 2:7, other.col = 8:11)\n",
        "names(mental.unbalanced)"
      ],
      "metadata": {
        "colab": {
          "base_uri": "https://localhost:8080/"
        },
        "id": "HTXXPeAe4w7_",
        "outputId": "6caf849b-1a2a-4b38-f978-a68e5d677fc7"
      },
      "execution_count": 79,
      "outputs": [
        {
          "output_type": "stream",
          "name": "stdout",
          "text": [
            "[1] \"id\"        \"time\"      \"Y.t0\"      \"treat\"     \"n.obs\"     \"surv.time\"\n",
            "[7] \"cens.ind\" \n"
          ]
        }
      ]
    },
    {
      "cell_type": "code",
      "source": [
        "%%R\n",
        "names(mental.unbalanced)[3] <- \"Y\""
      ],
      "metadata": {
        "id": "qc5vLdGL40T8"
      },
      "execution_count": 80,
      "outputs": []
    },
    {
      "cell_type": "markdown",
      "source": [
        "The following code converts the new object back to the balanced format:"
      ],
      "metadata": {
        "id": "HI_OehcS48fJ"
      }
    },
    {
      "cell_type": "code",
      "source": [
        "%%R\n",
        "mental.balanced <- to.balanced(mental.unbalanced, id.col = 1,\n",
        "                               time.col = 2,\n",
        "                               Y.col = 3, other.col = 4:7)\n",
        "dim(mental.balanced)"
      ],
      "metadata": {
        "colab": {
          "base_uri": "https://localhost:8080/"
        },
        "id": "EhLHN-7r49XS",
        "outputId": "e2ea3a92-8001-4330-fae8-5762843a4017"
      },
      "execution_count": 81,
      "outputs": [
        {
          "output_type": "stream",
          "name": "stdout",
          "text": [
            "[1] 150  11\n"
          ]
        }
      ]
    },
    {
      "cell_type": "markdown",
      "source": [
        "Once a data-set is in the balanced format (if it is unbalanced then to.balanced can be applied) then the mean, variance and correlation matrix of the responses can be extracted using `summarybal()`. An example is given below using the mental data-set:"
      ],
      "metadata": {
        "id": "YQkECkqW5IbV"
      }
    },
    {
      "cell_type": "code",
      "source": [
        "%%R\n",
        "summarybal(mental, Y.col = 2:7, times = c(0, 1, 2, 4, 6, 8),\n",
        "           na.rm = TRUE)"
      ],
      "metadata": {
        "colab": {
          "base_uri": "https://localhost:8080/"
        },
        "id": "Yax9Kjq35JXf",
        "outputId": "d14f6ef0-6acd-44c6-ea05-6531316105f0"
      },
      "execution_count": 82,
      "outputs": [
        {
          "output_type": "stream",
          "name": "stdout",
          "text": [
            "$mean.vect\n",
            "     x        y\n",
            "Y.t0 0 55.77333\n",
            "Y.t1 1 53.03378\n",
            "Y.t2 2 50.37008\n",
            "Y.t4 4 48.62963\n",
            "Y.t6 6 46.94048\n",
            "Y.t8 8 46.02941\n",
            "\n",
            "$variance\n",
            "    Y.t0     Y.t1     Y.t2     Y.t4     Y.t6     Y.t8 \n",
            "132.1228 152.7403 167.5366 168.6653 228.8759 181.4917 \n",
            "\n",
            "$cor.mtx\n",
            "          [,1]      [,2]      [,3]      [,4]      [,5]      [,6]\n",
            "[1,] 1.0000000 0.5939982 0.4537496 0.4186798 0.3432355 0.2997679\n",
            "[2,] 0.5939982 1.0000000 0.7793311 0.6805021 0.6631543 0.6149448\n",
            "[3,] 0.4537496 0.7793311 1.0000000 0.7992470 0.7077238 0.6202277\n",
            "[4,] 0.4186798 0.6805021 0.7992470 1.0000000 0.8108585 0.7402240\n",
            "[5,] 0.3432355 0.6631543 0.7077238 0.8108585 1.0000000 0.8681933\n",
            "[6,] 0.2997679 0.6149448 0.6202277 0.7402240 0.8681933 1.0000000\n",
            "\n"
          ]
        }
      ]
    },
    {
      "cell_type": "markdown",
      "source": [
        "### Exploring covariance structure"
      ],
      "metadata": {
        "id": "syz48Pr-5O_Q"
      }
    },
    {
      "cell_type": "code",
      "source": [
        "%%R\n",
        "y <- as.matrix(mental[, 2:7])\n",
        "# converts mental from list format to numeric matrix format\n",
        "means <- matrix(0, 3, 6)\n",
        "\n",
        "for (trt in 1:3) {\n",
        "   ysub <- y[mental$treat == trt, ]\n",
        "   means[trt,] <- apply(ysub, 2, mean, na.rm = TRUE)\n",
        "}\n",
        "\n",
        "residuals <- matrix(0, 150, 6)\n",
        "\n",
        "for (i in 1:150) {\n",
        "   residuals[i,] <- y[i,] - means[mental$treat[i], ]\n",
        "}\n",
        "\n",
        "V <- cov(residuals, use = \"pairwise\")\n",
        "R <- cor(residuals, use = \"pairwise\")\n",
        "round(cbind(diag(V), R), 3)"
      ],
      "metadata": {
        "colab": {
          "base_uri": "https://localhost:8080/"
        },
        "id": "s-N0ktuB5Pvx",
        "outputId": "205f06d5-f079-4f5c-a0b1-29c6cea43d17"
      },
      "execution_count": 83,
      "outputs": [
        {
          "output_type": "stream",
          "name": "stdout",
          "text": [
            "        [,1]  [,2]  [,3]  [,4]  [,5]  [,6]  [,7]\n",
            "[1,] 131.774 1.000 0.612 0.472 0.464 0.391 0.321\n",
            "[2,] 142.171 0.612 1.000 0.766 0.663 0.650 0.603\n",
            "[3,] 159.711 0.472 0.766 1.000 0.792 0.712 0.624\n",
            "[4,] 153.364 0.464 0.663 0.792 1.000 0.799 0.738\n",
            "[5,] 198.350 0.391 0.650 0.712 0.799 1.000 0.861\n",
            "[6,] 167.886 0.321 0.603 0.624 0.738 0.861 1.000\n"
          ]
        }
      ]
    },
    {
      "cell_type": "markdown",
      "source": [
        "### Creating a jointdata object\n",
        "\n",
        "A `jointdata()` object is a list that can contain up to three data frames, including repeated measurement data, time-to-event data, and baseline covariate data. The repeated measurement data must be stored in an unbalanced format, while the time-to-event and baseline covariate data should be stored in a balanced format, meaning there should be one line for each subject. Each data frame must include a column for the subject ID, and these subject ID columns across all three data frames must match. The UniqueVariables function offers a convenient way to extract the time-to-event and baseline covariate data from an unbalanced data frame, as demonstrated in the following example."
      ],
      "metadata": {
        "id": "OvXwZI3W5VQ7"
      }
    },
    {
      "cell_type": "code",
      "source": [
        "%%R\n",
        "mental.long <- mental.unbalanced[, 1:3]\n",
        "mental.surv <- UniqueVariables(mental.unbalanced,\n",
        "                               6:7, id.col = 1)\n",
        "mental.baseline <- UniqueVariables(mental.unbalanced,\n",
        "                                   4, id.col = 1)\n",
        "mental.jd <- jointdata(mental.long,\n",
        "                       mental.surv,\n",
        "                       mental.baseline,\n",
        "                       id.col = \"id\",\n",
        "                       time.col = \"time\")"
      ],
      "metadata": {
        "id": "tjOcUy815WMO"
      },
      "execution_count": 84,
      "outputs": []
    },
    {
      "cell_type": "markdown",
      "source": [
        "###  Model Fitting\n",
        "\n",
        "The package includes functions for fitting two different classes of model using maximum likelihood estimation. The first is an extended version of the random effects model proposed by Wulfsohn and Tsiatis (1997). See Henderson et al. (2000). The second is the transformation model described by Diggle et al.  (2008).\n",
        "\n",
        "\n",
        "The random effects model is fitted using the `joint()` function. This generic function fits a joint model with random latent association, building on the formulation described in Wulfsohn and Tsiatis (1997) while allowing for the presence of longitudinal and survival covariates, and three choices for the latent process. The link between the longitudinal and survival processes can be proportional or separate. When failure is attributable to 2 separate causes, a competing risks joint model is fitted as per Williamson et al. (2008)."
      ],
      "metadata": {
        "id": "OvlVduo15bmB"
      }
    },
    {
      "cell_type": "code",
      "source": [
        "%%R\n",
        "model.jointrandom <- joint(mental.jd, Y ~ 1 + time + treat,\n",
        "                           Surv(surv.time, cens.ind) ~ treat,\n",
        "                           model = \"int\")\n",
        "names(model.jointrandom)"
      ],
      "metadata": {
        "colab": {
          "base_uri": "https://localhost:8080/"
        },
        "id": "BO6Nae5x5eSw",
        "outputId": "31e3ab0b-c4c3-47ab-b33f-bc7c6e5e0188"
      },
      "execution_count": 85,
      "outputs": [
        {
          "output_type": "stream",
          "name": "stdout",
          "text": [
            " [1] \"coefficients\" \"sigma.z\"      \"sigma.u\"      \"hazard\"       \"loglik\"      \n",
            " [6] \"numIter\"      \"convergence\"  \"model\"        \"sepassoc\"     \"sepests\"     \n",
            "[11] \"compRisk\"     \"sep.loglik\"   \"formulae\"     \"data\"         \"call\"        \n"
          ]
        }
      ]
    },
    {
      "cell_type": "markdown",
      "source": [
        "There is a `summary()` method for a model fitted using joint. This produces a summarized version of the model fit, omitting some of the information contained within the fitted object itself. The summary method for a joint object is demonstrated below:"
      ],
      "metadata": {
        "id": "0ZNb2TGZ5igG"
      }
    },
    {
      "cell_type": "code",
      "source": [
        "%%R\n",
        "summary(model.jointrandom)"
      ],
      "metadata": {
        "colab": {
          "base_uri": "https://localhost:8080/"
        },
        "id": "9miblNRW5lJo",
        "outputId": "2a050588-49ff-47ad-d275-f995b8f1d129"
      },
      "execution_count": 86,
      "outputs": [
        {
          "output_type": "stream",
          "name": "stdout",
          "text": [
            "\n",
            "Call:\n",
            "joint(data = mental.jd, long.formula = Y ~ 1 + time + treat, \n",
            "    surv.formula = Surv(surv.time, cens.ind) ~ treat, model = \"int\")\n",
            "\n",
            "Random effects joint model\n",
            " Data: mental.jd \n",
            " Log-likelihood: -2884.045 \n",
            "\n",
            "Longitudinal sub-model fixed effects: Y ~ 1 + time + treat                      \n",
            "(Intercept) 61.9221415\n",
            "time        -0.5969329\n",
            "treat       -3.8544659\n",
            "\n",
            "Survival sub-model fixed effects: Surv(surv.time, cens.ind) ~ treat                \n",
            "treat -0.6001792\n",
            "\n",
            "Latent association:                  \n",
            "gamma_0 0.08654259\n",
            "\n",
            "Variance components:\n",
            "     U_0 Residual \n",
            "99.84760 64.34334 \n",
            "\n",
            "Convergence at iteration: 32 \n",
            "\n",
            "Number of observations: 900 \n",
            "Number of groups: 150 \n"
          ]
        }
      ]
    },
    {
      "cell_type": "markdown",
      "source": [
        "The function `jointSE()` provides standard errors and confidence intervals for the parameters defining the mean response profiles in a random effects joint model. Currently, the calculation of standard errors for the random effect parameters is not implemented. However, approximate standard errors can be obtained through a parametric bootstrap, which involves re-estimating the model parameters from simulated realizations of the fitted model. The first two arguments for `jointSE()` are the results from calling the `joint()` function, with the corresponding `jointdata` object automatically stored as part of the model fit. The second argument allows you to specify the number of bootstrap samples to be taken. The remaining arguments are included for completeness; they mirror the last four arguments of the `joint()` function and provide an additional option to control the level of output displayed in the R terminal. Be aware that with a sufficiently large number of bootstrap samples, this function can be slow to execute. If you run the function with only 100 bootstrap samples, the output will reflect this number, and the confidence limits will default to zero unless at least 100 bootstrap samples are taken."
      ],
      "metadata": {
        "id": "9hz_wXC05qcQ"
      }
    },
    {
      "cell_type": "code",
      "source": [
        "%%R\n",
        "model.jointrandom.se <- jointSE(model.jointrandom, n.boot = 100)\n",
        "model.jointrandom.se"
      ],
      "metadata": {
        "colab": {
          "base_uri": "https://localhost:8080/"
        },
        "id": "SVQvl7UM5s9c",
        "outputId": "147e3bd3-c380-459b-d40f-c075ff2236c2"
      },
      "execution_count": 87,
      "outputs": [
        {
          "output_type": "stream",
          "name": "stdout",
          "text": [
            "     Component   Parameter Estimate      SE 95%Lower 95%Upper\n",
            "1 Longitudinal (Intercept)  61.9221  2.2995  57.2647  66.3643\n",
            "2                     time  -0.5969  0.1825  -1.1257  -0.3341\n",
            "3                    treat  -3.8545  1.0267  -5.5252  -1.9226\n",
            "4      Failure       treat  -0.6002  0.2251  -1.1515  -0.2412\n",
            "5  Association     gamma_0   0.0865  0.0174   0.0591   0.1275\n",
            "6     Variance         U_0  99.8476 11.3012  74.9730 119.7170\n",
            "7                 Residual  64.3433  7.0882  49.6083  78.3554\n"
          ]
        }
      ]
    },
    {
      "cell_type": "markdown",
      "source": [
        "## Summary and Conclusions\n",
        "\n",
        "This tutorial covered the essential concepts and practical applications of joint modeling of longitudinal and time-to-event data in R. We began by introducing the theoretical background of joint models and their relevance in clinical research. We then demonstrated how to fit univariate and multivariate joint models using {JM}, and {joineR} packages. We also discussed the importance of functional forms in joint models and how to specify them in the model fitting process. Additionally, we explored dynamic predictions and predictive accuracy metrics, such as ROC curves, calibration plots, and Brier scores. Finally, we introduced the concept of competing risks and illustrated how to fit joint models for competing risks data.\n",
        "\n",
        "This tutorial helps researchers and practitioners understand the principles of joint modeling and provides practical guidance on implementing these models in R. By following the step-by-step instructions and examples provided in this tutorial, users can gain a comprehensive understanding of joint models and apply them to their own longitudinal and time-to-event data."
      ],
      "metadata": {
        "id": "2UuNkmuV5wdO"
      }
    },
    {
      "cell_type": "markdown",
      "source": [
        "## References\n",
        "\n",
        "1.  [A Tutorial for Joint Modeling of Longitudinal and Time-to-Event Data in R](https://qcmb.psychopen.eu/index.php/qcmb/article/view/2979/2979.html)\n",
        "\n",
        "2.  [Joint Models for Longitudinal and Time-to-Event Data with Applications in R by Dimitris Rizopoulos](https://jmr.r-forge.r-project.org/)\n",
        "\n",
        "3.  [Joint Models for Longitudinal and Time-to-Event Data](https://www.drizopoulos.com/courses/EMC/ESP72.pdf)\n",
        "\n",
        "4.  [Chapter 4 Joint Models for Longitudinal and Time-to-Event Data](https://bookdown.org/sestelo/sa_financial/joint-models-for-longitudinal-and-time-to-event-data.html)\n",
        "\n",
        "5.  [joineR](https://cran.r-project.org/web/packages/joineR/vignettes/joineR.html)\n",
        "\n",
        "6.  [Multivariate Joint Models](https://www.drizopoulos.com/vignettes/multivariate%20joint%20models)\n",
        "\n",
        "7.  [JMbayes2: Extended Joint Models for Longitudinal and Time-to-Event Data](https://drizopoulos.github.io/JMbayes2/)"
      ],
      "metadata": {
        "id": "evpa9c53QAHh"
      }
    }
  ]
}