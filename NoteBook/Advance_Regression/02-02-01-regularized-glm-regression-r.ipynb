{
  "nbformat": 4,
  "nbformat_minor": 0,
  "metadata": {
    "colab": {
      "provenance": [],
      "toc_visible": true,
      "authorship_tag": "ABX9TyP/kFBckEcSKSXXeYSjGx5o",
      "include_colab_link": true
    },
    "kernelspec": {
      "name": "python3",
      "display_name": "Python 3"
    },
    "language_info": {
      "name": "python"
    }
  },
  "cells": [
    {
      "cell_type": "markdown",
      "metadata": {
        "id": "view-in-github",
        "colab_type": "text"
      },
      "source": [
        "<a href=\"https://colab.research.google.com/github/zia207/r-colab/blob/main/NoteBook/Advance_Regression/02-02-01-regularized-glm-regression-r.ipynb\" target=\"_parent\"><img src=\"https://colab.research.google.com/assets/colab-badge.svg\" alt=\"Open In Colab\"/></a>"
      ]
    },
    {
      "cell_type": "markdown",
      "source": [
        "![alt text](http://drive.google.com/uc?export=view&id=1bLQ3nhDbZrCCqy_WCxxckOne2lgVvn3l)"
      ],
      "metadata": {
        "id": "4qrItz_mJNWw"
      }
    },
    {
      "cell_type": "markdown",
      "source": [
        "# 1. Regularized Generalized Linear Model  (Gaussian)\n",
        "\n",
        "Regularized regression methods are vital for managing high-dimensional datasets or multicollinearity. Techniques like Ridge, Lasso, and Elastic Net add a penalty term to the least squares objective, stabilizing and improving model performance, especially when traditional linear regression risks overfitting. In this tutorial, we will fit Regularized Generalized Linear Models (GLMs) for continuous (Gaussian) data in R. We will start by examining regularization techniques and build models for Ridge, Lasso, and Elastic Net to understand their mathematical foundations. We will then explore the {glmnet} package, which streamlines fitting and cross-validating these models and optimizes the regularization parameter $\\lambda$. We will evaluate each model’s performance using cross-validation and discuss the most suitable contexts for each technique. By the end of this tutorial, you will understand how to implement and interpret regularized GLM models for continuous data in R from both foundational and practical perspectives.\n",
        "\n"
      ],
      "metadata": {
        "id": "Dzp9ZseROTcY"
      }
    },
    {
      "cell_type": "markdown",
      "source": [
        "## Overview\n",
        "\n",
        "A regularized Generalized Linear Model (GLM) with a Gaussian distribution is essentially a regularized linear regression model. When the response variable ( Y ) follows a Gaussian (normal) distribution, the GLM simplifies to ordinary least squares (OLS) regression. Adding regularization modifies the objective function to penalize the size of the coefficients, aiming to prevent overfitting and improve model interpretability and generalizability.\n",
        "\n",
        "***1. Standard Linear Regression (GLM with Gaussian Distribution)***\n",
        "\n",
        "In a standard linear regression (GLM with a Gaussian distribution):\n",
        "\n",
        "-   **Random Component**: The response variable $Y$ follows a normal distribution with mean $\\mu$ and variance $\\sigma^2$. $$   Y \\sim \\mathcal{N}(\\mu, \\sigma^2) $$\n",
        "\n",
        "-   **Systematic Component**: We assume a linear relationship between predictors and the mean of the response:\n",
        "\n",
        "    $$  \\mu = X \\ $$\n",
        "\n",
        "    where $X$ is the matrix of predictors and $\\beta$) is the vector of coefficients.\n",
        "\n",
        "-   **Identity Link Function**: For Gaussian distributions, the link function $g(\\mu) = \\mu$, meaning $\\mathbb{E}[Y] = X \\beta$.\n",
        "\n",
        "The objective function for linear regression is derived by maximizing the likelihood, which is equivalent to minimizing the **sum of squared errors (SSE)**:\n",
        "\n",
        "$$ \\mathcal{L}(\\beta) = \\sum_{i=1}^n (y_i - X_i \\beta)^2 $$\n",
        "\n",
        "***2. Regularized Linear Regression (Regularized Gaussian GLM)***\n",
        "\n",
        "In regularized regression, we add a penalty term to the objective function to control the size of the coefficients ( \\beta ). The regularized objective function becomes:\n",
        "\n",
        "$$ \\mathcal{L}_{\\text{regularized}}(\\beta) = \\sum_{i=1}^n (y_i - X_i \\beta)^2 + \\lambda P $$\n",
        "\n",
        "where:\n",
        "\n",
        "\\- $\\lambda \\geq 0$ is the regularization parameter, controlling the amount of penalty.\n",
        "\n",
        "$P(\\beta)$ is the penalty function. Common choices include:\n",
        "\n",
        "-   **L2 norm (Ridge Regression)**:\n",
        "\n",
        "$$ P(\\beta) = \\|\\beta\\|_2^2 =\\sum_{j=1}^p \\beta_j^2 $$\n",
        "\n",
        "-   **L1 norm (Lasso Regression**\n",
        "\n",
        "$$ P(\\beta) = \\|\\beta\\|_1 = \\sum_{j=1}^p |\\beta_j| $$\n",
        "\n",
        "-   **Elastic Net**:\n",
        "\n",
        "$$ P(\\beta) = \\alpha\\|\\beta\\|_1 + (1 - \\alpha) \\|\\beta\\|_2^2 $$\n",
        "\n",
        "which combines L1 and L2 penalties.\n",
        "\n",
        "***Ridge (L2) Regularization:***\n",
        "\n",
        "For Ridge regression, the objective function is: $$ \\mathcal{L}_{\\text{ridge}}(\\beta) = \\sum_{i=1}^n (y_i - X_i \\beta)^2 + \\lambda \\sum_{j=1}^p \\beta_j^2 $$\n",
        "\n",
        "The L2 penalty shrinks the coefficients toward zero but does not set them exactly to zero, making it useful for models with many correlated predictors.\n",
        "\n",
        "***Lasso (L1) Regularization***:\n",
        "\n",
        "For Lasso regression, the objective function is: $$ \\mathcal{L}_{\\text{lasso}}(\\beta) = \\sum_{i=1}^n (y_i - X_i \\beta)^2 + \\lambda \\sum_{j=1}^p |\\beta_j| $$\n",
        "\n",
        "The L1 penalty encourages sparsity, meaning it tends to set some coefficients exactly to zero, which is useful for feature selection.\n",
        "\n",
        "***Elastic Net Regularization***:\n",
        "\n",
        "For Elastic Net, the objective function is a combination of both L1 and L2 penalties:\n",
        "\n",
        "$$ \\mathcal{L}_{\\text{elastic net}}(\\beta) = \\sum_{i=1}^n (y_i - X_i \\beta)^2 + \\lambda \\left( \\alpha \\sum_{j=1}^p |\\beta_j| + (1 - \\alpha) \\sum_{j=1}^p \\beta_j^2 \\right) $$ Elastic Net allows you to balance between Lasso and regularization, providing both feature selection and coefficient shrinkage.\n",
        "\n",
        "***Optimization***\n",
        "\n",
        "The coefficients $\\beta$ are estimated by minimizing the regularized objective function with respect to $\\beta$. Depending on the penalty, different optimization techniques are used:\n",
        "\n",
        "-   **Ridge**: Closed-form solutions (matrix inversion) or gradient descent.\n",
        "-   **Lasso and Elastic Net**: Coordinate descent, which optimizes one parameter at a time, is typically used."
      ],
      "metadata": {
        "id": "TpcIOkTs30qp"
      }
    },
    {
      "cell_type": "markdown",
      "source": [
        "### Install rpy2"
      ],
      "metadata": {
        "id": "SDp3ULld8Gb9"
      }
    },
    {
      "cell_type": "code",
      "source": [
        "!pip uninstall rpy2 -y\n",
        "!pip install rpy2==3.5.1\n",
        "%load_ext rpy2.ipython"
      ],
      "metadata": {
        "id": "CiM6y-Mw8AJp",
        "colab": {
          "base_uri": "https://localhost:8080/"
        },
        "outputId": "4f96c44b-816e-46cf-dd2b-d611a0a38fad"
      },
      "execution_count": 1,
      "outputs": [
        {
          "output_type": "stream",
          "name": "stdout",
          "text": [
            "Found existing installation: rpy2 3.4.2\n",
            "Uninstalling rpy2-3.4.2:\n",
            "  Successfully uninstalled rpy2-3.4.2\n",
            "Collecting rpy2==3.5.1\n",
            "  Downloading rpy2-3.5.1.tar.gz (201 kB)\n",
            "\u001b[2K     \u001b[90m━━━━━━━━━━━━━━━━━━━━━━━━━━━━━━━━━━━━━━━━\u001b[0m \u001b[32m201.7/201.7 kB\u001b[0m \u001b[31m3.6 MB/s\u001b[0m eta \u001b[36m0:00:00\u001b[0m\n",
            "\u001b[?25h  Preparing metadata (setup.py) ... \u001b[?25l\u001b[?25hdone\n",
            "Requirement already satisfied: cffi>=1.10.0 in /usr/local/lib/python3.11/dist-packages (from rpy2==3.5.1) (1.17.1)\n",
            "Requirement already satisfied: jinja2 in /usr/local/lib/python3.11/dist-packages (from rpy2==3.5.1) (3.1.5)\n",
            "Requirement already satisfied: pytz in /usr/local/lib/python3.11/dist-packages (from rpy2==3.5.1) (2025.1)\n",
            "Requirement already satisfied: tzlocal in /usr/local/lib/python3.11/dist-packages (from rpy2==3.5.1) (5.2)\n",
            "Requirement already satisfied: pycparser in /usr/local/lib/python3.11/dist-packages (from cffi>=1.10.0->rpy2==3.5.1) (2.22)\n",
            "Requirement already satisfied: MarkupSafe>=2.0 in /usr/local/lib/python3.11/dist-packages (from jinja2->rpy2==3.5.1) (3.0.2)\n",
            "Building wheels for collected packages: rpy2\n",
            "  Building wheel for rpy2 (setup.py) ... \u001b[?25l\u001b[?25hdone\n",
            "  Created wheel for rpy2: filename=rpy2-3.5.1-cp311-cp311-linux_x86_64.whl size=314974 sha256=ad0643382980de554aa79a8aa3fde27b8a27d71a96af9e04d093be08a48f7a6d\n",
            "  Stored in directory: /root/.cache/pip/wheels/e9/55/d1/47be85a5f3f1e1f4d1e91cb5e3a4dcb40dd72147f184c5a5ef\n",
            "Successfully built rpy2\n",
            "Installing collected packages: rpy2\n",
            "Successfully installed rpy2-3.5.1\n"
          ]
        }
      ]
    },
    {
      "cell_type": "markdown",
      "source": [
        "### Mount Google Drive"
      ],
      "metadata": {
        "id": "O1zeuaCowiBt"
      }
    },
    {
      "cell_type": "code",
      "source": [
        "from google.colab import drive\n",
        "drive.mount('/content/drive')"
      ],
      "metadata": {
        "colab": {
          "base_uri": "https://localhost:8080/"
        },
        "id": "9J-4ie4bwiJ1",
        "outputId": "d1322ac9-70da-4727-f206-816c8dfd88bf"
      },
      "execution_count": 2,
      "outputs": [
        {
          "output_type": "stream",
          "name": "stdout",
          "text": [
            "Mounted at /content/drive\n"
          ]
        }
      ]
    },
    {
      "cell_type": "markdown",
      "source": [
        "## Regularized GLM Regression Model from Scratch\n",
        "\n",
        "To perform regularized regression (Ridge, Lasso, and Elastic Net) on synthetic data in R without using any libraries, we need to manually implement each regularization method in the GLM framework. Here’s how to proceed:"
      ],
      "metadata": {
        "id": "UdMcXPIF4Bly"
      }
    },
    {
      "cell_type": "markdown",
      "source": [
        "### Generate Synthetic Data\n",
        "\n",
        "Let's create synthetic data with one continuous response variable ( y ) and four predictors ( x_1, x_2, x_3, x_4 )."
      ],
      "metadata": {
        "id": "ztl1QBDb4MYe"
      }
    },
    {
      "cell_type": "code",
      "source": [
        "%%R\n",
        "# Generate Synthetic Data\n",
        "set.seed(123)\n",
        "n <- 100\n",
        "p <- 10\n",
        "X <- matrix(rnorm(n * p), n, p)\n",
        "beta <- c(1, -1, 0, 0.5, -0.5, rep(0, p - 5))\n",
        "y <- X %*% beta + rnorm(n)"
      ],
      "metadata": {
        "id": "q82MNCn64Q0w"
      },
      "execution_count": null,
      "outputs": []
    },
    {
      "cell_type": "markdown",
      "source": [
        "### Coordinate Descent Algorithm for Regularized Regression\n",
        "\n",
        "Next, we implement the coordinate descent algorithm to solve the regularized regression problem. The algorithm iteratively updates each coefficient by minimizing the objective function with respect to that coefficient while keeping the others fixed. The update rule depends on the type of regularization (Ridge, Lasso, or Elastic Net). Here’s the implementation in R:\n"
      ],
      "metadata": {
        "id": "4BpOoaj34eBU"
      }
    },
    {
      "cell_type": "code",
      "source": [
        "%%R\n",
        " # Coordinate Descent Algorithm\n",
        "coordinate_descent <- function(X, y, lambda, alpha, tol = 1e-6, max_iter = 1000) {\n",
        "  n <- nrow(X)\n",
        "  p <- ncol(X)\n",
        "  beta <- rep(0, p)\n",
        "  X <- scale(X)  # Standardize features\n",
        "  y <- y - mean(y)  # Center target\n",
        "\n",
        "  for (iter in 1:max_iter) {\n",
        "    beta_old <- beta\n",
        "    for (j in 1:p) {\n",
        "      r_j <- y - X %*% beta + beta[j] * X[, j]\n",
        "      z_j <- sum(X[, j]^2)\n",
        "      rho_j <- sum(X[, j] * r_j)\n",
        "\n",
        "      # Update beta based on the type of model (Ridge, Lasso, ElasticNet)\n",
        "      beta[j] <- ifelse(alpha == 1, # Lasso\n",
        "                        sign(rho_j) * max(abs(rho_j) - lambda, 0) / z_j,\n",
        "                        ifelse(alpha == 0, # Ridge\n",
        "                               rho_j / (z_j + lambda),\n",
        "                               # Elastic Net\n",
        "                               sign(rho_j) * max(abs(rho_j) - lambda * alpha, 0) / (z_j + lambda * (1 - alpha))))\n",
        "    }\n",
        "    if (sum(abs(beta - beta_old)) < tol) break\n",
        "  }\n",
        "  return(beta)\n",
        "}\n",
        "\n"
      ],
      "metadata": {
        "id": "soSBO_2B4qVv"
      },
      "execution_count": null,
      "outputs": []
    },
    {
      "cell_type": "markdown",
      "source": [
        "### Cross-Validation for Hyperparameter Tuning (including alpha)\n",
        "\n",
        "We can perform cross-validation to select the best hyperparameters (alpha and lambda) for the regularized regression model. This involves splitting the data into k folds, training the model on k-1 folds, and evaluating it on the remaining fold. We repeat this process for different values of alpha and lambda to find the best combination. Here’s how to implement cross-validation in R:### Fit the Models\n"
      ],
      "metadata": {
        "id": "OVC5oBZg63NU"
      }
    },
    {
      "cell_type": "code",
      "source": [
        "%%R\n",
        "# Cross-Validation for Hyperparameter Tuning (including alpha)\n",
        "cv_glm <- function(X, y, alpha_seq, lambda_seq, k = 5) {\n",
        "  n <- nrow(X)\n",
        "  folds <- sample(1:k, n, replace = TRUE)\n",
        "  best_mse <- Inf\n",
        "  best_lambda <- NULL\n",
        "  best_alpha <- NULL\n",
        "\n",
        "  for (alpha in alpha_seq) {\n",
        "    mse_vals <- numeric(length(lambda_seq))\n",
        "\n",
        "    for (i in seq_along(lambda_seq)) {\n",
        "      lambda <- lambda_seq[i]\n",
        "      fold_errors <- numeric(k)\n",
        "\n",
        "      # Cross-validation for each fold\n",
        "      for (fold in 1:k) {\n",
        "        X_train <- X[folds != fold, ]\n",
        "        y_train <- y[folds != fold]\n",
        "        X_val <- X[folds == fold, ]\n",
        "        y_val <- y[folds == fold]\n",
        "\n",
        "        beta <- coordinate_descent(X_train, y_train, lambda, alpha)\n",
        "        y_pred <- X_val %*% beta\n",
        "        fold_errors[fold] <- mean((y_val - y_pred)^2)\n",
        "      }\n",
        "      mse_vals[i] <- mean(fold_errors)\n",
        "    }\n",
        "\n",
        "    # Find the best lambda for the current alpha\n",
        "    min_mse <- min(mse_vals)\n",
        "    if (min_mse < best_mse) {\n",
        "      best_mse <- min_mse\n",
        "      best_lambda <- lambda_seq[which.min(mse_vals)]\n",
        "      best_alpha <- alpha\n",
        "    }\n",
        "  }\n",
        "\n",
        "  return(list(best_alpha = best_alpha, best_lambda = best_lambda))\n",
        "}"
      ],
      "metadata": {
        "id": "KXkM1n8lBMhO"
      },
      "execution_count": null,
      "outputs": []
    },
    {
      "cell_type": "markdown",
      "source": [
        "### Train Models for All Alpha Values\n",
        "\n",
        "Finally, we can train the regularized regression models for all alpha values (0 for Ridge, 0.5 for Elastic Net, and 1 for Lasso) and select the best alpha and lambda based on cross-validation results. We then fit the final model using the best hyperparameters and evaluate its performance. Here’s how to implement this in R:"
      ],
      "metadata": {
        "id": "-JuTDU0fBTIX"
      }
    },
    {
      "cell_type": "code",
      "source": [
        "%%R\n",
        "# Standardize X for better regularization performance\n",
        "X_scaled <- scale(X)\n",
        "\n",
        "# Train Models for All Alpha Values\n",
        "alpha_values <- c(0, 0.5, 1)  # Ridge (0), ElasticNet (0.5), Lasso (1)\n",
        "lambda_seq <- 10^seq(-3, 1, length.out = 50)\n",
        "\n",
        "# Find the best alpha and lambda\n",
        "cv_results <- cv_glm(X_scaled, y, alpha_values, lambda_seq, k = 5)\n",
        "\n",
        "# Best alpha and lambda\n",
        "best_alpha <- cv_results$best_alpha\n",
        "best_lambda <- cv_results$best_lambda\n",
        "\n",
        "# Train the final model using the best alpha and lambda\n",
        "final_beta <- coordinate_descent(X_scaled, y, best_lambda, best_alpha)\n",
        "y_pred <- X_scaled %*% final_beta\n",
        "\n",
        "# Calculate performance metrics\n",
        "mse <- mean((y - y_pred)^2)\n",
        "r_squared <- 1 - sum((y - y_pred)^2) / sum((y - mean(y))^2)\n",
        "\n",
        "cat(\"\\nFinal Model (Best Alpha =\", best_alpha, \"and Lambda =\", best_lambda, \"):\\n\")\n",
        "cat(\"MSE:\", mse, \"\\n\")\n",
        "cat(\"R-squared:\", r_squared, \"\\n\")"
      ],
      "metadata": {
        "colab": {
          "base_uri": "https://localhost:8080/"
        },
        "id": "8mioZdwbBT_S",
        "outputId": "939fcf13-4d8a-4352-a677-a88b049d60a2"
      },
      "execution_count": null,
      "outputs": [
        {
          "output_type": "stream",
          "name": "stdout",
          "text": [
            "\n",
            "Final Model (Best Alpha = 1 and Lambda = 1.84207 ):\n",
            "MSE: 1.025086 \n",
            "R-squared: 0.7275239 \n"
          ]
        }
      ]
    },
    {
      "cell_type": "markdown",
      "source": [
        "### Visualize Coefficients"
      ],
      "metadata": {
        "id": "90C3xCiGBa3q"
      }
    },
    {
      "cell_type": "code",
      "source": [
        "%%R -w 600 -h 400\n",
        "\n",
        "library(ggplot2)\n",
        "# Visualize Coefficients\n",
        "coef_df <- data.frame(\n",
        "  Feature = 1:ncol(X),\n",
        "  Coefficients = final_beta\n",
        ")\n",
        "\n",
        "ggplot(coef_df, aes(x = Feature, y = Coefficients)) +\n",
        "  geom_point() +\n",
        "  geom_line() +\n",
        "  labs(title = paste(\"Coefficients (Best Alpha =\", best_alpha, \")\"), x = \"Feature\", y = \"Coefficient\") +\n",
        "  theme_minimal()"
      ],
      "metadata": {
        "colab": {
          "base_uri": "https://localhost:8080/",
          "height": 417
        },
        "id": "IC-O5IlbBbtA",
        "outputId": "3bb8e27f-04e8-4cce-f773-53cceb81c5c8"
      },
      "execution_count": null,
      "outputs": [
        {
          "output_type": "display_data",
          "data": {
            "image/png": "[encoded data removed]"
          },
          "metadata": {}
        }
      ]
    },
    {
      "cell_type": "markdown",
      "source": [
        "### Fit Ridge, Lasso, and Elastic Net models\n",
        "\n",
        "Fit Ridge, Lasso, and Elastic Net models:"
      ],
      "metadata": {
        "id": "9T5ojBgKBv5p"
      }
    },
    {
      "cell_type": "code",
      "source": [
        "%%R\n",
        "# Fit Ridge, Lasso, and Elastic Net models\n",
        "ridge_beta <- coordinate_descent(X_scaled, y, lambda = best_lambda, alpha = 0)\n",
        "lasso_beta <- coordinate_descent(X_scaled, y, lambda = best_lambda, alpha = 1)\n",
        "elastic_net_beta <- coordinate_descent(X_scaled, y, lambda = best_lambda, alpha = best_alpha)\n",
        "\n",
        "# Combine coefficients into a data frame\n",
        "coef_summary <- data.frame(\n",
        "  Predictor = paste0(\"X\", 1:10),\n",
        "  Ridge = round(ridge_beta, 3),\n",
        "  Lasso = round(lasso_beta , 3),\n",
        "  Elastic_Net = round(elastic_net_beta, 3)\n",
        "\n",
        ")\n",
        "\n",
        "print(coef_summary)"
      ],
      "metadata": {
        "colab": {
          "base_uri": "https://localhost:8080/"
        },
        "id": "4ERkgB8gByVX",
        "outputId": "f931520a-bb20-4f0f-ce3a-089cbfa173e7"
      },
      "execution_count": null,
      "outputs": [
        {
          "output_type": "stream",
          "name": "stdout",
          "text": [
            "   Predictor  Ridge  Lasso Elastic_Net\n",
            "1         X1  0.954  0.961       0.961\n",
            "2         X2 -0.951 -0.951      -0.951\n",
            "3         X3 -0.140 -0.124      -0.124\n",
            "4         X4  0.646  0.651       0.651\n",
            "5         X5 -0.416 -0.409      -0.409\n",
            "6         X6 -0.042 -0.026      -0.026\n",
            "7         X7  0.090  0.077       0.077\n",
            "8         X8  0.117  0.100       0.100\n",
            "9         X9 -0.053 -0.037      -0.037\n",
            "10       X10  0.143  0.127       0.127\n"
          ]
        }
      ]
    },
    {
      "cell_type": "markdown",
      "source": [
        "### Predicted Values for Each Model"
      ],
      "metadata": {
        "id": "ytt7tkd1B2l0"
      }
    },
    {
      "cell_type": "code",
      "source": [
        "%%R\n",
        "# Predicted values for each model\n",
        "y_pred_ridge <- X_scaled %*% ridge_beta\n",
        "y_pred_lasso <- X_scaled %*% lasso_beta\n",
        "y_pred_elastic_net <- X_scaled %*% elastic_net_beta"
      ],
      "metadata": {
        "id": "BQtm7j1SB3UI"
      },
      "execution_count": null,
      "outputs": []
    },
    {
      "cell_type": "markdown",
      "source": [
        "### Evaluate Model Performance\n",
        "\n",
        "To evaluate the models, calculate the Mean Squared Error (MSE) between the true response and predicted values."
      ],
      "metadata": {
        "id": "oGXqo7Nc5H1b"
      }
    },
    {
      "cell_type": "code",
      "source": [
        "%%R\n",
        "calculate_metrics <- function(observed, predicted) {\n",
        "  # Ensure inputs are numeric vectors\n",
        "  observed <- as.numeric(observed)\n",
        "  predicted <- as.numeric(predicted)\n",
        "\n",
        "  # Compute metrics\n",
        "  mse <- mean((observed - predicted)^2)\n",
        "  rmse <- sqrt(mse)\n",
        "  mae <- mean(abs(observed - predicted))\n",
        "  medae <- median(abs(observed - predicted))\n",
        "  r2 <- 1 - sum((observed - predicted)^2) / sum((observed - mean(observed))^2)\n",
        "\n",
        "  # Return results as a named list\n",
        "  metrics <- list(\n",
        "    RMSE = rmse,\n",
        "    MAE = mae,\n",
        "    MSE = mse,\n",
        "    MedAE = medae,\n",
        "    R2 = r2\n",
        "  )\n",
        "  return(metrics)\n",
        "}"
      ],
      "metadata": {
        "id": "O3zQorj65WKW"
      },
      "execution_count": null,
      "outputs": []
    },
    {
      "cell_type": "code",
      "source": [
        "%%R\n",
        "# Evaluate Ridge model\n",
        "calculate_metrics(y, y_pred_ridge)"
      ],
      "metadata": {
        "colab": {
          "base_uri": "https://localhost:8080/"
        },
        "id": "SNQfr7GH_vQS",
        "outputId": "31aef123-00e6-485b-dd55-817c36dcd280"
      },
      "execution_count": null,
      "outputs": [
        {
          "output_type": "stream",
          "name": "stdout",
          "text": [
            "$RMSE\n",
            "[1] 1.011627\n",
            "\n",
            "$MAE\n",
            "[1] 0.7968189\n",
            "\n",
            "$MSE\n",
            "[1] 1.02339\n",
            "\n",
            "$MedAE\n",
            "[1] 0.6705467\n",
            "\n",
            "$R2\n",
            "[1] 0.7279747\n",
            "\n"
          ]
        }
      ]
    },
    {
      "cell_type": "code",
      "source": [
        "%%R\n",
        "# Evaluate Lasso model\n",
        "calculate_metrics(y, y_pred_lasso)"
      ],
      "metadata": {
        "colab": {
          "base_uri": "https://localhost:8080/"
        },
        "id": "2RvGZIdd_wK-",
        "outputId": "412f7437-fc0d-40d6-cf23-153cda0b694d"
      },
      "execution_count": null,
      "outputs": [
        {
          "output_type": "stream",
          "name": "stdout",
          "text": [
            "$RMSE\n",
            "[1] 1.012465\n",
            "\n",
            "$MAE\n",
            "[1] 0.7986907\n",
            "\n",
            "$MSE\n",
            "[1] 1.025086\n",
            "\n",
            "$MedAE\n",
            "[1] 0.6622258\n",
            "\n",
            "$R2\n",
            "[1] 0.7275239\n",
            "\n"
          ]
        }
      ]
    },
    {
      "cell_type": "code",
      "source": [
        "%%R\n",
        "# Evaluate Elastic Net model\n",
        "calculate_metrics(y,y_pred_elastic_net)"
      ],
      "metadata": {
        "colab": {
          "base_uri": "https://localhost:8080/"
        },
        "id": "TO8W9wV2_2EE",
        "outputId": "bd1aa080-f9e0-4298-941a-9f8a2c0b2609"
      },
      "execution_count": null,
      "outputs": [
        {
          "output_type": "stream",
          "name": "stdout",
          "text": [
            "$RMSE\n",
            "[1] 1.012465\n",
            "\n",
            "$MAE\n",
            "[1] 0.7986907\n",
            "\n",
            "$MSE\n",
            "[1] 1.025086\n",
            "\n",
            "$MedAE\n",
            "[1] 0.6622258\n",
            "\n",
            "$R2\n",
            "[1] 0.7275239\n",
            "\n"
          ]
        }
      ]
    },
    {
      "cell_type": "markdown",
      "source": [
        "The output `cv_results` will contain the average MSE across all folds for each model (Ridge, Lasso, Elastic Net). Comparing these values allows us to determine which regularization method performs best with this synthetic data."
      ],
      "metadata": {
        "id": "DZb2rdMl5kZj"
      }
    },
    {
      "cell_type": "markdown",
      "source": [
        "## Regularized GLM Regression Model in R\n",
        "\n",
        "To fit a Regularized Generalized Linear Model (GLM) with a Gaussian distribution (equivalent to linear regression) in R, we will use {glmnet} package."
      ],
      "metadata": {
        "id": "sZM4h2ad5q78"
      }
    },
    {
      "cell_type": "markdown",
      "source": [
        "### Install Rrequired R Packages"
      ],
      "metadata": {
        "id": "yXu-XY0mw1A8"
      }
    },
    {
      "cell_type": "code",
      "source": [
        "%%R\n",
        "packages <- c('tidyverse',\n",
        "     'plyr',\n",
        "\t\t 'ggpmisc',\n",
        "\t\t 'rstatix',\n",
        "\t\t 'ggeffects',\n",
        "\t\t 'patchwork',\n",
        "\t\t 'Metrics',\n",
        "\t\t 'ggpmisc',\n",
        "\t\t 'glmnet'\n",
        "\t  \t)\n"
      ],
      "metadata": {
        "id": "TeYB57l0wz5N"
      },
      "execution_count": 3,
      "outputs": []
    },
    {
      "cell_type": "code",
      "source": [
        "%%R\n",
        "# Install missing packages\n",
        "new.packages <- packages[!(pkg %in% installed.packages(lib='drive/My Drive/R/')[,\"Package\"])]\n",
        "if(length(new.packages)) install.packages(new.packages, lib='drive/My Drive/R/')"
      ],
      "metadata": {
        "id": "J3nWFZpl-sr-"
      },
      "execution_count": null,
      "outputs": []
    },
    {
      "cell_type": "code",
      "source": [
        "%%R\n",
        "# set library path\n",
        ".libPaths('drive/My Drive/R')\n",
        "# Verify installation\n",
        "cat(\"Installed packages:\\n\")\n",
        "print(sapply(packages, requireNamespace, quietly = TRUE))"
      ],
      "metadata": {
        "colab": {
          "base_uri": "https://localhost:8080/"
        },
        "id": "-jv6EE7Z-sx-",
        "outputId": "6667d54c-1c31-418f-c9ce-bf6ffb99e8f3"
      },
      "execution_count": 4,
      "outputs": [
        {
          "output_type": "stream",
          "name": "stdout",
          "text": [
            "Installed packages:\n"
          ]
        },
        {
          "output_type": "stream",
          "name": "stderr",
          "text": [
            "WARNING:rpy2.rinterface_lib.callbacks:R[write to console]: Registered S3 methods overwritten by 'ggpp':\n",
            "  method                  from   \n",
            "  heightDetails.titleGrob ggplot2\n",
            "  widthDetails.titleGrob  ggplot2\n",
            "\n"
          ]
        },
        {
          "output_type": "stream",
          "name": "stdout",
          "text": [
            "tidyverse      plyr   ggpmisc   rstatix ggeffects patchwork   Metrics   ggpmisc \n",
            "     TRUE      TRUE      TRUE      TRUE      TRUE      TRUE      TRUE      TRUE \n",
            "   glmnet \n",
            "     TRUE \n"
          ]
        }
      ]
    },
    {
      "cell_type": "markdown",
      "source": [
        "### Load R Packages"
      ],
      "metadata": {
        "id": "MV7R29xfyWQz"
      }
    },
    {
      "cell_type": "code",
      "source": [
        "%%R\n",
        "# set library path\n",
        ".libPaths('drive/My Drive/R')\n",
        "# Load packages with suppressed messages\n",
        "invisible(lapply(packages, function(pkg) {\n",
        "  suppressPackageStartupMessages(library(pkg, character.only = TRUE))\n",
        "}))\n",
        "# Check loaded packages\n",
        "cat(\"Successfully loaded packages:\\n\")\n",
        "print(search()[grepl(\"package:\", search())])# Check loaded packages\n"
      ],
      "metadata": {
        "id": "232jNAHBykUL",
        "colab": {
          "base_uri": "https://localhost:8080/"
        },
        "outputId": "e5f37eb1-a912-4e37-ce31-62b191314f87"
      },
      "execution_count": 5,
      "outputs": [
        {
          "output_type": "stream",
          "name": "stdout",
          "text": [
            "Successfully loaded packages:\n",
            " [1] \"package:glmnet\"    \"package:Matrix\"    \"package:Metrics\"  \n",
            " [4] \"package:patchwork\" \"package:ggeffects\" \"package:rstatix\"  \n",
            " [7] \"package:ggpmisc\"   \"package:ggpp\"      \"package:plyr\"     \n",
            "[10] \"package:lubridate\" \"package:forcats\"   \"package:stringr\"  \n",
            "[13] \"package:dplyr\"     \"package:purrr\"     \"package:readr\"    \n",
            "[16] \"package:tidyr\"     \"package:tibble\"    \"package:ggplot2\"  \n",
            "[19] \"package:tidyverse\" \"package:tools\"     \"package:stats\"    \n",
            "[22] \"package:graphics\"  \"package:grDevices\" \"package:utils\"    \n",
            "[25] \"package:datasets\"  \"package:methods\"   \"package:base\"     \n"
          ]
        }
      ]
    },
    {
      "cell_type": "markdown",
      "source": [
        "### Data\n",
        "\n",
        "Our goal is to develop a GLM regression model to predict paddy soil arsenic (`SAs`) concentration using various irrigation water and soil properties. We have available data of 263 paired groundwater and paddy soil samples from arsenic contaminated areas in Tala Upazilla, Satkhira district, Bangladesh. This data was utilized in a publication titled \"Factors Affecting Paddy Soil Arsenic Concentration in Bangladesh: Prediction and Uncertainty of Geostatistical Risk Mapping\" which can be accessed via the this [URL](https://doi.org/10.1016/j.scitotenv.2011.10.008)\n",
        "\n",
        "Full data set is available for download from my [Dropbox](https://www.dropbox.com/scl/fo/2rh6r68i9cxmgortvbw8q/h?rlkey=bvntt66n9mcywprmdki08ch3r&dl=0) or from my [Github](https://github.com/zia207/r-colab/tree/main/Data/Regression_analysis) accounts.\n",
        "\n",
        "We will use `read_csv()` function of **readr** package to import data as a **tidy** data.\n"
      ],
      "metadata": {
        "id": "rSJqB05rO5ES"
      }
    },
    {
      "cell_type": "code",
      "execution_count": null,
      "metadata": {
        "colab": {
          "base_uri": "https://localhost:8080/"
        },
        "id": "CFpt_H01OPsa",
        "outputId": "6f3934b9-87c4-468c-edf5-aaef20140fa3"
      },
      "outputs": [
        {
          "output_type": "stream",
          "name": "stdout",
          "text": [
            "Rows: 263 Columns: 29\n",
            "── Column specification ────────────────────────────────────────────────────────\n",
            "Delimiter: \",\"\n",
            "chr  (1): Land_type\n",
            "dbl (28): ID, Longitude, Latitude, WAs, WP, WFe, WEc, WpH, WMg, WNa, WCa, WK...\n",
            "\n",
            "ℹ Use `spec()` to retrieve the full column specification for this data.\n",
            "ℹ Specify the column types or set `show_col_types = FALSE` to quiet this message.\n"
          ]
        }
      ],
      "source": [
        "%%R\n",
        "# load data from Github\n",
        "mf<-read_csv(\"https://github.com/zia207/r-colab/raw/main/Data/Regression_analysis/bd_soil_arsenic.csv\")"
      ]
    },
    {
      "cell_type": "markdown",
      "source": [
        "#### Data Processing"
      ],
      "metadata": {
        "id": "I8dFM0UCCpWO"
      }
    },
    {
      "cell_type": "code",
      "source": [
        "%%R\n",
        "df <- mf |>\n",
        "  # select variables\n",
        "  dplyr::select (WAs, WP, WFe,\n",
        "                WEc, WpH, SAoFe, SpH, SOC,\n",
        "                Sand, Silt, SP, Elevation,\n",
        "                Year_Irrigation, Distance_STW,\n",
        "                Land_type, SAs) |>\n",
        "   # convert to factor\n",
        "   dplyr::mutate_at(vars(Land_type), funs(factor))  |>\n",
        "   # create a variable\n",
        "   dplyr::mutate (Silt_Sand = Silt+Sand)  |>\n",
        "   # drop two variables\n",
        "   dplyr::select(-c(Silt,Sand)) |>\n",
        "   # relocate or organized variable\n",
        "   dplyr::relocate(SAs, .after=Silt_Sand) |>\n",
        "   dplyr::relocate(Land_type, .after=Silt_Sand) |>\n",
        "   # normalize the all numerical features\n",
        "   # dplyr::mutate_at(1:13,  funs((.-min(.))/max(.-min(.)))) |>\n",
        "   glimpse()"
      ],
      "metadata": {
        "colab": {
          "base_uri": "https://localhost:8080/"
        },
        "id": "MmtJFmCMCpig",
        "outputId": "86179473-f7f3-41db-d9c0-f5c2937b662b"
      },
      "execution_count": null,
      "outputs": [
        {
          "output_type": "stream",
          "name": "stdout",
          "text": [
            "Rows: 263\n",
            "Columns: 15\n",
            "$ WAs             <dbl> 0.059, 0.059, 0.079, 0.122, 0.072, 0.042, 0.075, 0.064…\n",
            "$ WP              <dbl> 0.761, 1.194, 1.317, 1.545, 0.966, 1.058, 0.868, 0.890…\n",
            "$ WFe             <dbl> 3.44, 4.93, 9.70, 8.58, 4.78, 6.95, 7.81, 8.14, 8.99, …\n",
            "$ WEc             <dbl> 1.03, 1.07, 1.40, 0.83, 1.42, 1.82, 1.71, 1.74, 1.57, …\n",
            "$ WpH             <dbl> 7.03, 7.06, 6.84, 6.85, 6.95, 6.89, 6.86, 6.98, 6.82, …\n",
            "$ SAoFe           <dbl> 2500, 2670, 2160, 2500, 2060, 2500, 2520, 2140, 2150, …\n",
            "$ SpH             <dbl> 7.74, 7.87, 8.03, 8.07, 7.81, 7.77, 7.66, 7.89, 8.00, …\n",
            "$ SOC             <dbl> 1.66, 1.26, 1.36, 1.61, 1.26, 1.74, 1.71, 1.69, 1.41, …\n",
            "$ SP              <dbl> 13.79, 15.31, 15.54, 16.28, 14.20, 13.41, 13.26, 14.84…\n",
            "$ Elevation       <dbl> 3, 5, 4, 3, 5, 2, 2, 3, 3, 3, 2, 5, 6, 6, 5, 5, 4, 6, …\n",
            "$ Year_Irrigation <dbl> 14, 20, 10, 8, 10, 9, 8, 10, 8, 2, 20, 4, 15, 10, 5, 4…\n",
            "$ Distance_STW    <dbl> 5, 6, 5, 8, 5, 5, 10, 8, 10, 8, 5, 5, 9, 5, 10, 10, 12…\n",
            "$ Silt_Sand       <dbl> 61.1, 59.8, 58.7, 56.3, 63.0, 60.3, 60.2, 54.5, 57.5, …\n",
            "$ Land_type       <fct> MHL, MHL, MHL, MHL, MHL, MHL, MHL, MHL, MHL, MHL, MHL,…\n",
            "$ SAs             <dbl> 29.10, 45.10, 23.20, 23.80, 26.00, 25.60, 26.30, 31.60…\n"
          ]
        }
      ]
    },
    {
      "cell_type": "markdown",
      "source": [
        "#### Split Data to Training and Test Sets\n",
        "\n",
        "We will use the `ddply()` function of the **plyr** package to split soil carbon datainto homogeneous subgroups using **stratified random sampling**. This method involves dividing the population into strata and taking random samples from each stratum to ensure that each subgroup is proportionally represented in the sample. The goal is to obtain a representative sample of the population by adequately representing each stratum."
      ],
      "metadata": {
        "id": "ywBn8ahFCwkx"
      }
    },
    {
      "cell_type": "code",
      "source": [
        "%%R\n",
        "seeds = 11076\n",
        "tr_prop = 0.70\n",
        "# training data (70% data)\n",
        "train= ddply(df,.(Land_type),\n",
        "                 function(., seed) { set.seed(seed); .[sample(1:nrow(.), trunc(nrow(.) * tr_prop)), ] }, seed = 101)\n",
        "test = ddply(df, .(Land_type),\n",
        "            function(., seed) { set.seed(seed); .[-sample(1:nrow(.), trunc(nrow(.) * tr_prop)), ] }, seed = 101)"
      ],
      "metadata": {
        "id": "s-r2_LWcCxMz"
      },
      "execution_count": null,
      "outputs": []
    },
    {
      "cell_type": "markdown",
      "source": [
        "#### Create x and y\n",
        "\n",
        "You need to create two objects:\n",
        "\n",
        "-   `y` for storing the outcome variable\n",
        "-   `x` for holding the predictor variables. This should be created using the function model.matrix() allowing to automatically transform any qualitative variables (if any) into dummy variables, which is important because `glmnet()` can only take numerical, quantitative inputs. After creating the model matrix, we remove the intercept component at index = 1.\n",
        "\n",
        " use `model.matrix()` when you get \"error in evaluating the argument 'x' in selecting a method for function 'as.matrix'\". For some reason glmnet prefers `data.matrix()` to `as.matrix()`"
      ],
      "metadata": {
        "id": "UUPhHm3eC1Ok"
      }
    },
    {
      "cell_type": "code",
      "source": [
        "%%R\n",
        "# Predictor variables\n",
        "x.train <- model.matrix(SAs~., train)[,-1]\n",
        "# Outcome variable\n",
        "y.train <-train$SAs"
      ],
      "metadata": {
        "id": "bWMJXUWxC31w"
      },
      "execution_count": null,
      "outputs": []
    },
    {
      "cell_type": "markdown",
      "source": [
        "### Ridge Regression"
      ],
      "metadata": {
        "id": "EcqUZt4cC5LI"
      }
    },
    {
      "cell_type": "markdown",
      "source": [
        "#### Cross-validation for the best lambda\n",
        "\n",
        "Now we can apply `cv.glmnet()` function for cross-validation to choose the best lambda (regularization parameter). For example, suppose we designate $α$=0 for ridge regression and specify `nlambda` as 200. This implies that the model fit will be calculated solely for 200 $λ$ values."
      ],
      "metadata": {
        "id": "4Z_PXyWFDJ9q"
      }
    },
    {
      "cell_type": "code",
      "source": [
        "%%R\n",
        "# cross validation\n",
        "ridge.cv <- cv.glmnet(x= x.train,\n",
        "                       y= y.train,\n",
        "                       type.measure=\"mse\",\n",
        "                       nfold = 5,\n",
        "                       alpha=0,\n",
        "                       family=\"gaussian\",\n",
        "                       nlambda=200,\n",
        "                       standardize = TRUE)"
      ],
      "metadata": {
        "id": "p_eUNGuwDNka"
      },
      "execution_count": null,
      "outputs": []
    },
    {
      "cell_type": "markdown",
      "source": [
        "Printing the resulting object gives some basic information on the cross-validation performed:"
      ],
      "metadata": {
        "id": "6wmoj_sCDRg8"
      }
    },
    {
      "cell_type": "code",
      "source": [
        "%%R\n",
        "print(ridge.cv)"
      ],
      "metadata": {
        "colab": {
          "base_uri": "https://localhost:8080/"
        },
        "id": "zh1DEtUxDSIl",
        "outputId": "43601527-8969-4795-b9ac-ad84ba8e7804"
      },
      "execution_count": null,
      "outputs": [
        {
          "output_type": "stream",
          "name": "stdout",
          "text": [
            "\n",
            "Call:  cv.glmnet(x = x.train, y = y.train, type.measure = \"mse\", nfolds = 5,      alpha = 0, family = \"gaussian\", nlambda = 200, standardize = TRUE) \n",
            "\n",
            "Measure: Mean-Squared Error \n",
            "\n",
            "    Lambda Index Measure    SE Nonzero\n",
            "min  1.376   173   28.02 3.055      14\n",
            "1se  7.988   135   30.99 4.543      14\n"
          ]
        }
      ]
    },
    {
      "cell_type": "markdown",
      "source": [
        "We can plot `ridge.cv` object to see how each tested lambda value performed:"
      ],
      "metadata": {
        "id": "I1NeY74CDjNe"
      }
    },
    {
      "cell_type": "code",
      "source": [
        "%%R -w 500 -h 400 -u px\n",
        "plot(ridge.cv)"
      ],
      "metadata": {
        "colab": {
          "base_uri": "https://localhost:8080/",
          "height": 417
        },
        "id": "TQK3Q-3PDjWU",
        "outputId": "17d00ece-dc64-4c06-aefc-9cc501bb43e8"
      },
      "execution_count": null,
      "outputs": [
        {
          "output_type": "display_data",
          "data": {
            "image/png": "[encoded data removed]"
          },
          "metadata": {}
        }
      ]
    },
    {
      "cell_type": "markdown",
      "source": [
        "On the graph, the x-axis represents the logarithm of $λ$, and the y-axis shows the `mean-squared error (MSE)`. A lower `MSE` indicates a better fit. The graph highlights two specific $λ$ values with dotted vertical lines. The first value, `lambda.min`, resulted in the lowest mean-squared error. The second value, called `lambda.1se`, represents the most considerable $λ$ value that provides cross-validated error within one standard error of the minimum. Generally, `lambda.1se` is more important than `lambda.min` because its goal is to prevent over-fitting. Therefore, we will sacrifice some goodness of fit for greater regularization.\n",
        "\n",
        "Now, we will extract the`lambda.1se` with lowest `MSE`:"
      ],
      "metadata": {
        "id": "aP-ASSfDDzqp"
      }
    },
    {
      "cell_type": "code",
      "source": [
        "%%R\n",
        "# Choose lambda with standard error of the minimum\n",
        "ridge.cv$lambda.1se"
      ],
      "metadata": {
        "colab": {
          "base_uri": "https://localhost:8080/"
        },
        "id": "8nCTpa_mD3Tr",
        "outputId": "b4d81e1b-5ebc-499a-f191-2eb47dde69dc"
      },
      "execution_count": null,
      "outputs": [
        {
          "output_type": "stream",
          "name": "stdout",
          "text": [
            "[1] 7.987695\n"
          ]
        }
      ]
    },
    {
      "cell_type": "markdown",
      "source": [
        "#### Fit ridge regression\n",
        "\n",
        "Now Fit the final model with the best \"lambda\":"
      ],
      "metadata": {
        "id": "XqIY9kYFD9bl"
      }
    },
    {
      "cell_type": "code",
      "source": [
        "%%R\n",
        "# fit ridge regression\n",
        "ridge.fit <-  glmnet(x= x.train,\n",
        "                       y= y.train,\n",
        "                       alpha=0,\n",
        "                       lambda = ridge.cv$lambda.1se,\n",
        "                       family=\"gaussian\",\n",
        "                       nlambda=200,\n",
        "                       standardize = TRUE)"
      ],
      "metadata": {
        "id": "onRay4GAD-Ht"
      },
      "execution_count": null,
      "outputs": []
    },
    {
      "cell_type": "markdown",
      "source": [
        "Printing the resulting object gives some basic information on `glmnet()` function performed:"
      ],
      "metadata": {
        "id": "UULPgJKLEDsK"
      }
    },
    {
      "cell_type": "code",
      "source": [
        "%%R\n",
        "print(ridge.fit)"
      ],
      "metadata": {
        "colab": {
          "base_uri": "https://localhost:8080/"
        },
        "id": "Vc763w4vEE2x",
        "outputId": "cedf06a3-6d1c-4f21-d6fb-6c336eb52e5f"
      },
      "execution_count": null,
      "outputs": [
        {
          "output_type": "stream",
          "name": "stdout",
          "text": [
            "\n",
            "Call:  glmnet(x = x.train, y = y.train, family = \"gaussian\", alpha = 0,      nlambda = 200, lambda = ridge.cv$lambda.1se, standardize = TRUE) \n",
            "\n",
            "  Df  %Dev Lambda\n",
            "1 14 47.43  7.988\n"
          ]
        }
      ]
    },
    {
      "cell_type": "markdown",
      "source": [
        "The output includes the call that generated the `ridge.fit` object. Additionally, it displays a three-column matrix containing the following columns: `Df` (the number of nonzero coefficients), `%dev` (the percentage of deviance explained), and `Lambda` (the corresponding value of $λ$). You can use the `digits` parameter to specify the number of significant digits in the printed output.\n",
        "\n",
        "Finally we will extract the coefficients for the selected $λ$ using `coef()` function:"
      ],
      "metadata": {
        "id": "0HlNh-bOEJ85"
      }
    },
    {
      "cell_type": "code",
      "source": [
        "%%R\n",
        "coef(ridge.fit)"
      ],
      "metadata": {
        "colab": {
          "base_uri": "https://localhost:8080/"
        },
        "id": "Y2UH2ccSEK_L",
        "outputId": "aaf82a64-20ec-4d07-946b-c3462f9ce64e"
      },
      "execution_count": null,
      "outputs": [
        {
          "output_type": "stream",
          "name": "stdout",
          "text": [
            "15 x 1 sparse Matrix of class \"dgCMatrix\"\n",
            "                           s0\n",
            "(Intercept)     13.2099725762\n",
            "WAs              6.7164555611\n",
            "WP               0.3804027472\n",
            "WFe              0.3493429629\n",
            "WEc              0.3119772753\n",
            "WpH             -0.1169126885\n",
            "SAoFe           -0.0005835623\n",
            "SpH              0.3508412746\n",
            "SOC              1.6901302632\n",
            "SP               0.0659128651\n",
            "Elevation       -0.3067938115\n",
            "Year_Irrigation  0.3843561522\n",
            "Distance_STW    -0.0804925909\n",
            "Silt_Sand       -0.0759818371\n",
            "Land_typeMHL     1.9065149235\n"
          ]
        }
      ]
    },
    {
      "cell_type": "markdown",
      "source": [
        "#### Prediction at Test Data\n",
        "\n",
        "Now, we will test this model on our test dataset by calculating the model-predicted values for the test dataset and then computing the MAE, MSE, RMSE and R-square:"
      ],
      "metadata": {
        "id": "SwwgRXjnEcja"
      }
    },
    {
      "cell_type": "code",
      "source": [
        "%%R\n",
        "# Make predictions on the test data\n",
        "x.test <- model.matrix(SAs ~., test)[,-1]\n",
        "y.test <-test$SAs\n",
        "\n",
        "ridge.SAs<-ridge.fit  |>\n",
        "  predict(x.test)  |>  as.vector()\n",
        "ridge.pred<-as.data.frame(cbind(\"Obs_SAs\" = y.test, \"Pred_SAs\"=ridge.SAs))\n",
        "glimpse(ridge.pred)"
      ],
      "metadata": {
        "colab": {
          "base_uri": "https://localhost:8080/"
        },
        "id": "3RJQuC2IEdQl",
        "outputId": "d0d6befc-8e38-415f-d050-e5a5fab92afa"
      },
      "execution_count": null,
      "outputs": [
        {
          "output_type": "stream",
          "name": "stdout",
          "text": [
            "Rows: 80\n",
            "Columns: 2\n",
            "$ Obs_SAs  <dbl> 11.30, 17.10, 11.70, 13.60, 19.80, 14.80, 15.10, 17.20, 10.00…\n",
            "$ Pred_SAs <dbl> 16.35673, 13.98615, 14.29528, 16.00968, 16.51516, 17.19274, 1…\n"
          ]
        }
      ]
    },
    {
      "cell_type": "code",
      "source": [
        "%%R\n",
        "# Model performance metrics\n",
        "calculate_metrics(ridge.pred$Obs_SAs, ridge.pred$Pred_SAs)"
      ],
      "metadata": {
        "colab": {
          "base_uri": "https://localhost:8080/"
        },
        "id": "iEaV0qDxEwWq",
        "outputId": "09c2c5be-d751-472f-f11e-afded7cc9efc"
      },
      "execution_count": null,
      "outputs": [
        {
          "output_type": "stream",
          "name": "stdout",
          "text": [
            "$RMSE\n",
            "[1] 5.953786\n",
            "\n",
            "$MAE\n",
            "[1] 4.018209\n",
            "\n",
            "$MSE\n",
            "[1] 35.44757\n",
            "\n",
            "$MedAE\n",
            "[1] 3.172252\n",
            "\n",
            "$R2\n",
            "[1] 0.3729436\n",
            "\n"
          ]
        }
      ]
    },
    {
      "cell_type": "markdown",
      "source": [
        "#### 1:1 Plot of Predicted vs Observed values\n",
        "\n",
        "We can plot observed and predicted values with fitted regression line with ggplot2"
      ],
      "metadata": {
        "id": "IHWk5ikUE0EX"
      }
    },
    {
      "cell_type": "code",
      "source": [
        "%%R -w 500 -h 450 -u px\n",
        "formula<-y~x\n",
        "# Lasso regression\n",
        "p1=ggplot(ridge.pred, aes(Obs_SAs,Pred_SAs)) +\n",
        "  geom_point() +\n",
        "  geom_smooth(method = \"lm\")+\n",
        "  stat_poly_eq(use_label(c(\"eq\", \"adj.R2\")), formula = formula) +\n",
        "  ggtitle(\"Ridge Regression \") +\n",
        "  xlab(\"Observed\") + ylab(\"Predicted\") +\n",
        "  scale_x_continuous(limits=c(0,60), breaks=seq(0, 60, 10))+\n",
        "  scale_y_continuous(limits=c(0,60), breaks=seq(0, 60, 10)) +\n",
        "  theme(\n",
        "    panel.background = element_rect(fill = \"grey95\",colour = \"gray75\",size = 0.5, linetype = \"solid\"),\n",
        "    axis.line = element_line(colour = \"grey\"),\n",
        "    plot.title = element_text(size = 14, hjust = 0.5),\n",
        "    axis.title.x = element_text(size = 14),\n",
        "    axis.title.y = element_text(size = 14),\n",
        "    axis.text.x=element_text(size=13, colour=\"black\"),\n",
        "    axis.text.y=element_text(size=13,angle = 90,vjust = 0.5, hjust=0.5, colour='black'))\n",
        "print(p1)"
      ],
      "metadata": {
        "colab": {
          "base_uri": "https://localhost:8080/",
          "height": 484
        },
        "id": "nCWmlhwyE0sS",
        "outputId": "8b6e68e2-8367-4080-9f9c-9e1bea53afb3"
      },
      "execution_count": null,
      "outputs": [
        {
          "output_type": "stream",
          "name": "stdout",
          "text": [
            "`geom_smooth()` using formula = 'y ~ x'\n"
          ]
        },
        {
          "output_type": "display_data",
          "data": {
            "image/png": "[encoded data removed]"
          },
          "metadata": {}
        }
      ]
    },
    {
      "cell_type": "markdown",
      "source": [
        "### LASSO regression"
      ],
      "metadata": {
        "id": "RAxSzmD4FCEp"
      }
    },
    {
      "cell_type": "markdown",
      "source": [
        "#### Cross Validation of the best Lasso regression\n",
        "\n",
        "We can set up our model very similarly to our ridge function. We simply need to change the `alpha` argument to 1 and do K-fold cross-validation:"
      ],
      "metadata": {
        "id": "1iSSym2rFF0b"
      }
    },
    {
      "cell_type": "code",
      "source": [
        "%%R\n",
        "# cross validation\n",
        "lasso.cv <- cv.glmnet(x= x.train,\n",
        "                       y= y.train,\n",
        "                       type.measure=\"mse\",\n",
        "                       nfold = 5,\n",
        "                       alpha=1,\n",
        "                       family=\"gaussian\",\n",
        "                       nlambda=200,\n",
        "                       standardize = TRUE)"
      ],
      "metadata": {
        "id": "rPRJlHwqFIVS"
      },
      "execution_count": null,
      "outputs": []
    },
    {
      "cell_type": "code",
      "source": [
        "%%R\n",
        "print(lasso.cv)"
      ],
      "metadata": {
        "colab": {
          "base_uri": "https://localhost:8080/"
        },
        "id": "Qp-u9n2PFOgA",
        "outputId": "8a9c49f0-03d7-40f1-961d-ec12054021f0"
      },
      "execution_count": null,
      "outputs": [
        {
          "output_type": "stream",
          "name": "stdout",
          "text": [
            "\n",
            "Call:  cv.glmnet(x = x.train, y = y.train, type.measure = \"mse\", nfolds = 5,      alpha = 1, family = \"gaussian\", nlambda = 200, standardize = TRUE) \n",
            "\n",
            "Measure: Mean-Squared Error \n",
            "\n",
            "    Lambda Index Measure    SE Nonzero\n",
            "min 0.2343    62   27.91 2.482      11\n",
            "1se 0.7452    37   30.25 2.741       9\n"
          ]
        }
      ]
    },
    {
      "cell_type": "code",
      "source": [
        "%%R -w 500 -h 450 -u px\n",
        "plot(lasso.cv)"
      ],
      "metadata": {
        "colab": {
          "base_uri": "https://localhost:8080/",
          "height": 467
        },
        "id": "0puKQpSmFU42",
        "outputId": "29290db7-f331-4cbc-d1fc-07624c6361e8"
      },
      "execution_count": null,
      "outputs": [
        {
          "output_type": "display_data",
          "data": {
            "image/png": "[encoded data removed]"
          },
          "metadata": {}
        }
      ]
    },
    {
      "cell_type": "code",
      "source": [
        "%%R\n",
        "# Choose lambda with standard error of the minimum\n",
        "lasso.cv$lambda.1se"
      ],
      "metadata": {
        "colab": {
          "base_uri": "https://localhost:8080/"
        },
        "id": "0Hn3j3WGFjZd",
        "outputId": "970aafbb-63c0-49c5-99de-6dc8f708c399"
      },
      "execution_count": null,
      "outputs": [
        {
          "output_type": "stream",
          "name": "stdout",
          "text": [
            "[1] 0.7451964\n"
          ]
        }
      ]
    },
    {
      "cell_type": "markdown",
      "source": [
        "#### Fit a lasso regression\n",
        "\n",
        "Now Fit the final model with the best \"lambda\":"
      ],
      "metadata": {
        "id": "b1uQ82jEFnq5"
      }
    },
    {
      "cell_type": "code",
      "source": [
        "%%R\n",
        "# fit lasso regression\n",
        "lasso.fit <-  glmnet(x= x.train,\n",
        "                       y= y.train,\n",
        "                       alpha=1,\n",
        "                       lambda = lasso.cv$lambda.1se,\n",
        "                       family=\"gaussian\",\n",
        "                       nlambda=200,\n",
        "                       standardize = TRUE)\n"
      ],
      "metadata": {
        "id": "Y-DmyLv8FoZn"
      },
      "execution_count": null,
      "outputs": []
    },
    {
      "cell_type": "code",
      "source": [
        "%%R\n",
        "print(lasso.fit)"
      ],
      "metadata": {
        "colab": {
          "base_uri": "https://localhost:8080/"
        },
        "id": "GwzxbBkpFuJj",
        "outputId": "7cd249cb-0ed9-42f9-c0d7-9885e7ab9502"
      },
      "execution_count": null,
      "outputs": [
        {
          "output_type": "stream",
          "name": "stdout",
          "text": [
            "\n",
            "Call:  glmnet(x = x.train, y = y.train, family = \"gaussian\", alpha = 1,      nlambda = 200, lambda = lasso.cv$lambda.1se, standardize = TRUE) \n",
            "\n",
            "  Df  %Dev Lambda\n",
            "1  9 49.65 0.7452\n"
          ]
        }
      ]
    },
    {
      "cell_type": "markdown",
      "source": [
        "Finally we will extract the coefficients for the selected $λ$ using `coef()` function:"
      ],
      "metadata": {
        "id": "cXa5-pkDFxs3"
      }
    },
    {
      "cell_type": "code",
      "source": [
        "%%R\n",
        "coef(lasso.fit)"
      ],
      "metadata": {
        "colab": {
          "base_uri": "https://localhost:8080/"
        },
        "id": "IeHu3xZMFyvL",
        "outputId": "13af013b-e2a5-4785-e43b-63172e5510d0"
      },
      "execution_count": null,
      "outputs": [
        {
          "output_type": "stream",
          "name": "stdout",
          "text": [
            "15 x 1 sparse Matrix of class \"dgCMatrix\"\n",
            "                         s0\n",
            "(Intercept)     13.13129121\n",
            "WAs              6.43205983\n",
            "WP               .         \n",
            "WFe              0.31947153\n",
            "WEc              .         \n",
            "WpH              .         \n",
            "SAoFe            .         \n",
            "SpH              .         \n",
            "SOC              0.48232833\n",
            "SP               0.01443477\n",
            "Elevation       -0.10987428\n",
            "Year_Irrigation  0.64081854\n",
            "Distance_STW    -0.02963625\n",
            "Silt_Sand       -0.07096227\n",
            "Land_typeMHL     3.24183879\n"
          ]
        }
      ]
    },
    {
      "cell_type": "markdown",
      "source": [
        "\n",
        "#### Prediction at Test Data\n",
        "\n",
        "Now, we will test this model on our test dataset by calculating the model-predicted values for the test dataset and then computing the RMSE and R-square:"
      ],
      "metadata": {
        "id": "L5XLYeTeF5Bm"
      }
    },
    {
      "cell_type": "code",
      "source": [
        "%%R\n",
        "# Make predictions on the test data\n",
        "x.test <- model.matrix(SAs ~., test)[,-1]\n",
        "y.test <-test$SAs\n",
        "\n",
        "lasso.SAs<-lasso.fit  |>\n",
        "  predict(x.test)  |>  as.vector()\n",
        "lasso.pred<-as.data.frame(cbind(\"Obs_SAs\" = y.test, \"Pred_SAs\"=lasso.SAs))\n",
        "glimpse(lasso.pred)"
      ],
      "metadata": {
        "colab": {
          "base_uri": "https://localhost:8080/"
        },
        "id": "hiogxi45F5zd",
        "outputId": "07b1a9f1-4d51-4e42-d57c-78f2942c7241"
      },
      "execution_count": null,
      "outputs": [
        {
          "output_type": "stream",
          "name": "stdout",
          "text": [
            "Rows: 80\n",
            "Columns: 2\n",
            "$ Obs_SAs  <dbl> 11.30, 17.10, 11.70, 13.60, 19.80, 14.80, 15.10, 17.20, 10.00…\n",
            "$ Pred_SAs <dbl> 14.81875, 12.92237, 13.27538, 14.81378, 16.53555, 13.81663, 1…\n"
          ]
        }
      ]
    },
    {
      "cell_type": "code",
      "source": [
        "%%R\n",
        "# Model performance metrics\n",
        "calculate_metrics(lasso.pred$Obs_SAs, lasso.pred$Pred_SAs)"
      ],
      "metadata": {
        "colab": {
          "base_uri": "https://localhost:8080/"
        },
        "id": "0vH8PhYJF-x6",
        "outputId": "443a3efe-cc5b-41ad-cd7f-00b77e368c1c"
      },
      "execution_count": null,
      "outputs": [
        {
          "output_type": "stream",
          "name": "stdout",
          "text": [
            "$RMSE\n",
            "[1] 5.774528\n",
            "\n",
            "$MAE\n",
            "[1] 3.989926\n",
            "\n",
            "$MSE\n",
            "[1] 33.34517\n",
            "\n",
            "$MedAE\n",
            "[1] 3.178921\n",
            "\n",
            "$R2\n",
            "[1] 0.4101343\n",
            "\n"
          ]
        }
      ]
    },
    {
      "cell_type": "markdown",
      "source": [
        "#### 1:1 Plot of Predicted vs Observed values\n",
        "\n",
        "We can plot observed and predicted values with fitted regression line with ggplot2"
      ],
      "metadata": {
        "id": "yBsED4vfGCiv"
      }
    },
    {
      "cell_type": "code",
      "source": [
        "%%R -w 500 -h 450 -u px\n",
        "formula<-y~x\n",
        "# Lasso regression\n",
        "p2=ggplot(lasso.pred, aes(Obs_SAs,Pred_SAs)) +\n",
        "  geom_point() +\n",
        "  geom_smooth(method = \"lm\")+\n",
        "  stat_poly_eq(use_label(c(\"eq\", \"adj.R2\")), formula = formula) +\n",
        "  ggtitle(\"Lasso Regression \") +\n",
        "  xlab(\"Observed\") + ylab(\"Predicted\") +\n",
        "  scale_x_continuous(limits=c(0,60), breaks=seq(0, 60, 10))+\n",
        "  scale_y_continuous(limits=c(0,60), breaks=seq(0, 60, 10)) +\n",
        "  theme(\n",
        "    panel.background = element_rect(fill = \"grey95\",colour = \"gray75\",size = 0.5, linetype = \"solid\"),\n",
        "    axis.line = element_line(colour = \"grey\"),\n",
        "    plot.title = element_text(size = 14, hjust = 0.5),\n",
        "    axis.title.x = element_text(size = 14),\n",
        "    axis.title.y = element_text(size = 14),\n",
        "    axis.text.x=element_text(size=13, colour=\"black\"),\n",
        "    axis.text.y=element_text(size=13,angle = 90,vjust = 0.5, hjust=0.5, colour='black'))\n",
        "print(p2)"
      ],
      "metadata": {
        "colab": {
          "base_uri": "https://localhost:8080/",
          "height": 484
        },
        "id": "h6k54lcyGFUi",
        "outputId": "30db554b-2efa-4e61-c69f-9b9bca0b760c"
      },
      "execution_count": null,
      "outputs": [
        {
          "output_type": "stream",
          "name": "stdout",
          "text": [
            "`geom_smooth()` using formula = 'y ~ x'\n"
          ]
        },
        {
          "output_type": "display_data",
          "data": {
            "image/png": "[encoded data removed]"
          },
          "metadata": {}
        }
      ]
    },
    {
      "cell_type": "markdown",
      "source": [
        "### Elastic Net Regression\n",
        "\n",
        "Elastic Net regression is a combination of L1 (LASSO) and L2 (Ridge) regularization. It provides a balance between feature selection and coefficient shrinkage. The `glmnet` package in R provides efficient functions for fitting Elastic Net regression models.\n"
      ],
      "metadata": {
        "id": "deFmXgMaGOhj"
      }
    },
    {
      "cell_type": "markdown",
      "source": [
        "#### Cross Validation of the best Elastic Net regression\n",
        "\n",
        "We can set up our model very similarly to our ridge function. We simply need to change the `alpha`argument to a value between 0 and 1 and do K-fold cross-validation:"
      ],
      "metadata": {
        "id": "_kx7csLXGPRV"
      }
    },
    {
      "cell_type": "code",
      "source": [
        "%%R\n",
        "# Define alpha values for Lasso, Ridge, and Elastic Net\n",
        "alpha_values <- seq(0, 1, by = 0.1)\n",
        "\n",
        "# Lambda will be generated automatically, but you can also define it manually:\n",
        "lambda_values <- 10^seq(-4, 1, length.out = 100) # Logarithmic scale\n",
        "\n",
        "# Cross-validation\n",
        "results <- list()\n",
        "for (alpha in alpha_values) {\n",
        "  cv_model <- cv.glmnet(\n",
        "    x = x.train,\n",
        "    y = y.train,\n",
        "    alpha = alpha,\n",
        "    lambda = lambda_values,\n",
        "    nfolds = 5, # 5-fold cross-validation\n",
        "    standardize = TRUE # Standardizes the predictors by default\n",
        "  )\n",
        "\n",
        "  # Store results\n",
        "  results[[paste(\"alpha=\", alpha)]] <- list(\n",
        "    alpha = alpha,\n",
        "    best_lambda = cv_model$lambda.min,\n",
        "    cv_model = cv_model\n",
        "  )\n",
        "}\n",
        "\n",
        "best_result <- NULL\n",
        "min_mse <- Inf\n",
        "\n",
        "for (res in results) {\n",
        "  mse <- min(res$cv_model$cvm) # Mean squared error\n",
        "  if (mse < min_mse) {\n",
        "    min_mse <- mse\n",
        "    best_result <- res\n",
        "  }\n",
        "}\n",
        "\n",
        "# Best model\n",
        "cat(\"Best alpha:\", best_result$alpha, \"\\n\")\n",
        "cat(\"Best lambda:\", best_result$best_lambda, \"\\n\")"
      ],
      "metadata": {
        "colab": {
          "base_uri": "https://localhost:8080/"
        },
        "id": "MIK3L5DyGRsU",
        "outputId": "a63dac97-9df4-4553-d548-b62c55a82f30"
      },
      "execution_count": null,
      "outputs": [
        {
          "output_type": "stream",
          "name": "stdout",
          "text": [
            "Best alpha: 0.4 \n",
            "Best lambda: 0.4862602 \n"
          ]
        }
      ]
    },
    {
      "cell_type": "markdown",
      "source": [
        "#### Fit Elastic Net regression"
      ],
      "metadata": {
        "id": "RO-5egWxGYhs"
      }
    },
    {
      "cell_type": "code",
      "source": [
        "%%R\n",
        "enet.fit  <- glmnet(\n",
        "  x = x.train,\n",
        "  y = y.train,\n",
        "  alpha = best_result$alpha,\n",
        "  lambda = best_result$best_lambda,\n",
        "  standardize = TRUE\n",
        ")"
      ],
      "metadata": {
        "id": "Huz2gNb5GYqu"
      },
      "execution_count": null,
      "outputs": []
    },
    {
      "cell_type": "markdown",
      "source": [
        "#### Prediction at Test Data\n",
        "\n",
        "Now, we will test this model on our test dataset by calculating the model-predicted values for the test dataset"
      ],
      "metadata": {
        "id": "zVlslpMTGiHj"
      }
    },
    {
      "cell_type": "code",
      "source": [
        "%%R\n",
        "# Make predictions on the test data\n",
        "x.test <- model.matrix(SAs ~., test)[,-1]\n",
        "y.test <-test$SAs\n",
        "\n",
        "enet.SAs<-enet.fit  |>\n",
        "  predict(x.test)  |>  as.vector()\n",
        "enet.pred<-as.data.frame(cbind(\"Obs_SAs\" = y.test, \"Pred_SAs\"=ridge.SAs))\n",
        "glimpse(enet.pred)"
      ],
      "metadata": {
        "colab": {
          "base_uri": "https://localhost:8080/"
        },
        "id": "h9cDUFemGi11",
        "outputId": "9a72cfc4-983a-47aa-f9e2-cd8153f28ca7"
      },
      "execution_count": null,
      "outputs": [
        {
          "output_type": "stream",
          "name": "stdout",
          "text": [
            "Rows: 80\n",
            "Columns: 2\n",
            "$ Obs_SAs  <dbl> 11.30, 17.10, 11.70, 13.60, 19.80, 14.80, 15.10, 17.20, 10.00…\n",
            "$ Pred_SAs <dbl> 16.35673, 13.98615, 14.29528, 16.00968, 16.51516, 17.19274, 1…\n"
          ]
        }
      ]
    },
    {
      "cell_type": "code",
      "source": [
        "%%R\n",
        "# Model performance metrics\n",
        "calculate_metrics(enet.pred$Obs_SAs, enet.pred$Pred_SAs)"
      ],
      "metadata": {
        "colab": {
          "base_uri": "https://localhost:8080/"
        },
        "id": "CkiBUIdVGnla",
        "outputId": "ef94e558-d6fd-4cea-b77e-a4f7c3325d2a"
      },
      "execution_count": null,
      "outputs": [
        {
          "output_type": "stream",
          "name": "stdout",
          "text": [
            "$RMSE\n",
            "[1] 5.953786\n",
            "\n",
            "$MAE\n",
            "[1] 4.018209\n",
            "\n",
            "$MSE\n",
            "[1] 35.44757\n",
            "\n",
            "$MedAE\n",
            "[1] 3.172252\n",
            "\n",
            "$R2\n",
            "[1] 0.3729436\n",
            "\n"
          ]
        }
      ]
    },
    {
      "cell_type": "markdown",
      "source": [
        "#### 1:1 Plot of Predicted vs Observed values\n",
        "\n",
        "We can plot observed and predicted values with fitted regression line with ggplot2"
      ],
      "metadata": {
        "id": "WdQ3Oc1SGrNp"
      }
    },
    {
      "cell_type": "code",
      "source": [
        "%%R -w 500 -h 450 -u px\n",
        "formula<-y~x\n",
        "# Lasso regression\n",
        "p3=ggplot(enet.pred, aes(Obs_SAs,Pred_SAs)) +\n",
        "  geom_point() +\n",
        "  geom_smooth(method = \"lm\")+\n",
        "  stat_poly_eq(use_label(c(\"eq\", \"adj.R2\")), formula = formula) +\n",
        "  ggtitle(\"Elastic Net Regression \") +\n",
        "  xlab(\"Observed\") + ylab(\"Predicted\") +\n",
        "  scale_x_continuous(limits=c(0,60), breaks=seq(0, 60, 10))+\n",
        "  scale_y_continuous(limits=c(0,60), breaks=seq(0, 60, 10)) +\n",
        "  theme(\n",
        "    panel.background = element_rect(fill = \"grey95\",colour = \"gray75\",size = 0.5, linetype = \"solid\"),\n",
        "    axis.line = element_line(colour = \"grey\"),\n",
        "    plot.title = element_text(size = 14, hjust = 0.5),\n",
        "    axis.title.x = element_text(size = 14),\n",
        "    axis.title.y = element_text(size = 14),\n",
        "    axis.text.x=element_text(size=13, colour=\"black\"),\n",
        "    axis.text.y=element_text(size=13,angle = 90,vjust = 0.5, hjust=0.5, colour='black'))\n",
        "print(p3)"
      ],
      "metadata": {
        "colab": {
          "base_uri": "https://localhost:8080/",
          "height": 484
        },
        "id": "BX6DZ4DCGr4Z",
        "outputId": "8d2c9d42-5439-4809-dfa5-94c1eb383ae3"
      },
      "execution_count": null,
      "outputs": [
        {
          "output_type": "stream",
          "name": "stdout",
          "text": [
            "`geom_smooth()` using formula = 'y ~ x'\n"
          ]
        },
        {
          "output_type": "display_data",
          "data": {
            "image/png": "[encoded data removed]"
          },
          "metadata": {}
        }
      ]
    },
    {
      "cell_type": "markdown",
      "source": [
        "## Summary and Conclusions\n",
        "\n",
        "Regularized linear regression (GLM with a Gaussian distribution) helps prevent overfitting by shrinking the coefficient estimates, which can lead to simpler, more interpretable models. The choice of regularization method (L1, L2, or Elastic Net) depends on whether you need feature selection (L1), smoothness (L2), or a balance of both (Elastic Net). Although these methods may seem similar, they have significant differences. Ridge regression uses the square of the coefficients as a penalty, while Lasso regression uses the absolute value of the coefficients. Elastic Net regression combines the penalties of both Ridge and Lasso regression.\n",
        "\n",
        "This tutorial explored how to implement Regularized Linear Models (GLMs) in R using {glmnet}. Regularized GLMs, such as LASSO, Ridge, and Elastic Net, are essential techniques in predictive modeling, especially when dealing with high-dimensional data or collinear predictors.\n",
        "\n",
        "To summarize, each package has advantages and capabilities for implementing regularized GLMs in R. factors such as the dataset size, desired modeling workflow, and personal preference should be considered when choosing a package. By mastering these packages, researchers and data scientists can effectively use regularized GLMs for predictive modeling tasks, extracting valuable insights from complex datasets while mitigating overfitting and improving generalization performance.\n"
      ],
      "metadata": {
        "id": "nBHEkDLaG47z"
      }
    },
    {
      "cell_type": "markdown",
      "source": [
        "## References\n",
        "\n",
        "1.  [Lasso and Elastic-Net Regularized Generalized Linear Models](https://glmnet.stanford.edu/index.html)\n",
        "\n",
        "2.  [Ridge, Lasso, and Elastic Net Regression using glmnet](https://rpubs.com/jmkelly91/881590)\n",
        "\n",
        "3.  [Linear Model Selection and Regularization](https://emilhvitfeldt.github.io/ISLR-tidymodels-labs/06-regularization.html)\n"
      ],
      "metadata": {
        "id": "bLeAMiRQG59v"
      }
    }
  ]
}