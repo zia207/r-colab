{
  "nbformat": 4,
  "nbformat_minor": 0,
  "metadata": {
    "colab": {
      "provenance": [],
      "toc_visible": true,
      "authorship_tag": "ABX9TyOcOX1WoJ/+w2HQAdPV/LX/",
      "include_colab_link": true
    },
    "kernelspec": {
      "name": "python3",
      "display_name": "Python 3"
    },
    "language_info": {
      "name": "python"
    }
  },
  "cells": [
    {
      "cell_type": "markdown",
      "metadata": {
        "id": "view-in-github",
        "colab_type": "text"
      },
      "source": [
        "<a href=\"https://colab.research.google.com/github/zia207/r-colab/blob/main/NoteBook/Advance_Regression/02-02-05-regularized-gam-r.ipynb\" target=\"_parent\"><img src=\"https://colab.research.google.com/assets/colab-badge.svg\" alt=\"Open In Colab\"/></a>"
      ]
    },
    {
      "cell_type": "markdown",
      "source": [
        "![alt text](http://drive.google.com/uc?export=view&id=1bLQ3nhDbZrCCqy_WCxxckOne2lgVvn3l)"
      ],
      "metadata": {
        "id": "4qrItz_mJNWw"
      }
    },
    {
      "cell_type": "markdown",
      "source": [
        "# 5. Generalized Additive Model with Lasso (GAMLASSO)\n",
        "\n",
        "GAMLASSO stands for Generalized Additive Model with the Least Absolute Shrinkage and Selection Operator. It is a statistical technique that combines the flexibility of Generalized Additive Models (GAM) with the variable selection and regularization properties of LASSO (Least Absolute Shrinkage and Selection Operator). This approach is particularly useful for modeling complex, non-linear relationships while performing variable selection and regularization in high-dimensional settings.\n"
      ],
      "metadata": {
        "id": "Dzp9ZseROTcY"
      }
    },
    {
      "cell_type": "markdown",
      "source": [
        "## Overview\n",
        "\n",
        "Generalized Additive Model with Lasso (GAMLASSO) is a statistical approach that combines the flexibility of Generalized Additive Models (GAMs) with the variable selection and regularization properties of LASSO (Least Absolute Shrinkage and Selection Operator).\n",
        "\n",
        "### Generalized Additive Model (GAM)\n",
        "\n",
        "A Generalized Additive Model (GAM) is a type of regression model where the relationship between the response variable $Y$ and the predictor variables $X_i$ is modeled as the sum of smooth functions of the predictor variables:\n",
        "\n",
        "$$ g(\\mathbb{E}[Y]) = \\beta_0 + \\sum_{j=1}^p f_j(X_j) $$\n",
        "\n",
        "Here:\n",
        "- $g(\\cdot)$ is the link function.\n",
        "- $\\mathbb{E}[Y]$ is the expected value of the response variable $Y$.\n",
        "- $\\beta_0$ is the intercept.\n",
        "- $f_j(X_j)$ are smooth functions (e.g., splines) of the predictor variables $X_j$.\n",
        "\n",
        "\n",
        "### LASSO (Least Absolute Shrinkage and Selection Operator)\n",
        "\n",
        "LASSO is a regression technique that adds a penalty to the absolute size of the regression coefficients. The LASSO objective function is:\n",
        "\n",
        "$$ \\min_{\\beta} \\left( \\frac{1}{2n} \\sum_{i=1}^n (y_i - \\mathbf{x}_i^T \\beta)^2 + \\lambda \\sum_{j=1}^p |\\beta_j| \\right) $$\n",
        "\n",
        "Here:\n",
        "- $y_i$ is the response variable.\n",
        "- $\\mathbf{x}_i$ is the vector of predictor variables.\n",
        "- $\\beta_j$ are the regression coefficients.\n",
        "- $\\lambda$ is the regularization parameter.\n",
        "\n",
        "### Combining GAM and LASSO (GAMLASSO)\n",
        "\n",
        "GAMLASSO integrates the smooth functions of GAM with the LASSO penalty to perform variable selection and regularization within the GAM framework. The objective function for GAMLASSO can be written as:\n",
        "\n",
        "$$ \\min_{f_j} \\left( \\frac{1}{2n} \\sum_{i=1}^n \\left( y_i - \\beta_0 - \\sum_{j=1}^p f_j(x_{ij}) \\right)^2 + \\lambda \\sum_{j=1}^p \\| f_j \\|_1 \\right) $$\n",
        "\n",
        "Here:\n",
        "- $x_{ij}$ are the predictor variables.\n",
        "- $f_j(x_{ij})$ are the smooth functions of the predictor variables.\n",
        "- $\\lambda$ is the regularization parameter.\n",
        "- $\\| f_j \\|_1$ is the LASSO penalty applied to the smooth functions, which can be expressed as the norm of the coefficients of the basis functions (e.g., splines) used to represent $f_j$.\n",
        "\n",
        "\n",
        "### Interpretation\n",
        "\n",
        "- **Smooth Functions**: The smooth functions $f_j(X_j)$ capture the non-linear relationships between the predictors and the response variable.\n",
        "- **LASSO Penalty**: The LASSO penalty $\\sum_{j=1}^p \\| f_j \\|_1$ encourages sparsity in the model by shrinking some of the smooth function coefficients to zero, effectively selecting a subset of important predictors.\n",
        "- **Regularization Parameter**: The regularization parameter $\\lambda$ controls the trade-off between the goodness of fit and the complexity of the model. A larger $\\lambda$ leads to more regularization (i.e., more coefficients being shrunk to zero).\n",
        "\n",
        "\n",
        "GAMLASSO is a powerful technique that leverages the strengths of both GAM and LASSO, making it suitable for modeling complex, non-linear relationships while performing variable selection and regularization. This approach is particularly useful in high-dimensional settings where interpretability and model sparsity are important."
      ],
      "metadata": {
        "id": "TpcIOkTs30qp"
      }
    },
    {
      "cell_type": "markdown",
      "source": [
        "### Install rpy2"
      ],
      "metadata": {
        "id": "SDp3ULld8Gb9"
      }
    },
    {
      "cell_type": "code",
      "source": [
        "!pip uninstall rpy2 -y\n",
        "!pip install rpy2==3.5.1\n",
        "%load_ext rpy2.ipython"
      ],
      "metadata": {
        "id": "CiM6y-Mw8AJp",
        "colab": {
          "base_uri": "https://localhost:8080/"
        },
        "outputId": "4f5bee93-8c15-4c2e-b750-c55ca7186e0b"
      },
      "execution_count": 1,
      "outputs": [
        {
          "output_type": "stream",
          "name": "stdout",
          "text": [
            "Found existing installation: rpy2 3.4.2\n",
            "Uninstalling rpy2-3.4.2:\n",
            "  Successfully uninstalled rpy2-3.4.2\n",
            "Collecting rpy2==3.5.1\n",
            "  Downloading rpy2-3.5.1.tar.gz (201 kB)\n",
            "\u001b[2K     \u001b[90m━━━━━━━━━━━━━━━━━━━━━━━━━━━━━━━━━━━━━━━━\u001b[0m \u001b[32m201.7/201.7 kB\u001b[0m \u001b[31m5.3 MB/s\u001b[0m eta \u001b[36m0:00:00\u001b[0m\n",
            "\u001b[?25h  Preparing metadata (setup.py) ... \u001b[?25l\u001b[?25hdone\n",
            "Requirement already satisfied: cffi>=1.10.0 in /usr/local/lib/python3.11/dist-packages (from rpy2==3.5.1) (1.17.1)\n",
            "Requirement already satisfied: jinja2 in /usr/local/lib/python3.11/dist-packages (from rpy2==3.5.1) (3.1.5)\n",
            "Requirement already satisfied: pytz in /usr/local/lib/python3.11/dist-packages (from rpy2==3.5.1) (2025.1)\n",
            "Requirement already satisfied: tzlocal in /usr/local/lib/python3.11/dist-packages (from rpy2==3.5.1) (5.2)\n",
            "Requirement already satisfied: pycparser in /usr/local/lib/python3.11/dist-packages (from cffi>=1.10.0->rpy2==3.5.1) (2.22)\n",
            "Requirement already satisfied: MarkupSafe>=2.0 in /usr/local/lib/python3.11/dist-packages (from jinja2->rpy2==3.5.1) (3.0.2)\n",
            "Building wheels for collected packages: rpy2\n",
            "  Building wheel for rpy2 (setup.py) ... \u001b[?25l\u001b[?25hdone\n",
            "  Created wheel for rpy2: filename=rpy2-3.5.1-cp311-cp311-linux_x86_64.whl size=314968 sha256=f2a92257d38485167495ba549d81c156762a0c16788dc38eba45865d32ef89f5\n",
            "  Stored in directory: /root/.cache/pip/wheels/e9/55/d1/47be85a5f3f1e1f4d1e91cb5e3a4dcb40dd72147f184c5a5ef\n",
            "Successfully built rpy2\n",
            "Installing collected packages: rpy2\n",
            "Successfully installed rpy2-3.5.1\n"
          ]
        }
      ]
    },
    {
      "cell_type": "markdown",
      "source": [
        "### Mount Google Drive"
      ],
      "metadata": {
        "id": "O1zeuaCowiBt"
      }
    },
    {
      "cell_type": "code",
      "source": [
        "from google.colab import drive\n",
        "drive.mount('/content/drive')"
      ],
      "metadata": {
        "colab": {
          "base_uri": "https://localhost:8080/"
        },
        "id": "9J-4ie4bwiJ1",
        "outputId": "5ea17c73-709f-4c59-f3e7-689aee58ebe0"
      },
      "execution_count": 2,
      "outputs": [
        {
          "output_type": "stream",
          "name": "stdout",
          "text": [
            "Mounted at /content/drive\n"
          ]
        }
      ]
    },
    {
      "cell_type": "markdown",
      "source": [
        "## Regularized GLM Regression Model from Scratch\n",
        "\n",
        "To perform regularized regression (Ridge, Lasso, and Elastic Net) on synthetic data in R without using any libraries, we need to manually implement each regularization method in the GLM framework. Here’s how to proceed:"
      ],
      "metadata": {
        "id": "UdMcXPIF4Bly"
      }
    },
    {
      "cell_type": "markdown",
      "source": [
        "### Generate Synthetic Data\n",
        "\n",
        "Let's create synthetic data with one continuous response variable $y$ and four predictors $x1, x2, x3, x4$."
      ],
      "metadata": {
        "id": "ztl1QBDb4MYe"
      }
    },
    {
      "cell_type": "code",
      "source": [
        "%%R\n",
        "# Generate data\n",
        "set.seed(123)\n",
        "n <- 100\n",
        "x1 <- runif(n)\n",
        "x2 <- runif(n)\n",
        "x3 <- runif(n)\n",
        "y <- 3 + 2 * sin(2 * pi * x1) + 1.5 * x2 + rnorm(n)\n",
        "data <- data.frame(y, x1, x2, x3)\n",
        "head(data)"
      ],
      "metadata": {
        "id": "q82MNCn64Q0w",
        "colab": {
          "base_uri": "https://localhost:8080/"
        },
        "outputId": "df28143c-575e-48dd-f4b2-84d99e5c5020"
      },
      "execution_count": 3,
      "outputs": [
        {
          "output_type": "stream",
          "name": "stdout",
          "text": [
            "         y        x1        x2        x3\n",
            "1 6.632234 0.2875775 0.5999890 0.2387260\n",
            "2 2.325924 0.7883051 0.3328235 0.9623589\n",
            "3 5.147609 0.4089769 0.4886130 0.6013657\n",
            "4 2.082125 0.8830174 0.9544738 0.5150297\n",
            "5 2.874115 0.9404673 0.4829024 0.4025733\n",
            "6 4.619824 0.0455565 0.8903502 0.8802465\n"
          ]
        }
      ]
    },
    {
      "cell_type": "markdown",
      "source": [
        "### Spline basis function generator\n",
        "\n",
        "Start by defining a function to generate spline basis functions for a given predictor variable `x` with a specified number of degrees of freedom `df`. The function will return a matrix of spline basis functions that can be used in the model. The basis functions include an intercept term, the original predictor, and the spline basis functions.\n"
      ],
      "metadata": {
        "id": "4BpOoaj34eBU"
      }
    },
    {
      "cell_type": "code",
      "source": [
        "%%R\n",
        "# Spline basis function generator\n",
        "generate_spline_basis <- function(x, df = 10) {\n",
        "  knots <- quantile(x, probs = seq(0, 1, length.out = df + 2))[-c(1, df + 2)]\n",
        "  X <- outer(x, knots, '-')\n",
        "  X <- X * (X > 0)\n",
        "  return(cbind(1, x, X))\n",
        "}\n",
        "\n"
      ],
      "metadata": {
        "id": "soSBO_2B4qVv"
      },
      "execution_count": 4,
      "outputs": []
    },
    {
      "cell_type": "markdown",
      "source": [
        "### Ridge penalty function\n",
        "\n",
        "Ridge penalty function calculates the LASSO penalty for the regression coefficients. The intercept term is excluded from the penalty.    \n",
        "\n"
      ],
      "metadata": {
        "id": "OVC5oBZg63NU"
      }
    },
    {
      "cell_type": "code",
      "source": [
        "%%R\n",
        "# Ridge penalty function\n",
        "penalty <- function(beta, lambda) {\n",
        "  return(lambda * sum(abs(beta[-1]))) # Exclude intercept from penalty\n",
        "}\n"
      ],
      "metadata": {
        "id": "KXkM1n8lBMhO"
      },
      "execution_count": 5,
      "outputs": []
    },
    {
      "cell_type": "markdown",
      "source": [
        "### Generate spline basis matrices\n",
        "\n",
        "Generate spline basis matrices for each predictor variable (`x1`, `x2`, `x3`) using the `generate_spline_basis` function. Combine all spline basis matrices into a single design matrix `X`."
      ],
      "metadata": {
        "id": "-JuTDU0fBTIX"
      }
    },
    {
      "cell_type": "code",
      "source": [
        "%%R\n",
        "# Coordinate descent algorithm\n",
        "coordinate_descent <- function(X, y, lambda, tol = 1e-6, max_iter = 1000) {\n",
        "  n <- nrow(X)\n",
        "  p <- ncol(X)\n",
        "  beta <- rep(0, p)\n",
        "  for (iter in 1:max_iter) {\n",
        "    beta_old <- beta\n",
        "    for (j in 1:p) {\n",
        "      r <- y - X %*% beta + X[, j] * beta[j]\n",
        "      z <- sum(X[, j] * r) / n\n",
        "      if (j == 1) {\n",
        "        beta[j] <- z\n",
        "      } else {\n",
        "        beta[j] <- sign(z) * max(0, abs(z) - lambda)\n",
        "      }\n",
        "    }\n",
        "    if (sum(abs(beta - beta_old)) < tol) break\n",
        "  }\n",
        "  return(beta)\n",
        "}"
      ],
      "metadata": {
        "id": "8mioZdwbBT_S"
      },
      "execution_count": 6,
      "outputs": []
    },
    {
      "cell_type": "markdown",
      "source": [
        "### Generate spline basis matrices\n",
        "\n",
        "Generate spline basis matrices for each predictor variable (`x1`, `x2`, `x3`) using the `generate_spline_basis` function. Combine all spline basis matrices into a single design matrix `X`."
      ],
      "metadata": {
        "id": "90C3xCiGBa3q"
      }
    },
    {
      "cell_type": "code",
      "source": [
        "%%R -w 600 -h 400\n",
        "\n",
        "# Generate spline basis matrices\n",
        "X1 <- generate_spline_basis(data$x1, df = 10)\n",
        "X2 <- generate_spline_basis(data$x2, df = 10)\n",
        "X3 <- generate_spline_basis(data$x3, df = 10)\n",
        "\n",
        "# Combine all spline basis matrices\n",
        "X <- cbind(X1, X2, X3)"
      ],
      "metadata": {
        "id": "IC-O5IlbBbtA"
      },
      "execution_count": 7,
      "outputs": []
    },
    {
      "cell_type": "markdown",
      "source": [
        "### Fit the GAMLASSO model\n",
        "\n"
      ],
      "metadata": {
        "id": "9T5ojBgKBv5p"
      }
    },
    {
      "cell_type": "code",
      "source": [
        "%%R\n",
        "# Fit the GAMLASSO model\n",
        "lambda <- 0.1 # Regularization parameter\n",
        "beta <- coordinate_descent(X, data$y, lambda)\n",
        "beta"
      ],
      "metadata": {
        "colab": {
          "base_uri": "https://localhost:8080/"
        },
        "id": "4ERkgB8gByVX",
        "outputId": "0e7bfd28-768d-45e1-e297-78fe8b09b000"
      },
      "execution_count": 9,
      "outputs": [
        {
          "output_type": "stream",
          "name": "stdout",
          "text": [
            " [1]  4.09697011 -0.25699452 -0.22044171 -0.19675846 -0.16212538 -0.10906819\n",
            " [7] -0.06735472 -0.01571663  0.00000000  0.00000000  0.00000000  0.00000000\n",
            "[13]  0.00000000  0.07618429  0.05630040  0.04117221  0.03221870  0.01473579\n",
            "[19]  0.00000000  0.00000000  0.00000000  0.00000000  0.00000000  0.00000000\n",
            "[25]  0.00000000  0.00000000  0.00000000  0.00000000  0.00000000  0.00000000\n",
            "[31]  0.00000000  0.00000000  0.00000000  0.00000000  0.00000000  0.00000000\n"
          ]
        }
      ]
    },
    {
      "cell_type": "markdown",
      "source": [
        "### Make predictions"
      ],
      "metadata": {
        "id": "ytt7tkd1B2l0"
      }
    },
    {
      "cell_type": "code",
      "source": [
        "%%R\n",
        "# Predict function\n",
        "predict_gamlasso <- function(newdata, beta, df = 10) {\n",
        "  X1_new <- generate_spline_basis(newdata$x1, df = df)\n",
        "  X2_new <- generate_spline_basis(newdata$x2, df = df)\n",
        "  X3_new <- generate_spline_basis(newdata$x3, df = df)\n",
        "  X_new <- cbind(X1_new, X2_new, X3_new)\n",
        "  return(X_new %*% beta)\n",
        "}\n",
        "\n",
        "# Make predictions\n",
        "preds <- predict_gamlasso(data, beta)"
      ],
      "metadata": {
        "id": "BQtm7j1SB3UI"
      },
      "execution_count": 10,
      "outputs": []
    },
    {
      "cell_type": "markdown",
      "source": [
        "### Evaluate Model Performance\n",
        "\n",
        "To evaluate the models, calculate the Mean Squared Error (MSE) between the true response and predicted values."
      ],
      "metadata": {
        "id": "oGXqo7Nc5H1b"
      }
    },
    {
      "cell_type": "code",
      "source": [
        "%%R\n",
        "calculate_metrics <- function(observed, predicted) {\n",
        "  # Ensure inputs are numeric vectors\n",
        "  observed <- as.numeric(observed)\n",
        "  predicted <- as.numeric(predicted)\n",
        "\n",
        "  # Compute metrics\n",
        "  mse <- mean((observed - predicted)^2)\n",
        "  rmse <- sqrt(mse)\n",
        "  mae <- mean(abs(observed - predicted))\n",
        "  medae <- median(abs(observed - predicted))\n",
        "  r2 <- 1 - sum((observed - predicted)^2) / sum((observed - mean(observed))^2)\n",
        "\n",
        "  # Return results as a named list\n",
        "  metrics <- list(\n",
        "    RMSE = rmse,\n",
        "    MAE = mae,\n",
        "    MSE = mse,\n",
        "    MedAE = medae,\n",
        "    R2 = r2\n",
        "  )\n",
        "  return(metrics)\n",
        "}"
      ],
      "metadata": {
        "id": "O3zQorj65WKW"
      },
      "execution_count": 11,
      "outputs": []
    },
    {
      "cell_type": "code",
      "source": [
        "%%R\n",
        "calculate_metrics(preds, data$y)"
      ],
      "metadata": {
        "colab": {
          "base_uri": "https://localhost:8080/"
        },
        "id": "SNQfr7GH_vQS",
        "outputId": "db6803df-10db-463e-8fda-2b1eb60fde2c"
      },
      "execution_count": 12,
      "outputs": [
        {
          "output_type": "stream",
          "name": "stdout",
          "text": [
            "$RMSE\n",
            "[1] 1.726434\n",
            "\n",
            "$MAE\n",
            "[1] 1.424146\n",
            "\n",
            "$MSE\n",
            "[1] 2.980574\n",
            "\n",
            "$MedAE\n",
            "[1] 1.209919\n",
            "\n",
            "$R2\n",
            "[1] -40.43551\n",
            "\n"
          ]
        }
      ]
    },
    {
      "cell_type": "markdown",
      "source": [
        "## GAMLASSO  Model in R\n",
        "\n",
        "There are several R packages that can be used to fit Generalized Additive Models with Lasso (GAMLASSO) or similar models. Here are some of the most commonly used packages:\n",
        "\n",
        "1. **`gamlss`**: This package is designed for fitting generalized additive models for location, scale, and shape. It supports various types of distributions and allows for penalized regression models.\n",
        "\n",
        "2. **`plsmselect`**: This package is specifically designed for penalized variable selection in generalized additive models and supports various penalties, including LASSO.\n",
        "\n",
        "3. **`grpreg`**: This package focuses on regression models with grouped covariates and supports group LASSO, which can be useful for GAMLASSO models."
      ],
      "metadata": {
        "id": "sZM4h2ad5q78"
      }
    },
    {
      "cell_type": "markdown",
      "source": [
        "Here is how you can install these packages:\n",
        "\n",
        "```r\n",
        "install.packages(\"gamlss\")\n",
        "install.packages(\"plsmselect\")\n",
        "install.packages(\"grpreg\")\n",
        "```\n",
        "\n",
        "### Example Usage:\n",
        "\n",
        "#### Using `gamlss`\n",
        "\n",
        "```r\n",
        "library(gamlss)\n",
        "data <- data.frame(y = rnorm(100), x1 = runif(100), x2 = runif(100))\n",
        "fit <- gamlss(y ~ pb(x1) + pb(x2), data = data, family = NO)\n",
        "summary(fit)\n",
        "```\n",
        "\n",
        "\n",
        "#### Using `plsmselect`\n",
        "\n",
        "```r\n",
        "library(plsmselect)\n",
        "data <- data.frame(y = rnorm(100), x1 = runif(100), x2 = runif(100))\n",
        "fit <- gamlasso(y ~ s(x1) + s(x2), data = data, family = gaussian())\n",
        "summary(fit)\n",
        "```\n",
        "\n",
        "#### Using `grpreg`\n",
        "\n",
        "```r\n",
        "library(grpreg)\n",
        "data <- data.frame(y = rnorm(100), x1 = runif(100), x2 = runif(100))\n",
        "X <- model.matrix(y ~ x1 + x2, data)[, -1]\n",
        "group <- rep(1:2, each = 1)\n",
        "fit <- grpreg(X, data$y, group = group, penalty = \"grLasso\")\n",
        "summary(fit)\n",
        "```\n",
        "\n",
        "\n",
        "These are some of the packages and their basic usage for fitting GAMLASSO or similar models in R. Each package has its own strengths and can be chosen based on specific requirements and preferences."
      ],
      "metadata": {
        "id": "QHnIBVsQVxJK"
      }
    },
    {
      "cell_type": "markdown",
      "source": [
        "### Install Rrequired R Packages"
      ],
      "metadata": {
        "id": "yXu-XY0mw1A8"
      }
    },
    {
      "cell_type": "code",
      "source": [
        "%%R\n",
        "packages <- c('tidyverse',\n",
        "     'plyr',\n",
        "\t\t 'ggpmisc',\n",
        "\t\t 'rstatix',\n",
        "\t\t 'ggeffects',\n",
        "\t\t 'patchwork',\n",
        "\t\t 'Metrics',\n",
        "\t\t 'ggpmisc',\n",
        "\t\t 'plsmselect',\n",
        "\t\t 'gamlss',\n",
        "\t\t 'grpreg',\n",
        "\t\t 'glmnet',\n",
        "\t\t 'MASS',\n",
        "\t\t 'mlbench',\n",
        "\t\t 'AER'\n",
        "\t\t )\n"
      ],
      "metadata": {
        "id": "TeYB57l0wz5N"
      },
      "execution_count": 19,
      "outputs": []
    },
    {
      "cell_type": "code",
      "source": [
        "%%R\n",
        "# Install missing packages\n",
        "new.packages <- packages[!(packages %in% installed.packages(lib='drive/My Drive/R/')[,\"Package\"])]\n",
        "if(length(new.packages)) install.packages(new.packages, lib='drive/My Drive/R/')"
      ],
      "metadata": {
        "id": "J3nWFZpl-sr-"
      },
      "execution_count": null,
      "outputs": []
    },
    {
      "cell_type": "code",
      "source": [
        "%%R\n",
        "# set library path\n",
        ".libPaths('drive/My Drive/R')\n",
        "# Verify installation\n",
        "cat(\"Installed packages:\\n\")\n",
        "print(sapply(packages, requireNamespace, quietly = TRUE))"
      ],
      "metadata": {
        "colab": {
          "base_uri": "https://localhost:8080/"
        },
        "id": "-jv6EE7Z-sx-",
        "outputId": "591331e8-648f-46a9-cc4f-eff147ba0f7f"
      },
      "execution_count": 20,
      "outputs": [
        {
          "output_type": "stream",
          "name": "stdout",
          "text": [
            "Installed packages:\n",
            " tidyverse       plyr    ggpmisc    rstatix  ggeffects  patchwork    Metrics \n",
            "      TRUE       TRUE       TRUE       TRUE       TRUE       TRUE       TRUE \n",
            "   ggpmisc plsmselect     gamlss     grpreg     glmnet       MASS    mlbench \n",
            "      TRUE       TRUE       TRUE       TRUE       TRUE       TRUE       TRUE \n",
            "       AER \n",
            "      TRUE \n"
          ]
        }
      ]
    },
    {
      "cell_type": "markdown",
      "source": [
        "### Load R Packages"
      ],
      "metadata": {
        "id": "MV7R29xfyWQz"
      }
    },
    {
      "cell_type": "code",
      "source": [
        "%%R\n",
        "# set library path\n",
        ".libPaths('drive/My Drive/R')\n",
        "# Load packages with suppressed messages\n",
        "invisible(lapply(packages, function(pkg) {\n",
        "  suppressPackageStartupMessages(library(pkg, character.only = TRUE))\n",
        "}))\n",
        "# Check loaded packages\n",
        "cat(\"Successfully loaded packages:\\n\")\n",
        "print(search()[grepl(\"package:\", search())])# Check loaded packages\n"
      ],
      "metadata": {
        "id": "232jNAHBykUL",
        "colab": {
          "base_uri": "https://localhost:8080/"
        },
        "outputId": "36e0f53b-22b3-4341-9744-ab9a50e86966"
      },
      "execution_count": 21,
      "outputs": [
        {
          "output_type": "stream",
          "name": "stdout",
          "text": [
            "Successfully loaded packages:\n",
            " [1] \"package:AER\"         \"package:survival\"    \"package:sandwich\"   \n",
            " [4] \"package:lmtest\"      \"package:zoo\"         \"package:car\"        \n",
            " [7] \"package:carData\"     \"package:mlbench\"     \"package:MASS\"       \n",
            "[10] \"package:glmnet\"      \"package:Matrix\"      \"package:grpreg\"     \n",
            "[13] \"package:gamlss\"      \"package:parallel\"    \"package:nlme\"       \n",
            "[16] \"package:gamlss.dist\" \"package:gamlss.data\" \"package:splines\"    \n",
            "[19] \"package:plsmselect\"  \"package:Metrics\"     \"package:patchwork\"  \n",
            "[22] \"package:ggeffects\"   \"package:rstatix\"     \"package:ggpmisc\"    \n",
            "[25] \"package:ggpp\"        \"package:plyr\"        \"package:lubridate\"  \n",
            "[28] \"package:forcats\"     \"package:stringr\"     \"package:dplyr\"      \n",
            "[31] \"package:purrr\"       \"package:readr\"       \"package:tidyr\"      \n",
            "[34] \"package:tibble\"      \"package:ggplot2\"     \"package:tidyverse\"  \n",
            "[37] \"package:tools\"       \"package:stats\"       \"package:graphics\"   \n",
            "[40] \"package:grDevices\"   \"package:utils\"       \"package:datasets\"   \n",
            "[43] \"package:methods\"     \"package:base\"       \n"
          ]
        }
      ]
    },
    {
      "cell_type": "markdown",
      "source": [
        "### Gaussian GAMLASSO model\n",
        "\n",
        "A Gaussian GAMLASSO model is a type of statistical model that combines the flexibility of Generalized Additive Models (GAM) with the regularization and variable selection capabilities of Lasso (Least Absolute Shrinkage and Selection Operator), specifically tailored for Gaussian (normal) distributed response variables.\n",
        "\n",
        "A Gaussian GAMLASSO model is a type of statistical model that combines the flexibility of Generalized Additive Models (GAM) with the regularization and variable selection capabilities of Lasso (Least Absolute Shrinkage and Selection Operator), specifically tailored for Gaussian (normal) distributed response variables.\n",
        "\n",
        "**Key Components**\n",
        "\n",
        "1. **Generalized Additive Models (GAM)**:\n",
        "   - GAMs allow for flexible modeling of relationships between a response variable and one or more predictor variables by using smooth functions (e.g., splines).\n",
        "   - The model can capture non-linear relationships between the predictors and the response.\n",
        "\n",
        "2. **Lasso (Least Absolute Shrinkage and Selection Operator)**:\n",
        "   - Lasso is a regression technique that performs variable selection and regularization by adding a penalty equal to the absolute value of the magnitude of the coefficients.\n",
        "   - This penalty can shrink some coefficients to zero, effectively selecting a subset of the predictors.\n",
        "\n",
        "3. **Gaussian Distribution**:\n",
        "   - The Gaussian (normal) distribution is used for the response variable, indicating that the residuals (errors) of the model are normally distributed.\n",
        "   - This is suitable for modeling continuous response variables that follow a normal distribution.\n",
        "\n",
        "\n",
        "\n",
        "The objective function for a Gaussian GAMLASSO model can be written as:\n",
        "$$\\min_{f_j} \\left( \\frac{1}{2n} \\sum_{i=1}^n \\left( y_i - \\beta_0 - \\sum_{j=1}^p f_j(x_{ij}) \\right)^2 + \\lambda \\sum_{j=1}^p \\| f_j \\|_1 \\right)$$\n",
        "\n",
        "Here:\n",
        "\n",
        "- $y_i$ is the response variable.\n",
        "- $x_{ij}$ are the predictor variables.\n",
        "- $f_j(x_{ij})$ are the smooth functions of the predictor variables.\n",
        "- $\\beta_0$ is the intercept term.\n",
        "- $\\lambda$ is the regularization parameter.\n",
        "- $\\| f_j \\|_1$ is the Lasso penalty applied to the smooth functions.\n",
        "\n",
        "**Interpretation**:\n",
        "\n",
        "- **Smooth Functions**: The $f_j(x_{ij})$ terms allow for capturing complex, non-linear relationships between the predictors and the response.\n",
        "- **Lasso Penalty**: The Lasso penalty $\\sum_{j=1}^p \\| f_j \\|_1$ encourages sparsity by shrinking some of the smooth functions to zero, effectively selecting a subset of relevant predictors.\n",
        "- **Regularization Parameter**: The parameter $\\lambda$ controls the trade-off between fitting the data well and keeping the model simple (i.e., fewer non-zero coefficients)."
      ],
      "metadata": {
        "id": "N27gVgbAV5g2"
      }
    },
    {
      "cell_type": "markdown",
      "source": [
        "#### Data\n",
        "\n",
        "The Boston housing dataset is a classic dataset used in regression analysis. It contains information about various housing attributes in Boston, such as crime rate, property tax rate, pupil-teacher ratio, etc. The goal is to predict the median value of owner-occupied homes (`medv`) based on these attributes.\n",
        "\n",
        "* `crim`: per capita crime rate by town.\n",
        "\n",
        "* `zn`: proportion of residential land zoned for lots over 25,000 sq.ft.\n",
        "\n",
        "* `indus`: proportion of non-retail business acres per town.\n",
        "\n",
        "* `chas`: Charles River dummy variable (= 1 if tract bounds river; 0 otherwise).\n",
        "\n",
        "* `nox`: nitrogen oxides concentration (parts per 10 million).\n",
        "\n",
        "* `rm`\" average number of rooms per dwelling.\n",
        "\n",
        "* `age`: proportion of owner-occupied units built prior to 1940.\n",
        "\n",
        "* `dis`: weighted mean of distances to five Boston employment centres.\n",
        "\n",
        "* `rad`: index of accessibility to radial highways.\n",
        "\n",
        "* `tax`: full-value property-tax rate per $10,000.\n",
        "\n",
        "* `ptratio`: pupil-teacher ratio by town.\n",
        "\n",
        "* `black`: 1000(Bk - 0.63)^2 where Bk is the proportion  by town\n",
        "\n",
        "* `lstat`: lower status of the population (percent).\n",
        "\n",
        "* *`medv`: median value of owner-occupied homes in $1000s\n",
        "\n",
        "Source\n",
        "Harrison, D. and Rubinfeld, D.L. (1978) Hedonic prices and the demand for clean air. J. Environ. Economics and Management 5, 81–102.\n",
        "\n",
        "\n",
        "We will use `read_csv()` function of **readr** package to import data as a **tidy** data.\n"
      ],
      "metadata": {
        "id": "rSJqB05rO5ES"
      }
    },
    {
      "cell_type": "code",
      "execution_count": 22,
      "metadata": {
        "colab": {
          "base_uri": "https://localhost:8080/"
        },
        "id": "CFpt_H01OPsa",
        "outputId": "f552039b-57e4-47ec-8aa2-2e5faf125f02"
      },
      "outputs": [
        {
          "output_type": "stream",
          "name": "stdout",
          "text": [
            "Rows: 506\n",
            "Columns: 14\n",
            "$ medv    <dbl> 24.0, 21.6, 34.7, 33.4, 36.2, 28.7, 22.9, 27.1, 16.5, 18.9, 15…\n",
            "$ crim    <dbl> 0.00632, 0.02731, 0.02729, 0.03237, 0.06905, 0.02985, 0.08829,…\n",
            "$ zn      <dbl> 18.0, 0.0, 0.0, 0.0, 0.0, 0.0, 12.5, 12.5, 12.5, 12.5, 12.5, 1…\n",
            "$ indus   <dbl> 2.31, 7.07, 7.07, 2.18, 2.18, 2.18, 7.87, 7.87, 7.87, 7.87, 7.…\n",
            "$ nox     <dbl> 0.538, 0.469, 0.469, 0.458, 0.458, 0.458, 0.524, 0.524, 0.524,…\n",
            "$ rm      <dbl> 6.575, 6.421, 7.185, 6.998, 7.147, 6.430, 6.012, 6.172, 5.631,…\n",
            "$ age     <dbl> 65.2, 78.9, 61.1, 45.8, 54.2, 58.7, 66.6, 96.1, 100.0, 85.9, 9…\n",
            "$ dis     <dbl> 4.0900, 4.9671, 4.9671, 6.0622, 6.0622, 6.0622, 5.5605, 5.9505…\n",
            "$ rad     <int> 1, 2, 2, 3, 3, 3, 5, 5, 5, 5, 5, 5, 5, 4, 4, 4, 4, 4, 4, 4, 4,…\n",
            "$ tax     <dbl> 296, 242, 242, 222, 222, 222, 311, 311, 311, 311, 311, 311, 31…\n",
            "$ ptratio <dbl> 15.3, 17.8, 17.8, 18.7, 18.7, 18.7, 15.2, 15.2, 15.2, 15.2, 15…\n",
            "$ black   <dbl> 396.90, 396.90, 392.83, 394.63, 396.90, 394.12, 395.60, 396.90…\n",
            "$ lstat   <dbl> 4.98, 9.14, 4.03, 2.94, 5.33, 5.21, 12.43, 19.15, 29.93, 17.10…\n",
            "$ chas    <int> 0, 0, 0, 0, 0, 0, 0, 0, 0, 0, 0, 0, 0, 0, 0, 0, 0, 0, 0, 0, 0,…\n"
          ]
        }
      ],
      "source": [
        "%%R\n",
        "# Load the Boston housing data\n",
        "data(Boston, package = \"MASS\")\n",
        "df<-Boston |>\n",
        "  dplyr::select(medv,  crim, zn, indus, nox, rm, age,  dis,  rad,  tax, ptratio , black,  lstat,\n",
        "         chas) |>\n",
        "  glimpse()"
      ]
    },
    {
      "cell_type": "markdown",
      "source": [
        "#### Split dats into training and testing sets"
      ],
      "metadata": {
        "id": "91byrkFGWHf9"
      }
    },
    {
      "cell_type": "code",
      "source": [
        "%%R\n",
        "# Split the data into training and testing sets\n",
        "# Set seed for reproducibility\n",
        "set.seed(123)\n",
        "# Define the proportion of data to be used for training\n",
        "train_proportion <- 0.8\n",
        "# Calculate the number of training samples\n",
        "train_size <- floor(train_proportion * nrow(Boston))\n",
        "# Generate a random sample of row indices for training data\n",
        "train_indices <- sample(seq_len(nrow(Boston)), size = train_size)\n",
        "# Split the data into training and testing sets\n",
        "trainData <- Boston[train_indices, ]\n",
        "testData <- Boston[-train_indices, ]\n",
        "# Inspect the dimensions of the resulting datasets\n",
        "cat(\"Training set dimensions: \", dim(trainData), \"\\n\")\n",
        "cat(\"Testing set dimensions: \", dim(testData), \"\\n\")\n"
      ],
      "metadata": {
        "colab": {
          "base_uri": "https://localhost:8080/"
        },
        "id": "AeNodk0UWIwK",
        "outputId": "2df5935a-6ac6-48f1-e6d6-fca3042876ff"
      },
      "execution_count": 23,
      "outputs": [
        {
          "output_type": "stream",
          "name": "stdout",
          "text": [
            "Training set dimensions:  404 14 \n",
            "Testing set dimensions:  102 14 \n"
          ]
        }
      ]
    },
    {
      "cell_type": "markdown",
      "source": [
        "#### Data Processing"
      ],
      "metadata": {
        "id": "I8dFM0UCCpWO"
      }
    },
    {
      "cell_type": "code",
      "source": [
        "%%R\n",
        "# Define the response and predictor variables\n",
        "response_var <- \"medv\"\n",
        "\n",
        "# 🛠 FIX: Ensure at least two variables in linear terms\n",
        "linear_terms <- c(\"chas\", \"rm\")  # Adding \"rm\" as a linear term to avoid single-column matrix issue\n",
        "smooth_terms <- c(\"crim\", \"zn\", \"indus\", \"nox\", \"age\", \"dis\", \"rad\", \"tax\", \"ptratio\", \"black\", \"lstat\")\n",
        "\n",
        "# Check if all predictor variables exist\n",
        "predictor_vars <- c(linear_terms, smooth_terms)\n",
        "missing_vars <- setdiff(predictor_vars, names(trainData))\n",
        "if (length(missing_vars) > 0) {\n",
        "  stop(paste(\"Missing columns:\", paste(missing_vars, collapse = \", \")))\n",
        "}\n",
        "\n",
        "# Ensure all predictors are numeric\n",
        "trainData[predictor_vars] <- lapply(trainData[predictor_vars], function(x) as.numeric(as.character(x)))\n",
        "\n",
        "# Convert predictor data to a matrix\n",
        "predictors <- as.matrix(trainData[predictor_vars])\n",
        "\n",
        "# Print matrix dimensions (should be more than one column)\n",
        "print(dim(predictors))\n",
        "\n",
        "# Ensure at least 2 predictor variables exist\n",
        "if (ncol(predictors) < 2) {\n",
        "  stop(\"Error: The predictor matrix must have at least 2 columns before fitting the model.\")\n",
        "}"
      ],
      "metadata": {
        "colab": {
          "base_uri": "https://localhost:8080/"
        },
        "id": "MmtJFmCMCpig",
        "outputId": "f321f50c-d875-42d1-a8d3-b8bec1b28bc5"
      },
      "execution_count": 24,
      "outputs": [
        {
          "output_type": "stream",
          "name": "stdout",
          "text": [
            "[1] 404  13\n"
          ]
        }
      ]
    },
    {
      "cell_type": "markdown",
      "source": [
        "####  Fit a GAMLASSO model on the training data"
      ],
      "metadata": {
        "id": "EcqUZt4cC5LI"
      }
    },
    {
      "cell_type": "markdown",
      "source": [
        "We will fit a GAMLASSO model using `gamlasso()` funtion of  the {plsmselect} package on the training data. The model will predict the median value of owner-occupied homes (`medv`) based on the other attributes in the dataset.  The formula specifies that the response variable `medv` is modeled as a function of smooth terms of the predictors. The degrees of freedom for each smoothing term are reduced by specifying `k = 5` to avoid the error related to excessive degrees of freedom. The variable `chas `is included as a linear term since it is a binary indicator variable.\n",
        "\n",
        "`linear.penalty`: The penalty used on the linear predictors. A character string which can be \"none\" (default), \"l1\" or \"l2\". If \"l1\" is used then we use the gam and lasso loop. Otherwise only a gam model is fitted (with penalities on parametric terms if linear.penalty = \"l2\" ).\n",
        "\n",
        "`smooth.penalty`: The penalty used on the smoothers. A character string which can be \"l1\" or \"l2\" (default). \"l2\" refers to the inherent second order penalty smoothers have for controlling their shape, so \"none\" is not an option. For \"l1\" basis is specified by bs='ts', else bs='tp' is used. (see gam for details on basis types)\n"
      ],
      "metadata": {
        "id": "4Z_PXyWFDJ9q"
      }
    },
    {
      "cell_type": "code",
      "source": [
        "%%R\n",
        "gfit <- gamlasso(\n",
        "      response = response_var,  # Keep as a string\n",
        "      linear.terms = linear_terms,\n",
        "      smooth.terms = smooth_terms,\n",
        "      data = trainData,\n",
        "      linear.penalty = \"l1\",\n",
        "      smooth.penalty = \"l1\",\n",
        "      num.knots = 5,\n",
        "      family = \"gaussian\",\n",
        "      seed = 1\n",
        ")"
      ],
      "metadata": {
        "id": "p_eUNGuwDNka",
        "colab": {
          "base_uri": "https://localhost:8080/"
        },
        "outputId": "e73d96ee-7e56-4229-acbd-a885cecade99"
      },
      "execution_count": 25,
      "outputs": [
        {
          "output_type": "stream",
          "name": "stderr",
          "text": [
            "WARNING:rpy2.rinterface_lib.callbacks:R[write to console]: \n",
            "Preliminary checks passed. \n",
            "\n",
            "WARNING:rpy2.rinterface_lib.callbacks:R[write to console]: Fitting a lasso and gam loop ... \n",
            "\n",
            "\n"
          ]
        }
      ]
    },
    {
      "cell_type": "code",
      "source": [
        "%%R\n",
        "# Print the summary of the model\n",
        "summary(gfit)"
      ],
      "metadata": {
        "colab": {
          "base_uri": "https://localhost:8080/"
        },
        "id": "zh1DEtUxDSIl",
        "outputId": "9fa5c001-4d37-481c-9d6c-98d5b9f9263a"
      },
      "execution_count": 42,
      "outputs": [
        {
          "output_type": "stream",
          "name": "stdout",
          "text": [
            "$lasso\n",
            "3 x 1 sparse Matrix of class \"dgCMatrix\"\n",
            "                   s1\n",
            "(Intercept) .        \n",
            "chas        2.8864801\n",
            "rm          0.8568178\n",
            "\n",
            "$gam\n",
            "\n",
            "Family: gaussian \n",
            "Link function: identity \n",
            "\n",
            "Formula:\n",
            "medv ~ s(crim, k = 5, bs = \"ts\") + s(zn, k = 5, bs = \"ts\") + \n",
            "    s(indus, k = 5, bs = \"ts\") + s(nox, k = 5, bs = \"ts\") + s(age, \n",
            "    k = 5, bs = \"ts\") + s(dis, k = 5, bs = \"ts\") + s(rad, k = 5, \n",
            "    bs = \"ts\") + s(tax, k = 5, bs = \"ts\") + s(ptratio, k = 5, \n",
            "    bs = \"ts\") + s(black, k = 5, bs = \"ts\") + s(lstat, k = 5, \n",
            "    bs = \"ts\")\n",
            "\n",
            "Parametric coefficients:\n",
            "            Estimate Std. Error t value Pr(>|t|)    \n",
            "(Intercept)  16.9542     0.1968   86.15   <2e-16 ***\n",
            "---\n",
            "Signif. codes:  0 ‘***’ 0.001 ‘**’ 0.01 ‘*’ 0.05 ‘.’ 0.1 ‘ ’ 1\n",
            "\n",
            "Approximate significance of smooth terms:\n",
            "                 edf Ref.df       F  p-value    \n",
            "s(crim)    2.353e+00      4   7.560 2.56e-07 ***\n",
            "s(zn)      3.728e+00      4   3.347 0.005453 ** \n",
            "s(indus)   3.802e-08      4   0.000 0.312298    \n",
            "s(nox)     1.374e+00      4  10.995  < 2e-16 ***\n",
            "s(age)     6.491e-01      4   0.603 0.047858 *  \n",
            "s(dis)     2.623e+00      4  11.390  < 2e-16 ***\n",
            "s(rad)     1.173e+00      4   7.533  < 2e-16 ***\n",
            "s(tax)     1.103e+00      4   3.371 0.000111 ***\n",
            "s(ptratio) 2.800e+00      4  17.272  < 2e-16 ***\n",
            "s(black)   1.858e+00      4   2.109 0.007700 ** \n",
            "s(lstat)   3.927e+00      4 115.749  < 2e-16 ***\n",
            "---\n",
            "Signif. codes:  0 ‘***’ 0.001 ‘**’ 0.01 ‘*’ 0.05 ‘.’ 0.1 ‘ ’ 1\n",
            "\n",
            "R-sq.(adj) =  0.815   Deviance explained = 80.4%\n",
            "GCV = 16.574  Scale est. = 15.648    n = 404\n",
            "\n"
          ]
        }
      ]
    },
    {
      "cell_type": "markdown",
      "source": [
        "The Generalized Additive Model (GAM) fitted using the `gamlasso()` function shows that the response variable \"medv\" is significantly influenced by the predictor variables \"chas\" and \"rm\" with positive linear effects. Additionally, significant non-linear relationships were identified for \"crim\", \"zn\", \"nox\", \"dis\", \"rad\", \"tax\", \"ptratio\", \"black\", and \"lstat\", while \"indus\" was not significant. The model explains 81.5% of the variance in \"medv\" with an adjusted R-squared of 0.815 and a deviance explained of 80.4%, indicating a good fit to the data."
      ],
      "metadata": {
        "id": "HQ2JuA5o2UgP"
      }
    },
    {
      "cell_type": "code",
      "source": [
        "%%R -w 800 -h 800 -u px\n",
        "# Plot the fitted smooth functions\n",
        "plot(gfit$gam, pages=1)"
      ],
      "metadata": {
        "colab": {
          "base_uri": "https://localhost:8080/",
          "height": 817
        },
        "id": "TQK3Q-3PDjWU",
        "outputId": "de5515fc-bf77-43df-9438-c23182f56186"
      },
      "execution_count": 26,
      "outputs": [
        {
          "output_type": "display_data",
          "data": {
            "image/png": "[encoded data removed]"
          },
          "metadata": {}
        }
      ]
    },
    {
      "cell_type": "markdown",
      "source": [
        "#### Plot fitted versus observed values"
      ],
      "metadata": {
        "id": "aP-ASSfDDzqp"
      }
    },
    {
      "cell_type": "code",
      "source": [
        "%%R\n",
        "trainData$pred.medv<-predict(gfit, newdata = trainData)"
      ],
      "metadata": {
        "id": "8nCTpa_mD3Tr"
      },
      "execution_count": 27,
      "outputs": []
    },
    {
      "cell_type": "code",
      "source": [
        "%%R\n",
        "# Model performance metrics\n",
        "calculate_metrics(trainData$medv, trainData$pred.medv)"
      ],
      "metadata": {
        "colab": {
          "base_uri": "https://localhost:8080/"
        },
        "id": "YzedGbrtW3Ya",
        "outputId": "e0fff5bd-37d3-4329-e9a4-defa239080b3"
      },
      "execution_count": 28,
      "outputs": [
        {
          "output_type": "stream",
          "name": "stdout",
          "text": [
            "$RMSE\n",
            "[1] 3.843254\n",
            "\n",
            "$MAE\n",
            "[1] 2.686995\n",
            "\n",
            "$MSE\n",
            "[1] 14.7706\n",
            "\n",
            "$MedAE\n",
            "[1] 1.944855\n",
            "\n",
            "$R2\n",
            "[1] 0.8250476\n",
            "\n"
          ]
        }
      ]
    },
    {
      "cell_type": "code",
      "source": [
        "%%R -w 500 -h 450 -u px\n",
        "library(ggpmisc)\n",
        "formula<-y~x\n",
        "# plot the predicted vs observed values\n",
        "p1=ggplot(trainData, aes(medv, pred.medv)) +\n",
        "  geom_point() +\n",
        "  geom_smooth(method = \"lm\")+\n",
        "  stat_poly_eq(use_label(c(\"eq\", \"adj.R2\")), formula = formula) +\n",
        "  ggtitle(\"Gaussian GAMLASSO model: Training\") +\n",
        "  xlab(\"Observed\") + ylab(\"Predicted\") +\n",
        "  scale_x_continuous(limits=c(0,55), breaks=seq(0, 55, 11))+\n",
        "  scale_y_continuous(limits=c(0,55), breaks=seq(0, 55, 11)) +\n",
        "  theme(\n",
        "    panel.background = element_rect(fill = \"grey95\",colour = \"gray75\",size = 0.5, linetype = \"solid\"),\n",
        "    axis.line = element_line(colour = \"grey\"),\n",
        "    plot.title = element_text(size = 14, hjust = 0.5),\n",
        "    axis.title.x = element_text(size = 14),\n",
        "    axis.title.y = element_text(size = 14),\n",
        "    axis.text.x=element_text(size=13, colour=\"black\"),\n",
        "    axis.text.y=element_text(size=13,angle = 90,vjust = 0.5, hjust=0.5, colour='black'))\n",
        "print(p1)"
      ],
      "metadata": {
        "colab": {
          "base_uri": "https://localhost:8080/",
          "height": 484
        },
        "id": "pWauvTPJW9i7",
        "outputId": "d99a386d-ef5f-4fb3-aebd-be242bcd6d3d"
      },
      "execution_count": 29,
      "outputs": [
        {
          "output_type": "stream",
          "name": "stdout",
          "text": [
            "`geom_smooth()` using formula = 'y ~ x'\n"
          ]
        },
        {
          "output_type": "display_data",
          "data": {
            "image/png": "[encoded data removed]"
          },
          "metadata": {}
        }
      ]
    },
    {
      "cell_type": "markdown",
      "source": [
        "#### Prediction at Test Data\n",
        "\n",
        "Now, we will test this model on our test dataset by calculating the model-predicted values for the test dataset and then computing the MAE, MSE, RMSE and R-square:"
      ],
      "metadata": {
        "id": "SwwgRXjnEcja"
      }
    },
    {
      "cell_type": "code",
      "source": [
        "%%R\n",
        "# Make predictions on the test data\n",
        "testData$pred.medv<-predict(gfit, newdata = testData)"
      ],
      "metadata": {
        "id": "3RJQuC2IEdQl"
      },
      "execution_count": 30,
      "outputs": []
    },
    {
      "cell_type": "code",
      "source": [
        "%%R\n",
        "# Model performance metrics\n",
        "calculate_metrics(testData$medv, testData$pred.medv)"
      ],
      "metadata": {
        "colab": {
          "base_uri": "https://localhost:8080/"
        },
        "id": "iEaV0qDxEwWq",
        "outputId": "14761780-4a27-4344-bb14-63169e7eb2ed"
      },
      "execution_count": 32,
      "outputs": [
        {
          "output_type": "stream",
          "name": "stdout",
          "text": [
            "$RMSE\n",
            "[1] 4.465848\n",
            "\n",
            "$MAE\n",
            "[1] 3.27578\n",
            "\n",
            "$MSE\n",
            "[1] 19.9438\n",
            "\n",
            "$MedAE\n",
            "[1] 2.441494\n",
            "\n",
            "$R2\n",
            "[1] 0.7636513\n",
            "\n"
          ]
        }
      ]
    },
    {
      "cell_type": "markdown",
      "source": [
        "#### 1:1 Plot of Predicted vs Observed values\n",
        "\n",
        "We can plot observed and predicted values with fitted regression line with ggplot2"
      ],
      "metadata": {
        "id": "IHWk5ikUE0EX"
      }
    },
    {
      "cell_type": "code",
      "source": [
        "%%R -w 500 -h 450 -u px\n",
        "formula<-y~x\n",
        "# Lasso regression\n",
        "# plot the predicted vs observed values\n",
        "p2=ggplot(testData, aes(medv, pred.medv)) +\n",
        "  geom_point() +\n",
        "  geom_smooth(method = \"lm\")+\n",
        "  stat_poly_eq(use_label(c(\"eq\", \"adj.R2\")), formula = formula) +\n",
        "  ggtitle(\"Gaussian GAMLASSO model: Test Data\") +\n",
        "  xlab(\"Observed\") + ylab(\"Predicted\") +\n",
        "  scale_x_continuous(limits=c(0,55), breaks=seq(0, 55, 11))+\n",
        "  scale_y_continuous(limits=c(0,55), breaks=seq(0, 55, 11)) +\n",
        "  theme(\n",
        "    panel.background = element_rect(fill = \"grey95\",colour = \"gray75\",size = 0.5, linetype = \"solid\"),\n",
        "    axis.line = element_line(colour = \"grey\"),\n",
        "    plot.title = element_text(size = 14, hjust = 0.5),\n",
        "    axis.title.x = element_text(size = 14),\n",
        "    axis.title.y = element_text(size = 14),\n",
        "    axis.text.x=element_text(size=13, colour=\"black\"),\n",
        "    axis.text.y=element_text(size=13,angle = 90,vjust = 0.5, hjust=0.5, colour='black'))\n",
        "print(p2)"
      ],
      "metadata": {
        "colab": {
          "base_uri": "https://localhost:8080/",
          "height": 484
        },
        "id": "nCWmlhwyE0sS",
        "outputId": "ba9384eb-e64e-4565-b6a2-16b29a158022"
      },
      "execution_count": 33,
      "outputs": [
        {
          "output_type": "stream",
          "name": "stdout",
          "text": [
            "`geom_smooth()` using formula = 'y ~ x'\n"
          ]
        },
        {
          "output_type": "display_data",
          "data": {
            "image/png": "[encoded data removed]"
          },
          "metadata": {}
        }
      ]
    },
    {
      "cell_type": "markdown",
      "source": [
        "### Binary Logistic GAMLASSO\n",
        "\n",
        "The Binary Logistic GAMLASSO (Generalized Additive Model with Lasso) regression model is a statistical approach used for binary classification tasks. It combines the principles of Generalized Additive Models (GAMs) and Lasso regularization to model the relationship between a binary response variable and multiple predictor variables.\n",
        "\n",
        "In the Binary Logistic GAMLASSO model, the logistic regression framework is combined with the flexibility of GAMs and the regularization properties of Lasso. This results in a model that can capture complex non-linear relationships while also performing variable selection to avoid overfitting.\n",
        "\n",
        "The Binary Logistic GAMLASSO model can be formulated as follows:\n",
        "\n",
        "$$ \\log \\left( \\frac{P(Y=1)}{P(Y=0)} \\right) = \\beta_0 + f_1(X_1) + f_2(X_2) + \\ldots + f_p(X_p) + \\lambda \\sum_{j=1}^{p} |\\beta_j|\n",
        "$$\n",
        "\n",
        "where:\n",
        "\n",
        " - $P(Y=1)$ is the probability of the binary outcome being 1.\n",
        "\n",
        "\\- $\\frac{P(Y=1)}{P(Y=0)}$ is the odds of the binary outcome.\n",
        "\n",
        "\\- $\\beta_0$ is the intercept term.\n",
        "\n",
        "\\- $f_j(X_j)$ are the smooth functions of the predictor variables.\n",
        "\n",
        " - $\\lambda$ is the regularization parameter.\n",
        "\n"
      ],
      "metadata": {
        "id": "I7mr41AUzUMl"
      }
    },
    {
      "cell_type": "markdown",
      "source": [
        "#### Data\n",
        "\n",
        "In this example, we will use the Pima Indians Diabetes dataset, which contains information about various health attributes of Pima Indian. The goal is to predict the presence or absence of diabetes based on these attributes. The response variable `diabetes` is binary (positive or negative). Dataset contains following columns:\n",
        "\n",
        "* `pregnant` - \tNumber of times pregnant\n",
        "* `glucose` - \tPlasma glucose concentration (glucose tolerance test)\n",
        "* `pressure` - \tDiastolic blood pressure (mm Hg)\n",
        "* `triceps` - \tTriceps skin fold thickness (mm)\n",
        "* `insulin` - \t2-Hour serum insulin (mu U/ml)\n",
        "* `mass` - \tBody mass index (weight in kg/(height in m)\\^2)\n",
        "* `pedigree` - \tDiabetes pedigree function\n",
        "* `age` - \tAge (years)\n",
        "* `diabetes` - \tClass variable (0 or 1)"
      ],
      "metadata": {
        "id": "bPICcPg_zbnY"
      }
    },
    {
      "cell_type": "code",
      "source": [
        "%%R\n",
        "# Load the Pima Indians Diabetes dataset\n",
        "data(\"PimaIndiansDiabetes\")\n",
        "data <- PimaIndiansDiabetes\n",
        "glimpse(data)"
      ],
      "metadata": {
        "colab": {
          "base_uri": "https://localhost:8080/"
        },
        "id": "BLPzNZCtzc16",
        "outputId": "7e3b78cb-ca47-464f-d8ce-f697f8b9dfa0"
      },
      "execution_count": 34,
      "outputs": [
        {
          "output_type": "stream",
          "name": "stdout",
          "text": [
            "Rows: 768\n",
            "Columns: 9\n",
            "$ pregnant <dbl> 6, 1, 8, 1, 0, 5, 3, 10, 2, 8, 4, 10, 10, 1, 5, 7, 0, 7, 1, 1…\n",
            "$ glucose  <dbl> 148, 85, 183, 89, 137, 116, 78, 115, 197, 125, 110, 168, 139,…\n",
            "$ pressure <dbl> 72, 66, 64, 66, 40, 74, 50, 0, 70, 96, 92, 74, 80, 60, 72, 0,…\n",
            "$ triceps  <dbl> 35, 29, 0, 23, 35, 0, 32, 0, 45, 0, 0, 0, 0, 23, 19, 0, 47, 0…\n",
            "$ insulin  <dbl> 0, 0, 0, 94, 168, 0, 88, 0, 543, 0, 0, 0, 0, 846, 175, 0, 230…\n",
            "$ mass     <dbl> 33.6, 26.6, 23.3, 28.1, 43.1, 25.6, 31.0, 35.3, 30.5, 0.0, 37…\n",
            "$ pedigree <dbl> 0.627, 0.351, 0.672, 0.167, 2.288, 0.201, 0.248, 0.134, 0.158…\n",
            "$ age      <dbl> 50, 31, 32, 21, 33, 30, 26, 29, 53, 54, 30, 34, 57, 59, 51, 3…\n",
            "$ diabetes <fct> pos, neg, pos, neg, pos, neg, pos, neg, pos, pos, neg, pos, n…\n"
          ]
        }
      ]
    },
    {
      "cell_type": "markdown",
      "source": [
        "#### Split data into training and testing sets"
      ],
      "metadata": {
        "id": "f1ANcZdBzjRr"
      }
    },
    {
      "cell_type": "code",
      "source": [
        "%%R\n",
        "# Convert the response variable to numeric binary format (0 and 1)\n",
        "data$diabetes <- ifelse(data$diabetes == \"pos\", 1, 0)\n",
        "\n",
        "# Set seed for reproducibility\n",
        "set.seed(123)\n",
        "\n",
        "# Define the proportion of data to be used for training\n",
        "train_proportion <- 0.8\n",
        "\n",
        "# Calculate the number of training samples\n",
        "train_size <- floor(train_proportion * nrow(data))\n",
        "\n",
        "# Generate a random sample of row indices for training data\n",
        "train_indices <- sample(seq_len(nrow(data)), size = train_size)\n",
        "\n",
        "# Split the data into training and testing sets\n",
        "trainData <- data[train_indices, ]\n",
        "testData <- data[-train_indices, ]\n",
        "# Inspect the dimensions of the resulting datasets\n",
        "cat(\"Training set dimensions: \", dim(trainData), \"\\n\")\n",
        "cat(\"Testing set dimensions: \", dim(testData), \"\\n\")\n"
      ],
      "metadata": {
        "colab": {
          "base_uri": "https://localhost:8080/"
        },
        "id": "9RqHRY78zkGw",
        "outputId": "ac9e61b2-4110-43be-d725-38f35817f6dd"
      },
      "execution_count": 35,
      "outputs": [
        {
          "output_type": "stream",
          "name": "stdout",
          "text": [
            "Training set dimensions:  614 9 \n",
            "Testing set dimensions:  154 9 \n"
          ]
        }
      ]
    },
    {
      "cell_type": "markdown",
      "source": [
        "####  Define the response and predictor variables\n"
      ],
      "metadata": {
        "id": "6jwHfB86zqGR"
      }
    },
    {
      "cell_type": "code",
      "source": [
        "%%R\n",
        "# Define the response and predictor variables\n",
        "response_var <- \"diabetes\"\n",
        "linear_terms <- c(\"age\", \"pregnant\")  # Linear terms\n",
        "smooth_terms <- c(\"glucose\", \"pressure\", \"triceps\", \"insulin\", \"mass\", \"pedigree\")  # Smooth terms"
      ],
      "metadata": {
        "id": "DfILknNizq44"
      },
      "execution_count": 36,
      "outputs": []
    },
    {
      "cell_type": "markdown",
      "source": [
        "#### Fit a Binary Logistic GAMLASSO model on the training data"
      ],
      "metadata": {
        "id": "udBVJJF-zwQl"
      }
    },
    {
      "cell_type": "code",
      "source": [
        "%%R\n",
        "# Fit a Binary Logistic GAMLASSO model using plsmselect on the training data\n",
        "bfit <- gamlasso(response = response_var,\n",
        "                 linear.terms = linear_terms,\n",
        "                 smooth.terms = smooth_terms,\n",
        "                 data = trainData,\n",
        "                 linear.penalty = \"l1\",\n",
        "                 smooth.penalty = \"l1\",\n",
        "                 num.knots = 5,\n",
        "                 family = \"binomial\",\n",
        "                 seed = 1)"
      ],
      "metadata": {
        "colab": {
          "base_uri": "https://localhost:8080/"
        },
        "id": "oBG5u7DNzvZx",
        "outputId": "6b10c064-3283-4a31-b5e3-cb08170330e7"
      },
      "execution_count": 37,
      "outputs": [
        {
          "output_type": "stream",
          "name": "stderr",
          "text": [
            "WARNING:rpy2.rinterface_lib.callbacks:R[write to console]: \n",
            "Preliminary checks passed. \n",
            "\n",
            "WARNING:rpy2.rinterface_lib.callbacks:R[write to console]: Fitting a lasso and gam loop ... \n",
            "\n",
            "\n"
          ]
        }
      ]
    },
    {
      "cell_type": "code",
      "source": [
        "%%R\n",
        "# Print the summary of the model\n",
        "summary(bfit)"
      ],
      "metadata": {
        "colab": {
          "base_uri": "https://localhost:8080/"
        },
        "id": "qqu7t60Az5oR",
        "outputId": "4d199124-13c4-424c-9888-a526a3602031"
      },
      "execution_count": 38,
      "outputs": [
        {
          "output_type": "stream",
          "name": "stdout",
          "text": [
            "$lasso\n",
            "3 x 1 sparse Matrix of class \"dgCMatrix\"\n",
            "                    s1\n",
            "(Intercept) .         \n",
            "age         0.01358471\n",
            "pregnant    0.10610974\n",
            "\n",
            "$gam\n",
            "\n",
            "Family: binomial \n",
            "Link function: logit \n",
            "\n",
            "Formula:\n",
            "diabetes ~ s(glucose, k = 5, bs = \"ts\") + s(pressure, k = 5, \n",
            "    bs = \"ts\") + s(triceps, k = 5, bs = \"ts\") + s(insulin, k = 5, \n",
            "    bs = \"ts\") + s(mass, k = 5, bs = \"ts\") + s(pedigree, k = 5, \n",
            "    bs = \"ts\")\n",
            "\n",
            "Parametric coefficients:\n",
            "            Estimate Std. Error z value Pr(>|z|)    \n",
            "(Intercept)  -1.7925     0.1194  -15.01   <2e-16 ***\n",
            "---\n",
            "Signif. codes:  0 ‘***’ 0.001 ‘**’ 0.01 ‘*’ 0.05 ‘.’ 0.1 ‘ ’ 1\n",
            "\n",
            "Approximate significance of smooth terms:\n",
            "                  edf Ref.df Chi.sq p-value    \n",
            "s(glucose)  3.5908602      4 86.597  <2e-16 ***\n",
            "s(pressure) 0.8378293      4  4.460  0.0194 *  \n",
            "s(triceps)  0.0005973      4  0.000  0.3592    \n",
            "s(insulin)  0.5465537      4  1.183  0.1404    \n",
            "s(mass)     3.8561442      4 36.681  <2e-16 ***\n",
            "s(pedigree) 1.7605852      4  7.695  0.0101 *  \n",
            "---\n",
            "Signif. codes:  0 ‘***’ 0.001 ‘**’ 0.01 ‘*’ 0.05 ‘.’ 0.1 ‘ ’ 1\n",
            "\n",
            "R-sq.(adj) =  0.344   Deviance explained =   28%\n",
            "UBRE = -0.070107  Scale est. = 1         n = 614\n",
            "\n"
          ]
        }
      ]
    },
    {
      "cell_type": "markdown",
      "source": [
        "The Generalized Additive Model (GAM) fitted using the gamlasso function reveals that the likelihood of diabetes is significantly influenced by the predictor variables \"age\" and \"pregnant\" with positive linear effects. Additionally, significant non-linear relationships were found for \"glucose\", \"pressure\", \"mass\", and \"pedigree\", while \"triceps\" and \"insulin\" were not significant. The model explains 34.4% of the variance in diabetes probability with an adjusted R-squared of 0.344 and a deviance explained of 28%, indicating a moderate fit to the data."
      ],
      "metadata": {
        "id": "Ir0FECrVz51V"
      }
    },
    {
      "cell_type": "code",
      "source": [
        "%%R -w 800 -h 600 -u px\n",
        "# Plot the fitted smooth functions\n",
        "plot(bfit$gam, pages=1)"
      ],
      "metadata": {
        "colab": {
          "base_uri": "https://localhost:8080/",
          "height": 617
        },
        "id": "f8YDDZdK0DtP",
        "outputId": "1c1c8ed3-0ef8-4ce6-dcef-93a00fb5b56d"
      },
      "execution_count": 39,
      "outputs": [
        {
          "output_type": "display_data",
          "data": {
            "image/png": "[encoded data removed]"
          },
          "metadata": {}
        }
      ]
    },
    {
      "cell_type": "markdown",
      "source": [
        "#### Make predictions on the test data"
      ],
      "metadata": {
        "id": "RlOMO5OI0WiB"
      }
    },
    {
      "cell_type": "code",
      "source": [
        "%%R\n",
        "# Make predictions on the test data\n",
        "preds <- predict(bfit, newdata = testData, type = \"response\")\n",
        "# Convert predictions to binary outcomes\n",
        "preds_binary <- ifelse(preds > 0.5, 1, 0)"
      ],
      "metadata": {
        "id": "awhmoud_0Zga"
      },
      "execution_count": 40,
      "outputs": []
    },
    {
      "cell_type": "code",
      "source": [
        "%%R\n",
        "# Evaluate the model performance\n",
        "accuracy <- mean(preds_binary == testData$diabetes)\n",
        "confusion_matrix <- table(Predicted = preds_binary, Actual = testData$diabetes)\n",
        "\n",
        "# Print the evaluation results\n",
        "print(paste(\"Accuracy:\", accuracy))\n",
        "print(\"Confusion Matrix:\")\n",
        "print(confusion_matrix)"
      ],
      "metadata": {
        "colab": {
          "base_uri": "https://localhost:8080/"
        },
        "id": "90z6cceC0WvY",
        "outputId": "8b483f00-d892-45c7-be06-9fe8d38f1e8a"
      },
      "execution_count": 41,
      "outputs": [
        {
          "output_type": "stream",
          "name": "stdout",
          "text": [
            "[1] \"Accuracy: 0.74025974025974\"\n",
            "[1] \"Confusion Matrix:\"\n",
            "         Actual\n",
            "Predicted  0  1\n",
            "        0 85 23\n",
            "        1 17 29\n"
          ]
        }
      ]
    },
    {
      "cell_type": "markdown",
      "source": [
        "### Poisson GAMLASSO Model\n",
        "\n",
        "The Poisson GAMLASSO (Generalized Additive Model with Lasso) model is a statistical approach used for count data where the response variable follows a Poisson distribution. It combines the principles of Generalized Additive Models (GAMs) and Lasso regularization to model the relationship between the response variable and multiple predictor variables.\n",
        "\n",
        "The Poisson GAMLASSO model can be formulated as follows:\n",
        "\n",
        "$$ \\log(\\lambda) = \\beta_0 + f_1(X_1) + f_2(X_2) + \\ldots + f_p(X_p) + \\lambda \\sum_{j=1}^{p} |\\beta_j| $$\n",
        "\n",
        "where:\n",
        "\n",
        "- $\\lambda$ is the expected count.\n",
        "- $\\beta_0$ is the intercept.\n",
        "- $f_i(X_i)$ are the smooth functions of the predictor variables.\n",
        "- $\\lambda$ is the regularization parameter.\n"
      ],
      "metadata": {
        "id": "asPtPN2x0jd0"
      }
    },
    {
      "cell_type": "markdown",
      "source": [
        "#### Data\n",
        "\n",
        "Data used in this example is the `Affairs` dataset from the AER package. The dataset contains information about extramarital affairs, including the number of affairs, age, years married, religiousness, rating of marriage, education, and occupation of individuals. The goal is to predict the number of affairs based on these attributes.\n",
        "\n",
        "- `affairs`: number of affairs.\n",
        "- `gender`:\n",
        "- `age`: age of the individual.\n",
        "- `yearsmarried`: number of years married.\n",
        "- `children`: number of children.\n",
        "- `religiousness`: religiousness rating.\n",
        "- `education`: education level.\n",
        "- `occupation`: occupation level.\n",
        "- `rating`: rating of marriage."
      ],
      "metadata": {
        "id": "Z33NDn6C0ku8"
      }
    },
    {
      "cell_type": "code",
      "source": [
        "%%R\n",
        "# Load the Affairs dataset\n",
        "data(\"Affairs\", package = \"AER\")\n",
        "data <- Affairs\n",
        "# Inspect the dataset\n",
        "head(data)"
      ],
      "metadata": {
        "colab": {
          "base_uri": "https://localhost:8080/"
        },
        "id": "qfqSahsc0o2E",
        "outputId": "f0e9847e-c732-4cb0-800c-62b43691c802"
      },
      "execution_count": 43,
      "outputs": [
        {
          "output_type": "stream",
          "name": "stdout",
          "text": [
            "   affairs gender age yearsmarried children religiousness education occupation\n",
            "4        0   male  37        10.00       no             3        18          7\n",
            "5        0 female  27         4.00       no             4        14          6\n",
            "11       0 female  32        15.00      yes             1        12          1\n",
            "16       0   male  57        15.00      yes             5        18          6\n",
            "23       0   male  22         0.75       no             2        17          6\n",
            "29       0 female  32         1.50       no             2        17          5\n",
            "   rating\n",
            "4       4\n",
            "5       4\n",
            "11      4\n",
            "16      5\n",
            "23      3\n",
            "29      5\n"
          ]
        }
      ]
    },
    {
      "cell_type": "markdown",
      "source": [
        "#### Split data into training and testing sets"
      ],
      "metadata": {
        "id": "dCM4cJDu0twJ"
      }
    },
    {
      "cell_type": "code",
      "source": [
        "%%R\n",
        "# Set seed for reproducibility\n",
        "set.seed(123)\n",
        "\n",
        "# Define the proportion of data to be used for training\n",
        "train_proportion <- 0.8\n",
        "\n",
        "# Calculate the number of training samples\n",
        "train_size <- floor(train_proportion * nrow(data))\n",
        "\n",
        "# Generate a random sample of row indices for training data\n",
        "train_indices <- sample(seq_len(nrow(data)), size = train_size)\n",
        "\n",
        "# Split the data into training and testing sets\n",
        "trainData <- data[train_indices, ]\n",
        "testData <- data[-train_indices, ]"
      ],
      "metadata": {
        "id": "yt0MUKDk0t3V"
      },
      "execution_count": 44,
      "outputs": []
    },
    {
      "cell_type": "markdown",
      "source": [
        "#### Define the response and predictor variables"
      ],
      "metadata": {
        "id": "RVGoFM3U1hCy"
      }
    },
    {
      "cell_type": "code",
      "source": [
        "%%R\n",
        "# Define the response and predictor variables\n",
        "response_var <- \"affairs\"\n",
        "linear_terms <- c(\"age\", \"yearsmarried\", \"religiousness\", \"rating\")  # Linear terms\n",
        "smooth_terms <- c(\"education\", \"occupation\")  # Smooth terms with enough unique values"
      ],
      "metadata": {
        "id": "8rqlHTcu1fSy"
      },
      "execution_count": 45,
      "outputs": []
    },
    {
      "cell_type": "markdown",
      "source": [
        "#### Fit a Poisson GAMLASSO model on the training data"
      ],
      "metadata": {
        "id": "9P_61aEE0oKl"
      }
    },
    {
      "cell_type": "code",
      "source": [
        "%%R\n",
        "# Fit a Poisson GAMLASSO model using plsmselect on the training data\n",
        "pfit <- gamlasso(response = response_var,\n",
        "                 linear.terms = linear_terms,\n",
        "                 smooth.terms = smooth_terms,\n",
        "                 data = trainData,\n",
        "                 linear.penalty = \"l1\",\n",
        "                 smooth.penalty = \"l1\",\n",
        "                 num.knots = 5,\n",
        "                 family = \"poisson\",\n",
        "                 seed = 1)"
      ],
      "metadata": {
        "colab": {
          "base_uri": "https://localhost:8080/"
        },
        "id": "Mh5UIwp51mmM",
        "outputId": "5eea21f0-5341-4a16-c6fc-d59b4b409bf1"
      },
      "execution_count": 47,
      "outputs": [
        {
          "output_type": "stream",
          "name": "stderr",
          "text": [
            "WARNING:rpy2.rinterface_lib.callbacks:R[write to console]: \n",
            "Preliminary checks passed. \n",
            "\n",
            "WARNING:rpy2.rinterface_lib.callbacks:R[write to console]: Fitting a lasso and gam loop ... \n",
            "\n",
            "\n"
          ]
        }
      ]
    },
    {
      "cell_type": "code",
      "source": [
        "%%R\n",
        "# Print the summary of the model\n",
        "summary(pfit)"
      ],
      "metadata": {
        "colab": {
          "base_uri": "https://localhost:8080/"
        },
        "id": "1AFxqDDl1xrm",
        "outputId": "854cd5a7-a3af-4470-8407-acfc464f87a2"
      },
      "execution_count": 48,
      "outputs": [
        {
          "output_type": "stream",
          "name": "stdout",
          "text": [
            "$lasso\n",
            "5 x 1 sparse Matrix of class \"dgCMatrix\"\n",
            "                        s1\n",
            "(Intercept)    .          \n",
            "age           -0.009979784\n",
            "yearsmarried   0.080983503\n",
            "religiousness -0.349903533\n",
            "rating        -0.323334349\n",
            "\n",
            "$gam\n",
            "\n",
            "Family: poisson \n",
            "Link function: log \n",
            "\n",
            "Formula:\n",
            "affairs ~ s(education, k = 5, bs = \"ts\") + s(occupation, k = 5, \n",
            "    bs = \"ts\")\n",
            "\n",
            "Parametric coefficients:\n",
            "            Estimate Std. Error z value Pr(>|z|)    \n",
            "(Intercept)  2.10242    0.04088   51.44   <2e-16 ***\n",
            "---\n",
            "Signif. codes:  0 ‘***’ 0.001 ‘**’ 0.01 ‘*’ 0.05 ‘.’ 0.1 ‘ ’ 1\n",
            "\n",
            "Approximate significance of smooth terms:\n",
            "                 edf Ref.df Chi.sq p-value    \n",
            "s(education)  3.9189      4 30.095 2.2e-06 ***\n",
            "s(occupation) 0.6572      4  1.861  0.0903 .  \n",
            "---\n",
            "Signif. codes:  0 ‘***’ 0.001 ‘**’ 0.01 ‘*’ 0.05 ‘.’ 0.1 ‘ ’ 1\n",
            "\n",
            "R-sq.(adj) =  0.125   Deviance explained = 2.05%\n",
            "UBRE = 2.8796  Scale est. = 1         n = 480\n",
            "\n"
          ]
        }
      ]
    },
    {
      "cell_type": "markdown",
      "source": [
        "The Generalized Additive Model (GAM) fitted using the `gamlasso()` function reveals insights into the factors influencing the number of affairs. The Lasso regularization identified significant linear effects for \"age\" (negative), \"yearsmarried\" (positive), \"religiousness\" (negative), and \"rating\" (negative). The intercept term is highly significant with an estimate of 2.10242 (p < 2e-16).\n",
        "\n",
        "The GAM component shows significant non-linear relationships for \"education\" (p = 2.2e-06) and a marginally significant effect for \"occupation\" (p = 0.0903). The model explains 12.5% of the variance in the number of affairs, with an adjusted R-squared of 0.125 and a deviance explained of 2.05%. These results indicate that while the model captures some of the variation in the response variable, there may be other unmeasured factors influencing the number of affairs."
      ],
      "metadata": {
        "id": "BGuoCpWd23lF"
      }
    },
    {
      "cell_type": "markdown",
      "source": [
        "#### Prediction on test Data"
      ],
      "metadata": {
        "id": "nUlynrbL11SI"
      }
    },
    {
      "cell_type": "code",
      "source": [
        "%%R\n",
        "# Make predictions on the test data\n",
        "testData$preds <- predict(pfit, newdata = testData, type = \"response\")\n",
        "# Model performance metrics\n",
        "calculate_metrics(testData$affairs, testData$preds)"
      ],
      "metadata": {
        "id": "rl-ayflL10l2"
      },
      "execution_count": null,
      "outputs": []
    },
    {
      "cell_type": "markdown",
      "source": [
        "## References\n",
        "\n",
        "1. [The plsmselect package](https://cran.r-project.org/web/packages/plsmselect/vignettes/plsmselect.html)\n",
        "\n",
        "2.  [gamsel](https://cran.r-project.org/web/packages/gamsel/gamsel.pdf )\n",
        "\n",
        "3. [Regularization Paths for Regression Models with Grouped Covariates](https://pbreheny.github.io/grpreg/)\n",
        "\n",
        "\n"
      ],
      "metadata": {
        "id": "bLeAMiRQG59v"
      }
    }
  ]
}