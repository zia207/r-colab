{
  "nbformat": 4,
  "nbformat_minor": 0,
  "metadata": {
    "colab": {
      "provenance": [],
      "toc_visible": true,
      "authorship_tag": "ABX9TyOS7LA6t59qVzMy1/1mS0W+",
      "include_colab_link": true
    },
    "kernelspec": {
      "name": "python3",
      "display_name": "Python 3"
    },
    "language_info": {
      "name": "python"
    }
  },
  "cells": [
    {
      "cell_type": "markdown",
      "metadata": {
        "id": "view-in-github",
        "colab_type": "text"
      },
      "source": [
        "<a href=\"https://colab.research.google.com/github/zia207/r-colab/blob/main/NoteBook/Advance_Regression/02-03-01-non-linear-humped-r.ipynb\" target=\"_parent\"><img src=\"https://colab.research.google.com/assets/colab-badge.svg\" alt=\"Open In Colab\"/></a>"
      ]
    },
    {
      "cell_type": "markdown",
      "source": [
        "![alt text](http://drive.google.com/uc?export=view&id=1bLQ3nhDbZrCCqy_WCxxckOne2lgVvn3l)"
      ],
      "metadata": {
        "id": "4qrItz_mJNWw"
      }
    },
    {
      "cell_type": "markdown",
      "source": [
        "# 1. Humped Curves\n",
        "\n",
        "Humped curves, also known as unimodal curves, are characterized by a single peak or \"hump\" and are commonly used to describe phenomena where a variable increases to a maximum point and then decreases. These types of curves are often found in various fields such as biology, economics, and environmental science.\n",
        "\n",
        "Some common types of humped curves include:\n",
        "\n",
        "1.  **Gaussian (Normal) Distribution**: A symmetric bell-shaped curve that is widely used in statistics to represent the distribution of a set of data.\n",
        "\n",
        "2.  **Log-Normal Distribution**: A distribution of a random variable whose logarithm is normally distributed, often used in finance and environmental studies.\n",
        "\n",
        "3.  **Beta Distribution**: A family of continuous probability distributions defined on the interval \\[0, 1\\], often used to model random variables that are constrained within a fixed range.\n",
        "\n",
        "4.  **Ricker Curve**: A population growth model used in ecology to describe the growth of populations, characterized by rapid growth followed by a decline as the population approaches a carrying capacity.\n",
        "\n",
        "5.  **First-order Compartment**: A model in pharmacokinetics where the rate of change of drug concentration is proportional to the concentration of the drug.\n",
        "\n",
        "6.  **Biexponential Humped Curves**: A curve with two exponential terms that describe a rapid initial decline followed by a slower decline.\n",
        "\n"
      ],
      "metadata": {
        "id": "Dzp9ZseROTcY"
      }
    },
    {
      "cell_type": "markdown",
      "source": [
        "### Install rpy2"
      ],
      "metadata": {
        "id": "SDp3ULld8Gb9"
      }
    },
    {
      "cell_type": "code",
      "source": [
        "!pip uninstall rpy2 -y\n",
        "!pip install rpy2==3.5.1\n",
        "%load_ext rpy2.ipython"
      ],
      "metadata": {
        "id": "CiM6y-Mw8AJp",
        "colab": {
          "base_uri": "https://localhost:8080/"
        },
        "outputId": "4d0b182f-fcf4-4202-e63a-7bdc8895d50f"
      },
      "execution_count": 1,
      "outputs": [
        {
          "output_type": "stream",
          "name": "stdout",
          "text": [
            "Found existing installation: rpy2 3.4.2\n",
            "Uninstalling rpy2-3.4.2:\n",
            "  Successfully uninstalled rpy2-3.4.2\n",
            "Collecting rpy2==3.5.1\n",
            "  Downloading rpy2-3.5.1.tar.gz (201 kB)\n",
            "\u001b[2K     \u001b[90m━━━━━━━━━━━━━━━━━━━━━━━━━━━━━━━━━━━━━━━━\u001b[0m \u001b[32m201.7/201.7 kB\u001b[0m \u001b[31m5.0 MB/s\u001b[0m eta \u001b[36m0:00:00\u001b[0m\n",
            "\u001b[?25h  Preparing metadata (setup.py) ... \u001b[?25l\u001b[?25hdone\n",
            "Requirement already satisfied: cffi>=1.10.0 in /usr/local/lib/python3.11/dist-packages (from rpy2==3.5.1) (1.17.1)\n",
            "Requirement already satisfied: jinja2 in /usr/local/lib/python3.11/dist-packages (from rpy2==3.5.1) (3.1.5)\n",
            "Requirement already satisfied: pytz in /usr/local/lib/python3.11/dist-packages (from rpy2==3.5.1) (2025.1)\n",
            "Requirement already satisfied: tzlocal in /usr/local/lib/python3.11/dist-packages (from rpy2==3.5.1) (5.2)\n",
            "Requirement already satisfied: pycparser in /usr/local/lib/python3.11/dist-packages (from cffi>=1.10.0->rpy2==3.5.1) (2.22)\n",
            "Requirement already satisfied: MarkupSafe>=2.0 in /usr/local/lib/python3.11/dist-packages (from jinja2->rpy2==3.5.1) (3.0.2)\n",
            "Building wheels for collected packages: rpy2\n",
            "  Building wheel for rpy2 (setup.py) ... \u001b[?25l\u001b[?25hdone\n",
            "  Created wheel for rpy2: filename=rpy2-3.5.1-cp311-cp311-linux_x86_64.whl size=314977 sha256=a97c16cab1d3044c71e74a78de1129c39c67ea22d7a390d0115f3174bb088b62\n",
            "  Stored in directory: /root/.cache/pip/wheels/e9/55/d1/47be85a5f3f1e1f4d1e91cb5e3a4dcb40dd72147f184c5a5ef\n",
            "Successfully built rpy2\n",
            "Installing collected packages: rpy2\n",
            "Successfully installed rpy2-3.5.1\n"
          ]
        }
      ]
    },
    {
      "cell_type": "markdown",
      "source": [
        "### Mount Google Drive"
      ],
      "metadata": {
        "id": "O1zeuaCowiBt"
      }
    },
    {
      "cell_type": "code",
      "source": [
        "from google.colab import drive\n",
        "drive.mount('/content/drive')"
      ],
      "metadata": {
        "colab": {
          "base_uri": "https://localhost:8080/"
        },
        "id": "9J-4ie4bwiJ1",
        "outputId": "58c605d7-3038-4971-90a2-86455aa787a0"
      },
      "execution_count": 2,
      "outputs": [
        {
          "output_type": "stream",
          "name": "stdout",
          "text": [
            "Mounted at /content/drive\n"
          ]
        }
      ]
    },
    {
      "cell_type": "markdown",
      "source": [
        "## Fit Different types of Humped Curves in R\n",
        "\n",
        "We will fit different humped curves to a sample dataset in R using the `fitdistrplus` package. The `fitdistrplus` package provides functions to fit various probability distributions to data and estimate the parameters of the distributions."
      ],
      "metadata": {
        "id": "Undm9qzK3dEj"
      }
    },
    {
      "cell_type": "markdown",
      "source": [
        "### Install Rrequired R Packages"
      ],
      "metadata": {
        "id": "yXu-XY0mw1A8"
      }
    },
    {
      "cell_type": "code",
      "source": [
        "%%R\n",
        "packages <- c(\n",
        "  \"tidyverse\",    # Includes readr, dplyr, ggplot2, etc.\n",
        "  'fitdistrplus', # Fit distributions\n",
        "  'minpack.lm'    # Levenberg-Marquardt algorithm\n",
        ")\n"
      ],
      "metadata": {
        "id": "TeYB57l0wz5N"
      },
      "execution_count": 3,
      "outputs": []
    },
    {
      "cell_type": "code",
      "source": [
        "%%R\n",
        "# Install missing packages\n",
        "new.packages <- packages[!(packages %in% installed.packages(lib='drive/My Drive/R/')[,\"Package\"])]\n",
        "if(length(new.packages)) install.packages(new.packages, lib='drive/My Drive/R/')"
      ],
      "metadata": {
        "id": "J3nWFZpl-sr-"
      },
      "execution_count": null,
      "outputs": []
    },
    {
      "cell_type": "code",
      "source": [
        "%%R\n",
        "# set library path\n",
        ".libPaths('drive/My Drive/R')\n",
        "# Verify installation\n",
        "cat(\"Installed packages:\\n\")\n",
        "print(sapply(packages, requireNamespace, quietly = TRUE))"
      ],
      "metadata": {
        "colab": {
          "base_uri": "https://localhost:8080/"
        },
        "id": "-jv6EE7Z-sx-",
        "outputId": "402c8ac4-b048-4c67-b6c2-49291f57c8f6"
      },
      "execution_count": 5,
      "outputs": [
        {
          "output_type": "stream",
          "name": "stdout",
          "text": [
            "Installed packages:\n",
            "   tidyverse fitdistrplus   minpack.lm \n",
            "        TRUE         TRUE         TRUE \n"
          ]
        }
      ]
    },
    {
      "cell_type": "markdown",
      "source": [
        "### Load R Packages"
      ],
      "metadata": {
        "id": "MV7R29xfyWQz"
      }
    },
    {
      "cell_type": "code",
      "source": [
        "%%R\n",
        "# set library path\n",
        ".libPaths('drive/My Drive/R')\n",
        "# Load packages with suppressed messages\n",
        "invisible(lapply(packages, function(pkg) {\n",
        "  suppressPackageStartupMessages(library(pkg, character.only = TRUE))\n",
        "}))\n",
        "# Check loaded packages\n",
        "cat(\"Successfully loaded packages:\\n\")\n",
        "print(search()[grepl(\"package:\", search())])# Check loaded packages\n"
      ],
      "metadata": {
        "id": "232jNAHBykUL",
        "colab": {
          "base_uri": "https://localhost:8080/"
        },
        "outputId": "98f7db5f-a93f-46e2-95d0-42c41a003a51"
      },
      "execution_count": 6,
      "outputs": [
        {
          "output_type": "stream",
          "name": "stdout",
          "text": [
            "Successfully loaded packages:\n",
            " [1] \"package:minpack.lm\"   \"package:fitdistrplus\" \"package:survival\"    \n",
            " [4] \"package:MASS\"         \"package:lubridate\"    \"package:forcats\"     \n",
            " [7] \"package:stringr\"      \"package:dplyr\"        \"package:purrr\"       \n",
            "[10] \"package:readr\"        \"package:tidyr\"        \"package:tibble\"      \n",
            "[13] \"package:ggplot2\"      \"package:tidyverse\"    \"package:tools\"       \n",
            "[16] \"package:stats\"        \"package:graphics\"     \"package:grDevices\"   \n",
            "[19] \"package:utils\"        \"package:datasets\"     \"package:methods\"     \n",
            "[22] \"package:base\"        \n"
          ]
        }
      ]
    },
    {
      "cell_type": "markdown",
      "source": [
        "### Gaussian (Normal) Curve\n",
        "\n",
        "The Gaussian or Normal distribution is one of the most commonly used probability distributions in statistics. It is characterized by its symmetric bell-shaped curve and is defined by two parameters: the mean ($\\mu$) and the standard deviation ($\\sigma$). The probability density function (PDF) of the Gaussian distribution is given by:\n",
        "\n",
        "$$ f(x) = \\frac{1}{\\sqrt{2 \\pi \\sigma^2}} \\exp\\left(-\\frac{(x - \\mu)^2}{2 \\sigma^2}\\right) $$\n",
        "\n",
        "Where:\n",
        "\n",
        "-   $x$ is the variable.\n",
        "-   $\\mu$ is the mean of the distribution.\n",
        "-   $\\sigma$ is the standard deviation of the distribution.\n",
        "-   $\\exp$ denotes the exponential function.\n",
        "\n",
        "\n",
        "***Properties of the Gaussian Distribution**:\n",
        "\n",
        "1.  **Symmetry**: The distribution is symmetric around the mean.\n",
        "2.  **Mean, Median, Mode**: For a normal distribution, the mean, median, and mode are all equal.\n",
        "3.  **68-95-99.7 Rule**: Approximately 68% of the data falls within one standard deviation of the mean, 95% within two standard deviations, and 99.7% within three standard deviations.\n",
        "\n",
        "**Applications of the Gaussian Distribution**\n",
        "\n",
        "1.  **Statistical Analysis**: Used in hypothesis testing, confidence intervals, and regression analysis.\n",
        "2.  **Natural Phenomena**: Models natural phenomena such as heights, blood pressure, and test scores.\n",
        "3.  **Finance**: Used in stock price modeling and risk assessment.\n",
        "4.  **Quality Control**: Applied in processes to monitor and control variations."
      ],
      "metadata": {
        "id": "UdMcXPIF4Bly"
      }
    },
    {
      "cell_type": "code",
      "source": [
        "%%R -w 500 -h 400 -u px\n",
        "# Generate synthetic data from a normal distribution\n",
        "set.seed(123)\n",
        "mu <- 0    # mean\n",
        "sigma <- 1 # standard deviation\n",
        "data <- rnorm(1000, mean = mu, sd = sigma)\n",
        "\n",
        "# Create a data frame\n",
        "df <- data.frame(x = data)\n",
        "\n",
        "# Fit the Gaussian model to the data\n",
        "fit <- fitdistrplus::fitdist(data, \"norm\")\n",
        "\n",
        "# Get the summary of the fit\n",
        "summary(fit)\n",
        "\n",
        "# Plot the original data and the fitted Gaussian distribution\n",
        "ggplot(df, aes(x = x)) +\n",
        "  geom_histogram(aes(y = ..density..), bins = 30, color = \"black\", fill = \"white\") +\n",
        "  stat_function(fun = dnorm, args = list(mean = fit$estimate[1], sd = fit$estimate[2]),\n",
        "                color = \"red\", size = 1.2) +\n",
        "  ggtitle(\"Gaussian (Normal) Distribution Fit\") +\n",
        "  xlab(\"x\") + ylab(\"Density\") +\n",
        "  theme_minimal()"
      ],
      "metadata": {
        "id": "q82MNCn64Q0w",
        "colab": {
          "base_uri": "https://localhost:8080/",
          "height": 417
        },
        "outputId": "a8bfd69d-c331-4114-f301-834dc0c87a87"
      },
      "execution_count": 13,
      "outputs": [
        {
          "output_type": "display_data",
          "data": {
            "image/png": "[encoded data removed]"
          },
          "metadata": {}
        }
      ]
    },
    {
      "cell_type": "markdown",
      "source": [
        "### Log-Normal Distribution\n",
        "\n",
        "The log-normal distribution is a continuous probability distribution of a random variable whose logarithm is normally distributed. In other words, if $X$ is a random variable that is log-normally distributed, then $\\log(X)$ follows a normal distribution.\n",
        "\n",
        "**Probability Density Function (PDF)**\n",
        "\n",
        "The probability density function (PDF) of a log-normal distribution is given by:\n",
        "\n",
        "$$ f(x; \\mu, \\sigma) = \\frac{1}{x \\sigma \\sqrt{2\\pi}} \\exp\\left(-\\frac{(\\log(x) - \\mu)^2}{2\\sigma^2}\\right) $$\n",
        "\n",
        "Where: - $x > 0$ - $\\mu$ is the mean of the logarithm of the variable. - $\\sigma$ is the standard deviation of the logarithm of the variable. - $\\exp$ denotes the exponential function.\n",
        "\n",
        "**Properties of the Log-Normal Distribution**\n",
        "\n",
        "1.  **Positivity**: The log-normal distribution is defined only for positive values of $x$.\n",
        "2.  **Skewness**: The distribution is positively skewed (right-skewed).\n",
        "3.  **Mean and Variance**:\n",
        "    -   Mean: $\\exp(\\mu + \\sigma^2 / 2)$\n",
        "    -   Variance: $(\\exp(\\sigma^2) - 1) \\exp(2\\mu + \\sigma^2)$\n",
        "\n",
        "**Applications of the Log-Normal Distribution**\n",
        "\n",
        "1.  **Finance**: Used to model stock prices and financial returns.\n",
        "2.  **Environmental Studies**: Applied in modeling the distribution of pollutant concentrations.\n",
        "3.  **Biology**: Used to describe the distribution of sizes of living organisms.\n",
        "4.  **Reliability Engineering**: Models the time to failure of products.\n"
      ],
      "metadata": {
        "id": "rSJqB05rO5ES"
      }
    },
    {
      "cell_type": "code",
      "execution_count": 14,
      "metadata": {
        "colab": {
          "base_uri": "https://localhost:8080/",
          "height": 417
        },
        "id": "CFpt_H01OPsa",
        "outputId": "e2f08bfa-b42b-4899-de8a-4aa87123054c"
      },
      "outputs": [
        {
          "output_type": "display_data",
          "data": {
            "image/png": "[encoded data removed]"
          },
          "metadata": {}
        }
      ],
      "source": [
        "%%R -w 500 -h 400 -u px\n",
        "# Generate synthetic data from a log-normal distribution\n",
        "set.seed(123)\n",
        "meanlog <- 0    # mean of the logarithm\n",
        "sdlog <- 1      # standard deviation of the logarithm\n",
        "data <- rlnorm(1000, meanlog = meanlog, sdlog = sdlog)\n",
        "\n",
        "# Create a data frame\n",
        "df <- data.frame(x = data)\n",
        "\n",
        "# Fit the log-normal model to the data\n",
        "fit <- fitdistrplus::fitdist(data, \"lnorm\")\n",
        "\n",
        "# Get the summary of the fit\n",
        "summary(fit)\n",
        "\n",
        "# Plot the original data and the fitted log-normal distribution\n",
        "ggplot(df, aes(x = x)) +\n",
        "  geom_histogram(aes(y = ..density..), bins = 30, color = \"black\", fill = \"white\") +\n",
        "  stat_function(fun = dlnorm, args = list(meanlog = fit$estimate[1], sdlog = fit$estimate[2]),\n",
        "                color = \"red\", size = 1.2) +\n",
        "  ggtitle(\"Log-Normal Distribution Fit\") +\n",
        "  xlab(\"x\") + ylab(\"Density\") +\n",
        "  theme_minimal()"
      ]
    },
    {
      "cell_type": "markdown",
      "source": [
        "### Beta Distribution\n",
        "\n",
        "The Beta distribution is a continuous probability distribution defined on the interval $[0, 1]$. It is parameterized by two positive shape parameters, $\\alpha$ (alpha) and $\\beta$ (beta), which determine the shape of the distribution.\n",
        "\n",
        "**Probability Density Function (PDF)**\n",
        "\n",
        "The probability density function (PDF) of the Beta distribution is given by:\n",
        "\n",
        "$$ f(x; \\alpha, \\beta) = \\frac{x^{\\alpha - 1} (1 - x)^{\\beta - 1}}{B(\\alpha, \\beta)} $$\n",
        "\n",
        "\n",
        "Where:\n",
        "\n",
        "- $x$ is the variable, and $0 \\leq x \\leq 1$.\n",
        "\n",
        "- \\$\\alpha \\> 0 is the first shape parameter.\n",
        "\n",
        "3- $\\beta > 0$ is the second shape parameter.\n",
        "\n",
        "- $B(\\alpha, \\beta)$ is the Beta function, defined as:\n",
        "\n",
        "$$ B(\\alpha, \\beta) = \\int_0^1 t^{\\alpha - 1} (1 - t)^{\\beta - 1} \\, dt $$\n",
        "\n",
        "**Properties of the Beta Distribution**\n",
        "\n",
        "1.  **Support**: The Beta distribution is defined on the interval $[0, 1]$.\n",
        "2.  **Shape Flexibility**: By varying $\\alpha$ and $\\beta$, the Beta distribution can take on a wide variety of shapes.\n",
        "3.  **Mean and Variance**:\n",
        "    -   Mean: $\\frac{\\alpha}{\\alpha + \\beta}$)\n",
        "    -   Variance: $\\frac{\\alpha \\beta}{(\\alpha + \\beta)^2 (\\alpha + \\beta + 1)}$\n",
        "\n",
        "**Applications of the Beta Distribution**\n",
        "\n",
        "1.  **Bayesian Statistics**: Used as a prior distribution for binomial proportions.\n",
        "2.  **Project Management**: Applied in PERT (Program Evaluation and Review Technique) for modeling task completion times.\n",
        "3.  **Biology**: Models the distribution of allele frequencies in populations.\n",
        "4.  **Quality Control**: Used to model the proportion of defective items in a batch."
      ],
      "metadata": {
        "id": "I8dFM0UCCpWO"
      }
    },
    {
      "cell_type": "code",
      "source": [
        "%%R -w 500 -h 400 -u px\n",
        "# Generate synthetic data from a beta distribution\n",
        "set.seed(123)\n",
        "shape1 <- 2    # alpha\n",
        "shape2 <- 5    # beta\n",
        "data <- rbeta(1000, shape1 = shape1, shape2 = shape2)\n",
        "\n",
        "# Create a data frame\n",
        "df <- data.frame(x = data)\n",
        "\n",
        "# Fit the beta model to the data\n",
        "fit <- fitdistrplus::fitdist(data, \"beta\", start = list(shape1 = 1, shape2 = 1))\n",
        "\n",
        "# Get the summary of the fit\n",
        "summary(fit)\n",
        "\n",
        "# Plot the original data and the fitted beta distribution\n",
        "ggplot(df, aes(x = x)) +\n",
        "  geom_histogram(aes(y = ..density..), bins = 30, color = \"black\", fill = \"white\") +\n",
        "  stat_function(fun = dbeta, args = list(shape1 = fit$estimate[1], shape2 = fit$estimate[2]),\n",
        "                color = \"red\", size = 1.2) +\n",
        "  ggtitle(\"Beta Distribution Fit\") +\n",
        "  xlab(\"x\") + ylab(\"Density\") +\n",
        "  theme_minimal()"
      ],
      "metadata": {
        "colab": {
          "base_uri": "https://localhost:8080/",
          "height": 417
        },
        "id": "MmtJFmCMCpig",
        "outputId": "aca59329-6916-40bb-cce6-777c14a20784"
      },
      "execution_count": 15,
      "outputs": [
        {
          "output_type": "display_data",
          "data": {
            "image/png": "[encoded data removed]"
          },
          "metadata": {}
        }
      ]
    },
    {
      "cell_type": "markdown",
      "source": [
        "### Exponential Ricker Curve\n",
        "\n",
        "The Ricker curve is used in population dynamics and is named after the Canadian biologist William Ricker. The Ricker curve describes how a population grows rapidly when it is small and slows as it approaches the carrying capacity. It is represented by the equation:\n",
        "\n",
        "$$ N_{t+1} = N_t e^{r(1 - \\frac{N_t}{K})} $$\n",
        "\n",
        "\n",
        "Where:\n",
        "\n",
        "- $N_t$ is the population size at time $t$.\n",
        "\n",
        "- $r$ is the intrinsic growth rate.\n",
        "\n",
        "- $K$ is the carrying capacity of the environment.\n",
        "\n",
        "The Ricker model is a classic example of a discrete-time population model used in ecology to describe the growth of populations. It captures the idea that populations grow rapidly when they are small and slow down as they approach a carrying capacity. The mathematical formulation of the Ricker model is as follows:\n",
        "\n",
        "1.  **Population Size** $N_t$:\n",
        "    -   This represents the population size at the current time step $t$.\n",
        "2.  **Exponential Growth Term** $e^{r(1 - \\frac{N_t}{K})}$:\n",
        "    -   $r$ (intrinsic growth rate) determines how fast the population grows when it is far from the carrying capacity.\n",
        "    -   $\\frac{N_t}{K}$ is the ratio of the current population size to the carrying capacity.\n",
        "    -   $1 - \\frac{N_t}{K}$ represents the effect of density dependence, which slows down growth as the population size increases.\n",
        "\n",
        "**Interpretation**\n",
        "\n",
        "-   When the population size $N_t$ is much smaller than the carrying capacity $K$, the term $( 1 - \\frac{N_t}{K}$\\$ is close to 1, and the population grows approximately exponentially.\n",
        "-   As $N_t$ approaches $K$, the term $1 - \\frac{N_t}{K}$ approaches 0, slowing the growth rate.\n",
        "-   If $N_t$ exceeds $K$, the term $1 - \\frac{N_t}{K}$ becomes negative, leading to a decrease in the population size.\n",
        "\n",
        "Let's implement the Ricker model in R and visualize the population growth over time. We will simulate the population dynamics using the Ricker curve and plot the population size over time.\n",
        "\n"
      ],
      "metadata": {
        "id": "ywBn8ahFCwkx"
      }
    },
    {
      "cell_type": "code",
      "source": [
        "%%R\n",
        "##Ricker Curve\n",
        "ricker_curve <- function(t, r = 1.5, K = 100, N0 = 10) {\n",
        "  N <- numeric(length(t))\n",
        "  N[1] <- N0\n",
        "  for (i in 2:length(t)) {\n",
        "    N[i] <- N[i-1] * exp(r * (1 - N[i-1] / K))\n",
        "  }\n",
        "  return(N)\n",
        "}\n",
        "\n",
        "t_seq <- seq(0, 20, by = 1)\n",
        "N_values <- ricker_curve(t_seq)\n",
        "N_values"
      ],
      "metadata": {
        "id": "s-r2_LWcCxMz",
        "colab": {
          "base_uri": "https://localhost:8080/"
        },
        "outputId": "4fd818f4-15c4-47e6-927b-9aee055cb986"
      },
      "execution_count": 16,
      "outputs": [
        {
          "output_type": "stream",
          "name": "stdout",
          "text": [
            " [1]  10.00000  38.57426  96.92827 101.49882  99.24235 100.37665  99.81115\n",
            " [8] 100.09429  99.95282 100.02358  99.98821 100.00590  99.99705 100.00147\n",
            "[15]  99.99926 100.00037  99.99982 100.00009  99.99995 100.00002  99.99999\n"
          ]
        }
      ]
    },
    {
      "cell_type": "code",
      "source": [
        "%%R -w 500 -h 400 -u px\n",
        "# plot the Ricker curve\n",
        "df_ricker <- data.frame(t = t_seq, N = N_values)\n",
        "ggplot(df_ricker, aes(x = t, y = N)) +\n",
        "  geom_line(color = \"blue\") +\n",
        "  labs(title = \"Ricker Curve\", x = \"Time\", y = \"Population Size\")"
      ],
      "metadata": {
        "colab": {
          "base_uri": "https://localhost:8080/",
          "height": 417
        },
        "id": "iok9q2ND8uLM",
        "outputId": "f5d89884-7ef7-4746-b924-50d0ca392ec2"
      },
      "execution_count": 17,
      "outputs": [
        {
          "output_type": "display_data",
          "data": {
            "image/png": "[encoded data removed]"
          },
          "metadata": {}
        }
      ]
    },
    {
      "cell_type": "markdown",
      "source": [
        "### First-order Compartment\n",
        "\n",
        "In pharmacokinetics, a first-order compartment refers to a model where the rate of change of the drug concentration in the compartment is proportional to the concentration of the drug. This is described by the equation:\n",
        "\n",
        "$$ \\frac{dC}{dt} = -kC $$#### Create x and y\n",
        "\n",
        "Where:\n",
        "- $C$ is the concentration of the drug\n",
        "- $k$ is the first-order rate constant\n",
        "\n",
        "This model assumes that the drug is uniformly distributed within the compartment and that the rate of elimination or absorption follows first-order kinetics.\n",
        "\n",
        "Lest fit the first-order compartment model to a sample dataset in R:\n"
      ],
      "metadata": {
        "id": "UUPhHm3eC1Ok"
      }
    },
    {
      "cell_type": "code",
      "source": [
        "%%R -w 500 -h 400 -u px\n",
        "# 2. First-Order Compartment Model\n",
        "first_order_comp <- function(t, C0 = 100, k = 0.2) {\n",
        "  return(C0 * exp(-k * t))\n",
        "}\n",
        "\n",
        "t_seq <- seq(0, 50, by = 1)\n",
        "C_values <- first_order_comp(t_seq)\n",
        "\n",
        "df_first_order <- data.frame(t = t_seq, C = C_values)\n",
        "ggplot(df_first_order, aes(x = t, y = C)) +\n",
        "  geom_line(color = \"red\") +\n",
        "  labs(title = \"First-Order Compartment Model\", x = \"Time\", y = \"Concentration\")"
      ],
      "metadata": {
        "id": "bWMJXUWxC31w",
        "colab": {
          "base_uri": "https://localhost:8080/",
          "height": 417
        },
        "outputId": "fe4cc214-406a-4da4-830d-8e47543b8889"
      },
      "execution_count": 18,
      "outputs": [
        {
          "output_type": "display_data",
          "data": {
            "image/png": "[encoded data removed]"
          },
          "metadata": {}
        }
      ]
    },
    {
      "cell_type": "markdown",
      "source": [
        "### Biexponential Humped Curves\n",
        "\n",
        "Biexponential humped curves are used to describe pharmacokinetic profiles where the concentration-time data show two phases: a rapid initial decline followed by a slower decline. This can be modeled using a biexponential equation:\n",
        "\n",
        "$$ C(t) = Ae^{-\\alpha t} + Be^{-\\beta t} $$\n",
        "\n",
        "Where:\n",
        "\n",
        "-   $C(t)$ is the concentration of the drug at time $t$\n",
        "-   $A$ and $B$ are coefficients\n",
        "-   $\\alpha$ and $\\beta$ are rate constants for the two phases\n",
        "\n",
        "The \"hump\" in the curve indicates a period where the concentration decreases more slowly after the initial rapid decline.  These concepts are fundamental in fields such as ecology, pharmacokinetics, and mathematical biology, providing insights into population dynamics, drug distribution, and elimination processes.\n",
        "\n",
        "Let's fit a biexponential humped curve to a sample dataset in R:"
      ],
      "metadata": {
        "id": "EcqUZt4cC5LI"
      }
    },
    {
      "cell_type": "code",
      "source": [
        "%%R -w 500 -h 400 -u px\n",
        "# 3. Biexponential Humped Curve\n",
        "biexponential_curve <- function(t, A = 100, B = 50, alpha = 0.1, beta = 0.05) {\n",
        "  return(A * exp(-alpha * t) - B * exp(-beta * t))\n",
        "}\n",
        "\n",
        "t_seq <- seq(0, 100, by = 1)\n",
        "C_values <- biexponential_curve(t_seq)\n",
        "\n",
        "df_biexp <- data.frame(t = t_seq, C = C_values)\n",
        "ggplot(df_biexp, aes(x = t, y = C)) +\n",
        "  geom_line(color = \"green\") +\n",
        "  labs(title = \"Biexponential Humped Curve\", x = \"Time\", y = \"Concentration\")"
      ],
      "metadata": {
        "id": "p_eUNGuwDNka",
        "colab": {
          "base_uri": "https://localhost:8080/",
          "height": 417
        },
        "outputId": "e1ae2209-dafd-4c7e-ad6e-7e8c6f3cd6e3"
      },
      "execution_count": 19,
      "outputs": [
        {
          "output_type": "display_data",
          "data": {
            "image/png": "[encoded data removed]"
          },
          "metadata": {}
        }
      ]
    },
    {
      "cell_type": "markdown",
      "source": [
        "\n",
        "## Summary and Conclusions\n",
        "\n",
        "In this notebook, we explored different types of humped curves and how to fit them to data in R using the `fitdistrplus` package. We covered the Gaussian (Normal) distribution, Log-Normal distribution, and Beta distribution, along with their properties and applications. Fitting probability distributions to data is a common task in statistics and data analysis, and it allows us to model and understand the underlying patterns in the data. We also discussed the Ricker curve, a population growth model used in ecology, and the first-order compartment model in pharmacokinetics.  By fitting humped curves to data, we can gain insights into the shape and characteristics of the data distribution, which can be useful for various analytical tasks.generalization performance.\n"
      ],
      "metadata": {
        "id": "nBHEkDLaG47z"
      }
    },
    {
      "cell_type": "markdown",
      "source": [
        "## References\n",
        "\n",
        "Here are some references on humped curves (specifically in the context of yield curves):\n",
        "\n",
        "1.  [Humped Yield Curve: What it Means, How it Works, Types - Investopedia](https://www.investopedia.com/terms/h/humped-yield-curve.asp)\n",
        "    -   This article explains what a humped yield curve is, how it works, and its different types.\n",
        "2.  [Humped Yield Curve: Meaning, Functionality, and Types (Algo Trading)](https://paperswithbacktest.com/wiki/humped-yield-curve-meaning-functionality-types)\n",
        "    -   This resource discusses the unique characteristics of humped yield curves and their implications for financial analysis.\n",
        "3.  [What Is a Humped Yield Curve? - Finance Strategists](https://www.financestrategists.com/wealth-management/investment-management/humped-yield-curve/)\n",
        "    -   This article describes the humped yield curve and its implications for the economy.\n",
        "4.  [Humped Yield Curve: Definition, Examples, and Implications](https://www.supermoney.com/encyclopedia/humped-yield-curve)\n",
        "    -   This resource provides a definition, examples, and the implications of a humped yield curve in the bond market.\n",
        "5. [Ricker model - Wikipedia](https://en.wikipedia.org/wiki/Ricker_model)\n",
        "6. [Ricker’s Population Model - LSU](https://www.math.lsu.edu/system/files/VK2%20Presentation.pdf)\n",
        "7. [Fast real-time biexponential curve fitting - ScienceDirect](https://www.sciencedirect.com/science/article/pii/0010480980900385)\n",
        "8. [Biexponential fitting (non-linear regression) on Matlab](https://www.mathworks.com/matlabcentral/answers/331245-biexponential-fitting-non-linear-regression-on-matlab)\n"
      ],
      "metadata": {
        "id": "bLeAMiRQG59v"
      }
    }
  ]
}