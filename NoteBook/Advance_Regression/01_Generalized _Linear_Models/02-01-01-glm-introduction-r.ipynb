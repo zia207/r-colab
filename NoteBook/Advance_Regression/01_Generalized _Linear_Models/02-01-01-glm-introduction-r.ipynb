{
  "cells": [
    {
      "cell_type": "markdown",
      "metadata": {
        "id": "view-in-github",
        "colab_type": "text"
      },
      "source": [
        "<a href=\"https://colab.research.google.com/github/zia207/r-colab/blob/main/NoteBook/Advance_Regression/02-01-01-glm-introduction-r.ipynb\" target=\"_parent\"><img src=\"https://colab.research.google.com/assets/colab-badge.svg\" alt=\"Open In Colab\"/></a>"
      ]
    },
    {
      "cell_type": "markdown",
      "metadata": {
        "id": "KsBkpmP_qjLM"
      },
      "source": [
        "![alt text](http://drive.google.com/uc?export=view&id=1bLQ3nhDbZrCCqy_WCxxckOne2lgVvn3l)"
      ]
    },
    {
      "cell_type": "markdown",
      "metadata": {
        "id": "Dzp9ZseROTcY"
      },
      "source": [
        "#  1. Introduction to Generalized Linear Model\n",
        "\n",
        "\n",
        "\n"
      ]
    },
    {
      "cell_type": "markdown",
      "source": [
        "## Table of Content\n",
        "\n",
        "1. [Introduction to Generalized Linear Model](https://github.com/zia207/r-colab/blob/main/NoteBook/Advance_Regression/02-01-01-glm-introduction-r.ipynb)\n",
        "2. [Generalized Linear Regression Model (Gaussian)](https://github.com/zia207/r-colab/blob/main/NoteBook/Advance_Regression/02-01-02-glm-regression-r.ipynb)\n",
        "3. [Logistic Regression Model (Binary)](https://github.com/zia207/r-colab/blob/main/NoteBook/Advance_Regression/02-01-03-glm-logistic-r.ipynb)\n",
        "4. [Probit Regression Model](https://github.com/zia207/r-colab/blob/main/NoteBook/Advance_Regression/02-01-04-glm-probit-r.ipynb)\n",
        "5. [Ordinal Regression Model](https://github.com/zia207/r-colab/blob/main/NoteBook/Advance_Regression/02-01-05-glm-ordinal-r.ipynb)\n",
        "6. [Multinomial Logistic Regression](https://github.com/zia207/r-colab/blob/main/NoteBook/Advance_Regression/02-01-06-glm-multinomial-logistic-r.ipynb)\n",
        "7. [Gamma Regression](https://github.com/zia207/r-colab/blob/main/NoteBook/Advance_Regression/02-01-07-glm-gamma-regression-r.ipynb)\n",
        "\n"
      ],
      "metadata": {
        "id": "8GZU1GlM23ig"
      }
    },
    {
      "cell_type": "markdown",
      "metadata": {
        "id": "h0FPXx8mGylY"
      },
      "source": [
        "\n",
        "The Generalized Linear Model (GLM) is a sophisticated extension of linear regression designed to model relationships between a dependent variable and independent variables when the underlying assumptions of linear regression are unmet. The GLM was first introduced by Sir John Nelder and Robert Wedderburn, both acclaimed statisticians, in 1972.\n",
        "\n",
        "The GLM is an essential tool in modern data analysis, as it can be used to model a wide range of data types that may not conform to the assumptions of traditional linear regression. It allows for modeling non-normal distributions, non-linear relationships, and correlations between observations. By utilizing **maximum likelihood estimation (MLE)**, the GLM can also handle missing data and provide accurate estimates even when some observations are missing. This makes it a valuable tool in business and academia, where the ability to model complex relationships accurately is essential.\n",
        "\n",
        "In conclusion, the GLM is a powerful and flexible tool integral to modern data analysis. Its ability to model complex relationships between variables and handle missing data has made it a valuable asset in business and academia.\n",
        "\n",
        "**Maximum Likelihood Estimation (MLE)** is a statistical technique used to estimate the parameters of a model by analyzing the observed data. This method involves finding the optimal values for the model parameters by maximizing the likelihood function. The likelihood function measures how well the model can explain the observed data. The higher the likelihood function, the more accurate the model explains the data. MLE is widely used in fields such as finance, economics, and engineering to create models that can predict future outcomes based on the available data.\n",
        "\n",
        "\n",
        "### Key features of Generalized Linear Models:\n",
        "\n",
        "1.  **Link Function:** GLMs are characterized by a **link function** that connects the linear predictor, a combination of independent variables, to the mean of the dependent variable. This connection enables the estimation of the relationship between independent and dependent variables in a non-linear fashion.\n",
        "\n",
        "The selection of a link function in GLMs is contingent upon the nature of the data and the distribution of the response variable. The `identity` link function is utilized when the continuous response variable follows a normal distribution. The `logit` link function is employed when the response variable is binary, meaning it can only take on two values and follows a binomial distribution. The `log` link function is utilized when the response variable is count data and follows a Poisson distribution.\n",
        "\n",
        "Choosing an appropriate link function is a crucial aspect of modeling, as it impacts the interpretation of the estimated coefficients for independent variables. Therefore, a thorough understanding of the nature of the data and the response variable's distribution is necessary when selecting a link function.\n",
        "\n",
        "2.  **Distribution Family:** Unlike linear regression, which assumes a normal distribution for the residuals, GLMs allow for a variety of probability distributions for the response variable. The choice of distribution is based on the characteristics of the data. Commonly used distributions include:\n",
        "\n",
        "    -   **Normal distribution (Gaussian):** For continuous data.\n",
        "\n",
        "    -   **Binomial distribution:** For binary or dichotomous data.\n",
        "\n",
        "    -   **Poisson distribution:** For count data.\n",
        "\n",
        "    -   **Gamma distribution:** For continuous, positive, skewed data.\n",
        "\n",
        "3.  **Variance Function:** GLMs accommodate heteroscedasticity (unequal variances across levels of the independent variables) by allowing the variance of the response variable to be a function of the mean.\n",
        "\n",
        "4.  **Deviance:** Instead of using the sum of squared residuals as in linear regression, GLMs use deviance to measure lack of fit. Deviance compares the fit of the model to a saturated model (a model that perfectly fits the data).\n",
        "\n",
        "The **mathematical expression** of a Generalized Linear Model (GLM) involves the linear predictor, the link function, and the probability distribution of the response variable.\n",
        "\n",
        "Here's the general form of a GLM:\n",
        "\n",
        "1.  **Linear Predictor (η):**\n",
        "\n",
        "    $$ \\eta = \\beta_0 + \\beta_1x_1 + \\beta_2x_2 + \\ldots + \\beta_kx_k $$\n",
        "\n",
        "    where:\n",
        "\n",
        "-   $\\eta$ is the linear predictor,\n",
        "\n",
        "-   $\\beta_0, \\beta_1, \\ldots, \\beta_k$ are the coefficients,\n",
        "\n",
        "-   $x_1, x_2, \\ldots, x_k$ are the independent variables.\n",
        "\n",
        "2.  **Link Function (**g):\n",
        "\n",
        "$$ g(\\mu) = \\eta $$\n",
        "\n",
        "The link function connects the linear predictor to the mean of the response variable. It transforms the mean (μ) to the linear predictor (η). Common link functions include:\n",
        "\n",
        "-   Identity link (for normal distribution):\n",
        "\n",
        "$$ g(\\mu) = \\mu $$\n",
        "\n",
        "-   Logit link (for binary data in logistic regression):\n",
        "\n",
        "$$ g(\\mu) = log(\\frac{\\mu}{1-\\mu}) $$\n",
        "\n",
        "-   Log link(for Poisson regression):\n",
        "\n",
        "$$ g(\\mu) = \\log(\\mu )$$\n",
        "\n",
        "3.  **Probability Distribution:** The response variable follows a probability distribution from the exponential family. The distribution is chosen based on the nature of the data. Common choices include:\n",
        "\n",
        "    -   Normal distribution (Gaussian) for continuous data.\n",
        "\n",
        "    -   Binomial distribution for binary or dichotomous data.\n",
        "\n",
        "    -   Poisson distribution for count data.\n",
        "\n",
        "    -   Gamma distribution for continuous, positive, skewed data.\n",
        "\n",
        "Putting it all together, the probability mass function (PMF) or probability density function (PDF) for the response variable (Y) is expressed as:\n",
        "\n",
        "$$ f(y;\\theta,\\phi) = \\exp\\left(\\frac{y\\theta - b(\\theta)}{a(\\phi)} + c(y,\\phi)\\right) $$\n",
        "\n",
        "where:\n",
        "\n",
        "-   f(y;θ,ϕ) is the PMF or PDF,\n",
        "\n",
        "-   θ is the natural parameter,\n",
        "\n",
        "-   ϕ is the dispersion parameter,\n",
        "\n",
        "-   a(ϕ), b(θ), c(y,ϕ) are known functions.\n",
        "\n",
        "### GLM Models in R\n",
        "\n",
        "If you are using R, the `glm()` function can be used to fit Generalized Linear Models (GLMs). This function allows you to specify the type of response variable and choose the appropriate distribution and link function for your data.\n",
        "\n",
        "The basic form of the glm function is:\n",
        "\n",
        "> glm(formula , family= familytype(link=linkfunction), data=)\n",
        "\n",
        "Family objects are a convenient way to specify the models used by functions like `glm()`. See `help(family)` for other allowable `link` functions for each family.\n",
        "\n",
        "`binomial(link = \"logit\")`\n",
        "\n",
        "`gaussian(link = \"identity\")`\n",
        "\n",
        "`Gamma(link = \"inverse\")`\n",
        "\n",
        "`inverse.gaussian(link = \"1/mu\\^2\")`\n",
        "\n",
        "`poisson(link = \"log\")`\n",
        "\n",
        "`quasi(link = \"identity\", variance = \"constant\")`\n",
        "\n",
        "`quasibinomial(link = \"logit\")`\n",
        "\n",
        "`quasipoisson(link = \"log\")`\n",
        "\n",
        "There are several GLM model families depending on the make-up of the response variable. In this tutorial we will discuss four well-known GLM model families using `glm()` function:\n",
        "\n",
        "1.  Fit a GLM regression model using the `gaussian` family\n",
        "\n",
        "model \\<- glm(response_variable \\~ predictor_variable1 + predictor_variable2, family = gaussian(link = \"identity\"), data = data)\n",
        "\n",
        "2.  Fit a logistic regression model using the `binomial` family\n",
        "\n",
        "model \\<- glm(binary_response_variable \\~ predictor_variable1 + predictor_variable2, family = binomial(link = \"logit\"), data = data)\n",
        "\n",
        "3.  Fit a Po regression model using the `poisson` family\n",
        "\n",
        "model \\<- glm(count_response_variable \\~ predictor_variable1 + predictor_variable2, family = poisson(link = \"log\"), data = data)\n",
        "\n",
        "### Linear Regression vs Generalized Linear Models\n",
        "\n",
        "1.  Linear regression assumes that the response variable is normally distributed, while GLMs allow for different distributions, such as binomial or Poisson.\n",
        "\n",
        "2.  Linear regression models the mean of the response variable as a linear function of the predictor variables. In contrast, GLMs model the relationship between the predictor variables and the response variable through a link function and a linear combination of the predictor variables.\n",
        "\n",
        "3.  Linear regression is used for continuous response variables, while GLMs can be used for continuous and categorical response variables.\n",
        "\n",
        "4.  The assumptions of linear regression are more restrictive than those of GLMs, which makes GLMs more flexible and appropriate for a broader range of data.\n",
        "\n",
        "In summary, the GLM combines the linear predictor, link function, and probability distribution to model the relationship between the mean of the response variable and the predictors, allowing for flexibility in handling various data types. The specific form of the GLM will depend on the chosen link function and distribution."
      ]
    },
    {
      "cell_type": "markdown",
      "metadata": {
        "id": "rUHrNY9J9lMg"
      },
      "source": [
        "## References\n",
        "\n",
        "1. [An Introduction to Statistical Learning](https://www.stat.berkeley.edu/~rabbee/s154/ISLR_First_Printing.pdf)\n",
        "\n",
        "2. [Generalized Linear Models With Examples in R](https://www.academia.edu/37886943/Springer_Texts_in_Statistics_Generalized_Linear_Models_With_Examples_in_R)\n",
        "\n",
        "3. [6.1 - Introduction to GLMs}](https://online.stat.psu.edu/stat504/lesson/6/6.1)\n",
        "\n",
        "4. [4 Generalized Linear Models](https://entnemdept.ufl.edu/Hahn/generalized-linear-models.html)\n",
        "\n",
        "5. [Generalized Linear Model](https://www.sciencedirect.com/topics/mathematics/generalized-linear-model)\n",
        "\n",
        "\n",
        "\n",
        "\n"
      ]
    }
  ],
  "metadata": {
    "colab": {
      "provenance": [],
      "authorship_tag": "ABX9TyNCYLpsmTu9bsziLdp6UBMS",
      "include_colab_link": true
    },
    "kernelspec": {
      "display_name": "R",
      "name": "ir"
    },
    "language_info": {
      "name": "R"
    }
  },
  "nbformat": 4,
  "nbformat_minor": 0
}