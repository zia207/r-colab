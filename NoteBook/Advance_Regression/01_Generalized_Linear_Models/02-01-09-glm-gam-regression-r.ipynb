{
  "nbformat": 4,
  "nbformat_minor": 0,
  "metadata": {
    "colab": {
      "provenance": [],
      "toc_visible": true,
      "authorship_tag": "ABX9TyOxMd19wNRp+smic/ocWoP1",
      "include_colab_link": true
    },
    "kernelspec": {
      "name": "python3",
      "display_name": "Python 3"
    },
    "language_info": {
      "name": "python"
    }
  },
  "cells": [
    {
      "cell_type": "markdown",
      "metadata": {
        "id": "view-in-github",
        "colab_type": "text"
      },
      "source": [
        "<a href=\"https://colab.research.google.com/github/zia207/r-colab/blob/main/NoteBook/Advance_Regression/02-01-09-glm-gam-regression-r.ipynb\" target=\"_parent\"><img src=\"https://colab.research.google.com/assets/colab-badge.svg\" alt=\"Open In Colab\"/></a>"
      ]
    },
    {
      "cell_type": "markdown",
      "source": [
        "![alt text](http://drive.google.com/uc?export=view&id=1bLQ3nhDbZrCCqy_WCxxckOne2lgVvn3l)"
      ],
      "metadata": {
        "id": "ALapmr7gMNeE"
      }
    },
    {
      "cell_type": "markdown",
      "source": [
        "\n",
        "# 9. Generalized Additive Model (GAM)\n",
        "\n",
        "Generalized Additive Models (GAMs) are powerful tools for modeling complex, nonlinear relationships in data. They combine the flexibility of nonparametric models with the interpretability of linear models. This tutorial will guide you through the fundamentals of GAMs in R. To enhance your understanding, we will build a GAM model from scratch without using any external packages. This approach will illustrate the core principles behind GAM modeling, including smoothing, combining predictor effects, and estimating model parameters. We will also explore various packages for fitting, analyzing, and visualizing GAMs, including popular libraries such as {mgcv} and {gam}. These packages provide robust functions to fit GAMs, offering flexibility with multiple types of smoothers, diagnostics, and model selection criteria. Additionally, we will delve into specific packages designed for GAM visualization and model assessment, equipping you with tools to evaluate and interpret complex relationships in your data.\n",
        "\n",
        "By the end of this tutorial, you will have a comprehensive understanding of how to use GAMs in R to uncover intricate relationships in your data. You will gain practical skills in fitting, interpreting, and diagnosing GAM models, along with insights into the mathematical principles behind them.\n"
      ],
      "metadata": {
        "id": "au6nzIZ1MUQ9"
      }
    },
    {
      "cell_type": "markdown",
      "source": [
        "## Overview\n",
        "\n",
        "A Generalized Additive Model (GAM) is an extension of traditional linear regression models that allows for more flexibility by modeling the relationship between the response variable and each predictor variable as a smooth, non-linear function. This flexibility makes GAMs especially useful when relationships between predictors and the outcome are complex and cannot be adequately captured by a linear model.\n",
        "\n",
        "***1. Structure of a GAM***\n",
        "\n",
        "A Generalized Additive Model (GAM) is defined as:\n",
        "\n",
        "$$ g(E(y)) = \\beta_0 + f_1(x_1) + f_2(x_2) + \\dots + f_n(x_n) $$\n",
        "\n",
        "where:\n",
        "\n",
        "-   $y$ is the dependent variable, or the outcome we’re predicting.\n",
        "-   $E(y)$ represents the expected value of $y$.\n",
        "-   $E(y)$ represents the expected value of $y$.\n",
        "-   $g$ is a link function that links the predictors to the expected value of $y$.\n",
        "-   $\\beta_0$ is the intercept, representing the baseline value of $y$.\n",
        "-   $f_1(x_1), f_2(x_2), \\dots, f_n(x_n)$ are smooth, flexible functions for each predictor variable $x_1, x_2, \\dots, x_n$.\n",
        "\n",
        "In GAMs, instead of assuming each predictor affects the outcome linearly, each predictor has its own flexible function, allowing it to influence the outcome in potentially complex, nonlinear ways.\n",
        "\n",
        "***2. Components of a GAM***\n",
        "\n",
        "To better understand GAMs, let's look at the main components:\n",
        "\n",
        "a.  **Smooth Functions** $f_i(x_i)$\n",
        "\n",
        "Each predictor $x_i$ has its own smooth function, $f_i(x_i)$, which is designed to capture the potentially nonlinear relationship between $x_i$ and $y$). These functions are often estimated using methods like:\n",
        "\n",
        "- **Splines**: Splines (e.g., cubic splines) are piecewise polynomials joined smoothly at certain points (called knots). They allow for a smooth curve without specifying an exact form for the relationship.\n",
        "- **Local Regression (LOESS/LOWESS)**: A non-parametric regression technique that fits simple models to localized subsets of data, offering a smooth curve without needing a specific functional form.\n",
        "- **Kernel Smoothing**: Kernel-based methods allow estimating smooth functions by averaging nearby points, with the weights determined by a kernel function.\n",
        "\n",
        "These smoothing methods help model the relationship between each predictor and the outcome in a flexible, data-driven way.\n",
        "\n",
        "b. **Link Function $g$**\n",
        "\n",
        "The link function $g$ relates the predictors to the expected value of $y$. Some commonly used link functions are:\n",
        "\n",
        "- **Identity Link**: $g(y) = y$, used for continuous outcomes (e.g., linear regression).\n",
        "\n",
        "- **Log Link**: $g(y) = \\ln(y)$, used for modeling positive, skewed outcomes like counts.\n",
        "\n",
        "- **Logit Link**: $g(y) = \\ln\\left(\\frac{y}{1 - y}\\right)$, used for binary or proportion data.\n",
        "\n",
        "By choosing an appropriate link function, GAMs can model different types of outcome distributions (continuous, binary, count data, etc.).\n",
        "\n",
        " c. **Additivity Assumption**\n",
        "\n",
        "GAMs assume that each predictor contributes independently to the outcome, meaning there are no interactions between predictors (although it’s possible to add interaction terms). This additivity makes GAMs interpretable because we can examine the effect of each predictor individually.\n",
        "\n",
        "***3. Estimation and Fitting GAMs***\n",
        "\n",
        "To estimate a GAM, the following steps are typically involved:\n",
        "\n",
        "a. **Choosing the Smoothness of $f_i(x_i)$**\n",
        "\n",
        "Each smooth function $f_i(x_i)$ needs to be tuned for “smoothness\". If $f_i(x_i)$ is too flexible, the model might overfit the data, capturing noise rather than true relationships. Conversely, if $f_i(x_i)$ is too rigid, it may miss important trends. Regularization methods, such as penalizing the complexity of $f_i(x_i)$, help control this balance. The degree of smoothness is often chosen by minimizing a model selection criterion like **Generalized Cross-Validation (GCV)** or **Akaike Information Criterion (AIC)**.\n",
        "\n",
        "b. **Estimating Coefficients**\n",
        "\n",
        "The coefficients $\\beta_0$ and the functions $f_i(x_i)$ are estimated by maximizing the likelihood of the model (or minimizing a loss function). This is often done using iterative algorithms, like backfitting, that alternate between fitting each function while keeping the others fixed until convergence.\n",
        "\n",
        "c. **Diagnostics and Model Evaluation**\n",
        "\n",
        "Once fitted, a GAM can be evaluated using: - **Residual analysis**: Plotting residuals to check for patterns, which can indicate model misfit. - **Cross-validation**: Splitting data into training and test sets to check predictive performance. - **Model selection criteria**: Metrics like AIC or GCV to compare different model specifications.\n",
        "\n",
        "***4. Benefits and Limitations of GAMs***\n",
        "\n",
        "a. **Benefits**\n",
        "\n",
        "-   **Flexibility**: GAMs capture nonlinear relationships between predictors and the outcome, without needing to pre-specify their forms.\n",
        "-   **Interpretability**: The additive structure allows for an intuitive understanding of how each predictor affects the outcome independently.\n",
        "-   **Versatility**: The choice of link functions allows GAMs to handle various data types (continuous, binary, count data, etc.).\n",
        "\n",
        "b. **Limitations**\n",
        "\n",
        "-   **Computationally Intensive**: Fitting smooth functions and optimizing smoothness requires more computation than simple linear models.\n",
        "-   **No Interactions by Default**: By nature, GAMs do not include interactions between predictors, which may be important in some cases. Interaction terms can be added, but this increases model complexity.\n",
        "-   **Overfitting Risk**: Without appropriate smoothness control, GAMs can overfit the data, especially with small sample sizes or high noise levels.\n",
        "\n",
        "***5. Applications of GAMs***\n",
        "\n",
        "a. **Ecology and Environmental Science**\n",
        "\n",
        "In ecology, GAMs are often used to study the relationship between species abundance and environmental factors (e.g., temperature, rainfall). For example, one might model how fish population changes with water temperature, salinity, and nutrient levels in a non-linear manner.\n",
        "\n",
        "b. **Economics**\n",
        "\n",
        "In economics, GAMs can model relationships that are not strictly linear, like how consumer spending varies with income level and age. GAMs allow each of these factors to influence spending in complex, nonlinear ways.\n",
        "\n",
        "c. **Medicine and Public Health**\n",
        "\n",
        "In medical research, GAMs are used to model the effects of age, dosage levels, or other health metrics on patient outcomes, where the relationship might be nonlinear (e.g., the effect of dosage on blood pressure might increase up to a point and then level off).\n",
        "\n",
        "d. **Marketing and Social Science**\n",
        "\n",
        "In marketing, GAMs are useful to understand how advertising spend, customer demographics, and other factors impact customer engagement or sales, which often have nonlinear effects.\n"
      ],
      "metadata": {
        "id": "neuAm4Qy9ZYX"
      }
    },
    {
      "cell_type": "markdown",
      "source": [
        "## Install rpy2"
      ],
      "metadata": {
        "id": "BQDQMxpJ9z_f"
      }
    },
    {
      "cell_type": "code",
      "execution_count": 1,
      "metadata": {
        "colab": {
          "base_uri": "https://localhost:8080/"
        },
        "id": "5j-UYffx9N09",
        "outputId": "a289c6d7-1e06-46fb-e93e-b2bcf75cfb4f"
      },
      "outputs": [
        {
          "output_type": "stream",
          "name": "stdout",
          "text": [
            "Found existing installation: rpy2 3.4.2\n",
            "Uninstalling rpy2-3.4.2:\n",
            "  Successfully uninstalled rpy2-3.4.2\n",
            "Collecting rpy2==3.5.1\n",
            "  Downloading rpy2-3.5.1.tar.gz (201 kB)\n",
            "\u001b[2K     \u001b[90m━━━━━━━━━━━━━━━━━━━━━━━━━━━━━━━━━━━━━━━━\u001b[0m \u001b[32m201.7/201.7 kB\u001b[0m \u001b[31m6.8 MB/s\u001b[0m eta \u001b[36m0:00:00\u001b[0m\n",
            "\u001b[?25h  Preparing metadata (setup.py) ... \u001b[?25l\u001b[?25hdone\n",
            "Requirement already satisfied: cffi>=1.10.0 in /usr/local/lib/python3.11/dist-packages (from rpy2==3.5.1) (1.17.1)\n",
            "Requirement already satisfied: jinja2 in /usr/local/lib/python3.11/dist-packages (from rpy2==3.5.1) (3.1.5)\n",
            "Requirement already satisfied: pytz in /usr/local/lib/python3.11/dist-packages (from rpy2==3.5.1) (2025.1)\n",
            "Requirement already satisfied: tzlocal in /usr/local/lib/python3.11/dist-packages (from rpy2==3.5.1) (5.2)\n",
            "Requirement already satisfied: pycparser in /usr/local/lib/python3.11/dist-packages (from cffi>=1.10.0->rpy2==3.5.1) (2.22)\n",
            "Requirement already satisfied: MarkupSafe>=2.0 in /usr/local/lib/python3.11/dist-packages (from jinja2->rpy2==3.5.1) (3.0.2)\n",
            "Building wheels for collected packages: rpy2\n",
            "  Building wheel for rpy2 (setup.py) ... \u001b[?25l\u001b[?25hdone\n",
            "  Created wheel for rpy2: filename=rpy2-3.5.1-cp311-cp311-linux_x86_64.whl size=314974 sha256=3aad95ac69f1dccce9d4766bea55007d2e541c22a9b0b57842b7af9069155f8b\n",
            "  Stored in directory: /root/.cache/pip/wheels/e9/55/d1/47be85a5f3f1e1f4d1e91cb5e3a4dcb40dd72147f184c5a5ef\n",
            "Successfully built rpy2\n",
            "Installing collected packages: rpy2\n",
            "Successfully installed rpy2-3.5.1\n"
          ]
        }
      ],
      "source": [
        "!pip uninstall rpy2 -y\n",
        "!pip install rpy2==3.5.1\n",
        "%load_ext rpy2.ipython"
      ]
    },
    {
      "cell_type": "markdown",
      "source": [
        "## Mount Google Drive"
      ],
      "metadata": {
        "id": "xg8ZRtsE-Aot"
      }
    },
    {
      "cell_type": "code",
      "source": [
        "from google.colab import drive\n",
        "drive.mount('/content/drive')"
      ],
      "metadata": {
        "colab": {
          "base_uri": "https://localhost:8080/"
        },
        "id": "sLu24QrR-M9L",
        "outputId": "d0b2b263-36a8-49e1-ee40-b71d68da4b4a"
      },
      "execution_count": 2,
      "outputs": [
        {
          "output_type": "stream",
          "name": "stdout",
          "text": [
            "Mounted at /content/drive\n"
          ]
        }
      ]
    },
    {
      "cell_type": "markdown",
      "source": [
        "## Generalized Additive Model from Scratch\n",
        "\n",
        "To develop a Generalized Additive Model (GAM) with 4 predictors from scratch in R, we’ll apply  cubic spline basis functions to each predictor independently. This will allow each predictor to have a non-linear effect on the outcome variable. We’ll also include a regularization term to prevent overfitting. The model will be fit using least squares optimization.\n",
        "\n"
      ],
      "metadata": {
        "id": "401-6LXXVDTD"
      }
    },
    {
      "cell_type": "markdown",
      "source": [
        "\n",
        "### Generate Spline Basis for Each Predictor\n",
        "\n",
        "For each predictor, we'll create a cubic spline basis matrix with `num_knots`. We'll use this basis for the GAM."
      ],
      "metadata": {
        "id": "ziWoodGNVPlp"
      }
    },
    {
      "cell_type": "code",
      "source": [
        "%%R\n",
        "cubic_spline_basis <- function(x, knots) {\n",
        "  X <- cbind(1, x, x^2, x^3)  # Polynomial terms up to cubic\n",
        "  for (knot in knots) {\n",
        "    X <- cbind(X, pmax(0, (x - knot)^3))  # Truncated cubic splines at each knot\n",
        "  }\n",
        "  return(X)\n",
        "}"
      ],
      "metadata": {
        "id": "F4BsYSzyVRdq"
      },
      "execution_count": null,
      "outputs": []
    },
    {
      "cell_type": "markdown",
      "source": [
        "### Combine Spline Basis Functions into a Design Matrix\n",
        "\n",
        "Next, we construct the full design matrix by generating spline basis functions for each predictor and concatenating them."
      ],
      "metadata": {
        "id": "2iBMrwwIVgsV"
      }
    },
    {
      "cell_type": "code",
      "source": [
        "%%R\n",
        "create_design_matrix <- function(data, predictors, num_knots) {\n",
        "  X_spline <- NULL\n",
        "  spline_list <- list()  # To store each predictor's spline basis\n",
        "\n",
        "  for (predictor in predictors) {\n",
        "    x <- data[[predictor]]\n",
        "    knots <- seq(min(x), max(x), length.out = num_knots)  # Equally spaced knots\n",
        "    X_spline_predictor <- cubic_spline_basis(x, knots)  # Generate spline basis\n",
        "    spline_list[[predictor]] <- X_spline_predictor\n",
        "    X_spline <- cbind(X_spline, X_spline_predictor)  # Append to design matrix\n",
        "  }\n",
        "\n",
        "  return(list(X_spline = X_spline, spline_list = spline_list))\n",
        "}"
      ],
      "metadata": {
        "id": "2SvUUezFVlUb"
      },
      "execution_count": null,
      "outputs": []
    },
    {
      "cell_type": "markdown",
      "source": [
        "- This function returns a matrix where each column is a basis function term: constant, linear, quadratic, cubic, and additional cubic terms truncated at each knot."
      ],
      "metadata": {
        "id": "hr-ywbsO8Y1w"
      }
    },
    {
      "cell_type": "markdown",
      "source": [
        "### Fit the Model by Solving the Regularized System\n",
        "\n",
        "Here, we add a small regularization term $\\lambda$ to ensure the matrix $X^T X$ is invertible, then solve for the coefficients."
      ],
      "metadata": {
        "id": "zjxeorVCVpm8"
      }
    },
    {
      "cell_type": "code",
      "source": [
        "%%R\n",
        "fit_gam_model <- function(X_spline, y, lambda = 0.0001) {\n",
        "  XtX <- t(X_spline) %*% X_spline + lambda * diag(ncol(X_spline))  # Regularization\n",
        "  Xty <- t(X_spline) %*% y\n",
        "  coefficients <- solve(XtX, Xty)  # Solve for coefficients\n",
        "  return(coefficients)\n",
        "}"
      ],
      "metadata": {
        "id": "oUv-_ANcVqV9"
      },
      "execution_count": null,
      "outputs": []
    },
    {
      "cell_type": "markdown",
      "source": [
        "### Make Predictions\n",
        "\n",
        "With the coefficients, we can predict the outcome for the training data.\n"
      ],
      "metadata": {
        "id": "DFMss3idVv-2"
      }
    },
    {
      "cell_type": "code",
      "source": [
        "%%R\n",
        "predict_gam <- function(X_spline, coefficients) {\n",
        "  y_pred <- X_spline %*% coefficients\n",
        "  return(y_pred)\n",
        "}"
      ],
      "metadata": {
        "id": "Z3Pfvh3-Vw-R"
      },
      "execution_count": null,
      "outputs": []
    },
    {
      "cell_type": "markdown",
      "source": [
        "### Model Summary Statistics\n",
        "\n",
        "After fitting, we’ll calculate residuals, deviance, and mean squared error to summarize model fit."
      ],
      "metadata": {
        "id": "hHoGgZqaV20J"
      }
    },
    {
      "cell_type": "code",
      "source": [
        "%%R\n",
        "compute_summary_stats <- function(y, y_pred) {\n",
        "  residuals <- y - y_pred\n",
        "  deviance <- sum(residuals^2)  # Residual Sum of Squares\n",
        "  mse <- mean(residuals^2)      # Mean Squared Error\n",
        "\n",
        "  return(list(residuals = residuals, deviance = deviance, mse = mse))\n",
        "}\n"
      ],
      "metadata": {
        "id": "ISXUXuqEV34u"
      },
      "execution_count": null,
      "outputs": []
    },
    {
      "cell_type": "markdown",
      "source": [
        "### ANOVA-Like Table for Predictor Effects\n",
        "\n",
        "We’ll estimate each predictor's effect by fitting sub-models with each individual predictor's spline matrix."
      ],
      "metadata": {
        "id": "ka6mhoNMvapg"
      }
    },
    {
      "cell_type": "code",
      "source": [
        "%%R\n",
        "compute_anova_table <- function(data, response, predictors, spline_list, lambda = 0.0001) {\n",
        "  anova_table <- data.frame(\n",
        "    Predictor = predictors,\n",
        "    Sum_of_Squares = sapply(predictors, function(predictor) {\n",
        "      X_pred <- spline_list[[predictor]]\n",
        "      XtX_single <- t(X_pred) %*% X_pred + lambda * diag(ncol(X_pred))\n",
        "      Xty_single <- t(X_pred) %*% data[[response]]\n",
        "      coefficients_single <- solve(XtX_single, Xty_single)\n",
        "      residuals_single <- data[[response]] - X_pred %*% coefficients_single\n",
        "      return(sum(residuals_single^2))\n",
        "    })\n",
        "  )\n",
        "  return(anova_table)\n",
        "}"
      ],
      "metadata": {
        "id": "qGrjMPJ1vhS9"
      },
      "execution_count": null,
      "outputs": []
    },
    {
      "cell_type": "markdown",
      "source": [
        "### Cross-Validation for Model Performance\n",
        "\n",
        "We’ll use **k-fold cross-validation** to estimate model performance on unseen data. Here’s the cross-validation setup:"
      ],
      "metadata": {
        "id": "V8piS3Ov9QU6"
      }
    },
    {
      "cell_type": "code",
      "source": [
        "%%R\n",
        "cross_validate_gam <- function(data, response, predictors, num_knots = 3, lambda = 0.0001, k_folds = 5) {\n",
        "  n <- nrow(data)\n",
        "  fold_size <- n %/% k_folds\n",
        "  indices <- sample(n)\n",
        "  mse_folds <- numeric(k_folds)\n",
        "\n",
        "  for (fold in 1:k_folds) {\n",
        "    # Define training and validation sets\n",
        "    validation_idx <- indices[((fold - 1) * fold_size + 1):(fold * fold_size)]\n",
        "    train_data <- data[-validation_idx, ]\n",
        "    validation_data <- data[validation_idx, ]\n",
        "\n",
        "    # Create design matrix for training data\n",
        "    train_design <- create_design_matrix(train_data, predictors, num_knots)\n",
        "    X_train <- train_design$X_spline\n",
        "    y_train <- train_data[[response]]\n",
        "\n",
        "    # Fit the model on training data\n",
        "    coefficients <- fit_gam_model(X_train, y_train, lambda)\n",
        "\n",
        "    # Design matrix for validation data\n",
        "    validation_design <- create_design_matrix(validation_data, predictors, num_knots)\n",
        "    X_val <- validation_design$X_spline\n",
        "    y_val <- validation_data[[response]]\n",
        "\n",
        "    # Predict on validation set and calculate MSE\n",
        "    y_val_pred <- predict_gam(X_val, coefficients)\n",
        "    mse_folds[fold] <- mean((y_val - y_val_pred)^2)\n",
        "  }\n",
        "\n",
        "  cv_mse <- mean(mse_folds)  # Average MSE over folds\n",
        "  return(cv_mse)\n",
        "}"
      ],
      "metadata": {
        "id": "LffWPG1z9RDQ"
      },
      "execution_count": null,
      "outputs": []
    },
    {
      "cell_type": "markdown",
      "source": [
        "### Fit the GAM model with Synthetic Data\n",
        "\n",
        "Let’s fit the GAM model on synthetic data and show summary results, ANOVA table, and cross-validation performance.\n"
      ],
      "metadata": {
        "id": "QOaqMkM09bVD"
      }
    },
    {
      "cell_type": "code",
      "source": [
        "%%R\n",
        "# Set up data and parameters\n",
        "set.seed(0)\n",
        "n_samples <- 100\n",
        "data <- data.frame(\n",
        "  x1 = seq(0, 10, length.out = n_samples),\n",
        "  x2 = runif(n_samples, 0, 10),\n",
        "  x3 = runif(n_samples, 0, 10),\n",
        "  x4 = runif(n_samples, 0, 10)\n",
        ")\n",
        "data$y <- 3 * sin(data$x1) + 2 * log(data$x2 + 1) - 1.5 * sqrt(data$x3) + 0.5 * data$x4^2 +\n",
        "  rnorm(n_samples, mean = 0, sd = 0.5)\n",
        "\n",
        "predictors <- c(\"x1\", \"x2\", \"x3\", \"x4\")\n",
        "response <- \"y\"\n",
        "num_knots <- 4\n",
        "lambda <- 0.0001\n",
        "\n",
        "# Create design matrix\n",
        "design_matrix <- create_design_matrix(data, predictors, num_knots)\n",
        "X_spline <- design_matrix$X_spline\n",
        "spline_list <- design_matrix$spline_list\n",
        "\n",
        "# Fit model and make predictions\n",
        "coefficients <- fit_gam_model(X_spline, data[[response]], lambda)\n",
        "y_pred <- predict_gam(X_spline, coefficients)\n",
        "\n",
        "# Calculate summary statistics\n",
        "summary_stats <- compute_summary_stats(data[[response]], y_pred)\n",
        "\n",
        "# ANOVA table\n",
        "anova_table <- compute_anova_table(data, response, predictors, spline_list, lambda)\n",
        "\n",
        "# Cross-Validation\n",
        "cv_mse <- cross_validate_gam(data, response, predictors, num_knots, lambda)\n",
        "\n",
        "# Print results\n",
        "cat(\"GAM Summary:\\n\")\n",
        "cat(\"-----------------------------------------------------\\n\")\n",
        "cat(\"Coefficients:\\n\")\n",
        "print(coefficients)\n",
        "cat(\"\\nMean Squared Error:\", round(summary_stats$mse, 4), \"\\n\")\n",
        "cat(\"Deviance:\", round(summary_stats$deviance, 4), \"\\n\")\n",
        "cat(\"Residuals:\\n\")\n",
        "print(head(summary_stats$residuals))\n",
        "cat(\"\\nANOVA for Parametric Effects:\\n\")\n",
        "print(anova_table)\n",
        "cat(\"\\nCross-Validated MSE:\", round(cv_mse, 4), \"\\n\")"
      ],
      "metadata": {
        "colab": {
          "base_uri": "https://localhost:8080/"
        },
        "id": "ZqrkEBAr9cI_",
        "outputId": "99224695-3150-4aa6-9502-cba017e7e02b"
      },
      "execution_count": null,
      "outputs": [
        {
          "output_type": "stream",
          "name": "stdout",
          "text": [
            "GAM Summary:\n",
            "-----------------------------------------------------\n",
            "Coefficients:\n",
            "          [,1]\n",
            "  -0.023161446\n",
            "x  8.271536899\n",
            "  -4.329322919\n",
            "   0.275686636\n",
            "   0.275695500\n",
            "  -0.660576687\n",
            "  -0.203910265\n",
            "   0.000000000\n",
            "  -0.023161433\n",
            "x  0.613274246\n",
            "   0.203200014\n",
            "   0.001823434\n",
            "  -0.046732545\n",
            "   0.086780236\n",
            "  -0.116798305\n",
            "   0.000000000\n",
            "  -0.023161434\n",
            "x -1.996700892\n",
            "   0.481029857\n",
            "   0.116905330\n",
            "  -0.174186312\n",
            "   0.061741229\n",
            "  -0.009306572\n",
            "   0.000000000\n",
            "  -0.023161429\n",
            "x -0.634787868\n",
            "   0.435048209\n",
            "   0.250548166\n",
            "  -0.258617892\n",
            "  -0.003922149\n",
            "  -0.010824794\n",
            "   0.000000000\n",
            "\n",
            "Mean Squared Error: 0.4349 \n",
            "Deviance: 43.4897 \n",
            "Residuals:\n",
            "            [,1]\n",
            "[1,]  1.19802648\n",
            "[2,]  0.01107583\n",
            "[3,]  0.02853082\n",
            "[4,]  1.18566512\n",
            "[5,]  0.29919007\n",
            "[6,] -0.59918471\n",
            "\n",
            "ANOVA for Parametric Effects:\n",
            "   Predictor Sum_of_Squares\n",
            "x1        x1     19152.0461\n",
            "x2        x2     19581.0390\n",
            "x3        x3     20748.8882\n",
            "x4        x4       594.4656\n",
            "\n",
            "Cross-Validated MSE: 478.694 \n"
          ]
        }
      ]
    },
    {
      "cell_type": "markdown",
      "source": [
        "### Explanation of Output\n",
        "\n",
        "1.  **Coefficients**: Estimated coefficients for each basis function in the design matrix.\n",
        "2.  **MSE and Deviance**: Summary statistics of the model fit on the training data.\n",
        "3.  **Residuals**: Differences between actual and predicted values.\n",
        "4.  **ANOVA Table**: Shows the sum of squares contributed by each predictor.\n",
        "5.  **Cross-Validated MSE**: Model’s performance on unseen data, averaged across folds. This gives an unbiased estimate of the model’s prediction error.\n",
        "\n"
      ],
      "metadata": {
        "id": "2Po95aleiyrH"
      }
    },
    {
      "cell_type": "markdown",
      "source": [
        "## Generalized Additive Model in R\n",
        "\n",
        "In R, you can fit Generalized Additive Models (GAMs) using different packages, each offering unique functionalities. Here’s a quick guide to fitting GAMs using three popular packages:\n",
        "\n",
        "1. **`mgcv` Package**\n",
        "\n",
        "-   `mgcv` is the most widely used package for GAMs in R due to its flexibility, efficiency, and support for a wide range of models. It uses penalized regression splines by default.\n",
        "\n",
        "-   **Key Features:** `mgcv` provides a variety of smooth functions (e.g., `s()`, `te()` for tensor product smoothing) and allows you to specify different distributions and link functions using `family=`.\n",
        "\n",
        "2. **gam Package**\n",
        "\n",
        "-   The `gam` package (distinct from `mgcv`) is based on Hastie and Tibshirani’s original GAM framework. It has a simpler interface but is less flexible than `mgcv` for complex models.\n",
        "\n",
        "-   **Key Features:** The `gam` package is good for standard GAMs and allows `lo()` for locally-weighted regression smoothers. It’s simpler but lacks some of the advanced features found in `mgcv`.\n",
        "\n",
        "3. **`gamlss` Package**\n",
        "\n",
        "-   `gamlss` (Generalized Additive Models for Location, Scale, and Shape) extends GAMs to model not only the mean (location) but also other parameters (e.g., scale, shape) of the distribution.\n",
        "\n",
        "-   **Key Features:** `gamlss` is highly flexible for distributional modeling. It supports a wide range of distributions, including non-standard ones, and allows for different smoothers (e.g., `pb()` for P-splines)."
      ],
      "metadata": {
        "id": "xHTL9YWrT_b5"
      }
    },
    {
      "cell_type": "markdown",
      "source": [
        "### Check and Install Required R Packages"
      ],
      "metadata": {
        "id": "OMPKY7UvM2N8"
      }
    },
    {
      "cell_type": "code",
      "source": [
        "%%R\n",
        "packages <- c('tidyverse',\n",
        "     'plyr',\n",
        "\t  'DataExplorer',\n",
        "\t\t 'dlookr',\n",
        "\t\t 'rstatix',\n",
        "\t\t 'gtsummary',\n",
        "\t\t 'performance',\n",
        "\t   'report',\n",
        "\t\t 'sjPlot',\n",
        "\t\t 'margins',\n",
        "\t\t 'marginaleffects',\n",
        "\t\t 'Metrics',\n",
        "\t\t 'ggeffects',\n",
        "\t\t 'patchwork',\n",
        "\t\t 'MASS',\n",
        "\t   'gam',\n",
        " \t\t 'gamair',\n",
        " \t\t 'mgcv',\n",
        " \t\t 'gamlss',\n",
        " \t\t 'gratia',\n",
        " \t\t #'itsadug',  # we will load this pacakge later\n",
        " \t\t 'agridat'\n",
        "\t  \t)"
      ],
      "metadata": {
        "id": "tAmJREXmM2YP"
      },
      "execution_count": 4,
      "outputs": []
    },
    {
      "cell_type": "code",
      "source": [
        "%%R\n",
        "# Install missing packages\n",
        "new.packages <- packages[!(pkg %in% installed.packages(lib='drive/My Drive/R/')[,\"Package\"])]\n",
        "if(length(new.packages)) install.packages(new.packages, lib='drive/My Drive/R/')"
      ],
      "metadata": {
        "id": "r_5197FO0Wef"
      },
      "execution_count": null,
      "outputs": []
    },
    {
      "cell_type": "code",
      "source": [
        "%%R\n",
        "install.packages(\"agridat\", lib='drive/My Drive/R/')"
      ],
      "metadata": {
        "id": "CqRSJe9Q23Ff"
      },
      "execution_count": null,
      "outputs": []
    },
    {
      "cell_type": "code",
      "source": [
        "%%R\n",
        "# set library path\n",
        ".libPaths('drive/My Drive/R')\n",
        "# Verify installation\n",
        "cat(\"Installed packages:\\n\")\n",
        "print(sapply(packages, requireNamespace, quietly = TRUE))"
      ],
      "metadata": {
        "colab": {
          "base_uri": "https://localhost:8080/"
        },
        "id": "pmXcZKhp0Wjs",
        "outputId": "10defaf1-9ade-497d-be29-27b87dbbbf49"
      },
      "execution_count": 8,
      "outputs": [
        {
          "output_type": "stream",
          "name": "stdout",
          "text": [
            "Installed packages:\n",
            "      tidyverse            plyr    DataExplorer          dlookr         rstatix \n",
            "           TRUE            TRUE            TRUE            TRUE            TRUE \n",
            "      gtsummary     performance          report          sjPlot         margins \n",
            "           TRUE            TRUE            TRUE            TRUE            TRUE \n",
            "marginaleffects         Metrics       ggeffects       patchwork            MASS \n",
            "           TRUE            TRUE            TRUE            TRUE            TRUE \n",
            "            gam          gamair            mgcv          gamlss          gratia \n",
            "           TRUE            TRUE            TRUE            TRUE            TRUE \n",
            "        agridat \n",
            "           TRUE \n"
          ]
        }
      ]
    },
    {
      "cell_type": "markdown",
      "source": [
        "### Load packages"
      ],
      "metadata": {
        "id": "nMQai29xNYRy"
      }
    },
    {
      "cell_type": "code",
      "source": [
        "%%R\n",
        "# set library path\n",
        ".libPaths('drive/My Drive/R')\n",
        "# Load packages with suppressed messages\n",
        "invisible(lapply(packages, function(pkg) {\n",
        "  suppressPackageStartupMessages(library(pkg, character.only = TRUE))\n",
        "}))\n",
        "# Check loaded packages\n",
        "cat(\"Successfully loaded packages:\\n\")\n",
        "print(search()[grepl(\"package:\", search())])# Check loaded packages\n",
        "\n"
      ],
      "metadata": {
        "id": "XZeYlKM9NYhx",
        "colab": {
          "base_uri": "https://localhost:8080/"
        },
        "outputId": "625fde93-3017-4ded-82e9-6a767bfa4526"
      },
      "execution_count": 9,
      "outputs": [
        {
          "output_type": "stream",
          "name": "stdout",
          "text": [
            "Successfully loaded packages:\n",
            " [1] \"package:agridat\"         \"package:gratia\"         \n",
            " [3] \"package:gamlss\"          \"package:parallel\"       \n",
            " [5] \"package:gamlss.dist\"     \"package:gamlss.data\"    \n",
            " [7] \"package:mgcv\"            \"package:nlme\"           \n",
            " [9] \"package:gamair\"          \"package:gam\"            \n",
            "[11] \"package:foreach\"         \"package:splines\"        \n",
            "[13] \"package:MASS\"            \"package:patchwork\"      \n",
            "[15] \"package:ggeffects\"       \"package:Metrics\"        \n",
            "[17] \"package:marginaleffects\" \"package:margins\"        \n",
            "[19] \"package:sjPlot\"          \"package:report\"         \n",
            "[21] \"package:performance\"     \"package:gtsummary\"      \n",
            "[23] \"package:rstatix\"         \"package:dlookr\"         \n",
            "[25] \"package:DataExplorer\"    \"package:plyr\"           \n",
            "[27] \"package:lubridate\"       \"package:forcats\"        \n",
            "[29] \"package:stringr\"         \"package:dplyr\"          \n",
            "[31] \"package:purrr\"           \"package:readr\"          \n",
            "[33] \"package:tidyr\"           \"package:tibble\"         \n",
            "[35] \"package:ggplot2\"         \"package:tidyverse\"      \n",
            "[37] \"package:tools\"           \"package:stats\"          \n",
            "[39] \"package:graphics\"        \"package:grDevices\"      \n",
            "[41] \"package:utils\"           \"package:datasets\"       \n",
            "[43] \"package:methods\"         \"package:base\"           \n"
          ]
        }
      ]
    },
    {
      "cell_type": "markdown",
      "source": [
        "### Data\n",
        "\n",
        "In this exercise, we utilize a [dataset](https://raw.githubusercontent.com/m-clark/generalized-additive-models/master/data/pisasci2006.csv) that includes average science scores by country from the Programme for International Student Assessment ([PISA](https://www.oecd.org/en/about/programmes/pisa.html)) conducted in 2006. Alongside these scores, we also consider [data](https://hdr.undp.org/data-center) from the United Nations, which includes Gross National Income (GNI) per capita (adjusted for Purchasing Power Parity in 2005 dollars), the Educational Index, the Health Index, and the Human Development Index (HDI).\n",
        "\n",
        "The education component is measured by the mean years of schooling for adults aged 25 years and older and the expected years of schooling for children of school entry Income. The health index is determined by life expectancy at birth, while the wealth component is based on GNI per capita. The HDI establishes minimum and maximum values for each dimension, with the resulting scores indicating each country's position relative to these endpoints, expressed as a value between 0 and 1.\n",
        "\n",
        "The key variables are as follows (variable abbreviations in bold):\n",
        "\n",
        "-   **Overall** Science Score (average score for 15 year olds)\n",
        "\n",
        "-   **Interest** in science\n",
        "\n",
        "-   Identifying scientific **Issues**\n",
        "\n",
        "-   **Explaining** phenomena scientifically\n",
        "\n",
        "-   **Support** for scientific inquiry\n",
        "\n",
        "-   **Income** Index\n",
        "\n",
        "-   **Health** Index\n",
        "\n",
        "-   **Edu**cation Index\n",
        "\n",
        "-   **H**uman **D**evelopment **I**ndex (composed of the Income index, Health Index, and Education Index)\n",
        "\n",
        "We will use `read_csv()` function of {readr} package to import data as a **tidy** data.\n"
      ],
      "metadata": {
        "id": "q5hd8qgrCx4Z"
      }
    },
    {
      "cell_type": "code",
      "source": [
        "%%R\n",
        "# Load data\n",
        "mf<-readr::read_csv(\"https://raw.githubusercontent.com/m-clark/generalized-additive-models/master/data/pisasci2006.csv\")\n",
        "# Remove missing values\n",
        "mf<-na.omit(mf)\n",
        "str(mf)"
      ],
      "metadata": {
        "colab": {
          "base_uri": "https://localhost:8080/"
        },
        "id": "2ph3ubD_C1WL",
        "outputId": "0c15a424-3666-418a-fba8-e4eecdf30dce"
      },
      "execution_count": 10,
      "outputs": [
        {
          "output_type": "stream",
          "name": "stderr",
          "text": [
            "WARNING:rpy2.rinterface_lib.callbacks:R[write to console]: Registered S3 method overwritten by 'bit':\n",
            "  method   from  \n",
            "  print.ri gamlss\n",
            "\n"
          ]
        },
        {
          "output_type": "stream",
          "name": "stdout",
          "text": [
            "Rows: 65 Columns: 11\n",
            "── Column specification ────────────────────────────────────────────────────────\n",
            "Delimiter: \",\"\n",
            "chr  (1): Country\n",
            "dbl (10): Overall, Issues, Explain, Evidence, Interest, Support, Income, Hea...\n",
            "\n",
            "ℹ Use `spec()` to retrieve the full column specification for this data.\n",
            "ℹ Specify the column types or set `show_col_types = FALSE` to quiet this message.\n",
            "tibble [52 × 11] (S3: tbl_df/tbl/data.frame)\n",
            " $ Country : chr [1:52] \"Argentina\" \"Australia\" \"Austria\" \"Belgium\" ...\n",
            " $ Overall : num [1:52] 391 527 511 510 390 434 534 438 542 388 ...\n",
            " $ Issues  : num [1:52] 395 535 505 515 398 427 532 444 528 402 ...\n",
            " $ Explain : num [1:52] 386 520 516 503 390 444 531 432 549 379 ...\n",
            " $ Evidence: num [1:52] 385 531 505 516 378 417 542 440 542 383 ...\n",
            " $ Interest: num [1:52] 567 465 507 503 592 523 469 591 536 644 ...\n",
            " $ Support : num [1:52] 506 487 515 492 519 527 501 564 529 546 ...\n",
            " $ Income  : num [1:52] 0.678 0.826 0.835 0.831 0.637 0.663 0.84 0.673 0.853 0.616 ...\n",
            " $ Health  : num [1:52] 0.868 0.965 0.944 0.935 0.818 0.829 0.951 0.923 0.966 0.829 ...\n",
            " $ Edu     : num [1:52] 0.786 0.978 0.824 0.868 0.646 0.778 0.902 0.764 0.763 0.624 ...\n",
            " $ HDI     : num [1:52] 0.773 0.92 0.866 0.877 0.695 0.753 0.897 0.78 0.857 0.683 ...\n",
            " - attr(*, \"na.action\")= 'omit' Named int [1:13] 1 5 29 30 33 36 42 43 50 51 ...\n",
            "  ..- attr(*, \"names\")= chr [1:13] \"1\" \"5\" \"29\" \"30\" ...\n"
          ]
        }
      ]
    },
    {
      "cell_type": "markdown",
      "source": [
        "#### Data Visualization\n",
        "We can use ggplot2 to create a scatterplot matrix to visualize the relationships between the variables in the dataset.\n"
      ],
      "metadata": {
        "id": "Au3T0zmgm-Gl"
      }
    },
    {
      "cell_type": "code",
      "source": [
        "%%R -h 800 -w 800 -u px\n",
        "# create a data frame with the variables of interest\n",
        "df<-mf |>\n",
        "  dplyr::select(Country, Overall,Income, Health,  Edu, Interest)\n",
        "# create a scatter plot  qith smooth line\n",
        "p1<-ggplot(df, aes(x = Overall, y = Income)) +\n",
        "  geom_point() +\n",
        "  geom_smooth(method = \"gam\", formula = y ~ splines::bs(x, 4), se = TRUE)\n",
        "p2<-ggplot(df, aes(x = Overall, y = Health)) +\n",
        "  geom_point() +\n",
        "  geom_smooth(method = \"gam\", formula = y ~ splines::bs(x, 4), se = TRUE)\n",
        "p3<-ggplot(df, aes(x = Overall, y = Edu)) +\n",
        "  geom_point() +\n",
        "  geom_smooth(method = \"gam\", formula = y ~ splines::bs(x, 4), se = TRUE)\n",
        "p4<-ggplot(df, aes(x = Overall, y = Interest)) +\n",
        "  geom_point() +\n",
        "  geom_smooth(method = \"gam\", formula = y ~ splines::bs(x, 4), se = TRUE)\n",
        "library(patchwork)\n",
        "(p1+p2)/(p3+p4)"
      ],
      "metadata": {
        "colab": {
          "base_uri": "https://localhost:8080/",
          "height": 817
        },
        "id": "OVc1VRBeIwcQ",
        "outputId": "08ad4f3a-6438-4f55-e57a-b47d27d43572"
      },
      "execution_count": 11,
      "outputs": [
        {
          "output_type": "display_data",
          "data": {
            "image/png": "[encoded data removed]"
          },
          "metadata": {}
        }
      ]
    },
    {
      "cell_type": "markdown",
      "source": [
        "The scatterplot matrix shows relationships between the four important variables in the `Overall` dataset. For example, the scatterplot of `Overall` vs. all for prectors reveals a non-linear relationship, suggesting a GAM might be appropriate."
      ],
      "metadata": {
        "id": "0O7Yy_fJlIoa"
      }
    },
    {
      "cell_type": "markdown",
      "source": [
        "#### Split Data\n",
        "\n",
        "We will split the data into training and testing sets, The training set will contain 70% of the data, and the testing set will contain the remaining 30%."
      ],
      "metadata": {
        "id": "S8DJfiXTlJC6"
      }
    },
    {
      "cell_type": "code",
      "source": [
        "%%R\n",
        "# set the seed to make your partition reproducible\n",
        "seeds = 11076\n",
        "## 75% of the sample size\n",
        "smp_size <- floor(0.75 * nrow(mf))\n",
        "## set the seed to make your partition reproducible\n",
        "set.seed(123)\n",
        "train_ind <- sample(seq_len(nrow(mf)), size = smp_size)\n",
        "train <- mf[train_ind, ]\n",
        "test <- mf[-train_ind, ]"
      ],
      "metadata": {
        "id": "gpJeRhhLlJ2m"
      },
      "execution_count": 12,
      "outputs": []
    },
    {
      "cell_type": "markdown",
      "source": [
        "\n",
        "### Fit Univariate GAM Model\n",
        "\n",
        "In this example, we’ll fit a univariate GAM model using the {mgcv}, {gam}, and {gamlss} packages to model the relationship between the `Overall` variable and a single predictor `Income` of `Overall` data set. We’ll use a cubic regression spline with 3 degrees of freedom. We will use `s()` is the shorthand for fitting smoothing splines in gam() function.\n",
        "\n",
        "\n",
        "\n",
        "\n"
      ],
      "metadata": {
        "id": "P3o8Ay9miNcO"
      }
    },
    {
      "cell_type": "markdown",
      "source": [
        "#### GAM with {mgcv} Package\n",
        "\n",
        "{gam} function is used to fit a GAM model in the {mgcv} package. The `s()` function is used to specify a smooth term for the predictor `Income` using a cubic regression spline. `family()` object specifying the distribution and link to use in fitting etc."
      ],
      "metadata": {
        "id": "KEXucqI3_ASw"
      }
    },
    {
      "cell_type": "code",
      "source": [
        "%%R\n",
        "library(mgcv)\n",
        "# Fit a GAM model using the mgcv package\n",
        "mgcv.uni <- mgcv::gam(Overall ~ s(Income), data = train,\n",
        "              family= gaussian(link = \"identity\"))\n",
        "summary(mgcv.uni)"
      ],
      "metadata": {
        "id": "do4-RiQYiQmN",
        "colab": {
          "base_uri": "https://localhost:8080/"
        },
        "outputId": "272e32cd-e288-458d-c465-786371b63a7d"
      },
      "execution_count": 13,
      "outputs": [
        {
          "output_type": "stream",
          "name": "stdout",
          "text": [
            "\n",
            "Family: gaussian \n",
            "Link function: identity \n",
            "\n",
            "Formula:\n",
            "Overall ~ s(Income)\n",
            "\n",
            "Parametric coefficients:\n",
            "            Estimate Std. Error t value Pr(>|t|)    \n",
            "(Intercept)  472.718      3.953   119.6   <2e-16 ***\n",
            "---\n",
            "Signif. codes:  0 ‘***’ 0.001 ‘**’ 0.01 ‘*’ 0.05 ‘.’ 0.1 ‘ ’ 1\n",
            "\n",
            "Approximate significance of smooth terms:\n",
            "            edf Ref.df     F p-value    \n",
            "s(Income) 7.585   8.49 20.47  <2e-16 ***\n",
            "---\n",
            "Signif. codes:  0 ‘***’ 0.001 ‘**’ 0.01 ‘*’ 0.05 ‘.’ 0.1 ‘ ’ 1\n",
            "\n",
            "R-sq.(adj) =  0.817   Deviance explained = 85.3%\n",
            "GCV = 781.25  Scale est. = 609.28    n = 39\n"
          ]
        }
      ]
    },
    {
      "cell_type": "markdown",
      "source": [
        "summary(mgcv.uni) provides a summary of the fitted GAM model, including the estimated coefficients, degrees of freedom, and significance levels for each term. The `edf` column shows the effective degrees of freedom for the smooth term, which is a measure of the complexity of the fitted curve. The `p-value` column indicates the significance of the smooth term in the model. In this case, the smooth term for `Income` is highly significant (p \\< 0.001), suggesting that `Income` has a non-linear effect on `Overall`. The `R-sq.(adj)` value represents the adjusted R-squared value of the model, which is a measure of how well the model fits the data. In this case, the adjusted R-squared value is 0.817, indicating that the model explains 81% of the variance in `Overall`."
      ],
      "metadata": {
        "id": "iailC8bJ_Kha"
      }
    },
    {
      "cell_type": "markdown",
      "source": [
        "The {gratia} package is designed to work with {mgcv} and offers enhanced visualization and diagnostic tools."
      ],
      "metadata": {
        "id": "TsFit37Um-mT"
      }
    },
    {
      "cell_type": "code",
      "source": [
        "%%R -w 500 -h 500 -u px\n",
        "gratia::draw(mgcv.uni)"
      ],
      "metadata": {
        "colab": {
          "base_uri": "https://localhost:8080/",
          "height": 517
        },
        "id": "wVWEY5zHm_gB",
        "outputId": "4d1af9e9-8e82-4521-8ff6-9bd134bbc695"
      },
      "execution_count": 14,
      "outputs": [
        {
          "output_type": "display_data",
          "data": {
            "image/png": "[encoded data removed]"
          },
          "metadata": {}
        }
      ]
    },
    {
      "cell_type": "markdown",
      "source": [
        "#### GAM with {gam} Package\n",
        "\n",
        "The {gam} package provides a simpler interface for fitting GAMs. The `gam()` function is used to fit a GAM model with a cubic regression spline for the predictor `Income`. The `s()` function is used to specify a smooth term for the predictor `Income` using a cubic regression spline."
      ],
      "metadata": {
        "id": "YKDMZtX4T50t"
      }
    },
    {
      "cell_type": "code",
      "source": [
        "%%R\n",
        "##  you have to detach {mgcv} before using {gam} package\n",
        "detach(\"package:mgcv\", unload=TRUE)\n",
        "# Fit a GAM to model the relationship between mpg and hp\n",
        "gam.uni <- gam::gam(Overall ~ s(Income), data = train,\n",
        "                      family= gaussian(link = \"identity\"))\n",
        "# Summary of the GAM\n",
        "summary(gam.uni)"
      ],
      "metadata": {
        "colab": {
          "base_uri": "https://localhost:8080/"
        },
        "id": "WC3j_Nrh_fNe",
        "outputId": "0019d624-cb84-42ea-c688-5c003f663bdd"
      },
      "execution_count": 15,
      "outputs": [
        {
          "output_type": "stream",
          "name": "stdout",
          "text": [
            "\n",
            "Call: gam::gam(formula = Overall ~ s(Income), family = gaussian(link = \"identity\"), \n",
            "    data = train)\n",
            "Deviance Residuals:\n",
            "    Min      1Q  Median      3Q     Max \n",
            "-94.230 -12.954   3.988  17.807  50.374 \n",
            "\n",
            "(Dispersion Parameter for gaussian family taken to be 845.4251)\n",
            "\n",
            "    Null Deviance: 126385.9 on 38 degrees of freedom\n",
            "Residual Deviance: 28744.31 on 33.9998 degrees of freedom\n",
            "AIC: 380.1803 \n",
            "\n",
            "Number of Local Scoring Iterations: NA \n",
            "\n",
            "Anova for Parametric Effects\n",
            "          Df Sum Sq Mean Sq F value   Pr(>F)    \n",
            "s(Income)  1  60339   60339  71.371 7.26e-10 ***\n",
            "Residuals 34  28744     845                     \n",
            "---\n",
            "Signif. codes:  0 ‘***’ 0.001 ‘**’ 0.01 ‘*’ 0.05 ‘.’ 0.1 ‘ ’ 1\n",
            "\n",
            "Anova for Nonparametric Effects\n",
            "            Npar Df Npar F    Pr(F)    \n",
            "(Intercept)                            \n",
            "s(Income)         3 14.707 2.63e-06 ***\n",
            "---\n",
            "Signif. codes:  0 ‘***’ 0.001 ‘**’ 0.01 ‘*’ 0.05 ‘.’ 0.1 ‘ ’ 1\n"
          ]
        }
      ]
    },
    {
      "cell_type": "markdown",
      "source": [
        "Above output provides a summary of the fitted GAM model, including the estimated coefficients, degrees of freedom, and significance levels for each term. Anova for parametric effect shows the sum of squares contributed by each predictor. The `p-value` column indicates the significance of the smooth term in the model. In this case, the smooth term for `Income` is highly significant (p \\< 0.001), suggesting that `Income` has a non-linear effect on `Overall`."
      ],
      "metadata": {
        "id": "a_9zIyh8_ndI"
      }
    },
    {
      "cell_type": "markdown",
      "source": [
        "#### GAM with {gamlss} Package\n",
        "\n",
        "`gamlss()` function fits a Generalized Additive Model for Location, Scale, and Shape (GAMLSS) using the {gamlss} package. This function allows for modeling the entire distribution of the response variable, not just the mean. The distribution for the response variable in the GAMLSS can be selected from a very general `family` of distributions including highly skew and/or kurtotic continuous and discrete distributions, and the parameters of the distribution can be modeled as functions of covariates.\n",
        "\n",
        "We will use `pb()` is the shorthand for fitting smoothing function."
      ],
      "metadata": {
        "id": "d4E-axM-nWMe"
      }
    },
    {
      "cell_type": "code",
      "source": [
        "%%R\n",
        "gamlss.uni <- gamlss(Overall ~ pb(Income), data = train, # pb() is a smooth function\n",
        "                       family =NO) # NO() defines the normal distribution\n",
        "summary(gamlss.uni)"
      ],
      "metadata": {
        "colab": {
          "base_uri": "https://localhost:8080/"
        },
        "id": "bo2SUzgI_tPh",
        "outputId": "a23687d8-58fe-443d-a9f5-aa17e6a3a716"
      },
      "execution_count": 16,
      "outputs": [
        {
          "output_type": "stream",
          "name": "stdout",
          "text": [
            "GAMLSS-RS iteration 1: Global Deviance = 356.9995 \n",
            "GAMLSS-RS iteration 2: Global Deviance = 356.9665 \n",
            "GAMLSS-RS iteration 3: Global Deviance = 356.9672 \n",
            "******************************************************************\n",
            "Family:  c(\"NO\", \"Normal\") \n",
            "\n",
            "Call:  gamlss(formula = Overall ~ pb(Income), family = NO,      data = train) \n",
            "\n",
            "\n",
            "Fitting method: RS() \n",
            "\n",
            "------------------------------------------------------------------\n",
            "Mu link function:  identity\n",
            "Mu Coefficients:\n",
            "            Estimate Std. Error t value Pr(>|t|)    \n",
            "(Intercept)   216.19      24.84   8.703 7.77e-10 ***\n",
            "pb(Income)    342.32      32.77  10.447 1.09e-11 ***\n",
            "---\n",
            "Signif. codes:  0 ‘***’ 0.001 ‘**’ 0.01 ‘*’ 0.05 ‘.’ 0.1 ‘ ’ 1\n",
            "\n",
            "------------------------------------------------------------------\n",
            "Sigma link function:  log\n",
            "Sigma Coefficients:\n",
            "            Estimate Std. Error t value Pr(>|t|)    \n",
            "(Intercept)   3.1576     0.1132   27.89   <2e-16 ***\n",
            "---\n",
            "Signif. codes:  0 ‘***’ 0.001 ‘**’ 0.01 ‘*’ 0.05 ‘.’ 0.1 ‘ ’ 1\n",
            "\n",
            "------------------------------------------------------------------\n",
            "NOTE: Additive smoothing terms exist in the formulas: \n",
            " i) Std. Error for smoothers are for the linear effect only. \n",
            "ii) Std. Error for the linear terms maybe are not accurate. \n",
            "------------------------------------------------------------------\n",
            "No. of observations in the fit:  39 \n",
            "Degrees of Freedom for the fit:  7.927218\n",
            "      Residual Deg. of Freedom:  31.07278 \n",
            "                      at cycle:  3 \n",
            " \n",
            "Global Deviance:     356.9672 \n",
            "            AIC:     372.8216 \n",
            "            SBC:     386.009 \n",
            "******************************************************************\n"
          ]
        }
      ]
    },
    {
      "cell_type": "code",
      "source": [
        "%%R -h 800 -w 800 -u px\n",
        "# Plot the fitted distribution\n",
        "plot(gamlss.uni,se = TRUE)"
      ],
      "metadata": {
        "colab": {
          "base_uri": "https://localhost:8080/",
          "height": 956
        },
        "id": "icBej_UcnfwQ",
        "outputId": "dee8f73c-2b34-4eb4-b47a-98a4e6f366b7"
      },
      "execution_count": 17,
      "outputs": [
        {
          "output_type": "stream",
          "name": "stdout",
          "text": [
            "******************************************************************\n",
            "\t      Summary of the Quantile Residuals\n",
            "                           mean   =  -2.629949e-14 \n",
            "                       variance   =  1.026316 \n",
            "               coef. of skewness  =  -0.4128001 \n",
            "               coef. of kurtosis  =  3.077463 \n",
            "Filliben correlation coefficient  =  0.9841758 \n",
            "******************************************************************\n"
          ]
        },
        {
          "output_type": "display_data",
          "data": {
            "image/png": "[encoded data removed]"
          },
          "metadata": {}
        }
      ]
    },
    {
      "cell_type": "markdown",
      "source": [
        "### Fit Multivarite GAM Model\n",
        "\n",
        "To fit a multivariate Generalized Additive Model (GAM) using the Overall dataset from the {ISLR} package in R, we can approach this using the {mgcv}, {gam}, and {gamlss} packages. We will model the relationship between the `Overall` variable and multiple predictors: `Income`, `Edu`, `Health` and `Interest`. We will use cubic regression splines for each predictor.Variable dispersion shows a significant improvement with the inclusion of the `temp` regressor."
      ],
      "metadata": {
        "id": "IhHncXJN_1-h"
      }
    },
    {
      "cell_type": "markdown",
      "source": [
        "#### GAM with {mgcv} Package\n",
        "\n",
        "{gam} function is used to fit a GAM model in the {mgcv} package. The `s()` function is used to specify a smooth term for the predictors `Income`, `Edu`, `Health` and `interest` using a cubic regression spline. `k` is the number of knots to use in the basis expansion. The default is 10. The `k` argument controls the smoothness of the fitted curve. We use k=15 for each predictor."
      ],
      "metadata": {
        "id": "RpjAcSsfURD1"
      }
    },
    {
      "cell_type": "code",
      "source": [
        "%%R\n",
        "library(mgcv)\n",
        "# Fit a GAM model using the mgcv package\n",
        "mgcv.multi <- mgcv::gam(Overall ~ s(Income, k=15) + s(Edu, k=15) + s(Health, k=15) + s(Interest, k=15), data = train,\n",
        "              family= gaussian(link = \"identity\"))\n",
        "summary(mgcv.multi)"
      ],
      "metadata": {
        "id": "vr9mHWMX_tRS",
        "colab": {
          "base_uri": "https://localhost:8080/"
        },
        "outputId": "78481ac5-04f4-4b5c-c09d-a24b750bbaeb"
      },
      "execution_count": 18,
      "outputs": [
        {
          "output_type": "stream",
          "name": "stderr",
          "text": [
            "WARNING:rpy2.rinterface_lib.callbacks:R[write to console]: This is mgcv 1.9-1. For overview type 'help(\"mgcv-package\")'.\n",
            "\n",
            "WARNING:rpy2.rinterface_lib.callbacks:R[write to console]: \n",
            "Attaching package: ‘mgcv’\n",
            "\n",
            "\n",
            "WARNING:rpy2.rinterface_lib.callbacks:R[write to console]: The following objects are masked from ‘package:gam’:\n",
            "\n",
            "    gam, gam.control, gam.fit, s\n",
            "\n",
            "\n"
          ]
        },
        {
          "output_type": "stream",
          "name": "stdout",
          "text": [
            "\n",
            "Family: gaussian \n",
            "Link function: identity \n",
            "\n",
            "Formula:\n",
            "Overall ~ s(Income, k = 15) + s(Edu, k = 15) + s(Health, k = 15) + \n",
            "    s(Interest, k = 15)\n",
            "\n",
            "Parametric coefficients:\n",
            "            Estimate Std. Error t value Pr(>|t|)    \n",
            "(Intercept)  472.718      2.582   183.1   <2e-16 ***\n",
            "---\n",
            "Signif. codes:  0 ‘***’ 0.001 ‘**’ 0.01 ‘*’ 0.05 ‘.’ 0.1 ‘ ’ 1\n",
            "\n",
            "Approximate significance of smooth terms:\n",
            "              edf Ref.df     F p-value   \n",
            "s(Income)   5.894  6.915 4.799 0.00356 **\n",
            "s(Edu)      7.022  8.216 1.914 0.11761   \n",
            "s(Health)   2.099  2.519 0.618 0.54811   \n",
            "s(Interest) 5.131  6.081 2.276 0.08152 . \n",
            "---\n",
            "Signif. codes:  0 ‘***’ 0.001 ‘**’ 0.01 ‘*’ 0.05 ‘.’ 0.1 ‘ ’ 1\n",
            "\n",
            "R-sq.(adj) =  0.922   Deviance explained = 96.3%\n",
            "GCV = 567.73  Scale est. = 259.92    n = 39\n"
          ]
        }
      ]
    },
    {
      "cell_type": "markdown",
      "source": [
        "Above output provides a summary of the fitted GAM model, including the estimated coefficients, degrees of freedom, and significance levels for each term. The effective degrees of freedom (`edf`) column shows the effective degrees of freedom for the smooth term, which is a measure of the complexity of the fitted curve. The `p-value` column indicates the significance of the smooth term in the model. In this case, the smooth term for `Income` and `Interest` are highly significant (p \\< 0.001), suggesting that both these predictors have a non-linear effect on `Overall`. The `R-sq.(adj)` value represents the adjusted R-squared value of the model, which is a measure of how well the model fits the data. In this case, the adjusted R-squared value is 0.92, indicating that the model explains 92% of the variance in `Overall`. The `GCV`, or generalized cross validation score can be taken as an estimate of the mean square prediction error based on a leave-one-out cross validation estimation process.with a lower number of iterations than for gy_loglog which had 51 iterations.\n",
        "\n",
        "The {gratia} package is designed to work with {mgcv} and offers enhanced visualization and diagnostic tools."
      ],
      "metadata": {
        "id": "fc20CBLt_nfH"
      }
    },
    {
      "cell_type": "code",
      "source": [
        "%%R -w 1000 -h 800 -u px\n",
        "gratia::draw(mgcv.multi)"
      ],
      "metadata": {
        "colab": {
          "base_uri": "https://localhost:8080/",
          "height": 817
        },
        "id": "3Wq8lZ4Vn9S_",
        "outputId": "26125048-1fcd-4795-a071-aa8032527389"
      },
      "execution_count": 19,
      "outputs": [
        {
          "output_type": "display_data",
          "data": {
            "image/png": "[encoded data removed]"
          },
          "metadata": {}
        }
      ]
    },
    {
      "cell_type": "markdown",
      "source": [
        "Plot revels the fitted GAM model, including the smooth terms for `Income`, `Edu`, `Health`, and `Interest`. The solid lines represent the estimated relationships between each predictor and `Overall`, while the shaded areas represent the 95% confidence intervals around the estimates. The plot shows non-linear relationships between each predictor and `Overall`, with different patterns for each predictor. The smooth terms capture these non-linear relationships effectively."
      ],
      "metadata": {
        "id": "DLvE-6K2oM1j"
      }
    },
    {
      "cell_type": "markdown",
      "source": [
        "#### GAM with {gam} Package\n",
        "\n",
        "The {gam} package provides a simpler interface for fitting GAMs. The `gam()` function is used to fit a GAM model with a cubic regression spline for the predictor `Income`, `Edu`, `Health` and `Interest`. `df` is the degree of freedom for the spline.\n"
      ],
      "metadata": {
        "id": "wdVR7GMkUeqn"
      }
    },
    {
      "cell_type": "code",
      "source": [
        "%%R\n",
        "##  you have to detach {mgcv} before using {gam} package\n",
        "detach(\"package:mgcv\", unload=TRUE)\n",
        "# Fit a GAM to model the relationship between mpg and hp\n",
        "gam.multi <- gam::gam(Overall ~ s(Income, df=15) + s(Edu, df=15) + s(Health, df=15) + s(Interest, df=15),  data = train,\n",
        "                      family= gaussian(link = \"identity\"))\n",
        "# Summary of the GAM\n",
        "summary(gam.multi)"
      ],
      "metadata": {
        "colab": {
          "base_uri": "https://localhost:8080/"
        },
        "id": "vlIEIucIADMC",
        "outputId": "6c09732b-33ee-4add-f3f7-5f7d40c2d3de"
      },
      "execution_count": 20,
      "outputs": [
        {
          "output_type": "stream",
          "name": "stdout",
          "text": [
            "\n",
            "Call: gam::gam(formula = Overall ~ s(Income, df = 15) + s(Edu, df = 15) + \n",
            "    s(Health, df = 15) + s(Interest, df = 15), family = gaussian(link = \"identity\"), \n",
            "    data = train)\n",
            "\n",
            "(Dispersion Parameter for gaussian family taken to be Inf)\n",
            "\n",
            "    Null Deviance: 126385.9 on 38 degrees of freedom\n",
            "Residual Deviance: 349.6113 on -21.9994 degrees of freedom\n",
            "AIC: 320.2131 \n",
            "\n",
            "Number of Local Scoring Iterations: NA \n",
            "\n",
            "Anova for Parametric Effects\n",
            "                          Df Sum Sq Mean Sq   F value Pr(>F)\n",
            "s(Income, df = 15)     1.000  53505   53505 -3366.803    NaN\n",
            "s(Edu, df = 15)        1.000   2017    2017  -126.917    NaN\n",
            "s(Health, df = 15)     1.000   1562    1562   -98.317    NaN\n",
            "s(Interest, df = 15)   1.000   4731    4731  -297.707    NaN\n",
            "Residuals            -21.999    350     -16                 \n",
            "\n",
            "Anova for Nonparametric Effects\n",
            "                     Npar Df Npar F Pr(F)\n",
            "(Intercept)                              \n",
            "s(Income, df = 15)        14      0      \n",
            "s(Edu, df = 15)           14      0      \n",
            "s(Health, df = 15)        14      0      \n",
            "s(Interest, df = 15)      14      0      \n"
          ]
        }
      ]
    },
    {
      "cell_type": "code",
      "source": [
        "%%R -w 1000 -h 800 -u px\n",
        "#Plotting the Model\n",
        "par(mfrow=c(2,2)) #to partition the Plotting Window\n",
        "plot(gam.multi)"
      ],
      "metadata": {
        "colab": {
          "base_uri": "https://localhost:8080/",
          "height": 817
        },
        "id": "bic5zGOQUm7o",
        "outputId": "726af07a-977a-4a43-ef34-b42e9faf09a0"
      },
      "execution_count": 21,
      "outputs": [
        {
          "output_type": "display_data",
          "data": {
            "image/png": "[encoded data removed]"
          },
          "metadata": {}
        }
      ]
    },
    {
      "cell_type": "markdown",
      "source": [
        "#### GAM with {gamlss} Package\n",
        "\n",
        "`gamlss()` function fits a Generalized Additive Model for Location, Scale, and Shape (GAMLSS) using the {gamlss} package. This function allows for modeling the entire distribution of the response variable, not just the mean. The distribution for the response variable in the GAMLSS can be selected from a very general `family` of distributions including highly skew and/or kurtotic continuous and discrete distributions, and the parameters of the distribution can be modeled as functions of covariates.\n",
        "\n",
        "We will use `pb()` is the shorthand for fitting smoothing function."
      ],
      "metadata": {
        "id": "GS3jrL3_AJA-"
      }
    },
    {
      "cell_type": "code",
      "source": [
        "%%R\n",
        "gamlss.multi <- gamlss(Overall ~  pb(Income) + pb(Edu) + pb(Health) + pb(Interest), data = train, # pb() is a smooth function\n",
        "                       family =NO) # NO() defines the normal distribution\n",
        "summary(gamlss.multi)\n"
      ],
      "metadata": {
        "id": "dQ9vGDoxAOzx",
        "colab": {
          "base_uri": "https://localhost:8080/"
        },
        "outputId": "e8d296d2-61eb-4598-852a-99da6a0c6da8"
      },
      "execution_count": 22,
      "outputs": [
        {
          "output_type": "stream",
          "name": "stdout",
          "text": [
            "GAMLSS-RS iteration 1: Global Deviance = 350.7869 \n",
            "GAMLSS-RS iteration 2: Global Deviance = 350.7779 \n",
            "GAMLSS-RS iteration 3: Global Deviance = 350.777 \n",
            "******************************************************************\n",
            "Family:  c(\"NO\", \"Normal\") \n",
            "\n",
            "Call:  gamlss(formula = Overall ~ pb(Income) + pb(Edu) + pb(Health) +  \n",
            "    pb(Interest), family = NO, data = train) \n",
            "\n",
            "Fitting method: RS() \n",
            "\n",
            "------------------------------------------------------------------\n",
            "Mu link function:  identity\n",
            "Mu Coefficients:\n",
            "             Estimate Std. Error t value Pr(>|t|)   \n",
            "(Intercept)  446.4572   140.8361   3.170  0.00359 **\n",
            "pb(Income)   165.0185    68.3501   2.414  0.02234 * \n",
            "pb(Edu)      102.7553    61.0555   1.683  0.10317   \n",
            "pb(Health)    17.9481   112.8893   0.159  0.87478   \n",
            "pb(Interest)  -0.3709     0.1446  -2.564  0.01581 * \n",
            "---\n",
            "Signif. codes:  0 ‘***’ 0.001 ‘**’ 0.01 ‘*’ 0.05 ‘.’ 0.1 ‘ ’ 1\n",
            "\n",
            "------------------------------------------------------------------\n",
            "Sigma link function:  log\n",
            "Sigma Coefficients:\n",
            "            Estimate Std. Error t value Pr(>|t|)    \n",
            "(Intercept)   3.0782     0.1132   27.19   <2e-16 ***\n",
            "---\n",
            "Signif. codes:  0 ‘***’ 0.001 ‘**’ 0.01 ‘*’ 0.05 ‘.’ 0.1 ‘ ’ 1\n",
            "\n",
            "------------------------------------------------------------------\n",
            "NOTE: Additive smoothing terms exist in the formulas: \n",
            " i) Std. Error for smoothers are for the linear effect only. \n",
            "ii) Std. Error for the linear terms maybe are not accurate. \n",
            "------------------------------------------------------------------\n",
            "No. of observations in the fit:  39 \n",
            "Degrees of Freedom for the fit:  10.13701\n",
            "      Residual Deg. of Freedom:  28.86299 \n",
            "                      at cycle:  3 \n",
            " \n",
            "Global Deviance:     350.777 \n",
            "            AIC:     371.051 \n",
            "            SBC:     387.9146 \n",
            "******************************************************************\n"
          ]
        }
      ]
    },
    {
      "cell_type": "markdown",
      "source": [
        "From above output Global Deviance is 350.7, AIC is 371, BIC is 387.91 and Sigma Coefficients of estimates 3.70 (p\\<0.001). The `p-value` column indicates the significance of the smooth term in the model. In this case, the smooth term for `Income` and `Interest` are significant (p \\< 0.05), suggesting that both these predictors have a non-linear effect on `Overall`."
      ],
      "metadata": {
        "id": "iBEsisxio_zf"
      }
    },
    {
      "cell_type": "markdown",
      "source": [
        "### GAM Models with Different Smoothing Functions\n",
        "\n",
        "In the {mgcv} package in R, you can fit a Generalized Additive Model (GAM) with different smoothing functions using the `gam()` function. By specifying different smooth terms (e.g., `s()` for thin plate regression splines, `te()` for tensor product smooths, `ti()` for tensor interactions, and `bs=\"cr\"` for cubic regression splines), you can experiment with various types of smooths.\n",
        "\n",
        "-   `\"tp\"`: Thin plate regression spline (default).\n",
        "\n",
        "-   `\"cr\"`: Cubic regression spline.\n",
        "\n",
        "-   `\"ps\"`: P-spline.\n",
        "\n",
        "-   `\"cs\"`: Cyclic cubic regression spline, suitable for cyclic data (e.g., periodic).\n",
        "\n",
        "-   `te(x, z)`: Tensor product smooth for interactions of multiple covariates."
      ],
      "metadata": {
        "id": "foBxzg-EpBOa"
      }
    },
    {
      "cell_type": "code",
      "source": [
        "%%R\n",
        "library(mgcv)\n",
        "# Thin plate regression spline\n",
        "gam.tp <- gam(Overall ~ s(Income, bs=\"tp\", k=15) +\n",
        "                        s(Edu, bs=\"tp\", k=15) +\n",
        "                        s(Health, bs=\"tp\", k=15) +\n",
        "                        s(Interest, bs=\"tp\", k=15),\n",
        "                        method=\"REML\",\n",
        "                        data = train)\n",
        "\n",
        "# Cubic regression spline\n",
        "gam.cr <- gam(Overall ~ s(Income, bs=\"cr\", k=15) +\n",
        "                        s(Edu, bs=\"cr\", k=15) +\n",
        "                        s(Health, bs=\"cr\", k=15) +\n",
        "                        s(Interest, bs=\"cr\", k=15),\n",
        "                        method=\"REML\",\n",
        "                        data = train)\n",
        "\n",
        "#  P-spline.\n",
        "gam.ps <- gam(Overall ~ s(Income, bs=\"ps\", k=15) +\n",
        "                        s(Edu, bs=\"ps\", k=15) +\n",
        "                        s(Health, bs=\"ps\", k=15) +\n",
        "                        s(Interest, bs=\"ps\", k=15),\n",
        "                        method=\"REML\",\n",
        "                        data = train)"
      ],
      "metadata": {
        "colab": {
          "base_uri": "https://localhost:8080/"
        },
        "id": "zdaSU4Caj6zX",
        "outputId": "d81d7866-d01c-43c8-8e1c-3e38a23edc44"
      },
      "execution_count": 23,
      "outputs": [
        {
          "output_type": "stream",
          "name": "stderr",
          "text": [
            "WARNING:rpy2.rinterface_lib.callbacks:R[write to console]: This is mgcv 1.9-1. For overview type 'help(\"mgcv-package\")'.\n",
            "\n",
            "WARNING:rpy2.rinterface_lib.callbacks:R[write to console]: \n",
            "Attaching package: ‘mgcv’\n",
            "\n",
            "\n",
            "WARNING:rpy2.rinterface_lib.callbacks:R[write to console]: The following objects are masked from ‘package:gam’:\n",
            "\n",
            "    gam, gam.control, gam.fit, s\n",
            "\n",
            "\n"
          ]
        }
      ]
    },
    {
      "cell_type": "code",
      "source": [
        "%%R\n",
        "# Compare models using AIC\n",
        "AIC(gam.tp, gam.cr, gam.ps)"
      ],
      "metadata": {
        "id": "d4Q1ztpCs5PE",
        "colab": {
          "base_uri": "https://localhost:8080/"
        },
        "outputId": "13b8c6df-e711-4908-bdd9-f35a4c2f23d8"
      },
      "execution_count": 24,
      "outputs": [
        {
          "output_type": "stream",
          "name": "stdout",
          "text": [
            "             df      AIC\n",
            "gam.tp 14.56445 368.0780\n",
            "gam.cr 14.24128 368.0626\n",
            "gam.ps 13.91680 367.9573\n"
          ]
        }
      ]
    },
    {
      "cell_type": "markdown",
      "source": [
        "The effective degrees of freedom (EDF) gives a sense of the smoothness of each term. Higher EDF values indicate a more flexible curve, while lower values indicate more smoothing."
      ],
      "metadata": {
        "id": "2rGySiSppyUG"
      }
    },
    {
      "cell_type": "code",
      "source": [
        "%%R\n",
        "summary(gam.tp)$edf;\n",
        "summary(gam.cr)$edf;\n",
        "summary(gam.ps)$edf"
      ],
      "metadata": {
        "colab": {
          "base_uri": "https://localhost:8080/"
        },
        "id": "yT7UJdYcp10b",
        "outputId": "bfe15b49-7b1c-4b7b-8692-b0618559e4b9"
      },
      "execution_count": 25,
      "outputs": [
        {
          "output_type": "stream",
          "name": "stdout",
          "text": [
            "[1] 4.365040 1.000135 1.000004 3.777565\n"
          ]
        }
      ]
    },
    {
      "cell_type": "markdown",
      "source": [
        "#### Automatic Smoothing Parameter Search with {itsadug} Package\n",
        "\n",
        "-   Use the {itsadug} package to compare different models with varied smooth terms automatically.\n",
        "\n",
        "-   This package has the `compareML()` function to automatically compare a set of candidate models and select the one with the lowest AIC or other model selection criteria."
      ],
      "metadata": {
        "id": "EIMwtx8JqEcC"
      }
    },
    {
      "cell_type": "code",
      "source": [
        "%%R\n",
        "library(itsadug)\n",
        "# Compare models\n",
        "compareML(gam.cr, gam.tp)"
      ],
      "metadata": {
        "colab": {
          "base_uri": "https://localhost:8080/"
        },
        "id": "t0uoPjAVqKiX",
        "outputId": "1c76e60a-639a-49dd-ad0e-85851d490d56"
      },
      "execution_count": 26,
      "outputs": [
        {
          "output_type": "stream",
          "name": "stderr",
          "text": [
            "WARNING:rpy2.rinterface_lib.callbacks:R[write to console]: Loading required package: plotfunctions\n",
            "\n",
            "WARNING:rpy2.rinterface_lib.callbacks:R[write to console]: \n",
            "Attaching package: ‘plotfunctions’\n",
            "\n",
            "\n",
            "WARNING:rpy2.rinterface_lib.callbacks:R[write to console]: The following object is masked from ‘package:Metrics’:\n",
            "\n",
            "    se\n",
            "\n",
            "\n",
            "WARNING:rpy2.rinterface_lib.callbacks:R[write to console]: The following object is masked from ‘package:ggplot2’:\n",
            "\n",
            "    alpha\n",
            "\n",
            "\n",
            "WARNING:rpy2.rinterface_lib.callbacks:R[write to console]: Loaded package itsadug 2.4 (see 'help(\"itsadug\")' ).\n",
            "\n"
          ]
        },
        {
          "output_type": "stream",
          "name": "stdout",
          "text": [
            "gam.cr: Overall ~ s(Income, bs = \"cr\", k = 15) + s(Edu, bs = \"cr\", k = 15) + \n",
            "    s(Health, bs = \"cr\", k = 15) + s(Interest, bs = \"cr\", k = 15)\n",
            "\n",
            "gam.tp: Overall ~ s(Income, bs = \"tp\", k = 15) + s(Edu, bs = \"tp\", k = 15) + \n",
            "    s(Health, bs = \"tp\", k = 15) + s(Interest, bs = \"tp\", k = 15)\n",
            "\n",
            "Model gam.cr preferred: lower REML score (5.597), and equal df (0.000).\n",
            "-----\n",
            "   Model    Score Edf Difference    Df\n",
            "1 gam.tp 168.7726   9                 \n",
            "2 gam.cr 163.1753   9      5.597 0.000\n",
            "\n",
            "AIC difference: -0.02, model gam.cr has lower AIC.\n",
            "\n"
          ]
        }
      ]
    },
    {
      "cell_type": "code",
      "source": [
        "%%R\n",
        "compareML(gam.cr, gam.ps)"
      ],
      "metadata": {
        "colab": {
          "base_uri": "https://localhost:8080/"
        },
        "id": "ej_ISsq1qRnr",
        "outputId": "daaf930b-0c26-4fb3-b2a5-2b3bfc232a57"
      },
      "execution_count": 27,
      "outputs": [
        {
          "output_type": "stream",
          "name": "stdout",
          "text": [
            "gam.cr: Overall ~ s(Income, bs = \"cr\", k = 15) + s(Edu, bs = \"cr\", k = 15) + \n",
            "    s(Health, bs = \"cr\", k = 15) + s(Interest, bs = \"cr\", k = 15)\n",
            "\n",
            "gam.ps: Overall ~ s(Income, bs = \"ps\", k = 15) + s(Edu, bs = \"ps\", k = 15) + \n",
            "    s(Health, bs = \"ps\", k = 15) + s(Interest, bs = \"ps\", k = 15)\n",
            "\n",
            "Model gam.ps preferred: lower REML score (1.465), and equal df (0.000).\n",
            "-----\n",
            "   Model    Score Edf Difference    Df\n",
            "1 gam.cr 163.1753   9                 \n",
            "2 gam.ps 161.7107   9     -1.465 0.000\n",
            "\n",
            "AIC difference: 0.11, model gam.ps has lower AIC.\n",
            "\n"
          ]
        }
      ]
    },
    {
      "cell_type": "markdown",
      "source": [
        "#### Grid Search with {mgcv} and {purrr} Packages\n",
        "\n",
        "Use `purrr::map` to loop over different smoothing functions and assess the best fit based on `AIC` or `GCV.` This method allows you to test several different smoothing options and select the best model.\n",
        "\n",
        "-   In `gam()`, set the method to `\"REML\"` or `\"GCV.Cp\"` to let the model choose smoothing parameters that minimize either REML (restricted maximum likelihood) or GCV (generalized cross-validation) criteria.\n",
        "\n",
        "-   **REML** is typically preferred because it often leads to smoother fits than GCV and is more stable in terms of penalizing overfitting."
      ],
      "metadata": {
        "id": "XKl1Lv9QqVhq"
      }
    },
    {
      "cell_type": "code",
      "source": [
        "%%R\n",
        "# List of smoothing basis types to test\n",
        "smooth_types <- c(\"tp\", \"cr\", \"ps\")\n",
        "\n",
        "# Fit models with each type of smooth and calculate AIC\n",
        "models <- purrr::map(smooth_types, ~ gam(Overall ~\n",
        "            s(Income, bs = .x) +\n",
        "            s(Edu, bs = .x) +\n",
        "            s(Health, bs =.x) +\n",
        "            s(Interest, bs =.x),\n",
        "            data = train,\n",
        "            method = \"REML\"))\n",
        "\n",
        "\n",
        "aic_values <- map_dbl(models, AIC)\n",
        "\n",
        "# Find the best model by minimum AIC\n",
        "best_model <- models[[which.min(aic_values)]]\n",
        "summary(best_model)"
      ],
      "metadata": {
        "colab": {
          "base_uri": "https://localhost:8080/"
        },
        "id": "MsMIJGsVqYMo",
        "outputId": "807eaa7d-e8e4-4b11-bbea-b7a13779bad2"
      },
      "execution_count": 28,
      "outputs": [
        {
          "output_type": "stream",
          "name": "stdout",
          "text": [
            "\n",
            "Family: gaussian \n",
            "Link function: identity \n",
            "\n",
            "Formula:\n",
            "Overall ~ s(Income, bs = .x) + s(Edu, bs = .x) + s(Health, bs = .x) + \n",
            "    s(Interest, bs = .x)\n",
            "\n",
            "Parametric coefficients:\n",
            "            Estimate Std. Error t value Pr(>|t|)    \n",
            "(Intercept)  472.718      2.965   159.4   <2e-16 ***\n",
            "---\n",
            "Signif. codes:  0 ‘***’ 0.001 ‘**’ 0.01 ‘*’ 0.05 ‘.’ 0.1 ‘ ’ 1\n",
            "\n",
            "Approximate significance of smooth terms:\n",
            "              edf Ref.df     F p-value   \n",
            "s(Income)   5.237  6.117 5.454 0.00133 **\n",
            "s(Edu)      5.068  5.919 1.834 0.13561   \n",
            "s(Health)   1.603  1.948 0.182 0.80486   \n",
            "s(Interest) 3.249  3.996 1.680 0.19019   \n",
            "---\n",
            "Signif. codes:  0 ‘***’ 0.001 ‘**’ 0.01 ‘*’ 0.05 ‘.’ 0.1 ‘ ’ 1\n",
            "\n",
            "R-sq.(adj) =  0.897   Deviance explained = 93.8%\n",
            "-REML = 164.75  Scale est. = 342.87    n = 39\n"
          ]
        }
      ]
    },
    {
      "cell_type": "markdown",
      "source": [
        "The {gratia} package is designed to work with {mgcv} and offers enhanced visualization and diagnostic tools."
      ],
      "metadata": {
        "id": "4WpsSaxIqtEf"
      }
    },
    {
      "cell_type": "code",
      "source": [
        "%%R -w 1000 -h 800 -u px\n",
        "gratia::draw(best_model)"
      ],
      "metadata": {
        "colab": {
          "base_uri": "https://localhost:8080/",
          "height": 817
        },
        "id": "OdsVYNHEqt7B",
        "outputId": "651db6c8-8d50-43da-b5d0-90d66660ae14"
      },
      "execution_count": 29,
      "outputs": [
        {
          "output_type": "display_data",
          "data": {
            "image/png": "[encoded data removed]"
          },
          "metadata": {}
        }
      ]
    },
    {
      "cell_type": "markdown",
      "source": [
        "#### Model Peformance"
      ],
      "metadata": {
        "id": "XcwgMKvNsAZw"
      }
    },
    {
      "cell_type": "code",
      "source": [
        "%%R\n",
        "performance::performance(best_model)"
      ],
      "metadata": {
        "colab": {
          "base_uri": "https://localhost:8080/"
        },
        "id": "R3zz2Ewie7Vl",
        "outputId": "4036a826-181d-4ff5-a7cd-0925e02d9f6f"
      },
      "execution_count": 30,
      "outputs": [
        {
          "output_type": "stream",
          "name": "stdout",
          "text": [
            "# Indices of model performance\n",
            "\n",
            "AIC     |    AICc |     BIC |    R2 |   RMSE |  Sigma\n",
            "-----------------------------------------------------\n",
            "357.432 | 403.950 | 390.668 | 0.897 | 14.172 | 18.517\n"
          ]
        }
      ]
    },
    {
      "cell_type": "markdown",
      "source": [
        "#### Prediction at Test Data\n",
        "\n",
        "The `predict()` function will be used to predict the Overall Score at the test data. This will help to validate the accuracy of the GAM model."
      ],
      "metadata": {
        "id": "ws3pW3I_q08I"
      }
    },
    {
      "cell_type": "code",
      "source": [
        "%%R\n",
        "# Predict the Overall Score at the test data\n",
        "test$Pred.Overall<-as.data.frame(predict(best_model, newdata = test, type = \"response\", se=TRUE))\n",
        "\n",
        "# Compute the MSE\n",
        "mse <- mean((test$Overall- test$Pred.Overall$fit)^2)\n",
        "print(paste(\"MSE:\", round(mse, 4)))"
      ],
      "metadata": {
        "colab": {
          "base_uri": "https://localhost:8080/"
        },
        "id": "TRzJ7KSBq2GO",
        "outputId": "4b10dcdf-85de-43da-c6ad-78d671b0cf5c"
      },
      "execution_count": 31,
      "outputs": [
        {
          "output_type": "stream",
          "name": "stdout",
          "text": [
            "[1] \"MSE: 679.0869\"\n"
          ]
        }
      ]
    },
    {
      "cell_type": "code",
      "source": [
        "%%R -w 500 -h 400 -u px\n",
        "# load the ggpmisc package\n",
        "library(ggpmisc)\n",
        "formula<-y~x\n",
        "# Plot the observed vs predicted Overall Scores\n",
        "ggplot(test, aes(Overall,Pred.Overall$fit)) +\n",
        "  geom_point() +\n",
        "  geom_smooth(method = \"lm\")+\n",
        "  stat_poly_eq(use_label(c(\"eq\", \"adj.R2\")), formula = formula) +\n",
        "  ggtitle(\"GAM: Obs vs Predicted Overal Scores \") +\n",
        "  xlab(\"Observed\") + ylab(\"Predicted\") +\n",
        "  scale_x_continuous(limits=c(350,550), breaks=seq(350, 550, 50))+\n",
        "  scale_y_continuous(limits=c(350,550), breaks=seq(350, 550, 50)) +\n",
        "  # Flip the bars\n",
        "  theme(\n",
        "    panel.background = element_rect(fill = \"grey95\",colour = \"gray75\",size = 0.5, linetype = \"solid\"),\n",
        "    axis.line = element_line(colour = \"grey\"),\n",
        "    plot.title = element_text(size = 14, hjust = 0.5),\n",
        "    axis.title.x = element_text(size = 14),\n",
        "    axis.title.y = element_text(size = 14),\n",
        "    axis.text.x=element_text(size=13, colour=\"black\"),\n",
        "    axis.text.y=element_text(size=13,angle = 90,vjust = 0.5, hjust=0.5, colour='black'))"
      ],
      "metadata": {
        "colab": {
          "base_uri": "https://localhost:8080/",
          "height": 712
        },
        "id": "dd-2OsUpCal3",
        "outputId": "63f51727-e9a3-41fb-dcbb-8e647ba33f99"
      },
      "execution_count": 32,
      "outputs": [
        {
          "output_type": "stream",
          "name": "stderr",
          "text": [
            "WARNING:rpy2.rinterface_lib.callbacks:R[write to console]: Loading required package: ggpp\n",
            "\n",
            "WARNING:rpy2.rinterface_lib.callbacks:R[write to console]: Registered S3 methods overwritten by 'ggpp':\n",
            "  method                  from   \n",
            "  heightDetails.titleGrob ggplot2\n",
            "  widthDetails.titleGrob  ggplot2\n",
            "\n",
            "WARNING:rpy2.rinterface_lib.callbacks:R[write to console]: \n",
            "Attaching package: ‘ggpp’\n",
            "\n",
            "\n",
            "WARNING:rpy2.rinterface_lib.callbacks:R[write to console]: The following object is masked from ‘package:ggplot2’:\n",
            "\n",
            "    annotate\n",
            "\n",
            "\n"
          ]
        },
        {
          "output_type": "stream",
          "name": "stdout",
          "text": [
            "`geom_smooth()` using formula = 'y ~ x'\n"
          ]
        },
        {
          "output_type": "display_data",
          "data": {
            "image/png": "[encoded data removed]"
          },
          "metadata": {}
        }
      ]
    },
    {
      "cell_type": "markdown",
      "source": [
        "\n",
        "The plot shows the observed Overall Scores on the x-axis and the predicted Overall Scores on the y-axis. The points represent the observed values, while the line represents the fitted regression line. The equation of the regression line and the adjusted R-squared value are displayed on the plot. The plot shows a strong positive relationship between the observed and predicted Overall Scores, indicating that the GAM model is able to accurately predict the Overall Scores."
      ],
      "metadata": {
        "id": "ysZI2ttJfBd9"
      }
    },
    {
      "cell_type": "code",
      "source": [
        "%%R -w 500 -h 400 -u px\n",
        "test<-test |>\n",
        "  dplyr::mutate(lower = Pred.Overall$fit - 1.96 * Pred.Overall$se.fit,\n",
        "         upper = Pred.Overall$fit + 1.96 * Pred.Overall$se.fit)\n",
        "\n",
        "ggplot(aes(x = Income, y = Pred.Overall$fit), data = test) +\n",
        "  geom_ribbon(aes(ymin = lower, ymax = upper), fill = 'gray92') +\n",
        "  geom_line(color = '#56B4E9')+\n",
        "  xlab(\"Income\") + ylab(\"Predicted Overall Scores\")"
      ],
      "metadata": {
        "colab": {
          "base_uri": "https://localhost:8080/",
          "height": 417
        },
        "id": "bhzEN9RsfCMH",
        "outputId": "a3e14882-82a7-49b0-d803-4c6d0f5be214"
      },
      "execution_count": 33,
      "outputs": [
        {
          "output_type": "display_data",
          "data": {
            "image/png": "[encoded data removed]"
          },
          "metadata": {}
        }
      ]
    },
    {
      "cell_type": "markdown",
      "source": [
        "### GAM with Binnary Data - Logistic  Regression\n",
        "\n",
        "In this example, we will fit a Poisson regression model to the `johnson.blight` dataset of {agridat} packages. A data frame with 25 observations on Potato blight due to weather in Prosser, Washington.\n"
      ],
      "metadata": {
        "id": "uQ8gC_R45eA_"
      }
    },
    {
      "cell_type": "code",
      "source": [
        "%%R\n",
        "binary.data<-agridat::johnson.blight\n",
        "glimpse(binary.data)"
      ],
      "metadata": {
        "colab": {
          "base_uri": "https://localhost:8080/"
        },
        "id": "ekuC9Vac5fGG",
        "outputId": "cfdf9ef0-bde8-48db-840e-1426d3cf4f15"
      },
      "execution_count": 34,
      "outputs": [
        {
          "output_type": "stream",
          "name": "stdout",
          "text": [
            "Rows: 25\n",
            "Columns: 6\n",
            "$ year     <int> 1970, 1971, 1972, 1973, 1974, 1975, 1976, 1977, 1978, 1979, 1…\n",
            "$ area     <int> 0, 0, 0, 0, 50, 810, 120, 40, 0, 0, 0, 0, 10100, 14150, 150, …\n",
            "$ blight   <int> 0, 0, 0, 0, 1, 1, 1, 1, 0, 0, 0, 0, 1, 1, 1, 0, 0, 0, 0, 0, 1…\n",
            "$ rain.am  <int> 8, 9, 9, 6, 16, 10, 12, 10, 11, 8, 13, 8, 15, 9, 17, 5, 8, 5,…\n",
            "$ rain.ja  <int> 1, 4, 6, 1, 6, 7, 12, 4, 10, 9, 1, 3, 6, 12, 1, 4, 3, 5, 3, 8…\n",
            "$ precip.m <dbl> 5.84, 6.86, 47.29, 8.89, 7.37, 5.08, 3.30, 11.44, 14.99, 4.06…\n"
          ]
        }
      ]
    },
    {
      "cell_type": "code",
      "source": [
        "%%R\n",
        "# Define indicator for blight in previous year\n",
        "binary.data$blight.prev[2:25] <-binary.data$blight[1:24]\n",
        "binary.data$blight.prev[1] <- 0 # Need this to match the results of Johnson\n",
        "binary.data$blight.prev <- factor(binary.data$blight.prev)\n",
        "binary.data$blight <- factor(binary.data$blight)\n",
        "glimpse(binary.data)"
      ],
      "metadata": {
        "colab": {
          "base_uri": "https://localhost:8080/"
        },
        "id": "HaH2py295koz",
        "outputId": "9b138f14-437e-407c-b083-8a04281c400e"
      },
      "execution_count": 36,
      "outputs": [
        {
          "output_type": "stream",
          "name": "stdout",
          "text": [
            "Rows: 25\n",
            "Columns: 7\n",
            "$ year        <int> 1970, 1971, 1972, 1973, 1974, 1975, 1976, 1977, 1978, 1979…\n",
            "$ area        <int> 0, 0, 0, 0, 50, 810, 120, 40, 0, 0, 0, 0, 10100, 14150, 15…\n",
            "$ blight      <fct> 0, 0, 0, 0, 1, 1, 1, 1, 0, 0, 0, 0, 1, 1, 1, 0, 0, 0, 0, 0…\n",
            "$ rain.am     <int> 8, 9, 9, 6, 16, 10, 12, 10, 11, 8, 13, 8, 15, 9, 17, 5, 8,…\n",
            "$ rain.ja     <int> 1, 4, 6, 1, 6, 7, 12, 4, 10, 9, 1, 3, 6, 12, 1, 4, 3, 5, 3…\n",
            "$ precip.m    <dbl> 5.84, 6.86, 47.29, 8.89, 7.37, 5.08, 3.30, 11.44, 14.99, 4…\n",
            "$ blight.prev <fct> 0, 0, 0, 0, 0, 1, 1, 1, 1, 0, 0, 0, 0, 1, 1, 1, 0, 0, 0, 0…\n"
          ]
        }
      ]
    },
    {
      "cell_type": "code",
      "source": [
        "%%R\n",
        " logit.glm = glm(blight ~ blight.prev+rain.am + rain.ja + precip.m, data=binary.data, family=binomial)\n",
        " logit.gam = gam(blight ~ blight.prev+s(rain.am, rain.ja,k=5) + s(precip.m), data=binary.data, family=binomial)"
      ],
      "metadata": {
        "id": "0YEDzNM_5qyk"
      },
      "execution_count": 37,
      "outputs": []
    },
    {
      "cell_type": "code",
      "source": [
        "%%R\n",
        "anova(logit.glm, logit.gam, test=\"Chi\")"
      ],
      "metadata": {
        "colab": {
          "base_uri": "https://localhost:8080/"
        },
        "id": "QJdC1BOM5uXK",
        "outputId": "8d3d2765-38d8-4911-d166-8e46b5a3138b"
      },
      "execution_count": 38,
      "outputs": [
        {
          "output_type": "stream",
          "name": "stdout",
          "text": [
            "Analysis of Deviance Table\n",
            "\n",
            "Model 1: blight ~ blight.prev + rain.am + rain.ja + precip.m\n",
            "Model 2: blight ~ blight.prev + s(rain.am, rain.ja, k = 5) + s(precip.m)\n",
            "  Resid. Df Resid. Dev         Df   Deviance  Pr(>Chi)    \n",
            "1        20     13.126                                    \n",
            "2        20     13.126 1.8751e-05 2.1894e-05 0.0001017 ***\n",
            "---\n",
            "Signif. codes:  0 ‘***’ 0.001 ‘**’ 0.01 ‘*’ 0.05 ‘.’ 0.1 ‘ ’ 1\n"
          ]
        }
      ]
    },
    {
      "cell_type": "markdown",
      "source": [
        "Despite the identical AIC values, the fact that the anova test is significant suggests we should use the more complex model, i.e. the GAM."
      ],
      "metadata": {
        "id": "gQ3e-n5j5apn"
      }
    },
    {
      "cell_type": "markdown",
      "source": [
        "### GAM with Count Data - Poisson Regression\n",
        "\n",
        "In this example, we will fit a Poisson regression model to the `mead.cauliflower` dataset of {agridat} packages. The datasethis dataset presents leaves for cauliflower plants at different times."
      ],
      "metadata": {
        "id": "1cRRw4wd518H"
      }
    },
    {
      "cell_type": "code",
      "source": [
        "%%R\n",
        "count.data<-agridat::mead.cauliflower\n",
        "glimpse(count.data)"
      ],
      "metadata": {
        "colab": {
          "base_uri": "https://localhost:8080/"
        },
        "id": "9u5GCUKb53Am",
        "outputId": "763251cc-9c2e-49a3-875b-30816bc842eb"
      },
      "execution_count": 39,
      "outputs": [
        {
          "output_type": "stream",
          "name": "stdout",
          "text": [
            "Rows: 14\n",
            "Columns: 3\n",
            "$ year    <int> 1956, 1956, 1956, 1956, 1956, 1956, 1956, 1957, 1957, 1957, 19…\n",
            "$ degdays <dbl> 4.5, 7.5, 9.5, 10.5, 13.0, 16.0, 18.0, 4.5, 8.0, 9.5, 11.5, 13…\n",
            "$ leaves  <int> 38, 62, 72, 87, 102, 135, 150, 60, 85, 91, 120, 126, 133, 152\n"
          ]
        }
      ]
    },
    {
      "cell_type": "code",
      "source": [
        "%%R\n",
        "pairs(count.data, lower.panel = NULL)"
      ],
      "metadata": {
        "colab": {
          "base_uri": "https://localhost:8080/",
          "height": 497
        },
        "id": "w2Bxsrp259p-",
        "outputId": "f291051e-7735-42a4-db91-7a164325909d"
      },
      "execution_count": 40,
      "outputs": [
        {
          "output_type": "display_data",
          "data": {
            "image/png": "[encoded data removed]"
          },
          "metadata": {}
        }
      ]
    },
    {
      "cell_type": "markdown",
      "source": [
        "The `pairs()` function creates a scatterplot matrix of the variables in the dataset. The plot shows the relationships between the variables, including the count of leaves, the number of plants, and the time of observation. The scatterplot matrix helps visualize the relationships between the variables and identify any patterns or trends in the data."
      ],
      "metadata": {
        "id": "U_BTc3Id6Dtg"
      }
    },
    {
      "cell_type": "markdown",
      "source": [
        "#### Fit Poisson Regression Model with GLM and GAM"
      ],
      "metadata": {
        "id": "UlcH9JYm6Hfg"
      }
    },
    {
      "cell_type": "code",
      "source": [
        "%%R\n",
        "# Fit a Poisson regression model using the glm() function\n",
        "pois.glm = glm(leaves ~ year + degdays, data=count.data, family=c(\"poisson\"))\n",
        "# Fit a Poisson regression model using the gam() function\n",
        "pois.gam = gam(leaves ~ year + s(degdays), data=count.data, family=c(\"poisson\"))"
      ],
      "metadata": {
        "id": "myTUTDUi6IQi"
      },
      "execution_count": 41,
      "outputs": []
    },
    {
      "cell_type": "markdown",
      "source": [
        "To compare the model we can again use AIC or anova:"
      ],
      "metadata": {
        "id": "MJF6bxjA6OXg"
      }
    },
    {
      "cell_type": "code",
      "source": [
        "%%R\n",
        "anova(pois.glm, pois.gam)"
      ],
      "metadata": {
        "colab": {
          "base_uri": "https://localhost:8080/"
        },
        "id": "98VxAMGb6PDm",
        "outputId": "dcb6ca48-b37e-46c0-befd-3b5b4575b19d"
      },
      "execution_count": 42,
      "outputs": [
        {
          "output_type": "stream",
          "name": "stdout",
          "text": [
            "Analysis of Deviance Table\n",
            "\n",
            "Model 1: leaves ~ year + degdays\n",
            "Model 2: leaves ~ year + s(degdays)\n",
            "  Resid. Df Resid. Dev      Df Deviance Pr(>Chi)\n",
            "1    11.000     6.0593                          \n",
            "2    10.569     4.8970 0.43106   1.1623   0.1131\n"
          ]
        }
      ]
    },
    {
      "cell_type": "markdown",
      "source": [
        "The `anova()` function compares the two models using the likelihood ratio test. The output shows the difference in deviance between the two models, the degrees of freedom, and the p-value for the test. In this case, the p-value is more than 0.05, indicating that the glm model is a better fit than the gam model."
      ],
      "metadata": {
        "id": "zrmb0ULN6WZB"
      }
    },
    {
      "cell_type": "markdown",
      "source": [
        "#### GAM model for Overdispersion in Count Data\n",
        "\n",
        "For overdispersed data we have the option to use both the quasipoisson and the negative binomial distributions:"
      ],
      "metadata": {
        "id": "k1hhA61K6Yg-"
      }
    },
    {
      "cell_type": "code",
      "source": [
        "%%R\n",
        "# Fit a Quasipoisson regression model using the gam() function\n",
        "pois.gam.quasi = gam(leaves ~ year + s(degdays), data=count.data, family=c(\"quasipoisson\"))\n",
        "summary(pois.gam.quasi)"
      ],
      "metadata": {
        "colab": {
          "base_uri": "https://localhost:8080/"
        },
        "id": "uIRHSQiz6Z2f",
        "outputId": "8da0a86e-17ff-41c8-f9a7-b217ebd40b71"
      },
      "execution_count": 43,
      "outputs": [
        {
          "output_type": "stream",
          "name": "stdout",
          "text": [
            "\n",
            "Family: quasipoisson \n",
            "Link function: log \n",
            "\n",
            "Formula:\n",
            "leaves ~ year + s(degdays)\n",
            "\n",
            "Parametric coefficients:\n",
            "              Estimate Std. Error t value Pr(>|t|)    \n",
            "(Intercept) -400.60775   69.08499  -5.799 0.000168 ***\n",
            "year           0.20708    0.03531   5.865 0.000153 ***\n",
            "---\n",
            "Signif. codes:  0 ‘***’ 0.001 ‘**’ 0.01 ‘*’ 0.05 ‘.’ 0.1 ‘ ’ 1\n",
            "\n",
            "Approximate significance of smooth terms:\n",
            "             edf Ref.df     F p-value    \n",
            "s(degdays) 1.916   2.39 151.7  <2e-16 ***\n",
            "---\n",
            "Signif. codes:  0 ‘***’ 0.001 ‘**’ 0.01 ‘*’ 0.05 ‘.’ 0.1 ‘ ’ 1\n",
            "\n",
            "R-sq.(adj) =   0.97   Deviance explained = 97.6%\n",
            "GCV = 0.58311  Scale est. = 0.4138    n = 14\n"
          ]
        }
      ]
    },
    {
      "cell_type": "code",
      "source": [
        "%%R\n",
        "# Fit a Negative Binomial regression model using the gam() function\n",
        "pois.gam.nb = gam(leaves ~ year + s(degdays), data=count.data, family=nb())\n",
        "summary(pois.gam.nb)"
      ],
      "metadata": {
        "colab": {
          "base_uri": "https://localhost:8080/"
        },
        "id": "rdjaZyQX6hzn",
        "outputId": "e6ea4bf4-8f15-4621-e7a4-92a63ca5270e"
      },
      "execution_count": 44,
      "outputs": [
        {
          "output_type": "stream",
          "name": "stdout",
          "text": [
            "\n",
            "Family: Negative Binomial(12809990.186) \n",
            "Link function: log \n",
            "\n",
            "Formula:\n",
            "leaves ~ year + s(degdays)\n",
            "\n",
            "Parametric coefficients:\n",
            "              Estimate Std. Error z value Pr(>|z|)    \n",
            "(Intercept) -407.46534  106.35067  -3.831 0.000127 ***\n",
            "year           0.21059    0.05436   3.874 0.000107 ***\n",
            "---\n",
            "Signif. codes:  0 ‘***’ 0.001 ‘**’ 0.01 ‘*’ 0.05 ‘.’ 0.1 ‘ ’ 1\n",
            "\n",
            "Approximate significance of smooth terms:\n",
            "             edf Ref.df Chi.sq p-value    \n",
            "s(degdays) 1.509  1.856  155.8  <2e-16 ***\n",
            "---\n",
            "Signif. codes:  0 ‘***’ 0.001 ‘**’ 0.01 ‘*’ 0.05 ‘.’ 0.1 ‘ ’ 1\n",
            "\n",
            "R-sq.(adj) =  0.967   Deviance explained = 97.3%\n",
            "-REML = 54.995  Scale est. = 1         n = 14\n"
          ]
        }
      ]
    },
    {
      "cell_type": "markdown",
      "source": [
        "## Summary and Conclusion\n",
        "\n",
        "In this tutorial, we covered the basics of Generalized Additive Models (GAMs) in R, focusing on their ability to model complex, nonlinear relationships in data. We started with an overview of how GAMs extend traditional linear models by incorporating flexible, smooth effects for each predictor, making them suitable for nonlinear data. We then explored various R packages, including `mgcv` and `gam`, which provide user-friendly functions for fitting and evaluating GAMs, visualizing fitted effects, and assessing model diagnostics. To further understand GAM mechanics, we built a GAM from scratch without using external packages. This hands-on experience demonstrated key principles such as using basis functions for smoothing and the model's additive nature, allowing us to isolate and effectively combine predictors' effects.\n"
      ],
      "metadata": {
        "id": "upcYU_bCVlc1"
      }
    },
    {
      "cell_type": "markdown",
      "source": [
        "## References\n",
        "\n",
        "1.  [Generalized Additive Models-An introduction with R](https://www.taylorfrancis.com/books/mono/10.1201/9781315370279/generalized-additive-models-simon-wood)\n",
        "\n",
        "2.  [Generalized Additive Models Using R](https://www.geeksforgeeks.org/generalized-additive-models-using-r/)\n",
        "\n",
        "3.  [Chapter 4 Introduction to GAMs](https://r.qcbs.ca/workshop08/book-en/introduction-to-gams.html)\n",
        "\n",
        "4.  [Generalized Additive Models](https://www.r-bloggers.com/2017/07/generalized-additive-models/)\n",
        "\n",
        "5.  [GAM: The Predictive Modeling Silver Bullet](https://multithreaded.stitchfix.com/blog/2015/07/30/gam/)\n",
        "\n",
        "6.  [Generalized Additive Models](https://m-clark.github.io/generalized-additive-models/)\n",
        "\n",
        "7. [Generalized Additive Models and Mixed-Effects in Agriculture](https://r-video-tutorial.blogspot.com/2017/07/generalized-addictive-models-and-mixed.html)\n"
      ],
      "metadata": {
        "id": "jadfYvGSWNK8"
      }
    }
  ]
}