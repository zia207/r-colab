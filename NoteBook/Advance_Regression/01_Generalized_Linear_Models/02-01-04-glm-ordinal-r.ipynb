{
  "nbformat": 4,
  "nbformat_minor": 0,
  "metadata": {
    "colab": {
      "provenance": [],
      "toc_visible": true,
      "authorship_tag": "ABX9TyN4xIynnefYvN/UPZuDVJTG",
      "include_colab_link": true
    },
    "kernelspec": {
      "name": "python3",
      "display_name": "Python 3"
    },
    "language_info": {
      "name": "python"
    }
  },
  "cells": [
    {
      "cell_type": "markdown",
      "metadata": {
        "id": "view-in-github",
        "colab_type": "text"
      },
      "source": [
        "<a href=\"https://colab.research.google.com/github/zia207/r-colab/blob/main/NoteBook/Advance_Regression/02-01-04-glm-ordinal-r.ipynb\" target=\"_parent\"><img src=\"https://colab.research.google.com/assets/colab-badge.svg\" alt=\"Open In Colab\"/></a>"
      ]
    },
    {
      "cell_type": "markdown",
      "source": [
        "![alt text](http://drive.google.com/uc?export=view&id=1bLQ3nhDbZrCCqy_WCxxckOne2lgVvn3l)"
      ],
      "metadata": {
        "id": "ALapmr7gMNeE"
      }
    },
    {
      "cell_type": "markdown",
      "source": [
        "# 4. Ordinal or Ordered Logistic Regression (OLR)\n",
        "\n",
        "Ordered logistic regression is used when the dependent variable is an ordinal outcome—a categorical variable with a precise rank order but not necessarily equidistant. This method estimates each response level's probability while considering the outcome's ordered nature. Typical applications include customer satisfaction assessment, academic grading, and income classification. In this tutorial, we will discuss ordered logistic regression, manually fit a model to understand its mechanics, and use the `polr()` function from the {MASS} package in R to implement the model. We will also examine coefficients, odds ratios, and category thresholds. This tutorial will provide a practical approach to mastering ordinal logistic regression through concepts and hands-on coding."
      ],
      "metadata": {
        "id": "au6nzIZ1MUQ9"
      }
    },
    {
      "cell_type": "markdown",
      "source": [
        "\n",
        "## Overview\n",
        "\n",
        "**Ordinal logistic regression (OLR)** is a statistical method used to analyze the relationship between one or more independent variables (predictors) and an ordinal dependent variable. An ordinal variable is a type of categorical variable where the categories have a specific order, but the intervals between the categories are not uniformly measured. This technique is commonly used in social sciences, psychology, and other fields where data is measured on Likert scales (e.g., strongly disagree, disagree, neutral, agree, strongly agree) or in scenarios where outcomes are ordered such as grades (e.g., A, B, C, D, F). OLR allows researchers to understand the impact of independent variables on the likelihood of an outcome falling into a particular category or higher.\n",
        "\n",
        "In ordinal logistic regression (OLR), the dependent variable is assumed to have three or more ordered categories. The objective is to predict the probability of an observation falling into one of the categories based on the independent variables' values. OLR is an extension of logistic regression, which is used for binary outcomes, and it is designed to handle multiple ordered outcome categories.\n",
        "\n",
        "The key difference between ordinal variables and nominal variables (which have no inherent order, like colors or types of fruit) is that ordinal variables convey a rank or order.\n",
        "\n",
        "**Proportional Odds Assumption**: The primary assumption in ordinal logistic regression is that the relationship between each pair of outcome groups is the same across all levels of the independent variables. In other words, the odds ratios comparing any two outcome categories are constant across all levels of the predictor variables.\n",
        "\n",
        "1.  **Model Specification**:\n",
        "\n",
        "    -   Let $Y$ be an ordinal variable with $K$ categories. Define $P(Y \\leq k)$ as the probability of being in category $k$ or lower.\n",
        "\n",
        "    -   The model assumes that each category has a threshold $\\theta_k$ such that:\n",
        "\n",
        "  $$ \\text{logit}(P(Y \\leq k)) = \\theta_k - X\\beta $$\n",
        "\n",
        "  for $k = 1, \\ldots, K-1$\n",
        "\n",
        "2.  **Link Function**:\n",
        "\n",
        "    -   The cumulative logit link function is typically used, so:\n",
        "\n",
        "$$  P(Y \\leq k) = \\frac{1}{1 + e^{-(\\theta_k - X\\beta)}} $$\n",
        "\n",
        "3.  **Parameter Estimation**:\n",
        "\n",
        "    -   Maximum likelihood estimation is used to estimate both $\\beta$ and \\$\\theta\\_k\\$0.\n",
        "\n",
        "    -   The log-likelihood is based on the cumulative probabilities:\n",
        "\n",
        "        $$ \\mathcal{L}(\\beta, \\theta) = \\sum_{i=1}^n \\sum_{k=1}^{K-1} I(Y_i \\leq k) \\ln(P(Y_i \\leq k)) + I(Y_i > k) \\ln(1 - P(Y_i \\leq k)) $$\n",
        "\n",
        "4.  **Prediction**:\n",
        "\n",
        "    -   The model predicts the probability of $Y$ falling within each category by computing $P(Y \\leq k)$ for each $k$.\n",
        "\n",
        "5.  **Interpretation**:\n",
        "\n",
        "    -   The coefficients $\\beta$ represent the change in the log-odds of being in a higher vs. lower category for a one-unit increase in $X$.\n",
        "\n"
      ],
      "metadata": {
        "id": "neuAm4Qy9ZYX"
      }
    },
    {
      "cell_type": "markdown",
      "source": [
        "## Install rpy2"
      ],
      "metadata": {
        "id": "BQDQMxpJ9z_f"
      }
    },
    {
      "cell_type": "code",
      "execution_count": null,
      "metadata": {
        "colab": {
          "base_uri": "https://localhost:8080/"
        },
        "id": "5j-UYffx9N09",
        "outputId": "4a869212-9bc7-4703-8dcb-4a8377305d1f"
      },
      "outputs": [
        {
          "output_type": "stream",
          "name": "stdout",
          "text": [
            "Found existing installation: rpy2 3.4.2\n",
            "Uninstalling rpy2-3.4.2:\n",
            "  Successfully uninstalled rpy2-3.4.2\n",
            "Collecting rpy2==3.5.1\n",
            "  Downloading rpy2-3.5.1.tar.gz (201 kB)\n",
            "\u001b[2K     \u001b[90m━━━━━━━━━━━━━━━━━━━━━━━━━━━━━━━━━━━━━━━━\u001b[0m \u001b[32m201.7/201.7 kB\u001b[0m \u001b[31m9.3 MB/s\u001b[0m eta \u001b[36m0:00:00\u001b[0m\n",
            "\u001b[?25h  Preparing metadata (setup.py) ... \u001b[?25l\u001b[?25hdone\n",
            "Requirement already satisfied: cffi>=1.10.0 in /usr/local/lib/python3.10/dist-packages (from rpy2==3.5.1) (1.17.1)\n",
            "Requirement already satisfied: jinja2 in /usr/local/lib/python3.10/dist-packages (from rpy2==3.5.1) (3.1.4)\n",
            "Requirement already satisfied: pytz in /usr/local/lib/python3.10/dist-packages (from rpy2==3.5.1) (2024.2)\n",
            "Requirement already satisfied: tzlocal in /usr/local/lib/python3.10/dist-packages (from rpy2==3.5.1) (5.2)\n",
            "Requirement already satisfied: pycparser in /usr/local/lib/python3.10/dist-packages (from cffi>=1.10.0->rpy2==3.5.1) (2.22)\n",
            "Requirement already satisfied: MarkupSafe>=2.0 in /usr/local/lib/python3.10/dist-packages (from jinja2->rpy2==3.5.1) (3.0.2)\n",
            "Building wheels for collected packages: rpy2\n",
            "  Building wheel for rpy2 (setup.py) ... \u001b[?25l\u001b[?25hdone\n",
            "  Created wheel for rpy2: filename=rpy2-3.5.1-cp310-cp310-linux_x86_64.whl size=314953 sha256=fb354d1ef5736af61c05f4dbcd70cd9fd31e855e90a2fb9a29ad8294ec471c45\n",
            "  Stored in directory: /root/.cache/pip/wheels/73/a6/ff/4e75dd1ce1cfa2b9a670cbccf6a1e41c553199e9b25f05d953\n",
            "Successfully built rpy2\n",
            "Installing collected packages: rpy2\n",
            "Successfully installed rpy2-3.5.1\n"
          ]
        }
      ],
      "source": [
        "!pip uninstall rpy2 -y\n",
        "!pip install rpy2==3.5.1\n",
        "%load_ext rpy2.ipython"
      ]
    },
    {
      "cell_type": "markdown",
      "source": [
        "## Mount Google Drive"
      ],
      "metadata": {
        "id": "xg8ZRtsE-Aot"
      }
    },
    {
      "cell_type": "code",
      "source": [
        "from google.colab import drive\n",
        "drive.mount('/content/drive')"
      ],
      "metadata": {
        "colab": {
          "base_uri": "https://localhost:8080/"
        },
        "id": "sLu24QrR-M9L",
        "outputId": "9742ea72-61c1-42d1-af5d-adebac9ff188"
      },
      "execution_count": null,
      "outputs": [
        {
          "output_type": "stream",
          "name": "stdout",
          "text": [
            "Mounted at /content/drive\n"
          ]
        }
      ]
    },
    {
      "cell_type": "markdown",
      "source": [
        "## Building a Ordinal Model from Scratch\n",
        "\n",
        "Fitting an ordinal logistic regression model from scratch in R without using any external packages involves several steps, including creating synthetic data, calculating the cumulative probabilities, estimating the model coefficients using Maximum Likelihood Estimation (MLE), and deriving the summary statistics and odds ratios with confidence intervals. Below, I will outline how to accomplish this step-by-step.\n"
      ],
      "metadata": {
        "id": "XyMjzLY-CIZm"
      }
    },
    {
      "cell_type": "markdown",
      "source": [
        "### Generate Synthetic Data\n",
        "\n",
        "We'll create a synthetic dataset with 6 continuous predictors, one categorical predictor, and an ordinal response variable with three levels.\n"
      ],
      "metadata": {
        "id": "FB2p3NwCCMzb"
      }
    },
    {
      "cell_type": "code",
      "source": [
        "%%R\n",
        "# Load required package for numerical derivatives\n",
        "if (!require(numDeriv)) install.packages(\"numDeriv\")\n",
        "\n",
        "# Step 1: Generate Synthetic Data\n",
        "set.seed(123)  # For reproducibility\n",
        "n <- 200  # Number of observations\n",
        "\n",
        "# Continuous predictors\n",
        "X1 <- rnorm(n)\n",
        "X2 <- rnorm(n)\n",
        "X3 <- rnorm(n)\n",
        "X4 <- rnorm(n)\n",
        "\n",
        "\n",
        "# Categorical predictor (two levels)\n",
        "land_type <- sample(c(\"high land\", \"medium high land\"), n, replace = TRUE)\n",
        "\n",
        "# Convert land_type to a numeric binary variable\n",
        "land_type_numeric <- ifelse(land_type == \"high land\", 1, 0)\n",
        "\n",
        "# Create a linear predictor and generate response variable\n",
        "linear_predictor <- 1 + 0.5 * X1 - 0.3 * X2 + 0.2 * X3 +\n",
        "                    0.7 * land_type_numeric +\n",
        "                    rnorm(n)\n",
        "\n",
        "# Define thresholds for response categories\n",
        "thresholds <- c(-Inf, 0, 1, Inf)  # Create three categories (Low, Moderate, High)\n",
        "response <- cut(linear_predictor, breaks = thresholds, labels = c(\"Low\", \"Moderate\", \"High\"))\n",
        "\n",
        "# Combine data into a data frame\n",
        "data <- data.frame(X1, X2, X3, X4,  land_type_numeric, response)\n",
        "head(data)"
      ],
      "metadata": {
        "id": "DKrGJOHBCPJV"
      },
      "execution_count": null,
      "outputs": []
    },
    {
      "cell_type": "markdown",
      "source": [
        "### Define Model Functions"
      ],
      "metadata": {
        "id": "5iJ93LrECUk-"
      }
    },
    {
      "cell_type": "code",
      "source": [
        "%%R\n",
        "# Step 2: Define Model Functions\n",
        "\n",
        "# Function to compute cumulative probabilities\n",
        "cumulative_probs <- function(X, beta, alpha) {\n",
        "  eta <- cbind(1, X) %*% beta  # Linear predictor with intercept\n",
        "  prob_low <- 1 / (1 + exp(-(eta - alpha[1])))\n",
        "  prob_moderate <- prob_low / (1 + exp(-(eta - alpha[2])))\n",
        "  prob_high <- 1 - prob_moderate\n",
        "  return(cbind(prob_low, prob_moderate, prob_high))\n",
        "}\n",
        "\n",
        "# Function to compute the log-likelihood\n",
        "log_likelihood <- function(params, data) {\n",
        "  beta <- params[1:6]  # 8 coefficients for predictors + intercept\n",
        "  alpha <- params[7:8]  # Two thresholds\n",
        "\n",
        "  # Define predictor matrix X (5 predictors plus intercept)\n",
        "  X <- as.matrix(data[, c(\"X1\", \"X2\", \"X3\", \"X4\", \"land_type_numeric\")])\n",
        "\n",
        "  response <- factor(data$response, levels = c(\"Low\", \"Moderate\", \"High\"))\n",
        "\n",
        "  # Calculate cumulative probabilities\n",
        "  probs <- cumulative_probs(X, beta, alpha)\n",
        "\n",
        "  # Compute log likelihood\n",
        "  ll <- sum(log(ifelse(response == \"Low\", probs[, 1],\n",
        "                ifelse(response == \"Moderate\", probs[, 2],\n",
        "                       probs[, 3]))))\n",
        "  return(-ll)  # Return negative log-likelihood for minimization\n",
        "}"
      ],
      "metadata": {
        "id": "wtf7Kpf5CX-L"
      },
      "execution_count": null,
      "outputs": []
    },
    {
      "cell_type": "markdown",
      "source": [
        "### Fit the Model"
      ],
      "metadata": {
        "id": "trbkXbFcCb_v"
      }
    },
    {
      "cell_type": "code",
      "source": [
        "%%R\n",
        "# Step 3: Fit the Model\n",
        "\n",
        "# Function to fit the model using optim\n",
        "fit_model <- function(data) {\n",
        "  init_params <- rep(0, 8)  # 8 for beta (including intercept) and 2 thresholds\n",
        "  result <- optim(init_params, log_likelihood, data = data, method = \"BFGS\", hessian = TRUE)\n",
        "  return(result)\n",
        "}\n",
        "\n",
        "# Fit the model\n",
        "model_fit <- fit_model(data)\n",
        "model_fit$par  # Model coefficients (beta) and thresholds (alpha)"
      ],
      "metadata": {
        "colab": {
          "base_uri": "https://localhost:8080/"
        },
        "id": "pM0wz_fVCeqM",
        "outputId": "c7542130-a198-4366-8fe6-e2d6ec831826"
      },
      "execution_count": null,
      "outputs": [
        {
          "output_type": "stream",
          "name": "stdout",
          "text": [
            "[1]  4.314075699 -0.982913650  0.524043957  0.042348956 -0.009382339\n",
            "[6] -1.523786205 -8.913837528  4.599729893\n"
          ]
        }
      ]
    },
    {
      "cell_type": "markdown",
      "source": [
        "### Extract Coefficients and Compute Standard Errors"
      ],
      "metadata": {
        "id": "BUCxkanPCjVP"
      }
    },
    {
      "cell_type": "code",
      "source": [
        "%%R\n",
        "# Step 4: Extract Coefficients and Compute Standard Errors\n",
        "\n",
        "# Compute the Hessian matrix and standard errors\n",
        "hessian_matrix <- model_fit$hessian\n",
        "standard_errors <- sqrt(diag(solve(hessian_matrix)))\n",
        "standard_errors"
      ],
      "metadata": {
        "colab": {
          "base_uri": "https://localhost:8080/"
        },
        "id": "6EtpH9nlCkac",
        "outputId": "9f93fe5f-7e46-4504-dec8-31b75bfca4cd"
      },
      "execution_count": null,
      "outputs": [
        {
          "output_type": "stream",
          "name": "stdout",
          "text": [
            "[1]       NaN 0.2382101 0.2000665 0.2103150 0.1922551 0.4043306       NaN\n",
            "[8]       NaN\n"
          ]
        }
      ]
    },
    {
      "cell_type": "markdown",
      "source": [
        "### Create a Summary Table"
      ],
      "metadata": {
        "id": "RWch5OPiCp2h"
      }
    },
    {
      "cell_type": "code",
      "source": [
        "%%R\n",
        "# Step 5: Create a Summary Table\n",
        "\n",
        "# Coefficients and standard errors\n",
        "coefficients <- model_fit$par\n",
        "t_values <- coefficients / standard_errors\n",
        "p_values <- 2 * (1 - pnorm(abs(t_values)))  # Two-tailed p-values\n",
        "\n",
        "# Summary table\n",
        "summary_table <- data.frame(\n",
        "  Value = coefficients,\n",
        "  Std_Error = standard_errors,\n",
        "  t_value = t_values,\n",
        "  p_value = p_values\n",
        ")\n",
        "\n",
        "rownames(summary_table) <- c(paste(\"X\", 1:4, sep = \"\"), \"land_high\", \"Intercept\", \"alpha_1\", \"alpha_2\")\n",
        "summary_table"
      ],
      "metadata": {
        "colab": {
          "base_uri": "https://localhost:8080/"
        },
        "id": "twKxmrvmCu7Y",
        "outputId": "d8397376-ef0e-42d8-86c6-a164c3078216"
      },
      "execution_count": null,
      "outputs": [
        {
          "output_type": "stream",
          "name": "stdout",
          "text": [
            "                 Value Std_Error    t_value      p_value\n",
            "X1         4.314075699       NaN        NaN          NaN\n",
            "X2        -0.982913650 0.2382101 -4.1262462 3.687325e-05\n",
            "X3         0.524043957 0.2000665  2.6193491 8.809775e-03\n",
            "X4         0.042348956 0.2103150  0.2013596 8.404174e-01\n",
            "land_high -0.009382339 0.1922551 -0.0488015 9.610775e-01\n",
            "Intercept -1.523786205 0.4043306 -3.7686644 1.641233e-04\n",
            "alpha_1   -8.913837528       NaN        NaN          NaN\n",
            "alpha_2    4.599729893       NaN        NaN          NaN\n"
          ]
        }
      ]
    },
    {
      "cell_type": "markdown",
      "source": [
        "### Calculate Odds Ratios and Confidence Intervals\n"
      ],
      "metadata": {
        "id": "Il-UfaHTDD8M"
      }
    },
    {
      "cell_type": "code",
      "source": [
        "%%R\n",
        "# Step 6: Calculate Odds Ratios and Confidence Intervals\n",
        "\n",
        "# Calculate odds ratios and CI\n",
        "odds_ratios <- exp(coefficients)\n",
        "ci_lower <- exp(coefficients - 1.96 * standard_errors)\n",
        "ci_upper <- exp(coefficients + 1.96 * standard_errors)\n",
        "\n",
        "# Create a table for odds ratios and CI\n",
        "odds_ratios_table <- data.frame(\n",
        "  Odds_Ratio = odds_ratios,\n",
        "  CI_Lower = ci_lower,\n",
        "  CI_Upper = ci_upper\n",
        ")\n",
        "\n",
        "rownames(odds_ratios_table) <- rownames(summary_table)\n",
        "odds_ratios_table"
      ],
      "metadata": {
        "colab": {
          "base_uri": "https://localhost:8080/"
        },
        "id": "3n5SVjsoDGw2",
        "outputId": "fb35b603-c628-47f4-dee3-6fd104599a11"
      },
      "execution_count": null,
      "outputs": [
        {
          "output_type": "stream",
          "name": "stdout",
          "text": [
            "            Odds_Ratio   CI_Lower  CI_Upper\n",
            "X1        7.474451e+01        NaN       NaN\n",
            "X2        3.742192e-01 0.23461591 0.5968904\n",
            "X3        1.688843e+00 1.14100979 2.4997089\n",
            "X4        1.043258e+00 0.69082517 1.5754901\n",
            "land_high 9.906615e-01 0.67963296 1.4440298\n",
            "Intercept 2.178854e-01 0.09864043 0.4812837\n",
            "alpha_1   1.345146e-04        NaN       NaN\n",
            "alpha_2   9.945745e+01        NaN       NaN\n"
          ]
        }
      ]
    },
    {
      "cell_type": "markdown",
      "source": [
        "### Cross-validation\n",
        "\n",
        "To evaluate the model's performance using cross-validation, we’ll use k-fold cross-validation, where we split the data into k folds, train on k-1 folds, and test on the remaining fold. We repeat this process k times, each time using a different fold as the test set, and then compute the average accuracy across all folds."
      ],
      "metadata": {
        "id": "PDrwl0YBDKdW"
      }
    },
    {
      "cell_type": "code",
      "source": [
        "%%R\n",
        "# Load required package for sampling\n",
        "if (!require(numDeriv)) install.packages(\"numDeriv\")\n",
        "\n",
        "# Function to calculate accuracy\n",
        "calculate_accuracy <- function(true_labels, predicted_labels) {\n",
        "  mean(true_labels == predicted_labels)\n",
        "}\n",
        "\n",
        "# Define the model fitting function\n",
        "fit_model <- function(data) {\n",
        "  init_params <- rep(0, 8)  # 8 for beta (including intercept) and 2 thresholds\n",
        "  result <- optim(init_params, log_likelihood, data = data, method = \"BFGS\", hessian = TRUE)\n",
        "  return(result)\n",
        "}\n",
        "\n",
        "# Define the prediction function\n",
        "predict_ordinal <- function(test_data, params) {\n",
        "  beta <- params[1:6]  # Coefficients for predictors + intercept\n",
        "  alpha <- params[7:8]  # Thresholds\n",
        "\n",
        "  # Define predictor matrix X for test data\n",
        "  X <- as.matrix(test_data[, c(\"X1\", \"X2\", \"X3\", \"X4\",  \"land_type_numeric\")])\n",
        "\n",
        "  # Compute cumulative probabilities\n",
        "  eta <- cbind(1, X) %*% beta  # Linear predictor with intercept\n",
        "  prob_low <- 1 / (1 + exp(-(eta - alpha[1])))\n",
        "  prob_moderate <- prob_low / (1 + exp(-(eta - alpha[2])))\n",
        "  prob_high <- 1 - prob_moderate\n",
        "\n",
        "  # Combine probabilities into a matrix\n",
        "  probs <- cbind(prob_low, prob_moderate, prob_high)\n",
        "\n",
        "  # Assign predicted category based on max probability\n",
        "  predictions <- apply(probs, 1, function(row) {\n",
        "    if (row[1] >= row[2] && row[1] >= row[3]) {\n",
        "      \"Low\"\n",
        "    } else if (row[2] >= row[1] && row[2] >= row[3]) {\n",
        "      \"Moderate\"\n",
        "    } else {\n",
        "      \"High\"\n",
        "    }\n",
        "  })\n",
        "  return(predictions)\n",
        "}\n",
        "\n",
        "# Function for k-fold cross-validation\n",
        "k_fold_cv <- function(data, k = 5) {\n",
        "  n <- nrow(data)\n",
        "  fold_size <- floor(n / k)\n",
        "  indices <- sample(1:n)\n",
        "\n",
        "  accuracies <- c()  # Store accuracy for each fold\n",
        "\n",
        "  for (i in 1:k) {\n",
        "    # Create training and validation sets\n",
        "    val_indices <- indices[((i - 1) * fold_size + 1):(i * fold_size)]\n",
        "    train_indices <- setdiff(indices, val_indices)\n",
        "\n",
        "    train_data <- data[train_indices, ]\n",
        "    val_data <- data[val_indices, ]\n",
        "\n",
        "    # Fit the model on the training set\n",
        "    fold_fit <- fit_model(train_data)\n",
        "\n",
        "    # Predict on validation set\n",
        "    val_predictions <- predict_ordinal(val_data, fold_fit$par)\n",
        "\n",
        "    # Calculate accuracy for the current fold\n",
        "    fold_accuracy <- calculate_accuracy(val_data$response, val_predictions)\n",
        "    accuracies <- c(accuracies, fold_accuracy)\n",
        "  }\n",
        "\n",
        "  # Return the average cross-validation accuracy\n",
        "  cv_accuracy <- mean(accuracies)\n",
        "  return(cv_accuracy)\n",
        "}\n",
        "\n",
        "# Perform 5-fold cross-validation on the entire dataset\n",
        "set.seed(123)\n",
        "cv_accuracy <- k_fold_cv(data, k = 5)\n",
        "print(paste(\"5-Fold Cross-Validation Accuracy:\", round(cv_accuracy * 100, 2), \"%\"))\n"
      ],
      "metadata": {
        "colab": {
          "base_uri": "https://localhost:8080/"
        },
        "id": "Z75TiSRwDNEv",
        "outputId": "618b89a0-17bb-45c5-d660-2dd39c6b82c4"
      },
      "execution_count": null,
      "outputs": [
        {
          "output_type": "stream",
          "name": "stderr",
          "text": [
            "WARNING:rpy2.rinterface_lib.callbacks:R[write to console]: Loading required package: numDeriv\n",
            "\n"
          ]
        },
        {
          "output_type": "stream",
          "name": "stdout",
          "text": [
            "[1] \"5-Fold Cross-Validation Accuracy: 11.5 %\"\n"
          ]
        }
      ]
    },
    {
      "cell_type": "markdown",
      "source": [
        "## Fit Ordinal Logistic Regression in R\n",
        "\n",
        "Fit an ordinal logistic regression model in R using the `polr()` function from the {MASS} package. We will use the same synthetic dataset created earlier to demonstrate the process. The `polr()` function fits a proportional odds model to an ordinal response variable using a logistic link function. The model assumes that the coefficients are the same across all levels of the response variable."
      ],
      "metadata": {
        "id": "vlP0SnWIBO0Q"
      }
    },
    {
      "cell_type": "markdown",
      "source": [
        "### Check and Install Required R Packages\n",
        "\n",
        "Here’s a concise, categorized overview of the R packages with key references:\n",
        "\n",
        "**Data Manipulation**  \n",
        "- **`tidyverse`** (Wickham): Meta-package for data science (includes `dplyr`, `ggplot2`, `tidyr`). Streamlines data wrangling and visualization.  \n",
        "  Reference: [tidyverse.org](https://www.tidyverse.org/), CRAN.  \n",
        "- **`plyr`** (Wickham): Tools for splitting, applying, and combining data. Predecessor to `dplyr`.  \n",
        "  Reference: [CRAN](https://cran.r-project.org/web/packages/plyr).  \n",
        "\n",
        "**Statistical Testing & Summarization**  \n",
        "- **`rstatix`** (Kassambara): Simplifies statistical tests (t-tests, ANOVA) with tidy syntax.  \n",
        "  Reference: [CRAN](https://cran.r-project.org/web/packages/rstatix).  \n",
        "- **`gtsummary`** (Sjoberg): Publication-ready summary tables for models and demographics.  \n",
        "  Reference: [gtsummary](https://www.danieldsjoberg.com/gtsummary/).  \n",
        "\n",
        "**Model Diagnostics & Reporting**  \n",
        "- **`report`** (easystats): Automates interpretation of statistical models.  \n",
        "  Reference: [easystats.github.io/report](https://easystats.github.io/report/).  \n",
        "- **`performance`** (easystats): Evaluates model fit (R², RMSE, multicollinearity).  \n",
        "  Reference: [CRAN](https://cran.r-project.org/web/packages/performance).  \n",
        "- **`jtools`** (Long): Enhances regression workflows (e.g., `summ()`, `plot_coefs()`).  \n",
        "  Reference: [CRAN](https://cran.r-project.org/web/packages/jtools).  \n",
        "- **`sjPlot`** (Lüdecke): Visualizes model outputs (e.g., `plot_model()`).  \n",
        "  Reference: [CRAN](https://cran.r-project.org/web/packages/sjPlot).  \n",
        "\n",
        "**Marginal Effects & Predictions**  \n",
        "- **`margins`** (Leeper): Computes marginal effects for regression models.  \n",
        "  Reference: [CRAN](https://cran.r-project.org/web/packages/margins).  \n",
        "- **`marginaleffects`** (Arel-Bundock): Modern tool for predictions and slopes.  \n",
        "  Reference: [CRAN](https://cran.r-project.org/web/packages/marginaleffects).  \n",
        "- **`ggeffects`** (Lüdecke): Tidy predictions for plotting marginal effects.  \n",
        "  Reference: [CRAN](https://cran.r-project.org/web/packages/ggeffects).  \n",
        "\n",
        "**Visualization & Tables**  \n",
        "- **`gt`** (Iannone): Creates polished, customizable tables.  \n",
        "  Reference: [gt.rstudio.com](https://gt.rstudio.com/).  \n",
        "- **`patchwork`** (Pedersen): Combines `ggplot2` plots into layouts.  \n",
        "  Reference: [CRAN](https://cran.r-project.org/web/packages/patchwork).  \n",
        "- **`ggpmisc`** (Aphalo): Adds stats and annotations to `ggplot2`.  \n",
        "  Reference: [CRAN](https://cran.r-project.org/web/packages/ggpmisc).  \n",
        "- **`RColorBrewer`** (Neuwirth): Color palettes for visualization.  \n",
        "  Reference: [CRAN](https://cran.r-project.org/web/packages/RColorBrewer).  \n",
        "\n",
        "**Model Evaluation**  \n",
        "- **`Metrics`** (Hamner): Implements metrics like RMSE, AUC.  \n",
        "  Reference: [CRAN](https://cran.r-project.org/web/packages/Metrics).  \n",
        "- **`metrica`** (Garcia): Additional evaluation metrics (e.g., precision, recall).  \n",
        "  Reference: [CRAN](https://cran.r-project.org/web/packages/metrica).  \n",
        "\n",
        "**Advanced Statistical Modeling**  \n",
        "- **`MASS`** (Venables & Ripley): Robust regression, LDA, GLMs (e.g., `glm.nb`).  \n",
        "  Reference: [CRAN](https://cran.r-project.org/web/packages/MASS).  \n",
        "- **`generalhoslem`** (Cairns): Goodness-of-fit tests for logistic regression (e.g., Hosmer-Lemeshow).  \n",
        "  Reference: [CRAN](https://cran.r-project.org/web/packages/generalhoslem).  \n"
      ],
      "metadata": {
        "id": "OMPKY7UvM2N8"
      }
    },
    {
      "cell_type": "code",
      "source": [
        "%%R\n",
        "pkg <- c('tidyverse',\n",
        "     'plyr',\n",
        "\t\t 'gt',\n",
        "\t\t 'rstatix',\n",
        "\t\t 'gtsummary',\n",
        "\t\t 'report',\n",
        "\t\t 'performance',\n",
        "\t\t 'jtools',\n",
        "\t\t 'sjPlot',\n",
        "\t\t 'margins',\n",
        "\t\t 'marginaleffects',\n",
        "\t\t 'ggeffects',\n",
        "\t\t 'patchwork',\n",
        "\t\t 'Metrics',\n",
        "\t\t 'ggpmisc',\n",
        "\t\t 'caret',\n",
        "\t\t 'tidymodels',\n",
        "\t\t 'metrica',\n",
        "\t\t 'RColorBrewer',\n",
        "\t\t 'MASS',\n",
        "     'generalhoslem'\n",
        "\t\t )\n",
        "new.packages <- pkg[!(pkg %in% installed.packages(lib='drive/My Drive/R/')[,\"Package\"])]\n",
        "if(length(new.packages)) install.packages(new.packages, lib='drive/My Drive/R/')"
      ],
      "metadata": {
        "id": "tAmJREXmM2YP"
      },
      "execution_count": null,
      "outputs": []
    },
    {
      "cell_type": "markdown",
      "source": [
        "### Load R-Packages"
      ],
      "metadata": {
        "id": "nMQai29xNYRy"
      }
    },
    {
      "cell_type": "code",
      "source": [
        "%%R\n",
        "# set library path\n",
        ".libPaths('drive/My Drive/R')\n",
        "suppressPackageStartupMessages(library(tidyverse))\n",
        "suppressPackageStartupMessages(library(plyr))\n",
        "library(tidyverse)\n",
        "library(plyr)\n",
        "library(gt)\n",
        "library(rstatix)\n",
        "library(gtsummary)\n",
        "library(report)\n",
        "library(performance)\n",
        "library(jtools)\n",
        "library(sjPlot)\n",
        "library(margins)\n",
        "library(marginaleffects)\n",
        "library(ggeffects)\n",
        "library(patchwork)\n",
        "library(Metrics)\n",
        "library(ggpmisc)\n",
        "library(RColorBrewer)\n",
        "library(MASS)\n",
        "library(generalhoslem)"
      ],
      "metadata": {
        "id": "XZeYlKM9NYhx"
      },
      "execution_count": null,
      "outputs": []
    },
    {
      "cell_type": "markdown",
      "source": [
        "### Data\n",
        "\n",
        "Our goal is to develop a Ordinal regression model to predict ordinal class of paddy soil arsenic (non-contaminated, moderately-contaminated and highly-contaminated ) using selected irrigation water and soil properties. We have available data of 263 paired groundwater and paddy soil samples from arsenic contaminated areas in Tala Upazilla, Satkhira district, Bangladesh. This data was utilized in a publication titled \"Factors Affecting Paddy Soil Arsenic Concentration in Bangladesh: Prediction and Uncertainty of Geostatistical Risk Mapping\" which can be accessed via the this [URL](https://doi.org/10.1016/j.scitotenv.2011.10.008)\n",
        "\n",
        "Full data set is available for download can download from my [Dropbox](https://www.dropbox.com/scl/fo/2rh6r68i9cxmgortvbw8q/h?rlkey=bvntt66n9mcywprmdki08ch3r&dl=0) or from my [Github](https://github.com/zia207/r-colab/tree/main/Data/Regression_analysis) accounts.\n",
        "\n",
        "We will use `read_csv()` function of **readr** package to import data as a **tidy** data."
      ],
      "metadata": {
        "id": "q5hd8qgrCx4Z"
      }
    },
    {
      "cell_type": "code",
      "source": [
        "%%R\n",
        "mf<-read_csv(\"https://github.com/zia207/r-colab/raw/main/Data/Regression_analysis/bd_soil_arsenic.csv\") |>\n",
        "glimpse()"
      ],
      "metadata": {
        "colab": {
          "base_uri": "https://localhost:8080/"
        },
        "id": "2ph3ubD_C1WL",
        "outputId": "0553219f-4c23-4bc9-bb6f-cb7ed5bbe52d"
      },
      "execution_count": null,
      "outputs": [
        {
          "output_type": "stream",
          "name": "stdout",
          "text": [
            "Rows: 263 Columns: 29\n",
            "── Column specification ────────────────────────────────────────────────────────\n",
            "Delimiter: \",\"\n",
            "chr  (1): Land_type\n",
            "dbl (28): ID, Longitude, Latitude, WAs, WP, WFe, WEc, WpH, WMg, WNa, WCa, WK...\n",
            "\n",
            "ℹ Use `spec()` to retrieve the full column specification for this data.\n",
            "ℹ Specify the column types or set `show_col_types = FALSE` to quiet this message.\n",
            "Rows: 263\n",
            "Columns: 29\n",
            "$ ID              <dbl> 1, 2, 3, 4, 5, 6, 7, 8, 9, 10, 11, 12, 13, 14, 15, 16,…\n",
            "$ Longitude       <dbl> 89.1134, 89.1232, 89.1281, 89.1296, 89.1312, 89.1305, …\n",
            "$ Latitude        <dbl> 22.7544, 22.7576, 22.7499, 22.7568, 22.7366, 22.7297, …\n",
            "$ WAs             <dbl> 0.059, 0.059, 0.079, 0.122, 0.072, 0.042, 0.075, 0.064…\n",
            "$ WP              <dbl> 0.761, 1.194, 1.317, 1.545, 0.966, 1.058, 0.868, 0.890…\n",
            "$ WFe             <dbl> 3.44, 4.93, 9.70, 8.58, 4.78, 6.95, 7.81, 8.14, 8.99, …\n",
            "$ WEc             <dbl> 1.03, 1.07, 1.40, 0.83, 1.42, 1.82, 1.71, 1.74, 1.57, …\n",
            "$ WpH             <dbl> 7.03, 7.06, 6.84, 6.85, 6.95, 6.89, 6.86, 6.98, 6.82, …\n",
            "$ WMg             <dbl> 33.9, 34.1, 40.5, 28.4, 43.4, 43.2, 50.1, 51.5, 48.2, …\n",
            "$ WNa             <dbl> 69.4, 74.6, 89.4, 22.8, 93.0, 165.7, 110.5, 127.0, 96.…\n",
            "$ WCa             <dbl> 99.1, 94.3, 133.9, 103.8, 130.5, 153.3, 172.0, 163.2, …\n",
            "$ WK              <dbl> 5.3, 5.7, 6.0, 4.0, 5.3, 6.5, 5.9, 6.4, 6.5, 3.7, 4.4,…\n",
            "$ WS              <dbl> 2.936, 2.826, 2.307, 1.012, 2.511, 2.764, 2.792, 1.562…\n",
            "$ SAs             <dbl> 29.10, 45.10, 23.20, 23.80, 26.00, 25.60, 26.30, 31.60…\n",
            "$ SPAs            <dbl> 9.890, 10.700, 5.869, 6.031, 6.627, 9.530, 6.708, 8.63…\n",
            "$ SAoAs           <dbl> 13.280, 21.900, 12.266, 12.596, 13.805, 13.585, 13.969…\n",
            "$ SAoFe           <dbl> 2500, 2670, 2160, 2500, 2060, 2500, 2520, 2140, 2150, …\n",
            "$ SpH             <dbl> 7.74, 7.87, 8.03, 8.07, 7.81, 7.77, 7.66, 7.89, 8.00, …\n",
            "$ SEc             <dbl> 1.128, 1.021, 1.257, 1.067, 1.354, 1.442, 1.428, 1.385…\n",
            "$ SOC             <dbl> 1.66, 1.26, 1.36, 1.61, 1.26, 1.74, 1.71, 1.69, 1.41, …\n",
            "$ SP              <dbl> 13.79, 15.31, 15.54, 16.28, 14.20, 13.41, 13.26, 14.84…\n",
            "$ Sand            <dbl> 16.3, 11.1, 12.3, 12.7, 12.1, 16.7, 16.8, 13.7, 12.6, …\n",
            "$ Silt            <dbl> 44.8, 48.7, 46.4, 43.6, 50.9, 43.6, 43.4, 40.8, 44.9, …\n",
            "$ Clay            <dbl> 38.9, 40.2, 41.3, 43.7, 37.1, 39.8, 39.8, 45.5, 42.4, …\n",
            "$ Elevation       <dbl> 3, 5, 4, 3, 5, 2, 2, 3, 3, 3, 2, 5, 6, 6, 5, 5, 4, 6, …\n",
            "$ Year_Irrigation <dbl> 14, 20, 10, 8, 10, 9, 8, 10, 8, 2, 20, 4, 15, 10, 5, 4…\n",
            "$ Distance_STW    <dbl> 5, 6, 5, 8, 5, 5, 10, 8, 10, 8, 5, 5, 9, 5, 10, 10, 12…\n",
            "$ Land_type       <chr> \"MHL\", \"MHL\", \"MHL\", \"MHL\", \"MHL\", \"MHL\", \"MHL\", \"MHL\"…\n",
            "$ Land_type_ID    <dbl> 2, 2, 2, 2, 2, 2, 2, 2, 2, 2, 2, 1, 2, 1, 1, 1, 1, 1, …\n"
          ]
        }
      ]
    },
    {
      "cell_type": "markdown",
      "source": [
        "#### Convert Continuous Variables into Ordinal\n",
        "\n",
        "An ordinal variable is a type of categorical variable in which the categories have a natural order or hierarchy. Unlike interval or ratio variables, the intervals between the categories are not necessarily equal or measurable. This means that while the categories have a meaningful sequence or ranking, the differences between the categories may not be consistent or quantifiable.\n",
        "\n",
        "We will convert `Soil As (SAs)` into three classes:\n",
        "\n",
        "A. Non-contaminated, SAs \\< 14.8 mg/kg\n",
        "\n",
        "B. Moderately-contaminated, SAs 14.8 - 20 mg/kg\n",
        "\n",
        "C. Highly-contaminated: SAs \\> 20 mg/kg\n",
        "\n",
        "-   14.8 mg/kg is the upper baseline soil arsenic concentration for Bangladesh [(Ahmed et al, 2011)](https://www.sciencedirect.com/science/article/pii/S0048969711011661?via%3Dihub)\n",
        "\n",
        "-   20 mg/kg is the permissible limits of arsenic in agricultural soil [(A Heikens, 2006)](https://agris.fao.org/search/en/providers/122621/records/6472474853aa8c8963049da2)\n",
        "\n"
      ],
      "metadata": {
        "id": "0tTLUEkdItLN"
      }
    },
    {
      "cell_type": "code",
      "source": [
        "%%R\n",
        "mf$Class_As<- cut(mf$SAs,\n",
        "                   breaks=c(-Inf, 14.8, 20,  Inf),\n",
        "                   labels=c(\"Non-contaminated\",\n",
        "                            \"Moderately-contaminated\",\n",
        "                            \"Highly-contaminated\"))"
      ],
      "metadata": {
        "id": "XCMe3RP5e4JK"
      },
      "execution_count": null,
      "outputs": []
    },
    {
      "cell_type": "markdown",
      "source": [
        "#### Data Processing"
      ],
      "metadata": {
        "id": "T-kgIRXnfJoi"
      }
    },
    {
      "cell_type": "code",
      "source": [
        "%%R\n",
        "df <- mf |>\n",
        "  # select variables\n",
        "  dplyr::select (WAs,  WFe,\n",
        "                SOC, SAoFe,\n",
        "                Year_Irrigation, Distance_STW,\n",
        "                Land_type, Class_As) |>\n",
        "   # convert to factor\n",
        "   dplyr::mutate_at(vars(Land_type), funs(factor))  |>\n",
        "   dplyr::mutate_at(vars(Class_As), funs(factor))  |>\n",
        "   # normalize the all numerical features\n",
        "   dplyr::mutate_at(1:6,  funs((.-min(.))/max(.-min(.)))) |>\n",
        "   glimpse()"
      ],
      "metadata": {
        "colab": {
          "base_uri": "https://localhost:8080/"
        },
        "id": "OVc1VRBeIwcQ",
        "outputId": "d0d99cfc-7584-4fa5-de9a-48b0277133ce"
      },
      "execution_count": null,
      "outputs": [
        {
          "output_type": "stream",
          "name": "stdout",
          "text": [
            "Rows: 263\n",
            "Columns: 8\n",
            "$ WAs             <dbl> 0.10738255, 0.10738255, 0.15212528, 0.24832215, 0.1364…\n",
            "$ WFe             <dbl> 0.1804348, 0.3423913, 0.8608696, 0.7391304, 0.3260870,…\n",
            "$ SOC             <dbl> 0.5333333, 0.3428571, 0.3904762, 0.5095238, 0.3428571,…\n",
            "$ SAoFe           <dbl> 0.3807107, 0.4238579, 0.2944162, 0.3807107, 0.2690355,…\n",
            "$ Year_Irrigation <dbl> 0.68421053, 1.00000000, 0.47368421, 0.36842105, 0.4736…\n",
            "$ Distance_STW    <dbl> 0.04761905, 0.07142857, 0.04761905, 0.11904762, 0.0476…\n",
            "$ Land_type       <fct> MHL, MHL, MHL, MHL, MHL, MHL, MHL, MHL, MHL, MHL, MHL,…\n",
            "$ Class_As        <fct> Highly-contaminated, Highly-contaminated, Highly-conta…\n"
          ]
        }
      ]
    },
    {
      "cell_type": "markdown",
      "source": [
        "#### Split Data"
      ],
      "metadata": {
        "id": "irYGsm-Dh4xs"
      }
    },
    {
      "cell_type": "code",
      "source": [
        "%%R\n",
        "seeds = 11076\n",
        "tr_prop = 0.70\n",
        "# training data (70% data)\n",
        "train= ddply(df,.(Land_type, Class_As),\n",
        "                 function(., seed) { set.seed(seed); .[sample(1:nrow(.), trunc(nrow(.) * tr_prop)), ] }, seed = 101)\n",
        "test = ddply(df, .(Land_type, Class_As),\n",
        "            function(., seed) { set.seed(seed); .[-sample(1:nrow(.), trunc(nrow(.) * tr_prop)), ] }, seed = 101)\n",
        "print(prop.table(table(train$Class_As)))\n",
        "print(prop.table(table(test$Class_As)))"
      ],
      "metadata": {
        "colab": {
          "base_uri": "https://localhost:8080/"
        },
        "id": "Hl-b7QO-h5Al",
        "outputId": "302d22c0-ab73-437e-a3ce-212920a089d3"
      },
      "execution_count": null,
      "outputs": [
        {
          "output_type": "stream",
          "name": "stdout",
          "text": [
            "\n",
            "       Non-contaminated Moderately-contaminated     Highly-contaminated \n",
            "              0.3571429               0.3186813               0.3241758 \n",
            "\n",
            "       Non-contaminated Moderately-contaminated     Highly-contaminated \n",
            "              0.3456790               0.3333333               0.3209877 \n"
          ]
        }
      ]
    },
    {
      "cell_type": "markdown",
      "source": [
        "### Fit an Ordinal Regression Model\n",
        "\n",
        "We'll use the `polr()` function from the {MASS} package to fit the model. nclude the `Hess=TRUE` option to speed up subsequent calls to `summary()`.\n",
        "\n"
      ],
      "metadata": {
        "id": "P3o8Ay9miNcO"
      }
    },
    {
      "cell_type": "markdown",
      "source": [
        "###  Only Intercept model"
      ],
      "metadata": {
        "id": "QELT_e_jqZ_S"
      }
    },
    {
      "cell_type": "code",
      "source": [
        "%%R\n",
        "inter.ordinal<-MASS::polr(Class_As~1, data= train,\n",
        "             Hess = TRUE)\n",
        "summary(inter.ordinal)"
      ],
      "metadata": {
        "id": "do4-RiQYiQmN",
        "colab": {
          "base_uri": "https://localhost:8080/"
        },
        "outputId": "403246ed-977f-4770-96c9-4f7f72449c2c"
      },
      "execution_count": null,
      "outputs": [
        {
          "output_type": "stream",
          "name": "stdout",
          "text": [
            "Call:\n",
            "MASS::polr(formula = Class_As ~ 1, data = train, Hess = TRUE)\n",
            "\n",
            "No coefficients\n",
            "\n",
            "Intercepts:\n",
            "                                            Value   Std. Error t value\n",
            "Non-contaminated|Moderately-contaminated    -0.5878  0.1547    -3.7996\n",
            "Moderately-contaminated|Highly-contaminated  0.7346  0.1584     4.6390\n",
            "\n",
            "Residual Deviance: 399.4273 \n",
            "AIC: 403.4273 \n"
          ]
        }
      ]
    },
    {
      "cell_type": "markdown",
      "source": [
        "### Full Model"
      ],
      "metadata": {
        "id": "g4bXzeXyqm7A"
      }
    },
    {
      "cell_type": "code",
      "source": [
        "%%R\n",
        "fit.ordinal<-MASS::polr(Class_As~., data= train,\n",
        "             Hess = TRUE)\n",
        "summary(fit.ordinal)"
      ],
      "metadata": {
        "colab": {
          "base_uri": "https://localhost:8080/"
        },
        "id": "X0nbYHoSiUku",
        "outputId": "f90e07ab-2726-4dea-f38f-0bb2e46a2ea0"
      },
      "execution_count": null,
      "outputs": [
        {
          "output_type": "stream",
          "name": "stdout",
          "text": [
            "Call:\n",
            "MASS::polr(formula = Class_As ~ ., data = train, Hess = TRUE)\n",
            "\n",
            "Coefficients:\n",
            "                  Value Std. Error t value\n",
            "WAs              3.6698     1.1037  3.3249\n",
            "WFe              2.2060     0.7827  2.8185\n",
            "SOC              1.6400     1.3379  1.2258\n",
            "SAoFe           -0.6631     1.0238 -0.6477\n",
            "Year_Irrigation  4.7694     0.8589  5.5532\n",
            "Distance_STW    -3.5255     1.2632 -2.7909\n",
            "Land_typeMHL     1.3473     0.3650  3.6909\n",
            "\n",
            "Intercepts:\n",
            "                                            Value   Std. Error t value\n",
            "Non-contaminated|Moderately-contaminated     2.8381  0.7917     3.5847\n",
            "Moderately-contaminated|Highly-contaminated  5.0791  0.8642     5.8771\n",
            "\n",
            "Residual Deviance: 284.2497 \n",
            "AIC: 302.2497 \n"
          ]
        }
      ]
    },
    {
      "cell_type": "markdown",
      "source": [
        "### Check the Overall Model Fit"
      ],
      "metadata": {
        "id": "We-TGcfurJNG"
      }
    },
    {
      "cell_type": "markdown",
      "source": [
        "We can see that the `Preg` coefficient is 0.062. Here we can infer that for each unit increase in Preg, the predicted probability of having dibetes increases by a factor of exp(0.062) = 1.06, or about 6%. This effect is statistically significant with a p-value of 0.00805."
      ],
      "metadata": {
        "id": "S8gSX3FPQ8TL"
      }
    },
    {
      "cell_type": "code",
      "source": [
        "%%R\n",
        "anova(inter.ordinal,fit.ordinal)"
      ],
      "metadata": {
        "colab": {
          "base_uri": "https://localhost:8080/"
        },
        "id": "xCUQFoWbQ-y-",
        "outputId": "5f8bf22e-4aa2-4af1-b9d4-3dd10f4c0204"
      },
      "execution_count": null,
      "outputs": [
        {
          "output_type": "stream",
          "name": "stdout",
          "text": [
            "Likelihood ratio tests of ordinal regression models\n",
            "\n",
            "Response: Class_As\n",
            "                                                                 Model\n",
            "1                                                                    1\n",
            "2 WAs + WFe + SOC + SAoFe + Year_Irrigation + Distance_STW + Land_type\n",
            "  Resid. df Resid. Dev   Test    Df LR stat. Pr(Chi)\n",
            "1       180   399.4273                              \n",
            "2       173   284.2497 1 vs 2     7 115.1776       0\n"
          ]
        }
      ]
    },
    {
      "cell_type": "markdown",
      "source": [
        "From the above output, you see that the chi-square is 284.2497 and p = <0.0001. This means that you can reject the null hypothesis that the model without predictors is as good as the model with the predictors"
      ],
      "metadata": {
        "id": "7kH1Yp8rrPRS"
      }
    },
    {
      "cell_type": "markdown",
      "source": [
        "### Goodness of Fit Tests\n",
        "\n",
        "The Lipsitz goodness-of-fit test is a statistical tool used to determine how well a logistic regression model predicts binary outcomes. It checks if the observed frequencies of the outcome variable in the sample align with the expected frequencies predicted by the logistic regression model."
      ],
      "metadata": {
        "id": "xwP9UPY_RC4h"
      }
    },
    {
      "cell_type": "code",
      "source": [
        "%%R\n",
        "generalhoslem::lipsitz.test(fit.ordinal)"
      ],
      "metadata": {
        "colab": {
          "base_uri": "https://localhost:8080/"
        },
        "id": "Vf4SiIA1RDqG",
        "outputId": "531ae1d1-6a37-4ba5-de77-b05a3e6e6ef6"
      },
      "execution_count": null,
      "outputs": [
        {
          "output_type": "stream",
          "name": "stdout",
          "text": [
            "\n",
            "\tLipsitz goodness of fit test for ordinal response models\n",
            "\n",
            "data:  formula:  Class_As ~ WAs + WFe + SOC + SAoFe + Year_Irrigation + Distance_STW + formula:      Land_type\n",
            "LR statistic = 17.772, df = 9, p-value = 0.03792\n",
            "\n"
          ]
        }
      ]
    },
    {
      "cell_type": "markdown",
      "source": [
        "### Calculate p-values\n",
        "\n",
        "In a summary output or an ordinal model, `p-values` are not provided. One way to calculate a `p-values` is by comparing the `t-value` against the standard normal distribution, similar to a `z test`. However, this is only accurate with infinite degrees of freedom, but it can be reasonably approximated by large samples. The accuracy decreases as the sample size decreases."
      ],
      "metadata": {
        "id": "6gN-90d3rYsr"
      }
    },
    {
      "cell_type": "code",
      "source": [
        "%%R\n",
        "ctable<-coef(summary(fit.ordinal))\n",
        "ctable"
      ],
      "metadata": {
        "colab": {
          "base_uri": "https://localhost:8080/"
        },
        "id": "QT2f1T6ArZr5",
        "outputId": "a8f6d8f0-00d2-4b99-dce3-1dbe23a45bd1"
      },
      "execution_count": null,
      "outputs": [
        {
          "output_type": "stream",
          "name": "stdout",
          "text": [
            "                                                 Value Std. Error    t value\n",
            "WAs                                          3.6697587  1.1037204  3.3248987\n",
            "WFe                                          2.2059640  0.7826794  2.8184772\n",
            "SOC                                          1.6399837  1.3378986  1.2257908\n",
            "SAoFe                                       -0.6631162  1.0237922 -0.6477059\n",
            "Year_Irrigation                              4.7694354  0.8588574  5.5532329\n",
            "Distance_STW                                -3.5254761  1.2632236 -2.7908568\n",
            "Land_typeMHL                                 1.3472678  0.3650260  3.6908817\n",
            "Non-contaminated|Moderately-contaminated     2.8380559  0.7917057  3.5847361\n",
            "Moderately-contaminated|Highly-contaminated  5.0790576  0.8642141  5.8770827\n"
          ]
        }
      ]
    },
    {
      "cell_type": "code",
      "source": [
        "%%R\n",
        "p <- pnorm(abs(ctable[, \"t value\"]), lower.tail = FALSE) * 2\n",
        "## combined table\n",
        "ctable <- cbind(ctable, \"p value\" = p)\n",
        "ctable"
      ],
      "metadata": {
        "colab": {
          "base_uri": "https://localhost:8080/"
        },
        "id": "Pj9YAgo4rgP7",
        "outputId": "79620410-81e6-4c52-f1c9-aca0f5e24e43"
      },
      "execution_count": null,
      "outputs": [
        {
          "output_type": "stream",
          "name": "stdout",
          "text": [
            "                                                 Value Std. Error    t value\n",
            "WAs                                          3.6697587  1.1037204  3.3248987\n",
            "WFe                                          2.2059640  0.7826794  2.8184772\n",
            "SOC                                          1.6399837  1.3378986  1.2257908\n",
            "SAoFe                                       -0.6631162  1.0237922 -0.6477059\n",
            "Year_Irrigation                              4.7694354  0.8588574  5.5532329\n",
            "Distance_STW                                -3.5254761  1.2632236 -2.7908568\n",
            "Land_typeMHL                                 1.3472678  0.3650260  3.6908817\n",
            "Non-contaminated|Moderately-contaminated     2.8380559  0.7917057  3.5847361\n",
            "Moderately-contaminated|Highly-contaminated  5.0790576  0.8642141  5.8770827\n",
            "                                                 p value\n",
            "WAs                                         8.845065e-04\n",
            "WFe                                         4.825204e-03\n",
            "SOC                                         2.202774e-01\n",
            "SAoFe                                       5.171752e-01\n",
            "Year_Irrigation                             2.804340e-08\n",
            "Distance_STW                                5.256873e-03\n",
            "Land_typeMHL                                2.234780e-04\n",
            "Non-contaminated|Moderately-contaminated    3.374192e-04\n",
            "Moderately-contaminated|Highly-contaminated 4.175597e-09\n"
          ]
        }
      ]
    },
    {
      "cell_type": "markdown",
      "source": [
        "### Confidence Intervals\n",
        "\n",
        "We can calculate confidence intervals for the parameter estimates using two methods: profiling the likelihood function or using standard errors and assuming a normal distribution. It's important to note that profiled confidence intervals are not always symmetric, although they are typically close to being symmetric. If the 95% confidence interval does not include 0, the parameter estimate is considered statistically significant."
      ],
      "metadata": {
        "id": "jB1k9SDgRS8S"
      }
    },
    {
      "cell_type": "code",
      "source": [
        "%%R\n",
        "ci <- confint.default(fit.ordinal)\n",
        "ci"
      ],
      "metadata": {
        "colab": {
          "base_uri": "https://localhost:8080/"
        },
        "id": "ZiOc3yxBRVgK",
        "outputId": "81a0a890-3a14-4683-bdd2-183e94b9b8ca"
      },
      "execution_count": null,
      "outputs": [
        {
          "output_type": "stream",
          "name": "stdout",
          "text": [
            "                     2.5 %    97.5 %\n",
            "WAs              1.5065064  5.833011\n",
            "WFe              0.6719406  3.739987\n",
            "SOC             -0.9822493  4.262217\n",
            "SAoFe           -2.6697121  1.343480\n",
            "Year_Irrigation  3.0861058  6.452765\n",
            "Distance_STW    -6.0013488 -1.049603\n",
            "Land_typeMHL     0.6318300  2.062706\n"
          ]
        }
      ]
    },
    {
      "cell_type": "markdown",
      "source": [
        "The coefficients in the model can be hard to understand because they are scaled in logs. Another way to interpret logistic regression models is to change the coefficients into odds ratios. To find the odds ratio and confidence intervals, we just need to raise the estimates and confidence intervals to the power of the mathematical constant e."
      ],
      "metadata": {
        "id": "_g7sgtuCs2Sz"
      }
    },
    {
      "cell_type": "code",
      "source": [
        "%%R\n",
        "exp(cbind(OR = coef(fit.ordinal), ci))"
      ],
      "metadata": {
        "colab": {
          "base_uri": "https://localhost:8080/"
        },
        "id": "d4Q1ztpCs5PE",
        "outputId": "4f5d59de-cae7-4982-ac2f-6b97ce90da6e"
      },
      "execution_count": null,
      "outputs": [
        {
          "output_type": "stream",
          "name": "stdout",
          "text": [
            "                          OR        2.5 %      97.5 %\n",
            "WAs              39.24243587  4.510943773 341.3850517\n",
            "WFe               9.07899994  1.958033425  42.0974632\n",
            "SOC               5.15508558  0.374467868  70.9671232\n",
            "SAoFe             0.51524322  0.069272167   3.8323555\n",
            "Year_Irrigation 117.85268444 21.891660531 634.4541663\n",
            "Distance_STW      0.02943779  0.002475411   0.3500766\n",
            "Land_typeMHL      3.84690063  1.881049711   7.8672267\n"
          ]
        }
      ]
    },
    {
      "cell_type": "markdown",
      "source": [
        "`plot_model()` function of {sjPlot} package creates plots the estimates from logistic model:"
      ],
      "metadata": {
        "id": "oYc-UXZVE9Ab"
      }
    },
    {
      "cell_type": "code",
      "source": [
        "%%R -w 650 -h 500 -u px\n",
        "plot_model(fit.ordinal, vline.color = \"red\")"
      ],
      "metadata": {
        "colab": {
          "base_uri": "https://localhost:8080/",
          "height": 517
        },
        "id": "fismD6AgE_Vw",
        "outputId": "dc03baad-0e33-4cf2-ad1a-208481bb44c5"
      },
      "execution_count": null,
      "outputs": [
        {
          "output_type": "display_data",
          "data": {
            "image/png": "[encoded data removed]"
          },
          "metadata": {}
        }
      ]
    },
    {
      "cell_type": "markdown",
      "source": [
        "### Interpret the Odds Ratios\n",
        "\n",
        "-   Exponentiate the coefficient: This converts the log odds ratio to an odds ratio. For example, if the coefficient for WAs is 8.195, the odds ratio associated with a one-unit increase in WAs is $e^{8.195}$\n",
        "\n",
        "-   Interpret the odds ratio: When the odds ratio is greater than 1, it means that for each one-unit increase in the predictor variable, the odds of being in a higher category of the outcome increase by the value of the odds ratio. On the other hand, if the odds ratio is less than 1, it indicates that for each one-unit increase in the predictor variable, the odds of being in a higher category of the outcome decrease by the reciprocal of the odds ratio.\n",
        "\n",
        "-   Check the significance: When interpreting the results, it's important to pay attention to the p-values associated with each coefficient. A p-value that is less than 0.05 suggests that the odds ratio is significantly different from 1, indicating a strong association between the predictor variable and the outcome category. It's crucial to remember that interpretation should always be done in the context of the specific research question and the nature of the data being analyzed.\n"
      ],
      "metadata": {
        "id": "of4mLrHKtEJf"
      }
    },
    {
      "cell_type": "markdown",
      "source": [
        "### Model Performance"
      ],
      "metadata": {
        "id": "7CmlqjQUTi0y"
      }
    },
    {
      "cell_type": "code",
      "source": [
        "%%R\n",
        "performance::performance(fit.ordinal)"
      ],
      "metadata": {
        "colab": {
          "base_uri": "https://localhost:8080/"
        },
        "id": "mAqgMp-1Tk13",
        "outputId": "35366643-7581-4d17-ed61-9bed95f84616"
      },
      "execution_count": null,
      "outputs": [
        {
          "output_type": "stream",
          "name": "stdout",
          "text": [
            "Can't calculate log-loss.\n"
          ]
        },
        {
          "output_type": "stream",
          "name": "stderr",
          "text": [
            "WARNING:rpy2.rinterface_lib.callbacks:R[write to console]: Can't calculate proper scoring rules for ordinal, multinomial or\n",
            "  cumulative link models.\n",
            "\n"
          ]
        },
        {
          "output_type": "stream",
          "name": "stdout",
          "text": [
            "# Indices of model performance\n",
            "\n",
            "AIC     |    AICc |     BIC | Nagelkerke's R2 |  RMSE | Sigma\n",
            "-------------------------------------------------------------\n",
            "302.250 | 303.296 | 331.086 |           0.528 | 1.848 | 1.274\n"
          ]
        }
      ]
    },
    {
      "cell_type": "markdown",
      "source": [
        "### Fitted Values"
      ],
      "metadata": {
        "id": "eqXLP2hitNM3"
      }
    },
    {
      "cell_type": "code",
      "source": [
        "%%R\n",
        "fitted.values<-fit.ordinal$fitted.values\n",
        "head(fitted.values, 20)"
      ],
      "metadata": {
        "colab": {
          "base_uri": "https://localhost:8080/"
        },
        "id": "Y46mbMMPtOGo",
        "outputId": "b6ea20ef-61fe-44dc-e4e5-869e8fc337ec"
      },
      "execution_count": null,
      "outputs": [
        {
          "output_type": "stream",
          "name": "stdout",
          "text": [
            "   Non-contaminated Moderately-contaminated Highly-contaminated\n",
            "1         0.8631759              0.12024519         0.016578893\n",
            "2         0.6867205              0.26700638         0.046273119\n",
            "3         0.6604208              0.28772906         0.051850165\n",
            "4         0.4405685              0.44045199         0.118979552\n",
            "5         0.6660120              0.28335479         0.050633232\n",
            "6         0.9401594              0.05311677         0.006723839\n",
            "7         0.8908071              0.09632412         0.012868814\n",
            "8         0.2634522              0.50735635         0.229191431\n",
            "9         0.8173240              0.15945729         0.023218666\n",
            "10        0.9608080              0.03487248         0.004319498\n",
            "11        0.1295384              0.45366512         0.416796495\n",
            "12        0.6671619              0.28245298         0.050385090\n",
            "13        0.9135657              0.07647223         0.009962105\n",
            "14        0.8958105              0.09197092         0.012218602\n",
            "15        0.9531394              0.04165901         0.005201632\n",
            "16        0.7937733              0.17933834         0.026888327\n",
            "17        0.7784693              0.19215450         0.029376243\n",
            "18        0.9104675              0.07918227         0.010350246\n",
            "19        0.8695899              0.11471089         0.015699192\n",
            "20        0.6293579              0.31169992         0.058942172\n"
          ]
        }
      ]
    },
    {
      "cell_type": "markdown",
      "source": [
        "### Test the Goodness of Fit"
      ],
      "metadata": {
        "id": "uRQUqoYptUKu"
      }
    },
    {
      "cell_type": "code",
      "source": [
        "%%R\n",
        "chisq.test(train$Class_As,predict(fit.ordinal))"
      ],
      "metadata": {
        "colab": {
          "base_uri": "https://localhost:8080/"
        },
        "id": "R3PLQDqBtWz7",
        "outputId": "78ef03cd-16ed-4803-eda0-bc7d71a1df3b"
      },
      "execution_count": null,
      "outputs": [
        {
          "output_type": "stream",
          "name": "stdout",
          "text": [
            "\n",
            "\tPearson's Chi-squared test\n",
            "\n",
            "data:  train$Class_As and predict(fit.ordinal)\n",
            "X-squared = 96.166, df = 4, p-value < 2.2e-16\n",
            "\n"
          ]
        }
      ]
    },
    {
      "cell_type": "markdown",
      "source": [
        "### Confusion Matrix\n",
        "\n"
      ],
      "metadata": {
        "id": "MP_KpJx2Tojw"
      }
    },
    {
      "cell_type": "code",
      "source": [
        "%%R\n",
        "predict.train <-  predict(fit.ordinal,train)\n",
        "c.train <- table(train$Class_As,predict.train)\n",
        "c.train"
      ],
      "metadata": {
        "colab": {
          "base_uri": "https://localhost:8080/"
        },
        "id": "K3PtnNqkTqwX",
        "outputId": "6125dab8-4ca3-472f-dbdd-b24c0d3e34eb"
      },
      "execution_count": null,
      "outputs": [
        {
          "output_type": "stream",
          "name": "stdout",
          "text": [
            "                         predict.train\n",
            "                          Non-contaminated Moderately-contaminated\n",
            "  Non-contaminated                      49                      14\n",
            "  Moderately-contaminated               15                      26\n",
            "  Highly-contaminated                    2                      15\n",
            "                         predict.train\n",
            "                          Highly-contaminated\n",
            "  Non-contaminated                          2\n",
            "  Moderately-contaminated                  17\n",
            "  Highly-contaminated                      42\n"
          ]
        }
      ]
    },
    {
      "cell_type": "markdown",
      "source": [
        "### Misclassification Error"
      ],
      "metadata": {
        "id": "TelI4X-DtqJZ"
      }
    },
    {
      "cell_type": "code",
      "source": [
        "%%R\n",
        "mean(as.character(train$Class_As) != as.character(predict.train))"
      ],
      "metadata": {
        "colab": {
          "base_uri": "https://localhost:8080/"
        },
        "id": "8HGKJ4eqtq_h",
        "outputId": "774abee1-4561-415b-81f5-dd427d56a5a5"
      },
      "execution_count": null,
      "outputs": [
        {
          "output_type": "stream",
          "name": "stdout",
          "text": [
            "[1] 0.3571429\n"
          ]
        }
      ]
    },
    {
      "cell_type": "markdown",
      "source": [
        "### Marginal Effects and Adjusted Predictions\n",
        "\n",
        "The presentation of regression models, typically in the form of tables, is widely accepted as a clear and accessible method for interpreting results. However, for more intricate models that incorporate interaction or transformed terms, such as quadratic or spline terms, the use of raw regression coefficients may prove less effective, resulting in challenges when interpreting outcomes. In such cases, adjusted predictions or marginal means provide a more fitting solution. The use of visual aids can also assist in the comprehension of such effects or predictions, providing an intuitive understanding of the relationship between predictors and outcomes, even for complex models.\n"
      ],
      "metadata": {
        "id": "mSzqyZq4T1Hz"
      }
    },
    {
      "cell_type": "code",
      "source": [
        "%%R\n",
        "margins::margins(fit.ordinal, variables = \"WAs\")"
      ],
      "metadata": {
        "colab": {
          "base_uri": "https://localhost:8080/"
        },
        "id": "95onO5LfT6eT",
        "outputId": "d35c4adc-ccd0-4e05-9234-0e50fec9738e"
      },
      "execution_count": null,
      "outputs": [
        {
          "output_type": "stream",
          "name": "stderr",
          "text": [
            "WARNING:rpy2.rinterface_lib.callbacks:R[write to console]: Average marginal effects\n",
            "\n",
            "WARNING:rpy2.rinterface_lib.callbacks:R[write to console]: MASS::polr(formula = Class_As ~ ., data = train, Hess = TRUE)\n",
            "\n",
            "\n"
          ]
        },
        {
          "output_type": "stream",
          "name": "stdout",
          "text": [
            "    WAs\n",
            " -1.089\n"
          ]
        }
      ]
    },
    {
      "cell_type": "markdown",
      "source": [
        "{ggeffects} supports labelled data and the `plot()`- method automatically sets titles, axis - and legend-labels depending on the value and variable labels of the data."
      ],
      "metadata": {
        "id": "8MP5UkMsUAVC"
      }
    },
    {
      "cell_type": "code",
      "source": [
        "%%R -w 600 -h 450 -u px\n",
        "predict_response(fit.ordinal, terms = c(\"WAs\", \"WFe\")) |>\n",
        "plot(facets = TRUE)"
      ],
      "metadata": {
        "colab": {
          "base_uri": "https://localhost:8080/",
          "height": 519
        },
        "id": "wff3qwFvUBC0",
        "outputId": "4a5f8810-45c9-4026-f9ea-5c70c17baea1"
      },
      "execution_count": null,
      "outputs": [
        {
          "output_type": "stream",
          "name": "stderr",
          "text": [
            "WARNING:rpy2.rinterface_lib.callbacks:R[write to console]: Data were 'prettified'. Consider using `terms=\"WAs [all]\"` to get smooth\n",
            "  plots.\n",
            "\n"
          ]
        },
        {
          "output_type": "display_data",
          "data": {
            "image/png": "[encoded data removed]"
          },
          "metadata": {}
        }
      ]
    },
    {
      "cell_type": "markdown",
      "source": [
        "### Cross-validation"
      ],
      "metadata": {
        "id": "VVl5B189Lh-M"
      }
    },
    {
      "cell_type": "code",
      "source": [
        "%%R\n",
        "# Set the number of folds\n",
        "K <- 5\n",
        "\n",
        "# Create a vector to store misclassification rates for each fold\n",
        "misclassification_rates <- numeric(K)\n",
        "\n",
        "# Set seed for reproducibility\n",
        "set.seed(123)\n",
        "\n",
        "# Generate fold indices\n",
        "folds <- sample(rep(1:K, length.out = nrow(df)))\n",
        "\n",
        "# Loop through each fold\n",
        "for (k in 1:K) {\n",
        "  # Split the data into training and test sets\n",
        "  train_data <- df[folds != k, ]\n",
        "  test_data <- df[folds == k, ]\n",
        "\n",
        "  # Fit the model on the training data\n",
        "  model<-MASS::polr(Class_As~., data= df,\n",
        "             Hess = TRUE)\n",
        "\n",
        "  # Predict the class labels on the test set\n",
        "    predicted_classes <- predict(model, newdata = test_data,  type = \"class\")\n",
        "\n",
        "  # Calculate the misclassification rate for the current fold\n",
        "  misclassified <- mean(predicted_classes == test_data$Class_As)\n",
        "  fold_misclassification_rate <- misclassified / nrow(test_data)\n",
        "\n",
        "  # Store the misclassification rate for this fold\n",
        "  misclassification_rates[k] <- fold_misclassification_rate\n",
        "}\n",
        "\n",
        "# Calculate the average misclassification rate across all folds\n",
        "avg_misclassification_rate <- mean(misclassification_rates)\n",
        "\n",
        "# Display results\n",
        "cat(\"Cross-Validated Misclassification Rates for Each Fold:\", misclassification_rates, \"\\n\")\n",
        "cat(\"Average Cross-Validated Misclassification Rate:\", avg_misclassification_rate, \"\\n\")"
      ],
      "metadata": {
        "colab": {
          "base_uri": "https://localhost:8080/"
        },
        "id": "PGga1yrDLmm6",
        "outputId": "0478e19d-0561-4abf-a664-70c0479bfb2f"
      },
      "execution_count": null,
      "outputs": [
        {
          "output_type": "stream",
          "name": "stdout",
          "text": [
            "Cross-Validated Misclassification Rates for Each Fold: 0.01281595 0.01174795 0.01317195 0.01368343 0.008505917 \n",
            "Average Cross-Validated Misclassification Rate: 0.01198504 \n"
          ]
        }
      ]
    },
    {
      "cell_type": "markdown",
      "source": [
        "### Prediction and Model Evaluation\n"
      ],
      "metadata": {
        "id": "lzUYKrBuVrKA"
      }
    },
    {
      "cell_type": "markdown",
      "source": [
        "#### Predicted Classes"
      ],
      "metadata": {
        "id": "CbsRKRQguv5L"
      }
    },
    {
      "cell_type": "code",
      "source": [
        "%%R\n",
        "predictedClass <- predict(fit.ordinal, test)\n",
        "head(predictedClass)"
      ],
      "metadata": {
        "colab": {
          "base_uri": "https://localhost:8080/"
        },
        "id": "IR50vxu9Vsrp",
        "outputId": "d0dc347b-1e32-4462-fc1d-c478b7b32da6"
      },
      "execution_count": null,
      "outputs": [
        {
          "output_type": "stream",
          "name": "stdout",
          "text": [
            "[1] Moderately-contaminated Non-contaminated        Non-contaminated       \n",
            "[4] Non-contaminated        Non-contaminated        Non-contaminated       \n",
            "Levels: Non-contaminated Moderately-contaminated Highly-contaminated\n"
          ]
        }
      ]
    },
    {
      "cell_type": "markdown",
      "source": [
        "#### Predicted Probabilites"
      ],
      "metadata": {
        "id": "9az3B1j0uycR"
      }
    },
    {
      "cell_type": "code",
      "source": [
        "%%R\n",
        "predictedScores <- predict(fit.ordinal, test, type=\"p\")\n",
        "head(predictedScores)"
      ],
      "metadata": {
        "colab": {
          "base_uri": "https://localhost:8080/"
        },
        "id": "m5SDLQ6PuzaD",
        "outputId": "aa4374c0-e8f6-4f23-97de-f21ec4799eb3"
      },
      "execution_count": null,
      "outputs": [
        {
          "output_type": "stream",
          "name": "stdout",
          "text": [
            "  Non-contaminated Moderately-contaminated Highly-contaminated\n",
            "1        0.3471316               0.4861844          0.16668400\n",
            "2        0.8299989               0.1486820          0.02131907\n",
            "3        0.8603704               0.1226623          0.01696730\n",
            "4        0.8300323               0.1486535          0.02131412\n",
            "5        0.8088840               0.1666036          0.02451237\n",
            "6        0.8108544               0.1649373          0.02420824\n"
          ]
        }
      ]
    },
    {
      "cell_type": "markdown",
      "source": [
        "#### Confusion Matrix"
      ],
      "metadata": {
        "id": "0GuXDSjjVyv2"
      }
    },
    {
      "cell_type": "code",
      "source": [
        "%%R\n",
        "table(test$Class_As, predictedClass)"
      ],
      "metadata": {
        "id": "DwoKa9oMVz2t",
        "colab": {
          "base_uri": "https://localhost:8080/"
        },
        "outputId": "9e7f73b7-de83-444d-a8dd-8894cb3d38fc"
      },
      "execution_count": null,
      "outputs": [
        {
          "output_type": "stream",
          "name": "stdout",
          "text": [
            "                         predictedClass\n",
            "                          Non-contaminated Moderately-contaminated\n",
            "  Non-contaminated                      21                       5\n",
            "  Moderately-contaminated                8                      10\n",
            "  Highly-contaminated                    2                       4\n",
            "                         predictedClass\n",
            "                          Highly-contaminated\n",
            "  Non-contaminated                          2\n",
            "  Moderately-contaminated                   9\n",
            "  Highly-contaminated                      20\n"
          ]
        }
      ]
    },
    {
      "cell_type": "markdown",
      "source": [
        "#### Misclassifiaction Error"
      ],
      "metadata": {
        "id": "QPRYitUhvUEf"
      }
    },
    {
      "cell_type": "code",
      "source": [
        "%%R\n",
        "mean(as.character(test$Class_As) != as.character(predictedClass))"
      ],
      "metadata": {
        "id": "Y-TNYW5IV5Sm",
        "colab": {
          "base_uri": "https://localhost:8080/"
        },
        "outputId": "bb6b2ae0-e19f-441c-e82d-a62e4d4b6cb7"
      },
      "execution_count": null,
      "outputs": [
        {
          "output_type": "stream",
          "name": "stdout",
          "text": [
            "[1] 0.3703704\n"
          ]
        }
      ]
    },
    {
      "cell_type": "markdown",
      "source": [
        "## Summary and Conclusion\n",
        "\n",
        "Understanding ordinal regression and how to implement it in R can provide valuable insights into the relationships between predictor variables and ordinal response variables. This can lead to a deeper understanding of the factors influencing the outcome of interest. It's important to approach ordinal regression carefully, taking into consideration the specific data and research question."
      ],
      "metadata": {
        "id": "upcYU_bCVlc1"
      }
    },
    {
      "cell_type": "markdown",
      "source": [
        "## References\n",
        "\n",
        "1. [Ordinal logistic regression](https://www.bookdown.org/rwnahhas/RMPH/blr-ordinal.html)\n",
        "\n",
        "2. [ORDINAL LOGISTIC REGRESSION | R DATA ANALYSIS EXAMPLES](https://stats.oarc.ucla.edu/r/dae/ordinal-logistic-regression/)\n",
        "\n",
        "3. [How to Perform Ordinal Logistic Regression in R](https://www.r-bloggers.com/2019/06/how-to-perform-ordinal-logistic-regression-in-r/)\n",
        "\n",
        "4. [Chapter 12 Ordinal Logistic Regression](https://bookdown.org/chua/ber642_advanced_regression/ordinal-logistic-regression.html)\n",
        "\n",
        "5. [Handbook of Regression Modeling in People Analytics:](https://peopleanalytics-regression-book.org/)"
      ],
      "metadata": {
        "id": "jadfYvGSWNK8"
      }
    },
    {
      "cell_type": "markdown",
      "source": [
        "Here are some books that cover Ordinal Regression and its implementation in R:\n",
        "\n",
        "1. **\"Modern Applied Statistics with S\" by W.N. Venables and B.D. Ripley**\n",
        "   - This book provides a comprehensive introduction to statistical modeling using S-PLUS and R, including chapters on ordinal regression models.\n",
        "\n",
        "2. **\"Ordinal Data Modeling\" by Valen E. Johnson and James H. Albert**\n",
        "   - This book focuses on ordinal data analysis and modeling, including techniques and applications in R.\n",
        "\n",
        "3. **\"Regression Modeling Strategies: With Applications to Linear Models, Logistic and Ordinal Regression, and Survival Analysis\" by Frank E. Harrell Jr.**\n",
        "   - This comprehensive book covers various regression modeling strategies, including ordinal regression, with practical examples and R code.\n",
        "\n",
        "4. **\"Analysis of Ordinal Categorical Data\" by Alan Agresti**\n",
        "   - This book provides an in-depth look at ordinal categorical data analysis, including ordinal regression models, with examples and code that can be adapted to R.\n",
        "\n",
        "5. **\"Generalized Linear Models with Examples in R\" by Peter K. Dunn and Gordon K. Smyth**\n",
        "   - This book offers a detailed introduction to generalized linear models, including ordinal regression models, with practical examples and R code.\n",
        "\n",
        "6. **\"Applied Ordinal Logistic Regression Using Stata: From Single-Level to Multilevel Modeling\" by Xing Liu**\n",
        "   - While this book primarily focuses on Stata, the concepts and methods discussed can be adapted for implementation in R.\n",
        "\n",
        "7. **\"Applied Regression Analysis and Generalized Linear Models\" by John Fox**\n",
        "   - This book provides a thorough introduction to regression analysis, including ordinal regression, with examples and R code.\n",
        "\n",
        "These books provide a thorough understanding of ordinal regression models and their application in R, catering to both beginners and advanced users."
      ],
      "metadata": {
        "id": "BgFWJdeDexxy"
      }
    }
  ]
}