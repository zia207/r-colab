{
  "nbformat": 4,
  "nbformat_minor": 0,
  "metadata": {
    "colab": {
      "provenance": [],
      "toc_visible": true,
      "authorship_tag": "ABX9TyObI9dyzT/Zb053a0vZRLmE",
      "include_colab_link": true
    },
    "kernelspec": {
      "name": "python3",
      "display_name": "Python 3"
    },
    "language_info": {
      "name": "python"
    }
  },
  "cells": [
    {
      "cell_type": "markdown",
      "metadata": {
        "id": "view-in-github",
        "colab_type": "text"
      },
      "source": [
        "<a href=\"https://colab.research.google.com/github/zia207/r-colab/blob/main/NoteBook/Advance_Regression/01_Generalized_Linear_Models/02-01-06-03-poisson-regression-overdispersion-r.ipynb\" target=\"_parent\"><img src=\"https://colab.research.google.com/assets/colab-badge.svg\" alt=\"Open In Colab\"/></a>"
      ]
    },
    {
      "cell_type": "markdown",
      "source": [
        "![alt text](http://drive.google.com/uc?export=view&id=1bLQ3nhDbZrCCqy_WCxxckOne2lgVvn3l)"
      ],
      "metadata": {
        "id": "7pRnAcmfgMw5"
      }
    },
    {
      "cell_type": "markdown",
      "source": [
        "# 6.3. Poisson Regression Models for Overdispersed Data\n",
        "\n",
        "When analyzing count data, you may encounter overdispersion, which occurs when the observed variability in the data is more significant than what a standard Poisson model would predict. Overdispersion often arises in real-world datasets because natural processes can introduce more variability than a simple Poisson model can accommodate. Ignoring overdispersion can lead to underestimated standard errors, unreliable confidence intervals, and misleading conclusions.\n",
        "\n",
        "In this tutorial, we will explore methods for modeling overdispersed count data in R, focusing on approaches such as quasi-Poisson and negative binomial models, which can manage the extra variability in the data. We will begin by discussing the implications of overdispersion, then move on to fitting models from scratch and using R’s `glm()` function. After that, we’ll examine model diagnostics to detect overdispersion, evaluate the models to ensure a proper fit, and interpret incidence rate ratios (IRRs).\n"
      ],
      "metadata": {
        "id": "TYmWLaFj0649"
      }
    },
    {
      "cell_type": "markdown",
      "source": [
        "## Overview\n",
        "\n",
        "**Poisson regression** is used to model count data where the response variable represents the number of occurrences of an event. A key assumption of the Poisson model is that the **mean** and the **variance** of the response variable are equal:\n",
        "\n",
        "$$ \\text{Var}(Y) = \\mu $$\n",
        "\n",
        "Where $(Y)$ is the count response variable, and $\\mu$ is the mean (expected value) of the counts. However, in many real-world datasets, this assumption is often violated. When the variance is **greater than the mean**, the data exhibit **overdispersion**. Overdispersion can lead to underestimated standard errors and, as a result, inflated Type I error rates (i.e., falsely concluding that a predictor is significant).\n",
        "\n",
        "\n",
        "\n"
      ],
      "metadata": {
        "id": "MJyJN_Lzu9Cq"
      }
    },
    {
      "cell_type": "markdown",
      "source": [
        "### Causes of Overdispersion\n",
        "\n",
        "Overdispersion in count data can occur for several reasons, including:\n",
        "\n",
        "1.  **Unobserved heterogeneity**: There might be additional variables or factors influencing the count data that are not included in the model.\n",
        "\n",
        "2.  **Zero-inflation**: There might be an excess of zeros in the data compared to what the Poisson model predicts.\n",
        "\n",
        "3.  **Clustering**: Observations within clusters may be more similar than those across clusters, leading to greater variability than assumed.\n"
      ],
      "metadata": {
        "id": "OdWazZbVrHcW"
      }
    },
    {
      "cell_type": "markdown",
      "source": [
        "### Identifying Overdispersion\n",
        "\n",
        "-   The variance is much greater than the mean, which suggests that we will have **over-dispersion** in the model.\n",
        "\n",
        "-   **Deviance**: If the deviance is much larger than the degrees of freedom, it suggests overdispersion. We can estimate a dispersion parameter, $ϕ$ by dividing the model deviance by its corresponding degrees of freedom; i.e.,\n",
        "\n",
        "$$ ϕ^2 = \\frac{\\sum Residuals^2}{n-p} $$\n",
        "\n",
        "-   If this statistic is significantly greater than 1, it suggests the presence of overdispersion.\n",
        "-   You can also examine the **Pearson Chi-Square statistic** divided by the degrees of freedom as another indicator of overdispersion."
      ],
      "metadata": {
        "id": "ntV3ROVXrOau"
      }
    },
    {
      "cell_type": "markdown",
      "source": [
        "### Handling Overdispersion in Poisson Regression\n",
        "\n",
        "When overdispersion is present, Poisson regression is not appropriate, and alternative models are needed. There are several approaches to address overdispersion:\n",
        "\n",
        "1.  **Quasi-Poisson Regression**: A simple extension where the Poisson model is adjusted to allow for overdispersion by adding a dispersion parameter.\n",
        "2.  **Negative Binomial Regression**: A more flexible model that explicitly accounts for overdispersion by allowing the variance to differ from the mean.\n",
        "3.  **Zero-Inflated Models**: Useful when the overdispersion is caused by excess zeros in the data.\n"
      ],
      "metadata": {
        "id": "S6FjGEzFrWoh"
      }
    },
    {
      "cell_type": "markdown",
      "source": [
        "Below is the explanation of **Quasi-Poisson Regression**, **Negative Binomial Regression**, and **Zero-Inflated Models** (including **Zero-Inflated Poisson (ZIP)**, **Zero-Inflated Negative Binomial (ZINB)**, and **Hurdle Model**) with all equations presented in final Markdown format, covering how they work, key features, applications, advantages, limitations, and how they differ.\n"
      ],
      "metadata": {
        "id": "j6h_DGF9rZ25"
      }
    },
    {
      "cell_type": "markdown",
      "source": [
        "### Quasi-Poisson Regression\n",
        "\n",
        "Quasi-Poisson regression extends Poisson regression for count data to address overdispersion (variance greater than the mean). In standard Poisson regression, the response $Y$ follows a Poisson distribution with:\n",
        "\n",
        "$$\n",
        "E(Y) = Var(Y) = \\mu\n",
        "$$\n",
        "\n",
        "The mean is modeled as:\n",
        "\n",
        "$$\n",
        "\\log(\\mu) = \\beta_0 + \\beta_1 x_1 + \\dots + \\beta_p x_p\n",
        "$$\n",
        "\n",
        "Quasi-Poisson introduces a dispersion parameter $\\phi > 1$, adjusting the variance to:\n",
        "\n",
        "$$\n",
        "Var(Y) = \\phi \\mu\n",
        "$$\n",
        "\n",
        "Parameters are estimated using quasi-likelihood methods, maximizing the quasi-log-likelihood:\n",
        "\n",
        "$$\n",
        "Q(\\mu; y) = \\sum \\left( \\frac{y \\log \\mu - \\mu}{\\phi} \\right)\n",
        "$$\n",
        "\n",
        "No full distributional assumption is made, unlike Poisson.\n",
        "\n",
        "`Key Features:`\n",
        "\n",
        "-   Handles overdispersion with a scalar dispersion parameter $\\phi$.\n",
        "-   Uses log-link for the mean, similar to Poisson.\n",
        "-   No additional parameters for variance beyond $\\phi$.\n",
        "\n",
        "`Applications`:\n",
        "\n",
        "-   Count data epidemiology (e.g., disease incidents), ecology (e.g., species counts), or insurance (e.g., claim frequencies) where variance exceeds the mean.\n",
        "\n",
        "`Advantages`:\n",
        "\n",
        "-   Simple extension of Poisson; easy to implement (e.g., `glm(family=\"quasipoisson\")` in R).\n",
        "-   Robust to overdispersion without requiring a full distribution.\n",
        "-   Computationally efficient.\n",
        "\n",
        "`Limitations`:\n",
        "\n",
        "-   Cannot handle underdispersion $\\phi < 1$.\n",
        "-   Does not directly model excess zeros.\n",
        "-   Inference is approximate (quasi-likelihood, not full likelihood), with standard errors scaled by $\\sqrt{\\phi}$."
      ],
      "metadata": {
        "id": "V7eH_LOdrasR"
      }
    },
    {
      "cell_type": "markdown",
      "source": [
        "### Negative Binomial Regression\n",
        "\n",
        "Negative Binomial (NB) regression models count data with overdispersion by assuming $Y$ follows a Negative Binomial distribution (a Poisson-Gamma mixture). The mean and variance are:\n",
        "\n",
        "$$\n",
        "E(Y) = \\mu, \\quad Var(Y) = \\mu + \\alpha \\mu^2\n",
        "$$\n",
        "\n",
        "where $\\alpha > 0$ is the dispersion parameter (sometimes parameterized as $1/k$. The mean is modeled as:\n",
        "\n",
        "$$\n",
        "\\log(\\mu) = \\beta_0 + \\beta_1 x_1 + \\dots + \\beta_p x_p\n",
        "$$\n",
        "\n",
        "Parameters are estimated via maximum likelihood, maximizing the log-likelihood:\n",
        "\n",
        "$$\n",
        "\\log L = \\sum \\left[ \\log \\Gamma(y_i + 1/\\alpha) - \\log \\Gamma(1/\\alpha) - \\log(y_i!) + y_i \\log\\left(\\frac{\\mu_i \\alpha}{1 + \\mu_i \\alpha}\\right) + \\frac{1}{\\alpha} \\log\\left(\\frac{1}{1 + \\mu_i \\alpha}\\right) \\right]\n",
        "$$\n",
        "\n",
        "`Key Features:`\n",
        "\n",
        "-   Models overdispersion via a quadratic variance-mean relationship.\n",
        "-   Common forms: NB2 (quadratic variance, as above) or NB1 (linear variance).\n",
        "-   Full likelihood-based inference.\n",
        "\n",
        "`Applications`:\n",
        "\n",
        "-   Bioinformatics (e.g., RNA-seq read counts), traffic accidents (e.g., crash counts), or marketing (e.g., customer purchase counts) with high variability.\n",
        "\n",
        "`Advantages`:\n",
        "\n",
        "-   Better fit for overdispersed data than Poisson or Quasi-Poisson.\n",
        "-   Supports likelihood ratio tests and AIC/BIC model comparison.\n",
        "-   Flexible for varying dispersion in some extensions.\n",
        "\n",
        "`Limitations`:\n",
        "\n",
        "-   Assumes overdispersion; may underperform for equidispersed or underdispersed data.\n",
        "-   Cannot directly address excess zeros beyond NB distribution’s capability.\n",
        "-   More computationally intensive than Quasi-Poisson due to full ML estimation.\n"
      ],
      "metadata": {
        "id": "4rkSRqUVrerH"
      }
    },
    {
      "cell_type": "markdown",
      "source": [
        "### Zero-Inflated Models\n",
        "\n",
        "Zero-inflated models are statistical models designed to analyze count data with an excess of zeroes. These models are particularly useful when a dataset has more zero counts than would be expected under traditional count models like `Poisson` or `Negative Binomial distributions`. They are commonly used in fields like ecology, healthcare, economics, and social sciences, where it’s common to observe many zero values alongside non-zero counts.\n",
        "\n",
        "In some datasets, zero counts occur so frequently that traditional count models (e.g., Poisson) fail to provide an accurate fit. Zero inflation can arise due to two types of zeroes:\n",
        "\n",
        "1.  `Structural Zeroes`: These occur because some units in the data have no chance of experiencing the event of interest. For example, in a survey on smoking habits, non-smokers will have a structural zero count for cigarette consumption.\n",
        "\n",
        "2.  `Sampling Zeroes`: These are regular zeroes that occur naturally in the data as part of the random process. For example, even smokers may occasionally have a zero count for the number of cigarettes smoked on a particular day.\n",
        "\n",
        "Zero-inflated models account for both types by combining two processes:\n",
        "\n",
        "-   A `binary model` (often logistic regression) that models the probability of a structural zero.\n",
        "\n",
        "-   A `count model` (often Poisson or Negative Binomial) for the non-zero counts.\n",
        "\n",
        "The two most common types of zero-inflated models are:\n",
        "\n",
        "-   `Zero-Inflated Poisson (ZIP`: Assumes that the non-zero counts follow a Poisson distribution. Used when data do not exhibit overdispersion (variance ≈ mean).\n",
        "\n",
        "-   `Zero-Inflated Negative Binomial (ZINB)`: Assumes that non-zero counts follow a Negative Binomial distribution. Used when data exhibit overdispersion (variance \\> mean).\n",
        "\n"
      ],
      "metadata": {
        "id": "fafmlniPrht4"
      }
    },
    {
      "cell_type": "markdown",
      "source": [
        "#### Zero-Inflated Poisson (ZIP)\n",
        "\n",
        "ZIP assumes data arise from two processes: a logistic/probit model for excess zeros ($\\pi = P(Y=0)$) extra) and a Poisson model for counts (including some zeros). The probability mass function is:\n",
        "\n",
        "$$\n",
        "P(Y=0) = \\pi + (1 - \\pi) e^{-\\mu}\n",
        "$$\n",
        "\n",
        "$$\n",
        "P(Y=y) = (1 - \\pi) \\frac{e^{-\\mu} \\mu^y}{y!}, \\quad y > 0\n",
        "$$\n",
        "\n",
        "Two linked models:\n",
        "\n",
        "-   Zero-inflation: $\\text{logit}(\\pi) = \\gamma_0 + \\gamma_1 z_1 + \\dots + \\gamma_q z_q$\n",
        "-   Count: $\\log(\\mu) = \\beta_0 + \\beta_1 x_1 + \\dots + \\beta_p x_p$\n",
        "\n",
        "Parameters are estimated via maximum likelihood or EM algorithm.\n",
        "\n",
        "`Key Features\"`\n",
        "\n",
        "-   Separates \"structural\" zeros (e.g., non-events) from \"sampling\" zeros.\n",
        "-   Predictors for zero and count components can differ.\n",
        "\n",
        "`Applications:`\n",
        "\n",
        "-   Healthcare (e.g., hospital visits, many zeros for non-patients), ecology (e.g., animal sightings).\n",
        "\n",
        "`Advantages:`\n",
        "\n",
        "-   Effectively models excess zeros, improving fit over standard Poisson.\n",
        "-   Interpretable: distinguishes at-risk vs. not-at-risk populations.\n",
        "\n",
        "`Limitations`:\n",
        "\n",
        "-   Assumes no overdispersion in the count part (Poisson assumption).\n",
        "-   Sensitive to model misspecification."
      ],
      "metadata": {
        "id": "ZKm5mhjUsBqk"
      }
    },
    {
      "cell_type": "markdown",
      "source": [
        "#### Zero-Inflated Negative Binomial (ZINB)\n",
        "\n",
        "ZINB extends ZIP by using a Negative Binomial for the count process to handle overdispersion. The probability mass function is:\n",
        "\n",
        "$$\n",
        "P(Y=0) = \\pi + (1 - \\pi) \\left(1 + \\alpha \\mu\\right)^{-1/\\alpha}\n",
        "$$\n",
        "\n",
        "$$\n",
        "P(Y=y) = (1 - \\pi) \\frac{\\Gamma(y + 1/\\alpha)}{y! \\Gamma(1/\\alpha)} \\left(1 + \\alpha \\mu\\right)^{-1/\\alpha} \\left(\\frac{\\alpha \\mu}{1 + \\alpha \\mu}\\right)^y, \\quad y > 0\n",
        "$$\n",
        "\n",
        "Models:\n",
        "\n",
        "-   Zero-inflation: $\\text{logit}(\\pi) = \\gamma_0 + \\gamma_1 z_1 + \\dots$\n",
        "\n",
        "-   Count: $\\log(\\mu) = \\beta_0 + \\beta_1 x_1 + \\dots$, with dispersion $\\alpha$.\n",
        "\n",
        "Estimated via maximum likelihood.\n",
        "\n",
        "`Key Features:`\n",
        "\n",
        "-   Combines zero-inflation with overdispersion modeling.\n",
        "-   More flexible than ZIP for variable count data.\n",
        "\n",
        "`Applications:`\n",
        "\n",
        "-   Insurance claims (many zeros, variable positives), defect counts in manufacturing.\n",
        "\n",
        "`Advantages`:\n",
        "\n",
        "-   Handles both excess zeros and overdispersion.\n",
        "-   Suitable for highly variable data with zeros.\n",
        "\n",
        "`Limitations:`\n",
        "\n",
        "-   More parameters increase risk of overfitting or convergence issues.\n",
        "-   Computationally intensive."
      ],
      "metadata": {
        "id": "XLdE3QyfrqB_"
      }
    },
    {
      "cell_type": "markdown",
      "source": [
        "#### Hurdle Model\n",
        "\n",
        "Hurdle models are used for count data with excess zeros, where the zeros arise from a different process than the positive counts. They are particularly useful when the zero counts represent a distinct \"hurdle\" that must be crossed to observe positive counts. The hurdle model is specifically designed to address data where zeros are more frequent than would be expected from standard count models, like Poisson or negative binomial models. This makes it useful in contexts like healthcare (e.g., number of hospital visits), economics (e.g., number of purchases), or environmental science (e.g., number of rare species observed).\n",
        "\n",
        "Hurdle models separate zeros and positives explicitly: a binary model (e.g., logistic) for $P(Y>0) = 1 - \\pi$, and a zero-truncated count model (e.g., Poisson or NB) for $Y | Y>0$. For a Poisson hurdle:\n",
        "\n",
        "$$\n",
        "P(Y=0) = \\pi\n",
        "$$\n",
        "\n",
        "$$\n",
        "P(Y=y | y>0) = \\frac{e^{-\\mu} \\mu^y / y!}{1 - e^{-\\mu}}, \\quad y > 0\n",
        "$$\n",
        "\n",
        "Models:\n",
        "\n",
        "-   Hurdle: $\\text{logit}(\\pi) = \\gamma_0 + \\gamma_1 z_1 + \\dots$\n",
        "-   Count: $\\log(\\mu) = \\beta_0 + \\beta_1 x_1 + \\dots$\n",
        "\n",
        "Estimated in two stages or jointly via maximum likelihood.\n",
        "\n",
        "`Key Features:`\n",
        "\n",
        "-   All zeros from one process; positives from a zero-truncated count distribution.\n",
        "-   Can use Poisson or NB for counts.\n",
        "\n",
        "`Applications`:\n",
        "\n",
        "-   Consumer behavior (e.g., buy or not, then how many), fishing catches (catch or not, then amount).\n",
        "\n",
        "`Advantages:`\n",
        "\n",
        "-   Intuitive for \"hurdle\" processes (e.g., decision to participate, then intensity).\n",
        "-   Handles excess zeros and overdispersion (with NB).\n",
        "\n",
        "`Limitations`:\n",
        "\n",
        "-   Assumes all zeros are \"true\" zeros, not distinguishing structural vs. sampling zeros.\n",
        "-   May not fit if zeros include count-process zeros."
      ],
      "metadata": {
        "id": "1iEZEK2Frzri"
      }
    },
    {
      "cell_type": "markdown",
      "source": [
        "Below is a table summarizing the differences between Quasi-Poisson Regression, Negative Binomial Regression, Zero-Inflated Poisson (ZIP), Zero-Inflated Negative Binomial (ZINB), and Hurdle Models based on their key characteristics, mathematical structure, handling of overdispersion and excess zeros, and other relevant aspects.\n",
        "\n",
        "| **Model** | **Overdispersion?** | **Excess Zeros?** | **Mean Model** | **Variance Model** | **Zero Structure** | **Key Idea** |\n",
        "|----------|----------|----------|----------|----------|---------------|----------|\n",
        "| **Quasi-Poisson** | Yes ($\\phi$) | No | $\\log(\\mu) = \\mathbf{X}\\beta$ | $\\text{Var}(Y) = \\phi \\mu$ | All zeros from Poisson-like process | Adjusts variance via dispersion parameter; simple but no zero modeling |\n",
        "| **Negative Binomial (NB)** | Yes ($\\alpha$) | No | $\\log(\\mu) = \\mathbf{X}\\beta$ | $\\text{Var}(Y) = \\mu + \\alpha \\mu^2$ | Zeros from NB distribution only | Full likelihood model for overdispersion using mixing |\n",
        "| **ZIP** | No | Yes ($\\pi$) | $\\log(\\mu) = \\mathbf{X}\\beta$, $\\text{logit}(\\pi) = \\mathbf{Z}\\gamma$ | $\\text{Var}(Y) = \\mu$ (for count part) | $P(Y=0) = \\pi + (1-\\pi)e^{-\\mu}$ — mix of structural and sampling zeros | Two-part: some zeros are \"structural\", others from Poisson |\n",
        "| **ZINB** | Yes ($\\alpha$) | Yes ($\\pi$) | $\\log(\\mu) = \\mathbf{X}\\beta$, $\\text{logit}(\\pi) = \\mathbf{Z}\\gamma$ | $\\text{Var}(Y) = \\mu + \\alpha \\mu^2$ | $P(Y=0) = \\pi + (1-\\pi)(1+\\alpha\\mu)^{-1/\\alpha}$ — structural + NB zeros | ZIP + overdispersion: most flexible for excess zeros and variability |\n",
        "| **Hurdle Model** | Yes (if NB used) | Yes ($\\pi$) | $\\log(\\mu) = \\mathbf{X}\\beta$, $\\text{logit}(\\pi) = \\mathbf{Z}\\gamma$ | $\\mu$ (Poisson) or $\\mu + \\alpha \\mu^2$ (NB) | $P(Y=0) = \\pi$, $P(Y=y \\mid y>0)$ from zero-truncated count model | Two-stage: 1) \"hurdle\" (zero vs. positive), 2) truncated count model |\n"
      ],
      "metadata": {
        "id": "26RDYVrBsHVp"
      }
    },
    {
      "cell_type": "markdown",
      "source": [
        "### When to Use Which Model?\n",
        "\n",
        "| **Situation** | **Recommended Model** |\n",
        "|--------------------------------------|----------------------------------|\n",
        "| Overdispersion only | **Quasi-Poisson** or **NB** |\n",
        "| Excess zeros only | **ZIP** |\n",
        "| Excess zeros + overdispersion | **ZINB** or **Hurdle (NB)** |\n",
        "| Clear two-stage process (e.g., decision then amount) | **Hurdle** |\n",
        "| Simple, fast analysis | **Quasi-Poisson** |\n",
        "| Formal inference, model comparison | **NB, ZINB, or Hurdle** (use AIC/BIC) |"
      ],
      "metadata": {
        "id": "so-3NE4ssI_j"
      }
    },
    {
      "cell_type": "markdown",
      "source": [
        "### Key Notes:\n",
        "\n",
        "-   **Overdispersion**: Variance > Mean\n",
        "-   **Excess Zeros**: More zeros than expected under Poisson/NB\n",
        "-   $\\pi$: Probability of structural/extra zero\n",
        "-   $\\mu$: Mean of the count process\n",
        "-   $\\alpha$: Dispersion parameter (NB): higher = more overdispersion\n",
        "-   $\\phi$: Scaling factor in variance (Quasi-Poisson)\n"
      ],
      "metadata": {
        "id": "tdW1j4AKsT1q"
      }
    },
    {
      "cell_type": "markdown",
      "source": [
        "## Modeling Count Data  With Overdispersion in R\n",
        "\n",
        "This notebook demonstrates how to handle overdispersion in count data using various regression models in R. We will use the `NMES1988` dataset from the `AER` package, which contains information on physician office visits among Medicare beneficiaries. The primary focus will be on modeling the number of visits while addressing overdispersion and excess zeros using different approaches, including Poisson regression, Negative Binomial regression, Zero-Inflated models, and Hurdle models."
      ],
      "metadata": {
        "id": "bmbKf9dSsbKx"
      }
    },
    {
      "cell_type": "markdown",
      "source": [
        "### Install rpy2\n",
        "\n",
        "{rpy2} is a Python package that provides an interface to the R programming language, allowing Python users to run R code, call R functions, and manipulate R objects directly from Python. It enables seamless integration between Python and R, leveraging R's statistical and graphical capabilities while using Python's flexibility. The package supports passing data between the two languages and is widely used for statistical analysis, data visualization, and machine learning tasks that benefit from R's specialized libraries."
      ],
      "metadata": {
        "id": "GwxaNxX_8Nka"
      }
    },
    {
      "cell_type": "code",
      "source": [
        "!pip uninstall rpy2 -y\n",
        "!pip install rpy2==3.5.1\n",
        "%load_ext rpy2.ipython"
      ],
      "metadata": {
        "id": "EberlArB8RiA",
        "colab": {
          "base_uri": "https://localhost:8080/"
        },
        "outputId": "39e97db7-ca20-45ac-e88d-df449b2e4e7d"
      },
      "execution_count": 1,
      "outputs": [
        {
          "output_type": "stream",
          "name": "stdout",
          "text": [
            "Found existing installation: rpy2 3.5.17\n",
            "Uninstalling rpy2-3.5.17:\n",
            "  Successfully uninstalled rpy2-3.5.17\n",
            "Collecting rpy2==3.5.1\n",
            "  Downloading rpy2-3.5.1.tar.gz (201 kB)\n",
            "\u001b[2K     \u001b[90m━━━━━━━━━━━━━━━━━━━━━━━━━━━━━━━━━━━━━━━\u001b[0m \u001b[32m201.7/201.7 kB\u001b[0m \u001b[31m3.5 MB/s\u001b[0m eta \u001b[36m0:00:00\u001b[0m\n",
            "\u001b[?25h  Preparing metadata (setup.py) ... \u001b[?25l\u001b[?25hdone\n",
            "Requirement already satisfied: cffi>=1.10.0 in /usr/local/lib/python3.11/dist-packages (from rpy2==3.5.1) (1.17.1)\n",
            "Requirement already satisfied: jinja2 in /usr/local/lib/python3.11/dist-packages (from rpy2==3.5.1) (3.1.6)\n",
            "Requirement already satisfied: pytz in /usr/local/lib/python3.11/dist-packages (from rpy2==3.5.1) (2025.2)\n",
            "Requirement already satisfied: tzlocal in /usr/local/lib/python3.11/dist-packages (from rpy2==3.5.1) (5.3.1)\n",
            "Requirement already satisfied: pycparser in /usr/local/lib/python3.11/dist-packages (from cffi>=1.10.0->rpy2==3.5.1) (2.22)\n",
            "Requirement already satisfied: MarkupSafe>=2.0 in /usr/local/lib/python3.11/dist-packages (from jinja2->rpy2==3.5.1) (3.0.2)\n",
            "Building wheels for collected packages: rpy2\n",
            "  Building wheel for rpy2 (setup.py) ... \u001b[?25l\u001b[?25hdone\n",
            "  Created wheel for rpy2: filename=rpy2-3.5.1-cp311-cp311-linux_x86_64.whl size=314979 sha256=6031181069c574110ae2101ac3371bed75a27eed2cfe77e95252ccdd81a7ffc0\n",
            "  Stored in directory: /root/.cache/pip/wheels/e9/55/d1/47be85a5f3f1e1f4d1e91cb5e3a4dcb40dd72147f184c5a5ef\n",
            "Successfully built rpy2\n",
            "Installing collected packages: rpy2\n",
            "Successfully installed rpy2-3.5.1\n"
          ]
        }
      ]
    },
    {
      "cell_type": "markdown",
      "source": [
        "### Mount Google Drive"
      ],
      "metadata": {
        "id": "914rwUP_8UNK"
      }
    },
    {
      "cell_type": "code",
      "source": [
        "from google.colab import drive\n",
        "drive.mount('/content/drive')"
      ],
      "metadata": {
        "colab": {
          "base_uri": "https://localhost:8080/"
        },
        "id": "L_nRDgt78RjZ",
        "outputId": "c1b9d447-530a-4b89-d87f-4fae0a7d4c6d"
      },
      "execution_count": 2,
      "outputs": [
        {
          "output_type": "stream",
          "name": "stdout",
          "text": [
            "Mounted at /content/drive\n"
          ]
        }
      ]
    },
    {
      "cell_type": "markdown",
      "source": [
        "### Check and Install Required R Packages\n",
        "\n",
        "\n"
      ],
      "metadata": {
        "id": "oCMXw0bY8cE3"
      }
    },
    {
      "cell_type": "code",
      "source": [
        "%%R\n",
        "packages <- c('tidyverse',\n",
        "     'plyr',\n",
        "\t  'DataExplorer',\n",
        "\t\t 'dlookr',\n",
        "\t\t 'rstatix',\n",
        "\t\t 'gtsummary',\n",
        "\t\t 'performance',\n",
        "\t\t 'jtools',\n",
        "\t\t 'margins',\n",
        "\t\t 'marginaleffects',\n",
        "\t\t 'ggeffects',\n",
        "\t\t 'patchwork',\n",
        "\t\t 'Metrics',\n",
        "\t\t 'ggpmisc',\n",
        "\t\t 'epiDisplay',\n",
        "\t\t 'sandwich',\n",
        "\t   \"AER\",\n",
        "\t   \"VGAM\",\n",
        "\t   \"MASS\",\n",
        "\t   \"pscl\",\n",
        "\t  \"rsq\"\n",
        "\t\t  )"
      ],
      "metadata": {
        "id": "U94Ztyjt8fMA"
      },
      "execution_count": 3,
      "outputs": []
    },
    {
      "cell_type": "code",
      "source": [
        "%%R\n",
        "# Install missing packages\n",
        "new.packages <- packages[!(pkg %in% installed.packages(lib='drive/My Drive/R/')[,\"Package\"])]\n",
        "if(length(new.packages)) install.packages(new.packages, lib='drive/My Drive/R/')"
      ],
      "metadata": {
        "id": "8QczLPB6hm0t"
      },
      "execution_count": null,
      "outputs": []
    },
    {
      "cell_type": "code",
      "source": [
        "%%R\n",
        "# set library path\n",
        ".libPaths('drive/My Drive/R')\n",
        "# Verify installation\n",
        "cat(\"Installed packages:\\n\")\n",
        "print(sapply(packages, requireNamespace, quietly = TRUE))"
      ],
      "metadata": {
        "colab": {
          "base_uri": "https://localhost:8080/"
        },
        "id": "3rVHwdrBhm6d",
        "outputId": "4dc3623a-23bf-4dd9-965b-e14739ae02a5"
      },
      "execution_count": 6,
      "outputs": [
        {
          "output_type": "stream",
          "name": "stdout",
          "text": [
            "Installed packages:\n",
            "      tidyverse            plyr    DataExplorer          dlookr         rstatix \n",
            "           TRUE            TRUE            TRUE            TRUE            TRUE \n",
            "      gtsummary     performance          jtools         margins marginaleffects \n",
            "           TRUE            TRUE            TRUE            TRUE            TRUE \n",
            "      ggeffects       patchwork         Metrics         ggpmisc      epiDisplay \n",
            "           TRUE            TRUE            TRUE            TRUE            TRUE \n",
            "       sandwich             AER            VGAM            MASS            pscl \n",
            "           TRUE            TRUE            TRUE            TRUE            TRUE \n",
            "            rsq \n",
            "           TRUE \n"
          ]
        }
      ]
    },
    {
      "cell_type": "markdown",
      "source": [
        "### Load R Packages\n"
      ],
      "metadata": {
        "id": "jIMhK0jv7tjQ"
      }
    },
    {
      "cell_type": "code",
      "source": [
        "%%R\n",
        "# set library path\n",
        ".libPaths('drive/My Drive/R')\n",
        "# Load packages with suppressed messages\n",
        "invisible(lapply(packages, function(pkg) {\n",
        "  suppressPackageStartupMessages(library(pkg, character.only = TRUE))\n",
        "}))\n",
        "# Check loaded packages\n",
        "cat(\"Successfully loaded packages:\\n\")\n",
        "print(search()[grepl(\"package:\", search())])# Check loaded packages"
      ],
      "metadata": {
        "id": "LLmt5S6g76x3",
        "colab": {
          "base_uri": "https://localhost:8080/"
        },
        "outputId": "fdc8feaf-1a70-4359-862f-539c0f2f353b"
      },
      "execution_count": 7,
      "outputs": [
        {
          "output_type": "stream",
          "name": "stdout",
          "text": [
            "Successfully loaded packages:\n",
            " [1] \"package:rsq\"             \"package:pscl\"           \n",
            " [3] \"package:VGAM\"            \"package:splines\"        \n",
            " [5] \"package:stats4\"          \"package:AER\"            \n",
            " [7] \"package:lmtest\"          \"package:zoo\"            \n",
            " [9] \"package:car\"             \"package:carData\"        \n",
            "[11] \"package:sandwich\"        \"package:epiDisplay\"     \n",
            "[13] \"package:nnet\"            \"package:MASS\"           \n",
            "[15] \"package:survival\"        \"package:foreign\"        \n",
            "[17] \"package:ggpmisc\"         \"package:ggpp\"           \n",
            "[19] \"package:Metrics\"         \"package:patchwork\"      \n",
            "[21] \"package:ggeffects\"       \"package:marginaleffects\"\n",
            "[23] \"package:margins\"         \"package:jtools\"         \n",
            "[25] \"package:performance\"     \"package:gtsummary\"      \n",
            "[27] \"package:rstatix\"         \"package:dlookr\"         \n",
            "[29] \"package:DataExplorer\"    \"package:plyr\"           \n",
            "[31] \"package:lubridate\"       \"package:forcats\"        \n",
            "[33] \"package:stringr\"         \"package:dplyr\"          \n",
            "[35] \"package:purrr\"           \"package:readr\"          \n",
            "[37] \"package:tidyr\"           \"package:tibble\"         \n",
            "[39] \"package:ggplot2\"         \"package:tidyverse\"      \n",
            "[41] \"package:tools\"           \"package:stats\"          \n",
            "[43] \"package:graphics\"        \"package:grDevices\"      \n",
            "[45] \"package:utils\"           \"package:datasets\"       \n",
            "[47] \"package:methods\"         \"package:base\"           \n"
          ]
        }
      ]
    },
    {
      "cell_type": "markdown",
      "source": [
        "### Data\n",
        "\n",
        "The physician office visits data set (**NMES1988**) from [AER](https://cran.r-project.org/web/packages/AER/index.html) package represents a sample of 4,406 individuals aged 66 and over who were covered by Medicare in 1988. One of the variables in the data is the number of physician `office visits`. If we want to create a model for the number of visits using some of the other variables in the dataset, we need to start by loading the data. You may also need to install the AER package.\n",
        "\n",
        "A data frame containing 4,406 observations on 19 variables. We will use following variables:\n",
        "\n",
        "-   visits- Number of physician office visits.\n",
        "-   hospital - Number of hospital stays.\n",
        "-   health - Factor indicating self-perceived health status, levels are \"poor\", \"average\" (reference category), \"excellent\".\n",
        "-   chronic - Number of chronic conditions.\n",
        "-   age - Age in years (divided by 10).\n",
        "-   afam - Factor. Is the individual African-American?\n",
        "-   gender - Factor indicating gender.\n",
        "-   married- Factor. is the individual married?\n",
        "-   school - Number of years of education.\n",
        "-   income- Family income in USD 10,000.\n",
        "-   employed - Factor. Is the individual employed?\n",
        "-   insurance- Factor. Is the individual covered by private insurance?\n",
        "-   medicaid Factor - Is the individual covered by Medicaid?"
      ],
      "metadata": {
        "id": "TVlnCG8O8sWg"
      }
    },
    {
      "cell_type": "code",
      "source": [
        "%%R\n",
        "# load the data\n",
        "data(\"NMES1988\", package = \"AER\")\n",
        "# select variables\n",
        "df<-NMES1988 |>\n",
        "  dplyr::select(visits,\n",
        "                hospital,\n",
        "                health,\n",
        "                chronic,\n",
        "                age,\n",
        "                afam,\n",
        "                gender,\n",
        "                married,\n",
        "                school,\n",
        "                income,\n",
        "                employed,\n",
        "                insurance,\n",
        "                medicaid)  |>\n",
        "  glimpse()"
      ],
      "metadata": {
        "colab": {
          "base_uri": "https://localhost:8080/"
        },
        "id": "aSEOXseH8tBx",
        "outputId": "7dca4601-e76a-455f-d96f-7e37e32b77d4"
      },
      "execution_count": 8,
      "outputs": [
        {
          "output_type": "stream",
          "name": "stdout",
          "text": [
            "Rows: 4,406\n",
            "Columns: 13\n",
            "$ visits    <int> 5, 1, 13, 16, 3, 17, 9, 3, 1, 0, 0, 44, 2, 1, 19, 19, 0, 3, …\n",
            "$ hospital  <int> 1, 0, 3, 1, 0, 0, 0, 0, 0, 0, 0, 1, 0, 0, 1, 0, 0, 0, 0, 0, …\n",
            "$ health    <fct> average, average, poor, poor, average, poor, average, averag…\n",
            "$ chronic   <int> 2, 2, 4, 2, 2, 5, 0, 0, 0, 0, 1, 5, 1, 1, 1, 0, 1, 2, 3, 4, …\n",
            "$ age       <dbl> 6.9, 7.4, 6.6, 7.6, 7.9, 6.6, 7.5, 8.7, 7.3, 7.8, 6.6, 6.9, …\n",
            "$ afam      <fct> yes, no, yes, no, no, no, no, no, no, no, no, no, no, no, no…\n",
            "$ gender    <fct> male, female, female, male, female, female, female, female, …\n",
            "$ married   <fct> yes, yes, no, yes, yes, no, no, no, no, no, yes, yes, no, no…\n",
            "$ school    <int> 6, 10, 10, 3, 6, 7, 8, 8, 8, 8, 8, 15, 8, 8, 12, 8, 8, 8, 10…\n",
            "$ income    <dbl> 2.881000, 2.747800, 0.653200, 0.658800, 0.658800, 0.330100, …\n",
            "$ employed  <fct> yes, no, no, no, no, no, no, no, no, no, yes, no, no, no, no…\n",
            "$ insurance <fct> yes, yes, no, yes, yes, no, yes, yes, yes, yes, yes, yes, no…\n",
            "$ medicaid  <fct> no, no, yes, no, no, yes, no, no, no, no, no, no, no, yes, n…\n"
          ]
        }
      ]
    },
    {
      "cell_type": "markdown",
      "source": [
        "### Data Description"
      ],
      "metadata": {
        "id": "v7Z-lmLuyHie"
      }
    },
    {
      "cell_type": "code",
      "source": [
        "%%R\n",
        "df |>\n",
        "  dplyr::summarise(across(visits,\n",
        "                        ~ sum(is.na(.x) | .x == 0)))"
      ],
      "metadata": {
        "colab": {
          "base_uri": "https://localhost:8080/"
        },
        "id": "ldc_fCkKyISQ",
        "outputId": "dab53a17-4a1d-46fa-a4bc-5c7e36e2f639"
      },
      "execution_count": 10,
      "outputs": [
        {
          "output_type": "stream",
          "name": "stdout",
          "text": [
            "  visits\n",
            "1    683\n"
          ]
        }
      ]
    },
    {
      "cell_type": "markdown",
      "source": [
        "The NMES1988 dataset includes several variables. The main variable of interest for the ZIP model is `visits`- the number of physician office visits, which is a count variable and has many zeroes (n = 683), making it suitable for zero-inflated modeling."
      ],
      "metadata": {
        "id": "wDF8bo8MyToi"
      }
    },
    {
      "cell_type": "code",
      "source": [
        "%%R -w 500 -h 450 -u px\n",
        "plot(table(df$visits))"
      ],
      "metadata": {
        "colab": {
          "base_uri": "https://localhost:8080/",
          "height": 467
        },
        "id": "CBZwVXvb2q_E",
        "outputId": "a2e86df6-f4ac-4724-ef60-e5706ed98a6b"
      },
      "execution_count": 11,
      "outputs": [
        {
          "output_type": "display_data",
          "data": {
            "image/png": "[encoded data removed]"
          },
          "metadata": {}
        }
      ]
    },
    {
      "cell_type": "markdown",
      "source": [
        "### Descriptive Statistics"
      ],
      "metadata": {
        "id": "w5-pUqCG24QQ"
      }
    },
    {
      "cell_type": "markdown",
      "source": [
        "#### Gender"
      ],
      "metadata": {
        "id": "eScDHS3b262r"
      }
    },
    {
      "cell_type": "code",
      "source": [
        "%%R\n",
        "# Standard error\n",
        "SE <- function(x){\n",
        "  sd(x)/sqrt(length(x))\n",
        "}\n",
        "\n",
        "# Get summary statistics\n",
        "summarise_gender<-plyr::ddply(df,~ gender, summarise,\n",
        "                Mean= round(mean(visits), 2),\n",
        "                Median=round (median(visits), 2),\n",
        "                Min= round (min(visits),2),\n",
        "                Max= round (max(visits),2),\n",
        "                SD= round(sd(visits), 2),\n",
        "                SE= round (SE(visits), 3))\n",
        "\n",
        "# Barplot\n",
        "ggplot(summarise_gender, aes(x=gender, y=Mean)) +\n",
        "  geom_bar(stat=\"identity\", position=position_dodge(),width=0.5, fill=\"gray\") +\n",
        "  geom_errorbar(aes(ymin=Mean-SE, ymax=Mean+SE), width=.2,\n",
        "   position=position_dodge(.9))+\n",
        "  # add y-axis title and x-axis title leave blank\n",
        "  labs(y=\"No. of physician office visits\", x = \"\")+\n",
        "  # add plot title\n",
        "  ggtitle(\"Mean ± SE \")+\n",
        "  coord_flip()+\n",
        "  # customize plot themes\n",
        "  theme(\n",
        "        axis.line = element_line(colour = \"gray\"),\n",
        "        # plot title position at center\n",
        "        plot.title = element_text(hjust = 0.5),\n",
        "        # axis title font size\n",
        "        axis.title.x = element_text(size = 14),\n",
        "        # X and  axis font size\n",
        "        axis.text.y=element_text(size=12,vjust = 0.5, hjust=0.5, colour='black'),\n",
        "        axis.text.x = element_text(size=12))"
      ],
      "metadata": {
        "colab": {
          "base_uri": "https://localhost:8080/",
          "height": 497
        },
        "id": "O747pwo525BH",
        "outputId": "64a98320-3af0-4f9e-c26a-8c123aed2960"
      },
      "execution_count": 12,
      "outputs": [
        {
          "output_type": "display_data",
          "data": {
            "image/png": "[encoded data removed]"
          },
          "metadata": {}
        }
      ]
    },
    {
      "cell_type": "markdown",
      "source": [
        "#### African-American"
      ],
      "metadata": {
        "id": "tT69N3VP2_dK"
      }
    },
    {
      "cell_type": "code",
      "source": [
        "%%R\n",
        "# Get summary statistics\n",
        "summarise_afam<-plyr::ddply(df,~ afam, summarise,\n",
        "                Mean= round(mean(visits), 2),\n",
        "                Median=round (median(visits), 2),\n",
        "                Min= round (min(visits),2),\n",
        "                Max= round (max(visits),2),\n",
        "                SD= round(sd(visits), 2),\n",
        "                SE= round (SE(visits), 3))\n",
        "# Barplot\n",
        "ggplot(summarise_afam, aes(x=afam, y=Mean)) +\n",
        "  geom_bar(stat=\"identity\", position=position_dodge(),width=0.5, fill=\"gray\") +\n",
        "  geom_errorbar(aes(ymin=Mean-SE, ymax=Mean+SE), width=.2,\n",
        "   position=position_dodge(.9))+\n",
        "  # add y-axis title and x-axis title leave blank\n",
        "  labs(y=\"No. of physician office visits\", x = \"\")+\n",
        "  # add plot title\n",
        "  ggtitle(\"Mean ± SE\")+\n",
        "  coord_flip()+\n",
        "  # customize plot themes\n",
        "  theme(\n",
        "        axis.line = element_line(colour = \"gray\"),\n",
        "        # plot title position at center\n",
        "        plot.title = element_text(hjust = 0.5),\n",
        "        # axis title font size\n",
        "        axis.title.x = element_text(size = 14),\n",
        "        # X and  axis font size\n",
        "        axis.text.y=element_text(size=12,vjust = 0.5, hjust=0.5, colour='black'),\n",
        "        axis.text.x = element_text(size=12))"
      ],
      "metadata": {
        "colab": {
          "base_uri": "https://localhost:8080/",
          "height": 497
        },
        "id": "GhU_bWrS2_mn",
        "outputId": "2b179a58-8e25-4791-cfdd-f31e72ae4008"
      },
      "execution_count": 13,
      "outputs": [
        {
          "output_type": "display_data",
          "data": {
            "image/png": "[encoded data removed]"
          },
          "metadata": {}
        }
      ]
    },
    {
      "cell_type": "markdown",
      "source": [
        "#### Self-perceived health status"
      ],
      "metadata": {
        "id": "M7491kpG3IIk"
      }
    },
    {
      "cell_type": "code",
      "source": [
        "%%R\n",
        "# Get summary statistics\n",
        "summarise_health<-plyr::ddply(df,~ health, summarise,\n",
        "                Mean= round(mean(visits), 2),\n",
        "                Median=round (median(visits), 2),\n",
        "                Min= round (min(visits),2),\n",
        "                Max= round (max(visits),2),\n",
        "                SD= round(sd(visits), 2),\n",
        "                SE= round (SE(visits), 3))\n",
        "# Barplot\n",
        "ggplot(summarise_health, aes(x=health, y=Mean)) +\n",
        "  geom_bar(stat=\"identity\", position=position_dodge(),width=0.5, fill=\"gray\") +\n",
        "  geom_errorbar(aes(ymin=Mean-SE, ymax=Mean+SE), width=.2,\n",
        "   position=position_dodge(.9))+\n",
        "  # add y-axis title and x-axis title leave blank\n",
        "  labs(y=\"No. of physician office visits\", x = \"\")+\n",
        "  # add plot title\n",
        "  ggtitle(\"Mean ± SE\")+\n",
        "  coord_flip()+\n",
        "  # customize plot themes\n",
        "  theme(\n",
        "        axis.line = element_line(colour = \"gray\"),\n",
        "        # plot title position at center\n",
        "        plot.title = element_text(hjust = 0.5),\n",
        "        # axis title font size\n",
        "        axis.title.x = element_text(size = 14),\n",
        "        # X and  axis font size\n",
        "        axis.text.y=element_text(size=12,vjust = 0.5, hjust=0.5, colour='black'),\n",
        "        axis.text.x = element_text(size=12))"
      ],
      "metadata": {
        "colab": {
          "base_uri": "https://localhost:8080/",
          "height": 497
        },
        "id": "pz214yzO3IhW",
        "outputId": "4916ed22-560d-4504-e1e2-42d4188fc087"
      },
      "execution_count": 14,
      "outputs": [
        {
          "output_type": "display_data",
          "data": {
            "image/png": "[encoded data removed]"
          },
          "metadata": {}
        }
      ]
    },
    {
      "cell_type": "markdown",
      "source": [
        "### Data Processing"
      ],
      "metadata": {
        "id": "Ns20fytL3StA"
      }
    },
    {
      "cell_type": "code",
      "source": [
        "%%R\n",
        "# Convert categorical variables to factors\n",
        "df$afam     <- as.factor(df$afam)\n",
        "df$gender   <- as.factor(df$gender)\n",
        "df$health   <- as.factor(df$health)\n",
        "df$married  <- as.factor(df$married)\n",
        "df$employed <- as.factor(df$employed)\n",
        "df$insurance <- as.factor(df$insurance)\n",
        "df$medicaid <- as.factor(df$medicaid)"
      ],
      "metadata": {
        "id": "qK9DwLoo3V72"
      },
      "execution_count": 15,
      "outputs": []
    },
    {
      "cell_type": "code",
      "source": [
        "%%R\n",
        "# Split data by gender and afam with fixed proportion ----------------------\n",
        "tr_prop <- 0.70\n",
        "train <- ddply(df, .(gender, afam), function(sub) {\n",
        "  set.seed(101)\n",
        "  sub[sample(1:nrow(sub), size = round(nrow(sub) * tr_prop)), ]\n",
        "})\n",
        "\n",
        "test <- df[!(rownames(df) %in% rownames(train)), ]\n",
        "\n",
        "# Ensure row names don't interfere\n",
        "rownames(train) <- NULL\n",
        "rownames(test) <- NULL"
      ],
      "metadata": {
        "id": "X8RqEPkb3YL8"
      },
      "execution_count": 16,
      "outputs": []
    },
    {
      "cell_type": "markdown",
      "source": [
        "### Check Mean and Variance\n",
        "\n",
        "To check for **overdispersion** or **underdispersion** in count data, you can compare the **variance** and **mean** of the response variable (i.e., the count data). Here's how to check for overdispersion and underdispersion:\n",
        "\n",
        "-   **Poisson Distribution Assumption**: In a standard Poisson model, the mean and variance of the count variable are equal. That is:\n",
        "\n",
        "    $$ E(Y) = \\text{mean} = \\lambda, \\quad \\text{Var}(Y) = \\lambda $$\n",
        "\n",
        "-   **Overdispersion**: Occurs when the variance is greater than the mean: $$ \\text{Var}(Y) > E(Y) $$\n",
        "\n",
        "-   **Underdispersion**: Occurs when the variance is smaller than the mean: $$ text{Var}(Y) < E(Y) $$"
      ],
      "metadata": {
        "id": "WpPJatAr8yD8"
      }
    },
    {
      "cell_type": "code",
      "source": [
        "%%R\n",
        "# Check Mean and Variance of \"visits\"\n",
        "cat(\"Mean of visits (train):\", mean(train$visits), \"\\n\")\n",
        "cat(\"Variance of visits (train):\", var(train$visits), \"\\n\")\n",
        "\n",
        "if (var(train$visits) > mean(train$visits)) {\n",
        "  cat(\">> Overdispersion detected (var > mean)\\n\")\n",
        "}"
      ],
      "metadata": {
        "colab": {
          "base_uri": "https://localhost:8080/"
        },
        "id": "RDGxuw2t81NN",
        "outputId": "b4fcef9a-f732-4fcc-ff5a-566a98d34508"
      },
      "execution_count": 17,
      "outputs": [
        {
          "output_type": "stream",
          "name": "stdout",
          "text": [
            "Mean of visits (train): 5.691734 \n",
            "Variance of visits (train): 41.65689 \n",
            ">> Overdispersion detected (var > mean)\n"
          ]
        }
      ]
    },
    {
      "cell_type": "markdown",
      "source": [
        "### Fit a Poisson Regression Model"
      ],
      "metadata": {
        "id": "XZvhmbjk3hgE"
      }
    },
    {
      "cell_type": "code",
      "source": [
        "%%R\n",
        "# Fit Poisson Model\n",
        "pois_mod <- glm(visits ~ hospital + health + chronic + age + afam + gender +\n",
        "                  married + school + income + employed + insurance + medicaid,\n",
        "                family = poisson(link = \"log\"), data = train)\n",
        "\n",
        "summary(pois_mod)"
      ],
      "metadata": {
        "colab": {
          "base_uri": "https://localhost:8080/"
        },
        "id": "O1ga9A6m3iO2",
        "outputId": "3b793685-b657-4c97-a896-0c161bd5ed62"
      },
      "execution_count": 18,
      "outputs": [
        {
          "output_type": "stream",
          "name": "stdout",
          "text": [
            "\n",
            "Call:\n",
            "glm(formula = visits ~ hospital + health + chronic + age + afam + \n",
            "    gender + married + school + income + employed + insurance + \n",
            "    medicaid, family = poisson(link = \"log\"), data = train)\n",
            "\n",
            "Coefficients:\n",
            "                 Estimate Std. Error z value Pr(>|z|)    \n",
            "(Intercept)      1.343167   0.103206  13.014  < 2e-16 ***\n",
            "hospital         0.161210   0.007186  22.433  < 2e-16 ***\n",
            "healthpoor       0.202329   0.021629   9.354  < 2e-16 ***\n",
            "healthexcellent -0.420848   0.037248 -11.299  < 2e-16 ***\n",
            "chronic          0.146165   0.005727  25.521  < 2e-16 ***\n",
            "age             -0.046468   0.012722  -3.653  0.00026 ***\n",
            "afamyes         -0.072163   0.026634  -2.709  0.00674 ** \n",
            "gendermale      -0.120669   0.017448  -6.916 4.65e-12 ***\n",
            "marriedyes      -0.040514   0.017993  -2.252  0.02434 *  \n",
            "school           0.024514   0.002312  10.605  < 2e-16 ***\n",
            "income           0.001034   0.002822   0.366  0.71408    \n",
            "employedyes     -0.024014   0.027409  -0.876  0.38095    \n",
            "insuranceyes     0.272667   0.023539  11.584  < 2e-16 ***\n",
            "medicaidyes      0.287743   0.030172   9.537  < 2e-16 ***\n",
            "---\n",
            "Signif. codes:  0 ‘***’ 0.001 ‘**’ 0.01 ‘*’ 0.05 ‘.’ 0.1 ‘ ’ 1\n",
            "\n",
            "(Dispersion parameter for poisson family taken to be 1)\n",
            "\n",
            "    Null deviance: 18248  on 3084  degrees of freedom\n",
            "Residual deviance: 15645  on 3071  degrees of freedom\n",
            "AIC: 24586\n",
            "\n",
            "Number of Fisher Scoring iterations: 5\n",
            "\n"
          ]
        }
      ]
    },
    {
      "cell_type": "code",
      "source": [
        "%%R\n",
        "# Check Overdispersion\n",
        "dispersion <- sum(residuals(pois_mod, type = \"pearson\")^2) / pois_mod$df.residual\n",
        "cat(\"Pearson Chi-Squared / DF (Overdispersion):\", dispersion, \"\\n\")\n",
        "if (dispersion > 1.5) cat(\">> Significant overdispersion\\n\")"
      ],
      "metadata": {
        "colab": {
          "base_uri": "https://localhost:8080/"
        },
        "id": "7b1m-PqA3rru",
        "outputId": "4ff2b8d0-07f6-4faf-895a-d64779fc5e2e"
      },
      "execution_count": 20,
      "outputs": [
        {
          "output_type": "stream",
          "name": "stdout",
          "text": [
            "Pearson Chi-Squared / DF (Overdispersion): 6.296201 \n",
            ">> Significant overdispersion\n"
          ]
        }
      ]
    },
    {
      "cell_type": "code",
      "source": [
        "%%R\n",
        "# Check Zero Inflation\n",
        "if (require(performance)) {\n",
        "  zero_test_pois <- check_zeroinflation(pois_mod)\n",
        "  print(zero_test_pois)\n",
        "}\n"
      ],
      "metadata": {
        "colab": {
          "base_uri": "https://localhost:8080/"
        },
        "id": "TqFbn4IO3zJb",
        "outputId": "832f4a32-b975-4c81-be0a-194d482bdbb1"
      },
      "execution_count": 22,
      "outputs": [
        {
          "output_type": "stream",
          "name": "stdout",
          "text": [
            "# Check for zero-inflation\n",
            "\n",
            "   Observed zeros: 488\n",
            "  Predicted zeros: 37\n",
            "            Ratio: 0.08\n",
            "\n"
          ]
        },
        {
          "output_type": "stream",
          "name": "stderr",
          "text": [
            "WARNING:rpy2.rinterface_lib.callbacks:R[write to console]: Model is underfitting zeros (probable zero-inflation).\n",
            "\n"
          ]
        }
      ]
    },
    {
      "cell_type": "markdown",
      "source": [
        "### Fit Quasi Poisson Model\n",
        "\n",
        "Fitting a Quasi-Poisson model is useful when we have overdispersion in the data, as it allows us to model the variance separately from the mean. The Quasi-Poisson model does not assume that the variance equals the mean, but rather allows for a dispersion parameter to adjust the variance. We will fit a Quasi-Poisson model to the training data and summarize the results. Note that AIC is not available for Quasi-Poisson models due to the quasi-likelihood estimation method."
      ],
      "metadata": {
        "id": "4Omwkarr3_Mk"
      }
    },
    {
      "cell_type": "code",
      "source": [
        "%%R\n",
        "# Fit Quasi-Poisson Model\n",
        "quasi_pois_mod <- glm(visits ~ hospital + health + chronic + age + afam + gender +\n",
        "                        married + school + income + employed + insurance + medicaid,\n",
        "                      family = quasipoisson(link = \"log\"), data = train)\n",
        "\n",
        "# Note: AIC not available for quasipoisson\n",
        "cat(\"Quasi-Poisson model fitted (no AIC due to quasi-likelihood)\\n\")\n",
        "summary(quasi_pois_mod)"
      ],
      "metadata": {
        "colab": {
          "base_uri": "https://localhost:8080/"
        },
        "id": "Q1HjWuzm3_06",
        "outputId": "70acdbe2-7d0c-4d87-a012-29750e41c007"
      },
      "execution_count": 23,
      "outputs": [
        {
          "output_type": "stream",
          "name": "stdout",
          "text": [
            "Quasi-Poisson model fitted (no AIC due to quasi-likelihood)\n",
            "\n",
            "Call:\n",
            "glm(formula = visits ~ hospital + health + chronic + age + afam + \n",
            "    gender + married + school + income + employed + insurance + \n",
            "    medicaid, family = quasipoisson(link = \"log\"), data = train)\n",
            "\n",
            "Coefficients:\n",
            "                 Estimate Std. Error t value Pr(>|t|)    \n",
            "(Intercept)      1.343167   0.258969   5.187 2.28e-07 ***\n",
            "hospital         0.161210   0.018032   8.940  < 2e-16 ***\n",
            "healthpoor       0.202329   0.054274   3.728 0.000197 ***\n",
            "healthexcellent -0.420848   0.093465  -4.503 6.96e-06 ***\n",
            "chronic          0.146165   0.014371  10.171  < 2e-16 ***\n",
            "age             -0.046468   0.031922  -1.456 0.145583    \n",
            "afamyes         -0.072163   0.066832  -1.080 0.280332    \n",
            "gendermale      -0.120669   0.043782  -2.756 0.005883 ** \n",
            "marriedyes      -0.040514   0.045149  -0.897 0.369609    \n",
            "school           0.024514   0.005800   4.226 2.45e-05 ***\n",
            "income           0.001034   0.007081   0.146 0.883919    \n",
            "employedyes     -0.024014   0.068776  -0.349 0.726987    \n",
            "insuranceyes     0.272667   0.059065   4.616 4.07e-06 ***\n",
            "medicaidyes      0.287743   0.075710   3.801 0.000147 ***\n",
            "---\n",
            "Signif. codes:  0 ‘***’ 0.001 ‘**’ 0.01 ‘*’ 0.05 ‘.’ 0.1 ‘ ’ 1\n",
            "\n",
            "(Dispersion parameter for quasipoisson family taken to be 6.296376)\n",
            "\n",
            "    Null deviance: 18248  on 3084  degrees of freedom\n",
            "Residual deviance: 15645  on 3071  degrees of freedom\n",
            "AIC: NA\n",
            "\n",
            "Number of Fisher Scoring iterations: 5\n",
            "\n"
          ]
        }
      ]
    },
    {
      "cell_type": "markdown",
      "source": [
        "### Fit Negative Binomial Model\n",
        "\n",
        "The Negative Binomial model is a more flexible alternative to the Poisson model that can handle overdispersion in count data. It allows the variance to exceed the mean, which is often the case in real-world datasets. We will fit a Negative Binomial model to the training data and summarize the results. The `MASS` package provides the `glm.nb()` function for fitting Negative Binomial models."
      ],
      "metadata": {
        "id": "2IOvmQJZ4G6n"
      }
    },
    {
      "cell_type": "code",
      "source": [
        "%%R\n",
        "# Fit Negative Binomial Model\n",
        "nb_mod <- glm.nb(visits ~ hospital + health + chronic + age + afam + gender +\n",
        "                   married + school + income + employed + insurance + medicaid,\n",
        "                 data = train)\n",
        "summary(nb_mod)"
      ],
      "metadata": {
        "colab": {
          "base_uri": "https://localhost:8080/"
        },
        "id": "Ig8IwaKG4HW0",
        "outputId": "ae3c73b7-c720-4569-a56d-7d8f0a3e269f"
      },
      "execution_count": 24,
      "outputs": [
        {
          "output_type": "stream",
          "name": "stdout",
          "text": [
            "\n",
            "Call:\n",
            "glm.nb(formula = visits ~ hospital + health + chronic + age + \n",
            "    afam + gender + married + school + income + employed + insurance + \n",
            "    medicaid, data = train, init.theta = 1.228864431, link = log)\n",
            "\n",
            "Coefficients:\n",
            "                  Estimate Std. Error z value Pr(>|z|)    \n",
            "(Intercept)      1.1053204  0.2453960   4.504 6.66e-06 ***\n",
            "hospital         0.2186652  0.0242741   9.008  < 2e-16 ***\n",
            "healthpoor       0.2509257  0.0575168   4.363 1.28e-05 ***\n",
            "healthexcellent -0.4226359  0.0728896  -5.798 6.70e-09 ***\n",
            "chronic          0.1687999  0.0146568  11.517  < 2e-16 ***\n",
            "age             -0.0253024  0.0303924  -0.833 0.405114    \n",
            "afamyes         -0.0953660  0.0616520  -1.547 0.121901    \n",
            "gendermale      -0.1255370  0.0410936  -3.055 0.002251 ** \n",
            "marriedyes      -0.0488731  0.0430098  -1.136 0.255821    \n",
            "school           0.0251444  0.0054394   4.623 3.79e-06 ***\n",
            "income           0.0040597  0.0068643   0.591 0.554239    \n",
            "employedyes     -0.0001979  0.0629738  -0.003 0.997493    \n",
            "insuranceyes     0.2806504  0.0531094   5.284 1.26e-07 ***\n",
            "medicaidyes      0.2797750  0.0739519   3.783 0.000155 ***\n",
            "---\n",
            "Signif. codes:  0 ‘***’ 0.001 ‘**’ 0.01 ‘*’ 0.05 ‘.’ 0.1 ‘ ’ 1\n",
            "\n",
            "(Dispersion parameter for Negative Binomial(1.2289) family taken to be 1)\n",
            "\n",
            "    Null deviance: 4034.6  on 3084  degrees of freedom\n",
            "Residual deviance: 3542.0  on 3071  degrees of freedom\n",
            "AIC: 16989\n",
            "\n",
            "Number of Fisher Scoring iterations: 1\n",
            "\n",
            "\n",
            "              Theta:  1.2289 \n",
            "          Std. Err.:  0.0413 \n",
            "\n",
            " 2 x log-likelihood:  -16958.8540 \n"
          ]
        }
      ]
    },
    {
      "cell_type": "markdown",
      "source": [
        "### Fit Zero-Inflated  Poisson (ZIP) Model\n",
        "\n",
        "The Zero-Inflated Poisson (ZIP) model is used when the count data has an excess of zeros that cannot be explained by a standard Poisson model. It combines a Poisson count model with a binary model to account for the excess zeros. We will fit a ZIP model to the training data and summarize the results. The `pscl` package provides the `zeroinfl()` function for fitting ZIP models."
      ],
      "metadata": {
        "id": "R1dvjyyz4Tlf"
      }
    },
    {
      "cell_type": "code",
      "source": [
        "%%R\n",
        "# Fit Zero-Inflated Poisson (ZIP) Model\n",
        "zip_mod <- zeroinfl(visits ~ hospital + health + chronic + age + afam + gender +\n",
        "                      married + school + income + employed + insurance + medicaid | .,\n",
        "                    dist = \"poisson\", data = train)\n",
        "\n",
        "summary(zip_mod)"
      ],
      "metadata": {
        "colab": {
          "base_uri": "https://localhost:8080/"
        },
        "id": "4gV2glAN4T1q",
        "outputId": "e4ee2995-4a45-4273-c259-b0962917d7c9"
      },
      "execution_count": 25,
      "outputs": [
        {
          "output_type": "stream",
          "name": "stdout",
          "text": [
            "\n",
            "Call:\n",
            "zeroinfl(formula = visits ~ hospital + health + chronic + age + afam + \n",
            "    gender + married + school + income + employed + insurance + medicaid | \n",
            "    ., data = train, dist = \"poisson\")\n",
            "\n",
            "Pearson residuals:\n",
            "    Min      1Q  Median      3Q     Max \n",
            "-4.5622 -1.1385 -0.4631  0.5470 19.3728 \n",
            "\n",
            "Count model coefficients (poisson with log link):\n",
            "                 Estimate Std. Error z value Pr(>|z|)    \n",
            "(Intercept)      1.911769   0.106296  17.985  < 2e-16 ***\n",
            "hospital         0.152161   0.007310  20.815  < 2e-16 ***\n",
            "healthpoor       0.214535   0.021563   9.949  < 2e-16 ***\n",
            "healthexcellent -0.361168   0.038544  -9.370  < 2e-16 ***\n",
            "chronic          0.091743   0.005865  15.642  < 2e-16 ***\n",
            "age             -0.066569   0.013013  -5.116 3.13e-07 ***\n",
            "afamyes         -0.016266   0.026981  -0.603  0.54659    \n",
            "gendermale      -0.057043   0.017825  -3.200  0.00137 ** \n",
            "marriedyes      -0.073986   0.018253  -4.053 5.05e-05 ***\n",
            "school           0.016619   0.002359   7.045 1.85e-12 ***\n",
            "income          -0.001860   0.002880  -0.646  0.51830    \n",
            "employedyes     -0.018110   0.027840  -0.651  0.51536    \n",
            "insuranceyes     0.160052   0.024314   6.583 4.62e-11 ***\n",
            "medicaidyes      0.214121   0.030929   6.923 4.42e-12 ***\n",
            "\n",
            "Zero-inflation model coefficients (binomial with logit link):\n",
            "                 Estimate Std. Error z value Pr(>|z|)    \n",
            "(Intercept)      1.581974   0.716731   2.207 0.027300 *  \n",
            "hospital        -0.334356   0.115713  -2.890 0.003858 ** \n",
            "healthpoor       0.127637   0.192195   0.664 0.506627    \n",
            "healthexcellent  0.268320   0.179174   1.498 0.134253    \n",
            "chronic         -0.587739   0.056826 -10.343  < 2e-16 ***\n",
            "age             -0.194260   0.090124  -2.155 0.031125 *  \n",
            "afamyes          0.342121   0.156320   2.189 0.028626 *  \n",
            "gendermale       0.456710   0.117852   3.875 0.000107 ***\n",
            "marriedyes      -0.218808   0.125267  -1.747 0.080683 .  \n",
            "school          -0.058867   0.015330  -3.840 0.000123 ***\n",
            "income          -0.046921   0.026587  -1.765 0.077590 .  \n",
            "employedyes      0.003733   0.175976   0.021 0.983076    \n",
            "insuranceyes    -0.664891   0.135419  -4.910 9.11e-07 ***\n",
            "medicaidyes     -0.428867   0.204188  -2.100 0.035697 *  \n",
            "---\n",
            "Signif. codes:  0 '***' 0.001 '**' 0.01 '*' 0.05 '.' 0.1 ' ' 1 \n",
            "\n",
            "Number of iterations in BFGS optimization: 36 \n",
            "Log-likelihood: -1.1e+04 on 28 Df\n"
          ]
        }
      ]
    },
    {
      "cell_type": "markdown",
      "source": [
        "### Fit Zero-Inflated Negative Binomial (ZINB) Model\n",
        "\n",
        "The Zero-Inflated Negative Binomial (ZINB) model is an extension of the ZIP model that allows for overdispersion in the count data. It combines a Negative Binomial count model with a binary model to account for excess zeros. We will fit a ZINB model to the training data and summarize the results. The `pscl` package provides the `zeroinfl()` function for fitting ZINB models."
      ],
      "metadata": {
        "id": "Y65G8n4f4g7U"
      }
    },
    {
      "cell_type": "code",
      "source": [
        "%%R\n",
        "# Fit Zero-Inflated Negative Binomial (ZINB) Model -------------------------\n",
        "zinb_mod <- zeroinfl(visits ~ hospital + health + chronic + age + afam + gender +\n",
        "                       married + school + income + employed + insurance + medicaid | .,\n",
        "                     dist = \"negbin\", data = train)\n",
        "\n",
        "summary(zinb_mod)"
      ],
      "metadata": {
        "colab": {
          "base_uri": "https://localhost:8080/"
        },
        "id": "X7gM65JX4h8E",
        "outputId": "a7d6a03f-3291-4679-d9ca-418f5fd496f0"
      },
      "execution_count": 26,
      "outputs": [
        {
          "output_type": "stream",
          "name": "stdout",
          "text": [
            "\n",
            "Call:\n",
            "zeroinfl(formula = visits ~ hospital + health + chronic + age + afam + \n",
            "    gender + married + school + income + employed + insurance + medicaid | \n",
            "    ., data = train, dist = \"negbin\")\n",
            "\n",
            "Pearson residuals:\n",
            "    Min      1Q  Median      3Q     Max \n",
            "-1.2287 -0.7109 -0.2781  0.3290 13.4664 \n",
            "\n",
            "Count model coefficients (negbin with log link):\n",
            "                 Estimate Std. Error z value Pr(>|z|)    \n",
            "(Intercept)      1.749396   0.249890   7.001 2.55e-12 ***\n",
            "hospital         0.199552   0.024175   8.255  < 2e-16 ***\n",
            "healthpoor       0.250395   0.053880   4.647 3.36e-06 ***\n",
            "healthexcellent -0.372133   0.074330  -5.007 5.54e-07 ***\n",
            "chronic          0.119000   0.014271   8.339  < 2e-16 ***\n",
            "age             -0.069518   0.030736  -2.262 0.023712 *  \n",
            "afamyes         -0.041292   0.062707  -0.658 0.510223    \n",
            "gendermale      -0.056621   0.041413  -1.367 0.171550    \n",
            "marriedyes      -0.083926   0.042913  -1.956 0.050495 .  \n",
            "school           0.018110   0.005262   3.442 0.000578 ***\n",
            "income           0.001521   0.006820   0.223 0.823493    \n",
            "employedyes     -0.037825   0.062621  -0.604 0.545826    \n",
            "insuranceyes     0.184239   0.055338   3.329 0.000870 ***\n",
            "medicaidyes      0.207054   0.074029   2.797 0.005159 ** \n",
            "Log(theta)       0.463838   0.043029  10.780  < 2e-16 ***\n",
            "\n",
            "Zero-inflation model coefficients (binomial with logit link):\n",
            "                Estimate Std. Error z value Pr(>|z|)    \n",
            "(Intercept)      4.15631    1.58966   2.615 0.008933 ** \n",
            "hospital        -0.71603    0.38135  -1.878 0.060437 .  \n",
            "healthpoor       0.40535    0.41605   0.974 0.329918    \n",
            "healthexcellent  0.32688    0.32571   1.004 0.315561    \n",
            "chronic         -1.06068    0.16964  -6.253 4.04e-10 ***\n",
            "age             -0.54924    0.20590  -2.668 0.007640 ** \n",
            "afamyes          0.53877    0.27915   1.930 0.053605 .  \n",
            "gendermale       0.78679    0.24521   3.209 0.001334 ** \n",
            "marriedyes      -0.33149    0.25141  -1.319 0.187331    \n",
            "school          -0.08977    0.02969  -3.023 0.002500 ** \n",
            "income          -0.07549    0.07133  -1.058 0.289950    \n",
            "employedyes     -0.35743    0.40348  -0.886 0.375692    \n",
            "insuranceyes    -0.88794    0.25489  -3.484 0.000495 ***\n",
            "medicaidyes     -0.57360    0.39842  -1.440 0.149959    \n",
            "---\n",
            "Signif. codes:  0 '***' 0.001 '**' 0.01 '*' 0.05 '.' 0.1 ' ' 1 \n",
            "\n",
            "Theta = 1.5902 \n",
            "Number of iterations in BFGS optimization: 39 \n",
            "Log-likelihood: -8406 on 29 Df\n"
          ]
        }
      ]
    },
    {
      "cell_type": "markdown",
      "source": [
        "### Fit Hurdle Models\n",
        "\n",
        "Hurdle models are used for count data with excess zeros, where the zeros arise from a different process than the positive counts. They are particularly useful when the zero counts represent a distinct \"hurdle\" that must be crossed to observe positive counts. We will fit both Hurdle Poisson and Hurdle Negative Binomial models to the training data and summarize the results. The `pscl` package provides the `hurdle()` function for fitting hurdle models.\n",
        "\n",
        "First we fit a Hurdle Poisson model, which assumes that the count data follows a Poisson distribution for positive counts and a binary model for the zero counts. Then we fit a Hurdle Negative Binomial model, which allows for overdispersion in the count data while still modeling the excess zeros separately."
      ],
      "metadata": {
        "id": "KZ7_I1Oc4n1v"
      }
    },
    {
      "cell_type": "code",
      "source": [
        "%%R\n",
        "# Hurdle Poisson\n",
        "hurdle_pois <- hurdle(visits ~ hospital + health + chronic + age + afam + gender +\n",
        "                        married + school + income + employed + insurance + medicaid,\n",
        "                      dist = \"poisson\", data = train)\n",
        "\n",
        "summary(hurdle_pois)"
      ],
      "metadata": {
        "colab": {
          "base_uri": "https://localhost:8080/"
        },
        "id": "_dsx5PzJ4o9s",
        "outputId": "06d11ddd-89fc-4b2f-fffc-0118dcec967a"
      },
      "execution_count": 27,
      "outputs": [
        {
          "output_type": "stream",
          "name": "stdout",
          "text": [
            "\n",
            "Call:\n",
            "hurdle(formula = visits ~ hospital + health + chronic + age + afam + \n",
            "    gender + married + school + income + employed + insurance + medicaid, \n",
            "    data = train, dist = \"poisson\")\n",
            "\n",
            "Pearson residuals:\n",
            "    Min      1Q  Median      3Q     Max \n",
            "-4.5657 -1.1379 -0.4630  0.5473 19.3721 \n",
            "\n",
            "Count model coefficients (truncated poisson with log link):\n",
            "                 Estimate Std. Error z value Pr(>|z|)    \n",
            "(Intercept)      1.913560   0.106016  18.050  < 2e-16 ***\n",
            "hospital         0.152135   0.007311  20.809  < 2e-16 ***\n",
            "healthpoor       0.214744   0.021559   9.961  < 2e-16 ***\n",
            "healthexcellent -0.361461   0.038574  -9.371  < 2e-16 ***\n",
            "chronic          0.091694   0.005861  15.646  < 2e-16 ***\n",
            "age             -0.066759   0.012986  -5.141 2.74e-07 ***\n",
            "afamyes         -0.016200   0.026967  -0.601  0.54802    \n",
            "gendermale      -0.057357   0.017817  -3.219  0.00129 ** \n",
            "marriedyes      -0.074119   0.018247  -4.062 4.87e-05 ***\n",
            "school           0.016608   0.002357   7.048 1.82e-12 ***\n",
            "income          -0.001917   0.002885  -0.664  0.50639    \n",
            "employedyes     -0.018378   0.027821  -0.661  0.50889    \n",
            "insuranceyes     0.160239   0.024299   6.595 4.26e-11 ***\n",
            "medicaidyes      0.213748   0.030936   6.909 4.87e-12 ***\n",
            "Zero hurdle model coefficients (binomial with logit link):\n",
            "                 Estimate Std. Error z value Pr(>|z|)    \n",
            "(Intercept)     -1.538486   0.700142  -2.197  0.02799 *  \n",
            "hospital         0.343627   0.115255   2.981  0.00287 ** \n",
            "healthpoor      -0.114568   0.190885  -0.600  0.54838    \n",
            "healthexcellent -0.331164   0.169543  -1.953  0.05079 .  \n",
            "chronic          0.588360   0.055782  10.547  < 2e-16 ***\n",
            "age              0.184043   0.087979   2.092  0.03645 *  \n",
            "afamyes         -0.340683   0.154160  -2.210  0.02711 *  \n",
            "gendermale      -0.453154   0.115496  -3.924 8.73e-05 ***\n",
            "marriedyes       0.207925   0.122912   1.692  0.09071 .  \n",
            "school           0.059955   0.014994   3.999 6.37e-05 ***\n",
            "income           0.046012   0.025833   1.781  0.07488 .  \n",
            "employedyes     -0.003616   0.172076  -0.021  0.98324    \n",
            "insuranceyes     0.671421   0.132759   5.057 4.25e-07 ***\n",
            "medicaidyes      0.446297   0.202126   2.208  0.02724 *  \n",
            "---\n",
            "Signif. codes:  0 '***' 0.001 '**' 0.01 '*' 0.05 '.' 0.1 ' ' 1 \n",
            "\n",
            "Number of iterations in BFGS optimization: 20 \n",
            "Log-likelihood: -1.1e+04 on 28 Df\n"
          ]
        }
      ]
    },
    {
      "cell_type": "code",
      "source": [
        "%%R\n",
        "# Hurdle Negative Binomial\n",
        "hurdle_nb <- hurdle(visits ~ hospital + health + chronic + age + afam + gender +\n",
        "                      married + school + income + employed + insurance + medicaid,\n",
        "                    dist = \"negbin\", data = train)\n",
        "\n",
        "summary(hurdle_nb)"
      ],
      "metadata": {
        "colab": {
          "base_uri": "https://localhost:8080/"
        },
        "id": "Pr2GOhFp4uRz",
        "outputId": "92a919a8-ecb6-4dee-b7eb-7429c223d590"
      },
      "execution_count": 28,
      "outputs": [
        {
          "output_type": "stream",
          "name": "stdout",
          "text": [
            "\n",
            "Call:\n",
            "hurdle(formula = visits ~ hospital + health + chronic + age + afam + \n",
            "    gender + married + school + income + employed + insurance + medicaid, \n",
            "    data = train, dist = \"negbin\")\n",
            "\n",
            "Pearson residuals:\n",
            "    Min      1Q  Median      3Q     Max \n",
            "-1.1989 -0.7117 -0.2744  0.3277 13.3528 \n",
            "\n",
            "Count model coefficients (truncated negbin with log link):\n",
            "                  Estimate Std. Error z value Pr(>|z|)    \n",
            "(Intercept)      1.7433951  0.2596955   6.713 1.90e-11 ***\n",
            "hospital         0.2099479  0.0254282   8.256  < 2e-16 ***\n",
            "healthpoor       0.2717668  0.0561863   4.837 1.32e-06 ***\n",
            "healthexcellent -0.4136585  0.0785777  -5.264 1.41e-07 ***\n",
            "chronic          0.1128257  0.0148091   7.619 2.56e-14 ***\n",
            "age             -0.0680604  0.0321415  -2.118 0.034215 *  \n",
            "afamyes         -0.0300820  0.0651091  -0.462 0.644063    \n",
            "gendermale      -0.0517771  0.0428769  -1.208 0.227211    \n",
            "marriedyes      -0.1010600  0.0446696  -2.262 0.023673 *  \n",
            "school           0.0182257  0.0054608   3.338 0.000845 ***\n",
            "income          -0.0006271  0.0071348  -0.088 0.929963    \n",
            "employedyes     -0.0111240  0.0651911  -0.171 0.864509    \n",
            "insuranceyes     0.1719720  0.0567201   3.032 0.002430 ** \n",
            "medicaidyes      0.2135242  0.0769760   2.774 0.005539 ** \n",
            "Log(theta)       0.3906054  0.0507928   7.690 1.47e-14 ***\n",
            "Zero hurdle model coefficients (binomial with logit link):\n",
            "                 Estimate Std. Error z value Pr(>|z|)    \n",
            "(Intercept)     -1.538486   0.700142  -2.197  0.02799 *  \n",
            "hospital         0.343627   0.115255   2.981  0.00287 ** \n",
            "healthpoor      -0.114568   0.190885  -0.600  0.54838    \n",
            "healthexcellent -0.331164   0.169543  -1.953  0.05079 .  \n",
            "chronic          0.588360   0.055782  10.547  < 2e-16 ***\n",
            "age              0.184043   0.087979   2.092  0.03645 *  \n",
            "afamyes         -0.340683   0.154160  -2.210  0.02711 *  \n",
            "gendermale      -0.453154   0.115496  -3.924 8.73e-05 ***\n",
            "marriedyes       0.207925   0.122912   1.692  0.09071 .  \n",
            "school           0.059955   0.014994   3.999 6.37e-05 ***\n",
            "income           0.046012   0.025833   1.781  0.07488 .  \n",
            "employedyes     -0.003616   0.172076  -0.021  0.98324    \n",
            "insuranceyes     0.671421   0.132759   5.057 4.25e-07 ***\n",
            "medicaidyes      0.446297   0.202126   2.208  0.02724 *  \n",
            "---\n",
            "Signif. codes:  0 '***' 0.001 '**' 0.01 '*' 0.05 '.' 0.1 ' ' 1 \n",
            "\n",
            "Theta: count = 1.4779\n",
            "Number of iterations in BFGS optimization: 22 \n",
            "Log-likelihood: -8399 on 29 Df\n"
          ]
        }
      ]
    },
    {
      "cell_type": "markdown",
      "source": [
        "\n",
        "### Model Comparison: AIC and Likelihood Ratio Test (LRT)"
      ],
      "metadata": {
        "id": "feG7tfSJ4yEw"
      }
    },
    {
      "cell_type": "code",
      "source": [
        "%%R\n",
        "# Collect AICs (exclude quasipoisson)\n",
        "models <- list(\n",
        "  Poisson = pois_mod,\n",
        "  NB = nb_mod,\n",
        "  ZIP = zip_mod,\n",
        "  ZINB = zinb_mod,\n",
        "  Hurdle_Pois = hurdle_pois,\n",
        "  Hurdle_NB = hurdle_nb\n",
        ")\n",
        "\n",
        "aic_values <- sapply(models, AIC)\n",
        "cat(\"AIC Values:\\n\")\n",
        "print(round(aic_values, 2))"
      ],
      "metadata": {
        "colab": {
          "base_uri": "https://localhost:8080/"
        },
        "id": "2vOpgNi040mR",
        "outputId": "026a75c6-2cb0-4379-8526-ecd7db8e5e2d"
      },
      "execution_count": 29,
      "outputs": [
        {
          "output_type": "stream",
          "name": "stdout",
          "text": [
            "AIC Values:\n",
            "    Poisson          NB         ZIP        ZINB Hurdle_Pois   Hurdle_NB \n",
            "   24585.62    16988.85    22049.61    16869.90    22049.39    16856.82 \n"
          ]
        }
      ]
    },
    {
      "cell_type": "code",
      "source": [
        "%%R\n",
        "# Extract log-likelihoods\n",
        "ll_pois <- logLik(pois_mod)\n",
        "ll_nb   <- logLik(nb_mod)\n",
        "\n",
        "# Degrees of freedom difference: NB has one extra parameter (theta)\n",
        "dof <- attr(ll_nb, \"df\") - attr(ll_pois, \"df\")  # usually 1\n",
        "\n",
        "# Compute LRT statistic\n",
        "lrt_stat <- 2 * (as.numeric(ll_nb) - as.numeric(ll_pois))\n",
        "\n",
        "# P-value under chi-square distribution with 1 df\n",
        "p_val <- pchisq(lrt_stat, df = dof, lower.tail = FALSE)\n",
        "\n",
        "# Output result\n",
        "cat(\"Likelihood Ratio Test: Poisson vs Negative Binomial\\n\")\n",
        "cat(\"LR Statistic:\", round(lrt_stat, 3), \"\\n\")\n",
        "cat(\"p-value:\", format.pval(p_val), \"\\n\")\n",
        "\n",
        "if (p_val < 0.05) {\n",
        "  cat(\">> Reject Poisson in favor of Negative Binomial (overdispersion present)\\n\")\n",
        "} else {\n",
        "  cat(\">> Poisson model sufficient (no significant overdispersion)\\n\")\n",
        "}"
      ],
      "metadata": {
        "colab": {
          "base_uri": "https://localhost:8080/"
        },
        "id": "0OKUwNol481W",
        "outputId": "cb5c08ac-c52e-416d-eabc-6d473043f742"
      },
      "execution_count": 30,
      "outputs": [
        {
          "output_type": "stream",
          "name": "stdout",
          "text": [
            "Likelihood Ratio Test: Poisson vs Negative Binomial\n",
            "LR Statistic: 7598.768 \n",
            "p-value: < 2.22e-16 \n",
            ">> Reject Poisson in favor of Negative Binomial (overdispersion present)\n"
          ]
        }
      ]
    },
    {
      "cell_type": "markdown",
      "source": [
        "### Model Performance Metrics\n",
        "\n",
        "We will compute various performance metrics for the models fitted on the training data, including AIC, log-likelihood, RMSE, MAE, and Pseudo R-squared. The `performance` package can be used to compute Pseudo R-squared for GLMs.\n"
      ],
      "metadata": {
        "id": "GesU-ndg5CF9"
      }
    },
    {
      "cell_type": "code",
      "source": [
        "%%R\n",
        "\n",
        "perf_stats <- data.frame(\n",
        "  Model = names(models),\n",
        "  AIC = aic_values,\n",
        "  LogLik = sapply(models, function(m) if (!is.null(logLik(m))) as.numeric(logLik(m)) else NA),\n",
        "  RMSE = NA,\n",
        "  MAE = NA,\n",
        "  PseudoR2 = NA  # using performance::r2\n",
        ")\n",
        "\n",
        "for (i in 1:nrow(perf_stats)) {\n",
        "  mod_name <- perf_stats$Model[i]\n",
        "  mod <- models[[mod_name]]\n",
        "\n",
        "  # Predictions\n",
        "  pred <- suppressWarnings(predict(mod, newdata = train, type = \"response\"))\n",
        "  obs <- train$visits\n",
        "\n",
        "  perf_stats$RMSE[i] <- sqrt(mean((pred - obs)^2, na.rm = TRUE))\n",
        "  perf_stats$MAE[i] <- mean(abs(pred - obs), na.rm = TRUE)\n",
        "\n",
        "  # Use performance::r2 (better handling)\n",
        "  r2_out <- try(performance::r2(mod), silent = TRUE)\n",
        "  if (!inherits(r2_out, \"try-error\") && !is.null(r2_out$r2) && length(r2_out$r2) > 0) {\n",
        "    perf_stats$PseudoR2[i] <- r2_out$r2\n",
        "  } else {\n",
        "    perf_stats$PseudoR2[i] <- NA\n",
        "  }\n",
        "}\n",
        "\n",
        "print(perf_stats)"
      ],
      "metadata": {
        "colab": {
          "base_uri": "https://localhost:8080/"
        },
        "id": "5igRVlEi5CyI",
        "outputId": "3581baca-f237-4d02-bb13-b611a31fc860"
      },
      "execution_count": 31,
      "outputs": [
        {
          "output_type": "stream",
          "name": "stdout",
          "text": [
            "                  Model      AIC     LogLik     RMSE      MAE PseudoR2\n",
            "Poisson         Poisson 24585.62 -12278.811 6.107013 4.039828       NA\n",
            "NB                   NB 16988.85  -8479.427 6.346362 4.086878       NA\n",
            "ZIP                 ZIP 22049.61 -10996.806 6.064220 4.009943       NA\n",
            "ZINB               ZINB 16869.90  -8405.949 6.174844 4.034026       NA\n",
            "Hurdle_Pois Hurdle_Pois 22049.39 -10996.694 6.064184 4.009997       NA\n",
            "Hurdle_NB     Hurdle_NB 16856.82  -8399.408 6.202286 4.042368       NA\n"
          ]
        }
      ]
    },
    {
      "cell_type": "markdown",
      "source": [
        "### Prediction Performance on Test Set"
      ],
      "metadata": {
        "id": "T0JwlXGp5LXn"
      }
    },
    {
      "cell_type": "code",
      "source": [
        "%%R\n",
        "# Prediction Performance on Test Set\n",
        "pred_test <- data.frame(\n",
        "  true = test$visits\n",
        ")\n",
        "\n",
        "# Predict all models on test set\n",
        "pred_test$poisson <- predict(pois_mod, newdata = test, type = \"response\")\n",
        "pred_test$quasipoisson <- predict(quasi_pois_mod, newdata = test, type = \"response\")\n",
        "pred_test$nb <- predict(nb_mod, newdata = test, type = \"response\")\n",
        "pred_test$zip <- predict(zip_mod, newdata = test, type = \"response\")\n",
        "pred_test$zinb <- predict(zinb_mod, newdata = test, type = \"response\")\n",
        "pred_test$hurdle_pois <- predict(hurdle_pois, newdata = test, type = \"response\")\n",
        "pred_test$hurdle_nb <- predict(hurdle_nb, newdata = test, type = \"response\")\n",
        "\n",
        "# Compute test RMSE and MAE\n",
        "test_perf <- data.frame(Model = c(\"Poisson\", \"Quasi-Poisson\", \"NB\", \"ZIP\", \"ZINB\", \"Hurdle_Pois\", \"Hurdle_NB\"),\n",
        "                        RMSE = NA, MAE = NA)\n",
        "\n",
        "observed <- pred_test$true\n",
        "\n",
        "test_perf$RMSE[1] <- sqrt(mean((observed - pred_test$poisson)^2))\n",
        "test_perf$RMSE[2] <- sqrt(mean((observed - pred_test$quasipoisson)^2))\n",
        "test_perf$RMSE[3] <- sqrt(mean((observed - pred_test$nb)^2))\n",
        "test_perf$RMSE[4] <- sqrt(mean((observed - pred_test$zip)^2))\n",
        "test_perf$RMSE[5] <- sqrt(mean((observed - pred_test$zinb)^2))\n",
        "test_perf$RMSE[6] <- sqrt(mean((observed - pred_test$hurdle_pois)^2))\n",
        "test_perf$RMSE[7] <- sqrt(mean((observed - pred_test$hurdle_nb)^2))\n",
        "\n",
        "test_perf$MAE[1] <- mean(abs(observed - pred_test$poisson))\n",
        "test_perf$MAE[2] <- mean(abs(observed - pred_test$quasipoisson))\n",
        "test_perf$MAE[3] <- mean(abs(observed - pred_test$nb))\n",
        "test_perf$MAE[4] <- mean(abs(observed - pred_test$zip))\n",
        "test_perf$MAE[5] <- mean(abs(observed - pred_test$zinb))\n",
        "test_perf$MAE[6] <- mean(abs(observed - pred_test$hurdle_pois))\n",
        "test_perf$MAE[7] <- mean(abs(observed - pred_test$hurdle_nb))\n",
        "\n",
        "cat(\"\\n=== Test Set Prediction Performance ===\\n\")\n",
        "print(test_perf)"
      ],
      "metadata": {
        "colab": {
          "base_uri": "https://localhost:8080/"
        },
        "id": "I2waMgE75P5T",
        "outputId": "8210596c-39de-47a0-8491-8bc11ccbf72d"
      },
      "execution_count": 32,
      "outputs": [
        {
          "output_type": "stream",
          "name": "stdout",
          "text": [
            "\n",
            "=== Test Set Prediction Performance ===\n",
            "          Model     RMSE      MAE\n",
            "1       Poisson 5.936706 3.952750\n",
            "2 Quasi-Poisson 5.936706 3.952750\n",
            "3            NB 6.299022 4.053921\n",
            "4           ZIP 5.880118 3.928295\n",
            "5          ZINB 6.052700 3.978970\n",
            "6   Hurdle_Pois 5.880185 3.928479\n",
            "7     Hurdle_NB 6.088043 3.992208\n"
          ]
        }
      ]
    },
    {
      "cell_type": "markdown",
      "source": [
        "## Summary and Conclusion\n",
        "\n",
        "In this R tutorial, we explored the concepts and applications of Quasi-Poisson, Negative Binomial and Hurdle regression models on count data with overdispersion. These models are essential for analyzing count data, where the response variable represents the number of events occurring in a fixed unit of observation.\n",
        "\n",
        "Initially, we introduced the Poisson regression model, which assumes that the response variable's mean and variance are equal. However, this assumption may not always be valid in real-world scenarios due to overdispersion, where the variance exceeds the mean. To address this issue, we explored the Quasi-Poisson regression model, which allows for overdispersion by introducing a dispersion parameter.\n",
        "\n",
        "Furthermore, we discussed the Negative Binomial regression model, which is particularly useful when there is overdispersion and the variance exceeds the mean. This model relaxes the restrictive assumption of equal mean and variance in Poisson regression by incorporating an additional parameter to model the dispersion.\n",
        "\n",
        "Throughout the tutorial, we provided examples of R code to illustrate the implementation of these regression models. We demonstrated how to fit the models, interpret the coefficients, assess model fit using goodness-of-fit tests, and make predictions.\n",
        "\n",
        "In conclusion, Quasi-Poisson, Negative Binomial and Hurdle regression models offer valuable tools for analyzing count data in various fields such as epidemiology, ecology, and social sciences. Understanding the differences between these models and when to use each one is crucial for accurate and reliable statistical analysis. While Poisson regression assumes equal mean and variance and is suitable for modeling count data with low dispersion, Quasi-Poisson and Negative Binomial regression models provide flexibility to accommodate overdispersion, making them more robust for real-world data. By mastering these regression techniques and leveraging R's powerful statistical capabilities, researchers and practitioners can gain deeper insights into count data and make informed decisions based on sound statistical analysis."
      ],
      "metadata": {
        "id": "7xdVgdeX63ml"
      }
    },
    {
      "cell_type": "markdown",
      "source": [
        "## References\n",
        "\n",
        "1. [UCLA IDRE Guide](https://stats.oarc.ucla.edu/r/dae/poisson-regression/)\n",
        "\n",
        "\n",
        "2. [JSS Book: \"Regression Models for Count Data in R](https://www.jstatsoft.org/article/view/v027i08)\n",
        "\n",
        "\n",
        "3. [DataCamp Course](https://www.datacamp.com/courses/modeling-count-data-in-r)  \n",
        "\n",
        "\n",
        "4. [R-bloggers: GLMs for Count Data](https://www.r-bloggers.com/analyzing-count-data-using-glm-in-r/)\n",
        "\n",
        "\n",
        "6. [pscl Package Vignette](https://cran.r-project.org/web/packages/pscl/vignettes/countreg.pdf)  \n",
        "\n",
        "7.  [Introduction: what is overdispersion?](https://biometry.github.io/APES//LectureNotes/2016-JAGS/Overdispersion/OverdispersionJAGS.html)\n",
        "\n",
        "8.  [Tutorial: Poisson Regression in R](https://www.dataquest.io/blog/tutorial-poisson-regression-in-r/)\n",
        "\n",
        "9.  [Chapter 4 Poisson Regression](https://bookdown.org/roback/bookdown-BeyondMLR/ch-poissonreg.html#sec-overdispPois)\n",
        "\n",
        "10.  [Chapter 10 Poisson regression](https://bookdown.org/drki_musa/dataanalysis/poisson-regression.html)\n",
        "\n",
        "\n"
      ],
      "metadata": {
        "id": "Im6r6rV566NF"
      }
    }
  ]
}