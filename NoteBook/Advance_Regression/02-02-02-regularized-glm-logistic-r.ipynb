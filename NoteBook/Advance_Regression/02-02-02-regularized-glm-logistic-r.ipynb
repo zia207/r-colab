{
  "nbformat": 4,
  "nbformat_minor": 0,
  "metadata": {
    "colab": {
      "provenance": [],
      "toc_visible": true,
      "authorship_tag": "ABX9TyNBGRNllDW/aIGedoz8lo2E",
      "include_colab_link": true
    },
    "kernelspec": {
      "name": "python3",
      "display_name": "Python 3"
    },
    "language_info": {
      "name": "python"
    }
  },
  "cells": [
    {
      "cell_type": "markdown",
      "metadata": {
        "id": "view-in-github",
        "colab_type": "text"
      },
      "source": [
        "<a href=\"https://colab.research.google.com/github/zia207/r-colab/blob/main/NoteBook/Advance_Regression/02-02-02-regularized-glm-logistic-r.ipynb\" target=\"_parent\"><img src=\"https://colab.research.google.com/assets/colab-badge.svg\" alt=\"Open In Colab\"/></a>"
      ]
    },
    {
      "cell_type": "markdown",
      "source": [
        "![alt text](http://drive.google.com/uc?export=view&id=1bLQ3nhDbZrCCqy_WCxxckOne2lgVvn3l)"
      ],
      "metadata": {
        "id": "4qrItz_mJNWw"
      }
    },
    {
      "cell_type": "markdown",
      "source": [
        "# 2. Regularized Logistic Regression (Gaussian)\n",
        "\n",
        "\n",
        "\n"
      ],
      "metadata": {
        "id": "Dzp9ZseROTcY"
      }
    },
    {
      "cell_type": "markdown",
      "source": [
        "## Overview\n",
        "\n",
        "Regularized logistic regression, also known as penalized logistic regression, is an improved version of traditional logistic regression that employs regularization techniques to prevent overfitting and enhance model generalization. In logistic regression, the aim is to model the probability of a binary outcome based on one or more predictor variables. However, traditional logistic regression models may encounter high variance and poor generalization performance when dealing with datasets with many predictors or multicollinearity among predictors.\n",
        "\n",
        "Regularization addresses these issues by adding a penalty term to the logistic regression objective function, penalizing the regression coefficients' magnitudes. This penalty encourages the model to shrink the coefficients towards zero or enforce sparsity, effectively reducing the complexity of the model and preventing overfitting. As a result, regularized logistic regression models can achieve better generalization performance and are less prone to overfitting than traditional logistic regression models.There are two types of regularization commonly used in logistic regression: `L1 regularization (LASOO)` and `L2 regularization (Ridge)`. `Elastic Net` regularization combines both L1 and L2 regularization and balances feature selection and coefficient shrinkage.\n",
        "\n",
        "In ridge regression, the penalty term shrinks the coefficients, contributing the most to the error. This results in a reduced magnitude of these coefficients, decreasing the impact of features that contribute to increasing the error.\n",
        "\n",
        "On the other hand, LASSO regression employs a different approach. Instead of shrinking the coefficients, it sets them exactly to zero! This unique property of LASSO model makes it an effective feature selector that identifies the most important coefficients with the lowest `p-values`, eliminating the features that have little impact on the model's predictive power.\n",
        "\n",
        "Penalized logistic regression extends traditional logistic regression by adding a penalty term to the log-likelihood function. This penalty discourages large coefficients and helps prevent overfitting.\n",
        "\n",
        "The **logit link function** in `glm()` models the log-odds:\n",
        "\n",
        "$$ \\text{logit}(P) = \\ln\\left(\\frac{P}{1-P}\\right) = \\beta_0 + \\beta_1 X_1 + \\dots + \\beta_p X_p $$,\n",
        "\n",
        "where:\n",
        "\n",
        "- $P = P(Y = 1 \\mid \\mathbf{X}) = \\frac{1}{1 + e^{-(\\beta_0 + \\beta_1 X_1 + \\dots + \\beta_p X_p)}} $ is the probability of success.\n",
        "\n",
        "- $\\beta_0$: Intercept term.\n",
        "\n",
        "- $\\beta_j$: Coefficients for predictors $X_j$.\n",
        "\n",
        "The **log-likelihood** function for logistic regression is:\n",
        "\n",
        "$$ \\ell(\\boldsymbol{\\beta}) = \\sum_{i=1}^n \\left[ Y_i \\ln(\\hat{P}_i) + (1 - Y_i) \\ln(1 - \\hat{P}_i) \\right] $$,\n",
        "\n",
        "where $\\hat{P}_i = P(Y_i = 1 \\mid \\mathbf{X}_i)$.\n",
        "\n",
        "\n",
        "To perform penalized logistic regression, a penalty term is added to the negative log-likelihood to shrink coefficients $\\beta_j$.\n",
        "\n",
        "The **penalized negative log-likelihood** is:\n",
        "\n",
        "$$ \\text{Penalized Loss} = -\\ell(\\boldsymbol{\\beta}) + \\lambda \\cdot P(\\boldsymbol{\\beta}) $$\n",
        "\n",
        "where:\n",
        "\n",
        "- $P(\\boldsymbol{\\beta})$: Penalty function based on the coefficients.\n",
        "\n",
        "- $\\lambda$: Regularization strength, controlling the trade-off between goodness of fit and penalty.\n",
        "\n",
        "***L1 Regularization (Lasso)***:\n",
        "   \n",
        "   $$ P(\\boldsymbol{\\beta}) = \\sum_{j=1}^p |\\beta_j|$$\n",
        "   \n",
        "   Encourages sparsity (some coefficients shrink to zero). Suitable for feature selection.\n",
        "\n",
        "***L2 Regularization (Ridge)***:\n",
        "   \n",
        "   *** P(\\boldsymbol{\\beta}) = \\sum_{j=1}^p \\beta_j^2 ***\n",
        "\n",
        "   Shrinks coefficients but keeps all predictors. Helps handle multicollinearity.\n",
        "\n",
        "***Elastic Net*** (Combination of L1 and L2):\n",
        "\n",
        "   $$ P(\\boldsymbol{\\beta}) = \\alpha \\sum_{j=1}^p |\\beta_j| + (1 - \\alpha) \\sum_{j=1}^p \\beta_j^2 $$\n",
        "\n",
        "   where $0 \\leq \\alpha \\leq 1$ balances L1 and L2 penalties.\n",
        "\n",
        "\n",
        "Penalized logistic regression maximizes the penalized log-likelihood:\n",
        "\n",
        "$$ \\hat{\\boldsymbol{\\beta}} = \\arg\\max_{\\boldsymbol{\\beta}} \\left( \\ell(\\boldsymbol{\\beta}) - \\lambda \\cdot P(\\boldsymbol{\\beta}) \\right) $$\n",
        "\n",
        "This optimization is performed numerically. In R, packages like `glmnet` handle this process efficiently.\n",
        "\n"
      ],
      "metadata": {
        "id": "CtLe65EWew5t"
      }
    },
    {
      "cell_type": "markdown",
      "source": [
        "### Install rpy2"
      ],
      "metadata": {
        "id": "SDp3ULld8Gb9"
      }
    },
    {
      "cell_type": "code",
      "source": [
        "!pip uninstall rpy2 -y\n",
        "!pip install rpy2==3.5.1\n",
        "%load_ext rpy2.ipython"
      ],
      "metadata": {
        "id": "CiM6y-Mw8AJp",
        "colab": {
          "base_uri": "https://localhost:8080/"
        },
        "outputId": "bb287bd4-a29a-4f76-fca1-f4af8518c983"
      },
      "execution_count": 1,
      "outputs": [
        {
          "output_type": "stream",
          "name": "stdout",
          "text": [
            "Found existing installation: rpy2 3.4.2\n",
            "Uninstalling rpy2-3.4.2:\n",
            "  Successfully uninstalled rpy2-3.4.2\n",
            "Collecting rpy2==3.5.1\n",
            "  Downloading rpy2-3.5.1.tar.gz (201 kB)\n",
            "\u001b[2K     \u001b[90m━━━━━━━━━━━━━━━━━━━━━━━━━━━━━━━━━━━━━━━━\u001b[0m \u001b[32m201.7/201.7 kB\u001b[0m \u001b[31m5.2 MB/s\u001b[0m eta \u001b[36m0:00:00\u001b[0m\n",
            "\u001b[?25h  Preparing metadata (setup.py) ... \u001b[?25l\u001b[?25hdone\n",
            "Requirement already satisfied: cffi>=1.10.0 in /usr/local/lib/python3.11/dist-packages (from rpy2==3.5.1) (1.17.1)\n",
            "Requirement already satisfied: jinja2 in /usr/local/lib/python3.11/dist-packages (from rpy2==3.5.1) (3.1.5)\n",
            "Requirement already satisfied: pytz in /usr/local/lib/python3.11/dist-packages (from rpy2==3.5.1) (2025.1)\n",
            "Requirement already satisfied: tzlocal in /usr/local/lib/python3.11/dist-packages (from rpy2==3.5.1) (5.2)\n",
            "Requirement already satisfied: pycparser in /usr/local/lib/python3.11/dist-packages (from cffi>=1.10.0->rpy2==3.5.1) (2.22)\n",
            "Requirement already satisfied: MarkupSafe>=2.0 in /usr/local/lib/python3.11/dist-packages (from jinja2->rpy2==3.5.1) (3.0.2)\n",
            "Building wheels for collected packages: rpy2\n",
            "  Building wheel for rpy2 (setup.py) ... \u001b[?25l\u001b[?25hdone\n",
            "  Created wheel for rpy2: filename=rpy2-3.5.1-cp311-cp311-linux_x86_64.whl size=314972 sha256=9348ea7bdcb3c2e5a8fafed7cb05cee51a9c7dec023e83931ff02a92150263c3\n",
            "  Stored in directory: /root/.cache/pip/wheels/e9/55/d1/47be85a5f3f1e1f4d1e91cb5e3a4dcb40dd72147f184c5a5ef\n",
            "Successfully built rpy2\n",
            "Installing collected packages: rpy2\n",
            "Successfully installed rpy2-3.5.1\n"
          ]
        }
      ]
    },
    {
      "cell_type": "markdown",
      "source": [
        "### Mount Google Drive"
      ],
      "metadata": {
        "id": "O1zeuaCowiBt"
      }
    },
    {
      "cell_type": "code",
      "source": [
        "from google.colab import drive\n",
        "drive.mount('/content/drive')"
      ],
      "metadata": {
        "colab": {
          "base_uri": "https://localhost:8080/"
        },
        "id": "9J-4ie4bwiJ1",
        "outputId": "3fdc7721-9d1d-4b93-d7a3-fb4fc9716be4"
      },
      "execution_count": 2,
      "outputs": [
        {
          "output_type": "stream",
          "name": "stdout",
          "text": [
            "Mounted at /content/drive\n"
          ]
        }
      ]
    },
    {
      "cell_type": "markdown",
      "source": [
        "## Regularized GLM Regression Model from Scratch\n",
        "\n",
        "To perform regularized regression (Ridge, Lasso, and Elastic Net) on synthetic data in R without using any libraries, we need to manually implement each regularization method in the GLM framework. Here’s how to proceed:\n",
        "\n",
        "1.  **Generate synthetic data** with one continuous response variable and four predictors.\n",
        "2.  **Implement the objective functions** for Ridge, Lasso, and Elastic Net.\n",
        "3.  **Optimize the objective functions** manually to fit the models.\n",
        "4.  **Summarize and compare performance** of each model.\n",
        "5.  **Cross-validation** to evaluate model performance."
      ],
      "metadata": {
        "id": "UdMcXPIF4Bly"
      }
    },
    {
      "cell_type": "markdown",
      "source": [
        "### Generate Synthetic Data\n",
        "\n",
        "Let's create synthetic data with one continuous response variable ( y ) and four predictors ( x_1, x_2, x_3, x_4 )."
      ],
      "metadata": {
        "id": "ztl1QBDb4MYe"
      }
    },
    {
      "cell_type": "code",
      "source": [
        "%%R\n",
        "# Set seed for reproducibility\n",
        "set.seed(42)\n",
        "\n",
        "# Generate synthetic data\n",
        "n <- 100  # Number of observations\n",
        "p <- 4    # Number of predictors\n",
        "\n",
        "# Predictor matrix\n",
        "X <- matrix(rnorm(n * p), nrow = n, ncol = p)\n",
        "\n",
        "# Coefficients (true values for generating y)\n",
        "beta_true <- c(3, -2, 0.5, 1.5)\n",
        "\n",
        "# Generate response with some noise\n",
        "y <- X %*% beta_true + rnorm(n)"
      ],
      "metadata": {
        "id": "q82MNCn64Q0w"
      },
      "execution_count": 3,
      "outputs": []
    },
    {
      "cell_type": "markdown",
      "source": [
        "### Define Objective Functions\n",
        "\n",
        "For Ridge, Lasso, and Elastic Net, we define separate objective functions that add the corresponding regularization term to the residual sum of squares.\n",
        "\n",
        "1.  **Ridge** (L2 regularization):\n",
        "\n",
        "  $$  \\mathcal{L}_{\\text{ridge}}(\\beta) = \\sum_{i=1}^n (y_i - X_i \\beta)^2 + \\lambda \\sum_{j=1}^p \\beta_j^2 $$\n",
        "\n",
        "2.  **Lasso** (L1 regularization):\n",
        "\n",
        "  $$  \\mathcal{L}_{\\text{lasso}}(\\beta) = \\sum_{i=1}^n (y_i - X_i \\beta)^2 + \\lambda \\sum_{j=1}^p |\\beta_j  $$\n",
        "\n",
        "3.  **Elastic Net** (combination of L1 and L2 regularization):\n",
        "\n",
        "   $$  \\mathcal{L}_{\\text{elastic net}}(\\beta) = \\sum_{i=1}^n (y_i - X_i \\beta)^2 + \\lambda \\left( \\alpha \\sum_{j=1}^p |\\beta_j| + (1 - \\alpha) \\sum_{j=1}^p \\beta_j^2 \\right) $$\n"
      ],
      "metadata": {
        "id": "4BpOoaj34eBU"
      }
    },
    {
      "cell_type": "markdown",
      "source": [
        "\n",
        "We’ll use gradient descent for optimization. Since Lasso (L1) and Elastic Net involve absolute values, we implement sub-gradient descent to handle them. The `ridge_regression()`, `lasso_regression()`, and `elastic_net()` functions will fit the models using the synthetic data. Gradient descent iteratively updates the coefficients to minimize the objective function by moving in the direction of the negative gradient. The learning rate (`lr`) controls the step size, and the maximum number of iterations (`max_iter`) determines when to stop. The `lambda` parameter controls the strength of regularization, and `alpha` is the mixing parameter for Elastic Net."
      ],
      "metadata": {
        "id": "r8XaCWZH4mvb"
      }
    },
    {
      "cell_type": "code",
      "source": [
        "%%R\n",
        "# Define gradient descent function for each type of regularization\n",
        "\n",
        "# Ridge regression function\n",
        "ridge_regression <- function(X, y, lambda, lr = 0.001, max_iter = 1000) {\n",
        "  beta <- rep(0, ncol(X))\n",
        "  for (iter in 1:max_iter) {\n",
        "    gradient <- -2 * t(X) %*% (y - X %*% beta) / nrow(X) + 2 * lambda * beta\n",
        "    beta <- beta - lr * gradient\n",
        "  }\n",
        "  return(beta)\n",
        "}\n",
        "\n",
        "# Lasso regression function\n",
        "lasso_regression <- function(X, y, lambda, lr = 0.001, max_iter = 1000) {\n",
        "  beta <- rep(0, ncol(X))\n",
        "  for (iter in 1:max_iter) {\n",
        "    gradient <- -2 * t(X) %*% (y - X %*% beta) / nrow(X)\n",
        "    beta <- beta - lr * (gradient + lambda * sign(beta))\n",
        "  }\n",
        "  return(beta)\n",
        "}\n",
        "\n",
        "# Elastic Net function\n",
        "elastic_net <- function(X, y, lambda, alpha, lr = 0.001, max_iter = 1000) {\n",
        "  beta <- rep(0, ncol(X))\n",
        "  for (iter in 1:max_iter) {\n",
        "    gradient <- -2 * t(X) %*% (y - X %*% beta) / nrow(X)\n",
        "    penalty <- alpha * lambda * sign(beta) + (1 - alpha) * lambda * beta\n",
        "    beta <- beta - lr * (gradient + penalty)\n",
        "  }\n",
        "  return(beta)\n",
        "}\n",
        "\n"
      ],
      "metadata": {
        "id": "soSBO_2B4qVv"
      },
      "execution_count": 4,
      "outputs": []
    },
    {
      "cell_type": "markdown",
      "source": [
        "### Fit the Models\n"
      ],
      "metadata": {
        "id": "OVC5oBZg63NU"
      }
    },
    {
      "cell_type": "code",
      "source": [
        "%%R\n",
        "# Set lambda and alpha values\n",
        "lambda <- 0.1\n",
        "alpha <- 0.5  # for Elastic Net\n",
        "\n",
        "# Fit models\n",
        "beta_ridge <- ridge_regression(X, y, lambda)\n",
        "beta_lasso <- lasso_regression(X, y, lambda)\n",
        "beta_elastic_net <- elastic_net(X, y, lambda, alpha)\n",
        "\n",
        "# Combine coefficients into a data frame\n",
        "coef_summary <- data.frame(\n",
        "  Predictor = paste0(\"X\", 1:4),\n",
        "  Ridge = round(beta_ridge, 3),\n",
        "  Lasso = round(beta_lasso, 3),\n",
        "  Elastic_Net = round(beta_elastic_net, 3),\n",
        "  True = beta_true\n",
        ")\n",
        "\n",
        "print(coef_summary)"
      ],
      "metadata": {
        "colab": {
          "base_uri": "https://localhost:8080/"
        },
        "id": "HNijRH1g7Kto",
        "outputId": "1f3dbaff-7ee5-4a30-849d-7bc992f16ef5"
      },
      "execution_count": 5,
      "outputs": [
        {
          "output_type": "stream",
          "name": "stdout",
          "text": [
            "  Predictor  Ridge  Lasso Elastic_Net True\n",
            "1        X1  2.520  2.646       2.625  3.0\n",
            "2        X2 -1.544 -1.611      -1.606 -2.0\n",
            "3        X3  0.290  0.277       0.292  0.5\n",
            "4        X4  1.290  1.334       1.336  1.5\n"
          ]
        }
      ]
    },
    {
      "cell_type": "markdown",
      "source": [
        "### Evaluate Model Performance\n",
        "\n",
        "To evaluate the models, calculate the Mean Squared Error (MSE) between the true response and predicted values."
      ],
      "metadata": {
        "id": "oGXqo7Nc5H1b"
      }
    },
    {
      "cell_type": "code",
      "source": [
        "%%R\n",
        "# Function to calculate MSE\n",
        "mse <- function(y, y_pred) {\n",
        "  mean((y - y_pred)^2)\n",
        "}\n",
        "\n",
        "# Predicted values for each model\n",
        "y_pred_ridge <- X %*% beta_ridge\n",
        "y_pred_lasso <- X %*% beta_lasso\n",
        "y_pred_elastic_net <- X %*% beta_elastic_net\n",
        "\n",
        "# Calculate MSE for each model\n",
        "mse_ridge <- mse(y, y_pred_ridge)\n",
        "mse_lasso <- mse(y, y_pred_lasso)\n",
        "mse_elastic_net <- mse(y, y_pred_elastic_net)\n",
        "\n",
        "# Print MSE results\n",
        "mse_results <- data.frame(\n",
        "  Model = c(\"Ridge\", \"Lasso\", \"Elastic Net\"),\n",
        "  MSE = c(mse_ridge, mse_lasso, mse_elastic_net)\n",
        ")\n",
        "\n",
        "print(mse_results)"
      ],
      "metadata": {
        "colab": {
          "base_uri": "https://localhost:8080/"
        },
        "id": "O3zQorj65WKW",
        "outputId": "77102a94-bd3a-48fb-b2d8-9c2f602a339f"
      },
      "execution_count": 6,
      "outputs": [
        {
          "output_type": "stream",
          "name": "stdout",
          "text": [
            "        Model      MSE\n",
            "1       Ridge 1.760001\n",
            "2       Lasso 1.554133\n",
            "3 Elastic Net 1.570162\n"
          ]
        }
      ]
    },
    {
      "cell_type": "markdown",
      "source": [
        "The outputs from `coef_summary` and `mse_results` give:\n",
        "\n",
        "1.  **Coefficient Summary**: Shows the estimated coefficients for each predictor under Ridge, Lasso, and Elastic Net, along with the true values.\n",
        "2.  **MSE Comparison**: Provides the MSE for each model, indicating how well each regularization approach fits the data. Generally:\n",
        "    -   **Ridge** tends to shrink coefficients smoothly, useful for multicollinear predictors.\n",
        "    -   **Lasso** can zero out coefficients, aiding in feature selection.\n",
        "    -   **Elastic Net** balances between Lasso and Ridge, combining sparsity with smooth shrinkage.\n",
        "\n",
        "These comparisons highlight how each method performs under different conditions and the effect of regularization on coefficient estimates."
      ],
      "metadata": {
        "id": "vJ08RKtk5RRN"
      }
    },
    {
      "cell_type": "markdown",
      "source": [
        "### Cross-validation\n",
        "\n",
        "We'll use $k$-fold cross-validation to evaluate model performance. Each fold will act as validation data once, while the remaining $k−1$ folds will act as training data. After training each model, we’ll calculate the MSE on the validation set and average these MSEs across all folds."
      ],
      "metadata": {
        "id": "Jl2iU6zH5dHO"
      }
    },
    {
      "cell_type": "code",
      "source": [
        "%%R\n",
        "# Cross-validation function\n",
        "cross_validation <- function(X, y, k = 5, lambda = 0.1, alpha = 0.5) {\n",
        "  n <- nrow(X)\n",
        "  indices <- sample(1:n)  # Randomize indices\n",
        "  fold_size <- floor(n / k)\n",
        "\n",
        "  # Initialize MSE storage\n",
        "  mse_ridge <- mse_lasso <- mse_elastic_net <- numeric(k)\n",
        "\n",
        "  # Loop through each fold\n",
        "  for (i in 1:k) {\n",
        "    # Split data into training and validation sets\n",
        "    val_indices <- indices[((i - 1) * fold_size + 1):(i * fold_size)]\n",
        "    train_indices <- setdiff(1:n, val_indices)\n",
        "\n",
        "    X_train <- X[train_indices, ]\n",
        "    y_train <- y[train_indices]\n",
        "    X_val <- X[val_indices, ]\n",
        "    y_val <- y[val_indices]\n",
        "\n",
        "    # Fit each model\n",
        "    beta_ridge <- ridge_regression(X_train, y_train, lambda)\n",
        "    beta_lasso <- lasso_regression(X_train, y_train, lambda)\n",
        "    beta_elastic_net <- elastic_net(X_train, y_train, lambda, alpha)\n",
        "\n",
        "    # Predict on validation set and calculate MSE\n",
        "    y_pred_ridge <- X_val %*% beta_ridge\n",
        "    y_pred_lasso <- X_val %*% beta_lasso\n",
        "    y_pred_elastic_net <- X_val %*% beta_elastic_net\n",
        "\n",
        "    mse_ridge[i] <- mean((y_val - y_pred_ridge)^2)\n",
        "    mse_lasso[i] <- mean((y_val - y_pred_lasso)^2)\n",
        "    mse_elastic_net[i] <- mean((y_val - y_pred_elastic_net)^2)\n",
        "  }\n",
        "\n",
        "  # Return average MSE for each model\n",
        "  return(data.frame(\n",
        "    Model = c(\"Ridge\", \"Lasso\", \"Elastic Net\"),\n",
        "    MSE = c(mean(mse_ridge), mean(mse_lasso), mean(mse_elastic_net))\n",
        "  ))\n",
        "}\n",
        "\n",
        "# Set parameters\n",
        "lambda <- 0.1\n",
        "alpha <- 0.5\n",
        "k <- 5  # Number of folds\n",
        "\n",
        "# Perform cross-validation\n",
        "cv_results <- cross_validation(X, y, k, lambda, alpha)\n",
        "print(cv_results)"
      ],
      "metadata": {
        "colab": {
          "base_uri": "https://localhost:8080/"
        },
        "id": "uRm4jHSs5d2s",
        "outputId": "1d851d4e-d67c-4321-8384-54b61f4f788f"
      },
      "execution_count": 7,
      "outputs": [
        {
          "output_type": "stream",
          "name": "stdout",
          "text": [
            "        Model      MSE\n",
            "1       Ridge 2.193662\n",
            "2       Lasso 1.969980\n",
            "3 Elastic Net 1.981856\n"
          ]
        }
      ]
    },
    {
      "cell_type": "markdown",
      "source": [
        "The output `cv_results` will contain the average MSE across all folds for each model (Ridge, Lasso, Elastic Net). Comparing these values allows us to determine which regularization method performs best with this synthetic data."
      ],
      "metadata": {
        "id": "DZb2rdMl5kZj"
      }
    },
    {
      "cell_type": "markdown",
      "source": [
        "## Regularized GLM Regression Model in R\n",
        "\n",
        "To fit a Regularized Generalized Linear Model (GLM) with a Gaussian distribution (equivalent to linear regression) in R, we will use {glmnet} package. It is a highly versatile R package that can be utilized to fit Generalized Linear Models with regularization. It specializes in Lasso (L1) and Ridge (L2) regularization techniques, making it an ideal tool for dealing with high-dimensional data where the number of predictors exceeds the number of observations or when multicollinearity poses a challenge.\n",
        "\n",
        "\n",
        "This package offers efficient algorithms for fitting penalized regression models, including the elastic net - a combination of Lasso and Ridge regression. Additionally, {glmnet} provides functions for cross-validation to identify the best regularization parameter and for extracting fitted model coefficients. \"glmnet\" is widely used in fields such as machine learning, statistics, and data science. It is an excellent choice for feature selection, prediction, and variable importance assessment tasks.\n",
        "\n",
        "When working with {glmnet}, users can utilize various arguments to adjust the fitting process to their needs. This flexibility allows for a more tailored approach to the analysis and can lead to more accurate results. To help with this customization, we have outlined some of the most commonly used arguments below. However, for a more comprehensive understanding of the {glmnet} package and its capabilities, we recommend referring to the official documentation by typing `?glmnet`.\n",
        "\n",
        "``` r\n",
        " glmnet(x, y, alpha = 1, lambda = NULL)\n",
        "```\n",
        "\n",
        "-   `x`: matrix of predictor variables\n",
        "\n",
        "-   `y`: the response or outcome variable, which is a binary variable.\n",
        "\n",
        "-   `alpha` is for the elastic net mixing parameter α, with range $α∈[0,1].α=1$ is lasso regression (default) and $α=0$ is ridge regression.\n",
        "\n",
        "-   `nlambda` is the number of $λ$ values in the sequence (default is 100).\n",
        "\n",
        "-   `lambda` can be provided if the user wants to specify the lambda sequence, but typical usage is for the program to construct the lambda sequence on its own. When automatically generated, the $λ$ sequence is determined by `lambda.max` and `lambda.min.ratio`. The latter is the ratio of smallest value of the generated $λ$ sequence (say `lambda.min`) to `lambda.max`. The program generates `nlambda` values linear on the log scale from `lambda.max` down to `lambda.min`. `lambda.max` is not user-specified but is computed from the input $x$ and $y$: it is the smallest value for `lambda` such that all the coefficients are zero. For `alpha = 0` (ridge) `lambda.max` would be $∞$: in this case we pick a value corresponding to a small value for `alpha` close to zero.)\n",
        "\n",
        "-   `standardize` is a logical flag for `x` variable standardization prior to fitting the model sequence. The coefficients are always returned on the original scale. Default is `standardize = TRUE`.\n",
        "\n",
        "**K-fold cross-validation** can be performed using the `cv.glmnet` function. In addition to all the glmnet parameters, `cv.glmnet` has its special parameters including `nfolds` (the number of folds), (user-supplied folds), and `type.measure` (the loss used for cross-validation): \\`” or “mse” for squared loss, and\n",
        "\n",
        "-   `mae` uses mean absolute error.\n",
        "\n",
        "-   `alpha` is for the elastic net mixing parameter `α`, with range $α∈[0,1].α=1$ is lasso regression (default) and $α=0$ is ridge regression.\n",
        "\n",
        "-   “1”: for lasso regression\n",
        "\n",
        "-   “0”: for ridge regression\n",
        "\n",
        "-   a value between 0 and 1 (say 0.3) for elastic net regression.\n",
        "\n",
        "Here’s a guide on how to fit these models using synthetic data and evaluating the performance."
      ],
      "metadata": {
        "id": "sZM4h2ad5q78"
      }
    },
    {
      "cell_type": "markdown",
      "source": [
        "### Install Rrequired R Packages"
      ],
      "metadata": {
        "id": "yXu-XY0mw1A8"
      }
    },
    {
      "cell_type": "code",
      "source": [
        "%%R\n",
        "packages <- c('tidyverse',\n",
        "     'plyr',\n",
        "\t\t 'ggpmisc',\n",
        "\t\t 'rstatix',\n",
        "\t\t 'ggeffects',\n",
        "\t\t 'patchwork',\n",
        "\t\t 'Metrics',\n",
        "\t\t 'ggpmisc',\n",
        "\t\t 'glmnet',\n",
        "\t\t 'ROCR',\n",
        "\t\t 'pROC'\n",
        "\t  \t)\n"
      ],
      "metadata": {
        "id": "TeYB57l0wz5N"
      },
      "execution_count": 13,
      "outputs": []
    },
    {
      "cell_type": "code",
      "source": [
        "%%R\n",
        "# Install missing packages\n",
        "new.packages <- packages[!(pacakges %in% installed.packages(lib='drive/My Drive/R/')[,\"Package\"])]\n",
        "if(length(new.packages)) install.packages(new.packages, lib='drive/My Drive/R/')"
      ],
      "metadata": {
        "id": "a0aTMYTHAraZ"
      },
      "execution_count": null,
      "outputs": []
    },
    {
      "cell_type": "code",
      "source": [
        "%%R\n",
        "# set library path\n",
        ".libPaths('drive/My Drive/R')\n",
        "# Verify installation\n",
        "cat(\"Installed packages:\\n\")\n",
        "print(sapply(packages, requireNamespace, quietly = TRUE))"
      ],
      "metadata": {
        "colab": {
          "base_uri": "https://localhost:8080/"
        },
        "id": "R9hpg7qnArfh",
        "outputId": "bd0abb2d-0b30-45e1-9e9f-9bcc3332d4c3"
      },
      "execution_count": 10,
      "outputs": [
        {
          "output_type": "stream",
          "name": "stdout",
          "text": [
            "Installed packages:\n"
          ]
        },
        {
          "output_type": "stream",
          "name": "stderr",
          "text": [
            "WARNING:rpy2.rinterface_lib.callbacks:R[write to console]: Registered S3 methods overwritten by 'ggpp':\n",
            "  method                  from   \n",
            "  heightDetails.titleGrob ggplot2\n",
            "  widthDetails.titleGrob  ggplot2\n",
            "\n"
          ]
        },
        {
          "output_type": "stream",
          "name": "stdout",
          "text": [
            "tidyverse      plyr   ggpmisc   rstatix ggeffects patchwork   metrica   Metrics \n",
            "     TRUE      TRUE      TRUE      TRUE      TRUE      TRUE     FALSE      TRUE \n",
            "  ggpmisc    glmnet      ROCR      pROC \n",
            "     TRUE      TRUE      TRUE      TRUE \n"
          ]
        }
      ]
    },
    {
      "cell_type": "markdown",
      "source": [
        "### Load R Packages"
      ],
      "metadata": {
        "id": "MV7R29xfyWQz"
      }
    },
    {
      "cell_type": "code",
      "source": [
        "%%R\n",
        "# set library path\n",
        ".libPaths('drive/My Drive/R')\n",
        "# Load packages with suppressed messages\n",
        "invisible(lapply(packages, function(pkg) {\n",
        "  suppressPackageStartupMessages(library(pkg, character.only = TRUE))\n",
        "}))\n",
        "# Check loaded packages\n",
        "cat(\"Successfully loaded packages:\\n\")\n",
        "print(search()[grepl(\"package:\", search())])# Check loaded packageswer)\n",
        "library(glmnet)"
      ],
      "metadata": {
        "id": "232jNAHBykUL",
        "colab": {
          "base_uri": "https://localhost:8080/"
        },
        "outputId": "bdb7c254-9952-48f5-ae59-6e22a62ed1d7"
      },
      "execution_count": 14,
      "outputs": [
        {
          "output_type": "stream",
          "name": "stdout",
          "text": [
            "Successfully loaded packages:\n",
            " [1] \"package:pROC\"      \"package:ROCR\"      \"package:glmnet\"   \n",
            " [4] \"package:Matrix\"    \"package:Metrics\"   \"package:patchwork\"\n",
            " [7] \"package:ggeffects\" \"package:rstatix\"   \"package:ggpmisc\"  \n",
            "[10] \"package:ggpp\"      \"package:plyr\"      \"package:lubridate\"\n",
            "[13] \"package:forcats\"   \"package:stringr\"   \"package:dplyr\"    \n",
            "[16] \"package:purrr\"     \"package:readr\"     \"package:tidyr\"    \n",
            "[19] \"package:tibble\"    \"package:ggplot2\"   \"package:tidyverse\"\n",
            "[22] \"package:tools\"     \"package:stats\"     \"package:graphics\" \n",
            "[25] \"package:grDevices\" \"package:utils\"     \"package:datasets\" \n",
            "[28] \"package:methods\"   \"package:base\"     \n"
          ]
        }
      ]
    },
    {
      "cell_type": "markdown",
      "source": [
        "### Data\n",
        "\n",
        "Our goal is to develop a regularized logistic model to predict probability of paddy soil arsenic contamination (contaminated and non-contaminated) using selected irrigation water and soil properties. We have available data of 263 paired groundwater and paddy soil samples from arsenic contaminated areas in Tala Upazilla, Satkhira district, Bangladesh. This data was utilized in a publication titled \"Factors Affecting Paddy Soil Arsenic Concentration in Bangladesh: Prediction and Uncertainty of Geostatistical Risk Mapping\" which can be accessed via the this [URL](https://doi.org/10.1016/j.scitotenv.2011.10.008).\n",
        "\n",
        "Full data set is available for download from my [Dropbox](https://www.dropbox.com/scl/fo/2rh6r68i9cxmgortvbw8q/h?rlkey=bvntt66n9mcywprmdki08ch3r&dl=0) or from my [Github](https://github.com/zia207/r-colab/tree/main/Data/Regression_analysis) accounts.\n",
        "\n",
        "\n",
        "We will use `read_csv()` function of **readr** package to import data as a **tidy** data.\n"
      ],
      "metadata": {
        "id": "rSJqB05rO5ES"
      }
    },
    {
      "cell_type": "code",
      "execution_count": 15,
      "metadata": {
        "colab": {
          "base_uri": "https://localhost:8080/"
        },
        "id": "CFpt_H01OPsa",
        "outputId": "a76f32ad-3647-460a-ef83-de1be693543e"
      },
      "outputs": [
        {
          "output_type": "stream",
          "name": "stdout",
          "text": [
            "Rows: 263 Columns: 29\n",
            "── Column specification ────────────────────────────────────────────────────────\n",
            "Delimiter: \",\"\n",
            "chr  (1): Land_type\n",
            "dbl (28): ID, Longitude, Latitude, WAs, WP, WFe, WEc, WpH, WMg, WNa, WCa, WK...\n",
            "\n",
            "ℹ Use `spec()` to retrieve the full column specification for this data.\n",
            "ℹ Specify the column types or set `show_col_types = FALSE` to quiet this message.\n"
          ]
        }
      ],
      "source": [
        "%%R\n",
        "# load data from Github\n",
        "# Load data\n",
        "mf<-read_csv(\"https://github.com/zia207/r-colab/raw/main/Data/Regression_analysis/bd_soil_arsenic.csv\")"
      ]
    },
    {
      "cell_type": "markdown",
      "source": [
        "#### Create a binary response variable\n",
        "\n",
        "The `binary class` typically refers to a classification problem where there are only two possible classes or outcomes. As we see `SAs` is a continuous variable, but we need to convert it into binary class (contaminated and non-contaminated) based on our published paper. The paper suggests that we use the probability of exceeding the upper baseline soil arsenic concentration (14.8 mg/kg) to define soil samples as either As contaminated (`Yes`) or non-contaminated (`No`).\n",
        "\n",
        "Here we will convert `Soil As (SAs)` into two classes- `Yes = Contaminated`and `No = noncontaminated` and create a new binary response variables (`Class_As`) with two levels:\n",
        "\n",
        "Yes = `SAs` \\> 14.8 mg As/kg\n",
        "\n",
        "No = `SAs` \\< 14.8 mg As/kg"
      ],
      "metadata": {
        "id": "Vh_4nTSOBPbT"
      }
    },
    {
      "cell_type": "code",
      "source": [
        "%%R\n",
        "mf$Class_As<- cut(mf$SAs,\n",
        "                   breaks=c(-Inf, 14.8, Inf),\n",
        "                   labels=c(\"0\", \"1\"))\n",
        "mf$Class_As<-as.factor(mf$Class_As)"
      ],
      "metadata": {
        "id": "oQz_eHAmBR-U"
      },
      "execution_count": 16,
      "outputs": []
    },
    {
      "cell_type": "markdown",
      "source": [
        "#### Data Preparation\n",
        "\n",
        "Data preparation is an essential step in the data analysis process. It involves cleaning, transforming, and organizing data to make it suitable for analysis. In this step, we will perform the following tasks:"
      ],
      "metadata": {
        "id": "pcojCvbSBXP4"
      }
    },
    {
      "cell_type": "code",
      "source": [
        "%%R\n",
        "df <- mf |>\n",
        "  # select variables\n",
        "  dplyr::select (WAs,  WFe,\n",
        "                SAoFe, SOC,\n",
        "                Year_Irrigation, Distance_STW,\n",
        "                Land_type, Class_As) |>\n",
        "   # convert to factor\n",
        "   dplyr::mutate_at(vars(Land_type), funs(factor))  |>\n",
        "   dplyr::mutate_at(vars(Class_As), funs(factor))  |>\n",
        "   # normalize the all numerical features\n",
        "   #dplyr::mutate_at(1:6,  funs((.-min(.))/max(.-min(.)))) |>\n",
        "   glimpse()"
      ],
      "metadata": {
        "colab": {
          "base_uri": "https://localhost:8080/"
        },
        "id": "q4hhgdlLBZgm",
        "outputId": "ea6923dc-506d-4493-8ef4-4eaa9bc5b935"
      },
      "execution_count": 17,
      "outputs": [
        {
          "output_type": "stream",
          "name": "stdout",
          "text": [
            "Rows: 263\n",
            "Columns: 8\n",
            "$ WAs             <dbl> 0.059, 0.059, 0.079, 0.122, 0.072, 0.042, 0.075, 0.064…\n",
            "$ WFe             <dbl> 3.44, 4.93, 9.70, 8.58, 4.78, 6.95, 7.81, 8.14, 8.99, …\n",
            "$ SAoFe           <dbl> 2500, 2670, 2160, 2500, 2060, 2500, 2520, 2140, 2150, …\n",
            "$ SOC             <dbl> 1.66, 1.26, 1.36, 1.61, 1.26, 1.74, 1.71, 1.69, 1.41, …\n",
            "$ Year_Irrigation <dbl> 14, 20, 10, 8, 10, 9, 8, 10, 8, 2, 20, 4, 15, 10, 5, 4…\n",
            "$ Distance_STW    <dbl> 5, 6, 5, 8, 5, 5, 10, 8, 10, 8, 5, 5, 9, 5, 10, 10, 12…\n",
            "$ Land_type       <fct> MHL, MHL, MHL, MHL, MHL, MHL, MHL, MHL, MHL, MHL, MHL,…\n",
            "$ Class_As        <fct> 1, 1, 1, 1, 1, 1, 1, 1, 1, 0, 1, 0, 1, 1, 0, 1, 0, 0, …\n"
          ]
        }
      ]
    },
    {
      "cell_type": "markdown",
      "source": [
        "### Split data into training and test\n",
        "\n",
        "Split the data into training and test sets. We will use 70% of the data for training and 30% for testing. The `ddply()` function from the `plyr` package is used to split the data by the `Land_type` and `Class_As` variables."
      ],
      "metadata": {
        "id": "kK6jj2ZtBcNP"
      }
    },
    {
      "cell_type": "code",
      "source": [
        "%%R\n",
        "seeds = 11076\n",
        "tr_prop = 0.70\n",
        "# training data (70% data)\n",
        "train= plyr::ddply(df,.(Land_type, Class_As),\n",
        "                 function(., seed) { set.seed(seed); .[sample(1:nrow(.), trunc(nrow(.) * tr_prop)), ] }, seed = 101)\n",
        "test = plyr::ddply(df, .(Land_type, Class_As),\n",
        "            function(., seed) { set.seed(seed); .[-sample(1:nrow(.), trunc(nrow(.) * tr_prop)), ] }, seed = 101)"
      ],
      "metadata": {
        "id": "TuIIZ-40BdCf"
      },
      "execution_count": 18,
      "outputs": []
    },
    {
      "cell_type": "markdown",
      "source": [
        "### Create x and y\n",
        "\n",
        "You need to create two objects:\n",
        "\n",
        "-   `y` for storing the outcome variable\n",
        "-   `x` for holding the predictor variables. This should be created using the function model.matrix() allowing to automatically transform any qualitative variables (if any) into dummy variables, which is important because `glmnet()` can only take numerical, quantitative inputs. After creating the model matrix, we remove the intercept component at index = 1.\n"
      ],
      "metadata": {
        "id": "Rvqt4gIoBiip"
      }
    },
    {
      "cell_type": "code",
      "source": [
        "%%R\n",
        "# Predictor variables\n",
        "x.train <- model.matrix(Class_As~., train)[,-1]\n",
        "# Outcome variable\n",
        "y.train <-train$Class_As"
      ],
      "metadata": {
        "id": "yGNM8SyaBjRH"
      },
      "execution_count": 19,
      "outputs": []
    },
    {
      "cell_type": "markdown",
      "source": [
        "`model.matrix()` when you get \"error in evaluating the argument 'x' in selecting a method for function 'as.matrix'\". For some reason glmnet prefers `data.matrix()` to `as.matrix()`"
      ],
      "metadata": {
        "id": "u5ulfUFxBnqH"
      }
    },
    {
      "cell_type": "markdown",
      "source": [
        "### Ridge Regression\n",
        "\n",
        "Ridge regression is a type of linear regression that uses L2 regularization to shrink the regression coefficients towards zero. This helps to prevent overfitting and improve the model's generalization performance. The `glmnet` package in R provides efficient functions for fitting ridge regression models.\n"
      ],
      "metadata": {
        "id": "fHm2C5TnBsud"
      }
    },
    {
      "cell_type": "markdown",
      "source": [
        "#### Cross-validation for the best lambda\n",
        "\n",
        "Now we can apply `cv.glmnet()` function for cross-validation to choose the best lambda (regularization parameter). For example, suppose we designate $α$=0 for ridge regression and specify `nlambda` as 200. This implies that the model fit will be calculated solely for 200 $λ$ values."
      ],
      "metadata": {
        "id": "r5LeS0MoBwAo"
      }
    },
    {
      "cell_type": "code",
      "source": [
        "%%R\n",
        "# cross validation\n",
        "ridge.cv <- cv.glmnet(x= x.train,\n",
        "                       y= y.train,\n",
        "                       type.measure=\"deviance\",\n",
        "                       nfold = 5,\n",
        "                       alpha=0,\n",
        "                       family=\"binomial\",\n",
        "                       nlambda=200,\n",
        "                       standardize = TRUE)"
      ],
      "metadata": {
        "id": "FlheLU85BtdR"
      },
      "execution_count": 20,
      "outputs": []
    },
    {
      "cell_type": "markdown",
      "source": [
        "Printing the resulting object gives some basic information on the cross-validation performed:"
      ],
      "metadata": {
        "id": "d16Oa5XtB23a"
      }
    },
    {
      "cell_type": "code",
      "source": [
        "%%R\n",
        "print(ridge.cv)"
      ],
      "metadata": {
        "colab": {
          "base_uri": "https://localhost:8080/"
        },
        "id": "eOd4ugV6B4_r",
        "outputId": "0e467797-52ec-40e7-fb34-fd328ce509ae"
      },
      "execution_count": 21,
      "outputs": [
        {
          "output_type": "stream",
          "name": "stdout",
          "text": [
            "\n",
            "Call:  cv.glmnet(x = x.train, y = y.train, type.measure = \"deviance\",      nfolds = 5, alpha = 0, family = \"binomial\", nlambda = 200,      standardize = TRUE) \n",
            "\n",
            "Measure: Binomial Deviance \n",
            "\n",
            "     Lambda Index Measure      SE Nonzero\n",
            "min 0.02984   192  0.8800 0.04925       7\n",
            "1se 0.15079   157  0.9266 0.03374       7\n"
          ]
        }
      ]
    },
    {
      "cell_type": "markdown",
      "source": [
        "We can plot `ridge.cv` object to see how each tested lambda value performed:"
      ],
      "metadata": {
        "id": "xW_k75k-B8Xr"
      }
    },
    {
      "cell_type": "code",
      "source": [
        "%%R -w 500 -h 450 -u px\n",
        "plot(ridge.cv)"
      ],
      "metadata": {
        "colab": {
          "base_uri": "https://localhost:8080/",
          "height": 467
        },
        "id": "uJAWf0_rCBRY",
        "outputId": "0d87a4fa-dbab-4f9b-ce1c-44eefdf1659c"
      },
      "execution_count": 23,
      "outputs": [
        {
          "output_type": "display_data",
          "data": {
            "image/png": "[encoded data removed]"
          },
          "metadata": {}
        }
      ]
    },
    {
      "cell_type": "markdown",
      "source": [
        "Generally, the purpose of regularization is to balance accuracy and simplicity. This means, a model with the smallest number of predictors that also gives a good accuracy. To this end, the function `cv.glmnet()` finds also the value of lambda that gives the simplest model but also lies within one standard error of the optimal value of lambda. This value is called `lambda.1se`."
      ],
      "metadata": {
        "id": "xsa-TcGYCLN6"
      }
    },
    {
      "cell_type": "markdown",
      "source": [
        "#### Fit ridge regression\n",
        "\n",
        "Now Fit the final model with the best \"lambda\":"
      ],
      "metadata": {
        "id": "lg_ZD97uCOuq"
      }
    },
    {
      "cell_type": "code",
      "source": [
        "%%R\n",
        "# fit ridge regression\n",
        "ridge.fit <-  glmnet(x= x.train,\n",
        "                       y= y.train,\n",
        "                       alpha=0,\n",
        "                       lambda = ridge.cv$lambda.1se,\n",
        "                       family = \"binomial\",\n",
        "                       nlambda=200,\n",
        "                       standardize = TRUE)"
      ],
      "metadata": {
        "id": "oJ4JpXtHCROk"
      },
      "execution_count": 24,
      "outputs": []
    },
    {
      "cell_type": "code",
      "source": [
        "# Display regression coefficients\n",
        "coef(ridge.fit )"
      ],
      "metadata": {
        "id": "I9AljYfjCU6X"
      },
      "execution_count": null,
      "outputs": []
    },
    {
      "cell_type": "markdown",
      "source": [
        "#### Prediction on test data\n",
        "\n",
        "Prediction at this stage is done on the test data. We will use the `predict()` function to make predictions on the test data. The `type=\"response\"` argument is used to get the predicted probabilities. We will also create a new column `Class_Prob_50` to store the predicted class based on a threshold of 0.5."
      ],
      "metadata": {
        "id": "iROZ3dn2CYvE"
      }
    },
    {
      "cell_type": "code",
      "source": [
        "%%R\n",
        "# Make predictions on the test data\n",
        "x.test <- model.matrix(Class_As~., test)[,-1]\n",
        "# Outcome variable\n",
        "y.test <-train$Class_As\n",
        "\n",
        "# Prediction\n",
        "ridge.pred<-as.data.frame(test$Class_As)\n",
        "ridge.pred$Class_Prob<-ridge.fit  |>\n",
        "      predict(newx = x.test, type=\"response\")\n",
        "ridge.pred$Class_Prob_50<-ifelse(ridge.pred$Class_Prob > 0.5,\"1\",\"0\")\n",
        "ridge.pred <- ridge.pred |>\n",
        "              dplyr::select(\"test$Class_As\", \"Class_Prob_50\") |>\n",
        "              dplyr::rename(Obs_Class = \"test$Class_As\") |>\n",
        "              dplyr::rename(Pred_Class = \"Class_Prob_50\")\n",
        "glimpse(ridge.pred)\n",
        "\n",
        "# ordering the levels\n",
        "ridge.pred$Obs_Class  <- ordered(ridge.pred$Obs_Class, levels = c(\"1\", \"0\"))\n",
        "ridge.pred $Pred_Class <- ordered(ridge.pred$Pred_Class  , levels = c(\"1\", \"0\"))"
      ],
      "metadata": {
        "colab": {
          "base_uri": "https://localhost:8080/"
        },
        "id": "hsCu6dO4CdHZ",
        "outputId": "2c01d86b-e47d-43df-b3d0-89c517126f7e"
      },
      "execution_count": 25,
      "outputs": [
        {
          "output_type": "stream",
          "name": "stdout",
          "text": [
            "Rows: 80\n",
            "Columns: 2\n",
            "$ Obs_Class  <fct> 0, 0, 0, 0, 0, 0, 0, 0, 0, 0, 0, 0, 0, 0, 0, 0, 0, 0, 0, 0,…\n",
            "$ Pred_Class <chr[,1]> \"1\", \"0\", \"0\", \"0\", \"0\", \"0\", \"1\", \"1\", \"0\", \"1\", \"0\", …\n"
          ]
        }
      ]
    },
    {
      "cell_type": "markdown",
      "source": [
        "#### Model performance\n",
        "\n",
        "Following function can be used to evaluate the model performance using accuracy, error rate, and confusion matrix:"
      ],
      "metadata": {
        "id": "U8Fg-SHOCgDR"
      }
    },
    {
      "cell_type": "code",
      "source": [
        "%%R\n",
        "evaluate_classification <- function(observed, predicted) {\n",
        "  # Convert inputs to factors if not already\n",
        "  observed <- as.factor(observed)\n",
        "  predicted <- as.factor(predicted)\n",
        "\n",
        "  # Create a confusion matrix\n",
        "  confusion_matrix <- table(Predicted = predicted, Actual = observed)\n",
        "\n",
        "  # Extract values from confusion matrix\n",
        "  TP <- confusion_matrix[\"1\", \"1\"] # True Positives\n",
        "  TN <- confusion_matrix[\"0\", \"0\"] # True Negatives\n",
        "  FP <- confusion_matrix[\"1\", \"0\"] # False Positives\n",
        "  FN <- confusion_matrix[\"0\", \"1\"] # False Negatives\n",
        "\n",
        "  # Handle cases where confusion matrix values may not exist\n",
        "  TP <- ifelse(is.na(TP), 0, TP)\n",
        "  TN <- ifelse(is.na(TN), 0, TN)\n",
        "  FP <- ifelse(is.na(FP), 0, FP)\n",
        "  FN <- ifelse(is.na(FN), 0, FN)\n",
        "\n",
        "  # Compute metrics\n",
        "  accuracy <- (TP + TN) / (TP + TN + FP + FN)\n",
        "  precision <- ifelse((TP + FP) > 0, TP / (TP + FP), NA)\n",
        "  recall <- ifelse((TP + FN) > 0, TP / (TP + FN), NA)  # Also called sensitivity\n",
        "  specificity <- ifelse((TN + FP) > 0, TN / (TN + FP), NA)\n",
        "  f1_score <- ifelse(!is.na(precision) & !is.na(recall) & (precision + recall) > 0,\n",
        "                     2 * (precision * recall) / (precision + recall), NA)\n",
        "\n",
        "  # Return results as a list\n",
        "  metrics <- list(\n",
        "    ConfusionMatrix = confusion_matrix,\n",
        "    Accuracy = accuracy,\n",
        "    Precision = precision,\n",
        "    Recall = recall,\n",
        "    Specificity = specificity,\n",
        "    F1_Score = f1_score\n",
        "  )\n",
        "\n",
        "  return(metrics)\n",
        "}\n"
      ],
      "metadata": {
        "id": "EckrBhgUCh2V"
      },
      "execution_count": 26,
      "outputs": []
    },
    {
      "cell_type": "code",
      "source": [
        "%%R\n",
        "evaluate_classification(ridge.pred$Obs_Class, ridge.pred$Pred_Class)"
      ],
      "metadata": {
        "colab": {
          "base_uri": "https://localhost:8080/"
        },
        "id": "MJN7IQseCqHj",
        "outputId": "71002252-cabf-49f9-8247-9e6c49590520"
      },
      "execution_count": 27,
      "outputs": [
        {
          "output_type": "stream",
          "name": "stdout",
          "text": [
            "$ConfusionMatrix\n",
            "         Actual\n",
            "Predicted  1  0\n",
            "        1 45 13\n",
            "        0  7 15\n",
            "\n",
            "$Accuracy\n",
            "[1] 0.75\n",
            "\n",
            "$Precision\n",
            "[1] 0.7758621\n",
            "\n",
            "$Recall\n",
            "[1] 0.8653846\n",
            "\n",
            "$Specificity\n",
            "[1] 0.5357143\n",
            "\n",
            "$F1_Score\n",
            "[1] 0.8181818\n",
            "\n"
          ]
        }
      ]
    },
    {
      "cell_type": "markdown",
      "source": [
        "#### ROC Curve\n",
        "\n",
        "ROC curve is a graphical representation of the true positive rate (sensitivity) against the false positive rate (1-specificity). It shows the trade-off between sensitivity and specificity for different threshold values. The area under the ROC curve (AUC) is a measure of the model's performance. A model with an AUC of 1 is perfect, while a model with an AUC of 0.5 is no better than random guessing."
      ],
      "metadata": {
        "id": "AEKIVdlqCvmT"
      }
    },
    {
      "cell_type": "code",
      "source": [
        "%%R -w 500 -h 450 -u px\n",
        "res.roc <- pROC::roc(ridge.pred$Obs_Class, ridge.pred$Pred_Class)\n",
        "plot.roc(res.roc,\n",
        "         print.auc = TRUE,\n",
        "         main= \"Ridge Logistic Model\")"
      ],
      "metadata": {
        "colab": {
          "base_uri": "https://localhost:8080/",
          "height": 536
        },
        "id": "XDtiD1YZCwgy",
        "outputId": "1d159abc-9466-4120-d3e9-72e61a553b3c"
      },
      "execution_count": 28,
      "outputs": [
        {
          "output_type": "stream",
          "name": "stderr",
          "text": [
            "WARNING:rpy2.rinterface_lib.callbacks:R[write to console]: Setting levels: control = 1, case = 0\n",
            "\n",
            "WARNING:rpy2.rinterface_lib.callbacks:R[write to console]: Setting direction: controls > cases\n",
            "\n"
          ]
        },
        {
          "output_type": "display_data",
          "data": {
            "image/png": "[encoded data removed]"
          },
          "metadata": {}
        }
      ]
    },
    {
      "cell_type": "markdown",
      "source": [
        "### LASSO regression\n",
        "\n",
        "LASSO regression is a type of linear regression that uses L1 regularization to shrink the regression coefficients towards zero. This helps to prevent overfitting and improve the model's generalization performance. The `glmnet` package in R provides efficient functions for fitting LASSO regression models."
      ],
      "metadata": {
        "id": "zG2SNYE1C5d0"
      }
    },
    {
      "cell_type": "markdown",
      "source": [
        "#### Cross Validation of the best Lasso regression\n",
        "\n",
        "We can set up our model very similarly to our ridge function. We simply need to change the `alpha`argument to 1 and do K-fold cross-validation:"
      ],
      "metadata": {
        "id": "JOQJa1gwC9is"
      }
    },
    {
      "cell_type": "code",
      "source": [
        "%%R\n",
        "# cross validation\n",
        "lasso.cv <- cv.glmnet(x= x.train,\n",
        "                       y= y.train,\n",
        "                       type.measure=\"mse\",\n",
        "                       nfold = 5,\n",
        "                       alpha=1,\n",
        "                       family=\"binomial\",\n",
        "                       nlambda=200,\n",
        "                       standardize = TRUE)"
      ],
      "metadata": {
        "id": "O3cyePEIC6Nt"
      },
      "execution_count": 29,
      "outputs": []
    },
    {
      "cell_type": "code",
      "source": [
        "%%R\n",
        "print(lasso.cv)"
      ],
      "metadata": {
        "colab": {
          "base_uri": "https://localhost:8080/"
        },
        "id": "AZ7hTkwtDDr1",
        "outputId": "270b75dd-a894-4eed-ee59-c93ada9a2cb9"
      },
      "execution_count": 31,
      "outputs": [
        {
          "output_type": "stream",
          "name": "stdout",
          "text": [
            "\n",
            "Call:  cv.glmnet(x = x.train, y = y.train, type.measure = \"mse\", nfolds = 5,      alpha = 1, family = \"binomial\", nlambda = 200, standardize = TRUE) \n",
            "\n",
            "Measure: Mean-Squared Error \n",
            "\n",
            "     Lambda Index Measure      SE Nonzero\n",
            "min 0.00508    81  0.2783 0.03473       7\n",
            "1se 0.05906    28  0.3117 0.01924       6\n"
          ]
        }
      ]
    },
    {
      "cell_type": "code",
      "source": [
        "%%R -w 500 -h 450 -u px\n",
        "plot(lasso.cv)"
      ],
      "metadata": {
        "colab": {
          "base_uri": "https://localhost:8080/",
          "height": 467
        },
        "id": "sdzAtxcXDG2M",
        "outputId": "d7184656-8add-40ea-9013-b8856f062e54"
      },
      "execution_count": 33,
      "outputs": [
        {
          "output_type": "display_data",
          "data": {
            "image/png": "[encoded data removed]"
          },
          "metadata": {}
        }
      ]
    },
    {
      "cell_type": "code",
      "source": [
        "%%R\n",
        "# Choose lambda with standard error of the minimum\n",
        "lasso.cv$lambda.1se"
      ],
      "metadata": {
        "colab": {
          "base_uri": "https://localhost:8080/"
        },
        "id": "i-TGzHggFTS0",
        "outputId": "9e9eca77-924c-4955-a5a9-81aee9a13b5f"
      },
      "execution_count": 35,
      "outputs": [
        {
          "output_type": "stream",
          "name": "stdout",
          "text": [
            "[1] 0.05906412\n"
          ]
        }
      ]
    },
    {
      "cell_type": "markdown",
      "source": [
        "#### Fit a lasso regression\n",
        "\n",
        "Now Fit the final model with the best \"lambda\":"
      ],
      "metadata": {
        "id": "qx0ZcMflFYkq"
      }
    },
    {
      "cell_type": "code",
      "source": [
        "%%R\n",
        "# fit lasso regression\n",
        "lasso.fit <-  glmnet(x= x.train,\n",
        "                       y= y.train,\n",
        "                       alpha=1,\n",
        "                       lambda = lasso.cv$lambda.1se,\n",
        "                       family=\"binomial\",\n",
        "                       nlambda=200,\n",
        "                       standardize = TRUE)"
      ],
      "metadata": {
        "id": "I3Ab51nqFZej"
      },
      "execution_count": 36,
      "outputs": []
    },
    {
      "cell_type": "code",
      "source": [
        "%%R\n",
        "print(lasso.fit)"
      ],
      "metadata": {
        "colab": {
          "base_uri": "https://localhost:8080/"
        },
        "id": "MDBzJvPBFfzC",
        "outputId": "6b9be2ff-e4c8-4475-8e81-0f7e0dc6dfc9"
      },
      "execution_count": 37,
      "outputs": [
        {
          "output_type": "stream",
          "name": "stdout",
          "text": [
            "\n",
            "Call:  glmnet(x = x.train, y = y.train, family = \"binomial\", alpha = 1,      nlambda = 200, lambda = lasso.cv$lambda.1se, standardize = TRUE) \n",
            "\n",
            "  Df  %Dev  Lambda\n",
            "1  6 30.83 0.05906\n"
          ]
        }
      ]
    },
    {
      "cell_type": "markdown",
      "source": [
        "Finally we will extract the coefficients for the selected $λ$ using `coef()` function:"
      ],
      "metadata": {
        "id": "YbUphhhEFjs9"
      }
    },
    {
      "cell_type": "code",
      "source": [
        "%%R\n",
        "coef(lasso.fit)"
      ],
      "metadata": {
        "colab": {
          "base_uri": "https://localhost:8080/"
        },
        "id": "XwvElBJrFkcK",
        "outputId": "5f196421-d6a9-4307-f9b8-ea8890792637"
      },
      "execution_count": 38,
      "outputs": [
        {
          "output_type": "stream",
          "name": "stdout",
          "text": [
            "8 x 1 sparse Matrix of class \"dgCMatrix\"\n",
            "                          s0\n",
            "(Intercept)     -2.115990618\n",
            "WAs              4.066476107\n",
            "WFe              0.125839634\n",
            "SAoFe            .          \n",
            "SOC              0.111318058\n",
            "Year_Irrigation  0.146725917\n",
            "Distance_STW    -0.002809843\n",
            "Land_typeMHL     0.870813521\n"
          ]
        }
      ]
    },
    {
      "cell_type": "markdown",
      "source": [
        "#### Prediction test data"
      ],
      "metadata": {
        "id": "2b-ULWT9FpxF"
      }
    },
    {
      "cell_type": "code",
      "source": [
        "%%R\n",
        "# Make predictions on the test data\n",
        "x.test <- model.matrix(Class_As~., test)[,-1]\n",
        "# Outcome variable\n",
        "y.test <-train$Class_As\n",
        "\n",
        "# Prediction\n",
        "lasso.pred<-as.data.frame(test$Class_As)\n",
        "lasso.pred$Class_Prob<-lasso.fit  |>\n",
        "      predict(newx = x.test, type=\"response\")\n",
        "lasso.pred$Class_Prob_50<-ifelse(lasso.pred$Class_Prob > 0.5,\"1\",\"0\")\n",
        "lasso.pred <- lasso.pred |>\n",
        "              dplyr::select(\"test$Class_As\", \"Class_Prob_50\") |>\n",
        "              dplyr::rename(Obs_Class = \"test$Class_As\") |>\n",
        "              dplyr::rename(Pred_Class = \"Class_Prob_50\")\n",
        "glimpse(lasso.pred)\n",
        "\n",
        "# ordering the levels\n",
        "lasso.pred$Obs_Class  <- ordered(lasso.pred$Obs_Class, levels = c(\"1\", \"0\"))\n",
        "lasso.pred $Pred_Class <- ordered(lasso.pred$Pred_Class  , levels = c(\"1\", \"0\"))"
      ],
      "metadata": {
        "colab": {
          "base_uri": "https://localhost:8080/"
        },
        "id": "6VdKQ_IoFqd5",
        "outputId": "a0feda24-1457-4a4d-d853-6de0ae038ac9"
      },
      "execution_count": 39,
      "outputs": [
        {
          "output_type": "stream",
          "name": "stdout",
          "text": [
            "Rows: 80\n",
            "Columns: 2\n",
            "$ Obs_Class  <fct> 0, 0, 0, 0, 0, 0, 0, 0, 0, 0, 0, 0, 0, 0, 0, 0, 0, 0, 0, 0,…\n",
            "$ Pred_Class <chr[,1]> \"1\", \"0\", \"0\", \"0\", \"0\", \"0\", \"1\", \"0\", \"0\", \"1\", \"0\", …\n"
          ]
        }
      ]
    },
    {
      "cell_type": "markdown",
      "source": [
        "#### Model performance"
      ],
      "metadata": {
        "id": "wlBq1ldFFv_T"
      }
    },
    {
      "cell_type": "code",
      "source": [
        "%%R\n",
        "evaluate_classification(lasso.pred$Obs_Class, lasso.pred$Pred_Class)"
      ],
      "metadata": {
        "colab": {
          "base_uri": "https://localhost:8080/"
        },
        "id": "jKj4f3KLFw_F",
        "outputId": "15794b20-dd7e-4a39-a0a6-17e67c85ac77"
      },
      "execution_count": 40,
      "outputs": [
        {
          "output_type": "stream",
          "name": "stdout",
          "text": [
            "$ConfusionMatrix\n",
            "         Actual\n",
            "Predicted  1  0\n",
            "        1 46 12\n",
            "        0  6 16\n",
            "\n",
            "$Accuracy\n",
            "[1] 0.775\n",
            "\n",
            "$Precision\n",
            "[1] 0.7931034\n",
            "\n",
            "$Recall\n",
            "[1] 0.8846154\n",
            "\n",
            "$Specificity\n",
            "[1] 0.5714286\n",
            "\n",
            "$F1_Score\n",
            "[1] 0.8363636\n",
            "\n"
          ]
        }
      ]
    },
    {
      "cell_type": "markdown",
      "source": [
        "#### ROC Curve"
      ],
      "metadata": {
        "id": "JvgjPjz5F78U"
      }
    },
    {
      "cell_type": "code",
      "source": [
        "%%R -w 500 -h 450 -u px\n",
        "# Compute roc\n",
        "library(pROC)\n",
        "res.roc <- pROC::roc(lasso.pred$Obs_Class, lasso.pred$Pred_Class)\n",
        "plot.roc(res.roc,\n",
        "         print.auc = TRUE,\n",
        "         main= \"Lasso Logistic Model\")"
      ],
      "metadata": {
        "colab": {
          "base_uri": "https://localhost:8080/",
          "height": 536
        },
        "id": "NsmkHW9WF2dL",
        "outputId": "22274b3a-fdb1-4aad-dd3d-9a9e0de1b9da"
      },
      "execution_count": 41,
      "outputs": [
        {
          "output_type": "stream",
          "name": "stderr",
          "text": [
            "WARNING:rpy2.rinterface_lib.callbacks:R[write to console]: Setting levels: control = 1, case = 0\n",
            "\n",
            "WARNING:rpy2.rinterface_lib.callbacks:R[write to console]: Setting direction: controls > cases\n",
            "\n"
          ]
        },
        {
          "output_type": "display_data",
          "data": {
            "image/png": "[encoded data removed]"
          },
          "metadata": {}
        }
      ]
    },
    {
      "cell_type": "markdown",
      "source": [
        "### Elastic Net Regression\n",
        "\n",
        "Elastic Net regression is a combination of L1 (LASSO) and L2 (Ridge) regularization. It provides a balance between feature selection and coefficient shrinkage. The `glmnet` package in R provides efficient functions for fitting Elastic Net regression models."
      ],
      "metadata": {
        "id": "vXNmFFD7F-pQ"
      }
    },
    {
      "cell_type": "markdown",
      "source": [
        "#### Cross Validation of the best Elastic Net regression\n",
        "\n",
        "We can set up our model very similarly to our ridge function. We simply need to change the `alpha`argument to a value between 0 and 1 and do K-fold cross-validation:"
      ],
      "metadata": {
        "id": "YzECmJPLGBDA"
      }
    },
    {
      "cell_type": "code",
      "source": [
        "%%R\n",
        "# Define hyperparameter grid\n",
        "alphas <- seq(0, 1, by = 0.1)                   # Grid for alpha\n",
        "lambda_seq <- 10^seq(3, -3, length = 100)       # Grid for lambda\n",
        "\n",
        "# To store results\n",
        "results <- data.frame(alpha = numeric(), lambda = numeric(), error = numeric())\n",
        "\n",
        "# Perform grid search\n",
        "for (a in alphas) {\n",
        "  # Fit glmnet model for each alpha\n",
        "  cv_fit <- cv.glmnet(x.train, y.train, family = \"binomial\", alpha = a, lambda = lambda_seq, type.measure = \"class\")\n",
        "\n",
        "  # Extract best lambda and error for the current alpha\n",
        "  best_lambda <- cv_fit$lambda.min\n",
        "  best_error <- min(cv_fit$cvm)  # Minimum cross-validation error\n",
        "\n",
        "  # Store results\n",
        "  results <- rbind(results, data.frame(alpha = a, lambda = best_lambda, error = best_error))\n",
        "}\n",
        "\n",
        "# Print results\n",
        "print(results)\n",
        "\n",
        "\n",
        "best_params <- results[which.min(results$error), ]\n",
        "print(best_params)\n",
        "\n",
        "# Refit the final model with optimal parameters\n",
        "enet.fit <- glmnet(x.train, y.train, family = \"binomial\", alpha = best_params$alpha, lambda = best_params$lambda)\n",
        "\n",
        "# View coefficients\n",
        "print(coef(enet.fit))"
      ],
      "metadata": {
        "colab": {
          "base_uri": "https://localhost:8080/"
        },
        "id": "1eBQ-DZ3GGL7",
        "outputId": "02abb729-ce1c-4e17-dd4a-a0b24f10b4a9"
      },
      "execution_count": 43,
      "outputs": [
        {
          "output_type": "stream",
          "name": "stdout",
          "text": [
            "   alpha     lambda     error\n",
            "1    0.0 0.07564633 0.2021858\n",
            "2    0.1 0.06579332 0.1803279\n",
            "3    0.2 0.03274549 0.1857923\n",
            "4    0.3 0.02848036 0.1803279\n",
            "5    0.4 0.04328761 0.1803279\n",
            "6    0.5 0.05722368 0.1912568\n",
            "7    0.6 0.02848036 0.1857923\n",
            "8    0.7 0.02477076 0.1803279\n",
            "9    0.8 0.02848036 0.1803279\n",
            "10   0.9 0.04328761 0.1803279\n",
            "11   1.0 0.02848036 0.1857923\n",
            "  alpha     lambda     error\n",
            "2   0.1 0.06579332 0.1803279\n",
            "8 x 1 sparse Matrix of class \"dgCMatrix\"\n",
            "                           s0\n",
            "(Intercept)     -3.255323e+00\n",
            "WAs              6.046513e+00\n",
            "WFe              1.964624e-01\n",
            "SAoFe            5.624383e-06\n",
            "SOC              6.730575e-01\n",
            "Year_Irrigation  1.585023e-01\n",
            "Distance_STW    -3.348883e-02\n",
            "Land_typeMHL     8.921267e-01\n"
          ]
        }
      ]
    },
    {
      "cell_type": "markdown",
      "source": [
        "#### Prediction test data\n",
        "\n",
        "Prediction at this stage is done on the test data. We will use the `predict()` function to make predictions on the test data. The `type=\"response\"` argument is used to get the predicted probabilities. We will also create a new column `Class_Prob_50` to store the predicted class based on a threshold of 0.5."
      ],
      "metadata": {
        "id": "p6ytxv_4GKsK"
      }
    },
    {
      "cell_type": "code",
      "source": [
        "%%R\n",
        "# Make predictions on the test data\n",
        "x.test <- model.matrix(Class_As~., test)[,-1]\n",
        "# Outcome variable\n",
        "y.test <-train$Class_As\n",
        "\n",
        "# Prediction\n",
        "enet.pred<-as.data.frame(test$Class_As)\n",
        "enet.pred$Class_Prob<-enet.fit  |>\n",
        "      predict(newx = x.test, type=\"response\")\n",
        "enet.pred$Class_Prob_50<-ifelse(enet.pred$Class_Prob > 0.5,\"1\",\"0\")\n",
        "enet.pred <- enet.pred |>\n",
        "              dplyr::select(\"test$Class_As\", \"Class_Prob_50\") |>\n",
        "              dplyr::rename(Obs_Class = \"test$Class_As\") |>\n",
        "              dplyr::rename(Pred_Class = \"Class_Prob_50\")\n",
        "glimpse(enet.pred)\n",
        "\n",
        "# ordering the levels\n",
        "enet.pred$Obs_Class  <- ordered(enet.pred$Obs_Class, levels = c(\"1\", \"0\"))\n",
        "enet.pred $Pred_Class <- ordered(enet.pred$Pred_Class  , levels = c(\"1\", \"0\"))"
      ],
      "metadata": {
        "colab": {
          "base_uri": "https://localhost:8080/"
        },
        "id": "StUNSB_CGOYs",
        "outputId": "7c4b7a30-865e-4ed7-9840-30fd4fe08abc"
      },
      "execution_count": 44,
      "outputs": [
        {
          "output_type": "stream",
          "name": "stdout",
          "text": [
            "Rows: 80\n",
            "Columns: 2\n",
            "$ Obs_Class  <fct> 0, 0, 0, 0, 0, 0, 0, 0, 0, 0, 0, 0, 0, 0, 0, 0, 0, 0, 0, 0,…\n",
            "$ Pred_Class <chr[,1]> \"1\", \"0\", \"0\", \"0\", \"0\", \"0\", \"1\", \"1\", \"0\", \"1\", \"0\", …\n"
          ]
        }
      ]
    },
    {
      "cell_type": "markdown",
      "source": [
        "#### Model performance"
      ],
      "metadata": {
        "id": "aWdzJk_9GU3q"
      }
    },
    {
      "cell_type": "code",
      "source": [
        "%%R\n",
        "evaluate_classification (enet.pred$Obs_Class , enet.pred$Pred_Class)"
      ],
      "metadata": {
        "colab": {
          "base_uri": "https://localhost:8080/"
        },
        "id": "7VYGxh3YGSdy",
        "outputId": "3bd4bca1-978d-4376-f1b1-357fbd108a71"
      },
      "execution_count": 45,
      "outputs": [
        {
          "output_type": "stream",
          "name": "stdout",
          "text": [
            "$ConfusionMatrix\n",
            "         Actual\n",
            "Predicted  1  0\n",
            "        1 44 12\n",
            "        0  8 16\n",
            "\n",
            "$Accuracy\n",
            "[1] 0.75\n",
            "\n",
            "$Precision\n",
            "[1] 0.7857143\n",
            "\n",
            "$Recall\n",
            "[1] 0.8461538\n",
            "\n",
            "$Specificity\n",
            "[1] 0.5714286\n",
            "\n",
            "$F1_Score\n",
            "[1] 0.8148148\n",
            "\n"
          ]
        }
      ]
    },
    {
      "cell_type": "markdown",
      "source": [
        "#### ROC Curve\n",
        "\n",
        "ROC curve is a graphical representation of the true positive rate (sensitivity) against the false positive rate (1-specificity). It shows the trade-off between sensitivity and specificity for different threshold values. The area under the ROC curve (AUC) is a measure of the model's performance. A model with an AUC of 1 is perfect, while a model with an AUC of 0.5 is no better than random guessing."
      ],
      "metadata": {
        "id": "dpkQJ1B7GW26"
      }
    },
    {
      "cell_type": "code",
      "source": [
        "%%R -w 500 -h 450 -u px\n",
        "# Compute roc\n",
        "#library(pROC)\n",
        "enet.roc <- pROC::roc(enet.pred$Obs_Class, enet.pred$Pred_Class)\n",
        "plot.roc(enet.roc,\n",
        "         print.auc = TRUE,\n",
        "         main= \"Elastic Net Logistic Model\")"
      ],
      "metadata": {
        "colab": {
          "base_uri": "https://localhost:8080/",
          "height": 536
        },
        "id": "mipepjAtGbK5",
        "outputId": "6e495bef-bf7f-43be-f214-88e4559200f1"
      },
      "execution_count": 46,
      "outputs": [
        {
          "output_type": "stream",
          "name": "stderr",
          "text": [
            "WARNING:rpy2.rinterface_lib.callbacks:R[write to console]: Setting levels: control = 1, case = 0\n",
            "\n",
            "WARNING:rpy2.rinterface_lib.callbacks:R[write to console]: Setting direction: controls > cases\n",
            "\n"
          ]
        },
        {
          "output_type": "display_data",
          "data": {
            "image/png": "[encoded data removed]"
          },
          "metadata": {}
        }
      ]
    },
    {
      "cell_type": "markdown",
      "source": [
        "## Summary and Conclusion\n",
        "\n",
        "In this tutorial, we explored regularized logistic regression, using the **glmnet** packags in R. This package ise useful for building robust classifiers for binary classification tasks with regularization. Here, we focused on `lasso` and `ridge` models, using `alpha = 1` and `alpha = 0`, respectively. For `elastic net` regression, you need to choose an alpha value somewhere between `0 and 1`. This can be parameter tuning using grid search with the **caret** or **h20** packages (please see Machine Learning chapter)."
      ],
      "metadata": {
        "id": "Nb0kdVIuGlK7"
      }
    },
    {
      "cell_type": "code",
      "source": [
        "## References\n",
        "\n",
        "1.  [Ridge and Lasso in R](https://www.datacareer.ch/blog/ridge-and-lasso-in-r/)\n",
        "\n",
        "2.  [Penalized Logistic Regression Essentials in R: Ridge, Lasso and Elastic Net](http://www.sthda.com/english/articles/36-classification-methods-essentials/149-penalized-logistic-regression-essentials-in-r-ridge-lasso-and-elastic-net/)"
      ],
      "metadata": {
        "id": "q1tPDtZdGl6T"
      },
      "execution_count": null,
      "outputs": []
    }
  ]
}