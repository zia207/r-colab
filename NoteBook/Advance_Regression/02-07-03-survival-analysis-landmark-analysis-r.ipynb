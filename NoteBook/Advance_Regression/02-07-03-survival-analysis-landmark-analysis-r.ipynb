{
  "nbformat": 4,
  "nbformat_minor": 0,
  "metadata": {
    "colab": {
      "provenance": [],
      "toc_visible": true,
      "authorship_tag": "ABX9TyPFlfT+mqJoQrBuvowdUHwB",
      "include_colab_link": true
    },
    "kernelspec": {
      "name": "python3",
      "display_name": "Python 3"
    },
    "language_info": {
      "name": "python"
    }
  },
  "cells": [
    {
      "cell_type": "markdown",
      "metadata": {
        "id": "view-in-github",
        "colab_type": "text"
      },
      "source": [
        "<a href=\"https://colab.research.google.com/github/zia207/r-colab/blob/main/NoteBook/Advance_Regression/02-07-03-survival-analysis-landmark-analysis-r.ipynb\" target=\"_parent\"><img src=\"https://colab.research.google.com/assets/colab-badge.svg\" alt=\"Open In Colab\"/></a>"
      ]
    },
    {
      "cell_type": "markdown",
      "source": [
        "![alt text](http://drive.google.com/uc?export=view&id=1bLQ3nhDbZrCCqy_WCxxckOne2lgVvn3l)"
      ],
      "metadata": {
        "id": "PYplqK-VsB8E"
      }
    },
    {
      "cell_type": "markdown",
      "source": [
        "# 4. Landmark Analysis"
      ],
      "metadata": {
        "id": "k_8T6NOosR51"
      }
    },
    {
      "cell_type": "markdown",
      "source": [
        "## Introduction\n",
        "\n",
        "**Landmark analysis** is a method that involves selecting a time point during a follow-up period and only analyzing subjects who have survived until that time. It's used to avoid survival bias, or immortal time bias, which can occur when time-dependent events are incorrectly analyzed\n",
        "\n",
        "***Key Concepts of Landmark Analysis***:\n",
        "\n",
        "Here are some key points about landmark analysis:\n",
        "\n",
        "**Landmark time**: A fixed time point after baseline is selected as the landmark time. This is usually a time when the covariate of interest is known for most patients.\n",
        "\n",
        "**Analysis cohort**: Only subjects who are still at risk for the event at the landmark time are included in the analysis. Subjects who were censored or experienced the event before the landmark are excluded.\n",
        "\n",
        "**Response categories**: Patients are separated into response categories based on whether they responded to treatment by the landmark time.\n",
        "\n",
        "**Sensitivity analyses**: Different landmark times can be used to perform sensitivity analyses.\n",
        "\n",
        "**Patient comparisons**: Patient characteristics can be compared between those included and excluded in the analysis.\n",
        "\n",
        "**Event comparisons**: Events can be compared between groups before the landmark time.\n",
        "\n",
        "***Why Use Landmark Analysis***?\n",
        "\n",
        "1.  **Avoiding Time-Dependent Bias**:\n",
        "    -   If you simply treat a time-dependent covariate as a baseline covariate (e.g., using the value of a variable at the start of the study), it may lead to biased results because the covariate changes over time and may only be relevant after a certain point.\n",
        "    -   Landmark analysis avoids this bias by focusing on a well-defined group of patients at a specific time point.\n",
        "2.  **Handling Intermediate Events**:\n",
        "    -   It is often used in medical research where intermediate events, such as the progression of disease or initiation of treatment, may occur after the start of the study but before the event of interest (e.g., death).\n",
        "    -   The technique helps assess how these intermediate events influence survival outcomes.\n",
        "\n",
        "***Example of Landmark Analysis***:\n",
        "\n",
        "Let’s consider a clinical trial where the goal is to study the effect of a treatment on the survival of cancer patients. Some patients receive treatment at different times after diagnosis. To assess the effect of receiving the treatment, we can use landmark analysis by selecting a specific landmark time (e.g., 6 months after diagnosis) and then comparing survival outcomes for patients who are still alive at that point, stratifying them by whether they received the treatment before or after the landmark time.\n",
        "\n",
        "***Steps in Landmark Analysis***:\n",
        "\n",
        "1.  **Define a Landmark Time**:\n",
        "    -   Select a time point (e.g., 6 months, 1 year) that is clinically meaningful or based on the study design.\n",
        "2.  **Create a Subset of Data**:\n",
        "    -   Restrict the analysis to individuals who are still alive and event-free at the landmark time. This eliminates individuals who died or experienced the event before the landmark.\n",
        "3.  **Fix the Covariates**:\n",
        "    -   For each individual, the values of time-dependent covariates are fixed at the landmark time. This allows us to analyze how these covariates, measured at the landmark, are related to subsequent survival.\n",
        "4.  **Perform Survival Analysis**:\n",
        "    -   Perform standard survival analysis (e.g., Kaplan-Meier estimation, Cox regression) starting from the landmark time onward, using the fixed covariates as predictors.\n",
        "\n",
        "***Illustration of Landmark Analysis***:\n",
        "\n",
        "In medical studies, patients often undergo treatments at varying times. For example, some cancer patients may receive a second-line therapy after disease progression. If the analysis were to include all patients from the start of the study without considering the timing of the therapy, it could lead to misleading conclusions, because the treatment may be administered only to patients who survive long enough to receive it. Landmark analysis solves this issue by focusing on patients who survive past a specific time point.\n",
        "\n",
        "***Advantages of Landmark Analysis***:\n",
        "\n",
        "1.  **Reduces Bias**:\n",
        "    -   It reduces the bias associated with time-dependent covariates by focusing only on patients who are still at risk at a specific time point.\n",
        "2.  **Simple to Implement**:\n",
        "    -   It is straightforward to implement using traditional survival analysis methods (like Kaplan-Meier or Cox regression) after defining the landmark time.\n",
        "3.  **Handles Time-Dependent Covariates**:\n",
        "    -   Landmark analysis can account for covariates that change over time or covariates that only become relevant after a certain period.\n",
        "\n",
        "***Limitations***:\n",
        "\n",
        "1.  **Loss of Information**:\n",
        "    -   By focusing only on patients who survive past the landmark time, the analysis excludes individuals who experienced the event earlier, potentially losing valuable information.\n",
        "2.  **Arbitrary Landmark Time**:\n",
        "    -   Choosing an appropriate landmark time can be subjective, and different landmark times may lead to different results.\n",
        "3.  **Bias at the Landmark**:\n",
        "    -   Patients included in the analysis at the landmark time may not represent the overall population, as only those who survived until the landmark time are considered. This could introduce a selection bias.\n",
        "\n",
        "\n",
        "\n",
        "\n",
        "\n",
        "\n",
        "\n"
      ],
      "metadata": {
        "id": "rYkF3LgwHflQ"
      }
    },
    {
      "cell_type": "markdown",
      "source": [
        "## Install rpy2"
      ],
      "metadata": {
        "id": "9n6LEpyGsycn"
      }
    },
    {
      "cell_type": "code",
      "source": [
        "!pip uninstall rpy2 -y\n",
        "!pip install rpy2==3.5.1\n",
        "%load_ext rpy2.ipython"
      ],
      "metadata": {
        "colab": {
          "base_uri": "https://localhost:8080/"
        },
        "id": "Sn1uQzxIs01n",
        "outputId": "881c6e59-87eb-421a-8e26-9a8176e000a4"
      },
      "execution_count": 1,
      "outputs": [
        {
          "output_type": "stream",
          "name": "stdout",
          "text": [
            "Found existing installation: rpy2 3.5.17\n",
            "Uninstalling rpy2-3.5.17:\n",
            "  Successfully uninstalled rpy2-3.5.17\n",
            "Collecting rpy2==3.5.1\n",
            "  Downloading rpy2-3.5.1.tar.gz (201 kB)\n",
            "\u001b[2K     \u001b[90m━━━━━━━━━━━━━━━━━━━━━━━━━━━━━━━━━━━━━━━━\u001b[0m \u001b[32m201.7/201.7 kB\u001b[0m \u001b[31m4.6 MB/s\u001b[0m eta \u001b[36m0:00:00\u001b[0m\n",
            "\u001b[?25h  Preparing metadata (setup.py) ... \u001b[?25l\u001b[?25hdone\n",
            "Requirement already satisfied: cffi>=1.10.0 in /usr/local/lib/python3.11/dist-packages (from rpy2==3.5.1) (1.17.1)\n",
            "Requirement already satisfied: jinja2 in /usr/local/lib/python3.11/dist-packages (from rpy2==3.5.1) (3.1.5)\n",
            "Requirement already satisfied: pytz in /usr/local/lib/python3.11/dist-packages (from rpy2==3.5.1) (2025.1)\n",
            "Requirement already satisfied: tzlocal in /usr/local/lib/python3.11/dist-packages (from rpy2==3.5.1) (5.3)\n",
            "Requirement already satisfied: pycparser in /usr/local/lib/python3.11/dist-packages (from cffi>=1.10.0->rpy2==3.5.1) (2.22)\n",
            "Requirement already satisfied: MarkupSafe>=2.0 in /usr/local/lib/python3.11/dist-packages (from jinja2->rpy2==3.5.1) (3.0.2)\n",
            "Building wheels for collected packages: rpy2\n",
            "  Building wheel for rpy2 (setup.py) ... \u001b[?25l\u001b[?25hdone\n",
            "  Created wheel for rpy2: filename=rpy2-3.5.1-cp311-cp311-linux_x86_64.whl size=314975 sha256=4203d5d85188f7c9819f8a9cd79cf4c4ce592f15850b8798f313a580c7198f17\n",
            "  Stored in directory: /root/.cache/pip/wheels/e9/55/d1/47be85a5f3f1e1f4d1e91cb5e3a4dcb40dd72147f184c5a5ef\n",
            "Successfully built rpy2\n",
            "Installing collected packages: rpy2\n",
            "Successfully installed rpy2-3.5.1\n"
          ]
        }
      ]
    },
    {
      "cell_type": "markdown",
      "source": [
        "## Mount Google Drive"
      ],
      "metadata": {
        "id": "QC6sIX7Fs4dC"
      }
    },
    {
      "cell_type": "code",
      "source": [
        "from google.colab import drive\n",
        "drive.mount('/content/drive')"
      ],
      "metadata": {
        "colab": {
          "base_uri": "https://localhost:8080/"
        },
        "id": "FyS01C5Ss403",
        "outputId": "4d0b549c-cd95-464b-fad1-80008e89e4bf"
      },
      "execution_count": 2,
      "outputs": [
        {
          "output_type": "stream",
          "name": "stdout",
          "text": [
            "Mounted at /content/drive\n"
          ]
        }
      ]
    },
    {
      "cell_type": "markdown",
      "source": [
        "## Install Required R Packages\n",
        "\n"
      ],
      "metadata": {
        "id": "MBPB39h9tCoZ"
      }
    },
    {
      "cell_type": "code",
      "source": [
        "%%R\n",
        "packages <-c(\n",
        "\t\t 'tidyverse',\n",
        "\t\t 'report',\n",
        "\t\t 'performance',\n",
        "\t\t 'gtsummary',\n",
        "\t\t 'MASS',\n",
        "\t\t 'epiDisplay',\n",
        "\t\t 'survival',\n",
        "\t\t 'survminer',\n",
        "\t\t 'ggsurvfit',\n",
        "\t\t 'tidycmprsk',\n",
        "\t\t 'ggfortify',\n",
        "\t\t 'timereg',\n",
        "\t\t 'cmprsk',\n",
        "\t\t 'condsurv',\n",
        "\t\t 'riskRegression'\n",
        "\t\t )"
      ],
      "metadata": {
        "id": "6gNs99XwtCvv"
      },
      "execution_count": 3,
      "outputs": []
    },
    {
      "cell_type": "code",
      "source": [
        "%%R\n",
        "# Install missing packages\n",
        "new.packages <- packages[!(packages %in% installed.packages(lib='drive/My Drive/R/')[,\"Package\"])]\n",
        "if(length(new.packages)) install.packages(new.packages, lib='drive/My Drive/R/')"
      ],
      "metadata": {
        "id": "CHucySrAPI1C"
      },
      "execution_count": null,
      "outputs": []
    },
    {
      "cell_type": "code",
      "source": [
        "%%R\n",
        "# set library path\n",
        ".libPaths('drive/My Drive/R')\n",
        "# Verify installation\n",
        "cat(\"Installed packages:\\n\")\n",
        "print(sapply(packages, requireNamespace, quietly = TRUE))"
      ],
      "metadata": {
        "colab": {
          "base_uri": "https://localhost:8080/"
        },
        "id": "_J_33JyDPNmY",
        "outputId": "4d8e07eb-ea8a-49f9-fb7f-03f2fedcfa44"
      },
      "execution_count": 4,
      "outputs": [
        {
          "output_type": "stream",
          "name": "stdout",
          "text": [
            "Installed packages:\n"
          ]
        },
        {
          "output_type": "stream",
          "name": "stderr",
          "text": [
            "WARNING:rpy2.rinterface_lib.callbacks:R[write to console]: Registered S3 method overwritten by 'tidycmprsk':\n",
            "  method                    from     \n",
            "  global_pvalue_fun.tidycrr gtsummary\n",
            "\n",
            "WARNING:rpy2.rinterface_lib.callbacks:R[write to console]: Registered S3 method overwritten by 'rms':\n",
            "  method       from      \n",
            "  print.lrtest epiDisplay\n",
            "\n"
          ]
        },
        {
          "output_type": "stream",
          "name": "stdout",
          "text": [
            "     tidyverse         report    performance      gtsummary           MASS \n",
            "          TRUE           TRUE           TRUE           TRUE           TRUE \n",
            "    epiDisplay       survival      survminer      ggsurvfit     tidycmprsk \n",
            "          TRUE           TRUE           TRUE           TRUE           TRUE \n",
            "     ggfortify        timereg         cmprsk       condsurv riskRegression \n",
            "          TRUE           TRUE           TRUE           TRUE           TRUE \n"
          ]
        }
      ]
    },
    {
      "cell_type": "markdown",
      "source": [
        "## Load R packages"
      ],
      "metadata": {
        "id": "80gcu8ChJZCU"
      }
    },
    {
      "cell_type": "code",
      "source": [
        "%%R\n",
        "# set library path\n",
        ".libPaths('drive/My Drive/R')\n",
        "# Load packages with suppressed messages\n",
        "invisible(lapply(packages, function(pkg) {\n",
        "  suppressPackageStartupMessages(library(pkg, character.only = TRUE))\n",
        "}))\n",
        "# Check loaded packages\n",
        "cat(\"Successfully loaded packages:\\n\")\n",
        "print(search()[grepl(\"package:\", search())])# Check loaded packages\n"
      ],
      "metadata": {
        "id": "qjPGGF1DJZPl"
      },
      "execution_count": null,
      "outputs": []
    },
    {
      "cell_type": "markdown",
      "source": [
        "## Landmark Analysis in R\n",
        "\n",
        "This tutorial is mostly used two R packages [{survival}](https://cran.r-project.org/web/packages/survival/index.html) and [{ggsurvfit}](https://www.danieldsjoberg.com/ggsurvfit/). Additionally we will use [{ggfortify}](https://github.com/sinhrks/ggfortify) which offers `fortify` and `autoplot` functions to allow automatic ggplot2 to visualize Kaplan-Meier plots.\n",
        "\n"
      ],
      "metadata": {
        "id": "wDq8HAf-J5as"
      }
    },
    {
      "cell_type": "markdown",
      "source": [
        "## Data\n",
        "\n",
        "In this example, we will perform a Landmark analysis using the `veteran` dataset from the {survival} package. In this case, we will explore how the `Karnofsky performance score (karno)`,  and `treatment type (trt)` influence survival, restricting the analysis to patients who have survived up to a pre-specified landmark time (e.g., 90 days). The idea is to assess how these covariates affect survival after the landmark time, considering only the individuals who are still alive at that time.\n"
      ],
      "metadata": {
        "id": "3_7ytbp0L5WV"
      }
    },
    {
      "cell_type": "code",
      "source": [
        "%%R\n",
        "data(veteran)\n",
        "glimpse(veteran)"
      ],
      "metadata": {
        "colab": {
          "base_uri": "https://localhost:8080/"
        },
        "id": "Pcp4WjrXL6bT",
        "outputId": "7ab4b6d5-f78c-4f21-faa8-dc585a8d9f91"
      },
      "execution_count": null,
      "outputs": [
        {
          "output_type": "stream",
          "name": "stdout",
          "text": [
            "Rows: 137\n",
            "Columns: 8\n",
            "$ trt      <dbl> 1, 1, 1, 1, 1, 1, 1, 1, 1, 1, 1, 1, 1, 1, 1, 1, 1, 1, 1, 1, 1…\n",
            "$ celltype <fct> squamous, squamous, squamous, squamous, squamous, squamous, s…\n",
            "$ time     <dbl> 72, 411, 228, 126, 118, 10, 82, 110, 314, 100, 42, 8, 144, 25…\n",
            "$ status   <dbl> 1, 1, 1, 1, 1, 1, 1, 1, 1, 0, 1, 1, 1, 0, 1, 1, 1, 1, 1, 1, 0…\n",
            "$ karno    <dbl> 60, 70, 60, 60, 70, 20, 40, 80, 50, 70, 60, 40, 30, 80, 70, 6…\n",
            "$ diagtime <dbl> 7, 5, 3, 9, 11, 5, 10, 29, 18, 6, 4, 58, 4, 9, 11, 3, 9, 2, 4…\n",
            "$ age      <dbl> 69, 64, 38, 63, 65, 49, 69, 68, 43, 70, 81, 63, 63, 52, 48, 6…\n",
            "$ prior    <dbl> 0, 10, 0, 10, 10, 0, 10, 0, 0, 0, 0, 10, 0, 10, 10, 0, 0, 0, …\n"
          ]
        }
      ]
    },
    {
      "cell_type": "markdown",
      "source": [
        "The dataset contains information such as:\n",
        "\n",
        "-   `time`: Survival time in days.\n",
        "\n",
        "-   `status`: Censoring indicator (1 = death, 0 = censored).\n",
        "\n",
        "-   `trt`: Treatment group (1 = standard treatment, 2 = test treatment).\n",
        "\n",
        "-   `age`: Age of the patient.\n",
        "\n",
        "-   `celltype`: Cell type of lung cancer.\n",
        "\n",
        "-   `karno`: Karnofsky performance score (higher is better).\n",
        "\n",
        "-   `diagtime`: Time since diagnosis in months.\n",
        "\n",
        "-   `prior`: Number of prior treatments."
      ],
      "metadata": {
        "id": "3FkPJMUIMJqz"
      }
    },
    {
      "cell_type": "markdown",
      "source": [
        "## Landmark approach\n",
        "\n",
        "1.  Choose a specific time point after the baseline to serve as your landmark time. This decision should be made based on clinical information prior to examining the data.\n",
        "\n",
        "2.  Focus on a subset of the population that has been followed at least until the landmark time. Always report the number of participants excluded due to the event of interest or censoring that occurred before the landmark time.\n",
        "\n",
        "3.  Calculate the follow-up period starting from the landmark time, and then apply traditional `Kaplan Meier` or `Cox regression` analyses.\n",
        "\n",
        "In the BMT data, interest is in the association between acute graft versus host disease (`agvhd`) and survival. But `agvhd` is assessed after the transplant, which is our baseline, or start of follow-up, time.\n"
      ],
      "metadata": {
        "id": "ZDndu28eMgto"
      }
    },
    {
      "cell_type": "markdown",
      "source": [
        "### Step 1 Select landmark time\n",
        "\n",
        "We will select a **landmark time** (e.g., 30 days) to focus on patients who have survived up to 30 days, and then we will assess how the covariates, particularly **treatment,** and **Karnofsky score**, affect survival from that point onward.\n"
      ],
      "metadata": {
        "id": "58DWS244YO2t"
      }
    },
    {
      "cell_type": "code",
      "source": [
        "%%R\n",
        "lm.time<-30"
      ],
      "metadata": {
        "id": "mytAiARfMi9i"
      },
      "execution_count": null,
      "outputs": []
    },
    {
      "cell_type": "markdown",
      "source": [
        "### Step 2: Create a Subset of Data for Landmark Analysis\n",
        "\n",
        "We will restrict the analysis to only patients who have survived beyond the landmark time (30 days). These patients are considered to be `at risk` at the landmark time\n"
      ],
      "metadata": {
        "id": "BvNUawdUzy7r"
      }
    },
    {
      "cell_type": "code",
      "source": [
        "%%R\n",
        "lm_data <-\n",
        "  veteran |>\n",
        "  dplyr::filter(time >= lm.time) |>\n",
        "  dplyr ::mutate(\n",
        "    time_from_lm = time - lm.time\n",
        "    ) |>\n",
        "  glimpse()"
      ],
      "metadata": {
        "colab": {
          "base_uri": "https://localhost:8080/"
        },
        "id": "dqMpJ-gyM8PH",
        "outputId": "a6c5ac32-42f5-4117-e08c-27e1c6be7516"
      },
      "execution_count": null,
      "outputs": [
        {
          "output_type": "stream",
          "name": "stdout",
          "text": [
            "Rows: 97\n",
            "Columns: 9\n",
            "$ trt          <dbl> 1, 1, 1, 1, 1, 1, 1, 1, 1, 1, 1, 1, 1, 1, 1, 1, 1, 1, 1, …\n",
            "$ celltype     <fct> squamous, squamous, squamous, squamous, squamous, squamou…\n",
            "$ time         <dbl> 72, 411, 228, 126, 118, 82, 110, 314, 100, 42, 144, 30, 3…\n",
            "$ status       <dbl> 1, 1, 1, 1, 1, 1, 1, 1, 0, 1, 1, 1, 1, 1, 0, 0, 1, 1, 1, …\n",
            "$ karno        <dbl> 60, 70, 60, 60, 70, 40, 80, 50, 70, 60, 30, 60, 60, 80, 4…\n",
            "$ diagtime     <dbl> 7, 5, 3, 9, 11, 10, 29, 18, 6, 4, 4, 3, 9, 4, 3, 5, 14, 2…\n",
            "$ age          <dbl> 69, 64, 38, 63, 65, 69, 68, 43, 70, 81, 63, 61, 42, 63, 5…\n",
            "$ prior        <dbl> 0, 10, 0, 10, 10, 10, 0, 0, 0, 0, 0, 0, 0, 10, 0, 0, 10, …\n",
            "$ time_from_lm <dbl> 42, 381, 198, 96, 88, 52, 80, 284, 70, 12, 114, 0, 354, 2…\n"
          ]
        }
      ]
    },
    {
      "cell_type": "markdown",
      "source": [
        "At this point, the dataset `lm_data` contains only patients who survived beyond 30 days, and we’ve created a new time variable (`time_from_lm`) that represents survival time starting from 30 days onward."
      ],
      "metadata": {
        "id": "EJYkH8inNEnC"
      }
    },
    {
      "cell_type": "markdown",
      "source": [
        "### Kaplan Meier Analysis\n",
        "\n",
        "First we look at survival curves by treatment for landmark dataset."
      ],
      "metadata": {
        "id": "007I5JNnahv1"
      }
    },
    {
      "cell_type": "code",
      "source": [
        "%%R -h 550 -w 500 -u px\n",
        "survfit2(Surv(time_from_lm, status) ~trt, data = lm_data) %>%\n",
        "  ggsurvfit() +\n",
        "  labs(\n",
        "    x = \"Days from 30-day landmark\",\n",
        "    y = \"Overall survival probability\"\n",
        "  ) +\n",
        "   add_confidence_interval() +\n",
        "    add_risktable()"
      ],
      "metadata": {
        "colab": {
          "base_uri": "https://localhost:8080/",
          "height": 567
        },
        "id": "-tc4EFJqNEw5",
        "outputId": "6b7012cc-47b2-42e6-81b7-ab7dfa975807"
      },
      "execution_count": null,
      "outputs": [
        {
          "output_type": "display_data",
          "data": {
            "image/png": "[encoded data removed]"
          },
          "metadata": {}
        }
      ]
    },
    {
      "cell_type": "markdown",
      "source": [
        "### Fit a Cox Proportional Hazards Model\n",
        "\n",
        "We will now fit a **Cox proportional hazards model** using the landmark dataset, where the covariates of interest are **Karnofsky score (`karno`),** and **treatment type (`trt`)**."
      ],
      "metadata": {
        "id": "ocKqsEX-0uO1"
      }
    },
    {
      "cell_type": "code",
      "source": [
        "%%R\n",
        "# Fit a Cox proportional hazards model for survival from the landmark time\n",
        "cox_lm<- coxph(Surv(time_from_lm, status) ~ karno + trt,\n",
        "                      data = lm_data)\n",
        "# Display the summary of the model\n",
        "summary(cox_lm)"
      ],
      "metadata": {
        "colab": {
          "base_uri": "https://localhost:8080/"
        },
        "id": "ZErlpMQ1NP0t",
        "outputId": "220d742c-9c09-4907-dec8-893728d50352"
      },
      "execution_count": null,
      "outputs": [
        {
          "output_type": "stream",
          "name": "stdout",
          "text": [
            "Call:\n",
            "coxph(formula = Surv(time_from_lm, status) ~ karno + trt, data = lm_data)\n",
            "\n",
            "  n= 97, number of events= 89 \n",
            "\n",
            "           coef exp(coef)  se(coef)      z Pr(>|z|)   \n",
            "karno -0.019622  0.980570  0.007035 -2.789  0.00529 **\n",
            "trt    0.118973  1.126339  0.227424  0.523  0.60088   \n",
            "---\n",
            "Signif. codes:  0 ‘***’ 0.001 ‘**’ 0.01 ‘*’ 0.05 ‘.’ 0.1 ‘ ’ 1\n",
            "\n",
            "      exp(coef) exp(-coef) lower .95 upper .95\n",
            "karno    0.9806     1.0198    0.9671    0.9942\n",
            "trt      1.1263     0.8878    0.7212    1.7589\n",
            "\n",
            "Concordance= 0.612  (se = 0.034 )\n",
            "Likelihood ratio test= 7.56  on 2 df,   p=0.02\n",
            "Wald test            = 7.84  on 2 df,   p=0.02\n",
            "Score (logrank) test = 7.91  on 2 df,   p=0.02\n",
            "\n"
          ]
        }
      ]
    },
    {
      "cell_type": "markdown",
      "source": [
        "You may use `report()` function of {report} package to get a brief summary of fitted Cox regression model:"
      ],
      "metadata": {
        "id": "FIm_uHaR01Q-"
      }
    },
    {
      "cell_type": "code",
      "source": [
        "%%R\n",
        "report::report(cox_lm)"
      ],
      "metadata": {
        "colab": {
          "base_uri": "https://localhost:8080/"
        },
        "id": "EZfP7BVl02VA",
        "outputId": "13b295c4-3b7e-44fe-b886-8f404eb27367"
      },
      "execution_count": null,
      "outputs": [
        {
          "output_type": "stream",
          "name": "stderr",
          "text": [
            "WARNING:rpy2.rinterface_lib.callbacks:R[write to console]: Response residuals not available to calculate mean square error. (R)MSE\n",
            "  is probably not reliable.\n",
            "\n",
            "WARNING:rpy2.rinterface_lib.callbacks:R[write to console]: Response residuals not available to calculate mean square error. (R)MSE\n",
            "  is probably not reliable.\n",
            "\n"
          ]
        },
        {
          "output_type": "stream",
          "name": "stdout",
          "text": [
            "We fitted a logistic model to predict Surv(time_from_lm, status) with karno and\n",
            "trt (formula: Surv(time_from_lm, status) ~ karno + trt). The model's\n",
            "explanatory power is weak (Nagelkerke's R2 = 0.08).  Within this model:\n",
            "\n",
            "  - The effect of karno is statistically significant and negative (beta = -0.02,\n",
            "95% CI [-0.03, -5.83e-03], p = 0.005; Std. beta = -0.33, 95% CI [-0.56, -0.10])\n",
            "  - The effect of trt is statistically non-significant and positive (beta = 0.12,\n",
            "95% CI [-0.33, 0.56], p = 0.601; Std. beta = 0.06, 95% CI [-0.16, 0.28])\n",
            "\n",
            "Standardized parameters were obtained by fitting the model on a standardized\n",
            "version of the dataset. 95% Confidence Intervals (CIs) and p-values were\n",
            "computed using a Wald z-distribution approximation.\n"
          ]
        }
      ]
    },
    {
      "cell_type": "code",
      "source": [
        "%%R\n",
        "performance(cox_lm)"
      ],
      "metadata": {
        "colab": {
          "base_uri": "https://localhost:8080/"
        },
        "id": "PxJjppTANi0_",
        "outputId": "2fdf0639-8a84-4a03-e81e-084f4ee3cfc0"
      },
      "execution_count": null,
      "outputs": [
        {
          "output_type": "stream",
          "name": "stderr",
          "text": [
            "WARNING:rpy2.rinterface_lib.callbacks:R[write to console]: Response residuals not available to calculate mean square error. (R)MSE\n",
            "  is probably not reliable.\n",
            "\n"
          ]
        },
        {
          "output_type": "stream",
          "name": "stdout",
          "text": [
            "# Indices of model performance\n",
            "\n",
            "AIC     |    AICc |     BIC | Nagelkerke's R2 |  RMSE | Sigma\n",
            "-------------------------------------------------------------\n",
            "635.624 | 635.752 | 640.773 |           0.075 | 0.959 | 0.000\n"
          ]
        }
      ]
    },
    {
      "cell_type": "markdown",
      "source": [
        "#### Plot survival curve"
      ],
      "metadata": {
        "id": "zy8kGX1ZOUzX"
      }
    },
    {
      "cell_type": "code",
      "source": [
        "%%R -h 500 -w 550 -u px\n",
        "\n",
        "autoplot(survfit(cox_lm))\n"
      ],
      "metadata": {
        "colab": {
          "base_uri": "https://localhost:8080/",
          "height": 517
        },
        "id": "GZxvXet3OcWE",
        "outputId": "6d8e7f34-012b-42cf-c7a9-be34bbb78298"
      },
      "execution_count": null,
      "outputs": [
        {
          "output_type": "display_data",
          "data": {
            "image/png": "[encoded data removed]"
          },
          "metadata": {}
        }
      ]
    },
    {
      "cell_type": "markdown",
      "source": [
        "#### Interpretation\n",
        "\n",
        "-   **Cox Model Results**:\n",
        "\n",
        "    -   The **Karnofsky performance score** (`karno`) coefficient might show that patients with a higher score (better health status) at the landmark time have a reduced hazard of death. The `negative coefficient` would suggest that a higher Karnofsky score (better health status) is associated with a lower hazard of death.\n",
        "\n",
        "    -   The **treatment group** (`trt`) coefficient may show whether the test treatment group has better or worse survival compared to the standard treatment group after the landmark time. Within 30days, the effect is positive but statistically non significant.\n",
        "\n",
        "-   **Kaplan-Meier Plot**:\n",
        "\n",
        "    -   The plot will show survival curves for the two treatment groups, indicating which group has a higher probability of survival after 30 days. If the curves diverge, it suggests a difference in treatment effectiveness after the landmark time.\n"
      ],
      "metadata": {
        "id": "g9NsshTf1TaD"
      }
    },
    {
      "cell_type": "markdown",
      "source": [
        "## Summary and Conclusion:\n",
        "\n",
        "In this example, we used **Landmark analysis** to evaluate the effect of **Karnofsky performance score** and **treatment** on survival after 90 days. This method is helpful when dealing with time-dependent covariates and intermediate events, allowing you to assess how these factors influence survival beyond a certain time point. By focusing on patients still at risk at the landmark time, the analysis can provide more accurate insights into the post-landmark survival.\n"
      ],
      "metadata": {
        "id": "p1VtRgcYP-WP"
      }
    },
    {
      "cell_type": "markdown",
      "source": [
        "## References\n",
        "\n",
        "1.  [Survival Analysis with R](https://rviews.rstudio.com/2017/09/25/survival-analysis-with-r/)\n",
        "\n",
        "2.  [Cox Proportional-Hazards Model](http://www.sthda.com/english/wiki/cox-proportional-hazards-model)\n",
        "\n",
        "3.  [Survival Analysis in R](https://www.emilyzabor.com/tutorials/survival_analysis_in_r_tutorial.html)\n",
        "\n",
        "4.  [Survival Analysis with R](https://bioconnector.github.io/workshops/r-survival.html)\n",
        ":"
      ],
      "metadata": {
        "id": "evpa9c53QAHh"
      }
    }
  ]
}