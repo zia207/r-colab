{
  "cells": [
    {
      "cell_type": "markdown",
      "metadata": {
        "id": "view-in-github",
        "colab_type": "text"
      },
      "source": [
        "<a href=\"https://colab.research.google.com/github/zia207/r-colab/blob/main/NoteBook/Advance_Regression/02-05-02-multivariate-statistics-factor-analysis-r.ipynb\" target=\"_parent\"><img src=\"https://colab.research.google.com/assets/colab-badge.svg\" alt=\"Open In Colab\"/></a>"
      ]
    },
    {
      "cell_type": "markdown",
      "metadata": {
        "id": "KsBkpmP_qjLM"
      },
      "source": [
        "![alt text](http://drive.google.com/uc?export=view&id=1bLQ3nhDbZrCCqy_WCxxckOne2lgVvn3l)"
      ]
    },
    {
      "cell_type": "markdown",
      "metadata": {
        "id": "Dzp9ZseROTcY"
      },
      "source": [
        "# 2. Factor Analysis\n",
        "\n",
        "In this tutorial, we will provide a basic overview of Principal Component Analysis (PCA) and demonstrate how to perform PCA in R. PCA is a statistical technique widely used for data analysis and dimensionality reduction. The primary goal of PCA is to uncover the underlying patterns or structures in a dataset by transforming the original variables into a smaller set of uncorrelated variables, known as principal components.\n",
        "\n",
        "\n",
        "\n"
      ]
    },
    {
      "cell_type": "markdown",
      "metadata": {
        "id": "6DjM_eceq9Wv"
      },
      "source": [
        "\n",
        "## Overview\n",
        "\n",
        "Factor Analysis (FA) is a statistical method used to identify the underlying relationships (factors) between observed variables. It assumes that multiple observed variables can be explained by a smaller number of unobserved latent variables (factors) and that the variability in the observed data is due to these latent variables plus some unique random error.\n",
        "\n",
        "Mathematical framework of Factor Analysis follows:\n",
        "\n",
        "1. **Model Representation**:\n",
        "\n",
        "The factor analysis model can be expressed as:\n",
        "\n",
        "$$\n",
        "\\mathbf{X} = \\mathbf{\\Lambda} \\mathbf{F} + \\mathbf{\\epsilon}\n",
        "$$\n",
        "where:\n",
        "\n",
        "- $\\mathbf{X} \\in \\mathbb{R}^p$: A vector of $p$ observed variables.\n",
        "- $\\mathbf{\\Lambda} \\in \\mathbb{R}^{p \\times k}$: The **loading matrix**, where each entry $\\lambda_{ij}$ represents the loading (influence) of factor $j$ on variable $i$.\n",
        "- $\\mathbf{F} \\in \\mathbb{R}^k$: A vector of $k$ unobserved latent factors ($k < p$).\n",
        "- $\\mathbf{\\epsilon} \\in \\mathbb{R}^p$: A vector of unique errors for each observed\n",
        "\n",
        " 2. **Assumptions**:\n",
        "\n",
        "- The factors $\\mathbf{F}$ are uncorrelated: $\\text{Cov}(\\mathbf{F}) = \\mathbf{I}_k$ (identity matrix).\n",
        "- The errors $\\mathbf{\\epsilon}$ are uncorrelated with each other and with the factors: $\\text{Cov}(\\mathbf{\\epsilon}) = \\mathbf{\\Psi}$, where $\\mathbf{\\Psi}$ is a diagonal matrix.\n",
        "- Observed variables are related to the factors through linear combinations.\n",
        "\n",
        "3. **Covariance Structure**:\n",
        "\n",
        "From the model, the covariance matrix of the observed variables \\(\\mathbf{X}\\) can be expressed as:\n",
        "\n",
        "$$\n",
        "\\text{Cov}(\\mathbf{X}) = \\mathbf{\\Sigma} = \\mathbf{\\Lambda} \\mathbf{\\Lambda}^T + \\mathbf{\\Psi}\n",
        "$$\n",
        "where:\n",
        "\n",
        "- $\\mathbf{\\Lambda} \\mathbf{\\Lambda}^T$: The shared variance explained by the common factors.\n",
        "- $\\mathbf{\\Psi}$: The unique variances (specific to each variable).\n",
        "\n",
        "4. **Variance Decomposition**:\n",
        "\n",
        "For each variable $i$:\n",
        "\n",
        "$$\n",
        "\\text{Var}(X_i) = \\sum_{j=1}^k \\lambda_{ij}^2 + \\psi_i\n",
        "$$\n",
        "\n",
        "where:\n",
        "\n",
        "- $\\sum_{j=1}^k \\lambda_{ij}^2$: The **communality**, or the variance explained by the factors.\n",
        "- $\\psi_i$: The **uniqueness**, or the variance unique to the variable.\n",
        "\n",
        " 5. **Objective of Factor Analysis**:\n",
        "\n",
        "- To estimate the loading matrix $\\mathbf{\\Lambda}$ and the unique variances $\\mathbf{\\Psi}$.\n",
        "- To reduce dimensionality and interpret the latent structure in the data.\n",
        "\n",
        "6. **Factor Extraction**:\n",
        "\n",
        "There are several methods for extracting factors, including:\n",
        "- **Principal Factor Method**: Uses the eigenvalues and eigenvectors of the reduced covariance matrix.\n",
        "- **Maximum Likelihood Estimation (MLE)**: Estimates parameters by maximizing the likelihood of the observed data under the FA model.\n",
        "\n",
        "7. **Factor Rotation**:\n",
        "\n",
        "After extraction, the factors can be rotated to achieve a simpler and more interpretable structure:\n",
        "- **Orthogonal Rotation** (e.g., Varimax): Keeps the factors uncorrelated.\n",
        "- **Oblique Rotation** (e.g., Promax): Allows factors to be correlated.\n",
        "\n",
        "8. **Goodness of Fit**:\n",
        "\n",
        "To assess the fit of the factor model, compare the model-implied covariance matrix $\\mathbf{\\Sigma}$ with the observed covariance matrix using measures such as:\n",
        "\n",
        "- **Kaiser-Meyer-Olkin (KMO) statistic**: Measures sampling adequacy for factor analysis.\n",
        "- **Bartlett's Test of Sphericity**: Tests the null hypothesis that the variables are uncorrelated.\n",
        "\n",
        "\n",
        "Factor analysis is widely used in psychology, social sciences, finance, and other fields to uncover latent structures and simplify complex datasets.\n",
        "\n"
      ]
    },
    {
      "cell_type": "markdown",
      "source": [
        "## Install rpy2"
      ],
      "metadata": {
        "id": "G6Qp0TKw_6Xd"
      }
    },
    {
      "cell_type": "code",
      "execution_count": 1,
      "metadata": {
        "id": "CiM6y-Mw8AJp",
        "colab": {
          "base_uri": "https://localhost:8080/"
        },
        "outputId": "cafbc1ad-4f83-4eb6-fd10-f9a7d6c8d7de",
        "collapsed": true
      },
      "outputs": [
        {
          "output_type": "stream",
          "name": "stdout",
          "text": [
            "Found existing installation: rpy2 3.4.2\n",
            "Uninstalling rpy2-3.4.2:\n",
            "  Successfully uninstalled rpy2-3.4.2\n",
            "Collecting rpy2==3.5.1\n",
            "  Downloading rpy2-3.5.1.tar.gz (201 kB)\n",
            "\u001b[2K     \u001b[90m━━━━━━━━━━━━━━━━━━━━━━━━━━━━━━━━━━━━━━━━\u001b[0m \u001b[32m201.7/201.7 kB\u001b[0m \u001b[31m4.5 MB/s\u001b[0m eta \u001b[36m0:00:00\u001b[0m\n",
            "\u001b[?25h  Preparing metadata (setup.py) ... \u001b[?25l\u001b[?25hdone\n",
            "Requirement already satisfied: cffi>=1.10.0 in /usr/local/lib/python3.11/dist-packages (from rpy2==3.5.1) (1.17.1)\n",
            "Requirement already satisfied: jinja2 in /usr/local/lib/python3.11/dist-packages (from rpy2==3.5.1) (3.1.5)\n",
            "Requirement already satisfied: pytz in /usr/local/lib/python3.11/dist-packages (from rpy2==3.5.1) (2025.1)\n",
            "Requirement already satisfied: tzlocal in /usr/local/lib/python3.11/dist-packages (from rpy2==3.5.1) (5.3)\n",
            "Requirement already satisfied: pycparser in /usr/local/lib/python3.11/dist-packages (from cffi>=1.10.0->rpy2==3.5.1) (2.22)\n",
            "Requirement already satisfied: MarkupSafe>=2.0 in /usr/local/lib/python3.11/dist-packages (from jinja2->rpy2==3.5.1) (3.0.2)\n",
            "Building wheels for collected packages: rpy2\n",
            "  Building wheel for rpy2 (setup.py) ... \u001b[?25l\u001b[?25hdone\n",
            "  Created wheel for rpy2: filename=rpy2-3.5.1-cp311-cp311-linux_x86_64.whl size=314980 sha256=5634f2a35f2441fb1c63ff35c4ea897bfb0f56738134fc63195ed27029601967\n",
            "  Stored in directory: /root/.cache/pip/wheels/e9/55/d1/47be85a5f3f1e1f4d1e91cb5e3a4dcb40dd72147f184c5a5ef\n",
            "Successfully built rpy2\n",
            "Installing collected packages: rpy2\n",
            "Successfully installed rpy2-3.5.1\n"
          ]
        }
      ],
      "source": [
        "!pip uninstall rpy2 -y\n",
        "!pip install rpy2==3.5.1\n",
        "%load_ext rpy2.ipython"
      ]
    },
    {
      "cell_type": "markdown",
      "metadata": {
        "id": "O1zeuaCowiBt"
      },
      "source": [
        "## Mount Google Drive"
      ]
    },
    {
      "cell_type": "code",
      "execution_count": 2,
      "metadata": {
        "colab": {
          "base_uri": "https://localhost:8080/"
        },
        "id": "9J-4ie4bwiJ1",
        "outputId": "b69c46aa-364a-475a-ede6-e555869d5bce"
      },
      "outputs": [
        {
          "output_type": "stream",
          "name": "stdout",
          "text": [
            "Mounted at /content/drive\n"
          ]
        }
      ],
      "source": [
        "from google.colab import drive\n",
        "drive.mount('/content/drive')"
      ]
    },
    {
      "cell_type": "markdown",
      "source": [
        "## Factor Analysis  from Scratch\n",
        "\n",
        "We will implement Factor Analysis from scratch in R to understand the underlying concepts and algorithms. We will generate synthetic data, compute the correlation matrix, and estimate the factor loadings and unique variances using Maximum Likelihood and Minimum Residual methods."
      ],
      "metadata": {
        "id": "IAQQ8p17adRz"
      }
    },
    {
      "cell_type": "markdown",
      "source": [
        "### Generate Synthetic Data\n",
        "\n",
        "Let's generate some synthetic data to demonstrate Factor Analysis. We will create a dataset with 6 observed variables influenced by 2 latent factors. The observed variables will be generated as linear combinations of the latent factors with some added noise."
      ],
      "metadata": {
        "id": "CgNkvBY7akYD"
      }
    },
    {
      "cell_type": "code",
      "source": [
        "%%R\n",
        "# Generate synthetic data\n",
        "set.seed(123) # For reproducibility\n",
        "n <- 200  # Number of observations\n",
        "p <- 6    # Number of variables\n",
        "\n",
        "# Generate latent factors\n",
        "factor1 <- rnorm(n)\n",
        "factor2 <- rnorm(n)\n",
        "\n",
        "# Create observed variables influenced by the factors\n",
        "X <- data.frame(\n",
        "  V1 = 0.8 * factor1 + 0.2 * rnorm(n),\n",
        "  V2 = 0.7 * factor1 + 0.3 * rnorm(n),\n",
        "  V3 = 0.6 * factor1 + 0.4 * rnorm(n),\n",
        "  V4 = 0.7 * factor2 + 0.3 * rnorm(n),\n",
        "  V5 = 0.8 * factor2 + 0.2 * rnorm(n),\n",
        "  V6 = 0.6 * factor2 + 0.4 * rnorm(n)\n",
        ")\n",
        "head(X)"
      ],
      "metadata": {
        "id": "qqF1bTMuapYU",
        "colab": {
          "base_uri": "https://localhost:8080/"
        },
        "outputId": "35bf9e1b-0b49-45b2-a2d3-39bedbf64117"
      },
      "execution_count": null,
      "outputs": [
        {
          "output_type": "stream",
          "name": "stdout",
          "text": [
            "          V1          V2         V3          V4          V5         V6\n",
            "1 -0.4630917 -0.07012927 -0.1937720  1.24042763  1.88301829  0.8848389\n",
            "2 -0.4178723 -0.16932833 -0.4013106  0.60670257  0.89842835  0.5213267\n",
            "3  1.1200170  1.08109672  1.2773059 -0.19099561 -0.04181111  0.1268523\n",
            "4  0.0506384 -0.40546441  0.5034795  0.34058330  0.28496925  0.1532520\n",
            "5  0.2375694  0.32761702  0.1880825 -1.05484080 -0.20542399 -0.1575580\n",
            "6  1.0419427  1.13732524  1.0866809 -0.02120079 -0.16166519  0.2322302\n"
          ]
        }
      ]
    },
    {
      "cell_type": "markdown",
      "source": [
        "### Center the Data\n",
        "\n"
      ],
      "metadata": {
        "id": "zhbSFBNObPwM"
      }
    },
    {
      "cell_type": "code",
      "source": [
        "%%R\n",
        "# Center the data\n",
        "X_scale<- scale(X, center = TRUE, scale = FALSE)\n"
      ],
      "metadata": {
        "id": "xwUlCyj_bQgg"
      },
      "execution_count": null,
      "outputs": []
    },
    {
      "cell_type": "markdown",
      "source": [
        "\n",
        "### Compute Correlation  Matrix\n",
        "\n",
        "The next step is to compute the correlation matrix of the centered data.\n",
        "\n",
        "\n"
      ],
      "metadata": {
        "id": "ue1RKEBVbZi2"
      }
    },
    {
      "cell_type": "code",
      "source": [
        "%%R\n",
        "# Compute the correlation matrix\n",
        "R <- cor(X_scale)\n",
        "R"
      ],
      "metadata": {
        "colab": {
          "base_uri": "https://localhost:8080/"
        },
        "id": "U5RcJ3XUbcxU",
        "outputId": "36208cfb-8fdd-4789-fd0a-725d775e2433"
      },
      "execution_count": null,
      "outputs": [
        {
          "output_type": "stream",
          "name": "stdout",
          "text": [
            "            V1           V2         V3          V4           V5          V6\n",
            "V1  1.00000000  0.877874232 0.76677643 -0.01294144 -0.052094216 -0.01321996\n",
            "V2  0.87787423  1.000000000 0.70296402  0.03014416 -0.003693208  0.01919607\n",
            "V3  0.76677643  0.702964019 1.00000000  0.03225977  0.044670131  0.04355680\n",
            "V4 -0.01294144  0.030144156 0.03225977  1.00000000  0.902855278  0.79794504\n",
            "V5 -0.05209422 -0.003693208 0.04467013  0.90285528  1.000000000  0.81138965\n",
            "V6 -0.01321996  0.019196075 0.04355680  0.79794504  0.811389651  1.00000000\n"
          ]
        }
      ]
    },
    {
      "cell_type": "markdown",
      "source": [
        "### Kaiser-Meyer-Olkin (KMO) Measure\n",
        "\n",
        "The Kaiser-Meyer-Olkin (KMO) measure is a statistic that indicates the degree to which the variables in the dataset are suitable for factor analysis. It is a measure of sampling adequacy, with values between 0 and 1. Higher values indicate that the variables are more suitable for factor analysis.\n"
      ],
      "metadata": {
        "id": "3l1FAYp2bmWr"
      }
    },
    {
      "cell_type": "code",
      "source": [
        "%%R\n",
        "# Kaiser-Meyer-Olkin (KMO) Measure\n",
        "kmo <- function(R) {\n",
        "  R_inv <- solve(R)\n",
        "  partial_corr <- -R_inv / sqrt(outer(diag(R_inv), diag(R_inv)))\n",
        "  diag(partial_corr) <- 0\n",
        "\n",
        "  numerator <- sum(R^2) - sum(diag(R)^2)\n",
        "  denominator <- numerator + sum(partial_corr^2)\n",
        "\n",
        "  KMO <- numerator / denominator\n",
        "\n",
        "  individual_kmo <- colSums(R^2) - diag(R)^2\n",
        "  individual_kmo <- individual_kmo / (individual_kmo + colSums(partial_corr^2))\n",
        "\n",
        "  return(list(KMO = KMO, individual = individual_kmo))\n",
        "}\n",
        "\n",
        "kmo_result <- kmo(R)\n",
        "cat(\"Overall KMO Measure:\", kmo_result$KMO, \"\\n\")\n",
        "cat(\"Individual KMO Measures:\\n\")\n",
        "print(kmo_result$individual)"
      ],
      "metadata": {
        "colab": {
          "base_uri": "https://localhost:8080/"
        },
        "id": "EbViCSolbnTi",
        "outputId": "05080559-d184-4ef3-dd88-0842348e6136"
      },
      "execution_count": null,
      "outputs": [
        {
          "output_type": "stream",
          "name": "stdout",
          "text": [
            "Overall KMO Measure: 0.7198511 \n",
            "Individual KMO Measures:\n",
            "       V1        V2        V3        V4        V5        V6 \n",
            "0.6370567 0.6953375 0.8098881 0.7014303 0.6788390 0.8735113 \n"
          ]
        }
      ]
    },
    {
      "cell_type": "markdown",
      "source": [
        "### Maximum Likelihood Factor Analysis\n",
        "\n",
        "We will implement Maximum Likelihood Factor Analysis from scratch using the iterative algorithm to estimate the factor loadings and unique variances. The algorithm involves iteratively updating the factor loadings and communalities until convergence."
      ],
      "metadata": {
        "id": "bYcrt7XOb1vM"
      }
    },
    {
      "cell_type": "code",
      "source": [
        "%%R\n",
        "# Maximum Likelihood Factor Analysis\n",
        "ml_factor_analysis <- function(R, n_factors, max_iter = 100, tol = 1e-6) {\n",
        "  p <- ncol(R)\n",
        "  diag_R <- diag(R)\n",
        "  communality <- diag_R\n",
        "\n",
        "  for (i in 1:max_iter) {\n",
        "    # Spectral decomposition\n",
        "    eig <- eigen(R - diag(diag_R - communality))\n",
        "    loadings <- eig$vectors[, 1:n_factors] %*% diag(sqrt(eig$values[1:n_factors]))\n",
        "\n",
        "    # Update communalities\n",
        "    new_communality <- rowSums(loadings^2)\n",
        "\n",
        "    # Check convergence\n",
        "    if (max(abs(new_communality - communality)) < tol) {\n",
        "      break\n",
        "    }\n",
        "\n",
        "    communality <- new_communality\n",
        "  }\n",
        "\n",
        "  uniqueness <- diag_R - communality\n",
        "  return(list(loadings = loadings, uniqueness = uniqueness, communality = communality))\n",
        "}\n",
        "\n",
        "ml_result <- ml_factor_analysis(R, n_factors = 2)\n",
        "cat(\"\\nMaximum Likelihood Factor Loadings:\\n\")\n",
        "print(ml_result$loadings)\n",
        "cat(\"\\nUnique Variances:\\n\")\n",
        "print(ml_result$uniqueness)"
      ],
      "metadata": {
        "colab": {
          "base_uri": "https://localhost:8080/"
        },
        "id": "Lo7fGgjobtf5",
        "outputId": "431868fc-54f7-4110-f1b0-7b6f2482ffb9"
      },
      "execution_count": null,
      "outputs": [
        {
          "output_type": "stream",
          "name": "stdout",
          "text": [
            "\n",
            "Maximum Likelihood Factor Loadings:\n",
            "           [,1]       [,2]\n",
            "[1,] -0.1018410  0.9755628\n",
            "[2,] -0.1355767  0.8860696\n",
            "[3,] -0.1476192  0.7704355\n",
            "[4,] -0.9339530 -0.1168696\n",
            "[5,] -0.9488113 -0.1440653\n",
            "[6,] -0.8402762 -0.1039804\n",
            "\n",
            "Unique Variances:\n",
            "        V1         V2         V3         V4         V5         V6 \n",
            "0.03790653 0.19649917 0.38463754 0.11407325 0.07900237 0.28312396 \n"
          ]
        }
      ]
    },
    {
      "cell_type": "markdown",
      "source": [
        "### Minimum Residual Factor Analysis\n",
        "\n",
        "We will also implement Minimum Residual Factor Analysis from scratch using the iterative algorithm to estimate the factor loadings and unique variances. The algorithm involves iteratively updating the factor loadings and communalities until convergence.\n"
      ],
      "metadata": {
        "id": "6nlhbn3Ab8fM"
      }
    },
    {
      "cell_type": "code",
      "source": [
        "%%R\n",
        "# Minimum Residual Factor Analysis\n",
        "minres_factor_analysis <- function(R, n_factors, max_iter = 100, tol = 1e-6) {\n",
        "  p <- ncol(R)\n",
        "  diag_R <- diag(R)\n",
        "  communality <- diag_R\n",
        "\n",
        "  for (i in 1:max_iter) {\n",
        "    # Reduce the correlation matrix\n",
        "    reduced_R <- R - diag(diag_R - communality)\n",
        "\n",
        "    # Spectral decomposition\n",
        "    eig <- eigen(reduced_R)\n",
        "    loadings <- eig$vectors[, 1:n_factors] %*% diag(sqrt(eig$values[1:n_factors]))\n",
        "\n",
        "    # Update communalities\n",
        "    new_communality <- rowSums(loadings^2)\n",
        "\n",
        "    # Check convergence\n",
        "    if (max(abs(new_communality - communality)) < tol) {\n",
        "      break\n",
        "    }\n",
        "\n",
        "    communality <- new_communality\n",
        "  }\n",
        "\n",
        "  uniqueness <- diag_R - communality\n",
        "  return(list(loadings = loadings, uniqueness = uniqueness, communality = communality))\n",
        "}\n",
        "\n",
        "minres_result <- minres_factor_analysis(R, n_factors = 2)\n",
        "cat(\"\\nMinimum Residual Factor Loadings:\\n\")\n",
        "print(minres_result$loadings)\n",
        "cat(\"\\nUnique Variances:\\n\")\n",
        "print(minres_result$uniqueness)\n"
      ],
      "metadata": {
        "id": "75aqcPLHb9QS",
        "colab": {
          "base_uri": "https://localhost:8080/"
        },
        "outputId": "64ddaf92-a79b-424e-d0c3-d79b480f4b74"
      },
      "execution_count": null,
      "outputs": [
        {
          "output_type": "stream",
          "name": "stdout",
          "text": [
            "\n",
            "Minimum Residual Factor Loadings:\n",
            "           [,1]       [,2]\n",
            "[1,] -0.1018410  0.9755628\n",
            "[2,] -0.1355767  0.8860696\n",
            "[3,] -0.1476192  0.7704355\n",
            "[4,] -0.9339530 -0.1168696\n",
            "[5,] -0.9488113 -0.1440653\n",
            "[6,] -0.8402762 -0.1039804\n",
            "\n",
            "Unique Variances:\n",
            "        V1         V2         V3         V4         V5         V6 \n",
            "0.03790653 0.19649917 0.38463754 0.11407325 0.07900237 0.28312396 \n"
          ]
        }
      ]
    },
    {
      "cell_type": "markdown",
      "source": [
        "## Factor Analysis in R\n",
        "\n",
        "In R, Factor Analysis can be performed using the {psych} package, which provides functions for both exploratory and confirmatory factor analysis. The {lavaan} package can be used for structural equation modeling, including confirmatory factor analysis."
      ],
      "metadata": {
        "id": "Fbwhi5iLbrxO"
      }
    },
    {
      "cell_type": "markdown",
      "metadata": {
        "id": "yXu-XY0mw1A8"
      },
      "source": [
        "### Install Required R Packages\n",
        "\n",
        "Following R packages are required to run this notebook. If any of these packages are not installed, you can install them using the code below:"
      ]
    },
    {
      "cell_type": "code",
      "source": [
        "%%R\n",
        "packages <- c('tidyverse',\n",
        "              'plyr',\n",
        "              'corrr',\n",
        "              'ggcorrplot',\n",
        "              'factoextra',\n",
        "              'ade4',\n",
        "              'psych',\n",
        "              'FactoMineR',\n",
        "              'lavaan',\n",
        "              'scico'\n",
        "\t\t )"
      ],
      "metadata": {
        "id": "WjkBhqamybsz"
      },
      "execution_count": 3,
      "outputs": []
    },
    {
      "cell_type": "code",
      "execution_count": null,
      "metadata": {
        "collapsed": true,
        "id": "232jNAHBykUL"
      },
      "outputs": [],
      "source": [
        "%%R\n",
        "# Install missing packages\n",
        "new.packages <- packages[!(packages %in% installed.packages(lib='drive/My Drive/R/')[,\"Package\"])]\n",
        "if(length(new.packages)) install.packages(new.packages, lib='drive/My Drive/R/')"
      ]
    },
    {
      "cell_type": "code",
      "source": [
        "%%R\n",
        "# set library path\n",
        ".libPaths('drive/My Drive/R')\n",
        "# Verify installation\n",
        "cat(\"Installed packages:\\n\")\n",
        "print(sapply(packages, requireNamespace, quietly = TRUE))\n"
      ],
      "metadata": {
        "colab": {
          "base_uri": "https://localhost:8080/"
        },
        "id": "MQnKTir_JEtb",
        "outputId": "ccfc71e1-c965-416a-e06c-054516db4cb2"
      },
      "execution_count": 4,
      "outputs": [
        {
          "output_type": "stream",
          "name": "stdout",
          "text": [
            "Installed packages:\n",
            " tidyverse       plyr      corrr ggcorrplot factoextra       ade4      psych \n",
            "      TRUE       TRUE       TRUE       TRUE       TRUE       TRUE       TRUE \n",
            "FactoMineR     lavaan      scico \n",
            "      TRUE       TRUE       TRUE \n"
          ]
        }
      ]
    },
    {
      "cell_type": "markdown",
      "source": [
        "### Load R Packages"
      ],
      "metadata": {
        "id": "wwsY8U1RbsiG"
      }
    },
    {
      "cell_type": "code",
      "source": [
        "%%R\n",
        "# set library path\n",
        ".libPaths('drive/My Drive/R')\n",
        "# Load packages with suppressed messages\n",
        "invisible(lapply(packages, function(pkg) {\n",
        "  suppressPackageStartupMessages(library(pkg, character.only = TRUE))\n",
        "}))\n",
        "# Check loaded packages\n",
        "cat(\"Successfully loaded packages:\\n\")\n",
        "print(search()[grepl(\"package:\", search())])# Check loaded packages"
      ],
      "metadata": {
        "colab": {
          "base_uri": "https://localhost:8080/"
        },
        "id": "XN7X9_DqJN9A",
        "outputId": "191184ea-0d9e-4b1a-9298-9d3ad72494b1"
      },
      "execution_count": 5,
      "outputs": [
        {
          "output_type": "stream",
          "name": "stdout",
          "text": [
            "Successfully loaded packages:\n",
            " [1] \"package:scico\"      \"package:lavaan\"     \"package:FactoMineR\"\n",
            " [4] \"package:psych\"      \"package:ade4\"       \"package:factoextra\"\n",
            " [7] \"package:ggcorrplot\" \"package:corrr\"      \"package:plyr\"      \n",
            "[10] \"package:lubridate\"  \"package:forcats\"    \"package:stringr\"   \n",
            "[13] \"package:dplyr\"      \"package:purrr\"      \"package:readr\"     \n",
            "[16] \"package:tidyr\"      \"package:tibble\"     \"package:ggplot2\"   \n",
            "[19] \"package:tidyverse\"  \"package:tools\"      \"package:stats\"     \n",
            "[22] \"package:graphics\"   \"package:grDevices\"  \"package:utils\"     \n",
            "[25] \"package:datasets\"   \"package:methods\"    \"package:base\"      \n"
          ]
        }
      ]
    },
    {
      "cell_type": "markdown",
      "metadata": {
        "id": "WViZ3IdLrzNs"
      },
      "source": [
        "### Data\n",
        "\n",
        "In this exercise we will use following data set PCA analysis. This dataset contains heavy metal concentration in the soil of USA.\n",
        "\n",
        "[usa_geochemical_FA.csv](https://www.dropbox.com/s/pfc6v0dy62fx50u/usa_geochemical_FA.csv?dl=0)\n",
        "\n",
        "\n",
        "We will use `read_csv()` function of {readr} package to import data as a **tidy** data from my github repository. The `glimpse()` function from {dplyr} package can be used to get a quick overview of the data"
      ]
    },
    {
      "cell_type": "code",
      "execution_count": null,
      "metadata": {
        "colab": {
          "base_uri": "https://localhost:8080/"
        },
        "id": "CFpt_H01OPsa",
        "outputId": "83690b23-25ec-4bea-f56d-85c72b28df3e"
      },
      "outputs": [
        {
          "output_type": "stream",
          "name": "stdout",
          "text": [
            "Rows: 4813 Columns: 28\n",
            "── Column specification ────────────────────────────────────────────────────────\n",
            "Delimiter: \",\"\n",
            "chr  (3): A_LabID, StateID, LandCover\n",
            "dbl (25): SiteID, Latitude, Longitude, Al, As, Ba, Cd, Ce, Co, Cr, Cs, Cu, F...\n",
            "\n",
            "ℹ Use `spec()` to retrieve the full column specification for this data.\n",
            "ℹ Specify the column types or set `show_col_types = FALSE` to quiet this message.\n",
            "Rows: 4,813\n",
            "Columns: 28\n",
            "$ A_LabID   <chr> \"C-320500\", \"C-299963\", \"C-319572\", \"C-355112\", \"C-319622\", …\n",
            "$ SiteID    <dbl> 847, 7209, 6811, 4072, 4315, 12782, 10830, 252, 1964, 6920, …\n",
            "$ StateID   <chr> \"NV\", \"ME\", \"CO\", \"WI\", \"CO\", \"MT\", \"WA\", \"PA\", \"IN\", \"MO\", …\n",
            "$ Latitude  <dbl> 38.8486, 44.2417, 37.8284, 42.7492, 39.2340, 46.3279, 46.499…\n",
            "$ Longitude <dbl> -117.5824, -70.4833, -107.6216, -90.2205, -106.2517, -112.90…\n",
            "$ LandCover <chr> \"Shrubland\", \"Forested Upland\", \"Shrubland\", \"Forested Uplan…\n",
            "$ Al        <dbl> 7.43, 5.35, 5.82, 4.61, 6.24, 3.76, 6.99, 7.53, 9.06, 3.02, …\n",
            "$ As        <dbl> 195.0, 2.7, 18.4, 7.7, 25.1, 565.0, 4.2, 10.5, 94.5, 9.0, 5.…\n",
            "$ Ba        <dbl> 496, 352, 686, 610, 1030, 399, 706, 466, 414, 317, 372, 654,…\n",
            "$ Cd        <dbl> 16.1, 0.5, 5.1, 0.6, 3.2, 2.6, 0.6, 0.2, 1.4, 1.4, 1.1, 1.2,…\n",
            "$ Ce        <dbl> 42.0, 43.0, 67.9, 51.9, 48.9, 28.0, 67.9, 75.5, 104.0, 47.6,…\n",
            "$ Co        <dbl> 11.1, 5.2, 14.4, 9.5, 6.8, 8.9, 13.3, 21.1, 56.8, 11.7, 4.8,…\n",
            "$ Cr        <dbl> 42, 63, 24, 38, 9, 20, 48, 81, 217, 56, 24, 16, 59, 13, 54, …\n",
            "$ Cs        <dbl> 26.0, 2.5, 12.0, 2.5, 2.5, 5.0, 5.0, 2.5, 7.0, 2.5, 2.5, 2.5…\n",
            "$ Cu        <dbl> 87.9, 16.5, 141.0, 35.4, 147.0, 232.0, 34.7, 79.8, 98.7, 13.…\n",
            "$ Fe        <dbl> 4.17, 1.59, 3.63, 2.26, 7.39, 13.00, 3.44, 5.29, 8.28, 2.40,…\n",
            "$ Hg        <dbl> 8.24, 0.04, 0.07, 0.04, 1.32, 0.44, 0.03, 0.08, 0.32, 0.06, …\n",
            "$ Li        <dbl> 128, 23, 51, 19, 11, 28, 24, 37, 71, 16, 14, 57, 29, 29, 23,…\n",
            "$ Mg        <dbl> 1.62, 0.31, 0.77, 0.57, 0.34, 0.62, 0.80, 0.65, 0.39, 0.16, …\n",
            "$ Mn        <dbl> 740, 635, 4040, 719, 812, 6580, 713, 879, 480, 894, 430, 233…\n",
            "$ Mo        <dbl> 9.16, 1.06, 9.41, 0.87, 4.23, 70.30, 0.72, 2.10, 5.02, 1.33,…\n",
            "$ Ni        <dbl> 25.4, 34.8, 9.8, 20.3, 4.0, 7.2, 21.1, 31.9, 217.0, 11.1, 9.…\n",
            "$ Pb        <dbl> 2200.0, 34.0, 865.0, 49.1, 1510.0, 62.5, 83.0, 268.0, 259.0,…\n",
            "$ Rb        <dbl> 110.0, 79.0, 143.0, 72.5, 89.1, 46.6, 64.7, 88.6, 69.8, 51.6…\n",
            "$ Sb        <dbl> 32.30, 1.60, 6.04, 1.21, 6.26, 20.80, 0.77, 1.19, 9.84, 1.13…\n",
            "$ Se        <dbl> 3.1, 0.2, 0.4, 0.5, 0.7, 0.4, 0.1, 0.9, 1.3, 0.6, 0.4, 0.1, …\n",
            "$ Sn        <dbl> 3.2, 2.5, 2.1, 1.3, 66.9, 32.6, 2.0, 2.5, 82.4, 1.8, 9.7, 5.…\n",
            "$ Zn        <dbl> 2130, 1440, 977, 943, 770, 689, 612, 541, 536, 518, 491, 491…\n"
          ]
        }
      ],
      "source": [
        "%%R\n",
        "# Load data\n",
        "mf<-readr::read_csv(\"https://github.com/zia207/r-colab/raw/main/Data/Regression_analysis/usa_geochemical_FA.csv\")\n",
        "glimpse(mf)"
      ]
    },
    {
      "cell_type": "markdown",
      "metadata": {
        "id": "i3NV_wzZzyd7"
      },
      "source": [
        "#### Data normalization\n",
        "\n",
        "First we will create a subset of the numeric variables from the dataset:"
      ]
    },
    {
      "cell_type": "code",
      "execution_count": null,
      "metadata": {
        "id": "C4Q559D8z6vd"
      },
      "outputs": [],
      "source": [
        "%%R\n",
        "df<- mf[,7:28]"
      ]
    },
    {
      "cell_type": "markdown",
      "metadata": {
        "id": "Udd_zNxe0CZV"
      },
      "source": [
        "In R, `scale()` is generic function whose default method centers and/or scales the columns of a numeric matrix."
      ]
    },
    {
      "cell_type": "code",
      "execution_count": null,
      "metadata": {
        "colab": {
          "base_uri": "https://localhost:8080/"
        },
        "id": "-c5oHdvp0Cma",
        "outputId": "815e6bd5-9fb5-4916-8691-6685bd5aa897"
      },
      "outputs": [
        {
          "output_type": "stream",
          "name": "stdout",
          "text": [
            "   vars    n mean sd median trimmed  mad   min   max range  skew kurtosis   se\n",
            "Al    1 4813    0  1   0.03    0.01 1.00 -2.15  5.08  7.24  0.04    -0.08 0.01\n",
            "As    2 4813    0  1  -0.07   -0.06 0.17 -0.32 56.16 56.49 42.86  2214.48 0.01\n",
            "Ba    3 4813    0  1  -0.03   -0.04 0.90 -1.78 14.97 16.76  1.89    17.11 0.01\n",
            "Cd    4 4813    0  1  -0.08   -0.08 0.19 -0.28 59.91 60.18 47.05  2713.71 0.01\n",
            "Ce    5 4813    0  1  -0.04   -0.06 0.80 -2.01 16.55 18.56  2.45    22.93 0.01\n",
            "Co    6 4813    0  1  -0.16   -0.13 0.62 -1.11 21.37 22.48  6.02    88.32 0.01\n",
            "Cr    7 4813    0  1  -0.07   -0.08 0.20 -0.41 42.69 43.10 30.67  1126.12 0.01\n",
            "Cs    8 4813    0  1  -0.30   -0.19 0.00 -0.30 34.33 34.63 14.81   391.23 0.01\n",
            "Cu    9 4813    0  1  -0.07   -0.06 0.12 -0.26 67.14 67.40 62.95  4218.14 0.01\n",
            "Fe   10 4813    0  1  -0.14   -0.11 0.74 -1.50  8.04  9.54  1.96     7.56 0.01\n",
            "Hg   11 4813    0  1  -0.12   -0.08 0.09 -0.20 47.15 47.35 35.25  1446.40 0.01\n",
            "Li   12 4813    0  1  -0.12   -0.10 0.72 -1.48 20.48 21.96  3.85    47.50 0.01\n",
            "Mg   13 4813    0  1  -0.20   -0.15 0.61 -0.92 19.99 20.91  5.83    75.08 0.01\n",
            "Mn   14 4813    0  1  -0.23   -0.15 0.67 -1.14 11.49 12.64  3.27    21.66 0.01\n",
            "Mo   15 4813    0  1  -0.13   -0.11 0.26 -0.57 39.51 40.07 21.58   672.27 0.01\n",
            "Ni   16 4813    0  1  -0.09   -0.08 0.16 -0.34 42.16 42.49 31.40  1154.88 0.01\n",
            "Pb   17 4813    0  1  -0.09   -0.08 0.16 -0.47 46.76 47.23 31.12  1252.04 0.01\n",
            "Rb   18 4813    0  1  -0.02   -0.04 0.86 -1.91 11.38 13.30  1.06     5.90 0.01\n",
            "Sb   19 4813    0  1  -0.03   -0.03 0.04 -0.09 68.89 68.98 67.97  4677.92 0.01\n",
            "Se   20 4813    0  1  -0.34   -0.17 0.44 -0.63 23.49 24.12  6.70   105.31 0.01\n",
            "Sn   21 4813    0  1  -0.05   -0.04 0.10 -0.26 63.38 63.64 54.72  3374.51 0.01\n",
            "Zn   22 4813    0  1  -0.09   -0.09 0.57 -1.06 34.33 35.39 13.95   376.31 0.01\n"
          ]
        }
      ],
      "source": [
        "%%R\n",
        "df_scale <- as.data.frame(scale(df, center=TRUE, scale=TRUE))\n",
        "describe(df_scale)"
      ]
    },
    {
      "cell_type": "markdown",
      "metadata": {
        "id": "XxiTQGOn0NOi"
      },
      "source": [
        "We will compute the correlation matrix  using `cor()` function from the {corrr} package and `ggcorrplot()` can be applied then for better visualization\n"
      ]
    },
    {
      "cell_type": "code",
      "execution_count": null,
      "metadata": {
        "colab": {
          "base_uri": "https://localhost:8080/",
          "height": 617
        },
        "id": "Dpyh0M5x0NXv",
        "outputId": "5c8c845f-2a0c-4f98-8df3-9e36c94a610d"
      },
      "outputs": [
        {
          "output_type": "display_data",
          "data": {
            "image/png": "[encoded data removed]"
          },
          "metadata": {}
        }
      ],
      "source": [
        "%%R -w 650 -h 600 -u px\n",
        "corr_matrix <- cor(df_scale)\n",
        "ggcorrplot(corr_matrix)\n"
      ]
    },
    {
      "cell_type": "markdown",
      "metadata": {
        "id": "iagEUBtD1pNf"
      },
      "source": [
        "The result of the correlation matrix can be interpreted as follow:\n",
        "\n",
        "-   The higher the value, the most positively correlated the two variables are.\n",
        "\n",
        "-   The closer the value to -1, the most negatively correlated they are."
      ]
    },
    {
      "cell_type": "markdown",
      "source": [
        "### Exploratory Factor Analysis"
      ],
      "metadata": {
        "id": "RC6EpMPuTzZx"
      }
    },
    {
      "cell_type": "markdown",
      "source": [
        "#### Kaiser-Meyer-Olkin (KMO)\n",
        "\n",
        "Kaiser-Meyer-Olkin (KMO) is a statistical measure used to assess the sampling adequacy of a set of variables for factor analysis. It is named after the three researchers who developed it: Henry Kaiser, J.B. Meyer, and Norbert Olkin. The KMO statistic is a value between 0 and 1, with higher values indicating better sampling adequacy. A KMO value of 0.5 or lower is considered unacceptable, while a value of 0.6 to 0.7 is marginal, and values above 0.8 are generally considered good. The KMO statistic is calculated by comparing the magnitude of the correlation coefficients between pairs of variables to the magnitude of the partial correlations between those variables, controlling for all other variables in the analysis. If the correlation coefficients are much larger than the partial correlations, then the KMO statistic will be high, indicating that the variables are suitable for factor analysis.\n",
        "\n",
        "The KMO statistic is widely used in the field of psychology and social sciences to assess the quality of data for factor analysis. It is an important tool for researchers to evaluate the suitability of their data for factor analysis and to make decisions about how to proceed with their analysis.\n",
        "\n",
        "In R, you can compute the Kaiser-Meyer-Olkin (KMO) statistic using `KMO()` function of the {psych} package. Here's an example:"
      ],
      "metadata": {
        "id": "HjxL5y082W0h"
      }
    },
    {
      "cell_type": "code",
      "execution_count": null,
      "metadata": {
        "colab": {
          "base_uri": "https://localhost:8080/"
        },
        "id": "JANYSDcf2NfV",
        "outputId": "aed3b2bd-02f3-434a-b50b-f0be0233e922"
      },
      "outputs": [
        {
          "output_type": "stream",
          "name": "stdout",
          "text": [
            "Kaiser-Meyer-Olkin factor adequacy\n",
            "Call: KMO(r = cor(df_scale))\n",
            "Overall MSA =  0.74\n",
            "MSA for each item = \n",
            "  Al   As   Ba   Cd   Ce   Co   Cr   Cs   Cu   Fe   Hg   Li   Mg   Mn   Mo   Ni \n",
            "0.79 0.54 0.80 0.87 0.84 0.82 0.71 0.80 0.84 0.77 0.78 0.83 0.84 0.82 0.57 0.66 \n",
            "  Pb   Rb   Sb   Se   Sn   Zn \n",
            "0.66 0.75 0.50 0.65 0.57 0.84 \n"
          ]
        }
      ],
      "source": [
        "%%R\n",
        "# compute the KMO statistic\n",
        "KMO(r=cor(df_scale))"
      ]
    },
    {
      "cell_type": "markdown",
      "metadata": {
        "id": "WWLOzlOe2YPv"
      },
      "source": [
        "According to Kaiser’s (1974) guidelines, a suggested cutoff for determining the factorability of the sample data is `KMO ≥ 60`. The total `KMO is 0.74`, indicating that, based on this test, we can probably conduct a factor analysis.\n"
      ]
    },
    {
      "cell_type": "markdown",
      "source": [
        "#### Bartlett's Test of Sphericity\n",
        "\n",
        "Bartlett's Test of Sphericity is a statistical test used to determine whether a correlation matrix is significantly different from an identity matrix. It is commonly used in factor analysis to assess whether the variables in a dataset are suitable for dimensionality reduction.\n",
        "\n",
        "The null hypothesis of Bartlett's test is that the variables are uncorrelated in the population, while the alternative hypothesis is that they are correlated. If the test statistic is large and the p-value is small (e.g., less than 0.05), then we reject the null hypothesis and conclude that the correlation matrix is significantly different from an identity matrix, and therefore the variables are correlated.\n",
        "\n",
        "In R, you can perform Bartlett's test of sphericity using `bartlett()` function ofthe {psych} package. Here's an example:"
      ],
      "metadata": {
        "id": "6IvxFY0F2w8H"
      }
    },
    {
      "cell_type": "code",
      "execution_count": null,
      "metadata": {
        "id": "RpMxXBXY2ZVA",
        "colab": {
          "base_uri": "https://localhost:8080/"
        },
        "outputId": "a62701dc-de58-4d3a-9a54-e64b28f5ae40"
      },
      "outputs": [
        {
          "output_type": "stream",
          "name": "stderr",
          "text": [
            "WARNING:rpy2.rinterface_lib.callbacks:R[write to console]: R was not square, finding R from data\n",
            "\n"
          ]
        },
        {
          "output_type": "stream",
          "name": "stdout",
          "text": [
            "$chisq\n",
            "[1] 53549.84\n",
            "\n",
            "$p.value\n",
            "[1] 0\n",
            "\n",
            "$df\n",
            "[1] 231\n",
            "\n"
          ]
        }
      ],
      "source": [
        "%%R\n",
        "cortest.bartlett(df_scale)"
      ]
    },
    {
      "cell_type": "markdown",
      "metadata": {
        "id": "tLOhL6P_2nqP"
      },
      "source": [
        "Small values (`p < 0.05`) of the significance level indicate that a factor analysis may be useful with our data."
      ]
    },
    {
      "cell_type": "markdown",
      "metadata": {
        "id": "nDrDY2n63wDp"
      },
      "source": [
        "#### Determine Number of Factors to Extract\n",
        "\n",
        "Since we are seeking latent structure within a set of data, we will only be interested in factors that explain a substantial proportion of variation within the data. One way to determine the number of factors or components in a data matrix or a correlation matrix is to examine the `scree()` of {psych} package plot of the successive eigenvalues. Sharp breaks in the plot suggest the appropriate number of components or factors to extract. First we use `eigen()` function from R-base to computes eigenvalues and eigenvectors and plot the successive eigen values for a scree test using scree() function:\n"
      ]
    },
    {
      "cell_type": "code",
      "execution_count": null,
      "metadata": {
        "id": "lcZ2Bqk23yWO",
        "colab": {
          "base_uri": "https://localhost:8080/"
        },
        "outputId": "51745d48-6693-42ea-f9ce-1b8605b47462"
      },
      "outputs": [
        {
          "output_type": "stream",
          "name": "stdout",
          "text": [
            " [1] 5.16673191 2.65225466 2.29148907 1.59301574 1.27836437 1.11969756\n",
            " [7] 0.99261922 0.98195391 0.88608815 0.78823343 0.72787642 0.62310820\n",
            "[13] 0.58619098 0.51085986 0.40663713 0.35703075 0.29902045 0.25368764\n",
            "[19] 0.15785633 0.13227153 0.10380504 0.09120766\n"
          ]
        }
      ],
      "source": [
        "%%R\n",
        "ev <- eigen(cor(df_scale)) # get eigenvalues\n",
        "ev$values"
      ]
    },
    {
      "cell_type": "code",
      "source": [
        "%%R -h 500 -w 600 -u px\n",
        "scree(df_scale, pc=FALSE)  # Use pc=FALSE for factor analysis"
      ],
      "metadata": {
        "colab": {
          "base_uri": "https://localhost:8080/",
          "height": 517
        },
        "id": "DqKPaqU0TKXC",
        "outputId": "cc3006e2-5ff9-4455-df5c-1e6e23b64249"
      },
      "execution_count": null,
      "outputs": [
        {
          "output_type": "display_data",
          "data": {
            "image/png": "[encoded data removed]"
          },
          "metadata": {}
        }
      ]
    },
    {
      "cell_type": "markdown",
      "source": [
        "Parallel\" analysis is an alternative technique that compares the scree of factors of the observed data with that of a random data matrix of the same size as the original. This may be done for continuous , dichotomous, or polytomous data using Pearson, tetrachoric or polychoric correlations. We will use `fa.parallel()` of {psych} package:"
      ],
      "metadata": {
        "id": "7uOu4ncKTXtw"
      }
    },
    {
      "cell_type": "code",
      "execution_count": null,
      "metadata": {
        "colab": {
          "base_uri": "https://localhost:8080/",
          "height": 514
        },
        "id": "vfKARaxg36w8",
        "outputId": "78965b61-c3fc-4ecf-8fbc-9173042f23d1"
      },
      "outputs": [
        {
          "output_type": "stream",
          "name": "stdout",
          "text": [
            "Parallel analysis suggests that the number of factors =  8  and the number of components =  6 \n"
          ]
        },
        {
          "output_type": "display_data",
          "data": {
            "image/png": "[encoded data removed]"
          },
          "metadata": {}
        }
      ],
      "source": [
        "%%R\n",
        "fa.parallel(df_scale)"
      ]
    },
    {
      "cell_type": "markdown",
      "metadata": {
        "id": "31QEa6pU4s6-"
      },
      "source": [
        "### Factor analysis using `fa()` method\n",
        "\n",
        "`fa()` function of {psych} package performs exploratory Factor analysis using `MinRes` (minimum residual) as well as following factoring methods (`fm`):\n",
        "\n",
        "`fm=\"minres\"` will do a minimum residual as will fm=\"uls\". Both of these use a first derivative.\n",
        "\n",
        "`fm=\"ols\"` differs very slightly from \"minres\" in that it minimizes the entire residual matrix using an OLS procedure but uses the empirical first derivative. This will be slower.\n",
        "\n",
        "`fm=\"wls\"` will do a weighted least squares (WLS) solution,\n",
        "\n",
        "`fm=\"gls\"` does a generalized weighted least squares (GLS),\n",
        "\n",
        "`fm=\"pa\"` will do the principal factor solution,\n",
        "\n",
        "`fm=\"ml\"` will do a maximum likelihood factor analysis.\n",
        "\n",
        "`fm=\"minchi\"`will minimize the sample size weighted chi square when treating pairwise correlations with different number of subjects per pair.\n",
        "\n",
        "`fm =\"minrank\"` will do a minimum rank factor analysis. .\n",
        "\n",
        "`fm=\"alpha\"`will do alpha factor analysis as described in Kaiser and Coffey (1965)\n",
        "\n",
        "We use the `fa()` function to perform factor analysis on the scaled data. We specify the number of factors to extract (`nfactors = 8`) and the factorization method (`fm = \"pa\"` for principal axis factoring). We also specify the rotation method (`rotate = \"varimax\"`) to simplify the factor loadings and make them easier to interpret. The `rotate` parameter specifies the rotation method to be used. Other popular rotation methods include `oblimin`\" and `promax`.\n",
        "\n"
      ]
    },
    {
      "cell_type": "code",
      "execution_count": null,
      "metadata": {
        "colab": {
          "base_uri": "https://localhost:8080/"
        },
        "id": "LZqXSrwM4ut8",
        "outputId": "3e1d4f2d-72a1-4094-ba5f-3f2a26b3df96"
      },
      "outputs": [
        {
          "output_type": "stream",
          "name": "stdout",
          "text": [
            "Factor Analysis using method =  pa\n",
            "Call: fa(r = df_scale, nfactors = 8, rotate = \"varimax\", fm = \"pa\")\n",
            "Standardized loadings (pattern matrix) based upon correlation matrix\n",
            "   item   PA1   PA6   PA3  PA4   PA2  PA7   PA5   PA8    h2       u2 com\n",
            "Fe   10  0.79  0.20  0.28 0.10  0.03 0.13  0.09  0.21 0.815  0.18500 1.7\n",
            "Co    6  0.77  0.54  0.10 0.05  0.00 0.08  0.00  0.00 0.914  0.08589 1.9\n",
            "Mn   14  0.56  0.09  0.14 0.13  0.03 0.06  0.16 -0.13 0.409  0.59112 1.6\n",
            "Cu    9  0.13  0.02  0.01 0.09  0.01 0.02  0.05  0.09 0.036  0.96436 3.1\n",
            "Ni   16  0.14  0.99 -0.01 0.03  0.01 0.01  0.02  0.05 1.000 -0.00027 1.0\n",
            "Cr    7  0.19  0.87 -0.01 0.03  0.00 0.02  0.01  0.00 0.789  0.21070 1.1\n",
            "Mg   13  0.29  0.43  0.10 0.01  0.01 0.32 -0.06  0.41 0.547  0.45318 3.8\n",
            "Rb   18 -0.04  0.02  0.81 0.07  0.00 0.43  0.05 -0.12 0.870  0.12975 1.6\n",
            "Al    1  0.54  0.06  0.68 0.08 -0.01 0.18 -0.03  0.34 0.903  0.09664 2.7\n",
            "Ba    3  0.15  0.00  0.67 0.06  0.04 0.06  0.00  0.16 0.508  0.49227 1.3\n",
            "Ce    5  0.29 -0.02  0.56 0.04 -0.01 0.21  0.07 -0.21 0.488  0.51234 2.2\n",
            "Pb   17  0.02  0.00  0.00 0.91  0.01 0.05  0.02 -0.05 0.827  0.17257 1.0\n",
            "Zn   22  0.33  0.05  0.18 0.66  0.06 0.16  0.19  0.13 0.661  0.33907 2.1\n",
            "Hg   11 -0.01  0.01 -0.06 0.61  0.36 0.05  0.01  0.02 0.505  0.49489 1.7\n",
            "Cd    4 -0.01  0.01  0.05 0.34  0.03 0.06  0.22  0.06 0.178  0.82236 1.9\n",
            "Sn   21  0.06  0.01  0.03 0.19  0.01 0.02  0.03 -0.01 0.043  0.95747 1.3\n",
            "Sb   19 -0.01  0.00  0.02 0.09  0.92 0.03 -0.05 -0.01 0.861  0.13914 1.0\n",
            "As    2  0.07  0.01  0.04 0.15  0.90 0.07  0.21  0.02 0.897  0.10275 1.2\n",
            "Li   12  0.24  0.04  0.27 0.11  0.05 0.76  0.09  0.10 0.749  0.25121 1.6\n",
            "Cs    8  0.02  0.03  0.19 0.11  0.05 0.42  0.04  0.00 0.229  0.77081 1.6\n",
            "Mo   15  0.09  0.00  0.10 0.11  0.13 0.02  0.82  0.10 0.734  0.26614 1.2\n",
            "Se   20  0.14  0.00 -0.05 0.20 -0.01 0.07  0.43 -0.10 0.264  0.73564 1.9\n",
            "\n",
            "                       PA1  PA6  PA3  PA4  PA2  PA7  PA5  PA8\n",
            "SS loadings           2.28 2.26 2.17 1.94 1.83 1.20 1.06 0.49\n",
            "Proportion Var        0.10 0.10 0.10 0.09 0.08 0.05 0.05 0.02\n",
            "Cumulative Var        0.10 0.21 0.31 0.39 0.48 0.53 0.58 0.60\n",
            "Proportion Explained  0.17 0.17 0.16 0.15 0.14 0.09 0.08 0.04\n",
            "Cumulative Proportion 0.17 0.34 0.51 0.65 0.79 0.88 0.96 1.00\n",
            "\n",
            "Mean item complexity =  1.8\n",
            "Test of the hypothesis that 8 factors are sufficient.\n",
            "\n",
            "df null model =  231  with the objective function =  11.15 with Chi Square =  53549.84\n",
            "df of  the model are 83  and the objective function was  0.4 \n",
            "\n",
            "The root mean square of the residuals (RMSR) is  0.02 \n",
            "The df corrected root mean square of the residuals is  0.03 \n",
            "\n",
            "The harmonic n.obs is  4813 with the empirical chi square  510.47  with prob <  9.8e-63 \n",
            "The total n.obs was  4813  with Likelihood Chi Square =  1928.04  with prob <  0 \n",
            "\n",
            "Tucker Lewis Index of factoring reliability =  0.904\n",
            "RMSEA index =  0.068  and the 90 % confidence intervals are  0.065 0.071\n",
            "BIC =  1224.28\n",
            "Fit based upon off diagonal values = 1\n",
            "Measures of factor score adequacy             \n",
            "                                                   PA1 PA6  PA3  PA4  PA2  PA7\n",
            "Correlation of (regression) scores with factors   0.95   1 0.93 0.93 0.96 0.84\n",
            "Multiple R square of scores with factors          0.90   1 0.86 0.87 0.93 0.71\n",
            "Minimum correlation of possible factor scores     0.80   1 0.72 0.74 0.86 0.43\n",
            "                                                   PA5  PA8\n",
            "Correlation of (regression) scores with factors   0.87 0.78\n",
            "Multiple R square of scores with factors          0.75 0.61\n",
            "Minimum correlation of possible factor scores     0.51 0.22\n"
          ]
        }
      ],
      "source": [
        "%%R\n",
        "fa_result <- fa(r=df_scale,\n",
        "              nfactors = 8,\n",
        "              fm=\"pa\", # principal axis\n",
        "              rotate=\"varimax\")\n",
        "#to show the loadings sorted by absolute value\n",
        "print(fa_result, sort=TRUE)"
      ]
    },
    {
      "cell_type": "markdown",
      "source": [
        "#### Plot Factor Loading Matrices\n",
        "\n",
        "Factor analysis or principal components analysis results are typically interpreted in terms of the major loadings on each factor. These structures may be represented as a table of loadings or graphically, where all loadings with an absolute value \\> some cut point are represented as an edge (path). fa.diagram uses the various diagram functions to draw the diagram. The default is to use the `fa.diagram()` function from the {psych}m package."
      ],
      "metadata": {
        "id": "epEQ8-PRjwxP"
      }
    },
    {
      "cell_type": "code",
      "source": [
        "%%R -h 500 -w 600 -u px\n",
        "fa.diagram(fa_result)\n"
      ],
      "metadata": {
        "id": "idvl1h1ZjzaT",
        "colab": {
          "base_uri": "https://localhost:8080/",
          "height": 517
        },
        "outputId": "abc35bfe-a2aa-44a5-d47b-6c27137dc5c2"
      },
      "execution_count": null,
      "outputs": [
        {
          "output_type": "display_data",
          "data": {
            "image/png": "[encoded data removed]"
          },
          "metadata": {}
        }
      ]
    },
    {
      "cell_type": "markdown",
      "source": [
        "### Factor analysis using the `factanal()` method\n",
        "\n",
        "The function `factanal()` from {stats} pcakge perform `maximum-likelihood` factor analysis on a covariance matrix or data matrix. We will apply a `rotation` to the factors to make them reduce the complexity of the factor loadings and make them easier to interpret, here we’ll use the varimax option. `Varimax` maximizes the sum of the variances of the squared loadings. Then we’ll print the model to see the results (and sort so the loadings are ordered). The output may be a bit long."
      ],
      "metadata": {
        "id": "Pcac1ZDCUKZ2"
      }
    },
    {
      "cell_type": "code",
      "source": [
        "%%R\n",
        "factanal_results <- factanal(df_scale,\n",
        "                     factors = 8,\n",
        "                     scores = \"Bartlett\",\n",
        "                     rotation = \"varimax\")\n",
        "print(factanal_results, sort = TRUE)"
      ],
      "metadata": {
        "colab": {
          "base_uri": "https://localhost:8080/"
        },
        "id": "aVguuPrX4Cqn",
        "outputId": "5cc8a9af-209e-41c9-8dd5-acdf66681cdd"
      },
      "execution_count": null,
      "outputs": [
        {
          "output_type": "stream",
          "name": "stdout",
          "text": [
            "\n",
            "Call:\n",
            "factanal(x = df_scale, factors = 8, scores = \"Bartlett\", rotation = \"varimax\")\n",
            "\n",
            "Uniquenesses:\n",
            "   Al    As    Ba    Cd    Ce    Co    Cr    Cs    Cu    Fe    Hg    Li    Mg \n",
            "0.015 0.107 0.500 0.836 0.516 0.096 0.199 0.755 0.968 0.175 0.481 0.277 0.518 \n",
            "   Mn    Mo    Ni    Pb    Rb    Sb    Se    Sn    Zn \n",
            "0.565 0.203 0.005 0.189 0.154 0.125 0.786 0.942 0.355 \n",
            "\n",
            "Loadings:\n",
            "   Factor1 Factor2 Factor3 Factor4 Factor5 Factor6 Factor7 Factor8\n",
            "Co  0.766   0.539   0.116                                         \n",
            "Fe  0.801   0.203   0.290                   0.117           0.155 \n",
            "Mn  0.576           0.127   0.114                   0.133  -0.208 \n",
            "Cr  0.184   0.875                                                 \n",
            "Ni  0.140   0.987                                                 \n",
            "Al  0.549           0.713                   0.168           0.366 \n",
            "Ba  0.141           0.673                                   0.135 \n",
            "Ce  0.256           0.553                   0.223          -0.236 \n",
            "Rb                  0.805                   0.407          -0.154 \n",
            "Hg                          0.617   0.360                         \n",
            "Pb                          0.897                                 \n",
            "Zn  0.326           0.171   0.654           0.179   0.190         \n",
            "As                          0.156   0.899           0.223         \n",
            "Sb                                  0.929                         \n",
            "Li  0.235           0.294   0.110           0.739           0.104 \n",
            "Mo  0.102                   0.112   0.128           0.864         \n",
            "Cd                          0.337                   0.207         \n",
            "Cs                  0.206   0.103           0.429                 \n",
            "Cu  0.134                                                         \n",
            "Mg  0.321   0.437                           0.340           0.254 \n",
            "Se  0.119                   0.200                   0.392         \n",
            "Sn                          0.228                                 \n",
            "\n",
            "               Factor1 Factor2 Factor3 Factor4 Factor5 Factor6 Factor7 Factor8\n",
            "SS loadings      2.319   2.283   2.214   1.937   1.828   1.170   1.081   0.401\n",
            "Proportion Var   0.105   0.104   0.101   0.088   0.083   0.053   0.049   0.018\n",
            "Cumulative Var   0.105   0.209   0.310   0.398   0.481   0.534   0.583   0.601\n",
            "\n",
            "Test of the hypothesis that 8 factors are sufficient.\n",
            "The chi square statistic is 1588.01 on 83 degrees of freedom.\n",
            "The p-value is 8.27e-277 \n"
          ]
        }
      ]
    },
    {
      "cell_type": "markdown",
      "source": [
        "The p-value is below 0.05 or 0.01 we can reject the hypothesis of perfect fit, meaning that we could probably try a different method or try a different number of factors."
      ],
      "metadata": {
        "id": "n2PCc05Qj3g5"
      }
    },
    {
      "cell_type": "markdown",
      "source": [
        "#### Extract Loading and plot them\n",
        "\n",
        "We’ll get the results from the factor analysis model we using the `tidy()` function from broom package and convert it to long format and create a weight matrix."
      ],
      "metadata": {
        "id": "iZdTU33pUS-D"
      }
    },
    {
      "cell_type": "code",
      "source": [
        "%%R\n",
        "fa_weight_matrix <- broom::tidy(factanal_results) %>%\n",
        "  pivot_longer(starts_with(\"fl\"), names_to = \"factor\", values_to = \"loading\")"
      ],
      "metadata": {
        "id": "dw_7-fWUUXQV"
      },
      "execution_count": null,
      "outputs": []
    },
    {
      "cell_type": "markdown",
      "source": [
        "#### Plot loading\n",
        "\n",
        "We can now plot the factor loadings using a heatmap. We’ll use the `geom_tile()` function from {ggplot2} to create a heatmap of the factor loadings. We’ll use the {scico} package to create a color palette for the heatmap."
      ],
      "metadata": {
        "id": "8na86GygUioe"
      }
    },
    {
      "cell_type": "code",
      "source": [
        "%%R -w 600 -h 500 -u px\n",
        "fa_loading_plot <- ggplot(fa_weight_matrix, aes(x = factor, y = variable, fill = loading)) +\n",
        "  geom_tile() +\n",
        "  labs(title = \"FA loadings\",\n",
        "       x = NULL,\n",
        "       y = NULL) +\n",
        "  scico::scale_fill_scico(palette = \"cork\", limits = c(-1,1)) +\n",
        "  coord_fixed(ratio = 1/2)\n",
        "print(fa_loading_plot)"
      ],
      "metadata": {
        "colab": {
          "base_uri": "https://localhost:8080/",
          "height": 517
        },
        "id": "L4SV2tsGj5rH",
        "outputId": "1ab397ec-0fa2-4601-901f-c461be8fd3f2"
      },
      "execution_count": null,
      "outputs": [
        {
          "output_type": "display_data",
          "data": {
            "image/png": "[encoded data removed]"
          },
          "metadata": {}
        }
      ]
    },
    {
      "cell_type": "markdown",
      "source": [
        "#### Correlation among Bartlett’s scores\n",
        "\n",
        "We’ll take the `Bartlett’s score`s and correlate them with each other much like before and create a correlation matrix like before."
      ],
      "metadata": {
        "id": "6IRnU55Y4zbF"
      }
    },
    {
      "cell_type": "code",
      "source": [
        "%%R -w 600 -h 500 -u px\n",
        "factanal_results$scores %>%\n",
        "  cor() %>%\n",
        "  data.frame() %>%\n",
        "  rownames_to_column(\"factor_x\") %>%\n",
        "  pivot_longer(cols = -factor_x, names_to = \"factor_y\", values_to = \"correlation\") %>%\n",
        "  ggplot(aes(x = factor_x, y = factor_y, fill = correlation)) +\n",
        "  geom_tile() +\n",
        "  geom_text(aes(label = round(correlation,4)), color = \"grey\") +\n",
        "  labs(title = \"Correlation between FA scores\",\n",
        "       x = NULL,\n",
        "       y = NULL) +\n",
        "  scico::scale_fill_scico(palette = \"cork\", limits = c(-1,1)) +\n",
        "  coord_equal()"
      ],
      "metadata": {
        "colab": {
          "base_uri": "https://localhost:8080/",
          "height": 517
        },
        "id": "YZmx6WehbDeH",
        "outputId": "dd1f75d4-72fa-4bd2-e560-5900626735e3"
      },
      "execution_count": null,
      "outputs": [
        {
          "output_type": "display_data",
          "data": {
            "image/png": "[encoded data removed]"
          },
          "metadata": {}
        }
      ]
    },
    {
      "cell_type": "markdown",
      "source": [
        "We can see little correlation but certainly a few non-zero correlations also."
      ],
      "metadata": {
        "id": "vQn2tr3AbMcV"
      }
    },
    {
      "cell_type": "markdown",
      "source": [
        "### Confirmatory Factor Analysis (CFA)\n",
        "\n",
        "Confirmatory Factor Analysis (CFA) is a statistical technique used to test whether a hypothesized factor structure fits the observed data. Unlike Exploratory Factor Analysis (EFA), where the structure of factors is not predefined, CFA begins with a specific hypothesis about the relationships between observed variables and underlying latent factors based on theory or prior research."
      ],
      "metadata": {
        "id": "MZG0uirAbOX-"
      }
    },
    {
      "cell_type": "markdown",
      "source": [
        "#### Define Models"
      ],
      "metadata": {
        "id": "o8slKZicbRdz"
      }
    },
    {
      "cell_type": "code",
      "source": [
        "%%R\n",
        "model <- '\n",
        "  Factor1 =~ As +  Cd + Cr +  Pb\n",
        "  Factor2 =~ Fe + Mn +  Al+ Mg'"
      ],
      "metadata": {
        "id": "FwCwW5vkbNHR"
      },
      "execution_count": null,
      "outputs": []
    },
    {
      "cell_type": "markdown",
      "source": [
        "#### Fit the CFA Model\n",
        "\n",
        "We can fit the CFA model using the `cfa()` function from the {lavaan} package. The `cfa()` function takes the model specification and the data as input and returns an object that contains the results of the model fit."
      ],
      "metadata": {
        "id": "EgjGeCtnbdM1"
      }
    },
    {
      "cell_type": "code",
      "source": [
        "%%R\n",
        "# Fit the CFA model\n",
        "fit <- cfa(model, data = df_scale)\n",
        "# Summarize the results\n",
        "summary(fit, fit.measures = TRUE, standardized = TRUE)"
      ],
      "metadata": {
        "colab": {
          "base_uri": "https://localhost:8080/"
        },
        "id": "rJeUJ9r9bfDZ",
        "outputId": "a4ea6013-1052-4550-f4db-6b7626c0cfe4"
      },
      "execution_count": null,
      "outputs": [
        {
          "output_type": "stream",
          "name": "stdout",
          "text": [
            "lavaan 0.6-19 ended normally after 38 iterations\n",
            "\n",
            "  Estimator                                         ML\n",
            "  Optimization method                           NLMINB\n",
            "  Number of model parameters                        17\n",
            "\n",
            "  Number of observations                          4813\n",
            "\n",
            "Model Test User Model:\n",
            "                                                      \n",
            "  Test statistic                              1411.087\n",
            "  Degrees of freedom                                19\n",
            "  P-value (Chi-square)                           0.000\n",
            "\n",
            "Model Test Baseline Model:\n",
            "\n",
            "  Test statistic                              8489.377\n",
            "  Degrees of freedom                                28\n",
            "  P-value                                        0.000\n",
            "\n",
            "User Model versus Baseline Model:\n",
            "\n",
            "  Comparative Fit Index (CFI)                    0.835\n",
            "  Tucker-Lewis Index (TLI)                       0.758\n",
            "\n",
            "Loglikelihood and Information Criteria:\n",
            "\n",
            "  Loglikelihood user model (H0)             -51091.664\n",
            "  Loglikelihood unrestricted model (H1)     -50386.121\n",
            "                                                      \n",
            "  Akaike (AIC)                              102217.329\n",
            "  Bayesian (BIC)                            102327.473\n",
            "  Sample-size adjusted Bayesian (SABIC)     102273.453\n",
            "\n",
            "Root Mean Square Error of Approximation:\n",
            "\n",
            "  RMSEA                                          0.123\n",
            "  90 Percent confidence interval - lower         0.118\n",
            "  90 Percent confidence interval - upper         0.129\n",
            "  P-value H_0: RMSEA <= 0.050                    0.000\n",
            "  P-value H_0: RMSEA >= 0.080                    1.000\n",
            "\n",
            "Standardized Root Mean Square Residual:\n",
            "\n",
            "  SRMR                                           0.095\n",
            "\n",
            "Parameter Estimates:\n",
            "\n",
            "  Standard errors                             Standard\n",
            "  Information                                 Expected\n",
            "  Information saturated (h1) model          Structured\n",
            "\n",
            "Latent Variables:\n",
            "                   Estimate  Std.Err  z-value  P(>|z|)   Std.lv  Std.all\n",
            "  Factor1 =~                                                            \n",
            "    As                1.000                               0.297    0.297\n",
            "    Cd                1.543    0.138   11.171    0.000    0.459    0.459\n",
            "    Cr                0.531    0.080    6.627    0.000    0.158    0.158\n",
            "    Pb                1.857    0.173   10.722    0.000    0.552    0.552\n",
            "  Factor2 =~                                                            \n",
            "    Fe                1.000                               0.969    0.969\n",
            "    Mn                0.508    0.015   33.663    0.000    0.492    0.492\n",
            "    Al                0.792    0.015   51.685    0.000    0.768    0.768\n",
            "    Mg                0.503    0.015   33.344    0.000    0.488    0.488\n",
            "\n",
            "Covariances:\n",
            "                   Estimate  Std.Err  z-value  P(>|z|)   Std.lv  Std.all\n",
            "  Factor1 ~~                                                            \n",
            "    Factor2           0.079    0.009    9.208    0.000    0.275    0.275\n",
            "\n",
            "Variances:\n",
            "                   Estimate  Std.Err  z-value  P(>|z|)   Std.lv  Std.all\n",
            "   .As                0.911    0.021   43.513    0.000    0.911    0.912\n",
            "   .Cd                0.789    0.025   31.806    0.000    0.789    0.789\n",
            "   .Cr                0.975    0.020   47.649    0.000    0.975    0.975\n",
            "   .Pb                0.695    0.030   23.043    0.000    0.695    0.695\n",
            "   .Fe                0.060    0.014    4.264    0.000    0.060    0.060\n",
            "   .Mn                0.757    0.016   47.367    0.000    0.757    0.758\n",
            "   .Al                0.410    0.012   33.588    0.000    0.410    0.410\n",
            "   .Mg                0.762    0.016   47.427    0.000    0.762    0.762\n",
            "    Factor1           0.088    0.013    6.910    0.000    1.000    1.000\n",
            "    Factor2           0.940    0.025   37.995    0.000    1.000    1.000\n",
            "\n"
          ]
        }
      ]
    },
    {
      "cell_type": "markdown",
      "source": [
        "####  Model Fit Indices\n",
        "\n",
        "These metrics tell you how well the hypothesized factor structure fits the observed data.\n",
        "\n",
        "-   **Chi-Square Test**:\n",
        "\n",
        "    -   Null hypothesis: The model fits the data perfectly.\n",
        "\n",
        "    -   A small ppp-value indicates a lack of fit (often ignored for large datasets).\n",
        "\n",
        "-   **Comparative Fit Index (CFI)**:\n",
        "\n",
        "    -   Acceptable: \\>0.90.\n",
        "\n",
        "    -   Excellent: \\>0.95.\n",
        "\n",
        "-   **Root Mean Square Error of Approximation (RMSEA)**:\n",
        "\n",
        "    -   Acceptable: \\<0.08.\n",
        "\n",
        "    -   Excellent: \\<0.05.\n",
        "\n",
        "-   **Standardized Root Mean Square Residual (SRMR)**:\n",
        "\n",
        "    -   Acceptable: \\<0.08.\n"
      ],
      "metadata": {
        "id": "GP-Zs7RablvN"
      }
    },
    {
      "cell_type": "markdown",
      "metadata": {
        "id": "mIRMjL69VPVu"
      },
      "source": [
        "## Summary and Conclusion\n",
        "\n",
        "In this tutorial, we have discussed the concept of Factor Analysis, a statistical method used to identify the underlying relationships between observed variables. Factor Analysis is a useful tool for reducing the dimensionality of data and uncovering latent structures that explain the observed correlations among variables. We have also demonstrated how to perform Factor Analysis in R using the {psych} and {lavaan} packages. Factor Analysis can be a powerful tool for exploring complex datasets and uncovering hidden patterns and relationships that may not be apparent from the raw data.\n",
        "\n",
        "\n"
      ]
    },
    {
      "cell_type": "markdown",
      "metadata": {
        "id": "rUHrNY9J9lMg"
      },
      "source": [
        "## References\n",
        "\n",
        "1.  [Factor analysis](https://quantdev.ssri.psu.edu/tutorials/intro-basic-exploratory-factor-analysis)\n",
        "\n",
        "2.  [Factor analysis in R](https://towardsdatascience.com/exploratory-factor-analysis-in-r-e31b0015f224)\n",
        "\n",
        "3.  [A Basic Comparison Between Factor Analysis, PCA, and ICA](https://danielroelfs.com/blog/a-basic-comparison-between-factor-analysis-pca-and-ica/) https://rpkgs.datanovia.com/factoextra/\n",
        "\n"
      ]
    }
  ],
  "metadata": {
    "colab": {
      "provenance": [],
      "toc_visible": true,
      "authorship_tag": "ABX9TyMJQ8FZE/NirHtN2tVvvrEp",
      "include_colab_link": true
    },
    "kernelspec": {
      "display_name": "Python 3",
      "name": "python3"
    },
    "language_info": {
      "name": "python"
    }
  },
  "nbformat": 4,
  "nbformat_minor": 0
}