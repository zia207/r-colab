{
  "nbformat": 4,
  "nbformat_minor": 0,
  "metadata": {
    "colab": {
      "provenance": [],
      "toc_visible": true,
      "authorship_tag": "ABX9TyMve+FwhZBJtxeR0NobIjM0",
      "include_colab_link": true
    },
    "kernelspec": {
      "name": "python3",
      "display_name": "Python 3"
    },
    "language_info": {
      "name": "python"
    }
  },
  "cells": [
    {
      "cell_type": "markdown",
      "metadata": {
        "id": "view-in-github",
        "colab_type": "text"
      },
      "source": [
        "<a href=\"https://colab.research.google.com/github/zia207/r-colab/blob/main/NoteBook/Advance_Regression/02-01-07-glm-gamma-regression-r.ipynb\" target=\"_parent\"><img src=\"https://colab.research.google.com/assets/colab-badge.svg\" alt=\"Open In Colab\"/></a>"
      ]
    },
    {
      "cell_type": "markdown",
      "source": [
        "![alt text](http://drive.google.com/uc?export=view&id=1bLQ3nhDbZrCCqy_WCxxckOne2lgVvn3l)"
      ],
      "metadata": {
        "id": "ALapmr7gMNeE"
      }
    },
    {
      "cell_type": "markdown",
      "source": [
        "\n",
        "# 7. Gamma Regression\n",
        "\n",
        "Gamma regression is a powerful statistical method for modeling positive, continuous data with a skewed distribution, particularly when variability increases with the mean. It is commonly used in insurance claims, healthcare costs, and rainfall data, where values are non-negative and right-skewed. This tutorial will explore Gamma regression in R through two main approaches. First, we will manually build a Gamma regression model to understand its underlying mechanics, including the log-likelihood function and parameter optimization. Then, we will utilize R's built-in `lm ()` function to simplify the modeling process and demonstrate practical result interpretation. By the end of this tutorial, you will understand how to apply Gamma regression to real-world data by coding from scratch and using R's built-in functions."
      ],
      "metadata": {
        "id": "au6nzIZ1MUQ9"
      }
    },
    {
      "cell_type": "markdown",
      "source": [
        "## Overview\n",
        "\n",
        "Gamma regression is used for modeling positive, continuous data where the variance increases with the mean. It assumes that the response variable $y$ follows a Gamma distribution, often appropriate for modeling non-negative skewed data, such as response times, rainfall, or insurance claims. Here's a step-by-step explanation:\n",
        "\n",
        "***Understanding the Gamma Distribution***\n",
        "\n",
        "The Gamma distribution is defined by two parameters: - **Shape parameter** ($k$): Controls the shape or skewness. - **Rate parameter** ($theta$): Controls the spread.\n",
        "\n",
        "The probability density function (PDF) of the Gamma distribution for a positive variable $y$ is:\n",
        "\n",
        "$$ f(y; k, \\theta) = \\frac{y^{k - 1} e^{-\\frac{y}{\\theta}}}{\\theta^k \\Gamma(k)} $$\n",
        "\n",
        "where $\\Gamma(k)$ is the Gamma function, and both $k$ and $\\theta$ are positive.\n",
        "\n",
        "In Gamma regression, we typically work with the **mean** $\\mu = k\\theta$, rather than the shape and rate parameters directly. So, for a response variable $y$, we model $y \\sim \\text{Gamma}(\\mu, \\theta)$.\n",
        "\n",
        "***Defining the Mean-Variance Relationship***\n",
        "\n",
        "A key property of the Gamma distribution is that:\n",
        "\n",
        "-   The **mean** of $y$ is $\\mu$. -\n",
        "-   The **variance** of $y$ is $\\text{Var}(y) = \\theta \\mu^2$.\n",
        "\n",
        "This means the variance grows with the square of the mean, which is helpful for modeling heteroscedastic data where larger values tend to have greater variance.\n",
        "\n",
        "***Specifying the Link Function***\n",
        "\n",
        "In Gamma regression, we assume that the mean $\\mu$ of the response variable depends on the predictor variables $X$ through a **link function** $g(\\cdot)$:\n",
        "\n",
        "$$ g(\\mu) = X \\beta $$\n",
        "\n",
        "Common choices for \\$$g(\\cdot)$ are:\n",
        "\n",
        "-   **Log link**: $g(\\mu) = \\log(\\mu)$\n",
        "\n",
        "-   **Inverse link**: $g(\\mu) = \\frac{1}{\\mu}$\n",
        "\n",
        "The log link is the most common, ensuring that the predicted mean $\\mu$ is always positive. With the log link, we get:\n",
        "\n",
        "$\\log(\\mu) = X \\beta \\Rightarrow \\mu = e\\^{X \\beta}$\n",
        "\n",
        "***Setting Up the Likelihood Function***\n",
        "\n",
        "Given $y_i$ as an observation from a Gamma distribution with mean $\\mu_i$, we define the likelihood function based on the Gamma PDF. For (n) observations, the joint likelihood $L(\\beta)$ is:\n",
        "\n",
        "$$ L(\\beta) = \\prod\\_{i=1}\\^n \\frac{y_i^{k - 1} e^{-\\frac{y_i}{\\theta}}}{\\theta^k \\Gamma(k)} $$\n",
        "\n",
        "In practice, we usually work with the **log-likelihood**, which for a Gamma-distributed $y_i$ with mean $\\mu_i$ can be expressed as:\n",
        "\n",
        "$$ \\log L(\\beta) = \\sum_{i=1}^n \\left( (k - 1) \\log(y_i) - \\frac{y_i}{\\theta} - k \\log(\\theta) - \\log(\\Gamma(k)) \\right)  $$\n",
        "\n",
        "***Estimating the Parameters***\n",
        "\n",
        "To estimate $\\beta$, we maximize the log-likelihood function with respect to $\\beta$ using an iterative optimization algorithm, such as **iteratively reweighted least squares (IRLS)** in a generalized linear model (GLM) framework.\n",
        "\n",
        "For example, with the log link function, we solve for ( \\beta ) by maximizing:\n",
        "\n",
        "$$ \\sum_{i=1}^n \\left( (k - 1) \\log(y_i) - \\frac{y_i}{e^{X_i \\beta} \\cdot k} - k \\log(\\theta) - \\log(\\Gamma(k)) \\right)  $$\n",
        "\n",
        "Using statistical software, you can estimate $\\beta$ without calculating derivatives manually, as most packages handle this for you.\n",
        "\n",
        "***Making Predictions***\n",
        "\n",
        "Once the parameters $\\beta$ are estimated, predictions can be made using the fitted model:\n",
        "\n",
        "$$ \\hat{\\mu} = e^{X \\hat{\\beta}} $$\n",
        "\n",
        " ***When to Use Gamma Regression***\n",
        "\n",
        "_ Gamma regression is typically suitable when: - The response variable is positive and continuous. - The data is right-skewed (meaning that there are more lower values, with a few higher outliers). - The variance increases with the mean, which is common in real-world data, especially in economics and biological sciences.\n",
        "\n",
        "- In cases where these conditions are met, a Gamma regression model can accurately capture the data’s behavior, offering a flexible approach for prediction and inference.\n",
        "\n",
        "Here are some common types of data and use cases where Gamma regression is a good choice:\n",
        "\n",
        "1. **Monetary Data (Costs, Claims, Expenses)**\n",
        "\n",
        "-   **Insurance claims**: The size of insurance claims often follows a Gamma-like distribution since claims are always positive and skewed, with few very high claims.\n",
        "-   **Healthcare costs**: Medical expenses for treatments or hospital stays often have a Gamma distribution, with many low-cost cases and fewer high-cost ones.\n",
        "-   **Sales or revenue data**: Especially for per-customer sales or revenue data, where amounts tend to vary widely and have a positive skew.\n",
        "\n",
        "2. **Duration or Survival Data**\n",
        "\n",
        "-   **Time until an event**: For example, time until an employee leaves a job (employee turnover), or time until a product breaks or needs repair.\n",
        "-   **Waiting times**: For instance, waiting times in queues, customer service, or transportation are often positive, with a few very long waits.\n",
        "\n",
        "3. **Biological and Environmental Measurements**\n",
        "\n",
        "-   **Reaction times**: In psychology and neuroscience, reaction times are often Gamma-distributed, as they are positive, continuous, and can vary widely.\n",
        "-   **Rainfall amounts**: Daily rainfall amounts are non-negative and positively skewed, with many days of low rainfall and a few days with very high amounts.\n",
        "-   **Chemical concentration levels**: The concentration of a particular chemical in samples, which might have a skewed, positive distribution.\n",
        "\n",
        " 4. **Reliability and Engineering Data**\n",
        "\n",
        "-   **Failure times**: In engineering and reliability studies, the time until a component or system fails is often modeled with a Gamma distribution.\n",
        "-   **Load data**: The amount of load or stress a system can handle before failure, which can vary and has a skewed distribution."
      ],
      "metadata": {
        "id": "neuAm4Qy9ZYX"
      }
    },
    {
      "cell_type": "markdown",
      "source": [
        "## Install rpy2"
      ],
      "metadata": {
        "id": "BQDQMxpJ9z_f"
      }
    },
    {
      "cell_type": "code",
      "execution_count": 1,
      "metadata": {
        "colab": {
          "base_uri": "https://localhost:8080/"
        },
        "id": "5j-UYffx9N09",
        "outputId": "d55e6e39-0378-4870-8cfa-b9a3720704ba"
      },
      "outputs": [
        {
          "output_type": "stream",
          "name": "stdout",
          "text": [
            "Found existing installation: rpy2 3.4.2\n",
            "Uninstalling rpy2-3.4.2:\n",
            "  Successfully uninstalled rpy2-3.4.2\n",
            "Collecting rpy2==3.5.1\n",
            "  Downloading rpy2-3.5.1.tar.gz (201 kB)\n",
            "\u001b[2K     \u001b[90m━━━━━━━━━━━━━━━━━━━━━━━━━━━━━━━━━━━━━━━━\u001b[0m \u001b[32m201.7/201.7 kB\u001b[0m \u001b[31m3.8 MB/s\u001b[0m eta \u001b[36m0:00:00\u001b[0m\n",
            "\u001b[?25h  Preparing metadata (setup.py) ... \u001b[?25l\u001b[?25hdone\n",
            "Requirement already satisfied: cffi>=1.10.0 in /usr/local/lib/python3.11/dist-packages (from rpy2==3.5.1) (1.17.1)\n",
            "Requirement already satisfied: jinja2 in /usr/local/lib/python3.11/dist-packages (from rpy2==3.5.1) (3.1.5)\n",
            "Requirement already satisfied: pytz in /usr/local/lib/python3.11/dist-packages (from rpy2==3.5.1) (2025.1)\n",
            "Requirement already satisfied: tzlocal in /usr/local/lib/python3.11/dist-packages (from rpy2==3.5.1) (5.2)\n",
            "Requirement already satisfied: pycparser in /usr/local/lib/python3.11/dist-packages (from cffi>=1.10.0->rpy2==3.5.1) (2.22)\n",
            "Requirement already satisfied: MarkupSafe>=2.0 in /usr/local/lib/python3.11/dist-packages (from jinja2->rpy2==3.5.1) (3.0.2)\n",
            "Building wheels for collected packages: rpy2\n",
            "  Building wheel for rpy2 (setup.py) ... \u001b[?25l\u001b[?25hdone\n",
            "  Created wheel for rpy2: filename=rpy2-3.5.1-cp311-cp311-linux_x86_64.whl size=314965 sha256=4989336ced7c0025fde89f266905b2b9f26082addaec1ede7399d2607bca1ed4\n",
            "  Stored in directory: /root/.cache/pip/wheels/e9/55/d1/47be85a5f3f1e1f4d1e91cb5e3a4dcb40dd72147f184c5a5ef\n",
            "Successfully built rpy2\n",
            "Installing collected packages: rpy2\n",
            "Successfully installed rpy2-3.5.1\n"
          ]
        }
      ],
      "source": [
        "!pip uninstall rpy2 -y\n",
        "!pip install rpy2==3.5.1\n",
        "%load_ext rpy2.ipython"
      ]
    },
    {
      "cell_type": "markdown",
      "source": [
        "## Mount Google Drive"
      ],
      "metadata": {
        "id": "xg8ZRtsE-Aot"
      }
    },
    {
      "cell_type": "code",
      "source": [
        "from google.colab import drive\n",
        "drive.mount('/content/drive')"
      ],
      "metadata": {
        "colab": {
          "base_uri": "https://localhost:8080/"
        },
        "id": "sLu24QrR-M9L",
        "outputId": "3a64cb65-00d3-453a-b550-4fc767730643"
      },
      "execution_count": 2,
      "outputs": [
        {
          "output_type": "stream",
          "name": "stdout",
          "text": [
            "Mounted at /content/drive\n"
          ]
        }
      ]
    },
    {
      "cell_type": "markdown",
      "source": [
        "## Gamma Regression Model from Scratch\n",
        "\n",
        "Sure, let’s walk through creating a Gamma regression model in R from scratch, without any packages. We'll:\n",
        "\n",
        "1.  Generate synthetic data that follows a Gamma distribution.\n",
        "2.  Set up a simple Gamma regression model using a log link function.\n",
        "3.  Implement the model's parameter estimation using maximum likelihood.\n",
        "\n",
        "Here’s the code, along with an explanation of each step."
      ],
      "metadata": {
        "id": "401-6LXXVDTD"
      }
    },
    {
      "cell_type": "markdown",
      "source": [
        "### Generate Synthetic Gamma Data\n",
        "\n",
        "We'll generate synthetic data where the response variable $y$ is Gamma-distributed, with the mean modeled as a function of a predictor variable $x$ and some known coefficients."
      ],
      "metadata": {
        "id": "ziWoodGNVPlp"
      }
    },
    {
      "cell_type": "code",
      "source": [
        "%%R\n",
        "# Set a seed for reproducibility\n",
        "set.seed(42)\n",
        "\n",
        "# Generate predictor variable `x`\n",
        "n <- 100\n",
        "x <- runif(n, 0, 5)  # x ranges from 0 to 5\n",
        "\n",
        "# Define true coefficients for the linear model (log-link)\n",
        "beta0 <- 1.5  # Intercept\n",
        "beta1 <- 0.5  # Slope\n",
        "\n",
        "# Calculate mean response based on x and the coefficients, with log link\n",
        "mu <- exp(beta0 + beta1 * x)\n",
        "\n",
        "# Define shape parameter for the Gamma distribution\n",
        "k <- 2  # shape parameter for the Gamma distribution\n",
        "\n",
        "# Generate response variable `y` with Gamma distributed noise\n",
        "y <- rgamma(n, shape = k, rate = k / mu)  # rate = shape / mean"
      ],
      "metadata": {
        "id": "F4BsYSzyVRdq"
      },
      "execution_count": null,
      "outputs": []
    },
    {
      "cell_type": "markdown",
      "source": [
        "### Define the Log-Likelihood Function\n",
        "\n",
        "To estimate the coefficients $\\beta$ of the Gamma regression model, we need to define the log-likelihood function. We will only need the terms involving $\\beta$, where $\\mu_i = e^{X \\beta}$. The log-likelihood function for a single observation $y_i$ is:"
      ],
      "metadata": {
        "id": "2iBMrwwIVgsV"
      }
    },
    {
      "cell_type": "code",
      "source": [
        "%%R\n",
        "# Define the log-likelihood function for Gamma regression\n",
        "log_likelihood <- function(beta) {\n",
        "  # Calculate the predicted mean (log-link function)\n",
        "  mu_pred <- exp(beta[1] + beta[2] * x)\n",
        "\n",
        "  # Calculate the log-likelihood for each observation and sum\n",
        "  ll <- sum(dgamma(y, shape = k, rate = k / mu_pred, log = TRUE))\n",
        "  return(-ll)  # Return negative log-likelihood for minimization\n",
        "}"
      ],
      "metadata": {
        "id": "2SvUUezFVlUb"
      },
      "execution_count": null,
      "outputs": []
    },
    {
      "cell_type": "markdown",
      "source": [
        "### Estimate Parameters by Maximizing the Log-Likelihood\n",
        "\n",
        "Now we’ll use `optim()` to minimize the negative log-likelihood and estimate the coefficients $\\beta_0$ and $\\beta_1$."
      ],
      "metadata": {
        "id": "zjxeorVCVpm8"
      }
    },
    {
      "cell_type": "code",
      "source": [
        "%%R\n",
        "# Initial guesses for beta coefficients\n",
        "initial_guess <- c(0, 0)\n",
        "\n",
        "# Use optim to find the values of beta that minimize the negative log-likelihood\n",
        "result <- optim(par = initial_guess, fn = log_likelihood)\n",
        "\n",
        "# Extract estimated coefficients\n",
        "beta_est <- result$par\n",
        "cat(\"Estimated coefficients:\\n\")\n",
        "cat(\"beta0 (Intercept):\", beta_est[1], \"\\n\")\n",
        "cat(\"beta1 (Slope):\", beta_est[2], \"\\n\")"
      ],
      "metadata": {
        "id": "oUv-_ANcVqV9",
        "colab": {
          "base_uri": "https://localhost:8080/"
        },
        "outputId": "2701decd-56b7-44f6-a22f-e87521cceaa4"
      },
      "execution_count": null,
      "outputs": [
        {
          "output_type": "stream",
          "name": "stdout",
          "text": [
            "Estimated coefficients:\n",
            "beta0 (Intercept): 1.554173 \n",
            "beta1 (Slope): 0.4932095 \n"
          ]
        }
      ]
    },
    {
      "cell_type": "markdown",
      "source": [
        "### Make Predictions\n",
        "\n",
        "With the estimated coefficients, we can predict the mean response $\\hat{\\mu}$ for new values of $x$.\n"
      ],
      "metadata": {
        "id": "DFMss3idVv-2"
      }
    },
    {
      "cell_type": "code",
      "source": [
        "%%R\n",
        "# Predicted mean for the original data\n",
        "mu_pred <- exp(beta_est[1] + beta_est[2] * x)\n",
        "\n",
        "# Compare the predicted vs actual values\n",
        "data.frame(x = x, y = y, predicted_mu = mu_pred)"
      ],
      "metadata": {
        "id": "Z3Pfvh3-Vw-R"
      },
      "execution_count": null,
      "outputs": []
    },
    {
      "cell_type": "markdown",
      "source": [
        "### Prediction Performance"
      ],
      "metadata": {
        "id": "hHoGgZqaV20J"
      }
    },
    {
      "cell_type": "code",
      "source": [
        "%%R\n",
        "# Performance metrics\n",
        "MAE <- mean(abs(y - mu_pred))                # Mean Absolute Error\n",
        "MSE <- mean((y - mu_pred)^2)                 # Mean Squared Error\n",
        "SS_res <- sum((y - mu_pred)^2)               # Residual sum of squares\n",
        "SS_tot <- sum((y - mean(y))^2)               # Total sum of squares\n",
        "R_squared <- 1 - SS_res / SS_tot             # R-squared\n",
        "\n",
        "\n",
        "# Summary statistics table\n",
        "summary_table <- data.frame(\n",
        "  Metric = c(\"Intercept (beta0)\", \"Slope (beta1)\", \"MAE\", \"MSE\", \"R-squared\"),\n",
        "  Value = c(beta_est[1], beta_est[2], MAE, MSE, R_squared)\n",
        ")\n",
        "\n",
        "cat(\"\\nSummary Statistics Table:\\n\")\n",
        "print(summary_table)\n"
      ],
      "metadata": {
        "id": "ISXUXuqEV34u",
        "colab": {
          "base_uri": "https://localhost:8080/"
        },
        "outputId": "164d2517-f1a2-4df2-d730-5b39114bcde3"
      },
      "execution_count": null,
      "outputs": [
        {
          "output_type": "stream",
          "name": "stdout",
          "text": [
            "\n",
            "Summary Statistics Table:\n",
            "             Metric       Value\n",
            "1 Intercept (beta0)   1.5541728\n",
            "2     Slope (beta1)   0.4932095\n",
            "3               MAE  11.9322726\n",
            "4               MSE 299.7897444\n",
            "5         R-squared   0.4362400\n"
          ]
        }
      ]
    },
    {
      "cell_type": "markdown",
      "source": [
        "### Cross-validation"
      ],
      "metadata": {
        "id": "ka6mhoNMvapg"
      }
    },
    {
      "cell_type": "code",
      "source": [
        "%%R\n",
        "# Set seed for reproducibility\n",
        "set.seed(42)\n",
        "\n",
        "# Define the number of folds\n",
        "k_folds <- 5\n",
        "n <- length(y)\n",
        "folds <- sample(rep(1:k_folds, length.out = n))\n",
        "\n",
        "# Define a function to calculate Mean Squared Error (MSE)\n",
        "mse <- function(actual, predicted) {\n",
        "  mean((actual - predicted)^2)\n",
        "}\n",
        "\n",
        "# Initialize vector to store MSE for each fold\n",
        "mse_values <- numeric(k_folds)\n",
        "\n",
        "for (fold in 1:k_folds) {\n",
        "  # Split data into training and validation sets\n",
        "  train_index <- which(folds != fold)\n",
        "  test_index <- which(folds == fold)\n",
        "\n",
        "  x_train <- x[train_index]\n",
        "  y_train <- y[train_index]\n",
        "\n",
        "  x_test <- x[test_index]\n",
        "  y_test <- y[test_index]\n",
        "\n",
        "  # Redefine the log-likelihood function for the training set\n",
        "  log_likelihood_train <- function(beta) {\n",
        "    mu_pred <- exp(beta[1] + beta[2] * x_train)\n",
        "    ll <- sum(dgamma(y_train, shape = k, rate = k / mu_pred, log = TRUE))\n",
        "    return(-ll)\n",
        "  }\n",
        "\n",
        "  # Estimate parameters using training data\n",
        "  result <- optim(par = c(0, 0), fn = log_likelihood_train)\n",
        "  beta_est <- result$par\n",
        "\n",
        "  # Make predictions on the test set\n",
        "  mu_pred_test <- exp(beta_est[1] + beta_est[2] * x_test)\n",
        "\n",
        "  # Calculate MSE for this fold and store it\n",
        "  mse_values[fold] <- mse(y_test, mu_pred_test)\n",
        "}\n",
        "\n",
        "# Calculate average MSE across all folds\n",
        "average_mse <- mean(mse_values)\n",
        "\n",
        "# Display results\n",
        "cat(\"MSE for each fold:\\n\")\n",
        "print(mse_values)\n",
        "cat(\"Average MSE across folds:\", average_mse, \"\\n\")"
      ],
      "metadata": {
        "colab": {
          "base_uri": "https://localhost:8080/"
        },
        "id": "qGrjMPJ1vhS9",
        "outputId": "8bd4fed7-579c-4da3-a1d3-83c32772f36c"
      },
      "execution_count": null,
      "outputs": [
        {
          "output_type": "stream",
          "name": "stdout",
          "text": [
            "MSE for each fold:\n",
            "[1] 503.5098 232.0111 218.7052 120.2255 500.7965\n",
            "Average MSE across folds: 315.0496 \n"
          ]
        }
      ]
    },
    {
      "cell_type": "markdown",
      "source": [
        "\n",
        "## Gamma Regression in R\n",
        "\n",
        "Multinomial Logistic Regression in R can be implemented using the `multinom()` function from the {nnet} package. This function allows us to fit a logistic regression model when the outcome variable has more than two categories."
      ],
      "metadata": {
        "id": "xHTL9YWrT_b5"
      }
    },
    {
      "cell_type": "markdown",
      "source": [
        "### Check and Install Required R Packages"
      ],
      "metadata": {
        "id": "OMPKY7UvM2N8"
      }
    },
    {
      "cell_type": "code",
      "source": [
        "%%R\n",
        "packages <- c('tidyverse',\n",
        "     'plyr',\n",
        "\t  'DataExplorer',\n",
        "\t\t 'dlookr',\n",
        "\t\t 'rstatix',\n",
        "\t\t 'gtsummary',\n",
        "\t\t 'performance',\n",
        "\t   'report',\n",
        "\t\t 'sjPlot',\n",
        "\t\t 'margins',\n",
        "\t\t 'marginaleffects',\n",
        "\t\t 'ggeffects',\n",
        "\t\t 'patchwork',\n",
        "\t\t 'Metrics'\n",
        "\t  \t)\n",
        ""
      ],
      "metadata": {
        "id": "tAmJREXmM2YP"
      },
      "execution_count": 7,
      "outputs": []
    },
    {
      "cell_type": "code",
      "source": [
        "%%R\n",
        "# Install missing packages\n",
        "new.packages <- packages[!(pkg %in% installed.packages(lib='drive/My Drive/R/')[,\"Package\"])]\n",
        "if(length(new.packages)) install.packages(new.packages, lib='drive/My Drive/R/')"
      ],
      "metadata": {
        "id": "2FYEfQTat_qF"
      },
      "execution_count": null,
      "outputs": []
    },
    {
      "cell_type": "code",
      "source": [
        "%%R\n",
        "# set library path\n",
        ".libPaths('drive/My Drive/R')\n",
        "# Verify installation\n",
        "cat(\"Installed packages:\\n\")\n",
        "print(sapply(packages, requireNamespace, quietly = TRUE))"
      ],
      "metadata": {
        "colab": {
          "base_uri": "https://localhost:8080/"
        },
        "id": "n-jV19EYt__5",
        "outputId": "dd13147d-934c-4c55-c77f-86d40b35e562"
      },
      "execution_count": 8,
      "outputs": [
        {
          "output_type": "stream",
          "name": "stdout",
          "text": [
            "Installed packages:\n",
            "      tidyverse            plyr    DataExplorer          dlookr         rstatix \n",
            "           TRUE            TRUE            TRUE            TRUE            TRUE \n",
            "      gtsummary     performance          report          sjPlot         margins \n",
            "           TRUE            TRUE            TRUE            TRUE            TRUE \n",
            "marginaleffects       ggeffects       patchwork         Metrics \n",
            "           TRUE            TRUE            TRUE            TRUE \n"
          ]
        }
      ]
    },
    {
      "cell_type": "markdown",
      "source": [
        "### Load packages"
      ],
      "metadata": {
        "id": "nMQai29xNYRy"
      }
    },
    {
      "cell_type": "code",
      "source": [
        "%%R\n",
        "# set library path\n",
        ".libPaths('drive/My Drive/R')\n",
        "# Load packages with suppressed messages\n",
        "invisible(lapply(packages, function(pkg) {\n",
        "  suppressPackageStartupMessages(library(pkg, character.only = TRUE))\n",
        "}))\n",
        "# Check loaded packages\n",
        "cat(\"Successfully loaded packages:\\n\")\n",
        "print(search()[grepl(\"package:\", search())])# Check loaded packages"
      ],
      "metadata": {
        "id": "XZeYlKM9NYhx",
        "colab": {
          "base_uri": "https://localhost:8080/"
        },
        "outputId": "1a5434dc-74b7-4ae4-e0fa-7ac9e2f08d85"
      },
      "execution_count": 9,
      "outputs": [
        {
          "output_type": "stream",
          "name": "stdout",
          "text": [
            "Successfully loaded packages:\n",
            " [1] \"package:Metrics\"         \"package:patchwork\"      \n",
            " [3] \"package:ggeffects\"       \"package:marginaleffects\"\n",
            " [5] \"package:margins\"         \"package:sjPlot\"         \n",
            " [7] \"package:report\"          \"package:performance\"    \n",
            " [9] \"package:gtsummary\"       \"package:rstatix\"        \n",
            "[11] \"package:dlookr\"          \"package:DataExplorer\"   \n",
            "[13] \"package:plyr\"            \"package:lubridate\"      \n",
            "[15] \"package:forcats\"         \"package:stringr\"        \n",
            "[17] \"package:dplyr\"           \"package:purrr\"          \n",
            "[19] \"package:readr\"           \"package:tidyr\"          \n",
            "[21] \"package:tibble\"          \"package:ggplot2\"        \n",
            "[23] \"package:tidyverse\"       \"package:tools\"          \n",
            "[25] \"package:stats\"           \"package:graphics\"       \n",
            "[27] \"package:grDevices\"       \"package:utils\"          \n",
            "[29] \"package:datasets\"        \"package:methods\"        \n",
            "[31] \"package:base\"           \n"
          ]
        }
      ]
    },
    {
      "cell_type": "markdown",
      "source": [
        "### Data\n",
        "\n",
        "In this tutorial, we will be using [Insurance Premium Data](https://www.kaggle.com/datasets/teertha/ushealthinsurancedataset) data set. This data consists of the following fields:\n",
        "\n",
        "`Age`: The age column ranges from 18 to 64 years, which is the typical working age range for health insurance beneficiaries.\n",
        "\n",
        "`Sex`: The sex column contains two unique values, likely male and female.\n",
        "\n",
        "`BMI (Body Mass Index)`: The BMI column values range from 15.96 to 53.13, which covers a wide range of body mass indices.\n",
        "\n",
        "`Children`: The children column indicates that beneficiaries have between 0 and 5 children/dependents covered by their insurance.\n",
        "\n",
        "`Smoker`: The smoker column contains two unique values, likely indicating whether the beneficiary is a smoker or not.\n",
        "\n",
        "`Region`: The region column has four unique values, corresponding to the four regions in the US where beneficiaries are located.\n",
        "\n",
        "`Charges:` The charges column, which seems to be a continuous variable, ranges from 1121.87 to 63770.43, indicating a wide range of individual medical costs billed by health insurance.\n",
        "\n",
        "We will use `read_csv()` function of {readr} package to import data as a **tidy** data.\n"
      ],
      "metadata": {
        "id": "q5hd8qgrCx4Z"
      }
    },
    {
      "cell_type": "code",
      "source": [
        "%%R\n",
        "mf<-read_csv(\"https://github.com/zia207/r-colab/raw/main/Data/Regression_analysis/insurance_premium.csv\") |>\n",
        "  glimpse()"
      ],
      "metadata": {
        "colab": {
          "base_uri": "https://localhost:8080/"
        },
        "id": "2ph3ubD_C1WL",
        "outputId": "9e427403-4ecb-4f47-fa20-4bbcdcc425d0"
      },
      "execution_count": null,
      "outputs": [
        {
          "output_type": "stream",
          "name": "stdout",
          "text": [
            "Rows: 1338 Columns: 7\n",
            "── Column specification ────────────────────────────────────────────────────────\n",
            "Delimiter: \",\"\n",
            "chr (3): sex, smoker, region\n",
            "dbl (4): age, bmi, children, expenses\n",
            "\n",
            "ℹ Use `spec()` to retrieve the full column specification for this data.\n",
            "ℹ Specify the column types or set `show_col_types = FALSE` to quiet this message.\n",
            "Rows: 1,338\n",
            "Columns: 7\n",
            "$ age      <dbl> 19, 18, 28, 33, 32, 31, 46, 37, 37, 60, 25, 62, 23, 56, 27, 1…\n",
            "$ sex      <chr> \"female\", \"male\", \"male\", \"male\", \"male\", \"female\", \"female\",…\n",
            "$ bmi      <dbl> 27.9, 33.8, 33.0, 22.7, 28.9, 25.7, 33.4, 27.7, 29.8, 25.8, 2…\n",
            "$ children <dbl> 0, 1, 3, 0, 0, 0, 1, 3, 2, 0, 0, 0, 0, 0, 0, 1, 1, 0, 0, 0, 0…\n",
            "$ smoker   <chr> \"yes\", \"no\", \"no\", \"no\", \"no\", \"no\", \"no\", \"no\", \"no\", \"no\", …\n",
            "$ region   <chr> \"southwest\", \"southeast\", \"southeast\", \"northwest\", \"northwes…\n",
            "$ expenses <dbl> 16884.92, 1725.55, 4449.46, 21984.47, 3866.86, 3756.62, 8240.…\n"
          ]
        }
      ]
    },
    {
      "cell_type": "markdown",
      "source": [
        "This **Insurance Premium Dataset** is indeed a good candidate for Gamma regression, and here’s why:\n",
        "\n",
        "1.  **Continuous and Positive Target Variable**\n",
        "\n",
        "-   The `charges` or `premium` variable, which represents the medical costs or insurance premiums, is a **continuous** and **positive** variable. Gamma regression is specifically designed to model such outcomes, as it requires the target variable to be strictly positive.\n",
        "\n",
        "2.  **Skewed Distribution of Charges**\n",
        "\n",
        "-   Insurance costs or premiums often have a **right-skewed distribution**. A small number of high-cost cases (e.g., due to severe health conditions) can drive up the mean. Gamma regression is well-suited for such skewed distributions because the Gamma distribution can handle this asymmetry.\n",
        "\n",
        "3.  **Variance Increases with Mean**\n",
        "\n",
        "-   In insurance datasets, higher expected charges (mean) often come with higher variability. For example, older individuals or those with riskier health factors (e.g., smoking, high BMI) are expected to have both higher average costs and greater variability in costs. **Gamma regression** handles this by allowing the variance to increase with the mean, which matches the characteristics of the dataset.\n",
        "\n",
        "4.  **Predictors with Log-Linear Relationships**\n",
        "\n",
        "-   Gamma regression typically uses a **log link function**, meaning that the relationship between the predictors (e.g., age, BMI, smoker status) and the expected charges is **multiplicative**. This allows Gamma regression to capture nonlinear relationships effectively and can reflect that costs increase exponentially with risk factors rather than linearly."
      ],
      "metadata": {
        "id": "m9CXwj9R5Wts"
      }
    },
    {
      "cell_type": "markdown",
      "source": [
        "#### Data Processing\n",
        "\n",
        "Dataset contains BMI values studied subjects which was a calculation of a body person's weight (in kilograms) divided by the square of their height (in meters). We will categorize this this values into four classes according to the [CDC recommendation](https://www.cdc.gov/bmi/adult-calculator/bmi-categories.html):\n",
        "\n",
        "-   `Underweight`: Less than 18.5\n",
        "\n",
        "-   `Healthy Weight`: 18.5 to less than 25\n",
        "\n",
        "-   `Overweight`: 25 to less than 30\n",
        "\n",
        "-   `Obesity`: 30 or greater\n",
        "\n"
      ],
      "metadata": {
        "id": "4p3c80VX5blT"
      }
    },
    {
      "cell_type": "code",
      "source": [
        "%%R\n",
        "mf$bmi_categories<- cut(mf$bmi,\n",
        "                   breaks=c(-Inf, 18.5, 25, 29.9,  Inf),\n",
        "                   labels=c(\"underweight\",\n",
        "                            \"normal\",\n",
        "                            \"overweight\",\n",
        "                            \"obesity\"))"
      ],
      "metadata": {
        "id": "3VdlXFA15bvb"
      },
      "execution_count": null,
      "outputs": []
    },
    {
      "cell_type": "markdown",
      "source": [
        "#### Convert to Factor\n",
        "\n"
      ],
      "metadata": {
        "id": "0tTLUEkdItLN"
      }
    },
    {
      "cell_type": "code",
      "source": [
        "%%R\n",
        "mf$sex<- as.factor(mf$sex)\n",
        "mf$smoker <- as.factor(mf$smoker)\n",
        "mf$region <- as.factor(mf$region)"
      ],
      "metadata": {
        "id": "XCMe3RP5e4JK"
      },
      "execution_count": null,
      "outputs": []
    },
    {
      "cell_type": "markdown",
      "source": [
        "#### Data Description\n",
        "\n",
        "First we use We use `diagnose()` function of {dlookr} package to do general general diagnosis of all variables.\n"
      ],
      "metadata": {
        "id": "Au3T0zmgm-Gl"
      }
    },
    {
      "cell_type": "code",
      "source": [
        "%%R\n",
        "dlookr::diagnose(mf)"
      ],
      "metadata": {
        "colab": {
          "base_uri": "https://localhost:8080/"
        },
        "id": "OVc1VRBeIwcQ",
        "outputId": "437da77c-4dd1-4184-c463-20ecd4a96c21"
      },
      "execution_count": null,
      "outputs": [
        {
          "output_type": "stream",
          "name": "stdout",
          "text": [
            "# A tibble: 8 × 6\n",
            "  variables      types   missing_count missing_percent unique_count unique_rate\n",
            "  <chr>          <chr>           <int>           <dbl>        <int>       <dbl>\n",
            "1 age            numeric             0               0           47     0.0351 \n",
            "2 sex            factor              0               0            2     0.00149\n",
            "3 bmi            numeric             0               0          275     0.206  \n",
            "4 children       numeric             0               0            6     0.00448\n",
            "5 smoker         factor              0               0            2     0.00149\n",
            "6 region         factor              0               0            4     0.00299\n",
            "7 expenses       numeric             0               0         1337     0.999  \n",
            "8 bmi_categories factor              0               0            4     0.00299\n"
          ]
        }
      ]
    },
    {
      "cell_type": "markdown",
      "source": [
        "Then we will use `plot_histogram()` function of {DataExpler} package to see the distribution expenses data."
      ],
      "metadata": {
        "id": "spjlSrddnFn3"
      }
    },
    {
      "cell_type": "code",
      "source": [
        "%%R -w 500 -h 450 -u px\n",
        "mf  |>\n",
        "  dplyr::select(expenses)  |>\n",
        "  plot_histogram()"
      ],
      "metadata": {
        "id": "MfwmcsxsnKox",
        "colab": {
          "base_uri": "https://localhost:8080/",
          "height": 467
        },
        "outputId": "50762b9d-7f33-46af-9b07-409ae1f915d4"
      },
      "execution_count": null,
      "outputs": [
        {
          "output_type": "display_data",
          "data": {
            "image/png": "[encoded data removed]"
          },
          "metadata": {}
        }
      ]
    },
    {
      "cell_type": "code",
      "source": [
        "%%R\n",
        "moments::skewness(mf$expenses, na.rm = TRUE)"
      ],
      "metadata": {
        "colab": {
          "base_uri": "https://localhost:8080/"
        },
        "id": "CVKydBXI6Upg",
        "outputId": "d0dba333-ebd0-4146-998d-75887451669f"
      },
      "execution_count": null,
      "outputs": [
        {
          "output_type": "stream",
          "name": "stdout",
          "text": [
            "[1] 1.51418\n"
          ]
        }
      ]
    },
    {
      "cell_type": "markdown",
      "source": [
        "High positive value indicates that the distribution is highly skewed at right-hand sight, which means that in some individual have high expenses (\\>20,000) in health insurance.\n",
        "\n",
        "`plot_bar()` function from {DataExploer} package create frequency distribution of expenses, based on bmi, _catagories, sex, smoking and regions:"
      ],
      "metadata": {
        "id": "yd3Ys6F86XIo"
      }
    },
    {
      "cell_type": "code",
      "source": [
        "%%R -w 700 -h 600 -u px\n",
        "mf  |>\n",
        "  dplyr::select(bmi_categories, sex, smoker, region)  |>\n",
        "  plot_bar()"
      ],
      "metadata": {
        "colab": {
          "base_uri": "https://localhost:8080/",
          "height": 617
        },
        "id": "rOFKmDuN6b9O",
        "outputId": "163b012e-7db6-4345-baf9-7be2cedb0269"
      },
      "execution_count": null,
      "outputs": [
        {
          "output_type": "display_data",
          "data": {
            "image/png": "[encoded data removed]"
          },
          "metadata": {}
        }
      ]
    },
    {
      "cell_type": "markdown",
      "source": [
        "#### Split Data"
      ],
      "metadata": {
        "id": "irYGsm-Dh4xs"
      }
    },
    {
      "cell_type": "code",
      "source": [
        "%%R\n",
        "seeds = 11076\n",
        "tr_prop = 0.70\n",
        "# training data (70% data)\n",
        "train= ddply(mf,.(bmi_categories, sex),\n",
        "                 function(., seed) { set.seed(seed); .[sample(1:nrow(.), trunc(nrow(.) * tr_prop)), ] }, seed = 101)\n",
        "test = ddply(mf, .(bmi_categories, sex),\n",
        "            function(., seed) { set.seed(seed); .[-sample(1:nrow(.), trunc(nrow(.) * tr_prop)), ] }, seed = 101)"
      ],
      "metadata": {
        "id": "Hl-b7QO-h5Al"
      },
      "execution_count": null,
      "outputs": []
    },
    {
      "cell_type": "code",
      "source": [
        "%%R -w 450 -h 400\n",
        "# Density plot all, train and test data\n",
        "ggplot()+\n",
        "  geom_density(data = mf, aes(expenses))+\n",
        "  geom_density(data = train, aes(expenses), color = \"green\")+\n",
        "  geom_density(data = test, aes(expenses), color = \"red\") +\n",
        "      xlab(\"Expenses\") +\n",
        "     ylab(\"Density\")"
      ],
      "metadata": {
        "colab": {
          "base_uri": "https://localhost:8080/",
          "height": 417
        },
        "id": "FCXlzsUS-mHj",
        "outputId": "cbb54f1a-c279-4e0d-e627-d58f8daf37c1"
      },
      "execution_count": null,
      "outputs": [
        {
          "output_type": "display_data",
          "data": {
            "image/png": "[encoded data removed]"
          },
          "metadata": {}
        }
      ]
    },
    {
      "cell_type": "markdown",
      "source": [
        "\n",
        "## Fit a Gamma Model in R\n",
        "\n",
        "\n",
        "\n",
        "\n"
      ],
      "metadata": {
        "id": "P3o8Ay9miNcO"
      }
    },
    {
      "cell_type": "markdown",
      "source": [
        "### Only Intercept model\n",
        "\n",
        "First we will fit Gamma model with intercept-only. l. This means modeling the data with no predictors. For gamma models, this would mean estimating the shape and scale parameters of the data. Notice we set `link = \"log\".` This is in response to errors and warnings that we received when using `link = \"identity\"` and `link = \"inverse\"` to fit more complicated models"
      ],
      "metadata": {
        "id": "KEXucqI3_ASw"
      }
    },
    {
      "cell_type": "code",
      "source": [
        "%%R\n",
        "# Fit the ordinal logistic regression model\n",
        "inter.gamma<-glm(expenses ~ 1, data =train,\n",
        "          family = Gamma(link = \"log\"))\n",
        "summary(inter.gamma)"
      ],
      "metadata": {
        "id": "do4-RiQYiQmN",
        "colab": {
          "base_uri": "https://localhost:8080/"
        },
        "outputId": "e14d1c40-d46c-4b57-db54-c801bdaddd96"
      },
      "execution_count": null,
      "outputs": [
        {
          "output_type": "stream",
          "name": "stdout",
          "text": [
            "\n",
            "Call:\n",
            "glm(formula = expenses ~ 1, family = Gamma(link = \"log\"), data = train)\n",
            "\n",
            "Coefficients:\n",
            "            Estimate Std. Error t value Pr(>|t|)    \n",
            "(Intercept)  9.46533    0.02974   318.3   <2e-16 ***\n",
            "---\n",
            "Signif. codes:  0 ‘***’ 0.001 ‘**’ 0.01 ‘*’ 0.05 ‘.’ 0.1 ‘ ’ 1\n",
            "\n",
            "(Dispersion parameter for Gamma family taken to be 0.8244218)\n",
            "\n",
            "    Null deviance: 728.98  on 931  degrees of freedom\n",
            "Residual deviance: 728.98  on 931  degrees of freedom\n",
            "AIC: 19454\n",
            "\n",
            "Number of Fisher Scoring iterations: 5\n",
            "\n"
          ]
        }
      ]
    },
    {
      "cell_type": "markdown",
      "source": [
        "From above output, we notice the null and residual deviance are identical. The null deviance always reports deviance for the intercept-only model.\n",
        "\n",
        "If we exponentiate the intercept we get the overall mean of `expenses`."
      ],
      "metadata": {
        "id": "iailC8bJ_Kha"
      }
    },
    {
      "cell_type": "code",
      "source": [
        "%%R\n",
        "exp(coef(inter.gamma))"
      ],
      "metadata": {
        "colab": {
          "base_uri": "https://localhost:8080/"
        },
        "id": "WC3j_Nrh_fNe",
        "outputId": "e6388359-c409-4e3d-80f3-ebfdff7546ce"
      },
      "execution_count": null,
      "outputs": [
        {
          "output_type": "stream",
          "name": "stdout",
          "text": [
            "(Intercept) \n",
            "   12904.54 \n"
          ]
        }
      ]
    },
    {
      "cell_type": "markdown",
      "source": [
        "In the Gamma family, the dispersion parameter can be estimated from the deviance and the degrees of freedom in the summary output."
      ],
      "metadata": {
        "id": "a_9zIyh8_ndI"
      }
    },
    {
      "cell_type": "code",
      "source": [
        "%%R\n",
        "# Extract deviance and residual degrees of freedom from the model summary\n",
        "deviance_val <- inter.gamma$deviance\n",
        "residual_df <- inter.gamma$df.residua\n",
        "# Calculate the dispersion parameter\n",
        "dispersion_parameter <- deviance_val / residual_df\n",
        "dispersion_parameter"
      ],
      "metadata": {
        "colab": {
          "base_uri": "https://localhost:8080/"
        },
        "id": "bo2SUzgI_tPh",
        "outputId": "0109e2fe-85a3-44f9-9f16-e3215e3080b0"
      },
      "execution_count": null,
      "outputs": [
        {
          "output_type": "stream",
          "name": "stdout",
          "text": [
            "[1] 0.7830084\n"
          ]
        }
      ]
    },
    {
      "cell_type": "markdown",
      "source": [
        "We can also extract the estimated shape and scale parameters as follows:"
      ],
      "metadata": {
        "id": "IhHncXJN_1-h"
      }
    },
    {
      "cell_type": "code",
      "source": [
        "%%R\n",
        "# shape: 1 divided by dispersion parameter\n",
        "inter.gamma_shape <- 1/dispersion_parameter\n",
        "\n",
        "# scale: mean/shape\n",
        "inter.gamma_scale <- as.numeric(exp(coef(inter.gamma)))/inter.gamma_shape"
      ],
      "metadata": {
        "id": "vr9mHWMX_tRS"
      },
      "execution_count": null,
      "outputs": []
    },
    {
      "cell_type": "markdown",
      "source": [
        "Now let’s use the estimated shape and scale parameters to draw the estimated gamma distribution on top of a histogram of the observed data."
      ],
      "metadata": {
        "id": "fc20CBLt_nfH"
      }
    },
    {
      "cell_type": "code",
      "source": [
        "%%R -w 500 -h 400 -u px\n",
        "hist(train$expenses, breaks = 40, freq = FALSE,\n",
        "     xlab = \"Expenses\",\n",
        "     main= \"Null Model\")\n",
        "curve(dgamma(x, shape = inter.gamma_shape ,\n",
        "            scale = inter.gamma_scale ),\n",
        "           from = 0, to = 70000, col = \"red\", add = TRUE, )"
      ],
      "metadata": {
        "colab": {
          "base_uri": "https://localhost:8080/",
          "height": 417
        },
        "id": "vlIEIucIADMC",
        "outputId": "4b730f2f-1d64-4dd7-c65d-e3a24604060a"
      },
      "execution_count": null,
      "outputs": [
        {
          "output_type": "display_data",
          "data": {
            "image/png": "[encoded data removed]"
          },
          "metadata": {}
        }
      ]
    },
    {
      "cell_type": "markdown",
      "source": [
        "### Full Model\n",
        "\n",
        "Now, let’s fit a Gamma regression model. We'll predict charges using age, sex, bmi_cra children, smoker, and region. We'll use a log link function to ensure the predicted values are positive."
      ],
      "metadata": {
        "id": "GS3jrL3_AJA-"
      }
    },
    {
      "cell_type": "code",
      "source": [
        "%%R\n",
        "# Fit the gamma model\n",
        "fit.gamma<-glm(expenses~bmi_categories + sex +  smoker + region + children + age,\n",
        "               data= train,\n",
        "              family = Gamma(link = \"log\"))\n"
      ],
      "metadata": {
        "id": "dQ9vGDoxAOzx"
      },
      "execution_count": null,
      "outputs": []
    },
    {
      "cell_type": "markdown",
      "source": [
        "\n",
        "### Model Summary"
      ],
      "metadata": {
        "id": "OIydt6Ewj6m0"
      }
    },
    {
      "cell_type": "code",
      "source": [
        "%%R\n",
        "summary(fit.gamma)"
      ],
      "metadata": {
        "colab": {
          "base_uri": "https://localhost:8080/"
        },
        "id": "zdaSU4Caj6zX",
        "outputId": "13882460-8fea-44e1-ebca-5008e8eb8db4"
      },
      "execution_count": null,
      "outputs": [
        {
          "output_type": "stream",
          "name": "stdout",
          "text": [
            "\n",
            "Call:\n",
            "glm(formula = expenses ~ bmi_categories + sex + smoker + region + \n",
            "    children + age, family = Gamma(link = \"log\"), data = train)\n",
            "\n",
            "Coefficients:\n",
            "                          Estimate Std. Error t value Pr(>|t|)    \n",
            "(Intercept)               7.506578   0.196173  38.265  < 2e-16 ***\n",
            "bmi_categoriesnormal      0.273121   0.192829   1.416  0.15700    \n",
            "bmi_categoriesoverweight  0.295163   0.189897   1.554  0.12045    \n",
            "bmi_categoriesobesity     0.428294   0.188581   2.271  0.02337 *  \n",
            "sexmale                  -0.052456   0.045269  -1.159  0.24686    \n",
            "smokeryes                 1.502742   0.057614  26.083  < 2e-16 ***\n",
            "regionnorthwest          -0.084428   0.065172  -1.295  0.19549    \n",
            "regionsoutheast          -0.192420   0.064621  -2.978  0.00298 ** \n",
            "regionsouthwest          -0.164759   0.065054  -2.533  0.01149 *  \n",
            "children                  0.090770   0.019304   4.702 2.97e-06 ***\n",
            "age                       0.027960   0.001627  17.182  < 2e-16 ***\n",
            "---\n",
            "Signif. codes:  0 ‘***’ 0.001 ‘**’ 0.01 ‘*’ 0.05 ‘.’ 0.1 ‘ ’ 1\n",
            "\n",
            "(Dispersion parameter for Gamma family taken to be 0.4746951)\n",
            "\n",
            "    Null deviance: 728.98  on 931  degrees of freedom\n",
            "Residual deviance: 242.17  on 921  degrees of freedom\n",
            "AIC: 18368\n",
            "\n",
            "Number of Fisher Scoring iterations: 7\n",
            "\n"
          ]
        }
      ]
    },
    {
      "cell_type": "markdown",
      "source": [
        "### Check the Overall Model Fit"
      ],
      "metadata": {
        "id": "_g7sgtuCs2Sz"
      }
    },
    {
      "cell_type": "code",
      "source": [
        "%%R\n",
        "anova(inter.gamma,fit.gamma)"
      ],
      "metadata": {
        "colab": {
          "base_uri": "https://localhost:8080/"
        },
        "id": "d4Q1ztpCs5PE",
        "outputId": "5151992e-ed19-4ef5-bd93-2b7a6fab9eb0"
      },
      "execution_count": null,
      "outputs": [
        {
          "output_type": "stream",
          "name": "stdout",
          "text": [
            "Analysis of Deviance Table\n",
            "\n",
            "Model 1: expenses ~ 1\n",
            "Model 2: expenses ~ bmi_categories + sex + smoker + region + children + \n",
            "    age\n",
            "  Resid. Df Resid. Dev Df Deviance      F    Pr(>F)    \n",
            "1       931     728.98                                 \n",
            "2       921     242.17 10   486.81 102.55 < 2.2e-16 ***\n",
            "---\n",
            "Signif. codes:  0 ‘***’ 0.001 ‘**’ 0.01 ‘*’ 0.05 ‘.’ 0.1 ‘ ’ 1\n"
          ]
        }
      ]
    },
    {
      "cell_type": "markdown",
      "source": [
        "From the above output, you see that the chi-square is 242 and p = <0.0001. This means that you can reject the `null hypothesis` that the `model without predictors is as good as the model with the predictors`\n"
      ],
      "metadata": {
        "id": "of4mLrHKtEJf"
      }
    },
    {
      "cell_type": "markdown",
      "source": [
        "### Report Model Summary"
      ],
      "metadata": {
        "id": "oK2czYVcCVL7"
      }
    },
    {
      "cell_type": "code",
      "source": [
        "%%R\n",
        "report::report(fit.gamma)"
      ],
      "metadata": {
        "colab": {
          "base_uri": "https://localhost:8080/"
        },
        "id": "dd-2OsUpCal3",
        "outputId": "cf1fd28e-7fd1-4388-900a-4107f95acda1"
      },
      "execution_count": null,
      "outputs": [
        {
          "output_type": "stream",
          "name": "stdout",
          "text": [
            "We fitted a general linear model (Gamma family with a log link) (estimated\n",
            "using ML) to predict expenses with bmi_categories, sex, smoker, region,\n",
            "children and age (formula: expenses ~ bmi_categories + sex + smoker + region +\n",
            "children + age). The model's explanatory power is substantial (Nagelkerke's R2\n",
            "= 0.75). The model's intercept, corresponding to bmi_categories = underweight,\n",
            "sex = female, smoker = no, region = northeast, children = 0 and age = 0, is at\n",
            "7.51 (95% CI [7.14, 7.91], t(921) = 38.27, p < .001). Within this model:\n",
            "\n",
            "  - The effect of bmi categories [normal] is statistically non-significant and\n",
            "positive (beta = 0.27, 95% CI [-0.13, 0.63], t(921) = 1.42, p = 0.157; Std.\n",
            "beta = 0.27, 95% CI [-0.13, 0.63])\n",
            "  - The effect of bmi categories [overweight] is statistically non-significant\n",
            "and positive (beta = 0.30, 95% CI [-0.10, 0.65], t(921) = 1.55, p = 0.120; Std.\n",
            "beta = 0.30, 95% CI [-0.10, 0.65])\n",
            "  - The effect of bmi categories [obesity] is statistically significant and\n",
            "positive (beta = 0.43, 95% CI [0.04, 0.78], t(921) = 2.27, p = 0.023; Std. beta\n",
            "= 0.43, 95% CI [0.04, 0.78])\n",
            "  - The effect of sex [male] is statistically non-significant and negative (beta\n",
            "= -0.05, 95% CI [-0.14, 0.04], t(921) = -1.16, p = 0.247; Std. beta = -0.05,\n",
            "95% CI [-0.14, 0.04])\n",
            "  - The effect of smoker [yes] is statistically significant and positive (beta =\n",
            "1.50, 95% CI [1.39, 1.62], t(921) = 26.08, p < .001; Std. beta = 1.50, 95% CI\n",
            "[1.39, 1.62])\n",
            "  - The effect of region [northwest] is statistically non-significant and\n",
            "negative (beta = -0.08, 95% CI [-0.21, 0.04], t(921) = -1.30, p = 0.195; Std.\n",
            "beta = -0.08, 95% CI [-0.21, 0.04])\n",
            "  - The effect of region [southeast] is statistically significant and negative\n",
            "(beta = -0.19, 95% CI [-0.32, -0.07], t(921) = -2.98, p = 0.003; Std. beta =\n",
            "-0.19, 95% CI [-0.32, -0.07])\n",
            "  - The effect of region [southwest] is statistically significant and negative\n",
            "(beta = -0.16, 95% CI [-0.29, -0.04], t(921) = -2.53, p = 0.011; Std. beta =\n",
            "-0.16, 95% CI [-0.29, -0.04])\n",
            "  - The effect of children is statistically significant and positive (beta =\n",
            "0.09, 95% CI [0.05, 0.13], t(921) = 4.70, p < .001; Std. beta = 0.11, 95% CI\n",
            "[0.06, 0.15])\n",
            "  - The effect of age is statistically significant and positive (beta = 0.03, 95%\n",
            "CI [0.02, 0.03], t(921) = 17.18, p < .001; Std. beta = 0.39, 95% CI [0.35,\n",
            "0.44])\n",
            "\n",
            "Standardized parameters were obtained by fitting the model on a standardized\n",
            "version of the dataset. 95% Confidence Intervals (CIs) and p-values were\n",
            "computed using a Wald t-distribution approximation.\n"
          ]
        }
      ]
    },
    {
      "cell_type": "markdown",
      "source": [
        "`plot_model()` function of {sjPlot} package creates plots the estimates from logistic model:"
      ],
      "metadata": {
        "id": "A7Iz9XJ7A4Za"
      }
    },
    {
      "cell_type": "code",
      "source": [
        "%%R -w 600 -h 500 -u px\n",
        "plot_model(fit.gamma, vline.color = \"red\")\n"
      ],
      "metadata": {
        "colab": {
          "base_uri": "https://localhost:8080/",
          "height": 517
        },
        "id": "JTnlYkUekg67",
        "outputId": "2b147fc0-7408-4582-849e-8509327e07e1"
      },
      "execution_count": null,
      "outputs": [
        {
          "output_type": "display_data",
          "data": {
            "image/png": "[encoded data removed]"
          },
          "metadata": {}
        }
      ]
    },
    {
      "cell_type": "markdown",
      "source": [
        "### Shape and Scale of the Fitted Model"
      ],
      "metadata": {
        "id": "hM2IFxLdkzaz"
      }
    },
    {
      "cell_type": "code",
      "source": [
        "%%R\n",
        "# Calculate mean and variance of predicted values\n",
        "predicted_mu <- fitted(fit.gamma)\n",
        "mean_mu <- mean(predicted_mu)\n",
        "var_mu <- var(predicted_mu)\n",
        "\n",
        "# Estimate shape (k) and scale (theta)\n",
        "shape_estimate <- mean_mu^2 / var_mu\n",
        "scale_estimate <- var_mu / mean_mu\n",
        "\n",
        "cat(\"Estimated shape (k):\", shape_estimate, \"\\n\")\n",
        "cat(\"Estimated scale (theta):\", scale_estimate, \"\\n\")"
      ],
      "metadata": {
        "colab": {
          "base_uri": "https://localhost:8080/"
        },
        "id": "Jm9qPkA1k1bL",
        "outputId": "877288ae-2dbb-4427-bea7-42d0e85145bf"
      },
      "execution_count": null,
      "outputs": [
        {
          "output_type": "stream",
          "name": "stdout",
          "text": [
            "Estimated shape (k): 1.064251 \n",
            "Estimated scale (theta): 12695.67 \n"
          ]
        }
      ]
    },
    {
      "cell_type": "markdown",
      "source": [
        "Now let’s use the estimated shape and scale parameters to draw the estimated gamma distribution on top of a histogram of the observed data."
      ],
      "metadata": {
        "id": "9a6Tod04H7TC"
      }
    },
    {
      "cell_type": "code",
      "source": [
        "%%R -w 500 -h 450 -u px\n",
        "hist(train$expenses, breaks = 40, freq = FALSE,\n",
        "     xlab = \"Expenses\",\n",
        "     main= \"Full Model\")\n",
        "curve(dgamma(x, shape = shape_estimate,\n",
        "            scale = scale_estimate ),\n",
        "           from = 0, to = 70000, col = \"red\", add = TRUE, )"
      ],
      "metadata": {
        "colab": {
          "base_uri": "https://localhost:8080/",
          "height": 467
        },
        "id": "qE_j9VfWH7iN",
        "outputId": "f8ae923a-1ddc-42bf-967b-c2fba3e65ed0"
      },
      "execution_count": null,
      "outputs": [
        {
          "output_type": "display_data",
          "data": {
            "image/png": "[encoded data removed]"
          },
          "metadata": {}
        }
      ]
    },
    {
      "cell_type": "markdown",
      "source": [
        "### Model Performance"
      ],
      "metadata": {
        "id": "C2q6Wvr3e3Na"
      }
    },
    {
      "cell_type": "code",
      "source": [
        "%%R\n",
        "performance::performance(fit.gamma)"
      ],
      "metadata": {
        "colab": {
          "base_uri": "https://localhost:8080/"
        },
        "id": "R3zz2Ewie7Vl",
        "outputId": "b281a6e4-4da7-495f-819a-30f34d16bf10"
      },
      "execution_count": null,
      "outputs": [
        {
          "output_type": "stream",
          "name": "stdout",
          "text": [
            "# Indices of model performance\n",
            "\n",
            "AIC       |      AICc |       BIC | Nagelkerke's R2 |     RMSE | Sigma\n",
            "----------------------------------------------------------------------\n",
            "18367.545 | 18367.884 | 18425.593 |           0.750 | 7746.727 | 0.689\n"
          ]
        }
      ]
    },
    {
      "cell_type": "markdown",
      "source": [
        "### Marginal Effect\n",
        "\n",
        "To calculate marginal effects and adjusted predictions, the `predict_response()` function of {ggeffects} package is used. This function can return three types of predictions, namely, conditional effects, marginal effects or marginal means, and average marginal effects or counterfactual predictions. You can set the type of prediction you want by using the `margin` argument."
      ],
      "metadata": {
        "id": "ysZI2ttJfBd9"
      }
    },
    {
      "cell_type": "code",
      "source": [
        "%%R -w 500 -h 400 -u px\n",
        "effect<-ggeffects::predict_response(fit.gamma, \"age\", margin = \"empirical\")\n",
        "plot(effect)\n",
        "effect.gamma<-ggeffects::predict_response(fit.gamma, \"age\", margin = \"empirical\")\n",
        "plot(effect.gamma)"
      ],
      "metadata": {
        "colab": {
          "base_uri": "https://localhost:8080/",
          "height": 417
        },
        "id": "bhzEN9RsfCMH",
        "outputId": "1e928011-9da4-4332-f245-6f5f7aa5d2d7"
      },
      "execution_count": null,
      "outputs": [
        {
          "output_type": "display_data",
          "data": {
            "image/png": "[encoded data removed]"
          },
          "metadata": {}
        }
      ]
    },
    {
      "cell_type": "code",
      "source": [
        "%%R -w 800 -h 800 -u px\n",
        "age.bmi <- predict_response(fit.gamma, terms = c(\"age\", \"bmi_categories\"))\n",
        "plot(age.bmi, facets = TRUE)"
      ],
      "metadata": {
        "colab": {
          "base_uri": "https://localhost:8080/",
          "height": 817
        },
        "id": "b26IeehTC548",
        "outputId": "2ed54eb7-b02c-4e34-d402-f8504284682b"
      },
      "execution_count": null,
      "outputs": [
        {
          "output_type": "display_data",
          "data": {
            "image/png": "[encoded data removed]"
          },
          "metadata": {}
        }
      ]
    },
    {
      "cell_type": "markdown",
      "source": [
        "### Cross-validation\n",
        "\n",
        "We’ll use 5-fold cross-validation to evaluate the model's predictive performance using the Mean Squared Error (MSE) as the metric."
      ],
      "metadata": {
        "id": "TJmScFvefGq2"
      }
    },
    {
      "cell_type": "code",
      "source": [
        "%%R\n",
        "# Define MSE function\n",
        "mse <- function(actual, predicted) {\n",
        "  mean((actual - predicted)^2)\n",
        "}\n",
        "\n",
        "# Set up cross-validation\n",
        "set.seed(42)\n",
        "k_folds <- 5\n",
        "folds <- sample(rep(1:k_folds, length.out = nrow(mf)))\n",
        "mse_values <- numeric(k_folds)\n",
        "\n",
        "for (i in 1:k_folds) {\n",
        "  # Split data into training and validation sets\n",
        "  train_index <- which(folds != i)\n",
        "  test_index <- which(folds == i)\n",
        "\n",
        "  train_data <- mf[train_index, ]\n",
        "  test_data <- mf[test_index, ]\n",
        "\n",
        "  # Fit the Gamma model on training data\n",
        "  cv_model <- glm(expenses ~ age + sex + bmi_categories + children + smoker + region,\n",
        "                  data = train_data,\n",
        "                  family = Gamma(link = \"log\"))\n",
        "\n",
        "  # Predict on the validation set\n",
        "  predictions <- predict(cv_model, newdata = test_data, type = \"response\")\n",
        "\n",
        "  # Calculate MSE for the fold\n",
        "  mse_values[i] <- mse(test_data$expenses, predictions)\n",
        "}\n",
        "\n",
        "# Average MSE across all folds\n",
        "average_mse_cv <- mean(mse_values)\n",
        "cat(\"Average MSE from cross-validation:\", average_mse_cv, \"\\n\")"
      ],
      "metadata": {
        "colab": {
          "base_uri": "https://localhost:8080/"
        },
        "id": "Avh52yfEDGgX",
        "outputId": "43953ed8-42a4-4535-df93-ad6fbd1b742d"
      },
      "execution_count": null,
      "outputs": [
        {
          "output_type": "stream",
          "name": "stdout",
          "text": [
            "Average MSE from cross-validation: 63856032 \n"
          ]
        }
      ]
    },
    {
      "cell_type": "markdown",
      "source": [
        "### Prediction at Test Data\n"
      ],
      "metadata": {
        "id": "lzUYKrBuVrKA"
      }
    },
    {
      "cell_type": "markdown",
      "source": [
        "\n",
        "The `predict()` function for logistic models returns the default predictions of log-odds, which are probabilities on the logit scale. When type = `response`, the function provides the predicted probabilities.\n"
      ],
      "metadata": {
        "id": "CbsRKRQguv5L"
      }
    },
    {
      "cell_type": "code",
      "source": [
        "%%R\n",
        "# Predict on the test set\n",
        "test$Pred.gamma <- predict(fit.gamma, newdata = test, type = \"response\")\n"
      ],
      "metadata": {
        "id": "IR50vxu9Vsrp"
      },
      "execution_count": null,
      "outputs": []
    },
    {
      "cell_type": "markdown",
      "source": [
        "#### Prediction Performance\n",
        "\n",
        "The {Matrics} package offers several useful functions to evaluate the performance of a regression model."
      ],
      "metadata": {
        "id": "Y6HMiJxMcZV-"
      }
    },
    {
      "cell_type": "code",
      "source": [
        "%%R\n",
        "RMSE<- Metrics::rmse(test$expenses, test$Pred.gamma)\n",
        "MAE<- Metrics::mae(test$expenses, test$Pred.gamma)\n",
        "MSE<- Metrics::mse(test$expenses, test$Pred.gamma)\n",
        "MDAE<- Metrics::mdae(test$expenses, test$Pred.gamma)\n",
        "print(peformance.matrics<-cbind(\"RMSE\"=RMSE,\n",
        "                                \"MAE\" = MAE,\n",
        "                                \"MSE\" = MSE,\n",
        "                                \"MDAE\" = MDAE))"
      ],
      "metadata": {
        "colab": {
          "base_uri": "https://localhost:8080/"
        },
        "id": "8-PU68kAD_E2",
        "outputId": "360ea07f-b755-45d6-afe9-c9352a5afdea"
      },
      "execution_count": null,
      "outputs": [
        {
          "output_type": "stream",
          "name": "stdout",
          "text": [
            "        RMSE      MAE      MSE     MDAE\n",
            "[1,] 7959.55 4564.622 63354434 1847.655\n"
          ]
        }
      ]
    },
    {
      "cell_type": "markdown",
      "source": [],
      "metadata": {
        "id": "oT1wUfzyEfnJ"
      }
    },
    {
      "cell_type": "code",
      "source": [
        "%%R -h 450 -w 500 -u px\n",
        "#install.packages(\"ggpmisc\")\n",
        "library(ggpmisc)\n",
        "formula<-y~x\n",
        "\n",
        "ggplot(test, aes(expenses,Pred.gamma)) +\n",
        "  geom_point() +\n",
        "  geom_smooth(method = \"lm\")+\n",
        "  stat_poly_eq(use_label(c(\"eq\", \"adj.R2\")), formula = formula) +\n",
        "  ggtitle(\"Gamma Model:  Obs vs Predicted Expences \") +\n",
        "  xlab(\"Observed\") + ylab(\"Predicted\") +\n",
        "  scale_x_continuous(limits=c(1000,70000), breaks=seq(1000, 70000, 10000))+\n",
        "  scale_y_continuous(limits=c(1000,70000), breaks=seq(1000, 70000, 10000)) +\n",
        "  theme(\n",
        "    panel.background = element_rect(fill = \"grey95\",colour = \"gray75\",size = 0.5, linetype = \"solid\"),\n",
        "    axis.line = element_line(colour = \"grey\"),\n",
        "    plot.title = element_text(size = 14, hjust = 0.5),\n",
        "    axis.title.x = element_text(size = 14),\n",
        "    axis.title.y = element_text(size = 14),\n",
        "    axis.text.x=element_text(size=13, colour=\"black\"),\n",
        "    axis.text.y=element_text(size=13,angle = 90,vjust = 0.5, hjust=0.5, colour='black'))"
      ],
      "metadata": {
        "colab": {
          "base_uri": "https://localhost:8080/",
          "height": 484
        },
        "id": "yJf1MzUyEz3s",
        "outputId": "67bf27c1-d9ec-43f4-b275-6030bc7341e6"
      },
      "execution_count": null,
      "outputs": [
        {
          "output_type": "stream",
          "name": "stdout",
          "text": [
            "`geom_smooth()` using formula = 'y ~ x'\n"
          ]
        },
        {
          "output_type": "display_data",
          "data": {
            "image/png": "[encoded data removed]"
          },
          "metadata": {}
        }
      ]
    },
    {
      "cell_type": "markdown",
      "source": [
        "### Log Linear model\n",
        "\n",
        "It’s important to note that traditional linear modeling with a log transformation can be just as effective as gamma regression in some cases. To illustrate this, we’ll use the `lm()` function to fit a simple linear model with the total value log-transform. Oeef"
      ],
      "metadata": {
        "id": "6rrJxSirrxp8"
      }
    },
    {
      "cell_type": "code",
      "source": [
        "%%R\n",
        "fit.lm<-glm(log(expenses)~bmi_categories + sex +  smoker + region + children + age,\n",
        "               data= train)\n",
        "summary(fit.lm)"
      ],
      "metadata": {
        "colab": {
          "base_uri": "https://localhost:8080/"
        },
        "id": "YGeh2KZrr1YQ",
        "outputId": "8d4e89f9-a0c0-46e2-f98c-9b65d9a4a9c8"
      },
      "execution_count": null,
      "outputs": [
        {
          "output_type": "stream",
          "name": "stdout",
          "text": [
            "\n",
            "Call:\n",
            "glm(formula = log(expenses) ~ bmi_categories + sex + smoker + \n",
            "    region + children + age, data = train)\n",
            "\n",
            "Coefficients:\n",
            "                          Estimate Std. Error t value Pr(>|t|)    \n",
            "(Intercept)               7.228502   0.128637  56.193  < 2e-16 ***\n",
            "bmi_categoriesnormal      0.114645   0.126444   0.907 0.364809    \n",
            "bmi_categoriesoverweight  0.175631   0.124521   1.410 0.158743    \n",
            "bmi_categoriesobesity     0.300275   0.123658   2.428 0.015361 *  \n",
            "sexmale                  -0.073391   0.029684  -2.472 0.013602 *  \n",
            "smokeryes                 1.555938   0.037779  41.185  < 2e-16 ***\n",
            "regionnorthwest          -0.092564   0.042735  -2.166 0.030569 *  \n",
            "regionsoutheast          -0.185469   0.042374  -4.377 1.34e-05 ***\n",
            "regionsouthwest          -0.144643   0.042658  -3.391 0.000727 ***\n",
            "children                  0.109304   0.012658   8.635  < 2e-16 ***\n",
            "age                       0.034409   0.001067  32.247  < 2e-16 ***\n",
            "---\n",
            "Signif. codes:  0 ‘***’ 0.001 ‘**’ 0.01 ‘*’ 0.05 ‘.’ 0.1 ‘ ’ 1\n",
            "\n",
            "(Dispersion parameter for gaussian family taken to be 0.2041099)\n",
            "\n",
            "    Null deviance: 780.74  on 931  degrees of freedom\n",
            "Residual deviance: 187.99  on 921  degrees of freedom\n",
            "AIC: 1176.8\n",
            "\n",
            "Number of Fisher Scoring iterations: 2\n",
            "\n"
          ]
        }
      ]
    },
    {
      "cell_type": "code",
      "source": [
        "%%R -w 800 -h 800 -u px\n",
        "age.bmi.lm <- predict_response(fit.lm, terms = c(\"age\", \"bmi_categories\"))\n",
        "plot(age.bmi.lm, facets = TRUE)"
      ],
      "metadata": {
        "colab": {
          "base_uri": "https://localhost:8080/",
          "height": 886
        },
        "id": "JduDZmSJsJsO",
        "outputId": "2a314a13-44f1-4da6-e26b-9a1903280e1b"
      },
      "execution_count": null,
      "outputs": [
        {
          "output_type": "stream",
          "name": "stderr",
          "text": [
            "WARNING:rpy2.rinterface_lib.callbacks:R[write to console]: Model has log-transformed response. Back-transforming predictions to\n",
            "  original response scale. Standard errors are still on the transformed\n",
            "  scale.\n",
            "\n"
          ]
        },
        {
          "output_type": "display_data",
          "data": {
            "image/png": "[encoded data removed]"
          },
          "metadata": {}
        }
      ]
    },
    {
      "cell_type": "markdown",
      "source": [
        "## Summary and Conclusion\n",
        "\n",
        "In this tutorial, we covered the essentials of Gamma regression in R, focusing on a manual approach and the implementation using R’s `glm()` function. We discussed when to use Gamma regression, particularly for non-negative, skewed data with increasing variance, which is common in finance, healthcare, environmental science, and engineering. Implementing Gamma regression from scratch helped us understand the model's mechanics, including the log-likelihood function and coefficient estimation. We then utilized R’s `glm()` function to fit a Gamma regression model more efficiently, emphasizing its simplicity in estimating parameters and interpreting output metrics like coefficients, standard errors, and goodness-of-fit measures. Gamma regression is vital for analyzing non-negative continuous data with a right-skewed distribution. With the knowledge gained in this tutorial, you can effectively apply Gamma regression to various real-world datasets, providing more accurate insights and predictions in fields such as claims costs, waiting times, and biological measurements."
      ],
      "metadata": {
        "id": "upcYU_bCVlc1"
      }
    },
    {
      "cell_type": "markdown",
      "source": [
        "## References\n",
        "\n",
        "1.  [Getting Started with Gamma Regression](https://library.virginia.edu/data/articles/getting-started-with-gamma-regression)\n",
        "\n",
        "2.  [Modeling skewed continuous outcome using Gamma family in glm()](https://rpubs.com/kaz_yos/glm-Gamma)\n",
        "\n",
        "3.  [Lecture 8: Gamma regression](https://www.math.cit.tum.de/fileadmin/w00ccg/math/Forschung/forschungsgruppen/statistics/academics/lec8.pdf)"
      ],
      "metadata": {
        "id": "jadfYvGSWNK8"
      }
    }
  ]
}