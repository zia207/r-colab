{
  "nbformat": 4,
  "nbformat_minor": 0,
  "metadata": {
    "colab": {
      "provenance": [],
      "toc_visible": true,
      "authorship_tag": "ABX9TyMv2OpFBFCZdczoqKFCTRLK",
      "include_colab_link": true
    },
    "kernelspec": {
      "name": "python3",
      "display_name": "Python 3"
    },
    "language_info": {
      "name": "python"
    }
  },
  "cells": [
    {
      "cell_type": "markdown",
      "metadata": {
        "id": "view-in-github",
        "colab_type": "text"
      },
      "source": [
        "<a href=\"https://colab.research.google.com/github/zia207/r-colab/blob/main/NoteBook/Advance_Regression/02-05-03-panel-regression-multilevel-r.ipynb\" target=\"_parent\"><img src=\"https://colab.research.google.com/assets/colab-badge.svg\" alt=\"Open In Colab\"/></a>"
      ]
    },
    {
      "cell_type": "markdown",
      "source": [
        "![alt text](http://drive.google.com/uc?export=view&id=1bLQ3nhDbZrCCqy_WCxxckOne2lgVvn3l)"
      ],
      "metadata": {
        "id": "4qrItz_mJNWw"
      }
    },
    {
      "cell_type": "markdown",
      "source": [
        "# 3. Panel Regression Models fit via {panelr} Package {.unnumbered}\n",
        "\n",
        "The `panelr` package in R is designed for handling and analyzing panel data, also known as longitudinal data or time-series cross-sectional data. Panel data involves repeated measurements of the same units (such as individuals, firms, or countries) over multiple time periods. The `panelr` package provides a user-friendly interface and functions that simplify the process of preparing, modeling, and interpreting panel data.\n"
      ],
      "metadata": {
        "id": "Dzp9ZseROTcY"
      }
    },
    {
      "cell_type": "markdown",
      "source": [
        "## Overview\n",
        "\n",
        "Panel data analysis is a common approach in social sciences, economics, and other fields where researchers are interested in studying the dynamics of individual units over time. Panel data sets are characterized by having both cross-sectional and time-series dimensions, allowing researchers to examine how variables change within and between units over time. Panel regression models are used to analyze panel data and estimate the relationships between variables while accounting for individual-specific effects and time-varying predictors. The `panelr` package provides a set of functions for working with panel data, including data preparation, model estimation, and interpretation.\n",
        "\n"
      ],
      "metadata": {
        "id": "TpcIOkTs30qp"
      }
    },
    {
      "cell_type": "markdown",
      "source": [
        "### Key Features of `{panelr}`\n",
        "\n",
        "1.  **Data Preparation**:\n",
        "    -   Functions to reshape data between wide and long formats, which is crucial for panel data analysis.\n",
        "    -   Handling missing data and creating lagged variables.\n",
        "2.  **Modeling**:\n",
        "    -   Support for various types of panel models, including fixed effects, random effects, and mixed effects models.\n",
        "    -   Easy-to-use syntax for specifying models.\n",
        "3.  **Interpretation**:\n",
        "    -   Functions to extract and interpret model results, including fixed effects, random effects, and overall model fit.\n",
        "    -   Visualization tools for plotting model predictions and effects."
      ],
      "metadata": {
        "id": "zRGCstT--n3X"
      }
    },
    {
      "cell_type": "markdown",
      "source": [
        "### Example Functions\n",
        "\n",
        "The `panelr` package provides several functions for working with panel data, including:"
      ],
      "metadata": {
        "id": "CGNA00Nf-v89"
      }
    },
    {
      "cell_type": "markdown",
      "source": [
        "#### Regression models\n",
        "\n",
        "Regression models for panel data can be fit using the following functions in the `panelr` package:\n",
        "\n",
        "`wbm()`: Panel regression models fit via multilevel modeling\n",
        "\n",
        "`wbgee()`: Panel regression models fit with GEE\n",
        "\n",
        "`fdm()`: Estimate first differences models using GLS\n",
        "\n",
        "`asym()`: Estimate asymmetric effects models using first differences\n",
        "\n",
        "`asym_gee()`: Asymmetric effects models fit with GEE\n",
        "\n",
        "`wbm_stan()`: Bayesian estimation of within-between models"
      ],
      "metadata": {
        "id": "L48rcKcB-z2z"
      }
    },
    {
      "cell_type": "markdown",
      "source": [
        "#### Panel data wrangling\n",
        "\n",
        "Data preparation and manipulation functions in `panelr` include:\n",
        "\n",
        "`panel_data()` `as_pdata.frame()` `as_panel_data()` `as_panel()` Create panel data frames\n",
        "\n",
        "`widen_panel()`Convert long panel data to wide format\n",
        "\n",
        "`long_panel()` Convert wide panels to long format\n",
        "\n",
        "`summary(<panel_data>)` Summarize panel data frames\n",
        "\n",
        "`complete_data()` Filter out entities with too few observations\n",
        "\n",
        "`model_frame()` Make model frames for panel_data objects\n",
        "\n",
        "`unpanel()` Convert panel_data to regular data frame\n",
        "\n",
        "`is_panel()` Check if object is panel_data"
      ],
      "metadata": {
        "id": "YeHH1UqT-0me"
      }
    },
    {
      "cell_type": "markdown",
      "source": [
        "## Install rpy2"
      ],
      "metadata": {
        "id": "SDp3ULld8Gb9"
      }
    },
    {
      "cell_type": "code",
      "source": [
        "!pip uninstall rpy2 -y\n",
        "!pip install rpy2==3.5.1\n",
        "%load_ext rpy2.ipython"
      ],
      "metadata": {
        "id": "CiM6y-Mw8AJp",
        "colab": {
          "base_uri": "https://localhost:8080/"
        },
        "outputId": "14f96474-0267-4f1e-b9bc-ad0dee764fed"
      },
      "execution_count": 1,
      "outputs": [
        {
          "output_type": "stream",
          "name": "stdout",
          "text": [
            "Found existing installation: rpy2 3.5.17\n",
            "Uninstalling rpy2-3.5.17:\n",
            "  Successfully uninstalled rpy2-3.5.17\n",
            "Collecting rpy2==3.5.1\n",
            "  Downloading rpy2-3.5.1.tar.gz (201 kB)\n",
            "\u001b[2K     \u001b[90m━━━━━━━━━━━━━━━━━━━━━━━━━━━━━━━━━━━━━━━━\u001b[0m \u001b[32m201.7/201.7 kB\u001b[0m \u001b[31m3.4 MB/s\u001b[0m eta \u001b[36m0:00:00\u001b[0m\n",
            "\u001b[?25h  Preparing metadata (setup.py) ... \u001b[?25l\u001b[?25hdone\n",
            "Requirement already satisfied: cffi>=1.10.0 in /usr/local/lib/python3.11/dist-packages (from rpy2==3.5.1) (1.17.1)\n",
            "Requirement already satisfied: jinja2 in /usr/local/lib/python3.11/dist-packages (from rpy2==3.5.1) (3.1.6)\n",
            "Requirement already satisfied: pytz in /usr/local/lib/python3.11/dist-packages (from rpy2==3.5.1) (2025.1)\n",
            "Requirement already satisfied: tzlocal in /usr/local/lib/python3.11/dist-packages (from rpy2==3.5.1) (5.3.1)\n",
            "Requirement already satisfied: pycparser in /usr/local/lib/python3.11/dist-packages (from cffi>=1.10.0->rpy2==3.5.1) (2.22)\n",
            "Requirement already satisfied: MarkupSafe>=2.0 in /usr/local/lib/python3.11/dist-packages (from jinja2->rpy2==3.5.1) (3.0.2)\n",
            "Building wheels for collected packages: rpy2\n",
            "  Building wheel for rpy2 (setup.py) ... \u001b[?25l\u001b[?25hdone\n",
            "  Created wheel for rpy2: filename=rpy2-3.5.1-cp311-cp311-linux_x86_64.whl size=314972 sha256=9ca3a229c07f1d107a71f8e752315df1c6f1a11a632d560ddb171bea951adc94\n",
            "  Stored in directory: /root/.cache/pip/wheels/e9/55/d1/47be85a5f3f1e1f4d1e91cb5e3a4dcb40dd72147f184c5a5ef\n",
            "Successfully built rpy2\n",
            "Installing collected packages: rpy2\n",
            "Successfully installed rpy2-3.5.1\n"
          ]
        }
      ]
    },
    {
      "cell_type": "markdown",
      "source": [
        "## Mount Google Drive"
      ],
      "metadata": {
        "id": "O1zeuaCowiBt"
      }
    },
    {
      "cell_type": "code",
      "source": [
        "from google.colab import drive\n",
        "drive.mount('/content/drive')"
      ],
      "metadata": {
        "colab": {
          "base_uri": "https://localhost:8080/"
        },
        "id": "9J-4ie4bwiJ1",
        "outputId": "c81c3a29-f5cd-43a9-b001-50257e962d48"
      },
      "execution_count": 2,
      "outputs": [
        {
          "output_type": "stream",
          "name": "stdout",
          "text": [
            "Mounted at /content/drive\n"
          ]
        }
      ]
    },
    {
      "cell_type": "markdown",
      "source": [
        "## Install Required R Packages\n",
        "\n",
        "Following R packages are required to run this notebook. If any of these packages are not installed, you can install them using the code below:\n",
        "\n",
        "\n"
      ],
      "metadata": {
        "id": "9T5ojBgKBv5p"
      }
    },
    {
      "cell_type": "code",
      "source": [
        "%%R\n",
        "packages <- c('tidyverse',\n",
        "              'DataExplorer',\n",
        "              'dlookr',\n",
        "              'DataExplorer',\n",
        "              'rstatix',\n",
        "              'corrplot',\n",
        "              'Hmisc',\n",
        "              'tseries',\n",
        "              'stargazer',\n",
        "              'plm',\n",
        "              'panelr',\n",
        "              'pglm',\n",
        "              'geepack',\n",
        "              'clubSandwich',\n",
        "              'AER',\n",
        "              'corrplot',\n",
        "              'lmtest',\n",
        "              'ggstatsplot',\n",
        "              'gtsummary',\n",
        "              'ggExtra',\n",
        "              'gridExtra',\n",
        "              'kableExtra',\n",
        "              'GGally',\n",
        "              'gplots'\n",
        "              )"
      ],
      "metadata": {
        "id": "4ERkgB8gByVX"
      },
      "execution_count": 5,
      "outputs": []
    },
    {
      "cell_type": "code",
      "source": [
        "%%R\n",
        "# Install missing packages\n",
        "new.packages <- packages[!(packages %in% installed.packages(lib='drive/My Drive/R/')[,\"Package\"])]\n",
        "if(length(new.packages)) install.packages(new.packages, lib='drive/My Drive/R/')"
      ],
      "metadata": {
        "id": "J3nWFZpl-sr-"
      },
      "execution_count": null,
      "outputs": []
    },
    {
      "cell_type": "code",
      "source": [
        "%%R\n",
        "# set library path\n",
        ".libPaths('drive/My Drive/R')\n",
        "# Verify installation\n",
        "cat(\"Installed packages:\\n\")\n",
        "print(sapply(packages, requireNamespace, quietly = TRUE))"
      ],
      "metadata": {
        "colab": {
          "base_uri": "https://localhost:8080/"
        },
        "id": "-jv6EE7Z-sx-",
        "outputId": "72327e1d-2f82-4734-d11f-1d17d3712527"
      },
      "execution_count": 6,
      "outputs": [
        {
          "output_type": "stream",
          "name": "stdout",
          "text": [
            "Installed packages:\n"
          ]
        },
        {
          "output_type": "stream",
          "name": "stderr",
          "text": [
            "WARNING:rpy2.rinterface_lib.callbacks:R[write to console]: Registered S3 methods overwritten by 'dlookr':\n",
            "  method          from  \n",
            "  plot.transform  scales\n",
            "  print.transform scales\n",
            "\n",
            "WARNING:rpy2.rinterface_lib.callbacks:R[write to console]: Registered S3 method overwritten by 'quantmod':\n",
            "  method            from\n",
            "  as.zoo.data.frame zoo \n",
            "\n",
            "WARNING:rpy2.rinterface_lib.callbacks:R[write to console]: Registered S3 method overwritten by 'clubSandwich':\n",
            "  method    from    \n",
            "  bread.mlm sandwich\n",
            "\n",
            "WARNING:rpy2.rinterface_lib.callbacks:R[write to console]: Registered S3 method overwritten by 'GGally':\n",
            "  method from   \n",
            "  +.gg   ggplot2\n",
            "\n"
          ]
        },
        {
          "output_type": "stream",
          "name": "stdout",
          "text": [
            "   tidyverse DataExplorer       dlookr DataExplorer      rstatix     corrplot \n",
            "        TRUE         TRUE         TRUE         TRUE         TRUE         TRUE \n",
            "       Hmisc      tseries    stargazer          plm       panelr         pglm \n",
            "        TRUE         TRUE         TRUE         TRUE         TRUE         TRUE \n",
            "     geepack clubSandwich          AER     corrplot       lmtest  ggstatsplot \n",
            "        TRUE         TRUE         TRUE         TRUE         TRUE         TRUE \n",
            "   gtsummary      ggExtra    gridExtra   kableExtra       GGally       gplots \n",
            "        TRUE         TRUE         TRUE         TRUE         TRUE         TRUE \n"
          ]
        }
      ]
    },
    {
      "cell_type": "markdown",
      "source": [
        "## Load R Packages"
      ],
      "metadata": {
        "id": "MV7R29xfyWQz"
      }
    },
    {
      "cell_type": "code",
      "source": [
        "%%R\n",
        "# set library path\n",
        ".libPaths('drive/My Drive/R')\n",
        "# Load packages with suppressed messages\n",
        "invisible(lapply(packages, function(pkg) {\n",
        "  suppressPackageStartupMessages(library(pkg, character.only = TRUE))\n",
        "}))\n",
        "# Check loaded packages\n",
        "cat(\"Successfully loaded packages:\\n\")\n",
        "print(search()[grepl(\"package:\", search())])# Check loaded packages\n"
      ],
      "metadata": {
        "id": "232jNAHBykUL",
        "colab": {
          "base_uri": "https://localhost:8080/"
        },
        "outputId": "070db1e3-8f80-45d5-9de5-b364cb1d4910"
      },
      "execution_count": 7,
      "outputs": [
        {
          "output_type": "stream",
          "name": "stdout",
          "text": [
            "Successfully loaded packages:\n",
            " [1] \"package:gplots\"       \"package:GGally\"       \"package:kableExtra\"  \n",
            " [4] \"package:gridExtra\"    \"package:ggExtra\"      \"package:gtsummary\"   \n",
            " [7] \"package:ggstatsplot\"  \"package:AER\"          \"package:survival\"    \n",
            "[10] \"package:sandwich\"     \"package:lmtest\"       \"package:zoo\"         \n",
            "[13] \"package:car\"          \"package:carData\"      \"package:clubSandwich\"\n",
            "[16] \"package:geepack\"      \"package:pglm\"         \"package:maxLik\"      \n",
            "[19] \"package:miscTools\"    \"package:panelr\"       \"package:lme4\"        \n",
            "[22] \"package:Matrix\"       \"package:plm\"          \"package:stargazer\"   \n",
            "[25] \"package:tseries\"      \"package:Hmisc\"        \"package:corrplot\"    \n",
            "[28] \"package:rstatix\"      \"package:dlookr\"       \"package:DataExplorer\"\n",
            "[31] \"package:lubridate\"    \"package:forcats\"      \"package:stringr\"     \n",
            "[34] \"package:dplyr\"        \"package:purrr\"        \"package:readr\"       \n",
            "[37] \"package:tidyr\"        \"package:tibble\"       \"package:ggplot2\"     \n",
            "[40] \"package:tidyverse\"    \"package:tools\"        \"package:stats\"       \n",
            "[43] \"package:graphics\"     \"package:grDevices\"    \"package:utils\"       \n",
            "[46] \"package:datasets\"     \"package:methods\"      \"package:base\"        \n"
          ]
        }
      ]
    },
    {
      "cell_type": "markdown",
      "source": [
        "##  Panel regression models fit via multilevel modeling\n",
        "\n",
        "The `wbm()` function in the `panelr` package fits panel regression models using multilevel modeling. This function is useful for estimating fixed effects, random effects, and mixed effects models for panel data. The `wbm()` function takes a formula as input, where the dependent variable is on the left-hand side, and the independent variables are on the right-hand side. The formula can include fixed effects, random effects, and other model specifications.\n"
      ],
      "metadata": {
        "id": "_tOKehw6B8ln"
      }
    },
    {
      "cell_type": "markdown",
      "source": [
        "### Data\n",
        "\n",
        "We use data from the `WageData` dataset in the `palenr` package to demonstrate the `wbm()` function. The `WageData` dataset come from the years 1976-1982 in the Panel Study of Income Dynamics (PSID), with information about the demographics and earnings of 595 individuals.\n",
        "\n",
        "\n"
      ],
      "metadata": {
        "id": "rSJqB05rO5ES"
      }
    },
    {
      "cell_type": "code",
      "execution_count": 8,
      "metadata": {
        "colab": {
          "base_uri": "https://localhost:8080/"
        },
        "id": "CFpt_H01OPsa",
        "outputId": "42a736c2-d79f-4f0c-e8ee-58d73d84f28c"
      },
      "outputs": [
        {
          "output_type": "stream",
          "name": "stdout",
          "text": [
            "  exp wks occ ind south smsa ms fem union ed blk   lwage t id\n",
            "1   3  32   0   0     1    0  1   0     0  9   0 5.56068 1  1\n",
            "2   4  43   0   0     1    0  1   0     0  9   0 5.72031 2  1\n",
            "3   5  40   0   0     1    0  1   0     0  9   0 5.99645 3  1\n",
            "4   6  39   0   0     1    0  1   0     0  9   0 5.99645 4  1\n",
            "5   7  42   0   1     1    0  1   0     0  9   0 6.06146 5  1\n",
            "6   8  35   0   1     1    0  1   0     0  9   0 6.17379 6  1\n"
          ]
        }
      ],
      "source": [
        "%%R\n",
        "# Load the WageData dataset from the panelr package\n",
        "data(\"WageData\", package = \"panelr\")\n",
        "head(WageData)"
      ]
    },
    {
      "cell_type": "markdown",
      "source": [
        "### Data Preparation\n",
        "\n",
        "`panel_data()` function is used to create a panel data object from the WageData dataset. The `panel_data()` function requires specifying the id variable (entity identifier) and the wave variable (time identifier) in the dataset. In this case, the id variable is `id` and the wave variable is `t`."
      ],
      "metadata": {
        "id": "I8dFM0UCCpWO"
      }
    },
    {
      "cell_type": "code",
      "source": [
        "%%R\n",
        "wages <- panel_data(WageData, id = id, wave = t)"
      ],
      "metadata": {
        "id": "MmtJFmCMCpig"
      },
      "execution_count": 9,
      "outputs": []
    },
    {
      "cell_type": "markdown",
      "source": [
        "### Fit \"within-between\"  Model\n",
        "\n",
        "The code below fits a weighted balanced panel model using the `wbm()` function from the {panelr} package. The model aims to explain the log of wages (`lwage`) based on several independent variables and their interactions:\n",
        "\n",
        "-   The lagged value of `union` membership (lag(union)).\n",
        "-   The number of weeks worked (`wks`).\n",
        "-   Main effects for being Black (`blk`) and being female (`fem)`.\n",
        "-   An interaction term between being Black and lagged union membership (blk \\* lag(union)).\n",
        "\n",
        "`family =gaussian` use this to specify GLM link families. Default is `gaussian`, the linear model. Other options include binomial, poisson, and negative binomial. By default argument `model= \"w-b\"`, which specifies the `within-between` model."
      ],
      "metadata": {
        "id": "q-w1LOO8D1Kk"
      }
    },
    {
      "cell_type": "code",
      "source": [
        "%%R\n",
        "model.wb <- wbm(lwage ~ lag(union) + wks | blk + fem | blk * lag(union),\n",
        "                 family= gaussian(),\n",
        "                 model = \"w-b\",\n",
        "                 data = wages)\n",
        "summary(model.wb)"
      ],
      "metadata": {
        "id": "tO4j13t1IAjE",
        "colab": {
          "base_uri": "https://localhost:8080/"
        },
        "outputId": "599b9baf-e7b8-4994-80ae-44cd54d69382"
      },
      "execution_count": 10,
      "outputs": [
        {
          "output_type": "stream",
          "name": "stdout",
          "text": [
            "MODEL INFO:\n",
            "Entities: 595\n",
            "Time periods: 2-7\n",
            "Dependent variable: lwage\n",
            "Model type: Linear mixed effects\n",
            "Specification: within-between\n",
            "\n",
            "MODEL FIT:\n",
            "AIC = 1386.31, BIC = 1448.11\n",
            "Pseudo-R² (fixed effects) = 0.13\n",
            "Pseudo-R² (total) = 0.74\n",
            "Entity ICC = 0.7\n",
            "\n",
            "WITHIN EFFECTS:\n",
            "---------------------------------------------------------\n",
            "                    Est.   S.E.   t val.      d.f.      p\n",
            "---------------- ------- ------ -------- --------- ------\n",
            "lag(union)          0.06   0.03     2.28   2972.01   0.02\n",
            "wks                -0.00   0.00    -1.51   2994.31   0.13\n",
            "---------------------------------------------------------\n",
            "\n",
            "BETWEEN EFFECTS:\n",
            "---------------------------------------------------------------\n",
            "                           Est.   S.E.   t val.     d.f.      p\n",
            "----------------------- ------- ------ -------- -------- ------\n",
            "(Intercept)                6.60   0.23    28.53   589.99   0.00\n",
            "imean(lag(union))         -0.03   0.03    -0.80   589.98   0.42\n",
            "imean(wks)                 0.00   0.00     0.91   589.99   0.36\n",
            "blk                       -0.23   0.06    -3.85   589.98   0.00\n",
            "fem                       -0.44   0.05    -8.89   589.98   0.00\n",
            "---------------------------------------------------------------\n",
            "\n",
            "CROSS-LEVEL INTERACTIONS:\n",
            "-------------------------------------------------------------\n",
            "                        Est.   S.E.   t val.      d.f.      p\n",
            "-------------------- ------- ------ -------- --------- ------\n",
            "lag(union):blk         -0.13   0.12    -1.03   2971.99   0.31\n",
            "-------------------------------------------------------------\n",
            "\n",
            "p values calculated using Satterthwaite d.f.\n",
            " \n",
            "RANDOM EFFECTS:\n",
            "------------------------------------\n",
            "  Group      Parameter    Std. Dev. \n",
            "---------- ------------- -----------\n",
            "    id      (Intercept)     0.354   \n",
            " Residual                  0.2326   \n",
            "------------------------------------\n"
          ]
        }
      ]
    },
    {
      "cell_type": "markdown",
      "source": [
        "The output of the `summary()` function provides the coefficients, standard errors, t-values, and p-values for the model parameters. The `wbm()` function fits a within-between model with fixed effects for `blk` and `fem`, as well as an cross-level interaction term between `blk` and the lagged value of `union`. `imean()` is an internal function that calculates the individual-level mean, which represents the between-subjects effects of the time-varying predictors. The `wbm()` function also provides the overall model fit statistics, including the marginal and conditional `R-squared` values."
      ],
      "metadata": {
        "id": "DNRujh50CPxg"
      }
    },
    {
      "cell_type": "markdown",
      "source": [
        "#### Model Diagnostics\n",
        "\n",
        "The `wbm()` function also provides diagnostic plots to assess the model assumptions and identify potential issues. The `plot()` function can be used to visualize the model diagnostics, including the residuals, fitted values, and QQ plot of the residuals."
      ],
      "metadata": {
        "id": "GNZC5A35CStk"
      }
    },
    {
      "cell_type": "code",
      "source": [
        "%%R -w 500 -h 450 -u px\n",
        "plot(model.wb)"
      ],
      "metadata": {
        "id": "WTF2ZhKsINZ8",
        "colab": {
          "base_uri": "https://localhost:8080/",
          "height": 467
        },
        "outputId": "9117a02e-72aa-4522-b249-ea6cd6aee13c"
      },
      "execution_count": 11,
      "outputs": [
        {
          "output_type": "display_data",
          "data": {
            "image/png": "[encoded data removed]"
          },
          "metadata": {}
        }
      ]
    },
    {
      "cell_type": "markdown",
      "source": [
        "#### Predictions\n",
        "\n",
        "The `predict()` function can be used to generate predictions from the fitted model. By specifying the argument `type = \"response\"`, the function returns the predicted values on the original scale of the dependent variable."
      ],
      "metadata": {
        "id": "ypMLAot0CXx9"
      }
    },
    {
      "cell_type": "code",
      "source": [
        "%%R\n",
        "wages$predict<-predict(model.wb, type = \"response\", newdata = wages)\n",
        "head(wages$predict)\n",
        "wages.df<-na.omit(wages)"
      ],
      "metadata": {
        "id": "p_eUNGuwDNka"
      },
      "execution_count": 12,
      "outputs": []
    },
    {
      "cell_type": "markdown",
      "source": [
        "#### Prediction Performance"
      ],
      "metadata": {
        "id": "ScXpBMBikzr3"
      }
    },
    {
      "cell_type": "code",
      "source": [
        "%%R -w 600 -h 500 -u px\n",
        "library(ggpmisc)\n",
        "formula<-y~x\n",
        "ggplot(wages.df, aes(x=lwage, y=predict)) +\n",
        " geom_point(size=2) +\n",
        " # draw fitted line\n",
        "  geom_smooth(method = \"lm\", formula = formula) +\n",
        "  stat_poly_eq(use_label(c(\"eq\", \"adj.R2\")), formula = formula) +\n",
        " # add plot title\n",
        " ggtitle(\"Prediction Performance\") +\n",
        " theme(\n",
        "    # center the plot title\n",
        "    plot.title = element_text(hjust = 0.5),\n",
        "    axis.line = element_line(colour = \"gray\"),\n",
        "    # axis title font size\n",
        "    axis.title.x = element_text(size = 14),\n",
        "    # X and  axis font size\n",
        "    axis.text.y=element_text(size=12,vjust = 0.5, hjust=0.5),\n",
        "    axis.text.x = element_text(size=12))+\n",
        "  xlab(\"Observed\") +\n",
        "  ylab(\"Predicted\")"
      ],
      "metadata": {
        "colab": {
          "base_uri": "https://localhost:8080/",
          "height": 795
        },
        "id": "zh1DEtUxDSIl",
        "outputId": "30c35bc0-740c-407c-ed38-77475664b9d5"
      },
      "execution_count": 13,
      "outputs": [
        {
          "output_type": "stream",
          "name": "stderr",
          "text": [
            "WARNING:rpy2.rinterface_lib.callbacks:R[write to console]: Loading required package: ggpp\n",
            "\n",
            "WARNING:rpy2.rinterface_lib.callbacks:R[write to console]: Registered S3 methods overwritten by 'ggpp':\n",
            "  method                  from   \n",
            "  heightDetails.titleGrob ggplot2\n",
            "  widthDetails.titleGrob  ggplot2\n",
            "\n",
            "WARNING:rpy2.rinterface_lib.callbacks:R[write to console]: \n",
            "Attaching package: ‘ggpp’\n",
            "\n",
            "\n",
            "WARNING:rpy2.rinterface_lib.callbacks:R[write to console]: The following object is masked from ‘package:ggplot2’:\n",
            "\n",
            "    annotate\n",
            "\n",
            "\n"
          ]
        },
        {
          "output_type": "display_data",
          "data": {
            "image/png": "[encoded data removed]"
          },
          "metadata": {}
        }
      ]
    },
    {
      "cell_type": "markdown",
      "source": [
        "\n",
        "#### Simulation\n",
        "\n",
        "The `simulate()` function can be used to simulate data from the fitted model. By specifying the argument `nsim = 1000`, the function generates 1000 simulated datasets based on the model specifications."
      ],
      "metadata": {
        "id": "kVpip4LblDjJ"
      }
    },
    {
      "cell_type": "code",
      "source": [
        "%%R\n",
        "sim.data<-simulate(model.wb, nsim = 1000)\n",
        "wages.df$sim.mean<-rowMeans(sim.data)\n",
        "summary(wages.df$sim.mean)"
      ],
      "metadata": {
        "colab": {
          "base_uri": "https://localhost:8080/"
        },
        "id": "TQK3Q-3PDjWU",
        "outputId": "7fbb987a-e45b-476d-a57c-28bce261a2d3"
      },
      "execution_count": 14,
      "outputs": [
        {
          "output_type": "stream",
          "name": "stdout",
          "text": [
            "   Min. 1st Qu.  Median    Mean 3rd Qu.    Max. \n",
            "  6.041   6.758   6.790   6.727   6.810   6.880 \n"
          ]
        }
      ]
    },
    {
      "cell_type": "markdown",
      "source": [
        "### Fit a \"contextual\" Model\n",
        "\n",
        "To specify a model where occasion-level predictors do not have their means subtracted, use the argument `model = \"contextual.\"` The term \"contextual\" refers to the interpretation of these variables when this option is selected.\n",
        "\n",
        "**Occasion Level Predictors:** These predictors vary within units across different time points. For instance, in a panel data set, a variable like union membership may change over various years for the same individual.\n",
        "\n",
        "**Mean Subtracted:** In some panel models, occasion-level predictors are mean-centered, meaning that the mean value of the predictor is subtracted from each observation. This isolates the within-unit variation.\n",
        "\n",
        "**Contextual Specification:** If you prefer the model to use the raw values of the occasion-level predictors without mean subtraction, you can specify `model = \"contextual.\"` This indicates that the predictors will be interpreted in their original scale and context.\n",
        "\n",
        "By using the `model = \"contextual\"` argument, the model asserts that occasion-level predictors (e.g., `lag(union)`) will not have their means subtracted. Consequently, these predictors are interpreted in their original context, offering a \"contextual\" understanding of their effects on the dependent variable."
      ],
      "metadata": {
        "id": "aP-ASSfDDzqp"
      }
    },
    {
      "cell_type": "code",
      "source": [
        "%%R\n",
        "model.cont <- wbm(lwage ~ lag(union) + wks | blk + fem | blk * lag(union),\n",
        "                 family= gaussian(),\n",
        "                 model = \"contextual\",\n",
        "                data = wages)\n",
        "summary(model.cont)"
      ],
      "metadata": {
        "id": "8nCTpa_mD3Tr",
        "colab": {
          "base_uri": "https://localhost:8080/"
        },
        "outputId": "0886b471-8550-43ec-84ef-27731b8bc413"
      },
      "execution_count": 15,
      "outputs": [
        {
          "output_type": "stream",
          "name": "stdout",
          "text": [
            "MODEL INFO:\n",
            "Entities: 595\n",
            "Time periods: 2-7\n",
            "Dependent variable: lwage\n",
            "Model type: Linear mixed effects\n",
            "Specification: contextual\n",
            "\n",
            "MODEL FIT:\n",
            "AIC = 1387.25, BIC = 1449.06\n",
            "Pseudo-R² (fixed effects) = 0.13\n",
            "Pseudo-R² (total) = 0.74\n",
            "Entity ICC = 0.7\n",
            "\n",
            "WITHIN EFFECTS:\n",
            "---------------------------------------------------------\n",
            "                    Est.   S.E.   t val.      d.f.      p\n",
            "---------------- ------- ------ -------- --------- ------\n",
            "lag(union)          0.05   0.03     1.95   3034.28   0.05\n",
            "wks                -0.00   0.00    -1.55   2993.12   0.12\n",
            "---------------------------------------------------------\n",
            "\n",
            "CONTEXTUAL EFFECTS:\n",
            "----------------------------------------------------------------\n",
            "                           Est.   S.E.   t val.      d.f.      p\n",
            "----------------------- ------- ------ -------- --------- ------\n",
            "(Intercept)                6.62   0.23    28.54    591.57   0.00\n",
            "imean(lag(union))         -0.08   0.04    -1.96   1292.37   0.05\n",
            "imean(wks)                 0.01   0.00     1.15    649.11   0.25\n",
            "blk                       -0.26   0.07    -3.73    803.10   0.00\n",
            "fem                       -0.44   0.05    -8.87    587.69   0.00\n",
            "----------------------------------------------------------------\n",
            "\n",
            "CROSS-LEVEL INTERACTIONS:\n",
            "------------------------------------------------------------\n",
            "                       Est.   S.E.   t val.      d.f.      p\n",
            "-------------------- ------ ------ -------- --------- ------\n",
            "lag(union):blk         0.08   0.09     0.91   1906.99   0.36\n",
            "------------------------------------------------------------\n",
            "\n",
            "p values calculated using Satterthwaite d.f.\n",
            " \n",
            "RANDOM EFFECTS:\n",
            "------------------------------------\n",
            "  Group      Parameter    Std. Dev. \n",
            "---------- ------------- -----------\n",
            "    id      (Intercept)    0.3533   \n",
            " Residual                  0.2327   \n",
            "------------------------------------\n"
          ]
        }
      ]
    },
    {
      "cell_type": "markdown",
      "source": [
        "### Fit a \"between\"  or Random Effect Model\n",
        "\n",
        "If we want the model specified such that the occasion level predictors do, You may also use model = \"between\" to fit what is known as the random effects model, which does not disaggregate the within- and between-entity variation. To effectively specify the model while taking into account the occasion-level predictors, we can utilize the option `model = \"between.\"` This approach aligns with what econometricians refer to as the random effects model. Unlike fixed effects models, the random effects model does not distinguish between variations that occur within individual entities—such as repeated measures over time—and those that occur between different entities. By employing this model, we can analyze data that captures both the"
      ],
      "metadata": {
        "id": "BFR0ja9GC6bH"
      }
    },
    {
      "cell_type": "code",
      "source": [
        "%%R\n",
        "model.bet <- wbm(lwage ~ lag(union) + wks | blk + fem | blk * lag(union),\n",
        "                 family= gaussian(),\n",
        "                 model = \"between\",\n",
        "                 data = wages)\n",
        "summary(model.bet)"
      ],
      "metadata": {
        "colab": {
          "base_uri": "https://localhost:8080/"
        },
        "id": "RzCy7aCJUvbP",
        "outputId": "5ac61814-887b-49f8-8c48-2460305e7b6e"
      },
      "execution_count": 16,
      "outputs": [
        {
          "output_type": "stream",
          "name": "stdout",
          "text": [
            "MODEL INFO:\n",
            "Entities: 595\n",
            "Time periods: 2-7\n",
            "Dependent variable: lwage\n",
            "Model type: Linear mixed effects\n",
            "Specification: between\n",
            "\n",
            "MODEL FIT:\n",
            "AIC = 1376.58, BIC = 1426.02\n",
            "Pseudo-R² (fixed effects) = 0.13\n",
            "Pseudo-R² (total) = 0.74\n",
            "Entity ICC = 0.7\n",
            "\n",
            "BETWEEN EFFECTS:\n",
            "----------------------------------------------------------\n",
            "                     Est.   S.E.   t val.      d.f.      p\n",
            "----------------- ------- ------ -------- --------- ------\n",
            "(Intercept)          6.85   0.05   128.54   3547.62   0.00\n",
            "lag(union)           0.02   0.02     0.76   2865.05   0.45\n",
            "wks                 -0.00   0.00    -1.25   3249.08   0.21\n",
            "blk                 -0.27   0.07    -3.79    801.21   0.00\n",
            "fem                 -0.44   0.05    -8.95    593.56   0.00\n",
            "----------------------------------------------------------\n",
            "\n",
            "CROSS-LEVEL INTERACTIONS:\n",
            "------------------------------------------------------------\n",
            "                       Est.   S.E.   t val.      d.f.      p\n",
            "-------------------- ------ ------ -------- --------- ------\n",
            "lag(union):blk         0.07   0.09     0.82   1897.19   0.41\n",
            "------------------------------------------------------------\n",
            "\n",
            "p values calculated using Satterthwaite d.f.\n",
            " \n",
            "RANDOM EFFECTS:\n",
            "------------------------------------\n",
            "  Group      Parameter    Std. Dev. \n",
            "---------- ------------- -----------\n",
            "    id      (Intercept)    0.3544   \n",
            " Residual                  0.2328   \n",
            "------------------------------------\n"
          ]
        }
      ]
    },
    {
      "cell_type": "markdown",
      "source": [
        "## Panel Regression Models with Generalized Estimating Equations (GEE)\n",
        "\n",
        "GEE is a population-averaged approach for analyzing panel (longitudinal) data that accounts for `within-cluster correlation` (e.g., repeated measurements within individuals, firms, or households). Unlike mixed-effects models, GEE does not model individual-specific random effects but instead uses a `working correlation structure` to adjust standard errors and coefficients for dependency in the data. Here’s how to use GEE for panel regression:"
      ],
      "metadata": {
        "id": "BHE412vmlYZM"
      }
    },
    {
      "cell_type": "markdown",
      "source": [
        "### Key Features of GEE are below:\n",
        "\n",
        "1.  `Population-Averaged Effects`: Estimates marginal (average) effects across the population.\\\n",
        "\n",
        "2.  `Robustness`: Provides valid inference even if the correlation structure is misspecified (due to robust \"sandwich\" standard errors).\\\n",
        "\n",
        "3.  `Flexible Correlation Structures`:\n",
        "\n",
        "    -   Independence: No correlation (equivalent to pooled OLS)\n",
        "    -   Exchangeable: Constant correlation across time (e.g., $cor(y_it, y_is) = ρ$).\n",
        "    -   AR(1): Correlation declines with time lag (e.g., $cor(y_it, y_i(t-1)) = ρ$).\n",
        "    -   Unstructured: No constraints on correlation patterns.\n"
      ],
      "metadata": {
        "id": "c5DBUBZpE9nZ"
      }
    },
    {
      "cell_type": "markdown",
      "source": [
        "### When to Use GEE?\n",
        "\n",
        "1.  `Population-Averaged Inference`: When interest lies in average effects (e.g., policy impacts across a population).\\\n",
        "2.  `Robustness to Correlation Misspecification`: When the true correlation structure is unknown.\\\n",
        "3.  `Large Clusters`: Requires many clusters (e.g., ≥ 30) for reliable standard errors.\n",
        "\n"
      ],
      "metadata": {
        "id": "aPi9_NI8FAZh"
      }
    },
    {
      "cell_type": "markdown",
      "source": [
        "### GEE vs. Mixed-Effects Models\n",
        "\n",
        "| **Aspect** | **GEE** | **Mixed-Effects Models** |\n",
        "|------------------|-------------------------|-----------------------------|\n",
        "| **Inference** | Population-averaged | Subject-specific |\n",
        "| **Correlation** | Working correlation (adjusted) | Explicitly modeled (random effects) |\n",
        "| **Efficiency** | Less efficient if RE is correct | More efficient if RE is correct |\n",
        "| **Assumptions** | Robust to correlation misspec. | Requires correct random effects spec. |\n"
      ],
      "metadata": {
        "id": "7TDkbZmHFEUV"
      }
    },
    {
      "cell_type": "markdown",
      "source": [
        "### Fit a  Linear GEE Model\n",
        "\n",
        "We will `WageData` dataset to fit a GEE model using the `wbgee()` function from the {panelr} package."
      ],
      "metadata": {
        "id": "8wAHo4_LFJEg"
      }
    },
    {
      "cell_type": "code",
      "source": [
        "%%R\n",
        "data(\"WageData\", package = \"panelr\")\n",
        "wages <- panel_data(WageData, id = id, wave = t)\n"
      ],
      "metadata": {
        "id": "YzedGbrtW3Ya"
      },
      "execution_count": 17,
      "outputs": []
    },
    {
      "cell_type": "markdown",
      "source": [
        "The model aims to explain the log of wages (`lwage`) based on several independent variables and their interactions:"
      ],
      "metadata": {
        "id": "sxYaQ_y0DL-c"
      }
    },
    {
      "cell_type": "code",
      "source": [
        "%%R\n",
        "model.gee <- wbgee(lwage ~ lag(union) + wks | blk + fem | blk * lag(union),\n",
        "           data = wages)\n",
        "summary(model.gee)"
      ],
      "metadata": {
        "colab": {
          "base_uri": "https://localhost:8080/"
        },
        "id": "bnXig8cNXqKq",
        "outputId": "15ee70f4-79df-4102-899e-ad9b2100deae"
      },
      "execution_count": 18,
      "outputs": [
        {
          "output_type": "stream",
          "name": "stdout",
          "text": [
            "MODEL INFO:\n",
            "Entities: 595\n",
            "Time periods: 2-7\n",
            "Dependent variable: lwage\n",
            "Model type: Linear GEE\n",
            "Variance: ar1 (alpha = 0.85)\n",
            "Specification: within-between\n",
            "\n",
            "MODEL FIT:\n",
            "QIC = 655.54, QICu = 653.36, CIC = 9.09\n",
            "\n",
            "WITHIN EFFECTS:\n",
            "-----------------------------------------------\n",
            "                    Est.   S.E.   z val.      p\n",
            "---------------- ------- ------ -------- ------\n",
            "lag(union)          0.02   0.02     0.98   0.33\n",
            "wks                -0.00   0.00    -0.82   0.41\n",
            "-----------------------------------------------\n",
            "\n",
            "BETWEEN EFFECTS:\n",
            "------------------------------------------------------\n",
            "                           Est.   S.E.   z val.      p\n",
            "----------------------- ------- ------ -------- ------\n",
            "(Intercept)                6.61   0.24    27.12   0.00\n",
            "imean(lag(union))         -0.01   0.03    -0.40   0.69\n",
            "imean(wks)                 0.00   0.01     0.75   0.45\n",
            "blk                       -0.23   0.06    -3.86   0.00\n",
            "fem                       -0.43   0.05    -8.94   0.00\n",
            "------------------------------------------------------\n",
            "\n",
            "CROSS-LEVEL INTERACTIONS:\n",
            "---------------------------------------------------\n",
            "                        Est.   S.E.   z val.      p\n",
            "-------------------- ------- ------ -------- ------\n",
            "lag(union):blk         -0.11   0.05    -2.22   0.03\n",
            "---------------------------------------------------\n",
            "\n"
          ]
        }
      ]
    },
    {
      "cell_type": "markdown",
      "source": [
        "## First Differences Models using GLS\n",
        "\n",
        "First differences models are a common approach to analyzing panel data when the focus is on the change in the dependent variable and the independent variables over time. The `fdm()` function in the `panelr` package estimates first differences models using Generalized Least Squares (GLS) estimation. This method is useful for examining the impact of time-varying predictors on the change in the dependent variable while controlling for individual-specific effects."
      ],
      "metadata": {
        "id": "1ZxtDmJJcqx2"
      }
    },
    {
      "cell_type": "markdown",
      "source": [
        "### Fit a First Differences Model\n",
        "\n",
        "The code below fits a first differences model using the `fdm()` function from the {panelr} package. The model aims to explain the change in the log of wages (`lwage`) based on the change in the number of weeks worked (`wks`) and the change in union membership (`union`)."
      ],
      "metadata": {
        "id": "MUhcTqpMFZvG"
      }
    },
    {
      "cell_type": "code",
      "source": [
        "%%R\n",
        "model.fdm <- fdm(lwage ~ wks + union, data = wages)\n",
        "summary(model.fdm)\n"
      ],
      "metadata": {
        "colab": {
          "base_uri": "https://localhost:8080/"
        },
        "id": "e8GXimNJc2BW",
        "outputId": "cdb1deb4-3ba6-46b1-955f-e09880dbe95f"
      },
      "execution_count": 19,
      "outputs": [
        {
          "output_type": "stream",
          "name": "stdout",
          "text": [
            "MODEL INFO:\n",
            "Entities: 595\n",
            "Time periods: 2-7\n",
            "Dependent variable: lwage\n",
            "Variance structure: toeplitz-1 (theta = -0.44) \n",
            "\n",
            "MODEL FIT:\n",
            "AIC = -2500.35, BIC = -2469.45\n",
            " \n",
            "Standard errors: CR2 \n",
            "-----------------------------------------------\n",
            "                    Est.   S.E.   t val.      p\n",
            "----------------- ------ ------ -------- ------\n",
            "(Intercept)         0.10   0.00    54.86   0.00\n",
            "wks                 0.00   0.00     0.47   0.64\n",
            "union               0.02   0.02     0.90   0.37\n",
            "-----------------------------------------------\n"
          ]
        }
      ]
    },
    {
      "cell_type": "markdown",
      "source": [
        "The output of the `summary()` function provides the coefficients, standard errors, t-values, and p-values for the model parameters. The `fdm()` function estimates the first differences model using GLS estimation, which accounts for individual-specific effects and time-varying predictors. The model results include the estimated coefficients for the change in the number of weeks worked (`wks`) and the change in union membership (`union`)."
      ],
      "metadata": {
        "id": "hPJjVMnuDpU9"
      }
    },
    {
      "cell_type": "code",
      "source": [
        "%%R\n",
        "HealthIns$med2 <- HealthIns$med / 1000\n",
        "HealthIns2 <- HealthIns[-2209, ]\n",
        "\n",
        "# Check for NA values in the predictors and response\n",
        "sum(is.na(HealthIns2))\n",
        "# Remove rows with NA values\n",
        "HealthIns2 <- na.omit(HealthIns2)"
      ],
      "metadata": {
        "id": "H-Vzd2LJe3IS"
      },
      "execution_count": null,
      "outputs": []
    },
    {
      "cell_type": "markdown",
      "source": [
        "The code below fits a Tobit regression model with random effects for the HealthIns2 dataset. The model uses the `med` variable as the dependent variable and includes `mdu`, `disease`, and `age `as independent variables. The Tobit model is appropriate for censored dependent variables, and the estimation is performed using the `Newton-Raphson` method with 5 random draws. The dataset is first processed by creating a new variable, removing a specific row, and taking a random subsample of 200 rows for the analysis."
      ],
      "metadata": {
        "id": "k7pbONBmDy4k"
      }
    },
    {
      "cell_type": "markdown",
      "source": [
        "\n",
        "## Asymmetric Effects Models using First Differences\n",
        "\n",
        "Asymmetric effects models are a type of panel regression model that allows for different effects of predictors on the dependent variable depending on the direction of change. The `asym()` function in the `panelr` package estimates asymmetric effects models using first differences. This method is useful for examining how predictors affect the dependent variable differently when they increase or decrease.\n"
      ],
      "metadata": {
        "id": "N33kGHtcFjnI"
      }
    },
    {
      "cell_type": "markdown",
      "source": [
        "### Fit an Asymmetric Effects Model\n",
        "\n",
        "The code below fits an asymmetric effects model using the `asym()` function from the {panelr} package. The model aims to explain the change in the log of wages (`lwage`) based on the change in the number of weeks worked (`wks`) and the change in union membership (`union`), with different effects for positive and negative changes in the predictors."
      ],
      "metadata": {
        "id": "cCppUkvYFkSy"
      }
    },
    {
      "cell_type": "code",
      "source": [
        "%%R\n",
        "model.asym <- asym(lwage ~ wks + union, data = wages)\n",
        "summary(model.asym)"
      ],
      "metadata": {
        "colab": {
          "base_uri": "https://localhost:8080/"
        },
        "id": "L-T7zYiSe7eM",
        "outputId": "5a0cfba0-080e-402b-df5d-b0e51e90d449"
      },
      "execution_count": 20,
      "outputs": [
        {
          "output_type": "stream",
          "name": "stdout",
          "text": [
            "MODEL INFO:\n",
            "Entities: 595\n",
            "Time periods: 2-7\n",
            "Dependent variable: lwage\n",
            "Model type: Linear asymmetric effects (first differences)\n",
            "Variance structure: toeplitz-1 (theta = -0.44) \n",
            "\n",
            "Standard errors: Cluster-robust (CR2) \n",
            "------------------------------------------------\n",
            "                     Est.   S.E.   t val.      p\n",
            "----------------- ------- ------ -------- ------\n",
            "(Intercept)          0.10   0.00    43.17   0.00\n",
            "+wks                 0.00   0.00     0.50   0.62\n",
            "-wks                -0.00   0.00    -0.30   0.76\n",
            "+union               0.01   0.02     0.53   0.60\n",
            "-union              -0.03   0.03    -0.97   0.33\n",
            "------------------------------------------------\n",
            "\n",
            "Tests of asymmetric effects:\n",
            "--------------------------\n",
            "              chi^2      p\n",
            "----------- ------- ------\n",
            "wks            0.01   0.94\n",
            "union          0.39   0.53\n",
            "--------------------------\n"
          ]
        }
      ]
    },
    {
      "cell_type": "markdown",
      "source": [
        "The output of the `summary()` function provides the coefficients, standard errors, t-values, and p-values for the model parameters. The `asym()` function estimates the asymmetric effects model using first differences, which allows for different effects of the predictors on the dependent variable depending on the direction of change. The model results include the estimated coefficients for the change in the number of weeks worked (`wks`) and the change in union membership (`union`), with separate effects for positive and negative changes.\n"
      ],
      "metadata": {
        "id": "g5DG_ugLFsNM"
      }
    },
    {
      "cell_type": "markdown",
      "source": [
        "## Asymmetric Effects Models using GEE\n",
        "\n",
        "The `asym_gee()` function in the `panelr` package estimates asymmetric effects models using Generalized Estimating Equations (GEE). This method is useful for analyzing panel data with repeated measurements and examining how predictors affect the dependent variable differently depending on the direction of change. The `asym_gee()` function allows for flexible correlation structures and robust standard errors in the estimation of asymmetric effects models."
      ],
      "metadata": {
        "id": "Bxz3OUP7Fs2V"
      }
    },
    {
      "cell_type": "markdown",
      "source": [
        "### Fit an Asymmetric Effects Model with GEE\n",
        "\n",
        "The code below fits an asymmetric effects model using the `asym_gee()` function from the {panelr} package. The model aims to explain the log of wages (`lwage`) based on the number of weeks worked (`wks`) and union membership (`union`), with different effects for positive and negative changes in the predictors."
      ],
      "metadata": {
        "id": "2x_iR98UFw5B"
      }
    },
    {
      "cell_type": "code",
      "source": [
        "%%R\n",
        "model.asym_gee <- asym_gee(lwage ~ wks + union, data = wages)\n",
        "summary(model.asym_gee)"
      ],
      "metadata": {
        "colab": {
          "base_uri": "https://localhost:8080/"
        },
        "id": "1rFMeZgWF1vw",
        "outputId": "2b8db8fa-8b41-4405-bbe3-73620241bdbf"
      },
      "execution_count": 21,
      "outputs": [
        {
          "output_type": "stream",
          "name": "stdout",
          "text": [
            "MODEL INFO:\n",
            "Entities: 595\n",
            "Time periods: 2-7\n",
            "Dependent variable: lwage\n",
            "Model family: Linear \n",
            "Variance: ar1 (alpha = -0.31)\n",
            "Specification: Asymmetric effects (via GEE)\n",
            "\n",
            "MODEL FIT:\n",
            "QIC = 134.36, QICu = 128.04, CIC = 8.16\n",
            "\n",
            "------------------------------------------------\n",
            "                     Est.   S.E.   z val.      p\n",
            "----------------- ------- ------ -------- ------\n",
            "(Intercept)          0.10   0.00    43.07   0.00\n",
            "+wks                 0.00   0.00     0.26   0.80\n",
            "-wks                -0.00   0.00    -0.14   0.89\n",
            "+union               0.01   0.02     0.36   0.72\n",
            "-union              -0.03   0.03    -0.93   0.35\n",
            "------------------------------------------------\n",
            "\n",
            "Tests of asymmetric effects:\n",
            "--------------------------\n",
            "              chi^2      p\n",
            "----------- ------- ------\n",
            "wks            0.00   0.96\n",
            "union          0.45   0.50\n",
            "--------------------------\n"
          ]
        }
      ]
    },
    {
      "cell_type": "markdown",
      "source": [
        "## Summary and Conclusions\n",
        "\n",
        "This tutorial provided an overview of panel regression models fit via the `panelr` package in R. Panel data analysis involves repeated measurements of the same units over multiple time periods, and panel regression models are used to analyze the relationships between variables in panel data. The `panelr` package provides functions for data preparation, modeling, and interpretation of panel data, making it easier to work with longitudinal datasets. The `wbm()` function fits panel regression models using multilevel modeling, while the `wbgee()` function fits models with Generalized Estimating Equations (GEE). The `fdm()` function estimates first differences models, and the `asym()` and `asym_gee()` functions fit asymmetric effects models using first differences and GEE, respectively. These functions offer a flexible and user-friendly approach to analyzing panel data and estimating regression models with different specifications. By using the `panelr` package, researchers can conduct panel data analysis more efficiently and effectively, gaining insights into the dynamics of longitudinal datasets."
      ],
      "metadata": {
        "id": "WRcixyIzpt2A"
      }
    },
    {
      "cell_type": "markdown",
      "source": [
        "## References\n",
        "\n",
        "1.  [panelr](https://panelr.jacob-long.com/)\n",
        "\n",
        "2.  [Panel Data Regression in R: An Introduction to Longitudinal Data analysis](https://medium.com/@akif.iips/panel-data-regression-in-r-a38ac8559f7f)\n",
        "\n",
        "3.  [Panel data econometrics in R](https://cran.r-project.org/web/packages/plm/vignettes/A_plmPackage.html)\n",
        "\n",
        "4.  [R Tutorial: Panel Data Analysis 1](https://rpubs.com/phle/r_tutorial_panel_data_analysis)\n",
        "\n",
        "\n"
      ],
      "metadata": {
        "id": "bLeAMiRQG59v"
      }
    }
  ]
}