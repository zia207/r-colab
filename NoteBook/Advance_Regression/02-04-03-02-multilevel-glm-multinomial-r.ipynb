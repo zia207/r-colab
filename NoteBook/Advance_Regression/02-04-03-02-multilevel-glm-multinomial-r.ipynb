{
  "nbformat": 4,
  "nbformat_minor": 0,
  "metadata": {
    "colab": {
      "provenance": [],
      "toc_visible": true,
      "authorship_tag": "ABX9TyMtoNcEJp4M3lfpN6nd5TNy",
      "include_colab_link": true
    },
    "kernelspec": {
      "name": "python3",
      "display_name": "Python 3"
    },
    "language_info": {
      "name": "python"
    }
  },
  "cells": [
    {
      "cell_type": "markdown",
      "metadata": {
        "id": "view-in-github",
        "colab_type": "text"
      },
      "source": [
        "<a href=\"https://colab.research.google.com/github/zia207/r-colab/blob/main/NoteBook/Advance_Regression/02-04-03-02-multilevel-glm-multinomial-r.ipynb\" target=\"_parent\"><img src=\"https://colab.research.google.com/assets/colab-badge.svg\" alt=\"Open In Colab\"/></a>"
      ]
    },
    {
      "cell_type": "markdown",
      "source": [
        "![alt text](http://drive.google.com/uc?export=view&id=1bLQ3nhDbZrCCqy_WCxxckOne2lgVvn3l)"
      ],
      "metadata": {
        "id": "4qrItz_mJNWw"
      }
    },
    {
      "cell_type": "markdown",
      "source": [
        "# 3.2. Multilevels or Mixed-Effects Multinomial Model\n",
        "\n",
        "Multilevels or Mixed-Effect miltinomial model is an extension of the multinomial regression model that accounts for random effects. It's particularly useful when data is structured hierarchically or has a multilevel nature, such as repeated measurements within individuals or groups. In this tutorial, we will demonstrate how to build and fit a multilevel multinomial model in R, focusing on the theoretical background, model implementation, and interpretation of results."
      ],
      "metadata": {
        "id": "Dzp9ZseROTcY"
      }
    },
    {
      "cell_type": "markdown",
      "source": [
        "## Overview\n",
        "\n",
        "Multilevel multinomial models, also known as mixed-effects multinomial models, are used to analyze categorical outcomes with more than two categories while accounting for hierarchical structures in the data. These models extend the concept of mixed-effects models to multinomial outcomes, allowing for the estimation of both fixed and random effects. By incorporating random effects, these models can capture the variability within groups or clusters, providing more accurate estimates and predictions. In this tutorial, we will demonstrate how to build and fit a multilevel multinomial model in R, focusing on the theoretical background, model implementation, and interpretation of results.\n",
        "\n",
        "A **Mixed-Effects Multinomial Regression Model** is an extension of the multinomial regression model that accounts for random effects. It's particularly useful when data is structured hierarchically or has a multilevel nature, such as repeated measurements within individuals or groups.\n",
        "\n",
        "Below, I explain the model, starting with multinomial regression, then incorporating mixed effects.\n",
        "\n",
        "**1. Multinomial Regression**\n",
        "\n",
        "Multinomial regression models the probabilities of $K$ categorical outcomes ($y$) for a dependent variable, given predictors $\\mathbf{X}$. For $K$-category outcomes ($y \\in \\{1, 2, \\dots, K\\}$):\n",
        "\n",
        "$$ P(y = k \\mid \\mathbf{X}) = \\frac{\\exp(\\boldsymbol{\\beta}_k^\\top \\mathbf{X})}{\\sum_{j=1}^K \\exp(\\boldsymbol{\\beta}_j^\\top \\mathbf{X})}, \\quad k = 1, 2, \\dots, K $$\n",
        "\n",
        "-   $\\boldsymbol{\\beta}_k$: Coefficients for the predictors for category $k$.\n",
        "-   One category (often the last one) is treated as the **reference category**, and its coefficients $\\boldsymbol{\\beta}_K$ are set to 0 to avoid overparameterization.\n",
        "\n",
        "The log-odds of being in category $k$ relative to the reference category $K$ is:\n",
        "\n",
        "$$ \\log \\left( \\frac{P(y = k \\mid \\mathbf{X})}{P(y = K \\mid \\mathbf{X})} \\right) = \\boldsymbol{\\beta}_k^\\top \\mathbf{X} $$\n",
        "\n",
        "**2. Mixed-Effects Multinomial Regression**\n",
        "\n",
        "To incorporate random effects, the model adds random components to account for variability across clusters or groups (e.g., individuals, locations). The random effects modify the linear predictor.\n",
        "\n",
        "For each cluster $i$, we assume:\n",
        "\n",
        "$$ P(y_i = k \\mid \\mathbf{X}_i, \\mathbf{b}_i) = \\frac{\\exp((\\boldsymbol{\\beta}_k + \\mathbf{b}_{i,k})^\\top \\mathbf{X}_i)}{\\sum_{j=1}^K \\exp((\\boldsymbol{\\beta}_j + \\mathbf{b}_{i,j})^\\top \\mathbf{X}_i)}, \\quad k = 1, 2, \\dots, K $$\n",
        "\n",
        "-   $\\mathbf{b}_{i,k}$: Random effects for group $i$ and category $k$.\n",
        "-   $\\mathbf{b}_i = (\\mathbf{b}_{i,1}, \\dots, \\mathbf{b}_{i,K})$ are typically assumed to follow a multivariate normal distribution:\n",
        "-   $\\mathbf{b}_i \\sim \\mathcal{N}(\\mathbf{0}, \\mathbf{\\Sigma})$, where $\\mathbf{\\Sigma}$ is the covariance matrix of random effects.\n",
        "\n",
        "The random effects allow the model to capture unobserved heterogeneity across groups.\n",
        "\n",
        "\n",
        "\n",
        "**Model Interpretation**\n",
        "\n",
        "-   **Fixed Effects**: Represent the population-level relationships between predictors and the outcome probabilities.\n",
        "-   **Random Effects**: Capture deviations specific to each cluster or group.\n",
        "-   The probabilities for each category are obtained by combining fixed and random effects in the linear predictor.\n",
        "\n",
        "**Log-Likelihood Function**\n",
        "\n",
        "The log-likelihood for the mixed-effects multinomial model, given data ($\\mathbf{y}, \\mathbf{X}$), is:\n",
        "\n",
        "$$ \\mathcal{L}(\\boldsymbol{\\beta}, \\mathbf{\\Sigma}) = \\sum_{i=1}^N \\log \\int \\prod_{j=1}^{n_i} P(y_{ij} \\mid \\mathbf{X}_{ij}, \\mathbf{b}_i) f(\\mathbf{b}_i \\mid \\mathbf{\\Sigma}) , d\\mathbf{b}_i, $$\n",
        "\n",
        "where:\n",
        "\n",
        "-   $n_i$: Number of observations in group $i$.\n",
        "-   $f(\\mathbf{b}\\_i \\mid \\mathbf{\\Sigma})$: Density of the random effects.\n",
        "\n",
        "This integral is generally intractable, so numerical methods such as **Gaussian quadrature** or **Monte Carlo integration** are used.\n",
        "\n",
        "Suppose we want to model a patient's choice among three treatments ($A, B, C$) repeatedly observed across multiple hospitals. Predictor variables include patient characteristics ($\\mathbf{X}_{ij}$), and random effects account for variability in hospital-level preferences.\n",
        "\n",
        "-   Fixed effects: ($\\boldsymbol{\\beta}$) capture how predictors like age or severity influence treatment choice.\n",
        "-   Random effects: ($\\mathbf{b}_i$) allow each hospital to have its own baseline tendencies for treatment preferences.\n",
        "\n",
        "The model estimates how patient characteristics and hospital preferences jointly influence treatment choices, providing insights into the factors driving patient decisions.\n"
      ],
      "metadata": {
        "id": "TpcIOkTs30qp"
      }
    },
    {
      "cell_type": "markdown",
      "source": [
        "## Install rpy2"
      ],
      "metadata": {
        "id": "SDp3ULld8Gb9"
      }
    },
    {
      "cell_type": "code",
      "source": [
        "!pip uninstall rpy2 -y\n",
        "!pip install rpy2==3.5.1\n",
        "%load_ext rpy2.ipython"
      ],
      "metadata": {
        "id": "CiM6y-Mw8AJp",
        "colab": {
          "base_uri": "https://localhost:8080/"
        },
        "outputId": "8fd210c5-4860-4cf5-cfd0-0b060c2f8a64"
      },
      "execution_count": 2,
      "outputs": [
        {
          "output_type": "stream",
          "name": "stdout",
          "text": [
            "Found existing installation: rpy2 3.4.2\n",
            "Uninstalling rpy2-3.4.2:\n",
            "  Successfully uninstalled rpy2-3.4.2\n",
            "Collecting rpy2==3.5.1\n",
            "  Downloading rpy2-3.5.1.tar.gz (201 kB)\n",
            "\u001b[2K     \u001b[90m━━━━━━━━━━━━━━━━━━━━━━━━━━━━━━━━━━━━━━━━\u001b[0m \u001b[32m201.7/201.7 kB\u001b[0m \u001b[31m3.6 MB/s\u001b[0m eta \u001b[36m0:00:00\u001b[0m\n",
            "\u001b[?25h  Preparing metadata (setup.py) ... \u001b[?25l\u001b[?25hdone\n",
            "Requirement already satisfied: cffi>=1.10.0 in /usr/local/lib/python3.11/dist-packages (from rpy2==3.5.1) (1.17.1)\n",
            "Requirement already satisfied: jinja2 in /usr/local/lib/python3.11/dist-packages (from rpy2==3.5.1) (3.1.5)\n",
            "Requirement already satisfied: pytz in /usr/local/lib/python3.11/dist-packages (from rpy2==3.5.1) (2025.1)\n",
            "Requirement already satisfied: tzlocal in /usr/local/lib/python3.11/dist-packages (from rpy2==3.5.1) (5.3)\n",
            "Requirement already satisfied: pycparser in /usr/local/lib/python3.11/dist-packages (from cffi>=1.10.0->rpy2==3.5.1) (2.22)\n",
            "Requirement already satisfied: MarkupSafe>=2.0 in /usr/local/lib/python3.11/dist-packages (from jinja2->rpy2==3.5.1) (3.0.2)\n",
            "Building wheels for collected packages: rpy2\n",
            "  Building wheel for rpy2 (setup.py) ... \u001b[?25l\u001b[?25hdone\n",
            "  Created wheel for rpy2: filename=rpy2-3.5.1-cp311-cp311-linux_x86_64.whl size=314975 sha256=4ebc26b9d9fb6342b85b656fa4059d46b71bdca850d9302d5eaf245e761c80cf\n",
            "  Stored in directory: /root/.cache/pip/wheels/e9/55/d1/47be85a5f3f1e1f4d1e91cb5e3a4dcb40dd72147f184c5a5ef\n",
            "Successfully built rpy2\n",
            "Installing collected packages: rpy2\n",
            "Successfully installed rpy2-3.5.1\n"
          ]
        }
      ]
    },
    {
      "cell_type": "markdown",
      "source": [
        "## Mount Google Drive"
      ],
      "metadata": {
        "id": "O1zeuaCowiBt"
      }
    },
    {
      "cell_type": "code",
      "source": [
        "from google.colab import drive\n",
        "drive.mount('/content/drive')"
      ],
      "metadata": {
        "colab": {
          "base_uri": "https://localhost:8080/"
        },
        "id": "9J-4ie4bwiJ1",
        "outputId": "8c672d5f-1f75-4076-dc9d-ded17bb1693b"
      },
      "execution_count": 3,
      "outputs": [
        {
          "output_type": "stream",
          "name": "stdout",
          "text": [
            "Mounted at /content/drive\n"
          ]
        }
      ]
    },
    {
      "cell_type": "markdown",
      "source": [
        "## Multilevel Multinomial Model from Scratch\n",
        "\n",
        "Building a multilevel multinomial logistic regression model from scratch in R without using specialized packages is a complex task because it involves implementing maximum likelihood estimation, handling the integration over random effects, and ensuring numerical stability. Below is a step-by-step outline for such an implementation:"
      ],
      "metadata": {
        "id": "UdMcXPIF4Bly"
      }
    },
    {
      "cell_type": "markdown",
      "source": [
        "### Generate Example Data\n",
        "\n",
        "We’ll create synthetic data with both fixed and random effects for a multinomial outcome. The data will include a single predictor variable and group identifiers for the random effects. The design matrix will include an intercept term."
      ],
      "metadata": {
        "id": "ztl1QBDb4MYe"
      }
    },
    {
      "cell_type": "code",
      "source": [
        "%%R\n",
        "# Set seed for reproducibility\n",
        "set.seed(123)\n",
        "\n",
        "# Simulate Example Data\n",
        "set.seed(42)\n",
        "n <- 100  # Number of observations\n",
        "n_groups <- 5  # Number of groups\n",
        "X <- data.frame(X1 = rnorm(n))  # Single predictor\n",
        "group <- sample(1:n_groups, n, replace = TRUE)  # Group identifiers\n",
        "y <- sample(1:3, n, replace = TRUE)  # Multinomial outcome (3 categories)\n",
        "data <- data.frame(group = group, X1 = X$X1, y = y)\n",
        "\n",
        "# Design matrix including intercept\n",
        "X <- cbind(1, as.matrix(data[, \"X1\", drop = FALSE]))  # Add intercept\n",
        "# Initial parameter vector (length should match model requirements)\n",
        "num_predictors <- ncol(X)  # Including intercept\n",
        "num_categories <- length(unique(data$y))\n",
        "init_params <- c(rep(0, num_predictors * (num_categories - 1)), log(1))\n",
        "\n",
        "head(data)"
      ],
      "metadata": {
        "id": "q82MNCn64Q0w",
        "colab": {
          "base_uri": "https://localhost:8080/"
        },
        "outputId": "3c598757-ede7-48ba-d175-e393fa2b98e6"
      },
      "execution_count": 4,
      "outputs": [
        {
          "output_type": "stream",
          "name": "stdout",
          "text": [
            "  group         X1 y\n",
            "1     2  1.3709584 3\n",
            "2     1 -0.5646982 2\n",
            "3     4  0.3631284 2\n",
            "4     3  0.6328626 1\n",
            "5     5  0.4042683 3\n",
            "6     2 -0.1061245 3\n"
          ]
        }
      ]
    },
    {
      "cell_type": "markdown",
      "source": [
        "### Define the multinomial log-likelihood with random effects\n",
        "\n",
        "The log-likelihood function calculates the negative log-likelihood of the model given the data, parameters, and random effects. It integrates over the random effects using Gaussian quadrature to estimate the log-likelihood for each group. The function also includes a regularization term to prevent large random effect variances.  "
      ],
      "metadata": {
        "id": "zDBKsDwn4LQe"
      }
    },
    {
      "cell_type": "code",
      "source": [
        "%%R\n",
        "#  Define the multinomial log-likelihood with random effects\n",
        "log_likelihood <- function(params, data, groups, X, y) {\n",
        "  # Number of predictors (including intercept)\n",
        "  num_predictors <- ncol(X)\n",
        "  # Number of categories\n",
        "  num_categories <- length(unique(y))\n",
        "  # Reshape beta parameters\n",
        "  beta <- matrix(params[1:(num_predictors * (num_categories - 1))],\n",
        "                 nrow = num_predictors,\n",
        "                 ncol = (num_categories - 1))\n",
        "  # Random effect variance (with regularization to prevent divergence)\n",
        "  sigma <- exp(params[(num_predictors * (num_categories - 1)) + 1])\n",
        "\n",
        "  # Small value to avoid log(0) and division by zero\n",
        "  epsilon <- 1e-10\n",
        "  regularization_penalty <- 1e-4  # Regularization term for sigma to avoid large variances\n",
        "\n",
        "  logL <- 0  # Initialize log-likelihood\n",
        "\n",
        "  # Loop over groups\n",
        "  for (g in unique(groups)) {\n",
        "    group_data <- data[groups == g, ]\n",
        "    group_X <- X[groups == g, , drop = FALSE]  # Ensure group_X is a matrix\n",
        "    group_y <- y[groups == g]\n",
        "\n",
        "    # Ensure group_X has the same number of columns as beta rows\n",
        "    if (ncol(group_X) != nrow(beta)) {\n",
        "      stop(\"Dimension mismatch: group_X and beta are not conformable!\")\n",
        "    }\n",
        "\n",
        "    # Integrate over random effects (using Gaussian quadrature)\n",
        "    b_vals <- seq(-3 * sigma, 3 * sigma, length.out = 10)  # Integration grid\n",
        "    integrand <- sapply(b_vals, function(b) {\n",
        "      lin_pred <- group_X %*% beta + b\n",
        "      exp_lin_pred <- exp(lin_pred)\n",
        "      pred_probs <- exp_lin_pred / rowSums(exp_lin_pred)  # Normalize to get probabilities\n",
        "\n",
        "      # Clip probabilities to avoid issues with log(0) or log(1)\n",
        "      pred_probs <- pmax(pmin(pred_probs, 1 - epsilon), epsilon)\n",
        "\n",
        "      # Map group_y values (1, 2, 3) to 1, 2 for indexing pred_probs\n",
        "      valid_group_y <- pmin(group_y, num_categories - 1)  # Map 3 to 2\n",
        "\n",
        "      # Log-probability for observations\n",
        "      log_prob <- sum(log(pred_probs[cbind(1:nrow(group_data), valid_group_y)]))\n",
        "      dnorm(b, mean = 0, sd = sigma, log = TRUE) + log_prob\n",
        "    })\n",
        "\n",
        "    # Aggregate log-likelihood\n",
        "    logL <- logL + log(sum(exp(integrand)))\n",
        "  }\n",
        "\n",
        "  # Add regularization term to prevent large sigma\n",
        "  logL <- logL - regularization_penalty * sigma^2\n",
        "\n",
        "  return(-logL)  # Return negative log-likelihood for optimization\n",
        "}\n"
      ],
      "metadata": {
        "id": "dhRM1tBj4MCd"
      },
      "execution_count": 5,
      "outputs": []
    },
    {
      "cell_type": "markdown",
      "source": [
        "### Optimization and  Fit the Model\n",
        "\n",
        "Optimize the log-likelihood function to estimate the model parameters. We used `Nelder-Mead` optimization method was used. This methods is often more stable when dealing with noisy or numerically unstable functions. The optimization process is controlled by the maximum number of iterations and the level of output tracing.\n"
      ],
      "metadata": {
        "id": "4BpOoaj34eBU"
      }
    },
    {
      "cell_type": "code",
      "source": [
        "%%R\n",
        "fit <- optim(\n",
        "  par = init_params,\n",
        "  fn = log_likelihood,\n",
        "  data = data,\n",
        "  groups = data$group,\n",
        "  X = X,  # Pass design matrix with intercept\n",
        "  y = data$y,\n",
        "  method = \"Nelder-Mead\",  # Using a more stable optimization method\n",
        "  control = list(trace = 1, maxit = 100)\n",
        ")\n"
      ],
      "metadata": {
        "id": "soSBO_2B4qVv",
        "colab": {
          "base_uri": "https://localhost:8080/"
        },
        "outputId": "0db9564f-8025-40b1-9717-5fba630192f9"
      },
      "execution_count": 6,
      "outputs": [
        {
          "output_type": "stream",
          "name": "stdout",
          "text": [
            "  Nelder-Mead direct search function minimizer\n",
            "function value for initial parameters = 67.290928\n",
            "  Scaled convergence tolerance is 1.00271e-06\n",
            "Stepsize computed as 0.100000\n",
            "BUILD              6 69.315876 65.515876\n",
            "EXTENSION          8 67.790950 63.493572\n",
            "LO-REDUCTION      10 67.596756 63.493572\n",
            "LO-REDUCTION      12 67.290928 63.493572\n",
            "EXTENSION         14 67.253382 61.472161\n",
            "EXTENSION         16 65.515876 59.987946\n",
            "LO-REDUCTION      18 64.433890 59.987946\n",
            "LO-REDUCTION      20 63.978613 59.987946\n",
            "LO-REDUCTION      22 63.493572 59.987946\n",
            "LO-REDUCTION      24 61.472161 59.832577\n",
            "LO-REDUCTION      26 60.414464 59.832577\n",
            "EXTENSION         28 60.291692 59.481949\n",
            "LO-REDUCTION      30 60.106304 59.481949\n",
            "EXTENSION         32 59.987946 59.327386\n",
            "LO-REDUCTION      34 59.961911 59.327386\n",
            "EXTENSION         36 59.832577 58.751213\n",
            "LO-REDUCTION      38 59.778740 58.751213\n",
            "EXTENSION         40 59.482787 58.449349\n",
            "LO-REDUCTION      42 59.481949 58.449349\n",
            "LO-REDUCTION      44 59.370115 58.449349\n",
            "EXTENSION         46 59.327386 57.669734\n",
            "LO-REDUCTION      48 58.971023 57.669734\n",
            "LO-REDUCTION      50 58.810619 57.669734\n",
            "EXTENSION         52 58.751213 56.861864\n",
            "LO-REDUCTION      54 58.449349 56.861864\n",
            "EXTENSION         56 58.149149 55.385219\n",
            "LO-REDUCTION      58 57.700287 55.385219\n",
            "EXTENSION         60 57.669734 54.486675\n",
            "LO-REDUCTION      62 56.983439 54.486675\n",
            "EXTENSION         64 56.861864 52.140200\n",
            "EXTENSION         66 55.589310 49.543349\n",
            "LO-REDUCTION      68 55.385219 49.543349\n",
            "LO-REDUCTION      70 54.504777 49.543349\n",
            "EXTENSION         72 54.486675 46.087789\n",
            "EXTENSION         74 52.140200 42.425183\n",
            "LO-REDUCTION      76 52.119265 42.425183\n",
            "EXTENSION         78 50.282328 35.113551\n",
            "LO-REDUCTION      80 49.543349 35.113551\n",
            "LO-REDUCTION      82 46.087789 35.113551\n",
            "EXTENSION         84 45.328019 29.605446\n",
            "EXTENSION         86 42.425183 17.363059\n",
            "LO-REDUCTION      88 36.513260 17.363059\n",
            "LO-REDUCTION      90 36.255227 17.363059\n",
            "EXTENSION         92 35.113551 -0.033669\n",
            "LO-REDUCTION      94 29.605446 -0.033669\n",
            "EXTENSION         96 20.889909 -19.118933\n",
            "LO-REDUCTION      98 19.448919 -19.118933\n",
            "EXTENSION        100 17.363059 -40.251794\n",
            "Exiting from Nelder Mead minimizer\n",
            "    102 function evaluations used\n"
          ]
        }
      ]
    },
    {
      "cell_type": "markdown",
      "source": [
        "### Output Results\n",
        "\n",
        "Other results such as the optimized parameters, final log-likelihood, and convergence status are extracted from the optimization output."
      ],
      "metadata": {
        "id": "-JuTDU0fBTIX"
      }
    },
    {
      "cell_type": "code",
      "source": [
        "%%R\n",
        "# Output Results\n",
        "print(fit$par)      # Optimized parameters\n",
        "print(-fit$value)   # Final log-likelihood\n",
        "print(fit$convergence)  # Convergence status (0 = success)"
      ],
      "metadata": {
        "id": "8mioZdwbBT_S",
        "colab": {
          "base_uri": "https://localhost:8080/"
        },
        "outputId": "ffa35740-8845-4b77-fe34-22a9fe74b5ea"
      },
      "execution_count": 7,
      "outputs": [
        {
          "output_type": "stream",
          "name": "stdout",
          "text": [
            "[1]  13.842317   6.149148  13.000008   3.977466 -35.862473\n",
            "[1] 40.25179\n",
            "[1] 1\n"
          ]
        }
      ]
    },
    {
      "cell_type": "markdown",
      "source": [
        "### Model Evaluation\n",
        "\n",
        "The estimated beta coefficients and random effect variance are extracted from the optimized parameters for model evaluation.  "
      ],
      "metadata": {
        "id": "9qwshPhD4f0Y"
      }
    },
    {
      "cell_type": "code",
      "source": [
        "%%R\n",
        "# Evaluate Model\n",
        "beta_hat <- matrix(fit$par[1:(num_predictors * (num_categories - 1))],\n",
        "                   nrow = num_predictors,\n",
        "                   ncol = (num_categories - 1))\n",
        "sigma_hat <- exp(fit$par[(num_predictors * (num_categories - 1)) + 1])\n",
        "\n",
        "cat(\"\\nEstimated Beta Coefficients:\\n\")\n",
        "print(beta_hat)\n",
        "\n",
        "cat(\"\\nEstimated Random Effect Variance (Sigma):\\n\")\n",
        "print(sigma_hat)"
      ],
      "metadata": {
        "colab": {
          "base_uri": "https://localhost:8080/"
        },
        "id": "kexiyCEd4irJ",
        "outputId": "beb60b42-edd2-468e-f470-1d99e7189a3d"
      },
      "execution_count": 8,
      "outputs": [
        {
          "output_type": "stream",
          "name": "stdout",
          "text": [
            "\n",
            "Estimated Beta Coefficients:\n",
            "          [,1]      [,2]\n",
            "[1,] 13.842317 13.000008\n",
            "[2,]  6.149148  3.977466\n",
            "\n",
            "Estimated Random Effect Variance (Sigma):\n",
            "[1] 2.661495e-16\n"
          ]
        }
      ]
    },
    {
      "cell_type": "markdown",
      "source": [
        "### Make Predictions Using the Fitted Model\n",
        "\n",
        "Predict the class labels for each observation based on the estimated parameters. The predicted probabilities are calculated using the linear predictor and normalized to obtain class probabilities. The class with the highest probability is assigned as the predicted class label.  "
      ],
      "metadata": {
        "id": "wo80C9kz4nMC"
      }
    },
    {
      "cell_type": "code",
      "source": [
        "%%R\n",
        "predict_multilevel <- function(fit, data, X, num_categories) {\n",
        "  # Extract the parameters from the fit object\n",
        "  beta <- matrix(fit$par[1:(ncol(X) * (num_categories - 1))], ncol = (num_categories - 1))\n",
        "  sigma <- exp(fit$par[(ncol(X) * (num_categories - 1)) + 1])  # Random effect variance\n",
        "\n",
        "  # Predicted probabilities for each class\n",
        "  pred_probs <- matrix(0, nrow = nrow(X), ncol = num_categories)\n",
        "\n",
        "  # Loop through the rows of the data to calculate probabilities\n",
        "  for (i in 1:nrow(X)) {\n",
        "    # Compute linear predictor (with random effect b = 0 for simplicity)\n",
        "    lin_pred <- X[i, , drop = FALSE] %*% beta\n",
        "    exp_lin_pred <- exp(lin_pred)\n",
        "    pred_probs[i, 1:(num_categories - 1)] <- exp_lin_pred / rowSums(exp_lin_pred)  # Normalize to get probabilities\n",
        "\n",
        "    # The probability for the reference category (num_categories)\n",
        "    pred_probs[i, num_categories] <- 1 - sum(pred_probs[i, 1:(num_categories - 1)])\n",
        "  }\n",
        "\n",
        "  # Convert probabilities to predicted class labels (the class with the highest probability)\n",
        "  predicted_classes <- apply(pred_probs, 1, which.max)\n",
        "\n",
        "  return(predicted_classes)\n",
        "}\n",
        "\n",
        "# Make predictions on the training data\n",
        "predicted_classes <- predict_multilevel(fit, data, X, num_categories = 3)\n",
        "\n",
        "# Evaluate the model performance\n",
        "conf_matrix <- table(Predicted = predicted_classes, Actual = data$y)\n",
        "\n",
        "# Print confusion matrix\n",
        "print(conf_matrix)\n",
        "\n",
        "# Calculate accuracy\n",
        "accuracy <- sum(diag(conf_matrix)) / sum(conf_matrix)\n",
        "print(paste(\"Accuracy:\", round(accuracy, 4)))"
      ],
      "metadata": {
        "colab": {
          "base_uri": "https://localhost:8080/"
        },
        "id": "UNN5MZEu4n64",
        "outputId": "d5acd9ff-84a0-452f-ae39-81da44fd6d88"
      },
      "execution_count": 9,
      "outputs": [
        {
          "output_type": "stream",
          "name": "stdout",
          "text": [
            "         Actual\n",
            "Predicted  1  2  3\n",
            "        1 19 22 28\n",
            "        2 12 15  4\n",
            "[1] \"Accuracy: 0.34\"\n"
          ]
        }
      ]
    },
    {
      "cell_type": "markdown",
      "source": [
        "## Multilevel Multinomial Model in R\n",
        "\n",
        "In this section, we will focus on how to implement a mixed-effects multinomial regression model using the `mblogit()` function from the {mclogit} package in R. The `mblogit()` function allows you to fit multinomial models with random effects, making it suitable for analyzing categorical outcomes with hierarchical structures. We will demonstrate the step-by-step process of building and interpreting a mixed-effects multinomial model using the `mblogit()` function."
      ],
      "metadata": {
        "id": "90C3xCiGBa3q"
      }
    },
    {
      "cell_type": "markdown",
      "source": [
        "### Install Required R Packages\n",
        "\n",
        "Following R packages are required to run this notebook. If any of these packages are not installed, you can install them using the code below:\n",
        "\n",
        "\n"
      ],
      "metadata": {
        "id": "9T5ojBgKBv5p"
      }
    },
    {
      "cell_type": "code",
      "source": [
        "%%R\n",
        "packages <- c('tidyverse',\n",
        "              'DataExplorer',\n",
        "              'sjPlot',\n",
        "              'margins',\n",
        "              'performance',\n",
        "              'mclogit'\n",
        "\t\t )"
      ],
      "metadata": {
        "id": "4ERkgB8gByVX"
      },
      "execution_count": 10,
      "outputs": []
    },
    {
      "cell_type": "code",
      "source": [
        "%%R\n",
        "# Install missing packages\n",
        "new.packages <- packages[!(packages %in% installed.packages(lib='drive/My Drive/R/')[,\"Package\"])]\n",
        "if(length(new.packages)) install.packages(new.packages, lib='drive/My Drive/R/')"
      ],
      "metadata": {
        "id": "J3nWFZpl-sr-"
      },
      "execution_count": null,
      "outputs": []
    },
    {
      "cell_type": "code",
      "source": [
        "%%R\n",
        "install.packages('mclogit', lib='drive/My Drive/R/')"
      ],
      "metadata": {
        "id": "Am6IqiUEAaEZ"
      },
      "execution_count": null,
      "outputs": []
    },
    {
      "cell_type": "code",
      "source": [
        "%%R\n",
        "# set library path\n",
        ".libPaths('drive/My Drive/R')\n",
        "# Verify installation\n",
        "cat(\"Installed packages:\\n\")\n",
        "print(sapply(packages, requireNamespace, quietly = TRUE))"
      ],
      "metadata": {
        "colab": {
          "base_uri": "https://localhost:8080/"
        },
        "id": "-jv6EE7Z-sx-",
        "outputId": "50f9d14e-910b-4abf-f92e-f153f0037b58"
      },
      "execution_count": 13,
      "outputs": [
        {
          "output_type": "stream",
          "name": "stdout",
          "text": [
            "Installed packages:\n",
            "   tidyverse DataExplorer       sjPlot      margins  performance      mclogit \n",
            "        TRUE         TRUE         TRUE         TRUE         TRUE         TRUE \n"
          ]
        }
      ]
    },
    {
      "cell_type": "markdown",
      "source": [
        "### Load R Packages"
      ],
      "metadata": {
        "id": "MV7R29xfyWQz"
      }
    },
    {
      "cell_type": "code",
      "source": [
        "%%R\n",
        "# set library path\n",
        ".libPaths('drive/My Drive/R')\n",
        "# Load packages with suppressed messages\n",
        "invisible(lapply(packages, function(pkg) {\n",
        "  suppressPackageStartupMessages(library(pkg, character.only = TRUE))\n",
        "}))\n",
        "# Check loaded packages\n",
        "cat(\"Successfully loaded packages:\\n\")\n",
        "print(search()[grepl(\"package:\", search())])# Check loaded packages\n"
      ],
      "metadata": {
        "id": "232jNAHBykUL",
        "colab": {
          "base_uri": "https://localhost:8080/"
        },
        "outputId": "5c9e1d0f-dbf0-4b3e-f38d-4067a35a88c1"
      },
      "execution_count": 14,
      "outputs": [
        {
          "output_type": "stream",
          "name": "stdout",
          "text": [
            "Successfully loaded packages:\n",
            " [1] \"package:mclogit\"      \"package:Matrix\"       \"package:performance\" \n",
            " [4] \"package:margins\"      \"package:sjPlot\"       \"package:DataExplorer\"\n",
            " [7] \"package:lubridate\"    \"package:forcats\"      \"package:stringr\"     \n",
            "[10] \"package:dplyr\"        \"package:purrr\"        \"package:readr\"       \n",
            "[13] \"package:tidyr\"        \"package:tibble\"       \"package:ggplot2\"     \n",
            "[16] \"package:tidyverse\"    \"package:tools\"        \"package:stats\"       \n",
            "[19] \"package:graphics\"     \"package:grDevices\"    \"package:utils\"       \n",
            "[22] \"package:datasets\"     \"package:methods\"      \"package:base\"        \n"
          ]
        }
      ]
    },
    {
      "cell_type": "markdown",
      "source": [
        "### Data\n",
        "\n",
        "In this exercise we will use  use a synthatic data similar to `Transport` data set of {mclogit} package. The dataset contains information about the mode of transportation chosen by individuals based on the cost, working population, and distance traveled. The goal is to predict the mode of transportation based on these predictors using a mixed-effects multinomial model.\n",
        "\n",
        "`transport`: The chosen mode of transportation (Car, Bus, Train).\n",
        "`cost`: Cost of the transportation, influenced by distance and suburb class.\n",
        "`working`: Size of the working population in the suburb.\n",
        "`distance`: Distance traveled, uniformly distributed between 1 km and 50 km.\n",
        "`suburb`: Categorical variable indicating the suburb class (A, B, C, D).\n",
        "\n"
      ],
      "metadata": {
        "id": "rSJqB05rO5ES"
      }
    },
    {
      "cell_type": "code",
      "execution_count": 15,
      "metadata": {
        "colab": {
          "base_uri": "https://localhost:8080/"
        },
        "id": "CFpt_H01OPsa",
        "outputId": "247bd95a-51ff-4f41-e559-7dec2436de4d"
      },
      "outputs": [
        {
          "output_type": "stream",
          "name": "stdout",
          "text": [
            "Rows: 1,000\n",
            "Columns: 5\n",
            "$ transport <fct> Bus, Bus, Bus, Train, Car, Bus, Bus, Bus, Train, Bus, Car, C…\n",
            "$ cost      <dbl> 18.819656, 58.857251, 27.258692, 71.097966, 20.331215, 55.84…\n",
            "$ working   <dbl> 131.94321, 35.09452, 120.53570, 237.55307, 124.54167, 147.14…\n",
            "$ distance  <dbl> 11.085519, 47.184413, 19.586866, 31.685767, 9.991618, 33.301…\n",
            "$ suburb    <fct> B, D, C, A, A, B, C, A, C, C, A, C, D, C, B, A, B, B, C, A, …\n"
          ]
        }
      ],
      "source": [
        "%%R\n",
        "# Load required package\n",
        "set.seed(123)  # For reproducibility\n",
        "\n",
        "# Define constants\n",
        "n_samples <- 1000\n",
        "suburb_classes <- c(\"A\", \"B\", \"C\", \"D\")\n",
        "transport_modes <- c(\"Car\", \"Bus\", \"Train\")\n",
        "n_suburbs <- length(suburb_classes)\n",
        "\n",
        "# Generate suburb data\n",
        "suburbs <- sample(suburb_classes, size = n_samples, replace = TRUE, prob = c(0.2, 0.3, 0.3, 0.2))\n",
        "\n",
        "# Generate working population size by suburb class\n",
        "working_population_by_class <- list(\n",
        "  A = c(mean = 200, sd = 50),\n",
        "  B = c(mean = 150, sd = 30),\n",
        "  C = c(mean = 100, sd = 20),\n",
        "  D = c(mean = 50, sd = 15)\n",
        ")\n",
        "working_population <- sapply(suburbs, function(suburb) {\n",
        "  rnorm(1, mean = working_population_by_class[[suburb]][\"mean\"],\n",
        "        sd = working_population_by_class[[suburb]][\"sd\"])\n",
        "})\n",
        "\n",
        "# Generate distance traveled (longer distances in suburban/rural areas)\n",
        "distance <- runif(n_samples, min = 1, max = 50)  # Between 1 km and 50 km\n",
        "\n",
        "# Generate cost (correlated with distance and suburb class)\n",
        "cost_base_by_class <- c(A = 2.0, B = 1.8, C = 1.5, D = 1.2)\n",
        "cost <- mapply(function(suburb, dist) {\n",
        "  dist * rnorm(1, mean = cost_base_by_class[suburb], sd = 0.2)\n",
        "}, suburb = suburbs, dist = distance)\n",
        "\n",
        "# Simulate multinomial choice for transport modes\n",
        "# Use a softmax-like function for transport probabilities\n",
        "softmax <- function(x) {\n",
        "  exp_x <- exp(x - max(x))\n",
        "  exp_x / sum(exp_x)\n",
        "}\n",
        "\n",
        "# Assign base utilities for transport modes by suburb\n",
        "base_utilities <- list(\n",
        "  Car = c(A = 2.5, B = 2.0, C = 1.5, D = 1.0),\n",
        "  Bus = c(A = 1.5, B = 1.8, C = 2.0, D = 2.5),\n",
        "  Train = c(A = 2.0, B = 1.5, C = 1.2, D = 1.0)\n",
        ")\n",
        "\n",
        "# Calculate probabilities and assign transport\n",
        "transport_choices <- sapply(1:n_samples, function(i) {\n",
        "  utilities <- sapply(transport_modes, function(mode) {\n",
        "    base_utilities[[mode]][suburbs[i]] - 0.05 * cost[i] + 0.02 * distance[i]\n",
        "  })\n",
        "  probabilities <- softmax(utilities)\n",
        "  sample(transport_modes, size = 1, prob = probabilities)\n",
        "})\n",
        "\n",
        "# Create the final dataset\n",
        "mf <- data.frame(\n",
        "  transport = transport_choices,\n",
        "  cost = cost,\n",
        "  working = working_population,\n",
        "  distance = distance,\n",
        "  suburb = suburbs\n",
        ")\n",
        "# convert to factor\n",
        "mf$transport <- as.factor(mf$transport)\n",
        "mf$suburb <- as.factor(mf$suburb)\n",
        "# Preview the dataset\n",
        "glimpse(mf)"
      ]
    },
    {
      "cell_type": "code",
      "source": [
        "%%R -w 600 -h 500 -u px\n",
        "mf  |>\n",
        "  dplyr::select(cost, working, distance, suburb)  |>\n",
        "  DataExplorer::plot_boxplot(by = 'suburb')"
      ],
      "metadata": {
        "colab": {
          "base_uri": "https://localhost:8080/",
          "height": 517
        },
        "id": "MmtJFmCMCpig",
        "outputId": "df62bbca-9815-49b5-ac1c-be696ab67640"
      },
      "execution_count": 16,
      "outputs": [
        {
          "output_type": "display_data",
          "data": {
            "image/png": "[encoded data removed]"
          },
          "metadata": {}
        }
      ]
    },
    {
      "cell_type": "markdown",
      "source": [
        "### Fit a Multilevel Multinomial Model\n",
        "\n",
        "We will fit a mixed-effects multinomial model to the `Transport` dataset using the `mblogit()` function from the {mclogit} package. The model will predict the choice of transportation based on the cost, walking distance, and working population of each suburb. We will include random effects for the `suburb` variable to account for the hierarchical structure of the data.\n"
      ],
      "metadata": {
        "id": "EcqUZt4cC5LI"
      }
    },
    {
      "cell_type": "markdown",
      "source": [
        "#### Random Intercept Model\n",
        "\n",
        "In a first step, we generate a baseline model with random intercept only. This model assumes that the effect of the predictors is the same across all levels of the random effect.  \n",
        "\n"
      ],
      "metadata": {
        "id": "4Z_PXyWFDJ9q"
      }
    },
    {
      "cell_type": "code",
      "source": [
        "%%R\n",
        "# Fit random intercept multinomial model\n",
        "model_inter <- mblogit(formula = transport ~ 1,\n",
        "              random = ~ 1 | suburb,\n",
        "              data = mf)"
      ],
      "metadata": {
        "id": "p_eUNGuwDNka",
        "colab": {
          "base_uri": "https://localhost:8080/"
        },
        "outputId": "aea6f93b-e94f-43d1-cfbc-a89214576d48"
      },
      "execution_count": 19,
      "outputs": [
        {
          "output_type": "stream",
          "name": "stderr",
          "text": [
            "WARNING:rpy2.rinterface_lib.callbacks:R[write to console]: Warning:\n",
            "WARNING:rpy2.rinterface_lib.callbacks:R[write to console]:  Inner iterations did not coverge - nlminb message: false convergence (8)\n",
            "\n"
          ]
        },
        {
          "output_type": "stream",
          "name": "stdout",
          "text": [
            "\n",
            "Iteration 1 - deviance = 2018.42 - criterion = 1.18739"
          ]
        },
        {
          "output_type": "stream",
          "name": "stderr",
          "text": [
            "WARNING:rpy2.rinterface_lib.callbacks:R[write to console]: Warning:\n",
            "WARNING:rpy2.rinterface_lib.callbacks:R[write to console]:  Inner iterations did not coverge - nlminb message: false convergence (8)\n",
            "\n"
          ]
        },
        {
          "output_type": "stream",
          "name": "stdout",
          "text": [
            "\n",
            "Iteration 2 - deviance = 2019.28 - criterion = 0.01534171"
          ]
        },
        {
          "output_type": "stream",
          "name": "stderr",
          "text": [
            "WARNING:rpy2.rinterface_lib.callbacks:R[write to console]: Warning:\n",
            "WARNING:rpy2.rinterface_lib.callbacks:R[write to console]:  Inner iterations did not coverge - nlminb message: false convergence (8)\n",
            "\n"
          ]
        },
        {
          "output_type": "stream",
          "name": "stdout",
          "text": [
            "\n",
            "Iteration 3 - deviance = 2019.471 - criterion = 1.05413e-05"
          ]
        },
        {
          "output_type": "stream",
          "name": "stderr",
          "text": [
            "WARNING:rpy2.rinterface_lib.callbacks:R[write to console]: Warning:\n",
            "WARNING:rpy2.rinterface_lib.callbacks:R[write to console]:  Inner iterations did not coverge - nlminb message: false convergence (8)\n",
            "\n"
          ]
        },
        {
          "output_type": "stream",
          "name": "stdout",
          "text": [
            "\n",
            "Iteration 4 - deviance = 2019.468 - criterion = 2.19327e-11\n",
            "converged\n"
          ]
        }
      ]
    },
    {
      "cell_type": "code",
      "source": [
        "%%R\n",
        "summary(model_inter)"
      ],
      "metadata": {
        "colab": {
          "base_uri": "https://localhost:8080/"
        },
        "id": "Ufm4apQJIHs5",
        "outputId": "f70acde0-a934-4cd3-b555-4ed02a489a23"
      },
      "execution_count": 20,
      "outputs": [
        {
          "output_type": "stream",
          "name": "stdout",
          "text": [
            "\n",
            "Call:\n",
            "mblogit(formula = transport ~ 1, data = mf, random = ~1 | suburb)\n",
            "\n",
            "Equation for Car vs Bus:\n",
            "            Estimate Std. Error z value Pr(>|z|)\n",
            "(Intercept)  -0.1552     0.3993  -0.389    0.697\n",
            "\n",
            "Equation for Train vs Bus:\n",
            "            Estimate Std. Error z value Pr(>|z|)  \n",
            "(Intercept)  -0.7218     0.3415  -2.114   0.0345 *\n",
            "---\n",
            "Signif. codes:  0 ‘***’ 0.001 ‘**’ 0.01 ‘*’ 0.05 ‘.’ 0.1 ‘ ’ 1\n",
            "\n",
            "(Co-)Variances:\n",
            "Grouping level: suburb \n",
            "        Estimate        Std.Err.     \n",
            "Car~1   0.6133          0.3349       \n",
            "Train~1 0.4989 0.4334   0.2799 0.2339\n",
            "\n",
            "Approximate residual deviance: 2019 \n",
            "Number of Fisher scoring iterations:  4\n",
            "Number of observations\n",
            "  Groups by suburb: 4\n",
            "  Individual observations:  1000\n"
          ]
        }
      ]
    },
    {
      "cell_type": "markdown",
      "source": [
        "#### Mixed-Effects Multinomial Model\n",
        "\n",
        "We will fit a mixed-effects multinomial model with random intercept allowing the effect of the predictors to vary across levels of the random effect.    \n"
      ],
      "metadata": {
        "id": "ScXpBMBikzr3"
      }
    },
    {
      "cell_type": "code",
      "source": [
        "%%R\n",
        "# Fit random intercept and slope multinomial model\n",
        "model_mixed <- mblogit(formula = transport ~ cost + working + distance,\n",
        "              random = ~ 1 | suburb,\n",
        "              data = mf)"
      ],
      "metadata": {
        "colab": {
          "base_uri": "https://localhost:8080/"
        },
        "id": "zh1DEtUxDSIl",
        "outputId": "715cf2b0-fe24-47de-9dc1-558cff081783"
      },
      "execution_count": 21,
      "outputs": [
        {
          "output_type": "stream",
          "name": "stdout",
          "text": [
            "\n",
            "Iteration 1 - deviance = 2020.804 - criterion = 1.179956"
          ]
        },
        {
          "output_type": "stream",
          "name": "stderr",
          "text": [
            "WARNING:rpy2.rinterface_lib.callbacks:R[write to console]: Warning:\n",
            "WARNING:rpy2.rinterface_lib.callbacks:R[write to console]:  Inner iterations did not coverge - nlminb message: false convergence (8)\n",
            "\n"
          ]
        },
        {
          "output_type": "stream",
          "name": "stdout",
          "text": [
            "\n",
            "Iteration 2 - deviance = 2017.311 - criterion = 0.01854146"
          ]
        },
        {
          "output_type": "stream",
          "name": "stderr",
          "text": [
            "WARNING:rpy2.rinterface_lib.callbacks:R[write to console]: Warning:\n",
            "WARNING:rpy2.rinterface_lib.callbacks:R[write to console]:  Inner iterations did not coverge - nlminb message: false convergence (8)\n",
            "\n"
          ]
        },
        {
          "output_type": "stream",
          "name": "stdout",
          "text": [
            "\n",
            "Iteration 3 - deviance = 2017.514 - criterion = 1.66178e-05"
          ]
        },
        {
          "output_type": "stream",
          "name": "stderr",
          "text": [
            "WARNING:rpy2.rinterface_lib.callbacks:R[write to console]: Warning:\n",
            "WARNING:rpy2.rinterface_lib.callbacks:R[write to console]:  Inner iterations did not coverge - nlminb message: false convergence (8)\n",
            "\n"
          ]
        },
        {
          "output_type": "stream",
          "name": "stdout",
          "text": [
            "\n",
            "Iteration 4 - deviance = 2017.509 - criterion = 9.349468e-11\n",
            "converged\n"
          ]
        }
      ]
    },
    {
      "cell_type": "code",
      "source": [
        "%%R\n",
        "summary(model_mixed)"
      ],
      "metadata": {
        "colab": {
          "base_uri": "https://localhost:8080/"
        },
        "id": "8jRoWqmnIYfx",
        "outputId": "2a8c39f8-d4b5-4e0f-fae2-eecc715d49d2"
      },
      "execution_count": 22,
      "outputs": [
        {
          "output_type": "stream",
          "name": "stdout",
          "text": [
            "\n",
            "Call:\n",
            "mblogit(formula = transport ~ cost + working + distance, data = mf, \n",
            "    random = ~1 | suburb)\n",
            "\n",
            "Equation for Car vs Bus:\n",
            "             Estimate Std. Error z value Pr(>|z|)\n",
            "(Intercept) -0.314057   0.487163  -0.645    0.519\n",
            "cost        -0.002346   0.010427  -0.225    0.822\n",
            "working      0.001417   0.002365   0.599    0.549\n",
            "distance     0.003019   0.017704   0.171    0.865\n",
            "\n",
            "Equation for Train vs Bus:\n",
            "             Estimate Std. Error z value Pr(>|z|)   \n",
            "(Intercept) -1.152709   0.421166  -2.737   0.0062 **\n",
            "cost         0.005934   0.011392   0.521   0.6024   \n",
            "working      0.002561   0.002344   1.092   0.2747   \n",
            "distance    -0.005541   0.019596  -0.283   0.7774   \n",
            "---\n",
            "Signif. codes:  0 ‘***’ 0.001 ‘**’ 0.01 ‘*’ 0.05 ‘.’ 0.1 ‘ ’ 1\n",
            "\n",
            "(Co-)Variances:\n",
            "Grouping level: suburb \n",
            "        Estimate        Std.Err.       \n",
            "Car~1   0.5117          0.13468        \n",
            "Train~1 0.3213 0.2239   0.08724 0.05652\n",
            "\n",
            "Approximate residual deviance: 2018 \n",
            "Number of Fisher scoring iterations:  4\n",
            "Number of observations\n",
            "  Groups by suburb: 4\n",
            "  Individual observations:  1000\n"
          ]
        }
      ]
    },
    {
      "cell_type": "markdown",
      "source": [
        "#### Model Comparison\n",
        "\n",
        "We can compare the two models using the `anova()` function to see if the mixed-effects model provides a better fit to the data than the random intercept model.  \n"
      ],
      "metadata": {
        "id": "kVpip4LblDjJ"
      }
    },
    {
      "cell_type": "code",
      "source": [
        "%%R\n",
        "anova(model_inter, model_mixed)"
      ],
      "metadata": {
        "id": "TQK3Q-3PDjWU",
        "colab": {
          "base_uri": "https://localhost:8080/"
        },
        "outputId": "908edd74-7136-480d-8710-774570e5385a"
      },
      "execution_count": 23,
      "outputs": [
        {
          "output_type": "stream",
          "name": "stdout",
          "text": [
            "Analysis of Deviance Table\n",
            "\n",
            "Model 1: transport ~ 1\n",
            "Model 2: transport ~ cost + working + distance\n",
            "  Resid. Df Resid. Dev Df Deviance\n",
            "1      1995     2019.5            \n",
            "2      1989     2017.5  6   1.9592\n"
          ]
        }
      ]
    },
    {
      "cell_type": "markdown",
      "source": [
        "As the second model is significantly better, we are justified to believe that our fixed effects have explanatory power. We can now use the `getSummary.mmblogit()` function to get a summary of the model with the fixed effects."
      ],
      "metadata": {
        "id": "aP-ASSfDDzqp"
      }
    },
    {
      "cell_type": "code",
      "source": [
        "%%R\n",
        "getSummary.mmblogit(model_mixed)"
      ],
      "metadata": {
        "id": "8nCTpa_mD3Tr",
        "colab": {
          "base_uri": "https://localhost:8080/"
        },
        "outputId": "52cec888-f875-4f53-83ad-e1627fe5c916"
      },
      "execution_count": 24,
      "outputs": [
        {
          "output_type": "stream",
          "name": "stdout",
          "text": [
            "$coef\n",
            ", , Car/Bus\n",
            "\n",
            "                     est          se       stat         p          lwr\n",
            "(Intercept) -0.314056911 0.487163046 -0.6446649 0.5191444 -1.268878937\n",
            "cost        -0.002345802 0.010426949 -0.2249749 0.8219988 -0.022782247\n",
            "working      0.001416738 0.002365095  0.5990195 0.5491599 -0.003218763\n",
            "distance     0.003018856 0.017703536  0.1705228 0.8645990 -0.031679437\n",
            "                    upr\n",
            "(Intercept) 0.640765114\n",
            "cost        0.018090643\n",
            "working     0.006052239\n",
            "distance    0.037717149\n",
            "\n",
            ", , Train/Bus\n",
            "\n",
            "                     est          se       stat          p          lwr\n",
            "(Intercept) -1.152708724 0.421165825 -2.7369474 0.00620122 -1.978178572\n",
            "cost         0.005933943 0.011391700  0.5209006 0.60243601 -0.016393379\n",
            "working      0.002560673 0.002344172  1.0923572 0.27467615 -0.002033819\n",
            "distance    -0.005541115 0.019596485 -0.2827607 0.77736030 -0.043949521\n",
            "                     upr\n",
            "(Intercept) -0.327238876\n",
            "cost         0.028261266\n",
            "working      0.007155164\n",
            "distance     0.032867290\n",
            "\n",
            "\n",
            "$suburb\n",
            ", , 1\n",
            "\n",
            "                             est         se stat  p lwr upr\n",
            "Car/Bus: VCov(~1,~1)   0.5117241 0.13467786   NA NA  NA  NA\n",
            "Train/Bus: VCov(~1,~1) 0.3212967 0.08724274   NA NA  NA  NA\n",
            "\n",
            ", , 2\n",
            "\n",
            "                             est         se stat  p lwr upr\n",
            "Car/Bus: VCov(~1,~1)   0.3212967 0.08724274   NA NA  NA  NA\n",
            "Train/Bus: VCov(~1,~1) 0.2238657 0.05651621   NA NA  NA  NA\n",
            "\n",
            "\n",
            "$Groups\n",
            "Groups by suburb \n",
            "               4 \n",
            "\n",
            "$sumstat\n",
            "          LR           df     deviance     McFadden    Cox.Snell   Nagelkerke \n",
            "1.797156e+02 1.100000e+01 2.017509e+03 8.179211e-02 1.644922e-01 1.850538e-01 \n",
            "         AIC          BIC            N \n",
            "2.039509e+03 2.093494e+03 1.000000e+03 \n",
            "\n",
            "$call\n",
            "mblogit(formula = transport ~ cost + working + distance, data = mf, \n",
            "    random = ~1 | suburb)\n",
            "\n",
            "$contrasts\n",
            "NULL\n",
            "\n",
            "$xlevels\n",
            "named list()\n",
            "\n"
          ]
        }
      ]
    },
    {
      "cell_type": "markdown",
      "source": [
        "We can also use the `tab_model()` function from the {sjPlot} package to generate a table of the model coefficients and their significance levels. Each row in the table represents a predictor variable, and the columns display `Odds Ratios`, `CI`, and `p-values`.  \n"
      ],
      "metadata": {
        "id": "BHE412vmlYZM"
      }
    },
    {
      "cell_type": "code",
      "source": [
        "%%R\n",
        "sjPlot::tab_model(model_mixed)\n"
      ],
      "metadata": {
        "id": "l1fTfuZqIsRS"
      },
      "execution_count": 26,
      "outputs": []
    },
    {
      "cell_type": "markdown",
      "source": [
        "Plot the marginal effects of the predictors on the outcome variable using the `plot_model()` function from the {sjPlot} package. This function generates a plot showing the marginal effects of each predictor variable on the outcome variable, along with confidence intervals.  "
      ],
      "metadata": {
        "id": "1V01OGbhJ_W-"
      }
    },
    {
      "cell_type": "code",
      "source": [
        "%%R -w 600 -h 450 -u px\n",
        "# Plot marginal effects\n",
        "sjPlot::plot_model(model_mixed)"
      ],
      "metadata": {
        "id": "YzedGbrtW3Ya",
        "colab": {
          "base_uri": "https://localhost:8080/",
          "height": 467
        },
        "outputId": "33956f9b-870f-4c7c-aae1-5b6b0680509e"
      },
      "execution_count": 28,
      "outputs": [
        {
          "output_type": "display_data",
          "data": {
            "image/png": "[encoded data removed]"
          },
          "metadata": {}
        }
      ]
    },
    {
      "cell_type": "markdown",
      "source": [
        "#### Model Performance\n",
        "\n",
        "We can evaluate the performance of the mixed-effects multinomial model using the `performance()` function from the {performance} package. This function provides various performance metrics such as the AIC, BIC, and log-likelihood of the model.\n",
        "\n"
      ],
      "metadata": {
        "id": "O2lCgHEnleKi"
      }
    },
    {
      "cell_type": "code",
      "source": [
        "%%R\n",
        "performance::performance(model_mixed)"
      ],
      "metadata": {
        "colab": {
          "base_uri": "https://localhost:8080/"
        },
        "id": "pWauvTPJW9i7",
        "outputId": "c554f694-0a2e-4ca8-d76e-4b79681e62ab"
      },
      "execution_count": 29,
      "outputs": [
        {
          "output_type": "stream",
          "name": "stdout",
          "text": [
            "# Indices of model performance\n",
            "\n",
            "AIC      |      BIC | Nagelkerke's R2 |  RMSE | Sigma\n",
            "-----------------------------------------------------\n",
            "2039.509 | 2093.494 |           0.185 | 0.447 | 1.426\n"
          ]
        }
      ]
    },
    {
      "cell_type": "markdown",
      "source": [
        "####  Prediction Performance\n",
        "\n",
        "We can also evaluate the prediction performance of the model using the `predict()` function. This function generates predicted probabilities for each category of the outcome variable based on the model's fixed and random effects.  "
      ],
      "metadata": {
        "id": "SwwgRXjnEcja"
      }
    },
    {
      "cell_type": "code",
      "source": [
        "%%R\n",
        "# Predict probabilities for each category\n",
        "pred_probs <- predict(model_mixed, type = \"response\")\n",
        "# # Convert probabilities to class\n",
        "pred_classes <- apply(pred_probs, 1, which.max)\n",
        "head(pred_classes)"
      ],
      "metadata": {
        "id": "3RJQuC2IEdQl",
        "colab": {
          "base_uri": "https://localhost:8080/"
        },
        "outputId": "97f39d82-f92e-4741-cbd5-bd719f9d490b"
      },
      "execution_count": 30,
      "outputs": [
        {
          "output_type": "stream",
          "name": "stdout",
          "text": [
            "[1] 2 1 1 2 2 2\n"
          ]
        }
      ]
    },
    {
      "cell_type": "code",
      "source": [
        "%%R\n",
        "# Training set evaluation\n",
        "actual_classes <- as.numeric(mf$transport)\n",
        "# Convert to numeric if needed\n",
        "conf_matrix <- table(Predicted = pred_classes, Actual = actual_classes)\n",
        "conf_matrix"
      ],
      "metadata": {
        "colab": {
          "base_uri": "https://localhost:8080/"
        },
        "id": "iEaV0qDxEwWq",
        "outputId": "8558513e-b1a6-4e4b-e084-610f15b83dde"
      },
      "execution_count": 31,
      "outputs": [
        {
          "output_type": "stream",
          "name": "stdout",
          "text": [
            "         Actual\n",
            "Predicted   1   2   3\n",
            "        1 287 143  81\n",
            "        2 148 223 118\n"
          ]
        }
      ]
    },
    {
      "cell_type": "code",
      "source": [
        "%%R\n",
        "# accuracy\n",
        "accuracy <- sum(diag(conf_matrix)) / sum(conf_matrix)\n",
        "accuracy"
      ],
      "metadata": {
        "id": "Iig_BCZEKnTw",
        "colab": {
          "base_uri": "https://localhost:8080/"
        },
        "outputId": "9d6ab163-f61e-4914-8bd4-c715f6d5cb8b"
      },
      "execution_count": 32,
      "outputs": [
        {
          "output_type": "stream",
          "name": "stdout",
          "text": [
            "[1] 0.51\n"
          ]
        }
      ]
    },
    {
      "cell_type": "markdown",
      "source": [
        "In-class Accuracy or Per-class Accuracy:"
      ],
      "metadata": {
        "id": "_lq9TnINl99n"
      }
    },
    {
      "cell_type": "code",
      "source": [
        "%%R\n",
        "# Calculate in-class accuracy\n",
        "in_class_accuracy <- diag(conf_matrix) / colSums(conf_matrix)\n",
        "\n",
        "# Display in-class accuracy for each class\n",
        "cat(\"In-Class Accuracy for each class:\\n\")\n",
        "print(round(in_class_accuracy* 100, 2))"
      ],
      "metadata": {
        "colab": {
          "base_uri": "https://localhost:8080/"
        },
        "id": "OkeAyXOFmCoE",
        "outputId": "0f564d8d-6ee3-4411-e051-f81c1f1635bf"
      },
      "execution_count": 33,
      "outputs": [
        {
          "output_type": "stream",
          "name": "stdout",
          "text": [
            "In-Class Accuracy for each class:\n",
            "     1      2      3 \n",
            " 65.98  60.93 144.22 \n"
          ]
        }
      ]
    },
    {
      "cell_type": "markdown",
      "source": [
        "## Summary and Concusion\n",
        "\n",
        "This tutorial demonstrated how to build and fit a multilevel multinomial model in R using the `mblogit()` function from the {mclogit} package. We started by generating synthetic data with hierarchical structures and categorical outcomes. We then fitted a mixed-effects multinomial model to predict the mode of transportation based on the cost, working population, and distance traveled. The model included random effects for the `suburb` variable to account for the hierarchical structure of the data. We compared the model with random intercept and slope to a model with random intercept only and found that the mixed-effects model provided a better fit to the data. We evaluated the model's performance using various metrics and generated predictions for the outcome variable. Overall, the tutorial provided a comprehensive overview of building and interpreting multilevel multinomial models in R, highlighting the importance of accounting for hierarchical structures in categorical data analysis."
      ],
      "metadata": {
        "id": "WRcixyIzpt2A"
      }
    },
    {
      "cell_type": "markdown",
      "source": [
        "## References\n",
        "\n",
        "\n",
        "## References\n",
        "\n",
        "1.  [Mixed-Effects Multinomial Regression](https://ladal.edu.au/regression.html#Mixed-Effects_Multinomial_Regression)\n",
        "\n",
        "2.  [The ultimate practical guide to multilevel multinomial conjoint analysis with R](https://www.andrewheiss.com/blog/2023/08/12/conjoint-multilevel-multinomial-guide/)\n",
        "\n",
        "3.  [Package ‘mclogit’](https://cran.r-project.org/web/packages/mclogit/mclogit.pdf)\n",
        "\n",
        "\n",
        "\n"
      ],
      "metadata": {
        "id": "bLeAMiRQG59v"
      }
    }
  ]
}