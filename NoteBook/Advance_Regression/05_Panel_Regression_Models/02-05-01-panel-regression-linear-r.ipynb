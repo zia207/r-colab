{
  "nbformat": 4,
  "nbformat_minor": 0,
  "metadata": {
    "colab": {
      "provenance": [],
      "toc_visible": true,
      "authorship_tag": "ABX9TyN0REmSaHs1Pejmh7Xn5/M+",
      "include_colab_link": true
    },
    "kernelspec": {
      "name": "python3",
      "display_name": "Python 3"
    },
    "language_info": {
      "name": "python"
    }
  },
  "cells": [
    {
      "cell_type": "markdown",
      "metadata": {
        "id": "view-in-github",
        "colab_type": "text"
      },
      "source": [
        "<a href=\"https://colab.research.google.com/github/zia207/r-colab/blob/main/NoteBook/Advance_Regression/02-05-01-panel-regression-linear-r.ipynb\" target=\"_parent\"><img src=\"https://colab.research.google.com/assets/colab-badge.svg\" alt=\"Open In Colab\"/></a>"
      ]
    },
    {
      "cell_type": "markdown",
      "source": [
        "![alt text](http://drive.google.com/uc?export=view&id=1bLQ3nhDbZrCCqy_WCxxckOne2lgVvn3l)"
      ],
      "metadata": {
        "id": "4qrItz_mJNWw"
      }
    },
    {
      "cell_type": "markdown",
      "source": [
        "# 1.  Linear Models for Panel Data in R\n",
        "\n",
        "This tutorial demonstrates how to perform panel linear regression using the {plm} package in R. Panel regression is a statistical technique used to analyze datasets that combine both cross-sectional and time-series data, known as panel data or longitudinal data. This method accounts for multiple observations of the same entities (e.g., individuals, firms, countries) over time, enabling researchers to control for variables that vary across entities or time periods but are unobserved or unmeasured."
      ],
      "metadata": {
        "id": "Dzp9ZseROTcY"
      }
    },
    {
      "cell_type": "markdown",
      "source": [
        "## Overview\n",
        "\n",
        "Panel data, also known as longitudinal or cross-sectional time-series data, consists of observations on multiple entities (such as individuals, firms, or countries) over multiple time periods. Linear models for panel data are statistical methods used to analyze such data, accounting for both cross-sectional and time-series variations.\n",
        "\n",
        "The `{plm}` package in R provides tools and functions for econometric analysis of panel data. It allows for the estimation of linear panel models, which are useful for analyzing datasets that contain observations on multiple entities (such as individuals, firms, or countries) over multiple time periods.\n",
        "\n",
        "Several models can be estimated with plm by filling the model argument:\n",
        "\n",
        "- the fixed effects model (`\"within\"`), the default,\n",
        "- the pooling model (`\"pooling\"`),\n",
        "- the first-difference model (`\"fd\"`),\n",
        "- the between model (`\"between\"`), -\n",
        "- the error components model (`\"random\"`).\n"
      ],
      "metadata": {
        "id": "TpcIOkTs30qp"
      }
    },
    {
      "cell_type": "markdown",
      "source": [
        "## Install rpy2"
      ],
      "metadata": {
        "id": "SDp3ULld8Gb9"
      }
    },
    {
      "cell_type": "code",
      "source": [
        "!pip uninstall rpy2 -y\n",
        "!pip install rpy2==3.5.1\n",
        "%load_ext rpy2.ipython"
      ],
      "metadata": {
        "id": "CiM6y-Mw8AJp",
        "colab": {
          "base_uri": "https://localhost:8080/"
        },
        "outputId": "e4cf9a6c-ceef-4e58-9c0e-09af93acbaf4"
      },
      "execution_count": null,
      "outputs": [
        {
          "output_type": "stream",
          "name": "stdout",
          "text": [
            "Found existing installation: rpy2 3.5.17\n",
            "Uninstalling rpy2-3.5.17:\n",
            "  Successfully uninstalled rpy2-3.5.17\n",
            "Collecting rpy2==3.5.1\n",
            "  Downloading rpy2-3.5.1.tar.gz (201 kB)\n",
            "\u001b[2K     \u001b[90m━━━━━━━━━━━━━━━━━━━━━━━━━━━━━━━━━━━━━━━━\u001b[0m \u001b[32m201.7/201.7 kB\u001b[0m \u001b[31m3.7 MB/s\u001b[0m eta \u001b[36m0:00:00\u001b[0m\n",
            "\u001b[?25h  Preparing metadata (setup.py) ... \u001b[?25l\u001b[?25hdone\n",
            "Requirement already satisfied: cffi>=1.10.0 in /usr/local/lib/python3.11/dist-packages (from rpy2==3.5.1) (1.17.1)\n",
            "Requirement already satisfied: jinja2 in /usr/local/lib/python3.11/dist-packages (from rpy2==3.5.1) (3.1.6)\n",
            "Requirement already satisfied: pytz in /usr/local/lib/python3.11/dist-packages (from rpy2==3.5.1) (2025.1)\n",
            "Requirement already satisfied: tzlocal in /usr/local/lib/python3.11/dist-packages (from rpy2==3.5.1) (5.3.1)\n",
            "Requirement already satisfied: pycparser in /usr/local/lib/python3.11/dist-packages (from cffi>=1.10.0->rpy2==3.5.1) (2.22)\n",
            "Requirement already satisfied: MarkupSafe>=2.0 in /usr/local/lib/python3.11/dist-packages (from jinja2->rpy2==3.5.1) (3.0.2)\n",
            "Building wheels for collected packages: rpy2\n",
            "  Building wheel for rpy2 (setup.py) ... \u001b[?25l\u001b[?25hdone\n",
            "  Created wheel for rpy2: filename=rpy2-3.5.1-cp311-cp311-linux_x86_64.whl size=314972 sha256=8a5ab24bf4cb6c158913d0a31801caad42847b8b027ce9f8e59c3d73ed0f308d\n",
            "  Stored in directory: /root/.cache/pip/wheels/e9/55/d1/47be85a5f3f1e1f4d1e91cb5e3a4dcb40dd72147f184c5a5ef\n",
            "Successfully built rpy2\n",
            "Installing collected packages: rpy2\n",
            "Successfully installed rpy2-3.5.1\n"
          ]
        }
      ]
    },
    {
      "cell_type": "markdown",
      "source": [
        "## Mount Google Drive"
      ],
      "metadata": {
        "id": "O1zeuaCowiBt"
      }
    },
    {
      "cell_type": "code",
      "source": [
        "from google.colab import drive\n",
        "drive.mount('/content/drive')"
      ],
      "metadata": {
        "colab": {
          "base_uri": "https://localhost:8080/"
        },
        "id": "9J-4ie4bwiJ1",
        "outputId": "5d17327c-5738-48bd-b2d8-ddde691535aa"
      },
      "execution_count": null,
      "outputs": [
        {
          "output_type": "stream",
          "name": "stdout",
          "text": [
            "Mounted at /content/drive\n"
          ]
        }
      ]
    },
    {
      "cell_type": "markdown",
      "source": [
        "## Install Required R Packages\n",
        "\n",
        "Following R packages are required to run this notebook. If any of these packages are not installed, you can install them using the code below:\n",
        "\n",
        "\n"
      ],
      "metadata": {
        "id": "9T5ojBgKBv5p"
      }
    },
    {
      "cell_type": "code",
      "source": [
        "%%R\n",
        "packages <- c('tidyverse',\n",
        "              'DataExplorer',\n",
        "              'dlookr',\n",
        "              'DataExplorer',\n",
        "              'rstatix',\n",
        "              'corrplot',\n",
        "              'Hmisc',\n",
        "              'tseries',\n",
        "              'stargazer',\n",
        "              'plm',\n",
        "              'panelr',\n",
        "              'pglm',\n",
        "              'AER',\n",
        "              'corrplot',\n",
        "              'lmtest',\n",
        "              'ggstatsplot',\n",
        "              'gtsummary',\n",
        "              'ggExtra',\n",
        "              'gridExtra',\n",
        "              'kableExtra',\n",
        "              'GGally',\n",
        "              'gplots'\n",
        "                )"
      ],
      "metadata": {
        "id": "4ERkgB8gByVX"
      },
      "execution_count": null,
      "outputs": []
    },
    {
      "cell_type": "code",
      "source": [
        "%%R\n",
        "# Install missing packages\n",
        "new.packages <- packages[!(packages %in% installed.packages(lib='drive/My Drive/R/')[,\"Package\"])]\n",
        "if(length(new.packages)) install.packages(new.packages, lib='drive/My Drive/R/')"
      ],
      "metadata": {
        "id": "J3nWFZpl-sr-"
      },
      "execution_count": null,
      "outputs": []
    },
    {
      "cell_type": "code",
      "source": [
        "%%R\n",
        "# set library path\n",
        ".libPaths('drive/My Drive/R')\n",
        "# Verify installation\n",
        "cat(\"Installed packages:\\n\")\n",
        "print(sapply(packages, requireNamespace, quietly = TRUE))"
      ],
      "metadata": {
        "colab": {
          "base_uri": "https://localhost:8080/"
        },
        "id": "-jv6EE7Z-sx-",
        "outputId": "4c6d2a12-4da3-45d9-c0e7-968688ab8215"
      },
      "execution_count": null,
      "outputs": [
        {
          "output_type": "stream",
          "name": "stdout",
          "text": [
            "Installed packages:\n"
          ]
        },
        {
          "output_type": "stream",
          "name": "stderr",
          "text": [
            "WARNING:rpy2.rinterface_lib.callbacks:R[write to console]: Registered S3 method overwritten by 'quantmod':\n",
            "  method            from\n",
            "  as.zoo.data.frame zoo \n",
            "\n"
          ]
        },
        {
          "output_type": "stream",
          "name": "stdout",
          "text": [
            "   tidyverse DataExplorer       dlookr DataExplorer      rstatix     corrplot \n",
            "        TRUE         TRUE         TRUE         TRUE         TRUE         TRUE \n",
            "       Hmisc      tseries    stargazer          plm       panelr         pglm \n",
            "        TRUE         TRUE         TRUE         TRUE         TRUE         TRUE \n",
            "         AER     corrplot       lmtest  ggstatsplot    gtsummary      ggExtra \n",
            "        TRUE         TRUE         TRUE         TRUE         TRUE         TRUE \n",
            "   gridExtra   kableExtra       GGally       gplots \n",
            "        TRUE         TRUE         TRUE         TRUE \n"
          ]
        }
      ]
    },
    {
      "cell_type": "markdown",
      "source": [
        "## Load R Packages"
      ],
      "metadata": {
        "id": "MV7R29xfyWQz"
      }
    },
    {
      "cell_type": "code",
      "source": [
        "%%R\n",
        "# set library path\n",
        ".libPaths('drive/My Drive/R')\n",
        "# Load packages with suppressed messages\n",
        "invisible(lapply(packages, function(pkg) {\n",
        "  suppressPackageStartupMessages(library(pkg, character.only = TRUE))\n",
        "}))\n",
        "# Check loaded packages\n",
        "cat(\"Successfully loaded packages:\\n\")\n",
        "print(search()[grepl(\"package:\", search())])# Check loaded packages\n"
      ],
      "metadata": {
        "id": "232jNAHBykUL",
        "colab": {
          "base_uri": "https://localhost:8080/"
        },
        "outputId": "b9e7f63e-62fc-4b7e-91cf-321fe16d11f1"
      },
      "execution_count": null,
      "outputs": [
        {
          "output_type": "stream",
          "name": "stdout",
          "text": [
            "Successfully loaded packages:\n",
            " [1] \"package:gplots\"       \"package:GGally\"       \"package:kableExtra\"  \n",
            " [4] \"package:gridExtra\"    \"package:ggExtra\"      \"package:gtsummary\"   \n",
            " [7] \"package:ggstatsplot\"  \"package:AER\"          \"package:survival\"    \n",
            "[10] \"package:sandwich\"     \"package:lmtest\"       \"package:zoo\"         \n",
            "[13] \"package:car\"          \"package:carData\"      \"package:pglm\"        \n",
            "[16] \"package:maxLik\"       \"package:miscTools\"    \"package:panelr\"      \n",
            "[19] \"package:lme4\"         \"package:Matrix\"       \"package:plm\"         \n",
            "[22] \"package:stargazer\"    \"package:tseries\"      \"package:Hmisc\"       \n",
            "[25] \"package:corrplot\"     \"package:rstatix\"      \"package:dlookr\"      \n",
            "[28] \"package:DataExplorer\" \"package:lubridate\"    \"package:forcats\"     \n",
            "[31] \"package:stringr\"      \"package:dplyr\"        \"package:purrr\"       \n",
            "[34] \"package:readr\"        \"package:tidyr\"        \"package:tibble\"      \n",
            "[37] \"package:ggplot2\"      \"package:tidyverse\"    \"package:tools\"       \n",
            "[40] \"package:stats\"        \"package:graphics\"     \"package:grDevices\"   \n",
            "[43] \"package:utils\"        \"package:datasets\"     \"package:methods\"     \n",
            "[46] \"package:base\"        \n"
          ]
        }
      ]
    },
    {
      "cell_type": "markdown",
      "source": [
        "## Data\n",
        "\n",
        "For this tutorial, we will use the Cost Data for U.S. Airlines. The dataset is derived from the NYU Stern School of Business's Econometric Analysis, 5th Edition. It includes cross-sectional data on the costs of U.S. airlines over 15 years, from 1970 to 1984, with 90 observations on 6 airline firms. The dataset contains the following variables:\n",
        "\n",
        "-   `I (Airline)`: Refers to six different airline companies being examined.\n",
        "\n",
        "-   `T (Year)`: Represents the years under analysis, spanning from 1970 to 1984 (15 years).\n",
        "\n",
        "-   `PF (Fuel Price)`: Indicates the global average price for aviation jet fuel at refineries. Prices are set by multi-year contracts between airlines and suppliers, remaining stable despite market fluctuations.\n",
        "\n",
        "-   `LF (Load Factor)`: Measures how much of an airline's passenger capacity is utilized, influenced by seating capacity, routes, and demand.\n",
        "\n",
        "-   `Q (Revenue Passenger Miles)`: A key metric showing the miles traveled by paying passengers, commonly used in airline traffic statistics.\n",
        "\n",
        "-   `C (Cost) (in thousands)`: Influenced by Fuel Price, Load Factor, Lease and Depreciation, Aircraft Maintenance, Labor, and Airport Handling Charges.\n",
        "\n"
      ],
      "metadata": {
        "id": "rSJqB05rO5ES"
      }
    },
    {
      "cell_type": "code",
      "execution_count": null,
      "metadata": {
        "colab": {
          "base_uri": "https://localhost:8080/"
        },
        "id": "CFpt_H01OPsa",
        "outputId": "4bddb11e-bb12-4175-f5be-dc02f270a50a"
      },
      "outputs": [
        {
          "output_type": "stream",
          "name": "stdout",
          "text": [
            "Rows: 90 Columns: 6\n",
            "── Column specification ────────────────────────────────────────────────────────\n",
            "Delimiter: \",\"\n",
            "dbl (6): I, T, C, Q, PF, LF\n",
            "\n",
            "ℹ Use `spec()` to retrieve the full column specification for this data.\n",
            "ℹ Specify the column types or set `show_col_types = FALSE` to quiet this message.\n",
            "Rows: 90\n",
            "Columns: 6\n",
            "$ I  <dbl> 1, 1, 1, 1, 1, 1, 1, 1, 1, 1, 1, 1, 1, 1, 1, 2, 2, 2, 2, 2, 2, 2, 2…\n",
            "$ T  <dbl> 1, 2, 3, 4, 5, 6, 7, 8, 9, 10, 11, 12, 13, 14, 15, 1, 2, 3, 4, 5, 6…\n",
            "$ C  <dbl> 1140640, 1215690, 1309570, 1511530, 1676730, 1823740, 2022890, 2314…\n",
            "$ Q  <dbl> 0.952757, 0.986757, 1.091980, 1.175780, 1.160170, 1.173760, 1.29051…\n",
            "$ PF <dbl> 106650, 110307, 110574, 121974, 196606, 265609, 263451, 316411, 384…\n",
            "$ LF <dbl> 0.534487, 0.532328, 0.547736, 0.540846, 0.591167, 0.575417, 0.59449…\n"
          ]
        }
      ],
      "source": [
        "%%R\n",
        "mf<-readr::read_csv(\"https://github.com/zia207/r-colab/raw/main/Data/Regression_analysis/airlines_data.csv\") |>\n",
        "  glimpse()"
      ]
    },
    {
      "cell_type": "markdown",
      "source": [
        "#### Data Processing"
      ],
      "metadata": {
        "id": "I8dFM0UCCpWO"
      }
    },
    {
      "cell_type": "code",
      "source": [
        "%%R\n",
        "# assigening names to the columns\n",
        "lookup <- c(Airline = \"I\",\n",
        "            Year =  \"T\",\n",
        "            Cost = \"C\"\n",
        " )\n",
        "my.data<-mf |>\n",
        "    # Rename using a named vector and `all_of()`\n",
        "  dplyr::rename(all_of(lookup)) |>\n",
        "  # Convert to factors\n",
        "  dplyr::mutate(across(c(Airline, Year), factor)) |>\n",
        "  # Rename the factor levels\n",
        "  dplyr:: mutate(Year = dplyr::recode(Year,\n",
        "         '1' = '1970',\n",
        "         '2' = '1971',\n",
        "         '3' = '1972',\n",
        "         '4' = '1973',\n",
        "         '5' = '1974',\n",
        "         '6' = '1975',\n",
        "         '7' = '1976',\n",
        "         '8' = '1977',\n",
        "         '9' = '1978',\n",
        "         '10' = '1979',\n",
        "         '11' = '1980',\n",
        "         '12' = '1981',\n",
        "         '13' = '1982',\n",
        "         '14' = '1983',\n",
        "         '15' = '1984'\n",
        "     ) )\n",
        "str(my.data)"
      ],
      "metadata": {
        "colab": {
          "base_uri": "https://localhost:8080/"
        },
        "id": "MmtJFmCMCpig",
        "outputId": "a21ed072-ca19-404c-90e2-c3146702d70f"
      },
      "execution_count": null,
      "outputs": [
        {
          "output_type": "stream",
          "name": "stdout",
          "text": [
            "tibble [90 × 6] (S3: tbl_df/tbl/data.frame)\n",
            " $ Airline: Factor w/ 6 levels \"1\",\"2\",\"3\",\"4\",..: 1 1 1 1 1 1 1 1 1 1 ...\n",
            " $ Year   : Factor w/ 15 levels \"1970\",\"1971\",..: 1 2 3 4 5 6 7 8 9 10 ...\n",
            " $ Cost   : num [1:90] 1140640 1215690 1309570 1511530 1676730 ...\n",
            " $ Q      : num [1:90] 0.953 0.987 1.092 1.176 1.16 ...\n",
            " $ PF     : num [1:90] 106650 110307 110574 121974 196606 ...\n",
            " $ LF     : num [1:90] 0.534 0.532 0.548 0.541 0.591 ...\n"
          ]
        }
      ]
    },
    {
      "cell_type": "markdown",
      "source": [
        "#### Data Exploration"
      ],
      "metadata": {
        "id": "8POJhd3RH94D"
      }
    },
    {
      "cell_type": "code",
      "source": [
        "%%R\n",
        "dlookr::diagnose(my.data)"
      ],
      "metadata": {
        "id": "tO4j13t1IAjE",
        "colab": {
          "base_uri": "https://localhost:8080/"
        },
        "outputId": "987db063-334a-4208-d624-3797b3cb6081"
      },
      "execution_count": null,
      "outputs": [
        {
          "output_type": "stream",
          "name": "stdout",
          "text": [
            "# A tibble: 6 × 6\n",
            "  variables types   missing_count missing_percent unique_count unique_rate\n",
            "  <chr>     <chr>           <int>           <dbl>        <int>       <dbl>\n",
            "1 Airline   factor              0               0            6      0.0667\n",
            "2 Year      factor              0               0           15      0.167 \n",
            "3 Cost      numeric             0               0           90      1     \n",
            "4 Q         numeric             0               0           90      1     \n",
            "5 PF        numeric             0               0           90      1     \n",
            "6 LF        numeric             0               0           90      1     \n"
          ]
        }
      ]
    },
    {
      "cell_type": "code",
      "source": [
        "%%R\n",
        "my.data |>\n",
        "  # First select  numerical columns\n",
        "  dplyr::select(Cost, PF, LF, Q)  |>\n",
        "  gtsummary::tbl_summary()"
      ],
      "metadata": {
        "id": "WTF2ZhKsINZ8",
        "colab": {
          "base_uri": "https://localhost:8080/"
        },
        "outputId": "e1aa8441-bc75-4467-9249-bf348f71dcac"
      },
      "execution_count": null,
      "outputs": [
        {
          "output_type": "stream",
          "name": "stdout",
          "text": [
            "# A tibble: 90 × 4\n",
            "      Cost     PF    LF     Q\n",
            "     <dbl>  <dbl> <dbl> <dbl>\n",
            " 1 1140640 106650 0.534 0.953\n",
            " 2 1215690 110307 0.532 0.987\n",
            " 3 1309570 110574 0.548 1.09 \n",
            " 4 1511530 121974 0.541 1.18 \n",
            " 5 1676730 196606 0.591 1.16 \n",
            " 6 1823740 265609 0.575 1.17 \n",
            " 7 2022890 263451 0.594 1.29 \n",
            " 8 2314760 316411 0.597 1.39 \n",
            " 9 2639160 384110 0.639 1.61 \n",
            "10 3247620 569251 0.676 1.83 \n",
            "# ℹ 80 more rows\n",
            "# ℹ Use `print(n = ...)` to see more rows\n"
          ]
        }
      ]
    },
    {
      "cell_type": "markdown",
      "source": [
        "### Visualize the Hetereogeneity\n",
        "\n",
        "Hterogeneity across airlines can be visualized using a `plotmean()` function of {gplots} package. The plot shows the distribution of mean costs with CI for each airline, allowing us to compare the cost structures of different airlines."
      ],
      "metadata": {
        "id": "xULW9xB8Ifo3"
      }
    },
    {
      "cell_type": "markdown",
      "source": [
        "#### Across Airlines"
      ],
      "metadata": {
        "id": "EcqUZt4cC5LI"
      }
    },
    {
      "cell_type": "code",
      "source": [
        "%%R -w 650 -h 450 -u px\n",
        "plotmeans(Cost~Airline ,\n",
        "          main = 'Heterogeneity Across Airline', data = my.data)"
      ],
      "metadata": {
        "id": "p_eUNGuwDNka",
        "colab": {
          "base_uri": "https://localhost:8080/",
          "height": 467
        },
        "outputId": "601a1838-653e-4944-95ac-4af1709d7775"
      },
      "execution_count": null,
      "outputs": [
        {
          "output_type": "display_data",
          "data": {
            "image/png": "[encoded data removed]"
          },
          "metadata": {}
        }
      ]
    },
    {
      "cell_type": "markdown",
      "source": [
        "The plot shows the mean cost for each airline over the 15-year period, with confidence intervals indicating the variability in costs. The plot provides a visual representation of the heterogeneity in costs across airlines.\n",
        "\n",
        "#### Across Years"
      ],
      "metadata": {
        "id": "ScXpBMBikzr3"
      }
    },
    {
      "cell_type": "code",
      "source": [
        "%%R -w 650 -h 450 -u px\n",
        "plotmeans(Cost~Year ,\n",
        "          main = 'Heterogeneity Across Year',\n",
        "          data = my.data)"
      ],
      "metadata": {
        "colab": {
          "base_uri": "https://localhost:8080/",
          "height": 467
        },
        "id": "zh1DEtUxDSIl",
        "outputId": "4647a30f-3a1b-4e63-84c8-414edda9eb94"
      },
      "execution_count": null,
      "outputs": [
        {
          "output_type": "display_data",
          "data": {
            "image/png": "[encoded data removed]"
          },
          "metadata": {}
        }
      ]
    },
    {
      "cell_type": "markdown",
      "source": [
        "`coplot()` function of {gplots} package can be used to create a conditioned scatterplot matrix of the Cost variable by Year and Airline. This plot allows us to visualize the relationship between Cost and Year for each airline separately."
      ],
      "metadata": {
        "id": "kVpip4LblDjJ"
      }
    },
    {
      "cell_type": "code",
      "source": [
        "%%R -w 800 -h 800 -u px\n",
        "coplot( Cost~ Year|Airline, type=\"b\", data=my.data)"
      ],
      "metadata": {
        "colab": {
          "base_uri": "https://localhost:8080/",
          "height": 817
        },
        "id": "TQK3Q-3PDjWU",
        "outputId": "005dd01d-7040-4d9f-d586-50f69521f77e"
      },
      "execution_count": null,
      "outputs": [
        {
          "output_type": "display_data",
          "data": {
            "image/png": "[encoded data removed]"
          },
          "metadata": {}
        }
      ]
    },
    {
      "cell_type": "markdown",
      "source": [
        "### Panel Data Transformation\n",
        "\n",
        "Panel data is typically transformed into a `pdata.frame()` object for panel regression analysis. This object includes an index that identifies the entity (e.g., individual, firm) and the time period."
      ],
      "metadata": {
        "id": "aP-ASSfDDzqp"
      }
    },
    {
      "cell_type": "code",
      "source": [
        "%%R\n",
        "my.pd <- pdata.frame(my.data, index = c(\"Airline\", \"Year\"))\n",
        "head(my.pd)"
      ],
      "metadata": {
        "id": "8nCTpa_mD3Tr",
        "colab": {
          "base_uri": "https://localhost:8080/"
        },
        "outputId": "78ab9e8c-80ce-44a0-8b0f-7e299d7f5c0f"
      },
      "execution_count": null,
      "outputs": [
        {
          "output_type": "stream",
          "name": "stdout",
          "text": [
            "       Airline Year    Cost        Q     PF       LF\n",
            "1-1970       1 1970 1140640 0.952757 106650 0.534487\n",
            "1-1971       1 1971 1215690 0.986757 110307 0.532328\n",
            "1-1972       1 1972 1309570 1.091980 110574 0.547736\n",
            "1-1973       1 1973 1511530 1.175780 121974 0.540846\n",
            "1-1974       1 1974 1676730 1.160170 196606 0.591167\n",
            "1-1975       1 1975 1823740 1.173760 265609 0.575417\n"
          ]
        }
      ]
    },
    {
      "cell_type": "code",
      "source": [
        "%%R\n",
        "# panel data dimension\n",
        "pdim(my.pd)"
      ],
      "metadata": {
        "colab": {
          "base_uri": "https://localhost:8080/"
        },
        "id": "RzCy7aCJUvbP",
        "outputId": "7447b268-8049-459a-d06f-b5cd99ac59ab"
      },
      "execution_count": null,
      "outputs": [
        {
          "output_type": "stream",
          "name": "stdout",
          "text": [
            "Balanced Panel: n = 6, T = 15, N = 90\n"
          ]
        }
      ]
    },
    {
      "cell_type": "markdown",
      "source": [
        "## Pooled OLS Regression\n",
        "\n",
        "`Pooled OLS Regression` is a statistical method that applies the `Ordinary Least Squares (OLS)` technique to `panel data` (data with both cross-sectional and time-series dimensions) `without accounting for the panel structure`. It treats all observations as independent, even if they belong to the same entity (e.g., firm, country, or individual) over time.\n",
        "\n",
        "Here's how it differs from standard `OLS regression`:\n",
        "\n",
        "| **Aspect** | **Pooled OLS** | **Standard OLS** |\n",
        "|------------------|---------------------------|---------------------------|\n",
        "| `Data Type` | Panel data (cross-sectional + time-series). | Cross-sectional or time-series data. |\n",
        "| `Independence` | Assumes all observations are independent (often unrealistic in panel data). | Assumes independence (valid for non-panel data). |\n",
        "| `Unobserved Effects` | Does *not* control for entity/time effects (risk of omitted variable bias). | No need to control for panel-specific effects. |\n",
        "| `Efficiency` | Likely inefficient due to autocorrelation/heteroscedasticity. | Efficient if Gauss-Markov assumptions hold. |\n",
        "\n",
        "\n",
        "A study analyzing the impact of education ($X$) on income ($Y$) across 10 countries over 5 years without considering country-specific or time-specific differences:\n",
        "\n",
        "$$ Y_{it} = \\beta_0 + \\beta_1 X_{it} + u_{it} $$\n",
        "\n",
        "where:\n",
        "\n",
        "-   $i$ represents the country,\n",
        "-   $t$ represents the time period,\n",
        "-   $u_{it}$ is the error term.\n",
        "\n",
        "\n",
        "Limitations of Pooled OLS are below:\n",
        "\n",
        "1.  `Omitted Variable Bias`:\\\n",
        "    Fails to account for `unobserved heterogeneity` (e.g., company culture, geography) that is constant over time or across entities.\\\n",
        "    Example: If firms have unobserved traits affecting, Pooled OLS estimates will be biased.\n",
        "\n",
        "2.  `Autocorrelation`:\\\n",
        "    Repeated observations of the same entity over time often violate the \"no autocorrelation\" assumption.\n",
        "\n",
        "3.  `Inefficient Standard Errors`:\\\n",
        "    Heteroscedasticity (unequal variance) across entities or time is common but unaddressed.\n",
        "\n",
        "Use Pooled OLS:\n",
        "\n",
        "-   When `entity/time effects are negligible` (rare in practice).\\\n",
        "-   As a `baseline model` before applying more advanced panel methods (e.g., fixed effects, random effects).\\\n",
        "-   When data is insufficient for advanced techniques (e.g., short time periods)."
      ],
      "metadata": {
        "id": "BHE412vmlYZM"
      }
    },
    {
      "cell_type": "markdown",
      "source": [
        "### Fit Pooled OLS Model\n",
        "\n",
        "`plm()` function of {plm} package is used to estimate the `Pooled OLS` model. The model formula specifies the dependent variable (Cost) and independent variables (Q, PF, LF). The `data` argument specifies the panel data frame, and the `model` argument specifies the estimation method (`\"pooling\"` for Pooled OLS)."
      ],
      "metadata": {
        "id": "pzicEv5kXfbu"
      }
    },
    {
      "cell_type": "code",
      "source": [
        "%%R\n",
        "# Fit Pooled OLS model\n",
        "pooled.model<-plm(Cost ~ Q + PF + LF,\n",
        "               data = my.data,\n",
        "               model = \"pooling\")\n"
      ],
      "metadata": {
        "colab": {
          "base_uri": "https://localhost:8080/"
        },
        "id": "YzedGbrtW3Ya",
        "outputId": "62d1e5ca-65c4-46ff-dff7-fe18544bdd3f"
      },
      "execution_count": null,
      "outputs": [
        {
          "output_type": "stream",
          "name": "stdout",
          "text": [
            "Pooling Model\n",
            "\n",
            "Call:\n",
            "plm(formula = Cost ~ Q + PF + LF, data = my.data, model = \"pooling\")\n",
            "\n",
            "Balanced Panel: n = 6, T = 15, N = 90\n",
            "\n",
            "Residuals:\n",
            "   Min. 1st Qu.  Median 3rd Qu.    Max. \n",
            "-520654 -250270   37333  208690  849700 \n",
            "\n",
            "Coefficients:\n",
            "               Estimate  Std. Error t-value  Pr(>|t|)    \n",
            "(Intercept)  1.1586e+06  3.6059e+05  3.2129   0.00185 ** \n",
            "Q            2.0261e+06  6.1807e+04 32.7813 < 2.2e-16 ***\n",
            "PF           1.2253e+00  1.0372e-01 11.8138 < 2.2e-16 ***\n",
            "LF          -3.0658e+06  6.9633e+05 -4.4027 3.058e-05 ***\n",
            "---\n",
            "Signif. codes:  0 ‘***’ 0.001 ‘**’ 0.01 ‘*’ 0.05 ‘.’ 0.1 ‘ ’ 1\n",
            "\n",
            "Total Sum of Squares:    1.2647e+14\n",
            "Residual Sum of Squares: 6.8177e+12\n",
            "R-Squared:      0.94609\n",
            "Adj. R-Squared: 0.94421\n",
            "F-statistic: 503.118 on 3 and 86 DF, p-value: < 2.22e-16\n"
          ]
        }
      ]
    },
    {
      "cell_type": "code",
      "source": [
        "%%R\n",
        "stargazer(pooled.model,\n",
        "          report = \"vc*stp\",\n",
        "          type = \"text\")"
      ],
      "metadata": {
        "colab": {
          "base_uri": "https://localhost:8080/"
        },
        "id": "bnXig8cNXqKq",
        "outputId": "cb8981fb-3ab4-4bba-f775-36423043d2b4"
      },
      "execution_count": null,
      "outputs": [
        {
          "output_type": "stream",
          "name": "stdout",
          "text": [
            "\n",
            "========================================\n",
            "                 Dependent variable:    \n",
            "             ---------------------------\n",
            "                        Cost            \n",
            "----------------------------------------\n",
            "Q                 2,026,114.000***      \n",
            "                    (61,806.940)        \n",
            "                     t = 32.781         \n",
            "                      p = 0.000         \n",
            "                                        \n",
            "PF                    1.225***          \n",
            "                       (0.104)          \n",
            "                     t = 11.814         \n",
            "                      p = 0.000         \n",
            "                                        \n",
            "LF                -3,065,753.000***     \n",
            "                    (696,327.300)       \n",
            "                     t = -4.403         \n",
            "                     p = 0.00004        \n",
            "                                        \n",
            "Constant          1,158,559.000***      \n",
            "                    (360,592.700)       \n",
            "                      t = 3.213         \n",
            "                      p = 0.002         \n",
            "                                        \n",
            "----------------------------------------\n",
            "Observations             90             \n",
            "R2                      0.946           \n",
            "Adjusted R2             0.944           \n",
            "F Statistic    503.118*** (df = 3; 86)  \n",
            "========================================\n",
            "Note:        *p<0.1; **p<0.05; ***p<0.01\n"
          ]
        }
      ]
    },
    {
      "cell_type": "code",
      "source": [
        "%%R\n",
        "kable(tidy(pooled.model), digits=3,\n",
        "           caption=\"Pooled model\")"
      ],
      "metadata": {
        "colab": {
          "base_uri": "https://localhost:8080/"
        },
        "id": "RKA6lj4fXw1q",
        "outputId": "0a28eb4b-8683-4f18-ac44-2bd4a3dc76d2"
      },
      "execution_count": null,
      "outputs": [
        {
          "output_type": "stream",
          "name": "stdout",
          "text": [
            "\n",
            "\n",
            "Table: Pooled model\n",
            "\n",
            "|term        |     estimate|  std.error| statistic| p.value|\n",
            "|:-----------|------------:|----------:|---------:|-------:|\n",
            "|(Intercept) |  1158559.201| 360592.720|     3.213|   0.002|\n",
            "|Q           |  2026114.340|  61806.945|    32.781|   0.000|\n",
            "|PF          |        1.225|      0.104|    11.814|   0.000|\n",
            "|LF          | -3065753.131| 696327.318|    -4.403|   0.000|\n"
          ]
        }
      ]
    },
    {
      "cell_type": "markdown",
      "source": [
        "From above results, we can see that the `Pooled OLS` model estimates the coefficients for each independent variable. The `Q`, `PF`, and `LF` variables are included in the model. The coefficients, standard errors, t-statistics, and p-values are reported for each variable. The `R-squared` value indicates the proportion of variance explained by the model. The effect of these variales on coast is statistically significant at the 5% level.\n"
      ],
      "metadata": {
        "id": "SwwgRXjnEcja"
      }
    },
    {
      "cell_type": "markdown",
      "source": [
        "\n",
        "`coeftest()` function {lmtest} package performs z and (quasi-) Wald tests of estimated coefficients. `coefci()` computes the corresponding Wald confidence intervals. The `vcovHC()` function of {plm} package computes heteroskedasticity-robust covariance matrix estimators for panel data models. The `type` argument specifies the type of robust standard errors to compute (e.g., HC0, HC1, HC2, HC3). The `cluster` argument specifies the variable used for clustering standard errors (e.g., \"group\" for entity-level clustering). Wald tests are used to test the null hypothesis that the coefficients are equal to zero."
      ],
      "metadata": {
        "id": "rT1EJJpJX2XY"
      }
    },
    {
      "cell_type": "code",
      "source": [
        "%%R\n",
        "tbl.pooled.model <- tidy(lmtest::coeftest(pooled.model,\n",
        "                             vcov=vcovHC(pooled.model,\n",
        "                            type=\"HC0\",\n",
        "                            cluster=\"group\")))\n",
        "kable(tbl.pooled.model, digits=5, caption= \"Pooled OLS model with cluster robust standard errors\")"
      ],
      "metadata": {
        "id": "3RJQuC2IEdQl",
        "colab": {
          "base_uri": "https://localhost:8080/"
        },
        "outputId": "b97329b2-35bc-4ecc-e046-51cd26e22dbb"
      },
      "execution_count": null,
      "outputs": [
        {
          "output_type": "stream",
          "name": "stdout",
          "text": [
            "\n",
            "\n",
            "Table: Pooled OLS model with cluster robust standard errors\n",
            "\n",
            "|term        |      estimate|    std.error| statistic| p.value|\n",
            "|:-----------|-------------:|------------:|---------:|-------:|\n",
            "|(Intercept) |  1.158559e+06| 4.084793e+05|   2.83627| 0.00569|\n",
            "|Q           |  2.026114e+06| 7.951013e+04|  25.48247| 0.00000|\n",
            "|PF          |  1.225350e+00| 3.487600e-01|   3.51345| 0.00071|\n",
            "|LF          | -3.065753e+06| 1.017051e+06|  -3.01436| 0.00338|\n"
          ]
        }
      ]
    },
    {
      "cell_type": "markdown",
      "source": [
        "\n",
        "\n",
        "The `performance()` function of {performance} package computes various performance metrics for the model, including the `R-squared`, `adjusted R-squared`, `F-statistic`, and `p-value`. These metrics help evaluate the goodness of fit and statistical significance of the model."
      ],
      "metadata": {
        "id": "OTO4xgRIYCvu"
      }
    },
    {
      "cell_type": "code",
      "source": [
        "%%R\n",
        "performance::performance(pooled.model)"
      ],
      "metadata": {
        "colab": {
          "base_uri": "https://localhost:8080/"
        },
        "id": "iEaV0qDxEwWq",
        "outputId": "389d889f-f0d1-4e28-920e-1caafd0f6acd"
      },
      "execution_count": null,
      "outputs": [
        {
          "output_type": "stream",
          "name": "stdout",
          "text": [
            "# Indices of model performance\n",
            "\n",
            "AIC      |     AICc |      BIC |    R2 | R2 (adj.) |      RMSE |     Sigma\n",
            "--------------------------------------------------------------------------\n",
            "2519.975 | 2520.689 | 2532.474 | 0.946 |     0.944 | 2.752e+05 | 2.816e+05\n"
          ]
        }
      ]
    },
    {
      "cell_type": "markdown",
      "source": [
        "### Testing for Heteroscedasticity\n",
        "\n",
        "`Heteroscedasticity` refers to the situation where the variance of the errors differs across observations. One common way to test for heteroscedasticity in R is by using the `Breusch-Pagan test`. The `bptest()` function of {lmtest} package performs the Breusch-Pagan test for heteroscedasticity in the residuals of the model. The test assesses whether the variance of the residuals is constant across observations. The null hypothesis is that the residuals are homoscedastic (constant variance)."
      ],
      "metadata": {
        "id": "_lq9TnINl99n"
      }
    },
    {
      "cell_type": "code",
      "source": [
        "%%R\n",
        "# Perform the Breusch-Pagan test\n",
        "lmtest::bptest(pooled.model)"
      ],
      "metadata": {
        "colab": {
          "base_uri": "https://localhost:8080/"
        },
        "id": "OkeAyXOFmCoE",
        "outputId": "336e9080-f586-4d44-a6be-63315480a59e"
      },
      "execution_count": null,
      "outputs": [
        {
          "output_type": "stream",
          "name": "stdout",
          "text": [
            "\n",
            "\tstudentized Breusch-Pagan test\n",
            "\n",
            "data:  pooled.model\n",
            "BP = 24.082, df = 3, p-value = 2.401e-05\n",
            "\n"
          ]
        }
      ]
    },
    {
      "cell_type": "markdown",
      "source": [
        "From above results, the p-value of the Breusch-Pagan test is less than 0.05, indicating that we reject the null hypothesis of homoscedasticity. This suggests that the residuals in the Pooled OLS model exhibit heteroscedasticity."
      ],
      "metadata": {
        "id": "IHWk5ikUE0EX"
      }
    },
    {
      "cell_type": "markdown",
      "source": [
        "\n",
        "## Fixed Effects Model\n",
        "\n",
        "`Fixed Effects (FE) Panel Regression` is a method designed to analyze panel data (data with both cross-sectional and time-series dimensions) by `controlling for unobserved, time-invariant heterogeneity` across entities (e.g., firms, countries, individuals). Unlike Pooled OLS, which ignores the panel structure, FE explicitly accounts for entity-specific or time-specific characteristics that could bias results.\n",
        "\n",
        "A study analyzing the effect of working hours ($X$) on employee productivity ((Y)) in different companies over time, accounting for company-specific characteristics.\n",
        "\n",
        "$$ Y_{it} = \\beta X_{it} + \\alpha_i + u_{it} $$\n",
        "\n",
        "where:\n",
        "\n",
        "- $\\alpha_i$ is the individual-specific effect (company-specific fixed effect).\n",
        "\n",
        "-   The `Within Transformation` is used to eliminate $\\alpha_i$, typically by demeaning the data.\n",
        "\n",
        "**How FE Differs from Pooled OLS**:\n",
        "\n",
        "| **Aspect** | **Fixed Effects (FE)** | **Pooled OLS** |\n",
        "|------------------|-----------------------------|-------------------------|\n",
        "| `Unobserved Heterogeneity` | Controls for `entity-specific/time-specific` effects (e.g., firm culture, stable policies). | Ignores unobserved heterogeneity, leading to `omitted variable bias` if $\\alpha_i$ correlates with $X_{it}$. |\n",
        "| `Data Used` | Uses only `within-entity variation` (changes over time). | Uses `both within and between variation` (treats all observations as independent). |\n",
        "| `Efficiency` | Less efficient than Pooled OLS (loses between-variation), but `unbiased` if $\\alpha_i$ correlates with $X_{it}$. | More efficient if no omitted variable bias, but `biased` if $\\alpha_i$ correlates with $X_{it}$. |\n",
        "| `Time-Invariant Variables` | Cannot estimate coefficients for variables that do not vary over time (e.g., country area). | Can estimate coefficients for time-invariant variables. |\n",
        "| `Error Structure` | Allows for `autocorrelation` within entities (clustered standard errors often used). | Assumes i.i.d errors, which is often violated in panel data. |\n",
        "\n",
        "**When to Use FE vs. Pooled OLS**:\n",
        "\n",
        "1.  Use FE if*:\n",
        "    -   Unobserved entity-specific factors (e.g., corporate culture, geography) are suspected to correlate with regressors.\\\n",
        "    -   Focus is on `within-entity relationships` (e.g., \"How does increasing R&D `within a firm` affect its profits?\").\n",
        "2.  Use Pooled OLS if:\n",
        "    -   Entity/time effects are negligible (unlikely in practice).\\\n",
        "    -   You need to estimate effects of time-invariant variables (e.g., gender, geography).\n",
        "\n",
        "\n",
        "The fixed effects model can be estimated using various methods, including:\n",
        "\n",
        "1. `Least Squares Dummy Variable (LSDV) Approach:`\n",
        "   This involves including dummy variables for each entity to capture the individual-specific intercepts.\n",
        "\n",
        "2. `Within Transformation:`\n",
        "   This method involves subtracting the entity-specific means from the variables to eliminate the individual-specific intercepts.\n",
        "\n",
        "3. `First Differences:`\n",
        "   This approach involves differencing the data to remove the individual-specific intercepts.\n",
        "\n",
        "Fixed Effects regression addresses the critical flaw of Pooled OLS— `omitted variable bias from unobserved heterogeneity`—by isolating within-entity variation. While less efficient, FE provides unbiased estimates when entity-specific traits correlate with regressors. Pooled OLS, though simpler, risks severe bias in such cases and is best used as a baseline or when heterogeneity is irrelevant.\n",
        "\n"
      ],
      "metadata": {
        "id": "5yvZkG34YQPI"
      }
    },
    {
      "cell_type": "markdown",
      "source": [
        "### Least Squares Dummy Variable (LSDV) Approach\n",
        "\n",
        " The Least Squares Dummy Variable (LSDV) model is a method used in fixed effect panel regression to account for individual-specific effects by including dummy variables for each entity. This method allows us to control for unobserved heterogeneity by including a separate intercept for each entity (Ariline).\n",
        "\n",
        "The LSDV model can be written as:\n",
        "\n",
        "$$ y_{it} = \\alpha + \\beta x_{it} + \\sum_{i=1}^{N-1} \\gamma_i D_i + \\epsilon_{it} $$\n",
        "\n",
        "Where:\n",
        "\n",
        "- $y_{it}$ is the dependent variable for entity $i$ at time $t$\n",
        "- $\\alpha$ is the overall intercept\n",
        "- $x_{it}$ is the explanatory variable for entity $i$ at time $t$\n",
        "- $\\beta$ is the coefficient for the explanatory variable $x_{it}$\n",
        "- $D_i$ is a dummy variable for entity $i$ (1 if the observation belongs to entity $i$, 0 otherwise)\n",
        "- $\\gamma_i$ is the coefficient for the dummy variable $D_i$\n",
        "- $\\epsilon_{it}$ is the error term\n",
        "\n",
        "The LSDV model allows us to estimate the effect of the explanatory variable $x_{it}$ while controlling for entity-specific effects. The dummy variables capture the entity-specific intercepts, allowing us to account for unobserved heterogeneity that is constant over time.\n",
        "\n",
        "The `plm()` function of {plm} package is used to estimate the `Fixed Effects (FE)` model using the `Least Squares Dummy Variable (LSDV)` approach. The model formula specifies the dependent variable (Cost) and independent variables (Q, PF, LF)."
      ],
      "metadata": {
        "id": "8Nb6p0gbYp9h"
      }
    },
    {
      "cell_type": "code",
      "source": [
        "%%R\n",
        "# Fit fixedx-effect model\n",
        "fixed.lsdv<-plm(Cost ~ Q + PF + LF+\n",
        "                    factor(Airline)-1,\n",
        "               data = my.pd)\n"
      ],
      "metadata": {
        "id": "nCWmlhwyE0sS"
      },
      "execution_count": null,
      "outputs": []
    },
    {
      "cell_type": "code",
      "source": [
        "%%R\n",
        "stargazer(fixed.lsdv,\n",
        "          report = \"vc*stp\",\n",
        "          type = \"text\")"
      ],
      "metadata": {
        "colab": {
          "base_uri": "https://localhost:8080/"
        },
        "id": "P736C4PTmem-",
        "outputId": "14bedf87-f95c-432d-eb9d-9977b23cb7b9"
      },
      "execution_count": null,
      "outputs": [
        {
          "output_type": "stream",
          "name": "stdout",
          "text": [
            "\n",
            "========================================\n",
            "                 Dependent variable:    \n",
            "             ---------------------------\n",
            "                        Cost            \n",
            "----------------------------------------\n",
            "Q                 3,319,023.000***      \n",
            "                    (171,354.100)       \n",
            "                     t = 19.369         \n",
            "                      p = 0.000         \n",
            "                                        \n",
            "PF                    0.773***          \n",
            "                       (0.097)          \n",
            "                      t = 7.944         \n",
            "                      p = 0.000         \n",
            "                                        \n",
            "LF                -3,797,368.000***     \n",
            "                    (613,773.100)       \n",
            "                     t = -6.187         \n",
            "                     p = 0.00000        \n",
            "                                        \n",
            "----------------------------------------\n",
            "Observations             90             \n",
            "R2                      0.929           \n",
            "Adjusted R2             0.922           \n",
            "F Statistic    355.254*** (df = 3; 81)  \n",
            "========================================\n",
            "Note:        *p<0.1; **p<0.05; ***p<0.01\n"
          ]
        }
      ]
    },
    {
      "cell_type": "code",
      "source": [
        "%%R\n",
        "performance::performance(fixed.lsdv)"
      ],
      "metadata": {
        "colab": {
          "base_uri": "https://localhost:8080/"
        },
        "id": "BLPzNZCtzc16",
        "outputId": "f2ae56ef-2471-4fdc-fc95-d7091c152c25"
      },
      "execution_count": null,
      "outputs": [
        {
          "output_type": "stream",
          "name": "stdout",
          "text": [
            "# Indices of model performance\n",
            "\n",
            "AIC      |     AICc |      BIC |    R2 | R2 (adj.) |      RMSE |     Sigma\n",
            "--------------------------------------------------------------------------\n",
            "2460.164 | 2460.634 | 2470.163 | 0.929 |     0.922 | 1.996e+05 | 2.030e+05\n"
          ]
        }
      ]
    },
    {
      "cell_type": "markdown",
      "source": [
        "### Fixed Effects Model using Within Model\n",
        "\n",
        "`plm()` function of {plm} package is used to estimate the `Fixed Effects (FE)` model. The model formula specifies the dependent variable (Cost) and independent variables (Q, PF, LF). The `data` argument specifies the panel data frame, and the `model` argument specifies the estimation method (`\"within\"` for FE)."
      ],
      "metadata": {
        "id": "f1ANcZdBzjRr"
      }
    },
    {
      "cell_type": "markdown",
      "source": [
        "#### One-way Fixed Effects Model\n",
        "\n",
        "One-way fixed effect model is used to estimate the effect of the explanatory variables while controlling for individual-specific effects. The `within` transformation is applied to the data to remove the individual-specific intercepts. The model formula specifies the dependent variable (Cost) and independent variables (Q, PF, LF)."
      ],
      "metadata": {
        "id": "DbClqvHtazcM"
      }
    },
    {
      "cell_type": "code",
      "source": [
        "%%R\n",
        "# Fit fixedx-effect model\n",
        "fixed.model.one<-plm(Cost ~ Q + PF + LF,\n",
        "               data = my.pd,\n",
        "               model = \"within\")\n"
      ],
      "metadata": {
        "id": "9RqHRY78zkGw"
      },
      "execution_count": null,
      "outputs": []
    },
    {
      "cell_type": "code",
      "source": [
        "%%R\n",
        "stargazer(fixed.model.one,\n",
        "          report = \"vc*stp\",\n",
        "          type = \"text\")"
      ],
      "metadata": {
        "id": "DfILknNizq44",
        "colab": {
          "base_uri": "https://localhost:8080/"
        },
        "outputId": "96229f47-381e-42ad-910b-f65ab8c83f5e"
      },
      "execution_count": null,
      "outputs": [
        {
          "output_type": "stream",
          "name": "stdout",
          "text": [
            "\n",
            "========================================\n",
            "                 Dependent variable:    \n",
            "             ---------------------------\n",
            "                        Cost            \n",
            "----------------------------------------\n",
            "Q                 3,319,023.000***      \n",
            "                    (171,354.100)       \n",
            "                     t = 19.369         \n",
            "                      p = 0.000         \n",
            "                                        \n",
            "PF                    0.773***          \n",
            "                       (0.097)          \n",
            "                      t = 7.944         \n",
            "                      p = 0.000         \n",
            "                                        \n",
            "LF                -3,797,368.000***     \n",
            "                    (613,773.100)       \n",
            "                     t = -6.187         \n",
            "                     p = 0.00000        \n",
            "                                        \n",
            "----------------------------------------\n",
            "Observations             90             \n",
            "R2                      0.929           \n",
            "Adjusted R2             0.922           \n",
            "F Statistic    355.254*** (df = 3; 81)  \n",
            "========================================\n",
            "Note:        *p<0.1; **p<0.05; ***p<0.01\n"
          ]
        }
      ]
    },
    {
      "cell_type": "markdown",
      "source": [
        "The fixed effects of a fixed effects model may be extracted easily using `fixef()`. An argument type indicates how fixed effects should be computed: in levels by `type = \"level\"` (the default), in deviations from the overall mean by `type = \"dmean\"` or in deviations from the first individual by `type = \"dfirst\"`"
      ],
      "metadata": {
        "id": "J8MZSYJSaSZq"
      }
    },
    {
      "cell_type": "code",
      "source": [
        "%%R\n",
        "summary(fixef(fixed.model.one, type = \"dmean\"))"
      ],
      "metadata": {
        "colab": {
          "base_uri": "https://localhost:8080/"
        },
        "id": "63BElcb5p1do",
        "outputId": "620f5902-ca89-420d-db8d-b1147ed90985"
      },
      "execution_count": null,
      "outputs": [
        {
          "output_type": "stream",
          "name": "stdout",
          "text": [
            "  Estimate Std. Error t-value  Pr(>|t|)    \n",
            "1 -1208539     350777 -3.4453 0.0009064 ***\n",
            "2  -606806     309078 -1.9633 0.0530462 .  \n",
            "3   128642     332355  0.3871 0.6997261    \n",
            "4   569053     318348  1.7875 0.0775943 .  \n",
            "5   619714     334776  1.8511 0.0677955 .  \n",
            "6   497936     307316  1.6203 0.1090609    \n",
            "---\n",
            "Signif. codes:  0 ‘***’ 0.001 ‘**’ 0.01 ‘*’ 0.05 ‘.’ 0.1 ‘ ’ 1\n"
          ]
        }
      ]
    },
    {
      "cell_type": "code",
      "source": [
        "%%R\n",
        "performance::performance(fixed.model.one)"
      ],
      "metadata": {
        "colab": {
          "base_uri": "https://localhost:8080/"
        },
        "id": "JJP_P_u1p8Ox",
        "outputId": "68fbb2c8-42a0-4c2a-d922-1807fcb998ae"
      },
      "execution_count": null,
      "outputs": [
        {
          "output_type": "stream",
          "name": "stdout",
          "text": [
            "# Indices of model performance\n",
            "\n",
            "AIC      |     AICc |      BIC |    R2 | R2 (adj.) |      RMSE |     Sigma\n",
            "--------------------------------------------------------------------------\n",
            "2460.164 | 2460.634 | 2470.163 | 0.929 |     0.922 | 1.996e+05 | 2.030e+05\n"
          ]
        }
      ]
    },
    {
      "cell_type": "markdown",
      "source": [
        "#### Twoway Fixed Effects Model\n",
        "\n",
        "In case of a two-ways fixed effect model, argument `effect` is relevant in function `fixef` to extract specific effect fixed effects with possible values `\"individual\"` for individual fixed effects (default for two-ways fixed effect models), `\"time\"` for time fixed effects, and `\"twoways\"` for the sum of individual and time fixed effects. Example to extract the time fixed effects from a two-ways model:"
      ],
      "metadata": {
        "id": "dzvSeoUGpjUp"
      }
    },
    {
      "cell_type": "code",
      "source": [
        "%%R\n",
        "# Fit fixedx-effect model\n",
        "fixed.model.two<-plm(Cost ~ Q + PF + LF,\n",
        "               data = my.pd,\n",
        "               model = \"within\",\n",
        "               effect = \"twoways\")\n"
      ],
      "metadata": {
        "id": "uG1mAjM8plOK"
      },
      "execution_count": null,
      "outputs": []
    },
    {
      "cell_type": "code",
      "source": [
        "%%R\n",
        "stargazer(fixed.model.two,\n",
        "          report = \"vc*stp\",\n",
        "          type = \"text\")"
      ],
      "metadata": {
        "colab": {
          "base_uri": "https://localhost:8080/"
        },
        "id": "uL2WlJyueibe",
        "outputId": "66294206-efe7-4670-f850-490aecd38aeb"
      },
      "execution_count": null,
      "outputs": [
        {
          "output_type": "stream",
          "name": "stdout",
          "text": [
            "\n",
            "========================================\n",
            "                 Dependent variable:    \n",
            "             ---------------------------\n",
            "                        Cost            \n",
            "----------------------------------------\n",
            "Q                 3,416,062.000***      \n",
            "                    (203,851.000)       \n",
            "                     t = 16.758         \n",
            "                      p = 0.000         \n",
            "                                        \n",
            "PF                      1.515           \n",
            "                       (2.377)          \n",
            "                      t = 0.637         \n",
            "                      p = 0.527         \n",
            "                                        \n",
            "LF                -2,926,555.000***     \n",
            "                   (1,075,797.000)      \n",
            "                     t = -2.720         \n",
            "                      p = 0.009         \n",
            "                                        \n",
            "----------------------------------------\n",
            "Observations             90             \n",
            "R2                      0.814           \n",
            "Adjusted R2             0.753           \n",
            "F Statistic    97.570*** (df = 3; 67)   \n",
            "========================================\n",
            "Note:        *p<0.1; **p<0.05; ***p<0.01\n"
          ]
        }
      ]
    },
    {
      "cell_type": "code",
      "source": [
        "%%R\n",
        "summary(fixef(fixed.model.two, effect = \"time\"))"
      ],
      "metadata": {
        "colab": {
          "base_uri": "https://localhost:8080/"
        },
        "id": "UzseAR3ocfVV",
        "outputId": "6ddaacd3-04f4-46c0-8816-852bd8ddfea7"
      },
      "execution_count": null,
      "outputs": [
        {
          "output_type": "stream",
          "name": "stdout",
          "text": [
            "       Estimate\n",
            "1970  -792073.7\n",
            "1971  -777889.2\n",
            "1972  -793917.9\n",
            "1973  -872165.3\n",
            "1974  -842423.9\n",
            "1975  -921339.8\n",
            "1976 -1002737.7\n",
            "1977 -1072031.0\n",
            "1978 -1141541.9\n",
            "1979 -1387679.6\n",
            "1980 -1503236.8\n",
            "1981 -1521504.0\n",
            "1982 -1477666.4\n",
            "1983 -1470034.9\n",
            "1984 -1391129.0\n"
          ]
        }
      ]
    },
    {
      "cell_type": "markdown",
      "source": [
        "### Testing for Fixed Effects (Observed Heterogeneity)\n",
        "\n",
        "The `pFtest()` function is used to perform the `F-test` for fixed effects in panel data regression models. This test is used to determine whether the fixed effects model is significantly better than the pooled OLS model. In other words, it tests whether individual-specific effects are necessary to account for unobserved heterogeneity in the data."
      ],
      "metadata": {
        "id": "HnnT3POtqmH7"
      }
    },
    {
      "cell_type": "code",
      "source": [
        "%%R\n",
        "pFtest(fixed.lsdv, pooled.model)\n"
      ],
      "metadata": {
        "colab": {
          "base_uri": "https://localhost:8080/"
        },
        "id": "cRJJ5MCxpp56",
        "outputId": "25cb9913-9bbf-4e3e-9e82-0ca0927d3c97"
      },
      "execution_count": null,
      "outputs": [
        {
          "output_type": "stream",
          "name": "stdout",
          "text": [
            "\n",
            "\tF test for individual effects\n",
            "\n",
            "data:  Cost ~ Q + PF + LF + factor(Airline) - 1\n",
            "F = 14.595, df1 = 5, df2 = 81, p-value = 3.467e-10\n",
            "alternative hypothesis: significant effects\n",
            "\n"
          ]
        }
      ]
    },
    {
      "cell_type": "code",
      "source": [
        "%%R\n",
        "# Perform the F-test for fixed effects\n",
        "pFtest(fixed.model.one, pooled.model)"
      ],
      "metadata": {
        "colab": {
          "base_uri": "https://localhost:8080/"
        },
        "id": "uHZy4c_ycVOD",
        "outputId": "41a09531-0f3e-4321-9863-8001519f2d11"
      },
      "execution_count": null,
      "outputs": [
        {
          "output_type": "stream",
          "name": "stdout",
          "text": [
            "\n",
            "\tF test for individual effects\n",
            "\n",
            "data:  Cost ~ Q + PF + LF\n",
            "F = 14.595, df1 = 5, df2 = 81, p-value = 3.467e-10\n",
            "alternative hypothesis: significant effects\n",
            "\n"
          ]
        }
      ]
    },
    {
      "cell_type": "code",
      "source": [
        "%%R\n",
        "# Perform the F-test for fixed effects\n",
        "pFtest(fixed.model.two, pooled.model)"
      ],
      "metadata": {
        "colab": {
          "base_uri": "https://localhost:8080/"
        },
        "id": "3cnTxFlucVd8",
        "outputId": "e43e7916-9e2c-4a7f-c76f-fa1d79e82f83"
      },
      "execution_count": null,
      "outputs": [
        {
          "output_type": "stream",
          "name": "stdout",
          "text": [
            "\n",
            "\tF test for twoways effects\n",
            "\n",
            "data:  Cost ~ Q + PF + LF\n",
            "F = 3.7313, df1 = 19, df2 = 67, p-value = 3.319e-05\n",
            "alternative hypothesis: significant effects\n",
            "\n"
          ]
        }
      ]
    },
    {
      "cell_type": "markdown",
      "source": [
        "\n",
        "\n",
        "The p-value of the F-test is lower than 0.05 (reject the null hypothesis), indicating that the fixed model is significantly better than the pooled model. This suggests that individual-specific effects are necessary to account for unobserved heterogeneity in the data.\n"
      ],
      "metadata": {
        "id": "Me76oi-ycop9"
      }
    },
    {
      "cell_type": "markdown",
      "source": [
        "## Random Effect Model\n",
        "\n",
        "`Random Effects (RE) Panel Regression` is a method used to analyze panel data by accounting for unobserved heterogeneity across entities (e.g., firms, countries, individuals) that is uncorrelated with the explanatory variables. Unlike Fixed Effects (FE) models, which control for entity-specific effects, Random Effects models allow for entity-specific effects that are uncorrelated with the regressors. In RE models, it is assumed that the individual-specific effects are uncorrelated with the explanatory variables. This method allows for more efficient estimates compared to fixed effects (FE) models when the assumption of no correlation holds true.\n",
        "\n",
        "Key Features of Random Effects Model are:\n",
        "\n",
        "1. `Random Individual-specific Effects:`\n",
        "   The RE model includes random individual-specific effects that are assumed to be uncorrelated with the explanatory variables. These effects capture unobserved heterogeneity across entities.\n",
        "\n",
        "2. `Efficiency:`\n",
        "   By assuming that individual-specific effects are random, the RE model uses both within-entity and between-entity variations, making it more efficient than the fixed effects model.\n",
        "\n",
        "3. `Generalization:`\n",
        "   The RE model generalizes the fixed effects model by allowing for the possibility that individual-specific effects are not fixed but random.\n",
        "\n",
        "\n",
        "The RE model can be written as:\n",
        "\n",
        "$$ y_{it} = \\alpha + \\beta x_{it} + u_i + \\epsilon_{it} $$\n",
        "Where:\n",
        "\n",
        "- $y_{it}$ is the dependent variable for entity $i$ at time $t$\n",
        "- $\\alpha$ is the overall intercept\n",
        "- $x_{it}$ is the explanatory variable for entity $i$ at time $t$\n",
        "- $\\beta$ is the coefficient for the explanatory variable $x_{it}$\n",
        "- $u_i$ is the random effect specific to entity $i$\n",
        "- $\\epsilon_{it}$ is the idiosyncratic error term\n",
        "\n",
        "\n",
        "In the RE model, $u_i$ is treated as a random variable that follows a normal distribution with mean zero and variance $\\sigma_u^2$.\n",
        "\n",
        "Differences between Random Effects and Fixed Effects Models are summarized below:\n",
        "\n",
        "\n",
        "| Feature              | Random Effects (RE) Model                     | Fixed Effects (FE) Model                          |\n",
        "|----------------------|-----------------------------------------------|---------------------------------------------------|\n",
        "| Correlation          | Assumes no correlation between $u_i$ and $x_{it}$ | Assumes $u_i$ is correlated with $x_{it}$ |\n",
        "| Efficiency           | More efficient if the assumption holds true   | Less efficient due to loss of degrees of freedom  |\n",
        "| Estimation           | Uses Generalized Least Squares (GLS)          | Uses Least Squares Dummy Variable (LSDV) or Within Estimator |\n",
        "| Interpretation       | Considers both within and between variation   | Considers only within variation                   |\n",
        "| Dummy Variables      | Does not include dummy variables for entities | Includes dummy variables for each entity          |"
      ],
      "metadata": {
        "id": "1ZxtDmJJcqx2"
      }
    },
    {
      "cell_type": "markdown",
      "source": [
        "### Fit Random Effects Model\n",
        "\n",
        "The `plm()` function of {plm} package is used to estimate the `Random Effects (RE)` model. The model formula specifies the dependent variable (Cost) and independent variables (Q, PF, LF). The `data` argument specifies the panel data frame, and the `model` argument specifies the estimation method (`\"random\"` for RE). Argument `random.method` is the variance component the random effects model. The default is `swar` (the Swamy-Arora estimator).\n",
        "\n",
        "Four estimators of this parameter are available, depending on the value of the argument random.method:\n",
        "\n",
        "- `\"swar\"`: from Swamy and Arora (1972), the default value,\n",
        "- `\"walhus\"`: from Wallace and Hussain (1969),\n",
        "- `\"amemiya\"`: from T. Amemiya (1971),\n",
        "- `\"nerlove\"`: from Nerlove (1971).\n",
        "- `\"ht\"`: for Hausman-Taylor-type instrumental variable (IV) estimation,"
      ],
      "metadata": {
        "id": "ZhfARsWQcxHv"
      }
    },
    {
      "cell_type": "markdown",
      "source": [
        "#### One-way Random-effect model"
      ],
      "metadata": {
        "id": "d9iKzO0TcyXu"
      }
    },
    {
      "cell_type": "code",
      "source": [
        "%%R\n",
        "# Fit One-way Random-effect model\n",
        "random.model.one<-plm(Cost ~ Q + PF + LF,\n",
        "               data = my.pd,\n",
        "               model = \"random\",\n",
        "               random.method=\"swar\")\n"
      ],
      "metadata": {
        "colab": {
          "base_uri": "https://localhost:8080/"
        },
        "id": "e8GXimNJc2BW",
        "outputId": "ceb0d190-2771-4f2c-d16f-5baf961aaa94"
      },
      "execution_count": null,
      "outputs": [
        {
          "output_type": "stream",
          "name": "stdout",
          "text": [
            "Oneway (individual) effect Random Effect Model \n",
            "   (Swamy-Arora's transformation)\n",
            "\n",
            "Call:\n",
            "plm(formula = Cost ~ Q + PF + LF, data = my.pd, model = \"random\", \n",
            "    random.method = \"swar\")\n",
            "\n",
            "Balanced Panel: n = 6, T = 15, N = 90\n",
            "\n",
            "Effects:\n",
            "                    var   std.dev share\n",
            "idiosyncratic 4.428e+10 2.104e+05 0.793\n",
            "individual    1.154e+10 1.074e+05 0.207\n",
            "theta: 0.5486\n",
            "\n",
            "Residuals:\n",
            "   Min. 1st Qu.  Median 3rd Qu.    Max. \n",
            "-535726 -238494   49890  207491  722934 \n",
            "\n",
            "Coefficients:\n",
            "               Estimate  Std. Error z-value  Pr(>|z|)    \n",
            "(Intercept)  1.0743e+06  3.7747e+05  2.8461  0.004427 ** \n",
            "Q            2.2886e+06  1.0949e+05 20.9015 < 2.2e-16 ***\n",
            "PF           1.1236e+00  1.0344e-01 10.8622 < 2.2e-16 ***\n",
            "LF          -3.0850e+06  7.2568e+05 -4.2512 2.126e-05 ***\n",
            "---\n",
            "Signif. codes:  0 ‘***’ 0.001 ‘**’ 0.01 ‘*’ 0.05 ‘.’ 0.1 ‘ ’ 1\n",
            "\n",
            "Total Sum of Squares:    6.6198e+13\n",
            "Residual Sum of Squares: 5.8721e+12\n",
            "R-Squared:      0.91129\n",
            "Adj. R-Squared: 0.9082\n",
            "Chisq: 883.501 on 3 DF, p-value: < 2.22e-16\n"
          ]
        }
      ]
    },
    {
      "cell_type": "code",
      "source": [
        "%%R\n",
        "stargazer(random.model.one,\n",
        "          report = \"vc*stp\",\n",
        "          type = \"text\")"
      ],
      "metadata": {
        "colab": {
          "base_uri": "https://localhost:8080/"
        },
        "id": "bNuK_YfjewV4",
        "outputId": "8e3815ac-54db-4cb7-a72e-075a5ed6c7ad"
      },
      "execution_count": null,
      "outputs": [
        {
          "output_type": "stream",
          "name": "stdout",
          "text": [
            "\n",
            "========================================\n",
            "                 Dependent variable:    \n",
            "             ---------------------------\n",
            "                        Cost            \n",
            "----------------------------------------\n",
            "Q                 2,288,588.000***      \n",
            "                    (109,493.700)       \n",
            "                     t = 20.902         \n",
            "                      p = 0.000         \n",
            "                                        \n",
            "PF                    1.124***          \n",
            "                       (0.103)          \n",
            "                     t = 10.862         \n",
            "                      p = 0.000         \n",
            "                                        \n",
            "LF                -3,084,994.000***     \n",
            "                    (725,679.800)       \n",
            "                     t = -4.251         \n",
            "                     p = 0.00003        \n",
            "                                        \n",
            "Constant          1,074,293.000***      \n",
            "                    (377,468.000)       \n",
            "                      t = 2.846         \n",
            "                      p = 0.005         \n",
            "                                        \n",
            "----------------------------------------\n",
            "Observations             90             \n",
            "R2                      0.911           \n",
            "Adjusted R2             0.908           \n",
            "F Statistic          883.501***         \n",
            "========================================\n",
            "Note:        *p<0.1; **p<0.05; ***p<0.01\n"
          ]
        }
      ]
    },
    {
      "cell_type": "markdown",
      "source": [
        "The estimation of the variance of the error components are performed using the `ercomp()` function, which has a method and an effect argument, and can be used by itself:"
      ],
      "metadata": {
        "id": "P06AI81Ue2Y-"
      }
    },
    {
      "cell_type": "code",
      "source": [
        "%%R\n",
        "ercomp(random.model.one, effect = \"twoways\")"
      ],
      "metadata": {
        "colab": {
          "base_uri": "https://localhost:8080/"
        },
        "id": "H-Vzd2LJe3IS",
        "outputId": "6c1d290f-416a-480e-8ebf-5f553ecd9345"
      },
      "execution_count": null,
      "outputs": [
        {
          "output_type": "stream",
          "name": "stdout",
          "text": [
            "                    var   std.dev share\n",
            "idiosyncratic 4.428e+10 2.104e+05 0.793\n",
            "individual    1.154e+10 1.074e+05 0.207\n",
            "theta: 0.5486\n"
          ]
        }
      ]
    },
    {
      "cell_type": "code",
      "source": [
        "%%R\n",
        "performance::performance(random.model.one)"
      ],
      "metadata": {
        "colab": {
          "base_uri": "https://localhost:8080/"
        },
        "id": "L-T7zYiSe7eM",
        "outputId": "00965f58-acd2-4037-9921-af0af304e5ba"
      },
      "execution_count": null,
      "outputs": [
        {
          "output_type": "stream",
          "name": "stdout",
          "text": [
            "# Indices of model performance\n",
            "\n",
            "AIC      |     AICc |      BIC |    R2 | R2 (adj.) |      RMSE |     Sigma\n",
            "--------------------------------------------------------------------------\n",
            "2506.537 | 2507.251 | 2519.036 | 0.911 |     0.908 | 2.554e+05 | 2.613e+05\n"
          ]
        }
      ]
    },
    {
      "cell_type": "markdown",
      "source": [
        "#### Two-ways Random-effect model\n",
        "\n",
        "The default behavior of `plm()` is to introduce individual effects. Using the effect argument, one may also introduce:\n",
        "\n",
        "- time effects (`effect = \"time\"`),\n",
        "- individual and time effects (`effect = \"twoways\"`)."
      ],
      "metadata": {
        "id": "a71snxY0fA_2"
      }
    },
    {
      "cell_type": "code",
      "source": [
        "%%R\n",
        "# Fit two-way random effect model\n",
        "random.model.two<-plm(Cost ~ Q + PF + LF,\n",
        "               data = my.pd,\n",
        "               model = \"random\",\n",
        "               effect = \"twoways\",\n",
        "               random.method=\"swar\")\n"
      ],
      "metadata": {
        "id": "xKw_R2IFfByE"
      },
      "execution_count": null,
      "outputs": []
    },
    {
      "cell_type": "code",
      "source": [
        "%%R\n",
        "stargazer(random.model.two,\n",
        "          report = \"vc*stp\",\n",
        "          type = \"text\")"
      ],
      "metadata": {
        "colab": {
          "base_uri": "https://localhost:8080/"
        },
        "id": "XVOnPRkjfY0b",
        "outputId": "db21f692-07bc-496b-bb35-1f52acd2a94c"
      },
      "execution_count": null,
      "outputs": [
        {
          "output_type": "stream",
          "name": "stdout",
          "text": [
            "\n",
            "========================================\n",
            "                 Dependent variable:    \n",
            "             ---------------------------\n",
            "                        Cost            \n",
            "----------------------------------------\n",
            "Q                 2,260,137.000***      \n",
            "                    (105,825.300)       \n",
            "                     t = 21.357         \n",
            "                      p = 0.000         \n",
            "                                        \n",
            "PF                    1.134***          \n",
            "                       (0.103)          \n",
            "                     t = 10.955         \n",
            "                      p = 0.000         \n",
            "                                        \n",
            "LF                -3,070,229.000***     \n",
            "                    (727,083.300)       \n",
            "                     t = -4.223         \n",
            "                     p = 0.00003        \n",
            "                                        \n",
            "Constant          1,076,780.000***      \n",
            "                    (377,896.900)       \n",
            "                      t = 2.849         \n",
            "                      p = 0.005         \n",
            "                                        \n",
            "----------------------------------------\n",
            "Observations             90             \n",
            "R2                      0.913           \n",
            "Adjusted R2             0.910           \n",
            "F Statistic          897.757***         \n",
            "========================================\n",
            "Note:        *p<0.1; **p<0.05; ***p<0.01\n"
          ]
        }
      ]
    },
    {
      "cell_type": "code",
      "source": [
        "%%R\n",
        "performance::performance(random.model.two)"
      ],
      "metadata": {
        "colab": {
          "base_uri": "https://localhost:8080/"
        },
        "id": "opqRgEJHf_3K",
        "outputId": "e67483a4-aad3-4de4-83e7-71803ca2f8df"
      },
      "execution_count": null,
      "outputs": [
        {
          "output_type": "stream",
          "name": "stdout",
          "text": [
            "# Indices of model performance\n",
            "\n",
            "AIC      |     AICc |      BIC |    R2 | R2 (adj.) |      RMSE |     Sigma\n",
            "--------------------------------------------------------------------------\n",
            "2507.636 | 2508.350 | 2520.135 | 0.913 |     0.910 | 2.570e+05 | 2.629e+05\n"
          ]
        }
      ]
    },
    {
      "cell_type": "markdown",
      "source": [
        "### Test for Random Effects\n",
        "\n",
        "The H`ausman test is used to compare the random effects model with the fixed effects model. It tests whether the individual-specific effects are correlated with the explanatory variables. If the p-value is less than the chosen significance level (e.g., 0.05), we reject the null hypothesis and conclude that the fixed effects model is more appropriate.\n",
        "\n",
        "- **Null Hypothesis (H0):** The individual-specific effects are uncorrelated with the explanatory variables (RE model is appropriate).\n",
        "- **Alternative Hypothesis (H1):** The individual-specific effects are correlated with the explanatory variables (FE model is appropriate).\n",
        "\n",
        "If the p-value is less than the chosen significance level, we reject the null hypothesis and conclude that the fixed effects model is more appropriate.\n",
        "\n",
        "The `phtest()` function is used to perform the Hausman test, which helps compare the fixed effects (FE) model with the random effects (RE) model in panel data analysis.\n"
      ],
      "metadata": {
        "id": "ztj2a455fgEH"
      }
    },
    {
      "cell_type": "code",
      "source": [
        "%%R\n",
        "phtest(fixed.model.one, random.model.one)"
      ],
      "metadata": {
        "colab": {
          "base_uri": "https://localhost:8080/"
        },
        "id": "hfgUfV9ifiol",
        "outputId": "f6ff058b-8063-40b2-9d3a-bc63bd76ca86"
      },
      "execution_count": null,
      "outputs": [
        {
          "output_type": "stream",
          "name": "stdout",
          "text": [
            "\n",
            "\tHausman Test\n",
            "\n",
            "data:  Cost ~ Q + PF + LF\n",
            "chisq = 61.505, df = 3, p-value = 2.803e-13\n",
            "alternative hypothesis: one model is inconsistent\n",
            "\n"
          ]
        }
      ]
    },
    {
      "cell_type": "code",
      "source": [
        "%%R\n",
        "phtest(fixed.model.two, random.model.two)"
      ],
      "metadata": {
        "colab": {
          "base_uri": "https://localhost:8080/"
        },
        "id": "4JYd88qfgMO3",
        "outputId": "0b239d2b-f751-492c-a65e-364e6e179490"
      },
      "execution_count": null,
      "outputs": [
        {
          "output_type": "stream",
          "name": "stdout",
          "text": [
            "\n",
            "\tHausman Test\n",
            "\n",
            "data:  Cost ~ Q + PF + LF\n",
            "chisq = 61.505, df = 3, p-value = 2.803e-13\n",
            "alternative hypothesis: one model is inconsistent\n",
            "\n"
          ]
        }
      ]
    },
    {
      "cell_type": "markdown",
      "source": [
        "\n",
        "The p-value of the `Hausman test` is less than 0.05, indicating that we reject the null hypothesis of no correlation between individual-specific effects and the explanatory variables. This suggests that the fixed effects model is more appropriate than the random effects model."
      ],
      "metadata": {
        "id": "UZuI8SyagXFa"
      }
    },
    {
      "cell_type": "markdown",
      "source": [
        "## Dynamic Panel Regression (GMM)\n",
        "\n",
        "Dynamic Panel Regression using Generalized Method of Moments (GMM) is a statistical technique used to estimate panel data models that include lagged dependent variables as regressors. This method is particularly useful when dealing with endogeneity issues, where explanatory variables are correlated with the error term. GMM helps in obtaining consistent and efficient estimates by using instrumental variables.\n",
        "\n",
        "Key Concepts in Dynamic Panel Regression include:\n",
        "\n",
        "1. `Lagged Dependent Variable`: The previous values of the dependent variable are used as regressors.\n",
        "2. `Endogeneity`: When explanatory variables are correlated with the error term.\n",
        "3. `Instrumental Variables`: Variables that are uncorrelated with the error term and can be used as instruments to address endogeneity.\n",
        "4. `GMM Estimation`: A method that uses moment conditions to obtain parameter estimates.\n",
        "\n",
        "The dynamic panel data model can be written as:\n",
        "\n",
        "$$ y_{it} = \\alpha y_{it-1} + \\beta x_{it} + \\epsilon_{it} $$\n",
        "Where:\n",
        "\n",
        "- $y_{it}$ is the dependent variable for entity $i$ at time $t$\n",
        "- $y_{it-1}$ is the lagged dependent variable\n",
        "- $x_{it}$ is a vector of explanatory variables\n",
        "- $\\alpha$ and $\\beta$ are the coefficients to be estimated\n",
        "- $\\epsilon_{it}$ is the error term"
      ],
      "metadata": {
        "id": "YdTVXo-FgYLA"
      }
    },
    {
      "cell_type": "markdown",
      "source": [
        "### Data\n",
        "\n",
        "In this example, we will estimate a dynamic panel model with a lagged dependent variable as a regressor. We use `Produc`` dataset from the {plm} package for this example. Dataset is a panel of  48 observations from 1970 to 1986 and contains following variables:\n",
        "\n",
        "`state:` the state\n",
        "\n",
        "`year`: the year\n",
        "\n",
        "`region`: the region\n",
        "\n",
        "`pcap`: public capital stock\n",
        "\n",
        "`hwy`: highway and streets\n",
        "\n",
        "`water`: water and sewer facilities\n",
        "\n",
        "`util`: other public buildings and structures\n",
        "\n",
        "`pc`: private capital stock\n",
        "\n",
        "`gsp`: gross state product\n",
        "\n",
        "`emp`: labor input measured by the employment in non–agricultural payrolls\n",
        "\n",
        "`unemp`: state unemployment rate"
      ],
      "metadata": {
        "id": "01CWRbcQqtz-"
      }
    },
    {
      "cell_type": "code",
      "source": [
        "%%R\n",
        "# Load sample data\n",
        "data(\"EmplUK\", package = \"plm\")\n",
        "# Define a panel data frame\n",
        "pdata <- pdata.frame(EmplUK, index = c(\"firm\", \"year\"))\n",
        "head(pdata)"
      ],
      "metadata": {
        "colab": {
          "base_uri": "https://localhost:8080/"
        },
        "id": "Anc3-MkWqxPo",
        "outputId": "7337c679-2ec6-4716-c196-5dce381e6e46"
      },
      "execution_count": null,
      "outputs": [
        {
          "output_type": "stream",
          "name": "stdout",
          "text": [
            "       firm year sector   emp    wage capital   output\n",
            "1-1977    1 1977      7 5.041 13.1516  0.5894  95.7072\n",
            "1-1978    1 1978      7 5.600 12.3018  0.6318  97.3569\n",
            "1-1979    1 1979      7 5.015 12.8395  0.6771  99.6083\n",
            "1-1980    1 1980      7 4.715 13.8039  0.6171 100.5501\n",
            "1-1981    1 1981      7 4.093 14.2897  0.5076  99.5581\n",
            "1-1982    1 1982      7 3.166 14.8681  0.4229  98.6151\n"
          ]
        }
      ]
    },
    {
      "cell_type": "markdown",
      "source": [
        "### Fit Dynamic Panel Regression (GMM) Model\n",
        "\n",
        "To perform dynamic panel regression using GMM in R, we can use the {plm} package along with the `pgmm()` function. The `pgmm()` function estimates the model using the Generalized Method of Moments (GMM) approach.\n",
        "\n",
        "* `pgmm` function is used to fit a Generalized Method of Moments (GMM) model.\n",
        "* `emp ~ lag(emp, 1) + capital + output` specifies the regression formula where `emp` (employment) is the dependent variable, and lagged employment (`lag(emp, 1)`), capital, and output are the independent variables.\n",
        "* `lag(emp, 2:99)` specifies the instruments, which in this case are lagged values of employment from the second lag onwards.\n",
        "* `effect = \"twoways\"` indicates that both individual and time effects are included in the model.\n",
        "* `model = \"twosteps\"` specifies that the two-step GMM estimator is used."
      ],
      "metadata": {
        "id": "fyuNiO-Tq4t-"
      }
    },
    {
      "cell_type": "code",
      "source": [
        "%%R\n",
        "# Fit the GMM model\n",
        "# Example model: Employment (emp) as a function of lagged employment (lag(emp)), capital (capital), and output (output)\n",
        "gmm_model <- pgmm(emp ~ lag(emp, 1) + capital + output | lag(emp, 2:99), data = pdata,\n",
        "                  effect = \"twoways\",\n",
        "                  model = \"twosteps\")\n",
        "summary(gmm_model)"
      ],
      "metadata": {
        "colab": {
          "base_uri": "https://localhost:8080/"
        },
        "id": "mdL3__lZq-Rg",
        "outputId": "74213c4d-9503-491a-8a65-71c334678363"
      },
      "execution_count": null,
      "outputs": [
        {
          "output_type": "stream",
          "name": "stdout",
          "text": [
            "Twoways effects Two-steps model Difference GMM \n",
            "\n",
            "Call:\n",
            "pgmm(formula = emp ~ lag(emp, 1) + capital + output | lag(emp, \n",
            "    2:99), data = pdata, effect = \"twoways\", model = \"twosteps\")\n",
            "\n",
            "Unbalanced Panel: n = 140, T = 7-9, N = 1031\n",
            "\n",
            "Number of Observations Used: 751\n",
            "Residuals:\n",
            "    Min.  1st Qu.   Median     Mean  3rd Qu.     Max. \n",
            "-26.2233  -0.1014   0.0000  -0.0489   0.1542  24.0927 \n",
            "\n",
            "Coefficients:\n",
            "            Estimate Std. Error z-value Pr(>|z|)   \n",
            "lag(emp, 1)  0.73118    0.25733  2.8414 0.004491 **\n",
            "capital      0.77554    0.65885  1.1771 0.239151   \n",
            "output      -0.02177    0.02082 -1.0456 0.295729   \n",
            "---\n",
            "Signif. codes:  0 ‘***’ 0.001 ‘**’ 0.01 ‘*’ 0.05 ‘.’ 0.1 ‘ ’ 1\n",
            "\n",
            "Sargan test: chisq(27) = 56.24425 (p-value = 0.00080133)\n",
            "Autocorrelation test (1): normal = -1.264517 (p-value = 0.20604)\n",
            "Autocorrelation test (2): normal = -1.609374 (p-value = 0.10753)\n",
            "Wald test for coefficients: chisq(3) = 67.09298 (p-value = 1.7888e-14)\n",
            "Wald test for time dummies: chisq(7) = 9.752898 (p-value = 0.20301)\n"
          ]
        }
      ]
    },
    {
      "cell_type": "markdown",
      "source": [
        "- `Coefficients`**:` The coefficients for the lagged dependent variable and the explanatory variables represent their effects on the dependent variable.\n",
        "- `Sargan Test`: Tests the validity of the instruments. A high p-value indicates that the instruments are valid.\n",
        "- `AR(1) and AR(2) Tests`: Test for serial correlation in the error term. The AR(1) test should reject the null hypothesis (indicating first-order serial correlation), while the AR(2) test should not reject the null hypothesis (indicating no second-order serial correlation).\n",
        "- `waldtest`: Tests the joint significance of the coefficients. A low p-value indicates that at least one coefficient is significantly different from zero.\n"
      ],
      "metadata": {
        "id": "fr6FK8v-rE_3"
      }
    },
    {
      "cell_type": "markdown",
      "source": [
        "## Variable Coefficients Model\n",
        "\n",
        "Variable Coefficients Model for Panel Data allow regression coefficients to vary across entities (e.g., firms, states) or time periods. Unlike standard fixed/random effects models (which assume constant slopes), these models capture heterogeneity in how variables affect outcomes. Common types include:\n",
        "\n",
        "1. Random Coefficients Models (RCM)**:  \n",
        "   Coefficients are treated as random variables drawn from a distribution (e.g., normal).  \n",
        "   Example: Swamy’s model, which estimates mean coefficients and their variance across entities.\n",
        "\n",
        "2. Fixed Coefficients by Group:  \n",
        "   Coefficients differ across predefined groups (e.g., regions) but are fixed within groups.\n",
        "   \n",
        "   \n",
        "Key Differences Between Models are as follows:\n",
        "\n",
        "| **Model**              | **Assumption**                          | **Use Case**                               |\n",
        "|------------------------|-----------------------------------------|--------------------------------------------|\n",
        "| `Fixed Coefficients` | Coefficients differ across entities (fixed). | When group-specific effects are distinct (e.g., policy impacts vary by state). |\n",
        "| `Random Coefficients`| Coefficients follow a distribution.     | When coefficients are heterogeneous but share a common structure. |\n",
        "\n",
        "\n",
        "Variable Coefficients Models` are useful when:\n",
        "\n",
        "- `Policy Analysis`: If a tax policy’s effect differs across states.  \n",
        "- `Firm Studies`: When R&D spending impacts vary by industry.  \n",
        "- `Efficiency`: Use random coefficients if you want to generalize beyond the sample.  \n",
        "\n",
        "Limitations\n",
        "\n",
        "- `Fixed Models`: Lose efficiency if many groups exist.  \n",
        "- `Random Models`: Require distributional assumptions (e.g., normality).  "
      ],
      "metadata": {
        "id": "QTP4_mZYrF4e"
      }
    },
    {
      "cell_type": "markdown",
      "source": [
        "### Data\n",
        "\n",
        "The `Produc` dataset (from the `plm` package) contains U.S. state-level macroeconomic data (1970–1986). We’ll model gross state product (`gsp`) as a function of public capital (`pcap`), private capital (`pc`), employment (`emp`), and unemployment rate (`unemp`)."
      ],
      "metadata": {
        "id": "qPEqvjTnrSGi"
      }
    },
    {
      "cell_type": "code",
      "source": [
        "%%R\n",
        "data(\"Produc\", package = \"plm\")\n",
        "# Convert to panel data format\n",
        "pdata <- pdata.frame(Produc, index = c(\"state\", \"year\"))"
      ],
      "metadata": {
        "id": "MWHOGdXxrmyi"
      },
      "execution_count": null,
      "outputs": []
    },
    {
      "cell_type": "markdown",
      "source": [
        "### Fixed Coefficients Model (by State)\n",
        "\n",
        "Estimate separate coefficients for each state using the **`pvcm()`** function with `model = \"within\"`:"
      ],
      "metadata": {
        "id": "7ijswx5mrfos"
      }
    },
    {
      "cell_type": "code",
      "source": [
        "%%R\n",
        "# Fixed coefficients (by state)\n",
        "fe_variable <- pvcm(log(gsp) ~ log(pcap) + log(pc) + log(emp) + unemp,\n",
        "                    data = pdata, model = \"within\")\n",
        "\n",
        "summary(fe_variable)"
      ],
      "metadata": {
        "colab": {
          "base_uri": "https://localhost:8080/"
        },
        "id": "vKlV96CLrU5N",
        "outputId": "a5412264-047b-4b6c-8c69-4d502b869dc4"
      },
      "execution_count": null,
      "outputs": [
        {
          "output_type": "stream",
          "name": "stdout",
          "text": [
            "Oneway (individual) effect No-pooling model\n",
            "\n",
            "Call:\n",
            "pvcm(formula = log(gsp) ~ log(pcap) + log(pc) + log(emp) + unemp, \n",
            "    data = pdata, model = \"within\")\n",
            "\n",
            "Balanced Panel: n = 48, T = 17, N = 816\n",
            "\n",
            "Residuals:\n",
            "         Min.       1st Qu.        Median       3rd Qu.          Max. \n",
            "-0.0828078889 -0.0118150348  0.0004246566  0.0126479124  0.1189647497 \n",
            "\n",
            "Coefficients:\n",
            "  (Intercept)       log(pcap)          log(pc)            log(emp)       \n",
            " Min.   :-3.708   Min.   :-1.4426   Min.   :-0.52365   Min.   :-0.02584  \n",
            " 1st Qu.: 1.229   1st Qu.:-0.5065   1st Qu.:-0.02584   1st Qu.: 0.61569  \n",
            " Median : 2.733   Median :-0.1086   Median : 0.23335   Median : 0.87256  \n",
            " Mean   : 2.672   Mean   :-0.1049   Mean   : 0.21825   Mean   : 0.93348  \n",
            " 3rd Qu.: 4.214   3rd Qu.: 0.2682   3rd Qu.: 0.41768   3rd Qu.: 1.25307  \n",
            " Max.   : 9.338   Max.   : 1.0312   Max.   : 1.23217   Max.   : 2.10582  \n",
            "     unemp          \n",
            " Min.   :-0.027617  \n",
            " 1st Qu.:-0.012080  \n",
            " Median :-0.003905  \n",
            " Mean   :-0.003722  \n",
            " 3rd Qu.: 0.002948  \n",
            " Max.   : 0.029017  \n",
            "\n",
            "Total Sum of Squares: 19352\n",
            "Residual Sum of Squares: 0.33009\n",
            "Multiple R-Squared: 0.99998\n"
          ]
        }
      ]
    },
    {
      "cell_type": "markdown",
      "source": [
        "\n",
        "  - Each state has its own coefficients (not shown here for brevity).  \n",
        "  - Use `fe_variable$coefficients` to view state-specific estimates.\n"
      ],
      "metadata": {
        "id": "Qu7nMrRTrtwW"
      }
    },
    {
      "cell_type": "markdown",
      "source": [
        "### Random Coefficients Model (Swamy’s Model)\n",
        "\n",
        "Estimate the mean and variance of coefficients across states using `model = \"random\"`:"
      ],
      "metadata": {
        "id": "WaY_27S9ru4J"
      }
    },
    {
      "cell_type": "code",
      "source": [
        "%%R\n",
        "# Random coefficients (Swamy’s model)\n",
        "re_variable <- pvcm(log(gsp) ~ log(pcap) + log(pc) + log(emp) + unemp,\n",
        "                    data = pdata, model = \"random\")\n",
        "\n",
        "summary(re_variable)"
      ],
      "metadata": {
        "colab": {
          "base_uri": "https://localhost:8080/"
        },
        "id": "a_YUJJ8WrzAa",
        "outputId": "7830034d-5839-455a-80aa-39fc0ac46dbb"
      },
      "execution_count": null,
      "outputs": [
        {
          "output_type": "stream",
          "name": "stdout",
          "text": [
            "Oneway (individual) effect Random coefficients model\n",
            "\n",
            "Call:\n",
            "pvcm(formula = log(gsp) ~ log(pcap) + log(pc) + log(emp) + unemp, \n",
            "    data = pdata, model = \"random\")\n",
            "\n",
            "Balanced Panel: n = 48, T = 17, N = 816\n",
            "\n",
            "Residuals:\n",
            "    Min.  1st Qu.   Median     Mean  3rd Qu.     Max. \n",
            "-0.27874 -0.03826  0.03301  0.03531  0.08882  0.71105 \n",
            "\n",
            "Estimated mean of the coefficients:\n",
            "              Estimate Std. Error z-value  Pr(>|z|)    \n",
            "(Intercept)  2.5660617  0.4646077  5.5231 3.331e-08 ***\n",
            "log(pcap)   -0.0786281  0.0890076 -0.8834 0.3770276    \n",
            "log(pc)      0.2124359  0.0569555  3.7299 0.0001916 ***\n",
            "log(emp)     0.9245679  0.0837552 11.0389 < 2.2e-16 ***\n",
            "unemp       -0.0040549  0.0018892 -2.1464 0.0318437 *  \n",
            "---\n",
            "Signif. codes:  0 ‘***’ 0.001 ‘**’ 0.01 ‘*’ 0.05 ‘.’ 0.1 ‘ ’ 1\n",
            "\n",
            "Estimated variance of the coefficients:\n",
            "            (Intercept) log(pcap)    log(pc)   log(emp)       unemp\n",
            "(Intercept)   8.1735012 -1.124405  0.1967614  0.0736650  0.00495130\n",
            "log(pcap)    -1.1244046  0.306534 -0.0874932 -0.1182381 -0.00234697\n",
            "log(pc)       0.1967614 -0.087493  0.1204141 -0.0871019 -0.00188835\n",
            "log(emp)      0.0736650 -0.118238 -0.0871019  0.2700516  0.00511478\n",
            "unemp         0.0049513 -0.002347 -0.0018884  0.0051148  0.00012953\n",
            "\n",
            "Total Sum of Squares: 19352\n",
            "Residual Sum of Squares: 12.785\n",
            "Multiple R-Squared: 0.99934\n",
            "Chisq: 946.626 on 4 DF, p-value: < 2.22e-16\n",
            "Test for parameter homogeneity: Chisq = 11425.2 on 235 DF, p-value: < 2.22e-16\n"
          ]
        }
      ]
    },
    {
      "cell_type": "markdown",
      "source": [
        "## General Feasible Generalized Least Squares (FGGLS) Models\n",
        "\n",
        "General Feasible Generalized Least Squares (FGGLS) Models is an estimation technique used to address `heteroscedasticity` (unequal error variance) and `autocorrelation` (correlated errors over time/space) in regression models. Unlike OLS, which assumes constant variance and uncorrelated errors, FGLS estimates the error structure from the data and uses it to weight observations, yielding `efficient and unbiased coefficients`. In panel data, FGLS often models `random effects` or `correlated errors across entities/time`.\n",
        "\n",
        "FGLS Workflow are as follows:\n",
        "\n",
        "1. `Estimate Initial Model`: Fit a model via OLS and extract residuals.  \n",
        "2. `Estimate Error Structure`: Use residuals to model heteroscedasticity/autocorrelation (e.g., using variance components).  \n",
        "3. `Re-estimate Model`: Apply weights derived from the error structure to compute FGLS estimates.  \n",
        "\n",
        "Key Features of FGLS in Panel Data are as follows:\n",
        "\n",
        "1.`Handles Heteroscedasticity/Autocorrelation`: Adjusts standard errors for efficiency.  \n",
        "2. `Random Effects`: Models unobserved state-specific effects as uncorrelated with regressors (unlike fixed effects).  \n",
        "3. `Flexible Covariance Structures`: Can model time-series correlation (e.g., AR(1)) with additional arguments.  \n",
        "\n",
        "Comparison with Other Models are as follows:\n",
        "| **Model**      | **Pros**                                  | **Cons**                                  |\n",
        "|-----------------|-------------------------------------------|-------------------------------------------|\n",
        "| `Pooled OLS`  | Simple, estimates time-invariant variables. | Biased if unobserved heterogeneity exists. |\n",
        "| `Fixed Effects` | Controls for entity-specific effects.     | Inefficient if no autocorrelation/heteroscedasticity. |\n",
        "| `FGLS`        | Efficient, handles complex error structures. | Requires correct specification of error structure. |\n"
      ],
      "metadata": {
        "id": "dk1CGunjr4k1"
      }
    },
    {
      "cell_type": "markdown",
      "source": [
        "### Data\n",
        "\n",
        "In this example, we'll use the `Produc` dataset from the `plm` package, which contains U.S. state-level macroeconomic data (1970–1986). We'll model gross state product (`gsp`) as a function of public capital (`pcap`), private capital (`pc`), employment (`emp`), and unemployment rate (`unemp`)."
      ],
      "metadata": {
        "id": "7Jbt2Ninr8zV"
      }
    },
    {
      "cell_type": "markdown",
      "source": [
        "- `Mean coefficients`: Average effect across states (similar to pooled OLS but accounts for heterogeneity).  \n",
        "- `Variance`: Measures how much coefficients vary across states."
      ],
      "metadata": {
        "id": "S8fng8NVr3Fq"
      }
    },
    {
      "cell_type": "markdown",
      "source": [
        "### Fit FGLS Model with `pggls()`\n",
        "\n",
        "The `pggls()` function in `plm` fits FGLS models for panel data. Use `model = \"random\"` for random effects FGLS:"
      ],
      "metadata": {
        "id": "dcmW_k9RsFOc"
      }
    },
    {
      "cell_type": "code",
      "source": [
        "%%R\n",
        "# Fit FGLS model (random effects with general covariance structure)\n",
        "fgls_model <- pggls(log(gsp) ~ log(pcap) + log(pc) + log(emp) + unemp,\n",
        "                    data = pdata,\n",
        "                    model = \"random\",  # Adjust for random effects\n",
        "                    effect = \"individual\")  # State-specific effects\n",
        "\n",
        "# View results\n",
        "summary(fgls_model)"
      ],
      "metadata": {
        "colab": {
          "base_uri": "https://localhost:8080/"
        },
        "id": "SHPHM497r30n",
        "outputId": "0abd9cbc-759e-4388-96cf-f69498192e8e"
      },
      "execution_count": null,
      "outputs": [
        {
          "output_type": "stream",
          "name": "stdout",
          "text": [
            "Oneway (individual) effect General FGLS model\n",
            "\n",
            "Call:\n",
            "pggls(formula = log(gsp) ~ log(pcap) + log(pc) + log(emp) + unemp, \n",
            "    data = pdata, effect = \"individual\", model = \"random\")\n",
            "\n",
            "Balanced Panel: n = 48, T = 17, N = 816\n",
            "\n",
            "Residuals:\n",
            "     Min.   1st Qu.    Median      Mean   3rd Qu.      Max. \n",
            "-0.255736 -0.070199 -0.014124 -0.008909  0.039118  0.455461 \n",
            "\n",
            "Coefficients:\n",
            "               Estimate  Std. Error z-value  Pr(>|z|)    \n",
            "(Intercept)  2.26388494  0.10077679 22.4643 < 2.2e-16 ***\n",
            "log(pcap)    0.10566584  0.02004106  5.2725 1.346e-07 ***\n",
            "log(pc)      0.21643137  0.01539471 14.0588 < 2.2e-16 ***\n",
            "log(emp)     0.71293894  0.01863632 38.2553 < 2.2e-16 ***\n",
            "unemp       -0.00447265  0.00045214 -9.8921 < 2.2e-16 ***\n",
            "---\n",
            "Signif. codes:  0 ‘***’ 0.001 ‘**’ 0.01 ‘*’ 0.05 ‘.’ 0.1 ‘ ’ 1\n",
            "Total Sum of Squares: 849.81\n",
            "Residual Sum of Squares: 7.5587\n",
            "Multiple R-squared: 0.99111\n"
          ]
        }
      ]
    },
    {
      "cell_type": "markdown",
      "source": [
        "- `Coefficients`:  \n",
        "  - A 1% increase in private capital (`pc`) is associated with a `0.31% increase` in gross state product (significant at 1%).  \n",
        "  - Unemployment (`unemp`) has a small negative effect.  \n",
        "- `Variance Components`:  \n",
        "  - `individual` (0.0665): Significant state-specific heterogeneity.  \n",
        "  - `idios` (0.0275): Idiosyncratic error variance.  \n",
        "- `Theta (0.752)`: Weight given to between-state variation vs. within-state variation.  \n",
        "\n"
      ],
      "metadata": {
        "id": "ioCp5Ff3sM0I"
      }
    },
    {
      "cell_type": "markdown",
      "source": [
        "## Summary and Conclusions\n",
        "\n",
        "This tutorial demonstrated how to perform panel linear regression using the {plm} package in R. Panel regression is a statistical technique used to analyze datasets that combine both cross-sectional and time-series data, known as panel data or longitudinal data. This method accounts for multiple observations of the same entities (e.g., individuals, firms, countries) over time, enabling researchers to control for variables that vary across entities or time periods but are unobserved or unmeasured. We covered different types of linear panel regression models, including Pooled OLS, Fixed Effects, Random Effects, Dynamic Panel Regression, Variable Coefficients Model, and General Feasible Generalized Least Squares (FGLS) Models. Each model has its own assumptions, advantages, and limitations, making it suitable for different research questions and data structures. By using panel regression techniques, researchers can obtain more accurate and reliable estimates of the relationships between variables in panel data, leading to better insights and policy recommendations.\n"
      ],
      "metadata": {
        "id": "WRcixyIzpt2A"
      }
    },
    {
      "cell_type": "markdown",
      "source": [
        "## References\n",
        "\n",
        "1.  [Panel Regression](https://rpubs.com/lumumba99/1011604)\n",
        "\n",
        "2.  [Panel Data Regression in R: An Introduction to Longitudinal Data analysis](https://medium.com/@akif.iips/panel-data-regression-in-r-a38ac8559f7f)\n",
        "\n",
        "3.  [Panel data econometrics in R](https://cran.r-project.org/web/packages/plm/vignettes/A_plmPackage.html)\n",
        "\n",
        "4.  [R Tutorial: Panel Data Analysis 1](https://rpubs.com/phle/r_tutorial_panel_data_analysis)\n",
        "\n",
        "\n",
        "\n"
      ],
      "metadata": {
        "id": "bLeAMiRQG59v"
      }
    }
  ]
}