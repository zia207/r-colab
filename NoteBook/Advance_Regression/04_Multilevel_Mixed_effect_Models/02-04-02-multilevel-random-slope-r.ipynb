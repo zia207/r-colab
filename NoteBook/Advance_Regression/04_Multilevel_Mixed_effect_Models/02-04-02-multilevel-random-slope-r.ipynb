{
  "nbformat": 4,
  "nbformat_minor": 0,
  "metadata": {
    "colab": {
      "provenance": [],
      "toc_visible": true,
      "authorship_tag": "ABX9TyNN194S3xAFGurRM6b9KyUs",
      "include_colab_link": true
    },
    "kernelspec": {
      "name": "python3",
      "display_name": "Python 3"
    },
    "language_info": {
      "name": "python"
    }
  },
  "cells": [
    {
      "cell_type": "markdown",
      "metadata": {
        "id": "view-in-github",
        "colab_type": "text"
      },
      "source": [
        "<a href=\"https://colab.research.google.com/github/zia207/r-colab/blob/main/NoteBook/Advance_Regression/02-04-02-multilevel-random-slope-r.ipynb\" target=\"_parent\"><img src=\"https://colab.research.google.com/assets/colab-badge.svg\" alt=\"Open In Colab\"/></a>"
      ]
    },
    {
      "cell_type": "markdown",
      "source": [
        "![alt text](http://drive.google.com/uc?export=view&id=1bLQ3nhDbZrCCqy_WCxxckOne2lgVvn3l)"
      ],
      "metadata": {
        "id": "4qrItz_mJNWw"
      }
    },
    {
      "cell_type": "markdown",
      "source": [
        "# 2. Random Slope Model\n",
        "\n",
        "Random Slope Model is a type of mixed-effects model that allows the slope of the relationship between a predictor and the outcome to vary across groups, in addition to allowing the intercept to vary. This is an extension of the random intercept model. In this tutorial, we will learn about random slope models, their key features, and how to estimate the parameters of a random slope model from scratch. We will also apply random slope models to the popularity data set using the {lme4} package in R.\n"
      ],
      "metadata": {
        "id": "Dzp9ZseROTcY"
      }
    },
    {
      "cell_type": "markdown",
      "source": [
        "## Overview\n",
        "\n",
        "A **random slope model** is a type of **mixed-effects model** that allows the **slope** of the relationship between a predictor and the outcome to vary across groups, in addition to allowing the **intercept** to vary. This is an extension of the **random intercept model**.\n",
        "\n",
        "For an observation $y_{ij}$ (outcome for individual $j$ in group $i$):\n",
        "\n",
        "$$ y_{ij} = (\\beta_0 + u_{0i}) + (\\beta_1 + u_{1i})x_{ij} + \\epsilon_{ij} $$\n",
        "\n",
        "Where:\n",
        "\n",
        "- $\\beta_0$: Fixed intercept (overall baseline level across all groups).\n",
        "\n",
        "- $u_{0i}$: Random intercept for group $i$, representing deviations from the fixed intercept. Assumed $u_{0i} \\sim N(0, \\sigma_{u_0}^2)$.\n",
        "\n",
        "- $\\beta_1$: Fixed slope (average effect of the predictor across all groups).\n",
        "\n",
        "- $u_{1i}$: Random slope for group $i$, representing deviations from the fixed slope. Assumed $u_{1i} \\sim N(0, \\sigma_{u_1}^2)$.\n",
        "\n",
        "- $x_{ij}$: Predictor variable for individual $j$ in group $i$.\n",
        "\n",
        "- $\\epsilon_{ij}$: Residual error for individual $j$ in group $i$. Assumed $\\epsilon_{ij} \\sim N(0, \\sigma_\\epsilon^2)$.\n",
        "\n",
        "\n",
        "The random slope model decomposes the variability in $y_{ij}$ into:\n",
        "\n",
        "1. **Between-group variance**:\n",
        "\n",
        "   - Variance of random intercepts ($\\sigma_{u_0}^2$): Measures differences in baseline scores between groups.\n",
        "\n",
        "   - Variance of random slopes (\\( \\sigma_{u_1}^2 \\)): Measures differences in the effect of the predictor between groups.\n",
        "\n",
        "2. **Within-group variance**:\n",
        "\n",
        "   - Variance of residual errors ($\\sigma_\\epsilon^2$): Measures individual-level variability within groups.\n",
        "\n",
        "3. **Correlation between random effects**:\n",
        "\n",
        "   - Correlation $\\rho$ between $u_{0i}$ (random intercept) and $u_{1i}$ (random slope) indicates whether groups with higher intercepts tend to have steeper or shallower slopes."
      ],
      "metadata": {
        "id": "TpcIOkTs30qp"
      }
    },
    {
      "cell_type": "markdown",
      "source": [
        "### Key Features\n",
        "\n",
        "1. **Intercept and Slope Vary by Group**:\n",
        "\n",
        "   - Each group has its own intercept:\n",
        "\n",
        "    $$ \\text{Intercept for group } i = \\beta_0 + u_{0i} $$\n",
        "   \n",
        "   - Each group also has its own slope:\n",
        "\n",
        "   $$ Slope for group i= \\beta_i + u_{1i} $$\n",
        "\n",
        "   \n",
        "2. **Group-Specific Relationships**:\n",
        "\n",
        "   - Allows groups to have different relationships between the predictor ($x$) and the outcome ($y$).\n",
        "\n",
        "3. **Random Effects Correlation**:\n",
        "\n",
        "   - The model can estimate the correlation between random intercepts ($u_{0i}$) and random slopes $u_{1i}$, capturing how group-specific intercepts and slopes are related.\n",
        "\n",
        "\n",
        "***Variance Components***\n",
        "\n",
        "The random slope model decomposes the variability in $y_{ij}$ into:\n",
        "\n",
        "1. **Between-group variance**:\n",
        "\n",
        "   - Variance of random intercepts ($\\sigma_{u_0}^2$): Measures differences in baseline scores between groups.\n",
        "\n",
        "   - Variance of random slopes (\\( \\sigma_{u_1}^2 \\)): Measures differences in the effect of the predictor between groups.\n",
        "\n",
        "2. **Within-group variance**:\n",
        "\n",
        "   - Variance of residual errors ($\\sigma_\\epsilon^2$): Measures individual-level variability within groups.\n",
        "\n",
        "3. **Correlation between random effects**:\n",
        "\n",
        "   - Correlation $\\rho$ between $u_{0i}$ (random intercept) and $u_{1i}$ (random slope) indicates whether groups with higher intercepts tend to have steeper or shallower slopes."
      ],
      "metadata": {
        "id": "pd94OkviDzTO"
      }
    },
    {
      "cell_type": "markdown",
      "source": [
        "### Example\n",
        "\n",
        "We are modeling students' test scores ($y$) based on their study hours ($x$), with both the baseline score and the effect of study hours varying across schools.\n",
        "\n",
        "$$ y_{ij} = (\\beta_0 + u_{0i}) + (\\beta_1 + u_{1i})x_{ij} + \\epsilon_{ij} $$\n",
        "\n",
        "- $\\beta_0$: Overall average test score.\n",
        "\n",
        "- $\\beta_1$: Overall average effect of study hours on test scores.\n",
        "\n",
        "- $u_{0i}$: Random intercept for school $i$ (captures variation in baseline scores across schools).\n",
        "\n",
        "- $u_{1i}$: Random slope for school $i$ (captures variation in the effect of study hours across schools).\n"
      ],
      "metadata": {
        "id": "hCo7AvNrD0El"
      }
    },
    {
      "cell_type": "markdown",
      "source": [
        "### Interpretation\n",
        "\n",
        "The output includes:\n",
        "\n",
        "1. **Fixed Effects**:\n",
        "\n",
        "   - $\\beta_0$: Overall average intercept (baseline test score).\n",
        "   - $\\beta_1$: Overall average slope (effect of study hours on test scores).\n",
        "\n",
        "2. **Random Effects**:\n",
        "\n",
        "   - Variance of random intercepts ($\\sigma_{u_0}^2$): Between-school variability in baseline scores.\n",
        "   - Variance of random slopes ($\\sigma_{u_1}^2$): Between-school variability in the effect of study hours.\n",
        "   - Correlation ($\\rho$) between random intercepts and random slopes.\n",
        "\n",
        "3. **Residual Variance**:\n",
        "   - Variance of residuals ($\\sigma_\\epsilon^2$): Individual-level variability."
      ],
      "metadata": {
        "id": "wgC7gn2zsN78"
      }
    },
    {
      "cell_type": "markdown",
      "source": [
        "## Install rpy2"
      ],
      "metadata": {
        "id": "SDp3ULld8Gb9"
      }
    },
    {
      "cell_type": "code",
      "source": [
        "!pip uninstall rpy2 -y\n",
        "!pip install rpy2==3.5.1\n",
        "%load_ext rpy2.ipython"
      ],
      "metadata": {
        "id": "CiM6y-Mw8AJp",
        "colab": {
          "base_uri": "https://localhost:8080/"
        },
        "outputId": "a9b2f985-6259-42de-ebe5-5fc5c4e4c02b"
      },
      "execution_count": 1,
      "outputs": [
        {
          "output_type": "stream",
          "name": "stdout",
          "text": [
            "Found existing installation: rpy2 3.4.2\n",
            "Uninstalling rpy2-3.4.2:\n",
            "  Successfully uninstalled rpy2-3.4.2\n",
            "Collecting rpy2==3.5.1\n",
            "  Downloading rpy2-3.5.1.tar.gz (201 kB)\n",
            "\u001b[2K     \u001b[90m━━━━━━━━━━━━━━━━━━━━━━━━━━━━━━━━━━━━━━━━\u001b[0m \u001b[32m201.7/201.7 kB\u001b[0m \u001b[31m3.5 MB/s\u001b[0m eta \u001b[36m0:00:00\u001b[0m\n",
            "\u001b[?25h  Preparing metadata (setup.py) ... \u001b[?25l\u001b[?25hdone\n",
            "Requirement already satisfied: cffi>=1.10.0 in /usr/local/lib/python3.11/dist-packages (from rpy2==3.5.1) (1.17.1)\n",
            "Requirement already satisfied: jinja2 in /usr/local/lib/python3.11/dist-packages (from rpy2==3.5.1) (3.1.5)\n",
            "Requirement already satisfied: pytz in /usr/local/lib/python3.11/dist-packages (from rpy2==3.5.1) (2025.1)\n",
            "Requirement already satisfied: tzlocal in /usr/local/lib/python3.11/dist-packages (from rpy2==3.5.1) (5.3)\n",
            "Requirement already satisfied: pycparser in /usr/local/lib/python3.11/dist-packages (from cffi>=1.10.0->rpy2==3.5.1) (2.22)\n",
            "Requirement already satisfied: MarkupSafe>=2.0 in /usr/local/lib/python3.11/dist-packages (from jinja2->rpy2==3.5.1) (3.0.2)\n",
            "Building wheels for collected packages: rpy2\n",
            "  Building wheel for rpy2 (setup.py) ... \u001b[?25l\u001b[?25hdone\n",
            "  Created wheel for rpy2: filename=rpy2-3.5.1-cp311-cp311-linux_x86_64.whl size=314973 sha256=67776c61ff2e1b942d0f68f7dc3efc02e307ef209ad96bc224b721e178a1624d\n",
            "  Stored in directory: /root/.cache/pip/wheels/e9/55/d1/47be85a5f3f1e1f4d1e91cb5e3a4dcb40dd72147f184c5a5ef\n",
            "Successfully built rpy2\n",
            "Installing collected packages: rpy2\n",
            "Successfully installed rpy2-3.5.1\n"
          ]
        }
      ]
    },
    {
      "cell_type": "markdown",
      "source": [
        "## Mount Google Drive"
      ],
      "metadata": {
        "id": "O1zeuaCowiBt"
      }
    },
    {
      "cell_type": "code",
      "source": [
        "from google.colab import drive\n",
        "drive.mount('/content/drive')"
      ],
      "metadata": {
        "colab": {
          "base_uri": "https://localhost:8080/"
        },
        "id": "9J-4ie4bwiJ1",
        "outputId": "0325b897-e52c-4ae6-c2f8-dde0e5c8eaab"
      },
      "execution_count": 2,
      "outputs": [
        {
          "output_type": "stream",
          "name": "stdout",
          "text": [
            "Mounted at /content/drive\n"
          ]
        }
      ]
    },
    {
      "cell_type": "markdown",
      "source": [
        "## Random Slope Model from Scratch\n",
        "\n",
        "We fit a  mixed effect model with random slopes from scratch using the Restricted Maximum Likelihood (REML) method. We will estimate the fixed and random effects parameters using the log-likelihood function for the random slope model. We will optimize this function to estimate the fixed and random effects parameters."
      ],
      "metadata": {
        "id": "UdMcXPIF4Bly"
      }
    },
    {
      "cell_type": "markdown",
      "source": [
        "### Generate Data\n",
        "\n",
        "First we will generate a data set with random intercepts and slopes to illustrate the random slope model. We will simulate test scores for students in different schools based on their study hours, with random intercepts and slopes for each school. We will then fit a random slope model to estimate the fixed and random effects parameters."
      ],
      "metadata": {
        "id": "ztl1QBDb4MYe"
      }
    },
    {
      "cell_type": "code",
      "source": [
        "%%R\n",
        "# Step 1: Simulate data\n",
        "set.seed(42)\n",
        "n_schools <- 10\n",
        "students_per_school <- 30\n",
        "schools <- rep(1:n_schools, each = students_per_school)\n",
        "\n",
        "# Generate random effects\n",
        "random_intercepts <- rnorm(n_schools, 0, 2)  # Random intercepts\n",
        "random_slopes <- rnorm(n_schools, 0, 0.5)    # Random slopes\n",
        "\n",
        "# Simulate data\n",
        "hours <- runif(n_schools * students_per_school, 0, 10)\n",
        "school_effects <- schools\n",
        "scores <- numeric(length(hours))\n",
        "\n",
        "for (i in 1:n_schools) {\n",
        "  idx <- which(schools == i)\n",
        "  scores[idx] <- (random_intercepts[i] +\n",
        "                  random_slopes[i] * hours[idx] +\n",
        "                  5 + 0.7 * hours[idx] +\n",
        "                  rnorm(length(idx), 0, 1))\n",
        "}\n",
        "\n",
        "data <- data.frame(score = scores, hours = hours, school = schools)\n",
        "head(data)"
      ],
      "metadata": {
        "id": "q82MNCn64Q0w",
        "colab": {
          "base_uri": "https://localhost:8080/"
        },
        "outputId": "9a45b0f8-f2b0-48f9-c3e6-9244f3d329fc"
      },
      "execution_count": 3,
      "outputs": [
        {
          "output_type": "stream",
          "name": "stdout",
          "text": [
            "      score     hours school\n",
            "1 12.645430 3.7955924      1\n",
            "2 14.472063 4.3577158      1\n",
            "3  6.503091 0.3743103      1\n",
            "4 22.597869 9.7353991      1\n",
            "5 14.445849 4.3175125      1\n",
            "6 20.541740 9.5757660      1\n"
          ]
        }
      ]
    },
    {
      "cell_type": "markdown",
      "source": [
        "### Define Log-Likelihood Function for Random Slope Model\n",
        "\n",
        "We can estimate the parameters of a random slope model using **Restricted Maximum Likelihood (REML)**. The log-likelihood function for the random slope model is similar to the random intercept model, with additional terms for the random slope and its variance. We optimize this function to estimate the fixed and random effects parameters. The log-likelihood function for the random slope model includes terms for the random slope and its variance, in addition to the random intercept and residual variance terms. We optimize this function to estimate the fixed and random effects parameters.\n"
      ],
      "metadata": {
        "id": "4BpOoaj34eBU"
      }
    },
    {
      "cell_type": "code",
      "source": [
        "%%R\n",
        "# Step 2: Define the log-likelihood for the Random Slope Model\n",
        "reml_loglik <- function(params) {\n",
        "  beta_0 <- params[1]\n",
        "  beta_1 <- params[2]\n",
        "  sigma_e <- exp(params[3])  # Residual variance\n",
        "  sigma_u0 <- exp(params[4])  # Variance of random intercepts\n",
        "  sigma_u1 <- exp(params[5])  # Variance of random slopes\n",
        "  rho <- tanh(params[6])  # Correlation between random effects\n",
        "\n",
        "  V <- matrix(0, nrow = 2, ncol = 2)\n",
        "  V[1, 1] <- sigma_u0^2\n",
        "  V[2, 2] <- sigma_u1^2\n",
        "  V[1, 2] <- V[2, 1] <- rho * sigma_u0 * sigma_u1\n",
        "\n",
        "  likelihood <- 0\n",
        "  for (j in unique(data$school)) {\n",
        "    idx <- which(data$school == j)\n",
        "    X <- cbind(1, data$hours[idx])\n",
        "    Z <- X\n",
        "    Y <- data$score[idx]\n",
        "\n",
        "    G <- V\n",
        "    R <- diag(sigma_e^2, nrow = length(idx))\n",
        "    V_j <- Z %*% G %*% t(Z) + R\n",
        "    diag(V_j) <- diag(V_j) + 1e-6  # Stabilization term\n",
        "\n",
        "    inv_V_j <- tryCatch(solve(V_j), error = function(e) MASS::ginv(V_j))\n",
        "    mu_j <- X %*% c(beta_0, beta_1)\n",
        "\n",
        "    likelihood <- likelihood +\n",
        "      -0.5 * (log(det(V_j)) + t(Y - mu_j) %*% inv_V_j %*% (Y - mu_j) + log(2 * pi) * length(idx))\n",
        "  }\n",
        "  return(-likelihood)  # Negative for optimization\n",
        "}\n",
        "\n"
      ],
      "metadata": {
        "id": "soSBO_2B4qVv"
      },
      "execution_count": 4,
      "outputs": []
    },
    {
      "cell_type": "markdown",
      "source": [
        "### Optimize the REML Likelihood\n",
        "\n",
        "We will optimize the log-likelihood function to estimate the fixed and random effects parameters. We will use the `optim()` function to maximize the log-likelihood function and estimate the parameters of the random slope model.\n"
      ],
      "metadata": {
        "id": "OVC5oBZg63NU"
      }
    },
    {
      "cell_type": "code",
      "source": [
        "%%R\n",
        "# Step 3: Optimize the REML likelihood\n",
        "start_params <- c(5, 0.7, log(1), log(2), log(0.5), 0)  # Initial guesses\n",
        "fit <- optim(start_params, reml_loglik, method = \"BFGS\", hessian = TRUE)\n"
      ],
      "metadata": {
        "id": "KXkM1n8lBMhO"
      },
      "execution_count": 5,
      "outputs": []
    },
    {
      "cell_type": "markdown",
      "source": [
        "### Extract Results\n",
        "\n",
        "We will extract the estimated parameters from the optimization results and interpret the fixed and random effects of the random slope model."
      ],
      "metadata": {
        "id": "-JuTDU0fBTIX"
      }
    },
    {
      "cell_type": "code",
      "source": [
        "%%R\n",
        "# Step 4: Extract results\n",
        "params <- fit$par\n",
        "beta_0 <- params[1]\n",
        "beta_1 <- params[2]\n",
        "sigma_e <- exp(params[3])\n",
        "sigma_u0 <- exp(params[4])\n",
        "sigma_u1 <- exp(params[5])\n",
        "rho <- tanh(params[6])"
      ],
      "metadata": {
        "id": "8mioZdwbBT_S"
      },
      "execution_count": 6,
      "outputs": []
    },
    {
      "cell_type": "markdown",
      "source": [
        "### Model Summary\n",
        "\n",
        "Model summary includes the fixed effects (intercept and slope) and random effects (variance of random intercepts, variance of random slopes, and correlation between random effects)."
      ],
      "metadata": {
        "id": "0D6Q2BZhsv5g"
      }
    },
    {
      "cell_type": "code",
      "source": [
        "%%R\n",
        "# Model summary\n",
        "cat(\"Fixed Effects:\\n\")\n",
        "cat(sprintf(\"Intercept: %.3f\\n\", beta_0))\n",
        "cat(sprintf(\"Slope: %.3f\\n\", beta_1))\n",
        "cat(\"\\nRandom Effects:\\n\")\n",
        "cat(sprintf(\"Residual variance (sigma_e^2): %.3f\\n\", sigma_e^2))\n",
        "cat(sprintf(\"Variance of random intercepts (sigma_u0^2): %.3f\\n\", sigma_u0^2))\n",
        "cat(sprintf(\"Variance of random slopes (sigma_u1^2): %.3f\\n\", sigma_u1^2))\n",
        "cat(sprintf(\"Correlation (rho): %.3f\\n\", rho))"
      ],
      "metadata": {
        "colab": {
          "base_uri": "https://localhost:8080/"
        },
        "id": "X86ADuZFswyD",
        "outputId": "5857ceec-93d7-40cb-9105-678972d59882"
      },
      "execution_count": 7,
      "outputs": [
        {
          "output_type": "stream",
          "name": "stdout",
          "text": [
            "Fixed Effects:\n",
            "Intercept: 6.120\n",
            "Slope: 0.613\n",
            "\n",
            "Random Effects:\n",
            "Residual variance (sigma_e^2): 0.977\n",
            "Variance of random intercepts (sigma_u0^2): 2.130\n",
            "Variance of random slopes (sigma_u1^2): 0.595\n",
            "Correlation (rho): -0.382\n"
          ]
        }
      ]
    },
    {
      "cell_type": "markdown",
      "source": [
        "## Random Intercept Model in R\n",
        "\n",
        "We will fit the Random Intercept Model using the {lme4} and {nlme} packages in R. These packages provide convenient functions to fit mixed-effects models with random intercepts and slopes."
      ],
      "metadata": {
        "id": "90C3xCiGBa3q"
      }
    },
    {
      "cell_type": "markdown",
      "source": [
        "### Install Required R Packages\n",
        "\n",
        "Following R packages are required to run this notebook. If any of these packages are not installed, you can install them using the code below:\n",
        "\n",
        "\n"
      ],
      "metadata": {
        "id": "9T5ojBgKBv5p"
      }
    },
    {
      "cell_type": "code",
      "source": [
        "%%R\n",
        "packages <- c('tidyverse',\n",
        "              'ggeffects',\n",
        "              'lme4',\n",
        "              'nlme',\n",
        "              'lmerTest',\n",
        "              'sjPlot',\n",
        "              'margins',\n",
        "              'report',\n",
        "              'performance',\n",
        "              'MLmetrics'\n",
        "\t\t )"
      ],
      "metadata": {
        "id": "4ERkgB8gByVX"
      },
      "execution_count": 8,
      "outputs": []
    },
    {
      "cell_type": "code",
      "source": [
        "%%R\n",
        "# Install missing packages\n",
        "new.packages <- packages[!(packages %in% installed.packages(lib='drive/My Drive/R/')[,\"Package\"])]\n",
        "if(length(new.packages)) install.packages(new.packages, lib='drive/My Drive/R/')"
      ],
      "metadata": {
        "id": "J3nWFZpl-sr-"
      },
      "execution_count": null,
      "outputs": []
    },
    {
      "cell_type": "code",
      "source": [
        "%%R\n",
        "# set library path\n",
        ".libPaths('drive/My Drive/R')\n",
        "# Verify installation\n",
        "cat(\"Installed packages:\\n\")\n",
        "print(sapply(packages, requireNamespace, quietly = TRUE))"
      ],
      "metadata": {
        "colab": {
          "base_uri": "https://localhost:8080/"
        },
        "id": "-jv6EE7Z-sx-",
        "outputId": "825ca560-e9fe-40a0-a497-029ea7c675e0"
      },
      "execution_count": 9,
      "outputs": [
        {
          "output_type": "stream",
          "name": "stdout",
          "text": [
            "Installed packages:\n",
            "  tidyverse   ggeffects        lme4        nlme    lmerTest      sjPlot \n",
            "       TRUE        TRUE        TRUE        TRUE        TRUE        TRUE \n",
            "    margins      report performance   MLmetrics \n",
            "       TRUE        TRUE        TRUE        TRUE \n"
          ]
        }
      ]
    },
    {
      "cell_type": "markdown",
      "source": [
        "### Load R Packages"
      ],
      "metadata": {
        "id": "MV7R29xfyWQz"
      }
    },
    {
      "cell_type": "code",
      "source": [
        "%%R\n",
        "# set library path\n",
        ".libPaths('drive/My Drive/R')\n",
        "# Load packages with suppressed messages\n",
        "invisible(lapply(packages, function(pkg) {\n",
        "  suppressPackageStartupMessages(library(pkg, character.only = TRUE))\n",
        "}))\n",
        "# Check loaded packages\n",
        "cat(\"Successfully loaded packages:\\n\")\n",
        "print(search()[grepl(\"package:\", search())])# Check loaded packages\n"
      ],
      "metadata": {
        "id": "232jNAHBykUL",
        "colab": {
          "base_uri": "https://localhost:8080/"
        },
        "outputId": "84f729fd-39cd-4c2a-9b1f-2822e2e76103"
      },
      "execution_count": 10,
      "outputs": [
        {
          "output_type": "stream",
          "name": "stdout",
          "text": [
            "Successfully loaded packages:\n",
            " [1] \"package:MLmetrics\"   \"package:performance\" \"package:report\"     \n",
            " [4] \"package:margins\"     \"package:sjPlot\"      \"package:lmerTest\"   \n",
            " [7] \"package:nlme\"        \"package:lme4\"        \"package:Matrix\"     \n",
            "[10] \"package:ggeffects\"   \"package:lubridate\"   \"package:forcats\"    \n",
            "[13] \"package:stringr\"     \"package:dplyr\"       \"package:purrr\"      \n",
            "[16] \"package:readr\"       \"package:tidyr\"       \"package:tibble\"     \n",
            "[19] \"package:ggplot2\"     \"package:tidyverse\"   \"package:tools\"      \n",
            "[22] \"package:stats\"       \"package:graphics\"    \"package:grDevices\"  \n",
            "[25] \"package:utils\"       \"package:datasets\"    \"package:methods\"    \n",
            "[28] \"package:base\"       \n"
          ]
        }
      ]
    },
    {
      "cell_type": "markdown",
      "source": [
        "### Data\n",
        "\n",
        "The **popularity** data set can be used to illustrate multilevel models with random slopes and cross-level interactions. This data consists of simulated data for 2,000 pupils across 100 schools. This dataset serves as a simple example for multilevel regression analysis. The primary outcome variable is pupil popularity, assessed using a rating scale from 1 to 10 based on a sociometric procedure. In this procedure, all pupils in a class rate each of their classmates, and the average popularity rating received by each pupil is then assigned to them. Due to this sociometric method, the group effects are pronounced, as reflected in the significant higher-level variance components. Additionally, there is a second outcome variable: pupil popularity, as rated by their teacher, using a scale from 1 to 10. The explanatory variables include pupil gender (where boy = 0 and girl = 1), pupil extraversion (on a 10-point scale), and teacher experience measured in years. his data set can be used to illustrate multilevel models with random slopes and cross-level interactions.\n",
        "\n",
        "\n",
        "We will use `read_csv()` function of {readr} package to import data as a tidy data.\n"
      ],
      "metadata": {
        "id": "rSJqB05rO5ES"
      }
    },
    {
      "cell_type": "code",
      "execution_count": 11,
      "metadata": {
        "colab": {
          "base_uri": "https://localhost:8080/"
        },
        "id": "CFpt_H01OPsa",
        "outputId": "9fcbcde8-7c65-4228-9dc4-0820e9bb7e84"
      },
      "outputs": [
        {
          "output_type": "stream",
          "name": "stdout",
          "text": [
            "Rows: 2000 Columns: 15\n",
            "── Column specification ────────────────────────────────────────────────────────\n",
            "Delimiter: \",\"\n",
            "dbl (15): pupil, class, extrav, sex, texp, popular, popteach, Zextrav, Zsex,...\n",
            "\n",
            "ℹ Use `spec()` to retrieve the full column specification for this data.\n",
            "ℹ Specify the column types or set `show_col_types = FALSE` to quiet this message.\n",
            "Rows: 2,000\n",
            "Columns: 15\n",
            "$ pupil     <dbl> 1, 2, 3, 4, 5, 6, 7, 8, 9, 10, 11, 12, 13, 14, 15, 16, 17, 1…\n",
            "$ class     <dbl> 1, 1, 1, 1, 1, 1, 1, 1, 1, 1, 1, 1, 1, 1, 1, 1, 1, 1, 1, 1, …\n",
            "$ extrav    <dbl> 5, 7, 4, 3, 5, 4, 5, 4, 5, 5, 5, 5, 5, 5, 5, 6, 4, 4, 7, 4, …\n",
            "$ sex       <dbl> 1, 0, 1, 1, 1, 0, 0, 0, 0, 0, 1, 1, 0, 1, 1, 1, 0, 0, 1, 0, …\n",
            "$ texp      <dbl> 24, 24, 24, 24, 24, 24, 24, 24, 24, 24, 24, 24, 24, 24, 24, …\n",
            "$ popular   <dbl> 6.3, 4.9, 5.3, 4.7, 6.0, 4.7, 5.9, 4.2, 5.2, 3.9, 5.7, 4.8, …\n",
            "$ popteach  <dbl> 6, 5, 6, 5, 6, 5, 5, 5, 5, 3, 5, 5, 5, 6, 5, 5, 2, 3, 7, 4, …\n",
            "$ Zextrav   <dbl> -0.1703149, 1.4140098, -0.9624772, -1.7546396, -0.1703149, -…\n",
            "$ Zsex      <dbl> 0.9888125, -1.0108084, 0.9888125, 0.9888125, 0.9888125, -1.0…\n",
            "$ Ztexp     <dbl> 1.48615283, 1.48615283, 1.48615283, 1.48615283, 1.48615283, …\n",
            "$ Zpopular  <dbl> 0.88501327, -0.12762911, 0.16169729, -0.27229230, 0.66801848…\n",
            "$ Zpopteach <dbl> 0.66905609, -0.04308451, 0.66905609, -0.04308451, 0.66905609…\n",
            "$ Cextrav   <dbl> -0.215, 1.785, -1.215, -2.215, -0.215, -1.215, -0.215, -1.21…\n",
            "$ Ctexp     <dbl> 9.737, 9.737, 9.737, 9.737, 9.737, 9.737, 9.737, 9.737, 9.73…\n",
            "$ Csex      <dbl> 0.5, -0.5, 0.5, 0.5, 0.5, -0.5, -0.5, -0.5, -0.5, -0.5, 0.5,…\n"
          ]
        }
      ],
      "source": [
        "%%R\n",
        "# Load the data\n",
        "mf<-readr::read_csv(\"https://github.com/zia207/r-colab/raw/main/Data/Regression_analysis/popular.csv\")|>\n",
        " glimpse()"
      ]
    },
    {
      "cell_type": "markdown",
      "source": [
        "We will select the variables we will use in the analysis and have a look at the first 6 observations."
      ],
      "metadata": {
        "id": "I8dFM0UCCpWO"
      }
    },
    {
      "cell_type": "code",
      "source": [
        "%%R\n",
        "df <- mf |>\n",
        "      dplyr::select(pupil,\n",
        "                    class,\n",
        "                    extrav,\n",
        "                    sex,\n",
        "                    texp,\n",
        "                    popular) # we select just the variables we will use\n",
        "head(df) # we have a look at the first 6 observations"
      ],
      "metadata": {
        "colab": {
          "base_uri": "https://localhost:8080/"
        },
        "id": "MmtJFmCMCpig",
        "outputId": "ea52941d-f5d5-4cb9-f360-7b985547d2c2"
      },
      "execution_count": 12,
      "outputs": [
        {
          "output_type": "stream",
          "name": "stdout",
          "text": [
            "# A tibble: 6 × 6\n",
            "  pupil class extrav   sex  texp popular\n",
            "  <dbl> <dbl>  <dbl> <dbl> <dbl>   <dbl>\n",
            "1     1     1      5     1    24     6.3\n",
            "2     2     1      7     0    24     4.9\n",
            "3     3     1      4     1    24     5.3\n",
            "4     4     1      3     1    24     4.7\n",
            "5     5     1      5     1    24     6  \n",
            "6     6     1      4     0    24     4.7\n"
          ]
        }
      ]
    },
    {
      "cell_type": "code",
      "source": [
        "%%R -w 500 -h 450 -u px\n",
        "ggplot(data  = df,\n",
        "       aes(x = extrav,\n",
        "           y = popular))+\n",
        "  geom_point(size = 1.2,\n",
        "             alpha = .8,\n",
        "             position = \"jitter\")+# to add some random noise for plotting purposes\n",
        "  theme_minimal()+\n",
        "  labs(title = \"Popularity vs. Extraversion\")"
      ],
      "metadata": {
        "id": "_Sk-3LjnH0kY",
        "colab": {
          "base_uri": "https://localhost:8080/",
          "height": 467
        },
        "outputId": "67b75f03-0d00-4915-a061-062cdd335bbd"
      },
      "execution_count": 13,
      "outputs": [
        {
          "output_type": "display_data",
          "data": {
            "image/png": "[encoded data removed]"
          },
          "metadata": {}
        }
      ]
    },
    {
      "cell_type": "markdown",
      "source": [
        "### Random Slope Models\n",
        "\n",
        "Random slope models are used when the effect of a predictor varies across groups. In this case, we are interested in whether the effect of extraversion (`extrav`) on popularity varies across classes. We can include a random slope for `extrav` by adding `(1 + extrav | class)` to the model formula. This specifies that both the intercept and the slope for extraversion can vary across classes.   "
      ],
      "metadata": {
        "id": "8POJhd3RH94D"
      }
    },
    {
      "cell_type": "code",
      "source": [
        "%%R\n",
        "\n",
        "m1<-lmerTest::lmer(formula = popular ~ 1 + sex + extrav + texp + (1 +  extrav | class),\n",
        "               data    = df)\n",
        "# summary\n",
        "jtools::summ(m1)"
      ],
      "metadata": {
        "colab": {
          "base_uri": "https://localhost:8080/"
        },
        "id": "tO4j13t1IAjE",
        "outputId": "521ab0f4-0b27-4965-e15a-a73e21082348"
      },
      "execution_count": 14,
      "outputs": [
        {
          "output_type": "stream",
          "name": "stdout",
          "text": [
            "MODEL INFO:\n",
            "Observations: 2000\n",
            "Dependent Variable: popular\n",
            "Type: Mixed effects linear regression \n",
            "\n",
            "MODEL FIT:\n",
            "AIC = 4850.77, BIC = 4895.58\n",
            "Pseudo-R² (fixed effects) = 0.51\n",
            "Pseudo-R² (total) = 0.70 \n",
            "\n",
            "FIXED EFFECTS:\n",
            "---------------------------------------------------------\n",
            "                    Est.   S.E.   t val.      d.f.      p\n",
            "----------------- ------ ------ -------- --------- ------\n",
            "(Intercept)         0.74   0.20     3.74    182.10   0.00\n",
            "sex                 1.25   0.04    34.24   1913.09   0.00\n",
            "extrav              0.45   0.02    18.39     97.54   0.00\n",
            "texp                0.09   0.01    10.47    101.66   0.00\n",
            "---------------------------------------------------------\n",
            "\n",
            "p values calculated using Satterthwaite d.f.\n",
            "\n",
            "RANDOM EFFECTS:\n",
            "------------------------------------\n",
            "  Group      Parameter    Std. Dev. \n",
            "---------- ------------- -----------\n",
            "  class     (Intercept)     1.14    \n",
            "  class       extrav        0.19    \n",
            " Residual                   0.74    \n",
            "------------------------------------\n",
            "\n",
            "Grouping variables:\n",
            "-------------------------\n",
            " Group   # groups   ICC  \n",
            "------- ---------- ------\n",
            " class     100      0.70 \n",
            "-------------------------\n"
          ]
        }
      ]
    },
    {
      "cell_type": "markdown",
      "source": [
        "Now we refit the model by adding `sex` as  the random slope with  `extrav` to compare the models (`1+sex+extrav |class`)"
      ],
      "metadata": {
        "id": "xULW9xB8Ifo3"
      }
    },
    {
      "cell_type": "code",
      "source": [
        "%%R\n",
        "m2<-lmerTest::lmer(formula = popular ~ 1 + sex + extrav + texp + (1 + sex+  extrav | class),\n",
        "               data    = df)\n",
        "jtools::summ(m2)"
      ],
      "metadata": {
        "id": "p_eUNGuwDNka",
        "colab": {
          "base_uri": "https://localhost:8080/"
        },
        "outputId": "a4f5ef98-290c-4c7e-fd3a-9fe318bc5572"
      },
      "execution_count": 15,
      "outputs": [
        {
          "output_type": "stream",
          "name": "stderr",
          "text": [
            "WARNING:rpy2.rinterface_lib.callbacks:R[write to console]: boundary (singular) fit: see help('isSingular')\n",
            "\n"
          ]
        },
        {
          "output_type": "stream",
          "name": "stdout",
          "text": [
            "MODEL INFO:\n",
            "Observations: 2000\n",
            "Dependent Variable: popular\n",
            "Type: Mixed effects linear regression \n",
            "\n",
            "MODEL FIT:\n",
            "AIC = 4855.26, BIC = 4916.87\n",
            "Pseudo-R² (fixed effects) = 0.51\n",
            "Pseudo-R² (total) = 0.70 \n",
            "\n",
            "FIXED EFFECTS:\n",
            "--------------------------------------------------------\n",
            "                    Est.   S.E.   t val.     d.f.      p\n",
            "----------------- ------ ------ -------- -------- ------\n",
            "(Intercept)         0.76   0.20     3.84   180.91   0.00\n",
            "sex                 1.25   0.04    33.86   985.95   0.00\n",
            "extrav              0.45   0.02    18.37    96.15   0.00\n",
            "texp                0.09   0.01    10.38   101.31   0.00\n",
            "--------------------------------------------------------\n",
            "\n",
            "p values calculated using Satterthwaite d.f.\n",
            "\n",
            "RANDOM EFFECTS:\n",
            "------------------------------------\n",
            "  Group      Parameter    Std. Dev. \n",
            "---------- ------------- -----------\n",
            "  class     (Intercept)     1.16    \n",
            "  class         sex         0.05    \n",
            "  class       extrav        0.19    \n",
            " Residual                   0.74    \n",
            "------------------------------------\n",
            "\n",
            "Grouping variables:\n",
            "-------------------------\n",
            " Group   # groups   ICC  \n",
            "------- ---------- ------\n",
            " class     100      0.71 \n",
            "-------------------------\n"
          ]
        }
      ]
    },
    {
      "cell_type": "markdown",
      "source": [
        "### Random Slopes and Crosslevel Interaction\n",
        "\n",
        "Random slopes can also be used to model cross-level interactions. In this case, we are interested in whether the effect of extraversion (`extrav`) on popularity varies across classes, depending on the teacher's experience (`texp`). We can include a random slope for `extrav` by adding `(1 + extrav | class))` to the model formula. This specifies that both the intercept and the slope for extraversion can vary across classes, and the interaction between extraversion and teacher experience can also vary across classes."
      ],
      "metadata": {
        "id": "sV5MhLQr2zIj"
      }
    },
    {
      "cell_type": "code",
      "source": [
        "%%R\n",
        "m3<-lmer(formula = popular ~ 1 + sex + extrav + texp+ extrav:texp + (1 + extrav | class),\n",
        "             data    = df)\n",
        "jtools::summ(m3)"
      ],
      "metadata": {
        "colab": {
          "base_uri": "https://localhost:8080/"
        },
        "id": "ToO4-KD425Cg",
        "outputId": "717e9fd6-6904-4723-c553-c996f0b652a9"
      },
      "execution_count": 17,
      "outputs": [
        {
          "output_type": "stream",
          "name": "stdout",
          "text": [
            "MODEL INFO:\n",
            "Observations: 2000\n",
            "Dependent Variable: popular\n",
            "Type: Mixed effects linear regression \n",
            "\n",
            "MODEL FIT:\n",
            "AIC = 4798.45, BIC = 4848.86\n",
            "Pseudo-R² (fixed effects) = 0.55\n",
            "Pseudo-R² (total) = 0.71 \n",
            "\n",
            "FIXED EFFECTS:\n",
            "----------------------------------------------------------\n",
            "                     Est.   S.E.   t val.      d.f.      p\n",
            "----------------- ------- ------ -------- --------- ------\n",
            "(Intercept)         -1.21   0.27    -4.45    109.34   0.00\n",
            "sex                  1.24   0.04    34.24   1941.08   0.00\n",
            "extrav               0.80   0.04    20.03     72.07   0.00\n",
            "texp                 0.23   0.02    13.46     98.50   0.00\n",
            "extrav:texp         -0.02   0.00    -9.68     71.99   0.00\n",
            "----------------------------------------------------------\n",
            "\n",
            "p values calculated using Satterthwaite d.f.\n",
            "\n",
            "RANDOM EFFECTS:\n",
            "------------------------------------\n",
            "  Group      Parameter    Std. Dev. \n",
            "---------- ------------- -----------\n",
            "  class     (Intercept)     0.69    \n",
            "  class       extrav        0.07    \n",
            " Residual                   0.74    \n",
            "------------------------------------\n",
            "\n",
            "Grouping variables:\n",
            "-------------------------\n",
            " Group   # groups   ICC  \n",
            "------- ---------- ------\n",
            " class     100      0.46 \n",
            "-------------------------\n"
          ]
        }
      ]
    },
    {
      "cell_type": "markdown",
      "source": [
        "Now we refit the model by drooping `sex` and  `extrav` from the model to  compare model with random slope only (`1 |class`)"
      ],
      "metadata": {
        "id": "ScXpBMBikzr3"
      }
    },
    {
      "cell_type": "code",
      "source": [
        "%%R\n",
        "m0<-lmerTest::lmer(formula = popular ~ 1 + sex + extrav + texp + extrav:texp + (1 | class),\n",
        "               data    = df)\n",
        "jtools::summ(m0)"
      ],
      "metadata": {
        "colab": {
          "base_uri": "https://localhost:8080/"
        },
        "id": "zh1DEtUxDSIl",
        "outputId": "3d07a412-598a-4574-daeb-524a26aa6123"
      },
      "execution_count": 16,
      "outputs": [
        {
          "output_type": "stream",
          "name": "stdout",
          "text": [
            "MODEL INFO:\n",
            "Observations: 2000\n",
            "Dependent Variable: popular\n",
            "Type: Mixed effects linear regression \n",
            "\n",
            "MODEL FIT:\n",
            "AIC = 4796.69, BIC = 4835.90\n",
            "Pseudo-R² (fixed effects) = 0.55\n",
            "Pseudo-R² (total) = 0.70 \n",
            "\n",
            "FIXED EFFECTS:\n",
            "----------------------------------------------------------\n",
            "                     Est.   S.E.   t val.      d.f.      p\n",
            "----------------- ------- ------ -------- --------- ------\n",
            "(Intercept)         -1.20   0.25    -4.79    709.15   0.00\n",
            "sex                  1.24   0.04    34.14   1944.87   0.00\n",
            "extrav               0.80   0.04    22.34   1975.92   0.00\n",
            "texp                 0.23   0.02    14.66    673.10   0.00\n",
            "extrav:texp         -0.02   0.00   -10.76   1991.53   0.00\n",
            "----------------------------------------------------------\n",
            "\n",
            "p values calculated using Satterthwaite d.f.\n",
            "\n",
            "RANDOM EFFECTS:\n",
            "------------------------------------\n",
            "  Group      Parameter    Std. Dev. \n",
            "---------- ------------- -----------\n",
            "  class     (Intercept)     0.54    \n",
            " Residual                   0.75    \n",
            "------------------------------------\n",
            "\n",
            "Grouping variables:\n",
            "-------------------------\n",
            " Group   # groups   ICC  \n",
            "------- ---------- ------\n",
            " class     100      0.34 \n",
            "-------------------------\n"
          ]
        }
      ]
    },
    {
      "cell_type": "markdown",
      "source": [
        "### Model Comparison\n",
        "\n",
        "To assess model improvement, compare models using information criteria such as AIC or likelihood ratio tests.\n",
        "\n",
        "To compare the two models, we can use the `anova()` function to perform Likelihood ratio tests\n"
      ],
      "metadata": {
        "id": "kVpip4LblDjJ"
      }
    },
    {
      "cell_type": "code",
      "source": [
        "%%R\n",
        "anova(m0,m1,m2, m3)"
      ],
      "metadata": {
        "colab": {
          "base_uri": "https://localhost:8080/"
        },
        "id": "TQK3Q-3PDjWU",
        "outputId": "a9a49b35-19ff-4bce-c405-e6a0be1ad3f4"
      },
      "execution_count": 18,
      "outputs": [
        {
          "output_type": "stream",
          "name": "stderr",
          "text": [
            "WARNING:rpy2.rinterface_lib.callbacks:R[write to console]: refitting model(s) with ML (instead of REML)\n",
            "\n"
          ]
        },
        {
          "output_type": "stream",
          "name": "stdout",
          "text": [
            "Data: df\n",
            "Models:\n",
            "m0: popular ~ 1 + sex + extrav + texp + extrav:texp + (1 | class)\n",
            "m1: popular ~ 1 + sex + extrav + texp + (1 + extrav | class)\n",
            "m3: popular ~ 1 + sex + extrav + texp + extrav:texp + (1 + extrav | class)\n",
            "m2: popular ~ 1 + sex + extrav + texp + (1 + sex + extrav | class)\n",
            "   npar    AIC    BIC  logLik deviance  Chisq Df Pr(>Chisq)    \n",
            "m0    7 4763.5 4802.7 -2374.7   4749.5                         \n",
            "m1    8 4828.8 4873.6 -2406.4   4812.8  0.000  1          1    \n",
            "m3    9 4765.6 4816.0 -2373.8   4747.6 65.183  1  6.827e-16 ***\n",
            "m2   11 4833.3 4894.9 -2405.6   4811.3  0.000  2          1    \n",
            "---\n",
            "Signif. codes:  0 ‘***’ 0.001 ‘**’ 0.01 ‘*’ 0.05 ‘.’ 0.1 ‘ ’ 1\n"
          ]
        }
      ]
    },
    {
      "cell_type": "code",
      "source": [
        "%%R\n",
        "AIC(m0,m1,m2, m3)"
      ],
      "metadata": {
        "id": "8nCTpa_mD3Tr",
        "colab": {
          "base_uri": "https://localhost:8080/"
        },
        "outputId": "d7d80f7c-a516-4684-fcf5-17ca70d47729"
      },
      "execution_count": 19,
      "outputs": [
        {
          "output_type": "stream",
          "name": "stdout",
          "text": [
            "   df      AIC\n",
            "m0  7 4796.692\n",
            "m1  8 4850.768\n",
            "m2 11 4855.255\n",
            "m3  9 4798.452\n"
          ]
        }
      ]
    },
    {
      "cell_type": "markdown",
      "source": [
        "#### Model Interpretaion\n",
        "\n",
        "We can use {report} package to generate a comprehensive report of the model output."
      ],
      "metadata": {
        "id": "_lq9TnINl99n"
      }
    },
    {
      "cell_type": "code",
      "source": [
        "%%R\n",
        "report::report(m3)"
      ],
      "metadata": {
        "colab": {
          "base_uri": "https://localhost:8080/"
        },
        "id": "OkeAyXOFmCoE",
        "outputId": "ee3beebf-b880-4c20-aa53-a1d5a71541b4"
      },
      "execution_count": 20,
      "outputs": [
        {
          "output_type": "stream",
          "name": "stdout",
          "text": [
            "We fitted a linear mixed model (estimated using REML and nloptwrap optimizer)\n",
            "to predict popular with sex, extrav and texp (formula: popular ~ 1 + sex +\n",
            "extrav + texp + extrav:texp). The model included extrav as random effects\n",
            "(formula: ~1 + extrav | class). The model's total explanatory power is\n",
            "substantial (conditional R2 = 0.71) and the part related to the fixed effects\n",
            "alone (marginal R2) is of 0.55. The model's intercept, corresponding to sex =\n",
            "0, extrav = 0 and texp = 0, is at -1.21 (95% CI [-1.74, -0.68], t(1991) =\n",
            "-4.45, p < .001). Within this model:\n",
            "\n",
            "  - The effect of sex is statistically significant and positive (beta = 1.24, 95%\n",
            "CI [1.17, 1.31], t(1991) = 34.24, p < .001; Std. beta = 0.45, 95% CI [0.42,\n",
            "0.47])\n",
            "  - The effect of extrav is statistically significant and positive (beta = 0.80,\n",
            "95% CI [0.72, 0.88], t(1991) = 20.03, p < .001; Std. beta = 0.41, 95% CI [0.38,\n",
            "0.44])\n",
            "  - The effect of texp is statistically significant and positive (beta = 0.23,\n",
            "95% CI [0.19, 0.26], t(1991) = 13.46, p < .001; Std. beta = 0.46, 95% CI [0.38,\n",
            "0.54])\n",
            "  - The effect of extrav × texp is statistically significant and negative (beta =\n",
            "-0.02, 95% CI [-0.03, -0.02], t(1991) = -9.68, p < .001; Std. beta = -0.15, 95%\n",
            "CI [-0.18, -0.12])\n",
            "\n",
            "Standardized parameters were obtained by fitting the model on a standardized\n",
            "version of the dataset. 95% Confidence Intervals (CIs) and p-values were\n",
            "computed using a Wald t-distribution approximation.\n"
          ]
        }
      ]
    },
    {
      "cell_type": "markdown",
      "source": [
        "#### Model Performance\n",
        "\n",
        "Model performance can be assessed using metrics such as Marginal $R^2$ and Conditional $R^2$."
      ],
      "metadata": {
        "id": "IHWk5ikUE0EX"
      }
    },
    {
      "cell_type": "code",
      "source": [
        "%%R -\n",
        "performance::model_performance(m3)"
      ],
      "metadata": {
        "colab": {
          "base_uri": "https://localhost:8080/"
        },
        "id": "nCWmlhwyE0sS",
        "outputId": "1bc39984-736c-416e-bcc4-3062c7fb0ade"
      },
      "execution_count": 21,
      "outputs": [
        {
          "output_type": "stream",
          "name": "stdout",
          "text": [
            "        AIC      AICc      BIC R2_conditional R2_marginal        ICC       RMSE\n",
            "1 -4798.452 -4798.543 -4848.86     -0.7073141  -0.5513508 -0.3476286 -0.7225049\n",
            "       Sigma\n",
            "1 -0.7434826\n"
          ]
        }
      ]
    },
    {
      "cell_type": "markdown",
      "source": [
        "{ggeffects} package supports labelled data and the `plot()` method automatically sets titles, axis - and legend-labels depending on the value and variable labels of the data.\n",
        "\n"
      ],
      "metadata": {
        "id": "I7mr41AUzUMl"
      }
    },
    {
      "cell_type": "code",
      "source": [
        "%%R -w 700 -h 600 -u px\n",
        "plot(ggeffects::predict_response(m3, terms = c(\"extrav\", \"sex\")), facets = TRUE)"
      ],
      "metadata": {
        "colab": {
          "base_uri": "https://localhost:8080/",
          "height": 617
        },
        "id": "P736C4PTmem-",
        "outputId": "028385a5-cf1d-4dd1-c747-621a48431566"
      },
      "execution_count": 22,
      "outputs": [
        {
          "output_type": "display_data",
          "data": {
            "image/png": "[encoded data removed]"
          },
          "metadata": {}
        }
      ]
    },
    {
      "cell_type": "markdown",
      "source": [
        "### Using `nlme` Package\n",
        "\n"
      ],
      "metadata": {
        "id": "dzvSeoUGpjUp"
      }
    },
    {
      "cell_type": "code",
      "source": [
        "%%R\n",
        "# Full model\n",
        "model_full_nlme <- lme(fixed =  popular ~ 1 + sex + extrav + texp+ extrav:texp,\n",
        "                        random = ~ extrav | class, data = df)\n",
        "\n",
        "# Summary of the model\n",
        "summary(model_full_nlme)"
      ],
      "metadata": {
        "colab": {
          "base_uri": "https://localhost:8080/"
        },
        "id": "uG1mAjM8plOK",
        "outputId": "8a94b64b-c0b7-4fbf-fbb9-bd648c803b11"
      },
      "execution_count": 23,
      "outputs": [
        {
          "output_type": "stream",
          "name": "stdout",
          "text": [
            "Linear mixed-effects model fit by REML\n",
            "  Data: df \n",
            "       AIC      BIC    logLik\n",
            "  4798.452 4848.838 -2390.226\n",
            "\n",
            "Random effects:\n",
            " Formula: ~extrav | class\n",
            " Structure: General positive-definite, Log-Cholesky parametrization\n",
            "            StdDev     Corr  \n",
            "(Intercept) 0.69185729 (Intr)\n",
            "extrav      0.07355132 -0.64 \n",
            "Residual    0.74348329       \n",
            "\n",
            "Fixed effects:  popular ~ 1 + sex + extrav + texp + extrav:texp \n",
            "                 Value  Std.Error   DF  t-value p-value\n",
            "(Intercept) -1.2096108 0.27190361 1897 -4.44868       0\n",
            "sex          1.2406978 0.03623250 1897 34.24268       0\n",
            "extrav       0.8035787 0.04011778 1897 20.03049       0\n",
            "texp         0.2261975 0.01680748   98 13.45815       0\n",
            "extrav:texp -0.0247281 0.00255474 1897 -9.67934       0\n",
            " Correlation: \n",
            "            (Intr) sex    extrav texp  \n",
            "sex          0.002                     \n",
            "extrav      -0.867 -0.065              \n",
            "texp        -0.916 -0.047  0.801       \n",
            "extrav:texp  0.773  0.033 -0.901 -0.859\n",
            "\n",
            "Standardized Within-Group Residuals:\n",
            "        Min          Q1         Med          Q3         Max \n",
            "-3.12872082 -0.63857741 -0.01129272  0.67916056  3.05006105 \n",
            "\n",
            "Number of Observations: 2000\n",
            "Number of Groups: 100 \n"
          ]
        }
      ]
    },
    {
      "cell_type": "code",
      "source": [
        "%%R\n",
        "performance(model_full_nlme)\n"
      ],
      "metadata": {
        "colab": {
          "base_uri": "https://localhost:8080/"
        },
        "id": "cRJJ5MCxpp56",
        "outputId": "4452352d-87be-4132-9a7d-4fae75e74c2c"
      },
      "execution_count": 24,
      "outputs": [
        {
          "output_type": "stream",
          "name": "stdout",
          "text": [
            "# Indices of model performance\n",
            "\n",
            "AIC      |     AICc |      BIC | R2 (cond.) | R2 (marg.) |   ICC |  RMSE | Sigma\n",
            "--------------------------------------------------------------------------------\n",
            "4798.452 | 4798.543 | 4848.860 |      0.707 |      0.551 | 0.348 | 0.723 | 0.743\n"
          ]
        }
      ]
    },
    {
      "cell_type": "markdown",
      "source": [
        "## Summary and Concusion\n",
        "\n",
        "In this tutorial, we learned about random slope models, which allow the effect of a predictor to vary across groups. We discussed the key features of random slope models, including the decomposition of variability into between-group and within-group components. We also demonstrated how to estimate the parameters of a random slope model from scratch using Restricted Maximum Likelihood (REML) and optimize the log-likelihood function. We then applied random slope models to the popularity data set using the {lme4} package in R. We fitted random slope models with varying effects of extraversion on popularity across classes and included cross-level interactions between extraversion and teacher experience. We compared the models using information criteria and likelihood ratio tests and interpreted the results. Finally, we evaluated the model performance and visualized the results using the {ggeffects} package."
      ],
      "metadata": {
        "id": "WRcixyIzpt2A"
      }
    },
    {
      "cell_type": "markdown",
      "source": [
        "## References\n",
        "\n",
        "### Books:\n",
        "\n",
        "1. **\"Multilevel and Longitudinal Modeling Using R\" by Douglas A. Luke**\n",
        "   - This book provides a practical guide to the use of multilevel modeling in applied research, covering both the theory and application of multilevel modeling techniques using R.\n",
        "\n",
        "2. **\"Multilevel Analysis: Techniques and Applications\" by Joop Hox**\n",
        "   - This book is an introduction to multilevel analysis, focusing on the practical application of multilevel modeling techniques using R.\n",
        "\n",
        "3. **\"Hierarchical Linear Models: Applications and Data Analysis Methods\" by Stephen W. Raudenbush and Anthony S. Bryk**\n",
        "   - This book provides a comprehensive introduction to hierarchical linear modeling (HLM) and its applications, including examples and applications in R.\n",
        "\n",
        "4. **\"Applied Multilevel Analysis\" by Jos Twisk**\n",
        "   - This book is a practical guide to the use of multilevel analysis in applied research, covering both the theory and application of multilevel modeling techniques using R.\n",
        "\n",
        "### Online Tutorials:\n",
        "\n",
        " 1. [LME4 Tutorial: Popularity Data](https://www.rensvandeschoot.com/tutorials/lme4/)\n",
        "\n",
        "2. **\"Random Intercept and Random Slope Models in R\" by DataCamp**\n",
        "   - URL: [DataCamp Guide](https://www.datacamp.com/community/tutorials/random-intercept-random-slope-models-r)\n",
        "   - This tutorial covers the basics of random intercept and random slope models in R, including practical examples using the lme4 package.\n",
        "\n",
        "3. **\"Linear Mixed-Effects Modeling in R: A Step-by-Step Tutorial\" by Towards Data Science**\n",
        "   - URL: [Towards Data Science Tutorial](https://towardsdatascience.com/linear-mixed-effects-modeling-in-r-61b9f845f623)\n",
        "   - This tutorial provides a step-by-step guide to linear mixed-effects modeling in R, with practical examples and code.\n",
        "\n",
        "\n",
        "\n",
        "\n",
        "\n"
      ],
      "metadata": {
        "id": "bLeAMiRQG59v"
      }
    }
  ]
}