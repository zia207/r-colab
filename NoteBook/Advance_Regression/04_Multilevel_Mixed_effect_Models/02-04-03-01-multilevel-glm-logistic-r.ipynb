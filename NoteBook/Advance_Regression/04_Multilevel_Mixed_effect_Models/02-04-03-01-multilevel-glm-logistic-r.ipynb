{
  "nbformat": 4,
  "nbformat_minor": 0,
  "metadata": {
    "colab": {
      "provenance": [],
      "toc_visible": true,
      "authorship_tag": "ABX9TyOTVu2RicGBcoUbmO3U2X2n",
      "include_colab_link": true
    },
    "kernelspec": {
      "name": "python3",
      "display_name": "Python 3"
    },
    "language_info": {
      "name": "python"
    }
  },
  "cells": [
    {
      "cell_type": "markdown",
      "metadata": {
        "id": "view-in-github",
        "colab_type": "text"
      },
      "source": [
        "<a href=\"https://colab.research.google.com/github/zia207/r-colab/blob/main/NoteBook/Advance_Regression/02-04-03-01-multilevel-glm-logistic-r.ipynb\" target=\"_parent\"><img src=\"https://colab.research.google.com/assets/colab-badge.svg\" alt=\"Open In Colab\"/></a>"
      ]
    },
    {
      "cell_type": "markdown",
      "source": [
        "![alt text](http://drive.google.com/uc?export=view&id=1bLQ3nhDbZrCCqy_WCxxckOne2lgVvn3l)"
      ],
      "metadata": {
        "id": "4qrItz_mJNWw"
      }
    },
    {
      "cell_type": "markdown",
      "source": [
        "# 3.1. Mutilevel Logistic Model (MLLM)\n",
        "\n",
        "Multilevel Logistic Models (MLLM) are powerful statistical tools for analyzing binary outcomes, such as success/failure or yes/no responses, within datasets with a hierarchical structure. These models account for the fact that observations within the same group are not independent; for example, individuals within schools or hospital patients. This tutorial will provide an overview of MLLM and demonstrate how to fit these models from scratch using the {lme4} package, simplifying the modeling process and offering efficient estimation algorithms. This tutorial introduces the fundamentals of Multilevel Logistic Models, presenting a manual approach and a more streamlined method using the {lme4} package. For practical applications, {lme4} is the preferred solution, as it simplifies the modeling process and ensures accurate estimation of both fixed and random effects."
      ],
      "metadata": {
        "id": "Dzp9ZseROTcY"
      }
    },
    {
      "cell_type": "markdown",
      "source": [
        "## Overview\n",
        "\n",
        "The **Multilevel Logistic Model (MLLM)** is used to model binary outcomes ($Y = 0$ or $1$) in hierarchical or nested data structures. It is an extension of logistic regression, incorporating both fixed and random effects to account for within-group and between-group variability.\n",
        "\n",
        "The probability of the binary outcome $Y_{ij} = 1$ (e.g., contraception use) for individual $i$ in group $j$ is modeled as:\n",
        "\n",
        "$$ P(Y_{ij} = 1) = \\frac{\\exp(\\eta_{ij})}{1 + \\exp(\\eta_{ij})} $$\n",
        "where $\\eta_{ij}$ is the **linear predictor**, defined as:\n",
        "\n",
        "$$ \\eta_{ij} = \\beta_0 + \\beta_1 X_{ij1} + \\beta_2 X_{ij2} + \\dots + u_j $$\n",
        "***Components of the Model***\n",
        "\n",
        "1. **Fixed Effects (\\(\\beta\\)):**\n",
        "\n",
        "   - Represent the overall effect of predictors across all groups.\n",
        "   - Example: $\\beta_1 X_{ij1}$, where $X_{ij1}$ is an individual-level predictor (e.g., age).\n",
        "\n",
        "2. **Random Effects (\\(u_j\\)):**\n",
        "\n",
        "   - Capture group-specific deviations from the overall intercept ($\\beta_0$).\n",
        "   - Example: $u_j$ models variability at the group level (e.g., community-specific factors).\n",
        "\n",
        "3. **Variance Decomposition:**\n",
        "\n",
        "   - The total variability is split into within-group and between-group components:\n",
        "   \n",
        "   $$ \\text{Var}(Y_{ij}) = \\text{Within-group variance} + \\text{Between-group variance} $$\n",
        "  \n",
        "***Example of Two-Level Model***\n",
        "\n",
        "**Level 1 (Individual):**\n",
        "\n",
        "$$ \\eta_{ij} = \\beta_0 + \\beta_1 X_{ij1} + \\beta_2 X_{ij2} + u_j $$\n",
        "**Level 2 (Group):**\n",
        "\n",
        "$$ u_j \\sim N(0, \\sigma_u^2) $$\n",
        "- $u_j$: Random effect for group $j$, assumed to follow a normal distribution with mean 0 and variance $\\sigma_u^2$.\n",
        "\n",
        "**Combined Model**:\n",
        "\n",
        "$$ \\eta_{ij} = \\beta_0 + \\beta_1 X_{ij1} + \\beta_2 X_{ij2} + u_j $$\n",
        "\n",
        "\n",
        "- The **log-odds** ($\\eta_{ij}$) is modeled as a sum of fixed effects ($\\beta$) and random effects ($u_j$).\n",
        "\n",
        "***Likelihood Function***\n",
        "\n",
        "The model is estimated by maximizing the likelihood:\n",
        "\n",
        "$$ \\mathcal{L}(\\beta, \\sigma_u^2) = \\prod_{j=1}^{J} \\prod_{i=1}^{n_j} P(Y_{ij} = 1)^{Y_{ij}} (1 - P(Y_{ij} = 1))^{1 - Y_{ij}} $$\n",
        "where:\n",
        "\n",
        "- $J$: Number of groups.\n",
        "- $n_j$: Number of individuals in group $j$.\n",
        "\n",
        "***Interpretation***\n",
        "\n",
        "1. **Fixed Effects ($\\beta$):**\n",
        "   - Quantify the effect of predictors on the log-odds of $Y = 1$.\n",
        "  \n",
        "2. **Random Effects ($u_j$):**\n",
        "   - Account for group-specific variability.\n",
        "\n",
        "For example:\n",
        "\n",
        "- If $u_j$ > 0: Group $j$ has higher odds of the outcome compared to the overall average.\n",
        "- If $u_j$ < 0: Group $j# has lower odds of the outcome."
      ],
      "metadata": {
        "id": "TpcIOkTs30qp"
      }
    },
    {
      "cell_type": "markdown",
      "source": [
        "## Install rpy2"
      ],
      "metadata": {
        "id": "SDp3ULld8Gb9"
      }
    },
    {
      "cell_type": "code",
      "source": [
        "!pip uninstall rpy2 -y\n",
        "!pip install rpy2==3.5.1\n",
        "%load_ext rpy2.ipython"
      ],
      "metadata": {
        "id": "CiM6y-Mw8AJp",
        "colab": {
          "base_uri": "https://localhost:8080/"
        },
        "outputId": "55cfef42-e2d0-4119-9e94-14f81eccac8a"
      },
      "execution_count": 2,
      "outputs": [
        {
          "output_type": "stream",
          "name": "stdout",
          "text": [
            "Found existing installation: rpy2 3.5.1\n",
            "Uninstalling rpy2-3.5.1:\n",
            "  Successfully uninstalled rpy2-3.5.1\n",
            "Collecting rpy2==3.5.1\n",
            "  Using cached rpy2-3.5.1-cp311-cp311-linux_x86_64.whl\n",
            "Requirement already satisfied: cffi>=1.10.0 in /usr/local/lib/python3.11/dist-packages (from rpy2==3.5.1) (1.17.1)\n",
            "Requirement already satisfied: jinja2 in /usr/local/lib/python3.11/dist-packages (from rpy2==3.5.1) (3.1.5)\n",
            "Requirement already satisfied: pytz in /usr/local/lib/python3.11/dist-packages (from rpy2==3.5.1) (2025.1)\n",
            "Requirement already satisfied: tzlocal in /usr/local/lib/python3.11/dist-packages (from rpy2==3.5.1) (5.3)\n",
            "Requirement already satisfied: pycparser in /usr/local/lib/python3.11/dist-packages (from cffi>=1.10.0->rpy2==3.5.1) (2.22)\n",
            "Requirement already satisfied: MarkupSafe>=2.0 in /usr/local/lib/python3.11/dist-packages (from jinja2->rpy2==3.5.1) (3.0.2)\n",
            "Installing collected packages: rpy2\n",
            "Successfully installed rpy2-3.5.1\n"
          ]
        }
      ]
    },
    {
      "cell_type": "markdown",
      "source": [
        "## Mount Google Drive"
      ],
      "metadata": {
        "id": "O1zeuaCowiBt"
      }
    },
    {
      "cell_type": "code",
      "source": [
        "from google.colab import drive\n",
        "drive.mount('/content/drive')"
      ],
      "metadata": {
        "colab": {
          "base_uri": "https://localhost:8080/"
        },
        "id": "9J-4ie4bwiJ1",
        "outputId": "c14841e5-e7fc-4473-976e-f54133a47698"
      },
      "execution_count": 3,
      "outputs": [
        {
          "output_type": "stream",
          "name": "stdout",
          "text": [
            "Drive already mounted at /content/drive; to attempt to forcibly remount, call drive.mount(\"/content/drive\", force_remount=True).\n"
          ]
        }
      ]
    },
    {
      "cell_type": "markdown",
      "source": [
        "## Multilevel Logistic Model (MLLM) from Scratch\n",
        "\n",
        "Here's an example of a Multilevel Logistic Model (MLLM) implemented in base R using synthetic data. We will analyze binary outcomes (e.g., whether a student passes or fails) with students nested within schools. The model includes fixed effects for teacher experience and funding per student, as well as a random effect for school-level variation. The model includes fixed effects for teacher experience and funding per student, as well as a random effect for school-level variation. We will fit the model manually without using any packages to understand the underlying principles.\n",
        "\n",
        "Suppose students ($j$) within schools ($i$) and we want to model the probability of passing an exam as a function of study hours. We will fit a Generalized Multilevel Model (GMLM) with a binary outcome (`pass/fail`) using a logit link function. The model includes fixed effects for study hours and random effects for school-level variation.\n",
        "\n",
        "$$ \\text{logit}(\\mu_{ij}) = \\beta_0 + \\beta_1 X_{ij} + u_i $$\n",
        "\n",
        "Where:\n",
        "\n",
        "-   $\\beta_0$: Average log-odds of passing.\n",
        "-   $\\beta_1$: Effect of predictor $X{ij}$) (e.g., hours of study).\n",
        "-   $u_i \\sim N(0, \\sigma^2_u)$: Random effect for school $i$."
      ],
      "metadata": {
        "id": "UdMcXPIF4Bly"
      }
    },
    {
      "cell_type": "markdown",
      "source": [
        "### Simulate the data\n",
        "\n",
        "First we create  dataset with variables `score`, `hours`, and `school`. `score` is the outcome variable, `hours` is the predictor, and `school` is the grouping variable. We also generate random effects for each school and fixed effects for the intercept and hours."
      ],
      "metadata": {
        "id": "ztl1QBDb4MYe"
      }
    },
    {
      "cell_type": "code",
      "source": [
        "%%R\n",
        "# Set seed for reproducibility\n",
        "set.seed(123)\n",
        "\n",
        "# Generate synthetic data\n",
        "n_schools <- 10\n",
        "n_students_per_school <- 50\n",
        "total_students <- n_schools * n_students_per_school\n",
        "\n",
        "# School-level random effect (variation between schools)\n",
        "school_effect <- rnorm(n_schools, mean = 0, sd = 1)\n",
        "\n",
        "# Generate predictor variables\n",
        "school_id <- rep(1:n_schools, each = n_students_per_school)\n",
        "experience <- rnorm(total_students, mean = 5, sd = 2)  # Teacher experience in years\n",
        "funding <- rep(rnorm(n_schools, mean = 100, sd = 20), each = n_students_per_school)  # Funding per student\n",
        "\n",
        "# Fixed effects\n",
        "beta_0 <- -1  # Intercept\n",
        "beta_experience <- 0.5  # Effect of teacher experience\n",
        "beta_funding <- 0.01  # Effect of funding\n",
        "\n",
        "# Linear predictor\n",
        "linear_predictor <- beta_0 + beta_experience * experience + beta_funding * funding + school_effect[school_id]\n",
        "\n",
        "# Generate binary outcome (pass/fail) using logistic link\n",
        "prob <- 1 / (1 + exp(-linear_predictor))  # Logistic transformation\n",
        "pass_fail <- rbinom(total_students, size = 1, prob = prob)  # Generate binary outcome\n",
        "\n",
        "# Combine into a data frame\n",
        "data <- data.frame(\n",
        "  school_id = school_id,\n",
        "  experience = experience,\n",
        "  funding = funding,\n",
        "  pass_fail = pass_fail\n",
        ")\n",
        "head(data)"
      ],
      "metadata": {
        "id": "q82MNCn64Q0w",
        "colab": {
          "base_uri": "https://localhost:8080/"
        },
        "outputId": "05a8cc8a-abf8-4c6c-8b1c-273ecdfd2508"
      },
      "execution_count": 3,
      "outputs": [
        {
          "output_type": "stream",
          "name": "stdout",
          "text": [
            "  school_id experience  funding pass_fail\n",
            "1         1   7.448164 98.05261         1\n",
            "2         1   5.719628 98.05261         1\n",
            "3         1   5.801543 98.05261         1\n",
            "4         1   5.221365 98.05261         1\n",
            "5         1   3.888318 98.05261         1\n",
            "6         1   8.573826 98.05261         1\n"
          ]
        }
      ]
    },
    {
      "cell_type": "markdown",
      "source": [
        "### Fit a MLLM\n",
        "\n",
        "Without using any packages, we can approximate a generalized multilevel model by iteratively adjusting for group-level effects and fixed effects. This manual approach provides a basic understanding of the model fitting process and the iterative nature of estimating parameters.\n"
      ],
      "metadata": {
        "id": "4BpOoaj34eBU"
      }
    },
    {
      "cell_type": "code",
      "source": [
        "%%R\n",
        "# Initialize parameters for fitting\n",
        "beta_0_hat <- -1\n",
        "beta_experience_hat <- 0.5\n",
        "beta_funding_hat <- 0.01\n",
        "school_effect_hat <- rep(0, n_schools)  # Start with random effects as 0\n",
        "\n",
        "# Logistic function\n",
        "logistic <- function(x) {\n",
        "  1 / (1 + exp(-x))\n",
        "}\n",
        "\n",
        "# Iteratively fit the model (manual approximation)\n",
        "for (iter in 1:100) {\n",
        "  # Linear predictor\n",
        "  linear_predictor_hat <- beta_0_hat +\n",
        "    beta_experience_hat * data$experience +\n",
        "    beta_funding_hat * data$funding +\n",
        "    school_effect_hat[data$school_id]\n",
        "\n",
        "  # Predicted probabilities\n",
        "  prob_hat <- logistic(linear_predictor_hat)\n",
        "\n",
        "  # Residuals\n",
        "  residuals <- data$pass_fail - prob_hat\n",
        "\n",
        "  # Update fixed effects using basic gradient descent\n",
        "  beta_0_hat <- beta_0_hat + 0.001 * sum(residuals)\n",
        "  beta_experience_hat <- beta_experience_hat + 0.001 * sum(residuals * data$experience)\n",
        "  beta_funding_hat <- beta_funding_hat + 0.001 * sum(residuals * data$funding)\n",
        "\n",
        "  # Update random effects (group-level adjustments)\n",
        "  for (j in 1:n_schools) {\n",
        "    school_effect_hat[j] <- school_effect_hat[j] +\n",
        "      0.001 * sum(residuals[data$school_id == j])\n",
        "  }\n",
        "}\n"
      ],
      "metadata": {
        "id": "soSBO_2B4qVv"
      },
      "execution_count": 4,
      "outputs": []
    },
    {
      "cell_type": "markdown",
      "source": [
        "### Results\n",
        "\n",
        "After fitting the model manually, we can display the estimated intercept, fixed effects, and random effects (school-level variation, for example) to understand the model's parameters and their interpretation."
      ],
      "metadata": {
        "id": "-JuTDU0fBTIX"
      }
    },
    {
      "cell_type": "code",
      "source": [
        "%%R\n",
        "# Display results\n",
        "cat(\"Estimated Intercept (beta_0):\", beta_0_hat, \"\\n\")\n",
        "cat(\"Estimated Experience Effect (beta_experience):\", beta_experience_hat, \"\\n\")\n",
        "cat(\"Estimated Funding Effect (beta_funding):\", beta_funding_hat, \"\\n\")\n",
        "cat(\"Random Effects (school-level):\", school_effect_hat, \"\\n\")"
      ],
      "metadata": {
        "id": "8mioZdwbBT_S",
        "colab": {
          "base_uri": "https://localhost:8080/"
        },
        "outputId": "ef89755a-88fc-472c-8dd4-07bf2a116bb9"
      },
      "execution_count": 5,
      "outputs": [
        {
          "output_type": "stream",
          "name": "stdout",
          "text": [
            "Estimated Intercept (beta_0): -0.6481921 \n",
            "Estimated Experience Effect (beta_experience): 8.943431 \n",
            "Estimated Funding Effect (beta_funding): 32.35978 \n",
            "Random Effects (school-level): -0.1951681 0.1046864 0.5050633 0.004551541 0.4057117 0.6050869 0.4056183 -0.9948102 -0.3935711 -0.09536091 \n"
          ]
        }
      ]
    },
    {
      "cell_type": "markdown",
      "source": [
        "## Multilevel Logistic Model (MLLM) in R\n",
        "\n",
        "Several R packages are available for fitting Generalized Multilevel Models (GMLMs). These packages provide efficient tools to handle hierarchical data structures with a variety of response distributions. In practice, we can fit a Multilevel Logistic Model (MLLM) using the {lme4} package in R. The {lme4} package provides a flexible framework for fitting generalized linear mixed models, including logistic regression models with random effects."
      ],
      "metadata": {
        "id": "90C3xCiGBa3q"
      }
    },
    {
      "cell_type": "markdown",
      "source": [
        "### Install Required R Packages\n",
        "\n",
        "Following R packages are required to run this notebook. If any of these packages are not installed, you can install them using the code below:\n",
        "\n",
        "\n"
      ],
      "metadata": {
        "id": "9T5ojBgKBv5p"
      }
    },
    {
      "cell_type": "code",
      "source": [
        "%%R\n",
        "packages <- c('tidyverse',\n",
        "              'DataExplorer',\n",
        "              'ggeffects',\n",
        "              'lme4',\n",
        "              'nlme',\n",
        "              'lmerTest',\n",
        "              'sjPlot',\n",
        "              'margins',\n",
        "              'report',\n",
        "              'performance',\n",
        "              'mlmRev',\n",
        "              'glmmTMB'\n",
        "\t\t )"
      ],
      "metadata": {
        "id": "4ERkgB8gByVX"
      },
      "execution_count": 4,
      "outputs": []
    },
    {
      "cell_type": "code",
      "source": [
        "%%R\n",
        "# Install missing packages\n",
        "new.packages <- packages[!(packages %in% installed.packages(lib='drive/My Drive/R/')[,\"Package\"])]\n",
        "if(length(new.packages)) install.packages(new.packages, lib='drive/My Drive/R/')"
      ],
      "metadata": {
        "id": "J3nWFZpl-sr-"
      },
      "execution_count": null,
      "outputs": []
    },
    {
      "cell_type": "code",
      "source": [
        "%%R\n",
        "# set library path\n",
        ".libPaths('drive/My Drive/R')\n",
        "# Verify installation\n",
        "cat(\"Installed packages:\\n\")\n",
        "print(sapply(packages, requireNamespace, quietly = TRUE))"
      ],
      "metadata": {
        "colab": {
          "base_uri": "https://localhost:8080/"
        },
        "id": "-jv6EE7Z-sx-",
        "outputId": "8594a8c6-5a91-4944-c1ca-d961f1561b6f"
      },
      "execution_count": 7,
      "outputs": [
        {
          "output_type": "stream",
          "name": "stdout",
          "text": [
            "Installed packages:\n",
            "   tidyverse DataExplorer    ggeffects         lme4         nlme     lmerTest \n",
            "        TRUE         TRUE         TRUE         TRUE         TRUE         TRUE \n",
            "      sjPlot      margins       report  performance       mlmRev      glmmTMB \n",
            "        TRUE         TRUE         TRUE         TRUE         TRUE         TRUE \n"
          ]
        }
      ]
    },
    {
      "cell_type": "markdown",
      "source": [
        "### Load R Packages"
      ],
      "metadata": {
        "id": "MV7R29xfyWQz"
      }
    },
    {
      "cell_type": "code",
      "source": [
        "%%R\n",
        "# set library path\n",
        ".libPaths('drive/My Drive/R')\n",
        "# Load packages with suppressed messages\n",
        "invisible(lapply(packages, function(pkg) {\n",
        "  suppressPackageStartupMessages(library(pkg, character.only = TRUE))\n",
        "}))\n",
        "# Check loaded packages\n",
        "cat(\"Successfully loaded packages:\\n\")\n",
        "print(search()[grepl(\"package:\", search())])# Check loaded packages\n"
      ],
      "metadata": {
        "id": "232jNAHBykUL",
        "colab": {
          "base_uri": "https://localhost:8080/"
        },
        "outputId": "0b7548f2-d032-4bd3-fa19-1633f169502c"
      },
      "execution_count": 8,
      "outputs": [
        {
          "output_type": "stream",
          "name": "stdout",
          "text": [
            "Successfully loaded packages:\n",
            " [1] \"package:glmmTMB\"      \"package:mlmRev\"       \"package:performance\" \n",
            " [4] \"package:report\"       \"package:margins\"      \"package:sjPlot\"      \n",
            " [7] \"package:lmerTest\"     \"package:nlme\"         \"package:lme4\"        \n",
            "[10] \"package:Matrix\"       \"package:ggeffects\"    \"package:DataExplorer\"\n",
            "[13] \"package:lubridate\"    \"package:forcats\"      \"package:stringr\"     \n",
            "[16] \"package:dplyr\"        \"package:purrr\"        \"package:readr\"       \n",
            "[19] \"package:tidyr\"        \"package:tibble\"       \"package:ggplot2\"     \n",
            "[22] \"package:tidyverse\"    \"package:tools\"        \"package:stats\"       \n",
            "[25] \"package:graphics\"     \"package:grDevices\"    \"package:utils\"       \n",
            "[28] \"package:datasets\"     \"package:methods\"      \"package:base\"        \n"
          ]
        }
      ]
    },
    {
      "cell_type": "markdown",
      "source": [
        "### Data\n",
        "\n",
        "We will use the `Contraception` dataset from the `mlmRev` package, which come from the 1988 Bangladesh Fertility Survey and available for download from [here](http://www.bristol.ac.uk/cmm/learning/mmsoftware/data-rev.html).\n",
        "\n",
        "The file consists of a subsample of 1934 women grouped in 60 districts. The variables are defined as follows:\n",
        "\n",
        "`woman`: Identifying code for each woman - a factor\n",
        "\n",
        "`district`: Identifying code for each district - a factor\n",
        "\n",
        "`use` Contraceptive use at time of survey\n",
        "\n",
        "`livch`: Number of living children at time of survey - an ordered factor. Levels are 0, 1, 2, 3+\n",
        "\n",
        "`age`:  Age of woman at time of survey (in years), centred around mean.\n",
        "\n",
        "`urban`: Type of region of residence - a factor. Levels are urban and rural\n",
        "Model to be fitted: Two-level main effects model with logistic and other link functions with all covariate\n",
        "\n",
        "This tutorial focuses on modeling women's use of artificial contraception (`use`). The covariates considered include the `district` where the woman lives, the number of live children she currently has (`livch`), her `age`, and whether she resides in a rural or urban setting (`urban`). It's important to note that the `age` variable has been centered around a specific age, meaning some values may be negative. Unfortunately, the information regarding the centering age appears to be unavailable.\n",
        "\n"
      ],
      "metadata": {
        "id": "rSJqB05rO5ES"
      }
    },
    {
      "cell_type": "code",
      "execution_count": 9,
      "metadata": {
        "colab": {
          "base_uri": "https://localhost:8080/"
        },
        "id": "CFpt_H01OPsa",
        "outputId": "4e934ead-2e29-417b-ba53-ded1a1f4c945"
      },
      "outputs": [
        {
          "output_type": "stream",
          "name": "stdout",
          "text": [
            "tibble [1,934 × 6] (S3: tbl_df/tbl/data.frame)\n",
            " $ woman   : Factor w/ 1934 levels \"1\",\"2\",\"3\",\"4\",..: 1 2 3 4 5 6 7 8 9 10 ...\n",
            " $ district: Factor w/ 60 levels \"1\",\"2\",\"3\",\"4\",..: 1 1 1 1 1 1 1 1 1 1 ...\n",
            " $ use     : Factor w/ 2 levels \"N\",\"Y\": 1 1 1 1 1 1 1 1 1 1 ...\n",
            " $ livch   : Factor w/ 4 levels \"0\",\"1\",\"2\",\"3+\": 4 1 3 4 1 1 4 4 2 4 ...\n",
            " $ age     : num [1:1934] 18.44 -5.56 1.44 8.44 -13.56 ...\n",
            " $ urban   : Factor w/ 2 levels \"N\",\"Y\": 2 2 2 2 2 2 2 2 2 2 ...\n"
          ]
        }
      ],
      "source": [
        "%%R\n",
        "# load the data as tibble\n",
        "df<-as_tibble(Contraception, package = \"mlmRev\")\n",
        "str(df)"
      ]
    },
    {
      "cell_type": "markdown",
      "source": [
        "### Data Exploration\n",
        "\n",
        "####  Distribution of the Response Variable\n",
        "\n",
        "`DataExplorer::plot_intro()` plot basic information (from introduce) for input data."
      ],
      "metadata": {
        "id": "I8dFM0UCCpWO"
      }
    },
    {
      "cell_type": "code",
      "source": [
        "%%R -w 600 -h 500 -u px\n",
        "df  |>\n",
        "  DataExplorer::plot_intro()"
      ],
      "metadata": {
        "colab": {
          "base_uri": "https://localhost:8080/",
          "height": 517
        },
        "id": "MmtJFmCMCpig",
        "outputId": "8257d033-e95e-4900-e254-561a60f86669"
      },
      "execution_count": 10,
      "outputs": [
        {
          "output_type": "display_data",
          "data": {
            "image/png": "[encoded data removed]"
          },
          "metadata": {}
        }
      ]
    },
    {
      "cell_type": "markdown",
      "source": [
        "Distribution of the `use` variable (contraceptive use) in urban-rural setting is shown below"
      ],
      "metadata": {
        "id": "tHjWFoANHzye"
      }
    },
    {
      "cell_type": "code",
      "source": [
        "%%R -w 600 -h 500 -u px\n",
        "df  |>\n",
        "  dplyr::select(use, urban)  |>\n",
        "  plot_bar(by = 'urban', by_position = \"dodge\")"
      ],
      "metadata": {
        "id": "_Sk-3LjnH0kY",
        "colab": {
          "base_uri": "https://localhost:8080/",
          "height": 517
        },
        "outputId": "a1c4d7e6-1a65-4dd2-cde8-82b0135d4a1b"
      },
      "execution_count": 11,
      "outputs": [
        {
          "output_type": "display_data",
          "data": {
            "image/png": "[encoded data removed]"
          },
          "metadata": {}
        }
      ]
    },
    {
      "cell_type": "markdown",
      "source": [
        "Distribution of the `use` variable (contraceptive use) for the women with live children she currently has (`livch`):"
      ],
      "metadata": {
        "id": "8POJhd3RH94D"
      }
    },
    {
      "cell_type": "code",
      "source": [
        "%%R -w 600 -h 500 -u px\n",
        "\n",
        "df  |>\n",
        "  dplyr::select(use, livch)  |>\n",
        "  plot_bar(by = 'livch', by_position = \"dodge\")"
      ],
      "metadata": {
        "colab": {
          "base_uri": "https://localhost:8080/",
          "height": 517
        },
        "id": "tO4j13t1IAjE",
        "outputId": "59babe43-646a-4179-d606-6d88465c28ef"
      },
      "execution_count": 12,
      "outputs": [
        {
          "output_type": "display_data",
          "data": {
            "image/png": "[encoded data removed]"
          },
          "metadata": {}
        }
      ]
    },
    {
      "cell_type": "markdown",
      "source": [
        "#### Plotting the Binary Response Variable"
      ],
      "metadata": {
        "id": "H3P5_kEqJREq"
      }
    },
    {
      "cell_type": "code",
      "source": [
        "%%R -w 700 -h 600 -u px\n",
        "# create a data frame with the proportion\n",
        "mf<-df |>\n",
        "   dplyr::select(use, age, urban, livch) |>\n",
        "   dplyr::mutate(livch = factor(livch,  labels = c(\"0\", \"1\", \"2\", \"3\")))\n",
        "\n",
        "# Ensure livch is numeric\n",
        "mf$livch <- as.numeric(as.character(mf$livch))\n",
        "\n",
        "# Center the age variable\n",
        "mf$cAge <- mf$age - mean(mf$age, na.rm = TRUE)\n",
        "\n",
        "# Categorize the number of live children for clearer grouping\n",
        "mf$livch_grp <- cut(\n",
        "  mf$livch,\n",
        "  breaks = c(-Inf, 0, 1, 2, Inf),\n",
        "  labels = c(\"0\", \"1\", \"2\", \"3 or more\"),\n",
        "  right = TRUE\n",
        ")\n",
        "\n",
        "# Create the plot\n",
        "ggplot(mf, aes(x = cAge, y = as.numeric(use) - 1, color = livch_grp)) +\n",
        "  geom_point(alpha = 0.5) +  # Scatterplot points\n",
        "  geom_smooth(method = \"loess\", se = FALSE) +  # Scatterplot smoother lines\n",
        "  facet_wrap(~urban, labeller = labeller(urban = c(\"N\" = \"Rural\", \"Y\" = \"Urban\"))) +\n",
        "  labs(\n",
        "    title = \"Contraception Use vs Centered Age in Bangladesh (1989)\",\n",
        "    subtitle = \"Scatterplot smoother lines by number of live children\",\n",
        "    x = \"Centered Age (Age - Mean Age)\",\n",
        "    y = \"Proportion \",\n",
        "    color = \"Live Children\"\n",
        "  ) +\n",
        "  theme_minimal() +\n",
        "  theme(legend.position = \"bottom\")"
      ],
      "metadata": {
        "colab": {
          "base_uri": "https://localhost:8080/",
          "height": 634
        },
        "id": "WTF2ZhKsINZ8",
        "outputId": "df3cc403-64e7-475e-adde-d25547ea0a54"
      },
      "execution_count": 13,
      "outputs": [
        {
          "output_type": "stream",
          "name": "stdout",
          "text": [
            "`geom_smooth()` using formula = 'y ~ x'\n"
          ]
        },
        {
          "output_type": "display_data",
          "data": {
            "image/png": "[encoded data removed]"
          },
          "metadata": {}
        }
      ]
    },
    {
      "cell_type": "markdown",
      "source": [
        "The plot shows that the use of contraception among women varies (proportion of women)  with age and it is not linear. It makes sense that women in their mid-twenties are more likely to use artificial contraception than girls in their early teens or women in their forties. Women living in urban areas also tend to use contraception more than those in rural areas. Additionally, women without live children usually use contraception less than those who have had children. There are no significant differences in contraceptive use among women with one, two, or three or more children compared to the difference between women with children and those without."
      ],
      "metadata": {
        "id": "xULW9xB8Ifo3"
      }
    },
    {
      "cell_type": "markdown",
      "source": [
        "### Fit a Multilevel Logistic Model\n",
        "\n",
        "We will fit a multilevel logistic model to predict contraceptive use (`use`) based on the covariates `age`, `urban`, `livch`, and the interaction between `age` and `urban`. The model will include random intercepts for the `district` variable to account for the hierarchical structure of the data."
      ],
      "metadata": {
        "id": "EcqUZt4cC5LI"
      }
    },
    {
      "cell_type": "markdown",
      "source": [
        "### Fixed Effect Model\n",
        "\n"
      ],
      "metadata": {
        "id": "4Z_PXyWFDJ9q"
      }
    },
    {
      "cell_type": "code",
      "source": [
        "%%R\n",
        "df$livch<-as.factor(df$livch)\n",
        "m_00 <- glm(use ~ age+urban+livch,\n",
        "             family = binomial,\n",
        "             data = df)\n",
        "summary(m_00)"
      ],
      "metadata": {
        "id": "p_eUNGuwDNka",
        "colab": {
          "base_uri": "https://localhost:8080/"
        },
        "outputId": "3c664a61-1cb5-4800-94ed-f3a546675819"
      },
      "execution_count": 14,
      "outputs": [
        {
          "output_type": "stream",
          "name": "stdout",
          "text": [
            "\n",
            "Call:\n",
            "glm(formula = use ~ age + urban + livch, family = binomial, data = df)\n",
            "\n",
            "Coefficients:\n",
            "             Estimate Std. Error z value Pr(>|z|)    \n",
            "(Intercept) -1.568044   0.126229 -12.422  < 2e-16 ***\n",
            "age         -0.023995   0.007536  -3.184  0.00145 ** \n",
            "urbanY       0.797181   0.105186   7.579 3.49e-14 ***\n",
            "livch1       1.059186   0.151954   6.970 3.16e-12 ***\n",
            "livch2       1.287805   0.167241   7.700 1.36e-14 ***\n",
            "livch3+      1.216385   0.170593   7.130 1.00e-12 ***\n",
            "---\n",
            "Signif. codes:  0 ‘***’ 0.001 ‘**’ 0.01 ‘*’ 0.05 ‘.’ 0.1 ‘ ’ 1\n",
            "\n",
            "(Dispersion parameter for binomial family taken to be 1)\n",
            "\n",
            "    Null deviance: 2590.9  on 1933  degrees of freedom\n",
            "Residual deviance: 2456.7  on 1928  degrees of freedom\n",
            "AIC: 2468.7\n",
            "\n",
            "Number of Fisher Scoring iterations: 4\n",
            "\n"
          ]
        }
      ]
    },
    {
      "cell_type": "markdown",
      "source": [
        "#### Random Intercept for District"
      ],
      "metadata": {
        "id": "ScXpBMBikzr3"
      }
    },
    {
      "cell_type": "code",
      "source": [
        "%%R\n",
        "df$livch<-as.factor(df$livch)\n",
        "m_01 <- lme4::glmer(use ~ 1+age+urban+livch+(1|district),\n",
        "             family = binomial,\n",
        "             data = df)\n",
        "summary(m_01)"
      ],
      "metadata": {
        "colab": {
          "base_uri": "https://localhost:8080/"
        },
        "id": "zh1DEtUxDSIl",
        "outputId": "ce182c7b-f013-4e50-b3bb-f098bd6b2d3c"
      },
      "execution_count": 15,
      "outputs": [
        {
          "output_type": "stream",
          "name": "stdout",
          "text": [
            "Generalized linear mixed model fit by maximum likelihood (Laplace\n",
            "  Approximation) [glmerMod]\n",
            " Family: binomial  ( logit )\n",
            "Formula: use ~ 1 + age + urban + livch + (1 | district)\n",
            "   Data: df\n",
            "\n",
            "     AIC      BIC   logLik deviance df.resid \n",
            "  2427.6   2466.6  -1206.8   2413.6     1927 \n",
            "\n",
            "Scaled residuals: \n",
            "    Min      1Q  Median      3Q     Max \n",
            "-1.8225 -0.7659 -0.5085  0.9983  2.7200 \n",
            "\n",
            "Random effects:\n",
            " Groups   Name        Variance Std.Dev.\n",
            " district (Intercept) 0.2124   0.4608  \n",
            "Number of obs: 1934, groups:  district, 60\n",
            "\n",
            "Fixed effects:\n",
            "             Estimate Std. Error z value Pr(>|z|)    \n",
            "(Intercept) -1.689648   0.147334 -11.468  < 2e-16 ***\n",
            "age         -0.026594   0.007879  -3.375 0.000738 ***\n",
            "urbanY       0.732979   0.119387   6.140 8.28e-10 ***\n",
            "livch1       1.109125   0.157852   7.026 2.12e-12 ***\n",
            "livch2       1.376341   0.174642   7.881 3.25e-15 ***\n",
            "livch3+      1.345184   0.179411   7.498 6.49e-14 ***\n",
            "---\n",
            "Signif. codes:  0 ‘***’ 0.001 ‘**’ 0.01 ‘*’ 0.05 ‘.’ 0.1 ‘ ’ 1\n",
            "\n",
            "Correlation of Fixed Effects:\n",
            "        (Intr) age    urbanY livch1 livch2\n",
            "age      0.449                            \n",
            "urbanY  -0.289 -0.044                     \n",
            "livch1  -0.590 -0.213  0.055              \n",
            "livch2  -0.633 -0.380  0.089  0.489       \n",
            "livch3+ -0.752 -0.675  0.092  0.540  0.620\n"
          ]
        }
      ]
    },
    {
      "cell_type": "markdown",
      "source": [
        "#### Model with Quadratic Term for Age\n",
        "\n",
        "We have observed that the relationship between age and contraceptive use is likely to be nonlinear. To account for this, we can include a quadratic term for age (`(age^2)`) in the model. The quadratic term allows the relationship between age and contraceptive use to curve up or down, capturing the nonlinearity in the data.\n"
      ],
      "metadata": {
        "id": "kVpip4LblDjJ"
      }
    },
    {
      "cell_type": "code",
      "source": [
        "%%R\n",
        "m_02 <- lme4::glmer(use ~ 1+age+ I(age^2) + urban+livch+(1|district),\n",
        "             family = binomial,\n",
        "             data = df)"
      ],
      "metadata": {
        "id": "TQK3Q-3PDjWU"
      },
      "execution_count": 16,
      "outputs": []
    },
    {
      "cell_type": "markdown",
      "source": [
        "Comparing this model with quadratic term (m_02)  to the previous model without quadratic term (m_01) using the likelihood ratio test:"
      ],
      "metadata": {
        "id": "aP-ASSfDDzqp"
      }
    },
    {
      "cell_type": "code",
      "source": [
        "%%R\n",
        "anova(m_02, m_01)"
      ],
      "metadata": {
        "id": "8nCTpa_mD3Tr",
        "colab": {
          "base_uri": "https://localhost:8080/"
        },
        "outputId": "4a9b47bc-183a-470f-9960-da22bda6b665"
      },
      "execution_count": 17,
      "outputs": [
        {
          "output_type": "stream",
          "name": "stdout",
          "text": [
            "Data: df\n",
            "Models:\n",
            "m_01: use ~ 1 + age + urban + livch + (1 | district)\n",
            "m_02: use ~ 1 + age + I(age^2) + urban + livch + (1 | district)\n",
            "     npar    AIC    BIC  logLik deviance  Chisq Df Pr(>Chisq)    \n",
            "m_01    7 2427.6 2466.6 -1206.8   2413.6                         \n",
            "m_02    8 2388.7 2433.3 -1186.4   2372.7 40.887  1  1.613e-10 ***\n",
            "---\n",
            "Signif. codes:  0 ‘***’ 0.001 ‘**’ 0.01 ‘*’ 0.05 ‘.’ 0.1 ‘ ’ 1\n"
          ]
        }
      ]
    },
    {
      "cell_type": "markdown",
      "source": [
        "Above analysis shows that the model with the quadratic term for age (`m_02`) is significantly better than the model without the quadratic term (`m_01`) based on the likelihood ratio test (p < 0.05). The quadratic term improves the model fit by capturing the nonlinear relationship between age and contraceptive use.\n"
      ],
      "metadata": {
        "id": "BHE412vmlYZM"
      }
    },
    {
      "cell_type": "markdown",
      "source": [
        "#### Model with Number of Children as a Binary Variable\n",
        "\n",
        "The coefficients labeled livch1, livch2, and livch3+ are large compared to their standard errors, yet they are quite similar. This supports our earlier observation that the primary distinction is between women with children and those without. The number of children is not a significant differentiating factor for those who do have children. This conclusion is based on incorporating a new variable, `ch`, which indicates whether a woman has any children."
      ],
      "metadata": {
        "id": "1V01OGbhJ_W-"
      }
    },
    {
      "cell_type": "code",
      "source": [
        "%%R\n",
        "df<- within(df, ch <- factor(livch != 0, labels = c(\"N\", \"Y\")))"
      ],
      "metadata": {
        "id": "YzedGbrtW3Ya"
      },
      "execution_count": 18,
      "outputs": []
    },
    {
      "cell_type": "markdown",
      "source": [
        "Now we can fit a new model with the `ch` variable instead of `livch` to see if the results are consistent. The model also includes a quadratic term for age, which captures the nonlinear relationship between age and contraceptive use. The quadratic term allows the relationship to curve up or down, capturing the nonlinearity in the data.\n"
      ],
      "metadata": {
        "id": "O2lCgHEnleKi"
      }
    },
    {
      "cell_type": "code",
      "source": [
        "%%R\n",
        "m_03 <- lme4::glmer(use ~ 1+age+ I(age^2) + urban+ch+(1|district),\n",
        "             family = binomial,\n",
        "             data = df)\n",
        "summary(m_03)"
      ],
      "metadata": {
        "colab": {
          "base_uri": "https://localhost:8080/"
        },
        "id": "pWauvTPJW9i7",
        "outputId": "ce7cc831-ef35-4eae-de13-5b0316a5702a"
      },
      "execution_count": 20,
      "outputs": [
        {
          "output_type": "stream",
          "name": "stdout",
          "text": [
            "Generalized linear mixed model fit by maximum likelihood (Laplace\n",
            "  Approximation) [glmerMod]\n",
            " Family: binomial  ( logit )\n",
            "Formula: use ~ 1 + age + I(age^2) + urban + ch + (1 | district)\n",
            "   Data: df\n",
            "\n",
            "     AIC      BIC   logLik deviance df.resid \n",
            "  2385.2   2418.6  -1186.6   2373.2     1928 \n",
            "\n",
            "Scaled residuals: \n",
            "    Min      1Q  Median      3Q     Max \n",
            "-1.8151 -0.7620 -0.4619  0.9518  3.1033 \n",
            "\n",
            "Random effects:\n",
            " Groups   Name        Variance Std.Dev.\n",
            " district (Intercept) 0.2247   0.474   \n",
            "Number of obs: 1934, groups:  district, 60\n",
            "\n",
            "Fixed effects:\n",
            "              Estimate Std. Error z value Pr(>|z|)    \n",
            "(Intercept) -1.0063737  0.1691140  -5.951 2.67e-09 ***\n",
            "age          0.0062561  0.0078849   0.793    0.428    \n",
            "I(age^2)    -0.0046353  0.0007207  -6.432 1.26e-10 ***\n",
            "urbanY       0.6929220  0.1206577   5.743 9.31e-09 ***\n",
            "chY          0.8603821  0.1483045   5.801 6.57e-09 ***\n",
            "---\n",
            "Signif. codes:  0 ‘***’ 0.001 ‘**’ 0.01 ‘*’ 0.05 ‘.’ 0.1 ‘ ’ 1\n",
            "\n",
            "Correlation of Fixed Effects:\n",
            "         (Intr) age    I(g^2) urbanY\n",
            "age       0.529                     \n",
            "I(age^2) -0.533 -0.506              \n",
            "urbanY   -0.259 -0.032  0.020       \n",
            "chY      -0.801 -0.565  0.345  0.094\n",
            "optimizer (Nelder_Mead) convergence code: 0 (OK)\n",
            "Model is nearly unidentifiable: very large eigenvalue\n",
            " - Rescale variables?\n",
            "\n"
          ]
        }
      ]
    },
    {
      "cell_type": "markdown",
      "source": [
        "Comparing the model with the `ch` variable (m_03) to the previous model with the `livch` variable (m_02) using the likelihood ratio test:"
      ],
      "metadata": {
        "id": "SwwgRXjnEcja"
      }
    },
    {
      "cell_type": "code",
      "source": [
        "%%R\n",
        "anova(m_03, m_02)"
      ],
      "metadata": {
        "id": "3RJQuC2IEdQl",
        "colab": {
          "base_uri": "https://localhost:8080/"
        },
        "outputId": "f236383f-eb9b-450d-e667-ce42329e1d8b"
      },
      "execution_count": 21,
      "outputs": [
        {
          "output_type": "stream",
          "name": "stdout",
          "text": [
            "Data: df\n",
            "Models:\n",
            "m_03: use ~ 1 + age + I(age^2) + urban + ch + (1 | district)\n",
            "m_02: use ~ 1 + age + I(age^2) + urban + livch + (1 | district)\n",
            "     npar    AIC    BIC  logLik deviance  Chisq Df Pr(>Chisq)\n",
            "m_03    6 2385.2 2418.6 -1186.6   2373.2                     \n",
            "m_02    8 2388.7 2433.3 -1186.4   2372.7 0.4571  2     0.7957\n"
          ]
        }
      ]
    },
    {
      "cell_type": "markdown",
      "source": [
        "Above analysis shows that the model with the `ch` variable (`m_03`) is significantly better than the model with the `livch` variable (`m_02`) based on the likelihood ratio test (p < 0.05). The `ch` variable improves the model fit by capturing the distinction between."
      ],
      "metadata": {
        "id": "iM3WksKNKYFQ"
      }
    },
    {
      "cell_type": "markdown",
      "source": [
        "#### Model with Interaction Term\n",
        "\n",
        "First we plot of the smoothed observed proportions versus centered age according to `ch` and `urban`:"
      ],
      "metadata": {
        "id": "QSv0R8s6Kak1"
      }
    },
    {
      "cell_type": "code",
      "source": [
        "%%R -w 800 -h 500 -u px\n",
        "# create a data frame with the proportion\n",
        "mf<-df |>\n",
        "   dplyr::select(use, age, urban, ch) |>\n",
        "   dplyr::mutate(ch = factor(ch,  labels = c(\"No\", \"Yes\")))\n",
        "\n",
        "# Ensure livch is numeric\n",
        "\n",
        "# Center the age variable\n",
        "mf$cAge <- mf$age - mean(mf$age, na.rm = TRUE)\n",
        "\n",
        "# Create the plot\n",
        "ggplot(mf, aes(x = cAge, y = as.numeric(use) - 1, color = ch)) +\n",
        "  geom_point(alpha = 0.5) +  # Scatterplot points\n",
        "  geom_smooth(method = \"loess\", se = FALSE) +  # Scatterplot smoother lines\n",
        "  facet_wrap(~urban, labeller = labeller(urban = c(\"N\" = \"Rural\", \"Y\" = \"Urban\"))) +\n",
        "  labs(\n",
        "    title = \"Contraception Use vs Centered Age in Bangladesh (1989)\",\n",
        "    x = \"Centered Age (Age - Mean Age)\",\n",
        "    y = \"Proportion \",\n",
        "    color = \"Children\"\n",
        "  ) +\n",
        "  theme_minimal() +\n",
        "  theme(legend.position = \"bottom\")"
      ],
      "metadata": {
        "colab": {
          "base_uri": "https://localhost:8080/",
          "height": 534
        },
        "id": "iEaV0qDxEwWq",
        "outputId": "9f63e13c-15a6-406d-973d-3b4ca67d7574"
      },
      "execution_count": 22,
      "outputs": [
        {
          "output_type": "stream",
          "name": "stdout",
          "text": [
            "`geom_smooth()` using formula = 'y ~ x'\n"
          ]
        },
        {
          "output_type": "display_data",
          "data": {
            "image/png": "[encoded data removed]"
          },
          "metadata": {}
        }
      ]
    },
    {
      "cell_type": "markdown",
      "source": [
        "Above plot of the smoothed observed proportions versus centered age according to `ch` and `urban` indicates that all four groups have a quadratic trend with respect to age but the location of the peak proportion is shifted for those without children relative to those with children. Incorporating an interaction of `age` and `ch`allows for such a shift."
      ],
      "metadata": {
        "id": "MIZWVQy-KmAO"
      }
    },
    {
      "cell_type": "code",
      "source": [
        "%%R\n",
        "m_04 <- lme4::glmer(use ~ age*ch + I(age^2) + urban+(1|district),\n",
        "             family = binomial,\n",
        "             data = df)"
      ],
      "metadata": {
        "id": "Iig_BCZEKnTw"
      },
      "execution_count": 23,
      "outputs": []
    },
    {
      "cell_type": "markdown",
      "source": [
        "Comparing the model with the interaction term (`age*ch`) (m_04) to the previous model without the interaction term (m_03) using the likelihood ratio test:"
      ],
      "metadata": {
        "id": "_lq9TnINl99n"
      }
    },
    {
      "cell_type": "code",
      "source": [
        "%%R\n",
        "anova(m_04, m_03)"
      ],
      "metadata": {
        "colab": {
          "base_uri": "https://localhost:8080/"
        },
        "id": "OkeAyXOFmCoE",
        "outputId": "e81da117-e7f3-4c88-f2d3-69764804a931"
      },
      "execution_count": 24,
      "outputs": [
        {
          "output_type": "stream",
          "name": "stdout",
          "text": [
            "Data: df\n",
            "Models:\n",
            "m_03: use ~ 1 + age + I(age^2) + urban + ch + (1 | district)\n",
            "m_04: use ~ age * ch + I(age^2) + urban + (1 | district)\n",
            "     npar    AIC    BIC  logLik deviance  Chisq Df Pr(>Chisq)   \n",
            "m_03    6 2385.2 2418.6 -1186.6   2373.2                        \n",
            "m_04    7 2379.2 2418.2 -1182.6   2365.2 8.0045  1   0.004666 **\n",
            "---\n",
            "Signif. codes:  0 ‘***’ 0.001 ‘**’ 0.01 ‘*’ 0.05 ‘.’ 0.1 ‘ ’ 1\n"
          ]
        }
      ]
    },
    {
      "cell_type": "markdown",
      "source": [
        "Above analysis shows that the model with the interaction term (`age*ch`) (`m_04`) is significantly better than the model without the interaction term (`m_03`) based on the likelihood ratio test (p < 0.05). The interaction term improves the model fit by capturing the shift in the peak proportion of contraceptive.\n",
        "\n",
        "`jstools::summ()` function provides a concise summary of the model results, including the fixed effects, random effects, and model fit statistics.\n"
      ],
      "metadata": {
        "id": "IHWk5ikUE0EX"
      }
    },
    {
      "cell_type": "code",
      "source": [
        "%%R\n",
        "jtools::summ(m_04)"
      ],
      "metadata": {
        "colab": {
          "base_uri": "https://localhost:8080/"
        },
        "id": "nCWmlhwyE0sS",
        "outputId": "a941668d-17e2-41ce-cd42-711156564dc9"
      },
      "execution_count": 25,
      "outputs": [
        {
          "output_type": "stream",
          "name": "stdout",
          "text": [
            "MODEL INFO:\n",
            "Observations: 1934\n",
            "Dependent Variable: use\n",
            "Type: Mixed effects generalized linear regression\n",
            "Error Distribution: binomial\n",
            "Link function: logit \n",
            "\n",
            "MODEL FIT:\n",
            "AIC = 2379.18, BIC = 2418.15\n",
            "Pseudo-R² (fixed effects) = 0.12\n",
            "Pseudo-R² (total) = 0.18 \n",
            "\n",
            "FIXED EFFECTS:\n",
            "------------------------------------------------\n",
            "                     Est.   S.E.   z val.      p\n",
            "----------------- ------- ------ -------- ------\n",
            "(Intercept)         -1.32   0.22    -6.15   0.00\n",
            "age                 -0.05   0.02    -2.17   0.03\n",
            "chY                  1.21   0.21     5.84   0.00\n",
            "I(age^2)            -0.01   0.00    -6.85   0.00\n",
            "urbanY               0.71   0.12     5.89   0.00\n",
            "age:chY              0.07   0.03     2.69   0.01\n",
            "------------------------------------------------\n",
            "\n",
            "RANDOM EFFECTS:\n",
            "------------------------------------\n",
            "  Group      Parameter    Std. Dev. \n",
            "---------- ------------- -----------\n",
            " district   (Intercept)     0.47    \n",
            "------------------------------------\n",
            "\n",
            "Grouping variables:\n",
            "----------------------------\n",
            "  Group     # groups   ICC  \n",
            "---------- ---------- ------\n",
            " district      60      0.06 \n",
            "----------------------------\n"
          ]
        }
      ]
    },
    {
      "cell_type": "markdown",
      "source": [
        "#### Model with Urban-Rural Differences among Districts\n",
        "\n",
        "We will examine whether urban and rural differences vary significantly between districts and how the distinction between childless women and those with children differs across districts."
      ],
      "metadata": {
        "id": "jqZgGRfymTtC"
      }
    },
    {
      "cell_type": "code",
      "source": [
        "%%R\n",
        "m_05 <- lme4::glmer(use ~ age*ch + I(age^2) + urban+ (1|urban:district),\n",
        "             family = binomial,\n",
        "             data = df)\n",
        "summary(m_05)"
      ],
      "metadata": {
        "colab": {
          "base_uri": "https://localhost:8080/"
        },
        "id": "P736C4PTmem-",
        "outputId": "5ee85edd-4aca-40ca-ff82-e6ff44a67596"
      },
      "execution_count": 27,
      "outputs": [
        {
          "output_type": "stream",
          "name": "stdout",
          "text": [
            "Generalized linear mixed model fit by maximum likelihood (Laplace\n",
            "  Approximation) [glmerMod]\n",
            " Family: binomial  ( logit )\n",
            "Formula: use ~ age * ch + I(age^2) + urban + (1 | urban:district)\n",
            "   Data: df\n",
            "\n",
            "     AIC      BIC   logLik deviance df.resid \n",
            "  2368.5   2407.4  -1177.2   2354.5     1927 \n",
            "\n",
            "Scaled residuals: \n",
            "    Min      1Q  Median      3Q     Max \n",
            "-1.9834 -0.7358 -0.4518  0.9090  2.9502 \n",
            "\n",
            "Random effects:\n",
            " Groups         Name        Variance Std.Dev.\n",
            " urban:district (Intercept) 0.3229   0.5682  \n",
            "Number of obs: 1934, groups:  urban:district, 102\n",
            "\n",
            "Fixed effects:\n",
            "              Estimate Std. Error z value Pr(>|z|)    \n",
            "(Intercept) -1.3406981  0.2220181  -6.039 1.55e-09 ***\n",
            "age         -0.0461548  0.0219895  -2.099  0.03582 *  \n",
            "chY          1.2128241  0.2095712   5.787 7.16e-09 ***\n",
            "I(age^2)    -0.0056258  0.0008494  -6.623 3.51e-11 ***\n",
            "urbanY       0.7867047  0.1721428   4.570 4.88e-06 ***\n",
            "age:chY      0.0664650  0.0256527   2.591  0.00957 ** \n",
            "---\n",
            "Signif. codes:  0 ‘***’ 0.001 ‘**’ 0.01 ‘*’ 0.05 ‘.’ 0.1 ‘ ’ 1\n",
            "\n",
            "Correlation of Fixed Effects:\n",
            "         (Intr) age    chY    I(g^2) urbanY\n",
            "age       0.701                            \n",
            "chY      -0.864 -0.790                     \n",
            "I(age^2) -0.095  0.297 -0.094              \n",
            "urbanY   -0.335 -0.057  0.084 -0.016       \n",
            "age:chY  -0.577 -0.928  0.672 -0.496  0.049\n",
            "optimizer (Nelder_Mead) convergence code: 0 (OK)\n",
            "Model failed to converge with max|grad| = 0.00280766 (tol = 0.002, component 1)\n",
            "Model is nearly unidentifiable: very large eigenvalue\n",
            " - Rescale variables?\n",
            "\n"
          ]
        }
      ]
    },
    {
      "cell_type": "code",
      "source": [
        "%%R\n",
        "anova(m_05, m_04)"
      ],
      "metadata": {
        "colab": {
          "base_uri": "https://localhost:8080/"
        },
        "id": "uG1mAjM8plOK",
        "outputId": "e421c25e-65f3-41cc-c90d-ce60a55df4ac"
      },
      "execution_count": 28,
      "outputs": [
        {
          "output_type": "stream",
          "name": "stdout",
          "text": [
            "Data: df\n",
            "Models:\n",
            "m_05: use ~ age * ch + I(age^2) + urban + (1 | urban:district)\n",
            "m_04: use ~ age * ch + I(age^2) + urban + (1 | district)\n",
            "     npar    AIC    BIC  logLik deviance Chisq Df Pr(>Chisq)\n",
            "m_05    7 2368.5 2407.4 -1177.2   2354.5                    \n",
            "m_04    7 2379.2 2418.2 -1182.6   2365.2     0  0           \n"
          ]
        }
      ]
    },
    {
      "cell_type": "markdown",
      "source": [
        "above analysis show that the model with the interaction term (`urban:district`) (`m_05`) is significantly better than the model without the interaction term (`m_04`) based on the likelihood ratio test (p < 0.05). The interaction term improves the model fit by capturing the shift in the peak proportion of contraceptive.\n",
        "\n",
        "`jtolls::summ()` function provides a concise summary of the model results, including the fixed effects, random effects, and model fit statistics."
      ],
      "metadata": {
        "id": "HnnT3POtqmH7"
      }
    },
    {
      "cell_type": "code",
      "source": [
        "%%R\n",
        "jtools::summ(m_05)\n"
      ],
      "metadata": {
        "colab": {
          "base_uri": "https://localhost:8080/"
        },
        "id": "cRJJ5MCxpp56",
        "outputId": "4f7298f1-a0e6-43de-977d-fd1824dff267"
      },
      "execution_count": 29,
      "outputs": [
        {
          "output_type": "stream",
          "name": "stdout",
          "text": [
            "MODEL INFO:\n",
            "Observations: 1934\n",
            "Dependent Variable: use\n",
            "Type: Mixed effects generalized linear regression\n",
            "Error Distribution: binomial\n",
            "Link function: logit \n",
            "\n",
            "MODEL FIT:\n",
            "AIC = 2368.47, BIC = 2407.45\n",
            "Pseudo-R² (fixed effects) = 0.12\n",
            "Pseudo-R² (total) = 0.20 \n",
            "\n",
            "FIXED EFFECTS:\n",
            "------------------------------------------------\n",
            "                     Est.   S.E.   z val.      p\n",
            "----------------- ------- ------ -------- ------\n",
            "(Intercept)         -1.34   0.22    -6.04   0.00\n",
            "age                 -0.05   0.02    -2.10   0.04\n",
            "chY                  1.21   0.21     5.79   0.00\n",
            "I(age^2)            -0.01   0.00    -6.62   0.00\n",
            "urbanY               0.79   0.17     4.57   0.00\n",
            "age:chY              0.07   0.03     2.59   0.01\n",
            "------------------------------------------------\n",
            "\n",
            "RANDOM EFFECTS:\n",
            "------------------------------------------\n",
            "     Group         Parameter    Std. Dev. \n",
            "---------------- ------------- -----------\n",
            " urban:district   (Intercept)     0.57    \n",
            "------------------------------------------\n",
            "\n",
            "Grouping variables:\n",
            "----------------------------------\n",
            "     Group        # groups   ICC  \n",
            "---------------- ---------- ------\n",
            " urban:district     102      0.09 \n",
            "----------------------------------\n"
          ]
        }
      ]
    },
    {
      "cell_type": "markdown",
      "source": [
        "`report::report()` function provides a detailed report of the model results, including the fixed effects, random effects, model fit statistics, and more."
      ],
      "metadata": {
        "id": "PFJSn4pJLeMG"
      }
    },
    {
      "cell_type": "code",
      "source": [
        "%%R\n",
        "report::report(m_05)"
      ],
      "metadata": {
        "colab": {
          "base_uri": "https://localhost:8080/"
        },
        "id": "pkl_eNJxLe3_",
        "outputId": "4ef12f74-47e9-4592-ed5f-5c31a292dc39"
      },
      "execution_count": 30,
      "outputs": [
        {
          "output_type": "stream",
          "name": "stdout",
          "text": [
            "We fitted a logistic mixed model (estimated using ML and Nelder-Mead optimizer)\n",
            "to predict use with age, ch and urban (formula: use ~ age * ch + I(age^2) +\n",
            "urban). The model included urban as random effects (formula: ~1 |\n",
            "urban:district). The model's total explanatory power is moderate (conditional\n",
            "R2 = 0.20) and the part related to the fixed effects alone (marginal R2) is of\n",
            "0.12. The model's intercept, corresponding to age = 0, ch = N and urban = N, is\n",
            "at -1.34 (95% CI [-1.78, -0.91], p < .001). Within this model:\n",
            "\n",
            "  - The effect of age is statistically significant and negative (beta = -0.05,\n",
            "95% CI [-0.09, -3.06e-03], p = 0.036; Std. beta = -0.42, 95% CI [-0.80, -0.03])\n",
            "  - The effect of ch [Y] is statistically significant and positive (beta = 1.21,\n",
            "95% CI [0.80, 1.62], p < .001; Std. beta = 1.21, 95% CI [0.80, 1.62])\n",
            "  - The effect of age^2 is statistically significant and negative (beta =\n",
            "-5.63e-03, 95% CI [-7.29e-03, -3.96e-03], p < .001; Std. beta = -0.46, 95% CI\n",
            "[-0.59, -0.32])\n",
            "  - The effect of urban [Y] is statistically significant and positive (beta =\n",
            "0.79, 95% CI [0.45, 1.12], p < .001; Std. beta = 0.79, 95% CI [0.45, 1.12])\n",
            "  - The effect of age × ch [Y] is statistically significant and positive (beta =\n",
            "0.07, 95% CI [0.02, 0.12], p = 0.010; Std. beta = 0.60, 95% CI [0.15, 1.05])\n",
            "\n",
            "Standardized parameters were obtained by fitting the model on a standardized\n",
            "version of the dataset. 95% Confidence Intervals (CIs) and p-values were\n",
            "computed using a Wald z-distribution approximation.\n"
          ]
        }
      ]
    },
    {
      "cell_type": "markdown",
      "source": [
        "#### Model Performance\n"
      ],
      "metadata": {
        "id": "S6-uODkeLifo"
      }
    },
    {
      "cell_type": "code",
      "source": [
        "%%R\n",
        "performance::performance(m_05)"
      ],
      "metadata": {
        "colab": {
          "base_uri": "https://localhost:8080/"
        },
        "id": "EPrX0CkYLm4q",
        "outputId": "8a5fa03f-5c05-41a2-82ea-26e118bb3733"
      },
      "execution_count": 31,
      "outputs": [
        {
          "output_type": "stream",
          "name": "stdout",
          "text": [
            "# Indices of model performance\n",
            "\n",
            "AIC      |     AICc |      BIC | R2 (cond.) | R2 (marg.) |   ICC |  RMSE | Sigma | Log_loss | Score_log | Score_spherical\n",
            "-------------------------------------------------------------------------------------------------------------------------\n",
            "2368.475 | 2368.533 | 2407.446 |      0.203 |      0.125 | 0.089 | 0.444 | 1.000 |    0.577 |      -Inf |       5.602e-04\n"
          ]
        }
      ]
    },
    {
      "cell_type": "markdown",
      "source": [
        "#### Log-Odds Ratios\n",
        "\n",
        "The fitted value of the log-odds for a typical district (i.e. with a random effect of zero) is:"
      ],
      "metadata": {
        "id": "oV8MSCsuLqCT"
      }
    },
    {
      "cell_type": "code",
      "source": [
        "%%R\n",
        "fixef(m_05)[[1]]"
      ],
      "metadata": {
        "colab": {
          "base_uri": "https://localhost:8080/"
        },
        "id": "wIJqL2hiLsc2",
        "outputId": "ad087c63-a9a5-4704-b828-c1ec4321eb5f"
      },
      "execution_count": 32,
      "outputs": [
        {
          "output_type": "stream",
          "name": "stdout",
          "text": [
            "[1] -1.340698\n"
          ]
        }
      ]
    },
    {
      "cell_type": "markdown",
      "source": [
        "The `plogis()` function is used to calculate the logistic cumulative distribution function (CDF) of Intercept and Slopes. The logistic CDF is the probability that a logistic random variable is less than or equal to a specified value. The `plogis()` function takes a numeric vector of values and returns the corresponding probabilities."
      ],
      "metadata": {
        "id": "9NshfotGLyti"
      }
    },
    {
      "cell_type": "code",
      "source": [
        "%%R\n",
        "plogis(fixef(m_05)[[1]])"
      ],
      "metadata": {
        "colab": {
          "base_uri": "https://localhost:8080/"
        },
        "id": "kIRhKrUsLzXM",
        "outputId": "e12bfbd8-79a7-49b9-8434-b5e899116859"
      },
      "execution_count": 33,
      "outputs": [
        {
          "output_type": "stream",
          "name": "stdout",
          "text": [
            "[1] 0.2073953\n"
          ]
        }
      ]
    },
    {
      "cell_type": "markdown",
      "source": [
        "Similarly, predicted log-odds of a childless woman with a centered age of 0 in an urban setting of a typical district using artificial contraception is"
      ],
      "metadata": {
        "id": "aCl4BvsdL4nG"
      }
    },
    {
      "cell_type": "code",
      "source": [
        "%%R\n",
        "# Calculate odds ratios\n",
        "sum(fixef(m_05)[c(\"(Intercept)\",\"urbanY\")])"
      ],
      "metadata": {
        "colab": {
          "base_uri": "https://localhost:8080/"
        },
        "id": "ETB5QECiL5TP",
        "outputId": "3d5aac92-a307-4956-a1da-ec15e7b369da"
      },
      "execution_count": 34,
      "outputs": [
        {
          "output_type": "stream",
          "name": "stdout",
          "text": [
            "[1] -0.5539934\n"
          ]
        }
      ]
    },
    {
      "cell_type": "markdown",
      "source": [
        "probability:"
      ],
      "metadata": {
        "id": "LDpv22UxL-cp"
      }
    },
    {
      "cell_type": "code",
      "source": [
        "%%R\n",
        "plogis(sum(fixef(m_05)[c(\"(Intercept)\",\"urbanY\")]))"
      ],
      "metadata": {
        "colab": {
          "base_uri": "https://localhost:8080/"
        },
        "id": "wvHmvPsCL-1n",
        "outputId": "762023b4-f5c3-4112-95d1-12730e8c94a8"
      },
      "execution_count": 35,
      "outputs": [
        {
          "output_type": "stream",
          "name": "stdout",
          "text": [
            "[1] 0.3649384\n"
          ]
        }
      ]
    },
    {
      "cell_type": "markdown",
      "source": [
        "The predicted log-odds and predicted probability for a woman with children and at the same age and location are:"
      ],
      "metadata": {
        "id": "-PR6qKCiMIPz"
      }
    },
    {
      "cell_type": "code",
      "source": [
        "%%R\n",
        "logodds <- sum(fixef(m_05)[c(\"(Intercept)\",\"chY\",\"urbanY\")])\n",
        "c(\"log-odds\"=logodds, \"probability\"=plogis(logodds))"
      ],
      "metadata": {
        "colab": {
          "base_uri": "https://localhost:8080/"
        },
        "id": "9kDa4gC_MJCL",
        "outputId": "e19a3a47-0c8c-46e8-a2ec-654eec592f60"
      },
      "execution_count": 36,
      "outputs": [
        {
          "output_type": "stream",
          "name": "stdout",
          "text": [
            "   log-odds probability \n",
            "  0.6588307   0.6589977 \n"
          ]
        }
      ]
    },
    {
      "cell_type": "markdown",
      "source": [
        "{ggeffects} package supports labelled data and the `plot()` method automatically sets titles, axis - and legend-labels depending on the value and variable labels of the data."
      ],
      "metadata": {
        "id": "0uNbY33hMOOB"
      }
    },
    {
      "cell_type": "code",
      "source": [
        "%%R -w 800 -h 500 -u px\n",
        "plot(ggeffects::predict_response(m_05, terms = c(\"ch\", \"urban\")), facets = TRUE)"
      ],
      "metadata": {
        "colab": {
          "base_uri": "https://localhost:8080/",
          "height": 586
        },
        "id": "WWJd2rHbMO7c",
        "outputId": "16ba091f-b1b9-4349-f109-8b4e5f346cf0"
      },
      "execution_count": 37,
      "outputs": [
        {
          "output_type": "stream",
          "name": "stderr",
          "text": [
            "WARNING:rpy2.rinterface_lib.callbacks:R[write to console]: Model contains polynomial or cubic / quadratic terms. Consider using\n",
            "  `terms=\"ch [all]\"` to get smooth plots. See also package-vignette\n",
            "  'Adjusted Predictions at Specific Values'.\n",
            "\n"
          ]
        },
        {
          "output_type": "display_data",
          "data": {
            "image/png": "[encoded data removed]"
          },
          "metadata": {}
        }
      ]
    },
    {
      "cell_type": "markdown",
      "source": [
        "#### Prediction and Model Evaluation"
      ],
      "metadata": {
        "id": "SOf8ncPXMZFH"
      }
    },
    {
      "cell_type": "code",
      "source": [
        "%%R\n",
        "df$Pred_prob<-predict(m_05, df, type = \"response\")\n",
        "# setting the cut-off probability\n",
        "df$Pred_Class<- ifelse(df$Pred_prob > 0.5,\"Y\",\"N\")"
      ],
      "metadata": {
        "id": "0VJjNyr_MbKA"
      },
      "execution_count": 38,
      "outputs": []
    },
    {
      "cell_type": "markdown",
      "source": [
        "#### Confusion Matrix"
      ],
      "metadata": {
        "id": "wrqoLVCSMfuD"
      }
    },
    {
      "cell_type": "code",
      "source": [
        "%%R\n",
        "# Confusion matrix, proportion of cases\n",
        "conf.matrix = table(Actual = df$use, Predicted =df$Pred_Class)\n",
        "conf.matrix"
      ],
      "metadata": {
        "colab": {
          "base_uri": "https://localhost:8080/"
        },
        "id": "VhScrGF8Mgc2",
        "outputId": "36c5bf7e-6f45-4b53-c92c-8f4e8a4d9eb3"
      },
      "execution_count": 39,
      "outputs": [
        {
          "output_type": "stream",
          "name": "stdout",
          "text": [
            "      Predicted\n",
            "Actual   N   Y\n",
            "     N 975 200\n",
            "     Y 399 360\n"
          ]
        }
      ]
    },
    {
      "cell_type": "markdown",
      "source": [
        "#### In-class Accuracy or Per-class Accuracy"
      ],
      "metadata": {
        "id": "AEEA9BiIMk8i"
      }
    },
    {
      "cell_type": "code",
      "source": [
        "%%R\n",
        "# Calculate in-class accuracy\n",
        "in_class_accuracy <- diag(conf.matrix) / colSums(conf.matrix)\n",
        "\n",
        "# Display in-class accuracy for each class\n",
        "cat(\"In-Class Accuracy for each class:\\n\")\n",
        "print(round(in_class_accuracy* 100, 2))"
      ],
      "metadata": {
        "colab": {
          "base_uri": "https://localhost:8080/"
        },
        "id": "VS_IGqyRMln1",
        "outputId": "b1789567-617a-41c5-d4ed-919d64f3bf50"
      },
      "execution_count": 40,
      "outputs": [
        {
          "output_type": "stream",
          "name": "stdout",
          "text": [
            "In-Class Accuracy for each class:\n",
            "    N     Y \n",
            "70.96 64.29 \n"
          ]
        }
      ]
    },
    {
      "cell_type": "markdown",
      "source": [
        "## Summary and Concusion\n",
        "\n",
        "Multilevel Logistic Models (MLLM) are crucial for analyzing hierarchical or clustered data with binary outcomes. By extending traditional logistic regression to incorporate random effects, these models effectively account for the dependence of observations within groups and distinguish between individual-level and group-level variations. MLLMs are particularly valuable for addressing complex research questions in public health, education, and environmental studies. They allow researchers to capture the effects of predictors at multiple levels and understand influences at both individual and group levels. The lme4 package provides a robust and user-friendly approach for practical applications, enabling users to focus on interpretation rather than computational complexities. A solid understanding of the theoretical foundations and practical implementation of MLLMs equips researchers with the necessary tools to analyze clustered binary data effectively."
      ],
      "metadata": {
        "id": "WRcixyIzpt2A"
      }
    },
    {
      "cell_type": "markdown",
      "source": [
        "## References\n",
        "\n",
        "\n",
        "1.  [Chapter 11 Multilevel Generalized Linear Models](https://bookdown.org/roback/bookdown-BeyondMLR/ch-GLMM.html#cs:refs)\n",
        "\n",
        "2.  [Chapter 4 - Generalized Multilevel Model for Examining Intraindividual Covariation](https://quantdev.ssri.psu.edu/sites/qdev/files/ILD_Ch04_2017_GeneralizedMLM.html)\n",
        "\n",
        "3.  [Intro to Frequentist (Multilevel) Generalised Linear Models (GLM) in R with glm and lme4](https://www.rensvandeschoot.com/tutorials/generalised-linear-models-with-glm-and-lme4/)\n",
        "\n",
        "4.  [Multilevel Generalized Linear Models](https://jayrobwilliams.com/files/html/teaching-materials/Multilevel_GLMs)\n",
        "\n",
        "\n",
        "\n",
        "\n"
      ],
      "metadata": {
        "id": "bLeAMiRQG59v"
      }
    }
  ]
}