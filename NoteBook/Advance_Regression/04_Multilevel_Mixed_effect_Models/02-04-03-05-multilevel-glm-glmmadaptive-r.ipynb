{
  "nbformat": 4,
  "nbformat_minor": 0,
  "metadata": {
    "colab": {
      "provenance": [],
      "toc_visible": true,
      "authorship_tag": "ABX9TyMiVcmY/kMjS2QL8yy1N9iv",
      "include_colab_link": true
    },
    "kernelspec": {
      "name": "python3",
      "display_name": "Python 3"
    },
    "language_info": {
      "name": "python"
    }
  },
  "cells": [
    {
      "cell_type": "markdown",
      "metadata": {
        "id": "view-in-github",
        "colab_type": "text"
      },
      "source": [
        "<a href=\"https://colab.research.google.com/github/zia207/r-colab/blob/main/NoteBook/Advance_Regression/02-04-03-05-multilevel-glm-glmmadaptive-r.ipynb\" target=\"_parent\"><img src=\"https://colab.research.google.com/assets/colab-badge.svg\" alt=\"Open In Colab\"/></a>"
      ]
    },
    {
      "cell_type": "markdown",
      "source": [
        "![alt text](http://drive.google.com/uc?export=view&id=1bLQ3nhDbZrCCqy_WCxxckOne2lgVvn3l)"
      ],
      "metadata": {
        "id": "4qrItz_mJNWw"
      }
    },
    {
      "cell_type": "markdown",
      "source": [
        "# 3.5. Generalized Linear Mixed Models using Adaptive Gaussian Quadrature (GLMMadaptive)\n",
        "\n",
        "This tutorial provides an overview of the mathematical framework behind GLMMs, the likelihood function, numerical integration using AGQ, parameter estimation, and prediction. We demonstrate how to fit GLMMs using the {GLMMadaptive} package in R with examples of binary, Poisson, and negative binomial response data.\n"
      ],
      "metadata": {
        "id": "Dzp9ZseROTcY"
      }
    },
    {
      "cell_type": "markdown",
      "source": [
        "## Overview\n",
        "\n",
        "Generalized Linear Mixed Models (GLMMs) are a powerful statistical framework for analyzing complex data structures that involve hierarchical or clustered data with non-normal outcomes. GLMMs extend the concept of Generalized Linear Models (GLMs) by incorporating random effects to account for the correlation among observations within the same group. The Generalized Linear Mixed Models using Adaptive Gaussian Quadrature with {GLMMadaptive} package in R provides a flexible and efficient tool for fitting GLMMs using Adaptive Gaussian Quadrature (`AGQ`) for numerical integration using the adaptive Gauss-Hermite quadrature rule. This involves modeling fixed effects, random effects, and the response distribution using likelihood-based methods. The package supports various response distributions, complex random effects structures, and custom link functions. Multiple random effects terms can be included for the grouping factor (e.g., random intercepts, random linear slopes, random quadratic slopes), but currently only a single grouping factor is allowed.\n",
        "\n",
        "![alt text](http://drive.google.com/uc?export=view&id=1Pc889r1eCWdei2YkdkfvTJiCbaqhB4Rg)\n",
        "\n",
        "\n",
        "\n"
      ],
      "metadata": {
        "id": "TpcIOkTs30qp"
      }
    },
    {
      "cell_type": "markdown",
      "source": [
        "### Key Features of GLMMadaptive\n",
        "\n",
        "The key features of the {GLMMadaptive} package include:\n",
        "\n",
        "1.  Exponential Family Distributions:\n",
        "\n",
        "Supports various response distributions, such as:\n",
        "\n",
        "-   Normal\n",
        "-   Binomial\n",
        "-   Poisson\n",
        "-   Negative Binomial\n",
        "-   Beta (and other non-exponential family distributions via quasi-likelihood methods)\n",
        "\n",
        "2.  Random Effects:\n",
        "\n",
        "-   complex random effects structures.\n",
        "-   Random effects can be nested or crossed, with multivariate normal distribution assumptions.\n",
        "\n",
        "3.  Custom Link Functions:\n",
        "\n",
        "-   Supports standard link functions (e.g., logit, log, identity).\n",
        "-   Allows user-defined link functions for custom models.\n",
        "\n",
        "4.  Robust Estimation:\n",
        "\n",
        "-   Utilizes AGQ for accurate and efficient approximation of high-dimensional integrals required in GLMM estimation.\n",
        "-   Supports both marginal and conditional likelihood estimation.\n",
        "\n",
        "5.  Predictive Modeling:\n",
        "\n",
        "-   tools for making predictions with confidence intervals.\n",
        "\n",
        "-   Supports marginal predictions (accounting for random effects)."
      ],
      "metadata": {
        "id": "0Ckl9Pjy7wlc"
      }
    },
    {
      "cell_type": "markdown",
      "source": [
        "### General Formulation of GLMMs\n",
        "\n",
        "A GLMM can be expressed as:\n",
        "\n",
        "$$ g(\\mu_{ij}) = X{ij}\\beta + Z_{ij}u_i  $$\n",
        "\n",
        "-   $g(\\cdot)$: Link function.\n",
        "-   $\\mu_{ij}$: Mean of the response for observation $j$ in group $i$.\n",
        "-   $X{ij}$: Fixed-effects design matrix.\n",
        "-   $\\beta$: Fixed-effects coefficients.\n",
        "-   $Z\\_{ij}$: Random-effects design matrix.\n",
        "-   $u_i$: Random effects (assumed to follow a multivariate normal distribution, $u_i \\sim N(0, G)$.\n",
        "\n",
        "The conditional distribution of the response $y_{ij}$, given the random effects $u_i$, is part of the **exponential family**:\n",
        "\n",
        "$$ f(y_{ij} \\| u_i) = \\exp\\left(\\frac{y_{ij}\\theta_{ij} - b(\\theta_{ij})}{\\phi} + c(y_{ij}, \\phi)\\right), $$ where:\n",
        "\n",
        "-   $y_{ij}$: Response variable.\n",
        "-   $\\theta_{ij}$: Natural parameter (linked to $\\mu_{ij}$ through $g(\\cdot)$ ).\n",
        "-   $b(\\cdot)$: Cumulant function.\n",
        "-   $\\phi$: Dispersion parameter."
      ],
      "metadata": {
        "id": "fAPVC2J573om"
      }
    },
    {
      "cell_type": "markdown",
      "source": [
        "###  Likelihood Function\n",
        "\n",
        "The likelihood function involves integrating out the random effects $u_i$:\n",
        "\n",
        "$$ L(\\beta, \\theta) = \\prod_{i=1}^m \\int \\left[ \\prod_{j=1}^{n_i} f(y_{ij} | u_i) \\right] f(u_i) , du_i $$\n",
        "\n",
        "where: .\n",
        "\n",
        "-   $m$: Number of groups.\n",
        "-   $n_i$: Number of observations in group $i$.\n",
        "-   $f(y_{ij} \\| u_i)$: Conditional density of the response.\n",
        "-   $f(u_i)$: Random effects density ( $N(0, G)$ ).\n"
      ],
      "metadata": {
        "id": "vd0gOjMz8ESf"
      }
    },
    {
      "cell_type": "markdown",
      "source": [
        "### Numerical Integration via Adaptive Gaussian Quadrature (AGQ)\n",
        "\n",
        "`AGQ` is a numerical integration technique used to approximate these integrals efficiently and accurately. It is particularly suitable for GLMMs because it:\n",
        "\n",
        "-   Exploits the assumption that random effects are normally distributed.\n",
        "\n",
        "-   the quadrature points to the mode of the integrand for better accuracy.\n",
        "\n",
        "To approximate the likelihood, **AGQ** is used. The key steps are:\n"
      ],
      "metadata": {
        "id": "XChtH8198-oh"
      }
    },
    {
      "cell_type": "markdown",
      "source": [
        "#### 1. Transformation of Variables\n",
        "\n",
        "The integral is centered around the mode of the conditional random-effects density:\n",
        "\n",
        "$$ f(u_i \\| y_i) \\propto f(y_i \\| u_i) f(u_i), $$ where:\n",
        "\n",
        "-   $y_i$ = $y_{i1}, y_{i2}, \\dots, y_{in_i})$: Observations for group $i$.\n",
        "\n",
        "-   The mode $\\hat{u}_i$ is found by maximizing $\\log f(u_i \\| y_i)$."
      ],
      "metadata": {
        "id": "9J9Owftk9Mev"
      }
    },
    {
      "cell_type": "markdown",
      "source": [
        "#### 2. Quadrature Approximation\n",
        "\n",
        "The integral is approximated using Gaussian quadrature. Let $\\tilde{u}_i = \\hat{u}_i + s z_k$, where $z_k$ are quadrature points and $s$ is a scaling factor based on the curvature (Hessian) at $\\hat{u}_i$. The integral becomes:\n",
        "\n",
        "$$ \\int f(y_i \\| u_i) f(u_i) , du_i \\approx \\sum_{k=1}^Q w_k f(y_i \\| \\tilde{u}\\_i) f(\\tilde{u}_i), $$\n",
        "\n",
        "where $Q$ is the number of quadrature points, $w_k$ are quadrature weights, and $\\tilde{u}_i$ are adjusted points."
      ],
      "metadata": {
        "id": "6RBp9PNE9Nzj"
      }
    },
    {
      "cell_type": "markdown",
      "source": [
        "#### 3. Log-Likelihood Computation\n",
        "\n",
        "The log-likelihood is computed as:\n",
        "\n",
        "$$ \\log L(\\beta, \\theta) = \\sum_{i=1}^m \\log \\left( \\sum{k=1}^Q w_k f(y_i \\| \\tilde{u}_i) f(\\tilde{u}_i) \\right). $$\n"
      ],
      "metadata": {
        "id": "7sZ2E3Fm9UIW"
      }
    },
    {
      "cell_type": "markdown",
      "source": [
        "### Parameter Estimation\n",
        "\n",
        "Parameters $\\beta$ (fixed effects) and $\\theta$ (random effects and dispersion) are estimated by maximizing the log-likelihood:\n",
        "\n",
        "$$ \\hat{\\beta}, \\hat{\\theta} = \\arg \\max_{\\beta, \\theta} \\log L(\\beta, \\theta). $$\n",
        "\n",
        "Optimization methods like Newton-Raphson or quasi-Newton are used."
      ],
      "metadata": {
        "id": "AEtT_gG09y3b"
      }
    },
    {
      "cell_type": "markdown",
      "source": [
        "### Random Effects Posterior Distribution\n",
        "\n",
        "After fitting the model, the posterior distribution of the random effects $u_i$ can be estimated:\n",
        "\n",
        "$$  f(u_i \\| y_i) \\propto f(y_i \\| u_i) f(u_i). $$ Predictions for random effects are often based on:\n",
        "\n",
        "-   Maximum a posteriori (MAP) estimates (the mode of the posterior).\n",
        "-   Empirical Bayes estimates (conditional means)."
      ],
      "metadata": {
        "id": "Dq07Llaw-RIY"
      }
    },
    {
      "cell_type": "markdown",
      "source": [
        "### Prediction\n",
        "\n",
        "Predictions can be made for:\n",
        "\n",
        "-   **Marginal Means** (without random effects): $\\hat{y}_{ij} = g^{-1}(X_{ij}\\hat{\\beta})$.\n",
        "\n",
        "-   **Subject-Specific Means** (with random effects): $\\hat{y}_{ij} = g^{-1}(X_{ij}\\hat{\\beta} + Z_{ij}\\hat{u}_i)$"
      ],
      "metadata": {
        "id": "MLdmHPy6-Yme"
      }
    },
    {
      "cell_type": "markdown",
      "source": [
        "## Fit Generalized Linear Mixed Models using Adaptive Gaussian Quadrature in R\n",
        "\n",
        "In this tutorial, we will demonstrate how to fit Generalized Linear Mixed Models (GLMMs) using Adaptive Gaussian Quadrature in R with the {GLMMadaptive} package. Basic features of the package include:\n",
        "\n",
        "-   The package contains a single model-fitting function named [`mixed_model()`](https://drizopoulos.github.io/GLMMadaptive/reference/mixed_model.html) with four required arguments, `fixed` a formula for the fixed effects, `random` a formula for the random effects, `family` a family object specifying the type of response variable, and `data` a data frame containing the variables in the previously mentioned formulas.\n",
        "\n",
        "-   Methods for standard generics are provided, i.e., [`coef()`](https://drizopoulos.github.io/GLMMadaptive/reference/methods.html), [`fixef()`](https://drizopoulos.github.io/GLMMadaptive/reference/methods.html), [`ranef()`](https://drizopoulos.github.io/GLMMadaptive/reference/methods.html), [`vcov()`](https://rdrr.io/r/stats/vcov.html), [`logLik()`](https://rdrr.io/r/stats/logLik.html), [`summary()`](https://rdrr.io/r/base/summary.html), [`anova()`](https://drizopoulos.github.io/GLMMadaptive/reference/methods.html), [`confint()`](https://drizopoulos.github.io/GLMMadaptive/reference/methods.html), [`fitted()`](https://drizopoulos.github.io/GLMMadaptive/reference/methods.html), [`residuals()`](https://drizopoulos.github.io/GLMMadaptive/reference/methods.html), [`predict()`](https://drizopoulos.github.io/GLMMadaptive/reference/methods.html), and [`simulate()`](https://drizopoulos.github.io/GLMMadaptive/reference/methods.html).\n",
        "\n",
        "-   Negative binomial mixed models can be fitted using the [`negative.binomial()`](https://drizopoulos.github.io/GLMMadaptive/reference/negative_binomial.html) family object.\n",
        "\n",
        "-   Zero-inflated Poisson and negative binomial models using the [`zi.poisson()`](https://drizopoulos.github.io/GLMMadaptive/reference/extra_fams.html) and [`zi.negative.binomial()`](https://drizopoulos.github.io/GLMMadaptive/reference/extra_fams.html) family objects.\n",
        "\n",
        "-   Hurdle Poisson and negative binomial models using the [`hurdle.poisson()`](https://drizopoulos.github.io/GLMMadaptive/reference/extra_fams.html) and [`hurdle.negative.binomial()`](https://drizopoulos.github.io/GLMMadaptive/reference/extra_fams.html) family objects.\n",
        "\n",
        "-   Zero-inflated binomial models using the [`zi.binomial()`](https://drizopoulos.github.io/GLMMadaptive/reference/extra_fams.html) family objects.\n",
        "\n",
        "-   Two-part/hurdle mixed models for semi-continuous normal data using the [`hurdle.lognormal()`](https://drizopoulos.github.io/GLMMadaptive/reference/extra_fams.html) family object.\n",
        "\n",
        "-   Mixed models for censored normal data using the [`censored.normal()`](https://drizopoulos.github.io/GLMMadaptive/reference/extra_fams.html) family object.\n",
        "\n",
        "-   Continuation ratio mixed models for ordinal data using functions [`cr_setup()`](https://drizopoulos.github.io/GLMMadaptive/reference/continuation_ratio.html) and [`cr_marg_probs()`](https://drizopoulos.github.io/GLMMadaptive/reference/continuation_ratio.html).\n",
        "\n",
        "-   Beta and hurdle Beta mixed effects models using [`beta.fam()`](https://drizopoulos.github.io/GLMMadaptive/reference/extra_fams.html) and [`hurdle.beta.fam()`](https://drizopoulos.github.io/GLMMadaptive/reference/extra_fams.html) family objects.\n",
        "\n",
        "-   Gamma mixed effects models using the [`Gamma()`](https://rdrr.io/r/stats/family.html) or [`Gamma.fam()`](https://drizopoulos.github.io/GLMMadaptive/reference/extra_fams.html) family object.\n",
        "\n",
        "-   Linear mixed effects models with right and left censored data using the [`censored.normal()`](https://drizopoulos.github.io/GLMMadaptive/reference/extra_fams.html) family object.\n",
        "\n",
        "-   Users may also specify their own log-density function for the repeated measurements response variable, and the internal algorithms will take care of the optimization.\n",
        "\n",
        "-   Calculates the marginalized coefficients using the idea of Hedeker et al. (2017) using function [`marginal_coefs()`](https://drizopoulos.github.io/GLMMadaptive/reference/marginal_coefs.html).\n",
        "\n",
        "-   Predictions with confidence interval for constructing effects plots are provided by function [`effectPlotData()`](https://drizopoulos.github.io/GLMMadaptive/reference/effectPlotData.html).\n",
        "\n",
        "The basic model-fitting function in {GLMMadaptive} is called `mixed_model()`, and has four required arguments, namely fixed a formula for the `fixed effects`, random a formula for the `random effects`, family a `family` object specifying the type of response variable, and data a data frame containing the variables in the previously mentioned formulas. `nAGQ` is an optional argument that specifies the number of quadrature points to use in the adaptive Gaussian quadrature approximation. The default is 11 when the number of random effects is one or two, and 7 otherwise. We will walk through the process of specifying the model, fitting the model, and interpreting the results."
      ],
      "metadata": {
        "id": "PlepMvkq-itz"
      }
    },
    {
      "cell_type": "markdown",
      "source": [
        "## Install rpy2"
      ],
      "metadata": {
        "id": "SDp3ULld8Gb9"
      }
    },
    {
      "cell_type": "code",
      "source": [
        "!pip uninstall rpy2 -y\n",
        "!pip install rpy2==3.5.1\n",
        "%load_ext rpy2.ipython"
      ],
      "metadata": {
        "id": "CiM6y-Mw8AJp",
        "colab": {
          "base_uri": "https://localhost:8080/"
        },
        "outputId": "6933c211-5037-4022-8785-57bf0e226946"
      },
      "execution_count": 2,
      "outputs": [
        {
          "output_type": "stream",
          "name": "stdout",
          "text": [
            "Found existing installation: rpy2 3.4.2\n",
            "Uninstalling rpy2-3.4.2:\n",
            "  Successfully uninstalled rpy2-3.4.2\n",
            "Collecting rpy2==3.5.1\n",
            "  Downloading rpy2-3.5.1.tar.gz (201 kB)\n",
            "\u001b[2K     \u001b[90m━━━━━━━━━━━━━━━━━━━━━━━━━━━━━━━━━━━━━━━━\u001b[0m \u001b[32m201.7/201.7 kB\u001b[0m \u001b[31m3.9 MB/s\u001b[0m eta \u001b[36m0:00:00\u001b[0m\n",
            "\u001b[?25h  Preparing metadata (setup.py) ... \u001b[?25l\u001b[?25hdone\n",
            "Requirement already satisfied: cffi>=1.10.0 in /usr/local/lib/python3.11/dist-packages (from rpy2==3.5.1) (1.17.1)\n",
            "Requirement already satisfied: jinja2 in /usr/local/lib/python3.11/dist-packages (from rpy2==3.5.1) (3.1.5)\n",
            "Requirement already satisfied: pytz in /usr/local/lib/python3.11/dist-packages (from rpy2==3.5.1) (2025.1)\n",
            "Requirement already satisfied: tzlocal in /usr/local/lib/python3.11/dist-packages (from rpy2==3.5.1) (5.3)\n",
            "Requirement already satisfied: pycparser in /usr/local/lib/python3.11/dist-packages (from cffi>=1.10.0->rpy2==3.5.1) (2.22)\n",
            "Requirement already satisfied: MarkupSafe>=2.0 in /usr/local/lib/python3.11/dist-packages (from jinja2->rpy2==3.5.1) (3.0.2)\n",
            "Building wheels for collected packages: rpy2\n",
            "  Building wheel for rpy2 (setup.py) ... \u001b[?25l\u001b[?25hdone\n",
            "  Created wheel for rpy2: filename=rpy2-3.5.1-cp311-cp311-linux_x86_64.whl size=314970 sha256=dd737a7813884e2d6430e5a96460dfbf8e0d46308a7312b235c9f277d56c3b1d\n",
            "  Stored in directory: /root/.cache/pip/wheels/e9/55/d1/47be85a5f3f1e1f4d1e91cb5e3a4dcb40dd72147f184c5a5ef\n",
            "Successfully built rpy2\n",
            "Installing collected packages: rpy2\n",
            "Successfully installed rpy2-3.5.1\n"
          ]
        }
      ]
    },
    {
      "cell_type": "markdown",
      "source": [
        "## Mount Google Drive"
      ],
      "metadata": {
        "id": "O1zeuaCowiBt"
      }
    },
    {
      "cell_type": "code",
      "source": [
        "from google.colab import drive\n",
        "drive.mount('/content/drive')"
      ],
      "metadata": {
        "colab": {
          "base_uri": "https://localhost:8080/"
        },
        "id": "9J-4ie4bwiJ1",
        "outputId": "9326c705-2847-4322-ed02-a2246e044b5f"
      },
      "execution_count": 3,
      "outputs": [
        {
          "output_type": "stream",
          "name": "stdout",
          "text": [
            "Mounted at /content/drive\n"
          ]
        }
      ]
    },
    {
      "cell_type": "markdown",
      "source": [
        "### Install Required R Packages\n",
        "\n",
        "Following R packages are required to run this notebook. If any of these packages are not installed, you can install them using the code below:\n",
        "\n",
        "\n"
      ],
      "metadata": {
        "id": "9T5ojBgKBv5p"
      }
    },
    {
      "cell_type": "code",
      "source": [
        "%%R\n",
        "packages <- c('tidyverse',\n",
        "              'dlookr',\n",
        "              'sjPlot',\n",
        "              'jtools',\n",
        "              'lme4',\n",
        "              'glmmTMB',\n",
        "              'MASS',\n",
        "              'MuMIn',\n",
        "              'performance',\n",
        "              'GLMMadaptive',\n",
        "              'mlmRev'\n",
        "\t\t )"
      ],
      "metadata": {
        "id": "4ERkgB8gByVX"
      },
      "execution_count": 8,
      "outputs": []
    },
    {
      "cell_type": "code",
      "source": [
        "%%R\n",
        "# Install missing packages\n",
        "new.packages <- packages[!(packages %in% installed.packages(lib='drive/My Drive/R/')[,\"Package\"])]\n",
        "if(length(new.packages)) install.packages(new.packages, lib='drive/My Drive/R/')"
      ],
      "metadata": {
        "id": "J3nWFZpl-sr-"
      },
      "execution_count": null,
      "outputs": []
    },
    {
      "cell_type": "code",
      "source": [
        "%%R\n",
        "# set library path\n",
        ".libPaths('drive/My Drive/R')\n",
        "# Verify installation\n",
        "cat(\"Installed packages:\\n\")\n",
        "print(sapply(packages, requireNamespace, quietly = TRUE))"
      ],
      "metadata": {
        "colab": {
          "base_uri": "https://localhost:8080/"
        },
        "id": "-jv6EE7Z-sx-",
        "outputId": "d64ca2df-bdfd-4d8f-dae0-478c4292d436"
      },
      "execution_count": 9,
      "outputs": [
        {
          "output_type": "stream",
          "name": "stdout",
          "text": [
            "Installed packages:\n"
          ]
        },
        {
          "output_type": "stream",
          "name": "stderr",
          "text": [
            "WARNING:rpy2.rinterface_lib.callbacks:R[write to console]: Registered S3 methods overwritten by 'dlookr':\n",
            "  method          from  \n",
            "  plot.transform  scales\n",
            "  print.transform scales\n",
            "\n"
          ]
        },
        {
          "output_type": "stream",
          "name": "stdout",
          "text": [
            "   tidyverse       dlookr       sjPlot       jtools         lme4      glmmTMB \n",
            "        TRUE         TRUE         TRUE         TRUE         TRUE         TRUE \n",
            "        MASS        MuMIn  performance GLMMadaptive       mlmRev \n",
            "        TRUE         TRUE         TRUE         TRUE         TRUE \n"
          ]
        }
      ]
    },
    {
      "cell_type": "markdown",
      "source": [
        "### Load R Packages"
      ],
      "metadata": {
        "id": "MV7R29xfyWQz"
      }
    },
    {
      "cell_type": "code",
      "source": [
        "%%R\n",
        "# set library path\n",
        ".libPaths('drive/My Drive/R')\n",
        "# Load packages with suppressed messages\n",
        "invisible(lapply(packages, function(pkg) {\n",
        "  suppressPackageStartupMessages(library(pkg, character.only = TRUE))\n",
        "}))\n",
        "# Check loaded packages\n",
        "cat(\"Successfully loaded packages:\\n\")\n",
        "print(search()[grepl(\"package:\", search())])# Check loaded packages\n"
      ],
      "metadata": {
        "id": "232jNAHBykUL",
        "colab": {
          "base_uri": "https://localhost:8080/"
        },
        "outputId": "9dd80f62-baf4-4669-b5b4-6da878d6add8"
      },
      "execution_count": 10,
      "outputs": [
        {
          "output_type": "stream",
          "name": "stdout",
          "text": [
            "Successfully loaded packages:\n",
            " [1] \"package:mlmRev\"       \"package:GLMMadaptive\" \"package:performance\" \n",
            " [4] \"package:MuMIn\"        \"package:MASS\"         \"package:glmmTMB\"     \n",
            " [7] \"package:lme4\"         \"package:Matrix\"       \"package:jtools\"      \n",
            "[10] \"package:sjPlot\"       \"package:dlookr\"       \"package:lubridate\"   \n",
            "[13] \"package:forcats\"      \"package:stringr\"      \"package:dplyr\"       \n",
            "[16] \"package:purrr\"        \"package:readr\"        \"package:tidyr\"       \n",
            "[19] \"package:tibble\"       \"package:ggplot2\"      \"package:tidyverse\"   \n",
            "[22] \"package:tools\"        \"package:stats\"        \"package:graphics\"    \n",
            "[25] \"package:grDevices\"    \"package:utils\"        \"package:datasets\"    \n",
            "[28] \"package:methods\"      \"package:base\"        \n"
          ]
        }
      ]
    },
    {
      "cell_type": "markdown",
      "source": [
        "### Mixed Effects Logistic Regression\n",
        "\n",
        "We will use the `Contraception` dataset from the `mlmRev` package, which come from the 1988 Bangladesh Fertility Survey and available for download from [here](http://www.bristol.ac.uk/cmm/learning/mmsoftware/data-rev.html).\n"
      ],
      "metadata": {
        "id": "SvgnR0XcFeFB"
      }
    },
    {
      "cell_type": "code",
      "execution_count": 11,
      "metadata": {
        "id": "CFpt_H01OPsa",
        "colab": {
          "base_uri": "https://localhost:8080/"
        },
        "outputId": "bd9b43dd-91b4-4e09-9e43-4248e625a7d9"
      },
      "outputs": [
        {
          "output_type": "stream",
          "name": "stdout",
          "text": [
            "tibble [1,934 × 6] (S3: tbl_df/tbl/data.frame)\n",
            " $ woman   : Factor w/ 1934 levels \"1\",\"2\",\"3\",\"4\",..: 1 2 3 4 5 6 7 8 9 10 ...\n",
            " $ district: Factor w/ 60 levels \"1\",\"2\",\"3\",\"4\",..: 1 1 1 1 1 1 1 1 1 1 ...\n",
            " $ use     : Factor w/ 2 levels \"N\",\"Y\": 1 1 1 1 1 1 1 1 1 1 ...\n",
            " $ livch   : Factor w/ 4 levels \"0\",\"1\",\"2\",\"3+\": 4 1 3 4 1 1 4 4 2 4 ...\n",
            " $ age     : num [1:1934] 18.44 -5.56 1.44 8.44 -13.56 ...\n",
            " $ urban   : Factor w/ 2 levels \"N\",\"Y\": 2 2 2 2 2 2 2 2 2 2 ...\n"
          ]
        }
      ],
      "source": [
        "%%R\n",
        "# load the data as tibble\n",
        "mf.binomial<-as_tibble(Contraception, package = \"mlmRev\")\n",
        "str(mf.binomial)"
      ]
    },
    {
      "cell_type": "markdown",
      "source": [
        "We fit a mixed effects logistic regression for `use` and `age`, `urban`, `livch` are fixed effect and `district` is random effect (random intercepts) random-effects part.\n",
        "\n"
      ],
      "metadata": {
        "id": "ua9X3xgJ0qED"
      }
    },
    {
      "cell_type": "code",
      "source": [
        "%%R\n",
        "# covert the livch variable to factor\n",
        "mf.binomial$livch<-as.factor(mf.binomial$livch)\n",
        "# fit the mixed effects logistic regression model\n",
        "model.logit_q11 <- mixed_model(fixed = use ~ age+urban+livch, random = ~1|district,\n",
        "             family = binomial(),\n",
        "            control = glmerControl(optimizer = \"nAGQ = 11\"),\n",
        "             data = mf.binomial)\n",
        "summary(model.logit_q11)\n"
      ],
      "metadata": {
        "colab": {
          "base_uri": "https://localhost:8080/"
        },
        "id": "MmtJFmCMCpig",
        "outputId": "67a878fe-f4cd-4162-bba0-5c7d536d43d6"
      },
      "execution_count": 12,
      "outputs": [
        {
          "output_type": "stream",
          "name": "stdout",
          "text": [
            "\n",
            "Call:\n",
            "mixed_model(fixed = use ~ age + urban + livch, random = ~1 | \n",
            "    district, data = mf.binomial, family = binomial(), control = glmerControl(optimizer = \"nAGQ = 11\"))\n",
            "\n",
            "Data Descriptives:\n",
            "Number of Observations: 1934\n",
            "Number of Groups: 60 \n",
            "\n",
            "Model:\n",
            " family: binomial\n",
            " link: logit \n",
            "\n",
            "Fit statistics:\n",
            "   log.Lik      AIC      BIC\n",
            " -1206.674 2427.348 2442.009\n",
            "\n",
            "Random effects covariance matrix:\n",
            "               StdDev\n",
            "(Intercept) 0.4645476\n",
            "\n",
            "Fixed effects:\n",
            "            Estimate Std.Err  z-value    p-value\n",
            "(Intercept)  -1.6904  0.1478 -11.4406    < 1e-04\n",
            "age          -0.0266  0.0079  -3.3727 0.00074429\n",
            "urbanY        0.7324  0.1195   6.1290    < 1e-04\n",
            "livch1        1.1094  0.1580   7.0206    < 1e-04\n",
            "livch2        1.3766  0.1748   7.8750    < 1e-04\n",
            "livch3+       1.3457  0.1796   7.4923    < 1e-04\n",
            "\n",
            "Integration:\n",
            "method: adaptive Gauss-Hermite quadrature rule\n",
            "quadrature points: 11\n",
            "\n",
            "Optimization:\n",
            "method: EM\n",
            "converged: TRUE \n"
          ]
        }
      ]
    },
    {
      "cell_type": "markdown",
      "source": [
        "We continue by checking the impact of the chosen number of quadrature points to the parameters estimates and the log-likelihood value at convergence. First, we refit the model with an increasing number of quadrature points (`nAGQ`). We fit then with 15, and 21 points:"
      ],
      "metadata": {
        "id": "ljjM3k4s00Gj"
      }
    },
    {
      "cell_type": "code",
      "source": [
        "%%R\n",
        "#| warning: false\n",
        "model.logit_q15 <- stats::update(model.logit_q11, nAGQ = 15)\n",
        "model.logit_q21 <- stats::update(model.logit_q11, nAGQ = 21)\n",
        "models.logit_01 <- list(\"nAGQ=11\" = model.logit_q11, \"nAGQ=15\" = model.logit_q15, \"nAGQ=21\" = model.logit_q21)"
      ],
      "metadata": {
        "id": "Fi4OFaNAtRGJ"
      },
      "execution_count": 14,
      "outputs": []
    },
    {
      "cell_type": "markdown",
      "source": [
        "We now extract from the model the estimated parameter for the fixed effects (using function fixef()), for the random effects, and the log-likelihood (using function logLik()):"
      ],
      "metadata": {
        "id": "AtHfVBeN1LGA"
      }
    },
    {
      "cell_type": "code",
      "source": [
        "%%R\n",
        "extract <- function (obj) {\n",
        "    c(fixef(obj), \"var_(Intercept)\" = obj$D[1, 1], \"logLik\" = logLik(obj))\n",
        "}\n",
        "sapply(models.logit_01, extract)"
      ],
      "metadata": {
        "colab": {
          "base_uri": "https://localhost:8080/"
        },
        "id": "12adlwEe1MHR",
        "outputId": "1afdb7b2-d2d0-41c8-ce71-30bf16888601"
      },
      "execution_count": 15,
      "outputs": [
        {
          "output_type": "stream",
          "name": "stdout",
          "text": [
            "                      nAGQ=11       nAGQ=15       nAGQ=21\n",
            "(Intercept)     -1.690396e+00 -1.690390e+00 -1.690390e+00\n",
            "age             -2.660182e-02 -2.660177e-02 -2.660177e-02\n",
            "urbanY           7.323517e-01  7.323533e-01  7.323533e-01\n",
            "livch1           1.109383e+00  1.109382e+00  1.109382e+00\n",
            "livch2           1.376598e+00  1.376596e+00  1.376596e+00\n",
            "livch3+          1.345699e+00  1.345696e+00  1.345696e+00\n",
            "var_(Intercept)  2.158045e-01  2.157964e-01  2.157964e-01\n",
            "logLik          -1.206674e+03 -1.206674e+03 -1.206674e+03\n"
          ]
        }
      ]
    },
    {
      "cell_type": "markdown",
      "source": [
        "We observe a rather stable model with virtually no differences between the different choices of quadrature points."
      ],
      "metadata": {
        "id": "jaHGX9W51WHS"
      }
    },
    {
      "cell_type": "markdown",
      "source": [
        "### Mixed Effects Poisson Regression\n",
        "\n",
        "In this section we use the `Salamanders` data set from the {glmmTMB} package. The data set containing `counts` of salamanders with site covariates and sampling covariates. Each of 23 sites was sampled 4 times. (Price et al. (2016); Price et al. 2015)."
      ],
      "metadata": {
        "id": "pYK3jFdoHKLe"
      }
    },
    {
      "cell_type": "code",
      "source": [
        "%%R\n",
        "# load the data as tibble\n",
        "mf.poisson<-as_tibble(Salamanders, package = \"glmmTMB\")\n",
        "str(mf.poisson)"
      ],
      "metadata": {
        "colab": {
          "base_uri": "https://localhost:8080/"
        },
        "id": "1GID58IO1Xa2",
        "outputId": "94326c6b-329a-4352-b5a9-bc0811a0b4bd"
      },
      "execution_count": 16,
      "outputs": [
        {
          "output_type": "stream",
          "name": "stdout",
          "text": [
            "tibble [644 × 9] (S3: tbl_df/tbl/data.frame)\n",
            " $ site  : Ord.factor w/ 23 levels \"R-1\"<\"R-2\"<\"R-3\"<..: 13 14 15 1 2 3 4 5 6 7 ...\n",
            " $ mined : Factor w/ 2 levels \"yes\",\"no\": 1 1 1 2 2 2 2 2 2 2 ...\n",
            " $ cover : num [1:644] -1.442 0.298 0.398 -0.448 0.597 ...\n",
            " $ sample: int [1:644] 1 1 1 1 1 1 1 1 1 1 ...\n",
            " $ DOP   : num [1:644] -0.596 -0.596 -1.191 0 0.596 ...\n",
            " $ Wtemp : num [1:644] -1.2294 0.0848 1.0142 -3.0234 -0.1443 ...\n",
            " $ DOY   : num [1:644] -1.497 -1.497 -1.294 -2.712 -0.687 ...\n",
            " $ spp   : Factor w/ 7 levels \"GP\",\"PR\",\"DM\",..: 1 1 1 1 1 1 1 1 1 1 ...\n",
            " $ count : int [1:644] 0 0 0 2 2 1 1 2 4 1 ...\n"
          ]
        }
      ]
    },
    {
      "cell_type": "markdown",
      "source": [
        "We fit a mixed effects Poisson regression for `count` and `mined`, `spp`, `cover` are fixed effect and `site` is random effect (random intercepts) random-effects part.\n"
      ],
      "metadata": {
        "id": "oY0-mfBU1dgh"
      }
    },
    {
      "cell_type": "code",
      "source": [
        "%%R\n",
        "# fit the mixed effects Poisson regression model\n",
        "model.poisson_01 <- mixed_model(fixed = count ~ mined + spp + cover, random = ~1|site,\n",
        "             family = poisson(),\n",
        "             data = mf.poisson)\n",
        "summary(model.poisson_01)"
      ],
      "metadata": {
        "colab": {
          "base_uri": "https://localhost:8080/"
        },
        "id": "OdsRosT4HSLE",
        "outputId": "8fded013-68bd-426c-c909-638c8232c23e"
      },
      "execution_count": 17,
      "outputs": [
        {
          "output_type": "stream",
          "name": "stdout",
          "text": [
            "\n",
            "Call:\n",
            "mixed_model(fixed = count ~ mined + spp + cover, random = ~1 | \n",
            "    site, data = mf.poisson, family = poisson())\n",
            "\n",
            "Data Descriptives:\n",
            "Number of Observations: 644\n",
            "Number of Groups: 23 \n",
            "\n",
            "Model:\n",
            " family: poisson\n",
            " link: log \n",
            "\n",
            "Fit statistics:\n",
            "   log.Lik      AIC      BIC\n",
            " -972.1232 1964.246 1975.601\n",
            "\n",
            "Random effects covariance matrix:\n",
            "               StdDev\n",
            "(Intercept) 0.5651011\n",
            "\n",
            "Fixed effects:\n",
            "            Estimate Std.Err z-value  p-value\n",
            "(Intercept)  -1.6904  0.2580 -6.5513  < 1e-04\n",
            "minedno       2.3960  0.3350  7.1531  < 1e-04\n",
            "sppPR        -1.3864  0.2152 -6.4432  < 1e-04\n",
            "sppDM         0.2305  0.1289  1.7885 0.073702\n",
            "sppEC-A      -0.7701  0.1711 -4.5022  < 1e-04\n",
            "sppEC-L       0.6211  0.1193  5.2060  < 1e-04\n",
            "sppDES-L      0.6791  0.1181  5.7491  < 1e-04\n",
            "sppDF         0.0800  0.1334  0.5997 0.548733\n",
            "cover        -0.1206  0.1649 -0.7313 0.464609\n",
            "\n",
            "Integration:\n",
            "method: adaptive Gauss-Hermite quadrature rule\n",
            "quadrature points: 11\n",
            "\n",
            "Optimization:\n",
            "method: hybrid EM and quasi-Newton\n",
            "converged: TRUE \n"
          ]
        }
      ]
    },
    {
      "cell_type": "markdown",
      "source": [
        "We extend model by also including a random slopes term; however, we assume that the covariance between the random intercepts and random slopes is zero. This is achieved by using the `||`symbol in the specification of the random argument, i.e.,"
      ],
      "metadata": {
        "id": "EcqUZt4cC5LI"
      }
    },
    {
      "cell_type": "code",
      "source": [
        "%%R\n",
        "# fit the mixed effects Poisson regression model\n",
        "model.poisson_02 <- mixed_model(fixed = count ~ mined + spp + cover, random = ~ mined||site,\n",
        "             family = poisson(),\n",
        "             data = mf.poisson)\n",
        "summary(model.poisson_02)"
      ],
      "metadata": {
        "colab": {
          "base_uri": "https://localhost:8080/"
        },
        "id": "apo9DI2jHYHm",
        "outputId": "20228159-19e1-4ca2-cfad-ac26d6b3263c"
      },
      "execution_count": 18,
      "outputs": [
        {
          "output_type": "stream",
          "name": "stdout",
          "text": [
            "\n",
            "Call:\n",
            "mixed_model(fixed = count ~ mined + spp + cover, random = ~mined || \n",
            "    site, data = mf.poisson, family = poisson())\n",
            "\n",
            "Data Descriptives:\n",
            "Number of Observations: 644\n",
            "Number of Groups: 23 \n",
            "\n",
            "Model:\n",
            " family: poisson\n",
            " link: log \n",
            "\n",
            "Fit statistics:\n",
            "   log.Lik      AIC      BIC\n",
            " -972.2275 1966.455 1978.946\n",
            "\n",
            "Random effects covariance matrix:\n",
            "            StdDev\n",
            "(Intercept) 0.5714\n",
            "minedno     0.0874\n",
            "\n",
            "Fixed effects:\n",
            "            Estimate Std.Err z-value p-value\n",
            "(Intercept)  -1.6924  0.2604 -6.4998 < 1e-04\n",
            "minedno       2.3964  0.3402  7.0449 < 1e-04\n",
            "sppPR        -1.3863  0.2152 -6.4429 < 1e-04\n",
            "sppDM         0.2305  0.1289  1.7885 0.07370\n",
            "sppEC-A      -0.7701  0.1711 -4.5023 < 1e-04\n",
            "sppEC-L       0.6212  0.1193  5.2065 < 1e-04\n",
            "sppDES-L      0.6792  0.1181  5.7495 < 1e-04\n",
            "sppDF         0.0800  0.1334  0.5998 0.54865\n",
            "cover        -0.1181  0.1679 -0.7031 0.48200\n",
            "\n",
            "Integration:\n",
            "method: adaptive Gauss-Hermite quadrature rule\n",
            "quadrature points: 11\n",
            "\n",
            "Optimization:\n",
            "method: hybrid EM and quasi-Newton\n",
            "converged: TRUE \n"
          ]
        }
      ]
    },
    {
      "cell_type": "code",
      "source": [
        "%%R\n",
        "# compare the two models\n",
        "anova(model.poisson_01, model.poisson_02)"
      ],
      "metadata": {
        "id": "p_eUNGuwDNka",
        "colab": {
          "base_uri": "https://localhost:8080/"
        },
        "outputId": "8cce1515-3eb0-41b1-ed6c-d184b2246923"
      },
      "execution_count": 19,
      "outputs": [
        {
          "output_type": "stream",
          "name": "stdout",
          "text": [
            "\n",
            "                     AIC     BIC log.Lik  LRT df p.value\n",
            "model.poisson_01 1964.25 1975.60 -972.12                \n",
            "model.poisson_02 1966.46 1978.95 -972.23 0.21  1  0.6478\n",
            "\n"
          ]
        }
      ]
    },
    {
      "cell_type": "markdown",
      "source": [
        "The results now suggest that indeed the covariance between the two random effects terms is not statistically different from zero."
      ],
      "metadata": {
        "id": "kSNFdyf-Hjrr"
      }
    },
    {
      "cell_type": "markdown",
      "source": [
        "{GLMMapative} package also allows to place a penalty in the fixed effects regression coefficients $\\beta$. The penalty/prior is in the form of a Student’s t distribution with mean 0, scale parameter 1, and 3 degrees of freedom, and it is placed in all $\\beta$ coefficients except from the intercept. The penalized model can be fitted by setting argument penalized to TRUE, i.e.,"
      ],
      "metadata": {
        "id": "rkPnhMi8tnCV"
      }
    },
    {
      "cell_type": "code",
      "source": [
        "%%R\n",
        "# fit the mixed effects Poisson regression model with penalized fixed effects\n",
        "model.poisson_03 <- mixed_model(fixed = count ~ mined + spp + cover, random = ~ 1|site,\n",
        "             family = poisson(), penalized = TRUE,\n",
        "             data = mf.poisson)\n",
        "summary(model.poisson_03)"
      ],
      "metadata": {
        "colab": {
          "base_uri": "https://localhost:8080/"
        },
        "id": "Ufm4apQJIHs5",
        "outputId": "2143d1b0-3bca-42e2-e811-e41435491ac2"
      },
      "execution_count": 20,
      "outputs": [
        {
          "output_type": "stream",
          "name": "stdout",
          "text": [
            "\n",
            "Call:\n",
            "mixed_model(fixed = count ~ mined + spp + cover, random = ~1 | \n",
            "    site, data = mf.poisson, family = poisson(), penalized = TRUE)\n",
            "\n",
            "Data Descriptives:\n",
            "Number of Observations: 644\n",
            "Number of Groups: 23 \n",
            "\n",
            "Model:\n",
            " family: poisson\n",
            " link: log \n",
            "\n",
            "Fit statistics:\n",
            "   log.Lik      AIC      BIC\n",
            " -981.3343 1982.669 1994.024\n",
            "\n",
            "Random effects covariance matrix:\n",
            "               StdDev\n",
            "(Intercept) 0.5570291\n",
            "\n",
            "Fixed effects:\n",
            "            Estimate Std.Err z-value  p-value\n",
            "(Intercept)  -1.4874  0.2432 -6.1158  < 1e-04\n",
            "minedno       2.1016  0.3250  6.4670  < 1e-04\n",
            "sppPR        -1.3490  0.2065 -6.5319  < 1e-04\n",
            "sppDM         0.2209  0.1260  1.7526 0.079678\n",
            "sppEC-A      -0.7641  0.1666 -4.5878  < 1e-04\n",
            "sppEC-L       0.6102  0.1165  5.2371  < 1e-04\n",
            "sppDES-L      0.6681  0.1153  5.7923  < 1e-04\n",
            "sppDF         0.0713  0.1305  0.5467 0.584606\n",
            "cover        -0.0388  0.1637 -0.2372 0.812480\n",
            "\n",
            "Integration:\n",
            "method: adaptive Gauss-Hermite quadrature rule\n",
            "quadrature points: 11\n",
            "\n",
            "Optimization:\n",
            "method: hybrid EM and quasi-Newton\n",
            "converged: TRUE \n"
          ]
        }
      ]
    },
    {
      "cell_type": "markdown",
      "source": [
        "In this example we observe small differences between the penalized and unpenalized models. The users have the option to alter the specification of the Student’s t penalty by directly specifying the mean, scale and degrees of freedom arguments of the distribution. For example, a ridge penalty could be placed by setting the degrees of freedom to a high value. The call in this case should be:\n"
      ],
      "metadata": {
        "id": "ScXpBMBikzr3"
      }
    },
    {
      "cell_type": "code",
      "source": [
        "%%R\n",
        "# fit the mixed effects Poisson regression model with penalized fixed effects\n",
        "model.poisson_04 <- mixed_model(fixed = count ~ mined + spp + cover, random = ~ 1|site,\n",
        "             family = poisson(),\n",
        "             penalized = list(pen_mu = 0, pen_sigma = 1, pen_df = 200),\n",
        "             data = mf.poisson)\n",
        "summary(model.poisson_04)"
      ],
      "metadata": {
        "colab": {
          "base_uri": "https://localhost:8080/"
        },
        "id": "zh1DEtUxDSIl",
        "outputId": "47d110b7-ef7b-46a1-84ac-6f49d8f96c35"
      },
      "execution_count": 21,
      "outputs": [
        {
          "output_type": "stream",
          "name": "stdout",
          "text": [
            "\n",
            "Call:\n",
            "mixed_model(fixed = count ~ mined + spp + cover, random = ~1 | \n",
            "    site, data = mf.poisson, family = poisson(), penalized = list(pen_mu = 0, \n",
            "    pen_sigma = 1, pen_df = 200))\n",
            "\n",
            "Data Descriptives:\n",
            "Number of Observations: 644\n",
            "Number of Groups: 23 \n",
            "\n",
            "Model:\n",
            " family: poisson\n",
            " link: log \n",
            "\n",
            "Fit statistics:\n",
            "   log.Lik      AIC      BIC\n",
            " -977.6296 1975.259 1986.614\n",
            "\n",
            "Random effects covariance matrix:\n",
            "               StdDev\n",
            "(Intercept) 0.5576869\n",
            "\n",
            "Fixed effects:\n",
            "            Estimate Std.Err z-value  p-value\n",
            "(Intercept)  -1.4751  0.2310 -6.3845  < 1e-04\n",
            "minedno       2.0835  0.3060  6.8093  < 1e-04\n",
            "sppPR        -1.3464  0.2053 -6.5571  < 1e-04\n",
            "sppDM         0.2203  0.1258  1.7514 0.079885\n",
            "sppEC-A      -0.7636  0.1662 -4.5940  < 1e-04\n",
            "sppEC-L       0.6096  0.1163  5.2428  < 1e-04\n",
            "sppDES-L      0.6675  0.1151  5.7996  < 1e-04\n",
            "sppDF         0.0708  0.1303  0.5438 0.586603\n",
            "cover        -0.0336  0.1609 -0.2091 0.834373\n",
            "\n",
            "Integration:\n",
            "method: adaptive Gauss-Hermite quadrature rule\n",
            "quadrature points: 11\n",
            "\n",
            "Optimization:\n",
            "method: hybrid EM and quasi-Newton\n",
            "converged: TRUE \n"
          ]
        }
      ]
    },
    {
      "cell_type": "markdown",
      "source": [
        "### Mixed Effects Negative Binomial Regression\n",
        "\n",
        "Negative binomial mixed models can be fitted using the `negative.binomial()` family object."
      ],
      "metadata": {
        "id": "Ea1Efdst13YK"
      }
    },
    {
      "cell_type": "code",
      "source": [
        "%%R\n",
        "# fit the mixed effects Poisson regression model\n",
        "model.nb <- mixed_model(fixed = count ~ mined + spp + cover, random = ~1|site,\n",
        "             family = negative.binomial(),\n",
        "             data = mf.poisson)\n",
        "summary(model.nb)"
      ],
      "metadata": {
        "id": "DuagfG_X14Mt",
        "outputId": "e991c242-10f7-48a4-e87c-8e8d257211f1",
        "colab": {
          "base_uri": "https://localhost:8080/"
        }
      },
      "execution_count": 22,
      "outputs": [
        {
          "output_type": "stream",
          "name": "stdout",
          "text": [
            "\n",
            "Call:\n",
            "mixed_model(fixed = count ~ mined + spp + cover, random = ~1 | \n",
            "    site, data = mf.poisson, family = negative.binomial())\n",
            "\n",
            "Data Descriptives:\n",
            "Number of Observations: 644\n",
            "Number of Groups: 23 \n",
            "\n",
            "Model:\n",
            " family: negative binomial\n",
            " link: log \n",
            "\n",
            "Fit statistics:\n",
            "   log.Lik     AIC     BIC\n",
            " -825.9648 1673.93 1686.42\n",
            "\n",
            "Random effects covariance matrix:\n",
            "               StdDev\n",
            "(Intercept) 0.5356483\n",
            "\n",
            "Fixed effects:\n",
            "            Estimate Std.Err z-value    p-value\n",
            "(Intercept)  -1.7395  0.2899 -6.0010    < 1e-04\n",
            "minedno       2.3789  0.3408  6.9810    < 1e-04\n",
            "sppPR        -1.3237  0.2877 -4.6019    < 1e-04\n",
            "sppDM         0.3694  0.2234  1.6532 0.09829453\n",
            "sppEC-A      -0.7107  0.2530 -2.8090 0.00496941\n",
            "sppEC-L       0.5655  0.2192  2.5799 0.00988368\n",
            "sppDES-L      0.7905  0.2166  3.6495 0.00026275\n",
            "sppDF         0.3083  0.2329  1.3236 0.18562086\n",
            "cover        -0.1046  0.1677 -0.6236 0.53292062\n",
            "\n",
            "log(dispersion) parameter:\n",
            "  Estimate Std.Err\n",
            "   -0.0592   0.135\n",
            "\n",
            "Integration:\n",
            "method: adaptive Gauss-Hermite quadrature rule\n",
            "quadrature points: 11\n",
            "\n",
            "Optimization:\n",
            "method: hybrid EM and quasi-Newton\n",
            "converged: TRUE \n"
          ]
        }
      ]
    },
    {
      "cell_type": "markdown",
      "source": [
        "### Mixed Effects Zero-Inflated Poisson Regression\n",
        "\n",
        "Zero-inflated Poisson models can be fitted using the `zi.poisson()` family object.\n"
      ],
      "metadata": {
        "id": "kVpip4LblDjJ"
      }
    },
    {
      "cell_type": "code",
      "source": [
        "%%R\n",
        "# fit the mixed effects zero-inflated Poisson regression model\n",
        "model.zi <- mixed_model(fixed = count ~ mined + spp + cover, random = ~1|site,\n",
        "             family = zi.poisson(),\n",
        "             zi_fixed = ~ mined + spp + cover,\n",
        "             data = mf.poisson)\n",
        "summary(model.zi)"
      ],
      "metadata": {
        "id": "TQK3Q-3PDjWU",
        "colab": {
          "base_uri": "https://localhost:8080/"
        },
        "outputId": "c7b76a99-0f57-4fcd-cd7c-5499e733d3ca"
      },
      "execution_count": 23,
      "outputs": [
        {
          "output_type": "stream",
          "name": "stdout",
          "text": [
            "\n",
            "Call:\n",
            "mixed_model(fixed = count ~ mined + spp + cover, random = ~1 | \n",
            "    site, data = mf.poisson, family = zi.poisson(), zi_fixed = ~mined + \n",
            "    spp + cover)\n",
            "\n",
            "Data Descriptives:\n",
            "Number of Observations: 644\n",
            "Number of Groups: 23 \n",
            "\n",
            "Model:\n",
            " family: zero-inflated poisson\n",
            " link: log \n",
            "\n",
            "Fit statistics:\n",
            "   log.Lik      AIC      BIC\n",
            " -874.0457 1786.091 1807.666\n",
            "\n",
            "Random effects covariance matrix:\n",
            "               StdDev\n",
            "(Intercept) 0.1890082\n",
            "\n",
            "Fixed effects:\n",
            "            Estimate Std.Err z-value  p-value\n",
            "(Intercept)  -0.2181  0.2413 -0.9038 0.366083\n",
            "minedno       1.2575  0.2195  5.7297  < 1e-04\n",
            "sppPR        -0.5753  0.2901 -1.9829 0.047375\n",
            "sppDM         0.2410  0.1418  1.6987 0.089378\n",
            "sppEC-A      -0.2023  0.2010 -1.0063 0.314253\n",
            "sppEC-L       0.6389  0.1313  4.8675  < 1e-04\n",
            "sppDES-L      0.6028  0.1284  4.6944  < 1e-04\n",
            "sppDF         0.0502  0.1577  0.3181 0.750436\n",
            "cover        -0.1827  0.0789 -2.3172 0.020495\n",
            "\n",
            "Zero-part coefficients:\n",
            "            Estimate Std.Err z-value   p-value\n",
            "(Intercept)   1.1298  0.3926  2.8779 0.0040032\n",
            "minedno      -2.0505  0.3174 -6.4605   < 1e-04\n",
            "sppPR         1.5002  0.5053  2.9688 0.0029899\n",
            "sppDM        -0.3211  0.4144 -0.7748 0.4384351\n",
            "sppEC-A       1.1196  0.4358  2.5689 0.0102030\n",
            "sppEC-L      -0.1397  0.3969 -0.3521 0.7247834\n",
            "sppDES-L     -0.4347  0.4042 -1.0754 0.2822063\n",
            "sppDF        -0.5028  0.4566 -1.1012 0.2707919\n",
            "cover        -0.0215  0.1437 -0.1499 0.8808374\n",
            "\n",
            "Integration:\n",
            "method: adaptive Gauss-Hermite quadrature rule\n",
            "quadrature points: 11\n",
            "\n",
            "Optimization:\n",
            "method: hybrid EM and quasi-Newton\n",
            "converged: TRUE \n"
          ]
        }
      ]
    },
    {
      "cell_type": "markdown",
      "source": [
        "### Mixed Effects Zero-Inflated Negative Binomial Regression\n",
        "\n",
        "Zero-inflated negative binomial models can be fitted using the `zi.negative.binomial()` family object."
      ],
      "metadata": {
        "id": "mXXEA7Mr2Fxj"
      }
    },
    {
      "cell_type": "code",
      "source": [
        "%%R\n",
        "# fit the mixed effects Poisson regression model\n",
        "model.zi.nb <- mixed_model(fixed = count ~ mined + spp + cover, random = ~1|site,\n",
        "             family = zi.negative.binomial(),\n",
        "             zi_fixed = ~ mined + spp + cover,\n",
        "             data = mf.poisson)\n",
        "summary(model.zi.nb)"
      ],
      "metadata": {
        "colab": {
          "base_uri": "https://localhost:8080/"
        },
        "id": "0Wt890z6IXsk",
        "outputId": "05a720a2-93f0-479e-bb78-ab9278c1b035"
      },
      "execution_count": 24,
      "outputs": [
        {
          "output_type": "stream",
          "name": "stdout",
          "text": [
            "\n",
            "Call:\n",
            "mixed_model(fixed = count ~ mined + spp + cover, random = ~1 | \n",
            "    site, data = mf.poisson, family = zi.negative.binomial(), \n",
            "    zi_fixed = ~mined + spp + cover)\n",
            "\n",
            "Data Descriptives:\n",
            "Number of Observations: 644\n",
            "Number of Groups: 23 \n",
            "\n",
            "Model:\n",
            " family: zero-inflated negative binomial\n",
            " link: log \n",
            "\n",
            "Fit statistics:\n",
            "   log.Lik     AIC     BIC\n",
            " -813.0351 1666.07 1688.78\n",
            "\n",
            "Random effects covariance matrix:\n",
            "               StdDev\n",
            "(Intercept) 0.3538293\n",
            "\n",
            "Fixed effects:\n",
            "            Estimate Std.Err z-value   p-value\n",
            "(Intercept)  -0.6673  0.3824 -1.7451 0.0809676\n",
            "minedno       1.5897  0.3768  4.2193   < 1e-04\n",
            "sppPR        -1.5691  0.3001 -5.2283   < 1e-04\n",
            "sppDM         0.1465  0.2354  0.6224 0.5336923\n",
            "sppEC-A      -0.8771  0.2667 -3.2884 0.0010075\n",
            "sppEC-L       0.3428  0.2355  1.4558 0.1454511\n",
            "sppDES-L      0.5422  0.2287  2.3706 0.0177577\n",
            "sppDF        -0.0893  0.2439 -0.3659 0.7144033\n",
            "cover        -0.2303  0.1372 -1.6791 0.0931313\n",
            "\n",
            "Zero-part coefficients:\n",
            "            Estimate Std.Err z-value   p-value\n",
            "(Intercept)   2.0512  1.0353  1.9814 0.0475473\n",
            "minedno      -6.2910  3.3493 -1.8783 0.0603357\n",
            "sppPR        -2.8438  1.6721 -1.7008 0.0889887\n",
            "sppDM        -2.5648  1.2060 -2.1267 0.0334453\n",
            "sppEC-A      -1.9382  1.4223 -1.3627 0.1729854\n",
            "sppEC-L      -2.6403  1.3086 -2.0176 0.0436298\n",
            "sppDES-L     -2.6414  1.1739 -2.2502 0.0244362\n",
            "sppDF        -3.7705  1.4058 -2.6822 0.0073136\n",
            "cover        -0.8901  0.5714 -1.5578 0.1192821\n",
            "\n",
            "log(dispersion) parameter:\n",
            "  Estimate Std.Err\n",
            "    0.0973  0.1443\n",
            "\n",
            "Integration:\n",
            "method: adaptive Gauss-Hermite quadrature rule\n",
            "quadrature points: 11\n",
            "\n",
            "Optimization:\n",
            "method: hybrid EM and quasi-Newton\n",
            "converged: TRUE \n"
          ]
        }
      ]
    },
    {
      "cell_type": "code",
      "source": [
        "%%R\n",
        "# compare the two models\n",
        "anova(model.zi, model.zi.nb)"
      ],
      "metadata": {
        "colab": {
          "base_uri": "https://localhost:8080/"
        },
        "id": "_3-nYgGDIfwS",
        "outputId": "939c1216-28d6-44ab-e45e-b37cc0861a4e"
      },
      "execution_count": 25,
      "outputs": [
        {
          "output_type": "stream",
          "name": "stdout",
          "text": [
            "\n",
            "                AIC     BIC log.Lik    LRT df p.value\n",
            "model.zi    1786.09 1807.67 -874.05                  \n",
            "model.zi.nb 1666.07 1688.78 -813.04 122.02  1 <0.0001\n",
            "\n"
          ]
        }
      ]
    },
    {
      "cell_type": "markdown",
      "source": [
        "### Mixed Effects Hurdle Poisson Regression\n",
        "\n",
        "Hurdle Poisson models can be fitted using the `hurdle.poisson()` family object."
      ],
      "metadata": {
        "id": "av9JJCC-IeVS"
      }
    },
    {
      "cell_type": "code",
      "source": [
        "%%R\n",
        "# fit the mixed effects Poisson regression model\n",
        "model.hardle <- mixed_model(fixed = count ~ mined + spp + cover, random = ~1|site,\n",
        "             family = hurdle.poisson(),\n",
        "             zi_fixed = ~ mined + spp + cover,\n",
        "             data = mf.poisson)\n",
        "summary(model.hardle)"
      ],
      "metadata": {
        "id": "0Lj6uoM92Gcm",
        "outputId": "5ccce3b4-9ece-4312-8ddb-a12da5e9d1de",
        "colab": {
          "base_uri": "https://localhost:8080/"
        }
      },
      "execution_count": 26,
      "outputs": [
        {
          "output_type": "stream",
          "name": "stdout",
          "text": [
            "\n",
            "Call:\n",
            "mixed_model(fixed = count ~ mined + spp + cover, random = ~1 | \n",
            "    site, data = mf.poisson, family = hurdle.poisson(), zi_fixed = ~mined + \n",
            "    spp + cover)\n",
            "\n",
            "Data Descriptives:\n",
            "Number of Observations: 644\n",
            "Number of Groups: 23 \n",
            "\n",
            "Model:\n",
            " family: hurdle poisson\n",
            " link: log \n",
            "\n",
            "Fit statistics:\n",
            "   log.Lik      AIC      BIC\n",
            " -874.2537 1786.507 1808.082\n",
            "\n",
            "Random effects covariance matrix:\n",
            "               StdDev\n",
            "(Intercept) 0.1251081\n",
            "\n",
            "Fixed effects:\n",
            "            Estimate Std.Err z-value    p-value\n",
            "(Intercept)  -0.1345  0.1931 -0.6965 0.48613578\n",
            "minedno       1.1990  0.1724  6.9550    < 1e-04\n",
            "sppPR        -0.5452  0.2781 -1.9609 0.04989212\n",
            "sppDM         0.2235  0.1446  1.5456 0.12220016\n",
            "sppEC-A      -0.1989  0.2009 -0.9901 0.32211763\n",
            "sppEC-L       0.6266  0.1320  4.7466    < 1e-04\n",
            "sppDES-L      0.6059  0.1300  4.6594    < 1e-04\n",
            "sppDF         0.0470  0.1534  0.3060 0.75959241\n",
            "cover        -0.2078  0.0621 -3.3481 0.00081362\n",
            "\n",
            "Zero-part coefficients:\n",
            "            Estimate Std.Err z-value   p-value\n",
            "(Intercept)   1.8034  0.2936  6.1414   < 1e-04\n",
            "minedno      -2.4951  0.2551 -9.7827   < 1e-04\n",
            "sppPR         1.6800  0.3966  4.2359   < 1e-04\n",
            "sppDM        -0.4272  0.3504 -1.2194 0.2227040\n",
            "sppEC-A       1.1055  0.3686  2.9995 0.0027046\n",
            "sppEC-L      -0.4272  0.3504 -1.2194 0.2227040\n",
            "sppDES-L     -0.6720  0.3520 -1.9093 0.0562246\n",
            "sppDF        -0.4272  0.3504 -1.2194 0.2227040\n",
            "cover         0.0771  0.1212  0.6364 0.5245160\n",
            "\n",
            "Integration:\n",
            "method: adaptive Gauss-Hermite quadrature rule\n",
            "quadrature points: 11\n",
            "\n",
            "Optimization:\n",
            "method: hybrid EM and quasi-Newton\n",
            "converged: TRUE \n"
          ]
        }
      ]
    },
    {
      "cell_type": "markdown",
      "source": [
        "Nexted model is the best fit model based on AIC and likelihood ratio test."
      ],
      "metadata": {
        "id": "aP-ASSfDDzqp"
      }
    },
    {
      "cell_type": "markdown",
      "source": [
        "## Summary and Conclusion\n",
        "\n",
        "This tutorial provided an overview of Generalized Linear Mixed Models (GLMMs) using Adaptive Gaussian Quadrature (AGQ) with the {GLMMadaptive} package in R. We discussed the mathematical framework behind GLMMs, the likelihood function, numerical integration using AGQ, parameter estimation, and prediction. We demonstrated how to fit GLMMs using the {GLMMadaptive} package with examples of binary, Poisson, and negative binomial response data. The package provides a flexible and efficient tool for fitting GLMMs with various response distributions, complex random effects structures, and custom link functions. The package supports multiple random effects terms, custom link functions, and robust estimation methods. The {GLMMadaptive} package is a valuable resource for researchers analyzing complex data structures with non-normal outcomes.\n"
      ],
      "metadata": {
        "id": "WRcixyIzpt2A"
      }
    },
    {
      "cell_type": "markdown",
      "source": [
        "## References\n",
        "\n",
        "1.  [GLMMadaptive: Generalized Linear Mixed Models using Adaptive Gaussian Quadrature](https://drizopoulos.github.io/GLMMadaptive/index.html)\n",
        "\n",
        "2.  [Generalized Additive Models and Mixed-Effects in Agriculture](https://r-video-tutorial.blogspot.com/2017/07/generalized-addictive-models-and-mixed.html)\n",
        "\n",
        "\n",
        "\n"
      ],
      "metadata": {
        "id": "bLeAMiRQG59v"
      }
    }
  ]
}