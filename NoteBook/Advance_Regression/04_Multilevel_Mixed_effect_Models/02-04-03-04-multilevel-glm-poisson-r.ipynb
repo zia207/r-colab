{
  "nbformat": 4,
  "nbformat_minor": 0,
  "metadata": {
    "colab": {
      "provenance": [],
      "toc_visible": true,
      "authorship_tag": "ABX9TyPXMjW1AXPUSUvxnojCYszD",
      "include_colab_link": true
    },
    "kernelspec": {
      "name": "python3",
      "display_name": "Python 3"
    },
    "language_info": {
      "name": "python"
    }
  },
  "cells": [
    {
      "cell_type": "markdown",
      "metadata": {
        "id": "view-in-github",
        "colab_type": "text"
      },
      "source": [
        "<a href=\"https://colab.research.google.com/github/zia207/r-colab/blob/main/NoteBook/Advance_Regression/02-04-03-04-multilevel-glm-poisson-r.ipynb\" target=\"_parent\"><img src=\"https://colab.research.google.com/assets/colab-badge.svg\" alt=\"Open In Colab\"/></a>"
      ]
    },
    {
      "cell_type": "markdown",
      "source": [
        "![alt text](http://drive.google.com/uc?export=view&id=1bLQ3nhDbZrCCqy_WCxxckOne2lgVvn3l)"
      ],
      "metadata": {
        "id": "4qrItz_mJNWw"
      }
    },
    {
      "cell_type": "markdown",
      "source": [
        "# 3.4. Mutilevel or Mixed Effect Poisson Model (MLPM)\n",
        "\n",
        "Multi-level count data is commonly found in ecology, epidemiology, and social sciences, representing occurrences like disease cases or animal sightings. When this data is clustered or hierarchical, mixed-effects Poisson models offer a robust analytical framework. This tutorial provides an overview of mixed-effects Poisson models for count data and step-by-step instructions for fitting these models in R, highlighting the underlying principles. We will also explore several R packages, including {lme4}, {glmmTMB}, and {MASS}, to fit various Poisson models, with a particular emphasis on managing overdispersion using quasi-Poisson and negative binomial models. By the end of this tutorial, readers will gain theoretical knowledge and practical skills to analyze count data effectively, enabling informed, data-driven decision-making.\n"
      ],
      "metadata": {
        "id": "Dzp9ZseROTcY"
      }
    },
    {
      "cell_type": "markdown",
      "source": [
        "## Overview\n",
        "\n",
        "A **mixed-effects Poisson model** is a type of regression model used to analyze count data while accounting for both fixed effects (effects that are constant across observations) and random effects (effects that vary across groups or clusters). This model is widely used in fields such as biostatistics, epidemiology, and ecology to analyze data with hierarchical or clustered structures.\n",
        "\n",
        "***Model Description***:\n",
        "\n",
        "The general form of a mixed-effects Poisson model can be written as:\n",
        "\n",
        "$$ Y_{ij} \\sim \\text{Poisson}(\\lambda_{ij}) $$ where:\n",
        "\n",
        "-   $Y_{ij}$ is the observed count for the $i$-th observation in the $j$-th group.\n",
        "\n",
        "-   $\\lambda_{ij}$ is the expected count (mean) for the $i$-th observation in the $j$-th group.\n",
        "\n",
        "The expected count, $\\lambda_{ij}$, is linked to a linear predictor via a **log-link function**:\n",
        "\n",
        "$$ \\log(\\lambda_{ij}) = X_{ij}^T \\beta + Z_j^T u_j $$ where:\n",
        "\n",
        "-   $X_{ij}$ is a vector of fixed-effect covariates for the $i$-th observation in the $j$-th group.\n",
        "\n",
        "-   $\\beta$ is the vector of fixed-effect coefficients (parameters).\n",
        "\n",
        "-   $Z_j$ is a vector of random-effect covariates associated with the $j$-th group.\n",
        "\n",
        "-   $u_j$ is the random-effect vector for the $j$-th group, typically assumed to follow a multivariate normal distribution: $u_j \\sim N(0, \\Sigma_u)$.\n",
        "\n",
        "***Key Components***:\n",
        "\n",
        "1.  **Fixed Effects** ($X_{ij}^T \\beta$):\n",
        "\n",
        "    -   Represent the population-level effects that are consistent across all groups.\n",
        "    -   For example, the effect of a treatment or other covariates like age or gender.\n",
        "\n",
        "2.  **Random Effects** ($Z_j^T u_j$):\n",
        "\n",
        "    -   Capture the group-specific variability.\n",
        "    -   Allow for the inclusion of cluster-level heterogeneity.\n",
        "\n",
        "3.  **Poisson Assumption**:\n",
        "\n",
        "    -   The response variable $Y_{ij}$ is assumed to follow a Poisson distribution with mean $\\lambda_{ij}$.\n",
        "    -   Variance equals the mean in a standard Poisson model, but overdispersion (variance greater than the mean) can be handled by extending the model (e.g., using a negative binomial distribution).\n",
        "\n",
        "***Complete Model Equation***:\n",
        "\n",
        "$$ \\log(\\lambda_{ij}) = \\beta_0 + \\sum_{k=1}^p \\beta_k X_{ijk} + \\sum_{m=1}^q u_{jm} Z_{ijm} $$\n",
        "\n",
        "where:\n",
        "\n",
        "-   $\\beta_0$ is the intercept.\n",
        "-   $\\beta_k$ are fixed-effect coefficients for covariates $X_{ijk}$.\n",
        "-   $u_{jm}$ are random effects for covariates (Z\\_{ijm}).\n",
        "\n",
        "***Variance-Covariance Structure***\n",
        "\n",
        "The random effects, (u_j), are assumed to follow a multivariate normal distribution:\n",
        "\n",
        "$$ u_j \\sim N(0, \\Sigma_u) $$\n",
        "\n",
        "where $\\Sigma_u$ is the variance-covariance matrix that describes the structure of the random effects.\n",
        "\n",
        "***Inference and Estimation***:\n",
        "\n",
        "-   Parameters \\$\\beta\\$ (fixed effects) and $\\Sigma_u$ (random effects variance-covariance) are typically estimated using maximum likelihood estimation (MLE) or Bayesian methods.\n",
        "\n",
        "-   Numerical techniques like **Laplace approximation** or **Gauss-Hermite quadrature** are often used due to the complexity of the likelihood function.\n",
        "\n"
      ],
      "metadata": {
        "id": "TpcIOkTs30qp"
      }
    },
    {
      "cell_type": "markdown",
      "source": [
        "## Install rpy2"
      ],
      "metadata": {
        "id": "SDp3ULld8Gb9"
      }
    },
    {
      "cell_type": "code",
      "source": [
        "!pip uninstall rpy2 -y\n",
        "!pip install rpy2==3.5.1\n",
        "%load_ext rpy2.ipython"
      ],
      "metadata": {
        "id": "CiM6y-Mw8AJp",
        "colab": {
          "base_uri": "https://localhost:8080/"
        },
        "outputId": "4cd59b43-9260-4c9a-9616-a385c3b3ff93"
      },
      "execution_count": 1,
      "outputs": [
        {
          "output_type": "stream",
          "name": "stdout",
          "text": [
            "Found existing installation: rpy2 3.4.2\n",
            "Uninstalling rpy2-3.4.2:\n",
            "  Successfully uninstalled rpy2-3.4.2\n",
            "Collecting rpy2==3.5.1\n",
            "  Downloading rpy2-3.5.1.tar.gz (201 kB)\n",
            "\u001b[2K     \u001b[90m━━━━━━━━━━━━━━━━━━━━━━━━━━━━━━━━━━━━━━━━\u001b[0m \u001b[32m201.7/201.7 kB\u001b[0m \u001b[31m3.4 MB/s\u001b[0m eta \u001b[36m0:00:00\u001b[0m\n",
            "\u001b[?25h  Preparing metadata (setup.py) ... \u001b[?25l\u001b[?25hdone\n",
            "Requirement already satisfied: cffi>=1.10.0 in /usr/local/lib/python3.11/dist-packages (from rpy2==3.5.1) (1.17.1)\n",
            "Requirement already satisfied: jinja2 in /usr/local/lib/python3.11/dist-packages (from rpy2==3.5.1) (3.1.5)\n",
            "Requirement already satisfied: pytz in /usr/local/lib/python3.11/dist-packages (from rpy2==3.5.1) (2025.1)\n",
            "Requirement already satisfied: tzlocal in /usr/local/lib/python3.11/dist-packages (from rpy2==3.5.1) (5.3)\n",
            "Requirement already satisfied: pycparser in /usr/local/lib/python3.11/dist-packages (from cffi>=1.10.0->rpy2==3.5.1) (2.22)\n",
            "Requirement already satisfied: MarkupSafe>=2.0 in /usr/local/lib/python3.11/dist-packages (from jinja2->rpy2==3.5.1) (3.0.2)\n",
            "Building wheels for collected packages: rpy2\n",
            "  Building wheel for rpy2 (setup.py) ... \u001b[?25l\u001b[?25hdone\n",
            "  Created wheel for rpy2: filename=rpy2-3.5.1-cp311-cp311-linux_x86_64.whl size=314971 sha256=088c4b202c3f2c7a217af98a4c03a79500a38b0d0ceef813423986714d08f66e\n",
            "  Stored in directory: /root/.cache/pip/wheels/e9/55/d1/47be85a5f3f1e1f4d1e91cb5e3a4dcb40dd72147f184c5a5ef\n",
            "Successfully built rpy2\n",
            "Installing collected packages: rpy2\n",
            "Successfully installed rpy2-3.5.1\n"
          ]
        }
      ]
    },
    {
      "cell_type": "markdown",
      "source": [
        "## Mount Google Drive"
      ],
      "metadata": {
        "id": "O1zeuaCowiBt"
      }
    },
    {
      "cell_type": "code",
      "source": [
        "from google.colab import drive\n",
        "drive.mount('/content/drive')"
      ],
      "metadata": {
        "colab": {
          "base_uri": "https://localhost:8080/"
        },
        "id": "9J-4ie4bwiJ1",
        "outputId": "f046324f-ea39-4954-94d0-4c4aa73a3747"
      },
      "execution_count": 2,
      "outputs": [
        {
          "output_type": "stream",
          "name": "stdout",
          "text": [
            "Mounted at /content/drive\n"
          ]
        }
      ]
    },
    {
      "cell_type": "markdown",
      "source": [
        "## Multilevel Poisson Model from Scratch\n",
        "\n",
        "Fitting a multilevel Poisson model from scratch in R without relying on any specific packages is a computationally intensive task, as it requires implementing iterative optimization for the likelihood function. Below is a step-by-step implementation outline:\n",
        "\n",
        "1.  **Simulated Hierarchical Data**: Simulate or provide hierarchical count data with fixed and random effects.\n",
        "2.  **Model Specification**: Specify the likelihood function for a Poisson distribution with both fixed and random effects.\n",
        "3.  **Optimization**: Use numerical methods like gradient descent or Newton-Raphson to optimize the parameters.\n",
        "4.  **Estimation of Random Effects**: Use an iterative approach to account for random effects (e.g., via the expectation-maximization (EM) algorithm).\n"
      ],
      "metadata": {
        "id": "UdMcXPIF4Bly"
      }
    },
    {
      "cell_type": "markdown",
      "source": [
        "### Simulated Hierarchical Data\n",
        "\n",
        "Let's start by simulating hierarchical count data with fixed and random effects. We will generate a dataset with multiple groups, each containing observations with a Poisson-distributed response variable. The data will include a covariate (e.g., age) and group-level random effects.\n",
        "\n",
        "Here is the simulated setup:\n"
      ],
      "metadata": {
        "id": "ztl1QBDb4MYe"
      }
    },
    {
      "cell_type": "code",
      "source": [
        "%%R\n",
        "# Step 1: Simulate Example Data\n",
        "set.seed(123)\n",
        "\n",
        "# Number of groups and observations per group\n",
        "n_groups <- 10\n",
        "n_obs_per_group <- 50\n",
        "\n",
        "# Fixed effect parameters\n",
        "beta_0 <- 1.5  # Intercept\n",
        "beta_1 <- 0.3  # Slope for fixed effect (e.g., covariate effect)\n",
        "\n",
        "# Random effect standard deviation\n",
        "sigma_u <- 0.5\n",
        "\n",
        "# Generate group-level random effects\n",
        "group_ids <- rep(1:n_groups, each = n_obs_per_group)\n",
        "u <- rnorm(n_groups, mean = 0, sd = sigma_u)\n",
        "\n",
        "# Covariate (e.g., age)\n",
        "x <- runif(n_groups * n_obs_per_group, 0, 10)\n",
        "\n",
        "# Generate response variable (Poisson counts)\n",
        "lambda <- exp(beta_0 + beta_1 * x + u[group_ids])\n",
        "y <- rpois(n_groups * n_obs_per_group, lambda)\n",
        "\n",
        "# Data frame\n",
        "data <- data.frame(group = group_ids, x = x, y = y)\n",
        "head(data)"
      ],
      "metadata": {
        "id": "q82MNCn64Q0w",
        "colab": {
          "base_uri": "https://localhost:8080/"
        },
        "outputId": "2be287a1-a12c-4e9f-fe66-4627e9b7ba8e"
      },
      "execution_count": 47,
      "outputs": [
        {
          "output_type": "stream",
          "name": "stdout",
          "text": [
            "  group        x  y\n",
            "1     1 8.895393 45\n",
            "2     1 6.928034 17\n",
            "3     1 6.405068 29\n",
            "4     1 9.942698 85\n",
            "5     1 6.557058 31\n",
            "6     1 7.085305 27\n"
          ]
        }
      ]
    },
    {
      "cell_type": "markdown",
      "source": [
        "### Log-Likelihood Function\n",
        "\n",
        "Next, we define the log-likelihood function for the mixed-effects Poisson model. The function takes the model parameters (fixed effects, random effects, and variance of random effects) as input and returns the negative log-likelihood value to be minimized during optimization. The log-likelihood consists of two components: the Poisson log-likelihood for the response variable and the log-likelihood for the random effects (prior distribution). The random effects are assumed to follow a normal distribution with mean 0 and variance $\\sigma_u^2$. The total log-likelihood is the sum of these two components."
      ],
      "metadata": {
        "id": "zDBKsDwn4LQe"
      }
    },
    {
      "cell_type": "code",
      "source": [
        "%%R\n",
        "# Step 2: Log-Likelihood Function\n",
        "log_likelihood <- function(params) {\n",
        "  beta_0 <- params[1]  # Intercept (fixed effect)\n",
        "  beta_1 <- params[2]  # Covariate effect (fixed effect)\n",
        "  sigma_u <- exp(params[3])  # Variance of random effects (positive)\n",
        "\n",
        "  # Extract group-level random effects\n",
        "  u <- params[4:(3 + n_groups)]\n",
        "\n",
        "  # Calculate linear predictor\n",
        "  eta <- beta_0 + beta_1 * data$x + u[data$group]\n",
        "\n",
        "  # Poisson log-likelihood\n",
        "  ll <- sum(data$y * eta - exp(eta))\n",
        "\n",
        "  # Random effect log-likelihood (prior)\n",
        "  ll_random <- sum(dnorm(u, mean = 0, sd = sigma_u, log = TRUE))\n",
        "\n",
        "  # Total log-likelihood\n",
        "  return(-(ll + ll_random))  # Return negative for minimization\n",
        "}\n"
      ],
      "metadata": {
        "id": "dhRM1tBj4MCd"
      },
      "execution_count": 48,
      "outputs": []
    },
    {
      "cell_type": "markdown",
      "source": [
        "### Optimize Parameters using `optim()` and fit the model\n",
        "\n",
        "We use the `optim()` function to optimize the log-likelihood function and estimate the fixed and random effects parameters. The initial values for the parameters are set based on prior knowledge or random values. The optimization method (e.g., `BFGS`) and control parameters (e.g., maximum iterations) can be specified to fine-tune the optimization process.\n"
      ],
      "metadata": {
        "id": "4BpOoaj34eBU"
      }
    },
    {
      "cell_type": "code",
      "source": [
        "%%R\n",
        "# Step 3: Optimize Parameters\n",
        "# Initial values: intercept, slope, log(sigma_u), random effects\n",
        "init_params <- c(1, 0.1, log(0.5), rep(0, n_groups))\n",
        "\n",
        "# Optimize using optim\n",
        "fit <- optim(\n",
        "  par = init_params,\n",
        "  fn = log_likelihood,\n",
        "  method = \"BFGS\",\n",
        "  control = list(maxit = 1000)\n",
        ")\n"
      ],
      "metadata": {
        "id": "soSBO_2B4qVv"
      },
      "execution_count": 49,
      "outputs": []
    },
    {
      "cell_type": "markdown",
      "source": [
        "### Extract Results\n",
        "\n",
        "Finally, we extract the estimated fixed effects, random effects, and variance of random effects from the optimization results. These estimates provide insights into the relationships between the covariates and the response variable, as well as the variability across groups."
      ],
      "metadata": {
        "id": "-JuTDU0fBTIX"
      }
    },
    {
      "cell_type": "code",
      "source": [
        "%%R\n",
        "# Step 4: Extract Results\n",
        "# Fixed effects\n",
        "beta_0_est <- fit$par[1]\n",
        "beta_1_est <- fit$par[2]\n",
        "\n",
        "# Random effects\n",
        "sigma_u_est <- exp(fit$par[3])\n",
        "u_est <- fit$par[4:(3 + n_groups)]\n",
        "\n",
        "# Print results\n",
        "cat(\"Estimated Fixed Effects:\\n\")\n",
        "cat(\"  Intercept (beta_0):\", beta_0_est, \"\\n\")\n",
        "cat(\"  Slope (beta_1):\", beta_1_est, \"\\n\")\n",
        "\n",
        "cat(\"\\nEstimated Random Effect Variance:\\n\")\n",
        "cat(\"  sigma_u:\", sigma_u_est, \"\\n\")\n",
        "\n",
        "cat(\"\\nEstimated Random Effects:\\n\")\n",
        "print(u_est)"
      ],
      "metadata": {
        "id": "8mioZdwbBT_S",
        "colab": {
          "base_uri": "https://localhost:8080/"
        },
        "outputId": "df4f6244-3098-4060-e19d-32346493aacd"
      },
      "execution_count": 51,
      "outputs": [
        {
          "output_type": "stream",
          "name": "stdout",
          "text": [
            "Estimated Fixed Effects:\n",
            "  Intercept (beta_0): 1.483758 \n",
            "  Slope (beta_1): 0.306567 \n",
            "\n",
            "Estimated Random Effect Variance:\n",
            "  sigma_u: 0.4543848 \n",
            "\n",
            "Estimated Random Effects:\n",
            " [1] -0.30456806 -0.15772944  0.74870962 -0.02052520  0.03539855  0.81127347\n",
            " [7]  0.21466981 -0.68227191 -0.40154883 -0.24085780\n"
          ]
        }
      ]
    },
    {
      "cell_type": "markdown",
      "source": [
        "## Multilevel Poisson Model in R\n",
        "\n",
        "Multilevel Poisson models can be fitted using various R packages that provide robust and efficient implementations for analyzing hierarchical count data. In this section, we will demonstrate how to fit mixed-effects Poisson models using the `{lme4}`, `{glmmTMB}`, and `{MASS}` packages in R, highlighting the key steps involved in the modeling process."
      ],
      "metadata": {
        "id": "90C3xCiGBa3q"
      }
    },
    {
      "cell_type": "markdown",
      "source": [
        "### Install Required R Packages\n",
        "\n",
        "Following R packages are required to run this notebook. If any of these packages are not installed, you can install them using the code below:\n",
        "\n",
        "\n"
      ],
      "metadata": {
        "id": "9T5ojBgKBv5p"
      }
    },
    {
      "cell_type": "code",
      "source": [
        "%%R\n",
        "packages <- c('tidyverse',\n",
        "              'dlookr',\n",
        "              'sjPlot',\n",
        "              'jtools',\n",
        "              'lme4',\n",
        "              'glmmTMB',\n",
        "              'MASS',\n",
        "              'MuMIn',\n",
        "              'performance',\n",
        "              'vcd'\n",
        "\t\t )"
      ],
      "metadata": {
        "id": "4ERkgB8gByVX"
      },
      "execution_count": 6,
      "outputs": []
    },
    {
      "cell_type": "code",
      "source": [
        "%%R\n",
        "# Install missing packages\n",
        "new.packages <- packages[!(packages %in% installed.packages(lib='drive/My Drive/R/')[,\"Package\"])]\n",
        "if(length(new.packages)) install.packages(new.packages, lib='drive/My Drive/R/')"
      ],
      "metadata": {
        "id": "J3nWFZpl-sr-"
      },
      "execution_count": null,
      "outputs": []
    },
    {
      "cell_type": "code",
      "source": [
        "%%R\n",
        "# set library path\n",
        ".libPaths('drive/My Drive/R')\n",
        "# Verify installation\n",
        "cat(\"Installed packages:\\n\")\n",
        "print(sapply(packages, requireNamespace, quietly = TRUE))"
      ],
      "metadata": {
        "colab": {
          "base_uri": "https://localhost:8080/"
        },
        "id": "-jv6EE7Z-sx-",
        "outputId": "ecadb69d-1000-4982-b989-5e89df39a508"
      },
      "execution_count": 7,
      "outputs": [
        {
          "output_type": "stream",
          "name": "stdout",
          "text": [
            "Installed packages:\n"
          ]
        },
        {
          "output_type": "stream",
          "name": "stderr",
          "text": [
            "WARNING:rpy2.rinterface_lib.callbacks:R[write to console]: Registered S3 methods overwritten by 'dlookr':\n",
            "  method          from  \n",
            "  plot.transform  scales\n",
            "  print.transform scales\n",
            "\n"
          ]
        },
        {
          "output_type": "stream",
          "name": "stdout",
          "text": [
            "  tidyverse      dlookr      sjPlot        lme4     glmmTMB        MASS \n",
            "       TRUE        TRUE        TRUE        TRUE        TRUE        TRUE \n",
            "      MuMIn performance         vcd \n",
            "       TRUE        TRUE        TRUE \n"
          ]
        }
      ]
    },
    {
      "cell_type": "markdown",
      "source": [
        "### Load R Packages"
      ],
      "metadata": {
        "id": "MV7R29xfyWQz"
      }
    },
    {
      "cell_type": "code",
      "source": [
        "%%R\n",
        "# set library path\n",
        ".libPaths('drive/My Drive/R')\n",
        "# Load packages with suppressed messages\n",
        "invisible(lapply(packages, function(pkg) {\n",
        "  suppressPackageStartupMessages(library(pkg, character.only = TRUE))\n",
        "}))\n",
        "# Check loaded packages\n",
        "cat(\"Successfully loaded packages:\\n\")\n",
        "print(search()[grepl(\"package:\", search())])# Check loaded packages\n"
      ],
      "metadata": {
        "id": "232jNAHBykUL",
        "colab": {
          "base_uri": "https://localhost:8080/"
        },
        "outputId": "d6eae93d-0999-4caf-f34a-322564181abe"
      },
      "execution_count": 8,
      "outputs": [
        {
          "output_type": "stream",
          "name": "stdout",
          "text": [
            "Successfully loaded packages:\n",
            " [1] \"package:vcd\"         \"package:grid\"        \"package:performance\"\n",
            " [4] \"package:MuMIn\"       \"package:MASS\"        \"package:glmmTMB\"    \n",
            " [7] \"package:lme4\"        \"package:Matrix\"      \"package:sjPlot\"     \n",
            "[10] \"package:dlookr\"      \"package:lubridate\"   \"package:forcats\"    \n",
            "[13] \"package:stringr\"     \"package:dplyr\"       \"package:purrr\"      \n",
            "[16] \"package:readr\"       \"package:tidyr\"       \"package:tibble\"     \n",
            "[19] \"package:ggplot2\"     \"package:tidyverse\"   \"package:tools\"      \n",
            "[22] \"package:stats\"       \"package:graphics\"    \"package:grDevices\"  \n",
            "[25] \"package:utils\"       \"package:datasets\"    \"package:methods\"    \n",
            "[28] \"package:base\"       \n"
          ]
        }
      ]
    },
    {
      "cell_type": "markdown",
      "source": [
        "### Data\n",
        "\n",
        "In this section we use the `Salamanders` data set from the {glmmTMB} package. The data set containing `counts` of salamanders with site covariates and sampling covariates. Each of 23 sites was sampled 4 times. (Price et al. (2016); Price et al. 2015).\n",
        "\n",
        "A data frame with 644 observations on the following 10 variables:\n",
        "\n",
        "`site`: name of a location where repeated samples were taken\n",
        "\n",
        "`mined`: factor indicating whether the site was affected by mountain top removal coal mining\n",
        "\n",
        "`cover`: amount of cover objects in the stream (scaled)\n",
        "\n",
        "`sample`: repeated sample\n",
        "\n",
        "`DOP`:Days since precipitation (scaled)\n",
        "\n",
        "`Wtemp`:water temperature (scaled)\n",
        "\n",
        "`DOY`:day of year (scaled)\n",
        "\n",
        "`spp`:abbreviated species name, possibly also life stage\n",
        "\n",
        "`count`:number of salamanders observed\n",
        "\n",
        "Price SJ, Muncy BL, Bonner SJ, Drayer AN, Barton CD (2016) Effects of mountaintop removal mining and valley filling on the occupancy and abundance of stream salamanders. Journal of Applied Ecology 53 459–468. doi:10.1111/1365-2664.12585\n",
        "\n",
        "Price SJ, Muncy BL, Bonner SJ, Drayer AN, Barton CD (2015) Data from: Effects of mountaintop removal mining and valley filling on the occupancy and abundance of stream salamanders. Dryad Digital Repository. doi:10.5061/dryad.5m8f6\n",
        "\n"
      ],
      "metadata": {
        "id": "rSJqB05rO5ES"
      }
    },
    {
      "cell_type": "code",
      "execution_count": 10,
      "metadata": {
        "id": "CFpt_H01OPsa",
        "colab": {
          "base_uri": "https://localhost:8080/"
        },
        "outputId": "eef3b190-5d10-4d80-9562-849f07bb18f1"
      },
      "outputs": [
        {
          "output_type": "stream",
          "name": "stdout",
          "text": [
            "tibble [644 × 9] (S3: tbl_df/tbl/data.frame)\n",
            " $ site  : Ord.factor w/ 23 levels \"R-1\"<\"R-2\"<\"R-3\"<..: 13 14 15 1 2 3 4 5 6 7 ...\n",
            " $ mined : Factor w/ 2 levels \"yes\",\"no\": 1 1 1 2 2 2 2 2 2 2 ...\n",
            " $ cover : num [1:644] -1.442 0.298 0.398 -0.448 0.597 ...\n",
            " $ sample: int [1:644] 1 1 1 1 1 1 1 1 1 1 ...\n",
            " $ DOP   : num [1:644] -0.596 -0.596 -1.191 0 0.596 ...\n",
            " $ Wtemp : num [1:644] -1.2294 0.0848 1.0142 -3.0234 -0.1443 ...\n",
            " $ DOY   : num [1:644] -1.497 -1.497 -1.294 -2.712 -0.687 ...\n",
            " $ spp   : Factor w/ 7 levels \"GP\",\"PR\",\"DM\",..: 1 1 1 1 1 1 1 1 1 1 ...\n",
            " $ count : int [1:644] 0 0 0 2 2 1 1 2 4 1 ...\n"
          ]
        }
      ],
      "source": [
        "%%R\n",
        "mf<-as_tibble(Salamanders, package = \"glmmTMB\")\n",
        "str(mf)"
      ]
    },
    {
      "cell_type": "markdown",
      "source": [
        "`DataExplorer::plot_intro()` plot basic information (from introduce) for input data.\n"
      ],
      "metadata": {
        "id": "ua9X3xgJ0qED"
      }
    },
    {
      "cell_type": "code",
      "source": [
        "%%R -w 500 -h 450 -u px\n",
        "mf  |>\n",
        "  DataExplorer::plot_intro()\n"
      ],
      "metadata": {
        "colab": {
          "base_uri": "https://localhost:8080/",
          "height": 467
        },
        "id": "MmtJFmCMCpig",
        "outputId": "27b27005-cbe3-44be-9c16-86e8950ba61f"
      },
      "execution_count": 15,
      "outputs": [
        {
          "output_type": "display_data",
          "data": {
            "image/png": "[encoded data removed]"
          },
          "metadata": {}
        }
      ]
    },
    {
      "cell_type": "markdown",
      "source": [
        "Distribution of the `count` variable in `mined` setting is shown below"
      ],
      "metadata": {
        "id": "ljjM3k4s00Gj"
      }
    },
    {
      "cell_type": "code",
      "source": [
        "%%R -w 500 -h 450 -u px\n",
        "# output the results\n",
        "mf %>%\n",
        "  # prepare data\n",
        "  dplyr::select(mined, count) %>%\n",
        "  dplyr::group_by(mined) %>%\n",
        "  dplyr::mutate(Mean = round(mean(count), 1)) %>%\n",
        "  dplyr::mutate(SD = round(sd(count), 1)) %>%\n",
        "  # start plot\n",
        "  ggplot(aes(mined, count, color = mined, fill = mined)) +\n",
        "  geom_violin(trim=FALSE, color = \"gray20\")+\n",
        "  geom_boxplot(width=0.1, fill=\"white\", color = \"gray20\") +\n",
        "  geom_text(aes(y=-4,label=paste(\"mean: \", Mean, sep = \"\")), size = 3, color = \"black\") +\n",
        "  geom_text(aes(y=-5,label=paste(\"SD: \", SD, sep = \"\")), size = 3, color = \"black\") +\n",
        "  scale_fill_manual(values=rep(\"grey90\",4)) +\n",
        "  theme_set(theme_bw(base_size = 10)) +\n",
        "  theme(legend.position=\"none\", legend.title = element_blank(),\n",
        "        panel.grid.major = element_blank(),\n",
        "        panel.grid.minor = element_blank()) +\n",
        "  ylim(-5, 15) +\n",
        "  labs(x = \"mined\", y = \"count\")\n"
      ],
      "metadata": {
        "colab": {
          "base_uri": "https://localhost:8080/",
          "height": 467
        },
        "id": "Fi4OFaNAtRGJ",
        "outputId": "003069dd-3c26-417c-cd6a-0d98614fbec0"
      },
      "execution_count": 14,
      "outputs": [
        {
          "output_type": "display_data",
          "data": {
            "image/png": "[encoded data removed]"
          },
          "metadata": {}
        }
      ]
    },
    {
      "cell_type": "markdown",
      "source": [
        "### Goodness-of-fit Tests"
      ],
      "metadata": {
        "id": "AtHfVBeN1LGA"
      }
    },
    {
      "cell_type": "code",
      "source": [
        "%%R -w 500 -h 450 -u px\n",
        "gf = vcd::goodfit(mf$count,type= \"poisson\", method= \"ML\")\n",
        "plot(gf, main=\"Count data vs Poisson distribution\")\n"
      ],
      "metadata": {
        "colab": {
          "base_uri": "https://localhost:8080/",
          "height": 467
        },
        "id": "12adlwEe1MHR",
        "outputId": "4647a733-609f-46eb-db84-abb1680dea90"
      },
      "execution_count": 17,
      "outputs": [
        {
          "output_type": "display_data",
          "data": {
            "image/png": "[encoded data removed]"
          },
          "metadata": {}
        }
      ]
    },
    {
      "cell_type": "markdown",
      "source": [
        "The data does not perfectly match a Poisson distribution. We will use a goodness-of-fit test to determine if it significantly diverges from this distribution. A p-value less than .05 indicates a significant difference, suggesting the data is likely over-dispersed."
      ],
      "metadata": {
        "id": "jaHGX9W51WHS"
      }
    },
    {
      "cell_type": "code",
      "source": [
        "%%R\n",
        "summary(gf)"
      ],
      "metadata": {
        "colab": {
          "base_uri": "https://localhost:8080/"
        },
        "id": "1GID58IO1Xa2",
        "outputId": "6004788c-142e-4231-bdf0-a8bb5173843e"
      },
      "execution_count": 18,
      "outputs": [
        {
          "output_type": "stream",
          "name": "stdout",
          "text": [
            "\n",
            "\t Goodness-of-fit test for poisson distribution\n",
            "\n",
            "                      X^2 df      P(> X^2)\n",
            "Likelihood Ratio 958.8815 14 1.032889e-195\n"
          ]
        }
      ]
    },
    {
      "cell_type": "markdown",
      "source": [
        "The p-value is indeed smaller than .05 which means that we should indeed use a negative-binomial model rather than a Poisson model. We will ignore this, for now, and proceed to fit a Poisson mixed-effects model and check what happens if a Poisson model is fit to over-dispersed data."
      ],
      "metadata": {
        "id": "oY0-mfBU1dgh"
      }
    },
    {
      "cell_type": "markdown",
      "source": [
        "### Mixed Effect Poisson Models\n",
        "\n",
        "To analyze the **Salamanders** dataset from the `{glmmTMB}` package using different types of Poisson models with the `{lme4}` package, you can follow these steps. Here's a detailed approach to fit fixed-effects, random-effects, and nested random-effects Poisson models.\n",
        "\n",
        "We will fit the following models to the Salamanders dataset to model the count of salamanders observed using the `cover`, `mined` and `spp` variables:"
      ],
      "metadata": {
        "id": "EcqUZt4cC5LI"
      }
    },
    {
      "cell_type": "markdown",
      "source": [
        "#### Fixed-Effects Poisson Model\n",
        "\n",
        "This model assumes only fixed effects without any grouping structure.\n"
      ],
      "metadata": {
        "id": "4Z_PXyWFDJ9q"
      }
    },
    {
      "cell_type": "code",
      "source": [
        "%%R\n",
        "# Fixed-effects Poisson model\n",
        "model_fixed <- glm(count ~ mined + spp + cover, data = mf, family = \"poisson\")\n",
        "summary(model_fixed)"
      ],
      "metadata": {
        "id": "p_eUNGuwDNka",
        "colab": {
          "base_uri": "https://localhost:8080/"
        },
        "outputId": "d0f40942-8dd6-4f2a-eaf9-0f0a77ceeacf"
      },
      "execution_count": 19,
      "outputs": [
        {
          "output_type": "stream",
          "name": "stdout",
          "text": [
            "\n",
            "Call:\n",
            "glm(formula = count ~ mined + spp + cover, family = \"poisson\", \n",
            "    data = mf)\n",
            "\n",
            "Coefficients:\n",
            "            Estimate Std. Error z value Pr(>|z|)    \n",
            "(Intercept) -1.49204    0.14129 -10.560  < 2e-16 ***\n",
            "minedno      2.29902    0.12005  19.151  < 2e-16 ***\n",
            "sppPR       -1.38629    0.21517  -6.443 1.17e-10 ***\n",
            "sppDM        0.23052    0.12889   1.789   0.0737 .  \n",
            "sppEC-A     -0.77011    0.17105  -4.502 6.73e-06 ***\n",
            "sppEC-L      0.62117    0.11931   5.206 1.92e-07 ***\n",
            "sppDES-L     0.67916    0.11813   5.749 8.96e-09 ***\n",
            "sppDF        0.08004    0.13344   0.600   0.5486    \n",
            "cover       -0.23087    0.04136  -5.582 2.37e-08 ***\n",
            "---\n",
            "Signif. codes:  0 ‘***’ 0.001 ‘**’ 0.01 ‘*’ 0.05 ‘.’ 0.1 ‘ ’ 1\n",
            "\n",
            "(Dispersion parameter for poisson family taken to be 1)\n",
            "\n",
            "    Null deviance: 2120.7  on 643  degrees of freedom\n",
            "Residual deviance: 1278.9  on 635  degrees of freedom\n",
            "AIC: 2020.1\n",
            "\n",
            "Number of Fisher Scoring iterations: 6\n",
            "\n"
          ]
        }
      ]
    },
    {
      "cell_type": "markdown",
      "source": [
        "#### Random-Intercept Model\n",
        "\n",
        "This model includes a random intercept for the `site`."
      ],
      "metadata": {
        "id": "rkPnhMi8tnCV"
      }
    },
    {
      "cell_type": "code",
      "source": [
        "%%R\n",
        "# Random-intercept Poisson model\n",
        "model_random_intercept <- glmer(count ~ mined + spp + cover + (1 | site),\n",
        "                                data = Salamanders, family = \"poisson\")\n",
        "summary(model_random_intercept)"
      ],
      "metadata": {
        "colab": {
          "base_uri": "https://localhost:8080/"
        },
        "id": "Ufm4apQJIHs5",
        "outputId": "84857855-c79d-400a-de47-b8c88f53b531"
      },
      "execution_count": 20,
      "outputs": [
        {
          "output_type": "stream",
          "name": "stdout",
          "text": [
            "Generalized linear mixed model fit by maximum likelihood (Laplace\n",
            "  Approximation) [glmerMod]\n",
            " Family: poisson  ( log )\n",
            "Formula: count ~ mined + spp + cover + (1 | site)\n",
            "   Data: Salamanders\n",
            "\n",
            "     AIC      BIC   logLik deviance df.resid \n",
            "  1964.3   2009.0   -972.1   1944.3      634 \n",
            "\n",
            "Scaled residuals: \n",
            "    Min      1Q  Median      3Q     Max \n",
            "-2.6063 -0.7421 -0.4244  0.0778 11.6872 \n",
            "\n",
            "Random effects:\n",
            " Groups Name        Variance Std.Dev.\n",
            " site   (Intercept) 0.3175   0.5635  \n",
            "Number of obs: 644, groups:  site, 23\n",
            "\n",
            "Fixed effects:\n",
            "            Estimate Std. Error z value Pr(>|z|)    \n",
            "(Intercept) -1.68944    0.25581  -6.604 4.00e-11 ***\n",
            "minedno      2.39498    0.33283   7.196 6.21e-13 ***\n",
            "sppPR       -1.38629    0.21417  -6.473 9.63e-11 ***\n",
            "sppDM        0.23050    0.12830   1.797   0.0724 .  \n",
            "sppEC-A     -0.77013    0.17027  -4.523 6.10e-06 ***\n",
            "sppEC-L      0.62115    0.11876   5.230 1.69e-07 ***\n",
            "sppDES-L     0.67914    0.11758   5.776 7.66e-09 ***\n",
            "sppDF        0.08004    0.13283   0.603   0.5468    \n",
            "cover       -0.12046    0.16414  -0.734   0.4630    \n",
            "---\n",
            "Signif. codes:  0 ‘***’ 0.001 ‘**’ 0.01 ‘*’ 0.05 ‘.’ 0.1 ‘ ’ 1\n",
            "\n",
            "Correlation of Fixed Effects:\n",
            "         (Intr) minedn sppPR  sppDM  spEC-A spEC-L sDES-L sppDF \n",
            "minedno  -0.777                                                 \n",
            "sppPR    -0.167  0.000                                          \n",
            "sppDM    -0.280  0.000  0.334                                   \n",
            "sppEC-A  -0.211  0.000  0.252  0.420                            \n",
            "sppEC-L  -0.302  0.000  0.361  0.602  0.454                     \n",
            "sppDES-L -0.305  0.000  0.364  0.608  0.458  0.657              \n",
            "sppDF    -0.270  0.000  0.322  0.538  0.406  0.582  0.587       \n",
            "cover     0.385 -0.565  0.000  0.000  0.000  0.000  0.000  0.000\n"
          ]
        }
      ]
    },
    {
      "cell_type": "markdown",
      "source": [
        "#### Random-Intercept and Slope Model\n",
        "\n",
        "This model includes a random slope for `mined` within `site`.   \n"
      ],
      "metadata": {
        "id": "ScXpBMBikzr3"
      }
    },
    {
      "cell_type": "code",
      "source": [
        "%%R\n",
        "# Random-intercept and slope Poisson model\n",
        "model_random_slope <- glmer(count ~ mined + spp + cover + (mined | site),\n",
        "                            data = mf, family = \"poisson\")\n",
        "summary(model_random_slope)"
      ],
      "metadata": {
        "colab": {
          "base_uri": "https://localhost:8080/"
        },
        "id": "zh1DEtUxDSIl",
        "outputId": "21fb1ebc-e952-4b7f-c6ce-a7986d34396d"
      },
      "execution_count": 21,
      "outputs": [
        {
          "output_type": "stream",
          "name": "stdout",
          "text": [
            "Generalized linear mixed model fit by maximum likelihood (Laplace\n",
            "  Approximation) [glmerMod]\n",
            " Family: poisson  ( log )\n",
            "Formula: count ~ mined + spp + cover + (mined | site)\n",
            "   Data: mf\n",
            "\n",
            "     AIC      BIC   logLik deviance df.resid \n",
            "  1951.4   2005.0   -963.7   1927.4      632 \n",
            "\n",
            "Scaled residuals: \n",
            "    Min      1Q  Median      3Q     Max \n",
            "-2.5719 -0.7403 -0.3875  0.0571 11.9113 \n",
            "\n",
            "Random effects:\n",
            " Groups Name        Variance Std.Dev. Corr \n",
            " site   (Intercept) 1.170    1.082         \n",
            "        minedno     1.411    1.188    -0.99\n",
            "Number of obs: 644, groups:  site, 23\n",
            "\n",
            "Fixed effects:\n",
            "            Estimate Std. Error z value Pr(>|z|)    \n",
            "(Intercept) -1.98239    0.38025  -5.213 1.85e-07 ***\n",
            "minedno      2.78291    0.38356   7.255 4.00e-13 ***\n",
            "sppPR       -1.38764    0.21434  -6.474 9.54e-11 ***\n",
            "sppDM        0.22983    0.12834   1.791 0.073337 .  \n",
            "sppEC-A     -0.77091    0.17035  -4.525 6.03e-06 ***\n",
            "sppEC-L      0.62020    0.11880   5.220 1.79e-07 ***\n",
            "sppDES-L     0.67823    0.11763   5.766 8.12e-09 ***\n",
            "sppDF        0.07872    0.13290   0.592 0.553623    \n",
            "cover       -0.26668    0.07922  -3.366 0.000762 ***\n",
            "---\n",
            "Signif. codes:  0 ‘***’ 0.001 ‘**’ 0.01 ‘*’ 0.05 ‘.’ 0.1 ‘ ’ 1\n",
            "\n",
            "Correlation of Fixed Effects:\n",
            "         (Intr) minedn sppPR  sppDM  spEC-A spEC-L sDES-L sppDF \n",
            "minedno  -0.951                                                 \n",
            "sppPR    -0.113  0.000                                          \n",
            "sppDM    -0.188  0.000  0.334                                   \n",
            "sppEC-A  -0.142  0.000  0.251  0.420                            \n",
            "sppEC-L  -0.203  0.000  0.360  0.602  0.454                     \n",
            "sppDES-L -0.205  0.000  0.364  0.608  0.458  0.657              \n",
            "sppDF    -0.182  0.000  0.322  0.538  0.405  0.581  0.587       \n",
            "cover     0.144 -0.247  0.000  0.000  0.000  0.000  0.000  0.000\n",
            "optimizer (Nelder_Mead) convergence code: 0 (OK)\n",
            "unable to evaluate scaled gradient\n",
            "Model failed to converge: degenerate  Hessian with 1 negative eigenvalues\n",
            "\n"
          ]
        }
      ]
    },
    {
      "cell_type": "markdown",
      "source": [
        "#### Nested Random-Effects Model\n",
        "\n",
        "This model includes `spp` nested within `site`."
      ],
      "metadata": {
        "id": "Ea1Efdst13YK"
      }
    },
    {
      "cell_type": "code",
      "source": [
        "%%R\n",
        "model_nested <- glmer(count ~ mined + cover+ spp+ (1 | site / spp),\n",
        "                      data = mf, family = \"poisson\")\n",
        "summary(model_nested)"
      ],
      "metadata": {
        "colab": {
          "base_uri": "https://localhost:8080/"
        },
        "id": "DuagfG_X14Mt",
        "outputId": "bec8995d-eef3-4666-d04f-72ee4137a02e"
      },
      "execution_count": 22,
      "outputs": [
        {
          "output_type": "stream",
          "name": "stdout",
          "text": [
            "Generalized linear mixed model fit by maximum likelihood (Laplace\n",
            "  Approximation) [glmerMod]\n",
            " Family: poisson  ( log )\n",
            "Formula: count ~ mined + cover + spp + (1 | site/spp)\n",
            "   Data: mf\n",
            "\n",
            "     AIC      BIC   logLik deviance df.resid \n",
            "  1771.2   1820.4   -874.6   1749.2      633 \n",
            "\n",
            "Scaled residuals: \n",
            "    Min      1Q  Median      3Q     Max \n",
            "-2.2697 -0.6227 -0.3389  0.0853  5.8701 \n",
            "\n",
            "Random effects:\n",
            " Groups   Name        Variance Std.Dev.\n",
            " spp:site (Intercept) 0.7380   0.8591  \n",
            " site     (Intercept) 0.2582   0.5081  \n",
            "Number of obs: 644, groups:  spp:site, 161; site, 23\n",
            "\n",
            "Fixed effects:\n",
            "            Estimate Std. Error z value Pr(>|z|)    \n",
            "(Intercept) -2.15026    0.36033  -5.967 2.41e-09 ***\n",
            "minedno      2.47549    0.36686   6.748 1.50e-11 ***\n",
            "cover       -0.06995    0.17936  -0.390 0.696525    \n",
            "sppPR       -1.35817    0.39416  -3.446 0.000569 ***\n",
            "sppDM        0.42274    0.33186   1.274 0.202714    \n",
            "sppEC-A     -0.61106    0.35810  -1.706 0.087932 .  \n",
            "sppEC-L      0.54770    0.33040   1.658 0.097385 .  \n",
            "sppDES-L     0.83687    0.32505   2.575 0.010036 *  \n",
            "sppDF        0.34575    0.33353   1.037 0.299904    \n",
            "---\n",
            "Signif. codes:  0 ‘***’ 0.001 ‘**’ 0.01 ‘*’ 0.05 ‘.’ 0.1 ‘ ’ 1\n",
            "\n",
            "Correlation of Fixed Effects:\n",
            "         (Intr) minedn cover  sppPR  sppDM  spEC-A spEC-L sDES-L\n",
            "minedno  -0.647                                                 \n",
            "cover     0.282 -0.552                                          \n",
            "sppPR    -0.383 -0.027  0.018                                   \n",
            "sppDM    -0.527  0.042 -0.005  0.440                            \n",
            "sppEC-A  -0.455  0.000  0.001  0.410  0.491                     \n",
            "sppEC-L  -0.515  0.025  0.017  0.443  0.533  0.491              \n",
            "sppDES-L -0.538  0.040  0.009  0.450  0.545  0.501  0.545       \n",
            "sppDF    -0.532  0.045  0.007  0.439  0.533  0.489  0.533  0.545\n",
            "optimizer (Nelder_Mead) convergence code: 0 (OK)\n",
            "Model failed to converge with max|grad| = 0.0140583 (tol = 0.002, component 1)\n",
            "\n"
          ]
        }
      ]
    },
    {
      "cell_type": "markdown",
      "source": [
        "#### Model Comparison\n",
        "\n",
        "Now we compare the models with AIC to determine the best-fitting model.\n"
      ],
      "metadata": {
        "id": "kVpip4LblDjJ"
      }
    },
    {
      "cell_type": "code",
      "source": [
        "%%R\n",
        "AIC(model_fixed, model_random_intercept, model_random_slope, model_nested)"
      ],
      "metadata": {
        "id": "TQK3Q-3PDjWU",
        "colab": {
          "base_uri": "https://localhost:8080/"
        },
        "outputId": "cb15e894-c45f-4823-9832-2bd7e10bef29"
      },
      "execution_count": null,
      "outputs": [
        {
          "output_type": "stream",
          "name": "stdout",
          "text": [
            "Likelihood ratio tests of cumulative link models:\n",
            " \n",
            "     formula:                                                link:  threshold: \n",
            "m_01 SURENESS ~ (1 | RESP)                                   probit equidistant\n",
            "m_02 SURENESS ~ PROD + GENDER + (1 | RESP)                   probit equidistant\n",
            "m_03 SURENESS ~ PROD + GENDER + (1 | RESP) + (1 | RESP:PROD) probit equidistant\n",
            "\n",
            "     no.par    AIC  logLik LR.stat df Pr(>Chisq)    \n",
            "m_01      3 5726.6 -2860.3                          \n",
            "m_02      5 5554.7 -2772.3 175.976  2  < 2.2e-16 ***\n",
            "m_03      6 5538.6 -2763.3  18.025  1   2.18e-05 ***\n",
            "---\n",
            "Signif. codes:  0 ‘***’ 0.001 ‘**’ 0.01 ‘*’ 0.05 ‘.’ 0.1 ‘ ’ 1\n"
          ]
        }
      ]
    },
    {
      "cell_type": "markdown",
      "source": [
        "We can also use the `anova()` function to compare the models using a likelihood ratio test."
      ],
      "metadata": {
        "id": "mXXEA7Mr2Fxj"
      }
    },
    {
      "cell_type": "code",
      "source": [
        "%%R\n",
        "anova(model_fixed, model_random_intercept, model_random_slope, model_nested)"
      ],
      "metadata": {
        "colab": {
          "base_uri": "https://localhost:8080/"
        },
        "id": "0Lj6uoM92Gcm",
        "outputId": "ba241aa0-85fe-4f61-d9cc-125e76e9eee4"
      },
      "execution_count": 23,
      "outputs": [
        {
          "output_type": "stream",
          "name": "stdout",
          "text": [
            "Analysis of Deviance Table\n",
            "\n",
            "Model: poisson, link: log\n",
            "\n",
            "Response: count\n",
            "\n",
            "Terms added sequentially (first to last)\n",
            "\n",
            "\n",
            "      Df Deviance Resid. Df Resid. Dev  Pr(>Chi)    \n",
            "NULL                    643     2120.7              \n",
            "mined  1   545.44       642     1575.2 < 2.2e-16 ***\n",
            "spp    6   264.89       636     1310.3 < 2.2e-16 ***\n",
            "cover  1    31.47       635     1278.9 2.023e-08 ***\n",
            "---\n",
            "Signif. codes:  0 ‘***’ 0.001 ‘**’ 0.01 ‘*’ 0.05 ‘.’ 0.1 ‘ ’ 1\n"
          ]
        }
      ]
    },
    {
      "cell_type": "markdown",
      "source": [
        "Nexted model is the best fit model based on AIC and likelihood ratio test."
      ],
      "metadata": {
        "id": "aP-ASSfDDzqp"
      }
    },
    {
      "cell_type": "markdown",
      "source": [
        "#### Model Summary\n",
        "\n",
        "`jtolls::summ()` function provides a concise summary of the model results, including the fixed effects, random effects, and model fit statistics."
      ],
      "metadata": {
        "id": "Oi-fLdQk2P0U"
      }
    },
    {
      "cell_type": "code",
      "source": [
        "%%R\n",
        "jtools::summ(model_nested)"
      ],
      "metadata": {
        "id": "8nCTpa_mD3Tr",
        "colab": {
          "base_uri": "https://localhost:8080/"
        },
        "outputId": "75182df9-5107-416b-944a-e5776be2661f"
      },
      "execution_count": 24,
      "outputs": [
        {
          "output_type": "stream",
          "name": "stdout",
          "text": [
            "MODEL INFO:\n",
            "Observations: 644\n",
            "Dependent Variable: count\n",
            "Type: Mixed effects generalized linear regression\n",
            "Error Distribution: poisson\n",
            "Link function: log \n",
            "\n",
            "MODEL FIT:\n",
            "AIC = 1771.21, BIC = 1820.36\n",
            "Pseudo-R² (fixed effects) = 0.46\n",
            "Pseudo-R² (total) = 0.70 \n",
            "\n",
            "FIXED EFFECTS:\n",
            "------------------------------------------------\n",
            "                     Est.   S.E.   z val.      p\n",
            "----------------- ------- ------ -------- ------\n",
            "(Intercept)         -2.15   0.36    -5.97   0.00\n",
            "minedno              2.48   0.37     6.75   0.00\n",
            "cover               -0.07   0.18    -0.39   0.70\n",
            "sppPR               -1.36   0.39    -3.45   0.00\n",
            "sppDM                0.42   0.33     1.27   0.20\n",
            "sppEC-A             -0.61   0.36    -1.71   0.09\n",
            "sppEC-L              0.55   0.33     1.66   0.10\n",
            "sppDES-L             0.84   0.33     2.57   0.01\n",
            "sppDF                0.35   0.33     1.04   0.30\n",
            "------------------------------------------------\n",
            "\n",
            "RANDOM EFFECTS:\n",
            "------------------------------------\n",
            "  Group      Parameter    Std. Dev. \n",
            "---------- ------------- -----------\n",
            " spp:site   (Intercept)     0.86    \n",
            "   site     (Intercept)     0.51    \n",
            "------------------------------------\n",
            "\n",
            "Grouping variables:\n",
            "----------------------------\n",
            "  Group     # groups   ICC  \n",
            "---------- ---------- ------\n",
            " spp:site     161      0.37 \n",
            "   site        23      0.13 \n",
            "----------------------------\n"
          ]
        }
      ]
    },
    {
      "cell_type": "markdown",
      "source": [
        "#### Model Performance\n",
        "\n",
        "`performance::performance()` function provides a summary of the model performance, including the AIC, BIC, and other fit statistics."
      ],
      "metadata": {
        "id": "nJNvDkgJ2V0W"
      }
    },
    {
      "cell_type": "code",
      "source": [
        "%%R\n",
        "performance::performance(model_nested)"
      ],
      "metadata": {
        "colab": {
          "base_uri": "https://localhost:8080/"
        },
        "id": "dXyvhKA32bMt",
        "outputId": "6fdb6e60-8744-4a51-d6e7-abc022c7e0c9"
      },
      "execution_count": 25,
      "outputs": [
        {
          "output_type": "stream",
          "name": "stdout",
          "text": [
            "# Indices of model performance\n",
            "\n",
            "AIC      |     AICc |      BIC | R2 (cond.) | R2 (marg.) |   ICC |  RMSE | Sigma | Score_log | Score_spherical\n",
            "--------------------------------------------------------------------------------------------------------------\n",
            "1771.211 | 1771.629 | 1820.356 |      0.881 |      0.582 | 0.715 | 1.778 | 1.000 |    -1.130 |           0.033\n"
          ]
        }
      ]
    },
    {
      "cell_type": "markdown",
      "source": [
        "The $R^2$ values of the are incorrect (as indicated by the missing conditional $R^2$ value). The more appropriate conditional and marginal coefficient of determination for generalized mixed-effect models can be extracted using the `r.squaredGLMM ()` function from the {MuMIn} package (Barton 2020).\n"
      ],
      "metadata": {
        "id": "dWEcQJymt4e4"
      }
    },
    {
      "cell_type": "code",
      "source": [
        "%%R\n",
        "MuMIn::r.squaredGLMM(model_nested)"
      ],
      "metadata": {
        "colab": {
          "base_uri": "https://localhost:8080/"
        },
        "id": "qn_jUknd2jW0",
        "outputId": "3203d592-6cc9-4f0d-8b0e-25f2218134ab"
      },
      "execution_count": 26,
      "outputs": [
        {
          "output_type": "stream",
          "name": "stdout",
          "text": [
            "                R2m       R2c\n",
            "delta     0.5662048 0.8572292\n",
            "lognormal 0.5816332 0.8805877\n",
            "trigamma  0.5442529 0.8239942\n"
          ]
        }
      ]
    },
    {
      "cell_type": "markdown",
      "source": [
        "#### Marginal Effects and Adjusted Predictions\n",
        "\n",
        "`plot_model()` of {sjPlot} creates plots from regression models, either estimates (as so-called forest or dot whisker plots) or marginal effects."
      ],
      "metadata": {
        "id": "1V01OGbhJ_W-"
      }
    },
    {
      "cell_type": "code",
      "source": [
        "%%R -w 600 -h 450 -u px\n",
        "plot_model(model_nested, type = \"pred\", terms = c(\"spp\", \"mined\"), show.values = TRUE)"
      ],
      "metadata": {
        "id": "YzedGbrtW3Ya",
        "colab": {
          "base_uri": "https://localhost:8080/",
          "height": 467
        },
        "outputId": "194eaf35-e1d9-4836-e1c4-7276ee59241f"
      },
      "execution_count": 27,
      "outputs": [
        {
          "output_type": "display_data",
          "data": {
            "image/png": "[encoded data removed]"
          },
          "metadata": {}
        }
      ]
    },
    {
      "cell_type": "markdown",
      "source": [
        "### Mixed-Effect Models for Overdispersed Count Data\n",
        "\n",
        "When analyzing count data, overdispersion is a common issue where the variance of the outcome variable exceeds the mean. This can lead to biased parameter estimates and incorrect inferences if not properly addressed. In this section, we will demonstrate how to fit mixed-effects regression models for overdispersed count data. First we check for overdispersion in the Poisson model and then adjust for overdispersion using the quasi-Poisson approximation or fit a negative binomial model as an alternative.\n",
        "\n"
      ],
      "metadata": {
        "id": "O2lCgHEnleKi"
      }
    },
    {
      "cell_type": "markdown",
      "source": [
        "#### Check for Overdispersion\n",
        "\n",
        "Check for overdispersion of `model_nested` by calculating the ratio of the residual deviance to the degrees of freedom:"
      ],
      "metadata": {
        "id": "tdJiLyp724TV"
      }
    },
    {
      "cell_type": "code",
      "source": [
        "%%R\n",
        "# Check overdispersion\n",
        "overdispersion_ratio <- sum(residuals(model_nested, type = \"pearson\")^2) / df.residual(model_nested)\n",
        "cat(\"Overdispersion ratio:\", overdispersion_ratio, \"\\n\")"
      ],
      "metadata": {
        "colab": {
          "base_uri": "https://localhost:8080/"
        },
        "id": "pWauvTPJW9i7",
        "outputId": "38e0901e-d369-4601-86ca-74faf63634d6"
      },
      "execution_count": 28,
      "outputs": [
        {
          "output_type": "stream",
          "name": "stdout",
          "text": [
            "Overdispersion ratio: 1.153974 \n"
          ]
        }
      ]
    },
    {
      "cell_type": "markdown",
      "source": [
        "-   If the overdispersion ratio is significantly greater than 1, overdispersion is present."
      ],
      "metadata": {
        "id": "ltCkle_029tN"
      }
    },
    {
      "cell_type": "markdown",
      "source": [
        "Or we can use the `performance::check_overdispersion()` function to check for overdispersion in the `model_nested`."
      ],
      "metadata": {
        "id": "3_cmAY9M2_44"
      }
    },
    {
      "cell_type": "code",
      "source": [
        "%%R\n",
        "performance::check_overdispersion(model_nested)"
      ],
      "metadata": {
        "colab": {
          "base_uri": "https://localhost:8080/"
        },
        "id": "EPSKocgs3AvC",
        "outputId": "23884149-53fb-40f0-dd18-464c14fc883e"
      },
      "execution_count": 29,
      "outputs": [
        {
          "output_type": "stream",
          "name": "stdout",
          "text": [
            "# Overdispersion test\n",
            "\n",
            "       dispersion ratio =   1.154\n",
            "  Pearson's Chi-Squared = 730.465\n",
            "                p-value =   0.004\n",
            "\n"
          ]
        },
        {
          "output_type": "stream",
          "name": "stderr",
          "text": [
            "WARNING:rpy2.rinterface_lib.callbacks:R[write to console]: Overdispersion detected.\n",
            "\n"
          ]
        }
      ]
    },
    {
      "cell_type": "markdown",
      "source": [
        "#### Adjust for Overdispersion in the Poisson Model (Quasi-Poisson Approximation)\n",
        "\n",
        "The **quasi-Poisson** approach is used to handle overdispersion (variance greater than the mean) in count data. However, the `{lme4}` package does not directly support quasi-Poisson models because it is based on maximum likelihood estimation (which does not accommodate quasi-likelihood models). To address overdispersion in a Poisson model, we can adjust the standard errors post hoc using the overdispersion ratio.\n"
      ],
      "metadata": {
        "id": "QdlrLoEn3KeH"
      }
    },
    {
      "cell_type": "code",
      "source": [
        "%%R\n",
        "# Adjust standard errors for overdispersion\n",
        "se_adjusted <- sqrt(overdispersion_ratio) * sqrt(diag(vcov(model_nested)))\n",
        "coef_table <- summary(model_nested)$coefficients\n",
        "coef_table[, 2] <- se_adjusted  # Replace standard errors\n",
        "coef_table[, 3] <- coef_table[, 1] / coef_table[, 2]  # Recompute z-values\n",
        "coef_table[, 4] <- 2 * (1 - pnorm(abs(coef_table[, 3])))  # Recompute p-values\n",
        "\n",
        "cat(\"Adjusted Coefficients Table:\\n\")\n",
        "print(coef_table)"
      ],
      "metadata": {
        "colab": {
          "base_uri": "https://localhost:8080/"
        },
        "id": "iOUrBc_Z3NMJ",
        "outputId": "4dbb0ecd-12d1-4bf6-8e3b-4bda2f72437c"
      },
      "execution_count": 30,
      "outputs": [
        {
          "output_type": "stream",
          "name": "stdout",
          "text": [
            "Adjusted Coefficients Table:\n",
            "               Estimate Std. Error    z value     Pr(>|z|)\n",
            "(Intercept) -2.15025576  0.3870788 -5.5550860 2.774751e-08\n",
            "minedno      2.47548850  0.3940971  6.2814174 3.355001e-10\n",
            "cover       -0.06995383  0.1926759 -0.3630648 7.165565e-01\n",
            "sppPR       -1.35817326  0.4234143 -3.2076696 1.338151e-03\n",
            "sppDM        0.42274244  0.3564945  1.1858315 2.356889e-01\n",
            "sppEC-A     -0.61106262  0.3846805 -1.5884939 1.121747e-01\n",
            "sppEC-L      0.54769788  0.3549292  1.5431188 1.228020e-01\n",
            "sppDES-L     0.83686853  0.3491799  2.3966689 1.654487e-02\n",
            "sppDF        0.34574647  0.3582845  0.9650054 3.345421e-01\n"
          ]
        }
      ]
    },
    {
      "cell_type": "markdown",
      "source": [
        "#### Fit Quasi-Poisson Model\n",
        "\n",
        "To account for overdispersion, fit a quasi-Poisson model using the `glmmPQL()` function of {MASS} package. The quasi-Poisson model is a generalized linear mixed model that relaxes the assumption of equal mean and variance in Poisson regression, making it suitable for overdispersed count data."
      ],
      "metadata": {
        "id": "UCtOQfvi3RhT"
      }
    },
    {
      "cell_type": "code",
      "source": [
        "%%R\n",
        "# Quasi-Poisson mixed-effects model\n",
        "model_quasi_poisson <- MASS::glmmPQL(count ~ mined + spp + cover,  random = ~1 | site,\n",
        "                             data = mf, family = quasipoisson(link='log'))\n",
        "summary(model_quasi_poisson)"
      ],
      "metadata": {
        "colab": {
          "base_uri": "https://localhost:8080/"
        },
        "id": "Bys2Ty5O3SeO",
        "outputId": "99448fb3-9eee-4bbb-f148-e6be973a3f9a"
      },
      "execution_count": 31,
      "outputs": [
        {
          "output_type": "stream",
          "name": "stderr",
          "text": [
            "WARNING:rpy2.rinterface_lib.callbacks:R[write to console]: iteration 1\n",
            "\n",
            "WARNING:rpy2.rinterface_lib.callbacks:R[write to console]: iteration 2\n",
            "\n",
            "WARNING:rpy2.rinterface_lib.callbacks:R[write to console]: iteration 3\n",
            "\n",
            "WARNING:rpy2.rinterface_lib.callbacks:R[write to console]: iteration 4\n",
            "\n",
            "WARNING:rpy2.rinterface_lib.callbacks:R[write to console]: iteration 5\n",
            "\n"
          ]
        },
        {
          "output_type": "stream",
          "name": "stdout",
          "text": [
            "Linear mixed-effects model fit by maximum likelihood\n",
            "  Data: mf \n",
            "  AIC BIC logLik\n",
            "   NA  NA     NA\n",
            "\n",
            "Random effects:\n",
            " Formula: ~1 | site\n",
            "        (Intercept) Residual\n",
            "StdDev:   0.2888095   1.5873\n",
            "\n",
            "Variance function:\n",
            " Structure: fixed weights\n",
            " Formula: ~invwt \n",
            "Fixed effects:  count ~ mined + spp + cover \n",
            "                 Value Std.Error  DF   t-value p-value\n",
            "(Intercept) -1.4630935 0.2478870 615 -5.902259  0.0000\n",
            "minedno      2.2211941 0.2489954  20  8.920625  0.0000\n",
            "sppPR       -1.3862944 0.3439443 615 -4.030578  0.0001\n",
            "sppDM        0.2305237 0.2060291 615  1.118889  0.2636\n",
            "sppEC-A     -0.7701082 0.2734303 615 -2.816470  0.0050\n",
            "sppEC-L      0.6211737 0.1907148 615  3.257082  0.0012\n",
            "sppDES-L     0.6791609 0.1888278 615  3.596722  0.0003\n",
            "sppDF        0.0800427 0.2133052 615  0.375250  0.7076\n",
            "cover       -0.1686904 0.1105425  20 -1.526023  0.1427\n",
            " Correlation: \n",
            "         (Intr) minedn sppPR  sppDM  spEC-A spEC-L sDES-L sppDF \n",
            "minedno  -0.722                                                 \n",
            "sppPR    -0.278  0.000                                          \n",
            "sppDM    -0.463  0.000  0.334                                   \n",
            "sppEC-A  -0.349  0.000  0.252  0.420                            \n",
            "sppEC-L  -0.500  0.000  0.361  0.602  0.454                     \n",
            "sppDES-L -0.505  0.000  0.364  0.608  0.458  0.657              \n",
            "sppDF    -0.447  0.000  0.322  0.538  0.406  0.582  0.587       \n",
            "cover     0.278 -0.498  0.000  0.000  0.000  0.000  0.000  0.000\n",
            "\n",
            "Standardized Within-Group Residuals:\n",
            "        Min          Q1         Med          Q3         Max \n",
            "-1.59244712 -0.45929426 -0.32368772  0.09159159  7.69097201 \n",
            "\n",
            "Number of Observations: 644\n",
            "Number of Groups: 23 \n"
          ]
        }
      ]
    },
    {
      "cell_type": "markdown",
      "source": [
        "#### Fit a Negative Binomial Model (Alternative for Overdispersion)\n",
        "\n",
        "Negative binomial regression models extend the framework of Poisson regression by addressing a critical limitation inherent in the Poisson approach: the assumption that the variance of the outcome variable is equal to its mean. This assumption can often lead to poor model fit, especially when the data exhibit **overdispersion** — where the observed variance significantly exceeds the mean. By allowing for greater flexibility in modeling the relationship between the dependent and independent variables, negative binomial regression provides a robust alternative when dealing with count data that do not conform to the strict requirements of the Poisson distribution, making it particularly useful in real-world scenarios where data often show considerable variability.\n",
        "\n",
        "A **negative binomial model** can handle overdispersion more directly. First we  use `{glmmTMB}` to fit a negative binomial models. Two parameterisations are often used to fit negative binomial regression models (see Hilbe (2011Hilbe, Joseph M. 2011. *Negative Binomial Regression*. Cambridge University Press. <https://doi.org/10.1017/CBO9780511973420>.)):\n",
        "\n",
        "(a) *NB1* (variance = $μ$ + $αμ$); and,\n",
        "\n",
        "(b) *NB2* (variance = $μ+αμ^2$); where $μ$ is the mean, and αα is the overdispersion parameter"
      ],
      "metadata": {
        "id": "mvbp0bdg3ZZc"
      }
    },
    {
      "cell_type": "markdown",
      "source": [
        "\n",
        "##### NB1 Parameterization\n"
      ],
      "metadata": {
        "id": "2XiCoKzk3b8v"
      }
    },
    {
      "cell_type": "code",
      "source": [
        "%%R\n",
        "# Negative binomial mixed-effects model\n",
        "model_negbinom_01 <- glmmTMB(count ~ mined + spp + cover+(1 | site / spp),\n",
        "                          data = mf,\n",
        "                          family = nbinom1)\n",
        "# model summary\n",
        "summary(model_negbinom_01)"
      ],
      "metadata": {
        "colab": {
          "base_uri": "https://localhost:8080/"
        },
        "id": "J-mjMnDo3eea",
        "outputId": "9bc2e2a0-8f27-4d5f-e4be-f3ab0b2c7708"
      },
      "execution_count": 33,
      "outputs": [
        {
          "output_type": "stream",
          "name": "stdout",
          "text": [
            " Family: nbinom1  ( log )\n",
            "Formula:          count ~ mined + spp + cover + (1 | site/spp)\n",
            "Data: mf\n",
            "\n",
            "     AIC      BIC   logLik deviance df.resid \n",
            "  1629.9   1683.5   -802.9   1605.9      632 \n",
            "\n",
            "Random effects:\n",
            "\n",
            "Conditional model:\n",
            " Groups   Name        Variance Std.Dev.\n",
            " spp:site (Intercept) 0.3073   0.5544  \n",
            " site     (Intercept) 0.1647   0.4059  \n",
            "Number of obs: 644, groups:  spp:site, 161; site, 23\n",
            "\n",
            "Dispersion parameter for nbinom1 family (): 1.49 \n",
            "\n",
            "Conditional model:\n",
            "            Estimate Std. Error z value Pr(>|z|)    \n",
            "(Intercept)  -1.6532     0.3070  -5.386 7.22e-08 ***\n",
            "minedno       2.2005     0.3058   7.197 6.16e-13 ***\n",
            "sppPR        -1.3761     0.3633  -3.788 0.000152 ***\n",
            "sppDM         0.3283     0.2734   1.201 0.229783    \n",
            "sppEC-A      -0.7819     0.3222  -2.427 0.015221 *  \n",
            "sppEC-L       0.4735     0.2687   1.762 0.078099 .  \n",
            "sppDES-L      0.7033     0.2649   2.655 0.007923 ** \n",
            "sppDF         0.2610     0.2770   0.942 0.346101    \n",
            "cover        -0.1140     0.1475  -0.773 0.439301    \n",
            "---\n",
            "Signif. codes:  0 ‘***’ 0.001 ‘**’ 0.01 ‘*’ 0.05 ‘.’ 0.1 ‘ ’ 1\n"
          ]
        }
      ]
    },
    {
      "cell_type": "markdown",
      "source": [
        "##### NB2 Parameterization"
      ],
      "metadata": {
        "id": "h62JPA5r3kg4"
      }
    },
    {
      "cell_type": "code",
      "source": [
        "%%R\n",
        "#| message: false\n",
        "#| error: false\n",
        "# Negative binomial mixed-effects model\n",
        "model_negbinom_02 <- glmmTMB(count ~ mined + spp + cover+(1 | site / spp),\n",
        "                          data = mf,\n",
        "                          family = nbinom2)\n",
        "\n",
        "\n",
        "# model summary\n",
        "summary(model_negbinom_02)"
      ],
      "metadata": {
        "colab": {
          "base_uri": "https://localhost:8080/"
        },
        "id": "rzfkdAK73lJ3",
        "outputId": "9e84fe29-4981-4020-a55e-1f87293b3752"
      },
      "execution_count": 34,
      "outputs": [
        {
          "output_type": "stream",
          "name": "stdout",
          "text": [
            " Family: nbinom2  ( log )\n",
            "Formula:          count ~ mined + spp + cover + (1 | site/spp)\n",
            "Data: mf\n",
            "\n",
            "     AIC      BIC   logLik deviance df.resid \n",
            "  1650.0   1703.6   -813.0   1626.0      632 \n",
            "\n",
            "Random effects:\n",
            "\n",
            "Conditional model:\n",
            " Groups   Name        Variance Std.Dev.\n",
            " spp:site (Intercept) 0.5600   0.7483  \n",
            " site     (Intercept) 0.2683   0.5180  \n",
            "Number of obs: 644, groups:  spp:site, 161; site, 23\n",
            "\n",
            "Dispersion parameter for nbinom2 family (): 1.67 \n",
            "\n",
            "Conditional model:\n",
            "            Estimate Std. Error z value Pr(>|z|)    \n",
            "(Intercept) -2.06868    0.35949  -5.754 8.69e-09 ***\n",
            "minedno      2.46956    0.36903   6.692 2.20e-11 ***\n",
            "sppPR       -1.35107    0.38895  -3.474 0.000513 ***\n",
            "sppDM        0.42454    0.32716   1.298 0.194398    \n",
            "sppEC-A     -0.61800    0.35345  -1.748 0.080382 .  \n",
            "sppEC-L      0.55120    0.32545   1.694 0.090326 .  \n",
            "sppDES-L     0.83912    0.32031   2.620 0.008801 ** \n",
            "sppDF        0.35093    0.32904   1.067 0.286191    \n",
            "cover       -0.07243    0.18063  -0.401 0.688424    \n",
            "---\n",
            "Signif. codes:  0 ‘***’ 0.001 ‘**’ 0.01 ‘*’ 0.05 ‘.’ 0.1 ‘ ’ 1\n"
          ]
        }
      ]
    },
    {
      "cell_type": "code",
      "source": [
        "%%R\n",
        "anova(model_negbinom_01, model_negbinom_02)"
      ],
      "metadata": {
        "colab": {
          "base_uri": "https://localhost:8080/"
        },
        "id": "oPcizBwW3sjQ",
        "outputId": "ad07e4be-7d3b-4df6-ec62-c9a4bcdb6b64"
      },
      "execution_count": 35,
      "outputs": [
        {
          "output_type": "stream",
          "name": "stdout",
          "text": [
            "Data: mf\n",
            "Models:\n",
            "model_negbinom_01: count ~ mined + spp + cover + (1 | site/spp), zi=~0, disp=~1\n",
            "model_negbinom_02: count ~ mined + spp + cover + (1 | site/spp), zi=~0, disp=~1\n",
            "                  Df    AIC    BIC  logLik deviance Chisq Chi Df Pr(>Chisq)\n",
            "model_negbinom_01 12 1629.9 1683.5 -802.93   1605.9                        \n",
            "model_negbinom_02 12 1650.0 1703.6 -812.99   1626.0     0      0          1\n"
          ]
        }
      ]
    },
    {
      "cell_type": "code",
      "source": [
        "%%R\n",
        "MuMIn::r.squaredGLMM(model_negbinom_02)"
      ],
      "metadata": {
        "colab": {
          "base_uri": "https://localhost:8080/"
        },
        "id": "G66QVJCj35Jd",
        "outputId": "2247bcf0-2a3f-47ea-8e02-6192c506af49"
      },
      "execution_count": 36,
      "outputs": [
        {
          "output_type": "stream",
          "name": "stdout",
          "text": [
            "                R2m       R2c\n",
            "delta     0.5021432 0.7178595\n",
            "lognormal 0.5524042 0.7897121\n",
            "trigamma  0.4184650 0.5982339\n"
          ]
        }
      ]
    },
    {
      "cell_type": "markdown",
      "source": [
        "##### Using `lme4` Package\n",
        "\n",
        "We also fit a negative binomial mode using `glmer.nb()` of {lme4}  package but it may be slower and unstable compared to {glmmTMB} package."
      ],
      "metadata": {
        "id": "D-v5utJr33Yg"
      }
    },
    {
      "cell_type": "code",
      "source": [
        "%%R\n",
        "# Negative binomial mixed-effects model\n",
        "model_negbinom_03 <- glmer.nb(count ~ mined + spp + cover+(1 | site / spp),\n",
        "                          data = mf)\n",
        "jtools::summ(model_negbinom_03)"
      ],
      "metadata": {
        "colab": {
          "base_uri": "https://localhost:8080/"
        },
        "id": "Hhdqs7mp3_zc",
        "outputId": "dd850234-c651-4f55-ace0-9bb3171d7a78"
      },
      "execution_count": 37,
      "outputs": [
        {
          "output_type": "stream",
          "name": "stdout",
          "text": [
            "MODEL INFO:\n",
            "Observations: 644\n",
            "Dependent Variable: count\n",
            "Type: Mixed effects generalized linear regression\n",
            "Error Distribution: Negative Binomial(1.666)\n",
            "Link function: log \n",
            "\n",
            "MODEL FIT:\n",
            "AIC = 1648.59, BIC = 1702.20\n",
            "Pseudo-R² (fixed effects) = 0.48\n",
            "Pseudo-R² (total) = 0.69 \n",
            "\n",
            "FIXED EFFECTS:\n",
            "------------------------------------------------\n",
            "                     Est.   S.E.   z val.      p\n",
            "----------------- ------- ------ -------- ------\n",
            "(Intercept)         -2.10   0.36    -5.87   0.00\n",
            "minedno              2.44   0.36     6.72   0.00\n",
            "sppPR               -1.34   0.39    -3.44   0.00\n",
            "sppDM                0.42   0.33     1.29   0.20\n",
            "sppEC-A             -0.61   0.35    -1.73   0.08\n",
            "sppEC-L              0.55   0.33     1.68   0.09\n",
            "sppDES-L             0.83   0.32     2.60   0.01\n",
            "sppDF                0.35   0.33     1.06   0.29\n",
            "cover               -0.07   0.18    -0.40   0.69\n",
            "------------------------------------------------\n",
            "\n",
            "RANDOM EFFECTS:\n",
            "------------------------------------\n",
            "  Group      Parameter    Std. Dev. \n",
            "---------- ------------- -----------\n",
            " spp:site   (Intercept)     0.75    \n",
            "   site     (Intercept)     0.51    \n",
            "------------------------------------\n",
            "\n",
            "Grouping variables:\n",
            "----------------------------\n",
            "  Group     # groups   ICC  \n",
            "---------- ---------- ------\n",
            " spp:site     161      0.10 \n",
            "   site        23      0.04 \n",
            "----------------------------\n"
          ]
        }
      ]
    },
    {
      "cell_type": "markdown",
      "source": [
        "### Zero-inflated Mixed Effect Models\n",
        "\n",
        "Zero-inflated models are used to account for excess zeros in count data, which can arise due to a separate process that generates zeros (e.g., structural zeros) in addition to the count process. In zero-inflated models, the data are assumed to come from two different processes: one that generates zeros and one that generates counts. The zero-inflated Poisson model is a mixture model that combines a Poisson distribution for the count data with a point mass at zero for the excess zeros.\n",
        "\n"
      ],
      "metadata": {
        "id": "HzGWk3kJ4bar"
      }
    },
    {
      "cell_type": "markdown",
      "source": [
        "#### Check for `zero-inflation` and `overdispersion` in the model\n",
        "\n",
        "We can use the `performance::check_zeroinflation()` function to check for zero-inflation in the nested model (`model_nested`)."
      ],
      "metadata": {
        "id": "JqRd-DWq4inq"
      }
    },
    {
      "cell_type": "code",
      "source": [
        "%%R\n",
        "performance::check_zeroinflation(model_nested)"
      ],
      "metadata": {
        "colab": {
          "base_uri": "https://localhost:8080/"
        },
        "id": "5L3Y5x9R4pJV",
        "outputId": "e9e99f57-9a7d-4b36-ab4c-9cc2d85a88ce"
      },
      "execution_count": 38,
      "outputs": [
        {
          "output_type": "stream",
          "name": "stdout",
          "text": [
            "# Check for zero-inflation\n",
            "\n",
            "   Observed zeros: 387\n",
            "  Predicted zeros: 341\n",
            "            Ratio: 0.88\n",
            "\n"
          ]
        },
        {
          "output_type": "stream",
          "name": "stderr",
          "text": [
            "WARNING:rpy2.rinterface_lib.callbacks:R[write to console]: Model is underfitting zeros (probable zero-inflation).\n",
            "\n"
          ]
        }
      ]
    },
    {
      "cell_type": "markdown",
      "source": [
        "#### Fit Zero-Inflated Negative Binomial Model\n",
        "\n",
        "we can also use the `glmmTMB::glmmTMB()` function to fit a zero-inflated negative binomila  mixed-effects model to the Salamanders dataset."
      ],
      "metadata": {
        "id": "RiVHI3dE4wBe"
      }
    },
    {
      "cell_type": "code",
      "source": [
        "%%R\n",
        "# Zero-inflated negative binomial mixed-effects model\n",
        "model_zinb <- glmmTMB(count ~ mined + spp + cover + (1 | site / spp),\n",
        "                      data = mf,\n",
        "                      family = nbinom2,\n",
        "                      ziformula = ~1)\n",
        "# Summary of the model\n",
        "summary(model_zinb)"
      ],
      "metadata": {
        "colab": {
          "base_uri": "https://localhost:8080/"
        },
        "id": "rSdRVc-a4zr9",
        "outputId": "1eb41d5c-7c82-448c-f95b-ea889d00c9f5"
      },
      "execution_count": 39,
      "outputs": [
        {
          "output_type": "stream",
          "name": "stdout",
          "text": [
            " Family: nbinom2  ( log )\n",
            "Formula:          count ~ mined + spp + cover + (1 | site/spp)\n",
            "Zero inflation:         ~1\n",
            "Data: mf\n",
            "\n",
            "     AIC      BIC   logLik deviance df.resid \n",
            "  1652.0   1710.1   -813.0   1626.0      631 \n",
            "\n",
            "Random effects:\n",
            "\n",
            "Conditional model:\n",
            " Groups   Name        Variance Std.Dev.\n",
            " spp:site (Intercept) 0.5600   0.7483  \n",
            " site     (Intercept) 0.2683   0.5180  \n",
            "Number of obs: 644, groups:  spp:site, 161; site, 23\n",
            "\n",
            "Dispersion parameter for nbinom2 family (): 1.67 \n",
            "\n",
            "Conditional model:\n",
            "            Estimate Std. Error z value Pr(>|z|)    \n",
            "(Intercept) -2.06871    0.35950  -5.754 8.69e-09 ***\n",
            "minedno      2.46955    0.36903   6.692 2.20e-11 ***\n",
            "sppPR       -1.35104    0.38895  -3.474 0.000514 ***\n",
            "sppDM        0.42456    0.32716   1.298 0.194376    \n",
            "sppEC-A     -0.61797    0.35345  -1.748 0.080398 .  \n",
            "sppEC-L      0.55124    0.32545   1.694 0.090307 .  \n",
            "sppDES-L     0.83915    0.32031   2.620 0.008799 ** \n",
            "sppDF        0.35096    0.32904   1.067 0.286152    \n",
            "cover       -0.07243    0.18063  -0.401 0.688421    \n",
            "---\n",
            "Signif. codes:  0 ‘***’ 0.001 ‘**’ 0.01 ‘*’ 0.05 ‘.’ 0.1 ‘ ’ 1\n",
            "\n",
            "Zero-inflation model:\n",
            "            Estimate Std. Error z value Pr(>|z|)\n",
            "(Intercept)   -18.81    3766.16  -0.005    0.996\n"
          ]
        }
      ]
    },
    {
      "cell_type": "code",
      "source": [
        "%%R\n",
        "MuMIn::r.squaredGLMM(model_zinb)"
      ],
      "metadata": {
        "colab": {
          "base_uri": "https://localhost:8080/"
        },
        "id": "oZBN_rfz46Rw",
        "outputId": "e357b6db-b6d1-4c5e-8b2c-21cdc34c6117"
      },
      "execution_count": 40,
      "outputs": [
        {
          "output_type": "stream",
          "name": "stdout",
          "text": [
            "                R2m       R2c\n",
            "delta     0.5021432 0.7178590\n",
            "lognormal 0.5524043 0.7897118\n",
            "trigamma  0.4184648 0.5982332\n"
          ]
        }
      ]
    },
    {
      "cell_type": "markdown",
      "source": [
        "## Summary and Conclusion\n",
        "\n",
        "This tutorial has thoroughly introduced mixed-effects Poisson models, emphasizing their application in analyzing count data while accounting for both fixed and random effects. We begin by constructing a Mixed-Effects Poisson Model from scratch without relying on external libraries. Next, we fit various types of Poisson models using the {lme4}, {glmmTMB}, and {MASS} packages. The {lme4} package is utilized to fit random-effects Poisson models of varying complexity, including random intercept models, random intercept and slope models, and nested random-effects models. The {glmmTMB} package provides enhanced capabilities by fitting negative binomial models to address overdispersion, a common issue with Poisson data. Finally, the {MASS} package demonstrates how to fit quasi-Poisson and negative binomial models as alternatives for handling overdispersion, offering more flexible modeling approaches.\n",
        "\n",
        "This tutorial explored mixed-effect Poisson modeling, from manual implementation to leveraging powerful R packages. For most practical applications, begin with {lme4} for basic mixed-effects Poisson models. For datasets with overdispersion or more complex structures, consider {glmmTMB} or {MASS} for extended modeling capabilities. By mastering these techniques, you can effectively analyze count data with hierarchical structures, making informed inferences and predictions in various fields such as biostatistics, epidemiology, and ecology.\n"
      ],
      "metadata": {
        "id": "WRcixyIzpt2A"
      }
    },
    {
      "cell_type": "markdown",
      "source": [
        "## References\n",
        "\n",
        "1.  [Mixed-Effects (Quasi-)Poisson and Negative-Binomial Regression](https://ladal.edu.au/regression.html#Poisson_Regression)\n",
        "\n",
        "2.  [Modeling Count Outcome using the Generalized Multilevel Model](https://quantdev.ssri.psu.edu/tutorials/apa-ati-intensive-longitudinal-data-session-j-generalized-multilevel-model-poisson)\n",
        "\n",
        "3.  [Modelling Count Data in R: A Multilevel Framework](https://fcorowe.github.io/countdata_modelling/)\n",
        "\n",
        "4.  [Multilevel Poisson Regression](https://stats.idre.ucla.edu/r/dae/multilevel-poisson-regression/)\n",
        "\n",
        "\n",
        "\n"
      ],
      "metadata": {
        "id": "bLeAMiRQG59v"
      }
    }
  ]
}