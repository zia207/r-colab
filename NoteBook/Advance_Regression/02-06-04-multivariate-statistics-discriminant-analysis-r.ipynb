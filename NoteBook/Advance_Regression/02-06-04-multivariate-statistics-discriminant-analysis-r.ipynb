{
  "cells": [
    {
      "cell_type": "markdown",
      "metadata": {
        "id": "view-in-github",
        "colab_type": "text"
      },
      "source": [
        "<a href=\"https://colab.research.google.com/github/zia207/r-colab/blob/main/NoteBook/Advance_Regression/02-06-04-multivariate-statistics-discriminant-analysis-r.ipynb\" target=\"_parent\"><img src=\"https://colab.research.google.com/assets/colab-badge.svg\" alt=\"Open In Colab\"/></a>"
      ]
    },
    {
      "cell_type": "markdown",
      "metadata": {
        "id": "KsBkpmP_qjLM"
      },
      "source": [
        "![alt text](http://drive.google.com/uc?export=view&id=1bLQ3nhDbZrCCqy_WCxxckOne2lgVvn3l)"
      ]
    },
    {
      "cell_type": "markdown",
      "metadata": {
        "id": "Dzp9ZseROTcY"
      },
      "source": [
        "# 4. Discriminant Analysis\n",
        "\n",
        "This tutorial covers **Discriminant Analysis**, a statistical technique used for classification and pattern recognition. We will discuss the mathematical foundation of  Discriminant Analysis, its assumptions, and the types of Discriminant Analysis methods. We will also provide an example of binary\n"
      ]
    },
    {
      "cell_type": "markdown",
      "source": [
        "## Overview\n",
        "\n",
        "**Discriminant Analysis** is a statistical technique used to classify observations into predefined groups based on predictor variables. It assumes that different groups generate data based on different Gaussian distributions. It is commonly used in classification tasks and pattern recognition. Discriminant Analysis is particularly useful when the number of predictors is manageable relative to the number of observations. The primary goal of Discriminant Analysis is how effectively we can differentiate observations belonging to distinct groups based on their measured characteristics finding a linear combination of the predictor variables that maximizes the separation between groups."
      ],
      "metadata": {
        "id": "IGBHj-NmZwoB"
      }
    },
    {
      "cell_type": "markdown",
      "source": [
        "### 1. Linear Discriminant Analysis (LDA)\n",
        "\n",
        "**Linear Discriminant Analysis (LDA):** Assumes that the predictor variables follow a multivariate normal distribution and that each group shares the same covariance matrix. It finds the linear combination of the predictor variables that maximizes the separation between groups. LDA is based on the assumption of multivariate normality within groups and equal covariance matrices across groups. It is a simple and interpretable method that provides linear decision boundaries.\n",
        "\n",
        "**Key Characteristics:**\n",
        "\n",
        "-   Assumes **multivariate normality** of predictors within each group.\n",
        "-   Assumes **equal covariance matrices** across groups.\n",
        "-   Classification is based on **linear decision boundaries**.\n",
        "\n",
        "**Mathematical Model:**\n",
        "\n",
        "The discriminant function for a class $k$ is given by:\n",
        "\n",
        "$$ \\delta_k(x) = x^T \\Sigma^{-1} \\mu_k - \\frac{1}{2} \\mu_k^T \\Sigma^{-1} \\mu_k + \\log(\\pi_k) $$\n",
        "\n",
        "where:\n",
        "\n",
        "-   $\\Sigma$: Pooled covariance matrix (shared by all groups).\n",
        "-   $\\mu_k$: Mean vector for group $k$.\n",
        "-   \\$\\pi\\_k#: Prior probability of group $k$.\n",
        "\n",
        "**Use Cases:**\n",
        "\n",
        "-   Works well when the assumption of equal covariance holds.\n",
        "-   Effective for data with **linear separability**.\n",
        "\n",
        "**Decision Boundaries:**\n",
        "\n",
        "-   Linear (straight lines in 2D, hyperplanes in higher dimensions)."
      ],
      "metadata": {
        "id": "M5R6GzLeZ2Ju"
      }
    },
    {
      "cell_type": "markdown",
      "source": [
        "### 2. Quadratic Discriminant Analysis (QDA)\n",
        "\n",
        "**Quadratic Discriminant Analysis (QDA):** Assumes that the predictor variables follow a multivariate normal distribution but allows each group to have a distinct covariance matrix. In QDA, the assumption of equal covariance matrices across groups is relaxed.\n",
        "\n",
        "**Key Characteristics:** - Assumes **multivariate normality** of predictors within each group. - Does **not assume equal covariance matrices**; each group has its own covariance matrix. - Classification is based on **quadratic decision boundaries**.\n",
        "\n",
        "**Mathematical Model:** The discriminant function for a class ( k ):\n",
        "\n",
        "$$ \\delta_k(x) = -\\frac{1}{2} \\log|\\Sigma_k| - \\frac{1}{2}(x - \\mu_k)^T \\Sigma_k^{-1} (x - \\mu_k) + \\log(\\pi_k) $$\n",
        "\n",
        "where:\n",
        "\n",
        "-   $\\Sigma_k$: Covariance matrix for group $k$.\n",
        "\n",
        "**Use Cases:**\n",
        "\n",
        "-   Suitable when groups have different covariance structures.\n",
        "-   Effective for data with **non-linear separability**.\n",
        "\n",
        "**Decision Boundaries:**\n",
        "\n",
        "-   Quadratic (curved in 2D, hypersurfaces in higher dimensions)."
      ],
      "metadata": {
        "id": "5ZlI-CBtZ87H"
      }
    },
    {
      "cell_type": "markdown",
      "source": [
        "### 3. Regularized Discriminant Analysis (RDA)\n",
        "\n",
        "Regularized Discriminant Analysis (RDA) is a generalization of both Linear Discriminant Analysis (LDA) and Quadratic Discriminant Analysis (QDA). It combines the assumptions of these methods by introducing a regularization parameter that balances between the pooled covariance matrix (as in LDA) and group-specific covariance matrices (as in QDA).\n",
        "\n",
        "**Key Characteristics:** - A hybrid of LDA and QDA. - Introduces a **regularization parameter** to balance between shared (LDA-like) and group-specific (QDA-like) covariance matrices. - Helps in cases where the covariance matrices differ slightly or when the dataset is small, reducing overfitting.\n",
        "\n",
        "**Mathematical Model:** The covariance matrix is a weighted average of pooled and group-specific covariance matrices:\n",
        "\n",
        "$$ \\Sigma_\\text{regularized} = (1 - \\lambda) \\Sigma + \\lambda \\Sigma_k $$\n",
        "\n",
        "where $\\lambda \\in [0, 1]$ is the regularization parameter:\n",
        "\n",
        "-   $\\lambda = 0$: LDA (shared covariance).\n",
        "-   $\\lambda = 1$: QDA (group-specific covariance).\n",
        "\n",
        "**Use Cases:**\n",
        "\n",
        "-   Useful when the dataset is small, or there’s a need to balance between LDA and QDA assumptions.\n",
        "-   Helps to mitigate overfitting when group covariance matrices are highly variable.\n",
        "\n",
        "**Decision Boundaries:**\n",
        "\n",
        "-   Linear (LDA-like) to quadratic (QDA-like) depending on $\\lambda$."
      ],
      "metadata": {
        "id": "vGwFEN-IaA5_"
      }
    },
    {
      "cell_type": "markdown",
      "source": [
        "### 4. Distance-Based Discriminant Analysis (DBDA)\n",
        "\n",
        "**Distance-based Discriminant Analysis:** Assigns an observation to the group with the closest mean based on a distance metric (e.g., Euclidean distance). Unlike traditional discriminant analysis methods like Linear Discriminant Analysis (LDA), DBDA does not assume any specific distribution for the predictor variables (e.g., multivariate normality).. The classification rule is based on the distance between the observation and the group means. The observation is assigned to the group with the smallest distance.\n",
        "\n",
        "**Distance-Based Discriminant Analysis (DBDA)** is a method used for classification, where the assignment of observations to groups is determined based on their distances from predefined group centers or prototypes. Unlike traditional discriminant analysis methods like Linear Discriminant Analysis (LDA), DBDA does not assume any specific distribution for the predictor variables (e.g., multivariate normality).\n",
        "\n",
        "**Key Characteristics:** - Assigns observations to groups based on their **distance** to group centers (prototypes). - Does not assume any distribution for the predictors. - Flexible and can use various distance metrics: - **Euclidean Distance:** Treats all features equally. - **Mahalanobis Distance:** Accounts for feature correlations and scales.\n",
        "\n",
        "**Mathematical Model:** Classifies an observation ( x ) to the group ( k ) with the smallest distance: \\[ k = \\arg\\min\\_k d(x, \\mu\\_k) \\] where: - ( \\mu\\_k ): Group center (e.g., mean vector). - ( d ): Chosen distance metric (Euclidean or Mahalanobis).\n",
        "\n",
        "**Use Cases:** - Suitable for datasets where distributional assumptions of LDA/QDA fail. - Effective for non-parametric problems or when group distributions are non-Gaussian.\n",
        "\n",
        "**Decision Boundaries:** - Linear (Euclidean) or non-linear (Mahalanobis), depending on the distance metric used."
      ],
      "metadata": {
        "id": "bziEYOW2aFXI"
      }
    },
    {
      "cell_type": "markdown",
      "source": [
        "### Comparison Table\n",
        "\n",
        "| **Aspect** | **LDA** | **QDA** | **RDA** | **DBDA** |\n",
        "|---------------|---------------|---------------|---------------|---------------|\n",
        "| **Assumptions** | Normality, equal covariances | Normality, unequal covariances | Partial normality assumptions | No distributional assumptions |\n",
        "| **Covariance Matrix** | Shared ($\\Sigma$)) | Group-specific ($\\Sigma_k$) | Weighted ($1-\\lambda)\\Sigma + \\lambda\\Sigma_k$) | Not used directly (depends on distance metric) |\n",
        "| **Distance Metric** | Implicit | Implicit | Implicit | Explicit (e.g., Euclidean, Mahalanobis) |\n",
        "| **Decision Boundaries** | Linear | Quadratic | Linear to quadratic (flexible) | Linear (Euclidean) or non-linear (Mahalanobis) |\n",
        "| **Flexibility** | Low | Medium | High | Very High |\n",
        "| **Best For** | Linear separability, equal covariances | Non-linear separability, unequal covariances | Situations between LDA and QDA | Non-parametric classification problems |"
      ],
      "metadata": {
        "id": "deQnSQ3Vayia"
      }
    },
    {
      "cell_type": "markdown",
      "source": [
        "## Install rpy2"
      ],
      "metadata": {
        "id": "G6Qp0TKw_6Xd"
      }
    },
    {
      "cell_type": "code",
      "source": [
        "!pip uninstall rpy2 -y\n",
        "!pip install rpy2==3.5.1\n",
        "%load_ext rpy2.ipython"
      ],
      "metadata": {
        "colab": {
          "base_uri": "https://localhost:8080/"
        },
        "id": "Ns6FKhEeq4_-",
        "outputId": "9ee62e9b-1a72-4326-a42d-e637a44cad7f"
      },
      "execution_count": null,
      "outputs": [
        {
          "output_type": "stream",
          "name": "stdout",
          "text": [
            "Found existing installation: rpy2 3.4.2\n",
            "Uninstalling rpy2-3.4.2:\n",
            "  Successfully uninstalled rpy2-3.4.2\n",
            "Collecting rpy2==3.5.1\n",
            "  Downloading rpy2-3.5.1.tar.gz (201 kB)\n",
            "\u001b[2K     \u001b[90m━━━━━━━━━━━━━━━━━━━━━━━━━━━━━━━━━━━━━━━━\u001b[0m \u001b[32m201.7/201.7 kB\u001b[0m \u001b[31m4.0 MB/s\u001b[0m eta \u001b[36m0:00:00\u001b[0m\n",
            "\u001b[?25h  Preparing metadata (setup.py) ... \u001b[?25l\u001b[?25hdone\n",
            "Requirement already satisfied: cffi>=1.10.0 in /usr/local/lib/python3.11/dist-packages (from rpy2==3.5.1) (1.17.1)\n",
            "Requirement already satisfied: jinja2 in /usr/local/lib/python3.11/dist-packages (from rpy2==3.5.1) (3.1.5)\n",
            "Requirement already satisfied: pytz in /usr/local/lib/python3.11/dist-packages (from rpy2==3.5.1) (2024.2)\n",
            "Requirement already satisfied: tzlocal in /usr/local/lib/python3.11/dist-packages (from rpy2==3.5.1) (5.2)\n",
            "Requirement already satisfied: pycparser in /usr/local/lib/python3.11/dist-packages (from cffi>=1.10.0->rpy2==3.5.1) (2.22)\n",
            "Requirement already satisfied: MarkupSafe>=2.0 in /usr/local/lib/python3.11/dist-packages (from jinja2->rpy2==3.5.1) (3.0.2)\n",
            "Building wheels for collected packages: rpy2\n",
            "  Building wheel for rpy2 (setup.py) ... \u001b[?25l\u001b[?25hdone\n",
            "  Created wheel for rpy2: filename=rpy2-3.5.1-cp311-cp311-linux_x86_64.whl size=314973 sha256=5e2711b2db508089c1437eed7f0f6855f383d5c9cc9b680b6c97e0727ea3fa98\n",
            "  Stored in directory: /root/.cache/pip/wheels/e9/55/d1/47be85a5f3f1e1f4d1e91cb5e3a4dcb40dd72147f184c5a5ef\n",
            "Successfully built rpy2\n",
            "Installing collected packages: rpy2\n",
            "Successfully installed rpy2-3.5.1\n"
          ]
        }
      ]
    },
    {
      "cell_type": "markdown",
      "metadata": {
        "id": "O1zeuaCowiBt"
      },
      "source": [
        "## Mount Google Drive"
      ]
    },
    {
      "cell_type": "code",
      "source": [
        "from google.colab import drive\n",
        "drive.mount('/content/drive')"
      ],
      "metadata": {
        "colab": {
          "base_uri": "https://localhost:8080/"
        },
        "id": "evOsmYcnrDgD",
        "outputId": "062fa6cc-dace-4156-f67f-321b8d52b68f"
      },
      "execution_count": null,
      "outputs": [
        {
          "output_type": "stream",
          "name": "stdout",
          "text": [
            "Mounted at /content/drive\n"
          ]
        }
      ]
    },
    {
      "cell_type": "markdown",
      "source": [
        "## Discriminant Analysis from Scratch\n",
        "\n",
        "Performing **LDA**, **QDA**, **RDA**, and **DBDA** in R without using any packages involves implementing the respective algorithms from scratch. Below is a detailed guide that includes implementing each method, summarizing results, and visualizing the outcomes.\n"
      ],
      "metadata": {
        "id": "zGiyGm2fa_Y5"
      }
    },
    {
      "cell_type": "markdown",
      "source": [
        "### 1. Data Preparation\n",
        "\n",
        "We will use the **Iris dataset** for simplicity.s:"
      ],
      "metadata": {
        "id": "JfhRRlw-bH1E"
      }
    },
    {
      "cell_type": "code",
      "source": [
        "%%R\n",
        "# Load the Iris dataset\n",
        "data(iris)\n",
        "\n",
        "# Split data into predictors (X) and response (y)\n",
        "X <- iris[, 1:4]  # Predictor variables\n",
        "y <- iris$Species  # Response variable\n",
        "\n",
        "# Split into training and test sets\n",
        "set.seed(123)\n",
        "train_indices <- sample(1:nrow(iris), 0.7 * nrow(iris))\n",
        "train_X <- X[train_indices, ]\n",
        "train_y <- y[train_indices]\n",
        "test_X <- X[-train_indices, ]\n",
        "test_y <- y[-train_indices]"
      ],
      "metadata": {
        "id": "CrkNaiLJbKTU"
      },
      "execution_count": null,
      "outputs": []
    },
    {
      "cell_type": "markdown",
      "source": [
        "### 2. Implement LDA"
      ],
      "metadata": {
        "id": "-ZOmMPlHxJQb"
      }
    },
    {
      "cell_type": "code",
      "source": [
        "%%R\n",
        " # Compute the group means and pooled covariance matrix\n",
        "group_means <- aggregate(train_X, by = list(train_y), mean)[, -1]\n",
        "pooled_cov <- cov(train_X)\n",
        "\n",
        "# LDA prediction function\n",
        "lda_predict <- function(x, group_means, pooled_cov, priors) {\n",
        "  discriminants <- sapply(1:nrow(group_means), function(k) {\n",
        "    mu_k <- as.numeric(group_means[k, ])\n",
        "    log(priors[k]) - 0.5 * t(mu_k) %*% solve(pooled_cov) %*% mu_k +\n",
        "      t(x) %*% solve(pooled_cov) %*% mu_k\n",
        "  })\n",
        "  return(which.max(discriminants))\n",
        "}\n",
        "\n",
        "# Compute priors\n",
        "priors <- table(train_y) / length(train_y)\n",
        "\n",
        "# Predict for test data\n",
        "lda_predictions <- apply(test_X, 1, function(x) {\n",
        "  lda_predict(x, group_means, pooled_cov, priors)\n",
        "})\n",
        "\n",
        "# Convert indices to class labels\n",
        "lda_predictions <- levels(train_y)[lda_predictions]\n",
        "lda_confusion <- table(Predicted = lda_predictions, Actual = test_y)\n",
        "lda_accuracy <- sum(diag(lda_confusion)) / sum(lda_confusion)\n",
        "lda_accuracy"
      ],
      "metadata": {
        "id": "2oI1eT7DbQCG",
        "colab": {
          "base_uri": "https://localhost:8080/"
        },
        "outputId": "f51529dc-2c6d-4f17-a5ff-341011358381"
      },
      "execution_count": null,
      "outputs": [
        {
          "output_type": "stream",
          "name": "stdout",
          "text": [
            "[1] 0.8666667\n"
          ]
        }
      ]
    },
    {
      "cell_type": "markdown",
      "source": [
        "### 3. Implement QDA"
      ],
      "metadata": {
        "id": "WT4tbQiKbbF_"
      }
    },
    {
      "cell_type": "code",
      "source": [
        "%%R\n",
        "# Compute group-specific covariance matrices\n",
        "group_covs <- lapply(split(as.data.frame(train_X), train_y), cov)\n",
        "\n",
        "# QDA prediction function\n",
        "qda_predict <- function(x, group_means, group_covs, priors) {\n",
        "  discriminants <- sapply(1:nrow(group_means), function(k) {\n",
        "    mu_k <- as.numeric(group_means[k, ])\n",
        "    cov_k <- group_covs[[k]]\n",
        "    log(priors[k]) - 0.5 * log(det(cov_k)) - 0.5 * t(x - mu_k) %*% solve(cov_k) %*% (x - mu_k)\n",
        "  })\n",
        "  return(which.max(discriminants))\n",
        "}\n",
        "\n",
        "# Predict for test data\n",
        "qda_predictions <- apply(test_X, 1, function(x) {\n",
        "  qda_predict(x, group_means, group_covs, priors)\n",
        "})\n",
        "\n",
        "# Convert indices to class labels\n",
        "qda_predictions <- levels(train_y)[qda_predictions]\n",
        "qda_confusion <- table(Predicted = qda_predictions, Actual = test_y)\n",
        "qda_accuracy <- sum(diag(qda_confusion)) / sum(qda_confusion)\n",
        "qda_accuracy"
      ],
      "metadata": {
        "colab": {
          "base_uri": "https://localhost:8080/"
        },
        "id": "fNnUFuBaxboi",
        "outputId": "8f331f90-dc8a-4f77-9a82-c3ed1050d817"
      },
      "execution_count": null,
      "outputs": [
        {
          "output_type": "stream",
          "name": "stdout",
          "text": [
            "[1] 0.9777778\n"
          ]
        }
      ]
    },
    {
      "cell_type": "markdown",
      "source": [
        "### 4. Implement RDA"
      ],
      "metadata": {
        "id": "1WjBtoSQxg5T"
      }
    },
    {
      "cell_type": "code",
      "source": [
        "%%R\n",
        "# RDA prediction function\n",
        "rda_predict <- function(x, group_means, group_covs, pooled_cov, priors, lambda) {\n",
        "  discriminants <- sapply(1:nrow(group_means), function(k) {\n",
        "    mu_k <- as.numeric(group_means[k, ])\n",
        "    cov_k <- (1 - lambda) * pooled_cov + lambda * group_covs[[k]]\n",
        "    log(priors[k]) - 0.5 * log(det(cov_k)) - 0.5 * t(x - mu_k) %*% solve(cov_k) %*% (x - mu_k)\n",
        "  })\n",
        "  return(which.max(discriminants))\n",
        "}\n",
        "\n",
        "# Predict for test data\n",
        "lambda <- 0.5  # Regularization parameter\n",
        "rda_predictions <- apply(test_X, 1, function(x) {\n",
        "  rda_predict(x, group_means, group_covs, pooled_cov, priors, lambda)\n",
        "})\n",
        "\n",
        "# Convert indices to class labels\n",
        "rda_predictions <- levels(train_y)[rda_predictions]\n",
        "rda_confusion <- table(Predicted = rda_predictions, Actual = test_y)\n",
        "rda_accuracy <- sum(diag(rda_confusion)) / sum(rda_confusion)\n",
        "rda_accuracy"
      ],
      "metadata": {
        "colab": {
          "base_uri": "https://localhost:8080/"
        },
        "id": "cJ3HO6Wxxi05",
        "outputId": "f7fdd7e3-54d6-4ff4-92cc-71036e20c4c7"
      },
      "execution_count": null,
      "outputs": [
        {
          "output_type": "stream",
          "name": "stdout",
          "text": [
            "[1] 0.9555556\n"
          ]
        }
      ]
    },
    {
      "cell_type": "markdown",
      "source": [
        "### 5. Implement DBDA"
      ],
      "metadata": {
        "id": "hX8f3yYTxpUC"
      }
    },
    {
      "cell_type": "code",
      "source": [
        "%%R\n",
        "# Compute Euclidean distance\n",
        "euclidean_distance <- function(x, center) {\n",
        "  sqrt(sum((x - center)^2))\n",
        "}\n",
        "\n",
        "# DBDA prediction function\n",
        "dbda_predict <- function(x, group_means) {\n",
        "  distances <- apply(group_means, 1, function(center) {\n",
        "    euclidean_distance(x, as.numeric(center))\n",
        "  })\n",
        "  return(which.min(distances))\n",
        "}\n",
        "\n",
        "# Predict for test data\n",
        "dbda_predictions <- apply(test_X, 1, function(x) {\n",
        "  dbda_predict(x, group_means)\n",
        "})\n",
        "\n",
        "# Convert indices to class labels\n",
        "dbda_predictions <- levels(train_y)[dbda_predictions]\n",
        "dbda_confusion <- table(Predicted = dbda_predictions, Actual = test_y)\n",
        "dbda_accuracy <- sum(diag(dbda_confusion)) / sum(dbda_confusion)\n",
        "dbda_accuracy"
      ],
      "metadata": {
        "colab": {
          "base_uri": "https://localhost:8080/"
        },
        "id": "BOlq9VszxqVP",
        "outputId": "84455151-969b-4e69-de6e-df00dbdaf30c"
      },
      "execution_count": null,
      "outputs": [
        {
          "output_type": "stream",
          "name": "stdout",
          "text": [
            "[1] 1\n"
          ]
        }
      ]
    },
    {
      "cell_type": "markdown",
      "source": [
        "### 6. Visualize Results"
      ],
      "metadata": {
        "id": "z8Bf_qavxxGP"
      }
    },
    {
      "cell_type": "markdown",
      "source": [
        "#### Accuracy Comparison"
      ],
      "metadata": {
        "id": "SlKEv24Sx0oi"
      }
    },
    {
      "cell_type": "code",
      "source": [
        "%%R -w 500 -h 450 -u px\n",
        "# Combine results into a data frame\n",
        "results <- data.frame(\n",
        "  Method = c(\"LDA\", \"QDA\", \"RDA\", \"DBDA\"),\n",
        "  Accuracy = c(lda_accuracy, qda_accuracy, rda_accuracy, dbda_accuracy)\n",
        ")\n",
        "\n",
        "# Plot accuracies\n",
        "barplot(\n",
        "  results$Accuracy,\n",
        "  names.arg = results$Method,\n",
        "  col = c(\"blue\", \"green\", \"red\", \"purple\"),\n",
        "  ylim = c(0, 1),\n",
        "  main = \"Accuracy of LDA, QDA, RDA, and DBDA\",\n",
        "  ylab = \"Accuracy\"\n",
        ")"
      ],
      "metadata": {
        "colab": {
          "base_uri": "https://localhost:8080/",
          "height": 467
        },
        "id": "4hooK6LyxxxU",
        "outputId": "dd5714a1-7f98-44da-f9e7-3aec17108871"
      },
      "execution_count": null,
      "outputs": [
        {
          "output_type": "display_data",
          "data": {
            "image/png": "[encoded data removed]"
          },
          "metadata": {}
        }
      ]
    },
    {
      "cell_type": "markdown",
      "source": [
        "#### Decision Boundaries Visualization"
      ],
      "metadata": {
        "id": "gvBCX0xTyC2Y"
      }
    },
    {
      "cell_type": "code",
      "source": [
        "%%R -w 600 -h 500 -u px\n",
        " # Visualize decision boundaries (for 2D)\n",
        "plot_decision_boundaries <- function(predict_func, data, labels, title) {\n",
        "  grid_x <- seq(min(data[, 1]), max(data[, 1]), length = 100)\n",
        "  grid_y <- seq(min(data[, 2]), max(data[, 2]), length = 100)\n",
        "  grid <- expand.grid(grid_x, grid_y)\n",
        "\n",
        "  predictions <- apply(as.matrix(grid), 1, predict_func)\n",
        "\n",
        "  plot(data[, 1:2], col = as.numeric(labels), pch = 19,\n",
        "       main = title, xlab = \"Feature 1\", ylab = \"Feature 2\")\n",
        "  contour(grid_x, grid_y, matrix(predictions, nrow = 100), add = TRUE)\n",
        "}\n",
        "\n",
        "# Example for LDA decision boundary\n",
        "lda_predict_2d <- function(x) lda_predict(x, group_means[, 1:2], pooled_cov[1:2, 1:2], priors)\n",
        "plot_decision_boundaries(lda_predict_2d, as.matrix(train_X[, 1:2]), train_y, \"LDA Decision Boundaries\")"
      ],
      "metadata": {
        "colab": {
          "base_uri": "https://localhost:8080/",
          "height": 517
        },
        "id": "nMv93RbLyDkG",
        "outputId": "527dd96f-e9e6-40d1-a03a-01486c6d79d7"
      },
      "execution_count": null,
      "outputs": [
        {
          "output_type": "display_data",
          "data": {
            "image/png": "[encoded data removed]"
          },
          "metadata": {}
        }
      ]
    },
    {
      "cell_type": "markdown",
      "source": [
        "### 7. Summary of Results\n",
        "\n",
        "| **Method** | **Accuracy**    | **Comments**                        |\n",
        "|------------|-----------------|-------------------------------------|\n",
        "| **LDA**    | `lda_accuracy`  | Works well for linear separability. |\n",
        "| **QDA**    | `qda_accuracy`  | Handles non-linear boundaries.      |\n",
        "| **RDA**    | `rda_accuracy`  | Balances between LDA and QDA.       |\n",
        "| **DBDA**   | `dbda_accuracy` | Non-parametric approach.            |\n",
        "\n",
        "This approach ensures reproducibility and flexibility in evaluating the performance of all four discriminant analysis methods."
      ],
      "metadata": {
        "id": "ynF14yVtyQWi"
      }
    },
    {
      "cell_type": "markdown",
      "source": [
        "## Discriminant Analysis in R\n",
        "\n",
        "In practice, we often use R packages to perform Discriminant Analysis due to their efficiency and ease of use. The following code demonstrates how to perform Linear Discriminant Analysis (LDA), Quadratic Discriminant Analysis (QDA), and Regularized Discriminant Analysis (RDA) using the {MASS} and {klaR} packages in R."
      ],
      "metadata": {
        "id": "MRHgZdurbr9V"
      }
    },
    {
      "cell_type": "markdown",
      "source": [
        "### Install Required R Packages\n",
        "\n",
        "Following R packages are required to run this notebook. If any of these packages are not installed, you can install them using the code below:"
      ],
      "metadata": {
        "id": "cEAqInLvrLjF"
      }
    },
    {
      "cell_type": "code",
      "source": [
        "%%R\n",
        "packages <- c('tidyverse',\n",
        "              'plyr',\n",
        "              'corrr',\n",
        "              'ggcorrplot',\n",
        "              'factoextra',\n",
        "              'ade4',\n",
        "              'MASS',\n",
        "              'klaR'\n",
        "\t\t )"
      ],
      "metadata": {
        "id": "bR9fG6KDvJ6q"
      },
      "execution_count": null,
      "outputs": []
    },
    {
      "cell_type": "code",
      "source": [
        "%%R\n",
        "# Install missing packages\n",
        "new.packages <- packages[!(packages %in% installed.packages(lib='drive/My Drive/R/')[,\"Package\"])]\n",
        "if(length(new.packages)) install.packages(new.packages, lib='drive/My Drive/R/')"
      ],
      "metadata": {
        "id": "qf2DsQo-SMbF"
      },
      "execution_count": null,
      "outputs": []
    },
    {
      "cell_type": "code",
      "source": [
        "%%R\n",
        "devtools::install_github(\"ItziarI/WeDiBaDis\", lib='drive/My Drive/R/' )"
      ],
      "metadata": {
        "colab": {
          "base_uri": "https://localhost:8080/"
        },
        "id": "Hj2XnZPXyt9E",
        "outputId": "352498d7-d04f-42bb-fdcd-21692dc889b4"
      },
      "execution_count": null,
      "outputs": [
        {
          "output_type": "stream",
          "name": "stderr",
          "text": [
            "WARNING:rpy2.rinterface_lib.callbacks:R[write to console]: Downloading GitHub repo ItziarI/WeDiBaDis@HEAD\n",
            "\n"
          ]
        },
        {
          "output_type": "stream",
          "name": "stdout",
          "text": [
            "── R CMD build ─────────────────────────────────────────────────────────────────\n",
            "* checking for file ‘/tmp/RtmpOnGRcC/remotes10e570c5080/ItziarI-WeDiBaDis-cc8e902/DESCRIPTION’ ... OK\n",
            "* preparing ‘WeDiBaDis’:\n",
            "* checking DESCRIPTION meta-information ... OK\n",
            "* checking for LF line-endings in source and make files and shell scripts\n",
            "* checking for empty or unneeded directories\n",
            "* building ‘WeDiBaDis_1.0.1.tar.gz’\n",
            "\n"
          ]
        }
      ]
    },
    {
      "cell_type": "code",
      "source": [
        "%%R\n",
        "# set library path\n",
        ".libPaths('drive/My Drive/R')\n",
        "# Verify installation\n",
        "cat(\"Installed packages:\\n\")\n",
        "print(sapply(packages, requireNamespace, quietly = TRUE))"
      ],
      "metadata": {
        "colab": {
          "base_uri": "https://localhost:8080/"
        },
        "id": "qxtwW-WYSP-G",
        "outputId": "5856ce4c-7932-42e2-bf38-4f3de7c15bf2"
      },
      "execution_count": null,
      "outputs": [
        {
          "output_type": "stream",
          "name": "stdout",
          "text": [
            "Installed packages:\n",
            " tidyverse       plyr      corrr ggcorrplot factoextra       ade4       MASS \n",
            "      TRUE       TRUE       TRUE       TRUE       TRUE       TRUE       TRUE \n",
            "      klaR \n",
            "      TRUE \n"
          ]
        }
      ]
    },
    {
      "cell_type": "markdown",
      "source": [
        "### Load R Packages"
      ],
      "metadata": {
        "id": "N04_Dho0q2sb"
      }
    },
    {
      "cell_type": "code",
      "source": [
        "%%R\n",
        "# set library path\n",
        ".libPaths('drive/My Drive/R')\n",
        "# Load packages with suppressed messages\n",
        "invisible(lapply(packages, function(pkg) {\n",
        "  suppressPackageStartupMessages(library(pkg, character.only = TRUE))\n",
        "}))\n",
        "library(WeDiBaDis)\n",
        "# Check loaded packages\n",
        "cat(\"Successfully loaded packages:\\n\")\n",
        "print(search()[grepl(\"package:\", search())])# Check loaded packages"
      ],
      "metadata": {
        "colab": {
          "base_uri": "https://localhost:8080/"
        },
        "id": "qhXETP4VSHxc",
        "outputId": "0624efeb-2106-4082-d294-e2c745586693"
      },
      "execution_count": null,
      "outputs": [
        {
          "output_type": "stream",
          "name": "stdout",
          "text": [
            "Successfully loaded packages:\n",
            " [1] \"package:WeDiBaDis\"  \"package:klaR\"       \"package:MASS\"      \n",
            " [4] \"package:ade4\"       \"package:factoextra\" \"package:ggcorrplot\"\n",
            " [7] \"package:corrr\"      \"package:plyr\"       \"package:lubridate\" \n",
            "[10] \"package:forcats\"    \"package:stringr\"    \"package:dplyr\"     \n",
            "[13] \"package:purrr\"      \"package:readr\"      \"package:tidyr\"     \n",
            "[16] \"package:tibble\"     \"package:ggplot2\"    \"package:tidyverse\" \n",
            "[19] \"package:tools\"      \"package:stats\"      \"package:graphics\"  \n",
            "[22] \"package:grDevices\"  \"package:utils\"      \"package:datasets\"  \n",
            "[25] \"package:methods\"    \"package:base\"      \n"
          ]
        }
      ]
    },
    {
      "cell_type": "markdown",
      "source": [
        "### Linear Discriminant Analysis (LDA)\n",
        "\n"
      ],
      "metadata": {
        "id": "dybCKdsEtHKr"
      }
    },
    {
      "cell_type": "markdown",
      "source": [
        "#### Data\n",
        "\n",
        "This dataset (`Darlingtonia_GE_Table12.1`) use this section is from `Table 12.1` from [A Primer of Ecological Statistics, 2nd Edition](https://www.scribd.com/document/396795717/A-Primer-of-Ecological-Statistics-2nd-Edition). The dataset is available from [GitHub repository](https://github.com/jon-bakker/appliedmultivariatestatistics) associated with book [Applied Multivariate Statistics in R](https://uw.pressbooks.pub/appliedmultivariatestatistics/).\n",
        "\n",
        "The data set contains morphological and biomass measurements of Darlingtonia californica, a carnivorous pitcher plant, in relation to soil type and elevation Measurements were made on 87 plants from four sites in southern Oregon.\n",
        "\n",
        "We will use `read_csv()` function of {readr} package to import data as a **tidy** data from my github repository. The `glimpse()` function from {dplyr} package can be used to get a quick overview of the data"
      ],
      "metadata": {
        "id": "Z9JnVwdetQJU"
      }
    },
    {
      "cell_type": "code",
      "source": [
        "%%R\n",
        "mf<-readr::read_csv(\"https://github.com/zia207/r-colab/raw/main/Data/Regression_analysis/Darlingtonia_GE_Table12.1.csv\")\n",
        "glimpse(mf)"
      ],
      "metadata": {
        "colab": {
          "base_uri": "https://localhost:8080/"
        },
        "id": "hWqv4NFdtZ4j",
        "outputId": "3e698313-0cfe-42e6-de57-2e3c553de0b1"
      },
      "execution_count": null,
      "outputs": [
        {
          "output_type": "stream",
          "name": "stdout",
          "text": [
            "Rows: 87 Columns: 12\n",
            "── Column specification ────────────────────────────────────────────────────────\n",
            "Delimiter: \",\"\n",
            "chr  (1): site\n",
            "dbl (11): plant, height, mouth.diam, tube.diam, keel.diam, wing1.length, win...\n",
            "\n",
            "ℹ Use `spec()` to retrieve the full column specification for this data.\n",
            "ℹ Specify the column types or set `show_col_types = FALSE` to quiet this message.\n",
            "Rows: 87\n",
            "Columns: 12\n",
            "$ site         <chr> \"TJH\", \"TJH\", \"TJH\", \"TJH\", \"TJH\", \"TJH\", \"TJH\", \"TJH\", \"…\n",
            "$ plant        <dbl> 1, 2, 3, 4, 5, 6, 7, 8, 9, 10, 11, 12, 13, 14, 15, 16, 17…\n",
            "$ height       <dbl> 654, 413, 610, 546, 665, 665, 638, 629, 508, 709, 468, 62…\n",
            "$ mouth.diam   <dbl> 38.4, 22.2, 31.2, 34.4, 30.5, 33.6, 37.4, 29.6, 22.9, 39.…\n",
            "$ tube.diam    <dbl> 16.6, 17.2, 19.9, 20.8, 20.4, 19.5, 23.0, 19.9, 20.4, 19.…\n",
            "$ keel.diam    <dbl> 6.4, 5.9, 6.7, 6.3, 6.6, 6.6, 7.4, 5.9, 8.2, 5.9, 7.7, 5.…\n",
            "$ wing1.length <dbl> 85, 55, 62, 84, 60, 84, 63, 75, 52, 55, 56, 93, 90, 67, 4…\n",
            "$ wing2.length <dbl> 76, 26, 60, 79, 51, 66, 70, 73, 53, 53, 16, 104, 96, 63, …\n",
            "$ wingsprea    <dbl> 55, 60, 78, 95, 30, 82, 86, 130, 75, 65, 60, 120, 145, 62…\n",
            "$ hoodmass.g   <dbl> 1.38, 0.49, 0.60, 1.12, 0.67, 1.27, 1.55, 0.83, 0.57, 1.3…\n",
            "$ tubemass.g   <dbl> 3.54, 1.48, 2.20, 2.95, 3.36, 4.05, 4.27, 3.48, 2.20, 4.4…\n",
            "$ wingmass.g   <dbl> 0.29, 0.06, 0.16, 0.24, 0.08, 0.21, 0.21, 0.19, 0.08, 0.1…\n"
          ]
        }
      ]
    },
    {
      "cell_type": "code",
      "source": [
        "%%R\n",
        "# Split data into predictors (X) and response (y)\n",
        "X <- mf[, 3:12]  # Predictor variables\n",
        "y <- mf$site  # Response variable\n",
        "\n",
        "# Split into training and test sets\n",
        "set.seed(123)\n",
        "train_indices <- sample(1:nrow(mf), 0.7 * nrow(mf))\n",
        "train_X <- X[train_indices, ]\n",
        "train_y <- y[train_indices]\n",
        "test_X <- X[-train_indices, ]\n",
        "test_y <- y[-train_indices]"
      ],
      "metadata": {
        "id": "ctkwYhYw4uBH"
      },
      "execution_count": null,
      "outputs": []
    },
    {
      "cell_type": "markdown",
      "source": [
        "#### Perform LDA\n",
        "\n",
        "We will use the `lda()` function from the {MASS} package to perform Linear Discriminant Analysis (LDA) on the training data. The `predict()` function is used to make predictions on the test data, and the results are evaluated using a confusion matrix.\n",
        "\n",
        "The `lda()` function returns an object of class `lda` containing the following components:\n",
        "\n",
        "-   `prior`: Prior probabilities of groups.\n",
        "-   `means`: Group means for each predictor.\n",
        "-   `scaling`: Coefficients of linear discriminants.\n",
        "-   `svd`: Singular values of the linear discriminants.\n",
        "-   `N`: Number of observations.\n",
        "-   `call`: The matched call."
      ],
      "metadata": {
        "id": "DHcCnxk5tfj8"
      }
    },
    {
      "cell_type": "code",
      "source": [
        "%%R\n",
        "# Perform LDA using MASS package\n",
        "lda_model <- lda(train_y ~ ., data = train_X)"
      ],
      "metadata": {
        "id": "DIb_LWW7tkWC"
      },
      "execution_count": null,
      "outputs": []
    },
    {
      "cell_type": "markdown",
      "source": [
        "To view the complete output of the LDA model, simply type the model name"
      ],
      "metadata": {
        "id": "t15kBS7Ltrb-"
      }
    },
    {
      "cell_type": "code",
      "source": [
        "%%R\n",
        "lda_model"
      ],
      "metadata": {
        "colab": {
          "base_uri": "https://localhost:8080/"
        },
        "id": "MKSnGQxCttrp",
        "outputId": "8068378b-ed64-4b19-b326-2a40dbab9ec3"
      },
      "execution_count": null,
      "outputs": [
        {
          "output_type": "stream",
          "name": "stdout",
          "text": [
            "Call:\n",
            "lda(train_y ~ ., data = train_X)\n",
            "\n",
            "Prior probabilities of groups:\n",
            "       DG        HD       LEH       TJH \n",
            "0.2833333 0.1333333 0.3000000 0.2833333 \n",
            "\n",
            "Group means:\n",
            "      height mouth.diam tube.diam keel.diam wing1.length wing2.length wingsprea\n",
            "DG  623.1765   33.78824  18.45294  6.117647     86.35294     84.05882  89.58824\n",
            "HD  564.2500   21.82500  22.77500  9.175000     60.50000     65.87500  85.00000\n",
            "LEH 662.0000   33.29444  20.91667  5.105556     89.77778     86.61111 123.05556\n",
            "TJH 636.5882   32.50588  20.35882  6.629412     60.94118     61.35294  79.82353\n",
            "    hoodmass.g tubemass.g wingmass.g\n",
            "DG   0.9682353   3.188824  0.2270588\n",
            "HD   0.4175000   1.756250  0.0637500\n",
            "LEH  0.8394444   3.217222  0.4277778\n",
            "TJH  0.9705882   3.283529  0.1311765\n",
            "\n",
            "Coefficients of linear discriminants:\n",
            "                     LD1           LD2          LD3\n",
            "height        0.01696586  0.0005071068  0.006314865\n",
            "mouth.diam   -0.17089238  0.1494971440 -0.017111829\n",
            "tube.diam     0.25236573 -0.0216785827  0.147238158\n",
            "keel.diam    -0.23941126 -0.2873675228 -0.307328418\n",
            "wing1.length  0.05592095  0.0386712428 -0.026859542\n",
            "wing2.length -0.02655513 -0.0154935310 -0.049740091\n",
            "wingsprea     0.01433128  0.0034600457  0.024427368\n",
            "hoodmass.g   -0.32740559 -2.4499857596  2.219077568\n",
            "tubemass.g   -1.68787395  0.1444508807 -0.546592265\n",
            "wingmass.g   -0.07268627  0.1196289509  0.472927396\n",
            "\n",
            "Proportion of trace:\n",
            "   LD1    LD2    LD3 \n",
            "0.5221 0.3295 0.1484 \n"
          ]
        }
      ]
    },
    {
      "cell_type": "markdown",
      "source": [
        "We should be able to connect specific elements of this output to the essential components generated by the `lda()` function, as outlined above. Additionally, each component can be indexed or calculated individually, allowing for greater flexibility in analysis.\n",
        "\n",
        "The `prior probabilities` reflect the proportion of samples originating from a particular site about the total number of samples collected. The total of these prior probabilities must equal 1, ensuring that they provide a complete overview of the sample distribution.\n",
        "\n",
        "Furthermore, the coefficients of linear discriminants, referred to as `eigenvectors`, play a crucial role in the analysis. These eigenvectors are used with the corresponding variables to calculate a score for each observation based on its position along a specific linear discriminant (LD). This scoring process helps in understanding how well the observations can be classified into different categories based on the underlying patterns in the data. o view just the matrix of coefficients for each LD function:"
      ],
      "metadata": {
        "id": "MRoQr0SbtzGe"
      }
    },
    {
      "cell_type": "code",
      "source": [
        "%%R\n",
        "lda_model$scaling  |>  round(3)"
      ],
      "metadata": {
        "colab": {
          "base_uri": "https://localhost:8080/"
        },
        "id": "RtkEuN2-t1YH",
        "outputId": "c1541d45-5fde-427c-f58e-c0e14aab77d3"
      },
      "execution_count": null,
      "outputs": [
        {
          "output_type": "stream",
          "name": "stdout",
          "text": [
            "                LD1    LD2    LD3\n",
            "height        0.017  0.001  0.006\n",
            "mouth.diam   -0.171  0.149 -0.017\n",
            "tube.diam     0.252 -0.022  0.147\n",
            "keel.diam    -0.239 -0.287 -0.307\n",
            "wing1.length  0.056  0.039 -0.027\n",
            "wing2.length -0.027 -0.015 -0.050\n",
            "wingsprea     0.014  0.003  0.024\n",
            "hoodmass.g   -0.327 -2.450  2.219\n",
            "tubemass.g   -1.688  0.144 -0.547\n",
            "wingmass.g   -0.073  0.120  0.473\n"
          ]
        }
      ]
    },
    {
      "cell_type": "markdown",
      "source": [
        "\n",
        "The greater the absolute values, the more critical that variable becomes in determining a plant's position along that LD. For instance, plant height is significantly more relevant for LD1 than for LD2 or LD3."
      ],
      "metadata": {
        "id": "j7QGomr05GL6"
      }
    },
    {
      "cell_type": "code",
      "source": [
        "%%R\n",
        "(lda_model$svd^2/sum(lda_model$svd^2)) |>  round(3)"
      ],
      "metadata": {
        "colab": {
          "base_uri": "https://localhost:8080/"
        },
        "id": "SUKUrFBMt52j",
        "outputId": "baeaa8d8-590e-4e83-8b9a-79dfa5e2ad7b"
      },
      "execution_count": null,
      "outputs": [
        {
          "output_type": "stream",
          "name": "stdout",
          "text": [
            "[1] 0.522 0.329 0.148\n"
          ]
        }
      ]
    },
    {
      "cell_type": "markdown",
      "source": [
        "The eigenvalues represent proportions associated with the linear discriminants (LDs), and they are always arranged in descending order ($LD_1 > > LD_2 > LD_3 > \\dots$). The sum of these eigenvalues equals 1. The first linear discriminant (LD1) is the most important for distinguishing between the groups, while the third linear discriminant (LD3) is the least significant among the three."
      ],
      "metadata": {
        "id": "f2bPdR8et9FE"
      }
    },
    {
      "cell_type": "markdown",
      "source": [
        "#### Plot LDA Model"
      ],
      "metadata": {
        "id": "1o1YAA7L5sz9"
      }
    },
    {
      "cell_type": "code",
      "source": [
        "%%R -w 500 -h 500 -u px\n",
        "# Symetric Biplot of rows and columns\n",
        "plot(lda_model)"
      ],
      "metadata": {
        "colab": {
          "base_uri": "https://localhost:8080/",
          "height": 517
        },
        "id": "qyJb6_q2t_dL",
        "outputId": "2e253295-3684-45be-efec-d1a613083834"
      },
      "execution_count": null,
      "outputs": [
        {
          "output_type": "display_data",
          "data": {
            "image/png": "[encoded data removed]"
          },
          "metadata": {}
        }
      ]
    },
    {
      "cell_type": "markdown",
      "source": [
        "We can add the ‘dimen’ argument to specify how many LDs to plot. To plot LD1 vs LD2:\n"
      ],
      "metadata": {
        "id": "8TofV7iEuKt5"
      }
    },
    {
      "cell_type": "code",
      "source": [
        "%%R -w 500 -h 450 -u px\n",
        "plot(lda_model, dimen = 2)"
      ],
      "metadata": {
        "colab": {
          "base_uri": "https://localhost:8080/",
          "height": 467
        },
        "id": "gTbUkZU4vyPx",
        "outputId": "726b8636-46fa-4c93-ad0c-95cc80274307"
      },
      "execution_count": null,
      "outputs": [
        {
          "output_type": "display_data",
          "data": {
            "image/png": "[encoded data removed]"
          },
          "metadata": {}
        }
      ]
    },
    {
      "cell_type": "markdown",
      "source": [
        "#### Training performance\n",
        "\n",
        "We can use the `predict()` function to make predictions on the training data and evaluate the model's performance. The `table()` function is used to create a confusion matrix, and the accuracy is calculated by dividing the sum of the diagonal elements by the total number of observations."
      ],
      "metadata": {
        "id": "RcZO0Vc756kT"
      }
    },
    {
      "cell_type": "code",
      "source": [
        "%%R -w 500 -h 450 -u px\n",
        "# Predict on train data\n",
        "lda_predictions_train <- predict(lda_model)\n",
        "# Evaluate performance\n",
        "lda_confusion_train <- table(Predicted = lda_predictions_train$class,  Actual = train_y)\n",
        "lda_confusion_train\n"
      ],
      "metadata": {
        "colab": {
          "base_uri": "https://localhost:8080/"
        },
        "id": "uLjYYIlav4MG",
        "outputId": "62147f3d-0972-47d5-9a72-4771c71f1ae0"
      },
      "execution_count": null,
      "outputs": [
        {
          "output_type": "stream",
          "name": "stdout",
          "text": [
            "         Actual\n",
            "Predicted DG HD LEH TJH\n",
            "      DG  14  0   2   1\n",
            "      HD   0  7   0   0\n",
            "      LEH  1  1  16   0\n",
            "      TJH  2  0   0  16\n"
          ]
        }
      ]
    },
    {
      "cell_type": "code",
      "source": [
        "%%R\n",
        "# Calculate accuracy\n",
        "lda_accuracy_train <- sum(diag(lda_confusion_train)) / sum(lda_confusion_train)\n",
        "# Print results\n",
        "cat(\"LDA Accuracy Training data:\", lda_accuracy_train, \"\\n\")"
      ],
      "metadata": {
        "colab": {
          "base_uri": "https://localhost:8080/"
        },
        "id": "8jKrQVuc6V95",
        "outputId": "2d5b8de4-d04c-4c19-f00d-711c6c7d6ed4"
      },
      "execution_count": null,
      "outputs": [
        {
          "output_type": "stream",
          "name": "stdout",
          "text": [
            "LDA Accuracy Training data: 0.8833333 \n"
          ]
        }
      ]
    },
    {
      "cell_type": "markdown",
      "source": [
        "#### Plot LDA Training Data\n"
      ],
      "metadata": {
        "id": "PeouWzLkv84u"
      }
    },
    {
      "cell_type": "code",
      "source": [
        "%%R -w 500 -h 450 -u px\n",
        "# create dataframe\n",
        "Site.train<-train_y\n",
        "plot_lda_train <- data.frame(Site.train, lda = predict(lda_model)$x)\n",
        "# plot\n",
        "ggplot(plot_lda_train) +\n",
        "    geom_point(aes(x = lda.LD1, y = lda.LD2, colour = Site.train), size = 4) +\n",
        "    labs(title = \"LDA Plot- Training\", x = \"LD1\", y = \"LD2\")"
      ],
      "metadata": {
        "colab": {
          "base_uri": "https://localhost:8080/",
          "height": 467
        },
        "id": "8qP-HBlPwCmi",
        "outputId": "ebe29936-a5f2-4c59-c9b9-02e34fb82006"
      },
      "execution_count": null,
      "outputs": [
        {
          "output_type": "display_data",
          "data": {
            "image/png": "[encoded data removed]"
          },
          "metadata": {}
        }
      ]
    },
    {
      "cell_type": "markdown",
      "source": [
        "#### Predict on test data"
      ],
      "metadata": {
        "id": "Kclvnqsl6M_i"
      }
    },
    {
      "cell_type": "code",
      "source": [
        "%%R -w 500 -h 450 -u px\n",
        "# Predict on test data\n",
        "lda_predictions_test <- predict(lda_model, newdata = test_X)\n",
        "\n",
        "# Evaluate performance\n",
        "lda_confusion_test <- table(Predicted = lda_predictions_test$class, Actual = test_y)\n",
        "lda_confusion_test"
      ],
      "metadata": {
        "colab": {
          "base_uri": "https://localhost:8080/"
        },
        "id": "3bfCxbgbwDYO",
        "outputId": "70ff2aca-b7c4-41df-ceee-a38b0403dfed"
      },
      "execution_count": null,
      "outputs": [
        {
          "output_type": "stream",
          "name": "stdout",
          "text": [
            "         Actual\n",
            "Predicted DG HD LEH TJH\n",
            "      DG   4  0   2   2\n",
            "      HD   0  3   1   0\n",
            "      LEH  0  1   4   1\n",
            "      TJH  4  0   0   5\n"
          ]
        }
      ]
    },
    {
      "cell_type": "code",
      "source": [
        "%%R\n",
        "# Calculate accuracy\n",
        "lda_accuracy_test <- sum(diag(lda_confusion_test)) / sum(lda_confusion_test)\n",
        "# Print results\n",
        "cat(\"LDA Accuracy Test data:\", lda_accuracy_test, \"\\n\")"
      ],
      "metadata": {
        "colab": {
          "base_uri": "https://localhost:8080/"
        },
        "id": "pY1h7E0f6mDQ",
        "outputId": "c4d8c596-cd23-4cc9-eb41-f5a467cf45ea"
      },
      "execution_count": null,
      "outputs": [
        {
          "output_type": "stream",
          "name": "stdout",
          "text": [
            "LDA Accuracy Test data: 0.5925926 \n"
          ]
        }
      ]
    },
    {
      "cell_type": "markdown",
      "source": [
        "#### Plot LDA Test Data"
      ],
      "metadata": {
        "id": "6U6jWNHo6ufS"
      }
    },
    {
      "cell_type": "code",
      "source": [
        "%%R -w 500 -h 450 -u px\n",
        "# create dataframe\n",
        "Site.test<-test_y\n",
        "plot_lda_test <- data.frame(Site.test, lda = predict(lda_model, newdata = test_X)$x)\n",
        "# plot\n",
        "ggplot(plot_lda_test) +\n",
        "    geom_point(aes(x = lda.LD1, y = lda.LD2, colour = Site.test), size = 4) +\n",
        "    labs(title = \"LDA Plot- Test Data\", x = \"LD1\", y = \"LD2\")"
      ],
      "metadata": {
        "colab": {
          "base_uri": "https://localhost:8080/",
          "height": 467
        },
        "id": "K8raiDM-wDmS",
        "outputId": "fb97465c-30f5-4678-f2cb-2f26c2092c89"
      },
      "execution_count": null,
      "outputs": [
        {
          "output_type": "display_data",
          "data": {
            "image/png": "[encoded data removed]"
          },
          "metadata": {}
        }
      ]
    },
    {
      "cell_type": "markdown",
      "source": [
        "### Quadratic Discriminant Analysis (QDA)\n",
        "\n",
        "`dudi.coa()` fuction from the {ade4} package is used to perform Correspondence Analysis (CA) in R. The `dudi.coa()` function takes a contingency table as input and returns an object of class `dudi` that contains the results of the analysis. `scannf` is a logical value indicating whether the eigenvalues bar plot should be displayed and `nf` an integer indicating the number of kept axes"
      ],
      "metadata": {
        "id": "2Mt7hBVmw9ea"
      }
    },
    {
      "cell_type": "markdown",
      "source": [
        "#### Data\n",
        "\n",
        "In this example we will use `iris` dataset since the `Darlingtonia_GE_Table12.1` dataset is not suitable for QDA (some levels have few number of records)."
      ],
      "metadata": {
        "id": "fUIGvSc662jx"
      }
    },
    {
      "cell_type": "code",
      "source": [
        "%%R\n",
        "# Load the Iris dataset\n",
        "data(iris)\n",
        "# Split data into predictors (X) and response (y)\n",
        "X <- iris[, 1:4]  # Predictor variables\n",
        "y <- iris$Species  # Response variable\n",
        "# Split into training and test sets\n",
        "set.seed(123)\n",
        "train_indices <- sample(1:nrow(iris), 0.7 * nrow(iris))\n",
        "train_X <- X[train_indices, ]\n",
        "train_y <- y[train_indices]\n",
        "test_X <- X[-train_indices, ]\n",
        "test_y <- y[-train_indices]"
      ],
      "metadata": {
        "id": "gos7nOq8yRIb"
      },
      "execution_count": null,
      "outputs": []
    },
    {
      "cell_type": "markdown",
      "source": [
        "#### Perform QDA\n",
        "\n",
        "Quadratic Discriminant Analysis (QDA) is a classification method that assumes each class has its covariance matrix. We can use the `qda()` function from the {MASS} package to perform QDA on the training data."
      ],
      "metadata": {
        "id": "ktjho35DyVpN"
      }
    },
    {
      "cell_type": "code",
      "source": [
        "%%R\n",
        "# Perform QDA using MASS package\n",
        "qda_model <- qda(train_y ~ ., data = train_X)\n",
        "qda_model"
      ],
      "metadata": {
        "colab": {
          "base_uri": "https://localhost:8080/"
        },
        "id": "GauU-lfByWQv",
        "outputId": "b6f00c30-3f77-4330-fb00-f6a8d83c8494"
      },
      "execution_count": null,
      "outputs": [
        {
          "output_type": "stream",
          "name": "stdout",
          "text": [
            "Call:\n",
            "qda(train_y ~ ., data = train_X)\n",
            "\n",
            "Prior probabilities of groups:\n",
            "    setosa versicolor  virginica \n",
            " 0.3428571  0.3047619  0.3523810 \n",
            "\n",
            "Group means:\n",
            "           Sepal.Length Sepal.Width Petal.Length Petal.Width\n",
            "setosa         4.966667    3.394444     1.461111   0.2555556\n",
            "versicolor     5.971875    2.787500     4.309375   1.3500000\n",
            "virginica      6.586486    2.948649     5.529730   1.9945946\n"
          ]
        }
      ]
    },
    {
      "cell_type": "markdown",
      "source": [
        "#### Predict on test data"
      ],
      "metadata": {
        "id": "BW8ArFK0ykb4"
      }
    },
    {
      "cell_type": "code",
      "source": [
        "%%R -w 500 -h 450 -u px\n",
        "# Predict on test data\n",
        "qda_predictions <- predict(qda_model, newdata = test_X)"
      ],
      "metadata": {
        "id": "dQYA0ZMIylOa"
      },
      "execution_count": null,
      "outputs": []
    },
    {
      "cell_type": "code",
      "source": [
        "%%R\n",
        "# Evaluate performance\n",
        "qda_confusion <- table(Predicted = qda_predictions$class, Actual = test_y)\n",
        "qda_confusion"
      ],
      "metadata": {
        "colab": {
          "base_uri": "https://localhost:8080/"
        },
        "id": "Rw8545Cz7PZn",
        "outputId": "d8712297-535f-42a9-b7d8-5ccb39190875"
      },
      "execution_count": null,
      "outputs": [
        {
          "output_type": "stream",
          "name": "stdout",
          "text": [
            "            Actual\n",
            "Predicted    setosa versicolor virginica\n",
            "  setosa         14          0         0\n",
            "  versicolor      0         17         0\n",
            "  virginica       0          1        13\n"
          ]
        }
      ]
    },
    {
      "cell_type": "code",
      "source": [
        "%%R\n",
        "# Calculate accuracy\n",
        "qda_accuracy <- sum(diag(qda_confusion)) / sum(qda_confusion)\n",
        "# Print results\n",
        "cat(\"QDA Accuracy:\", qda_accuracy, \"\\n\")"
      ],
      "metadata": {
        "colab": {
          "base_uri": "https://localhost:8080/"
        },
        "id": "uLYl92wG7SeN",
        "outputId": "016647e7-16e0-4ec5-ff06-3d82f890271e"
      },
      "execution_count": null,
      "outputs": [
        {
          "output_type": "stream",
          "name": "stdout",
          "text": [
            "QDA Accuracy: 0.9777778 \n"
          ]
        }
      ]
    },
    {
      "cell_type": "markdown",
      "source": [
        "### Regularized Discriminant Analysis (RDA)\n",
        "\n",
        "We use same iris dataset for RDA as well. `rda()` function from the {klaR} package is used to perform Regularized Discriminant Analysis (RDA) on the training data. This fuction builds a classification rule using regularized group covariance matrices that are supposed to be more robust against multicollinearity in the data. We do not set `gamma` and `lambda` regularization parameters, but they can be determined by minimizing the estimated error rate using cross-validation."
      ],
      "metadata": {
        "id": "xPQXWUPJy7De"
      }
    },
    {
      "cell_type": "code",
      "source": [
        "%%R\n",
        "# Perform RDA using klaR package\n",
        "rda_model <- rda(train_y ~ .,\n",
        "                 #gamma = 0.05,\n",
        "                 #lambda = 0.2,\n",
        "                 crossval = TRUE,\n",
        "                 fold = 5,\n",
        "                 data = train_X)\n",
        "rda_model"
      ],
      "metadata": {
        "colab": {
          "base_uri": "https://localhost:8080/"
        },
        "id": "JuWh_u0Ny_1P",
        "outputId": "f8af6b7e-51a9-4095-f1be-41460e6e2d99"
      },
      "execution_count": null,
      "outputs": [
        {
          "output_type": "stream",
          "name": "stdout",
          "text": [
            "Call: \n",
            "rda(formula = train_y ~ ., data = train_X, crossval = TRUE, fold = 5)\n",
            "\n",
            "Regularization parameters: \n",
            "    gamma    lambda \n",
            "0.1191635 0.3662082 \n",
            "\n",
            "Prior probabilities of groups: \n",
            "    setosa versicolor  virginica \n",
            " 0.3428571  0.3047619  0.3523810 \n",
            "\n",
            "Misclassification rate: \n",
            "       apparent: 1.905 %\n",
            "cross-validated: 1.016 %\n"
          ]
        }
      ]
    },
    {
      "cell_type": "markdown",
      "source": [
        "#### Plot Regularization Parameters\n",
        "\n",
        "`plot()` function can be used to visualize the two regularization parameters of RDA model"
      ],
      "metadata": {
        "id": "7WOQUrjA7eDX"
      }
    },
    {
      "cell_type": "code",
      "source": [
        "%%R -w 500 -h 450 -u px\n",
        "plot(rda_model)"
      ],
      "metadata": {
        "colab": {
          "base_uri": "https://localhost:8080/",
          "height": 467
        },
        "id": "Bt4FtBCWzIOZ",
        "outputId": "f906c2d5-39de-4b23-c042-edc57666b640"
      },
      "execution_count": null,
      "outputs": [
        {
          "output_type": "display_data",
          "data": {
            "image/png": "[encoded data removed]"
          },
          "metadata": {}
        }
      ]
    },
    {
      "cell_type": "markdown",
      "source": [
        "#### Predict on test data"
      ],
      "metadata": {
        "id": "tkWrtalyzErt"
      }
    },
    {
      "cell_type": "code",
      "source": [
        "%%R\n",
        "# Predict on test data\n",
        "rda_predictions <- predict(rda_model, newdata = test_X)"
      ],
      "metadata": {
        "id": "tRSWsBWzzPwh"
      },
      "execution_count": null,
      "outputs": []
    },
    {
      "cell_type": "code",
      "source": [
        "%%R\n",
        "# Evaluate performance\n",
        "rda_confusion <- table(Predicted = rda_predictions$class, Actual = test_y)\n",
        "rda_confusion"
      ],
      "metadata": {
        "colab": {
          "base_uri": "https://localhost:8080/"
        },
        "id": "fl0dA6yNzTXp",
        "outputId": "0b1c1676-3a7e-4a70-b9a7-da960fd74cad"
      },
      "execution_count": null,
      "outputs": [
        {
          "output_type": "stream",
          "name": "stdout",
          "text": [
            "            Actual\n",
            "Predicted    setosa versicolor virginica\n",
            "  setosa         14          0         0\n",
            "  versicolor      0         17         0\n",
            "  virginica       0          1        13\n"
          ]
        }
      ]
    },
    {
      "cell_type": "code",
      "source": [
        "%%R\n",
        "# Calculate accuracy\n",
        "rda_accuracy <- sum(diag(rda_confusion)) / sum(rda_confusion)\n",
        "# Print results\n",
        "cat(\"RDA Accuracy:\", rda_accuracy, \"\\n\")\n",
        "rda_confusion"
      ],
      "metadata": {
        "colab": {
          "base_uri": "https://localhost:8080/"
        },
        "id": "xoc-bvkj8H3s",
        "outputId": "3cf72ce3-a145-4fd0-af11-78fa894c525e"
      },
      "execution_count": null,
      "outputs": [
        {
          "output_type": "stream",
          "name": "stdout",
          "text": [
            "RDA Accuracy: 0.9777778 \n",
            "            Actual\n",
            "Predicted    setosa versicolor virginica\n",
            "  setosa         14          0         0\n",
            "  versicolor      0         17         0\n",
            "  virginica       0          1        13\n"
          ]
        }
      ]
    },
    {
      "cell_type": "markdown",
      "source": [
        "### Distance-Based Discriminant Analysis (DBDA)\n",
        "\n",
        "`WDBdisc()` function from the {WeDiBaDis} package is used to perform Distance-Based Discriminant Analysis (DBDA) on the training data. DBDA is a method used for classification, where the assignment of observations to groups is determined based on their distances from predefined group centers or prototypes. Unlike traditional discriminant analysis methods like Linear Discriminant Analysis (LDA), DBDA does not assume any specific distribution for the predictor variables (e.g., multivariate normality)."
      ],
      "metadata": {
        "id": "upC75MdVzWs3"
      }
    },
    {
      "cell_type": "code",
      "source": [
        "%%R\n",
        "train.mf<- cbind(train_y,train_X)\n",
        "\n",
        "dbda_model<- WDBdisc(data = train.mf,\n",
        "                      classcol = 1,\n",
        "                      datatype = \"m\",\n",
        "                      method = \"WDB\")"
      ],
      "metadata": {
        "id": "qoSXeuUOzaLE"
      },
      "execution_count": null,
      "outputs": []
    },
    {
      "cell_type": "markdown",
      "source": [
        "#### Summary of DBDA Model\n",
        "\n",
        "The `summary()` function can be applied to the output and produces additional information:\n",
        "\n",
        "-   Total correct classification: the sum of the diagonals of the confusion matrix divided by the total number of observations (as calculated above).\n",
        "-   Generalized squared correlation: ranges from 0 to 1. A value of 0 means that there is at least one class in which no units are classified.\n",
        "-   Cohen’s Kappa coefficient: a measure of the agreement of classification to the true class. Irigoien et al. (2016) provide the following rules of thumb for interpreting it:\n",
        "-    0: less than chance agreement\n",
        "-   0.01-0.20: slight agreement\n",
        "-   0.21-0.40: fair agreement\n",
        "-   0.41-0.60: moderate agreement\n",
        "-   0.61-0.80: substantial agreement\n",
        "-   0.81-0.99: almost perfect agreement\n",
        "-   Sensitivity (or recall), for each class. The number of observations correctly predicted to belong to a given class, as a percentage of the total number of observations in that class.\n",
        "-   Precision (positive predictive value), for each class. Probability that a classification in this class is correct.\n",
        "-   Specificity, for each class. A measure of the ability to correctly exclude an observation from this class when it really belongs to another class. F1-score, for each class. Calculated based on sensitivity and precision."
      ],
      "metadata": {
        "id": "jmAAAaro8V_6"
      }
    },
    {
      "cell_type": "code",
      "source": [
        "%%R\n",
        "summary(dbda_model)"
      ],
      "metadata": {
        "colab": {
          "base_uri": "https://localhost:8080/"
        },
        "id": "FyfMTr6X8Y-U",
        "outputId": "80778965-7309-47c0-de36-9f374b7c52ca"
      },
      "execution_count": null,
      "outputs": [
        {
          "output_type": "stream",
          "name": "stdout",
          "text": [
            "Discriminant method:  \n",
            "------ Leave-one-out confusion matrix: ------\n",
            "            Predicted\n",
            "Real         setosa versicolor virginica\n",
            "  setosa         36          0         0\n",
            "  versicolor      0         28         4\n",
            "  virginica       0          6        31\n",
            "\n",
            "Total correct classification:  90.48 % \n",
            "\n",
            "Generalized squared correlation:  0.7528 \n",
            "\n",
            "Cohen's Kappa coefficient:  0.8570651 \n",
            "\n",
            "Sensitivity for each class: \n",
            "    setosa versicolor  virginica \n",
            "    100.00      87.50      83.78 \n",
            "\n",
            "Predictive value for each class: \n",
            "    setosa versicolor  virginica \n",
            "    100.00      82.35      88.57 \n",
            "\n",
            "Specificity for each class: \n",
            "    setosa versicolor  virginica \n",
            "     85.51      91.78      94.12 \n",
            "\n",
            "F1-score for each class: \n",
            "    setosa versicolor  virginica \n",
            "    100.00      84.85      86.11 \n",
            "------ ------ ------ ------ ------ ------\n",
            " \n",
            "No predicted individuals"
          ]
        }
      ]
    },
    {
      "cell_type": "markdown",
      "source": [
        "#### Visualize Resuls\n",
        "\n",
        "To see a visualization of the confusion matrix:"
      ],
      "metadata": {
        "id": "Ny897z8qmyAg"
      }
    },
    {
      "cell_type": "code",
      "source": [
        "%%R -w 500 -h 400 -u px\n",
        "plot(dbda_model)"
      ],
      "metadata": {
        "colab": {
          "base_uri": "https://localhost:8080/",
          "height": 417
        },
        "id": "aWQ9JOU125jr",
        "outputId": "8ecb1cdb-d59b-4033-c0b5-32f221ccf163"
      },
      "execution_count": null,
      "outputs": [
        {
          "output_type": "display_data",
          "data": {
            "image/png": "[encoded data removed]"
          },
          "metadata": {}
        }
      ]
    },
    {
      "cell_type": "markdown",
      "source": [
        "The summary() output can also be plotted:"
      ],
      "metadata": {
        "id": "HNrsG81C2-5K"
      }
    },
    {
      "cell_type": "code",
      "source": [
        "%%R -w 500 -h 450 -u px\n",
        "plot(summary(dbda_model))"
      ],
      "metadata": {
        "colab": {
          "base_uri": "https://localhost:8080/",
          "height": 1000
        },
        "id": "1Fe2Ymn82_5W",
        "outputId": "ab513777-0527-493f-8c36-abfa60bcfdfa"
      },
      "execution_count": null,
      "outputs": [
        {
          "output_type": "stream",
          "name": "stdout",
          "text": [
            "Discriminant method:  \n",
            "------ Leave-one-out confusion matrix: ------\n",
            "            Predicted\n",
            "Real         setosa versicolor virginica\n",
            "  setosa         36          0         0\n",
            "  versicolor      0         28         4\n",
            "  virginica       0          6        31\n",
            "\n",
            "Total correct classification:  90.48 % \n",
            "\n",
            "Generalized squared correlation:  0.7528 \n",
            "\n",
            "Cohen's Kappa coefficient:  0.8570651 \n",
            "\n",
            "Sensitivity for each class: \n",
            "    setosa versicolor  virginica \n",
            "    100.00      87.50      83.78 \n",
            "\n",
            "Predictive value for each class: \n",
            "    setosa versicolor  virginica \n",
            "    100.00      82.35      88.57 \n",
            "\n",
            "Specificity for each class: \n",
            "    setosa versicolor  virginica \n",
            "     85.51      91.78      94.12 \n",
            "\n",
            "F1-score for each class: \n",
            "    setosa versicolor  virginica \n",
            "    100.00      84.85      86.11 \n",
            "------ ------ ------ ------ ------ ------\n",
            " \n",
            "No predicted individuals"
          ]
        },
        {
          "output_type": "display_data",
          "data": {
            "image/png": "[encoded data removed]"
          },
          "metadata": {}
        }
      ]
    },
    {
      "cell_type": "markdown",
      "source": [
        "#### Predict on test data\n",
        "\n",
        "For prediction in new dataset, we can use `WDBdisc()` function with `new.ind` argument. The `new.ind` argument specifies the new data to be classified. The `summary()` function can be used to summarize the predictions."
      ],
      "metadata": {
        "id": "dEVHgmWp3HnF"
      }
    },
    {
      "cell_type": "code",
      "source": [
        "%%R\n",
        "dbda_predictions<-WDBdisc(data=train.mf, datatype=\"m\", new.ind=test_X,\n",
        "               distance=\"euclidean\", method=\"WDB\")"
      ],
      "metadata": {
        "id": "4SLZrZEW3KTD"
      },
      "execution_count": null,
      "outputs": []
    },
    {
      "cell_type": "code",
      "source": [
        "%%R\n",
        "# extract predicted class\n",
        "pred_class<-as.data.frame(dbda_predictions$pred)"
      ],
      "metadata": {
        "id": "7lLr8K0x3OgL"
      },
      "execution_count": null,
      "outputs": []
    },
    {
      "cell_type": "code",
      "source": [
        "%%R\n",
        "# Evaluate performance\n",
        "dbda_confusion <- table(Predicted = pred_class$`Pred. class`, Actual = test_y)\n",
        "dbda_confusion"
      ],
      "metadata": {
        "colab": {
          "base_uri": "https://localhost:8080/"
        },
        "id": "3sTTxyS83bAd",
        "outputId": "417441fe-a72d-4879-c4e1-b29ba230a9ff"
      },
      "execution_count": null,
      "outputs": [
        {
          "output_type": "stream",
          "name": "stdout",
          "text": [
            "            Actual\n",
            "Predicted    setosa versicolor virginica\n",
            "  setosa         14          0         0\n",
            "  versicolor      0         16         0\n",
            "  virginica       0          2        13\n"
          ]
        }
      ]
    },
    {
      "cell_type": "code",
      "source": [
        "%%R\n",
        "# Calculate accuracy\n",
        "dbda_accuracy <- sum(diag(dbda_confusion)) / sum(dbda_confusion)\n",
        "# Print results\n",
        "cat(\"DBDA Accuracy:\", dbda_accuracy, \"\\n\")"
      ],
      "metadata": {
        "colab": {
          "base_uri": "https://localhost:8080/"
        },
        "id": "yVCQf6zW3hfX",
        "outputId": "cea1d89f-b5b7-4cb7-d7d9-eea3e600fc2d"
      },
      "execution_count": null,
      "outputs": [
        {
          "output_type": "stream",
          "name": "stdout",
          "text": [
            "DBDA Accuracy: 0.9555556 \n"
          ]
        }
      ]
    },
    {
      "cell_type": "markdown",
      "metadata": {
        "id": "mIRMjL69VPVu"
      },
      "source": [
        "## Summary and Conclusion\n",
        "\n",
        "This tutorial covered the essentials of Discriminant Analysis, a statistical technique used for classification and pattern recognition. We discussed the mathematical foundation of Discriminant Analysis, its assumptions, and the types of Discriminant Analysis methods, including Linear Discriminant Analysis (LDA), Quadratic Discriminant Analysis (QDA), Regularized Discriminant Analysis (RDA), and Distance-Based Discriminant Analysis (DBDA). We provided an example of binary classification using Linear Discriminant Analysis (LDA) from scratch in R, followed by a demonstration of LDA, QDA, RDA, and DBDA using the iris dataset. The results were evaluated using confusion matrices and accuracy metrics, and the models were visualized to understand the decision boundaries and classification performance. Discriminant Analysis is a powerful tool for classification tasks and can be applied to a wide range of problems in various domains. By understanding the underlying principles and assumptions of Discriminant Analysis methods, you can effectively apply these techniques to classify observations into predefined groups based on predictor variables.\n",
        "\n"
      ]
    },
    {
      "cell_type": "markdown",
      "metadata": {
        "id": "rUHrNY9J9lMg"
      },
      "source": [
        "## References\n",
        "\n",
        "1.  [Discriminant Analysis Essentials in R](https://www.sthda.com/english/articles/36-classification-methods-essentials/146-discriminant-analysis-essentials-in-r/)\n",
        "\n",
        "2.  [Discriminant Analysis in R](https://rpubs.com/Nolan/298913)\n",
        "\n",
        "3.  [Linear Discriminant Analysis in R](https://www.r-bloggers.com/2021/05/linear-discriminant-analysis-in-r/)\n",
        "\n",
        "4.  [Applied Multivariate Statistics in R - Discriminant Analysis](https://uw.pressbooks.pub/appliedmultivariatestatistics/chapter/discriminant-analysis/)\n",
        "\n",
        "5.  [Linear & Nonlinear - Discriminant Analysis](https://www.rpubs.com/jlroo/discriminant-analysis)\n"
      ]
    }
  ],
  "metadata": {
    "colab": {
      "provenance": [],
      "authorship_tag": "ABX9TyOXtVIkZUqPE/knGfdcq3b5",
      "include_colab_link": true
    },
    "kernelspec": {
      "display_name": "Python 3",
      "name": "python3"
    },
    "language_info": {
      "name": "python"
    }
  },
  "nbformat": 4,
  "nbformat_minor": 0
}