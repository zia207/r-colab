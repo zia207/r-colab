{
  "nbformat": 4,
  "nbformat_minor": 0,
  "metadata": {
    "colab": {
      "provenance": [],
      "toc_visible": true,
      "authorship_tag": "ABX9TyOImE32IBE7mh2aflsMmNju",
      "include_colab_link": true
    },
    "kernelspec": {
      "name": "python3",
      "display_name": "Python 3"
    },
    "language_info": {
      "name": "python"
    }
  },
  "cells": [
    {
      "cell_type": "markdown",
      "metadata": {
        "id": "view-in-github",
        "colab_type": "text"
      },
      "source": [
        "<a href=\"https://colab.research.google.com/github/zia207/r-colab/blob/main/NoteBook/Advance_Regression/02-03-02-non-linear-polynomial-r.ipynb\" target=\"_parent\"><img src=\"https://colab.research.google.com/assets/colab-badge.svg\" alt=\"Open In Colab\"/></a>"
      ]
    },
    {
      "cell_type": "markdown",
      "source": [
        "![alt text](http://drive.google.com/uc?export=view&id=1bLQ3nhDbZrCCqy_WCxxckOne2lgVvn3l)"
      ],
      "metadata": {
        "id": "4qrItz_mJNWw"
      }
    },
    {
      "cell_type": "markdown",
      "source": [
        "# 2. Polynomial Models\n",
        "\n",
        "A polynomial model is a type of mathematical model that represents a relationship between a dependent variable \\( y \\) and one or more independent variables \\( x \\). The relationship is expressed as a polynomial equation:\n",
        "\n",
        "$$ y = a_n x^n + a_{n-1} x^{n-1} + \\cdots + a_1 x + a_0 $$\n",
        "\n",
        "where:\n",
        "- $y$ is the dependent variable.\n",
        "- $x$ is the independent variable.\n",
        "- $a_0, a_1, \\ldots, a_n$ are coefficients.\n",
        "- $n$ is the degree of the polynomial.\n",
        "\n",
        "\n"
      ],
      "metadata": {
        "id": "Dzp9ZseROTcY"
      }
    },
    {
      "cell_type": "markdown",
      "source": [
        "### Applications\n",
        "\n",
        "Polynomial models have a wide range of applications in various fields. Here are a few examples:\n",
        "\n",
        "1. **Curve Fitting**: Polynomial models are used to fit curves to a set of data points. This is commonly used in statistics and data analysis to understand the relationship between variables.\n",
        "\n",
        "2. **Physics**: Polynomial equations are used to describe motion, forces, and other physical phenomena. For example, the trajectory of a projectile can be modeled using a quadratic polynomial.\n",
        "\n",
        "3. **Economics**: Polynomial models can be used to model economic relationships, such as the relationship between supply and demand or the behavior of financial markets.\n",
        "\n",
        "4. **Engineering**: Polynomial models are used in control systems, signal processing, and other engineering applications to model system behavior and design controllers.\n",
        "\n",
        "5. **Machine Learning**: In machine learning, polynomial regression is used to model nonlinear relationships between the features and the target variable."
      ],
      "metadata": {
        "id": "jBYd7xVU-f81"
      }
    },
    {
      "cell_type": "markdown",
      "source": [
        "##  Types of Polynomial Models\n",
        "\n",
        "Polynomial models can be categorized based on the degree of the polynomial and the number of independent variables. Here are the different types of polynomial models:\n"
      ],
      "metadata": {
        "id": "AJvZA0D6-qoH"
      }
    },
    {
      "cell_type": "markdown",
      "source": [
        "### 1. Linear Polynomial (Degree 1)\n",
        "A linear polynomial is the simplest type of polynomial model. It represents a straight-line relationship between the dependent and independent variables.\n",
        "\n",
        "$$ y = a_1 x + a_0 $$"
      ],
      "metadata": {
        "id": "-vbqvZhL-uLu"
      }
    },
    {
      "cell_type": "markdown",
      "source": [
        "### 2. Quadratic Polynomial (Degree 2)\n",
        "\n",
        "A quadratic polynomial represents a parabolic relationship between the dependent and independent variables. It can model curves that have one peak or trough.\n",
        "\n",
        "$$ y = a_2 x^2 + a_1 x + a_0 $$"
      ],
      "metadata": {
        "id": "RiobrPug-xsS"
      }
    },
    {
      "cell_type": "markdown",
      "source": [
        "### 3. Cubic Polynomial (Degree 3)\n",
        "\n",
        "A cubic polynomial represents a relationship that can have up to two peaks or troughs. It can model more complex curves compared to linear and quadratic polynomials.\n",
        "\n",
        "$$  y = a_3 x^3 + a_2 x^2 + a_1 x + a_0 $$"
      ],
      "metadata": {
        "id": "eytQbEm5-17P"
      }
    },
    {
      "cell_type": "markdown",
      "source": [
        "### 4. Quartic Polynomial (Degree 4)\n",
        "\n",
        "A quartic polynomial can have up to three peaks or troughs. It can model even more complex relationships between the dependent and independent variables.\n",
        "\n",
        "$$ y = a_4 x^4 + a_3 x^3 + a_2 x^2 + a_1 x + a_0 $$"
      ],
      "metadata": {
        "id": "xQb5ncRm-4ep"
      }
    },
    {
      "cell_type": "markdown",
      "source": [
        "### 6. Higher-Degree Polynomials (Degree > 5)\n",
        "\n",
        "Polynomials of degree higher than 5 can model even more intricate relationships, but they are less commonly used due to the complexity and potential for overfitting."
      ],
      "metadata": {
        "id": "U8ZcFqr4-7rz"
      }
    },
    {
      "cell_type": "markdown",
      "source": [
        "### 7. Multivariable Polynomials\n",
        "\n",
        "Polynomials with more than one independent variable are called multivariable polynomials. They can model relationships involving multiple factors.\n",
        "\n",
        "\n",
        "$$ y = a_{11} x_1^2 + a_{12} x_1 x_2 + a_{22} x_2^2 + a_{1} x_1 + a_{2} x_2 + a_0 $$"
      ],
      "metadata": {
        "id": "wCZnYkwv_GKB"
      }
    },
    {
      "cell_type": "markdown",
      "source": [
        "### Install rpy2"
      ],
      "metadata": {
        "id": "SDp3ULld8Gb9"
      }
    },
    {
      "cell_type": "code",
      "source": [
        "!pip uninstall rpy2 -y\n",
        "!pip install rpy2==3.5.1\n",
        "%load_ext rpy2.ipython"
      ],
      "metadata": {
        "id": "CiM6y-Mw8AJp",
        "colab": {
          "base_uri": "https://localhost:8080/"
        },
        "outputId": "7d5b5216-4f1e-4459-9b99-2aa6dacfd989"
      },
      "execution_count": 1,
      "outputs": [
        {
          "output_type": "stream",
          "name": "stdout",
          "text": [
            "Found existing installation: rpy2 3.4.2\n",
            "Uninstalling rpy2-3.4.2:\n",
            "  Successfully uninstalled rpy2-3.4.2\n",
            "Collecting rpy2==3.5.1\n",
            "  Downloading rpy2-3.5.1.tar.gz (201 kB)\n",
            "\u001b[2K     \u001b[90m━━━━━━━━━━━━━━━━━━━━━━━━━━━━━━━━━━━━━━━━\u001b[0m \u001b[32m201.7/201.7 kB\u001b[0m \u001b[31m3.5 MB/s\u001b[0m eta \u001b[36m0:00:00\u001b[0m\n",
            "\u001b[?25h  Preparing metadata (setup.py) ... \u001b[?25l\u001b[?25hdone\n",
            "Requirement already satisfied: cffi>=1.10.0 in /usr/local/lib/python3.11/dist-packages (from rpy2==3.5.1) (1.17.1)\n",
            "Requirement already satisfied: jinja2 in /usr/local/lib/python3.11/dist-packages (from rpy2==3.5.1) (3.1.5)\n",
            "Requirement already satisfied: pytz in /usr/local/lib/python3.11/dist-packages (from rpy2==3.5.1) (2025.1)\n",
            "Requirement already satisfied: tzlocal in /usr/local/lib/python3.11/dist-packages (from rpy2==3.5.1) (5.3)\n",
            "Requirement already satisfied: pycparser in /usr/local/lib/python3.11/dist-packages (from cffi>=1.10.0->rpy2==3.5.1) (2.22)\n",
            "Requirement already satisfied: MarkupSafe>=2.0 in /usr/local/lib/python3.11/dist-packages (from jinja2->rpy2==3.5.1) (3.0.2)\n",
            "Building wheels for collected packages: rpy2\n",
            "  Building wheel for rpy2 (setup.py) ... \u001b[?25l\u001b[?25hdone\n",
            "  Created wheel for rpy2: filename=rpy2-3.5.1-cp311-cp311-linux_x86_64.whl size=314972 sha256=e566171160eac27fc2718439bbb27b76d7478eda2def2c372b03c5c8f04db2be\n",
            "  Stored in directory: /root/.cache/pip/wheels/e9/55/d1/47be85a5f3f1e1f4d1e91cb5e3a4dcb40dd72147f184c5a5ef\n",
            "Successfully built rpy2\n",
            "Installing collected packages: rpy2\n",
            "Successfully installed rpy2-3.5.1\n"
          ]
        }
      ]
    },
    {
      "cell_type": "markdown",
      "source": [
        "### Mount Google Drive"
      ],
      "metadata": {
        "id": "O1zeuaCowiBt"
      }
    },
    {
      "cell_type": "code",
      "source": [
        "from google.colab import drive\n",
        "drive.mount('/content/drive')"
      ],
      "metadata": {
        "colab": {
          "base_uri": "https://localhost:8080/"
        },
        "id": "9J-4ie4bwiJ1",
        "outputId": "c2630dcc-c210-4df8-f69f-d3235b68da96"
      },
      "execution_count": 2,
      "outputs": [
        {
          "output_type": "stream",
          "name": "stdout",
          "text": [
            "Mounted at /content/drive\n"
          ]
        }
      ]
    },
    {
      "cell_type": "markdown",
      "source": [
        "\n",
        "## Fit Different Types of Polynomial Models  in R\n",
        "\n",
        "We will fit differen types of polynomial models to a sample dataset in R.  The dataset contains a set of data points that follow a polynomial relationship. We will fit polynomial models of different degrees to the data and compare the results.\n"
      ],
      "metadata": {
        "id": "gJHoQTaC_LDM"
      }
    },
    {
      "cell_type": "markdown",
      "source": [
        "### Install Rrequired R Packages"
      ],
      "metadata": {
        "id": "yXu-XY0mw1A8"
      }
    },
    {
      "cell_type": "code",
      "source": [
        "%%R\n",
        "# Packages List\n",
        "packages <- c(\n",
        "  \"tidyverse\",   # Includes readr, dplyr, ggplot2, etc.\n",
        "  'patchwork'    # for visualization\n",
        ")"
      ],
      "metadata": {
        "id": "TeYB57l0wz5N"
      },
      "execution_count": 3,
      "outputs": []
    },
    {
      "cell_type": "code",
      "source": [
        "%%R\n",
        "# Install missing packages\n",
        "new.packages <- packages[!(packages %in% installed.packages(lib='drive/My Drive/R/')[,\"Package\"])]\n",
        "if(length(new.packages)) install.packages(new.packages, lib='drive/My Drive/R/')"
      ],
      "metadata": {
        "id": "J3nWFZpl-sr-"
      },
      "execution_count": 4,
      "outputs": []
    },
    {
      "cell_type": "code",
      "source": [
        "%%R\n",
        "# set library path\n",
        ".libPaths('drive/My Drive/R')\n",
        "# Verify installation\n",
        "cat(\"Installed packages:\\n\")\n",
        "print(sapply(packages, requireNamespace, quietly = TRUE))"
      ],
      "metadata": {
        "colab": {
          "base_uri": "https://localhost:8080/"
        },
        "id": "-jv6EE7Z-sx-",
        "outputId": "6ee2df68-625c-408d-b401-b00585cc77ab"
      },
      "execution_count": 5,
      "outputs": [
        {
          "output_type": "stream",
          "name": "stdout",
          "text": [
            "Installed packages:\n",
            "tidyverse patchwork \n",
            "     TRUE      TRUE \n"
          ]
        }
      ]
    },
    {
      "cell_type": "markdown",
      "source": [
        "### Load R Packages"
      ],
      "metadata": {
        "id": "MV7R29xfyWQz"
      }
    },
    {
      "cell_type": "code",
      "source": [
        "%%R\n",
        "# set library path\n",
        ".libPaths('drive/My Drive/R')\n",
        "# Load packages with suppressed messages\n",
        "invisible(lapply(packages, function(pkg) {\n",
        "  suppressPackageStartupMessages(library(pkg, character.only = TRUE))\n",
        "}))\n",
        "# Check loaded packages\n",
        "cat(\"Successfully loaded packages:\\n\")\n",
        "print(search()[grepl(\"package:\", search())])# Check loaded packages\n"
      ],
      "metadata": {
        "id": "232jNAHBykUL",
        "colab": {
          "base_uri": "https://localhost:8080/"
        },
        "outputId": "ec11909c-4eae-4b07-d161-1bfdeac2624b"
      },
      "execution_count": 6,
      "outputs": [
        {
          "output_type": "stream",
          "name": "stdout",
          "text": [
            "Successfully loaded packages:\n",
            " [1] \"package:patchwork\" \"package:lubridate\" \"package:forcats\"  \n",
            " [4] \"package:stringr\"   \"package:dplyr\"     \"package:purrr\"    \n",
            " [7] \"package:readr\"     \"package:tidyr\"     \"package:tibble\"   \n",
            "[10] \"package:ggplot2\"   \"package:tidyverse\" \"package:tools\"    \n",
            "[13] \"package:stats\"     \"package:graphics\"  \"package:grDevices\"\n",
            "[16] \"package:utils\"     \"package:datasets\"  \"package:methods\"  \n",
            "[19] \"package:base\"     \n"
          ]
        }
      ]
    },
    {
      "cell_type": "markdown",
      "source": [
        "Below are examples of how we  can fit different types of polynomial models in R. Each example includes the necessary R code to fit the model and visualize the results.\n",
        "\n",
        "### Generate some example data"
      ],
      "metadata": {
        "id": "UdMcXPIF4Bly"
      }
    },
    {
      "cell_type": "code",
      "source": [
        "%%R -w 500 -h 400 -u px\n",
        "# Generate some example data\n",
        "set.seed(123)\n",
        "x <- seq(-10, 10, by = 0.5)\n",
        "y_linear <- 2 * x + 3 + rnorm(length(x), sd = 5)\n",
        "y_quadratic <- 4 * x^2 + 2 * x + 1 + rnorm(length(x), sd = 10)\n",
        "y_cubic <- 3 * x^3 - 5 * x^2 + 2 * x + 4 + rnorm(length(x), sd = 15)\n",
        "y_quartic <- x^4 - 2 * x^3 + 3 * x^2 - x + 5 + rnorm(length(x), sd = 20)\n",
        "y_quintic <- 2 * x^5 - x^4 + 3 * x^3 - 4 * x^2 + x + 6 + rnorm(length(x), sd = 25)"
      ],
      "metadata": {
        "id": "q82MNCn64Q0w"
      },
      "execution_count": 7,
      "outputs": []
    },
    {
      "cell_type": "markdown",
      "source": [
        "### Fit Polynomial Models\n"
      ],
      "metadata": {
        "id": "rSJqB05rO5ES"
      }
    },
    {
      "cell_type": "code",
      "execution_count": 9,
      "metadata": {
        "colab": {
          "base_uri": "https://localhost:8080/"
        },
        "id": "CFpt_H01OPsa",
        "outputId": "30d53cd5-c663-4043-ea23-6020ec4fa156"
      },
      "outputs": [
        {
          "output_type": "stream",
          "name": "stdout",
          "text": [
            "\n",
            "Call:\n",
            "lm(formula = y_linear ~ x)\n",
            "\n",
            "Residuals:\n",
            "     Min       1Q   Median       3Q      Max \n",
            "-10.0245  -3.1865  -0.0991   3.3339   8.7060 \n",
            "\n",
            "Coefficients:\n",
            "            Estimate Std. Error t value Pr(>|t|)    \n",
            "(Intercept)   3.1357     0.7061   4.441 7.18e-05 ***\n",
            "x             1.9628     0.1194  16.446  < 2e-16 ***\n",
            "---\n",
            "Signif. codes:  0 ‘***’ 0.001 ‘**’ 0.01 ‘*’ 0.05 ‘.’ 0.1 ‘ ’ 1\n",
            "\n",
            "Residual standard error: 4.521 on 39 degrees of freedom\n",
            "Multiple R-squared:  0.874,\tAdjusted R-squared:  0.8707 \n",
            "F-statistic: 270.5 on 1 and 39 DF,  p-value: < 2.2e-16\n",
            "\n"
          ]
        }
      ],
      "source": [
        "%%R\n",
        "# Fit linear model\n",
        "linear_model <- lm(y_linear ~ x)\n",
        "print(summary(linear_model))\n",
        "\n"
      ]
    },
    {
      "cell_type": "code",
      "source": [
        "%%R\n",
        "# Fit quadratic model\n",
        "quadratic_model <- lm(y_quadratic ~ poly(x, 2, raw = TRUE))\n",
        "print(summary(quadratic_model))"
      ],
      "metadata": {
        "colab": {
          "base_uri": "https://localhost:8080/"
        },
        "id": "QiTui6AiXQDy",
        "outputId": "969c5552-42a9-4d44-ae4f-9785c4f9b28c"
      },
      "execution_count": 13,
      "outputs": [
        {
          "output_type": "stream",
          "name": "stdout",
          "text": [
            "\n",
            "Call:\n",
            "lm(formula = y_quadratic ~ poly(x, 2, raw = TRUE))\n",
            "\n",
            "Residuals:\n",
            "     Min       1Q   Median       3Q      Max \n",
            "-22.6043  -5.2726  -0.2606   5.1485  20.8351 \n",
            "\n",
            "Coefficients:\n",
            "                        Estimate Std. Error t value Pr(>|t|)    \n",
            "(Intercept)              1.24941    2.25854   0.553    0.583    \n",
            "poly(x, 2, raw = TRUE)1  1.85981    0.25438   7.311 9.37e-09 ***\n",
            "poly(x, 2, raw = TRUE)2  3.99857    0.04812  83.102  < 2e-16 ***\n",
            "---\n",
            "Signif. codes:  0 ‘***’ 0.001 ‘**’ 0.01 ‘*’ 0.05 ‘.’ 0.1 ‘ ’ 1\n",
            "\n",
            "Residual standard error: 9.636 on 38 degrees of freedom\n",
            "Multiple R-squared:  0.9946,\tAdjusted R-squared:  0.9943 \n",
            "F-statistic:  3480 on 2 and 38 DF,  p-value: < 2.2e-16\n",
            "\n"
          ]
        }
      ]
    },
    {
      "cell_type": "code",
      "source": [
        "%%R\n",
        "# Fit cubic model\n",
        "cubic_model <- lm(y_cubic ~ poly(x, 3, raw = TRUE))\n",
        "print(summary(cubic_model))\n",
        "\n"
      ],
      "metadata": {
        "colab": {
          "base_uri": "https://localhost:8080/"
        },
        "id": "CLdkClJKXYa7",
        "outputId": "98325bd6-088c-49ad-a013-2e0fe89665aa"
      },
      "execution_count": 14,
      "outputs": [
        {
          "output_type": "stream",
          "name": "stdout",
          "text": [
            "\n",
            "Call:\n",
            "lm(formula = y_cubic ~ poly(x, 3, raw = TRUE))\n",
            "\n",
            "Residuals:\n",
            "    Min      1Q  Median      3Q     Max \n",
            "-20.826  -8.576  -2.207   8.491  28.777 \n",
            "\n",
            "Coefficients:\n",
            "                        Estimate Std. Error t value Pr(>|t|)    \n",
            "(Intercept)              3.61980    2.81235   1.287    0.206    \n",
            "poly(x, 3, raw = TRUE)1  0.40834    0.79355   0.515    0.610    \n",
            "poly(x, 3, raw = TRUE)2 -5.00374    0.05992 -83.514   <2e-16 ***\n",
            "poly(x, 3, raw = TRUE)3  3.01215    0.01156 260.605   <2e-16 ***\n",
            "---\n",
            "Signif. codes:  0 ‘***’ 0.001 ‘**’ 0.01 ‘*’ 0.05 ‘.’ 0.1 ‘ ’ 1\n",
            "\n",
            "Residual standard error: 12 on 37 degrees of freedom\n",
            "Multiple R-squared:  0.9999,\tAdjusted R-squared:  0.9999 \n",
            "F-statistic: 1.449e+05 on 3 and 37 DF,  p-value: < 2.2e-16\n",
            "\n"
          ]
        }
      ]
    },
    {
      "cell_type": "code",
      "source": [
        "%%R\n",
        "# Fit quartic model\n",
        "quartic_model <- lm(y_quartic ~ poly(x, 4, raw = TRUE))\n",
        "print(summary(quartic_model))\n"
      ],
      "metadata": {
        "colab": {
          "base_uri": "https://localhost:8080/"
        },
        "id": "-uG5KPJKXVZb",
        "outputId": "bbfb99b9-60f2-4aa7-e29e-e75509f561a9"
      },
      "execution_count": 17,
      "outputs": [
        {
          "output_type": "stream",
          "name": "stdout",
          "text": [
            "\n",
            "Call:\n",
            "lm(formula = y_quartic ~ poly(x, 4, raw = TRUE))\n",
            "\n",
            "Residuals:\n",
            "    Min      1Q  Median      3Q     Max \n",
            "-38.509 -20.515  -0.889  19.379  48.520 \n",
            "\n",
            "Coefficients:\n",
            "                         Estimate Std. Error t value Pr(>|t|)    \n",
            "(Intercept)             -1.031036   7.115317  -0.145    0.886    \n",
            "poly(x, 4, raw = TRUE)1 -1.093134   1.604723  -0.681    0.500    \n",
            "poly(x, 4, raw = TRUE)2  3.120296   0.425970   7.325 1.24e-08 ***\n",
            "poly(x, 4, raw = TRUE)3 -1.994974   0.023373 -85.353  < 2e-16 ***\n",
            "poly(x, 4, raw = TRUE)4  1.000621   0.004547 220.085  < 2e-16 ***\n",
            "---\n",
            "Signif. codes:  0 ‘***’ 0.001 ‘**’ 0.01 ‘*’ 0.05 ‘.’ 0.1 ‘ ’ 1\n",
            "\n",
            "Residual standard error: 24.26 on 36 degrees of freedom\n",
            "Multiple R-squared:  0.9999,\tAdjusted R-squared:  0.9999 \n",
            "F-statistic: 1.71e+05 on 4 and 36 DF,  p-value: < 2.2e-16\n",
            "\n"
          ]
        }
      ]
    },
    {
      "cell_type": "code",
      "source": [
        "%%R\n",
        "# Fit quintic model\n",
        "quintic_model <- lm(y_quintic ~ poly(x, 5, raw = TRUE))\n",
        "print(summary(quintic_model))"
      ],
      "metadata": {
        "colab": {
          "base_uri": "https://localhost:8080/"
        },
        "id": "WI3SZYjWZR4_",
        "outputId": "5bdc529c-720f-40d1-bdb2-2d755eecd6b5"
      },
      "execution_count": 18,
      "outputs": [
        {
          "output_type": "stream",
          "name": "stdout",
          "text": [
            "\n",
            "Call:\n",
            "lm(formula = y_quintic ~ poly(x, 5, raw = TRUE))\n",
            "\n",
            "Residuals:\n",
            "    Min      1Q  Median      3Q     Max \n",
            "-33.836 -15.849  -2.706   8.543  50.736 \n",
            "\n",
            "Coefficients:\n",
            "                          Estimate Std. Error  t value Pr(>|t|)    \n",
            "(Intercept)              3.4408482  6.8739071    0.501    0.620    \n",
            "poly(x, 5, raw = TRUE)1  0.7998401  2.7219785    0.294    0.771    \n",
            "poly(x, 5, raw = TRUE)2 -3.7901630  0.4115174   -9.210 6.97e-11 ***\n",
            "poly(x, 5, raw = TRUE)3  2.9985796  0.1023962   29.284  < 2e-16 ***\n",
            "poly(x, 5, raw = TRUE)4 -1.0016025  0.0043923 -228.038  < 2e-16 ***\n",
            "poly(x, 5, raw = TRUE)5  2.0000689  0.0008591 2327.977  < 2e-16 ***\n",
            "---\n",
            "Signif. codes:  0 ‘***’ 0.001 ‘**’ 0.01 ‘*’ 0.05 ‘.’ 0.1 ‘ ’ 1\n",
            "\n",
            "Residual standard error: 23.44 on 35 degrees of freedom\n",
            "Multiple R-squared:      1,\tAdjusted R-squared:      1 \n",
            "F-statistic: 7.129e+07 on 5 and 35 DF,  p-value: < 2.2e-16\n",
            "\n"
          ]
        }
      ]
    },
    {
      "cell_type": "markdown",
      "source": [
        "### Visualize the Results"
      ],
      "metadata": {
        "id": "I8dFM0UCCpWO"
      }
    },
    {
      "cell_type": "code",
      "source": [
        "%%R\n",
        "# Plot the results\n",
        "plot_data <- data.frame(x = x, y_linear = y_linear, y_quadratic = y_quadratic, y_cubic = y_cubic, y_quartic = y_quartic, y_quintic = y_quintic)\n",
        "\n",
        "p1<-ggplot(plot_data, aes(x = x)) +\n",
        "  geom_point(aes(y = y_linear), color = 'blue') +\n",
        "  geom_line(aes(y = predict(linear_model)), color = 'blue') +\n",
        "  ggtitle('Linear Model') +\n",
        "  theme_minimal()\n",
        "\n",
        "p2<-ggplot(plot_data, aes(x = x)) +\n",
        "  geom_point(aes(y = y_quadratic), color = 'red') +\n",
        "  geom_line(aes(y = predict(quadratic_model)), color = 'red') +\n",
        "  ggtitle('Quadratic Model') +\n",
        "  theme_minimal()\n",
        "\n",
        "p3<-ggplot(plot_data, aes(x = x)) +\n",
        "  geom_point(aes(y = y_cubic), color = 'green') +\n",
        "  geom_line(aes(y = predict(cubic_model)), color = 'green') +\n",
        "  ggtitle('Cubic Model') +\n",
        "  theme_minimal()\n",
        "\n",
        "p4<-ggplot(plot_data, aes(x = x)) +\n",
        "  geom_point(aes(y = y_quartic), color = 'purple') +\n",
        "  geom_line(aes(y = predict(quartic_model)), color = 'purple') +\n",
        "  ggtitle('Quartic Model') +\n",
        "  theme_minimal()\n",
        "\n",
        "p5<-ggplot(plot_data, aes(x = x)) +\n",
        "  geom_point(aes(y = y_quintic), color = 'orange') +\n",
        "  geom_line(aes(y = predict(quintic_model)), color = 'orange') +\n",
        "  ggtitle('Quintic Model') +\n",
        "  theme_minimal()"
      ],
      "metadata": {
        "id": "MmtJFmCMCpig"
      },
      "execution_count": 19,
      "outputs": []
    },
    {
      "cell_type": "code",
      "source": [
        "%%R -w 1000 -h 800 -u px\n",
        "#| fig.width: 10\n",
        "#| fig.height: 8\n",
        "library(patchwork)\n",
        "(p2 + p3) / (p4 + p5)"
      ],
      "metadata": {
        "colab": {
          "base_uri": "https://localhost:8080/",
          "height": 817
        },
        "id": "eCYKFDqAXtU4",
        "outputId": "42223674-ce7d-46b0-e33b-30b6b9a450e0"
      },
      "execution_count": 21,
      "outputs": [
        {
          "output_type": "display_data",
          "data": {
            "image/png": "[encoded data removed]"
          },
          "metadata": {}
        }
      ]
    },
    {
      "cell_type": "markdown",
      "source": [
        "\n",
        "## Summary and Conclusions\n",
        "\n",
        "Polynomial models are versatile tools for modeling a wide range of relationships. By choosing the appropriate degree and considering the number of variables, polynomial models can capture complex patterns and provide valuable insights in various fields. When fitting polynomial models, it is essential to consider the trade-off between model complexity and overfitting. By evaluating the model's performance and selecting the best-fitting polynomial, researchers and analysts can gain deeper insights into the underlying relationships in the data. Polynomial models are widely used in statistics, machine learning, physics, economics, and other disciplines to model nonlinear relationships and make predictions based on the data. This tutorial has provided an overview of polynomial models, their applications, and how to fit different types of polynomial models in R.\n"
      ],
      "metadata": {
        "id": "nBHEkDLaG47z"
      }
    },
    {
      "cell_type": "markdown",
      "source": [
        "## References\n",
        "\n",
        "Here are some useful resources related to polynomial models and polynomial regression tutorials:\n",
        "\n",
        "### Polynomial Model Resources\n",
        "\n",
        "1. [Modeling with Polynomials—An Introduction](https://www.insidemathematics.org/sites/default/files/assets/classroom-videos/public-lessons/11th-12th-grade-algebra-ii-modeling-polynomials/11th_12th_grade_algebra_ii_modeling_polynomials_an_introduction_teacher.pdf) - Inside Mathematics\n",
        "2. [Modeling with Polynomial Functions](https://static.bigideasmath.com/protected/content/ipe/fl23/fl23_algebra2_ipe_04_08.pdf) - Big Ideas Learning\n",
        "3. [Modeling with Polynomial Functions](https://math.libretexts.org/Bookshelves/Precalculus/Active_Prelude_to_Calculus_(Boelkins)/05%3A_Polynomial_and_Rational_Functions/5.03%3A_Modeling_with_polynomial_functions) - Mathematics LibreTexts\n",
        "4. [Modeling with Polynomial Functions](https://flexbooks.ck12.org/cbook/ck-12-interactive-algebra-2-for-ccss-2nd-edition/section/4.6/primary/lesson/4.6-modeling-with-polynomial-functions/?assignment=4334) - CK-12 Interactive Algebra 2\n",
        "\n",
        "### Polynomial Regression Tutorials\n",
        "1. [An Introduction to Polynomial Regression](https://www.statology.org/polynomial-regression/) - Statology\n",
        "2. [Implementation of Polynomial Regression](https://www.geeksforgeeks.org/python-implementation-of-polynomial-regression/) - GeeksforGeeks\n",
        "3. [Polynomial Regression in Machine Learning](https://www.tutorialspoint.com/machine_learning/machine_learning_polynomial_regression.htm) - Online Tutorials Library\n",
        "4. [Polynomial Regression with Examples in Machine Learning](https://learnetutorials.com/machine-learning/polynomial-regression) - Learn eTutorials\n",
        "5. [Multiple Linear Regression and Polynomial Regression](https://compneuro.neuromatch.io/tutorials/W1D2_ModelFitting/student/W1D2_Tutorial4.html) - Neuromatch Tutorials\n",
        "\n"
      ],
      "metadata": {
        "id": "bLeAMiRQG59v"
      }
    }
  ]
}