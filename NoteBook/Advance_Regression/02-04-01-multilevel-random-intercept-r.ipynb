{
  "nbformat": 4,
  "nbformat_minor": 0,
  "metadata": {
    "colab": {
      "provenance": [],
      "toc_visible": true,
      "authorship_tag": "ABX9TyN4T1cGtHyVsgS3Ouu6Dqh7",
      "include_colab_link": true
    },
    "kernelspec": {
      "name": "python3",
      "display_name": "Python 3"
    },
    "language_info": {
      "name": "python"
    }
  },
  "cells": [
    {
      "cell_type": "markdown",
      "metadata": {
        "id": "view-in-github",
        "colab_type": "text"
      },
      "source": [
        "<a href=\"https://colab.research.google.com/github/zia207/r-colab/blob/main/NoteBook/Advance_Regression/02-04-01-multilevel-random-intercept-r.ipynb\" target=\"_parent\"><img src=\"https://colab.research.google.com/assets/colab-badge.svg\" alt=\"Open In Colab\"/></a>"
      ]
    },
    {
      "cell_type": "markdown",
      "source": [
        "![alt text](http://drive.google.com/uc?export=view&id=1bLQ3nhDbZrCCqy_WCxxckOne2lgVvn3l)"
      ],
      "metadata": {
        "id": "4qrItz_mJNWw"
      }
    },
    {
      "cell_type": "markdown",
      "source": [
        "# 1. Random Intercept Model\n",
        "\n",
        "Mixed-effects models, particularly Random Intercept Models, are vital for analyzing hierarchical data, like students in classes. This tutorial covers 1. **Understanding Random Intercept Models**: Definitions, uses, and contexts. 2. **Model Construction**: Building from basic principles. 3. **Fitting in R**: Using {lme4} and {nlme} packages. 4. **Interpreting Results**: Analyzing outputs and fit metrics. By the end, you'll confidently apply and interpret Random Intercept Models.\n"
      ],
      "metadata": {
        "id": "Dzp9ZseROTcY"
      }
    },
    {
      "cell_type": "markdown",
      "source": [
        "## Overview\n",
        "\n",
        "**random intercept model** is a type of **mixed-effects model** where the intercept (baseline level) of the outcome variable is allowed to vary across groups, while the slope (relationship between the predictors and outcome) remains constant across groups.\n",
        "\n",
        "For an observation $y_{ij}$, where $i$ indexes the group (e.g., schools) and $j$ indexes the individual (e.g., students within a school):\n",
        "\n",
        "$$ y_{ij} = \\beta_0 + \\beta_1 x_{ij} + u_i + \\epsilon_{ij} $$\n",
        "\n",
        "Where:\n",
        "\n",
        "-   $y_{ij}$: Outcome for the $j$-th individual in the $i$-th group.\n",
        "\n",
        "-   $\\beta_0$: Fixed intercept (average baseline outcome across all groups).\n",
        "\n",
        "-   $\\beta_1$: Fixed slope (effect of predictor $x$ on $y$).\n",
        "\n",
        "-   $x_{ij}$: Predictor variable for the $j$-th individual in the $i$-th group.\n",
        "\n",
        "-   $u_i$: **Random intercept**, representing the deviation of the $i$-th group’s intercept from the overall average $\\beta_0$. Assumed to follow $u_i \\sim N(0, \\sigma_u^2)$.\n",
        "\n",
        "-   $\\epsilon_{ij}$: Residual error for the $j$-th individual in the $i$-th group. Assumed to follow $\\epsilon_{ij} \\sim N(0, \\sigma_\\epsilon^2)$."
      ],
      "metadata": {
        "id": "TpcIOkTs30qp"
      }
    },
    {
      "cell_type": "markdown",
      "source": [
        "### Key Features\n",
        "\n",
        "1.  **Intercept Varies by Group**:\n",
        "\n",
        "    -   Each group $i$ has its own intercept:\n",
        "\n",
        "        $$  \\beta_0^i = \\beta_0 + u_i $$\n",
        "\n",
        "    $u_i$ is the random effect for group $i$, capturing group-specific deviations.\n",
        "\n",
        "2.  **Slope Remains Constant**:\n",
        "\n",
        "    -   The relationship between $x_{ij}$ and $y_{ij}$(slope $\\beta_1$) is the same across all groups.\n",
        "\n",
        "3.  **Variance Decomposition**:\n",
        "\n",
        "    -   Total variance is partitioned into:\n",
        "\n",
        "        -   **Between-group variance**: Variance of the random intercepts (\\$ \\sigma\\_u\\^2\\$).\n",
        "        -   **Within-group variance**: Variance of residuals ($\\sigma_\\epsilon^2$)."
      ],
      "metadata": {
        "id": "pd94OkviDzTO"
      }
    },
    {
      "cell_type": "markdown",
      "source": [
        "### Example\n",
        "\n",
        "We want to model students' test scores $y$ as a function of their study hours $x$, accounting for differences between schools.\n",
        "\n",
        "$$ y_{ij} = \\beta_0 + \\beta_1 x_{ij} + u_i + \\epsilon_{ij} $$\n",
        "\n",
        "-   $\\beta_0$: Average baseline test score across all schools.\n",
        "\n",
        "-   $u_i$: Random intercept capturing school-specific effects.\n",
        "\n",
        "-   $epsilon_{ij}$: Student-level random noise.\n",
        "\n",
        "#### Estimation\n",
        "\n",
        "1.  **Fixed Effects**:\n",
        "\n",
        "    -   $\\beta_0$: Average baseline score for all schools.\n",
        "\n",
        "    -   $\\beta_1$: Average effect of study hours on test scores (slope).\n",
        "\n",
        "2.  **Random Effects**:\n",
        "\n",
        "    -   $u_i$: Captures the deviation of each school's baseline score from the overall average $\\beta_0$.\n",
        "\n",
        "    -   For example:\n",
        "\n",
        "        -   School A might have a $u_i > 0$ (higher baseline scores).\n",
        "\n",
        "        -   School B might have a $u_i < 0$ (lower baseline scores).\n",
        "\n",
        "#### Intraclass Correlation Coefficient (ICC)\n",
        "\n",
        "The ICC measures the proportion of variance explained by the grouping structure (e.g., schools):\n",
        "\n",
        "$$ \\text{ICC} = \\frac{\\sigma_u^2}{\\sigma_u^2 + \\sigma_\\epsilon^2} $$\n",
        "\n",
        "-   High ICC ($\\text{ICC} \\approx 1 $): Large between-group variability (schools strongly affect scores).\n",
        "\n",
        "-   Low ICC ($\\text{ICC} \\approx 0 $): Most variability is at the individual level."
      ],
      "metadata": {
        "id": "hCo7AvNrD0El"
      }
    },
    {
      "cell_type": "markdown",
      "source": [
        "## Install rpy2"
      ],
      "metadata": {
        "id": "SDp3ULld8Gb9"
      }
    },
    {
      "cell_type": "code",
      "source": [
        "!pip uninstall rpy2 -y\n",
        "!pip install rpy2==3.5.1\n",
        "%load_ext rpy2.ipython"
      ],
      "metadata": {
        "id": "CiM6y-Mw8AJp",
        "colab": {
          "base_uri": "https://localhost:8080/"
        },
        "outputId": "54956f6e-e5ee-479f-a7ad-56548a9391fb"
      },
      "execution_count": 1,
      "outputs": [
        {
          "output_type": "stream",
          "name": "stdout",
          "text": [
            "Found existing installation: rpy2 3.4.2\n",
            "Uninstalling rpy2-3.4.2:\n",
            "  Successfully uninstalled rpy2-3.4.2\n",
            "Collecting rpy2==3.5.1\n",
            "  Downloading rpy2-3.5.1.tar.gz (201 kB)\n",
            "\u001b[2K     \u001b[90m━━━━━━━━━━━━━━━━━━━━━━━━━━━━━━━━━━━━━━━━\u001b[0m \u001b[32m201.7/201.7 kB\u001b[0m \u001b[31m6.3 MB/s\u001b[0m eta \u001b[36m0:00:00\u001b[0m\n",
            "\u001b[?25h  Preparing metadata (setup.py) ... \u001b[?25l\u001b[?25hdone\n",
            "Requirement already satisfied: cffi>=1.10.0 in /usr/local/lib/python3.11/dist-packages (from rpy2==3.5.1) (1.17.1)\n",
            "Requirement already satisfied: jinja2 in /usr/local/lib/python3.11/dist-packages (from rpy2==3.5.1) (3.1.5)\n",
            "Requirement already satisfied: pytz in /usr/local/lib/python3.11/dist-packages (from rpy2==3.5.1) (2025.1)\n",
            "Requirement already satisfied: tzlocal in /usr/local/lib/python3.11/dist-packages (from rpy2==3.5.1) (5.3)\n",
            "Requirement already satisfied: pycparser in /usr/local/lib/python3.11/dist-packages (from cffi>=1.10.0->rpy2==3.5.1) (2.22)\n",
            "Requirement already satisfied: MarkupSafe>=2.0 in /usr/local/lib/python3.11/dist-packages (from jinja2->rpy2==3.5.1) (3.0.2)\n",
            "Building wheels for collected packages: rpy2\n",
            "  Building wheel for rpy2 (setup.py) ... \u001b[?25l\u001b[?25hdone\n",
            "  Created wheel for rpy2: filename=rpy2-3.5.1-cp311-cp311-linux_x86_64.whl size=314975 sha256=eabc1ce4ff8c085dc6fe4990750ac0904037ba455fe5ff8fbbe5177a4d00f5eb\n",
            "  Stored in directory: /root/.cache/pip/wheels/e9/55/d1/47be85a5f3f1e1f4d1e91cb5e3a4dcb40dd72147f184c5a5ef\n",
            "Successfully built rpy2\n",
            "Installing collected packages: rpy2\n",
            "Successfully installed rpy2-3.5.1\n"
          ]
        }
      ]
    },
    {
      "cell_type": "markdown",
      "source": [
        "## Mount Google Drive"
      ],
      "metadata": {
        "id": "O1zeuaCowiBt"
      }
    },
    {
      "cell_type": "code",
      "source": [
        "from google.colab import drive\n",
        "drive.mount('/content/drive')"
      ],
      "metadata": {
        "colab": {
          "base_uri": "https://localhost:8080/"
        },
        "id": "9J-4ie4bwiJ1",
        "outputId": "8c9e6670-472a-476a-c5a4-e4945234afee"
      },
      "execution_count": 2,
      "outputs": [
        {
          "output_type": "stream",
          "name": "stdout",
          "text": [
            "Mounted at /content/drive\n"
          ]
        }
      ]
    },
    {
      "cell_type": "markdown",
      "source": [
        "## Random Intercept Model from Scratch\n",
        "\n",
        "To fit a Random Intercept Model in R from scratch without relying on any external R packages, you need to manually calculate the model parameters using Maximum Likelihood Estimation (MLE) or some iterative process like Expectation-Maximization (EM). Here's how you could do it:"
      ],
      "metadata": {
        "id": "UdMcXPIF4Bly"
      }
    },
    {
      "cell_type": "markdown",
      "source": [
        "### Simulate the data\n",
        "\n",
        "First we create  dataset with variables `score`, `hours`, and `school`. `score` is the outcome variable, `hours` is the predictor, and `school` is the grouping variable. We also generate random effects for each school and fixed effects for the intercept and hours."
      ],
      "metadata": {
        "id": "ztl1QBDb4MYe"
      }
    },
    {
      "cell_type": "code",
      "source": [
        "%%R\n",
        "# Step 1: Simulate Data\n",
        "set.seed(42)\n",
        "n_schools <- 10    # Number of schools\n",
        "n_students <- 50   # Students per school\n",
        "\n",
        "# Random effects\n",
        "schools <- rep(1:n_schools, each = n_students)\n",
        "u <- rnorm(n_schools, mean = 0, sd = 5)  # Random intercept for schools\n",
        "\n",
        "# Fixed effects\n",
        "beta_0 <- 50     # Intercept\n",
        "beta_1 <- 2      # Coefficient for hours\n",
        "hours <- rnorm(n_schools * n_students, mean = 5, sd = 2)\n",
        "\n",
        "# Residual error\n",
        "epsilon <- rnorm(n_schools * n_students, mean = 0, sd = 3)\n",
        "\n",
        "# Outcome variable\n",
        "score <- beta_0 + beta_1 * hours + u[schools] + epsilon"
      ],
      "metadata": {
        "id": "q82MNCn64Q0w"
      },
      "execution_count": 3,
      "outputs": []
    },
    {
      "cell_type": "markdown",
      "source": [
        "### Define the REML Log-Likelihood Function\n",
        "\n",
        "The log-likelihood function calculates the negative log-likelihood of the model parameters given the data. Here, we use a block-diagonal approach to handle the school-specific random effects efficiently. `Cholesky Decomposition` is used to compute the log-determinant of the block covariance matrices to avoids directly computing $det(V)$, which can be numerically unstable.\n",
        "\n",
        "The total variance-covariance matrix $V$ is block-diagonal because observations are grouped by schools. Each block $V_k$ for school $k$ has the form:\n",
        "\n",
        "$$ V_k = \\sigma_u^2 J_k + \\sigma_e^2 I_k $$\n",
        "\n",
        "where:\n",
        "\n",
        "-   $J_k$: matrix of ones ($n_k \\times n_k$),\n",
        "-   $I_k$: identity matrix ($n_k \\times n_k$),\n",
        "-   $\\sigma_u^2$: variance of random intercepts,\n",
        "-   $\\sigma_e^2$: residual variance.\n",
        "\n",
        "For $n_k$ students in school $k$, $V_k$ is a $n_k \\times n_k$ matrix that captures the correlation structure due to the random intercept.\n",
        "\n",
        "-   The block-diagonal structure of $V$ ensures that:\n",
        "\n",
        "    -   **Matrix inversion** and **determinant computation** are done for smaller blocks ($V_k$) instead of the full $V$, reducing computational complexity.\n",
        "    -   For $n_schools$ blocks and average block size $n_k$, complexity scales as $O(n_schools \\cdot n_k^3)$ instead of $O(n^3)$ for the full matrix.\n",
        "\n",
        "The log-likelihood for the multivariate normal distribution of residuals is:\n",
        "\n",
        "$$ \\ell = -\\frac{1}{2} \\left[ \\log(\\det(V)) + \\mathbf{r}^\\top V^{-1} \\mathbf{r} \\right] $$\n",
        "\n",
        "where:\n",
        "\n",
        "-   $\\mathbf{r} = \\mathbf{y} - \\mathbf{X} \\boldsymbol{\\beta}$ is the vector of residuals,\n",
        "-   $\\boldsymbol{\\beta} = [\\beta_0, \\beta_1]^\\top$,\n",
        "-   $\\mathbf{X}$: design matrix ($n \\times 2$) with columns of ones and $x_{ij}$,\n",
        "-   ( V ): block-diagonal variance-covariance matrix.\n",
        "\n",
        "Since $V$ is block-diagonal, we can compute $\\log(\\det(V))$ and $\\mathbf{r}^\\top V^{-1} \\mathbf{r}$ efficiently for each block $V_k$ independently.\n",
        "\n",
        "Following are the steps to implement the log-likelihood function:\n"
      ],
      "metadata": {
        "id": "4BpOoaj34eBU"
      }
    },
    {
      "cell_type": "code",
      "source": [
        "%%R\n",
        "# Step 2: Define the REML log-likelihood function (block-diagonal version)\n",
        "reml_loglik <- function(params) {\n",
        "  # Ensure positivity with exponential transform\n",
        "  sigma_u <- exp(params[1])  # Random intercept variance\n",
        "  sigma_e <- exp(params[2])  # Residual variance\n",
        "  beta_0 <- params[3]        # Fixed intercept\n",
        "  beta_1 <- params[4]        # Fixed slope\n",
        "\n",
        "  # Design matrix and fixed effects\n",
        "  X <- cbind(1, hours)\n",
        "  beta <- c(beta_0, beta_1)\n",
        "  residuals <- score - X %*% beta\n",
        "\n",
        "  # Initialize log-likelihood components\n",
        "  log_det_sum <- 0\n",
        "  quad_form_sum <- 0\n",
        "\n",
        "  # Loop through schools to process blocks\n",
        "  for (k in 1:n_schools) {\n",
        "    # Get data for school k\n",
        "    idx <- (1:n_students) + (k - 1) * n_students\n",
        "    n_k <- length(idx)\n",
        "    residuals_k <- residuals[idx]\n",
        "\n",
        "    # Block covariance matrix for school k\n",
        "    J_k <- matrix(1, n_k, n_k)  # All-ones matrix\n",
        "    I_k <- diag(n_k)            # Identity matrix\n",
        "    V_k <- sigma_u^2 * J_k + sigma_e^2 * I_k\n",
        "\n",
        "    # Compute log-determinant using Cholesky\n",
        "    chol_decomp <- tryCatch(chol(V_k), error = function(e) NULL)\n",
        "    if (is.null(chol_decomp)) {\n",
        "      cat(\"Cholesky decomposition failed for school\", k, \"sigma_u =\", sigma_u, \"sigma_e =\", sigma_e, \"\\n\")\n",
        "      return(Inf)\n",
        "    }\n",
        "    log_det_V_k <- 2 * sum(log(diag(chol_decomp)))\n",
        "\n",
        "    # Compute quadratic form\n",
        "    quad_form_k <- t(residuals_k) %*% solve(V_k, residuals_k)\n",
        "\n",
        "    # Accumulate results\n",
        "    log_det_sum <- log_det_sum + log_det_V_k\n",
        "    quad_form_sum <- quad_form_sum + quad_form_k\n",
        "  }\n",
        "\n",
        "  # Log-likelihood\n",
        "  ll <- -0.5 * (log_det_sum + quad_form_sum)\n",
        "\n",
        "  # Penalize non-finite likelihood\n",
        "  if (!is.finite(ll)) {\n",
        "    cat(\"Non-finite likelihood: sigma_u =\", sigma_u, \"sigma_e =\", sigma_e, \"\\n\")\n",
        "    return(Inf)\n",
        "  }\n",
        "\n",
        "  return(as.numeric(-ll)) # Minimization\n",
        "}\n",
        "\n"
      ],
      "metadata": {
        "id": "soSBO_2B4qVv"
      },
      "execution_count": 4,
      "outputs": []
    },
    {
      "cell_type": "markdown",
      "source": [
        "### Optimization with Bounds\n",
        "\n",
        "Optimization is performed using the `optim()` function with bounds on the parameters to ensure positivity. We log-transform the variance components to ensure they remain positive during optimization. The method `L-BFGS-B` is used for optimization. The initial guesses and bounds are set for the parameters.     \n",
        "\n"
      ],
      "metadata": {
        "id": "OVC5oBZg63NU"
      }
    },
    {
      "cell_type": "code",
      "source": [
        "%%R\n",
        "# Step 3: Optimization with bounds\n",
        "initial_params <- c(log(1), log(1), 50, 2) # Log-transformed initial guesses\n",
        "lower_bounds <- c(log(1e-6), log(1e-6), -Inf, -Inf) # Avoid zero variance\n",
        "upper_bounds <- c(log(1e3), log(1e3), Inf, Inf)\n",
        "\n",
        "result <- optim(initial_params, reml_loglik, method = \"L-BFGS-B\",\n",
        "                lower = lower_bounds, upper = upper_bounds, control = list(maxit = 1000))\n",
        "\n",
        "# Transform back to original scale\n",
        "sigma_u_est <- exp(result$par[1])\n",
        "sigma_e_est <- exp(result$par[2])\n",
        "beta_0_est <- result$par[3]\n",
        "beta_1_est <- result$par[4]\n"
      ],
      "metadata": {
        "id": "KXkM1n8lBMhO"
      },
      "execution_count": 5,
      "outputs": []
    },
    {
      "cell_type": "markdown",
      "source": [
        "### Summary of Model Parameters\n",
        "\n",
        "Finally, we summarize the fixed effects and variance components estimated by the model."
      ],
      "metadata": {
        "id": "-JuTDU0fBTIX"
      }
    },
    {
      "cell_type": "code",
      "source": [
        "%%R\n",
        "# Step 4: Model Summary\n",
        "cat(\"Random Intercept Model Summary:\\n\")\n",
        "cat(\"Fixed Effects:\\n\")\n",
        "cat(sprintf(\"Intercept: %.3f\\n\", beta_0_est))\n",
        "cat(sprintf(\"Slope (hours): %.3f\\n\", beta_1_est))\n",
        "cat(\"\\nVariance Components:\\n\")\n",
        "cat(sprintf(\"Random intercept variance (sigma_u^2): %.3f\\n\",  sigma_u_est^2))\n",
        "cat(sprintf(\"Residual variance (sigma_e^2): %.3f\\n\", sigma_e_est^2))"
      ],
      "metadata": {
        "id": "8mioZdwbBT_S",
        "colab": {
          "base_uri": "https://localhost:8080/"
        },
        "outputId": "475470f5-ff17-4405-ff0a-ced7e736e86e"
      },
      "execution_count": 6,
      "outputs": [
        {
          "output_type": "stream",
          "name": "stdout",
          "text": [
            "Random Intercept Model Summary:\n",
            "Fixed Effects:\n",
            "Intercept: 52.551\n",
            "Slope (hours): 2.026\n",
            "\n",
            "Variance Components:\n",
            "Random intercept variance (sigma_u^2): 15.521\n",
            "Residual variance (sigma_e^2): 9.746\n"
          ]
        }
      ]
    },
    {
      "cell_type": "markdown",
      "source": [
        "## Random Intercept Model in R\n",
        "\n",
        "We will fit the Random Intercept Model using the {lme4} and {nlme} packages in R. These packages provide convenient functions to fit mixed-effects models with random intercepts and slopes."
      ],
      "metadata": {
        "id": "90C3xCiGBa3q"
      }
    },
    {
      "cell_type": "markdown",
      "source": [
        "### Install Required R Packages\n",
        "\n",
        "Following R packages are required to run this notebook. If any of these packages are not installed, you can install them using the code below:\n",
        "\n",
        "\n"
      ],
      "metadata": {
        "id": "9T5ojBgKBv5p"
      }
    },
    {
      "cell_type": "code",
      "source": [
        "%%R\n",
        "packages <- c('tidyverse',\n",
        "              'ggeffects',\n",
        "              'lme4',\n",
        "              'nlme',\n",
        "              'lmerTest',\n",
        "              'sjPlot',\n",
        "              'margins',\n",
        "              'report',\n",
        "              'performance',\n",
        "              'MLmetrics'\n",
        "\t\t )"
      ],
      "metadata": {
        "id": "4ERkgB8gByVX"
      },
      "execution_count": 32,
      "outputs": []
    },
    {
      "cell_type": "code",
      "source": [
        "%%R\n",
        "# Install missing packages\n",
        "new.packages <- packages[!(packages %in% installed.packages(lib='drive/My Drive/R/')[,\"Package\"])]\n",
        "if(length(new.packages)) install.packages(new.packages, lib='drive/My Drive/R/')"
      ],
      "metadata": {
        "id": "J3nWFZpl-sr-"
      },
      "execution_count": null,
      "outputs": []
    },
    {
      "cell_type": "code",
      "source": [
        "%%R\n",
        "# set library path\n",
        ".libPaths('drive/My Drive/R')\n",
        "# Verify installation\n",
        "cat(\"Installed packages:\\n\")\n",
        "print(sapply(packages, requireNamespace, quietly = TRUE))"
      ],
      "metadata": {
        "colab": {
          "base_uri": "https://localhost:8080/"
        },
        "id": "-jv6EE7Z-sx-",
        "outputId": "4a310b8c-3a61-4abb-ca5b-23e79b1fed0f"
      },
      "execution_count": 33,
      "outputs": [
        {
          "output_type": "stream",
          "name": "stdout",
          "text": [
            "Installed packages:\n",
            "  tidyverse   ggeffects        lme4        nlme    lmerTest      sjPlot \n",
            "       TRUE        TRUE        TRUE        TRUE        TRUE        TRUE \n",
            "    margins      report performance   MLmetrics \n",
            "       TRUE        TRUE        TRUE        TRUE \n"
          ]
        }
      ]
    },
    {
      "cell_type": "markdown",
      "source": [
        "### Load R Packages"
      ],
      "metadata": {
        "id": "MV7R29xfyWQz"
      }
    },
    {
      "cell_type": "code",
      "source": [
        "%%R\n",
        "# set library path\n",
        ".libPaths('drive/My Drive/R')\n",
        "# Load packages with suppressed messages\n",
        "invisible(lapply(packages, function(pkg) {\n",
        "  suppressPackageStartupMessages(library(pkg, character.only = TRUE))\n",
        "}))\n",
        "# Check loaded packages\n",
        "cat(\"Successfully loaded packages:\\n\")\n",
        "print(search()[grepl(\"package:\", search())])# Check loaded packages\n"
      ],
      "metadata": {
        "id": "232jNAHBykUL",
        "colab": {
          "base_uri": "https://localhost:8080/"
        },
        "outputId": "df4b3b82-4107-4262-9de5-edcd86cab946"
      },
      "execution_count": 34,
      "outputs": [
        {
          "output_type": "stream",
          "name": "stdout",
          "text": [
            "Successfully loaded packages:\n",
            " [1] \"package:MLmetrics\"   \"package:performance\" \"package:report\"     \n",
            " [4] \"package:margins\"     \"package:sjPlot\"      \"package:lmerTest\"   \n",
            " [7] \"package:nlme\"        \"package:lme4\"        \"package:Matrix\"     \n",
            "[10] \"package:ggeffects\"   \"package:lubridate\"   \"package:forcats\"    \n",
            "[13] \"package:stringr\"     \"package:dplyr\"       \"package:purrr\"      \n",
            "[16] \"package:readr\"       \"package:tidyr\"       \"package:tibble\"     \n",
            "[19] \"package:ggplot2\"     \"package:tidyverse\"   \"package:tools\"      \n",
            "[22] \"package:stats\"       \"package:graphics\"    \"package:grDevices\"  \n",
            "[25] \"package:utils\"       \"package:datasets\"    \"package:methods\"    \n",
            "[28] \"package:base\"       \n"
          ]
        }
      ]
    },
    {
      "cell_type": "markdown",
      "source": [
        "### Data\n",
        "\n",
        "In this exercise, we will use the `Wheat yield` dataset that has been used in our publication entitled [Untangling crop management and environmental influences on wheat yield variability in Bangladesh: An application of non-parametric approaches](https://www.sciencedirect.com/science/article/abs/pii/S0308521X15000748). This paper assessed three non-parametric methods, including linear mixed effect models and two recursive partitioning approaches, for their effectiveness in explaining wheat yield variability in 422 wheat ﬁelds in six distinct production environments in southern Bangladesh. Full data set is available for download can download from my [Dropbox](https://www.dropbox.com/scl/fi/3pr2zhruchmivvzf1zhzj/wheat_data_bd.csv?rlkey=pwuijpojb4ax7g8o55wf3n8bx&dl=0) or from my [Github](https://github.com/zia207/r-colab/tree/main/Data/Regression_analysis) accounts.\n",
        "\n",
        "The dataset contains several variables, but we will following variables for analysis:\n",
        "\n",
        "`ENV`: Growing environment represents six Upazila in the Southern Bangladesh (1=Barisal, 2=Bhola, 3=Jhalokathi, 4=Patuakhali, 5=Pirojpur, 6=Barguna)\n",
        "\n",
        "`SOWING`: Sowing date of the wheat crop (1=Early, 2=Late)\n",
        "\n",
        "`DAYS`: Wheat sowing Before/after December 15\n",
        "\n",
        "`N_RATE`: Nitrogen rate (kg/ha)\n",
        "\n",
        "`GEN`: Three wheat varieties (BG 25 =BARI Gom 25, BG 26 =BARI Gom 26, BG 27 =BARI Gom 27)\n",
        "\n",
        "`Maturity_days`: Maturity days of the wheat crop\n",
        "\n",
        "`Weeding`: Weeding frequency (1=1 time, 2=2 times, 3=3 times)\n",
        "\n",
        "`Irrigation`: Irrigation frequency (1=1 time, 2=2 times, 3=3 times)\n",
        "\n",
        "`GY`: Grain yield (t/ha) of Wheat\n",
        "\n",
        "We will use `read_csv()` function of {readr} package to import data as a tidy data.\n"
      ],
      "metadata": {
        "id": "rSJqB05rO5ES"
      }
    },
    {
      "cell_type": "code",
      "execution_count": 10,
      "metadata": {
        "colab": {
          "base_uri": "https://localhost:8080/"
        },
        "id": "CFpt_H01OPsa",
        "outputId": "b54665b1-4972-4c72-b931-bf74f77d25e5"
      },
      "outputs": [
        {
          "output_type": "stream",
          "name": "stdout",
          "text": [
            "Rows: 422 Columns: 16\n",
            "── Column specification ────────────────────────────────────────────────────────\n",
            "Delimiter: \",\"\n",
            "chr (9): SEASON, ENV, SOWING, GEN, DATE_SOW, Optimum_date, STY, Weeding_No, ...\n",
            "dbl (7): N_RATE, DAYS, GY, Maturity_days, Weeding, Irrigation, FARMER\n",
            "\n",
            "ℹ Use `spec()` to retrieve the full column specification for this data.\n",
            "ℹ Specify the column types or set `show_col_types = FALSE` to quiet this message.\n",
            "Rows: 422\n",
            "Columns: 16\n",
            "$ SEASON        <chr> \"Rabi 12-13\", \"Rabi 12-13\", \"Rabi 12-13\", \"Rabi 12-13\", …\n",
            "$ ENV           <chr> \"KALAPARA\", \"KALAPARA\", \"KALAPARA\", \"KALAPARA\", \"KALAPAR…\n",
            "$ SOWING        <chr> \"LATE\", \"LATE\", \"LATE\", \"LATE\", \"LATE\", \"LATE\", \"LATE\", …\n",
            "$ GEN           <chr> \"BG 27\", \"BG 25\", \"BG 21\", \"BG 27\", \"BG 25\", \"BG 21\", \"B…\n",
            "$ N_RATE        <dbl> 0, 0, 0, 67, 67, 67, 100, 100, 100, 0, 0, 67, 67, 67, 10…\n",
            "$ DATE_SOW      <chr> \"1/5/2013\", \"1/5/2013\", \"1/5/2013\", \"1/5/2013\", \"1/5/201…\n",
            "$ Optimum_date  <chr> \"12/15/2012\", \"12/15/2012\", \"12/15/2012\", \"12/15/2012\", …\n",
            "$ DAYS          <dbl> 21, 21, 21, 21, 21, 21, 21, 21, 21, 21, 21, 21, 21, 21, …\n",
            "$ GY            <dbl> 0.319, 0.622, 0.737, 0.732, 1.095, 1.348, 1.365, 0.407, …\n",
            "$ STY           <chr> \"0.5699\", \"1.3067\", \"0.987\", \"1.2628\", \"0.251883333\", \"2…\n",
            "$ Maturity_days <dbl> 103, 101, 102, 104, 105, 105, 104, 104, 105, 92, 92, 92,…\n",
            "$ Weeding       <dbl> 1, 1, 1, 1, 1, 1, 1, 1, 1, 1, 1, 1, 1, 1, 1, 1, 1, 1, 1,…\n",
            "$ Weeding_No    <chr> \"1 weeding\", \"1 weeding\", \"1 weeding\", \"1 weeding\", \"1 w…\n",
            "$ Irrigation    <dbl> 2, 2, 2, 2, 2, 2, 2, 2, 2, 2, 2, 2, 2, 2, 2, 2, 1, 1, 1,…\n",
            "$ Irrigation_No <chr> \"2 irrigation\", \"2 irrigation\", \"2 irrigation\", \"2 irrig…\n",
            "$ FARMER        <dbl> 95, 95, 95, 95, 95, 95, 95, 95, 95, 94, 94, 94, 94, 94, …\n"
          ]
        }
      ],
      "source": [
        "%%R\n",
        "# Load the data\n",
        "mf<-readr::read_csv(\"https://github.com/zia207/r-colab/raw/main/Data/Regression_analysis/wheat_data_bd.csv\")|>\n",
        " glimpse()"
      ]
    },
    {
      "cell_type": "markdown",
      "source": [
        "#### Data Processing"
      ],
      "metadata": {
        "id": "I8dFM0UCCpWO"
      }
    },
    {
      "cell_type": "code",
      "source": [
        "%%R\n",
        "df <- mf |>\n",
        "dplyr::select(FARMER, ENV, SOWING, GEN, N_RATE, DAYS, Maturity_days, Weeding, Irrigation, GY )\n",
        "head(df)"
      ],
      "metadata": {
        "colab": {
          "base_uri": "https://localhost:8080/"
        },
        "id": "MmtJFmCMCpig",
        "outputId": "1d3c6fe1-3c16-4095-ce7e-79b4793e1aa6"
      },
      "execution_count": 11,
      "outputs": [
        {
          "output_type": "stream",
          "name": "stdout",
          "text": [
            "# A tibble: 6 × 10\n",
            "  FARMER ENV    SOWING GEN   N_RATE  DAYS Maturity_days Weeding Irrigation    GY\n",
            "   <dbl> <chr>  <chr>  <chr>  <dbl> <dbl>         <dbl>   <dbl>      <dbl> <dbl>\n",
            "1     95 KALAP… LATE   BG 27      0    21           103       1          2 0.319\n",
            "2     95 KALAP… LATE   BG 25      0    21           101       1          2 0.622\n",
            "3     95 KALAP… LATE   BG 21      0    21           102       1          2 0.737\n",
            "4     95 KALAP… LATE   BG 27     67    21           104       1          2 0.732\n",
            "5     95 KALAP… LATE   BG 25     67    21           105       1          2 1.10 \n",
            "6     95 KALAP… LATE   BG 21     67    21           105       1          2 1.35 \n"
          ]
        }
      ]
    },
    {
      "cell_type": "markdown",
      "source": [
        "#### Convert to Factor"
      ],
      "metadata": {
        "id": "tHjWFoANHzye"
      }
    },
    {
      "cell_type": "code",
      "source": [
        "%%R\n",
        "# Convert to factor\n",
        "df$FARMER<-as.factor(df$FARMER)\n",
        "df$N_RATE=as.factor(df$N_RATE)\n",
        "df$ENV=as.factor(df$ENV)\n",
        "df$SOWING=as.factor(df$SOWING)\n",
        "df$GEN=as.factor(df$GEN)\n",
        "df$Weeding=as.factor(df$Weeding)\n",
        "df$Irrigation=as.factor(df$Irrigation)"
      ],
      "metadata": {
        "id": "_Sk-3LjnH0kY"
      },
      "execution_count": 12,
      "outputs": []
    },
    {
      "cell_type": "markdown",
      "source": [
        "#### Data Exploration"
      ],
      "metadata": {
        "id": "8POJhd3RH94D"
      }
    },
    {
      "cell_type": "code",
      "source": [
        "%%R -w 700 -h 600 -u px\n",
        "\n",
        "cols <- c(\"0\" = \"red\",\"67\" = \"yellow\",\"100\" = \"green\", \"133\" = \"blue\")\n",
        "shap = c(15,17)\n",
        "\n",
        "# ENV Mean\n",
        "\n",
        "p1= ggplot(df, aes(y=GY, x=ENV)) +\n",
        "         geom_point(aes(colour=N_RATE, shape=SOWING),size = I(3.5),\n",
        "         position=position_jitter(width=0.05, height=0.05)) +\n",
        "         geom_boxplot(fill=NA, outlier.colour=NA) +\n",
        "         labs(title=\"Growing Environment\")+\n",
        "         xlab(\"\") + ylab(\"Wheat yield (t/ha)\") +\n",
        "         theme_bw() +\n",
        "            theme(axis.line = element_line(colour = \"black\"),\n",
        "            panel.grid.major = element_blank(),\n",
        "            panel.grid.minor = element_blank(),\n",
        "            panel.background = element_blank(),\n",
        "            axis.text.y=element_text(size=20),\n",
        "            axis.text.x = element_text(size=10)) +\n",
        "     scale_colour_manual(values = cols) +\n",
        "     scale_shape_manual(values = shap)\n",
        "\n",
        "p1"
      ],
      "metadata": {
        "colab": {
          "base_uri": "https://localhost:8080/",
          "height": 617
        },
        "id": "tO4j13t1IAjE",
        "outputId": "48233798-d148-477d-96f7-445d146b1fb7"
      },
      "execution_count": 13,
      "outputs": [
        {
          "output_type": "display_data",
          "data": {
            "image/png": "[encoded data removed]"
          },
          "metadata": {}
        }
      ]
    },
    {
      "cell_type": "code",
      "source": [
        "%%R -w 700 -h 600 -u px\n",
        "# GEN Mean\n",
        "\n",
        "p2= ggplot(df, aes(y=GY, x=GEN)) +\n",
        "         geom_point(aes(colour=N_RATE, shape=SOWING),size = I(3.5),\n",
        "         position=position_jitter(width=0.05, height=0.05)) +\n",
        "         geom_boxplot(fill=NA, outlier.colour=NA) +\n",
        "        labs(title=\"Genotype\")+\n",
        "         xlab(\"\") + ylab(\"Wheat yield (t/ha)\") +\n",
        "         theme_bw() +\n",
        "            theme(axis.line = element_line(colour = \"black\"),\n",
        "            panel.grid.major = element_blank(),\n",
        "            panel.grid.minor = element_blank(),\n",
        "            panel.background = element_blank(),\n",
        "            axis.text.y=element_text(size=20),\n",
        "            axis.text.x = element_text(size=12))+\n",
        "     scale_colour_manual(values = cols) +\n",
        "     scale_shape_manual(values = shap)\n",
        "\n",
        "p2"
      ],
      "metadata": {
        "colab": {
          "base_uri": "https://localhost:8080/",
          "height": 617
        },
        "id": "WTF2ZhKsINZ8",
        "outputId": "d1f27b60-2f19-4a98-901b-db4fa1cd5919"
      },
      "execution_count": 14,
      "outputs": [
        {
          "output_type": "display_data",
          "data": {
            "image/png": "[encoded data removed]"
          },
          "metadata": {}
        }
      ]
    },
    {
      "cell_type": "markdown",
      "source": [
        "### Model Fitting\n",
        "\n",
        "To follow the hierarchical modeling process, we'll fit the models step-by-step using the dataset. The steps will include:\n",
        "\n",
        "-   Intercept-only model: this includes only the random intercept for the grouping variable (`ENV`).\n",
        "-   Mixed effect model: adds all the fixed effects: `GEN`, `DAYS`, `N_RATE` , `Maturity`, `Weeing`and `Irrigation`."
      ],
      "metadata": {
        "id": "xULW9xB8Ifo3"
      }
    },
    {
      "cell_type": "markdown",
      "source": [
        "### Using `lme4` Package"
      ],
      "metadata": {
        "id": "EcqUZt4cC5LI"
      }
    },
    {
      "cell_type": "markdown",
      "source": [
        "#### Intercept-Only Model\n",
        "\n",
        "This model includes only the random intercept for the grouping variable `FARMER`. The syntax `(1 | FARMER)` specifies that we are modeling the random intercept for the grouping variable `FARMER`. We use the `lmer()` function from the {lme4} package to fit the model via `REML` or maximum likelihood estimation.\n",
        "\n"
      ],
      "metadata": {
        "id": "4Z_PXyWFDJ9q"
      }
    },
    {
      "cell_type": "code",
      "source": [
        "%%R\n",
        "# Intercept-only model\n",
        "m_01<- lme4::lmer(GY ~ 1 + (1 | FARMER), data = df)\n",
        "# Summary of the model\n",
        "summary(m_01)"
      ],
      "metadata": {
        "id": "p_eUNGuwDNka",
        "colab": {
          "base_uri": "https://localhost:8080/"
        },
        "outputId": "4be3c5e3-ea11-451d-9724-b25a468e580f"
      },
      "execution_count": 15,
      "outputs": [
        {
          "output_type": "stream",
          "name": "stdout",
          "text": [
            "Linear mixed model fit by REML ['lmerMod']\n",
            "Formula: GY ~ 1 + (1 | FARMER)\n",
            "   Data: df\n",
            "\n",
            "REML criterion at convergence: 1402.1\n",
            "\n",
            "Scaled residuals: \n",
            "    Min      1Q  Median      3Q     Max \n",
            "-2.1431 -0.8755  0.2872  0.7592  1.6306 \n",
            "\n",
            "Random effects:\n",
            " Groups   Name        Variance Std.Dev.\n",
            " FARMER   (Intercept) 0.658    0.8112  \n",
            " Residual             1.339    1.1570  \n",
            "Number of obs: 422, groups:  FARMER, 48\n",
            "\n",
            "Fixed effects:\n",
            "            Estimate Std. Error t value\n",
            "(Intercept)    2.632      0.130   20.25\n"
          ]
        }
      ]
    },
    {
      "cell_type": "markdown",
      "source": [
        "In `lmer` models (from lme4), the `t-statistics` and `p-values` are not directly provided. Instead, you can compute `p-values` using either Satterthwaite's approximation, Kenward-Roger approximation, or parametric bootstrapping.\n",
        "\n",
        "`lmerTest::lmer()` provides p-values for fixed effects using Satterthwaite's approximation for degrees of freedom."
      ],
      "metadata": {
        "id": "ScXpBMBikzr3"
      }
    },
    {
      "cell_type": "code",
      "source": [
        "%%R\n",
        "# Intercept-only model\n",
        "m_01<- lmerTest::lmer(GY ~ 1 + (1|FARMER), data = df)\n",
        "# Summary of the model\n",
        "jtools::summ(m_01)"
      ],
      "metadata": {
        "colab": {
          "base_uri": "https://localhost:8080/"
        },
        "id": "zh1DEtUxDSIl",
        "outputId": "0f12f53c-51c7-4eb3-98a3-9319b6b139ae"
      },
      "execution_count": 16,
      "outputs": [
        {
          "output_type": "stream",
          "name": "stdout",
          "text": [
            "MODEL INFO:\n",
            "Observations: 422\n",
            "Dependent Variable: GY\n",
            "Type: Mixed effects linear regression \n",
            "\n",
            "MODEL FIT:\n",
            "AIC = 1408.10, BIC = 1420.23\n",
            "Pseudo-R² (fixed effects) = 0.00\n",
            "Pseudo-R² (total) = 0.33 \n",
            "\n",
            "FIXED EFFECTS:\n",
            "-------------------------------------------------------\n",
            "                    Est.   S.E.   t val.    d.f.      p\n",
            "----------------- ------ ------ -------- ------- ------\n",
            "(Intercept)         2.63   0.13    20.25   47.03   0.00\n",
            "-------------------------------------------------------\n",
            "\n",
            "p values calculated using Satterthwaite d.f.\n",
            "\n",
            "RANDOM EFFECTS:\n",
            "------------------------------------\n",
            "  Group      Parameter    Std. Dev. \n",
            "---------- ------------- -----------\n",
            "  FARMER    (Intercept)     0.81    \n",
            " Residual                   1.16    \n",
            "------------------------------------\n",
            "\n",
            "Grouping variables:\n",
            "--------------------------\n",
            " Group    # groups   ICC  \n",
            "-------- ---------- ------\n",
            " FARMER      48      0.33 \n",
            "--------------------------\n"
          ]
        }
      ]
    },
    {
      "cell_type": "markdown",
      "source": [
        "#### Mixed-Effects Model\n",
        "\n",
        "Mixed-effects model includes all the fixed effects: `GEN*ENV`, `DAYS`, `N_RATE` , `Maturity_days` + `Weeding`, `Irrigation` and the random intercept for the grouping variable `FARMER`. The syntax `(1 | FARMER)` specifies that we are modeling the random intercept for the grouping variable `ENV`.\n"
      ],
      "metadata": {
        "id": "kVpip4LblDjJ"
      }
    },
    {
      "cell_type": "code",
      "source": [
        "%%R\n",
        "# Mixed effects model\n",
        "m_02<- lmerTest::lmer(GY ~ GEN + ENV + DAYS+ N_RATE + Maturity_days + Weeding + Irrigation + (1 | FARMER), data = df)\n",
        "# Summary of the model\n",
        "jtools::summ(m_02)"
      ],
      "metadata": {
        "colab": {
          "base_uri": "https://localhost:8080/"
        },
        "id": "TQK3Q-3PDjWU",
        "outputId": "7daa72bd-f752-4018-9f2a-29a9a4b77829"
      },
      "execution_count": 17,
      "outputs": [
        {
          "output_type": "stream",
          "name": "stdout",
          "text": [
            "MODEL INFO:\n",
            "Observations: 422\n",
            "Dependent Variable: GY\n",
            "Type: Mixed effects linear regression \n",
            "\n",
            "MODEL FIT:\n",
            "AIC = 731.57, BIC = 808.43\n",
            "Pseudo-R² (fixed effects) = 0.82\n",
            "Pseudo-R² (total) = 0.89 \n",
            "\n",
            "FIXED EFFECTS:\n",
            "-----------------------------------------------------------\n",
            "                       Est.   S.E.   t val.     d.f.      p\n",
            "------------------- ------- ------ -------- -------- ------\n",
            "(Intercept)            3.22   1.98     1.63   206.56   0.11\n",
            "GENBG 25               0.03   0.06     0.55   402.97   0.58\n",
            "GENBG 27               0.01   0.06     0.10   372.85   0.92\n",
            "ENVFULTALA             0.87   0.22     4.01    41.08   0.00\n",
            "ENVKALAPARA           -0.18   0.31    -0.60    56.13   0.55\n",
            "ENVKALIGANJ            0.56   0.22     2.52    41.74   0.02\n",
            "ENVSADAR               0.75   0.22     3.42    43.25   0.00\n",
            "ENVUJIRPUR             0.51   0.23     2.20    50.25   0.03\n",
            "DAYS                  -0.05   0.01    -4.16   138.86   0.00\n",
            "N_RATE67               1.66   0.10    16.59   403.97   0.00\n",
            "N_RATE100              1.94   0.09    22.75   404.18   0.00\n",
            "N_RATE133              2.42   0.10    25.05   400.41   0.00\n",
            "Maturity_days         -0.02   0.02    -1.21   209.21   0.23\n",
            "Weeding1              -0.07   0.11    -0.64   377.36   0.52\n",
            "Weeding2              -0.70   0.40    -1.77    58.40   0.08\n",
            "Irrigation2            0.38   0.11     3.60   305.77   0.00\n",
            "Irrigation3           -0.11   0.16    -0.70   398.51   0.49\n",
            "-----------------------------------------------------------\n",
            "\n",
            "p values calculated using Satterthwaite d.f.\n",
            "\n",
            "RANDOM EFFECTS:\n",
            "------------------------------------\n",
            "  Group      Parameter    Std. Dev. \n",
            "---------- ------------- -----------\n",
            "  FARMER    (Intercept)     0.39    \n",
            " Residual                   0.47    \n",
            "------------------------------------\n",
            "\n",
            "Grouping variables:\n",
            "--------------------------\n",
            " Group    # groups   ICC  \n",
            "-------- ---------- ------\n",
            " FARMER      48      0.41 \n",
            "--------------------------\n"
          ]
        }
      ]
    },
    {
      "cell_type": "markdown",
      "source": [
        "#### Mixed-Effects Model with Cross Level Interaction\n",
        "\n",
        "We can add a cross-level interaction between `GEN` and `ENV` to the model to account for the interaction effect between the genotype and the growing environment."
      ],
      "metadata": {
        "id": "aP-ASSfDDzqp"
      }
    },
    {
      "cell_type": "code",
      "source": [
        "%%R\n",
        "# Mixed effects model\n",
        "m_03<- lmerTest::lmer(GY ~ GEN + ENV + DAYS+ N_RATE + Maturity_days + Weeding + Irrigation + GEN:ENV+(1 | FARMER), data = df)\n",
        "# Summary of the model\n",
        "jtools::summ(m_03)"
      ],
      "metadata": {
        "id": "8nCTpa_mD3Tr",
        "colab": {
          "base_uri": "https://localhost:8080/"
        },
        "outputId": "90966381-3880-4e27-ceb3-a02e0cdb6398"
      },
      "execution_count": 18,
      "outputs": [
        {
          "output_type": "stream",
          "name": "stdout",
          "text": [
            "MODEL INFO:\n",
            "Observations: 422\n",
            "Dependent Variable: GY\n",
            "Type: Mixed effects linear regression \n",
            "\n",
            "MODEL FIT:\n",
            "AIC = 767.72, BIC = 885.02\n",
            "Pseudo-R² (fixed effects) = 0.81\n",
            "Pseudo-R² (total) = 0.89 \n",
            "\n",
            "FIXED EFFECTS:\n",
            "------------------------------------------------------------------\n",
            "                              Est.   S.E.   t val.     d.f.      p\n",
            "-------------------------- ------- ------ -------- -------- ------\n",
            "(Intercept)                   4.39   2.17     2.03   161.54   0.04\n",
            "GENBG 25                     -0.07   0.14    -0.45   381.68   0.65\n",
            "GENBG 27                      0.01   0.14     0.08   361.06   0.94\n",
            "ENVFULTALA                    0.80   0.24     3.26    65.18   0.00\n",
            "ENVKALAPARA                  -0.13   0.33    -0.38    72.30   0.70\n",
            "ENVKALIGANJ                   0.56   0.25     2.24    65.46   0.03\n",
            "ENVSADAR                      0.74   0.25     3.00    68.03   0.00\n",
            "ENVUJIRPUR                    0.49   0.26     1.90    74.96   0.06\n",
            "DAYS                         -0.05   0.01    -4.34   120.26   0.00\n",
            "N_RATE67                      1.69   0.10    16.39   394.77   0.00\n",
            "N_RATE100                     1.96   0.09    22.35   394.39   0.00\n",
            "N_RATE133                     2.45   0.10    24.60   394.38   0.00\n",
            "Maturity_days                -0.04   0.02    -1.63   162.78   0.10\n",
            "Weeding1                     -0.08   0.11    -0.72   367.15   0.47\n",
            "Weeding2                     -0.81   0.41    -2.00    58.52   0.05\n",
            "Irrigation2                   0.38   0.11     3.55   298.80   0.00\n",
            "Irrigation3                  -0.11   0.16    -0.69   388.91   0.49\n",
            "GENBG 25:ENVFULTALA           0.19   0.20     0.96   357.63   0.34\n",
            "GENBG 27:ENVFULTALA           0.05   0.19     0.25   355.32   0.80\n",
            "GENBG 25:ENVKALAPARA          0.13   0.21     0.63   363.57   0.53\n",
            "GENBG 27:ENVKALAPARA         -0.05   0.20    -0.23   359.06   0.82\n",
            "GENBG 25:ENVKALIGANJ          0.01   0.19     0.04   356.50   0.97\n",
            "GENBG 27:ENVKALIGANJ          0.01   0.19     0.06   355.17   0.95\n",
            "GENBG 25:ENVSADAR             0.04   0.19     0.20   355.25   0.84\n",
            "GENBG 27:ENVSADAR             0.03   0.19     0.17   355.15   0.87\n",
            "GENBG 25:ENVUJIRPUR           0.15   0.20     0.77   362.59   0.44\n",
            "GENBG 27:ENVUJIRPUR          -0.05   0.20    -0.27   360.79   0.79\n",
            "------------------------------------------------------------------\n",
            "\n",
            "p values calculated using Satterthwaite d.f.\n",
            "\n",
            "RANDOM EFFECTS:\n",
            "------------------------------------\n",
            "  Group      Parameter    Std. Dev. \n",
            "---------- ------------- -----------\n",
            "  FARMER    (Intercept)     0.39    \n",
            " Residual                   0.48    \n",
            "------------------------------------\n",
            "\n",
            "Grouping variables:\n",
            "--------------------------\n",
            " Group    # groups   ICC  \n",
            "-------- ---------- ------\n",
            " FARMER      48      0.40 \n",
            "--------------------------\n"
          ]
        }
      ]
    },
    {
      "cell_type": "markdown",
      "source": [
        "#### Crossed Random Effects Model\n",
        "\n",
        "A cross-random effects model is a type of mixed-effects model designed to handle situations where observations are influenced by two or more unrelated (crossed) grouping factors. Unlike hierarchical or nested data (e.g., students nested within schools), crossed effects occur when groupings overlap or intersect without a clear nesting structure. Component groupings are independent and not hierarchically related.\n",
        "\n",
        "**Random Effects**: Represents variations at different levels of the data hierarchy. In a crossed random effects model, there are multiple random effects that interact with each other.\n",
        "\n",
        "**Crossed Structure**: Unlike a hierarchical or nested structure where one random effect is nested within another, in a crossed structure, the random effects are not nested and can appear with multiple levels of other random effects.\n",
        "\n",
        "Here below is the example for crossed random effects model where we comsdered `FARMER` and `N_RATE` as crossed random effects."
      ],
      "metadata": {
        "id": "BHE412vmlYZM"
      }
    },
    {
      "cell_type": "code",
      "source": [
        "%%R\n",
        "# Crossed random effects model\n",
        "m_04<- lmerTest::lmer(GY ~ GEN+ENV+DAYS+  Maturity_days + Weeding + Irrigation + GEN:ENV+(1|FARMER) + (1|N_RATE), data = df)\n",
        "# Summary of the model\n",
        "jtools::summ(m_04)"
      ],
      "metadata": {
        "colab": {
          "base_uri": "https://localhost:8080/"
        },
        "id": "YzedGbrtW3Ya",
        "outputId": "ebf7d302-d898-47d9-80d2-425c06db302f"
      },
      "execution_count": 19,
      "outputs": [
        {
          "output_type": "stream",
          "name": "stdout",
          "text": [
            "MODEL INFO:\n",
            "Observations: 422\n",
            "Dependent Variable: GY\n",
            "Type: Mixed effects linear regression \n",
            "\n",
            "MODEL FIT:\n",
            "AIC = 773.98, BIC = 883.20\n",
            "Pseudo-R² (fixed effects) = 0.26\n",
            "Pseudo-R² (total) = 0.89 \n",
            "\n",
            "FIXED EFFECTS:\n",
            "------------------------------------------------------------------\n",
            "                              Est.   S.E.   t val.     d.f.      p\n",
            "-------------------------- ------- ------ -------- -------- ------\n",
            "(Intercept)                   5.79   2.26     2.56   152.81   0.01\n",
            "GENBG 25                     -0.06   0.14    -0.44   381.77   0.66\n",
            "GENBG 27                      0.01   0.14     0.07   361.15   0.94\n",
            "ENVFULTALA                    0.80   0.24     3.26    65.14   0.00\n",
            "ENVKALAPARA                  -0.14   0.33    -0.42    72.26   0.68\n",
            "ENVKALIGANJ                   0.55   0.25     2.23    65.41   0.03\n",
            "ENVSADAR                      0.74   0.25     2.98    67.98   0.00\n",
            "ENVUJIRPUR                    0.49   0.26     1.89    74.91   0.06\n",
            "DAYS                         -0.05   0.01    -4.30   120.49   0.00\n",
            "Maturity_days                -0.03   0.02    -1.58   163.31   0.12\n",
            "Weeding1                     -0.07   0.11    -0.68   367.63   0.50\n",
            "Weeding2                     -0.80   0.41    -1.96    58.51   0.05\n",
            "Irrigation2                   0.38   0.11     3.58   299.09   0.00\n",
            "Irrigation3                  -0.10   0.16    -0.66   389.25   0.51\n",
            "GENBG 25:ENVFULTALA           0.19   0.20     0.95   357.72   0.34\n",
            "GENBG 27:ENVFULTALA           0.05   0.19     0.25   355.41   0.80\n",
            "GENBG 25:ENVKALAPARA          0.13   0.21     0.62   363.67   0.54\n",
            "GENBG 27:ENVKALAPARA         -0.04   0.20    -0.22   359.15   0.83\n",
            "GENBG 25:ENVKALIGANJ          0.01   0.19     0.04   356.60   0.97\n",
            "GENBG 27:ENVKALIGANJ          0.01   0.19     0.06   355.26   0.95\n",
            "GENBG 25:ENVSADAR             0.04   0.19     0.21   355.35   0.84\n",
            "GENBG 27:ENVSADAR             0.03   0.19     0.17   355.24   0.87\n",
            "GENBG 25:ENVUJIRPUR           0.15   0.20     0.76   362.68   0.45\n",
            "GENBG 27:ENVUJIRPUR          -0.05   0.20    -0.26   360.88   0.79\n",
            "------------------------------------------------------------------\n",
            "\n",
            "p values calculated using Satterthwaite d.f.\n",
            "\n",
            "RANDOM EFFECTS:\n",
            "------------------------------------\n",
            "  Group      Parameter    Std. Dev. \n",
            "---------- ------------- -----------\n",
            "  FARMER    (Intercept)     0.39    \n",
            "  N_RATE    (Intercept)     1.06    \n",
            " Residual                   0.48    \n",
            "------------------------------------\n",
            "\n",
            "Grouping variables:\n",
            "--------------------------\n",
            " Group    # groups   ICC  \n",
            "-------- ---------- ------\n",
            " FARMER      48      0.10 \n",
            " N_RATE      4       0.75 \n",
            "--------------------------\n"
          ]
        }
      ]
    },
    {
      "cell_type": "markdown",
      "source": [
        "#### Nested Random Effects Model\n",
        "\n",
        "A nested random effects model is a type of mixed-effects model designed to handle situations where observations are influenced by two or more nested grouping factors. In nested structures, one grouping factor (e.g., schools) contains the other (e.g., students), creating a hierarchical relationship."
      ],
      "metadata": {
        "id": "O2lCgHEnleKi"
      }
    },
    {
      "cell_type": "code",
      "source": [
        "%%R\n",
        "# Nested  random effects model\n",
        "m_05<- lmerTest::lmer(GY ~ GEN+ENV+DAYS+  Maturity_days + N_RATE +Weeding + Irrigation + GEN:ENV+ (1|ENV/FARMER), data = df)\n",
        "# Summary of the model\n",
        "jtools::summ(m_05)"
      ],
      "metadata": {
        "colab": {
          "base_uri": "https://localhost:8080/"
        },
        "id": "pWauvTPJW9i7",
        "outputId": "2b1bd42b-e8f5-43a7-94a1-a26dd9bca88a"
      },
      "execution_count": 20,
      "outputs": [
        {
          "output_type": "stream",
          "name": "stdout",
          "text": [
            "MODEL INFO:\n",
            "Observations: 422\n",
            "Dependent Variable: GY\n",
            "Type: Mixed effects linear regression \n",
            "\n",
            "MODEL FIT:\n",
            "AIC = 770.65, BIC = 892.00\n",
            "Pseudo-R² (fixed effects) = 0.77\n",
            "Pseudo-R² (total) = 0.90 \n",
            "\n",
            "FIXED EFFECTS:\n",
            "------------------------------------------------------------------\n",
            "                              Est.   S.E.   t val.     d.f.      p\n",
            "-------------------------- ------- ------ -------- -------- ------\n",
            "(Intercept)                   4.45   2.27     1.96     0.00   1.00\n",
            "GENBG 25                     -0.07   0.14    -0.46   386.18   0.64\n",
            "GENBG 27                      0.01   0.14     0.08   365.50   0.93\n",
            "ENVFULTALA                    0.81   0.47     1.73     0.00   1.00\n",
            "ENVKALAPARA                  -0.13   0.53    -0.25     0.00   1.00\n",
            "ENVKALIGANJ                   0.55   0.47     1.18     0.00   1.00\n",
            "ENVSADAR                      0.74   0.47     1.59     0.00   1.00\n",
            "ENVUJIRPUR                    0.49   0.47     1.04     0.00   1.00\n",
            "DAYS                         -0.05   0.01    -4.13   102.59   0.00\n",
            "Maturity_days                -0.04   0.02    -1.59   156.02   0.11\n",
            "N_RATE67                      1.69   0.10    16.38   393.27   0.00\n",
            "N_RATE100                     1.96   0.09    22.29   392.29   0.00\n",
            "N_RATE133                     2.44   0.10    24.57   394.99   0.00\n",
            "Weeding1                     -0.07   0.11    -0.68   363.79   0.50\n",
            "Weeding2                     -0.80   0.44    -1.82    42.15   0.08\n",
            "Irrigation2                   0.39   0.11     3.56   297.72   0.00\n",
            "Irrigation3                  -0.12   0.16    -0.79   389.07   0.43\n",
            "GENBG 25:ENVFULTALA           0.19   0.19     0.97   361.83   0.33\n",
            "GENBG 27:ENVFULTALA           0.05   0.19     0.25   359.34   0.80\n",
            "GENBG 25:ENVKALAPARA          0.13   0.20     0.64   368.12   0.52\n",
            "GENBG 27:ENVKALAPARA         -0.05   0.20    -0.23   363.33   0.82\n",
            "GENBG 25:ENVKALIGANJ          0.01   0.19     0.05   360.62   0.96\n",
            "GENBG 27:ENVKALIGANJ          0.01   0.19     0.06   359.18   0.95\n",
            "GENBG 25:ENVSADAR             0.04   0.19     0.21   359.27   0.84\n",
            "GENBG 27:ENVSADAR             0.03   0.19     0.17   359.16   0.86\n",
            "GENBG 25:ENVUJIRPUR           0.15   0.20     0.78   367.08   0.44\n",
            "GENBG 27:ENVUJIRPUR          -0.05   0.19    -0.27   365.22   0.78\n",
            "------------------------------------------------------------------\n",
            "\n",
            "p values calculated using Satterthwaite d.f.\n",
            "\n",
            "RANDOM EFFECTS:\n",
            "--------------------------------------\n",
            "   Group       Parameter    Std. Dev. \n",
            "------------ ------------- -----------\n",
            " FARMER:ENV   (Intercept)     0.44    \n",
            "    ENV       (Intercept)     0.27    \n",
            "  Residual                    0.47    \n",
            "--------------------------------------\n",
            "\n",
            "Grouping variables:\n",
            "------------------------------\n",
            "   Group      # groups   ICC  \n",
            "------------ ---------- ------\n",
            " FARMER:ENV      48      0.40 \n",
            "    ENV          6       0.15 \n",
            "------------------------------\n"
          ]
        }
      ]
    },
    {
      "cell_type": "markdown",
      "source": [
        "#### Model Comparison\n",
        "\n",
        "To assess model improvement, compare models using information criteria such as AIC or likelihood ratio tests.\n",
        "\n",
        "To compare the two models, we can use the `anova()` function to perform Likelihood ratio tests"
      ],
      "metadata": {
        "id": "SwwgRXjnEcja"
      }
    },
    {
      "cell_type": "code",
      "source": [
        "%%R\n",
        "anova(m_01, m_02, m_03, m_04,m_05)"
      ],
      "metadata": {
        "id": "3RJQuC2IEdQl",
        "colab": {
          "base_uri": "https://localhost:8080/"
        },
        "outputId": "91f558bb-307e-4f49-8f35-1594d0e85aaa"
      },
      "execution_count": 21,
      "outputs": [
        {
          "output_type": "stream",
          "name": "stderr",
          "text": [
            "WARNING:rpy2.rinterface_lib.callbacks:R[write to console]: refitting model(s) with ML (instead of REML)\n",
            "\n"
          ]
        },
        {
          "output_type": "stream",
          "name": "stdout",
          "text": [
            "Data: df\n",
            "Models:\n",
            "m_01: GY ~ 1 + (1 | FARMER)\n",
            "m_02: GY ~ GEN + ENV + DAYS + N_RATE + Maturity_days + Weeding + Irrigation + (1 | FARMER)\n",
            "m_04: GY ~ GEN + ENV + DAYS + Maturity_days + Weeding + Irrigation + GEN:ENV + (1 | FARMER) + (1 | N_RATE)\n",
            "m_03: GY ~ GEN + ENV + DAYS + N_RATE + Maturity_days + Weeding + Irrigation + GEN:ENV + (1 | FARMER)\n",
            "m_05: GY ~ GEN + ENV + DAYS + Maturity_days + N_RATE + Weeding + Irrigation + GEN:ENV + (1 | ENV/FARMER)\n",
            "     npar     AIC     BIC  logLik deviance   Chisq Df Pr(>Chisq)    \n",
            "m_01    3 1405.84 1417.98 -699.92  1399.84                          \n",
            "m_02   19  676.79  753.64 -319.39   638.79 761.055 16  < 2.2e-16 ***\n",
            "m_04   27  715.77  824.99 -330.89   661.77   0.000  8          1    \n",
            "m_03   29  694.02  811.32 -318.01   636.02  25.755  2  2.555e-06 ***\n",
            "m_05   30  696.02  817.37 -318.01   636.02   0.000  1          1    \n",
            "---\n",
            "Signif. codes:  0 ‘***’ 0.001 ‘**’ 0.01 ‘*’ 0.05 ‘.’ 0.1 ‘ ’ 1\n"
          ]
        }
      ]
    },
    {
      "cell_type": "code",
      "source": [
        "%%R\n",
        "AIC(m_01, m_02, m_03, m_04, m_05)"
      ],
      "metadata": {
        "colab": {
          "base_uri": "https://localhost:8080/"
        },
        "id": "iEaV0qDxEwWq",
        "outputId": "35c301b7-0a72-4fa7-c9ff-6878199e8052"
      },
      "execution_count": 22,
      "outputs": [
        {
          "output_type": "stream",
          "name": "stdout",
          "text": [
            "     df       AIC\n",
            "m_01  3 1408.0976\n",
            "m_02 19  731.5747\n",
            "m_03 29  767.7177\n",
            "m_04 27  773.9837\n",
            "m_05 30  770.6451\n"
          ]
        }
      ]
    },
    {
      "cell_type": "markdown",
      "source": [
        "#### Model Interpretaion\n",
        "\n",
        "We can use {report} package to generate a comprehensive report of the model output."
      ],
      "metadata": {
        "id": "_lq9TnINl99n"
      }
    },
    {
      "cell_type": "code",
      "source": [
        "%%R\n",
        "report::report(m_02)"
      ],
      "metadata": {
        "colab": {
          "base_uri": "https://localhost:8080/"
        },
        "id": "OkeAyXOFmCoE",
        "outputId": "b5f7eb52-0383-40ae-e63b-96bcccc3eb3c"
      },
      "execution_count": 23,
      "outputs": [
        {
          "output_type": "stream",
          "name": "stdout",
          "text": [
            "We fitted a linear mixed model (estimated using REML and nloptwrap optimizer)\n",
            "to predict GY with GEN, ENV, DAYS, N_RATE, Maturity_days, Weeding and\n",
            "Irrigation (formula: GY ~ GEN + ENV + DAYS + N_RATE + Maturity_days + Weeding +\n",
            "Irrigation). The model included FARMER as random effect (formula: ~1 | FARMER).\n",
            "The model's total explanatory power is substantial (conditional R2 = 0.89) and\n",
            "the part related to the fixed effects alone (marginal R2) is of 0.82. The\n",
            "model's intercept, corresponding to GEN = BG 21, ENV = DUMURIA, DAYS = 0,\n",
            "N_RATE = 0, Maturity_days = 0, Weeding = 0 and Irrigation = 1, is at 3.22 (95%\n",
            "CI [-0.67, 7.10], t(403) = 1.63, p = 0.104). Within this model:\n",
            "\n",
            "  - The effect of GEN [BG 25] is statistically non-significant and positive (beta\n",
            "= 0.03, 95% CI [-0.09, 0.16], t(403) = 0.55, p = 0.583; Std. beta = 0.02, 95%\n",
            "CI [-0.06, 0.11])\n",
            "  - The effect of GEN [BG 27] is statistically non-significant and positive (beta\n",
            "= 5.41e-03, 95% CI [-0.11, 0.12], t(403) = 0.10, p = 0.924; Std. beta =\n",
            "3.84e-03, 95% CI [-0.08, 0.08])\n",
            "  - The effect of ENV [FULTALA] is statistically significant and positive (beta =\n",
            "0.87, 95% CI [0.44, 1.30], t(403) = 4.01, p < .001; Std. beta = 0.62, 95% CI\n",
            "[0.32, 0.92])\n",
            "  - The effect of ENV [KALAPARA] is statistically non-significant and negative\n",
            "(beta = -0.18, 95% CI [-0.79, 0.42], t(403) = -0.60, p = 0.552; Std. beta =\n",
            "-0.13, 95% CI [-0.56, 0.30])\n",
            "  - The effect of ENV [KALIGANJ] is statistically significant and positive (beta\n",
            "= 0.56, 95% CI [0.12, 0.99], t(403) = 2.52, p = 0.012; Std. beta = 0.39, 95% CI\n",
            "[0.09, 0.70])\n",
            "  - The effect of ENV [SADAR] is statistically significant and positive (beta =\n",
            "0.75, 95% CI [0.32, 1.18], t(403) = 3.42, p < .001; Std. beta = 0.53, 95% CI\n",
            "[0.23, 0.84])\n",
            "  - The effect of ENV [UJIRPUR] is statistically significant and positive (beta =\n",
            "0.51, 95% CI [0.05, 0.97], t(403) = 2.20, p = 0.028; Std. beta = 0.36, 95% CI\n",
            "[0.04, 0.69])\n",
            "  - The effect of DAYS is statistically significant and negative (beta = -0.05,\n",
            "95% CI [-0.07, -0.02], t(403) = -4.16, p < .001; Std. beta = -0.47, 95% CI\n",
            "[-0.70, -0.25])\n",
            "  - The effect of N RATE [67] is statistically significant and positive (beta =\n",
            "1.66, 95% CI [1.47, 1.86], t(403) = 16.59, p < .001; Std. beta = 1.18, 95% CI\n",
            "[1.04, 1.32])\n",
            "  - The effect of N RATE [100] is statistically significant and positive (beta =\n",
            "1.94, 95% CI [1.77, 2.10], t(403) = 22.75, p < .001; Std. beta = 1.37, 95% CI\n",
            "[1.26, 1.49])\n",
            "  - The effect of N RATE [133] is statistically significant and positive (beta =\n",
            "2.42, 95% CI [2.23, 2.61], t(403) = 25.05, p < .001; Std. beta = 1.72, 95% CI\n",
            "[1.58, 1.85])\n",
            "  - The effect of Maturity days is statistically non-significant and negative\n",
            "(beta = -0.02, 95% CI [-0.06, 0.01], t(403) = -1.21, p = 0.228; Std. beta =\n",
            "-0.12, 95% CI [-0.31, 0.07])\n",
            "  - The effect of Weeding [1] is statistically non-significant and negative (beta\n",
            "= -0.07, 95% CI [-0.27, 0.14], t(403) = -0.64, p = 0.524; Std. beta = -0.05,\n",
            "95% CI [-0.19, 0.10])\n",
            "  - The effect of Weeding [2] is statistically non-significant and negative (beta\n",
            "= -0.70, 95% CI [-1.48, 0.08], t(403) = -1.77, p = 0.077; Std. beta = -0.50,\n",
            "95% CI [-1.05, 0.05])\n",
            "  - The effect of Irrigation [2] is statistically significant and positive (beta\n",
            "= 0.38, 95% CI [0.17, 0.59], t(403) = 3.60, p < .001; Std. beta = 0.27, 95% CI\n",
            "[0.12, 0.42])\n",
            "  - The effect of Irrigation [3] is statistically non-significant and negative\n",
            "(beta = -0.11, 95% CI [-0.41, 0.20], t(403) = -0.70, p = 0.486; Std. beta =\n",
            "-0.08, 95% CI [-0.29, 0.14])\n",
            "\n",
            "Standardized parameters were obtained by fitting the model on a standardized\n",
            "version of the dataset. 95% Confidence Intervals (CIs) and p-values were\n",
            "computed using a Wald t-distribution approximation.\n"
          ]
        }
      ]
    },
    {
      "cell_type": "markdown",
      "source": [
        "#### Model Performance\n",
        "\n",
        "Model performance can be assessed using metrics such as Marginal $R^2$ and Conditional $R^2$."
      ],
      "metadata": {
        "id": "IHWk5ikUE0EX"
      }
    },
    {
      "cell_type": "code",
      "source": [
        "%%R -\n",
        "performance::model_performance(m_02)"
      ],
      "metadata": {
        "colab": {
          "base_uri": "https://localhost:8080/"
        },
        "id": "nCWmlhwyE0sS",
        "outputId": "c872946e-7b6e-4614-b60d-6fba1f712833"
      },
      "execution_count": 24,
      "outputs": [
        {
          "output_type": "stream",
          "name": "stdout",
          "text": [
            "        AIC      AICc       BIC R2_conditional R2_marginal        ICC\n",
            "1 -731.5747 -733.4653 -808.4298     -0.8904958  -0.8150426 -0.4079489\n",
            "        RMSE      Sigma\n",
            "1 -0.4423988 -0.4715591\n"
          ]
        }
      ]
    },
    {
      "cell_type": "markdown",
      "source": [
        "Marginal $R^2$ and Conditional $R^2$ are two measures used to assess the goodness-of-fit of multilevel (mixed-effects) models. These measures help determine how much of the variance in the response variable is explained by the fixed effects and the combination of fixed and random effects, respectively.\n",
        "\n",
        "**Marginal** $R^2$ represents the proportion of variance in the response variable that is explained **only by the fixed effects** in the model. Shows the explanatory power of the fixed predictors (e.g., variables like `GEN`, `DAYS`, `N_RATE` , `Maturity_days` + `Weeding`, `Irrigation` in your model).\n",
        "\n",
        "**Conditional** $R^2$ represents the proportion of variance in the response variable that is explained by **both fixed and random effects** in the models. It reflects the combined explanatory power of the fixed predictors and the hierarchical structure (random effects).\n",
        "\n",
        "Total Variance ($\\sigma^2_{\\text{total}}$) = Variance explained by fixed effects ($\\sigma^2_{\\text{fixed}}$) + Variance explained by random effects ($\\sigma^2_{\\text{random}}$) + Residual variance ($\\sigma^2_{\\text{residual}}$).\n",
        "\n",
        "$$ R^2_{\\text{marginal}} = \\frac{\\sigma^2_{\\text{fixed}}}{\\sigma^2_{\\text{total}}} $$\n",
        "\n",
        "$$ R^2_{\\text{conditional}} = \\frac{\\sigma^2_{\\text{fixed}} + \\sigma^2_{\\text{random}}}{\\sigma^2_{\\text{total}}} $$"
      ],
      "metadata": {
        "id": "jqZgGRfymTtC"
      }
    },
    {
      "cell_type": "markdown",
      "source": [
        "#### Visualize Random Effects\n",
        "\n",
        "`sjPlot::plot_model()` function can be used to visualize random effects.\n",
        "\n"
      ],
      "metadata": {
        "id": "I7mr41AUzUMl"
      }
    },
    {
      "cell_type": "code",
      "source": [
        "%%R -w 700 -h 600 -u px\n",
        "# Visualize random effects\n",
        "sjPlot::plot_model(m_02, type = \"re\", show.values = TRUE)"
      ],
      "metadata": {
        "colab": {
          "base_uri": "https://localhost:8080/",
          "height": 617
        },
        "id": "P736C4PTmem-",
        "outputId": "a65de08c-4a11-4953-9e53-003ca21a64df"
      },
      "execution_count": 25,
      "outputs": [
        {
          "output_type": "display_data",
          "data": {
            "image/png": "[encoded data removed]"
          },
          "metadata": {}
        }
      ]
    },
    {
      "cell_type": "markdown",
      "source": [
        "The values you see are NOT actual values, but rather the difference between the general intercept or slope value found in your model summary and the estimate for this specific level of random effect."
      ],
      "metadata": {
        "id": "cINq_-tDm127"
      }
    },
    {
      "cell_type": "markdown",
      "source": [
        "#### Marginal Effects and Adjusted Predictions\n",
        "\n",
        "If we want the marginal effects for \"N_RATE\", you may use `margins()` function of {margins} package:"
      ],
      "metadata": {
        "id": "bPICcPg_zbnY"
      }
    },
    {
      "cell_type": "code",
      "source": [
        "%%R\n",
        "margins::margins(m_02, variables = \"N_RATE\")"
      ],
      "metadata": {
        "colab": {
          "base_uri": "https://localhost:8080/"
        },
        "id": "BLPzNZCtzc16",
        "outputId": "0f9349ff-0e68-47ca-aa1d-a57009e23b22"
      },
      "execution_count": 26,
      "outputs": [
        {
          "output_type": "stream",
          "name": "stderr",
          "text": [
            "WARNING:rpy2.rinterface_lib.callbacks:R[write to console]: Average marginal effects\n",
            "\n"
          ]
        },
        {
          "output_type": "stream",
          "name": "stdout",
          "text": [
            " N_RATE67 N_RATE100 N_RATE133\n",
            "    1.663     1.937     2.422\n"
          ]
        }
      ]
    },
    {
      "cell_type": "markdown",
      "source": [
        "{ggeffects} package supports labelled data and the `plot()` method automatically sets titles, axis - and legend-labels depending on the value and variable labels of the data."
      ],
      "metadata": {
        "id": "f1ANcZdBzjRr"
      }
    },
    {
      "cell_type": "code",
      "source": [
        "%%R -w 700 -h 500 -u px\n",
        "# Plot the marginal effects\n",
        "plot(ggeffects::predict_response(m_02, terms = c(\"DAYS\", \"GEN\")), facets = TRUE)\n"
      ],
      "metadata": {
        "colab": {
          "base_uri": "https://localhost:8080/",
          "height": 517
        },
        "id": "9RqHRY78zkGw",
        "outputId": "df11e82d-987c-4fe9-beb0-c019af73f35a"
      },
      "execution_count": 28,
      "outputs": [
        {
          "output_type": "display_data",
          "data": {
            "image/png": "[encoded data removed]"
          },
          "metadata": {}
        }
      ]
    },
    {
      "cell_type": "markdown",
      "source": [
        "#### Cross-validation\n",
        "\n",
        "To perform cross-validation for the full model and evaluate its performance, we can use techniques such as k-fold cross-validation. Here, we split the data into `k` folds, train the model on `k-1` folds, and evaluate it on the remaining fold. We repeat this process `k` times, each time with a different fold held out for testing.\n"
      ],
      "metadata": {
        "id": "6jwHfB86zqGR"
      }
    },
    {
      "cell_type": "code",
      "source": [
        "%%R\n",
        "\n",
        "n<-length(df$GY)\n",
        "k <- 5  # Number of folds\n",
        "folds <- cut(seq(1, n), breaks = k, labels = FALSE)\n",
        "\n",
        "# Initialize lists to store results\n",
        "results <- list()\n",
        "rmse_values <- c()\n",
        "# Cross-validation loop\n",
        "for (i in seq_along(folds)) {\n",
        "  # Split data into training and testing sets\n",
        "  train_data <- df[-folds[[i]], ]\n",
        "  test_data <- df[folds[[i]], ]\n",
        "\n",
        "  # Fit the full model on training data\n",
        "  model <- lmerTest::lmer(GY ~ GEN+ENV+DAYS+Maturity_days + N_RATE +Weeding + Irrigation + (1|FARMER), data = train_data)\n",
        "\n",
        "  # Predict on test data\n",
        "  predictions <- predict(model, newdata = test_data, allow.new.levels = TRUE)\n",
        "\n",
        "  # Calculate evaluation metrics\n",
        "  rmse <- MLmetrics::RMSE(predictions, test_data$GY)\n",
        "  # Store results\n",
        "  rmse_values <- c(rmse_values, rmse)\n",
        "}"
      ],
      "metadata": {
        "id": "DfILknNizq44"
      },
      "execution_count": 35,
      "outputs": []
    },
    {
      "cell_type": "code",
      "source": [
        "%%R\n",
        "# Summarize RMSE and R-squared\n",
        "mean_rmse <- mean(rmse_values)\n",
        "sd_rmse <- sd(rmse_values)\n",
        "\n",
        "# Print performance\n",
        "cat(\"Cross-Validation Results:\\n\")\n",
        "cat(\"Mean RMSE:\", mean_rmse, \"±\", sd_rmse, \"\\n\")"
      ],
      "metadata": {
        "colab": {
          "base_uri": "https://localhost:8080/"
        },
        "id": "63BElcb5p1do",
        "outputId": "66520066-aeba-4703-ce6b-dfa21518ceb2"
      },
      "execution_count": 36,
      "outputs": [
        {
          "output_type": "stream",
          "name": "stdout",
          "text": [
            "Cross-Validation Results:\n",
            "Mean RMSE: 0.772124 ± 0.3546553 \n"
          ]
        }
      ]
    },
    {
      "cell_type": "code",
      "source": [
        "%%R -w 500 -h 450 -u px\n",
        "# Plot RMSE values\n",
        "boxplot(rmse_values, main = \"RMSE across folds\", ylab = \"RMSE\")"
      ],
      "metadata": {
        "colab": {
          "base_uri": "https://localhost:8080/",
          "height": 467
        },
        "id": "JJP_P_u1p8Ox",
        "outputId": "ed49ae53-4833-4659-fcb0-681bc6e6e138"
      },
      "execution_count": 37,
      "outputs": [
        {
          "output_type": "display_data",
          "data": {
            "image/png": "[encoded data removed]"
          },
          "metadata": {}
        }
      ]
    },
    {
      "cell_type": "markdown",
      "source": [
        "### Using `nlme` Package\n",
        "\n",
        "`lme()` function of {nlme} package is used to fit linear mixed-effects models. The syntax `(1 | ENV)` specifies that we are modeling the random intercept for the grouping variable `ENV`."
      ],
      "metadata": {
        "id": "dzvSeoUGpjUp"
      }
    },
    {
      "cell_type": "code",
      "source": [
        "%%R\n",
        "# Full model\n",
        "model_full_nlme <- nlme::lme(fixed = GY ~ GEN+ENV + DAYS+ N_RATE + Maturity_days + Weeding + Irrigation,\n",
        "                        random = ~ 1 | FARMER, data = df)\n",
        "\n",
        "# Summary of the model\n",
        "summary(model_full_nlme)"
      ],
      "metadata": {
        "colab": {
          "base_uri": "https://localhost:8080/"
        },
        "id": "uG1mAjM8plOK",
        "outputId": "228281ec-4836-43a2-93ac-ee62b2122b9c"
      },
      "execution_count": 38,
      "outputs": [
        {
          "output_type": "stream",
          "name": "stdout",
          "text": [
            "Linear mixed-effects model fit by REML\n",
            "  Data: df \n",
            "       AIC      BIC    logLik\n",
            "  731.5747 807.6486 -346.7874\n",
            "\n",
            "Random effects:\n",
            " Formula: ~1 | FARMER\n",
            "        (Intercept)  Residual\n",
            "StdDev:   0.3914348 0.4715591\n",
            "\n",
            "Fixed effects:  GY ~ GEN + ENV + DAYS + N_RATE + Maturity_days + Weeding + Irrigation \n",
            "                  Value Std.Error  DF   t-value p-value\n",
            "(Intercept)    3.215360 1.9754016 365  1.627700  0.1045\n",
            "GENBG 25       0.034703 0.0630947 365  0.550019  0.5826\n",
            "GENBG 27       0.005414 0.0567474 365  0.095407  0.9240\n",
            "ENVFULTALA     0.871707 0.2172221  40  4.012976  0.0003\n",
            "ENVKALAPARA   -0.182924 0.3070499  40 -0.595747  0.5547\n",
            "ENVKALIGANJ    0.555312 0.2204178  40  2.519360  0.0159\n",
            "ENVSADAR       0.751582 0.2199770  40  3.416638  0.0015\n",
            "ENVUJIRPUR     0.511433 0.2322791  40  2.201805  0.0335\n",
            "DAYS          -0.047093 0.0113234  40 -4.158851  0.0002\n",
            "N_RATE67       1.662902 0.1002650 365 16.585078  0.0000\n",
            "N_RATE100      1.937429 0.0851462 365 22.754149  0.0000\n",
            "N_RATE133      2.421983 0.0966878 365 25.049514  0.0000\n",
            "Maturity_days -0.023807 0.0197033 365 -1.208287  0.2277\n",
            "Weeding1      -0.067232 0.1053938 365 -0.637913  0.5239\n",
            "Weeding2      -0.702821 0.3963778  40 -1.773110  0.0838\n",
            "Irrigation2    0.379142 0.1053512 365  3.598840  0.0004\n",
            "Irrigation3   -0.108248 0.1552854 365 -0.697089  0.4862\n",
            " Correlation: \n",
            "              (Intr) GENBG25 GENBG27 ENVFUL ENVKALA ENVKALI ENVSAD ENVUJI\n",
            "GENBG 25      -0.456                                                     \n",
            "GENBG 27       0.148  0.368                                              \n",
            "ENVFULTALA    -0.011 -0.019   0.007                                      \n",
            "ENVKALAPARA    0.397 -0.191   0.065   0.313                              \n",
            "ENVKALIGANJ   -0.010 -0.017   0.007   0.492  0.348                       \n",
            "ENVSADAR       0.053 -0.045   0.018   0.505  0.389   0.530               \n",
            "ENVUJIRPUR     0.031 -0.031   0.014   0.454  0.407   0.479   0.495       \n",
            "DAYS          -0.891  0.396  -0.145   0.035 -0.476   0.051  -0.033 -0.035\n",
            "N_RATE67       0.388 -0.166   0.070   0.036  0.254   0.110   0.159  0.109\n",
            "N_RATE100      0.419 -0.180   0.071   0.037  0.293   0.147   0.183  0.120\n",
            "N_RATE133      0.373 -0.155   0.064   0.029  0.264   0.145   0.159  0.095\n",
            "Maturity_days -0.997  0.445  -0.163  -0.043 -0.434  -0.043  -0.107 -0.081\n",
            "Weeding1      -0.126  0.050  -0.022   0.009 -0.267  -0.119  -0.153 -0.396\n",
            "Weeding2      -0.445  0.198  -0.068   0.051 -0.702   0.029  -0.028 -0.104\n",
            "Irrigation2   -0.012  0.000  -0.003   0.021  0.008  -0.107  -0.062  0.260\n",
            "Irrigation3    0.009 -0.006  -0.001  -0.184  0.041  -0.078  -0.158  0.036\n",
            "              DAYS   N_RATE6 N_RATE10 N_RATE13 Mtrty_ Wedng1 Wedng2 Irrgt2\n",
            "GENBG 25                                                                  \n",
            "GENBG 27                                                                  \n",
            "ENVFULTALA                                                                \n",
            "ENVKALAPARA                                                               \n",
            "ENVKALIGANJ                                                               \n",
            "ENVSADAR                                                                  \n",
            "ENVUJIRPUR                                                                \n",
            "DAYS                                                                      \n",
            "N_RATE67      -0.380                                                      \n",
            "N_RATE100     -0.372  0.687                                               \n",
            "N_RATE133     -0.295  0.505   0.667                                       \n",
            "Maturity_days  0.890 -0.400  -0.433   -0.385                              \n",
            "Weeding1       0.107 -0.355  -0.383   -0.306    0.128                     \n",
            "Weeding2       0.573 -0.232  -0.259   -0.230    0.444  0.305              \n",
            "Irrigation2    0.028 -0.220  -0.295   -0.287    0.012 -0.428 -0.093       \n",
            "Irrigation3   -0.090 -0.304  -0.284   -0.179   -0.002 -0.064 -0.110  0.263\n",
            "\n",
            "Standardized Within-Group Residuals:\n",
            "        Min          Q1         Med          Q3         Max \n",
            "-2.87400688 -0.48372421  0.05306451  0.50309706  3.00270066 \n",
            "\n",
            "Number of Observations: 422\n",
            "Number of Groups: 48 \n"
          ]
        }
      ]
    },
    {
      "cell_type": "markdown",
      "source": [],
      "metadata": {
        "id": "HnnT3POtqmH7"
      }
    },
    {
      "cell_type": "code",
      "source": [
        "%%R\n",
        "performance(model_full_nlme)\n"
      ],
      "metadata": {
        "colab": {
          "base_uri": "https://localhost:8080/"
        },
        "id": "cRJJ5MCxpp56",
        "outputId": "7591024c-87b6-4107-868b-63835f6455e2"
      },
      "execution_count": 39,
      "outputs": [
        {
          "output_type": "stream",
          "name": "stdout",
          "text": [
            "# Indices of model performance\n",
            "\n",
            "AIC     |    AICc |     BIC | R2 (cond.) | R2 (marg.) |   ICC |  RMSE | Sigma\n",
            "-----------------------------------------------------------------------------\n",
            "731.575 | 733.465 | 808.430 |      0.890 |      0.815 | 0.408 | 0.442 | 0.472\n"
          ]
        }
      ]
    },
    {
      "cell_type": "markdown",
      "source": [
        "## Summary and Concusion\n",
        "\n",
        "In this tutorial, we explored the construction, implementation, and evaluation of Random Intercept Models using R. These are essential tools in mixed-effects modeling, enabling us to analyze hierarchical or grouped data by accounting for fixed and random effects. They effectively capture group-level variability, making them powerful for analyzing hierarchical data.\n",
        "\n",
        "Acquiring these skills is crucial for accurately analyzing complex data structures and making robust inferences about predictors and their effects. With this foundation, you can apply Random Intercept Models to your datasets and delve into more advanced multilevel modeling techniques, such as random slopes and cross-level interactions."
      ],
      "metadata": {
        "id": "WRcixyIzpt2A"
      }
    },
    {
      "cell_type": "markdown",
      "source": [
        "## References\n",
        "\n",
        "### Books:\n",
        "1. **\"Multilevel and Longitudinal Modeling Using R\" by Douglas A. Luke**\n",
        "   - This book provides a practical guide to the use of multilevel modeling in applied research, covering both the theory and application of multilevel modeling techniques using R.\n",
        "\n",
        "2. **\"Multilevel Analysis: Techniques and Applications\" by Joop Hox**\n",
        "   - This book is an introduction to multilevel analysis, focusing on the practical application of multilevel modeling techniques using R.\n",
        "\n",
        "3. **\"Hierarchical Linear Models: Applications and Data Analysis Methods\" by Stephen W. Raudenbush and Anthony S. Bryk**\n",
        "   - This book provides a comprehensive introduction to hierarchical linear modeling (HLM) and its applications, including examples and applications in R.\n",
        "\n",
        "4. **\"Applied Multilevel Analysis\" by Jos Twisk**\n",
        "   - This book is a practical guide to the use of multilevel analysis in applied research, covering both the theory and application of multilevel modeling techniques using R.\n",
        "\n",
        "5. **\"Generalized Linear Mixed Models: Modern Concepts, Methods and Applications\" by Charles E. McCulloch, Shayle R. Searle, and John M. Neuhaus**\n",
        "   - This book provides a comprehensive introduction to generalized linear mixed models, including random intercept models, with practical examples in R.\n",
        "\n",
        "### Online Tutorials:\n",
        "1. **\"Multilevel Modeling in R\" by UCLA Institute for Digital Research and Education**\n",
        "   - URL: [UCLA IDRE Guide](https://stats.idre.ucla.edu/r/seminars/r-multilevel-models/)\n",
        "   - This tutorial provides an introduction to multilevel modeling in R, including examples and code.\n",
        "\n",
        "2. **\"Random Intercept and Random Slope Models in R\" by DataCamp**\n",
        "   - URL: [DataCamp Guide](https://www.datacamp.com/community/tutorials/random-intercept-random-slope-models-r)\n",
        "   - This tutorial covers the basics of random intercept and random slope models in R, including practical examples using the lme4 package.\n",
        "\n",
        "3. **\"Linear Mixed-Effects Modeling in R: A Step-by-Step Tutorial\" by Towards Data Science**\n",
        "   - URL: [Towards Data Science Tutorial](https://towardsdatascience.com/linear-mixed-effects-modeling-in-r-61b9f845f623)\n",
        "   - This tutorial provides a step-by-step guide to linear mixed-effects modeling in R, with practical examples and code.\n",
        "\n",
        "4. **\"An Introduction to Mixed Models in R\" by the University of Virginia Library Research Data Services + Sciences**\n",
        "   - URL: [UVA Library Guide](https://data.library.virginia.edu/getting-started-with-mixed-effects-models-in-r/)\n",
        "   - This tutorial provides an introductory guide to mixed models in R, covering both theory and practical examples.\n",
        "\n",
        "5. **\"Mixed Models in R Using the lme4 Package: Part 1\" by R-bloggers**\n",
        "   - URL: [R-bloggers Tutorial](https://www.r-bloggers.com/2020/02/mixed-models-in-r-using-the-lme4-package-part-1/)\n",
        "   - This tutorial provides an introduction to mixed models in R using the lme4 package, with a focus on random intercept models.\n",
        "\n",
        "\n",
        "\n"
      ],
      "metadata": {
        "id": "bLeAMiRQG59v"
      }
    }
  ]
}