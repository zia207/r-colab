{
  "nbformat": 4,
  "nbformat_minor": 0,
  "metadata": {
    "colab": {
      "provenance": [],
      "toc_visible": true,
      "authorship_tag": "ABX9TyP2/mohHcgPw5N2jld8iORy",
      "include_colab_link": true
    },
    "kernelspec": {
      "name": "python3",
      "display_name": "Python 3"
    },
    "language_info": {
      "name": "python"
    }
  },
  "cells": [
    {
      "cell_type": "markdown",
      "metadata": {
        "id": "view-in-github",
        "colab_type": "text"
      },
      "source": [
        "<a href=\"https://colab.research.google.com/github/zia207/r-colab/blob/main/NoteBook/Advance_Regression/02-02-03-regularized-glm-multinominal-r.ipynb\" target=\"_parent\"><img src=\"https://colab.research.google.com/assets/colab-badge.svg\" alt=\"Open In Colab\"/></a>"
      ]
    },
    {
      "cell_type": "markdown",
      "source": [
        "![alt text](http://drive.google.com/uc?export=view&id=1bLQ3nhDbZrCCqy_WCxxckOne2lgVvn3l)"
      ],
      "metadata": {
        "id": "8Eh952S4ASQa"
      }
    },
    {
      "cell_type": "markdown",
      "source": [
        "# 3. Regularized Multinomial Logistic Model\n",
        "\n",
        "This tutorial will explore how to perform regularized multinomial logistic regression in R. We will cover both the manual approach—building the model from scratch—and using the popular {glmnet} package. The {glmnet} package is widely used for fitting generalized linear models with elastic net regularization and offers efficient algorithms for solving penalized regression problems. By the end of this tutorial, you will thoroughly understand how to fit regularized multinomial logistic regression models in R, both by manually implementing the model and utilizing the efficient {glmnet} package for regularized model fitting. Mastering regularized multinomial logistic regression is an essential skill for any data scientist or statistician, whether you are working with high-dimensional data or aiming to improve the interpretability of your models."
      ],
      "metadata": {
        "id": "Mzrj124IALc2"
      }
    },
    {
      "cell_type": "markdown",
      "source": [
        "## Overview\n",
        "\n",
        "Multinomial Logistic Regression (MLR) is an extension of binary logistic regression used when the dependent variable $y$ is categorical with more than two levels (e.g., $C$ classes, $y \\in \\{1, 2, \\dots, C\\}$). Regularization is added to the optimization process to prevent overfitting by penalizing large coefficients. To prevent overfitting, regularization is introduced by adding a penalty term to the likelihood function.\n",
        "\n",
        "The common regularization techniques are:\n",
        "\n",
        "***Ridge Regularization (L2)***\n",
        "\n",
        "Adds a penalty proportional to the square of the coefficients:\n",
        "\n",
        "$$ \\mathcal{R}_{\\text{ridge}} = \\lambda \\sum_{c=1}^C \\|\\mathbf{\\beta}_c\\|_2^2 $$\n",
        "\n",
        "where $\\lambda > 0$$ is the regularization strength. The objective becomes:\n",
        "\n",
        "$$ \\ell_{\\text{ridge}}(\\beta) = \\ell(\\beta) - \\lambda \\sum_{c=1}^C \\|\\mathbf{\\beta}_c\\|_2^2 $$\n",
        "\n",
        "\n",
        "***Lasso Regularization (L1)***\n",
        "\n",
        "Adds a penalty proportional to the absolute value of the coefficients:\n",
        "\n",
        "$$ \\mathcal{R}_{\\text{lasso}} = \\lambda \\sum_{c=1}^C \\|\\mathbf{\\beta}_c\\|_1 $$\n",
        "\n",
        "The objective becomes:\n",
        "\n",
        "$$ \\ell_{\\text{lasso}}(\\beta) = \\ell(\\beta) - \\lambda \\sum_{c=1}^C \\|\\mathbf{\\beta}_c\\|_1 $$\n",
        "\n",
        "***Elastic Net Regularization***\n",
        "\n",
        "Combines L1 and L2 penalties:\n",
        "\n",
        "$$ \\mathcal{R}_{\\text{elastic}} = \\lambda_1 \\sum_{c=1}^C \\|\\mathbf{\\beta}_c\\|_1 + \\lambda_2 \\sum_{c=1}^C \\|\\mathbf{\\beta}_c\\|_2^2 $$\n",
        "\n",
        "The objective becomes:\n",
        "\n",
        "$$ \\ell_{\\text{elastic}}(\\beta) = \\ell(\\beta) - \\lambda_1 \\sum_{c=1}^C \\|\\mathbf{\\beta}_c\\|_1 - \\lambda_2 \\sum_{c=1}^C \\|\\mathbf{\\beta}_c\\|_2^2 $$\n",
        "\n",
        "\n",
        "In Optimization Process, the parameters are estimated by solving:\n",
        "\n",
        "$$ \\arg \\max_{\\beta} \\ell(\\beta) - \\mathcal{R}(\\beta $$\n",
        "\n",
        "where $\\mathcal{R}(\\beta)$ is the chosen regularization term.\n",
        "\n",
        "Compute probabilities using the softmax function. Assign class $c$ with the highest probability:\n",
        "\n",
        "\n",
        "$$ \\hat{y} = \\arg \\max_{c} P(y = c \\mid \\mathbf{x}) $$\n",
        "    \n",
        "Use metrics like accuracy, cross-entropy loss, or confusion matrix to evaluate performance.\n"
      ],
      "metadata": {
        "id": "lXFLgxmJ_tyA"
      }
    },
    {
      "cell_type": "markdown",
      "source": [
        "## Install rpy2"
      ],
      "metadata": {
        "id": "FvUAqoXSDFZE"
      }
    },
    {
      "cell_type": "code",
      "source": [
        "!pip uninstall rpy2 -y\n",
        "!pip install rpy2==3.5.1\n",
        "%load_ext rpy2.ipython"
      ],
      "metadata": {
        "id": "kx_ENCQAdkj8",
        "colab": {
          "base_uri": "https://localhost:8080/"
        },
        "outputId": "a3135069-6f24-49b2-dd51-2e93f9db4156"
      },
      "execution_count": 2,
      "outputs": [
        {
          "output_type": "stream",
          "name": "stdout",
          "text": [
            "Found existing installation: rpy2 3.4.2\n",
            "Uninstalling rpy2-3.4.2:\n",
            "  Successfully uninstalled rpy2-3.4.2\n",
            "Collecting rpy2==3.5.1\n",
            "  Downloading rpy2-3.5.1.tar.gz (201 kB)\n",
            "\u001b[2K     \u001b[90m━━━━━━━━━━━━━━━━━━━━━━━━━━━━━━━━━━━━━━━━\u001b[0m \u001b[32m201.7/201.7 kB\u001b[0m \u001b[31m3.8 MB/s\u001b[0m eta \u001b[36m0:00:00\u001b[0m\n",
            "\u001b[?25h  Preparing metadata (setup.py) ... \u001b[?25l\u001b[?25hdone\n",
            "Requirement already satisfied: cffi>=1.10.0 in /usr/local/lib/python3.11/dist-packages (from rpy2==3.5.1) (1.17.1)\n",
            "Requirement already satisfied: jinja2 in /usr/local/lib/python3.11/dist-packages (from rpy2==3.5.1) (3.1.5)\n",
            "Requirement already satisfied: pytz in /usr/local/lib/python3.11/dist-packages (from rpy2==3.5.1) (2025.1)\n",
            "Requirement already satisfied: tzlocal in /usr/local/lib/python3.11/dist-packages (from rpy2==3.5.1) (5.2)\n",
            "Requirement already satisfied: pycparser in /usr/local/lib/python3.11/dist-packages (from cffi>=1.10.0->rpy2==3.5.1) (2.22)\n",
            "Requirement already satisfied: MarkupSafe>=2.0 in /usr/local/lib/python3.11/dist-packages (from jinja2->rpy2==3.5.1) (3.0.2)\n",
            "Building wheels for collected packages: rpy2\n",
            "  Building wheel for rpy2 (setup.py) ... \u001b[?25l\u001b[?25hdone\n",
            "  Created wheel for rpy2: filename=rpy2-3.5.1-cp311-cp311-linux_x86_64.whl size=314972 sha256=85c8023fcc3956e160c3e0be3d71145f0e9eed58274bf7eb3d0dd3cfd53ecf7a\n",
            "  Stored in directory: /root/.cache/pip/wheels/e9/55/d1/47be85a5f3f1e1f4d1e91cb5e3a4dcb40dd72147f184c5a5ef\n",
            "Successfully built rpy2\n",
            "Installing collected packages: rpy2\n",
            "Successfully installed rpy2-3.5.1\n"
          ]
        }
      ]
    },
    {
      "cell_type": "markdown",
      "source": [
        "## Mount Google Drive"
      ],
      "metadata": {
        "id": "nrG4m0HnDPzy"
      }
    },
    {
      "cell_type": "code",
      "source": [
        "from google.colab import drive\n",
        "drive.mount('/content/drive')"
      ],
      "metadata": {
        "colab": {
          "base_uri": "https://localhost:8080/"
        },
        "id": "BbTDFIyvDLD-",
        "outputId": "91e2fdcd-f7c9-461d-b37e-6668a9094afb"
      },
      "execution_count": 3,
      "outputs": [
        {
          "output_type": "stream",
          "name": "stdout",
          "text": [
            "Mounted at /content/drive\n"
          ]
        }
      ]
    },
    {
      "cell_type": "markdown",
      "source": [
        "## Regularized Multinomial Logistic Regression from Scratch\n",
        "\n",
        "Fitting a regularized multinomial logistic regression in R without using external packages can be achieved by manually implementing the necessary steps, as R does not natively provide multinomial logistic regression with regularization in base functions. Here's a comprehensive guide to perform this task:"
      ],
      "metadata": {
        "id": "lF6pYoGDDeVq"
      }
    },
    {
      "cell_type": "markdown",
      "source": [
        "### Synthetic Data Generation\n",
        "\n",
        "We will generate a synthetic dataset with three classes and multiple predictors."
      ],
      "metadata": {
        "id": "rK_dnzzNaOVI"
      }
    },
    {
      "cell_type": "code",
      "source": [
        "%%R\n",
        "# Set seed for reproducibility\n",
        "set.seed(42)\n",
        "\n",
        "# 1. Generate synthetic data\n",
        "n <- 300  # Number of observations\n",
        "p <- 10   # Number of predictors\n",
        "k <- 3    # Number of classes\n",
        "\n",
        "# Generate predictors\n",
        "X <- matrix(rnorm(n * p), n, p)\n",
        "\n",
        "# Generate coefficients\n",
        "beta <- matrix(rnorm(p * (k - 1)), p, k - 1)\n",
        "\n",
        "# Compute linear predictors and probabilities\n",
        "eta <- cbind(0, X %*% beta)  # Linear predictors for k-1 classes\n",
        "prob <- exp(eta) / rowSums(exp(eta))  # Convert to probabilities\n",
        "y <- apply(prob, 1, function(x) sample(1:k, 1, prob = x))  # Multinomial response\n",
        "\n",
        "data <- data.frame(y = as.factor(y), X)\n",
        "head(data)"
      ],
      "metadata": {
        "colab": {
          "base_uri": "https://localhost:8080/"
        },
        "id": "OSHJXoNWDlFy",
        "outputId": "43211bf8-ed1c-4865-c36f-ded8d2b0f11c"
      },
      "execution_count": null,
      "outputs": [
        {
          "output_type": "stream",
          "name": "stdout",
          "text": [
            "  y         X1           X2         X3          X4          X5         X6\n",
            "1 3  1.3709584 -0.004620768 -0.2484829  0.94192422 -0.74651645 -0.6013830\n",
            "2 1 -0.5646982  0.760242168  0.4223204 -0.24861404  0.03660612 -0.1358161\n",
            "3 1  0.3631284  0.038990913  0.9876533  0.09647886  0.32330962 -0.9872728\n",
            "4 3  0.6328626  0.735072142  0.8355682 -0.43393094  0.37967603  0.8319250\n",
            "5 3  0.4042683 -0.146472627 -0.6605219  2.17866787  0.87655650 -0.7950595\n",
            "6 2 -0.1061245 -0.057887335  1.5640695 -2.95877962  0.93338799  0.3404646\n",
            "          X7          X8          X9        X10\n",
            "1 -1.2213334 -0.58693858  1.32750456 -0.5446893\n",
            "2 -0.4529860  0.92697573 -0.60083583 -0.4345330\n",
            "3 -0.7023199 -0.06540585  0.05650686 -0.1408452\n",
            "4 -0.6743804 -0.93711176 -0.53107629  1.7581413\n",
            "5 -2.3030232 -0.63385943 -0.08089878 -0.8301414\n",
            "6 -0.1493329 -0.57522429  0.16075559  0.5144278\n"
          ]
        }
      ]
    },
    {
      "cell_type": "markdown",
      "source": [
        "### Cross-validation setup and Regularization\n",
        "\n",
        "Create a 5-fold cross-validation setup and define the hyperparameters for regularization."
      ],
      "metadata": {
        "id": "o9bNQJEmaV9o"
      }
    },
    {
      "cell_type": "code",
      "source": [
        "%%R\n",
        "# 2. Cross-validation setup\n",
        "folds <- sample(1:5, n, replace = TRUE)  # 5-fold cross-validation\n",
        "alphas <- seq(0, 1, by = 0.1)  # Elastic net mixing\n",
        "lambdas <- 10^seq(-4, 1, length = 10)  # Regularization strengths"
      ],
      "metadata": {
        "id": "9Od13QgSaZ0P"
      },
      "execution_count": null,
      "outputs": []
    },
    {
      "cell_type": "markdown",
      "source": [
        "### Create Loss Functions and Optimization\n",
        "  \n",
        "Define the loss functions for Ridge, Lasso, and Elastic Net regularization. The loss functions compute the negative log-likelihood of the multinomial logistic regression model with the penalty term."
      ],
      "metadata": {
        "id": "gh1d3Ox5ac8v"
      }
    },
    {
      "cell_type": "code",
      "source": [
        "%%R\n",
        "# 3. Loss functions for regularized multinomial logistic regression\n",
        "ridge_loss <- function(beta_vec, X, y, lambda, k) {\n",
        "  n <- nrow(X)\n",
        "  p <- ncol(X)\n",
        "  beta <- matrix(beta_vec, p, k - 1)\n",
        "\n",
        "  # Compute linear predictors and probabilities\n",
        "  eta <- cbind(0, X %*% beta)\n",
        "  prob <- exp(eta) / rowSums(exp(eta))\n",
        "\n",
        "  # Multinomial negative log-likelihood\n",
        "  log_lik <- -sum(log(prob[cbind(1:n, as.numeric(y))]))\n",
        "\n",
        "  # Ridge penalty\n",
        "  ridge_penalty <- lambda * sum(beta^2)\n",
        "\n",
        "  return(log_lik + ridge_penalty)\n",
        "}\n",
        "\n",
        "lasso_loss <- function(beta_vec, X, y, lambda, k) {\n",
        "  n <- nrow(X)\n",
        "  p <- ncol(X)\n",
        "  beta <- matrix(beta_vec, p, k - 1)\n",
        "\n",
        "  # Compute linear predictors and probabilities\n",
        "  eta <- cbind(0, X %*% beta)\n",
        "  prob <- exp(eta) / rowSums(exp(eta))\n",
        "\n",
        "  # Multinomial negative log-likelihood\n",
        "  log_lik <- -sum(log(prob[cbind(1:n, as.numeric(y))]))\n",
        "\n",
        "  # Lasso penalty\n",
        "  lasso_penalty <- lambda * sum(abs(beta))\n",
        "\n",
        "  return(log_lik + lasso_penalty)\n",
        "}\n",
        "\n",
        "elastic_net_loss <- function(beta_vec, X, y, lambda, alpha, k) {\n",
        "  n <- nrow(X)\n",
        "  p <- ncol(X)\n",
        "  beta <- matrix(beta_vec, p, k - 1)\n",
        "\n",
        "  # Compute linear predictors and probabilities\n",
        "  eta <- cbind(0, X %*% beta)\n",
        "  prob <- exp(eta) / rowSums(exp(eta))\n",
        "\n",
        "  # Multinomial negative log-likelihood\n",
        "  log_lik <- -sum(log(prob[cbind(1:n, as.numeric(y))]))\n",
        "\n",
        "  # Elastic net penalty\n",
        "  ridge_penalty <- (1 - alpha) * lambda * sum(beta^2)\n",
        "  lasso_penalty <- alpha * lambda * sum(abs(beta))\n",
        "\n",
        "  return(log_lik + ridge_penalty + lasso_penalty)\n",
        "}\n",
        "\n",
        "# Gradient descent optimization for Ridge, Lasso, and Elastic Net\n",
        "optimize_model <- function(X, y, lambda, alpha =NULL,  k, loss_function) {\n",
        "  p <- ncol(X)\n",
        "  beta_init <- rnorm(p * (k - 1))\n",
        "\n",
        "  # Pass alpha only for Elastic Net\n",
        "  if (is.null(alpha)) {\n",
        "    optim_res <- optim(beta_init, loss_function, X = X, y = y, lambda = lambda, k = k, method = \"BFGS\")\n",
        "  } else {\n",
        "    optim_res <- optim(beta_init, loss_function, X = X, y = y, lambda = lambda, alpha = alpha, k = k, method = \"BFGS\")\n",
        "  }\n",
        "\n",
        "  return(matrix(optim_res$par, p, k - 1))\n",
        "}"
      ],
      "metadata": {
        "id": "1hoHgJkgadng"
      },
      "execution_count": null,
      "outputs": []
    },
    {
      "cell_type": "markdown",
      "source": [
        "### Hyperparameter Selection via Cross-Validation\n",
        "\n",
        "Perform hyperparameter selection via cross-validation to find the best model and hyperparameters.  "
      ],
      "metadata": {
        "id": "iK_O10mmakc3"
      }
    },
    {
      "cell_type": "code",
      "source": [
        "%%R\n",
        "# 4. Hyperparameter selection via Cross-Validation\n",
        "cv_results <- data.frame(Model = character(), alpha = numeric(), lambda = numeric(), log_loss = numeric())\n",
        "\n",
        "# Ridge, Lasso, and Elastic Net models\n",
        "models <- c(\"Ridge\", \"Lasso\", \"ElasticNet\")\n",
        "\n",
        "for (model in models) {\n",
        "  for (alpha in alphas) {\n",
        "    for (lambda in lambdas) {\n",
        "      log_losses <- c()\n",
        "      for (fold in 1:5) {\n",
        "        train_idx <- which(folds != fold)\n",
        "        test_idx <- which(folds == fold)\n",
        "\n",
        "        # Train model\n",
        "        if (model == \"Ridge\") {\n",
        "          beta <- optimize_model(X[train_idx, ], y[train_idx], lambda, alpha = NULL, k, ridge_loss)\n",
        "        } else if (model == \"Lasso\") {\n",
        "          beta <- optimize_model(X[train_idx, ], y[train_idx], lambda, alpha = NULL, k, lasso_loss)\n",
        "        } else if (model == \"ElasticNet\") {\n",
        "          beta <- optimize_model(X[train_idx, ], y[train_idx], lambda, alpha, k, elastic_net_loss)\n",
        "        }\n",
        "\n",
        "        # Predict on test data\n",
        "        eta_test <- cbind(0, X[test_idx, ] %*% beta)\n",
        "        prob_test <- exp(eta_test) / rowSums(exp(eta_test))\n",
        "\n",
        "        # Compute log-loss\n",
        "        log_loss <- -mean(log(prob_test[cbind(1:length(test_idx), as.numeric(y[test_idx]))]))\n",
        "        log_losses <- c(log_losses, log_loss)\n",
        "      }\n",
        "      cv_results <- rbind(cv_results, data.frame(Model = model, alpha = alpha, lambda = lambda, log_loss = mean(log_losses)))\n",
        "    }\n",
        "  }\n",
        "}\n",
        "\n",
        "# Best model and hyperparameters\n",
        "best_params <- cv_results[which.min(cv_results$log_loss), ]\n",
        "best_model <- best_params$Model\n",
        "best_alpha <- best_params$alpha\n",
        "best_lambda <- best_params$lambda\n",
        "best_lambda\n",
        "best_alpha"
      ],
      "metadata": {
        "colab": {
          "base_uri": "https://localhost:8080/"
        },
        "id": "t475ACcganfG",
        "outputId": "0206e328-0bf2-47a0-fead-e17db3785e51"
      },
      "execution_count": null,
      "outputs": [
        {
          "output_type": "stream",
          "name": "stdout",
          "text": [
            "[1] 0.6\n"
          ]
        }
      ]
    },
    {
      "cell_type": "markdown",
      "source": [
        "### Fit ridge, lasso, and elastic net models\n",
        "\n",
        "Fit the final models using the best hyperparameters obtained from cross-validation."
      ],
      "metadata": {
        "id": "tAXzrHifaqni"
      }
    },
    {
      "cell_type": "code",
      "source": [
        "%%R\n",
        "ridge_beta<- optimize_model(X, y, best_lambda, alpha = NULL, k, ridge_loss)\n",
        "lasso_beta<- optimize_model(X, y, best_lambda, alpha = NULL, k, lasso_loss)\n",
        "elastic_net_beta <- optimize_model(X, y, best_lambda, best_alpha, k, elastic_net_loss)\n"
      ],
      "metadata": {
        "id": "YQzU_FEzarRt"
      },
      "execution_count": null,
      "outputs": []
    },
    {
      "cell_type": "markdown",
      "source": [
        "### Moodel Evaluation"
      ],
      "metadata": {
        "id": "bPHYlBKoavNT"
      }
    },
    {
      "cell_type": "code",
      "source": [
        "%%R\n",
        "# ealstic net\n",
        "# 6. Model Evaluation: Confusion Matrix, Accuracy, Cross-Entropy\n",
        "eta <- cbind(0, X %*% elastic_net_beta)\n",
        "prob <- exp(eta) / rowSums(exp(eta))\n",
        "predictions <- apply(prob, 1, which.max)\n",
        "\n",
        "# Confusion matrix\n",
        "conf_mat <- table(Predicted = predictions, Actual = y)\n",
        "\n",
        "# Overall accuracy\n",
        "accuracy <- sum(diag(conf_mat)) / n\n",
        "\n",
        "# In-class accuracy\n",
        "in_class_acc <- diag(conf_mat) / rowSums(conf_mat)\n",
        "\n",
        "# Cross-entropy\n",
        "cross_entropy <- -mean(log(prob[cbind(1:n, as.numeric(y))]))\n",
        "\n",
        "# Output results\n",
        "list(\n",
        "  Best_Model = best_model,\n",
        "  Confusion_Matrix = conf_mat,\n",
        "  Overall_Accuracy = accuracy,\n",
        "  In_Class_Accuracy = in_class_acc,\n",
        "  Cross_Entropy = cross_entropy\n",
        ")\n"
      ],
      "metadata": {
        "colab": {
          "base_uri": "https://localhost:8080/"
        },
        "id": "52KoKdfra00V",
        "outputId": "3ec27fcd-21b6-4001-9614-7b65d84d5ac4"
      },
      "execution_count": null,
      "outputs": [
        {
          "output_type": "stream",
          "name": "stdout",
          "text": [
            "$Best_Model\n",
            "[1] \"ElasticNet\"\n",
            "\n",
            "$Confusion_Matrix\n",
            "         Actual\n",
            "Predicted  1  2  3\n",
            "        1 77 13 10\n",
            "        2 14 75  9\n",
            "        3 15 10 77\n",
            "\n",
            "$Overall_Accuracy\n",
            "[1] 0.7633333\n",
            "\n",
            "$In_Class_Accuracy\n",
            "        1         2         3 \n",
            "0.7700000 0.7653061 0.7549020 \n",
            "\n",
            "$Cross_Entropy\n",
            "[1] 0.5188962\n",
            "\n"
          ]
        }
      ]
    },
    {
      "cell_type": "markdown",
      "source": [
        "## Regularized Multinomial Logistic Regression in R\n",
        "\n",
        "In R, you can perform multinomial logistic regression using the {glmnet} package, which fits a generalized linear model via penalized maximum likelihood. {glmnet} supports ridge regression, lasso regression, and elastic net for various types of generalized linear models, including multinomial logistic regression.\n",
        "\n",
        "-   The response variable y must be a factor for multinomial regression.\n",
        "-   The `family = \"multinomial\"` argument ensures that the model performs multinomial logistic regression.\n",
        "-   `glmnet` handles both Lasso (`alpha = 1`) and Ridge (`alpha = 0`) penalties, or you can use an Elastic Net combination by setting `0 < alpha < 1`.\n",
        "\n",
        "In this tutorial, we will demonstrate how to perform regularized multinomial logistic regression in R using the {glmnet} package. We will use the `health_insurance` data set, which contains information about individuals' choice of health insurance products based on their"
      ],
      "metadata": {
        "id": "HL0oGvfdDhc1"
      }
    },
    {
      "cell_type": "markdown",
      "source": [
        "\n",
        "### Install Required R Packages"
      ],
      "metadata": {
        "id": "kpl7DzxSLjO9"
      }
    },
    {
      "cell_type": "code",
      "source": [
        "%%R\n",
        "packages <- c('tidyverse',\n",
        "     'plyr',\n",
        "\t\t 'rstatix',\n",
        "\t\t 'ggeffects',\n",
        "\t\t 'patchwork',\n",
        "\t\t 'Metrics',\n",
        "\t\t 'glmnet'\n",
        "\t  \t)"
      ],
      "metadata": {
        "id": "xHnFfjEeLjZK"
      },
      "execution_count": 4,
      "outputs": []
    },
    {
      "cell_type": "code",
      "source": [
        "%%R\n",
        "# Install missing packages\n",
        "new.packages <- packages[!(pacakges %in% installed.packages(lib='drive/My Drive/R/')[,\"Package\"])]\n",
        "if(length(new.packages)) install.packages(new.packages, lib='drive/My Drive/R/')"
      ],
      "metadata": {
        "id": "NgDVo2zkIo2W"
      },
      "execution_count": null,
      "outputs": []
    },
    {
      "cell_type": "code",
      "source": [
        "%%R\n",
        "# set library path\n",
        ".libPaths('drive/My Drive/R')\n",
        "# Verify installation\n",
        "cat(\"Installed packages:\\n\")\n",
        "print(sapply(packages, requireNamespace, quietly = TRUE))"
      ],
      "metadata": {
        "colab": {
          "base_uri": "https://localhost:8080/"
        },
        "id": "EVeHBwK8IpAp",
        "outputId": "fcc9a3a0-2bbe-432f-dcc0-8829a12f6961"
      },
      "execution_count": 5,
      "outputs": [
        {
          "output_type": "stream",
          "name": "stdout",
          "text": [
            "Installed packages:\n",
            "tidyverse      plyr   rstatix ggeffects patchwork   Metrics    glmnet \n",
            "     TRUE      TRUE      TRUE      TRUE      TRUE      TRUE      TRUE \n"
          ]
        }
      ]
    },
    {
      "cell_type": "markdown",
      "source": [
        "### Load R Packages"
      ],
      "metadata": {
        "id": "Hv8fckeqLjoJ"
      }
    },
    {
      "cell_type": "code",
      "source": [
        "%%R\n",
        "# set library path\n",
        ".libPaths('drive/My Drive/R')\n",
        "# Load packages with suppressed messages\n",
        "invisible(lapply(packages, function(pkg) {\n",
        "  suppressPackageStartupMessages(library(pkg, character.only = TRUE))\n",
        "}))\n",
        "# Check loaded packages\n",
        "cat(\"Successfully loaded packages:\\n\")\n",
        "print(search()[grepl(\"package:\", search())])# Check loaded packageswer)"
      ],
      "metadata": {
        "id": "BYvlWojDLjw9",
        "colab": {
          "base_uri": "https://localhost:8080/"
        },
        "outputId": "90d86a52-b1cd-4d92-a2cb-14d14b964179"
      },
      "execution_count": 6,
      "outputs": [
        {
          "output_type": "stream",
          "name": "stdout",
          "text": [
            "Successfully loaded packages:\n",
            " [1] \"package:glmnet\"    \"package:Matrix\"    \"package:Metrics\"  \n",
            " [4] \"package:patchwork\" \"package:ggeffects\" \"package:rstatix\"  \n",
            " [7] \"package:plyr\"      \"package:lubridate\" \"package:forcats\"  \n",
            "[10] \"package:stringr\"   \"package:dplyr\"     \"package:purrr\"    \n",
            "[13] \"package:readr\"     \"package:tidyr\"     \"package:tibble\"   \n",
            "[16] \"package:ggplot2\"   \"package:tidyverse\" \"package:tools\"    \n",
            "[19] \"package:stats\"     \"package:graphics\"  \"package:grDevices\"\n",
            "[22] \"package:utils\"     \"package:datasets\"  \"package:methods\"  \n",
            "[25] \"package:base\"     \n"
          ]
        }
      ]
    },
    {
      "cell_type": "markdown",
      "source": [
        "### Data\n",
        "\n",
        "In this tutorial, we will be using [health_insurance data](http://peopleanalytics-regression-book.org/data/health_insurance.csv).\n",
        "\n",
        "The health_insurance data set consists of the following fields:\n",
        "\n",
        "-   `product`: The choice of product of the individual — A, B or C\n",
        "-   `age`: The age of the individual when they made the choice\n",
        "-   `gender`: The gender of the individual as stated when they made the choice\n",
        "-   `household`: The number of people living with the individual in the same household at the time of the choice\n",
        "-   `position_level`: Position level in the company at the time they made the choice, where 1 is is the lowest and 5 is the highest\n",
        "-   `absent`: The number of days the individual was absent from work in the year prior to the choice\n",
        "\n",
        "Full data set is available for download can download from my [Dropbox](https://www.dropbox.com/scl/fi/hz4smnf3okszutoujewc9/health_insurance.csv?rlkey=7z5wahrnyjye6fggwr2gu8dmm&dl=0) or from my [Github](https://github.com/zia207/r-colab/tree/main/Data/Regression_analysis) accounts."
      ],
      "metadata": {
        "id": "hXnZkD1qMDgl"
      }
    },
    {
      "cell_type": "code",
      "source": [
        "%%R\n",
        "mf<-read_csv(\"https://github.com/zia207/r-colab/raw/main/Data/Regression_analysis/health_insurance.csv\")\n",
        "# Convert to factor\n",
        "mf$product <- as.factor(mf$product)\n",
        "mf$gender <- as.factor(mf$gender)\n",
        "# Split data\n",
        "seeds = 11076\n",
        "tr_prop = 0.70\n",
        "# training data (70% data)\n",
        "train= ddply(mf,.(product, gender ),\n",
        "                 function(., seed) { set.seed(seed); .[sample(1:nrow(.), trunc(nrow(.) * tr_prop)), ] }, seed = 101)\n",
        "test = ddply(mf, .(product , gender),\n",
        "            function(., seed) { set.seed(seed); .[-sample(1:nrow(.), trunc(nrow(.) * tr_prop)), ] }, seed = 101)\n",
        "print(prop.table(table(train$product)))\n",
        "print(prop.table(table(test$product)))"
      ],
      "metadata": {
        "colab": {
          "base_uri": "https://localhost:8080/"
        },
        "id": "dfqMQziCMJnp",
        "outputId": "61d34667-d532-472d-8938-97f1172f3f93"
      },
      "execution_count": null,
      "outputs": [
        {
          "output_type": "stream",
          "name": "stdout",
          "text": [
            "Rows: 1448 Columns: 6\n",
            "── Column specification ────────────────────────────────────────────────────────\n",
            "Delimiter: \",\"\n",
            "chr (2): product, gender\n",
            "dbl (4): age, household, position_level, absent\n",
            "\n",
            "ℹ Use `spec()` to retrieve the full column specification for this data.\n",
            "ℹ Specify the column types or set `show_col_types = FALSE` to quiet this message.\n",
            "\n",
            "        A         B         C \n",
            "0.3405941 0.3158416 0.3435644 \n",
            "\n",
            "        A         B         C \n",
            "0.3401826 0.3150685 0.3447489 \n"
          ]
        }
      ]
    },
    {
      "cell_type": "markdown",
      "source": [
        "### Create x and y\n",
        "\n",
        "You need to create two objects:\n",
        "\n",
        "-   `y` for storing the outcome variable\n",
        "-   `x` for holding the predictor variables. This should be created using the function model.matrix() allowing to automatically transform any qualitative variables (if any) into dummy variables, which is important because `glmnet()` can only take numerical, quantitative inputs. After creating the model matrix, we remove the intercept component at index = 1.\n"
      ],
      "metadata": {
        "id": "Ze3gmCtPMMyQ"
      }
    },
    {
      "cell_type": "code",
      "source": [
        "%%R\n",
        "# Predictor variables\n",
        "x.train <- model.matrix(product~., train)[,-1]\n",
        "# Outcome variable\n",
        "y.train <-train$product"
      ],
      "metadata": {
        "id": "aijZRKakMPkF"
      },
      "execution_count": null,
      "outputs": []
    },
    {
      "cell_type": "markdown",
      "source": [
        "### Ridge Regression"
      ],
      "metadata": {
        "id": "bw9WuDklOII9"
      }
    },
    {
      "cell_type": "markdown",
      "source": [
        "#### Cross-validation for the best lambda\n",
        "\n",
        "Now we can apply `cv.glmnet()` function for cross-validation to choose the best lambda (regularization parameter). For example, suppose we designate $α$=0 for ridge regression and specify `nlambda` as 200. This implies that the model fit will be calculated solely for 200 $λ$ values.\n",
        "\n",
        "A special option for multinomial regression is type.multinomial, which allows the usage of a grouped lasso penalty (q=2 ) if `type.multinomial = \"grouped\"`. The default is `type.multinomial = \"ungrouped\" (q=1 ).`"
      ],
      "metadata": {
        "id": "f8rmQijgMTXm"
      }
    },
    {
      "cell_type": "code",
      "source": [
        "%%R\n",
        "# cross validation\n",
        "ridge.cv <- cv.glmnet(x= x.train,\n",
        "                       y= y.train,\n",
        "                       type.measure=\"deviance\",\n",
        "                       nfold = 5,\n",
        "                       alpha=0,\n",
        "                       family = \"multinomial\",\n",
        "                       type.multinomial = \"grouped\",\n",
        "                       nlambda=200)"
      ],
      "metadata": {
        "id": "EkJiGcrqMUdp"
      },
      "execution_count": null,
      "outputs": []
    },
    {
      "cell_type": "markdown",
      "source": [
        "Printing the resulting object gives some basic information on the cross-validation performed:"
      ],
      "metadata": {
        "id": "aAfFklx3MZd6"
      }
    },
    {
      "cell_type": "code",
      "source": [
        "%%R\n",
        "print(ridge.cv)"
      ],
      "metadata": {
        "colab": {
          "base_uri": "https://localhost:8080/"
        },
        "id": "Oj0p7A5kMaJD",
        "outputId": "79dc5350-e2cb-40db-db6d-512654e73e74"
      },
      "execution_count": null,
      "outputs": [
        {
          "output_type": "stream",
          "name": "stdout",
          "text": [
            "\n",
            "Call:  cv.glmnet(x = x.train, y = y.train, type.measure = \"deviance\",      nfolds = 5, alpha = 0, family = \"multinomial\", type.multinomial = \"grouped\",      nlambda = 200) \n",
            "\n",
            "Measure: Multinomial Deviance \n",
            "\n",
            "     Lambda Index Measure      SE Nonzero\n",
            "min 0.03771   200   1.139 0.01966       6\n",
            "1se 0.04537   196   1.158 0.01826       6\n"
          ]
        }
      ]
    },
    {
      "cell_type": "markdown",
      "source": [
        "We can plot `ridge.cv` object to see how each tested lambda value performed:"
      ],
      "metadata": {
        "id": "Cn07hzaZMeMl"
      }
    },
    {
      "cell_type": "code",
      "source": [
        "%%R -w 500 -h 400\n",
        "plot(ridge.cv)"
      ],
      "metadata": {
        "colab": {
          "base_uri": "https://localhost:8080/",
          "height": 417
        },
        "id": "cz7oU7HgMiA1",
        "outputId": "f13e403e-7c88-448d-871a-71ac27d47981"
      },
      "execution_count": null,
      "outputs": [
        {
          "output_type": "display_data",
          "data": {
            "image/png": "[encoded data removed]"
          },
          "metadata": {}
        }
      ]
    },
    {
      "cell_type": "markdown",
      "source": [
        "The plot shows the cross-validation error based on the logarithm of lambda. The dashed vertical line on the left indicates that the optimal logarithm of lambda is around -2, which minimizes the prediction error. This lambda value will provide the most accurate model. The exact value of lambda can be viewed as follow:"
      ],
      "metadata": {
        "id": "TR_xJ4rjMg_j"
      }
    },
    {
      "cell_type": "code",
      "source": [
        "%%R\n",
        "ridge.cv$lambda.min"
      ],
      "metadata": {
        "colab": {
          "base_uri": "https://localhost:8080/"
        },
        "id": "YcSopOjbMnyh",
        "outputId": "194b6255-40ea-4041-d73e-c026278fcbd7"
      },
      "execution_count": null,
      "outputs": [
        {
          "output_type": "stream",
          "name": "stdout",
          "text": [
            "[1] 0.03770618\n"
          ]
        }
      ]
    },
    {
      "cell_type": "markdown",
      "source": [
        "Generally, the purpose of regularization is to balance accuracy and simplicity. This means, a model with the smallest number of predictors that also gives a good accuracy. To this end, the function `cv.glmnet()` finds also the value of lambda that gives the simplest model but also lies within one standard error of the optimal value of lambda. This value is called `lambda.1se`."
      ],
      "metadata": {
        "id": "IVMosy-fMs2j"
      }
    },
    {
      "cell_type": "markdown",
      "source": [
        "#### Fit ridge regression\n",
        "\n",
        "Now Fit the final model with the best \"lambda\":"
      ],
      "metadata": {
        "id": "btl8DlQuMuLB"
      }
    },
    {
      "cell_type": "code",
      "source": [
        "%%R\n",
        "# fit ridge regression\n",
        "ridge.fit <-  glmnet(x= x.train,\n",
        "                       y= y.train,\n",
        "                       alpha=0,\n",
        "                       lambda = ridge.cv$lambda.1se,\n",
        "                       family = \"multinomial\",\n",
        "                       type.multinomial = \"grouped\",\n",
        "                       nlambda=200)"
      ],
      "metadata": {
        "id": "jYgKAIrSMyg8"
      },
      "execution_count": null,
      "outputs": []
    },
    {
      "cell_type": "code",
      "source": [
        "%%R\n",
        "# Display regression coefficients\n",
        "coef(ridge.fit )"
      ],
      "metadata": {
        "colab": {
          "base_uri": "https://localhost:8080/"
        },
        "id": "Z4zdJbvdM4pe",
        "outputId": "a616ca29-d70c-404b-fa79-871c8f5658c5"
      },
      "execution_count": null,
      "outputs": [
        {
          "output_type": "stream",
          "name": "stdout",
          "text": [
            "$A\n",
            "6 x 1 sparse Matrix of class \"dgCMatrix\"\n",
            "                         s0\n",
            "                2.648144980\n",
            "age            -0.087712433\n",
            "household       0.118887896\n",
            "position_level  0.125788485\n",
            "genderMale      0.441857800\n",
            "absent         -0.002939366\n",
            "\n",
            "$B\n",
            "6 x 1 sparse Matrix of class \"dgCMatrix\"\n",
            "                         s0\n",
            "                0.596075835\n",
            "age             0.032590386\n",
            "household      -0.410129801\n",
            "position_level -0.106127988\n",
            "genderMale     -1.027268491\n",
            "absent         -0.001981378\n",
            "\n",
            "$C\n",
            "6 x 1 sparse Matrix of class \"dgCMatrix\"\n",
            "                         s0\n",
            "               -3.244220816\n",
            "age             0.055122047\n",
            "household       0.291241905\n",
            "position_level -0.019660497\n",
            "genderMale      0.585410691\n",
            "absent          0.004920744\n",
            "\n"
          ]
        }
      ]
    },
    {
      "cell_type": "markdown",
      "source": [
        "#### Prediction test data"
      ],
      "metadata": {
        "id": "J7UL6qnXNIOF"
      }
    },
    {
      "cell_type": "code",
      "source": [
        "%%R\n",
        "# Make predictions on the test data\n",
        "x.test <- model.matrix(product~., test)[,-1]\n",
        "# Outcome variable\n",
        "y.test <-train$product\n",
        "\n",
        "# Prediction\n",
        "ridge.pred<-as.data.frame(test$product)\n",
        "ridge.pred$Class_Pred<-ridge.fit  |>\n",
        "      predict(newx = x.test, type=\"class\")\n",
        "ridge.pred <- ridge.pred |>\n",
        "              dplyr::select(\"test$product\", \"Class_Pred\") |>\n",
        "              dplyr::rename(Obs_Class = \"test$product\") |>\n",
        "              dplyr::rename(Pred_Class = \"Class_Pred\")\n",
        "glimpse(ridge.pred)\n",
        "# ordering the levels\n",
        "ridge.pred$Obs_Class  <- ordered(ridge.pred$Obs_Class, levels = c(\"A\", \"B\", \"C\"))\n",
        "ridge.pred $Pred_Class <- ordered(ridge.pred$Pred_Class  , levels = c(\"A\", \"B\", \"C\"))"
      ],
      "metadata": {
        "colab": {
          "base_uri": "https://localhost:8080/"
        },
        "id": "rL245iuBNJII",
        "outputId": "7211881d-dfc1-492e-a025-5687eeefb840"
      },
      "execution_count": null,
      "outputs": [
        {
          "output_type": "stream",
          "name": "stdout",
          "text": [
            "Rows: 438\n",
            "Columns: 2\n",
            "$ Obs_Class  <fct> A, A, A, A, A, A, A, A, A, A, A, A, A, A, A, A, A, A, A, A,…\n",
            "$ Pred_Class <chr[,1]> \"A\", \"B\", \"A\", \"B\", \"B\", \"A\", \"C\", \"A\", \"A\", \"A\", \"A\", …\n"
          ]
        }
      ]
    },
    {
      "cell_type": "code",
      "source": [
        "%%R\n",
        "# accuracy\n",
        "accuracy <- mean(ridge.pred$Obs_Class  == ridge.pred$Pred_Class)\n",
        "accuracy\n"
      ],
      "metadata": {
        "colab": {
          "base_uri": "https://localhost:8080/"
        },
        "id": "EhEVwiRvNM8J",
        "outputId": "acede967-d659-4551-97d5-3ef1ae4691dc"
      },
      "execution_count": null,
      "outputs": [
        {
          "output_type": "stream",
          "name": "stdout",
          "text": [
            "[1] 0.7648402\n"
          ]
        }
      ]
    },
    {
      "cell_type": "code",
      "source": [
        "%%R\n",
        "# error rate\n",
        "error <- mean(ridge.pred$Obs_Class != ridge.pred$Pred_Class)\n",
        "error"
      ],
      "metadata": {
        "colab": {
          "base_uri": "https://localhost:8080/"
        },
        "id": "JSz9jUDQNO-a",
        "outputId": "71816143-a429-41fb-fef6-6dc87367ea0f"
      },
      "execution_count": null,
      "outputs": [
        {
          "output_type": "stream",
          "name": "stdout",
          "text": [
            "[1] 0.2351598\n"
          ]
        }
      ]
    },
    {
      "cell_type": "code",
      "source": [
        "%%R\n",
        "# confusion matrix\n",
        "table(Actual = ridge.pred$Obs_Class, Predicted =ridge.pred$Pred_Class)"
      ],
      "metadata": {
        "colab": {
          "base_uri": "https://localhost:8080/"
        },
        "id": "bUaAJBUeNTkV",
        "outputId": "b7af1f5e-a95d-4491-8e60-f611f17cb16d"
      },
      "execution_count": null,
      "outputs": [
        {
          "output_type": "stream",
          "name": "stdout",
          "text": [
            "      Predicted\n",
            "Actual   A   B   C\n",
            "     A 122  17  10\n",
            "     B  24 103  11\n",
            "     C  22  19 110\n"
          ]
        }
      ]
    },
    {
      "cell_type": "markdown",
      "source": [
        "### LASSO regression"
      ],
      "metadata": {
        "id": "y_jtffifN5u5"
      }
    },
    {
      "cell_type": "markdown",
      "source": [
        "#### Cross Validation of the best Lasso regression\n",
        "\n",
        "We can set up our model very similarly to our ridge function. We simply need to change the `alpha`argument to 1 and do K-fold cross-validation:"
      ],
      "metadata": {
        "id": "hgY0dlkUNYRP"
      }
    },
    {
      "cell_type": "code",
      "source": [
        "%%R\n",
        "# cross validation\n",
        "lasso.cv <- cv.glmnet(x= x.train,\n",
        "                       y= y.train,\n",
        "                       type.measure=\"mse\",\n",
        "                       nfold = 5,\n",
        "                       alpha=1,\n",
        "                       family = \"multinomial\",\n",
        "                       type.multinomial = \"grouped\",\n",
        "                       nlambda=200)"
      ],
      "metadata": {
        "id": "jqcTBDGSNcZl"
      },
      "execution_count": null,
      "outputs": []
    },
    {
      "cell_type": "code",
      "source": [
        "%%R\n",
        "print(lasso.cv)"
      ],
      "metadata": {
        "colab": {
          "base_uri": "https://localhost:8080/"
        },
        "id": "_O6Gke_mNnWJ",
        "outputId": "8f44ed09-4fbb-4b63-ab32-07ae02041c37"
      },
      "execution_count": null,
      "outputs": [
        {
          "output_type": "stream",
          "name": "stdout",
          "text": [
            "\n",
            "Call:  cv.glmnet(x = x.train, y = y.train, type.measure = \"mse\", nfolds = 5,      alpha = 1, family = \"multinomial\", type.multinomial = \"grouped\",      nlambda = 200) \n",
            "\n",
            "Measure: Mean-Squared Error \n",
            "\n",
            "     Lambda Index Measure       SE Nonzero\n",
            "min 0.00534    93  0.3221 0.010354       6\n",
            "1se 0.03244    54  0.3320 0.007299       5\n"
          ]
        }
      ]
    },
    {
      "cell_type": "code",
      "source": [
        "%%R -w 500 -h 400 -u px\n",
        "plot(lasso.cv)"
      ],
      "metadata": {
        "colab": {
          "base_uri": "https://localhost:8080/",
          "height": 417
        },
        "id": "HdRra5joNq-5",
        "outputId": "91ff8bac-491c-4318-b57c-02d84e9772bf"
      },
      "execution_count": null,
      "outputs": [
        {
          "output_type": "display_data",
          "data": {
            "image/png": "[encoded data removed]"
          },
          "metadata": {}
        }
      ]
    },
    {
      "cell_type": "code",
      "source": [
        "%%R\n",
        "# Choose lambda with standard error of the minimum\n",
        "lasso.cv$lambda.1se"
      ],
      "metadata": {
        "colab": {
          "base_uri": "https://localhost:8080/"
        },
        "id": "hCLlN5-sOVPf",
        "outputId": "6bc7b78b-c0c2-4895-9337-af6432f5a398"
      },
      "execution_count": null,
      "outputs": [
        {
          "output_type": "stream",
          "name": "stdout",
          "text": [
            "[1] 0.03244038\n"
          ]
        }
      ]
    },
    {
      "cell_type": "markdown",
      "source": [
        "#### Fit a lasso regression\n",
        "\n",
        "Now Fit the final model with the best \"lambda\":"
      ],
      "metadata": {
        "id": "4IJlQIAKOXWx"
      }
    },
    {
      "cell_type": "code",
      "source": [
        "%%R\n",
        "# fit lasso regression\n",
        "lasso.fit <-  glmnet(x= x.train,\n",
        "                       y= y.train,\n",
        "                       alpha=1,\n",
        "                       lambda = lasso.cv$lambda.1se,\n",
        "                       family = \"multinomial\",\n",
        "                       type.multinomial = \"grouped\",\n",
        "                       nlambda=200)"
      ],
      "metadata": {
        "id": "8nIHITyGOYAc"
      },
      "execution_count": null,
      "outputs": []
    },
    {
      "cell_type": "code",
      "source": [
        "%%R\n",
        "print(lasso.fit)"
      ],
      "metadata": {
        "colab": {
          "base_uri": "https://localhost:8080/"
        },
        "id": "iFnsU7hUObFO",
        "outputId": "3f34807f-847c-40f9-ddac-365a236aaab8"
      },
      "execution_count": null,
      "outputs": [
        {
          "output_type": "stream",
          "name": "stdout",
          "text": [
            "\n",
            "Call:  glmnet(x = x.train, y = y.train, family = \"multinomial\", alpha = 1,      nlambda = 200, lambda = lasso.cv$lambda.1se, type.multinomial = \"grouped\") \n",
            "\n",
            "  Df  %Dev  Lambda\n",
            "1  4 50.42 0.03244\n"
          ]
        }
      ]
    },
    {
      "cell_type": "markdown",
      "source": [
        "Finally we will extract the coefficients for the selected $λ$ using `coef()` function:"
      ],
      "metadata": {
        "id": "ZtXtn8OiOe2t"
      }
    },
    {
      "cell_type": "code",
      "source": [
        "%%R\n",
        "coef(lasso.fit)"
      ],
      "metadata": {
        "colab": {
          "base_uri": "https://localhost:8080/"
        },
        "id": "QjWc-1xLOhht",
        "outputId": "aa1d67ef-63ea-49b2-c69c-475b45da054a"
      },
      "execution_count": null,
      "outputs": [
        {
          "output_type": "stream",
          "name": "stdout",
          "text": [
            "$A\n",
            "6 x 1 sparse Matrix of class \"dgCMatrix\"\n",
            "                        s0\n",
            "                3.65183352\n",
            "age            -0.11527181\n",
            "household       0.15408964\n",
            "position_level  0.06947353\n",
            "genderMale      0.42949078\n",
            "absent          .         \n",
            "\n",
            "$B\n",
            "6 x 1 sparse Matrix of class \"dgCMatrix\"\n",
            "                        s0\n",
            "                0.21983614\n",
            "age             0.04498977\n",
            "household      -0.49079558\n",
            "position_level -0.05717795\n",
            "genderMale     -1.00574848\n",
            "absent          .         \n",
            "\n",
            "$C\n",
            "6 x 1 sparse Matrix of class \"dgCMatrix\"\n",
            "                        s0\n",
            "               -3.87166967\n",
            "age             0.07028204\n",
            "household       0.33670594\n",
            "position_level -0.01229558\n",
            "genderMale      0.57625770\n",
            "absent          .         \n",
            "\n"
          ]
        }
      ]
    },
    {
      "cell_type": "markdown",
      "source": [
        "#### Prediction test data"
      ],
      "metadata": {
        "id": "Ldeq1KINOlb6"
      }
    },
    {
      "cell_type": "code",
      "source": [
        "%%R\n",
        "# Make predictions on the test data\n",
        "x.test <- model.matrix(product~., test)[,-1]\n",
        "# Outcome variable\n",
        "y.test <-train$product\n",
        "\n",
        "# Prediction\n",
        "# Prediction\n",
        "lasso.pred<-as.data.frame(test$product)\n",
        "lasso.pred$Class_Pred<-lasso.fit  |>\n",
        "  predict(newx = x.test, type=\"class\")\n",
        "lasso.pred <- lasso.pred |>\n",
        "  dplyr::select(\"test$product\", \"Class_Pred\") |>\n",
        "  dplyr::rename(Obs_Class = \"test$product\") |>\n",
        "  dplyr::rename(Pred_Class = \"Class_Pred\")\n",
        "glimpse(lasso.pred)\n",
        "# ordering the levels\n",
        "lasso.pred$Obs_Class  <- ordered(lasso.pred$Obs_Class, levels = c(\"A\", \"B\", \"C\"))\n",
        "lasso.pred $Pred_Class <- ordered(lasso.pred$Pred_Class  , levels = c(\"A\", \"B\", \"C\"))"
      ],
      "metadata": {
        "colab": {
          "base_uri": "https://localhost:8080/"
        },
        "id": "JndHjF8LOngL",
        "outputId": "c0d80fc5-3c30-4df7-dcde-222226182cb6"
      },
      "execution_count": null,
      "outputs": [
        {
          "output_type": "stream",
          "name": "stdout",
          "text": [
            "Rows: 438\n",
            "Columns: 2\n",
            "$ Obs_Class  <fct> A, A, A, A, A, A, A, A, A, A, A, A, A, A, A, A, A, A, A, A,…\n",
            "$ Pred_Class <chr[,1]> \"A\", \"B\", \"A\", \"A\", \"B\", \"A\", \"A\", \"A\", \"A\", \"A\", \"A\", …\n"
          ]
        }
      ]
    },
    {
      "cell_type": "code",
      "source": [
        "%%R\n",
        "# accuracy\n",
        "mean(lasso.pred$Obs_Class  == lasso.pred$Pred_Class)\n"
      ],
      "metadata": {
        "colab": {
          "base_uri": "https://localhost:8080/"
        },
        "id": "adHBWz3MOsCG",
        "outputId": "3df8e10e-292b-4d5c-c4d8-70ecc4dcc8cf"
      },
      "execution_count": null,
      "outputs": [
        {
          "output_type": "stream",
          "name": "stdout",
          "text": [
            "[1] 0.7739726\n"
          ]
        }
      ]
    },
    {
      "cell_type": "code",
      "source": [
        "%%R\n",
        "# error rate\n",
        "mean(lasso.pred$Obs_Class != lasso.pred$Pred_Class)\n"
      ],
      "metadata": {
        "colab": {
          "base_uri": "https://localhost:8080/"
        },
        "id": "z0SaTgi5OuPr",
        "outputId": "060cce26-6d81-4320-8409-24d1068957e4"
      },
      "execution_count": null,
      "outputs": [
        {
          "output_type": "stream",
          "name": "stdout",
          "text": [
            "[1] 0.2260274\n"
          ]
        }
      ]
    },
    {
      "cell_type": "code",
      "source": [
        "%%R\n",
        "# confusion matrix\n",
        "table(Actual = lasso.pred$Obs_Class, Predicted =lasso.pred$Pred_Class)"
      ],
      "metadata": {
        "colab": {
          "base_uri": "https://localhost:8080/"
        },
        "id": "OGCWnT8cOwa_",
        "outputId": "459bc474-dfd8-4548-d108-871eaf973fa6"
      },
      "execution_count": null,
      "outputs": [
        {
          "output_type": "stream",
          "name": "stdout",
          "text": [
            "      Predicted\n",
            "Actual   A   B   C\n",
            "     A 125  18   6\n",
            "     B  26 101  11\n",
            "     C  20  18 113\n"
          ]
        }
      ]
    },
    {
      "cell_type": "markdown",
      "source": [
        "### Elastic Net Regression"
      ],
      "metadata": {
        "id": "Q06t2-_nhuip"
      }
    },
    {
      "cell_type": "markdown",
      "source": [
        "#### Cross Validation of the best Elastic Net regression"
      ],
      "metadata": {
        "id": "0NCELViviiRI"
      }
    },
    {
      "cell_type": "code",
      "source": [
        "%%R\n",
        "# Define hyperparameter grid\n",
        "alphas <- seq(0, 1, by = 0.1)                   # Grid for alpha\n",
        "lambda_seq <- 10^seq(3, -3, length = 100)       # Grid for lambda\n",
        "\n",
        "# To store results\n",
        "results <- data.frame(alpha = numeric(), lambda = numeric(), error = numeric())\n",
        "\n",
        "# Perform grid search\n",
        "for (a in alphas) {\n",
        "  # Fit glmnet model for each alpha\n",
        "  cv_fit <- cv.glmnet(x.train, y.train, family = \"multinomial\", alpha = a, lambda = lambda_seq, type.measure = \"class\")\n",
        "\n",
        "  # Extract best lambda and error for the current alpha\n",
        "  best_lambda <- cv_fit$lambda.min\n",
        "  best_error <- min(cv_fit$cvm)  # Minimum cross-validation error\n",
        "\n",
        "  # Store results\n",
        "  results <- rbind(results, data.frame(alpha = a, lambda = best_lambda, error = best_error))\n",
        "}\n",
        "\n",
        "\n",
        "# Find the best parameters\n",
        "best_params <- results[which.min(results$error), ]\n",
        "print(best_params)"
      ],
      "metadata": {
        "colab": {
          "base_uri": "https://localhost:8080/"
        },
        "id": "ndedjpnLiks0",
        "outputId": "8b05dec1-d367-4240-87bb-1804a08ef51d"
      },
      "execution_count": null,
      "outputs": [
        {
          "output_type": "stream",
          "name": "stdout",
          "text": [
            "  alpha     lambda     error\n",
            "2   0.1 0.00231013 0.2247525\n"
          ]
        }
      ]
    },
    {
      "cell_type": "markdown",
      "source": [
        "####  Fit the final model with optimal parameters\n"
      ],
      "metadata": {
        "id": "k2ylHzpgiyIj"
      }
    },
    {
      "cell_type": "code",
      "source": [
        "%%R\n",
        "# Refit the final model with optimal parameters\n",
        "enet.fit <- glmnet(x.train, y.train, family = \"multinomial\", alpha = best_params$alpha, lambda = best_params$lambda)\n",
        "\n",
        "# View coefficients\n",
        "print(coef(enet.fit))"
      ],
      "metadata": {
        "colab": {
          "base_uri": "https://localhost:8080/"
        },
        "id": "rE2jbjw9iy3O",
        "outputId": "935de856-c57b-45bc-ce0a-8cdc6741277b"
      },
      "execution_count": null,
      "outputs": [
        {
          "output_type": "stream",
          "name": "stdout",
          "text": [
            "$A\n",
            "6 x 1 sparse Matrix of class \"dgCMatrix\"\n",
            "                         s0\n",
            "                4.699700666\n",
            "age            -0.166665301\n",
            "household       0.228786494\n",
            "position_level  0.261680332\n",
            "genderMale      0.614902899\n",
            "absent         -0.007895397\n",
            "\n",
            "$B\n",
            "6 x 1 sparse Matrix of class \"dgCMatrix\"\n",
            "                        s0\n",
            "                0.28951435\n",
            "age             0.06737238\n",
            "household      -0.69844870\n",
            "position_level -0.15111152\n",
            "genderMale     -1.58434184\n",
            "absent          .         \n",
            "\n",
            "$C\n",
            "6 x 1 sparse Matrix of class \"dgCMatrix\"\n",
            "                         s0\n",
            "               -4.989215017\n",
            "age             0.091022644\n",
            "household       0.419403184\n",
            "position_level -0.019721577\n",
            "genderMale      0.741220510\n",
            "absent          0.005142852\n",
            "\n"
          ]
        }
      ]
    },
    {
      "cell_type": "markdown",
      "source": [
        "#### Prediction test data"
      ],
      "metadata": {
        "id": "SPe974sEi6E_"
      }
    },
    {
      "cell_type": "code",
      "source": [
        "%%R\n",
        "# Make predictions on the test data\n",
        "x.test <- model.matrix(product~., test)[,-1]\n",
        "# Outcome variable\n",
        "y.test <-train$product\n",
        "\n",
        "# Prediction\n",
        "enet.pred<-as.data.frame(test$product)\n",
        "enet.pred$Class_Pred<-enet.fit   |>\n",
        "  predict(newx = x.test, type=\"class\")\n",
        "enet.pred <- enet.pred |>\n",
        "  dplyr::select(\"test$product\", \"Class_Pred\") |>\n",
        "  dplyr::rename(Obs_Class = \"test$product\") |>\n",
        "  dplyr::rename(Pred_Class = \"Class_Pred\")\n",
        "glimpse(enet.pred)\n",
        "# ordering the levels\n",
        "enet.pred$Obs_Class  <- ordered(enet.pred$Obs_Class, levels = c(\"A\", \"B\", \"C\"))\n",
        "enet.pred $Pred_Class <- ordered(enet.pred$Pred_Class  , levels = c(\"A\", \"B\", \"C\"))\n"
      ],
      "metadata": {
        "colab": {
          "base_uri": "https://localhost:8080/"
        },
        "id": "3SyWArdgi60R",
        "outputId": "6851e8f3-a732-4c0a-ee3d-202428d5fb2d"
      },
      "execution_count": null,
      "outputs": [
        {
          "output_type": "stream",
          "name": "stdout",
          "text": [
            "Rows: 438\n",
            "Columns: 2\n",
            "$ Obs_Class  <fct> A, A, A, A, A, A, A, A, A, A, A, A, A, A, A, A, A, A, A, A,…\n",
            "$ Pred_Class <chr[,1]> \"A\", \"B\", \"A\", \"B\", \"B\", \"A\", \"C\", \"A\", \"A\", \"A\", \"A\", …\n"
          ]
        }
      ]
    },
    {
      "cell_type": "code",
      "source": [
        "%%R\n",
        "# accuracy\n",
        "mean(enet.pred$Obs_Class  == enet.pred$Pred_Class)"
      ],
      "metadata": {
        "colab": {
          "base_uri": "https://localhost:8080/"
        },
        "id": "UxIagHbEjExR",
        "outputId": "c2d5070a-bf91-471e-b8cb-853897138be0"
      },
      "execution_count": null,
      "outputs": [
        {
          "output_type": "stream",
          "name": "stdout",
          "text": [
            "[1] 0.760274\n"
          ]
        }
      ]
    },
    {
      "cell_type": "code",
      "source": [
        "%%R\n",
        "# error rate\n",
        "mean(enet.pred$Obs_Class != enet.pred$Pred_Class)"
      ],
      "metadata": {
        "colab": {
          "base_uri": "https://localhost:8080/"
        },
        "id": "2YvnRGL3jHHJ",
        "outputId": "fa590c39-aca8-4c20-9208-094dbac9400e"
      },
      "execution_count": null,
      "outputs": [
        {
          "output_type": "stream",
          "name": "stdout",
          "text": [
            "[1] 0.239726\n"
          ]
        }
      ]
    },
    {
      "cell_type": "code",
      "source": [
        "%%R\n",
        "# confusion matrix\n",
        "table(Actual = enet.pred$Obs_Class, Predicted =enet.pred$Pred_Class)"
      ],
      "metadata": {
        "colab": {
          "base_uri": "https://localhost:8080/"
        },
        "id": "7k36Y84kjMk1",
        "outputId": "cb5f27af-f144-4b56-cda9-7558c51abb78"
      },
      "execution_count": null,
      "outputs": [
        {
          "output_type": "stream",
          "name": "stdout",
          "text": [
            "      Predicted\n",
            "Actual   A   B   C\n",
            "     A 119  20  10\n",
            "     B  25 102  11\n",
            "     C  19  20 112\n"
          ]
        }
      ]
    },
    {
      "cell_type": "markdown",
      "source": [
        "## Summary and Conclusion\n",
        "\n",
        "In this tutorial, we explored regularized multinomial logistic regression in R, focusing on both the manual implementation and using the efficient {glmnet} package. We began by understanding the fundamentals of multinomial logistic regression, a model used for predicting categorical outcomes with more than two classes. Recognizing that overfitting can be a significant issue in high-dimensional or small datasets, we introduced regularization techniques, specifically Ridge (L2) and Lasso (L1) regression, which add penalty terms to the model to prevent overfitting and improve generalization. This process may entail parameter tuning through grid search, facilitated by the {caret} or {h2o} packages (please refer to the Machine Learning chapter)."
      ],
      "metadata": {
        "id": "UEHbGl4OOxFp"
      }
    },
    {
      "cell_type": "markdown",
      "source": [
        "## References\n",
        "\n",
        "1. [Multinomial Regression](https://glmnet.stanford.edu/articles/glmnet.html)\n",
        "\n",
        "2. [Multinomial Logistic Regression | Stata Data Analysis Examples](https://stats.oarc.ucla.edu/stata/dae/multinomiallogistic-regression/)\n",
        "\n",
        "3. [Multinomial Logistic Regression](https://www.sciencedirect.com/topics/mathematics/multinomial-logistic-regression)\n",
        "\n",
        "4. [Multinomial Regression- Overview](https://www3.nd.edu/~rwilliam/stats3/mlogit1.pdf)"
      ],
      "metadata": {
        "id": "GyiOSH_HOzxC"
      }
    }
  ]
}