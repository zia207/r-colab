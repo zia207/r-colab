{
  "nbformat": 4,
  "nbformat_minor": 0,
  "metadata": {
    "colab": {
      "provenance": [],
      "toc_visible": true,
      "authorship_tag": "ABX9TyMPj7LZvR/iIeXX3+BI26vZ",
      "include_colab_link": true
    },
    "kernelspec": {
      "name": "python3",
      "display_name": "Python 3"
    },
    "language_info": {
      "name": "python"
    }
  },
  "cells": [
    {
      "cell_type": "markdown",
      "metadata": {
        "id": "view-in-github",
        "colab_type": "text"
      },
      "source": [
        "<a href=\"https://colab.research.google.com/github/zia207/r-colab/blob/main/NoteBook/Advance_Regression/02-01-05-glm-multinomial-logistic-r.ipynb\" target=\"_parent\"><img src=\"https://colab.research.google.com/assets/colab-badge.svg\" alt=\"Open In Colab\"/></a>"
      ]
    },
    {
      "cell_type": "markdown",
      "source": [
        "![alt text](http://drive.google.com/uc?export=view&id=1bLQ3nhDbZrCCqy_WCxxckOne2lgVvn3l)"
      ],
      "metadata": {
        "id": "ALapmr7gMNeE"
      }
    },
    {
      "cell_type": "markdown",
      "source": [
        "# 5. Multinomial Logistic Regression\n",
        "\n",
        "Multinomial Logistic Regression is an essential statistical technique for predicting categorical outcomes where the response variable has more than two classes. It’s widely used in various fields, such as healthcare, marketing, and social sciences, to model and interpret multi-class problems such as customer preferences, diagnosis predictions, and product category classification. This tutorial will guide you through the essentials of multinomial logistic regression, from building a model from scratch in R to leveraging the {nnet} package for a more efficient approach.\n"
      ],
      "metadata": {
        "id": "au6nzIZ1MUQ9"
      }
    },
    {
      "cell_type": "markdown",
      "source": [
        "## Overview\n",
        "\n",
        "Multinomial logistic regression is a statistical technique used to model the relationship between multiple independent variables and a categorical dependent variable with more than two possible outcome categories or nominal outcome variables. It is an extension of binary logistic regression, which deals with just two categories.\n",
        "\n",
        "In multinomial logistic regression, the dependent variable can have three or more categories, and the model estimates the probability of each category given a set of predictors. The model calculates separate equations for each category relative to a reference category. These equations are typically based on the log-odds of the probability of belonging to each category. The multinomial logistic regression model assumes that the relationship between the independent variables and the dependent variable is linear in the logit (log-odds) space. The coefficients estimated by the model represent the effect of each independent variable on the log-odds of being in each category relative to the reference category.\n",
        "\n",
        "Interpretation of the coefficients in multinomial logistic regression can be challenging because they represent the change in log-odds relative to the reference category. Therefore, converting these coefficients into odds ratios or probabilities can help in understanding the effects of the independent variables on the outcome categories.\n",
        "\n",
        "Multinomial Logistic Regression (MLR) is an extension of binary logistic regression used when the dependent variable $y$ is categorical with more than two levels (e.g., $C$ classes, $y \\in \\{1, 2, \\dots, C\\}$.\n",
        "\n",
        "Input and output variables are defined as:\n",
        "\n",
        "- **Input Variables:** $\\mathbf{x} = [x_1, x_2, \\dots, x_p]^T$ (a vector of $p $ -features).\n",
        "- **Output Variable:** $y \\in \\{1, 2, \\dots, C\\}$.\n",
        "\n",
        " Model the probability of $y$ belonging to each class $c$:\n",
        "\n",
        "  $$ P(y = c \\mid \\mathbf{x}) $$\n",
        "\n",
        "  such that $\\sum_{c=1}^C P(y = c \\mid \\mathbf{x}) = 1$.\n",
        "\n",
        "\n",
        "In Multinomial Logistic Model, for each class $c$, define the linear predictor $\\eta_c$ as:\n",
        "\n",
        "$$ \\eta_c = \\mathbf{\\beta}_c^T \\mathbf{x} + \\beta_{c, 0} $$\n",
        "\n",
        "where:\n",
        "\n",
        "- $\\mathbf{\\beta}_c$ is the coefficient vector for class $c$.\n",
        "\n",
        "- $\\beta_{c, 0}$ is the intercept term for class $c$.\n",
        "\n",
        "The probabilities are modeled using the **softmax function**:\n",
        "\n",
        "$$ P(y = c \\mid \\mathbf{x}) = \\frac{\\exp(\\eta_c)}{\\sum_{j=1}^C \\exp(\\eta_j)} $$\n",
        "\n",
        "Given a dataset of $N$ observations $\\{(\\mathbf{x}_i, y_i)\\}_{i=1}^N$, the likelihood is:\n",
        "$$ \\mathcal{L}(\\beta) = \\prod_{i=1}^N \\prod_{c=1}^C \\big[P(y_i = c \\mid \\mathbf{x}_i)\\big]^{\\mathbb{1}(y_i = c)} $$\n",
        "\n",
        "Taking the log, we get the **log-likelihood**:\n",
        "\n",
        "$$ \\ell(\\beta) = \\sum_{i=1}^N \\sum_{c=1}^C \\mathbb{1}(y_i = c) \\log\\big(P(y = c \\mid \\mathbf{x}_i)\\big) $$\n",
        "\n",
        "\n",
        "Parameters $\\{\\mathbf{\\beta}_c, \\beta_{c,0}\\}_{c=1}^{C-1}$ are estimated by maximizing the log-likelihood using optimization techniques like gradient descent or Newton-Raphson.\n",
        "\n",
        "To avoid overparameterization, one class (e.g., the last class) is typically set as the **reference class**, and its coefficients are set to zero ($\\beta_C = 0$).\n",
        "\n",
        "\n"
      ],
      "metadata": {
        "id": "neuAm4Qy9ZYX"
      }
    },
    {
      "cell_type": "markdown",
      "source": [
        "## Install rpy2"
      ],
      "metadata": {
        "id": "BQDQMxpJ9z_f"
      }
    },
    {
      "cell_type": "code",
      "execution_count": 1,
      "metadata": {
        "colab": {
          "base_uri": "https://localhost:8080/"
        },
        "id": "5j-UYffx9N09",
        "outputId": "60a4fd06-b64b-4b82-fc73-0c17605799ed"
      },
      "outputs": [
        {
          "output_type": "stream",
          "name": "stdout",
          "text": [
            "Found existing installation: rpy2 3.4.2\n",
            "Uninstalling rpy2-3.4.2:\n",
            "  Successfully uninstalled rpy2-3.4.2\n",
            "Collecting rpy2==3.5.1\n",
            "  Downloading rpy2-3.5.1.tar.gz (201 kB)\n",
            "\u001b[2K     \u001b[90m━━━━━━━━━━━━━━━━━━━━━━━━━━━━━━━━━━━━━━━━\u001b[0m \u001b[32m201.7/201.7 kB\u001b[0m \u001b[31m6.0 MB/s\u001b[0m eta \u001b[36m0:00:00\u001b[0m\n",
            "\u001b[?25h  Preparing metadata (setup.py) ... \u001b[?25l\u001b[?25hdone\n",
            "Requirement already satisfied: cffi>=1.10.0 in /usr/local/lib/python3.11/dist-packages (from rpy2==3.5.1) (1.17.1)\n",
            "Requirement already satisfied: jinja2 in /usr/local/lib/python3.11/dist-packages (from rpy2==3.5.1) (3.1.5)\n",
            "Requirement already satisfied: pytz in /usr/local/lib/python3.11/dist-packages (from rpy2==3.5.1) (2025.1)\n",
            "Requirement already satisfied: tzlocal in /usr/local/lib/python3.11/dist-packages (from rpy2==3.5.1) (5.2)\n",
            "Requirement already satisfied: pycparser in /usr/local/lib/python3.11/dist-packages (from cffi>=1.10.0->rpy2==3.5.1) (2.22)\n",
            "Requirement already satisfied: MarkupSafe>=2.0 in /usr/local/lib/python3.11/dist-packages (from jinja2->rpy2==3.5.1) (3.0.2)\n",
            "Building wheels for collected packages: rpy2\n",
            "  Building wheel for rpy2 (setup.py) ... \u001b[?25l\u001b[?25hdone\n",
            "  Created wheel for rpy2: filename=rpy2-3.5.1-cp311-cp311-linux_x86_64.whl size=314970 sha256=632b98d8e2a33ae5f994b8d11b9e238e93d47e7b45131239e3a14ab8a92ba8bf\n",
            "  Stored in directory: /root/.cache/pip/wheels/e9/55/d1/47be85a5f3f1e1f4d1e91cb5e3a4dcb40dd72147f184c5a5ef\n",
            "Successfully built rpy2\n",
            "Installing collected packages: rpy2\n",
            "Successfully installed rpy2-3.5.1\n"
          ]
        }
      ],
      "source": [
        "!pip uninstall rpy2 -y\n",
        "!pip install rpy2==3.5.1\n",
        "%load_ext rpy2.ipython"
      ]
    },
    {
      "cell_type": "markdown",
      "source": [
        "## Mount Google Drive"
      ],
      "metadata": {
        "id": "xg8ZRtsE-Aot"
      }
    },
    {
      "cell_type": "code",
      "source": [
        "from google.colab import drive\n",
        "drive.mount('/content/drive')"
      ],
      "metadata": {
        "colab": {
          "base_uri": "https://localhost:8080/"
        },
        "id": "sLu24QrR-M9L",
        "outputId": "44966a2d-0010-4613-92af-8221a48d5364"
      },
      "execution_count": 2,
      "outputs": [
        {
          "output_type": "stream",
          "name": "stdout",
          "text": [
            "Mounted at /content/drive\n"
          ]
        }
      ]
    },
    {
      "cell_type": "markdown",
      "source": [
        "## Miltinomial Logistic Regression from Scartch\n",
        "\n",
        "\n",
        "To create a multinomial logistic regression from scratch in R, we’ll build a model that handles a response variable with three levels (e.g., categories A, B, and C), using four continuous predictors and one categorical predictor with two levels (Male and Female). Here’s a step-by-step approach:"
      ],
      "metadata": {
        "id": "401-6LXXVDTD"
      }
    },
    {
      "cell_type": "markdown",
      "source": [
        "### Simulate data"
      ],
      "metadata": {
        "id": "ziWoodGNVPlp"
      }
    },
    {
      "cell_type": "code",
      "source": [
        "%%R\n",
        "set.seed(123)  # For reproducibility\n",
        "\n",
        "# Create synthetic dataset\n",
        "n <- 300  # Number of observations\n",
        "data <- data.frame(\n",
        "  response = factor(sample(c(\"Level1\", \"Level2\", \"Level3\"), n, replace = TRUE)),\n",
        "  continuous1 = rnorm(n),\n",
        "  continuous2 = rnorm(n),\n",
        "  continuous3 = rnorm(n),\n",
        "  continuous4 = rnorm(n),\n",
        "  gender = factor(sample(c(\"Male\", \"Female\"), n, replace = TRUE))\n",
        ")\n",
        "\n",
        "# Convert response to a factor and set reference level\n",
        "data$response <- relevel(data$response, ref = \"Level1\")\n",
        "head(data)"
      ],
      "metadata": {
        "colab": {
          "base_uri": "https://localhost:8080/"
        },
        "id": "F4BsYSzyVRdq",
        "outputId": "91b0a030-117f-4425-8426-ce889bb1a097"
      },
      "execution_count": null,
      "outputs": [
        {
          "output_type": "stream",
          "name": "stdout",
          "text": [
            "  response continuous1 continuous2 continuous3 continuous4 gender\n",
            "1   Level3   1.9009001  -0.2043353 -0.00497512  0.81293718   Male\n",
            "2   Level3   0.7089544   0.5583362 -1.38088679  0.41497661 Female\n",
            "3   Level3   0.7361948   0.3242106 -1.25652688 -0.08585906   Male\n",
            "4   Level2   1.3657766   0.6977370  0.32524572 -1.90820891   Male\n",
            "5   Level3  -0.5762639  -1.0225731 -0.27700053  0.66325198   Male\n",
            "6   Level2  -0.8047323  -0.1682708 -0.38901100  0.66168573   Male\n"
          ]
        }
      ]
    },
    {
      "cell_type": "markdown",
      "source": [
        "### Data Preparation"
      ],
      "metadata": {
        "id": "2iBMrwwIVgsV"
      }
    },
    {
      "cell_type": "code",
      "source": [
        "%%R\n",
        "# Data Preparation\n",
        "# Encode categorical variables (using \"Level1\" as the baseline for response)\n",
        "response_matrix <- model.matrix(~ response - 1, data = data)\n",
        "gender_matrix <- model.matrix(~ gender - 1, data = data)\n",
        "\n",
        "# Check dimensions of response_matrix and gender_matrix\n",
        "print(dim(response_matrix))  # Expected: n x 3 (for three levels of response)\n",
        "print(dim(gender_matrix))    # Expected: n x 2 (for two levels of gender, one baseline)"
      ],
      "metadata": {
        "colab": {
          "base_uri": "https://localhost:8080/"
        },
        "id": "2SvUUezFVlUb",
        "outputId": "1c7be56f-b923-4e44-9710-b061a5b2d84d"
      },
      "execution_count": null,
      "outputs": [
        {
          "output_type": "stream",
          "name": "stdout",
          "text": [
            "[1] 300   3\n",
            "[1] 300   2\n"
          ]
        }
      ]
    },
    {
      "cell_type": "markdown",
      "source": [
        "### Define Log-Likelihood Function\n",
        "\n",
        "The log-likelihood function is a fundamental concept in statistics, particularly in maximum likelihood estimation (MLE). It measures how well a statistical model explains a set of observations, and it's central to estimating the parameters of a model that are most likely to have produced the observed data."
      ],
      "metadata": {
        "id": "zjxeorVCVpm8"
      }
    },
    {
      "cell_type": "code",
      "source": [
        "%%R\n",
        "# Define Log-Likelihood Function\n",
        "log_likelihood <- function(params, response_matrix, X) {\n",
        "  # Reshape params into a matrix with dimensions for each predictor and response level\n",
        "  beta <- matrix(params, ncol = 2, byrow = TRUE)\n",
        "  eta <- X %*% beta\n",
        "  p <- exp(eta) / (1 + rowSums(exp(eta)))\n",
        "\n",
        "  # Add a baseline category (1 - rowSums(p)) for Level1 as reference\n",
        "  p <- cbind(1 - rowSums(p), p)\n",
        "\n",
        "  # Negative log-likelihood calculation\n",
        "  ll <- -sum(response_matrix * log(p))\n",
        "  return(ll)\n",
        "}"
      ],
      "metadata": {
        "id": "oUv-_ANcVqV9"
      },
      "execution_count": null,
      "outputs": []
    },
    {
      "cell_type": "markdown",
      "source": [
        "### Combine Predictors"
      ],
      "metadata": {
        "id": "DFMss3idVv-2"
      }
    },
    {
      "cell_type": "code",
      "source": [
        "%%R\n",
        "# Combine Predictors\n",
        "X <- cbind(1, X1=data$x1, X2=data$x2, X3=data$x3, X4=data$x4, Gender=gender_matrix[, 2])"
      ],
      "metadata": {
        "id": "Z3Pfvh3-Vw-R"
      },
      "execution_count": null,
      "outputs": []
    },
    {
      "cell_type": "markdown",
      "source": [
        "### Optimization for MLE\n",
        "\n",
        "The `optim()` function in R is a general-purpose optimization function often used to find the values of parameters that maximize (or minimize) a function. In the context of maximum likelihood estimation (MLE), `optim()` is typically used to maximize the log-likelihood function and find the parameter estimates that best explain the observed data."
      ],
      "metadata": {
        "id": "hHoGgZqaV20J"
      }
    },
    {
      "cell_type": "code",
      "source": [
        "%%R\n",
        "# Optimization for MLE\n",
        "# Initialize parameters\n",
        "initial_params <- rep(0, ncol(X) * 2)  # Adjust for two response levels (Level2 and Level3)\n",
        "fit <- optim(initial_params, log_likelihood, response_matrix = response_matrix, X = X, method = \"BFGS\", hessian = TRUE)"
      ],
      "metadata": {
        "id": "ISXUXuqEV34u"
      },
      "execution_count": null,
      "outputs": []
    },
    {
      "cell_type": "markdown",
      "source": [
        "###  Summary  of the Model"
      ],
      "metadata": {
        "id": "mheHwlCqV83y"
      }
    },
    {
      "cell_type": "code",
      "source": [
        "%%R\n",
        "# Extract coefficients and reshape\n",
        "coefficients <- matrix(fit$par, ncol = 2, byrow = TRUE)\n",
        "colnames(coefficients) <- c(\"Level2\", \"Level3\")\n",
        "rownames(coefficients) <- colnames(X)  # Ensure row names are correctly set\n",
        "\n",
        "#Compute Standard Errors and Z-Statistics\n",
        "# Invert Hessian to get variance-covariance matrix, then take the square root of diagonal for SEs\n",
        "standard_errors <- sqrt(diag(solve(fit$hessian)))\n",
        "\n",
        "# Compute z-statistics\n",
        "z_stats <- coefficients / matrix(standard_errors, ncol = 2, byrow = TRUE)\n",
        "\n",
        "summary_table <- data.frame(\n",
        "  Predictor = rep(rownames(coefficients), each = ncol(coefficients)),\n",
        "  Level = rep(colnames(coefficients), times = nrow(coefficients)),\n",
        "  Coefficient = as.vector(coefficients),\n",
        "  Std_Error = standard_errors,\n",
        "  Z_Statistic = as.vector(z_stats)\n",
        "  )\n",
        "# Display summary table\n",
        "print(summary_table)"
      ],
      "metadata": {
        "colab": {
          "base_uri": "https://localhost:8080/"
        },
        "id": "U6WKUohvV9mO",
        "outputId": "7c5aa4fa-d13b-4d6b-b74b-46cee0446cc6"
      },
      "execution_count": null,
      "outputs": [
        {
          "output_type": "stream",
          "name": "stdout",
          "text": [
            "  Predictor  Level Coefficient Std_Error Z_Statistic\n",
            "1           Level2 -0.09097131 0.2134213  -0.4262522\n",
            "2           Level3 -0.07333172 0.2074024  -0.2616366\n",
            "3    Gender Level2  0.02150648 0.2802808   0.1036945\n",
            "4    Gender Level3 -0.44996116 0.2853473  -1.5768896\n"
          ]
        }
      ]
    },
    {
      "cell_type": "markdown",
      "source": [
        "### Relative Risk Ratios (RRRs)\n",
        "\n",
        "In the context of multinomial logistic regression, the concept of relative risk ratios (RRRs) can be interpreted similarly to odds ratios in binary logistic regression. RRRs quantify the relative change in the odds of being in one category compared to a reference category, for a one-unit change in the predictor variable.\n",
        "\n",
        "To obtain the relative risk ratios, you exponentiate the coefficients:\n",
        "\n",
        "$$ \\text{RRR}{j, k} = e^{\\beta{jk}} $$\n",
        "\n",
        "Where: - $\\text{RRR}{j, k}$ is the relative risk ratio for predictor $j$ and category $k$,\n",
        "\n",
        "-   $\\beta{jk}$ is the coefficient for predictor $j$ and category $k$ ).\n",
        "\n",
        "These relative risk ratios quantify how much the odds of being in category $k$ change for a one-unit increase in the predictor variable $X_j$, relative to the reference category. You can interpret a relative risk ratio of 1 as indicating no change in the odds of being in category $k$ for a one-unit change in the predictor variable. A relative risk ratio greater than 1 indicates an increase in the odds, while a ratio less than 1 indicates a decrease in the odds.\n",
        "\n",
        "We can extract the coefficients from the model object and exponentiate them to obtain the relative risk ratios. This will give you the relative risk ratios for each predictor variable and each category of the dependent variable in the multinomial logistic regression model."
      ],
      "metadata": {
        "id": "Voqhlmy4WB6_"
      }
    },
    {
      "cell_type": "code",
      "source": [
        "%%R\n",
        "rrr <- exp(coefficients)\n",
        "risk_table <- data.frame(\n",
        "  Predictor = rep(rownames(coefficients), each = ncol(coefficients)),\n",
        "  Level = rep(colnames(coefficients), times = nrow(coefficients)),\n",
        "  RRR = as.vector(rrr)\n",
        ")\n",
        "print(risk_table)"
      ],
      "metadata": {
        "colab": {
          "base_uri": "https://localhost:8080/"
        },
        "id": "fHbhrvj4WGJR",
        "outputId": "51eb08e9-720f-41d1-f9e8-e1202731e525"
      },
      "execution_count": null,
      "outputs": [
        {
          "output_type": "stream",
          "name": "stdout",
          "text": [
            "  Predictor  Level       RRR\n",
            "1           Level2 0.9130439\n",
            "2           Level3 0.9292925\n",
            "3    Gender Level2 1.0217394\n",
            "4    Gender Level3 0.6376529\n"
          ]
        }
      ]
    },
    {
      "cell_type": "markdown",
      "source": [
        "### Prediction and Evaluation"
      ],
      "metadata": {
        "id": "58uFjjGfJ37v"
      }
    },
    {
      "cell_type": "code",
      "source": [
        "%%R\n",
        "predict_probs <- function(X, coefficients) {\n",
        "  linear_preds <- X %*% coefficients\n",
        "  probs <- cbind(exp(linear_preds), 1)\n",
        "  probs <- probs / rowSums(probs)\n",
        "  return(probs)\n",
        "}\n",
        "\n",
        "probs <- predict_probs(X, coefficients)\n",
        "predicted_classes <- apply(probs, 1, which.max)"
      ],
      "metadata": {
        "id": "F4jwINCRJ4ES"
      },
      "execution_count": null,
      "outputs": []
    },
    {
      "cell_type": "code",
      "source": [
        "%%R\n",
        "# Accuracy\n",
        "accuracy <- mean(predicted_classes == data$response )\n",
        "cat(\"Accuracy:\", accuracy, \"\\n\")\n",
        "\n",
        "# Confusion matrix\n",
        "confusion_matrix <- table(Predicted = predicted_classes, Actual = data$response )\n",
        "print(confusion_matrix)"
      ],
      "metadata": {
        "colab": {
          "base_uri": "https://localhost:8080/"
        },
        "id": "9dN49no-J-JS",
        "outputId": "a0a605df-00c3-421b-ef14-515a3356bcd9"
      },
      "execution_count": null,
      "outputs": [
        {
          "output_type": "stream",
          "name": "stdout",
          "text": [
            "Accuracy: 0 \n",
            "         Actual\n",
            "Predicted Level1 Level2 Level3\n",
            "        2     46     42     47\n",
            "        3     66     56     43\n"
          ]
        }
      ]
    },
    {
      "cell_type": "markdown",
      "source": [
        "\n",
        "## Multinominal Logistic Regression in R\n",
        "\n",
        "Multinomial Logistic Regression in R can be implemented using the `multinom()` function from the {nnet} package. This function allows us to fit a logistic regression model when the outcome variable has more than two categories."
      ],
      "metadata": {
        "id": "xHTL9YWrT_b5"
      }
    },
    {
      "cell_type": "markdown",
      "source": [
        "### Check and Install Required R Packages\n",
        "\n",
        "\n",
        "\n",
        "\n"
      ],
      "metadata": {
        "id": "OMPKY7UvM2N8"
      }
    },
    {
      "cell_type": "code",
      "source": [
        "%%R\n",
        "packages <- c(\n",
        "  \"tidyverse\",\n",
        "  \"plyr\",\n",
        "  \"rstatix\",\n",
        "  \"gtsummary\",\n",
        "  \"performance\",\n",
        "  \"sjPlot\",\n",
        "  \"marginaleffects\",\n",
        "  \"ggeffects\",\n",
        "  \"ggstatsplot\",\n",
        "  \"kableExtra\",\n",
        "  \"MASS\",\n",
        "  \"nnet\"\n",
        ")"
      ],
      "metadata": {
        "id": "tAmJREXmM2YP"
      },
      "execution_count": 3,
      "outputs": []
    },
    {
      "cell_type": "code",
      "source": [
        "%%R\n",
        "# Install missing packages\n",
        "new.packages <- packages[!(pkg %in% installed.packages(lib='drive/My Drive/R/')[,\"Package\"])]\n",
        "if(length(new.packages)) install.packages(new.packages, lib='drive/My Drive/R/')"
      ],
      "metadata": {
        "id": "aLaqZSNAK_cm"
      },
      "execution_count": null,
      "outputs": []
    },
    {
      "cell_type": "code",
      "source": [
        "%%R\n",
        "# set library path\n",
        ".libPaths('drive/My Drive/R')\n",
        "# Verify installation\n",
        "cat(\"Installed packages:\\n\")\n",
        "print(sapply(packages, requireNamespace, quietly = TRUE))"
      ],
      "metadata": {
        "colab": {
          "base_uri": "https://localhost:8080/"
        },
        "id": "XwN_W5cWK_oF",
        "outputId": "47970301-0196-4a6c-f2c2-dadabbb80517"
      },
      "execution_count": 4,
      "outputs": [
        {
          "output_type": "stream",
          "name": "stdout",
          "text": [
            "Installed packages:\n",
            "      tidyverse            plyr         rstatix       gtsummary     performance \n",
            "           TRUE            TRUE            TRUE            TRUE            TRUE \n",
            "         sjPlot marginaleffects       ggeffects     ggstatsplot      kableExtra \n",
            "           TRUE            TRUE            TRUE            TRUE            TRUE \n",
            "           MASS            nnet \n",
            "           TRUE            TRUE \n"
          ]
        }
      ]
    },
    {
      "cell_type": "markdown",
      "source": [
        "### Load packages"
      ],
      "metadata": {
        "id": "nMQai29xNYRy"
      }
    },
    {
      "cell_type": "code",
      "source": [
        "%%R\n",
        "# set library path\n",
        ".libPaths('drive/My Drive/R')\n",
        "# Load packages with suppressed messages\n",
        "invisible(lapply(packages, function(pkg) {\n",
        "  suppressPackageStartupMessages(library(pkg, character.only = TRUE))\n",
        "}))\n",
        "# Check loaded packages\n",
        "cat(\"Successfully loaded packages:\\n\")\n",
        "print(search()[grepl(\"package:\", search())])# Check loaded packages"
      ],
      "metadata": {
        "id": "XZeYlKM9NYhx",
        "colab": {
          "base_uri": "https://localhost:8080/"
        },
        "outputId": "3ccdb33b-32aa-4414-e8dc-cf462c572029"
      },
      "execution_count": 5,
      "outputs": [
        {
          "output_type": "stream",
          "name": "stdout",
          "text": [
            "Successfully loaded packages:\n",
            " [1] \"package:nnet\"            \"package:MASS\"           \n",
            " [3] \"package:kableExtra\"      \"package:ggstatsplot\"    \n",
            " [5] \"package:ggeffects\"       \"package:marginaleffects\"\n",
            " [7] \"package:sjPlot\"          \"package:performance\"    \n",
            " [9] \"package:gtsummary\"       \"package:rstatix\"        \n",
            "[11] \"package:plyr\"            \"package:lubridate\"      \n",
            "[13] \"package:forcats\"         \"package:stringr\"        \n",
            "[15] \"package:dplyr\"           \"package:purrr\"          \n",
            "[17] \"package:readr\"           \"package:tidyr\"          \n",
            "[19] \"package:tibble\"          \"package:ggplot2\"        \n",
            "[21] \"package:tidyverse\"       \"package:tools\"          \n",
            "[23] \"package:stats\"           \"package:graphics\"       \n",
            "[25] \"package:grDevices\"       \"package:utils\"          \n",
            "[27] \"package:datasets\"        \"package:methods\"        \n",
            "[29] \"package:base\"           \n"
          ]
        }
      ]
    },
    {
      "cell_type": "markdown",
      "source": [
        "### Data\n",
        "\n",
        "In this tutorial, we will be using [health_insurance data](http://peopleanalytics-regression-book.org/data/health_insurance.csv).\n",
        "\n",
        "The health_insurance data set consists of the following fields:\n",
        "\n",
        "* `product`: The choice of product of the individual—A, B or C\n",
        "* `age`: The age of the individual when they made the choice\n",
        "* `gender`: The gender of the individual as stated when they made the choice\n",
        "* `household`: The number of people living with the individual in the same household at the time of the choice\n",
        "* `position_level`: Position level in the company at the time they made the choice, where 1 is is the lowest and 5 is the highest\n",
        "* `absent`: The number of days the individual was absent from work in the year prior to the choice\n",
        "\n",
        "Full data set is available for download can download from my [Dropbox](https://www.dropbox.com/scl/fo/2rh6r68i9cxmgortvbw8q/h?rlkey=bvntt66n9mcywprmdki08ch3r&dl=0) or from my [Github](https://github.com/zia207/r-colab/tree/main/Data/Regression_analysis) accounts.\n",
        "\n",
        "We will use `read_csv()` function of **readr** package to import data as a **tidy** data."
      ],
      "metadata": {
        "id": "q5hd8qgrCx4Z"
      }
    },
    {
      "cell_type": "code",
      "source": [
        "%%R\n",
        "mf<-read_csv(\"https://github.com/zia207/r-colab/raw/main/Data/Regression_analysis/health_insurance.csv\") |>\n",
        "  glimpse()"
      ],
      "metadata": {
        "colab": {
          "base_uri": "https://localhost:8080/"
        },
        "id": "2ph3ubD_C1WL",
        "outputId": "2fe88810-1b9c-46c5-c63f-ed22c2aea880"
      },
      "execution_count": null,
      "outputs": [
        {
          "output_type": "stream",
          "name": "stdout",
          "text": [
            "Rows: 1448 Columns: 6\n",
            "── Column specification ────────────────────────────────────────────────────────\n",
            "Delimiter: \",\"\n",
            "chr (2): product, gender\n",
            "dbl (4): age, household, position_level, absent\n",
            "\n",
            "ℹ Use `spec()` to retrieve the full column specification for this data.\n",
            "ℹ Specify the column types or set `show_col_types = FALSE` to quiet this message.\n",
            "Rows: 1,448\n",
            "Columns: 6\n",
            "$ product        <chr> \"C\", \"A\", \"C\", \"A\", \"A\", \"A\", \"A\", \"B\", \"C\", \"B\", \"B\", …\n",
            "$ age            <dbl> 57, 21, 66, 36, 23, 31, 37, 37, 55, 66, 58, 62, 31, 45,…\n",
            "$ household      <dbl> 2, 7, 7, 4, 0, 5, 3, 0, 3, 2, 1, 2, 2, 5, 3, 5, 4, 7, 7…\n",
            "$ position_level <dbl> 2, 2, 2, 2, 2, 1, 3, 3, 3, 4, 2, 2, 2, 2, 4, 4, 4, 4, 4…\n",
            "$ gender         <chr> \"Male\", \"Male\", \"Male\", \"Female\", \"Male\", \"Male\", \"Male…\n",
            "$ absent         <dbl> 10, 7, 1, 6, 11, 14, 12, 25, 3, 18, 1, 25, 0, 10, 20, 2…\n"
          ]
        }
      ]
    },
    {
      "cell_type": "markdown",
      "source": [
        "#### Convert to Factor\n",
        "\n"
      ],
      "metadata": {
        "id": "0tTLUEkdItLN"
      }
    },
    {
      "cell_type": "code",
      "source": [
        "%%R\n",
        "mf$product <- as.factor(mf$product)\n",
        "mf$gender <- as.factor(mf$gender)"
      ],
      "metadata": {
        "id": "XCMe3RP5e4JK"
      },
      "execution_count": null,
      "outputs": []
    },
    {
      "cell_type": "markdown",
      "source": [
        "#### Summary Statistics\n"
      ],
      "metadata": {
        "id": "Au3T0zmgm-Gl"
      }
    },
    {
      "cell_type": "code",
      "source": [
        "%%R\n",
        "mf |>\n",
        "  # select variables\n",
        "  dplyr::select (age,  household,\n",
        "                position_level,\n",
        "                absent,\n",
        "                gender) |>\n",
        "  get_summary_stats (type = \"common\")"
      ],
      "metadata": {
        "colab": {
          "base_uri": "https://localhost:8080/"
        },
        "id": "OVc1VRBeIwcQ",
        "outputId": "035324b6-a9b0-4985-c5bf-b4c0e056cf25"
      },
      "execution_count": null,
      "outputs": [
        {
          "output_type": "stream",
          "name": "stdout",
          "text": [
            "# A tibble: 4 × 10\n",
            "  variable           n   min   max median   iqr  mean    sd    se    ci\n",
            "  <fct>          <dbl> <dbl> <dbl>  <dbl> <dbl> <dbl> <dbl> <dbl> <dbl>\n",
            "1 age             1448    21    67     37    23 40.9  13.5  0.356 0.698\n",
            "2 household       1448     0     7      3     3  3.26  2.23 0.059 0.115\n",
            "3 position_level  1448     1     5      3     2  2.90  1.22 0.032 0.063\n",
            "4 absent          1448     0    31     15    13 14.5   8.11 0.213 0.418\n"
          ]
        }
      ]
    },
    {
      "cell_type": "markdown",
      "source": [
        "#### Box/Violine Plots\n",
        "\n",
        "We can create a nice looking plots with results of ANOVA and post-hoc tests on the same plot (directly on the boxplots). We will use `gbetweenstats()` function of **ggstatsplot** package:"
      ],
      "metadata": {
        "id": "spjlSrddnFn3"
      }
    },
    {
      "cell_type": "code",
      "source": [
        "%%R -w 1400 -h 1000 -u px\n",
        "p1<-ggstatsplot::ggbetweenstats(\n",
        "  data = mf,\n",
        "  x = product,\n",
        "  y = age,\n",
        "  ylab = \"Age\",\n",
        "  xlab = \"Choice of product\",\n",
        "  type = \"parametric\", # ANOVA or Kruskal-Wallis\n",
        "  var.equal = TRUE, # ANOVA or Welch ANOVA\n",
        "  plot.type = \"box\",\n",
        "  pairwise.comparisons = TRUE,\n",
        "  pairwise.display = \"significant\",\n",
        "  centrality.plotting = FALSE,\n",
        "  bf.message = FALSE\n",
        ")+\n",
        "# add plot title\n",
        "ggtitle(\"Age of the individual \") +\n",
        "   theme(\n",
        "    # center the plot title\n",
        "    plot.title = element_text(hjust = 0.5),\n",
        "    axis.line = element_line(colour = \"gray\"),\n",
        "    # axis title font size\n",
        "    axis.title.x = element_text(size = 14),\n",
        "    # X and  axis font size\n",
        "    axis.text.y=element_text(size=12,vjust = 0.5, hjust=0.5),\n",
        "    axis.text.x = element_text(size=12))\n",
        "\n",
        "p2<-ggstatsplot::ggbetweenstats(\n",
        "  data = mf,\n",
        "  x = product,\n",
        "  y = household,\n",
        "  ylab = \"No. of people\",\n",
        "  xlab = \"Choice of product\",\n",
        "  type = \"parametric\", # ANOVA or Kruskal-Wallis\n",
        "  var.equal = TRUE, # ANOVA or Welch ANOVA\n",
        "  plot.type = \"box\",\n",
        "  pairwise.comparisons = TRUE,\n",
        "  pairwise.display = \"significant\",\n",
        "  centrality.plotting = FALSE,\n",
        "  bf.message = FALSE\n",
        ")+\n",
        "# add plot title\n",
        "ggtitle(\"The number of people\") +\n",
        "   theme(\n",
        "    # center the plot title\n",
        "    plot.title = element_text(hjust = 0.5),\n",
        "    axis.line = element_line(colour = \"gray\"),\n",
        "    # axis title font size\n",
        "    axis.title.x = element_text(size = 14),\n",
        "    # X and  axis font size\n",
        "    axis.text.y=element_text(size=12,vjust = 0.5, hjust=0.5),\n",
        "    axis.text.x = element_text(size=12))\n",
        "\n",
        "p3<-ggstatsplot::ggbetweenstats(\n",
        "  data = mf,\n",
        "  x = product,\n",
        "  y = position_level,\n",
        "  ylab = \"Position level\",\n",
        "  xlab = \"Choice of product\",\n",
        "  type = \"parametric\", # ANOVA or Kruskal-Wallis\n",
        "  var.equal = TRUE, # ANOVA or Welch ANOVA\n",
        "  plot.type = \"box\",\n",
        "  pairwise.comparisons = TRUE,\n",
        "  pairwise.display = \"significant\",\n",
        "  centrality.plotting = FALSE,\n",
        "  bf.message = FALSE\n",
        ")+\n",
        "# add plot title\n",
        "ggtitle(\"Position level in the company\") +\n",
        "   theme(\n",
        "    # center the plot title\n",
        "    plot.title = element_text(hjust = 0.5),\n",
        "    axis.line = element_line(colour = \"gray\"),\n",
        "    # axis title font size\n",
        "    axis.title.x = element_text(size = 14),\n",
        "    # X and  axis font size\n",
        "    axis.text.y=element_text(size=12,vjust = 0.5, hjust=0.5),\n",
        "    axis.text.x = element_text(size=12))\n",
        "\n",
        "\n",
        "p4<-ggstatsplot::ggbetweenstats(\n",
        "  data = mf,\n",
        "  x = product,\n",
        "  y = absent,\n",
        "  ylab = \"Soil OC (%)\",\n",
        "  xlab = \"Days\",\n",
        "  type = \"parametric\", # ANOVA or Kruskal-Wallis\n",
        "  var.equal = TRUE, # ANOVA or Welch ANOVA\n",
        "  plot.type = \"box\",\n",
        "  pairwise.comparisons = TRUE,\n",
        "  pairwise.display = \"significant\",\n",
        "  centrality.plotting = FALSE,\n",
        "  bf.message = FALSE\n",
        ")+\n",
        "# add plot title\n",
        "ggtitle(\"The number of days absent from work \") +\n",
        "   theme(\n",
        "    # center the plot title\n",
        "    plot.title = element_text(hjust = 0.5),\n",
        "    axis.line = element_line(colour = \"gray\"),\n",
        "    # axis title font size\n",
        "    axis.title.x = element_text(size = 14),\n",
        "    # X and  axis font size\n",
        "    axis.text.y=element_text(size=12,vjust = 0.5, hjust=0.5),\n",
        "    axis.text.x = element_text(size=12))\n",
        "\n",
        "   (p1|p2)/(p3|p4)"
      ],
      "metadata": {
        "id": "MfwmcsxsnKox",
        "colab": {
          "base_uri": "https://localhost:8080/",
          "height": 1000
        },
        "outputId": "44a02088-8903-4968-8069-b941859a2fc8"
      },
      "execution_count": null,
      "outputs": [
        {
          "output_type": "display_data",
          "data": {
            "image/png": "[encoded data removed]"
          },
          "metadata": {}
        }
      ]
    },
    {
      "cell_type": "markdown",
      "source": [
        "#### Split Data"
      ],
      "metadata": {
        "id": "irYGsm-Dh4xs"
      }
    },
    {
      "cell_type": "code",
      "source": [
        "%%R\n",
        "seeds = 11076\n",
        "tr_prop = 0.70\n",
        "# training data (70% data)\n",
        "train= ddply(mf,.(product, gender ),\n",
        "                 function(., seed) { set.seed(seed); .[sample(1:nrow(.), trunc(nrow(.) * tr_prop)), ] }, seed = 101)\n",
        "test = ddply(mf, .(product , gender),\n",
        "            function(., seed) { set.seed(seed); .[-sample(1:nrow(.), trunc(nrow(.) * tr_prop)), ] }, seed = 101)\n",
        "print(prop.table(table(train$product)))\n",
        "print(prop.table(table(test$product)))"
      ],
      "metadata": {
        "colab": {
          "base_uri": "https://localhost:8080/"
        },
        "id": "Hl-b7QO-h5Al",
        "outputId": "d080d448-4238-4a3d-b8e6-110f062fcaa7"
      },
      "execution_count": null,
      "outputs": [
        {
          "output_type": "stream",
          "name": "stdout",
          "text": [
            "\n",
            "        A         B         C \n",
            "0.3405941 0.3158416 0.3435644 \n",
            "\n",
            "        A         B         C \n",
            "0.3401826 0.3150685 0.3447489 \n"
          ]
        }
      ]
    },
    {
      "cell_type": "markdown",
      "source": [
        "\n",
        "###  Fit a Multinminal Model\n",
        "\n",
        "Before we fit `multinom()` function from the {nnet}  the model, we need to make sure our reference level is defined.\n",
        "\n",
        "\n"
      ],
      "metadata": {
        "id": "P3o8Ay9miNcO"
      }
    },
    {
      "cell_type": "code",
      "source": [
        "%%R\n",
        "train$product <- relevel(train$product, ref = \"A\")\n",
        "test$product <- relevel(test$product, ref = \"A\")"
      ],
      "metadata": {
        "id": "do4-RiQYiQmN"
      },
      "execution_count": null,
      "outputs": []
    },
    {
      "cell_type": "code",
      "source": [
        "%%R\n",
        "fit.multinom<-nnet::multinom(product~., data= train, Hessain = T)"
      ],
      "metadata": {
        "colab": {
          "base_uri": "https://localhost:8080/"
        },
        "id": "X0nbYHoSiUku",
        "outputId": "9b6ad00c-2af7-4e35-f1c2-3ca975a221a0"
      },
      "execution_count": null,
      "outputs": [
        {
          "output_type": "stream",
          "name": "stdout",
          "text": [
            "# weights:  21 (12 variable)\n",
            "initial  value 1109.598412 \n",
            "iter  10 value 702.581012\n",
            "iter  20 value 517.407633\n",
            "final  value 517.303192 \n",
            "converged\n"
          ]
        }
      ]
    },
    {
      "cell_type": "markdown",
      "source": [
        "\n",
        "### Model Summary"
      ],
      "metadata": {
        "id": "OIydt6Ewj6m0"
      }
    },
    {
      "cell_type": "code",
      "source": [
        "%%R\n",
        "summary(fit.multinom)"
      ],
      "metadata": {
        "colab": {
          "base_uri": "https://localhost:8080/"
        },
        "id": "zdaSU4Caj6zX",
        "outputId": "80c7f196-ffe1-4903-aad5-b914ba8d0434"
      },
      "execution_count": null,
      "outputs": [
        {
          "output_type": "stream",
          "name": "stdout",
          "text": [
            "Call:\n",
            "nnet::multinom(formula = product ~ ., data = train, Hessain = T)\n",
            "\n",
            "Coefficients:\n",
            "  (Intercept)       age  household position_level genderMale      absent\n",
            "B   -4.959751 0.2590934 -1.0032411     -0.4503334 -2.3320817 0.009837554\n",
            "C  -10.431411 0.2821310  0.1840855     -0.3119368  0.1063362 0.014618147\n",
            "\n",
            "Std. Errors:\n",
            "  (Intercept)        age household position_level genderMale     absent\n",
            "B   0.6313473 0.01959831 0.0864775     0.10673739  0.2774411 0.01561814\n",
            "C   0.7534633 0.01980966 0.0594349     0.09886281  0.2345722 0.01506402\n",
            "\n",
            "Residual Deviance: 1034.606 \n",
            "AIC: 1058.606 \n"
          ]
        }
      ]
    },
    {
      "cell_type": "markdown",
      "source": [
        "### Z-statistics of Coefficients\n",
        "\n",
        "To determine whether specific input variables are significant we will need to calculate the p-values of the coefficients manually by calculating the z-statistics."
      ],
      "metadata": {
        "id": "_g7sgtuCs2Sz"
      }
    },
    {
      "cell_type": "code",
      "source": [
        "%%R\n",
        "z_stats <- summary(fit.multinom)$coefficients/\n",
        "  summary(fit.multinom)$standard.errors\n",
        "\n",
        "# convert to p-values\n",
        "p_values <- (1 - pnorm(abs(z_stats)))*2\n",
        "\n",
        "# display p-values in transposed data frame\n",
        "data.frame(t(p_values))"
      ],
      "metadata": {
        "colab": {
          "base_uri": "https://localhost:8080/"
        },
        "id": "d4Q1ztpCs5PE",
        "outputId": "01c394af-dde6-41e1-bf9b-42e61c703379"
      },
      "execution_count": null,
      "outputs": [
        {
          "output_type": "stream",
          "name": "stdout",
          "text": [
            "                          B           C\n",
            "(Intercept)    3.996803e-15 0.000000000\n",
            "age            0.000000e+00 0.000000000\n",
            "household      0.000000e+00 0.001953166\n",
            "position_level 2.453035e-05 0.001603610\n",
            "genderMale     0.000000e+00 0.650318459\n",
            "absent         5.287731e-01 0.331846545\n"
          ]
        }
      ]
    },
    {
      "cell_type": "markdown",
      "source": [
        "the `tidy()` function. In the results table, the first column represents the dependent variable outcome, and the second column represents the predictor variable, which corresponds to the coefficient in the estimate column.data being analyzed.\n"
      ],
      "metadata": {
        "id": "of4mLrHKtEJf"
      }
    },
    {
      "cell_type": "code",
      "source": [
        "%%R\n",
        "tidy(fit.multinom, conf.int = TRUE)\n"
      ],
      "metadata": {
        "colab": {
          "base_uri": "https://localhost:8080/"
        },
        "id": "JTnlYkUekg67",
        "outputId": "1a1fedad-f300-42ff-bce8-a144c502334e"
      },
      "execution_count": null,
      "outputs": [
        {
          "output_type": "stream",
          "name": "stdout",
          "text": [
            "# A tibble: 12 × 8\n",
            "   y.level term         estimate std.error statistic  p.value conf.low conf.high\n",
            "   <chr>   <chr>           <dbl>     <dbl>     <dbl>    <dbl>    <dbl>     <dbl>\n",
            " 1 B       (Intercept)  -4.96e+0    0.631     -7.86  3.97e-15  -6.20     -3.72  \n",
            " 2 B       age           2.59e-1    0.0196    13.2   6.71e-40   0.221     0.298 \n",
            " 3 B       household    -1.00e+0    0.0865   -11.6   4.06e-31  -1.17     -0.834 \n",
            " 4 B       position_le… -4.50e-1    0.107     -4.22  2.45e- 5  -0.660    -0.241 \n",
            " 5 B       genderMale   -2.33e+0    0.277     -8.41  4.25e-17  -2.88     -1.79  \n",
            " 6 B       absent        9.84e-3    0.0156     0.630 5.29e- 1  -0.0208    0.0404\n",
            " 7 C       (Intercept)  -1.04e+1    0.753    -13.8   1.37e-43 -11.9      -8.95  \n",
            " 8 C       age           2.82e-1    0.0198    14.2   5.02e-46   0.243     0.321 \n",
            " 9 C       household     1.84e-1    0.0594     3.10  1.95e- 3   0.0676    0.301 \n",
            "10 C       position_le… -3.12e-1    0.0989    -3.16  1.60e- 3  -0.506    -0.118 \n",
            "11 C       genderMale    1.06e-1    0.235      0.453 6.50e- 1  -0.353     0.566 \n",
            "12 C       absent        1.46e-2    0.0151     0.970 3.32e- 1  -0.0149    0.0441\n"
          ]
        }
      ]
    },
    {
      "cell_type": "markdown",
      "source": [
        "### Relative Risk Ratios (RRRs)\n"
      ],
      "metadata": {
        "id": "hM2IFxLdkzaz"
      }
    },
    {
      "cell_type": "code",
      "source": [
        "%%R\n",
        "# Extract coefficients\n",
        "coefficients <- coef(fit.multinom)\n",
        "# Exponentiate coefficients to obtain relative risk ratios\n",
        "RRRs <- exp(coefficients)\n",
        "# Print relative risk ratios\n",
        "print(RRRs)"
      ],
      "metadata": {
        "colab": {
          "base_uri": "https://localhost:8080/"
        },
        "id": "Jm9qPkA1k1bL",
        "outputId": "c36087bc-2dc1-4f94-cd45-4e77eaf04558"
      },
      "execution_count": null,
      "outputs": [
        {
          "output_type": "stream",
          "name": "stdout",
          "text": [
            "   (Intercept)      age household position_level genderMale   absent\n",
            "B 7.014676e-03 1.295755  0.366689      0.6374156 0.09709342 1.009886\n",
            "C 2.949142e-05 1.325952  1.202119      0.7320278 1.11219574 1.014726\n"
          ]
        }
      ]
    },
    {
      "cell_type": "markdown",
      "source": [
        "`plot_model()` function of {sjPlot} package creates plots the estimates from logistic model:"
      ],
      "metadata": {
        "id": "9a6Tod04H7TC"
      }
    },
    {
      "cell_type": "code",
      "source": [
        "%%R -w 600 -h 500 -u px\n",
        "plot_model(fit.multinom, vline.color = \"red\")"
      ],
      "metadata": {
        "colab": {
          "base_uri": "https://localhost:8080/",
          "height": 517
        },
        "id": "qE_j9VfWH7iN",
        "outputId": "a7293bf6-a3d0-467b-c508-30d421df27e3"
      },
      "execution_count": null,
      "outputs": [
        {
          "output_type": "display_data",
          "data": {
            "image/png": "[encoded data removed]"
          },
          "metadata": {}
        }
      ]
    },
    {
      "cell_type": "markdown",
      "source": [
        "### Model Performance"
      ],
      "metadata": {
        "id": "C2q6Wvr3e3Na"
      }
    },
    {
      "cell_type": "code",
      "source": [
        "%%R\n",
        "performance::performance(fit.multinom)"
      ],
      "metadata": {
        "colab": {
          "base_uri": "https://localhost:8080/"
        },
        "id": "R3zz2Ewie7Vl",
        "outputId": "441327b7-83cb-4f35-90fb-0fe50197951c"
      },
      "execution_count": null,
      "outputs": [
        {
          "output_type": "stream",
          "name": "stdout",
          "text": [
            "Can't calculate log-loss.\n"
          ]
        },
        {
          "output_type": "stream",
          "name": "stderr",
          "text": [
            "WARNING:rpy2.rinterface_lib.callbacks:R[write to console]: Can't calculate proper scoring rules for ordinal, multinomial or\n",
            "  cumulative link models.\n",
            "\n"
          ]
        },
        {
          "output_type": "stream",
          "name": "stdout",
          "text": [
            "# Indices of model performance\n",
            "\n",
            "AIC      |     AICc |      BIC |    R2 | R2 (adj.) |  RMSE | Sigma\n",
            "------------------------------------------------------------------\n",
            "1058.606 | 1058.919 | 1117.619 | 0.533 |     0.533 | 0.324 | 1.018\n"
          ]
        }
      ]
    },
    {
      "cell_type": "markdown",
      "source": [
        "#### Overall Training Accuracy"
      ],
      "metadata": {
        "id": "ysZI2ttJfBd9"
      }
    },
    {
      "cell_type": "code",
      "source": [
        "%%R\n",
        "# Calculate the predicted classes for the training set\n",
        "train$Pred.Class <- predict(fit.multinom, train)\n",
        "# Calculate training accuracy\n",
        "train.accuracy <- mean(train$Pred.Class == train$product)\n",
        "cat(\"Training Accuracy: \", train.accuracy, \"\\n\")"
      ],
      "metadata": {
        "colab": {
          "base_uri": "https://localhost:8080/"
        },
        "id": "bhzEN9RsfCMH",
        "outputId": "7bab0b3b-4ed3-4934-b4c8-9807eb4caa99"
      },
      "execution_count": null,
      "outputs": [
        {
          "output_type": "stream",
          "name": "stdout",
          "text": [
            "Training Accuracy:  0.7782178 \n"
          ]
        }
      ]
    },
    {
      "cell_type": "markdown",
      "source": [
        "#### Confusion Matrix"
      ],
      "metadata": {
        "id": "TJmScFvefGq2"
      }
    },
    {
      "cell_type": "code",
      "source": [
        "%%R\n",
        "# Create a confusion matrix\n",
        "conf.matrix.train <- table(Predicted = train$Pred.Class, Actual = train$product)\n",
        "conf.matrix.train"
      ],
      "metadata": {
        "colab": {
          "base_uri": "https://localhost:8080/"
        },
        "id": "tcPVYCuhfREf",
        "outputId": "fc73cd9f-b339-4a8b-e6e8-580c33efcc63"
      },
      "execution_count": null,
      "outputs": [
        {
          "output_type": "stream",
          "name": "stdout",
          "text": [
            "         Actual\n",
            "Predicted   A   B   C\n",
            "        A 284  46  47\n",
            "        B  39 246  44\n",
            "        C  21  27 256\n"
          ]
        }
      ]
    },
    {
      "cell_type": "markdown",
      "source": [
        "#### In-class Accuracy or Per-class Accuracy"
      ],
      "metadata": {
        "id": "0yBZ5Y28fU5K"
      }
    },
    {
      "cell_type": "code",
      "source": [
        "%%R\n",
        "# Calculate in-class accuracy\n",
        "in_class_accuracy.train <- diag(conf.matrix.train) / colSums(conf.matrix.train)\n",
        "\n",
        "# Display in-class accuracy for each class\n",
        "cat(\"In-Class Accuracy for each class:\\n\")\n",
        "print(round(in_class_accuracy.train* 100, 2))"
      ],
      "metadata": {
        "colab": {
          "base_uri": "https://localhost:8080/"
        },
        "id": "iiD4CMjgfRGl",
        "outputId": "ecdfa6bb-8fdc-4418-d830-3554b2bc66a1"
      },
      "execution_count": null,
      "outputs": [
        {
          "output_type": "stream",
          "name": "stdout",
          "text": [
            "In-Class Accuracy for each class:\n",
            "    A     B     C \n",
            "82.56 77.12 73.78 \n"
          ]
        }
      ]
    },
    {
      "cell_type": "markdown",
      "source": [
        "### Marginal Effects and Adjusted Predictions\n",
        "\n",
        "The presentation of regression models, usually shown in tables, is a clear and easy way to interpret results. However, for more complex models that include interaction or transformed terms, such as quadratic or spline terms, using raw regression coefficients may be less effective. This can make it challenging to understand outcomes. In these cases, adjusted predictions or marginal means are a better solution. Using visual aids can also help to understand these effects or predictions, providing an intuitive understanding of the relationship between predictors and outcomes, even for complex models.\n",
        "\n",
        "we get the same marginal effect using `avg_slopes()` function from the {marginaleffects} package"
      ],
      "metadata": {
        "id": "zxtY4m0rk-ez"
      }
    },
    {
      "cell_type": "code",
      "source": [
        "%%R\n",
        "marginaleffects::avg_slopes(fit.multinom, variables = \"age\")"
      ],
      "metadata": {
        "colab": {
          "base_uri": "https://localhost:8080/"
        },
        "id": "73NKwG-nlGvy",
        "outputId": "310189e5-99cc-43a8-a026-20251aae2835"
      },
      "execution_count": null,
      "outputs": [
        {
          "output_type": "stream",
          "name": "stdout",
          "text": [
            "\n",
            " Group Estimate Std. Error     z Pr(>|z|)     S    2.5 %  97.5 %\n",
            "     A -0.02611   0.000728 -35.9   <0.001 933.1 -0.02753 -0.0247\n",
            "     B  0.00962   0.000636  15.1   <0.001 169.3  0.00837  0.0109\n",
            "     C  0.01649   0.000601  27.4   <0.001 548.4  0.01531  0.0177\n",
            "\n",
            "Term: age\n",
            "Type:  probs \n",
            "Comparison: mean(dY/dX)\n",
            "Columns: term, group, contrast, estimate, std.error, statistic, p.value, s.value, conf.low, conf.high, predicted_lo, predicted_hi, predicted \n",
            "\n"
          ]
        }
      ]
    },
    {
      "cell_type": "markdown",
      "source": [
        "To calculate marginal effects and adjusted predictions, the `predict_response()` function of {ggeffects} package is used. This function can return three types of predictions, namely, conditional effects, marginal effects or marginal means, and average marginal effects or counterfactual predictions. You can set the type of prediction you want by using the `margin` argument."
      ],
      "metadata": {
        "id": "2o-hFI90lUqm"
      }
    },
    {
      "cell_type": "code",
      "source": [
        "%%R -w 600 -h 400 -u px\n",
        "effect<-ggeffects::predict_response(fit.multinom, \"age\", margin = \"empirical\")\n",
        "plot(effect)"
      ],
      "metadata": {
        "colab": {
          "base_uri": "https://localhost:8080/",
          "height": 469
        },
        "id": "Li3FpxE9lV7_",
        "outputId": "1c7ea353-3e7d-4da7-b168-6a64e6df2e6c"
      },
      "execution_count": null,
      "outputs": [
        {
          "output_type": "stream",
          "name": "stderr",
          "text": [
            "WARNING:rpy2.rinterface_lib.callbacks:R[write to console]: Data were 'prettified'. Consider using `terms=\"age [all]\"` to get smooth\n",
            "  plots.\n",
            "\n"
          ]
        },
        {
          "output_type": "display_data",
          "data": {
            "image/png": "[encoded data removed]"
          },
          "metadata": {}
        }
      ]
    },
    {
      "cell_type": "code",
      "source": [
        "%%R\n",
        "effect$predicted[2] - effect$predicted[1]"
      ],
      "metadata": {
        "colab": {
          "base_uri": "https://localhost:8080/"
        },
        "id": "HTrtqGwgl1Qm",
        "outputId": "84b5aebe-8da1-4bc7-ad84-03f14df875a8"
      },
      "execution_count": null,
      "outputs": [
        {
          "output_type": "stream",
          "name": "stdout",
          "text": [
            "[1] -0.8878722\n"
          ]
        }
      ]
    },
    {
      "cell_type": "code",
      "source": [
        "%%R -w 600 -h 400 -u px\n",
        "#| fig.height: 5\n",
        "age.gender <- predict_response(fit.multinom, terms = c(\"age\", \"gender\"))\n",
        "plot(age.gender, facets = TRUE)"
      ],
      "metadata": {
        "colab": {
          "base_uri": "https://localhost:8080/",
          "height": 469
        },
        "id": "mAqgMp-1Tk13",
        "outputId": "b4198cd7-c8d0-4388-8119-085f0a4755a1"
      },
      "execution_count": null,
      "outputs": [
        {
          "output_type": "stream",
          "name": "stderr",
          "text": [
            "WARNING:rpy2.rinterface_lib.callbacks:R[write to console]: Data were 'prettified'. Consider using `terms=\"age [all]\"` to get smooth\n",
            "  plots.\n",
            "\n"
          ]
        },
        {
          "output_type": "display_data",
          "data": {
            "image/png": "[encoded data removed]"
          },
          "metadata": {}
        }
      ]
    },
    {
      "cell_type": "markdown",
      "source": [
        "### Cross-validation"
      ],
      "metadata": {
        "id": "jAGgwjRAXXvX"
      }
    },
    {
      "cell_type": "code",
      "source": [
        "%%R\n",
        "# Set a seed for reproducibility\n",
        "set.seed(123)\n",
        "mf$product <- relevel(mf$product, ref = \"A\")\n",
        "\n",
        "# Define the number of folds for cross-validation\n",
        "k <- 10\n",
        "folds <- sample(rep(1:k, length.out = nrow(mf)))\n",
        "\n",
        "# Initialize a vector to store accuracy\n",
        "accuracy <- numeric(k)\n",
        "\n",
        "# Perform k-fold cross-validation\n",
        "for(i in 1:k) {\n",
        "  # Split the data into training and test sets\n",
        "  train_data <- mf[folds != i, ]\n",
        "  test_data <- mf[folds == i, ]\n",
        "\n",
        "  # Fit the multinomial logistic regression model\n",
        "  model <- multinom(product ~ ., data = train_data)\n",
        "\n",
        "  # Make predictions on the test set\n",
        "  predictions <- predict(model, newdata = test_data)\n",
        "\n",
        "  # Calculate accuracy\n",
        "  accuracy[i] <- mean(predictions == test_data$product)\n",
        "}\n",
        "\n",
        "# Calculate and print the average accuracy across all folds\n",
        "average_accuracy <- mean(accuracy)\n",
        "cat(\"Average Accuracy from Cross-Validation: \", average_accuracy, \"\\n\")"
      ],
      "metadata": {
        "colab": {
          "base_uri": "https://localhost:8080/"
        },
        "id": "Mjhriq4XXbCg",
        "outputId": "cca59aef-2151-45d4-a82c-f93441d79bec"
      },
      "execution_count": null,
      "outputs": [
        {
          "output_type": "stream",
          "name": "stdout",
          "text": [
            "# weights:  21 (12 variable)\n",
            "initial  value 1431.491812 \n",
            "iter  10 value 845.553727\n",
            "iter  20 value 667.198403\n",
            "final  value 667.143901 \n",
            "converged\n",
            "# weights:  21 (12 variable)\n",
            "initial  value 1431.491812 \n",
            "iter  10 value 847.246088\n",
            "iter  20 value 668.901238\n",
            "final  value 668.810030 \n",
            "converged\n",
            "# weights:  21 (12 variable)\n",
            "initial  value 1431.491812 \n",
            "iter  10 value 853.565387\n",
            "iter  20 value 668.226170\n",
            "final  value 668.169797 \n",
            "converged\n",
            "# weights:  21 (12 variable)\n",
            "initial  value 1431.491812 \n",
            "iter  10 value 867.663926\n",
            "iter  20 value 658.594898\n",
            "final  value 658.533703 \n",
            "converged\n",
            "# weights:  21 (12 variable)\n",
            "initial  value 1431.491812 \n",
            "iter  10 value 857.381406\n",
            "iter  20 value 674.130530\n",
            "final  value 674.076607 \n",
            "converged\n",
            "# weights:  21 (12 variable)\n",
            "initial  value 1431.491812 \n",
            "iter  10 value 828.673560\n",
            "iter  20 value 653.453615\n",
            "final  value 653.401842 \n",
            "converged\n",
            "# weights:  21 (12 variable)\n",
            "initial  value 1431.491812 \n",
            "iter  10 value 841.848425\n",
            "iter  20 value 667.021539\n",
            "final  value 666.943761 \n",
            "converged\n",
            "# weights:  21 (12 variable)\n",
            "initial  value 1431.491812 \n",
            "iter  10 value 854.993861\n",
            "iter  20 value 672.018579\n",
            "final  value 671.962795 \n",
            "converged\n",
            "# weights:  21 (12 variable)\n",
            "initial  value 1432.590424 \n",
            "iter  10 value 850.880994\n",
            "iter  20 value 665.401801\n",
            "final  value 665.327819 \n",
            "converged\n",
            "# weights:  21 (12 variable)\n",
            "initial  value 1432.590424 \n",
            "iter  10 value 863.294019\n",
            "iter  20 value 673.363592\n",
            "final  value 673.293777 \n",
            "converged\n",
            "Average Accuracy from Cross-Validation:  0.7631082 \n"
          ]
        }
      ]
    },
    {
      "cell_type": "markdown",
      "source": [
        "### Prediction at Test Data\n"
      ],
      "metadata": {
        "id": "lzUYKrBuVrKA"
      }
    },
    {
      "cell_type": "markdown",
      "source": [
        "\n",
        "The `predict()` function for logistic models returns the default predictions of log-odds, which are probabilities on the logit scale. When type = `response`, the function provides the predicted probabilities.\n"
      ],
      "metadata": {
        "id": "CbsRKRQguv5L"
      }
    },
    {
      "cell_type": "code",
      "source": [
        "%%R\n",
        "test$Pred.Class<-predict(fit.multinom, test, type = \"class\")\n"
      ],
      "metadata": {
        "id": "IR50vxu9Vsrp"
      },
      "execution_count": null,
      "outputs": []
    },
    {
      "cell_type": "markdown",
      "source": [
        "#### Overall Auccuracy"
      ],
      "metadata": {
        "id": "Y6HMiJxMcZV-"
      }
    },
    {
      "cell_type": "code",
      "source": [
        "%%R\n",
        "# Calculate accuracy\n",
        "test.accuracy <- mean(test$Pred.Class == test$product)\n",
        "cat(\"Test Accuracy: \", test.accuracy , \"\\n\")"
      ],
      "metadata": {
        "id": "HPjn7bhicj3o"
      },
      "execution_count": null,
      "outputs": []
    },
    {
      "cell_type": "markdown",
      "source": [
        "#### Confusion Matrix"
      ],
      "metadata": {
        "id": "BTI9-AUhcUic"
      }
    },
    {
      "cell_type": "code",
      "source": [
        "%%R\n",
        "# Create a confusion matrix\n",
        "conf.matrix.test <- table(Predicted = test$Pred.Class, Actual = test$product)\n",
        "conf.matrix.test"
      ],
      "metadata": {
        "colab": {
          "base_uri": "https://localhost:8080/"
        },
        "id": "vNZXjdS9b22Y",
        "outputId": "9b147d88-6d88-44df-f55b-463313be692f"
      },
      "execution_count": null,
      "outputs": [
        {
          "output_type": "stream",
          "name": "stdout",
          "text": [
            "         Actual\n",
            "Predicted   A   B   C\n",
            "        A 119  25  19\n",
            "        B  20 101  20\n",
            "        C  10  12 112\n"
          ]
        }
      ]
    },
    {
      "cell_type": "markdown",
      "source": [
        "#### In-class Accuracy or Per-class Accuracy\n",
        "\n",
        "\n",
        "\n"
      ],
      "metadata": {
        "id": "DiQanycecqj4"
      }
    },
    {
      "cell_type": "code",
      "source": [
        "%%R\n",
        "# Calculate in-class accuracy\n",
        "in_class_accuracy.test <- diag(conf.matrix.test) / colSums(conf.matrix.test)\n",
        "\n",
        "# Display in-class accuracy for each class\n",
        "cat(\"In-Class Accuracy for each class:\\n\")\n",
        "print(round(in_class_accuracy.test * 100, 2))"
      ],
      "metadata": {
        "colab": {
          "base_uri": "https://localhost:8080/"
        },
        "id": "PqhfQh9abumA",
        "outputId": "80482569-b049-4b28-81e6-807a87753225"
      },
      "execution_count": null,
      "outputs": [
        {
          "output_type": "stream",
          "name": "stdout",
          "text": [
            "In-Class Accuracy for each class:\n",
            "    A     B     C \n",
            "79.87 73.19 74.17 \n"
          ]
        }
      ]
    },
    {
      "cell_type": "markdown",
      "source": [
        "## Summary and Conclusion\n",
        "\n",
        "Understanding ordinal regression and how to implement it in R can provide valuable insights into the relationships between predictor variables and ordinal response variables. This can lead to a deeper understanding of the factors influencing the outcome of interest. It's important to approach ordinal regression carefully, taking into consideration the specific data and research question."
      ],
      "metadata": {
        "id": "upcYU_bCVlc1"
      }
    },
    {
      "cell_type": "markdown",
      "source": [
        "## References\n",
        "\n",
        "1. [Ordinal logistic regression](https://www.bookdown.org/rwnahhas/RMPH/blr-ordinal.html)\n",
        "\n",
        "2. [ORDINAL LOGISTIC REGRESSION | R DATA ANALYSIS EXAMPLES](https://stats.oarc.ucla.edu/r/dae/ordinal-logistic-regression/)\n",
        "\n",
        "3. [How to Perform Ordinal Logistic Regression in R](https://www.r-bloggers.com/2019/06/how-to-perform-ordinal-logistic-regression-in-r/)\n",
        "\n",
        "4. [Chapter 12 Ordinal Logistic Regression](https://bookdown.org/chua/ber642_advanced_regression/ordinal-logistic-regression.html)\n",
        "\n",
        "5. [Handbook of Regression Modeling in People Analytics:](https://peopleanalytics-regression-book.org/)"
      ],
      "metadata": {
        "id": "jadfYvGSWNK8"
      }
    }
  ]
}