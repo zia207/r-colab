{
  "nbformat": 4,
  "nbformat_minor": 0,
  "metadata": {
    "colab": {
      "provenance": [],
      "toc_visible": true,
      "authorship_tag": "ABX9TyN+ISnckhE1N1iJV90ey9YI",
      "include_colab_link": true
    },
    "kernelspec": {
      "name": "python3",
      "display_name": "Python 3"
    },
    "language_info": {
      "name": "python"
    }
  },
  "cells": [
    {
      "cell_type": "markdown",
      "metadata": {
        "id": "view-in-github",
        "colab_type": "text"
      },
      "source": [
        "<a href=\"https://colab.research.google.com/github/zia207/r-colab/blob/main/NoteBook/Advance_Regression/02-07-05-survival-analysis-risk-regression-r.ipynb\" target=\"_parent\"><img src=\"https://colab.research.google.com/assets/colab-badge.svg\" alt=\"Open In Colab\"/></a>"
      ]
    },
    {
      "cell_type": "markdown",
      "source": [
        "![alt text](http://drive.google.com/uc?export=view&id=1bLQ3nhDbZrCCqy_WCxxckOne2lgVvn3l)"
      ],
      "metadata": {
        "id": "PYplqK-VsB8E"
      }
    },
    {
      "cell_type": "markdown",
      "source": [
        "# 6. Risk Regression\n",
        "\n",
        "Risk regression is a statistical method used in survival analysis to model the relationship between covariates (independent variables) and the risk of experiencing an event of interest over time. It is particularly useful in the presence of competing risks, where individuals are exposed to multiple types of events that can prevent the occurrence of the primary event of interest. Risk regression allows researchers to estimate the effect of covariates on the cause-specific hazards or subdistribution hazards, which are essential for understanding the risk of the event of interest in the presence of competing risks. This tutorial provides an overview of risk regression, including the concepts of cause-specific hazards, subdistribution hazards, and competing risks analysis. We will demonstrate how to calculate the Cumulative Incidence Function (CIF) for competing risks and estimate the subdistribution hazard from scratch in R. We will also discuss common R packages for risk regression, such as `{riskRegression}`, `{cmprsk}`, `{timereg}`, and `{tidycmprsk}`, and how to use them."
      ],
      "metadata": {
        "id": "k_8T6NOosR51"
      }
    },
    {
      "cell_type": "markdown",
      "source": [
        "## Overview\n",
        "\n",
        "**Competing Risk Analysis** in survival data analysis deals with situations where individuals under study are exposed to more than one possible event that can prevent the occurrence of the primary event of interest. In such cases, a competing risk is any event that \"competes\" with the event of interest by either precluding its occurrence or altering the probability that it will happen.\n",
        "\n",
        "Consider a study on patients diagnosed with a particular type of cancer. The event of interest might be cancer-specific death. However, patients can die due to other causes like heart disease, accidents, or other unrelated illnesses. These other causes are considered competing risks because they prevent cancer-specific death from occurring.\n",
        "\n",
        "In traditional survival analysis (such as using Kaplan-Meier curves or Cox proportional hazards models), only the event of interest (e.g., death from cancer) is considered, and all other types of events are treated as censored. This can lead to biased estimates if competing risks are ignored because the assumption that censored individuals are still at risk for the event of interest is violated.\n",
        "\n",
        "Competing risks analysis acknowledges these competing events and provides more realistic estimates of the probability of the primary event of interest.\n",
        "\n",
        "***1. Cumulative Incidence Function (CIF)***\n",
        "\n",
        "The **Cumulative Incidence Function (CIF)** is a statistical tool used in survival analysis to estimate the probability that a specific event (such as death from a particular cause) has occurred by a certain time in the presence of competing risks. It accounts for the fact that an individual may experience different types of events, and that the occurrence of one event type precludes the occurrence of other event types (competing risks).\n",
        "\n",
        "In the context of **competing risks**, the CIF gives the **cumulative probability** of the event of interest over time, considering the presence of competing events.\n",
        "\n",
        "Let’s assume that:\n",
        "\n",
        "- $T$ is the time to the event of interest (such as death from a disease).\n",
        "- $k$ is the event type (with $k = 1$ for the event of interest and $k = 2, 3, \\dots$ for competing events).\n",
        "- $F_k(t)$ is the CIF for event $k$.\n",
        "\n",
        "The CIF for event $k$ at time $t$ is defined as:\n",
        "\n",
        "$$ F_k(t) = P(T \\leq t, \\text{event} = k) $$\n",
        "\n",
        "The CIF can be expressed in terms of the **cause-specific hazard function**:\n",
        "\n",
        "$$ F_k(t) = \\int_0^t \\lambda_k(s) S(s) \\, ds $$\n",
        "\n",
        "Where:\n",
        "- $\\lambda_k(t)$ is the **cause-specific hazard** for event $k$, which represents the instantaneous risk of experiencing event $k$ at time $t$, given survival up to time $t$.\n",
        "- $S(t)$ is the **overall survival function** (probability of not experiencing any event up to time $t$.\n",
        "\n",
        " **Cause-Specific Hazard $\\lambda_k(t)$**: The rate at which the event of interest occurs at time $t$, assuming no other event has occurred before.\n",
        " **Survival Function $S(t)$**: The probability of surviving (i.e., not experiencing any event) up to time $t$.\n",
        "\n",
        "Thus, the CIF for the event of interest (event $k$) is the sum of instantaneous risks of experiencing the event of interest, adjusted by the probability of surviving up to each point in time.\n",
        "\n",
        "***CIF and Competing Risks***\n",
        "\n",
        "When dealing with competing risks, the probability of an event is impacted by the possibility of experiencing other types of events (competing events). In such cases:\n",
        "- The CIF explicitly considers the occurrence of competing events.\n",
        "- Individuals who experience competing events are **not treated as censored** but are considered to have left the risk set for the event of interest.\n",
        "  \n",
        "Thus, the CIF reflects the **true probability** of experiencing the event of interest while properly accounting for competing events. It is central to **competing risk analysis** because it provides a more accurate assessment of the probability of the event of interest, compared to traditional survival analysis methods (like the Kaplan-Meier estimator), which do not account for competing risks which treats individuals who experience competing events as **censored** and can **overestimate** the probability of the event of interest. In contrast, the CIF accounts for individuals who experience competing events, and it adjusts the probability of the event of interest accordingly.\n",
        "\n",
        "Consider a clinical study where patients are at risk of two types of events: (a) death due to cancer (event of interest). and (b) Death due to other causes (competing event). If we apply traditional Kaplan-Meier survival analysis, the patients who die from other causes would be treated as censored. This can inflate the probability of death due to cancer because the method assumes those patients could still experience cancer death if they hadn’t been censored.\n",
        "\n",
        "Steps to calculate the CIF in Competing Risks are follow:\n",
        "\n",
        "1. **Estimate Cause-Specific Hazards**: Calculate the cause-specific hazard $\\lambda_k(t)$ for each event type. This can be done using a Cox proportional hazards model for each event type.\n",
        "   \n",
        "2. **Estimate the Survival Function**: Estimate the overall survival function $S(t)$ as:\n",
        "   $$   S(t) = \\exp\\left(- \\int_0^t \\sum_{k=1}^{K} \\lambda_k(s) \\, ds \\right) $$\n",
        "\n",
        "   Where $K$ is the total number of event types (including competing events).\n",
        "\n",
        "3. **Compute the CIF**: Use the cause-specific hazards and the survival function to compute the CIF for each event type:\n",
        "   $$  F_k(t) = \\int_0^t \\lambda_k(s) S(s) \\, ds $$\n",
        "\n",
        "   This gives the cumulative probability of experiencing the event of interest over time, accounting for the competing risks.\n",
        "\n",
        "\n",
        "***2. Cause-Specific Hazard Function***\n",
        "\n",
        "The **cause-specific hazard function** is a key concept in survival analysis with competing risks. It measures the **instantaneous risk** of experiencing a specific event type (or cause) at a given time, assuming that the individual has not yet experienced any event. In the presence of multiple event types (competing risks), each event type has its own cause-specific hazard function.\n",
        "\n",
        "Let $T$ represent the time to the first event (e.g., death, relapse), and let $k$ index the different event types (or causes), with $k = 1, 2, \\dots, K$, where $K$ is the total number of possible event types. The **cause-specific hazard** for event type $k$ at time $t$ is defined as:\n",
        "\n",
        "$$ \\lambda_k(t) = \\lim_{\\Delta t \\to 0} \\frac{P(t \\leq T < t + \\Delta t, \\text{event} = k \\mid T \\geq t)}{\\Delta t} $$\n",
        "\n",
        "\n",
        "Where:\n",
        "- $\\lambda_k(t)$ is the cause-specific hazard function for event type $k$ at time $t$.\n",
        "- $T$ is the time to the event.\n",
        "- $\\text{event} = k$ indicates that the event is of type $k$.\n",
        "- $T \\geq t$ means the individual has not yet experienced any event up to time $t$.\n",
        "\n",
        "The **cause-specific hazard** represents the **instantaneous risk** of experiencing event type $k$ at time $t$, **given that no event of any type has occurred** up to time $t$.\n",
        "\n",
        "***Key Characteristics:***\n",
        "\n",
        "- **Instantaneous Risk**: The cause-specific hazard measures the rate at which individuals are experiencing event $k$ at time $t$, assuming they have survived (not experienced any event) until time $t$.\n",
        "- **Competing Risks**: The cause-specific hazard focuses on the risk of a specific event, and it is computed independently of other event types.\n",
        "- **Multiple Event Types**: Each event type $k$ has its own cause-specific hazard, and there can be as many cause-specific hazard functions as there are event types.\n",
        "\n",
        "The cause-specific hazard tells us the **risk** (or hazard rate) of experiencing a particular type of event **at a given time**, under the condition that no event (including competing events) has occurred yet. This is similar to the hazard function used in standard survival analysis, but here it applies to each specific cause of failure. For example, in a study of cancer patients, the cause-specific hazard might describe the instantaneous risk of **dying from cancer** at time $t$, **given that the patient is still alive** (has not died from any cause, including non-cancer causes). The cause-specific hazard for death from cancer $\\lambda_A(t)$ gives the instantaneous risk of dying from cancer at time $t$, assuming the patient is still alive (has not died from any cause) at time $t$. Similarly, the cause-specific hazard for death from other causes $\\lambda_B(t)$ gives the instantaneous risk of dying from another cause at time $t$, assuming the patient has not yet died from any cause.\n",
        "\n",
        "The **total hazard** (overall hazard) at time \\(t\\) can be decomposed into the sum of the cause-specific hazards for all possible event types:\n",
        "\n",
        "$$ \\lambda(t) = \\sum_{k=1}^{K} \\lambda_k(t) $$\n",
        "\n",
        "Where:\n",
        "- $\\lambda(t)$ is the total hazard (the overall risk of experiencing any event at time $t$.\n",
        "- $\\lambda_k(t)$ is the cause-specific hazard for event $k$.\n",
        "\n",
        "\n",
        "The **cumulative incidence function (CIF)**, which gives the probability of experiencing a specific event by time $t$, is related to the cause-specific hazard. It is therefore crucial for calculating the cumulative incidence of an event over time, especially when competing risks are present. In the context of regression analysis, cause-specific hazards can be modeled using a **Cox proportional hazards model**.\n",
        "\n",
        "3. ***Subdistribution Hazards Function***\n",
        "\n",
        "The **subdistribution hazard function** is an alternative to the **cause-specific hazard function** used in survival analysis when dealing with **competing risks**. It is particularly useful for modeling the probability of a specific event in the presence of competing events. Unlike the cause-specific hazard, which only considers individuals who are still at risk of any event, the subdistribution hazard keeps individuals who have experienced competing events in the risk set, treating them as still being at \"risk\" of the event of interest.\n",
        "\n",
        "The subdistribution hazard is key to estimating the **cumulative incidence function (CIF)**, which gives the probability of the event of interest occurring by a given time, accounting for competing risks. The risk set for the subdistribution hazard includes individuals who have experienced competing events (but they are treated differently from those who remain at risk for the event of interest). It provides a hazard rate that adjusts for competing risks, making it suitable for **cumulative incidence-based predictions**.\n",
        "\n",
        "\n",
        "Let:\n",
        "- $T$ be the time to the event of interest.\n",
        "- $k$ be the index for the different event types, where $k = 1$ corresponds to the event of interest, and $k = 2, 3, \\dots$ represent the competing events.\n",
        "\n",
        "The **subdistribution hazard** for event $k = 1$ at time $t$, denoted as $\\lambda^{\\ast}_k(t)$, is defined as:\n",
        "\n",
        "$$ \\lambda^{\\ast}_1(t) = \\lim_{\\Delta t \\to 0} \\frac{P(t \\leq T < t + \\Delta t, \\text{event} = 1 \\mid T \\geq t \\, \\text{or competing event before} \\, t)}{\\Delta t} $$\n",
        "\n",
        "\n",
        "Where:\n",
        "- $\\lambda^{\\ast}_1(t)$ is the **subdistribution hazard** for the event of interest $k = 1$.\n",
        "- $T \\geq t \\, \\text{or competing event before} \\, t$ means that the risk set includes individuals who are either still at risk of the event of interest or who have already experienced a competing event by time $t$.\n",
        "\n",
        "**Fine-Gray Model and Subdistribution Hazards**\n",
        "\n",
        "The **Fine-Gray model** is a regression model used to estimate subdistribution hazards. It allows for the estimation of the effects of covariates (such as age, treatment, etc.) on the subdistribution hazard and thus on the cumulative incidence of the event of interest.\n",
        "\n",
        "In the Fine-Gray model, the subdistribution hazard for event $k$ given covariates $X$ is expressed as:\n",
        "\n",
        "$$ \\lambda^{\\ast}_k(t \\mid X) = \\lambda^{\\ast}_{0k}(t) \\exp(\\beta'X) $$\n",
        "\n",
        "Where:\n",
        "- $\\lambda^{\\ast}_k(t \\mid X)$ is the subdistribution hazard for event $k$ at time $t$ given covariates $X$.\n",
        "- $\\lambda^{\\ast}_{0k}(t)$ is the **baseline subdistribution hazard** for event $k$.\n",
        "- $\\beta$ is the vector of **regression coefficients** representing the effect of covariates on the subdistribution hazard.\n",
        "\n",
        "This model provides a way to assess the impact of covariates on the **cumulative incidence** of the event of interest, while accounting for competing risks.\n",
        "\n",
        "***Example of Subdistribution Hazard in Practice***\n",
        "\n",
        "Consider a clinical study where we have two event types:\n",
        "1. **Event A**: Death due to cancer (event of interest).\n",
        "2. **Event B**: Death due to other causes (competing event).\n",
        "\n",
        "In this case:\n",
        "- The **cause-specific hazard** for death due to cancer reflects the instantaneous risk of dying from cancer, assuming no death from any other cause has occurred.\n",
        "- The **subdistribution hazard** for death due to cancer, however, includes individuals who may have already died from other causes in the risk set, and it adjusts the hazard accordingly to reflect the true cumulative probability of cancer death over time.\n",
        "\n",
        " ***Step-by-Step Subdistribution Hazard Estimation***\n",
        "\n",
        "1. **Identify the Risk Set**: The risk set includes both individuals who are still at risk for the event of interest and those who have experienced competing events.\n",
        "   \n",
        "2. **Estimate the Subdistribution Hazard**: Estimate the subdistribution hazard for the event of interest (e.g., death from cancer) using all individuals in the risk set, including those who have experienced competing events. This is typically done using a **Fine-Gray regression model** or by applying methods that compute the subdistribution hazard directly.\n",
        "\n",
        "3. **Estimate the Cumulative Incidence Function (CIF)**: Use the estimated subdistribution hazard to compute the cumulative incidence function $F_1(t)$, which gives the cumulative probability of the event of interest over time, accounting for the presence of competing risks.\n",
        "\n",
        "4. **Interpret Results**: The resulting CIF provides an accurate estimate of the probability that the event of interest will occur by time $t$, taking into account the fact that competing events might have occurred.\n",
        "\n",
        "\n",
        "In practice, the **subdistribution hazard** is crucial for studies where we want to make predictions about the cumulative incidence of an event in the presence of competing risks. Unlike cause-specific hazards, which focus on the instantaneous risk of an event occurring (ignoring those who experience competing events), subdistribution hazards help us to estimate the **real-world probability** of an event, considering that some individuals may experience competing events first.\n",
        "\n",
        "This is particularly important when making clinical decisions, estimating treatment effects, or making survival predictions in settings where multiple types of events are possible and interact with each other.\n",
        "\n",
        "\n",
        "***Comparison: Cause-Specific vs. Subdistribution Hazards***\n",
        "\n",
        "-   **Cause-Specific Hazard,** $\\lambda_k(t)$: Reflects the instantaneous risk of the event of interest occurring at time $t$, assuming that no event (including competing events) has occurred by that time.\n",
        "    -   It only considers individuals who are still **at risk** for all event types.\n",
        "    -   It is primarily used to understand the effect of covariates on the risk of a specific event.\n",
        "-   **Subdistribution Hazard,** $\\lambda^{\\ast}_k(t)$: Reflects the risk of the event of interest at time $t$, even including individuals who have already experienced competing events.\n",
        "    -   Individuals who experience competing events are **not removed from the risk set**, although they are handled differently.\n",
        "    -   It is used to directly estimate the **CIF**, which gives the cumulative probability of the event of interest over time.\n",
        "\n",
        "### Summary of Differences:\n",
        "\n",
        "| **Aspect**               | **Cause-Specific Hazard**                                  | **Subdistribution Hazard (Fine-Gray)**                                                      |\n",
        "|--------------------------|------------------------------------------------------------|---------------------------------------------------------------------------------------------|\n",
        "| **Focus**                | Instantaneous risk of an event of interest                 | Accounts for competing events when modeling event of interest                               |\n",
        "| **Risk Set**             | Individuals who haven’t experienced any event              | Includes individuals who have experienced competing events                                  |\n",
        "| **Model Type**           | Cox proportional hazards                                   | Fine-Gray model                                                                             |\n",
        "| **Cumulative Incidence** | Does not directly model cumulative incidence               | Directly linked to cumulative incidence                                                     |\n",
        "| **Use Case**             | Studying the effect of covariates on each event separately | Studying the probability of experiencing an event over time in presence of competing events |\n",
        "\n"
      ],
      "metadata": {
        "id": "rYkF3LgwHflQ"
      }
    },
    {
      "cell_type": "markdown",
      "source": [
        "## Install rpy2"
      ],
      "metadata": {
        "id": "9n6LEpyGsycn"
      }
    },
    {
      "cell_type": "code",
      "source": [
        "!pip uninstall rpy2 -y\n",
        "!pip install rpy2==3.5.1\n",
        "%load_ext rpy2.ipython"
      ],
      "metadata": {
        "colab": {
          "base_uri": "https://localhost:8080/"
        },
        "id": "Sn1uQzxIs01n",
        "outputId": "f77e89b9-7089-4b6f-d0a3-ef7b41675e99"
      },
      "execution_count": 1,
      "outputs": [
        {
          "output_type": "stream",
          "name": "stdout",
          "text": [
            "Found existing installation: rpy2 3.4.2\n",
            "Uninstalling rpy2-3.4.2:\n",
            "  Successfully uninstalled rpy2-3.4.2\n",
            "Collecting rpy2==3.5.1\n",
            "  Downloading rpy2-3.5.1.tar.gz (201 kB)\n",
            "\u001b[2K     \u001b[90m━━━━━━━━━━━━━━━━━━━━━━━━━━━━━━━━━━━━━━━━\u001b[0m \u001b[32m201.7/201.7 kB\u001b[0m \u001b[31m4.1 MB/s\u001b[0m eta \u001b[36m0:00:00\u001b[0m\n",
            "\u001b[?25h  Preparing metadata (setup.py) ... \u001b[?25l\u001b[?25hdone\n",
            "Requirement already satisfied: cffi>=1.10.0 in /usr/local/lib/python3.11/dist-packages (from rpy2==3.5.1) (1.17.1)\n",
            "Requirement already satisfied: jinja2 in /usr/local/lib/python3.11/dist-packages (from rpy2==3.5.1) (3.1.5)\n",
            "Requirement already satisfied: pytz in /usr/local/lib/python3.11/dist-packages (from rpy2==3.5.1) (2024.2)\n",
            "Requirement already satisfied: tzlocal in /usr/local/lib/python3.11/dist-packages (from rpy2==3.5.1) (5.2)\n",
            "Requirement already satisfied: pycparser in /usr/local/lib/python3.11/dist-packages (from cffi>=1.10.0->rpy2==3.5.1) (2.22)\n",
            "Requirement already satisfied: MarkupSafe>=2.0 in /usr/local/lib/python3.11/dist-packages (from jinja2->rpy2==3.5.1) (3.0.2)\n",
            "Building wheels for collected packages: rpy2\n",
            "  Building wheel for rpy2 (setup.py) ... \u001b[?25l\u001b[?25hdone\n",
            "  Created wheel for rpy2: filename=rpy2-3.5.1-cp311-cp311-linux_x86_64.whl size=314976 sha256=45c4806e7d1758d7967e02e2620b987457218568aeda6435b10e216db2246906\n",
            "  Stored in directory: /root/.cache/pip/wheels/e9/55/d1/47be85a5f3f1e1f4d1e91cb5e3a4dcb40dd72147f184c5a5ef\n",
            "Successfully built rpy2\n",
            "Installing collected packages: rpy2\n",
            "Successfully installed rpy2-3.5.1\n"
          ]
        }
      ]
    },
    {
      "cell_type": "markdown",
      "source": [
        "## Mount Google Drive"
      ],
      "metadata": {
        "id": "QC6sIX7Fs4dC"
      }
    },
    {
      "cell_type": "code",
      "source": [
        "from google.colab import drive\n",
        "drive.mount('/content/drive')"
      ],
      "metadata": {
        "colab": {
          "base_uri": "https://localhost:8080/"
        },
        "id": "FyS01C5Ss403",
        "outputId": "3a83147e-f2c8-4cec-bd45-021ddcf3a9b3"
      },
      "execution_count": 2,
      "outputs": [
        {
          "output_type": "stream",
          "name": "stdout",
          "text": [
            "Mounted at /content/drive\n"
          ]
        }
      ]
    },
    {
      "cell_type": "markdown",
      "source": [
        "## Cumulative Incidence Function (CIF) for risks\n",
        "\n",
        "To manually calculate the **Cumulative Incidence Function (CIF)** for a competing risk (such as death from cancer or other causes) step by step in R, we will use a synthetic dataset similar to the **Melanoma** dataset from the `{MASS}` package. This dataset will include event types, competing events, and survival times. The CIF will be computed for one specific event type, adjusting for competing risks.\n",
        "\n",
        "*  **Generate Synthetic Data** similar to the Melanoma dataset\n",
        "\n",
        "*  **Create Time Intervals** for survival analysis.\n",
        "\n",
        "* **Calculate the CIF** for a specific event type (e.g., death from cancer) by following the step-by-step manual calculation approach.\n"
      ],
      "metadata": {
        "id": "oWvzV0hEOPlQ"
      }
    },
    {
      "cell_type": "markdown",
      "source": [
        "### Create a dataset\n",
        "\n",
        "We'll create a dataset with survival times, event types, and some covariates (such as age and treatment) to simulate a competing risks scenario."
      ],
      "metadata": {
        "id": "zGi9IAfXOjCM"
      }
    },
    {
      "cell_type": "code",
      "source": [
        "%%R\n",
        "# Step 1: Create synthetic data\n",
        "set.seed(123)\n",
        "n <- 100  # number of individuals\n",
        "\n",
        "# Generate random survival times (in years) and event types\n",
        "time <- rexp(n, rate = 0.1)  # Survival time generated from exponential distribution\n",
        "event_type <- sample(c(1, 2, 0), n, replace = TRUE, prob = c(0.4, 0.3, 0.3))\n",
        "# event_type: 1 = death from cancer, 2 = death from other cause, 0 = censored\n",
        "\n",
        "# Covariates: Age and treatment group (synthetic)\n",
        "age <- sample(40:80, n, replace = TRUE)\n",
        "treatment <- sample(c(0, 1), n, replace = TRUE)\n",
        "\n",
        "# Create a data frame\n",
        "data <- data.frame(id = 1:n, time = time, event_type = event_type, age = age, treatment = treatment)\n",
        "\n",
        "# Display the first few rows\n",
        "head(data)"
      ],
      "metadata": {
        "colab": {
          "base_uri": "https://localhost:8080/"
        },
        "id": "p3lab5MSOlp-",
        "outputId": "8577a29e-eb85-470c-d86b-0695a85f1d30"
      },
      "execution_count": null,
      "outputs": [
        {
          "output_type": "stream",
          "name": "stdout",
          "text": [
            "  id       time event_type age treatment\n",
            "1  1  8.4345726          2  49         0\n",
            "2  2  5.7661027          2  52         0\n",
            "3  3 13.2905487          0  50         0\n",
            "4  4  0.3157736          0  64         0\n",
            "5  5  0.5621098          1  65         0\n",
            "6  6  3.1650122          0  46         1\n"
          ]
        }
      ]
    },
    {
      "cell_type": "markdown",
      "source": [
        "This dataset has:\n",
        "\n",
        "-   `time`: Time to event (cancer death, other cause of death, or censored),\n",
        "\n",
        "-   `event_type`: Type of event (1 = death from cancer, 2 = death from other causes, 0 = censored),\n",
        "\n",
        "-   `age`: Age of the individual,\n",
        "\n",
        "-   `treatment`: Treatment group (0 = no treatment, 1 = treatment)."
      ],
      "metadata": {
        "id": "5Bb7l3UPOwwV"
      }
    },
    {
      "cell_type": "markdown",
      "source": [
        "### Create Time Intervals\n",
        "\n",
        "We divide the survival times into intervals for calculating the cumulative incidence over time."
      ],
      "metadata": {
        "id": "2B0X9kDsOyhQ"
      }
    },
    {
      "cell_type": "code",
      "source": [
        "%%R\n",
        "# Step 2: Define time intervals\n",
        "time_intervals <- seq(0, max(data$time), by = 1)  # Time intervals from 0 to max time"
      ],
      "metadata": {
        "id": "kD-_pEyTO24F"
      },
      "execution_count": null,
      "outputs": []
    },
    {
      "cell_type": "markdown",
      "source": [
        "### Calculate the Cumulative Incidence Function (CIF)\n",
        "\n",
        "We calculate the CIF for **event type 1** (e.g., death from cancer), adjusting for competing events (event type 2, e.g., death from other causes). Here’s the step-by-step manual calculation of the CIF:\n",
        "\n",
        "CIF calculation steps:\n",
        "\n",
        "-   **At-Risk Set**: Count the number of individuals at risk at the beginning of each time interval.\n",
        "\n",
        "-   **Event Occurrences**: Count the number of individuals experiencing the event of interest (event type 1) and competing events (event type 2) in each interval.\n",
        "\n",
        "-   **Subdistribution Hazard**: Calculate the hazard for event type 1 in each interval.\n",
        "\n",
        "-   **Cumulative Incidence**: Sum the hazards over time to estimate the cumulative incidence of the event of interest."
      ],
      "metadata": {
        "id": "xBXY9QvxPBZF"
      }
    },
    {
      "cell_type": "code",
      "source": [
        "%%R\n",
        "# event 1\n",
        "# Step 3: Initialize variables for CIF calculation\n",
        "cif_event1 <- numeric(length(time_intervals))  # Vector to store cumulative incidence\n",
        "at_risk <- numeric(length(time_intervals))  # Number of individuals at risk\n",
        "\n",
        "# Step 4: Calculate CIF for each time interval\n",
        "for (i in 2:length(time_intervals)) {\n",
        "  # Individuals at risk at the start of the interval\n",
        "  at_risk[i - 1] <- sum(data$time >= time_intervals[i - 1])\n",
        "\n",
        "  # Number of events of interest (event_type = 1) in this interval\n",
        "  event1_in_interval <- sum(data$time < time_intervals[i] & data$event_type == 1 & data$time >= time_intervals[i - 1])\n",
        "\n",
        "  # Number of competing events (event_type = 2) in this interval\n",
        "  competing_in_interval <- sum(data$time < time_intervals[i] & data$event_type == 2 & data$time >= time_intervals[i - 1])\n",
        "\n",
        "  # Subdistribution hazard for event_type 1 (event of interest)\n",
        "  hazard_event1 <- if (at_risk[i - 1] > 0) event1_in_interval / at_risk[i - 1] else 0\n",
        "\n",
        "  # Update CIF by adding the new hazard * (1 - previous CIF)\n",
        "  cif_event1[i] <- cif_event1[i - 1] + hazard_event1 * (1 - cif_event1[i - 1])\n",
        "}\n",
        "\n",
        "# Display the time intervals, number at risk, and CIF for cancer death (event_type = 1)\n",
        "data.frame(time_intervals, at_risk, cif_event1)"
      ],
      "metadata": {
        "colab": {
          "base_uri": "https://localhost:8080/"
        },
        "id": "itRGFuqpPLMw",
        "outputId": "314ea959-e0c6-40f7-dd3a-e2270e520bdc"
      },
      "execution_count": null,
      "outputs": [
        {
          "output_type": "stream",
          "name": "stdout",
          "text": [
            "   time_intervals at_risk cif_event1\n",
            "1               0     100  0.0000000\n",
            "2               1      89  0.0600000\n",
            "3               2      87  0.0705618\n",
            "4               3      77  0.1026114\n",
            "5               4      70  0.1375746\n",
            "6               5      65  0.1745357\n",
            "7               6      57  0.1872351\n",
            "8               7      54  0.2300122\n",
            "9               8      53  0.2442713\n",
            "10              9      49  0.2585303\n",
            "11             10      45  0.2585303\n",
            "12             11      40  0.2750074\n",
            "13             12      34  0.3293818\n",
            "14             13      31  0.3688300\n",
            "15             14      27  0.3688300\n",
            "16             15      23  0.3922066\n",
            "17             16      17  0.4186324\n",
            "18             17      14  0.4528305\n",
            "19             18      13  0.4528305\n",
            "20             19      10  0.4949205\n",
            "21             20      10  0.4949205\n",
            "22             21      10  0.4949205\n",
            "23             22       9  0.4949205\n",
            "24             23       8  0.4949205\n",
            "25             24       8  0.4949205\n",
            "26             25       8  0.4949205\n",
            "27             26       5  0.5580554\n",
            "28             27       5  0.5580554\n",
            "29             28       3  0.6464443\n",
            "30             29       3  0.6464443\n",
            "31             30       3  0.6464443\n",
            "32             31       3  0.6464443\n",
            "33             32       3  0.6464443\n",
            "34             33       3  0.6464443\n",
            "35             34       3  0.6464443\n",
            "36             35       3  0.6464443\n",
            "37             36       3  0.6464443\n",
            "38             37       3  0.6464443\n",
            "39             38       3  0.6464443\n",
            "40             39       3  0.6464443\n",
            "41             40       3  0.6464443\n",
            "42             41       2  0.7642962\n",
            "43             42       2  0.7642962\n",
            "44             43       2  0.7642962\n",
            "45             44       2  0.7642962\n",
            "46             45       1  0.7642962\n",
            "47             46       1  0.7642962\n",
            "48             47       1  0.7642962\n",
            "49             48       1  0.7642962\n",
            "50             49       1  0.7642962\n",
            "51             50       1  0.7642962\n",
            "52             51       1  0.7642962\n",
            "53             52       1  0.7642962\n",
            "54             53       1  0.7642962\n",
            "55             54       1  0.7642962\n",
            "56             55       1  0.7642962\n",
            "57             56       1  0.7642962\n",
            "58             57       1  0.7642962\n",
            "59             58       1  0.7642962\n",
            "60             59       1  0.7642962\n",
            "61             60       1  0.7642962\n",
            "62             61       1  0.7642962\n",
            "63             62       1  0.7642962\n",
            "64             63       1  0.7642962\n",
            "65             64       1  0.7642962\n",
            "66             65       1  0.7642962\n",
            "67             66       1  0.7642962\n",
            "68             67       1  0.7642962\n",
            "69             68       1  0.7642962\n",
            "70             69       1  0.7642962\n",
            "71             70       1  0.7642962\n",
            "72             71       1  0.7642962\n",
            "73             72       0  0.7642962\n"
          ]
        }
      ]
    },
    {
      "cell_type": "code",
      "source": [
        "%%R\n",
        "# event 2\n",
        "# Initialize variables for CIF calculation for event type 2\n",
        "cif_event2 <- numeric(length(time_intervals))  # Vector to store cumulative incidence for event 2\n",
        "\n",
        "# Calculate CIF for event type 2 (death from other causes)\n",
        "for (i in 2:length(time_intervals)) {\n",
        "  # Number of individuals at risk at the start of the interval\n",
        "  at_risk[i - 1] <- sum(data$time >= time_intervals[i - 1])\n",
        "\n",
        "  # Number of events of interest (event_type = 1) in this interval\n",
        "  event2_in_interval <- sum(data$time < time_intervals[i] & data$event_type == 2 & data$time >= time_intervals[i - 1])\n",
        "\n",
        "  # Subdistribution hazard for event_type 2 (competing event)\n",
        "  hazard_event2 <- if (at_risk[i - 1] > 0) event2_in_interval / at_risk[i - 1] else 0\n",
        "\n",
        "  # Update CIF for event type 2\n",
        "  cif_event2[i] <- cif_event2[i - 1] + hazard_event2 * (1 - cif_event2[i - 1])\n",
        "}\n",
        "\n",
        "# Display CIF for both event types\n",
        "data.frame(time_intervals, cif_event1, cif_event2)"
      ],
      "metadata": {
        "colab": {
          "base_uri": "https://localhost:8080/"
        },
        "id": "cPfEZwy_PUNq",
        "outputId": "86264f0c-0217-4e91-c6e0-6ee88b637b6b"
      },
      "execution_count": null,
      "outputs": [
        {
          "output_type": "stream",
          "name": "stdout",
          "text": [
            "   time_intervals cif_event1 cif_event2\n",
            "1               0  0.0000000 0.00000000\n",
            "2               1  0.0600000 0.03000000\n",
            "3               2  0.0705618 0.03000000\n",
            "4               3  0.1026114 0.07459770\n",
            "5               4  0.1375746 0.08661591\n",
            "6               5  0.1745357 0.11271260\n",
            "7               6  0.1872351 0.15366433\n",
            "8               7  0.2300122 0.15366433\n",
            "9               8  0.2442713 0.15366433\n",
            "10              9  0.2585303 0.18560152\n",
            "11             10  0.2585303 0.18560152\n",
            "12             11  0.2750074 0.20369927\n",
            "13             12  0.3293818 0.22360678\n",
            "14             13  0.3688300 0.24644188\n",
            "15             14  0.3688300 0.29505853\n",
            "16             15  0.3922066 0.34727642\n",
            "17             16  0.4186324 0.43241428\n",
            "18             17  0.4528305 0.43241428\n",
            "19             18  0.4528305 0.43241428\n",
            "20             19  0.4949205 0.47607472\n",
            "21             20  0.4949205 0.47607472\n",
            "22             21  0.4949205 0.47607472\n",
            "23             22  0.4949205 0.47607472\n",
            "24             23  0.4949205 0.47607472\n",
            "25             24  0.4949205 0.47607472\n",
            "26             25  0.4949205 0.47607472\n",
            "27             26  0.5580554 0.60705604\n",
            "28             27  0.5580554 0.60705604\n",
            "29             28  0.6464443 0.68564483\n",
            "30             29  0.6464443 0.68564483\n",
            "31             30  0.6464443 0.68564483\n",
            "32             31  0.6464443 0.68564483\n",
            "33             32  0.6464443 0.68564483\n",
            "34             33  0.6464443 0.68564483\n",
            "35             34  0.6464443 0.68564483\n",
            "36             35  0.6464443 0.68564483\n",
            "37             36  0.6464443 0.68564483\n",
            "38             37  0.6464443 0.68564483\n",
            "39             38  0.6464443 0.68564483\n",
            "40             39  0.6464443 0.68564483\n",
            "41             40  0.6464443 0.68564483\n",
            "42             41  0.7642962 0.68564483\n",
            "43             42  0.7642962 0.68564483\n",
            "44             43  0.7642962 0.68564483\n",
            "45             44  0.7642962 0.68564483\n",
            "46             45  0.7642962 0.68564483\n",
            "47             46  0.7642962 0.68564483\n",
            "48             47  0.7642962 0.68564483\n",
            "49             48  0.7642962 0.68564483\n",
            "50             49  0.7642962 0.68564483\n",
            "51             50  0.7642962 0.68564483\n",
            "52             51  0.7642962 0.68564483\n",
            "53             52  0.7642962 0.68564483\n",
            "54             53  0.7642962 0.68564483\n",
            "55             54  0.7642962 0.68564483\n",
            "56             55  0.7642962 0.68564483\n",
            "57             56  0.7642962 0.68564483\n",
            "58             57  0.7642962 0.68564483\n",
            "59             58  0.7642962 0.68564483\n",
            "60             59  0.7642962 0.68564483\n",
            "61             60  0.7642962 0.68564483\n",
            "62             61  0.7642962 0.68564483\n",
            "63             62  0.7642962 0.68564483\n",
            "64             63  0.7642962 0.68564483\n",
            "65             64  0.7642962 0.68564483\n",
            "66             65  0.7642962 0.68564483\n",
            "67             66  0.7642962 0.68564483\n",
            "68             67  0.7642962 0.68564483\n",
            "69             68  0.7642962 0.68564483\n",
            "70             69  0.7642962 0.68564483\n",
            "71             70  0.7642962 0.68564483\n",
            "72             71  0.7642962 0.68564483\n",
            "73             72  0.7642962 0.68564483\n"
          ]
        }
      ]
    },
    {
      "cell_type": "markdown",
      "source": [],
      "metadata": {
        "id": "EpKVP6KmP4lA"
      }
    },
    {
      "cell_type": "markdown",
      "source": [
        "### Plot the Cumulative Incidence Function (CIF)\n",
        "\n",
        "Now that we have the cumulative incidence for each time interval, we can plot the CIF for death from cancer."
      ],
      "metadata": {
        "id": "AbbMapz4P4oi"
      }
    },
    {
      "cell_type": "code",
      "source": [
        "%%R -h 500 -w 700 -u px\n",
        "# Plot the CIF for event type 1 (death from cancer)\n",
        "# Plot CIF for event type 1 (cancer death)\n",
        "plot(time_intervals, cif_event1, type = \"l\", col = \"blue\", lwd = 2,\n",
        "     ylab = \"Cumulative Incidence\", xlab = \"Time\",\n",
        "     main = \"CIF for Cancer Death (Event Type 1)\")"
      ],
      "metadata": {
        "colab": {
          "base_uri": "https://localhost:8080/",
          "height": 517
        },
        "id": "isQJG7d_P5dr",
        "outputId": "33a466a6-77c4-4de9-fff3-e68a3ae40a36"
      },
      "execution_count": null,
      "outputs": [
        {
          "output_type": "display_data",
          "data": {
            "image/png": "[encoded data removed]"
          },
          "metadata": {}
        }
      ]
    },
    {
      "cell_type": "markdown",
      "source": [
        "his plot shows how the cumulative incidence of death from cancer (event type 1) increases over time, taking into account competing risks (event type 2, death from other causes)."
      ],
      "metadata": {
        "id": "s7g2DAc3QJDn"
      }
    },
    {
      "cell_type": "code",
      "source": [
        "%%R -h 500 -w 700 -u px\n",
        "plot(time_intervals, cif_event1, type = \"l\", col = \"blue\", lwd = 2,\n",
        "     ylab = \"Cumulative Incidence\", xlab = \"Time\",\n",
        "     main = \"CIF for Cancer Death and Other Causes\",\n",
        "     ylim = c(0, max(cif_event1, cif_event2)))\n",
        "lines(time_intervals, cif_event2, col = \"red\", lwd = 2)\n",
        "\n",
        "# Add a legend\n",
        "legend(\"topright\", legend = c(\"Cancer Death (Event Type 1)\", \"Other Causes (Event Type 2)\"),\n",
        "       col = c(\"blue\", \"red\"), lwd = 2)"
      ],
      "metadata": {
        "colab": {
          "base_uri": "https://localhost:8080/",
          "height": 517
        },
        "id": "76blYt95QOLd",
        "outputId": "a1511506-9ce6-4438-fa9d-1a3b98a24335"
      },
      "execution_count": null,
      "outputs": [
        {
          "output_type": "display_data",
          "data": {
            "image/png": "[encoded data removed]"
          },
          "metadata": {}
        }
      ]
    },
    {
      "cell_type": "markdown",
      "source": [
        "## Fit a Risk Regression (subdistribution hazard)\n",
        "\n",
        "Let's walk through the step-by-step manual estimation of the **subdistribution hazard** using a synthetic dataset similar to the Melanoma data from the `{MASS}` package in R. We won't use any special package for **Fine-Gray regression** or for calculating **subdistribution hazards,** but instead, we will manually create the steps to estimate the **Cumulative Incidence Function (CIF)** and the **subdistribution hazard**.\n",
        "\n",
        "*  **Competing Risks**: One event of interest (e.g., death from cancer) and a competing event (e.g., death from another cause).\n",
        "\n",
        "*  **Estimate the CIF** for the event of interest by using the subdistribution approach.\n",
        "\n",
        "*  **Estimate the Subdistribution Hazard** using the synthetic data.\n",
        "\n",
        "*  **Compare CIF and Subdistribution Hazard values across time intervals**."
      ],
      "metadata": {
        "id": "gY4wG3pzQXhx"
      }
    },
    {
      "cell_type": "markdown",
      "source": [
        "### Competing Risks\n",
        "\n",
        "We will now define the events of interest and the competing events:\n",
        "\n",
        "-   **Event of interest**: `event_type = 1` (death from cancer).\n",
        "-   **Competing event**: `event_type = 2` (death from other causes)."
      ],
      "metadata": {
        "id": "PZeTkSTdVq23"
      }
    },
    {
      "cell_type": "markdown",
      "source": [
        "### Estimate the Cumulative Incidence Function (CIF)\n",
        "\n",
        "For each event type (cause 1 and cause 2), we will estimate the **Cumulative Incidence Function (CIF)**. The CIF gives the cumulative probability of the event happening by a certain time, accounting for competing risks.\n"
      ],
      "metadata": {
        "id": "L3jxVsnAQflv"
      }
    },
    {
      "cell_type": "markdown",
      "source": [
        "\n",
        "\n",
        "Here’s a step-by-step estimation for the **CIF** for event type 1 (cancer death)"
      ],
      "metadata": {
        "id": "_XnqNl--QmPp"
      }
    },
    {
      "cell_type": "code",
      "source": [],
      "metadata": {
        "id": "0d1P85etQrFS"
      },
      "execution_count": null,
      "outputs": []
    },
    {
      "cell_type": "code",
      "source": [
        "%%R\n",
        "# Step 3: Create a function to calculate the CIF for event_type 1 (cancer death)\n",
        "\n",
        "# Define time intervals\n",
        "time_intervals <- seq(0, max(data$time), by = 1)  # Time intervals from 0 to max time\n",
        "\n",
        "# Initialize CIF vector\n",
        "cif_event1 <- numeric(length(time_intervals))\n",
        "\n",
        "# Calculate risk set and CIF for event type 1\n",
        "for (i in 2:length(time_intervals)) {\n",
        "  # Individuals at risk at the start of the interval\n",
        "  at_risk <- sum(data$time >= time_intervals[i - 1])\n",
        "\n",
        "  # Number of events (event_type = 1) occurring in this interval\n",
        "  event1_in_interval <- sum(data$time < time_intervals[i] & data$event_type == 1 & data$time >= time_intervals[i - 1])\n",
        "\n",
        "  # Number of competing events (event_type = 2) occurring in this interval\n",
        "  competing_in_interval <- sum(data$time < time_intervals[i] & data$event_type == 2 & data$time >= time_intervals[i - 1])\n",
        "\n",
        "  # Estimate of subdistribution hazard for event type 1\n",
        "  hazard_event1 <- event1_in_interval / at_risk\n",
        "\n",
        "  # Update CIF (CIF is cumulative sum of the subdistribution hazards)\n",
        "  cif_event1[i] <- cif_event1[i - 1] + hazard_event1 * (1 - cif_event1[i - 1])\n",
        "}\n",
        "\n",
        "# Display the CIF for cancer death (event_type = 1)\n",
        "data.frame(time_intervals, cif_event1)\n",
        "\n"
      ],
      "metadata": {
        "colab": {
          "base_uri": "https://localhost:8080/"
        },
        "id": "R51XuSLKQrGy",
        "outputId": "6a604b17-7f60-4aa5-e9cb-572bde5c571b"
      },
      "execution_count": null,
      "outputs": [
        {
          "output_type": "stream",
          "name": "stdout",
          "text": [
            "   time_intervals cif_event1\n",
            "1               0  0.0000000\n",
            "2               1  0.0600000\n",
            "3               2  0.0705618\n",
            "4               3  0.1026114\n",
            "5               4  0.1375746\n",
            "6               5  0.1745357\n",
            "7               6  0.1872351\n",
            "8               7  0.2300122\n",
            "9               8  0.2442713\n",
            "10              9  0.2585303\n",
            "11             10  0.2585303\n",
            "12             11  0.2750074\n",
            "13             12  0.3293818\n",
            "14             13  0.3688300\n",
            "15             14  0.3688300\n",
            "16             15  0.3922066\n",
            "17             16  0.4186324\n",
            "18             17  0.4528305\n",
            "19             18  0.4528305\n",
            "20             19  0.4949205\n",
            "21             20  0.4949205\n",
            "22             21  0.4949205\n",
            "23             22  0.4949205\n",
            "24             23  0.4949205\n",
            "25             24  0.4949205\n",
            "26             25  0.4949205\n",
            "27             26  0.5580554\n",
            "28             27  0.5580554\n",
            "29             28  0.6464443\n",
            "30             29  0.6464443\n",
            "31             30  0.6464443\n",
            "32             31  0.6464443\n",
            "33             32  0.6464443\n",
            "34             33  0.6464443\n",
            "35             34  0.6464443\n",
            "36             35  0.6464443\n",
            "37             36  0.6464443\n",
            "38             37  0.6464443\n",
            "39             38  0.6464443\n",
            "40             39  0.6464443\n",
            "41             40  0.6464443\n",
            "42             41  0.7642962\n",
            "43             42  0.7642962\n",
            "44             43  0.7642962\n",
            "45             44  0.7642962\n",
            "46             45  0.7642962\n",
            "47             46  0.7642962\n",
            "48             47  0.7642962\n",
            "49             48  0.7642962\n",
            "50             49  0.7642962\n",
            "51             50  0.7642962\n",
            "52             51  0.7642962\n",
            "53             52  0.7642962\n",
            "54             53  0.7642962\n",
            "55             54  0.7642962\n",
            "56             55  0.7642962\n",
            "57             56  0.7642962\n",
            "58             57  0.7642962\n",
            "59             58  0.7642962\n",
            "60             59  0.7642962\n",
            "61             60  0.7642962\n",
            "62             61  0.7642962\n",
            "63             62  0.7642962\n",
            "64             63  0.7642962\n",
            "65             64  0.7642962\n",
            "66             65  0.7642962\n",
            "67             66  0.7642962\n",
            "68             67  0.7642962\n",
            "69             68  0.7642962\n",
            "70             69  0.7642962\n",
            "71             70  0.7642962\n",
            "72             71  0.7642962\n",
            "73             72  0.7642962\n"
          ]
        }
      ]
    },
    {
      "cell_type": "markdown",
      "source": [
        "This code calculates the **CIF** for event type 1 (death from cancer) across time intervals by adjusting for the competing risk of other causes of death (event type 2). The key component is that we are keeping track of individuals who are still at risk or who have experienced competing events."
      ],
      "metadata": {
        "id": "xFJHRCN5QvWE"
      }
    },
    {
      "cell_type": "markdown",
      "source": [
        "### Estimate the Subdistribution Hazard\n",
        "\n",
        "The **subdistribution hazard** function is essentially the rate of the event of interest (in this case, death from cancer) occurring, while accounting for individuals who have experienced competing events.\n",
        "\n",
        "To estimate the **subdistribution hazard** for event type 1 (cancer death), we use the risk set and competing event data:"
      ],
      "metadata": {
        "id": "iNDaJELhQxFS"
      }
    },
    {
      "cell_type": "code",
      "source": [
        "%%R\n",
        "# Step 4: Estimate Subdistribution Hazard\n",
        "\n",
        "# Initialize subdistribution hazard vector\n",
        "subhazard_event1 <- numeric(length(time_intervals))\n",
        "\n",
        "for (i in 2:length(time_intervals)) {\n",
        "  # Risk set: All individuals who have not yet had an event or have experienced a competing event\n",
        "  risk_set <- sum(data$time >= time_intervals[i - 1] | (data$time < time_intervals[i] & data$event_type == 2))\n",
        "\n",
        "  # Number of events (event_type = 1) occurring in this interval\n",
        "  event1_in_interval <- sum(data$time < time_intervals[i] & data$event_type == 1 & data$time >= time_intervals[i - 1])\n",
        "\n",
        "  # Subdistribution hazard for event type 1\n",
        "  subhazard_event1[i] <- event1_in_interval / risk_set\n",
        "}\n",
        "\n",
        "# Display the subdistribution hazard\n",
        "data.frame(time_intervals, subhazard_event1)"
      ],
      "metadata": {
        "colab": {
          "base_uri": "https://localhost:8080/"
        },
        "id": "i2WJJat9Q2Y8",
        "outputId": "b089f309-9a61-4091-a4c5-e5af93532f36"
      },
      "execution_count": null,
      "outputs": [
        {
          "output_type": "stream",
          "name": "stdout",
          "text": [
            "   time_intervals subhazard_event1\n",
            "1               0       0.00000000\n",
            "2               1       0.06000000\n",
            "3               2       0.01086957\n",
            "4               3       0.03333333\n",
            "5               4       0.03571429\n",
            "6               5       0.03846154\n",
            "7               6       0.01333333\n",
            "8               7       0.04285714\n",
            "9               8       0.01492537\n",
            "10              9       0.01515152\n",
            "11             10       0.00000000\n",
            "12             11       0.01666667\n",
            "13             12       0.05357143\n",
            "14             13       0.03921569\n",
            "15             14       0.00000000\n",
            "16             15       0.02127660\n",
            "17             16       0.02222222\n",
            "18             17       0.02380952\n",
            "19             18       0.00000000\n",
            "20             19       0.02631579\n",
            "21             20       0.00000000\n",
            "22             21       0.00000000\n",
            "23             22       0.00000000\n",
            "24             23       0.00000000\n",
            "25             24       0.00000000\n",
            "26             25       0.00000000\n",
            "27             26       0.02941176\n",
            "28             27       0.00000000\n",
            "29             28       0.03030303\n",
            "30             29       0.00000000\n",
            "31             30       0.00000000\n",
            "32             31       0.00000000\n",
            "33             32       0.00000000\n",
            "34             33       0.00000000\n",
            "35             34       0.00000000\n",
            "36             35       0.00000000\n",
            "37             36       0.00000000\n",
            "38             37       0.00000000\n",
            "39             38       0.00000000\n",
            "40             39       0.00000000\n",
            "41             40       0.00000000\n",
            "42             41       0.03125000\n",
            "43             42       0.00000000\n",
            "44             43       0.00000000\n",
            "45             44       0.00000000\n",
            "46             45       0.00000000\n",
            "47             46       0.00000000\n",
            "48             47       0.00000000\n",
            "49             48       0.00000000\n",
            "50             49       0.00000000\n",
            "51             50       0.00000000\n",
            "52             51       0.00000000\n",
            "53             52       0.00000000\n",
            "54             53       0.00000000\n",
            "55             54       0.00000000\n",
            "56             55       0.00000000\n",
            "57             56       0.00000000\n",
            "58             57       0.00000000\n",
            "59             58       0.00000000\n",
            "60             59       0.00000000\n",
            "61             60       0.00000000\n",
            "62             61       0.00000000\n",
            "63             62       0.00000000\n",
            "64             63       0.00000000\n",
            "65             64       0.00000000\n",
            "66             65       0.00000000\n",
            "67             66       0.00000000\n",
            "68             67       0.00000000\n",
            "69             68       0.00000000\n",
            "70             69       0.00000000\n",
            "71             70       0.00000000\n",
            "72             71       0.00000000\n",
            "73             72       0.00000000\n"
          ]
        }
      ]
    },
    {
      "cell_type": "markdown",
      "source": [
        "This code calculates the subdistribution hazard for event type 1 (death from cancer), using the adjusted risk set that includes individuals who have experienced competing events."
      ],
      "metadata": {
        "id": "Say3vfYnQ855"
      }
    },
    {
      "cell_type": "markdown",
      "source": [
        "### Compare CIF and Subdistribution Hazard\n",
        "\n",
        "We can now plot the **CIF** and **subdistribution hazard** over time to compare them:"
      ],
      "metadata": {
        "id": "MAM3kATMQ94W"
      }
    },
    {
      "cell_type": "code",
      "source": [
        "%%R -h 500 -w 700 -u px\n",
        "plot_data <- data.frame(time_intervals, cif_event1, subhazard_event1)\n",
        "\n",
        "# Plot CIF and Subdistribution Hazard\n",
        "plot(plot_data$time_intervals, plot_data$cif_event1, type = \"l\", col = \"blue\", lwd = 2,\n",
        "     ylab = \"Cumulative Incidence / Subdistribution Hazard\", xlab = \"Time\",\n",
        "     main = \"CIF and Subdistribution Hazard for Cancer Death\")\n",
        "lines(plot_data$time_intervals, plot_data$subhazard_event1, col = \"red\", lwd = 2)\n",
        "\n",
        "legend(\"topright\", legend = c(\"CIF (Event 1)\", \"Subdistribution Hazard (Event 1)\"),\n",
        "       col = c(\"blue\", \"red\"), lwd = 2)"
      ],
      "metadata": {
        "colab": {
          "base_uri": "https://localhost:8080/",
          "height": 517
        },
        "id": "NrarIjuEQwTO",
        "outputId": "ee497db5-2ba1-4adc-aa65-d933cbad5d1a"
      },
      "execution_count": null,
      "outputs": [
        {
          "output_type": "display_data",
          "data": {
            "image/png": "[encoded data removed]"
          },
          "metadata": {}
        }
      ]
    },
    {
      "cell_type": "markdown",
      "source": [
        "This plot will show the **Cumulative Incidence Function (CIF)** and the **subdistribution hazard** for event type 1 (death from cancer) over time. The blue line represents the CIF, while the red line represents the subdistribution hazard.\n",
        "\n",
        "This manual process provides an understanding of how the CIF and subdistribution hazard are calculated and used in competing risks analysis.\n"
      ],
      "metadata": {
        "id": "WdHp1RUjRJU-"
      }
    },
    {
      "cell_type": "markdown",
      "source": [
        "## Risk Regression with R\n",
        "\n",
        "Risk regression is commonly used in survival analysis, particularly in the presence of competing risks, to model the relationship between covariates and the cause-specific hazards or subdistribution hazards. There are several R packages that provide functionalities for risk regression, especially for competing risks and time-to-event data.\n",
        "\n",
        "Here are some of the key R packages for risk regression:\n",
        "\n",
        "[{riskRegression}](https://cran.r-project.org/web/packages/riskRegression/index.html): This package provides tools to compute risk regression models for time-to-event outcomes, including survival analysis and competing risks. It includes models for cause-specific hazards, subdistribution hazards (Fine-Gray model), and Cox proportional hazards regression.\n",
        "\n",
        "[{cmprsk}](https://cran.r-project.org/web/packages/cmprsk/index.html),: This package is widely used for performing competing risks regression analysis using the Fine-Gray model (subdistribution hazard). It also provides functions for cumulative incidence estimation and testing.\n",
        "\n",
        "[{tidycmprsk}](https://mskcc-epi-bio.github.io/tidycmprsk/): The package wraps the {cmprsk} package, and exports functions for univariate cumulative incidence estimates with `cuminc()` and competing risk regression with `crr()`\n",
        "\n",
        "[{timereg}](https://cran.r-project.org/web/packages/timereg/index.html): This package provides methods for parametric and semi-parametric regression models, including models for survival data with competing risks. It supports cumulative incidence models, Cox regression, and additive hazards models.\n",
        "\n",
        "Some Common Packages and their Use-Cases:\n",
        "\n",
        "Some Common Packages and their Use-Cases:\n",
        "\n",
        "| **Package** | **Purpose** | **Main Functions** |\n",
        "|----------------|-------------------------------|-------------------------|\n",
        "| {riskRegression} | Risk regression models for competing risks and survival | `FGR()`, `CSC()`, `predictRisk()`, `Score()` |\n",
        "| {cmprsk} | Competing risks analysis, Fine-Gray model | `crr()`, `cuminc()`, `survfit()` |\n",
        "| {survival} | General survival analysis, cause-specific hazard models | `coxph()`, `Surv()`, `survfit()` |\n",
        "| {timereg} | Flexible time regression models, additive models | `comp.risk()`, `cif()`, `addreg()` |\n",
        "| {tidycmprsk}  | Estimation of CIF and risk regression | `cuminc()`, `crr()` |\n",
        "\n",
        "\n",
        "These packages provide a wide array of tools for analyzing competing risks and risk regression, allowing researchers to estimate hazards, cumulative incidence functions, and make predictions."
      ],
      "metadata": {
        "id": "GSMWOeg6Qb5b"
      }
    },
    {
      "cell_type": "markdown",
      "source": [
        "### Install Required R Packages"
      ],
      "metadata": {
        "id": "lpgHdHAbWq17"
      }
    },
    {
      "cell_type": "code",
      "source": [
        "%%R\n",
        "packages <-c(\n",
        "\t\t 'tidyverse',\n",
        "\t\t 'survival',\n",
        "\t\t 'survminer',\n",
        "\t\t 'ggsurvfit',\n",
        "\t\t 'tidycmprsk',\n",
        "\t\t 'ggfortify',\n",
        "\t\t 'timereg',\n",
        "\t\t 'cmprsk',\n",
        "\t\t 'condsurv',\n",
        "\t\t 'riskRegression',\n",
        "\t\t 'prodlim',\n",
        "\t\t 'lava',\n",
        "\t\t 'mstate',\n",
        "\t\t 'regplot',\n",
        "\t\t 'cmprskcoxmsm'\n",
        "\t\t )"
      ],
      "metadata": {
        "id": "coBSOMhzWv5m"
      },
      "execution_count": 3,
      "outputs": []
    },
    {
      "cell_type": "code",
      "source": [
        "%%R\n",
        "# Install missing packages\n",
        "new.packages <- packages[!(packages %in% installed.packages(lib='drive/My Drive/R/')[,\"Package\"])]\n",
        "if(length(new.packages)) install.packages(new.packages, lib='drive/My Drive/R/')"
      ],
      "metadata": {
        "id": "FefIEmIHW4J0"
      },
      "execution_count": null,
      "outputs": []
    },
    {
      "cell_type": "code",
      "source": [
        "%%R\n",
        "# set library path\n",
        ".libPaths('drive/My Drive/R')\n",
        "# Verify installation\n",
        "cat(\"Installed packages:\\n\")\n",
        "print(sapply(packages, requireNamespace, quietly = TRUE))"
      ],
      "metadata": {
        "colab": {
          "base_uri": "https://localhost:8080/"
        },
        "id": "R8gXyz-uW4V1",
        "outputId": "f4f1344c-cbe2-443e-b17e-7e098b7aa776"
      },
      "execution_count": 5,
      "outputs": [
        {
          "output_type": "stream",
          "name": "stdout",
          "text": [
            "Installed packages:\n"
          ]
        },
        {
          "output_type": "stream",
          "name": "stderr",
          "text": [
            "WARNING:rpy2.rinterface_lib.callbacks:R[write to console]: Registered S3 method overwritten by 'tidycmprsk':\n",
            "  method                    from     \n",
            "  global_pvalue_fun.tidycrr gtsummary\n",
            "\n"
          ]
        },
        {
          "output_type": "stream",
          "name": "stdout",
          "text": [
            "     tidyverse       survival      survminer      ggsurvfit     tidycmprsk \n",
            "          TRUE           TRUE           TRUE           TRUE           TRUE \n",
            "     ggfortify        timereg         cmprsk       condsurv riskRegression \n",
            "          TRUE           TRUE           TRUE           TRUE           TRUE \n",
            "       prodlim           lava         mstate        regplot   cmprskcoxmsm \n",
            "          TRUE           TRUE           TRUE           TRUE           TRUE \n"
          ]
        }
      ]
    },
    {
      "cell_type": "markdown",
      "source": [
        "### Load Packages"
      ],
      "metadata": {
        "id": "gEwQk2xCW-yT"
      }
    },
    {
      "cell_type": "code",
      "source": [
        "%%R\n",
        "# set library path\n",
        ".libPaths('drive/My Drive/R')\n",
        "# Load packages with suppressed messages\n",
        "invisible(lapply(packages, function(pkg) {\n",
        "  suppressPackageStartupMessages(library(pkg, character.only = TRUE))\n",
        "}))\n",
        "# Check loaded packages\n",
        "cat(\"Successfully loaded packages:\\n\")\n",
        "print(search()[grepl(\"package:\", search())])# Check loaded packages"
      ],
      "metadata": {
        "colab": {
          "base_uri": "https://localhost:8080/"
        },
        "id": "OC_ghM4PW-5t",
        "outputId": "2baebaff-4c9f-4a7b-8d14-afcc3df267b1"
      },
      "execution_count": 6,
      "outputs": [
        {
          "output_type": "stream",
          "name": "stdout",
          "text": [
            "Successfully loaded packages:\n",
            " [1] \"package:cmprskcoxmsm\"   \"package:regplot\"        \"package:mstate\"        \n",
            " [4] \"package:lava\"           \"package:prodlim\"        \"package:riskRegression\"\n",
            " [7] \"package:condsurv\"       \"package:cmprsk\"         \"package:timereg\"       \n",
            "[10] \"package:ggfortify\"      \"package:tidycmprsk\"     \"package:ggsurvfit\"     \n",
            "[13] \"package:survminer\"      \"package:ggpubr\"         \"package:survival\"      \n",
            "[16] \"package:lubridate\"      \"package:forcats\"        \"package:stringr\"       \n",
            "[19] \"package:dplyr\"          \"package:purrr\"          \"package:readr\"         \n",
            "[22] \"package:tidyr\"          \"package:tibble\"         \"package:ggplot2\"       \n",
            "[25] \"package:tidyverse\"      \"package:tools\"          \"package:stats\"         \n",
            "[28] \"package:graphics\"       \"package:grDevices\"      \"package:utils\"         \n",
            "[31] \"package:datasets\"       \"package:methods\"        \"package:base\"          \n"
          ]
        }
      ]
    },
    {
      "cell_type": "markdown",
      "source": [
        "### Risk Regression with {tidycmprsk} packages\n",
        "\n",
        "The `tidycmprsk` package is an excellent tool for performing competing risks analysis within a **tidyverse** framework. It builds on top of the `cmprsk` package and makes it easy to work with competing risks using tidy data principles.\n",
        "\n"
      ],
      "metadata": {
        "id": "J037bsDUVEjw"
      }
    },
    {
      "cell_type": "markdown",
      "source": [
        "#### Data\n",
        "\n",
        "We’ll use the **Melanoma** dataset from the `{MASS}` package to demonstrate how to perform risk analysis using the {tidycmprsk} package in R."
      ],
      "metadata": {
        "id": "x6IR0L4lWj4e"
      }
    },
    {
      "cell_type": "code",
      "source": [
        "%%R\n",
        "data(Melanoma, package = \"MASS\")\n",
        "glimpse(Melanoma)"
      ],
      "metadata": {
        "colab": {
          "base_uri": "https://localhost:8080/"
        },
        "id": "Pcp4WjrXL6bT",
        "outputId": "95bf7c04-3c80-4269-dd97-871e1be2c6f8"
      },
      "execution_count": null,
      "outputs": [
        {
          "output_type": "stream",
          "name": "stdout",
          "text": [
            "Rows: 205\n",
            "Columns: 7\n",
            "$ time      <int> 10, 30, 35, 99, 185, 204, 210, 232, 232, 279, 295, 355, 386,…\n",
            "$ status    <int> 3, 3, 2, 3, 1, 1, 1, 3, 1, 1, 1, 3, 1, 1, 1, 3, 1, 1, 1, 1, …\n",
            "$ sex       <int> 1, 1, 1, 0, 1, 1, 1, 0, 1, 0, 0, 0, 0, 1, 0, 1, 1, 1, 1, 1, …\n",
            "$ age       <int> 76, 56, 41, 71, 52, 28, 77, 60, 49, 68, 53, 64, 68, 63, 14, …\n",
            "$ year      <int> 1972, 1968, 1977, 1968, 1965, 1971, 1972, 1974, 1968, 1971, …\n",
            "$ thickness <dbl> 6.76, 0.65, 1.34, 2.90, 12.08, 4.84, 5.16, 3.22, 12.88, 7.41…\n",
            "$ ulcer     <int> 1, 0, 0, 0, 1, 1, 1, 1, 1, 1, 1, 1, 1, 1, 1, 1, 1, 1, 1, 1, …\n"
          ]
        }
      ]
    },
    {
      "cell_type": "markdown",
      "source": [
        "The dataset contains information such as:\n",
        "\n",
        "-   `time` survival time in days, possibly censored.\n",
        "\n",
        "-   `status` 1 died from melanoma, 2 alive, 3 dead from other causes\n",
        "\n",
        "-   `sex` 1 = male, 0 = female.\n",
        "\n",
        "-   `age` age in years.\n",
        "\n",
        "-   `year` of operation.\n",
        "\n",
        "-   `thickness` tumor thickness in mm.\n",
        "\n",
        "-   `ulcer` 1 = presence, 0 = absence.\n",
        "\n",
        "We need to preprocess the data to make it suitable for risk analysis with competing events (cancer death and death from other causes)."
      ],
      "metadata": {
        "id": "3FkPJMUIMJqz"
      }
    },
    {
      "cell_type": "code",
      "source": [
        "%%R\n",
        "# Create a competing risks event variable (event_type)\n",
        "# 0= censored, 1= death due to melanoma and 2= death due to other causes),\n",
        "Melanoma <-\n",
        "  Melanoma %>%\n",
        "  mutate(\n",
        "    status = as.factor(recode(status, `2` = 0, `1` = 1, `3` = 2))\n",
        "  )\n"
      ],
      "metadata": {
        "id": "-tc4EFJqNEw5"
      },
      "execution_count": null,
      "outputs": []
    },
    {
      "cell_type": "markdown",
      "source": [
        "#### Estimate Cumulative Incidence Functions (CIF)\n",
        "\n",
        "The **Cumulative Incidence Function (CIF)** estimates the probability of each event (cancer death or other causes) over time, accounting for competing risks. We’ll compute the CIF for each event type. Estimate the CIF in the context of competing risks using the `cuminc()` function from the {tidycmprsk} package. By default this requires the status to be a factor variable with censored patients coded as 0.\n",
        "\n",
        "Let’s examine the incidence of death from melanoma and other causes using the Melanoma dataset, specifically focusing on ulceration (`ulcer`) —whether it is present or absent."
      ],
      "metadata": {
        "id": "ocKqsEX-0uO1"
      }
    },
    {
      "cell_type": "code",
      "source": [
        "%%R\n",
        "# Estimate the cumulative incidence function (CIF)\n",
        "cif.fit<-tidycmprsk::cuminc(Surv(time, status) ~ ulcer, Melanoma)\n",
        "# Display the summary of CIF results\n",
        "cif.fit\n"
      ],
      "metadata": {
        "colab": {
          "base_uri": "https://localhost:8080/"
        },
        "id": "GZxvXet3OcWE",
        "outputId": "8eae6c9e-0677-420c-91aa-9cc6ba63df17"
      },
      "execution_count": null,
      "outputs": [
        {
          "output_type": "stream",
          "name": "stdout",
          "text": [
            "\n",
            "── cuminc() ────────────────────────────────────────────────────────────────────\n",
            "\n",
            "• Failure type \"1\"\n",
            "strata   time    n.risk   estimate   std.error   95% CI          \n",
            "0        1,000   108      0.035      0.017       0.011, 0.081    \n",
            "0        2,000   66       0.103      0.030       0.054, 0.171    \n",
            "0        3,000   38       0.182      0.044       0.105, 0.274    \n",
            "0        4,000   9        0.182      0.044       0.105, 0.274    \n",
            "0        5,000   1        0.182      0.044       0.105, 0.274    \n",
            "1        1,000   63       0.244      0.046       0.161, 0.337    \n",
            "1        2,000   37       0.390      0.052       0.289, 0.490    \n",
            "1        3,000   16       0.470      0.059       0.350, 0.580    \n",
            "1        4,000   4        0.533      0.068       0.392, 0.655    \n",
            "1        5,000   0        0.533      0.068       0.392, 0.655    \n",
            "\n",
            "• Failure type \"2\"\n",
            "strata   time    n.risk   estimate   std.error   95% CI          \n",
            "0        1,000   108      0.017      0.012       0.003, 0.056    \n",
            "0        2,000   66       0.026      0.015       0.007, 0.069    \n",
            "0        3,000   38       0.040      0.020       0.013, 0.095    \n",
            "0        4,000   9        0.130      0.054       0.047, 0.255    \n",
            "0        5,000   1        0.130      0.054       0.047, 0.255    \n",
            "1        1,000   63       0.056      0.024       0.020, 0.117    \n",
            "1        2,000   37       0.080      0.029       0.035, 0.149    \n",
            "1        3,000   16       0.080      0.029       0.035, 0.149    \n",
            "1        4,000   4        0.080      0.029       0.035, 0.149    \n",
            "1        5,000   0        0.080      0.029       0.035, 0.149    \n",
            "\n",
            "• Tests\n",
            "outcome   statistic   df     p.value    \n",
            "1         26.1        1.00   <0.001     \n",
            "2         0.159       1.00   0.69       \n"
          ]
        }
      ]
    },
    {
      "cell_type": "markdown",
      "source": [
        "We can estimate the cumulative incidence at various time points for each group and display this information in a table using the `tbl_cuminc()` function from the `{tidycmprsk}` package. Additionally, we can apply Gray's test to assess differences between the groups over the entire follow-up period by using the `add_p()` function. [Note: code works only in R]\n",
        "\n",
        "\n",
        "```{r}\n",
        "tidycmprsk::cuminc(Surv(time, status) ~ ulcer, data = Melanoma)  |>  \n",
        "  tbl_cuminc(\n",
        "    times = 1826.25,\n",
        "    label_header = \"**{time/365.25}-year cuminc**\") |>\n",
        "  add_p()\n",
        "```\n"
      ],
      "metadata": {
        "id": "L3vD70gyW7iV"
      }
    },
    {
      "cell_type": "markdown",
      "source": [
        "Then we can see the plot of death due to melanoma, according to ulceration status, as before using `ggcuminc()` from the {ggsurvfit} package:"
      ],
      "metadata": {
        "id": "v2scHUiFVu3Q"
      }
    },
    {
      "cell_type": "code",
      "source": [
        "%%R -h 500 -w 600 -u px\n",
        "# Plot the cumulative incidence function (CIF)\n",
        "tidycmprsk::cuminc(Surv(time, status) ~ ulcer, data = Melanoma) %>%\n",
        "  ggcuminc() +\n",
        "  labs(\n",
        "    x = \"Days\"\n",
        "  ) +\n",
        "  add_confidence_interval() +\n",
        "  add_risktable()"
      ],
      "metadata": {
        "colab": {
          "base_uri": "https://localhost:8080/",
          "height": 534
        },
        "id": "IVlPP-58Vz_s",
        "outputId": "4ceb88c7-4a57-4169-accf-8215f7877ce4"
      },
      "execution_count": null,
      "outputs": [
        {
          "output_type": "stream",
          "name": "stdout",
          "text": [
            "Plotting outcome \"1\".\n"
          ]
        },
        {
          "output_type": "display_data",
          "data": {
            "image/png": "[encoded data removed]"
          },
          "metadata": {}
        }
      ]
    },
    {
      "cell_type": "markdown",
      "source": [
        "#### Fit a Fine-Gray Subdistribution Hazard Model\n",
        "\n",
        "The **Fine-Gray model** is used to assess the effect of covariates on the subdistribution hazard, which accounts for competing risks. In this case, we’ll fit a Fine-Gray model to see how age, sex, and ulcer status impact the hazard of death from melanoma. The `crr()` function from the {tidycmprsk} package will estimate the subdistribution hazards.\n",
        "\n",
        "\n"
      ],
      "metadata": {
        "id": "Df4xo6TUV3ie"
      }
    },
    {
      "cell_type": "code",
      "source": [
        "%%R\n",
        "# Fit a Fine-Gray model for death from melanoma\n",
        "fit.fg <- tidycmprsk::crr(Surv(time, status) ~ sex + age + ulcer, data = Melanoma)\n",
        "# Display the model summary\n",
        "fit.fg\n"
      ],
      "metadata": {
        "colab": {
          "base_uri": "https://localhost:8080/"
        },
        "id": "Y3J9ROKEV4TC",
        "outputId": "cdea8217-5364-422b-ab22-95f7d0d4cbd2"
      },
      "execution_count": null,
      "outputs": [
        {
          "output_type": "stream",
          "name": "stdout",
          "text": [
            "\n",
            "── crr() ───────────────────────────────────────────────────────────────────────\n",
            "• Call Surv(time, status) ~ sex + age + ulcer\n",
            "• Failure type of interest \"1\"\n",
            "\n",
            "Variable   Coef    SE      HR     95% CI       p-value    \n",
            "sex        0.475   0.275   1.61   0.94, 2.75   0.084      \n",
            "age        0.008   0.009   1.01   0.99, 1.03   0.37       \n",
            "ulcer      1.34    0.290   3.81   2.16, 6.72   <0.001     \n"
          ]
        }
      ]
    },
    {
      "cell_type": "markdown",
      "source": [
        "We can generate tables of formatted results using the `tbl_regression()` function from the {gtsummary} package, with the option exp = TRUE to obtain the hazard ratio estimates:\n",
        "\n",
        "```{r}\n",
        "tidycmprsk::crr(Surv(time, status) ~ sex + age + ulcer, data = Melanoma) %>%\n",
        "  tbl_regression(exp = TRUE)\n",
        "```\n",
        "[Note: code only works in R]\n",
        "\n",
        "-   **Cumulative Incidence Function (CIF)**: The plot shows how the probability of death from melanoma and death from other causes changes over time. The blue line represents the CIF for melanoma death, while the red line represents death from other causes.\n",
        "\n",
        "-   **Fine-Gray Model**: The summary of the Fine-Gray model provides information on the effect of covariates (age, sex, ulcer status) on the subdistribution hazard of death from melanoma. The coefficients show how much the hazard of the event changes with each covariate."
      ],
      "metadata": {
        "id": "amfmxn35YTCk"
      }
    },
    {
      "cell_type": "code",
      "source": [
        "%%R\n",
        "rm(list = ls())\n"
      ],
      "metadata": {
        "id": "svdPio57ZfLo"
      },
      "execution_count": null,
      "outputs": []
    },
    {
      "cell_type": "markdown",
      "source": [
        "### Risk Regression and model validation with {riskRegression} packages\n",
        "\n",
        "The {riskRegression} package in R provides tools for survival analysis, particularly for competing risks and risk prediction modeling. This tutorial demonstrates how to perform a competing risks analysis with model model valiadtion with the Melanoma dataset, which is included in the {riskRegression} package and mostly followed the publication entitled [Overview of model validation for survival regression model with competing risks using melanoma study data](https://pmc.ncbi.nlm.nih.gov/articles/PMC6186983/) by Zhang et al., (2018).\n"
      ],
      "metadata": {
        "id": "GF0_aEr8WC--"
      }
    },
    {
      "cell_type": "markdown",
      "source": [
        "#### Data\n",
        "\n",
        "We illustrate how to validate competing risks regression models using the `Melanoma` dataset included in the {riskRegression} package. This dataset comprises a cohort of 205 patients diagnosed with melanoma. By the end of the follow-up period, there were 134 survivors and 71 non-survivors.\n",
        "\n",
        "The variable `time` represents the number of days after the operation, while the `status` variable indicates vital status, where 0 signifies censored (alive), 1 indicates death due to melanoma, and 2 represents death from other causes. Death from melanoma is our event of interest, while death from other causes is considered a competing event.\n",
        "\n",
        "Additionally, there are seven predictors measured at the start of follow-up: `age`, `sex`, `tumor thickness (thick)`, `ulcer`, `invasion,` `inflammatory cell infiltration (ici)`, and `epicel`."
      ],
      "metadata": {
        "id": "mc91PySnYr-v"
      }
    },
    {
      "cell_type": "code",
      "source": [
        "%%R\n",
        "data(Melanoma, package = \"riskRegression\")\n",
        "glimpse(Melanoma)"
      ],
      "metadata": {
        "colab": {
          "base_uri": "https://localhost:8080/"
        },
        "id": "UhCYPZTdYvfT",
        "outputId": "71ac0b0e-4624-4686-c43d-6db8c991a9b4"
      },
      "execution_count": null,
      "outputs": [
        {
          "output_type": "stream",
          "name": "stdout",
          "text": [
            "Rows: 205\n",
            "Columns: 11\n",
            "$ time     <int> 10, 30, 35, 99, 185, 204, 210, 232, 232, 279, 295, 355, 386, …\n",
            "$ status   <dbl> 2, 2, 0, 2, 1, 1, 1, 1, 2, 1, 1, 2, 1, 1, 1, 2, 1, 1, 1, 1, 1…\n",
            "$ event    <fct> death.other.causes, death.other.causes, censored, death.other…\n",
            "$ invasion <fct> level.1, level.0, level.1, level.0, level.2, level.2, level.2…\n",
            "$ ici      <fct> 2, 0, 2, 2, 2, 2, 2, 2, 3, 2, 1, 0, 2, 2, 3, 2, 2, 3, 3, 3, 2…\n",
            "$ epicel   <fct> present, not present, not present, not present, present, not …\n",
            "$ ulcer    <fct> present, not present, not present, not present, present, pres…\n",
            "$ thick    <dbl> 6.76, 0.65, 1.34, 2.90, 12.08, 4.84, 5.16, 12.88, 3.22, 7.41,…\n",
            "$ sex      <fct> Male, Male, Male, Female, Male, Male, Male, Male, Female, Fem…\n",
            "$ age      <int> 76, 56, 41, 71, 52, 28, 77, 49, 60, 68, 53, 64, 68, 63, 14, 7…\n",
            "$ logthick <dbl> 1.9110229, -0.4307829, 0.2926696, 1.0647107, 2.4915512, 1.576…\n"
          ]
        }
      ]
    },
    {
      "cell_type": "markdown",
      "source": [
        "#### Split the Data into Training and Testing Sets\n",
        "\n",
        "The dataset is randomly split into training (80%) and testing (20%) datasets."
      ],
      "metadata": {
        "id": "XdnwkOAAY0Hg"
      }
    },
    {
      "cell_type": "code",
      "source": [
        "%%R\n",
        "# Set a seed for reproducibility\n",
        "set.seed(123)\n",
        "Melanoma$id<-1:nrow(Melanoma)\n",
        "# Split data into training (80%) and testing (20%) sets\n",
        "ind.split<-sample(1:nrow(Melanoma),\n",
        "                  round(nrow(Melanoma)*4/5),\n",
        "                  replace = F)\n",
        "\n",
        "# Create training and testing datasets\n",
        "dftrain <- Melanoma[ind.split, ]\n",
        "dftest <- Melanoma[-ind.split, ]"
      ],
      "metadata": {
        "id": "9RVj9IlGY2yK"
      },
      "execution_count": null,
      "outputs": []
    },
    {
      "cell_type": "markdown",
      "source": [
        "#### Cause-specific hazard model versus Fine-Gray model\n",
        "\n",
        "In this section we examine how covariates influence either the cause-specific hazard function or the cumulative incidence function (CIF) using the cause-specific hazards model or the **Fine-Gray (subdistribution hazard)** model. The cause-specific hazards model provides a hazard ratio that indicates the relative risk of an event given a covariate, but it cannot be directly applied to the cumulative incidence function, which is clinically relevant.\n",
        "\n",
        "The **Fine-Gray** model addresses this issue by linking the cumulative incidence directly to the estimated subdistribution hazard, allowing regression coefficients to reflect the effects of covariates on cumulative incidence. However, the estimated subdistribution hazard ratio does not have a straightforward clinical interpretation, as it transforms the survival times of subjects who did not experience the event into artificially extended censored times, losing the probabilistic relationship with the marginal survival function.\n",
        "\n",
        "***Cause-specific Cox proportional hazard regression***\n",
        "\n",
        "The `CSC()` function is used to fit the cause-specific proportional hazards model, where the first vital status is used as a cause of interest by default. Alternatively, the cause argument can be used to specify a cause of interest.\n",
        "\n",
        "-   CSC(formula, data, cause, surv.type = \"hazard\", fitter = \"coxph\", ...)\n",
        "\n",
        "Below the `Hist()` function is similar to the `Surv()` function in the {survival} package, which provides functionality for managing censored event history response data"
      ],
      "metadata": {
        "id": "PVdu0CUyY7r9"
      }
    },
    {
      "cell_type": "code",
      "source": [
        "%%R\n",
        "csc<-CSC(Hist(time, status) ~  age + thick+ulcer, data = dftrain)\n",
        "csc"
      ],
      "metadata": {
        "colab": {
          "base_uri": "https://localhost:8080/"
        },
        "id": "OKdqR_6yZD6X",
        "outputId": "d93eb94b-9b5d-44d7-c772-3db4f8af47cf"
      },
      "execution_count": null,
      "outputs": [
        {
          "output_type": "stream",
          "name": "stdout",
          "text": [
            "CSC(formula = Hist(time, status) ~ age + thick + ulcer, data = dftrain)\n",
            "\n",
            "Right-censored response of a competing.risks model\n",
            "\n",
            "No.Observations: 164 \n",
            "\n",
            "Pattern:\n",
            "         \n",
            "Cause     event right.censored\n",
            "  1          46              0\n",
            "  2          13              0\n",
            "  unknown     0            105\n",
            "\n",
            "\n",
            "----------> Cause:  1 \n",
            "\n",
            "Call:\n",
            "coxph(formula = survival::Surv(time, status) ~ age + thick + \n",
            "    ulcer, x = TRUE, y = TRUE)\n",
            "\n",
            "  n= 164, number of events= 46 \n",
            "\n",
            "                 coef exp(coef) se(coef)     z Pr(>|z|)   \n",
            "age          0.014982  1.015094 0.009234 1.622   0.1047   \n",
            "thick        0.111032  1.117431 0.038580 2.878   0.0040 **\n",
            "ulcerpresent 1.029264  2.799005 0.340378 3.024   0.0025 **\n",
            "---\n",
            "Signif. codes:  0 ‘***’ 0.001 ‘**’ 0.01 ‘*’ 0.05 ‘.’ 0.1 ‘ ’ 1\n",
            "\n",
            "             exp(coef) exp(-coef) lower .95 upper .95\n",
            "age              1.015     0.9851    0.9969     1.034\n",
            "thick            1.117     0.8949    1.0361     1.205\n",
            "ulcerpresent     2.799     0.3573    1.4364     5.454\n",
            "\n",
            "Concordance= 0.74  (se = 0.037 )\n",
            "Likelihood ratio test= 29.33  on 3 df,   p=2e-06\n",
            "Wald test            = 30.15  on 3 df,   p=1e-06\n",
            "Score (logrank) test = 34.94  on 3 df,   p=1e-07\n",
            "\n",
            "\n",
            "\n",
            "----------> Cause:  2 \n",
            "\n",
            "Call:\n",
            "coxph(formula = survival::Surv(time, status) ~ age + thick + \n",
            "    ulcer, x = TRUE, y = TRUE)\n",
            "\n",
            "  n= 164, number of events= 13 \n",
            "\n",
            "                coef exp(coef) se(coef)     z Pr(>|z|)    \n",
            "age          0.08047   1.08380  0.02355 3.417 0.000633 ***\n",
            "thick        0.03902   1.03979  0.08588 0.454 0.649528    \n",
            "ulcerpresent 0.33312   1.39531  0.61280 0.544 0.586721    \n",
            "---\n",
            "Signif. codes:  0 ‘***’ 0.001 ‘**’ 0.01 ‘*’ 0.05 ‘.’ 0.1 ‘ ’ 1\n",
            "\n",
            "             exp(coef) exp(-coef) lower .95 upper .95\n",
            "age              1.084     0.9227    1.0349     1.135\n",
            "thick            1.040     0.9617    0.8787     1.230\n",
            "ulcerpresent     1.395     0.7167    0.4198     4.638\n",
            "\n",
            "Concordance= 0.824  (se = 0.049 )\n",
            "Likelihood ratio test= 17.77  on 3 df,   p=5e-04\n",
            "Wald test            = 14.87  on 3 df,   p=0.002\n",
            "Score (logrank) test = 16.22  on 3 df,   p=0.001\n",
            "\n"
          ]
        }
      ]
    },
    {
      "cell_type": "markdown",
      "source": [
        "***Fit the Fine-Gray Model***\n",
        "\n",
        "`FGR()` function is an interface for fitting the Fine-Gray model and the arguments of the function are similar to that of the CSC() function.\n"
      ],
      "metadata": {
        "id": "Iso0CFjoZInv"
      }
    },
    {
      "cell_type": "code",
      "source": [
        "%%R\n",
        "fgr<- FGR(Hist(time,status)~  age + thick+ulcer, data = dftrain, cause = 1)\n",
        "fgr"
      ],
      "metadata": {
        "colab": {
          "base_uri": "https://localhost:8080/"
        },
        "id": "yb3jNo47ZJbn",
        "outputId": "dcf456b0-83c7-49bb-8acd-3a0c4ff31e06"
      },
      "execution_count": null,
      "outputs": [
        {
          "output_type": "stream",
          "name": "stdout",
          "text": [
            "\n",
            "Right-censored response of a competing.risks model\n",
            "\n",
            "No.Observations: 164 \n",
            "\n",
            "Pattern:\n",
            "         \n",
            "Cause     event right.censored\n",
            "  1          46              0\n",
            "  2          13              0\n",
            "  unknown     0            105\n",
            "\n",
            "\n",
            "Fine-Gray model: analysis of cause 1 \n",
            "\n",
            "Competing Risks Regression\n",
            "\n",
            "Call:\n",
            "FGR(formula = Hist(time, status) ~ age + thick + ulcer, data = dftrain, \n",
            "    cause = 1)\n",
            "\n",
            "                coef exp(coef) se(coef)     z p-value\n",
            "age          0.00711      1.01  0.00952 0.746  0.4600\n",
            "thick        0.09711      1.10  0.03831 2.534  0.0110\n",
            "ulcerpresent 0.97047      2.64  0.33874 2.865  0.0042\n",
            "\n",
            "             exp(coef) exp(-coef)  2.5% 97.5%\n",
            "age               1.01      0.993 0.989  1.03\n",
            "thick             1.10      0.907 1.022  1.19\n",
            "ulcerpresent      2.64      0.379 1.359  5.13\n",
            "\n",
            "Num. cases = 164\n",
            "Pseudo Log-likelihood = -210 \n",
            "Pseudo likelihood ratio test = 23.6  on 3 df,\n",
            "\n",
            "Convergence: TRUE \n",
            "\n"
          ]
        }
      ]
    },
    {
      "cell_type": "markdown",
      "source": [
        "A full model (fgr.full) is fitted by using the Fine-Gray model including all seven predictors:"
      ],
      "metadata": {
        "id": "CkiAz0IqZ7Rb"
      }
    },
    {
      "cell_type": "code",
      "source": [
        "%%R\n",
        "fgr.full<- FGR(Hist(time,status)~   age + thick+ulcer +ici+epicel+invasion+sex, data = dftrain, cause = 1)\n",
        "fgr.full"
      ],
      "metadata": {
        "colab": {
          "base_uri": "https://localhost:8080/"
        },
        "id": "zjXOoFY7Z8Bl",
        "outputId": "2bc8ba68-7f20-435d-9401-d987d1859735"
      },
      "execution_count": null,
      "outputs": [
        {
          "output_type": "stream",
          "name": "stdout",
          "text": [
            "\n",
            "Right-censored response of a competing.risks model\n",
            "\n",
            "No.Observations: 164 \n",
            "\n",
            "Pattern:\n",
            "         \n",
            "Cause     event right.censored\n",
            "  1          46              0\n",
            "  2          13              0\n",
            "  unknown     0            105\n",
            "\n",
            "\n",
            "Fine-Gray model: analysis of cause 1 \n",
            "\n",
            "Competing Risks Regression\n",
            "\n",
            "Call:\n",
            "FGR(formula = Hist(time, status) ~ age + thick + ulcer + ici + \n",
            "    epicel + invasion + sex, data = dftrain, cause = 1)\n",
            "\n",
            "                   coef exp(coef) se(coef)      z p-value\n",
            "age              0.0198     1.020   0.0112  1.769  0.0770\n",
            "thick            0.0228     1.023   0.0656  0.348  0.7300\n",
            "ulcerpresent     0.6646     1.944   0.3839  1.731  0.0830\n",
            "ici1             1.6839     5.387   1.1001  1.531  0.1300\n",
            "ici2             1.5758     4.835   1.0856  1.452  0.1500\n",
            "ici3             1.5538     4.729   1.1442  1.358  0.1700\n",
            "epicelpresent   -1.1913     0.304   0.4065 -2.931  0.0034\n",
            "invasionlevel.1  0.5023     1.653   0.4149  1.211  0.2300\n",
            "invasionlevel.2  0.9995     2.717   0.5774  1.731  0.0830\n",
            "sexMale          0.7955     2.216   0.3173  2.507  0.0120\n",
            "\n",
            "                exp(coef) exp(-coef)  2.5%  97.5%\n",
            "age                 1.020      0.980 0.998  1.043\n",
            "thick               1.023      0.977 0.900  1.163\n",
            "ulcerpresent        1.944      0.514 0.916  4.125\n",
            "ici1                5.387      0.186 0.624 46.529\n",
            "ici2                4.835      0.207 0.576 40.588\n",
            "ici3                4.729      0.211 0.502 44.538\n",
            "epicelpresent       0.304      3.291 0.137  0.674\n",
            "invasionlevel.1     1.653      0.605 0.733  3.726\n",
            "invasionlevel.2     2.717      0.368 0.876  8.425\n",
            "sexMale             2.216      0.451 1.190  4.127\n",
            "\n",
            "Num. cases = 164\n",
            "Pseudo Log-likelihood = -199 \n",
            "Pseudo likelihood ratio test = 44.6  on 10 df,\n",
            "\n",
            "Convergence: TRUE \n",
            "\n"
          ]
        }
      ]
    },
    {
      "cell_type": "markdown",
      "source": [
        "#### Prediction\n",
        "\n",
        "The `predict()` and `predictRisk()` function are similar that both of them estimate the absolute risk at specified time points. The difference is that the former returns covariates that have been used for prediction, whereas the latter only reports the absolute risk.\n",
        "\n",
        "Following codes will provides the cumulative incidence functions for death from melanoma for the first five individuals in the test dataset over a period of 1,000 to 4,000 days post-operation. To visualize the absolute risk for each individual, you can use the `autoplot()` function."
      ],
      "metadata": {
        "id": "aWRbuvMsZ_DL"
      }
    },
    {
      "cell_type": "code",
      "source": [
        "%%R -h 500 -w 600 -u px\n",
        "pred.csc<- predict(csc, newdata = dftest[1:5,], time = 1000:4000, cause = 1)\n",
        "autoplot(pred.csc)"
      ],
      "metadata": {
        "colab": {
          "base_uri": "https://localhost:8080/",
          "height": 517
        },
        "id": "YALkRNiWarqi",
        "outputId": "75207508-5369-42e3-ac40-e8de92369e5f"
      },
      "execution_count": null,
      "outputs": [
        {
          "output_type": "display_data",
          "data": {
            "image/png": "[encoded data removed]"
          },
          "metadata": {}
        }
      ]
    },
    {
      "cell_type": "code",
      "source": [
        "%%R\n",
        "predictRisk(csc, newdata=dftest[20,], times =2000)"
      ],
      "metadata": {
        "colab": {
          "base_uri": "https://localhost:8080/"
        },
        "id": "z3IKGzYba36U",
        "outputId": "6c8a2a07-117c-4a25-aede-9cf819d33cdb"
      },
      "execution_count": null,
      "outputs": [
        {
          "output_type": "stream",
          "name": "stdout",
          "text": [
            "          [,1]\n",
            "[1,] 0.3436371\n"
          ]
        }
      ]
    },
    {
      "cell_type": "code",
      "source": [
        "%%R\n",
        "predictRisk(fgr, newdata=dftest[20,], times =2000)"
      ],
      "metadata": {
        "colab": {
          "base_uri": "https://localhost:8080/"
        },
        "id": "NMtuSsBdbAfF",
        "outputId": "7081cb38-94f8-43fd-add5-e529569cad03"
      },
      "execution_count": null,
      "outputs": [
        {
          "output_type": "stream",
          "name": "stdout",
          "text": [
            "[1] \"age\"          \"thick\"        \"ulcerpresent\"\n",
            "          [,1]\n",
            "[1,] 0.3259236\n"
          ]
        }
      ]
    },
    {
      "cell_type": "markdown",
      "source": [
        "For patient #20, the cumulative incidence estimates for death from melanoma over 2,000 days are 0.34 according to the cause-specific proportional hazards model and 0.32 according to the Fine-Gray model. The discrepancy between the cumulative incidence estimates from the Fine-Gray model and those from the cause-specific hazards models arises from differing assumptions about proportionality—specifically, the Fine-Gray model uses proportional subdistribution hazards, while the Cox regression models utilize proportional cause-specific hazards.\n",
        "\n",
        "The `Score()` function provides a set of methods to score the predictive performance of risk prediction models."
      ],
      "metadata": {
        "id": "eKAhxPXybF6Y"
      }
    },
    {
      "cell_type": "code",
      "source": [
        "%%R\n",
        "score<-Score(list(Cox_model = csc,\n",
        "       Fine_Gray=fgr,\n",
        "       Full_Fine_Gray =fgr.full),\n",
        "                       formula = Hist(time, status) ~ 1,\n",
        "                       data = dftest,\n",
        "                       times =  seq(2000, 4000, 500),\n",
        "       plots=c(\"calibration\",\"ROC\"))"
      ],
      "metadata": {
        "colab": {
          "base_uri": "https://localhost:8080/"
        },
        "id": "UKzv_AdGbJzs",
        "outputId": "83b46387-ca7c-4fb6-f3ae-265a16b2ea84"
      },
      "execution_count": null,
      "outputs": [
        {
          "output_type": "stream",
          "name": "stdout",
          "text": [
            "[1] \"age\"          \"thick\"        \"ulcerpresent\"\n",
            " [1] \"age\"             \"thick\"           \"ulcerpresent\"    \"ici1\"           \n",
            " [5] \"ici2\"            \"ici3\"            \"epicelpresent\"   \"invasionlevel.1\"\n",
            " [9] \"invasionlevel.2\" \"sexMale\"        \n"
          ]
        }
      ]
    },
    {
      "cell_type": "markdown",
      "source": [
        "The `plotCalibration()` function draws a calibration plot:"
      ],
      "metadata": {
        "id": "iuqaqu5dbUSJ"
      }
    },
    {
      "cell_type": "code",
      "source": [
        "%%R -h 500 -w 600 -u px\n",
        "plotCalibration(score, times =2000, cens.method=\"jackknife\" )"
      ],
      "metadata": {
        "colab": {
          "base_uri": "https://localhost:8080/",
          "height": 517
        },
        "id": "VvMZGjmPbGuQ",
        "outputId": "ce87f198-12d0-4c13-cc68-094f434122b4"
      },
      "execution_count": null,
      "outputs": [
        {
          "output_type": "display_data",
          "data": {
            "image/png": "[encoded data removed]"
          },
          "metadata": {}
        }
      ]
    },
    {
      "cell_type": "markdown",
      "source": [
        "A calibration curve in above figure that is close to the diagonal indicates a better model. The `area under the operating characteristic curve (AUC)` and the `Brier score` are shown at the top of the figure. The `AUC`, also called the `C-index`, measures how well the model can differentiate between outcomes. An `AUC`greater than 0.8 suggests good accuracy.\n",
        "\n",
        "The `Brier score` measures both how well the model predicts outcomes and how well it is calibrated. It calculates the average squared difference between the actual outcome and the predicted probability. A smaller Brier score means a better model. In our case, the full model has the smallest `AUC` and the largest `Brier` score, indicating it performs poorly."
      ],
      "metadata": {
        "id": "wmtoBWShbw_q"
      }
    },
    {
      "cell_type": "markdown",
      "source": [
        "#### Calibration with cross validation method\n",
        "\n",
        "A single split into training and test datasets may fail to address the uncertainty of model predictions. Therefore, it's essential to use all available data for both model training and validation. This is why we utilize the cross-validation method. A commonly used approach is `k-fold cross-validation`, which has also been applied to competing risks regression models.\n",
        "\n",
        "In `k-fold cross-validation`, the original dataset is randomly partitioned into k equal-sized subsamples. One of these $k$ subsamples is reserved as the validation data for testing the model, while the remaining $k−1$ subsamples are used as training data. This process is repeated $k$ times, ensuring that each subsample is used once as the validation data. The results from the k iterations can then be averaged to produce a single estimation. The prediction accuracy can be measured using indices such as the `Area Under the Curve (AUC)` or the `Brier score`.\n",
        "\n",
        "However, unlike the one-time split method, cross-validation produces $k$ models. The question then arises: which model should be used for prediction? The purpose of cross-validation is not to identify a final model; rather, it serves as a means of model checking to improve prediction accuracy. We do not use the k trained models for actual predictions; instead, we aim to utilize all available data to develop the best possible model.\n",
        "\n",
        "Cross-validation facilitates the comparison of different model specifications. For example, if we have linear regression models with and without interaction terms, cross-validation can indicate which model performs better in terms of prediction. Once identified, we can train that preferred model using the entire dataset. It's worth noting that while the covariate effects in the linear models may differ across training iterations, the model specification remains consistent. Alternatively, cross-validation can also be employed to build an ensemble model."
      ],
      "metadata": {
        "id": "rwsxazBNb1oQ"
      }
    },
    {
      "cell_type": "code",
      "source": [
        "%%R\n",
        "fgr1<- FGR(Hist(time,status)~   age + thick+ulcer, data =Melanoma, cause = 1)\n",
        "score.cv<-Score(list(\n",
        "                       Fine_Gray=fgr1),\n",
        "                       formula = Hist(time, status) ~ 1,\n",
        "                       data = Melanoma,\n",
        "                       times =  seq(2000, 4000, 500),\n",
        "                       split.method = \"bootcv\",\n",
        "                       B=10,\n",
        "                       plots=c(\"calibration\",\"ROC\"))"
      ],
      "metadata": {
        "colab": {
          "base_uri": "https://localhost:8080/"
        },
        "id": "oaIN2r-tb3gB",
        "outputId": "3109606d-53b3-4f9a-860b-5989818f30d3"
      },
      "execution_count": null,
      "outputs": [
        {
          "output_type": "stream",
          "name": "stderr",
          "text": [
            "WARNING:rpy2.rinterface_lib.callbacks:R[write to console]: Running crossvalidation algorithm\n",
            "\n",
            "WARNING:rpy2.rinterface_lib.callbacks:R[write to console]: Fitting the models in 10 learning datasets, then predicting the risks in validation datasets\n",
            "\n"
          ]
        },
        {
          "output_type": "stream",
          "name": "stdout",
          "text": [
            "  |                    |   0%"
          ]
        },
        {
          "output_type": "stream",
          "name": "stderr",
          "text": [
            "WARNING:rpy2.rinterface_lib.callbacks:R[write to console]: data.table 1.16.2 using 1 threads (see ?getDTthreads).  \n",
            "WARNING:rpy2.rinterface_lib.callbacks:R[write to console]: Latest news: r-datatable.com\n",
            "\n",
            "WARNING:rpy2.rinterface_lib.callbacks:R[write to console]: \n",
            "Attaching package: ‘data.table’\n",
            "\n",
            "\n",
            "WARNING:rpy2.rinterface_lib.callbacks:R[write to console]: The following objects are masked from ‘package:lubridate’:\n",
            "\n",
            "    hour, isoweek, mday, minute, month, quarter, second, wday, week,\n",
            "    yday, year\n",
            "\n",
            "\n",
            "WARNING:rpy2.rinterface_lib.callbacks:R[write to console]: The following objects are masked from ‘package:dplyr’:\n",
            "\n",
            "    between, first, last\n",
            "\n",
            "\n",
            "WARNING:rpy2.rinterface_lib.callbacks:R[write to console]: The following object is masked from ‘package:purrr’:\n",
            "\n",
            "    transpose\n",
            "\n",
            "\n"
          ]
        },
        {
          "output_type": "stream",
          "name": "stdout",
          "text": [
            "  |==                  |  10%[1] \"age\"          \"thick\"        \"ulcerpresent\"\n",
            "  |====                |  20%[1] \"age\"          \"thick\"        \"ulcerpresent\"\n",
            "  |======              |  30%[1] \"age\"          \"thick\"        \"ulcerpresent\"\n",
            "  |========            |  40%[1] \"age\"          \"thick\"        \"ulcerpresent\"\n",
            "  |==========          |  50%[1] \"age\"          \"thick\"        \"ulcerpresent\"\n",
            "  |============        |  60%[1] \"age\"          \"thick\"        \"ulcerpresent\"\n",
            "  |==============      |  70%[1] \"age\"          \"thick\"        \"ulcerpresent\"\n",
            "  |================    |  80%[1] \"age\"          \"thick\"        \"ulcerpresent\"\n",
            "  |==================  |  90%[1] \"age\"          \"thick\"        \"ulcerpresent\"\n",
            "  |====================| 100%[1] \"age\"          \"thick\"        \"ulcerpresent\"\n",
            "\n",
            "  |                    |   0%"
          ]
        },
        {
          "output_type": "stream",
          "name": "stderr",
          "text": [
            "WARNING:rpy2.rinterface_lib.callbacks:R[write to console]: Calculating the performance metrics in 10 validation data sets\n",
            "\n"
          ]
        },
        {
          "output_type": "stream",
          "name": "stdout",
          "text": [
            "  |====================| 100%\n"
          ]
        }
      ]
    },
    {
      "cell_type": "code",
      "source": [
        "%%R -h 500 -w 600 -u px\n",
        "plotCalibration(score.cv, times =2000, cens.method=\"jackknife\")"
      ],
      "metadata": {
        "colab": {
          "base_uri": "https://localhost:8080/",
          "height": 517
        },
        "id": "iZY33BqMb-RD",
        "outputId": "557d4272-c201-4b56-f294-48c235f5f47a"
      },
      "execution_count": null,
      "outputs": [
        {
          "output_type": "display_data",
          "data": {
            "image/png": "[encoded data removed]"
          },
          "metadata": {}
        }
      ]
    },
    {
      "cell_type": "markdown",
      "source": [
        "#### Bandwidth selection\n",
        "\n",
        "A smoothed calibration curve can be generated using various smoothing techniques, each of which is influenced by the selection of a bandwidth parameter. The calibration curve's appearance is heavily dependent on this choice. When a larger bandwidth is used, the resulting curve tends to be smooth and flat, leading to greater bias but reduced variance. Conversely, a smaller bandwidth can produce a curve with noticeable fluctuations, which results in lower bias but higher variance. As such, selecting the right bandwidth involves carefully balancing these opposing factors—bias and variance. The following code illustrates how to create calibration curves with varying bandwidths to observe these effects in action."
      ],
      "metadata": {
        "id": "eOKk3Fo6cOn_"
      }
    },
    {
      "cell_type": "code",
      "source": [
        "%%R -h 800 -w 800 -u px\n",
        "par(mfrow =c(2,2))\n",
        "plotCalibration(score, times =seq(2000, 4000, 500),\n",
        "                bandwith = 0.8,\n",
        "                auc.in.legend=F,\n",
        "                cens.method=\"jackknife\",\n",
        "                btier.in.legend = F,\n",
        "                legend.x =0, legend.y =1.1)\n",
        "text(x=0.2, y=0.6, \"banfdwith=0.8\", col =4)\n",
        "\n",
        "plotCalibration(score, times =seq(2000, 4000, 500),\n",
        "                bandwith = 0.5,\n",
        "                cens.method=\"jackknife\",\n",
        "                legend = F)\n",
        "text(x=0.2, y=0.6, \"banfdwith=0.5\", col =4)\n",
        "\n",
        "plotCalibration(score, times =seq(2000, 4000, 500),\n",
        "                bandwith = 0.2,\n",
        "                cens.method=\"jackknife\",\n",
        "                legend=F)\n",
        "text(x=0.2, y=0.6, \"banfdwith=0.2\", col =4)\n",
        "\n",
        "plotCalibration(score, times =seq(2000, 4000, 500),\n",
        "                bandwith = 0.1,\n",
        "                cens.method=\"jackknife\",\n",
        "                legend=F)\n",
        "text(x=0.2, y=0.7, \"banfdwith=0.1\", col =4)\n"
      ],
      "metadata": {
        "colab": {
          "base_uri": "https://localhost:8080/",
          "height": 817
        },
        "id": "Rwh6nHGpcVis",
        "outputId": "e938d1f2-cc93-4e1d-c144-d65d66269307"
      },
      "execution_count": null,
      "outputs": [
        {
          "output_type": "display_data",
          "data": {
            "image/png": "[encoded data removed]"
          },
          "metadata": {}
        }
      ]
    },
    {
      "cell_type": "markdown",
      "source": [
        "#### Plotting AUC and Brier score\n",
        "\n",
        "The `Score`()` function calculates all these scores over time and we can easily extract the results for further graphical display."
      ],
      "metadata": {
        "id": "Ps1DH7ppcmfK"
      }
    },
    {
      "cell_type": "code",
      "source": [
        "%%R -h 500 -w 600 -u px\n",
        "ggplot(data=score$AUC$score, aes(x=times, y = AUC, color = model)) +\n",
        "  geom_point() +\n",
        "  geom_line() +\n",
        "  ggtitle(\"AUC\")"
      ],
      "metadata": {
        "colab": {
          "base_uri": "https://localhost:8080/",
          "height": 517
        },
        "id": "74pQ5m6LcrEj",
        "outputId": "dd4e1079-3943-4167-c03f-eb7ffe318c2b"
      },
      "execution_count": null,
      "outputs": [
        {
          "output_type": "display_data",
          "data": {
            "image/png": "[encoded data removed]"
          },
          "metadata": {}
        }
      ]
    },
    {
      "cell_type": "code",
      "source": [
        "%%R -h 500 -w 600 -u px\n",
        "ggplot(data=score$Brier$score, aes(x=times, y = Brier, color = model)) +\n",
        "  geom_point() +\n",
        "  geom_line() +\n",
        "  ggtitle(\"Brier Score\")"
      ],
      "metadata": {
        "colab": {
          "base_uri": "https://localhost:8080/",
          "height": 517
        },
        "id": "vsRZIf2Vc0dt",
        "outputId": "cb201eb7-b107-471e-990b-c6cfd7f97bc2"
      },
      "execution_count": null,
      "outputs": [
        {
          "output_type": "display_data",
          "data": {
            "image/png": "[encoded data removed]"
          },
          "metadata": {}
        }
      ]
    },
    {
      "cell_type": "markdown",
      "source": [
        "#### Nomogram for visualizing regression models\n",
        "\n",
        "A **nomogram** is a graphical tool often used in medical and clinical research to predict the probability of a certain outcome or event, such as survival or disease recurrence, based on multiple predictors or covariates. Nomograms provide a visual representation of complex predictive models, making them easier to interpret and apply in a clinical setting.\n",
        "\n",
        "The `regplot()` function is useful for plotting nomograms with attractive aesthetics. However, it only accepts objects returned by the `coxph`, `lm`, and `glm` functions. To create a nomogram when dealing with competing risks, we first need to construct a weighted dataset for competing risks analysis. We will use `crprep()` function of {mstate} package.  This allows us to fit the competing risk model using the `coxph()` function, which can then be passed to `regplot()` to generate the nomogram."
      ],
      "metadata": {
        "id": "ZNyGgp3-c63I"
      }
    },
    {
      "cell_type": "code",
      "source": [
        "%%R\n",
        "# created a weighted data set\n",
        "df.w<-crprep(\"time\", \"status\",\n",
        "             data =dftrain, trains=c(1,2),\n",
        "             cens=0, id=\"id\",\n",
        "             keep =c(\"age\", \"thick\", \"ulcer\"))\n",
        "head(df.w)"
      ],
      "metadata": {
        "colab": {
          "base_uri": "https://localhost:8080/"
        },
        "id": "H9Hg8qa4dY7m",
        "outputId": "8984df0c-3344-4ac7-e60e-86684627def9"
      },
      "execution_count": null,
      "outputs": [
        {
          "output_type": "stream",
          "name": "stdout",
          "text": [
            "   id Tstart Tstop status weight.cens age thick       ulcer count failcode\n",
            "1 159      0  3152      0           1  32  1.62 not present     1        1\n",
            "2 179      0  3459      0           1  29  0.65 not present     1        1\n",
            "3  14      0   426      1           1  63  4.84     present     1        1\n",
            "4 195      0  4119      0           1  52  0.65 not present     1        1\n",
            "5 170      0  3330      0           1  61  0.81     present     1        1\n",
            "6  50      0  1512      0           1  77  0.16 not present     1        1\n"
          ]
        }
      ]
    },
    {
      "cell_type": "code",
      "source": [
        "%%R\n",
        "df.w$T<-df.w$Tstop-df.w$Tstart"
      ],
      "metadata": {
        "id": "7orsoyi8eDky"
      },
      "execution_count": null,
      "outputs": []
    },
    {
      "cell_type": "code",
      "source": [
        "%%R\n",
        "# Fine-Gray model is performed with the coxph() function.\n",
        "f.crr<-coxph(Surv(T, status==1) ~ age + thick + ulcer,\n",
        "       data = df.w,\n",
        "       weight = weight.cens,\n",
        "       subset =failcode ==1)"
      ],
      "metadata": {
        "id": "JUGcYCS4eIwS"
      },
      "execution_count": null,
      "outputs": []
    },
    {
      "cell_type": "code",
      "source": [
        "%%R -h 800 -w 800 -u px\n",
        "# plot namogram\n",
        "regplot(f.crr,\n",
        "        observation = df.w[df.w$id&df.w$failcode==1,],\n",
        "        failtime= c(2000, 3000),\n",
        "        prfail=T,\n",
        "        points=TRUE,\n",
        "        droplines=T)"
      ],
      "metadata": {
        "colab": {
          "base_uri": "https://localhost:8080/"
        },
        "id": "zc1gdlwleNXT",
        "outputId": "3bb02fed-c6eb-44cc-9947-b80ec89f8c3b"
      },
      "execution_count": null,
      "outputs": [
        {
          "output_type": "stream",
          "name": "stderr",
          "text": [
            "WARNING:rpy2.rinterface_lib.callbacks:R[write to console]: \"observation\" has >1 row. The first  row provides plotted values\n",
            "\n",
            "WARNING:rpy2.rinterface_lib.callbacks:R[write to console]: Regression  f.crr coxph formula:\n",
            "\n",
            "WARNING:rpy2.rinterface_lib.callbacks:R[write to console]: Surv(T, status == 1) `~` age + thick + ulcer\n",
            "\n",
            "WARNING:rpy2.rinterface_lib.callbacks:R[write to console]: Replicate integer weights assumed\n",
            "\n",
            "WARNING:rpy2.rinterface_lib.callbacks:R[write to console]: Note: non-integer weights have been floored\n",
            "\n"
          ]
        },
        {
          "output_type": "stream",
          "name": "stdout",
          "text": [
            "[[1]]\n",
            "             ulcer Points\n",
            "ulcer1 not present     25\n",
            "ulcer2     present     66\n",
            "\n",
            "[[2]]\n",
            "   thick Points\n",
            "1      0     13\n",
            "2      2     23\n",
            "3      4     33\n",
            "4      6     43\n",
            "5      8     53\n",
            "6     10     63\n",
            "7     12     73\n",
            "8     14     83\n",
            "9     16     93\n",
            "10    18    103\n",
            "\n",
            "[[3]]\n",
            "  age Points\n",
            "1   0     -2\n",
            "2  20      6\n",
            "3  40     15\n",
            "4  60     23\n",
            "5  80     31\n",
            "\n",
            "[[4]]\n",
            "   Total Points Pr( T < 2000 )\n",
            "1            20         0.0425\n",
            "2            40         0.0672\n",
            "3            60         0.1053\n",
            "4            80         0.1630\n",
            "5           100         0.2477\n",
            "6           120         0.3658\n",
            "7           140         0.5174\n",
            "8           160         0.6882\n",
            "9           180         0.8450\n",
            "10          200         0.9493\n",
            "11          220         0.9915\n",
            "\n"
          ]
        }
      ]
    },
    {
      "cell_type": "markdown",
      "source": [
        "## Summary and Conclusions\n",
        "\n",
        "The `tidycmprsk` package is an innovative tool designed for conducting risk regression and analyzing competing risks while adhering to a tidy framework, which simplifies data manipulation and visualization. In our analysis, we utilized the Melanoma dataset, a valuable resource for studying outcomes related to skin cancer.\n",
        "\n",
        "First, we calculated the `Cumulative Incidence Function (CIF)`, which quantifies the probability of different types of events (in this case, death due to melanoma and other causes) over time. This step is crucial for understanding the competing risks involved, as it allows us to see how the likelihood of each event changes as time progresses. Following this, we fitted a **Fine-Gray** subdistribution hazard model. This model is particularly beneficial as it enables us to assess the impact of various covariates—such as age, gender, treatment type, and other relevant factors—on the subdistribution hazard of the event of interest (i.e., melanoma-related death). The results from this model provide insights into how these covariates influence the risks over time.\n",
        "\n",
        "The visualization of the CIF is represented through plots that clearly illustrate the evolution of risks associated with melanoma and other causes of death. These plots are essential for interpreting the data and communicating the findings effectively.\n",
        "\n",
        "Furthermore, we explored the `riskRegression` package in R, which offers extensive capabilities for conducting thorough risk analyses and competing risks modeling, complete with validation features. Again, we worked with the Melanoma dataset to estimate the `Cumulative Incidence Function (CIF)` and fitted a Cause-Specific Hazard model to investigate the relationships between different hazards. This model helps isolate the risk factors specifically related to melanoma-related death, providing a more focused understanding of the hazard structure.\n",
        "\n",
        "Additionally, we applied the Fine-Gray model within the `riskRegression` framework to further scrutinize how covariates affect subdistribution hazards. The analyses generated by these models yield comprehensive insights into the relative risks of death from melanoma compared to other causes of mortality, enhancing our understanding of patient outcomes over time. The detailed results and accompanying visualizations serve as powerful tools for clinicians and researchers aiming to understand the complexities of competing risks in the context of melanoma..\n"
      ],
      "metadata": {
        "id": "p1VtRgcYP-WP"
      }
    },
    {
      "cell_type": "markdown",
      "source": [
        "## References\n",
        "\n",
        "1.  [Survival Analysis with R](https://www.emilyzabor.com/tutorials/survival_analysis_in_r_tutorial.html#Part_2:_Landmark_Analysis_and_Time_Dependent_Covariates)\n",
        "\n",
        "2.  [Analyzing Competing Risk Data Using the R timereg Package](https://pmc.ncbi.nlm.nih.gov/articles/PMC3375021/)\n",
        "\n",
        "3.  [Overview of model validation for survival regression model with competing risks using melanoma study data](https://pmc.ncbi.nlm.nih.gov/articles/PMC6186983/)\n",
        "\n",
        "4.  [Competing risks regression](https://argoshare.is.ed.ac.uk/healthyr_book/competing-risks-regression.html)\n"
      ],
      "metadata": {
        "id": "evpa9c53QAHh"
      }
    }
  ]
}