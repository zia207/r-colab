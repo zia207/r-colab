{
  "nbformat": 4,
  "nbformat_minor": 0,
  "metadata": {
    "colab": {
      "provenance": [],
      "toc_visible": true,
      "authorship_tag": "ABX9TyP65GPyLqIbqw17/f5cc1Uy",
      "include_colab_link": true
    },
    "kernelspec": {
      "name": "python3",
      "display_name": "Python 3"
    },
    "language_info": {
      "name": "python"
    }
  },
  "cells": [
    {
      "cell_type": "markdown",
      "metadata": {
        "id": "view-in-github",
        "colab_type": "text"
      },
      "source": [
        "<a href=\"https://colab.research.google.com/github/zia207/r-colab/blob/main/NoteBook/Machine_Learning/Tree_based/03-01-02-01-tree-based-models-bagging-bagged-trees-r.ipynb\" target=\"_parent\"><img src=\"https://colab.research.google.com/assets/colab-badge.svg\" alt=\"Open In Colab\"/></a>"
      ]
    },
    {
      "cell_type": "markdown",
      "source": [
        "![alt text](http://drive.google.com/uc?export=view&id=1bLQ3nhDbZrCCqy_WCxxckOne2lgVvn3l)"
      ],
      "metadata": {
        "id": "4qrItz_mJNWw"
      }
    },
    {
      "cell_type": "markdown",
      "source": [
        "# 1. Bagging Decision Trees\n",
        "\n",
        "Bagging Decision Trees, or Bootstrap Aggregating Decision Trees, is an ensemble machine learning technique that improves the stability and accuracy of decision trees by combining multiple trees trained on different subsets of the data. It reduces variance and helps prevent overfitting, which is a common issue with individual decision trees. Below, I’ll explain the concept, how it works, the important steps, and include relevant mathematical details.\n",
        "\n",
        "\n"
      ],
      "metadata": {
        "id": "Dzp9ZseROTcY"
      }
    },
    {
      "cell_type": "markdown",
      "source": [
        "## Overview\n",
        "\n",
        "Bagging involves creating multiple decision trees by training each on a random subset of the training data, sampled with replacement (bootstrap sampling). The predictions from these trees are then aggregated, typically by majority voting for classification or averaging for regression, to produce a final prediction. This approach leverages the diversity of trees to improve robustness and generalization.\n",
        "\n",
        "-   `Key Idea`: Each tree is trained on a slightly different dataset, making the trees less correlated. Combining their predictions reduces variance without significantly increasing bias.\n",
        "-   `Purpose`: To address the high variance of single decision trees, which can overfit to noise in the data."
      ],
      "metadata": {
        "id": "mLkAu88QToVr"
      }
    },
    {
      "cell_type": "markdown",
      "source": [
        "### Key Characteristics\n",
        "\n",
        "1.  `Variance Reduction`:\n",
        "    -   Decision trees have high variance (small changes in data can lead to different trees). Bagging reduces variance by averaging predictions, as shown in the variance formula above.\n",
        "2.  `Parallelization`:\n",
        "    -   Each tree is trained independently, making bagging computationally efficient with parallel processing.\n",
        "3.  `No Bias Increase`:\n",
        "    -   Since trees are unpruned, they have low bias. Bagging maintains this low bias while reducing variance.\n",
        "4.  `Out-of-Bag (OOB) Error Estimation`:\n",
        "    -   Data points not included in a bootstrap sample (about 36.8% of the data) can be used to estimate the model’s performance without a separate validation set.\n",
        "    -   OOB error for a data point ( (x_i, y_i) ) is computed by averaging predictions from trees where ( (x_i, y_i) ) was not in the bootstrap sample."
      ],
      "metadata": {
        "id": "WL2L7JRduO3P"
      }
    },
    {
      "cell_type": "markdown",
      "source": [
        "### How Bagging Decision Trees Works\n",
        "\n",
        "Bagging Decision Trees consists of three main steps:\n",
        "\n",
        "1. Bootstrap Sampling\n",
        "\n",
        "-   Randomly sample subsets of the training data with replacement.\n",
        "\n",
        "-   Each subset (or \"bootstrap sample\") is used to train a separate decision tree.\n",
        "\n",
        "-   Generate $B$ bootstrap samples $D_1, D_2, \\dots, D_B$), where each $D_b$ is created by sampling $N$ data points from $D$ with replacement. \\`\n",
        "\n",
        "-   For a dataset $D$, the probability that a specific data point $(x_i, y_i)$ is included in a bootstrap sample is:\n",
        "\n",
        "$$ P(\\text{included}) = 1 - \\left(1 - \\frac{1}{N}\\right)^N \\approx 1 - e^{-1} \\approx 0.632 $$\n",
        "\n",
        "-   Each $D_b$ is a multiset of size $N$, drawn from $D$.\n",
        "\n",
        "2. Training Individual Trees\n",
        "\n",
        "-   Build a decision tree on each bootstrap sample without pruning (allowing trees to grow deep).\n",
        "\n",
        "-   Each tree is trained independently, capturing different aspects of the data.\n",
        "\n",
        "-   For `classification`, train a decision tree $T_b$ on each bootstrap sample $D_b$, for $b = 1, 2, \\dots, B$.\n",
        "\n",
        "-   At each node, a decision tree selects the feature and threshold that minimize an impurity measure, e.g., `Gini impurity`: \\`\n",
        "\n",
        "$$ \\text{Gini}(D) = 1 - \\sum_{k=1}^K p_k^2 $$ where $p_k$ is the proportion of class $k$ in the node, and $K$ is the number of classes.\n",
        "\n",
        "-   The split that minimizes the weighted average impurity across child nodes is chosen:\n",
        "\n",
        "$$ \\text{Gini}_{\\text{split}} = \\sum_{m=1}^M \\frac{N_m}{N} \\text{Gini}(D_m) $$ where $N_m$ is the number of samples in child node $m$, and $M$ is the number of child nodes (usually 2 for binary splits).\n",
        "\n",
        "-   For `regression`, \\` - The tree minimizes the mean squared error (MSE) in each node:\n",
        "\n",
        "$$ \\text{MSE}(D) = \\frac{1}{N} \\sum_{i=1}^N (y_i - \\bar{y})^2 $$ where $\\bar{y}$ is the mean target value in the node.\n",
        "\n",
        "-   Splits minimize the weighted average MSE across child nodes.\n",
        "\n",
        "3. Aggregation\n",
        "\n",
        "-   For `classification`: Combine predictions from all trees using majority voting.\n",
        "\n",
        "-   For **regression**: Average the predictions from all trees.\n",
        "\n",
        "-   Combine predictions from all $B$) trees to produce the final output.\n",
        "\n",
        "-   For `classification`, each tree $T_b$) predicts a class $\\hat{y}_b(x)$ for input $x$.\n",
        "\n",
        "-   The final prediction is the majority vote:\n",
        "\n",
        "$$ \\hat{y}(x) = \\text{mode} \\left( \\hat{y}_1(x), \\hat{y}_2(x), \\dots, \\hat{y}_B(x) \\right) $$\n",
        "\n",
        "-   Alternatively, compute class probabilities by averaging the proportion of votes for each class:\n",
        "\n",
        "$$ P(\\text{class } k | x) = \\frac{1}{B} \\sum_{b=1}^B I(\\hat{y}_b(x) = k) $$\n",
        "\n",
        "where $I$ is the indicator function.\n",
        "\n",
        "-   For regression:\n",
        "\n",
        "    -   Each tree $T_b$ predicts a continuous value $\\hat{y}_b(x)$.\n",
        "    -   The final prediction is the average:\n",
        "\n",
        "$$ \\hat{y}(x) = \\frac{1}{B} \\sum_{b=1}^B \\hat{y}_b(x) $$\n",
        "\n",
        "-   Bagging reduces variance by averaging predictions. Suppose the variance of a single tree’s prediction is $\\text{Var}(\\hat{y}_b(x)) = \\sigma^2$, and the correlation between trees is $\\rho$.\n",
        "-   The variance of the bagged prediction (for regression) is:\n",
        "\n",
        "$$ \\text{Var}(\\hat{y}(x)) = \\rho \\sigma^2 + \\frac{1 - \\rho}{B} \\sigma^2 $$\n",
        "\n",
        "-   As $B \\to \\infty$, the second term vanishes, and the variance approaches $\\rho \\sigma^2$.\n",
        "-   Since $rho < 1$ (trees are less correlated due to bootstrap sampling), bagging reduces variance compared to a single tree.\n",
        "\n",
        "4. Prediction\n",
        "\n",
        "-   Use the aggregated prediction as the final output for new, unseen data.\n",
        "-   For a new input $x$, pass it through all $B$ trees and compute the aggregated prediction (majority vote for classification, average for regression).\n",
        "-   The final model is robust because it averages out errors and noise captured by individual trees.\n"
      ],
      "metadata": {
        "id": "Vn-U0DinTuIv"
      }
    },
    {
      "cell_type": "markdown",
      "source": [
        "Here below is a flowchart illustrating the Bagging Decision Trees workflow:\n",
        "\n",
        "\n",
        "![alt text](http://drive.google.com/uc?export=view&id=1BVwNxUCoPlvVOsxdUJ3YZIZQ1VcovfN8)\n",
        "\n",
        "\n",
        "\n"
      ],
      "metadata": {
        "id": "uWCTcHkzvHE2"
      }
    },
    {
      "cell_type": "markdown",
      "source": [
        "### Limitations\n",
        "\n",
        "1.  `Computational Cost`: Training $B$ trees requires more computation than a single tree.\n",
        "2.  `Interpretability`: A bagged model is less interpretable than a single decision tree.\n",
        "3.  `Correlation Between Trees`: If bootstrap samples are too similar (e.g., due to a small dataset), trees may be correlated, reducing the effectiveness of variance reduction.\n"
      ],
      "metadata": {
        "id": "66U1ohXZv5Ps"
      }
    },
    {
      "cell_type": "markdown",
      "source": [
        "## Setup R in Python Runtype"
      ],
      "metadata": {
        "id": "CyOope_pwUVr"
      }
    },
    {
      "cell_type": "markdown",
      "source": [
        "### Install {rpy2}\n",
        "\n",
        "{rpy2} is a Python package that provides an interface to the R programming language, allowing Python users to run R code, call R functions, and manipulate R objects directly from Python. It enables seamless integration between Python and R, leveraging R's statistical and graphical capabilities while using Python's flexibility. The package supports passing data between the two languages and is widely used for statistical analysis, data visualization, and machine learning tasks that benefit from R's specialized libraries."
      ],
      "metadata": {
        "id": "SDp3ULld8Gb9"
      }
    },
    {
      "cell_type": "code",
      "source": [
        "!pip uninstall rpy2 -y\n",
        "!pip install rpy2==3.5.1\n",
        "%load_ext rpy2.ipython"
      ],
      "metadata": {
        "id": "CiM6y-Mw8AJp",
        "colab": {
          "base_uri": "https://localhost:8080/"
        },
        "outputId": "918b00f0-b08e-430c-a172-4539de937feb"
      },
      "execution_count": 1,
      "outputs": [
        {
          "output_type": "stream",
          "name": "stdout",
          "text": [
            "Found existing installation: rpy2 3.5.17\n",
            "Uninstalling rpy2-3.5.17:\n",
            "  Successfully uninstalled rpy2-3.5.17\n",
            "Collecting rpy2==3.5.1\n",
            "  Downloading rpy2-3.5.1.tar.gz (201 kB)\n",
            "\u001b[2K     \u001b[90m━━━━━━━━━━━━━━━━━━━━━━━━━━━━━━━━━━━━━━━\u001b[0m \u001b[32m201.7/201.7 kB\u001b[0m \u001b[31m5.9 MB/s\u001b[0m eta \u001b[36m0:00:00\u001b[0m\n",
            "\u001b[?25h  Preparing metadata (setup.py) ... \u001b[?25l\u001b[?25hdone\n",
            "Requirement already satisfied: cffi>=1.10.0 in /usr/local/lib/python3.11/dist-packages (from rpy2==3.5.1) (1.17.1)\n",
            "Requirement already satisfied: jinja2 in /usr/local/lib/python3.11/dist-packages (from rpy2==3.5.1) (3.1.6)\n",
            "Requirement already satisfied: pytz in /usr/local/lib/python3.11/dist-packages (from rpy2==3.5.1) (2025.2)\n",
            "Requirement already satisfied: tzlocal in /usr/local/lib/python3.11/dist-packages (from rpy2==3.5.1) (5.3.1)\n",
            "Requirement already satisfied: pycparser in /usr/local/lib/python3.11/dist-packages (from cffi>=1.10.0->rpy2==3.5.1) (2.22)\n",
            "Requirement already satisfied: MarkupSafe>=2.0 in /usr/local/lib/python3.11/dist-packages (from jinja2->rpy2==3.5.1) (3.0.2)\n",
            "Building wheels for collected packages: rpy2\n",
            "  Building wheel for rpy2 (setup.py) ... \u001b[?25l\u001b[?25hdone\n",
            "  Created wheel for rpy2: filename=rpy2-3.5.1-cp311-cp311-linux_x86_64.whl size=314981 sha256=2c18a03c37784022f418b962f73e5561299f885bed087c1fe22f4fbcc270a225\n",
            "  Stored in directory: /root/.cache/pip/wheels/e9/55/d1/47be85a5f3f1e1f4d1e91cb5e3a4dcb40dd72147f184c5a5ef\n",
            "Successfully built rpy2\n",
            "Installing collected packages: rpy2\n",
            "Successfully installed rpy2-3.5.1\n"
          ]
        }
      ]
    },
    {
      "cell_type": "markdown",
      "source": [
        "### Mount Google Drive"
      ],
      "metadata": {
        "id": "O1zeuaCowiBt"
      }
    },
    {
      "cell_type": "code",
      "source": [
        "from google.colab import drive\n",
        "drive.mount('/content/drive')"
      ],
      "metadata": {
        "colab": {
          "base_uri": "https://localhost:8080/"
        },
        "id": "9J-4ie4bwiJ1",
        "outputId": "1983cfbe-ed3c-4f38-9073-06e0c0a681ee"
      },
      "execution_count": 2,
      "outputs": [
        {
          "output_type": "stream",
          "name": "stdout",
          "text": [
            "Mounted at /content/drive\n"
          ]
        }
      ]
    },
    {
      "cell_type": "markdown",
      "source": [
        "## Bagging Decision Trees in R from Scratch\n",
        "\n",
        "Performing Bagging Decision Trees in R without external packages requires implementing the algorithm from scratch using base R functions. Below, I’ll provide a detailed explanation and R code to perform bagging for classification on the Iris dataset and regression on the Boston Housing dataset. Since we’re avoiding packages, we’ll use base R’s rpart functionality implicitly through manual tree-building logic, but we’ll construct the bagging process (bootstrap sampling, tree training, and aggregation) manually.\n"
      ],
      "metadata": {
        "id": "ztl1QBDb4MYe"
      }
    },
    {
      "cell_type": "markdown",
      "source": [
        "### Bootstrap Sampling: Generate random subsets of the data with replacement."
      ],
      "metadata": {
        "id": "n19h8v4gxIbd"
      }
    },
    {
      "cell_type": "code",
      "source": [
        "%%R\n",
        "# Set seed for reproducibility\n",
        "set.seed(123)\n",
        "\n",
        "# Bootstrap sampling function\n",
        "bootstrap_sample <- function(X, y) {\n",
        "  n <- nrow(X)\n",
        "  idx <- sample(1:n, size = n, replace = TRUE)\n",
        "  return(list(X = X[idx, ], y = y[idx]))\n",
        "}"
      ],
      "metadata": {
        "id": "3oboAS37BQgB"
      },
      "execution_count": 3,
      "outputs": []
    },
    {
      "cell_type": "markdown",
      "source": [
        "### Decision Tree Split Function\n",
        "\n",
        "Build simple decision trees on each bootstrap sample using a custom implementation. Find the best feature and threshold for splitting.\n",
        "\n",
        "The `simple_split()` R function finds the best feature and threshold to split data in a decision tree for classification or regression:\n",
        "\n",
        "- Feature matrix `X`, target `y`, task type (\"classification\" or \"regression\").\n",
        "-Classification: Maximizes information gain (reduces entropy).\n",
        "- Regression: Minimizes weighted child node variance.\n",
        "- Iterates over features and thresholds, evaluates splits, and skips invalid ones (<2 samples per side)."
      ],
      "metadata": {
        "id": "lP2lCzFHBUip"
      }
    },
    {
      "cell_type": "code",
      "source": [
        "%%R\n",
        "# Decision tree split function (handles classification and regression)\n",
        "simple_split <- function(X, y, task = \"classification\") {\n",
        "  n <- nrow(X)\n",
        "  best_score <- ifelse(task == \"classification\", 0, Inf)\n",
        "  best_feature <- NULL\n",
        "  best_threshold <- NULL\n",
        "\n",
        "  if (task == \"classification\") {\n",
        "    # Parent entropy for classification\n",
        "    parent_score <- -sum(table(y) / n * log2(table(y) / n + 1e-10))\n",
        "  } else {\n",
        "    # Parent variance for regression\n",
        "    parent_score <- var(y)\n",
        "  }\n",
        "\n",
        "  # Try each feature and threshold\n",
        "  for (feature in 1:ncol(X)) {\n",
        "    values <- sort(unique(X[, feature]))\n",
        "    thresholds <- (values[-length(values)] + values[-1]) / 2\n",
        "\n",
        "    for (threshold in thresholds) {\n",
        "      left_idx <- X[, feature] <= threshold\n",
        "      right_idx <- !left_idx\n",
        "\n",
        "      if (sum(left_idx) < 2 || sum(right_idx) < 2) next\n",
        "\n",
        "      if (task == \"classification\") {\n",
        "        # Entropy for classification\n",
        "        left_y <- y[left_idx]\n",
        "        right_y <- y[right_idx]\n",
        "        left_entropy <- -sum(table(left_y) / sum(left_idx) * log2(table(left_y) / sum(left_idx) + 1e-10))\n",
        "        right_entropy <- -sum(table(right_y) / sum(right_idx) * log2(table(right_y) / sum(right_idx) + 1e-10))\n",
        "        score <- parent_score - (sum(left_idx) / n * left_entropy + sum(right_idx) / n * right_entropy)\n",
        "      } else {\n",
        "        # Variance for regression\n",
        "        left_y <- y[left_idx]\n",
        "        right_y <- y[right_idx]\n",
        "        score <- var(left_y) * sum(left_idx) / n + var(right_y) * sum(right_idx) / n\n",
        "      }\n",
        "\n",
        "      # Update best split\n",
        "      if ((task == \"classification\" && score > best_score) ||\n",
        "          (task == \"regression\" && score < best_score)) {\n",
        "        best_score <- score\n",
        "        best_feature <- feature\n",
        "        best_threshold <- threshold\n",
        "      }\n",
        "    }\n",
        "  }\n",
        "\n",
        "  return(list(feature = best_feature, threshold = best_threshold))\n",
        "}"
      ],
      "metadata": {
        "id": "aTjVIV5ZBW96"
      },
      "execution_count": 4,
      "outputs": []
    },
    {
      "cell_type": "markdown",
      "source": [
        "### Aggregation: Combine predictions via majority voting (classification) or averaging (regression).\n",
        "\n",
        "- `predict_tree()`: Predicts using a single tree. Returns leaf `value` if no split; else assigns `left_value` or `right_value` based on `feature` and `threshold`.\n",
        "- `bagging_train()`: Trains `B` trees on bootstrap samples. Each tree stores split (`feature`, `threshold`, `left_value`, `right_value`) or leaf `value` (majority class or mean).\n",
        "- `bagging_predict()`: Predicts with all trees. Aggregates by majority voting (classification) or averaging (regression).\n",
        "- `evaluate_model()`**: Computes accuracy (classification) or MSE (regression), prints, and returns metric.\n",
        "- `run_bagging()`: Runs bagging: trains `B` trees, predicts on training data, evaluates performance.\n"
      ],
      "metadata": {
        "id": "fwIhiSZNCO9N"
      }
    },
    {
      "cell_type": "code",
      "source": [
        "%%R\n",
        "# Predict with a single tree\n",
        "predict_tree <- function(X, tree, task = \"classification\") {\n",
        "  if (is.null(tree$feature)) return(tree$value)\n",
        "  feature <- tree$feature\n",
        "  threshold <- tree$threshold\n",
        "  predictions <- rep(NA, nrow(X))\n",
        "\n",
        "  for (i in 1:nrow(X)) {\n",
        "    if (X[i, feature] <= threshold) {\n",
        "      predictions[i] <- tree$left_value\n",
        "    } else {\n",
        "      predictions[i] <- tree$right_value\n",
        "    }\n",
        "  }\n",
        "  return(predictions)\n",
        "}\n",
        "\n",
        "# Bagging training function\n",
        "bagging_train <- function(X, y, B = 10, task = \"classification\") {\n",
        "  n <- nrow(X)\n",
        "  trees <- list()\n",
        "\n",
        "  for (b in 1:B) {\n",
        "    # Bootstrap sample\n",
        "    sample_data <- bootstrap_sample(X, y)\n",
        "    X_b <- sample_data$X\n",
        "    y_b <- sample_data$y\n",
        "\n",
        "    # Find best split\n",
        "    split <- simple_split(X_b, y_b, task)\n",
        "\n",
        "    if (is.null(split$feature)) {\n",
        "      # No valid split: use majority class (classification) or mean (regression)\n",
        "      trees[[b]] <- list(value = ifelse(task == \"classification\",\n",
        "                                       names(sort(table(y_b), decreasing = TRUE))[1],\n",
        "                                       mean(y_b)))\n",
        "    } else {\n",
        "      # Create left and right nodes\n",
        "      left_idx <- X_b[, split$feature] <= split$threshold\n",
        "      right_idx <- !left_idx\n",
        "      left_value <- ifelse(task == \"classification\",\n",
        "                          names(sort(table(y_b[left_idx]), decreasing = TRUE))[1],\n",
        "                          mean(y_b[left_idx]))\n",
        "      right_value <- ifelse(task == \"classification\",\n",
        "                           names(sort(table(y_b[right_idx]), decreasing = TRUE))[1],\n",
        "                           mean(y_b[right_idx]))\n",
        "\n",
        "      trees[[b]] <- list(\n",
        "        feature = split$feature,\n",
        "        threshold = split$threshold,\n",
        "        left_value = left_value,\n",
        "        right_value = right_value\n",
        "      )\n",
        "    }\n",
        "  }\n",
        "\n",
        "  return(trees)\n",
        "}\n",
        "\n",
        "# Bagging prediction function\n",
        "bagging_predict <- function(X, trees, task = \"classification\") {\n",
        "  n <- nrow(X)\n",
        "  predictions <- matrix(NA, nrow = n, ncol = length(trees))\n",
        "\n",
        "  # Get predictions from each tree\n",
        "  for (b in 1:length(trees)) {\n",
        "    predictions[, b] <- predict_tree(X, trees[[b]], task)\n",
        "  }\n",
        "\n",
        "  # Aggregate predictions\n",
        "  if (task == \"classification\") {\n",
        "    # Majority voting\n",
        "    final_predictions <- apply(predictions, 1, function(row) {\n",
        "      names(sort(table(row), decreasing = TRUE))[1]\n",
        "    })\n",
        "  } else {\n",
        "    # Average for regression\n",
        "    final_predictions <- rowMeans(predictions)\n",
        "  }\n",
        "\n",
        "  return(final_predictions)\n",
        "}\n",
        "\n",
        "# Evaluate function\n",
        "evaluate_model <- function(y_true, y_pred, task = \"classification\") {\n",
        "  if (task == \"classification\") {\n",
        "    accuracy <- mean(y_true == y_pred)\n",
        "    cat(\"Accuracy:\", accuracy, \"\\n\")\n",
        "    return(accuracy)\n",
        "  } else {\n",
        "    mse <- mean((y_true - y_pred)^2)\n",
        "    cat(\"Mean Squared Error:\", mse, \"\\n\")\n",
        "    return(mse)\n",
        "  }\n",
        "}\n",
        "\n",
        "# Main function to run bagging\n",
        "run_bagging <- function(X, y, dataset_name, B = 10, task = \"classification\") {\n",
        "  cat(\"Running Bagging on\", dataset_name, \"\\n\")\n",
        "\n",
        "  # Train model\n",
        "  trees <- bagging_train(X, y, B, task)\n",
        "\n",
        "  # Predict on training data (for simplicity)\n",
        "  predictions <- bagging_predict(X, trees, task)\n",
        "\n",
        "  # Evaluate\n",
        "  evaluate_model(y, predictions, task)\n",
        "}"
      ],
      "metadata": {
        "id": "vYPiX59GCiTY"
      },
      "execution_count": 5,
      "outputs": []
    },
    {
      "cell_type": "markdown",
      "source": [
        "### Example Usage- Classification"
      ],
      "metadata": {
        "id": "8aFvX9PX6t7N"
      }
    },
    {
      "cell_type": "code",
      "source": [
        "%%R\n",
        "# Load and prepare Iris data for classification\n",
        "data(iris)\n",
        "X_iris <- iris[, 1:4]\n",
        "y_iris <- iris[, 5]\n",
        "# Run bagging\n",
        "run_bagging(X_iris, y_iris, \"Iris\", B = 10, task = \"classification\")"
      ],
      "metadata": {
        "colab": {
          "base_uri": "https://localhost:8080/"
        },
        "id": "xmfaf4Uh7S7F",
        "outputId": "44065ae9-fa8c-4fd4-aaf6-b02fdb55efc1"
      },
      "execution_count": 6,
      "outputs": [
        {
          "output_type": "stream",
          "name": "stdout",
          "text": [
            "Running Bagging on Iris \n",
            "Accuracy: 0.6666667 \n",
            "[1] 0.6666667\n"
          ]
        }
      ]
    },
    {
      "cell_type": "markdown",
      "source": [
        "### Example Usage- Regression\n",
        "\n"
      ],
      "metadata": {
        "id": "VPJv1wf3xLmp"
      }
    },
    {
      "cell_type": "code",
      "source": [
        "%%R\n",
        "# Load and prepare Boston Housing data\n",
        "data(Boston, package = \"MASS\")\n",
        "X_boston <- Boston[, 1:13]\n",
        "y_boston <- Boston[, 14]\n",
        "# Run bagging\n",
        "run_bagging(X_boston, y_boston, \"Boston Housing\", B = 10, task = \"regression\")"
      ],
      "metadata": {
        "colab": {
          "base_uri": "https://localhost:8080/"
        },
        "id": "aSuBBDLKDHML",
        "outputId": "09df037e-67d8-41c9-842f-15c0ea04ef4f"
      },
      "execution_count": 7,
      "outputs": [
        {
          "output_type": "stream",
          "name": "stdout",
          "text": [
            "Running Bagging on Boston Housing \n",
            "Mean Squared Error: 36.37643 \n",
            "[1] 36.37643\n"
          ]
        }
      ]
    },
    {
      "cell_type": "markdown",
      "source": [
        "## Bagging Decision Trees in R with {ipred} package\n",
        "\n",
        "This section demonstrates how to implement Bagging Decision Trees in R using the {ipred} package (Improved Predictors), which provides a convenient way to perform bagging for classification and regression tasks. The {ipred} package simplifies the process of building bagged decision trees and provides built-in functions for training and prediction.\n",
        "\n",
        "Below are key functions, based on their importance and usage:\n",
        "\n",
        "- `bagging()`: Builds bagged classification, regression, or survival trees using `rpart`. It supports bootstrap aggregation with options for out-of-bag error estimation (`coob=TRUE`) and double-bagging with additional predictors (e.g., LDA).\n",
        "\n",
        "- `predict.bagging()`: Generates predictions from a bagging model for new data, aggregating results across trees.\n",
        "\n",
        "- `inclass()`: Performs indirect classification by modeling intermediate variables to predict the response, useful for complex relationships.\n",
        "\n",
        "- `inbagg()`: Combines indirect classification with bagging, enhancing prediction by aggregating trees built on intermediate variables.\n",
        "\n",
        "- `errorest()`: Estimates prediction error using resampling methods like cross-validation or bootstrap (e.g., \".632+ estimator\").\n",
        "\n",
        "- `ipredknn()`: Implements k-nearest neighbor classification compatible with formula-based modeling.\n",
        "\n",
        "- `predict.ipredknn()`: Predicts class or probabilities for new data using a fitted k-NN model.\n",
        "\n",
        "- `cv()`: Performs cross-validated error estimation for various models.\n",
        "\n",
        "- `bootest()`: Computes bootstrap-based error rate estimates for different response types (factor, numeric, survival).\n",
        "\n",
        "- `control.errorest`: Customizes settings for error estimation in resampling methods.\n",
        "\n",
        "- `kfoldcv()`: Generates subsamples for k-fold cross-validation.\n",
        "\n",
        "- `mypredict.lm()`, `mypredict.rpart()`, `mypredict.lda()`: Helper functions for predictions from linear models, decision trees, and LDA, respectively, used in pipelines or custom workflows.\n",
        "\n"
      ],
      "metadata": {
        "id": "sZM4h2ad5q78"
      }
    },
    {
      "cell_type": "markdown",
      "source": [
        "### Check amd Install Required R Packages\n",
        "\n",
        "Following R packages are required to run this notebook. If any of these packages are not installed, you can install them using the code below:"
      ],
      "metadata": {
        "id": "yXu-XY0mw1A8"
      }
    },
    {
      "cell_type": "code",
      "source": [
        "%%R\n",
        "packages <- c('tidyverse',\n",
        "              'plyr',\n",
        "              'rpart',\n",
        "              'rpart.plot',\n",
        "              'partykit',\n",
        "              'mlbench',\n",
        "              'ggparty',\n",
        "              'ipred'\n",
        "         )\n"
      ],
      "metadata": {
        "id": "TeYB57l0wz5N"
      },
      "execution_count": 8,
      "outputs": []
    },
    {
      "cell_type": "markdown",
      "source": [
        "#### Install Missing Packages"
      ],
      "metadata": {
        "id": "q7NH-51RYeIk"
      }
    },
    {
      "cell_type": "code",
      "source": [
        "%%R\n",
        "# Install missing packages\n",
        "new.packages <- packages[!(packages %in% installed.packages(lib='drive/My Drive/R/')[,\"Package\"])]\n",
        "if(length(new.packages)) install.packages(new.packages, lib='drive/My Drive/R/')"
      ],
      "metadata": {
        "id": "a0aTMYTHAraZ"
      },
      "execution_count": null,
      "outputs": []
    },
    {
      "cell_type": "markdown",
      "source": [
        "#### Verify Installation"
      ],
      "metadata": {
        "id": "Ah43eXWcYfpA"
      }
    },
    {
      "cell_type": "code",
      "source": [
        "%%R\n",
        "# set library path\n",
        ".libPaths('drive/My Drive/R')\n",
        "# Verify installation\n",
        "cat(\"Installed packages:\\n\")\n",
        "print(sapply(packages, requireNamespace, quietly = TRUE))"
      ],
      "metadata": {
        "colab": {
          "base_uri": "https://localhost:8080/"
        },
        "id": "R9hpg7qnArfh",
        "outputId": "42cd061e-0eed-481d-f7e9-bed331110577"
      },
      "execution_count": 9,
      "outputs": [
        {
          "output_type": "stream",
          "name": "stdout",
          "text": [
            "Installed packages:\n",
            " tidyverse       plyr      rpart rpart.plot   partykit    mlbench    ggparty \n",
            "      TRUE       TRUE       TRUE       TRUE       TRUE       TRUE       TRUE \n",
            "     ipred \n",
            "      TRUE \n"
          ]
        }
      ]
    },
    {
      "cell_type": "markdown",
      "source": [
        "### Load R Packages"
      ],
      "metadata": {
        "id": "MV7R29xfyWQz"
      }
    },
    {
      "cell_type": "code",
      "source": [
        "%%R\n",
        "# set library path\n",
        ".libPaths('drive/My Drive/R')\n",
        "# Load packages with suppressed messages\n",
        "invisible(lapply(packages, function(pkg) {\n",
        "  suppressPackageStartupMessages(library(pkg, character.only = TRUE))\n",
        "}))\n",
        "\n"
      ],
      "metadata": {
        "id": "232jNAHBykUL"
      },
      "execution_count": 10,
      "outputs": []
    },
    {
      "cell_type": "markdown",
      "source": [
        "#### Check Loaded Packages"
      ],
      "metadata": {
        "id": "ULxgK067YntF"
      }
    },
    {
      "cell_type": "code",
      "source": [
        "%%R\n",
        "# Check loaded packages\n",
        "cat(\"Successfully loaded packages:\\n\")\n",
        "print(search()[grepl(\"package:\", search())])# Check loaded packageswer)"
      ],
      "metadata": {
        "colab": {
          "base_uri": "https://localhost:8080/"
        },
        "id": "mcAOZzmSYk4n",
        "outputId": "9764020f-10ed-498f-c959-b43d11a3e272"
      },
      "execution_count": 11,
      "outputs": [
        {
          "output_type": "stream",
          "name": "stdout",
          "text": [
            "Successfully loaded packages:\n",
            " [1] \"package:ipred\"      \"package:ggparty\"    \"package:mlbench\"   \n",
            " [4] \"package:partykit\"   \"package:mvtnorm\"    \"package:libcoin\"   \n",
            " [7] \"package:grid\"       \"package:rpart.plot\" \"package:rpart\"     \n",
            "[10] \"package:plyr\"       \"package:lubridate\"  \"package:forcats\"   \n",
            "[13] \"package:stringr\"    \"package:dplyr\"      \"package:purrr\"     \n",
            "[16] \"package:readr\"      \"package:tidyr\"      \"package:tibble\"    \n",
            "[19] \"package:ggplot2\"    \"package:tidyverse\"  \"package:tools\"     \n",
            "[22] \"package:stats\"      \"package:graphics\"   \"package:grDevices\" \n",
            "[25] \"package:utils\"      \"package:datasets\"   \"package:methods\"   \n",
            "[28] \"package:base\"      \n"
          ]
        }
      ]
    },
    {
      "cell_type": "markdown",
      "source": [
        "### Classifiaction Probelem\n",
        "\n",
        "In this section, we will implement a Bagged Tree model for classification using the {ipred} package in R."
      ],
      "metadata": {
        "id": "kNk2gZi88J6Q"
      }
    },
    {
      "cell_type": "markdown",
      "source": [
        "#### Data\n",
        "\n",
        "We will `iris` dataset for this example. The `iris` dataset is a classic dataset in machine learning and statistics, containing measurements of various features of iris flowers. It has three classes of iris species: Setosa, Versicolor, and Virginica.\n"
      ],
      "metadata": {
        "id": "rSJqB05rO5ES"
      }
    },
    {
      "cell_type": "code",
      "execution_count": 12,
      "metadata": {
        "id": "CFpt_H01OPsa"
      },
      "outputs": [],
      "source": [
        "%%R\n",
        "# Load and prepare Iris data\n",
        "data(iris)\n",
        "iris$Species <- as.factor(iris$Species)\n",
        "set.seed(123)\n",
        "# Split the data into training and testing sets\n",
        "train_idx <- sample(1:nrow(iris), 0.7 * nrow(iris))\n",
        "train_data <- iris[train_idx, ]\n",
        "test_data <- iris[-train_idx, ]"
      ]
    },
    {
      "cell_type": "markdown",
      "source": [
        "####  Fit Bagged Tree Model\n",
        "\n",
        "The `bagging()` function in the {ipred} package is used to implement Bagging (Bootstrap Aggregating) for classification or regression tasks. It builds an ensemble of decision trees by training each tree on a bootstrap sample of the data and aggregating their predictions. Below, I outline the main components of the `bagging()` function, focusing on its key arguments, internal mechanics, and outputs, based on its implementation in the {ipred} package.\n",
        "\n",
        "\n",
        "The `bagging()` function in R’s {ipred} package builds a bagged decision tree ensemble. Its main components are:\n",
        "\n",
        "   - `formula`: Model specification (e.g., `y ~ .`).\n",
        "   - `data`: Training dataset.\n",
        "   - `nbagg`: Number of trees (default: 25).\n",
        "   - `coob`: Logical for out-of-bag (OOB) error (default: FALSE).\n",
        "   - `control`: `rpart` parameters (e.g., `cp`, `minsplit`).\n",
        "   - `ns`: Bootstrap sample size (default: nrow(data)).\n",
        "   - `keepX`: Keep predictors in output (default: TRUE).\n"
      ],
      "metadata": {
        "id": "Vh_4nTSOBPbT"
      }
    },
    {
      "cell_type": "code",
      "source": [
        "%%R\n",
        "bagged_model <- bagging(Species ~ .,\n",
        "                        data = train_data,\n",
        "                        method = \"class\",\n",
        "                        nbagg= 100,\n",
        "                        coob = TRUE,\n",
        "                        control = rpart.control(minsplit = 5, cp = 0.01))\n",
        "\n",
        "#view results\n",
        "bagged_model"
      ],
      "metadata": {
        "id": "oQz_eHAmBR-U",
        "colab": {
          "base_uri": "https://localhost:8080/"
        },
        "outputId": "ef067196-4bb5-4341-c2f6-eb547f27ef32"
      },
      "execution_count": 13,
      "outputs": [
        {
          "output_type": "stream",
          "name": "stdout",
          "text": [
            "\n",
            "Bagging classification trees with 100 bootstrap replications \n",
            "\n",
            "Call: bagging.data.frame(formula = Species ~ ., data = train_data, \n",
            "    method = \"class\", nbagg = 100, coob = TRUE, control = rpart.control(minsplit = 5, \n",
            "        cp = 0.01))\n",
            "\n",
            "Out-of-bag estimate of misclassification error:  0.0476 \n",
            "\n"
          ]
        }
      ]
    },
    {
      "cell_type": "markdown",
      "source": [
        "#### Pruning\n",
        "\n",
        "Bagging typically does not involve post-pruning individual trees, as the aggregation of many trees reduces overfitting. However, the `rpart.control(0`) parameters (e.g., `cp`) in the `bagging()` call control tree complexity during fitting. To inspect or adjust pruning for an individual tree, you can extract a tree from the ensemble"
      ],
      "metadata": {
        "id": "kK6jj2ZtBcNP"
      }
    },
    {
      "cell_type": "code",
      "source": [
        "%%R\n",
        "# Extract the first tree from the bagging ensemble\n",
        "single_tree <- bagged_model$mtrees[[1]]$btree\n",
        "\n",
        "# Check the complexity parameter table for pruning\n",
        "printcp(single_tree)\n",
        "\n",
        "# Prune the tree (optional, based on cp value with lowest xerror)\n",
        "opt_cp <- single_tree$cptable[which.min(single_tree$cptable[, \"xerror\"]), \"CP\"]\n",
        "pruned_tree <- prune(single_tree, cp = opt_cp)\n",
        "\n",
        "# View pruned tree summary\n",
        "summary(pruned_tree)"
      ],
      "metadata": {
        "id": "TuIIZ-40BdCf",
        "colab": {
          "base_uri": "https://localhost:8080/"
        },
        "outputId": "b6468c38-affa-47c4-8bdb-a8c2e28669e7"
      },
      "execution_count": 14,
      "outputs": [
        {
          "output_type": "stream",
          "name": "stdout",
          "text": [
            "\n",
            "Classification tree:\n",
            "rpart(formula = y ~ ., data = list(c(1, 2, 1, 1, 1, 1, 2, 2, \n",
            "1, 2, 3, 3, 3, 2, 3, 2, 3, 1, 1, 3, 3, 3, 3, 3, 1, 2, 1, 3, 3, \n",
            "2, 3, 3, 1, 1, 3, 3, 2, 3, 2, 3, 1, 3, 2, 1, 2, 1, 3, 1, 3, 1, \n",
            "2, 3, 3, 3, 2, 1, 1, 1, 1, 2, 3, 1, 1, 3, 1, 1, 1, 1, 2, 3, 3, \n",
            "3, 2, 3, 3, 2, 2, 1, 1, 3, 2, 1, 2, 3, 3, 3, 1, 3, 3, 1, 3, 2, \n",
            "3, 3, 2, 1, 1, 2, 2, 2, 3, 3, 1, 1, 3), c(5.4, 6.1, 4.6, 4.4, \n",
            "5, 5.5, 5.5, 6, 4.4, 6.2, 5.6, 6.5, 6, 5.2, 4.9, 5.5, 6.3, 4.9, \n",
            "5.7, 6.5, 6.9, 5.8, 7.2, 6.4, 4.4, 6.7, 4.8, 5.9, 7.7, 5.5, 6.8, \n",
            "5.8, 5.5, 4.8, 6.3, 6.4, 5.2, 6.5, 6.4, 7.9, 5.1, 6.9, 5.5, 4.8, \n",
            "5.4, 4.8, 6.3, 5.8, 6.3, 4.8, 6.4, 5.6, 6.7, 4.9, 5.5, 4.8, 5, \n",
            "4.8, 5, 6.1, 6.7, 4.8, 4.6, 6.7, 5, 4.9, 4.8, 5.1, 6.1, 6.4, \n",
            "7.9, 5.8, 5.6, 6.3, 7.7, 5.5, 5.7, 5, 5, 6.9, 7, 4.6, 6.3, 6.9, \n",
            "6.4, 7.6, 4.6, 5.8, 7.9, 5.5, 6, 5.2, 6, 6.4, 5.7, 5.4, 5.4, \n",
            "6, 6.2, 5.4, 4.9, 7.2, 5.5, 4.9, 7.2), c(3.9, 2.9, 3.6, 2.9, \n",
            "3.5, 3.5, 2.5, 3.4, 2.9, 2.2, 2.8, 3, 3, 2.7, 2.5, 2.4, 2.8, \n",
            "3.6, 4.4, 3, 3.2, 2.8, 3.2, 2.7, 3.2, 3.1, 3, 3, 3, 2.6, 3.2, \n",
            "2.8, 3.5, 3, 2.5, 3.1, 2.7, 3, 3.2, 3.8, 3.3, 3.1, 2.4, 3, 3, \n",
            "3.1, 2.7, 4, 2.7, 3.1, 3.2, 2.8, 3, 2.5, 2.4, 3, 3.3, 3.4, 3.3, \n",
            "2.8, 2.5, 3.4, 3.1, 3, 3.3, 3.6, 3.1, 3.4, 2.8, 3.1, 3.8, 2.7, \n",
            "3, 2.8, 2.8, 2.3, 3, 3.5, 3.5, 3.2, 3.2, 3.1, 2.5, 3.1, 2.7, \n",
            "3, 3.1, 2.7, 3.8, 4.2, 3, 2.7, 3, 2.8, 3, 3.9, 3.4, 2.2, 2.2, \n",
            "3, 2.5, 3, 4.2, 3.6, 3.2), c(1.7, 4.7, 1, 1.4, 1.3, 1.3, 4, 4.5, \n",
            "1.4, 4.5, 4.9, 5.2, 4.8, 3.9, 4.5, 3.8, 5.1, 1.4, 1.5, 5.5, 5.7, \n",
            "5.1, 6, 5.3, 1.3, 4.7, 1.4, 5.1, 6.1, 4.4, 5.9, 5.1, 1.3, 1.4, \n",
            "5, 5.5, 3.9, 5.2, 4.5, 6.4, 1.7, 5.1, 3.8, 1.4, 4.5, 1.6, 4.9, \n",
            "1.2, 4.9, 1.6, 4.5, 4.9, 5.2, 4.5, 3.8, 1.4, 1.4, 1.9, 1.4, 4, \n",
            "5.8, 1.9, 1.5, 5.2, 1.4, 1.4, 1.6, 1.5, 4, 5.5, 6.4, 5.1, 4.1, \n",
            "5.1, 6.7, 4, 4.2, 1.6, 1.6, 5.7, 4.7, 1.5, 4.9, 5.1, 5.3, 6.6, \n",
            "1.5, 5.1, 6.4, 1.4, 4.8, 3.9, 4.8, 5.6, 4.2, 1.3, 1.5, 4, 4.5, \n",
            "4.5, 4.5, 5.8, 1.4, 1.4, 6), c(0.4, 1.4, 0.2, 0.2, 0.3, 0.2, \n",
            "1.3, 1.6, 0.2, 1.5, 2, 2, 1.8, 1.4, 1.7, 1.1, 1.5, 0.1, 0.4, \n",
            "1.8, 2.3, 2.4, 1.8, 1.9, 0.2, 1.5, 0.3, 1.8, 2.3, 1.2, 2.3, 2.4, \n",
            "0.2, 0.1, 1.9, 1.8, 1.4, 2, 1.5, 2, 0.5, 2.3, 1.1, 0.1, 1.5, \n",
            "0.2, 1.8, 0.2, 1.8, 0.2, 1.5, 2, 2.3, 1.7, 1.1, 0.3, 0.2, 0.2, \n",
            "0.2, 1.3, 1.8, 0.2, 0.2, 2.3, 0.2, 0.1, 0.2, 0.2, 1.3, 1.8, 2, \n",
            "1.9, 1.3, 1.5, 2, 1.3, 1.2, 0.6, 0.6, 2.3, 1.4, 0.2, 1.5, 2.3, \n",
            "1.9, 2.1, 0.2, 1.9, 2, 0.2, 1.8, 1.4, 1.8, 2.1, 1.2, 0.4, 0.4, \n",
            "1, 1.5, 1.5, 1.7, 1.6, 0.2, 0.1, 1.8)), control = control)\n",
            "\n",
            "Variables actually used in tree construction:\n",
            "[1] Petal.Length Petal.Width \n",
            "\n",
            "Root node error: 62/105 = 0.59048\n",
            "\n",
            "n= 105 \n",
            "\n",
            "        CP nsplit rel error   xerror     xstd\n",
            "1 0.580645      0  1.000000 1.000000 0.081273\n",
            "2 0.370968      1  0.419355 0.419355 0.071337\n",
            "3 0.048387      2  0.048387 0.096774 0.038362\n",
            "4 0.010000      3  0.000000 0.064516 0.031638\n",
            "Call:\n",
            "rpart(formula = y ~ ., data = list(c(1, 2, 1, 1, 1, 1, 2, 2, \n",
            "1, 2, 3, 3, 3, 2, 3, 2, 3, 1, 1, 3, 3, 3, 3, 3, 1, 2, 1, 3, 3, \n",
            "2, 3, 3, 1, 1, 3, 3, 2, 3, 2, 3, 1, 3, 2, 1, 2, 1, 3, 1, 3, 1, \n",
            "2, 3, 3, 3, 2, 1, 1, 1, 1, 2, 3, 1, 1, 3, 1, 1, 1, 1, 2, 3, 3, \n",
            "3, 2, 3, 3, 2, 2, 1, 1, 3, 2, 1, 2, 3, 3, 3, 1, 3, 3, 1, 3, 2, \n",
            "3, 3, 2, 1, 1, 2, 2, 2, 3, 3, 1, 1, 3), c(5.4, 6.1, 4.6, 4.4, \n",
            "5, 5.5, 5.5, 6, 4.4, 6.2, 5.6, 6.5, 6, 5.2, 4.9, 5.5, 6.3, 4.9, \n",
            "5.7, 6.5, 6.9, 5.8, 7.2, 6.4, 4.4, 6.7, 4.8, 5.9, 7.7, 5.5, 6.8, \n",
            "5.8, 5.5, 4.8, 6.3, 6.4, 5.2, 6.5, 6.4, 7.9, 5.1, 6.9, 5.5, 4.8, \n",
            "5.4, 4.8, 6.3, 5.8, 6.3, 4.8, 6.4, 5.6, 6.7, 4.9, 5.5, 4.8, 5, \n",
            "4.8, 5, 6.1, 6.7, 4.8, 4.6, 6.7, 5, 4.9, 4.8, 5.1, 6.1, 6.4, \n",
            "7.9, 5.8, 5.6, 6.3, 7.7, 5.5, 5.7, 5, 5, 6.9, 7, 4.6, 6.3, 6.9, \n",
            "6.4, 7.6, 4.6, 5.8, 7.9, 5.5, 6, 5.2, 6, 6.4, 5.7, 5.4, 5.4, \n",
            "6, 6.2, 5.4, 4.9, 7.2, 5.5, 4.9, 7.2), c(3.9, 2.9, 3.6, 2.9, \n",
            "3.5, 3.5, 2.5, 3.4, 2.9, 2.2, 2.8, 3, 3, 2.7, 2.5, 2.4, 2.8, \n",
            "3.6, 4.4, 3, 3.2, 2.8, 3.2, 2.7, 3.2, 3.1, 3, 3, 3, 2.6, 3.2, \n",
            "2.8, 3.5, 3, 2.5, 3.1, 2.7, 3, 3.2, 3.8, 3.3, 3.1, 2.4, 3, 3, \n",
            "3.1, 2.7, 4, 2.7, 3.1, 3.2, 2.8, 3, 2.5, 2.4, 3, 3.3, 3.4, 3.3, \n",
            "2.8, 2.5, 3.4, 3.1, 3, 3.3, 3.6, 3.1, 3.4, 2.8, 3.1, 3.8, 2.7, \n",
            "3, 2.8, 2.8, 2.3, 3, 3.5, 3.5, 3.2, 3.2, 3.1, 2.5, 3.1, 2.7, \n",
            "3, 3.1, 2.7, 3.8, 4.2, 3, 2.7, 3, 2.8, 3, 3.9, 3.4, 2.2, 2.2, \n",
            "3, 2.5, 3, 4.2, 3.6, 3.2), c(1.7, 4.7, 1, 1.4, 1.3, 1.3, 4, 4.5, \n",
            "1.4, 4.5, 4.9, 5.2, 4.8, 3.9, 4.5, 3.8, 5.1, 1.4, 1.5, 5.5, 5.7, \n",
            "5.1, 6, 5.3, 1.3, 4.7, 1.4, 5.1, 6.1, 4.4, 5.9, 5.1, 1.3, 1.4, \n",
            "5, 5.5, 3.9, 5.2, 4.5, 6.4, 1.7, 5.1, 3.8, 1.4, 4.5, 1.6, 4.9, \n",
            "1.2, 4.9, 1.6, 4.5, 4.9, 5.2, 4.5, 3.8, 1.4, 1.4, 1.9, 1.4, 4, \n",
            "5.8, 1.9, 1.5, 5.2, 1.4, 1.4, 1.6, 1.5, 4, 5.5, 6.4, 5.1, 4.1, \n",
            "5.1, 6.7, 4, 4.2, 1.6, 1.6, 5.7, 4.7, 1.5, 4.9, 5.1, 5.3, 6.6, \n",
            "1.5, 5.1, 6.4, 1.4, 4.8, 3.9, 4.8, 5.6, 4.2, 1.3, 1.5, 4, 4.5, \n",
            "4.5, 4.5, 5.8, 1.4, 1.4, 6), c(0.4, 1.4, 0.2, 0.2, 0.3, 0.2, \n",
            "1.3, 1.6, 0.2, 1.5, 2, 2, 1.8, 1.4, 1.7, 1.1, 1.5, 0.1, 0.4, \n",
            "1.8, 2.3, 2.4, 1.8, 1.9, 0.2, 1.5, 0.3, 1.8, 2.3, 1.2, 2.3, 2.4, \n",
            "0.2, 0.1, 1.9, 1.8, 1.4, 2, 1.5, 2, 0.5, 2.3, 1.1, 0.1, 1.5, \n",
            "0.2, 1.8, 0.2, 1.8, 0.2, 1.5, 2, 2.3, 1.7, 1.1, 0.3, 0.2, 0.2, \n",
            "0.2, 1.3, 1.8, 0.2, 0.2, 2.3, 0.2, 0.1, 0.2, 0.2, 1.3, 1.8, 2, \n",
            "1.9, 1.3, 1.5, 2, 1.3, 1.2, 0.6, 0.6, 2.3, 1.4, 0.2, 1.5, 2.3, \n",
            "1.9, 2.1, 0.2, 1.9, 2, 0.2, 1.8, 1.4, 1.8, 2.1, 1.2, 0.4, 0.4, \n",
            "1, 1.5, 1.5, 1.7, 1.6, 0.2, 0.1, 1.8)), control = control)\n",
            "  n= 105 \n",
            "\n",
            "         CP nsplit rel error     xerror       xstd\n",
            "1 0.5806452      0 1.0000000 1.00000000 0.08127252\n",
            "2 0.3709677      1 0.4193548 0.41935484 0.07133684\n",
            "3 0.0483871      2 0.0483871 0.09677419 0.03836250\n",
            "4 0.0100000      3 0.0000000 0.06451613 0.03163766\n",
            "\n",
            "Variable importance\n",
            " Petal.Width Petal.Length Sepal.Length  Sepal.Width \n",
            "          34           34           18           14 \n",
            "\n",
            "Node number 1: 105 observations,    complexity param=0.5806452\n",
            "  predicted class=virginica   expected loss=0.5904762  P(node) =1\n",
            "    class counts:    36    26    43\n",
            "   probabilities: 0.343 0.248 0.410 \n",
            "  left son=2 (36 obs) right son=3 (69 obs)\n",
            "  Primary splits:\n",
            "      Petal.Length < 2.85 to the left,  improve=36.20373, (0 missing)\n",
            "      Petal.Width  < 0.8  to the left,  improve=36.20373, (0 missing)\n",
            "      Sepal.Length < 5.55 to the left,  improve=22.48891, (0 missing)\n",
            "      Sepal.Width  < 3.25 to the right, improve=14.26479, (0 missing)\n",
            "  Surrogate splits:\n",
            "      Petal.Width  < 0.8  to the left,  agree=1.000, adj=1.000, (0 split)\n",
            "      Sepal.Length < 5.15 to the left,  agree=0.886, adj=0.667, (0 split)\n",
            "      Sepal.Width  < 3.25 to the right, agree=0.838, adj=0.528, (0 split)\n",
            "\n",
            "Node number 2: 36 observations\n",
            "  predicted class=setosa      expected loss=0  P(node) =0.3428571\n",
            "    class counts:    36     0     0\n",
            "   probabilities: 1.000 0.000 0.000 \n",
            "\n",
            "Node number 3: 69 observations,    complexity param=0.3709677\n",
            "  predicted class=virginica   expected loss=0.3768116  P(node) =0.6571429\n",
            "    class counts:     0    26    43\n",
            "   probabilities: 0.000 0.377 0.623 \n",
            "  left son=6 (29 obs) right son=7 (40 obs)\n",
            "  Primary splits:\n",
            "      Petal.Width  < 1.65 to the left,  improve=27.026490, (0 missing)\n",
            "      Petal.Length < 4.75 to the left,  improve=25.097430, (0 missing)\n",
            "      Sepal.Length < 6.25 to the left,  improve= 7.775545, (0 missing)\n",
            "      Sepal.Width  < 2.45 to the left,  improve= 6.050958, (0 missing)\n",
            "  Surrogate splits:\n",
            "      Petal.Length < 4.75 to the left,  agree=0.899, adj=0.759, (0 split)\n",
            "      Sepal.Length < 5.75 to the left,  agree=0.710, adj=0.310, (0 split)\n",
            "      Sepal.Width  < 2.45 to the left,  agree=0.681, adj=0.241, (0 split)\n",
            "\n",
            "Node number 6: 29 observations,    complexity param=0.0483871\n",
            "  predicted class=versicolor  expected loss=0.1034483  P(node) =0.2761905\n",
            "    class counts:     0    26     3\n",
            "   probabilities: 0.000 0.897 0.103 \n",
            "  left son=12 (26 obs) right son=13 (3 obs)\n",
            "  Primary splits:\n",
            "      Petal.Length < 5    to the left,  improve=5.3793100, (0 missing)\n",
            "      Sepal.Length < 6.25 to the left,  improve=1.6293100, (0 missing)\n",
            "      Petal.Width  < 1.45 to the left,  improve=0.8793103, (0 missing)\n",
            "      Sepal.Width  < 2.75 to the left,  improve=0.5043103, (0 missing)\n",
            "\n",
            "Node number 7: 40 observations\n",
            "  predicted class=virginica   expected loss=0  P(node) =0.3809524\n",
            "    class counts:     0     0    40\n",
            "   probabilities: 0.000 0.000 1.000 \n",
            "\n",
            "Node number 12: 26 observations\n",
            "  predicted class=versicolor  expected loss=0  P(node) =0.247619\n",
            "    class counts:     0    26     0\n",
            "   probabilities: 0.000 1.000 0.000 \n",
            "\n",
            "Node number 13: 3 observations\n",
            "  predicted class=virginica   expected loss=0  P(node) =0.02857143\n",
            "    class counts:     0     0     3\n",
            "   probabilities: 0.000 0.000 1.000 \n",
            "\n"
          ]
        }
      ]
    },
    {
      "cell_type": "markdown",
      "source": [
        "#### Visualize the Pruned Tree\n",
        "\n",
        "The `bagging` object contains multiple trees, but {ipred} does not provide a direct way to visualize the entire ensemble. You can plot an individual tree using `rpart.plot`."
      ],
      "metadata": {
        "id": "Rvqt4gIoBiip"
      }
    },
    {
      "cell_type": "code",
      "source": [
        "%%R\n",
        "# Plot the first tree (unpruned or pruned)\n",
        "rpart.plot(single_tree, main = \"First Tree in Bagging Ensemble\")\n",
        "# Or plot the pruned tree\n",
        "rpart.plot(pruned_tree, main = \"Pruned First Tree in Bagging Ensemble\")"
      ],
      "metadata": {
        "id": "yGNM8SyaBjRH",
        "colab": {
          "base_uri": "https://localhost:8080/",
          "height": 977
        },
        "outputId": "48778d5b-e2ed-4ad6-a7ff-cc540e481710"
      },
      "execution_count": 15,
      "outputs": [
        {
          "output_type": "display_data",
          "data": {
            "image/png": "[encoded data removed]"
          },
          "metadata": {}
        },
        {
          "output_type": "display_data",
          "data": {
            "image/png": "[encoded data removed]"
          },
          "metadata": {}
        }
      ]
    },
    {
      "cell_type": "markdown",
      "source": [
        "#### Prediction and Evaluation"
      ],
      "metadata": {
        "id": "u5ulfUFxBnqH"
      }
    },
    {
      "cell_type": "code",
      "source": [
        "%%R -w 500 -h 450 -u px\n",
        "# Predict on test data\n",
        "predictions <- predict(bagged_model, newdata = test_data, type = \"class\")\n",
        "\n",
        "# Create confusion matrix to evaluate performance\n",
        "conf_matrix <- table(Predicted = predictions, Actual = test_data$Species)\n",
        "print(conf_matrix)\n",
        "\n",
        "# Calculate accuracy\n",
        "accuracy <- sum(diag(conf_matrix)) / sum(conf_matrix)\n",
        "cat(\"Test Accuracy:\", round(accuracy, 3), \"\\n\")"
      ],
      "metadata": {
        "id": "NRWK-7jzcWJI",
        "colab": {
          "base_uri": "https://localhost:8080/"
        },
        "outputId": "c3ef1578-2016-459f-8c64-068fa091c318"
      },
      "execution_count": 16,
      "outputs": [
        {
          "output_type": "stream",
          "name": "stdout",
          "text": [
            "            Actual\n",
            "Predicted    setosa versicolor virginica\n",
            "  setosa         14          0         0\n",
            "  versicolor      0         17         0\n",
            "  virginica       0          1        13\n",
            "Test Accuracy: 0.978 \n"
          ]
        }
      ]
    },
    {
      "cell_type": "code",
      "source": [
        "%%R\n",
        "# Confusion matrix, proportion of cases\n",
        "confusion_matrix <- table(test_data$Species, predictions)\n",
        "confusion_matrix"
      ],
      "metadata": {
        "colab": {
          "base_uri": "https://localhost:8080/"
        },
        "id": "zBjF142hYGjw",
        "outputId": "745d9272-a208-4274-e524-d7c1c996e433"
      },
      "execution_count": 17,
      "outputs": [
        {
          "output_type": "stream",
          "name": "stdout",
          "text": [
            "            predictions\n",
            "             setosa versicolor virginica\n",
            "  setosa         14          0         0\n",
            "  versicolor      0         17         1\n",
            "  virginica       0          0        13\n"
          ]
        }
      ]
    },
    {
      "cell_type": "code",
      "source": [
        "%%R\n",
        "# define variables\n",
        "    TP <- confusion_matrix[2, 2]\n",
        "    TN <- confusion_matrix[1, 1]\n",
        "    FP <- confusion_matrix[2, 1]\n",
        "    FN <- confusion_matrix[1, 2]\n",
        "\n",
        "    # accuracy\n",
        "    accuracy <- (TP + TN) / sum(confusion_matrix)\n",
        "\n",
        "    # precision\n",
        "    precision <- TP / (TP + FP)\n",
        "\n",
        "    # Recall\n",
        "    recall <- TP / (TP + FN)\n",
        "\n",
        "    # specificity\n",
        "    specificity <- TN / (TN + FP)\n",
        "\n",
        "    # f1_score\n",
        "    f1_score <- 2 * (precision * recall) / (precision + recall)\n",
        "\n",
        "    # Print the results\n",
        "    cat(\"Accuracy:\", accuracy, \"\\n\")\n",
        "    cat(\"Precision:\", precision, \"\\n\")\n",
        "    cat(\"Recall:\", recall, \"\\n\")\n",
        "    cat(\"Specificity:\", specificity, \"\\n\")\n",
        "    cat(\"F1 Score:\", f1_score, \"\\n\")"
      ],
      "metadata": {
        "colab": {
          "base_uri": "https://localhost:8080/"
        },
        "id": "OGABofzWaOBm",
        "outputId": "44d6abcd-021d-48e2-9d7b-107230330ec8"
      },
      "execution_count": 18,
      "outputs": [
        {
          "output_type": "stream",
          "name": "stdout",
          "text": [
            "Accuracy: 0.6888889 \n",
            "Precision: 1 \n",
            "Recall: 1 \n",
            "Specificity: 1 \n",
            "F1 Score: 1 \n"
          ]
        }
      ]
    },
    {
      "cell_type": "markdown",
      "source": [
        "#### Cross-Validation\n",
        "\n",
        "The `errorest()` function in the {ipred} package performs cross-validation or bootstrap resampling to estimate the prediction error of a model. It can be used with the `bagging()` function to evaluate the performance of the bagged decision tree model.\n"
      ],
      "metadata": {
        "id": "fHm2C5TnBsud"
      }
    },
    {
      "cell_type": "code",
      "source": [
        "%%R\n",
        "# Perform 10-fold cross-validation\n",
        "cv_error <- errorest(Species ~ ., data = iris, model = bagging,\n",
        "                     predictor = predict,\n",
        "                     nbagg = 25, control = rpart.control(cp = 0.01))\n",
        "cat(\"10-fold CV Error Rate:\", cv_error$error, \"\\n\")"
      ],
      "metadata": {
        "id": "FlheLU85BtdR",
        "colab": {
          "base_uri": "https://localhost:8080/"
        },
        "outputId": "36d6a5d0-3d43-4f6d-a8c3-6db65d47817d"
      },
      "execution_count": 19,
      "outputs": [
        {
          "output_type": "stream",
          "name": "stdout",
          "text": [
            "10-fold CV Error Rate: 0.04666667 \n"
          ]
        }
      ]
    },
    {
      "cell_type": "markdown",
      "source": [
        "#### Variable Importance\n",
        "\n",
        "The ipred package doesn't directly provide variable importance for bagged models, but we can compute it by aggregating the importance from individual trees (e.g., using rpart's variable importance). Below is an R script that calculates variable importance, averaging the importance scores across all trees in the bagged model, and creates a bar plot using ggplot2."
      ],
      "metadata": {
        "id": "AqZ-abTEO8qJ"
      }
    },
    {
      "cell_type": "code",
      "source": [
        "%%R\n",
        "# Calculate variable importance\n",
        "var_imp <- lapply(bagged_model$mtrees, function(tree) {\n",
        "  imp <- tree$btree$variable.importance\n",
        "  if (is.null(imp)) rep(0, ncol(iris) - 1) else imp\n",
        "})\n",
        "var_imp_matrix <- do.call(rbind, var_imp)\n",
        "var_imp_mean <- colMeans(var_imp_matrix, na.rm = TRUE)\n",
        "var_imp_df <- data.frame(\n",
        "  Variable = names(var_imp_mean),\n",
        "  Importance = var_imp_mean\n",
        ") %>% arrange(desc(Importance))\n",
        "\n",
        "# Plot variable importance with ggplot2\n",
        "ggplot(var_imp_df, aes(x = reorder(Variable, Importance), y = Importance)) +\n",
        "  geom_bar(stat = \"identity\", fill = \"#1f77b4\") +\n",
        "  coord_flip() +\n",
        "  labs(title = \"Variable Importance for Bagged Tree Model on Iris\",\n",
        "       x = \"Variable\", y = \"Importance\") +\n",
        "  theme_minimal()"
      ],
      "metadata": {
        "colab": {
          "base_uri": "https://localhost:8080/",
          "height": 497
        },
        "id": "oeBggDx0PCal",
        "outputId": "b8646001-ebe4-4446-f607-26ad270c8e7a"
      },
      "execution_count": 20,
      "outputs": [
        {
          "output_type": "display_data",
          "data": {
            "image/png": "[encoded data removed]"
          },
          "metadata": {}
        }
      ]
    },
    {
      "cell_type": "markdown",
      "source": [
        "### Regression Problem\n",
        "\n",
        "In this section, we will implement a Decision Tree model for regression using the {ipred} package in R."
      ],
      "metadata": {
        "id": "xW_k75k-B8Xr"
      }
    },
    {
      "cell_type": "markdown",
      "source": [
        "#### Data\n",
        "\n",
        "We will use the `BostonHousing` dataset from the {mlbench} package. The dataset contains various features related to housing in Boston and their corresponding median house values. The goal is to predict the median house value based on the features."
      ],
      "metadata": {
        "id": "OZ3QYgQoYZTk"
      }
    },
    {
      "cell_type": "code",
      "source": [
        "%%R\n",
        " # Load and prepare Boston Housing data\n",
        "data(BostonHousing)\n",
        "# Select subset of predictors and response\n",
        "set.seed(123)\n",
        "train_idx <- sample(1:nrow(BostonHousing), 0.7 * nrow(BostonHousing))\n",
        "train_data <- BostonHousing[train_idx, ]\n",
        "test_data <- BostonHousing[-train_idx, ]"
      ],
      "metadata": {
        "id": "uJAWf0_rCBRY"
      },
      "execution_count": 21,
      "outputs": []
    },
    {
      "cell_type": "markdown",
      "source": [
        "#### Fit Bagged Tree Model\n",
        "\n"
      ],
      "metadata": {
        "id": "lg_ZD97uCOuq"
      }
    },
    {
      "cell_type": "code",
      "source": [
        "%%R\n",
        "# Fit bagging model\n",
        "set.seed(123)  # For reproducibility\n",
        "bagged_model <- bagging(\n",
        "  formula = medv ~ .,  # Predict medv using all predictors\n",
        "  data = train_data,\n",
        "  nbagg = 100,  # Number of bootstrap samples (trees)\n",
        "  coob = TRUE,  # Compute out-of-bag error (MSE)\n",
        "  control = rpart.control(minsplit = 5, cp = 0.01)  # Control parameters for rpart\n",
        ")\n",
        "\n",
        "# Summary of the model\n",
        "print(bagged_model)"
      ],
      "metadata": {
        "id": "oJ4JpXtHCROk",
        "colab": {
          "base_uri": "https://localhost:8080/"
        },
        "outputId": "e187c531-6856-4a94-e6ab-335f501d2a48"
      },
      "execution_count": 22,
      "outputs": [
        {
          "output_type": "stream",
          "name": "stdout",
          "text": [
            "\n",
            "Bagging regression trees with 100 bootstrap replications \n",
            "\n",
            "Call: bagging.data.frame(formula = medv ~ ., data = train_data, nbagg = 100, \n",
            "    coob = TRUE, control = rpart.control(minsplit = 5, cp = 0.01))\n",
            "\n",
            "Out-of-bag estimate of root mean squared error:  3.8207 \n",
            "\n"
          ]
        }
      ]
    },
    {
      "cell_type": "markdown",
      "source": [
        "#### Prune Tree"
      ],
      "metadata": {
        "id": "_MyVbngpYyZb"
      }
    },
    {
      "cell_type": "code",
      "source": [
        "%%R\n",
        "# Extract the first tree\n",
        "single_tree <- bagged_model$mtrees[[1]]$btree\n",
        "\n",
        "# Check complexity parameter table\n",
        "# printcp(single_tree)\n",
        "\n",
        "# Prune the tree (optional, based on cp with lowest xerror)\n",
        "opt_cp <- single_tree$cptable[which.min(single_tree$cptable[, \"xerror\"]), \"CP\"]\n",
        "pruned_tree <- prune(single_tree, cp = opt_cp)"
      ],
      "metadata": {
        "id": "vR7KEWOJY3pm"
      },
      "execution_count": 23,
      "outputs": []
    },
    {
      "cell_type": "markdown",
      "source": [
        "#### Plot tree\n",
        "\n",
        "We can use rpart.plot() function to plot the regression tree:"
      ],
      "metadata": {
        "id": "1MFpz_s4Y77u"
      }
    },
    {
      "cell_type": "code",
      "source": [
        "%%R\n",
        "# Plot the first tree (unpruned or pruned)\n",
        "rpart.plot(single_tree, main = \"First Tree in Bagging Ensemble\")\n",
        "# Or plot the pruned tree\n",
        "rpart.plot(pruned_tree, main = \"Pruned First Tree in Bagging Ensemble\")"
      ],
      "metadata": {
        "colab": {
          "base_uri": "https://localhost:8080/",
          "height": 977
        },
        "id": "ZWC9JarqY8sm",
        "outputId": "a7c496ee-39be-4e11-fc5e-ac078ecc01f6"
      },
      "execution_count": 24,
      "outputs": [
        {
          "output_type": "display_data",
          "data": {
            "image/png": "[encoded data removed]"
          },
          "metadata": {}
        },
        {
          "output_type": "display_data",
          "data": {
            "image/png": "[encoded data removed]"
          },
          "metadata": {}
        }
      ]
    },
    {
      "cell_type": "markdown",
      "source": [
        "#### Prediction and Evaluation"
      ],
      "metadata": {
        "id": "WONpyV_yZCTK"
      }
    },
    {
      "cell_type": "code",
      "source": [
        "%%R\n",
        "# Predict on test data\n",
        "predictions <- predict(bagged_model, newdata = test_data)\n",
        "\n",
        "# Calculate mean squared error (MSE)\n",
        "mse <- mean((predictions - test_data$medv)^2)\n",
        "cat(\"Test MSE:\", round(mse, 3), \"\\n\")\n",
        "\n",
        "# Calculate R-squared\n",
        "sst <- sum((test_data$medv - mean(test_data$medv))^2)\n",
        "sse <- sum((predictions - test_data$medv)^2)\n",
        "rsq <- 1 - sse / sst\n",
        "cat(\"Test R-squared:\", round(rsq, 3), \"\\n\")\n",
        "\n",
        "# Optional: Plot predicted vs actual values\n",
        "plot(test_data$medv, predictions, main = \"Predicted vs Actual\",\n",
        "     xlab = \"Actual medv\", ylab = \"Predicted medv\")\n",
        "abline(0, 1, col = \"red\")"
      ],
      "metadata": {
        "id": "39mVQOh8ZCeh",
        "colab": {
          "base_uri": "https://localhost:8080/",
          "height": 532
        },
        "outputId": "71c73d77-9871-4382-dea3-832b8b7c80c9"
      },
      "execution_count": 25,
      "outputs": [
        {
          "output_type": "stream",
          "name": "stdout",
          "text": [
            "Test MSE: 17.837 \n",
            "Test R-squared: 0.799 \n"
          ]
        },
        {
          "output_type": "display_data",
          "data": {
            "image/png": "[encoded data removed]"
          },
          "metadata": {}
        }
      ]
    },
    {
      "cell_type": "markdown",
      "source": [
        "#### Cross-validation"
      ],
      "metadata": {
        "id": "DBAf40tfQbEP"
      }
    },
    {
      "cell_type": "code",
      "source": [
        "%%R\n",
        "# Perform 10-fold cross-validation\n",
        "cv_error <- errorest(medv~ ., data = BostonHousing, model = bagging,\n",
        "                     predictor = predict,\n",
        "                     nbagg = 25, control = rpart.control(cp = 0.01))\n",
        "cat(\"10-fold CV Error Rate:\", cv_error$error, \"\\n\")"
      ],
      "metadata": {
        "colab": {
          "base_uri": "https://localhost:8080/"
        },
        "id": "hLte4uPbQeeU",
        "outputId": "a8488c3c-7f3f-469c-dcc0-ae59f4c181b3"
      },
      "execution_count": 27,
      "outputs": [
        {
          "output_type": "stream",
          "name": "stdout",
          "text": [
            "10-fold CV Error Rate: 4.140537 \n"
          ]
        }
      ]
    },
    {
      "cell_type": "markdown",
      "source": [
        "#### Variable Importance\n",
        "\n"
      ],
      "metadata": {
        "id": "Xyx8hc8qZXgM"
      }
    },
    {
      "cell_type": "code",
      "source": [
        "%%R -w 500 -h 450 -u px\n",
        "# Calculate variable importance\n",
        "var_imp <- lapply(bagged_model$mtrees, function(tree) {\n",
        "  imp <- tree$btree$variable.importance\n",
        "  if (is.null(imp)) rep(0, ncol(iris) - 1) else imp\n",
        "})\n",
        "var_imp_matrix <- do.call(rbind, var_imp)\n",
        "var_imp_mean <- colMeans(var_imp_matrix, na.rm = TRUE)\n",
        "var_imp_df <- data.frame(\n",
        "  Variable = names(var_imp_mean),\n",
        "  Importance = var_imp_mean\n",
        ") %>% arrange(desc(Importance))\n",
        "\n",
        "# Plot variable importance with ggplot2\n",
        "ggplot(var_imp_df, aes(x = reorder(Variable, Importance), y = Importance)) +\n",
        "  geom_bar(stat = \"identity\", fill = \"#1f77b4\") +\n",
        "  coord_flip() +\n",
        "  labs(title = \"Variable Importance for Bagged Tree Model on Iris\",\n",
        "       x = \"Variable\", y = \"Importance\") +\n",
        "  theme_minimal()"
      ],
      "metadata": {
        "colab": {
          "base_uri": "https://localhost:8080/",
          "height": 467
        },
        "id": "NwkatPX0ZYR0",
        "outputId": "6dad963f-828d-45aa-f003-abe3b63810c4"
      },
      "execution_count": 26,
      "outputs": [
        {
          "output_type": "display_data",
          "data": {
            "image/png": "[encoded data removed]"
          },
          "metadata": {}
        }
      ]
    },
    {
      "cell_type": "markdown",
      "source": [
        "## Summary and Conclusion\n",
        "\n",
        "## Summary and Conclusion\n",
        "\n",
        "Bagging Decision Trees is a powerful ensemble method that mitigates the high variance of individual decision trees by training multiple trees on bootstrap samples and aggregating their predictions. The key steps—bootstrap sampling, training unpruned trees, and aggregating predictions—are grounded in statistical principles that reduce variance while maintaining low bias. The mathematical framework, including Gini impurity for classification, MSE for regression, and variance reduction formulas, highlights why bagging is effective. This approach is a foundation for more advanced ensemble methods like Random Forests, which further reduce tree correlation by randomizing feature selection. This notebook provides a comprehensive understanding of Bagging Decision Trees, from theoretical concepts to practical implementation in R, making it a valuable resource for practitioners and researchers in machine learning.\n"
      ],
      "metadata": {
        "id": "Nb0kdVIuGlK7"
      }
    },
    {
      "cell_type": "markdown",
      "source": [
        "## References\n",
        "\n",
        "\n",
        "1.  Breiman, L. (1996). \"Bagging Predictors.\" Machine Learning, 24(2), 123-140.\n",
        "\n",
        "2.  Breiman, L. (1998). \"Arcing Classifiers.\" The Annals of Statistics, 26(3), 801-849.\n",
        "\n",
        "3.  Dietterich, T. G. (2000). \"An Experimental Comparison of Three Methods for Constructing Ensembles of Decision Trees: Bagging, Boosting, and Randomization.\" Machine Learning, 40(2), 139-157.\n",
        "\n",
        "4.  Hastie, T., Tibshirani, R., & Friedman, J. (2009). \"The Elements of Statistical Learning: Data Mining, Inference, and Prediction\" (2nd Edition). Springer.\n",
        "\n",
        "5.  Kuhn, M., & Johnson, K. (2013). \"Applied Predictive Modeling.\" Springer.\n",
        "\n",
        "6.  James, G., Witten, D., Hastie, T., & Tibshirani, R. (2013). \"An Introduction to Statistical Learning: With Applications in R\" (1st Edition). Springer.\n",
        "\n",
        "7.  StatQuest by Josh Starmer: \"Bagging (Bootstrap Aggregating) Clearly Explained\" (YouTube, https://www.youtube.com/watch?v=sS5HyqaoAZQ)\n",
        "\n",
        "8.  Towards Data Science: \"Understanding Bagging and Random Forest\" (https://towardsdatascience.com/understanding-bagging-and-random-forest-3e8f6e3e841b)\n",
        "\n",
        "9.  Coursera: \"Machine Learning by Andrew Ng\" (https://www.coursera.org/learn/machine-learning)\n"
      ],
      "metadata": {
        "id": "ACNQyq1seLc7"
      }
    }
  ]
}