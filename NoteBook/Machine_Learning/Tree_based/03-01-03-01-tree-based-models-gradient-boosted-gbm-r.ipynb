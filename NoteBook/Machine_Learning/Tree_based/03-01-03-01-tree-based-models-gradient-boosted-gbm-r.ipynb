{
  "nbformat": 4,
  "nbformat_minor": 0,
  "metadata": {
    "colab": {
      "provenance": [],
      "toc_visible": true,
      "authorship_tag": "ABX9TyNgz8YBDpzgqEa2CBx3dTon",
      "include_colab_link": true
    },
    "kernelspec": {
      "name": "python3",
      "display_name": "Python 3"
    },
    "language_info": {
      "name": "python"
    }
  },
  "cells": [
    {
      "cell_type": "markdown",
      "metadata": {
        "id": "view-in-github",
        "colab_type": "text"
      },
      "source": [
        "<a href=\"https://colab.research.google.com/github/zia207/r-colab/blob/main/NoteBook/Machine_Learning/Tree_based/03-01-03-01-tree-based-models-gradient-boosted-gbm-r.ipynb\" target=\"_parent\"><img src=\"https://colab.research.google.com/assets/colab-badge.svg\" alt=\"Open In Colab\"/></a>"
      ]
    },
    {
      "cell_type": "markdown",
      "source": [
        "![alt text](http://drive.google.com/uc?export=view&id=1bLQ3nhDbZrCCqy_WCxxckOne2lgVvn3l)"
      ],
      "metadata": {
        "id": "4qrItz_mJNWw"
      }
    },
    {
      "cell_type": "markdown",
      "source": [
        "# 3.1 Gradient Boosting Machine (GBM)\n",
        "\n",
        "\n",
        "Generalized Boosted  Models, often referred to as Gradient Boosting Machines (GBM), is a powerful ensemble learning technique that builds models in a sequential manner, where each new model attempts to correct the errors made by the previous ones. This notebook provides an overview of GBM, its mathematical formulation, and practical implementation in R using the {gbm} package for both regression and classification tasks.\n"
      ],
      "metadata": {
        "id": "Dzp9ZseROTcY"
      }
    },
    {
      "cell_type": "markdown",
      "source": [
        "## Overview\n",
        "\n",
        "A Gradient Boosting Machine (GBM) is a powerful machine learning algorithm used primarily for regression and classification tasks. It builds an ensemble of weak learners, typically decision trees, in a sequential manner to minimize a loss function. Each tree corrects the errors of the previous ones by fitting to the negative gradient of the loss function, effectively improving the model's predictions iteratively.\n",
        "\n",
        "GBM is widely used due to its flexibility, ability to handle various types of data, and high predictive accuracy. Popular implementations include XGBoost, LightGBM, and CatBoost.\n"
      ],
      "metadata": {
        "id": "mLkAu88QToVr"
      }
    },
    {
      "cell_type": "markdown",
      "source": [
        "### Key Features of GBM\n",
        "\n",
        "Gradient Boosting Machine (GBM) key features:\n",
        "\n",
        "1. `Ensemble Learning`: Combines weak learners (decision trees) sequentially.\n",
        "2. `Gradient Descent`: Minimizes loss function iteratively.\n",
        "3. `Sequential Correction`: Each tree corrects prior errors.\n",
        "4. `Flexible Loss Functions`: Supports various loss types.\n",
        "5. `Regularization`: Uses shrinkage and subsampling to prevent overfitting.\n",
        "6. `Feature Importance`: Identifies key predictors.\n",
        "7. `Non-linear Relationships`: Captures complex patterns.\n",
        "8. `Robustness`: Handles outliers with robust loss functions.\n",
        "9. `Scalability`: Optimized in tools like XGBoost, LightGBM.\n",
        "10. `Missing Data`: Natively handles missing values.\n",
        "11. `Categorical Features`: Efficiently processes categorical data.\n",
        "12. `Tunable Hyperparameters`: Allows performance optimization.\n"
      ],
      "metadata": {
        "id": "WL2L7JRduO3P"
      }
    },
    {
      "cell_type": "markdown",
      "source": [
        "### How Gradient Boosting Works\n",
        "\n",
        "Gradient Boosting constructs a model by combining multiple weak learners (usually shallow decision trees) in an additive fashion. It optimizes a specified loss function by iteratively adding trees that reduce the loss. Below is a step-by-step explanation, including the mathematical formulation:\n",
        "\n",
        "1.  Initialize the Model\n",
        "\n",
        "The process starts with an initial prediction, often a constant value that minimizes the loss function. For regression, this is typically the mean of the target variable.\n",
        "\n",
        "$$ F_0(x) = \\arg\\min_{\\gamma} \\sum_{i=1}^n L(y_i, \\gamma) $$\n",
        "\n",
        "where:\n",
        "\n",
        "-   $F_0(x)$: Initial model prediction (e.g., mean for regression).\n",
        "\n",
        "-   $L(y_i, \\gamma)$: Loss function (e.g., mean squared error for regression: $L(y_i, \\gamma) = \\frac{1}{2}(y_i - \\gamma)^2$).\n",
        "\n",
        "-   $y_i$: True target value for the $i$-th observation.\n",
        "\n",
        "-   $n$: Number of observations.\n",
        "\n",
        "For regression with mean squared error, the initial prediction is:\n",
        "\n",
        "$$ F_0(x) = \\frac{1}{n} \\sum L_{i=1}^n y_i $$\n",
        "\n",
        "2.  Compute Residuals (Negative Gradients)\n",
        "\n",
        "For each iteration $m = 1, 2, ..., M$, compute the residuals, which are the negative gradients of the loss function with respect to the current model's predictions.\n",
        "\n",
        "$$ r_{im} = -\\left[ \\frac{\\partial L(y_i, F(x_i))}{\\partial F(x_i)} \\right]_{F(x) = F_{m-1}(x)} $$\n",
        "\n",
        "where:\n",
        "\n",
        "-   $r_{im}$: Residual for the $i$-th observation at iteration $m$.\n",
        "\n",
        "-   $F_{m-1}(x)$: Model prediction from the previous iteration.\n",
        "\n",
        "-   For mean squared error: $L(y_i, F(x_i)) = \\frac{1}{2}(y_i - F(x_i))^2$, the residual is:\n",
        "\n",
        "$$ r_{im} = y_i - F_{m-1}(x_i) $$\n",
        "\n",
        "3.  Fit a Weak Learner to Residuals\n",
        "\n",
        "Train a weak learner (e.g., a decision tree) to predict the residuals $r_{im}$. The tree is fitted to minimize the loss when predicting the residuals.\n",
        "\n",
        "$$ h_m(x) = \\arg\\min_{h} \\sum_{i=1}^n (r_{im} - h(x_i))^2 $$\n",
        "\n",
        "where:\n",
        "\n",
        "-   $h_m(x)$: Weak learner (e.g., decision tree) at iteration $m$.\n",
        "\n",
        "4.  Compute the Optimal Step Size (Learning Rate)\n",
        "\n",
        "Determine the step size (or learning rate) $\\gamma_m$ to scale the contribution of the new tree. This is done by minimizing the loss function along the direction of the new tree.\n",
        "\n",
        "$$ \\gamma_m = \\arg\\min_{\\gamma} \\sum_{i=1}^n L(y_i, F_{m-1}(x_i) + \\gamma h_m(x_i)) $$\n",
        "\n",
        "For mean squared error, this can be solved analytically or via line search.\n",
        "\n",
        "5.  Update the Model\n",
        "\n",
        "Update the model by adding the scaled predictions of the new tree to the previous model.\n",
        "\n",
        "$$ F_m(x) = F_{m-1}(x) + \\gamma_m h_m(x) $$\n",
        "\n",
        "where:\n",
        "\n",
        "-   $F_m(x)$: Updated model after iteration $m$.\n",
        "\n",
        "-   $\\gamma_m$: Learning rate or step size (typically a small value, e.g., 0.1, to prevent overfitting).\n",
        "\n",
        "6.  Repeat Steps 2–5\n",
        "\n",
        "Repeat steps 2–5 for $M$ iterations or until a stopping criterion (e.g., minimal improvement in loss) is met.\n",
        "\n",
        "7.  Final Prediction\n",
        "\n",
        "The final model is the sum of the initial prediction and all subsequent trees' contributions:\n",
        "\n",
        "$$ F_M(x) = F_0(x) + \\sum_{m=1}^M \\gamma_m h_m(x) $$"
      ],
      "metadata": {
        "id": "Eyzv0iqZRe-9"
      }
    },
    {
      "cell_type": "markdown",
      "source": [
        "Here below is a flowchart illustrating the Random Forest workflow:\n",
        "\n",
        "\n",
        "![alt text](http://drive.google.com/uc?export=view&id=1wO9IGbhk_Sm5VMp6TjqpHX44eS6Ax0Eg)\n",
        "\n",
        "\n",
        "\n",
        "\n",
        "\n",
        "\n"
      ],
      "metadata": {
        "id": "uWCTcHkzvHE2"
      }
    },
    {
      "cell_type": "markdown",
      "source": [
        "### Advantages of Gradient Boosting Machine (GBM)\n",
        "\n",
        "1. `High Accuracy`: Often outperforms other algorithms by effectively modeling complex, non-linear relationships.\n",
        "2. `Flexibility`: Supports various loss functions and works for both regression and classification tasks.\n",
        "3. `Feature Importance`: Provides insights into which features drive predictions.\n",
        "4. `Handles Mixed Data`: Effectively processes numerical and categorical features (especially in implementations like CatBoost).\n",
        "5. `Robustness`: Can handle outliers and missing data with appropriate configurations."
      ],
      "metadata": {
        "id": "NuhrbXQxGIIy"
      }
    },
    {
      "cell_type": "markdown",
      "source": [
        "### Limitations of GBM\n",
        "\n",
        "1. `Computationally Intensive`: Training can be slow, especially with large datasets or many trees.\n",
        "2. `Overfitting Risk`: Requires careful tuning to avoid overfitting, particularly with noisy data.\n",
        "3. `Hyperparameter Sensitivity`: Performance depends heavily on proper tuning, which can be time-consuming.\n",
        "4. `Less Interpretable`: Compared to simpler models like linear regression, the ensemble is harder to interpret.\n",
        "5. `Scalability Issues`: Less efficient on extremely large datasets compared to simpler models unless optimized (e.g., LightGBM)."
      ],
      "metadata": {
        "id": "70UMhkxtGPsU"
      }
    },
    {
      "cell_type": "markdown",
      "source": [
        "### Key Hyperparameters of GBM\n",
        "\n",
        "1. `n.trees`: Number of trees (100–10,000). Tune with CV (e.g., 500, 1000, 2000).\n",
        "2. `shrinkage`: Learning rate (0.001–0.3). Try 0.01, 0.05, 0.1 for balance.\n",
        "3. `interaction.depth`: Tree depth (1–10). Use 1–5 for weak learners.\n",
        "4. `n.minobsinnode`: Min observations per node (5–20). Try 5–10 for small datasets.\n",
        "5. `bag.fraction*` Subsampling fraction (0.5–1.0). Default 0.5 reduces overfitting.\n",
        "6. `distribution`: Loss function (e.g., `gaussian` for regression, `bernoulli` for classification).\n",
        "\n",
        "Proper tuning of these hyperparameters is critical for balancing performance and generalization in GBM."
      ],
      "metadata": {
        "id": "EEG0JrW9GQRV"
      }
    },
    {
      "cell_type": "markdown",
      "source": [
        "### How GBM Differs from XGBoost and LightGBM\n",
        "\n",
        "Gradient Boosting Machine (GBM) is a general framework for building ensemble models by sequentially adding weak learners (typically decision trees) to minimize a loss function. XGBoost and LightGBM are optimized implementations of the GBM framework, each introducing specific enhancements to improve performance, scalability, and efficiency. Below is a detailed comparison of how GBM differs from XGBoost and LightGBM, focusing on key aspects such as algorithmic improvements, optimization techniques, and practical considerations.\n",
        "\n",
        "  | **Aspect** | **Standard GBM** | **XGBoost** | **LightGBM** |\n",
        "    |-----------------|-------------------|-------------------|------------------|\n",
        "    | **Algorithm** | Basic gradient boosting | Enhanced gradient boosting with regularization | Optimized gradient boosting with GOSS, EFB |\n",
        "    | **Tree Growth** | Level-wise | Level-wise | Leaf-wise |\n",
        "    | **Regularization** | Basic (learning rate) | L1 and L2 regularization | L1 and L2 regularization |\n",
        "    | **Gradient Usage** | First-order gradients | First- and second-order gradients | First-order with GOSS sampling |\n",
        "    | **Feature Handling** | Requires preprocessing (e.g., imputation) | Handles missing values natively | Handles missing values and categorical features natively |\n",
        "    | **Split Finding** | Exact split finding | Approximate (quantile sketching) | Histogram-based |\n",
        "    | **Parallelization** | Sequential | Feature-level parallelization | Data- and feature-level parallelization |\n",
        "    | **Memory Efficiency** | High memory usage | Moderate memory usage | Low memory usage (histogram, EFB) |\n",
        "    | **Speed** | Slowest | Faster than GBM | Fastest, especially for large datasets |\n",
        "    | **Overfitting Risk** | Moderate | Low (due to regularization) | Higher with leaf-wise growth (needs tuning) |\n",
        "    | **Implementation** | Scikit-learn, others | XGBoost library | LightGBM library |\n"
      ],
      "metadata": {
        "id": "a6b4S4mWSAyQ"
      }
    },
    {
      "cell_type": "markdown",
      "source": [
        "### Practical Considerations\n",
        "\n",
        "-   **Standard GBM**:\n",
        "\n",
        "    -   Best for small datasets or when simplicity is preferred.\n",
        "    -   Suitable for educational purposes or when using scikit-learn’s ecosystem.\n",
        "    -   Limited scalability for large datasets due to lack of optimizations.\n",
        "\n",
        "-   **XGBoost**:\n",
        "    -   Ideal for medium to large datasets where accuracy is critical.\n",
        "    -   Preferred when robust regularization and handling of missing data are needed.\n",
        "    -   Widely used in competitions (e.g., Kaggle) due to its balance of speed and accuracy.\n",
        "\n",
        "-   **LightGBM**:\n",
        "    -   Best for very large datasets or high-dimensional data (e.g., millions of rows, thousands of features).\n",
        "    -   Preferred for applications requiring fast training and low memory usage.\n",
        "    -   Requires careful tuning to avoid overfitting due to leaf-wise growth."
      ],
      "metadata": {
        "id": "rshPh_LLTKJo"
      }
    },
    {
      "cell_type": "markdown",
      "source": [
        "## Setup R in Python Runtype"
      ],
      "metadata": {
        "id": "CyOope_pwUVr"
      }
    },
    {
      "cell_type": "markdown",
      "source": [
        "### Install {rpy2}\n",
        "\n",
        "{rpy2} is a Python package that provides an interface to the R programming language, allowing Python users to run R code, call R functions, and manipulate R objects directly from Python. It enables seamless integration between Python and R, leveraging R's statistical and graphical capabilities while using Python's flexibility. The package supports passing data between the two languages and is widely used for statistical analysis, data visualization, and machine learning tasks that benefit from R's specialized libraries."
      ],
      "metadata": {
        "id": "SDp3ULld8Gb9"
      }
    },
    {
      "cell_type": "code",
      "source": [
        "!pip uninstall rpy2 -y\n",
        "!pip install rpy2==3.5.1\n",
        "%load_ext rpy2.ipython"
      ],
      "metadata": {
        "id": "CiM6y-Mw8AJp",
        "colab": {
          "base_uri": "https://localhost:8080/"
        },
        "outputId": "7b74200c-38d8-46a3-fe04-9766a616bb45"
      },
      "execution_count": 1,
      "outputs": [
        {
          "output_type": "stream",
          "name": "stdout",
          "text": [
            "Found existing installation: rpy2 3.5.17\n",
            "Uninstalling rpy2-3.5.17:\n",
            "  Successfully uninstalled rpy2-3.5.17\n",
            "Collecting rpy2==3.5.1\n",
            "  Downloading rpy2-3.5.1.tar.gz (201 kB)\n",
            "\u001b[2K     \u001b[90m━━━━━━━━━━━━━━━━━━━━━━━━━━━━━━━━━━━━━━━\u001b[0m \u001b[32m201.7/201.7 kB\u001b[0m \u001b[31m4.4 MB/s\u001b[0m eta \u001b[36m0:00:00\u001b[0m\n",
            "\u001b[?25h  Preparing metadata (setup.py) ... \u001b[?25l\u001b[?25hdone\n",
            "Requirement already satisfied: cffi>=1.10.0 in /usr/local/lib/python3.11/dist-packages (from rpy2==3.5.1) (1.17.1)\n",
            "Requirement already satisfied: jinja2 in /usr/local/lib/python3.11/dist-packages (from rpy2==3.5.1) (3.1.6)\n",
            "Requirement already satisfied: pytz in /usr/local/lib/python3.11/dist-packages (from rpy2==3.5.1) (2025.2)\n",
            "Requirement already satisfied: tzlocal in /usr/local/lib/python3.11/dist-packages (from rpy2==3.5.1) (5.3.1)\n",
            "Requirement already satisfied: pycparser in /usr/local/lib/python3.11/dist-packages (from cffi>=1.10.0->rpy2==3.5.1) (2.22)\n",
            "Requirement already satisfied: MarkupSafe>=2.0 in /usr/local/lib/python3.11/dist-packages (from jinja2->rpy2==3.5.1) (3.0.2)\n",
            "Building wheels for collected packages: rpy2\n",
            "  Building wheel for rpy2 (setup.py) ... \u001b[?25l\u001b[?25hdone\n",
            "  Created wheel for rpy2: filename=rpy2-3.5.1-cp311-cp311-linux_x86_64.whl size=314973 sha256=f4cdda2ce9c384ae2501ae5c1b2351b332e6f10d564a1b3899f67f01a6e910d4\n",
            "  Stored in directory: /root/.cache/pip/wheels/e9/55/d1/47be85a5f3f1e1f4d1e91cb5e3a4dcb40dd72147f184c5a5ef\n",
            "Successfully built rpy2\n",
            "Installing collected packages: rpy2\n",
            "Successfully installed rpy2-3.5.1\n"
          ]
        }
      ]
    },
    {
      "cell_type": "markdown",
      "source": [
        "### Mount Google Drive"
      ],
      "metadata": {
        "id": "O1zeuaCowiBt"
      }
    },
    {
      "cell_type": "code",
      "source": [
        "from google.colab import drive\n",
        "drive.mount('/content/drive')"
      ],
      "metadata": {
        "colab": {
          "base_uri": "https://localhost:8080/"
        },
        "id": "9J-4ie4bwiJ1",
        "outputId": "5e65abf0-6e88-48c3-f90f-41385d5fa64e"
      },
      "execution_count": 2,
      "outputs": [
        {
          "output_type": "stream",
          "name": "stdout",
          "text": [
            "Mounted at /content/drive\n"
          ]
        }
      ]
    },
    {
      "cell_type": "markdown",
      "source": [
        "## Gradient Boosting Machine (GBM) in R from scratch\n",
        "\n",
        "We’ll implement a basic GBM algorithm from scratch. This will involve manually coding the gradient boosting steps (initialization, residual computation, fitting weak learners, and updating predictions) using only base R."
      ],
      "metadata": {
        "id": "ztl1QBDb4MYe"
      }
    },
    {
      "cell_type": "markdown",
      "source": [
        "### Function to Fit a Decision Stump\n",
        "\n",
        "`fit_stump` finds the best feature and threshold to split the data, minimizing MSE. It evaluates each feature’s unique values as thresholds and computes the mean of the target variable (SOC) for the left and right splits. The split with the lowest MSE is chosen as the best stump.\n",
        "\n",
        "\n",
        "A `decision stump`is a simple machine learning model consisting of a single-level decision tree with only one split (or decision node) based on a single feature. It is considered a weak learner because it makes predictions using a single threshold or condition, resulting in limited predictive power on its own. Decision stumps are commonly used as base learners in ensemble methods like boosting (e.g., AdaBoost, Gradient Boosting) to iteratively combine multiple weak models into a strong predictive model.\n",
        "\n",
        "\n",
        "\n",
        "\n"
      ],
      "metadata": {
        "id": "lP2lCzFHBUip"
      }
    },
    {
      "cell_type": "code",
      "source": [
        "%%R\n",
        "# Helper function: Simple decision stump (single split tree)\n",
        "decision_stump <- function(X, y, weights, is_regression) {\n",
        "  n <- length(y)\n",
        "  best_feature <- 0\n",
        "  best_threshold <- 0\n",
        "  best_error <- Inf\n",
        "\n",
        "  # Try each feature and possible split points\n",
        "  for (feature in 1:ncol(X)) {\n",
        "    values <- sort(unique(X[, feature]))\n",
        "    thresholds <- (values[-length(values)] + values[-1]) / 2\n",
        "\n",
        "    for (threshold in thresholds) {\n",
        "      left_idx <- X[, feature] <= threshold\n",
        "      right_idx <- !left_idx\n",
        "\n",
        "      if (sum(left_idx) == 0 || sum(right_idx) == 0) next\n",
        "\n",
        "      if (is_regression) {\n",
        "        # Regression: predict mean for each region\n",
        "        left_pred <- mean(y[left_idx])\n",
        "        right_pred <- mean(y[right_idx])\n",
        "        error <- sum(weights[left_idx] * (y[left_idx] - left_pred)^2) +\n",
        "                 sum(weights[right_idx] * (y[right_idx] - right_pred)^2)\n",
        "      } else {\n",
        "        # Classification: predict log-odds for each region\n",
        "        left_prob <- mean(y[left_idx])\n",
        "        right_prob <- mean(y[right_idx])\n",
        "        left_prob <- max(min(left_prob, 0.999), 0.001) # Avoid log(0)\n",
        "        right_prob <- max(min(right_prob, 0.999), 0.001)\n",
        "        error <- -sum(weights[left_idx] * (y[left_idx] * log(left_prob) +\n",
        "                                          (1 - y[left_idx]) * log(1 - left_prob))) -\n",
        "                 sum(weights[right_idx] * (y[right_idx] * log(right_prob) +\n",
        "                                          (1 - y[right_idx]) * log(1 - right_prob)))\n",
        "      }\n",
        "\n",
        "      if (error < best_error) {\n",
        "        best_error <- error\n",
        "        best_feature <- feature\n",
        "        best_threshold <- threshold\n",
        "        best_left_pred <- if (is_regression) left_pred else log(left_prob / (1 - left_prob))\n",
        "        best_right_pred <- if (is_regression) right_pred else log(right_prob / (1 - right_prob))\n",
        "      }\n",
        "    }\n",
        "  }\n",
        "\n",
        "  return(list(feature = best_feature, threshold = best_threshold,\n",
        "              left_pred = best_left_pred, right_pred = best_right_pred))\n",
        "}"
      ],
      "metadata": {
        "id": "aTjVIV5ZBW96"
      },
      "execution_count": null,
      "outputs": []
    },
    {
      "cell_type": "markdown",
      "source": [
        "### Function to Predict with a Decision Stump\n",
        "\n",
        "`predict_stump`: Predicts based on the stump’s feature, threshold, and leaf values.\n"
      ],
      "metadata": {
        "id": "fwIhiSZNCO9N"
      }
    },
    {
      "cell_type": "code",
      "source": [
        "%%R\n",
        "# Predict function for a single decision stump\n",
        "predict_stump <- function(stump, X) {\n",
        "  preds <- rep(stump$right_pred, nrow(X))\n",
        "  left_idx <- X[, stump$feature] <= stump$threshold\n",
        "  preds[left_idx] <- stump$left_pred\n",
        "  return(preds)\n",
        "}"
      ],
      "metadata": {
        "id": "vYPiX59GCiTY"
      },
      "execution_count": null,
      "outputs": []
    },
    {
      "cell_type": "markdown",
      "source": [
        "### GBM for Regression and Classification"
      ],
      "metadata": {
        "id": "8aFvX9PX6t7N"
      }
    },
    {
      "cell_type": "code",
      "source": [
        "%%R\n",
        "# GBM for Regression\n",
        "gbm_regression <- function(X, y, n_trees = 50, learning_rate = 0.1, max_depth = 1) {\n",
        "  n <- length(y)\n",
        "  # Initialize predictions with mean\n",
        "  f <- rep(mean(y), n)\n",
        "  trees <- list()\n",
        "\n",
        "  for (m in 1:n_trees) {\n",
        "    # Compute residuals (negative gradient of squared loss)\n",
        "    residuals <- y - f\n",
        "    weights <- rep(1/n, n) # Uniform weights for regression\n",
        "\n",
        "    # Fit a decision stump to residuals\n",
        "    tree <- decision_stump(X, residuals, weights, TRUE)\n",
        "\n",
        "    # Update predictions\n",
        "    f <- f + learning_rate * predict_stump(tree, X)\n",
        "    trees[[m]] <- tree\n",
        "  }\n",
        "\n",
        "  return(list(trees = trees, learning_rate = learning_rate, init_pred = mean(y)))\n",
        "}\n",
        "\n",
        "\n",
        "# GBM for Classification (binary)\n",
        "gbm_classification <- function(X, y, n_trees = 50, learning_rate = 0.1, max_depth = 1) {\n",
        "  n <- length(y)\n",
        "  # Initialize with log-odds\n",
        "  p <- mean(y)\n",
        "  p <- max(min(p, 0.999), 0.001) # Avoid log(0)\n",
        "  f <- rep(log(p / (1 - p)), n)\n",
        "  trees <- list()\n",
        "\n",
        "  for (m in 1:n_trees) {\n",
        "    # Compute probabilities\n",
        "    p <- 1 / (1 + exp(-f))\n",
        "    # Compute residuals (negative gradient of log-loss)\n",
        "    residuals <- y - p\n",
        "    weights <- p * (1 - p) # Weights based on variance of logistic\n",
        "\n",
        "    # Fit a decision stump to residuals\n",
        "    tree <- decision_stump(X, residuals, weights, FALSE)\n",
        "\n",
        "    # Update predictions\n",
        "    f <- f + learning_rate * predict_stump(tree, X)\n",
        "    trees[[m]] <- tree\n",
        "  }\n",
        "\n",
        "  return(list(trees = trees, learning_rate = learning_rate, init_pred = log(p / (1 - p))))\n",
        "}"
      ],
      "metadata": {
        "id": "xmfaf4Uh7S7F"
      },
      "execution_count": null,
      "outputs": []
    },
    {
      "cell_type": "markdown",
      "source": [
        "## Predict Functions\n",
        "\n"
      ],
      "metadata": {
        "id": "VPJv1wf3xLmp"
      }
    },
    {
      "cell_type": "code",
      "source": [
        "%%R\n",
        "# Predict function for GBM regression\n",
        "predict_gbm_regression <- function(model, X) {\n",
        "  preds <- rep(model$init_pred, nrow(X))\n",
        "  for (tree in model$trees) {\n",
        "    preds <- preds + model$learning_rate * predict_stump(tree, X)\n",
        "  }\n",
        "  return(preds)\n",
        "}\n",
        "\n",
        "# Predict function for GBM classification\n",
        "predict_gbm_classification <- function(model, X) {\n",
        "  f <- rep(model$init_pred, nrow(X))\n",
        "  for (tree in model$trees) {\n",
        "    f <- f + model$learning_rate * predict_stump(tree, X)\n",
        "  }\n",
        "  # Return probabilities\n",
        "  return(1 / (1 + exp(-f)))\n",
        "}"
      ],
      "metadata": {
        "id": "aSuBBDLKDHML"
      },
      "execution_count": null,
      "outputs": []
    },
    {
      "cell_type": "markdown",
      "source": [
        "### Example Usage - Regression"
      ],
      "metadata": {
        "id": "J6lfF7mcHAmc"
      }
    },
    {
      "cell_type": "code",
      "source": [
        "%%R\n",
        "# Example usage\n",
        "set.seed(123)# Example usage\n",
        "# Generate synthetic data for regression\n",
        "n <- 100\n",
        "X <- matrix(runif(n * 2, 0, 10), ncol = 2)\n",
        "y_reg <- 2 * X[, 1] + 3 * X[, 2] + rnorm(n, 0, 1)\n",
        "\n",
        "# Train and predict regression\n",
        "model_reg <- gbm_regression(X, y_reg, n_trees = 50, learning_rate = 0.1)\n",
        "preds_reg <- predict_gbm_regression(model_reg, X)\n",
        "# Print mean squared error for regression\n",
        "cat(\"Regression MSE:\", mean((y_reg - preds_reg)^2), \"\\n\")"
      ],
      "metadata": {
        "colab": {
          "base_uri": "https://localhost:8080/"
        },
        "id": "P5_ajYZvHFcC",
        "outputId": "1ccb3a1b-9ca7-49e0-a973-71b87a6165fa"
      },
      "execution_count": null,
      "outputs": [
        {
          "output_type": "stream",
          "name": "stdout",
          "text": [
            "Regression MSE: 5.25712 \n"
          ]
        }
      ]
    },
    {
      "cell_type": "markdown",
      "source": [
        "### Example Usage: Classification"
      ],
      "metadata": {
        "id": "K_5fxROlHJsw"
      }
    },
    {
      "cell_type": "code",
      "source": [
        "%%R\n",
        "# Generate synthetic data for classification\n",
        "y_class <- as.numeric(X[, 1] + X[, 2] > 10)\n",
        "y_class <- y_class + rnorm(n, 0, 0.1) > 0 # Add noise\n",
        "y_class <- as.numeric(y_class > 0.5)\n",
        "\n",
        "# Train and predict classification\n",
        "model_class <- gbm_classification(X, y_class, n_trees = 50, learning_rate = 0.1)\n",
        "preds_class <- predict_gbm_classification(model_class, X)\n",
        "\n",
        "# Print classification accuracy\n",
        "cat(\"Classification Accuracy:\", mean((preds_class > 0.5) == y_class), \"\\n\")"
      ],
      "metadata": {
        "colab": {
          "base_uri": "https://localhost:8080/"
        },
        "id": "GoR6QGH5HSRa",
        "outputId": "8752af46-72c8-4c14-c847-6bcb2a0c162a"
      },
      "execution_count": null,
      "outputs": [
        {
          "output_type": "stream",
          "name": "stdout",
          "text": [
            "Classification Accuracy: 0.27 \n"
          ]
        }
      ]
    },
    {
      "cell_type": "markdown",
      "source": [
        "## Gradient Boosting Machine (GBM) in R\n",
        "\n",
        "In this section, we will use the {gbm} package to perform regression and classification tasks. We will load the dataset, preprocess it, and then fit a GBM model for both regression and classification. The dataset will be split into training and testing sets, and we will evaluate the model's performance using RMSE for regression and accuracy for classification.\n",
        "\n",
        "The {gbm} package in R is a popular library for implementing Gradient Boosting Machines, specifically designed for regression, classification, and ranking tasks. It provides an efficient and flexible framework for gradient boosting, building on the foundational algorithm described by Friedman (2001).\n",
        "\n",
        "Key Functions:\n",
        "\n",
        "-   `gbm()`: Main function to fit a gradient boosting model.\n",
        "\n",
        "-   `predict.gbm()`: Makes predictions on new data.\n",
        "\n",
        "-   `gbm.perf()` : Evaluates model performance and optimal number of trees using out-of-bag or cross-validation estimates.\n",
        "\n",
        "-   `relative.influence()`: Computes variable importance."
      ],
      "metadata": {
        "id": "n5Z1SpIUbgLy"
      }
    },
    {
      "cell_type": "code",
      "source": [
        "%%R\n",
        "remotes::install_github(\"gbm-developers/gbm\", lib='drive/My Drive/R/')"
      ],
      "metadata": {
        "colab": {
          "base_uri": "https://localhost:8080/"
        },
        "id": "yvEJZztYqwqq",
        "outputId": "78a450ae-8500-4499-a8ba-6d45d181eaa5"
      },
      "execution_count": null,
      "outputs": [
        {
          "output_type": "stream",
          "name": "stderr",
          "text": [
            "WARNING:rpy2.rinterface_lib.callbacks:R[write to console]: Downloading GitHub repo gbm-developers/gbm@HEAD\n",
            "\n"
          ]
        },
        {
          "output_type": "stream",
          "name": "stdout",
          "text": [
            "── R CMD build ─────────────────────────────────────────────────────────────────\n",
            "* checking for file ‘/tmp/RtmpWBBV5N/remotes42772860cc3b/gbm-developers-gbm-59cc7a9/DESCRIPTION’ ... OK\n",
            "* preparing ‘gbm’:\n",
            "* checking DESCRIPTION meta-information ... OK\n",
            "* cleaning src\n",
            "* checking for LF line-endings in source and make files and shell scripts\n",
            "* checking for empty or unneeded directories\n",
            "* building ‘gbm_2.2.2.tar.gz’\n",
            "\n"
          ]
        }
      ]
    },
    {
      "cell_type": "markdown",
      "source": [
        "### Check and Install Required R Packages\n",
        "\n",
        "Following R packages are required to run this notebook. If any of these packages are not installed, you can install them using the code below:"
      ],
      "metadata": {
        "id": "yXu-XY0mw1A8"
      }
    },
    {
      "cell_type": "code",
      "source": [
        "%%R\n",
        "packages <- c('tidyverse',\n",
        "              'plyr',\n",
        "              'gbm',\n",
        "              'MASS',\n",
        "              'Metrics',\n",
        "              'fastDummies',\n",
        "              'ggpmisc',\n",
        "              'Metrics'\n",
        "\n",
        "         )"
      ],
      "metadata": {
        "id": "TeYB57l0wz5N"
      },
      "execution_count": 11,
      "outputs": []
    },
    {
      "cell_type": "markdown",
      "source": [
        "#### Install Missing Packages"
      ],
      "metadata": {
        "id": "q7NH-51RYeIk"
      }
    },
    {
      "cell_type": "code",
      "source": [
        "# Install missing packages\n",
        "new.packages <- packages[!(packages %in% installed.packages(lib='drive/My Drive/R/')[,\"Package\"])]\n",
        "if(length(new.packages)) install.packages(new.packages, lib='drive/My Drive/R/')\n",
        "\n",
        "# Ensure gbm is installed in the specified library path\n",
        "if (!requireNamespace(\"gbm\", quietly = TRUE, lib.loc = 'drive/My Drive/R/')) {\n",
        "  install.packages(\"gbm\", lib = 'drive/My Drive/R/')\n",
        "}\n",
        "\n"
      ],
      "metadata": {
        "id": "a0aTMYTHAraZ"
      },
      "execution_count": null,
      "outputs": []
    },
    {
      "cell_type": "markdown",
      "source": [
        "#### Verify Installation"
      ],
      "metadata": {
        "id": "Ah43eXWcYfpA"
      }
    },
    {
      "cell_type": "code",
      "source": [
        "%%R\n",
        "# set library path\n",
        ".libPaths('drive/My Drive/R')\n",
        "# Verify installation\n",
        "cat(\"Installed packages:\\n\")\n",
        "print(sapply(packages, requireNamespace, quietly = TRUE))"
      ],
      "metadata": {
        "colab": {
          "base_uri": "https://localhost:8080/"
        },
        "id": "R9hpg7qnArfh",
        "outputId": "a0bb2d03-23af-4ed3-aa4a-091e0dfd7d0f"
      },
      "execution_count": 12,
      "outputs": [
        {
          "output_type": "stream",
          "name": "stdout",
          "text": [
            "Installed packages:\n",
            "  tidyverse        plyr         gbm        MASS     Metrics fastDummies \n",
            "       TRUE        TRUE        TRUE        TRUE        TRUE        TRUE \n",
            "    ggpmisc     Metrics \n",
            "       TRUE        TRUE \n"
          ]
        }
      ]
    },
    {
      "cell_type": "markdown",
      "source": [
        "#### Load R Packages"
      ],
      "metadata": {
        "id": "MV7R29xfyWQz"
      }
    },
    {
      "cell_type": "code",
      "source": [
        "%%R\n",
        "# set library path\n",
        ".libPaths('drive/My Drive/R')\n",
        "# Load packages with suppressed messages\n",
        "invisible(lapply(packages, function(pkg) {\n",
        "  suppressPackageStartupMessages(library(pkg, character.only = TRUE))\n",
        "}))"
      ],
      "metadata": {
        "id": "232jNAHBykUL"
      },
      "execution_count": 7,
      "outputs": []
    },
    {
      "cell_type": "markdown",
      "source": [
        "#### Check Loaded Packages"
      ],
      "metadata": {
        "id": "ULxgK067YntF"
      }
    },
    {
      "cell_type": "code",
      "source": [
        "%%R\n",
        "# Check loaded packages\n",
        "cat(\"Successfully loaded packages:\\n\")\n",
        "print(search()[grepl(\"package:\", search())])# Check loaded packageswer)"
      ],
      "metadata": {
        "colab": {
          "base_uri": "https://localhost:8080/"
        },
        "id": "mcAOZzmSYk4n",
        "outputId": "c98665fd-b08b-494f-f6d8-9cdb81c12293"
      },
      "execution_count": 13,
      "outputs": [
        {
          "output_type": "stream",
          "name": "stdout",
          "text": [
            "Successfully loaded packages:\n",
            " [1] \"package:MASS\"        \"package:ggpmisc\"     \"package:ggpp\"       \n",
            " [4] \"package:fastDummies\" \"package:Metrics\"     \"package:gbm\"        \n",
            " [7] \"package:plyr\"        \"package:lubridate\"   \"package:forcats\"    \n",
            "[10] \"package:stringr\"     \"package:dplyr\"       \"package:purrr\"      \n",
            "[13] \"package:readr\"       \"package:tidyr\"       \"package:tibble\"     \n",
            "[16] \"package:ggplot2\"     \"package:tidyverse\"   \"package:tools\"      \n",
            "[19] \"package:stats\"       \"package:graphics\"    \"package:grDevices\"  \n",
            "[22] \"package:utils\"       \"package:datasets\"    \"package:methods\"    \n",
            "[25] \"package:base\"       \n"
          ]
        }
      ]
    },
    {
      "cell_type": "markdown",
      "source": [
        "### Regression with GBM\n",
        "\n",
        "In this section, we will use the {gbm} package to perform regression tasks. We will load the dataset, preprocess it, and then fit a GBM model for regression. The dataset will be split into training and testing sets, and we will evaluate the model's performance using Mean Squared Error (MSE) and Root Mean Squared Error (RMSE)."
      ],
      "metadata": {
        "id": "NoRTR8RdRuvQ"
      }
    },
    {
      "cell_type": "markdown",
      "source": [
        "#### Data and Data Preparation\n",
        "\n"
      ],
      "metadata": {
        "id": "rSJqB05rO5ES"
      }
    },
    {
      "cell_type": "code",
      "execution_count": 8,
      "metadata": {
        "id": "CFpt_H01OPsa",
        "colab": {
          "base_uri": "https://localhost:8080/"
        },
        "outputId": "5d31c800-e3b9-4b52-943c-bcda1ca7babb"
      },
      "outputs": [
        {
          "output_type": "stream",
          "name": "stdout",
          "text": [
            "'data.frame':\t506 obs. of  14 variables:\n",
            " $ medv   : num  24 21.6 34.7 33.4 36.2 28.7 22.9 27.1 16.5 18.9 ...\n",
            " $ crim   : num  0.00632 0.02731 0.02729 0.03237 0.06905 ...\n",
            " $ zn     : num  18 0 0 0 0 0 12.5 12.5 12.5 12.5 ...\n",
            " $ indus  : num  2.31 7.07 7.07 2.18 2.18 2.18 7.87 7.87 7.87 7.87 ...\n",
            " $ chas   : Factor w/ 2 levels \"0\",\"1\": 1 1 1 1 1 1 1 1 1 1 ...\n",
            " $ nox    : num  0.538 0.469 0.469 0.458 0.458 0.458 0.524 0.524 0.524 0.524 ...\n",
            " $ rm     : num  6.58 6.42 7.18 7 7.15 ...\n",
            " $ age    : num  65.2 78.9 61.1 45.8 54.2 58.7 66.6 96.1 100 85.9 ...\n",
            " $ dis    : num  4.09 4.97 4.97 6.06 6.06 ...\n",
            " $ rad    : num  1 2 2 3 3 3 5 5 5 5 ...\n",
            " $ tax    : num  296 242 242 222 222 222 311 311 311 311 ...\n",
            " $ ptratio: num  15.3 17.8 17.8 18.7 18.7 18.7 15.2 15.2 15.2 15.2 ...\n",
            " $ black  : num  397 397 393 395 397 ...\n",
            " $ lstat  : num  4.98 9.14 4.03 2.94 5.33 ...\n"
          ]
        }
      ],
      "source": [
        "%%R\n",
        "data(\"Boston\", library = `MASS`)\n",
        "# Create a data frame with selected variables\n",
        "df <- Boston %>%\n",
        "  dplyr::select(medv, crim, zn, indus, chas, nox, rm, age, dis, rad, tax, ptratio, black, lstat)\n",
        "\n",
        "# Convert chas to factor (categorical variable)\n",
        "df$chas <- as.factor(df$chas)\n",
        "# Convert rad and tax to numeric (in case they are integers or factors)\n",
        "df$rad <- as.numeric(df$rad)\n",
        "df$tax <- as.numeric(df$tax)\n",
        "\n",
        "# Verify data types\n",
        "str(df)\n",
        "\n",
        "# Split data into training (70%) and test (30%) sets, stratified by chas\n",
        "seeds <- 11076\n",
        "tr_prop <- 0.70\n",
        "set.seed(seeds)\n",
        "\n",
        "# Stratified sampling for training data\n",
        "train <- ddply(df, .(chas),\n",
        "               function(., seed) { set.seed(seed); .[sample(1:nrow(.), trunc(nrow(.) * tr_prop)), ] },\n",
        "               seed = seeds)\n",
        "test <- ddply(df, .(chas),\n",
        "              function(., seed) { set.seed(seed); .[-sample(1:nrow(.), trunc(nrow(.) * tr_prop)), ] },\n",
        "              seed = seeds)\n",
        "\n",
        "# Scale the numeric features (exclude medv and chas)\n",
        "numeric_cols <- c(\"crim\", \"zn\", \"indus\", \"nox\", \"rm\", \"age\", \"dis\", \"rad\", \"tax\", \"ptratio\", \"black\", \"lstat\")\n",
        "train[numeric_cols] <- scale(train[numeric_cols])\n",
        "test[numeric_cols] <- scale(test[numeric_cols])"
      ]
    },
    {
      "cell_type": "markdown",
      "source": [
        "#### Fit a GBM Regression Model\n",
        "\n",
        "`gbm()` function is used to fit the GBM model. The `formula` argument specifies the response variable (SOC) and the predictor variables The `distribution` argument is set to \"gaussian\" for regression tasks. Other parameters such as `n.trees`, `shrinkage`, `interaction.depth`, and `n.minobsinnode` are set to control the model complexity and training process.\n"
      ],
      "metadata": {
        "id": "k6EFndFdP5qq"
      }
    },
    {
      "cell_type": "code",
      "source": [
        "%%R\n",
        "# Fit a GBM\n",
        "set.seed(123)\n",
        ".libPaths('drive/My Drive/R/') # Set the library path\n",
        "initial_model <- gbm(\n",
        "  formula = medv ~ crim + zn + indus + chas + nox + rm + age + dis + rad + tax + ptratio + black + lstat,\n",
        "  data = train,\n",
        "  distribution = \"gaussian\",  # For regression\n",
        "  n.trees = 100,\n",
        "  shrinkage = 0.1,\n",
        "  interaction.depth = 3,\n",
        "  n.minobsinnode = 10\n",
        ")\n",
        "initial_model"
      ],
      "metadata": {
        "colab": {
          "base_uri": "https://localhost:8080/"
        },
        "id": "p7fPSLSxsZie",
        "outputId": "02cbb4a5-3136-4afa-f4d6-222852073cc1"
      },
      "execution_count": 16,
      "outputs": [
        {
          "output_type": "stream",
          "name": "stdout",
          "text": [
            "gbm(formula = medv ~ crim + zn + indus + chas + nox + rm + age + \n",
            "    dis + rad + tax + ptratio + black + lstat, distribution = \"gaussian\", \n",
            "    data = train, n.trees = 100, interaction.depth = 3, n.minobsinnode = 10, \n",
            "    shrinkage = 0.1)\n",
            "A gradient boosted model with gaussian loss function.\n",
            "100 iterations were performed.\n",
            "There were 13 predictors of which 12 had non-zero influence.\n"
          ]
        }
      ]
    },
    {
      "cell_type": "markdown",
      "source": [
        "#### GBM Performance Evaluation\n",
        "\n",
        "`gbm.perf()`estimates the optimal number of boosting iterations for a gbm object and optionally plots various performance measures. The `method` argument is set to \"OOB\" to omputes the out-of-bag estimate. The number of trees (`n.trees`) is determined based on the minimum cross-validated error."
      ],
      "metadata": {
        "id": "1vVH2cqxhqcS"
      }
    },
    {
      "cell_type": "code",
      "source": [
        "%%R\n",
        "# Evaluate initial model\n",
        "initial_n_trees <- gbm.perf(initial_model, method = \"OOB\")\n",
        "initial_n_trees\n"
      ],
      "metadata": {
        "colab": {
          "base_uri": "https://localhost:8080/",
          "height": 708
        },
        "id": "MyjnaLHUP946",
        "outputId": "ab2c8f65-90f8-477a-8513-49768357c6b7"
      },
      "execution_count": 17,
      "outputs": [
        {
          "output_type": "stream",
          "name": "stderr",
          "text": [
            "WARNING:rpy2.rinterface_lib.callbacks:R[write to console]: OOB generally underestimates the optimal number of iterations although predictive performance is reasonably competitive. Using cv_folds>1 when calling gbm usually results in improved predictive performance.\n",
            "\n"
          ]
        },
        {
          "output_type": "stream",
          "name": "stdout",
          "text": [
            "[1] 35\n",
            "attr(,\"smoother\")\n",
            "Call:\n",
            "loess(formula = object$oobag.improve ~ x, enp.target = min(max(4, \n",
            "    length(x)/10), 50))\n",
            "\n",
            "Number of Observations: 100 \n",
            "Equivalent Number of Parameters: 8.32 \n",
            "Residual Standard Error: 0.3921 \n"
          ]
        },
        {
          "output_type": "display_data",
          "data": {
            "image/png": "[encoded data removed]"
          },
          "metadata": {}
        }
      ]
    },
    {
      "cell_type": "markdown",
      "source": [
        "#### Predict and Evaluate Initial Model"
      ],
      "metadata": {
        "id": "ioqlVpARP_pN"
      }
    },
    {
      "cell_type": "code",
      "source": [
        "%%R\n",
        "initial_predictions <- predict(initial_model, test, n.trees = initial_n_trees)\n",
        "initial_mse <- mean((test$medv - initial_predictions)^2)\n",
        "cat(\"Initial Model Test MSE:\", initial_mse, \"\\n\")"
      ],
      "metadata": {
        "colab": {
          "base_uri": "https://localhost:8080/"
        },
        "id": "uwTfSah-QYwz",
        "outputId": "cad0ee83-be8f-46f6-bd11-c78ba308a491"
      },
      "execution_count": 18,
      "outputs": [
        {
          "output_type": "stream",
          "name": "stdout",
          "text": [
            "Initial Model Test MSE: 20.92635 \n"
          ]
        }
      ]
    },
    {
      "cell_type": "markdown",
      "source": [
        "#### Hyperparameter Tuning for the Best Parameters\n",
        "\n",
        "We will perform hyperparameter tuning using grid search to find the best parameters for the GBM model. The grid search will evaluate different combinations of hyperparameters such as `n.trees`, `shrinkage`,  `n.minobsinnode`, and `interaction.depth` to minimize the cross-validated mean squared error (MSE)."
      ],
      "metadata": {
        "id": "Vh_4nTSOBPbT"
      }
    },
    {
      "cell_type": "code",
      "source": [
        "%%R\n",
        "# Define hyperparameter grid\n",
        "param_grid <- expand.grid(\n",
        "  n.trees = c(500, 1000, 2000),\n",
        "  interaction.depth = c(1, 3, 5),\n",
        "  shrinkage = c(0.01, 0.05, 0.1),\n",
        "  n.minobsinnode = c(5, 10)\n",
        ")\n",
        "\n",
        "# Initialize best_mse and best_params\n",
        "best_mse <- Inf\n",
        "best_params <- param_grid[1, ] # Initialize with the first set of parameters\n",
        "\n",
        "set.seed(123)\n",
        "for (i in 1:nrow(param_grid)) {\n",
        "  .libPaths('drive/My Drive/R/') # Set the library path inside the loop\n",
        "  model <- gbm(\n",
        "    formula = medv ~ crim + zn + indus + chas + nox + rm + age + dis + rad + tax + ptratio + black + lstat,\n",
        "    data = train,\n",
        "    distribution = \"gaussian\",\n",
        "    n.trees = param_grid$n.trees[i],\n",
        "    shrinkage = param_grid$shrinkage[i],\n",
        "    interaction.depth = param_grid$interaction.depth[i],\n",
        "    n.minobsinnode = param_grid$n.minobsinnode[i]\n",
        "  )\n",
        "  # Check if the model has cv.error (cross-validation was successful)\n",
        "  if (!is.null(model$cv.error)) {\n",
        "    cv_mse <- min(model$cv.error)\n",
        "    if (cv_mse < best_mse) {\n",
        "      best_mse <- cv_mse\n",
        "      best_params <- param_grid[i, ]\n",
        "    }\n",
        "  } else {\n",
        "      # If cv.error is null, handle cases where cross-validation might fail\n",
        "      # For simplicity, we can just skip this iteration or log a warning\n",
        "      # For now, we'll just continue to the next iteration\n",
        "      cat(\"Warning: Cross-validation failed for parameter combination\", i, \"\\n\")\n",
        "  }\n",
        "}"
      ],
      "metadata": {
        "id": "oQz_eHAmBR-U",
        "colab": {
          "base_uri": "https://localhost:8080/"
        },
        "outputId": "719fce73-ee86-4918-fec3-854360fdb658"
      },
      "execution_count": 23,
      "outputs": [
        {
          "output_type": "stream",
          "name": "stdout",
          "text": [
            "Warning: Cross-validation failed for parameter combination 1 \n",
            "Warning: Cross-validation failed for parameter combination 2 \n",
            "Warning: Cross-validation failed for parameter combination 3 \n",
            "Warning: Cross-validation failed for parameter combination 4 \n",
            "Warning: Cross-validation failed for parameter combination 5 \n",
            "Warning: Cross-validation failed for parameter combination 6 \n",
            "Warning: Cross-validation failed for parameter combination 7 \n",
            "Warning: Cross-validation failed for parameter combination 8 \n",
            "Warning: Cross-validation failed for parameter combination 9 \n",
            "Warning: Cross-validation failed for parameter combination 10 \n",
            "Warning: Cross-validation failed for parameter combination 11 \n",
            "Warning: Cross-validation failed for parameter combination 12 \n",
            "Warning: Cross-validation failed for parameter combination 13 \n",
            "Warning: Cross-validation failed for parameter combination 14 \n",
            "Warning: Cross-validation failed for parameter combination 15 \n",
            "Warning: Cross-validation failed for parameter combination 16 \n",
            "Warning: Cross-validation failed for parameter combination 17 \n",
            "Warning: Cross-validation failed for parameter combination 18 \n",
            "Warning: Cross-validation failed for parameter combination 19 \n",
            "Warning: Cross-validation failed for parameter combination 20 \n",
            "Warning: Cross-validation failed for parameter combination 21 \n",
            "Warning: Cross-validation failed for parameter combination 22 \n",
            "Warning: Cross-validation failed for parameter combination 23 \n",
            "Warning: Cross-validation failed for parameter combination 24 \n",
            "Warning: Cross-validation failed for parameter combination 25 \n",
            "Warning: Cross-validation failed for parameter combination 26 \n",
            "Warning: Cross-validation failed for parameter combination 27 \n",
            "Warning: Cross-validation failed for parameter combination 28 \n",
            "Warning: Cross-validation failed for parameter combination 29 \n",
            "Warning: Cross-validation failed for parameter combination 30 \n",
            "Warning: Cross-validation failed for parameter combination 31 \n",
            "Warning: Cross-validation failed for parameter combination 32 \n",
            "Warning: Cross-validation failed for parameter combination 33 \n",
            "Warning: Cross-validation failed for parameter combination 34 \n",
            "Warning: Cross-validation failed for parameter combination 35 \n",
            "Warning: Cross-validation failed for parameter combination 36 \n",
            "Warning: Cross-validation failed for parameter combination 37 \n",
            "Warning: Cross-validation failed for parameter combination 38 \n",
            "Warning: Cross-validation failed for parameter combination 39 \n",
            "Warning: Cross-validation failed for parameter combination 40 \n",
            "Warning: Cross-validation failed for parameter combination 41 \n",
            "Warning: Cross-validation failed for parameter combination 42 \n",
            "Warning: Cross-validation failed for parameter combination 43 \n",
            "Warning: Cross-validation failed for parameter combination 44 \n",
            "Warning: Cross-validation failed for parameter combination 45 \n",
            "Warning: Cross-validation failed for parameter combination 46 \n",
            "Warning: Cross-validation failed for parameter combination 47 \n",
            "Warning: Cross-validation failed for parameter combination 48 \n",
            "Warning: Cross-validation failed for parameter combination 49 \n",
            "Warning: Cross-validation failed for parameter combination 50 \n",
            "Warning: Cross-validation failed for parameter combination 51 \n",
            "Warning: Cross-validation failed for parameter combination 52 \n",
            "Warning: Cross-validation failed for parameter combination 53 \n",
            "Warning: Cross-validation failed for parameter combination 54 \n"
          ]
        }
      ]
    },
    {
      "cell_type": "markdown",
      "source": [
        "##### The Best Parameters"
      ],
      "metadata": {
        "id": "InxT9l2JhJ5-"
      }
    },
    {
      "cell_type": "code",
      "source": [
        "%%R\n",
        "# Print best parameters\n",
        "cat(\"Best Parameters:\\n\")\n",
        "print(best_params)"
      ],
      "metadata": {
        "colab": {
          "base_uri": "https://localhost:8080/"
        },
        "id": "J78vWenWR7rZ",
        "outputId": "b552a1ac-2e02-4c68-bc59-22945956d846"
      },
      "execution_count": 24,
      "outputs": [
        {
          "output_type": "stream",
          "name": "stdout",
          "text": [
            "Best Parameters:\n",
            "  n.trees interaction.depth shrinkage n.minobsinnode\n",
            "1     500                 1      0.01              5\n"
          ]
        }
      ]
    },
    {
      "cell_type": "markdown",
      "source": [
        "##### Fit Final Model with Best Parameters"
      ],
      "metadata": {
        "id": "kK6jj2ZtBcNP"
      }
    },
    {
      "cell_type": "code",
      "source": [
        "%%R\n",
        "set.seed(123)\n",
        "final_model <- gbm(\n",
        "  formula = medv ~ crim + zn + indus + chas + nox + rm + age + dis + rad + tax + ptratio + black + lstat,\n",
        "  data = train,\n",
        "  distribution = \"gaussian\",\n",
        "  n.trees = best_params$n.trees,\n",
        "  shrinkage = best_params$shrinkage,\n",
        "  interaction.depth = best_params$interaction.depth,\n",
        "  n.minobsinnode = best_params$n.minobsinnode\n",
        ")\n",
        "final_model"
      ],
      "metadata": {
        "id": "TuIIZ-40BdCf",
        "colab": {
          "base_uri": "https://localhost:8080/"
        },
        "outputId": "e6405a25-f03d-4b93-c5cc-bb64acbf8dfb"
      },
      "execution_count": 25,
      "outputs": [
        {
          "output_type": "stream",
          "name": "stdout",
          "text": [
            "gbm(formula = medv ~ crim + zn + indus + chas + nox + rm + age + \n",
            "    dis + rad + tax + ptratio + black + lstat, distribution = \"gaussian\", \n",
            "    data = train, n.trees = best_params$n.trees, interaction.depth = best_params$interaction.depth, \n",
            "    n.minobsinnode = best_params$n.minobsinnode, shrinkage = best_params$shrinkage)\n",
            "A gradient boosted model with gaussian loss function.\n",
            "500 iterations were performed.\n",
            "There were 13 predictors of which 9 had non-zero influence.\n"
          ]
        }
      ]
    },
    {
      "cell_type": "markdown",
      "source": [
        "##### Predict and Evaluate Final Model"
      ],
      "metadata": {
        "id": "NsQBHk7lyrYJ"
      }
    },
    {
      "cell_type": "code",
      "source": [
        "%%R\n",
        "final_n_trees <- gbm.perf(final_model, method = \"OOB\")\n",
        "\n",
        "final_predictions <- predict(final_model, test, n.trees = final_n_trees)\n",
        "final_mse <- mean((test$medv - final_predictions)^2)\n",
        "cat(\"Final Model Test MSE:\", final_mse, \"\\n\")"
      ],
      "metadata": {
        "id": "CBCnc7oWysF3",
        "colab": {
          "base_uri": "https://localhost:8080/",
          "height": 569
        },
        "outputId": "bc585512-92f8-4b89-c0d7-e148c4fd2e04"
      },
      "execution_count": 27,
      "outputs": [
        {
          "output_type": "stream",
          "name": "stderr",
          "text": [
            "WARNING:rpy2.rinterface_lib.callbacks:R[write to console]: OOB generally underestimates the optimal number of iterations although predictive performance is reasonably competitive. Using cv_folds>1 when calling gbm usually results in improved predictive performance.\n",
            "\n"
          ]
        },
        {
          "output_type": "stream",
          "name": "stdout",
          "text": [
            "Final Model Test MSE: 21.48463 \n"
          ]
        },
        {
          "output_type": "display_data",
          "data": {
            "image/png": "[encoded data removed]"
          },
          "metadata": {}
        }
      ]
    },
    {
      "cell_type": "markdown",
      "source": [
        "##### 1:1 Plot of Predicted vs Observed values"
      ],
      "metadata": {
        "id": "xp10D0dmyz47"
      }
    },
    {
      "cell_type": "code",
      "source": [
        "%%R\n",
        "formula <- y ~ x\n",
        "y_test <- test$medv\n",
        "test_df <- data.frame(medv = y_test, medv.pred = final_predictions)\n",
        "\n",
        "ggplot(test_df, aes(medv, medv.pred)) +\n",
        "  geom_point() +\n",
        "  geom_smooth(method = \"lm\") +\n",
        "  stat_poly_eq(use_label(c(\"eq\", \"adj.R2\")), formula = formula) +\n",
        "  ggtitle(\"GBM\") +\n",
        "  xlab(\"Observed\") + ylab(\"Predicted\") +\n",
        "  scale_x_continuous(limits = c(0, 50), breaks = seq(0, 50, 10)) +\n",
        "  scale_y_continuous(limits = c(0, 50), breaks = seq(0, 50, 10)) +\n",
        "  theme(\n",
        "    panel.background = element_rect(fill = \"grey95\", colour = \"gray75\", size = 0.5, linetype = \"solid\"),\n",
        "    axis.line = element_line(colour = \"grey\"),\n",
        "    plot.title = element_text(size = 14, hjust = 0.5),\n",
        "    axis.title.x = element_text(size = 14),\n",
        "    axis.title.y = element_text(size = 14),\n",
        "    axis.text.x = element_text(size = 13, colour = \"black\"),\n",
        "    axis.text.y = element_text(size = 13, angle = 90, vjust = 0.5, hjust = 0.5, colour = \"black\")\n",
        "  )"
      ],
      "metadata": {
        "id": "30BL1-92y551",
        "colab": {
          "base_uri": "https://localhost:8080/",
          "height": 514
        },
        "outputId": "e5326ac7-30ec-4c9b-8bab-1334c78888a9"
      },
      "execution_count": 28,
      "outputs": [
        {
          "output_type": "stream",
          "name": "stdout",
          "text": [
            "`geom_smooth()` using formula = 'y ~ x'\n"
          ]
        },
        {
          "output_type": "display_data",
          "data": {
            "image/png": "[encoded data removed]"
          },
          "metadata": {}
        }
      ]
    },
    {
      "cell_type": "markdown",
      "source": [
        "##### Feature Importance"
      ],
      "metadata": {
        "id": "zs8FOwDEJHKY"
      }
    },
    {
      "cell_type": "code",
      "source": [
        "%%R\n",
        "# Plot feature importance using ggplot2\n",
        "rel_inf <- relative.influence(final_model, n.trees = final_n_trees)\n",
        "rel_inf <- rel_inf / sum(rel_inf) * 100  # Normalize to percentage\n",
        "importance <- data.frame(\n",
        "  Feature = names(rel_inf),\n",
        "  Gain = rel_inf\n",
        ")\n",
        "p <- ggplot(importance, aes(x = reorder(Feature, Gain), y = Gain)) +\n",
        "  geom_bar(stat = \"identity\", fill = \"#1f77b4\") +\n",
        "  coord_flip() +\n",
        "  labs(title = \"GBM Feature Importance (Relative Influence)\", x = \"Feature\", y = \"Relative Influence (%)\") +\n",
        "  theme_minimal() +\n",
        "  theme(plot.title = element_text(hjust = 0.5))\n",
        "print(p)"
      ],
      "metadata": {
        "colab": {
          "base_uri": "https://localhost:8080/",
          "height": 497
        },
        "id": "gVBadrA9JNi9",
        "outputId": "757d8083-8919-4937-d699-d239606184a3"
      },
      "execution_count": 30,
      "outputs": [
        {
          "output_type": "display_data",
          "data": {
            "image/png": "[encoded data removed]"
          },
          "metadata": {}
        }
      ]
    },
    {
      "cell_type": "markdown",
      "source": [
        "### Classification with GBM\n",
        "\n",
        "In this section, we will use the {gbm} package to perform classification tasks. We will load the dataset, preprocess it, and then fit a GBM model for classification. The dataset will be split into training and testing sets, and we will evaluate the model's performance using accuracy and multi-class log loss."
      ],
      "metadata": {
        "id": "Irqlj8sYYKas"
      }
    },
    {
      "cell_type": "markdown",
      "source": [
        "#### Data and Data Preparation\n",
        "\n",
        "We will use`health insurance` dataset to predict the product type (A, B, or C) based on various features such as age, household size, position level, and absence records."
      ],
      "metadata": {
        "id": "NRpPJB6-YUUo"
      }
    },
    {
      "cell_type": "code",
      "source": [
        "%%R\n",
        "# Load the dataset\n",
        "df <-readr::read_csv(\"https://github.com/zia207/r-colab/raw/main/Data/Machine_Learning/health_insurance.csv\")\n",
        "# Create dataframe with selected features\n",
        "df <- df %>%\n",
        "  dplyr::select(product, age, household, position_level, absent) %>%\n",
        "  glimpse()\n",
        "# Convert product to factor\n",
        "df$product <- as.factor(df$product)\n",
        "\n",
        "# Split into training and test sets\n",
        "set.seed(123)\n",
        "indices <- sample(1:nrow(df), size = 0.75 * nrow(df))\n",
        "train <- df[indices, ]\n",
        "test <- df[-indices, ]"
      ],
      "metadata": {
        "colab": {
          "base_uri": "https://localhost:8080/"
        },
        "id": "UfumDV8yYaI2",
        "outputId": "8ae4b789-63b0-44cf-9bf0-79fbeec6db3a"
      },
      "execution_count": null,
      "outputs": [
        {
          "output_type": "stream",
          "name": "stdout",
          "text": [
            "Rows: 1448 Columns: 6\n",
            "── Column specification ────────────────────────────────────────────────────────\n",
            "Delimiter: \",\"\n",
            "chr (2): product, gender\n",
            "dbl (4): age, household, position_level, absent\n",
            "\n",
            "ℹ Use `spec()` to retrieve the full column specification for this data.\n",
            "ℹ Specify the column types or set `show_col_types = FALSE` to quiet this message.\n",
            "Rows: 1,448\n",
            "Columns: 5\n",
            "$ product        <chr> \"C\", \"A\", \"C\", \"A\", \"A\", \"A\", \"A\", \"B\", \"C\", \"B\", \"B\", …\n",
            "$ age            <dbl> 57, 21, 66, 36, 23, 31, 37, 37, 55, 66, 58, 62, 31, 45,…\n",
            "$ household      <dbl> 2, 7, 7, 4, 0, 5, 3, 0, 3, 2, 1, 2, 2, 5, 3, 5, 4, 7, 7…\n",
            "$ position_level <dbl> 2, 2, 2, 2, 2, 1, 3, 3, 3, 4, 2, 2, 2, 2, 4, 4, 4, 4, 4…\n",
            "$ absent         <dbl> 10, 7, 1, 6, 11, 14, 12, 25, 3, 18, 1, 25, 0, 10, 20, 2…\n"
          ]
        }
      ]
    },
    {
      "cell_type": "markdown",
      "source": [
        "#### Fit GBM Classification Model"
      ],
      "metadata": {
        "id": "5yliW4QeZMpE"
      }
    },
    {
      "cell_type": "code",
      "source": [
        "%%R\n",
        "# for reproducibility\n",
        "set.seed(123)\n",
        "initial_model <- gbm(\n",
        "  formula = product ~ age + household + position_level + absent,\n",
        "  data = train,\n",
        "  distribution = \"multinomial\",  # For multi-class classification\n",
        "  n.trees = 100,\n",
        "  shrinkage = 0.1,\n",
        "  interaction.depth = 3,\n",
        "  n.minobsinnode = 10,\n",
        ")\n",
        "initial_model"
      ],
      "metadata": {
        "colab": {
          "base_uri": "https://localhost:8080/"
        },
        "id": "0H3OVcIrZNK8",
        "outputId": "b98bf15a-5733-4439-927f-bfd61bbd1ed4"
      },
      "execution_count": null,
      "outputs": [
        {
          "output_type": "stream",
          "name": "stdout",
          "text": [
            "gbm(formula = product ~ age + household + position_level + absent, \n",
            "    distribution = \"multinomial\", data = train, n.trees = 100, \n",
            "    interaction.depth = 3, n.minobsinnode = 10, shrinkage = 0.1)\n",
            "A gradient boosted model with multinomial loss function.\n",
            "100 iterations were performed.\n",
            "There were 4 predictors of which 4 had non-zero influence.\n"
          ]
        }
      ]
    },
    {
      "cell_type": "markdown",
      "source": [
        "#### Predictions and Evaluation\n",
        "\n",
        "For model evalution we will use `accuracy` and `multi-class log loss` as metrics. The accuracy is the proportion of correct predictions, while the multi-class log loss measures the performance of a classification model whose output is a probability value between 0 and 1 for each class.\n",
        "\n",
        "The multi-class log loss (also called cross-entropy loss) can be computed manually in R using the formula:\n",
        "\n",
        "$$ \\text{multi_logloss} = -\\frac{1}{N} \\sum_{i=1}^N \\sum_{k=1}^K y_{ik} \\log(\\hat{p}_{ik}) $$\n",
        "\n",
        "where:\n",
        "\n",
        "-   $N$: Number of observations.\n",
        "\n",
        "-   $K$: Number of classes (3 for `product`: A, B, C).\n",
        "\n",
        "-   $y_{ik}$: 1 if observation $i$ belongs to class $k$, 0 otherwise.\n",
        "\n",
        "-   $\\hat{p}_{ik}$: Predicted probability for observation $i$ and class $k$.\n",
        "\n",
        "The model outputs predicted probabilities for each class (via `predict(..., reshape = TRUE)`), and the true labels are encoded as 0 (A), 1 (B), and 2 (C). We’ll create a custom `multi_logloss` function to compute this metric and update the script accordingly."
      ],
      "metadata": {
        "id": "Gp7pWvYaZS7T"
      }
    },
    {
      "cell_type": "code",
      "source": [
        "%%R\n",
        "# Function to calculate multi_logloss\n",
        "multi_logloss <- function(actual, predicted_probs) {\n",
        "  epsilon <- 1e-15\n",
        "  predicted_probs <- pmax(pmin(predicted_probs, 1 - epsilon), epsilon)  # Clip probabilities\n",
        "  N <- nrow(predicted_probs)\n",
        "  K <- ncol(predicted_probs)\n",
        "  logloss <- 0\n",
        "  for (i in 1:N) {\n",
        "    true_class <- actual[i]\n",
        "    true_class_idx <- which(levels(actual) == true_class)\n",
        "    logloss <- logloss - log(predicted_probs[i, true_class_idx])\n",
        "  }\n",
        "  return(logloss / N)\n",
        "}"
      ],
      "metadata": {
        "id": "05n7c6Pt0Sqi"
      },
      "execution_count": null,
      "outputs": []
    },
    {
      "cell_type": "code",
      "source": [
        "%%R\n",
        "# Plot model error\n",
        "initial_n_trees <- gbm.perf(initial_model, method = \"OOB\")"
      ],
      "metadata": {
        "colab": {
          "base_uri": "https://localhost:8080/",
          "height": 552
        },
        "id": "D3Kv94NoZTyA",
        "outputId": "f9fc0909-2ccf-4b23-aa24-6b27afc66bac"
      },
      "execution_count": null,
      "outputs": [
        {
          "output_type": "stream",
          "name": "stderr",
          "text": [
            "WARNING:rpy2.rinterface_lib.callbacks:R[write to console]: OOB generally underestimates the optimal number of iterations although predictive performance is reasonably competitive. Using cv_folds>1 when calling gbm usually results in improved predictive performance.\n",
            "\n"
          ]
        },
        {
          "output_type": "display_data",
          "data": {
            "image/png": "[encoded data removed]"
          },
          "metadata": {}
        }
      ]
    },
    {
      "cell_type": "code",
      "source": [
        "%%R\n",
        "initial_predictions <- predict(initial_model, test, n.trees = initial_n_trees, type = \"response\")\n",
        "initial_pred_probs <- matrix(initial_predictions, nrow = nrow(test), ncol = nlevels(df$product))\n",
        "colnames(initial_pred_probs) <- levels(df$product)\n",
        "initial_pred_classes <- apply(initial_pred_probs, 1, which.max)\n",
        "initial_pred_classes <- levels(df$product)[initial_pred_classes]\n",
        "initial_accuracy <- mean(initial_pred_classes == test$product)\n",
        "initial_logloss <- multi_logloss(test$product, initial_pred_probs)\n",
        "cat(\"Initial Model Test Accuracy:\", initial_accuracy, \"\\n\")\n",
        "cat(\"Initial Model Multi_logloss:\", initial_logloss, \"\\n\")"
      ],
      "metadata": {
        "colab": {
          "base_uri": "https://localhost:8080/"
        },
        "id": "Z-iU5Cb_0fqO",
        "outputId": "c03a137b-1e84-467e-e024-bad0097c0ed4"
      },
      "execution_count": null,
      "outputs": [
        {
          "output_type": "stream",
          "name": "stdout",
          "text": [
            "Initial Model Test Accuracy: 0.7320442 \n",
            "Initial Model Multi_logloss: 0.4771266 \n"
          ]
        }
      ]
    },
    {
      "cell_type": "code",
      "source": [
        "%%R\n",
        "cat(\"Initial Model Confusion Matrix:\\n\")\n",
        "print(table(Predicted = initial_pred_classes, Actual = test$product))"
      ],
      "metadata": {
        "colab": {
          "base_uri": "https://localhost:8080/"
        },
        "id": "OLG0TPHx0mVS",
        "outputId": "cbef70b1-2f2b-466a-c32a-dc48fbeea93a"
      },
      "execution_count": null,
      "outputs": [
        {
          "output_type": "stream",
          "name": "stdout",
          "text": [
            "Initial Model Confusion Matrix:\n",
            "         Actual\n",
            "Predicted   A   B   C\n",
            "        A 105  23  17\n",
            "        B  19  71  14\n",
            "        C   2  22  89\n"
          ]
        }
      ]
    },
    {
      "cell_type": "markdown",
      "source": [
        "#### Feature Importance\n",
        "\n"
      ],
      "metadata": {
        "id": "a-JpJLkCZbAz"
      }
    },
    {
      "cell_type": "markdown",
      "source": [
        "##### Feature Importance plot\n",
        "\n"
      ],
      "metadata": {
        "id": "-GLqNM7HX5jJ"
      }
    },
    {
      "cell_type": "code",
      "source": [
        "%%R\n",
        "rel_inf <- relative.influence(initial_model, n.trees = initial_n_trees)\n",
        "rel_inf <- rel_inf / sum(rel_inf) * 100  # Normalize to percentage\n",
        "importance <- data.frame(\n",
        "  Feature = names(rel_inf),\n",
        "  Gain = rel_inf\n",
        ")\n",
        "p <- ggplot(importance, aes(x = reorder(Feature, Gain), y = Gain)) +\n",
        "  geom_bar(stat = \"identity\", fill = \"#1f77b4\") +\n",
        "  coord_flip() +\n",
        "  labs(title = \"GBM Feature Importance (Relative Influence)\", x = \"Feature\", y = \"Relative Influence (%)\") +\n",
        "  theme_minimal() +\n",
        "  theme(plot.title = element_text(hjust = 0.5))\n",
        "print(p)"
      ],
      "metadata": {
        "colab": {
          "base_uri": "https://localhost:8080/",
          "height": 497
        },
        "id": "lWflJ_FPZoso",
        "outputId": "00737187-c7f0-4176-ea72-4f36b4cc9f2b"
      },
      "execution_count": null,
      "outputs": [
        {
          "output_type": "display_data",
          "data": {
            "image/png": "[encoded data removed]"
          },
          "metadata": {}
        }
      ]
    },
    {
      "cell_type": "markdown",
      "source": [
        "## Summary and Conclusion\n",
        "\n",
        "The Gradient Boosting Machine (GBM) is a powerful ensemble learning technique that builds models by combining multiple weak learners, typically decision trees, to improve predictive accuracy. In this exercise, we implemented GBM for both regression and classification tasks using the `{gbm}` package in R. This exercise demonstrated a brief overview of GBM, including its mathematical formulation, how it works, and practical applications in R. At the end of the exercise, we successfully fitted GBM models to synthetic datasets for regression and classification tasks, evaluated their performance using appropriate metrics, and visualized feature importance."
      ],
      "metadata": {
        "id": "Nb0kdVIuGlK7"
      }
    },
    {
      "cell_type": "markdown",
      "source": [
        "## References\n",
        "\n",
        "1.  Friedman, J., Hastie, T., & Tibshirani, R. (2009). *The Elements of Statistical Learning*. Springer. (Chapter 10 covers boosting and GBM fundamentals).\n",
        "\n",
        "2.  Friedman, J. H. (2001). \"Greedy Function Approximation: A Gradient Boosting Machine.\" *The Annals of Statistics*, 29(5), 1189–1232. (Seminal paper introducing GBM).\n",
        "\n",
        "3.  Kuhn, M., & Johnson, K. (2013). *Applied Predictive Modeling*. Springer. (Practical guide with GBM applications in R).\n",
        "\n",
        "4.  \"Gradient Boosting in R\" by DataCamp. Available at: https://www.datacamp.com/tutorial/gradient-boosting-r (Hands-on GBM implementation using `{gbm}` package).\n",
        "\n",
        "5. \"A Gentle Introduction to Gradient Boosting with gbm in R\" by R-bloggers. Available at: https://www.r-bloggers.com/2021/05/gradient-boosting-with-gbm-in-r/ (Step-by-step GBM tutorial with code examples).\n",
        "\n"
      ],
      "metadata": {
        "id": "ACNQyq1seLc7"
      }
    }
  ]
}