{
  "cells": [
    {
      "cell_type": "markdown",
      "metadata": {
        "id": "view-in-github",
        "colab_type": "text"
      },
      "source": [
        "<a href=\"https://colab.research.google.com/github/zia207/r-colab/blob/main/NoteBook/Machine_Learning/Tree_based/03-01-02-08-09-tree-based-models-bagging-grf-multitask-regression-forest-r.ipynb\" target=\"_parent\"><img src=\"https://colab.research.google.com/assets/colab-badge.svg\" alt=\"Open In Colab\"/></a>"
      ]
    },
    {
      "cell_type": "markdown",
      "metadata": {
        "id": "zYZbTX0qQrZb"
      },
      "source": [
        "![alt text](http://drive.google.com/uc?export=view&id=1bLQ3nhDbZrCCqy_WCxxckOne2lgVvn3l)"
      ]
    },
    {
      "cell_type": "markdown",
      "metadata": {
        "id": "RGBfrL2GQoII"
      },
      "source": [
        "# 2.8.9 Multi-task Regression Forest\n",
        "\n",
        "A **multi-task regression forest**, as implemented in the `{grf}` package in R, is an extension of the generalized random forest framework designed to handle multiple related regression tasks simultaneously. It leverages the structure of random forests to model multiple continuous outcomes (tasks) while accounting for potential correlations or shared patterns among them. This is particularly useful when the outcomes are related, and modeling them jointly can improve prediction accuracy or efficiency compared to fitting separate models for each task.\n"
      ]
    },
    {
      "cell_type": "markdown",
      "metadata": {
        "id": "S77MsgmqIYD0"
      },
      "source": [
        "## Overview\n",
        "\n",
        "A multi-task regression forest is a machine learning model that extends the random forest framework to predict multiple continuous outcomes (tasks) simultaneously. Instead of fitting a separate regression forest for each outcome, it builds a single forest that shares information across tasks, leveraging their relationships to improve predictions. In `{grf}`, this is implemented via the `multi_regression_forest()` function, which is designed to handle multiple response variables efficiently.\n",
        "\n"
      ]
    },
    {
      "cell_type": "markdown",
      "source": [
        "### Key features\n",
        "\n",
        "- `Shared Tree Structure`: The forest uses a single set of decision trees, where splits are determined by optimizing a joint criterion across all tasks (e.g., minimizing the combined mean squared error).\n",
        "- `Outcome-Specific Predictions`: Each tree provides predictions for all tasks, but the leaf estimates are tailored to each outcome.\n",
        "- `Honest Splitting`: Like other `{grf}` models, it supports honest splitting to reduce bias, splitting data into separate subsets for tree structure and leaf estimation.\n",
        "- `Flexibility`: It can handle high-dimensional data and is robust to non-linear relationships, similar to standard regression forests.\n"
      ],
      "metadata": {
        "id": "EnR-z3S9vTpk"
      }
    },
    {
      "cell_type": "markdown",
      "metadata": {
        "id": "VwEoykvwI2dS"
      },
      "source": [
        "### How Multi-task Regression Forest Works in `{grf}`\n",
        "\n",
        "The `multi_regression_forest()` function in `{grf}` works as follows:\n",
        "\n",
        "1. Input Data\n",
        "\n",
        "   - A feature matrix $X$ (predictors).\n",
        "   - A matrix $Y$ with multiple columns, where each column represents a different continuous outcome (task).\n",
        "   - Parameters like `num.trees`, `honesty`, and `min.node.size` to control the forest.\n",
        "\n",
        "2. Tree Construction\n",
        "\n",
        "   - Each tree is grown using a random subset of the data (via bootstrapping) and a random subset of features at each split.\n",
        "   - Splits are chosen to minimize a combined loss function across all tasks, typically the sum of squared errors for all outcomes.\n",
        "   - If `honesty = TRUE`, the data is split into two parts: one for determining the tree structure and another for estimating leaf values for each task.\n",
        "\n",
        "3. Prediction\n",
        "\n",
        "   - For a new data point, each tree assigns it to a leaf, and the predictions for each task are computed based on the average outcome values for that task in the leaf.\n",
        "   - The final prediction for each task is the average across all trees.\n",
        "\n",
        "4.  Output\n",
        "\n",
        "   - A matrix of predictions, with one column per task.\n",
        "   - Optional outputs like variable importance or variance estimates.\n"
      ]
    },
    {
      "cell_type": "markdown",
      "metadata": {
        "id": "bIBhNo81s-Nt"
      },
      "source": [
        "\n",
        "### Advantages of Multi-Task Regression Forests\n",
        "\n",
        "1. `Improved Efficiency`: By sharing a single forest across tasks, it reduces computational overhead compared to fitting separate forests for each outcome.\n",
        "2. `Leveraging Correlations`: If outcomes are related (e.g., housing price and tax rate), the model can exploit shared patterns to improve predictions.\n",
        "3. `Robustness`: Like other `{grf}` models, it handles non-linear relationships, high-dimensional data, and noisy inputs effectively.\n",
        "4. `Honest Estimation`: Supports honest splitting, reducing bias in predictions, especially for small datasets or complex tasks.\n",
        "5. `Flexibility`: Can be used in settings where multiple outcomes need to be predicted, such as economics, healthcare, or social sciences.\n"
      ]
    },
    {
      "cell_type": "markdown",
      "source": [
        "### Limitations\n",
        "\n",
        "1. `Assumes Related Tasks`: The model assumes that tasks share some underlying structure. If outcomes are unrelated, a multi-task forest may not outperform separate single-task forests.\n",
        "2. `Increased Complexity`: Optimizing splits for multiple outcomes can be computationally more intensive per tree compared to a single-task forest.\n",
        "3. `Interpretability`: While variable importance is available, interpreting the joint effect of features across multiple tasks can be challenging.\n",
        "4. `Tuning*` Requires careful tuning of parameters (e.g., `num.trees`, `min.node.size`) to balance performance across all tasks."
      ],
      "metadata": {
        "id": "NmMsBJhJvpJR"
      }
    },
    {
      "cell_type": "markdown",
      "source": [
        "#### `Key Differences from Standard Regression Forest`\n",
        "\n",
        "| **Aspect**                     | **Standard Regression Forest** (`regression_forest`) | **Multi-Task Regression Forest** (`multi_regression_forest`) |\n",
        "|--------------------------------|----------------------------------------------------|------------------------------------------------------------|\n",
        "| `Number of Outcomes`         | Predicts a single continuous outcome.              | Predicts multiple continuous outcomes simultaneously.      |\n",
        "| `Input for Y`                | A vector of one outcome (`Y`).                     | A matrix of multiple outcomes (`Y` with multiple columns).  |\n",
        "| `Tree Splitting`             | Optimizes splits for a single outcome’s MSE.       | Optimizes splits for a combined loss across all outcomes.  |\n",
        "| `Information Sharing`        | No sharing across outcomes (one model per outcome). | Shares tree structure across tasks, leveraging correlations. |\n",
        "| `Use Case`                   | Single regression task (e.g., predict `medv`).     | Multiple related regression tasks (e.g., predict `medv` and `tax`). |\n",
        "| `Computational Efficiency`   | Requires separate forests for multiple outcomes.   | More efficient by building one forest for all tasks.       |\n",
        "\n"
      ],
      "metadata": {
        "id": "-u2tkR3KvrbW"
      }
    },
    {
      "cell_type": "markdown",
      "metadata": {
        "id": "Bn4w4oqMCagF"
      },
      "source": [
        "## Setup R in Python Runtype"
      ]
    },
    {
      "cell_type": "markdown",
      "metadata": {
        "id": "yerTCtKKCmik"
      },
      "source": [
        "### Install {rpy2}\n",
        "\n",
        "{rpy2} is a Python package that provides an interface to the R programming language, allowing Python users to run R code, call R functions, and manipulate R objects directly from Python. It enables seamless integration between Python and R, leveraging R's statistical and graphical capabilities while using Python's flexibility. The package supports passing data between the two languages and is widely used for statistical analysis, data visualization, and machine learning tasks that benefit from R's specialized libraries."
      ]
    },
    {
      "cell_type": "code",
      "execution_count": 1,
      "metadata": {
        "colab": {
          "base_uri": "https://localhost:8080/"
        },
        "id": "OqeCyNf0Crlc",
        "outputId": "abf62ed0-6c84-4fe7-89d5-17a5aeb58850"
      },
      "outputs": [
        {
          "output_type": "stream",
          "name": "stdout",
          "text": [
            "Found existing installation: rpy2 3.5.17\n",
            "Uninstalling rpy2-3.5.17:\n",
            "  Successfully uninstalled rpy2-3.5.17\n",
            "Collecting rpy2==3.5.1\n",
            "  Downloading rpy2-3.5.1.tar.gz (201 kB)\n",
            "\u001b[2K     \u001b[90m━━━━━━━━━━━━━━━━━━━━━━━━━━━━━━━━━━━━━━━\u001b[0m \u001b[32m201.7/201.7 kB\u001b[0m \u001b[31m3.3 MB/s\u001b[0m eta \u001b[36m0:00:00\u001b[0m\n",
            "\u001b[?25h  Preparing metadata (setup.py) ... \u001b[?25l\u001b[?25hdone\n",
            "Requirement already satisfied: cffi>=1.10.0 in /usr/local/lib/python3.11/dist-packages (from rpy2==3.5.1) (1.17.1)\n",
            "Requirement already satisfied: jinja2 in /usr/local/lib/python3.11/dist-packages (from rpy2==3.5.1) (3.1.6)\n",
            "Requirement already satisfied: pytz in /usr/local/lib/python3.11/dist-packages (from rpy2==3.5.1) (2025.2)\n",
            "Requirement already satisfied: tzlocal in /usr/local/lib/python3.11/dist-packages (from rpy2==3.5.1) (5.3.1)\n",
            "Requirement already satisfied: pycparser in /usr/local/lib/python3.11/dist-packages (from cffi>=1.10.0->rpy2==3.5.1) (2.22)\n",
            "Requirement already satisfied: MarkupSafe>=2.0 in /usr/local/lib/python3.11/dist-packages (from jinja2->rpy2==3.5.1) (3.0.2)\n",
            "Building wheels for collected packages: rpy2\n",
            "  Building wheel for rpy2 (setup.py) ... \u001b[?25l\u001b[?25hdone\n",
            "  Created wheel for rpy2: filename=rpy2-3.5.1-cp311-cp311-linux_x86_64.whl size=314973 sha256=2dce982b604acc25b58e9cad7916a1c96bde97fa1b6d08b7fa2ddf4ebc75e6b0\n",
            "  Stored in directory: /root/.cache/pip/wheels/e9/55/d1/47be85a5f3f1e1f4d1e91cb5e3a4dcb40dd72147f184c5a5ef\n",
            "Successfully built rpy2\n",
            "Installing collected packages: rpy2\n",
            "Successfully installed rpy2-3.5.1\n"
          ]
        }
      ],
      "source": [
        "!pip uninstall rpy2 -y\n",
        "!pip install rpy2==3.5.1\n",
        "%load_ext rpy2.ipython"
      ]
    },
    {
      "cell_type": "markdown",
      "metadata": {
        "id": "vOzGUgYCCyqg"
      },
      "source": [
        "### Mount Google Drive"
      ]
    },
    {
      "cell_type": "code",
      "execution_count": 2,
      "metadata": {
        "colab": {
          "base_uri": "https://localhost:8080/"
        },
        "id": "_lngQQKKC2lc",
        "outputId": "00509d41-e6bc-45e0-c15d-daded62ad1dc"
      },
      "outputs": [
        {
          "output_type": "stream",
          "name": "stdout",
          "text": [
            "Mounted at /content/drive\n"
          ]
        }
      ],
      "source": [
        "from google.colab import drive\n",
        "drive.mount('/content/drive')"
      ]
    },
    {
      "cell_type": "markdown",
      "metadata": {
        "id": "bh7jEhGCLDZA"
      },
      "source": [
        "\n",
        "## Multi-task Regression Forest with R\n",
        "\n",
        "To illustrate, let’s use the Boston Housing dataset to predict two related outcomes: `medv` (median housing price) and `tax` (property tax rate). We’ll fit a `multi_regression_forest()`, predict on a test set, and evaluate performance.\n",
        "\n",
        "\n"
      ]
    },
    {
      "cell_type": "markdown",
      "metadata": {
        "id": "RlLmnBj77AMx"
      },
      "source": [
        "### Load and Check Required Libraries"
      ]
    },
    {
      "cell_type": "code",
      "execution_count": 3,
      "metadata": {
        "id": "9rXvjfapLYED"
      },
      "outputs": [],
      "source": [
        "%%R\n",
        "packages <- c('tidyverse',\n",
        "              'plyr',\n",
        "              'grf',\n",
        "              'rdd',\n",
        "              'survival',\n",
        "              'mlbench',\n",
        "              'Metrics'\n",
        "         )"
      ]
    },
    {
      "cell_type": "markdown",
      "metadata": {
        "id": "MDwlBWYYLc1e"
      },
      "source": [
        "### Install Missing Packages"
      ]
    },
    {
      "cell_type": "code",
      "execution_count": null,
      "metadata": {
        "id": "PWzWe7xULb2L"
      },
      "outputs": [],
      "source": [
        "%%R\n",
        "# Install missing packages\n",
        "new.packages <- packages[!(packages %in% installed.packages(lib='drive/My Drive/R/')[,\"Package\"])]\n",
        "if(length(new.packages)) install.packages(new.packages, lib='drive/My Drive/R/')"
      ]
    },
    {
      "cell_type": "markdown",
      "metadata": {
        "id": "HM3Bl4-PLfFF"
      },
      "source": [
        "### Verify Installation"
      ]
    },
    {
      "cell_type": "code",
      "execution_count": null,
      "metadata": {
        "colab": {
          "base_uri": "https://localhost:8080/"
        },
        "id": "pHr9zUJvLfNl",
        "outputId": "0e1e70ce-78f9-4d43-b842-7689763479f5"
      },
      "outputs": [
        {
          "output_type": "stream",
          "name": "stdout",
          "text": [
            "Installed packages:\n",
            "tidyverse      plyr       grf       rdd  survival   mlbench   Metrics \n",
            "     TRUE      TRUE      TRUE      TRUE      TRUE      TRUE      TRUE \n"
          ]
        }
      ],
      "source": [
        "%%R\n",
        "# set library path\n",
        ".libPaths('drive/My Drive/R')\n",
        "# Verify installation\n",
        "cat(\"Installed packages:\\n\")\n",
        "print(sapply(packages, requireNamespace, quietly = TRUE))"
      ]
    },
    {
      "cell_type": "markdown",
      "metadata": {
        "id": "2cPLFz1GLlRD"
      },
      "source": [
        "### Load R Packages"
      ]
    },
    {
      "cell_type": "code",
      "execution_count": 4,
      "metadata": {
        "id": "jIlm0D69x_70"
      },
      "outputs": [],
      "source": [
        "%%R\n",
        "# set library path\n",
        ".libPaths('drive/My Drive/R')\n",
        "# Load packages with suppressed messages\n",
        "invisible(lapply(packages, function(pkg) {\n",
        "  suppressPackageStartupMessages(library(pkg, character.only = TRUE))\n",
        "}))\n"
      ]
    },
    {
      "cell_type": "markdown",
      "metadata": {
        "id": "AH4vKW2yL1OF"
      },
      "source": [
        "### Check Loaded Packages"
      ]
    },
    {
      "cell_type": "code",
      "execution_count": null,
      "metadata": {
        "colab": {
          "base_uri": "https://localhost:8080/"
        },
        "id": "Du3QbdUeL1Yw",
        "outputId": "f7da74cd-9086-495e-c8f0-f2d6693c910a"
      },
      "outputs": [
        {
          "output_type": "stream",
          "name": "stdout",
          "text": [
            "Successfully loaded packages:\n",
            " [1] \"package:rdd\"       \"package:Formula\"   \"package:AER\"      \n",
            " [4] \"package:car\"       \"package:carData\"   \"package:lmtest\"   \n",
            " [7] \"package:zoo\"       \"package:sandwich\"  \"package:Metrics\"  \n",
            "[10] \"package:mlbench\"   \"package:survival\"  \"package:grf\"      \n",
            "[13] \"package:plyr\"      \"package:lubridate\" \"package:forcats\"  \n",
            "[16] \"package:stringr\"   \"package:dplyr\"     \"package:purrr\"    \n",
            "[19] \"package:readr\"     \"package:tidyr\"     \"package:tibble\"   \n",
            "[22] \"package:ggplot2\"   \"package:tidyverse\" \"package:tools\"    \n",
            "[25] \"package:stats\"     \"package:graphics\"  \"package:grDevices\"\n",
            "[28] \"package:utils\"     \"package:datasets\"  \"package:methods\"  \n",
            "[31] \"package:base\"     \n"
          ]
        }
      ],
      "source": [
        "%%R\n",
        "# Check loaded packages\n",
        "cat(\"Successfully loaded packages:\\n\")\n",
        "print(search()[grepl(\"package:\", search())])# Check loaded packageswer)"
      ]
    },
    {
      "cell_type": "markdown",
      "metadata": {
        "id": "IPobetr0zFC5"
      },
      "source": [
        "### Load and Prepare the Dataset\n",
        "\n",
        "The lung dataset contains survival data for lung cancer patients with variables like `time` (survival time), `status` (censoring indicator), `age`, s`ex`, and `ph.ecog` (ECOG performance score). We’ll simulate a binary `health_status `variable (1 = improved, 0 = not improved) and use age, sex, and ph.ecog as covariates.\n"
      ]
    },
    {
      "cell_type": "code",
      "execution_count": 5,
      "metadata": {
        "id": "RmfGVScmzF8P"
      },
      "outputs": [],
      "source": [
        "%%R\n",
        "# Load Boston Housing dataset\n",
        "data(BostonHousing, package = \"mlbench\")\n",
        "# Split data into training (70%) and test (30%) sets\n",
        "# Set seed for reproducibility\n",
        "set.seed(123)\n",
        "n <- nrow(BostonHousing)\n",
        "train_idx <- sample(1:n, size = 0.7 * n)\n",
        "train_data <- BostonHousing[train_idx, ]\n",
        "test_data <- BostonHousing[-train_idx, ]"
      ]
    },
    {
      "cell_type": "markdown",
      "source": [
        "\n",
        "### Prepare Features and Target Variable"
      ],
      "metadata": {
        "id": "_2kVPmofcc0H"
      }
    },
    {
      "cell_type": "code",
      "source": [
        "%%R\n",
        "# Prepare features (X) and multiple outcomes (Y)\n",
        "X_train <- model.matrix(~ . - medv - tax, data = train_data)[, -1]  # Exclude medv, tax, intercept\n",
        "Y_train <- as.matrix(train_data[, c(\"medv\", \"tax\")])               # Matrix of outcomes\n",
        "X_test <- model.matrix(~ . - medv - tax, data = test_data)[, -1]   # Exclude medv, tax, intercept\n",
        "Y_test <- as.matrix(test_data[, c(\"medv\", \"tax\")])"
      ],
      "metadata": {
        "id": "JMfWgFsjcdfZ"
      },
      "execution_count": 9,
      "outputs": []
    },
    {
      "cell_type": "markdown",
      "metadata": {
        "id": "jxK5d0frBs8O"
      },
      "source": [
        "### Fit Multi-task Regression Forest\n",
        "\n",
        "Fit a multi-task regression forest using the `multi_regression_forest()` function from the `{grf}` package. This function allows us to model multiple continuous outcomes simultaneously."
      ]
    },
    {
      "cell_type": "code",
      "execution_count": 10,
      "metadata": {
        "id": "Ou9edbC9Bt5M",
        "colab": {
          "base_uri": "https://localhost:8080/"
        },
        "outputId": "d9d05395-3d37-458e-8079-142e3f1ac767"
      },
      "outputs": [
        {
          "output_type": "stream",
          "name": "stdout",
          "text": [
            "GRF forest object of type multi_regression_forest \n",
            "Number of trees: 500 \n",
            "Number of training samples: 354 \n",
            "Variable importance: \n",
            "    1     2     3     4     5     6     7     8     9    10    11    12 \n",
            "0.280 0.002 0.095 0.002 0.049 0.008 0.014 0.060 0.387 0.016 0.011 0.076 \n"
          ]
        }
      ],
      "source": [
        "%%R\n",
        "# Fit multi-task regression forest\n",
        "multi_rf <- multi_regression_forest(X_train,\n",
        "                                    Y_train,\n",
        "                                    num.trees = 500,\n",
        "                                    honesty = TRUE)\n",
        "print(multi_rf)  # Print model summary"
      ]
    },
    {
      "cell_type": "markdown",
      "metadata": {
        "id": "7KgHx7kY9EEg"
      },
      "source": [
        "### Predict on Test Set and Evaluate Model"
      ]
    },
    {
      "cell_type": "code",
      "execution_count": 11,
      "metadata": {
        "colab": {
          "base_uri": "https://localhost:8080/"
        },
        "id": "m0vovr-CfwBZ",
        "outputId": "13244268-a613-4123-a220-339febe328a4"
      },
      "outputs": [
        {
          "output_type": "stream",
          "name": "stdout",
          "text": [
            "medv - RMSE: 6.037645  R-squared: 0.588648 \n",
            "tax - RMSE: 50.54847  R-squared: 0.9100317 \n"
          ]
        }
      ],
      "source": [
        "%%R\n",
        "# Predict on test set\n",
        "predictions <- predict(multi_rf, X_test)$predictions\n",
        "\n",
        "# Calculate RMSE for each task\n",
        "rmse_medv <- sqrt(mean((predictions[, 1] - Y_test[, 1])^2))\n",
        "rmse_tax <- sqrt(mean((predictions[, 2] - Y_test[, 2])^2))\n",
        "\n",
        "# Calculate R-squared for each task\n",
        "sst_medv <- sum((Y_test[, 1] - mean(Y_test[, 1]))^2)\n",
        "sse_medv <- sum((predictions[, 1] - Y_test[, 1])^2)\n",
        "r_squared_medv <- 1 - sse_medv / sst_medv\n",
        "\n",
        "sst_tax <- sum((Y_test[, 2] - mean(Y_test[, 2]))^2)\n",
        "sse_tax <- sum((predictions[, 2] - Y_test[, 2])^2)\n",
        "r_squared_tax <- 1 - sse_tax / sst_tax\n",
        "\n",
        "# Print performance metrics\n",
        "cat(\"medv - RMSE:\", rmse_medv, \" R-squared:\", r_squared_medv, \"\\n\")\n",
        "cat(\"tax - RMSE:\", rmse_tax, \" R-squared:\", r_squared_tax, \"\\n\")"
      ]
    },
    {
      "cell_type": "code",
      "execution_count": 13,
      "metadata": {
        "id": "6SoYugD6CEgf",
        "colab": {
          "base_uri": "https://localhost:8080/",
          "height": 497
        },
        "outputId": "73b28072-cb05-4e82-ee84-3672d73ba8c2"
      },
      "outputs": [
        {
          "output_type": "display_data",
          "data": {
            "image/png": "[encoded data removed]"
          },
          "metadata": {}
        }
      ],
      "source": [
        "%%R\n",
        "# Scatter plot for medv (first task)\n",
        "plot(Y_test[, 1], predictions[, 1],\n",
        "     main = \"Predicted vs Observed Median Housing Prices (medv)\",\n",
        "     xlab = \"Observed medv ($1000s)\", ylab = \"Predicted medv ($1000s)\",\n",
        "     pch = 19, col = \"blue\",\n",
        "     xlim = range(c(Y_test[, 1], predictions[, 1])),\n",
        "     ylim = range(c(Y_test[, 1], predictions[, 1])))\n",
        "abline(0, 1, col = \"red\", lty = 2)\n",
        "legend(\"topleft\",\n",
        "       legend = c(sprintf(\"R-squared: %.3f\", r_squared_medv),\n",
        "                  sprintf(\"RMSE: %.3f\", rmse_medv)),\n",
        "       bty = \"n\", cex = 1.2)"
      ]
    },
    {
      "cell_type": "code",
      "source": [
        "%%R\n",
        "# Scatter plot for tax (second task)\n",
        "plot(Y_test[, 2], predictions[, 2],\n",
        "     main = \"Predicted vs Observed Property Tax (tax)\",\n",
        "     xlab = \"Observed tax\", ylab = \"Predicted tax\",\n",
        "     pch = 19, col = \"green\",\n",
        "     xlim = range(c(Y_test[, 2], predictions[, 2])),\n",
        "     ylim = range(c(Y_test[, 2], predictions[, 2])))\n",
        "abline(0, 1, col = \"red\", lty = 2)\n",
        "legend(\"topleft\",\n",
        "       legend = c(sprintf(\"R-squared: %.3f\", r_squared_tax),\n",
        "                  sprintf(\"RMSE: %.3f\", rmse_tax)),\n",
        "       bty = \"n\", cex = 1.2)"
      ],
      "metadata": {
        "colab": {
          "base_uri": "https://localhost:8080/",
          "height": 497
        },
        "id": "dL3CCA9yBoPN",
        "outputId": "7621c401-b9d9-4807-dab4-be5adf01e5cc"
      },
      "execution_count": 14,
      "outputs": [
        {
          "output_type": "display_data",
          "data": {
            "image/png": "[encoded data removed]"
          },
          "metadata": {}
        }
      ]
    },
    {
      "cell_type": "markdown",
      "metadata": {
        "id": "_j759RVMQMut"
      },
      "source": [
        "## Summary and Conclusion\n",
        "\n",
        "Multi-task regression forests in `{grf}` provide a powerful framework for modeling multiple related continuous outcomes simultaneously. By leveraging shared information across tasks, they can improve prediction accuracy and computational efficiency compared to fitting separate models for each outcome. This tutorial demonstrated how to implement a multi-task regression forest using the Boston Housing dataset, predicting both median housing prices and property tax rates. The model's performance was evaluated using RMSE and R-squared metrics, showcasing its effectiveness in handling multiple regression tasks.\n",
        "  "
      ]
    },
    {
      "cell_type": "markdown",
      "metadata": {
        "id": "SaZTnZx3QPGI"
      },
      "source": [
        "\n",
        "## References\n",
        "\n",
        "1. Athey et al. (2019) on generalized random forests, and Wager & Athey (2018) on causal forests.\n",
        "\n",
        "2. [Multi-task Regression Forest](https://grf-labs.github.io/grf/reference/multi_regression_forest.html)"
      ]
    }
  ],
  "metadata": {
    "colab": {
      "provenance": [],
      "toc_visible": true,
      "authorship_tag": "ABX9TyMZcNoMohSOKjKooSK8M3hi",
      "include_colab_link": true
    },
    "kernelspec": {
      "display_name": "Python 3",
      "name": "python3"
    },
    "language_info": {
      "name": "python"
    }
  },
  "nbformat": 4,
  "nbformat_minor": 0
}