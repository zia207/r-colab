{
  "nbformat": 4,
  "nbformat_minor": 0,
  "metadata": {
    "colab": {
      "provenance": [],
      "toc_visible": true,
      "authorship_tag": "ABX9TyMr/LGKwmyF9i6tsZQNT4iB",
      "include_colab_link": true
    },
    "kernelspec": {
      "name": "python3",
      "display_name": "Python 3"
    },
    "language_info": {
      "name": "python"
    }
  },
  "cells": [
    {
      "cell_type": "markdown",
      "metadata": {
        "id": "view-in-github",
        "colab_type": "text"
      },
      "source": [
        "<a href=\"https://colab.research.google.com/github/zia207/r-colab/blob/main/NoteBook/Machine_Learning/Tree_based/03-01-02-04-tree-based-models-bagging-extremely-randomized-trees-r.ipynb\" target=\"_parent\"><img src=\"https://colab.research.google.com/assets/colab-badge.svg\" alt=\"Open In Colab\"/></a>"
      ]
    },
    {
      "cell_type": "markdown",
      "source": [
        "![alt text](http://drive.google.com/uc?export=view&id=1bLQ3nhDbZrCCqy_WCxxckOne2lgVvn3l)"
      ],
      "metadata": {
        "id": "zYZbTX0qQrZb"
      }
    },
    {
      "cell_type": "markdown",
      "source": [
        "# 2.4 Extremely Randomized Trees (Extra Trees)\n",
        "\n",
        "Extremely Randomized Trees (Extra Trees) is a machine learning ensemble method that builds multiple decision trees and combines their predictions to improve accuracy and robustness. It is an extension of the Random Forest algorithm, introduced by Pierre Geurts et al. in 2006, and is designed to further reduce variance and computational complexity by introducing additional randomization."
      ],
      "metadata": {
        "id": "RGBfrL2GQoII"
      }
    },
    {
      "cell_type": "markdown",
      "source": [
        "## Overview\n",
        "\n",
        "Extra Trees is a powerful ensemble learning method that builds multiple decision trees and combines their predictions. It is particularly effective for high-dimensional datasets and can handle both classification and regression tasks. The key idea behind Extra Trees is to introduce more randomness into the tree-building process, which helps to reduce overfitting and improve generalization.\n",
        "\n",
        "Key Features:\n",
        "\n",
        "1. **Random Feature Selection**: Picks random subset of features at each node.\n",
        "2. **Random Split Thresholds**: Chooses split points randomly, not optimally.\n",
        "3. **Ensemble Aggregation**: Combines tree predictions (voting for classification, averaging for regression).\n",
        "4. **No Bootstrap (Optional)**: Uses full dataset per tree, unlike Random Forest.\n",
        "5. **Low Variance**: High randomization reduces tree correlation.\n",
        "6. **Fast Training**: Random splits make it quicker than Random Forest.\n",
        "7. **Noise Robust**: Handles noisy data well.\n",
        "\n",
        "**Pros**: Fast, robust, less overfitting.  \n",
        "**Cons**: Slightly less accurate than Random Forest, less interpretable.  \n",
        "**Uses**: Classification, regression on noisy or high-dimensional data.\n"
      ],
      "metadata": {
        "id": "7ZqlGV65Qme0"
      }
    },
    {
      "cell_type": "markdown",
      "source": [
        "### How Extra Trees Works\n",
        "\n",
        "Extra Trees builds an ensemble of decision trees using a highly randomized approach. The key steps in the Extra Trees algorithm are as follows:\n",
        "\n",
        "1. Ensemble of Decision Trees\n",
        "\n",
        "-   Extra Trees builds a collection of decision trees, where each tree is trained on a subset of the data (or the entire dataset, depending on configuration).\n",
        "\n",
        "-   The final prediction is made by aggregating the outputs of all trees:\n",
        "\n",
        "  -   `Classification`: Majority voting across all trees.\n",
        "\n",
        "  -   `Regression`: Averaging the predictions of all trees.\n",
        "\n",
        "    -   \n",
        "\n",
        "   Lets denote:\n",
        "\n",
        "  -   $T$: Number of trees in the ensemble.\n",
        "\n",
        "  -   $D$: Training dataset with $n$ samples and $m$ features, $D = \\{(x_i, y_i)\\}_{i=1}^n$, where $x_i$ is a feature vector and $y$ is the target (class label for classification or continuous value for regression).\n",
        "\n",
        "   -   Each tree $t \\in \\{1, 2, \\dots, T\\}$ produces a prediction \\$h_t(x)% for an input ( x ).\n",
        "\n",
        "-   For **classification**:\n",
        "\n",
        "   -   The final prediction is the majority vote:\n",
        "\n",
        "$$ \\hat{y}(x) = \\text{mode} \\{ h_1(x), h_2(x), \\dots, h_T(x) \\} $$\n",
        "\n",
        "where \\#\\text{mode}\\$ selects the most frequent class across all trees.\n",
        "\n",
        "-   For `regression`:\n",
        "\n",
        "   -   The final prediction is the average:\n",
        "\n",
        "$$ \\hat{y}(x) = \\frac{1}{T} \\sum_{t=1}^T h_t(x) $$\n",
        "\n",
        "where $h_t(x)$ is the output of the ( t )-th tree.\n",
        "\n",
        "-   The ensemble reduces variance by combining predictions from multiple trees, which are intentionally diversified through randomization (explained in later steps).\n",
        "\n",
        "2. Randomized Feature Selection\n",
        "\n",
        "-   At each node of a decision tree, Extra Trees selects a random subset of features (similar to Random Forests).\n",
        "\n",
        "-   Unlike Random Forests, which evaluate all possible splits for these features to find the best one (e.g., based on Gini impurity or information gain), Extra Trees picks a split randomly without optimizing.\n",
        "\n",
        "-   At each node:\n",
        "\n",
        "-   Select a random subset of $k$ features from the total $m$ features (typically $k = \\sqrt{m}$ for classification or $k = m/3$ for regression, though this can be tuned).\n",
        "\n",
        "-   For each feature in this subset, a random split point is chosen (see Step 3).\n",
        "    \n",
        "-   Let $F = \\{f_1, f_2, \\dots, f_m\\}$ be the set of all features.\n",
        "\n",
        "-   A random subset $F_{\\text{node}} \\subseteq F$ is chosen, where $|F_{\\text{node}}| = k$.\n",
        "\n",
        "-   No optimization is performed (unlike Random Forests, which minimize a criterion like Gini impurity):\n",
        "\n",
        "$$ \\text{Gini}(S) = 1 - \\sum_{c=1}^C p_c^2 $$\n",
        "\n",
        "or\n",
        "\n",
        "$$ \\text{Information Gain}(S, f) = H(S) - \\sum_{v \\in \\text{values}(f)} \\frac{|S_v|}{|S|} H(S_v) $$\n",
        "\n",
        "where $H(S)$ is the entropy of set $S$, and $S_v$ is the subset of samples where feature $f$ takes value $v$. Extra Trees skips these calculations.\n",
        "\n",
        "-   By avoiding the search for the optimal split, Extra Trees reduces computational cost, making it faster than Random Forests, especially for large datasets.\n",
        "\n",
        "3. Randomized Splitting\n",
        "\n",
        "-   For each feature in the random subset $F_{\\text{node}}$, Extra Trees generates a random threshold within the feature’s range.\n",
        "\n",
        "-   The split is chosen randomly among these thresholds without evaluating their quality (e.g., no comparison of Gini impurity or variance reduction).\n",
        "\n",
        "-   For a feature $f_j \\in F_{\\text{node}}$:\n",
        "\n",
        "  -   Compute the range of values for $f_j$ in the current node’s data: $[\\text{min}(f_j), \\text{max}(f_j)]$.\n",
        "\n",
        "  -   Select a random threshold $\\theta_j$) uniformly from this range:\n",
        "\n",
        "$$ \\theta_j \\sim \\text{Uniform}(\\text{min}(f_j), \\text{max}(f_j)) $$\n",
        "\n",
        "-   The node splits the data into two subsets:\n",
        "\n",
        "  -   Left: $\\{ x \\in S \\mid f_j(x) \\leq \\theta_j \\}$\n",
        "\n",
        "   -   Right: $\\{ x \\in S \\mid f_j(x) > \\theta_j \\}$\n",
        "\n",
        "    -   Among the $k$ features in $F_{\\text{node}}$, Extra Trees randomly selects one of the proposed splits (or sometimes uses a simple heuristic, like picking the first one, depending on the implementation).\n",
        "\n",
        "\\`- The split condition for a node is:\n",
        "\n",
        "$$ \\text{Split: } f_j(x) \\leq \\theta_j $$\n",
        "\n",
        "-   No optimization criterion is computed, unlike Random Forests, which would evaluate:\n",
        "\n",
        "$$  \\text{Best split} = \\arg\\min_{f_j, \\theta_j} \\text{Criterion}(S_{\\text{left}}, S_{\\text{right}}) $$\n",
        "\n",
        "where the criterion could be Gini impurity, entropy, or variance.\n",
        "\n",
        "-   The random threshold selection introduces extra randomness, which helps decorrelate the trees further and reduces overfitting while maintaining predictive power.\n",
        "\n",
        "4. Bootstrap Sampling (Optional)\n",
        "\n",
        "-   Extra Trees can use bootstrap sampling (random sampling with replacement) to create different training subsets for each tree, similar to Random Forests.\n",
        "\n",
        "-   Alternatively, Extra Trees often uses the entire training dataset for each tree (no bootstrapping), which is a key distinction from Random Forests and reduces variance further.\n",
        "\n",
        "-   If bootstrap sampling is enabled:\n",
        "\n",
        "  -   For each tree $t$, sample $n$ instances from $D$) with replacement to create a subset $D_t$.\n",
        "\n",
        "  -   The probability that a sample $(x_i, y_i)$ is included in $D_t$ is:\n",
        "\n",
        "$$  P(\\text{included}) = 1 - \\left(1 - \\frac{1}{n}\\right)^n \\approx 1 - e^{-1} \\approx 0.632 $$\n",
        "\n",
        "-   Thus, about 63.2% of the data is used per tree, with some samples repeated.\n",
        "\n",
        "-   If bootstrap sampling is disabled (common in Extra Trees):\n",
        "\n",
        "    -   Each tree is trained on the full dataset $D$, i.e., $D_t = D$.\n",
        "\n",
        "-   Using the full dataset (no bootstrapping) reduces variance because each tree sees all the data, but the randomization in feature selection and splitting ensures diversity among trees.\n",
        "\n",
        "5. Aggregation\n",
        "\n",
        "-   Once all $T$ trees are built, their predictions are combined to produce the final output.\n",
        "\n",
        "-   This step is identical to Random Forests but relies on the highly randomized trees built in the previous steps.\n",
        "\n",
        "-   For a new input $x$:\n",
        "\n",
        "   -   Each tree $t$ produces a prediction $h_t(x)$.\n",
        "\n",
        "   -   The final prediction is computed as:\n",
        "\n",
        "- `Classification`:\n",
        "\n",
        "$$ \\hat{y}(x) = \\text{mode} \\{ h_1(x), h_2(x), \\dots, h_T(x) \\} $$\n",
        "\n",
        "where the mode is the most frequent class label.\n",
        "\n",
        "         \n",
        "- `Regression`:\n",
        "\n",
        "\n",
        "$$  \\hat{y}(x) = \\frac{1}{T} \\sum_{t=1}^T h_t(x) $$\n",
        "\n",
        "where the average of all tree predictions is taken.\n",
        "\n",
        "-   The aggregation leverages the law of large numbers to produce a robust prediction, as the errors of individual trees (due to randomness) tend to cancel out.\n",
        "\n"
      ],
      "metadata": {
        "id": "YHSyBY0O3Tj8"
      }
    },
    {
      "cell_type": "markdown",
      "source": [
        "Below is a flowchart summarizing the Extra Trees algorithm:\n",
        "\n",
        "![alt text](http://drive.google.com/uc?export=view&id=1AOZtY5BD50W1qRERKfG-OBRakgl6GZqd)\n"
      ],
      "metadata": {
        "id": "MfeqJ2MyFVfU"
      }
    },
    {
      "cell_type": "markdown",
      "source": [
        "### Key Differences from Random Forests\n",
        "\n",
        "-   `More Randomness`: Extra Trees randomizes both feature splits and threshold selection, while Random Forests optimize splits based on a criterion (e.g., Gini or entropy).\n",
        "-   `Faster Training`: Random split selection avoids computationally expensive optimization, making Extra Trees faster to train.\n",
        "-   `Bias-Variance Tradeoff`: Extra Trees increases bias slightly (due to random splits) but reduces variance, which can lead to better generalization on noisy datasets.\n",
        "-   `Overfitting`: Extra Trees is less prone to overfitting than Random Forests, especially when the dataset is small or noisy."
      ],
      "metadata": {
        "id": "5kbEVEgICPd5"
      }
    },
    {
      "cell_type": "markdown",
      "source": [
        "### Advantages\n",
        "\n",
        "-   `Speed`: Faster training due to random split selection.\n",
        "-   `Robustness`: Handles noisy data well and reduces overfitting.\n",
        "-   `Simplicity`: Fewer hyperparameters to tune compared to other ensemble methods.\n",
        "-   `Versatility`: Works for both classification and regression tasks."
      ],
      "metadata": {
        "id": "zoVtYA7e3_qr"
      }
    },
    {
      "cell_type": "markdown",
      "source": [
        "### Disadvantages\n",
        "\n",
        "-   `Less Interpretable`: Like Random Forests, the ensemble nature makes it harder to interpret individual trees.\n",
        "-   `Slightly Higher Bias`: Random splits may lead to less optimal individual trees compared to optimized splits in Random Forests.\n",
        "-   `Memory Usage`: Building many trees can be memory-intensive for large datasets."
      ],
      "metadata": {
        "id": "0BkKGa9k4BdO"
      }
    },
    {
      "cell_type": "markdown",
      "source": [
        "### When to Use Extra Trees\n",
        "\n",
        "-   When you need a fast, robust ensemble method for classification or regression.\n",
        "-   When dealing with noisy or high-dimensional datasets.\n",
        "-   When computational resources are limited, and training speed is a priority.\n",
        "-   As an alternative to Random Forests when overfitting is a concern."
      ],
      "metadata": {
        "id": "gg_wMc694I5n"
      }
    },
    {
      "cell_type": "markdown",
      "source": [
        "## Setup R in Python Runtype"
      ],
      "metadata": {
        "id": "Bn4w4oqMCagF"
      }
    },
    {
      "cell_type": "markdown",
      "source": [
        "### Install {rpy2}\n",
        "\n",
        "{rpy2} is a Python package that provides an interface to the R programming language, allowing Python users to run R code, call R functions, and manipulate R objects directly from Python. It enables seamless integration between Python and R, leveraging R's statistical and graphical capabilities while using Python's flexibility. The package supports passing data between the two languages and is widely used for statistical analysis, data visualization, and machine learning tasks that benefit from R's specialized libraries."
      ],
      "metadata": {
        "id": "yerTCtKKCmik"
      }
    },
    {
      "cell_type": "code",
      "source": [
        "!pip uninstall rpy2 -y\n",
        "!pip install rpy2==3.5.1\n",
        "%load_ext rpy2.ipython"
      ],
      "metadata": {
        "colab": {
          "base_uri": "https://localhost:8080/"
        },
        "id": "OqeCyNf0Crlc",
        "outputId": "b63bd5f2-7503-4076-e9b9-c0987d8eaf84"
      },
      "execution_count": null,
      "outputs": [
        {
          "output_type": "stream",
          "name": "stdout",
          "text": [
            "Found existing installation: rpy2 3.5.17\n",
            "Uninstalling rpy2-3.5.17:\n",
            "  Successfully uninstalled rpy2-3.5.17\n",
            "Collecting rpy2==3.5.1\n",
            "  Downloading rpy2-3.5.1.tar.gz (201 kB)\n",
            "\u001b[2K     \u001b[90m━━━━━━━━━━━━━━━━━━━━━━━━━━━━━━━━━━━━━━\u001b[0m \u001b[32m201.7/201.7 kB\u001b[0m \u001b[31m11.0 MB/s\u001b[0m eta \u001b[36m0:00:00\u001b[0m\n",
            "\u001b[?25h  Preparing metadata (setup.py) ... \u001b[?25l\u001b[?25hdone\n",
            "Requirement already satisfied: cffi>=1.10.0 in /usr/local/lib/python3.11/dist-packages (from rpy2==3.5.1) (1.17.1)\n",
            "Requirement already satisfied: jinja2 in /usr/local/lib/python3.11/dist-packages (from rpy2==3.5.1) (3.1.6)\n",
            "Requirement already satisfied: pytz in /usr/local/lib/python3.11/dist-packages (from rpy2==3.5.1) (2025.2)\n",
            "Requirement already satisfied: tzlocal in /usr/local/lib/python3.11/dist-packages (from rpy2==3.5.1) (5.3.1)\n",
            "Requirement already satisfied: pycparser in /usr/local/lib/python3.11/dist-packages (from cffi>=1.10.0->rpy2==3.5.1) (2.22)\n",
            "Requirement already satisfied: MarkupSafe>=2.0 in /usr/local/lib/python3.11/dist-packages (from jinja2->rpy2==3.5.1) (3.0.2)\n",
            "Building wheels for collected packages: rpy2\n",
            "  Building wheel for rpy2 (setup.py) ... \u001b[?25l\u001b[?25hdone\n",
            "  Created wheel for rpy2: filename=rpy2-3.5.1-cp311-cp311-linux_x86_64.whl size=314976 sha256=e6004ad4f625623385900a877a85b863e9572cb0b3a7505f600c0f47997edd41\n",
            "  Stored in directory: /root/.cache/pip/wheels/e9/55/d1/47be85a5f3f1e1f4d1e91cb5e3a4dcb40dd72147f184c5a5ef\n",
            "Successfully built rpy2\n",
            "Installing collected packages: rpy2\n",
            "Successfully installed rpy2-3.5.1\n"
          ]
        }
      ]
    },
    {
      "cell_type": "markdown",
      "source": [
        "### Mount Google Drive"
      ],
      "metadata": {
        "id": "vOzGUgYCCyqg"
      }
    },
    {
      "cell_type": "code",
      "source": [
        "from google.colab import drive\n",
        "drive.mount('/content/drive')"
      ],
      "metadata": {
        "colab": {
          "base_uri": "https://localhost:8080/"
        },
        "id": "_lngQQKKC2lc",
        "outputId": "8a39117c-7e9e-427f-ab27-aa954e5721e8"
      },
      "execution_count": null,
      "outputs": [
        {
          "output_type": "stream",
          "name": "stdout",
          "text": [
            "Mounted at /content/drive\n"
          ]
        }
      ]
    },
    {
      "cell_type": "markdown",
      "source": [
        "## Extra Trees with R\n",
        "\n",
        "The Extra Trees algorithm can be implemented in R using the {extraTrees} package. Below is a step-by-step guide for installing and using the package for regression tasks. However, please note that the {extraTrees} package is no longer available on the CRAN repository, as it was removed on June 14, 2022, due to unresolved issues identified during checks, as documented in the CRAN archive. You can still download and install the archived version of the {extraTrees} package (version 1.0.5, the last available) from the CRAN archive.\n",
        "\n",
        "While using Google Colab, I encountered a Java runtime error when trying to run the {extraTrees} library, which prevented me from utilizing its functionality. To work around this issue, I developed my own function that mimics the functionality of the `extraTrees()` function, allowing me to fit an extra tree model."
      ],
      "metadata": {
        "id": "bh7jEhGCLDZA"
      }
    },
    {
      "cell_type": "markdown",
      "source": [
        "### Load and Check Required Libraries"
      ],
      "metadata": {
        "id": "RlLmnBj77AMx"
      }
    },
    {
      "cell_type": "code",
      "source": [
        "%%R\n",
        "# Download the archived package\n",
        "url <- \"https://cran.r-project.org/src/contrib/Archive/extraTrees/extraTrees_1.0.5.tar.gz\"\n",
        "download.file(url, destfile = \"extraTrees_1.0.5.tar.gz\")\n"
      ],
      "metadata": {
        "id": "iyJQ4X5iCkhp"
      },
      "execution_count": null,
      "outputs": []
    },
    {
      "cell_type": "code",
      "source": [
        "%%R\n",
        "# Install the package\n",
        "install.packages(\"./extraTrees_1.0.5.tar.gz\", repos = NULL, type = \"source\", lib='drive/My Drive/R/')"
      ],
      "metadata": {
        "id": "er5FShwgDq0n"
      },
      "execution_count": null,
      "outputs": []
    },
    {
      "cell_type": "code",
      "source": [
        "%%R\n",
        "packages <- c('tidyverse',\n",
        "              'plyr',\n",
        "              'mlbench',\n",
        "              'Metrics',\n",
        "              'caret'\n",
        "\n",
        "         )"
      ],
      "metadata": {
        "id": "9rXvjfapLYED"
      },
      "execution_count": null,
      "outputs": []
    },
    {
      "cell_type": "markdown",
      "source": [
        "### Install Missing Packages"
      ],
      "metadata": {
        "id": "MDwlBWYYLc1e"
      }
    },
    {
      "cell_type": "code",
      "source": [
        "%%R\n",
        "# Install missing packages\n",
        "new.packages <- packages[!(packages %in% installed.packages(lib='drive/My Drive/R/')[,\"Package\"])]\n",
        "if(length(new.packages)) install.packages(new.packages, lib='drive/My Drive/R/')"
      ],
      "metadata": {
        "id": "PWzWe7xULb2L"
      },
      "execution_count": null,
      "outputs": []
    },
    {
      "cell_type": "markdown",
      "source": [
        "### Verify Installation"
      ],
      "metadata": {
        "id": "HM3Bl4-PLfFF"
      }
    },
    {
      "cell_type": "code",
      "source": [
        "%%R\n",
        "# set library path\n",
        ".libPaths('drive/My Drive/R')\n",
        "# Verify installation\n",
        "cat(\"Installed packages:\\n\")\n",
        "print(sapply(packages, requireNamespace, quietly = TRUE))"
      ],
      "metadata": {
        "colab": {
          "base_uri": "https://localhost:8080/"
        },
        "id": "pHr9zUJvLfNl",
        "outputId": "46dbf1b6-3658-4c4a-fbf0-67543c226b48"
      },
      "execution_count": null,
      "outputs": [
        {
          "output_type": "stream",
          "name": "stdout",
          "text": [
            "Installed packages:\n",
            "tidyverse      plyr   mlbench   Metrics     caret \n",
            "     TRUE      TRUE      TRUE      TRUE      TRUE \n"
          ]
        }
      ]
    },
    {
      "cell_type": "markdown",
      "source": [
        "### Load R Packages"
      ],
      "metadata": {
        "id": "2cPLFz1GLlRD"
      }
    },
    {
      "cell_type": "code",
      "source": [
        "%%R\n",
        "# set library path\n",
        ".libPaths('drive/My Drive/R')\n",
        "# Load packages with suppressed messages\n",
        "invisible(lapply(packages, function(pkg) {\n",
        "  suppressPackageStartupMessages(library(pkg, character.only = TRUE))\n",
        "}))"
      ],
      "metadata": {
        "id": "cQl-1GIuLmCD"
      },
      "execution_count": null,
      "outputs": []
    },
    {
      "cell_type": "markdown",
      "source": [
        "### Check Loaded Packages"
      ],
      "metadata": {
        "id": "AH4vKW2yL1OF"
      }
    },
    {
      "cell_type": "code",
      "source": [
        "%%R\n",
        "# Check loaded packages\n",
        "cat(\"Successfully loaded packages:\\n\")\n",
        "print(search()[grepl(\"package:\", search())])# Check loaded packageswer)"
      ],
      "metadata": {
        "colab": {
          "base_uri": "https://localhost:8080/"
        },
        "id": "Du3QbdUeL1Yw",
        "outputId": "b037e44c-2da0-4e65-fa8a-0261de08e720"
      },
      "execution_count": null,
      "outputs": [
        {
          "output_type": "stream",
          "name": "stdout",
          "text": [
            "Successfully loaded packages:\n",
            " [1] \"package:caret\"     \"package:lattice\"   \"package:Metrics\"  \n",
            " [4] \"package:mlbench\"   \"package:plyr\"      \"package:lubridate\"\n",
            " [7] \"package:forcats\"   \"package:stringr\"   \"package:dplyr\"    \n",
            "[10] \"package:purrr\"     \"package:readr\"     \"package:tidyr\"    \n",
            "[13] \"package:tibble\"    \"package:ggplot2\"   \"package:tidyverse\"\n",
            "[16] \"package:tools\"     \"package:stats\"     \"package:graphics\" \n",
            "[19] \"package:grDevices\" \"package:utils\"     \"package:datasets\" \n",
            "[22] \"package:methods\"   \"package:base\"     \n"
          ]
        }
      ]
    },
    {
      "cell_type": "markdown",
      "source": [
        "### Classification Example\n",
        "\n"
      ],
      "metadata": {
        "id": "aS-CaRU1MCaR"
      }
    },
    {
      "cell_type": "markdown",
      "source": [
        "#### Data\n",
        "\n",
        "For classification, we will use the {party} packages to build a cforest model on [Health Iinsurance](http://peopleanalytics-regression-book.org/data/health_insurance.csv) data. The dataset contains information about individuals' choices of insurance products based on various features.\n",
        "\n",
        "We will use `read_csv()` function of {readr} package to import data as a **tidy** data.\n"
      ],
      "metadata": {
        "id": "euKDzTA_OEl-"
      }
    },
    {
      "cell_type": "code",
      "source": [
        "%%R\n",
        "# Load data\n",
        "mf <- readr::read_csv(\"https://github.com/zia207/r-colab/raw/main/Data/Machine_Learning/health_insurance.csv\")\n",
        "\n",
        "# Convert to factors\n",
        "mf$product <- as.factor(mf$product)\n",
        "mf$gender <- as.factor(mf$gender)\n",
        "\n",
        "# Split data into train and test (stratified by product and gender)\n",
        "seeds <- 11076\n",
        "tr_prop <- 0.70\n",
        "set.seed(seeds)\n",
        "train <- ddply(mf, .(product, gender),\n",
        "               function(., seed) { set.seed(seed); .[sample(1:nrow(.), trunc(nrow(.) * tr_prop)), ] }, seed = 101)\n",
        "test <- ddply(mf, .(product, gender),\n",
        "              function(., seed) { set.seed(seed); .[-sample(1:nrow(.), trunc(nrow(.) * tr_prop)), ] }, seed = 101)\n",
        "\n",
        "# Prepare features and target\n",
        "train_features <- train[, c(\"age\", \"household\", \"position_level\", \"absent\", \"gender\")]\n",
        "train_target <- train$product\n",
        "test_features <- test[, c(\"age\", \"household\", \"position_level\", \"absent\", \"gender\")]\n",
        "test_target <- test$product\n",
        "\n",
        "# Convert training features to numeric matrix\n",
        "train_features$gender <- as.factor(train_features$gender)\n",
        "train_features_numeric <- train_features\n",
        "train_features_numeric$gender <- as.numeric(train_features$gender) - 1  # Encode: Female=0, Male=1\n",
        "train_features_numeric$age <- as.numeric(train_features_numeric$age)\n",
        "train_features_numeric$household <- as.numeric(train_features_numeric$household)\n",
        "train_features_numeric$position_level <- as.numeric(train_features_numeric$position_level)\n",
        "train_features_numeric$absent <- as.numeric(train_features_numeric$absent)\n",
        "train_features_matrix <- as.matrix(train_features_numeric)\n",
        "\n",
        "# Convert test features to numeric matrix\n",
        "test_features$gender <- as.factor(test_features$gender)\n",
        "test_features_numeric <- test_features\n",
        "test_features_numeric$gender <- as.numeric(test_features$gender) - 1\n",
        "test_features_numeric$age <- as.numeric(test_features_numeric$age)\n",
        "test_features_numeric$household <- as.numeric(test_features_numeric$household)\n",
        "test_features_numeric$position_level <- as.numeric(test_features_numeric$position_level)\n",
        "test_features_numeric$absent <- as.numeric(test_features_numeric$absent)\n",
        "test_features_matrix <- as.matrix(test_features_numeric)\n",
        "\n",
        "# Ensure train_target is a factor\n",
        "train_target <- as.factor(train_target)"
      ],
      "metadata": {
        "colab": {
          "base_uri": "https://localhost:8080/"
        },
        "id": "OiC3ipq-OHim",
        "outputId": "2a167178-d6c1-4867-b642-afe8eaf54ca1"
      },
      "execution_count": null,
      "outputs": [
        {
          "output_type": "stream",
          "name": "stdout",
          "text": [
            "Rows: 1448 Columns: 6\n",
            "── Column specification ────────────────────────────────────────────────────────\n",
            "Delimiter: \",\"\n",
            "chr (2): product, gender\n",
            "dbl (4): age, household, position_level, absent\n",
            "\n",
            "ℹ Use `spec()` to retrieve the full column specification for this data.\n",
            "ℹ Specify the column types or set `show_col_types = FALSE` to quiet this message.\n"
          ]
        }
      ]
    },
    {
      "cell_type": "markdown",
      "source": [
        "#### Extra Trees function\n",
        "\n",
        "The `extraTrees` function implements an Extra Trees classifier in base R for a numeric feature matrix `x` and factor target `y`.\n",
        "\n",
        "**Key Features**:\n",
        "- **Inputs**: `x` (numeric matrix), `y` (factor), `ntree` (500 trees), `mtry` (√features), `nodesize` (min 5 samples), `numThreads` (ignored, set to 1).\n",
        "- **Validation**: Checks `x` is numeric, `y` is a factor, dimensions match, and `mtry`/`nodesize` are valid.\n",
        "- **Bootstrap Sampling**: Creates random samples with replacement for each tree.\n",
        "- **Tree Building**:\n",
        "  - Selects `mtry` random features per node.\n",
        "  - Uses random split thresholds (not optimized).\n",
        "  - Stops at `max_depth=10` or `nodesize`.\n",
        "  - Returns majority class for leaf nodes.\n",
        "- **Output**: Returns a list of `ntree` trees and parameters.\n",
        "\n",
        "**Process**: Builds `ntree` decision trees with random feature selection and splits, using bootstrap samples, for classification via majority voting."
      ],
      "metadata": {
        "id": "JaFT5tP5OrTO"
      }
    },
    {
      "cell_type": "code",
      "source": [
        "%%R\n",
        "# Extra Trees function\n",
        "extraTrees <- function(x, y, ntree = 500, mtry = floor(sqrt(ncol(x))), nodesize = 5, numThreads = 1) {\n",
        "  # Input validation\n",
        "  if (!is.matrix(x) || !is.numeric(x)) stop(\"x must be a numeric matrix\")\n",
        "  if (!is.factor(y)) stop(\"y must be a factor for classification\")\n",
        "  if (nrow(x) != length(y)) stop(\"Number of rows in x must match length of y\")\n",
        "  if (mtry < 1 || mtry > ncol(x)) stop(\"mtry must be between 1 and number of features\")\n",
        "  if (nodesize < 1) stop(\"nodesize must be positive\")\n",
        "\n",
        "  # Function to create a bootstrap sample\n",
        "  bootstrap_sample <- function(data, target) {\n",
        "    n <- nrow(data)\n",
        "    indices <- sample(1:n, n, replace = TRUE)\n",
        "    return(list(data = data[indices, , drop = FALSE], target = target[indices]))\n",
        "  }\n",
        "\n",
        "  # Function to select random features\n",
        "  select_features <- function(n_features, k) {\n",
        "    sample(1:n_features, k, replace = FALSE)\n",
        "  }\n",
        "\n",
        "  # Function to build a single decision tree\n",
        "  build_tree <- function(data, target, max_depth = 10, min_size = nodesize) {\n",
        "    build_node <- function(data, target, depth) {\n",
        "      # Stop if max depth reached or node too small\n",
        "      if (depth >= max_depth || nrow(data) <= min_size) {\n",
        "        classes <- table(target)\n",
        "        return(list(leaf = TRUE, prediction = names(which.max(classes))))\n",
        "      }\n",
        "\n",
        "      # Select random features\n",
        "      n_features <- ncol(data)\n",
        "      k <- min(mtry, n_features)\n",
        "      features <- select_features(n_features, k)\n",
        "\n",
        "      # Find a valid random split\n",
        "      best_feature <- NULL\n",
        "      best_threshold <- NULL\n",
        "      best_split <- NULL\n",
        "\n",
        "      for (f in features) {\n",
        "        values <- data[, f]\n",
        "        if (length(unique(values)) > 1) {\n",
        "          threshold <- runif(1, min(values), max(values))\n",
        "          left_idx <- data[, f] <= threshold\n",
        "          right_idx <- data[, f] > threshold\n",
        "\n",
        "          if (sum(left_idx) > 0 && sum(right_idx) > 0) {\n",
        "            best_feature <- f\n",
        "            best_threshold <- threshold\n",
        "            best_split <- list(\n",
        "              left_data = data[left_idx, , drop = FALSE],\n",
        "              left_target = target[left_idx],\n",
        "              right_data = data[right_idx, , drop = FALSE],\n",
        "              right_target = target[right_idx]\n",
        "            )\n",
        "          }\n",
        "        }\n",
        "      }\n",
        "\n",
        "      # If no valid split, return leaf\n",
        "      if (is.null(best_feature)) {\n",
        "        classes <- table(target)\n",
        "        return(list(leaf = TRUE, prediction = names(which.max(classes))))\n",
        "      }\n",
        "\n",
        "      # Recursively build subtrees\n",
        "      left_tree <- build_node(best_split$left_data, best_split$left_target, depth + 1)\n",
        "      right_tree <- build_node(best_split$right_data, best_split$right_target, depth + 1)\n",
        "\n",
        "      return(list(\n",
        "        leaf = FALSE,\n",
        "        feature = best_feature,\n",
        "        threshold = best_threshold,\n",
        "        left = left_tree,\n",
        "        right = right_tree\n",
        "      ))\n",
        "    }\n",
        "\n",
        "    build_node(data, target, 0)\n",
        "  }\n",
        "\n",
        "  # Build ntree trees\n",
        "  trees <- list()\n",
        "  for (i in 1:ntree) {\n",
        "    sample <- bootstrap_sample(x, y)\n",
        "    trees[[i]] <- build_tree(sample$data, sample$target)\n",
        "  }\n",
        "\n",
        "  # Return model with trees and parameters\n",
        "  return(list(trees = trees, mtry = mtry, nodesize = nodesize))\n",
        "}\n",
        "\n"
      ],
      "metadata": {
        "id": "H6vVnAayOuQ6"
      },
      "execution_count": null,
      "outputs": []
    },
    {
      "cell_type": "markdown",
      "source": [
        "#### Prediction Function\n",
        "\n",
        "The `predict_extraTrees` function predicts class labels for a numeric feature matrix `x` using an Extra Trees model.\n",
        "\n",
        "**Key Features**:\n",
        "- **Inputs**: `model` (list from `extraTrees`), `x` (numeric matrix).\n",
        "- **Validation**: Ensures `x` is a numeric matrix.\n",
        "- **Prediction**:\n",
        "  - `predict_tree`: Traverses a single tree, returning the leaf’s class if reached, or recursively follows left/right branches based on feature thresholds.\n",
        "  - Applies `predict_tree` to each row of `x` for all trees, collecting predictions.\n",
        "- **Output**: Returns class labels via majority voting across all trees’ predictions.\n",
        "\n",
        "**Process**: Predicts by evaluating each test row through all trees and selecting the most common class."
      ],
      "metadata": {
        "id": "orBWQrs6L1QG"
      }
    },
    {
      "cell_type": "code",
      "source": [
        "%%R\n",
        "# predict extratree function\n",
        "predict_extraTrees <- function(model, x) {\n",
        "  # Input validation\n",
        "  if (!is.matrix(x) || !is.numeric(x)) stop(\"x must be a numeric matrix\")\n",
        "\n",
        "  # Predict with a single tree\n",
        "  predict_tree <- function(tree, x) {\n",
        "    if (tree$leaf) {\n",
        "      return(tree$prediction)\n",
        "    }\n",
        "    if (x[tree$feature] <= tree$threshold) {\n",
        "      return(predict_tree(tree$left, x))\n",
        "    } else {\n",
        "      return(predict_tree(tree$right, x))\n",
        "    }\n",
        "  }\n",
        "\n",
        "  # Get predictions from all trees\n",
        "  predictions <- matrix(NA, nrow(x), length(model$trees))\n",
        "  for (i in 1:length(model$trees)) {\n",
        "    predictions[, i] <- apply(x, 1, function(row) predict_tree(model$trees[[i]], row))\n",
        "  }\n",
        "\n",
        "  # Majority voting\n",
        "  apply(predictions, 1, function(row) {\n",
        "    tbl <- table(row)\n",
        "    names(which.max(tbl))\n",
        "  })\n",
        "}"
      ],
      "metadata": {
        "id": "QXqjga-JL1dd"
      },
      "execution_count": null,
      "outputs": []
    },
    {
      "cell_type": "markdown",
      "source": [
        "#### Fit Extra Trees Model\n",
        "\n",
        "The main function for fitting the Extra Trees model is `extraTrees()`. The function takes the following arguments:\n",
        "\n",
        "-   The `ntree` parameter sets the number of trees in the Extra Trees ensemble.\n",
        "\n",
        "-   The `mtry` parameter specifies the number of features to consider at each split. For Extra Trees, this is typically set to the square root of the total number of features.\n",
        "\n",
        "-   The `nodesize` parameter sets the minimum number of samples required to split a node.\n",
        "\n",
        "-   The `numThreads` parameter specifies the number of threads to use for parallel processing."
      ],
      "metadata": {
        "id": "pEQt68dVMHuZ"
      }
    },
    {
      "cell_type": "code",
      "source": [
        "%%R\n",
        "# Train Extra Trees model\n",
        "seeds=123\n",
        "set.seed(seeds)\n",
        "et_model <- extraTrees(\n",
        "  x = train_features_matrix,\n",
        "  y = train_target,\n",
        "  ntree = 500,\n",
        "  mtry = floor(sqrt(ncol(train_features_matrix))),  # 2 features\n",
        "  nodesize = 5,\n",
        "  numThreads = 1  # Set to 1 since base R doesn't support threading\n",
        ")"
      ],
      "metadata": {
        "id": "4g2pShDvPTSK"
      },
      "execution_count": null,
      "outputs": []
    },
    {
      "cell_type": "markdown",
      "source": [
        "#### Prediction and Evaluation"
      ],
      "metadata": {
        "id": "aGdnDz8-O2QF"
      }
    },
    {
      "cell_type": "code",
      "source": [
        "%%R\n",
        "# Make predictions on test set\n",
        "predictions <- predict_extraTrees(et_model, test_features_matrix)\n",
        "\n",
        "# Evaluate accuracy\n",
        "accuracy <- mean(predictions == test_target)\n",
        "cat(\"Accuracy:\", round(accuracy, 3), \"\\n\")\n",
        "\n",
        "# Output confusion matrix\n",
        "conf_matrix <- table(Predicted = predictions, Actual = test_target)\n",
        "print(conf_matrix)"
      ],
      "metadata": {
        "colab": {
          "base_uri": "https://localhost:8080/"
        },
        "id": "TNGjn3RLO85q",
        "outputId": "07896681-fceb-4d7e-c478-c2a75fccc206"
      },
      "execution_count": null,
      "outputs": [
        {
          "output_type": "stream",
          "name": "stdout",
          "text": [
            "Accuracy: 0.822 \n",
            "         Actual\n",
            "Predicted   A   B   C\n",
            "        A 128  12  18\n",
            "        B  18 120  21\n",
            "        C   3   6 112\n"
          ]
        }
      ]
    },
    {
      "cell_type": "markdown",
      "source": [
        "#### Feature Importance\n",
        "\n",
        "Since feature importance is not available, we can compute feature importance manually using permutation importance. This method measures the decrease in model performance when a feature’s values are randomly shuffled, indicating its importance."
      ],
      "metadata": {
        "id": "LbYzS8pYPGVB"
      }
    },
    {
      "cell_type": "code",
      "source": [
        "%%R\n",
        "# Function to compute permutation importance\n",
        "compute_permutation_importance <- function(model, x, y, feature_names) {\n",
        "  # Baseline accuracy\n",
        "  pred_baseline <- predict_extraTrees(model, x)\n",
        "  baseline_accuracy <- mean(pred_baseline == y)\n",
        "\n",
        "  # Initialize importance vector\n",
        "  importance <- numeric(length(feature_names))\n",
        "  names(importance) <- feature_names\n",
        "\n",
        "  # Permute each feature and measure accuracy drop\n",
        "  for (i in 1:length(feature_names)) {\n",
        "    x_permuted <- x\n",
        "    x_permuted[, i] <- sample(x_permuted[, i])  # Shuffle feature i\n",
        "    pred_permuted <- predict_extraTrees(model, x_permuted)\n",
        "    permuted_accuracy <- mean(pred_permuted == y)\n",
        "    importance[i] <- baseline_accuracy - permuted_accuracy\n",
        "  }\n",
        "\n",
        "  return(importance)\n",
        "}"
      ],
      "metadata": {
        "id": "-oL1iZIVMob8"
      },
      "execution_count": null,
      "outputs": []
    },
    {
      "cell_type": "code",
      "source": [
        "%%R\n",
        "# Compute importance\n",
        "feature_names <- c(\"age\", \"household\", \"position_level\", \"absent\", \"gender\")\n",
        "importance <- compute_permutation_importance(\n",
        "  model = et_model,\n",
        "  x = train_features_matrix,\n",
        "  y = train_target,\n",
        "  feature_names = feature_names\n",
        ")\n",
        "\n",
        "# Create data frame\n",
        "var_imp_et <- data.frame(\n",
        "  Variable = feature_names,\n",
        "  Importance = importance\n",
        ")\n",
        "print(var_imp_et)"
      ],
      "metadata": {
        "id": "bDGICYF_Mwcb",
        "colab": {
          "base_uri": "https://localhost:8080/"
        },
        "outputId": "ecd5b127-1257-47a8-d19d-c69fdd63f0d5"
      },
      "execution_count": null,
      "outputs": [
        {
          "output_type": "stream",
          "name": "stdout",
          "text": [
            "                     Variable Importance\n",
            "age                       age 0.30396040\n",
            "household           household 0.21881188\n",
            "position_level position_level 0.06633663\n",
            "absent                 absent 0.03069307\n",
            "gender                 gender 0.12673267\n"
          ]
        }
      ]
    },
    {
      "cell_type": "code",
      "source": [
        "%%R\n",
        "ggplot(var_imp_et, aes(x = reorder(Variable, Importance), y = Importance)) +\n",
        "  geom_bar(stat = \"identity\", fill = \"steelblue\") +  # Add color\n",
        "  coord_flip() +\n",
        "  labs(title = \"Variable Importance for Extra Trees Classification\",\n",
        "       x = \"Features\",\n",
        "       y = \"Accuracy Drop\") +\n",
        "  theme_minimal() +\n",
        "  theme(\n",
        "    plot.title = element_text(hjust = 0.5, size = 14, face = \"bold\"),\n",
        "    axis.text = element_text(size = 12),\n",
        "    axis.title = element_text(size = 12)\n",
        "  )"
      ],
      "metadata": {
        "colab": {
          "base_uri": "https://localhost:8080/",
          "height": 497
        },
        "id": "6qqOhaYLP9nA",
        "outputId": "3925cc67-c827-416d-d48e-5cf65778fae0"
      },
      "execution_count": null,
      "outputs": [
        {
          "output_type": "display_data",
          "data": {
            "image/png": "[encoded data removed]"
          },
          "metadata": {}
        }
      ]
    },
    {
      "cell_type": "markdown",
      "source": [
        "\n",
        "#### Hyperparameter Tuning\n",
        "\n",
        "Hyperparameter tuning is an essential step in optimizing the performance of Extra Trees models. The key hyperparameters to tune include:\n",
        "\n",
        "-   `ntree`: Number of trees in the ensemble. More trees can improve performance but increase computation time.\n",
        "-   `mtry`: Number of features to consider at each split. A smaller value can reduce overfitting, while a larger value can increase model complexity.\n",
        "-   `nodesize`: Minimum number of samples required to split a node. Larger values can prevent overfitting."
      ],
      "metadata": {
        "id": "bHMPkhATyLXa"
      }
    },
    {
      "cell_type": "markdown",
      "source": [
        "1. Custom Cross-Validation Function"
      ],
      "metadata": {
        "id": "HyVa5ypQyZng"
      }
    },
    {
      "cell_type": "code",
      "source": [
        "%%R\n",
        "custom_cv <- function(x, y, k = 3, params, seed = 11076) {\n",
        "  set.seed(seed)\n",
        "  folds <- createFolds(y, k = k, list = TRUE, returnTrain = TRUE)\n",
        "  cv_results <- data.frame(fold = 1:k, accuracy = NA)\n",
        "\n",
        "  for (fold in 1:k) {\n",
        "    train_idx <- folds[[fold]]\n",
        "    val_idx <- setdiff(1:nrow(x), train_idx)\n",
        "\n",
        "    x_train <- x[train_idx, , drop = FALSE]\n",
        "    y_train <- y[train_idx]\n",
        "    x_val <- x[val_idx, , drop = FALSE]\n",
        "    y_val <- y[val_idx]\n",
        "\n",
        "    model <- extraTrees(x_train, y_train,\n",
        "                        ntree = params$ntree,\n",
        "                        mtry = params$mtry,\n",
        "                        nodesize = params$nodesize)\n",
        "\n",
        "    pred <- predict_extraTrees(model, x_val)\n",
        "    cv_results$accuracy[fold] <- mean(pred == y_val)\n",
        "  }\n",
        "\n",
        "  return(mean(cv_results$accuracy))\n",
        "}"
      ],
      "metadata": {
        "id": "oyX6aNt8ycVP"
      },
      "execution_count": null,
      "outputs": []
    },
    {
      "cell_type": "markdown",
      "source": [
        "2. Set Parameters for Grid Search"
      ],
      "metadata": {
        "id": "YmZIjgOpyhwZ"
      }
    },
    {
      "cell_type": "code",
      "source": [
        "%%R\n",
        "# 2. Set Parameters for Grid Search\n",
        "set.seed(seeds)\n",
        "n_features <- ncol(train_features_matrix)\n",
        "param_grid <- expand.grid(\n",
        "  ntree = c(50, 100),\n",
        "  mtry = c(floor(sqrt(n_features)), floor(n_features/3), floor(n_features/2)),\n",
        "  nodesize = c(1, 5, 10)\n",
        ")"
      ],
      "metadata": {
        "id": "apuqHcq9yluZ"
      },
      "execution_count": null,
      "outputs": []
    },
    {
      "cell_type": "markdown",
      "source": [
        " 3. Perform Grid Search with 3-Fold Cross-Validation"
      ],
      "metadata": {
        "id": "jkuEf7Bzyr1u"
      }
    },
    {
      "cell_type": "code",
      "source": [
        "%%R\n",
        "# 3. Perform Grid Search with 3-Fold Cross-Validation\n",
        "grid_results <- data.frame(param_grid, accuracy = NA)\n",
        "for (i in 1:nrow(param_grid)) {\n",
        "  cat(\"Evaluating parameters:\", i, \"of\", nrow(param_grid), \"\\n\")\n",
        "  grid_results$accuracy[i] <- custom_cv(train_features_matrix, train_target,\n",
        "                                       k = 3, params = param_grid[i, ], seed = seeds)\n",
        "}"
      ],
      "metadata": {
        "colab": {
          "base_uri": "https://localhost:8080/"
        },
        "id": "hR5a7D2Uyr-g",
        "outputId": "d73fe0f0-09df-4156-c292-5e5a997ee325"
      },
      "execution_count": null,
      "outputs": [
        {
          "output_type": "stream",
          "name": "stdout",
          "text": [
            "Evaluating parameters: 1 of 18 \n",
            "Evaluating parameters: 2 of 18 \n",
            "Evaluating parameters: 3 of 18 \n",
            "Evaluating parameters: 4 of 18 \n",
            "Evaluating parameters: 5 of 18 \n",
            "Evaluating parameters: 6 of 18 \n",
            "Evaluating parameters: 7 of 18 \n",
            "Evaluating parameters: 8 of 18 \n",
            "Evaluating parameters: 9 of 18 \n",
            "Evaluating parameters: 10 of 18 \n",
            "Evaluating parameters: 11 of 18 \n",
            "Evaluating parameters: 12 of 18 \n",
            "Evaluating parameters: 13 of 18 \n",
            "Evaluating parameters: 14 of 18 \n",
            "Evaluating parameters: 15 of 18 \n",
            "Evaluating parameters: 16 of 18 \n",
            "Evaluating parameters: 17 of 18 \n",
            "Evaluating parameters: 18 of 18 \n"
          ]
        }
      ]
    },
    {
      "cell_type": "markdown",
      "source": [
        "4. Get Best Parameters"
      ],
      "metadata": {
        "id": "-NOr5xAnyzi9"
      }
    },
    {
      "cell_type": "code",
      "source": [
        "%%R\n",
        "# 4. Get Best Parameters\n",
        "best_params <- param_grid[which.max(grid_results$accuracy), ]\n",
        "cat(\"Best parameters:\\n\")\n",
        "print(best_params)\n",
        "cat(\"Best CV accuracy:\", max(grid_results$accuracy), \"\\n\")"
      ],
      "metadata": {
        "colab": {
          "base_uri": "https://localhost:8080/"
        },
        "id": "RLB9aVNkyzvv",
        "outputId": "ef7fe95c-09fd-416c-977e-b521040ea669"
      },
      "execution_count": null,
      "outputs": [
        {
          "output_type": "stream",
          "name": "stdout",
          "text": [
            "Best parameters:\n",
            "  ntree mtry nodesize\n",
            "2   100    2        1\n",
            "Best CV accuracy: 0.7990474 \n"
          ]
        }
      ]
    },
    {
      "cell_type": "markdown",
      "source": [
        "5. Train Final Model with Best Parameters"
      ],
      "metadata": {
        "id": "a413_cxVy-ea"
      }
    },
    {
      "cell_type": "code",
      "source": [
        "%%R\n",
        "# 5. Train Final Model with Best Parameters\n",
        "final_model <- extraTrees(train_features_matrix, train_target,\n",
        "                          ntree = best_params$ntree,\n",
        "                          mtry = best_params$mtry,\n",
        "                          nodesize = best_params$nodesize)"
      ],
      "metadata": {
        "id": "QI9vLeN2y95K"
      },
      "execution_count": null,
      "outputs": []
    },
    {
      "cell_type": "markdown",
      "source": [
        "6. Prediction and Evaluation"
      ],
      "metadata": {
        "id": "Bvf3bVfuzGJQ"
      }
    },
    {
      "cell_type": "code",
      "source": [
        "%%R\n",
        "# 6. Prediction and Evaluation\n",
        "test_pred <- predict_extraTrees(final_model, test_features_matrix)\n",
        "conf_matrix <- table(Predicted = test_pred, Actual = test_target)\n",
        "accuracy <- mean(test_pred == test_target)\n",
        "cat(\"Test set confusion matrix:\\n\")\n",
        "print(conf_matrix)\n",
        "cat(\"Test set accuracy:\", accuracy, \"\\n\")\n",
        "\n",
        "precision <- diag(conf_matrix) / rowSums(conf_matrix)\n",
        "recall <- diag(conf_matrix) / colSums(conf_matrix)\n",
        "f1 <- 2 * (precision * recall) / (precision + recall)\n",
        "cat(\"Precision per class:\\n\")\n",
        "print(precision)\n",
        "cat(\"Recall per class:\\n\")\n",
        "print(recall)\n",
        "cat(\"F1-score per class:\\n\")\n",
        "print(f1)"
      ],
      "metadata": {
        "colab": {
          "base_uri": "https://localhost:8080/"
        },
        "id": "TP7-lkVpzGVy",
        "outputId": "982d9f5a-8ebd-40a1-a540-e02f76177a43"
      },
      "execution_count": null,
      "outputs": [
        {
          "output_type": "stream",
          "name": "stdout",
          "text": [
            "Test set confusion matrix:\n",
            "         Actual\n",
            "Predicted   A   B   C\n",
            "        A 125  11  19\n",
            "        B  19 121  22\n",
            "        C   5   6 110\n",
            "Test set accuracy: 0.8127854 \n",
            "Precision per class:\n",
            "        A         B         C \n",
            "0.8064516 0.7469136 0.9090909 \n",
            "Recall per class:\n",
            "        A         B         C \n",
            "0.8389262 0.8768116 0.7284768 \n",
            "F1-score per class:\n",
            "        A         B         C \n",
            "0.8223684 0.8066667 0.8088235 \n"
          ]
        }
      ]
    },
    {
      "cell_type": "markdown",
      "source": [
        "7. Feature Importance"
      ],
      "metadata": {
        "id": "5op2DB50zOmW"
      }
    },
    {
      "cell_type": "code",
      "source": [
        "%%R\n",
        "# 7. Feature Importance\n",
        "feature_importance <- function(model, x, y) {\n",
        "  n_features <- ncol(x)\n",
        "  importance <- rep(0, n_features)\n",
        "  names(importance) <- colnames(x)\n",
        "\n",
        "  for (tree in model$trees) {\n",
        "    count_features <- function(node) {\n",
        "      if (!node$leaf) {\n",
        "        importance[node$feature] <<- importance[node$feature] + 1\n",
        "        count_features(node$left)\n",
        "        count_features(node$right)\n",
        "      }\n",
        "    }\n",
        "    count_features(tree)\n",
        "  }\n",
        "\n",
        "  importance <- importance / sum(importance)\n",
        "  return(importance)\n",
        "}\n",
        "\n",
        "# Calculate and display feature importance\n",
        "imp <- feature_importance(final_model, train_features_matrix, train_target)\n",
        "cat(\"Feature Importance:\\n\")\n",
        "print(sort(imp, decreasing = TRUE))\n",
        "\n",
        "# Visualize feature importance using ggplot2\n",
        "imp_df <- data.frame(\n",
        "  Feature = names(imp),\n",
        "  Importance = imp\n",
        ")\n",
        "\n",
        "# Create bar plot with ggplot2\n",
        "ggplot(imp_df, aes(x = reorder(Feature, Importance), y = Importance)) +\n",
        "  geom_bar(stat = \"identity\", fill = \"#1f77b4\") +\n",
        "  coord_flip() +  # Flip for horizontal bars\n",
        "  labs(title = \"Feature Importance\", x = \"Feature\", y = \"Importance\") +\n",
        "  theme_minimal() +\n",
        "  theme(\n",
        "    plot.title = element_text(hjust = 0.5),\n",
        "    axis.text = element_text(size = 12),\n",
        "    axis.title = element_text(size = 14)\n",
        "  )"
      ],
      "metadata": {
        "colab": {
          "base_uri": "https://localhost:8080/",
          "height": 549
        },
        "id": "yphf0r6ezRfI",
        "outputId": "715e06bd-bcfe-4352-9639-77ad142d7558"
      },
      "execution_count": null,
      "outputs": [
        {
          "output_type": "stream",
          "name": "stdout",
          "text": [
            "Feature Importance:\n",
            "           age         absent      household position_level         gender \n",
            "    0.29992290     0.28827659     0.20508867     0.15890922     0.04780262 \n"
          ]
        },
        {
          "output_type": "display_data",
          "data": {
            "image/png": "[encoded data removed]"
          },
          "metadata": {}
        }
      ]
    },
    {
      "cell_type": "markdown",
      "source": [
        "### Regression Example\n",
        "\n",
        "\n"
      ],
      "metadata": {
        "id": "SN2wTqH2PTqt"
      }
    },
    {
      "cell_type": "markdown",
      "source": [
        "#### Data"
      ],
      "metadata": {
        "id": "WatdvRREVuS1"
      }
    },
    {
      "cell_type": "code",
      "source": [
        "%%R\n",
        "# Load Boston Housing dataset\n",
        "data(BostonHousing, package = \"mlbench\")\n",
        "df <- BostonHousing\n",
        "\n",
        "# Convert categorical variable to factor\n",
        "df$chas <- as.factor(df$chas)\n",
        "\n",
        "# Remove rows with missing values\n",
        "if (anyNA(df)) {\n",
        "  cat(\"Missing values detected. Removing rows with NA.\\n\")\n",
        "  df <- na.omit(df)\n",
        "}\n",
        "\n",
        "# Check dataset size\n",
        "cat(\"Dataset dimensions:\", dim(df), \"\\n\")\n",
        "cat(\"Number of unique chas levels:\", nlevels(df$chas), \"\\n\")\n",
        "\n",
        "# Split data (70% train, stratified by chas)\n",
        "seeds <- 11076\n",
        "set.seed(seeds)\n",
        "train <- ddply(df, .(chas), function(., seed) {\n",
        "  set.seed(seed)\n",
        "  if (nrow(.) > 0) .[sample(nrow(.), trunc(nrow(.) * 0.7)), ] else .\n",
        "}, seed = 101)\n",
        "test <- ddply(df, .(chas), function(., seed) {\n",
        "  set.seed(seed)\n",
        "  if (nrow(.) > 0) .[-sample(nrow(.), trunc(nrow(.) * 0.7)), ] else .\n",
        "}, seed = 101)\n",
        "\n",
        "# Ensure train and test have data\n",
        "if (nrow(train) == 0 || nrow(test) == 0) stop(\"Train or test set is empty after splitting.\")\n",
        "\n",
        "# Scale numerical features\n",
        "numerical_cols <- c(\"crim\", \"zn\", \"indus\", \"nox\", \"rm\", \"age\", \"dis\", \"rad\", \"tax\", \"ptratio\", \"b\", \"lstat\")\n",
        "train[numerical_cols] <- scale(train[numerical_cols])\n",
        "test[numerical_cols] <- scale(test[numerical_cols])\n",
        "\n",
        "# Encode categorical variable (chas) into dummy variables\n",
        "combined <- rbind(cbind(train, set = \"train\"), cbind(test, set = \"test\"))\n",
        "combined$chas <- factor(combined$chas, levels = levels(df$chas))\n",
        "dummy_matrix <- model.matrix(~ chas - 1, data = combined)\n",
        "train_dummy <- dummy_matrix[combined$set == \"train\", ]\n",
        "test_dummy <- dummy_matrix[combined$set == \"test\", ]\n",
        "\n",
        "# Combine numerical and dummy variables\n",
        "x_train <- as.matrix(cbind(train[numerical_cols], train_dummy))\n",
        "x_test <- as.matrix(cbind(test[numerical_cols], test_dummy))\n",
        "y_train <- train$medv\n",
        "y_test <- test$medv"
      ],
      "metadata": {
        "colab": {
          "base_uri": "https://localhost:8080/"
        },
        "id": "oiauoScUVuct",
        "outputId": "536a772a-6a85-47dd-817a-9d0d93a2c90d"
      },
      "execution_count": null,
      "outputs": [
        {
          "output_type": "stream",
          "name": "stdout",
          "text": [
            "Dataset dimensions: 506 14 \n",
            "Number of unique chas levels: 2 \n"
          ]
        }
      ]
    },
    {
      "cell_type": "markdown",
      "source": [
        "#### Extra Trees function (for regression)"
      ],
      "metadata": {
        "id": "zqooJblKPaDv"
      }
    },
    {
      "cell_type": "code",
      "source": [
        "%%R\n",
        "# Extra Trees function (for regression)\n",
        "extraTrees <- function(x, y, ntree = 100, mtry = floor(sqrt(ncol(x))), nodesize = 5) {\n",
        "  # Validate inputs\n",
        "  if (anyNA(x) || anyNA(y)) stop(\"Input data contains missing values.\")\n",
        "  if (nrow(x) != length(y)) stop(\"Rows in x must match length of y.\")\n",
        "\n",
        "  bootstrap_sample <- function(data, target) {\n",
        "    indices <- sample(nrow(data), replace = TRUE)\n",
        "    list(data = data[indices, ], target = target[indices])\n",
        "  }\n",
        "\n",
        "  select_features <- function(n_features, k) sample(n_features, k)\n",
        "\n",
        "  feature_importance <- numeric(ncol(x))\n",
        "  names(feature_importance) <- colnames(x)\n",
        "\n",
        "  build_tree <- function(data, target) {\n",
        "    build_node <- function(data, target, depth) {\n",
        "      # Check for valid data\n",
        "      if (!is.matrix(data) || nrow(data) == 0 || anyNA(data) || length(target) == 0) {\n",
        "        return(list(leaf = TRUE, prediction = mean(target, na.rm = TRUE)))\n",
        "      }\n",
        "      if (depth > 10 || nrow(data) <= nodesize) {\n",
        "        return(list(leaf = TRUE, prediction = mean(target, na.rm = TRUE)))\n",
        "      }\n",
        "\n",
        "      features <- select_features(ncol(data), mtry)\n",
        "      best_feature <- NULL\n",
        "      best_threshold <- NULL\n",
        "      best_split <- NULL\n",
        "      best_mse <- Inf\n",
        "\n",
        "      for (f in features) {\n",
        "        values <- data[, f]\n",
        "        if (length(unique(values)) > 1) {\n",
        "          threshold <- runif(1, min(values), max(values))\n",
        "          left <- data[, f] <= threshold\n",
        "          if (sum(left) > 0 && sum(!left) > 0) {\n",
        "            left_target <- target[left]\n",
        "            right_target <- target[!left]\n",
        "            mse <- mean((left_target - mean(left_target, na.rm = TRUE))^2, na.rm = TRUE) +\n",
        "                   mean((right_target - mean(right_target, na.rm = TRUE))^2, na.rm = TRUE)\n",
        "            if (mse < best_mse && !is.na(mse)) {\n",
        "              best_mse <- mse\n",
        "              best_feature <- f\n",
        "              best_threshold <- threshold\n",
        "              best_split <- list(left_data = data[left, ], left_target = left_target,\n",
        "                                 right_data = data[!left, ], right_target = right_target)\n",
        "            }\n",
        "          }\n",
        "        }\n",
        "      }\n",
        "\n",
        "      if (is.null(best_feature)) {\n",
        "        return(list(leaf = TRUE, prediction = mean(target, na.rm = TRUE)))\n",
        "      }\n",
        "\n",
        "      feature_importance[best_feature] <<- feature_importance[best_feature] + 1\n",
        "      left_tree <- build_node(best_split$left_data, best_split$left_target, depth + 1)\n",
        "      right_tree <- build_node(best_split$right_data, best_split$right_target, depth + 1)\n",
        "\n",
        "      list(leaf = FALSE, feature = best_feature, threshold = best_threshold,\n",
        "           left = left_tree, right = right_tree)\n",
        "    }\n",
        "    build_node(data, target, 0)\n",
        "  }\n",
        "\n",
        "  trees <- lapply(1:ntree, function(i) {\n",
        "    sample <- bootstrap_sample(x, y)\n",
        "    build_tree(sample$data, sample$target)\n",
        "  })\n",
        "\n",
        "  list(trees = trees, feature_importance = feature_importance)\n",
        "}"
      ],
      "metadata": {
        "id": "Iq9VcQt7Pbm9"
      },
      "execution_count": null,
      "outputs": []
    },
    {
      "cell_type": "markdown",
      "source": [
        "#### Prediction Function"
      ],
      "metadata": {
        "id": "oJioPHvKWJVD"
      }
    },
    {
      "cell_type": "code",
      "source": [
        "%%R\n",
        "# Prediction function\n",
        "predict_extraTrees <- function(model, x) {\n",
        "  predict_tree <- function(tree, row) {\n",
        "    if (tree$leaf) return(tree$prediction)\n",
        "    if (row[tree$feature] <= tree$threshold) predict_tree(tree$left, row)\n",
        "    else predict_tree(tree$right, row)\n",
        "  }\n",
        "\n",
        "  predictions <- sapply(model$trees, function(tree) apply(x, 1, function(row) predict_tree(tree, row)))\n",
        "  rowMeans(predictions, na.rm = TRUE)\n",
        "}"
      ],
      "metadata": {
        "id": "t3eLJqGnWJoc"
      },
      "execution_count": null,
      "outputs": []
    },
    {
      "cell_type": "markdown",
      "source": [
        "#### Fit the Extra Tree Model"
      ],
      "metadata": {
        "id": "wbVv7GD1PgnP"
      }
    },
    {
      "cell_type": "code",
      "source": [
        "%%R\n",
        "# Train the model\n",
        "set.seed(seeds)\n",
        "et_model <- extraTrees(x_train,\n",
        "                       y_train,\n",
        "                       ntree = 100,\n",
        "                       mtry = floor(sqrt(ncol(x_train))),\n",
        "                       nodesize = 5)"
      ],
      "metadata": {
        "id": "N059JmapPhQ8"
      },
      "execution_count": null,
      "outputs": []
    },
    {
      "cell_type": "markdown",
      "source": [
        "#### Prediction and Evaluation"
      ],
      "metadata": {
        "id": "oTOC7MItPyP_"
      }
    },
    {
      "cell_type": "code",
      "source": [
        "%%R\n",
        "# Prediction and evaluation\n",
        "y_pred <- predict_extraTrees(et_model, x_test)\n",
        "rmse <- sqrt(mean((y_pred - y_test)^2, na.rm = TRUE))\n",
        "r2 <- cor(y_test, y_pred, use = \"complete.obs\")^2\n",
        "cat(\"Test RMSE:\", round(rmse, 3), \"\\n\")\n",
        "cat(\"Test R²:\", round(r2, 3), \"\\n\")"
      ],
      "metadata": {
        "colab": {
          "base_uri": "https://localhost:8080/"
        },
        "id": "L9ycjSCdPwiM",
        "outputId": "2604c873-e683-452c-9821-2165ed9c84d9"
      },
      "execution_count": null,
      "outputs": [
        {
          "output_type": "stream",
          "name": "stdout",
          "text": [
            "Test RMSE: 4.922 \n",
            "Test R²: 0.779 \n"
          ]
        }
      ]
    },
    {
      "cell_type": "markdown",
      "source": [
        "#### Feature Importance"
      ],
      "metadata": {
        "id": "XkqBd5zt7Qo2"
      }
    },
    {
      "cell_type": "code",
      "source": [
        "%%R\n",
        "# Compute permutation importance\n",
        "compute_permutation_importance <- function(model, x, y, feature_names) {\n",
        "  pred_baseline <- predict_extraTrees(model, x)\n",
        "  baseline_rmse <- sqrt(mean((pred_baseline - y)^2))\n",
        "  importance <- numeric(length(feature_names))\n",
        "  names(importance) <- feature_names\n",
        "  for (i in 1:length(feature_names)) {\n",
        "    x_permuted <- x\n",
        "    x_permuted[, i] <- sample(x_permuted[, i])\n",
        "    pred_permuted <- predict_extraTrees(model, x_permuted)\n",
        "    permuted_rmse <- sqrt(mean((pred_permuted - y)^2))\n",
        "    importance[i] <- permuted_rmse - baseline_rmse\n",
        "  }\n",
        "  return(importance)\n",
        "}\n",
        "\n",
        "# Feature names (numerical + dummy variables)\n",
        "feature_names <- colnames(x_train)\n",
        "importance <- compute_permutation_importance(\n",
        "  model = et_model,\n",
        "  x = x_test,\n",
        "  y = y_test,\n",
        "  feature_names = feature_names\n",
        ")\n",
        "\n",
        "# Aggregate importance for NLCD and FRG\n",
        "var_imp_et <- data.frame(\n",
        "  Variable = feature_names,\n",
        "  Importance = importance\n",
        ")"
      ],
      "metadata": {
        "id": "NjdnpTcx3mfv"
      },
      "execution_count": null,
      "outputs": []
    },
    {
      "cell_type": "code",
      "source": [
        "%%R\n",
        "# Combine dummy variables back to original category\n",
        "chas_cols <- grep(\"^chas\", feature_names, value = TRUE)\n",
        "if (length(chas_cols) > 0) {\n",
        "  chas_imp <- sum(var_imp_et$Importance[var_imp_et$Variable %in% chas_cols])\n",
        "  var_imp_et <- var_imp_et[!var_imp_et$Variable %in% chas_cols, ]\n",
        "  var_imp_et <- rbind(var_imp_et, data.frame(Variable = \"chas\", Importance = chas_imp))\n",
        "}"
      ],
      "metadata": {
        "id": "LIKTr9I670kd"
      },
      "execution_count": null,
      "outputs": []
    },
    {
      "cell_type": "code",
      "source": [
        "%%R\n",
        "# Create ggplot2 plot\n",
        "ggplot(var_imp_et, aes(x = reorder(Variable, Importance), y = Importance)) +\n",
        "  geom_bar(stat = \"identity\", fill = \"steelblue\") +\n",
        "  coord_flip() +\n",
        "  labs(title = \"Variable Importance for Extra Trees Regression\",\n",
        "       x = \"Features\",\n",
        "       y = \"RMSE Increase\") +\n",
        "  theme_minimal() +\n",
        "  theme(\n",
        "    plot.title = element_text(hjust = 0.5, size = 14, face = \"bold\"),\n",
        "    axis.text = element_text(size = 12),\n",
        "    axis.title = element_text(size = 12)\n",
        "  )"
      ],
      "metadata": {
        "colab": {
          "base_uri": "https://localhost:8080/",
          "height": 497
        },
        "id": "VKOsSPyL75rs",
        "outputId": "9b334247-4705-4476-d154-150f1fbd22bb"
      },
      "execution_count": null,
      "outputs": [
        {
          "output_type": "display_data",
          "data": {
            "image/png": "[encoded data removed]"
          },
          "metadata": {}
        }
      ]
    },
    {
      "cell_type": "markdown",
      "source": [
        "#### Hyperparameter Tuning\n",
        "\n",
        "Hyperparameter tuning is an essential step in optimizing the performance of Extra Trees models. The key hyperparameters to tune include:\n",
        "\n",
        "-   `ntree`: Number of trees in the ensemble. More trees can improve performance but increase computation time.\n",
        "-   `mtry`: Number of features to consider at each split. A smaller value can reduce overfitting, while a larger value can increase model complexity.\n",
        "-   `nodesize`: Minimum number of samples required to split a node. Larger values can prevent overfitting.\n"
      ],
      "metadata": {
        "id": "AqAqV4HmTBvV"
      }
    },
    {
      "cell_type": "markdown",
      "source": [
        "1. Coustom Cross-validation function"
      ],
      "metadata": {
        "id": "w7zeKCoe6OiQ"
      }
    },
    {
      "cell_type": "code",
      "source": [
        "%%R\n",
        "# Custom 3-fold cross-validation function\n",
        "create_folds <- function(y, k = 3) {\n",
        "  n <- length(y)\n",
        "  indices <- sample(n)\n",
        "  fold_sizes <- rep(floor(n / k), k)\n",
        "  fold_sizes[1:(n %% k)] <- fold_sizes[1:(n %% k)] + 1\n",
        "  folds <- list()\n",
        "  start <- 1\n",
        "  for (i in 1:k) {\n",
        "    end <- start + fold_sizes[i] - 1\n",
        "    folds[[i]] <- indices[start:end]\n",
        "    start <- end + 1\n",
        "  }\n",
        "  folds\n",
        "}\n",
        "\n",
        "# Function to compute RMSE\n",
        "compute_rmse <- function(y_true, y_pred) {\n",
        "  sqrt(mean((y_true - y_pred)^2, na.rm = TRUE))\n",
        "}\n"
      ],
      "metadata": {
        "id": "IHWwn95o4daP"
      },
      "execution_count": null,
      "outputs": []
    },
    {
      "cell_type": "markdown",
      "source": [
        "2.  Set Parameters"
      ],
      "metadata": {
        "id": "aM5Hw-Dr6tMX"
      }
    },
    {
      "cell_type": "code",
      "source": [
        "%%R\n",
        "# Hyperparameter tuning with grid search\n",
        "set.seed(seeds)\n",
        "n_features <- ncol(x_train)\n",
        "param_grid <- expand.grid(\n",
        "  ntree = c(50, 100),\n",
        "  mtry = c(floor(sqrt(n_features)), floor(n_features/3), floor(n_features/2)),\n",
        "  nodesize = c(1, 5, 10)\n",
        ")\n"
      ],
      "metadata": {
        "id": "3O284udq4g7C"
      },
      "execution_count": null,
      "outputs": []
    },
    {
      "cell_type": "markdown",
      "source": [
        "3.  Perform Grid Search with 3-Fold Cross-Validation"
      ],
      "metadata": {
        "id": "1LuMMFw_6scW"
      }
    },
    {
      "cell_type": "code",
      "source": [
        "%%R\n",
        "# Perform 3-fold cross-validation\n",
        "k <- 3\n",
        "folds <- create_folds(y_train, k)\n",
        "results <- data.frame(param_grid, RMSE = NA, R2 = NA)\n",
        "\n",
        "cat(\"Starting grid search at:\", Sys.time(), \"\\n\")\n",
        "for (i in 1:nrow(param_grid)) {\n",
        "  ntree <- param_grid$ntree[i]\n",
        "  mtry <- param_grid$mtry[i]\n",
        "  nodesize <- param_grid$nodesize[i]\n",
        "\n",
        "  cv_rmse <- numeric(k)\n",
        "  cv_r2 <- numeric(k)\n",
        "\n",
        "  for (j in 1:k) {\n",
        "    val_idx <- folds[[j]]\n",
        "    train_idx <- setdiff(1:length(y_train), val_idx)\n",
        "\n",
        "    x_train_cv <- x_train[train_idx, ]\n",
        "    y_train_cv <- y_train[train_idx]\n",
        "    x_val_cv <- x_train[val_idx, ]\n",
        "    y_val_cv <- y_train[val_idx]\n",
        "\n",
        "    # Train model using extraTrees package\n",
        "    model_cv <- extraTrees(x_train_cv, y_train_cv,\n",
        "                           ntree = ntree,\n",
        "                           mtry = mtry,\n",
        "                           nodesize = nodesize)\n",
        "\n",
        "    # Predict on validation set using the custom predict_extraTrees function\n",
        "    y_pred_cv <- predict_extraTrees(model_cv, x_val_cv)\n",
        "\n",
        "    cv_rmse[j] <- compute_rmse(y_val_cv, y_pred_cv)\n",
        "    cv_r2[j] <- cor(y_val_cv, y_pred_cv, use = \"complete.obs\")^2\n",
        "\n",
        "    # Clear memory\n",
        "    rm(model_cv, y_pred_cv)\n",
        "    gc()\n",
        "  }\n",
        "\n",
        "  results$RMSE[i] <- mean(cv_rmse, na.rm = TRUE)\n",
        "  results$R2[i] <- mean(cv_r2, na.rm = TRUE)\n",
        "  cat(sprintf(\"Params: ntree=%d, mtry=%d, nodesize=%d | CV RMSE=%.3f, CV R²=%.3f\\n\",\n",
        "              ntree, mtry, nodesize, results$RMSE[i], results$R2[i]))\n",
        "}"
      ],
      "metadata": {
        "colab": {
          "base_uri": "https://localhost:8080/"
        },
        "id": "ZZtuVTFY4pQQ",
        "outputId": "b0bf3350-b71f-48e9-ea31-258c56e34413"
      },
      "execution_count": null,
      "outputs": [
        {
          "output_type": "stream",
          "name": "stdout",
          "text": [
            "Starting grid search at: 1752613213 \n",
            "Params: ntree=50, mtry=3, nodesize=1 | CV RMSE=4.810, CV R²=0.778\n",
            "Params: ntree=100, mtry=3, nodesize=1 | CV RMSE=4.857, CV R²=0.782\n",
            "Params: ntree=50, mtry=4, nodesize=1 | CV RMSE=4.717, CV R²=0.796\n",
            "Params: ntree=100, mtry=4, nodesize=1 | CV RMSE=4.842, CV R²=0.777\n",
            "Params: ntree=50, mtry=7, nodesize=1 | CV RMSE=5.113, CV R²=0.761\n",
            "Params: ntree=100, mtry=7, nodesize=1 | CV RMSE=5.021, CV R²=0.765\n",
            "Params: ntree=50, mtry=3, nodesize=5 | CV RMSE=4.746, CV R²=0.789\n",
            "Params: ntree=100, mtry=3, nodesize=5 | CV RMSE=4.893, CV R²=0.773\n",
            "Params: ntree=50, mtry=4, nodesize=5 | CV RMSE=4.877, CV R²=0.771\n",
            "Params: ntree=100, mtry=4, nodesize=5 | CV RMSE=4.730, CV R²=0.794\n",
            "Params: ntree=50, mtry=7, nodesize=5 | CV RMSE=5.140, CV R²=0.744\n",
            "Params: ntree=100, mtry=7, nodesize=5 | CV RMSE=5.062, CV R²=0.756\n",
            "Params: ntree=50, mtry=3, nodesize=10 | CV RMSE=4.983, CV R²=0.766\n",
            "Params: ntree=100, mtry=3, nodesize=10 | CV RMSE=5.150, CV R²=0.753\n",
            "Params: ntree=50, mtry=4, nodesize=10 | CV RMSE=4.962, CV R²=0.773\n",
            "Params: ntree=100, mtry=4, nodesize=10 | CV RMSE=4.708, CV R²=0.802\n",
            "Params: ntree=50, mtry=7, nodesize=10 | CV RMSE=5.102, CV R²=0.757\n",
            "Params: ntree=100, mtry=7, nodesize=10 | CV RMSE=5.068, CV R²=0.759\n"
          ]
        }
      ]
    },
    {
      "cell_type": "markdown",
      "source": [
        "4. Best Parameters"
      ],
      "metadata": {
        "id": "HAwFnR-e6xIC"
      }
    },
    {
      "cell_type": "code",
      "source": [
        "%%R\n",
        "# Select best parameters\n",
        "best_idx <- which.min(results$RMSE)\n",
        "best_params <- param_grid[best_idx, ]\n",
        "cat(\"\\nBest Parameters:\\n\")\n",
        "print(best_params)\n",
        "cat(sprintf(\"Best CV RMSE: %.3f\\nBest CV R²: %.3f\\n\", results$RMSE[best_idx], results$R2[best_idx]))"
      ],
      "metadata": {
        "colab": {
          "base_uri": "https://localhost:8080/"
        },
        "id": "0BCC-ZYC49aT",
        "outputId": "bdd3c962-f1ca-410c-c24d-a3d6cc7446ce"
      },
      "execution_count": null,
      "outputs": [
        {
          "output_type": "stream",
          "name": "stdout",
          "text": [
            "\n",
            "Best Parameters:\n",
            "   ntree mtry nodesize\n",
            "16   100    4       10\n",
            "Best CV RMSE: 4.708\n",
            "Best CV R²: 0.802\n"
          ]
        }
      ]
    },
    {
      "cell_type": "markdown",
      "source": [
        "5. Train Final Model with Best Parameters"
      ],
      "metadata": {
        "id": "H-9EqsMP66HS"
      }
    },
    {
      "cell_type": "code",
      "source": [
        "%%R\n",
        "# Train final model with best parameters\n",
        "set.seed(seeds)\n",
        "et_model_final <- extraTrees(x_train, y_train,\n",
        "                       ntree = best_params$ntree,\n",
        "                       mtry = best_params$mtry,\n",
        "                       nodesize = best_params$nodesize)"
      ],
      "metadata": {
        "id": "oaeU-WWX5VKk"
      },
      "execution_count": null,
      "outputs": []
    },
    {
      "cell_type": "markdown",
      "source": [
        "6. Prediction and Evaluation"
      ],
      "metadata": {
        "id": "qBTXj1gg6-L7"
      }
    },
    {
      "cell_type": "code",
      "source": [
        "%%R\n",
        "# Prediction and evaluation on test set\n",
        "y_pred <- predict_extraTrees(et_model_final, x_test)\n",
        "rmse <- compute_rmse(y_test, y_pred)\n",
        "r2 <- cor(y_test, y_pred, use = \"complete.obs\")^2\n",
        "cat(\"\\nTest RMSE:\", round(rmse, 3), \"\\n\")\n",
        "cat(\"Test R²:\", round(r2, 3), \"\\n\")"
      ],
      "metadata": {
        "colab": {
          "base_uri": "https://localhost:8080/"
        },
        "id": "hVHAkoUD5dMW",
        "outputId": "f1ee3ac5-2396-440c-bc9a-677a18d3981a"
      },
      "execution_count": null,
      "outputs": [
        {
          "output_type": "stream",
          "name": "stdout",
          "text": [
            "\n",
            "Test RMSE: 4.774 \n",
            "Test R²: 0.807 \n"
          ]
        }
      ]
    },
    {
      "cell_type": "code",
      "source": [
        "%%R -w 550 -h 450 -u px\n",
        "# Create data frame for observed vs. predicted values\n",
        "plot_data <- data.frame(Observed = y_test, Predicted = y_pred)\n",
        "\n",
        "# Create 1:1 scatter plot with ggplot2\n",
        "ggplot(plot_data, aes(x = Observed, y = Predicted)) +\n",
        "  geom_point(color = \"steelblue\", alpha = 0.6) +\n",
        "  geom_abline(intercept = 0, slope = 1, color = \"red\", linetype = \"dashed\") +\n",
        "  labs(\n",
        "    title = \"Observed vs. Predicted Values (Boston Housing)\",\n",
        "    x = \"Observed Median House Value (medv)\",\n",
        "    y = \"Predicted Median House Value (medv)\"\n",
        "  ) +\n",
        "  theme_minimal() +\n",
        "  theme(\n",
        "    plot.title = element_text(hjust = 0.5, size = 14, face = \"bold\"),\n",
        "    axis.text = element_text(size = 12),\n",
        "    axis.title = element_text(size = 12)\n",
        "  )"
      ],
      "metadata": {
        "colab": {
          "base_uri": "https://localhost:8080/",
          "height": 467
        },
        "id": "qwvNunBd5sqh",
        "outputId": "5c62fddb-2d68-424b-d098-d707af1eb20b"
      },
      "execution_count": null,
      "outputs": [
        {
          "output_type": "display_data",
          "data": {
            "image/png": "[encoded data removed]"
          },
          "metadata": {}
        }
      ]
    },
    {
      "cell_type": "markdown",
      "source": [
        "## Summary and Conclusion\n",
        "\n",
        "This notebook provides a comprehensive overview of the Extremely Randomized Trees (Extra Trees) ensemble learning method. It explains the core principles, key differences from Random Forests, advantages, and disadvantages of the algorithm.\n",
        "\n",
        "The notebook then demonstrates how to implement Extra Trees in R, addressing the unavailability of the extraTrees package on CRAN by providing custom functions for building and predicting with Extra Trees models for both classification and regression tasks.\n",
        "\n",
        "Examples using the Iris dataset for classification and the Boston Housing dataset for regression illustrate the practical application of the custom R functions. The notebook also includes steps for data loading, preprocessing, model training, prediction, and evaluation using metrics like accuracy, RMSE, and R². Finally, it demonstrates hyperparameter tuning using a custom cross-validation approach to find the best parameters for the regression model.\n",
        "\n",
        "In conclusion, this notebook successfully explains and demonstrates the Extra Trees algorithm in R, providing a valuable resource for users who need to implement this method without relying on the archived extraTrees package. The custom functions and detailed examples offer a practical workaround for applying Extra Trees to machine learning problems in R."
      ],
      "metadata": {
        "id": "_j759RVMQMut"
      }
    },
    {
      "cell_type": "markdown",
      "source": [
        "## References\n",
        "\n",
        "\n",
        "1.  Hastie, T., Tibshirani, R., & Friedman, J. (2009). *The Elements of Statistical Learning: Data Mining, Inference, and Prediction* (2nd ed.). Springer.\\\n",
        "\n",
        "2.  Geurts, P., Ernst, D., & Wehenkel, L. (2006). Extremely randomized trees. *Machine Learning*, 63(1), 3–42. https://doi.org/10.1007/s10994-006-6226-1\n",
        "\n",
        "3.  CRAN. (2023). *extraTrees: Extremely Randomized Trees (ExtraTrees) for Regression and Classification*. R package version 0.8-12. https://cran.r-project.org/web/packages/extraTrees/index.html\n",
        "\n",
        "4.  Sim, J. (2016). *Extremely Randomized Trees with R*. R-bloggers. https://www.r-bloggers.com/2016/04/extremely-randomized-trees-with-r/"
      ],
      "metadata": {
        "id": "SaZTnZx3QPGI"
      }
    }
  ]
}