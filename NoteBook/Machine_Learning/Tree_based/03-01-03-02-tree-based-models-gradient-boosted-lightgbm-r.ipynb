{
  "nbformat": 4,
  "nbformat_minor": 0,
  "metadata": {
    "colab": {
      "provenance": [],
      "toc_visible": true,
      "authorship_tag": "ABX9TyPqs57zQl1OXkXKOTFGRbzK",
      "include_colab_link": true
    },
    "kernelspec": {
      "name": "python3",
      "display_name": "Python 3"
    },
    "language_info": {
      "name": "python"
    }
  },
  "cells": [
    {
      "cell_type": "markdown",
      "metadata": {
        "id": "view-in-github",
        "colab_type": "text"
      },
      "source": [
        "<a href=\"https://colab.research.google.com/github/zia207/r-colab/blob/main/NoteBook/Machine_Learning/Tree_based/03-01-03-02-tree-based-models-gradient-boosted-lightgbm-r.ipynb\" target=\"_parent\"><img src=\"https://colab.research.google.com/assets/colab-badge.svg\" alt=\"Open In Colab\"/></a>"
      ]
    },
    {
      "cell_type": "markdown",
      "source": [
        "![alt text](http://drive.google.com/uc?export=view&id=1bLQ3nhDbZrCCqy_WCxxckOne2lgVvn3l)"
      ],
      "metadata": {
        "id": "4qrItz_mJNWw"
      }
    },
    {
      "cell_type": "markdown",
      "source": [
        "# 3.2 Light Gradient Boosting Machine (LightGBM)\n",
        "\n",
        "LightGBM (Light Gradient Boosting Machine) is an open-source gradient boosting framework that is designed to be both efficient and scalable. It is based on the gradient boosting framework and uses a tree-based learning algorithm. This tutorial will guide you through the concepts and implementation of LightGBM, including its advantages, how it works, and how to implement it in R with {lightgbm} package.\n"
      ],
      "metadata": {
        "id": "Dzp9ZseROTcY"
      }
    },
    {
      "cell_type": "markdown",
      "source": [
        "## Overview\n",
        "\n",
        "Light Gradient Boosting Machine (LightGBM) is a high-performance, distributed, and efficient gradient boosting framework designed for speed and scalability, particularly for large-scale datasets. Developed by Microsoft, it is optimized for tasks like classification, regression, ranking, and other machine learning problems. LightGBM is part of the gradient boosting family, which builds an ensemble of weak learners (typically decision trees) to create a strong predictive model. LightGBM stands out due to its focus on computational efficiency and memory optimization, making it faster and less resource-intensive than other gradient boosting frameworks like XGBoost, especially for large datasets with high-dimensional features.\n"
      ],
      "metadata": {
        "id": "mLkAu88QToVr"
      }
    },
    {
      "cell_type": "markdown",
      "source": [
        "### Key Features of LightGBM\n",
        "\n",
        "- Histogram-based learning for speed and low memory use.\n",
        "- Leaf-wise tree growth for high accuracy.\n",
        "- Native categorical feature support.\n",
        "- Parallel and GPU training.\n",
        "- Sparse data optimization.\n",
        "- Custom loss functions.\n",
        "- Feature importance and early stopping."
      ],
      "metadata": {
        "id": "WL2L7JRduO3P"
      }
    },
    {
      "cell_type": "markdown",
      "source": [
        "### How LightGBM Works\n",
        "\n",
        "LightGBM (Light Gradient Boosting Machine) operates as a gradient boosting framework that builds an ensemble of decision trees iteratively to minimize a loss function. Below is an explanation of each step in the provided flowchart, including relevant equations where applicable.\n",
        "\n",
        "\n",
        "1. Data Preprocessing\n",
        "\n",
        "In the \"Data Preprocessing\" step, the algorithm loads the dataset, handles categorical features, and discretizes continuous features into histograms to optimize computation. This involves transforming feature values $x_j$ for feature $j$ into discrete bins $h_j(x_j)$), where the number of bins $k$ is predefined, reducing memory usage and speeding up subsequent calculations.\n",
        "\n",
        "2. Initialize Model\n",
        "\n",
        "Sets the initial predictions for all instances, typically starting with a constant value that minimizes the loss function. This is expressed as:\n",
        "\n",
        "$$ \\hat{y}_i^{(0)} = \\arg\\min_{\\gamma} \\sum_{i=1}^n L(y_i, \\gamma) $$\n",
        "\n",
        "where $L$ represents the loss function (e.g., mean squared error for regression or log loss for classification), and $y_i$ is the true target value for instance $i$.\n",
        "\n",
        "2. Compute Gradients and Hessians\n",
        "\n",
        "Calculates the first-order (gradient) and second-order (Hessian) derivatives of the loss function with respect to the predictions. These guide the tree-building process.\n",
        "\n",
        "Gradient:\n",
        "\n",
        "$$ g_i^{(t)} = \\frac{\\partial L(y_i, \\hat{y}_i^{(t-1)})}{\\partial \\hat{y}_i^{(t-1)}} $$\n",
        "Hessain:\n",
        "\n",
        "$$  h_i^{(t)} = \\frac{\\partial^2 L(y_i, \\hat{y}_i^{(t-1)})}{\\partial (\\hat{y}_i^{(t-1)})^2} $$\n",
        "\n",
        "These are computed for each instance $i$ at iteration $t$.\n",
        "\n",
        "3. Apply GOSS (Gradient-based One-Side Sampling)\n",
        "\n",
        "This step reduces the dataset size by sampling instances based on their gradient magnitudes, prioritizing those with larger gradients to focus on hard examples. The sampling probability is proportional to $p_i \\propto |g_i|$, allowing the algorithm to use a subset of instances for constructing the next tree, thus improving efficiency.\n",
        "\n",
        "::: callout-note\n",
        "Gradient-based One-Side Sampling\" (GOSS):\n",
        "\n",
        "Gradient-based One-Side Sampling (GOSS) is a data subsampling method used in LightGBM. GOSS is designed to speed up the training process of gradient boosting algorithms while maintaining or improving the model's accuracy.GOSS works by first sorting the training instances according to their gradients. The instances with larger gradients are considered more important for the model, as they provide more information about the loss function\n",
        ":::\n",
        "\n",
        "\n",
        "4. Apply EFB (Exclusive Feature Bundling)\n",
        "\n",
        "During the \"Apply EFB (Exclusive Feature Bundling)\" step, the algorithm groups mutually exclusive features into bundles to reduce dimensionality while minimizing information loss, which is particularly useful for sparse datasets. This involves combining features with no overlapping non-zero values into a single histogram, optimizing the feature space without significant loss of predictive power.\n",
        "\n",
        "5. Build Decision Tree (Histogram-based, Leaf-wise growth)\n",
        "\n",
        "The \"Build Decision Tree (Histogram-based, Leaf-wise growth)\" step constructs a decision tree using histogram-based splitting and selects the leaf with the maximum loss reduction for splitting, known as leaf-wise growth.\n",
        "\n",
        "The optimal output for a leaf $q$ is  defined as:\n",
        "\n",
        "$$\\gamma_q = -\\frac{G_q}{H_q + \\lambda}$$\n",
        "where $G_q = \\sum_{i \\in q} g_i$ is the sum of gradients, $H_q = \\sum_{i \\in q} h_i$ is the sum of Hessians, and $\\lambda$ is a regularization parameter. The gain (loss reduction) from a split is calculated as:\n",
        "\n",
        "$$ \\text{Gain} = \\frac{1}{2} \\left[ \\frac{G_L^2}{H_L + \\lambda} + \\frac{G_R^2}{H_R + \\lambda} - \\frac{G_q^2}{H_q + \\lambda} \\right] - \\gamma $$\n",
        "\n",
        "where $L$ and $R$ denote the left and right child nodes.\n",
        "\n",
        "6. Update Model Predictions\n",
        "\n",
        "The algorithm incorporates the new tree's contribution into the existing predictions, refining the model iteratively. This is done using the following equation:\n",
        "\n",
        "$$ \\hat{y}_i^{(t)} = \\hat{y}_i^{(t-1)} + \\eta \\cdot \\text{tree}_t(x_i) $$\n",
        "where $\\eta$ is the learning rate and $\\text{tree}_t(x_i)$ is the prediction from the new tree for instance $i$ at iteration $t$.\n",
        "\n",
        "::: callout-note\n",
        "Leaf-wise Growth:\n",
        "\n",
        "\"Leaf-wise\" growth strategy is a tree building algorithm used in gradient boosting algorithms such as LightGBM. In this strategy, the tree is grown leaf-wise, meaning that it starts by growing the tree with a single root node, and then at each step, it selects the leaf node that yields the largest reduction in the loss function, and splits it into two child nodes\n",
        ":::\n",
        "\n",
        "7. Check Stopping Criteria\n",
        "\n",
        "This step evaluates whether to continue training by checking if the maximum number of trees is reached or if convergence is achieved. This is determined by conditions such as $t \\geq \\text{max_trees}$ or $\\Delta L < \\epsilon$, where $\\Delta L$ is the change in loss and $\\epsilon$ is a small threshold, halting the process when no significant improvement is observed.\n",
        "\n",
        "8. Output Final Model\n",
        "\n",
        "Finally, the \"Output Final Model\" step combines all the trained trees to produce the final predictive model, which is the sum of contributions from each tree. The final prediction for an instance $i$ is given by:\n",
        "\n",
        "$$ \\hat{y}_i = \\sum_{t=1}^T \\eta \\cdot \\text{tree}_t(x_i)  $$\n",
        "\n",
        "where $T$ is the total number of trees, providing the complete model for inference."
      ],
      "metadata": {
        "id": "UXUhbmJVU64j"
      }
    },
    {
      "cell_type": "markdown",
      "source": [
        "Here below is a flowchart illustrating the lightGBM workflow:\n",
        "\n",
        "\n",
        "![alt text](http://drive.google.com/uc?export=view&id=197dEVzOVTfItn4SMIM-1i-bQc-QVRPNb)\n",
        "\n",
        "\n",
        "\n",
        "\n",
        "\n",
        "\n"
      ],
      "metadata": {
        "id": "uWCTcHkzvHE2"
      }
    },
    {
      "cell_type": "markdown",
      "source": [
        "### Advantages of LightGBM\n",
        "\n",
        "It is designed to be distributed and efficient with the following advantages:\n",
        "\n",
        "-   Faster training speed and higher efficiency.\n",
        "\n",
        "-   Lower memory usage.\n",
        "\n",
        "-   Better accuracy.\n",
        "\n",
        "-   Support of parallel, distributed, and GPU learning.\n",
        "\n",
        "-   Capable of handling large-scale data."
      ],
      "metadata": {
        "id": "NuhrbXQxGIIy"
      }
    },
    {
      "cell_type": "markdown",
      "source": [
        "### Limitations of LightGBM\n",
        "\n",
        "- Leaf-wise tree growth can lead to overfitting, especially with small datasets or insufficient regularization, as it aggressively splits nodes with the highest loss reduction.\n",
        "- Histogram-based learning may reduce precision for datasets with highly skewed or sparse features, potentially losing fine-grained information.\n",
        "- Requires careful tuning of hyperparameters (e.g., learning rate, max depth, and number of leaves) to achieve optimal performance, which can be time-consuming.\n",
        "- May struggle with extremely noisy data or datasets with a very high number of categorical features, where feature bundling might oversimplify relationships.\n",
        "- Parallel and GPU support, while advantageous, can be resource-intensive and may not always scale well on very small datasets or underconstrained hardware."
      ],
      "metadata": {
        "id": "70UMhkxtGPsU"
      }
    },
    {
      "cell_type": "markdown",
      "source": [
        "### Key Hyperparameters of LightGBM\n",
        "\n",
        "The key hyperparameters of LightGBM that significantly influence its performance include:\n",
        "\n",
        "- `learning_rate`: Controls the step size for each iteration, typically set between 0.01 and 0.1, where a smaller value (e.g., \\( \\eta \\)) slows learning but may improve generalization.\n",
        "- `num_leaves`: Determines the maximum number of leaves in one tree, with higher values (e.g., 31 or 127) increasing model complexity and risk of overfitting.\n",
        "- `max_depth`: Limits the maximum depth of each tree, preventing overfitting by capping growth (e.g., 5-10 is common).\n",
        "- `min_data_in_leaf`: Sets the minimum number of data points in a leaf, helping to avoid overfitting (e.g., 20-100 depending on dataset size).\n",
        "- `feature_fraction`: Specifies the fraction of features to consider per tree (e.g., 0.8), introducing randomness to reduce overfitting.\n",
        "- `bagging_fraction`: Defines the fraction of data to sample for each iteration (e.g., 0.9), aiding in reducing variance.\n",
        "- `lambda_l1` and `lambda_l2`: Regularization parameters (L1 and L2) to penalize large weights, controlling model complexity (e.g., 0 to 1).\n",
        "- `min_gain_to_split`: Sets the minimum gain required to split a leaf, preventing unnecessary splits (e.g., 0.01).\n",
        "- `num_iterations`: Defines the total number of boosting iterations or trees to build (e.g., 100-1000), affecting training time and accuracy."
      ],
      "metadata": {
        "id": "EEG0JrW9GQRV"
      }
    },
    {
      "cell_type": "markdown",
      "source": [
        "### Comparison of GBM and LightGBM\n",
        "\n",
        "\n",
        "| **Aspect**              | **GBM (Gradient Boosting Machine)**         | **LightGBM**                              |\n",
        "|--------------------------|---------------------------------------------|-------------------------------------------|\n",
        "| `Speed and Efficiency` | Slower, less memory-efficient due to level-wise growth | Faster and memory-efficient with histogram-based learning |\n",
        "| `Tree Growth Strategy` | Level-wise, grows trees layer by layer      | Leaf-wise, splits leaf with max loss reduction |\n",
        "| `Scalability`          | Struggles with large datasets, sequential   | Optimized for large datasets, supports parallel/GPU training |\n",
        "| `Feature Handling`     | Requires preprocessed categorical features  | Natively supports categorical features    |\n",
        "| `Sampling Techniques`  | Lacks advanced sampling methods             | Uses GOSS and EFB for data/feature reduction |\n",
        "| `Overfitting Control`  | More robust due to level-wise approach      | Requires tuning (e.g., min_data_in_leaf) to prevent overfitting |\n"
      ],
      "metadata": {
        "id": "a6b4S4mWSAyQ"
      }
    },
    {
      "cell_type": "markdown",
      "source": [
        "## Setup R in Python Runtype"
      ],
      "metadata": {
        "id": "CyOope_pwUVr"
      }
    },
    {
      "cell_type": "markdown",
      "source": [
        "### Install {rpy2}\n",
        "\n",
        "{rpy2} is a Python package that provides an interface to the R programming language, allowing Python users to run R code, call R functions, and manipulate R objects directly from Python. It enables seamless integration between Python and R, leveraging R's statistical and graphical capabilities while using Python's flexibility. The package supports passing data between the two languages and is widely used for statistical analysis, data visualization, and machine learning tasks that benefit from R's specialized libraries."
      ],
      "metadata": {
        "id": "SDp3ULld8Gb9"
      }
    },
    {
      "cell_type": "code",
      "source": [
        "!pip uninstall rpy2 -y\n",
        "!pip install rpy2==3.5.1\n",
        "%load_ext rpy2.ipython"
      ],
      "metadata": {
        "id": "CiM6y-Mw8AJp",
        "colab": {
          "base_uri": "https://localhost:8080/"
        },
        "outputId": "96c2fe21-e38d-4b06-8923-f7b2fbc69eaf"
      },
      "execution_count": 1,
      "outputs": [
        {
          "output_type": "stream",
          "name": "stdout",
          "text": [
            "Found existing installation: rpy2 3.5.17\n",
            "Uninstalling rpy2-3.5.17:\n",
            "  Successfully uninstalled rpy2-3.5.17\n",
            "Collecting rpy2==3.5.1\n",
            "  Downloading rpy2-3.5.1.tar.gz (201 kB)\n",
            "\u001b[2K     \u001b[90m━━━━━━━━━━━━━━━━━━━━━━━━━━━━━━━━━━━━━━━\u001b[0m \u001b[32m201.7/201.7 kB\u001b[0m \u001b[31m4.2 MB/s\u001b[0m eta \u001b[36m0:00:00\u001b[0m\n",
            "\u001b[?25h  Preparing metadata (setup.py) ... \u001b[?25l\u001b[?25hdone\n",
            "Requirement already satisfied: cffi>=1.10.0 in /usr/local/lib/python3.11/dist-packages (from rpy2==3.5.1) (1.17.1)\n",
            "Requirement already satisfied: jinja2 in /usr/local/lib/python3.11/dist-packages (from rpy2==3.5.1) (3.1.6)\n",
            "Requirement already satisfied: pytz in /usr/local/lib/python3.11/dist-packages (from rpy2==3.5.1) (2025.2)\n",
            "Requirement already satisfied: tzlocal in /usr/local/lib/python3.11/dist-packages (from rpy2==3.5.1) (5.3.1)\n",
            "Requirement already satisfied: pycparser in /usr/local/lib/python3.11/dist-packages (from cffi>=1.10.0->rpy2==3.5.1) (2.22)\n",
            "Requirement already satisfied: MarkupSafe>=2.0 in /usr/local/lib/python3.11/dist-packages (from jinja2->rpy2==3.5.1) (3.0.2)\n",
            "Building wheels for collected packages: rpy2\n",
            "  Building wheel for rpy2 (setup.py) ... \u001b[?25l\u001b[?25hdone\n",
            "  Created wheel for rpy2: filename=rpy2-3.5.1-cp311-cp311-linux_x86_64.whl size=314977 sha256=894a4a18e7a3486702dfd68e915055d3193fc772c528e755644d2e7f047255a0\n",
            "  Stored in directory: /root/.cache/pip/wheels/e9/55/d1/47be85a5f3f1e1f4d1e91cb5e3a4dcb40dd72147f184c5a5ef\n",
            "Successfully built rpy2\n",
            "Installing collected packages: rpy2\n",
            "Successfully installed rpy2-3.5.1\n"
          ]
        }
      ]
    },
    {
      "cell_type": "markdown",
      "source": [
        "### Mount Google Drive"
      ],
      "metadata": {
        "id": "O1zeuaCowiBt"
      }
    },
    {
      "cell_type": "code",
      "source": [
        "from google.colab import drive\n",
        "drive.mount('/content/drive')"
      ],
      "metadata": {
        "colab": {
          "base_uri": "https://localhost:8080/"
        },
        "id": "9J-4ie4bwiJ1",
        "outputId": "8fd047d4-dd18-4165-b8ee-e7e7b7721063"
      },
      "execution_count": 2,
      "outputs": [
        {
          "output_type": "stream",
          "name": "stdout",
          "text": [
            "Mounted at /content/drive\n"
          ]
        }
      ]
    },
    {
      "cell_type": "markdown",
      "source": [
        "## Light GBM Implementation from Scratch in R\n",
        "\n",
        "Implementing LightGBM from scratch in R for classification and regression without using any external packages involves creating a simplified version of its core concepts, such as gradient boosting with histogram-based learning and leaf-wise tree growth. Below is a basic implementation focusing on the key steps: initializing a model, computing gradients and Hessians, building decision trees iteratively, and updating predictions. This example uses a simple dataset and avoids advanced features like GOSS or EFB for simplicity."
      ],
      "metadata": {
        "id": "ztl1QBDb4MYe"
      }
    },
    {
      "cell_type": "markdown",
      "source": [
        "### Generate Synthetic Data\n",
        "\n",
        "\n",
        "\n",
        "\n"
      ],
      "metadata": {
        "id": "lP2lCzFHBUip"
      }
    },
    {
      "cell_type": "code",
      "source": [
        "%%R\n",
        "# Generate synthetic data\n",
        "set.seed(123)\n",
        "n <- 100\n",
        "\n",
        "# Regression data\n",
        "X_reg <- matrix(runif(n * 2), ncol = 2)  # 2 features\n",
        "y_reg <- 2 * X_reg[, 1] + 3 * X_reg[, 2] + rnorm(n)  # Linear target with noise\n",
        "\n",
        "# Classification data (binary)\n",
        "X_class <- matrix(runif(n * 2), ncol = 2)\n",
        "y_class <- ifelse(2 * X_class[, 1] + 3 * X_class[, 2] + rnorm(n) > 0, 1, 0)  # Binary target"
      ],
      "metadata": {
        "id": "aTjVIV5ZBW96"
      },
      "execution_count": null,
      "outputs": []
    },
    {
      "cell_type": "markdown",
      "source": [
        "### LightGBM Implementation\n",
        "\n",
        "- Parameters: `n_trees` = 10, `learning_rate` = 0.1, `max_depth` = 3, `min_data_in_leaf` = 5.\n",
        "\n",
        "- `build_tree` recursively builds a tree, returns $\\text{mean(grad)} / (\\text{mean(hess)} + 1e-10$ if `depth` = 0 or `grad` ≤ `min_data`.\n",
        "\n",
        "- Splits on first feature's median threshold, checks `min_data` in splits, recursively builds left/right subtrees, returns list with values, threshold, and feature.\n",
        "\n",
        "- `update_prediction` returns `tree * learning_rate` for numeric leaves, else compares $ x[\\text{tree$feature}] $ with `tree$threshold`, recursively calls `tree$left` or `tree$right`.\n"
      ],
      "metadata": {
        "id": "fwIhiSZNCO9N"
      }
    },
    {
      "cell_type": "code",
      "source": [
        "%%R\n",
        "# Parameters\n",
        "n_trees <- 10\n",
        "learning_rate <- 0.1\n",
        "max_depth <- 3\n",
        "min_data_in_leaf <- 5\n",
        "\n",
        "# Function to build a simple decision tree\n",
        "build_tree <- function(X, grad, hess, depth, min_data) {\n",
        "  if (depth == 0 || length(grad) <= min_data) {\n",
        "    return(mean(grad) / (mean(hess) + 1e-10))  # Leaf value\n",
        "  }\n",
        "\n",
        "  feature_idx <- 1\n",
        "  threshold <- median(X[, feature_idx])\n",
        "  left_idx <- which(X[, feature_idx] <= threshold)\n",
        "  right_idx <- which(X[, feature_idx] > threshold)\n",
        "\n",
        "  if (length(left_idx) < min_data || length(right_idx) < min_data) {\n",
        "    return(mean(grad) / (mean(hess) + 1e-10))\n",
        "  }\n",
        "\n",
        "  left_value <- build_tree(X[left_idx, ], grad[left_idx], hess[left_idx], depth - 1, min_data)\n",
        "  right_value <- build_tree(X[right_idx, ], grad[right_idx], hess[right_idx], depth - 1, min_data)\n",
        "\n",
        "  return(list(left = left_value, right = right_value, threshold = threshold, feature = feature_idx))\n",
        "}\n",
        "\n",
        "# Function to update predictions\n",
        "update_prediction <- function(x, tree) {\n",
        "  if (is.numeric(tree)) return(tree * learning_rate)\n",
        "  if (x[tree$feature] <= tree$threshold) {\n",
        "    return(update_prediction(x, tree$left))\n",
        "  } else {\n",
        "    return(update_prediction(x, tree$right))\n",
        "  }\n",
        "}"
      ],
      "metadata": {
        "id": "vYPiX59GCiTY"
      },
      "execution_count": null,
      "outputs": []
    },
    {
      "cell_type": "markdown",
      "source": [
        "#### Regression and Classification Implementation"
      ],
      "metadata": {
        "id": "8aFvX9PX6t7N"
      }
    },
    {
      "cell_type": "code",
      "source": [
        "%%R\n",
        "# Regression Implementation\n",
        "predictions_reg <- rep(mean(y_reg), n)\n",
        "for (t in 1:n_trees) {\n",
        "  gradients <- y_reg - predictions_reg  # Gradient for squared error\n",
        "  hessians <- rep(1, n)                # Hessian for squared error\n",
        "  tree <- build_tree(X_reg, gradients, hessians, max_depth, min_data_in_leaf)\n",
        "  for (i in 1:n) {\n",
        "    predictions_reg[i] <- predictions_reg[i] + update_prediction(X_reg[i, ], tree)\n",
        "  }\n",
        "}\n",
        "\n",
        "# Classification Implementation\n",
        "predictions_class <- rep(0, n)  # Initial log-odds (can start at 0)\n",
        "for (t in 1:n_trees) {\n",
        "  # Logistic loss gradient and Hessian\n",
        "  p <- 1 / (1 + exp(-predictions_class))  # Sigmoid\n",
        "  gradients <- p - y_class               # Gradient for log loss\n",
        "  hessians <- p * (1 - p)                # Hessian for log loss\n",
        "  tree <- build_tree(X_class, gradients, hessians, max_depth, min_data_in_leaf)\n",
        "  for (i in 1:n) {\n",
        "    predictions_class[i] <- predictions_class[i] + update_prediction(X_class[i, ], tree)\n",
        "  }\n",
        "}\n",
        "\n",
        "# Output results\n",
        "cat(\"Regression Predictions:\\n\")\n",
        "print(head(predictions_reg))\n",
        "cat(\"\\nClassification Predictions (Log-Odds):\\n\")\n",
        "print(head(predictions_class))\n",
        "cat(\"\\nClassification Probabilities:\\n\")\n",
        "print(head(1 / (1 + exp(-predictions_class))))  # Convert to probabilities"
      ],
      "metadata": {
        "colab": {
          "base_uri": "https://localhost:8080/"
        },
        "id": "foG5zY1Kcbe9",
        "outputId": "55a52977-3aaa-434a-e441-effb32b5f8f0"
      },
      "execution_count": null,
      "outputs": [
        {
          "output_type": "stream",
          "name": "stdout",
          "text": [
            "Regression Predictions:\n",
            "[1] 2.433534 2.892064 2.141685 2.892064 3.074677 2.022697\n",
            "\n",
            "Classification Predictions (Log-Odds):\n",
            "[1] -701.964098   -8.477481 -701.964098 -701.964098   -8.477481   -8.477481\n",
            "\n",
            "Classification Probabilities:\n",
            "[1] 1.383138e-305  2.080590e-04 1.383138e-305 1.383138e-305  2.080590e-04\n",
            "[6]  2.080590e-04\n"
          ]
        }
      ]
    },
    {
      "cell_type": "markdown",
      "source": [
        "####  Prediction Evaluation\n",
        "\n"
      ],
      "metadata": {
        "id": "VPJv1wf3xLmp"
      }
    },
    {
      "cell_type": "code",
      "source": [
        "%%R\n",
        "# Regression Metrics\n",
        "mse <- mean((y_reg - predictions_reg)^2)\n",
        "rmse <- sqrt(mse)\n",
        "mae <- mean(abs(y_reg - predictions_reg))\n",
        "\n",
        "# Classification Metrics\n",
        "pred_prob <- 1 / (1 + exp(-predictions_class))  # Convert log-odds to probabilities\n",
        "predicted_class <- ifelse(pred_prob >= 0.5, 1, 0)  # Threshold at 0.5\n",
        "accuracy <- mean(predicted_class == y_class)\n",
        "\n",
        "# Log Loss\n",
        "epsilon <- 1e-15  # Avoid log(0)\n",
        "log_loss <- -mean(y_class * log(pred_prob + epsilon) + (1 - y_class) * log(1 - pred_prob + epsilon))\n",
        "\n",
        "# Print Results\n",
        "cat(\"Regression Evaluation:\\n\")\n",
        "cat(sprintf(\"MSE: %.4f\\n\", mse))\n",
        "cat(sprintf(\"RMSE: %.4f\\n\", rmse))\n",
        "cat(sprintf(\"MAE: %.4f\\n\", mae))\n",
        "cat(\"\\nClassification Evaluation:\\n\")\n",
        "cat(sprintf(\"Accuracy: %.4f\\n\", accuracy))\n",
        "cat(sprintf(\"Log Loss: %.4f\\n\", log_loss))"
      ],
      "metadata": {
        "id": "aSuBBDLKDHML",
        "colab": {
          "base_uri": "https://localhost:8080/"
        },
        "outputId": "e40ca14e-9468-4b09-cfcc-aa21b3fd53f3"
      },
      "execution_count": null,
      "outputs": [
        {
          "output_type": "stream",
          "name": "stdout",
          "text": [
            "Regression Evaluation:\n",
            "MSE: 1.5037\n",
            "RMSE: 1.2262\n",
            "MAE: 0.9923\n",
            "\n",
            "Classification Evaluation:\n",
            "Accuracy: 0.0500\n",
            "Log Loss: 23.8582\n"
          ]
        }
      ]
    },
    {
      "cell_type": "markdown",
      "source": [
        "## Light Gradient Boosting Machine (lightGBM) in R\n",
        "\n",
        "The {lightGBM} package in R is an interface to the Light Gradient Boosting Machine, a high-performance, scalable gradient boosting framework developed by Microsoft. Optimized for speed and memory efficiency, it supports regression, classification, ranking, and other machine learning tasks. Key features include histogram-based learning, Gradient-based One-Side Sampling (GOSS), Exclusive Feature Bundling (EFB), and leaf-wise tree growth, enabling faster training on large datasets compared to other boosting frameworks like XGBoost. The package provides functions to train models, make predictions, and tune hyperparameters, with native support for categorical features and parallel processing. It is widely used for its efficiency in handling high-dimensional data and large-scale applications.\n",
        "\n",
        "\n",
        "![alt text](http://drive.google.com/uc?export=view&id=1WxnlV7-utypgLOrMKfiJHXhpftvzalYF\n",
        ")"
      ],
      "metadata": {
        "id": "n5Z1SpIUbgLy"
      }
    },
    {
      "cell_type": "markdown",
      "source": [
        "The LightGBM R package provides an implementation of the LightGBM algorithm, a highly efficient gradient boosting framework. Here are some key features of the LightGBM R package:\n",
        "\n",
        "1.  `High performance`: LightGBM is designed to be highly efficient and scalable, making it well-suited for large datasets and high-dimensional feature spaces. The R package provides an interface to the underlying C++ library, which allows it to take advantage of multi-threading and other optimization techniques.\n",
        "\n",
        "2.  `Cross-validation`: The LightGBM R package provides tools for cross-validation, which can be used to tune hyperparameters and assess model performance.\n",
        "\n",
        "3.  `Feature importance`: LightGBM computes the feature importance by measuring the number of times each feature is split on in the tree building process. The more a feature is used for splitting, the more important it is considered to be. The R package provides functions for visualizing the feature importance and selecting the most important features.\n",
        "\n",
        "4.  `Regularization`: LightGBM provides several regularization techniques, such as L1 and L2 regularization, to prevent overfitting. The R package provides options for controlling the amount of regularization.\n",
        "\n",
        "5.  `Missing value handling`: LightGBM can handle missing values in the data, using a default direction at each node to handle missing values.\n",
        "\n",
        "6.  `Flexibility`: LightGBM can be used for a wide range of machine learning tasks, including regression, classification, and ranking. It can also handle both numerical and categorical features, and supports custom objective functions.\n",
        "\n",
        "7.  `GPU acceleration`: The LightGBM R package supports GPU acceleration, which can significantly speed up training and inference on compatible hardware."
      ],
      "metadata": {
        "id": "qEloIhZwdk_9"
      }
    },
    {
      "cell_type": "markdown",
      "source": [
        "### Check amd Install Required R Packages\n",
        "\n",
        "Following R packages are required to run this notebook. If any of these packages are not installed, you can install them using the code below:"
      ],
      "metadata": {
        "id": "yXu-XY0mw1A8"
      }
    },
    {
      "cell_type": "code",
      "source": [
        "%%R\n",
        "packages <- c('tidyverse',\n",
        "              'plyr',\n",
        "              'lightgbm',\n",
        "              'Metrics',\n",
        "              'fastDummies',\n",
        "              'ggpmisc',\n",
        "              'Metrics')"
      ],
      "metadata": {
        "id": "TeYB57l0wz5N"
      },
      "execution_count": 3,
      "outputs": []
    },
    {
      "cell_type": "markdown",
      "source": [
        "### Install Missing Packages"
      ],
      "metadata": {
        "id": "q7NH-51RYeIk"
      }
    },
    {
      "cell_type": "code",
      "source": [
        "%%R\n",
        "# Install missing packages\n",
        "new.packages <- packages[!(packages %in% installed.packages(lib='drive/My Drive/R/')[,\"Package\"])]\n",
        "if(length(new.packages)) install.packages(new.packages, lib='drive/My Drive/R/')"
      ],
      "metadata": {
        "id": "a0aTMYTHAraZ"
      },
      "execution_count": null,
      "outputs": []
    },
    {
      "cell_type": "markdown",
      "source": [
        "### Verify Installation"
      ],
      "metadata": {
        "id": "Ah43eXWcYfpA"
      }
    },
    {
      "cell_type": "code",
      "source": [
        "%%R\n",
        "# set library path\n",
        ".libPaths('drive/My Drive/R')\n",
        "# Verify installation\n",
        "cat(\"Installed packages:\\n\")\n",
        "print(sapply(packages, requireNamespace, quietly = TRUE))"
      ],
      "metadata": {
        "colab": {
          "base_uri": "https://localhost:8080/"
        },
        "id": "R9hpg7qnArfh",
        "outputId": "4e04631f-e9fb-4ad1-aa32-f8189e6a14f9"
      },
      "execution_count": 4,
      "outputs": [
        {
          "output_type": "stream",
          "name": "stdout",
          "text": [
            "Installed packages:\n"
          ]
        },
        {
          "output_type": "stream",
          "name": "stderr",
          "text": [
            "WARNING:rpy2.rinterface_lib.callbacks:R[write to console]: Registered S3 methods overwritten by 'ggpp':\n",
            "  method                  from   \n",
            "  heightDetails.titleGrob ggplot2\n",
            "  widthDetails.titleGrob  ggplot2\n",
            "\n"
          ]
        },
        {
          "output_type": "stream",
          "name": "stdout",
          "text": [
            "  tidyverse        plyr    lightgbm     Metrics fastDummies     ggpmisc \n",
            "       TRUE        TRUE        TRUE        TRUE        TRUE        TRUE \n",
            "    Metrics \n",
            "       TRUE \n"
          ]
        }
      ]
    },
    {
      "cell_type": "markdown",
      "source": [
        "### Load R Packages"
      ],
      "metadata": {
        "id": "MV7R29xfyWQz"
      }
    },
    {
      "cell_type": "code",
      "source": [
        "%%R\n",
        "# set library path\n",
        ".libPaths('drive/My Drive/R')\n",
        "# Load packages with suppressed messages\n",
        "invisible(lapply(packages, function(pkg) {\n",
        "  suppressPackageStartupMessages(library(pkg, character.only = TRUE))\n",
        "}))"
      ],
      "metadata": {
        "id": "232jNAHBykUL"
      },
      "execution_count": 5,
      "outputs": []
    },
    {
      "cell_type": "markdown",
      "source": [
        "### Check Loaded Packages"
      ],
      "metadata": {
        "id": "ULxgK067YntF"
      }
    },
    {
      "cell_type": "code",
      "source": [
        "%%R\n",
        "# Check loaded packages\n",
        "cat(\"Successfully loaded packages:\\n\")\n",
        "print(search()[grepl(\"package:\", search())])# Check loaded packageswer)"
      ],
      "metadata": {
        "colab": {
          "base_uri": "https://localhost:8080/"
        },
        "id": "mcAOZzmSYk4n",
        "outputId": "f9789e8e-8a32-401c-e4fe-1ca33e44446f"
      },
      "execution_count": null,
      "outputs": [
        {
          "output_type": "stream",
          "name": "stdout",
          "text": [
            "Successfully loaded packages:\n",
            " [1] \"package:ggpmisc\"     \"package:ggpp\"        \"package:fastDummies\"\n",
            " [4] \"package:Metrics\"     \"package:lightgbm\"    \"package:plyr\"       \n",
            " [7] \"package:lubridate\"   \"package:forcats\"     \"package:stringr\"    \n",
            "[10] \"package:dplyr\"       \"package:purrr\"       \"package:readr\"      \n",
            "[13] \"package:tidyr\"       \"package:tibble\"      \"package:ggplot2\"    \n",
            "[16] \"package:tidyverse\"   \"package:tools\"       \"package:stats\"      \n",
            "[19] \"package:graphics\"    \"package:grDevices\"   \"package:utils\"      \n",
            "[22] \"package:datasets\"    \"package:methods\"     \"package:base\"       \n"
          ]
        }
      ]
    },
    {
      "cell_type": "markdown",
      "source": [
        "### Regression with LightGBM"
      ],
      "metadata": {
        "id": "QabVFLr5jgrD"
      }
    },
    {
      "cell_type": "markdown",
      "source": [
        "#### Data and Data Preparation\n",
        "\n"
      ],
      "metadata": {
        "id": "rSJqB05rO5ES"
      }
    },
    {
      "cell_type": "code",
      "execution_count": 6,
      "metadata": {
        "id": "CFpt_H01OPsa"
      },
      "outputs": [],
      "source": [
        "%%R\n",
        "# Load Boston Housing dataset\n",
        "data(\"Boston\", package = \"MASS\")\n",
        "\n",
        "# Create a data frame with selected variables\n",
        "df <- Boston %>%\n",
        "  dplyr::select(medv, crim, zn, indus, chas, nox, rm, age, dis, rad, tax, ptratio, black, lstat)\n",
        "\n",
        "# Convert to matrix for LightGBM\n",
        "m <- as.matrix(df)\n",
        "set.seed(123)\n",
        "\n",
        "# Sample 75% of the data for training\n",
        "indices <- sample(1:nrow(df), size = 0.75 * nrow(df))\n",
        "train <- m[indices, ]\n",
        "test <- m[-indices, ]"
      ]
    },
    {
      "cell_type": "markdown",
      "source": [
        "\n",
        "#### Load the train and test data into the LightGBM dataset object"
      ],
      "metadata": {
        "id": "UPiv_OTsmKB1"
      }
    },
    {
      "cell_type": "code",
      "source": [
        "%%R\n",
        "# Load train and test data into LightGBM dataset object\n",
        "y_train <- train[, 1]  # medv is the target\n",
        "y_test <- test[, 1]\n",
        "train_lgb <- lgb.Dataset(\n",
        "  data = train[, 2:ncol(train)],\n",
        "  label = y_train,\n",
        "  params = list(feature_pre_filter = FALSE)\n",
        ")\n",
        "test_lgb <- lgb.Dataset(\n",
        "  data = test[, 2:ncol(test)],\n",
        "  label = y_test,\n",
        "  params = list(feature_pre_filter = FALSE)\n",
        ")"
      ],
      "metadata": {
        "id": "nmHkqU4kmNWI"
      },
      "execution_count": 8,
      "outputs": []
    },
    {
      "cell_type": "markdown",
      "source": [
        "#### Fit lightGBM model\n",
        "\n",
        "Next, we'll fit the light model by using the `lgb.train()` function, which displays the training and testing RMSE (root mean squared error) for each round of boosting\n"
      ],
      "metadata": {
        "id": "k6EFndFdP5qq"
      }
    },
    {
      "cell_type": "code",
      "source": [
        "%%R\n",
        "# Define parameters\n",
        "params <- list(\n",
        "  objective = \"regression\",\n",
        "  metric = \"l2\",\n",
        "  min_data_in_leaf = 1L,  # Corrected parameter name\n",
        "  learning_rate = 0.05,\n",
        "  num_threads = 2L,\n",
        "  feature_pre_filter = FALSE  # Added to resolve error\n",
        ")\n",
        "\n",
        "# fit lightgbm model\n",
        "lightgbm_model <- lgb.train(\n",
        "  params = params,\n",
        "  data = train_lgb,\n",
        "  nrounds = 100L,\n",
        "  early_stopping_rounds = 3L,\n",
        "  valids = list(test = test_lgb),\n",
        "  verbose = 1  # Enable logging to monitor training\n",
        ")\n"
      ],
      "metadata": {
        "colab": {
          "base_uri": "https://localhost:8080/"
        },
        "id": "p7fPSLSxsZie",
        "outputId": "0c168db5-5746-4f6e-d278-7a123fae7a4b"
      },
      "execution_count": 9,
      "outputs": [
        {
          "output_type": "stream",
          "name": "stdout",
          "text": [
            "[LightGBM] [Info] Auto-choosing col-wise multi-threading, the overhead of testing was 0.000119 seconds.\n",
            "You can set `force_col_wise=true` to remove the overhead.\n",
            "[LightGBM] [Info] Total Bins 982\n",
            "[LightGBM] [Info] Number of data points in the train set: 379, number of used features: 13\n",
            "[LightGBM] [Info] Start training from score 22.512137\n",
            "[1]:  test's l2:75.323 \n",
            "Will train until there is no improvement in 3 rounds.\n",
            "[2]:  test's l2:68.4973 \n",
            "[3]:  test's l2:62.2759 \n",
            "[4]:  test's l2:56.6915 \n",
            "[5]:  test's l2:51.9838 \n",
            "[6]:  test's l2:47.6355 \n",
            "[7]:  test's l2:43.6113 \n",
            "[8]:  test's l2:40.1444 \n",
            "[9]:  test's l2:37.0938 \n",
            "[10]:  test's l2:34.439 \n",
            "[11]:  test's l2:32.0923 \n",
            "[12]:  test's l2:29.9094 \n",
            "[13]:  test's l2:27.9457 \n",
            "[14]:  test's l2:26.3152 \n",
            "[15]:  test's l2:24.8207 \n",
            "[16]:  test's l2:23.6034 \n",
            "[17]:  test's l2:22.4458 \n",
            "[18]:  test's l2:21.3545 \n",
            "[19]:  test's l2:20.3519 \n",
            "[20]:  test's l2:19.4315 \n",
            "[21]:  test's l2:18.6232 \n",
            "[22]:  test's l2:17.9574 \n",
            "[23]:  test's l2:17.3045 \n",
            "[24]:  test's l2:16.7059 \n",
            "[25]:  test's l2:16.2784 \n",
            "[26]:  test's l2:15.836 \n",
            "[27]:  test's l2:15.4188 \n",
            "[28]:  test's l2:15.106 \n",
            "[29]:  test's l2:14.8036 \n",
            "[30]:  test's l2:14.639 \n",
            "[31]:  test's l2:14.4137 \n",
            "[32]:  test's l2:14.2139 \n",
            "[33]:  test's l2:13.9759 \n",
            "[34]:  test's l2:13.9491 \n",
            "[35]:  test's l2:13.8647 \n",
            "[36]:  test's l2:13.7507 \n",
            "[37]:  test's l2:13.6898 \n",
            "[38]:  test's l2:13.5789 \n",
            "[39]:  test's l2:13.4866 \n",
            "[40]:  test's l2:13.4644 \n",
            "[41]:  test's l2:13.4695 \n",
            "[42]:  test's l2:13.4167 \n",
            "[43]:  test's l2:13.3775 \n",
            "[44]:  test's l2:13.3721 \n",
            "[45]:  test's l2:13.3783 \n",
            "[46]:  test's l2:13.3826 \n",
            "[47]:  test's l2:13.3811 \n",
            "Early stopping, best iteration is: [44]:  test's l2:13.3721\n"
          ]
        }
      ]
    },
    {
      "cell_type": "code",
      "source": [
        "%%R\n",
        "summary(lightgbm_model)"
      ],
      "metadata": {
        "colab": {
          "base_uri": "https://localhost:8080/"
        },
        "id": "MyjnaLHUP946",
        "outputId": "f89e17bf-90f0-46d9-97c5-51731eefab5c"
      },
      "execution_count": 10,
      "outputs": [
        {
          "output_type": "stream",
          "name": "stdout",
          "text": [
            "LightGBM Model (47 trees)\n",
            "Objective: regression\n",
            "Fitted to dataset with 13 columns\n"
          ]
        }
      ]
    },
    {
      "cell_type": "markdown",
      "source": [
        "#### Predict and Evaluate Initial Model"
      ],
      "metadata": {
        "id": "ioqlVpARP_pN"
      }
    },
    {
      "cell_type": "code",
      "source": [
        "%%R\n",
        "# Prediction and Evaluation\n",
        "yhat_fit_train <- predict(lightgbm_model, train[, 2:ncol(train)])\n",
        "yhat_predict_test <- predict(lightgbm_model, test[, 2:ncol(test)])\n",
        "\n",
        "# Define RMSE function\n",
        "RMSE <- function(actual, predicted) {\n",
        "  sqrt(mean((actual - predicted)^2))\n",
        "}\n",
        "\n",
        "rmse_train <- RMSE(y_train, yhat_fit_train)\n",
        "rmse_test <- RMSE(y_test, yhat_predict_test)\n",
        "cat(\"Training RMSE:\", rmse_train, \"\\n\")\n",
        "cat(\"Test RMSE:\", rmse_test, \"\\n\")"
      ],
      "metadata": {
        "colab": {
          "base_uri": "https://localhost:8080/"
        },
        "id": "uwTfSah-QYwz",
        "outputId": "09c15ea3-4734-4b86-e6f6-96e3767a889f"
      },
      "execution_count": 11,
      "outputs": [
        {
          "output_type": "stream",
          "name": "stdout",
          "text": [
            "Training RMSE: 1.440585 \n",
            "Test RMSE: 3.656782 \n"
          ]
        }
      ]
    },
    {
      "cell_type": "markdown",
      "source": [
        "#### Hyperparameter Tuning for the Best Parameters\n",
        "\n",
        "To find the best parameters for the LightGBM model using cross-validation (CV) and grid search, I'll implement a grid search over key hyperparameters (`num_leaves`, `learning_rate`, `max_depth`, m`in_data_in_leaf`) with 5-fold cross-validation to optimize the RMSE metric.\n"
      ],
      "metadata": {
        "id": "GqOYNF6YnQMo"
      }
    },
    {
      "cell_type": "markdown",
      "source": [
        "##### Define Parameter Grid and Initialize Variables"
      ],
      "metadata": {
        "id": "PpIEnQNDoWLq"
      }
    },
    {
      "cell_type": "code",
      "source": [
        "%%R\n",
        "# Define parameter grid for grid search\n",
        "param_grid <- expand.grid(\n",
        "  num_leaves = c(20, 31, 50),\n",
        "  learning_rate = c(0.01, 0.05, 0.1),\n",
        "  max_depth = c(5, 7, -1),  # -1 means no limit\n",
        "  min_data_in_leaf = c(10, 20)\n",
        ")\n",
        "\n",
        "# Initialize variables to store best parameters and RMSE\n",
        "best_rmse <- Inf\n",
        "best_params <- NULL\n",
        "results <- data.frame()\n",
        "\n",
        "# Perform grid search with cross-validation\n",
        "for (i in 1:nrow(param_grid)) {\n",
        "  params <- list(\n",
        "    objective = \"regression\",\n",
        "    metric = \"l2\",\n",
        "    num_leaves = param_grid$num_leaves[i],\n",
        "    learning_rate = param_grid$learning_rate[i],\n",
        "    max_depth = param_grid$max_depth[i],\n",
        "    min_data_in_leaf = param_grid$min_data_in_leaf[i],\n",
        "    num_threads = 2L,\n",
        "    num_iterations = 1000,\n",
        "    early_stopping_rounds = 50\n",
        "  )\n",
        "\n",
        "  # Perform 5-fold cross-validation\n",
        "  cv_results <- lgb.cv(\n",
        "    params = params,\n",
        "    data = train_lgb,\n",
        "    nfold = 5,\n",
        "    stratified = FALSE,\n",
        "    verbose = -1\n",
        "  )\n",
        "\n",
        "  # Extract the best RMSE from cross-validation\n",
        "  cv_rmse <- sqrt(cv_results$best_score)  # Best L2 score is MSE, so take sqrt for RMSE\n",
        "\n",
        "  # Store results\n",
        "  results <- rbind(results, data.frame(\n",
        "    num_leaves = params$num_leaves,\n",
        "    learning_rate = params$learning_rate,\n",
        "    max_depth = params$max_depth,\n",
        "    min_data_in_leaf = params$min_data_in_leaf,\n",
        "    cv_rmse = cv_rmse\n",
        "  ))\n",
        "\n",
        "  # Update best parameters if current RMSE is better\n",
        "  if (cv_rmse < best_rmse) {\n",
        "    best_rmse <- cv_rmse\n",
        "    best_params <- params\n",
        "  }\n",
        "\n",
        "  cat(\"Grid search iteration\", i, \"of\", nrow(param_grid), \"CV RMSE:\", cv_rmse, \"\\n\")\n",
        "}"
      ],
      "metadata": {
        "id": "RjnlDmSzoWzn"
      },
      "execution_count": null,
      "outputs": []
    },
    {
      "cell_type": "markdown",
      "source": [
        "##### The best parameters"
      ],
      "metadata": {
        "id": "EuPB-9Tnot5f"
      }
    },
    {
      "cell_type": "code",
      "source": [
        "%%R\n",
        "# Output results\n",
        "cat(\"\\nBest Parameters:\\n\")\n",
        "print(best_params)"
      ],
      "metadata": {
        "colab": {
          "base_uri": "https://localhost:8080/"
        },
        "id": "UYbWhgako6J4",
        "outputId": "9971b798-cf73-4006-8088-bf91cd3aee7c"
      },
      "execution_count": 13,
      "outputs": [
        {
          "output_type": "stream",
          "name": "stdout",
          "text": [
            "\n",
            "Best Parameters:\n",
            "$objective\n",
            "[1] \"regression\"\n",
            "\n",
            "$metric\n",
            "[1] \"l2\"\n",
            "\n",
            "$num_leaves\n",
            "[1] 20\n",
            "\n",
            "$learning_rate\n",
            "[1] 0.1\n",
            "\n",
            "$max_depth\n",
            "[1] 5\n",
            "\n",
            "$min_data_in_leaf\n",
            "[1] 10\n",
            "\n",
            "$num_threads\n",
            "[1] 2\n",
            "\n",
            "$num_iterations\n",
            "[1] 1000\n",
            "\n",
            "$early_stopping_rounds\n",
            "[1] 50\n",
            "\n"
          ]
        }
      ]
    },
    {
      "cell_type": "markdown",
      "source": [
        "##### Train and Validate Model with Best Parameters"
      ],
      "metadata": {
        "id": "qlo7UGqjpMJm"
      }
    },
    {
      "cell_type": "code",
      "source": [
        "%%R\n",
        "# Train final model with best parameters\n",
        "final_model <- lgb.train(\n",
        "  params = best_params,\n",
        "  data = train_lgb,\n",
        "  valids = list(test = test_lgb),\n",
        "  verbose = -1\n",
        ")"
      ],
      "metadata": {
        "id": "MWa_RuR3pMhJ"
      },
      "execution_count": 14,
      "outputs": []
    },
    {
      "cell_type": "markdown",
      "source": [
        "##### Predictions and Evaluation"
      ],
      "metadata": {
        "id": "Q99NFqvipTF2"
      }
    },
    {
      "cell_type": "code",
      "source": [
        "%%R\n",
        "# Predictions and evaluation\n",
        "train_pred <- predict(final_model, train[, 2:ncol(train)])\n",
        "test_pred <- predict(final_model, test[, 2:ncol(test)])\n",
        "\n",
        "rmse_train_final <- RMSE(y_train, train_pred)\n",
        "rmse_test_final <- RMSE(y_test, test_pred)\n",
        "\n",
        "cat(\"\\nFinal Model Performance:\\n\")\n",
        "cat(\"Training RMSE:\", rmse_train_final, \"\\n\")\n",
        "cat(\"Test RMSE:\", rmse_test_final, \"\\n\")\n",
        "\n",
        "# Save grid search results\n",
        "# write.csv(results, \"grid_search_results.csv\", row.names = FALSE)"
      ],
      "metadata": {
        "colab": {
          "base_uri": "https://localhost:8080/"
        },
        "id": "IDzGkXFPpaFR",
        "outputId": "525a5f27-1787-4520-a2c8-cf848aefa44a"
      },
      "execution_count": 15,
      "outputs": [
        {
          "output_type": "stream",
          "name": "stdout",
          "text": [
            "\n",
            "Final Model Performance:\n",
            "Training RMSE: 0.6145919 \n",
            "Test RMSE: 3.612103 \n"
          ]
        }
      ]
    },
    {
      "cell_type": "code",
      "source": [
        "%%R\n",
        "formula<-y~x\n",
        "\n",
        "# 1:1 Plot of Predicted vs Observed values\n",
        "test_df <- data.frame(medv = y_test, medv_pred = test_pred)\n",
        "\n",
        "ggplot(test_df, aes(x = medv, y = medv_pred)) +\n",
        "  geom_point() +\n",
        "  geom_smooth(method = \"lm\") +\n",
        "  stat_poly_eq(use_label(c(\"eq\", \"adj.R2\")), formula = y ~ x) +\n",
        "  ggtitle(\"LightGBM: Predicted vs Observed House Prices\") +\n",
        "  xlab(\"Observed medv ($1,000s)\") +\n",
        "  ylab(\"Predicted medv ($1,000s)\") +\n",
        "  scale_x_continuous(limits = c(0, 55), breaks = seq(0, 55, 10)) +\n",
        "  scale_y_continuous(limits = c(0, 55), breaks = seq(0, 55, 10)) +\n",
        "  theme(\n",
        "    panel.background = element_rect(fill = \"grey95\", colour = \"gray75\", size = 0.5, linetype = \"solid\"),\n",
        "    axis.line = element_line(colour = \"grey\"),\n",
        "    plot.title = element_text(size = 14, hjust = 0.5),\n",
        "    axis.title.x = element_text(size = 14),\n",
        "    axis.title.y = element_text(size = 14),\n",
        "    axis.text.x = element_text(size = 13, colour = \"black\"),\n",
        "    axis.text.y = element_text(size = 13, angle = 90, vjust = 0.5, hjust = 0.5, colour = \"black\")\n",
        "  )"
      ],
      "metadata": {
        "colab": {
          "base_uri": "https://localhost:8080/",
          "height": 514
        },
        "id": "Ic0gVXQEzDOd",
        "outputId": "2698a8ba-372f-4bb0-d4f8-a830d1be8d23"
      },
      "execution_count": 16,
      "outputs": [
        {
          "output_type": "stream",
          "name": "stdout",
          "text": [
            "`geom_smooth()` using formula = 'y ~ x'\n"
          ]
        },
        {
          "output_type": "display_data",
          "data": {
            "image/png": "[encoded data removed]"
          },
          "metadata": {}
        }
      ]
    },
    {
      "cell_type": "markdown",
      "source": [
        "##### Feature Importance"
      ],
      "metadata": {
        "id": "5AKztLwDzNj3"
      }
    },
    {
      "cell_type": "code",
      "source": [
        "%%R\n",
        "# Compute and plot variable importance\n",
        "importance <- lgb.importance(final_model)\n",
        "feature_names <- colnames(df)[2:ncol(df)]  # All features after medv\n",
        "\n",
        "# Plot variable importance using ggplot2\n",
        "p <- ggplot(importance, aes(x = reorder(Feature, Gain), y = Gain)) +\n",
        "  geom_bar(stat = \"identity\", fill = \"#1f77b4\") +\n",
        "  coord_flip() +\n",
        "  labs(title = \"LightGBM Feature Importance (Gain)\", x = \"Feature\", y = \"Gain\") +\n",
        "  theme_minimal() +\n",
        "  theme(plot.title = element_text(hjust = 0.5))\n",
        "\n",
        "# Display the plot\n",
        "print(p)"
      ],
      "metadata": {
        "colab": {
          "base_uri": "https://localhost:8080/",
          "height": 497
        },
        "id": "IOT-EVsOzOZP",
        "outputId": "2e235920-c1c2-4f35-8419-1d48531bb98e"
      },
      "execution_count": 17,
      "outputs": [
        {
          "output_type": "display_data",
          "data": {
            "image/png": "[encoded data removed]"
          },
          "metadata": {}
        }
      ]
    },
    {
      "cell_type": "markdown",
      "source": [
        "### Classification with LightGBM\n",
        "\n",
        "In this section, we will use the {lightGBM} package to perform classification on a dataset. We will load the dataset, preprocess it, and then fit an lightgbm model for classification. The dataset will be split into training and testing sets, and we will evaluate the model's performance using accuracy and confusion matrix."
      ],
      "metadata": {
        "id": "Irqlj8sYYKas"
      }
    },
    {
      "cell_type": "markdown",
      "source": [
        "#### Data and Data Preparation\n",
        "\n",
        "We will use`health insurance` dataset to predict the product type (A, B, or C) based on various features such as age, household size, position level, and absence records."
      ],
      "metadata": {
        "id": "NRpPJB6-YUUo"
      }
    },
    {
      "cell_type": "code",
      "source": [
        "%%R\n",
        "# Load the dataset\n",
        "df <-readr::read_csv(\"https://github.com/zia207/r-colab/raw/main/Data/Machine_Learning/health_insurance.csv\")\n",
        "# Create subset with specified variables\n",
        "df <- data.frame(\n",
        "  product = df$product,\n",
        "  age = df$age,\n",
        "  household = df$household,\n",
        "  position_level = df$position_level,\n",
        "  absent = df$absent,\n",
        "  gender = factor(df$gender)\n",
        ")\n",
        "\n",
        "# Create dummy variable for gender\n",
        "tmp <- df[, \"gender\", drop = FALSE]\n",
        "tmp1 <- dummy_cols(tmp)\n",
        "tmp1 <- tmp1[, 3:ncol(tmp1)]\n",
        "\n",
        "# Combine features with dummy variable\n",
        "d <- data.frame(df[, c(\"product\", \"age\", \"household\", \"position_level\", \"absent\")], tmp1)\n",
        "m <- as.matrix(d)\n",
        "\n",
        "# Encode target variable (product: A=0, B=1, C=2)\n",
        "d$product <- as.numeric(factor(d$product)) - 1\n",
        "\n",
        "# Create training and test datasets\n",
        "set.seed(123)\n",
        "indices <- sample(1:nrow(df), size = 0.75 * nrow(df))\n",
        "train <- m[indices, ]\n",
        "test <- m[-indices, ]\n",
        "\n",
        "# Load train and test data into LightGBM dataset objects\n",
        "y_train <- d$product[indices]\n",
        "y_test <- d$product[-indices]\n",
        "train_lgb <- lgb.Dataset(\n",
        "  data = train[, 2:ncol(train)],\n",
        "  label = y_train,\n",
        "  params = list(feature_pre_filter = FALSE)\n",
        ")\n",
        "test_lgb <- lgb.Dataset(\n",
        "  data = test[, 2:ncol(test)],\n",
        "  label = y_test,\n",
        "  params = list(feature_pre_filter = FALSE)\n",
        ")"
      ],
      "metadata": {
        "colab": {
          "base_uri": "https://localhost:8080/"
        },
        "id": "UfumDV8yYaI2",
        "outputId": "979ff3e7-09fb-49b3-c673-1ac7e9f65756"
      },
      "execution_count": null,
      "outputs": [
        {
          "output_type": "stream",
          "name": "stdout",
          "text": [
            "Rows: 1448 Columns: 6\n",
            "── Column specification ────────────────────────────────────────────────────────\n",
            "Delimiter: \",\"\n",
            "chr (2): product, gender\n",
            "dbl (4): age, household, position_level, absent\n",
            "\n",
            "ℹ Use `spec()` to retrieve the full column specification for this data.\n",
            "ℹ Specify the column types or set `show_col_types = FALSE` to quiet this message.\n"
          ]
        }
      ]
    },
    {
      "cell_type": "markdown",
      "source": [
        "#### Fit lightGBM Classification Model"
      ],
      "metadata": {
        "id": "5yliW4QeZMpE"
      }
    },
    {
      "cell_type": "code",
      "source": [
        "%%R\n",
        "# Fit initial model with fixed parameters\n",
        "initial_params <- list(\n",
        "  objective = \"multiclass\",\n",
        "  metric = \"multi_logloss\",\n",
        "  num_class = 3,\n",
        "  num_leaves = 31,\n",
        "  learning_rate = 0.05,\n",
        "  max_depth = 5,\n",
        "  min_data_in_leaf = 10,\n",
        "  num_threads = 2L\n",
        ")\n",
        "\n",
        "initial_model <- lgb.train(\n",
        "  params = initial_params,\n",
        "  data = train_lgb,\n",
        "  valids = list(test = test_lgb),\n",
        "  #num_iterations = 1000,\n",
        "  early_stopping_rounds = 50,\n",
        "  verbose = -1\n",
        ")\n",
        "summary(initial_model)"
      ],
      "metadata": {
        "colab": {
          "base_uri": "https://localhost:8080/"
        },
        "id": "0H3OVcIrZNK8",
        "outputId": "2ac00726-9db2-4ff9-eb36-e210c9b47bbb"
      },
      "execution_count": null,
      "outputs": [
        {
          "output_type": "stream",
          "name": "stdout",
          "text": [
            "LightGBM Model (100 trees)\n",
            "Objective: multiclass (3 classes)\n",
            "Fitted to dataset with 5 columns\n"
          ]
        }
      ]
    },
    {
      "cell_type": "markdown",
      "source": [
        "#### Predictions and Evaluation\n",
        "\n",
        "For model evalution we will use `accuracy` and `multi-class log loss` as metrics. The accuracy is the proportion of correct predictions, while the multi-class log loss measures the performance of a classification model whose output is a probability value between 0 and 1 for each class.\n",
        "\n",
        "The `multi-class log loss` (also called cross-entropy loss) can be computed manually in R using the formula:\n",
        "\n",
        "$$ \\text{multi_logloss} = -\\frac{1}{N} \\sum_{i=1}^N \\sum_{k=1}^K y_{ik} \\log(\\hat{p}_{ik}) $$\n",
        "\n",
        "where:\n",
        "\n",
        "-   $N$: Number of observations.\n",
        "\n",
        "-   $K$: Number of classes (3 for `product`: A, B, C).\n",
        "\n",
        "-   $y_{ik}$: 1 if observation $i$ belongs to class $k$, 0 otherwise.\n",
        "\n",
        "-   $\\hat{p}_{ik}$: Predicted probability for observation $i$ and class $k$.\n",
        "\n",
        "The LightGBM model outputs predicted probabilities for each class (via `predict(..., reshape = TRUE)`), and the true labels are encoded as 0 (A), 1 (B), and 2 (C). We’ll create a custom `multi_logloss` function to compute this metric and update the script accordingly."
      ],
      "metadata": {
        "id": "Gp7pWvYaZS7T"
      }
    },
    {
      "cell_type": "code",
      "source": [
        "%%R\n",
        "# Custom multi-class log loss function\n",
        "multi_logloss <- function(y_true, y_pred) {\n",
        "  # Ensure y_true is integer (0, 1, 2 for A, B, C)\n",
        "  y_true <- as.integer(y_true)\n",
        "  # Number of observations\n",
        "  N <- length(y_true)\n",
        "  # Number of classes\n",
        "  K <- ncol(y_pred)\n",
        "  # Initialize log loss\n",
        "  logloss <- 0\n",
        "  # Small epsilon to avoid log(0)\n",
        "  eps <- 1e-15\n",
        "  # Compute log loss\n",
        "  for (i in 1:N) {\n",
        "    # True class index (1-based in R)\n",
        "    true_class <- y_true[i] + 1\n",
        "    # Predicted probability for true class, clipped to avoid log(0)\n",
        "    p <- pmax(pmin(y_pred[i, true_class], 1 - eps), eps)\n",
        "    logloss <- logloss - log(p)\n",
        "  }\n",
        "  # Average log loss\n",
        "  return(logloss / N)\n",
        "}"
      ],
      "metadata": {
        "id": "05n7c6Pt0Sqi"
      },
      "execution_count": null,
      "outputs": []
    },
    {
      "cell_type": "code",
      "source": [
        "%%R\n",
        "# Predictions and evaluation for initial model\n",
        "yhat_train <- predict(initial_model, train[, 2:ncol(train)])\n",
        "yhat_test <- predict(initial_model, test[, 2:ncol(test)])\n",
        "yhat_train_pred <- apply(yhat_train, 1, which.max) - 1\n",
        "yhat_test_pred <- apply(yhat_test, 1, which.max) - 1\n",
        "\n",
        "# Calculate accuracy\n",
        "accuracy_train_initial <- mean(yhat_train_pred == y_train)\n",
        "accuracy_test_initial <- mean(yhat_test_pred == y_test)\n",
        "logloss_train_initial <- multi_logloss(y_train, yhat_train)\n",
        "logloss_test_initial <- multi_logloss(y_test, yhat_test)\n",
        "\n",
        "# Output results\n",
        "cat(\"\\nInitial Model Performance:\\n\")\n",
        "cat(\"Training Accuracy:\", accuracy_train_initial, \"\\n\")\n",
        "cat(\"Test Accuracy:\", accuracy_test_initial, \"\\n\")\n",
        "cat(\"Training Log Loss:\", logloss_train_initial, \"\\n\")\n",
        "cat(\"Test Log Loss:\", logloss_test_initial, \"\\n\")"
      ],
      "metadata": {
        "colab": {
          "base_uri": "https://localhost:8080/"
        },
        "id": "D3Kv94NoZTyA",
        "outputId": "f02ace57-9ec7-49a3-c926-21e64697dddb"
      },
      "execution_count": null,
      "outputs": [
        {
          "output_type": "stream",
          "name": "stdout",
          "text": [
            "\n",
            "Initial Model Performance:\n",
            "Training Accuracy: 0.8839779 \n",
            "Test Accuracy: 0.7955801 \n",
            "Training Log Loss: 0.2651326 \n",
            "Test Log Loss: 0.4041625 \n"
          ]
        }
      ]
    },
    {
      "cell_type": "markdown",
      "source": [
        "#### Feature Importance\n",
        "\n"
      ],
      "metadata": {
        "id": "a-JpJLkCZbAz"
      }
    },
    {
      "cell_type": "code",
      "source": [
        "%%R\n",
        "# Feature importance for initial model\n",
        "importance_initial <- lgb.importance(initial_model)\n",
        "# Plot feature importance for initial model\n",
        "p_initial <- ggplot(importance_initial, aes(x = reorder(Feature, Gain), y = Gain)) +\n",
        "  geom_bar(stat = \"identity\", fill = \"#1f77b4\") +\n",
        "  coord_flip() +\n",
        "  labs(title = \"Initial LightGBM Feature Importance (Gain)\", x = \"Feature\", y = \"Gain\") +\n",
        "  theme_minimal() +\n",
        "  theme(plot.title = element_text(hjust = 0.5))\n",
        "print(p_initial)"
      ],
      "metadata": {
        "colab": {
          "base_uri": "https://localhost:8080/",
          "height": 497
        },
        "id": "lWflJ_FPZoso",
        "outputId": "241b4a92-9358-4112-f5e5-bf1f8fec1782"
      },
      "execution_count": null,
      "outputs": [
        {
          "output_type": "display_data",
          "data": {
            "image/png": "[encoded data removed]"
          },
          "metadata": {}
        }
      ]
    },
    {
      "cell_type": "markdown",
      "source": [
        "#### Hyperparameter Tuning for the Best Parameters\n",
        "\n",
        "To find the best parameters for the LightGBM classification model, we will perform a grid search over key hyperparameters (`num_leaves`, `learning_rate`, `max_depth`, `min_data_in_leaf`) using 5-fold cross-validation. This will help us optimize the multi-class log loss metric."
      ],
      "metadata": {
        "id": "A0Z8ixpisWlz"
      }
    },
    {
      "cell_type": "markdown",
      "source": [
        "##### Define Parameter Grid and Initialize Variables"
      ],
      "metadata": {
        "id": "F2QUmf8mfUkf"
      }
    },
    {
      "cell_type": "code",
      "source": [
        "%%R\n",
        "# Define parameter grid for grid search\n",
        "param_grid <- expand.grid(\n",
        "  num_leaves = c(20, 31, 50),\n",
        "  learning_rate = c(0.01, 0.05, 0.1),\n",
        "  max_depth = c(3, 5, 7),\n",
        "  min_data_in_leaf = c(10, 20)\n",
        ")\n",
        "\n",
        "# Initialize variables to store best parameters and log loss\n",
        "best_logloss <- Inf\n",
        "best_params <- NULL\n",
        "results <- data.frame()\n",
        "\n",
        "# Perform grid search with 5-fold cross-validation\n",
        "for (i in 1:nrow(param_grid)) {\n",
        "  params <- list(\n",
        "    objective = \"multiclass\",\n",
        "    metric = \"multi_logloss\",\n",
        "    num_class = 3,\n",
        "    num_leaves = param_grid$num_leaves[i],\n",
        "    learning_rate = param_grid$learning_rate[i],\n",
        "    max_depth = param_grid$max_depth[i],\n",
        "    min_data_in_leaf = param_grid$min_data_in_leaf[i],\n",
        "    num_threads = 2L,\n",
        "    num_iterations = 1000,\n",
        "    early_stopping_rounds = 50\n",
        "  )\n",
        "\n",
        "  # Perform 5-fold cross-validation\n",
        "  cv_results <- lgb.cv(\n",
        "    params = params,\n",
        "    data = train_lgb,\n",
        "    nfold = 5,\n",
        "    stratified = TRUE,\n",
        "    verbose = -1\n",
        "  )\n",
        "\n",
        "  # Extract the best log loss from cross-validation\n",
        "  cv_logloss <- cv_results$best_score\n",
        "\n",
        "  # Store results\n",
        "  results <- rbind(results, data.frame(\n",
        "    num_leaves = params$num_leaves,\n",
        "    learning_rate = params$learning_rate,\n",
        "    max_depth = params$max_depth,\n",
        "    min_data_in_leaf = params$min_data_in_leaf,\n",
        "    cv_logloss = cv_logloss\n",
        "  ))\n",
        "\n",
        "  # Update best parameters if current log loss is better\n",
        "  if (cv_logloss < best_logloss) {\n",
        "    best_logloss <- cv_logloss\n",
        "    best_params <- params\n",
        "  }\n",
        "\n",
        "  cat(\"Grid search iteration\", i, \"of\", nrow(param_grid), \"CV Log Loss:\", cv_logloss, \"\\n\")\n",
        "}"
      ],
      "metadata": {
        "colab": {
          "base_uri": "https://localhost:8080/"
        },
        "id": "vW5ihdntsYep",
        "outputId": "d54c3318-4c72-4bc4-9d30-a844443f78a4"
      },
      "execution_count": null,
      "outputs": [
        {
          "output_type": "stream",
          "name": "stdout",
          "text": [
            "Grid search iteration 1 of 54 CV Log Loss: 0.374136 \n",
            "Grid search iteration 2 of 54 CV Log Loss: 0.3666565 \n",
            "Grid search iteration 3 of 54 CV Log Loss: 0.3714118 \n",
            "Grid search iteration 4 of 54 CV Log Loss: 0.3795039 \n",
            "Grid search iteration 5 of 54 CV Log Loss: 0.3748363 \n",
            "Grid search iteration 6 of 54 CV Log Loss: 0.371635 \n",
            "Grid search iteration 7 of 54 CV Log Loss: 0.3723882 \n",
            "Grid search iteration 8 of 54 CV Log Loss: 0.3798412 \n",
            "Grid search iteration 9 of 54 CV Log Loss: 0.3688146 \n",
            "Grid search iteration 10 of 54 CV Log Loss: 0.3974246 \n",
            "Grid search iteration 11 of 54 CV Log Loss: 0.3890119 \n",
            "Grid search iteration 12 of 54 CV Log Loss: 0.391992 \n",
            "Grid search iteration 13 of 54 CV Log Loss: 0.3994136 \n",
            "Grid search iteration 14 of 54 CV Log Loss: 0.3850187 \n",
            "Grid search iteration 15 of 54 CV Log Loss: 0.3870488 \n",
            "Grid search iteration 16 of 54 CV Log Loss: 0.3847712 \n",
            "Grid search iteration 17 of 54 CV Log Loss: 0.3927315 \n",
            "Grid search iteration 18 of 54 CV Log Loss: 0.3763153 \n",
            "Grid search iteration 19 of 54 CV Log Loss: 0.4066931 \n",
            "Grid search iteration 20 of 54 CV Log Loss: 0.4281316 \n",
            "Grid search iteration 21 of 54 CV Log Loss: 0.4140596 \n",
            "Grid search iteration 22 of 54 CV Log Loss: 0.4198345 \n",
            "Grid search iteration 23 of 54 CV Log Loss: 0.4177254 \n",
            "Grid search iteration 24 of 54 CV Log Loss: 0.4264146 \n",
            "Grid search iteration 25 of 54 CV Log Loss: 0.4108482 \n",
            "Grid search iteration 26 of 54 CV Log Loss: 0.4081839 \n",
            "Grid search iteration 27 of 54 CV Log Loss: 0.4094724 \n",
            "Grid search iteration 28 of 54 CV Log Loss: 0.3808216 \n",
            "Grid search iteration 29 of 54 CV Log Loss: 0.3764276 \n",
            "Grid search iteration 30 of 54 CV Log Loss: 0.3704922 \n",
            "Grid search iteration 31 of 54 CV Log Loss: 0.3719642 \n",
            "Grid search iteration 32 of 54 CV Log Loss: 0.3761661 \n",
            "Grid search iteration 33 of 54 CV Log Loss: 0.3747215 \n",
            "Grid search iteration 34 of 54 CV Log Loss: 0.3696643 \n",
            "Grid search iteration 35 of 54 CV Log Loss: 0.3760683 \n",
            "Grid search iteration 36 of 54 CV Log Loss: 0.3744893 \n",
            "Grid search iteration 37 of 54 CV Log Loss: 0.3894741 \n",
            "Grid search iteration 38 of 54 CV Log Loss: 0.3873163 \n",
            "Grid search iteration 39 of 54 CV Log Loss: 0.3891571 \n",
            "Grid search iteration 40 of 54 CV Log Loss: 0.3898282 \n",
            "Grid search iteration 41 of 54 CV Log Loss: 0.3998313 \n",
            "Grid search iteration 42 of 54 CV Log Loss: 0.389442 \n",
            "Grid search iteration 43 of 54 CV Log Loss: 0.3965225 \n",
            "Grid search iteration 44 of 54 CV Log Loss: 0.3825495 \n",
            "Grid search iteration 45 of 54 CV Log Loss: 0.3844751 \n",
            "Grid search iteration 46 of 54 CV Log Loss: 0.4090439 \n",
            "Grid search iteration 47 of 54 CV Log Loss: 0.4024553 \n",
            "Grid search iteration 48 of 54 CV Log Loss: 0.3996154 \n",
            "Grid search iteration 49 of 54 CV Log Loss: 0.3999813 \n",
            "Grid search iteration 50 of 54 CV Log Loss: 0.3988765 \n",
            "Grid search iteration 51 of 54 CV Log Loss: 0.4059982 \n",
            "Grid search iteration 52 of 54 CV Log Loss: 0.3953501 \n",
            "Grid search iteration 53 of 54 CV Log Loss: 0.4066083 \n",
            "Grid search iteration 54 of 54 CV Log Loss: 0.3905566 \n"
          ]
        }
      ]
    },
    {
      "cell_type": "markdown",
      "source": [
        "##### The Best Parameters"
      ],
      "metadata": {
        "id": "0SlcKgW5fgwT"
      }
    },
    {
      "cell_type": "code",
      "source": [
        "%%R\n",
        "cat(\"\\nBest Parameters from Grid Search:\\n\")\n",
        "print(best_params)"
      ],
      "metadata": {
        "colab": {
          "base_uri": "https://localhost:8080/"
        },
        "id": "EeHbzkR_tbp0",
        "outputId": "4136fbba-1daa-4904-d612-d986691586f2"
      },
      "execution_count": null,
      "outputs": [
        {
          "output_type": "stream",
          "name": "stdout",
          "text": [
            "\n",
            "Best Parameters from Grid Search:\n",
            "$objective\n",
            "[1] \"multiclass\"\n",
            "\n",
            "$metric\n",
            "[1] \"multi_logloss\"\n",
            "\n",
            "$num_class\n",
            "[1] 3\n",
            "\n",
            "$num_leaves\n",
            "[1] 31\n",
            "\n",
            "$learning_rate\n",
            "[1] 0.01\n",
            "\n",
            "$max_depth\n",
            "[1] 3\n",
            "\n",
            "$min_data_in_leaf\n",
            "[1] 10\n",
            "\n",
            "$num_threads\n",
            "[1] 2\n",
            "\n",
            "$num_iterations\n",
            "[1] 1000\n",
            "\n",
            "$early_stopping_rounds\n",
            "[1] 50\n",
            "\n"
          ]
        }
      ]
    },
    {
      "cell_type": "markdown",
      "source": [
        "##### Train and Validate Model with Best Parameters"
      ],
      "metadata": {
        "id": "dd8rbCCouCwY"
      }
    },
    {
      "cell_type": "code",
      "source": [
        "%%R\n",
        "# Train final model with best parameters\n",
        "final_model <- lgb.train(\n",
        "  params = best_params,\n",
        "  data = train_lgb,\n",
        "  valids = list(test = test_lgb),\n",
        "  verbose = -1\n",
        ")\n",
        "summary(final_model)"
      ],
      "metadata": {
        "colab": {
          "base_uri": "https://localhost:8080/"
        },
        "id": "SPm6NZeguFOT",
        "outputId": "65c21d88-0a2e-4668-fc30-62a7060eec8e"
      },
      "execution_count": null,
      "outputs": [
        {
          "output_type": "stream",
          "name": "stdout",
          "text": [
            "LightGBM Model (731 trees)\n",
            "Objective: multiclass (3 classes)\n",
            "Fitted to dataset with 5 columns\n"
          ]
        }
      ]
    },
    {
      "cell_type": "markdown",
      "source": [
        "##### Predictions and Evaluation for Final Model"
      ],
      "metadata": {
        "id": "9cvH3K9ot8Gr"
      }
    },
    {
      "cell_type": "code",
      "source": [
        "%%R\n",
        "# Predictions and evaluation for final model\n",
        "yhat_train_final <- predict(final_model, train[, 2:ncol(train)])\n",
        "yhat_test_final <- predict(final_model, test[, 2:ncol(test)])\n",
        "yhat_train_final_pred <- apply(yhat_train_final, 1, which.max) - 1\n",
        "yhat_test_final_pred <- apply(yhat_test_final, 1, which.max) - 1\n",
        "\n",
        "# Calculate accuracy\n",
        "accuracy_train_final <- mean(yhat_train_final_pred == y_train)\n",
        "accuracy_test_final <- mean(yhat_test_final_pred == y_test)\n",
        "logloss_train_final <- multi_logloss(y_train, yhat_train_final)\n",
        "logloss_test_final <- multi_logloss(y_test, yhat_test_final)\n",
        "\n",
        "cat(\"Training Accuracy:\", accuracy_train_final, \"\\n\")\n",
        "cat(\"Test Accuracy:\", accuracy_test_final, \"\\n\")\n",
        "cat(\"Training Log Loss:\", logloss_train_final, \"\\n\")\n",
        "cat(\"Test Log Loss:\", logloss_test_final, \"\\n\")"
      ],
      "metadata": {
        "colab": {
          "base_uri": "https://localhost:8080/"
        },
        "id": "9qNY29UBuKo7",
        "outputId": "b3b8537e-7303-4d6b-b02f-ef0e64a66ecc"
      },
      "execution_count": null,
      "outputs": [
        {
          "output_type": "stream",
          "name": "stdout",
          "text": [
            "Training Accuracy: 0.8406998 \n",
            "Test Accuracy: 0.7983425 \n",
            "Training Log Loss: 0.3167224 \n",
            "Test Log Loss: 0.3905005 \n"
          ]
        }
      ]
    },
    {
      "cell_type": "markdown",
      "source": [
        "##### Variable Importance for Final Model"
      ],
      "metadata": {
        "id": "KvmMMBPHsSrT"
      }
    },
    {
      "cell_type": "code",
      "source": [
        "%%R\n",
        "# Feature importance for final model\n",
        "importance_final <- lgb.importance(final_model)\n",
        "# Plot feature importance for final model\n",
        "p_final <- ggplot(importance_final, aes(x = reorder(Feature, Gain), y = Gain)) +\n",
        "  geom_bar(stat = \"identity\", fill = \"#1f77b4\") +\n",
        "  coord_flip() +\n",
        "  labs(title = \"Final LightGBM Feature Importance (Gain)\", x = \"Feature\", y = \"Gain\") +\n",
        "  theme_minimal() +\n",
        "  theme(plot.title = element_text(hjust = 0.5))\n",
        "print(p_final)"
      ],
      "metadata": {
        "colab": {
          "base_uri": "https://localhost:8080/",
          "height": 497
        },
        "id": "dN6PFWRCuRpS",
        "outputId": "0899b6dc-a455-44bc-b886-8d5f304de5c3"
      },
      "execution_count": null,
      "outputs": [
        {
          "output_type": "display_data",
          "data": {
            "image/png": "[encoded data removed]"
          },
          "metadata": {}
        }
      ]
    },
    {
      "cell_type": "markdown",
      "source": [
        "## Summary and Conclusion\n",
        "\n",
        "LightGBM is a gradient boosting framework optimized for speed, scalability, and efficiency, using techniques like GOSS, EFB, histogram-based learning, and leaf-wise tree growth. It minimizes the same objective function as other boosting algorithms but approximates gradients and feature splits more efficiently. Compared to XGBoost, LightGBM is faster and more memory-efficient, especially for large datasets, but it may require more careful tuning to avoid overfitting due to its leaf-wise approach. Both are powerful, but LightGBM excels in scenarios with large, high-dimensional data, while XGBoost may be preferred for smaller datasets or when robustness is critical. This exercise demonstrated how to implement LightGBM for regression and classification tasks in R, including data preparation, model training, evaluation, and hyperparameter tuning using grid search and cross-validation. The results showed that LightGBM can achieve competitive performance with efficient training and prediction times."
      ],
      "metadata": {
        "id": "Nb0kdVIuGlK7"
      }
    },
    {
      "cell_type": "markdown",
      "source": [
        "## References\n",
        "\n",
        "1.  **Kuhn, M., & Johnson, K. (2019). *Feature Engineering and Selection*. CRC Press.**\n",
        "    -   Covers gradient boosting and LightGBM applications in R.\n",
        "    -   [Amazon](https://www.amazon.com/Feature-Engineering-Selection-Practical-Predictive/dp/1138079227)\n",
        "2.  **Hastie, T., et al. (2009). *The Elements of Statistical Learning* (2nd ed.). Springer.**\n",
        "    -   Explains boosting theory behind LightGBM.\n",
        "    -   [Free PDF](https://web.stanford.edu/~hastie/ElemStatLearn/)\n",
        "3.  **Boehmke, B., & Greenwell, B. (2019). *Hands-On Machine Learning with R*. CRC Press.**\n",
        "    -   Practical LightGBM tutorials in R.\n",
        "    -   [CRC Press](https://www.crcpress.com/Hands-On-Machine-Learning-with-R/Boehmke-Greenwell/p/book/9781138495685)\n",
        "\n",
        "### Journal Articles\n",
        "\n",
        "1.  **Ke, G., et al. (2017). LightGBM: A Highly Efficient Gradient Boosting Decision Tree. *NeurIPS*.**\n",
        "    -   Introduces LightGBM’s algorithms (GOSS, EFB).\n",
        "    -   [arXiv](https://arxiv.org/abs/1711.04289)\n",
        "2.  **Friedman, J. H. (2001). Greedy Function Approximation: A Gradient Boosting Machine. *Annals of Statistics*.**\n",
        "    -   Foundational gradient boosting theory.\n",
        "    -   [Stanford](https://statweb.stanford.edu/~jhf/ftp/trebst.pdf)\n",
        "3.  **Chen, T., & Guestrin, C. (2016). XGBoost: A Scalable Tree Boosting System. *KDD*.**\n",
        "    -   Context for LightGBM’s improvements over XGBoost.\n",
        "    -   [arXiv](https://arxiv.org/abs/1603.02754)\n",
        "\n",
        "### Online R Tutorials\n",
        "\n",
        "1.  **DataCamp: LightGBM in R**\n",
        "    -   Beginner guide to LightGBM with R code for classification/regression.\n",
        "    -   [DataCamp](https://www.datacamp.com/community/tutorials/lightgbm-in-r)\n",
        "2.  **R-bloggers: Gradient Boosting with LightGBM**\n",
        "    -   Practical tutorial on binary classification and feature importance.\n",
        "    -   [R-bloggers](https://www.r-bloggers.com/2021/03/gradient-boosting-with-lightgbm-in-r/)\n",
        "3.  **Towards Data Science: LightGBM for Multi-Class Classification**\n",
        "    -   Advanced R tutorial with grid search and evaluation.\n",
        "    -   [Towards Data Science](https://towardsdatascience.com/lightgbm-in-r-2c6b5f96b3f1)\n",
        "\n"
      ],
      "metadata": {
        "id": "ACNQyq1seLc7"
      }
    }
  ]
}