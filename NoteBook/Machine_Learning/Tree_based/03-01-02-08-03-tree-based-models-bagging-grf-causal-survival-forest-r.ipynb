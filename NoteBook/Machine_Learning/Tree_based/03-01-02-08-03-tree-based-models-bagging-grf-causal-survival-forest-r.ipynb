{
  "nbformat": 4,
  "nbformat_minor": 0,
  "metadata": {
    "colab": {
      "provenance": [],
      "toc_visible": true,
      "authorship_tag": "ABX9TyPbiM+wHovl79x0qNhl5l/E",
      "include_colab_link": true
    },
    "kernelspec": {
      "name": "python3",
      "display_name": "Python 3"
    },
    "language_info": {
      "name": "python"
    }
  },
  "cells": [
    {
      "cell_type": "markdown",
      "metadata": {
        "id": "view-in-github",
        "colab_type": "text"
      },
      "source": [
        "<a href=\"https://colab.research.google.com/github/zia207/r-colab/blob/main/NoteBook/Machine_Learning/Tree_based/03-01-02-08-03-tree-based-models-bagging-grf-causal-survival-forest-r.ipynb\" target=\"_parent\"><img src=\"https://colab.research.google.com/assets/colab-badge.svg\" alt=\"Open In Colab\"/></a>"
      ]
    },
    {
      "cell_type": "markdown",
      "source": [
        "![alt text](http://drive.google.com/uc?export=view&id=1bLQ3nhDbZrCCqy_WCxxckOne2lgVvn3l)"
      ],
      "metadata": {
        "id": "zYZbTX0qQrZb"
      }
    },
    {
      "cell_type": "markdown",
      "source": [
        "# 2.8.3 Causal Survival Forest (CSF)\n",
        "\n",
        "This notebook demonstrates how to use the **Causal Survival Forest (CSF)** from the `{grf}` package in R to estimate heterogeneous treatment effects on survival data, particularly when outcomes are right-censored. The example uses the `lung` dataset, which contains survival data for patients with advanced lung cancer."
      ],
      "metadata": {
        "id": "RGBfrL2GQoII"
      }
    },
    {
      "cell_type": "markdown",
      "source": [
        "## Overview\n",
        "\n",
        "A **Causal Survival Forest (CSF)** is designed to estimate **heterogeneous treatment effects** for survival data, particularly when outcomes are right-censored. It extends the concept of causal forests to handle time-to-event data, enabling researchers to estimate how a treatment impacts survival outcomes across different subgroups defined by covariates, without relying on restrictive parametric assumptions. CSFs are useful in fields like medicine, economics, and social sciences, where understanding how treatments affect survival outcomes across diverse populations is critical (e.g., estimating the effect of a drug on patient survival based on age, sex, or disease severity).\n",
        "\n"
      ],
      "metadata": {
        "id": "S77MsgmqIYD0"
      }
    },
    {
      "cell_type": "markdown",
      "source": [
        "### Key Concepts of Causal Survival Forests\n",
        "\n",
        "1.  `Heterogeneous Treatment Effects`: CSFs estimate the **conditional average treatment effect (CATE)**, denoted as $\\tau(X)$, which varies across individuals based on their covariate profile $X$. For survival data, this effect can be defined in two ways:\n",
        "\n",
        "-   `Restricted Mean Survival Time (RMST)`: $\\tau(X) = E[\\min(T(1), h) - \\min(T(0), h) | X = x]$, where $T(1)$ and $T(0)$ are the potential survival times under treatment and control, respectively, and $h$ is a specified time horizon.\n",
        "\n",
        "-   `Survival Probability`: $\\tau(X) = P[T(1) \\> h \\| X = x] - P[T(0) \\> h \\| X = x$, which compares the probability of surviving past time $h$ under treatment versus control.\n",
        "\n",
        "2.  `Right-Censoring`: Survival data often involves censoring, where the event time is not observed for all subjects. CSFs account for this by incorporating ensoring indicators and using techniques like inverse probability of censoring weighting (IPCW).\n",
        "\n",
        "3.  `Non-parametric Approach`: Unlike traditional survival models (e.g., Cox proportional hazards), CSFs are non-parametric, making them flexible for capturing complex, non-linear relationships between covariates and treatment effects.\n",
        "\n",
        "4.  `Forest-Based Estimation`: CSFs build an ensemble of trees, where each tree splits the covariate space to maximize heterogeneity in treatment effects. Predictions are made by aggregating estimates across trees, weighted by how often a test sample falls into the same leaf as training samples.\n",
        "\n",
        "5.  `Honest Estimation`: The `grf` package uses \"honest\" estimation, splitting the data into subsets for choosing tree splits and populating leaf estimates, reducing overfitting.\n",
        "\n",
        "6.  `Applications`: CSFs are useful in fields like medicine, economics, and social sciences, where understanding how treatments affect survival outcomes across diverse populations is critical (e.g., estimating the effect of a drug on patient survival based on age, sex, or disease severity)."
      ],
      "metadata": {
        "id": "L2J4liLUc4FO"
      }
    },
    {
      "cell_type": "markdown",
      "source": [
        "### How CSFs Work\n",
        "\n",
        "1.  Input Data\n",
        "\n",
        "-   $X$: Covariates (e.g., age, sex, clinical measurements).\n",
        "\n",
        "-   $Y$: Observed time (minimum of event time and censoring time).\n",
        "\n",
        "-   $W$: Treatment assignment (binary or continuous).\n",
        "\n",
        "-   $D$: Censoring indicator (1 if the event is observed, 0 if censored).\n",
        "\n",
        "-   $h$: Time horizon for RMST or survival probability.\n",
        "\n",
        "2.  Splitting Criterion\n",
        "\n",
        "-   Trees are grown by maximizing the difference in treatment effects between child nodes, using a modified objective that accounts for censoring (e.g., via AIPW scores, as described in Cui et al., 2023).\n",
        "\n",
        "3.  Prediction\n",
        "\n",
        "-   For a given covariate profile (X = x), the forest estimates $\\tau(x)$ by averaging treatment effect estimates from trees, using weights based on sample: CSFs use techniques like IPCW or survival forests to estimate censoring probabilities, ensuring unbiased treatment effect estimates.\n"
      ],
      "metadata": {
        "id": "VwEoykvwI2dS"
      }
    },
    {
      "cell_type": "markdown",
      "source": [
        "### How does it differ from Causal Forest and Survival Forest?\n",
        "\n",
        "\n",
        "\n",
        "| **Aspect**                | **Survival Forest**                              | **Causal Forest**                              | **Causal Survival Forest**                     |\n",
        "|---------------------------|--------------------------------------------------|-----------------------------------------------|-----------------------------------------------|\n",
        "| `Objective`             | Predict survival probability or hazard over time | Estimate heterogeneous treatment effects       | Estimate treatment effects on survival outcomes |\n",
        "| `Outcome Type`          | Time-to-event (censored)                        | Continuous or binary                          | Time-to-event (censored)                      |\n",
        "| `Treatment Variable`    | None                                            | Required (W: 0/1)                            | Required (W: 0/1)                             |\n",
        "| `Inputs`                | X, Y, D                                         | X, Y, W                                      | X, Y, D, W                                    |\n",
        "| `Output`                | Survival curves or hazard functions             | Treatment effect estimates $\\tau(X)$)      | Treatment effect on survival $\\tau(t | X)$ |\n",
        "| `Use Case`              | Survival prediction (e.g., patient prognosis)   | Treatment effect heterogeneity (e.g., drug impact) | Treatment effect on survival (e.g., therapy impact) |\n",
        "| `Assumptions`           | Handles censoring                               | Unconfoundedness, overlap                    | Unconfoundedness, overlap, censoring handled  |\n",
        "| `{grf} Function`        | `survival_forest()`                             | `causal_forest()`                            | `causal_survival_forest()`                    |\n"
      ],
      "metadata": {
        "id": "A2tB_TxOs0nQ"
      }
    },
    {
      "cell_type": "markdown",
      "source": [
        "### Practical Notes\n",
        "\n",
        "- `Survival Forest`: Used when the goal is purely predictive (e.g., forecasting patient survival based on covariates). It does not involve a treatment variable.\n",
        "\n",
        "- `Causal Forest`: Used for non-survival outcomes (e.g., blood pressure, test scores) to understand how treatment effects vary across individuals.\n",
        "\n",
        "`Causal Survival Forest`: Used when both treatment effects and survival outcomes are of interest, combining the strengths of the other two models.\n"
      ],
      "metadata": {
        "id": "bIBhNo81s-Nt"
      }
    },
    {
      "cell_type": "markdown",
      "source": [
        "## Setup R in Python Runtype"
      ],
      "metadata": {
        "id": "Bn4w4oqMCagF"
      }
    },
    {
      "cell_type": "markdown",
      "source": [
        "### Install {rpy2}\n",
        "\n",
        "{rpy2} is a Python package that provides an interface to the R programming language, allowing Python users to run R code, call R functions, and manipulate R objects directly from Python. It enables seamless integration between Python and R, leveraging R's statistical and graphical capabilities while using Python's flexibility. The package supports passing data between the two languages and is widely used for statistical analysis, data visualization, and machine learning tasks that benefit from R's specialized libraries."
      ],
      "metadata": {
        "id": "yerTCtKKCmik"
      }
    },
    {
      "cell_type": "code",
      "source": [
        "!pip uninstall rpy2 -y\n",
        "!pip install rpy2==3.5.1\n",
        "%load_ext rpy2.ipython"
      ],
      "metadata": {
        "colab": {
          "base_uri": "https://localhost:8080/"
        },
        "id": "OqeCyNf0Crlc",
        "outputId": "36c2da40-6e70-4f0f-84f2-4ed3757a30a1"
      },
      "execution_count": 1,
      "outputs": [
        {
          "output_type": "stream",
          "name": "stdout",
          "text": [
            "Found existing installation: rpy2 3.5.17\n",
            "Uninstalling rpy2-3.5.17:\n",
            "  Successfully uninstalled rpy2-3.5.17\n",
            "Collecting rpy2==3.5.1\n",
            "  Downloading rpy2-3.5.1.tar.gz (201 kB)\n",
            "\u001b[2K     \u001b[90m━━━━━━━━━━━━━━━━━━━━━━━━━━━━━━━━━━━━━━━\u001b[0m \u001b[32m201.7/201.7 kB\u001b[0m \u001b[31m3.9 MB/s\u001b[0m eta \u001b[36m0:00:00\u001b[0m\n",
            "\u001b[?25h  Preparing metadata (setup.py) ... \u001b[?25l\u001b[?25hdone\n",
            "Requirement already satisfied: cffi>=1.10.0 in /usr/local/lib/python3.11/dist-packages (from rpy2==3.5.1) (1.17.1)\n",
            "Requirement already satisfied: jinja2 in /usr/local/lib/python3.11/dist-packages (from rpy2==3.5.1) (3.1.6)\n",
            "Requirement already satisfied: pytz in /usr/local/lib/python3.11/dist-packages (from rpy2==3.5.1) (2025.2)\n",
            "Requirement already satisfied: tzlocal in /usr/local/lib/python3.11/dist-packages (from rpy2==3.5.1) (5.3.1)\n",
            "Requirement already satisfied: pycparser in /usr/local/lib/python3.11/dist-packages (from cffi>=1.10.0->rpy2==3.5.1) (2.22)\n",
            "Requirement already satisfied: MarkupSafe>=2.0 in /usr/local/lib/python3.11/dist-packages (from jinja2->rpy2==3.5.1) (3.0.2)\n",
            "Building wheels for collected packages: rpy2\n",
            "  Building wheel for rpy2 (setup.py) ... \u001b[?25l\u001b[?25hdone\n",
            "  Created wheel for rpy2: filename=rpy2-3.5.1-cp311-cp311-linux_x86_64.whl size=314976 sha256=6fa19e9a1a1c85c4e5633c6d411ac6e923ac0d751ff12604e7ee097909afe83c\n",
            "  Stored in directory: /root/.cache/pip/wheels/e9/55/d1/47be85a5f3f1e1f4d1e91cb5e3a4dcb40dd72147f184c5a5ef\n",
            "Successfully built rpy2\n",
            "Installing collected packages: rpy2\n",
            "Successfully installed rpy2-3.5.1\n"
          ]
        }
      ]
    },
    {
      "cell_type": "markdown",
      "source": [
        "### Mount Google Drive"
      ],
      "metadata": {
        "id": "vOzGUgYCCyqg"
      }
    },
    {
      "cell_type": "code",
      "source": [
        "from google.colab import drive\n",
        "drive.mount('/content/drive')"
      ],
      "metadata": {
        "colab": {
          "base_uri": "https://localhost:8080/"
        },
        "id": "_lngQQKKC2lc",
        "outputId": "fc34735f-7d17-4a1f-df00-2c7d54a8ab32"
      },
      "execution_count": 2,
      "outputs": [
        {
          "output_type": "stream",
          "name": "stdout",
          "text": [
            "Mounted at /content/drive\n"
          ]
        }
      ]
    },
    {
      "cell_type": "markdown",
      "source": [
        "## Causal Survival Forest with R\n",
        "\n",
        "The `grf` package in R provides an implementation of Causal Survival Forests (CSF) that allows for the estimation of heterogeneous treatment effects on survival data, accounting for right-censoring. The CSF can be used to estimate the average treatment effect (ATE) and to assess treatment effect heterogeneity across different covariate profiles.\n",
        "\n",
        "\n"
      ],
      "metadata": {
        "id": "bh7jEhGCLDZA"
      }
    },
    {
      "cell_type": "markdown",
      "source": [
        "### Load and Check Required Libraries"
      ],
      "metadata": {
        "id": "RlLmnBj77AMx"
      }
    },
    {
      "cell_type": "code",
      "source": [
        "%%R\n",
        "packages <- c('tidyverse',\n",
        "              'plyr',\n",
        "              'grf',\n",
        "              'survival',\n",
        "              'mlbench',\n",
        "              'Metrics')"
      ],
      "metadata": {
        "id": "9rXvjfapLYED"
      },
      "execution_count": 3,
      "outputs": []
    },
    {
      "cell_type": "markdown",
      "source": [
        "### Install Missing Packages"
      ],
      "metadata": {
        "id": "MDwlBWYYLc1e"
      }
    },
    {
      "cell_type": "code",
      "source": [
        "%%R\n",
        "# Install missing packages\n",
        "new.packages <- packages[!(packages %in% installed.packages(lib='drive/My Drive/R/')[,\"Package\"])]\n",
        "if(length(new.packages)) install.packages(new.packages, lib='drive/My Drive/R/')"
      ],
      "metadata": {
        "id": "PWzWe7xULb2L"
      },
      "execution_count": null,
      "outputs": []
    },
    {
      "cell_type": "markdown",
      "source": [
        "### Verify Installation"
      ],
      "metadata": {
        "id": "HM3Bl4-PLfFF"
      }
    },
    {
      "cell_type": "code",
      "source": [
        "%%R\n",
        "# set library path\n",
        ".libPaths('drive/My Drive/R')\n",
        "# Verify installation\n",
        "cat(\"Installed packages:\\n\")\n",
        "print(sapply(packages, requireNamespace, quietly = TRUE))"
      ],
      "metadata": {
        "colab": {
          "base_uri": "https://localhost:8080/"
        },
        "id": "pHr9zUJvLfNl",
        "outputId": "0c74d93b-568c-492c-b4a2-3bd79ff69889"
      },
      "execution_count": null,
      "outputs": [
        {
          "output_type": "stream",
          "name": "stdout",
          "text": [
            "Installed packages:\n",
            "tidyverse      plyr       grf  survival   mlbench   Metrics \n",
            "     TRUE      TRUE      TRUE      TRUE      TRUE      TRUE \n"
          ]
        }
      ]
    },
    {
      "cell_type": "markdown",
      "source": [
        "### Load R Packages"
      ],
      "metadata": {
        "id": "2cPLFz1GLlRD"
      }
    },
    {
      "cell_type": "code",
      "source": [
        "%%R\n",
        "# set library path\n",
        ".libPaths('drive/My Drive/R')\n",
        "# Load packages with suppressed messages\n",
        "invisible(lapply(packages, function(pkg) {\n",
        "  suppressPackageStartupMessages(library(pkg, character.only = TRUE))\n",
        "}))\n"
      ],
      "metadata": {
        "id": "jIlm0D69x_70"
      },
      "execution_count": 4,
      "outputs": []
    },
    {
      "cell_type": "markdown",
      "source": [
        "### Check Loaded Packages"
      ],
      "metadata": {
        "id": "AH4vKW2yL1OF"
      }
    },
    {
      "cell_type": "code",
      "source": [
        "%%R\n",
        "# Check loaded packages\n",
        "cat(\"Successfully loaded packages:\\n\")\n",
        "print(search()[grepl(\"package:\", search())])# Check loaded packageswer)"
      ],
      "metadata": {
        "colab": {
          "base_uri": "https://localhost:8080/"
        },
        "id": "Du3QbdUeL1Yw",
        "outputId": "65fcf1d8-2971-473c-c492-854b0541954f"
      },
      "execution_count": null,
      "outputs": [
        {
          "output_type": "stream",
          "name": "stdout",
          "text": [
            "Successfully loaded packages:\n",
            " [1] \"package:Metrics\"   \"package:mlbench\"   \"package:survival\" \n",
            " [4] \"package:grf\"       \"package:plyr\"      \"package:lubridate\"\n",
            " [7] \"package:forcats\"   \"package:stringr\"   \"package:dplyr\"    \n",
            "[10] \"package:purrr\"     \"package:readr\"     \"package:tidyr\"    \n",
            "[13] \"package:tibble\"    \"package:ggplot2\"   \"package:tidyverse\"\n",
            "[16] \"package:tools\"     \"package:stats\"     \"package:graphics\" \n",
            "[19] \"package:grDevices\" \"package:utils\"     \"package:datasets\" \n",
            "[22] \"package:methods\"   \"package:base\"     \n"
          ]
        }
      ]
    },
    {
      "cell_type": "markdown",
      "source": [
        "### Load and Explore the Lung Dataset\n",
        "\n",
        "The `lung` dataset contains survival data for 228 patients with advanced lung cancer.\n"
      ],
      "metadata": {
        "id": "IPobetr0zFC5"
      }
    },
    {
      "cell_type": "code",
      "source": [
        "%%R\n",
        "# Load the lung dataset\n",
        "data(lung)\n",
        "# Check for NAs in key variables\n",
        "cat(\"NAs in time:\", sum(is.na(lung$time)), \"\\n\")\n",
        "cat(\"NAs in status:\", sum(is.na(lung$status)), \"\\n\")\n",
        "head(lung)"
      ],
      "metadata": {
        "id": "RmfGVScmzF8P",
        "colab": {
          "base_uri": "https://localhost:8080/"
        },
        "outputId": "b6c514d4-e42d-42fd-b67a-1d7423aa40c5"
      },
      "execution_count": 5,
      "outputs": [
        {
          "output_type": "stream",
          "name": "stdout",
          "text": [
            "NAs in time: 0 \n",
            "NAs in status: 0 \n",
            "  inst time status age sex ph.ecog ph.karno pat.karno meal.cal wt.loss\n",
            "1    3  306      2  74   1       1       90       100     1175      NA\n",
            "2    3  455      2  68   1       0       90        90     1225      15\n",
            "3    3 1010      1  56   1       0       90        90       NA      15\n",
            "4    5  210      2  57   1       1       90        60     1150      11\n",
            "5    1  883      2  60   1       0      100        90       NA       0\n",
            "6   12 1022      1  74   1       1       50        80      513       0\n"
          ]
        }
      ]
    },
    {
      "cell_type": "markdown",
      "source": [
        "### Prepare the Data"
      ],
      "metadata": {
        "id": "IYYxCKtVtO-I"
      }
    },
    {
      "cell_type": "code",
      "source": [
        "%%R\n",
        "covar_names <- c(\"age\", \"ph.ecog\", \"ph.karno\", \"pat.karno\", \"meal.cal\", \"wt.loss\")\n",
        "lung2 <- lung[complete.cases(lung[, c(\"time\", \"status\", \"sex\", covar_names)]), ]\n",
        "cat(\"Rows after removing NAs:\", nrow(lung2), \"\\n\")\n",
        "\n",
        "# Prepare variables for grf\n",
        "Y <- lung2$time\n",
        "D <- ifelse(lung2$status == 2, 1, 0)   # 1=event(death), 0=censored\n",
        "W <- ifelse(lung2$sex == 2, 1, 0)      # 1=female, 0=male (treatment: female)\n",
        "X <- as.matrix(lung2[, covar_names])\n",
        "\n",
        "# Check distribution of events and event times\n",
        "cat(\"Number of events (D=1):\\n\")\n",
        "print(table(D))\n",
        "cat(\"Summary of event times where event observed:\\n\")\n",
        "print(summary(Y[D == 1]))\n",
        "hist(Y[D == 1], main=\"Histogram of Event Times (Deaths)\", xlab=\"Survival Time (days)\")\n",
        "\n",
        "# Find a valid horizon (latest time with at least one event)\n",
        "event_times <- sort(unique(Y[D == 1]))\n",
        "for (ht in event_times) {\n",
        "  n_events <- sum(D == 1 & Y <= ht)\n",
        "  if (n_events > 0) {\n",
        "    last_valid_ht <- ht\n",
        "  }\n",
        "}\n",
        "cat(\"Using horizon =\", last_valid_ht, \"\\n\")"
      ],
      "metadata": {
        "colab": {
          "base_uri": "https://localhost:8080/",
          "height": 653
        },
        "id": "MRsIqryhtPrE",
        "outputId": "2c2d59b0-84b4-4727-a297-977bf4c7f998"
      },
      "execution_count": 6,
      "outputs": [
        {
          "output_type": "stream",
          "name": "stdout",
          "text": [
            "Rows after removing NAs: 168 \n",
            "Number of events (D=1):\n",
            "D\n",
            "  0   1 \n",
            " 47 121 \n",
            "Summary of event times where event observed:\n",
            "   Min. 1st Qu.  Median    Mean 3rd Qu.    Max. \n",
            "    5.0   147.0   246.0   289.1   426.0   814.0 \n",
            "Using horizon = 814 \n"
          ]
        },
        {
          "output_type": "display_data",
          "data": {
            "image/png": "[encoded data removed]"
          },
          "metadata": {}
        }
      ]
    },
    {
      "cell_type": "markdown",
      "source": [
        "### Split Data into Training and Test Sets"
      ],
      "metadata": {
        "id": "ThhlXPmzzK7v"
      }
    },
    {
      "cell_type": "code",
      "source": [
        "%%R\n",
        "# Split data into training (80%) and test (20%) sets\n",
        "train_prop <- 0.8\n",
        "n <- nrow(lung2)\n",
        "# train data\n",
        "train_idx <- sample(1:n, size = round(train_prop * n))\n",
        "X_train <- X[train_idx, , drop = FALSE]\n",
        "Y_train <- Y[train_idx]\n",
        "W_train <- W[train_idx]\n",
        "D_train <- D[train_idx]\n",
        "# test data\n",
        "X_test <- X[-train_idx, , drop = FALSE]\n",
        "Y_test <- Y[-train_idx]\n",
        "W_test <- W[-train_idx]\n",
        "D_test <- D[-train_idx]\n",
        "\n",
        "cat(\"Training set size:\", nrow(X_train), \"\\n\")\n",
        "cat(\"Test set size:\", nrow(X_test), \"\\n\")\n",
        "cat(\"Column names of X_train:\", colnames(X_train), \"\\n\")"
      ],
      "metadata": {
        "colab": {
          "base_uri": "https://localhost:8080/"
        },
        "id": "jbX9jRGczLuL",
        "outputId": "e60b2d79-94eb-4171-98b3-43d04d312041"
      },
      "execution_count": 7,
      "outputs": [
        {
          "output_type": "stream",
          "name": "stdout",
          "text": [
            "Training set size: 134 \n",
            "Test set size: 34 \n",
            "Column names of X_train: age ph.ecog ph.karno pat.karno meal.cal wt.loss \n"
          ]
        }
      ]
    },
    {
      "cell_type": "markdown",
      "source": [
        "### Train the Causal Survival Forest\n",
        "\n",
        "Fit a CSF to estimate treatment effects on RMST with valid horizon."
      ],
      "metadata": {
        "id": "RMe3nasHz9g-"
      }
    },
    {
      "cell_type": "code",
      "source": [
        "%%R\n",
        "# Fit the Causal Survival Forest\n",
        "csf_model <- causal_survival_forest(\n",
        "  X = X_train,\n",
        "  Y = Y_train,\n",
        "  W = W_train,\n",
        "  D = D_train,\n",
        "  num.trees = 1000,\n",
        "  sample.fraction = 0.5,\n",
        "  mtry = min(ceiling(sqrt(ncol(X_train))), ncol(X_train)/3),\n",
        "  min.node.size = 5,\n",
        "  honesty = TRUE,\n",
        "  honesty.fraction = 0.5,\n",
        "  ci.group.size = 2,\n",
        "  alpha = 0.05,\n",
        "  imbalance.penalty = 0,\n",
        "  stabilize.splits = TRUE,\n",
        "  tune.parameters = \"all\",\n",
        "  horizon = last_valid_ht,  # Set the horizon for survival analysis\n",
        "  seed = 123\n",
        ")\n",
        "\n",
        "# Estimate ATE on training data\n",
        "ate_train <- average_treatment_effect(csf_model, target.sample = \"all\")\n",
        "cat(\"Training ATE:\", ate_train[\"estimate\"], \"±\", 1.96 * ate_train[\"std.err\"], \"(95% CI)\\n\")"
      ],
      "metadata": {
        "colab": {
          "base_uri": "https://localhost:8080/"
        },
        "id": "K8_YZmzb0LTO",
        "outputId": "6bb1c615-5e72-4552-edcb-30d7ce10c66d"
      },
      "execution_count": 8,
      "outputs": [
        {
          "output_type": "stream",
          "name": "stdout",
          "text": [
            "Training ATE: 89.04473 ± 94.9887 (95% CI)\n"
          ]
        }
      ]
    },
    {
      "cell_type": "markdown",
      "source": [
        "### Predict Treatment Effects"
      ],
      "metadata": {
        "id": "2KI7kD5R0Qa9"
      }
    },
    {
      "cell_type": "code",
      "source": [
        "%%R\n",
        "# Predict treatment effects at the chosen horizon\n",
        "tau_hat <- predict(csf_model, times = last_valid_ht)\n",
        "head(tau_hat$predictions)\n"
      ],
      "metadata": {
        "colab": {
          "base_uri": "https://localhost:8080/"
        },
        "id": "JipnL_6X0RJl",
        "outputId": "bae14b8a-af5a-481e-ba85-27c5a782fe26"
      },
      "execution_count": 9,
      "outputs": [
        {
          "output_type": "stream",
          "name": "stdout",
          "text": [
            "[1]  79.48262  87.54730 100.62346  73.21946 100.56511  84.83925\n"
          ]
        }
      ]
    },
    {
      "cell_type": "code",
      "source": [
        "%%R\n",
        "# Visualize estimated treatment effects\n",
        "hist(tau_hat$predictions, breaks = 20,\n",
        "     main = sprintf(\"Estimated Treatment Effects at %.0f days\", last_valid_ht),\n",
        "     xlab = \"Effect of being Female (vs Male) on Survival Probability\")\n",
        "\n",
        "# Mean treatment effect\n",
        "cat(\"Mean estimated treatment effect:\", mean(tau_hat$predictions), \"\\n\")"
      ],
      "metadata": {
        "colab": {
          "base_uri": "https://localhost:8080/",
          "height": 514
        },
        "id": "m0vovr-CfwBZ",
        "outputId": "7ff86fd9-bf14-49b9-a8df-61c54c0538b6"
      },
      "execution_count": 11,
      "outputs": [
        {
          "output_type": "stream",
          "name": "stdout",
          "text": [
            "Mean estimated treatment effect: 86.06816 \n"
          ]
        },
        {
          "output_type": "display_data",
          "data": {
            "image/png": "[encoded data removed]"
          },
          "metadata": {}
        }
      ]
    },
    {
      "cell_type": "markdown",
      "source": [
        "### Make Predictions\n",
        "\n",
        "Predict the treatment effect for each patient (difference in RMST, in days)."
      ],
      "metadata": {
        "id": "k3sB7ApD0e7K"
      }
    },
    {
      "cell_type": "code",
      "source": [
        "%%R\n",
        "# Predict treatment effects (out-of-bag predictions)\n",
        "csf_pred <- predict(csf_model)\n",
        "\n",
        "# Plot a histogram of the estimated treatment effects\n",
        "hist(csf_pred$predictions, main = \"Distribution of Estimated Treatment Effects (RMST)\",\n",
        "     xlab = \"Treatment Effect (Days)\", col = \"lightblue\")"
      ],
      "metadata": {
        "colab": {
          "base_uri": "https://localhost:8080/",
          "height": 497
        },
        "id": "nThsYP_a0fqX",
        "outputId": "71b1ae04-13f7-4f55-9c26-2aff565fbd69"
      },
      "execution_count": 12,
      "outputs": [
        {
          "output_type": "display_data",
          "data": {
            "image/png": "[encoded data removed]"
          },
          "metadata": {}
        }
      ]
    },
    {
      "cell_type": "markdown",
      "source": [
        "### Estimate the Average Treatment Effect\n",
        "\n",
        "Compute the average treatment effect (ATE) across all patients."
      ],
      "metadata": {
        "id": "t0vzMkfOf8M8"
      }
    },
    {
      "cell_type": "code",
      "source": [
        "%%R\n",
        "# Estimate the average treatment effect\n",
        "ate <- average_treatment_effect(csf_model)\n",
        "ate"
      ],
      "metadata": {
        "colab": {
          "base_uri": "https://localhost:8080/"
        },
        "id": "pst8NWCvf-N-",
        "outputId": "bbee4d02-f134-4b38-f92d-a8c4f203b12b"
      },
      "execution_count": 13,
      "outputs": [
        {
          "output_type": "stream",
          "name": "stdout",
          "text": [
            "estimate  std.err \n",
            "89.04473 48.46362 \n"
          ]
        }
      ]
    },
    {
      "cell_type": "markdown",
      "source": [
        "### Assess Heterogeneity\n",
        "\n",
        "Evaluate treatment effect heterogeneity using the Average Treatment effect on the Ordered Characteristic (AUTOC) and plot the Treatment Outcome Curve (TOC).\n"
      ],
      "metadata": {
        "id": "diTm7dIrevFe"
      }
    },
    {
      "cell_type": "code",
      "source": [
        "%%R\n",
        "# Split data into training and evaluation sets\n",
        "n <- nrow(X)\n",
        "train_idx <- sample(1:n, n / 2)\n",
        "eval_idx <- setdiff(1:n, train_idx)\n",
        "\n",
        "# Train forests on training and evaluation sets\n",
        "train_csf <- causal_survival_forest(\n",
        "  X[train_idx, ], Y[train_idx], W[train_idx], D[train_idx],\n",
        "  horizon = last_valid_ht, seed = 123\n",
        ")\n",
        "eval_csf <- causal_survival_forest(\n",
        "  X[eval_idx, ], Y[eval_idx], W[eval_idx], D[eval_idx],\n",
        "  horizon = last_valid_ht, seed = 123\n",
        ")\n",
        "\n",
        "# Compute AUTOC and plot TOC\n",
        "rate <- rank_average_treatment_effect(eval_csf, predict(train_csf, X[eval_idx, ])$predictions)\n",
        "plot(rate)\n",
        "cat(\"AUTOC:\", round(rate$estimate, 2), \"+/-\", round(1.96 * rate$std.err, 2), \"\\n\")"
      ],
      "metadata": {
        "colab": {
          "base_uri": "https://localhost:8080/",
          "height": 514
        },
        "id": "uolnRWp_exqn",
        "outputId": "c04c5b6a-e1cc-4bdd-d690-f4b8af411481"
      },
      "execution_count": 14,
      "outputs": [
        {
          "output_type": "stream",
          "name": "stdout",
          "text": [
            "AUTOC: -31.32 +/- 119.48 \n"
          ]
        },
        {
          "output_type": "display_data",
          "data": {
            "image/png": "[encoded data removed]"
          },
          "metadata": {}
        }
      ]
    },
    {
      "cell_type": "markdown",
      "source": [
        "### Variable Importnace"
      ],
      "metadata": {
        "id": "6Uc9PcoOgJjF"
      }
    },
    {
      "cell_type": "code",
      "source": [
        "%%R\n",
        "var_importance <- variable_importance(csf_model)\n",
        "features <- colnames(X_train)\n",
        "\n",
        "# Create a data frame for plotting\n",
        "importance_df <- data.frame(\n",
        "  Feature = features,\n",
        "  Importance = var_importance\n",
        ")\n",
        "\n",
        "# Create bar plot with ggplot2\n",
        "ggplot(importance_df, aes(x = reorder(Feature, Importance), y = Importance)) +\n",
        "  geom_bar(stat = \"identity\", fill = \"steelblue\") +\n",
        "  coord_flip() +  # Flip coordinates for better readability\n",
        "  labs(title = \"Variable Importance in Causal Survival Forest\",\n",
        "       x = \"Feature\",\n",
        "       y = \"Importance\") +\n",
        "  theme_minimal()"
      ],
      "metadata": {
        "colab": {
          "base_uri": "https://localhost:8080/",
          "height": 497
        },
        "id": "y2LLqsOhgJqM",
        "outputId": "fbaa4269-e789-440a-fba2-f2b11833f5cf"
      },
      "execution_count": 15,
      "outputs": [
        {
          "output_type": "display_data",
          "data": {
            "image/png": "[encoded data removed]"
          },
          "metadata": {}
        }
      ]
    },
    {
      "cell_type": "markdown",
      "source": [
        "## Summary and Conclusion\n",
        "\n",
        "This notebook demonstrated how to use the **Causal Survival Forest (CSF)** from the `{grf}` package in R to estimate heterogeneous treatment effects on survival data, particularly when outcomes are right-censored. The CSF allows for flexible, non-parametric estimation of treatment effects while accounting for censoring, making it a powerful tool for analyzing survival data in various fields. The example used the `lung` dataset to illustrate how to prepare the data, train a CSF model, predict treatment effects, and assess treatment effect heterogeneity. The results showed how the CSF can provide insights into how different covariates influence treatment effects on survival outcomes."
      ],
      "metadata": {
        "id": "_j759RVMQMut"
      }
    },
    {
      "cell_type": "markdown",
      "source": [
        "## References\n",
        "\n",
        "\n",
        "1.  Cui, Y., Kosorok, M. R., Sverdrup, E., Wager, S., & Zhu, R. (2023). Estimating Heterogeneous Treatment Effects with Right-Censored Data via Causal Survival Forests. *Journal of the Royal Statistical Society: Series B*, 85(2).\n",
        "\n",
        "2.  Sverdrup, E., & Wager, S. (2024). Treatment Heterogeneity with Right-Censored Outcomes Using grf. *ASA Lifetime Data Science Newsletter*.[(https://search.r-project.org/CRAN/refmans/grf/html/causal_survival_forest.html)}\n",
        "\n",
        "3.  [grf Causal Survival Forest documentation](https://grf-labs.github.io/grf/articles/causal_survival_forest.html)\n",
        "\n",
        "4.  [Original Causal Survival Forests paper](https://arxiv.org/abs/2006.09639)\n",
        "\n"
      ],
      "metadata": {
        "id": "SaZTnZx3QPGI"
      }
    }
  ]
}