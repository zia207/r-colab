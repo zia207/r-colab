{
  "nbformat": 4,
  "nbformat_minor": 0,
  "metadata": {
    "colab": {
      "provenance": [],
      "toc_visible": true,
      "authorship_tag": "ABX9TyMPY+rPd+xMvLRKThVGpl08",
      "include_colab_link": true
    },
    "kernelspec": {
      "name": "python3",
      "display_name": "Python 3"
    },
    "language_info": {
      "name": "python"
    }
  },
  "cells": [
    {
      "cell_type": "markdown",
      "metadata": {
        "id": "view-in-github",
        "colab_type": "text"
      },
      "source": [
        "<a href=\"https://colab.research.google.com/github/zia207/r-colab/blob/main/NoteBook/Machine_Learning/Tree_based/03-01-02-06-tree-based-models-bagging-quantile-classifier-forest-r.ipynb\" target=\"_parent\"><img src=\"https://colab.research.google.com/assets/colab-badge.svg\" alt=\"Open In Colab\"/></a>"
      ]
    },
    {
      "cell_type": "markdown",
      "source": [
        "![alt text](http://drive.google.com/uc?export=view&id=1bLQ3nhDbZrCCqy_WCxxckOne2lgVvn3l)"
      ],
      "metadata": {
        "id": "zYZbTX0qQrZb"
      }
    },
    {
      "cell_type": "markdown",
      "source": [
        "# 2.6 Random Forests Quantile Classifier (RFQ)\n",
        "\n",
        "The Random Forests Quantile Classifier (RFQ) is a machine learning method designed to address class imbalance problems in classification tasks. It extends the concept of quantile classifiers (`q-classifiers`) by introducing a `*q-classifier*`, which is implemented using random forests. RFQ is particularly effective for datasets where one class (the minority class) is significantly underrepresented compared to the other (the majority class). Below is a definition and the key features of RFQ based on available information"
      ],
      "metadata": {
        "id": "RGBfrL2GQoII"
      }
    },
    {
      "cell_type": "markdown",
      "source": [
        "## Overview\n",
        "\n",
        "RFQ is a classification algorithm that assigns a sample to the minority class if the estimated conditional probability of the minority class exceeds a quantile threshold q*, where q* is set to the unconditional probability of observing a minority class sample (denoted as π). This threshold is estimated empirically using the relative frequency of minority class labels in the dataset. RFQ leverages the ensemble power of random forests to estimate these probabilities and make classification decisions, optimizing performance metrics suited for imbalanced data.\n",
        "\n"
      ],
      "metadata": {
        "id": "S77MsgmqIYD0"
      }
    },
    {
      "cell_type": "markdown",
      "source": [
        "### Key Features\n",
        "\n",
        "1. **Handles Imbalance**: Optimizes `G-mean` (√(TPR × TNR)) for rare minority classes.\n",
        "2. **Random Forests**: Robust ensemble with configurable parameters (e.g., `ntree`, `mtry`).\n",
        "3. **G-mean Importance**: Tailored variable importance for imbalanced data.\n",
        "4. **Efficient**: Uses full dataset, unlike balanced sampling methods.\n",
        "5. **Competitive**: Outperforms or matches methods like BRF, especially in high-dimensional, highly imbalanced settings.\n",
        "6. **Empirical Threshold**: Estimates `q` as the minority class frequency.\n"
      ],
      "metadata": {
        "id": "VwEoykvwI2dS"
      }
    },
    {
      "cell_type": "markdown",
      "source": [
        "### Understanding Imbalanced Data\n",
        "\n",
        "Imbalanced data is common in real-world classification problems, such as detecting rare diseases or fraudulent transactions. The imbalance ratio (IR) quantifies this issue, defined as:\n",
        "\n",
        "$$ \\text{IR} = \\frac{N_0}{N_1}, $$\n",
        "\n",
        "where $N_0$ is the number of majority class samples, and $N_1$ is the number of minority class samples. A dataset is considered imbalanced when $\\text{IR} > 1$.  \n",
        "\n",
        "Standard Random Forest (RF) classifiers often struggle with imbalanced data because they rely on the Bayes rule, which minimizes overall misclassification error:\n",
        "\n",
        "$$ \\delta_{\\text{B}}(x) = \\mathbb{I}\\{p(x) \\geq 0.5\\}, $$\n",
        "\n",
        "\n",
        "where $p(x) = \\mathbb{P}\\{Y = 1 \\mid X = x\\}$ is the probability of the minority class (label 1) given features $x$. In imbalanced datasets, $p(x)$ is typically small, causing the classifier to predominantly predict the majority class, resulting in poor performance on the minority class.\n"
      ],
      "metadata": {
        "id": "fNSn5kBbT7_8"
      }
    },
    {
      "cell_type": "markdown",
      "source": [
        "### How RFQ Works\n",
        "\n",
        "The RFQ classifier extends the Random Forest framework to better handle imbalanced data by estimating conditional quantiles of the response variable, focusing on the minority class. Unlike standard RF, which aggregates predictions via majority voting or averaging, RFQ leverages the full distribution of class probabilities across trees to provide more nuanced predictions. Below are the key steps, with equations, explaining how RFQ operates:\n",
        "\n",
        "1.  Bootstrap Sampling and Tree Construction:\n",
        "\n",
        "    -   RFQ builds a forest of $B$ decision trees, each trained on a bootstrap sample of the dataset, typically with replacement. At each node, a random subset of features is considered for splitting, using a criterion like Gini impurity, adjusted for class imbalance.\n",
        "\n",
        "    -   For a given tree $b$, observations falling into a leaf node are retained, along with their class labels $\\{Y_i : X_i \\in \\text{leaf}_b(x)\\}$.\n",
        "\n",
        "2.  Weight Assignment:\n",
        "\n",
        "    -   For a new input $x$, RFQ assigns weights to each training observation based on its presence in the leaf nodes across all trees:\n",
        "\n",
        "$$ w_i(x) = \\frac{1}{B} \\sum_{b=1}^B \\mathbb{I}\\{X_i \\in \\text{leaf}_b(x)\\},$$\n",
        "\n",
        "where $\\mathbb{I}\\{\\cdot\\}$ is an indicator function (1 if $X_i$ is in the leaf node of tree $b$ containing $x$, 0 otherwise).\n",
        "\n",
        "3.  Estimating Conditional Class Probabilities:\n",
        "\n",
        "    -   RFQ estimates the conditional probability of the minority class (label 1) given $x$:\n",
        "\n",
        "$$ \\hat{p}(x) = \\sum_{i=1}^n w_i(x) \\mathbb{I}\\{Y_i = 1\\},$$\n",
        "\n",
        "where $\\hat{p}(x)$ approximates $\\mathbb{P}\\{Y = 1 \\mid X = x\\}$ This is equivalent to estimating the conditional cumulative distribution function (CDF) for the class probabilities.\n",
        "\n",
        "4.  Quantile-Based Classification:\n",
        "\n",
        "    -   Instead of using a fixed threshold (e.g., 0.5 in Bayes rule), RFQ estimates quantiles of the conditional probability distribution. For a quantile $\\tau \\in (0,1)$, the classifier identifies the threshold $q_\\tau(x)$ such that:\n",
        "\n",
        "$$ \\hat{F}(q | x) = \\sum_{i=1}^n w_i(x) \\mathbb{I}\\{p_i \\leq q\\} \\geq \\tau, $$ where $p_i$ is the class probability for observation $i$. The classification rule becomes:\n",
        "\n",
        "$$ \\hat{Y}(x) = \\mathbb{I}\\{\\hat{p}(x) \\geq q_\\tau(x)\\},$$ allowing flexible thresholding to prioritize the minority class.\n",
        "\n",
        "5.  Handling Imbalance:\n",
        "\n",
        "    -   RFQ incorporates techniques to address imbalance, such as:\n",
        "\n",
        "    -   `Cost-Sensitive Learning`: Assigning higher weights to the minority class in the Gini splitting criterion and terminal node voting. For example, if $w_1$ is the weight for the minority class and $w_0$ for the majority class $w_1 > w_0$, the weighted Gini impurity for a node is:\n",
        "\n",
        "$$ \\text{Gini} = 1 - \\sum_{k=0}^1 \\left( \\frac{w_k \\cdot n_k}{w_0 \\cdot n_0 + w_1 \\cdot n_1} \\right)^2,$$ where $n_k$ is the number of samples of class ( k ) in the node.\n",
        "\n",
        "-   `Balanced Sampling`: Using stratified bootstrap sampling or oversampling the minority class during tree construction to ensure more balanced datasets for each tree.\n",
        "\n",
        "6.  Variable Importance (VIMP):\n",
        "\n",
        "    -   RFQ uses a modified variable importance measure, the $G$-mean, to assess feature importance in imbalanced settings. The $G$-mean is the geometric mean of class-specific accuracies, balancing performance across classes:\n",
        "\n",
        "$$ G\\text{-mean} = \\sqrt{\\text{Sensitivity} \\cdot \\text{Specificity}},$$\n",
        "\n",
        "where Sensitivity is the true positive rate for the minority class, and Specificity is the true negative rate for the majority class. This is combined with the Ishwaran-Kogalur VIMP, which calculates the increase in prediction error when a feature’s values are permuted.\n",
        "\n"
      ],
      "metadata": {
        "id": "uJS_IJgVI-bh"
      }
    },
    {
      "cell_type": "markdown",
      "source": [
        "Below is a flowchart summarizing the RFQ algorithm:\n",
        "\n",
        "\n",
        "![alt text](http://drive.google.com/uc?export=view&id=1dTHrVSHJrlF02Ffa_nCq8gniODKQWFVH)\n"
      ],
      "metadata": {
        "id": "MfeqJ2MyFVfU"
      }
    },
    {
      "cell_type": "markdown",
      "source": [
        "### Advantages and Limitations\n",
        "\n",
        "**Advantages**:\n",
        "\n",
        "1.  **Handles Imbalance**: Optimizes G-mean for minority class detection.\n",
        "2.  **Robust**: Uses random forests, good for high-dimensional data.\n",
        "3.  **Efficient**: Leverages full dataset, unlike undersampling methods.\n",
        "4.  **G-mean Importance**: Better feature ranking for imbalanced data.\n",
        "5.  **Competitive**: Outperforms or matches BRF in imbalanced scenarios.\n",
        "\n",
        "**Limitations**:\n",
        "\n",
        "1.  **Binary Only**: Limited to two-class problems.\n",
        "2.  **Computationally Intensive**: Needs many trees (e.g., ntree ≥ 3000).\n",
        "3.  **Threshold Sensitivity**: q\\* estimation may falter with tiny minority samples.\n",
        "4.  **Tuning Required**: Parameters like mtry, nodesize need optimization.\n",
        "5.  **Niche Use**: Less effective for balanced datasets.\n",
        "6.  **Limited Support**: Mainly in randomForestSRC package.\n",
        "\n",
        "\n"
      ],
      "metadata": {
        "id": "_oHgtdo9Tx-4"
      }
    },
    {
      "cell_type": "markdown",
      "source": [
        "\n",
        "### Applications\n",
        "\n",
        "1.  **Medical Diagnostics**: Detects rare diseases (e.g., cancer) in imbalanced datasets where positive cases are scarce, prioritizing sensitivity to minority class.\n",
        "2.  **Fraud Detection**: Identifies fraudulent transactions (e.g., credit card fraud) in financial data, where fraud cases are significantly outnumbered by legitimate ones.\n",
        "3.  **Remote Sensing**: Classifies rare land cover types or environmental anomalies (e.g., deforestation) in satellite imagery with imbalanced class distributions.\n",
        "4.  **Cybersecurity**: Detects rare security threats (e.g., network intrusions) in large datasets dominated by normal activity.\n",
        "5.  **Marketing**: Targets rare customer segments (e.g., high-value customers) in datasets with uneven class proportions.\n",
        "6.  **Manufacturing**: Identifies defective products in quality control, where defects are rare compared to normal outputs.\n",
        "\n"
      ],
      "metadata": {
        "id": "iQ-vcH8iUBDa"
      }
    },
    {
      "cell_type": "markdown",
      "source": [
        "## Setup R in Python Runtype"
      ],
      "metadata": {
        "id": "Bn4w4oqMCagF"
      }
    },
    {
      "cell_type": "markdown",
      "source": [
        "### Install {rpy2}\n",
        "\n",
        "{rpy2} is a Python package that provides an interface to the R programming language, allowing Python users to run R code, call R functions, and manipulate R objects directly from Python. It enables seamless integration between Python and R, leveraging R's statistical and graphical capabilities while using Python's flexibility. The package supports passing data between the two languages and is widely used for statistical analysis, data visualization, and machine learning tasks that benefit from R's specialized libraries."
      ],
      "metadata": {
        "id": "yerTCtKKCmik"
      }
    },
    {
      "cell_type": "code",
      "source": [
        "!pip uninstall rpy2 -y\n",
        "!pip install rpy2==3.5.1\n",
        "%load_ext rpy2.ipython"
      ],
      "metadata": {
        "colab": {
          "base_uri": "https://localhost:8080/"
        },
        "id": "OqeCyNf0Crlc",
        "outputId": "4ba6b82b-6e86-4257-cb1e-d8446e0ac987"
      },
      "execution_count": 1,
      "outputs": [
        {
          "output_type": "stream",
          "name": "stdout",
          "text": [
            "Found existing installation: rpy2 3.5.1\n",
            "Uninstalling rpy2-3.5.1:\n",
            "  Successfully uninstalled rpy2-3.5.1\n",
            "Collecting rpy2==3.5.1\n",
            "  Using cached rpy2-3.5.1-cp311-cp311-linux_x86_64.whl\n",
            "Requirement already satisfied: cffi>=1.10.0 in /usr/local/lib/python3.11/dist-packages (from rpy2==3.5.1) (1.17.1)\n",
            "Requirement already satisfied: jinja2 in /usr/local/lib/python3.11/dist-packages (from rpy2==3.5.1) (3.1.6)\n",
            "Requirement already satisfied: pytz in /usr/local/lib/python3.11/dist-packages (from rpy2==3.5.1) (2025.2)\n",
            "Requirement already satisfied: tzlocal in /usr/local/lib/python3.11/dist-packages (from rpy2==3.5.1) (5.3.1)\n",
            "Requirement already satisfied: pycparser in /usr/local/lib/python3.11/dist-packages (from cffi>=1.10.0->rpy2==3.5.1) (2.22)\n",
            "Requirement already satisfied: MarkupSafe>=2.0 in /usr/local/lib/python3.11/dist-packages (from jinja2->rpy2==3.5.1) (3.0.2)\n",
            "Installing collected packages: rpy2\n",
            "Successfully installed rpy2-3.5.1\n"
          ]
        }
      ]
    },
    {
      "cell_type": "markdown",
      "source": [
        "### Mount Google Drive"
      ],
      "metadata": {
        "id": "vOzGUgYCCyqg"
      }
    },
    {
      "cell_type": "code",
      "source": [
        "from google.colab import drive\n",
        "drive.mount('/content/drive')"
      ],
      "metadata": {
        "colab": {
          "base_uri": "https://localhost:8080/"
        },
        "id": "_lngQQKKC2lc",
        "outputId": "09ff82d9-dd6c-4fbf-b89d-0858ea3711c7"
      },
      "execution_count": 2,
      "outputs": [
        {
          "output_type": "stream",
          "name": "stdout",
          "text": [
            "Drive already mounted at /content/drive; to attempt to forcibly remount, call drive.mount(\"/content/drive\", force_remount=True).\n"
          ]
        }
      ]
    },
    {
      "cell_type": "markdown",
      "source": [
        "\n",
        "##  Random Forests Quantile Classifier (RFQ) from scratch\n",
        "\n",
        "To implement the Random Forests Quantile Classifier (RFQ) from scratch in R, we will create a simplified version of the RFQ model without relying on external libraries like `randomForestSRC`. This implementation will focus on the core concepts of RFQ, including bootstrap sampling, decision tree construction, and quantile-based classification. The RFQ model is designed for imbalanced binary classification, using a quantile threshold (q* = minority class proportion) to classify samples, optimizing the G-mean (√(TPR × TNR)). Since we cannot rely on external libraries, we’ll build the random forest components (decision trees, bootstrap sampling, etc.) and implement the RFQ-specific logic manually.\n",
        "\n",
        "1. Simulate a dataset resembling `breast` with ~194 rows, a binary response, and 10 continuous predictors, ensuring some class imbalance.\n",
        "2. Apply the provided train/test split (80% train, 20% test).\n",
        "3. Fit the RFQ model using the `rfq_imbalanced()` function from the previous response.\n",
        "4. Present the results step by step.\n",
        "\n"
      ],
      "metadata": {
        "id": "_W-exb0KKCFd"
      }
    },
    {
      "cell_type": "markdown",
      "source": [
        "### Simulate a  Dataset\n",
        "\n",
        "We’ll create a dataset with:\n",
        "\n",
        "- **Rows**: ~194 (after NA removal in the original).\n",
        "- **Response**: Binary `status` (0 = normal, 1 = tumor), with ~20% minority class (tumor) to simulate imbalance.\n",
        "- **Predictors**: 10 continuous features (e.g., mimicking gene expression or medical measurements).\n",
        "- **Structure**: Features are generated to have some correlation with the response to ensure meaningful splits."
      ],
      "metadata": {
        "id": "NMJamUQ5XZDx"
      }
    },
    {
      "cell_type": "code",
      "source": [
        "%%R\n",
        "# Set seed for reproducibility\n",
        "set.seed(123)\n",
        "\n",
        "# Simulate dataset\n",
        "n <- 194\n",
        "n_minority <- round(0.2 * n)  # ~20% minority class (tumor)\n",
        "n_majority <- n - n_minority\n",
        "\n",
        "# Generate predictors (10 continuous features)\n",
        "p <- 10\n",
        "features <- matrix(rnorm(n * p, mean = 0, sd = 1), nrow = n, ncol = p)\n",
        "colnames(features) <- paste0(\"V\", 1:p)\n",
        "\n",
        "# Generate binary response (status: 0 = normal, 1 = tumor)\n",
        "# Make minority class slightly dependent on first few features\n",
        "status <- c(rep(0, n_majority), rep(1, n_minority))\n",
        "for (i in 1:n_minority) {\n",
        "  features[n_majority + i, 1:3] <- features[n_majority + i, 1:3] + rnorm(3, mean = 1, sd = 0.5)\n",
        "}\n",
        "breast_data <- data.frame(status = factor(status), features)\n",
        "\n",
        "# Verify dimensions and class distribution\n",
        "dim(breast_data)  # Should be 194 rows, 11 columns (status + 10 predictors)\n",
        "table(breast_data$status)  # ~155 normal, ~39 tumor"
      ],
      "metadata": {
        "id": "bnJ7L5JfKEFZ",
        "colab": {
          "base_uri": "https://localhost:8080/"
        },
        "outputId": "41fd2d5f-c9d5-4b16-eedd-dbdf3f1de50e"
      },
      "execution_count": 3,
      "outputs": [
        {
          "output_type": "stream",
          "name": "stdout",
          "text": [
            "\n",
            "  0   1 \n",
            "155  39 \n"
          ]
        }
      ]
    },
    {
      "cell_type": "markdown",
      "source": [
        "### Apply Train/Test Split"
      ],
      "metadata": {
        "id": "BrOesvibXnLa"
      }
    },
    {
      "cell_type": "code",
      "source": [
        "%%R\n",
        "set.seed(123)\n",
        "n <- nrow(breast_data)\n",
        "train_idx <- sample(1:n, round(0.8 * n))  # 80% train (~155 rows)\n",
        "train_data <- breast_data[train_idx, ]\n",
        "test_data <- breast_data[-train_idx, ]    # 20% test (~39 rows)"
      ],
      "metadata": {
        "id": "6-o-is1QlfGD"
      },
      "execution_count": 4,
      "outputs": []
    },
    {
      "cell_type": "markdown",
      "source": [
        "### Define Helper Functions\n",
        "\n",
        "We need functions for:\n",
        "\n",
        "- Calculating Gini impurity (for splitting nodes).\n",
        "- Finding the best split for a node.\n",
        "- Building a decision tree.\n",
        "- Predicting with a single tree."
      ],
      "metadata": {
        "id": "7Kajrhp-lhKv"
      }
    },
    {
      "cell_type": "markdown",
      "source": [
        "`Gini Impurity Function`:\n",
        "\n",
        "- Purpose: Measures node purity for binary classification, with optional weights for imbalance.\n",
        "- Input: `y` (binary labels, 0/1), `weights` (observation weights).\n",
        "- Output: Gini impurity value."
      ],
      "metadata": {
        "id": "QpzDL8xjm1OD"
      }
    },
    {
      "cell_type": "code",
      "source": [
        "%%R\n",
        "gini_impurity <- function(y, weights = NULL) {\n",
        "  if (is.null(weights)) weights <- rep(1, length(y))\n",
        "  if (length(y) == 0) return(0)\n",
        "  p1 <- sum(weights[y == 1]) / sum(weights)\n",
        "  p0 <- sum(weights[y == 0]) / sum(weights)\n",
        "  return(1 - p1^2 - p0^2)\n",
        "}"
      ],
      "metadata": {
        "id": "XEGwQbt_bTd1"
      },
      "execution_count": 5,
      "outputs": []
    },
    {
      "cell_type": "markdown",
      "source": [
        "`Find Best Split Function`\n",
        "\n",
        "- Purpose: Identifies the best feature and threshold to split a node, minimizing weighted Gini impurity.\n",
        "- Input: `x` (predictor matrix), `y` (labels), `weights`, `mtry` (number of features to try), `min_node_size` (minimum samples per node).\n",
        "- Output: List with best feature and threshold, or NULL if no valid split."
      ],
      "metadata": {
        "id": "QF70BOZBbZ8j"
      }
    },
    {
      "cell_type": "code",
      "source": [
        "%%R\n",
        "find_best_split <- function(x, y, weights, mtry, min_node_size) {\n",
        "  n_features <- ncol(x)\n",
        "  if (n_features == 0 || length(y) < min_node_size) return(NULL)\n",
        "\n",
        "  # Randomly select mtry features\n",
        "  features <- sample(1:n_features, min(mtry, n_features))\n",
        "  best_gini <- Inf\n",
        "  best_feature <- NULL\n",
        "  best_threshold <- NULL\n",
        "\n",
        "  for (f in features) {\n",
        "    values <- sort(unique(x[, f]))\n",
        "    if (length(values) <= 1) next\n",
        "    thresholds <- (values[-length(values)] + values[-1]) / 2\n",
        "\n",
        "    for (t in thresholds) {\n",
        "      left_idx <- x[, f] <= t\n",
        "      right_idx <- !left_idx\n",
        "      if (sum(left_idx) < min_node_size || sum(right_idx) < min_node_size) next\n",
        "\n",
        "      gini_left <- gini_impurity(y[left_idx], weights[left_idx])\n",
        "      gini_right <- gini_impurity(y[right_idx], weights[right_idx])\n",
        "      n_left <- sum(weights[left_idx])\n",
        "      n_right <- sum(weights[right_idx])\n",
        "      gini_split <- (n_left * gini_left + n_right * gini_right) / sum(weights)\n",
        "\n",
        "      if (gini_split < best_gini) {\n",
        "        best_gini <- gini_split\n",
        "        best_feature <- f\n",
        "        best_threshold <- t\n",
        "      }\n",
        "    }\n",
        "  }\n",
        "\n",
        "  if (is.null(best_feature)) return(NULL)\n",
        "  return(list(feature = best_feature, threshold = best_threshold))\n",
        "}\n"
      ],
      "metadata": {
        "id": "ttAmoFuebame"
      },
      "execution_count": 6,
      "outputs": []
    },
    {
      "cell_type": "markdown",
      "source": [
        "`Build Decision Tree Function`:\n",
        "\n",
        "- Purpose: Recursively builds a decision tree using the best splits.\n",
        "- Input: `x`, `y`, `weights`, `mtry`, `min_node_size`, `max_depth`, `depth` (current depth).\n",
        "- Output: A tree (list) with nodes (feature, threshold, left, right) or leaves (class probability)."
      ],
      "metadata": {
        "id": "2S6NVZr8bmZ9"
      }
    },
    {
      "cell_type": "code",
      "source": [
        "%%R\n",
        "build_tree <- function(x, y, weights, mtry, min_node_size, max_depth, depth = 0) {\n",
        "  if (depth >= max_depth || length(unique(y)) == 1 || length(y) < min_node_size) {\n",
        "    # Leaf node: store class proportions\n",
        "    p1 <- sum(weights[y == 1]) / sum(weights)\n",
        "    return(list(leaf = TRUE, prob = p1, n_samples = length(y)))\n",
        "  }\n",
        "\n",
        "  split <- find_best_split(x, y, weights, mtry, min_node_size)\n",
        "  if (is.null(split)) {\n",
        "    p1 <- sum(weights[y == 1]) / sum(weights)\n",
        "    return(list(leaf = TRUE, prob = p1, n_samples = length(y)))\n",
        "  }\n",
        "\n",
        "  left_idx <- x[, split$feature] <= split$threshold\n",
        "  right_idx <- !left_idx\n",
        "\n",
        "  left_tree <- build_tree(x[left_idx, , drop = FALSE], y[left_idx],\n",
        "                         weights[left_idx], mtry, min_node_size, max_depth, depth + 1)\n",
        "  right_tree <- build_tree(x[right_idx, , drop = FALSE], y[right_idx],\n",
        "                          weights[right_idx], mtry, min_node_size, max_depth, depth + 1)\n",
        "\n",
        "  return(list(leaf = FALSE, feature = split$feature, threshold = split$threshold,\n",
        "              left = left_tree, right = right_tree))\n",
        "}"
      ],
      "metadata": {
        "id": "3DEviDNdbox8"
      },
      "execution_count": 7,
      "outputs": []
    },
    {
      "cell_type": "markdown",
      "source": [
        "`Predict with Single Tree Function`:\n",
        "\n",
        "- Purpose: Predicts the minority class probability for a single observation using a tree.\n",
        "- Input: `tree` (tree object), `x_row` (single row of predictors).\n",
        "- Output: Minority class probability."
      ],
      "metadata": {
        "id": "CkucSoDVbuHy"
      }
    },
    {
      "cell_type": "code",
      "source": [
        "%%R\n",
        "predict_tree <- function(tree, x_row) {\n",
        "  if (tree$leaf) return(tree$prob)\n",
        "\n",
        "  if (x_row[tree$feature] <= tree$threshold) {\n",
        "    return(predict_tree(tree$left, x_row))\n",
        "  } else {\n",
        "    return(predict_tree(tree$right, x_row))\n",
        "  }\n",
        "}\n"
      ],
      "metadata": {
        "id": "eMs9AvFNbzGN"
      },
      "execution_count": 8,
      "outputs": []
    },
    {
      "cell_type": "markdown",
      "source": [
        "### Implement the Main RFQ Function\n",
        "\n",
        "- Purpose: Builds a random forest, estimates q*, makes predictions, and computes variable importance.\n",
        "- Input:\n",
        "  - `formula`: Specifies response and predictors (e.g., `status ~ .`).\n",
        "  - `data`: Training data.\n",
        "  - `ntree`: Number of trees.\n",
        "  - `mtry`: Features to try per split (default: floor(ncol/3)).\n",
        "  - `nodesize`: Minimum node size (default: 1).\n",
        "  - `maxdepth`: Maximum tree depth (default: 20).\n",
        "  - `test`: Optional test data."
      ],
      "metadata": {
        "id": "JwwI45IvnvtY"
      }
    },
    {
      "cell_type": "code",
      "source": [
        "%%R\n",
        "rfq_imbalanced <- function(formula, data, ntree = 500, mtry = NULL,\n",
        "                          nodesize = 1, maxdepth = 20, test = NULL) {\n",
        "  # Extract response and predictors\n",
        "  terms <- terms(formula, data = data)\n",
        "  y <- data[, all.vars(terms)[1]]\n",
        "  x <- as.matrix(data[, attr(terms, \"term.labels\"), drop = FALSE])\n",
        "\n",
        "  # Ensure y is binary (0/1)\n",
        "  y <- as.numeric(as.factor(y)) - 1\n",
        "  if (!all(y %in% c(0, 1))) stop(\"Response must be binary\")\n",
        "\n",
        "  # Set default mtry\n",
        "  if (is.null(mtry)) mtry <- floor(ncol(x) / 3)\n",
        "\n",
        "  # Estimate minority class proportion (q*)\n",
        "  q_star <- mean(y == 1)\n",
        "\n",
        "  # Initialize forest\n",
        "  forest <- list()\n",
        "  oob_counts <- rep(0, nrow(x))\n",
        "  oob_probs <- rep(0, nrow(x))\n",
        "\n",
        "  # Build trees\n",
        "  for (b in 1:ntree) {\n",
        "    # Bootstrap sample\n",
        "    idx <- sample(1:nrow(x), nrow(x), replace = TRUE)\n",
        "    oob_idx <- setdiff(1:nrow(x), unique(idx))\n",
        "\n",
        "    # Build tree\n",
        "    tree <- build_tree(x[idx, , drop = FALSE], y[idx], rep(1, length(idx)),\n",
        "                       mtry, nodesize, maxdepth)\n",
        "    forest[[b]] <- tree\n",
        "\n",
        "    # Update OOB predictions\n",
        "    if (length(oob_idx) > 0) {\n",
        "      for (i in oob_idx) {\n",
        "        prob <- predict_tree(tree, x[i, ])\n",
        "        oob_probs[i] <- oob_probs[i] + prob\n",
        "        oob_counts[i] <- oob_counts[i] + 1\n",
        "      }\n",
        "    }\n",
        "  }\n",
        "\n",
        "  # Finalize OOB predictions\n",
        "  oob_pred <- rep(NA, nrow(x))\n",
        "  for (i in 1:nrow(x)) {\n",
        "    if (oob_counts[i] > 0) {\n",
        "      oob_pred[i] <- oob_probs[i] / oob_counts[i] >= q_star\n",
        "    }\n",
        "  }\n",
        "\n",
        "  # Predict on training data\n",
        "  train_probs <- numeric(nrow(x))\n",
        "  for (i in 1:nrow(x)) {\n",
        "    for (b in 1:ntree) {\n",
        "      train_probs[i] <- train_probs[i] + predict_tree(forest[[b]], x[i, ])\n",
        "    }\n",
        "  }\n",
        "  train_probs <- train_probs / ntree\n",
        "  train_pred <- train_probs >= q_star\n",
        "\n",
        "  # G-mean for training\n",
        "  tpr <- mean(train_pred[y == 1] == 1, na.rm = TRUE)\n",
        "  tnr <- mean(train_pred[y == 0] == 0, na.rm = TRUE)\n",
        "  gmean_train <- sqrt(tpr * tnr)\n",
        "\n",
        "  # Variable importance (G-mean based)\n",
        "  var_imp <- numeric(ncol(x))\n",
        "  for (j in 1:ncol(x)) {\n",
        "    x_perm <- x\n",
        "    x_perm[, j] <- sample(x_perm[, j])\n",
        "    perm_probs <- numeric(nrow(x))\n",
        "    for (i in 1:nrow(x)) {\n",
        "      for (b in 1:ntree) {\n",
        "        perm_probs[i] <- perm_probs[i] + predict_tree(forest[[b]], x_perm[i, ])\n",
        "      }\n",
        "    }\n",
        "    perm_probs <- perm_probs / ntree\n",
        "    perm_pred <- perm_probs >= q_star\n",
        "    tpr_perm <- mean(perm_pred[y == 1] == 1, na.rm = TRUE)\n",
        "    tnr_perm <- mean(perm_pred[y == 0] == 0, na.rm = TRUE)\n",
        "    gmean_perm <- sqrt(tpr_perm * tnr_perm)\n",
        "    var_imp[j] <- gmean_train - gmean_perm\n",
        "  }\n",
        "  names(var_imp) <- colnames(x)\n",
        "\n",
        "  # Predict on test data if provided\n",
        "  test_pred <- NULL\n",
        "  test_probs <- NULL\n",
        "  test_gmean <- NULL\n",
        "  if (!is.null(test)) {\n",
        "    test_x <- as.matrix(test[, attr(terms, \"term.labels\"), drop = FALSE])\n",
        "    test_y <- as.numeric(as.factor(test[, all.vars(terms)[1]])) - 1\n",
        "    test_probs <- numeric(nrow(test_x))\n",
        "    for (i in 1:nrow(test_x)) {\n",
        "      for (b in 1:ntree) {\n",
        "        test_probs[i] <- test_probs[i] + predict_tree(forest[[b]], test_x[i, ])\n",
        "      }\n",
        "    }\n",
        "    test_probs <- test_probs / ntree\n",
        "    test_pred <- test_probs >= q_star\n",
        "    tpr_test <- mean(test_pred[test_y == 1] == 1, na.rm = TRUE)\n",
        "    tnr_test <- mean(test_pred[test_y == 0] == 0, na.rm = TRUE)\n",
        "    test_gmean <- sqrt(tpr_test * tnr_test)\n",
        "  }\n",
        "\n",
        "  # Return results\n",
        "  return(list(\n",
        "    forest = forest,\n",
        "    train_pred = train_pred,\n",
        "    train_prob = train_probs,\n",
        "    test_pred = test_pred,\n",
        "    test_prob = test_probs,\n",
        "    oob_pred = oob_pred,\n",
        "    gmean = gmean_train,\n",
        "    test_gmean = test_gmean,\n",
        "    var_imp = var_imp,\n",
        "    q_star = q_star\n",
        "  ))\n",
        "}"
      ],
      "metadata": {
        "id": "b20W5-ijnyHL"
      },
      "execution_count": 9,
      "outputs": []
    },
    {
      "cell_type": "markdown",
      "source": [
        "###  Apply to the Breast Dataset"
      ],
      "metadata": {
        "id": "DjAJRnxln8eS"
      }
    },
    {
      "cell_type": "code",
      "source": [
        "%%R\n",
        "# Fit RFQ model\n",
        "rfq_model <- rfq_imbalanced(\n",
        "  formula = status ~ .,\n",
        "  data = train_data,\n",
        "  ntree = 20,  # Reduced for demonstration\n",
        "  mtry = floor(sqrt(ncol(train_data) - 1)),\n",
        "  nodesize = 5,\n",
        "  maxdepth = 10,\n",
        "  test = test_data\n",
        ")\n",
        "\n",
        "# Print results\n",
        "cat(\"Training G-mean:\", round(rfq_model$gmean, 4), \"\\n\")\n",
        "cat(\"Test G-mean:\", round(rfq_model$test_gmean, 4), \"\\n\")\n",
        "cat(\"Variable Importance:\\n\")\n",
        "print(round(rfq_model$var_imp, 4))\n",
        "cat(\"q* (minority class proportion):\", round(rfq_model$q_star, 4), \"\\n\")"
      ],
      "metadata": {
        "colab": {
          "base_uri": "https://localhost:8080/"
        },
        "id": "ExxvE6B5oCpe",
        "outputId": "269632ba-df6c-47fd-e68c-7413b3fd36fc"
      },
      "execution_count": 10,
      "outputs": [
        {
          "output_type": "stream",
          "name": "stdout",
          "text": [
            "Training G-mean: 0.9399 \n",
            "Test G-mean: 0.6325 \n",
            "Variable Importance:\n",
            "    V1     V2     V3     V4     V5     V6     V7     V8     V9    V10 \n",
            "0.0805 0.0356 0.1173 0.0270 0.0134 0.0134 0.0408 0.0089 0.0089 0.0223 \n",
            "q* (minority class proportion): 0.2258 \n"
          ]
        }
      ]
    },
    {
      "cell_type": "markdown",
      "source": [
        "## Random Forests Quantile Classifier (RFQ) in R\n",
        "\n",
        "This section of tutorial guide you through fitting the Random Forest Quantile-Classifier (RFQ) model on the breast cancer dataset using the `imbalanced()` function from the `randomForestSRC` package in R, as outlined in the [package references](https://www.randomforestsrc.org/articles/imbalance.html). The breast dataset, available in `randomForestSRC`, contains \\~194 observations (after removing NA values) with 32 features (e.g., `mean_radius`, `tsize`, `pnodes`) and a binary response variable `status` (N = non-recurrent, R = recurrent), with an imbalance ratio of ~3.2 (148 non-recurrent vs. 46 recurrent). I’ll describe each step for the requested model fits, validate them using a test dataset, and illustrate how to optimize the classification threshold on training data to improve the G-mean for RFQ. Each step will align with the principles from O'Brien and Ishwaran (2017) for handling imbalanced data.\n",
        "\n"
      ],
      "metadata": {
        "id": "bh7jEhGCLDZA"
      }
    },
    {
      "cell_type": "markdown",
      "source": [
        "### Load and Check Required Libraries"
      ],
      "metadata": {
        "id": "RlLmnBj77AMx"
      }
    },
    {
      "cell_type": "code",
      "source": [
        "%%R\n",
        "packages <- c('tidyverse',\n",
        "              'plyr',\n",
        "              'randomForestSRC',\n",
        "              'mlbench',\n",
        "              'Metrics'\n",
        "         )"
      ],
      "metadata": {
        "id": "9rXvjfapLYED"
      },
      "execution_count": 3,
      "outputs": []
    },
    {
      "cell_type": "markdown",
      "source": [
        "### Install Missing Packages"
      ],
      "metadata": {
        "id": "MDwlBWYYLc1e"
      }
    },
    {
      "cell_type": "code",
      "source": [
        "%%R\n",
        "# Install missing packages\n",
        "new.packages <- packages[!(packages %in% installed.packages(lib='drive/My Drive/R/')[,\"Package\"])]\n",
        "if(length(new.packages)) install.packages(new.packages, lib='drive/My Drive/R/')"
      ],
      "metadata": {
        "id": "PWzWe7xULb2L"
      },
      "execution_count": null,
      "outputs": []
    },
    {
      "cell_type": "markdown",
      "source": [
        "### Verify Installation"
      ],
      "metadata": {
        "id": "HM3Bl4-PLfFF"
      }
    },
    {
      "cell_type": "code",
      "source": [
        "%%R\n",
        "# set library path\n",
        ".libPaths('drive/My Drive/R')\n",
        "# Verify installation\n",
        "cat(\"Installed packages:\\n\")\n",
        "print(sapply(packages, requireNamespace, quietly = TRUE))"
      ],
      "metadata": {
        "colab": {
          "base_uri": "https://localhost:8080/"
        },
        "id": "pHr9zUJvLfNl",
        "outputId": "a26c1dba-7f02-41c7-ab86-c859338acfdc"
      },
      "execution_count": 4,
      "outputs": [
        {
          "output_type": "stream",
          "name": "stdout",
          "text": [
            "Installed packages:\n",
            "      tidyverse            plyr randomForestSRC         mlbench         Metrics \n",
            "           TRUE            TRUE            TRUE            TRUE            TRUE \n"
          ]
        }
      ]
    },
    {
      "cell_type": "markdown",
      "source": [
        "### Load R Packages"
      ],
      "metadata": {
        "id": "2cPLFz1GLlRD"
      }
    },
    {
      "cell_type": "code",
      "source": [
        "%%R\n",
        "# set library path\n",
        ".libPaths('drive/My Drive/R')\n",
        "# Load packages with suppressed messages\n",
        "invisible(lapply(packages, function(pkg) {\n",
        "  suppressPackageStartupMessages(library(pkg, character.only = TRUE))\n",
        "}))"
      ],
      "metadata": {
        "id": "cQl-1GIuLmCD"
      },
      "execution_count": 5,
      "outputs": []
    },
    {
      "cell_type": "markdown",
      "source": [
        "### Check Loaded Packages"
      ],
      "metadata": {
        "id": "AH4vKW2yL1OF"
      }
    },
    {
      "cell_type": "code",
      "source": [
        "%%R\n",
        "# Check loaded packages\n",
        "cat(\"Successfully loaded packages:\\n\")\n",
        "print(search()[grepl(\"package:\", search())])# Check loaded packageswer)"
      ],
      "metadata": {
        "colab": {
          "base_uri": "https://localhost:8080/"
        },
        "id": "Du3QbdUeL1Yw",
        "outputId": "dc65fc5e-520d-44b3-87f4-67e7eb2fbd6d"
      },
      "execution_count": 6,
      "outputs": [
        {
          "output_type": "stream",
          "name": "stdout",
          "text": [
            "Successfully loaded packages:\n",
            " [1] \"package:Metrics\"         \"package:mlbench\"        \n",
            " [3] \"package:randomForestSRC\" \"package:plyr\"           \n",
            " [5] \"package:lubridate\"       \"package:forcats\"        \n",
            " [7] \"package:stringr\"         \"package:dplyr\"          \n",
            " [9] \"package:purrr\"           \"package:readr\"          \n",
            "[11] \"package:tidyr\"           \"package:tibble\"         \n",
            "[13] \"package:ggplot2\"         \"package:tidyverse\"      \n",
            "[15] \"package:tools\"           \"package:stats\"          \n",
            "[17] \"package:graphics\"        \"package:grDevices\"      \n",
            "[19] \"package:utils\"           \"package:datasets\"       \n",
            "[21] \"package:methods\"         \"package:base\"           \n"
          ]
        }
      ]
    },
    {
      "cell_type": "markdown",
      "source": [
        "### Data Preparation\n",
        "\n",
        "First, we load the `breast` dataset from `{randomForestSRC}` package and split it into training (80%) and test (20%) sets, and ensure no missing values, as `imbalanced()` with RFQ or BRF does not handle missing data (it removes them automatically)."
      ],
      "metadata": {
        "id": "euKDzTA_OEl-"
      }
    },
    {
      "cell_type": "code",
      "source": [
        "%%R\n",
        "# Load library and data\n",
        "data(breast, package = \"randomForestSRC\")\n",
        "breast <- na.omit(breast)  # Remove NA values, results in ~194 rows\n",
        "set.seed(123)  # For reproducibility\n",
        "n <- nrow(breast)\n",
        "train_idx <- sample(1:n, round(0.8 * n))  # 80% train (~155 rows)\n",
        "train_data <- breast[train_idx, ]\n",
        "test_data <- breast[-train_idx, ]  # 20% test (~39 rows)\n",
        "\n",
        "# Verify class distribution\n",
        "cat(\"Training set class distribution:\\n\")\n",
        "print(table(train_data$status))  # Expect ~118 N, ~37 R\n",
        "cat(\"Test set class distribution:\\n\")\n",
        "print(table(test_data$status))  # Expect ~30 N, ~9 R"
      ],
      "metadata": {
        "colab": {
          "base_uri": "https://localhost:8080/"
        },
        "id": "OiC3ipq-OHim",
        "outputId": "1df64ff0-aae1-4786-d41c-4dbe3ebc0a1c"
      },
      "execution_count": 7,
      "outputs": [
        {
          "output_type": "stream",
          "name": "stdout",
          "text": [
            "Training set class distribution:\n",
            "\n",
            "  N   R \n",
            "124  31 \n",
            "Test set class distribution:\n",
            "\n",
            " N  R \n",
            "24 15 \n"
          ]
        }
      ]
    },
    {
      "cell_type": "markdown",
      "source": [
        "### Default RFQ Call\n",
        "\n",
        "The default `imbalanced()` call uses the RFQ method with G-mean as the performance metric, AUC splitting, and 3000 trees. RF\n",
        "\n",
        "-   `RFQ (Random Forest Quantile-Classifier)` as per O'Brien and Ishwaran (2017), designed for imbalanced data by estimating conditional probabilities and classifying based on a quantile threshold.\n",
        "-   `Parameters`: `ntree = 3000`, `perf.type = \"gmean\"`, `splitrule = \"auc\"` (maximizes G-mean performance), `nodesize = 1` (default for classification forests).\n",
        "-   `Performance Metric`: G-mean (geometric mean of sensitivity and specificity), suitable for imbalanced data, as it balances true positive rate (TPR, recall) and true negative rate (TNR, specificity).\n",
        "-   `Splitting Rule`: AUC splitting, which optimizes splits to maximize the area under the ROC curve, ideal for imbalanced settings."
      ],
      "metadata": {
        "id": "FgeTUFfedgmV"
      }
    },
    {
      "cell_type": "code",
      "source": [
        "%%R\n",
        "# Formula for model\n",
        "f <- as.formula(status ~ .)\n",
        "# Default RFQ\n",
        "o.rfq_default <- imbalanced(f, train_data)\n",
        "print(o.rfq_default)"
      ],
      "metadata": {
        "colab": {
          "base_uri": "https://localhost:8080/"
        },
        "id": "70oxisindhV9",
        "outputId": "13823240-4881-423a-e0f7-5588fae7ce7d"
      },
      "execution_count": 9,
      "outputs": [
        {
          "output_type": "stream",
          "name": "stdout",
          "text": [
            "                         Sample size: 155\n",
            "           Frequency of class labels: 124, 31\n",
            "                     Number of trees: 3000\n",
            "           Forest terminal node size: 1\n",
            "       Average no. of terminal nodes: 20.231\n",
            "No. of variables tried at each split: 6\n",
            "              Total no. of variables: 32\n",
            "       Resampling used to grow trees: swor\n",
            "    Resample size used to grow trees: 98\n",
            "                            Analysis: RFQ\n",
            "                              Family: class\n",
            "                      Splitting rule: auc *random*\n",
            "       Number of random split points: 10\n",
            "                    Imbalanced ratio: 4\n",
            "                   (OOB) Brier score: 0.16136351\n",
            "        (OOB) Normalized Brier score: 0.64545403\n",
            "                           (OOB) AUC: 0.54448491\n",
            "                      (OOB) Log-loss: 0.51522384\n",
            "                        (OOB) PR-AUC: 0.31648463\n",
            "                        (OOB) G-mean: 0.52413151\n",
            "   (OOB) Requested performance error: 0.47586849\n",
            "\n",
            "Confusion matrix:\n",
            "\n",
            "          predicted\n",
            "  observed  N  R class.error\n",
            "         N 66 58      0.4677\n",
            "         R 15 16      0.4839\n",
            "\n",
            "      (OOB) Misclassification rate: 0.4709677\n"
          ]
        }
      ]
    },
    {
      "cell_type": "markdown",
      "source": [
        "### RF Using Misclassification Error with Gini Splitting\n",
        "\n",
        "Fit a standard random forest (not RFQ) using misclassification error and Gini splitting.\n",
        "\n",
        "-   `Method`: Standard random forest (`method = \"stand\"`), not optimized for imbalanced data.\n",
        "-   `Parameters`: `ntree = 3000`, `perf.type = \"misclass\"` (default for standard RF), `splitrule = \"gini\"`.\n",
        "-   `Performance Metric`: Misclassification error, which can be misleading for imbalanced data as it prioritizes the majority class (non-recurrent).\n",
        "-   `Splitting Rule`: Gini impurity, which measures node impurity but may favor splits that improve majority class accuracy.\n"
      ],
      "metadata": {
        "id": "9w_DIFMAfLIl"
      }
    },
    {
      "cell_type": "code",
      "source": [
        "%%R\n",
        "# Standard RF with misclassification and Gini splitting\n",
        "o.std_misclass_gini <- imbalanced(f, train_data, method = \"stand\", splitrule = \"gini\")\n",
        "print(o.std_misclass_gini)"
      ],
      "metadata": {
        "colab": {
          "base_uri": "https://localhost:8080/"
        },
        "id": "IyniMS25fLSJ",
        "outputId": "646fe88b-8b09-4cc8-a4a4-f3ead3a404cc"
      },
      "execution_count": 10,
      "outputs": [
        {
          "output_type": "stream",
          "name": "stdout",
          "text": [
            "                         Sample size: 155\n",
            "           Frequency of class labels: 124, 31\n",
            "                     Number of trees: 3000\n",
            "           Forest terminal node size: 1\n",
            "       Average no. of terminal nodes: 20.5153\n",
            "No. of variables tried at each split: 6\n",
            "              Total no. of variables: 32\n",
            "       Resampling used to grow trees: swor\n",
            "    Resample size used to grow trees: 98\n",
            "                            Analysis: RF-C\n",
            "                              Family: class\n",
            "                      Splitting rule: gini *random*\n",
            "       Number of random split points: 10\n",
            "                    Imbalanced ratio: 4\n",
            "                   (OOB) Brier score: 0.16573579\n",
            "        (OOB) Normalized Brier score: 0.66294314\n",
            "                           (OOB) AUC: 0.5258845\n",
            "                      (OOB) Log-loss: 0.52629923\n",
            "                        (OOB) PR-AUC: 0.26205657\n",
            "                        (OOB) G-mean: 0.17887962\n",
            "   (OOB) Requested performance error: 0.2, 0.00806452, 0.96774194\n",
            "\n",
            "Confusion matrix:\n",
            "\n",
            "          predicted\n",
            "  observed   N R class.error\n",
            "         N 123 1      0.0081\n",
            "         R  30 1      0.9677\n",
            "\n",
            "      (OOB) Misclassification rate: 0.2\n"
          ]
        }
      ]
    },
    {
      "cell_type": "markdown",
      "source": [
        "### RF Using G-mean Performance with AUC Splitting\n",
        "\n",
        "Fit a standard random forest using G-mean performance and AUC splitting.\n",
        "\n",
        "-   `Method`: Standard random forest (`method = \"stand\"`), but optimized for G-mean.\n",
        "-   `Parameters`: `ntree = 3000`, `perf.type = \"gmean\"`, `splitrule = \"auc\"`.\n",
        "-   `Performance Metric`: G-mean, aligning with RFQ’s focus on balancing TPR and TNR.\n",
        "-   `Splitting Rule`: AUC splitting, enhancing performance on imbalanced data by optimizing ROC performance."
      ],
      "metadata": {
        "id": "ThUECMifg60O"
      }
    },
    {
      "cell_type": "code",
      "source": [
        "%%R\n",
        "# Standard RF with G-mean and AUC splitting\n",
        "o.std_gmean_auc <- imbalanced(f, train_data, method = \"stand\", perf.type = \"gmean\", splitrule = \"auc\")\n",
        "print(o.std_gmean_auc)\n"
      ],
      "metadata": {
        "colab": {
          "base_uri": "https://localhost:8080/"
        },
        "id": "HVf0Bpb3g7jE",
        "outputId": "80dcb7cf-00e8-47b2-f8d5-f05dcd4e24c9"
      },
      "execution_count": 11,
      "outputs": [
        {
          "output_type": "stream",
          "name": "stdout",
          "text": [
            "                         Sample size: 155\n",
            "           Frequency of class labels: 124, 31\n",
            "                     Number of trees: 3000\n",
            "           Forest terminal node size: 1\n",
            "       Average no. of terminal nodes: 20.3267\n",
            "No. of variables tried at each split: 6\n",
            "              Total no. of variables: 32\n",
            "       Resampling used to grow trees: swor\n",
            "    Resample size used to grow trees: 98\n",
            "                            Analysis: RF-C\n",
            "                              Family: class\n",
            "                      Splitting rule: auc *random*\n",
            "       Number of random split points: 10\n",
            "                    Imbalanced ratio: 4\n",
            "                   (OOB) Brier score: 0.16191796\n",
            "        (OOB) Normalized Brier score: 0.64767184\n",
            "                           (OOB) AUC: 0.53668054\n",
            "                      (OOB) Log-loss: 0.52027691\n",
            "                        (OOB) PR-AUC: 0.29999079\n",
            "                        (OOB) G-mean: 0.25297399\n",
            "   (OOB) Requested performance error: 0.74702601\n",
            "\n",
            "Confusion matrix:\n",
            "\n",
            "          predicted\n",
            "  observed   N R class.error\n",
            "         N 123 1      0.0081\n",
            "         R  29 2      0.9355\n",
            "\n",
            "      (OOB) Misclassification rate: 0.1935484\n"
          ]
        }
      ]
    },
    {
      "cell_type": "markdown",
      "source": [
        "### BRF Call with Misclassification Performance\n",
        "\n",
        "Fit a Balanced Random Forest (BRF) using misclassification error.\n",
        "\n",
        "-   `Method`: BRF (Balanced Random Forest, Chen et al., 2004), which undersamples the majority class to match the minority class size per tree.\n",
        "-   `Parameters`: `ntree = 3000`, `perf.type = \"misclass\"`, `splitrule = \"auc\"` (default for BRF).\n",
        "-   `Performance Metric`: Misclassification error, less ideal for imbalanced data but still benefits from BRF’s balancing.\n",
        "-   `Splitting Rule`: AUC splitting, as in RFQ, to optimize for imbalanced data.\n"
      ],
      "metadata": {
        "id": "mTRIKFnZhBER"
      }
    },
    {
      "cell_type": "code",
      "source": [
        "%%R\n",
        "# BRF with misclassification\n",
        "o.brf_misclass <- imbalanced(f, train_data, method = \"brf\", perf.type = \"misclass\")\n",
        "print(o.brf_misclass)"
      ],
      "metadata": {
        "id": "R72m2YemiQR_",
        "colab": {
          "base_uri": "https://localhost:8080/"
        },
        "outputId": "6c7ebbfa-9a91-4e6b-b7d2-5aba8df9458e"
      },
      "execution_count": 12,
      "outputs": [
        {
          "output_type": "stream",
          "name": "stdout",
          "text": [
            "                         Sample size: 155\n",
            "           Frequency of class labels: 124, 31\n",
            "                     Number of trees: 3000\n",
            "           Forest terminal node size: 1\n",
            "       Average no. of terminal nodes: 13.7503\n",
            "No. of variables tried at each split: 6\n",
            "              Total no. of variables: 32\n",
            "       Resampling used to grow trees: swr\n",
            "    Resample size used to grow trees: 62\n",
            "                            Analysis: RF-C\n",
            "                              Family: class\n",
            "                      Splitting rule: auc *random*\n",
            "       Number of random split points: 10\n",
            "                    Imbalanced ratio: 4\n",
            "                   (OOB) Brier score: 0.21516369\n",
            "        (OOB) Normalized Brier score: 0.86065475\n",
            "                           (OOB) AUC: 0.54734651\n",
            "                      (OOB) Log-loss: 0.62231817\n",
            "                        (OOB) PR-AUC: 0.29945077\n",
            "                        (OOB) G-mean: 0.54170502\n",
            "   (OOB) Requested performance error: 0.31612903, 0.24193548, 0.61290323\n",
            "\n",
            "Confusion matrix:\n",
            "\n",
            "          predicted\n",
            "  observed  N  R class.error\n",
            "         N 94 30      0.2419\n",
            "         R 19 12      0.6129\n",
            "\n",
            "      (OOB) Misclassification rate: 0.316129\n"
          ]
        }
      ]
    },
    {
      "cell_type": "code",
      "source": [
        "%%R\n",
        " ## (1) default threshold (2) directly optimized gmean threshold\n",
        " th.1 <- get.imbalanced.performance(o.rfq_default)[\"threshold\"]\n",
        " th.2 <- get.imbalanced.optimize(o.rfq_default)[\"threshold\"]"
      ],
      "metadata": {
        "id": "h1hsRpc9iXIA",
        "colab": {
          "base_uri": "https://localhost:8080/",
          "height": 497
        },
        "outputId": "62a89052-d075-4d65-bb72-1bcce710bc6e"
      },
      "execution_count": 16,
      "outputs": [
        {
          "output_type": "display_data",
          "data": {
            "image/png": "[encoded data removed]"
          },
          "metadata": {}
        }
      ]
    },
    {
      "cell_type": "markdown",
      "source": [
        "### Optimizing Threshold on Training Data\n",
        "\n",
        "RFQ classifies samples based on a quantile threshold $q$, where a sample is assigned to the minority class (R) if the conditional probability $P(R|x) \\geq q$)."
      ],
      "metadata": {
        "id": "GcwZGQimifZw"
      }
    },
    {
      "cell_type": "code",
      "source": [
        "%%R\n",
        "# RFQ with threshold optimization\n",
        "o.rfq <- imbalanced(f, train_data,  importnace =TRUE)\n",
        "print(o.rfq)"
      ],
      "metadata": {
        "id": "fNuirRI1ifhe",
        "colab": {
          "base_uri": "https://localhost:8080/"
        },
        "outputId": "e187fa55-5679-4a97-e842-8fc895262d4d"
      },
      "execution_count": 17,
      "outputs": [
        {
          "output_type": "stream",
          "name": "stdout",
          "text": [
            "                         Sample size: 155\n",
            "           Frequency of class labels: 124, 31\n",
            "                     Number of trees: 3000\n",
            "           Forest terminal node size: 1\n",
            "       Average no. of terminal nodes: 20.359\n",
            "No. of variables tried at each split: 6\n",
            "              Total no. of variables: 32\n",
            "       Resampling used to grow trees: swor\n",
            "    Resample size used to grow trees: 98\n",
            "                            Analysis: RFQ\n",
            "                              Family: class\n",
            "                      Splitting rule: auc *random*\n",
            "       Number of random split points: 10\n",
            "                    Imbalanced ratio: 4\n",
            "                   (OOB) Brier score: 0.15997543\n",
            "        (OOB) Normalized Brier score: 0.6399017\n",
            "                           (OOB) AUC: 0.55176899\n",
            "                      (OOB) Log-loss: 0.51274835\n",
            "                        (OOB) PR-AUC: 0.29812771\n",
            "                        (OOB) G-mean: 0.53201363\n",
            "   (OOB) Requested performance error: 0.46798637\n",
            "\n",
            "Confusion matrix:\n",
            "\n",
            "          predicted\n",
            "  observed  N  R class.error\n",
            "         N 68 56      0.4516\n",
            "         R 15 16      0.4839\n",
            "\n",
            "      (OOB) Misclassification rate: 0.4580645\n"
          ]
        }
      ]
    },
    {
      "cell_type": "code",
      "source": [
        "%%R\n",
        "## (1) default threshold (2) directly optimized gmean threshold\n",
        "th.1 <- get.imbalanced.performance(o.rfq)[\"threshold\"]\n",
        "th.2 <- get.imbalanced.optimize(o.rfq)[\"threshold\"]"
      ],
      "metadata": {
        "id": "5OBl2yLrioxb",
        "colab": {
          "base_uri": "https://localhost:8080/",
          "height": 497
        },
        "outputId": "932da5b1-614b-48b0-b998-a68b3297550e"
      },
      "execution_count": 18,
      "outputs": [
        {
          "output_type": "display_data",
          "data": {
            "image/png": "[encoded data removed]"
          },
          "metadata": {}
        }
      ]
    },
    {
      "cell_type": "markdown",
      "source": [
        "### Training Performance"
      ],
      "metadata": {
        "id": "tObQiqDeir35"
      }
    },
    {
      "cell_type": "code",
      "source": [
        "%%R\n",
        " ## training performance\n",
        "  cat(\"-------- train performance ---------\\n\")\n",
        "  print(get.imbalanced.performance(o.rfq, thresh=th.1))\n",
        "  print(get.imbalanced.performance(o.rfq, thresh=th.2))"
      ],
      "metadata": {
        "colab": {
          "base_uri": "https://localhost:8080/"
        },
        "id": "TWKESTttiw3C",
        "outputId": "01235da3-024d-41f6-f055-9a38c2d0d210"
      },
      "execution_count": 19,
      "outputs": [
        {
          "output_type": "stream",
          "name": "stdout",
          "text": [
            "-------- train performance ---------\n",
            " n.majority  n.minority      iratio   threshold        sens        spec \n",
            "124.0000000  31.0000000   4.0000000   0.2000000   0.5161290   0.5483871 \n",
            "       prec         npv    misclass       brier  brier.norm         auc \n",
            "  0.2222222   0.8192771   0.4580645   0.1599754   0.6399017   0.5517690 \n",
            "    logloss          F1       F1mod pr.auc.rand      pr.auc     F1gmean \n",
            "  0.5127484   0.3106796   0.4218689   0.2000000   0.2981277   0.4213466 \n",
            " F1modgmean       gmean \n",
            "  0.4769413   0.5320136 \n",
            " n.majority  n.minority      iratio   threshold        sens        spec \n",
            "124.0000000  31.0000000   4.0000000   0.2772773   0.4193548   0.7983871 \n",
            "       prec         npv    misclass       brier  brier.norm         auc \n",
            "  0.3421053   0.8461538   0.2774194   0.1599754   0.6399017   0.5517690 \n",
            "    logloss          F1       F1mod pr.auc.rand      pr.auc     F1gmean \n",
            "  0.5127484   0.3768116   0.5166600   0.2000000   0.2981277   0.4777186 \n",
            " F1modgmean       gmean \n",
            "  0.5476427   0.5786255 \n"
          ]
        }
      ]
    },
    {
      "cell_type": "markdown",
      "source": [
        "### Test Performance"
      ],
      "metadata": {
        "id": "4Eyt89Hdi-aQ"
      }
    },
    {
      "cell_type": "code",
      "source": [
        "%%R\n",
        " cat(\"-------- test performance ---------\\n\")\n",
        "  pred.o.rfq <- predict(o.rfq, test_data)\n",
        "  print(get.imbalanced.performance(pred.o.rfq, thresh=th.1))\n",
        "  print(get.imbalanced.performance(pred.o.rfq, thresh=th.2))"
      ],
      "metadata": {
        "id": "BBjbJapEi-rU",
        "colab": {
          "base_uri": "https://localhost:8080/"
        },
        "outputId": "da46ac85-b6ab-4865-b806-95ab2c8bdf3a"
      },
      "execution_count": 20,
      "outputs": [
        {
          "output_type": "stream",
          "name": "stdout",
          "text": [
            "-------- test performance ---------\n",
            " n.majority  n.minority      iratio   threshold        sens        spec \n",
            " 24.0000000  15.0000000   1.6000000   0.2000000   0.7333333   0.5416667 \n",
            "       prec         npv    misclass       brier  brier.norm         auc \n",
            "  0.5000000   0.7647059   0.3846154   0.2393032   0.9572129   0.6388889 \n",
            "    logloss          F1       F1mod pr.auc.rand      pr.auc     F1gmean \n",
            "  0.6808955   0.5945946   0.6137339   0.3846154   0.5823604   0.6124251 \n",
            " F1modgmean       gmean \n",
            "  0.6219948   0.6302557 \n",
            " n.majority  n.minority      iratio   threshold        sens        spec \n",
            " 24.0000000  15.0000000   1.6000000   0.2772773   0.3333333   0.6666667 \n",
            "       prec         npv    misclass       brier  brier.norm         auc \n",
            "  0.3846154   0.6153846   0.4615385   0.2393032   0.9572129   0.6388889 \n",
            "    logloss          F1       F1mod pr.auc.rand      pr.auc     F1gmean \n",
            "  0.6808955   0.3571429   0.4584527   0.3846154   0.5823604   0.4142737 \n",
            " F1modgmean       gmean \n",
            "  0.4649286   0.4714045 \n"
          ]
        }
      ]
    },
    {
      "cell_type": "markdown",
      "source": [
        "### Variable Importance (VIMP)\n",
        "\n",
        "Variable importance (VIMP) is a crucial aspect of RFQ, as it helps identify the most influential features in predicting the minority class. The `randomForestSRC` package provides several methods for calculating VIMP, including:"
      ],
      "metadata": {
        "id": "KHS1QSc5jCF_"
      }
    },
    {
      "cell_type": "markdown",
      "source": [
        "#### Breiman-Cutler VIMP or Blocked VIMP\n",
        "\n",
        "The `blocked VIMP` is a hybrid of Breiman-Cutler and Ishwaran-Kogalur VIMP, which is useful for assessing variable importance in imbalanced datasets. It combines the strengths of both methods to provide a more robust measure of feature importance."
      ],
      "metadata": {
        "id": "JhSgCzLTq_6B"
      }
    },
    {
      "cell_type": "code",
      "source": [
        "%%R\n",
        "# permutation VIMP for BRF with and without blocking\n",
        "## blocked VIMP is a hybrid of Breiman-Cutler/Ishwaran-Kogalur VIMP\n",
        "brf <- imbalanced(f, train_data, method = \"brf\", importance = \"permute\", block.size = 1)\n",
        "brfB <- imbalanced(f, train_data, method = \"brf\", importance = \"permute\", block.size = 10)"
      ],
      "metadata": {
        "id": "oYZG0zhqjCRG"
      },
      "execution_count": 21,
      "outputs": []
    },
    {
      "cell_type": "markdown",
      "source": [
        "#### VIMp for RFQ with and without blocking"
      ],
      "metadata": {
        "id": "rmFDUz6yrK8e"
      }
    },
    {
      "cell_type": "code",
      "source": [
        "%%R\n",
        "## permutation VIMP for RFQ with and without blocking\n",
        "rfq <- imbalanced(f, train_data, importance = \"permute\", block.size = 1)\n",
        "rfqB <- imbalanced(f, train_data, importance = \"permute\", block.size = 10)"
      ],
      "metadata": {
        "id": "xm8T57gJrLs8"
      },
      "execution_count": 23,
      "outputs": []
    },
    {
      "cell_type": "code",
      "source": [
        "%%R\n",
        "# Compare VIMP values\n",
        "imp <- 100 * cbind(brf$importance[, 1], brfB$importance[, 1],\n",
        "                   rfq$importance[, 1], rfqB$importance[, 1])\n",
        "colnames(imp) <- c(\"BRF\", \"BRF-block\", \"RFQ\", \"RFQ-block\")\n",
        "\n",
        "# Debug: Print dimensions\n",
        "cat(\"Number of features:\", nrow(imp), \"\\n\")\n",
        "print(head(imp))"
      ],
      "metadata": {
        "colab": {
          "base_uri": "https://localhost:8080/"
        },
        "id": "W31HDxZtrRnU",
        "outputId": "981d0bf5-7506-49db-a734-b8f9da9adf6c"
      },
      "execution_count": 24,
      "outputs": [
        {
          "output_type": "stream",
          "name": "stdout",
          "text": [
            "Number of features: 32 \n",
            "                         BRF   BRF-block         RFQ    RFQ-block\n",
            "mean_radius      -0.05591719  0.08529359 -0.01812169  0.001197445\n",
            "mean_texture      0.09618539  0.31178854  0.24304790  0.297527886\n",
            "mean_perimeter   -0.08442357 -0.10936363 -0.14427140 -0.028168858\n",
            "mean_area        -0.03923172 -0.13881216 -0.21112480  0.004355814\n",
            "mean_smoothness  -0.11347227 -0.04081026 -0.20055577 -0.193629708\n",
            "mean_compactness  0.09752993  0.12435040  0.03376426  0.259453218\n"
          ]
        }
      ]
    },
    {
      "cell_type": "code",
      "source": [
        "%%R\n",
        "# Barplot\n",
        "# Select top 10 features based on mean VIMP\n",
        "mean_vimp <- rowMeans(imp)\n",
        "top_idx <- order(mean_vimp, decreasing = TRUE)[1:10]\n",
        "imp_top <- imp[top_idx, ]\n",
        "\n",
        "# Melt data for ggplot2\n",
        "imp_df <- reshape2::melt(imp_top, varnames = c(\"Feature\", \"Model\"), value.name = \"VIMP\")\n",
        "imp_df$Feature <- factor(imp_df$Feature, levels = rownames(imp_top))\n",
        "\n",
        "# Create barplot with ggplot2\n",
        "ggplot(imp_df, aes(x = Feature, y = VIMP, fill = Model)) +\n",
        "  geom_bar(stat = \"identity\", position = \"dodge\") +\n",
        "  coord_flip() +  # Flip coordinates for horizontal bars\n",
        "  scale_fill_manual(values = c(\"BRF\" = \"#1B9E77\", \"BRF-block\" = \"#D95F02\",\n",
        "                               \"RFQ\" = \"#7570B3\", \"RFQ-block\" = \"#E7298A\")) +\n",
        "  labs(title = \"Top 10 Feature Importance (VIMP)\",\n",
        "       x = \"Feature\", y = \"VIMP (% Error Increase)\") +\n",
        "  theme_minimal() +\n",
        "  theme(legend.position = \"top\",\n",
        "        axis.text.y = element_text(size = 10),\n",
        "        plot.title = element_text(hjust = 0.5))"
      ],
      "metadata": {
        "colab": {
          "base_uri": "https://localhost:8080/",
          "height": 497
        },
        "id": "uA6GvnKWrUvN",
        "outputId": "8b4bf5dc-ea7e-4328-9e3a-f8c046fc4c11"
      },
      "execution_count": 25,
      "outputs": [
        {
          "output_type": "display_data",
          "data": {
            "image/png": "[encoded data removed]"
          },
          "metadata": {}
        }
      ]
    },
    {
      "cell_type": "markdown",
      "source": [
        "### Confidence intervals for G-mean permutation VIMP using subsampling"
      ],
      "metadata": {
        "id": "ZhDHw_slrcPL"
      }
    },
    {
      "cell_type": "markdown",
      "source": [
        "#### Fit RFQ model with blocked VIMP"
      ],
      "metadata": {
        "id": "vn10DnzRrez1"
      }
    },
    {
      "cell_type": "code",
      "source": [
        "%%R\n",
        "# Fit RFQ model with blocked VIMP\n",
        "rfqB <- tryCatch(\n",
        "  imbalanced(f, train_data, importance = \"permute\", block.size = 10),\n",
        "  error = function(e) {\n",
        "    cat(\"imbalanced failed:\", conditionMessage(e), \"\\n\")\n",
        "    return(NULL)\n",
        "  }\n",
        ")\n",
        "if (is.null(rfqB) || is.null(rfqB$importance) || nrow(rfqB$importance) == 0) {\n",
        "  stop(\"Failed to compute VIMP for rfqB\")\n",
        "}\n",
        "cat(\"VIMP for rfqB (first 5 features):\\n\")\n",
        "print(head(rfqB$importance, 5))"
      ],
      "metadata": {
        "colab": {
          "base_uri": "https://localhost:8080/"
        },
        "id": "da94AfSVrnas",
        "outputId": "fa0397e0-b899-43b9-fede-6b3c6bb3b186"
      },
      "execution_count": 26,
      "outputs": [
        {
          "output_type": "stream",
          "name": "stdout",
          "text": [
            "VIMP for rfqB (first 5 features):\n",
            "                          all  N  R\n",
            "mean_radius      0.0002211232 NA NA\n",
            "mean_texture     0.0002262752 NA NA\n",
            "mean_perimeter   0.0004555529 NA NA\n",
            "mean_area       -0.0013011487 NA NA\n",
            "mean_smoothness  0.0009225098 NA NA\n"
          ]
        }
      ]
    },
    {
      "cell_type": "code",
      "source": [
        "%%R\n",
        "# Fit RFQ model with blocked VIMP\n",
        "rfqB <- imbalanced(f, train_data, importance = \"permute\", block.size = 10)\n",
        "if (is.null(rfqB$importance)) stop(\"No VIMP computed for rfqB\")\n",
        "cat(\"VIMP for rfqB (first 5 features):\\n\")\n",
        "print(head(rfqB$importance, 5))"
      ],
      "metadata": {
        "id": "Tso_TGdcrsXE"
      },
      "execution_count": null,
      "outputs": []
    },
    {
      "cell_type": "markdown",
      "source": [
        "#### Sunbsampling for Confidence Intervals\n",
        "\n",
        "`subsample()` performs subsampling to compute confidence intervals or standard errors for VIMP or prediction error."
      ],
      "metadata": {
        "id": "XDG33IYKrvZC"
      }
    },
    {
      "cell_type": "code",
      "source": [
        "%%R\n",
        "smp.rfqB<- subsample(rfqB, B = 100)"
      ],
      "metadata": {
        "colab": {
          "base_uri": "https://localhost:8080/"
        },
        "id": "lTinId04ryc9",
        "outputId": "7271d5ed-1790-447d-e261-ffbe97636afb"
      },
      "execution_count": 28,
      "outputs": [
        {
          "output_type": "stream",
          "name": "stdout",
          "text": []
        }
      ]
    },
    {
      "cell_type": "markdown",
      "source": [
        "#### Plot VIMP with Confidence Intervals"
      ],
      "metadata": {
        "id": "Q5U9TNnvr14w"
      }
    },
    {
      "cell_type": "code",
      "source": [
        "%%R -w 800 -h 600\n",
        "# Plot VIMP with confidence intervals\n",
        "plot(smp.rfqB, cex.axis = .7)"
      ],
      "metadata": {
        "colab": {
          "base_uri": "https://localhost:8080/",
          "height": 617
        },
        "id": "KWVzKHPor308",
        "outputId": "1fc04f6f-18cd-4f72-dc4c-e592ede2ce9f"
      },
      "execution_count": 30,
      "outputs": [
        {
          "output_type": "display_data",
          "data": {
            "image/png": "[encoded data removed]"
          },
          "metadata": {}
        }
      ]
    },
    {
      "cell_type": "markdown",
      "source": [
        "## Summary and Conclusion\n",
        "\n",
        "The Random Forests Quantile Classifier (RFQ) is a powerful tool for tackling imbalanced data classification. By estimating conditional quantiles and incorporating cost-sensitive learning or balanced sampling, RFQ enhances the prediction of minority class instances, making it suitable for critical applications. Its integration in the `randomForestSRC` package, with features like ( G )-mean-based variable importance, provides a practical and effective solution for imbalanced datasets.[ ](https://www.randomforestsrc.org/articles/imbalance.html)[ ](https://www.randomforestsrc.org/articles/getstarted.html)"
      ],
      "metadata": {
        "id": "_j759RVMQMut"
      }
    },
    {
      "cell_type": "markdown",
      "source": [
        "## References\n",
        "\n",
        "1. Ishwaran, H., O’Brien, R., Lu, M., & Kogalur, U. B. (2021). randomForestSRC: Random Forests Quantile Classifier (RFQ) Vignette. http://randomforestsrc.org/articles/imbalance.html[ ](https://www.randomforestsrc.org/articles/imbalance.html)\n",
        "\n",
        "2.  O’Brien, R., & Ishwaran, H. (2019). A random forests quantile classifier for class imbalanced data. Pattern Recognition, 90, 232–249[ ](https://www.randomforestsrc.org/articles/imbalance.html)\n",
        "\n",
        "3.  Breiman, L. (2001). Random forests. Machine Learning, 45, 5–32[ ](https://www.randomforestsrc.org/articles/imbalance.html)\n"
      ],
      "metadata": {
        "id": "SaZTnZx3QPGI"
      }
    }
  ]
}