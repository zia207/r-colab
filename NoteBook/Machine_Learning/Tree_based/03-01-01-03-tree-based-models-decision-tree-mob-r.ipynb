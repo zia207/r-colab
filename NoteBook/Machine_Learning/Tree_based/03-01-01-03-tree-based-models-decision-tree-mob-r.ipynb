{
  "nbformat": 4,
  "nbformat_minor": 0,
  "metadata": {
    "colab": {
      "provenance": [],
      "toc_visible": true,
      "authorship_tag": "ABX9TyMReO07xXlRh+KQ5UPeqM/n",
      "include_colab_link": true
    },
    "kernelspec": {
      "name": "python3",
      "display_name": "Python 3"
    },
    "language_info": {
      "name": "python"
    }
  },
  "cells": [
    {
      "cell_type": "markdown",
      "metadata": {
        "id": "view-in-github",
        "colab_type": "text"
      },
      "source": [
        "<a href=\"https://colab.research.google.com/github/zia207/r-colab/blob/main/NoteBook/Machine_Learning/Tree_based/03-01-01-03-tree-based-models-decision-tree-mob-r.ipynb\" target=\"_parent\"><img src=\"https://colab.research.google.com/assets/colab-badge.svg\" alt=\"Open In Colab\"/></a>"
      ]
    },
    {
      "cell_type": "markdown",
      "source": [
        "![alt text](http://drive.google.com/uc?export=view&id=1bLQ3nhDbZrCCqy_WCxxckOne2lgVvn3l)"
      ],
      "metadata": {
        "id": "4qrItz_mJNWw"
      }
    },
    {
      "cell_type": "markdown",
      "source": [
        "# 1.3 Model-based Recursive Partitioning (MOB)\n",
        "\n",
        "**Model-based Recursive Partitioning (MOB)** MOB is a powerful technique for analyzing complex datasets where relationships between variables may vary across different segments of the data. It is particularly useful in fields like epidemiology, finance, and social sciences, where understanding how relationships change across subgroups can provide valuable insights.\n",
        "\n",
        "\n"
      ],
      "metadata": {
        "id": "Dzp9ZseROTcY"
      }
    },
    {
      "cell_type": "markdown",
      "source": [
        "## Overview\n",
        "\n",
        "MOBis a statistical method that combines the strengths of regression modeling and recursive partitioning (e.g., decision trees). It partitions data into subgroups based on covariates, where each subgroup is fitted with a parametric model (e.g., linear regression, logistic regression). MOB is particularly useful for detecting parameter instability in models across different subgroups and capturing heterogeneity in data.\n",
        "\n",
        "MOB recursively splits the data into segments by testing whether model parameters vary significantly across partitions defined by partitioning variables. It balances model fit within subgroups and ensures that splits are statistically justified. This approach allows for a more nuanced understanding of the relationships between variables, as it can reveal how the effect of an explanatory variable on the response variable changes across different subgroups.\n"
      ],
      "metadata": {
        "id": "mLkAu88QToVr"
      }
    },
    {
      "cell_type": "markdown",
      "source": [
        "### Key Features of MOB\n",
        "\n",
        "- `Model-based`: Fits a parametric model to each subgroup.\n",
        "- `Recursive partitioning`: Splits data based on covariates that cause significant parameter instability.\n",
        "- `Statistical rigor`: Uses formal statistical tests to decide splits, avoiding overfitting.\n",
        "- `Flexibility`: Can be applied to various parametric models (e.g., linear, logistic, or generalized linear models)."
      ],
      "metadata": {
        "id": "NRj0RBEQuqZc"
      }
    },
    {
      "cell_type": "markdown",
      "source": [
        "### How it Works\n",
        "\n",
        "Below is a step-by-step explanation of how MOB works, with a focus on clarity and conciseness:\n",
        "\n",
        "1. Specify the Parametric Model\n",
        "\n",
        "   - Define the parametric model to fit the data (e.g., linear regression: $Y = \\beta_0 + \\beta_1X + \\epsilon$).\n",
        "   - Identify the response variable ($Y$), explanatory variables ($X$), and potential partitioning variables ($Z$) that may induce parameter instability (e.g., age, gender).\n",
        "\n",
        "2. Fit the Model to the Entire Dataset\n",
        "\n",
        "   - Estimate the parameters of the model (e.g., $\\beta_0, \\beta_1$) using the full dataset.\n",
        "   - This serves as the baseline model before partitioning.\n",
        "\n",
        "3. Test for Parameter Instability\n",
        "\n",
        "   - For each partitioning variable $Z_j$ (e.g., age, gender), perform a statistical test to check if the model parameters vary significantly across different values of $Z_j$.\n",
        "   - Common tests include fluctuation tests or score-based tests (e.g., generalized M-fluctuation tests).\n",
        "   - The null hypothesis ($H_0$) is that the parameters are stable across all values of $Z_j$. If $H_0$ is rejected, a split is justified.\n",
        "\n",
        "4. Select the Partitioning Variable and Split Point\n",
        "\n",
        "   - Among all partitioning variables, choose the one with the most significant parameter instability (e.g., smallest p-value or largest test statistic).\n",
        "   - For continuous partitioning variables, select the optimal split point (e.g., age < 30 vs. age ≥ 30) that maximizes the improvement in model fit or minimizes a criterion like AIC/BIC.\n",
        "   - For categorical variables, splits are based on category groupings.\n",
        "\n",
        "5. Split the Data\n",
        "\n",
        "   - Divide the dataset into two (or more) subgroups based on the selected partitioning variable and split point.\n",
        "   - For example, if age is chosen with a split at 30, create two subsets: one for age < 30 and one for age ≥ 30.\n",
        "\n",
        "6. Fit Models to Subgroups\n",
        "\n",
        "   - Fit the specified parametric model to each subgroup separately, estimating new parameters for each.\n",
        "   - This allows the model to capture heterogeneity in the subgroups.\n",
        "\n",
        "7. Repeat the Process Recursively\n",
        "\n",
        "   - For each subgroup, repeat steps 3–6: test for parameter instability, select a partitioning variable and split point, split the data, and fit models.\n",
        "   - Continue partitioning until no further significant parameter instability is detected (e.g., `p-values` exceed a threshold) or a stopping criterion is met (e.g., minimum subgroup size, maximum tree depth).\n",
        "\n",
        "8. Apply Stopping Criteria\n",
        "\n",
        "   - Stop partitioning when:\n",
        "     - No partitioning variable shows significant parameter instability.\n",
        "     - The subgroup size is too small (user-defined minimum size).\n",
        "     - A maximum number of splits or tree depth is reached.\n",
        "     - Model fit improvements are negligible (e.g., based on A`IC/BIC`).\n",
        "\n",
        "9. Output the Partitioned Model\n",
        "   - The final output is a tree-like structure where each terminal node (leaf) represents a subgroup with its own fitted parametric model.\n",
        "   - Each node includes the estimated parameters and details of the splits (e.g., variable and split point).\n",
        "\n",
        "10. Interpret and Validate\n",
        "    - Interpret the tree to understand how covariates influence parameter heterogeneity.\n",
        "    - Validate the model using techniques like cross-validation or out-of-sample testing to ensure generalizability and avoid overfitting.\n"
      ],
      "metadata": {
        "id": "Vn-U0DinTuIv"
      }
    },
    {
      "cell_type": "markdown",
      "source": [
        "The below figure summarizes the workflow of a Model-based Recursive Partitioning (MOB):\n",
        "\n",
        "![alt text](http://drive.google.com/uc?export=view&id=1tbjXNKju9Zaivx67AzTn3wHOX3C4CotK)"
      ],
      "metadata": {
        "id": "-1hM2cPkdVdi"
      }
    },
    {
      "cell_type": "markdown",
      "source": [
        "\n",
        "### Advantages of MOB\n",
        "\n",
        "- Captures heterogeneity in model parameters across subgroups.\n",
        "- Statistically rigorous due to formal hypothesis testing.\n",
        "- Interpretable tree structure with parametric models in each node."
      ],
      "metadata": {
        "id": "Odu-44w7d2kE"
      }
    },
    {
      "cell_type": "markdown",
      "source": [
        "### Limitations\n",
        "\n",
        "- Computationally intensive for large datasets or many partitioning variables.\n",
        "- Assumes the parametric model is correctly specified.\n",
        "- May overfit if stopping criteria are not stringent."
      ],
      "metadata": {
        "id": "nw4N0yFXvQWI"
      }
    },
    {
      "cell_type": "markdown",
      "source": [
        "## Setup R in Python Runtype"
      ],
      "metadata": {
        "id": "E33fo5sKeDeK"
      }
    },
    {
      "cell_type": "markdown",
      "source": [
        "### Install rpy2"
      ],
      "metadata": {
        "id": "SDp3ULld8Gb9"
      }
    },
    {
      "cell_type": "code",
      "source": [
        "!pip uninstall rpy2 -y\n",
        "!pip install rpy2==3.5.1\n",
        "%load_ext rpy2.ipython"
      ],
      "metadata": {
        "id": "CiM6y-Mw8AJp",
        "colab": {
          "base_uri": "https://localhost:8080/"
        },
        "outputId": "7be41bf1-2d95-480e-df99-3e061670f537"
      },
      "execution_count": 1,
      "outputs": [
        {
          "output_type": "stream",
          "name": "stdout",
          "text": [
            "Found existing installation: rpy2 3.5.17\n",
            "Uninstalling rpy2-3.5.17:\n",
            "  Successfully uninstalled rpy2-3.5.17\n",
            "Collecting rpy2==3.5.1\n",
            "  Downloading rpy2-3.5.1.tar.gz (201 kB)\n",
            "\u001b[2K     \u001b[90m━━━━━━━━━━━━━━━━━━━━━━━━━━━━━━━━━━━━━━━\u001b[0m \u001b[32m201.7/201.7 kB\u001b[0m \u001b[31m3.7 MB/s\u001b[0m eta \u001b[36m0:00:00\u001b[0m\n",
            "\u001b[?25h  Preparing metadata (setup.py) ... \u001b[?25l\u001b[?25hdone\n",
            "Requirement already satisfied: cffi>=1.10.0 in /usr/local/lib/python3.11/dist-packages (from rpy2==3.5.1) (1.17.1)\n",
            "Requirement already satisfied: jinja2 in /usr/local/lib/python3.11/dist-packages (from rpy2==3.5.1) (3.1.6)\n",
            "Requirement already satisfied: pytz in /usr/local/lib/python3.11/dist-packages (from rpy2==3.5.1) (2025.2)\n",
            "Requirement already satisfied: tzlocal in /usr/local/lib/python3.11/dist-packages (from rpy2==3.5.1) (5.3.1)\n",
            "Requirement already satisfied: pycparser in /usr/local/lib/python3.11/dist-packages (from cffi>=1.10.0->rpy2==3.5.1) (2.22)\n",
            "Requirement already satisfied: MarkupSafe>=2.0 in /usr/local/lib/python3.11/dist-packages (from jinja2->rpy2==3.5.1) (3.0.2)\n",
            "Building wheels for collected packages: rpy2\n",
            "  Building wheel for rpy2 (setup.py) ... \u001b[?25l\u001b[?25hdone\n",
            "  Created wheel for rpy2: filename=rpy2-3.5.1-cp311-cp311-linux_x86_64.whl size=314978 sha256=30a8a41415fbbcf2212dabd8a468958fdae1a0d99583aecac28754e3919e8e32\n",
            "  Stored in directory: /root/.cache/pip/wheels/e9/55/d1/47be85a5f3f1e1f4d1e91cb5e3a4dcb40dd72147f184c5a5ef\n",
            "Successfully built rpy2\n",
            "Installing collected packages: rpy2\n",
            "Successfully installed rpy2-3.5.1\n"
          ]
        }
      ]
    },
    {
      "cell_type": "markdown",
      "source": [
        "### Mount Google Drive"
      ],
      "metadata": {
        "id": "O1zeuaCowiBt"
      }
    },
    {
      "cell_type": "code",
      "source": [
        "from google.colab import drive\n",
        "drive.mount('/content/drive')"
      ],
      "metadata": {
        "colab": {
          "base_uri": "https://localhost:8080/"
        },
        "id": "9J-4ie4bwiJ1",
        "outputId": "11c540ea-e413-478e-83b0-e45702f01d81"
      },
      "execution_count": 2,
      "outputs": [
        {
          "output_type": "stream",
          "name": "stdout",
          "text": [
            "Mounted at /content/drive\n"
          ]
        }
      ]
    },
    {
      "cell_type": "markdown",
      "source": [
        "##  Model-based Recursive Partitioning (MOB) in R from Scratch\n",
        "\n",
        "To perform Model-based Recursive Partitioning (MOB) in R without using any packages (e.g., `partykit`), we’ll implement the algorithm from scratch using base R. We’ll follow the steps outlined in your flowchart, using synthetic data with a linear regression model as the parametric model. The implementation will include fitting linear models, testing for parameter instability, selecting split points, and recursively partitioning the data, all without external packages. The code will be concise yet complete, with explanations for each step."
      ],
      "metadata": {
        "id": "UdMcXPIF4Bly"
      }
    },
    {
      "cell_type": "markdown",
      "source": [
        "### Data\n",
        "\n",
        "\n"
      ],
      "metadata": {
        "id": "ztl1QBDb4MYe"
      }
    },
    {
      "cell_type": "code",
      "source": [
        "%%R\n",
        "# Set random seed for reproducibility\n",
        "set.seed(123)\n",
        "\n",
        "# Step 1: Generate Synthetic Data\n",
        "n <- 200\n",
        "X <- rnorm(n, 0, 1)  # Explanatory variable\n",
        "Z1 <- runif(n, 20, 80)  # Continuous partitioning variable (age-like)\n",
        "Z2 <- sample(c(0, 1), n, replace = TRUE)  # Categorical partitioning variable (gender-like)\n",
        "epsilon <- rnorm(n, 0, 0.5)  # Noise\n",
        "\n",
        "# Response variable with heterogeneity based on Z1\n",
        "Y <- ifelse(Z1 < 50, 1 + 2 * X + epsilon, 3 + 0.5 * X + epsilon)\n",
        "\n",
        "# Create data frame\n",
        "data <- data.frame(Y = Y, X = X, Z1 = Z1, Z2 = Z2)"
      ],
      "metadata": {
        "id": "q82MNCn64Q0w"
      },
      "execution_count": 3,
      "outputs": []
    },
    {
      "cell_type": "markdown",
      "source": [
        "### Define Functions for MOB\n",
        "\n",
        "This R code implements Model-based Recursive Partitioning (MOB) in base R without external packages, following the flowchart for partitioning data based on parameter instability in a linear regression model. Below is a brief explanation of each function:\n",
        "\n",
        "1. `fit_lm(data, x_col, y_col)`:\n",
        "   - Fits a linear regression model ($Y \\sim X$)) using `lm` on the input data.\n",
        "   - Inputs: `data` (data frame), `x_col` (explanatory variable name), `y_col` (response variable name).\n",
        "   - Returns: A list with model coefficients (`params`), residuals (`resid`), and the model object (`model`).\n",
        "\n",
        "2. `instability_test(data, x_col, y_col, z_col, is_continuous = TRUE)`:\n",
        "   - Tests for parameter instability in the linear model across values of a partitioning variable $Z$).\n",
        "   - For **continuous** $Z$):\n",
        "     - Tests multiple split points (10th to 90th percentiles of $Z$).\n",
        "     - Splits data into two groups at each point, fits models, and computes a test statistic: sum of squared parameter differences divided by residual variance.\n",
        "     - Selects the split with the highest statistic.\n",
        "     - Computes a p-value using a chi-squared test (2 df).\n",
        "   - For **categorical** $Z$:\n",
        "     - Compares parameters for each category against the full model’s parameters.\n",
        "     - Uses the same test statistic and p-value calculation.\n",
        "   - Returns: List with test statistic (`stat`), p-value (`p_value`), and best split point (`split`, NULL for categorical).\n",
        "\n",
        "3. `mob_split(data, x_col, y_col, z_cols, alpha = 0.05, min_size = 20)`:\n",
        "   - Identifies the best partitioning variable and split point among `z_cols`.\n",
        "   - Calls `instability_test` for each $Z$, selecting the one with the lowest p-value (most significant instability).\n",
        "   - If p-value < `alpha`, splits data:\n",
        "     - Continuous: Splits at the best point (e.g., $Z_1 < 50$).\n",
        "     - Categorical: Splits on the most frequent category vs. others.\n",
        "   - Ensures subgroups have at least `min_size` observations.\n",
        "   - Returns: List with selected variable (`z`), split point (`split`), subgroups (`group1`, `group2`), and split description (`split_info`).\n",
        "\n",
        "4. `mob_recursive(data, x_col, y_col, z_cols, alpha = 0.05, min_size = 20, max_depth = 3, depth = 0)`:\n",
        "   - Recursively partitions data:\n",
        "     - Stops if `depth >= max_depth` or `nrow(data) < min_size`, returning a leaf node with model parameters.\n",
        "     - Calls `mob_split` to find the best split.\n",
        "     - If no valid split, returns a leaf node.\n",
        "     - Otherwise, recurses on subgroups (`group1`, `group2`), building a tree.\n",
        "   - Returns: A tree node (list) with split details or leaf parameters.\n",
        "\n",
        "5. `print_tree(node, indent = \"\")`:\n",
        "   - Prints the tree structure:\n",
        "     - For leaves: Displays sample size and model parameters.\n",
        "     - For splits: Shows split condition and recursively prints left/right subtrees with indentation.\n"
      ],
      "metadata": {
        "id": "4BpOoaj34eBU"
      }
    },
    {
      "cell_type": "code",
      "source": [
        "%%R\n",
        "# Define Functions for MOB\n",
        "# Fit linear regression model\n",
        "fit_lm <- function(data, x_col, y_col) {\n",
        "  model <- lm(data[[y_col]] ~ data[[x_col]])\n",
        "  return(list(params = coef(model), resid = residuals(model), model = model))\n",
        "}\n",
        "\n",
        "# Parameter instability test\n",
        "instability_test <- function(data, x_col, y_col, z_col, is_continuous = TRUE) {\n",
        "  full_model <- fit_lm(data, x_col, y_col)\n",
        "  params <- full_model$params\n",
        "  resid_var <- var(full_model$resid)\n",
        "  if (is_continuous) {\n",
        "    # For continuous Z, test multiple split points\n",
        "    z_values <- sort(unique(data[[z_col]]))\n",
        "    z_values <- z_values[z_values > quantile(data[[z_col]], 0.1) &\n",
        "                         z_values < quantile(data[[z_col]], 0.9)]  # Avoid extreme splits\n",
        "    max_stat <- 0\n",
        "    best_split <- NULL\n",
        "    for (split in z_values) {\n",
        "      group1 <- data[data[[z_col]] < split, ]\n",
        "      group2 <- data[data[[z_col]] >= split, ]\n",
        "      if (nrow(group1) < 20 || nrow(group2) < 20) next  # Minimum subgroup size\n",
        "      params1 <- fit_lm(group1, x_col, y_col)$params\n",
        "      params2 <- fit_lm(group2, x_col, y_col)$params\n",
        "      # Test statistic: sum of squared parameter differences\n",
        "      stat <- sum((params1 - params2)^2) / resid_var\n",
        "      if (stat > max_stat) {\n",
        "        max_stat <- stat\n",
        "        best_split <- split\n",
        "      }\n",
        "    }\n",
        "    p_value <- pchisq(max_stat, df = 2, lower.tail = FALSE)  # Chi-squared test\n",
        "    return(list(stat = max_stat, p_value = p_value, split = best_split))\n",
        "  } else {\n",
        "    # For categorical Z, test across categories\n",
        "    categories <- unique(data[[z_col]])\n",
        "    stats <- numeric(length(categories))\n",
        "    for (i in seq_along(categories)) {\n",
        "      cat <- categories[i]\n",
        "      group <- data[data[[z_col]] == cat, ]\n",
        "      if (nrow(group) < 20) next\n",
        "      params_g <- fit_lm(group, x_col, y_col)$params\n",
        "      stats[i] <- sum((params - params_g)^2) / resid_var\n",
        "    }\n",
        "    max_stat <- max(stats, na.rm = TRUE)\n",
        "    p_value <- pchisq(max_stat, df = 2, lower.tail = FALSE)\n",
        "    return(list(stat = max_stat, p_value = p_value, split = NULL))\n",
        "  }\n",
        "}\n",
        "\n",
        "# MOB split function\n",
        "mob_split <- function(data, x_col, y_col, z_cols, alpha = 0.05, min_size = 20) {\n",
        "  best_z <- NULL\n",
        "  best_stat <- 0\n",
        "  best_p <- 1\n",
        "  best_split <- NULL\n",
        "  for (z_col in z_cols) {\n",
        "    is_continuous <- is.numeric(data[[z_col]])\n",
        "    test <- instability_test(data, x_col, y_col, z_col, is_continuous)\n",
        "    if (test$p_value < best_p) {\n",
        "      best_p <- test$p_value\n",
        "      best_stat <- test$stat\n",
        "      best_z <- z_col\n",
        "      best_split <- test$split\n",
        "    }\n",
        "  }\n",
        "  if (best_p >= alpha || is.null(best_z)) {\n",
        "    return(list(z = NULL, split = NULL, group1 = NULL, group2 = NULL, split_info = NULL))\n",
        "  }\n",
        "  if (is.numeric(data[[best_z]])) {\n",
        "    group1 <- data[data[[best_z]] < best_split, ]\n",
        "    group2 <- data[data[[best_z]] >= best_split, ]\n",
        "    split_info <- paste0(best_z, \" < \", round(best_split, 2))\n",
        "  } else {\n",
        "    mode_z <- names(sort(table(data[[best_z]]), decreasing = TRUE))[1]\n",
        "    group1 <- data[data[[best_z]] == mode_z, ]\n",
        "    group2 <- data[data[[best_z]] != mode_z, ]\n",
        "    split_info <- paste0(best_z, \" = \", mode_z)\n",
        "  }\n",
        "  if (nrow(group1) < min_size || nrow(group2) < min_size) {\n",
        "    return(list(z = NULL, split = NULL, group1 = NULL, group2 = NULL, split_info = NULL))\n",
        "  }\n",
        "殊\n",
        "  return(list(z = best_z, split = best_split, group1 = group1, group2 = group2, split_info = split_info))\n",
        "}\n",
        "\n",
        "# Recursive MOB function\n",
        "mob_recursive <- function(data, x_col, y_col, z_cols, alpha = 0.05, min_size = 20, max_depth = 3, depth = 0) {\n",
        "  if (depth >= max_depth || nrow(data) < min_size) {\n",
        "    model <- fit_lm(data, x_col, y_col)\n",
        "    return(list(params = model$params, n = nrow(data), depth = depth, leaf = TRUE))\n",
        "  }\n",
        "  split_result <- mob_split(data, x_col, y_col, z_cols, alpha, min_size)\n",
        "  if (is.null(split_result$z)) {\n",
        "    model <- fit_lm(data, x_col, y_col)\n",
        "    return(list(params = model$params, n = nrow(data), depth = depth, leaf = TRUE))\n",
        "  }\n",
        "  left <- mob_recursive(split_result$group1, x_col, y_col, z_cols, alpha, min_size, max_depth, depth + 1)\n",
        "  right <- mob_recursive(split_result$group2, x_col, y_col, z_cols, alpha, min_size, max_depth, depth + 1)\n",
        "  return(list(split_var = split_result$z, split_info = split_result$split_info,\n",
        "              left = left, right = right, depth = depth, leaf = FALSE))\n",
        "}\n",
        "\n",
        "# Print tree structure\n",
        "print_tree <- function(node, indent = \"\") {\n",
        "  if (node$leaf) {\n",
        "    cat(sprintf(\"%sLeaf: n=%d, params=[%.2f, %.2f]\\n\", indent, node$n, node$params[1], node$params[2]))\n",
        "  } else {\n",
        "    cat(sprintf(\"%sSplit: %s\\n\", indent, node$split_info))\n",
        "    print_tree(node$left, paste0(indent, \"  \"))\n",
        "    print_tree(node$right, paste0(indent, \"  \"))\n",
        "  }\n",
        "}"
      ],
      "metadata": {
        "id": "6C-2iM4ju9qS"
      },
      "execution_count": 4,
      "outputs": []
    },
    {
      "cell_type": "markdown",
      "source": [
        "### Prediction function\n",
        "\n",
        "- Predicts  $Y$ by traversing tree: applies leaf’s linear model or splits based on continuous (`<`) or categorical (`=`) conditions."
      ],
      "metadata": {
        "id": "3JyaHlfB3R4f"
      }
    },
    {
      "cell_type": "code",
      "source": [
        "%%R\n",
        "# prediction function\n",
        "predict_tree <- function(node, row) {\n",
        "  if (node$leaf) {\n",
        "    return(node$params[1] + node$params[2] * row[[\"X\"]])\n",
        "  }\n",
        "  if (is.numeric(row[[node$split_var]])) {\n",
        "    split_val <- as.numeric(sub(\".*<\\\\s*([0-9.]+).*\", \"\\\\1\", node$split_info))\n",
        "    if (row[[node$split_var]] < split_val) {\n",
        "      return(predict_tree(node$left, row))\n",
        "    } else {\n",
        "      return(predict_tree(node$right, row))\n",
        "    }\n",
        "  } else {\n",
        "    split_val <- sub(\".*=\\\\s*(\\\\w+).*\", \"\\\\1\", node$split_info)\n",
        "    if (row[[node$split_var]] == split_val) {\n",
        "      return(predict_tree(node$left, row))\n",
        "    } else {\n",
        "      return(predict_tree(node$right, row))\n",
        "    }\n",
        "  }\n",
        "}"
      ],
      "metadata": {
        "id": "j_PEQswH3SGX"
      },
      "execution_count": 5,
      "outputs": []
    },
    {
      "cell_type": "markdown",
      "source": [
        "### Fit and Validate the MOB Model"
      ],
      "metadata": {
        "id": "vJ08RKtk5RRN"
      }
    },
    {
      "cell_type": "code",
      "source": [
        "%%R\n",
        "# Run MOB\n",
        "z_cols <- c(\"Z1\", \"Z2\")\n",
        "tree <- mob_recursive(data, \"X\", \"Y\", z_cols, alpha = 0.05, min_size = 20, max_depth = 3)\n",
        "\n",
        "# Step 4: Output the Tree\n",
        "cat(\"MOB Tree Structure:\\n\")\n",
        "print_tree(tree)\n",
        "\n",
        "# Step 5: Validate (Out-of-sample MSE)\n",
        "train_idx <- sample(1:n, size = floor(0.8 * n))\n",
        "train_data <- data[train_idx, ]\n",
        "test_data <- data[-train_idx, ]\n",
        "\n",
        "# Fit tree on training data\n",
        "tree_train <- mob_recursive(train_data, \"X\", \"Y\", z_cols, alpha = 0.05, min_size = 20, max_depth = 3)\n",
        "\n",
        "# Compute test predictions\n",
        "test_predictions <- apply(test_data, 1, function(row) predict_tree(tree_train, as.list(row)))\n",
        "test_mse <- mean((test_data$Y - test_predictions)^2)\n",
        "cat(sprintf(\"\\nOut-of-sample MSE: %.4f\\n\", test_mse))"
      ],
      "metadata": {
        "id": "uRm4jHSs5d2s",
        "colab": {
          "base_uri": "https://localhost:8080/"
        },
        "outputId": "11599889-29e0-4928-f1a4-c7c14baba827"
      },
      "execution_count": 6,
      "outputs": [
        {
          "output_type": "stream",
          "name": "stdout",
          "text": [
            "MOB Tree Structure:\n",
            "Leaf: n=200, params=[2.05, 1.22]\n",
            "\n",
            "Out-of-sample MSE: 1.6635\n"
          ]
        }
      ]
    },
    {
      "cell_type": "markdown",
      "source": [
        "## Model-based Recursive Partitioning (MOB) in R using {partykit}\n",
        "\n",
        "The {partykit} package is a powerful and flexible tool for creating and analyzing tree-based models in R. It provides a comprehensive framework for building Model-based Recursive Partitioning (MOB) and other tree-based methods, allowing users to fit, manipulate, visualize, and analyze decision trees effectively. Below is a concise list of the primary functions in {partykit}, based on its core functionality:\n",
        "\n",
        "1.  `ctree`:\n",
        "    -   Fits Conditional Inference Trees for classification and regression.\n",
        "    -   Uses statistical hypothesis tests (e.g., permutation tests) for unbiased variable selection and splitting.\n",
        "    -   Example: `ctree(Species ~ ., data = iris)`.\n",
        "2.  `mob`:\n",
        "    -   Fits Model-based Recursive Partitioning, combining tree structures with parametric models (e.g., linear regression) at terminal nodes.\n",
        "    -   Useful for capturing heterogeneous effects in data.\n",
        "    -   Example: `mob(medv ~ rm | crim, data = BostonHousing, model = linearModel)`.\n",
        "3.  `lmtree` and `glmtree`:\n",
        "    -   Specialized functions for Linear Model Trees (`lmtree`) and Generalized Linear Model Trees (`glmtree`).\n",
        "    -   Partition data and fit linear or generalized linear models in terminal nodes.\n",
        "    -   Example: `lmtree(medv ~ rm + crim, data = BostonHousing)`.\n",
        "4.  `cforest`:\n",
        "    -   Implements Conditional Random Forests, an ensemble of CITs for improved prediction.\n",
        "    -   Combines the unbiased splitting of `ctree` with bagging.\n",
        "    -   Example: `cforest(Species ~ ., data = iris)`.\n",
        "5.  `plot.party`:\n",
        "    -   Visualizes tree structures with customizable node and edge displays.\n",
        "    -   Supports integration with `ggparty` for advanced plotting.\n",
        "    -   Example: `plot(ctree_model)`.\n",
        "6.  `predict.party`:\n",
        "    -   Generates predictions from fitted `partykit` models (e.g., `ctree`, `cforest`) on new data.\n",
        "    -   Supports classification (class or probabilities) and regression (continuous values).\n",
        "    -   Example: `predict(ctree_model, newdata = test_data)`.\n",
        "7.  `varimp`:\n",
        "    -   Computes variable importance for `cforest` models, measuring the impact of predictors on prediction accuracy.\n",
        "    -   Example: `varimp(cforest_model)`.\n",
        "8.  `nodeapply` and `nodeprune`:\n",
        "    -   Manipulate tree structures by applying functions to nodes (`nodeapply`) or pruning subtrees (`nodeprune`).\n",
        "    -   Useful for custom tree analysis or simplification.\n",
        "    -   Example: `nodeapply(ctree_model, ids = 1, FUN = function(x) x$info)`."
      ],
      "metadata": {
        "id": "sZM4h2ad5q78"
      }
    },
    {
      "cell_type": "markdown",
      "source": [
        "### Check amd Install Required R Packages\n",
        "\n",
        "Following R packages are required to run this notebook. If any of these packages are not installed, you can install them using the code below:"
      ],
      "metadata": {
        "id": "yXu-XY0mw1A8"
      }
    },
    {
      "cell_type": "code",
      "source": [
        "%%R\n",
        "packages <- c('tidyverse',\n",
        "              'plyr',\n",
        "              'rpart',\n",
        "              'rpart.plot',\n",
        "              'partykit',\n",
        "              'mlbench',\n",
        "              'ggparty',\n",
        "              'nnet',\n",
        "              'sandwich'\n",
        "         )\n"
      ],
      "metadata": {
        "id": "TeYB57l0wz5N"
      },
      "execution_count": 7,
      "outputs": []
    },
    {
      "cell_type": "markdown",
      "source": [
        "#### Install Missing Packages"
      ],
      "metadata": {
        "id": "q7NH-51RYeIk"
      }
    },
    {
      "cell_type": "code",
      "source": [
        "%%R\n",
        "# Install missing packages\n",
        "new.packages <- packages[!(packages %in% installed.packages(lib='drive/My Drive/R/')[,\"Package\"])]\n",
        "if(length(new.packages)) install.packages(new.packages, lib='drive/My Drive/R/')"
      ],
      "metadata": {
        "id": "a0aTMYTHAraZ",
        "colab": {
          "base_uri": "https://localhost:8080/"
        },
        "collapsed": true,
        "outputId": "fb3e7d6d-3656-462d-b80c-8301eb588e06"
      },
      "execution_count": null,
      "outputs": [
        {
          "output_type": "stream",
          "name": "stderr",
          "text": [
            "WARNING:rpy2.rinterface_lib.callbacks:R[write to console]: also installing the dependencies ‘libcoin’, ‘inum’\n",
            "\n",
            "\n",
            "WARNING:rpy2.rinterface_lib.callbacks:R[write to console]: trying URL 'https://cran.rstudio.com/src/contrib/libcoin_1.0-10.tar.gz'\n",
            "\n",
            "WARNING:rpy2.rinterface_lib.callbacks:R[write to console]: trying URL 'https://cran.rstudio.com/src/contrib/inum_1.0-5.tar.gz'\n",
            "\n",
            "WARNING:rpy2.rinterface_lib.callbacks:R[write to console]: trying URL 'https://cran.rstudio.com/src/contrib/partykit_1.2-24.tar.gz'\n",
            "\n",
            "WARNING:rpy2.rinterface_lib.callbacks:R[write to console]: trying URL 'https://cran.rstudio.com/src/contrib/ggparty_1.0.0.tar.gz'\n",
            "\n",
            "WARNING:rpy2.rinterface_lib.callbacks:R[write to console]: \n",
            "\n",
            "WARNING:rpy2.rinterface_lib.callbacks:R[write to console]: \n",
            "WARNING:rpy2.rinterface_lib.callbacks:R[write to console]: The downloaded source packages are in\n",
            "\t‘/tmp/RtmpWzqHOC/downloaded_packages’\n",
            "WARNING:rpy2.rinterface_lib.callbacks:R[write to console]: \n",
            "WARNING:rpy2.rinterface_lib.callbacks:R[write to console]: \n",
            "\n"
          ]
        }
      ]
    },
    {
      "cell_type": "markdown",
      "source": [
        "#### Verify Installation"
      ],
      "metadata": {
        "id": "Ah43eXWcYfpA"
      }
    },
    {
      "cell_type": "code",
      "source": [
        "%%R\n",
        "# set library path\n",
        ".libPaths('drive/My Drive/R')\n",
        "# Verify installation\n",
        "cat(\"Installed packages:\\n\")\n",
        "print(sapply(packages, requireNamespace, quietly = TRUE))"
      ],
      "metadata": {
        "colab": {
          "base_uri": "https://localhost:8080/"
        },
        "id": "R9hpg7qnArfh",
        "outputId": "4a95f41d-e671-451a-f22e-ced06a4749ea"
      },
      "execution_count": 8,
      "outputs": [
        {
          "output_type": "stream",
          "name": "stdout",
          "text": [
            "Installed packages:\n",
            " tidyverse       plyr      rpart rpart.plot   partykit    mlbench    ggparty \n",
            "      TRUE       TRUE       TRUE       TRUE       TRUE       TRUE       TRUE \n",
            "      nnet   sandwich \n",
            "      TRUE       TRUE \n"
          ]
        }
      ]
    },
    {
      "cell_type": "markdown",
      "source": [
        "### Load R Packages"
      ],
      "metadata": {
        "id": "MV7R29xfyWQz"
      }
    },
    {
      "cell_type": "code",
      "source": [
        "%%R\n",
        "# set library path\n",
        ".libPaths('drive/My Drive/R')\n",
        "# Load packages with suppressed messages\n",
        "invisible(lapply(packages, function(pkg) {\n",
        "  suppressPackageStartupMessages(library(pkg, character.only = TRUE))\n",
        "}))\n",
        "\n"
      ],
      "metadata": {
        "id": "232jNAHBykUL"
      },
      "execution_count": 9,
      "outputs": []
    },
    {
      "cell_type": "markdown",
      "source": [
        "#### Check Loaded Packages"
      ],
      "metadata": {
        "id": "ULxgK067YntF"
      }
    },
    {
      "cell_type": "code",
      "source": [
        "%%R\n",
        "# Check loaded packages\n",
        "cat(\"Successfully loaded packages:\\n\")\n",
        "print(search()[grepl(\"package:\", search())])# Check loaded packageswer)"
      ],
      "metadata": {
        "colab": {
          "base_uri": "https://localhost:8080/"
        },
        "id": "mcAOZzmSYk4n",
        "outputId": "dae4a3e3-f28d-49c8-fb5c-becb1c6f74fe"
      },
      "execution_count": 10,
      "outputs": [
        {
          "output_type": "stream",
          "name": "stdout",
          "text": [
            "Successfully loaded packages:\n",
            " [1] \"package:sandwich\"   \"package:nnet\"       \"package:ggparty\"   \n",
            " [4] \"package:mlbench\"    \"package:partykit\"   \"package:mvtnorm\"   \n",
            " [7] \"package:libcoin\"    \"package:grid\"       \"package:rpart.plot\"\n",
            "[10] \"package:rpart\"      \"package:plyr\"       \"package:lubridate\" \n",
            "[13] \"package:forcats\"    \"package:stringr\"    \"package:dplyr\"     \n",
            "[16] \"package:purrr\"      \"package:readr\"      \"package:tidyr\"     \n",
            "[19] \"package:tibble\"     \"package:ggplot2\"    \"package:tidyverse\" \n",
            "[22] \"package:tools\"      \"package:stats\"      \"package:graphics\"  \n",
            "[25] \"package:grDevices\"  \"package:utils\"      \"package:datasets\"  \n",
            "[28] \"package:methods\"    \"package:base\"      \n"
          ]
        }
      ]
    },
    {
      "cell_type": "markdown",
      "source": [
        "### MOB - Ordinary Least Squares (OLS)\n",
        "\n",
        "Model-based Recursive Partitioning (MOB) with Ordinary Least Squares (OLS) regression is a statistical method that combines the flexibility of recursive partitioning (like decision trees) with parametric modeling (OLS regression) to identify subgroups in the data where the relationship between predictors and the response variable differs. This approach allows for a more nuanced understanding of how predictors influence the response variable across different segments of the data.\n",
        "\n",
        "Key Concepts of MOB with OLS:\n",
        "\n",
        "`MOB Framework`:\n",
        "\n",
        "-   MOB recursively partitions the data into subgroups (nodes) based on partitioning variables, where each subgroup is modeled with a separate OLS regression.\n",
        "\n",
        "-   It tests for parameter instability in the OLS model across partitioning variables to decide where to split the data.\n",
        "\n",
        "-   The result is a tree where each terminal node has its own OLS model with potentially different coefficients.\n",
        "\n",
        "`OLS Regression`:\n",
        "\n",
        "-   OLS is a linear regression model that minimizes the sum of squared residuals to estimate the relationship between a continuous response variable and one or more predictors.\n",
        "\n",
        "-   In MOB, OLS is fitted in each node, and the coefficients are allowed to vary across nodes.\n",
        "\n",
        "In this section of tutorial, we will demonstrate how to use the `mob` function from the {partykit} package to perform Model-based Recursive Partitioning (MOB) with Ordinary Least Squares (OLS) regression. We will use the `BostonHousing` dataset from the `mlbench` package as an example."
      ],
      "metadata": {
        "id": "JPBHJCs6oo8s"
      }
    },
    {
      "cell_type": "markdown",
      "source": [
        "#### Data\n",
        "\n",
        "\n"
      ],
      "metadata": {
        "id": "rSJqB05rO5ES"
      }
    },
    {
      "cell_type": "code",
      "execution_count": 11,
      "metadata": {
        "id": "CFpt_H01OPsa"
      },
      "outputs": [],
      "source": [
        "%%R\n",
        "# Load the BostonHousing dataset\n",
        " data(\"BostonHousing\", package = \"mlbench\")\n",
        "# Transform variables for better linear regression fit\n",
        "BostonHousing$lstat <- log(BostonHousing$lstat)  # Log-transform lower status population\n",
        "BostonHousing$rm <- BostonHousing$rm^2          # Square number of rooms\n",
        "# Convert categorical variables for partitioning\n",
        "BostonHousing$chas <- factor(BostonHousing$chas, levels = 0:1, labels = c(\"no\", \"yes\"))\n",
        "BostonHousing$rad <- factor(BostonHousing$rad, ordered = TRUE)"
      ]
    },
    {
      "cell_type": "markdown",
      "source": [
        "#### Set control parameters\n",
        "\n",
        "The model is estimated using Ordinary Least Squares (OLS). The assessment of instability is performed with a Bonferroni-corrected significance level of α = 0.05, and the nodes are split based on a minimum segment size requirement of 40 observations. The control parameters are therefore set as follows:"
      ],
      "metadata": {
        "id": "kK6jj2ZtBcNP"
      }
    },
    {
      "cell_type": "code",
      "source": [
        "%%R\n",
        "mob_ctrl<- mob_control(alpha = 0.05, bonferroni = TRUE, minsplit = 40, verbose = TRUE)"
      ],
      "metadata": {
        "id": "TuIIZ-40BdCf"
      },
      "execution_count": 12,
      "outputs": []
    },
    {
      "cell_type": "markdown",
      "source": [
        "#### Define a fitting function for linear regression"
      ],
      "metadata": {
        "id": "rVbEM7oYqctM"
      }
    },
    {
      "cell_type": "code",
      "source": [
        "%%R\n",
        "# Define a fitting function for linear regression\n",
        "linreg_fit <- function(y, x, start = NULL, weights = NULL, offset = NULL, ...) {\n",
        "  lm(y ~ x, ...)\n",
        "}"
      ],
      "metadata": {
        "id": "YFA0Ohiuqk_Z"
      },
      "execution_count": 13,
      "outputs": []
    },
    {
      "cell_type": "markdown",
      "source": [
        "#### Fit the MOB OLS model"
      ],
      "metadata": {
        "id": "US6MkVbrqqKF"
      }
    },
    {
      "cell_type": "code",
      "source": [
        "%%R\n",
        "# Fit the MOB model\n",
        "# Partitioning variables: all other variables in the dataset\n",
        "mob.ols <- mob(medv ~ lstat + rm | zn + indus + chas + nox + age + dis + rad + tax + crim + b + ptratio,\n",
        "            data = BostonHousing,\n",
        "            fit = linreg_fit,  # Specify the fitting function\n",
        "            control = mob_ctrl)  # Control parameters)\n",
        "print(mob.ols)"
      ],
      "metadata": {
        "colab": {
          "base_uri": "https://localhost:8080/"
        },
        "id": "6G6N6afYqqwI",
        "outputId": "26a73d9d-070b-45ea-b59e-0387f357b30f"
      },
      "execution_count": 14,
      "outputs": [
        {
          "output_type": "stream",
          "name": "stdout",
          "text": [
            "\n",
            "-- Node 1 ---------------------------------\n",
            "Number of observations: 506\n",
            "\n",
            "Parameter instability tests:\n",
            "                    zn        indus         chas          nox          age\n",
            "statistic 3.363356e+01 6.532322e+01 2.275635e+01 8.136281e+01 3.675850e+01\n",
            "p.value   1.023987e-04 1.363602e-11 4.993053e-04 3.489797e-15 2.263798e-05\n",
            "                   dis          rad          tax         crim            b\n",
            "statistic 6.848533e+01 1.153641e+02 9.068440e+01 8.655065e+01 3.627629e+01\n",
            "p.value   2.693904e-12 7.087680e-13 2.735524e-17 2.356348e-16 2.860686e-05\n",
            "               ptratio\n",
            "statistic 7.221524e+01\n",
            "p.value   3.953623e-13\n",
            "\n",
            "Best splitting variable: tax\n",
            "Perform split? yes\n",
            "Selected split: <= 432 | > 432\n",
            "\n",
            "-- Node 2 ---------------------------------\n",
            "Number of observations: 353\n",
            "\n",
            "Parameter instability tests:\n",
            "                    zn       indus      chas          nox        age\n",
            "statistic 27.785009791 21.33293464 8.0272421 23.774323202 11.9204284\n",
            "p.value    0.001494064  0.02815246 0.4005192  0.009518732  0.7666366\n",
            "                   dis          rad          tax         crim         b\n",
            "statistic 24.268011081 50.481593270 3.523250e+01 3.276813e+01 9.0363245\n",
            "p.value    0.007601532  0.003437763 4.275527e-05 1.404487e-04 0.9871502\n",
            "               ptratio\n",
            "statistic 4.510680e+01\n",
            "p.value   3.309747e-07\n",
            "\n",
            "Best splitting variable: ptratio\n",
            "Perform split? yes\n",
            "Selected split: <= 19.2 | > 19.2\n",
            "\n",
            "-- Node 3 ---------------------------------\n",
            "Number of observations: 289\n",
            "\n",
            "Parameter instability tests:\n",
            "                   zn      indus     chas         nox        age          dis\n",
            "statistic 20.76592808 13.3775114 5.401928 21.37330365 14.9754105 26.281705612\n",
            "p.value    0.03015766  0.5183224 0.820638  0.02298681  0.3157875  0.002372143\n",
            "                   rad          tax        crim          b      ptratio\n",
            "statistic 51.483676629 25.993238868 22.63767998 11.0838261 3.273277e+01\n",
            "p.value    0.002485762  0.002719531  0.01295578  0.8364287 1.047921e-04\n",
            "\n",
            "Best splitting variable: ptratio\n",
            "Perform split? yes\n",
            "Selected split: <= 17.8 | > 17.8\n",
            "\n",
            "-- Node 4 ---------------------------------\n",
            "Number of observations: 174\n",
            "\n",
            "Parameter instability tests:\n",
            "                   zn      indus      chas        nox        age         dis\n",
            "statistic 20.91981303 13.5591379 4.0620655 16.1515914 14.4393091 20.73095933\n",
            "p.value    0.02094007  0.3844023 0.9606679  0.1532988  0.2874456  0.02274628\n",
            "                   rad          tax         crim       b    ptratio\n",
            "statistic 6.573542e+01 2.816413e+01 23.611403284 4.42668 16.9732617\n",
            "p.value   1.834461e-05 7.800513e-04  0.006327815 1.00000  0.1109376\n",
            "\n",
            "Best splitting variable: rad\n",
            "Perform split? yes\n",
            "Selected split: <= 4 | > 4\n",
            "\n",
            "-- Node 5 ---------------------------------\n",
            "Number of observations: 58\n",
            "Too few observations, stop splitting (minsize = 40)\n",
            "\n",
            "-- Node 6 ---------------------------------\n",
            "Number of observations: 116\n",
            "\n",
            "Parameter instability tests:\n",
            "                  zn      indus      chas        nox       age        dis\n",
            "statistic 14.1163585 10.4316657 2.5417566 15.4354386 9.4268740 12.3624354\n",
            "p.value    0.2095071  0.6467375 0.9990297  0.1270659 0.7866247  0.3819077\n",
            "                  rad       tax       crim        b     ptratio\n",
            "statistic 25.17688698 6.8769312 10.7236104 4.199986 17.89613486\n",
            "p.value    0.03017574 0.9844823  0.6042582 0.999995  0.04677716\n",
            "\n",
            "Best splitting variable: rad\n",
            "Perform split? yes\n",
            "No admissable split found in ‘rad’\n",
            "\n",
            "-- Node 7 ---------------------------------\n",
            "Number of observations: 115\n",
            "\n",
            "Parameter instability tests:\n",
            "                 zn      indus       chas        nox        age       dis\n",
            "statistic 6.1190219 10.0169889 11.0450610 10.4868468 12.4548062 6.2621962\n",
            "p.value   0.9960133  0.7010357  0.1193215  0.6332784  0.3666594 0.9946064\n",
            "                 rad         tax       crim         b   ptratio\n",
            "statistic 23.8169321 20.58111885 13.4748081 5.5928645 6.4889015\n",
            "p.value    0.8552184  0.01469328  0.2603934 0.9988902 0.9915926\n",
            "\n",
            "Best splitting variable: tax\n",
            "Perform split? yes\n",
            "Selected split: <= 276 | > 276\n",
            "\n",
            "-- Node 8 ---------------------------------\n",
            "Number of observations: 48\n",
            "Too few observations, stop splitting (minsize = 40)\n",
            "\n",
            "-- Node 9 ---------------------------------\n",
            "Number of observations: 67\n",
            "Too few observations, stop splitting (minsize = 40)\n",
            "\n",
            "-- Node 10 --------------------------------\n",
            "Number of observations: 64\n",
            "Too few observations, stop splitting (minsize = 40)\n",
            "\n",
            "-- Node 11 --------------------------------\n",
            "Number of observations: 153\n",
            "\n",
            "Parameter instability tests:\n",
            "                  zn     indus         chas         nox       age        dis\n",
            "statistic 10.9187926 9.0917078 2.754081e+01 17.39203006 4.6282349 11.9581600\n",
            "p.value    0.7091039 0.9172303 4.987667e-05  0.08569336 0.9999992  0.5607267\n",
            "                rad        tax     crim        b   ptratio\n",
            "statistic 0.2557803 10.9076165 3.711175 3.158329 9.8865054\n",
            "p.value   1.0000000  0.7106612 1.000000 1.000000 0.8410064\n",
            "\n",
            "Best splitting variable: chas\n",
            "Perform split? yes\n",
            "No admissable split found in ‘chas’\n",
            "\n",
            "Model-based recursive partitioning (linreg_fit)\n",
            "\n",
            "Model formula:\n",
            "medv ~ lstat + rm | zn + indus + chas + nox + age + dis + rad + \n",
            "    tax + crim + b + ptratio\n",
            "\n",
            "Fitted party:\n",
            "[1] root\n",
            "|   [2] tax <= 432\n",
            "|   |   [3] ptratio <= 19.2\n",
            "|   |   |   [4] ptratio <= 17.8\n",
            "|   |   |   |   [5] rad <= 4: n = 58\n",
            "|   |   |   |        (Intercept) x(Intercept)       xlstat          xrm \n",
            "|   |   |   |         -5.7491067           NA   -1.8513937    0.8565573 \n",
            "|   |   |   |   [6] rad > 4: n = 116\n",
            "|   |   |   |        (Intercept) x(Intercept)       xlstat          xrm \n",
            "|   |   |   |          9.5080234           NA   -4.4697895    0.6314902 \n",
            "|   |   |   [7] ptratio > 17.8\n",
            "|   |   |   |   [8] tax <= 276: n = 48\n",
            "|   |   |   |        (Intercept) x(Intercept)       xlstat          xrm \n",
            "|   |   |   |          8.6836843           NA   -3.4541576    0.5840467 \n",
            "|   |   |   |   [9] tax > 276: n = 67\n",
            "|   |   |   |        (Intercept) x(Intercept)       xlstat          xrm \n",
            "|   |   |   |          -3.043095           NA     1.127000     0.605567 \n",
            "|   |   [10] ptratio > 19.2: n = 64\n",
            "|   |        (Intercept) x(Intercept)       xlstat          xrm \n",
            "|   |         18.1083453           NA   -4.7604272    0.3376816 \n",
            "|   [11] tax > 432: n = 153\n",
            "|        (Intercept) x(Intercept)       xlstat          xrm \n",
            "|         68.2970874           NA  -16.3540061   -0.1477939 \n",
            "\n",
            "Number of inner nodes:    5\n",
            "Number of terminal nodes: 6\n",
            "Number of parameters per node: 4\n",
            "Objective function: 1305.742\n"
          ]
        }
      ]
    },
    {
      "cell_type": "code",
      "source": [
        "%%R\n",
        "# Visualize the tree\n",
        "plot(mob.ols)"
      ],
      "metadata": {
        "id": "9RA21ji956Op",
        "colab": {
          "base_uri": "https://localhost:8080/",
          "height": 497
        },
        "outputId": "67fdd833-0541-4ffe-b0f2-82d357b146fd"
      },
      "execution_count": 15,
      "outputs": [
        {
          "output_type": "display_data",
          "data": {
            "image/png": "[encoded data removed]"
          },
          "metadata": {}
        }
      ]
    },
    {
      "cell_type": "code",
      "source": [
        "%%R\n",
        "# Extract coefficients for all terminal nodes\n",
        "coef(mob.ols)"
      ],
      "metadata": {
        "id": "CNEpAuhV6NtJ",
        "colab": {
          "base_uri": "https://localhost:8080/"
        },
        "outputId": "1f24195a-c924-453a-f6aa-13365264cc91"
      },
      "execution_count": 16,
      "outputs": [
        {
          "output_type": "stream",
          "name": "stdout",
          "text": [
            "   (Intercept) x(Intercept)     xlstat        xrm\n",
            "5    -5.749107           NA  -1.851394  0.8565573\n",
            "6     9.508023           NA  -4.469789  0.6314902\n",
            "8     8.683684           NA  -3.454158  0.5840467\n",
            "9    -3.043095           NA   1.127000  0.6055670\n",
            "10   18.108345           NA  -4.760427  0.3376816\n",
            "11   68.297087           NA -16.354006 -0.1477939\n"
          ]
        }
      ]
    },
    {
      "cell_type": "code",
      "source": [
        "%%R\n",
        "# Summary for a specific node (e.g., node 7, if it exists)\n",
        "if (length(nodeids(mob.ols, terminal = TRUE)) >= 7) {\n",
        "  summary(mob.ols, node = 7)\n",
        "} else {\n",
        "  cat(\"Node 7 does not exist. Check terminal nodes with nodeids(mob.ols, terminal = TRUE).\\n\")\n",
        "}\n",
        "\n",
        "# Check parameter stability tests for a specific node\n",
        "if (length(nodeids(mob.ols, terminal = TRUE)) >= 7) {\n",
        "  sctest(mob.ols, node = 7)\n",
        "}"
      ],
      "metadata": {
        "colab": {
          "base_uri": "https://localhost:8080/"
        },
        "id": "r67S1_afqyfQ",
        "outputId": "e357ecc9-355d-47a7-c676-899a2bbc0d29"
      },
      "execution_count": 17,
      "outputs": [
        {
          "output_type": "stream",
          "name": "stdout",
          "text": [
            "Node 7 does not exist. Check terminal nodes with nodeids(mob.ols, terminal = TRUE).\n"
          ]
        }
      ]
    },
    {
      "cell_type": "markdown",
      "source": [
        "#### Evaluate model performance\n"
      ],
      "metadata": {
        "id": "Rvqt4gIoBiip"
      }
    },
    {
      "cell_type": "code",
      "source": [
        "%%R\n",
        "# Evaluate model performance\n",
        "# Compute mean squared error (MSE)\n",
        "mse <- mean((BostonHousing$medv - fitted(mob.ols))^2)\n",
        "cat(\"Mean Squared Error:\", mse, \"\\n\")\n",
        "\n",
        "# Compute AIC\n",
        "aic <- AIC(mob.ols)\n",
        "cat(\"AIC:\", aic, \"\\n\")\n",
        "\n",
        "# Step 7: Make predictions on the same data\n",
        "predictions <- predict(mob.ols, newdata = BostonHousing)\n",
        "head(predictions)  # View first few predictions"
      ],
      "metadata": {
        "id": "yGNM8SyaBjRH",
        "colab": {
          "base_uri": "https://localhost:8080/"
        },
        "outputId": "d962a420-7e31-46a9-c2c5-b782d9fcfc8f"
      },
      "execution_count": 18,
      "outputs": [
        {
          "output_type": "stream",
          "name": "stdout",
          "text": [
            "Mean Squared Error: 12.63648 \n",
            "AIC: 2669.484 \n",
            "1 2 3 4 5 6 \n",
            "5 5 5 8 8 8 \n"
          ]
        }
      ]
    },
    {
      "cell_type": "markdown",
      "source": [
        "### MOB - Logistic Regression\n",
        "\n",
        "Model-based Recursive Partitioning (MOB) with a logistic regression model is a statistical method that integrates recursive partitioning (similar to decision trees) with logistic regression to identify subgroups in the data where the relationship between predictors and a binary response variable differs.\n",
        "\n",
        "Key Concepts of MOB with Logistic Regression\n",
        "\n",
        "`MOB Framework`:\n",
        "\n",
        "-   MOB recursively partitions the data into subgroups (nodes) based on partitioning variables, fitting a separate logistic regression model in each node.\n",
        "\n",
        "-   It tests for parameter instability in the logistic regression coefficients using partitioning variables to determine where to split the data. The result is a tree where each terminal node has its own logistic regression model with potentially different coefficients (e.g., different log-odds ratios).\n",
        "\n",
        "`Logistic Regression`:\n",
        "\n",
        "-   Logistic regression models the probability of a binary outcome (e.g., 0/1, success/failure) as a function of predictors, using the logit link function.\n",
        "\n",
        "-   In MOB, logistic regression is fitted in each node, allowing coefficients to vary across subgroups.\n",
        "\n",
        "In this section of the tutorial, we will demonstrate how to use the `mob` function from the {partykit} package to perform Model-based Recursive Partitioning (MOB) with Logistic Regression. We will use the `PimaIndiansDiabetes` dataset from the `mlbench` package as an example."
      ],
      "metadata": {
        "id": "u5ulfUFxBnqH"
      }
    },
    {
      "cell_type": "markdown",
      "source": [
        "#### Data\n",
        "\n",
        " We will use the PimaIndiansDiabetes dataset from the mlbench package as an example."
      ],
      "metadata": {
        "id": "4C3q2_XYrHmS"
      }
    },
    {
      "cell_type": "code",
      "source": [
        "%%R\n",
        "# Load and prepare the PimaIndiansDiabetes dataset\n",
        "data(\"PimaIndiansDiabetes\", package = \"mlbench\")\n",
        "# Ensure diabetes is a binary factor\n",
        "PimaIndiansDiabetes$diabetes <- factor(PimaIndiansDiabetes$diabetes, levels = c(\"neg\", \"pos\"))"
      ],
      "metadata": {
        "id": "NRWK-7jzcWJI"
      },
      "execution_count": 19,
      "outputs": []
    },
    {
      "cell_type": "markdown",
      "source": [
        "#### Define function for logistic regression\n",
        "\n",
        "\n"
      ],
      "metadata": {
        "id": "fHm2C5TnBsud"
      }
    },
    {
      "cell_type": "code",
      "source": [
        "%%R\n",
        "# Define a fitting function for logistic regression\n",
        "logreg_fit <- function(y, x, start = NULL, weights = NULL, offset = NULL, ...) {\n",
        "  glm(y ~ x, family = binomial(link = \"logit\"), ...)\n",
        "}"
      ],
      "metadata": {
        "id": "FlheLU85BtdR"
      },
      "execution_count": 20,
      "outputs": []
    },
    {
      "cell_type": "markdown",
      "source": [
        "#### Fit the MOB logistic regression model"
      ],
      "metadata": {
        "id": "d16Oa5XtB23a"
      }
    },
    {
      "cell_type": "code",
      "source": [
        "%%R\n",
        "# Fit the MOB model\n",
        "# Model: diabetes ~ glucose + mass (logistic regression)\n",
        "# Partitioning variables: all other variables\n",
        "mob.logit <- mob(diabetes ~ glucose + mass | pregnant + pressure + triceps + insulin + pedigree + age,\n",
        "             data = PimaIndiansDiabetes,\n",
        "             fit = logreg_fit,  # Specify the logistic regression fitting function\n",
        "             control = mob_control(minsplit = 40, alpha = 0.05))\n",
        "print(mob.logit)"
      ],
      "metadata": {
        "colab": {
          "base_uri": "https://localhost:8080/"
        },
        "id": "eOd4ugV6B4_r",
        "outputId": "9d700dcd-6b67-4e29-f5b4-c920b647a6ca"
      },
      "execution_count": 21,
      "outputs": [
        {
          "output_type": "stream",
          "name": "stdout",
          "text": [
            "Model-based recursive partitioning (logreg_fit)\n",
            "\n",
            "Model formula:\n",
            "diabetes ~ glucose + mass | pregnant + pressure + triceps + insulin + \n",
            "    pedigree + age\n",
            "\n",
            "Fitted party:\n",
            "[1] root\n",
            "|   [2] age <= 28: n = 367\n",
            "|        (Intercept) x(Intercept)     xglucose        xmass \n",
            "|        -9.47321487           NA   0.04003050   0.09470717 \n",
            "|   [3] age > 28: n = 401\n",
            "|        (Intercept) x(Intercept)     xglucose        xmass \n",
            "|        -5.85877381           NA   0.02817837   0.06741752 \n",
            "\n",
            "Number of inner nodes:    1\n",
            "Number of terminal nodes: 2\n",
            "Number of parameters per node: 4\n",
            "Objective function: 363.3529\n"
          ]
        }
      ]
    },
    {
      "cell_type": "code",
      "source": [
        "%%R\n",
        "# Visualize the tree\n",
        "plot(mob.logit)"
      ],
      "metadata": {
        "colab": {
          "base_uri": "https://localhost:8080/",
          "height": 497
        },
        "id": "0aVmsPE4g2jI",
        "outputId": "23d1d720-ce26-427e-aeea-10584ad36800"
      },
      "execution_count": 26,
      "outputs": [
        {
          "output_type": "display_data",
          "data": {
            "image/png": "[encoded data removed]"
          },
          "metadata": {}
        }
      ]
    },
    {
      "cell_type": "code",
      "source": [
        "%%R\n",
        "# Extract coefficients for all terminal nodes\n",
        "coef(mob.logit)"
      ],
      "metadata": {
        "id": "uJAWf0_rCBRY",
        "colab": {
          "base_uri": "https://localhost:8080/"
        },
        "outputId": "3aeb501a-62ae-4738-efa5-2c933fbc9854"
      },
      "execution_count": 27,
      "outputs": [
        {
          "output_type": "stream",
          "name": "stdout",
          "text": [
            "  (Intercept) x(Intercept)   xglucose      xmass\n",
            "2   -9.473215           NA 0.04003050 0.09470717\n",
            "3   -5.858774           NA 0.02817837 0.06741752\n"
          ]
        }
      ]
    },
    {
      "cell_type": "code",
      "source": [
        "%%R\n",
        "# Summary for a specific node (e.g., node 3, if it exists)\n",
        "terminal_nodes <- nodeids(mob.logit, terminal = TRUE)\n",
        "if (length(terminal_nodes) >= 3) {\n",
        "  summary(logit, node = 3)\n",
        "} else {\n",
        "  cat(\"Node 3 does not exist. Check terminal nodes with nodeids(mob.logit, terminal = TRUE): \",\n",
        "      terminal_nodes, \"\\n\")\n",
        "}\n",
        "\n",
        "# Check parameter stability tests for a specific node\n",
        "if (length(terminal_nodes) >= 3) {\n",
        "  sctest(mob_logit, node = 3)\n",
        "}"
      ],
      "metadata": {
        "id": "oJ4JpXtHCROk",
        "colab": {
          "base_uri": "https://localhost:8080/"
        },
        "outputId": "ba4c31fe-6968-4358-9ac7-c6955f846803"
      },
      "execution_count": 28,
      "outputs": [
        {
          "output_type": "stream",
          "name": "stdout",
          "text": [
            "Node 3 does not exist. Check terminal nodes with nodeids(mob.logit, terminal = TRUE):  2 3 \n"
          ]
        }
      ]
    },
    {
      "cell_type": "markdown",
      "source": [
        "#### Evaluate model performance"
      ],
      "metadata": {
        "id": "E3P4ZloRr0B0"
      }
    },
    {
      "cell_type": "code",
      "source": [
        "%%R -w 500 -h 450 -u px\n",
        "# Evaluate model performance\n",
        "# Compute misclassification error\n",
        "predictions <- predict(mob.logit, newdata = PimaIndiansDiabetes, type = \"response\")\n",
        "predicted_classes <- ifelse(predictions > 0.5, \"pos\", \"neg\")\n",
        "misclassification_error <- mean(predicted_classes != PimaIndiansDiabetes$diabetes)\n",
        "cat(\"Misclassification Error:\", misclassification_error, \"\\n\")"
      ],
      "metadata": {
        "id": "hsCu6dO4CdHZ",
        "colab": {
          "base_uri": "https://localhost:8080/"
        },
        "outputId": "e4f04c87-63fd-4797-cc16-d8b2b56e3e89"
      },
      "execution_count": 29,
      "outputs": [
        {
          "output_type": "stream",
          "name": "stdout",
          "text": [
            "Misclassification Error: 0.2252604 \n"
          ]
        }
      ]
    },
    {
      "cell_type": "code",
      "source": [
        "%%R\n",
        "# Compute AIC\n",
        "aic <- AIC(mob.logit)\n",
        "cat(\"AIC:\", aic, \"\\n\")"
      ],
      "metadata": {
        "id": "lhFu-x8m7MZC",
        "colab": {
          "base_uri": "https://localhost:8080/"
        },
        "outputId": "fb535655-759d-4b58-f965-72e03e61b720"
      },
      "execution_count": 30,
      "outputs": [
        {
          "output_type": "stream",
          "name": "stdout",
          "text": [
            "AIC: 740.7059 \n"
          ]
        }
      ]
    },
    {
      "cell_type": "markdown",
      "source": [
        "### MOB - Multinomial Logistic Regression\n",
        "\n",
        "Model-based Recursive Partitioning (MOB) with a multinomial logistic regression model is a statistical method that combines recursive partitioning (similar to decision trees) with multinomial logistic regression to identify subgroups in the data where the relationship between predictors and a categorical response variable (with three or more levels) differs.\n",
        "\n",
        "Key Concepts of MOB with Multinomial Logistic Regression:\n",
        "\n",
        "`MOB Framework`:\n",
        "\n",
        "-   MOB recursively partitions the data into subgroups (nodes) based on partitioning variables, fitting a separate multinomial logistic regression model in each node.\n",
        "\n",
        "-   It tests for parameter instability in the multinomial regression coefficients using partitioning variables to determine where to split the data.\n",
        "\n",
        "-   The result is a tree where each terminal node has its own multinomial logistic regression model with potentially different coefficients (e.g., different log-odds ratios for each category).\n",
        "\n",
        "`Multinomial Logistic Regression`:\n",
        "\n",
        "-   Multinomial logistic regression models the probabilities of a categorical outcome with three or more levels (e.g., setosa, versicolor, virginica in the Iris dataset) as a function of predictors.\n",
        "\n",
        "-   It uses one category as the reference and estimates log-odds for other categories relative to it, typically via maximum likelihood estimation.\n",
        "\n",
        "-   In MOB, multinomial regression is fitted in each node, allowing coefficients to vary across subgroups.\n",
        "\n",
        "I’ll use the Iris dataset which has a multinomial response variable (Species with three categories: setosa, versicolor, virginica). This is a standard dataset for multinomial models.\n",
        "\n",
        "Below is a step-by-step guide to fitting MOB with a multinomial logistic regression model on the Iris dataset using the partykit package for MOB and the nnet package for multinomial logistic regression. The code is concise, executable, and includes data preparation, model fitting, visualization, and evaluation."
      ],
      "metadata": {
        "id": "0PfQsoq87RT9"
      }
    },
    {
      "cell_type": "markdown",
      "source": [
        "#### Data"
      ],
      "metadata": {
        "id": "o7k5XKgQ7TAj"
      }
    },
    {
      "cell_type": "code",
      "source": [
        "%%R\n",
        "# Load and prepare the Iris dataset\n",
        "data(\"iris\", package = \"datasets\")\n",
        "# Ensure Species is a factor with three levels\n",
        "iris$Species <- factor(iris$Species)"
      ],
      "metadata": {
        "id": "EZ--7MoB7V72"
      },
      "execution_count": 31,
      "outputs": []
    },
    {
      "cell_type": "markdown",
      "source": [
        "#### Define function for multinomial logistic regression\n"
      ],
      "metadata": {
        "id": "CTVfefEr7bEu"
      }
    },
    {
      "cell_type": "code",
      "source": [
        "%%R\n",
        "# Define a fitting function for multinomial logistic regression\n",
        "multinom_fit <- function(y, x, start = NULL, weights = NULL, offset = NULL, ...) {\n",
        "  nnet::multinom(y ~ x, trace = FALSE, ...)\n",
        "}"
      ],
      "metadata": {
        "id": "67WqUvIM7dzk"
      },
      "execution_count": 32,
      "outputs": []
    },
    {
      "cell_type": "markdown",
      "source": [
        "#### Define estfun method for multinom objects"
      ],
      "metadata": {
        "id": "uZUG1M4f7iDy"
      }
    },
    {
      "cell_type": "code",
      "source": [
        "%%R\n",
        "# Define estfun method for multinom objects\n",
        "estfun.multinom <- function(x, ...) {\n",
        "  # Extract model components\n",
        "  X <- model.matrix(x)\n",
        "  y <- model.response(model.frame(x))\n",
        "  fitted <- fitted(x)\n",
        "  n <- nrow(X)\n",
        "  k <- ncol(fitted)  # Number of categories\n",
        "  p <- ncol(X) / (k - 1)  # Parameters per category (excluding reference)\n",
        "\n",
        "  # Compute scores\n",
        "  scores <- matrix(0, nrow = n, ncol = p * (k - 1))\n",
        "  for (j in 1:(k - 1)) {\n",
        "    # Score contributions for category j vs reference\n",
        "    idx <- ((j - 1) * p + 1):(j * p)\n",
        "    resid <- as.numeric(y == levels(y)[j]) - fitted[, j]\n",
        "    scores[, idx] <- resid * X[, 1:p]\n",
        "  }\n",
        "  return(scores)\n",
        "}"
      ],
      "metadata": {
        "id": "JqGcYxMQ7izD"
      },
      "execution_count": 33,
      "outputs": []
    },
    {
      "cell_type": "markdown",
      "source": [
        "#### Fit the MOB multinomial logistic regression model"
      ],
      "metadata": {
        "id": "Ht35L3my7oOe"
      }
    },
    {
      "cell_type": "code",
      "source": [
        "%%R\n",
        "# Fit the MOB model\n",
        "# Model: Species ~ Petal.Length + Petal.Width (multinomial logistic regression)\n",
        "# Partitioning variables: Sepal.Length + Sepal.Width\n",
        "mob.multinom <- mob(Species ~ Petal.Length + Petal.Width | Sepal.Length + Sepal.Width,\n",
        "              data = iris,\n",
        "              fit = multinom_fit,\n",
        "              control = mob_control(minsplit = 20, alpha = 0.05))\n",
        "# Print the tree\n",
        "print(mob.multinom )"
      ],
      "metadata": {
        "id": "vQn_RkfR7pPV",
        "colab": {
          "base_uri": "https://localhost:8080/"
        },
        "outputId": "4426798d-ffb3-4272-93d7-314a4b5238e6"
      },
      "execution_count": 34,
      "outputs": [
        {
          "output_type": "stream",
          "name": "stderr",
          "text": [
            "WARNING:rpy2.rinterface_lib.callbacks:R[write to console]: Error in chol.default(meat) : \n",
            "  the leading minor of order 2 is not positive\n",
            "\n"
          ]
        },
        {
          "output_type": "stream",
          "name": "stdout",
          "text": [
            "Model-based recursive partitioning (multinom_fit)\n",
            "\n",
            "Model formula:\n",
            "Species ~ Petal.Length + Petal.Width | Sepal.Length + Sepal.Width\n",
            "\n",
            "Fitted party:\n",
            "[1] root: n = 150\n",
            "               (Intercept) x(Intercept) xPetal.Length xPetal.Width\n",
            "    versicolor   -12.27944    -12.27944      7.975972     6.427855\n",
            "    virginica    -34.67526    -34.67526     13.649023    16.831477 \n",
            "\n",
            "Number of inner nodes:    0\n",
            "Number of terminal nodes: 1\n",
            "Number of parameters per node: 8\n",
            "Objective function: 10.28802\n"
          ]
        }
      ]
    },
    {
      "cell_type": "code",
      "source": [
        "%%R\n",
        "# Visualize the tree\n",
        "plot(mob.multinom )"
      ],
      "metadata": {
        "id": "lPb9uiTz706_",
        "colab": {
          "base_uri": "https://localhost:8080/",
          "height": 497
        },
        "outputId": "30e3111f-7fd5-4e2f-d447-ee130db4d453"
      },
      "execution_count": 35,
      "outputs": [
        {
          "output_type": "display_data",
          "data": {
            "image/png": "[encoded data removed]"
          },
          "metadata": {}
        }
      ]
    },
    {
      "cell_type": "code",
      "source": [
        "%%R\n",
        "# Extract coefficients for all terminal nodes\n",
        "coef(mob.multinom )"
      ],
      "metadata": {
        "id": "E9LSXmGB72bJ",
        "colab": {
          "base_uri": "https://localhost:8080/"
        },
        "outputId": "5ecd95c9-1d48-4dfd-bd03-3e473a42b298"
      },
      "execution_count": 36,
      "outputs": [
        {
          "output_type": "stream",
          "name": "stdout",
          "text": [
            "           (Intercept) x(Intercept) xPetal.Length xPetal.Width\n",
            "versicolor   -12.27944    -12.27944      7.975972     6.427855\n",
            "virginica    -34.67526    -34.67526     13.649023    16.831477\n"
          ]
        }
      ]
    },
    {
      "cell_type": "code",
      "source": [
        "%%R\n",
        "# Summary for a specific node (e.g., node 3, if it exists)\n",
        "terminal_nodes <- nodeids(mob.multinom , terminal = TRUE)\n",
        "if (length(terminal_nodes) >= 3) {\n",
        "  summary(mob.multinom , node = 3)\n",
        "} else {\n",
        "  cat(\"Node 3 does not exist. Check terminal nodes with nodeids(mob.multinom , terminal = TRUE): \",\n",
        "      terminal_nodes, \"\\n\")\n",
        "}\n",
        "\n",
        "# Check parameter stability tests for a specific node\n",
        "if (length(terminal_nodes) >= 3) {\n",
        "  sctest(mob.multinom , node = 3)\n",
        "}"
      ],
      "metadata": {
        "id": "L35i4oK979Kx",
        "colab": {
          "base_uri": "https://localhost:8080/"
        },
        "outputId": "1551cd5a-3cc1-4a11-f2b9-14a5d4543017"
      },
      "execution_count": 37,
      "outputs": [
        {
          "output_type": "stream",
          "name": "stdout",
          "text": [
            "Node 3 does not exist. Check terminal nodes with nodeids(mob.multinom , terminal = TRUE):  1 \n"
          ]
        }
      ]
    },
    {
      "cell_type": "markdown",
      "source": [
        "#### Evaluate model performance"
      ],
      "metadata": {
        "id": "y_W4HB_98AkY"
      }
    },
    {
      "cell_type": "code",
      "source": [
        "%%R\n",
        "# Evaluate model performance\n",
        "# Compute misclassification error\n",
        "predictions <- predict(mob.multinom , newdata = iris, type = \"class\")  # Use type = \"class\"\n",
        "misclassification_error <- mean(predictions != iris$Species)\n",
        "cat(\"Misclassification Error:\", misclassification_error, \"\\n\")"
      ],
      "metadata": {
        "id": "BiII3W0x8BRL",
        "colab": {
          "base_uri": "https://localhost:8080/"
        },
        "outputId": "3b531760-7ac3-402e-a9a8-07905ff5883f"
      },
      "execution_count": 38,
      "outputs": [
        {
          "output_type": "stream",
          "name": "stdout",
          "text": [
            "Misclassification Error: 0.04 \n"
          ]
        }
      ]
    },
    {
      "cell_type": "code",
      "source": [
        "%%R\n",
        "#  Compute predicted probabilities\n",
        "prob_predictions <- predict(mob.multinom, newdata = iris, type = \"probs\")\n",
        "head(prob_predictions)  # View first few predicted probabilities"
      ],
      "metadata": {
        "id": "wg3wgtm78Hrd",
        "colab": {
          "base_uri": "https://localhost:8080/"
        },
        "outputId": "0fcfde96-efb1-4d78-be62-25ce118c4b74"
      },
      "execution_count": 39,
      "outputs": [
        {
          "output_type": "stream",
          "name": "stdout",
          "text": [
            "     setosa   versicolor    virginica\n",
            "1 0.9999945 5.521036e-06 4.387154e-21\n",
            "2 0.9999945 5.521036e-06 4.387154e-21\n",
            "3 0.9999975 2.486737e-06 1.120507e-21\n",
            "4 0.9999877 1.225772e-05 1.717709e-20\n",
            "5 0.9999945 5.521036e-06 4.387154e-21\n",
            "6 0.9997815 2.184846e-04 7.627153e-18\n"
          ]
        }
      ]
    },
    {
      "cell_type": "code",
      "source": [
        "%%R\n",
        "# Compute AIC\n",
        "aic <- AIC(mob.multinom )\n",
        "cat(\"AIC:\", aic, \"\\n\")"
      ],
      "metadata": {
        "id": "E1K3VY2c8KCw"
      },
      "execution_count": null,
      "outputs": []
    },
    {
      "cell_type": "markdown",
      "source": [
        "### MOB - Poisson Regression\n",
        "\n",
        "Model-based Recursive Partitioning (MOB) with a Poisson regression model is a statistical method that combines recursive partitioning (similar to decision trees) with Poisson regression to identify subgroups in the data where the relationship between predictors and a count response variable differs.\n",
        "\n",
        "Key Concepts of MOB with Poisson Regression:\n",
        "\n",
        "`MOB Framework`:\n",
        "\n",
        "-   MOB recursively partitions the data into subgroups (nodes) based on partitioning variables, fitting a separate Poisson regression model in each node.\n",
        "\n",
        "-   It tests for parameter instability in the Poisson regression coefficients using partitioning variables to determine where to split the data.\n",
        "\n",
        "-   The result is a tree where each terminal node has its own Poisson regression model with potentially different coefficients (e.g., different log-rate parameters).\n",
        "\n",
        "`Poisson Regression`:\n",
        "\n",
        "-   Poisson regression models the expected count of an event (a non-negative integer) as a function of predictors, using a log link function.\n",
        "\n",
        "-   It assumes the response follows a Poisson distribution, suitable for count data (e.g., number of events, occurrences).\n",
        "\n",
        "-   In MOB, Poisson regression is fitted in each node, allowing coefficients to vary across subgroups.\n",
        "\n",
        "To fit Model-based Recursive Partitioning (MOB) with a Poisson regression model using the PimaIndiansDiabetes dataset from the mlbench package, we need a count response variable suitable for Poisson regression. The PimaIndiansDiabetes dataset does not have a natural count variable (e.g., pregnant could be treated as a count of pregnancies, but it’s not typically modeled as a Poisson outcome due to its distribution). Instead, I’ll use the Insurance dataset from the MASS package, which includes a count variable (Claims, the number of insurance claims) ideal for Poisson regression. If you prefer to use PimaIndiansDiabetes with a specific count variable (e.g., pregnant) or another dataset, let me know, and I can adjust the approach.\n",
        "\n",
        "Below is a step-by-step guide to fitting MOB with a Poisson regression model on the Insurance dataset. The code is concise, executable, and includes data preparation, model fitting, visualization, and evaluation."
      ],
      "metadata": {
        "id": "9zTAsPNA8Pld"
      }
    },
    {
      "cell_type": "markdown",
      "source": [
        "#### Data"
      ],
      "metadata": {
        "id": "S9Qm2dhV8Tft"
      }
    },
    {
      "cell_type": "code",
      "source": [
        "%%R\n",
        "#  Load and prepare the Insurance dataset\n",
        "data(\"Insurance\", package = \"MASS\")\n",
        "# Ensure categorical variables are factors\n",
        "Insurance$District <- factor(Insurance$District)\n",
        "Insurance$Group <- factor(Insurance$Group)\n",
        "Insurance$Age <- factor(Insurance$Age)"
      ],
      "metadata": {
        "id": "uGKsnJ-i8X57"
      },
      "execution_count": 40,
      "outputs": []
    },
    {
      "cell_type": "markdown",
      "source": [
        "\n",
        "#### Define function for Poisson regression"
      ],
      "metadata": {
        "id": "oeNRVsRV8atT"
      }
    },
    {
      "cell_type": "code",
      "source": [
        "%%R\n",
        "# Define a fitting function for Poisson regression\n",
        "poisson_fit <- function(y, x, start = NULL, weights = NULL, offset = NULL, ...) {\n",
        "  glm(y ~ x, family = poisson(link = \"log\"), ...)\n",
        "}"
      ],
      "metadata": {
        "id": "kd_32DbD8bcI"
      },
      "execution_count": 41,
      "outputs": []
    },
    {
      "cell_type": "markdown",
      "source": [
        "#### Fit the MOB Poisson regression model"
      ],
      "metadata": {
        "id": "7dUtlOuo8gzm"
      }
    },
    {
      "cell_type": "code",
      "source": [
        "%%R\n",
        "# Fit the MOB model\n",
        "# Model: Claims ~ Holders (Poisson regression)\n",
        "# Partitioning variables: District + Group + Age\n",
        "mob.poisson <- mob(Claims ~ Holders | District + Group + Age,\n",
        "             data = Insurance,\n",
        "             fit = poisson_fit,  # Specify the Poisson regression fitting function\n",
        "             control = mob_control(minsplit = 10, alpha = 0.05))\n",
        "# Print the tree\n",
        "print(mob.poisson)"
      ],
      "metadata": {
        "id": "F61zhkP88jhG",
        "colab": {
          "base_uri": "https://localhost:8080/"
        },
        "outputId": "9d9f9414-bd09-4421-809f-76ef066107f0"
      },
      "execution_count": 42,
      "outputs": [
        {
          "output_type": "stream",
          "name": "stdout",
          "text": [
            "Model-based recursive partitioning (poisson_fit)\n",
            "\n",
            "Model formula:\n",
            "Claims ~ Holders | District + Group + Age\n",
            "\n",
            "Fitted party:\n",
            "[1] root\n",
            "|   [2] Age <= 30-35\n",
            "|   |   [3] District in 1, 2: n = 24\n",
            "|   |        (Intercept) x(Intercept)     xHolders \n",
            "|   |        2.802704335           NA  0.002895579 \n",
            "|   |   [4] District in 3, 4: n = 24\n",
            "|   |        (Intercept) x(Intercept)     xHolders \n",
            "|   |        1.615950096           NA  0.009426978 \n",
            "|   [5] Age > 30-35: n = 16\n",
            "|        (Intercept) x(Intercept)     xHolders \n",
            "|       4.0381623029           NA 0.0005999035 \n",
            "\n",
            "Number of inner nodes:    2\n",
            "Number of terminal nodes: 3\n",
            "Number of parameters per node: 3\n",
            "Objective function: 305.4251\n"
          ]
        }
      ]
    },
    {
      "cell_type": "code",
      "source": [
        "%%R\n",
        "# Visualize the tree\n",
        "plot(mob.poisson)"
      ],
      "metadata": {
        "id": "DESp9BGr8tQ0",
        "colab": {
          "base_uri": "https://localhost:8080/",
          "height": 497
        },
        "outputId": "878ddc1e-2b71-4438-8972-fd3ccd7ceff6"
      },
      "execution_count": 43,
      "outputs": [
        {
          "output_type": "display_data",
          "data": {
            "image/png": "[encoded data removed]"
          },
          "metadata": {}
        }
      ]
    },
    {
      "cell_type": "code",
      "source": [
        "%%R\n",
        "# Extract coefficients for all terminal nodes\n",
        "coef(mob.poisson)"
      ],
      "metadata": {
        "id": "wLIF76yF8yJj",
        "colab": {
          "base_uri": "https://localhost:8080/"
        },
        "outputId": "26a7587d-e177-42ee-d469-fa1827c0ac82"
      },
      "execution_count": 44,
      "outputs": [
        {
          "output_type": "stream",
          "name": "stdout",
          "text": [
            "  (Intercept) x(Intercept)     xHolders\n",
            "3    2.802704           NA 0.0028955794\n",
            "4    1.615950           NA 0.0094269777\n",
            "5    4.038162           NA 0.0005999035\n"
          ]
        }
      ]
    },
    {
      "cell_type": "code",
      "source": [
        "%%R\n",
        "# Summary for a specific node (e.g., node 3, if it exists)\n",
        "terminal_nodes <- nodeids(mob.poisson, terminal = TRUE)\n",
        "if (length(terminal_nodes) >= 3) {\n",
        "  summary(mob.poisson, node = 3)\n",
        "} else {\n",
        "  cat(\"Node 3 does not exist. Check terminal nodes with nodeids(mob.poisson, terminal = TRUE): \",\n",
        "      terminal_nodes, \"\\n\")\n",
        "}"
      ],
      "metadata": {
        "id": "nMZpdoFB81cc"
      },
      "execution_count": null,
      "outputs": []
    },
    {
      "cell_type": "markdown",
      "source": [
        "#### Evaluate model performance"
      ],
      "metadata": {
        "id": "L5TSGbux8-zy"
      }
    },
    {
      "cell_type": "code",
      "source": [
        "%%R\n",
        "# Evaluate model performance\n",
        "# Compute mean squared error (MSE) for count predictions\n",
        "predictions <- predict(mob.poisson, newdata = Insurance, type = \"response\")\n",
        "mse <- mean((Insurance$Claims - predictions)^2)\n",
        "cat(\"Mean Squared Error:\", mse, \"\\n\")\n",
        "\n",
        "# Compute AIC\n",
        "aic <- AIC(mob.poisson)\n",
        "cat(\"AIC:\", aic, \"\\n\")"
      ],
      "metadata": {
        "id": "PhUqQ7hC8_2n",
        "colab": {
          "base_uri": "https://localhost:8080/"
        },
        "outputId": "33b8e212-accb-42d4-82f8-2c60211f49ce"
      },
      "execution_count": 45,
      "outputs": [
        {
          "output_type": "stream",
          "name": "stdout",
          "text": [
            "Mean Squared Error: 420.4272 \n",
            "AIC: 626.8503 \n"
          ]
        }
      ]
    },
    {
      "cell_type": "markdown",
      "source": [
        "## Summary and Conculusion\n",
        "\n",
        "In this tutorial, we explored Model-based Recursive Partitioning (MOB) using the {partykit} package in R. We demonstrated how to fit MOB models with Ordinary Least Squares (OLS), logistic regression, multinomial logistic regression, and Poisson regression. The key steps included data preparation, model fitting, visualization, and evaluation of model performance. At the end of each section, we provided code snippets to illustrate the process and results. This approach allows for flexible modeling of complex relationships in data, capturing heterogeneity across subgroups while maintaining statistical rigor through formal hypothesis testing.\n"
      ],
      "metadata": {
        "id": "Nb0kdVIuGlK7"
      }
    },
    {
      "cell_type": "markdown",
      "source": [
        "## References\n",
        "\n",
        "1.  Hothorn, T., Hornik, K., & Zeileis, A. (2015). partykit: A Toolkit for Recursive Partytioning. Journal of Statistical Software, 32(1), 1-26. doi:10.18637/jss.v032.i01\n",
        "\n",
        "2.  Hastie, T., Tibshirani, R., & Friedman, J. (2009). The Elements of Statistical Learning: Data Mining, Inference, and Prediction (2nd Edition). Springer.\n",
        "\n",
        "3.  Zeileis, A., Hothorn, T., & Hornik, K. (2008). Model-Based Recursive Partitioning. Journal of Computational and Graphical Statistics, 17(2), 492–514.\n",
        "\n",
        "4.  [party with the mob: Model-Based Recursive Partitioning in R](https://cran.r-project.org/web/packages/party/vignettes/MOB.pdf)\n",
        "\n",
        "\n"
      ],
      "metadata": {
        "id": "vBv6P7rHdyQy"
      }
    }
  ]
}