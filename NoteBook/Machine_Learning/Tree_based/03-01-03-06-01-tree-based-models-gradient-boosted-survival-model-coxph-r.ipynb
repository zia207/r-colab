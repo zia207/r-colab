{
  "cells": [
    {
      "cell_type": "markdown",
      "metadata": {
        "id": "view-in-github",
        "colab_type": "text"
      },
      "source": [
        "<a href=\"https://colab.research.google.com/github/zia207/r-colab/blob/main/NoteBook/Machine_Learning/Tree_based/03-01-03-06-01-tree-based-models-gradient-boosted-survival-model-coxph-r.ipynb\" target=\"_parent\"><img src=\"https://colab.research.google.com/assets/colab-badge.svg\" alt=\"Open In Colab\"/></a>"
      ]
    },
    {
      "cell_type": "markdown",
      "metadata": {
        "id": "4qrItz_mJNWw"
      },
      "source": [
        "![alt text](http://drive.google.com/uc?export=view&id=1bLQ3nhDbZrCCqy_WCxxckOne2lgVvn3l)"
      ]
    },
    {
      "cell_type": "markdown",
      "source": [
        "# 3.6.1  Cox Proportional Hazards-Based Gradient Boosting\n",
        "\n",
        "\n",
        "The Cox Proportional Hazards-Based Gradient Boosting Model is a powerful machine learning technique used in survival analysis to predict time-to-event outcomes (e.g., death, failure, churn) while handling censored data. It combines the strengths of Cox proportional hazards regression with the predictive power of gradient boosting, enabling flexible, non-linear modeling of survival risks.\n",
        "\n",
        "This model is particularly useful when traditional linear assumptions of the Cox model are too restrictive, and more complex relationships between features and survival time exist."
      ],
      "metadata": {
        "id": "c5S8F128ivz-"
      }
    },
    {
      "cell_type": "markdown",
      "source": [
        "## Overview\n",
        "\n",
        "Survival analysis aims to model the time until an event occurs, with the challenge that some subjects may not experience the event during the study period (right-censored data). The **Cox proportional hazards (Cox PH) model** is a semi-parametric regression model widely used for such tasks.\n",
        "\n",
        "However, the classical Cox model assumes:\n",
        "- Linear effects of covariates\n",
        "- Proportional hazards\n",
        "- No interactions unless explicitly added\n",
        "\n",
        "To overcome these limitations, **gradient boosting**—a machine learning ensemble method—can be adapted to optimize the **partial likelihood** of the Cox model. This results in a **boosted Cox model** that learns complex, non-linear patterns in the data by sequentially fitting weak learners (typically decision trees) to improve survival risk predictions.\n",
        "\n",
        "This approach is implemented in libraries like **XGBoost**, **LightGBM**, and **pyGBM**, using a custom objective function based on the **Cox partial log-likelihood**."
      ],
      "metadata": {
        "id": "WYJ3Briji3xF"
      }
    },
    {
      "cell_type": "markdown",
      "source": [
        "### Key Features\n",
        "\n",
        "| Feature | Description |\n",
        "|--------|-------------|\n",
        "| **Handles Censored Data** | Properly accounts for right-censored observations using partial likelihood. |\n",
        "| **Non-linear Relationships** | Can capture non-linear effects and feature interactions without manual specification. |\n",
        "| **Feature Selection** | Built-in importance scoring helps identify influential predictors. |\n",
        "| **Ensemble Learning** | Combines many weak models (trees) into a strong predictor via boosting. |\n",
        "| **Flexible Functional Form** | Does not assume linearity; adapts to complex data structures. |\n",
        "| **Optimizes Cox Objective** | Uses the **negative log partial likelihood** as the loss function. |"
      ],
      "metadata": {
        "id": "DlL7KtFSjM6G"
      }
    },
    {
      "cell_type": "markdown",
      "source": [
        "### How It Works\n",
        "\n",
        "1. **Cox Proportional Hazards Model (Baseline)**\n",
        "\n",
        "The Cox model defines the hazard function for individual $ i $ at time $ t $ as:\n",
        "\n",
        "$$\n",
        "h_i(t) = h_0(t) \\cdot \\exp(\\mathbf{x}_i^\\top \\boldsymbol{\\beta})\n",
        "$$\n",
        "\n",
        "Where:\n",
        "- $ h_i(t) $: hazard rate for individual $ i $\n",
        "- $ h_0(t) $: baseline hazard (non-parametric, unspecified)\n",
        "- $ \\mathbf{x}_i $: vector of covariates\n",
        "- $ \\boldsymbol{\\beta} $: coefficients (estimated from data)\n",
        "\n",
        "The **partial log-likelihood** (used for estimation) is:\n",
        "\n",
        "$$\n",
        "\\ell(\\boldsymbol{\\beta}) = \\sum_{i: \\delta_i = 1} \\left[ \\mathbf{x}_i^\\top \\boldsymbol{\\beta} - \\log\\left( \\sum_{j \\in R(t_i)} \\exp(\\mathbf{x}_j^\\top \\boldsymbol{\\beta}) \\right) \\right]\n",
        "$$\n",
        "\n",
        "Where:\n",
        "- $ \\delta_i = 1 $ if event observed (not censored)\n",
        "- $ R(t_i) $: risk set at time $ t_i $ (individuals still under observation just before $ t_i $)\n",
        "\n",
        "2. **Gradient Boosting Framework with Cox Loss**\n",
        "\n",
        "Instead of estimating $ \\boldsymbol{\\beta} $ via maximum likelihood, **gradient boosting** builds a prediction function $ f(\\mathbf{x}) $ iteratively:\n",
        "\n",
        "$$\n",
        "F_m(\\mathbf{x}) = F_{m-1}(\\mathbf{x}) + \\nu \\cdot f_m(\\mathbf{x})\n",
        "$$\n",
        "\n",
        "Where:\n",
        "- $ F_m(\\mathbf{x}) $: cumulative model after $ m $-th iteration\n",
        "- $ f_m(\\mathbf{x}) $: weak learner (e.g., decision tree) fitted to pseudo-residuals\n",
        "- $ \\nu $: learning rate (shrinkage)\n",
        "\n",
        "### Step-by-Step Process:\n",
        "\n",
        "1. **Initialize** model $ F_0(\\mathbf{x}) = 0 $ or a constant.\n",
        "2. For $ m = 1 $ to $ M $:\n",
        "   a. Compute **negative gradient** (pseudo-residuals) of Cox loss w.r.t. current predictions:\n",
        "   $$ r_{im} = \\delta_i \\left[ \\mathbf{x}_i - \\frac{\\sum_{j \\in R(t_i)} \\mathbf{x}_j \\exp(F_{m-1}(\\mathbf{x}_j))}{\\sum_{j \\in R(t_i)} \\exp(F_{m-1}(\\mathbf{x}_j))} \\right] $$\n",
        "   \n",
        "   This represents the **score residual** or gradient for individual $ i $.\n",
        "\n",
        "   b. Fit a **regression tree** $ f_m(\\mathbf{x}) $ to the residuals $ r_{im} $.\n",
        "   c. Update the model:\n",
        "   \n",
        "   $$ F_m(\\mathbf{x}_i) = F_{m-1}(\\mathbf{x}_i) + \\nu \\cdot f_m(\\mathbf{x}_i) $$\n",
        "      \n",
        "\n",
        "3. Return final risk score $ \\hat{f}(\\mathbf{x}) = F_M(\\mathbf{x}) $\n",
        "\n",
        "The output $ \\hat{f}(\\mathbf{x}) $ is interpreted as the **log partial hazard** — higher values indicate higher risk."
      ],
      "metadata": {
        "id": "ZT7OW7NTjlJ7"
      }
    },
    {
      "cell_type": "markdown",
      "source": [
        "### Advantages\n",
        "\n",
        "| Advantage | Explanation |\n",
        "|--------|-------------|\n",
        "| **Handles Non-linearity** | Automatically captures non-linear and interactive effects without manual transformation. |\n",
        "| **Robust to Outliers** | Tree-based models are less sensitive to extreme values. |\n",
        "| **Built-in Regularization** | Techniques like shrinkage, subsampling, and tree depth control prevent overfitting. |\n",
        "| **High Predictive Accuracy** | Often outperforms traditional Cox models on complex datasets. |\n",
        "| **Feature Importance** | Provides interpretable metrics (e.g., gain, split count) for understanding key predictors. |\n",
        "| **Scalable** | Efficient implementations in XGBoost/LightGBM handle large datasets. |\n"
      ],
      "metadata": {
        "id": "6-0KxULijmqF"
      }
    },
    {
      "cell_type": "markdown",
      "source": [
        "### Limitations\n",
        "\n",
        "| Limitation | Explanation |\n",
        "|----------|-------------|\n",
        "| **Assumes Proportional Hazards** | Still relies on PH assumption unless extended (e.g., time-varying effects added manually). |\n",
        "| **Black-Box Nature** | Less interpretable than standard Cox models; harder to explain individual predictions. |\n",
        "| **Computationally Intensive** | Training can be slow with many iterations or large datasets. |\n",
        "| **Requires Careful Tuning** | Hyperparameters (learning rate, depth, etc.) need optimization. |\n",
        "| **No Direct Survival Time Prediction** | Outputs risk scores, not survival times or curves (unless calibrated). |\n",
        "| **Limited Software Support** | Not all boosting libraries support survival objectives natively. |\n"
      ],
      "metadata": {
        "id": "kfLbyBkpjmxe"
      }
    },
    {
      "cell_type": "markdown",
      "source": [
        "### Use Cases\n",
        "\n",
        "- Medical research: Predict patient survival after treatment\n",
        "- Reliability engineering: Time until machine failure\n",
        "- Customer analytics: Churn prediction in subscription services\n",
        "- Finance: Time until loan default"
      ],
      "metadata": {
        "id": "ES4CNi6dkeXy"
      }
    },
    {
      "cell_type": "markdown",
      "source": [
        "## Setup R in Python Runtype"
      ],
      "metadata": {
        "id": "H4x5AnBtqxc4"
      }
    },
    {
      "cell_type": "markdown",
      "source": [
        "### Install {rpy2}\n",
        "\n",
        "{rpy2} is a Python package that provides an interface to the R programming language, allowing Python users to run R code, call R functions, and manipulate R objects directly from Python. It enables seamless integration between Python and R, leveraging R's statistical and graphical capabilities while using Python's flexibility. The package supports passing data between the two languages and is widely used for statistical analysis, data visualization, and machine learning tasks that benefit from R's specialized librari"
      ],
      "metadata": {
        "id": "W7G6FA-dq1U7"
      }
    },
    {
      "cell_type": "code",
      "source": [
        "!pip uninstall rpy2 -y\n",
        "!pip install rpy2==3.5.1\n",
        "%load_ext rpy2.ipython"
      ],
      "metadata": {
        "colab": {
          "base_uri": "https://localhost:8080/"
        },
        "id": "0rjj9i1Bq3kq",
        "outputId": "99185593-0567-4677-856c-8acc459f01f7"
      },
      "execution_count": null,
      "outputs": [
        {
          "output_type": "stream",
          "name": "stdout",
          "text": [
            "Found existing installation: rpy2 3.5.1\n",
            "Uninstalling rpy2-3.5.1:\n",
            "  Successfully uninstalled rpy2-3.5.1\n",
            "Collecting rpy2==3.5.1\n",
            "  Using cached rpy2-3.5.1-cp311-cp311-linux_x86_64.whl\n",
            "Requirement already satisfied: cffi>=1.10.0 in /usr/local/lib/python3.11/dist-packages (from rpy2==3.5.1) (1.17.1)\n",
            "Requirement already satisfied: jinja2 in /usr/local/lib/python3.11/dist-packages (from rpy2==3.5.1) (3.1.6)\n",
            "Requirement already satisfied: pytz in /usr/local/lib/python3.11/dist-packages (from rpy2==3.5.1) (2025.2)\n",
            "Requirement already satisfied: tzlocal in /usr/local/lib/python3.11/dist-packages (from rpy2==3.5.1) (5.3.1)\n",
            "Requirement already satisfied: pycparser in /usr/local/lib/python3.11/dist-packages (from cffi>=1.10.0->rpy2==3.5.1) (2.22)\n",
            "Requirement already satisfied: MarkupSafe>=2.0 in /usr/local/lib/python3.11/dist-packages (from jinja2->rpy2==3.5.1) (3.0.2)\n",
            "Installing collected packages: rpy2\n",
            "Successfully installed rpy2-3.5.1\n"
          ]
        }
      ]
    },
    {
      "cell_type": "markdown",
      "source": [
        "Mount Google Drive"
      ],
      "metadata": {
        "id": "_gmA4TWsq6cA"
      }
    },
    {
      "cell_type": "code",
      "source": [
        "from google.colab import drive\n",
        "drive.mount('/content/drive')"
      ],
      "metadata": {
        "colab": {
          "base_uri": "https://localhost:8080/"
        },
        "id": "K1_dgJYHq7kI",
        "outputId": "38dca9ce-48f3-4ca5-e796-9de6bb398494"
      },
      "execution_count": null,
      "outputs": [
        {
          "output_type": "stream",
          "name": "stdout",
          "text": [
            "Drive already mounted at /content/drive; to attempt to forcibly remount, call drive.mount(\"/content/drive\", force_remount=True).\n"
          ]
        }
      ]
    },
    {
      "cell_type": "markdown",
      "source": [
        "## Cox Proportional Hazards-Based Gradient Boosting Model in R\n",
        "\n",
        "This section provides a comprehensive guide to implementing the Cox Proportional Hazards-Based Gradient Boosting Model using R, specifically utilizing the {CoxBoost} package. The steps include loading necessary libraries, preparing the dataset, fitting the model, validating it, and visualizing results.\n"
      ],
      "metadata": {
        "id": "aZIl8AcCsiTi"
      }
    },
    {
      "cell_type": "markdown",
      "source": [
        "### Check amd Install Required R Packages"
      ],
      "metadata": {
        "id": "B0qqHpbmrDO1"
      }
    },
    {
      "cell_type": "code",
      "source": [
        "%%R\n",
        "# install Coxboost\n",
        "if (!require(\"devtools\", quietly = TRUE))\n",
        "    install.packages(\"devtools\",ib='drive/My Drive/R/')\n",
        "devtools::install_github(\"binderh/CoxBoost\",lib='drive/My Drive/R/')"
      ],
      "metadata": {
        "id": "t4MVLY9srOLO"
      },
      "execution_count": null,
      "outputs": []
    },
    {
      "cell_type": "code",
      "source": [
        "%%R\n",
        "# Explicitly install BiocManager to the specified library path\n",
        "install.packages(\"BiocManager\", lib='drive/My Drive/R/', repos = \"https://cran.rstudio.com/\")"
      ],
      "metadata": {
        "id": "xq2OmEvRi0Ow"
      },
      "execution_count": null,
      "outputs": []
    },
    {
      "cell_type": "code",
      "source": [
        "%%R\n",
        "# install survcomp\n",
        "if (!require(\"BiocManager\", quietly = TRUE)) {\n",
        "    install.packages(\"BiocManager\", lib='drive/My Drive/R/')\n",
        "    # Ensure BiocManager is loaded after installation\n",
        "    if (!require(\"BiocManager\", quietly = TRUE)) {\n",
        "        stop(\"Could not install or load BiocManager\")\n",
        "    }\n",
        "}\n",
        "\n",
        "BiocManager::install(\"survcomp\", lib='drive/My Drive/R/', ask = FALSE, force = TRUE)"
      ],
      "metadata": {
        "id": "Gdbgvmd_rZpo"
      },
      "execution_count": null,
      "outputs": []
    },
    {
      "cell_type": "code",
      "source": [
        "%%R\n",
        "packages <- c('tidyverse',\n",
        "              'plyr',\n",
        "              'survival',\n",
        "              'survivalROC',\n",
        "              'survminer',\n",
        "              'survcomp',\n",
        "              'BiocManager',\n",
        "              'CoxBoost',\n",
        "              'pec'\n",
        "\n",
        "         )"
      ],
      "metadata": {
        "id": "-l_FivaErEeU"
      },
      "execution_count": null,
      "outputs": []
    },
    {
      "cell_type": "markdown",
      "source": [
        "### Install Missing Packages"
      ],
      "metadata": {
        "id": "gn_SkfXjrnik"
      }
    },
    {
      "cell_type": "code",
      "source": [
        "%%R\n",
        "# Install missing packages\n",
        "new.packages <- packages[!(packages %in% installed.packages(lib='drive/My Drive/R/')[,\"Package\"])]\n",
        "if(length(new.packages)) install.packages(new.packages, lib='drive/My Drive/R/')"
      ],
      "metadata": {
        "id": "vKR7o1Egrr8_"
      },
      "execution_count": null,
      "outputs": []
    },
    {
      "cell_type": "markdown",
      "source": [
        "### Verify Installation"
      ],
      "metadata": {
        "id": "YT_giEXPiTPV"
      }
    },
    {
      "cell_type": "code",
      "source": [
        "%%R\n",
        "# set library path\n",
        ".libPaths('drive/My Drive/R')\n",
        "# Verify installation\n",
        "cat(\"Installed packages:\\n\")\n",
        "print(sapply(packages, requireNamespace, quietly = TRUE))"
      ],
      "metadata": {
        "id": "ir-Twu8_ryBg",
        "colab": {
          "base_uri": "https://localhost:8080/"
        },
        "outputId": "ba9d2d64-0ed1-41ad-d39e-5f1cba9b0f85"
      },
      "execution_count": null,
      "outputs": [
        {
          "output_type": "stream",
          "name": "stdout",
          "text": [
            "Installed packages:\n",
            "  tidyverse        plyr    survival survivalROC   survminer    survcomp \n",
            "       TRUE        TRUE        TRUE        TRUE        TRUE        TRUE \n",
            "BiocManager    CoxBoost         pec \n",
            "       TRUE        TRUE        TRUE \n"
          ]
        }
      ]
    },
    {
      "cell_type": "markdown",
      "source": [
        "### Load R Packages"
      ],
      "metadata": {
        "id": "uy14zG-Or7d7"
      }
    },
    {
      "cell_type": "code",
      "source": [
        "%%R\n",
        "# set library path\n",
        ".libPaths('drive/My Drive/R')\n",
        "# Load packages with suppressed messages\n",
        "invisible(lapply(packages, function(pkg) {\n",
        "  suppressPackageStartupMessages(library(pkg, character.only = TRUE))\n",
        "}))"
      ],
      "metadata": {
        "id": "0vHKUvXNr7ny"
      },
      "execution_count": null,
      "outputs": []
    },
    {
      "cell_type": "markdown",
      "source": [
        "### Check Loaded Packages"
      ],
      "metadata": {
        "id": "CmVnZHCgsC_X"
      }
    },
    {
      "cell_type": "code",
      "source": [
        "%%R\n",
        "# Check loaded packages\n",
        "cat(\"Successfully loaded packages:\\n\")\n",
        "print(search()[grepl(\"package:\", search())])# Check loaded packageswer)"
      ],
      "metadata": {
        "id": "hPKtlgo9sDph",
        "colab": {
          "base_uri": "https://localhost:8080/"
        },
        "outputId": "32703f9c-c261-4f7c-ad3c-9cd937bdd67a"
      },
      "execution_count": null,
      "outputs": [
        {
          "output_type": "stream",
          "name": "stdout",
          "text": [
            "Successfully loaded packages:\n",
            " [1] \"package:pec\"         \"package:CoxBoost\"    \"package:Matrix\"     \n",
            " [4] \"package:BiocManager\" \"package:survcomp\"    \"package:prodlim\"    \n",
            " [7] \"package:survminer\"   \"package:ggpubr\"      \"package:survivalROC\"\n",
            "[10] \"package:survival\"    \"package:plyr\"        \"package:lubridate\"  \n",
            "[13] \"package:forcats\"     \"package:stringr\"     \"package:dplyr\"      \n",
            "[16] \"package:purrr\"       \"package:readr\"       \"package:tidyr\"      \n",
            "[19] \"package:tibble\"      \"package:ggplot2\"     \"package:tidyverse\"  \n",
            "[22] \"package:tools\"       \"package:stats\"       \"package:graphics\"   \n",
            "[25] \"package:grDevices\"   \"package:utils\"       \"package:datasets\"   \n",
            "[28] \"package:methods\"     \"package:base\"       \n"
          ]
        }
      ]
    },
    {
      "cell_type": "markdown",
      "source": [
        "### Data  and Data Preparation\n",
        "\n",
        "First, ensure you have the required packages installed and load the `lung` dataset from the `survival` package. The `lung` dataset contains survival data for 228 patients with advanced lung cancer, including variables like `time` (survival time in days), `status` (censoring indicator: 1 = censored, 2 = dead), and covariates like `age`, `sex`, `ph.ecog`, etc."
      ],
      "metadata": {
        "id": "3PawLmzJvv-9"
      }
    },
    {
      "cell_type": "code",
      "source": [
        "%%R\n",
        "# Set seed for reproducibility\n",
        "set.seed(123)\n",
        "\n",
        "# Prepare lung dataset\n",
        "suppressWarnings(data(lung))\n",
        "# Remove missing values\n",
        "lung_complete <- lung %>% na.omit()\n",
        "\n",
        "# Split into 70% training and 30% testing\n",
        "n <- nrow(lung_complete)\n",
        "train_idx <- sample(1:n, size = round(0.7 * n))\n",
        "train_data <- lung_complete[train_idx, ]\n",
        "test_data <- lung_complete[-train_idx, ]\n",
        "\n",
        "# Training data\n",
        "time_train <- train_data$time\n",
        "status_train <- train_data$status\n",
        "X_train <- train_data[, !(names(train_data) %in% c(\"time\", \"status\"))]\n",
        "X_train_matrix <- as.matrix(X_train)\n",
        "\n",
        "# Test data\n",
        "time_test <- test_data$time\n",
        "status_test <- test_data$status\n",
        "X_test <- test_data[, !(names(test_data) %in% c(\"time\", \"status\"))]\n",
        "X_test_matrix <- as.matrix(X_test)\n",
        "\n",
        "# Verify lengths and data summary\n",
        "cat(\"Training set: time =\", length(time_train),\n",
        "    \", status =\", length(status_train),\n",
        "    \", X rows =\", nrow(X_train_matrix), \"\\n\")\n",
        "cat(\"Test set: time =\", length(time_test),\n",
        "    \", status =\", length(status_test),\n",
        "    \", X rows =\", nrow(X_test_matrix), \"\\n\")\n",
        "cat(\"Training data summary:\\n\")\n",
        "print(summary(X_train))\n",
        "cat(\"Event rate in training set:\", mean(status_train), \"\\n\")\n",
        "cat(\"Any NA in X_train_matrix:\", any(is.na(X_train_matrix)), \"\\n\")\n",
        "cat(\"Any infinite in X_train_matrix:\", any(is.infinite(X_train_matrix)), \"\\n\")\n",
        "cat(\"Correlation matrix of X_train:\\n\")\n",
        "print(cor(X_train_matrix))"
      ],
      "metadata": {
        "colab": {
          "base_uri": "https://localhost:8080/"
        },
        "id": "bsDgsJVovb27",
        "outputId": "5477909d-39f2-48b6-90e9-ba3ec760d79d"
      },
      "execution_count": null,
      "outputs": [
        {
          "output_type": "stream",
          "name": "stdout",
          "text": [
            "Training set: time = 117 , status = 117 , X rows = 117 \n",
            "Test set: time = 50 , status = 50 , X rows = 50 \n",
            "Training data summary:\n",
            "      inst            age             sex           ph.ecog      \n",
            " Min.   : 1.00   Min.   :39.00   Min.   :1.000   Min.   :0.0000  \n",
            " 1st Qu.: 3.00   1st Qu.:57.00   1st Qu.:1.000   1st Qu.:0.0000  \n",
            " Median :11.00   Median :64.00   Median :1.000   Median :1.0000  \n",
            " Mean   :10.69   Mean   :62.08   Mean   :1.385   Mean   :0.9573  \n",
            " 3rd Qu.:16.00   3rd Qu.:69.00   3rd Qu.:2.000   3rd Qu.:1.0000  \n",
            " Max.   :32.00   Max.   :82.00   Max.   :2.000   Max.   :2.0000  \n",
            "    ph.karno        pat.karno         meal.cal         wt.loss      \n",
            " Min.   : 50.00   Min.   : 30.00   Min.   : 131.0   Min.   :-16.00  \n",
            " 1st Qu.: 70.00   1st Qu.: 70.00   1st Qu.: 588.0   1st Qu.:  0.00  \n",
            " Median : 80.00   Median : 80.00   Median :1025.0   Median :  6.00  \n",
            " Mean   : 81.88   Mean   : 80.51   Mean   : 923.4   Mean   :  9.06  \n",
            " 3rd Qu.: 90.00   3rd Qu.: 90.00   3rd Qu.:1125.0   3rd Qu.: 15.00  \n",
            " Max.   :100.00   Max.   :100.00   Max.   :2450.0   Max.   : 52.00  \n",
            "Event rate in training set: 1.692308 \n",
            "Any NA in X_train_matrix: FALSE \n",
            "Any infinite in X_train_matrix: FALSE \n",
            "Correlation matrix of X_train:\n",
            "                  inst         age          sex      ph.ecog    ph.karno\n",
            "inst       1.000000000 -0.03098236  0.053768313  0.025935293  0.01453342\n",
            "age       -0.030982365  1.00000000 -0.179316238  0.263500117 -0.26529996\n",
            "sex        0.053768313 -0.17931624  1.000000000 -0.001906509 -0.00629913\n",
            "ph.ecog    0.025935293  0.26350012 -0.001906509  1.000000000 -0.84361680\n",
            "ph.karno   0.014533416 -0.26529996 -0.006299130 -0.843616803  1.00000000\n",
            "pat.karno -0.009295442 -0.19902354  0.114292590 -0.515903910  0.52087370\n",
            "meal.cal   0.179301654 -0.16465048 -0.182082477 -0.045552112 -0.03053992\n",
            "wt.loss   -0.272728602  0.08841938 -0.194113671  0.179328991 -0.16630108\n",
            "             pat.karno    meal.cal     wt.loss\n",
            "inst      -0.009295442  0.17930165 -0.27272860\n",
            "age       -0.199023539 -0.16465048  0.08841938\n",
            "sex        0.114292590 -0.18208248 -0.19411367\n",
            "ph.ecog   -0.515903910 -0.04555211  0.17932899\n",
            "ph.karno   0.520873699 -0.03053992 -0.16630108\n",
            "pat.karno  1.000000000  0.12244686 -0.18747267\n",
            "meal.cal   0.122446863  1.00000000 -0.25624008\n",
            "wt.loss   -0.187472671 -0.25624008  1.00000000\n"
          ]
        }
      ]
    },
    {
      "cell_type": "markdown",
      "source": [
        "### Fit Initial CoxBoost Model\n",
        "\n",
        "\n",
        "First, we fit an initial CoxBoost model using the training data. This model will be used to estimate the baseline cumulative hazard and compute survival curves.  `CoxBoost()` function is used to fit the model, specifying the time, status, and predictor matrix. The `stepno` parameter controls the number of boosting iterations, and `penalty` is set to 100 for regularization. The `criterion` is set to \"pscore\" for partial score optimization, and `standardize` is set to TRUE to standardize the predictors.\n"
      ],
      "metadata": {
        "id": "iR3XziaLv6M_"
      }
    },
    {
      "cell_type": "code",
      "source": [
        "%%R\n",
        "# Fit initial CoxBoost model\n",
        "initial_model <- CoxBoost(\n",
        "  time = time_train,\n",
        "  status = status_train,\n",
        "  x = X_train_matrix,\n",
        "  stepno = 100,\n",
        "  penalty = 100,\n",
        "  criterion = \"pscore\",\n",
        "  standardize = TRUE\n",
        ")\n",
        "\n",
        "summary(initial_model)"
      ],
      "metadata": {
        "id": "-Pk2J1i7v8q7",
        "colab": {
          "base_uri": "https://localhost:8080/"
        },
        "outputId": "658fda0c-79f8-405f-eaf2-27f26851c53a"
      },
      "execution_count": null,
      "outputs": [
        {
          "output_type": "stream",
          "name": "stdout",
          "text": [
            "100 boosting steps resulting in 8 non-zero coefficients  \n",
            "partial log-likelihood: -157.7046 \n",
            "\n",
            "parameter estimates > 0:\n",
            " inst, sex, pat.karno, meal.cal, wt.loss \n",
            "parameter estimates < 0:\n",
            " age, ph.ecog, ph.karno \n"
          ]
        }
      ]
    },
    {
      "cell_type": "code",
      "source": [
        "%%R\n",
        " # variables contained in the fitted object\n",
        " names(initial_model)"
      ],
      "metadata": {
        "id": "GzhopG_ln6e6",
        "colab": {
          "base_uri": "https://localhost:8080/"
        },
        "outputId": "6c60f23b-3950-497f-d5c0-d3c1b8ac2870"
      },
      "execution_count": null,
      "outputs": [
        {
          "output_type": "stream",
          "name": "stdout",
          "text": [
            " [1] \"time\"             \"status\"           \"event.times\"      \"weights\"         \n",
            " [5] \"strata\"           \"stratum\"          \"stepno\"           \"xnames\"          \n",
            " [9] \"n\"                \"p\"                \"meanx\"            \"sdx\"             \n",
            "[13] \"standardize\"      \"causes\"           \"coefficients\"     \"linear.predictor\"\n",
            "[17] \"Lambda\"           \"scoremat\"         \"logplik\"         \n"
          ]
        }
      ]
    },
    {
      "cell_type": "code",
      "source": [
        "%%R\n",
        "# coefficient estimates\n",
        "dim(initial_model$coefficients)"
      ],
      "metadata": {
        "id": "qxunxSIJoAVG",
        "colab": {
          "base_uri": "https://localhost:8080/"
        },
        "outputId": "7106ab17-5210-495a-cd2c-de3b8bd4b5cc"
      },
      "execution_count": null,
      "outputs": [
        {
          "output_type": "stream",
          "name": "stdout",
          "text": [
            "[1] 101   8\n"
          ]
        }
      ]
    },
    {
      "cell_type": "code",
      "source": [
        "%%R\n",
        "# linear predictor estimates\n",
        "dim(initial_model$linear.predictor)"
      ],
      "metadata": {
        "id": "jtSGCo5noIr4",
        "colab": {
          "base_uri": "https://localhost:8080/"
        },
        "outputId": "f068bdd7-5790-496d-e4c6-6ea3b0081179"
      },
      "execution_count": null,
      "outputs": [
        {
          "output_type": "stream",
          "name": "stdout",
          "text": [
            "[1] 101 117\n"
          ]
        }
      ]
    },
    {
      "cell_type": "code",
      "source": [
        "%%R\n",
        "# cumulative baseline hazard estimates\n",
        "dim(initial_model$Lambda)"
      ],
      "metadata": {
        "id": "J-QDupyroLsC",
        "colab": {
          "base_uri": "https://localhost:8080/"
        },
        "outputId": "47b99b27-95a1-4431-9c23-a5bb02993b48"
      },
      "execution_count": null,
      "outputs": [
        {
          "output_type": "stream",
          "name": "stdout",
          "text": [
            "[1] 101  34\n"
          ]
        }
      ]
    },
    {
      "cell_type": "markdown",
      "source": [
        "### Prediction and Validation"
      ],
      "metadata": {
        "id": "xOh-hQkuoVkC"
      }
    },
    {
      "cell_type": "code",
      "source": [
        "%%R\n",
        "# Initial model validation on test data\n",
        "# Get risk scores\n",
        "initial_pred <- predict(initial_model, newdata = X_test_matrix, type = \"risk\")\n",
        "\n",
        "# Debug: Check dimensions and content of initial_pred\n",
        "cat(\"Dimensions of initial_pred =\", dim(initial_pred), \"\\n\")\n",
        "cat(\"Length of initial_pred (as vector) =\", length(as.vector(initial_pred)), \"\\n\")\n",
        "cat(\"First few values of initial_pred:\", head(as.vector(initial_pred)), \"\\n\")"
      ],
      "metadata": {
        "id": "WUhAqglToWLm",
        "colab": {
          "base_uri": "https://localhost:8080/"
        },
        "outputId": "ad7314b2-8bd9-475b-c90b-cce56c07194d"
      },
      "execution_count": null,
      "outputs": [
        {
          "output_type": "stream",
          "name": "stdout",
          "text": [
            "Dimensions of initial_pred = 50 106 \n",
            "Length of initial_pred (as vector) = 5300 \n",
            "First few values of initial_pred: 0.970567 0.9873503 0.9884359 0.958653 0.9772657 0.9531882 \n"
          ]
        }
      ]
    },
    {
      "cell_type": "code",
      "source": [
        "%%R\n",
        "# Handle case where initial_pred is a matrix\n",
        "if (is.matrix(initial_pred)) {\n",
        "  cat(\"initial_pred is a matrix, selecting final column\\n\")\n",
        "  # Assign to the global environment\n",
        "  initial_pred_vec <<- as.vector(initial_pred[, ncol(initial_pred)])\n",
        "} else {\n",
        "  # Assign to the global environment\n",
        "  initial_pred_vec <<- as.vector(initial_pred)\n",
        "}"
      ],
      "metadata": {
        "id": "-2pWbpxbocNI",
        "colab": {
          "base_uri": "https://localhost:8080/"
        },
        "outputId": "a2a81ed5-6ff6-45c0-af21-9bb90ef3982b"
      },
      "execution_count": null,
      "outputs": [
        {
          "output_type": "stream",
          "name": "stdout",
          "text": [
            "initial_pred is a matrix, selecting final column\n"
          ]
        }
      ]
    },
    {
      "cell_type": "markdown",
      "source": [
        "### C-Index of Initial Model\n",
        "\n",
        "C-index is a measure of the model's discriminatory ability, indicating how well the model can distinguish between individuals who experience the event and those who do not. A C-index of 0.5 indicates no discrimination (random prediction), while a C-index of 1.0 indicates perfect discrimination."
      ],
      "metadata": {
        "id": "1O26_SFBoeAi"
      }
    },
    {
      "cell_type": "code",
      "source": [
        "%%R\n",
        "# Custom C-index function as a fallback\n",
        "custom_cindex <- function(pred, time, status) {\n",
        "  concordant <- 0\n",
        "  total_pairs <- 0\n",
        "  n <- length(time)\n",
        "  for (i in 1:(n-1)) {\n",
        "    for (j in (i+1):n) {\n",
        "      if (status[i] == 1 && status[j] == 1) {\n",
        "        if (time[i] < time[j] && pred[i] > pred[j]) concordant <- concordant + 1\n",
        "        if (time[j] < time[i] && pred[j] > pred[i]) concordant <- concordant + 1\n",
        "        total_pairs <- total_pairs + 1\n",
        "      } else if (status[i] == 1 && status[j] == 0) {\n",
        "        if (time[i] < time[j] && pred[i] > pred[j]) concordant <- concordant + 1\n",
        "        total_pairs <- total_pairs + 1\n",
        "      } else if (status[j] == 1 && status[i] == 0) {\n",
        "        if (time[j] < time[i] && pred[j] > pred[i]) concordant <- concordant + 1\n",
        "        total_pairs <- total_pairs + 1\n",
        "      }\n",
        "    }\n",
        "  }\n",
        "  if (total_pairs == 0) return(NA)\n",
        "  return(concordant / total_pairs)\n",
        "}"
      ],
      "metadata": {
        "id": "MB4mxCgfoeOU"
      },
      "execution_count": null,
      "outputs": []
    },
    {
      "cell_type": "code",
      "source": [
        "%%R\n",
        "# Try C-index with survcomp on test data\n",
        "initial_cindex <- NA\n",
        "tryCatch({\n",
        "  initial_cindex <- concordance.index(\n",
        "    x = initial_pred_vec,\n",
        "    surv.time = time_test,\n",
        "    surv.event = status_test,\n",
        "    method = \"noether\"\n",
        "  )$c.index\n",
        "  cat(\"survcomp::concordance.index succeeded for initial model\\n\")\n",
        "}, error = function(e) {\n",
        "  cat(\"survcomp::concordance.index failed for initial model:\", e$message, \"\\n\")\n",
        "  # Fallback 1: Try survivalROC\n",
        "  tryCatch({\n",
        "    roc <- survivalROC(\n",
        "      Stime = time_test,\n",
        "      status = status_test,\n",
        "      marker = initial_pred_vec,\n",
        "      predict.time = median(time_test),\n",
        "      method = \"NNE\"\n",
        "    )\n",
        "    initial_cindex <<- roc$AUC\n",
        "    cat(\"Fallback C-index (AUC at median time) for initial model:\", initial_cindex, \"\\n\")\n",
        "  }, error = function(e2) {\n",
        "    cat(\"survivalROC failed for initial model:\", e2$message, \"\\n\")\n",
        "    # Fallback 2: Custom C-index\n",
        "    initial_cindex <<- custom_cindex(initial_pred_vec, time_test, status_test)\n",
        "    cat(\"Custom C-index for initial model:\", initial_cindex, \"\\n\")\n",
        "  })\n",
        "})\n",
        "\n",
        "print(paste(\"Initial model C-index:\", round(initial_cindex, 3)))"
      ],
      "metadata": {
        "id": "-8lwLFmQommy",
        "colab": {
          "base_uri": "https://localhost:8080/"
        },
        "outputId": "28c8be82-5a97-4812-9a41-aa04bc026579"
      },
      "execution_count": null,
      "outputs": [
        {
          "output_type": "stream",
          "name": "stdout",
          "text": [
            "survcomp::concordance.index succeeded for initial model\n",
            "[1] \"Initial model C-index: 0.301\"\n"
          ]
        }
      ]
    },
    {
      "cell_type": "markdown",
      "source": [
        "### Integrated Brier Score (IBS)\n",
        "\n",
        "The Integrated Brier Score (IBS) is a metric used to evaluate the predictive performance of survival models, such as the CoxBoost model in your script. It measures the mean squared error of predicted survival probabilities over a specified time range, accounting for censoring"
      ],
      "metadata": {
        "id": "jdt8EDJWop3E"
      }
    },
    {
      "cell_type": "code",
      "source": [
        "%%R\n",
        "eval_times <- seq(0, max(time_test), length.out = 100)\n",
        "initial_cif <- predict(initial_model, newdata = X_test_matrix, type = \"CIF\", times = eval_times)\n",
        "initial_brier <- rep(NA, length(eval_times))\n",
        "for (i in 1:length(eval_times)) {\n",
        "  km_fit <- survfit(Surv(time_test, 1 - status_test) ~ 1, data = test_data)\n",
        "  G_t <- summary(km_fit, times = eval_times[i])$surv\n",
        "  if (length(G_t) == 0) G_t <- 1\n",
        "  initial_brier[i] <- mean((as.numeric(time_test > eval_times[i]) - (1 - initial_cif[, i]))^2 / G_t, na.rm = TRUE)\n",
        "}\n",
        "initial_ibs <- mean(initial_brier, na.rm = TRUE)\n",
        "print(paste(\"Initial model IBS:\", round(initial_ibs, 3)))"
      ],
      "metadata": {
        "id": "n-fhkDi_oqnf",
        "colab": {
          "base_uri": "https://localhost:8080/"
        },
        "outputId": "fd597b8a-28b7-4271-812a-921c5d996ede"
      },
      "execution_count": null,
      "outputs": [
        {
          "output_type": "stream",
          "name": "stdout",
          "text": [
            "[1] \"Initial model IBS: 0.396\"\n"
          ]
        }
      ]
    },
    {
      "cell_type": "markdown",
      "source": [
        "### Kaplan-Meier baseline IBS\n",
        "\n",
        "The Kaplan-Meier baseline Integrated Brier Score (IBS) is calculated using the Kaplan-Meier survival estimates as a baseline for comparison. This provides a reference point to evaluate the performance of the CoxBoost model against a non-parametric survival estimate."
      ],
      "metadata": {
        "id": "hKFxZ4Oiow_2"
      }
    },
    {
      "cell_type": "code",
      "source": [
        "%%R\n",
        "# Kaplan-Meier baseline IBS\n",
        "km_fit <- survfit(Surv(time_test, status_test) ~ 1, data = test_data)\n",
        "km_surv <- summary(km_fit, times = eval_times)$surv\n",
        "km_brier <- rep(NA, length(eval_times))\n",
        "for (i in 1:length(eval_times)) {\n",
        "  G_t <- summary(survfit(Surv(time_test, 1 - status_test) ~ 1), times = eval_times[i])$surv\n",
        "  if (length(G_t) == 0) G_t <- 1\n",
        "  km_brier[i] <- mean((as.numeric(time_test > eval_times[i]) - km_surv[i])^2 / G_t, na.rm = TRUE)\n",
        "}\n",
        "km_ibs <- mean(km_brier, na.rm = TRUE)\n",
        "print(paste(\"Kaplan-Meier baseline IBS:\", round(km_ibs, 3)))"
      ],
      "metadata": {
        "id": "KY4xOyvuoxnV",
        "colab": {
          "base_uri": "https://localhost:8080/"
        },
        "outputId": "9720e31f-55e8-493f-8475-535419f9da2e"
      },
      "execution_count": null,
      "outputs": [
        {
          "output_type": "stream",
          "name": "stdout",
          "text": [
            "[1] \"Kaplan-Meier baseline IBS: 0.113\"\n"
          ]
        }
      ]
    },
    {
      "cell_type": "markdown",
      "source": [
        "### Crosss-Validation for Penalty Parameter\n",
        "\n",
        "Cross-validation is used to select the optimal penalty parameter for the CoxBoost model. The `optimCoxBoostPenalty(` function performs cross-validation, returning the mean log partial likelihood for different penalty values. The optimal penalty is chosen based on the minimum mean log partial likelihood."
      ],
      "metadata": {
        "id": "rbd40nybo2kl"
      }
    },
    {
      "cell_type": "code",
      "source": [
        "%%R\n",
        "cv_penalty <-optimCoxBoostPenalty(time = time_train,\n",
        "                                  status = status_train,\n",
        "                                  x = X_train_matrix,\n",
        "                                  trace=TRUE,\n",
        "                                  start.penalty=500)"
      ],
      "metadata": {
        "id": "sEY2YVe0pCiy"
      },
      "execution_count": null,
      "outputs": []
    },
    {
      "cell_type": "code",
      "source": [
        "%%R\n",
        "# the optimal penalty\n",
        "optimal_penalty<-cv_penalty$penalty\n",
        "print(paste(\"Optimal Penalty:\", optimal_penalty, \"\\n\"))"
      ],
      "metadata": {
        "id": "8Ash8y1Ho-Yf",
        "colab": {
          "base_uri": "https://localhost:8080/"
        },
        "outputId": "514daadc-ba58-43f9-9f56-2cffe1eea30a"
      },
      "execution_count": null,
      "outputs": [
        {
          "output_type": "stream",
          "name": "stdout",
          "text": [
            "[1] \"Optimal Penalty: 5120 \\n\"\n"
          ]
        }
      ]
    },
    {
      "cell_type": "markdown",
      "source": [
        "### Cross-Validation for Boosting Steps\n",
        "\n",
        "Cross-validation is also performed to determine the optimal number of boosting steps. The `cv.CoxBoost()` function is used to perform cross-validation, returning the mean log partial likelihood for different step numbers. The optimal number of steps is chosen based on the minimum mean log partial likelihood."
      ],
      "metadata": {
        "id": "eg3wtkcnpGZh"
      }
    },
    {
      "cell_type": "code",
      "source": [
        "%%R\n",
        "# Cross-validation for boosting steps\n",
        "cv_steps <- tryCatch({\n",
        "  cv.CoxBoost(\n",
        "    time = time_train,\n",
        "    status = status_train,\n",
        "    x = X_train_matrix,\n",
        "    maxstepno = 100,\n",
        "    penalty = 100,\n",
        "    K = 10,\n",
        "    type = \"verweij\"\n",
        "  )\n",
        "}, error = function(e) {\n",
        "  cat(\"cv.CoxBoost for steps failed:\", e$message, \"\\n\")\n",
        "  cat(\"Using default stepno = 100\\n\")\n",
        "  return(NULL)\n",
        "})\n",
        "if (!is.null(cv_steps) && !any(is.na(cv_steps$mean.logplik))) {\n",
        "  optimal_steps <- which.min(cv_steps$mean.logplik)\n",
        "} else {\n",
        "  optimal_steps <- 100\n",
        "}\n",
        "cat(\"Optimal Steps:\", optimal_steps, \"\\n\")"
      ],
      "metadata": {
        "id": "LmUXvXoepHIm",
        "colab": {
          "base_uri": "https://localhost:8080/"
        },
        "outputId": "5aa95695-43f8-4415-c0ba-987e61c4a814"
      },
      "execution_count": null,
      "outputs": [
        {
          "output_type": "stream",
          "name": "stdout",
          "text": [
            "Optimal Steps: 101 \n"
          ]
        }
      ]
    },
    {
      "cell_type": "markdown",
      "source": [
        "### Fit Final Model\n",
        "\n",
        "Now that we have the optimal penalty and number of steps, we can fit the final CoxBoost model using these parameters. The `CoxBoost()` function is used again, this time with the optimal parameters obtained from cross-validation. The model is fitted on the training data, and a summary of the model is printed."
      ],
      "metadata": {
        "id": "a9QbTZD0pMCY"
      }
    },
    {
      "cell_type": "code",
      "source": [
        "%%R\n",
        "# Fit final model\n",
        "final_model <- tryCatch({\n",
        "  CoxBoost(\n",
        "    time = time_train,\n",
        "    status = status_train,\n",
        "    x = X_train_matrix,\n",
        "    stepno = optimal_steps,\n",
        "    penalty = optimal_penalty,\n",
        "    standardize = FALSE\n",
        "  )\n",
        "}, error = function(e) {\n",
        "  cat(\"CoxBoost final model failed:\", e$message, \"\\n\")\n",
        "  cat(\"Using default parameters: stepno = 100, penalty = 100\\n\")\n",
        "  CoxBoost(\n",
        "    time = time_train,\n",
        "    status = status_train,\n",
        "    x = X_train_matrix,\n",
        "    stepno = 100,\n",
        "    penalty = 100,\n",
        "    standardize = FALSE\n",
        "  )\n",
        "})\n",
        "summary(final_model)"
      ],
      "metadata": {
        "id": "mhlH2ehFpMso",
        "colab": {
          "base_uri": "https://localhost:8080/"
        },
        "outputId": "96a54aa5-779d-4169-d9ad-76cbcd3630fc"
      },
      "execution_count": null,
      "outputs": [
        {
          "output_type": "stream",
          "name": "stdout",
          "text": [
            "101 boosting steps resulting in 7 non-zero coefficients  \n",
            "partial log-likelihood: -159.5403 \n",
            "\n",
            "parameter estimates > 0:\n",
            " inst, sex, ph.karno, pat.karno, meal.cal, wt.loss \n",
            "parameter estimates < 0:\n",
            " age \n"
          ]
        }
      ]
    },
    {
      "cell_type": "markdown",
      "source": [
        "### Final model validation on test data"
      ],
      "metadata": {
        "id": "c6AjBgd_pT_k"
      }
    },
    {
      "cell_type": "code",
      "source": [
        "%%R\n",
        "# prediction\n",
        "final_pred <- predict(final_model, newdata = X_test_matrix, type = \"risk\")\n",
        "if (is.matrix(final_pred)) {\n",
        "  final_pred_vec <- as.vector(final_pred[, ncol(final_pred)])\n",
        "} else {\n",
        "  final_pred_vec <- as.vector(final_pred)\n",
        "}"
      ],
      "metadata": {
        "id": "5pjVkpM-pU6M"
      },
      "execution_count": null,
      "outputs": []
    },
    {
      "cell_type": "code",
      "source": [
        "%%R\n",
        "# Try C-index for final model\n",
        "final_cindex <- NA\n",
        "tryCatch({\n",
        "  final_cindex <- concordance.index(\n",
        "    x = final_pred_vec,\n",
        "    surv.time = time_test,\n",
        "    surv.event = status_test,\n",
        "    method = \"noether\"\n",
        "  )$c.index\n",
        "  cat(\"survcomp::concordance.index succeeded for final model\\n\")\n",
        "}, error = function(e) {\n",
        "  cat(\"survcomp::concordance.index failed for final model:\", e$message, \"\\n\")\n",
        "  tryCatch({\n",
        "    roc <- survivalROC(\n",
        "      Stime = time_test,\n",
        "      status = status_test,\n",
        "      marker = final_pred_vec,\n",
        "      predict.time = median(time_test),\n",
        "      method = \"NNE\"\n",
        "    )\n",
        "    final_cindex <<- roc$AUC\n",
        "    cat(\"Fallback C-index (AUC at median time) for final model:\", final_cindex, \"\\n\")\n",
        "  }, error = function(e2) {\n",
        "    cat(\"survivalROC failed for final model:\", e2$message, \"\\n\")\n",
        "    final_cindex <<- custom_cindex(final_pred_vec, time_test, status_test)\n",
        "    cat(\"Custom C-index for final model:\", final_cindex, \"\\n\")\n",
        "  })\n",
        "})\n",
        "print(paste(\"Final model C-index:\", round(final_cindex, 3)))"
      ],
      "metadata": {
        "id": "K44QfU6VpgB8",
        "colab": {
          "base_uri": "https://localhost:8080/"
        },
        "outputId": "25be253f-e470-4c56-dbe5-44b064f189a9"
      },
      "execution_count": null,
      "outputs": [
        {
          "output_type": "stream",
          "name": "stdout",
          "text": [
            "survcomp::concordance.index succeeded for final model\n",
            "[1] \"Final model C-index: 0.366\"\n"
          ]
        }
      ]
    },
    {
      "cell_type": "code",
      "source": [
        "%%R\n",
        "# IBS for final model\n",
        "final_cif <- predict(final_model, newdata = X_test_matrix, type = \"CIF\", times = eval_times)\n",
        "final_brier <- rep(NA, length(eval_times))\n",
        "for (i in 1:length(eval_times)) {\n",
        "  km_fit <- survfit(Surv(time_test, 1 - status_test) ~ 1, data = test_data)\n",
        "  G_t <- summary(km_fit, times = eval_times[i])$surv\n",
        "  if (length(G_t) == 0) G_t <- 1\n",
        "  final_brier[i] <- mean((as.numeric(time_test > eval_times[i]) - (1 - final_cif[, i]))^2 / G_t, na.rm = TRUE)\n",
        "}\n",
        "final_ibs <- mean(final_brier, na.rm = TRUE)\n",
        "print(paste(\"Final model IBS:\", round(final_ibs, 3)))"
      ],
      "metadata": {
        "id": "9prPoJOEpifI",
        "colab": {
          "base_uri": "https://localhost:8080/"
        },
        "outputId": "93f08242-ef7a-4641-f482-b8640a8ff706"
      },
      "execution_count": null,
      "outputs": [
        {
          "output_type": "stream",
          "name": "stdout",
          "text": [
            "[1] \"Final model IBS: 0.391\"\n"
          ]
        }
      ]
    },
    {
      "cell_type": "markdown",
      "source": [
        "### Survival Curves\n",
        "\n",
        "Finally, we can visualize the survival curves based on the predicted risk scores from the final CoxBoost model. The survival probabilities are computed from the cumulative incidence function (CIF) estimates, and a plot is generated to show the average survival curve across all test samples."
      ],
      "metadata": {
        "id": "C3VfUMRgpoYo"
      }
    },
    {
      "cell_type": "code",
      "source": [
        "%%R -w 600 -h 500\n",
        "# Survival curves\n",
        "final_cif <- predict(final_model, newdata = X_test_matrix, type = \"CIF\", times = eval_times)\n",
        "surv_prob_final <- 1 - final_cif\n",
        "surv_data <- data.frame(\n",
        "  time = eval_times,\n",
        "  surv = colMeans(surv_prob_final)\n",
        ")\n",
        "ggplot(surv_data, aes(x = time, y = surv)) +\n",
        "  geom_line(color = \"blue\") +\n",
        "  labs(title = \"Average Survival Curve (CoxBoost) on Test Data\", x = \"Time\", y = \"Survival Probability\") +\n",
        "  theme_minimal()"
      ],
      "metadata": {
        "id": "1oBPyvyUpqhe",
        "colab": {
          "base_uri": "https://localhost:8080/",
          "height": 517
        },
        "outputId": "c692515b-48b5-4d46-bbcd-a00685c636f0"
      },
      "execution_count": null,
      "outputs": [
        {
          "output_type": "display_data",
          "data": {
            "image/png": "[encoded data removed]"
          },
          "metadata": {}
        }
      ]
    },
    {
      "cell_type": "markdown",
      "source": [
        "\n",
        "### Variable Importance\n",
        "\n",
        "Variable importance can be assessed by examining the absolute values of the coefficients from the final CoxBoost model. This provides insights into which predictors have the most significant impact on survival risk."
      ],
      "metadata": {
        "id": "ORNqYcXlpvEC"
      }
    },
    {
      "cell_type": "code",
      "source": [
        "%%R -w 600 -h 500\n",
        "# Variable importance\n",
        "\n",
        "importance <- coef(final_model)\n",
        "imp_data <- data.frame(\n",
        "  Variable = colnames(X_train_matrix),\n",
        "  Importance = abs(importance)\n",
        ") %>% filter(Importance != 0)\n",
        "\n",
        "ggplot(imp_data, aes(x = reorder(Variable, Importance), y = Importance)) +\n",
        "  geom_bar(stat = \"identity\", fill = \"steelblue\") +\n",
        "  coord_flip() +\n",
        "  labs(title = \"Feature Importance (CoxBoost)\", x = \"Variable\", y = \"Absolute Coefficient\") +\n",
        "  theme_minimal()"
      ],
      "metadata": {
        "id": "ZEjDO5OqpvoM",
        "colab": {
          "base_uri": "https://localhost:8080/",
          "height": 517
        },
        "outputId": "50d9a0b6-cfcd-4cee-c73f-7ed5b20ba04f"
      },
      "execution_count": null,
      "outputs": [
        {
          "output_type": "display_data",
          "data": {
            "image/png": "[encoded data removed]"
          },
          "metadata": {}
        }
      ]
    },
    {
      "cell_type": "markdown",
      "metadata": {
        "id": "ac403705"
      },
      "source": [
        "## Summary and Conclusions\n",
        "\n",
        "The Cox Proportional Hazards-Based Gradient Boosting Model combines the strengths of the Cox model (handling censored survival data) with gradient boosting (capturing non-linear and interaction effects). It works by iteratively building decision trees to minimize the negative log-partial likelihood, updating the hazard function estimate at each step. The model is powerful for complex survival data but assumes proportional hazards, requires careful tuning, and may be less interpretable than simpler models. It’s widely used in fields like medical research and reliability analysis where predicting time-to-event outcomes is critical.\n",
        "\n",
        "Key takeaways from the implementation in R include:\n",
        "\n",
        "- The CoxBoost model is a flexible, non-linear approach to survival analysis that extends the Cox proportional hazards model using gradient boosting techniques.\n",
        "- It effectively handles censored data and captures complex relationships between predictors and survival time.\n",
        "- The model can be implemented in R using the {CoxBoost} package, which provides functions for fitting, predicting, and evaluating the model.\n",
        "- Key metrics for evaluating model performance include the C-index (discrimination ability) and the Integrated Brier Score (IBS, calibration).\n",
        "- Variable importance can be assessed to understand the impact of different predictors on survival risk."
      ]
    },
    {
      "cell_type": "markdown",
      "metadata": {
        "id": "ACNQyq1seLc7"
      },
      "source": [
        "## References\n",
        "\n",
        "\n",
        "1. **Binder, H., & Schumacher, M. (2008).** \"Allowing for mandatory covariates in boosting estimation of sparse and high-dimensional Cox models.\" *Computational Statistics & Data Analysis, 52*(7), 3671–3682.  \n",
        "\n",
        "2. **Binder, H. (2013).** \"CoxBoost: Boosting for Cox models.\" *R package version 1.4.* https://cran.r-project.org/package=CoxBoost  \n",
        "\n",
        "3. **De Bin, R., et al. (2016).** \"Investigating the prediction ability of survival models based on clinical and omics data.\" *Statistics in Medicine, 35*(29), 5310–5325.  \n",
        "\n",
        "4. **Ma, S., & Huang, J. (2008).** \"Regularized ROC method for disease classification and biomarker selection.\" *Bioinformatics, 24*(23), 2743–2749.  \n",
        "\n",
        "5. **Binder, H., et al. (2009).** \"Boosting for high-dimensional time-to-event data with competing risks.\" *Bioinformatics, 25*(7), 890–896.  \n"
      ]
    }
  ],
  "metadata": {
    "colab": {
      "provenance": [],
      "toc_visible": true,
      "authorship_tag": "ABX9TyMtegxkWgV/jmwwDzWwJr7y",
      "include_colab_link": true
    },
    "kernelspec": {
      "display_name": "Python 3",
      "name": "python3"
    },
    "language_info": {
      "name": "python"
    }
  },
  "nbformat": 4,
  "nbformat_minor": 0
}