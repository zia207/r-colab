{
  "cells": [
    {
      "cell_type": "markdown",
      "metadata": {
        "id": "view-in-github",
        "colab_type": "text"
      },
      "source": [
        "<a href=\"https://colab.research.google.com/github/zia207/r-colab/blob/main/NoteBook/Machine_Learning/Tree_based/03-01-02-08-06-tree-based-models-bagging-grf-linear-model-forest-r.ipynb\" target=\"_parent\"><img src=\"https://colab.research.google.com/assets/colab-badge.svg\" alt=\"Open In Colab\"/></a>"
      ]
    },
    {
      "cell_type": "markdown",
      "metadata": {
        "id": "zYZbTX0qQrZb"
      },
      "source": [
        "![alt text](http://drive.google.com/uc?export=view&id=1bLQ3nhDbZrCCqy_WCxxckOne2lgVvn3l)"
      ]
    },
    {
      "cell_type": "markdown",
      "metadata": {
        "id": "RGBfrL2GQoII"
      },
      "source": [
        "# 2.8.6 Linear Model Forest\n",
        "\n",
        "A **Linear Model Forest** is a machine learning approach that combines the flexibility of random forests with the interpretability of linear models. It is designed to estimate `heterogeneous effects` or `conditional relationships` in data by fitting local linear models within the leaves of a random forest structure. While not a standard term in the `{grf}` package (which focuses on generalized random forests like `causal_forest` or `probability_forest`), the concept is closely related to methods like **Causal Forests with Linear Models** or **Local Linear Forest** extensions, where linear models are used to estimate effects or outcomes at the leaf level. Below, I’ll explain the concept, how it works, and its relevance, keeping it concise and clear.\n"
      ]
    },
    {
      "cell_type": "markdown",
      "metadata": {
        "id": "S77MsgmqIYD0"
      },
      "source": [
        "## Overview\n",
        "\n",
        "Linear Model Forest estimates conditional relationships (e.g., $E[Y|X]$ or treatment effects $E[Y(1) - Y(0)|X]$) by combining the non-parametric partitioning of random forests with linear models applied locally within subgroups (leaves).  Instead of averaging outcomes in each leaf (as in standard random forests), it fits a `linear model` in each leaf to capture relationships between covariates $X$, outcomes $Y$, or treatments $W$.\n",
        "\n"
      ]
    },
    {
      "cell_type": "markdown",
      "source": [
        "### Key Features\n",
        "\n",
        "- `Heterogeneity`: Captures how relationships or effects vary across subgroups defined by $X$.\n",
        "\n",
        "- `Interpretability`: Local linear models provide coefficients, making it easier to understand covariate effects within leaves compared to black-box random forests.\n",
        "\n",
        "- `Flexibility`: Combines non-parametric partitioning (random forest) with parametric modeling (linear models).\n",
        "\n",
        "- `Robustness`: Ensemble averaging reduces variance and overfitting.\n",
        "\n",
        "- `Applications`: Ideal for causal inference (e.g., personalized medicine) or regression tasks where linear relationships hold locally but not globally.\n"
      ],
      "metadata": {
        "id": "EnR-z3S9vTpk"
      }
    },
    {
      "cell_type": "markdown",
      "metadata": {
        "id": "VwEoykvwI2dS"
      },
      "source": [
        "### How It Work\n",
        "\n",
        "A Linear Model Forest modifies the random forest framework as follows:\n",
        "\n",
        "1. Data Setup\n",
        "\n",
        "   - Input: Covariates $X$ (e.g., age, sex), outcome $Y$ (e.g., house price), and optionally a treatment  $W$ (covariates).\n",
        "   - Data is typically a matrix of features $X$, a vector $Y$, and (if causal) a treatment indicator $W$.\n",
        "\n",
        "2. Tree Construction\n",
        "\n",
        "   - Like a random forest, it builds multiple decision trees (e.g., 1000) using bootstrap sampling and random feature selection.\n",
        "   - Each tree partitions the covariate space $X$ into regions (leaves) based on splits that optimize a criterion (e.g., variance reduction or effect heterogeneity).\n",
        "\n",
        "3. Local Linear Models\n",
        "\n",
        "   - In each leaf, instead of computing a simple average (as in standard random forests), a `linear model` is fitted using the observations in that leaf.\n",
        "   - For example:\n",
        "   \n",
        "     - `Regression`: $Y \\sim \\beta_0 + \\beta_1 X_1 + \\beta_2 X_2$ to predict $E[Y|X]$.\n",
        "     \n",
        "     - `Causal`: Estimate treatment effects $\\tau(X) = E[Y(1) - Y(0)|X]$ using a linear model of $Y$ on $W$ and $X$.\n",
        "  \n",
        "   - The linear model leverages local data to capture linear relationships within the leaf’s subgroup.\n",
        "\n",
        "4. Aggregation\n",
        "\n",
        "   - For a given input $X$, each tree assigns $X$ to a leaf, and the local linear model in that leaf provides a prediction (e.g., outcome or treatment effect).\n",
        "   \n",
        "   - The forest averages predictions across all trees to produce a final estimate, ensuring robustness and reducing overfitting.\n",
        "\n",
        "5. Output\n",
        "\n",
        "   - C`onditional predictions` (e.g., $E[Y|X]$) or heterogeneous treatment effects (e.g., $\\tau(X)$).\n",
        "   \n",
        "   - Optionally, `local linear coefficients` for interpretability (e.g., how covariates influence outcomes in specific subgroups)."
      ]
    },
    {
      "cell_type": "markdown",
      "metadata": {
        "id": "bIBhNo81s-Nt"
      },
      "source": [
        "### Differences from Other Forests\n",
        "\n",
        "- `Vs. Standard Random Forest`: Uses simple averages in leaves, not linear models, and is less interpretable for local relationships.\n",
        "\n",
        "- `Vs. Causal Forest`: Estimates treatment effects non-parametrically, while a Linear Model Forest uses linear models for effects within leaves, potentially improving precision if linear assumptions hold locally.\n",
        "\n",
        "- `Vs. Probability Forest`: Focuses on class probabilities for categorical outcomes, not continuous outcomes or treatment effects with linear modeling.\n",
        "\n"
      ]
    },
    {
      "cell_type": "markdown",
      "source": [
        "### Limitations\n",
        "\n",
        "- `Linear Assumption`: Assumes linear relationships within leaves, which may not hold for complex data.\n",
        "\n",
        "- `Computational Cost`: Fitting linear models in each leaf is more intensive than standard random forest averaging.\n",
        "\n",
        "- `Implementation`: Not natively supported in `{grf}`; requires custom extensions or alternative packages.\n",
        "\n",
        "- `Data Requirements`: Needs sufficient data in each leaf to fit reliable linear models."
      ],
      "metadata": {
        "id": "NmMsBJhJvpJR"
      }
    },
    {
      "cell_type": "markdown",
      "source": [
        "### Use Cases\n",
        "\n",
        "  - Estimating heterogeneous treatment effects (e.g., how a drug’s effect varies by patient characteristics).\n",
        "  - Modeling conditional means with linear relationships within subgroups.\n",
        "  - Improving interpretability of random forest predictions with local linear coefficients."
      ],
      "metadata": {
        "id": "-u2tkR3KvrbW"
      }
    },
    {
      "cell_type": "markdown",
      "metadata": {
        "id": "Bn4w4oqMCagF"
      },
      "source": [
        "## Setup R in Python Runtype"
      ]
    },
    {
      "cell_type": "markdown",
      "metadata": {
        "id": "yerTCtKKCmik"
      },
      "source": [
        "### Install {rpy2}\n",
        "\n",
        "{rpy2} is a Python package that provides an interface to the R programming language, allowing Python users to run R code, call R functions, and manipulate R objects directly from Python. It enables seamless integration between Python and R, leveraging R's statistical and graphical capabilities while using Python's flexibility. The package supports passing data between the two languages and is widely used for statistical analysis, data visualization, and machine learning tasks that benefit from R's specialized libraries."
      ]
    },
    {
      "cell_type": "code",
      "execution_count": null,
      "metadata": {
        "colab": {
          "base_uri": "https://localhost:8080/"
        },
        "id": "OqeCyNf0Crlc",
        "outputId": "11439174-0dee-4114-bf1b-3fd8b032d84b"
      },
      "outputs": [
        {
          "output_type": "stream",
          "name": "stdout",
          "text": [
            "Found existing installation: rpy2 3.5.1\n",
            "Uninstalling rpy2-3.5.1:\n",
            "  Successfully uninstalled rpy2-3.5.1\n",
            "Collecting rpy2==3.5.1\n",
            "  Using cached rpy2-3.5.1-cp311-cp311-linux_x86_64.whl\n",
            "Requirement already satisfied: cffi>=1.10.0 in /usr/local/lib/python3.11/dist-packages (from rpy2==3.5.1) (1.17.1)\n",
            "Requirement already satisfied: jinja2 in /usr/local/lib/python3.11/dist-packages (from rpy2==3.5.1) (3.1.6)\n",
            "Requirement already satisfied: pytz in /usr/local/lib/python3.11/dist-packages (from rpy2==3.5.1) (2025.2)\n",
            "Requirement already satisfied: tzlocal in /usr/local/lib/python3.11/dist-packages (from rpy2==3.5.1) (5.3.1)\n",
            "Requirement already satisfied: pycparser in /usr/local/lib/python3.11/dist-packages (from cffi>=1.10.0->rpy2==3.5.1) (2.22)\n",
            "Requirement already satisfied: MarkupSafe>=2.0 in /usr/local/lib/python3.11/dist-packages (from jinja2->rpy2==3.5.1) (3.0.2)\n",
            "Installing collected packages: rpy2\n",
            "Successfully installed rpy2-3.5.1\n"
          ]
        }
      ],
      "source": [
        "!pip uninstall rpy2 -y\n",
        "!pip install rpy2==3.5.1\n",
        "%load_ext rpy2.ipython"
      ]
    },
    {
      "cell_type": "markdown",
      "metadata": {
        "id": "vOzGUgYCCyqg"
      },
      "source": [
        "### Mount Google Drive"
      ]
    },
    {
      "cell_type": "code",
      "execution_count": null,
      "metadata": {
        "colab": {
          "base_uri": "https://localhost:8080/"
        },
        "id": "_lngQQKKC2lc",
        "outputId": "606943b7-f421-4856-b2dd-ce6c0a239ca3"
      },
      "outputs": [
        {
          "output_type": "stream",
          "name": "stdout",
          "text": [
            "Drive already mounted at /content/drive; to attempt to forcibly remount, call drive.mount(\"/content/drive\", force_remount=True).\n"
          ]
        }
      ],
      "source": [
        "from google.colab import drive\n",
        "drive.mount('/content/drive')"
      ]
    },
    {
      "cell_type": "markdown",
      "metadata": {
        "id": "bh7jEhGCLDZA"
      },
      "source": [
        "## Linear Model Forest with R\n",
        "\n",
        "This tutorial shows how to use  `lm_forest()` function of {grf} package to estimate the heterogeneous treatment effects (e.g., how house prices vary with different covariates) using a Linear Model Forest. We’ll cover data preparation, model fitting, prediction, and visualization of the estimated effects.\n",
        "\n"
      ]
    },
    {
      "cell_type": "markdown",
      "metadata": {
        "id": "RlLmnBj77AMx"
      },
      "source": [
        "### Load and Check Required Libraries"
      ]
    },
    {
      "cell_type": "code",
      "execution_count": null,
      "metadata": {
        "id": "9rXvjfapLYED"
      },
      "outputs": [],
      "source": [
        "%%R\n",
        "packages <- c('tidyverse',\n",
        "              'plyr',\n",
        "              'grf',\n",
        "              'rdd',\n",
        "              'survival',\n",
        "              'mlbench',\n",
        "              'Metrics'\n",
        "         )"
      ]
    },
    {
      "cell_type": "markdown",
      "source": [],
      "metadata": {
        "id": "jCyKC3Br1DOf"
      }
    },
    {
      "cell_type": "markdown",
      "metadata": {
        "id": "MDwlBWYYLc1e"
      },
      "source": [
        "### Install Missing Packages"
      ]
    },
    {
      "cell_type": "code",
      "execution_count": null,
      "metadata": {
        "id": "PWzWe7xULb2L"
      },
      "outputs": [],
      "source": [
        "%%R\n",
        "# Install missing packages\n",
        "new.packages <- packages[!(packages %in% installed.packages(lib='drive/My Drive/R/')[,\"Package\"])]\n",
        "if(length(new.packages)) install.packages(new.packages, lib='drive/My Drive/R/')"
      ]
    },
    {
      "cell_type": "markdown",
      "metadata": {
        "id": "HM3Bl4-PLfFF"
      },
      "source": [
        "### Verify Installation"
      ]
    },
    {
      "cell_type": "code",
      "execution_count": null,
      "metadata": {
        "colab": {
          "base_uri": "https://localhost:8080/"
        },
        "id": "pHr9zUJvLfNl",
        "outputId": "0e1e70ce-78f9-4d43-b842-7689763479f5"
      },
      "outputs": [
        {
          "output_type": "stream",
          "name": "stdout",
          "text": [
            "Installed packages:\n",
            "tidyverse      plyr       grf       rdd  survival   mlbench   Metrics \n",
            "     TRUE      TRUE      TRUE      TRUE      TRUE      TRUE      TRUE \n"
          ]
        }
      ],
      "source": [
        "%%R\n",
        "# set library path\n",
        ".libPaths('drive/My Drive/R')\n",
        "# Verify installation\n",
        "cat(\"Installed packages:\\n\")\n",
        "print(sapply(packages, requireNamespace, quietly = TRUE))"
      ]
    },
    {
      "cell_type": "markdown",
      "metadata": {
        "id": "2cPLFz1GLlRD"
      },
      "source": [
        "### Load R Packages"
      ]
    },
    {
      "cell_type": "code",
      "execution_count": null,
      "metadata": {
        "id": "jIlm0D69x_70"
      },
      "outputs": [],
      "source": [
        "%%R\n",
        "# set library path\n",
        ".libPaths('drive/My Drive/R')\n",
        "# Load packages with suppressed messages\n",
        "invisible(lapply(packages, function(pkg) {\n",
        "  suppressPackageStartupMessages(library(pkg, character.only = TRUE))\n",
        "}))\n"
      ]
    },
    {
      "cell_type": "markdown",
      "metadata": {
        "id": "AH4vKW2yL1OF"
      },
      "source": [
        "### Check Loaded Packages"
      ]
    },
    {
      "cell_type": "code",
      "execution_count": null,
      "metadata": {
        "colab": {
          "base_uri": "https://localhost:8080/"
        },
        "id": "Du3QbdUeL1Yw",
        "outputId": "f7da74cd-9086-495e-c8f0-f2d6693c910a"
      },
      "outputs": [
        {
          "output_type": "stream",
          "name": "stdout",
          "text": [
            "Successfully loaded packages:\n",
            " [1] \"package:rdd\"       \"package:Formula\"   \"package:AER\"      \n",
            " [4] \"package:car\"       \"package:carData\"   \"package:lmtest\"   \n",
            " [7] \"package:zoo\"       \"package:sandwich\"  \"package:Metrics\"  \n",
            "[10] \"package:mlbench\"   \"package:survival\"  \"package:grf\"      \n",
            "[13] \"package:plyr\"      \"package:lubridate\" \"package:forcats\"  \n",
            "[16] \"package:stringr\"   \"package:dplyr\"     \"package:purrr\"    \n",
            "[19] \"package:readr\"     \"package:tidyr\"     \"package:tibble\"   \n",
            "[22] \"package:ggplot2\"   \"package:tidyverse\" \"package:tools\"    \n",
            "[25] \"package:stats\"     \"package:graphics\"  \"package:grDevices\"\n",
            "[28] \"package:utils\"     \"package:datasets\"  \"package:methods\"  \n",
            "[31] \"package:base\"     \n"
          ]
        }
      ],
      "source": [
        "%%R\n",
        "# Check loaded packages\n",
        "cat(\"Successfully loaded packages:\\n\")\n",
        "print(search()[grepl(\"package:\", search())])# Check loaded packageswer)"
      ]
    },
    {
      "cell_type": "markdown",
      "metadata": {
        "id": "IPobetr0zFC5"
      },
      "source": [
        "### Load Boston Housing Dataset\n",
        "\n",
        "We use the Boston Housing dataset to demonstrate the implementation of a Regression Discontinuity Design (RDD) using the `{grf}` package. The dataset contains information about housing values in suburbs of Boston, including various features like crime rate, number of rooms, and more.\n"
      ]
    },
    {
      "cell_type": "code",
      "execution_count": null,
      "metadata": {
        "id": "RmfGVScmzF8P"
      },
      "outputs": [],
      "source": [
        "%%R\n",
        "# Load data\n",
        "data(BostonHousing, package = \"mlbench\")\n",
        "boston <- na.omit(BostonHousing)"
      ]
    },
    {
      "cell_type": "markdown",
      "source": [
        "### Prepare Data for RDD Analysis\n",
        "\n",
        "RDD (Regression Discontinuity Design) is a quasi-experimental design used to estimate causal effects when treatment assignment is determined by a cutoff on a continuous variable. In this example, we will use the Boston Housing dataset to demonstrate how to implement RDD using the {grf} package in R.\n"
      ],
      "metadata": {
        "id": "9x-DrvvKzMqT"
      }
    },
    {
      "cell_type": "code",
      "source": [
        "%%R\n",
        "# Define variables for RDD\n",
        "# Suppose we want to estimate the effect of high NOX (nitric oxides concentration) on house value (medv)\n",
        "# We'll use a cutoff at the median NOX value for demonstration\n",
        "Z <- boston$nox                      # Running variable\n",
        "cutoff <- median(Z)                  # Cutoff for RDD\n",
        "W <- as.numeric(Z >= cutoff)         # Treatment: 1 if NOX >= cutoff, else 0\n",
        "Y <- boston$medv                     # Outcome: median value of owner-occupied homes\n",
        "X <- model.matrix(~ . -medv -nox, data = boston)[, -1]  # All covariates except outcome & running variable"
      ],
      "metadata": {
        "id": "0xVTHc0vzTDJ"
      },
      "execution_count": null,
      "outputs": []
    },
    {
      "cell_type": "markdown",
      "metadata": {
        "id": "IYYxCKtVtO-I"
      },
      "source": [
        "### Imbens-Kalyanaraman (IK) Optimal Bandwidth and Kernel Weights\n",
        "\n",
        "To implement Regression discontinuity designs (RDD) using the `grf` package, we first need to compute the bandwidth for the running variable and then apply kernel weights to subset the data. First we will use `IKbandwith()` function of {rdd} to calculate the `Imbens-Kalyanaraman optimal bandwidth` for local linear regression in RDD."
      ]
    },
    {
      "cell_type": "code",
      "execution_count": null,
      "metadata": {
        "id": "jbX9jRGczLuL",
        "colab": {
          "base_uri": "https://localhost:8080/"
        },
        "outputId": "eb4bc54c-dce9-489b-d833-8dc84bffe0e3"
      },
      "outputs": [
        {
          "output_type": "stream",
          "name": "stdout",
          "text": [
            "[1] 0.06117268\n"
          ]
        }
      ],
      "source": [
        "%%R\n",
        "bandwidth <- IKbandwidth(Z, Y, cutoff)\n",
        "bandwidth\n"
      ]
    },
    {
      "cell_type": "markdown",
      "metadata": {
        "id": "2KI7kD5R0Qa9"
      },
      "source": [
        "Then we will calculate the kernel weights using the `kernelwts()` function from the `{rdd}` package. This function will calculate the appropriate kernel weights for a vector. This is useful when, for instance, one wishes to perform local regression."
      ]
    },
    {
      "cell_type": "code",
      "execution_count": null,
      "metadata": {
        "id": "JipnL_6X0RJl"
      },
      "outputs": [],
      "source": [
        "%%R\n",
        "#  Compute triangular kernel weights\n",
        "sample.weights <- kernelwts(Z, cutoff, bandwidth, \"triangular\")\n",
        "# Subset to data within the bandwidth\n",
        "subset <- sample.weights > 0\n"
      ]
    },
    {
      "cell_type": "markdown",
      "metadata": {
        "id": "jxK5d0frBs8O"
      },
      "source": [
        "### Fit Local Linear Forest Targeting RDD Effect\n",
        "\n",
        "We will use the `lm_forest()` function from the `{grf}` package to fit a local linear forest model that targets the RDD effect. The `gradient.weights` argument is set to `c(1, 0)` to indicate that we are interested in estimating the treatment effect (tau) at each point in the running variable."
      ]
    },
    {
      "cell_type": "code",
      "execution_count": null,
      "metadata": {
        "id": "Ou9edbC9Bt5M",
        "colab": {
          "base_uri": "https://localhost:8080/"
        },
        "outputId": "df0051d6-8a58-44a5-f941-0b7a08cf326a"
      },
      "outputs": [
        {
          "output_type": "stream",
          "name": "stdout",
          "text": [
            "GRF forest object of type lm_forest \n",
            "Number of trees: 2000 \n",
            "Number of training samples: 186 \n",
            "Variable importance: \n",
            "    1     2     3     4     5     6     7     8     9    10    11    12 \n",
            "0.135 0.017 0.208 0.002 0.132 0.057 0.115 0.042 0.085 0.077 0.043 0.085 \n"
          ]
        }
      ],
      "source": [
        "%%R\n",
        "# Fit local linear forest targeting RDD effect (tau(x))\n",
        "lmf <- lm_forest(\n",
        "  X[subset, ],\n",
        "  Y[subset],\n",
        "  cbind(W, Z)[subset, ],\n",
        "  sample.weights = sample.weights[subset],\n",
        "  gradient.weights = c(1, 0)\n",
        ")\n",
        "\n",
        "print(lmf)"
      ]
    },
    {
      "cell_type": "markdown",
      "metadata": {
        "id": "7KgHx7kY9EEg"
      },
      "source": [
        "### Extract RDD Estimates (tau at each x)"
      ]
    },
    {
      "cell_type": "code",
      "execution_count": null,
      "metadata": {
        "colab": {
          "base_uri": "https://localhost:8080/",
          "height": 497
        },
        "id": "m0vovr-CfwBZ",
        "outputId": "bf2ec847-e2b0-49dd-a4b1-741085b25511"
      },
      "outputs": [
        {
          "output_type": "display_data",
          "data": {
            "image/png": "[encoded data removed]"
          },
          "metadata": {}
        }
      ],
      "source": [
        "%%R\n",
        "# 5Extract RDD estimates (tau at each x)\n",
        "tau.hat <- predict(lmf)$predictions[,1,]\n",
        "\n",
        "# Display first few RDD treatment effect estimates\n",
        "head(tau.hat)\n",
        "\n",
        "# Osummary and diagnostics\n",
        "summary(tau.hat)\n",
        "hist(tau.hat, main=\"Estimated RDD Effects (tau.hat)\", xlab=\"tau.hat\")"
      ]
    },
    {
      "cell_type": "markdown",
      "source": [
        "### Prediction and Visualization"
      ],
      "metadata": {
        "id": "tMGzwdza71Qu"
      }
    },
    {
      "cell_type": "code",
      "source": [
        "%%R\n",
        "Y_obs <- Y[subset]\n",
        "Y_pred <- predict(lmf)$predictions[,1,]\n",
        "\n",
        "plot(Y_obs, Y_pred,\n",
        "     xlab = \"Observed Median Value (Y)\",\n",
        "     ylab = \"Predicted Median Value\",\n",
        "     main = \"Predicted vs Observed Median House Prices\",\n",
        "     pch = 19, col = \"blue\")"
      ],
      "metadata": {
        "colab": {
          "base_uri": "https://localhost:8080/",
          "height": 497
        },
        "id": "gb2EtLC472c3",
        "outputId": "da47b1db-cb99-40c8-c60c-4bb727a00089"
      },
      "execution_count": null,
      "outputs": [
        {
          "output_type": "display_data",
          "data": {
            "image/png": "[encoded data removed]"
          },
          "metadata": {}
        }
      ]
    },
    {
      "cell_type": "markdown",
      "metadata": {
        "id": "q8IDjanqCJly"
      },
      "source": [
        "### Variable Importance"
      ]
    },
    {
      "cell_type": "code",
      "source": [
        "%%R\n",
        "# Calculate variable importance\n",
        "importance <- variable_importance(lmf)\n",
        "# Display variable importance\n",
        "importance_df <- data.frame(\n",
        "  Variable = colnames(X),\n",
        "  Importance = importance\n",
        ")\n",
        "importance_df <- importance_df[order(-importance_df$Importance), ]\n",
        "# Plot variable importance\n",
        "ggplot(importance_df, aes(x = reorder(Variable, Importance), y = Importance)) +\n",
        "  geom_bar(stat = \"identity\", fill = \"steelblue\") +\n",
        "  coord_flip() +\n",
        "  labs(title = \"Variable Importance in Linear Model Forest\",\n",
        "       x = \"Variables\",\n",
        "       y = \"Importance\") +\n",
        "  theme_minimal()"
      ],
      "metadata": {
        "colab": {
          "base_uri": "https://localhost:8080/",
          "height": 497
        },
        "id": "G8yXoCmB9RmL",
        "outputId": "0f1aa499-a145-4f9f-9adf-03f1fdc4a85a"
      },
      "execution_count": null,
      "outputs": [
        {
          "output_type": "display_data",
          "data": {
            "image/png": "[encoded data removed]"
          },
          "metadata": {}
        }
      ]
    },
    {
      "cell_type": "markdown",
      "metadata": {
        "id": "_j759RVMQMut"
      },
      "source": [
        "## Summary and Conclusion\n",
        "\n",
        "The Linear Model Forest is a powerful tool for estimating heterogeneous effects or conditional relationships in data. By combining the flexibility of random forests with the interpretability of linear models, it allows for local linear modeling within subgroups defined by covariates. This approach is particularly useful in causal inference and regression tasks where understanding local relationships is crucial. This tutorial demonstrated how to implement a Linear Model Forest using the `lm_forest()` function from the `{grf}` package, focusing on predicting medium house price in a dataset. The steps included data preparation, model fitting, prediction, and visualization of results.\n",
        "  "
      ]
    },
    {
      "cell_type": "markdown",
      "metadata": {
        "id": "SaZTnZx3QPGI"
      },
      "source": [
        "## References\n",
        "\n",
        "1. Athey, Susan, Julie Tibshirani, and Stefan Wager. \"Generalized Random Forests\". Annals of Statistics, 47(2), 2019.\n",
        "\n",
        "2. Zeileis, Achim, Torsten Hothorn, and Kurt Hornik. \"Model-based Recursive Partitioning.\" Journal of Computational and Graphical Statistics 17(2), 2008.\n",
        "\n",
        "3. [LM Forest](https://grf-labs.github.io/grf/reference/lm_forest.html#references)"
      ]
    }
  ],
  "metadata": {
    "colab": {
      "provenance": [],
      "toc_visible": true,
      "authorship_tag": "ABX9TyNNXRXIHMnFFderKYOUDQwu",
      "include_colab_link": true
    },
    "kernelspec": {
      "display_name": "Python 3",
      "name": "python3"
    },
    "language_info": {
      "name": "python"
    }
  },
  "nbformat": 4,
  "nbformat_minor": 0
}