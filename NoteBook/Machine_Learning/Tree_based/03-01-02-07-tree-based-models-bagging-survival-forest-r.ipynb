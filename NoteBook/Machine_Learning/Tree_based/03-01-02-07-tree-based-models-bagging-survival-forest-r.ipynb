{
  "nbformat": 4,
  "nbformat_minor": 0,
  "metadata": {
    "colab": {
      "provenance": [],
      "toc_visible": true,
      "authorship_tag": "ABX9TyMm6G0k1chIbwKqXcgYEGFC",
      "include_colab_link": true
    },
    "kernelspec": {
      "name": "python3",
      "display_name": "Python 3"
    },
    "language_info": {
      "name": "python"
    }
  },
  "cells": [
    {
      "cell_type": "markdown",
      "metadata": {
        "id": "view-in-github",
        "colab_type": "text"
      },
      "source": [
        "<a href=\"https://colab.research.google.com/github/zia207/r-colab/blob/main/NoteBook/Machine_Learning/Tree_based/03-01-02-07-tree-based-models-bagging-survival-forest-r.ipynb\" target=\"_parent\"><img src=\"https://colab.research.google.com/assets/colab-badge.svg\" alt=\"Open In Colab\"/></a>"
      ]
    },
    {
      "cell_type": "markdown",
      "source": [
        "![alt text](http://drive.google.com/uc?export=view&id=1bLQ3nhDbZrCCqy_WCxxckOne2lgVvn3l)"
      ],
      "metadata": {
        "id": "zYZbTX0qQrZb"
      }
    },
    {
      "cell_type": "markdown",
      "source": [
        "# 2.7 Random Survival Forest\n",
        "\n",
        "Random Survival Forests are a powerful extension of Random Forests designed for survival analysis, which deals with time-to-event data. They are particularly useful in fields like medicine, engineering, and finance, where understanding the timing of events is crucial. In this section, we will explore the concept of Survival Forests, their advantages, limitations, and applications."
      ],
      "metadata": {
        "id": "RGBfrL2GQoII"
      }
    },
    {
      "cell_type": "markdown",
      "source": [
        "## Overview\n",
        "\n",
        "A **Survival Forest**, often referred to as a **Random Survival Forest (RSF)**, is a machine learning model used for survival analysis. It extends the concept of Random Forests to handle time-to-event data, where the outcome of interest is the time until an event occurs (e.g., death, disease recurrence, or equipment failure). Survival Forests are particularly useful for modeling censored data, where the event of interest may not be observed for all subjects during the study period.\n",
        "\n",
        "\n"
      ],
      "metadata": {
        "id": "S77MsgmqIYD0"
      }
    },
    {
      "cell_type": "markdown",
      "source": [
        "### Key Concepts\n",
        "\n",
        "-   `Survival Analysis`: Focuses on modeling the time until an event occurs. It accounts for **censoring**, where the event hasn't occurred for some subjects by the end of the observation period or they are lost to follow-up.\n",
        "-   `Random Forest`: A collection of decision trees that make predictions by averaging or voting across many trees, reducing overfitting and improving robustness.\n",
        "-   `Survival Forest`: Adapts Random Forests to predict survival outcomes, such as the probability of surviving past a certain time or the risk of an event occurring."
      ],
      "metadata": {
        "id": "VwEoykvwI2dS"
      }
    },
    {
      "cell_type": "markdown",
      "source": [
        "### How Survival Forests Work\n",
        "\n",
        "Survival Forests combine the principles of Random Forests with survival analysis. Here’s a step-by-step explanation:\n",
        "\n",
        "1. Understand the Data\n",
        "\n",
        "Survival data consists of: - **Features**: $X = (X_1, X_2, \\dots, X_p)$, a vector of predictors (e.g., age, blood pressure, treatment type).\n",
        "\n",
        "- Event Time: $T$, the time to the event (or censoring time if the event doesn’t occur).\n",
        "\n",
        "- Censoring Indicator: $\\delta$, where $\\delta = 1$ if the event is observed, and $\\delta = 0$ if the observation is censored (e.g., patient lost to follow-up).\n",
        "\n",
        "- Dataset: $\\{(X_i, T_i, \\delta_i)\\}_{i=1}^n$, for $n$ observations.\n",
        "\n",
        "- Estimate the survival function $S(t) = P(T > t)$, the probability of surviving past time $t$, or the cumulative hazard function $H(t) = \\int_0^t h(u) \\, du$, where $h(t)$ is the hazard rate.\n",
        "\n",
        "2. Bootstrap Sampling\n",
        "\n",
        "Survival Forests use the Random Forest principle of ensemble learning: - **Draw Bootstrap Samples**: For each of $B$ trees, randomly sample $n$ observations **with replacement** from the dataset. This creates a bootstrap sample $D_b = \\{(X_i, T_i, \\delta_i)\\}_{i \\in S_b}$, where $S_b$ is the set of indices for tree ( b ).\n",
        "\n",
        "- Out-of-Bag (OOB) Data: Observations not included in the bootstrap sample for a tree are used for validation or error estimation.\n",
        "\n",
        "3. Build Survival Trees\n",
        "\n",
        "Each tree is constructed as follows:\n",
        "\n",
        "-   Start at the Root Node:\n",
        "\n",
        "   -   The root contains the bootstrap sample $D_b$.\n",
        "    \n",
        "   -   Select a random subset of features (e.g., $m = \\sqrt{p}$ features, where $p$ is the total number of features).\n",
        "    \n",
        "-   Node Splitting:\n",
        "\n",
        "  -   For each node, evaluate possible splits on the selected features.\n",
        "\n",
        "  -   A split divides the node into two child nodes based on a feature $X_j$ and threshold $s$, e.g., $X \\leq s$ (left child) and $X_j > s$ (right child).\n",
        "\n",
        "    -   Choose the split that maximizes a survival-specific criterion, typically the **log-rank statistic**, which tests whether survival distributions differ between the two groups.\n",
        "\n",
        "    -   Log-Rank Statistic:\n",
        "\n",
        "    -   For a split at time $t$, let:\n",
        "\n",
        "        -   $d_{i1}$: Number of events in the left child at time $t_i$.\n",
        "        -   $n_{i1}$: Number of individuals at risk in the left child just before $t_i$.\n",
        "        -   $d_i$: Total events at $t_i$ in the parent node.\n",
        "        -   $n_i$: Total individuals at risk in the parent node.\n",
        "\n",
        "    -   Expected events in the left child under the null hypothesis (no difference in survival):\n",
        "\n",
        "$$ e_{i1} = \\frac{n_{i1}}{n_i} \\cdot d_i $$\n",
        "\n",
        "  -   The log-rank statistic is:\n",
        "\n",
        "$$ \\chi^2 = \\sum_{t_i} \\frac{(d_{i1} - e_{i1})^2}{\\text{Var}(d_{i1} - e_{i1})} $$\n",
        "\n",
        "   where the variance is approximated as:\n",
        "\n",
        "$$  \\text{Var}(d_{i1} - e_{i1}) \\approx \\frac{n_{i1} \\cdot (n_i - n_{i1}) \\cdot d_i \\cdot (n_i - d_i)}{n_i^2 \\cdot (n_i - 1)} $$\n",
        "\n",
        "   -   Choose the split (feature $X_j$, threshold $s$ that maximizes $\\chi^2$.\n",
        "\n",
        "    -   Grow the Tree:\n",
        "\n",
        "    -   Recursively apply the splitting process to each child node until a stopping criterion is met (e.g., minimum node size, maximum depth, or insufficient events).\n",
        "\n",
        "    -   Each leaf node contains a subset of observations.\n",
        "\n",
        "    -   Leaf Node Estimation:\n",
        "\n",
        "    -   For each leaf node, compute the **Nelson-Aalen estimator** for the cumulative hazard function (CHF) using the observations in that leaf:\n",
        "\n",
        "$$ \\hat{H}(t) = \\sum_{t_i \\leq t} \\frac{d_i}{n_i} $$\n",
        "\n",
        "        where:\n",
        "\n",
        "   -   $t_i$: Distinct event times in the leaf.\n",
        "   -   $d_i$: Number of events ($\\delta_i = 1$) at time $t_i$.\n",
        "   -   $n_i$: Number of individuals at risk just before $t_i$ (those with $T_i \\geq t_i$).\n",
        "\n",
        "    -   The survival function for the leaf is:\n",
        "\n",
        "$$  \\hat{S}(t) = e^{-\\hat{H}(t)} $$\n",
        "\n",
        "4. Aggregate Trees\n",
        "\n",
        "For each observation $X$, the Survival Forest aggregates predictions across all $B$ trees: - Pass $X$ through each tree $b = 1, \\dots, B$ to find the leaf node it belongs to.\n",
        "\n",
        "- Retrieve the CHF $\\hat{H}_b(t)$ from the leaf node of tree $b$.\n",
        "\n",
        "- Compute the ensemble CHF by averaging:\n",
        "\n",
        "$$ \\hat{H}(t) = \\frac{1}{B} \\sum_{b=1}^B \\hat{H}_b(t) $$\n",
        "\n",
        "-   The ensemble survival function is:\n",
        "\n",
        "$$ \\hat{S}(t) = e^{-\\hat{H}(t)} $$\n",
        "\n",
        "Alternatively, some implementations average survival functions directly or use other aggregation methods, but the CHF is most common due to its stability.\n",
        "\n",
        "5. Handling Censoring\n",
        "\n",
        "Censoring is a key challenge in survival analysis. Survival Forests handle it by: - Including both censored ($\\delta = 0$) and uncensored ($\\delta = 1$) observations in the \"at-risk\" set $n_i$ until their event or censoring time.\n",
        "\n",
        "- Only uncensored events contribute to $d_i$ in the Nelson-Aalen estimator.\n",
        "\n",
        "- The log-rank statistic accounts for censoring by considering the expected number of events under the null hypothesis, adjusted for the at-risk population.\n",
        "\n",
        "6. Prediction for New Data\n",
        "\n",
        "For a new observation with features $X_{\\text{new}}$:\n",
        "\n",
        "-   Pass $X_{\\text{new}}$ through each of the $B$ trees to find the corresponding leaf node.\n",
        "\n",
        "-   Retrieve the CHF $\\hat{H}_b(t)$ from each tree’s leaf.\n",
        "\n",
        "-   Compute the ensemble CHF:\n",
        "\n",
        "$$  \\hat{H}(t) = \\frac{1}{B} \\sum_{b=1}^B \\hat{H}_b(t) $$\n",
        "\n",
        "-   Compute the survival function:\n",
        "\n",
        "$$ \\hat{S}(t) = e^{-\\hat{H}(t)} $$\n",
        "\n",
        "-   Optionally, compute the hazard function $h(t)$ by taking the derivative of $H(t)$, though this is less common in practice."
      ],
      "metadata": {
        "id": "HVyDC3TvQkyB"
      }
    },
    {
      "cell_type": "markdown",
      "source": [
        "Below is a simplified flowchart illustrating the end-to-end process of building and using a Random Survival Forest:\n",
        "\n",
        "\n",
        "![alt text](http://drive.google.com/uc?export=view&id=1IBAWOR23eSJShSzMm0_VErS-wEpMslDW)\n"
      ],
      "metadata": {
        "id": "MfeqJ2MyFVfU"
      }
    },
    {
      "cell_type": "markdown",
      "source": [
        "### Advantages and Limitations\n",
        "\n",
        "**Advantages**:\n",
        "\n",
        "-   `Non-parametric`: Does not assume a specific distribution for survival times (unlike traditional models like Cox regression).\n",
        "-   `Handles Complex Relationships`: Captures non-linear relationships and interactions between features without needing explicit specification.\n",
        "-   `Robust to Overfitting`: Randomization in tree construction (bootstrapping and feature subsampling) reduces overfitting.\n",
        "-   `Feature Importance`: Can rank the importance of predictors in influencing survival outcomes.\n",
        "\n",
        "**Limitations**:\n",
        "\n",
        "-   `Computationally Intensive`: Building many trees with survival-specific criteria can be slow for large datasets.\n",
        "-   `Interpretability`: Like Random Forests, Survival Forests are less interpretable than simpler models like Cox regression.\n",
        "-   `Tuning Required`: Parameters like the number of trees, depth, or feature subsampling need careful tuning for optimal performance.\n",
        "\n",
        "\n"
      ],
      "metadata": {
        "id": "_oHgtdo9Tx-4"
      }
    },
    {
      "cell_type": "markdown",
      "source": [
        "\n",
        "### Applications\n",
        "\n",
        "-   `Medical Research`: Predicting patient survival or time to disease recurrence based on clinical and demographic features.\n",
        "-   `Reliability Engineering`: Estimating time to failure for mechanical systems.\n",
        "-   `Finance`: Modeling time to default on loans or other financial events.\n"
      ],
      "metadata": {
        "id": "iQ-vcH8iUBDa"
      }
    },
    {
      "cell_type": "markdown",
      "source": [
        "## Setup R in Python Runtype"
      ],
      "metadata": {
        "id": "Bn4w4oqMCagF"
      }
    },
    {
      "cell_type": "markdown",
      "source": [
        "### Install {rpy2}\n",
        "\n",
        "{rpy2} is a Python package that provides an interface to the R programming language, allowing Python users to run R code, call R functions, and manipulate R objects directly from Python. It enables seamless integration between Python and R, leveraging R's statistical and graphical capabilities while using Python's flexibility. The package supports passing data between the two languages and is widely used for statistical analysis, data visualization, and machine learning tasks that benefit from R's specialized libraries."
      ],
      "metadata": {
        "id": "yerTCtKKCmik"
      }
    },
    {
      "cell_type": "code",
      "source": [
        "!pip uninstall rpy2 -y\n",
        "!pip install rpy2==3.5.1\n",
        "%load_ext rpy2.ipython"
      ],
      "metadata": {
        "colab": {
          "base_uri": "https://localhost:8080/"
        },
        "id": "OqeCyNf0Crlc",
        "outputId": "a7c75186-8bb7-475b-d4a4-3b213c7b5b22"
      },
      "execution_count": 2,
      "outputs": [
        {
          "output_type": "stream",
          "name": "stdout",
          "text": [
            "Found existing installation: rpy2 3.5.1\n",
            "Uninstalling rpy2-3.5.1:\n",
            "  Successfully uninstalled rpy2-3.5.1\n",
            "Collecting rpy2==3.5.1\n",
            "  Using cached rpy2-3.5.1-cp311-cp311-linux_x86_64.whl\n",
            "Requirement already satisfied: cffi>=1.10.0 in /usr/local/lib/python3.11/dist-packages (from rpy2==3.5.1) (1.17.1)\n",
            "Requirement already satisfied: jinja2 in /usr/local/lib/python3.11/dist-packages (from rpy2==3.5.1) (3.1.6)\n",
            "Requirement already satisfied: pytz in /usr/local/lib/python3.11/dist-packages (from rpy2==3.5.1) (2025.2)\n",
            "Requirement already satisfied: tzlocal in /usr/local/lib/python3.11/dist-packages (from rpy2==3.5.1) (5.3.1)\n",
            "Requirement already satisfied: pycparser in /usr/local/lib/python3.11/dist-packages (from cffi>=1.10.0->rpy2==3.5.1) (2.22)\n",
            "Requirement already satisfied: MarkupSafe>=2.0 in /usr/local/lib/python3.11/dist-packages (from jinja2->rpy2==3.5.1) (3.0.2)\n",
            "Installing collected packages: rpy2\n",
            "Successfully installed rpy2-3.5.1\n"
          ]
        }
      ]
    },
    {
      "cell_type": "markdown",
      "source": [
        "### Mount Google Drive"
      ],
      "metadata": {
        "id": "vOzGUgYCCyqg"
      }
    },
    {
      "cell_type": "code",
      "source": [
        "from google.colab import drive\n",
        "drive.mount('/content/drive')"
      ],
      "metadata": {
        "colab": {
          "base_uri": "https://localhost:8080/"
        },
        "id": "_lngQQKKC2lc",
        "outputId": "b56e42b2-4f52-4168-bcf0-c3999a5978a8"
      },
      "execution_count": 3,
      "outputs": [
        {
          "output_type": "stream",
          "name": "stdout",
          "text": [
            "Drive already mounted at /content/drive; to attempt to forcibly remount, call drive.mount(\"/content/drive\", force_remount=True).\n"
          ]
        }
      ]
    },
    {
      "cell_type": "markdown",
      "source": [
        "\n",
        "## Random Survival Forest from Scratch\n",
        "\n",
        "In this section, we will implement a Random Survival Forest from scratch in R. Below is a step-by-step implementation of the Random Survival Forest algorithm, including data preparation, tree construction, and prediction."
      ],
      "metadata": {
        "id": "_W-exb0KKCFd"
      }
    },
    {
      "cell_type": "markdown",
      "source": [
        "### Load and preprocess the Melanoma dataset"
      ],
      "metadata": {
        "id": "NMJamUQ5XZDx"
      }
    },
    {
      "cell_type": "code",
      "source": [
        "%%R\n",
        "# Load and preprocess the Melanoma dataset\n",
        "data(Melanoma, package = \"MASS\")\n",
        "\n",
        "# Prepare data: Convert time to years, recode status (1 = event, 0 = censored)\n",
        "Melanoma$time <- Melanoma$time / 365  # Convert days to years\n",
        "Melanoma$status <- ifelse(Melanoma$status == 1, 1, 0)  # 1 = died (Melanoma), 0 = alive or other cause\n",
        "data <- Melanoma[, c(\"time\", \"status\", \"age\", \"sex\", \"thickness\", \"ulcer\")]  # Select relevant columns\n",
        "# Remove any rows with NA in time, status, or predictors\n",
        "data <- data[complete.cases(data), ]"
      ],
      "metadata": {
        "id": "bnJ7L5JfKEFZ"
      },
      "execution_count": 3,
      "outputs": []
    },
    {
      "cell_type": "markdown",
      "source": [
        "\n",
        "### Function to perform bootstrap sample\n",
        "\n",
        "`bootstrap_sample()` function generates a bootstrap sample from the dataset, ensuring that the sample has at least one non-NA time and one event. If the sample is invalid (e.g., all times are NA or no events), it resamples until a valid sample is obtained."
      ],
      "metadata": {
        "id": "BrOesvibXnLa"
      }
    },
    {
      "cell_type": "code",
      "source": [
        "%%R\n",
        "# Function to perform bootstrap sampling\n",
        "bootstrap_sample <- function(data, n) {\n",
        "  indices <- sample(1:nrow(data), size = n, replace = TRUE)\n",
        "  sample_data <- data[indices, ]\n",
        "  # Ensure the sample has at least one non-NA time and one event\n",
        "  if (all(is.na(sample_data$time)) || nrow(sample_data) == 0 || sum(sample_data$status, na.rm = TRUE) == 0) {\n",
        "    return(data[sample(1:nrow(data), size = n, replace = TRUE), ])  # Resample if invalid\n",
        "  }\n",
        "  return(sample_data)\n",
        "}"
      ],
      "metadata": {
        "id": "6-o-is1QlfGD"
      },
      "execution_count": 4,
      "outputs": []
    },
    {
      "cell_type": "markdown",
      "source": [
        "### Log-rank test for splitting\n",
        "\n",
        "The log-rank test for splitting is a statistical method used to compare survival distributions between two groups, often in survival analysis or decision trees for survival data. It evaluates whether a split (based on a variable and threshold) creates two groups with significantly different survival times. The test is commonly used to select optimal splits in survival trees by maximizing the difference in survival curves.\n",
        "\n",
        "`log_rank_test()` function calculates the log-rank test statistic for a given split in survival data.  In survival trees, this function evaluates potential splits by computing the log-rank statistic for each candidate split (variable and threshold). The split with the highest statistic is chosen, as it maximizes the survival difference between resulting groups."
      ],
      "metadata": {
        "id": "7Kajrhp-lhKv"
      }
    },
    {
      "cell_type": "code",
      "source": [
        "%%R\n",
        "# Log-rank test for splitting\n",
        "log_rank_test <- function(time, status, split_var, split_point, is_categorical = FALSE) {\n",
        "  if (is_categorical) {\n",
        "    group1 <- split_var == split_point\n",
        "  } else {\n",
        "    group1 <- split_var <= split_point\n",
        "  }\n",
        "  group2 <- !group1\n",
        "  times <- sort(unique(time[status == 1]))  # Unique event times\n",
        "  stat <- 0\n",
        "  for (t in times) {\n",
        "    at_risk1 <- sum(time[group1] >= t, na.rm = TRUE)\n",
        "    at_risk2 <- sum(time[group2] >= t, na.rm = TRUE)\n",
        "    events1 <- sum(time[group1] == t & status[group1] == 1, na.rm = TRUE)\n",
        "    events2 <- sum(time[group2] == t & status[group2] == 1, na.rm = TRUE)\n",
        "    total_at_risk <- at_risk1 + at_risk2\n",
        "    if (!is.na(total_at_risk) && total_at_risk > 0) {\n",
        "      expected1 <- at_risk1 * (events1 + events2) / total_at_risk\n",
        "      if (expected1 > 0) {\n",
        "        stat <- stat + (events1 - expected1)^2 / expected1\n",
        "      }\n",
        "    }\n",
        "  }\n",
        "  return(ifelse(is.na(stat), -Inf, stat))\n",
        "}"
      ],
      "metadata": {
        "id": "XEGwQbt_bTd1"
      },
      "execution_count": 5,
      "outputs": []
    },
    {
      "cell_type": "markdown",
      "source": [
        "### Build a single survival tree\n",
        "\n",
        "The `build_survival_tree()` function constructs a single survival tree for survival data, recursively splitting data to maximize survival differences using the log-rank test. It predicts cumulative hazard functions (CHFs) at leaf nodes."
      ],
      "metadata": {
        "id": "QF70BOZBbZ8j"
      }
    },
    {
      "cell_type": "code",
      "source": [
        "%%R\n",
        "# Build a single survival tree\n",
        "build_survival_tree <- function(data, max_depth = 3, min_node_size = 5, depth = 0) {\n",
        "  # Stop if max depth, too few observations, no events, or no valid data\n",
        "  if (depth >= max_depth || nrow(data) < min_node_size ||\n",
        "      sum(data$status, na.rm = TRUE) == 0 || all(is.na(data$time))) {\n",
        "    times <- sort(unique(data$time[data$status == 1]))\n",
        "    if (length(times) == 0) {\n",
        "      max_time <- if (any(!is.na(data$time))) max(data$time, na.rm = TRUE) else 10\n",
        "      times <- seq(0, max_time, length.out = 2)\n",
        "      chf <- rep(0, length(times))\n",
        "    } else {\n",
        "      chf <- numeric(length(times))\n",
        "      for (i in seq_along(times)) {\n",
        "        t <- times[i]\n",
        "        d_i <- sum(data$time == t & data$status == 1, na.rm = TRUE)\n",
        "        n_i <- sum(data$time >= t, na.rm = TRUE)\n",
        "        chf[i] <- ifelse(n_i > 0, d_i / n_i, 0)\n",
        "      }\n",
        "    }\n",
        "    cum_chf <- cumsum(chf)\n",
        "    return(list(type = \"leaf\", times = times, chf = cum_chf))\n",
        "  }\n",
        "\n",
        "  # Select random features (e.g., 2 out of 4: age, sex, thickness, ulcer)\n",
        "  features <- c(\"age\", \"sex\", \"thickness\", \"ulcer\")\n",
        "  selected_features <- sample(features, size = 2)\n",
        "\n",
        "  # Find best split\n",
        "  best_stat <- -Inf\n",
        "  best_feature <- NULL\n",
        "  best_split <- NULL\n",
        "  for (feature in selected_features) {\n",
        "    is_categorical <- feature %in% c(\"sex\", \"ulcer\")\n",
        "    if (!is_categorical) {\n",
        "      split_points <- quantile(data[[feature]], probs = seq(0.1, 0.9, 0.1), na.rm = TRUE)\n",
        "      split_points <- split_points[!is.na(split_points)]  # Remove NA split points\n",
        "    } else {\n",
        "      split_points <- unique(data[[feature]])\n",
        "      split_points <- split_points[!is.na(split_points)]  # Remove NA split points\n",
        "    }\n",
        "    if (length(split_points) == 0) next  # Skip if no valid split points\n",
        "    for (sp in split_points) {\n",
        "      stat <- log_rank_test(data$time, data$status, data[[feature]], sp, is_categorical)\n",
        "      if (!is.na(stat) && stat > best_stat) {\n",
        "        best_stat <- stat\n",
        "        best_feature <- feature\n",
        "        best_split <- sp\n",
        "      }\n",
        "    }\n",
        "  }\n",
        "\n",
        "  # If no valid split, return leaf\n",
        "  if (is.null(best_feature) || is.na(best_split)) {\n",
        "    times <- sort(unique(data$time[data$status == 1]))\n",
        "    if (length(times) == 0) {\n",
        "      max_time <- if (any(!is.na(data$time))) max(data$time, na.rm = TRUE) else 10\n",
        "      times <- seq(0, max_time, length.out = 2)\n",
        "      chf <- rep(0, length(times))\n",
        "    } else {\n",
        "      chf <- numeric(length(times))\n",
        "      for (i in seq_along(times)) {\n",
        "        t <- times[i]\n",
        "        d_i <- sum(data$time == t & data$status == 1, na.rm = TRUE)\n",
        "        n_i <- sum(data$time >= t, na.rm = TRUE)\n",
        "        chf[i] <- ifelse(n_i > 0, d_i / n_i, 0)\n",
        "      }\n",
        "    }\n",
        "    cum_chf <- cumsum(chf)\n",
        "    return(list(type = \"leaf\", times = times, chf = cum_chf))\n",
        "  }\n",
        "\n",
        "  # Split data based on feature type\n",
        "  if (best_feature %in% c(\"sex\", \"ulcer\")) {\n",
        "    left_data <- data[data[[best_feature]] == best_split, ]\n",
        "    right_data <- data[data[[best_feature]] != best_split, ]\n",
        "  } else {\n",
        "    left_data <- data[data[[best_feature]] <= best_split & !is.na(data[[best_feature]]), ]\n",
        "    right_data <- data[data[[best_feature]] > best_split & !is.na(data[[best_feature]]), ]\n",
        "  }\n",
        "\n",
        "  # Ensure child nodes have data; if not, return leaf\n",
        "  if (nrow(left_data) < min_node_size || nrow(right_data) < min_node_size) {\n",
        "    times <- sort(unique(data$time[data$status == 1]))\n",
        "    if (length(times) == 0) {\n",
        "      max_time <- if (any(!is.na(data$time))) max(data$time, na.rm = TRUE) else 10\n",
        "      times <- seq(0, max_time, length.out = 2)\n",
        "      chf <- rep(0, length(times))\n",
        "    } else {\n",
        "      chf <- numeric(length(times))\n",
        "      for (i in seq_along(times)) {\n",
        "        t <- times[i]\n",
        "        d_i <- sum(data$time == t & data$status == 1, na.rm = TRUE)\n",
        "        n_i <- sum(data$time >= t, na.rm = TRUE)\n",
        "        chf[i] <- ifelse(n_i > 0, d_i / n_i, 0)\n",
        "      }\n",
        "    }\n",
        "    cum_chf <- cumsum(chf)\n",
        "    return(list(type = \"leaf\", times = times, chf = cum_chf))\n",
        "  }\n",
        "\n",
        "  # Recursively build left and right subtrees\n",
        "  left_tree <- build_survival_tree(left_data, max_depth, min_node_size, depth + 1)\n",
        "  right_tree <- build_survival_tree(right_data, max_depth, min_node_size, depth + 1)\n",
        "\n",
        "  return(list(type = \"node\", feature = best_feature, split = best_split,\n",
        "              left = left_tree, right = right_tree))\n",
        "}\n"
      ],
      "metadata": {
        "id": "ttAmoFuebame"
      },
      "execution_count": 6,
      "outputs": []
    },
    {
      "cell_type": "markdown",
      "source": [
        "### Predicting CHF for a single observation\n",
        "\n",
        "The `predict_tree()` function predicts the cumulative hazard function (CHF) for a single observation by traversing a survival tree."
      ],
      "metadata": {
        "id": "2S6NVZr8bmZ9"
      }
    },
    {
      "cell_type": "code",
      "source": [
        "%%R\n",
        "# Predict CHF for a single observation through a tree (fixed)\n",
        "predict_tree <- function(tree, x) {\n",
        "  if (tree$type == \"leaf\") {\n",
        "    return(list(times = tree$times, chf = tree$chf))\n",
        "  }\n",
        "  feature_value <- x[[tree$feature]]\n",
        "  if (is.na(feature_value) || is.na(tree$split)) {\n",
        "    # If feature value or split is NA, default to left child\n",
        "    return(predict_tree(tree$left, x))\n",
        "  }\n",
        "  if (tree$feature %in% c(\"sex\", \"ulcer\")) {\n",
        "    if (feature_value == tree$split) {\n",
        "      return(predict_tree(tree$left, x))\n",
        "    } else {\n",
        "      return(predict_tree(tree$right, x))\n",
        "    }\n",
        "  } else {\n",
        "    if (feature_value <= tree$split) {\n",
        "      return(predict_tree(tree$left, x))\n",
        "    } else {\n",
        "      return(predict_tree(tree$right, x))\n",
        "    }\n",
        "  }\n",
        "}"
      ],
      "metadata": {
        "id": "3DEviDNdbox8"
      },
      "execution_count": 7,
      "outputs": []
    },
    {
      "cell_type": "markdown",
      "source": [
        "### Build Random Survival Forest\n",
        "\n",
        "The `rsf()` function builds a Random Survival Forest (RSF), an ensemble model for survival analysis. It constructs multiple survival trees using bootstrapped data to predict cumulative hazard functions (CHFs) and improve prediction robustness."
      ],
      "metadata": {
        "id": "CkucSoDVbuHy"
      }
    },
    {
      "cell_type": "code",
      "source": [
        "%%R\n",
        "# Build Random Survival Forest\n",
        "rsf <- function(data, n_trees = 10, max_depth = 3, min_node_size = 5) {\n",
        "  trees <- list()\n",
        "  for (i in 1:n_trees) {\n",
        "    boot_data <- bootstrap_sample(data, nrow(data))\n",
        "    tree <- build_survival_tree(boot_data, max_depth, min_node_size)\n",
        "    trees[[i]] <- tree\n",
        "  }\n",
        "  return(trees)\n",
        "}"
      ],
      "metadata": {
        "id": "eMs9AvFNbzGN"
      },
      "execution_count": 8,
      "outputs": []
    },
    {
      "cell_type": "markdown",
      "source": [
        "\n",
        "### Predict survival function for a new observation\n",
        "\n",
        "The `predict_rsf()` function predicts the survival function for a new observation using a Random Survival Forest (RSF). It aggregates cumulative hazard function (CHF) predictions from multiple trees and converts them into a survival probability curve over specified times."
      ],
      "metadata": {
        "id": "JwwI45IvnvtY"
      }
    },
    {
      "cell_type": "code",
      "source": [
        "%%R\n",
        "# Predict survival function for a new observation\n",
        "predict_rsf <- function(trees, x, times) {\n",
        "  chf_values <- matrix(0, nrow = length(trees), ncol = length(times))\n",
        "  for (i in seq_along(trees)) {\n",
        "    pred <- predict_tree(trees[[i]], x)\n",
        "    if (length(pred$times) == 0) {\n",
        "      chf_values[i, ] <- rep(0, length(times))\n",
        "    } else {\n",
        "      chf_values[i, ] <- approx(pred$times, pred$chf, xout = times, method = \"constant\",\n",
        "                                yleft = 0, yright = max(pred$chf, na.rm = TRUE))$y\n",
        "    }\n",
        "  }\n",
        "  mean_chf <- colMeans(chf_values, na.rm = TRUE)\n",
        "  survival <- exp(-mean_chf)\n",
        "  return(list(times = times, survival = survival))\n",
        "}"
      ],
      "metadata": {
        "id": "b20W5-ijnyHL"
      },
      "execution_count": 9,
      "outputs": []
    },
    {
      "cell_type": "markdown",
      "source": [
        "### Example usage"
      ],
      "metadata": {
        "id": "DjAJRnxln8eS"
      }
    },
    {
      "cell_type": "code",
      "source": [
        "%%R\n",
        "# Step 8: Example usage\n",
        "set.seed(123)  # For reproducibility\n",
        "forest <- rsf(data, n_trees = 10, max_depth = 3, min_node_size = 5)\n",
        "\n",
        "# Predict survival for a new patient\n",
        "new_patient <- data.frame(age = 50, sex = 1, thickness = 2.5, ulcer = 0)\n",
        "times <- seq(0, 10, by = 1)  # Predict survival from 0 to 10 years\n",
        "prediction <- predict_rsf(forest, new_patient, times)\n",
        "\n",
        "# Print survival probabilities\n",
        "print(data.frame(Time = times, Survival = round(prediction$survival, 4)))\n",
        "\n",
        "# Plot survival curve\n",
        "plot(prediction$times, prediction$survival, type = \"s\", xlab = \"Time (years)\",\n",
        "     ylab = \"Survival Probability\", main = \"Survival Curve for New Patient\", ylim = c(0, 1))\n",
        "lines(prediction$times, prediction$survival, type = \"s\")"
      ],
      "metadata": {
        "colab": {
          "base_uri": "https://localhost:8080/",
          "height": 705
        },
        "id": "ExxvE6B5oCpe",
        "outputId": "8a433675-be11-4517-979f-b344d51c6ecf"
      },
      "execution_count": 10,
      "outputs": [
        {
          "output_type": "stream",
          "name": "stdout",
          "text": [
            "   Time Survival\n",
            "1     0   1.0000\n",
            "2     1   0.9686\n",
            "3     2   0.9225\n",
            "4     3   0.8343\n",
            "5     4   0.8303\n",
            "6     5   0.7590\n",
            "7     6   0.7033\n",
            "8     7   0.6923\n",
            "9     8   0.6701\n",
            "10    9   0.6701\n",
            "11   10   0.6701\n"
          ]
        },
        {
          "output_type": "display_data",
          "data": {
            "image/png": "[encoded data removed]"
          },
          "metadata": {}
        }
      ]
    },
    {
      "cell_type": "markdown",
      "source": [
        "## Random Survival Forest in R\n",
        "\n",
        "Several R packages support **Random Survival Forests (RSF)** for survival analysis, each with unique features and implementations.\n",
        "Below is a concise list of the main available R packages for RSF as of my knowledge cutoff, based on their prominence and functionality:\n",
        "\n",
        "1.  {randomForestSRC}: The most widely used package for RSF, offering a robust and flexible implementation for survival, regression, and classification. It supports survival analysis with censoring, variable importance (VIMP), and prediction metrics like Brier Score and C-index.\n",
        "    -   **Key Features**:\n",
        "        -   Handles right-censored data.\n",
        "        -   Provides ensemble survival/hazard functions.\n",
        "        -   Supports Brier Score, CRPS, and permutation-based VIMP.\n",
        "        -   Parallel processing for efficiency.\n",
        "2.  {range} A fast and lightweight package for Random Forests, including survival analysis. It’s optimized for speed and memory efficiency, supporting RSF with log-rank or other splitting rules.\n",
        "    -   **Key Features**:\n",
        "        -   High performance with large datasets.\n",
        "        -   Supports right-censored survival data.\n",
        "        -   Variable importance and prediction functions.\n",
        "        -   Integrates with machine learning pipelines.\n",
        "3.  {DynForest}: A package for dynamic random forests, which can handle time-varying covariates and longitudinal data. It’s particularly useful for survival analysis with time-dependent predictors.\n",
        "    -   **Key Features**:\n",
        "        -   Dynamic predictions based on time-varying covariates.\n",
        "        -   Variable importance for longitudinal and survival data.\n",
        "        -   Handles right-censored data.\n",
        "\n"
      ],
      "metadata": {
        "id": "bh7jEhGCLDZA"
      }
    },
    {
      "cell_type": "markdown",
      "source": [
        "### Load and Check Required Libraries"
      ],
      "metadata": {
        "id": "RlLmnBj77AMx"
      }
    },
    {
      "cell_type": "code",
      "source": [
        "%%R\n",
        "packages <- c('tidyverse',\n",
        "              'plyr',\n",
        "              'randomForest',\n",
        "              'randomForestSRC',\n",
        "              'ranger',\n",
        "              'tuneRanger',\n",
        "              'ggpmisc',\n",
        "              'MASS',\n",
        "              'riskRegression',\n",
        "              'survival',\n",
        "              'DynForest',\n",
        "              'pec',\n",
        "              'patchwork')"
      ],
      "metadata": {
        "id": "9rXvjfapLYED"
      },
      "execution_count": 5,
      "outputs": []
    },
    {
      "cell_type": "code",
      "source": [
        "%%R\n",
        "# install riskRegression\n",
        "devtools::install_github(\"tagteam/riskRegression\",lib='drive/My Drive/R/')"
      ],
      "metadata": {
        "id": "EH8CnkY_hMJe"
      },
      "execution_count": null,
      "outputs": []
    },
    {
      "cell_type": "markdown",
      "source": [
        "### Install Missing Packages"
      ],
      "metadata": {
        "id": "MDwlBWYYLc1e"
      }
    },
    {
      "cell_type": "code",
      "source": [
        "%%R\n",
        "# Install missing packages\n",
        "new.packages <- packages[!(packages %in% installed.packages(lib='drive/My Drive/R/')[,\"Package\"])]\n",
        "if(length(new.packages)) install.packages(new.packages, lib='drive/My Drive/R/')"
      ],
      "metadata": {
        "id": "PWzWe7xULb2L"
      },
      "execution_count": 16,
      "outputs": []
    },
    {
      "cell_type": "markdown",
      "source": [
        "### Verify Installation"
      ],
      "metadata": {
        "id": "HM3Bl4-PLfFF"
      }
    },
    {
      "cell_type": "code",
      "source": [
        "%%R\n",
        "# set library path\n",
        ".libPaths('drive/My Drive/R')\n",
        "# Verify installation\n",
        "cat(\"Installed packages:\\n\")\n",
        "print(sapply(packages, requireNamespace, quietly = TRUE))"
      ],
      "metadata": {
        "colab": {
          "base_uri": "https://localhost:8080/"
        },
        "id": "pHr9zUJvLfNl",
        "outputId": "4abd3a82-44a6-412b-87f1-e08c2e411fdf"
      },
      "execution_count": 6,
      "outputs": [
        {
          "output_type": "stream",
          "name": "stdout",
          "text": [
            "Installed packages:\n"
          ]
        },
        {
          "output_type": "stream",
          "name": "stderr",
          "text": [
            "WARNING:rpy2.rinterface_lib.callbacks:R[write to console]: Registered S3 methods overwritten by 'ggpp':\n",
            "  method                  from   \n",
            "  heightDetails.titleGrob ggplot2\n",
            "  widthDetails.titleGrob  ggplot2\n",
            "\n",
            "WARNING:rpy2.rinterface_lib.callbacks:R[write to console]: Registered S3 method overwritten by 'mets':\n",
            "  method  from       \n",
            "  plot.km DiceKriging\n",
            "\n",
            "WARNING:rpy2.rinterface_lib.callbacks:R[write to console]: Registered S3 method overwritten by 'lcmm':\n",
            "  method      from  \n",
            "  plot.cuminc cmprsk\n",
            "\n"
          ]
        },
        {
          "output_type": "stream",
          "name": "stdout",
          "text": [
            "      tidyverse            plyr    randomForest randomForestSRC          ranger \n",
            "           TRUE            TRUE            TRUE            TRUE            TRUE \n",
            "     tuneRanger         ggpmisc            MASS  riskRegression        survival \n",
            "           TRUE            TRUE            TRUE            TRUE            TRUE \n",
            "      DynForest             pec       patchwork \n",
            "           TRUE            TRUE            TRUE \n"
          ]
        }
      ]
    },
    {
      "cell_type": "markdown",
      "source": [
        "### Load R Packages"
      ],
      "metadata": {
        "id": "2cPLFz1GLlRD"
      }
    },
    {
      "cell_type": "code",
      "source": [
        "%%R\n",
        "# set library path\n",
        ".libPaths('drive/My Drive/R')\n",
        "# Load packages with suppressed messages\n",
        "invisible(lapply(packages, function(pkg) {\n",
        "  suppressPackageStartupMessages(library(pkg, character.only = TRUE))\n",
        "}))\n"
      ],
      "metadata": {
        "id": "cQl-1GIuLmCD"
      },
      "execution_count": 7,
      "outputs": []
    },
    {
      "cell_type": "markdown",
      "source": [
        "### Check Loaded Packages"
      ],
      "metadata": {
        "id": "AH4vKW2yL1OF"
      }
    },
    {
      "cell_type": "code",
      "source": [
        "%%R\n",
        "# Check loaded packages\n",
        "cat(\"Successfully loaded packages:\\n\")\n",
        "print(search()[grepl(\"package:\", search())])# Check loaded packageswer)"
      ],
      "metadata": {
        "colab": {
          "base_uri": "https://localhost:8080/"
        },
        "id": "Du3QbdUeL1Yw",
        "outputId": "a6f0816c-6b3e-423c-e04b-70758e1ef810"
      },
      "execution_count": 20,
      "outputs": [
        {
          "output_type": "stream",
          "name": "stdout",
          "text": [
            "Successfully loaded packages:\n",
            " [1] \"package:randomForestSRC\" \"package:patchwork\"      \n",
            " [3] \"package:pec\"             \"package:prodlim\"        \n",
            " [5] \"package:DynForest\"       \"package:survival\"       \n",
            " [7] \"package:riskRegression\"  \"package:MASS\"           \n",
            " [9] \"package:ggpmisc\"         \"package:ggpp\"           \n",
            "[11] \"package:tuneRanger\"      \"package:lhs\"            \n",
            "[13] \"package:parallel\"        \"package:mlrMBO\"         \n",
            "[15] \"package:smoof\"           \"package:checkmate\"      \n",
            "[17] \"package:mlr\"             \"package:ParamHelpers\"   \n",
            "[19] \"package:ranger\"          \"package:randomForest\"   \n",
            "[21] \"package:plyr\"            \"package:lubridate\"      \n",
            "[23] \"package:forcats\"         \"package:stringr\"        \n",
            "[25] \"package:dplyr\"           \"package:purrr\"          \n",
            "[27] \"package:readr\"           \"package:tidyr\"          \n",
            "[29] \"package:tibble\"          \"package:ggplot2\"        \n",
            "[31] \"package:tidyverse\"       \"package:tools\"          \n",
            "[33] \"package:stats\"           \"package:graphics\"       \n",
            "[35] \"package:grDevices\"       \"package:utils\"          \n",
            "[37] \"package:datasets\"        \"package:methods\"        \n",
            "[39] \"package:base\"           \n"
          ]
        }
      ]
    },
    {
      "cell_type": "markdown",
      "source": [
        "### Random Survival Forest using {randomForestSRC} package\n",
        "\n",
        "In this section, we will implement a Random Survival Forest using the `randomForestSRC` package in R. We will use the Melanoma dataset from the `MASS` package, which contains survival data for patients with Melanoma skin cancer.\n"
      ],
      "metadata": {
        "id": "euKDzTA_OEl-"
      }
    },
    {
      "cell_type": "markdown",
      "source": [
        "#### Data\n",
        "\n",
        "The Melanoma data frame has data on 205 patients in Denmark with malignant Melanoma.\n",
        "This data frame contains the following columns:\n",
        "\n",
        "`time` - survival time in days, possibly censored.\n",
        "\n",
        "`status` - 1 died from Melanoma, 2 alive, 3 dead from other causes.\n",
        "\n",
        "`sex` - 1 = male, 0 = female.\n",
        "\n",
        "`age` - age in years.\n",
        "\n",
        "`year`- year of operation.\n",
        "\n",
        "`thickness` - tumour thickness in mm.\n",
        "\n",
        "`ulcer` - 1 = presence, 0 = absence.\n"
      ],
      "metadata": {
        "id": "V_4ICaD7oSh3"
      }
    },
    {
      "cell_type": "code",
      "source": [
        "%%R\n",
        "# Load Melanoma dataset from MASS\n",
        "data(Melanoma, package = \"MASS\")\n",
        "glimpse(Melanoma)"
      ],
      "metadata": {
        "colab": {
          "base_uri": "https://localhost:8080/"
        },
        "id": "OiC3ipq-OHim",
        "outputId": "50dc3dc8-ac80-4c7a-d7ac-291a1a5b5278"
      },
      "execution_count": 8,
      "outputs": [
        {
          "output_type": "stream",
          "name": "stdout",
          "text": [
            "Rows: 205\n",
            "Columns: 7\n",
            "$ time      <int> 10, 30, 35, 99, 185, 204, 210, 232, 232, 279, 295, 355, 386,…\n",
            "$ status    <int> 3, 3, 2, 3, 1, 1, 1, 3, 1, 1, 1, 3, 1, 1, 1, 3, 1, 1, 1, 1, …\n",
            "$ sex       <int> 1, 1, 1, 0, 1, 1, 1, 0, 1, 0, 0, 0, 0, 1, 0, 1, 1, 1, 1, 1, …\n",
            "$ age       <int> 76, 56, 41, 71, 52, 28, 77, 60, 49, 68, 53, 64, 68, 63, 14, …\n",
            "$ year      <int> 1972, 1968, 1977, 1968, 1965, 1971, 1972, 1974, 1968, 1971, …\n",
            "$ thickness <dbl> 6.76, 0.65, 1.34, 2.90, 12.08, 4.84, 5.16, 3.22, 12.88, 7.41…\n",
            "$ ulcer     <int> 1, 0, 0, 0, 1, 1, 1, 1, 1, 1, 1, 1, 1, 1, 1, 1, 1, 1, 1, 1, …\n"
          ]
        }
      ]
    },
    {
      "cell_type": "markdown",
      "source": [
        "#### Prepare data for survival analysis\n",
        "\n",
        "- `time` is in days, convert to years for interpretability (optional)\n",
        "- `status` == 1 indicates death from Melanoma (event of interest)\n",
        "- `status` == 2 indicates censored, 'status' == 3 indicates death from other causes\n",
        "\n",
        " We focus on death from Melanoma, treating other deaths as censored Melanoma\n",
        " - event <- ifelse(Melanoma$status == 1, 1, 0)  # 1 for event, 0 for censored"
      ],
      "metadata": {
        "id": "FgeTUFfedgmV"
      }
    },
    {
      "cell_type": "code",
      "source": [
        "%%R\n",
        "# Prepare data for survival analysis\n",
        "Melanoma$event <- ifelse(Melanoma$status == 1, 1, 0)  # 1 for event, 0 for censored\n",
        "Melanoma$time_years <- Melanoma$time / 365.25  # Convert time to years"
      ],
      "metadata": {
        "id": "70oxisindhV9"
      },
      "execution_count": 9,
      "outputs": []
    },
    {
      "cell_type": "markdown",
      "source": [
        "#### Define Survival Formula\n",
        "\n",
        "The survival formula for the Random Survival Forest model is defined using the `Surv()` function from the `survival` package. The formula includes the survival time and event status as the response variable, and the predictors (features) of interest.\n",
        "\n",
        "`time`: Survival time in days.\n",
        "\n",
        "`status`: 1 (death from Melanoma), 2 (alive/censored), 3 (death from other causes).\n",
        "\n",
        "`Predictors`: sex, age, year, thickness (tumor thickness), ulcer (presence of ulceration).\n",
        "\n",
        "We define the event as death from Melanoma (`status == 1`) and treat other cases as `censored`.\n",
        "Time is converted to years for interpretability.\n"
      ],
      "metadata": {
        "id": "9w_DIFMAfLIl"
      }
    },
    {
      "cell_type": "code",
      "source": [
        "%%R\n",
        "# Using all available predictors: sex, age, year, thickness, ulcer\n",
        "formula <- Surv(time_years, event) ~ sex + age + year + thickness + ulcer"
      ],
      "metadata": {
        "id": "IyniMS25fLSJ"
      },
      "execution_count": 10,
      "outputs": []
    },
    {
      "cell_type": "code",
      "source": [
        "%%R\n",
        "# Convert time from days to years for interpretability\n",
        "Melanoma$time <- Melanoma$time / 365\n",
        "# Ensure status is coded as 0 (censored), 1 (Melanoma death), 2 (other death)\n",
        "Melanoma$status <- as.integer(Melanoma$status)  # 1 = Melanoma death, 2 = other death, 0 = censored\n",
        "# Select relevant predictors\n",
        "data <- Melanoma[, c(\"time\", \"status\", \"age\", \"sex\", \"thickness\", \"ulcer\")]\n",
        "# Remove rows with NA in any column to ensure clean data\n",
        "data <- data[complete.cases(data), ]"
      ],
      "metadata": {
        "id": "Z-a3ixcxpXJh"
      },
      "execution_count": 11,
      "outputs": []
    },
    {
      "cell_type": "markdown",
      "source": [
        "#### Fit Random Survival Forest Model\n",
        "\n",
        "The `rfsrc()` function fits an RSF model with 1000 trees, (`ntree`) a minimum node size (`nodsize`) of 5 events, and 10 random split (`nsplit`) points per variable.\n",
        "Variable importance is enabled (`importance = TRUE`) for VIMP analysis. The model uses out-of-bag (OOB) data for performance estimation, which is robust for small datasets like Melanoma (n=205). `formula` specifies the survival model with time and event status."
      ],
      "metadata": {
        "id": "xRwaxlS4pWeL"
      }
    },
    {
      "cell_type": "code",
      "source": [
        "%%R\n",
        "# Fit Random Survival Forest\n",
        "set.seed(123)  # For reproducibility\n",
        "rsf_model <- rfsrc(\n",
        "  formula,\n",
        "  data = Melanoma,\n",
        "  ntree = 1000,        # Number of trees\n",
        "  nodesize = 5,        # Minimum number of events in terminal nodes\n",
        "  nsplit = 10,         # Number of random split points\n",
        "  importance = TRUE,   # Calculate variable importance\n",
        "  block.size = 1       # For plotting error rate per tree\n",
        ")\n",
        "print(rsf_model)\n"
      ],
      "metadata": {
        "colab": {
          "base_uri": "https://localhost:8080/"
        },
        "id": "HVf0Bpb3g7jE",
        "outputId": "b6d7dffa-8cd8-49eb-c0db-ffad22fda5fb"
      },
      "execution_count": 12,
      "outputs": [
        {
          "output_type": "stream",
          "name": "stdout",
          "text": [
            "                         Sample size: 205\n",
            "                    Number of deaths: 57\n",
            "                     Number of trees: 1000\n",
            "           Forest terminal node size: 5\n",
            "       Average no. of terminal nodes: 21.467\n",
            "No. of variables tried at each split: 3\n",
            "              Total no. of variables: 5\n",
            "       Resampling used to grow trees: swor\n",
            "    Resample size used to grow trees: 130\n",
            "                            Analysis: RSF\n",
            "                              Family: surv\n",
            "                      Splitting rule: logrank *random*\n",
            "       Number of random split points: 10\n",
            "                          (OOB) CRPS: 1.25835496\n",
            "                   (OOB) stand. CRPS: 0.13769148\n",
            "   (OOB) Requested performance error: 0.28203648\n",
            "\n"
          ]
        }
      ]
    },
    {
      "cell_type": "markdown",
      "source": [
        "#### Calculate C-index for Model Evaluation\n",
        "\n",
        "The `C-index (concordance index)` also known as the concordance index or Harrell’s concordance index, is a metric used in survival analysis to evaluate the predictive performance of a model, such as a Random Survival Forest. It measures the model’s ability to correctly rank pairs of individuals based on their survival times, i.e., whether the model predicts a higher risk or shorter survival time for the individual who experiences the event (e.g., death) sooner. The C-index can be calculated as 1 - C-error rate, where C-error rate is the final out-of-bag (OOB) error rate.  Lower C-error (higher C-index) indicates better ranking performance\n",
        "\n",
        "C-index ranges from 0 to 1:\n",
        "\n",
        "-   1: Perfect ranking (model correctly orders all pairs).\n",
        "\n",
        "-   0.5: Random guessing (no predictive power).\n",
        "\n",
        "-   0: Completely incorrect ranking.\n",
        "    (no discrimination) to 1 (perfect discrimination).\n",
        "\n",
        "The C-index is often derived as 1 - prediction error, where the error is the out-of-bag (OOB) prediction error rate (e.g., in randomForestSRC or ranger). For the Melanoma dataset, a C-index of 0.7–0.8 indicates moderate to good ranking performance."
      ],
      "metadata": {
        "id": "mTRIKFnZhBER"
      }
    },
    {
      "cell_type": "code",
      "source": [
        "%%R\n",
        "#  Calculate C-index\n",
        "c_error <- rsf_model$err.rate[length(rsf_model$err.rate)]  # Final OOB error rate\n",
        "c_index <- 1 - c_error\n",
        "cat(\"C-index:\", c_index, \"\\n\")"
      ],
      "metadata": {
        "id": "R72m2YemiQR_",
        "colab": {
          "base_uri": "https://localhost:8080/"
        },
        "outputId": "b247e948-679b-47cd-c609-b98e480f259e"
      },
      "execution_count": 13,
      "outputs": [
        {
          "output_type": "stream",
          "name": "stdout",
          "text": [
            "C-index: 0.7179635 \n"
          ]
        }
      ]
    },
    {
      "cell_type": "markdown",
      "source": [
        "#### Plotting Survival Forest Results\n",
        "\n",
        "`plot.survival()` function shows how ensemble survival and individual curves are estimated.\n",
        "The `cens.model` argument specifies the censoring distribution, which can be \"km\" (Kaplan-Meier) or \"exp\" (exponential).\n",
        "The `plot.survival()` function provides a visual representation of the survival functions estimated by the RSF model."
      ],
      "metadata": {
        "id": "z1t_8B09qsLe"
      }
    },
    {
      "cell_type": "code",
      "source": [
        "%%R\n",
        "# Plot Estimated Survival Functions\n",
        "# Using plot.survival to show ensemble survival and individual curves\n",
        "plot.survival(\n",
        "  rsf_model,\n",
        "  cens.model = \"km\",  # Kaplan-Meier for censoring distribution\n",
        "  #xlab = \"Time (Years)\",\n",
        "  #ylab = \"Survival Probability\"\n",
        ")"
      ],
      "metadata": {
        "id": "h1hsRpc9iXIA",
        "colab": {
          "base_uri": "https://localhost:8080/",
          "height": 497
        },
        "outputId": "2f8cb1fa-2931-4eda-e977-73d0c7c7e73a"
      },
      "execution_count": 14,
      "outputs": [
        {
          "output_type": "display_data",
          "data": {
            "image/png": "[encoded data removed]"
          },
          "metadata": {}
        }
      ]
    },
    {
      "cell_type": "markdown",
      "source": [
        "#### Predict Survival Functions\n",
        "\n",
        "Below is an example of how to predict survival functions for hypothetical individuals using the fitted RSF model. We will create two hypothetical individuals with different thickness values (25th and 75th quantiles) while keeping other variables at their median values."
      ],
      "metadata": {
        "id": "GcwZGQimifZw"
      }
    },
    {
      "cell_type": "code",
      "source": [
        "%%R\n",
        "# Fit Random Survival Forest\n",
        "set.seed(123)  # For reproducibility\n",
        "rsf_object <- rfsrc(\n",
        "  Surv(time_years, event) ~ sex + age + year + thickness + ulcer,\n",
        "  data = Melanoma,\n",
        "  ntree = 500,         # Number of trees\n",
        "  nodesize = 5,        # Minimum events in terminal nodes\n",
        "  block.size = 1       # For plotting error rate per tree\n",
        ")\n",
        "\n",
        "# Create hypothetical individuals\n",
        "# Calculate median values for all variables and quantiles for thickness\n",
        "median_values <- sapply(Melanoma[, c(\"sex\", \"age\", \"year\", \"ulcer\")], median)\n",
        "thickness_quantiles <- quantile(Melanoma$thickness, probs = c(0.25, 0.75))\n",
        "\n",
        "# Individual 1: thickness at 25th quantile, others at median\n",
        "ind1 <- data.frame(\n",
        "  sex = median_values[\"sex\"],\n",
        "  age = median_values[\"age\"],\n",
        "  year = median_values[\"year\"],\n",
        "  thickness = thickness_quantiles[1],  # 25th quantile\n",
        "  ulcer = median_values[\"ulcer\"]\n",
        ")\n",
        "\n",
        "# Individual 2: thickness at 75th quantile, others at median\n",
        "ind2 <- data.frame(\n",
        "  sex = median_values[\"sex\"],\n",
        "  age = median_values[\"age\"],\n",
        "  year = median_values[\"year\"],\n",
        "  thickness = thickness_quantiles[2],  # 75th quantile\n",
        "  ulcer = median_values[\"ulcer\"]\n",
        ")\n",
        "\n",
        "# Combine hypothetical individuals\n",
        "hypothetical_data <- rbind(ind1, ind2)\n",
        "\n",
        "# Predict survival functions\n",
        "pred <- predict(rsf_object, newdata = hypothetical_data)\n",
        "\n",
        "# Extract survival probabilities and time points\n",
        "surv_probs <- pred$survival  # Survival probabilities for both individuals\n",
        "times <- pred$time.interest  # Time points\n",
        "\n",
        "# Create data frame for plotting\n",
        "plot_data <- data.frame(\n",
        "  Time = rep(times, 2),\n",
        "  Survival = c(surv_probs[1, ], surv_probs[2, ]),\n",
        "  Individual = rep(c(\"25th Quantile Thickness\", \"75th Quantile Thickness\"), each = length(times))\n",
        ")\n",
        "\n",
        "# Plot survival functions using ggplot2\n",
        "ggplot(plot_data, aes(x = Time, y = Survival, color = Individual)) +\n",
        "  geom_step(size = 1) +\n",
        "  labs(\n",
        "    title = \"Predicted Survival Functions for Hypothetical Individuals (Melanoma Data)\",\n",
        "    x = \"Time (Years)\",\n",
        "    y = \"Survival Probability\",\n",
        "    color = \"Individual\"\n",
        "  ) +\n",
        "  scale_color_manual(values = c(\"blue\", \"red\")) +\n",
        "  theme_minimal() +\n",
        "  theme(legend.position = \"top\")"
      ],
      "metadata": {
        "id": "5OBl2yLrioxb",
        "colab": {
          "base_uri": "https://localhost:8080/",
          "height": 497
        },
        "outputId": "2ad46960-0bac-4506-9f60-6b7660a27ee6"
      },
      "execution_count": 15,
      "outputs": [
        {
          "output_type": "display_data",
          "data": {
            "image/png": "[encoded data removed]"
          },
          "metadata": {}
        }
      ]
    },
    {
      "cell_type": "markdown",
      "source": [
        "#### Plot Brier Scores\n",
        "\n",
        "The Brier Score measures prediction accuracy at specific time points, accounting for censoring using inverse probability of censoring weights (IPCW) with the `Kaplan-Meier` estimator (`cens.model = \"km\"`). The Brier Score ranges from 0 to 1, where lower values indicate better predictive accuracy."
      ],
      "metadata": {
        "id": "uzzvIou1rIVS"
      }
    },
    {
      "cell_type": "code",
      "source": [
        "%%R\n",
        "# Compute Brier Scores\n",
        "# Kaplan-Meier censoring distribution\n",
        "bs.km <- get.brier.survival(rsf_model, cens.model = \"km\")$brier.score\n",
        "# RSF-based censoring distribution\n",
        "bs.rsf <- get.brier.survival(rsf_model, cens.model = \"rfsrc\")$brier.score\n",
        "\n",
        "# Create data frame for plotting\n",
        "plot_data <- data.frame(\n",
        "  Time = rep(rsf_model$time.interest, 2),\n",
        "  BrierScore = c(bs.km[, 2], bs.rsf[, 2]),  # Second column contains Brier Score\n",
        "  Method = rep(c(\"Kaplan-Meier\", \"RSF\"), each = length(rsf_model$time.interest))\n",
        ")\n",
        "\n",
        "# Plot Brier Scores using ggplot2\n",
        "ggplot(plot_data, aes(x = Time, y = BrierScore, color = Method)) +\n",
        "  geom_step(size = 1) +\n",
        "  labs(\n",
        "    title = \"Brier Scores: Kaplan-Meier vs RSF Censoring (Melanoma Data)\",\n",
        "    x = \"Time (Years)\",\n",
        "    y = \"Brier Score\",\n",
        "    color = \"Censoring Method\"\n",
        "  ) +\n",
        "  scale_color_manual(values = c(\"Kaplan-Meier\" = \"blue\", \"RSF\" = \"red\")) +\n",
        "  theme_minimal() +\n",
        "  theme(legend.position = \"top\")"
      ],
      "metadata": {
        "colab": {
          "base_uri": "https://localhost:8080/",
          "height": 497
        },
        "id": "tfwnSkv4rJNc",
        "outputId": "2fd9b94a-3537-4493-84a5-85bb5e00abc5"
      },
      "execution_count": 16,
      "outputs": [
        {
          "output_type": "display_data",
          "data": {
            "image/png": "[encoded data removed]"
          },
          "metadata": {}
        }
      ]
    },
    {
      "cell_type": "markdown",
      "source": [
        "#### Calculate Continuous Rank Probability Score (CRPS)\n",
        "\n",
        "The Continuous Rank Probability Score (CRPS) is a metric used to evaluate the accuracy of probabilistic forecasts, particularly in survival analysis.\n",
        "It measures the difference between the predicted and observed survival distributions over time.\n",
        "The CRPS is calculated as the integrated Brier score divided by the time interval (`t-0`).\n",
        "The CRPS ranges from 0 to 1, where lower values indicate better predictive accuracy.\n",
        "The CRPS is particularly useful for evaluating survival models, as it accounts for the entire survival distribution rather than just point estimates.\n",
        "\n",
        "CRPS at time $t$ is defined as the integral of the Brier Score from $0$ to $t$, divided by the time range ($t - 0$).\n",
        "The `trapz` function implements the trapezoidal rule to numerically integrate the Brier Score over time.\n",
        "For each time point, CRPS is computed as:\n",
        "\n",
        "$$   \\text{CRPS}(t) = \\frac{\\int_0^t \\text{Brier}(s) \\, ds}{t - 0} $$\n",
        "\n",
        "-   At $t=0$, CRPS is set to 0 (no prediction error at the start).\n",
        "\n",
        "-   The `trapezoidal rule` is used to calculate the CRPS by integrating the Brier score over time.\n",
        "    The CRPS is calculated for both Kaplan-Meier and RSF methods, and the results are plotted for comparison.\n"
      ],
      "metadata": {
        "id": "tObQiqDeir35"
      }
    },
    {
      "cell_type": "code",
      "source": [
        "%%R\n",
        "# Define trapezoidal rule for integration\n",
        "trapz <- function(x, y) {\n",
        "  idx <- order(x)\n",
        "  x <- x[idx]\n",
        "  y <- y[idx]\n",
        "  sum(diff(x) * (y[-length(y)] + y[-1]) / 2)\n",
        "}\n",
        "\n",
        "# Calculate CRPS for both methods\n",
        "times <- rsf_model$time.interest\n",
        "crps.km <- sapply(seq_along(times), function(j) {\n",
        "  if (j == 1) return(0)  # CRPS is 0 at t=0\n",
        "  trapz(times[1:j], bs.km[1:j, 2]) / diff(range(times[1:j]))\n",
        "})\n",
        "crps.rsf <- sapply(seq_along(times), function(j) {\n",
        "  if (j == 1) return(0)  # CRPS is 0 at t=0\n",
        "  trapz(times[1:j], bs.rsf[1:j, 2]) / diff(range(times[1:j]))\n",
        "})\n",
        "\n",
        "# Print CRPS at the final time point for both methods\n",
        "cat(\"CRPS (Kaplan-Meier) at max time:\", crps.km[length(crps.km)], \"\\n\")\n",
        "cat(\"CRPS (RSF) at max time:\", crps.rsf[length(crps.rsf)], \"\\n\")\n",
        "\n",
        "# Create data frame for plotting\n",
        "plot_data <- data.frame(\n",
        "  Time = rep(times, 2),\n",
        "  CRPS = c(crps.km, crps.rsf),\n",
        "  Method = rep(c(\"Kaplan-Meier\", \"RSF\"), each = length(times))\n",
        ")\n",
        "\n",
        "# Plot CRPS using ggplot2\n",
        "ggplot(plot_data, aes(x = Time, y = CRPS, color = Method)) +\n",
        "  geom_step(size = 1) +\n",
        "  labs(\n",
        "    title = \"CRPS: Kaplan-Meier vs RSF Censoring (Melanoma Data)\",\n",
        "    x = \"Time (Years)\",\n",
        "    y = \"CRPS\",\n",
        "    color = \"Censoring Method\"\n",
        "  ) +\n",
        "  scale_color_manual(values = c(\"Kaplan-Meier\" = \"blue\", \"RSF\" = \"red\")) +\n",
        "  theme_minimal() +\n",
        "  theme(legend.position = \"top\")"
      ],
      "metadata": {
        "colab": {
          "base_uri": "https://localhost:8080/",
          "height": 532
        },
        "id": "TWKESTttiw3C",
        "outputId": "4a286c19-4378-4495-b8af-89cef0904b4e"
      },
      "execution_count": 17,
      "outputs": [
        {
          "output_type": "stream",
          "name": "stdout",
          "text": [
            "CRPS (Kaplan-Meier) at max time: 0.1457704 \n",
            "CRPS (RSF) at max time: 0.1297188 \n"
          ]
        },
        {
          "output_type": "display_data",
          "data": {
            "image/png": "[encoded data removed]"
          },
          "metadata": {}
        }
      ]
    },
    {
      "cell_type": "markdown",
      "source": [
        "#### Variable Importance (VIMP)"
      ],
      "metadata": {
        "id": "4Eyt89Hdi-aQ"
      }
    },
    {
      "cell_type": "code",
      "source": [
        "%%R\n",
        "# Variable Importance (VIMP)\n",
        "# Extract VIMP\n",
        "vimp <- rsf_model$importance\n",
        "vimp_df <- data.frame(\n",
        "  Variable = names(vimp),\n",
        "  Importance = vimp\n",
        ")\n",
        "\n",
        "# Sort by importance\n",
        "vimp_df <- vimp_df[order(-vimp_df$Importance), ]\n",
        "# Print VIMP for reference\n",
        "print(vimp_df)"
      ],
      "metadata": {
        "id": "BBjbJapEi-rU",
        "colab": {
          "base_uri": "https://localhost:8080/"
        },
        "outputId": "00629c12-1de4-4643-c7ec-099ac31702e7"
      },
      "execution_count": 18,
      "outputs": [
        {
          "output_type": "stream",
          "name": "stdout",
          "text": [
            "           Variable   Importance\n",
            "thickness thickness  0.153622277\n",
            "ulcer         ulcer  0.104049088\n",
            "year           year  0.044445705\n",
            "age             age  0.025908234\n",
            "sex             sex -0.003712414\n"
          ]
        }
      ]
    },
    {
      "cell_type": "code",
      "source": [
        "%%R\n",
        "# Plot VIMP using ggplot2\n",
        "ggplot(vimp_df, aes(x = reorder(Variable, Importance), y = Importance)) +\n",
        "  geom_bar(stat = \"identity\", fill = \"steelblue\") +\n",
        "  coord_flip() +\n",
        "  labs(\n",
        "    title = \"Variable Importance (VIMP) for Melanoma Survival\",\n",
        "    x = \"Variable\",\n",
        "    y = \"Importance\"\n",
        "  ) +\n",
        "  theme_minimal()"
      ],
      "metadata": {
        "id": "oYZG0zhqjCRG",
        "colab": {
          "base_uri": "https://localhost:8080/",
          "height": 497
        },
        "outputId": "ddf8f0e4-5648-43e7-9701-59a83fc7e8f4"
      },
      "execution_count": 28,
      "outputs": [
        {
          "output_type": "display_data",
          "data": {
            "image/png": "[encoded data removed]"
          },
          "metadata": {}
        }
      ]
    },
    {
      "cell_type": "markdown",
      "source": [
        "#### Competting Risks\n",
        "\n",
        "The {randomForestSRC}  package extends random forests to handle competing risks, where multiple event types (e.g., death due to melanoma, death due to other causes) are possible, and right-censoring complicates the analysis. For competing risks, the package estimates:\n",
        "\n",
        "* `Cause-Specific Cumulative Hazard Function (CSCHF)`: The instantaneous risk of an event type.\n",
        "\n",
        "* `Cumulative Incidence Function (CIF)`: The probability of an event type occurring by time $t$ acccounting for competing events.\n",
        "\n",
        "*  `Predicted Values`: The expected number of life years lost due to each event type.\n",
        "\n",
        "We will rebuild  the RSF Model for  a competing risks , specifying the `Surv` object and appropriate splitting rules (e.g., `logrankCR` for CIF-based splits)."
      ],
      "metadata": {
        "id": "rmFDUz6yrK8e"
      }
    },
    {
      "cell_type": "code",
      "source": [
        "%%R\n",
        "rsf_model_01 <- rfsrc(\n",
        "  Surv(time, status) ~ age + sex + thickness + ulcer,\n",
        "  data = data,\n",
        "  ntree = 100,           # Number of trees\n",
        "  nodesize = 15,         # Minimum node size (recommended for competing risks)\n",
        "  splitrule = \"logrankCR\",  # Use log-rank splitting for cumulative incidence\n",
        "  na.action = \"na.impute\",  # Impute missing values\n",
        "  importance = TRUE       # Compute variable importance\n",
        ")"
      ],
      "metadata": {
        "id": "xm8T57gJrLs8"
      },
      "execution_count": 19,
      "outputs": []
    },
    {
      "cell_type": "code",
      "source": [
        "%%R\n",
        "plot.competing.risk(rsf_model_01)"
      ],
      "metadata": {
        "colab": {
          "base_uri": "https://localhost:8080/",
          "height": 497
        },
        "id": "W31HDxZtrRnU",
        "outputId": "9a6674a6-f151-4842-c1a1-14a930cd2e67"
      },
      "execution_count": 20,
      "outputs": [
        {
          "output_type": "display_data",
          "data": {
            "image/png": "[encoded data removed]"
          },
          "metadata": {}
        }
      ]
    },
    {
      "cell_type": "markdown",
      "source": [
        "### Random Survival Forest using {ranger} package\n",
        "\n",
        "The `{ranger}` package is a fast implementation of Random Forests in R, including support for survival analysis. It is particularly efficient for large datasets and provides various options for tuning and customization. Below is an example of how to implement a Random Survival Forest using the `{ranger}` package.\n"
      ],
      "metadata": {
        "id": "qtjJDe8Ir141"
      }
    },
    {
      "cell_type": "markdown",
      "source": [
        "#### Data and Prepare Data for Survival Analysis"
      ],
      "metadata": {
        "id": "r3Qu7FfssEoF"
      }
    },
    {
      "cell_type": "code",
      "source": [
        "%%R\n",
        "# Load Melanoma dataset\n",
        "data(Melanoma, package = \"MASS\")\n",
        "# Prepare data\n",
        "# Event: 1 = death from Melanoma, 0 = censored (alive or other death)\n",
        "Melanoma$event <- ifelse(Melanoma$status == 1, 1, 0)\n",
        "# Convert time to years for interpretability\n",
        "Melanoma$time_years <- Melanoma$time / 365.25\n",
        "# Verify that time_years is correctly created\n",
        "if (all(is.na(Melanoma$time_years))) {\n",
        "  stop(\"Error: time_years contains only NA values. Check the 'time' column.\")\n",
        "}\n",
        "cat(\"Max time_years:\", max(Melanoma$time_years, na.rm = TRUE), \"\\n\")"
      ],
      "metadata": {
        "colab": {
          "base_uri": "https://localhost:8080/"
        },
        "id": "uA6GvnKWrUvN",
        "outputId": "b9fc5b89-a10c-43b3-be5b-f7c38633acd9"
      },
      "execution_count": 21,
      "outputs": [
        {
          "output_type": "stream",
          "name": "stdout",
          "text": [
            "Max time_years: 15.23614 \n"
          ]
        }
      ]
    },
    {
      "cell_type": "markdown",
      "source": [
        "#### Define Survival Object"
      ],
      "metadata": {
        "id": "ZhDHw_slrcPL"
      }
    },
    {
      "cell_type": "code",
      "source": [
        "%%R\n",
        "# Define survival object\n",
        "surv_obj <- Surv(Melanoma$time_years, Melanoma$event)"
      ],
      "metadata": {
        "id": "da94AfSVrnas"
      },
      "execution_count": 24,
      "outputs": []
    },
    {
      "cell_type": "markdown",
      "source": [
        "#### Fit Random Survival Forest Model\n",
        "\n",
        "The `ranger()` function fits an RSF with 500 trees and a minimum node size of 5. Permutation-based variable importance is enabled. `keep.inbag = TRUE` allows for out-of-bag (OOB) error calculations."
      ],
      "metadata": {
        "id": "XDG33IYKrvZC"
      }
    },
    {
      "cell_type": "code",
      "source": [
        "%%R\n",
        "# Fit Random Survival Forest with ranger\n",
        "set.seed(123)  # For reproducibility\n",
        "rsf_ranger <- ranger(\n",
        "  formula = Surv(time_years, event) ~ sex + age + year + thickness + ulcer,\n",
        "  data = Melanoma,\n",
        "  num.trees = 500,      # Number of trees\n",
        "  min.node.size = 5,    # Minimum node size\n",
        "  importance = \"permutation\",  # Enable variable importance\n",
        "  keep.inbag = TRUE     # For prediction error calculations\n",
        ")\n",
        "rsf_ranger"
      ],
      "metadata": {
        "colab": {
          "base_uri": "https://localhost:8080/"
        },
        "id": "lTinId04ryc9",
        "outputId": "80abe9c3-6d61-46c6-eb5f-d08a08a5ed01"
      },
      "execution_count": 25,
      "outputs": [
        {
          "output_type": "stream",
          "name": "stdout",
          "text": [
            "Ranger result\n",
            "\n",
            "Call:\n",
            " ranger(formula = Surv(time_years, event) ~ sex + age + year +      thickness + ulcer, data = Melanoma, num.trees = 500, min.node.size = 5,      importance = \"permutation\", keep.inbag = TRUE) \n",
            "\n",
            "Type:                             Survival \n",
            "Number of trees:                  500 \n",
            "Sample size:                      205 \n",
            "Number of independent variables:  5 \n",
            "Mtry:                             3 \n",
            "Target node size:                 5 \n",
            "Variable importance mode:         permutation \n",
            "Splitrule:                        logrank \n",
            "Number of unique death times:     57 \n",
            "OOB prediction error (1-C):       0.2883861 \n"
          ]
        }
      ]
    },
    {
      "cell_type": "markdown",
      "source": [
        "#### Calculate C-index"
      ],
      "metadata": {
        "id": "Q5U9TNnvr14w"
      }
    },
    {
      "cell_type": "code",
      "source": [
        "%%R\n",
        "# 1. Calculate C-index (via out-of-bag prediction error)\n",
        "# Ranger uses 1 - error rate as a proxy for C-index\n",
        "c_index <- 1 - rsf_ranger$prediction.error\n",
        "cat(\"C-index:\", c_index, \"\\n\")"
      ],
      "metadata": {
        "colab": {
          "base_uri": "https://localhost:8080/"
        },
        "id": "KWVzKHPor308",
        "outputId": "d4558428-5286-4739-b1ef-2de483c64910"
      },
      "execution_count": 26,
      "outputs": [
        {
          "output_type": "stream",
          "name": "stdout",
          "text": [
            "C-index: 0.7116139 \n"
          ]
        }
      ]
    },
    {
      "cell_type": "markdown",
      "source": [
        "#### Predict survival probabilities at specified times\n"
      ],
      "metadata": {
        "id": "79BFF8S3ss44"
      }
    },
    {
      "cell_type": "code",
      "source": [
        "%%R\n",
        "# Predict survival probabilities at specified times\n",
        "# Define time points for prediction\n",
        "times <- seq(0, max(Melanoma$time_years, na.rm = TRUE), length.out = 100)\n",
        "# ranger does not directly support custom time points, so we approximate\n",
        "pred <- predict(rsf_ranger, data = Melanoma)\n",
        "available_times <- pred$unique.death.times  # Time points from ranger predictions\n",
        "surv_probs <- exp(-pred$chf)  # Convert cumulative hazard to survival probabilities\n",
        "\n",
        "# Interpolate survival probabilities to match 'times'\n",
        "surv_probs_interpolated <- matrix(NA, nrow = nrow(surv_probs), ncol = length(times))\n",
        "for (i in 1:nrow(surv_probs)) {\n",
        "  surv_probs_interpolated[i, ] <- approx(\n",
        "    x = available_times,\n",
        "    y = surv_probs[i, ],\n",
        "    xout = times,\n",
        "    method = \"linear\",\n",
        "    rule = 2\n",
        "  )$y\n",
        "}\n",
        "\n",
        "# Compute ensemble survival function\n",
        "ensemble_surv <- colMeans(surv_probs_interpolated)  # Average across individuals\n",
        "\n",
        "# Create data frame for plotting\n",
        "surv_df <- data.frame(\n",
        "  Time = times,\n",
        "  Survival = ensemble_surv\n",
        ")\n",
        "\n",
        "# Verify dimensions\n",
        "cat(\"Length of Time:\", length(times), \"\\n\")\n",
        "cat(\"Length of Survival:\", length(ensemble_surv), \"\\n\")"
      ],
      "metadata": {
        "colab": {
          "base_uri": "https://localhost:8080/"
        },
        "id": "VQwaYBGqstpn",
        "outputId": "c24586fa-73b0-4e98-dea4-45757c527df8"
      },
      "execution_count": 27,
      "outputs": [
        {
          "output_type": "stream",
          "name": "stdout",
          "text": [
            "Length of Time: 100 \n",
            "Length of Survival: 100 \n"
          ]
        }
      ]
    },
    {
      "cell_type": "markdown",
      "source": [
        "#### Plot Ensemble Survival Function"
      ],
      "metadata": {
        "id": "hPfY7Hdgs1ra"
      }
    },
    {
      "cell_type": "code",
      "source": [
        "%%R\n",
        "# Plot ensemble survival function\n",
        "ggplot(surv_df, aes(x = Time, y = Survival)) +\n",
        "  geom_step(size = 1, color = \"blue\") +\n",
        "  labs(\n",
        "    title = \"Ensemble Survival Function (Melanoma Data, Ranger)\",\n",
        "    x = \"Time (Years)\",\n",
        "    y = \"Survival Probability\"\n",
        "  ) +\n",
        "  theme_minimal()"
      ],
      "metadata": {
        "colab": {
          "base_uri": "https://localhost:8080/",
          "height": 497
        },
        "id": "kwF3-hLWs2ku",
        "outputId": "d23d40c4-4a9c-46ec-a0d5-b5f90b48ee6c"
      },
      "execution_count": 28,
      "outputs": [
        {
          "output_type": "display_data",
          "data": {
            "image/png": "[encoded data removed]"
          },
          "metadata": {}
        }
      ]
    },
    {
      "cell_type": "markdown",
      "source": [
        "#### Calculate Brier Score\n",
        "\n",
        "The Brier Score is a measure of the accuracy of probabilistic predictions. It is calculated as the mean squared difference between predicted probabilities and observed outcomes.\n",
        "The Brier Score ranges from 0 to 1, where lower values indicate better predictive accuracy. The Brier Score can be computed using the `{riskRegression}` package, which provides functions for survival analysis and risk prediction."
      ],
      "metadata": {
        "id": "Br6z-Ti6s6zv"
      }
    },
    {
      "cell_type": "code",
      "source": [
        "%%R\n",
        "# Compute Brier Score using riskRegression\n",
        "brier <- riskRegression::Score(\n",
        "  list(\"Ranger\" = surv_probs_interpolated),\n",
        "  formula = Surv(time_years, event) ~ 1,\n",
        "  data = Melanoma,\n",
        "  times = times,\n",
        "  cens.model = \"km\",  # Kaplan-Meier censoring\n",
        "  metrics = \"brier\"\n",
        ")\n",
        "\n",
        "# Extract Brier Scores\n",
        "brier_scores <- brier$Brier$score[brier$Brier$score$model == \"Ranger\", \"Brier\"]\n",
        "\n",
        "# Create data frame for plotting\n",
        "plot_data <- data.frame(\n",
        "  Time = times,\n",
        "  BrierScore = brier_scores\n",
        ")\n",
        "\n",
        "# Plot Brier Score\n",
        "ggplot(plot_data, aes(x = Time, y = Brier)) +\n",
        "  geom_step(size = 1, color = \"blue\") +\n",
        "  labs(\n",
        "    title = \"Brier Score: Kaplan-Meier Censoring (Melanoma Data, Ranger)\",\n",
        "    x = \"Time (Years)\",\n",
        "    y = \"Brier Score\"\n",
        "  ) +\n",
        "  theme_minimal()"
      ],
      "metadata": {
        "colab": {
          "base_uri": "https://localhost:8080/",
          "height": 497
        },
        "id": "n5h7iPHes-vC",
        "outputId": "9eb06257-d25e-468f-e8c0-c6c874c58d7a"
      },
      "execution_count": 29,
      "outputs": [
        {
          "output_type": "display_data",
          "data": {
            "image/png": "[encoded data removed]"
          },
          "metadata": {}
        }
      ]
    },
    {
      "cell_type": "markdown",
      "source": [
        "#### Calculate Continuous Rank Probability Score (CRPS)"
      ],
      "metadata": {
        "id": "RidH1kaqtE3m"
      }
    },
    {
      "cell_type": "code",
      "source": [
        "%%R\n",
        "# Calculate CRPS (Integrated Brier Score / Time)\n",
        "trapz <- function(x, y) {\n",
        "  idx <- order(x)\n",
        "  x <- x[idx]\n",
        "  y <- y[idx]\n",
        "  sum(diff(x) * (y[-length(y)] + y[-1]) / 2)\n",
        "}\n",
        "crps <- sapply(seq_along(times), function(j) {\n",
        "  if (j == 1) return(0)\n",
        "  trapz(times[1:j], brier_scores[1:j]) / diff(range(times[1:j]))\n",
        "})\n",
        "crps_df <- data.frame(Time = times, CRPS = crps)\n",
        "ggplot(crps_df, aes(x = Time, y = CRPS)) +\n",
        "  geom_step(color = \"red\") +\n",
        "  labs(\n",
        "    title = \"CRPS Over Time (Melanoma Data, Ranger)\",\n",
        "    x = \"Time (Years)\",\n",
        "    y = \"CRPS\"\n",
        "  ) +\n",
        "  theme_minimal()"
      ],
      "metadata": {
        "colab": {
          "base_uri": "https://localhost:8080/",
          "height": 497
        },
        "id": "VRyAc08TtFn2",
        "outputId": "4e8e4316-f913-441b-f096-3aeeb89fda01"
      },
      "execution_count": 30,
      "outputs": [
        {
          "output_type": "display_data",
          "data": {
            "image/png": "[encoded data removed]"
          },
          "metadata": {}
        }
      ]
    },
    {
      "cell_type": "markdown",
      "source": [
        "#### Feature Importance (VIMP)"
      ],
      "metadata": {
        "id": "plnCi-2xuSqE"
      }
    },
    {
      "cell_type": "code",
      "source": [
        "%%R\n",
        "#  Variable Importance\n",
        "vimp <- rsf_ranger$variable.importance\n",
        "vimp_df <- data.frame(\n",
        "  Variable = names(vimp),\n",
        "  Importance = vimp\n",
        ")\n",
        "vimp_df <- vimp_df[order(-vimp_df$Importance), ]\n",
        "\n",
        "# Plot VIMP\n",
        "ggplot(vimp_df, aes(x = reorder(Variable, Importance), y = Importance)) +\n",
        "  geom_bar(stat = \"identity\", fill = \"steelblue\") +\n",
        "  coord_flip() +\n",
        "  labs(\n",
        "    title = \"Variable Importance (VIMP) for Melanoma Survival (Ranger)\",\n",
        "    x = \"Variable\",\n",
        "    y = \"Importance\"\n",
        "  ) +\n",
        "  theme_minimal()\n",
        "\n"
      ],
      "metadata": {
        "colab": {
          "base_uri": "https://localhost:8080/",
          "height": 497
        },
        "id": "QMr0qMRBuTjI",
        "outputId": "17736bc6-828c-448e-84cc-6fe5b4aa5e17"
      },
      "execution_count": 32,
      "outputs": [
        {
          "output_type": "display_data",
          "data": {
            "image/png": "[encoded data removed]"
          },
          "metadata": {}
        }
      ]
    },
    {
      "cell_type": "markdown",
      "source": [
        "### Random Survival Forest using {DynForest} package\n",
        "\n",
        "The {DynForest} package is designed for dynamic random forests, particularly for longitudinal or time-dependent predictors with survival outcomes. It allows for the modeling of time-varying covariates and is suitable for survival analysis with complex data structures.  Below is an example of how to implement a Random Survival Forest using the {DynForest} package. In this section we mostly follow the example from the [package documentation](https://cran.r-project.org/web/packages/DynForest/vignettes/survival.html)."
      ],
      "metadata": {
        "id": "vlCaWK6KugOq"
      }
    },
    {
      "cell_type": "markdown",
      "source": [
        "#### Data\n",
        "\n",
        "We will use the `pbc2` dataset from the `DynForest` package, which contains survival data for patients with primary biliary cirrhosis (PBC).\n",
        "The dataset includes time-to-event data, censoring information, and various clinical predictors.\n",
        "This Longitudinal dataset with 1945 rows and 19 columns for 312 patients with primary biliary cirrhosis (PBC) includes time-to-event data, censoring information, and various clinical predictors.\n",
        "The dataset contains the following columns:\n",
        "\n",
        "`id`: Patient identifier\n",
        "\n",
        "`time`: Time measurement\n",
        "\n",
        "`ascites` : Presence of ascites (Yes/No)\n",
        "\n",
        "`hepatomegaly`: Presence of hepatomegaly (Yes/No)\n",
        "\n",
        "`spiders`: Blood vessel malformations in the skin (Yes/No)\n",
        "\n",
        "`edema`: Edema levels (No edema/edema no diuretics/edema despite diuretics)\n",
        "\n",
        "`serBilir`: Level of serum bilirubin\n",
        "\n",
        "`serChol`: Level of serum cholesterol\n",
        "\n",
        "`albumin`: Level of albumin\n",
        "\n",
        "`alkaline`: Level of alkaline phosphatase\n",
        "\n",
        "`SGOT`: Level of aspartate aminotransferase\n",
        "\n",
        "`platelets`: Platelet count\n",
        "\n",
        "`prothrombin`: Prothrombin time\n",
        "\n",
        "`histologic`: Histologic stage of disease\n",
        "\n",
        "`drug`: Drug treatment (D-penicillmain/Placebo)\n",
        "\n",
        "`age`:Age at enrollment\n",
        "\n",
        "`sex`: Sex of patient\n",
        "\n",
        "`years`: Time-to-event in years\n",
        "\n",
        "`event`:Event indicator: 0 (alive), 1 (transplanted) and 2 (dead)"
      ],
      "metadata": {
        "id": "97N7i5PPuhW-"
      }
    },
    {
      "cell_type": "code",
      "source": [
        "%%R\n",
        "# Load Melanoma dataset\n",
        "data(pbc2, package = \"DynForest\")\n",
        "glimpse(pbc2)"
      ],
      "metadata": {
        "colab": {
          "base_uri": "https://localhost:8080/"
        },
        "id": "tFk2XpmtulLB",
        "outputId": "0e9db878-9d86-4fb8-f677-8debe9ac8fb5"
      },
      "execution_count": 33,
      "outputs": [
        {
          "output_type": "stream",
          "name": "stdout",
          "text": [
            "Rows: 1,945\n",
            "Columns: 19\n",
            "$ id           <dbl> 1, 1, 10, 100, 100, 100, 100, 101, 101, 101, 101, 101, 10…\n",
            "$ time         <dbl> 0.0000000, 0.5256817, 0.0000000, 0.0000000, 0.4681853, 0.…\n",
            "$ ascites      <fct> Yes, Yes, Yes, No, No, Yes, NA, No, No, No, No, No, No, N…\n",
            "$ hepatomegaly <fct> Yes, Yes, No, Yes, Yes, No, NA, No, Yes, Yes, No, Yes, Ye…\n",
            "$ spiders      <fct> Yes, Yes, Yes, No, No, No, NA, No, No, Yes, No, No, No, N…\n",
            "$ edema        <fct> edema despite diuretics, edema despite diuretics, edema d…\n",
            "$ serBilir     <dbl> 14.5, 21.3, 12.6, 2.3, 2.5, 2.9, 4.4, 0.9, 1.1, 0.9, 0.7,…\n",
            "$ serChol      <int> 261, NA, 200, 178, NA, NA, NA, 400, NA, NA, 317, NA, NA, …\n",
            "$ albumin      <dbl> 2.60, 2.94, 2.74, 3.00, 2.94, 3.02, 2.20, 3.60, 3.54, 3.2…\n",
            "$ alkaline     <int> 1718, 1612, 918, 746, 836, 650, NA, 1689, 1558, 1736, 149…\n",
            "$ SGOT         <dbl> 138.0, 6.2, 147.3, 178.3, 189.1, 124.0, 124.0, 164.3, 133…\n",
            "$ platelets    <int> 190, 183, 302, 119, 98, 99, NA, 327, 409, 283, 358, 312, …\n",
            "$ prothrombin  <dbl> 12.2, 11.2, 11.5, 12.0, 11.4, 11.7, 12.3, 10.4, 10.5, 10.…\n",
            "$ histologic   <int> 4, 4, 4, 4, 4, 4, 4, 3, 3, 3, 3, 4, 4, 4, 4, 4, 4, 4, 4, …\n",
            "$ drug         <fct> D-penicil, D-penicil, placebo, placebo, placebo, placebo,…\n",
            "$ age          <dbl> 58.76684, 58.76684, 70.56182, 51.47027, 51.47027, 51.4702…\n",
            "$ sex          <fct> female, female, female, male, male, male, male, female, f…\n",
            "$ years        <dbl> 1.0951703, 1.0951703, 0.1396342, 1.5113350, 1.5113350, 1.…\n",
            "$ event        <dbl> 2, 2, 2, 2, 2, 2, 2, 0, 0, 0, 0, 0, 0, 0, 0, 0, 0, 0, 0, …\n"
          ]
        }
      ]
    },
    {
      "cell_type": "markdown",
      "source": [
        "#### Split Data"
      ],
      "metadata": {
        "id": "5TW4zoS0use6"
      }
    },
    {
      "cell_type": "code",
      "source": [
        "%%R\n",
        "# split the data into training and test sets\n",
        "set.seed(1234)\n",
        "id <- unique(pbc2$id)\n",
        "id_sample <- sample(id, length(id)*2/3)\n",
        "id_row <- which(pbc2$id %in% id_sample)\n",
        "train <- pbc2[id_row,]\n",
        "test <- pbc2[-id_row,]"
      ],
      "metadata": {
        "id": "UZ0UelGOusp5"
      },
      "execution_count": 34,
      "outputs": []
    },
    {
      "cell_type": "markdown",
      "source": [
        "#### Prepare training data\n",
        "\n",
        "First, we create the dataframe `time_train` in a longitudinal format, meaning there is one observation per row. This dataframe includes the following longitudinal predictors: `id`, the unique patient identifier; `time`, the observed time measurements; and the variables `serBilir`, `SGOT`, `albumin`, and `alkaline`.\n",
        "\n",
        "Next, we build the dataframe `fixed_train` containing the time-fixed predictors. This dataframe includes the `id` for the unique patient identifier, as well as the `age`, `drug`, and `sex` predictors measured at enrollment. It is important to correctly define the nature of each predictor using the `as.factor()` function for categorical predictors, such as `drug` and `sex`)."
      ],
      "metadata": {
        "id": "SJ0_QAA2u2Cj"
      }
    },
    {
      "cell_type": "code",
      "source": [
        "%%R\n",
        "# Prepare training data\n",
        "time_train <- train[,c(\"id\",\n",
        "                       \"time\",\n",
        "                        \"serBilir\",\n",
        "                        \"SGOT\",\n",
        "                        \"albumin\",\n",
        "                       \"alkaline\")]\n",
        "\n",
        "fixed_train <- unique(train[,c(\"id\",\n",
        "                               \"age\",\n",
        "                               \"drug\",\n",
        "                               \"sex\")])"
      ],
      "metadata": {
        "id": "SfQCM6xGu3Gq"
      },
      "execution_count": 35,
      "outputs": []
    },
    {
      "cell_type": "markdown",
      "source": [
        "#### Model of the Time-dependent Predictors\n",
        "\n",
        "The first step in building a random forest involves specifying the mixed model for each longitudinal predictor. This is done by creating a list that includes both the fixed formula and the random formula for the fixed and random effects of the mixed models, respectively.\n",
        "\n",
        "In this example, we assume a linear trajectory for `serBilir`, `albumin`, and `alkaline`, while we consider a quadratic trajectory for `SGOT`.\n",
        "Although this example is limited to linear and quadratic functions of time, it's important to note that other functions, including splines, can also be used."
      ],
      "metadata": {
        "id": "RAV69oFyvB6_"
      }
    },
    {
      "cell_type": "code",
      "source": [
        "%%R\n",
        "timeVarModel <- list(serBilir = list(fixed = serBilir ~ time,\n",
        "                                     random = ~ time),\n",
        "                     SGOT = list(fixed = SGOT ~ time + I(time^2),\n",
        "                                 random = ~ time + I(time^2)),\n",
        "                     albumin = list(fixed = albumin ~ time,\n",
        "                                    random = ~ time),\n",
        "                     alkaline = list(fixed = alkaline ~ time,\n",
        "                                     random = ~ time))"
      ],
      "metadata": {
        "id": "pKnagyGZvCmS"
      },
      "execution_count": 36,
      "outputs": []
    },
    {
      "cell_type": "markdown",
      "source": [
        "#### Define Survival Object\n",
        "\n",
        "The outcome object includes a list with the `type` set to `surv` (indicating survival data). The `Y` component contains a dataframe in wide format, where each row represents one subject. The dataframe includes the following columns: `id`, which is the unique patient identifier; `years`, which holds the time-to-event data; and `event`, which indicates whether the event occurred.\n"
      ],
      "metadata": {
        "id": "smQBVgmVvPnC"
      }
    },
    {
      "cell_type": "code",
      "source": [
        "%%R\n",
        "Y <- list(type = \"surv\",\n",
        "          Y = unique(train[,c(\"id\",\n",
        "                              \"years\",\n",
        "                              \"event\")]))"
      ],
      "metadata": {
        "id": "B1k8fN5lvQWM"
      },
      "execution_count": 37,
      "outputs": []
    },
    {
      "cell_type": "markdown",
      "source": [
        "#### Fit Random Survival Forest Model\n",
        "\n",
        "- `dynforest()` function fits a random survival forest model using the training data.\n",
        "-  `timeData` argument specifies the longitudinal data, while the `fixedData` argument specifies the fixed data.\n",
        "- `timeVar` argument indicates the time variable, and the `idVar` argument specifies the unique patient identifier.\n",
        "-  `Y` argument contains the outcome object.\n",
        "\n",
        "The model is built with 200 trees (`ntree`), a minimum node size of 2 (`nodesize`), and a minimum split size of 3 (`minsplit`). The `cause` argument is set to 2, indicating that we are interested in the second event type (death). The `ncores` argument specifies the number of cores to use for parallel processing, and the `seed` argument ensures reproducibility."
      ],
      "metadata": {
        "id": "osHxZ06Bvf64"
      }
    },
    {
      "cell_type": "code",
      "source": [
        "%%R\n",
        "dynf_model <- dynforest(timeData = time_train,\n",
        "                     fixedData = fixed_train,\n",
        "                     timeVar = \"time\",\n",
        "                     idVar = \"id\",\n",
        "                     timeVarModel = timeVarModel,\n",
        "                     Y = Y,\n",
        "                     ntree = 200,\n",
        "                     mtry = 3,\n",
        "                     nodesize = 2,\n",
        "                     minsplit = 3,\n",
        "                     cause = 2,\n",
        "                     #ncores = 7,\n",
        "                     seed = 1234)"
      ],
      "metadata": {
        "colab": {
          "base_uri": "https://localhost:8080/"
        },
        "id": "lNCG5XjZviRV",
        "outputId": "e05a24d3-fdeb-4723-f181-c65facfbba66"
      },
      "execution_count": 39,
      "outputs": [
        {
          "output_type": "stream",
          "name": "stdout",
          "text": [
            "  |++++++++++++++++++++++++++++++++++++++++++++++++++| 100% elapsed=39m 15s\n"
          ]
        }
      ]
    },
    {
      "cell_type": "code",
      "source": [
        "%%R\n",
        "summary(dynf_model)"
      ],
      "metadata": {
        "colab": {
          "base_uri": "https://localhost:8080/"
        },
        "id": "yYg5mtYpvzeo",
        "outputId": "281dccfa-2e64-4a39-fb1d-a940418a3e52"
      },
      "execution_count": 40,
      "outputs": [
        {
          "output_type": "stream",
          "name": "stdout",
          "text": [
            "dynforest executed for survival (competing risk) outcome \n",
            "\tSplitting rule: Fine & Gray statistic test \n",
            "\tOut-of-bag error type: Integrated Brier Score \n",
            "\tLeaf statistic: Cumulative incidence function \n",
            "---------------- \n",
            "Input \n",
            "\tNumber of subjects: 208 \n",
            "\tLongitudinal: 4 predictor(s) \n",
            "\tNumeric: 1 predictor(s) \n",
            "\tFactor: 2 predictor(s) \n",
            "---------------- \n",
            "Tuning parameters \n",
            "\tmtry: 3 \n",
            "\tnodesize: 2 \n",
            "\tminsplit: 3 \n",
            "\tntree: 200 \n",
            "---------------- \n",
            "---------------- \n",
            "dynforest summary \n",
            "\tAverage depth per tree: 6.62 \n",
            "\tAverage number of leaves per tree: 27.68 \n",
            "\tAverage number of subjects per leaf: 4.78 \n",
            "\tAverage number of events of interest per leaf: 1.95 \n",
            "---------------- \n",
            "Computation time \n",
            "\tNumber of cores used: 7 \n",
            "\tTime difference of 40.5757 mins\n",
            "---------------- \n"
          ]
        }
      ]
    },
    {
      "cell_type": "markdown",
      "source": [
        "#### Calculate Out-Of-Bag (OOB) Error\n",
        "\n",
        "The Out-Of-Bag (OOB) error is used to evaluate the predictive performance of a random forest model. For survival outcomes, the OOB error is assessed using the Integrated Brier Score (IBS). This score can be calculated using the `compute_ooberror()` function, which requires an object of class `dynforest` as its main argument. The OOB error is calculated as the mean squared difference between the predicted survival probabilities and the observed outcomes, averaged over all trees in the forest. The OOB error provides an estimate of the model's predictive accuracy and can be used to compare different models or tuning parameters."
      ],
      "metadata": {
        "id": "GWU3Mt5VvgY9"
      }
    },
    {
      "cell_type": "code",
      "source": [
        "%%R\n",
        "# Calculate Out-Of-Bag (OOB) error\n",
        "oob_error <- compute_ooberror(dynf_model)\n",
        "oob_error"
      ],
      "metadata": {
        "colab": {
          "base_uri": "https://localhost:8080/"
        },
        "id": "Hl5LgEMRv2KI",
        "outputId": "0dca1dfa-1ee4-4938-e00c-33c674c0e378"
      },
      "execution_count": 41,
      "outputs": [
        {
          "output_type": "stream",
          "name": "stdout",
          "text": [
            "[1] 0.1265556\n"
          ]
        }
      ]
    },
    {
      "cell_type": "markdown",
      "source": [
        "#### Individual prediction of the outcome on test set\n",
        "\n",
        "The `predict()` function enables users to forecast outcomes for new subjects using a trained random forest model. It requires individual data: time-dependent predictors in `timeData` and time-fixed predictors in `fixedData`. For survival outcomes, users can set a landmark time (`t0`) to generate dynamic predictions based on the individual's history up to that point. If `t0` is set to 0, only data from that initial time is used.\n",
        "\n",
        "We will select subjects at risk at the 4-year landmark time, create a dataframe for them, and use the `predict()` function to forecast their individual-specific cumulative incidence function (CIF)."
      ],
      "metadata": {
        "id": "c9Yk6s_awCjs"
      }
    },
    {
      "cell_type": "code",
      "source": [
        "%%R\n",
        "# Select subjects at risk at the 4-year landmark time\n",
        "id_test <- unique(test$id[which(test$years>4)])\n",
        "# Create a dataframe for the selected subjects\n",
        "test_tLM <- test[which(test$id %in% id_test),]\n",
        "# Create a  time-dependent dataframe\n",
        "time_test <- test_tLM[,c(\"id\",\n",
        "                         \"time\",\n",
        "                          \"serBilir\",\n",
        "                          \"SGOT\",\n",
        "                          \"albumin\",\n",
        "                          \"alkaline\")]\n",
        "# Create a time-fixed dataframe\n",
        "fixed_test <- unique(test_tLM[,c(\"id\",\n",
        "                                 \"age\",\n",
        "                                 \"drug\",\n",
        "                                 \"sex\")])\n",
        "# prediction of the outcome\n",
        "dynf_pred <- predict(object = dynf_model,\n",
        "                    timeData = time_test,\n",
        "                    fixedData = fixed_test,\n",
        "                    idVar = \"id\",\n",
        "                    timeVar = \"time\",\n",
        "                    t0 = 4)"
      ],
      "metadata": {
        "id": "1WckUwKqwDXp"
      },
      "execution_count": 42,
      "outputs": []
    },
    {
      "cell_type": "markdown",
      "source": [
        "#### Plot Predicted Cumulative Incidence (CIF)\n",
        "\n",
        "The `predict()` function returns a list containing the predicted survival probabilities for each individual at the specified time points. the `plot()` function can be used to display the CIF of the outcome (here death before transplantation) for subjects indicated with argument id. For instance, we compute the CIF for subjects 102 and 260 with the following code and display"
      ],
      "metadata": {
        "id": "XqGcc6iTwHet"
      }
    },
    {
      "cell_type": "code",
      "source": [
        "%%R\n",
        "# Plot CIF for subjects 102 and 260\n",
        "plot(dynf_pred, id = c(102, 260))"
      ],
      "metadata": {
        "colab": {
          "base_uri": "https://localhost:8080/",
          "height": 497
        },
        "id": "oV0w_D_bwLSu",
        "outputId": "e69ab458-a6e6-45e8-d979-1d2bb2ba5f83"
      },
      "execution_count": 43,
      "outputs": [
        {
          "output_type": "display_data",
          "data": {
            "image/png": "[encoded data removed]"
          },
          "metadata": {}
        }
      ]
    },
    {
      "cell_type": "markdown",
      "source": [
        "#### Feature Importance\n",
        "\n",
        "The `compute_vimp()` function calculates variable importance (VIMP) for the random survival forest model. VIMP quantifies the contribution of each predictor to the model's predictive performance. It is computed by permuting the values of each predictor and measuring the increase in prediction error. Higher VIMP values indicate greater importance of the predictor in the model.\n",
        "\n",
        "`compute_vimp()` function returns the VIMP statistic for each predictor, which is included in the `$Importance` element. You can also display these results using the `plot()` function, which shows the values in absolute terms by default. If you prefer to see the values as a percentage, set the `PCT` argument to `TRUE`."
      ],
      "metadata": {
        "id": "R0jpP7FFwWFc"
      }
    },
    {
      "cell_type": "code",
      "source": [
        "%%R\n",
        "dynf_model_VIMP <- compute_vimp(dynf_model, seed = 123)\n",
        "p1 <- plot(dynf_model_VIMP, PCT = TRUE)"
      ],
      "metadata": {
        "id": "hXRmCvzCwWyH"
      },
      "execution_count": null,
      "outputs": []
    },
    {
      "cell_type": "markdown",
      "source": [
        "When predictors are correlated, they can be organized into dimensions, enabling the calculation of the Variable Importance Metric (VIMP) at the group level using the `gVIMP` statistic. The `compute_gvimp()` function performs this calculation, with the `group` argument specifying the predictor groups. For instance, if there are two groups named `group1` and `group2`, the `gVIMP` statistic can be computed as follows:"
      ],
      "metadata": {
        "id": "jGfZ6-1Wwleg"
      }
    },
    {
      "cell_type": "code",
      "source": [
        "%%R\n",
        "# Compute gVIMP\n",
        "group <- list(group1 = c(\"serBilir\",\"SGOT\"),\n",
        "              group2 = c(\"albumin\",\"alkaline\"))\n",
        "dynf_model_gVIMP <- compute_gvimp(dynf_model,\n",
        "                               group = group,\n",
        "                               seed = 123)\n",
        "p2 <- plot(dynf_model_gVIMP, PCT = TRUE)"
      ],
      "metadata": {
        "id": "q-1Kr9YZwoSk"
      },
      "execution_count": null,
      "outputs": []
    },
    {
      "cell_type": "code",
      "source": [
        "%%R\n",
        "p1+ p2"
      ],
      "metadata": {
        "id": "wZFIWK80wvp4"
      },
      "execution_count": null,
      "outputs": []
    },
    {
      "cell_type": "markdown",
      "source": [
        "#### Minimal Depth\n",
        "\n",
        "The `compute_min_depth()` function calculates the minimal depth of each predictor in the random survival forest model. Minimal depth is a measure of how deep a predictor appears in the trees of the forest. Predictors that appear higher in the trees (i.e., with lower minimal depth) are considered more important for making predictions.\n",
        "\n",
        "It shows the average minimal depth for each feature (`$min_depth`), the minimal depth for each feature and tree (`$var_node_depth`), and how often each feature is used for splits (`$var_count`). We can use the output from `compute_vardepth()` with the `plot()` function to visualize the average minimal depth. The `plot_level` argument allows you to display the depth by predictor or feature"
      ],
      "metadata": {
        "id": "EJK1c_q7w23c"
      }
    },
    {
      "cell_type": "code",
      "source": [
        "%%R\n",
        "depth_dynf <- compute_vardepth(dynforest_obj = dynf_model)\n",
        "p3 <- plot(depth_dynf, plot_level = \"predictor\")\n",
        "p4 <- plot(depth_dynf, plot_level = \"feature\")"
      ],
      "metadata": {
        "colab": {
          "base_uri": "https://localhost:8080/",
          "height": 977
        },
        "id": "dDi2XUXZw5qQ",
        "outputId": "dbbcec05-8d11-484e-dfc6-cb3123642e19"
      },
      "execution_count": 45,
      "outputs": [
        {
          "output_type": "display_data",
          "data": {
            "image/png": "[encoded data removed]"
          },
          "metadata": {}
        },
        {
          "output_type": "display_data",
          "data": {
            "image/png": "[encoded data removed]"
          },
          "metadata": {}
        }
      ]
    },
    {
      "cell_type": "code",
      "source": [
        "%%R\n",
        "p3+p4"
      ],
      "metadata": {
        "id": "p8UMU4CRw8_x"
      },
      "execution_count": null,
      "outputs": []
    },
    {
      "cell_type": "markdown",
      "source": [
        "## Summary and Conclusion\n",
        "\n",
        "A Survival Forest is a powerful, non-parametric machine learning model for survival analysis, extending Random Forests to handle time-to-event data with censoring.It builds multiple decision trees using survival-specific splitting criteria, aggregates their predictions, and outputs survival probabilities or hazard functions. It’s widely used in fields like medicine and engineering but requires computational resources and careful tuning. This tutorial demonstrated how to implement Survival Forests in R using the `randomForestSRC`, `ranger`, and `DynForest` packages, covering data preparation, model fitting, evaluation metrics (C-index, Brier Score, CRPS), variable importance, and visualization techniques. This help researchers and practitioners effectively apply Survival Forests to their survival analysis tasks."
      ],
      "metadata": {
        "id": "_j759RVMQMut"
      }
    },
    {
      "cell_type": "markdown",
      "source": [
        "## References\n",
        "\n",
        "1.  H. Ishwaran, M. S. Lauer, E. H. Blackstone, M. Lu, and U. B. Kogalur. 2021.\n",
        "\n",
        "2    “randomForestSRC: random survival forests vignette.” http://randomforestsrc.org/articles/survival.html.\n",
        "\n",
        "2.  [How to use DynForest with survival outcome](https://cran.r-project.org/web/packages/DynForest/vignettes/survival.html)\n",
        "\n"
      ],
      "metadata": {
        "id": "SaZTnZx3QPGI"
      }
    }
  ]
}