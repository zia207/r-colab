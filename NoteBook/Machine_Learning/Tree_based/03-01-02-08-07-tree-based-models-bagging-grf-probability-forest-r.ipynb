{
  "cells": [
    {
      "cell_type": "markdown",
      "metadata": {
        "id": "view-in-github",
        "colab_type": "text"
      },
      "source": [
        "<a href=\"https://colab.research.google.com/github/zia207/r-colab/blob/main/NoteBook/Machine_Learning/Tree_based/03-01-02-08-07-tree-based-models-bagging-grf-probability-forest-r.ipynb\" target=\"_parent\"><img src=\"https://colab.research.google.com/assets/colab-badge.svg\" alt=\"Open In Colab\"/></a>"
      ]
    },
    {
      "cell_type": "markdown",
      "metadata": {
        "id": "zYZbTX0qQrZb"
      },
      "source": [
        "![alt text](http://drive.google.com/uc?export=view&id=1bLQ3nhDbZrCCqy_WCxxckOne2lgVvn3l)"
      ]
    },
    {
      "cell_type": "markdown",
      "metadata": {
        "id": "RGBfrL2GQoII"
      },
      "source": [
        "# 2.8.7 Probability Forest\n",
        "\n",
        "A **Probability Forest** is a machine learning model based on the random forest framework, designed to estimate **conditional probabilities** for categorical outcomes. It extends the standard random forest classifier by outputting the probability of each class for a given set of covariates, rather than just predicting the most likely class. It is implemented in packages like `{grf}` in R (as `probability_forest`) and is particularly useful for tasks requiring probabilistic predictions, such as risk estimation or classification with uncertainty quantification. Below, I’ll explain what it is, how it works, and its key features, keeping it concise and clear.\n"
      ]
    },
    {
      "cell_type": "markdown",
      "metadata": {
        "id": "S77MsgmqIYD0"
      },
      "source": [
        "## Overview\n",
        "\n",
        "Probability Forest Estimates the conditional probability $P(Y = k | X)$) for each class $k$ of a categorical outcome $Y$, given covariates $X$. For example, it can predict the probability of a patient having a disease (yes/no) based on features like age or symptoms.\n",
        "\n",
        "\n"
      ]
    },
    {
      "cell_type": "markdown",
      "source": [
        "### Key Features\n",
        "\n",
        "-   `Non-Parametric`: Captures complex, non-linear relationships between $X$ and $Y$.\n",
        "-   `Robustness`: Averaging over many trees reduces overfitting and improves generalization.\n",
        "-   `Heterogeneity`: Estimates probabilities that vary across individuals based on covariates.\n",
        "-   `Calibration`: In `{grf}`, probabilities are well-calibrated due to honest estimation and local smoothing.\n",
        "-   `Multi-Class Support`: Handles binary or multi-class outcomes seamlessly.\n"
      ],
      "metadata": {
        "id": "EnR-z3S9vTpk"
      }
    },
    {
      "cell_type": "markdown",
      "metadata": {
        "id": "VwEoykvwI2dS"
      },
      "source": [
        "### How It Work\n",
        "\n",
        "A Probability Forest builds on the random forest algorithm but focuses on estimating class probabilities. Here’s a step-by-step overview:\n",
        "\n",
        "1.  Data Setup\n",
        "\n",
        "   -   `Input`: Covariates $X$ (e.g., age, sex) and a categorical outcome $Y$ (e.g., 0/1 for binary, or multiple classes).\n",
        "   -   $Y$ is typically a factor or integer vector indicating class labels.\n",
        "\n",
        "2.  Tree Construction\n",
        "\n",
        "   -   Like a standard random forest, it grows multiple decision trees (e.g., 1000).\n",
        "   -   Each tree is trained on a random subset of data (bootstrap sampling) and features.\n",
        "   -   At each node, splits are chosen to maximize the separation of classes (e.g., using Gini impurity or entropy).\n",
        "\n",
        "3.  Probability Estimation:\n",
        "\n",
        "  -   For each tree, the leaf nodes contain the proportion of training observations for each class.\n",
        "  -   For a given input $X$ the tree assigns $X$ to a leaf, and the class proportions in that leaf are the estimated probabilities.\n",
        "   -   The forest averages the probability estimates across all trees to produce $P(Y = k | X)$ for each class $k$.\n",
        "\n",
        "4.  Output\n",
        "\n",
        "  -   A matrix of probabilities for each observation and class, e.g., $[P(Y=0|X), P(Y=1|X)]$ for binary outcomes.\n",
        "  -   Optionally, the predicted class (highest probability) can be derived.\n",
        "\n",
        "5.  Honest Estimation (in `{grf}`):\n",
        "\n",
        "   -   Uses`honest`splitting (separating data for tree structure and estimation) to reduce bias.\n",
        "   -   Employs local maximum likelihood estimation within leaves for smoother probability estimates."
      ]
    },
    {
      "cell_type": "markdown",
      "metadata": {
        "id": "bIBhNo81s-Nt"
      },
      "source": [
        "### Differences from Other Forests\n",
        "\n",
        "-   `Vs. Regression Forest`: Estimates continuous outcomes ($E[Y|X]$), not probabilities for categorical outcomes.\n",
        "-   `Vs. Causal Forest*` Focuses on treatment effect estimation ($E[Y(1) - Y(0)|X]$), not class probabilities.\n",
        "-   `Vs. Standard Random Forest Classifier`: Outputs probabilities rather than just class predictions, with enhanced calibration in `{grf}`.\n",
        "\n"
      ]
    },
    {
      "cell_type": "markdown",
      "source": [
        "### Limitations\n",
        "\n",
        "-   `Computational Cost`: Training many trees can be slow for large datasets.\n",
        "-   `Interpretability`: Probabilities are data-driven but less interpretable than parametric models like logistic regression.\n",
        "-   `Assumes Data Quality`: Requires sufficient data per class and no missing values in ( X )."
      ],
      "metadata": {
        "id": "NmMsBJhJvpJR"
      }
    },
    {
      "cell_type": "markdown",
      "source": [
        "### Use Cases\n",
        "\n",
        "-   `Scenario`: Predict the probability of patient survival (0 = no, 1 = yes) based on age, sex, and health metrics.\n",
        "-   `Data`: $X$ = \\[age, sex, health_score\\], $Y$ = survival status (0/1).\n",
        "-   `Output`: For a patient, the model might estimate $P(Y=1|X) = 0.75$, indicating a 75% chance of survival."
      ],
      "metadata": {
        "id": "-u2tkR3KvrbW"
      }
    },
    {
      "cell_type": "markdown",
      "metadata": {
        "id": "Bn4w4oqMCagF"
      },
      "source": [
        "## Setup R in Python Runtype"
      ]
    },
    {
      "cell_type": "markdown",
      "metadata": {
        "id": "yerTCtKKCmik"
      },
      "source": [
        "### Install {rpy2}\n",
        "\n",
        "{rpy2} is a Python package that provides an interface to the R programming language, allowing Python users to run R code, call R functions, and manipulate R objects directly from Python. It enables seamless integration between Python and R, leveraging R's statistical and graphical capabilities while using Python's flexibility. The package supports passing data between the two languages and is widely used for statistical analysis, data visualization, and machine learning tasks that benefit from R's specialized libraries."
      ]
    },
    {
      "cell_type": "code",
      "execution_count": 1,
      "metadata": {
        "colab": {
          "base_uri": "https://localhost:8080/"
        },
        "id": "OqeCyNf0Crlc",
        "outputId": "65479058-987e-456c-e6ed-70a8fdbc01f7"
      },
      "outputs": [
        {
          "output_type": "stream",
          "name": "stdout",
          "text": [
            "Found existing installation: rpy2 3.5.17\n",
            "Uninstalling rpy2-3.5.17:\n",
            "  Successfully uninstalled rpy2-3.5.17\n",
            "Collecting rpy2==3.5.1\n",
            "  Downloading rpy2-3.5.1.tar.gz (201 kB)\n",
            "\u001b[2K     \u001b[90m━━━━━━━━━━━━━━━━━━━━━━━━━━━━━━━━━━━━━━━\u001b[0m \u001b[32m201.7/201.7 kB\u001b[0m \u001b[31m6.3 MB/s\u001b[0m eta \u001b[36m0:00:00\u001b[0m\n",
            "\u001b[?25h  Preparing metadata (setup.py) ... \u001b[?25l\u001b[?25hdone\n",
            "Requirement already satisfied: cffi>=1.10.0 in /usr/local/lib/python3.11/dist-packages (from rpy2==3.5.1) (1.17.1)\n",
            "Requirement already satisfied: jinja2 in /usr/local/lib/python3.11/dist-packages (from rpy2==3.5.1) (3.1.6)\n",
            "Requirement already satisfied: pytz in /usr/local/lib/python3.11/dist-packages (from rpy2==3.5.1) (2025.2)\n",
            "Requirement already satisfied: tzlocal in /usr/local/lib/python3.11/dist-packages (from rpy2==3.5.1) (5.3.1)\n",
            "Requirement already satisfied: pycparser in /usr/local/lib/python3.11/dist-packages (from cffi>=1.10.0->rpy2==3.5.1) (2.22)\n",
            "Requirement already satisfied: MarkupSafe>=2.0 in /usr/local/lib/python3.11/dist-packages (from jinja2->rpy2==3.5.1) (3.0.2)\n",
            "Building wheels for collected packages: rpy2\n",
            "  Building wheel for rpy2 (setup.py) ... \u001b[?25l\u001b[?25hdone\n",
            "  Created wheel for rpy2: filename=rpy2-3.5.1-cp311-cp311-linux_x86_64.whl size=314980 sha256=96b61584f0c57b48a2a1a015c9fd1149549244befea9cdb64df47edc2ce3e252\n",
            "  Stored in directory: /root/.cache/pip/wheels/e9/55/d1/47be85a5f3f1e1f4d1e91cb5e3a4dcb40dd72147f184c5a5ef\n",
            "Successfully built rpy2\n",
            "Installing collected packages: rpy2\n",
            "Successfully installed rpy2-3.5.1\n"
          ]
        }
      ],
      "source": [
        "!pip uninstall rpy2 -y\n",
        "!pip install rpy2==3.5.1\n",
        "%load_ext rpy2.ipython"
      ]
    },
    {
      "cell_type": "markdown",
      "metadata": {
        "id": "vOzGUgYCCyqg"
      },
      "source": [
        "### Mount Google Drive"
      ]
    },
    {
      "cell_type": "code",
      "execution_count": 2,
      "metadata": {
        "colab": {
          "base_uri": "https://localhost:8080/"
        },
        "id": "_lngQQKKC2lc",
        "outputId": "e3b5a3ac-ba82-4964-ed01-9880a08966f5"
      },
      "outputs": [
        {
          "output_type": "stream",
          "name": "stdout",
          "text": [
            "Mounted at /content/drive\n"
          ]
        }
      ],
      "source": [
        "from google.colab import drive\n",
        "drive.mount('/content/drive')"
      ]
    },
    {
      "cell_type": "markdown",
      "metadata": {
        "id": "bh7jEhGCLDZA"
      },
      "source": [
        "## Probability Forest with R\n",
        "\n",
        "This tutorial shows how to use `probability_forest()` function of {grf} package to estimate  $P(\\text{health_status} = 1 | X)$, the probability of health improvement, for each patient in the lung dataset. We’ll cover data preparation, model fitting, prediction, and visualization of the estimated probabilities.\n",
        "\n"
      ]
    },
    {
      "cell_type": "markdown",
      "metadata": {
        "id": "RlLmnBj77AMx"
      },
      "source": [
        "### Load and Check Required Libraries"
      ]
    },
    {
      "cell_type": "code",
      "execution_count": 3,
      "metadata": {
        "id": "9rXvjfapLYED"
      },
      "outputs": [],
      "source": [
        "%%R\n",
        "packages <- c('tidyverse',\n",
        "              'plyr',\n",
        "              'grf',\n",
        "              'rdd',\n",
        "              'survival',\n",
        "              'mlbench',\n",
        "              'Metrics'\n",
        "         )"
      ]
    },
    {
      "cell_type": "markdown",
      "metadata": {
        "id": "MDwlBWYYLc1e"
      },
      "source": [
        "### Install Missing Packages"
      ]
    },
    {
      "cell_type": "code",
      "execution_count": null,
      "metadata": {
        "id": "PWzWe7xULb2L"
      },
      "outputs": [],
      "source": [
        "%%R\n",
        "# Install missing packages\n",
        "new.packages <- packages[!(packages %in% installed.packages(lib='drive/My Drive/R/')[,\"Package\"])]\n",
        "if(length(new.packages)) install.packages(new.packages, lib='drive/My Drive/R/')"
      ]
    },
    {
      "cell_type": "markdown",
      "metadata": {
        "id": "HM3Bl4-PLfFF"
      },
      "source": [
        "### Verify Installation"
      ]
    },
    {
      "cell_type": "code",
      "execution_count": null,
      "metadata": {
        "colab": {
          "base_uri": "https://localhost:8080/"
        },
        "id": "pHr9zUJvLfNl",
        "outputId": "0e1e70ce-78f9-4d43-b842-7689763479f5"
      },
      "outputs": [
        {
          "output_type": "stream",
          "name": "stdout",
          "text": [
            "Installed packages:\n",
            "tidyverse      plyr       grf       rdd  survival   mlbench   Metrics \n",
            "     TRUE      TRUE      TRUE      TRUE      TRUE      TRUE      TRUE \n"
          ]
        }
      ],
      "source": [
        "%%R\n",
        "# set library path\n",
        ".libPaths('drive/My Drive/R')\n",
        "# Verify installation\n",
        "cat(\"Installed packages:\\n\")\n",
        "print(sapply(packages, requireNamespace, quietly = TRUE))"
      ]
    },
    {
      "cell_type": "markdown",
      "metadata": {
        "id": "2cPLFz1GLlRD"
      },
      "source": [
        "### Load R Packages"
      ]
    },
    {
      "cell_type": "code",
      "execution_count": 4,
      "metadata": {
        "id": "jIlm0D69x_70"
      },
      "outputs": [],
      "source": [
        "%%R\n",
        "# set library path\n",
        ".libPaths('drive/My Drive/R')\n",
        "# Load packages with suppressed messages\n",
        "invisible(lapply(packages, function(pkg) {\n",
        "  suppressPackageStartupMessages(library(pkg, character.only = TRUE))\n",
        "}))\n"
      ]
    },
    {
      "cell_type": "markdown",
      "metadata": {
        "id": "AH4vKW2yL1OF"
      },
      "source": [
        "### Check Loaded Packages"
      ]
    },
    {
      "cell_type": "code",
      "execution_count": null,
      "metadata": {
        "colab": {
          "base_uri": "https://localhost:8080/"
        },
        "id": "Du3QbdUeL1Yw",
        "outputId": "f7da74cd-9086-495e-c8f0-f2d6693c910a"
      },
      "outputs": [
        {
          "output_type": "stream",
          "name": "stdout",
          "text": [
            "Successfully loaded packages:\n",
            " [1] \"package:rdd\"       \"package:Formula\"   \"package:AER\"      \n",
            " [4] \"package:car\"       \"package:carData\"   \"package:lmtest\"   \n",
            " [7] \"package:zoo\"       \"package:sandwich\"  \"package:Metrics\"  \n",
            "[10] \"package:mlbench\"   \"package:survival\"  \"package:grf\"      \n",
            "[13] \"package:plyr\"      \"package:lubridate\" \"package:forcats\"  \n",
            "[16] \"package:stringr\"   \"package:dplyr\"     \"package:purrr\"    \n",
            "[19] \"package:readr\"     \"package:tidyr\"     \"package:tibble\"   \n",
            "[22] \"package:ggplot2\"   \"package:tidyverse\" \"package:tools\"    \n",
            "[25] \"package:stats\"     \"package:graphics\"  \"package:grDevices\"\n",
            "[28] \"package:utils\"     \"package:datasets\"  \"package:methods\"  \n",
            "[31] \"package:base\"     \n"
          ]
        }
      ],
      "source": [
        "%%R\n",
        "# Check loaded packages\n",
        "cat(\"Successfully loaded packages:\\n\")\n",
        "print(search()[grepl(\"package:\", search())])# Check loaded packageswer)"
      ]
    },
    {
      "cell_type": "markdown",
      "metadata": {
        "id": "IPobetr0zFC5"
      },
      "source": [
        "### Load and Prepare the Lung Dataset\n",
        "\n",
        "The lung dataset contains survival data for lung cancer patients with variables like `time` (survival time), `status` (censoring indicator), `age`, s`ex`, and `ph.ecog` (ECOG performance score). We’ll simulate a binary `health_status `variable (1 = improved, 0 = not improved) and use age, sex, and ph.ecog as covariates.\n"
      ]
    },
    {
      "cell_type": "code",
      "execution_count": 5,
      "metadata": {
        "id": "RmfGVScmzF8P",
        "colab": {
          "base_uri": "https://localhost:8080/"
        },
        "outputId": "5988577e-2d64-44a4-98fb-46252ba82486"
      },
      "outputs": [
        {
          "output_type": "stream",
          "name": "stdout",
          "text": [
            "Outcome levels: 0 1 \n",
            " Factor w/ 2 levels \"0\",\"1\": 1 2 1 2 2 1 1 2 2 1 ...\n",
            " num [1:227, 1:3] 74 68 56 57 60 74 68 71 53 61 ...\n",
            " - attr(*, \"dimnames\")=List of 2\n",
            "  ..$ : chr [1:227] \"1\" \"2\" \"3\" \"4\" ...\n",
            "  ..$ : chr [1:3] \"age\" \"sex\" \"ph.ecog\"\n"
          ]
        }
      ],
      "source": [
        "%%R\n",
        "# Set seed for reproducibility\n",
        "set.seed(123)\n",
        "\n",
        "# Load and prepare lung dataset\n",
        "data(lung)\n",
        "lung_data <- lung %>%\n",
        "  dplyr::filter(!is.na(age), !is.na(sex), !is.na(ph.ecog)) %>%\n",
        "  dplyr::mutate(\n",
        "    health_status = rbinom(n(), 1, prob = 0.3 + 0.1 * (ph.ecog < 2) + 0.05 * (sex == 1)),\n",
        "    health_status = as.factor(health_status)\n",
        "  )\n",
        "\n",
        "# Define covariates and outcome\n",
        "X <- lung_data %>% select(age, sex, ph.ecog) %>% as.matrix()\n",
        "Y <- lung_data$health_status\n",
        "\n",
        "# Verify inputs\n",
        "cat(\"Outcome levels:\", levels(Y), \"\\n\")\n",
        "str(Y)\n",
        "str(X)"
      ]
    },
    {
      "cell_type": "markdown",
      "metadata": {
        "id": "jxK5d0frBs8O"
      },
      "source": [
        "### Fit Probability Forest Model\n",
        "\n",
        "We use `probability_forest()` from the `{grf}` package to fit a Probability Forest model. We specify parameters like the number of trees, honesty, minimum node size, and number of threads for parallel processing."
      ]
    },
    {
      "cell_type": "code",
      "execution_count": 7,
      "metadata": {
        "id": "Ou9edbC9Bt5M",
        "colab": {
          "base_uri": "https://localhost:8080/"
        },
        "outputId": "c271bf6b-39fa-4b46-a7ec-71d37afba8dc"
      },
      "outputs": [
        {
          "output_type": "stream",
          "name": "stdout",
          "text": [
            "GRF forest object of type probability_forest \n",
            "Number of trees: 1000 \n",
            "Number of training samples: 227 \n",
            "Variable importance: \n",
            "    1     2     3 \n",
            "0.604 0.141 0.255 \n"
          ]
        }
      ],
      "source": [
        "%%R\n",
        "# Fit probability forest\n",
        "pf <- probability_forest(\n",
        "  X = X,\n",
        "  Y = Y,\n",
        "  num.trees = 1000,\n",
        "  honesty = TRUE,\n",
        "  min.node.size = 5,\n",
        "  num.threads = parallel::detectCores() - 1\n",
        ")\n",
        "pf"
      ]
    },
    {
      "cell_type": "markdown",
      "metadata": {
        "id": "7KgHx7kY9EEg"
      },
      "source": [
        "### Predict Probabilities and Variance Estimates"
      ]
    },
    {
      "cell_type": "code",
      "execution_count": 8,
      "metadata": {
        "colab": {
          "base_uri": "https://localhost:8080/"
        },
        "id": "m0vovr-CfwBZ",
        "outputId": "0f383d7a-4a32-4be5-94fb-39e5a6612220"
      },
      "outputs": [
        {
          "output_type": "stream",
          "name": "stdout",
          "text": [
            "Structure of probs$predictions:\n",
            " num [1:227, 1:2] 0.655 0.603 0.404 0.591 0.499 ...\n",
            " - attr(*, \"dimnames\")=List of 2\n",
            "  ..$ : NULL\n",
            "  ..$ : chr [1:2] \"0\" \"1\"\n",
            "Column names of probs$predictions:\n",
            "[1] \"0\" \"1\"\n"
          ]
        }
      ],
      "source": [
        "%%R\n",
        "\n",
        "# Predict probabilities\n",
        "probs <- predict(pf, estimate.variance = TRUE)\n",
        "\n",
        "# Debug: Inspect prediction structure\n",
        "cat(\"Structure of probs$predictions:\\n\")\n",
        "str(probs$predictions)\n",
        "cat(\"Column names of probs$predictions:\\n\")\n",
        "colnames(probs$predictions)"
      ]
    },
    {
      "cell_type": "markdown",
      "metadata": {
        "id": "6Uc9PcoOgJjF"
      },
      "source": [
        "### Extract Predictions"
      ]
    },
    {
      "cell_type": "code",
      "execution_count": 9,
      "metadata": {
        "id": "6SoYugD6CEgf",
        "colab": {
          "base_uri": "https://localhost:8080/"
        },
        "outputId": "50f0a949-a069-4d94-cda8-6784dafe085a"
      },
      "outputs": [
        {
          "output_type": "stream",
          "name": "stdout",
          "text": [
            "  avg_prob_health_improved avg_variance\n",
            "1                 0.399526  0.009110781\n"
          ]
        }
      ],
      "source": [
        "%%R\n",
        "# Extract predictions into a data frame\n",
        "results <- data.frame(\n",
        "  patient_id = 1:nrow(X),\n",
        "  age = lung_data$age,\n",
        "  prob_health_improved = probs$predictions[, \"1\"],\n",
        "  variance = probs$variance.estimates[, \"1\"]\n",
        ")\n",
        "\n",
        "# Summarize average probability\n",
        "summary_results <- results %>%\n",
        "  summarise(\n",
        "    avg_prob_health_improved = mean(prob_health_improved, na.rm = TRUE),\n",
        "    avg_variance = mean(variance, na.rm = TRUE)\n",
        "  )\n",
        "\n",
        "print(summary_results)"
      ]
    },
    {
      "cell_type": "markdown",
      "source": [
        "### Visualize Probability of Health Improvement by Age"
      ],
      "metadata": {
        "id": "tMGzwdza71Qu"
      }
    },
    {
      "cell_type": "code",
      "source": [
        "%%R\n",
        "# Plot probability of health improvement by age\n",
        "ggplot(data = results, aes(x = age)) +\n",
        "  geom_point(aes(y = prob_health_improved), color = \"blue\", alpha = 0.5) +\n",
        "  geom_smooth(aes(y = prob_health_improved), method = \"loess\", se = FALSE, color = \"red\") +\n",
        "  labs(title = \"Probability of Health Improvement by Age\",\n",
        "       x = \"Age\", y = \"P(Health Status = 1 | X)\") +\n",
        "  theme_minimal()"
      ],
      "metadata": {
        "colab": {
          "base_uri": "https://localhost:8080/",
          "height": 514
        },
        "id": "gb2EtLC472c3",
        "outputId": "5205c7db-ee01-49c9-b4a1-2b87e91992f2"
      },
      "execution_count": 10,
      "outputs": [
        {
          "output_type": "stream",
          "name": "stdout",
          "text": [
            "`geom_smooth()` using formula = 'y ~ x'\n"
          ]
        },
        {
          "output_type": "display_data",
          "data": {
            "image/png": "[encoded data removed]"
          },
          "metadata": {}
        }
      ]
    },
    {
      "cell_type": "markdown",
      "metadata": {
        "id": "_j759RVMQMut"
      },
      "source": [
        "## Summary and Conclusion\n",
        "\n",
        "Probability Forests are a powerful tool for estimating conditional probabilities in classification tasks. They extend the random forest framework to provide probabilistic outputs, making them suitable for applications requiring uncertainty quantification. By averaging predictions across multiple trees, they offer robust and flexible estimates that can handle complex relationships between covariates and outcomes. This tutorial demonstrated how to implement a Probability Forest using the `{grf}` package in R, showcasing its ability to predict the probability of health improvement based on patient characteristics.\n",
        "  "
      ]
    },
    {
      "cell_type": "markdown",
      "metadata": {
        "id": "SaZTnZx3QPGI"
      },
      "source": [
        "\n",
        "## References\n",
        "\n",
        "1. [Probabilty Forest](https://grf-labs.github.io/grf/reference/probability_forest.html)"
      ]
    }
  ],
  "metadata": {
    "colab": {
      "provenance": [],
      "toc_visible": true,
      "authorship_tag": "ABX9TyNTKKvkpkgqUTuaWCVDNBK4",
      "include_colab_link": true
    },
    "kernelspec": {
      "display_name": "Python 3",
      "name": "python3"
    },
    "language_info": {
      "name": "python"
    }
  },
  "nbformat": 4,
  "nbformat_minor": 0
}