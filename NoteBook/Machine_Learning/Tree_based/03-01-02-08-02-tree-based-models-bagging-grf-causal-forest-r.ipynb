{
  "nbformat": 4,
  "nbformat_minor": 0,
  "metadata": {
    "colab": {
      "provenance": [],
      "toc_visible": true,
      "authorship_tag": "ABX9TyNx4aY5hP8t9mHgJkVEg67x",
      "include_colab_link": true
    },
    "kernelspec": {
      "name": "python3",
      "display_name": "Python 3"
    },
    "language_info": {
      "name": "python"
    }
  },
  "cells": [
    {
      "cell_type": "markdown",
      "metadata": {
        "id": "view-in-github",
        "colab_type": "text"
      },
      "source": [
        "<a href=\"https://colab.research.google.com/github/zia207/r-colab/blob/main/NoteBook/Machine_Learning/Tree_based/03-01-02-08-02-tree-based-models-bagging-grf-causal-forest-r.ipynb\" target=\"_parent\"><img src=\"https://colab.research.google.com/assets/colab-badge.svg\" alt=\"Open In Colab\"/></a>"
      ]
    },
    {
      "cell_type": "markdown",
      "source": [
        "![alt text](http://drive.google.com/uc?export=view&id=1bLQ3nhDbZrCCqy_WCxxckOne2lgVvn3l)"
      ],
      "metadata": {
        "id": "zYZbTX0qQrZb"
      }
    },
    {
      "cell_type": "markdown",
      "source": [
        "# 2.8.2 Causal Forest (CF)\n",
        "\n",
        "This tutorial provides an overview of **Causal Forests** (CF) within the Generalized Random Forests (GRF) framework, focusing on estimating heterogeneous treatment effects in observational or experimental data. It includes a step-by-step guide to implementing Causal Forests using the `{grf}` package in R, with practical examples and explanations tailored to the `lung` dataset from the `{survival}` package."
      ],
      "metadata": {
        "id": "RGBfrL2GQoII"
      }
    },
    {
      "cell_type": "markdown",
      "source": [
        "## Overview\n",
        "\n",
        "A **Causal Forest** is a machine learning method within the Generalized Random Forests (GRF) framework, designed to estimate **heterogeneous treatment effects** in observational or experimental data studies. Specifically, it estimates the **Conditional Average Treatment Effect (CATE)**, which measures how the effect of a treatment varies across individuals based on their characteristics (covariates). It builds on the random forest algorithm but adapts it for causal inference, focusing on estimating causal effects rather than just predicting outcomes. Causal forests are particularly useful in fields like healthcare, economics, and social sciences, where understanding how different subgroups respond to treatments or interventions is crucial. They can handle complex interactions between covariates and treatment effects, making them a powerful tool for causal analysis.\n",
        "\n",
        "\n"
      ],
      "metadata": {
        "id": "S77MsgmqIYD0"
      }
    },
    {
      "cell_type": "markdown",
      "source": [
        "### Key Concepts\n",
        "\n",
        "-   `Treatment Effect`: The difference in outcomes between a treated and untreated state for an individual, often denoted as\n",
        "\n",
        "$$ \\tau(x) = E[Y(1) - Y(0) | X = x] $$\n",
        "\n",
        "where:\n",
        "\n",
        "-   $Y(1)$: Outcome if treated.\n",
        "\n",
        "-   $Y(0)$: Outcome if not treated.\n",
        "\n",
        "-   $X$: Covariates (e.g., age, sex, income).\n",
        "\n",
        "-   $\\tau(x)$: CATE, the expected treatment effect for individuals with covariates $X = x$.\n",
        "\n",
        "-   `Heterogeneity`: Causal forests identify how treatment effects differ across subgroups defined by covariates (e.g., a drug may work better for older patients).\n",
        "\n",
        "-   `Random Forest Foundation`: Like standard random forests, causal forests use an ensemble of decision trees, but the trees are constructed to optimize for treatment effect estimation rather than prediction accuracy.\n"
      ],
      "metadata": {
        "id": "L2J4liLUc4FO"
      }
    },
    {
      "cell_type": "markdown",
      "source": [
        "### How Causal Forests Work\n",
        "\n",
        "1.  Data Requirements\n",
        "\n",
        "-   Outcome ($Y$): The variable of interest (e.g., survival time, test score).\n",
        "\n",
        "-   Treatment ($W$): A binary or continuous variable indicating treatment status (e.g., 1 = treated, 0 = control).\n",
        "\n",
        "-   Covariates ($X$) : Features that may influence the treatment effect (e.g., age, gender).\n",
        "\n",
        "2.  Tree Construction\n",
        "\n",
        "-   Each tree is grown on a random subset of the data and features, similar to random forests.\n",
        "\n",
        "-   Splits are chosen to maximize **heterogeneity in treatment effects** rather than prediction accuracy. For example, a split might separate patients into groups where the treatment effect (difference in $Y$ between treated and control) is significantly different.\n",
        "\n",
        "-   The splitting criterion often uses a measure like the variance of treatment effects or a modified mean squared error tailored o causal inference.\n",
        "\n",
        "3.  Honest Estimation\n",
        "\n",
        "-   To reduce overfitting, causal forests use “honest” estimation: one subset of data builds the tree structure (determines splits), and another subset estimates treatment effects within each leaf.\n",
        "\n",
        "-   This ensures unbiased estimates of $\\tau(x)$ within each subgroup defined by the tree.\n",
        "\n",
        "4.  Aggregation\n",
        "\n",
        "-   Treatment effect estimates from all trees are averaged to produce a robust estimate of $\\tau(x)$ for each individual or covariate combination.\n",
        "\n",
        "-   The forest provides a smooth, non-parametric estimate of how treatment effects vary with covariates.\n",
        "\n",
        "5.  Output\n",
        "\n",
        "-   CATE Estimates: $\\tau(x)$, the estimated treatment effect for\n",
        "\n",
        "-   each individual based on their covariates.\n",
        "\n",
        "-   Average Treatment Effect (ATE): The average of $\\tau(x)$ across the population, $E[\\tau(X)]$.\n",
        "\n",
        "-   Variable Importance: Identifies which covariates most influence heterogeneity in reatment effects.\n"
      ],
      "metadata": {
        "id": "VwEoykvwI2dS"
      }
    },
    {
      "cell_type": "markdown",
      "source": [
        "## Setup R in Python Runtype"
      ],
      "metadata": {
        "id": "Bn4w4oqMCagF"
      }
    },
    {
      "cell_type": "markdown",
      "source": [
        "### Install {rpy2}\n",
        "\n",
        "{rpy2} is a Python package that provides an interface to the R programming language, allowing Python users to run R code, call R functions, and manipulate R objects directly from Python. It enables seamless integration between Python and R, leveraging R's statistical and graphical capabilities while using Python's flexibility. The package supports passing data between the two languages and is widely used for statistical analysis, data visualization, and machine learning tasks that benefit from R's specialized libraries."
      ],
      "metadata": {
        "id": "yerTCtKKCmik"
      }
    },
    {
      "cell_type": "code",
      "source": [
        "!pip uninstall rpy2 -y\n",
        "!pip install rpy2==3.5.1\n",
        "%load_ext rpy2.ipython"
      ],
      "metadata": {
        "colab": {
          "base_uri": "https://localhost:8080/"
        },
        "id": "OqeCyNf0Crlc",
        "outputId": "80b56c2c-0d71-4f03-90c8-c42c3d140d97"
      },
      "execution_count": 1,
      "outputs": [
        {
          "output_type": "stream",
          "name": "stdout",
          "text": [
            "Found existing installation: rpy2 3.5.17\n",
            "Uninstalling rpy2-3.5.17:\n",
            "  Successfully uninstalled rpy2-3.5.17\n",
            "Collecting rpy2==3.5.1\n",
            "  Downloading rpy2-3.5.1.tar.gz (201 kB)\n",
            "\u001b[2K     \u001b[90m━━━━━━━━━━━━━━━━━━━━━━━━━━━━━━━━━━━━━━━\u001b[0m \u001b[32m201.7/201.7 kB\u001b[0m \u001b[31m3.8 MB/s\u001b[0m eta \u001b[36m0:00:00\u001b[0m\n",
            "\u001b[?25h  Preparing metadata (setup.py) ... \u001b[?25l\u001b[?25hdone\n",
            "Requirement already satisfied: cffi>=1.10.0 in /usr/local/lib/python3.11/dist-packages (from rpy2==3.5.1) (1.17.1)\n",
            "Requirement already satisfied: jinja2 in /usr/local/lib/python3.11/dist-packages (from rpy2==3.5.1) (3.1.6)\n",
            "Requirement already satisfied: pytz in /usr/local/lib/python3.11/dist-packages (from rpy2==3.5.1) (2025.2)\n",
            "Requirement already satisfied: tzlocal in /usr/local/lib/python3.11/dist-packages (from rpy2==3.5.1) (5.3.1)\n",
            "Requirement already satisfied: pycparser in /usr/local/lib/python3.11/dist-packages (from cffi>=1.10.0->rpy2==3.5.1) (2.22)\n",
            "Requirement already satisfied: MarkupSafe>=2.0 in /usr/local/lib/python3.11/dist-packages (from jinja2->rpy2==3.5.1) (3.0.2)\n",
            "Building wheels for collected packages: rpy2\n",
            "  Building wheel for rpy2 (setup.py) ... \u001b[?25l\u001b[?25hdone\n",
            "  Created wheel for rpy2: filename=rpy2-3.5.1-cp311-cp311-linux_x86_64.whl size=314978 sha256=6b23b030d182b7f5f5d6227f09b1b3c37e03e280fd43fc0cbc3a0a5ca396d778\n",
            "  Stored in directory: /root/.cache/pip/wheels/e9/55/d1/47be85a5f3f1e1f4d1e91cb5e3a4dcb40dd72147f184c5a5ef\n",
            "Successfully built rpy2\n",
            "Installing collected packages: rpy2\n",
            "Successfully installed rpy2-3.5.1\n"
          ]
        }
      ]
    },
    {
      "cell_type": "markdown",
      "source": [
        "### Mount Google Drive"
      ],
      "metadata": {
        "id": "vOzGUgYCCyqg"
      }
    },
    {
      "cell_type": "code",
      "source": [
        "from google.colab import drive\n",
        "drive.mount('/content/drive')"
      ],
      "metadata": {
        "colab": {
          "base_uri": "https://localhost:8080/"
        },
        "id": "_lngQQKKC2lc",
        "outputId": "f102e5fc-b682-4705-c295-c0726fe2a976"
      },
      "execution_count": 2,
      "outputs": [
        {
          "output_type": "stream",
          "name": "stdout",
          "text": [
            "Mounted at /content/drive\n"
          ]
        }
      ]
    },
    {
      "cell_type": "markdown",
      "source": [
        "## Causal Forest (CF) with R\n",
        "\n",
        "This tutorial demonstrats how to use the `{grf}` package in R to implement Causal Forest. We’ll use data from the `{survival}` package for consistency, specifically the `lung` dataset, which contains survival data for patients with advanced lung cancer. The tutorial includes code, explanations, and interpretations, tailored to each forest type.\n",
        "\n",
        "\n",
        "\n"
      ],
      "metadata": {
        "id": "bh7jEhGCLDZA"
      }
    },
    {
      "cell_type": "markdown",
      "source": [
        "### Load and Check Required Libraries"
      ],
      "metadata": {
        "id": "RlLmnBj77AMx"
      }
    },
    {
      "cell_type": "code",
      "source": [
        "%%R\n",
        "packages <- c('tidyverse',\n",
        "              'plyr',\n",
        "              'grf',\n",
        "              'survival',\n",
        "              'mlbench',\n",
        "              'Metrics')"
      ],
      "metadata": {
        "id": "9rXvjfapLYED"
      },
      "execution_count": 3,
      "outputs": []
    },
    {
      "cell_type": "markdown",
      "source": [
        "### Install Missing Packages"
      ],
      "metadata": {
        "id": "MDwlBWYYLc1e"
      }
    },
    {
      "cell_type": "code",
      "source": [
        "%%R\n",
        "# Install missing packages\n",
        "new.packages <- packages[!(packages %in% installed.packages(lib='drive/My Drive/R/')[,\"Package\"])]\n",
        "if(length(new.packages)) install.packages(new.packages, lib='drive/My Drive/R/')"
      ],
      "metadata": {
        "id": "PWzWe7xULb2L"
      },
      "execution_count": null,
      "outputs": []
    },
    {
      "cell_type": "markdown",
      "source": [
        "### Verify Installation"
      ],
      "metadata": {
        "id": "HM3Bl4-PLfFF"
      }
    },
    {
      "cell_type": "code",
      "source": [
        "%%R\n",
        "# set library path\n",
        ".libPaths('drive/My Drive/R')\n",
        "# Verify installation\n",
        "cat(\"Installed packages:\\n\")\n",
        "print(sapply(packages, requireNamespace, quietly = TRUE))"
      ],
      "metadata": {
        "colab": {
          "base_uri": "https://localhost:8080/"
        },
        "id": "pHr9zUJvLfNl",
        "outputId": "0c74d93b-568c-492c-b4a2-3bd79ff69889"
      },
      "execution_count": 4,
      "outputs": [
        {
          "output_type": "stream",
          "name": "stdout",
          "text": [
            "Installed packages:\n",
            "tidyverse      plyr       grf  survival   mlbench   Metrics \n",
            "     TRUE      TRUE      TRUE      TRUE      TRUE      TRUE \n"
          ]
        }
      ]
    },
    {
      "cell_type": "markdown",
      "source": [
        "### Load R Packages"
      ],
      "metadata": {
        "id": "2cPLFz1GLlRD"
      }
    },
    {
      "cell_type": "code",
      "source": [
        "%%R\n",
        "# set library path\n",
        ".libPaths('drive/My Drive/R')\n",
        "# Load packages with suppressed messages\n",
        "invisible(lapply(packages, function(pkg) {\n",
        "  suppressPackageStartupMessages(library(pkg, character.only = TRUE))\n",
        "}))\n"
      ],
      "metadata": {
        "id": "jIlm0D69x_70"
      },
      "execution_count": 5,
      "outputs": []
    },
    {
      "cell_type": "markdown",
      "source": [
        "### Check Loaded Packages"
      ],
      "metadata": {
        "id": "AH4vKW2yL1OF"
      }
    },
    {
      "cell_type": "code",
      "source": [
        "%%R\n",
        "# Check loaded packages\n",
        "cat(\"Successfully loaded packages:\\n\")\n",
        "print(search()[grepl(\"package:\", search())])# Check loaded packageswer)"
      ],
      "metadata": {
        "colab": {
          "base_uri": "https://localhost:8080/"
        },
        "id": "Du3QbdUeL1Yw",
        "outputId": "65fcf1d8-2971-473c-c492-854b0541954f"
      },
      "execution_count": 6,
      "outputs": [
        {
          "output_type": "stream",
          "name": "stdout",
          "text": [
            "Successfully loaded packages:\n",
            " [1] \"package:Metrics\"   \"package:mlbench\"   \"package:survival\" \n",
            " [4] \"package:grf\"       \"package:plyr\"      \"package:lubridate\"\n",
            " [7] \"package:forcats\"   \"package:stringr\"   \"package:dplyr\"    \n",
            "[10] \"package:purrr\"     \"package:readr\"     \"package:tidyr\"    \n",
            "[13] \"package:tibble\"    \"package:ggplot2\"   \"package:tidyverse\"\n",
            "[16] \"package:tools\"     \"package:stats\"     \"package:graphics\" \n",
            "[19] \"package:grDevices\" \"package:utils\"     \"package:datasets\" \n",
            "[22] \"package:methods\"   \"package:base\"     \n"
          ]
        }
      ]
    },
    {
      "cell_type": "markdown",
      "source": [
        "### Load and Preprocess the `lung` Dataset"
      ],
      "metadata": {
        "id": "IPobetr0zFC5"
      }
    },
    {
      "cell_type": "code",
      "source": [
        "%%R\n",
        "data(lung, package = \"survival\")\n",
        "\n",
        "# Remove missing values\n",
        "lung_clean <- na.omit(lung)\n",
        "\n",
        "# Define covariates (X), outcome (Y), and censoring indicator (D)\n",
        "X <- lung_clean[, c(\"age\", \"sex\", \"ph.ecog\", \"ph.karno\", \"pat.karno\", \"meal.cal\", \"wt.loss\")]\n",
        "Y <- lung_clean$time  # Survival time in days\n",
        "D <- ifelse(lung_clean$status == 2, 1, 0)  # 1 = event (dead), 0 = censored\n",
        "\n",
        "# Simulate binary treatment variable (e.g., drug vs. placebo)\n",
        "set.seed(123)\n",
        "W <- rbinom(nrow(lung_clean), 1, 0.5 + 0.2 * (X$age > 60))  # Treatment biased toward older patients"
      ],
      "metadata": {
        "id": "RmfGVScmzF8P"
      },
      "execution_count": 7,
      "outputs": []
    },
    {
      "cell_type": "markdown",
      "source": [
        "### Convert Covariates to Numeric Matrix"
      ],
      "metadata": {
        "id": "ThhlXPmzzK7v"
      }
    },
    {
      "cell_type": "code",
      "source": [
        "%%R\n",
        "# Convert X to a numeric matrix and ensure column names\n",
        "X <- as.matrix(X)\n",
        "# Explicitly set column names to avoid any issues\n",
        "colnames(X) <- c(\"age\", \"sex\", \"ph.ecog\", \"ph.karno\", \"pat.karno\", \"meal.cal\", \"wt.loss\")\n",
        "cat(\"Column names of X:\", colnames(X), \"\\n\")\n",
        "cat(\"Number of columns in X:\", ncol(X), \"\\n\")\n",
        "\n",
        "# Remove columns with near-zero variance to prevent grf from dropping them\n",
        "X <- X[, apply(X, 2, var) > 1e-10, drop = FALSE]\n",
        "cat(\"Column names after variance check:\", colnames(X), \"\\n\")\n",
        "cat(\"Number of columns after variance check:\", ncol(X), \"\\n\")"
      ],
      "metadata": {
        "colab": {
          "base_uri": "https://localhost:8080/"
        },
        "id": "jbX9jRGczLuL",
        "outputId": "aa7504da-9022-4617-a746-caf2616c339f"
      },
      "execution_count": 8,
      "outputs": [
        {
          "output_type": "stream",
          "name": "stdout",
          "text": [
            "Column names of X: age sex ph.ecog ph.karno pat.karno meal.cal wt.loss \n",
            "Number of columns in X: 7 \n",
            "Column names after variance check: age sex ph.ecog ph.karno pat.karno meal.cal wt.loss \n",
            "Number of columns after variance check: 7 \n"
          ]
        }
      ]
    },
    {
      "cell_type": "markdown",
      "source": [
        "### Split Data into Training and Test Sets"
      ],
      "metadata": {
        "id": "RMe3nasHz9g-"
      }
    },
    {
      "cell_type": "code",
      "source": [
        "%%R\n",
        "# Split data into training (80%) and test (20%) sets\n",
        "train_prop <- 0.8\n",
        "n <- nrow(lung_clean)\n",
        "train_idx <- sample(1:n, size = round(train_prop * n))\n",
        "X_train <- X[train_idx, , drop = FALSE]\n",
        "Y_train <- Y[train_idx]\n",
        "W_train <- W[train_idx]\n",
        "X_test <- X[-train_idx, , drop = FALSE]\n",
        "Y_test <- Y[-train_idx]\n",
        "W_test <- W[-train_idx]\n",
        "cat(\"Training set size:\", nrow(X_train), \"\\n\")\n",
        "cat(\"Test set size:\", nrow(X_test), \"\\n\")\n",
        "cat(\"Column names of X_train:\", colnames(X_train), \"\\n\")"
      ],
      "metadata": {
        "colab": {
          "base_uri": "https://localhost:8080/"
        },
        "id": "JifkRNMPz-RR",
        "outputId": "67d01756-7281-4efd-ff51-d7fabea2ad3a"
      },
      "execution_count": 9,
      "outputs": [
        {
          "output_type": "stream",
          "name": "stdout",
          "text": [
            "Training set size: 134 \n",
            "Test set size: 33 \n",
            "Column names of X_train: age sex ph.ecog ph.karno pat.karno meal.cal wt.loss \n"
          ]
        }
      ]
    },
    {
      "cell_type": "markdown",
      "source": [
        "### Train Causal Forest on Training Data\n",
        "\n",
        "The `causal_forest()` function in the `grf` package in R is used to estimate heterogeneous treatment effects (Conditional Average Treatment Effects, CATE) using a causal forest, a specialized random forest for causal inference. Below is a concise overview of the most important arguments for the `causal_forest()` function, based on the `grf` package documentation (version 2.3.2, available at https://grf-labs.github.io/grf/). These arguments control the model’s behavior, estimation process, and performance tuning.\n",
        "\n",
        "Below are the important arguments of `causal_forest()` function:\n",
        "\n",
        "-   `X` (Required): Matrix of covariates (features) used to estimate heterogeneity in treatment effects. Each row is an observation, and each column is a covariate (e.g., age, sex).\n",
        "\n",
        "-   `Y` (Required): Vector of observed outcomes (e.g., survival time, test score).\n",
        "\n",
        "-   `W` (Required): Vector of treatment assignments (e.g., 1 = treated, 0 = control for binary treatment).\n",
        "\n",
        "-   `num.trees` (Default: 2000): Number of trees in the forest.\n",
        "\n",
        "-   `sample.fraction` (Default: 0.5): Fraction of data used to build each tree (subsampling rate).\n",
        "\n",
        "-   `mtry` : Number of covariates considered for splitting at each node. If `NULL`, defaults to $\\min(\\lceil \\sqrt{p} \\rceil, \\lceil p/3 \\rceil)$, where $p$ is the number of covariates.\n",
        "\n",
        "-   `min.node.size` (Default: 5): Minimum number of observations in each leaf node.\n",
        "\n",
        "-   `honesty` (Default: TRUE): Whether to use honest splitting (separate data for tree structure and effect estimation).\n",
        "\n",
        "-   `honesty.fraction` (Default: 0.5): Fraction of data used for honest estimation (when `honesty = TRUE`). The remaining fraction is used for tree structure.\n",
        "\n",
        "-   `ci.group.size` (Default: 2): Number of trees grouped to compute variance estimates for confidence intervals.\n",
        "\n",
        "-   `alpha` (Default: 0.05): Maximum imbalance allowed in treatment/control splits, controlling propensity score overlap.\n",
        "\n",
        "-   `imbalance.penalty` (Default: 0): Penalty for imbalanced splits in treatment/control groups.\n",
        "\n",
        "-   `stabilize.splits` (Default: TRUE): Whether to stabilize splits by enforcing balance in treatment/control groups.\n",
        "\n",
        "-   `tune.parameters` (Default: \"none\"): Specifies whether to tune hyperparameters (e.g., `mtry`,`min.node.size`) via cross-validation. For more details, refer to the`grf` documentation (https://grf-labs.github.io/grf/) or ask for specific clarifications!"
      ],
      "metadata": {
        "id": "iCuXY1W30Kf2"
      }
    },
    {
      "cell_type": "code",
      "source": [
        "%%R\n",
        "# Train causal forest\n",
        "cf_model <- causal_forest(\n",
        "  X = X_train,\n",
        "  Y = Y_train,\n",
        "  W = W_train,\n",
        "  num.trees = 1000,\n",
        "  sample.fraction = 0.5,\n",
        "  mtry = min(ceiling(sqrt(ncol(X_train))), ncol(X_train)/3),\n",
        "  min.node.size = 5,\n",
        "  honesty = TRUE,\n",
        "  honesty.fraction = 0.5,\n",
        "  ci.group.size = 2,\n",
        "  alpha = 0.05,\n",
        "  imbalance.penalty = 0,\n",
        "  stabilize.splits = TRUE,\n",
        "  tune.parameters = \"all\",\n",
        "  seed = 123\n",
        ")\n",
        "\n",
        "# Estimate ATE on training data\n",
        "ate_train <- average_treatment_effect(cf_model, target.sample = \"all\")\n",
        "cat(\"Training ATE:\", ate_train[\"estimate\"], \"±\", 1.96 * ate_train[\"std.err\"], \"(95% CI)\\n\")"
      ],
      "metadata": {
        "colab": {
          "base_uri": "https://localhost:8080/"
        },
        "id": "K8_YZmzb0LTO",
        "outputId": "578227fb-544a-465e-8210-fb6b7ce99bbc"
      },
      "execution_count": 10,
      "outputs": [
        {
          "output_type": "stream",
          "name": "stdout",
          "text": [
            "Training ATE: -35.41114 ± 84.60876 (95% CI)\n"
          ]
        }
      ]
    },
    {
      "cell_type": "markdown",
      "source": [
        "The **ATE** is the average treatment effect (in days of survival) across the training population, with a 95% confidence interval."
      ],
      "metadata": {
        "id": "3tpN5rxZeSEm"
      }
    },
    {
      "cell_type": "markdown",
      "source": [
        "### Predict CATE on Test Data"
      ],
      "metadata": {
        "id": "2KI7kD5R0Qa9"
      }
    },
    {
      "cell_type": "code",
      "source": [
        "%%R\n",
        "# Predict CATE on test set\n",
        "cate_test_pred <- predict(cf_model, X_test)$predictions\n",
        "hist(cate_test_pred, main = \"CATE Distribution (Test Set)\", xlab = \"Estimated Treatment Effect (Days)\", col = \"lightblue\")\n"
      ],
      "metadata": {
        "colab": {
          "base_uri": "https://localhost:8080/",
          "height": 497
        },
        "id": "JipnL_6X0RJl",
        "outputId": "449ba77a-aeb3-4930-fff8-30c8d2ae495b"
      },
      "execution_count": 11,
      "outputs": [
        {
          "output_type": "display_data",
          "data": {
            "image/png": "[encoded data removed]"
          },
          "metadata": {}
        }
      ]
    },
    {
      "cell_type": "markdown",
      "source": [
        "### Variable Importance"
      ],
      "metadata": {
        "id": "k3sB7ApD0e7K"
      }
    },
    {
      "cell_type": "code",
      "source": [
        "%%R\n",
        "var_importance <- variable_importance(cf_model)\n",
        "features <- colnames(X_train)\n",
        "\n",
        "# Create a data frame for plotting\n",
        "importance_df <- data.frame(\n",
        "  Feature = features,\n",
        "  Importance = var_importance\n",
        ")\n",
        "\n",
        "# Create bar plot with ggplot2\n",
        "ggplot(importance_df, aes(x = reorder(Feature, Importance), y = Importance)) +\n",
        "  geom_bar(stat = \"identity\", fill = \"steelblue\") +\n",
        "  coord_flip() +  # Flip coordinates for better readability\n",
        "  labs(title = \"Variable Importance in Causal Forest\",\n",
        "       x = \"Feature\",\n",
        "       y = \"Importance\") +\n",
        "  theme_minimal()"
      ],
      "metadata": {
        "colab": {
          "base_uri": "https://localhost:8080/",
          "height": 497
        },
        "id": "nThsYP_a0fqX",
        "outputId": "84c7d922-a52f-464e-9b16-8ad802baf05a"
      },
      "execution_count": 14,
      "outputs": [
        {
          "output_type": "display_data",
          "data": {
            "image/png": "[encoded data removed]"
          },
          "metadata": {}
        }
      ]
    },
    {
      "cell_type": "markdown",
      "source": [
        "### Rank-Weighted Average Treatment Effect (RATE)\n",
        "\n",
        "The `rank_average_treatment_effect()` function in the {grf} package computes the AUTOC and provides a 95% confidence interval (CI) for it, allowing you to quantify the uncertainty of the treatment effect heterogeneity"
      ],
      "metadata": {
        "id": "diTm7dIrevFe"
      }
    },
    {
      "cell_type": "code",
      "source": [
        "%%R\n",
        "#| fig.width: 5.5\n",
        "#| fig.height: 5\n",
        "# Calculate AUTOC on test set with priorities\n",
        "# Create a subset index for the test set (1 to nrow(X_test))\n",
        "test_subset <- seq_len(nrow(X_test))\n",
        "\n",
        "autoc_result <- rank_average_treatment_effect(\n",
        "  forest = cf_model,\n",
        "  priorities = cate_test_pred,\n",
        "  target = \"AUTOC\",\n",
        "  subset = test_subset\n",
        ")\n",
        "\n",
        "# Extract AUTOC estimate and 95% CI\n",
        "autoc_estimate <- autoc_result$estimate\n",
        "autoc_std_err <- autoc_result$std.err\n",
        "autoc_ci_lower <- autoc_estimate - 1.96 * autoc_std_err\n",
        "autoc_ci_upper <- autoc_estimate + 1.96 * autoc_std_err\n",
        "cat(\"AUTOC Estimate:\", autoc_estimate, \"\\n\")\n",
        "cat(\"AUTOC 95% CI:\", autoc_ci_lower, \"to\", autoc_ci_upper, \"\\n\")"
      ],
      "metadata": {
        "colab": {
          "base_uri": "https://localhost:8080/"
        },
        "id": "uolnRWp_exqn",
        "outputId": "c7709250-5b61-419c-97c9-49c69decfbcc"
      },
      "execution_count": 13,
      "outputs": [
        {
          "output_type": "stream",
          "name": "stdout",
          "text": [
            "AUTOC Estimate: 65.19725 \n",
            "AUTOC 95% CI: -89.42004 to 219.8145 \n"
          ]
        }
      ]
    },
    {
      "cell_type": "markdown",
      "source": [
        "## Summary and Conclusion\n",
        "\n",
        "Causal Forests are a powerful tool for estimating heterogeneous treatment effects in observational or experimental data. They extend the random forest framework to focus on causal inference, allowing researchers to understand how treatment effects vary across individuals based on their characteristics. The `grf` package in R provides a robust implementation of causal forests, enabling users to estimate Conditional Average Treatment Effects (CATE) and visualize treatment effect heterogeneity effectively. This tutorial demonstrated how to implement a causal forest using the `lung` dataset, including data preprocessing, model training, prediction, variable importance analysis, and estimation of the Average Treatment Effect (ATE) and Rank-Weighted Average Treatment Effect (RATE)."
      ],
      "metadata": {
        "id": "_j759RVMQMut"
      }
    },
    {
      "cell_type": "markdown",
      "source": [
        "## References\n",
        "\n",
        "1.  Athey, Susan, Julie Tibshirani, and Stefan Wager. \"Generalized Random Forests\". Annals of Statistics, 47(2), 2019.\n",
        "\n",
        "2.  Wager, Stefan, and Susan Athey. \"Estimation and Inference of Heterogeneous Treatment Effects using Random Forests\". Journal of the American Statistical Association, 113(523), 2018.\n",
        "\n",
        "3.  Nie, Xinkun, and Stefan Wager. \"Quasi-Oracle Estimation of Heterogeneous Treatment Effects\". Biometrika, 108(2), 2021.\n",
        "\n",
        "4.  [grf Causal Forest documentation](https://grf-labs.github.io/grf/reference/causal_forest.html#references)\n",
        "\n"
      ],
      "metadata": {
        "id": "SaZTnZx3QPGI"
      }
    }
  ]
}