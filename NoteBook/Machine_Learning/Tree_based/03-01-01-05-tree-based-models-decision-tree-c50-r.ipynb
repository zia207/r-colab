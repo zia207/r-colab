{
  "nbformat": 4,
  "nbformat_minor": 0,
  "metadata": {
    "colab": {
      "provenance": [],
      "toc_visible": true,
      "authorship_tag": "ABX9TyOFozWvOy988zfc1Aqt46i3",
      "include_colab_link": true
    },
    "kernelspec": {
      "name": "python3",
      "display_name": "Python 3"
    },
    "language_info": {
      "name": "python"
    }
  },
  "cells": [
    {
      "cell_type": "markdown",
      "metadata": {
        "id": "view-in-github",
        "colab_type": "text"
      },
      "source": [
        "<a href=\"https://colab.research.google.com/github/zia207/r-colab/blob/main/NoteBook/Machine_Learning/Tree_based/03-01-01-05-tree-based-models-decision-tree-c50-r.ipynb\" target=\"_parent\"><img src=\"https://colab.research.google.com/assets/colab-badge.svg\" alt=\"Open In Colab\"/></a>"
      ]
    },
    {
      "cell_type": "markdown",
      "source": [
        "![alt text](http://drive.google.com/uc?export=view&id=1bLQ3nhDbZrCCqy_WCxxckOne2lgVvn3l)"
      ],
      "metadata": {
        "id": "Wb-c3rXaCanB"
      }
    },
    {
      "cell_type": "markdown",
      "source": [
        "# 1.5 C5.0 Model\n",
        "\n",
        "The **C5.0 model** is an advanced decision tree algorithm used for classification tasks in machine learning, developed by Ross Quinlan as an improvement over his earlier **C4.5 model**. It is widely used for predictive modeling, particularly in data mining and pattern recognition, due to its efficiency and ability to handle complex datasets. Below, I’ll explain what the C5.0 model is, how it works, and how it differs from the C4.5 model. Thsi also covers the implementation of the C5.0 model in R, including a simplified version of the algorithm and using the {C50} package for practical applications."
      ],
      "metadata": {
        "id": "JjdcmaWoCcd4"
      }
    },
    {
      "cell_type": "markdown",
      "source": [
        "\n",
        "## Overview\n",
        "\n",
        "C5.0 is a decision tree-based classifier that builds on the principles of its predecessor, C4.5, but introduces optimizations for better performance, scalability, and accuracy. It is designed to handle both categorical and continuous data, generating decision trees or rule sets to classify data into predefined categories. C5.0 is particularly popular in commercial applications due to its speed, memory efficiency, and ability to produce compact, interpretable models.\n"
      ],
      "metadata": {
        "id": "zVHn9mmz-qAb"
      }
    },
    {
      "cell_type": "markdown",
      "source": [
        "### Key Features of C5.0\n",
        "\n",
        "- `Efficiency`: Optimized for large datasets with faster processing and lower memory usage.\n",
        "- `Boosting`: Improves accuracy by combining multiple trees.\n",
        "- `Rule Sets`: Offers interpretable rule-based outputs alongside decision trees.\n",
        "- `Handling Imbalanced Data`: Robust to datasets with uneven class distributions.\n",
        "- `Feature Importance`: Provides insights into which features are most influential in predictions."
      ],
      "metadata": {
        "id": "AUaSdX6A-t9T"
      }
    },
    {
      "cell_type": "markdown",
      "source": [
        "### How Does the C5.0 Model Work?\n",
        "\n",
        "The C5.0 algorithm constructs a decision tree or a set of rules by recursively splitting the input data based on feature values, aiming to maximize the separation of classes. Here’s a step-by-step overview of how it works:\n",
        "\n",
        "1. Data Preparation\n",
        "\n",
        "   - The algorithm accepts a dataset with labeled examples, where each example has features (attributes) and a target class.\n",
        "   - It handles both categorical and continuous features, discretizing continuous features if needed.\n",
        "\n",
        "2. Tree Construction\n",
        "\n",
        "   - `Splitting Criterion`: C5.0 uses an `information gain ratio` to select the best feature to split the data at each node. This metric measures how much a feature reduces uncertainty (entropy) about the class labels, normalized to avoid bias toward features with many values.\n",
        "   - `Recursive Partitioning`: The dataset is split based on the chosen feature, creating child nodes. This process repeats for each node until a stopping condition is met (e.g., all instances in a node belong to the same class, or the node is too small).\n",
        "   - `Pruning`: To prevent overfitting, C5.0 applies post-pruning, removing branches that do not significantly improve classification accuracy on a validation set.\n",
        "\n",
        "3. Rule Set Generation (Optional)\n",
        "\n",
        "   - C5.0 can convert the decision tree into a set of if-then rules, which are often more interpretable. These rules are simplified by removing redundant conditions and grouping similar rules.\n",
        "\n",
        "4. Boosting\n",
        "\n",
        "   - C5.0 supports `adaptive boosting` (similar to AdaBoost), which builds multiple decision trees iteratively. Each subsequent tree focuses on correcting the errors of previous trees by assigning higher weights to misclassified instances. The final prediction is a weighted vote of all trees.\n",
        "\n",
        "5. Prediction\n",
        "\n",
        "   - For a new instance, the model traverses the decision tree or applies the rule set to assign a class label. In boosted models, predictions from multiple trees are combined.\n",
        "\n",
        "6. Handling Missing Values\n",
        "   - C5.0 can manage missing data by estimating probabilities for missing feature values based on the distribution of known values."
      ],
      "metadata": {
        "id": "NkMU_j3Y-vXv"
      }
    },
    {
      "cell_type": "markdown",
      "source": [
        "### Differences from C4.5\n",
        "\n",
        "- `Smaller Trees`: C5.0 produces more compact models due to optimized splitting and pruning.\n",
        "- `Boosting Support`: C4.5 lacks built-in boosting, while C5.0 uses it to enhance performance.\n",
        "- `Rule Sets`: C5.0 can generate rule sets, not just trees, unlike C4.5.\n",
        "- `Proprietary Nature`: C5.0 is commercial software, though open-source implementations exist (e.g., in R).\n",
        "\n",
        "\n",
        "| Aspect                | C4.5                              | C5.0                              |\n",
        "|-----------------------|-----------------------------------|-----------------------------------|\n",
        "| `Output Type`       | Decision tree only               | Decision tree or rule set         |\n",
        "| `Ensemble Support`  | None (single tree)               | Boosting (multiple trees)         |\n",
        "| `Efficiency`        | Less efficient, larger trees     | More efficient, compact models    |\n",
        "| `Feature Selection` | Basic feature selection          | Supports winnowing for irrelevant features |\n",
        "| `Cost-Sensitivity`  | Not supported                    | Supported for imbalanced data     |\n",
        "| `Pruning`           | Post-pruning                     | Advanced pruning techniques       |\n",
        "\n"
      ],
      "metadata": {
        "id": "0VugaT0i-6CA"
      }
    },
    {
      "cell_type": "markdown",
      "source": [
        "### Key Improvements in C5.0 Over C4.5\n",
        "\n",
        "1. `Speed and Efficiency`: C5.0 is significantly faster and uses less memory, making it suitable for large datasets. This is achieved through optimized algorithms and data structures.\n",
        "2. `Boosting`: The addition of boosting allows C5.0 to achieve higher accuracy by focusing on difficult-to-classify instances.\n",
        "3. `Smaller Models`: C5.0 produces more compact decision trees and rule sets, improving interpretability and reducing overfitting.\n",
        "4. `Robustness`: Better handling of noisy data, missing values, and imbalanced classes.\n",
        "5. `Rule Simplification`: C5.0 generates more concise and interpreable rule sets compared to C4.5’s sometimes complex outputs."
      ],
      "metadata": {
        "id": "sLItoPE9-8uZ"
      }
    },
    {
      "cell_type": "markdown",
      "source": [
        "## Setup R in Python Runtype"
      ],
      "metadata": {
        "id": "DOSCCKDbDXLF"
      }
    },
    {
      "cell_type": "markdown",
      "source": [
        "### Install rpy2"
      ],
      "metadata": {
        "id": "IqA0SLZlDcYF"
      }
    },
    {
      "cell_type": "code",
      "source": [
        "!pip uninstall rpy2 -y\n",
        "!pip install rpy2==3.5.1\n",
        "%load_ext rpy2.ipython"
      ],
      "metadata": {
        "colab": {
          "base_uri": "https://localhost:8080/"
        },
        "id": "RD-b5kwIDYDx",
        "outputId": "c48f62fd-f642-4df0-af94-4d15bd717c1b"
      },
      "execution_count": 1,
      "outputs": [
        {
          "output_type": "stream",
          "name": "stdout",
          "text": [
            "Found existing installation: rpy2 3.5.17\n",
            "Uninstalling rpy2-3.5.17:\n",
            "  Successfully uninstalled rpy2-3.5.17\n",
            "Collecting rpy2==3.5.1\n",
            "  Downloading rpy2-3.5.1.tar.gz (201 kB)\n",
            "\u001b[2K     \u001b[90m━━━━━━━━━━━━━━━━━━━━━━━━━━━━━━━━━━━━━━━\u001b[0m \u001b[32m201.7/201.7 kB\u001b[0m \u001b[31m6.2 MB/s\u001b[0m eta \u001b[36m0:00:00\u001b[0m\n",
            "\u001b[?25h  Preparing metadata (setup.py) ... \u001b[?25l\u001b[?25hdone\n",
            "Requirement already satisfied: cffi>=1.10.0 in /usr/local/lib/python3.11/dist-packages (from rpy2==3.5.1) (1.17.1)\n",
            "Requirement already satisfied: jinja2 in /usr/local/lib/python3.11/dist-packages (from rpy2==3.5.1) (3.1.6)\n",
            "Requirement already satisfied: pytz in /usr/local/lib/python3.11/dist-packages (from rpy2==3.5.1) (2025.2)\n",
            "Requirement already satisfied: tzlocal in /usr/local/lib/python3.11/dist-packages (from rpy2==3.5.1) (5.3.1)\n",
            "Requirement already satisfied: pycparser in /usr/local/lib/python3.11/dist-packages (from cffi>=1.10.0->rpy2==3.5.1) (2.22)\n",
            "Requirement already satisfied: MarkupSafe>=2.0 in /usr/local/lib/python3.11/dist-packages (from jinja2->rpy2==3.5.1) (3.0.2)\n",
            "Building wheels for collected packages: rpy2\n",
            "  Building wheel for rpy2 (setup.py) ... \u001b[?25l\u001b[?25hdone\n",
            "  Created wheel for rpy2: filename=rpy2-3.5.1-cp311-cp311-linux_x86_64.whl size=314971 sha256=9085ecfd2903bc7090b98dfbebc1bf3afb2a243a35e381157def80aacee28bfe\n",
            "  Stored in directory: /root/.cache/pip/wheels/e9/55/d1/47be85a5f3f1e1f4d1e91cb5e3a4dcb40dd72147f184c5a5ef\n",
            "Successfully built rpy2\n",
            "Installing collected packages: rpy2\n",
            "Successfully installed rpy2-3.5.1\n"
          ]
        }
      ]
    },
    {
      "cell_type": "markdown",
      "source": [
        "### Mount Google Drive"
      ],
      "metadata": {
        "id": "KqyWFjgkDgYW"
      }
    },
    {
      "cell_type": "code",
      "source": [
        "from google.colab import drive\n",
        "drive.mount('/content/drive', force_remount=True)"
      ],
      "metadata": {
        "colab": {
          "base_uri": "https://localhost:8080/"
        },
        "id": "ujT_LCWgDgl2",
        "outputId": "b4b483c8-71f0-4332-af9f-a8e481781a36"
      },
      "execution_count": 2,
      "outputs": [
        {
          "output_type": "stream",
          "name": "stdout",
          "text": [
            "Mounted at /content/drive\n"
          ]
        }
      ]
    },
    {
      "cell_type": "markdown",
      "source": [
        "## C5.0 Model in R from Scracth\n",
        "\n",
        "I’ll implement a simplified version of the C5.0 algorithm in R. Implementing the full C5.0 algorithm (including gain ratio, boosting, and aggressive pruning) from scratch is highly complex and typically requires optimized libraries. Instead, I’ll:\n",
        "\n",
        "-` Build a basic decision tree using the gain ratio as the splitting criterion, mimicking C5.0’s core splitting logic.\n",
        "\n",
        "-  Exclude boosting and advanced pruning (as in full C5.0) due to complexity but include a simple pruning step based on error rates.\n",
        "\n",
        "- Evaluate the model on a test set with accuracy and a confusion matrix.\n",
        "\n",
        "Provide a textual visualization of the tree.\n"
      ],
      "metadata": {
        "id": "htQpSILESmnz"
      }
    },
    {
      "cell_type": "markdown",
      "source": [
        "### Create a Dataset"
      ],
      "metadata": {
        "id": "M8rSZNZCSpXP"
      }
    },
    {
      "cell_type": "code",
      "source": [
        "%%R\n",
        "# Create the Play Tennis dataset\n",
        "data <- data.frame(\n",
        "  Outlook = c(\"Sunny\", \"Sunny\", \"Overcast\", \"Rain\", \"Rain\", \"Rain\", \"Overcast\", \"Sunny\", \"Sunny\", \"Rain\", \"Sunny\", \"Overcast\", \"Overcast\", \"Rain\"),\n",
        "  Temperature = c(\"Hot\", \"Hot\", \"Hot\", \"Mild\", \"Cool\", \"Cool\", \"Cool\", \"Mild\", \"Cool\", \"Mild\", \"Mild\", \"Mild\", \"Hot\", \"Mild\"),\n",
        "  Humidity = c(\"High\", \"High\", \"High\", \"High\", \"Normal\", \"Normal\", \"Normal\", \"High\", \"Normal\", \"Normal\", \"Normal\", \"High\", \"Normal\", \"High\"),\n",
        "  Wind = c(\"Weak\", \"Strong\", \"Weak\", \"Weak\", \"Weak\", \"Strong\", \"Strong\", \"Weak\", \"Weak\", \"Weak\", \"Strong\", \"Strong\", \"Weak\", \"Strong\"),\n",
        "  Play = c(\"No\", \"No\", \"Yes\", \"Yes\", \"Yes\", \"No\", \"Yes\", \"No\", \"Yes\", \"Yes\", \"Yes\", \"Yes\", \"Yes\", \"No\")\n",
        ")\n",
        "\n",
        "# Convert categorical variables to factors\n",
        "data$Outlook <- as.factor(data$Outlook)\n",
        "data$Temperature <- as.factor(data$Temperature)\n",
        "data$Humidity <- as.factor(data$Humidity)\n",
        "data$Wind <- as.factor(data$Wind)\n",
        "data$Play <- as.factor(data$Play)\n",
        "\n",
        "# Split data into training (80%) and testing (20%)\n",
        "set.seed(123)\n",
        "train_idx <- sample(1:nrow(data), 0.8 * nrow(data))\n",
        "train_data <- data[train_idx, ]\n",
        "test_data <- data[-train_idx, ]\n"
      ],
      "metadata": {
        "id": "uVHOgIfmSsez"
      },
      "execution_count": 3,
      "outputs": []
    },
    {
      "cell_type": "markdown",
      "source": [
        "###  Functions for C5.0-like Decision Tree\n",
        "\n",
        "- **Entropy (`entropy`)**: Measures label impurity using - $\\sum p_i \\log_2(p_i)$, where $p_i$ is class proportion. Adds `1e-10` to avoid $\\log_2(0)$. E.g., 5 Yes/5 No → entropy ~1.\n",
        "\n",
        "- **Information Gain (`info_gain`)**: Computes gain ratio for a feature. Calculates total entropy, subtracts weighted entropy of subsets (by feature values), and divides by split info (-$\\sum \\frac{|D_v|}{|D|} \\log_2(\\frac{|D_v|}{|D|})$). Returns 0 if split info is 0. E.g., `Outlook` split reduces entropy.\n",
        "\n",
        "- **Best Split (`best_split`)**: Picks feature with highest gain ratio. E.g., chooses `Outlook` if its gain ratio is 0.156.\n",
        "\n",
        "- **Build Tree (`build_tree`)**: Recursively splits data on best feature. Stops if pure, max depth (3), or <2 instances. Creates leaf (majority class) or split node with child subtrees. E.g., splits on `Outlook`, then `Humidity`.\n"
      ],
      "metadata": {
        "id": "nWwP2d67SwL1"
      }
    },
    {
      "cell_type": "code",
      "source": [
        "%%R\n",
        "# Entropy calculation\n",
        "entropy <- function(labels) {\n",
        "  probs <- table(labels) / length(labels)\n",
        "  -sum(probs * log2(probs + 1e-10)) # Add small constant to avoid log(0)\n",
        "}\n",
        "\n",
        "# Information gain calculation\n",
        "info_gain <- function(data, feature, target) {\n",
        "  total_entropy <- entropy(data[[target]])\n",
        "  values <- unique(data[[feature]])\n",
        "  weighted_entropy <- 0\n",
        "  split_info <- 0\n",
        "  for (val in values) {\n",
        "    subset <- data[data[[feature]] == val, ]\n",
        "    weight <- nrow(subset) / nrow(data)\n",
        "    weighted_entropy <- weighted_entropy + weight * entropy(subset[[target]])\n",
        "    split_info <- split_info - weight * log2(weight + 1e-10)\n",
        "  }\n",
        "  gain <- total_entropy - weighted_entropy\n",
        "  if (split_info == 0) return(0) # Avoid division by zero\n",
        "  gain_ratio <- gain / split_info\n",
        "  return(gain_ratio)\n",
        "}\n",
        "\n",
        "# Find best feature to split\n",
        "best_split <- function(data, features, target) {\n",
        "  gains <- sapply(features, function(f) info_gain(data, f, target))\n",
        "  best_feature <- features[which.max(gains)]\n",
        "  list(feature = best_feature, gain_ratio = max(gains))\n",
        "}\n",
        "\n",
        "# Build decision tree recursively\n",
        "build_tree <- function(data, features, target, max_depth = 3, depth = 0) {\n",
        "  # Stopping criteria\n",
        "  if (length(unique(data[[target]])) == 1 || depth >= max_depth || nrow(data) < 2) {\n",
        "    return(list(\n",
        "      type = \"leaf\",\n",
        "      class = names(sort(table(data[[target]]), decreasing = TRUE))[1],\n",
        "      size = nrow(data)\n",
        "    ))\n",
        "  }\n",
        "\n",
        "  # Find best feature\n",
        "  split <- best_split(data, features, target)\n",
        "  if (split$gain_ratio == 0) {\n",
        "    return(list(\n",
        "      type = \"leaf\",\n",
        "      class = names(sort(table(data[[target]]), decreasing = TRUE))[1],\n",
        "      size = nrow(data)\n",
        "    ))\n",
        "  }\n",
        "\n",
        "  # Split data\n",
        "  node <- list(type = \"split\", feature = split$feature, children = list())\n",
        "  values <- unique(data[[split$feature]])\n",
        "  remaining_features <- setdiff(features, split$feature)\n",
        "\n",
        "  # Create child nodes\n",
        "  for (val in values) {\n",
        "    subset <- data[data[[split$feature]] == val, ]\n",
        "    if (nrow(subset) > 0) {\n",
        "      node$children[[val]] <- build_tree(subset, remaining_features, target, max_depth, depth + 1)\n",
        "    }\n",
        "  }\n",
        "\n",
        "  return(node)\n",
        "}"
      ],
      "metadata": {
        "id": "6QKC48AbSwdf"
      },
      "execution_count": 4,
      "outputs": []
    },
    {
      "cell_type": "markdown",
      "source": [
        "### Predicting and Pruning the Tree\n",
        "\n",
        "- **Predict Instance (`predict_instance`)**: Predicts class for one instance. If at a leaf, returns its class. Else, follows the tree by matching the instance’s feature value to a child node. If no matching child, defaults to majority class from training data (e.g., \"Yes\" for `Play`).\n",
        "\n",
        "- **Predict Tree (`predict_tree`)**: Applies `predict_instance` to each row of a dataset, returning predictions for all instances.\n",
        "\n",
        "- **Prune Tree (`prune_tree`)**: Simplifies tree to reduce overfitting. For a node:\n",
        "  - Computes error rate of current subtree predictions.\n",
        "  - Compares with error if replaced by a leaf with majority class.\n",
        "  - Prunes to leaf if leaf error is lower/equal.\n",
        "  - Recursively prunes child nodes if not pruned.\n",
        "  - Returns updated tree."
      ],
      "metadata": {
        "id": "SVFfLB-YS3Pg"
      }
    },
    {
      "cell_type": "code",
      "source": [
        "%%R\n",
        "# Predict for a single instance\n",
        "predict_instance <- function(tree, instance) {\n",
        "  if (tree$type == \"leaf\") {\n",
        "    return(tree$class)\n",
        "  }\n",
        "  feature_val <- as.character(instance[[tree$feature]])\n",
        "  if (feature_val %in% names(tree$children)) {\n",
        "    return(predict_instance(tree$children[[feature_val]], instance))\n",
        "  } else {\n",
        "    return(names(sort(table(train_data$Play), decreasing = TRUE))[1]) # Default to majority class\n",
        "  }\n",
        "}\n",
        "# Predict for a dataset\n",
        "predict_tree <- function(tree, data) {\n",
        "  apply(data, 1, function(row) predict_instance(tree, as.list(row)))\n",
        "}\n",
        "\n",
        "# Simple pruning based on error rate\n",
        "prune_tree <- function(tree, data, target) {\n",
        "  if (tree$type == \"leaf\") return(tree)\n",
        "\n",
        "  # Predict with current tree\n",
        "  preds <- predict_tree(tree, data)\n",
        "  error <- sum(preds != data[[target]]) / nrow(data)\n",
        "\n",
        "  # Predict with leaf (majority class)\n",
        "  majority_class <- names(sort(table(data[[target]]), decreasing = TRUE))[1]\n",
        "  leaf_error <- sum(data[[target]] != majority_class) / nrow(data)\n",
        "\n",
        "  # Prune if leaf has lower or equal error\n",
        "  if (leaf_error <= error) {\n",
        "    return(list(type = \"leaf\", class = majority_class, size = nrow(data)))\n",
        "  }\n",
        "\n",
        "  # Recursively prune children\n",
        "  for (val in names(tree$children)) {\n",
        "    subset <- data[data[[tree$feature]] == val, ]\n",
        "    if (nrow(subset) > 0) {\n",
        "      tree$children[[val]] <- prune_tree(tree$children[[val]], subset, target)\n",
        "    }\n",
        "  }\n",
        "  return(tree)\n",
        "}"
      ],
      "metadata": {
        "id": "4poVFL4RS3lL"
      },
      "execution_count": 5,
      "outputs": []
    },
    {
      "cell_type": "markdown",
      "source": [
        "### Fit the Model and Evaluate"
      ],
      "metadata": {
        "id": "LndcK9j5TbgG"
      }
    },
    {
      "cell_type": "code",
      "source": [
        "%%R\n",
        "# Fit the model\n",
        "features <- c(\"Outlook\", \"Temperature\", \"Humidity\", \"Wind\")\n",
        "target <- \"Play\"\n",
        "tree <- build_tree(train_data, features, target, max_depth = 3)\n",
        "pruned_tree <- prune_tree(tree, train_data, target)\n",
        "\n",
        "# Print tree structure\n",
        "print_tree <- function(tree, indent = \"\") {\n",
        "  if (tree$type == \"leaf\") {\n",
        "    cat(sprintf(\"%sClass: %s (Size: %d)\\n\", indent, tree$class, tree$size))\n",
        "  } else {\n",
        "    cat(sprintf(\"%sSplit on %s\\n\", indent, tree$feature))\n",
        "    for (val in names(tree$children)) {\n",
        "      cat(sprintf(\"%s  %s = %s:\\n\", indent, tree$feature, val))\n",
        "      print_tree(tree$children[[val]], paste0(indent, \"    \"))\n",
        "    }\n",
        "  }\n",
        "}\n",
        "cat(\"Decision Tree:\\n\")\n",
        "print_tree(pruned_tree)\n",
        "\n",
        "# Evaluate on test data\n",
        "predictions <- predict_tree(pruned_tree, test_data)\n",
        "confusion_matrix <- table(test_data$Play, predictions)\n",
        "accuracy <- sum(diag(confusion_matrix)) / sum(confusion_matrix)\n",
        "cat(\"\\nAccuracy:\", accuracy, \"\\n\")\n",
        "cat(\"Confusion Matrix:\\n\")\n",
        "print(confusion_matrix)"
      ],
      "metadata": {
        "colab": {
          "base_uri": "https://localhost:8080/"
        },
        "id": "FSrL4-xlTchC",
        "outputId": "3bd8b516-4a3d-4f69-e7cc-daa60702cb16"
      },
      "execution_count": 6,
      "outputs": [
        {
          "output_type": "stream",
          "name": "stdout",
          "text": [
            "Decision Tree:\n",
            "Split on Outlook\n",
            "  Outlook = Overcast:\n",
            "    Class: Yes (Size: 3)\n",
            "  Outlook = Rain:\n",
            "    Split on Wind\n",
            "      Wind = Strong:\n",
            "        Class: No (Size: 2)\n",
            "      Wind = Weak:\n",
            "        Class: Yes (Size: 3)\n",
            "  Outlook = Sunny:\n",
            "    Split on Temperature\n",
            "      Temperature = Hot:\n",
            "        Class: No (Size: 2)\n",
            "      Temperature = Mild:\n",
            "        Class: Yes (Size: 1)\n",
            "\n",
            "Accuracy: 0.3333333 \n",
            "Confusion Matrix:\n",
            "     predictions\n",
            "      Yes\n",
            "  No    1\n",
            "  Yes   2\n"
          ]
        }
      ]
    },
    {
      "cell_type": "markdown",
      "source": [
        "## C5.0 Model in R\n",
        "\n",
        "To implement the C5.0 model in R, we use the {C50} package, which provides an interface to the C5.0 algorithm. Unlike RWeka (used for C4.5’s J48), C50 does not require Java, simplifying setup.  Below is a step-by-step guide to installing the package, preparing a dataset, training a C5.0 model, evaluating it, and making predictions."
      ],
      "metadata": {
        "id": "-PT2a8aFOHIh"
      }
    },
    {
      "cell_type": "markdown",
      "source": [
        "### Check amd Install Other Required R Packages\n",
        "\n",
        "Following R packages are required to run this notebook. If any of these packages are not installed, you can install them using the code below:"
      ],
      "metadata": {
        "id": "ptRSvSvyCzD1"
      }
    },
    {
      "cell_type": "code",
      "execution_count": 7,
      "metadata": {
        "id": "w-nv_puDCUoe"
      },
      "outputs": [],
      "source": [
        "%%R\n",
        "packages <- c('tidyverse',\n",
        "              'plyr',\n",
        "              'rpart',\n",
        "              'rpart.plot',\n",
        "              'partykit',\n",
        "              'mlbench',\n",
        "              'ggparty',\n",
        "              'C50'\n",
        "         )\n"
      ]
    },
    {
      "cell_type": "markdown",
      "source": [
        "#### Install Missing Packages"
      ],
      "metadata": {
        "id": "G1a1YHy9C5RV"
      }
    },
    {
      "cell_type": "code",
      "source": [
        "%%R\n",
        "# Install missing packages\n",
        "new.packages <- packages[!(packages %in% installed.packages(lib='drive/My Drive/R/')[,\"Package\"])]\n",
        "if(length(new.packages)) install.packages(new.packages, lib='drive/My Drive/R/')"
      ],
      "metadata": {
        "id": "LquHXSirC5ag"
      },
      "execution_count": null,
      "outputs": []
    },
    {
      "cell_type": "markdown",
      "source": [
        "#### Verify Installation"
      ],
      "metadata": {
        "id": "sOLZAxTmC_Z8"
      }
    },
    {
      "cell_type": "code",
      "source": [
        "%%R\n",
        "# set library path\n",
        ".libPaths('drive/My Drive/R')\n",
        "# Verify installation\n",
        "cat(\"Installed packages:\\n\")\n",
        "print(sapply(packages, requireNamespace, quietly = TRUE))"
      ],
      "metadata": {
        "colab": {
          "base_uri": "https://localhost:8080/"
        },
        "id": "YskwGEcDC_in",
        "outputId": "39dad017-6586-4aea-9b20-9a187bc4daef"
      },
      "execution_count": 10,
      "outputs": [
        {
          "output_type": "stream",
          "name": "stdout",
          "text": [
            "Installed packages:\n",
            " tidyverse       plyr      rpart rpart.plot   partykit    mlbench    ggparty \n",
            "      TRUE       TRUE       TRUE       TRUE       TRUE       TRUE       TRUE \n",
            "       C50 \n",
            "      TRUE \n"
          ]
        }
      ]
    },
    {
      "cell_type": "markdown",
      "source": [
        "### Load R Packages"
      ],
      "metadata": {
        "id": "k2vFs39qDFVP"
      }
    },
    {
      "cell_type": "code",
      "source": [
        "%%R\n",
        "# set library path\n",
        ".libPaths('drive/My Drive/R')\n",
        "# Load packages with suppressed messages\n",
        "invisible(lapply(packages, function(pkg) {\n",
        "  suppressPackageStartupMessages(library(pkg, character.only = TRUE))\n",
        "}))\n"
      ],
      "metadata": {
        "id": "i_6as7QMDFgE"
      },
      "execution_count": 11,
      "outputs": []
    },
    {
      "cell_type": "markdown",
      "source": [
        "#### Check Loaded Packages"
      ],
      "metadata": {
        "id": "4uwQzcFUDLsD"
      }
    },
    {
      "cell_type": "code",
      "source": [
        "%%R\n",
        "# Check loaded packages\n",
        "cat(\"Successfully loaded packages:\\n\")\n",
        "print(search()[grepl(\"package:\", search())])# Check loaded packageswer)"
      ],
      "metadata": {
        "colab": {
          "base_uri": "https://localhost:8080/"
        },
        "id": "BaCSw0l9DL2F",
        "outputId": "85085635-2f0c-4e06-dd8e-9c8ef7496b8c"
      },
      "execution_count": 12,
      "outputs": [
        {
          "output_type": "stream",
          "name": "stdout",
          "text": [
            "Successfully loaded packages:\n",
            " [1] \"package:C50\"        \"package:ggparty\"    \"package:mlbench\"   \n",
            " [4] \"package:partykit\"   \"package:mvtnorm\"    \"package:libcoin\"   \n",
            " [7] \"package:grid\"       \"package:rpart.plot\" \"package:rpart\"     \n",
            "[10] \"package:plyr\"       \"package:lubridate\"  \"package:forcats\"   \n",
            "[13] \"package:stringr\"    \"package:dplyr\"      \"package:purrr\"     \n",
            "[16] \"package:readr\"      \"package:tidyr\"      \"package:tibble\"    \n",
            "[19] \"package:ggplot2\"    \"package:tidyverse\"  \"package:tools\"     \n",
            "[22] \"package:stats\"      \"package:graphics\"   \"package:grDevices\" \n",
            "[25] \"package:utils\"      \"package:datasets\"   \"package:methods\"   \n",
            "[28] \"package:base\"      \n"
          ]
        }
      ]
    },
    {
      "cell_type": "markdown",
      "source": [
        "### Dataset\n",
        "\n",
        "We’ll use the \"Play Tennis\" dataset with four features (Outlook, Temperature, Humidity, Wind) and a binary class (Play: Yes/No)."
      ],
      "metadata": {
        "id": "yNp4JmJBBY3s"
      }
    },
    {
      "cell_type": "code",
      "source": [
        "%%R\n",
        "# Create the Play Tennis dataset\n",
        "data <- data.frame(\n",
        "  Outlook = c(\"Sunny\", \"Sunny\", \"Overcast\", \"Rain\", \"Rain\", \"Rain\", \"Overcast\", \"Sunny\", \"Sunny\", \"Rain\", \"Sunny\", \"Overcast\", \"Overcast\", \"Rain\"),\n",
        "  Temperature = c(\"Hot\", \"Hot\", \"Hot\", \"Mild\", \"Cool\", \"Cool\", \"Cool\", \"Mild\", \"Cool\", \"Mild\", \"Mild\", \"Mild\", \"Hot\", \"Mild\"),\n",
        "  Humidity = c(\"High\", \"High\", \"High\", \"High\", \"Normal\", \"Normal\", \"Normal\", \"High\", \"Normal\", \"Normal\", \"Normal\", \"High\", \"Normal\", \"High\"),\n",
        "  Wind = c(\"Weak\", \"Strong\", \"Weak\", \"Weak\", \"Weak\", \"Strong\", \"Strong\", \"Weak\", \"Weak\", \"Weak\", \"Strong\", \"Strong\", \"Weak\", \"Strong\"),\n",
        "  Play = c(\"No\", \"No\", \"Yes\", \"Yes\", \"Yes\", \"No\", \"Yes\", \"No\", \"Yes\", \"Yes\", \"Yes\", \"Yes\", \"Yes\", \"No\")\n",
        ")\n",
        "\n",
        "# Convert categorical variables to factors\n",
        "data$Outlook <- as.factor(data$Outlook)\n",
        "data$Temperature <- as.factor(data$Temperature)\n",
        "data$Humidity <- as.factor(data$Humidity)\n",
        "data$Wind <- as.factor(data$Wind)\n",
        "data$Play <- as.factor(data$Play)\n",
        "\n",
        "# View the dataset\n",
        "print(data)"
      ],
      "metadata": {
        "id": "Z_fkw7p6Z9fU",
        "colab": {
          "base_uri": "https://localhost:8080/"
        },
        "outputId": "26b7b990-b2cf-45c4-b932-6339509f700c"
      },
      "execution_count": 14,
      "outputs": [
        {
          "output_type": "stream",
          "name": "stdout",
          "text": [
            "    Outlook Temperature Humidity   Wind Play\n",
            "1     Sunny         Hot     High   Weak   No\n",
            "2     Sunny         Hot     High Strong   No\n",
            "3  Overcast         Hot     High   Weak  Yes\n",
            "4      Rain        Mild     High   Weak  Yes\n",
            "5      Rain        Cool   Normal   Weak  Yes\n",
            "6      Rain        Cool   Normal Strong   No\n",
            "7  Overcast        Cool   Normal Strong  Yes\n",
            "8     Sunny        Mild     High   Weak   No\n",
            "9     Sunny        Cool   Normal   Weak  Yes\n",
            "10     Rain        Mild   Normal   Weak  Yes\n",
            "11    Sunny        Mild   Normal Strong  Yes\n",
            "12 Overcast        Mild     High Strong  Yes\n",
            "13 Overcast         Hot   Normal   Weak  Yes\n",
            "14     Rain        Mild     High Strong   No\n"
          ]
        }
      ]
    },
    {
      "cell_type": "markdown",
      "source": [
        "###  Train the C5.0 Model\n",
        "\n",
        "Use the `C5.0` function to train the model. Specify the predictors, target variable, and optional parameters.\n"
      ],
      "metadata": {
        "id": "w_xj_f0iBeeq"
      }
    },
    {
      "cell_type": "code",
      "source": [
        "%%R\n",
        "# Train the C5.0 model\n",
        "model <- C5.0(x = data[, c(\"Outlook\", \"Temperature\", \"Humidity\", \"Wind\")],\n",
        "              y = data$Play)\n",
        "\n",
        "# Print the model summary\n",
        "summary(model)"
      ],
      "metadata": {
        "id": "CoeB0sSdaCxG",
        "colab": {
          "base_uri": "https://localhost:8080/"
        },
        "outputId": "bcc26506-7366-43c7-ba6e-335f1dc8f828"
      },
      "execution_count": 15,
      "outputs": [
        {
          "output_type": "stream",
          "name": "stdout",
          "text": [
            "\n",
            "Call:\n",
            "C5.0.default(x = data[, c(\"Outlook\", \"Temperature\", \"Humidity\", \"Wind\")], y\n",
            " = data$Play)\n",
            "\n",
            "\n",
            "C5.0 [Release 2.07 GPL Edition]  \tMon Jun 16 15:29:11 2025\n",
            "-------------------------------\n",
            "\n",
            "Class specified by attribute `outcome'\n",
            "\n",
            "Read 14 cases (5 attributes) from undefined.data\n",
            "\n",
            "Decision tree:\n",
            "\n",
            "Outlook = Overcast: Yes (4)\n",
            "Outlook = Rain:\n",
            ":...Wind = Strong: No (2)\n",
            ":   Wind = Weak: Yes (3)\n",
            "Outlook = Sunny:\n",
            ":...Humidity = High: No (3)\n",
            "    Humidity = Normal: Yes (2)\n",
            "\n",
            "\n",
            "Evaluation on training data (14 cases):\n",
            "\n",
            "\t    Decision Tree   \n",
            "\t  ----------------  \n",
            "\t  Size      Errors  \n",
            "\n",
            "\t     5    0( 0.0%)   <<\n",
            "\n",
            "\n",
            "\t   (a)   (b)    <-classified as\n",
            "\t  ----  ----\n",
            "\t     5          (a): class No\n",
            "\t           9    (b): class Yes\n",
            "\n",
            "\n",
            "\tAttribute usage:\n",
            "\n",
            "\t100.00%\tOutlook\n",
            "\t 35.71%\tHumidity\n",
            "\t 35.71%\tWind\n",
            "\n",
            "\n",
            "Time: 0.0 secs\n",
            "\n"
          ]
        }
      ]
    },
    {
      "cell_type": "markdown",
      "source": [
        "### Prediction and Evaluation"
      ],
      "metadata": {
        "id": "VAAtXWGnBqqU"
      }
    },
    {
      "cell_type": "code",
      "source": [
        "%%R\n",
        "# Make predictions on the training data\n",
        "predictions <- predict(model, newdata = data)\n",
        "\n",
        "# Create a confusion matrix\n",
        "conf_matrix <- table(Predicted = predictions, Actual = data$Play)\n",
        "print(conf_matrix)\n",
        "\n",
        "# Calculate accuracy\n",
        "accuracy <- sum(diag(conf_matrix)) / sum(conf_matrix)\n",
        "cat(\"Accuracy:\", accuracy, \"\\n\")"
      ],
      "metadata": {
        "id": "ITgwbLRXaZtm",
        "colab": {
          "base_uri": "https://localhost:8080/"
        },
        "outputId": "ee3005f8-8972-4281-f0e9-694d45825b03"
      },
      "execution_count": 16,
      "outputs": [
        {
          "output_type": "stream",
          "name": "stdout",
          "text": [
            "         Actual\n",
            "Predicted No Yes\n",
            "      No   5   0\n",
            "      Yes  0   9\n",
            "Accuracy: 1 \n"
          ]
        }
      ]
    },
    {
      "cell_type": "markdown",
      "source": [
        "For a more robust evaluation, use cross-validation:"
      ],
      "metadata": {
        "id": "r9nS1VbvO1g4"
      }
    },
    {
      "cell_type": "code",
      "source": [
        "%%R\n",
        "# Perform 10-fold cross-validation\n",
        "model_cv <- C5.0(x = data[, c(\"Outlook\", \"Temperature\", \"Humidity\", \"Wind\")],\n",
        "                 y = data$Play,\n",
        "                 control = C5.0Control(CF = 0.25, minCases = 2),\n",
        "                 trials = 1,  # Single tree for CV\n",
        "                 cross = 10)  # 10-fold CV\n",
        "summary(model_cv)"
      ],
      "metadata": {
        "id": "oxhTZVpHas_g",
        "colab": {
          "base_uri": "https://localhost:8080/"
        },
        "outputId": "1b9f3381-79ef-49b8-cbe7-1b77979de5e1"
      },
      "execution_count": 17,
      "outputs": [
        {
          "output_type": "stream",
          "name": "stdout",
          "text": [
            "\n",
            "Call:\n",
            "C5.0.default(x = data[, c(\"Outlook\", \"Temperature\", \"Humidity\", \"Wind\")], y\n",
            " = data$Play, trials = 1, control = C5.0Control(CF = 0.25, minCases = 2),\n",
            " cross = 10)\n",
            "\n",
            "\n",
            "C5.0 [Release 2.07 GPL Edition]  \tMon Jun 16 15:29:19 2025\n",
            "-------------------------------\n",
            "\n",
            "Class specified by attribute `outcome'\n",
            "\n",
            "Read 14 cases (5 attributes) from undefined.data\n",
            "\n",
            "Decision tree:\n",
            "\n",
            "Outlook = Overcast: Yes (4)\n",
            "Outlook = Rain:\n",
            ":...Wind = Strong: No (2)\n",
            ":   Wind = Weak: Yes (3)\n",
            "Outlook = Sunny:\n",
            ":...Humidity = High: No (3)\n",
            "    Humidity = Normal: Yes (2)\n",
            "\n",
            "\n",
            "Evaluation on training data (14 cases):\n",
            "\n",
            "\t    Decision Tree   \n",
            "\t  ----------------  \n",
            "\t  Size      Errors  \n",
            "\n",
            "\t     5    0( 0.0%)   <<\n",
            "\n",
            "\n",
            "\t   (a)   (b)    <-classified as\n",
            "\t  ----  ----\n",
            "\t     5          (a): class No\n",
            "\t           9    (b): class Yes\n",
            "\n",
            "\n",
            "\tAttribute usage:\n",
            "\n",
            "\t100.00%\tOutlook\n",
            "\t 35.71%\tHumidity\n",
            "\t 35.71%\tWind\n",
            "\n",
            "\n",
            "Time: 0.0 secs\n",
            "\n"
          ]
        }
      ]
    },
    {
      "cell_type": "markdown",
      "source": [
        "### Make Predictions on New Data\n",
        "\n",
        "Predict the class for a new instance."
      ],
      "metadata": {
        "id": "wHOr115jO7A3"
      }
    },
    {
      "cell_type": "code",
      "source": [
        "%%R\n",
        "# Create a new instance\n",
        "new_instance <- data.frame(\n",
        "  Outlook = \"Sunny\",\n",
        "  Temperature = \"Hot\",\n",
        "  Humidity = \"High\",\n",
        "  Wind = \"Weak\"\n",
        ")\n",
        "\n",
        "# Ensure factors have the same levels as the training data\n",
        "new_instance$Outlook <- factor(new_instance$Outlook, levels = levels(data$Outlook))\n",
        "new_instance$Temperature <- factor(new_instance$Temperature, levels = levels(data$Temperature))\n",
        "new_instance$Humidity <- factor(new_instance$Humidity, levels = levels(data$Humidity))\n",
        "new_instance$Wind <- factor(new_instance$Wind, levels = levels(data$Wind))\n",
        "\n",
        "# Make prediction\n",
        "prediction <- predict(model, newdata = new_instance)\n",
        "cat(\"Prediction for new instance:\", as.character(prediction), \"\\n\")"
      ],
      "metadata": {
        "colab": {
          "base_uri": "https://localhost:8080/"
        },
        "id": "9ov_dCvIPFKV",
        "outputId": "db1e3472-6f4b-4ad1-c596-faecc73e5f44"
      },
      "execution_count": 18,
      "outputs": [
        {
          "output_type": "stream",
          "name": "stdout",
          "text": [
            "Prediction for new instance: No \n"
          ]
        }
      ]
    },
    {
      "cell_type": "markdown",
      "source": [
        "### Tune Model Parameters\n",
        "\n",
        "C5.0 supports parameters like boosting, pruning confidence, and rule sets."
      ],
      "metadata": {
        "id": "dSBh6d7EPAuR"
      }
    },
    {
      "cell_type": "code",
      "source": [
        "%%R\n",
        "# Train C5.0 with boosting and rule sets\n",
        "model_tuned <- C5.0(x = data[, c(\"Outlook\", \"Temperature\", \"Humidity\", \"Wind\")],\n",
        "                    y = data$Play,\n",
        "                    trials = 10,  # 10 boosting iterations\n",
        "                    rules = TRUE,  # Generate rule set instead of tree\n",
        "                      control = C5.0Control(CF = 0.1, minCases = 2))\n",
        "summary(model_tuned)"
      ],
      "metadata": {
        "id": "YpMIojGcbTwo",
        "colab": {
          "base_uri": "https://localhost:8080/"
        },
        "outputId": "232d074c-e443-42e7-af08-c434fb0a1d95"
      },
      "execution_count": 19,
      "outputs": [
        {
          "output_type": "stream",
          "name": "stdout",
          "text": [
            "\n",
            "Call:\n",
            "C5.0.default(x = data[, c(\"Outlook\", \"Temperature\", \"Humidity\", \"Wind\")], y\n",
            " = data$Play, trials = 10, rules = TRUE, control = C5.0Control(CF =\n",
            " 0.1, minCases = 2))\n",
            "\n",
            "\n",
            "C5.0 [Release 2.07 GPL Edition]  \tMon Jun 16 15:29:27 2025\n",
            "-------------------------------\n",
            "\n",
            "Class specified by attribute `outcome'\n",
            "\n",
            "Read 14 cases (5 attributes) from undefined.data\n",
            "\n",
            "-----  Trial 0:  -----\n",
            "\n",
            "Rules:\n",
            "\n",
            "Rule 0/1: (3, lift 2.2)\n",
            "\tOutlook = Sunny\n",
            "\tHumidity = High\n",
            "\t->  class No  [0.800]\n",
            "\n",
            "Rule 0/2: (2, lift 2.1)\n",
            "\tOutlook = Rain\n",
            "\tWind = Strong\n",
            "\t->  class No  [0.750]\n",
            "\n",
            "Rule 0/3: (4, lift 1.3)\n",
            "\tOutlook = Overcast\n",
            "\t->  class Yes  [0.833]\n",
            "\n",
            "Rule 0/4: (3, lift 1.2)\n",
            "\tOutlook = Rain\n",
            "\tWind = Weak\n",
            "\t->  class Yes  [0.800]\n",
            "\n",
            "Rule 0/5: (7/1, lift 1.2)\n",
            "\tHumidity = Normal\n",
            "\t->  class Yes  [0.778]\n",
            "\n",
            "Default class: Yes\n",
            "\n",
            "-----  Trial 1:  -----\n",
            "\n",
            "Rules:\n",
            "\n",
            "Rule 1/1: (6.3/0.8, lift 1.6)\n",
            "\tOutlook in {Rain, Sunny}\n",
            "\tWind = Strong\n",
            "\t->  class No  [0.787]\n",
            "\n",
            "Rule 1/2: (3.1, lift 1.6)\n",
            "\tOutlook = Overcast\n",
            "\t->  class Yes  [0.803]\n",
            "\n",
            "Rule 1/3: (6.2/1.5, lift 1.4)\n",
            "\tWind = Weak\n",
            "\t->  class Yes  [0.689]\n",
            "\n",
            "Default class: No\n",
            "\n",
            "-----  Trial 2:  -----\n",
            "\n",
            "Rules:\n",
            "\n",
            "Rule 2/1: (11.5/4, lift 1.2)\n",
            "\tOutlook in {Rain, Sunny}\n",
            "\t->  class No  [0.630]\n",
            "\n",
            "Rule 2/2: (2.5, lift 1.7)\n",
            "\tOutlook = Overcast\n",
            "\t->  class Yes  [0.776]\n",
            "\n",
            "Default class: No\n",
            "\n",
            "-----  Trial 3:  -----\n",
            "\n",
            "Rules:\n",
            "\n",
            "Rule 3/1: (3.2, lift 1.8)\n",
            "\tOutlook = Rain\n",
            "\tWind = Strong\n",
            "\t->  class No  [0.809]\n",
            "\n",
            "Rule 3/2: (3.2, lift 1.8)\n",
            "\tOutlook = Sunny\n",
            "\tHumidity = High\n",
            "\t->  class No  [0.806]\n",
            "\n",
            "Rule 3/3: (2.8, lift 1.5)\n",
            "\tOutlook = Sunny\n",
            "\tHumidity = Normal\n",
            "\t->  class Yes  [0.790]\n",
            "\n",
            "Rule 3/4: (2.7, lift 1.5)\n",
            "\tOutlook = Rain\n",
            "\tWind = Weak\n",
            "\t->  class Yes  [0.789]\n",
            "\n",
            "Rule 3/5: (2.1, lift 1.4)\n",
            "\tOutlook = Overcast\n",
            "\t->  class Yes  [0.756]\n",
            "\n",
            "Default class: Yes\n",
            "\n",
            "*** boosting reduced to 4 trials since last classifier is very accurate\n",
            "\n",
            "\n",
            "Evaluation on training data (14 cases):\n",
            "\n",
            "Trial\t        Rules     \n",
            "-----\t  ----------------\n",
            "\t    No      Errors\n",
            "\n",
            "   0\t     5    1( 7.1%)\n",
            "   1\t     3    3(21.4%)\n",
            "   2\t     2    5(35.7%)\n",
            "   3\t     5    0( 0.0%)\n",
            "boost\t          0( 0.0%)   <<\n",
            "\n",
            "\n",
            "\t   (a)   (b)    <-classified as\n",
            "\t  ----  ----\n",
            "\t     5          (a): class No\n",
            "\t           9    (b): class Yes\n",
            "\n",
            "\n",
            "\tAttribute usage:\n",
            "\n",
            "\t100.00%\tOutlook\n",
            "\t 85.71%\tWind\n",
            "\t 71.43%\tHumidity\n",
            "\n",
            "\n",
            "Time: 0.0 secs\n",
            "\n"
          ]
        }
      ]
    },
    {
      "cell_type": "markdown",
      "source": [
        "\n",
        "This shows rules derived from the data, with confidence scores.\n",
        "\n",
        "### Visualize the Model\n",
        "\n",
        "Visualize the decision tree using the `plot` function from the `C50` package."
      ],
      "metadata": {
        "id": "rMZZQ7j0PR5E"
      }
    },
    {
      "cell_type": "code",
      "source": [
        "%%R\n",
        "# Plot the decision tree\n",
        "plot(model)"
      ],
      "metadata": {
        "id": "thxpd8gJEmHK",
        "colab": {
          "base_uri": "https://localhost:8080/",
          "height": 497
        },
        "outputId": "dc4eaa3f-165b-47ce-89c6-efe8aeacc1db"
      },
      "execution_count": 20,
      "outputs": [
        {
          "output_type": "display_data",
          "data": {
            "image/png": "[encoded data removed]"
          },
          "metadata": {}
        }
      ]
    },
    {
      "cell_type": "markdown",
      "source": [
        "## Summary and Conclusion\n",
        "\n",
        "The C5.0 model is a powerful and efficient decision tree algorithm suitable for classification tasks. It offers several advantages over its predecessor, C4.5, including improved efficiency, support for boosting, and the ability to generate rule sets. The {C50} package in R provides a user-friendly interface for implementing C5.0 models, making it accessible for data scientists and machine learning practitioners. Thsi tutorial provided a step-by-step guide to installing the necessary packages, preparing a dataset, training a C5.0 model, evaluating its performance, and making predictions. The model's flexibility in handling categorical and continuous features, along with its advanced pruning techniques, makes it a valuable tool for various classification tasks.\n"
      ],
      "metadata": {
        "id": "p7HCJ0xeFL6g"
      }
    },
    {
      "cell_type": "markdown",
      "source": [
        "## References\n",
        "\n",
        "1. Quinlan, J. R. (1993). *C4.5: Programs for Machine Learning*. Morgan Kaufmann.\n",
        "   - Context for C5.0’s evolution from C4.5.\n",
        "2. Kuhn, M., & Quinlan, R. (2023). *C50: C5.0 Decision Trees and Rule-Based Models*. CRAN.\n",
        "   - Official `C50` package documentation: [CRAN C50](https://cran.r-project.org/web/packages/C50/C50.pdf).\n",
        "3. Witten, I. H., Frank, E., & Hall, M. A. (2016). *Data Mining: Practical Machine Learning Tools and Techniques*. Morgan Kaufmann.\n",
        "   - Covers decision trees and C5.0’s feature"
      ],
      "metadata": {
        "id": "KXHd8rAHFR2v"
      }
    }
  ]
}