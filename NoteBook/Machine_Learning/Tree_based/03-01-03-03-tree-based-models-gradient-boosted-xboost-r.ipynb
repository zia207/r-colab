{
  "nbformat": 4,
  "nbformat_minor": 0,
  "metadata": {
    "colab": {
      "provenance": [],
      "toc_visible": true,
      "authorship_tag": "ABX9TyN8IPeL2vRgBxo/us5TQTxM",
      "include_colab_link": true
    },
    "kernelspec": {
      "name": "python3",
      "display_name": "Python 3"
    },
    "language_info": {
      "name": "python"
    }
  },
  "cells": [
    {
      "cell_type": "markdown",
      "metadata": {
        "id": "view-in-github",
        "colab_type": "text"
      },
      "source": [
        "<a href=\"https://colab.research.google.com/github/zia207/r-colab/blob/main/NoteBook/Machine_Learning/Tree_based/03-01-03-03-tree-based-models-gradient-boosted-xboost-r.ipynb\" target=\"_parent\"><img src=\"https://colab.research.google.com/assets/colab-badge.svg\" alt=\"Open In Colab\"/></a>"
      ]
    },
    {
      "cell_type": "markdown",
      "source": [
        "![alt text](http://drive.google.com/uc?export=view&id=1bLQ3nhDbZrCCqy_WCxxckOne2lgVvn3l)"
      ],
      "metadata": {
        "id": "4qrItz_mJNWw"
      }
    },
    {
      "cell_type": "markdown",
      "source": [
        "# 3.3 Extreme Gradient Boosting (XGBoost)\n",
        "\n",
        "XGBoost (Extreme Gradient Boosting) is a scalable and efficient machine learning algorithm for supervised learning tasks, particularly effective for regression, classification, and ranking problems. It is an optimized implementation of gradient boosting, a method that builds an ensemble of weak prediction models (typically decision trees) in a sequential manner to produce a strong predictive model. XGBoost is widely used due to its high performance, flexibility, and ability to handle large datasets with missing values, regularization, and parallel processing. This notebook will provide an overview of XGBoost, explain how it works, and demonstrate how to implement it in R for classification and regression tasks.\n",
        "\n"
      ],
      "metadata": {
        "id": "Dzp9ZseROTcY"
      }
    },
    {
      "cell_type": "markdown",
      "source": [
        "## Overview\n",
        "\n",
        "XGBoost constructs a model by combining multiple decision trees, where each tree corrects the errors of the previous ones. It uses gradient boosting, which minimizes a loss function by iteratively adding trees, with each tree trained to predict the residuals (errors) of the prior ensemble. XGBoost enhances this process with additional features like regularization, second-order gradient optimization, and efficient handling of sparse data.\n"
      ],
      "metadata": {
        "id": "mLkAu88QToVr"
      }
    },
    {
      "cell_type": "markdown",
      "source": [
        "### Key Features of XGBoost\n",
        "\n",
        "- **Gradient Boosting Framework**: Combines weak learners (typically decision trees) into a strong predictive model.\n",
        "- **Optimization**: Uses advanced techniques like second-order gradient optimization (Newton boosting) for faster convergence.\n",
        "- **Regularization**: Includes L1 (Lasso) and L2 (Ridge) regularization to prevent overfitting.\n",
        "- **Parallelization**: Supports parallel and distributed computing for faster training.\n",
        "- **Handling Missing Data**: Automatically handles missing values by learning the best imputation strategy.\n",
        "- **Feature Importance**: Provides insights into feature importance for model interpretability.\n",
        "- **Flexibility**: Supports custom loss functions and evaluation metrics."
      ],
      "metadata": {
        "id": "WL2L7JRduO3P"
      }
    },
    {
      "cell_type": "markdown",
      "source": [
        "### How XGBoost Works\n",
        "\n",
        "XGBoost is based on the gradient boosting framework, which iteratively combines weak learners (typically decision trees) to form a strong predictive model. It optimizes a loss function while adding regularization to prevent overfitting. Below is a detailed explanation of how XGBoost works, including the key equations.\n",
        "\n",
        "1.  Objective Function\n",
        "\n",
        "The `objective function` is a mathematical expression that a model aims to minimize during training. It quantifies the model’s performance by combining a loss function, which measures prediction error, with a regularization term, which controls model complexity to prevent overfitting. In XGBoost, the objective function guides the construction of decision trees in the gradient boosting process.\n",
        "\n",
        "The core of XGBoost is to minimize an objective function that combines a loss function and a regularization term. For a dataset with $n$samples and $m$ features, the objective function at iteration $t$ is:\n",
        "\n",
        "$$ \\text{Obj}^{(t)} = \\sum_{i=1}^n l(y_i, \\hat{y}_i^{(t)}) + \\sum_{k=1}^t \\Omega(f_k) $$\n",
        "\n",
        "-   $l(y_i, \\hat{y}_i^{(t)})$: Loss function measuring the difference between the true label $y_i$ and the predicted value $\\hat{y}_i^{(t)}$.\n",
        "\n",
        "Common loss functions include:\n",
        "\n",
        "-   Mean Squared Error (MSE) for regression:\n",
        "\n",
        "$$ $l(y_i, \\hat{y}_i) = (y_i - \\hat{y}_i)^2 $$\n",
        "\n",
        "-   Log-loss for binary classification:\n",
        "\n",
        "$$ l(y_i, \\hat{y}_i) = -[y_i \\log(\\hat{y}_i) + (1-y_i) \\log(1-\\hat{y}_i)] $$\n",
        "\n",
        "-   $\\Omega(f_k)$: Regularization term for the $k$-th tree to penalize model complexity and prevent overfitting:\n",
        "\n",
        "$$ \\Omega(f_k) = \\gamma T + \\frac{1}{2} \\lambda \\sum_{j=1}^T w_j^2 $$\n",
        "\n",
        "-   $T$: Number of leaves in the tree.\n",
        "\n",
        "-   $w_j$: Weight (score) of the $j$-th leaf.\n",
        "\n",
        "-   $\\gamma$: Penalty for the number of leaves (controls tree size).\n",
        "\n",
        "-   $\\lambda$: L2 regularization parameter on leaf weights.\n",
        "\n",
        "2.  Additive Training\n",
        "\n",
        "XGBoost builds the model additively. At iteration $t$, the prediction for sample $i$ is:\n",
        "\n",
        "$$ \\hat{y}_i^{(t)} = \\hat{y}_i^{(t-1)} + \\eta f_t(x_i) $$\n",
        "\n",
        "-   $f_t(x_i)$: Output of the $t$-th tree for input $x_i$.\n",
        "\n",
        "-   $\\eta$: Learning rate (shrinkage factor) to scale the contribution of each tree.\n",
        "\n",
        "The goal is to find the tree $f_t$ that minimizes the objective function.\n",
        "\n",
        "3.  Second-Order Approximation\n",
        "\n",
        "To optimize the objective function, XGBoost uses a second-order Taylor approximation of the loss function. For a given sample ( i ), the loss function is approximated as:\n",
        "\n",
        "$$ l(y_i, \\hat{y}_i^{(t)}) \\approx l(y_i, \\hat{y}_i^{(t-1)}) + g_i f_t(x_i) + \\frac{1}{2} h_i f_t(x_i)^2 $$\n",
        "\n",
        "-   $g_i = \\partial_{\\hat{y}_i^{(t-1)}} l(y_i, \\hat{y}_i^{(t-1)})$: First-order gradient (gradient of the loss w.r.t. the prediction).\n",
        "\n",
        "-   $h_i = \\partial_{\\hat{y}_i^{(t-1)}}^2 l(y_i, \\hat{y}_i^{(t-1)})$: Second-order gradient (Hessian of the loss).\n",
        "\n",
        "The objective function becomes:\n",
        "\n",
        "$$ \\text{Obj}^{(t)} \\approx \\sum_{i=1}^n \\left[ g_i f_t(x_i) + \\frac{1}{2} h_i f_t(x_i)^2 \\right] + \\Omega(f_t) $$\n",
        "\n",
        "4.  Tree Structure Optimization\n",
        "\n",
        "Each tree partitions the data into leaves, and each leaf has a weight $w_j$. For a given tree structure, the optimal leaf weight for leaf $j$ is:\n",
        "\n",
        "$$ w_j^* = -\\frac{\\sum_{i \\in I_j} g_i}{\\sum_{i \\in I_j} h_i + \\lambda} $$\n",
        "\n",
        "-   $I_j$: Set of samples in leaf $j$.\n",
        "\n",
        "-   The corresponding objective value for the leaf is:\n",
        "\n",
        "$$ \\text{Obj}_j = -\\frac{1}{2} \\frac{(\\sum_{i \\in I_j} g_i)^2}{\\sum_{i \\in I_j} h_i + \\lambda} + \\gamma $$\n",
        "\n",
        "The algorithm greedily searches for the best split by maximizing the gain:\n",
        "\n",
        "$$ \\text{Gain} = \\frac{1}{2} \\left[ \\frac{(\\sum_{i \\in I_L} g_i)^2}{\\sum_{i \\in I_L} h_i + \\lambda} + \\frac{(\\sum_{i \\in I_R} g_i)^2}{\\sum_{i \\in I_R} h_i + \\lambda} - \\frac{(\\sum_{i \\in I} g_i)^2}{\\sum_{i \\in I} h_i + \\lambda} \\right] - \\gamma $$\n",
        "\n",
        "-   $I_L$, $I_R$: Left and right child nodes after a split.\n",
        "\n",
        "-   $I$: Parent node before the split."
      ],
      "metadata": {
        "id": "ENBS5aQpTVar"
      }
    },
    {
      "cell_type": "markdown",
      "source": [
        "Here below is a flowchart illustrating the XGBoost workflow:\n",
        "\n",
        "\n",
        "![alt text](http://drive.google.com/uc?export=view&id=1Dc3bkYebbiQG5D-q-LOG0BbDeATZliXn\n",
        ")\n",
        "\n",
        "\n",
        "\n",
        "\n",
        "\n",
        "\n"
      ],
      "metadata": {
        "id": "uWCTcHkzvHE2"
      }
    },
    {
      "cell_type": "markdown",
      "source": [
        "### Advantages of XGBoost\n",
        "\n",
        "1. `High Performance`: Consistently outperforms other algorithms in machine learning competitions (e.g., Kaggle) due to its accuracy and efficiency.\n",
        "2. `Scalability`: Handles large datasets efficiently through parallel processing and optimized memory usage.\n",
        "3. `Robustness to Overfitting`: Built-in regularization (L1 and L2) and tree pruning reduce overfitting compared to traditional gradient boosting.\n",
        "4. `Handles Diverse Data`: Works well with structured/tabular data, missing values, and categorical features (with preprocessing).\n",
        "5. `Flexibility`: Supports a wide range of tasks (classification, regression, ranking) and custom optimization objectives.\n",
        "6. `Feature Importance`: Provides clear insights into which features drive predictions, aiding interpretability.\n",
        "7. `Community and Ecosystem`: Widely used, with strong community support, extensive documentation, and integration with tools like scikit-learn and Spark."
      ],
      "metadata": {
        "id": "NuhrbXQxGIIy"
      }
    },
    {
      "cell_type": "markdown",
      "source": [
        "### Limitations of XGBoost\n",
        "\n",
        "1. `Complexity`: Requires careful hyperparameter tuning (e.g., learning rate, max depth, number of trees) to achieve optimal performance, which can be time-consuming.\n",
        "2. `Computational Cost`: Despite optimizations, training can be resource-intensive for very large datasets or deep trees compared to simpler models like linear regression.\n",
        "3. `Not Ideal for Unstructured Data`: Less effective for unstructured data (e.g., images, text) compared to deep learning models like neural networks.\n",
        "4. `Interpretability`: While feature importance is provided, the ensemble nature of many trees can make it harder to interpret compared to single decision trees or linear models.\n",
        "5. `Sensitivity to Noisy Data`: Can overfit on noisy datasets if not properly tuned or regularized.\n",
        "6. `Cold Start Problem`: Struggles with new or unseen data patterns unless retrained, unlike online learning algorithms.\n",
        "7. `Over-reliance on Tuning`: Performance heavily depends on hyperparameter optimization, which requires expertise or extensive grid search.\n"
      ],
      "metadata": {
        "id": "70UMhkxtGPsU"
      }
    },
    {
      "cell_type": "markdown",
      "source": [
        "### Key Tunable Hyperparameters in XGBoost\n",
        "\n",
        "1. General Parameters\n",
        "\n",
        "- `booste`: Type of learner (`gbtree`, `gblinear`, `dart`). Default: `gbtree`.\n",
        "\n",
        "2. Booster Parameters\n",
        "\n",
        "- `eta (learning_rate)`: Step size shrinkage (0.01–0.3). Default: 0.3.\n",
        "- `max_depth`: Max tree depth (3–10). Default: 6.\n",
        "- `min_child_weight`: Min sum of instance weights in a child (1–10). Default: 1.\n",
        "- `subsample`: Fraction of data sampled per tree (0.5–1). Default: 1.\n",
        "- `colsample_bytree`: Fraction of features per tree (0.5–1). Default: 1.\n",
        "- `colsample_bylevel`: Fraction of features per level (0.5–1). Default: 1.\n",
        "- `colsample_bynode`: Fraction of features per node (0.5–1). Default: 1.\n",
        "- `gamma*` Min loss reduction for a split (0–5). Default: 0.\n",
        "- `lambda (reg_lambda)`: L2 regularization on weights (0–10). Default: 1.\n",
        "- `alpha (reg_alpha)`: L1 regularization on weights (0–1). Default: 0.\n",
        "\n",
        "3. Training Parameters\n",
        "\n",
        "- `n_estimators (num_boost_round)`: Number of trees (100–1000). Default: 100.\n",
        "- `early_stopping_rounds`: Stops if no improvement (10–50). Default: None.\n",
        "\n",
        "4. Task-Specific Parameters\n",
        "\n",
        "- `objective`: Loss function (e.g., `reg:squarederror`, `binary:logistic`). Depends on task.\n",
        "- *`eval_metric`: Evaluation metric (e.g., `rmse`, `logloss`, `auc`). Matches objective.\n",
        "\n",
        "5. Tuning Tips\n",
        "\n",
        "- Start with defaults, adjust `eta`, `max_depth`, `subsample`, `colsample_bytree` first.\n",
        "- Use lower `eta` with more `n_estimators` for robustness.\n",
        "- Increase `gamma`, `lambda`, `alpha` to reduce overfitting.\n",
        "- Apply early stopping with a validation set.\n",
        "- Use grid search, random search, or Bayesian optimization (e.g., Optuna)."
      ],
      "metadata": {
        "id": "EEG0JrW9GQRV"
      }
    },
    {
      "cell_type": "markdown",
      "source": [
        "### Differences Between XGBoost, GBM, LightGBM, and Random Forest\n",
        "\n",
        "XGBoost, GBM (Gradient Boosting Machine), LightGBM, and Random Forest are all tree-based machine learning algorithms, but they differ in their approach, optimization techniques, and performance characteristics. Below is a detailed comparison of these algorithms, followed by a table summarizing their differences.\n",
        "\n",
        "Here’s a table summarizing the key differences across **GBM**, **XGBoost**, **LightGBM**, and **Random Forest**:\n",
        "\n",
        "| **Aspect**                  | **GBM**                                                                 | **XGBoost**                                                             | **LightGBM**                                                            | **Random Forest**                                                       |\n",
        "|-----------------------------|-------------------------------------------------------------------------|-------------------------------------------------------------------------|-------------------------------------------------------------------------|-------------------------------------------------------------------------|\n",
        "| `Algorithm Type`          | Gradient boosting (sequential tree building)                            | Optimized gradient boosting                                             | Gradient boosting with histogram-based optimization                     | Bagging-based ensemble of independent trees                            |\n",
        "| `Tree Construction`       | Sequential, additive (each tree corrects previous errors)               | Sequential, additive with regularization                                | Sequential, leaf-wise growth (splits best leaf)                        | Parallel, independent trees with bagging                               |\n",
        "| `Optimization`            | Gradient descent (first-order)                                          | Second-order gradient (Newton boosting) for faster convergence          | Gradient-based one-side sampling (GOSS) and histogram binning           | No gradient optimization; uses random feature subsets and bagging       |\n",
        "| `Speed`                   | Slower due to lack of parallelization and optimizations                 | Faster than GBM due to parallelization and caching                      | Faster than XGBoost for large datasets due to histogram-based approach  | Fast due to parallel tree construction, but no sequential optimization  |\n",
        "| `Memory Efficiency`       | Moderate to high memory usage                                           | Improved memory efficiency over GBM                                     | Highly memory-efficient due to histogram binning                        | Moderate to high, depending on number of trees                         |\n",
        "| `Regularization`          | Limited or none (depends on implementation)                            | L1 (Lasso) and L2 (Ridge) regularization to prevent overfitting         | L1 and L2 regularization, similar to XGBoost                            | No explicit regularization; relies on randomness and averaging          |\n",
        "| `Handling Missing Values` | Not natively supported (requires preprocessing)                        | Natively handles missing values by learning optimal split directions    | Natively handles missing values                                         | Not natively supported (requires imputation)                           |\n",
        "| `Scalability`             | Poor for large datasets due to sequential processing                    | Good scalability with parallel and distributed computing                | Excellent for large datasets due to histogram-based approach            | Good scalability due to parallel tree building                         |\n",
        "| `Categorical Features`    | Requires preprocessing (e.g., one-hot encoding)                         | Requires preprocessing, but handles sparse data well                    | Native support for categorical features (no encoding needed)            | Requires preprocessing (e.g., one-hot encoding)                         |\n",
        "| `Feature Importance`      | Supported, but less refined                                            | Detailed feature importance (gain, cover, frequency)                    | Detailed feature importance, similar to XGBoost                         | Feature importance based on Gini impurity or permutation importance     |\n",
        "| `Overfitting Control`     | Prone to overfitting without careful tuning                             | Strong control via regularization and early stopping                    | Strong control via regularization and efficient leaf-wise growth        | Less prone to overfitting due to bagging and random feature selection   |\n",
        "| `Interpretability`        | Moderate (complex due to sequential trees)                              | Moderate, but feature importance aids interpretability                  | Moderate, similar to XGBoost                                            | Relatively interpretable due to independent trees                      |\n",
        "|`Use Case Suitability`    | General-purpose, smaller datasets                                       | High-performance tasks (e.g., Kaggle competitions, tabular data)        | Large-scale datasets, high-dimensional data                            | General-purpose, robust for noisy data, tabular data                   |\n",
        "| `Implementation*`        | Available in scikit-learn, R, etc.                                      | Dedicated library (`xgboost`), integrates with scikit-learn, Spark      | Dedicated library (`lightgbm`), integrates with scikit-learn, Spark     | Available in scikit-learn, R, and other libraries                      |\n",
        "| `GPU Support`            | Limited or none (depends on implementation)                            | Supported for faster training                                           | Strong GPU support for large-scale training                            | Limited or no GPU support in most implementations                      |\n",
        "| `Hyperparameter Tuning`   | Moderate tuning complexity                                             | Extensive tuning (learning rate, max depth, etc.)                      | Moderate tuning, but fewer parameters than XGBoost                      | Simpler tuning (e.g., number of trees, max features)                   |\n",
        "| `Limitations`             | Slow, lacks advanced optimizations, no native missing value handling    | Requires tuning, less effective for unstructured data                   | May overfit with leaf-wise growth if not tuned properly                | Less accurate than boosting for complex patterns, no sequential learning|\n",
        "\n"
      ],
      "metadata": {
        "id": "a6b4S4mWSAyQ"
      }
    },
    {
      "cell_type": "markdown",
      "source": [
        "### Key Distinctions\n",
        "\n",
        "1. Boosting vs. Bagging\n",
        "\n",
        "   - GBM, XGBoost, and LightGBM use **boosting**, where trees are built sequentially to correct errors, making them more powerful for capturing complex patterns but prone to overfitting if not tuned.\n",
        "   - Random Forest uses **bagging**, building independent trees in parallel, which is faster and more robust to noise but may not capture intricate patterns as effectively.\n",
        "\n",
        "2. Optimization and Speed\n",
        "\n",
        "   - GBM is the slowest due to its basic implementation and lack of parallelization.\n",
        "   - XGBoost improves on GBM with parallel processing and second-order optimization.\n",
        "   - LightGBM is optimized for speed and memory efficiency, especially for large datasets, using histogram-based techniques and leaf-wise growth.\n",
        "   - Random Forest is fast due to parallel tree construction but lacks the iterative optimization of boosting methods.\n",
        "\n",
        "3. Scalability and Data Handling\n",
        "\n",
        "   - LightGBM excels with large, high-dimensional datasets due to its histogram-based approach and native categorical feature support.\n",
        "   - XGBoost is scalable but slightly less efficient than LightGBM for very large datasets.\n",
        "   - GBM struggles with large datasets due to its sequential nature.\n",
        "   - Random Forest scales well but requires preprocessing for missing values and categorical features.\n",
        "\n",
        "4. Overfitting and Robustness\n",
        "\n",
        "   - XGBoost and LightGBM include regularization to control overfitting, but their sequential nature makes them sensitive to noise if not tuned.\n",
        "   - Random Forest is inherently robust to overfitting due to bagging and randomness but may underperform on complex tasks.\n",
        "   - GBM is prone to overfitting without careful tuning or regularization.\n",
        "\n",
        "5. Use Cases\n",
        "\n",
        "   - `GBM`: Suitable for smaller datasets or when simplicity is preferred, but less common in modern applications.\n",
        "   - `XGBoost`: Widely used in competitions and tabular data tasks requiring high accuracy (e.g., finance, healthcare).\n",
        "   - `LightGBM`: Preferred for large-scale datasets, such as in big data environments or real-time applications.\n",
        "   - `Random Forest`: Ideal for quick prototyping, noisy data, or when interpretability and robustness are prioritized.\n"
      ],
      "metadata": {
        "id": "LKRKhCnskRNu"
      }
    },
    {
      "cell_type": "markdown",
      "source": [
        "## Setup R in Python Runtype"
      ],
      "metadata": {
        "id": "CyOope_pwUVr"
      }
    },
    {
      "cell_type": "markdown",
      "source": [
        "### Install {rpy2}\n",
        "\n",
        "{rpy2} is a Python package that provides an interface to the R programming language, allowing Python users to run R code, call R functions, and manipulate R objects directly from Python. It enables seamless integration between Python and R, leveraging R's statistical and graphical capabilities while using Python's flexibility. The package supports passing data between the two languages and is widely used for statistical analysis, data visualization, and machine learning tasks that benefit from R's specialized libraries."
      ],
      "metadata": {
        "id": "SDp3ULld8Gb9"
      }
    },
    {
      "cell_type": "code",
      "source": [
        "!pip uninstall rpy2 -y\n",
        "!pip install rpy2==3.5.1\n",
        "%load_ext rpy2.ipython"
      ],
      "metadata": {
        "id": "CiM6y-Mw8AJp",
        "colab": {
          "base_uri": "https://localhost:8080/"
        },
        "outputId": "90147ae4-9b65-43aa-9337-0e9078bded4f"
      },
      "execution_count": null,
      "outputs": [
        {
          "output_type": "stream",
          "name": "stdout",
          "text": [
            "Found existing installation: rpy2 3.5.17\n",
            "Uninstalling rpy2-3.5.17:\n",
            "  Successfully uninstalled rpy2-3.5.17\n",
            "Collecting rpy2==3.5.1\n",
            "  Downloading rpy2-3.5.1.tar.gz (201 kB)\n",
            "\u001b[2K     \u001b[90m━━━━━━━━━━━━━━━━━━━━━━━━━━━━━━━━━━━━━━━\u001b[0m \u001b[32m201.7/201.7 kB\u001b[0m \u001b[31m1.0 MB/s\u001b[0m eta \u001b[36m0:00:00\u001b[0m\n",
            "\u001b[?25h  Preparing metadata (setup.py) ... \u001b[?25l\u001b[?25hdone\n",
            "Requirement already satisfied: cffi>=1.10.0 in /usr/local/lib/python3.11/dist-packages (from rpy2==3.5.1) (1.17.1)\n",
            "Requirement already satisfied: jinja2 in /usr/local/lib/python3.11/dist-packages (from rpy2==3.5.1) (3.1.6)\n",
            "Requirement already satisfied: pytz in /usr/local/lib/python3.11/dist-packages (from rpy2==3.5.1) (2025.2)\n",
            "Requirement already satisfied: tzlocal in /usr/local/lib/python3.11/dist-packages (from rpy2==3.5.1) (5.3.1)\n",
            "Requirement already satisfied: pycparser in /usr/local/lib/python3.11/dist-packages (from cffi>=1.10.0->rpy2==3.5.1) (2.22)\n",
            "Requirement already satisfied: MarkupSafe>=2.0 in /usr/local/lib/python3.11/dist-packages (from jinja2->rpy2==3.5.1) (3.0.2)\n",
            "Building wheels for collected packages: rpy2\n",
            "  Building wheel for rpy2 (setup.py) ... \u001b[?25l\u001b[?25hdone\n",
            "  Created wheel for rpy2: filename=rpy2-3.5.1-cp311-cp311-linux_x86_64.whl size=314976 sha256=2e13201d406d9d6191f3b10476c47d4a7cdb0413940e5e772f2bc7552774a6a3\n",
            "  Stored in directory: /root/.cache/pip/wheels/e9/55/d1/47be85a5f3f1e1f4d1e91cb5e3a4dcb40dd72147f184c5a5ef\n",
            "Successfully built rpy2\n",
            "Installing collected packages: rpy2\n",
            "Successfully installed rpy2-3.5.1\n"
          ]
        }
      ]
    },
    {
      "cell_type": "markdown",
      "source": [
        "### Mount Google Drive"
      ],
      "metadata": {
        "id": "O1zeuaCowiBt"
      }
    },
    {
      "cell_type": "code",
      "source": [
        "from google.colab import drive\n",
        "drive.mount('/content/drive')"
      ],
      "metadata": {
        "colab": {
          "base_uri": "https://localhost:8080/"
        },
        "id": "9J-4ie4bwiJ1",
        "outputId": "7fbcb3de-1494-450b-9e3b-865a156479a6"
      },
      "execution_count": null,
      "outputs": [
        {
          "output_type": "stream",
          "name": "stdout",
          "text": [
            "Mounted at /content/drive\n"
          ]
        }
      ]
    },
    {
      "cell_type": "markdown",
      "source": [
        "\n",
        "## Extreme Gradient Boosting from Scratch\n",
        "\n",
        "Fitting an `XGBoost` model manually without using R packages like {xgboost} is a complex task because XGBoost relies on optimized implementations for gradient boosting, tree construction, and parallel processing. However, it’s possible to implement a simplified version of the XGBoost algorithm from scratch in R by following its core principles: gradient boosting with decision trees, second-order gradient optimization, and regularization. This requires manually coding the tree construction, gradient and Hessian calculations, and the objective function optimization, which is computationally intensive and less efficient than the optimized {xgboost} package. Below, I’ll explain how to implement a basic version of XGBoost for regression, focusing on the mathematical framework and providing R code without external packages. The explanation will include equations and a step-by-step process to make it clear."
      ],
      "metadata": {
        "id": "ztl1QBDb4MYe"
      }
    },
    {
      "cell_type": "markdown",
      "source": [
        "### Data Generation\n",
        "\n",
        "- Generates synthetic data: 100 samples with 2 features (X).\n",
        "- Regression target: `y_reg = 3*X1 + 2*X2 + noise`.\n",
        "- Classification target: `y_class = 1 if X1 + X2 > 1, else 0`.\n",
        "\n",
        "\n",
        "\n",
        "\n"
      ],
      "metadata": {
        "id": "lP2lCzFHBUip"
      }
    },
    {
      "cell_type": "code",
      "source": [
        "%%R\n",
        "# Data Generation\n",
        "set.seed(123)\n",
        "n <- 100\n",
        "X <- matrix(runif(n * 2), ncol = 2)  # 2 features\n",
        "y_reg <- 3 * X[, 1] + 2 * X[, 2] + rnorm(n, 0, 0.1)  # Regression target\n",
        "y_class <- as.integer(X[, 1] + X[, 2] > 1)  # Classification target (0 or 1)"
      ],
      "metadata": {
        "id": "aTjVIV5ZBW96"
      },
      "execution_count": null,
      "outputs": []
    },
    {
      "cell_type": "markdown",
      "source": [
        "### Initialization and Parameters\n",
        "\n",
        "- Sets hyperparameters: `n_trees=10`, `eta=0.1`, `max_depth=3`, `min_child_weight=1`, `lambda=1`, `gamma=0.`\n",
        "- Initializes predictions to 0 (regression) or 0.5 (classification).\n"
      ],
      "metadata": {
        "id": "fwIhiSZNCO9N"
      }
    },
    {
      "cell_type": "code",
      "source": [
        "%%R\n",
        "# Initialization and Parameters\n",
        "n_trees <- 10\n",
        "eta <- 0.1\n",
        "max_depth <- 3\n",
        "min_child_weight <- 1\n",
        "lambda <- 1\n",
        "gamma <- 0\n",
        "\n",
        "# Loss functions\n",
        "mse_loss <- function(y, pred) (y - pred)^2\n",
        "logloss <- function(y, pred) {\n",
        "  pred <- pmin(pmax(pred, 1e-15), 1 - 1e-15)  # Avoid log(0)\n",
        "  -y * log(pred) - (1 - y) * log(1 - pred)\n",
        "}"
      ],
      "metadata": {
        "id": "vYPiX59GCiTY"
      },
      "execution_count": null,
      "outputs": []
    },
    {
      "cell_type": "markdown",
      "source": [
        "### Gradient and Hessian Calculation\n",
        "\n",
        "To compute the `gradients` and `Hessian`s for regression and classification tasks, we define a function that calculates these values based on the predictions and true labels. The gradients represent the first derivative of the loss function, while the Hessians represent the second derivative."
      ],
      "metadata": {
        "id": "8aFvX9PX6t7N"
      }
    },
    {
      "cell_type": "code",
      "source": [
        "%%R\n",
        "# Gradient and Hessian Calculation\n",
        "compute_grad_hess <- function(y, pred, task = \"regression\") {\n",
        "  if (task == \"regression\") {\n",
        "    list(grad = 2 * (pred - y), hess = rep(2, length(y)))\n",
        "  } else {\n",
        "    pred <- pmin(pmax(pred, 1e-15), 1 - 1e-15)  # Stabilize for classification\n",
        "    list(grad = (pred - y) / (pred * (1 - pred)), hess = 1 / (pred * (1 - pred)))\n",
        "  }\n",
        "}"
      ],
      "metadata": {
        "id": "foG5zY1Kcbe9"
      },
      "execution_count": null,
      "outputs": []
    },
    {
      "cell_type": "markdown",
      "source": [
        "### Finding the Best Split\n",
        "\n",
        "To find the best split for a given feature, we iterate through unique values of that feature and calculate the gain from splitting the data at each value. The gain is computed using the gradients and Hessians for the left and right splits, following the XGBoost formula. Applies `min_child_weight`, `lambda`, and `gamma` to control splits.\n",
        "\n",
        "\n"
      ],
      "metadata": {
        "id": "VPJv1wf3xLmp"
      }
    },
    {
      "cell_type": "code",
      "source": [
        "%%R\n",
        "# Finding the Best Split\n",
        "find_best_split <- function(X, grad, hess, feature_idx, min_child_weight, lambda, gamma) {\n",
        "  n <- nrow(X)\n",
        "  values <- sort(unique(X[, feature_idx]))\n",
        "  best_gain <- -Inf\n",
        "  best_split <- NULL\n",
        "  total_G <- sum(grad)\n",
        "  total_H <- sum(hess)\n",
        "\n",
        "  for (val in values[-length(values)]) {\n",
        "    left_idx <- which(X[, feature_idx] <= val)\n",
        "    right_idx <- which(X[, feature_idx] > val)\n",
        "\n",
        "    if (length(left_idx) == 0 || length(right_idx) == 0) next\n",
        "\n",
        "    G_left <- sum(grad[left_idx])\n",
        "    H_left <- sum(hess[left_idx])\n",
        "    G_right <- total_G - G_left\n",
        "    H_right <- total_H - H_left\n",
        "\n",
        "    if (H_left < min_child_weight || H_right < min_child_weight) next\n",
        "\n",
        "    gain <- 0.5 * ((G_left^2 / (H_left + lambda)) + (G_right^2 / (H_right + lambda)) -\n",
        "                   (total_G^2 / (total_H + lambda))) - gamma\n",
        "\n",
        "    if (gain > best_gain) {\n",
        "      best_gain <- gain\n",
        "      best_split <- list(feature = feature_idx, value = val, gain = gain)\n",
        "    }\n",
        "  }\n",
        "  best_split\n",
        "}"
      ],
      "metadata": {
        "id": "aSuBBDLKDHML"
      },
      "execution_count": null,
      "outputs": []
    },
    {
      "cell_type": "markdown",
      "source": [
        "### Building the Decision Tree\n",
        "\n",
        "To build the decision tree, we recursively split the data based on the best splits found in the previous step. The tree construction continues until reaching the maximum depth or when no further splits improve the gain. Each leaf node is assigned a weight based on the gradients and Hessians of the samples in that leaf. Computes optimal leaf weights: `-sum(grad)/(sum(hess) + lambda)`."
      ],
      "metadata": {
        "id": "tzQKJ-urbCtn"
      }
    },
    {
      "cell_type": "code",
      "source": [
        "%%R\n",
        "# Building the Decision Tree\n",
        "build_tree <- function(X, grad, hess, depth, max_depth, min_child_weight, lambda, gamma) {\n",
        "  if (depth >= max_depth || nrow(X) < 2) {\n",
        "    w <- -sum(grad) / (sum(hess) + lambda)\n",
        "    return(list(leaf = TRUE, weight = w))\n",
        "  }\n",
        "\n",
        "  best_split <- NULL\n",
        "  best_gain <- -Inf\n",
        "  for (feature_idx in 1:ncol(X)) {\n",
        "    split <- find_best_split(X, grad, hess, feature_idx, min_child_weight, lambda, gamma)\n",
        "    if (!is.null(split) && split$gain > best_gain) {\n",
        "      best_gain <- split$gain\n",
        "      best_split <- split\n",
        "    }\n",
        "  }\n",
        "\n",
        "  if (is.null(best_split) || best_gain <= 0) {\n",
        "    w <- -sum(grad) / (sum(hess) + lambda)\n",
        "    return(list(leaf = TRUE, weight = w))\n",
        "  }\n",
        "\n",
        "  left_idx <- which(X[, best_split$feature] <= best_split$value)\n",
        "  right_idx <- which(X[, best_split$feature] > best_split$value)\n",
        "\n",
        "  left_subtree <- build_tree(X[left_idx, , drop = FALSE], grad[left_idx], hess[left_idx],\n",
        "                            depth + 1, max_depth, min_child_weight, lambda, gamma)\n",
        "  right_subtree <- build_tree(X[right_idx, , drop = FALSE], grad[right_idx], hess[right_idx],\n",
        "                             depth + 1, max_depth, min_child_weight, lambda, gamma)\n",
        "\n",
        "  list(leaf = FALSE, feature = best_split$feature, value = best_split$value,\n",
        "       left = left_subtree, right = right_subtree)\n",
        "}"
      ],
      "metadata": {
        "id": "Z8mxvvBkbGBc"
      },
      "execution_count": null,
      "outputs": []
    },
    {
      "cell_type": "markdown",
      "source": [
        "### Predicting with the Tree\n",
        "\n",
        "To make predictions with the decision tree, we traverse the tree based on the feature values of the input data. If we reach a leaf node, we return the weight assigned to that leaf. This function recursively checks the feature value against the split value to navigate through the tree. Applies sigmoid transformation for classification predictions."
      ],
      "metadata": {
        "id": "OFCR0x3ZbLAS"
      }
    },
    {
      "cell_type": "code",
      "source": [
        "%%R\n",
        "# Predicting with the Tree\n",
        "predict_tree <- function(tree, x) {\n",
        "  if (tree$leaf) return(tree$weight)\n",
        "  if (x[tree$feature] <= tree$value) {\n",
        "    predict_tree(tree$left, x)\n",
        "  } else {\n",
        "    predict_tree(tree$right, x)\n",
        "  }\n",
        "}"
      ],
      "metadata": {
        "id": "5DqGjw3RbLyH"
      },
      "execution_count": null,
      "outputs": []
    },
    {
      "cell_type": "markdown",
      "source": [
        "### Main Boosting Loop\n",
        "\n",
        "The main boosting loop iterates through the number of trees to be built. In each iteration, it computes the gradients and Hessians for the current predictions, builds a decision tree based on these values, and updates the predictions by adding the tree's output scaled by the learning rate (`eta`). The predictions are updated for both regression (direct addition) and classification (applying a sigmoid function)."
      ],
      "metadata": {
        "id": "okobJFvfbTzD"
      }
    },
    {
      "cell_type": "code",
      "source": [
        "%%R\n",
        "# Main Boosting Loop\n",
        "xgboost_train <- function(X, y, n_trees, eta, max_depth, min_child_weight, lambda, gamma, task = \"regression\") {\n",
        "  n <- nrow(X)\n",
        "  pred <- rep(ifelse(task == \"regression\", 0, 0.5), n)\n",
        "  trees <- list()\n",
        "\n",
        "  for (t in 1:n_trees) {\n",
        "    gh <- compute_grad_hess(y, pred, task)\n",
        "    tree <- build_tree(X, gh$grad, gh$hess, 0, max_depth, min_child_weight, lambda, gamma)\n",
        "    trees[[t]] <- tree\n",
        "\n",
        "    for (i in 1:n) {\n",
        "      pred[i] <- pred[i] + eta * predict_tree(tree, X[i, ])\n",
        "      if (task == \"classification\") pred[i] <- 1 / (1 + exp(-pred[i]))  # Sigmoid\n",
        "    }\n",
        "  }\n",
        "\n",
        "  list(trees = trees, pred = pred, task = task)\n",
        "}"
      ],
      "metadata": {
        "id": "eClvfwtHbUoD"
      },
      "execution_count": null,
      "outputs": []
    },
    {
      "cell_type": "markdown",
      "source": [
        "### Final Prediction and Evaluation\n",
        "\n",
        "- Predicts using the ensemble of trees.\n",
        "- Evaluates regression with `MSE` and classification with `log-loss` and `accuracy`.\n"
      ],
      "metadata": {
        "id": "xJhzNiflbZ7C"
      }
    },
    {
      "cell_type": "code",
      "source": [
        "%%R\n",
        "# Final Prediction and Evaluation\n",
        "predict_xgboost <- function(model, X) {\n",
        "  n <- nrow(X)\n",
        "  pred <- rep(ifelse(model$task == \"regression\", 0, 0.5), n)\n",
        "\n",
        "  for (tree in model$trees) {\n",
        "    for (i in 1:n) {\n",
        "      pred[i] <- pred[i] + eta * predict_tree(tree, X[i, ])\n",
        "      if (model$task == \"classification\") pred[i] <- 1 / (1 + exp(-pred[i]))\n",
        "    }\n",
        "  }\n",
        "  pred\n",
        "}\n",
        "\n",
        "# Evaluation Metrics\n",
        "mse <- function(y_true, y_pred) mean((y_true - y_pred)^2)\n",
        "logloss_eval <- function(y_true, y_pred) {\n",
        "  y_pred <- pmin(pmax(y_pred, 1e-15), 1 - 1e-15)\n",
        "  mean(-y_true * log(y_pred) - (1 - y_true) * log(1 - y_pred))\n",
        "}\n",
        "accuracy <- function(y_true, y_pred) mean(y_true == (y_pred > 0.5))"
      ],
      "metadata": {
        "id": "UPgnmNq7bgpj"
      },
      "execution_count": null,
      "outputs": []
    },
    {
      "cell_type": "markdown",
      "source": [
        "### Train and Evaluate Regression Model\n"
      ],
      "metadata": {
        "id": "zd78Wrt6bk6d"
      }
    },
    {
      "cell_type": "code",
      "source": [
        "%%R\n",
        "# Train and evaluate regression model\n",
        "model_reg <- xgboost_train(X, y_reg, n_trees, eta, max_depth, min_child_weight, lambda, gamma, task = \"regression\")\n",
        "pred_reg <- predict_xgboost(model_reg, X)\n",
        "mse_reg <- mse(y_reg, pred_reg)\n",
        "cat(\"Regression MSE:\", mse_reg, \"\\n\")"
      ],
      "metadata": {
        "colab": {
          "base_uri": "https://localhost:8080/"
        },
        "id": "1MCBol9qbloE",
        "outputId": "729a1148-a1c7-4ae3-ec29-4e4d3bdc48a6"
      },
      "execution_count": null,
      "outputs": [
        {
          "output_type": "stream",
          "name": "stdout",
          "text": [
            "Regression MSE: 1.003863 \n"
          ]
        }
      ]
    },
    {
      "cell_type": "markdown",
      "source": [
        "### Train and Evaluate Classification Model"
      ],
      "metadata": {
        "id": "CtuWG-OJbukf"
      }
    },
    {
      "cell_type": "code",
      "source": [
        "%%R\n",
        "# Train and evaluate classification model\n",
        "model_class <- xgboost_train(X, y_class, n_trees, eta, max_depth, min_child_weight, lambda, gamma, task = \"classification\")\n",
        "pred_class <- predict_xgboost(model_class, X)\n",
        "logloss_class <- logloss_eval(y_class, pred_class)\n",
        "acc_class <- accuracy(y_class, pred_class)\n",
        "cat(\"Classification Log-loss:\", logloss_class, \"\\n\")\n",
        "cat(\"Classification Accuracy:\", acc_class, \"\\n\")"
      ],
      "metadata": {
        "colab": {
          "base_uri": "https://localhost:8080/"
        },
        "id": "x0r8G-cJbux5",
        "outputId": "6bcd1a05-06a5-46c5-aee0-34e28a4466a4"
      },
      "execution_count": null,
      "outputs": [
        {
          "output_type": "stream",
          "name": "stdout",
          "text": [
            "Classification Log-loss: 0.7281187 \n",
            "Classification Accuracy: 0.48 \n"
          ]
        }
      ]
    },
    {
      "cell_type": "markdown",
      "source": [
        "## Extreme Gradient Boosting with R\n",
        "\n",
        "The `{xgboost}` package in R is an optimized implementation of the XGBoost (eXtreme Gradient Boosting) algorithm, a powerful and efficient machine learning method for supervised learning tasks like regression, classification, and ranking. It’s widely used for its high performance, scalability, and ability to handle complex datasets, making it a go-to tool for predicting outcomes. Below is a concise overview of the `{xgboost}` package, covering its purpose, key features, functionality, and how it can be applied to classification and regression problems.\n",
        "\n",
        "Key Features of `{xgboost}`:\n",
        "\n",
        "1.  `Gradient Boosting`:\n",
        "    -   Builds sequential decision trees, each correcting errors of the previous ones, using gradient descent to minimize a loss function.\n",
        "    -   Supports second-order gradient optimization (Hessian) for faster convergence.\n",
        "2.  `Objective Functions`:\n",
        "    -   Supports various tasks:\n",
        "        -   Regression: `reg:squarederror` (MSE), `reg:linear` (deprecated).\n",
        "        -   Classification: `binary:logistic`, `multi:softmax`, `multi:softprob`.\n",
        "        -   Ranking: `rank:pairwise`.\n",
        "    -   Custom objectives can be defined.\n",
        "3.  `Regularization`:\n",
        "    -   L1 (`alpha`) and L2 (`lambda`) penalties on leaf weights.\n",
        "    -   Minimum child weight and maximum depth to control tree complexity.\n",
        "    -   Gamma penalty for adding leaves.\n",
        "4.  `Performance Optimization`:\n",
        "    -   Parallel tree construction using multiple CPU cores.\n",
        "    -   Approximate split finding for large datasets.\n",
        "    -   Handles missing values automatically.\n",
        "5.  `Flexibility`:\n",
        "    -   Supports sparse data, categorical variables (via encoding), and custom evaluation metrics.\n",
        "    -   Cross-validation and early stopping for optimal iterations.\n",
        "\n",
        "Key Functions in `{xgboost}` are:\n",
        "\n",
        "-   `xgb.DMatrix()`: Creates a data matrix optimized for XGBoost, handling numeric and categorical data efficiently.\n",
        "-   `xgb.train()`: Trains the model with customizable parameters (e.g., `max.depth`, `eta`, `nrounds`).\n",
        "-   `xgb.cv()`: Performs k-fold cross-validation to tune hyperparameters.\n",
        "-   `xgb.importance()`: Computes feature importance based on gain, frequency, or cover.\n",
        "-   `predict()`: Generates predictions for new data.\n",
        "-   `xgb.save/load{}`: Saves and loads models for reuse.\n"
      ],
      "metadata": {
        "id": "n5Z1SpIUbgLy"
      }
    },
    {
      "cell_type": "markdown",
      "source": [
        "### Check amd Install Required R Packages\n",
        "\n",
        "Following R packages are required to run this notebook. If any of these packages are not installed, you can install them using the code below:"
      ],
      "metadata": {
        "id": "yXu-XY0mw1A8"
      }
    },
    {
      "cell_type": "code",
      "source": [
        "%%R\n",
        "packages <- c('tidyverse',\n",
        "              'plyr',\n",
        "              'xgboost',\n",
        "              'Metrics',\n",
        "              'fastDummies',\n",
        "              'ggpmisc'\n",
        "\n",
        "         )"
      ],
      "metadata": {
        "id": "TeYB57l0wz5N"
      },
      "execution_count": null,
      "outputs": []
    },
    {
      "cell_type": "markdown",
      "source": [
        "### Install Missing Packages"
      ],
      "metadata": {
        "id": "q7NH-51RYeIk"
      }
    },
    {
      "cell_type": "code",
      "source": [
        "%%R\n",
        "# Install missing packages\n",
        "new.packages <- packages[!(packages %in% installed.packages(lib='drive/My Drive/R/')[,\"Package\"])]\n",
        "if(length(new.packages)) install.packages(new.packages, lib='drive/My Drive/R/')"
      ],
      "metadata": {
        "id": "a0aTMYTHAraZ"
      },
      "execution_count": null,
      "outputs": []
    },
    {
      "cell_type": "markdown",
      "source": [
        "### Verify Installation"
      ],
      "metadata": {
        "id": "Ah43eXWcYfpA"
      }
    },
    {
      "cell_type": "code",
      "source": [
        "%%R\n",
        "# set library path\n",
        ".libPaths('drive/My Drive/R')\n",
        "# Verify installation\n",
        "cat(\"Installed packages:\\n\")\n",
        "print(sapply(packages, requireNamespace, quietly = TRUE))"
      ],
      "metadata": {
        "colab": {
          "base_uri": "https://localhost:8080/"
        },
        "id": "R9hpg7qnArfh",
        "outputId": "9cd856c3-9e7d-4e49-b68e-de988ef0af75"
      },
      "execution_count": null,
      "outputs": [
        {
          "output_type": "stream",
          "name": "stdout",
          "text": [
            "Installed packages:\n"
          ]
        },
        {
          "output_type": "stream",
          "name": "stderr",
          "text": [
            "WARNING:rpy2.rinterface_lib.callbacks:R[write to console]: Registered S3 methods overwritten by 'ggpp':\n",
            "  method                  from   \n",
            "  heightDetails.titleGrob ggplot2\n",
            "  widthDetails.titleGrob  ggplot2\n",
            "\n"
          ]
        },
        {
          "output_type": "stream",
          "name": "stdout",
          "text": [
            "  tidyverse        plyr     xgboost     Metrics fastDummies     ggpmisc \n",
            "       TRUE        TRUE        TRUE        TRUE        TRUE        TRUE \n"
          ]
        }
      ]
    },
    {
      "cell_type": "markdown",
      "source": [
        "### Load R Packages"
      ],
      "metadata": {
        "id": "MV7R29xfyWQz"
      }
    },
    {
      "cell_type": "code",
      "source": [
        "%%R\n",
        "# set library path\n",
        ".libPaths('drive/My Drive/R')\n",
        "# Load packages with suppressed messages\n",
        "invisible(lapply(packages, function(pkg) {\n",
        "  suppressPackageStartupMessages(library(pkg, character.only = TRUE))\n",
        "}))"
      ],
      "metadata": {
        "id": "232jNAHBykUL"
      },
      "execution_count": null,
      "outputs": []
    },
    {
      "cell_type": "markdown",
      "source": [
        "### Check Loaded Packages"
      ],
      "metadata": {
        "id": "ULxgK067YntF"
      }
    },
    {
      "cell_type": "code",
      "source": [
        "%%R\n",
        "# Check loaded packages\n",
        "cat(\"Successfully loaded packages:\\n\")\n",
        "print(search()[grepl(\"package:\", search())])# Check loaded packageswer)"
      ],
      "metadata": {
        "colab": {
          "base_uri": "https://localhost:8080/"
        },
        "id": "mcAOZzmSYk4n",
        "outputId": "bc6a5fbb-d429-42f7-8902-621e61b1d0e3"
      },
      "execution_count": null,
      "outputs": [
        {
          "output_type": "stream",
          "name": "stdout",
          "text": [
            "Successfully loaded packages:\n",
            " [1] \"package:ggpmisc\"     \"package:ggpp\"        \"package:fastDummies\"\n",
            " [4] \"package:Metrics\"     \"package:xgboost\"     \"package:plyr\"       \n",
            " [7] \"package:lubridate\"   \"package:forcats\"     \"package:stringr\"    \n",
            "[10] \"package:dplyr\"       \"package:purrr\"       \"package:readr\"      \n",
            "[13] \"package:tidyr\"       \"package:tibble\"      \"package:ggplot2\"    \n",
            "[16] \"package:tidyverse\"   \"package:tools\"       \"package:stats\"      \n",
            "[19] \"package:graphics\"    \"package:grDevices\"   \"package:utils\"      \n",
            "[22] \"package:datasets\"    \"package:methods\"     \"package:base\"       \n"
          ]
        }
      ]
    },
    {
      "cell_type": "markdown",
      "source": [
        "### Regression with XGBoost\n",
        "\n",
        "This section of tutorial will focus on using the XGBoost package to perform regression analysis. We will load the dataset, preprocess it, and then fit an XGBoost model for regression. The dataset will be split into training and testing sets, and we will evaluate the model's performance using RMSE (Root Mean Squared Error)."
      ],
      "metadata": {
        "id": "QabVFLr5jgrD"
      }
    },
    {
      "cell_type": "markdown",
      "source": [
        "#### Data and Data Preparation\n",
        "\n"
      ],
      "metadata": {
        "id": "rSJqB05rO5ES"
      }
    },
    {
      "cell_type": "code",
      "execution_count": null,
      "metadata": {
        "id": "CFpt_H01OPsa"
      },
      "outputs": [],
      "source": [
        "%%R\n",
        "# Load Boston Housing dataset\n",
        "data(\"Boston\", package = \"MASS\")\n",
        "\n",
        "# Create a data frame with selected variables\n",
        "df <- Boston %>%\n",
        "  dplyr::select(medv, crim, zn, indus, chas, nox, rm, age, dis, rad, tax, ptratio, black, lstat)\n",
        "\n",
        "# Convert to matrix (assuming 'me' was a typo; no mean calculation needed here)\n",
        "m <- as.matrix(df)\n",
        "\n",
        "# Split the dataset into training and testing sets\n",
        "set.seed(123)  # For reproducibility\n",
        "indices <- sample(1:nrow(df), size = 0.75 * nrow(df))\n",
        "train <- m[indices, ]\n",
        "test <- m[-indices, ]\n"
      ]
    },
    {
      "cell_type": "markdown",
      "source": [
        "#### Load the train and test data into the xgboost dataset object\n",
        "\n",
        "The train and test datasets are converted into `xgb.DMatrix` objects, which are optimized data structures for XGBoost. This step is crucial for efficient training and prediction."
      ],
      "metadata": {
        "id": "UPiv_OTsmKB1"
      }
    },
    {
      "cell_type": "code",
      "source": [
        "%%R\n",
        "# Define predictor and response variables in training set\n",
        "train_x <- data.matrix(train[, -1])  # All columns except medv\n",
        "train_y <- train[, 1]               # medv column\n",
        "\n",
        "# Define predictor and response variables in testing set\n",
        "test_x <- data.matrix(test[, -1])\n",
        "test_y <- test[, 1]\n",
        "\n",
        "# Define final training and testing sets\n",
        "dtrain <- xgb.DMatrix(data = train_x, label = train_y)\n",
        "dtest <- xgb.DMatrix(data = test_x, label = test_y)"
      ],
      "metadata": {
        "id": "nmHkqU4kmNWI"
      },
      "execution_count": null,
      "outputs": []
    },
    {
      "cell_type": "markdown",
      "source": [
        "#### Fit Initial Model with Fixed Parameters\n",
        "\n",
        "Next, we'll fit the XGBoost model by using the `xgb.train()` function, which displays the training and testing RMSE (root mean squared error) for each round of boosting. We use a few tunning prameters with default values."
      ],
      "metadata": {
        "id": "k6EFndFdP5qq"
      }
    },
    {
      "cell_type": "code",
      "source": [
        "%%R\n",
        "#  Parameters for XGBoost model\n",
        "params <- list(\n",
        "  objective = \"reg:squarederror\",\n",
        "  eval_metric = \"rmse\",\n",
        "  max_depth = 6,\n",
        "  eta = 0.3,\n",
        "  gamma = 0,\n",
        "  colsample_bytree = 0.8,\n",
        "  min_child_weight = 1,\n",
        "  subsample = 0.8\n",
        ")\n",
        "\n",
        "#fit XGBoost model and display training and testing data at each round\n",
        "initial_model <- xgb.train(\n",
        "  params = params,\n",
        "  data = dtrain,\n",
        "  nrounds = 100,\n",
        "  watchlist = list(train = dtrain, test = dtest),\n",
        "  early_stopping_rounds = 10,\n",
        "  verbose = 0\n",
        ")\n",
        "\n"
      ],
      "metadata": {
        "id": "p7fPSLSxsZie"
      },
      "execution_count": null,
      "outputs": []
    },
    {
      "cell_type": "code",
      "source": [
        "%%R\n",
        "summary(initial_model)"
      ],
      "metadata": {
        "colab": {
          "base_uri": "https://localhost:8080/"
        },
        "id": "MyjnaLHUP946",
        "outputId": "e3f33286-26b1-47db-8f18-7313074e222e"
      },
      "execution_count": null,
      "outputs": [
        {
          "output_type": "stream",
          "name": "stdout",
          "text": [
            "                Length Class              Mode       \n",
            "handle              1  xgb.Booster.handle externalptr\n",
            "raw             43986  -none-             raw        \n",
            "best_iteration      1  -none-             numeric    \n",
            "best_ntreelimit     1  -none-             numeric    \n",
            "best_score          1  -none-             numeric    \n",
            "best_msg            1  -none-             character  \n",
            "niter               1  -none-             numeric    \n",
            "evaluation_log      3  data.table         list       \n",
            "call                7  -none-             call       \n",
            "params              9  -none-             list       \n",
            "callbacks           2  -none-             list       \n",
            "feature_names      19  -none-             character  \n",
            "nfeatures           1  -none-             numeric    \n"
          ]
        }
      ]
    },
    {
      "cell_type": "markdown",
      "source": [
        "#### Predict and Evaluate Initial Model"
      ],
      "metadata": {
        "id": "ioqlVpARP_pN"
      }
    },
    {
      "cell_type": "code",
      "source": [
        "%%R\n",
        "# Prediction and Evaluation\n",
        "yhat_train_initial <- predict(initial_model, train_x)  # Use train_x (columns 2-14)\n",
        "yhat_test_initial <- predict(initial_model, test_x)    # Use test_x (columns 2-14)\n",
        "\n",
        "# Define RMSE function\n",
        "RMSE <- function(actual, predicted) {\n",
        "  sqrt(mean((actual - predicted)^2))\n",
        "}\n",
        "\n",
        "rmse_train_initial <- RMSE(train_y, yhat_train_initial)\n",
        "rmse_test_initial <- RMSE(test_y, yhat_test_initial)\n",
        "cat(\"Initial Model Training RMSE:\", rmse_train_initial, \"\\n\")\n",
        "cat(\"Initial Model Testing RMSE:\", rmse_test_initial, \"\\n\")"
      ],
      "metadata": {
        "colab": {
          "base_uri": "https://localhost:8080/"
        },
        "id": "uwTfSah-QYwz",
        "outputId": "b210fae0-2db1-45da-82aa-813fdd419aa1"
      },
      "execution_count": null,
      "outputs": [
        {
          "output_type": "stream",
          "name": "stdout",
          "text": [
            "Initial Model Training RMSE: 0.6862006 \n",
            "Initial Model Testing RMSE: 3.863504 \n"
          ]
        }
      ]
    },
    {
      "cell_type": "markdown",
      "source": [
        "#### Hyperparameter Tuning for the Best Parameters\n",
        "\n",
        "To optimize the XGBoost model, we can perform cross-validation to find the best hyperparameters. This involves testing different combinations of parameters like `max_depth`, `eta`, and `nrounds` to minimize the RMSE on the validation set.\n"
      ],
      "metadata": {
        "id": "GqOYNF6YnQMo"
      }
    },
    {
      "cell_type": "markdown",
      "source": [
        "##### Define Parameter Grid and Initialize Variables"
      ],
      "metadata": {
        "id": "PpIEnQNDoWLq"
      }
    },
    {
      "cell_type": "code",
      "source": [
        "%%R\n",
        "# Hyperparameter Tuning for the Best Parameters\n",
        "# Define Parameter Grid and Initialize Variables\n",
        "\n",
        "params <- list(\n",
        "  objective = \"reg:squarederror\",\n",
        "  eval_metric = \"rmse\",\n",
        "  max_depth = 6,\n",
        "  eta = 0.3,\n",
        "  gamma = 0,\n",
        "  colsample_bytree = 0.8,\n",
        "  min_child_weight = 1,\n",
        "  subsample = 0.8\n",
        ")\n",
        "\n",
        "# Cross-validation for hyperparameter tuning\n",
        "param_grid <- expand.grid(\n",
        "  max_depth = c(3, 6, 9),\n",
        "  eta = c(0.1, 0.3, 0.5),\n",
        "  min_child_weight = c(1, 3, 5)\n",
        ")\n",
        "\n",
        "best_params <- NULL\n",
        "best_error <- Inf\n",
        "cv_results <- data.frame()\n",
        "\n",
        "for (i in 1:nrow(param_grid)) {\n",
        "  params_cv <- list(\n",
        "    objective = \"reg:squarederror\",\n",
        "    eval_metric = \"rmse\",\n",
        "    max_depth = param_grid$max_depth[i],\n",
        "    eta = param_grid$eta[i],\n",
        "    gamma = 0,\n",
        "    colsample_bytree = 0.8,\n",
        "    min_child_weight = param_grid$min_child_weight[i],\n",
        "    subsample = 0.8\n",
        "  )\n",
        "\n",
        "  cv_model <- xgb.cv(\n",
        "    params = params_cv,\n",
        "    data = dtrain,\n",
        "    nrounds = 200,\n",
        "    nfold = 5,\n",
        "    early_stopping_rounds = 10,\n",
        "    verbose = 0\n",
        "  )\n",
        "\n",
        "  # Use test_rmse_mean for regression\n",
        "  min_error <- min(cv_model$evaluation_log$test_rmse_mean)\n",
        "  best_nrounds <- which.min(cv_model$evaluation_log$test_rmse_mean)\n",
        "\n",
        "  # Populate cv_results\n",
        "  cv_results <- rbind(cv_results, data.frame(\n",
        "    max_depth = param_grid$max_depth[i],\n",
        "    eta = param_grid$eta[i],\n",
        "    min_child_weight = param_grid$min_child_weight[i],\n",
        "    test_rmse = min_error,\n",
        "    nrounds = best_nrounds\n",
        "  ))\n",
        "\n",
        "  if (min_error < best_error) {\n",
        "    best_error <- min_error\n",
        "    best_params <- params_cv\n",
        "    best_params$nrounds <- best_nrounds\n",
        "  }\n",
        "}"
      ],
      "metadata": {
        "id": "RjnlDmSzoWzn"
      },
      "execution_count": null,
      "outputs": []
    },
    {
      "cell_type": "markdown",
      "source": [
        "##### The best parameters"
      ],
      "metadata": {
        "id": "EuPB-9Tnot5f"
      }
    },
    {
      "cell_type": "code",
      "source": [
        "%%R\n",
        "# Output results\n",
        "cat(\"\\nBest Parameters:\\n\")\n",
        "print(best_params)"
      ],
      "metadata": {
        "colab": {
          "base_uri": "https://localhost:8080/"
        },
        "id": "UYbWhgako6J4",
        "outputId": "eb8cbd34-41a0-4f30-d346-a2149e6d198e"
      },
      "execution_count": null,
      "outputs": [
        {
          "output_type": "stream",
          "name": "stdout",
          "text": [
            "\n",
            "Best Parameters:\n",
            "$objective\n",
            "[1] \"reg:squarederror\"\n",
            "\n",
            "$eval_metric\n",
            "[1] \"rmse\"\n",
            "\n",
            "$max_depth\n",
            "[1] 3\n",
            "\n",
            "$eta\n",
            "[1] 0.3\n",
            "\n",
            "$gamma\n",
            "[1] 0\n",
            "\n",
            "$colsample_bytree\n",
            "[1] 0.8\n",
            "\n",
            "$min_child_weight\n",
            "[1] 1\n",
            "\n",
            "$subsample\n",
            "[1] 0.8\n",
            "\n",
            "$nrounds\n",
            "[1] 72\n",
            "\n"
          ]
        }
      ]
    },
    {
      "cell_type": "markdown",
      "source": [
        "##### Train and Validate Model with Best Parameters"
      ],
      "metadata": {
        "id": "qlo7UGqjpMJm"
      }
    },
    {
      "cell_type": "code",
      "source": [
        "%%R\n",
        "# Train final model with best parameters\n",
        "final_model <- xgb.train(\n",
        "  params = best_params,\n",
        "  data = dtrain,\n",
        "  nrounds = best_params$nrounds,\n",
        "  watchlist = list(train = dtrain, test = dtest),\n",
        "  verbose = 0\n",
        ")"
      ],
      "metadata": {
        "id": "MWa_RuR3pMhJ",
        "colab": {
          "base_uri": "https://localhost:8080/"
        },
        "outputId": "d472b93d-1fbf-481d-9526-e99682f1b53a"
      },
      "execution_count": null,
      "outputs": [
        {
          "output_type": "stream",
          "name": "stdout",
          "text": [
            "[02:01:14] WARNING: src/learner.cc:767: \n",
            "Parameters: { \"nrounds\" } are not used.\n",
            "\n"
          ]
        }
      ]
    },
    {
      "cell_type": "markdown",
      "source": [
        "##### Predictions and Evaluation"
      ],
      "metadata": {
        "id": "Q99NFqvipTF2"
      }
    },
    {
      "cell_type": "code",
      "source": [
        "%%R\n",
        "# Predictions and Evaluation\n",
        "yhat_train_final <- predict(final_model, train_x)\n",
        "yhat_test_final <- predict(final_model, test_x)\n",
        "\n",
        "# Train and test RMSE\n",
        "rmse_train_final <- RMSE(train_y, yhat_train_final)\n",
        "rmse_test_final <- RMSE(test_y, yhat_test_final)\n",
        "cat(\"Final Model Training RMSE:\", rmse_train_final, \"\\n\")\n",
        "cat(\"Final Model Testing RMSE:\", rmse_test_final, \"\\n\")\n"
      ],
      "metadata": {
        "colab": {
          "base_uri": "https://localhost:8080/"
        },
        "id": "IDzGkXFPpaFR",
        "outputId": "90aaac77-c898-4141-d60b-68ac4e41639d"
      },
      "execution_count": null,
      "outputs": [
        {
          "output_type": "stream",
          "name": "stdout",
          "text": [
            "Final Model Training RMSE: 0.04151871 \n",
            "Final Model Testing RMSE: 3.436067 \n"
          ]
        }
      ]
    },
    {
      "cell_type": "code",
      "source": [
        "%%R\n",
        "\n",
        "# 1:1 Plot of Predicted vs Observed values\n",
        "test_df <- data.frame(medv = test_y, medv_pred = yhat_test_final)\n",
        "\n",
        "formula <- y ~ x\n",
        "\n",
        "ggplot(test_df, aes(medv, medv_pred)) +\n",
        "  geom_point() +\n",
        "  geom_smooth(method = \"lm\") +\n",
        "  stat_poly_eq(use_label(c(\"eq\", \"adj.R2\")), formula = formula) +\n",
        "  ggtitle(\"XGBoost: Predicted vs Observed House Prices\") +\n",
        "  xlab(\"Observed medv ($1000s)\") + ylab(\"Predicted medv ($1000s)\") +\n",
        "  scale_x_continuous(limits = c(0, 60), breaks = seq(0, 60, 10)) +\n",
        "  scale_y_continuous(limits = c(0, 60), breaks = seq(0, 60, 10)) +\n",
        "  theme(\n",
        "    panel.background = element_rect(fill = \"grey95\", colour = \"gray75\", size = 0.5, linetype = \"solid\"),\n",
        "    axis.line = element_line(colour = \"grey\"),\n",
        "    plot.title = element_text(size = 14, hjust = 0.5),\n",
        "    axis.title.x = element_text(size = 14),\n",
        "    axis.title.y = element_text(size = 14),\n",
        "    axis.text.x = element_text(size = 13, colour = \"black\"),\n",
        "    axis.text.y = element_text(size = 13, angle = 90, vjust = 0.5, hjust = 0.5, colour = \"black\")\n",
        "  )"
      ],
      "metadata": {
        "colab": {
          "base_uri": "https://localhost:8080/",
          "height": 514
        },
        "id": "Ic0gVXQEzDOd",
        "outputId": "1d4390b0-161e-4399-a9c6-852aaad0fd94"
      },
      "execution_count": null,
      "outputs": [
        {
          "output_type": "stream",
          "name": "stdout",
          "text": [
            "`geom_smooth()` using formula = 'y ~ x'\n"
          ]
        },
        {
          "output_type": "display_data",
          "data": {
            "image/png": "[encoded data removed]"
          },
          "metadata": {}
        }
      ]
    },
    {
      "cell_type": "markdown",
      "source": [
        "##### Variable Importance\n",
        "\n",
        "Variable importance in XGBoost indicates how much each feature contributes to the model's predictions. It helps identify which predictors are most influential in determining the target variable. The importance can be measured using metrics like gain, cover, and frequency. Gain measures the contribution of a feature to the model's accuracy, cover indicates the relative quantity of observations concerned by a feature, and frequency counts how often a feature is used in trees."
      ],
      "metadata": {
        "id": "5AKztLwDzNj3"
      }
    },
    {
      "cell_type": "code",
      "source": [
        "%%R -w 700 -h 600 -u px\n",
        "# Calculate variable importance\n",
        "importance <- xgb.importance(model = final_model)\n",
        "xgb.plot.importance(importance, rel_to_first = TRUE, xlab = \"Relative importance\")"
      ],
      "metadata": {
        "colab": {
          "base_uri": "https://localhost:8080/",
          "height": 617
        },
        "id": "IOT-EVsOzOZP",
        "outputId": "8f63e2f6-280a-4ef6-f7a2-65ae16877f53"
      },
      "execution_count": null,
      "outputs": [
        {
          "output_type": "display_data",
          "data": {
            "image/png": "[encoded data removed]"
          },
          "metadata": {}
        }
      ]
    },
    {
      "cell_type": "markdown",
      "source": [
        "#### Early Stopping\n",
        "\n",
        "Early stopping in XGBoost is a technique used to prevent overfitting by monitoring the model's performance on a validation set during training. If the model's performance does not improve for a specified number of rounds (defined by `early_stopping_rounds`), training is halted. This helps to find the optimal number of boosting rounds without excessive computation and ensures that the model generalizes well to unseen data.\n",
        "\n",
        "In XGBoost, this is implemented by monitoring a performance metric (e.g., RMSE for regression) on a validation dataset during training. If the metric does not improve for a defined number of consecutive rounds (early_stopping_rounds), training stops, and the model returns the iteration with the best performance. This helps select an optimal number of boosting rounds (nrounds) without overfitting to the training data."
      ],
      "metadata": {
        "id": "USrLldhbrbGw"
      }
    },
    {
      "cell_type": "code",
      "source": [
        "%%R\n",
        "# Train final model with best parameters\n",
        "final_model_early <- xgb.train(\n",
        "  params = best_params,\n",
        "  data = dtrain,\n",
        "  nrounds = best_params$nrounds,\n",
        "  watchlist = list(train = dtrain, test = dtest),\n",
        "  early_stopping_rounds = 10,\n",
        "  verbose = 1  # Show training progress\n",
        ")"
      ],
      "metadata": {
        "colab": {
          "base_uri": "https://localhost:8080/"
        },
        "id": "MP5768CXrmcS",
        "outputId": "8ff09e3b-8b84-4ec4-9991-448247689bc1"
      },
      "execution_count": null,
      "outputs": [
        {
          "output_type": "stream",
          "name": "stdout",
          "text": [
            "[02:03:29] WARNING: src/learner.cc:767: \n",
            "Parameters: { \"nrounds\" } are not used.\n",
            "\n",
            "[1]\ttrain-rmse:21.638485\ttest-rmse:21.775883 \n",
            "Multiple eval metrics are present. Will use test_rmse for early stopping.\n",
            "Will train until test_rmse hasn't improved in 10 rounds.\n",
            "\n",
            "[2]\ttrain-rmse:19.595134\ttest-rmse:19.682217 \n",
            "[3]\ttrain-rmse:17.738096\ttest-rmse:17.877446 \n",
            "[4]\ttrain-rmse:16.116296\ttest-rmse:16.332263 \n",
            "[5]\ttrain-rmse:14.662949\ttest-rmse:14.852240 \n",
            "[6]\ttrain-rmse:13.368751\ttest-rmse:13.665619 \n",
            "[7]\ttrain-rmse:12.131636\ttest-rmse:12.454425 \n",
            "[8]\ttrain-rmse:11.025802\ttest-rmse:11.364955 \n",
            "[9]\ttrain-rmse:10.028260\ttest-rmse:10.400720 \n",
            "[10]\ttrain-rmse:9.162763\ttest-rmse:9.565926 \n",
            "[11]\ttrain-rmse:8.373756\ttest-rmse:8.835636 \n",
            "[12]\ttrain-rmse:7.655286\ttest-rmse:8.154447 \n",
            "[13]\ttrain-rmse:6.977153\ttest-rmse:7.562153 \n",
            "[14]\ttrain-rmse:6.390442\ttest-rmse:7.103871 \n",
            "[15]\ttrain-rmse:5.848049\ttest-rmse:6.618085 \n",
            "[16]\ttrain-rmse:5.363889\ttest-rmse:6.197285 \n",
            "[17]\ttrain-rmse:4.943103\ttest-rmse:5.873801 \n",
            "[18]\ttrain-rmse:4.546261\ttest-rmse:5.568162 \n",
            "[19]\ttrain-rmse:4.193099\ttest-rmse:5.314607 \n",
            "[20]\ttrain-rmse:3.859973\ttest-rmse:5.074572 \n",
            "[21]\ttrain-rmse:3.556746\ttest-rmse:4.850377 \n",
            "[22]\ttrain-rmse:3.293285\ttest-rmse:4.674483 \n",
            "[23]\ttrain-rmse:3.052906\ttest-rmse:4.519206 \n",
            "[24]\ttrain-rmse:2.815836\ttest-rmse:4.376563 \n",
            "[25]\ttrain-rmse:2.611141\ttest-rmse:4.263266 \n",
            "[26]\ttrain-rmse:2.420886\ttest-rmse:4.175961 \n",
            "[27]\ttrain-rmse:2.260560\ttest-rmse:4.080775 \n",
            "[28]\ttrain-rmse:2.117684\ttest-rmse:4.009830 \n",
            "[29]\ttrain-rmse:1.969709\ttest-rmse:3.934436 \n",
            "[30]\ttrain-rmse:1.839061\ttest-rmse:3.875676 \n",
            "[31]\ttrain-rmse:1.732419\ttest-rmse:3.834315 \n",
            "[32]\ttrain-rmse:1.614902\ttest-rmse:3.817084 \n",
            "[33]\ttrain-rmse:1.514337\ttest-rmse:3.785500 \n",
            "[34]\ttrain-rmse:1.420402\ttest-rmse:3.761572 \n",
            "[35]\ttrain-rmse:1.331589\ttest-rmse:3.738015 \n",
            "[36]\ttrain-rmse:1.260698\ttest-rmse:3.711442 \n",
            "[37]\ttrain-rmse:1.188413\ttest-rmse:3.700058 \n",
            "[38]\ttrain-rmse:1.124529\ttest-rmse:3.686268 \n",
            "[39]\ttrain-rmse:1.062923\ttest-rmse:3.679293 \n",
            "[40]\ttrain-rmse:1.004403\ttest-rmse:3.670549 \n",
            "[41]\ttrain-rmse:0.955388\ttest-rmse:3.653410 \n",
            "[42]\ttrain-rmse:0.908519\ttest-rmse:3.643698 \n",
            "[43]\ttrain-rmse:0.865946\ttest-rmse:3.632176 \n",
            "[44]\ttrain-rmse:0.821439\ttest-rmse:3.625679 \n",
            "[45]\ttrain-rmse:0.789145\ttest-rmse:3.622838 \n",
            "[46]\ttrain-rmse:0.753807\ttest-rmse:3.612988 \n",
            "[47]\ttrain-rmse:0.714555\ttest-rmse:3.604888 \n",
            "[48]\ttrain-rmse:0.680584\ttest-rmse:3.594142 \n",
            "[49]\ttrain-rmse:0.655525\ttest-rmse:3.585686 \n",
            "[50]\ttrain-rmse:0.629731\ttest-rmse:3.580703 \n",
            "[51]\ttrain-rmse:0.602934\ttest-rmse:3.581260 \n",
            "[52]\ttrain-rmse:0.579810\ttest-rmse:3.579878 \n",
            "[53]\ttrain-rmse:0.557645\ttest-rmse:3.578457 \n",
            "[54]\ttrain-rmse:0.535801\ttest-rmse:3.575061 \n",
            "[55]\ttrain-rmse:0.511888\ttest-rmse:3.569904 \n",
            "[56]\ttrain-rmse:0.491999\ttest-rmse:3.572140 \n",
            "[57]\ttrain-rmse:0.479181\ttest-rmse:3.570457 \n",
            "[58]\ttrain-rmse:0.465371\ttest-rmse:3.567567 \n",
            "[59]\ttrain-rmse:0.449432\ttest-rmse:3.560742 \n",
            "[60]\ttrain-rmse:0.435711\ttest-rmse:3.561111 \n",
            "[61]\ttrain-rmse:0.418371\ttest-rmse:3.553561 \n",
            "[62]\ttrain-rmse:0.405412\ttest-rmse:3.556420 \n",
            "[63]\ttrain-rmse:0.397263\ttest-rmse:3.555778 \n",
            "[64]\ttrain-rmse:0.379173\ttest-rmse:3.555009 \n",
            "[65]\ttrain-rmse:0.365966\ttest-rmse:3.555643 \n",
            "[66]\ttrain-rmse:0.359351\ttest-rmse:3.556891 \n",
            "[67]\ttrain-rmse:0.346995\ttest-rmse:3.559149 \n",
            "[68]\ttrain-rmse:0.340620\ttest-rmse:3.558827 \n",
            "[69]\ttrain-rmse:0.328334\ttest-rmse:3.556874 \n",
            "[70]\ttrain-rmse:0.316994\ttest-rmse:3.556469 \n",
            "[71]\ttrain-rmse:0.311002\ttest-rmse:3.556288 \n",
            "Stopping. Best iteration:\n",
            "[61]\ttrain-rmse:0.418371\ttest-rmse:3.553561\n",
            "\n"
          ]
        }
      ]
    },
    {
      "cell_type": "code",
      "source": [
        "%%R\n",
        "# Evaluate the model with early stopping\n",
        "yhat_train_early <- predict(final_model_early, train_x)\n",
        "yhat_test_early <- predict(final_model_early, test_x)\n",
        "\n",
        "# Train and test RMSE\n",
        "rmse_train_early <- RMSE(train_y, yhat_train_early)\n",
        "rmse_test_early <- RMSE(test_y, yhat_test_early)\n",
        "\n",
        "# Print results\n",
        "cat(\"Early Stopping Training RMSE:\", rmse_train_early, \"\\n\")\n",
        "cat(\"Early Stopping Testing RMSE:\", rmse_test_early, \"\\n\")\n",
        "cat(\"Best Iteration:\", final_model_early$best_iteration, \"\\n\")"
      ],
      "metadata": {
        "colab": {
          "base_uri": "https://localhost:8080/"
        },
        "id": "h_mE8_Lsrjc8",
        "outputId": "4b3121c8-f4c7-47b6-d880-708a516a5eab"
      },
      "execution_count": null,
      "outputs": [
        {
          "output_type": "stream",
          "name": "stdout",
          "text": [
            "Early Stopping Training RMSE: 0.4183715 \n",
            "Early Stopping Testing RMSE: 3.553561 \n",
            "Best Iteration: 61 \n"
          ]
        }
      ]
    },
    {
      "cell_type": "markdown",
      "source": [
        "### Classification with XGBoost\n",
        "\n",
        "In this section, we will use the XGBoost package to perform classification on a dataset. We will load the dataset, preprocess it, and then fit an XGBoost model for classification. The dataset will be split into training and testing sets, and we will evaluate the model's performance using accuracy and confusion matrix."
      ],
      "metadata": {
        "id": "Irqlj8sYYKas"
      }
    },
    {
      "cell_type": "markdown",
      "source": [
        "#### Data and Data Preparation\n",
        "\n",
        "We will use`health insurance` dataset to predict the product type (A, B, or C) based on various features such as age, household size, position level, and absence records."
      ],
      "metadata": {
        "id": "NRpPJB6-YUUo"
      }
    },
    {
      "cell_type": "code",
      "source": [
        "%%R\n",
        "data <-readr::read_csv(\"https://github.com/zia207/r-colab/raw/main/Data/Machine_Learning/health_insurance.csv\")\n",
        "# Convert gender to numeric (Male: 0, Female: 1)\n",
        "data$gender <- as.numeric(factor(data$gender, levels = c(\"Male\", \"Female\"))) - 1\n",
        "\n",
        "# Convert product to numeric labels (A: 0, B: 1, C: 2)\n",
        "data$product <- as.numeric(factor(data$product, levels = c(\"A\", \"B\", \"C\"))) - 1\n",
        "\n",
        "# Select features and target\n",
        "features <- c(\"age\", \"household\", \"position_level\", \"absent\", \"gender\")\n",
        "X <- data[, features]\n",
        "y <- data$product\n",
        "# Split data into training (80%) and test (20%) sets using base R\n",
        "set.seed(123)\n",
        "n <- nrow(data)\n",
        "train_indices <- sample(1:n, size = 0.8 * n, replace = FALSE)\n",
        "X_train <- X[train_indices, ]\n",
        "y_train <- y[train_indices]\n",
        "X_test <- X[-train_indices, ]\n",
        "y_test <- y[-train_indices]"
      ],
      "metadata": {
        "colab": {
          "base_uri": "https://localhost:8080/"
        },
        "id": "UfumDV8yYaI2",
        "outputId": "da2cb713-d822-48eb-f26d-2c45776defe7"
      },
      "execution_count": null,
      "outputs": [
        {
          "output_type": "stream",
          "name": "stdout",
          "text": [
            "Rows: 1448 Columns: 6\n",
            "── Column specification ────────────────────────────────────────────────────────\n",
            "Delimiter: \",\"\n",
            "chr (2): product, gender\n",
            "dbl (4): age, household, position_level, absent\n",
            "\n",
            "ℹ Use `spec()` to retrieve the full column specification for this data.\n",
            "ℹ Specify the column types or set `show_col_types = FALSE` to quiet this message.\n"
          ]
        }
      ]
    },
    {
      "cell_type": "markdown",
      "source": [
        "#### Convert data to DMatrix format for XGBoost"
      ],
      "metadata": {
        "id": "_rQ4MN1FkZ0e"
      }
    },
    {
      "cell_type": "code",
      "source": [
        "%%R\n",
        "# Convert data to DMatrix format for XGBoost\n",
        "dtrain <- xgb.DMatrix(data = as.matrix(X_train), label = y_train)\n",
        "dtest <- xgb.DMatrix(data = as.matrix(X_test), label = y_test)"
      ],
      "metadata": {
        "id": "4Grpxt1KkagW"
      },
      "execution_count": null,
      "outputs": []
    },
    {
      "cell_type": "markdown",
      "source": [
        "#### Fit lightGBM Classification Model"
      ],
      "metadata": {
        "id": "5yliW4QeZMpE"
      }
    },
    {
      "cell_type": "code",
      "source": [
        "%%R\n",
        "# Initial model training with default parameters\n",
        "params <- list(\n",
        "  objective = \"multi:softmax\",\n",
        "  num_class = 3,\n",
        "  eval_metric = \"merror\",\n",
        "  max_depth = 6,\n",
        "  eta = 0.3,\n",
        "  gamma = 0,\n",
        "  colsample_bytree = 0.8,\n",
        "  min_child_weight = 1,\n",
        "  subsample = 0.8\n",
        ")\n",
        "\n",
        "initial_model <- xgb.train(\n",
        "  params = params,\n",
        "  data = dtrain,\n",
        "  nrounds = 100,\n",
        "  watchlist = list(train = dtrain, test = dtest),\n",
        "  early_stopping_rounds = 10,\n",
        "  verbose = 0\n",
        ")"
      ],
      "metadata": {
        "id": "0H3OVcIrZNK8"
      },
      "execution_count": null,
      "outputs": []
    },
    {
      "cell_type": "markdown",
      "source": [
        "#### Predictions and Evaluation\n",
        "\n"
      ],
      "metadata": {
        "id": "Gp7pWvYaZS7T"
      }
    },
    {
      "cell_type": "code",
      "source": [
        "%%R\n",
        "# Predict on test set\n",
        "y_pred_initial <- predict(initial_model, dtest)\n",
        "\n",
        "# Evaluate performance\n",
        "confusion_matrix_initial <- table(Predicted = y_pred_initial, Actual = y_test)\n",
        "accuracy_initial <- sum(diag(confusion_matrix_initial)) / sum(confusion_matrix_initial)\n",
        "\n",
        "# Print results\n",
        "cat(\"\\nTest Set Accuracy:\", round(accuracy_initial, 4), \"\\n\")\n",
        "cat(\"\\nConfusion Matrix:\\n\")\n",
        "print(confusion_matrix_initial)"
      ],
      "metadata": {
        "colab": {
          "base_uri": "https://localhost:8080/"
        },
        "id": "D3Kv94NoZTyA",
        "outputId": "c043e9c6-8b6d-4147-e9f3-bd212c4fe175"
      },
      "execution_count": null,
      "outputs": [
        {
          "output_type": "stream",
          "name": "stdout",
          "text": [
            "\n",
            "Test Set Accuracy: 0.8034 \n",
            "\n",
            "Confusion Matrix:\n",
            "         Actual\n",
            "Predicted  0  1  2\n",
            "        0 80  2 10\n",
            "        1 17 84 13\n",
            "        2  7  8 69\n"
          ]
        }
      ]
    },
    {
      "cell_type": "markdown",
      "source": [
        "#### Hyperparameter Tuning for the Best Parameters"
      ],
      "metadata": {
        "id": "FIr4gd7Ikuv2"
      }
    },
    {
      "cell_type": "markdown",
      "source": [
        "##### Define Parameter Grid and Initialize Variables"
      ],
      "metadata": {
        "id": "Zi_NWubmkzUK"
      }
    },
    {
      "cell_type": "code",
      "source": [
        "%%R\n",
        "# Cross-validation for hyperparameter tuning\n",
        "param_grid <- expand.grid(\n",
        "  max_depth = c(3, 6, 9),\n",
        "  eta = c(0.1, 0.3, 0.5),\n",
        "  min_child_weight = c(1, 3, 5)\n",
        ")\n",
        "\n",
        "best_params <- NULL\n",
        "best_error <- Inf\n",
        "cv_results <- data.frame()\n",
        "\n",
        "for (i in 1:nrow(param_grid)) {\n",
        "  params_cv <- list(\n",
        "    objective = \"multi:softmax\",\n",
        "    num_class = 3,\n",
        "    eval_metric = \"merror\",\n",
        "    max_depth = param_grid$max_depth[i],\n",
        "    eta = param_grid$eta[i],\n",
        "    gamma = 0,\n",
        "    colsample_bytree = 0.8,\n",
        "    min_child_weight = param_grid$min_child_weight[i],\n",
        "    subsample = 0.8\n",
        "  )\n",
        "\n",
        "  cv_model <- xgb.cv(\n",
        "    params = params_cv,\n",
        "    data = dtrain,\n",
        "    nrounds = 200,\n",
        "    nfold = 5,\n",
        "    early_stopping_rounds = 10,\n",
        "    verbose = 0\n",
        "  )\n",
        "\n",
        "  min_error <- min(cv_model$evaluation_log$test_merror_mean)\n",
        "  best_nrounds <- which.min(cv_model$evaluation_log$test_merror_mean)\n",
        "\n",
        "  cv_results <- rbind(cv_results, data.frame(\n",
        "    max_depth = param_grid$max_depth[i],\n",
        "    eta = param_grid$eta[i],\n",
        "    min_child_weight = param_grid$min_child_weight[i],\n",
        "    test_merror = min_error,\n",
        "    nrounds = best_nrounds\n",
        "  ))\n",
        "\n",
        "  if (min_error < best_error) {\n",
        "    best_error <- min_error\n",
        "    best_params <- params_cv\n",
        "    best_params$nrounds <- best_nrounds\n",
        "  }\n",
        "}"
      ],
      "metadata": {
        "id": "UMzN860Yk0XN"
      },
      "execution_count": null,
      "outputs": []
    },
    {
      "cell_type": "markdown",
      "source": [
        "##### The Best Parameters"
      ],
      "metadata": {
        "id": "JE0H5GJ5k5z5"
      }
    },
    {
      "cell_type": "code",
      "source": [
        "%%R\n",
        "# Print results\n",
        "cat(\"Best Parameters:\\n\")\n",
        "print(best_params)"
      ],
      "metadata": {
        "colab": {
          "base_uri": "https://localhost:8080/"
        },
        "id": "pQ5V-jdqk_Ro",
        "outputId": "9b1df514-f5e7-4250-e1ac-b0226edf4eda"
      },
      "execution_count": null,
      "outputs": [
        {
          "output_type": "stream",
          "name": "stdout",
          "text": [
            "Best Parameters:\n",
            "$objective\n",
            "[1] \"multi:softmax\"\n",
            "\n",
            "$num_class\n",
            "[1] 3\n",
            "\n",
            "$eval_metric\n",
            "[1] \"merror\"\n",
            "\n",
            "$max_depth\n",
            "[1] 3\n",
            "\n",
            "$eta\n",
            "[1] 0.3\n",
            "\n",
            "$gamma\n",
            "[1] 0\n",
            "\n",
            "$colsample_bytree\n",
            "[1] 0.8\n",
            "\n",
            "$min_child_weight\n",
            "[1] 3\n",
            "\n",
            "$subsample\n",
            "[1] 0.8\n",
            "\n",
            "$nrounds\n",
            "[1] 12\n",
            "\n"
          ]
        }
      ]
    },
    {
      "cell_type": "markdown",
      "source": [
        "##### Train Final Model with Best Parameters"
      ],
      "metadata": {
        "id": "zQ0l-7_HlDhA"
      }
    },
    {
      "cell_type": "code",
      "source": [
        "%%R\n",
        "# Train final model with best parameters\n",
        "final_model <- xgb.train(\n",
        "  params = best_params,\n",
        "  data = dtrain,\n",
        "  nrounds = best_params$nrounds,\n",
        "  watchlist = list(train = dtrain, test = dtest),\n",
        "  verbose = 0\n",
        ")"
      ],
      "metadata": {
        "colab": {
          "base_uri": "https://localhost:8080/"
        },
        "id": "guT8QqwtlFvx",
        "outputId": "3e1f14e5-bb3b-4fdc-ecbc-e57aadccef85"
      },
      "execution_count": null,
      "outputs": [
        {
          "output_type": "stream",
          "name": "stdout",
          "text": [
            "[19:19:40] WARNING: src/learner.cc:767: \n",
            "Parameters: { \"nrounds\" } are not used.\n",
            "\n"
          ]
        }
      ]
    },
    {
      "cell_type": "markdown",
      "source": [
        "##### Predictions and Evaluation"
      ],
      "metadata": {
        "id": "Tx6tVeXzlMNT"
      }
    },
    {
      "cell_type": "code",
      "source": [
        "%%R\n",
        "# Predict on test set\n",
        "y_pred <- predict(final_model, dtest)\n",
        "\n",
        "# Evaluate performance\n",
        "confusion_matrix <- table(Predicted = y_pred, Actual = y_test)\n",
        "accuracy <- sum(diag(confusion_matrix)) / sum(confusion_matrix)\n",
        "\n",
        "\n",
        "cat(\"\\nTest Set Accuracy:\", round(accuracy, 4), \"\\n\")\n",
        "cat(\"\\nConfusion Matrix:\\n\")\n",
        "print(confusion_matrix)"
      ],
      "metadata": {
        "colab": {
          "base_uri": "https://localhost:8080/"
        },
        "id": "VNc2qbtelNAu",
        "outputId": "cba156b5-5548-4ed1-ac0f-286a13f38e1d"
      },
      "execution_count": null,
      "outputs": [
        {
          "output_type": "stream",
          "name": "stdout",
          "text": [
            "\n",
            "Test Set Accuracy: 0.8103 \n",
            "\n",
            "Confusion Matrix:\n",
            "         Actual\n",
            "Predicted  0  1  2\n",
            "        0 87  5 14\n",
            "        1 17 85 15\n",
            "        2  0  4 63\n"
          ]
        }
      ]
    },
    {
      "cell_type": "markdown",
      "source": [
        "##### Feature Importance\n",
        "\n"
      ],
      "metadata": {
        "id": "a-JpJLkCZbAz"
      }
    },
    {
      "cell_type": "code",
      "source": [
        "%%R\n",
        "# Save feature importance plot\n",
        "importance <- xgb.importance(feature_names = colnames(X_train), model = final_model)\n",
        "xgb.plot.importance(importance, main = \"Feature Importance\")"
      ],
      "metadata": {
        "colab": {
          "base_uri": "https://localhost:8080/",
          "height": 497
        },
        "id": "lWflJ_FPZoso",
        "outputId": "724252d9-5267-4bd7-a173-7d2a92203136"
      },
      "execution_count": null,
      "outputs": [
        {
          "output_type": "display_data",
          "data": {
            "image/png": "[encoded data removed]"
          },
          "metadata": {}
        }
      ]
    },
    {
      "cell_type": "markdown",
      "source": [
        "## Summary and Conclusion\n",
        "\n",
        "XGBoost is a powerful gradient boosting algorithm that iteratively builds decision trees to minimize a regularized objective function. It uses first- and second-order gradients to optimize tree construction, incorporates regularization to prevent overfitting, and leverages efficient algorithms for scalability. The key equations involve the objective function, gradient/Hessian calculations, and the gain metric for tree splitting, enabling robust and accurate predictions. This R-tutorials covered the implementation of XGBoost for both regression and classification tasks, demonstrating its flexibility and effectiveness in handling complex datasets. The manual implementation provided a deeper understanding of the underlying mechanics, while the use of the `{xgboost}` package showcased its practical application in real-world scenarios."
      ],
      "metadata": {
        "id": "Nb0kdVIuGlK7"
      }
    },
    {
      "cell_type": "markdown",
      "source": [
        "\n",
        "## References\n",
        "\n",
        "1.  Chen, T., & Guestrin, C. (2016). *XGBoost: A Scalable Tree Boosting System*. In *KDD '16* (pp. 785–794). arXiv:1603.02754.\n",
        "\n",
        "2.  Kuhn, M., & Johnson, K. (2019). *Applied Predictive Modeling*. Springer. ISBN: 978-1461468486.\n",
        "\n",
        "3.  Zhang, Y., & Haghani, A. (2015). *A gradient boosting method to improve travel time prediction*. *Transportation Research Part C*, 58, 308–324. DOI: 10.1016/j.trc.2015.02.019.\n",
        "\n",
        "4.  [XGBoost in R: A Step-by-Step Example DataCamp](https://www.datacamp.com/community/tutorials/xgboost-in-r)\n",
        "\n",
        "5.  [Machine Learning with XGBoost in R](Towards%20Data%20Science.%20https://towardsdatascience.com/machine-learning-with-xgboost-in-r)\n",
        "\n",
        "6.  [Gradient Boosting and Parameter Tuning in R](https://www.kaggle.com/code/camnugent/gradient-boosting-and-parameter-tuning-in-r/)\n",
        "\n",
        "7. [XGBoost Documentation](https://xgboost.readthedocs.io/en/stable/index.html)\n",
        "\n"
      ],
      "metadata": {
        "id": "ACNQyq1seLc7"
      }
    }
  ]
}