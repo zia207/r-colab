{
  "nbformat": 4,
  "nbformat_minor": 0,
  "metadata": {
    "colab": {
      "provenance": [],
      "toc_visible": true,
      "authorship_tag": "ABX9TyMWuBxjREmzgNgNTaMeJIGn",
      "include_colab_link": true
    },
    "kernelspec": {
      "name": "python3",
      "display_name": "Python 3"
    },
    "language_info": {
      "name": "python"
    }
  },
  "cells": [
    {
      "cell_type": "markdown",
      "metadata": {
        "id": "view-in-github",
        "colab_type": "text"
      },
      "source": [
        "<a href=\"https://colab.research.google.com/github/zia207/r-colab/blob/main/NoteBook/Machine_Learning/Tree_based/03-01-01-02-tree-based-models-decision-tree-cit-r.ipynb\" target=\"_parent\"><img src=\"https://colab.research.google.com/assets/colab-badge.svg\" alt=\"Open In Colab\"/></a>"
      ]
    },
    {
      "cell_type": "markdown",
      "source": [
        "![alt text](http://drive.google.com/uc?export=view&id=1bLQ3nhDbZrCCqy_WCxxckOne2lgVvn3l)"
      ],
      "metadata": {
        "id": "4qrItz_mJNWw"
      }
    },
    {
      "cell_type": "markdown",
      "source": [
        "# 1.2 Conditional Inference Trees\n",
        "\n",
        "Conditional Inference Trees (CITs) are a type of decision tree algorithm used for both classification and regression tasks. Unlike traditional decision trees (e.g., CART), CITs are designed to reduce bias in variable selection and overfitting by using a statistical framework based on conditional inference. They rely on hypothesis testing to select splits, ensuring that the splitting process is statistically sound. Below, I explain how CITs work for classification and regression problems, detailing each step with the necessary mathematical foundations.\n",
        "\n",
        "\n"
      ],
      "metadata": {
        "id": "Dzp9ZseROTcY"
      }
    },
    {
      "cell_type": "markdown",
      "source": [
        "## Overview\n",
        "\n",
        "CITs operate by recursively partitioning the input space into regions based on feature values, using a statistical test to determine the best split at each node. The key idea is to select splits that maximize the association between the predictor variables and the response variable, while controlling for multiple testing and avoiding bias toward variables with many possible splits.\n"
      ],
      "metadata": {
        "id": "mLkAu88QToVr"
      }
    },
    {
      "cell_type": "markdown",
      "source": [
        "### How it works\n",
        "\n",
        "1. Define the Hypothesis Testing Framework\n",
        "\n",
        "CITs use a statistical hypothesis testing framework to decide whether and how to split a node. The goal is to test whether a predictor variable $X_j$ is independent of the response variable $Y$, conditional on the current node’s data.\n",
        "\n",
        "-   `Null Hypothesis` ($H_0$): The predictor $X_j$ and the response $Y$ are independent, i.e., the distribution of $Y$ does not depend on $X_j$.\n",
        "\n",
        "-   `Alternative Hypothesis` ($H_1$): There is a dependence between $X_j$ and $Y$.\n",
        "\n",
        "The test statistic is based on the association between $X_j$ and $Y$. The choice of test statistic depends on the type of response variable:\n",
        "\n",
        "-   `Classification`: For a categorical response $Y$ with $K$ classes, a common choice is a permutation test based on the chi-squared statistic or a linear statistic derived from the conditional distribution.\n",
        "\n",
        "-   `Regression`: For a continuous response `Y`, a linear statistic (e.g., based on the correlation between $X_j$ and $Y$ or a test like the ANOVA F-test is used.\n",
        "\n",
        "The test statistic is computed as follows:\n",
        "\n",
        "-   Let $\\mathbf{X} = (X_1, X_2, \\dots, X_p)$ be the $p$ predictor variables, and $Y$ be the response.\n",
        "\n",
        "-   For a predictor $X_j$, the algorithm computes a test statistic $T_j$ that measures the association between $X_j$ and $Y$.\n",
        "\n",
        "-   The p-value for $T_j$ is calculated using a permutation test or an asymptotic distribution, adjusted for multiple testing (e.g., Bonferroni correction).\n",
        "\n",
        "For a linear statistic, the test statistic can be written as:\n",
        "\n",
        "$$ T_j = \\sum_{i=1}^n g(X_{ij}) h(Y_i) $$\n",
        "\n",
        "where:\n",
        "\n",
        "-   $g(X_{ij})$ is a transformation of the predictor $X_j$ for observation $i$ (e.g., rank or indicator function for splits).\n",
        "\n",
        "-   $h(Y_i)$ is a transformation of the response (e.g., class indicator for classification, or the response value for regression).\n",
        "\n",
        "-   The expectation and variance of $T_j$ under $H_0$ are computed conditionally on the observed data, and the p-value is derived from the standardized statistic:\n",
        "\n",
        "$$ Z_j = \\frac{T_j - E(T_j)}{\\sqrt{\\text{Var}(T_j)}} $$\n",
        "\n",
        "The p-value is then $p_j = P(|Z_j| > |z_j| \\mid H_0)$, where $z_j$ is the observed value of $Z_j$.\n",
        "\n",
        "2. Variable Selection\n",
        "\n",
        "At each node, CITs select the predictor variable $X_j$ that has the strongest association with $Y$, based on the smallest p-value from the hypothesis tests.\n",
        "\n",
        "-   Compute the test statistic $T_j$ and p-value $p_j$ for each predictor $X_j$ ($j = 1, \\dots, p$).\n",
        "\n",
        "-   Adjust the p-values for multiple testing (e.g., using Bonferroni correction: $p_j^{\\text{adj}} = \\min(p_j \\cdot p, 1)$).\n",
        "\n",
        "-   Select the variable $X_j^*$ ) with the smallest adjusted p-value, provided it is below a predefined significance threshold $\\alpha$ (e.g., $\\alpha = 0.05$):\n",
        "\n",
        "$$ j^* = \\arg\\min_j p_j^{\\text{adj}}. $$\n",
        "\n",
        "-   If no p-value is below $\\alpha$ the node is not split, and it becomes a terminal node.\n",
        "\n",
        "The decision rule is:\n",
        "\n",
        "$$ \\text{If } \\min_j p_j^{\\text{adj}} < \\alpha, \\text{ select } X_{j^*}; \\text{ else, stop splitting.} $$\n",
        "\n",
        "**Classification vs. Regression**:\n",
        "\n",
        "-   For classification, the test statistic often measures the difference in class distributions across possible splits (e.g., using a chi-squared test).\n",
        "-   For regression, the test statistic measures the difference in means or variances of ( Y ) across splits (e.g., using an F-test or correlation-based statistic).\n",
        "\n",
        "3. Split Point Selection\n",
        "\n",
        "Once the best predictor $X_j^*$ is selected, the algorithm determines the optimal split point for that variable. The split divides the node’s data into two child nodes based on a condition like $X_j^* \\leq s$ and $X_j^* > s$.\n",
        "\n",
        "-   For a continuous or ordinal predictor, evaluate all possible split points $s$.\n",
        "-   For a categorical predictor, consider all possible binary partitions of the categories.\n",
        "-   The split point is chosen to maximize the association between the split and the response $Y$, often by maximizing the test statistic or minimizing the p-value of a two-sample test.\n",
        "\n",
        "For a split point $s$, define the two regions: - Left child: $\\{i : X_{ij^*} \\leq s\\}$. - Right child: $\\{i : X_{ij^*} > s\\}$.\n",
        "\n",
        "Compute a two-sample test statistic for the response $Y$ in the two regions. For example:\n",
        "\n",
        "-   **Classification**: Use a chi-squared test to compare the class distributions in the two regions.\n",
        "-   **Regression**: Use a t-test or F-test to compare the means of $Y$ in the two regions.\n",
        "\n",
        "The optimal split point $s^*$ is:\n",
        "\n",
        "$$ s^* = \\arg\\max_s T(s),$$\n",
        "\n",
        "where $T(s)$ is the test statistic for the split at $s$. Alternatively, the split can minimize the p-value of the two-sample test.\n",
        "\n",
        "4. Recursive Partitioning\n",
        "\n",
        "After selecting the predictor $X_j^*$ and split point $s^*$, the node is split into two child nodes:\n",
        "\n",
        "-   Left child: Observations where $X_j^* \\leq s^*$.\n",
        "\n",
        "-   Right child: Observations where $X_j^* > s^*$.\n",
        "\n",
        "The algorithm then recursively applies Steps 1–3 to each child node, treating the data in each child node as a new dataset. This process continues until a stopping criterion is met.\n",
        "\n",
        "5. topping Criteria\n",
        "\n",
        "The recursion stops when one of the following conditions is satisfied:\n",
        "\n",
        "-   No predictor has an adjusted p-value below the significance threshold $\\alpha$, indicating no significant association with $Y$.\n",
        "-   The node contains fewer than a minimum number of observations (e.g., $n_{\\min}$).\n",
        "-   The maximum tree depth is reached (optional, user-specified).\n",
        "-   The response values in the node are sufficiently homogeneous (e.g., all observations belong to the same class for classification, or the variance of $Y$ is below a threshold for regression).\n",
        "\n",
        "For regression, homogeneity can be assessed using the variance of $Y$ in the node:\n",
        "\n",
        "$$ \\text{Var}(Y) = \\frac{1}{n} \\sum_{i=1}^n (Y_i - \\bar{Y})^2, $$\n",
        "\n",
        "where $\\bar{Y}$ is the mean of $Y$ in the node.\n",
        "\n",
        "If $\\text{Var}(Y)$ is small, further splitting may not be necessary.\n",
        "\n",
        "6. Prediction\n",
        "\n",
        "Once the tree is built, predictions are made as follows:\n",
        "\n",
        "-   **Classification**:\n",
        "\n",
        "-   For a new observation with features $\\mathbf{x}$, traverse the tree by following the decision rules until a terminal node is reached.\n",
        "\n",
        "-   The predicted class is the majority class in the terminal node:\n",
        "\n",
        "$$\\hat{y} = \\arg\\max_k \\frac{n_k}{n} $$\n",
        "\n",
        "where $n_k$ is the number of observations of class $k$ in the terminal node, and $n$ is the total number of observations in the node.\n",
        "\n",
        "-   **Regression**:\n",
        "\n",
        "-   Traverse the tree to reach a terminal node.\n",
        "\n",
        "-   The predicted value is the mean of the response values in the terminal node:\n",
        "\n",
        "$$ \\hat{y} = \\frac{1}{n} \\sum_{i \\in \\text{node}} Y_i. $$\n",
        "\n"
      ],
      "metadata": {
        "id": "Vn-U0DinTuIv"
      }
    },
    {
      "cell_type": "markdown",
      "source": [
        "The below figure summarizes the workflow of a Conditional Inference Tree (CIT):\n",
        "\n",
        "![alt text](http://drive.google.com/uc?export=view&id=1gsrt0fg5XUnWjX8iQqylEA5TX4TXyOld)"
      ],
      "metadata": {
        "id": "-1hM2cPkdVdi"
      }
    },
    {
      "cell_type": "markdown",
      "source": [
        "### Differences Between Classification and Regression\n",
        "\n",
        "| Aspect | Classification | Regression |\n",
        "|------------------------|------------------------|------------------------|\n",
        "| `Response Variable` | Categorical ($Y \\in \\{1, \\dots, K\\}$) | Continuous ($Y \\in \\mathbb{R}$) |\n",
        "| `Test Statistic` | Chi-squared, permutation test | F-test, t-test, correlation-based |\n",
        "| `Split Criterion` | Maximize class separation (e.g., Gini) | Minimize variance or maximize mean difference |\n",
        "| `Prediction` | Majority class in terminal node | Mean of response in terminal node |\n"
      ],
      "metadata": {
        "id": "RbdjXkcsd113"
      }
    },
    {
      "cell_type": "markdown",
      "source": [
        "### Advantages of CITs\n",
        "\n",
        "-   `Unbiased Variable Selection`: Unlike CART, which favors variables with many split points, CITs use p-values to ensure fairness.\n",
        "-   `Statistical Rigor`: The use of hypothesis testing controls overfitting and provides a principled stopping rule.\n",
        "-   `Flexibility`: Works for both classification and regression, handling mixed predictor types (continuous, categorical)."
      ],
      "metadata": {
        "id": "Odu-44w7d2kE"
      }
    },
    {
      "cell_type": "markdown",
      "source": [
        "### Limitations\n",
        "\n",
        "-   `Computational Cost`: Permutation tests and p-value adjustments can be computationally intensive.\n",
        "-   `Interpretability`: Deep trees may still be complex to interpret.\n",
        "-   `Performance`: May not always outperform other methods (e.g., random forests) in predictive accuracy."
      ],
      "metadata": {
        "id": "U0RHqEeZd6qD"
      }
    },
    {
      "cell_type": "markdown",
      "source": [
        "### How Does a Conditional Inference Tree Differ from a Traditional Decision Tree?\n",
        "\n",
        "Conditional Inference Trees (CITs) and traditional decision trees (like CART) are both tree-based models used for classification and regression. However, they differ significantly in their approach to splitting data and handling variable selection. Below is a comparison of the two methods:\n",
        "\n",
        "| **Aspect** | **Conditional Inference Tree (CIT)** | **Traditional Decision Tree (e.g., CART)** |\n",
        "|------------------------|------------------------|------------------------|\n",
        "| `Splitting Criterion` | Uses statistical hypothesis tests (p-values) to select splits. | Uses heuristic measures like Gini impurity, entropy, or variance reduction. |\n",
        "| `Variable Selection Bias` | Unbiased; avoids favoring variables with more categories or values. | Biased toward variables with more split points (e.g., continuous or multi-level categorical variables). |\n",
        "| `Statistical Foundation` | Grounded in statistical theory, with control for multiple testing. | Heuristic-based, lacking formal statistical guarantees. |\n",
        "| `Overfitting Control` | Stops splitting when no significant association is found, reducing overfitting. | Relies on pruning or maximum depth to control overfitting, which may not be statistically justified. |\n",
        "| `Interpretability` | Similar interpretability, but splits are statistically justified. | Highly interpretable, but splits may be less reliable due to bias. |\n",
        "| `Flexibility` | Handles mixed data types well; less sensitive to data distribution. | Flexible but may require preprocessing for certain data types. |\n",
        "| `Computational Complexity` | Slightly higher due to statistical testing at each node. | Generally faster due to simpler heuristic calculations. |\n",
        "\n",
        "Below are the key differences in practice:\n",
        "\n",
        "-   `Bias in Variable Selection`: In a traditional decision tree, a categorical variable with 10 categories might be preferred over one with 2 categories because it offers more splitting options. CITs avoid this by using p-values, making variable selection fairer.\n",
        "-   `Statistical Rigor`: CITs provide a more rigorous framework, as splits are based on statistically significant associations, which can lead to more reliable models in settings where interpretability and statistical validity are crucial (e.g., medical or social sciences).\n",
        "-   `Overfitting`: CITs naturally limit tree growth by stopping when no significant splits are found, whereas traditional trees may grow excessively and require post-pruning."
      ],
      "metadata": {
        "id": "ZHVhJNzCd7O3"
      }
    },
    {
      "cell_type": "markdown",
      "source": [
        "## Setup R in Python Runtype"
      ],
      "metadata": {
        "id": "E33fo5sKeDeK"
      }
    },
    {
      "cell_type": "markdown",
      "source": [
        "### Install rpy2"
      ],
      "metadata": {
        "id": "SDp3ULld8Gb9"
      }
    },
    {
      "cell_type": "code",
      "source": [
        "!pip uninstall rpy2 -y\n",
        "!pip install rpy2==3.5.1\n",
        "%load_ext rpy2.ipython"
      ],
      "metadata": {
        "id": "CiM6y-Mw8AJp",
        "colab": {
          "base_uri": "https://localhost:8080/"
        },
        "outputId": "bf459ceb-104f-4812-ca70-3f09398d2f8a"
      },
      "execution_count": null,
      "outputs": [
        {
          "output_type": "stream",
          "name": "stdout",
          "text": [
            "Found existing installation: rpy2 3.5.17\n",
            "Uninstalling rpy2-3.5.17:\n",
            "  Successfully uninstalled rpy2-3.5.17\n",
            "Collecting rpy2==3.5.1\n",
            "  Downloading rpy2-3.5.1.tar.gz (201 kB)\n",
            "\u001b[2K     \u001b[90m━━━━━━━━━━━━━━━━━━━━━━━━━━━━━━━━━━━━━━━\u001b[0m \u001b[32m201.7/201.7 kB\u001b[0m \u001b[31m3.2 MB/s\u001b[0m eta \u001b[36m0:00:00\u001b[0m\n",
            "\u001b[?25h  Preparing metadata (setup.py) ... \u001b[?25l\u001b[?25hdone\n",
            "Requirement already satisfied: cffi>=1.10.0 in /usr/local/lib/python3.11/dist-packages (from rpy2==3.5.1) (1.17.1)\n",
            "Requirement already satisfied: jinja2 in /usr/local/lib/python3.11/dist-packages (from rpy2==3.5.1) (3.1.6)\n",
            "Requirement already satisfied: pytz in /usr/local/lib/python3.11/dist-packages (from rpy2==3.5.1) (2025.2)\n",
            "Requirement already satisfied: tzlocal in /usr/local/lib/python3.11/dist-packages (from rpy2==3.5.1) (5.3.1)\n",
            "Requirement already satisfied: pycparser in /usr/local/lib/python3.11/dist-packages (from cffi>=1.10.0->rpy2==3.5.1) (2.22)\n",
            "Requirement already satisfied: MarkupSafe>=2.0 in /usr/local/lib/python3.11/dist-packages (from jinja2->rpy2==3.5.1) (3.0.2)\n",
            "Building wheels for collected packages: rpy2\n",
            "  Building wheel for rpy2 (setup.py) ... \u001b[?25l\u001b[?25hdone\n",
            "  Created wheel for rpy2: filename=rpy2-3.5.1-cp311-cp311-linux_x86_64.whl size=314975 sha256=af4031aea50505079f645109043b965ea222718719fdde79a27684e6f59368e7\n",
            "  Stored in directory: /root/.cache/pip/wheels/e9/55/d1/47be85a5f3f1e1f4d1e91cb5e3a4dcb40dd72147f184c5a5ef\n",
            "Successfully built rpy2\n",
            "Installing collected packages: rpy2\n",
            "Successfully installed rpy2-3.5.1\n"
          ]
        }
      ]
    },
    {
      "cell_type": "markdown",
      "source": [
        "### Mount Google Drive"
      ],
      "metadata": {
        "id": "O1zeuaCowiBt"
      }
    },
    {
      "cell_type": "code",
      "source": [
        "from google.colab import drive\n",
        "drive.mount('/content/drive')"
      ],
      "metadata": {
        "colab": {
          "base_uri": "https://localhost:8080/"
        },
        "id": "9J-4ie4bwiJ1",
        "outputId": "d3c30600-c7ff-4ebb-8b2e-c4d0bfe8c0b1"
      },
      "execution_count": null,
      "outputs": [
        {
          "output_type": "stream",
          "name": "stdout",
          "text": [
            "Mounted at /content/drive\n"
          ]
        }
      ]
    },
    {
      "cell_type": "markdown",
      "source": [
        "## Conditional Inference Tree (CIT) from Scratch in R\n",
        "\n",
        "Conditional Inference Trees (CIT) are an advanced type of decision tree that use statistical tests to select splits, reducing bias toward features with many possible splits (unlike CART, which uses Gini or MSE). Implementing CIT from scratch in R without packages is complex due to the need for statistical tests (e.g., permutation tests) for split selection. Since you previously requested no R packages for CART and encountered issues with the Boston Housing and Iris datasets, I’ll provide a simplified implementation of CIT in base R, focusing on core concepts while maintaining compatibility with your prior context (classification on Iris, regression on Boston Housing)."
      ],
      "metadata": {
        "id": "UdMcXPIF4Bly"
      }
    },
    {
      "cell_type": "markdown",
      "source": [
        "### Classification Example\n",
        "\n",
        "For classification, we’ll: - Test each feature’s association with `Species` using a chi-squared test on discretized feature values. - Select the feature and threshold with the lowest p-value. - Recursively split until a significance threshold (e.g., p > 0.05) or other criteria (max depth, min size) are met."
      ],
      "metadata": {
        "id": "D_Me2SujiEbH"
      }
    },
    {
      "cell_type": "markdown",
      "source": [
        "#### Data\n",
        "\n",
        "We will create a synthetic dataset that mimics the Iris dataset, ensuring that the features are numeric and the target variable is a factor. This will help us avoid issues with factor levels and ensure that the model can be trained effectively.\n"
      ],
      "metadata": {
        "id": "ztl1QBDb4MYe"
      }
    },
    {
      "cell_type": "code",
      "source": [
        "%%R\n",
        "# Set seed for reproducibility\n",
        "set.seed(123)\n",
        "\n",
        "# Number of observations\n",
        "n <- 150\n",
        "\n",
        "# Synthetic features mimicking Iris dataset\n",
        "data <- data.frame(\n",
        "  sepal_length = runif(n, 4, 8),       # Sepal length (range similar to Iris: 4.3 to 7.9)\n",
        "  sepal_width = runif(n, 2, 4.5),      # Sepal width (range similar to Iris: 2.0 to 4.4)\n",
        "  petal_length = runif(n, 1, 7),       # Petal length (range similar to Iris: 1.0 to 6.9)\n",
        "  petal_width = runif(n, 0.1, 2.5),    # Petal width (range similar to Iris: 0.1 to 2.5)\n",
        "  species = factor(sample(c(\"setosa\", \"versicolor\", \"virginica\"), n, replace = TRUE,\n",
        "                          prob = c(0.33, 0.33, 0.34)))  # Species with roughly equal distribution\n",
        ")\n",
        "\n",
        "# View the first few rows\n",
        "head(data)"
      ],
      "metadata": {
        "id": "q82MNCn64Q0w",
        "colab": {
          "base_uri": "https://localhost:8080/"
        },
        "outputId": "aea6b6a9-8786-4068-8039-a1d1241cc338"
      },
      "execution_count": null,
      "outputs": [
        {
          "output_type": "stream",
          "name": "stdout",
          "text": [
            "  sepal_length sepal_width petal_length petal_width   species\n",
            "1     5.150310    4.118633     5.707452   1.3571742 virginica\n",
            "2     7.153221    3.243818     1.056579   0.9395243    setosa\n",
            "3     5.635908    2.969773     5.674395   0.6772737 virginica\n",
            "4     7.532070    2.616122     5.376344   0.2396603 virginica\n",
            "5     7.761869    2.277741     4.780791   0.6678874 virginica\n",
            "6     4.182226    2.974986     3.885465   2.2361870    setosa\n"
          ]
        }
      ]
    },
    {
      "cell_type": "markdown",
      "source": [
        "#### Define CIT Functions for Classification\n",
        "\n",
        "1. `discretize`: Converts a numeric feature into discrete bins using quantiles.\n",
        "   - Checks for sufficient unique values; if too few, returns a factor or single bin.\n",
        "   - Creates bins based on quantiles, adjusting breaks if needed, and handles NAs by assigning them to bin 1.\n",
        "\n",
        "2. `chi_squared_test`: Tests association between a feature and target using a chi-squared test.\n",
        "   - Skips if too few unique values or invalid contingency table (e.g., zeros or small counts).\n",
        "   - Returns p-value; defaults to 1 if test fails or returns NA.\n",
        "\n",
        "3. `find_best_split_class`: Identifies the best binary split for numeric features.\n",
        "   - Iterates over numeric features and possible thresholds (midpoints of sorted values).\n",
        "   - Discretizes feature at each threshold, tests with chi-squared, and tracks split with lowest p-value.\n",
        "   - Returns feature, threshold, p-value, and indices for left/right splits; returns NULL if no valid split.\n",
        "\n",
        "4. `build_tree_class`: Recursively builds a classification tree.\n",
        "   - Stops if: single class, too few rows, or max depth reached; returns a leaf with majority class.\n",
        "   - Finds best split; if none or p-value > alpha, returns a leaf.\n",
        "   - Splits data and recursively builds left/right subtrees, returning a node with feature, threshold, and subtrees.\n",
        "\n",
        "5. `predict_tree_class`: Predicts class for a single row using the tree.\n",
        "   - Returns leaf's class if at a leaf.\n",
        "   - Traverses left or right subtree based on feature value relative to threshold (handles NAs by going left).\n"
      ],
      "metadata": {
        "id": "4BpOoaj34eBU"
      }
    },
    {
      "cell_type": "code",
      "source": [
        "%%R\n",
        "# Discretize a numeric feature into bins\n",
        "discretize <- function(x, breaks = 4) {\n",
        "  if (length(unique(x[!is.na(x)])) < 2) {\n",
        "    cat(\"Discretize: too few unique values, returning as factor\\n\")\n",
        "    return(as.factor(x))\n",
        "  }\n",
        "  n_unique <- length(unique(x[!is.na(x)]))\n",
        "  if (n_unique < breaks) breaks <- n_unique\n",
        "  if (breaks < 2) {\n",
        "    cat(\"Discretize: forcing single bin\\n\")\n",
        "    return(rep(1, length(x)))\n",
        "  }\n",
        "  quantiles <- quantile(x, probs = seq(0, 1, length.out = breaks + 1), na.rm = TRUE)\n",
        "  quantiles <- unique(quantiles)\n",
        "  if (length(quantiles) < 2) {\n",
        "    cat(\"Discretize: quantiles collapsed, forcing single bin\\n\")\n",
        "    return(rep(1, length(x)))\n",
        "  }\n",
        "  if (length(quantiles) < breaks + 1) {\n",
        "    breaks <- length(quantiles) - 1\n",
        "    cat(\"Discretize: reduced breaks to\", breaks, \"\\n\")\n",
        "  }\n",
        "  result <- cut(x, breaks = quantiles, include.lowest = TRUE, labels = FALSE)\n",
        "  if (any(is.na(result))) result[is.na(result)] <- 1\n",
        "  result\n",
        "}\n",
        "\n",
        "# Chi-squared test for feature-target association\n",
        "chi_squared_test <- function(feature, target) {\n",
        "  if (length(unique(feature)) < 2 || length(unique(target)) < 2) {\n",
        "    cat(\"Skipping chi-squared test: too few unique values\\n\")\n",
        "    return(1)\n",
        "  }\n",
        "  table_data <- table(feature, target)\n",
        "  if (any(dim(table_data) < 2) || any(table_data == 0) || sum(table_data) < 10) {\n",
        "    cat(\"Invalid contingency table:\\n\")\n",
        "    print(table_data)\n",
        "    return(1)\n",
        "  }\n",
        "  test <- try(chisq.test(table_data, correct = FALSE), silent = TRUE)\n",
        "  if (inherits(test, \"try-error\") || is.na(test$p.value)) {\n",
        "    cat(\"Chi-squared test failed or returned NA\\n\")\n",
        "    return(1)\n",
        "  }\n",
        "  test$p.value\n",
        "}\n",
        "\n",
        "# Find best split based on p-value\n",
        "find_best_split_class <- function(data, target) {\n",
        "  features <- names(data)[names(data) != target]\n",
        "  numeric_features <- features[sapply(data[features], is.numeric)]\n",
        "\n",
        "  best_pvalue <- 1\n",
        "  best_feature <- NULL\n",
        "  best_threshold <- NULL\n",
        "  best_split <- NULL\n",
        "\n",
        "  for (feature in numeric_features) {\n",
        "    values <- sort(unique(data[[feature]][!is.na(data[[feature]])]))\n",
        "    if (length(values) < 2) {\n",
        "      cat(\"Skipping feature\", feature, \": too few unique values\\n\")\n",
        "      next\n",
        "    }\n",
        "    thresholds <- (values[-length(values)] + values[-1]) / 2\n",
        "\n",
        "    for (threshold in thresholds) {\n",
        "      left_idx <- data[[feature]] <= threshold & !is.na(data[[feature]])\n",
        "      right_idx <- data[[feature]] > threshold & !is.na(data[[feature]])\n",
        "      if (sum(left_idx) < 5 || sum(right_idx) < 5) {\n",
        "        cat(\"Skipping threshold\", threshold, \"for\", feature, \": too few observations\\n\")\n",
        "        next\n",
        "      }\n",
        "\n",
        "      split_feature <- discretize(as.numeric(data[[feature]] <= threshold))\n",
        "      pvalue <- chi_squared_test(split_feature, data[[target]])\n",
        "\n",
        "      if (is.na(pvalue)) {\n",
        "        cat(\"NA p-value for feature\", feature, \"at threshold\", threshold, \"\\n\")\n",
        "        next\n",
        "      }\n",
        "\n",
        "      if (pvalue < best_pvalue) {\n",
        "        best_pvalue <- pvalue\n",
        "        best_feature <- feature\n",
        "        best_threshold <- threshold\n",
        "        best_split <- list(left_idx = left_idx, right_idx = right_idx)\n",
        "      }\n",
        "    }\n",
        "  }\n",
        "\n",
        "  if (is.null(best_feature)) {\n",
        "    cat(\"No valid split found\\n\")\n",
        "  }\n",
        "\n",
        "  list(feature = best_feature, threshold = best_threshold,\n",
        "       pvalue = best_pvalue, split = best_split)\n",
        "}\n",
        "\n",
        "# Build conditional inference tree\n",
        "build_tree_class <- function(data, target, max_depth = 3, min_size = 5, depth = 0, alpha = 0.05) {\n",
        "  classes <- data[[target]]\n",
        "\n",
        "  # Stopping criteria\n",
        "  if (length(unique(classes)) == 1 || nrow(data) < min_size || depth >= max_depth) {\n",
        "    return(list(\n",
        "      is_leaf = TRUE,\n",
        "      class = names(sort(table(classes), decreasing = TRUE))[1]\n",
        "    ))\n",
        "  }\n",
        "\n",
        "  # Find best split\n",
        "  split_info <- find_best_split_class(data, target)\n",
        "  if (is.null(split_info$feature) || split_info$pvalue > alpha) {\n",
        "    return(list(\n",
        "      is_leaf = TRUE,\n",
        "      class = names(sort(table(classes), decreasing = TRUE))[1]\n",
        "    ))\n",
        "  }\n",
        "\n",
        "  # Split data\n",
        "  left_data <- data[split_info$split$left_idx, ]\n",
        "  right_data <- data[split_info$split$right_idx, ]\n",
        "\n",
        "  # Build subtrees\n",
        "  left_subtree <- build_tree_class(left_data, target, max_depth, min_size, depth + 1, alpha)\n",
        "  right_subtree <- build_tree_class(right_data, target, max_depth, min_size, depth + 1, alpha)\n",
        "\n",
        "  # Return node\n",
        "  list(\n",
        "    is_leaf = FALSE,\n",
        "    feature = split_info$feature,\n",
        "    threshold = split_info$threshold,\n",
        "    left = left_subtree,\n",
        "    right = right_subtree\n",
        "  )\n",
        "}\n",
        "\n",
        "# Predict for a single observation\n",
        "predict_tree_class <- function(tree, row) {\n",
        "  if (tree$is_leaf) return(tree$class)\n",
        "  if (is.na(row[[tree$feature]]) || row[[tree$feature]] <= tree$threshold) {\n",
        "    predict_tree_class(tree$left, row)\n",
        "  } else {\n",
        "    predict_tree_class(tree$right, row)\n",
        "  }\n",
        "}"
      ],
      "metadata": {
        "id": "6C-2iM4ju9qS"
      },
      "execution_count": null,
      "outputs": []
    },
    {
      "cell_type": "markdown",
      "source": [
        "#### Fit the Model\n"
      ],
      "metadata": {
        "id": "vJ08RKtk5RRN"
      }
    },
    {
      "cell_type": "code",
      "source": [
        "%%R\n",
        "set.seed(123)\n",
        "n <- nrow(data)\n",
        "train_idx <- sample(1:n, 0.8 * n)\n",
        "train_data <- iris[train_idx, ]\n",
        "test_data <- iris[-train_idx, ]\n",
        "\n",
        "# Ensure no NA in target\n",
        "train_data <- train_data[!is.na(train_data$Species), ]\n",
        "test_data <- test_data[!is.na(test_data$Species), ]\n",
        "\n",
        "# Build tree\n",
        "tree <- build_tree_class(train_data, \"Species\", max_depth = 3, min_size = 5, alpha = 0.05)"
      ],
      "metadata": {
        "id": "uRm4jHSs5d2s",
        "colab": {
          "base_uri": "https://localhost:8080/"
        },
        "outputId": "7ced3d62-21f2-4397-92f0-deacfcd97f42"
      },
      "execution_count": null,
      "outputs": [
        {
          "output_type": "stream",
          "name": "stdout",
          "text": [
            "Skipping threshold 4.35 for Sepal.Length : too few observations\n",
            "Skipping threshold 4.45 for Sepal.Length : too few observations\n",
            "Discretize: reduced breaks to 1 \n",
            "Skipping chi-squared test: too few unique values\n",
            "Discretize: reduced breaks to 1 \n",
            "Skipping chi-squared test: too few unique values\n",
            "Discretize: reduced breaks to 1 \n",
            "Skipping chi-squared test: too few unique values\n",
            "Discretize: reduced breaks to 1 \n",
            "Skipping chi-squared test: too few unique values\n",
            "Discretize: reduced breaks to 1 \n",
            "Skipping chi-squared test: too few unique values\n",
            "Discretize: reduced breaks to 1 \n",
            "Skipping chi-squared test: too few unique values\n",
            "Discretize: reduced breaks to 1 \n",
            "Skipping chi-squared test: too few unique values\n",
            "Discretize: reduced breaks to 1 \n",
            "Skipping chi-squared test: too few unique values\n",
            "Discretize: reduced breaks to 1 \n",
            "Skipping chi-squared test: too few unique values\n",
            "Discretize: reduced breaks to 1 \n",
            "Skipping chi-squared test: too few unique values\n",
            "Discretize: reduced breaks to 1 \n",
            "Skipping chi-squared test: too few unique values\n",
            "Discretize: reduced breaks to 1 \n",
            "Skipping chi-squared test: too few unique values\n",
            "Discretize: reduced breaks to 1 \n",
            "Skipping chi-squared test: too few unique values\n",
            "Discretize: reduced breaks to 1 \n",
            "Skipping chi-squared test: too few unique values\n",
            "Discretize: reduced breaks to 1 \n",
            "Skipping chi-squared test: too few unique values\n",
            "Discretize: reduced breaks to 1 \n",
            "Skipping chi-squared test: too few unique values\n",
            "Discretize: reduced breaks to 1 \n",
            "Skipping chi-squared test: too few unique values\n",
            "Discretize: reduced breaks to 1 \n",
            "Skipping chi-squared test: too few unique values\n",
            "Discretize: reduced breaks to 1 \n",
            "Skipping chi-squared test: too few unique values\n",
            "Discretize: reduced breaks to 1 \n",
            "Skipping chi-squared test: too few unique values\n",
            "Discretize: reduced breaks to 1 \n",
            "Skipping chi-squared test: too few unique values\n",
            "Discretize: reduced breaks to 1 \n",
            "Skipping chi-squared test: too few unique values\n",
            "Discretize: reduced breaks to 1 \n",
            "Skipping chi-squared test: too few unique values\n",
            "Discretize: reduced breaks to 1 \n",
            "Skipping chi-squared test: too few unique values\n",
            "Discretize: reduced breaks to 1 \n",
            "Skipping chi-squared test: too few unique values\n",
            "Discretize: reduced breaks to 1 \n",
            "Skipping chi-squared test: too few unique values\n",
            "Discretize: reduced breaks to 1 \n",
            "Skipping chi-squared test: too few unique values\n",
            "Discretize: reduced breaks to 1 \n",
            "Skipping chi-squared test: too few unique values\n",
            "Discretize: reduced breaks to 1 \n",
            "Skipping chi-squared test: too few unique values\n",
            "Discretize: reduced breaks to 1 \n",
            "Skipping chi-squared test: too few unique values\n",
            "Skipping threshold 7.8 for Sepal.Length : too few observations\n",
            "Skipping threshold 2.25 for Sepal.Width : too few observations\n",
            "Discretize: reduced breaks to 1 \n",
            "Skipping chi-squared test: too few unique values\n",
            "Discretize: reduced breaks to 1 \n",
            "Skipping chi-squared test: too few unique values\n",
            "Discretize: reduced breaks to 1 \n",
            "Skipping chi-squared test: too few unique values\n",
            "Discretize: reduced breaks to 1 \n",
            "Skipping chi-squared test: too few unique values\n",
            "Discretize: reduced breaks to 1 \n",
            "Skipping chi-squared test: too few unique values\n",
            "Discretize: reduced breaks to 1 \n",
            "Skipping chi-squared test: too few unique values\n",
            "Discretize: reduced breaks to 1 \n",
            "Skipping chi-squared test: too few unique values\n",
            "Discretize: reduced breaks to 1 \n",
            "Skipping chi-squared test: too few unique values\n",
            "Discretize: reduced breaks to 1 \n",
            "Skipping chi-squared test: too few unique values\n",
            "Discretize: reduced breaks to 1 \n",
            "Skipping chi-squared test: too few unique values\n",
            "Discretize: reduced breaks to 1 \n",
            "Skipping chi-squared test: too few unique values\n",
            "Discretize: reduced breaks to 1 \n",
            "Skipping chi-squared test: too few unique values\n",
            "Discretize: reduced breaks to 1 \n",
            "Skipping chi-squared test: too few unique values\n",
            "Discretize: reduced breaks to 1 \n",
            "Skipping chi-squared test: too few unique values\n",
            "Discretize: reduced breaks to 1 \n",
            "Skipping chi-squared test: too few unique values\n",
            "Discretize: reduced breaks to 1 \n",
            "Skipping chi-squared test: too few unique values\n",
            "Skipping threshold 3.95 for Sepal.Width : too few observations\n",
            "Skipping threshold 4.1 for Sepal.Width : too few observations\n",
            "Skipping threshold 4.3 for Sepal.Width : too few observations\n",
            "Skipping threshold 1.05 for Petal.Length : too few observations\n",
            "Skipping threshold 1.15 for Petal.Length : too few observations\n",
            "Skipping threshold 1.25 for Petal.Length : too few observations\n",
            "Discretize: reduced breaks to 1 \n",
            "Skipping chi-squared test: too few unique values\n",
            "Discretize: reduced breaks to 1 \n",
            "Skipping chi-squared test: too few unique values\n",
            "Discretize: reduced breaks to 1 \n",
            "Skipping chi-squared test: too few unique values\n",
            "Discretize: reduced breaks to 1 \n",
            "Skipping chi-squared test: too few unique values\n",
            "Discretize: reduced breaks to 1 \n",
            "Skipping chi-squared test: too few unique values\n",
            "Discretize: reduced breaks to 1 \n",
            "Skipping chi-squared test: too few unique values\n",
            "Discretize: reduced breaks to 1 \n",
            "Skipping chi-squared test: too few unique values\n",
            "Discretize: reduced breaks to 1 \n",
            "Skipping chi-squared test: too few unique values\n",
            "Discretize: reduced breaks to 1 \n",
            "Skipping chi-squared test: too few unique values\n",
            "Discretize: reduced breaks to 1 \n",
            "Skipping chi-squared test: too few unique values\n",
            "Discretize: reduced breaks to 1 \n",
            "Skipping chi-squared test: too few unique values\n",
            "Discretize: reduced breaks to 1 \n",
            "Skipping chi-squared test: too few unique values\n",
            "Discretize: reduced breaks to 1 \n",
            "Skipping chi-squared test: too few unique values\n",
            "Discretize: reduced breaks to 1 \n",
            "Skipping chi-squared test: too few unique values\n",
            "Discretize: reduced breaks to 1 \n",
            "Skipping chi-squared test: too few unique values\n",
            "Discretize: reduced breaks to 1 \n",
            "Skipping chi-squared test: too few unique values\n",
            "Invalid contingency table:\n",
            "       target\n",
            "feature setosa versicolor virginica\n",
            "      1      0         15        45\n",
            "      2     40         20         0\n",
            "Discretize: reduced breaks to 1 \n",
            "Skipping chi-squared test: too few unique values\n",
            "Discretize: reduced breaks to 1 \n",
            "Skipping chi-squared test: too few unique values\n",
            "Discretize: reduced breaks to 1 \n",
            "Skipping chi-squared test: too few unique values\n",
            "Discretize: reduced breaks to 1 \n",
            "Skipping chi-squared test: too few unique values\n",
            "Discretize: reduced breaks to 1 \n",
            "Skipping chi-squared test: too few unique values\n",
            "Discretize: reduced breaks to 1 \n",
            "Skipping chi-squared test: too few unique values\n",
            "Discretize: reduced breaks to 1 \n",
            "Skipping chi-squared test: too few unique values\n",
            "Discretize: reduced breaks to 1 \n",
            "Skipping chi-squared test: too few unique values\n",
            "Discretize: reduced breaks to 1 \n",
            "Skipping chi-squared test: too few unique values\n",
            "Discretize: reduced breaks to 1 \n",
            "Skipping chi-squared test: too few unique values\n",
            "Discretize: reduced breaks to 1 \n",
            "Skipping chi-squared test: too few unique values\n",
            "Discretize: reduced breaks to 1 \n",
            "Skipping chi-squared test: too few unique values\n",
            "Discretize: reduced breaks to 1 \n",
            "Skipping chi-squared test: too few unique values\n",
            "Discretize: reduced breaks to 1 \n",
            "Skipping chi-squared test: too few unique values\n",
            "Discretize: reduced breaks to 1 \n",
            "Skipping chi-squared test: too few unique values\n",
            "Discretize: reduced breaks to 1 \n",
            "Skipping chi-squared test: too few unique values\n",
            "Discretize: reduced breaks to 1 \n",
            "Skipping chi-squared test: too few unique values\n",
            "Discretize: reduced breaks to 1 \n",
            "Skipping chi-squared test: too few unique values\n",
            "Skipping threshold 6.5 for Petal.Length : too few observations\n",
            "Skipping threshold 6.65 for Petal.Length : too few observations\n",
            "Skipping threshold 6.8 for Petal.Length : too few observations\n",
            "Skipping threshold 0.15 for Petal.Width : too few observations\n",
            "Discretize: reduced breaks to 1 \n",
            "Skipping chi-squared test: too few unique values\n",
            "Discretize: reduced breaks to 1 \n",
            "Skipping chi-squared test: too few unique values\n",
            "Discretize: reduced breaks to 1 \n",
            "Skipping chi-squared test: too few unique values\n",
            "Discretize: reduced breaks to 1 \n",
            "Skipping chi-squared test: too few unique values\n",
            "Discretize: reduced breaks to 1 \n",
            "Skipping chi-squared test: too few unique values\n",
            "Discretize: reduced breaks to 1 \n",
            "Skipping chi-squared test: too few unique values\n",
            "Discretize: reduced breaks to 1 \n",
            "Skipping chi-squared test: too few unique values\n",
            "Discretize: reduced breaks to 1 \n",
            "Skipping chi-squared test: too few unique values\n",
            "Discretize: reduced breaks to 1 \n",
            "Skipping chi-squared test: too few unique values\n",
            "Discretize: reduced breaks to 1 \n",
            "Skipping chi-squared test: too few unique values\n",
            "Discretize: reduced breaks to 1 \n",
            "Skipping chi-squared test: too few unique values\n",
            "Discretize: reduced breaks to 1 \n",
            "Skipping chi-squared test: too few unique values\n",
            "Discretize: reduced breaks to 1 \n",
            "Skipping chi-squared test: too few unique values\n",
            "Discretize: reduced breaks to 1 \n",
            "Skipping chi-squared test: too few unique values\n",
            "Discretize: reduced breaks to 1 \n",
            "Skipping chi-squared test: too few unique values\n",
            "Discretize: reduced breaks to 1 \n",
            "Skipping chi-squared test: too few unique values\n",
            "Discretize: reduced breaks to 1 \n",
            "Skipping chi-squared test: too few unique values\n",
            "Discretize: reduced breaks to 1 \n",
            "Skipping chi-squared test: too few unique values\n",
            "Discretize: reduced breaks to 1 \n",
            "Skipping chi-squared test: too few unique values\n",
            "Skipping threshold 2.45 for Petal.Width : too few observations\n",
            "No valid split found\n"
          ]
        }
      ]
    },
    {
      "cell_type": "markdown",
      "source": [
        "#### Prediction and Evaluation"
      ],
      "metadata": {
        "id": "DZb2rdMl5kZj"
      }
    },
    {
      "cell_type": "code",
      "source": [
        "%%R\n",
        "# Predict on test data\n",
        "predictions <- apply(test_data, 1, function(row) predict_tree_class(tree, row))\n",
        "\n",
        "# Check for NA in predictions\n",
        "if (any(is.na(predictions))) {\n",
        "  cat(\"Warning: NA values in predictions\\n\")\n",
        "}\n",
        "\n",
        "# Evaluate accuracy\n",
        "accuracy <- mean(predictions == test_data$Species, na.rm = TRUE)\n",
        "cat(\"Classification Accuracy:\", accuracy, \"\\n\")"
      ],
      "metadata": {
        "id": "i3CEmPnMV2Gd",
        "colab": {
          "base_uri": "https://localhost:8080/"
        },
        "outputId": "238d4d87-481a-4f18-a189-ca23f1fb42b4"
      },
      "execution_count": null,
      "outputs": [
        {
          "output_type": "stream",
          "name": "stdout",
          "text": [
            "Classification Accuracy: 0.1666667 \n"
          ]
        }
      ]
    },
    {
      "cell_type": "markdown",
      "source": [
        "### Regression Example\n",
        "\n",
        "\n",
        "\n"
      ],
      "metadata": {
        "id": "VRGuENR1V7m7"
      }
    },
    {
      "cell_type": "markdown",
      "source": [
        "#### Data\n",
        "\n",
        "We will create a synthetic dataset that mimics the Boston Housing dataset, ensuring that the `rooms` feature is numeric and `medv` is calculated after the data frame is created. This will help us avoid issues with factor levels and ensure that the model can be trained effectively."
      ],
      "metadata": {
        "id": "f90W5DkzkaR1"
      }
    },
    {
      "cell_type": "code",
      "source": [
        "%%R\n",
        "# Set seed for reproducibility\n",
        "set.seed(123)\n",
        "\n",
        "# Number of observations\n",
        "n <- 506\n",
        "\n",
        "# Synthetic features mimicking Boston Housing dataset (initial creation without medv)\n",
        "data <- data.frame(\n",
        "  crim = runif(n, 0, 90),              # Per capita crime rate\n",
        "  zn = sample(c(0, 18, 25, 35), n, replace = TRUE, prob = c(0.7, 0.1, 0.1, 0.1)),  # Proportion of zoned land\n",
        "  indus = runif(n, 0, 27),             # Proportion of non-retail business acres\n",
        "  chas = sample(c(0, 1), n, replace = TRUE, prob = c(0.9, 0.1)),  # Charles River dummy\n",
        "  nox = runif(n, 0.38, 0.87),          # Nitric oxides concentration\n",
        "  rooms = as.numeric(runif(n, 3, 9)),  # Average number of rooms (explicitly numeric)\n",
        "  age = runif(n, 0, 100),              # Proportion of old units\n",
        "  dis = runif(n, 1, 12),               # Weighted distance to employment centers\n",
        "  rad = sample(1:24, n, replace = TRUE),  # Accessibility to highways\n",
        "  tax = runif(n, 187, 711),            # Property tax rate\n",
        "  ptratio = runif(n, 12, 22),          # Pupil-teacher ratio\n",
        "  b = runif(n, 0, 396),                # Proportion of Black residents (transformed)\n",
        "  lstat = runif(n, 1, 37)              # Lower status population percentage\n",
        ")\n",
        "\n",
        "# Calculate medv after the data frame is created\n",
        "data$medv <- 20 + 0.1 * (8 - data$rooms) + 0.2 * data$lstat + 0.05 * data$crim + rnorm(n, 0, 5)\n",
        "\n",
        "# Ensure medv stays within a reasonable range\n",
        "data$medv <- pmax(5, pmin(50, data$medv))\n",
        "\n",
        "# Verify rooms is numeric\n",
        "if (!is.numeric(data$rooms)) {\n",
        "  data$rooms <- as.numeric(as.character(data$rooms))\n",
        "  if (!is.numeric(data$rooms)) stop(\"Failed to convert rooms to numeric!\")\n",
        "}\n",
        "\n",
        "# View the first few rows and structure to confirm\n",
        "str(data)  # Check data structure"
      ],
      "metadata": {
        "colab": {
          "base_uri": "https://localhost:8080/"
        },
        "id": "QSwOo3aPkd8_",
        "outputId": "b33675c6-5651-4a6f-8107-9f21c25f6894"
      },
      "execution_count": null,
      "outputs": [
        {
          "output_type": "stream",
          "name": "stdout",
          "text": [
            "'data.frame':\t506 obs. of  14 variables:\n",
            " $ crim   : num  25.9 70.9 36.8 79.5 84.6 ...\n",
            " $ zn     : num  0 0 18 0 0 0 35 0 25 0 ...\n",
            " $ indus  : num  4.999 13.689 0.518 20.89 15.111 ...\n",
            " $ chas   : num  0 0 0 0 0 0 0 0 0 0 ...\n",
            " $ nox    : num  0.435 0.503 0.713 0.663 0.584 ...\n",
            " $ rooms  : num  8.14 6.3 6.99 6 8.54 ...\n",
            " $ age    : num  45.33 8.33 36.52 89.5 54.44 ...\n",
            " $ dis    : num  6.21 6.95 11.71 11.7 8.54 ...\n",
            " $ rad    : int  5 13 2 14 18 6 6 16 1 3 ...\n",
            " $ tax    : num  685 572 188 591 367 ...\n",
            " $ ptratio: num  16.5 18.4 20 17.4 20.8 ...\n",
            " $ b      : num  199.4 241.3 195.4 77.3 202.8 ...\n",
            " $ lstat  : num  35.32 27.02 8.62 14.52 24.88 ...\n",
            " $ medv   : num  19 34.3 23.7 21.6 25.1 ...\n"
          ]
        }
      ]
    },
    {
      "cell_type": "markdown",
      "source": [
        "#### Define CIT Functions for Regression\n",
        "\n",
        "\n",
        "1. `f_test`: Tests association between a feature and numeric target using an F-test via linear regression.\n",
        "   - Skips if too few unique values or groups < 2 levels; returns 1 if test fails.\n",
        "   - Returns p-value from ANOVA of the regression model.\n",
        "\n",
        "2. `find_best_split_reg`: Finds the best binary split for numeric features in regression.\n",
        "   - Iterates over features and thresholds (midpoints of sorted values).\n",
        "   - Tests splits using f_test, tracking the split with the lowest p-value.\n",
        "   - Returns feature, threshold, p-value, and split indices; returns NULL if no valid split.\n",
        "\n",
        "3. `build_tree_reg`: Recursively builds a regression tree.\n",
        "   - Stops if too few rows, max depth reached, or all target values are NA; returns a leaf with mean target value (0 if all NA).\n",
        "   - Uses best split if p-value < alpha; otherwise, returns a leaf.\n",
        "   - Splits data and builds left/right subtrees.\n",
        "\n",
        "4. `predict_tree_reg`: Predicts a numeric value for a single row.\n",
        "   - Returns leaf’s value (0 if NA) or traverses left/right subtree based on feature value vs. threshold (NAs go left)."
      ],
      "metadata": {
        "id": "h-hvjdXIkxW_"
      }
    },
    {
      "cell_type": "code",
      "source": [
        "%%R\n",
        "# F-test for feature-target association\n",
        "f_test <- function(feature, target) {\n",
        "  if (length(unique(feature)) < 2 || length(unique(target)) < 2) {\n",
        "    cat(\"Skipping F-test: too few unique values\\n\")\n",
        "    return(1)\n",
        "  }\n",
        "  groups <- as.factor(feature)\n",
        "  if (length(levels(groups)) < 2) {\n",
        "    cat(\"F-test: groups have fewer than 2 levels\\n\")\n",
        "    return(1)\n",
        "  }\n",
        "  fit <- try(lm(target ~ groups), silent = TRUE)\n",
        "  if (inherits(fit, \"try-error\")) {\n",
        "    cat(\"F-test: lm failed\\n\")\n",
        "    return(1)\n",
        "  }\n",
        "  anova_result <- anova(fit)\n",
        "  anova_result$\"Pr(>F)\"[1]\n",
        "}\n",
        "\n",
        "# Find best split for regression\n",
        "find_best_split_reg <- function(data, target) {\n",
        "  features <- names(data)[names(data) != target]\n",
        "  numeric_features <- features[sapply(data[features], is.numeric)]\n",
        "\n",
        "  best_pvalue <- 1\n",
        "  best_feature <- NULL\n",
        "  best_threshold <- NULL\n",
        "  best_split <- NULL\n",
        "\n",
        "  for (feature in numeric_features) {\n",
        "    values <- sort(unique(data[[feature]][!is.na(data[[feature]])]))\n",
        "    if (length(values) < 2) {\n",
        "      cat(\"Skipping feature\", feature, \": too few unique values\\n\")\n",
        "      next\n",
        "    }\n",
        "    thresholds <- (values[-length(values)] + values[-1]) / 2\n",
        "\n",
        "    for (threshold in thresholds) {\n",
        "      left_idx <- data[[feature]] <= threshold & !is.na(data[[feature]])\n",
        "      right_idx <- data[[feature]] > threshold & !is.na(data[[feature]])\n",
        "      if (sum(left_idx) < 5 || sum(right_idx) < 5) {\n",
        "        cat(\"Skipping threshold\", threshold, \"for\", feature, \": too few observations\\n\")\n",
        "        next\n",
        "      }\n",
        "\n",
        "      split_feature <- as.numeric(data[[feature]] <= threshold)\n",
        "      pvalue <- f_test(split_feature, data[[target]])\n",
        "\n",
        "      if (is.na(pvalue)) {\n",
        "        cat(\"NA p-value for feature\", feature, \"at threshold\", threshold, \"\\n\")\n",
        "        next\n",
        "      }\n",
        "\n",
        "      if (pvalue < best_pvalue) {\n",
        "        best_pvalue <- pvalue\n",
        "        best_feature <- feature\n",
        "        best_threshold <- threshold\n",
        "        best_split <- list(left_idx = left_idx, right_idx = right_idx)\n",
        "      }\n",
        "    }\n",
        "  }\n",
        "\n",
        "  if (is.null(best_feature)) {\n",
        "    cat(\"No valid split found\\n\")\n",
        "  }\n",
        "\n",
        "  list(feature = best_feature, threshold = best_threshold,\n",
        "       pvalue = best_pvalue, split = best_split)\n",
        "}\n",
        "\n",
        "# Build regression tree\n",
        "build_tree_reg <- function(data, target, max_depth = 3, min_size = 5, depth = 0, alpha = 0.05) {\n",
        "  values <- data[[target]]\n",
        "\n",
        "  if (nrow(data) < min_size || depth >= max_depth || all(is.na(values))) {\n",
        "    return(list(\n",
        "      is_leaf = TRUE,\n",
        "      value = if (all(is.na(values))) 0 else mean(values, na.rm = TRUE)\n",
        "    ))\n",
        "  }\n",
        "\n",
        "  split_info <- find_best_split_reg(data, target)\n",
        "  if (is.null(split_info$feature) || split_info$pvalue > alpha) {\n",
        "    return(list(\n",
        "      is_leaf = TRUE,\n",
        "      value = if (all(is.na(values))) 0 else mean(values, na.rm = TRUE)\n",
        "    ))\n",
        "  }\n",
        "\n",
        "  left_data <- data[split_info$split$left_idx, ]\n",
        "  right_data <- data[split_info$split$right_idx, ]\n",
        "\n",
        "  left_subtree <- build_tree_reg(left_data, target, max_depth, min_size, depth + 1, alpha)\n",
        "  right_subtree <- build_tree_reg(right_data, target, max_depth, min_size, depth + 1, alpha)\n",
        "\n",
        "  list(\n",
        "    is_leaf = FALSE,\n",
        "    feature = split_info$feature,\n",
        "    threshold = split_info$threshold,\n",
        "    left = left_subtree,\n",
        "    right = right_subtree\n",
        "  )\n",
        "}\n",
        "\n",
        "# Predict for a single observation\n",
        "predict_tree_reg <- function(tree, row) {\n",
        "  if (tree$is_leaf) {\n",
        "    if (is.na(tree$value)) return(0)\n",
        "    return(tree$value)\n",
        "  }\n",
        "\n",
        "  if (is.na(row[[tree$feature]]) || row[[tree$feature]] <= tree$threshold) {\n",
        "    predict_tree_reg(tree$left, row)\n",
        "  } else {\n",
        "    predict_tree_reg(tree$right, row)\n",
        "  }\n",
        "}"
      ],
      "metadata": {
        "id": "fftqCz53kyLu"
      },
      "execution_count": null,
      "outputs": []
    },
    {
      "cell_type": "markdown",
      "source": [
        "#### Fit the Model"
      ],
      "metadata": {
        "id": "JEKvE-ztk5Qa"
      }
    },
    {
      "cell_type": "code",
      "source": [
        "%%R\n",
        "set.seed(123)\n",
        "train_idx <- sample(1:nrow(data), 0.7 * nrow(data))\n",
        "train_data <- data[train_idx, ]\n",
        "test_data <- data[-train_idx, ]\n",
        "\n",
        "# Ensure no NA in target\n",
        "train_data <- train_data[!is.na(train_data$medv), ]\n",
        "test_data <- test_data[!is.na(test_data$medv), ]\n",
        "\n",
        "# Build tree\n",
        "tree <- build_tree_reg(train_data, \"medv\", max_depth = 3, min_size = 5, alpha = 0.05)"
      ],
      "metadata": {
        "colab": {
          "base_uri": "https://localhost:8080/"
        },
        "id": "21Nex-DiwBq6",
        "outputId": "b6ad951d-0838-4e20-c138-e17004cadd96"
      },
      "execution_count": null,
      "outputs": [
        {
          "output_type": "stream",
          "name": "stdout",
          "text": [
            "Skipping threshold 0.04905551 for crim : too few observations\n",
            "Skipping threshold 0.3116501 for crim : too few observations\n",
            "Skipping threshold 0.6532337 for crim : too few observations\n",
            "Skipping threshold 0.7940441 for crim : too few observations\n",
            "Skipping threshold 88.97809 for crim : too few observations\n",
            "Skipping threshold 89.34778 for crim : too few observations\n",
            "Skipping threshold 89.58991 for crim : too few observations\n",
            "Skipping threshold 89.82098 for crim : too few observations\n",
            "Skipping threshold 0.04906751 for indus : too few observations\n",
            "Skipping threshold 0.09607897 for indus : too few observations\n",
            "Skipping threshold 0.1279785 for indus : too few observations\n",
            "Skipping threshold 0.2209073 for indus : too few observations\n",
            "Skipping threshold 26.78221 for indus : too few observations\n",
            "Skipping threshold 26.80386 for indus : too few observations\n",
            "Skipping threshold 26.85773 for indus : too few observations\n",
            "Skipping threshold 26.93693 for indus : too few observations\n",
            "Skipping threshold 0.383193 for nox : too few observations\n",
            "Skipping threshold 0.3841059 for nox : too few observations\n",
            "Skipping threshold 0.3846141 for nox : too few observations\n",
            "Skipping threshold 0.3849973 for nox : too few observations\n",
            "Skipping threshold 0.8633617 for nox : too few observations\n",
            "Skipping threshold 0.8638763 for nox : too few observations\n",
            "Skipping threshold 0.8647076 for nox : too few observations\n",
            "Skipping threshold 0.8665019 for nox : too few observations\n",
            "Skipping threshold 3.038581 for rooms : too few observations\n",
            "Skipping threshold 3.072417 for rooms : too few observations\n",
            "Skipping threshold 3.113599 for rooms : too few observations\n",
            "Skipping threshold 3.142703 for rooms : too few observations\n",
            "Skipping threshold 8.924506 for rooms : too few observations\n",
            "Skipping threshold 8.930708 for rooms : too few observations\n",
            "Skipping threshold 8.954502 for rooms : too few observations\n",
            "Skipping threshold 8.987448 for rooms : too few observations\n",
            "Skipping threshold 0.4024775 for age : too few observations\n",
            "Skipping threshold 0.7061858 for age : too few observations\n",
            "Skipping threshold 0.9746333 for age : too few observations\n",
            "Skipping threshold 1.264224 for age : too few observations\n",
            "Skipping threshold 98.79061 for age : too few observations\n",
            "Skipping threshold 98.9664 for age : too few observations\n",
            "Skipping threshold 99.2197 for age : too few observations\n",
            "Skipping threshold 99.42143 for age : too few observations\n",
            "Skipping threshold 1.045316 for dis : too few observations\n",
            "Skipping threshold 1.048864 for dis : too few observations\n",
            "Skipping threshold 1.078945 for dis : too few observations\n",
            "Skipping threshold 1.113807 for dis : too few observations\n",
            "Skipping threshold 11.90858 for dis : too few observations\n",
            "Skipping threshold 11.91706 for dis : too few observations\n",
            "Skipping threshold 11.9301 for dis : too few observations\n",
            "Skipping threshold 11.94708 for dis : too few observations\n",
            "Skipping threshold 188.9136 for tax : too few observations\n",
            "Skipping threshold 190.2159 for tax : too few observations\n",
            "Skipping threshold 191.4303 for tax : too few observations\n",
            "Skipping threshold 192.0619 for tax : too few observations\n",
            "Skipping threshold 703.851 for tax : too few observations\n",
            "Skipping threshold 706.0272 for tax : too few observations\n",
            "Skipping threshold 707.9712 for tax : too few observations\n",
            "Skipping threshold 709.8545 for tax : too few observations\n",
            "Skipping threshold 12.04723 for ptratio : too few observations\n",
            "Skipping threshold 12.07569 for ptratio : too few observations\n",
            "Skipping threshold 12.11999 for ptratio : too few observations\n",
            "Skipping threshold 12.14858 for ptratio : too few observations\n",
            "Skipping threshold 21.91952 for ptratio : too few observations\n",
            "Skipping threshold 21.92798 for ptratio : too few observations\n",
            "Skipping threshold 21.93926 for ptratio : too few observations\n",
            "Skipping threshold 21.95564 for ptratio : too few observations\n",
            "Skipping threshold 3.877828 for b : too few observations\n",
            "Skipping threshold 5.628446 for b : too few observations\n",
            "Skipping threshold 5.8112 for b : too few observations\n",
            "Skipping threshold 6.142189 for b : too few observations\n",
            "Skipping threshold 393.6367 for b : too few observations\n",
            "Skipping threshold 394.0891 for b : too few observations\n",
            "Skipping threshold 394.4967 for b : too few observations\n",
            "Skipping threshold 395.362 for b : too few observations\n",
            "Skipping threshold 1.077254 for lstat : too few observations\n",
            "Skipping threshold 1.276509 for lstat : too few observations\n",
            "Skipping threshold 1.59394 for lstat : too few observations\n",
            "Skipping threshold 1.732286 for lstat : too few observations\n",
            "Skipping threshold 36.58387 for lstat : too few observations\n",
            "Skipping threshold 36.68666 for lstat : too few observations\n",
            "Skipping threshold 36.77923 for lstat : too few observations\n",
            "Skipping threshold 36.85811 for lstat : too few observations\n",
            "Skipping threshold 0.7940441 for crim : too few observations\n",
            "Skipping threshold 0.8953658 for crim : too few observations\n",
            "Skipping threshold 1.270482 for crim : too few observations\n",
            "Skipping threshold 1.907077 for crim : too few observations\n",
            "Skipping threshold 87.73781 for crim : too few observations\n",
            "Skipping threshold 88.19972 for crim : too few observations\n",
            "Skipping threshold 88.56425 for crim : too few observations\n",
            "Skipping threshold 88.74038 for crim : too few observations\n",
            "Skipping threshold 0.04906751 for indus : too few observations\n",
            "Skipping threshold 0.09882742 for indus : too few observations\n",
            "Skipping threshold 0.2209073 for indus : too few observations\n",
            "Skipping threshold 0.4905747 for indus : too few observations\n",
            "Skipping threshold 26.04808 for indus : too few observations\n",
            "Skipping threshold 26.43634 for indus : too few observations\n",
            "Skipping threshold 26.62318 for indus : too few observations\n",
            "Skipping threshold 26.73619 for indus : too few observations\n",
            "Skipping threshold 0.3844485 for nox : too few observations\n",
            "Skipping threshold 0.3849973 for nox : too few observations\n",
            "Skipping threshold 0.3859346 for nox : too few observations\n",
            "Skipping threshold 0.3883032 for nox : too few observations\n",
            "Skipping threshold 0.8590128 for nox : too few observations\n",
            "Skipping threshold 0.8620526 for nox : too few observations\n",
            "Skipping threshold 0.8638763 for nox : too few observations\n",
            "Skipping threshold 0.8658987 for nox : too few observations\n",
            "Skipping threshold 3.079763 for rooms : too few observations\n",
            "Skipping threshold 3.154937 for rooms : too few observations\n",
            "Skipping threshold 3.179275 for rooms : too few observations\n",
            "Skipping threshold 3.191314 for rooms : too few observations\n",
            "Skipping threshold 8.846597 for rooms : too few observations\n",
            "Skipping threshold 8.889541 for rooms : too few observations\n",
            "Skipping threshold 8.916626 for rooms : too few observations\n",
            "Skipping threshold 8.958758 for rooms : too few observations\n",
            "Skipping threshold 1.110571 for age : too few observations\n",
            "Skipping threshold 1.56474 for age : too few observations\n",
            "Skipping threshold 1.603617 for age : too few observations\n",
            "Skipping threshold 1.709277 for age : too few observations\n",
            "Skipping threshold 96.42988 for age : too few observations\n",
            "Skipping threshold 96.72275 for age : too few observations\n",
            "Skipping threshold 97.43443 for age : too few observations\n",
            "Skipping threshold 98.39328 for age : too few observations\n",
            "Skipping threshold 1.075397 for dis : too few observations\n",
            "Skipping threshold 1.120661 for dis : too few observations\n",
            "Skipping threshold 1.173895 for dis : too few observations\n",
            "Skipping threshold 1.274133 for dis : too few observations\n",
            "Skipping threshold 11.86855 for dis : too few observations\n",
            "Skipping threshold 11.89332 for dis : too few observations\n",
            "Skipping threshold 11.91706 for dis : too few observations\n",
            "Skipping threshold 11.93798 for dis : too few observations\n",
            "Skipping threshold 190.4 for tax : too few observations\n",
            "Skipping threshold 192.0619 for tax : too few observations\n",
            "Skipping threshold 193.3263 for tax : too few observations\n",
            "Skipping threshold 197.3407 for tax : too few observations\n",
            "Skipping threshold 699.0695 for tax : too few observations\n",
            "Skipping threshold 699.7636 for tax : too few observations\n",
            "Skipping threshold 702.8479 for tax : too few observations\n",
            "Skipping threshold 707.4227 for tax : too few observations\n",
            "Skipping threshold 12.04723 for ptratio : too few observations\n",
            "Skipping threshold 12.09638 for ptratio : too few observations\n",
            "Skipping threshold 12.14858 for ptratio : too few observations\n",
            "Skipping threshold 12.19035 for ptratio : too few observations\n",
            "Skipping threshold 21.78117 for ptratio : too few observations\n",
            "Skipping threshold 21.90197 for ptratio : too few observations\n",
            "Skipping threshold 21.93926 for ptratio : too few observations\n",
            "Skipping threshold 21.95564 for ptratio : too few observations\n",
            "Skipping threshold 5.634406 for b : too few observations\n",
            "Skipping threshold 6.142189 for b : too few observations\n",
            "Skipping threshold 7.151688 for b : too few observations\n",
            "Skipping threshold 8.112816 for b : too few observations\n",
            "Skipping threshold 390.0072 for b : too few observations\n",
            "Skipping threshold 392.1082 for b : too few observations\n",
            "Skipping threshold 393.6367 for b : too few observations\n",
            "Skipping threshold 394.9543 for b : too few observations\n",
            "Skipping threshold 1.077254 for lstat : too few observations\n",
            "Skipping threshold 1.276509 for lstat : too few observations\n",
            "Skipping threshold 1.59394 for lstat : too few observations\n",
            "Skipping threshold 1.732286 for lstat : too few observations\n",
            "Skipping threshold 17.80099 for lstat : too few observations\n",
            "Skipping threshold 17.95682 for lstat : too few observations\n",
            "Skipping threshold 18.11467 for lstat : too few observations\n",
            "Skipping threshold 18.12911 for lstat : too few observations\n",
            "Skipping threshold 0.7940441 for crim : too few observations\n",
            "Skipping threshold 0.8953658 for crim : too few observations\n",
            "Skipping threshold 1.270482 for crim : too few observations\n",
            "Skipping threshold 1.907077 for crim : too few observations\n",
            "Skipping threshold 25.07218 for crim : too few observations\n",
            "Skipping threshold 25.61752 for crim : too few observations\n",
            "Skipping threshold 25.80235 for crim : too few observations\n",
            "Skipping threshold 26.47481 for crim : too few observations\n",
            "Skipping threshold 0.6856094 for indus : too few observations\n",
            "Skipping threshold 0.7053698 for indus : too few observations\n",
            "Skipping threshold 0.7508356 for indus : too few observations\n",
            "Skipping threshold 0.8537148 for indus : too few observations\n",
            "Skipping threshold 25.59532 for indus : too few observations\n",
            "Skipping threshold 25.95011 for indus : too few observations\n",
            "Skipping threshold 26.43634 for indus : too few observations\n",
            "Skipping threshold 26.68328 for indus : too few observations\n",
            "Skipping threshold 0.3879803 for nox : too few observations\n",
            "Skipping threshold 0.3966093 for nox : too few observations\n",
            "Skipping threshold 0.4054131 for nox : too few observations\n",
            "Skipping threshold 0.4105415 for nox : too few observations\n",
            "Skipping threshold 0.8445493 for nox : too few observations\n",
            "Skipping threshold 0.8477348 for nox : too few observations\n",
            "Skipping threshold 0.8511757 for nox : too few observations\n",
            "Skipping threshold 0.8549076 for nox : too few observations\n",
            "Skipping threshold 3.154937 for rooms : too few observations\n",
            "Skipping threshold 3.183484 for rooms : too few observations\n",
            "Skipping threshold 3.223981 for rooms : too few observations\n",
            "Skipping threshold 3.25947 for rooms : too few observations\n",
            "Skipping threshold 8.668894 for rooms : too few observations\n",
            "Skipping threshold 8.748728 for rooms : too few observations\n",
            "Skipping threshold 8.846597 for rooms : too few observations\n",
            "Skipping threshold 8.889541 for rooms : too few observations\n",
            "Skipping threshold 2.402518 for age : too few observations\n",
            "Skipping threshold 4.322039 for age : too few observations\n",
            "Skipping threshold 6.174336 for age : too few observations\n",
            "Skipping threshold 7.195504 for age : too few observations\n",
            "Skipping threshold 92.10475 for age : too few observations\n",
            "Skipping threshold 93.98058 for age : too few observations\n",
            "Skipping threshold 96.7741 for age : too few observations\n",
            "Skipping threshold 98.39328 for age : too few observations\n",
            "Skipping threshold 1.220899 for dis : too few observations\n",
            "Skipping threshold 1.677305 for dis : too few observations\n",
            "Skipping threshold 2.130571 for dis : too few observations\n",
            "Skipping threshold 2.288945 for dis : too few observations\n",
            "Skipping threshold 11.5643 for dis : too few observations\n",
            "Skipping threshold 11.70583 for dis : too few observations\n",
            "Skipping threshold 11.79756 for dis : too few observations\n",
            "Skipping threshold 11.8668 for dis : too few observations\n",
            "Skipping threshold 21.5 for rad : too few observations\n",
            "Skipping threshold 23 for rad : too few observations\n",
            "Skipping threshold 190.8475 for tax : too few observations\n",
            "Skipping threshold 201.0685 for tax : too few observations\n",
            "Skipping threshold 210.1443 for tax : too few observations\n",
            "Skipping threshold 211.2936 for tax : too few observations\n",
            "Skipping threshold 670.0859 for tax : too few observations\n",
            "Skipping threshold 681.8009 for tax : too few observations\n",
            "Skipping threshold 694.5566 for tax : too few observations\n",
            "Skipping threshold 707.4227 for tax : too few observations\n",
            "Skipping threshold 12.14858 for ptratio : too few observations\n",
            "Skipping threshold 12.25552 for ptratio : too few observations\n",
            "Skipping threshold 12.58738 for ptratio : too few observations\n",
            "Skipping threshold 12.89716 for ptratio : too few observations\n",
            "Skipping threshold 21.36526 for ptratio : too few observations\n",
            "Skipping threshold 21.57968 for ptratio : too few observations\n",
            "Skipping threshold 21.68919 for ptratio : too few observations\n",
            "Skipping threshold 21.82907 for ptratio : too few observations\n",
            "Skipping threshold 7.428345 for b : too few observations\n",
            "Skipping threshold 14.35225 for b : too few observations\n",
            "Skipping threshold 21.06311 for b : too few observations\n",
            "Skipping threshold 21.83773 for b : too few observations\n",
            "Skipping threshold 379.1947 for b : too few observations\n",
            "Skipping threshold 381.4673 for b : too few observations\n",
            "Skipping threshold 385.4538 for b : too few observations\n",
            "Skipping threshold 389.772 for b : too few observations\n",
            "Skipping threshold 1.732286 for lstat : too few observations\n",
            "Skipping threshold 1.825949 for lstat : too few observations\n",
            "Skipping threshold 2.057706 for lstat : too few observations\n",
            "Skipping threshold 2.202619 for lstat : too few observations\n",
            "Skipping threshold 17.18603 for lstat : too few observations\n",
            "Skipping threshold 17.53115 for lstat : too few observations\n",
            "Skipping threshold 17.97031 for lstat : too few observations\n",
            "Skipping threshold 18.12911 for lstat : too few observations\n",
            "Skipping threshold 28.06074 for crim : too few observations\n",
            "Skipping threshold 28.17632 for crim : too few observations\n",
            "Skipping threshold 28.46033 for crim : too few observations\n",
            "Skipping threshold 28.71007 for crim : too few observations\n",
            "Skipping threshold 87.73781 for crim : too few observations\n",
            "Skipping threshold 88.19972 for crim : too few observations\n",
            "Skipping threshold 88.56425 for crim : too few observations\n",
            "Skipping threshold 88.74038 for crim : too few observations\n",
            "Skipping threshold 0.04906751 for indus : too few observations\n",
            "Skipping threshold 0.09882742 for indus : too few observations\n",
            "Skipping threshold 0.2209073 for indus : too few observations\n",
            "Skipping threshold 0.4916704 for indus : too few observations\n",
            "Skipping threshold 25.31382 for indus : too few observations\n",
            "Skipping threshold 25.52325 for indus : too few observations\n",
            "Skipping threshold 25.76022 for indus : too few observations\n",
            "Skipping threshold 26.23491 for indus : too few observations\n",
            "Skipping threshold 0.3844891 for nox : too few observations\n",
            "Skipping threshold 0.3859346 for nox : too few observations\n",
            "Skipping threshold 0.3883032 for nox : too few observations\n",
            "Skipping threshold 0.3909075 for nox : too few observations\n",
            "Skipping threshold 0.8560939 for nox : too few observations\n",
            "Skipping threshold 0.8620526 for nox : too few observations\n",
            "Skipping threshold 0.8638763 for nox : too few observations\n",
            "Skipping threshold 0.8658987 for nox : too few observations\n",
            "Skipping threshold 3.104101 for rooms : too few observations\n",
            "Skipping threshold 3.201787 for rooms : too few observations\n",
            "Skipping threshold 3.218298 for rooms : too few observations\n",
            "Skipping threshold 3.241549 for rooms : too few observations\n",
            "Skipping threshold 8.6304 for rooms : too few observations\n",
            "Skipping threshold 8.732641 for rooms : too few observations\n",
            "Skipping threshold 8.863458 for rooms : too few observations\n",
            "Skipping threshold 8.958758 for rooms : too few observations\n",
            "Skipping threshold 1.110571 for age : too few observations\n",
            "Skipping threshold 1.56474 for age : too few observations\n",
            "Skipping threshold 1.603617 for age : too few observations\n",
            "Skipping threshold 2.984483 for age : too few observations\n",
            "Skipping threshold 96.11776 for age : too few observations\n",
            "Skipping threshold 96.24454 for age : too few observations\n",
            "Skipping threshold 96.42988 for age : too few observations\n",
            "Skipping threshold 96.72275 for age : too few observations\n",
            "Skipping threshold 1.088841 for dis : too few observations\n",
            "Skipping threshold 1.173895 for dis : too few observations\n",
            "Skipping threshold 1.330435 for dis : too few observations\n",
            "Skipping threshold 1.480864 for dis : too few observations\n",
            "Skipping threshold 11.86083 for dis : too few observations\n",
            "Skipping threshold 11.86855 for dis : too few observations\n",
            "Skipping threshold 11.89332 for dis : too few observations\n",
            "Skipping threshold 11.93405 for dis : too few observations\n",
            "Skipping threshold 192.8788 for tax : too few observations\n",
            "Skipping threshold 197.3407 for tax : too few observations\n",
            "Skipping threshold 201.9962 for tax : too few observations\n",
            "Skipping threshold 203.5328 for tax : too few observations\n",
            "Skipping threshold 698.0262 for tax : too few observations\n",
            "Skipping threshold 698.6978 for tax : too few observations\n",
            "Skipping threshold 699.0695 for tax : too few observations\n",
            "Skipping threshold 699.7636 for tax : too few observations\n",
            "Skipping threshold 12.04723 for ptratio : too few observations\n",
            "Skipping threshold 12.13815 for ptratio : too few observations\n",
            "Skipping threshold 12.23932 for ptratio : too few observations\n",
            "Skipping threshold 12.42836 for ptratio : too few observations\n",
            "Skipping threshold 21.65083 for ptratio : too few observations\n",
            "Skipping threshold 21.76296 for ptratio : too few observations\n",
            "Skipping threshold 21.90197 for ptratio : too few observations\n",
            "Skipping threshold 21.93926 for ptratio : too few observations\n",
            "Skipping threshold 5.634406 for b : too few observations\n",
            "Skipping threshold 6.82666 for b : too few observations\n",
            "Skipping threshold 8.179963 for b : too few observations\n",
            "Skipping threshold 8.636057 for b : too few observations\n",
            "Skipping threshold 388.2532 for b : too few observations\n",
            "Skipping threshold 391.1402 for b : too few observations\n",
            "Skipping threshold 393.6367 for b : too few observations\n",
            "Skipping threshold 394.9543 for b : too few observations\n",
            "Skipping threshold 1.077254 for lstat : too few observations\n",
            "Skipping threshold 1.276509 for lstat : too few observations\n",
            "Skipping threshold 1.626647 for lstat : too few observations\n",
            "Skipping threshold 1.801243 for lstat : too few observations\n",
            "Skipping threshold 17.49419 for lstat : too few observations\n",
            "Skipping threshold 17.68158 for lstat : too few observations\n",
            "Skipping threshold 17.74486 for lstat : too few observations\n",
            "Skipping threshold 17.94535 for lstat : too few observations\n",
            "Skipping threshold 0.04905551 for crim : too few observations\n",
            "Skipping threshold 0.3116501 for crim : too few observations\n",
            "Skipping threshold 1.184629 for crim : too few observations\n",
            "Skipping threshold 2.160759 for crim : too few observations\n",
            "Skipping threshold 88.92871 for crim : too few observations\n",
            "Skipping threshold 89.34778 for crim : too few observations\n",
            "Skipping threshold 89.58991 for crim : too few observations\n",
            "Skipping threshold 89.82098 for crim : too few observations\n",
            "Skipping threshold 0.239576 for indus : too few observations\n",
            "Skipping threshold 0.3596244 for indus : too few observations\n",
            "Skipping threshold 0.5868511 for indus : too few observations\n",
            "Skipping threshold 0.9493279 for indus : too few observations\n",
            "Skipping threshold 26.76552 for indus : too few observations\n",
            "Skipping threshold 26.78977 for indus : too few observations\n",
            "Skipping threshold 26.85773 for indus : too few observations\n",
            "Skipping threshold 26.93693 for indus : too few observations\n",
            "Skipping threshold 0.3833586 for nox : too few observations\n",
            "Skipping threshold 0.3857735 for nox : too few observations\n",
            "Skipping threshold 0.3889689 for nox : too few observations\n",
            "Skipping threshold 0.3913385 for nox : too few observations\n",
            "Skipping threshold 0.8555104 for nox : too few observations\n",
            "Skipping threshold 0.8586219 for nox : too few observations\n",
            "Skipping threshold 0.8621143 for nox : too few observations\n",
            "Skipping threshold 0.864193 for nox : too few observations\n",
            "Skipping threshold 3.072417 for rooms : too few observations\n",
            "Skipping threshold 3.117872 for rooms : too few observations\n",
            "Skipping threshold 3.162076 for rooms : too few observations\n",
            "Skipping threshold 3.184694 for rooms : too few observations\n",
            "Skipping threshold 8.864181 for rooms : too few observations\n",
            "Skipping threshold 8.914598 for rooms : too few observations\n",
            "Skipping threshold 8.930708 for rooms : too few observations\n",
            "Skipping threshold 8.954502 for rooms : too few observations\n",
            "Skipping threshold 0.4189468 for age : too few observations\n",
            "Skipping threshold 0.9746333 for age : too few observations\n",
            "Skipping threshold 1.264224 for age : too few observations\n",
            "Skipping threshold 1.415202 for age : too few observations\n",
            "Skipping threshold 98.4671 for age : too few observations\n",
            "Skipping threshold 98.92284 for age : too few observations\n",
            "Skipping threshold 99.2197 for age : too few observations\n",
            "Skipping threshold 99.42143 for age : too few observations\n",
            "Skipping threshold 1.048864 for dis : too few observations\n",
            "Skipping threshold 1.085535 for dis : too few observations\n",
            "Skipping threshold 1.141021 for dis : too few observations\n",
            "Skipping threshold 1.168223 for dis : too few observations\n",
            "Skipping threshold 11.76612 for dis : too few observations\n",
            "Skipping threshold 11.79971 for dis : too few observations\n",
            "Skipping threshold 11.86379 for dis : too few observations\n",
            "Skipping threshold 11.92161 for dis : too few observations\n",
            "Skipping threshold 189.944 for tax : too few observations\n",
            "Skipping threshold 192.9113 for tax : too few observations\n",
            "Skipping threshold 195.8853 for tax : too few observations\n",
            "Skipping threshold 199.9727 for tax : too few observations\n",
            "Skipping threshold 698.5891 for tax : too few observations\n",
            "Skipping threshold 701.2854 for tax : too few observations\n",
            "Skipping threshold 704.3995 for tax : too few observations\n",
            "Skipping threshold 708.459 for tax : too few observations\n",
            "Skipping threshold 12.21531 for ptratio : too few observations\n",
            "Skipping threshold 12.39102 for ptratio : too few observations\n",
            "Skipping threshold 12.56377 for ptratio : too few observations\n",
            "Skipping threshold 12.71228 for ptratio : too few observations\n",
            "Skipping threshold 21.71543 for ptratio : too few observations\n",
            "Skipping threshold 21.7847 for ptratio : too few observations\n",
            "Skipping threshold 21.869 for ptratio : too few observations\n",
            "Skipping threshold 21.91952 for ptratio : too few observations\n",
            "Skipping threshold 4.054622 for b : too few observations\n",
            "Skipping threshold 8.383535 for b : too few observations\n",
            "Skipping threshold 11.48821 for b : too few observations\n",
            "Skipping threshold 12.09991 for b : too few observations\n",
            "Skipping threshold 386.642 for b : too few observations\n",
            "Skipping threshold 387.4726 for b : too few observations\n",
            "Skipping threshold 391.1227 for b : too few observations\n",
            "Skipping threshold 394.4967 for b : too few observations\n",
            "Skipping threshold 18.20557 for lstat : too few observations\n",
            "Skipping threshold 18.30335 for lstat : too few observations\n",
            "Skipping threshold 18.541 for lstat : too few observations\n",
            "Skipping threshold 18.73313 for lstat : too few observations\n",
            "Skipping threshold 36.58387 for lstat : too few observations\n",
            "Skipping threshold 36.68666 for lstat : too few observations\n",
            "Skipping threshold 36.77923 for lstat : too few observations\n",
            "Skipping threshold 36.85811 for lstat : too few observations\n",
            "Skipping threshold 0.04905551 for crim : too few observations\n",
            "Skipping threshold 0.3116501 for crim : too few observations\n",
            "Skipping threshold 1.184629 for crim : too few observations\n",
            "Skipping threshold 2.160759 for crim : too few observations\n",
            "Skipping threshold 56.22995 for crim : too few observations\n",
            "Skipping threshold 56.49651 for crim : too few observations\n",
            "Skipping threshold 56.67088 for crim : too few observations\n",
            "Skipping threshold 57.51114 for crim : too few observations\n",
            "Skipping threshold 0.3596244 for indus : too few observations\n",
            "Skipping threshold 0.5868511 for indus : too few observations\n",
            "Skipping threshold 0.9729158 for indus : too few observations\n",
            "Skipping threshold 1.287731 for indus : too few observations\n",
            "Skipping threshold 26.73163 for indus : too few observations\n",
            "Skipping threshold 26.78977 for indus : too few observations\n",
            "Skipping threshold 26.85773 for indus : too few observations\n",
            "Skipping threshold 26.93693 for indus : too few observations\n",
            "Skipping threshold 0.3833586 for nox : too few observations\n",
            "Skipping threshold 0.3857735 for nox : too few observations\n",
            "Skipping threshold 0.3889689 for nox : too few observations\n",
            "Skipping threshold 0.3951801 for nox : too few observations\n",
            "Skipping threshold 0.8476157 for nox : too few observations\n",
            "Skipping threshold 0.8571945 for nox : too few observations\n",
            "Skipping threshold 0.8621143 for nox : too few observations\n",
            "Skipping threshold 0.864193 for nox : too few observations\n",
            "Skipping threshold 3.101522 for rooms : too few observations\n",
            "Skipping threshold 3.169593 for rooms : too few observations\n",
            "Skipping threshold 3.228967 for rooms : too few observations\n",
            "Skipping threshold 3.311763 for rooms : too few observations\n",
            "Skipping threshold 8.818647 for rooms : too few observations\n",
            "Skipping threshold 8.914598 for rooms : too few observations\n",
            "Skipping threshold 8.930708 for rooms : too few observations\n",
            "Skipping threshold 8.954502 for rooms : too few observations\n",
            "Skipping threshold 0.4189468 for age : too few observations\n",
            "Skipping threshold 0.9746333 for age : too few observations\n",
            "Skipping threshold 1.377589 for age : too few observations\n",
            "Skipping threshold 1.671586 for age : too few observations\n",
            "Skipping threshold 97.88034 for age : too few observations\n",
            "Skipping threshold 98.64289 for age : too few observations\n",
            "Skipping threshold 99.2197 for age : too few observations\n",
            "Skipping threshold 99.42143 for age : too few observations\n",
            "Skipping threshold 1.048864 for dis : too few observations\n",
            "Skipping threshold 1.085535 for dis : too few observations\n",
            "Skipping threshold 1.141021 for dis : too few observations\n",
            "Skipping threshold 1.193315 for dis : too few observations\n",
            "Skipping threshold 11.46879 for dis : too few observations\n",
            "Skipping threshold 11.6266 for dis : too few observations\n",
            "Skipping threshold 11.8302 for dis : too few observations\n",
            "Skipping threshold 11.92161 for dis : too few observations\n",
            "Skipping threshold 1.5 for rad : too few observations\n",
            "Skipping threshold 189.944 for tax : too few observations\n",
            "Skipping threshold 194.2203 for tax : too few observations\n",
            "Skipping threshold 199.9727 for tax : too few observations\n",
            "Skipping threshold 206.7121 for tax : too few observations\n",
            "Skipping threshold 692.5848 for tax : too few observations\n",
            "Skipping threshold 698.5891 for tax : too few observations\n",
            "Skipping threshold 701.2854 for tax : too few observations\n",
            "Skipping threshold 704.3995 for tax : too few observations\n",
            "Skipping threshold 12.56377 for ptratio : too few observations\n",
            "Skipping threshold 12.71228 for ptratio : too few observations\n",
            "Skipping threshold 12.76384 for ptratio : too few observations\n",
            "Skipping threshold 12.79438 for ptratio : too few observations\n",
            "Skipping threshold 21.47264 for ptratio : too few observations\n",
            "Skipping threshold 21.52572 for ptratio : too few observations\n",
            "Skipping threshold 21.69174 for ptratio : too few observations\n",
            "Skipping threshold 21.869 for ptratio : too few observations\n",
            "Skipping threshold 4.054622 for b : too few observations\n",
            "Skipping threshold 10.7078 for b : too few observations\n",
            "Skipping threshold 19.37726 for b : too few observations\n",
            "Skipping threshold 23.45587 for b : too few observations\n",
            "Skipping threshold 384.018 for b : too few observations\n",
            "Skipping threshold 386.642 for b : too few observations\n",
            "Skipping threshold 390.4959 for b : too few observations\n",
            "Skipping threshold 394.4967 for b : too few observations\n",
            "Skipping threshold 18.44322 for lstat : too few observations\n",
            "Skipping threshold 18.73313 for lstat : too few observations\n",
            "Skipping threshold 18.78264 for lstat : too few observations\n",
            "Skipping threshold 18.8241 for lstat : too few observations\n",
            "Skipping threshold 36.29812 for lstat : too few observations\n",
            "Skipping threshold 36.44124 for lstat : too few observations\n",
            "Skipping threshold 36.67645 for lstat : too few observations\n",
            "Skipping threshold 36.85811 for lstat : too few observations\n",
            "Skipping threshold 58.5864 for crim : too few observations\n",
            "Skipping threshold 58.89635 for crim : too few observations\n",
            "Skipping threshold 59.06088 for crim : too few observations\n",
            "Skipping threshold 59.21948 for crim : too few observations\n",
            "Skipping threshold 88.92871 for crim : too few observations\n",
            "Skipping threshold 89.34778 for crim : too few observations\n",
            "Skipping threshold 89.58991 for crim : too few observations\n",
            "Skipping threshold 89.82098 for crim : too few observations\n",
            "Skipping threshold 0.6077553 for indus : too few observations\n",
            "Skipping threshold 1.111692 for indus : too few observations\n",
            "Skipping threshold 1.387866 for indus : too few observations\n",
            "Skipping threshold 1.695454 for indus : too few observations\n",
            "Skipping threshold 24.22893 for indus : too few observations\n",
            "Skipping threshold 25.01691 for indus : too few observations\n",
            "Skipping threshold 25.48406 for indus : too few observations\n",
            "Skipping threshold 26.29568 for indus : too few observations\n",
            "Skipping threshold 0.3934913 for nox : too few observations\n",
            "Skipping threshold 0.3990819 for nox : too few observations\n",
            "Skipping threshold 0.4037562 for nox : too few observations\n",
            "Skipping threshold 0.4106267 for nox : too few observations\n",
            "Skipping threshold 0.8413144 for nox : too few observations\n",
            "Skipping threshold 0.8510078 for nox : too few observations\n",
            "Skipping threshold 0.8532505 for nox : too few observations\n",
            "Skipping threshold 0.8555104 for nox : too few observations\n",
            "Skipping threshold 3.132972 for rooms : too few observations\n",
            "Skipping threshold 3.211108 for rooms : too few observations\n",
            "Skipping threshold 3.362885 for rooms : too few observations\n",
            "Skipping threshold 3.550684 for rooms : too few observations\n",
            "Skipping threshold 8.666894 for rooms : too few observations\n",
            "Skipping threshold 8.691173 for rooms : too few observations\n",
            "Skipping threshold 8.737612 for rooms : too few observations\n",
            "Skipping threshold 8.800001 for rooms : too few observations\n",
            "Skipping threshold 2.587993 for age : too few observations\n",
            "Skipping threshold 3.934422 for age : too few observations\n",
            "Skipping threshold 4.732656 for age : too few observations\n",
            "Skipping threshold 5.788426 for age : too few observations\n",
            "Skipping threshold 94.94242 for age : too few observations\n",
            "Skipping threshold 95.70746 for age : too few observations\n",
            "Skipping threshold 96.21758 for age : too few observations\n",
            "Skipping threshold 97.54275 for age : too few observations\n",
            "Skipping threshold 1.184582 for dis : too few observations\n",
            "Skipping threshold 1.241758 for dis : too few observations\n",
            "Skipping threshold 1.291052 for dis : too few observations\n",
            "Skipping threshold 1.384182 for dis : too few observations\n",
            "Skipping threshold 11.60026 for dis : too few observations\n",
            "Skipping threshold 11.71744 for dis : too few observations\n",
            "Skipping threshold 11.75014 for dis : too few observations\n",
            "Skipping threshold 11.79971 for dis : too few observations\n",
            "Skipping threshold 22 for rad : too few observations\n",
            "Skipping threshold 23.5 for rad : too few observations\n",
            "Skipping threshold 200.6328 for tax : too few observations\n",
            "Skipping threshold 210.1503 for tax : too few observations\n",
            "Skipping threshold 214.4571 for tax : too few observations\n",
            "Skipping threshold 217.3379 for tax : too few observations\n",
            "Skipping threshold 673.9489 for tax : too few observations\n",
            "Skipping threshold 682.6195 for tax : too few observations\n",
            "Skipping threshold 686.3823 for tax : too few observations\n",
            "Skipping threshold 699.7679 for tax : too few observations\n",
            "Skipping threshold 12.21531 for ptratio : too few observations\n",
            "Skipping threshold 12.61264 for ptratio : too few observations\n",
            "Skipping threshold 12.94548 for ptratio : too few observations\n",
            "Skipping threshold 13.07114 for ptratio : too few observations\n",
            "Skipping threshold 21.52603 for ptratio : too few observations\n",
            "Skipping threshold 21.67486 for ptratio : too few observations\n",
            "Skipping threshold 21.71543 for ptratio : too few observations\n",
            "Skipping threshold 21.83522 for ptratio : too few observations\n",
            "Skipping threshold 11.48821 for b : too few observations\n",
            "Skipping threshold 12.09991 for b : too few observations\n",
            "Skipping threshold 15.32495 for b : too few observations\n",
            "Skipping threshold 20.85204 for b : too few observations\n",
            "Skipping threshold 373.4755 for b : too few observations\n",
            "Skipping threshold 374.7803 for b : too few observations\n",
            "Skipping threshold 378.5567 for b : too few observations\n",
            "Skipping threshold 384.6706 for b : too few observations\n",
            "Skipping threshold 18.30335 for lstat : too few observations\n",
            "Skipping threshold 18.59687 for lstat : too few observations\n",
            "Skipping threshold 19.05843 for lstat : too few observations\n",
            "Skipping threshold 19.30466 for lstat : too few observations\n",
            "Skipping threshold 36.04711 for lstat : too few observations\n",
            "Skipping threshold 36.44726 for lstat : too few observations\n",
            "Skipping threshold 36.55386 for lstat : too few observations\n",
            "Skipping threshold 36.68666 for lstat : too few observations\n"
          ]
        }
      ]
    },
    {
      "cell_type": "markdown",
      "source": [
        "#### Prediction and Evaluation"
      ],
      "metadata": {
        "id": "SBnYQbLQlJjR"
      }
    },
    {
      "cell_type": "code",
      "source": [
        "%%R\n",
        "# Predict on test data\n",
        "predictions <- apply(test_data, 1, function(row) predict_tree_reg(tree, row))\n",
        "\n",
        "# Evaluate RMSE\n",
        "errors <- predictions - test_data$medv\n",
        "if (any(is.na(predictions))) {\n",
        "  cat(\"Warning: NA values in predictions\\n\")\n",
        "}\n",
        "rmse <- sqrt(mean((errors)^2, na.rm = TRUE))\n",
        "cat(\"Regression RMSE:\", rmse, \"\\n\")"
      ],
      "metadata": {
        "colab": {
          "base_uri": "https://localhost:8080/"
        },
        "id": "7_Lk4k1glJtd",
        "outputId": "9832983a-7860-4c66-efce-87baec518909"
      },
      "execution_count": null,
      "outputs": [
        {
          "output_type": "stream",
          "name": "stdout",
          "text": [
            "Regression RMSE: 5.227745 \n"
          ]
        }
      ]
    },
    {
      "cell_type": "markdown",
      "source": [
        "## Conditional Inference Trees in R\n",
        "\n",
        "I'll guide you through performing Conditional Inference Trees (CITs) classification and regression in R using the {partykit} package. I'll include steps for building, pruning, summarizing, plotting, predicting, and assessing variable importance, then compare CIT with CART (using the {rpart} package).\n",
        "\n",
        "The {partykit} package is a powerful and flexible tool for creating and analyzing tree-based models in R. It provides a comprehensive framework for building Conditional Inference Trees (CITs) and other tree-based methods, allowing users to fit, manipulate, visualize, and analyze decision trees effectively. Below is a concise list of the primary functions in {partykit}, based on its core functionality:\n",
        "\n",
        "1.  `ctree`: - Fits Conditional Inference Trees for classification and regression. - Uses statistical hypothesis tests (e.g., permutation tests) for unbiased variable selection and splitting. - Example: `ctree(Species ~ ., data = iris)`.\n",
        "2.  `mob`:\n",
        "    -   Fits Model-based Recursive Partitioning, combining tree structures with parametric models (e.g., linear regression) at terminal nodes.\n",
        "    -   Useful for capturing heterogeneous effects in data.\n",
        "    -   Example: `mob(medv ~ rm | crim, data = BostonHousing, model = linearModel)`.\n",
        "3.  `lmtree` and `glmtree`:\n",
        "    -   Specialized functions for Linear Model Trees (`lmtree`) and Generalized Linear Model Trees (`glmtree`).\n",
        "    -   Partition data and fit linear or generalized linear models in terminal nodes.\n",
        "    -   Example: `lmtree(medv ~ rm + crim, data = BostonHousing)`.\n",
        "4.  `cforest`:\n",
        "    -   Implements Conditional Random Forests, an ensemble of CITs for improved prediction.\n",
        "    -   Combines the unbiased splitting of `ctree` with bagging.\n",
        "    -   Example: `cforest(Species ~ ., data = iris)`.\n",
        "5.  `plot.party`:\n",
        "    -   Visualizes tree structures with customizable node and edge displays.\n",
        "    -   Supports integration with `ggparty` for advanced plotting.\n",
        "    -   Example: `plot(ctree_model)`.\n",
        "6.  `predict.party`:\n",
        "    -   Generates predictions from fitted `partykit` models (e.g., `ctree`, `cforest`) on new data.\n",
        "    -   Supports classification (class or probabilities) and regression (continuous values).\n",
        "    -   Example: `predict(ctree_model, newdata = test_data)`.\n",
        "7.  `varimp`:\n",
        "    -   Computes variable importance for `cforest` models, measuring the impact of predictors on prediction accuracy.\n",
        "    -   Example: `varimp(cforest_model)`.\n",
        "8.  `nodeapply` and `nodeprune`:\n",
        "    -   Manipulate tree structures by applying functions to nodes (`nodeapply`) or pruning subtrees (`nodeprune`).\n",
        "    -   Useful for custom tree analysis or simplification.\n",
        "    -   Example: `nodeapply(ctree_model, ids = 1, FUN = function(x) x$info)`."
      ],
      "metadata": {
        "id": "sZM4h2ad5q78"
      }
    },
    {
      "cell_type": "markdown",
      "source": [
        "### Check amd Install Required R Packages\n",
        "\n",
        "Following R packages are required to run this notebook. If any of these packages are not installed, you can install them using the code below:"
      ],
      "metadata": {
        "id": "yXu-XY0mw1A8"
      }
    },
    {
      "cell_type": "code",
      "source": [
        "%%R\n",
        "packages <- c('tidyverse',\n",
        "              'plyr',\n",
        "              'rpart',\n",
        "              'rpart.plot',\n",
        "              'partykit',\n",
        "              'mlbench',\n",
        "              'ggparty'\n",
        "         )\n"
      ],
      "metadata": {
        "id": "TeYB57l0wz5N"
      },
      "execution_count": null,
      "outputs": []
    },
    {
      "cell_type": "markdown",
      "source": [
        "#### Install Missing Packages"
      ],
      "metadata": {
        "id": "q7NH-51RYeIk"
      }
    },
    {
      "cell_type": "code",
      "source": [
        "%%R\n",
        "# Install missing packages\n",
        "new.packages <- packages[!(packages %in% installed.packages(lib='drive/My Drive/R/')[,\"Package\"])]\n",
        "if(length(new.packages)) install.packages(new.packages, lib='drive/My Drive/R/')"
      ],
      "metadata": {
        "id": "a0aTMYTHAraZ",
        "colab": {
          "base_uri": "https://localhost:8080/"
        },
        "collapsed": true,
        "outputId": "fb3e7d6d-3656-462d-b80c-8301eb588e06"
      },
      "execution_count": null,
      "outputs": [
        {
          "output_type": "stream",
          "name": "stderr",
          "text": [
            "WARNING:rpy2.rinterface_lib.callbacks:R[write to console]: also installing the dependencies ‘libcoin’, ‘inum’\n",
            "\n",
            "\n",
            "WARNING:rpy2.rinterface_lib.callbacks:R[write to console]: trying URL 'https://cran.rstudio.com/src/contrib/libcoin_1.0-10.tar.gz'\n",
            "\n",
            "WARNING:rpy2.rinterface_lib.callbacks:R[write to console]: trying URL 'https://cran.rstudio.com/src/contrib/inum_1.0-5.tar.gz'\n",
            "\n",
            "WARNING:rpy2.rinterface_lib.callbacks:R[write to console]: trying URL 'https://cran.rstudio.com/src/contrib/partykit_1.2-24.tar.gz'\n",
            "\n",
            "WARNING:rpy2.rinterface_lib.callbacks:R[write to console]: trying URL 'https://cran.rstudio.com/src/contrib/ggparty_1.0.0.tar.gz'\n",
            "\n",
            "WARNING:rpy2.rinterface_lib.callbacks:R[write to console]: \n",
            "\n",
            "WARNING:rpy2.rinterface_lib.callbacks:R[write to console]: \n",
            "WARNING:rpy2.rinterface_lib.callbacks:R[write to console]: The downloaded source packages are in\n",
            "\t‘/tmp/RtmpWzqHOC/downloaded_packages’\n",
            "WARNING:rpy2.rinterface_lib.callbacks:R[write to console]: \n",
            "WARNING:rpy2.rinterface_lib.callbacks:R[write to console]: \n",
            "\n"
          ]
        }
      ]
    },
    {
      "cell_type": "markdown",
      "source": [
        "#### Verify Installation"
      ],
      "metadata": {
        "id": "Ah43eXWcYfpA"
      }
    },
    {
      "cell_type": "code",
      "source": [
        "%%R\n",
        "# set library path\n",
        ".libPaths('drive/My Drive/R')\n",
        "# Verify installation\n",
        "cat(\"Installed packages:\\n\")\n",
        "print(sapply(packages, requireNamespace, quietly = TRUE))"
      ],
      "metadata": {
        "colab": {
          "base_uri": "https://localhost:8080/"
        },
        "id": "R9hpg7qnArfh",
        "outputId": "078db479-a0e1-47d3-f5f7-c9182c9797ec"
      },
      "execution_count": null,
      "outputs": [
        {
          "output_type": "stream",
          "name": "stdout",
          "text": [
            "Installed packages:\n",
            " tidyverse       plyr      rpart rpart.plot   partykit    mlbench    ggparty \n",
            "      TRUE       TRUE       TRUE       TRUE       TRUE       TRUE       TRUE \n"
          ]
        }
      ]
    },
    {
      "cell_type": "markdown",
      "source": [
        "### Load R Packages"
      ],
      "metadata": {
        "id": "MV7R29xfyWQz"
      }
    },
    {
      "cell_type": "code",
      "source": [
        "%%R\n",
        "# set library path\n",
        ".libPaths('drive/My Drive/R')\n",
        "# Load packages with suppressed messages\n",
        "invisible(lapply(packages, function(pkg) {\n",
        "  suppressPackageStartupMessages(library(pkg, character.only = TRUE))\n",
        "}))\n",
        "\n"
      ],
      "metadata": {
        "id": "232jNAHBykUL"
      },
      "execution_count": null,
      "outputs": []
    },
    {
      "cell_type": "markdown",
      "source": [
        "#### Check Loaded Packages"
      ],
      "metadata": {
        "id": "ULxgK067YntF"
      }
    },
    {
      "cell_type": "code",
      "source": [
        "%%R\n",
        "# Check loaded packages\n",
        "cat(\"Successfully loaded packages:\\n\")\n",
        "print(search()[grepl(\"package:\", search())])# Check loaded packageswer)"
      ],
      "metadata": {
        "colab": {
          "base_uri": "https://localhost:8080/"
        },
        "id": "mcAOZzmSYk4n",
        "outputId": "0570eba9-c576-4581-b739-43682a0b86d3"
      },
      "execution_count": null,
      "outputs": [
        {
          "output_type": "stream",
          "name": "stdout",
          "text": [
            "Successfully loaded packages:\n",
            " [1] \"package:ggparty\"    \"package:mlbench\"    \"package:partykit\"  \n",
            " [4] \"package:mvtnorm\"    \"package:libcoin\"    \"package:grid\"      \n",
            " [7] \"package:rpart.plot\" \"package:rpart\"      \"package:plyr\"      \n",
            "[10] \"package:lubridate\"  \"package:forcats\"    \"package:stringr\"   \n",
            "[13] \"package:dplyr\"      \"package:purrr\"      \"package:readr\"     \n",
            "[16] \"package:tidyr\"      \"package:tibble\"     \"package:ggplot2\"   \n",
            "[19] \"package:tidyverse\"  \"package:tools\"      \"package:stats\"     \n",
            "[22] \"package:graphics\"   \"package:grDevices\"  \"package:utils\"     \n",
            "[25] \"package:datasets\"   \"package:methods\"    \"package:base\"      \n"
          ]
        }
      ]
    },
    {
      "cell_type": "markdown",
      "source": [
        "### Classification Problem\n",
        "\n",
        "Conditional Inference Trees (CITs) for classification work by recursively partitioning data based on statistical tests of independence, ensuring unbiased variable selection and robust stopping criteria. They select predictors with the strongest association to the response (via permutation tests), split data to maximize class separation, and assign majority classes to terminal nodes. Compared to CART, CITs are less prone to bias and overfitting, making them a powerful tool for interpretable classification models. In this section, we will discuss the Conditional Inference Trees classification algorithm and how to implement it in R."
      ],
      "metadata": {
        "id": "JPBHJCs6oo8s"
      }
    },
    {
      "cell_type": "markdown",
      "source": [
        "#### Data\n",
        "\n",
        "We will use the `Iris` dataset, which contains measurements of iris flowers and their species. The dataset has four features (sepal length, sepal width, petal length, and petal width) and three classes (setosa, versicolor, and virginica).\n"
      ],
      "metadata": {
        "id": "rSJqB05rO5ES"
      }
    },
    {
      "cell_type": "code",
      "execution_count": null,
      "metadata": {
        "id": "CFpt_H01OPsa"
      },
      "outputs": [],
      "source": [
        "%%R\n",
        "# Load and prepare Iris data\n",
        "data(iris)\n",
        "set.seed(123)\n",
        "# Split data into training and test sets\n",
        "train_idx <- sample(1:nrow(iris), 0.7 * nrow(iris))\n",
        "train_data <- iris[train_idx, ]\n",
        "test_data <- iris[-train_idx, ]"
      ]
    },
    {
      "cell_type": "markdown",
      "source": [
        "#### Fit Conditional Inference Tree (CIT)\n",
        "\n",
        "Main function of {partykit} is `ctree()`, which implements CITs for both classification and regression tasks. The function uses a statistical framework to select splits based on p-values, ensuring unbiased variable selection and robust stopping criteria.."
      ],
      "metadata": {
        "id": "kK6jj2ZtBcNP"
      }
    },
    {
      "cell_type": "code",
      "source": [
        "%%R\n",
        "# Fit CIT model\n",
        "cit_model <- ctree(Species ~ ., data = train_data, control = ctree_control(mincriterion = 0.95))\n",
        "print(cit_model)"
      ],
      "metadata": {
        "id": "TuIIZ-40BdCf",
        "colab": {
          "base_uri": "https://localhost:8080/"
        },
        "outputId": "9cc4d8ea-e0a6-417b-a75e-77facb14f93e"
      },
      "execution_count": null,
      "outputs": [
        {
          "output_type": "stream",
          "name": "stdout",
          "text": [
            "\n",
            "Model formula:\n",
            "Species ~ Sepal.Length + Sepal.Width + Petal.Length + Petal.Width\n",
            "\n",
            "Fitted party:\n",
            "[1] root\n",
            "|   [2] Petal.Length <= 1.9: setosa (n = 36, err = 0.0%)\n",
            "|   [3] Petal.Length > 1.9\n",
            "|   |   [4] Petal.Width <= 1.7\n",
            "|   |   |   [5] Petal.Length <= 4.6: versicolor (n = 25, err = 4.0%)\n",
            "|   |   |   [6] Petal.Length > 4.6: versicolor (n = 10, err = 30.0%)\n",
            "|   |   [7] Petal.Width > 1.7: virginica (n = 34, err = 2.9%)\n",
            "\n",
            "Number of inner nodes:    3\n",
            "Number of terminal nodes: 4\n"
          ]
        }
      ]
    },
    {
      "cell_type": "markdown",
      "source": [
        "#### Prune Tree\n",
        "\n",
        "CITs are self-pruning via mincriterion; inspect tree size. If too complex, increase mincriterion (e.g., 0.99), but default is usually sufficient. Here, we keep default as tree is typically small for Iris"
      ],
      "metadata": {
        "id": "rVbEM7oYqctM"
      }
    },
    {
      "cell_type": "code",
      "source": [
        "%%R\n",
        "# Prune tree (check if necessary)\n",
        "cat(\"CIT Number of Nodes:\", length(cit_model), \"\\n\")"
      ],
      "metadata": {
        "colab": {
          "base_uri": "https://localhost:8080/"
        },
        "id": "YFA0Ohiuqk_Z",
        "outputId": "fa88eb0c-c5e4-4352-96fb-8a09320245d5"
      },
      "execution_count": null,
      "outputs": [
        {
          "output_type": "stream",
          "name": "stdout",
          "text": [
            "CIT Number of Nodes: 7 \n"
          ]
        }
      ]
    },
    {
      "cell_type": "markdown",
      "source": [
        "#### Plot Tree"
      ],
      "metadata": {
        "id": "US6MkVbrqqKF"
      }
    },
    {
      "cell_type": "code",
      "source": [
        "%%R\n",
        "# Plot tree with ggparty\n",
        "ggparty(cit_model) +\n",
        "  geom_edge() +\n",
        "  geom_edge_label() +\n",
        "  geom_node_splitvar() +\n",
        "  geom_node_plot(gglist = list(geom_bar(aes(x = \"\", fill = Species), stat = \"count\"),\n",
        "                               theme_minimal()),\n",
        "                 shared_axis_labels = TRUE) +\n",
        "  ggtitle(\"CIT for Iris Dataset\")"
      ],
      "metadata": {
        "colab": {
          "base_uri": "https://localhost:8080/",
          "height": 497
        },
        "id": "6G6N6afYqqwI",
        "outputId": "d4c52674-cc55-4803-f099-18460260752d"
      },
      "execution_count": null,
      "outputs": [
        {
          "output_type": "display_data",
          "data": {
            "image/png": "[encoded data removed]"
          },
          "metadata": {}
        }
      ]
    },
    {
      "cell_type": "markdown",
      "source": [
        "#### Prediction and Evaluation"
      ],
      "metadata": {
        "id": "YRggOIGUqxeS"
      }
    },
    {
      "cell_type": "code",
      "source": [
        "%%R\n",
        "#  Predict with holdout test data\n",
        "cit_predictions <- predict(cit_model, newdata = test_data)\n",
        "\n",
        "#  Validate model\n",
        "cit_accuracy <- mean(cit_predictions == test_data$Species)\n",
        "cat(\"CIT Classification Accuracy:\", cit_accuracy, \"\\n\")"
      ],
      "metadata": {
        "colab": {
          "base_uri": "https://localhost:8080/"
        },
        "id": "r67S1_afqyfQ",
        "outputId": "bee827cf-d4cb-4c9c-ca9b-d67db66aa0bd"
      },
      "execution_count": null,
      "outputs": [
        {
          "output_type": "stream",
          "name": "stdout",
          "text": [
            "CIT Classification Accuracy: 0.9777778 \n"
          ]
        }
      ]
    },
    {
      "cell_type": "markdown",
      "source": [
        "#### Variable Importance\n"
      ],
      "metadata": {
        "id": "Rvqt4gIoBiip"
      }
    },
    {
      "cell_type": "code",
      "source": [
        "%%R\n",
        "# Calculate variable importance\n",
        "var_imp_cit <- varimp(cit_model)\n",
        "var_imp_cit <- sort(var_imp_cit, decreasing = TRUE) # Sort by importance\n",
        "var_imp_cit <- data.frame(Variable = names(var_imp_cit), Importance = var_imp_cit)\n",
        "# plot variable importance\n",
        "ggplot(var_imp_cit, aes(x = reorder(Variable, Importance), y = Importance)) +\n",
        "  geom_bar(stat = \"identity\") +\n",
        "  coord_flip() +\n",
        "  labs(title = \"Variable Importance for CIT-Classification\", x = \"Variable\", y = \"Importance\")"
      ],
      "metadata": {
        "id": "yGNM8SyaBjRH",
        "colab": {
          "base_uri": "https://localhost:8080/",
          "height": 497
        },
        "outputId": "742cec84-bd02-4658-ffc1-9bb71ad413c6"
      },
      "execution_count": null,
      "outputs": [
        {
          "output_type": "display_data",
          "data": {
            "image/png": "[encoded data removed]"
          },
          "metadata": {}
        }
      ]
    },
    {
      "cell_type": "markdown",
      "source": [
        "### Regression Problems\n",
        "\n",
        "Conditional Inference Trees (CITs) for regression work by recursively partitioning data based on statistical tests of independence, ensuring unbiased variable selection and robust stopping criteria. In this section, we will discuss the Conditional Inference Trees Regression algorithm, its working principles, and how to implement it in R."
      ],
      "metadata": {
        "id": "u5ulfUFxBnqH"
      }
    },
    {
      "cell_type": "markdown",
      "source": [
        "#### Data\n",
        "\n",
        "We will use the `Boston Housing` dataset, which contains information about housing values in suburbs of Boston. The dataset has 13 features (e.g., crime rate, number of rooms, etc.) and a continuous response variable (median value of owner-occupied homes).\n"
      ],
      "metadata": {
        "id": "4C3q2_XYrHmS"
      }
    },
    {
      "cell_type": "code",
      "source": [
        "%%R\n",
        "# Load and prepare Boston Housing data\n",
        "data(BostonHousing, package = \"mlbench\")\n",
        "set.seed(123)\n",
        "# Split data into training and test sets\n",
        "train_idx <- sample(1:nrow(BostonHousing), 0.7 * nrow(BostonHousing))\n",
        "train_data <- BostonHousing[train_idx, ]\n",
        "test_data <- BostonHousing[-train_idx, ]"
      ],
      "metadata": {
        "id": "NRWK-7jzcWJI"
      },
      "execution_count": null,
      "outputs": []
    },
    {
      "cell_type": "markdown",
      "source": [
        "#### Fit Conditional Inference Tree (CIT)\n",
        "\n",
        "\n"
      ],
      "metadata": {
        "id": "fHm2C5TnBsud"
      }
    },
    {
      "cell_type": "code",
      "source": [
        "%%R\n",
        "cit_model <- ctree(medv ~ ., data = train_data, control = ctree_control(mincriterion = 0.999))\n",
        "print(cit_model)"
      ],
      "metadata": {
        "id": "FlheLU85BtdR",
        "colab": {
          "base_uri": "https://localhost:8080/"
        },
        "outputId": "099a6d91-17bf-4b85-92f5-d0852b13902f"
      },
      "execution_count": null,
      "outputs": [
        {
          "output_type": "stream",
          "name": "stdout",
          "text": [
            "\n",
            "Model formula:\n",
            "medv ~ crim + zn + indus + chas + nox + rm + age + dis + rad + \n",
            "    tax + ptratio + b + lstat\n",
            "\n",
            "Fitted party:\n",
            "[1] root\n",
            "|   [2] lstat <= 9.93\n",
            "|   |   [3] rm <= 7.42\n",
            "|   |   |   [4] crim <= 4.54192\n",
            "|   |   |   |   [5] rm <= 6.718\n",
            "|   |   |   |   |   [6] rm <= 6.144: 20.596 (n = 27, err = 159.7)\n",
            "|   |   |   |   |   [7] rm > 6.144: 24.900 (n = 65, err = 482.6)\n",
            "|   |   |   |   [8] rm > 6.718: 31.551 (n = 41, err = 613.3)\n",
            "|   |   |   [9] crim > 4.54192: 39.457 (n = 7, err = 1044.9)\n",
            "|   |   [10] rm > 7.42: 46.865 (n = 17, err = 196.5)\n",
            "|   [11] lstat > 9.93\n",
            "|   |   [12] lstat <= 15.1: 20.768 (n = 88, err = 713.1)\n",
            "|   |   [13] lstat > 15.1\n",
            "|   |   |   [14] tax <= 437\n",
            "|   |   |   |   [15] crim <= 0.55778: 19.146 (n = 26, err = 130.8)\n",
            "|   |   |   |   [16] crim > 0.55778: 14.424 (n = 17, err = 51.2)\n",
            "|   |   |   [17] tax > 437: 11.862 (n = 66, err = 735.0)\n",
            "\n",
            "Number of inner nodes:    8\n",
            "Number of terminal nodes: 9\n"
          ]
        }
      ]
    },
    {
      "cell_type": "markdown",
      "source": [
        "#### Prune Tree"
      ],
      "metadata": {
        "id": "d16Oa5XtB23a"
      }
    },
    {
      "cell_type": "code",
      "source": [
        "%%R\n",
        "# Prune tree (check if necessary)\n",
        "cat(\"CIT Number of Nodes:\", length(cit_model), \"\\n\")\n",
        "# Default mincriterion is usually sufficient; adjust if tree is too large"
      ],
      "metadata": {
        "colab": {
          "base_uri": "https://localhost:8080/"
        },
        "id": "eOd4ugV6B4_r",
        "outputId": "8d2de29d-f8e8-4c38-83af-b006dea603ac"
      },
      "execution_count": null,
      "outputs": [
        {
          "output_type": "stream",
          "name": "stdout",
          "text": [
            "CIT Number of Nodes: 17 \n"
          ]
        }
      ]
    },
    {
      "cell_type": "markdown",
      "source": [
        "#### Plot Tree"
      ],
      "metadata": {
        "id": "xW_k75k-B8Xr"
      }
    },
    {
      "cell_type": "code",
      "source": [
        "%%R\n",
        "ggparty(cit_model) +\n",
        "  geom_edge() +\n",
        "  geom_edge_label() +\n",
        "  geom_node_splitvar() +\n",
        "  geom_node_plot(gglist = list(geom_histogram(aes(x = medv), bins = 20),\n",
        "                               theme_minimal()),\n",
        "                 shared_axis_labels = TRUE) +\n",
        "  ggtitle(\"CIT for Boston Housing Dataset\")"
      ],
      "metadata": {
        "colab": {
          "base_uri": "https://localhost:8080/",
          "height": 497
        },
        "id": "uJAWf0_rCBRY",
        "outputId": "fbadced6-607d-42a3-f201-94cf64fa846d"
      },
      "execution_count": null,
      "outputs": [
        {
          "output_type": "display_data",
          "data": {
            "image/png": "[encoded data removed]"
          },
          "metadata": {}
        }
      ]
    },
    {
      "cell_type": "markdown",
      "source": [
        "#### Prediction and Evaluation\n",
        "\n"
      ],
      "metadata": {
        "id": "lg_ZD97uCOuq"
      }
    },
    {
      "cell_type": "code",
      "source": [
        "%%R\n",
        "# Predict with holdout test data\n",
        "cit_predictions <- predict(cit_model, newdata = test_data)\n",
        "\n",
        "# Validate model\n",
        "cit_mse <- mean((cit_predictions - test_data$medv)^2)\n",
        "cat(\"CIT Regression MSE:\", cit_mse, \"\\n\")"
      ],
      "metadata": {
        "id": "oJ4JpXtHCROk",
        "colab": {
          "base_uri": "https://localhost:8080/"
        },
        "outputId": "cc61bd8a-efd7-4a02-fedf-e9625c53425f"
      },
      "execution_count": null,
      "outputs": [
        {
          "output_type": "stream",
          "name": "stdout",
          "text": [
            "CIT Regression MSE: 22.27946 \n"
          ]
        }
      ]
    },
    {
      "cell_type": "markdown",
      "source": [
        "#### Variable Importance"
      ],
      "metadata": {
        "id": "E3P4ZloRr0B0"
      }
    },
    {
      "cell_type": "code",
      "source": [
        "%%R -w 500 -h 450 -u px\n",
        "var_imp_cit <- varimp(cit_model)\n",
        "var_imp_cit <- sort(var_imp_cit, decreasing = TRUE) # Sort by importance\n",
        "var_imp_cit <- data.frame(Variable = names(var_imp_cit), Importance = var_imp_cit)\n",
        "# plot variable importance\n",
        "ggplot(var_imp_cit, aes(x = reorder(Variable, Importance), y = Importance)) +\n",
        "  geom_bar(stat = \"identity\") +\n",
        "  coord_flip() +\n",
        "  labs(title = \"Variable Importance for CIT-Regression\", x = \"Variable\", y = \"Importance\")"
      ],
      "metadata": {
        "colab": {
          "base_uri": "https://localhost:8080/",
          "height": 467
        },
        "id": "hsCu6dO4CdHZ",
        "outputId": "b4c8b7c8-d228-4d11-9470-91f12b693eb9"
      },
      "execution_count": null,
      "outputs": [
        {
          "output_type": "display_data",
          "data": {
            "image/png": "[encoded data removed]"
          },
          "metadata": {}
        }
      ]
    },
    {
      "cell_type": "markdown",
      "source": [
        "## Summary and Conclusions\n",
        "\n",
        "Conditional Inference Trees (CITs) are a powerful and flexible tool for both classification and regression tasks. They offer several advantages over traditional decision trees, including unbiased variable selection, statistical rigor, and the ability to handle mixed data types. The implementation of CITs in R using the {partykit} package allows for easy fitting, pruning, and visualization of trees. The CIT algorithm is particularly useful in scenarios where unbiased variable selection and robust stopping criteria are essential, such as in medical or social science applications. In this tutorial we demonstrated how to implement CITs for both classification and regression tasks using the {partykit} package in R.\n"
      ],
      "metadata": {
        "id": "Nb0kdVIuGlK7"
      }
    },
    {
      "cell_type": "markdown",
      "source": [
        "## References\n",
        "\n",
        "1.  `The Elements of Statistical Learning: Data Mining, Inference, and Prediction*`by Trevor Hastie, Robert Tibshirani, and Jerome Friedman\n",
        "    -   This comprehensive book delves into statistical learning methods, including tree-based approaches, and offers insights into the theoretical underpinnings that relate to CIT's statistical foundation.\n",
        "2.  `Introduction to Statistical Learning: With Applications in R` by Gareth James, Daniela Witten, Trevor Hastie, and Robert Tibshirani\n",
        "    -   A more accessible introduction to statistical learning, this book covers decision trees and recursive partitioning, providing a practical context that aligns with CIT's methodology.\n",
        "3.  `Tree-Based Methods for Statistical Learning` by Brandon M. Greenwell\n",
        "    -   This book focuses specifically on tree-based methods, including conditional inference trees, with a blend of mathematical concepts and R code examples, making it highly relevant for CIT enthusiasts.\n",
        "\n",
        "4.`Pattern Recognition and Machine Learning` by Christopher M. Bishop\\\n",
        "- This text explores machine learning algorithms, including decision trees, and offers a broader perspective that can enhance understanding of CIT's role in classification and regression tasks.\n",
        "\n",
        "5.  `Applied Predictive Modeling` by Max Kuhn and Kjell Johnson\n",
        "    -   Focused on predictive modeling techniques, this book includes discussions on tree-based methods and their applications, offering practical insights that complement CIT's approach to unbiased variable selection.\n",
        "\n",
        "6.  [An introduction to conditional inference trees in R](https://www.geeksforgeeks.org/conditional-inference-trees-in-r-programming/)\n",
        "\n",
        "7.  [https://martinschweinberger.github.io/TreesUBonn/](http://www.sthda.com/english/articles/35-statistical-machine-learning-essentials/141-decision-tree-essentials/)\n",
        "\n",
        "\n"
      ],
      "metadata": {
        "id": "vBv6P7rHdyQy"
      }
    }
  ]
}