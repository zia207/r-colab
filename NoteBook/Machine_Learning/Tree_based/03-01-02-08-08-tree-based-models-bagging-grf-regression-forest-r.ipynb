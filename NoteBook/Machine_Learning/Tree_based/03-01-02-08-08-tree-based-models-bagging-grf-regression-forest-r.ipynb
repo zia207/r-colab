{
  "cells": [
    {
      "cell_type": "markdown",
      "metadata": {
        "id": "view-in-github",
        "colab_type": "text"
      },
      "source": [
        "<a href=\"https://colab.research.google.com/github/zia207/r-colab/blob/main/NoteBook/Machine_Learning/Tree_based/03-01-02-08-08-tree-based-models-bagging-grf-regression-forest-r.ipynb\" target=\"_parent\"><img src=\"https://colab.research.google.com/assets/colab-badge.svg\" alt=\"Open In Colab\"/></a>"
      ]
    },
    {
      "cell_type": "markdown",
      "metadata": {
        "id": "zYZbTX0qQrZb"
      },
      "source": [
        "![alt text](http://drive.google.com/uc?export=view&id=1bLQ3nhDbZrCCqy_WCxxckOne2lgVvn3l)"
      ]
    },
    {
      "cell_type": "markdown",
      "metadata": {
        "id": "RGBfrL2GQoII"
      },
      "source": [
        "# 2.8.8 Regression Forest\n",
        "\n",
        "A **regression forest**, as implemented in the `{grf}` package in R, is a machine learning model based on random forests, specifically designed for regression tasks, with extensions for causal inference and heterogeneous treatment effect estimation. The `{grf}` package (Generalized Random Forests) provides a flexible framework for building random forests tailored to various statistical tasks, including regression, causal inference, quantile regression, and more. Below, I’ll explain the concept of a regression forest, its implementation in `{grf}`, and its key features.\n",
        "\n"
      ]
    },
    {
      "cell_type": "markdown",
      "metadata": {
        "id": "S77MsgmqIYD0"
      },
      "source": [
        "## Overview\n",
        "\n",
        "A regression forest is an ensemble learning method that extends the random forest algorithm, originally proposed by Breiman (2001), to predict continuous outcomes (regression) or estimate causal effects. It combines multiple decision trees, each trained on a random subset of the data and features, to produce robust and accurate predictions. The key idea is to average the predictions of many trees to reduce variance and improve generalization. However, A regression forest in the {grf} package in R differs from a regular random forest (as implemented in packages like {randomForest} or {ranger}) in several key ways, primarily due to its focus on advanced statistical tasks like `causal inference`, `honest estimation,` and flexibility for `heterogeneous treatment effects`. The regression forest in {grf} is specifically used to estimate conditional mean outcomes, i.e., predicting a continuous outcome variable based on covariates.\n",
        "\n"
      ]
    },
    {
      "cell_type": "markdown",
      "source": [
        "### Key Features of Regression Forests in `{grf}\n",
        "\n",
        "1. Random Forest Foundation\n",
        "\n",
        "   - A regression forest consists of many decision trees, each trained on a bootstrap sample of the data.\n",
        "   - At each node of a tree, a random subset of features is considered for splitting, reducing overfitting and improving robustness.\n",
        "   - Predictions are made by averaging the outputs of all trees for a given input.\n",
        "\n",
        "2. Honest Splitting\n",
        "\n",
        "   - `{grf}` implements \"honest\" forests, where the data used to determine the tree structure (splitting) is separate from the data used to estimate the leaf values. This reduces bias in predictions, especially in causal inference settings.\n",
        "\n",
        "3. Local Linear Corrections\n",
        "\n",
        "   - For regression tasks, `{grf}` can apply local linear adjustments to improve predictions near specific points in the feature space, making the model more flexible than standard random forests.\n",
        "\n",
        "4. Causal Inference\n",
        "\n",
        "   - Beyond standard regression, `{grf}` regression forests can estimate **causal effects**, such as the average treatment effect (ATE) or conditional average treatment effect (CATE). This is particularly useful in observational studies or randomized trials.\n",
        "   - For example, the `causal_forest()` function in `{grf}` estimates how treatment effects vary across different covariate values.\n",
        "\n",
        "5. Tuning and Flexibility\n",
        "\n",
        "   - The package allows users to tune parameters like the number of trees, minimum node size, and sample fraction to balance bias and variance.\n",
        "   - It automatically handles high-dimensional data and missing values through imputation techniques.\n"
      ],
      "metadata": {
        "id": "EnR-z3S9vTpk"
      }
    },
    {
      "cell_type": "markdown",
      "metadata": {
        "id": "VwEoykvwI2dS"
      },
      "source": [
        "### How It Work\n",
        "\n",
        "The `{grf}` package provides the `regression_forest()` function to build a regression forest. Here’s a high-level overview of how it works:\n",
        "\n",
        "1. Input Data\n",
        "\n",
        "   - A matrix of features ($X$) and a vector of continuous outcomes ($YY).\n",
        "   - Optional parameters like the number of trees, minimum node size, and honesty settings.\n",
        "\n",
        "2. Tree Construction\n",
        "\n",
        "   - For each tree, a random subset of the data is sampled (with replacement, i.e., bootstrapping).\n",
        "   - At each node, a random subset of features is considered, and the best split is chosen to minimize a loss function (e.g., mean squared error for regression).\n",
        "   - If honesty is enabled, the data is split into two parts: one for building the tree structure and another for estimating leaf values.\n",
        "\n",
        "3. Prediction\n",
        "\n",
        "   - For a new data point, each tree predicts an outcome based on the leaf it falls into.\n",
        "   - The final prediction is the average of all tree predictions (or a weighted average in some cases).\n",
        "\n",
        "4. Output\n",
        "\n",
        "   - For standard regression, the output is a predicted value for each input.\n",
        "   - For causal inference tasks (using `causal_forest()`), the output includes estimated treatment effects or other statistical quantities.\n"
      ]
    },
    {
      "cell_type": "markdown",
      "metadata": {
        "id": "bIBhNo81s-Nt"
      },
      "source": [
        "\n",
        "### Advantages of `{grf}` Regression Forests\n",
        "\n",
        "- `Flexibility`: Handles standard regression, causal inference, and quantile regression in one framework.\n",
        "- `Robustness`: Performs well in high-dimensional settings and with noisy data.\n",
        "- `Causal Inference`: Unique in its ability to estimate heterogeneous treatment effects, which is critical in fields like economics, medicine, and policy analysis.\n",
        "- `Honesty`: Reduces bias in predictions, especially for causal inference tasks.\n",
        "- `Scalability`: Efficiently handles large datasets with many features.\n"
      ]
    },
    {
      "cell_type": "markdown",
      "source": [
        "### Limitations\n",
        "\n",
        "- `Computational Cost`: Training a large number of trees on big datasets can be slow, though `{grf}` is optimized for performance.\n",
        "- `Interpretability`: While variable importance measures are available, random forests are less interpretable than simpler models like linear regression.\n",
        "- `Tuning`: Requires careful tuning of parameters (e.g., number of trees, node size) for optimal performance."
      ],
      "metadata": {
        "id": "NmMsBJhJvpJR"
      }
    },
    {
      "cell_type": "markdown",
      "source": [
        "### Key differences between Regression Forests in `{grf}` and Regular Random Forests\n",
        "\n",
        "\n",
        "A **regression forest** in the `{grf}` package in R differs from a **regular random forest** (as implemented in packages like `{randomForest}` or `{ranger}`) in several key ways, primarily due to its focus on advanced statistical tasks like causal inference, honest estimation, and flexibility for heterogeneous treatment effects. Below, I outline the main differences in a concise and structured manner:\n",
        "\n",
        "\n",
        "| Feature                     | Regular Random Forest | Regression Forest in `{grf}` |\n",
        "|-----------------------------|-----------------------|-----------------------------|\n",
        "| `Primary Use`             | Prediction            | Prediction, Causal Inference, Quantile Regression |\n",
        "| `Honest Splitting`        | No                    | Yes (reduces bias)          |\n",
        "| `Causal Inference`        | Limited               | Built-in (`causal_forest`)  |\n",
        "| `Local Linear Corrections`| No                    | Yes                         |\n",
        "| `Quantile Regression`     | Limited (requires add-ons) | Built-in (`quantile_forest`) |\n",
        "| `Statistical Inference`   | Minimal               | Confidence intervals, asymptotic guarantees |\n",
        "| `Theoretical Grounding`   | Empirical             | Advanced (Athey & Wager)    |\n",
        "| `Speed`                   | Faster                | Slower (due to rigor)       |\n",
        "\n",
        "\n",
        "- **Use Regular Random Forest** (`{randomForest}`, `{ranger}`):\n",
        "\n",
        "  - For straightforward prediction tasks where speed and simplicity are priorities.\n",
        "  - When you don’t need causal inference or advanced statistical features.\n",
        "  - When working with large datasets and computational efficiency is critical.\n",
        "  \n",
        "- **Use Regression Forest in `{grf}`**:\n",
        "\n",
        "  - For causal inference tasks (e.g., estimating treatment effects in observational studies or experiments).\n",
        "  - When you need quantile regression or other advanced statistical outputs.\n",
        "  - When unbiased estimation and statistical inference (e.g., confidence intervals) are important.\n",
        "  - For research applications requiring theoretical guarantees or heterogeneous effect estimation."
      ],
      "metadata": {
        "id": "-u2tkR3KvrbW"
      }
    },
    {
      "cell_type": "markdown",
      "metadata": {
        "id": "Bn4w4oqMCagF"
      },
      "source": [
        "## Setup R in Python Runtype"
      ]
    },
    {
      "cell_type": "markdown",
      "metadata": {
        "id": "yerTCtKKCmik"
      },
      "source": [
        "### Install {rpy2}\n",
        "\n",
        "{rpy2} is a Python package that provides an interface to the R programming language, allowing Python users to run R code, call R functions, and manipulate R objects directly from Python. It enables seamless integration between Python and R, leveraging R's statistical and graphical capabilities while using Python's flexibility. The package supports passing data between the two languages and is widely used for statistical analysis, data visualization, and machine learning tasks that benefit from R's specialized libraries."
      ]
    },
    {
      "cell_type": "code",
      "execution_count": 2,
      "metadata": {
        "colab": {
          "base_uri": "https://localhost:8080/"
        },
        "id": "OqeCyNf0Crlc",
        "outputId": "a866505a-882b-4372-da9b-c2d7d163ef98"
      },
      "outputs": [
        {
          "output_type": "stream",
          "name": "stdout",
          "text": [
            "Found existing installation: rpy2 3.5.17\n",
            "Uninstalling rpy2-3.5.17:\n",
            "  Successfully uninstalled rpy2-3.5.17\n",
            "Collecting rpy2==3.5.1\n",
            "  Downloading rpy2-3.5.1.tar.gz (201 kB)\n",
            "\u001b[2K     \u001b[90m━━━━━━━━━━━━━━━━━━━━━━━━━━━━━━━━━━━━━━━\u001b[0m \u001b[32m201.7/201.7 kB\u001b[0m \u001b[31m6.4 MB/s\u001b[0m eta \u001b[36m0:00:00\u001b[0m\n",
            "\u001b[?25h  Preparing metadata (setup.py) ... \u001b[?25l\u001b[?25hdone\n",
            "Requirement already satisfied: cffi>=1.10.0 in /usr/local/lib/python3.11/dist-packages (from rpy2==3.5.1) (1.17.1)\n",
            "Requirement already satisfied: jinja2 in /usr/local/lib/python3.11/dist-packages (from rpy2==3.5.1) (3.1.6)\n",
            "Requirement already satisfied: pytz in /usr/local/lib/python3.11/dist-packages (from rpy2==3.5.1) (2025.2)\n",
            "Requirement already satisfied: tzlocal in /usr/local/lib/python3.11/dist-packages (from rpy2==3.5.1) (5.3.1)\n",
            "Requirement already satisfied: pycparser in /usr/local/lib/python3.11/dist-packages (from cffi>=1.10.0->rpy2==3.5.1) (2.22)\n",
            "Requirement already satisfied: MarkupSafe>=2.0 in /usr/local/lib/python3.11/dist-packages (from jinja2->rpy2==3.5.1) (3.0.2)\n",
            "Building wheels for collected packages: rpy2\n",
            "  Building wheel for rpy2 (setup.py) ... \u001b[?25l\u001b[?25hdone\n",
            "  Created wheel for rpy2: filename=rpy2-3.5.1-cp311-cp311-linux_x86_64.whl size=314979 sha256=e4e36cff17a3e1b00a76a8fa9693430b260b1a712e0951793951b25fcb8c8bcd\n",
            "  Stored in directory: /root/.cache/pip/wheels/e9/55/d1/47be85a5f3f1e1f4d1e91cb5e3a4dcb40dd72147f184c5a5ef\n",
            "Successfully built rpy2\n",
            "Installing collected packages: rpy2\n",
            "Successfully installed rpy2-3.5.1\n"
          ]
        }
      ],
      "source": [
        "!pip uninstall rpy2 -y\n",
        "!pip install rpy2==3.5.1\n",
        "%load_ext rpy2.ipython"
      ]
    },
    {
      "cell_type": "markdown",
      "metadata": {
        "id": "vOzGUgYCCyqg"
      },
      "source": [
        "### Mount Google Drive"
      ]
    },
    {
      "cell_type": "code",
      "execution_count": 3,
      "metadata": {
        "colab": {
          "base_uri": "https://localhost:8080/"
        },
        "id": "_lngQQKKC2lc",
        "outputId": "c1314527-725e-4449-c808-cb7daf867b06"
      },
      "outputs": [
        {
          "output_type": "stream",
          "name": "stdout",
          "text": [
            "Mounted at /content/drive\n"
          ]
        }
      ],
      "source": [
        "from google.colab import drive\n",
        "drive.mount('/content/drive')"
      ]
    },
    {
      "cell_type": "markdown",
      "metadata": {
        "id": "bh7jEhGCLDZA"
      },
      "source": [
        "## Regression Forest with R\n",
        "\n",
        "This tutorial shows how to use the `regression_forest()` function of the `{grf}` package to predict continuous outcomes, such as housing prices, based on various features. We’ll cover data preparation, model fitting, prediction, and evaluation of the regression forest model.\n",
        "\n"
      ]
    },
    {
      "cell_type": "markdown",
      "metadata": {
        "id": "RlLmnBj77AMx"
      },
      "source": [
        "### Load and Check Required Libraries"
      ]
    },
    {
      "cell_type": "code",
      "execution_count": 4,
      "metadata": {
        "id": "9rXvjfapLYED"
      },
      "outputs": [],
      "source": [
        "%%R\n",
        "packages <- c('tidyverse',\n",
        "              'plyr',\n",
        "              'grf',\n",
        "              'rdd',\n",
        "              'survival',\n",
        "              'mlbench',\n",
        "              'Metrics'\n",
        "         )"
      ]
    },
    {
      "cell_type": "markdown",
      "metadata": {
        "id": "MDwlBWYYLc1e"
      },
      "source": [
        "### Install Missing Packages"
      ]
    },
    {
      "cell_type": "code",
      "execution_count": null,
      "metadata": {
        "id": "PWzWe7xULb2L"
      },
      "outputs": [],
      "source": [
        "%%R\n",
        "# Install missing packages\n",
        "new.packages <- packages[!(packages %in% installed.packages(lib='drive/My Drive/R/')[,\"Package\"])]\n",
        "if(length(new.packages)) install.packages(new.packages, lib='drive/My Drive/R/')"
      ]
    },
    {
      "cell_type": "markdown",
      "metadata": {
        "id": "HM3Bl4-PLfFF"
      },
      "source": [
        "### Verify Installation"
      ]
    },
    {
      "cell_type": "code",
      "execution_count": null,
      "metadata": {
        "colab": {
          "base_uri": "https://localhost:8080/"
        },
        "id": "pHr9zUJvLfNl",
        "outputId": "0e1e70ce-78f9-4d43-b842-7689763479f5"
      },
      "outputs": [
        {
          "output_type": "stream",
          "name": "stdout",
          "text": [
            "Installed packages:\n",
            "tidyverse      plyr       grf       rdd  survival   mlbench   Metrics \n",
            "     TRUE      TRUE      TRUE      TRUE      TRUE      TRUE      TRUE \n"
          ]
        }
      ],
      "source": [
        "%%R\n",
        "# set library path\n",
        ".libPaths('drive/My Drive/R')\n",
        "# Verify installation\n",
        "cat(\"Installed packages:\\n\")\n",
        "print(sapply(packages, requireNamespace, quietly = TRUE))"
      ]
    },
    {
      "cell_type": "markdown",
      "metadata": {
        "id": "2cPLFz1GLlRD"
      },
      "source": [
        "### Load R Packages"
      ]
    },
    {
      "cell_type": "code",
      "execution_count": 5,
      "metadata": {
        "id": "jIlm0D69x_70"
      },
      "outputs": [],
      "source": [
        "%%R\n",
        "# set library path\n",
        ".libPaths('drive/My Drive/R')\n",
        "# Load packages with suppressed messages\n",
        "invisible(lapply(packages, function(pkg) {\n",
        "  suppressPackageStartupMessages(library(pkg, character.only = TRUE))\n",
        "}))\n"
      ]
    },
    {
      "cell_type": "markdown",
      "metadata": {
        "id": "AH4vKW2yL1OF"
      },
      "source": [
        "### Check Loaded Packages"
      ]
    },
    {
      "cell_type": "code",
      "execution_count": null,
      "metadata": {
        "colab": {
          "base_uri": "https://localhost:8080/"
        },
        "id": "Du3QbdUeL1Yw",
        "outputId": "f7da74cd-9086-495e-c8f0-f2d6693c910a"
      },
      "outputs": [
        {
          "output_type": "stream",
          "name": "stdout",
          "text": [
            "Successfully loaded packages:\n",
            " [1] \"package:rdd\"       \"package:Formula\"   \"package:AER\"      \n",
            " [4] \"package:car\"       \"package:carData\"   \"package:lmtest\"   \n",
            " [7] \"package:zoo\"       \"package:sandwich\"  \"package:Metrics\"  \n",
            "[10] \"package:mlbench\"   \"package:survival\"  \"package:grf\"      \n",
            "[13] \"package:plyr\"      \"package:lubridate\" \"package:forcats\"  \n",
            "[16] \"package:stringr\"   \"package:dplyr\"     \"package:purrr\"    \n",
            "[19] \"package:readr\"     \"package:tidyr\"     \"package:tibble\"   \n",
            "[22] \"package:ggplot2\"   \"package:tidyverse\" \"package:tools\"    \n",
            "[25] \"package:stats\"     \"package:graphics\"  \"package:grDevices\"\n",
            "[28] \"package:utils\"     \"package:datasets\"  \"package:methods\"  \n",
            "[31] \"package:base\"     \n"
          ]
        }
      ],
      "source": [
        "%%R\n",
        "# Check loaded packages\n",
        "cat(\"Successfully loaded packages:\\n\")\n",
        "print(search()[grepl(\"package:\", search())])# Check loaded packageswer)"
      ]
    },
    {
      "cell_type": "markdown",
      "metadata": {
        "id": "IPobetr0zFC5"
      },
      "source": [
        "### Load and Prepare the Lung Dataset\n",
        "\n",
        "The lung dataset contains survival data for lung cancer patients with variables like `time` (survival time), `status` (censoring indicator), `age`, s`ex`, and `ph.ecog` (ECOG performance score). We’ll simulate a binary `health_status `variable (1 = improved, 0 = not improved) and use age, sex, and ph.ecog as covariates.\n"
      ]
    },
    {
      "cell_type": "code",
      "execution_count": 6,
      "metadata": {
        "id": "RmfGVScmzF8P"
      },
      "outputs": [],
      "source": [
        "%%R\n",
        "# Load Boston Housing dataset\n",
        "data(BostonHousing, package = \"mlbench\")\n",
        "# Split data into training (70%) and test (30%) sets\n",
        "# Set seed for reproducibility\n",
        "set.seed(123)\n",
        "n <- nrow(BostonHousing)\n",
        "train_idx <- sample(1:n, size = 0.7 * n)\n",
        "train_data <- BostonHousing[train_idx, ]\n",
        "test_data <- BostonHousing[-train_idx, ]"
      ]
    },
    {
      "cell_type": "markdown",
      "source": [
        "\n",
        "### Prepare Features and Target Variable"
      ],
      "metadata": {
        "id": "_2kVPmofcc0H"
      }
    },
    {
      "cell_type": "code",
      "source": [
        "%%R\n",
        "# Prepare features (X) and target (Y) for training and test sets\n",
        "# Convert categorical variables to numeric using one-hot encoding\n",
        "X_train <- model.matrix(~ . - medv, data = train_data)[, -1]  # Exclude medv and intercept\n",
        "Y_train <- train_data$medv\n",
        "X_test <- model.matrix(~ . - medv, data = test_data)[, -1]   # Exclude medv and intercept\n",
        "Y_test <- test_data$medv\n",
        "\n",
        "# Verify that X_train and X_test are numeric\n",
        "str(X_train)  # Should show a numeric matrix"
      ],
      "metadata": {
        "colab": {
          "base_uri": "https://localhost:8080/"
        },
        "id": "JMfWgFsjcdfZ",
        "outputId": "d787f1ec-6aaa-4705-8415-4a57920e4664"
      },
      "execution_count": 7,
      "outputs": [
        {
          "output_type": "stream",
          "name": "stdout",
          "text": [
            " num [1:354, 1:13] 45.7461 6.6549 0.0664 0.6298 0.0144 ...\n",
            " - attr(*, \"dimnames\")=List of 2\n",
            "  ..$ : chr [1:354] \"415\" \"463\" \"179\" \"14\" ...\n",
            "  ..$ : chr [1:13] \"crim\" \"zn\" \"indus\" \"chas1\" ...\n"
          ]
        }
      ]
    },
    {
      "cell_type": "markdown",
      "metadata": {
        "id": "jxK5d0frBs8O"
      },
      "source": [
        "## Fit Regression Forest Model\n",
        "\n",
        "regression_forest() is a function from the `{grf}` package that fits a regression forest model to the training data. It uses the features (X_train) and target variable (Y_train) to build the model, with options for the number of trees and honesty."
      ]
    },
    {
      "cell_type": "code",
      "execution_count": 8,
      "metadata": {
        "id": "Ou9edbC9Bt5M",
        "colab": {
          "base_uri": "https://localhost:8080/"
        },
        "outputId": "72bf4461-f29d-4dbf-ba5b-fc2ceffb5c38"
      },
      "outputs": [
        {
          "output_type": "stream",
          "name": "stdout",
          "text": [
            "GRF forest object of type regression_forest \n",
            "Number of trees: 500 \n",
            "Number of training samples: 354 \n",
            "Variable importance: \n",
            "    1     2     3     4     5     6     7     8     9    10    11    12    13 \n",
            "0.032 0.001 0.012 0.002 0.020 0.363 0.012 0.024 0.003 0.011 0.017 0.011 0.493 \n"
          ]
        }
      ],
      "source": [
        "%%R\n",
        "# Fit regression forest\n",
        "rf_model <- regression_forest(X_train,\n",
        "                              Y_train,\n",
        "                              num.trees = 500,\n",
        "                              honesty = TRUE)\n",
        "print(rf_model)  # Print model summary"
      ]
    },
    {
      "cell_type": "markdown",
      "metadata": {
        "id": "7KgHx7kY9EEg"
      },
      "source": [
        "### Predict on Test Set and Evaluate Model"
      ]
    },
    {
      "cell_type": "code",
      "execution_count": 9,
      "metadata": {
        "colab": {
          "base_uri": "https://localhost:8080/"
        },
        "id": "m0vovr-CfwBZ",
        "outputId": "a69427ae-5b45-496b-f9b3-579ba4381162"
      },
      "outputs": [
        {
          "output_type": "stream",
          "name": "stdout",
          "text": [
            "Test Set RMSE: 4.046357 \n",
            "Test Set R-squared: 0.8152404 \n"
          ]
        }
      ],
      "source": [
        "%%R\n",
        "# Predict on test set\n",
        "predictions <- predict(rf_model, X_test)$predictions\n",
        "\n",
        "# Calculate RMSE and R-squared\n",
        "rmse <- sqrt(mean((predictions - Y_test)^2))\n",
        "sst <- sum((Y_test - mean(Y_test))^2)\n",
        "sse <- sum((predictions - Y_test)^2)\n",
        "r_squared <- 1 - sse / sst\n",
        "# Print RMSE and R-squared\n",
        "cat(\"Test Set RMSE:\", rmse, \"\\n\")\n",
        "cat(\"Test Set R-squared:\", r_squared, \"\\n\")"
      ]
    },
    {
      "cell_type": "code",
      "execution_count": 10,
      "metadata": {
        "id": "6SoYugD6CEgf",
        "colab": {
          "base_uri": "https://localhost:8080/",
          "height": 497
        },
        "outputId": "7d06a2dc-f3b7-4b3d-cae5-f643e1cb04b9"
      },
      "outputs": [
        {
          "output_type": "display_data",
          "data": {
            "image/png": "[encoded data removed]"
          },
          "metadata": {}
        }
      ],
      "source": [
        "%%R\n",
        "# Create scatter plot of predicted vs observed values\n",
        "plot(Y_test, predictions,\n",
        "     main = \"Predicted vs Observed Median Housing Prices\",\n",
        "     xlab = \"Observed medv ($1000s)\",\n",
        "     ylab = \"Predicted medv ($1000s)\",\n",
        "     pch = 19, col = \"blue\",\n",
        "     xlim = range(c(Y_test, predictions)),\n",
        "     ylim = range(c(Y_test, predictions)))\n",
        "abline(0, 1, col = \"red\", lty = 2)  # Add 45-degree reference line\n",
        "\n",
        "# Add R-squared and RMSE to the plot\n",
        "legend(\"topleft\",\n",
        "       legend = c(sprintf(\"R-squared: %.3f\", r_squared),\n",
        "                  sprintf(\"RMSE: %.3f\", rmse)),\n",
        "       bty = \"n\", cex = 1.2)"
      ]
    },
    {
      "cell_type": "markdown",
      "source": [
        "## Regression Forest for Causal Inference\n",
        "\n",
        "To fit a **Regression Forest** using the `regression_forest()` function from the `{grf}` package in R for a causal inference task, we need to adapt the approach since `regression_forest()` is typically used for predicting conditional means ($E[Y | X]$) rather than directly estimating treatment effects like `causal_forest()`. However, we can use `regression_forest()` to estimate treatment effects indirectly by modeling the outcome $Y$ as a function of covariates $X$ and treatment $W$ then deriving treatment effects through predictions under different treatment conditions.\n",
        "\n",
        "Use `regression_forest()` to estimate conditional mean outcomes and derive heterogeneous treatment effects ($\\tau(X) = E[Y | X, W=1] - E[Y | X, W=0]$).\n",
        "\n"
      ],
      "metadata": {
        "id": "Bc--ln7ZkHTz"
      }
    },
    {
      "cell_type": "markdown",
      "source": [
        "\n",
        "### Synthetic Data Generation\n",
        "\n",
        "   - `X`: Matrix of 5 covariates drawn from a standard normal distribution.\n",
        "   - `W`: Binary treatment indicator (0 or 1), randomly assigned with equal probability (simulating a randomized experiment).\n",
        "   - `tau`: True treatment effect, set as $\\tau = 2 \\cdot X_1$, making it heterogeneous.\n",
        "   - `Y`: Outcome, generated as $Y = X_1 + X_2^2 + \\tau \\cdot W + \\text{noise}$.\n",
        "   - `XW`: Combines covariates and treatment into a single matrix for modeling.\n"
      ],
      "metadata": {
        "id": "RRJV7XKbkP1B"
      }
    },
    {
      "cell_type": "code",
      "source": [
        "%%R\n",
        "# Set seed for reproducibility\n",
        "set.seed(123)\n",
        "\n",
        "# Generate synthetic experimental data\n",
        "n <- 1000  # Number of observations\n",
        "p <- 5     # Number of covariates\n",
        "X <- matrix(rnorm(n * p), n, p)  # Covariates\n",
        "W <- rbinom(n, 1, 0.5)           # Binary treatment (0 or 1, balanced)\n",
        "# True treatment effect: depends on X[,1]\n",
        "tau <- 2 * X[, 1]  # Heterogeneous treatment effect\n",
        "# Outcome: Y = baseline + treatment effect + noise\n",
        "Y <- X[, 1] + X[, 2]^2 + tau * W + rnorm(n, 0, 0.5)\n",
        "\n",
        "# Combine covariates and treatment into a single matrix\n",
        "XW <- cbind(X, W)"
      ],
      "metadata": {
        "id": "mx4nyGR_kYpX"
      },
      "execution_count": 11,
      "outputs": []
    },
    {
      "cell_type": "markdown",
      "source": [
        "### Fitting the Regression Forest\n",
        "\n",
        "   - The `regression_forest()` function models $E[Y | X, W]$.\n",
        "   - Key parameters:\n",
        "     - `X = XW`: Covariates including the treatment variable $W$.\n",
        "     - `Y`: Outcome variable.\n",
        "     - `num.trees = 1000`: Number of trees for robust estimation.\n",
        "     - `honesty = TRUE`: Uses honest splitting to reduce bias.\n",
        "     - `min.node.size = 5`: Minimum number of observations per node.\n",
        "     - `sample.fraction = 0.5`: Fraction of data used per tree.\n",
        "     - `ci.group.size = 2`: Groups trees for variance estimation."
      ],
      "metadata": {
        "id": "9LgJ4JiakcnN"
      }
    },
    {
      "cell_type": "code",
      "source": [
        "%%R\n",
        "# Fit regression forest\n",
        "rf <- regression_forest(\n",
        "  X = XW,\n",
        "  Y = Y,\n",
        "  num.trees = 1000,\n",
        "  honesty = TRUE,\n",
        "  min.node.size = 5,\n",
        "  sample.fraction = 0.5,\n",
        "  ci.group.size = 2\n",
        ")\n",
        "rf"
      ],
      "metadata": {
        "colab": {
          "base_uri": "https://localhost:8080/"
        },
        "id": "huLxzWpbkdcA",
        "outputId": "0cfc19e7-d9a3-4f8b-ff87-c4f6bbfc7d4e"
      },
      "execution_count": 12,
      "outputs": [
        {
          "output_type": "stream",
          "name": "stdout",
          "text": [
            "GRF forest object of type regression_forest \n",
            "Number of trees: 1000 \n",
            "Number of training samples: 1000 \n",
            "Variable importance: \n",
            "    1     2     3     4     5     6 \n",
            "0.720 0.172 0.017 0.017 0.025 0.049 \n"
          ]
        }
      ]
    },
    {
      "cell_type": "markdown",
      "source": [
        "###  Predicting Treatment Effects\n",
        "\n",
        "   - To estimate the Conditional Average Treatment Effect (CATE), we predict outcomes for each observation under treatment ($W=1$) and control ($W=0$).\n",
        "   - `XW_treat` and `XW_control`: Datasets with $W$ set to 1 and 0, respectively.\n",
        "   - `tau_hat`: Estimated treatment effect as the difference in predicted outcomes ($\\hat{\\tau}(X) = \\hat{Y}(X, W=1) - \\hat{Y}(X, W=0)$).\n",
        "   - `tau_se`: Standard error of the treatment effect, computed as the square root of the sum of variances for treatment and control predictions."
      ],
      "metadata": {
        "id": "uy6z1da-klPj"
      }
    },
    {
      "cell_type": "code",
      "source": [
        "%%R\n",
        "# Predict outcomes under treatment (W=1) and control (W=0)\n",
        "# Create datasets for W=1 and W=0\n",
        "XW_treat <- cbind(X, W = 1)\n",
        "XW_control <- cbind(X, W = 0)\n",
        "\n",
        "# Predict outcomes\n",
        "pred_treat <- predict(rf, newdata = XW_treat, estimate.variance = TRUE)\n",
        "pred_control <- predict(rf, newdata = XW_control, estimate.variance = TRUE)\n",
        "\n",
        "# Estimate treatment effects\n",
        "tau_hat <- pred_treat$predictions - pred_control$predictions\n",
        "tau_se <- sqrt(pred_treat$variance.estimates + pred_control$variance.estimates)"
      ],
      "metadata": {
        "id": "MwJkL1-Zkl2_"
      },
      "execution_count": 13,
      "outputs": []
    },
    {
      "cell_type": "markdown",
      "source": [
        "### Evalute the Model\n",
        "\n",
        "   - Compare predicted treatment effects ($\\hat{\\tau}$) with true treatment effects ($\\tau$).\n",
        "   - Calculate Mean Squared Error (MSE) to evaluate the accuracy of CATE estimates.\n",
        "   - Variable importance can be assessed to understand the contribution of each feature in predicting treatment effects."
      ],
      "metadata": {
        "id": "PtB8JGkmkrKg"
      }
    },
    {
      "cell_type": "code",
      "source": [
        "%%R\n",
        "# Evaluate model: Compare predicted vs true treatment effects\n",
        "mean_squared_error <- mean((tau_hat - tau)^2)\n",
        "cat(\"Mean Squared Error of CATE estimates:\", mean_squared_error, \"\\n\")"
      ],
      "metadata": {
        "colab": {
          "base_uri": "https://localhost:8080/"
        },
        "id": "-xSE649Xkr5G",
        "outputId": "11c9589c-2580-4e23-ae41-834d8ef96132"
      },
      "execution_count": 14,
      "outputs": [
        {
          "output_type": "stream",
          "name": "stdout",
          "text": [
            "Mean Squared Error of CATE estimates: 0.2688863 \n"
          ]
        }
      ]
    },
    {
      "cell_type": "code",
      "source": [
        "%%R\n",
        "#  Plot predicted vs true treatment effects\n",
        "plot(tau, tau_hat,\n",
        "     xlab = \"True Treatment Effect\",\n",
        "     ylab = \"Predicted Treatment Effect\",\n",
        "     main = \"True vs Predicted CATE (Regression Forest)\")\n",
        "abline(0, 1, col = \"red\")  # 45-degree line"
      ],
      "metadata": {
        "colab": {
          "base_uri": "https://localhost:8080/",
          "height": 497
        },
        "id": "rcSRjDjBkzRw",
        "outputId": "12006b53-ab95-4c8f-d0c4-912dea378fee"
      },
      "execution_count": 15,
      "outputs": [
        {
          "output_type": "display_data",
          "data": {
            "image/png": "[encoded data removed]"
          },
          "metadata": {}
        }
      ]
    },
    {
      "cell_type": "markdown",
      "source": [
        "### Variable Importance\n",
        "\n",
        "   - Assess variable importance to understand which features contribute most to the model's predictions.\n",
        "   - The `variable_importance()` function provides a measure of how much each feature contributes to the prediction accuracy.\n"
      ],
      "metadata": {
        "id": "pZwdTc6Wkxsm"
      }
    },
    {
      "cell_type": "code",
      "source": [
        "%%R\n",
        "# Variable importance\n",
        "var_importance <- variable_importance(rf)\n",
        "colnames(XW) <- c(paste0(\"X\", 1:p), \"W\")\n",
        "names(var_importance) <- colnames(XW)\n",
        "cat(\"Variable Importance:\\n\")\n",
        "print(var_importance)\n",
        "# Create data frame for ggplot2\n",
        "var_imp_df <- data.frame(\n",
        "  Variable = factor(names(var_importance), levels = names(var_importance)),\n",
        "  Importance = var_importance\n",
        ")\n",
        "\n",
        "# Order by importance (descending)\n",
        "var_imp_df <- var_imp_df[order(-var_imp_df$Importance), ]\n",
        "\n",
        "# Plot variable importance using ggplot2\n",
        "ggplot(var_imp_df, aes(x = reorder(Variable, Importance), y = Importance)) +\n",
        "  geom_bar(stat = \"identity\", fill = \"lightblue\") +\n",
        "  coord_flip() +\n",
        "  labs(title = \"Variable Importance (Regression Forest)\",\n",
        "       x = \"Variable\",\n",
        "       y = \"Importance Score\") +\n",
        "  theme_minimal() +\n",
        "  theme(axis.text.x = element_text(angle = 45, hjust = 1))"
      ],
      "metadata": {
        "colab": {
          "base_uri": "https://localhost:8080/",
          "height": 671
        },
        "id": "SJQVjy96k4Qs",
        "outputId": "1883e998-7487-4773-a4fc-2e1c5b81a5c7"
      },
      "execution_count": 16,
      "outputs": [
        {
          "output_type": "stream",
          "name": "stdout",
          "text": [
            "Variable Importance:\n",
            "           [,1]\n",
            "[1,] 0.72017879\n",
            "[2,] 0.17242602\n",
            "[3,] 0.01692080\n",
            "[4,] 0.01712028\n",
            "[5,] 0.02479139\n",
            "[6,] 0.04856273\n",
            "attr(,\"names\")\n",
            "[1] \"X1\" \"X2\" \"X3\" \"X4\" \"X5\" \"W\" \n"
          ]
        },
        {
          "output_type": "display_data",
          "data": {
            "image/png": "[encoded data removed]"
          },
          "metadata": {}
        }
      ]
    },
    {
      "cell_type": "markdown",
      "metadata": {
        "id": "_j759RVMQMut"
      },
      "source": [
        "## Summary and Conclusion\n",
        "\n",
        "Regression forests in the `{grf}` package provide a powerful and flexible framework for regression tasks, particularly when causal inference or heterogeneous treatment effects are of interest. By leveraging the strengths of random forests while incorporating advanced statistical techniques, `{grf}` regression forests can deliver robust predictions and insights into complex relationships in data. This tutorial demonstrated how to implement a regression forest using the `{grf}` package in R, showcasing its ability to predict continuous outcomes like housing prices based on various features. The model's performance was evaluated using RMSE and R-squared metrics, highlighting its effectiveness in capturing the underlying patterns in the data.\n",
        "  "
      ]
    },
    {
      "cell_type": "markdown",
      "metadata": {
        "id": "SaZTnZx3QPGI"
      },
      "source": [
        "\n",
        "## References\n",
        "\n",
        "1. Athey et al. (2019) on generalized random forests, and Wager & Athey (2018) on causal forests.\n",
        "\n",
        "2. [Regression Forest](https://grf-labs.github.io/grf/reference/regression_forest.html)\n"
      ]
    }
  ],
  "metadata": {
    "colab": {
      "provenance": [],
      "toc_visible": true,
      "authorship_tag": "ABX9TyM5N2v1AOkTXWz5K3RRrzst",
      "include_colab_link": true
    },
    "kernelspec": {
      "display_name": "Python 3",
      "name": "python3"
    },
    "language_info": {
      "name": "python"
    }
  },
  "nbformat": 4,
  "nbformat_minor": 0
}