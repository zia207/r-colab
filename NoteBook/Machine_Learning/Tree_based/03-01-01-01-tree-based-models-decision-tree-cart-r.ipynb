{
  "nbformat": 4,
  "nbformat_minor": 0,
  "metadata": {
    "colab": {
      "provenance": [],
      "toc_visible": true,
      "authorship_tag": "ABX9TyMeHYFdpeAC1ZuRPlF8gWRI",
      "include_colab_link": true
    },
    "kernelspec": {
      "name": "python3",
      "display_name": "Python 3"
    },
    "language_info": {
      "name": "python"
    }
  },
  "cells": [
    {
      "cell_type": "markdown",
      "metadata": {
        "id": "view-in-github",
        "colab_type": "text"
      },
      "source": [
        "<a href=\"https://colab.research.google.com/github/zia207/r-colab/blob/main/NoteBook/Machine_Learning/Tree_based/03-01-01-01-tree-based-models-decision-tree-cart-r.ipynb\" target=\"_parent\"><img src=\"https://colab.research.google.com/assets/colab-badge.svg\" alt=\"Open In Colab\"/></a>"
      ]
    },
    {
      "cell_type": "markdown",
      "source": [
        "![alt text](http://drive.google.com/uc?export=view&id=1bLQ3nhDbZrCCqy_WCxxckOne2lgVvn3l)"
      ],
      "metadata": {
        "id": "4qrItz_mJNWw"
      }
    },
    {
      "cell_type": "markdown",
      "source": [
        "# 1.1 CART (Classification and Regression Trees)\n",
        "\n",
        "CART is a powerful and widely used algorithm for building decision trees. It can be applied to both classification and regression problems, making it a versatile tool in machine learning. The algorithm works by recursively partitioning the data into subsets based on feature values, creating a tree structure that represents the decision-making process.\n",
        "\n",
        "\n"
      ],
      "metadata": {
        "id": "Dzp9ZseROTcY"
      }
    },
    {
      "cell_type": "markdown",
      "source": [
        "## Overview\n",
        "\n",
        "CART (Classification and Regression Trees) is a decision tree algorithm developed by Breiman, Friedman, Olshen, and Stone in 1984. It is a versatile machine learning method used for both `classification` and `regression` tasks. CART builds a binary decision tree by recursively splitting the dataset into two subsets based on feature thresholds, optimizing an impurity or error criterion. It is widely used due to its simplicity, interpretability, and ability to handle mixed data types (numerical and categorical).\n"
      ],
      "metadata": {
        "id": "mLkAu88QToVr"
      }
    },
    {
      "cell_type": "markdown",
      "source": [
        "### Key Characteristics of CART\n",
        "\n",
        "-   `Splitting`: Creates **binary splits** (e.g., `X <= t` vs. `X > t`) at each node.\n",
        "    -   Classification: Predicts a categorical class label (e.g., `Species` in Iris).\n",
        "    -   Regression: Predicts a continuous value (e.g., `medv` in Boston Housing).\n",
        "-   `Splitting Criteria`:\n",
        "    -   Classification: Gini impurity or entropy.\n",
        "    -   Regression: Variance reduction or Mean Squared Error (MSE).\n",
        "-   `Pruning`: Uses `cost-complexity pruning` to prevent overfitting by balancing tree complexity and error. -`Output`: A tree where leaf nodes predict the majority class (classification) or mean value (regression).\n",
        "-   `Implementations`: `rpart` package in R, `sklearn.tree.DecisionTreeClassifier/Regressor` in Python."
      ],
      "metadata": {
        "id": "WL2L7JRduO3P"
      }
    },
    {
      "cell_type": "markdown",
      "source": [
        "### How CART Works\n",
        "\n",
        "CART builds a decision tree by recursively partitioning the dataset, selecting splits that minimize impurity (classification) or error (regression). Below is a step-by-step explanation, including the mathematical foundation.\n",
        "\n",
        "1. Initialize the Tree\n",
        "\n",
        "-   Start with the entire dataset at the root node.\n",
        "\n",
        "2. Select the Best Split\n",
        "\n",
        "-   For each feature $X_j$ and possible threshold $t$, evaluate the split into two subsets:\n",
        "\n",
        "   -   Left: $\\{i : X_{ij} \\leq t\\}$.\n",
        "   -   Right: $\\{i : X_{ij} > t\\}$.\n",
        "\n",
        "-   Compute the impurity or error for each subset and the weighted average:\n",
        "\n",
        "        \n",
        "$$ \\text{Impurity}_{\\text{total}} = \\frac{n_L}{n} \\text{Impurity}(S_L) + \\frac{n_R}{n} \\text{Impurity}(S_R), $$\n",
        "\n",
        "\n",
        "where $n_L$, $n_R$ are the number of observations in the left and right subsets, and $n$ is the total. - Choose the feature and threshold that minimize the total impurity/error.\n",
        "\n",
        "3.  Splitting Criteri\n",
        "\n",
        "-   **Classification**:\n",
        "\n",
        "     \n",
        " - `Gini Impurity`: Measures the probability of misclassifying a randomly chosen observation:\n",
        "  \n",
        "  $$ G = 1 - \\sum_{k=1}^K p_k^2, $$\n",
        "  where $p_k$ is the proportion of class $k$ in the node.\n",
        "  \n",
        "\n",
        "-   `Entropy`(alternative): Measures uncertainty:\n",
        "\n",
        "$$ H = -\\sum_{k=1}^K p_k \\log_2(p_k).$$\n",
        "\n",
        "-   The split minimizes the weighted Gini/entropy of child nodes.\n",
        "\n",
        "-   **Regression**:\n",
        "\n",
        "    -   `Variance Reduction`: Measures the reduction in variance after the split:\n",
        "\n",
        "$$ \\text{Var} = \\frac{1}{n} \\sum_{i=1}^n (y_i - \\bar{y})^2 $$ where $\\bar{y}$ is the mean of the response in the node.\n",
        "\n",
        "-   Alternatively, use MSE directly.\n",
        "-   The split maximizes the reduction in total variance:\n",
        "\n",
        "$$ \\text{Reduction} = \\text{Var}(\\text{parent}) - \\left( \\frac{n_L}{n} \\text{Var}(S_L) + \\frac{n_R}{n} \\text{Var}(S_R) \\right) $$\n",
        "\n",
        "4. Recurse:\n",
        "\n",
        "-   Apply the best split to create two child nodes.\n",
        "-   Repeat the splitting process for each child node unless a stopping criterion is met:\n",
        "    -   Minimum node size (e.g., `minsplit` observations).\n",
        "    -   Maximum tree depth.\n",
        "    -   No significant impurity/error reduction (controlled by complexity parameter `cp`).\n",
        "    -   Node is pure (all observations belong to one class or have the same value).\n",
        "\n",
        "5. Build the Full Tree\n",
        "\n",
        "-   Continue splitting until stopping criteria are met, creating a potentially large tree.\n",
        "\n",
        "6.  Prune the Tree\n",
        "\n",
        "-   Use `cost-complexity pruning` to simplify the tree and prevent overfitting.\n",
        "-   `Cost-Complexity Criterion`:\n",
        "\n",
        "$$ R_\\alpha(T) = R(T) + \\alpha \\cdot |T| $$ where $R(T)$ is the tree’s error (misclassification rate for classification, MSE for regression), $|T|$) is the number of terminal nodes, and $\\alpha$ is the complexity parameter (`cp`). - Select the smallest tree whose error is within one standard error of the minimum cross-validated error (via `cptable` in `rpart`).\n",
        "\n",
        "6. Prediction\n",
        "\n",
        "-   For a new observation, traverse the tree from the root to a leaf based on the feature values.\n",
        "-   **Classification**: Return the majority class in the leaf.\n",
        "-   **Regression**: Return the mean value in the leaf.\n"
      ],
      "metadata": {
        "id": "Vn-U0DinTuIv"
      }
    },
    {
      "cell_type": "markdown",
      "source": [
        "Here below the end-to-end flowchart of the CART algorithm:\n",
        "\n",
        "\n",
        "![alt text](http://drive.google.com/uc?export=view&id=1vL4ZEsXmzLhnCmj9WWxb4ZdpPIql6G-q)\n",
        "\n",
        "\n",
        "\n"
      ],
      "metadata": {
        "id": "uWCTcHkzvHE2"
      }
    },
    {
      "cell_type": "markdown",
      "source": [
        "### Key Differences Between Classification and Regression\n",
        "\n",
        "| **Aspect** | **Classification** | **Regression** |\n",
        "|-------------------|---------------------------|--------------------------|\n",
        "| **Output** | Discrete class labels | Continuous numerical values |\n",
        "| **Splitting Criterion** | Gini, Entropy, Misclassification Error | Variance Reduction, MSE |\n",
        "| **Leaf Node Output** | Majority class | Mean (or median) of target values |\n",
        "| **Objective** | Maximize class purity | Minimize variance of target values |\n"
      ],
      "metadata": {
        "id": "dIECvL9cvxtE"
      }
    },
    {
      "cell_type": "markdown",
      "source": [
        "### Advantages\n",
        "\n",
        "-   `Interpretable`: Tree structure is easy to visualize and understand.\n",
        "-   `Flexible`: Handles numerical, categorical, and missing data.\n",
        "-   `Non-linear`: Captures complex relationships without assuming linearity.\n",
        "-   `Feature Importance`: Provides measures based on impurity reduction."
      ],
      "metadata": {
        "id": "nV7XvFXGv0Dz"
      }
    },
    {
      "cell_type": "markdown",
      "source": [
        "### Disadvantages\n",
        "\n",
        "-   `Overfitting`: Can create overly complex trees without pruning.\n",
        "-   `Instability`: Sensitive to small data changes, leading to different trees.\n",
        "-   `Bias`: Favors features with many split points (e.g., continuous or high-cardinality categorical features)."
      ],
      "metadata": {
        "id": "66U1ohXZv5Ps"
      }
    },
    {
      "cell_type": "markdown",
      "source": [
        "## Setup R in Python Runtype"
      ],
      "metadata": {
        "id": "CyOope_pwUVr"
      }
    },
    {
      "cell_type": "markdown",
      "source": [
        "### Install {rpy2}\n",
        "\n",
        "{rpy2} is a Python package that provides an interface to the R programming language, allowing Python users to run R code, call R functions, and manipulate R objects directly from Python. It enables seamless integration between Python and R, leveraging R's statistical and graphical capabilities while using Python's flexibility. The package supports passing data between the two languages and is widely used for statistical analysis, data visualization, and machine learning tasks that benefit from R's specialized libraries."
      ],
      "metadata": {
        "id": "SDp3ULld8Gb9"
      }
    },
    {
      "cell_type": "code",
      "source": [
        "!pip uninstall rpy2 -y\n",
        "!pip install rpy2==3.5.1\n",
        "%load_ext rpy2.ipython"
      ],
      "metadata": {
        "id": "CiM6y-Mw8AJp",
        "colab": {
          "base_uri": "https://localhost:8080/"
        },
        "outputId": "fd3103ef-9ce5-4f69-ffe4-edf57ffac59c"
      },
      "execution_count": null,
      "outputs": [
        {
          "output_type": "stream",
          "name": "stdout",
          "text": [
            "Found existing installation: rpy2 3.5.1\n",
            "Uninstalling rpy2-3.5.1:\n",
            "  Successfully uninstalled rpy2-3.5.1\n",
            "Collecting rpy2==3.5.1\n",
            "  Using cached rpy2-3.5.1-cp311-cp311-linux_x86_64.whl\n",
            "Requirement already satisfied: cffi>=1.10.0 in /usr/local/lib/python3.11/dist-packages (from rpy2==3.5.1) (1.17.1)\n",
            "Requirement already satisfied: jinja2 in /usr/local/lib/python3.11/dist-packages (from rpy2==3.5.1) (3.1.6)\n",
            "Requirement already satisfied: pytz in /usr/local/lib/python3.11/dist-packages (from rpy2==3.5.1) (2025.2)\n",
            "Requirement already satisfied: tzlocal in /usr/local/lib/python3.11/dist-packages (from rpy2==3.5.1) (5.3.1)\n",
            "Requirement already satisfied: pycparser in /usr/local/lib/python3.11/dist-packages (from cffi>=1.10.0->rpy2==3.5.1) (2.22)\n",
            "Requirement already satisfied: MarkupSafe>=2.0 in /usr/local/lib/python3.11/dist-packages (from jinja2->rpy2==3.5.1) (3.0.2)\n",
            "Installing collected packages: rpy2\n",
            "Successfully installed rpy2-3.5.1\n"
          ]
        }
      ]
    },
    {
      "cell_type": "markdown",
      "source": [
        "### Mount Google Drive"
      ],
      "metadata": {
        "id": "O1zeuaCowiBt"
      }
    },
    {
      "cell_type": "code",
      "source": [
        "from google.colab import drive\n",
        "drive.mount('/content/drive')"
      ],
      "metadata": {
        "colab": {
          "base_uri": "https://localhost:8080/"
        },
        "id": "9J-4ie4bwiJ1",
        "outputId": "4a93c944-80ca-4cbb-90c9-ffcc087131d7"
      },
      "execution_count": null,
      "outputs": [
        {
          "output_type": "stream",
          "name": "stdout",
          "text": [
            "Drive already mounted at /content/drive; to attempt to forcibly remount, call drive.mount(\"/content/drive\", force_remount=True).\n"
          ]
        }
      ]
    },
    {
      "cell_type": "markdown",
      "source": [
        "## CART (Classification and Regression Trees) from Scratch\n",
        "\n",
        "mplementing CART (Classification and Regression Trees) from scratch in R without using packages is a complex task requiring manual construction of decision trees. Below, I provide a detailed step-by-step guide to build a basic CART algorithm for both classification (using the Iris dataset) and regression (using the Boston Housing dataset). Since you’ve requested no R packages, I’ll avoid using libraries like rpart or tree and rely on base R. I’ll also assume access to the Iris and Boston Housing datasets, which are commonly available (e.g., Iris is built into R, and Boston Housing can be accessed via external sources or pre-loaded data).\n",
        "\n",
        "The CART algorithm involves recursively splitting the input space into regions based on feature thresholds, using Gini impurity for classification and mean squared error (MSE) for regression to evaluate splits. I’ll implement a simplified version with the following components:\n",
        "\n",
        "1. `Node structure`: Represent tree nodes.\n",
        "2. `Splitting criteria`: Gini impurity for classification, MSE for regression.\n",
        "3. `Tree building`: Recursive partitioning with a stopping criterion.\n",
        "4. `Prediction`: Class or value prediction for new data.\n",
        "\n",
        "Due to the complexity, the code will be kept functional but minimal, focusing on core logic. I’ll use the Iris dataset for classification (predicting species) and the Boston Housing dataset for regression (predicting median house value).\n"
      ],
      "metadata": {
        "id": "ztl1QBDb4MYe"
      }
    },
    {
      "cell_type": "markdown",
      "source": [
        "### Classification Example\n",
        "\n",
        "For classification problem we will iris data. Thsi data contains 150 observations with 4 features (`Sepal.Length`, `Sepal.Width`, `Petal.Length`, `Petal.Width`) and a target variable `Species` (setosa, versicolor, virginica). We’ll build a classification tree to predict Species."
      ],
      "metadata": {
        "id": "n19h8v4gxIbd"
      }
    },
    {
      "cell_type": "markdown",
      "source": [
        "### Data\n",
        "\n",
        "We will create a synthetic dataset that mimics the Iris dataset, ensuring that the features are numeric and the target variable is a factor. This will help us avoid issues with factor levels and ensure that the model can be trained effectively."
      ],
      "metadata": {
        "id": "8aFvX9PX6t7N"
      }
    },
    {
      "cell_type": "code",
      "source": [
        "%%R\n",
        "# Set seed for reproducibility\n",
        "set.seed(123)\n",
        "\n",
        "# Number of observations\n",
        "n <- 150\n",
        "\n",
        "# Synthetic features mimicking Iris dataset\n",
        "data <- data.frame(\n",
        "  sepal_length = runif(n, 4, 8),       # Sepal length (range similar to Iris: 4.3 to 7.9)\n",
        "  sepal_width = runif(n, 2, 4.5),      # Sepal width (range similar to Iris: 2.0 to 4.4)\n",
        "  petal_length = runif(n, 1, 7),       # Petal length (range similar to Iris: 1.0 to 6.9)\n",
        "  petal_width = runif(n, 0.1, 2.5),    # Petal width (range similar to Iris: 0.1 to 2.5)\n",
        "  species = factor(sample(c(\"setosa\", \"versicolor\", \"virginica\"), n, replace = TRUE,\n",
        "                          prob = c(0.33, 0.33, 0.34)))  # Species with roughly equal distribution\n",
        ")\n",
        "\n",
        "# View the first few rows\n",
        "head(data)"
      ],
      "metadata": {
        "colab": {
          "base_uri": "https://localhost:8080/"
        },
        "id": "xmfaf4Uh7S7F",
        "outputId": "7d1b5184-9ae3-4744-ad57-34094b3b35cb"
      },
      "execution_count": null,
      "outputs": [
        {
          "output_type": "stream",
          "name": "stdout",
          "text": [
            "  sepal_length sepal_width petal_length petal_width   species\n",
            "1     5.150310    4.118633     5.707452   1.3571742 virginica\n",
            "2     7.153221    3.243818     1.056579   0.9395243    setosa\n",
            "3     5.635908    2.969773     5.674395   0.6772737 virginica\n",
            "4     7.532070    2.616122     5.376344   0.2396603 virginica\n",
            "5     7.761869    2.277741     4.780791   0.6678874 virginica\n",
            "6     4.182226    2.974986     3.885465   2.2361870    setosa\n"
          ]
        }
      ]
    },
    {
      "cell_type": "markdown",
      "source": [
        "#### Define CART Functions for Classification\n",
        "\n",
        "The following functions implement the core logic of the CART algorithm for classification using Gini impurity as the splitting criterion:\n",
        "\n",
        "1. `gini_impurity(classes)`:\n",
        "   - Calculates the Gini impurity for a node, measuring how mixed the classes are.\n",
        "   - Formula: `1 - sum(proportions^2)`, where `proportions` are the fractions of each class.\n",
        "   - Returns 0 if the node is empty or pure (one class).\n",
        "\n",
        "2. `gini_split(left_classes, right_classes)`:\n",
        "   - Computes the weighted Gini impurity for a split into left and right nodes.\n",
        "   - Weights the Gini impurity of each node by its size relative to the total size.\n",
        "   - Returns 0 if the total size is 0.\n",
        "\n",
        "3. `find_best_split(data, target)`:\n",
        "   - Searches for the best feature and threshold to split the data, minimizing Gini impurity.\n",
        "   - Iterates over all features and their mid-point thresholds, calculating the Gini impurity for each split.\n",
        "   - Returns a list with the best feature, threshold, Gini score, and indices for left/right splits.\n",
        "\n",
        "4. `build_tree(data, target, max_depth, min_size, depth)`:\n",
        "   - Recursively builds the decision tree.\n",
        "   - Stops if: the node is pure (one class), the data size is below `min_size`, or `max_depth` is reached.\n",
        "   - Uses `find_best_split` to choose the best split, then builds left and right subtrees.\n",
        "   - Returns a leaf node (with the majority class) or an internal node (with feature, threshold, and subtrees).\n",
        "\n",
        "5. `predict_tree(tree, row)`:\n",
        "   - Predicts the class for a single observation by traversing the tree.\n",
        "   - At each node, compares the feature value to the threshold to decide whether to go left or right.\n",
        "   - Returns the class label when a leaf node is reached.\n",
        "\n"
      ],
      "metadata": {
        "id": "VPJv1wf3xLmp"
      }
    },
    {
      "cell_type": "code",
      "source": [
        "%%R\n",
        "# Gini impurity for a node\n",
        "gini_impurity <- function(classes) {\n",
        "  if (length(classes) == 0) return(0)\n",
        "  proportions <- table(classes) / length(classes)\n",
        "  1 - sum(proportions^2)\n",
        "}\n",
        "\n",
        "# Weighted Gini impurity for a split\n",
        "gini_split <- function(left_classes, right_classes) {\n",
        "  n_left <- length(left_classes)\n",
        "  n_right <- length(right_classes)\n",
        "  n_total <- n_left + n_right\n",
        "  if (n_total == 0) return(0)\n",
        "  (n_left / n_total) * gini_impurity(left_classes) +\n",
        "  (n_right / n_total) * gini_impurity(right_classes)\n",
        "}\n",
        "\n",
        "# Find the best split for a dataset\n",
        "find_best_split <- function(data, target) {\n",
        "  features <- names(data)[names(data) != target]\n",
        "  best_gini <- Inf\n",
        "  best_feature <- NULL\n",
        "  best_threshold <- NULL\n",
        "  best_split <- NULL\n",
        "\n",
        "  for (feature in features) {\n",
        "    values <- sort(unique(data[[feature]]))\n",
        "    thresholds <- (values[-length(values)] + values[-1]) / 2\n",
        "\n",
        "    for (threshold in thresholds) {\n",
        "      left_idx <- data[[feature]] <= threshold\n",
        "      right_idx <- !left_idx\n",
        "      left_classes <- data[[target]][left_idx]\n",
        "      right_classes <- data[[target]][right_idx]\n",
        "\n",
        "      if (length(left_classes) == 0 || length(right_classes) == 0) next\n",
        "\n",
        "      gini <- gini_split(left_classes, right_classes)\n",
        "      if (gini < best_gini) {\n",
        "        best_gini <- gini\n",
        "        best_feature <- feature\n",
        "        best_threshold <- threshold\n",
        "        best_split <- list(left_idx = left_idx, right_idx = right_idx)\n",
        "      }\n",
        "    }\n",
        "  }\n",
        "\n",
        "  list(feature = best_feature, threshold = best_threshold,\n",
        "       gini = best_gini, split = best_split)\n",
        "}\n",
        "\n",
        "# Build the tree recursively\n",
        "build_tree <- function(data, target, max_depth = 3, min_size = 5, depth = 0) {\n",
        "  classes <- data[[target]]\n",
        "\n",
        "  # Stopping criteria\n",
        "  if (length(unique(classes)) == 1 || nrow(data) < min_size || depth >= max_depth) {\n",
        "    return(list(\n",
        "      is_leaf = TRUE,\n",
        "      class = names(sort(table(classes), decreasing = TRUE))[1]\n",
        "    ))\n",
        "  }\n",
        "\n",
        "  # Find best split\n",
        "  split_info <- find_best_split(data, target)\n",
        "  if (is.null(split_info$feature)) {\n",
        "    return(list(\n",
        "      is_leaf = TRUE,\n",
        "      class = names(sort(table(classes), decreasing = TRUE))[1]\n",
        "    ))\n",
        "  }\n",
        "\n",
        "  # Split data\n",
        "  left_data <- data[split_info$split$left_idx, ]\n",
        "  right_data <- data[split_info$split$right_idx, ]\n",
        "\n",
        "  # Build subtrees\n",
        "  left_subtree <- build_tree(left_data, target, max_depth, min_size, depth + 1)\n",
        "  right_subtree <- build_tree(right_data, target, max_depth, min_size, depth + 1)\n",
        "\n",
        "  # Return node\n",
        "  list(\n",
        "    is_leaf = FALSE,\n",
        "    feature = split_info$feature,\n",
        "    threshold = split_info$threshold,\n",
        "    left = left_subtree,\n",
        "    right = right_subtree\n",
        "  )\n",
        "}\n",
        "\n",
        "# Predict for a single observation\n",
        "predict_tree <- function(tree, row) {\n",
        "  if (tree$is_leaf) return(tree$class)\n",
        "\n",
        "  if (row[[tree$feature]] <= tree$threshold) {\n",
        "    predict_tree(tree$left, row)\n",
        "  } else {\n",
        "    predict_tree(tree$right, row)\n",
        "  }\n",
        "}"
      ],
      "metadata": {
        "id": "q82MNCn64Q0w"
      },
      "execution_count": null,
      "outputs": []
    },
    {
      "cell_type": "markdown",
      "source": [
        "#### Fit the Model"
      ],
      "metadata": {
        "id": "OOo66SH9yJv6"
      }
    },
    {
      "cell_type": "code",
      "source": [
        "%%R\n",
        "# split the data into training and testing sets\n",
        "set.seed(123)\n",
        "n <- nrow(data)\n",
        "train_idx <- sample(1:n, 0.8 * n)\n",
        "train_data <- data[train_idx, ]\n",
        "test_data <- data[-train_idx, ]\n",
        "\n",
        "# Build tree\n",
        "tree <- build_tree(train_data, \"species\", max_depth = 3, min_size = 5)"
      ],
      "metadata": {
        "id": "Plj_PYAeyQ9K"
      },
      "execution_count": null,
      "outputs": []
    },
    {
      "cell_type": "markdown",
      "source": [
        "#### Predict and Evaluate"
      ],
      "metadata": {
        "id": "IDwPPSUmyVWD"
      }
    },
    {
      "cell_type": "code",
      "source": [
        "%%R\n",
        "# Predict on test data\n",
        "predictions <- apply(test_data, 1, function(row) predict_tree(tree, row))\n",
        "\n",
        "# Evaluate accuracy\n",
        "accuracy <- mean(predictions == test_data$species)\n",
        "cat(\"Classification Accuracy:\", accuracy, \"\\n\")"
      ],
      "metadata": {
        "colab": {
          "base_uri": "https://localhost:8080/"
        },
        "id": "giY5I2bwyWe5",
        "outputId": "d740a185-14d6-41c6-fcf0-fd12a2d0b1db"
      },
      "execution_count": null,
      "outputs": [
        {
          "output_type": "stream",
          "name": "stdout",
          "text": [
            "Classification Accuracy: 0.3 \n"
          ]
        }
      ]
    },
    {
      "cell_type": "markdown",
      "source": [
        "### Regression Eaxample\n",
        "\n",
        "Regression trees are used to predict continuous values. The process is similar to classification, but we use mean squared error (MSE) as the splitting criterion. Below is a simplified implementation of a regression tree using the Boston Housing dataset.\n",
        "\n",
        "\n"
      ],
      "metadata": {
        "id": "jHYkWKdMWIwD"
      }
    },
    {
      "cell_type": "markdown",
      "source": [
        "#### Data\n",
        "\n",
        "We will create a synthetic dataset that mimics the Boston Housing dataset, ensuring that the `rooms` feature is numeric and `medv` is calculated after the data frame is created. This will help us avoid issues with factor levels and ensure that the model can be trained effectively."
      ],
      "metadata": {
        "id": "4t5UXWwA5GOs"
      }
    },
    {
      "cell_type": "code",
      "source": [
        "%%R\n",
        "# Set seed for reproducibility\n",
        "set.seed(123)\n",
        "\n",
        "# Number of observations\n",
        "n <- 506\n",
        "\n",
        "# Synthetic features mimicking Boston Housing dataset (initial creation without medv)\n",
        "data <- data.frame(\n",
        "  crim = runif(n, 0, 90),              # Per capita crime rate\n",
        "  zn = sample(c(0, 18, 25, 35), n, replace = TRUE, prob = c(0.7, 0.1, 0.1, 0.1)),  # Proportion of zoned land\n",
        "  indus = runif(n, 0, 27),             # Proportion of non-retail business acres\n",
        "  chas = sample(c(0, 1), n, replace = TRUE, prob = c(0.9, 0.1)),  # Charles River dummy\n",
        "  nox = runif(n, 0.38, 0.87),          # Nitric oxides concentration\n",
        "  rooms = as.numeric(runif(n, 3, 9)),  # Average number of rooms (explicitly numeric)\n",
        "  age = runif(n, 0, 100),              # Proportion of old units\n",
        "  dis = runif(n, 1, 12),               # Weighted distance to employment centers\n",
        "  rad = sample(1:24, n, replace = TRUE),  # Accessibility to highways\n",
        "  tax = runif(n, 187, 711),            # Property tax rate\n",
        "  ptratio = runif(n, 12, 22),          # Pupil-teacher ratio\n",
        "  b = runif(n, 0, 396),                # Proportion of Black residents (transformed)\n",
        "  lstat = runif(n, 1, 37)              # Lower status population percentage\n",
        ")\n",
        "\n",
        "# Calculate medv after the data frame is created\n",
        "data$medv <- 20 + 0.1 * (8 - data$rooms) + 0.2 * data$lstat + 0.05 * data$crim + rnorm(n, 0, 5)\n",
        "\n",
        "# Ensure medv stays within a reasonable range\n",
        "data$medv <- pmax(5, pmin(50, data$medv))\n",
        "\n",
        "# Verify rooms is numeric\n",
        "if (!is.numeric(data$rooms)) {\n",
        "  data$rooms <- as.numeric(as.character(data$rooms))\n",
        "  if (!is.numeric(data$rooms)) stop(\"Failed to convert rooms to numeric!\")\n",
        "}\n",
        "\n",
        "# View the first few rows and structure to confirm\n",
        "head(data)\n",
        "str(data)  # Check data structure"
      ],
      "metadata": {
        "colab": {
          "base_uri": "https://localhost:8080/"
        },
        "id": "7Gwu0Gw85Jpl",
        "outputId": "364277b7-561a-4e3b-f139-1d13b4dd575d"
      },
      "execution_count": null,
      "outputs": [
        {
          "output_type": "stream",
          "name": "stdout",
          "text": [
            "'data.frame':\t506 obs. of  14 variables:\n",
            " $ crim   : num  25.9 70.9 36.8 79.5 84.6 ...\n",
            " $ zn     : num  0 0 18 0 0 0 35 0 25 0 ...\n",
            " $ indus  : num  4.999 13.689 0.518 20.89 15.111 ...\n",
            " $ chas   : num  0 0 0 0 0 0 0 0 0 0 ...\n",
            " $ nox    : num  0.435 0.503 0.713 0.663 0.584 ...\n",
            " $ rooms  : num  8.14 6.3 6.99 6 8.54 ...\n",
            " $ age    : num  45.33 8.33 36.52 89.5 54.44 ...\n",
            " $ dis    : num  6.21 6.95 11.71 11.7 8.54 ...\n",
            " $ rad    : int  5 13 2 14 18 6 6 16 1 3 ...\n",
            " $ tax    : num  685 572 188 591 367 ...\n",
            " $ ptratio: num  16.5 18.4 20 17.4 20.8 ...\n",
            " $ b      : num  199.4 241.3 195.4 77.3 202.8 ...\n",
            " $ lstat  : num  35.32 27.02 8.62 14.52 24.88 ...\n",
            " $ medv   : num  19 34.3 23.7 21.6 25.1 ...\n"
          ]
        }
      ]
    },
    {
      "cell_type": "markdown",
      "source": [
        "#### Define CART Functions for Regression\n",
        "\n",
        "For regression, we use MSE instead of Gini impurity. The logic is similar but adapted for continuous outcomes.\n",
        "\n",
        "\n",
        "1. `mse_node(values)`:\n",
        "   - Calculates the MSE for a node, measuring the variance of target values.\n",
        "   - Formula: mean of squared differences from the mean, ignoring NA values.\n",
        "   - Returns 0 if the node is empty.\n",
        "\n",
        "2. `mse_split(left_values, right_values)`:\n",
        "   - Computes the weighted MSE for a split into left and right nodes.\n",
        "   - Weights the MSE of each node by its size relative to the total size.\n",
        "   - Returns 0 if the total size is 0.\n",
        "\n",
        "3. `find_best_split_reg(data, target)`:\n",
        "   - Searches for the best numeric feature and threshold to split the data, minimizing MSE.\n",
        "   - Iterates over numeric features and their mid-point thresholds, calculating MSE for each split.\n",
        "   - Handles NA values and skips if a split has no data on either side.\n",
        "   - Returns a list with the best feature, threshold, MSE score, and indices for left/right splits.\n",
        "\n",
        "4. `build_tree_reg(data, target, max_depth, min_size, depth)`:\n",
        "   - Recursively builds the regression tree.\n",
        "   - Stops if: the data size is below `min_size`, `max_depth` is reached, or all target values are NA.\n",
        "   - Uses `find_best_split_reg` to choose the best split, then builds left and right subtrees.\n",
        "   - Returns a leaf node (with the mean target value) or an internal node (with feature, threshold, and subtrees).\n",
        "\n",
        "5. `predict_tree_reg(tree, row)`:\n",
        "   - Predicts the value for a single observation by traversing the tree.\n",
        "   - At each node, compares the feature value to the threshold (handling NA values) to go left or right.\n",
        "   - Returns the mean value when a leaf node is reached, or 0 if the leaf value is NA."
      ],
      "metadata": {
        "id": "V9ssuzT-1P7h"
      }
    },
    {
      "cell_type": "code",
      "source": [
        "%%R\n",
        "mse_node <- function(values) {\n",
        "  if (length(values) == 0) return(0)\n",
        "  mean((values - mean(values, na.rm = TRUE))^2, na.rm = TRUE)\n",
        "}\n",
        "\n",
        "# Weighted MSE for a split\n",
        "mse_split <- function(left_values, right_values) {\n",
        "  n_left <- length(left_values)\n",
        "  n_right <- length(right_values)\n",
        "  n_total <- n_left + n_right\n",
        "  if (n_total == 0) return(0)\n",
        "  (n_left / n_total) * mse_node(left_values) +\n",
        "  (n_right / n_total) * mse_node(right_values)\n",
        "}\n",
        "\n",
        "# Find the best split for regression\n",
        "find_best_split_reg <- function(data, target) {\n",
        "  features <- names(data)[names(data) != target]\n",
        "  numeric_features <- features[sapply(data[features], is.numeric)]\n",
        "\n",
        "  best_mse <- Inf\n",
        "  best_feature <- NULL\n",
        "  best_threshold <- NULL\n",
        "  best_split <- NULL\n",
        "\n",
        "  for (feature in numeric_features) {\n",
        "    values <- sort(unique(data[[feature]][!is.na(data[[feature]])]))\n",
        "    if (length(values) < 2) next\n",
        "\n",
        "    thresholds <- (values[-length(values)] + values[-1]) / 2\n",
        "\n",
        "    for (threshold in thresholds) {\n",
        "      left_idx <- data[[feature]] <= threshold & !is.na(data[[feature]])\n",
        "      right_idx <- data[[feature]] > threshold & !is.na(data[[feature]])\n",
        "      left_values <- data[[target]][left_idx]\n",
        "      right_values <- data[[target]][right_idx]\n",
        "\n",
        "      if (length(left_values) == 0 || length(right_values) == 0) next\n",
        "\n",
        "      mse <- mse_split(left_values, right_values)\n",
        "      if (mse < best_mse) {\n",
        "        best_mse <- mse\n",
        "        best_feature <- feature\n",
        "        best_threshold <- threshold\n",
        "        best_split <- list(left_idx = left_idx, right_idx = right_idx)\n",
        "      }\n",
        "    }\n",
        "  }\n",
        "\n",
        "  list(feature = best_feature, threshold = best_threshold,\n",
        "       mse = best_mse, split = best_split)\n",
        "}\n",
        "\n",
        "# Build regression tree\n",
        "build_tree_reg <- function(data, target, max_depth = 3, min_size = 5, depth = 0) {\n",
        "  values <- data[[target]]\n",
        "\n",
        "  if (nrow(data) < min_size || depth >= max_depth || all(is.na(values))) {\n",
        "    return(list(\n",
        "      is_leaf = TRUE,\n",
        "      value = if (all(is.na(values))) 0 else mean(values, na.rm = TRUE)\n",
        "    ))\n",
        "  }\n",
        "\n",
        "  split_info <- find_best_split_reg(data, target)\n",
        "  if (is.null(split_info$feature)) {\n",
        "    return(list(\n",
        "      is_leaf = TRUE,\n",
        "      value = if (all(is.na(values))) 0 else mean(values, na.rm = TRUE)\n",
        "    ))\n",
        "  }\n",
        "\n",
        "  left_data <- data[split_info$split$left_idx, ]\n",
        "  right_data <- data[split_info$split$right_idx, ]\n",
        "\n",
        "  left_subtree <- build_tree_reg(left_data, target, max_depth, min_size, depth + 1)\n",
        "  right_subtree <- build_tree_reg(right_data, target, max_depth, min_size, depth + 1)\n",
        "\n",
        "  list(\n",
        "    is_leaf = FALSE,\n",
        "    feature = split_info$feature,\n",
        "    threshold = split_info$threshold,\n",
        "    left = left_subtree,\n",
        "    right = right_subtree\n",
        "  )\n",
        "}\n",
        "\n",
        "# Predict for a single observation\n",
        "predict_tree_reg <- function(tree, row) {\n",
        "  if (tree$is_leaf) {\n",
        "    if (is.na(tree$value)) return(0)\n",
        "    return(tree$value)\n",
        "  }\n",
        "\n",
        "  if (is.na(row[[tree$feature]]) || row[[tree$feature]] <= tree$threshold) {\n",
        "    predict_tree_reg(tree$left, row)\n",
        "  } else {\n",
        "    predict_tree_reg(tree$right, row)\n",
        "  }\n",
        "}"
      ],
      "metadata": {
        "id": "bl-ABAmc1Qxd"
      },
      "execution_count": null,
      "outputs": []
    },
    {
      "cell_type": "markdown",
      "source": [
        "#### Fit the Model\n"
      ],
      "metadata": {
        "id": "2DHsg4l318l_"
      }
    },
    {
      "cell_type": "code",
      "source": [
        "%%R\n",
        "# split the data\n",
        "set.seed(123)\n",
        "train_idx <- sample(1:nrow(data), 0.7 * nrow(data))\n",
        "train_data <- data[train_idx, ]\n",
        "test_data <- data[-train_idx, ]\n",
        "\n",
        "# Remove NA from test_data$medv\n",
        "test_data <- test_data[!is.na(test_data$medv), ]\n",
        "\n",
        "# Build tree\n",
        "tree <- build_tree_reg(train_data, \"medv\", max_depth = 3, min_size = 5)"
      ],
      "metadata": {
        "id": "Lse04dfU1-aD"
      },
      "execution_count": null,
      "outputs": []
    },
    {
      "cell_type": "markdown",
      "source": [
        "#### Predict and Evaluate"
      ],
      "metadata": {
        "id": "FS8yNBap5dLQ"
      }
    },
    {
      "cell_type": "code",
      "source": [
        "%%R\n",
        "# Predict on test data\n",
        "predictions <- apply(test_data, 1, function(row) predict_tree_reg(tree, row))\n",
        "\n",
        "# Check for NA in predictions\n",
        "if (any(is.na(predictions))) {\n",
        "  cat(\"Warning: NA values in predictions\\n\")\n",
        "}\n",
        "\n",
        "# Evaluate RMSE\n",
        "errors <- predictions - test_data$medv\n",
        "squared_errors <- errors^2\n",
        "mean_squared_error <- mean(squared_errors, na.rm = TRUE)\n",
        "rmse <- sqrt(mean_squared_error)\n",
        "cat(\"Regression RMSE:\", rmse, \"\\n\")"
      ],
      "metadata": {
        "colab": {
          "base_uri": "https://localhost:8080/"
        },
        "id": "ftibteU5WL55",
        "outputId": "ea843658-26ee-43ac-b7af-bf3aae13e5a1"
      },
      "execution_count": null,
      "outputs": [
        {
          "output_type": "stream",
          "name": "stdout",
          "text": [
            "Regression RMSE: 5.207834 \n"
          ]
        }
      ]
    },
    {
      "cell_type": "markdown",
      "source": [
        "## CART (Classification and Regression Trees) in R\n",
        "\n",
        "Decision Trees are versatile machine learning algorithms that can handle both regression and classification tasks. This tutorial will guide you step-by-step through the implementation of Decision Trees in R for classification and regression. We use the {rpart} package, which is widely used for building decision trees in R. The {rpart} package is a powerful tool for building Decision Trees in R. It provides a simple and efficient way to create trees for both regression and classification tasks. The package uses the `CART (Classification and Regression Trees)` algorithm, which is widely used in machine learning.\n",
        "\n",
        "Key {rpart} Functions:\n",
        "\n",
        "`rpart()`: Builds the decision tree.\n",
        "\n",
        "`rpart.control()`: Customizes tree growth (e.g., minsplit, maxdepth, cp).\n",
        "\n",
        "`predict()`: Makes predictions.\n",
        "\n",
        "`printcp()`: Displays the complexity parameter table.\n",
        "\n",
        "`prune()`: Prunes the tree to reduce overfitting.\n",
        "\n",
        "`rpart.plot()`: Visualizes the tree."
      ],
      "metadata": {
        "id": "sZM4h2ad5q78"
      }
    },
    {
      "cell_type": "markdown",
      "source": [
        "### Check amd Install Required R Packages\n",
        "\n",
        "Following R packages are required to run this notebook. If any of these packages are not installed, you can install them using the code below:"
      ],
      "metadata": {
        "id": "yXu-XY0mw1A8"
      }
    },
    {
      "cell_type": "code",
      "source": [
        "%%R\n",
        "packages <- c('tidyverse',\n",
        "              'plyr',\n",
        "              'rpart',\n",
        "              'rpart.plot',\n",
        "              'Metrics',\n",
        "              'ggpmisc',\n",
        "              'mlbench'\n",
        "         )\n"
      ],
      "metadata": {
        "id": "TeYB57l0wz5N"
      },
      "execution_count": null,
      "outputs": []
    },
    {
      "cell_type": "markdown",
      "source": [
        "#### Install Missing Packages"
      ],
      "metadata": {
        "id": "q7NH-51RYeIk"
      }
    },
    {
      "cell_type": "code",
      "source": [
        "%%R\n",
        "# Install missing packages\n",
        "new.packages <- packages[!(packages %in% installed.packages(lib='drive/My Drive/R/')[,\"Package\"])]\n",
        "if(length(new.packages)) install.packages(new.packages, lib='drive/My Drive/R/')"
      ],
      "metadata": {
        "id": "a0aTMYTHAraZ"
      },
      "execution_count": null,
      "outputs": []
    },
    {
      "cell_type": "markdown",
      "source": [
        "#### Verify Installation"
      ],
      "metadata": {
        "id": "Ah43eXWcYfpA"
      }
    },
    {
      "cell_type": "code",
      "source": [
        "%%R\n",
        "# set library path\n",
        ".libPaths('drive/My Drive/R')\n",
        "# Verify installation\n",
        "cat(\"Installed packages:\\n\")\n",
        "print(sapply(packages, requireNamespace, quietly = TRUE))"
      ],
      "metadata": {
        "colab": {
          "base_uri": "https://localhost:8080/"
        },
        "id": "R9hpg7qnArfh",
        "outputId": "3ba38302-df3e-45e1-ce30-934d6508e309"
      },
      "execution_count": null,
      "outputs": [
        {
          "output_type": "stream",
          "name": "stdout",
          "text": [
            "Installed packages:\n"
          ]
        },
        {
          "output_type": "stream",
          "name": "stderr",
          "text": [
            "WARNING:rpy2.rinterface_lib.callbacks:R[write to console]: Registered S3 methods overwritten by 'ggpp':\n",
            "  method                  from   \n",
            "  heightDetails.titleGrob ggplot2\n",
            "  widthDetails.titleGrob  ggplot2\n",
            "\n"
          ]
        },
        {
          "output_type": "stream",
          "name": "stdout",
          "text": [
            " tidyverse       plyr      rpart rpart.plot    Metrics    ggpmisc    mlbench \n",
            "      TRUE       TRUE       TRUE       TRUE       TRUE       TRUE       TRUE \n"
          ]
        }
      ]
    },
    {
      "cell_type": "markdown",
      "source": [
        "### Load R Packages"
      ],
      "metadata": {
        "id": "MV7R29xfyWQz"
      }
    },
    {
      "cell_type": "code",
      "source": [
        "%%R\n",
        "# set library path\n",
        ".libPaths('drive/My Drive/R')\n",
        "# Load packages with suppressed messages\n",
        "invisible(lapply(packages, function(pkg) {\n",
        "  suppressPackageStartupMessages(library(pkg, character.only = TRUE))\n",
        "}))\n",
        "\n"
      ],
      "metadata": {
        "id": "232jNAHBykUL"
      },
      "execution_count": null,
      "outputs": []
    },
    {
      "cell_type": "markdown",
      "source": [
        "#### Check Loaded Packages"
      ],
      "metadata": {
        "id": "ULxgK067YntF"
      }
    },
    {
      "cell_type": "code",
      "source": [
        "%%R\n",
        "# Check loaded packages\n",
        "cat(\"Successfully loaded packages:\\n\")\n",
        "print(search()[grepl(\"package:\", search())])# Check loaded packageswer)"
      ],
      "metadata": {
        "colab": {
          "base_uri": "https://localhost:8080/"
        },
        "id": "mcAOZzmSYk4n",
        "outputId": "93a927b2-f05e-4f61-f232-65042c5877e9"
      },
      "execution_count": null,
      "outputs": [
        {
          "output_type": "stream",
          "name": "stdout",
          "text": [
            "Successfully loaded packages:\n",
            " [1] \"package:mlbench\"    \"package:ggpmisc\"    \"package:ggpp\"      \n",
            " [4] \"package:Metrics\"    \"package:rpart.plot\" \"package:rpart\"     \n",
            " [7] \"package:plyr\"       \"package:lubridate\"  \"package:forcats\"   \n",
            "[10] \"package:stringr\"    \"package:dplyr\"      \"package:purrr\"     \n",
            "[13] \"package:readr\"      \"package:tidyr\"      \"package:tibble\"    \n",
            "[16] \"package:ggplot2\"    \"package:tidyverse\"  \"package:tools\"     \n",
            "[19] \"package:stats\"      \"package:graphics\"   \"package:grDevices\" \n",
            "[22] \"package:utils\"      \"package:datasets\"   \"package:methods\"   \n",
            "[25] \"package:base\"      \n"
          ]
        }
      ]
    },
    {
      "cell_type": "markdown",
      "source": [
        "### Classifiaction Probelem\n",
        "\n",
        "In this section, we will implement a Decision Tree model for classification using the {rpart} package in R. The goal is to classify the arsenic concentration into different categories based on the features. We will also visualize the tree structure and evaluate its performance using metrics like accuracy, precision, recall, and F1 score."
      ],
      "metadata": {
        "id": "kNk2gZi88J6Q"
      }
    },
    {
      "cell_type": "markdown",
      "source": [
        "#### Data\n",
        "\n",
        "We will `iris` dataset for this example. The `iris` dataset is a classic dataset in machine learning and statistics, containing measurements of various features of iris flowers. It has three classes of iris species: Setosa, Versicolor, and Virginica.\n"
      ],
      "metadata": {
        "id": "rSJqB05rO5ES"
      }
    },
    {
      "cell_type": "code",
      "execution_count": null,
      "metadata": {
        "id": "CFpt_H01OPsa"
      },
      "outputs": [],
      "source": [
        "%%R\n",
        "# Load and prepare Iris data\n",
        "data(iris)\n",
        "iris$Species <- as.factor(iris$Species)\n",
        "set.seed(123)\n",
        "# Split the data into training and testing sets\n",
        "train_idx <- sample(1:nrow(iris), 0.7 * nrow(iris))\n",
        "train_data <- iris[train_idx, ]\n",
        "test_data <- iris[-train_idx, ]"
      ]
    },
    {
      "cell_type": "markdown",
      "source": [
        "#### Build the Initial Tree\n",
        "\n",
        "The `rpart()` function takes as input a formula specifying the target variable to be predicted and the predictors to be used in the model, as well as a data set containing the observations. It then recursively partitions the data based on the predictors, creating a tree structure in which each internal node represents a decision based on a predictor and each leaf node represents a predicted value for the target variable. First, we'll build a large initial regression tree. We can ensure that the tree is large by using a small value for `cp`, which stands for `complexity parameter`. `method = \"class\"` indicates that we are building a classification tree. The `rpart.control()` function allows us to set the complexity parameter (`cp`) to a very small value (0.0001) to ensure that the tree is large enough to capture all the data patterns.\n",
        "\n",
        "We'll then use the `printcp()` function to print the results of the model.\n"
      ],
      "metadata": {
        "id": "Vh_4nTSOBPbT"
      }
    },
    {
      "cell_type": "code",
      "source": [
        "%%R\n",
        "cart_model <- rpart(Species ~ ., data = train_data, method = \"class\",\n",
        "                     control = rpart.control(minsplit = 5, cp = 0.01))\n",
        "\n",
        "#view results\n",
        "printcp(cart_model)"
      ],
      "metadata": {
        "id": "oQz_eHAmBR-U",
        "colab": {
          "base_uri": "https://localhost:8080/"
        },
        "outputId": "f07d2ac6-9295-4287-a683-c7ed2a376908"
      },
      "execution_count": null,
      "outputs": [
        {
          "output_type": "stream",
          "name": "stdout",
          "text": [
            "\n",
            "Classification tree:\n",
            "rpart(formula = Species ~ ., data = train_data, method = \"class\", \n",
            "    control = rpart.control(minsplit = 5, cp = 0.01))\n",
            "\n",
            "Variables actually used in tree construction:\n",
            "[1] Petal.Length Petal.Width \n",
            "\n",
            "Root node error: 68/105 = 0.64762\n",
            "\n",
            "n= 105 \n",
            "\n",
            "        CP nsplit rel error  xerror     xstd\n",
            "1 0.529412      0  1.000000 1.20588 0.062326\n",
            "2 0.397059      1  0.470588 0.54412 0.071987\n",
            "3 0.029412      2  0.073529 0.11765 0.039979\n",
            "4 0.010000      3  0.044118 0.10294 0.037589\n"
          ]
        }
      ]
    },
    {
      "cell_type": "markdown",
      "source": [
        "We can use the `plotcp()` function to visualize the cross-validated error for each level of tree complexity:"
      ],
      "metadata": {
        "id": "pcojCvbSBXP4"
      }
    },
    {
      "cell_type": "code",
      "source": [
        "%%R\n",
        "plotcp(cart_model,\n",
        "       main = \"Cross-Validation Error vs. Complexity Parameter (cp)\",\n",
        "       col = \"blue\", lwd = 2)"
      ],
      "metadata": {
        "colab": {
          "base_uri": "https://localhost:8080/",
          "height": 497
        },
        "id": "q4hhgdlLBZgm",
        "outputId": "79554fd5-5b0a-40e7-910a-b0466aca419f"
      },
      "execution_count": null,
      "outputs": [
        {
          "output_type": "display_data",
          "data": {
            "image/png": "[encoded data removed]"
          },
          "metadata": {}
        }
      ]
    },
    {
      "cell_type": "markdown",
      "source": [
        "#### Prune the tree\n",
        "\n",
        "Pruning is a technique used to reduce the size of a regression tree by removing some of the branches that do not contribute much to the prediction accuracy. Pruning can help to avoid overfitting and improve the generalization performance of the model. Next, we'll prune the regression tree to find the optimal value to use for cp (the complexity parameter) that leads to the lowest test error. Use the `prune()` function to prune the tree to the desired complexity level. For example, to prune the tree to the level with the lowest cross-validated error.\n",
        "\n",
        "Note that the optimal value for cp is the one that leads to the lowest `xerror` in the previous output, which represents the error on the observations from the cross-validation data.\n",
        "\n",
        "First, identify best cp value to use:"
      ],
      "metadata": {
        "id": "kK6jj2ZtBcNP"
      }
    },
    {
      "cell_type": "code",
      "source": [
        "%%R\n",
        "# Find optimal cp value from cross-validated error\n",
        "cptable <- cart_model$cptable\n",
        "opt_cp <- cptable[which.min(cptable[, \"xerror\"]), \"CP\"]\n",
        "# We use use this cp value to prune the tree:\n",
        "pruned_model <- prune(cart_model, cp = opt_cp)\n",
        "cat(\"Optimal CP for Pruning:\", opt_cp, \"\\n\")"
      ],
      "metadata": {
        "id": "TuIIZ-40BdCf",
        "colab": {
          "base_uri": "https://localhost:8080/"
        },
        "outputId": "37a834bf-bf4c-4ab9-a394-77bb2b2f54b0"
      },
      "execution_count": null,
      "outputs": [
        {
          "output_type": "stream",
          "name": "stdout",
          "text": [
            "Optimal CP for Pruning: 0.01 \n"
          ]
        }
      ]
    },
    {
      "cell_type": "markdown",
      "source": [
        "#### Visualize the Pruned Tree\n",
        "\n",
        "We can use `rpart.plot()` function to plot the regression tree:\n"
      ],
      "metadata": {
        "id": "Rvqt4gIoBiip"
      }
    },
    {
      "cell_type": "code",
      "source": [
        "%%R\n",
        "rpart.plot(pruned_model, main = \"Pruned Decision Tree for Iris Dataset\",\n",
        "           extra = 104, # Show class probabilities and counts\n",
        "           fallen.leaves = TRUE)"
      ],
      "metadata": {
        "id": "yGNM8SyaBjRH",
        "colab": {
          "base_uri": "https://localhost:8080/",
          "height": 497
        },
        "outputId": "f1d81226-7c4d-46f4-ed57-3cc23b42074a"
      },
      "execution_count": null,
      "outputs": [
        {
          "output_type": "display_data",
          "data": {
            "image/png": "[encoded data removed]"
          },
          "metadata": {}
        }
      ]
    },
    {
      "cell_type": "markdown",
      "source": [
        "#### Make Predictions"
      ],
      "metadata": {
        "id": "u5ulfUFxBnqH"
      }
    },
    {
      "cell_type": "code",
      "source": [
        "%%R -w 500 -h 450 -u px\n",
        "# Predict on the test data\n",
        "predictions <- predict(pruned_model, newdata = test_data, type = \"class\")"
      ],
      "metadata": {
        "id": "NRWK-7jzcWJI"
      },
      "execution_count": null,
      "outputs": []
    },
    {
      "cell_type": "code",
      "source": [
        "%%R\n",
        "# Confusion matrix, proportion of cases\n",
        "confusion_matrix <- table(test_data$Species, predictions)\n",
        "confusion_matrix"
      ],
      "metadata": {
        "colab": {
          "base_uri": "https://localhost:8080/"
        },
        "id": "zBjF142hYGjw",
        "outputId": "a983a490-237c-4923-a84e-55736320a44b"
      },
      "execution_count": null,
      "outputs": [
        {
          "output_type": "stream",
          "name": "stdout",
          "text": [
            "            predictions\n",
            "             setosa versicolor virginica\n",
            "  setosa         14          0         0\n",
            "  versicolor      0         17         1\n",
            "  virginica       0          0        13\n"
          ]
        }
      ]
    },
    {
      "cell_type": "code",
      "source": [
        "%%R\n",
        "# define variables\n",
        "    TP <- confusion_matrix[2, 2]\n",
        "    TN <- confusion_matrix[1, 1]\n",
        "    FP <- confusion_matrix[2, 1]\n",
        "    FN <- confusion_matrix[1, 2]\n",
        "\n",
        "    # accuracy\n",
        "    accuracy <- (TP + TN) / sum(confusion_matrix)\n",
        "\n",
        "    # precision\n",
        "    precision <- TP / (TP + FP)\n",
        "\n",
        "    # Recall\n",
        "    recall <- TP / (TP + FN)\n",
        "\n",
        "    # specificity\n",
        "    specificity <- TN / (TN + FP)\n",
        "\n",
        "    # f1_score\n",
        "    f1_score <- 2 * (precision * recall) / (precision + recall)\n",
        "\n",
        "    # Print the results\n",
        "    cat(\"Accuracy:\", accuracy, \"\\n\")\n",
        "    cat(\"Precision:\", precision, \"\\n\")\n",
        "    cat(\"Recall:\", recall, \"\\n\")\n",
        "    cat(\"Specificity:\", specificity, \"\\n\")\n",
        "    cat(\"F1 Score:\", f1_score, \"\\n\")"
      ],
      "metadata": {
        "colab": {
          "base_uri": "https://localhost:8080/"
        },
        "id": "OGABofzWaOBm",
        "outputId": "126b7c73-736d-40c1-c242-10776b54ee17"
      },
      "execution_count": null,
      "outputs": [
        {
          "output_type": "stream",
          "name": "stdout",
          "text": [
            "Accuracy: 0.6888889 \n",
            "Precision: 1 \n",
            "Recall: 1 \n",
            "Specificity: 1 \n",
            "F1 Score: 1 \n"
          ]
        }
      ]
    },
    {
      "cell_type": "markdown",
      "source": [
        "#### Variable Importance\n",
        "\n",
        "The `rpart` package provides a convenient way to assess the importance of each predictor variable in the model. The `importance()` function calculates the importance of each variable based on the total decrease in node impurity (Gini Impurity or Entropy) that results from splits involving that variable.\n"
      ],
      "metadata": {
        "id": "fHm2C5TnBsud"
      }
    },
    {
      "cell_type": "code",
      "source": [
        "%%R\n",
        "\n",
        "var_imp <- pruned_model$variable.importance\n",
        "if (is.null(var_imp)) {\n",
        "  var_imp <- rep(0, ncol(train_data) - 1)\n",
        "  names(var_imp) <- setdiff(names(train_data), \"Species\")\n",
        "}\n",
        "barplot(var_imp, main = \"Variable Importance for Iris Dataset\",\n",
        "        xlab = \"Variable\", ylab = \"Importance\", las = 2, cex.names = 0.8)"
      ],
      "metadata": {
        "id": "FlheLU85BtdR",
        "colab": {
          "base_uri": "https://localhost:8080/",
          "height": 497
        },
        "outputId": "49d522b9-6e8a-4cf0-8af1-ae1dea7f6ace"
      },
      "execution_count": null,
      "outputs": [
        {
          "output_type": "display_data",
          "data": {
            "image/png": "[encoded data removed]"
          },
          "metadata": {}
        }
      ]
    },
    {
      "cell_type": "markdown",
      "source": [
        "### Regression Problem\n",
        "\n",
        "In this section, we will implement a Decision Tree model for regression using the {rpart} package in R."
      ],
      "metadata": {
        "id": "xW_k75k-B8Xr"
      }
    },
    {
      "cell_type": "markdown",
      "source": [
        "#### Data\n",
        "\n",
        "We will use the `BostonHousing` dataset from the {mlbench} package. The dataset contains various features related to housing in Boston and their corresponding median house values. The goal is to predict the median house value based on the features."
      ],
      "metadata": {
        "id": "OZ3QYgQoYZTk"
      }
    },
    {
      "cell_type": "code",
      "source": [
        "%%R\n",
        " # Load and prepare Boston Housing data\n",
        "data(BostonHousing)\n",
        "# Select subset of predictors and response\n",
        "set.seed(123)\n",
        "train_idx <- sample(1:nrow(BostonHousing), 0.7 * nrow(BostonHousing))\n",
        "train_data <- BostonHousing[train_idx, ]\n",
        "test_data <- BostonHousing[-train_idx, ]"
      ],
      "metadata": {
        "id": "uJAWf0_rCBRY"
      },
      "execution_count": null,
      "outputs": []
    },
    {
      "cell_type": "markdown",
      "source": [
        "#### Build the initial  tree\n",
        "\n"
      ],
      "metadata": {
        "id": "lg_ZD97uCOuq"
      }
    },
    {
      "cell_type": "code",
      "source": [
        "%%R\n",
        "cart_model <- rpart(medv ~ ., data = train_data,\n",
        "                     method = \"anova\",\n",
        "                     control = rpart.control(minsplit = 5, cp = 0.01))\n",
        "\n",
        "#view results\n",
        "printcp(cart_model)"
      ],
      "metadata": {
        "id": "oJ4JpXtHCROk",
        "colab": {
          "base_uri": "https://localhost:8080/"
        },
        "outputId": "3c444fdf-c039-4848-ea24-62423add0145"
      },
      "execution_count": null,
      "outputs": [
        {
          "output_type": "stream",
          "name": "stdout",
          "text": [
            "\n",
            "Regression tree:\n",
            "rpart(formula = medv ~ ., data = train_data, method = \"anova\", \n",
            "    control = rpart.control(minsplit = 5, cp = 0.01))\n",
            "\n",
            "Variables actually used in tree construction:\n",
            "[1] dis   lstat rm    tax  \n",
            "\n",
            "Root node error: 29183/354 = 82.438\n",
            "\n",
            "n= 354 \n",
            "\n",
            "        CP nsplit rel error  xerror     xstd\n",
            "1 0.424057      0   1.00000 1.00697 0.103213\n",
            "2 0.210261      1   0.57594 0.73213 0.081064\n",
            "3 0.076449      2   0.36568 0.42819 0.062301\n",
            "4 0.076300      3   0.28923 0.39995 0.059143\n",
            "5 0.058258      4   0.21293 0.36872 0.055376\n",
            "6 0.026180      5   0.15468 0.32383 0.055802\n",
            "7 0.014990      6   0.12850 0.30474 0.055523\n",
            "8 0.010000      7   0.11351 0.30130 0.064065\n"
          ]
        }
      ]
    },
    {
      "cell_type": "markdown",
      "source": [
        "We can use the `plotcp()` function to visualize the cross-validated error for each level of tree complexity:"
      ],
      "metadata": {
        "id": "HDx6CF2oYp7c"
      }
    },
    {
      "cell_type": "code",
      "source": [
        "%%R\n",
        "plotcp(cart_model,\n",
        "       main = \"Cross-Validation Error vs. Complexity Parameter (cp)\",\n",
        "       col = \"blue\", lwd = 2)"
      ],
      "metadata": {
        "id": "I9AljYfjCU6X",
        "colab": {
          "base_uri": "https://localhost:8080/",
          "height": 497
        },
        "outputId": "3cf29fd6-05bf-4573-8108-99af3098ac34"
      },
      "execution_count": null,
      "outputs": [
        {
          "output_type": "display_data",
          "data": {
            "image/png": "[encoded data removed]"
          },
          "metadata": {}
        }
      ]
    },
    {
      "cell_type": "markdown",
      "source": [
        "#### Prune Tree"
      ],
      "metadata": {
        "id": "_MyVbngpYyZb"
      }
    },
    {
      "cell_type": "code",
      "source": [
        "%%R\n",
        "cptable <- cart_model$cptable\n",
        "opt_cp <- cptable[which.min(cptable[, \"xerror\"]), \"CP\"]\n",
        "pruned_model <- prune(cart_model, cp = opt_cp)\n",
        "cat(\"Optimal CP for Pruning:\", opt_cp, \"\\n\")"
      ],
      "metadata": {
        "colab": {
          "base_uri": "https://localhost:8080/"
        },
        "id": "vR7KEWOJY3pm",
        "outputId": "f6fc7e27-c680-4fa3-9397-373aecc62365"
      },
      "execution_count": null,
      "outputs": [
        {
          "output_type": "stream",
          "name": "stdout",
          "text": [
            "Optimal CP for Pruning: 0.01 \n"
          ]
        }
      ]
    },
    {
      "cell_type": "markdown",
      "source": [
        "#### Plot tree\n",
        "\n",
        "We can use rpart.plot() function to plot the regression tree:"
      ],
      "metadata": {
        "id": "1MFpz_s4Y77u"
      }
    },
    {
      "cell_type": "code",
      "source": [
        "%%R\n",
        "rpart.plot(pruned_model, main = \"Pruned Decision Tree for Boston Housing Dataset\",\n",
        "           extra = 101, # Show predicted values\n",
        "           fallen.leaves = TRUE)"
      ],
      "metadata": {
        "colab": {
          "base_uri": "https://localhost:8080/",
          "height": 497
        },
        "id": "ZWC9JarqY8sm",
        "outputId": "dc10e690-7501-4dbf-d3db-ddd82e71dc17"
      },
      "execution_count": null,
      "outputs": [
        {
          "output_type": "display_data",
          "data": {
            "image/png": "[encoded data removed]"
          },
          "metadata": {}
        }
      ]
    },
    {
      "cell_type": "markdown",
      "source": [
        "#### Prediction"
      ],
      "metadata": {
        "id": "WONpyV_yZCTK"
      }
    },
    {
      "cell_type": "code",
      "source": [
        "%%R\n",
        "predictions <- predict(pruned_model, newdata = test_data)"
      ],
      "metadata": {
        "id": "39mVQOh8ZCeh"
      },
      "execution_count": null,
      "outputs": []
    },
    {
      "cell_type": "code",
      "source": [
        "%%R\n",
        "mse <- mean((predictions - test_data$medv)^2)\n",
        "cat(\"Regression MSE:\", mse, \"\\n\")"
      ],
      "metadata": {
        "colab": {
          "base_uri": "https://localhost:8080/"
        },
        "id": "bHN7FpbgZKUI",
        "outputId": "f97a0dc7-ac10-4290-849a-001fbe49970f"
      },
      "execution_count": null,
      "outputs": [
        {
          "output_type": "stream",
          "name": "stdout",
          "text": [
            "Regression MSE: 21.31963 \n"
          ]
        }
      ]
    },
    {
      "cell_type": "markdown",
      "source": [
        "#### Variable Importance\n",
        "\n",
        "The {rpart} package provides a convenient way to assess the importance of each predictor variable in the model. The importance() function calculates the importance of each variable based on the total decrease in node impurity (Gini Impurity or Entropy) that results from splits involving that variable."
      ],
      "metadata": {
        "id": "Xyx8hc8qZXgM"
      }
    },
    {
      "cell_type": "code",
      "source": [
        "%%R -w 500 -h 450 -u px\n",
        "# Extract variable importance from the pruned model\n",
        "importance <- data.frame(imp = pruned_model$variable.importance)\n",
        "importance.df <- importance %>%\n",
        "  tibble::rownames_to_column() %>%\n",
        "  dplyr::rename(\"variable\" = rowname) %>%\n",
        "  dplyr::arrange(imp) %>%\n",
        "  dplyr::mutate(variable = forcats::fct_inorder(variable))\n",
        "# plot variable importance\n",
        "ggplot2::ggplot(importance.df) +\n",
        "  geom_col(aes(x = variable, y = imp),\n",
        "           col = \"black\", show.legend = F) +\n",
        "  coord_flip() +\n",
        "  scale_fill_grey() +\n",
        "  theme_bw()"
      ],
      "metadata": {
        "colab": {
          "base_uri": "https://localhost:8080/",
          "height": 467
        },
        "id": "NwkatPX0ZYR0",
        "outputId": "1bff0514-4365-41a0-d349-79f709bbc869"
      },
      "execution_count": null,
      "outputs": [
        {
          "output_type": "display_data",
          "data": {
            "image/png": "[encoded data removed]"
          },
          "metadata": {}
        }
      ]
    },
    {
      "cell_type": "code",
      "source": [
        "%%R\n",
        "# define variables\n",
        "    TP <- confusion_matrix[2, 2]\n",
        "    TN <- confusion_matrix[1, 1]\n",
        "    FP <- confusion_matrix[2, 1]\n",
        "    FN <- confusion_matrix[1, 2]\n",
        "\n",
        "    # accuracy\n",
        "    accuracy <- (TP + TN) / sum(confusion_matrix)\n",
        "\n",
        "    # precision\n",
        "    precision <- TP / (TP + FP)\n",
        "\n",
        "    # Recall\n",
        "    recall <- TP / (TP + FN)\n",
        "\n",
        "    # specificity\n",
        "    specificity <- TN / (TN + FP)\n",
        "\n",
        "    # f1_score\n",
        "    f1_score <- 2 * (precision * recall) / (precision + recall)\n",
        "\n",
        "    # Print the results\n",
        "    cat(\"Accuracy:\", accuracy, \"\\n\")\n",
        "    cat(\"Precision:\", precision, \"\\n\")\n",
        "    cat(\"Recall:\", recall, \"\\n\")\n",
        "    cat(\"Specificity:\", specificity, \"\\n\")\n",
        "    cat(\"F1 Score:\", f1_score, \"\\n\")"
      ],
      "metadata": {
        "colab": {
          "base_uri": "https://localhost:8080/"
        },
        "id": "0HEjCe10dbzR",
        "outputId": "699aa47d-b1b8-4879-9f6a-acaa12659a9d"
      },
      "execution_count": null,
      "outputs": [
        {
          "output_type": "stream",
          "name": "stdout",
          "text": [
            "Accuracy: 0.775 \n",
            "Precision: 0.9615385 \n",
            "Recall: 0.7575758 \n",
            "Specificity: 0.8571429 \n",
            "F1 Score: 0.8474576 \n"
          ]
        }
      ]
    },
    {
      "cell_type": "markdown",
      "source": [
        "## Summary and Conclusion\n",
        "\n",
        "Decision Trees are powerful, interpretable models for classification and regression, splitting data based on feature thresholds to create decision rules. They use metrics like Gini Impurity or MSE to guide splits and produce intuitive tree structures. The diagrams above illustrate how trees partition data into regions, making predictions based on leaf node outputs. By understanding the mathematical foundations and visualizing the tree, you can effectively apply Decision Trees to real-world problems.\n",
        "\n",
        "A decision tree is a predictive modeling technique used in machine learning and data mining to represent decisions and their potential outcomes. It has a tree-like structure where internal nodes represent tests on attributes; branches indicate possible outcomes and leaf nodes show the final decision. The main idea is to divide the dataset into smaller subsets based on input feature values until each subset contains only instances of a single class (for classification) or a single predicted value (for regression). This process, called recursive partitioning, involves selecting the best feature to split the data at each node.\n",
        "\n",
        "This tutorial provided a comprehensive overview of Decision Trees, including their mathematical foundations, implementation in R, and practical applications. We explored both classification and regression tasks, demonstrating how to build, visualize, and evaluate Decision Trees using the {rpart} package. The tutorial also highlighted the importance of feature selection and model evaluation metrics. By following the examples and explanations, you should now have a solid understanding of how to apply Decision Trees to your own datasets. Remember to experiment with different parameters and techniques to optimize your models for specific tasks.\n"
      ],
      "metadata": {
        "id": "Nb0kdVIuGlK7"
      }
    },
    {
      "cell_type": "markdown",
      "source": [
        "## References\n",
        "\n",
        "1.  Breiman, L., Friedman, J. H., Olshen, R. A., & Stone, C. J. (1986). Classification and regression trees. Wadsworth and Brooks/Cole Advanced Books & Software.\n",
        "\n",
        "2.  Hastie, T., Tibshirani, R., & Friedman, J. (2009). The elements of statistical learning: data mining, inference, and prediction (Vol. 2). Springer Science & Business Media.\n",
        "\n",
        "3.  James, G., Witten, D., Hastie, T., & Tibshirani, R. (2013). An introduction to statistical learning (Vol. 112). New York: Springer.\n",
        "\n",
        "4.  Quinlan, J. R. (1986). Induction of decision trees. Machine learning, 1(1), 81-106.\n",
        "\n",
        "\n",
        "5.  [Machine Learning in R: Decision Trees](https://www.datacamp.com/tutorial/decision-trees-R)\n",
        "\n",
        "6.  [Decision Tree Essentials in R](http://www.sthda.com/english/articles/35-statistical-machine-learning-essentials/141-decision-tree-essentials/)\n"
      ],
      "metadata": {
        "id": "ACNQyq1seLc7"
      }
    }
  ]
}