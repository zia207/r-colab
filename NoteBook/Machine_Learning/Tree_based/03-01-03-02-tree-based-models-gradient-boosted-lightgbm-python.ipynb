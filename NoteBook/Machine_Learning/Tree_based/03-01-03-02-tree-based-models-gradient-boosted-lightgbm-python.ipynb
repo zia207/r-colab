{
  "nbformat": 4,
  "nbformat_minor": 0,
  "metadata": {
    "colab": {
      "provenance": [],
      "toc_visible": true,
      "authorship_tag": "ABX9TyNUlOszAS6Z3rt0ffNGEMSP",
      "include_colab_link": true
    },
    "kernelspec": {
      "name": "python3",
      "display_name": "Python 3"
    },
    "language_info": {
      "name": "python"
    }
  },
  "cells": [
    {
      "cell_type": "markdown",
      "metadata": {
        "id": "view-in-github",
        "colab_type": "text"
      },
      "source": [
        "<a href=\"https://colab.research.google.com/github/zia207/r-colab/blob/main/NoteBook/Machine_Learning/Tree_based/03-01-03-02-tree-based-models-gradient-boosted-lightgbm-python.ipynb\" target=\"_parent\"><img src=\"https://colab.research.google.com/assets/colab-badge.svg\" alt=\"Open In Colab\"/></a>"
      ]
    },
    {
      "cell_type": "markdown",
      "source": [
        "![alt text](http://drive.google.com/uc?export=view&id=1xLlN9eEG2IYFBlAuwl53aDVxcBkRnkEw\n",
        ")"
      ],
      "metadata": {
        "id": "4qrItz_mJNWw"
      }
    },
    {
      "cell_type": "markdown",
      "source": [
        "# 3.2 Light Gradient Boosting Machine (LightGBM)\n",
        "\n",
        "LightGBM (Light Gradient Boosting Machine) is an open-source gradient boosting framework that is designed to be both efficient and scalable. It is based on the gradient boosting framework and uses a tree-based learning algorithm. This tutorial will guide you through the concepts and implementation of LightGBM, including its advantages, how it works, and how to implement it in Python.\n"
      ],
      "metadata": {
        "id": "Dzp9ZseROTcY"
      }
    },
    {
      "cell_type": "markdown",
      "source": [
        "## Overview\n",
        "\n",
        "Light Gradient Boosting Machine (LightGBM) is a high-performance, distributed, and efficient gradient boosting framework designed for speed and scalability, particularly for large-scale datasets. Developed by Microsoft, it is optimized for tasks like classification, regression, ranking, and other machine learning problems. LightGBM is part of the gradient boosting family, which builds an ensemble of weak learners (typically decision trees) to create a strong predictive model. LightGBM stands out due to its focus on computational efficiency and memory optimization, making it faster and less resource-intensive than other gradient boosting frameworks like XGBoost, especially for large datasets with high-dimensional features.\n"
      ],
      "metadata": {
        "id": "mLkAu88QToVr"
      }
    },
    {
      "cell_type": "markdown",
      "source": [
        "### Key Features of LightGBM\n",
        "\n",
        "- Histogram-based learning for speed and low memory use.\n",
        "- Leaf-wise tree growth for high accuracy.\n",
        "- Native categorical feature support.\n",
        "- Parallel and GPU training.\n",
        "- Sparse data optimization.\n",
        "- Custom loss functions.\n",
        "- Feature importance and early stopping."
      ],
      "metadata": {
        "id": "WL2L7JRduO3P"
      }
    },
    {
      "cell_type": "markdown",
      "source": [
        "### How LightGBM Works\n",
        "\n",
        "LightGBM (Light Gradient Boosting Machine) operates as a gradient boosting framework that builds an ensemble of decision trees iteratively to minimize a loss function. Below is an explanation of each step in the provided flowchart, including relevant equations where applicable.\n",
        "\n",
        "\n",
        "1. Data Preprocessing\n",
        "\n",
        "In the \"Data Preprocessing\" step, the algorithm loads the dataset, handles categorical features, and discretizes continuous features into histograms to optimize computation. This involves transforming feature values $x_j$ for feature $j$ into discrete bins $h_j(x_j)$), where the number of bins $k$ is predefined, reducing memory usage and speeding up subsequent calculations.\n",
        "\n",
        "2. Initialize Model\n",
        "\n",
        "Sets the initial predictions for all instances, typically starting with a constant value that minimizes the loss function. This is expressed as:\n",
        "\n",
        "$$ \\hat{y}_i^{(0)} = \\arg\\min_{\\gamma} \\sum_{i=1}^n L(y_i, \\gamma) $$\n",
        "\n",
        "where $L$ represents the loss function (e.g., mean squared error for regression or log loss for classification), and $y_i$ is the true target value for instance $i$.\n",
        "\n",
        "2. Compute Gradients and Hessians\n",
        "\n",
        "Calculates the first-order (gradient) and second-order (Hessian) derivatives of the loss function with respect to the predictions. These guide the tree-building process.\n",
        "\n",
        "Gradient:\n",
        "\n",
        "$$ g_i^{(t)} = \\frac{\\partial L(y_i, \\hat{y}_i^{(t-1)})}{\\partial \\hat{y}_i^{(t-1)}} $$\n",
        "Hessain:\n",
        "\n",
        "$$  h_i^{(t)} = \\frac{\\partial^2 L(y_i, \\hat{y}_i^{(t-1)})}{\\partial (\\hat{y}_i^{(t-1)})^2} $$\n",
        "\n",
        "These are computed for each instance $i$ at iteration $t$.\n",
        "\n",
        "3. Apply GOSS (Gradient-based One-Side Sampling)\n",
        "\n",
        "This step reduces the dataset size by sampling instances based on their gradient magnitudes, prioritizing those with larger gradients to focus on hard examples. The sampling probability is proportional to $p_i \\propto |g_i|$, allowing the algorithm to use a subset of instances for constructing the next tree, thus improving efficiency.\n",
        "\n",
        "::: callout-note\n",
        "Gradient-based One-Side Sampling\" (GOSS):\n",
        "\n",
        "Gradient-based One-Side Sampling (GOSS) is a data subsampling method used in LightGBM. GOSS is designed to speed up the training process of gradient boosting algorithms while maintaining or improving the model's accuracy.GOSS works by first sorting the training instances according to their gradients. The instances with larger gradients are considered more important for the model, as they provide more information about the loss function\n",
        ":::\n",
        "\n",
        "\n",
        "4. Apply EFB (Exclusive Feature Bundling)\n",
        "\n",
        "During the \"Apply EFB (Exclusive Feature Bundling)\" step, the algorithm groups mutually exclusive features into bundles to reduce dimensionality while minimizing information loss, which is particularly useful for sparse datasets. This involves combining features with no overlapping non-zero values into a single histogram, optimizing the feature space without significant loss of predictive power.\n",
        "\n",
        "5. Build Decision Tree (Histogram-based, Leaf-wise growth)\n",
        "\n",
        "The \"Build Decision Tree (Histogram-based, Leaf-wise growth)\" step constructs a decision tree using histogram-based splitting and selects the leaf with the maximum loss reduction for splitting, known as leaf-wise growth.\n",
        "\n",
        "The optimal output for a leaf $q$ is  defined as:\n",
        "\n",
        "$$\\gamma_q = -\\frac{G_q}{H_q + \\lambda}$$\n",
        "where $G_q = \\sum_{i \\in q} g_i$ is the sum of gradients, $H_q = \\sum_{i \\in q} h_i$ is the sum of Hessians, and $\\lambda$ is a regularization parameter. The gain (loss reduction) from a split is calculated as:\n",
        "\n",
        "$$ \\text{Gain} = \\frac{1}{2} \\left[ \\frac{G_L^2}{H_L + \\lambda} + \\frac{G_R^2}{H_R + \\lambda} - \\frac{G_q^2}{H_q + \\lambda} \\right] - \\gamma $$\n",
        "\n",
        "where $L$ and $R$ denote the left and right child nodes.\n",
        "\n",
        "6. Update Model Predictions\n",
        "\n",
        "The algorithm incorporates the new tree's contribution into the existing predictions, refining the model iteratively. This is done using the following equation:\n",
        "\n",
        "$$ \\hat{y}_i^{(t)} = \\hat{y}_i^{(t-1)} + \\eta \\cdot \\text{tree}_t(x_i) $$\n",
        "where $\\eta$ is the learning rate and $\\text{tree}_t(x_i)$ is the prediction from the new tree for instance $i$ at iteration $t$.\n",
        "\n",
        "::: callout-note\n",
        "Leaf-wise Growth:\n",
        "\n",
        "\"Leaf-wise\" growth strategy is a tree building algorithm used in gradient boosting algorithms such as LightGBM. In this strategy, the tree is grown leaf-wise, meaning that it starts by growing the tree with a single root node, and then at each step, it selects the leaf node that yields the largest reduction in the loss function, and splits it into two child nodes\n",
        ":::\n",
        "\n",
        "7. Check Stopping Criteria\n",
        "\n",
        "This step evaluates whether to continue training by checking if the maximum number of trees is reached or if convergence is achieved. This is determined by conditions such as $t \\geq \\text{max_trees}$ or $\\Delta L < \\epsilon$, where $\\Delta L$ is the change in loss and $\\epsilon$ is a small threshold, halting the process when no significant improvement is observed.\n",
        "\n",
        "8. Output Final Model\n",
        "\n",
        "Finally, the \"Output Final Model\" step combines all the trained trees to produce the final predictive model, which is the sum of contributions from each tree. The final prediction for an instance $i$ is given by:\n",
        "\n",
        "$$ \\hat{y}_i = \\sum_{t=1}^T \\eta \\cdot \\text{tree}_t(x_i)  $$\n",
        "\n",
        "where $T$ is the total number of trees, providing the complete model for inference."
      ],
      "metadata": {
        "id": "UXUhbmJVU64j"
      }
    },
    {
      "cell_type": "markdown",
      "source": [
        "Here below is a flowchart illustrating the lightGBM workflow:\n",
        "\n",
        "\n",
        "![alt text](http://drive.google.com/uc?export=view&id=197dEVzOVTfItn4SMIM-1i-bQc-QVRPNb)\n",
        "\n",
        "\n",
        "\n",
        "\n",
        "\n",
        "\n"
      ],
      "metadata": {
        "id": "uWCTcHkzvHE2"
      }
    },
    {
      "cell_type": "markdown",
      "source": [
        "### Advantages of LightGBM\n",
        "\n",
        "It is designed to be distributed and efficient with the following advantages:\n",
        "\n",
        "-   Faster training speed and higher efficiency.\n",
        "\n",
        "-   Lower memory usage.\n",
        "\n",
        "-   Better accuracy.\n",
        "\n",
        "-   Support of parallel, distributed, and GPU learning.\n",
        "\n",
        "-   Capable of handling large-scale data."
      ],
      "metadata": {
        "id": "NuhrbXQxGIIy"
      }
    },
    {
      "cell_type": "markdown",
      "source": [
        "### Limitations of LightGBM\n",
        "\n",
        "- Leaf-wise tree growth can lead to overfitting, especially with small datasets or insufficient regularization, as it aggressively splits nodes with the highest loss reduction.\n",
        "- Histogram-based learning may reduce precision for datasets with highly skewed or sparse features, potentially losing fine-grained information.\n",
        "- Requires careful tuning of hyperparameters (e.g., learning rate, max depth, and number of leaves) to achieve optimal performance, which can be time-consuming.\n",
        "- May struggle with extremely noisy data or datasets with a very high number of categorical features, where feature bundling might oversimplify relationships.\n",
        "- Parallel and GPU support, while advantageous, can be resource-intensive and may not always scale well on very small datasets or underconstrained hardware."
      ],
      "metadata": {
        "id": "70UMhkxtGPsU"
      }
    },
    {
      "cell_type": "markdown",
      "source": [
        "### Key Hyperparameters of LightGBM\n",
        "\n",
        "The key hyperparameters of LightGBM that significantly influence its performance include:\n",
        "\n",
        "- `learning_rate`: Controls the step size for each iteration, typically set between 0.01 and 0.1, where a smaller value (e.g.,  $\\eta$) slows learning but may improve generalization.\n",
        "- `num_leaves`: Determines the maximum number of leaves in one tree, with higher values (e.g., 31 or 127) increasing model complexity and risk of overfitting.\n",
        "- `max_depth`: Limits the maximum depth of each tree, preventing overfitting by capping growth (e.g., 5-10 is common).\n",
        "- `min_data_in_leaf`: Sets the minimum number of data points in a leaf, helping to avoid overfitting (e.g., 20-100 depending on dataset size).\n",
        "- `feature_fraction`: Specifies the fraction of features to consider per tree (e.g., 0.8), introducing randomness to reduce overfitting.\n",
        "- `bagging_fraction`: Defines the fraction of data to sample for each iteration (e.g., 0.9), aiding in reducing variance.\n",
        "- `lambda_l1` and `lambda_l2`: Regularization parameters (L1 and L2) to penalize large weights, controlling model complexity (e.g., 0 to 1).\n",
        "- `min_gain_to_split`: Sets the minimum gain required to split a leaf, preventing unnecessary splits (e.g., 0.01).\n",
        "- `num_iterations`: Defines the total number of boosting iterations or trees to build (e.g., 100-1000), affecting training time and accuracy."
      ],
      "metadata": {
        "id": "EEG0JrW9GQRV"
      }
    },
    {
      "cell_type": "markdown",
      "source": [
        "### Comparison of GBM and LightGBM\n",
        "\n",
        "\n",
        "| **Aspect**              | **GBM (Gradient Boosting Machine)**         | **LightGBM**                              |\n",
        "|--------------------------|---------------------------------------------|-------------------------------------------|\n",
        "| `Speed and Efficiency` | Slower, less memory-efficient due to level-wise growth | Faster and memory-efficient with histogram-based learning |\n",
        "| `Tree Growth Strategy` | Level-wise, grows trees layer by layer      | Leaf-wise, splits leaf with max loss reduction |\n",
        "| `Scalability`          | Struggles with large datasets, sequential   | Optimized for large datasets, supports parallel/GPU training |\n",
        "| `Feature Handling`     | Requires preprocessed categorical features  | Natively supports categorical features    |\n",
        "| `Sampling Techniques`  | Lacks advanced sampling methods             | Uses GOSS and EFB for data/feature reduction |\n",
        "| `Overfitting Control`  | More robust due to level-wise approach      | Requires tuning (e.g., min_data_in_leaf) to prevent overfitting |\n"
      ],
      "metadata": {
        "id": "a6b4S4mWSAyQ"
      }
    },
    {
      "cell_type": "markdown",
      "source": [
        "## Light GBM Implementation from Scratch in Python\n",
        "\n",
        "Implementing LightGBM from scratch in Python for classification and regression without using any external packages involves creating a simplified version of its core concepts, such as gradient boosting with histogram-based learning and leaf-wise tree growth. Below is a basic implementation focusing on the key steps: initializing a model, computing gradients and Hessians, building decision trees iteratively, and updating predictions. This example uses a simple dataset and avoids advanced features like GOSS or EFB for simplicity."
      ],
      "metadata": {
        "id": "ztl1QBDb4MYe"
      }
    },
    {
      "cell_type": "markdown",
      "source": [
        "### Generate Synthetic Data\n",
        "\n",
        "\n",
        "\n",
        "\n"
      ],
      "metadata": {
        "id": "lP2lCzFHBUip"
      }
    },
    {
      "cell_type": "code",
      "metadata": {
        "id": "c-0ADnNdjwz5"
      },
      "source": [
        "# Generate synthetic data\n",
        "import numpy as np\n",
        "np.random.seed(123)\n",
        "n = 100\n",
        "\n",
        "# Regression data\n",
        "X_reg = np.random.rand(n, 2)  # 2 features\n",
        "y_reg = 2 * X_reg[:, 0] + 3 * X_reg[:, 1] + np.random.randn(n)  # Linear target with noise\n",
        "\n",
        "# Classification data (binary)\n",
        "X_class = np.random.rand(n, 2)\n",
        "y_class = (2 * X_class[:, 0] + 3 * X_class[:, 1] + np.random.randn(n) > 0).astype(int)  # Binary target"
      ],
      "execution_count": 1,
      "outputs": []
    },
    {
      "cell_type": "markdown",
      "source": [
        "### LightGBM Implementation\n",
        "\n",
        "- Parameters: `n_trees` = 10, `learning_rate` = 0.1, `max_depth` = 3, `min_data_in_leaf` = 5.\n",
        "\n",
        "- `build_tree` recursively builds a tree, returns $\\text{mean(grad)} / (\\text{mean(hess)} + 1e-10$ if `depth` = 0 or `grad` ≤ `min_data`.\n",
        "\n",
        "- Splits on first feature's median threshold, checks `min_data` in splits, recursively builds left/right subtrees, returns list with values, threshold, and feature.\n",
        "\n",
        "- `update_prediction` returns `tree * learning_rate` for numeric leaves, else compares $ x[\\text{tree$feature}] $ with `tree$threshold`, recursively calls `tree$left` or `tree$right`.\n"
      ],
      "metadata": {
        "id": "fwIhiSZNCO9N"
      }
    },
    {
      "cell_type": "code",
      "source": [
        "# Parameters\n",
        "n_trees = 10\n",
        "learning_rate = 0.1\n",
        "max_depth = 3\n",
        "min_data_in_leaf = 5\n",
        "\n",
        "# Function to build a simple decision tree\n",
        "def build_tree(X, grad, hess, depth, min_data):\n",
        "    if depth == 0 or len(grad) <= min_data:\n",
        "        return np.mean(grad) / (np.mean(hess) + 1e-10)  # Leaf value\n",
        "\n",
        "    feature_idx = 0 # Use the first feature\n",
        "    threshold = np.median(X[:, feature_idx])\n",
        "    left_idx = np.where(X[:, feature_idx] <= threshold)[0]\n",
        "    right_idx = np.where(X[:, feature_idx] > threshold)[0]\n",
        "\n",
        "    if len(left_idx) < min_data or len(right_idx) < min_data:\n",
        "        return np.mean(grad) / (np.mean(hess) + 1e-10)\n",
        "\n",
        "    left_value = build_tree(X[left_idx, :], grad[left_idx], hess[left_idx], depth - 1, min_data)\n",
        "    right_value = build_tree(X[right_idx, :], grad[right_idx], hess[right_idx], depth - 1, min_data)\n",
        "\n",
        "    return {'left': left_value, 'right': right_value, 'threshold': threshold, 'feature': feature_idx}\n",
        "\n",
        "# Function to update predictions\n",
        "def update_prediction(x, tree):\n",
        "    if isinstance(tree, (int, float)):\n",
        "        return tree * learning_rate\n",
        "    if x[tree['feature']] <= tree['threshold']:\n",
        "        return update_prediction(x, tree['left'])\n",
        "    else:\n",
        "        return update_prediction(x, tree['right'])"
      ],
      "metadata": {
        "id": "vYPiX59GCiTY"
      },
      "execution_count": 2,
      "outputs": []
    },
    {
      "cell_type": "markdown",
      "source": [
        "#### Regression and Classification Implementation"
      ],
      "metadata": {
        "id": "8aFvX9PX6t7N"
      }
    },
    {
      "cell_type": "code",
      "source": [
        "# Regression Implementation\n",
        "predictions_reg = np.full(n, np.mean(y_reg))\n",
        "for t in range(n_trees):\n",
        "  gradients = y_reg - predictions_reg  # Gradient for squared error\n",
        "  hessians = np.ones(n)  # Hessian for squared error\n",
        "  tree = build_tree(X_reg, gradients, hessians, max_depth, min_data_in_leaf)\n",
        "  for i in range(n):\n",
        "    predictions_reg[i] = predictions_reg[i] + update_prediction(X_reg[i, :], tree)\n",
        "\n",
        "\n",
        "# Classification Implementation\n",
        "predictions_class = np.zeros(n)  # Initial log-odds (can start at 0)\n",
        "for t in range(n_trees):\n",
        "  # Logistic loss gradient and Hessian\n",
        "  p = 1 / (1 + np.exp(-predictions_class))  # Sigmoid\n",
        "  gradients = p - y_class  # Gradient for log loss\n",
        "  hessians = p * (1 - p)  # Hessian for log loss\n",
        "  tree = build_tree(X_class, gradients, hessians, max_depth, min_data_in_leaf)\n",
        "  for i in range(n):\n",
        "    predictions_class[i] = predictions_class[i] + update_prediction(X_class[i, :], tree)\n",
        "\n",
        "\n",
        "# Output results\n",
        "print(\"Regression Predictions:\")\n",
        "print(predictions_reg[:6])\n",
        "print(\"\\nClassification Predictions (Log-Odds):\")\n",
        "print(predictions_class[:6])\n",
        "print(\"\\nClassification Probabilities:\")\n",
        "print(1 / (1 + np.exp(-predictions_class[:6])))  # Convert to probabilities"
      ],
      "metadata": {
        "colab": {
          "base_uri": "https://localhost:8080/"
        },
        "id": "foG5zY1Kcbe9",
        "outputId": "0ffc6830-28c5-43b3-9b94-6aa09d4267b8"
      },
      "execution_count": 3,
      "outputs": [
        {
          "output_type": "stream",
          "name": "stdout",
          "text": [
            "Regression Predictions:\n",
            "[3.25790473 1.90707431 2.50924032 3.21484025 2.13464193 2.25205466]\n",
            "\n",
            "Classification Predictions (Log-Odds):\n",
            "[-701.96409818 -701.96409818   -8.47748064 -701.96409818   -3.36424629\n",
            " -701.96409818]\n",
            "\n",
            "Classification Probabilities:\n",
            "[1.38313849e-305 1.38313849e-305 2.08059031e-004 1.38313849e-305\n",
            " 3.34317364e-002 1.38313849e-305]\n"
          ]
        }
      ]
    },
    {
      "cell_type": "markdown",
      "source": [
        "####  Prediction Evaluation\n",
        "\n"
      ],
      "metadata": {
        "id": "VPJv1wf3xLmp"
      }
    },
    {
      "cell_type": "code",
      "source": [
        "from sklearn.metrics import mean_squared_error, mean_absolute_error, accuracy_score, log_loss\n",
        "\n",
        "# Regression Metrics\n",
        "mse = mean_squared_error(y_reg, predictions_reg)\n",
        "rmse = np.sqrt(mse)\n",
        "mae = mean_absolute_error(y_reg, predictions_reg)\n",
        "\n",
        "# Classification Metrics\n",
        "pred_prob = 1 / (1 + np.exp(-predictions_class))  # Convert log-odds to probabilities\n",
        "predicted_class = (pred_prob >= 0.5).astype(int)  # Threshold at 0.5\n",
        "accuracy = accuracy_score(y_class, predicted_class)\n",
        "\n",
        "# Log Loss\n",
        "logloss = log_loss(y_class, pred_prob)\n",
        "\n",
        "\n",
        "# Print Results\n",
        "print(\"Regression Evaluation:\")\n",
        "print(f\"MSE: {mse:.4f}\")\n",
        "print(f\"RMSE: {rmse:.4f}\")\n",
        "print(f\"MAE: {mae:.4f}\")\n",
        "print(\"\\nClassification Evaluation:\")\n",
        "print(f\"Accuracy: {accuracy:.4f}\")\n",
        "print(f\"Log Loss: {logloss:.4f}\")"
      ],
      "metadata": {
        "id": "aSuBBDLKDHML",
        "colab": {
          "base_uri": "https://localhost:8080/"
        },
        "outputId": "87b0f813-2109-4a2c-a748-fa1493df2c1a"
      },
      "execution_count": 4,
      "outputs": [
        {
          "output_type": "stream",
          "name": "stdout",
          "text": [
            "Regression Evaluation:\n",
            "MSE: 1.4251\n",
            "RMSE: 1.1938\n",
            "MAE: 0.9726\n",
            "\n",
            "Classification Evaluation:\n",
            "Accuracy: 0.0500\n",
            "Log Loss: 24.3926\n"
          ]
        }
      ]
    },
    {
      "cell_type": "markdown",
      "source": [
        "## Light Gradient Boosting Machine (lightGBM) in Python\n",
        "\n",
        "LightGBM (Light Gradient Boosting Machine) is a high-performance, open-source gradient boosting framework designed for speed, efficiency, and scalability in machine learning tasks. Built by Microsoft, it is particularly suited for large datasets and supports tasks like classification, regression, and ranking. Its optimized algorithms and support for parallel and GPU computing make it a popular choice for data scientists.\n",
        "\n",
        "**Key Features of LightGBM**\n",
        "\n",
        "1. **High Performance**: Uses histogram-based algorithms and leaf-wise tree growth for faster training and lower memory usage.\n",
        "2. **Scalability**: Handles large datasets and high-dimensional data efficiently with support for distributed and GPU training.\n",
        "3. **Native Categorical Feature Support**: Directly processes categorical features without one-hot encoding, improving speed and memory usage.\n",
        "4. **Flexible Objectives**: Supports various tasks, including binary/multiclass classification, regression, ranking, and custom loss functions.\n",
        "5. **Scikit-learn Compatibility**: Offers a scikit-learn API (`LGBMClassifier`, `LGBMRegressor`) for seamless integration with existing workflows.\n",
        "6. **Early Stopping**: Stops training when validation performance plateaus, saving time and preventing overfitting.\n",
        "7. **Feature Importance**: Provides tools to analyze feature contributions, aiding model interpretation.\n",
        "8. **Cross-Platform**: Available on Windows, Linux, and macOS, with easy installation via pip (`pip install lightgbm`).\n",
        "\n"
      ],
      "metadata": {
        "id": "n5Z1SpIUbgLy"
      }
    },
    {
      "cell_type": "code",
      "source": [
        "!pip install lightgbm"
      ],
      "metadata": {
        "colab": {
          "base_uri": "https://localhost:8080/"
        },
        "id": "OyRJYR1ztf8E",
        "outputId": "2287302e-781a-4e9d-aa31-929227e2c770"
      },
      "execution_count": null,
      "outputs": [
        {
          "output_type": "stream",
          "name": "stdout",
          "text": [
            "Requirement already satisfied: lightgbm in /usr/local/lib/python3.11/dist-packages (4.6.0)\n",
            "Requirement already satisfied: numpy>=1.17.0 in /usr/local/lib/python3.11/dist-packages (from lightgbm) (2.0.2)\n",
            "Requirement already satisfied: scipy in /usr/local/lib/python3.11/dist-packages (from lightgbm) (1.16.0)\n"
          ]
        }
      ]
    },
    {
      "cell_type": "code",
      "source": [
        "import lightgbm as lgb\n",
        "import pandas as pd\n",
        "import numpy as np\n",
        "from sklearn.ensemble import GradientBoostingRegressor\n",
        "from sklearn.model_selection import train_test_split, GridSearchCV\n",
        "from sklearn.preprocessing import StandardScaler\n",
        "from sklearn.metrics import mean_squared_error, r2_score\n",
        "import matplotlib.pyplot as plt\n",
        "import seaborn as sns\n",
        "from sklearn.datasets import fetch_california_housing\n",
        "import warnings\n",
        "warnings.filterwarnings('ignore')"
      ],
      "metadata": {
        "id": "kVZ4u6bluF8Z"
      },
      "execution_count": 5,
      "outputs": []
    },
    {
      "cell_type": "markdown",
      "source": [
        "### Regression with LightGBM"
      ],
      "metadata": {
        "id": "QabVFLr5jgrD"
      }
    },
    {
      "cell_type": "markdown",
      "source": [
        "#### Data and Data Preparation\n",
        "\n"
      ],
      "metadata": {
        "id": "rSJqB05rO5ES"
      }
    },
    {
      "cell_type": "code",
      "execution_count": 6,
      "metadata": {
        "id": "CFpt_H01OPsa",
        "colab": {
          "base_uri": "https://localhost:8080/"
        },
        "outputId": "f0d16486-351d-410b-9398-b31a9f43d59e"
      },
      "outputs": [
        {
          "output_type": "stream",
          "name": "stdout",
          "text": [
            "   MedInc  HouseAge  AveRooms  AveBedrms  Population  AveOccup  Latitude  \\\n",
            "0  8.3252      41.0  6.984127   1.023810       322.0  2.555556     37.88   \n",
            "1  8.3014      21.0  6.238137   0.971880      2401.0  2.109842     37.86   \n",
            "2  7.2574      52.0  8.288136   1.073446       496.0  2.802260     37.85   \n",
            "3  5.6431      52.0  5.817352   1.073059       558.0  2.547945     37.85   \n",
            "4  3.8462      52.0  6.281853   1.081081       565.0  2.181467     37.85   \n",
            "\n",
            "   Longitude  MedHouseVal  \n",
            "0    -122.23        4.526  \n",
            "1    -122.22        3.585  \n",
            "2    -122.24        3.521  \n",
            "3    -122.25        3.413  \n",
            "4    -122.25        3.422  \n",
            "MedInc         float64\n",
            "HouseAge       float64\n",
            "AveRooms       float64\n",
            "AveBedrms      float64\n",
            "Population     float64\n",
            "AveOccup       float64\n",
            "Latitude       float64\n",
            "Longitude      float64\n",
            "MedHouseVal    float64\n",
            "dtype: object\n"
          ]
        }
      ],
      "source": [
        "# Load California Housing data\n",
        "from sklearn.datasets import fetch_california_housing\n",
        "from sklearn.model_selection import train_test_split\n",
        "from sklearn.preprocessing import StandardScaler\n",
        "import pandas as pd\n",
        "import numpy as np\n",
        "\n",
        "housing = fetch_california_housing()\n",
        "X = pd.DataFrame(housing.data, columns=housing.feature_names)\n",
        "y = pd.Series(housing.target, name='MedHouseVal')\n",
        "\n",
        "# Combine features and target for easier splitting and scaling\n",
        "df = X.copy()\n",
        "df['MedHouseVal'] = y\n",
        "\n",
        "# Set random seed for reproducibility\n",
        "np.random.seed(123)\n",
        "\n",
        "# Display data summary\n",
        "print(df.head())\n",
        "print(df.dtypes)\n",
        "\n",
        "# Split data into training (70%) and test (30%) sets\n",
        "X_train, X_test, y_train, y_test = train_test_split(X, y, test_size=0.30, random_state=101)\n",
        "\n",
        "# Feature scaling (only apply to features)\n",
        "scaler = StandardScaler()\n",
        "X_train_scaled = scaler.fit_transform(X_train)\n",
        "X_test_scaled = scaler.transform(X_test)\n",
        "\n",
        "# Convert scaled arrays back to DataFrames with original column names\n",
        "X_train_scaled = pd.DataFrame(X_train_scaled, columns=X_train.columns)\n",
        "X_test_scaled = pd.DataFrame(X_test_scaled, columns=X_test.columns)"
      ]
    },
    {
      "cell_type": "markdown",
      "source": [
        "\n",
        "#### Load the train and test data into the LightGBM dataset object"
      ],
      "metadata": {
        "id": "UPiv_OTsmKB1"
      }
    },
    {
      "cell_type": "code",
      "source": [
        "import lightgbm as lgb\n",
        "\n",
        "# Load train and test data into LightGBM dataset object\n",
        "train_lgb = lgb.Dataset(data = X_train_scaled, label = y_train)\n",
        "test_lgb = lgb.Dataset(data = X_test_scaled, label = y_test, reference=train_lgb)"
      ],
      "metadata": {
        "id": "nmHkqU4kmNWI"
      },
      "execution_count": 7,
      "outputs": []
    },
    {
      "cell_type": "markdown",
      "source": [
        "#### Fit lightGBM model\n",
        "\n",
        "Next, we'll fit the light model by using the `lgb.train()` function, which displays the training and testing RMSE (root mean squared error) for each round of boosting\n"
      ],
      "metadata": {
        "id": "k6EFndFdP5qq"
      }
    },
    {
      "cell_type": "code",
      "source": [
        "# Define parameters\n",
        "params = {\n",
        "    \"objective\": \"regression\",\n",
        "    \"metric\": \"l2\",\n",
        "    \"min_data_in_leaf\": 1,\n",
        "    \"learning_rate\": 0.05,\n",
        "    \"num_threads\": 2,\n",
        "}\n",
        "\n",
        "# fit lightgbm model\n",
        "lightgbm_model = lgb.train(\n",
        "  params,\n",
        "  train_lgb,\n",
        "  num_boost_round = 100,\n",
        "  valid_sets = [test_lgb],\n",
        "  callbacks=[lgb.early_stopping(stopping_rounds=3, verbose=True), lgb.log_evaluation(period=1)]  # Use callback for early stopping and enable logging to monitor training\n",
        ")\n"
      ],
      "metadata": {
        "colab": {
          "base_uri": "https://localhost:8080/"
        },
        "id": "p7fPSLSxsZie",
        "outputId": "c5540c9d-877c-48ee-cec4-cee8c970693a"
      },
      "execution_count": 8,
      "outputs": [
        {
          "output_type": "stream",
          "name": "stdout",
          "text": [
            "[LightGBM] [Info] Auto-choosing col-wise multi-threading, the overhead of testing was 0.001339 seconds.\n",
            "You can set `force_col_wise=true` to remove the overhead.\n",
            "[LightGBM] [Info] Total Bins 1837\n",
            "[LightGBM] [Info] Number of data points in the train set: 14448, number of used features: 8\n",
            "[LightGBM] [Info] Start training from score 2.065100\n",
            "[1]\tvalid_0's l2: 1.2698\n",
            "Training until validation scores don't improve for 3 rounds\n",
            "[2]\tvalid_0's l2: 1.1945\n",
            "[3]\tvalid_0's l2: 1.12652\n",
            "[4]\tvalid_0's l2: 1.06446\n",
            "[5]\tvalid_0's l2: 1.00464\n",
            "[6]\tvalid_0's l2: 0.953131\n",
            "[7]\tvalid_0's l2: 0.903817\n",
            "[8]\tvalid_0's l2: 0.861045\n",
            "[9]\tvalid_0's l2: 0.819553\n",
            "[10]\tvalid_0's l2: 0.779968\n",
            "[11]\tvalid_0's l2: 0.744464\n",
            "[12]\tvalid_0's l2: 0.711487\n",
            "[13]\tvalid_0's l2: 0.682288\n",
            "[14]\tvalid_0's l2: 0.65472\n",
            "[15]\tvalid_0's l2: 0.629638\n",
            "[16]\tvalid_0's l2: 0.606408\n",
            "[17]\tvalid_0's l2: 0.584602\n",
            "[18]\tvalid_0's l2: 0.565172\n",
            "[19]\tvalid_0's l2: 0.548545\n",
            "[20]\tvalid_0's l2: 0.532135\n",
            "[21]\tvalid_0's l2: 0.517402\n",
            "[22]\tvalid_0's l2: 0.50183\n",
            "[23]\tvalid_0's l2: 0.489075\n",
            "[24]\tvalid_0's l2: 0.47632\n",
            "[25]\tvalid_0's l2: 0.465265\n",
            "[26]\tvalid_0's l2: 0.4546\n",
            "[27]\tvalid_0's l2: 0.44413\n",
            "[28]\tvalid_0's l2: 0.435676\n",
            "[29]\tvalid_0's l2: 0.427769\n",
            "[30]\tvalid_0's l2: 0.419231\n",
            "[31]\tvalid_0's l2: 0.41261\n",
            "[32]\tvalid_0's l2: 0.405771\n",
            "[33]\tvalid_0's l2: 0.39959\n",
            "[34]\tvalid_0's l2: 0.393286\n",
            "[35]\tvalid_0's l2: 0.388123\n",
            "[36]\tvalid_0's l2: 0.382259\n",
            "[37]\tvalid_0's l2: 0.377574\n",
            "[38]\tvalid_0's l2: 0.37272\n",
            "[39]\tvalid_0's l2: 0.366794\n",
            "[40]\tvalid_0's l2: 0.363155\n",
            "[41]\tvalid_0's l2: 0.359044\n",
            "[42]\tvalid_0's l2: 0.35462\n",
            "[43]\tvalid_0's l2: 0.350397\n",
            "[44]\tvalid_0's l2: 0.345579\n",
            "[45]\tvalid_0's l2: 0.34257\n",
            "[46]\tvalid_0's l2: 0.339954\n",
            "[47]\tvalid_0's l2: 0.33713\n",
            "[48]\tvalid_0's l2: 0.333522\n",
            "[49]\tvalid_0's l2: 0.331147\n",
            "[50]\tvalid_0's l2: 0.329067\n",
            "[51]\tvalid_0's l2: 0.32527\n",
            "[52]\tvalid_0's l2: 0.32195\n",
            "[53]\tvalid_0's l2: 0.318609\n",
            "[54]\tvalid_0's l2: 0.315973\n",
            "[55]\tvalid_0's l2: 0.312519\n",
            "[56]\tvalid_0's l2: 0.309981\n",
            "[57]\tvalid_0's l2: 0.307817\n",
            "[58]\tvalid_0's l2: 0.305385\n",
            "[59]\tvalid_0's l2: 0.303707\n",
            "[60]\tvalid_0's l2: 0.301453\n",
            "[61]\tvalid_0's l2: 0.299712\n",
            "[62]\tvalid_0's l2: 0.297705\n",
            "[63]\tvalid_0's l2: 0.295407\n",
            "[64]\tvalid_0's l2: 0.293344\n",
            "[65]\tvalid_0's l2: 0.29236\n",
            "[66]\tvalid_0's l2: 0.290794\n",
            "[67]\tvalid_0's l2: 0.289781\n",
            "[68]\tvalid_0's l2: 0.288276\n",
            "[69]\tvalid_0's l2: 0.286508\n",
            "[70]\tvalid_0's l2: 0.285271\n",
            "[71]\tvalid_0's l2: 0.284257\n",
            "[72]\tvalid_0's l2: 0.283662\n",
            "[73]\tvalid_0's l2: 0.282776\n",
            "[74]\tvalid_0's l2: 0.281767\n",
            "[75]\tvalid_0's l2: 0.281248\n",
            "[76]\tvalid_0's l2: 0.279703\n",
            "[77]\tvalid_0's l2: 0.278834\n",
            "[78]\tvalid_0's l2: 0.278143\n",
            "[79]\tvalid_0's l2: 0.277381\n",
            "[80]\tvalid_0's l2: 0.276616\n",
            "[81]\tvalid_0's l2: 0.275826\n",
            "[82]\tvalid_0's l2: 0.275046\n",
            "[83]\tvalid_0's l2: 0.274262\n",
            "[84]\tvalid_0's l2: 0.273671\n",
            "[85]\tvalid_0's l2: 0.272742\n",
            "[86]\tvalid_0's l2: 0.271996\n",
            "[87]\tvalid_0's l2: 0.27162\n",
            "[88]\tvalid_0's l2: 0.27099\n",
            "[89]\tvalid_0's l2: 0.27021\n",
            "[90]\tvalid_0's l2: 0.269908\n",
            "[91]\tvalid_0's l2: 0.269503\n",
            "[92]\tvalid_0's l2: 0.26845\n",
            "[93]\tvalid_0's l2: 0.268001\n",
            "[94]\tvalid_0's l2: 0.267506\n",
            "[95]\tvalid_0's l2: 0.266887\n",
            "[96]\tvalid_0's l2: 0.266786\n",
            "[97]\tvalid_0's l2: 0.265933\n",
            "[98]\tvalid_0's l2: 0.265653\n",
            "[99]\tvalid_0's l2: 0.265159\n",
            "[100]\tvalid_0's l2: 0.26459\n",
            "Did not meet early stopping. Best iteration is:\n",
            "[100]\tvalid_0's l2: 0.26459\n"
          ]
        }
      ]
    },
    {
      "cell_type": "code",
      "source": [
        "print(lightgbm_model.params)"
      ],
      "metadata": {
        "colab": {
          "base_uri": "https://localhost:8080/"
        },
        "id": "MyjnaLHUP946",
        "outputId": "a80d4103-2b5a-4e6c-df59-e9d5b9263d7b"
      },
      "execution_count": 11,
      "outputs": [
        {
          "output_type": "stream",
          "name": "stdout",
          "text": [
            "{'objective': 'regression', 'metric': 'l2', 'min_data_in_leaf': 1, 'learning_rate': 0.05, 'num_threads': 2, 'num_iterations': 100}\n"
          ]
        }
      ]
    },
    {
      "cell_type": "markdown",
      "source": [
        "#### Predict and Evaluate Initial Model"
      ],
      "metadata": {
        "id": "ioqlVpARP_pN"
      }
    },
    {
      "cell_type": "code",
      "source": [
        "# Prediction and Evaluation\n",
        "yhat_fit_train = lightgbm_model.predict(X_train_scaled)\n",
        "yhat_predict_test = lightgbm_model.predict(X_test_scaled)\n",
        "\n",
        "# Define RMSE function\n",
        "def RMSE(actual, predicted):\n",
        "  return np.sqrt(mean_squared_error(actual, predicted))\n",
        "\n",
        "rmse_train = RMSE(y_train, yhat_fit_train)\n",
        "rmse_test = RMSE(y_test, yhat_predict_test)\n",
        "print(\"Training RMSE:\", rmse_train)\n",
        "print(\"Test RMSE:\", rmse_test)"
      ],
      "metadata": {
        "colab": {
          "base_uri": "https://localhost:8080/"
        },
        "id": "uwTfSah-QYwz",
        "outputId": "be25c7cc-2916-4090-e1a6-83f2326041da"
      },
      "execution_count": 12,
      "outputs": [
        {
          "output_type": "stream",
          "name": "stdout",
          "text": [
            "Training RMSE: 0.4301483551120543\n",
            "Test RMSE: 0.514383011220109\n"
          ]
        }
      ]
    },
    {
      "cell_type": "markdown",
      "source": [
        "#### Hyperparameter Tuning for the Best Parameters\n",
        "\n",
        "To find the best parameters for the LightGBM model using cross-validation (CV) and grid search, I'll implement a grid search over key hyperparameters (`num_leaves`, `learning_rate`, `max_depth`, m`in_data_in_leaf`) with 5-fold cross-validation to optimize the RMSE metric.\n"
      ],
      "metadata": {
        "id": "GqOYNF6YnQMo"
      }
    },
    {
      "cell_type": "markdown",
      "source": [
        "##### Define Parameter Grid and Initialize Variables"
      ],
      "metadata": {
        "id": "PpIEnQNDoWLq"
      }
    },
    {
      "cell_type": "code",
      "source": [
        "from sklearn.model_selection import GridSearchCV\n",
        "import lightgbm as lgb\n",
        "import pandas as pd\n",
        "import numpy as np\n",
        "\n",
        "# Define parameter grid for grid search\n",
        "param_grid = {\n",
        "    'num_leaves': [20, 31, 50],\n",
        "    'learning_rate': [0.01, 0.05, 0.1],\n",
        "    'max_depth': [5, 7, -1],  # -1 means no limit\n",
        "    'min_data_in_leaf': [10, 20]\n",
        "}\n",
        "\n",
        "# Initialize GridSearchCV\n",
        "gbm = lgb.LGBMRegressor(random_state=123)\n",
        "\n",
        "grid_search = GridSearchCV(\n",
        "    estimator=gbm,\n",
        "    param_grid=param_grid,\n",
        "    scoring='neg_root_mean_squared_error',  # Optimize for negative RMSE\n",
        "    cv=5,  # 5-fold cross-validation\n",
        "    verbose=1,\n",
        "    n_jobs=-1 # Use all available cores\n",
        ")\n",
        "\n",
        "# Perform grid search\n",
        "grid_search.fit(X_train_scaled, y_train)\n",
        "\n",
        "# Initialize variables to store best parameters and RMSE\n",
        "best_rmse = -grid_search.best_score_ # Convert negative RMSE back to positive\n",
        "best_params = grid_search.best_params_\n",
        "\n",
        "# Store results (optional, can access through grid_search.cv_results_)\n",
        "results = pd.DataFrame(grid_search.cv_results_)\n",
        "results = results[['param_num_leaves', 'param_learning_rate', 'param_max_depth', 'param_min_data_in_leaf', 'mean_test_score']]\n",
        "results['mean_test_score'] = -results['mean_test_score'] # Convert negative RMSE to positive\n",
        "results.rename(columns={'param_num_leaves': 'num_leaves',\n",
        "                        'param_learning_rate': 'learning_rate',\n",
        "                        'param_max_depth': 'max_depth',\n",
        "                        'param_min_data_in_leaf': 'min_data_in_leaf',\n",
        "                        'mean_test_score': 'cv_rmse'}, inplace=True)\n",
        "\n",
        "\n",
        "print(f\"Grid search finished. Best CV RMSE: {best_rmse:.4f}\")"
      ],
      "metadata": {
        "id": "RjnlDmSzoWzn",
        "colab": {
          "base_uri": "https://localhost:8080/"
        },
        "outputId": "cc1c1fae-dea6-46aa-8bd2-7fb16f80fd2c"
      },
      "execution_count": 13,
      "outputs": [
        {
          "output_type": "stream",
          "name": "stdout",
          "text": [
            "Fitting 5 folds for each of 54 candidates, totalling 270 fits\n",
            "[LightGBM] [Warning] min_data_in_leaf is set=20, min_child_samples=20 will be ignored. Current value: min_data_in_leaf=20\n",
            "[LightGBM] [Warning] min_data_in_leaf is set=20, min_child_samples=20 will be ignored. Current value: min_data_in_leaf=20\n",
            "[LightGBM] [Info] Auto-choosing col-wise multi-threading, the overhead of testing was 0.000796 seconds.\n",
            "You can set `force_col_wise=true` to remove the overhead.\n",
            "[LightGBM] [Info] Total Bins 1837\n",
            "[LightGBM] [Info] Number of data points in the train set: 14448, number of used features: 8\n",
            "[LightGBM] [Info] Start training from score 2.065100\n",
            "Grid search finished. Best CV RMSE: 0.4543\n"
          ]
        }
      ]
    },
    {
      "cell_type": "markdown",
      "source": [
        "##### The best parameters"
      ],
      "metadata": {
        "id": "EuPB-9Tnot5f"
      }
    },
    {
      "cell_type": "code",
      "source": [
        "# Output results\n",
        "print(\"\\nBest Parameters:\")\n",
        "print(grid_search.best_params_)"
      ],
      "metadata": {
        "colab": {
          "base_uri": "https://localhost:8080/"
        },
        "id": "UYbWhgako6J4",
        "outputId": "24a76859-f7a1-402d-e2a3-fe6eaa57a6f8"
      },
      "execution_count": 14,
      "outputs": [
        {
          "output_type": "stream",
          "name": "stdout",
          "text": [
            "\n",
            "Best Parameters:\n",
            "{'learning_rate': 0.1, 'max_depth': -1, 'min_data_in_leaf': 20, 'num_leaves': 50}\n"
          ]
        }
      ]
    },
    {
      "cell_type": "markdown",
      "source": [
        "##### Train and Validate Model with Best Parameters"
      ],
      "metadata": {
        "id": "qlo7UGqjpMJm"
      }
    },
    {
      "cell_type": "code",
      "source": [
        "# Train final model with best parameters\n",
        "final_model = lgb.LGBMRegressor(**grid_search.best_params_, random_state=123)\n",
        "\n",
        "# Re-load and split California Housing data to ensure correct test set\n",
        "housing = fetch_california_housing()\n",
        "X = pd.DataFrame(housing.data, columns=housing.feature_names)\n",
        "y = pd.Series(housing.target, name='MedHouseVal')\n",
        "X_train, X_test, y_train, y_test = train_test_split(X, y, test_size=0.30, random_state=101)\n",
        "\n",
        "# Feature scaling (re-apply to features)\n",
        "scaler = StandardScaler()\n",
        "X_train_scaled = scaler.fit_transform(X_train)\n",
        "X_test_scaled = scaler.transform(X_test)\n",
        "\n",
        "final_model.fit(X_train_scaled, y_train,\n",
        "                eval_set=[(X_test_scaled, y_test)], # Ensure X_test_scaled and y_test are from regression data\n",
        "                eval_metric='l2',\n",
        "                callbacks=[lgb.early_stopping(stopping_rounds=50, verbose=False), lgb.log_evaluation(period=100)])"
      ],
      "metadata": {
        "id": "MWa_RuR3pMhJ",
        "colab": {
          "base_uri": "https://localhost:8080/",
          "height": 237
        },
        "outputId": "49e9c0ff-f956-439e-aec7-8221a39d7997"
      },
      "execution_count": 15,
      "outputs": [
        {
          "output_type": "stream",
          "name": "stdout",
          "text": [
            "[LightGBM] [Warning] min_data_in_leaf is set=20, min_child_samples=20 will be ignored. Current value: min_data_in_leaf=20\n",
            "[LightGBM] [Warning] min_data_in_leaf is set=20, min_child_samples=20 will be ignored. Current value: min_data_in_leaf=20\n",
            "[LightGBM] [Info] Auto-choosing col-wise multi-threading, the overhead of testing was 0.001209 seconds.\n",
            "You can set `force_col_wise=true` to remove the overhead.\n",
            "[LightGBM] [Info] Total Bins 1837\n",
            "[LightGBM] [Info] Number of data points in the train set: 14448, number of used features: 8\n",
            "[LightGBM] [Warning] min_data_in_leaf is set=20, min_child_samples=20 will be ignored. Current value: min_data_in_leaf=20\n",
            "[LightGBM] [Info] Start training from score 2.065100\n",
            "[100]\tvalid_0's l2: 0.22887\n"
          ]
        },
        {
          "output_type": "execute_result",
          "data": {
            "text/plain": [
              "LGBMRegressor(min_data_in_leaf=20, num_leaves=50, random_state=123)"
            ],
            "text/html": [
              "<style>#sk-container-id-1 {\n",
              "  /* Definition of color scheme common for light and dark mode */\n",
              "  --sklearn-color-text: #000;\n",
              "  --sklearn-color-text-muted: #666;\n",
              "  --sklearn-color-line: gray;\n",
              "  /* Definition of color scheme for unfitted estimators */\n",
              "  --sklearn-color-unfitted-level-0: #fff5e6;\n",
              "  --sklearn-color-unfitted-level-1: #f6e4d2;\n",
              "  --sklearn-color-unfitted-level-2: #ffe0b3;\n",
              "  --sklearn-color-unfitted-level-3: chocolate;\n",
              "  /* Definition of color scheme for fitted estimators */\n",
              "  --sklearn-color-fitted-level-0: #f0f8ff;\n",
              "  --sklearn-color-fitted-level-1: #d4ebff;\n",
              "  --sklearn-color-fitted-level-2: #b3dbfd;\n",
              "  --sklearn-color-fitted-level-3: cornflowerblue;\n",
              "\n",
              "  /* Specific color for light theme */\n",
              "  --sklearn-color-text-on-default-background: var(--sg-text-color, var(--theme-code-foreground, var(--jp-content-font-color1, black)));\n",
              "  --sklearn-color-background: var(--sg-background-color, var(--theme-background, var(--jp-layout-color0, white)));\n",
              "  --sklearn-color-border-box: var(--sg-text-color, var(--theme-code-foreground, var(--jp-content-font-color1, black)));\n",
              "  --sklearn-color-icon: #696969;\n",
              "\n",
              "  @media (prefers-color-scheme: dark) {\n",
              "    /* Redefinition of color scheme for dark theme */\n",
              "    --sklearn-color-text-on-default-background: var(--sg-text-color, var(--theme-code-foreground, var(--jp-content-font-color1, white)));\n",
              "    --sklearn-color-background: var(--sg-background-color, var(--theme-background, var(--jp-layout-color0, #111)));\n",
              "    --sklearn-color-border-box: var(--sg-text-color, var(--theme-code-foreground, var(--jp-content-font-color1, white)));\n",
              "    --sklearn-color-icon: #878787;\n",
              "  }\n",
              "}\n",
              "\n",
              "#sk-container-id-1 {\n",
              "  color: var(--sklearn-color-text);\n",
              "}\n",
              "\n",
              "#sk-container-id-1 pre {\n",
              "  padding: 0;\n",
              "}\n",
              "\n",
              "#sk-container-id-1 input.sk-hidden--visually {\n",
              "  border: 0;\n",
              "  clip: rect(1px 1px 1px 1px);\n",
              "  clip: rect(1px, 1px, 1px, 1px);\n",
              "  height: 1px;\n",
              "  margin: -1px;\n",
              "  overflow: hidden;\n",
              "  padding: 0;\n",
              "  position: absolute;\n",
              "  width: 1px;\n",
              "}\n",
              "\n",
              "#sk-container-id-1 div.sk-dashed-wrapped {\n",
              "  border: 1px dashed var(--sklearn-color-line);\n",
              "  margin: 0 0.4em 0.5em 0.4em;\n",
              "  box-sizing: border-box;\n",
              "  padding-bottom: 0.4em;\n",
              "  background-color: var(--sklearn-color-background);\n",
              "}\n",
              "\n",
              "#sk-container-id-1 div.sk-container {\n",
              "  /* jupyter's `normalize.less` sets `[hidden] { display: none; }`\n",
              "     but bootstrap.min.css set `[hidden] { display: none !important; }`\n",
              "     so we also need the `!important` here to be able to override the\n",
              "     default hidden behavior on the sphinx rendered scikit-learn.org.\n",
              "     See: https://github.com/scikit-learn/scikit-learn/issues/21755 */\n",
              "  display: inline-block !important;\n",
              "  position: relative;\n",
              "}\n",
              "\n",
              "#sk-container-id-1 div.sk-text-repr-fallback {\n",
              "  display: none;\n",
              "}\n",
              "\n",
              "div.sk-parallel-item,\n",
              "div.sk-serial,\n",
              "div.sk-item {\n",
              "  /* draw centered vertical line to link estimators */\n",
              "  background-image: linear-gradient(var(--sklearn-color-text-on-default-background), var(--sklearn-color-text-on-default-background));\n",
              "  background-size: 2px 100%;\n",
              "  background-repeat: no-repeat;\n",
              "  background-position: center center;\n",
              "}\n",
              "\n",
              "/* Parallel-specific style estimator block */\n",
              "\n",
              "#sk-container-id-1 div.sk-parallel-item::after {\n",
              "  content: \"\";\n",
              "  width: 100%;\n",
              "  border-bottom: 2px solid var(--sklearn-color-text-on-default-background);\n",
              "  flex-grow: 1;\n",
              "}\n",
              "\n",
              "#sk-container-id-1 div.sk-parallel {\n",
              "  display: flex;\n",
              "  align-items: stretch;\n",
              "  justify-content: center;\n",
              "  background-color: var(--sklearn-color-background);\n",
              "  position: relative;\n",
              "}\n",
              "\n",
              "#sk-container-id-1 div.sk-parallel-item {\n",
              "  display: flex;\n",
              "  flex-direction: column;\n",
              "}\n",
              "\n",
              "#sk-container-id-1 div.sk-parallel-item:first-child::after {\n",
              "  align-self: flex-end;\n",
              "  width: 50%;\n",
              "}\n",
              "\n",
              "#sk-container-id-1 div.sk-parallel-item:last-child::after {\n",
              "  align-self: flex-start;\n",
              "  width: 50%;\n",
              "}\n",
              "\n",
              "#sk-container-id-1 div.sk-parallel-item:only-child::after {\n",
              "  width: 0;\n",
              "}\n",
              "\n",
              "/* Serial-specific style estimator block */\n",
              "\n",
              "#sk-container-id-1 div.sk-serial {\n",
              "  display: flex;\n",
              "  flex-direction: column;\n",
              "  align-items: center;\n",
              "  background-color: var(--sklearn-color-background);\n",
              "  padding-right: 1em;\n",
              "  padding-left: 1em;\n",
              "}\n",
              "\n",
              "\n",
              "/* Toggleable style: style used for estimator/Pipeline/ColumnTransformer box that is\n",
              "clickable and can be expanded/collapsed.\n",
              "- Pipeline and ColumnTransformer use this feature and define the default style\n",
              "- Estimators will overwrite some part of the style using the `sk-estimator` class\n",
              "*/\n",
              "\n",
              "/* Pipeline and ColumnTransformer style (default) */\n",
              "\n",
              "#sk-container-id-1 div.sk-toggleable {\n",
              "  /* Default theme specific background. It is overwritten whether we have a\n",
              "  specific estimator or a Pipeline/ColumnTransformer */\n",
              "  background-color: var(--sklearn-color-background);\n",
              "}\n",
              "\n",
              "/* Toggleable label */\n",
              "#sk-container-id-1 label.sk-toggleable__label {\n",
              "  cursor: pointer;\n",
              "  display: flex;\n",
              "  width: 100%;\n",
              "  margin-bottom: 0;\n",
              "  padding: 0.5em;\n",
              "  box-sizing: border-box;\n",
              "  text-align: center;\n",
              "  align-items: start;\n",
              "  justify-content: space-between;\n",
              "  gap: 0.5em;\n",
              "}\n",
              "\n",
              "#sk-container-id-1 label.sk-toggleable__label .caption {\n",
              "  font-size: 0.6rem;\n",
              "  font-weight: lighter;\n",
              "  color: var(--sklearn-color-text-muted);\n",
              "}\n",
              "\n",
              "#sk-container-id-1 label.sk-toggleable__label-arrow:before {\n",
              "  /* Arrow on the left of the label */\n",
              "  content: \"▸\";\n",
              "  float: left;\n",
              "  margin-right: 0.25em;\n",
              "  color: var(--sklearn-color-icon);\n",
              "}\n",
              "\n",
              "#sk-container-id-1 label.sk-toggleable__label-arrow:hover:before {\n",
              "  color: var(--sklearn-color-text);\n",
              "}\n",
              "\n",
              "/* Toggleable content - dropdown */\n",
              "\n",
              "#sk-container-id-1 div.sk-toggleable__content {\n",
              "  max-height: 0;\n",
              "  max-width: 0;\n",
              "  overflow: hidden;\n",
              "  text-align: left;\n",
              "  /* unfitted */\n",
              "  background-color: var(--sklearn-color-unfitted-level-0);\n",
              "}\n",
              "\n",
              "#sk-container-id-1 div.sk-toggleable__content.fitted {\n",
              "  /* fitted */\n",
              "  background-color: var(--sklearn-color-fitted-level-0);\n",
              "}\n",
              "\n",
              "#sk-container-id-1 div.sk-toggleable__content pre {\n",
              "  margin: 0.2em;\n",
              "  border-radius: 0.25em;\n",
              "  color: var(--sklearn-color-text);\n",
              "  /* unfitted */\n",
              "  background-color: var(--sklearn-color-unfitted-level-0);\n",
              "}\n",
              "\n",
              "#sk-container-id-1 div.sk-toggleable__content.fitted pre {\n",
              "  /* unfitted */\n",
              "  background-color: var(--sklearn-color-fitted-level-0);\n",
              "}\n",
              "\n",
              "#sk-container-id-1 input.sk-toggleable__control:checked~div.sk-toggleable__content {\n",
              "  /* Expand drop-down */\n",
              "  max-height: 200px;\n",
              "  max-width: 100%;\n",
              "  overflow: auto;\n",
              "}\n",
              "\n",
              "#sk-container-id-1 input.sk-toggleable__control:checked~label.sk-toggleable__label-arrow:before {\n",
              "  content: \"▾\";\n",
              "}\n",
              "\n",
              "/* Pipeline/ColumnTransformer-specific style */\n",
              "\n",
              "#sk-container-id-1 div.sk-label input.sk-toggleable__control:checked~label.sk-toggleable__label {\n",
              "  color: var(--sklearn-color-text);\n",
              "  background-color: var(--sklearn-color-unfitted-level-2);\n",
              "}\n",
              "\n",
              "#sk-container-id-1 div.sk-label.fitted input.sk-toggleable__control:checked~label.sk-toggleable__label {\n",
              "  background-color: var(--sklearn-color-fitted-level-2);\n",
              "}\n",
              "\n",
              "/* Estimator-specific style */\n",
              "\n",
              "/* Colorize estimator box */\n",
              "#sk-container-id-1 div.sk-estimator input.sk-toggleable__control:checked~label.sk-toggleable__label {\n",
              "  /* unfitted */\n",
              "  background-color: var(--sklearn-color-unfitted-level-2);\n",
              "}\n",
              "\n",
              "#sk-container-id-1 div.sk-estimator.fitted input.sk-toggleable__control:checked~label.sk-toggleable__label {\n",
              "  /* fitted */\n",
              "  background-color: var(--sklearn-color-fitted-level-2);\n",
              "}\n",
              "\n",
              "#sk-container-id-1 div.sk-label label.sk-toggleable__label,\n",
              "#sk-container-id-1 div.sk-label label {\n",
              "  /* The background is the default theme color */\n",
              "  color: var(--sklearn-color-text-on-default-background);\n",
              "}\n",
              "\n",
              "/* On hover, darken the color of the background */\n",
              "#sk-container-id-1 div.sk-label:hover label.sk-toggleable__label {\n",
              "  color: var(--sklearn-color-text);\n",
              "  background-color: var(--sklearn-color-unfitted-level-2);\n",
              "}\n",
              "\n",
              "/* Label box, darken color on hover, fitted */\n",
              "#sk-container-id-1 div.sk-label.fitted:hover label.sk-toggleable__label.fitted {\n",
              "  color: var(--sklearn-color-text);\n",
              "  background-color: var(--sklearn-color-fitted-level-2);\n",
              "}\n",
              "\n",
              "/* Estimator label */\n",
              "\n",
              "#sk-container-id-1 div.sk-label label {\n",
              "  font-family: monospace;\n",
              "  font-weight: bold;\n",
              "  display: inline-block;\n",
              "  line-height: 1.2em;\n",
              "}\n",
              "\n",
              "#sk-container-id-1 div.sk-label-container {\n",
              "  text-align: center;\n",
              "}\n",
              "\n",
              "/* Estimator-specific */\n",
              "#sk-container-id-1 div.sk-estimator {\n",
              "  font-family: monospace;\n",
              "  border: 1px dotted var(--sklearn-color-border-box);\n",
              "  border-radius: 0.25em;\n",
              "  box-sizing: border-box;\n",
              "  margin-bottom: 0.5em;\n",
              "  /* unfitted */\n",
              "  background-color: var(--sklearn-color-unfitted-level-0);\n",
              "}\n",
              "\n",
              "#sk-container-id-1 div.sk-estimator.fitted {\n",
              "  /* fitted */\n",
              "  background-color: var(--sklearn-color-fitted-level-0);\n",
              "}\n",
              "\n",
              "/* on hover */\n",
              "#sk-container-id-1 div.sk-estimator:hover {\n",
              "  /* unfitted */\n",
              "  background-color: var(--sklearn-color-unfitted-level-2);\n",
              "}\n",
              "\n",
              "#sk-container-id-1 div.sk-estimator.fitted:hover {\n",
              "  /* fitted */\n",
              "  background-color: var(--sklearn-color-fitted-level-2);\n",
              "}\n",
              "\n",
              "/* Specification for estimator info (e.g. \"i\" and \"?\") */\n",
              "\n",
              "/* Common style for \"i\" and \"?\" */\n",
              "\n",
              ".sk-estimator-doc-link,\n",
              "a:link.sk-estimator-doc-link,\n",
              "a:visited.sk-estimator-doc-link {\n",
              "  float: right;\n",
              "  font-size: smaller;\n",
              "  line-height: 1em;\n",
              "  font-family: monospace;\n",
              "  background-color: var(--sklearn-color-background);\n",
              "  border-radius: 1em;\n",
              "  height: 1em;\n",
              "  width: 1em;\n",
              "  text-decoration: none !important;\n",
              "  margin-left: 0.5em;\n",
              "  text-align: center;\n",
              "  /* unfitted */\n",
              "  border: var(--sklearn-color-unfitted-level-1) 1pt solid;\n",
              "  color: var(--sklearn-color-unfitted-level-1);\n",
              "}\n",
              "\n",
              ".sk-estimator-doc-link.fitted,\n",
              "a:link.sk-estimator-doc-link.fitted,\n",
              "a:visited.sk-estimator-doc-link.fitted {\n",
              "  /* fitted */\n",
              "  border: var(--sklearn-color-fitted-level-1) 1pt solid;\n",
              "  color: var(--sklearn-color-fitted-level-1);\n",
              "}\n",
              "\n",
              "/* On hover */\n",
              "div.sk-estimator:hover .sk-estimator-doc-link:hover,\n",
              ".sk-estimator-doc-link:hover,\n",
              "div.sk-label-container:hover .sk-estimator-doc-link:hover,\n",
              ".sk-estimator-doc-link:hover {\n",
              "  /* unfitted */\n",
              "  background-color: var(--sklearn-color-unfitted-level-3);\n",
              "  color: var(--sklearn-color-background);\n",
              "  text-decoration: none;\n",
              "}\n",
              "\n",
              "div.sk-estimator.fitted:hover .sk-estimator-doc-link.fitted:hover,\n",
              ".sk-estimator-doc-link.fitted:hover,\n",
              "div.sk-label-container:hover .sk-estimator-doc-link.fitted:hover,\n",
              ".sk-estimator-doc-link.fitted:hover {\n",
              "  /* fitted */\n",
              "  background-color: var(--sklearn-color-fitted-level-3);\n",
              "  color: var(--sklearn-color-background);\n",
              "  text-decoration: none;\n",
              "}\n",
              "\n",
              "/* Span, style for the box shown on hovering the info icon */\n",
              ".sk-estimator-doc-link span {\n",
              "  display: none;\n",
              "  z-index: 9999;\n",
              "  position: relative;\n",
              "  font-weight: normal;\n",
              "  right: .2ex;\n",
              "  padding: .5ex;\n",
              "  margin: .5ex;\n",
              "  width: min-content;\n",
              "  min-width: 20ex;\n",
              "  max-width: 50ex;\n",
              "  color: var(--sklearn-color-text);\n",
              "  box-shadow: 2pt 2pt 4pt #999;\n",
              "  /* unfitted */\n",
              "  background: var(--sklearn-color-unfitted-level-0);\n",
              "  border: .5pt solid var(--sklearn-color-unfitted-level-3);\n",
              "}\n",
              "\n",
              ".sk-estimator-doc-link.fitted span {\n",
              "  /* fitted */\n",
              "  background: var(--sklearn-color-fitted-level-0);\n",
              "  border: var(--sklearn-color-fitted-level-3);\n",
              "}\n",
              "\n",
              ".sk-estimator-doc-link:hover span {\n",
              "  display: block;\n",
              "}\n",
              "\n",
              "/* \"?\"-specific style due to the `<a>` HTML tag */\n",
              "\n",
              "#sk-container-id-1 a.estimator_doc_link {\n",
              "  float: right;\n",
              "  font-size: 1rem;\n",
              "  line-height: 1em;\n",
              "  font-family: monospace;\n",
              "  background-color: var(--sklearn-color-background);\n",
              "  border-radius: 1rem;\n",
              "  height: 1rem;\n",
              "  width: 1rem;\n",
              "  text-decoration: none;\n",
              "  /* unfitted */\n",
              "  color: var(--sklearn-color-unfitted-level-1);\n",
              "  border: var(--sklearn-color-unfitted-level-1) 1pt solid;\n",
              "}\n",
              "\n",
              "#sk-container-id-1 a.estimator_doc_link.fitted {\n",
              "  /* fitted */\n",
              "  border: var(--sklearn-color-fitted-level-1) 1pt solid;\n",
              "  color: var(--sklearn-color-fitted-level-1);\n",
              "}\n",
              "\n",
              "/* On hover */\n",
              "#sk-container-id-1 a.estimator_doc_link:hover {\n",
              "  /* unfitted */\n",
              "  background-color: var(--sklearn-color-unfitted-level-3);\n",
              "  color: var(--sklearn-color-background);\n",
              "  text-decoration: none;\n",
              "}\n",
              "\n",
              "#sk-container-id-1 a.estimator_doc_link.fitted:hover {\n",
              "  /* fitted */\n",
              "  background-color: var(--sklearn-color-fitted-level-3);\n",
              "}\n",
              "</style><div id=\"sk-container-id-1\" class=\"sk-top-container\"><div class=\"sk-text-repr-fallback\"><pre>LGBMRegressor(min_data_in_leaf=20, num_leaves=50, random_state=123)</pre><b>In a Jupyter environment, please rerun this cell to show the HTML representation or trust the notebook. <br />On GitHub, the HTML representation is unable to render, please try loading this page with nbviewer.org.</b></div><div class=\"sk-container\" hidden><div class=\"sk-item\"><div class=\"sk-estimator fitted sk-toggleable\"><input class=\"sk-toggleable__control sk-hidden--visually\" id=\"sk-estimator-id-1\" type=\"checkbox\" checked><label for=\"sk-estimator-id-1\" class=\"sk-toggleable__label fitted sk-toggleable__label-arrow\"><div><div>LGBMRegressor</div></div><div><span class=\"sk-estimator-doc-link fitted\">i<span>Fitted</span></span></div></label><div class=\"sk-toggleable__content fitted\"><pre>LGBMRegressor(min_data_in_leaf=20, num_leaves=50, random_state=123)</pre></div> </div></div></div></div>"
            ]
          },
          "metadata": {},
          "execution_count": 15
        }
      ]
    },
    {
      "cell_type": "markdown",
      "source": [
        "##### Predictions and Evaluation"
      ],
      "metadata": {
        "id": "Q99NFqvipTF2"
      }
    },
    {
      "cell_type": "code",
      "source": [
        "from sklearn.metrics import mean_squared_error\n",
        "\n",
        "# Predictions and evaluation\n",
        "train_pred = final_model.predict(X_train_scaled)\n",
        "test_pred = final_model.predict(X_test_scaled)\n",
        "\n",
        "mse_train_final = mean_squared_error(y_train, train_pred)\n",
        "rmse_train_final = np.sqrt(mse_train_final)\n",
        "\n",
        "mse_test_final = mean_squared_error(y_test, test_pred)\n",
        "rmse_test_final = np.sqrt(mse_test_final)\n",
        "\n",
        "\n",
        "print(\"\\nFinal Model Performance:\")\n",
        "print(f\"Training RMSE: {rmse_train_final:.6f}\")\n",
        "print(f\"Test RMSE: {rmse_test_final:.6f}\")\n",
        "\n",
        "# Save grid search results\n",
        "# results.to_csv(\"grid_search_results.csv\", index=False)"
      ],
      "metadata": {
        "colab": {
          "base_uri": "https://localhost:8080/"
        },
        "id": "IDzGkXFPpaFR",
        "outputId": "8f3ce8f2-edd0-4b64-cf45-3102a00b3d94"
      },
      "execution_count": 16,
      "outputs": [
        {
          "output_type": "stream",
          "name": "stdout",
          "text": [
            "[LightGBM] [Warning] min_data_in_leaf is set=20, min_child_samples=20 will be ignored. Current value: min_data_in_leaf=20\n",
            "[LightGBM] [Warning] min_data_in_leaf is set=20, min_child_samples=20 will be ignored. Current value: min_data_in_leaf=20\n",
            "\n",
            "Final Model Performance:\n",
            "Training RMSE: 0.344781\n",
            "Test RMSE: 0.478403\n"
          ]
        }
      ]
    },
    {
      "cell_type": "code",
      "source": [
        "import matplotlib.pyplot as plt\n",
        "import seaborn as sns\n",
        "from sklearn.linear_model import LinearRegression\n",
        "from sklearn.metrics import r2_score\n",
        "\n",
        "# 1:1 Plot of Predicted vs Observed values\n",
        "test_df = pd.DataFrame({'medv': y_test, 'medv_pred': test_pred})\n",
        "\n",
        "plt.figure(figsize=(8, 6))\n",
        "sns.scatterplot(data=test_df, x='medv', y='medv_pred', alpha=0.6)\n",
        "sns.regplot(data=test_df, x='medv', y='medv_pred', scatter=False, color='red')\n",
        "\n",
        "# Add R2 and equation\n",
        "slope, intercept = np.polyfit(test_df['medv'], test_df['medv_pred'], 1)\n",
        "r2 = r2_score(test_df['medv'], test_df['medv_pred'])\n",
        "plt.text(0.05, 0.95, f'y = {intercept:.2f} + {slope:.2f}x\\nR² = {r2:.2f}', transform=plt.gca().transAxes, fontsize=12, verticalalignment='top')\n",
        "\n",
        "\n",
        "plt.title(\"LightGBM: Predicted vs Observed House Prices\")\n",
        "plt.xlabel(\"Observed medv ($1,000s)\")\n",
        "plt.ylabel(\"Predicted medv ($1,000s)\")\n",
        "plt.grid(True, linestyle='--', alpha=0.6)\n",
        "plt.show()"
      ],
      "metadata": {
        "colab": {
          "base_uri": "https://localhost:8080/",
          "height": 564
        },
        "id": "Ic0gVXQEzDOd",
        "outputId": "cc16a9bd-4a64-41e3-8325-0c2eba009905"
      },
      "execution_count": 17,
      "outputs": [
        {
          "output_type": "display_data",
          "data": {
            "text/plain": [
              "<Figure size 800x600 with 1 Axes>"
            ],
            "image/png": "[encoded data removed]"
          },
          "metadata": {}
        }
      ]
    },
    {
      "cell_type": "markdown",
      "source": [
        "##### Feature Importance"
      ],
      "metadata": {
        "id": "5AKztLwDzNj3"
      }
    },
    {
      "cell_type": "code",
      "source": [
        "# Compute and plot variable importance\n",
        "importance = final_model.feature_importances_\n",
        "feature_names = X_train.columns\n",
        "\n",
        "importance_df = pd.DataFrame({'Feature': feature_names, 'Gain': importance})\n",
        "importance_df = importance_df.sort_values(by='Gain', ascending=False)\n",
        "\n",
        "plt.figure(figsize=(8, 6))\n",
        "sns.barplot(x='Gain', y='Feature', data=importance_df, color='#1f77b4')\n",
        "plt.title(\"LightGBM Feature Importance (Gain)\")\n",
        "plt.xlabel(\"Gain\")\n",
        "plt.ylabel(\"Feature\")\n",
        "plt.tight_layout()\n",
        "plt.show()"
      ],
      "metadata": {
        "colab": {
          "base_uri": "https://localhost:8080/",
          "height": 607
        },
        "id": "IOT-EVsOzOZP",
        "outputId": "8b84f774-d142-4498-b21d-3c4c3a69c22a"
      },
      "execution_count": 18,
      "outputs": [
        {
          "output_type": "display_data",
          "data": {
            "text/plain": [
              "<Figure size 800x600 with 1 Axes>"
            ],
            "image/png": "[encoded data removed]"
          },
          "metadata": {}
        }
      ]
    },
    {
      "cell_type": "markdown",
      "source": [
        "### Classification with LightGBM\n",
        "\n",
        "In this section, we will use the {lightGBM} package to perform classification on a dataset. We will load the dataset, preprocess it, and then fit an lightgbm model for classification. The dataset will be split into training and testing sets, and we will evaluate the model's performance using accuracy and confusion matrix."
      ],
      "metadata": {
        "id": "Irqlj8sYYKas"
      }
    },
    {
      "cell_type": "markdown",
      "source": [
        "#### Data and Data Preparation\n",
        "\n",
        "We will use`health insurance` dataset to predict the product type (A, B, or C) based on various features such as age, household size, position level, and absence records."
      ],
      "metadata": {
        "id": "NRpPJB6-YUUo"
      }
    },
    {
      "cell_type": "code",
      "source": [
        "# Load the dataset\n",
        "import pandas as pd\n",
        "from sklearn.model_selection import train_test_split\n",
        "from sklearn.preprocessing import LabelEncoder\n",
        "from sklearn.metrics import accuracy_score, log_loss\n",
        "import numpy as np\n",
        "import lightgbm as lgb\n",
        "\n",
        "df = pd.read_csv(\"https://github.com/zia207/r-colab/raw/main/Data/Machine_Learning/health_insurance.csv\")\n",
        "\n",
        "# Create subset with specified variables\n",
        "df = df[['product', 'age', 'household', 'position_level', 'absent', 'gender']].copy()\n",
        "\n",
        "# Encode target variable (product: A=0, B=1, C=2)\n",
        "le = LabelEncoder()\n",
        "df['product'] = le.fit_transform(df['product'])\n",
        "\n",
        "# Create dummy variables for gender\n",
        "df = pd.get_dummies(df, columns=['gender'], drop_first=True)\n",
        "\n",
        "# Create training and test datasets\n",
        "np.random.seed(123)\n",
        "X = df.drop('product', axis=1)\n",
        "y = df['product']\n",
        "X_train, X_test, y_train, y_test = train_test_split(X, y, test_size=0.25, random_state=123, stratify=y)\n",
        "\n",
        "\n",
        "# Load train and test data into LightGBM dataset objects\n",
        "train_lgb = lgb.Dataset(data = X_train, label = y_train)\n",
        "test_lgb = lgb.Dataset(data = X_test, label = y_test, reference=train_lgb)"
      ],
      "metadata": {
        "id": "RXLeXZsGA3mT"
      },
      "execution_count": 19,
      "outputs": []
    },
    {
      "cell_type": "markdown",
      "source": [
        "#### Fit lightGBM Classification Model"
      ],
      "metadata": {
        "id": "5yliW4QeZMpE"
      }
    },
    {
      "cell_type": "code",
      "source": [
        "# Fit initial model with fixed parameters\n",
        "initial_params = {\n",
        "    \"objective\": \"multiclass\",\n",
        "    \"metric\": \"multi_logloss\",\n",
        "    \"num_class\": 3,\n",
        "    \"num_leaves\": 31,\n",
        "    \"learning_rate\": 0.05,\n",
        "    \"max_depth\": 5,\n",
        "    \"min_data_in_leaf\": 10,\n",
        "    \"num_threads\": 2\n",
        "}\n",
        "\n",
        "initial_model = lgb.train(\n",
        "  initial_params,\n",
        "  train_lgb,\n",
        "  num_boost_round = 100,\n",
        "  callbacks=[lgb.early_stopping(stopping_rounds=50, verbose=False), lgb.log_evaluation(period=1)],\n",
        "  valid_sets = [test_lgb]\n",
        ")\n",
        "\n",
        "print(initial_model.params)"
      ],
      "metadata": {
        "colab": {
          "base_uri": "https://localhost:8080/"
        },
        "id": "0H3OVcIrZNK8",
        "outputId": "17f813bc-72b9-45d6-934b-b4badc6120c3"
      },
      "execution_count": 20,
      "outputs": [
        {
          "output_type": "stream",
          "name": "stdout",
          "text": [
            "[LightGBM] [Info] Auto-choosing row-wise multi-threading, the overhead of testing was 0.000167 seconds.\n",
            "You can set `force_row_wise=true` to remove the overhead.\n",
            "And if memory is not enough, you can set `force_col_wise=true`.\n",
            "[LightGBM] [Info] Total Bins 96\n",
            "[LightGBM] [Info] Number of data points in the train set: 1086, number of used features: 5\n",
            "[LightGBM] [Info] Start training from score -1.076753\n",
            "[LightGBM] [Info] Start training from score -1.152526\n",
            "[LightGBM] [Info] Start training from score -1.068678\n",
            "[LightGBM] [Warning] No further splits with positive gain, best gain: -inf\n",
            "[LightGBM] [Warning] No further splits with positive gain, best gain: -inf\n",
            "[LightGBM] [Warning] No further splits with positive gain, best gain: -inf\n",
            "[1]\tvalid_0's multi_logloss: 1.03563\n",
            "[LightGBM] [Warning] No further splits with positive gain, best gain: -inf\n",
            "[LightGBM] [Warning] No further splits with positive gain, best gain: -inf\n",
            "[LightGBM] [Warning] No further splits with positive gain, best gain: -inf\n",
            "[2]\tvalid_0's multi_logloss: 0.980192\n",
            "[LightGBM] [Warning] No further splits with positive gain, best gain: -inf\n",
            "[LightGBM] [Warning] No further splits with positive gain, best gain: -inf\n",
            "[LightGBM] [Warning] No further splits with positive gain, best gain: -inf\n",
            "[3]\tvalid_0's multi_logloss: 0.93069\n",
            "[LightGBM] [Warning] No further splits with positive gain, best gain: -inf\n",
            "[LightGBM] [Warning] No further splits with positive gain, best gain: -inf\n",
            "[LightGBM] [Warning] No further splits with positive gain, best gain: -inf\n",
            "[4]\tvalid_0's multi_logloss: 0.887502\n",
            "[LightGBM] [Warning] No further splits with positive gain, best gain: -inf\n",
            "[LightGBM] [Warning] No further splits with positive gain, best gain: -inf\n",
            "[LightGBM] [Warning] No further splits with positive gain, best gain: -inf\n",
            "[5]\tvalid_0's multi_logloss: 0.847612\n",
            "[LightGBM] [Warning] No further splits with positive gain, best gain: -inf\n",
            "[LightGBM] [Warning] No further splits with positive gain, best gain: -inf\n",
            "[LightGBM] [Warning] No further splits with positive gain, best gain: -inf\n",
            "[6]\tvalid_0's multi_logloss: 0.811421\n",
            "[LightGBM] [Warning] No further splits with positive gain, best gain: -inf\n",
            "[LightGBM] [Warning] No further splits with positive gain, best gain: -inf\n",
            "[LightGBM] [Warning] No further splits with positive gain, best gain: -inf\n",
            "[7]\tvalid_0's multi_logloss: 0.778565\n",
            "[LightGBM] [Warning] No further splits with positive gain, best gain: -inf\n",
            "[LightGBM] [Warning] No further splits with positive gain, best gain: -inf\n",
            "[LightGBM] [Warning] No further splits with positive gain, best gain: -inf\n",
            "[8]\tvalid_0's multi_logloss: 0.748569\n",
            "[LightGBM] [Warning] No further splits with positive gain, best gain: -inf\n",
            "[LightGBM] [Warning] No further splits with positive gain, best gain: -inf\n",
            "[LightGBM] [Warning] No further splits with positive gain, best gain: -inf\n",
            "[9]\tvalid_0's multi_logloss: 0.721357\n",
            "[LightGBM] [Warning] No further splits with positive gain, best gain: -inf\n",
            "[LightGBM] [Warning] No further splits with positive gain, best gain: -inf\n",
            "[LightGBM] [Warning] No further splits with positive gain, best gain: -inf\n",
            "[10]\tvalid_0's multi_logloss: 0.696614\n",
            "[LightGBM] [Warning] No further splits with positive gain, best gain: -inf\n",
            "[LightGBM] [Warning] No further splits with positive gain, best gain: -inf\n",
            "[LightGBM] [Warning] No further splits with positive gain, best gain: -inf\n",
            "[11]\tvalid_0's multi_logloss: 0.673725\n",
            "[LightGBM] [Warning] No further splits with positive gain, best gain: -inf\n",
            "[LightGBM] [Warning] No further splits with positive gain, best gain: -inf\n",
            "[LightGBM] [Warning] No further splits with positive gain, best gain: -inf\n",
            "[12]\tvalid_0's multi_logloss: 0.652478\n",
            "[LightGBM] [Warning] No further splits with positive gain, best gain: -inf\n",
            "[LightGBM] [Warning] No further splits with positive gain, best gain: -inf\n",
            "[LightGBM] [Warning] No further splits with positive gain, best gain: -inf\n",
            "[13]\tvalid_0's multi_logloss: 0.633278\n",
            "[LightGBM] [Warning] No further splits with positive gain, best gain: -inf\n",
            "[LightGBM] [Warning] No further splits with positive gain, best gain: -inf\n",
            "[LightGBM] [Warning] No further splits with positive gain, best gain: -inf\n",
            "[14]\tvalid_0's multi_logloss: 0.615149\n",
            "[LightGBM] [Warning] No further splits with positive gain, best gain: -inf\n",
            "[LightGBM] [Warning] No further splits with positive gain, best gain: -inf\n",
            "[LightGBM] [Warning] No further splits with positive gain, best gain: -inf\n",
            "[15]\tvalid_0's multi_logloss: 0.59863\n",
            "[LightGBM] [Warning] No further splits with positive gain, best gain: -inf\n",
            "[LightGBM] [Warning] No further splits with positive gain, best gain: -inf\n",
            "[LightGBM] [Warning] No further splits with positive gain, best gain: -inf\n",
            "[16]\tvalid_0's multi_logloss: 0.583273\n",
            "[LightGBM] [Warning] No further splits with positive gain, best gain: -inf\n",
            "[LightGBM] [Warning] No further splits with positive gain, best gain: -inf\n",
            "[LightGBM] [Warning] No further splits with positive gain, best gain: -inf\n",
            "[17]\tvalid_0's multi_logloss: 0.569169\n",
            "[LightGBM] [Warning] No further splits with positive gain, best gain: -inf\n",
            "[LightGBM] [Warning] No further splits with positive gain, best gain: -inf\n",
            "[LightGBM] [Warning] No further splits with positive gain, best gain: -inf\n",
            "[18]\tvalid_0's multi_logloss: 0.556329\n",
            "[LightGBM] [Warning] No further splits with positive gain, best gain: -inf\n",
            "[LightGBM] [Warning] No further splits with positive gain, best gain: -inf\n",
            "[LightGBM] [Warning] No further splits with positive gain, best gain: -inf\n",
            "[19]\tvalid_0's multi_logloss: 0.544753\n",
            "[LightGBM] [Warning] No further splits with positive gain, best gain: -inf\n",
            "[LightGBM] [Warning] No further splits with positive gain, best gain: -inf\n",
            "[LightGBM] [Warning] No further splits with positive gain, best gain: -inf\n",
            "[20]\tvalid_0's multi_logloss: 0.53377\n",
            "[LightGBM] [Warning] No further splits with positive gain, best gain: -inf\n",
            "[LightGBM] [Warning] No further splits with positive gain, best gain: -inf\n",
            "[LightGBM] [Warning] No further splits with positive gain, best gain: -inf\n",
            "[21]\tvalid_0's multi_logloss: 0.523406\n",
            "[LightGBM] [Warning] No further splits with positive gain, best gain: -inf\n",
            "[LightGBM] [Warning] No further splits with positive gain, best gain: -inf\n",
            "[LightGBM] [Warning] No further splits with positive gain, best gain: -inf\n",
            "[22]\tvalid_0's multi_logloss: 0.514313\n",
            "[LightGBM] [Warning] No further splits with positive gain, best gain: -inf\n",
            "[LightGBM] [Warning] No further splits with positive gain, best gain: -inf\n",
            "[LightGBM] [Warning] No further splits with positive gain, best gain: -inf\n",
            "[23]\tvalid_0's multi_logloss: 0.505968\n",
            "[LightGBM] [Warning] No further splits with positive gain, best gain: -inf\n",
            "[LightGBM] [Warning] No further splits with positive gain, best gain: -inf\n",
            "[LightGBM] [Warning] No further splits with positive gain, best gain: -inf\n",
            "[24]\tvalid_0's multi_logloss: 0.497978\n",
            "[LightGBM] [Warning] No further splits with positive gain, best gain: -inf\n",
            "[LightGBM] [Warning] No further splits with positive gain, best gain: -inf\n",
            "[LightGBM] [Warning] No further splits with positive gain, best gain: -inf\n",
            "[25]\tvalid_0's multi_logloss: 0.490552\n",
            "[LightGBM] [Warning] No further splits with positive gain, best gain: -inf\n",
            "[LightGBM] [Warning] No further splits with positive gain, best gain: -inf\n",
            "[LightGBM] [Warning] No further splits with positive gain, best gain: -inf\n",
            "[26]\tvalid_0's multi_logloss: 0.483821\n",
            "[LightGBM] [Warning] No further splits with positive gain, best gain: -inf\n",
            "[LightGBM] [Warning] No further splits with positive gain, best gain: -inf\n",
            "[LightGBM] [Warning] No further splits with positive gain, best gain: -inf\n",
            "[27]\tvalid_0's multi_logloss: 0.477718\n",
            "[LightGBM] [Warning] No further splits with positive gain, best gain: -inf\n",
            "[LightGBM] [Warning] No further splits with positive gain, best gain: -inf\n",
            "[LightGBM] [Warning] No further splits with positive gain, best gain: -inf\n",
            "[28]\tvalid_0's multi_logloss: 0.471531\n",
            "[LightGBM] [Warning] No further splits with positive gain, best gain: -inf\n",
            "[LightGBM] [Warning] No further splits with positive gain, best gain: -inf\n",
            "[LightGBM] [Warning] No further splits with positive gain, best gain: -inf\n",
            "[29]\tvalid_0's multi_logloss: 0.465938\n",
            "[LightGBM] [Warning] No further splits with positive gain, best gain: -inf\n",
            "[LightGBM] [Warning] No further splits with positive gain, best gain: -inf\n",
            "[LightGBM] [Warning] No further splits with positive gain, best gain: -inf\n",
            "[30]\tvalid_0's multi_logloss: 0.461052\n",
            "[LightGBM] [Warning] No further splits with positive gain, best gain: -inf\n",
            "[LightGBM] [Warning] No further splits with positive gain, best gain: -inf\n",
            "[LightGBM] [Warning] No further splits with positive gain, best gain: -inf\n",
            "[31]\tvalid_0's multi_logloss: 0.456409\n",
            "[LightGBM] [Warning] No further splits with positive gain, best gain: -inf\n",
            "[LightGBM] [Warning] No further splits with positive gain, best gain: -inf\n",
            "[LightGBM] [Warning] No further splits with positive gain, best gain: -inf\n",
            "[32]\tvalid_0's multi_logloss: 0.451549\n",
            "[LightGBM] [Warning] No further splits with positive gain, best gain: -inf\n",
            "[LightGBM] [Warning] No further splits with positive gain, best gain: -inf\n",
            "[LightGBM] [Warning] No further splits with positive gain, best gain: -inf\n",
            "[33]\tvalid_0's multi_logloss: 0.447425\n",
            "[LightGBM] [Warning] No further splits with positive gain, best gain: -inf\n",
            "[LightGBM] [Warning] No further splits with positive gain, best gain: -inf\n",
            "[LightGBM] [Warning] No further splits with positive gain, best gain: -inf\n",
            "[34]\tvalid_0's multi_logloss: 0.443698\n",
            "[LightGBM] [Warning] No further splits with positive gain, best gain: -inf\n",
            "[LightGBM] [Warning] No further splits with positive gain, best gain: -inf\n",
            "[LightGBM] [Warning] No further splits with positive gain, best gain: -inf\n",
            "[35]\tvalid_0's multi_logloss: 0.439782\n",
            "[LightGBM] [Warning] No further splits with positive gain, best gain: -inf\n",
            "[LightGBM] [Warning] No further splits with positive gain, best gain: -inf\n",
            "[LightGBM] [Warning] No further splits with positive gain, best gain: -inf\n",
            "[36]\tvalid_0's multi_logloss: 0.436233\n",
            "[LightGBM] [Warning] No further splits with positive gain, best gain: -inf\n",
            "[LightGBM] [Warning] No further splits with positive gain, best gain: -inf\n",
            "[LightGBM] [Warning] No further splits with positive gain, best gain: -inf\n",
            "[37]\tvalid_0's multi_logloss: 0.433069\n",
            "[LightGBM] [Warning] No further splits with positive gain, best gain: -inf\n",
            "[LightGBM] [Warning] No further splits with positive gain, best gain: -inf\n",
            "[LightGBM] [Warning] No further splits with positive gain, best gain: -inf\n",
            "[38]\tvalid_0's multi_logloss: 0.430187\n",
            "[LightGBM] [Warning] No further splits with positive gain, best gain: -inf\n",
            "[LightGBM] [Warning] No further splits with positive gain, best gain: -inf\n",
            "[LightGBM] [Warning] No further splits with positive gain, best gain: -inf\n",
            "[39]\tvalid_0's multi_logloss: 0.427225\n",
            "[LightGBM] [Warning] No further splits with positive gain, best gain: -inf\n",
            "[LightGBM] [Warning] No further splits with positive gain, best gain: -inf\n",
            "[LightGBM] [Warning] No further splits with positive gain, best gain: -inf\n",
            "[40]\tvalid_0's multi_logloss: 0.424792\n",
            "[LightGBM] [Warning] No further splits with positive gain, best gain: -inf\n",
            "[LightGBM] [Warning] No further splits with positive gain, best gain: -inf\n",
            "[LightGBM] [Warning] No further splits with positive gain, best gain: -inf\n",
            "[41]\tvalid_0's multi_logloss: 0.422137\n",
            "[LightGBM] [Warning] No further splits with positive gain, best gain: -inf\n",
            "[LightGBM] [Warning] No further splits with positive gain, best gain: -inf\n",
            "[LightGBM] [Warning] No further splits with positive gain, best gain: -inf\n",
            "[42]\tvalid_0's multi_logloss: 0.419383\n",
            "[LightGBM] [Warning] No further splits with positive gain, best gain: -inf\n",
            "[LightGBM] [Warning] No further splits with positive gain, best gain: -inf\n",
            "[LightGBM] [Warning] No further splits with positive gain, best gain: -inf\n",
            "[43]\tvalid_0's multi_logloss: 0.4171\n",
            "[LightGBM] [Warning] No further splits with positive gain, best gain: -inf\n",
            "[LightGBM] [Warning] No further splits with positive gain, best gain: -inf\n",
            "[LightGBM] [Warning] No further splits with positive gain, best gain: -inf\n",
            "[44]\tvalid_0's multi_logloss: 0.414805\n",
            "[LightGBM] [Warning] No further splits with positive gain, best gain: -inf\n",
            "[LightGBM] [Warning] No further splits with positive gain, best gain: -inf\n",
            "[LightGBM] [Warning] No further splits with positive gain, best gain: -inf\n",
            "[45]\tvalid_0's multi_logloss: 0.413279\n",
            "[LightGBM] [Warning] No further splits with positive gain, best gain: -inf\n",
            "[LightGBM] [Warning] No further splits with positive gain, best gain: -inf\n",
            "[LightGBM] [Warning] No further splits with positive gain, best gain: -inf\n",
            "[46]\tvalid_0's multi_logloss: 0.411091\n",
            "[LightGBM] [Warning] No further splits with positive gain, best gain: -inf\n",
            "[LightGBM] [Warning] No further splits with positive gain, best gain: -inf\n",
            "[LightGBM] [Warning] No further splits with positive gain, best gain: -inf\n",
            "[47]\tvalid_0's multi_logloss: 0.408799\n",
            "[LightGBM] [Warning] No further splits with positive gain, best gain: -inf\n",
            "[LightGBM] [Warning] No further splits with positive gain, best gain: -inf\n",
            "[LightGBM] [Warning] No further splits with positive gain, best gain: -inf\n",
            "[48]\tvalid_0's multi_logloss: 0.407009\n",
            "[LightGBM] [Warning] No further splits with positive gain, best gain: -inf\n",
            "[LightGBM] [Warning] No further splits with positive gain, best gain: -inf\n",
            "[LightGBM] [Warning] No further splits with positive gain, best gain: -inf\n",
            "[49]\tvalid_0's multi_logloss: 0.40498\n",
            "[LightGBM] [Warning] No further splits with positive gain, best gain: -inf\n",
            "[LightGBM] [Warning] No further splits with positive gain, best gain: -inf\n",
            "[LightGBM] [Warning] No further splits with positive gain, best gain: -inf\n",
            "[50]\tvalid_0's multi_logloss: 0.403411\n",
            "[LightGBM] [Warning] No further splits with positive gain, best gain: -inf\n",
            "[LightGBM] [Warning] No further splits with positive gain, best gain: -inf\n",
            "[LightGBM] [Warning] No further splits with positive gain, best gain: -inf\n",
            "[51]\tvalid_0's multi_logloss: 0.40182\n",
            "[LightGBM] [Warning] No further splits with positive gain, best gain: -inf\n",
            "[LightGBM] [Warning] No further splits with positive gain, best gain: -inf\n",
            "[LightGBM] [Warning] No further splits with positive gain, best gain: -inf\n",
            "[52]\tvalid_0's multi_logloss: 0.400042\n",
            "[LightGBM] [Warning] No further splits with positive gain, best gain: -inf\n",
            "[LightGBM] [Warning] No further splits with positive gain, best gain: -inf\n",
            "[LightGBM] [Warning] No further splits with positive gain, best gain: -inf\n",
            "[53]\tvalid_0's multi_logloss: 0.398372\n",
            "[LightGBM] [Warning] No further splits with positive gain, best gain: -inf\n",
            "[LightGBM] [Warning] No further splits with positive gain, best gain: -inf\n",
            "[LightGBM] [Warning] No further splits with positive gain, best gain: -inf\n",
            "[54]\tvalid_0's multi_logloss: 0.397074\n",
            "[LightGBM] [Warning] No further splits with positive gain, best gain: -inf\n",
            "[LightGBM] [Warning] No further splits with positive gain, best gain: -inf\n",
            "[LightGBM] [Warning] No further splits with positive gain, best gain: -inf\n",
            "[55]\tvalid_0's multi_logloss: 0.396282\n",
            "[LightGBM] [Warning] No further splits with positive gain, best gain: -inf\n",
            "[LightGBM] [Warning] No further splits with positive gain, best gain: -inf\n",
            "[LightGBM] [Warning] No further splits with positive gain, best gain: -inf\n",
            "[56]\tvalid_0's multi_logloss: 0.3954\n",
            "[LightGBM] [Warning] No further splits with positive gain, best gain: -inf\n",
            "[LightGBM] [Warning] No further splits with positive gain, best gain: -inf\n",
            "[LightGBM] [Warning] No further splits with positive gain, best gain: -inf\n",
            "[57]\tvalid_0's multi_logloss: 0.39465\n",
            "[LightGBM] [Warning] No further splits with positive gain, best gain: -inf\n",
            "[LightGBM] [Warning] No further splits with positive gain, best gain: -inf\n",
            "[LightGBM] [Warning] No further splits with positive gain, best gain: -inf\n",
            "[58]\tvalid_0's multi_logloss: 0.393274\n",
            "[LightGBM] [Warning] No further splits with positive gain, best gain: -inf\n",
            "[LightGBM] [Warning] No further splits with positive gain, best gain: -inf\n",
            "[LightGBM] [Warning] No further splits with positive gain, best gain: -inf\n",
            "[59]\tvalid_0's multi_logloss: 0.391964\n",
            "[LightGBM] [Warning] No further splits with positive gain, best gain: -inf\n",
            "[LightGBM] [Warning] No further splits with positive gain, best gain: -inf\n",
            "[LightGBM] [Warning] No further splits with positive gain, best gain: -inf\n",
            "[60]\tvalid_0's multi_logloss: 0.391749\n",
            "[LightGBM] [Warning] No further splits with positive gain, best gain: -inf\n",
            "[LightGBM] [Warning] No further splits with positive gain, best gain: -inf\n",
            "[LightGBM] [Warning] No further splits with positive gain, best gain: -inf\n",
            "[61]\tvalid_0's multi_logloss: 0.391508\n",
            "[LightGBM] [Warning] No further splits with positive gain, best gain: -inf\n",
            "[LightGBM] [Warning] No further splits with positive gain, best gain: -inf\n",
            "[LightGBM] [Warning] No further splits with positive gain, best gain: -inf\n",
            "[62]\tvalid_0's multi_logloss: 0.391365\n",
            "[LightGBM] [Warning] No further splits with positive gain, best gain: -inf\n",
            "[LightGBM] [Warning] No further splits with positive gain, best gain: -inf\n",
            "[LightGBM] [Warning] No further splits with positive gain, best gain: -inf\n",
            "[63]\tvalid_0's multi_logloss: 0.391173\n",
            "[LightGBM] [Warning] No further splits with positive gain, best gain: -inf\n",
            "[LightGBM] [Warning] No further splits with positive gain, best gain: -inf\n",
            "[LightGBM] [Warning] No further splits with positive gain, best gain: -inf\n",
            "[64]\tvalid_0's multi_logloss: 0.391164\n",
            "[LightGBM] [Warning] No further splits with positive gain, best gain: -inf\n",
            "[LightGBM] [Warning] No further splits with positive gain, best gain: -inf\n",
            "[LightGBM] [Warning] No further splits with positive gain, best gain: -inf\n",
            "[65]\tvalid_0's multi_logloss: 0.39067\n",
            "[LightGBM] [Warning] No further splits with positive gain, best gain: -inf\n",
            "[LightGBM] [Warning] No further splits with positive gain, best gain: -inf\n",
            "[LightGBM] [Warning] No further splits with positive gain, best gain: -inf\n",
            "[66]\tvalid_0's multi_logloss: 0.390819\n",
            "[LightGBM] [Warning] No further splits with positive gain, best gain: -inf\n",
            "[LightGBM] [Warning] No further splits with positive gain, best gain: -inf\n",
            "[LightGBM] [Warning] No further splits with positive gain, best gain: -inf\n",
            "[67]\tvalid_0's multi_logloss: 0.390575\n",
            "[LightGBM] [Warning] No further splits with positive gain, best gain: -inf\n",
            "[LightGBM] [Warning] No further splits with positive gain, best gain: -inf\n",
            "[LightGBM] [Warning] No further splits with positive gain, best gain: -inf\n",
            "[68]\tvalid_0's multi_logloss: 0.389928\n",
            "[LightGBM] [Warning] No further splits with positive gain, best gain: -inf\n",
            "[LightGBM] [Warning] No further splits with positive gain, best gain: -inf\n",
            "[LightGBM] [Warning] No further splits with positive gain, best gain: -inf\n",
            "[69]\tvalid_0's multi_logloss: 0.389249\n",
            "[LightGBM] [Warning] No further splits with positive gain, best gain: -inf\n",
            "[LightGBM] [Warning] No further splits with positive gain, best gain: -inf\n",
            "[LightGBM] [Warning] No further splits with positive gain, best gain: -inf\n",
            "[70]\tvalid_0's multi_logloss: 0.38849\n",
            "[LightGBM] [Warning] No further splits with positive gain, best gain: -inf\n",
            "[LightGBM] [Warning] No further splits with positive gain, best gain: -inf\n",
            "[LightGBM] [Warning] No further splits with positive gain, best gain: -inf\n",
            "[71]\tvalid_0's multi_logloss: 0.387992\n",
            "[LightGBM] [Warning] No further splits with positive gain, best gain: -inf\n",
            "[LightGBM] [Warning] No further splits with positive gain, best gain: -inf\n",
            "[LightGBM] [Warning] No further splits with positive gain, best gain: -inf\n",
            "[72]\tvalid_0's multi_logloss: 0.387999\n",
            "[LightGBM] [Warning] No further splits with positive gain, best gain: -inf\n",
            "[LightGBM] [Warning] No further splits with positive gain, best gain: -inf\n",
            "[LightGBM] [Warning] No further splits with positive gain, best gain: -inf\n",
            "[73]\tvalid_0's multi_logloss: 0.387655\n",
            "[LightGBM] [Warning] No further splits with positive gain, best gain: -inf\n",
            "[LightGBM] [Warning] No further splits with positive gain, best gain: -inf\n",
            "[LightGBM] [Warning] No further splits with positive gain, best gain: -inf\n",
            "[74]\tvalid_0's multi_logloss: 0.387231\n",
            "[LightGBM] [Warning] No further splits with positive gain, best gain: -inf\n",
            "[LightGBM] [Warning] No further splits with positive gain, best gain: -inf\n",
            "[LightGBM] [Warning] No further splits with positive gain, best gain: -inf\n",
            "[75]\tvalid_0's multi_logloss: 0.387283\n",
            "[LightGBM] [Warning] No further splits with positive gain, best gain: -inf\n",
            "[LightGBM] [Warning] No further splits with positive gain, best gain: -inf\n",
            "[LightGBM] [Warning] No further splits with positive gain, best gain: -inf\n",
            "[76]\tvalid_0's multi_logloss: 0.386063\n",
            "[LightGBM] [Warning] No further splits with positive gain, best gain: -inf\n",
            "[LightGBM] [Warning] No further splits with positive gain, best gain: -inf\n",
            "[LightGBM] [Warning] No further splits with positive gain, best gain: -inf\n",
            "[77]\tvalid_0's multi_logloss: 0.386479\n",
            "[LightGBM] [Warning] No further splits with positive gain, best gain: -inf\n",
            "[LightGBM] [Warning] No further splits with positive gain, best gain: -inf\n",
            "[LightGBM] [Warning] No further splits with positive gain, best gain: -inf\n",
            "[78]\tvalid_0's multi_logloss: 0.386104\n",
            "[LightGBM] [Warning] No further splits with positive gain, best gain: -inf\n",
            "[LightGBM] [Warning] No further splits with positive gain, best gain: -inf\n",
            "[LightGBM] [Warning] No further splits with positive gain, best gain: -inf\n",
            "[79]\tvalid_0's multi_logloss: 0.385766\n",
            "[LightGBM] [Warning] No further splits with positive gain, best gain: -inf\n",
            "[LightGBM] [Warning] No further splits with positive gain, best gain: -inf\n",
            "[LightGBM] [Warning] No further splits with positive gain, best gain: -inf\n",
            "[80]\tvalid_0's multi_logloss: 0.385246\n",
            "[LightGBM] [Warning] No further splits with positive gain, best gain: -inf\n",
            "[LightGBM] [Warning] No further splits with positive gain, best gain: -inf\n",
            "[LightGBM] [Warning] No further splits with positive gain, best gain: -inf\n",
            "[81]\tvalid_0's multi_logloss: 0.384857\n",
            "[LightGBM] [Warning] No further splits with positive gain, best gain: -inf\n",
            "[LightGBM] [Warning] No further splits with positive gain, best gain: -inf\n",
            "[LightGBM] [Warning] No further splits with positive gain, best gain: -inf\n",
            "[82]\tvalid_0's multi_logloss: 0.384532\n",
            "[LightGBM] [Warning] No further splits with positive gain, best gain: -inf\n",
            "[LightGBM] [Warning] No further splits with positive gain, best gain: -inf\n",
            "[LightGBM] [Warning] No further splits with positive gain, best gain: -inf\n",
            "[83]\tvalid_0's multi_logloss: 0.384477\n",
            "[LightGBM] [Warning] No further splits with positive gain, best gain: -inf\n",
            "[LightGBM] [Warning] No further splits with positive gain, best gain: -inf\n",
            "[LightGBM] [Warning] No further splits with positive gain, best gain: -inf\n",
            "[84]\tvalid_0's multi_logloss: 0.383595\n",
            "[LightGBM] [Warning] No further splits with positive gain, best gain: -inf\n",
            "[LightGBM] [Warning] No further splits with positive gain, best gain: -inf\n",
            "[LightGBM] [Warning] No further splits with positive gain, best gain: -inf\n",
            "[85]\tvalid_0's multi_logloss: 0.383176\n",
            "[LightGBM] [Warning] No further splits with positive gain, best gain: -inf\n",
            "[LightGBM] [Warning] No further splits with positive gain, best gain: -inf\n",
            "[LightGBM] [Warning] No further splits with positive gain, best gain: -inf\n",
            "[86]\tvalid_0's multi_logloss: 0.382827\n",
            "[LightGBM] [Warning] No further splits with positive gain, best gain: -inf\n",
            "[LightGBM] [Warning] No further splits with positive gain, best gain: -inf\n",
            "[LightGBM] [Warning] No further splits with positive gain, best gain: -inf\n",
            "[87]\tvalid_0's multi_logloss: 0.382414\n",
            "[LightGBM] [Warning] No further splits with positive gain, best gain: -inf\n",
            "[LightGBM] [Warning] No further splits with positive gain, best gain: -inf\n",
            "[LightGBM] [Warning] No further splits with positive gain, best gain: -inf\n",
            "[88]\tvalid_0's multi_logloss: 0.382051\n",
            "[LightGBM] [Warning] No further splits with positive gain, best gain: -inf\n",
            "[LightGBM] [Warning] No further splits with positive gain, best gain: -inf\n",
            "[LightGBM] [Warning] No further splits with positive gain, best gain: -inf\n",
            "[89]\tvalid_0's multi_logloss: 0.382463\n",
            "[LightGBM] [Warning] No further splits with positive gain, best gain: -inf\n",
            "[LightGBM] [Warning] No further splits with positive gain, best gain: -inf\n",
            "[LightGBM] [Warning] No further splits with positive gain, best gain: -inf\n",
            "[90]\tvalid_0's multi_logloss: 0.381704\n",
            "[LightGBM] [Warning] No further splits with positive gain, best gain: -inf\n",
            "[LightGBM] [Warning] No further splits with positive gain, best gain: -inf\n",
            "[LightGBM] [Warning] No further splits with positive gain, best gain: -inf\n",
            "[91]\tvalid_0's multi_logloss: 0.381562\n",
            "[LightGBM] [Warning] No further splits with positive gain, best gain: -inf\n",
            "[LightGBM] [Warning] No further splits with positive gain, best gain: -inf\n",
            "[LightGBM] [Warning] No further splits with positive gain, best gain: -inf\n",
            "[92]\tvalid_0's multi_logloss: 0.381173\n",
            "[LightGBM] [Warning] No further splits with positive gain, best gain: -inf\n",
            "[LightGBM] [Warning] No further splits with positive gain, best gain: -inf\n",
            "[LightGBM] [Warning] No further splits with positive gain, best gain: -inf\n",
            "[93]\tvalid_0's multi_logloss: 0.381131\n",
            "[LightGBM] [Warning] No further splits with positive gain, best gain: -inf\n",
            "[LightGBM] [Warning] No further splits with positive gain, best gain: -inf\n",
            "[LightGBM] [Warning] No further splits with positive gain, best gain: -inf\n",
            "[94]\tvalid_0's multi_logloss: 0.380975\n",
            "[LightGBM] [Warning] No further splits with positive gain, best gain: -inf\n",
            "[LightGBM] [Warning] No further splits with positive gain, best gain: -inf\n",
            "[LightGBM] [Warning] No further splits with positive gain, best gain: -inf\n",
            "[95]\tvalid_0's multi_logloss: 0.380465\n",
            "[LightGBM] [Warning] No further splits with positive gain, best gain: -inf\n",
            "[LightGBM] [Warning] No further splits with positive gain, best gain: -inf\n",
            "[LightGBM] [Warning] No further splits with positive gain, best gain: -inf\n",
            "[96]\tvalid_0's multi_logloss: 0.380135\n",
            "[LightGBM] [Warning] No further splits with positive gain, best gain: -inf\n",
            "[LightGBM] [Warning] No further splits with positive gain, best gain: -inf\n",
            "[LightGBM] [Warning] No further splits with positive gain, best gain: -inf\n",
            "[97]\tvalid_0's multi_logloss: 0.380652\n",
            "[LightGBM] [Warning] No further splits with positive gain, best gain: -inf\n",
            "[LightGBM] [Warning] No further splits with positive gain, best gain: -inf\n",
            "[LightGBM] [Warning] No further splits with positive gain, best gain: -inf\n",
            "[98]\tvalid_0's multi_logloss: 0.381308\n",
            "[LightGBM] [Warning] No further splits with positive gain, best gain: -inf\n",
            "[LightGBM] [Warning] No further splits with positive gain, best gain: -inf\n",
            "[LightGBM] [Warning] No further splits with positive gain, best gain: -inf\n",
            "[99]\tvalid_0's multi_logloss: 0.382147\n",
            "[LightGBM] [Warning] No further splits with positive gain, best gain: -inf\n",
            "[LightGBM] [Warning] No further splits with positive gain, best gain: -inf\n",
            "[LightGBM] [Warning] No further splits with positive gain, best gain: -inf\n",
            "[100]\tvalid_0's multi_logloss: 0.381919\n",
            "{'objective': 'multiclass', 'metric': 'multi_logloss', 'num_class': 3, 'num_leaves': 31, 'learning_rate': 0.05, 'max_depth': 5, 'min_data_in_leaf': 10, 'num_threads': 2, 'num_iterations': 100}\n"
          ]
        }
      ]
    },
    {
      "cell_type": "markdown",
      "source": [
        "#### Predictions and Evaluation\n",
        "\n"
      ],
      "metadata": {
        "id": "Gp7pWvYaZS7T"
      }
    },
    {
      "cell_type": "code",
      "source": [
        "# Predictions and evaluation for initial model\n",
        "yhat_train = initial_model.predict(X_train)\n",
        "yhat_test = initial_model.predict(X_test)\n",
        "yhat_train_pred = np.argmax(yhat_train, axis=1)\n",
        "yhat_test_pred = np.argmax(yhat_test, axis=1)\n",
        "\n",
        "# Calculate accuracy and log loss\n",
        "accuracy_train_initial = accuracy_score(y_train, yhat_train_pred)\n",
        "accuracy_test_initial = accuracy_score(y_test, yhat_test_pred)\n",
        "logloss_train_initial = log_loss(y_train, yhat_train)\n",
        "logloss_test_initial = log_loss(y_test, yhat_test)\n",
        "\n",
        "# Output results\n",
        "print(\"\\nInitial Model Performance:\")\n",
        "print(f\"Training Accuracy: {accuracy_train_initial:.6f}\")\n",
        "print(f\"Test Accuracy: {accuracy_test_initial:.6f}\")\n",
        "print(f\"Training Log Loss: {logloss_train_initial:.6f}\")\n",
        "print(f\"Test Log Loss: {logloss_test_initial:.6f}\")"
      ],
      "metadata": {
        "colab": {
          "base_uri": "https://localhost:8080/"
        },
        "id": "D3Kv94NoZTyA",
        "outputId": "c4fefab2-bce1-4f3d-f98a-6df3ab884fb5"
      },
      "execution_count": 23,
      "outputs": [
        {
          "output_type": "stream",
          "name": "stdout",
          "text": [
            "\n",
            "Initial Model Performance:\n",
            "Training Accuracy: 0.879374\n",
            "Test Accuracy: 0.801105\n",
            "Training Log Loss: 0.270373\n",
            "Test Log Loss: 0.380135\n"
          ]
        }
      ]
    },
    {
      "cell_type": "markdown",
      "source": [
        "#### Feature Importance\n",
        "\n"
      ],
      "metadata": {
        "id": "a-JpJLkCZbAz"
      }
    },
    {
      "cell_type": "code",
      "source": [
        "# Feature importance for initial model\n",
        "importance_initial = initial_model.feature_importance(importance_type='gain')\n",
        "feature_names = X_train.columns\n",
        "\n",
        "importance_initial_df = pd.DataFrame({'Feature': feature_names, 'Gain': importance_initial})\n",
        "importance_initial_df = importance_initial_df.sort_values(by='Gain', ascending=False)\n",
        "\n",
        "plt.figure(figsize=(8, 6))\n",
        "sns.barplot(x='Gain', y='Feature', data=importance_initial_df, color='#1f77b4')\n",
        "plt.title(\"Initial LightGBM Feature Importance (Gain)\")\n",
        "plt.xlabel(\"Gain\")\n",
        "plt.ylabel(\"Feature\")\n",
        "plt.tight_layout()\n",
        "plt.show()"
      ],
      "metadata": {
        "colab": {
          "base_uri": "https://localhost:8080/",
          "height": 607
        },
        "id": "lWflJ_FPZoso",
        "outputId": "42829054-7cb7-4ab5-9bf2-e5ecdbd3b645"
      },
      "execution_count": 25,
      "outputs": [
        {
          "output_type": "display_data",
          "data": {
            "text/plain": [
              "<Figure size 800x600 with 1 Axes>"
            ],
            "image/png": "[encoded data removed]"
          },
          "metadata": {}
        }
      ]
    },
    {
      "cell_type": "markdown",
      "source": [
        "#### Hyperparameter Tuning for the Best Parameters\n",
        "\n",
        "To find the best parameters for the LightGBM classification model, we will perform a grid search over key hyperparameters (`num_leaves`, `learning_rate`, `max_depth`, `min_data_in_leaf`) using 5-fold cross-validation. This will help us optimize the multi-class log loss metric."
      ],
      "metadata": {
        "id": "A0Z8ixpisWlz"
      }
    },
    {
      "cell_type": "markdown",
      "source": [
        "##### Define Parameter Grid and Initialize Variables"
      ],
      "metadata": {
        "id": "F2QUmf8mfUkf"
      }
    },
    {
      "cell_type": "code",
      "source": [
        "from sklearn.model_selection import GridSearchCV\n",
        "import lightgbm as lgb\n",
        "import pandas as pd\n",
        "import numpy as np\n",
        "\n",
        "# Define parameter grid for grid search\n",
        "param_grid = {\n",
        "    'num_leaves': [20, 31, 50],\n",
        "    'learning_rate': [0.01, 0.05, 0.1],\n",
        "    'max_depth': [3, 5, 7],\n",
        "    'min_data_in_leaf': [10, 20]\n",
        "}\n",
        "\n",
        "# Initialize GridSearchCV\n",
        "gbm = lgb.LGBMClassifier(objective='multiclass', num_class=3, random_state=123)\n",
        "\n",
        "grid_search = GridSearchCV(\n",
        "    estimator=gbm,\n",
        "    param_grid=param_grid,\n",
        "    scoring='neg_log_loss',  # Optimize for negative log loss\n",
        "    cv=5,  # 5-fold cross-validation\n",
        "    verbose=1,\n",
        "    n_jobs=-1 # Use all available cores\n",
        ")\n",
        "\n",
        "# Perform grid search\n",
        "grid_search.fit(X_train, y_train)\n",
        "\n",
        "# Initialize variables to store best parameters and log loss\n",
        "best_logloss = -grid_search.best_score_ # Convert negative log loss back to positive\n",
        "best_params = grid_search.best_params_\n",
        "\n",
        "# Store results (optional, can access through grid_search.cv_results_)\n",
        "results = pd.DataFrame(grid_search.cv_results_)\n",
        "results = results[['param_num_leaves', 'param_learning_rate', 'param_max_depth', 'param_min_data_in_leaf', 'mean_test_score']]\n",
        "results['mean_test_score'] = -results['mean_test_score'] # Convert negative log loss to positive\n",
        "results.rename(columns={'param_num_leaves': 'num_leaves',\n",
        "                        'param_learning_rate': 'learning_rate',\n",
        "                        'param_max_depth': 'max_depth',\n",
        "                        'param_min_data_in_leaf': 'min_data_in_leaf',\n",
        "                        'mean_test_score': 'cv_logloss'}, inplace=True)\n",
        "\n",
        "print(f\"Grid search finished. Best CV Log Loss: {best_logloss:.6f}\")"
      ],
      "metadata": {
        "id": "vW5ihdntsYep"
      },
      "execution_count": null,
      "outputs": []
    },
    {
      "cell_type": "markdown",
      "source": [
        "##### The Best Parameters"
      ],
      "metadata": {
        "id": "0SlcKgW5fgwT"
      }
    },
    {
      "cell_type": "code",
      "source": [
        "# The Best Parameters\n",
        "print(\"\\nBest Parameters from Grid Search:\")\n",
        "print(grid_search.best_params_)"
      ],
      "metadata": {
        "colab": {
          "base_uri": "https://localhost:8080/"
        },
        "id": "EeHbzkR_tbp0",
        "outputId": "d0530d24-1f5c-4b6f-f93a-f34c0b923c2d"
      },
      "execution_count": 28,
      "outputs": [
        {
          "output_type": "stream",
          "name": "stdout",
          "text": [
            "\n",
            "Best Parameters from Grid Search:\n",
            "{'learning_rate': 0.1, 'max_depth': 3, 'min_data_in_leaf': 10, 'num_leaves': 20}\n"
          ]
        }
      ]
    },
    {
      "cell_type": "markdown",
      "source": [
        "##### Train and Validate Model with Best Parameters"
      ],
      "metadata": {
        "id": "dd8rbCCouCwY"
      }
    },
    {
      "cell_type": "code",
      "source": [
        "# Train final model with best parameters\n",
        "final_model = lgb.LGBMClassifier(**grid_search.best_params_, objective='multiclass', num_class=3, random_state=123)\n",
        "\n",
        "final_model.fit(X_train, y_train,\n",
        "                eval_set=[(X_test, y_test)],\n",
        "                eval_metric='multi_logloss',\n",
        "                callbacks=[lgb.early_stopping(stopping_rounds=50, verbose=False), lgb.log_evaluation(period=100)])\n",
        "\n",
        "print(final_model.get_params())"
      ],
      "metadata": {
        "colab": {
          "base_uri": "https://localhost:8080/"
        },
        "id": "SPm6NZeguFOT",
        "outputId": "b00d14cf-3358-4547-e69e-8449fcbcd65b"
      },
      "execution_count": 30,
      "outputs": [
        {
          "output_type": "stream",
          "name": "stdout",
          "text": [
            "[LightGBM] [Warning] min_data_in_leaf is set=10, min_child_samples=20 will be ignored. Current value: min_data_in_leaf=10\n",
            "[LightGBM] [Warning] min_data_in_leaf is set=10, min_child_samples=20 will be ignored. Current value: min_data_in_leaf=10\n",
            "[LightGBM] [Info] Auto-choosing col-wise multi-threading, the overhead of testing was 0.000083 seconds.\n",
            "You can set `force_col_wise=true` to remove the overhead.\n",
            "[LightGBM] [Info] Total Bins 96\n",
            "[LightGBM] [Info] Number of data points in the train set: 1086, number of used features: 5\n",
            "[LightGBM] [Warning] min_data_in_leaf is set=10, min_child_samples=20 will be ignored. Current value: min_data_in_leaf=10\n",
            "[LightGBM] [Info] Start training from score -1.076753\n",
            "[LightGBM] [Info] Start training from score -1.152526\n",
            "[LightGBM] [Info] Start training from score -1.068678\n",
            "[LightGBM] [Warning] No further splits with positive gain, best gain: -inf\n",
            "[LightGBM] [Warning] No further splits with positive gain, best gain: -inf\n",
            "[LightGBM] [Warning] No further splits with positive gain, best gain: -inf\n",
            "[LightGBM] [Warning] No further splits with positive gain, best gain: -inf\n",
            "[LightGBM] [Warning] No further splits with positive gain, best gain: -inf\n",
            "[LightGBM] [Warning] No further splits with positive gain, best gain: -inf\n",
            "[LightGBM] [Warning] No further splits with positive gain, best gain: -inf\n",
            "[LightGBM] [Warning] No further splits with positive gain, best gain: -inf\n",
            "[LightGBM] [Warning] No further splits with positive gain, best gain: -inf\n",
            "[LightGBM] [Warning] No further splits with positive gain, best gain: -inf\n",
            "[LightGBM] [Warning] No further splits with positive gain, best gain: -inf\n",
            "[LightGBM] [Warning] No further splits with positive gain, best gain: -inf\n",
            "[LightGBM] [Warning] No further splits with positive gain, best gain: -inf\n",
            "[LightGBM] [Warning] No further splits with positive gain, best gain: -inf\n",
            "[LightGBM] [Warning] No further splits with positive gain, best gain: -inf\n",
            "[LightGBM] [Warning] No further splits with positive gain, best gain: -inf\n",
            "[LightGBM] [Warning] No further splits with positive gain, best gain: -inf\n",
            "[LightGBM] [Warning] No further splits with positive gain, best gain: -inf\n",
            "[LightGBM] [Warning] No further splits with positive gain, best gain: -inf\n",
            "[LightGBM] [Warning] No further splits with positive gain, best gain: -inf\n",
            "[LightGBM] [Warning] No further splits with positive gain, best gain: -inf\n",
            "[LightGBM] [Warning] No further splits with positive gain, best gain: -inf\n",
            "[LightGBM] [Warning] No further splits with positive gain, best gain: -inf\n",
            "[LightGBM] [Warning] No further splits with positive gain, best gain: -inf\n",
            "[LightGBM] [Warning] No further splits with positive gain, best gain: -inf\n",
            "[LightGBM] [Warning] No further splits with positive gain, best gain: -inf\n",
            "[LightGBM] [Warning] No further splits with positive gain, best gain: -inf\n",
            "[LightGBM] [Warning] No further splits with positive gain, best gain: -inf\n",
            "[LightGBM] [Warning] No further splits with positive gain, best gain: -inf\n",
            "[LightGBM] [Warning] No further splits with positive gain, best gain: -inf\n",
            "[LightGBM] [Warning] No further splits with positive gain, best gain: -inf\n",
            "[LightGBM] [Warning] No further splits with positive gain, best gain: -inf\n",
            "[LightGBM] [Warning] No further splits with positive gain, best gain: -inf\n",
            "[LightGBM] [Warning] No further splits with positive gain, best gain: -inf\n",
            "[LightGBM] [Warning] No further splits with positive gain, best gain: -inf\n",
            "[LightGBM] [Warning] No further splits with positive gain, best gain: -inf\n",
            "[LightGBM] [Warning] No further splits with positive gain, best gain: -inf\n",
            "[LightGBM] [Warning] No further splits with positive gain, best gain: -inf\n",
            "[LightGBM] [Warning] No further splits with positive gain, best gain: -inf\n",
            "[LightGBM] [Warning] No further splits with positive gain, best gain: -inf\n",
            "[LightGBM] [Warning] No further splits with positive gain, best gain: -inf\n",
            "[LightGBM] [Warning] No further splits with positive gain, best gain: -inf\n",
            "[LightGBM] [Warning] No further splits with positive gain, best gain: -inf\n",
            "[LightGBM] [Warning] No further splits with positive gain, best gain: -inf\n",
            "[LightGBM] [Warning] No further splits with positive gain, best gain: -inf\n",
            "[LightGBM] [Warning] No further splits with positive gain, best gain: -inf\n",
            "[LightGBM] [Warning] No further splits with positive gain, best gain: -inf\n",
            "[LightGBM] [Warning] No further splits with positive gain, best gain: -inf\n",
            "[LightGBM] [Warning] No further splits with positive gain, best gain: -inf\n",
            "[LightGBM] [Warning] No further splits with positive gain, best gain: -inf\n",
            "[LightGBM] [Warning] No further splits with positive gain, best gain: -inf\n",
            "[LightGBM] [Warning] No further splits with positive gain, best gain: -inf\n",
            "[LightGBM] [Warning] No further splits with positive gain, best gain: -inf\n",
            "[LightGBM] [Warning] No further splits with positive gain, best gain: -inf\n",
            "[LightGBM] [Warning] No further splits with positive gain, best gain: -inf\n",
            "[LightGBM] [Warning] No further splits with positive gain, best gain: -inf\n",
            "[LightGBM] [Warning] No further splits with positive gain, best gain: -inf\n",
            "[LightGBM] [Warning] No further splits with positive gain, best gain: -inf\n",
            "[LightGBM] [Warning] No further splits with positive gain, best gain: -inf\n",
            "[LightGBM] [Warning] No further splits with positive gain, best gain: -inf\n",
            "[LightGBM] [Warning] No further splits with positive gain, best gain: -inf\n",
            "[LightGBM] [Warning] No further splits with positive gain, best gain: -inf\n",
            "[LightGBM] [Warning] No further splits with positive gain, best gain: -inf\n",
            "[LightGBM] [Warning] No further splits with positive gain, best gain: -inf\n",
            "[LightGBM] [Warning] No further splits with positive gain, best gain: -inf\n",
            "[LightGBM] [Warning] No further splits with positive gain, best gain: -inf\n",
            "[LightGBM] [Warning] No further splits with positive gain, best gain: -inf\n",
            "[LightGBM] [Warning] No further splits with positive gain, best gain: -inf\n",
            "[LightGBM] [Warning] No further splits with positive gain, best gain: -inf\n",
            "[LightGBM] [Warning] No further splits with positive gain, best gain: -inf\n",
            "[LightGBM] [Warning] No further splits with positive gain, best gain: -inf\n",
            "[LightGBM] [Warning] No further splits with positive gain, best gain: -inf\n",
            "[LightGBM] [Warning] No further splits with positive gain, best gain: -inf\n",
            "[LightGBM] [Warning] No further splits with positive gain, best gain: -inf\n",
            "[LightGBM] [Warning] No further splits with positive gain, best gain: -inf\n",
            "[LightGBM] [Warning] No further splits with positive gain, best gain: -inf\n",
            "[LightGBM] [Warning] No further splits with positive gain, best gain: -inf\n",
            "[LightGBM] [Warning] No further splits with positive gain, best gain: -inf\n",
            "[LightGBM] [Warning] No further splits with positive gain, best gain: -inf\n",
            "[LightGBM] [Warning] No further splits with positive gain, best gain: -inf\n",
            "[LightGBM] [Warning] No further splits with positive gain, best gain: -inf\n",
            "[LightGBM] [Warning] No further splits with positive gain, best gain: -inf\n",
            "[LightGBM] [Warning] No further splits with positive gain, best gain: -inf\n",
            "[LightGBM] [Warning] No further splits with positive gain, best gain: -inf\n",
            "[LightGBM] [Warning] No further splits with positive gain, best gain: -inf\n",
            "[LightGBM] [Warning] No further splits with positive gain, best gain: -inf\n",
            "[LightGBM] [Warning] No further splits with positive gain, best gain: -inf\n",
            "[LightGBM] [Warning] No further splits with positive gain, best gain: -inf\n",
            "[LightGBM] [Warning] No further splits with positive gain, best gain: -inf\n",
            "[LightGBM] [Warning] No further splits with positive gain, best gain: -inf\n",
            "[LightGBM] [Warning] No further splits with positive gain, best gain: -inf\n",
            "[LightGBM] [Warning] No further splits with positive gain, best gain: -inf\n",
            "[LightGBM] [Warning] No further splits with positive gain, best gain: -inf\n",
            "[LightGBM] [Warning] No further splits with positive gain, best gain: -inf\n",
            "[LightGBM] [Warning] No further splits with positive gain, best gain: -inf\n",
            "[LightGBM] [Warning] No further splits with positive gain, best gain: -inf\n",
            "[LightGBM] [Warning] No further splits with positive gain, best gain: -inf\n",
            "[LightGBM] [Warning] No further splits with positive gain, best gain: -inf\n",
            "[LightGBM] [Warning] No further splits with positive gain, best gain: -inf\n",
            "[LightGBM] [Warning] No further splits with positive gain, best gain: -inf\n",
            "[LightGBM] [Warning] No further splits with positive gain, best gain: -inf\n",
            "[LightGBM] [Warning] No further splits with positive gain, best gain: -inf\n",
            "[LightGBM] [Warning] No further splits with positive gain, best gain: -inf\n",
            "[LightGBM] [Warning] No further splits with positive gain, best gain: -inf\n",
            "[LightGBM] [Warning] No further splits with positive gain, best gain: -inf\n",
            "[LightGBM] [Warning] No further splits with positive gain, best gain: -inf\n",
            "[LightGBM] [Warning] No further splits with positive gain, best gain: -inf\n",
            "[LightGBM] [Warning] No further splits with positive gain, best gain: -inf\n",
            "[LightGBM] [Warning] No further splits with positive gain, best gain: -inf\n",
            "[LightGBM] [Warning] No further splits with positive gain, best gain: -inf\n",
            "[LightGBM] [Warning] No further splits with positive gain, best gain: -inf\n",
            "[LightGBM] [Warning] No further splits with positive gain, best gain: -inf\n",
            "[LightGBM] [Warning] No further splits with positive gain, best gain: -inf\n",
            "[LightGBM] [Warning] No further splits with positive gain, best gain: -inf\n",
            "[LightGBM] [Warning] No further splits with positive gain, best gain: -inf\n",
            "[LightGBM] [Warning] No further splits with positive gain, best gain: -inf\n",
            "[LightGBM] [Warning] No further splits with positive gain, best gain: -inf\n",
            "[LightGBM] [Warning] No further splits with positive gain, best gain: -inf\n",
            "[LightGBM] [Warning] No further splits with positive gain, best gain: -inf\n",
            "[LightGBM] [Warning] No further splits with positive gain, best gain: -inf\n",
            "[LightGBM] [Warning] No further splits with positive gain, best gain: -inf\n",
            "[LightGBM] [Warning] No further splits with positive gain, best gain: -inf\n",
            "[LightGBM] [Warning] No further splits with positive gain, best gain: -inf\n",
            "[LightGBM] [Warning] No further splits with positive gain, best gain: -inf\n",
            "[LightGBM] [Warning] No further splits with positive gain, best gain: -inf\n",
            "[LightGBM] [Warning] No further splits with positive gain, best gain: -inf\n",
            "[LightGBM] [Warning] No further splits with positive gain, best gain: -inf\n",
            "[LightGBM] [Warning] No further splits with positive gain, best gain: -inf\n",
            "[LightGBM] [Warning] No further splits with positive gain, best gain: -inf\n",
            "[LightGBM] [Warning] No further splits with positive gain, best gain: -inf\n",
            "[LightGBM] [Warning] No further splits with positive gain, best gain: -inf\n",
            "[LightGBM] [Warning] No further splits with positive gain, best gain: -inf\n",
            "[LightGBM] [Warning] No further splits with positive gain, best gain: -inf\n",
            "[LightGBM] [Warning] No further splits with positive gain, best gain: -inf\n",
            "[LightGBM] [Warning] No further splits with positive gain, best gain: -inf\n",
            "[LightGBM] [Warning] No further splits with positive gain, best gain: -inf\n",
            "[LightGBM] [Warning] No further splits with positive gain, best gain: -inf\n",
            "[LightGBM] [Warning] No further splits with positive gain, best gain: -inf\n",
            "[LightGBM] [Warning] No further splits with positive gain, best gain: -inf\n",
            "[LightGBM] [Warning] No further splits with positive gain, best gain: -inf\n",
            "[LightGBM] [Warning] No further splits with positive gain, best gain: -inf\n",
            "[LightGBM] [Warning] No further splits with positive gain, best gain: -inf\n",
            "[LightGBM] [Warning] No further splits with positive gain, best gain: -inf\n",
            "[LightGBM] [Warning] No further splits with positive gain, best gain: -inf\n",
            "[LightGBM] [Warning] No further splits with positive gain, best gain: -inf\n",
            "[LightGBM] [Warning] No further splits with positive gain, best gain: -inf\n",
            "[LightGBM] [Warning] No further splits with positive gain, best gain: -inf\n",
            "[LightGBM] [Warning] No further splits with positive gain, best gain: -inf\n",
            "[LightGBM] [Warning] No further splits with positive gain, best gain: -inf\n",
            "[LightGBM] [Warning] No further splits with positive gain, best gain: -inf\n",
            "[LightGBM] [Warning] No further splits with positive gain, best gain: -inf\n",
            "[LightGBM] [Warning] No further splits with positive gain, best gain: -inf\n",
            "[LightGBM] [Warning] No further splits with positive gain, best gain: -inf\n",
            "[LightGBM] [Warning] No further splits with positive gain, best gain: -inf\n",
            "[LightGBM] [Warning] No further splits with positive gain, best gain: -inf\n",
            "[LightGBM] [Warning] No further splits with positive gain, best gain: -inf\n",
            "[LightGBM] [Warning] No further splits with positive gain, best gain: -inf\n",
            "[LightGBM] [Warning] No further splits with positive gain, best gain: -inf\n",
            "[LightGBM] [Warning] No further splits with positive gain, best gain: -inf\n",
            "[LightGBM] [Warning] No further splits with positive gain, best gain: -inf\n",
            "[LightGBM] [Warning] No further splits with positive gain, best gain: -inf\n",
            "[LightGBM] [Warning] No further splits with positive gain, best gain: -inf\n",
            "[LightGBM] [Warning] No further splits with positive gain, best gain: -inf\n",
            "[LightGBM] [Warning] No further splits with positive gain, best gain: -inf\n",
            "[LightGBM] [Warning] No further splits with positive gain, best gain: -inf\n",
            "[LightGBM] [Warning] No further splits with positive gain, best gain: -inf\n",
            "[LightGBM] [Warning] No further splits with positive gain, best gain: -inf\n",
            "[LightGBM] [Warning] No further splits with positive gain, best gain: -inf\n",
            "[LightGBM] [Warning] No further splits with positive gain, best gain: -inf\n",
            "[LightGBM] [Warning] No further splits with positive gain, best gain: -inf\n",
            "[LightGBM] [Warning] No further splits with positive gain, best gain: -inf\n",
            "[LightGBM] [Warning] No further splits with positive gain, best gain: -inf\n",
            "[LightGBM] [Warning] No further splits with positive gain, best gain: -inf\n",
            "[LightGBM] [Warning] No further splits with positive gain, best gain: -inf\n",
            "[LightGBM] [Warning] No further splits with positive gain, best gain: -inf\n",
            "[LightGBM] [Warning] No further splits with positive gain, best gain: -inf\n",
            "[LightGBM] [Warning] No further splits with positive gain, best gain: -inf\n",
            "[LightGBM] [Warning] No further splits with positive gain, best gain: -inf\n",
            "[LightGBM] [Warning] No further splits with positive gain, best gain: -inf\n",
            "[LightGBM] [Warning] No further splits with positive gain, best gain: -inf\n",
            "[LightGBM] [Warning] No further splits with positive gain, best gain: -inf\n",
            "[LightGBM] [Warning] No further splits with positive gain, best gain: -inf\n",
            "[LightGBM] [Warning] No further splits with positive gain, best gain: -inf\n",
            "[LightGBM] [Warning] No further splits with positive gain, best gain: -inf\n",
            "[LightGBM] [Warning] No further splits with positive gain, best gain: -inf\n",
            "[LightGBM] [Warning] No further splits with positive gain, best gain: -inf\n",
            "[LightGBM] [Warning] No further splits with positive gain, best gain: -inf\n",
            "[LightGBM] [Warning] No further splits with positive gain, best gain: -inf\n",
            "[LightGBM] [Warning] No further splits with positive gain, best gain: -inf\n",
            "[LightGBM] [Warning] No further splits with positive gain, best gain: -inf\n",
            "[LightGBM] [Warning] No further splits with positive gain, best gain: -inf\n",
            "[LightGBM] [Warning] No further splits with positive gain, best gain: -inf\n",
            "[LightGBM] [Warning] No further splits with positive gain, best gain: -inf\n",
            "[LightGBM] [Warning] No further splits with positive gain, best gain: -inf\n",
            "[LightGBM] [Warning] No further splits with positive gain, best gain: -inf\n",
            "[LightGBM] [Warning] No further splits with positive gain, best gain: -inf\n",
            "[LightGBM] [Warning] No further splits with positive gain, best gain: -inf\n",
            "[LightGBM] [Warning] No further splits with positive gain, best gain: -inf\n",
            "[LightGBM] [Warning] No further splits with positive gain, best gain: -inf\n",
            "[LightGBM] [Warning] No further splits with positive gain, best gain: -inf\n",
            "[LightGBM] [Warning] No further splits with positive gain, best gain: -inf\n",
            "[LightGBM] [Warning] No further splits with positive gain, best gain: -inf\n",
            "[LightGBM] [Warning] No further splits with positive gain, best gain: -inf\n",
            "[LightGBM] [Warning] No further splits with positive gain, best gain: -inf\n",
            "[LightGBM] [Warning] No further splits with positive gain, best gain: -inf\n",
            "[LightGBM] [Warning] No further splits with positive gain, best gain: -inf\n",
            "[LightGBM] [Warning] No further splits with positive gain, best gain: -inf\n",
            "[LightGBM] [Warning] No further splits with positive gain, best gain: -inf\n",
            "[LightGBM] [Warning] No further splits with positive gain, best gain: -inf\n",
            "[LightGBM] [Warning] No further splits with positive gain, best gain: -inf\n",
            "[LightGBM] [Warning] No further splits with positive gain, best gain: -inf\n",
            "[LightGBM] [Warning] No further splits with positive gain, best gain: -inf\n",
            "[LightGBM] [Warning] No further splits with positive gain, best gain: -inf\n",
            "[LightGBM] [Warning] No further splits with positive gain, best gain: -inf\n",
            "[LightGBM] [Warning] No further splits with positive gain, best gain: -inf\n",
            "[LightGBM] [Warning] No further splits with positive gain, best gain: -inf\n",
            "[LightGBM] [Warning] No further splits with positive gain, best gain: -inf\n",
            "[LightGBM] [Warning] No further splits with positive gain, best gain: -inf\n",
            "[LightGBM] [Warning] No further splits with positive gain, best gain: -inf\n",
            "[LightGBM] [Warning] No further splits with positive gain, best gain: -inf\n",
            "[LightGBM] [Warning] No further splits with positive gain, best gain: -inf\n",
            "[LightGBM] [Warning] No further splits with positive gain, best gain: -inf\n",
            "[LightGBM] [Warning] No further splits with positive gain, best gain: -inf\n",
            "[LightGBM] [Warning] No further splits with positive gain, best gain: -inf\n",
            "[LightGBM] [Warning] No further splits with positive gain, best gain: -inf\n",
            "[LightGBM] [Warning] No further splits with positive gain, best gain: -inf\n",
            "[LightGBM] [Warning] No further splits with positive gain, best gain: -inf\n",
            "[LightGBM] [Warning] No further splits with positive gain, best gain: -inf\n",
            "[LightGBM] [Warning] No further splits with positive gain, best gain: -inf\n",
            "[LightGBM] [Warning] No further splits with positive gain, best gain: -inf\n",
            "[LightGBM] [Warning] No further splits with positive gain, best gain: -inf\n",
            "[LightGBM] [Warning] No further splits with positive gain, best gain: -inf\n",
            "[LightGBM] [Warning] No further splits with positive gain, best gain: -inf\n",
            "[LightGBM] [Warning] No further splits with positive gain, best gain: -inf\n",
            "[LightGBM] [Warning] No further splits with positive gain, best gain: -inf\n",
            "[LightGBM] [Warning] No further splits with positive gain, best gain: -inf\n",
            "[LightGBM] [Warning] No further splits with positive gain, best gain: -inf\n",
            "[LightGBM] [Warning] No further splits with positive gain, best gain: -inf\n",
            "[LightGBM] [Warning] No further splits with positive gain, best gain: -inf\n",
            "[LightGBM] [Warning] No further splits with positive gain, best gain: -inf\n",
            "[LightGBM] [Warning] No further splits with positive gain, best gain: -inf\n",
            "[LightGBM] [Warning] No further splits with positive gain, best gain: -inf\n",
            "[LightGBM] [Warning] No further splits with positive gain, best gain: -inf\n",
            "[LightGBM] [Warning] No further splits with positive gain, best gain: -inf\n",
            "[LightGBM] [Warning] No further splits with positive gain, best gain: -inf\n",
            "[LightGBM] [Warning] No further splits with positive gain, best gain: -inf\n",
            "[LightGBM] [Warning] No further splits with positive gain, best gain: -inf\n",
            "[LightGBM] [Warning] No further splits with positive gain, best gain: -inf\n",
            "[LightGBM] [Warning] No further splits with positive gain, best gain: -inf\n",
            "[LightGBM] [Warning] No further splits with positive gain, best gain: -inf\n",
            "[LightGBM] [Warning] No further splits with positive gain, best gain: -inf\n",
            "[LightGBM] [Warning] No further splits with positive gain, best gain: -inf\n",
            "[LightGBM] [Warning] No further splits with positive gain, best gain: -inf\n",
            "[LightGBM] [Warning] No further splits with positive gain, best gain: -inf\n",
            "[LightGBM] [Warning] No further splits with positive gain, best gain: -inf\n",
            "[LightGBM] [Warning] No further splits with positive gain, best gain: -inf\n",
            "[LightGBM] [Warning] No further splits with positive gain, best gain: -inf\n",
            "[LightGBM] [Warning] No further splits with positive gain, best gain: -inf\n",
            "[LightGBM] [Warning] No further splits with positive gain, best gain: -inf\n",
            "[LightGBM] [Warning] No further splits with positive gain, best gain: -inf\n",
            "[LightGBM] [Warning] No further splits with positive gain, best gain: -inf\n",
            "[LightGBM] [Warning] No further splits with positive gain, best gain: -inf\n",
            "[LightGBM] [Warning] No further splits with positive gain, best gain: -inf\n",
            "[LightGBM] [Warning] No further splits with positive gain, best gain: -inf\n",
            "[LightGBM] [Warning] No further splits with positive gain, best gain: -inf\n",
            "[LightGBM] [Warning] No further splits with positive gain, best gain: -inf\n",
            "[LightGBM] [Warning] No further splits with positive gain, best gain: -inf\n",
            "[LightGBM] [Warning] No further splits with positive gain, best gain: -inf\n",
            "[LightGBM] [Warning] No further splits with positive gain, best gain: -inf\n",
            "[LightGBM] [Warning] No further splits with positive gain, best gain: -inf\n",
            "[LightGBM] [Warning] No further splits with positive gain, best gain: -inf\n",
            "[LightGBM] [Warning] No further splits with positive gain, best gain: -inf\n",
            "[LightGBM] [Warning] No further splits with positive gain, best gain: -inf\n",
            "[LightGBM] [Warning] No further splits with positive gain, best gain: -inf\n",
            "[LightGBM] [Warning] No further splits with positive gain, best gain: -inf\n",
            "[LightGBM] [Warning] No further splits with positive gain, best gain: -inf\n",
            "[LightGBM] [Warning] No further splits with positive gain, best gain: -inf\n",
            "[LightGBM] [Warning] No further splits with positive gain, best gain: -inf\n",
            "[LightGBM] [Warning] No further splits with positive gain, best gain: -inf\n",
            "[LightGBM] [Warning] No further splits with positive gain, best gain: -inf\n",
            "[LightGBM] [Warning] No further splits with positive gain, best gain: -inf\n",
            "[LightGBM] [Warning] No further splits with positive gain, best gain: -inf\n",
            "[LightGBM] [Warning] No further splits with positive gain, best gain: -inf\n",
            "[LightGBM] [Warning] No further splits with positive gain, best gain: -inf\n",
            "[LightGBM] [Warning] No further splits with positive gain, best gain: -inf\n",
            "[LightGBM] [Warning] No further splits with positive gain, best gain: -inf\n",
            "[LightGBM] [Warning] No further splits with positive gain, best gain: -inf\n",
            "[LightGBM] [Warning] No further splits with positive gain, best gain: -inf\n",
            "[LightGBM] [Warning] No further splits with positive gain, best gain: -inf\n",
            "[LightGBM] [Warning] No further splits with positive gain, best gain: -inf\n",
            "[LightGBM] [Warning] No further splits with positive gain, best gain: -inf\n",
            "[LightGBM] [Warning] No further splits with positive gain, best gain: -inf\n",
            "[LightGBM] [Warning] No further splits with positive gain, best gain: -inf\n",
            "[LightGBM] [Warning] No further splits with positive gain, best gain: -inf\n",
            "[LightGBM] [Warning] No further splits with positive gain, best gain: -inf\n",
            "[LightGBM] [Warning] No further splits with positive gain, best gain: -inf\n",
            "[LightGBM] [Warning] No further splits with positive gain, best gain: -inf\n",
            "[LightGBM] [Warning] No further splits with positive gain, best gain: -inf\n",
            "[LightGBM] [Warning] No further splits with positive gain, best gain: -inf\n",
            "[LightGBM] [Warning] No further splits with positive gain, best gain: -inf\n",
            "[100]\tvalid_0's multi_logloss: 0.37187\n",
            "{'boosting_type': 'gbdt', 'class_weight': None, 'colsample_bytree': 1.0, 'importance_type': 'split', 'learning_rate': 0.1, 'max_depth': 3, 'min_child_samples': 20, 'min_child_weight': 0.001, 'min_split_gain': 0.0, 'n_estimators': 100, 'n_jobs': None, 'num_leaves': 20, 'objective': 'multiclass', 'random_state': 123, 'reg_alpha': 0.0, 'reg_lambda': 0.0, 'subsample': 1.0, 'subsample_for_bin': 200000, 'subsample_freq': 0, 'min_data_in_leaf': 10, 'num_class': 3}\n"
          ]
        }
      ]
    },
    {
      "cell_type": "markdown",
      "source": [
        "##### Predictions and Evaluation for Final Model"
      ],
      "metadata": {
        "id": "9cvH3K9ot8Gr"
      }
    },
    {
      "cell_type": "code",
      "source": [
        "# Predictions and evaluation for final model\n",
        "yhat_train_final = final_model.predict_proba(X_train)\n",
        "yhat_test_final = final_model.predict_proba(X_test)\n",
        "yhat_train_final_pred = np.argmax(yhat_train_final, axis=1)\n",
        "yhat_test_final_pred = np.argmax(yhat_test_final, axis=1)\n",
        "\n",
        "# Calculate accuracy\n",
        "accuracy_train_final = accuracy_score(y_train, yhat_train_final_pred)\n",
        "accuracy_test_final = accuracy_score(y_test, yhat_test_final_pred)\n",
        "logloss_train_final = log_loss(y_train, yhat_train_final)\n",
        "logloss_test_final = log_loss(y_test, yhat_test_final)\n",
        "\n",
        "print(f\"Training Accuracy: {accuracy_train_final:.6f}\")\n",
        "print(f\"Test Accuracy: {accuracy_test_final:.6f}\")\n",
        "print(f\"Training Log Loss: {logloss_train_final:.6f}\")\n",
        "print(f\"Test Log Loss: {logloss_test_final:.6f}\")"
      ],
      "metadata": {
        "colab": {
          "base_uri": "https://localhost:8080/"
        },
        "id": "9qNY29UBuKo7",
        "outputId": "59fee5af-1110-47e5-8099-2a550ce242a7"
      },
      "execution_count": 31,
      "outputs": [
        {
          "output_type": "stream",
          "name": "stdout",
          "text": [
            "[LightGBM] [Warning] min_data_in_leaf is set=10, min_child_samples=20 will be ignored. Current value: min_data_in_leaf=10\n",
            "[LightGBM] [Warning] min_data_in_leaf is set=10, min_child_samples=20 will be ignored. Current value: min_data_in_leaf=10\n",
            "Training Accuracy: 0.837017\n",
            "Test Accuracy: 0.814917\n",
            "Training Log Loss: 0.317932\n",
            "Test Log Loss: 0.363238\n"
          ]
        }
      ]
    },
    {
      "cell_type": "markdown",
      "source": [
        "##### Variable Importance for Final Model"
      ],
      "metadata": {
        "id": "KvmMMBPHsSrT"
      }
    },
    {
      "cell_type": "code",
      "source": [
        "# Variable Importance for Final Model\n",
        "importance_final = final_model.feature_importances_\n",
        "feature_names = X_train.columns\n",
        "\n",
        "importance_final_df = pd.DataFrame({'Feature': feature_names, 'Gain': importance_final})\n",
        "importance_final_df = importance_final_df.sort_values(by='Gain', ascending=False)\n",
        "\n",
        "plt.figure(figsize=(8, 6))\n",
        "sns.barplot(x='Gain', y='Feature', data=importance_final_df, color='#1f77b4')\n",
        "plt.title(\"Final LightGBM Feature Importance (Gain)\")\n",
        "plt.xlabel(\"Gain\")\n",
        "plt.ylabel(\"Feature\")\n",
        "plt.tight_layout()\n",
        "plt.show()"
      ],
      "metadata": {
        "colab": {
          "base_uri": "https://localhost:8080/",
          "height": 607
        },
        "id": "dN6PFWRCuRpS",
        "outputId": "d846a7b0-1eb4-40c0-eb6d-55371d7765c7"
      },
      "execution_count": 32,
      "outputs": [
        {
          "output_type": "display_data",
          "data": {
            "text/plain": [
              "<Figure size 800x600 with 1 Axes>"
            ],
            "image/png": "[encoded data removed]"
          },
          "metadata": {}
        }
      ]
    },
    {
      "cell_type": "markdown",
      "metadata": {
        "id": "6dcd0686"
      },
      "source": [
        "## Summary and Conclusion\n",
        "\n",
        "This notebook provides a comprehensive overview and practical implementation of Light Gradient Boosting Machine (LightGBM) in Python. It begins by explaining the core concepts, key features, advantages, and limitations of LightGBM, including its histogram-based learning, leaf-wise tree growth, GOSS, and EFB techniques. A simple implementation of LightGBM from scratch is also presented to illustrate its fundamental workings.\n",
        "\n",
        "The notebook then demonstrates the application of LightGBM to both regression and classification tasks using real-world datasets: the California Housing dataset for regression and a health insurance dataset for classification. For each task, the process includes data preparation, training an initial LightGBM model, evaluating its performance, and importantly, performing hyperparameter tuning using GridSearchCV with cross-validation to find the optimal parameters. The final models are then trained with the best parameters and evaluated again to show the improvement in performance. Feature importance is also visualized for both the initial and final models to understand the contribution of different features.\n",
        "\n",
        "In conclusion, LightGBM is a powerful and efficient gradient boosting framework that excels in handling large datasets. While it offers significant speed and memory advantages over traditional GBM and even XGBoost, particularly its leaf-wise growth can lead to overfitting if not properly regularized. The practical examples in this notebook highlight the importance of hyperparameter tuning to achieve optimal performance and demonstrate how LightGBM can be effectively applied to solve both regression and classification problems."
      ]
    },
    {
      "cell_type": "markdown",
      "source": [
        "## References\n",
        "\n",
        "1.  **Kuhn, M., & Johnson, K. (2019). *Feature Engineering and Selection*. CRC Press.**\n",
        "    -   Covers gradient boosting and LightGBM applications in R.\n",
        "    -   [Amazon](https://www.amazon.com/Feature-Engineering-Selection-Practical-Predictive/dp/1138079227)\n",
        "2.  **Hastie, T., et al. (2009). *The Elements of Statistical Learning* (2nd ed.). Springer.**\n",
        "    -   Explains boosting theory behind LightGBM.\n",
        "    -   [Free PDF](https://web.stanford.edu/~hastie/ElemStatLearn/)\n",
        "3.  **Boehmke, B., & Greenwell, B. (2019). *Hands-On Machine Learning with R*. CRC Press.**\n",
        "    -   Practical LightGBM tutorials in R.\n",
        "    -   [CRC Press](https://www.crcpress.com/Hands-On-Machine-Learning-with-R/Boehmke-Greenwell/p/book/9781138495685)\n",
        "\n",
        "\n",
        "4. [LightGBM Documentation](https://lightgbm.readthedocs.io/)\n",
        "\n",
        "1.  **Ke, G., et al. (2017). LightGBM: A Highly Efficient Gradient Boosting Decision Tree. *NeurIPS*.**\n",
        "    -   Introduces LightGBM’s algorithms (GOSS, EFB).\n",
        "    -   [arXiv](https://arxiv.org/abs/1711.04289)\n",
        "2.  **Friedman, J. H. (2001). Greedy Function Approximation: A Gradient Boosting Machine. *Annals of Statistics*.**\n",
        "    -   Foundational gradient boosting theory.\n",
        "    -   [Stanford](https://statweb.stanford.edu/~jhf/ftp/trebst.pdf)\n",
        "3.  **Chen, T., & Guestrin, C. (2016). XGBoost: A Scalable Tree Boosting System. *KDD*.**\n",
        "    -   Context for LightGBM’s improvements over XGBoost.\n",
        "    -   [arXiv](https://arxiv.org/abs/1603.02754)\n",
        "\n",
        "\n",
        "\n"
      ],
      "metadata": {
        "id": "ACNQyq1seLc7"
      }
    }
  ]
}