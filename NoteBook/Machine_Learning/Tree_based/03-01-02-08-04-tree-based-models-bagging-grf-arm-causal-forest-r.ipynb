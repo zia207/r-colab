{
  "nbformat": 4,
  "nbformat_minor": 0,
  "metadata": {
    "colab": {
      "provenance": [],
      "toc_visible": true,
      "authorship_tag": "ABX9TyN8ZptWFwfaxmZ2HmsGN0R4",
      "include_colab_link": true
    },
    "kernelspec": {
      "name": "python3",
      "display_name": "Python 3"
    },
    "language_info": {
      "name": "python"
    }
  },
  "cells": [
    {
      "cell_type": "markdown",
      "metadata": {
        "id": "view-in-github",
        "colab_type": "text"
      },
      "source": [
        "<a href=\"https://colab.research.google.com/github/zia207/r-colab/blob/main/NoteBook/Machine_Learning/Tree_based/03-01-02-08-04-tree-based-models-bagging-grf-arm-causal-forest-r.ipynb\" target=\"_parent\"><img src=\"https://colab.research.google.com/assets/colab-badge.svg\" alt=\"Open In Colab\"/></a>"
      ]
    },
    {
      "cell_type": "markdown",
      "source": [
        "![alt text](http://drive.google.com/uc?export=view&id=1bLQ3nhDbZrCCqy_WCxxckOne2lgVvn3l)"
      ],
      "metadata": {
        "id": "zYZbTX0qQrZb"
      }
    },
    {
      "cell_type": "markdown",
      "source": [
        "# 2.8.4 Multi-arm/multi-outcome Causal Forest\n",
        "\n",
        "A **Multi-Arm/Multi-Outcome Causal Forest** is an extension of the **Causal Forest** framework designed to estimate heterogeneous treatment effects in scenarios with **multiple treatment arms** (e.g., different interventions) and/or **multiple outcome variables** simultaneously. It builds on random forest principles to provide flexible, data-driven estimates of causal effects across diverse subgroups, leveraging shared information across treatments or outcomes to improve accuracy. This approach is particularly useful in complex experimental designs, such as clinical trials with multiple drugs or policy evaluations with various interventions affecting multiple metrics."
      ],
      "metadata": {
        "id": "RGBfrL2GQoII"
      }
    },
    {
      "cell_type": "markdown",
      "source": [
        "## Overview\n",
        "\n",
        "A multi-arm/multi-outcome causal forest is an advanced A multi-arm/multi-outcome causal forest is an advanced machine learning method for estimating heterogeneous treatment effects (HTE) in settings with:\n",
        "\n",
        "-   `Multiple treatments (multi-arm)`: More than two possible interventions or choices, not just \"treatment\" and \"control\".\n",
        "\n",
        "-   `Multiple outcomes (multi-outcome)`: Several different outcome variables of interest, not just a single outcome.\n",
        "\n",
        "Estimates causal effects (treatment effects) for multiple treatments (arms) or multiple outcomes in a single model, accounting for heterogeneity across covariates (e.g., patient characteristics). It answers questions like: \"How does each treatment affect different outcomes across different subgroups?\" Handles multiple treatment options (e.g., drug A, drug B, placebo) instead of a single treatment vs. control.\n",
        "\n",
        "-   Use Cases:\n",
        "\n",
        "  -   Clinical trials comparing multiple drugs on multiple health outcomes.\n",
        "  -   Policy evaluation with several interventions and diverse impacts (e.g., education programs affecting test scores and attendance).\n",
        "  -   Marketing studies analyzing multiple campaign strategies on various customer metrics.\n",
        "\n"
      ],
      "metadata": {
        "id": "S77MsgmqIYD0"
      }
    },
    {
      "cell_type": "markdown",
      "source": [
        "### How It Work\n",
        "\n",
        "The Multi-Arm/Multi-Outcome Causal Forest builds on the **Generalized Random Forest (GRF)** framework, extending the Causal Forest algorithm (designed for single treatment/outcome) to handle multiple treatments and outcomes. Here’s a step-by-step explanation of its mechanics:\n",
        "\n",
        "1.  Data Setup\n",
        "\n",
        "  -   A dataset with:\n",
        "  -   Covariates $X$ (e.g., patient age, gender).\n",
        "  -   Treatment assignments $W$, where $W$ can take multiple values (e.g., 0 for control, 1 for treatment A, 2 for treatment B).\n",
        "  -   Multiple outcome variables $Y_1, Y_2, \\ldots, Y_k$ (e.g., different health metrics).\n",
        "\n",
        "2.  Tree Construction\n",
        "\n",
        "  -   `Splitting Rule`: Each tree in the forest splits the covariate space to maximize heterogeneity in treatment effects across all arms and outcomes. The splitting criterion optimizes a loss function that measures the quality of treatment effect estimates (e.g., variance of estimated effects).\n",
        "  -   `Multi-Arm`: For multiple treatments, the tree estimates treatment effects for each arm relative to a baseline (e.g., control) or pairwise differences.\n",
        "  -   `Multi-Outcome`: For multiple outcomes, the tree models correlations between outcomes, sharing information to improve estimation efficiency (e.g., using a joint loss function or covariance structure).\n",
        "  -   `Honest Splitting*` Uses separate data for splitting and estimation within each tree to reduce bias (a hallmark of GRF).\n",
        "\n",
        "3.  Treatment Effect Estimation\n",
        "\n",
        "  -   For each leaf node in a tree, the algorithm estimates treatment effects for each treatment arm and outcome using local observations.\n",
        "  -   `Multi-Arm`: Computes the effect of each treatment (e.g., $\\tau_j(X) = E[Y | W=j, X] - E[Y | W=0, X]$) for treatment $j$ vs. control).\n",
        "  -   `Multi-Outcome`: Estimates effects for each outcome (e.g., $\\tau_{j,k}(X)$ for treatment $j$ on outcome $k$), often modeling outcome correlations to improve precision.\n",
        "    -   Methods like local linear regression or moment-based estimation may be used within leaves to estimate effects.\n",
        "\n",
        "4.  Forest Aggregation\n",
        "\n",
        "  -   The forest averages predictions across many trees (typically hundreds or thousands) to produce robust estimates.\n",
        "  -   For a given covariate $X$, the forest outputs a vector of treatment effect estimates for each treatment arm and outcome, e.g., $\\hat{\\tau}(X) = [\\hat{\\tau}_{1,1}(X), \\hat{\\tau}_{1,2}(X), \\ldots, \\hat{\\tau}_{j,k}(X)]$.\n",
        "  -   Variance estimates are also provided to assess uncertainty.\n",
        "\n",
        "5.  Handling Complexity\n",
        "\n",
        "  -   `Multi-Arm`: The forest balances comparisons across multiple treatments, reducing overfitting by sharing information across arms.\n",
        "  -   `Multi-Outcome`: Leverages correlations between outcomes (e.g., via covariance weighting) to improve efficiency, especially when outcomes are related (e.g., systolic and diastolic blood pressure).\n",
        "  -   `Nuisance Parameters`: Estimates propensity scores (probability of receiving each treatment) or outcome regressions to adjust for confounding, often using separate forests for these nuisance functions.\n",
        "\n",
        "6.  Output:\n",
        "\n",
        "  -   For each individual (defined by covariates $X$, the model provides:\n",
        "        -   Estimated treatment effects for each treatment arm and outcome.\n",
        "        -   Confidence intervals or standard errors for uncertainty.\n",
        "    -   Visualizations or summaries of heterogeneous effects (e.g., which subgroups benefit most from a specific treatment).\n"
      ],
      "metadata": {
        "id": "VwEoykvwI2dS"
      }
    },
    {
      "cell_type": "markdown",
      "source": [
        "### Key Differences from Standard Causal Forest\n",
        "\n",
        "-   `Standard Causal Forest`: Handles one treatment (binary or continuous) and one outcome, estimating a single treatment effect per individual.\n",
        "-   `Multi-Arm/Multi-Outcome Causal Forest`:\n",
        "    -   Models multiple treatments (e.g., multiple drugs) and/or multiple outcomes (e.g., multiple health metrics).\n",
        "    -   Shares information across arms/outcomes to improve estimation efficiency.\n",
        "    -   Uses a joint objective function to optimize splits for all treatments and outcomes simultaneously.\n"
      ],
      "metadata": {
        "id": "A2tB_TxOs0nQ"
      }
    },
    {
      "cell_type": "markdown",
      "source": [
        "### Advantages\n",
        "\n",
        "-   Handles complex experiments with multiple treatments and outcomes.\n",
        "-   Captures heterogeneity in treatment effects across subgroups.\n",
        "-   Robust to non-linear relationships and high-dimensional covariates.\n",
        "-   Improves efficiency by sharing information across arms/outcomes.\n"
      ],
      "metadata": {
        "id": "bIBhNo81s-Nt"
      }
    },
    {
      "cell_type": "markdown",
      "source": [
        "### Limitations\n",
        "\n",
        "-   Requires sufficient sample size for each treatment arm and outcome.\n",
        "-   Assumes unconfoundedness (no unmeasured confounders) unless combined with other methods (e.g., instrumental variables).\n",
        "-   Computationally intensive for large datasets or many outcomes.\n",
        "-   Interpretability can be challenging due to complex output (multiple effects per individual)."
      ],
      "metadata": {
        "id": "aT54GhcZvKS_"
      }
    },
    {
      "cell_type": "markdown",
      "source": [
        "## Setup R in Python Runtype"
      ],
      "metadata": {
        "id": "Bn4w4oqMCagF"
      }
    },
    {
      "cell_type": "markdown",
      "source": [
        "### Install {rpy2}\n",
        "\n",
        "{rpy2} is a Python package that provides an interface to the R programming language, allowing Python users to run R code, call R functions, and manipulate R objects directly from Python. It enables seamless integration between Python and R, leveraging R's statistical and graphical capabilities while using Python's flexibility. The package supports passing data between the two languages and is widely used for statistical analysis, data visualization, and machine learning tasks that benefit from R's specialized libraries."
      ],
      "metadata": {
        "id": "yerTCtKKCmik"
      }
    },
    {
      "cell_type": "code",
      "source": [
        "!pip uninstall rpy2 -y\n",
        "!pip install rpy2==3.5.1\n",
        "%load_ext rpy2.ipython"
      ],
      "metadata": {
        "colab": {
          "base_uri": "https://localhost:8080/"
        },
        "id": "OqeCyNf0Crlc",
        "outputId": "dcbe7fdf-216b-40a2-c5ab-7e7f622caad5"
      },
      "execution_count": 2,
      "outputs": [
        {
          "output_type": "stream",
          "name": "stdout",
          "text": [
            "Found existing installation: rpy2 3.5.1\n",
            "Uninstalling rpy2-3.5.1:\n",
            "  Successfully uninstalled rpy2-3.5.1\n",
            "Collecting rpy2==3.5.1\n",
            "  Using cached rpy2-3.5.1-cp311-cp311-linux_x86_64.whl\n",
            "Requirement already satisfied: cffi>=1.10.0 in /usr/local/lib/python3.11/dist-packages (from rpy2==3.5.1) (1.17.1)\n",
            "Requirement already satisfied: jinja2 in /usr/local/lib/python3.11/dist-packages (from rpy2==3.5.1) (3.1.6)\n",
            "Requirement already satisfied: pytz in /usr/local/lib/python3.11/dist-packages (from rpy2==3.5.1) (2025.2)\n",
            "Requirement already satisfied: tzlocal in /usr/local/lib/python3.11/dist-packages (from rpy2==3.5.1) (5.3.1)\n",
            "Requirement already satisfied: pycparser in /usr/local/lib/python3.11/dist-packages (from cffi>=1.10.0->rpy2==3.5.1) (2.22)\n",
            "Requirement already satisfied: MarkupSafe>=2.0 in /usr/local/lib/python3.11/dist-packages (from jinja2->rpy2==3.5.1) (3.0.2)\n",
            "Installing collected packages: rpy2\n",
            "Successfully installed rpy2-3.5.1\n"
          ]
        }
      ]
    },
    {
      "cell_type": "markdown",
      "source": [
        "### Mount Google Drive"
      ],
      "metadata": {
        "id": "vOzGUgYCCyqg"
      }
    },
    {
      "cell_type": "code",
      "source": [
        "from google.colab import drive\n",
        "drive.mount('/content/drive')"
      ],
      "metadata": {
        "colab": {
          "base_uri": "https://localhost:8080/"
        },
        "id": "_lngQQKKC2lc",
        "outputId": "9556f410-4864-4cf3-ba8a-04b92dc9a5cc"
      },
      "execution_count": 1,
      "outputs": [
        {
          "output_type": "stream",
          "name": "stdout",
          "text": [
            "Drive already mounted at /content/drive; to attempt to forcibly remount, call drive.mount(\"/content/drive\", force_remount=True).\n"
          ]
        }
      ]
    },
    {
      "cell_type": "markdown",
      "source": [
        "## Multi-arm/multi-outcome Causal Forestt with R\n",
        "\n",
        "This tutorial demonstrates how to implement a **multi-arm/multi-outcome causal forest** in R using the `{grf}` package. The example uses the `lung` dataset from the `{survival}` package, simulating a multi-arm treatment scenario with multiple outcomes.\n",
        "\n"
      ],
      "metadata": {
        "id": "bh7jEhGCLDZA"
      }
    },
    {
      "cell_type": "markdown",
      "source": [
        "### Load and Check Required Libraries"
      ],
      "metadata": {
        "id": "RlLmnBj77AMx"
      }
    },
    {
      "cell_type": "code",
      "source": [
        "%%R\n",
        "packages <- c('tidyverse',\n",
        "              'plyr',\n",
        "              'grf',\n",
        "              'survival',\n",
        "              'mlbench',\n",
        "              'Metrics')"
      ],
      "metadata": {
        "id": "9rXvjfapLYED"
      },
      "execution_count": 3,
      "outputs": []
    },
    {
      "cell_type": "markdown",
      "source": [
        "### Install Missing Packages"
      ],
      "metadata": {
        "id": "MDwlBWYYLc1e"
      }
    },
    {
      "cell_type": "code",
      "source": [
        "%%R\n",
        "# Install missing packages\n",
        "new.packages <- packages[!(packages %in% installed.packages(lib='drive/My Drive/R/')[,\"Package\"])]\n",
        "if(length(new.packages)) install.packages(new.packages, lib='drive/My Drive/R/')"
      ],
      "metadata": {
        "id": "PWzWe7xULb2L"
      },
      "execution_count": null,
      "outputs": []
    },
    {
      "cell_type": "markdown",
      "source": [
        "### Verify Installation"
      ],
      "metadata": {
        "id": "HM3Bl4-PLfFF"
      }
    },
    {
      "cell_type": "code",
      "source": [
        "%%R\n",
        "# set library path\n",
        ".libPaths('drive/My Drive/R')\n",
        "# Verify installation\n",
        "cat(\"Installed packages:\\n\")\n",
        "print(sapply(packages, requireNamespace, quietly = TRUE))"
      ],
      "metadata": {
        "colab": {
          "base_uri": "https://localhost:8080/"
        },
        "id": "pHr9zUJvLfNl",
        "outputId": "0c74d93b-568c-492c-b4a2-3bd79ff69889"
      },
      "execution_count": null,
      "outputs": [
        {
          "output_type": "stream",
          "name": "stdout",
          "text": [
            "Installed packages:\n",
            "tidyverse      plyr       grf  survival   mlbench   Metrics \n",
            "     TRUE      TRUE      TRUE      TRUE      TRUE      TRUE \n"
          ]
        }
      ]
    },
    {
      "cell_type": "markdown",
      "source": [
        "### Load R Packages"
      ],
      "metadata": {
        "id": "2cPLFz1GLlRD"
      }
    },
    {
      "cell_type": "code",
      "source": [
        "%%R\n",
        "# set library path\n",
        ".libPaths('drive/My Drive/R')\n",
        "# Load packages with suppressed messages\n",
        "invisible(lapply(packages, function(pkg) {\n",
        "  suppressPackageStartupMessages(library(pkg, character.only = TRUE))\n",
        "}))\n"
      ],
      "metadata": {
        "id": "jIlm0D69x_70"
      },
      "execution_count": 4,
      "outputs": []
    },
    {
      "cell_type": "markdown",
      "source": [
        "### Check Loaded Packages"
      ],
      "metadata": {
        "id": "AH4vKW2yL1OF"
      }
    },
    {
      "cell_type": "code",
      "source": [
        "%%R\n",
        "# Check loaded packages\n",
        "cat(\"Successfully loaded packages:\\n\")\n",
        "print(search()[grepl(\"package:\", search())])# Check loaded packageswer)"
      ],
      "metadata": {
        "colab": {
          "base_uri": "https://localhost:8080/"
        },
        "id": "Du3QbdUeL1Yw",
        "outputId": "65fcf1d8-2971-473c-c492-854b0541954f"
      },
      "execution_count": null,
      "outputs": [
        {
          "output_type": "stream",
          "name": "stdout",
          "text": [
            "Successfully loaded packages:\n",
            " [1] \"package:Metrics\"   \"package:mlbench\"   \"package:survival\" \n",
            " [4] \"package:grf\"       \"package:plyr\"      \"package:lubridate\"\n",
            " [7] \"package:forcats\"   \"package:stringr\"   \"package:dplyr\"    \n",
            "[10] \"package:purrr\"     \"package:readr\"     \"package:tidyr\"    \n",
            "[13] \"package:tibble\"    \"package:ggplot2\"   \"package:tidyverse\"\n",
            "[16] \"package:tools\"     \"package:stats\"     \"package:graphics\" \n",
            "[19] \"package:grDevices\" \"package:utils\"     \"package:datasets\" \n",
            "[22] \"package:methods\"   \"package:base\"     \n"
          ]
        }
      ]
    },
    {
      "cell_type": "markdown",
      "source": [
        "### Load and Prepare the Lung Dataset\n",
        "\n",
        "The lung dataset includes survival data for lung cancer patients. Since lung lacks a treatment variable and multiple outcomes, we:\n",
        "\n",
        "-   Simulates a multi-arm `treatment` variable with three levels: `placebo`, `A`, and `B` and Assigns probabilities (40% placebo, 30% A, 30% B) for each treatment.\n",
        "\n",
        "-   Simulates a binary secondary outcome (e.g., `health_status`, 1 = yes, 0 = no) with treatment-dependent probabilities.\n",
        "\n",
        "-   Use log-transformed survival time (`log_time`) as the primary outcome to ensure numerical stability\n"
      ],
      "metadata": {
        "id": "IPobetr0zFC5"
      }
    },
    {
      "cell_type": "code",
      "source": [
        "%%R\n",
        "\n",
        "# Load and modify the lung data\n",
        "data(lung, package = \"survival\")\n",
        "lung_data <- lung %>%\n",
        "  dplyr::filter(!is.na(age), !is.na(sex), !is.na(ph.ecog)) %>%\n",
        "  dplyr::mutate(\n",
        "    treatment = as.factor(sample(c(\"placebo\", \"A\", \"B\"), n(), replace = TRUE, prob = c(0.4, 0.3, 0.3))),\n",
        "    health_status = rbinom(n(), 1, prob = 0.3 + 0.1 * (treatment == \"A\") + 0.15 * (treatment == \"B\")),\n",
        "    log_time = log(time)\n",
        "  )\n",
        "\n",
        "# Define covariates, treatment, and outcomes\n",
        "X <- lung_data %>% select(age, sex, ph.ecog) %>% as.matrix()\n",
        "W <- lung_data$treatment\n",
        "Y <- lung_data %>% select(log_time, health_status) %>% as.matrix()\n",
        "colnames(Y) <- c(\"log_time\", \"health_status\")\n",
        "\n",
        "# Split into training and test sets\n",
        "set.seed(123)\n",
        "n <- nrow(lung_data)\n",
        "train_idx <- sample(1:n, size = 0.8 * n)\n",
        "test_idx <- setdiff(1:n, train_idx)\n",
        "X_train <- X[train_idx, ]\n",
        "X_test <- X[test_idx, ]\n",
        "W_train <- W[train_idx]\n",
        "W_test <- W[test_idx]\n",
        "Y_train <- Y[train_idx, ]\n",
        "Y_test <- Y[test_idx, ]"
      ],
      "metadata": {
        "id": "RmfGVScmzF8P"
      },
      "execution_count": 5,
      "outputs": []
    },
    {
      "cell_type": "markdown",
      "source": [
        "### Train the Multi-arm/Multi-outcome Causal Forest\n",
        "\n",
        "Since we have multiple treatment arms (\"placebo\", \"A\", \"B\") and multiple outcomes (log_time and health_status), and the grf package’s `multi_arm_causal_forest` function is designed for multiple treatments but a single outcome, we fit a separate model for each outcome.\n"
      ],
      "metadata": {
        "id": "IYYxCKtVtO-I"
      }
    },
    {
      "cell_type": "code",
      "source": [
        "%%R\n",
        "macf_log_time <- multi_arm_causal_forest(X = X_train,\n",
        "                                         Y = Y_train[, \"log_time\"],\n",
        "                                         W = W_train)\n",
        "macf_health_status <- multi_arm_causal_forest(X = X_train,\n",
        "                                              Y = Y_train[, \"health_status\"],\n",
        "                                              W = W_train)"
      ],
      "metadata": {
        "id": "jbX9jRGczLuL"
      },
      "execution_count": 6,
      "outputs": []
    },
    {
      "cell_type": "markdown",
      "source": [
        "### Predict on the test data set"
      ],
      "metadata": {
        "id": "2KI7kD5R0Qa9"
      }
    },
    {
      "cell_type": "code",
      "source": [
        "%%R\n",
        "# Predict treatment effects\n",
        "# Predict treatment effects on the test set\n",
        "tau_hat_log_time <- predict(macf_log_time, newdata = X_test)\n",
        "tau_hat_health_status <- predict(macf_health_status, newdata = X_test)\n"
      ],
      "metadata": {
        "id": "JipnL_6X0RJl"
      },
      "execution_count": 7,
      "outputs": []
    },
    {
      "cell_type": "markdown",
      "source": [
        "### Calculate Doubly Robust Average Treatment Effects (AIPW)\n",
        "\n",
        "We compute the average treatment effects (ATE) for each arm relative to \"placebo\" using the doubly robust Augmented Inverse Propensity Weighting (AIPW) method provided by {grf}."
      ],
      "metadata": {
        "id": "7KgHx7kY9EEg"
      }
    },
    {
      "cell_type": "code",
      "source": [
        "%%R\n",
        "# Calculate ATE for log_time\n",
        "ate_log_time <- average_treatment_effect(macf_log_time)\n",
        "\n",
        "# Calculate ATE for health_status\n",
        "ate_health_status <- average_treatment_effect(macf_health_status)\n",
        "\n",
        "# Display the results\n",
        "print(\"Average Treatment Effects for log_time:\")\n",
        "print(ate_log_time)\n",
        "print(\"Average Treatment Effects for health_status:\")\n",
        "print(ate_health_status)"
      ],
      "metadata": {
        "colab": {
          "base_uri": "https://localhost:8080/"
        },
        "id": "m0vovr-CfwBZ",
        "outputId": "fe0f2062-3141-43bb-96b4-a4361d1494ae"
      },
      "execution_count": 8,
      "outputs": [
        {
          "output_type": "stream",
          "name": "stdout",
          "text": [
            "[1] \"Average Treatment Effects for log_time:\"\n",
            "             estimate   std.err    contrast outcome\n",
            "B - A       0.1989833 0.1810029       B - A     Y.1\n",
            "placebo - A 0.2795492 0.1632889 placebo - A     Y.1\n",
            "[1] \"Average Treatment Effects for health_status:\"\n",
            "                estimate    std.err    contrast outcome\n",
            "B - A        0.186669013 0.10536635       B - A     Y.1\n",
            "placebo - A -0.006616357 0.09235602 placebo - A     Y.1\n"
          ]
        }
      ]
    },
    {
      "cell_type": "markdown",
      "source": [
        "### Plot Variable Importance\n",
        "\n",
        "Finally, we plot the importance of each covariate (age, sex, ph.ecog) for each outcome using ggplot2."
      ],
      "metadata": {
        "id": "6Uc9PcoOgJjF"
      }
    },
    {
      "cell_type": "markdown",
      "source": [
        "#### log_time Outcome"
      ],
      "metadata": {
        "id": "JMqfawAH9OCx"
      }
    },
    {
      "cell_type": "code",
      "source": [
        "%%R\n",
        "# Variable importance for log_time\n",
        "var_imp_log_time <- variable_importance(macf_log_time)\n",
        "var_imp_df_log_time <- data.frame(\n",
        "  Variable = colnames(X),\n",
        "  Importance = var_imp_log_time\n",
        ")\n",
        "\n",
        "ggplot(var_imp_df_log_time, aes(x = reorder(Variable, Importance), y = Importance)) +\n",
        "  geom_bar(stat = \"identity\") +\n",
        "  coord_flip() +\n",
        "  labs(title = \"Variable Importance for log_time\", x = \"Variable\", y = \"Importance\") +\n",
        "  theme_minimal()"
      ],
      "metadata": {
        "colab": {
          "base_uri": "https://localhost:8080/",
          "height": 497
        },
        "id": "y2LLqsOhgJqM",
        "outputId": "bccc5853-d9f0-4450-f9cf-9fd5c30d5145"
      },
      "execution_count": 9,
      "outputs": [
        {
          "output_type": "display_data",
          "data": {
            "image/png": "[encoded data removed]"
          },
          "metadata": {}
        }
      ]
    },
    {
      "cell_type": "markdown",
      "source": [
        "#### Health_status Outcome"
      ],
      "metadata": {
        "id": "9225nTjc9VJz"
      }
    },
    {
      "cell_type": "code",
      "source": [
        "%%R\n",
        "# Variable importance for health_status\n",
        "var_imp_health_status <- variable_importance(macf_health_status)\n",
        "var_imp_df_health_status <- data.frame(\n",
        "  Variable = colnames(X),\n",
        "  Importance = var_imp_health_status\n",
        ")\n",
        "\n",
        "ggplot(var_imp_df_health_status, aes(x = reorder(Variable, Importance), y = Importance)) +\n",
        "  geom_bar(stat = \"identity\") +\n",
        "  coord_flip() +\n",
        "  labs(title = \"Variable Importance for health_status\", x = \"Variable\", y = \"Importance\") +\n",
        "  theme_minimal()"
      ],
      "metadata": {
        "colab": {
          "base_uri": "https://localhost:8080/",
          "height": 497
        },
        "id": "04QVrhr19V9R",
        "outputId": "c739621f-a707-495f-a5e0-0eb54b3643f8"
      },
      "execution_count": 10,
      "outputs": [
        {
          "output_type": "display_data",
          "data": {
            "image/png": "[encoded data removed]"
          },
          "metadata": {}
        }
      ]
    },
    {
      "cell_type": "markdown",
      "source": [
        "## Summary and Conclusion\n",
        "\n",
        "A Multi-arm/Multi-outcome Causal Forest was applied to the Lung dataset to estimate treatment effects on survival time and health status across three treatment arms: placebo, A, and B. Doubly robust ATEs were computed using AIPW, and variable importance plots identified key covariates like age and sex.\n",
        "\n",
        "Multi-arm/multi-outcome causal forests are powerful tools for estimating heterogeneous treatment effects in complex settings with multiple treatments and outcomes. By leveraging the flexibility of random forests, they provide robust estimates that account for individual differences and correlations between outcomes. This approach is particularly useful in fields like healthcare, policy evaluation, and marketing, where understanding the nuanced effects of different interventions is crucial. This tutorial demonstrated how to implement a multi-arm/multi-outcome causal forest in R, using the `{grf}` package to analyze treatment effects on multiple outcomes simultaneously. This approach allows researchers to gain deeper insights into the effectiveness of various interventions across diverse populations and outcomes, ultimately leading to more informed decision-making."
      ],
      "metadata": {
        "id": "_j759RVMQMut"
      }
    },
    {
      "cell_type": "markdown",
      "source": [
        "## References\n",
        "\n",
        "1.  Wager, S., & Athey, S. (2018). Estimation and Inference of Heterogeneous Treatment Effects using Random Forests. JASA.\n",
        "\n",
        "2.  Athey, S., Tibshirani, J., & Wager, S. (2019). Generalized Random Forests. Ann. Statist.\n",
        "\n",
        "3.  Multi-arm/multi-outcome implementation available in grf R package"
      ],
      "metadata": {
        "id": "SaZTnZx3QPGI"
      }
    }
  ]
}